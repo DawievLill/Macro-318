{
 "cells": [
  {
   "cell_type": "markdown",
   "metadata": {
    "slideshow": {
     "slide_type": "slide"
    }
   },
   "source": [
    "# <span style=\"color:#2c061f\"> Macro 318: Lecture 4 - 6 / Tutorial 2 </span>  \n",
    "\n",
    "<br>\n",
    "\n",
    "## <span style=\"color:#374045\"> Data, Stats and Math with Julia </span>\n",
    "\n",
    "\n",
    "#### <span style=\"color:#374045\"> Lecturer: </span> <span style=\"color:#d89216\"> <br> Dawie van Lill (dvanlill@sun.ac.za) </span>"
   ]
  },
  {
   "cell_type": "markdown",
   "metadata": {
    "slideshow": {
     "slide_type": "slide"
    }
   },
   "source": [
    "# Introduction\n",
    "\n",
    "For this lecture you can focus on the mathematics and data manipulations. \n",
    "\n",
    "The code is there to help you better understand the math and statistics. \n",
    "\n",
    "You do not need to understand all of the code!\n",
    "\n",
    "I will indicate which code components are important. "
   ]
  },
  {
   "cell_type": "code",
   "execution_count": 2,
   "metadata": {
    "slideshow": {
     "slide_type": "skip"
    }
   },
   "outputs": [
    {
     "name": "stderr",
     "output_type": "stream",
     "text": [
      "\u001b[32m\u001b[1m    Updating\u001b[22m\u001b[39m registry at `~/.julia/registries/General.toml`\n",
      "\u001b[32m\u001b[1m   Resolving\u001b[22m\u001b[39m package versions...\n",
      "┌ Warning: The active manifest file at `/home/dawie/Dropbox/2022/318-macro/git/Macro-318/Manifest.toml` has an old format that is being maintained.\n",
      "│ To update to the new format run `Pkg.upgrade_manifest()` which will upgrade the format without re-resolving.\n",
      "└ @ Pkg.Types /buildworker/worker/package_linux64/build/usr/share/julia/stdlib/v1.7/Pkg/src/manifest.jl:287\n",
      "\u001b[32m\u001b[1m  No Changes\u001b[22m\u001b[39m to `~/Dropbox/2022/318-macro/git/Macro-318/Project.toml`\n",
      "\u001b[32m\u001b[1m  No Changes\u001b[22m\u001b[39m to `~/Dropbox/2022/318-macro/git/Macro-318/Manifest.toml`\n",
      "┌ Warning: The active manifest file is an older format with no julia version entry. Dependencies may have been resolved with a different julia version.\n",
      "└ @ nothing /home/dawie/Dropbox/2022/318-macro/git/Macro-318/Manifest.toml:0\n",
      "\u001b[32m\u001b[1m   Resolving\u001b[22m\u001b[39m package versions...\n",
      "\u001b[32m\u001b[1m  No Changes\u001b[22m\u001b[39m to `~/Dropbox/2022/318-macro/git/Macro-318/Project.toml`\n",
      "\u001b[32m\u001b[1m  No Changes\u001b[22m\u001b[39m to `~/Dropbox/2022/318-macro/git/Macro-318/Manifest.toml`\n",
      "\u001b[32m\u001b[1m   Resolving\u001b[22m\u001b[39m package versions...\n",
      "\u001b[32m\u001b[1m  No Changes\u001b[22m\u001b[39m to `~/Dropbox/2022/318-macro/git/Macro-318/Project.toml`\n",
      "\u001b[32m\u001b[1m  No Changes\u001b[22m\u001b[39m to `~/Dropbox/2022/318-macro/git/Macro-318/Manifest.toml`\n",
      "\u001b[32m\u001b[1m   Resolving\u001b[22m\u001b[39m package versions...\n",
      "\u001b[32m\u001b[1m  No Changes\u001b[22m\u001b[39m to `~/Dropbox/2022/318-macro/git/Macro-318/Project.toml`\n",
      "\u001b[32m\u001b[1m  No Changes\u001b[22m\u001b[39m to `~/Dropbox/2022/318-macro/git/Macro-318/Manifest.toml`\n",
      "\u001b[32m\u001b[1m   Resolving\u001b[22m\u001b[39m package versions...\n",
      "\u001b[32m\u001b[1m  No Changes\u001b[22m\u001b[39m to `~/Dropbox/2022/318-macro/git/Macro-318/Project.toml`\n",
      "\u001b[32m\u001b[1m  No Changes\u001b[22m\u001b[39m to `~/Dropbox/2022/318-macro/git/Macro-318/Manifest.toml`\n",
      "\u001b[32m\u001b[1m   Resolving\u001b[22m\u001b[39m package versions...\n",
      "\u001b[32m\u001b[1m  No Changes\u001b[22m\u001b[39m to `~/Dropbox/2022/318-macro/git/Macro-318/Project.toml`\n",
      "\u001b[32m\u001b[1m  No Changes\u001b[22m\u001b[39m to `~/Dropbox/2022/318-macro/git/Macro-318/Manifest.toml`\n",
      "\u001b[32m\u001b[1m   Resolving\u001b[22m\u001b[39m package versions...\n",
      "\u001b[32m\u001b[1m  No Changes\u001b[22m\u001b[39m to `~/Dropbox/2022/318-macro/git/Macro-318/Project.toml`\n",
      "\u001b[32m\u001b[1m  No Changes\u001b[22m\u001b[39m to `~/Dropbox/2022/318-macro/git/Macro-318/Manifest.toml`\n",
      "\u001b[32m\u001b[1m   Resolving\u001b[22m\u001b[39m package versions...\n",
      "\u001b[32m\u001b[1m  No Changes\u001b[22m\u001b[39m to `~/Dropbox/2022/318-macro/git/Macro-318/Project.toml`\n",
      "\u001b[32m\u001b[1m  No Changes\u001b[22m\u001b[39m to `~/Dropbox/2022/318-macro/git/Macro-318/Manifest.toml`\n",
      "\u001b[32m\u001b[1m   Resolving\u001b[22m\u001b[39m package versions...\n",
      "\u001b[32m\u001b[1m  No Changes\u001b[22m\u001b[39m to `~/Dropbox/2022/318-macro/git/Macro-318/Project.toml`\n",
      "\u001b[32m\u001b[1m  No Changes\u001b[22m\u001b[39m to `~/Dropbox/2022/318-macro/git/Macro-318/Manifest.toml`\n",
      "\u001b[32m\u001b[1m   Resolving\u001b[22m\u001b[39m package versions...\n",
      "\u001b[32m\u001b[1m  No Changes\u001b[22m\u001b[39m to `~/Dropbox/2022/318-macro/git/Macro-318/Project.toml`\n",
      "\u001b[32m\u001b[1m  No Changes\u001b[22m\u001b[39m to `~/Dropbox/2022/318-macro/git/Macro-318/Manifest.toml`\n",
      "\u001b[32m\u001b[1m   Resolving\u001b[22m\u001b[39m package versions...\n",
      "\u001b[32m\u001b[1m  No Changes\u001b[22m\u001b[39m to `~/Dropbox/2022/318-macro/git/Macro-318/Project.toml`\n",
      "\u001b[32m\u001b[1m  No Changes\u001b[22m\u001b[39m to `~/Dropbox/2022/318-macro/git/Macro-318/Manifest.toml`\n",
      "\u001b[32m\u001b[1m   Resolving\u001b[22m\u001b[39m package versions...\n",
      "\u001b[32m\u001b[1m  No Changes\u001b[22m\u001b[39m to `~/Dropbox/2022/318-macro/git/Macro-318/Project.toml`\n",
      "\u001b[32m\u001b[1m  No Changes\u001b[22m\u001b[39m to `~/Dropbox/2022/318-macro/git/Macro-318/Manifest.toml`\n",
      "\u001b[32m\u001b[1m   Resolving\u001b[22m\u001b[39m package versions...\n",
      "\u001b[32m\u001b[1m  No Changes\u001b[22m\u001b[39m to `~/Dropbox/2022/318-macro/git/Macro-318/Project.toml`\n",
      "\u001b[32m\u001b[1m  No Changes\u001b[22m\u001b[39m to `~/Dropbox/2022/318-macro/git/Macro-318/Manifest.toml`\n",
      "\u001b[32m\u001b[1m   Resolving\u001b[22m\u001b[39m package versions...\n",
      "\u001b[32m\u001b[1m  No Changes\u001b[22m\u001b[39m to `~/Dropbox/2022/318-macro/git/Macro-318/Project.toml`\n",
      "\u001b[32m\u001b[1m  No Changes\u001b[22m\u001b[39m to `~/Dropbox/2022/318-macro/git/Macro-318/Manifest.toml`\n",
      "\u001b[32m\u001b[1m   Resolving\u001b[22m\u001b[39m package versions...\n",
      "\u001b[32m\u001b[1m  No Changes\u001b[22m\u001b[39m to `~/Dropbox/2022/318-macro/git/Macro-318/Project.toml`\n",
      "\u001b[32m\u001b[1m  No Changes\u001b[22m\u001b[39m to `~/Dropbox/2022/318-macro/git/Macro-318/Manifest.toml`\n",
      "\u001b[32m\u001b[1m   Resolving\u001b[22m\u001b[39m package versions...\n",
      "\u001b[32m\u001b[1m  No Changes\u001b[22m\u001b[39m to `~/Dropbox/2022/318-macro/git/Macro-318/Project.toml`\n",
      "\u001b[32m\u001b[1m  No Changes\u001b[22m\u001b[39m to `~/Dropbox/2022/318-macro/git/Macro-318/Manifest.toml`\n",
      "\u001b[32m\u001b[1m   Resolving\u001b[22m\u001b[39m package versions...\n",
      "\u001b[32m\u001b[1m  No Changes\u001b[22m\u001b[39m to `~/Dropbox/2022/318-macro/git/Macro-318/Project.toml`\n",
      "\u001b[32m\u001b[1m  No Changes\u001b[22m\u001b[39m to `~/Dropbox/2022/318-macro/git/Macro-318/Manifest.toml`\n"
     ]
    }
   ],
   "source": [
    "# Packages\n",
    "import Pkg\n",
    "\n",
    "Pkg.add(\"CategoricalArrays\")\n",
    "Pkg.add(\"CSV\")\n",
    "Pkg.add(\"DataFrames\")\n",
    "Pkg.add(\"DataFramesMeta\")\n",
    "Pkg.add(\"Downloads\")\n",
    "Pkg.add(\"ForwardDiff\")\n",
    "Pkg.add(\"GLM\")\n",
    "Pkg.add(\"LinearAlgebra\")\n",
    "Pkg.add(\"Plots\")\n",
    "Pkg.add(\"Random\")\n",
    "Pkg.add(\"RDatasets\")\n",
    "Pkg.add(\"Roots\")\n",
    "Pkg.add(\"ShiftedArrays\")\n",
    "Pkg.add(\"SparseArrays\")\n",
    "Pkg.add(\"Statistics\")\n",
    "Pkg.add(\"Symbolics\")\n",
    "Pkg.add(\"Zygote\")\n",
    "\n",
    "using CategoricalArrays\n",
    "using CSV\n",
    "using DataFrames\n",
    "using DataFramesMeta\n",
    "using Downloads\n",
    "using ForwardDiff\n",
    "using GLM\n",
    "using LinearAlgebra\n",
    "using Plots\n",
    "using Random\n",
    "using RDatasets\n",
    "using Roots\n",
    "using ShiftedArrays\n",
    "using SparseArrays\n",
    "using Statistics\n",
    "using Symbolics\n",
    "using Zygote"
   ]
  },
  {
   "cell_type": "code",
   "execution_count": 3,
   "metadata": {
    "slideshow": {
     "slide_type": "skip"
    }
   },
   "outputs": [],
   "source": [
    "ENV[\"LINES\"] = 10; # set the max number of lines that will be printed\n",
    "ENV[\"COLUMNS\"] = 100; # set the max number of columns that will be printed"
   ]
  },
  {
   "cell_type": "markdown",
   "metadata": {
    "slideshow": {
     "slide_type": "slide"
    }
   },
   "source": [
    "# Packages"
   ]
  },
  {
   "cell_type": "code",
   "execution_count": null,
   "metadata": {
    "slideshow": {
     "slide_type": "fragment"
    }
   },
   "outputs": [],
   "source": [
    "# Packages for this lecture\n",
    "\n",
    "using CategoricalArrays\n",
    "using CSV\n",
    "using DataFrames\n",
    "using DataFramesMeta\n",
    "using Downloads\n",
    "using ForwardDiff\n",
    "using GLM\n",
    "using LinearAlgebra\n",
    "using Plots\n",
    "using Random\n",
    "using RDatasets\n",
    "using Roots\n",
    "using ShiftedArrays\n",
    "using SparseArrays\n",
    "using Statistics\n",
    "using Symbolics\n",
    "using Zygote"
   ]
  },
  {
   "cell_type": "markdown",
   "metadata": {
    "slideshow": {
     "slide_type": "slide"
    }
   },
   "source": [
    "# DataFrames\n",
    "\n",
    "In this section we discuss basic principles from the `DataFrames.jl` package. \n",
    "\n",
    "For the first topic we look at how to construct and access DataFrames. \n",
    "\n",
    "The fundamental object that we care about is the `DataFrame`. \n",
    "\n",
    "This is similar to a `dataframe` that you would find in R or in Pandas (Python).\n",
    "\n",
    "DataFrames are essentially matrices, with the rows being observations and the columns indicating the variables. "
   ]
  },
  {
   "cell_type": "markdown",
   "metadata": {
    "slideshow": {
     "slide_type": "slide"
    }
   },
   "source": [
    "## Constructors\n",
    "\n",
    "The easiest thing to construct is an empty DataFrame. "
   ]
  },
  {
   "cell_type": "code",
   "execution_count": 4,
   "metadata": {
    "slideshow": {
     "slide_type": "fragment"
    }
   },
   "outputs": [
    {
     "data": {
      "text/html": [
       "<div class=\"data-frame\"><p>0 rows × 0 columns</p><table class=\"data-frame\"><thead><tr><th></th></tr><tr><th></th></tr></thead><tbody></tbody></table></div>"
      ],
      "text/latex": [
       "\\begin{tabular}{r|}\n",
       "\t& \\\\\n",
       "\t\\hline\n",
       "\t& \\\\\n",
       "\t\\hline\n",
       "\\end{tabular}\n"
      ],
      "text/plain": [
       "\u001b[1m0×0 DataFrame\u001b[0m"
      ]
     },
     "execution_count": 4,
     "metadata": {},
     "output_type": "execute_result"
    }
   ],
   "source": [
    "DataFrame() # empty DataFrame"
   ]
  },
  {
   "cell_type": "markdown",
   "metadata": {
    "slideshow": {
     "slide_type": "slide"
    }
   },
   "source": [
    "## Constructors\n",
    "\n",
    "You could also construct a DataFrame with different keyword arguments. \n",
    "\n",
    "Notice the different types of the different columns. "
   ]
  },
  {
   "cell_type": "code",
   "execution_count": 5,
   "metadata": {
    "slideshow": {
     "slide_type": "fragment"
    }
   },
   "outputs": [
    {
     "data": {
      "text/html": [
       "<div class=\"data-frame\"><p>4 rows × 3 columns</p><table class=\"data-frame\"><thead><tr><th></th><th>A</th><th>B</th><th>C</th></tr><tr><th></th><th title=\"Int64\">Int64</th><th title=\"Float64\">Float64</th><th title=\"String\">String</th></tr></thead><tbody><tr><th>1</th><td>2</td><td>0.716393</td><td>Hello</td></tr><tr><th>2</th><td>3</td><td>-0.135105</td><td>Hello</td></tr><tr><th>3</th><td>4</td><td>-0.657844</td><td>Hello</td></tr><tr><th>4</th><td>5</td><td>0.924146</td><td>Hello</td></tr></tbody></table></div>"
      ],
      "text/latex": [
       "\\begin{tabular}{r|ccc}\n",
       "\t& A & B & C\\\\\n",
       "\t\\hline\n",
       "\t& Int64 & Float64 & String\\\\\n",
       "\t\\hline\n",
       "\t1 & 2 & 0.716393 & Hello \\\\\n",
       "\t2 & 3 & -0.135105 & Hello \\\\\n",
       "\t3 & 4 & -0.657844 & Hello \\\\\n",
       "\t4 & 5 & 0.924146 & Hello \\\\\n",
       "\\end{tabular}\n"
      ],
      "text/plain": [
       "\u001b[1m4×3 DataFrame\u001b[0m\n",
       "\u001b[1m Row \u001b[0m│\u001b[1m A     \u001b[0m\u001b[1m B         \u001b[0m\u001b[1m C      \u001b[0m\n",
       "\u001b[1m     \u001b[0m│\u001b[90m Int64 \u001b[0m\u001b[90m Float64   \u001b[0m\u001b[90m String \u001b[0m\n",
       "─────┼──────────────────────────\n",
       "   1 │     2   0.716393  Hello\n",
       "  ⋮  │   ⋮        ⋮        ⋮\n",
       "\u001b[36m                  3 rows omitted\u001b[0m"
      ]
     },
     "execution_count": 5,
     "metadata": {},
     "output_type": "execute_result"
    }
   ],
   "source": [
    "DataFrame(A = 2:5, B = randn(4), C = \"Hello\")"
   ]
  },
  {
   "cell_type": "markdown",
   "metadata": {
    "slideshow": {
     "slide_type": "slide"
    }
   },
   "source": [
    "## Constructors\n",
    "\n",
    "You can also create a DataFrame from a matrix, "
   ]
  },
  {
   "cell_type": "code",
   "execution_count": 6,
   "metadata": {
    "slideshow": {
     "slide_type": "fragment"
    }
   },
   "outputs": [
    {
     "data": {
      "text/html": [
       "<div class=\"data-frame\"><p>3 rows × 3 columns</p><table class=\"data-frame\"><thead><tr><th></th><th>x1</th><th>x2</th><th>x3</th></tr><tr><th></th><th title=\"Float64\">Float64</th><th title=\"Float64\">Float64</th><th title=\"Float64\">Float64</th></tr></thead><tbody><tr><th>1</th><td>0.724487</td><td>0.778178</td><td>0.210157</td></tr><tr><th>2</th><td>0.205457</td><td>0.358746</td><td>0.288093</td></tr><tr><th>3</th><td>0.653048</td><td>0.885845</td><td>0.886389</td></tr></tbody></table></div>"
      ],
      "text/latex": [
       "\\begin{tabular}{r|ccc}\n",
       "\t& x1 & x2 & x3\\\\\n",
       "\t\\hline\n",
       "\t& Float64 & Float64 & Float64\\\\\n",
       "\t\\hline\n",
       "\t1 & 0.724487 & 0.778178 & 0.210157 \\\\\n",
       "\t2 & 0.205457 & 0.358746 & 0.288093 \\\\\n",
       "\t3 & 0.653048 & 0.885845 & 0.886389 \\\\\n",
       "\\end{tabular}\n"
      ],
      "text/plain": [
       "\u001b[1m3×3 DataFrame\u001b[0m\n",
       "\u001b[1m Row \u001b[0m│\u001b[1m x1       \u001b[0m\u001b[1m x2       \u001b[0m\u001b[1m x3       \u001b[0m\n",
       "\u001b[1m     \u001b[0m│\u001b[90m Float64  \u001b[0m\u001b[90m Float64  \u001b[0m\u001b[90m Float64  \u001b[0m\n",
       "─────┼──────────────────────────────\n",
       "   1 │ 0.724487  0.778178  0.210157\n",
       "   2 │ 0.205457  0.358746  0.288093\n",
       "   3 │ 0.653048  0.885845  0.886389"
      ]
     },
     "execution_count": 6,
     "metadata": {},
     "output_type": "execute_result"
    }
   ],
   "source": [
    "x = DataFrame(rand(3, 3), :auto) # automatically assign column names with :auto"
   ]
  },
  {
   "cell_type": "markdown",
   "metadata": {
    "slideshow": {
     "slide_type": "slide"
    }
   },
   "source": [
    "## Accessing data\n",
    "\n",
    "We will often work with **large** datasets in economics."
   ]
  },
  {
   "cell_type": "code",
   "execution_count": 10,
   "metadata": {
    "slideshow": {
     "slide_type": "fragment"
    }
   },
   "outputs": [
    {
     "data": {
      "text/html": [
       "<div class=\"data-frame\"><p>1,000 rows × 10 columns</p><table class=\"data-frame\"><thead><tr><th></th><th>x1</th><th>x2</th><th>x3</th><th>x4</th><th>x5</th><th>x6</th><th>x7</th><th>x8</th><th>x9</th><th>x10</th></tr><tr><th></th><th title=\"Int64\">Int64</th><th title=\"Int64\">Int64</th><th title=\"Int64\">Int64</th><th title=\"Int64\">Int64</th><th title=\"Int64\">Int64</th><th title=\"Int64\">Int64</th><th title=\"Int64\">Int64</th><th title=\"Int64\">Int64</th><th title=\"Int64\">Int64</th><th title=\"Int64\">Int64</th></tr></thead><tbody><tr><th>1</th><td>24</td><td>22</td><td>30</td><td>25</td><td>53</td><td>50</td><td>53</td><td>55</td><td>19</td><td>5</td></tr><tr><th>2</th><td>37</td><td>59</td><td>29</td><td>65</td><td>23</td><td>100</td><td>4</td><td>50</td><td>66</td><td>46</td></tr><tr><th>3</th><td>2</td><td>45</td><td>99</td><td>53</td><td>38</td><td>80</td><td>69</td><td>10</td><td>9</td><td>52</td></tr><tr><th>4</th><td>76</td><td>33</td><td>65</td><td>100</td><td>67</td><td>87</td><td>48</td><td>18</td><td>38</td><td>87</td></tr><tr><th>5</th><td>11</td><td>29</td><td>79</td><td>41</td><td>68</td><td>25</td><td>87</td><td>34</td><td>53</td><td>18</td></tr><tr><th>6</th><td>39</td><td>67</td><td>14</td><td>66</td><td>76</td><td>64</td><td>28</td><td>49</td><td>64</td><td>62</td></tr><tr><th>7</th><td>95</td><td>24</td><td>60</td><td>35</td><td>13</td><td>37</td><td>90</td><td>69</td><td>85</td><td>94</td></tr><tr><th>8</th><td>10</td><td>47</td><td>70</td><td>61</td><td>57</td><td>60</td><td>5</td><td>50</td><td>24</td><td>75</td></tr><tr><th>9</th><td>25</td><td>25</td><td>51</td><td>73</td><td>99</td><td>75</td><td>45</td><td>70</td><td>81</td><td>67</td></tr><tr><th>10</th><td>76</td><td>13</td><td>23</td><td>45</td><td>56</td><td>43</td><td>45</td><td>63</td><td>2</td><td>35</td></tr><tr><th>&vellip;</th><td>&vellip;</td><td>&vellip;</td><td>&vellip;</td><td>&vellip;</td><td>&vellip;</td><td>&vellip;</td><td>&vellip;</td><td>&vellip;</td><td>&vellip;</td><td>&vellip;</td></tr></tbody></table></div>"
      ],
      "text/latex": [
       "\\begin{tabular}{r|cccccccccc}\n",
       "\t& x1 & x2 & x3 & x4 & x5 & x6 & x7 & x8 & x9 & x10\\\\\n",
       "\t\\hline\n",
       "\t& Int64 & Int64 & Int64 & Int64 & Int64 & Int64 & Int64 & Int64 & Int64 & Int64\\\\\n",
       "\t\\hline\n",
       "\t1 & 24 & 22 & 30 & 25 & 53 & 50 & 53 & 55 & 19 & 5 \\\\\n",
       "\t2 & 37 & 59 & 29 & 65 & 23 & 100 & 4 & 50 & 66 & 46 \\\\\n",
       "\t3 & 2 & 45 & 99 & 53 & 38 & 80 & 69 & 10 & 9 & 52 \\\\\n",
       "\t4 & 76 & 33 & 65 & 100 & 67 & 87 & 48 & 18 & 38 & 87 \\\\\n",
       "\t5 & 11 & 29 & 79 & 41 & 68 & 25 & 87 & 34 & 53 & 18 \\\\\n",
       "\t6 & 39 & 67 & 14 & 66 & 76 & 64 & 28 & 49 & 64 & 62 \\\\\n",
       "\t7 & 95 & 24 & 60 & 35 & 13 & 37 & 90 & 69 & 85 & 94 \\\\\n",
       "\t8 & 10 & 47 & 70 & 61 & 57 & 60 & 5 & 50 & 24 & 75 \\\\\n",
       "\t9 & 25 & 25 & 51 & 73 & 99 & 75 & 45 & 70 & 81 & 67 \\\\\n",
       "\t10 & 76 & 13 & 23 & 45 & 56 & 43 & 45 & 63 & 2 & 35 \\\\\n",
       "\t$\\dots$ & $\\dots$ & $\\dots$ & $\\dots$ & $\\dots$ & $\\dots$ & $\\dots$ & $\\dots$ & $\\dots$ & $\\dots$ & $\\dots$ \\\\\n",
       "\\end{tabular}\n"
      ],
      "text/plain": [
       "\u001b[1m1000×10 DataFrame\u001b[0m\n",
       "\u001b[1m  Row \u001b[0m│\u001b[1m x1    \u001b[0m\u001b[1m x2    \u001b[0m\u001b[1m x3    \u001b[0m\u001b[1m x4    \u001b[0m\u001b[1m x5    \u001b[0m\u001b[1m x6    \u001b[0m\u001b[1m x7    \u001b[0m\u001b[1m x8    \u001b[0m\u001b[1m x9    \u001b[0m\u001b[1m x10   \u001b[0m\n",
       "\u001b[1m      \u001b[0m│\u001b[90m Int64 \u001b[0m\u001b[90m Int64 \u001b[0m\u001b[90m Int64 \u001b[0m\u001b[90m Int64 \u001b[0m\u001b[90m Int64 \u001b[0m\u001b[90m Int64 \u001b[0m\u001b[90m Int64 \u001b[0m\u001b[90m Int64 \u001b[0m\u001b[90m Int64 \u001b[0m\u001b[90m Int64 \u001b[0m\n",
       "──────┼──────────────────────────────────────────────────────────────────────\n",
       "    1 │    24     22     30     25     53     50     53     55     19      5\n",
       "  ⋮   │   ⋮      ⋮      ⋮      ⋮      ⋮      ⋮      ⋮      ⋮      ⋮      ⋮\n",
       "\u001b[36m                                                             999 rows omitted\u001b[0m"
      ]
     },
     "execution_count": 10,
     "metadata": {},
     "output_type": "execute_result"
    }
   ],
   "source": [
    "y = DataFrame(rand(1:100, 1000, 10), :auto)"
   ]
  },
  {
   "cell_type": "markdown",
   "metadata": {
    "slideshow": {
     "slide_type": "slide"
    }
   },
   "source": [
    "## Accessing data\n",
    "\n",
    "We can look at the first few rows using the `first` function. "
   ]
  },
  {
   "cell_type": "code",
   "execution_count": 11,
   "metadata": {
    "slideshow": {
     "slide_type": "fragment"
    }
   },
   "outputs": [
    {
     "data": {
      "text/html": [
       "<div class=\"data-frame\"><p>5 rows × 10 columns</p><table class=\"data-frame\"><thead><tr><th></th><th>x1</th><th>x2</th><th>x3</th><th>x4</th><th>x5</th><th>x6</th><th>x7</th><th>x8</th><th>x9</th><th>x10</th></tr><tr><th></th><th title=\"Int64\">Int64</th><th title=\"Int64\">Int64</th><th title=\"Int64\">Int64</th><th title=\"Int64\">Int64</th><th title=\"Int64\">Int64</th><th title=\"Int64\">Int64</th><th title=\"Int64\">Int64</th><th title=\"Int64\">Int64</th><th title=\"Int64\">Int64</th><th title=\"Int64\">Int64</th></tr></thead><tbody><tr><th>1</th><td>24</td><td>22</td><td>30</td><td>25</td><td>53</td><td>50</td><td>53</td><td>55</td><td>19</td><td>5</td></tr><tr><th>2</th><td>37</td><td>59</td><td>29</td><td>65</td><td>23</td><td>100</td><td>4</td><td>50</td><td>66</td><td>46</td></tr><tr><th>3</th><td>2</td><td>45</td><td>99</td><td>53</td><td>38</td><td>80</td><td>69</td><td>10</td><td>9</td><td>52</td></tr><tr><th>4</th><td>76</td><td>33</td><td>65</td><td>100</td><td>67</td><td>87</td><td>48</td><td>18</td><td>38</td><td>87</td></tr><tr><th>5</th><td>11</td><td>29</td><td>79</td><td>41</td><td>68</td><td>25</td><td>87</td><td>34</td><td>53</td><td>18</td></tr></tbody></table></div>"
      ],
      "text/latex": [
       "\\begin{tabular}{r|cccccccccc}\n",
       "\t& x1 & x2 & x3 & x4 & x5 & x6 & x7 & x8 & x9 & x10\\\\\n",
       "\t\\hline\n",
       "\t& Int64 & Int64 & Int64 & Int64 & Int64 & Int64 & Int64 & Int64 & Int64 & Int64\\\\\n",
       "\t\\hline\n",
       "\t1 & 24 & 22 & 30 & 25 & 53 & 50 & 53 & 55 & 19 & 5 \\\\\n",
       "\t2 & 37 & 59 & 29 & 65 & 23 & 100 & 4 & 50 & 66 & 46 \\\\\n",
       "\t3 & 2 & 45 & 99 & 53 & 38 & 80 & 69 & 10 & 9 & 52 \\\\\n",
       "\t4 & 76 & 33 & 65 & 100 & 67 & 87 & 48 & 18 & 38 & 87 \\\\\n",
       "\t5 & 11 & 29 & 79 & 41 & 68 & 25 & 87 & 34 & 53 & 18 \\\\\n",
       "\\end{tabular}\n"
      ],
      "text/plain": [
       "\u001b[1m5×10 DataFrame\u001b[0m\n",
       "\u001b[1m Row \u001b[0m│\u001b[1m x1    \u001b[0m\u001b[1m x2    \u001b[0m\u001b[1m x3    \u001b[0m\u001b[1m x4    \u001b[0m\u001b[1m x5    \u001b[0m\u001b[1m x6    \u001b[0m\u001b[1m x7    \u001b[0m\u001b[1m x8    \u001b[0m\u001b[1m x9    \u001b[0m\u001b[1m x10   \u001b[0m\n",
       "\u001b[1m     \u001b[0m│\u001b[90m Int64 \u001b[0m\u001b[90m Int64 \u001b[0m\u001b[90m Int64 \u001b[0m\u001b[90m Int64 \u001b[0m\u001b[90m Int64 \u001b[0m\u001b[90m Int64 \u001b[0m\u001b[90m Int64 \u001b[0m\u001b[90m Int64 \u001b[0m\u001b[90m Int64 \u001b[0m\u001b[90m Int64 \u001b[0m\n",
       "─────┼──────────────────────────────────────────────────────────────────────\n",
       "   1 │    24     22     30     25     53     50     53     55     19      5\n",
       "  ⋮  │   ⋮      ⋮      ⋮      ⋮      ⋮      ⋮      ⋮      ⋮      ⋮      ⋮\n",
       "\u001b[36m                                                              4 rows omitted\u001b[0m"
      ]
     },
     "execution_count": 11,
     "metadata": {},
     "output_type": "execute_result"
    }
   ],
   "source": [
    "first(y, 5) # first 5 rows"
   ]
  },
  {
   "cell_type": "markdown",
   "metadata": {
    "slideshow": {
     "slide_type": "slide"
    }
   },
   "source": [
    "## Accessing data\n",
    "\n",
    "There are multiple ways to access particular columns of the DataFrame.\n",
    "\n",
    "The most obvious way is to to use `y.col`. \n",
    "\n",
    "Here `col` stands for the column name. \n",
    "\n",
    "This provides us the column in vector format."
   ]
  },
  {
   "cell_type": "markdown",
   "metadata": {
    "slideshow": {
     "slide_type": "slide"
    }
   },
   "source": [
    "## Accessing data"
   ]
  },
  {
   "cell_type": "code",
   "execution_count": 14,
   "metadata": {
    "slideshow": {
     "slide_type": "fragment"
    }
   },
   "outputs": [
    {
     "data": {
      "text/plain": [
       "1000-element Vector{Int64}:\n",
       " 22\n",
       " 59\n",
       " 45\n",
       "  ⋮\n",
       " 51\n",
       " 77"
      ]
     },
     "execution_count": 14,
     "metadata": {},
     "output_type": "execute_result"
    }
   ],
   "source": [
    "y.x2 # get a single column"
   ]
  },
  {
   "cell_type": "code",
   "execution_count": 15,
   "metadata": {
    "slideshow": {
     "slide_type": "fragment"
    }
   },
   "outputs": [
    {
     "data": {
      "text/plain": [
       "1000-element Vector{Int64}:\n",
       " 22\n",
       " 59\n",
       " 45\n",
       "  ⋮\n",
       " 51\n",
       " 77"
      ]
     },
     "execution_count": 15,
     "metadata": {},
     "output_type": "execute_result"
    }
   ],
   "source": [
    "y[!, :x2] # or y[!, 2] or y[:, :x2]"
   ]
  },
  {
   "cell_type": "markdown",
   "metadata": {
    "slideshow": {
     "slide_type": "slide"
    }
   },
   "source": [
    "## Accessing data\n",
    "\n",
    "You can access several columns as follows, "
   ]
  },
  {
   "cell_type": "code",
   "execution_count": 17,
   "metadata": {
    "slideshow": {
     "slide_type": "fragment"
    }
   },
   "outputs": [
    {
     "data": {
      "text/html": [
       "<div class=\"data-frame\"><p>1,000 rows × 2 columns</p><table class=\"data-frame\"><thead><tr><th></th><th>x1</th><th>x2</th></tr><tr><th></th><th title=\"Int64\">Int64</th><th title=\"Int64\">Int64</th></tr></thead><tbody><tr><th>1</th><td>24</td><td>22</td></tr><tr><th>2</th><td>37</td><td>59</td></tr><tr><th>3</th><td>2</td><td>45</td></tr><tr><th>4</th><td>76</td><td>33</td></tr><tr><th>5</th><td>11</td><td>29</td></tr><tr><th>6</th><td>39</td><td>67</td></tr><tr><th>7</th><td>95</td><td>24</td></tr><tr><th>8</th><td>10</td><td>47</td></tr><tr><th>9</th><td>25</td><td>25</td></tr><tr><th>10</th><td>76</td><td>13</td></tr><tr><th>&vellip;</th><td>&vellip;</td><td>&vellip;</td></tr></tbody></table></div>"
      ],
      "text/latex": [
       "\\begin{tabular}{r|cc}\n",
       "\t& x1 & x2\\\\\n",
       "\t\\hline\n",
       "\t& Int64 & Int64\\\\\n",
       "\t\\hline\n",
       "\t1 & 24 & 22 \\\\\n",
       "\t2 & 37 & 59 \\\\\n",
       "\t3 & 2 & 45 \\\\\n",
       "\t4 & 76 & 33 \\\\\n",
       "\t5 & 11 & 29 \\\\\n",
       "\t6 & 39 & 67 \\\\\n",
       "\t7 & 95 & 24 \\\\\n",
       "\t8 & 10 & 47 \\\\\n",
       "\t9 & 25 & 25 \\\\\n",
       "\t10 & 76 & 13 \\\\\n",
       "\t$\\dots$ & $\\dots$ & $\\dots$ \\\\\n",
       "\\end{tabular}\n"
      ],
      "text/plain": [
       "\u001b[1m1000×2 DataFrame\u001b[0m\n",
       "\u001b[1m  Row \u001b[0m│\u001b[1m x1    \u001b[0m\u001b[1m x2    \u001b[0m\n",
       "\u001b[1m      \u001b[0m│\u001b[90m Int64 \u001b[0m\u001b[90m Int64 \u001b[0m\n",
       "──────┼──────────────\n",
       "    1 │    24     22\n",
       "  ⋮   │   ⋮      ⋮\n",
       "\u001b[36m     999 rows omitted\u001b[0m"
      ]
     },
     "execution_count": 17,
     "metadata": {},
     "output_type": "execute_result"
    }
   ],
   "source": [
    "y[:, [:x1, :x2]]"
   ]
  },
  {
   "cell_type": "markdown",
   "metadata": {
    "slideshow": {
     "slide_type": "slide"
    }
   },
   "source": [
    "## Accessing data\n",
    "\n",
    "Getting rows is also quite easy,"
   ]
  },
  {
   "cell_type": "code",
   "execution_count": 18,
   "metadata": {
    "slideshow": {
     "slide_type": "fragment"
    }
   },
   "outputs": [
    {
     "data": {
      "text/html": [
       "<p>DataFrameRow (10 columns)</p><div class=\"data-frame\"><table class=\"data-frame\"><thead><tr><th></th><th>x1</th><th>x2</th><th>x3</th><th>x4</th><th>x5</th><th>x6</th><th>x7</th><th>x8</th><th>x9</th><th>x10</th></tr><tr><th></th><th title=\"Int64\">Int64</th><th title=\"Int64\">Int64</th><th title=\"Int64\">Int64</th><th title=\"Int64\">Int64</th><th title=\"Int64\">Int64</th><th title=\"Int64\">Int64</th><th title=\"Int64\">Int64</th><th title=\"Int64\">Int64</th><th title=\"Int64\">Int64</th><th title=\"Int64\">Int64</th></tr></thead><tbody><tr><th>1</th><td>24</td><td>22</td><td>30</td><td>25</td><td>53</td><td>50</td><td>53</td><td>55</td><td>19</td><td>5</td></tr></tbody></table></div>"
      ],
      "text/latex": [
       "\\begin{tabular}{r|cccccccccc}\n",
       "\t& x1 & x2 & x3 & x4 & x5 & x6 & x7 & x8 & x9 & x10\\\\\n",
       "\t\\hline\n",
       "\t& Int64 & Int64 & Int64 & Int64 & Int64 & Int64 & Int64 & Int64 & Int64 & Int64\\\\\n",
       "\t\\hline\n",
       "\t1 & 24 & 22 & 30 & 25 & 53 & 50 & 53 & 55 & 19 & 5 \\\\\n",
       "\\end{tabular}\n"
      ],
      "text/plain": [
       "\u001b[1mDataFrameRow\u001b[0m\n",
       "\u001b[1m Row \u001b[0m│\u001b[1m x1    \u001b[0m\u001b[1m x2    \u001b[0m\u001b[1m x3    \u001b[0m\u001b[1m x4    \u001b[0m\u001b[1m x5    \u001b[0m\u001b[1m x6    \u001b[0m\u001b[1m x7    \u001b[0m\u001b[1m x8    \u001b[0m\u001b[1m x9    \u001b[0m\u001b[1m x10   \u001b[0m\n",
       "\u001b[1m     \u001b[0m│\u001b[90m Int64 \u001b[0m\u001b[90m Int64 \u001b[0m\u001b[90m Int64 \u001b[0m\u001b[90m Int64 \u001b[0m\u001b[90m Int64 \u001b[0m\u001b[90m Int64 \u001b[0m\u001b[90m Int64 \u001b[0m\u001b[90m Int64 \u001b[0m\u001b[90m Int64 \u001b[0m\u001b[90m Int64 \u001b[0m\n",
       "─────┼──────────────────────────────────────────────────────────────────────\n",
       "   1 │    24     22     30     25     53     50     53     55     19      5"
      ]
     },
     "execution_count": 18,
     "metadata": {},
     "output_type": "execute_result"
    }
   ],
   "source": [
    "y[1, :]"
   ]
  },
  {
   "cell_type": "markdown",
   "metadata": {
    "slideshow": {
     "slide_type": "slide"
    }
   },
   "source": [
    "## Importing data\n",
    "\n",
    "I have created a dataset that is hosted on GitHub.\n",
    "\n",
    "Now let us download this data with Julia."
   ]
  },
  {
   "cell_type": "code",
   "execution_count": 19,
   "metadata": {
    "slideshow": {
     "slide_type": "fragment"
    }
   },
   "outputs": [
    {
     "data": {
      "text/plain": [
       "\"tut2_data.csv\""
      ]
     },
     "execution_count": 19,
     "metadata": {},
     "output_type": "execute_result"
    }
   ],
   "source": [
    "Downloads.download(\n",
    "    \"https://raw.githubusercontent.com/DawievLill/Macro-318/main/data/tut2_data.csv\", \n",
    "    \"tut2_data.csv\"\n",
    ")"
   ]
  },
  {
   "cell_type": "markdown",
   "metadata": {
    "slideshow": {
     "slide_type": "slide"
    }
   },
   "source": [
    "## Importing data\n",
    "\n",
    "Next we read the CSV file into Julia and make it a DataFrame. "
   ]
  },
  {
   "cell_type": "code",
   "execution_count": 20,
   "metadata": {
    "slideshow": {
     "slide_type": "fragment"
    }
   },
   "outputs": [
    {
     "data": {
      "text/html": [
       "<div class=\"data-frame\"><p>71 rows × 5 columns</p><table class=\"data-frame\"><thead><tr><th></th><th>date</th><th>gdp</th><th>repo</th><th>cpi</th><th>inflation</th></tr><tr><th></th><th title=\"Dates.Date\">Date</th><th title=\"Int64\">Int64</th><th title=\"Float64\">Float64</th><th title=\"Float64\">Float64</th><th title=\"Float64\">Float64</th></tr></thead><tbody><tr><th>1</th><td>2004-03-31</td><td>1571580</td><td>8.0</td><td>51.1689</td><td>-2.05565</td></tr><tr><th>2</th><td>2004-06-30</td><td>1640953</td><td>8.0</td><td>51.4474</td><td>-2.02507</td></tr><tr><th>3</th><td>2004-09-30</td><td>1674699</td><td>7.66667</td><td>51.5677</td><td>-1.00851</td></tr><tr><th>4</th><td>2004-12-31</td><td>1731000</td><td>7.5</td><td>51.8483</td><td>1.62524</td></tr><tr><th>5</th><td>2005-03-31</td><td>1768828</td><td>7.5</td><td>52.1796</td><td>1.97509</td></tr><tr><th>6</th><td>2005-06-30</td><td>1803783</td><td>7.0</td><td>52.456</td><td>1.9603</td></tr><tr><th>7</th><td>2005-09-30</td><td>1873743</td><td>7.0</td><td>52.8125</td><td>2.41398</td></tr><tr><th>8</th><td>2005-12-31</td><td>1918423</td><td>7.0</td><td>52.9391</td><td>2.10385</td></tr><tr><th>9</th><td>2006-03-31</td><td>1960150</td><td>7.0</td><td>53.243</td><td>2.03793</td></tr><tr><th>10</th><td>2006-06-30</td><td>2048534</td><td>7.16667</td><td>53.7536</td><td>2.47365</td></tr><tr><th>&vellip;</th><td>&vellip;</td><td>&vellip;</td><td>&vellip;</td><td>&vellip;</td><td>&vellip;</td></tr></tbody></table></div>"
      ],
      "text/latex": [
       "\\begin{tabular}{r|ccccc}\n",
       "\t& date & gdp & repo & cpi & inflation\\\\\n",
       "\t\\hline\n",
       "\t& Date & Int64 & Float64 & Float64 & Float64\\\\\n",
       "\t\\hline\n",
       "\t1 & 2004-03-31 & 1571580 & 8.0 & 51.1689 & -2.05565 \\\\\n",
       "\t2 & 2004-06-30 & 1640953 & 8.0 & 51.4474 & -2.02507 \\\\\n",
       "\t3 & 2004-09-30 & 1674699 & 7.66667 & 51.5677 & -1.00851 \\\\\n",
       "\t4 & 2004-12-31 & 1731000 & 7.5 & 51.8483 & 1.62524 \\\\\n",
       "\t5 & 2005-03-31 & 1768828 & 7.5 & 52.1796 & 1.97509 \\\\\n",
       "\t6 & 2005-06-30 & 1803783 & 7.0 & 52.456 & 1.9603 \\\\\n",
       "\t7 & 2005-09-30 & 1873743 & 7.0 & 52.8125 & 2.41398 \\\\\n",
       "\t8 & 2005-12-31 & 1918423 & 7.0 & 52.9391 & 2.10385 \\\\\n",
       "\t9 & 2006-03-31 & 1960150 & 7.0 & 53.243 & 2.03793 \\\\\n",
       "\t10 & 2006-06-30 & 2048534 & 7.16667 & 53.7536 & 2.47365 \\\\\n",
       "\t$\\dots$ & $\\dots$ & $\\dots$ & $\\dots$ & $\\dots$ & $\\dots$ \\\\\n",
       "\\end{tabular}\n"
      ],
      "text/plain": [
       "\u001b[1m71×5 DataFrame\u001b[0m\n",
       "\u001b[1m Row \u001b[0m│\u001b[1m date       \u001b[0m\u001b[1m gdp     \u001b[0m\u001b[1m repo    \u001b[0m\u001b[1m cpi      \u001b[0m\u001b[1m inflation \u001b[0m\n",
       "\u001b[1m     \u001b[0m│\u001b[90m Date       \u001b[0m\u001b[90m Int64   \u001b[0m\u001b[90m Float64 \u001b[0m\u001b[90m Float64  \u001b[0m\u001b[90m Float64   \u001b[0m\n",
       "─────┼───────────────────────────────────────────────────\n",
       "   1 │ 2004-03-31  1571580  8.0       51.1689   -2.05565\n",
       "  ⋮  │     ⋮          ⋮        ⋮        ⋮          ⋮\n",
       "\u001b[36m                                          70 rows omitted\u001b[0m"
      ]
     },
     "execution_count": 20,
     "metadata": {},
     "output_type": "execute_result"
    }
   ],
   "source": [
    "sa_data = DataFrame(CSV.File(\"tut2_data.csv\", dateformat = \"yyyy/mm/dd\")) # specify the date format"
   ]
  },
  {
   "cell_type": "markdown",
   "metadata": {
    "slideshow": {
     "slide_type": "slide"
    }
   },
   "source": [
    "## Plotting the data\n",
    "\n",
    "For this example we are going to look at GDP.\n",
    "\n",
    "GDP is the second column in the dataset. \n",
    "\n",
    "We can access GDP by calling the variable name.\n",
    "\n",
    "However, we can also use the fact that it is located in the second column of the table. "
   ]
  },
  {
   "cell_type": "markdown",
   "metadata": {
    "slideshow": {
     "slide_type": "slide"
    }
   },
   "source": [
    "## Plotting the data"
   ]
  },
  {
   "cell_type": "code",
   "execution_count": 21,
   "metadata": {
    "slideshow": {
     "slide_type": "fragment"
    }
   },
   "outputs": [
    {
     "data": {
      "text/plain": [
       "71-element Vector{Int64}:\n",
       " 1571580\n",
       " 1640953\n",
       " 1674699\n",
       "       ⋮\n",
       " 5632802\n",
       " 5819983"
      ]
     },
     "execution_count": 21,
     "metadata": {},
     "output_type": "execute_result"
    }
   ],
   "source": [
    "gdp = sa_data.gdp # or we could have done gdp = sa_data[!, 2]"
   ]
  },
  {
   "cell_type": "code",
   "execution_count": 22,
   "metadata": {
    "slideshow": {
     "slide_type": "fragment"
    }
   },
   "outputs": [
    {
     "data": {
      "text/plain": [
       "71-element Vector{Dates.Date}:\n",
       " 2004-03-31\n",
       " 2004-06-30\n",
       " 2004-09-30\n",
       " ⋮\n",
       " 2021-06-30\n",
       " 2021-09-30"
      ]
     },
     "execution_count": 22,
     "metadata": {},
     "output_type": "execute_result"
    }
   ],
   "source": [
    "date_sa = sa_data[!, :date] # we also want the date column for our plot"
   ]
  },
  {
   "cell_type": "markdown",
   "metadata": {
    "slideshow": {
     "slide_type": "slide"
    }
   },
   "source": [
    "## Plotting the data\n",
    "\n",
    "One popular transformation of GDP data is to take a natural logarithm.\n",
    "\n",
    "The reason for this is that differences between adjacent values in the GDP series represent growth rates once the series is \"logged\".\n",
    "\n",
    "We will get back to this point at a later stage. "
   ]
  },
  {
   "cell_type": "markdown",
   "metadata": {
    "slideshow": {
     "slide_type": "slide"
    }
   },
   "source": [
    "## Plotting the data (Log GDP)\n",
    "\n",
    "If we take a natural log of the series then the plot of GDP looks as follows. "
   ]
  },
  {
   "cell_type": "code",
   "execution_count": 27,
   "metadata": {
    "slideshow": {
     "slide_type": "fragment"
    }
   },
   "outputs": [
    {
     "data": {
      "image/svg+xml": [
       "<?xml version=\"1.0\" encoding=\"utf-8\"?>\n",
       "<svg xmlns=\"http://www.w3.org/2000/svg\" xmlns:xlink=\"http://www.w3.org/1999/xlink\" width=\"600\" height=\"400\" viewBox=\"0 0 2400 1600\">\n",
       "<defs>\n",
       "  <clipPath id=\"clip500\">\n",
       "    <rect x=\"0\" y=\"0\" width=\"2400\" height=\"1600\"/>\n",
       "  </clipPath>\n",
       "</defs>\n",
       "<path clip-path=\"url(#clip500)\" d=\"\n",
       "M0 1600 L2400 1600 L2400 0 L0 0  Z\n",
       "  \" fill=\"#ffffff\" fill-rule=\"evenodd\" fill-opacity=\"1\"/>\n",
       "<defs>\n",
       "  <clipPath id=\"clip501\">\n",
       "    <rect x=\"480\" y=\"0\" width=\"1681\" height=\"1600\"/>\n",
       "  </clipPath>\n",
       "</defs>\n",
       "<path clip-path=\"url(#clip500)\" d=\"\n",
       "M184.677 1486.45 L2352.76 1486.45 L2352.76 47.2441 L184.677 47.2441  Z\n",
       "  \" fill=\"#ffffff\" fill-rule=\"evenodd\" fill-opacity=\"1\"/>\n",
       "<defs>\n",
       "  <clipPath id=\"clip502\">\n",
       "    <rect x=\"184\" y=\"47\" width=\"2169\" height=\"1440\"/>\n",
       "  </clipPath>\n",
       "</defs>\n",
       "<polyline clip-path=\"url(#clip502)\" style=\"stroke:#000000; stroke-linecap:butt; stroke-linejoin:round; stroke-width:2; stroke-opacity:0.1; fill:none\" points=\"\n",
       "  217.239,1486.45 217.239,47.2441 \n",
       "  \"/>\n",
       "<polyline clip-path=\"url(#clip502)\" style=\"stroke:#000000; stroke-linecap:butt; stroke-linejoin:round; stroke-width:2; stroke-opacity:0.1; fill:none\" points=\"\n",
       "  801.855,1486.45 801.855,47.2441 \n",
       "  \"/>\n",
       "<polyline clip-path=\"url(#clip502)\" style=\"stroke:#000000; stroke-linecap:butt; stroke-linejoin:round; stroke-width:2; stroke-opacity:0.1; fill:none\" points=\"\n",
       "  1386.15,1486.45 1386.15,47.2441 \n",
       "  \"/>\n",
       "<polyline clip-path=\"url(#clip502)\" style=\"stroke:#000000; stroke-linecap:butt; stroke-linejoin:round; stroke-width:2; stroke-opacity:0.1; fill:none\" points=\"\n",
       "  1970.45,1486.45 1970.45,47.2441 \n",
       "  \"/>\n",
       "<polyline clip-path=\"url(#clip500)\" style=\"stroke:#000000; stroke-linecap:butt; stroke-linejoin:round; stroke-width:4; stroke-opacity:1; fill:none\" points=\"\n",
       "  184.677,1486.45 2352.76,1486.45 \n",
       "  \"/>\n",
       "<polyline clip-path=\"url(#clip500)\" style=\"stroke:#000000; stroke-linecap:butt; stroke-linejoin:round; stroke-width:4; stroke-opacity:1; fill:none\" points=\"\n",
       "  217.239,1486.45 217.239,1467.55 \n",
       "  \"/>\n",
       "<polyline clip-path=\"url(#clip500)\" style=\"stroke:#000000; stroke-linecap:butt; stroke-linejoin:round; stroke-width:4; stroke-opacity:1; fill:none\" points=\"\n",
       "  801.855,1486.45 801.855,1467.55 \n",
       "  \"/>\n",
       "<polyline clip-path=\"url(#clip500)\" style=\"stroke:#000000; stroke-linecap:butt; stroke-linejoin:round; stroke-width:4; stroke-opacity:1; fill:none\" points=\"\n",
       "  1386.15,1486.45 1386.15,1467.55 \n",
       "  \"/>\n",
       "<polyline clip-path=\"url(#clip500)\" style=\"stroke:#000000; stroke-linecap:butt; stroke-linejoin:round; stroke-width:4; stroke-opacity:1; fill:none\" points=\"\n",
       "  1970.45,1486.45 1970.45,1467.55 \n",
       "  \"/>\n",
       "<path clip-path=\"url(#clip500)\" d=\"M89.0333 1544.91 L105.353 1544.91 L105.353 1548.85 L83.4084 1548.85 L83.4084 1544.91 Q86.0704 1542.16 90.6537 1537.53 Q95.2602 1532.88 96.4407 1531.53 Q98.6861 1529.01 99.5657 1527.27 Q100.468 1525.51 100.468 1523.82 Q100.468 1521.07 98.524 1519.33 Q96.6027 1517.6 93.5009 1517.6 Q91.3019 1517.6 88.8482 1518.36 Q86.4176 1519.13 83.6399 1520.68 L83.6399 1515.95 Q86.4639 1514.82 88.9176 1514.24 Q91.3713 1513.66 93.4083 1513.66 Q98.7787 1513.66 101.973 1516.35 Q105.168 1519.03 105.168 1523.52 Q105.168 1525.65 104.357 1527.57 Q103.57 1529.47 101.464 1532.07 Q100.885 1532.74 97.7833 1535.95 Q94.6815 1539.15 89.0333 1544.91 Z\" fill=\"#000000\" fill-rule=\"evenodd\" fill-opacity=\"1\" /><path clip-path=\"url(#clip500)\" d=\"M125.167 1517.37 Q121.556 1517.37 119.728 1520.93 Q117.922 1524.47 117.922 1531.6 Q117.922 1538.71 119.728 1542.27 Q121.556 1545.82 125.167 1545.82 Q128.802 1545.82 130.607 1542.27 Q132.436 1538.71 132.436 1531.6 Q132.436 1524.47 130.607 1520.93 Q128.802 1517.37 125.167 1517.37 M125.167 1513.66 Q130.978 1513.66 134.033 1518.27 Q137.112 1522.85 137.112 1531.6 Q137.112 1540.33 134.033 1544.94 Q130.978 1549.52 125.167 1549.52 Q119.357 1549.52 116.279 1544.94 Q113.223 1540.33 113.223 1531.6 Q113.223 1522.85 116.279 1518.27 Q119.357 1513.66 125.167 1513.66 Z\" fill=\"#000000\" fill-rule=\"evenodd\" fill-opacity=\"1\" /><path clip-path=\"url(#clip500)\" d=\"M155.329 1517.37 Q151.718 1517.37 149.89 1520.93 Q148.084 1524.47 148.084 1531.6 Q148.084 1538.71 149.89 1542.27 Q151.718 1545.82 155.329 1545.82 Q158.964 1545.82 160.769 1542.27 Q162.598 1538.71 162.598 1531.6 Q162.598 1524.47 160.769 1520.93 Q158.964 1517.37 155.329 1517.37 M155.329 1513.66 Q161.139 1513.66 164.195 1518.27 Q167.274 1522.85 167.274 1531.6 Q167.274 1540.33 164.195 1544.94 Q161.139 1549.52 155.329 1549.52 Q149.519 1549.52 146.44 1544.94 Q143.385 1540.33 143.385 1531.6 Q143.385 1522.85 146.44 1518.27 Q149.519 1513.66 155.329 1513.66 Z\" fill=\"#000000\" fill-rule=\"evenodd\" fill-opacity=\"1\" /><path clip-path=\"url(#clip500)\" d=\"M188.338 1518.36 L176.533 1536.81 L188.338 1536.81 L188.338 1518.36 M187.112 1514.29 L192.991 1514.29 L192.991 1536.81 L197.922 1536.81 L197.922 1540.7 L192.991 1540.7 L192.991 1548.85 L188.338 1548.85 L188.338 1540.7 L172.737 1540.7 L172.737 1536.19 L187.112 1514.29 Z\" fill=\"#000000\" fill-rule=\"evenodd\" fill-opacity=\"1\" /><path clip-path=\"url(#clip500)\" d=\"M202.898 1533.96 L215.375 1533.96 L215.375 1537.76 L202.898 1537.76 L202.898 1533.96 Z\" fill=\"#000000\" fill-rule=\"evenodd\" fill-opacity=\"1\" /><path clip-path=\"url(#clip500)\" d=\"M232.759 1517.37 Q229.148 1517.37 227.32 1520.93 Q225.514 1524.47 225.514 1531.6 Q225.514 1538.71 227.32 1542.27 Q229.148 1545.82 232.759 1545.82 Q236.394 1545.82 238.199 1542.27 Q240.028 1538.71 240.028 1531.6 Q240.028 1524.47 238.199 1520.93 Q236.394 1517.37 232.759 1517.37 M232.759 1513.66 Q238.57 1513.66 241.625 1518.27 Q244.704 1522.85 244.704 1531.6 Q244.704 1540.33 241.625 1544.94 Q238.57 1549.52 232.759 1549.52 Q226.949 1549.52 223.871 1544.94 Q220.815 1540.33 220.815 1531.6 Q220.815 1522.85 223.871 1518.27 Q226.949 1513.66 232.759 1513.66 Z\" fill=\"#000000\" fill-rule=\"evenodd\" fill-opacity=\"1\" /><path clip-path=\"url(#clip500)\" d=\"M253.732 1544.91 L261.37 1544.91 L261.37 1518.55 L253.06 1520.21 L253.06 1515.95 L261.324 1514.29 L266 1514.29 L266 1544.91 L273.639 1544.91 L273.639 1548.85 L253.732 1548.85 L253.732 1544.91 Z\" fill=\"#000000\" fill-rule=\"evenodd\" fill-opacity=\"1\" /><path clip-path=\"url(#clip500)\" d=\"M280.329 1533.96 L292.805 1533.96 L292.805 1537.76 L280.329 1537.76 L280.329 1533.96 Z\" fill=\"#000000\" fill-rule=\"evenodd\" fill-opacity=\"1\" /><path clip-path=\"url(#clip500)\" d=\"M310.19 1517.37 Q306.578 1517.37 304.75 1520.93 Q302.944 1524.47 302.944 1531.6 Q302.944 1538.71 304.75 1542.27 Q306.578 1545.82 310.19 1545.82 Q313.824 1545.82 315.629 1542.27 Q317.458 1538.71 317.458 1531.6 Q317.458 1524.47 315.629 1520.93 Q313.824 1517.37 310.19 1517.37 M310.19 1513.66 Q316 1513.66 319.055 1518.27 Q322.134 1522.85 322.134 1531.6 Q322.134 1540.33 319.055 1544.94 Q316 1549.52 310.19 1549.52 Q304.379 1549.52 301.301 1544.94 Q298.245 1540.33 298.245 1531.6 Q298.245 1522.85 301.301 1518.27 Q304.379 1513.66 310.19 1513.66 Z\" fill=\"#000000\" fill-rule=\"evenodd\" fill-opacity=\"1\" /><path clip-path=\"url(#clip500)\" d=\"M331.162 1544.91 L338.801 1544.91 L338.801 1518.55 L330.49 1520.21 L330.49 1515.95 L338.754 1514.29 L343.43 1514.29 L343.43 1544.91 L351.069 1544.91 L351.069 1548.85 L331.162 1548.85 L331.162 1544.91 Z\" fill=\"#000000\" fill-rule=\"evenodd\" fill-opacity=\"1\" /><path clip-path=\"url(#clip500)\" d=\"M673.65 1544.91 L689.969 1544.91 L689.969 1548.85 L668.025 1548.85 L668.025 1544.91 Q670.687 1542.16 675.27 1537.53 Q679.877 1532.88 681.057 1531.53 Q683.303 1529.01 684.182 1527.27 Q685.085 1525.51 685.085 1523.82 Q685.085 1521.07 683.14 1519.33 Q681.219 1517.6 678.117 1517.6 Q675.918 1517.6 673.465 1518.36 Q671.034 1519.13 668.256 1520.68 L668.256 1515.95 Q671.08 1514.82 673.534 1514.24 Q675.988 1513.66 678.025 1513.66 Q683.395 1513.66 686.59 1516.35 Q689.784 1519.03 689.784 1523.52 Q689.784 1525.65 688.974 1527.57 Q688.187 1529.47 686.08 1532.07 Q685.502 1532.74 682.4 1535.95 Q679.298 1539.15 673.65 1544.91 Z\" fill=\"#000000\" fill-rule=\"evenodd\" fill-opacity=\"1\" /><path clip-path=\"url(#clip500)\" d=\"M709.784 1517.37 Q706.173 1517.37 704.344 1520.93 Q702.539 1524.47 702.539 1531.6 Q702.539 1538.71 704.344 1542.27 Q706.173 1545.82 709.784 1545.82 Q713.418 1545.82 715.224 1542.27 Q717.052 1538.71 717.052 1531.6 Q717.052 1524.47 715.224 1520.93 Q713.418 1517.37 709.784 1517.37 M709.784 1513.66 Q715.594 1513.66 718.65 1518.27 Q721.728 1522.85 721.728 1531.6 Q721.728 1540.33 718.65 1544.94 Q715.594 1549.52 709.784 1549.52 Q703.974 1549.52 700.895 1544.94 Q697.839 1540.33 697.839 1531.6 Q697.839 1522.85 700.895 1518.27 Q703.974 1513.66 709.784 1513.66 Z\" fill=\"#000000\" fill-rule=\"evenodd\" fill-opacity=\"1\" /><path clip-path=\"url(#clip500)\" d=\"M739.946 1517.37 Q736.335 1517.37 734.506 1520.93 Q732.7 1524.47 732.7 1531.6 Q732.7 1538.71 734.506 1542.27 Q736.335 1545.82 739.946 1545.82 Q743.58 1545.82 745.386 1542.27 Q747.214 1538.71 747.214 1531.6 Q747.214 1524.47 745.386 1520.93 Q743.58 1517.37 739.946 1517.37 M739.946 1513.66 Q745.756 1513.66 748.811 1518.27 Q751.89 1522.85 751.89 1531.6 Q751.89 1540.33 748.811 1544.94 Q745.756 1549.52 739.946 1549.52 Q734.136 1549.52 731.057 1544.94 Q728.001 1540.33 728.001 1531.6 Q728.001 1522.85 731.057 1518.27 Q734.136 1513.66 739.946 1513.66 Z\" fill=\"#000000\" fill-rule=\"evenodd\" fill-opacity=\"1\" /><path clip-path=\"url(#clip500)\" d=\"M760.247 1548.13 L760.247 1543.87 Q762.006 1544.7 763.811 1545.14 Q765.617 1545.58 767.353 1545.58 Q771.983 1545.58 774.413 1542.48 Q776.867 1539.36 777.214 1533.01 Q775.871 1535.01 773.811 1536.07 Q771.751 1537.13 769.251 1537.13 Q764.066 1537.13 761.034 1534.01 Q758.024 1530.86 758.024 1525.42 Q758.024 1520.1 761.172 1516.88 Q764.321 1513.66 769.552 1513.66 Q775.547 1513.66 778.696 1518.27 Q781.867 1522.85 781.867 1531.6 Q781.867 1539.77 777.978 1544.66 Q774.112 1549.52 767.561 1549.52 Q765.802 1549.52 763.997 1549.17 Q762.191 1548.82 760.247 1548.13 M769.552 1533.48 Q772.7 1533.48 774.529 1531.32 Q776.381 1529.17 776.381 1525.42 Q776.381 1521.7 774.529 1519.54 Q772.7 1517.37 769.552 1517.37 Q766.404 1517.37 764.552 1519.54 Q762.723 1521.7 762.723 1525.42 Q762.723 1529.17 764.552 1531.32 Q766.404 1533.48 769.552 1533.48 Z\" fill=\"#000000\" fill-rule=\"evenodd\" fill-opacity=\"1\" /><path clip-path=\"url(#clip500)\" d=\"M787.515 1533.96 L799.992 1533.96 L799.992 1537.76 L787.515 1537.76 L787.515 1533.96 Z\" fill=\"#000000\" fill-rule=\"evenodd\" fill-opacity=\"1\" /><path clip-path=\"url(#clip500)\" d=\"M817.376 1517.37 Q813.765 1517.37 811.936 1520.93 Q810.131 1524.47 810.131 1531.6 Q810.131 1538.71 811.936 1542.27 Q813.765 1545.82 817.376 1545.82 Q821.01 1545.82 822.816 1542.27 Q824.644 1538.71 824.644 1531.6 Q824.644 1524.47 822.816 1520.93 Q821.01 1517.37 817.376 1517.37 M817.376 1513.66 Q823.186 1513.66 826.242 1518.27 Q829.32 1522.85 829.32 1531.6 Q829.32 1540.33 826.242 1544.94 Q823.186 1549.52 817.376 1549.52 Q811.566 1549.52 808.487 1544.94 Q805.432 1540.33 805.432 1531.6 Q805.432 1522.85 808.487 1518.27 Q811.566 1513.66 817.376 1513.66 Z\" fill=\"#000000\" fill-rule=\"evenodd\" fill-opacity=\"1\" /><path clip-path=\"url(#clip500)\" d=\"M838.348 1544.91 L845.987 1544.91 L845.987 1518.55 L837.677 1520.21 L837.677 1515.95 L845.941 1514.29 L850.616 1514.29 L850.616 1544.91 L858.255 1544.91 L858.255 1548.85 L838.348 1548.85 L838.348 1544.91 Z\" fill=\"#000000\" fill-rule=\"evenodd\" fill-opacity=\"1\" /><path clip-path=\"url(#clip500)\" d=\"M864.945 1533.96 L877.422 1533.96 L877.422 1537.76 L864.945 1537.76 L864.945 1533.96 Z\" fill=\"#000000\" fill-rule=\"evenodd\" fill-opacity=\"1\" /><path clip-path=\"url(#clip500)\" d=\"M894.806 1517.37 Q891.195 1517.37 889.366 1520.93 Q887.561 1524.47 887.561 1531.6 Q887.561 1538.71 889.366 1542.27 Q891.195 1545.82 894.806 1545.82 Q898.44 1545.82 900.246 1542.27 Q902.075 1538.71 902.075 1531.6 Q902.075 1524.47 900.246 1520.93 Q898.44 1517.37 894.806 1517.37 M894.806 1513.66 Q900.616 1513.66 903.672 1518.27 Q906.75 1522.85 906.75 1531.6 Q906.75 1540.33 903.672 1544.94 Q900.616 1549.52 894.806 1549.52 Q888.996 1549.52 885.917 1544.94 Q882.862 1540.33 882.862 1531.6 Q882.862 1522.85 885.917 1518.27 Q888.996 1513.66 894.806 1513.66 Z\" fill=\"#000000\" fill-rule=\"evenodd\" fill-opacity=\"1\" /><path clip-path=\"url(#clip500)\" d=\"M915.778 1544.91 L923.417 1544.91 L923.417 1518.55 L915.107 1520.21 L915.107 1515.95 L923.371 1514.29 L928.047 1514.29 L928.047 1544.91 L935.685 1544.91 L935.685 1548.85 L915.778 1548.85 L915.778 1544.91 Z\" fill=\"#000000\" fill-rule=\"evenodd\" fill-opacity=\"1\" /><path clip-path=\"url(#clip500)\" d=\"M1257.95 1544.91 L1274.27 1544.91 L1274.27 1548.85 L1252.32 1548.85 L1252.32 1544.91 Q1254.98 1542.16 1259.57 1537.53 Q1264.17 1532.88 1265.35 1531.53 Q1267.6 1529.01 1268.48 1527.27 Q1269.38 1525.51 1269.38 1523.82 Q1269.38 1521.07 1267.44 1519.33 Q1265.52 1517.6 1262.41 1517.6 Q1260.21 1517.6 1257.76 1518.36 Q1255.33 1519.13 1252.55 1520.68 L1252.55 1515.95 Q1255.38 1514.82 1257.83 1514.24 Q1260.28 1513.66 1262.32 1513.66 Q1267.69 1513.66 1270.89 1516.35 Q1274.08 1519.03 1274.08 1523.52 Q1274.08 1525.65 1273.27 1527.57 Q1272.48 1529.47 1270.38 1532.07 Q1269.8 1532.74 1266.7 1535.95 Q1263.59 1539.15 1257.95 1544.91 Z\" fill=\"#000000\" fill-rule=\"evenodd\" fill-opacity=\"1\" /><path clip-path=\"url(#clip500)\" d=\"M1294.08 1517.37 Q1290.47 1517.37 1288.64 1520.93 Q1286.84 1524.47 1286.84 1531.6 Q1286.84 1538.71 1288.64 1542.27 Q1290.47 1545.82 1294.08 1545.82 Q1297.71 1545.82 1299.52 1542.27 Q1301.35 1538.71 1301.35 1531.6 Q1301.35 1524.47 1299.52 1520.93 Q1297.71 1517.37 1294.08 1517.37 M1294.08 1513.66 Q1299.89 1513.66 1302.95 1518.27 Q1306.02 1522.85 1306.02 1531.6 Q1306.02 1540.33 1302.95 1544.94 Q1299.89 1549.52 1294.08 1549.52 Q1288.27 1549.52 1285.19 1544.94 Q1282.14 1540.33 1282.14 1531.6 Q1282.14 1522.85 1285.19 1518.27 Q1288.27 1513.66 1294.08 1513.66 Z\" fill=\"#000000\" fill-rule=\"evenodd\" fill-opacity=\"1\" /><path clip-path=\"url(#clip500)\" d=\"M1315.05 1544.91 L1322.69 1544.91 L1322.69 1518.55 L1314.38 1520.21 L1314.38 1515.95 L1322.65 1514.29 L1327.32 1514.29 L1327.32 1544.91 L1334.96 1544.91 L1334.96 1548.85 L1315.05 1548.85 L1315.05 1544.91 Z\" fill=\"#000000\" fill-rule=\"evenodd\" fill-opacity=\"1\" /><path clip-path=\"url(#clip500)\" d=\"M1357.25 1518.36 L1345.45 1536.81 L1357.25 1536.81 L1357.25 1518.36 M1356.02 1514.29 L1361.9 1514.29 L1361.9 1536.81 L1366.83 1536.81 L1366.83 1540.7 L1361.9 1540.7 L1361.9 1548.85 L1357.25 1548.85 L1357.25 1540.7 L1341.65 1540.7 L1341.65 1536.19 L1356.02 1514.29 Z\" fill=\"#000000\" fill-rule=\"evenodd\" fill-opacity=\"1\" /><path clip-path=\"url(#clip500)\" d=\"M1371.81 1533.96 L1384.29 1533.96 L1384.29 1537.76 L1371.81 1537.76 L1371.81 1533.96 Z\" fill=\"#000000\" fill-rule=\"evenodd\" fill-opacity=\"1\" /><path clip-path=\"url(#clip500)\" d=\"M1401.67 1517.37 Q1398.06 1517.37 1396.23 1520.93 Q1394.43 1524.47 1394.43 1531.6 Q1394.43 1538.71 1396.23 1542.27 Q1398.06 1545.82 1401.67 1545.82 Q1405.31 1545.82 1407.11 1542.27 Q1408.94 1538.71 1408.94 1531.6 Q1408.94 1524.47 1407.11 1520.93 Q1405.31 1517.37 1401.67 1517.37 M1401.67 1513.66 Q1407.48 1513.66 1410.54 1518.27 Q1413.62 1522.85 1413.62 1531.6 Q1413.62 1540.33 1410.54 1544.94 Q1407.48 1549.52 1401.67 1549.52 Q1395.86 1549.52 1392.78 1544.94 Q1389.73 1540.33 1389.73 1531.6 Q1389.73 1522.85 1392.78 1518.27 Q1395.86 1513.66 1401.67 1513.66 Z\" fill=\"#000000\" fill-rule=\"evenodd\" fill-opacity=\"1\" /><path clip-path=\"url(#clip500)\" d=\"M1422.64 1544.91 L1430.28 1544.91 L1430.28 1518.55 L1421.97 1520.21 L1421.97 1515.95 L1430.24 1514.29 L1434.91 1514.29 L1434.91 1544.91 L1442.55 1544.91 L1442.55 1548.85 L1422.64 1548.85 L1422.64 1544.91 Z\" fill=\"#000000\" fill-rule=\"evenodd\" fill-opacity=\"1\" /><path clip-path=\"url(#clip500)\" d=\"M1449.24 1533.96 L1461.72 1533.96 L1461.72 1537.76 L1449.24 1537.76 L1449.24 1533.96 Z\" fill=\"#000000\" fill-rule=\"evenodd\" fill-opacity=\"1\" /><path clip-path=\"url(#clip500)\" d=\"M1479.1 1517.37 Q1475.49 1517.37 1473.66 1520.93 Q1471.86 1524.47 1471.86 1531.6 Q1471.86 1538.71 1473.66 1542.27 Q1475.49 1545.82 1479.1 1545.82 Q1482.74 1545.82 1484.54 1542.27 Q1486.37 1538.71 1486.37 1531.6 Q1486.37 1524.47 1484.54 1520.93 Q1482.74 1517.37 1479.1 1517.37 M1479.1 1513.66 Q1484.91 1513.66 1487.97 1518.27 Q1491.05 1522.85 1491.05 1531.6 Q1491.05 1540.33 1487.97 1544.94 Q1484.91 1549.52 1479.1 1549.52 Q1473.29 1549.52 1470.21 1544.94 Q1467.16 1540.33 1467.16 1531.6 Q1467.16 1522.85 1470.21 1518.27 Q1473.29 1513.66 1479.1 1513.66 Z\" fill=\"#000000\" fill-rule=\"evenodd\" fill-opacity=\"1\" /><path clip-path=\"url(#clip500)\" d=\"M1500.07 1544.91 L1507.71 1544.91 L1507.71 1518.55 L1499.4 1520.21 L1499.4 1515.95 L1507.67 1514.29 L1512.34 1514.29 L1512.34 1544.91 L1519.98 1544.91 L1519.98 1548.85 L1500.07 1548.85 L1500.07 1544.91 Z\" fill=\"#000000\" fill-rule=\"evenodd\" fill-opacity=\"1\" /><path clip-path=\"url(#clip500)\" d=\"M1842.24 1544.91 L1858.56 1544.91 L1858.56 1548.85 L1836.62 1548.85 L1836.62 1544.91 Q1839.28 1542.16 1843.86 1537.53 Q1848.47 1532.88 1849.65 1531.53 Q1851.9 1529.01 1852.78 1527.27 Q1853.68 1525.51 1853.68 1523.82 Q1853.68 1521.07 1851.73 1519.33 Q1849.81 1517.6 1846.71 1517.6 Q1844.51 1517.6 1842.06 1518.36 Q1839.63 1519.13 1836.85 1520.68 L1836.85 1515.95 Q1839.67 1514.82 1842.13 1514.24 Q1844.58 1513.66 1846.62 1513.66 Q1851.99 1513.66 1855.18 1516.35 Q1858.38 1519.03 1858.38 1523.52 Q1858.38 1525.65 1857.57 1527.57 Q1856.78 1529.47 1854.67 1532.07 Q1854.09 1532.74 1850.99 1535.95 Q1847.89 1539.15 1842.24 1544.91 Z\" fill=\"#000000\" fill-rule=\"evenodd\" fill-opacity=\"1\" /><path clip-path=\"url(#clip500)\" d=\"M1878.38 1517.37 Q1874.77 1517.37 1872.94 1520.93 Q1871.13 1524.47 1871.13 1531.6 Q1871.13 1538.71 1872.94 1542.27 Q1874.77 1545.82 1878.38 1545.82 Q1882.01 1545.82 1883.82 1542.27 Q1885.65 1538.71 1885.65 1531.6 Q1885.65 1524.47 1883.82 1520.93 Q1882.01 1517.37 1878.38 1517.37 M1878.38 1513.66 Q1884.19 1513.66 1887.24 1518.27 Q1890.32 1522.85 1890.32 1531.6 Q1890.32 1540.33 1887.24 1544.94 Q1884.19 1549.52 1878.38 1549.52 Q1872.57 1549.52 1869.49 1544.94 Q1866.43 1540.33 1866.43 1531.6 Q1866.43 1522.85 1869.49 1518.27 Q1872.57 1513.66 1878.38 1513.66 Z\" fill=\"#000000\" fill-rule=\"evenodd\" fill-opacity=\"1\" /><path clip-path=\"url(#clip500)\" d=\"M1899.35 1544.91 L1906.99 1544.91 L1906.99 1518.55 L1898.68 1520.21 L1898.68 1515.95 L1906.94 1514.29 L1911.62 1514.29 L1911.62 1544.91 L1919.26 1544.91 L1919.26 1548.85 L1899.35 1548.85 L1899.35 1544.91 Z\" fill=\"#000000\" fill-rule=\"evenodd\" fill-opacity=\"1\" /><path clip-path=\"url(#clip500)\" d=\"M1928.84 1548.13 L1928.84 1543.87 Q1930.6 1544.7 1932.4 1545.14 Q1934.21 1545.58 1935.95 1545.58 Q1940.58 1545.58 1943.01 1542.48 Q1945.46 1539.36 1945.81 1533.01 Q1944.46 1535.01 1942.4 1536.07 Q1940.34 1537.13 1937.84 1537.13 Q1932.66 1537.13 1929.63 1534.01 Q1926.62 1530.86 1926.62 1525.42 Q1926.62 1520.1 1929.77 1516.88 Q1932.91 1513.66 1938.15 1513.66 Q1944.14 1513.66 1947.29 1518.27 Q1950.46 1522.85 1950.46 1531.6 Q1950.46 1539.77 1946.57 1544.66 Q1942.71 1549.52 1936.15 1549.52 Q1934.4 1549.52 1932.59 1549.17 Q1930.78 1548.82 1928.84 1548.13 M1938.15 1533.48 Q1941.29 1533.48 1943.12 1531.32 Q1944.97 1529.17 1944.97 1525.42 Q1944.97 1521.7 1943.12 1519.54 Q1941.29 1517.37 1938.15 1517.37 Q1935 1517.37 1933.15 1519.54 Q1931.32 1521.7 1931.32 1525.42 Q1931.32 1529.17 1933.15 1531.32 Q1935 1533.48 1938.15 1533.48 Z\" fill=\"#000000\" fill-rule=\"evenodd\" fill-opacity=\"1\" /><path clip-path=\"url(#clip500)\" d=\"M1956.11 1533.96 L1968.58 1533.96 L1968.58 1537.76 L1956.11 1537.76 L1956.11 1533.96 Z\" fill=\"#000000\" fill-rule=\"evenodd\" fill-opacity=\"1\" /><path clip-path=\"url(#clip500)\" d=\"M1985.97 1517.37 Q1982.36 1517.37 1980.53 1520.93 Q1978.72 1524.47 1978.72 1531.6 Q1978.72 1538.71 1980.53 1542.27 Q1982.36 1545.82 1985.97 1545.82 Q1989.6 1545.82 1991.41 1542.27 Q1993.24 1538.71 1993.24 1531.6 Q1993.24 1524.47 1991.41 1520.93 Q1989.6 1517.37 1985.97 1517.37 M1985.97 1513.66 Q1991.78 1513.66 1994.83 1518.27 Q1997.91 1522.85 1997.91 1531.6 Q1997.91 1540.33 1994.83 1544.94 Q1991.78 1549.52 1985.97 1549.52 Q1980.16 1549.52 1977.08 1544.94 Q1974.02 1540.33 1974.02 1531.6 Q1974.02 1522.85 1977.08 1518.27 Q1980.16 1513.66 1985.97 1513.66 Z\" fill=\"#000000\" fill-rule=\"evenodd\" fill-opacity=\"1\" /><path clip-path=\"url(#clip500)\" d=\"M2006.94 1544.91 L2014.58 1544.91 L2014.58 1518.55 L2006.27 1520.21 L2006.27 1515.95 L2014.53 1514.29 L2019.21 1514.29 L2019.21 1544.91 L2026.85 1544.91 L2026.85 1548.85 L2006.94 1548.85 L2006.94 1544.91 Z\" fill=\"#000000\" fill-rule=\"evenodd\" fill-opacity=\"1\" /><path clip-path=\"url(#clip500)\" d=\"M2033.54 1533.96 L2046.01 1533.96 L2046.01 1537.76 L2033.54 1537.76 L2033.54 1533.96 Z\" fill=\"#000000\" fill-rule=\"evenodd\" fill-opacity=\"1\" /><path clip-path=\"url(#clip500)\" d=\"M2063.4 1517.37 Q2059.79 1517.37 2057.96 1520.93 Q2056.15 1524.47 2056.15 1531.6 Q2056.15 1538.71 2057.96 1542.27 Q2059.79 1545.82 2063.4 1545.82 Q2067.03 1545.82 2068.84 1542.27 Q2070.67 1538.71 2070.67 1531.6 Q2070.67 1524.47 2068.84 1520.93 Q2067.03 1517.37 2063.4 1517.37 M2063.4 1513.66 Q2069.21 1513.66 2072.26 1518.27 Q2075.34 1522.85 2075.34 1531.6 Q2075.34 1540.33 2072.26 1544.94 Q2069.21 1549.52 2063.4 1549.52 Q2057.59 1549.52 2054.51 1544.94 Q2051.45 1540.33 2051.45 1531.6 Q2051.45 1522.85 2054.51 1518.27 Q2057.59 1513.66 2063.4 1513.66 Z\" fill=\"#000000\" fill-rule=\"evenodd\" fill-opacity=\"1\" /><path clip-path=\"url(#clip500)\" d=\"M2084.37 1544.91 L2092.01 1544.91 L2092.01 1518.55 L2083.7 1520.21 L2083.7 1515.95 L2091.96 1514.29 L2096.64 1514.29 L2096.64 1544.91 L2104.28 1544.91 L2104.28 1548.85 L2084.37 1548.85 L2084.37 1544.91 Z\" fill=\"#000000\" fill-rule=\"evenodd\" fill-opacity=\"1\" /><polyline clip-path=\"url(#clip502)\" style=\"stroke:#000000; stroke-linecap:butt; stroke-linejoin:round; stroke-width:2; stroke-opacity:0.1; fill:none\" points=\"\n",
       "  184.677,1308.4 2352.76,1308.4 \n",
       "  \"/>\n",
       "<polyline clip-path=\"url(#clip502)\" style=\"stroke:#000000; stroke-linecap:butt; stroke-linejoin:round; stroke-width:2; stroke-opacity:0.1; fill:none\" points=\"\n",
       "  184.677,1100.99 2352.76,1100.99 \n",
       "  \"/>\n",
       "<polyline clip-path=\"url(#clip502)\" style=\"stroke:#000000; stroke-linecap:butt; stroke-linejoin:round; stroke-width:2; stroke-opacity:0.1; fill:none\" points=\"\n",
       "  184.677,893.575 2352.76,893.575 \n",
       "  \"/>\n",
       "<polyline clip-path=\"url(#clip502)\" style=\"stroke:#000000; stroke-linecap:butt; stroke-linejoin:round; stroke-width:2; stroke-opacity:0.1; fill:none\" points=\"\n",
       "  184.677,686.162 2352.76,686.162 \n",
       "  \"/>\n",
       "<polyline clip-path=\"url(#clip502)\" style=\"stroke:#000000; stroke-linecap:butt; stroke-linejoin:round; stroke-width:2; stroke-opacity:0.1; fill:none\" points=\"\n",
       "  184.677,478.75 2352.76,478.75 \n",
       "  \"/>\n",
       "<polyline clip-path=\"url(#clip502)\" style=\"stroke:#000000; stroke-linecap:butt; stroke-linejoin:round; stroke-width:2; stroke-opacity:0.1; fill:none\" points=\"\n",
       "  184.677,271.337 2352.76,271.337 \n",
       "  \"/>\n",
       "<polyline clip-path=\"url(#clip502)\" style=\"stroke:#000000; stroke-linecap:butt; stroke-linejoin:round; stroke-width:2; stroke-opacity:0.1; fill:none\" points=\"\n",
       "  184.677,63.9246 2352.76,63.9246 \n",
       "  \"/>\n",
       "<polyline clip-path=\"url(#clip500)\" style=\"stroke:#000000; stroke-linecap:butt; stroke-linejoin:round; stroke-width:4; stroke-opacity:1; fill:none\" points=\"\n",
       "  184.677,1486.45 184.677,47.2441 \n",
       "  \"/>\n",
       "<polyline clip-path=\"url(#clip500)\" style=\"stroke:#000000; stroke-linecap:butt; stroke-linejoin:round; stroke-width:4; stroke-opacity:1; fill:none\" points=\"\n",
       "  184.677,1308.4 203.574,1308.4 \n",
       "  \"/>\n",
       "<polyline clip-path=\"url(#clip500)\" style=\"stroke:#000000; stroke-linecap:butt; stroke-linejoin:round; stroke-width:4; stroke-opacity:1; fill:none\" points=\"\n",
       "  184.677,1100.99 203.574,1100.99 \n",
       "  \"/>\n",
       "<polyline clip-path=\"url(#clip500)\" style=\"stroke:#000000; stroke-linecap:butt; stroke-linejoin:round; stroke-width:4; stroke-opacity:1; fill:none\" points=\"\n",
       "  184.677,893.575 203.574,893.575 \n",
       "  \"/>\n",
       "<polyline clip-path=\"url(#clip500)\" style=\"stroke:#000000; stroke-linecap:butt; stroke-linejoin:round; stroke-width:4; stroke-opacity:1; fill:none\" points=\"\n",
       "  184.677,686.162 203.574,686.162 \n",
       "  \"/>\n",
       "<polyline clip-path=\"url(#clip500)\" style=\"stroke:#000000; stroke-linecap:butt; stroke-linejoin:round; stroke-width:4; stroke-opacity:1; fill:none\" points=\"\n",
       "  184.677,478.75 203.574,478.75 \n",
       "  \"/>\n",
       "<polyline clip-path=\"url(#clip500)\" style=\"stroke:#000000; stroke-linecap:butt; stroke-linejoin:round; stroke-width:4; stroke-opacity:1; fill:none\" points=\"\n",
       "  184.677,271.337 203.574,271.337 \n",
       "  \"/>\n",
       "<polyline clip-path=\"url(#clip500)\" style=\"stroke:#000000; stroke-linecap:butt; stroke-linejoin:round; stroke-width:4; stroke-opacity:1; fill:none\" points=\"\n",
       "  184.677,63.9246 203.574,63.9246 \n",
       "  \"/>\n",
       "<path clip-path=\"url(#clip500)\" d=\"M51.6634 1321.75 L59.3023 1321.75 L59.3023 1295.38 L50.9921 1297.05 L50.9921 1292.79 L59.256 1291.12 L63.9319 1291.12 L63.9319 1321.75 L71.5707 1321.75 L71.5707 1325.68 L51.6634 1325.68 L51.6634 1321.75 Z\" fill=\"#000000\" fill-rule=\"evenodd\" fill-opacity=\"1\" /><path clip-path=\"url(#clip500)\" d=\"M93.8623 1295.19 L82.0568 1313.64 L93.8623 1313.64 L93.8623 1295.19 M92.6354 1291.12 L98.515 1291.12 L98.515 1313.64 L103.446 1313.64 L103.446 1317.53 L98.515 1317.53 L98.515 1325.68 L93.8623 1325.68 L93.8623 1317.53 L78.2605 1317.53 L78.2605 1313.02 L92.6354 1291.12 Z\" fill=\"#000000\" fill-rule=\"evenodd\" fill-opacity=\"1\" /><path clip-path=\"url(#clip500)\" d=\"M111.177 1319.8 L116.061 1319.8 L116.061 1325.68 L111.177 1325.68 L111.177 1319.8 Z\" fill=\"#000000\" fill-rule=\"evenodd\" fill-opacity=\"1\" /><path clip-path=\"url(#clip500)\" d=\"M139.094 1295.19 L127.288 1313.64 L139.094 1313.64 L139.094 1295.19 M137.867 1291.12 L143.746 1291.12 L143.746 1313.64 L148.677 1313.64 L148.677 1317.53 L143.746 1317.53 L143.746 1325.68 L139.094 1325.68 L139.094 1317.53 L123.492 1317.53 L123.492 1313.02 L137.867 1291.12 Z\" fill=\"#000000\" fill-rule=\"evenodd\" fill-opacity=\"1\" /><path clip-path=\"url(#clip500)\" d=\"M51.9875 1114.33 L59.6263 1114.33 L59.6263 1087.97 L51.3162 1089.63 L51.3162 1085.37 L59.58 1083.71 L64.2559 1083.71 L64.2559 1114.33 L71.8948 1114.33 L71.8948 1118.27 L51.9875 1118.27 L51.9875 1114.33 Z\" fill=\"#000000\" fill-rule=\"evenodd\" fill-opacity=\"1\" /><path clip-path=\"url(#clip500)\" d=\"M94.1863 1087.78 L82.3808 1106.23 L94.1863 1106.23 L94.1863 1087.78 M92.9595 1083.71 L98.8391 1083.71 L98.8391 1106.23 L103.77 1106.23 L103.77 1110.12 L98.8391 1110.12 L98.8391 1118.27 L94.1863 1118.27 L94.1863 1110.12 L78.5846 1110.12 L78.5846 1105.61 L92.9595 1083.71 Z\" fill=\"#000000\" fill-rule=\"evenodd\" fill-opacity=\"1\" /><path clip-path=\"url(#clip500)\" d=\"M111.501 1112.39 L116.385 1112.39 L116.385 1118.27 L111.501 1118.27 L111.501 1112.39 Z\" fill=\"#000000\" fill-rule=\"evenodd\" fill-opacity=\"1\" /><path clip-path=\"url(#clip500)\" d=\"M137.149 1099.12 Q134.001 1099.12 132.149 1101.28 Q130.32 1103.43 130.32 1107.18 Q130.32 1110.91 132.149 1113.08 Q134.001 1115.24 137.149 1115.24 Q140.297 1115.24 142.126 1113.08 Q143.978 1110.91 143.978 1107.18 Q143.978 1103.43 142.126 1101.28 Q140.297 1099.12 137.149 1099.12 M146.431 1084.47 L146.431 1088.73 Q144.672 1087.9 142.867 1087.46 Q141.084 1087.02 139.325 1087.02 Q134.695 1087.02 132.242 1090.14 Q129.811 1093.27 129.464 1099.59 Q130.83 1097.57 132.89 1096.51 Q134.95 1095.42 137.427 1095.42 Q142.635 1095.42 145.644 1098.59 Q148.677 1101.74 148.677 1107.18 Q148.677 1112.5 145.529 1115.72 Q142.381 1118.94 137.149 1118.94 Q131.154 1118.94 127.982 1114.36 Q124.811 1109.75 124.811 1101.02 Q124.811 1092.83 128.7 1087.97 Q132.589 1083.08 139.14 1083.08 Q140.899 1083.08 142.681 1083.43 Q144.487 1083.78 146.431 1084.47 Z\" fill=\"#000000\" fill-rule=\"evenodd\" fill-opacity=\"1\" /><path clip-path=\"url(#clip500)\" d=\"M52.2421 906.92 L59.881 906.92 L59.881 880.554 L51.5708 882.221 L51.5708 877.962 L59.8347 876.295 L64.5106 876.295 L64.5106 906.92 L72.1494 906.92 L72.1494 910.855 L52.2421 910.855 L52.2421 906.92 Z\" fill=\"#000000\" fill-rule=\"evenodd\" fill-opacity=\"1\" /><path clip-path=\"url(#clip500)\" d=\"M94.441 880.369 L82.6355 898.818 L94.441 898.818 L94.441 880.369 M93.2141 876.295 L99.0937 876.295 L99.0937 898.818 L104.024 898.818 L104.024 902.707 L99.0937 902.707 L99.0937 910.855 L94.441 910.855 L94.441 902.707 L78.8392 902.707 L78.8392 898.193 L93.2141 876.295 Z\" fill=\"#000000\" fill-rule=\"evenodd\" fill-opacity=\"1\" /><path clip-path=\"url(#clip500)\" d=\"M111.756 904.975 L116.64 904.975 L116.64 910.855 L111.756 910.855 L111.756 904.975 Z\" fill=\"#000000\" fill-rule=\"evenodd\" fill-opacity=\"1\" /><path clip-path=\"url(#clip500)\" d=\"M136.825 894.443 Q133.492 894.443 131.57 896.226 Q129.672 898.008 129.672 901.133 Q129.672 904.258 131.57 906.04 Q133.492 907.823 136.825 907.823 Q140.158 907.823 142.08 906.04 Q144.001 904.235 144.001 901.133 Q144.001 898.008 142.08 896.226 Q140.181 894.443 136.825 894.443 M132.149 892.452 Q129.14 891.712 127.45 889.651 Q125.783 887.591 125.783 884.628 Q125.783 880.485 128.723 878.077 Q131.686 875.67 136.825 875.67 Q141.987 875.67 144.927 878.077 Q147.867 880.485 147.867 884.628 Q147.867 887.591 146.177 889.651 Q144.51 891.712 141.524 892.452 Q144.904 893.239 146.779 895.531 Q148.677 897.823 148.677 901.133 Q148.677 906.156 145.598 908.841 Q142.543 911.526 136.825 911.526 Q131.107 911.526 128.029 908.841 Q124.973 906.156 124.973 901.133 Q124.973 897.823 126.871 895.531 Q128.769 893.239 132.149 892.452 M130.436 885.068 Q130.436 887.753 132.103 889.258 Q133.793 890.763 136.825 890.763 Q139.834 890.763 141.524 889.258 Q143.237 887.753 143.237 885.068 Q143.237 882.383 141.524 880.878 Q139.834 879.374 136.825 879.374 Q133.793 879.374 132.103 880.878 Q130.436 882.383 130.436 885.068 Z\" fill=\"#000000\" fill-rule=\"evenodd\" fill-opacity=\"1\" /><path clip-path=\"url(#clip500)\" d=\"M52.1495 699.507 L59.7884 699.507 L59.7884 673.142 L51.4782 674.808 L51.4782 670.549 L59.7421 668.882 L64.418 668.882 L64.418 699.507 L72.0568 699.507 L72.0568 703.442 L52.1495 703.442 L52.1495 699.507 Z\" fill=\"#000000\" fill-rule=\"evenodd\" fill-opacity=\"1\" /><path clip-path=\"url(#clip500)\" d=\"M81.5475 668.882 L99.9039 668.882 L99.9039 672.818 L85.8299 672.818 L85.8299 681.29 Q86.8484 680.943 87.8669 680.781 Q88.8854 680.595 89.904 680.595 Q95.691 680.595 99.0706 683.767 Q102.45 686.938 102.45 692.355 Q102.45 697.933 98.978 701.035 Q95.5058 704.114 89.1864 704.114 Q87.0105 704.114 84.7419 703.743 Q82.4966 703.373 80.0892 702.632 L80.0892 697.933 Q82.1725 699.067 84.3947 699.623 Q86.6169 700.179 89.0938 700.179 Q93.0984 700.179 95.4363 698.072 Q97.7743 695.966 97.7743 692.355 Q97.7743 688.743 95.4363 686.637 Q93.0984 684.531 89.0938 684.531 Q87.2188 684.531 85.3438 684.947 Q83.492 685.364 81.5475 686.243 L81.5475 668.882 Z\" fill=\"#000000\" fill-rule=\"evenodd\" fill-opacity=\"1\" /><path clip-path=\"url(#clip500)\" d=\"M111.663 697.563 L116.547 697.563 L116.547 703.442 L111.663 703.442 L111.663 697.563 Z\" fill=\"#000000\" fill-rule=\"evenodd\" fill-opacity=\"1\" /><path clip-path=\"url(#clip500)\" d=\"M136.732 671.961 Q133.121 671.961 131.293 675.526 Q129.487 679.068 129.487 686.197 Q129.487 693.304 131.293 696.868 Q133.121 700.41 136.732 700.41 Q140.367 700.41 142.172 696.868 Q144.001 693.304 144.001 686.197 Q144.001 679.068 142.172 675.526 Q140.367 671.961 136.732 671.961 M136.732 668.257 Q142.543 668.257 145.598 672.864 Q148.677 677.447 148.677 686.197 Q148.677 694.924 145.598 699.53 Q142.543 704.114 136.732 704.114 Q130.922 704.114 127.844 699.53 Q124.788 694.924 124.788 686.197 Q124.788 677.447 127.844 672.864 Q130.922 668.257 136.732 668.257 Z\" fill=\"#000000\" fill-rule=\"evenodd\" fill-opacity=\"1\" /><path clip-path=\"url(#clip500)\" d=\"M53.7467 492.095 L61.3856 492.095 L61.3856 465.729 L53.0754 467.396 L53.0754 463.136 L61.3393 461.47 L66.0152 461.47 L66.0152 492.095 L73.654 492.095 L73.654 496.03 L53.7467 496.03 L53.7467 492.095 Z\" fill=\"#000000\" fill-rule=\"evenodd\" fill-opacity=\"1\" /><path clip-path=\"url(#clip500)\" d=\"M83.1447 461.47 L101.501 461.47 L101.501 465.405 L87.4271 465.405 L87.4271 473.877 Q88.4456 473.53 89.4641 473.368 Q90.4827 473.183 91.5012 473.183 Q97.2882 473.183 100.668 476.354 Q104.047 479.525 104.047 484.942 Q104.047 490.521 100.575 493.622 Q97.103 496.701 90.7836 496.701 Q88.6077 496.701 86.3392 496.331 Q84.0938 495.96 81.6864 495.22 L81.6864 490.521 Q83.7697 491.655 85.9919 492.21 Q88.2141 492.766 90.691 492.766 Q94.6956 492.766 97.0335 490.659 Q99.3715 488.553 99.3715 484.942 Q99.3715 481.331 97.0335 479.224 Q94.6956 477.118 90.691 477.118 Q88.816 477.118 86.941 477.535 Q85.0892 477.951 83.1447 478.831 L83.1447 461.47 Z\" fill=\"#000000\" fill-rule=\"evenodd\" fill-opacity=\"1\" /><path clip-path=\"url(#clip500)\" d=\"M113.26 490.15 L118.145 490.15 L118.145 496.03 L113.26 496.03 L113.26 490.15 Z\" fill=\"#000000\" fill-rule=\"evenodd\" fill-opacity=\"1\" /><path clip-path=\"url(#clip500)\" d=\"M132.357 492.095 L148.677 492.095 L148.677 496.03 L126.732 496.03 L126.732 492.095 Q129.394 489.34 133.978 484.71 Q138.584 480.058 139.765 478.715 Q142.01 476.192 142.89 474.456 Q143.793 472.697 143.793 471.007 Q143.793 468.252 141.848 466.516 Q139.927 464.78 136.825 464.78 Q134.626 464.78 132.172 465.544 Q129.742 466.308 126.964 467.859 L126.964 463.136 Q129.788 462.002 132.242 461.424 Q134.695 460.845 136.732 460.845 Q142.103 460.845 145.297 463.53 Q148.492 466.215 148.492 470.706 Q148.492 472.836 147.681 474.757 Q146.894 476.655 144.788 479.248 Q144.209 479.919 141.107 483.136 Q138.006 486.331 132.357 492.095 Z\" fill=\"#000000\" fill-rule=\"evenodd\" fill-opacity=\"1\" /><path clip-path=\"url(#clip500)\" d=\"M51.6634 284.682 L59.3023 284.682 L59.3023 258.316 L50.9921 259.983 L50.9921 255.724 L59.256 254.057 L63.9319 254.057 L63.9319 284.682 L71.5707 284.682 L71.5707 288.617 L51.6634 288.617 L51.6634 284.682 Z\" fill=\"#000000\" fill-rule=\"evenodd\" fill-opacity=\"1\" /><path clip-path=\"url(#clip500)\" d=\"M81.0614 254.057 L99.4178 254.057 L99.4178 257.992 L85.3438 257.992 L85.3438 266.465 Q86.3623 266.117 87.3808 265.955 Q88.3993 265.77 89.4178 265.77 Q95.2049 265.77 98.5845 268.941 Q101.964 272.113 101.964 277.529 Q101.964 283.108 98.4919 286.21 Q95.0197 289.289 88.7003 289.289 Q86.5243 289.289 84.2558 288.918 Q82.0105 288.548 79.6031 287.807 L79.6031 283.108 Q81.6864 284.242 83.9086 284.798 Q86.1308 285.353 88.6077 285.353 Q92.6123 285.353 94.9502 283.247 Q97.2882 281.14 97.2882 277.529 Q97.2882 273.918 94.9502 271.812 Q92.6123 269.705 88.6077 269.705 Q86.7327 269.705 84.8577 270.122 Q83.0058 270.539 81.0614 271.418 L81.0614 254.057 Z\" fill=\"#000000\" fill-rule=\"evenodd\" fill-opacity=\"1\" /><path clip-path=\"url(#clip500)\" d=\"M111.177 282.738 L116.061 282.738 L116.061 288.617 L111.177 288.617 L111.177 282.738 Z\" fill=\"#000000\" fill-rule=\"evenodd\" fill-opacity=\"1\" /><path clip-path=\"url(#clip500)\" d=\"M139.094 258.131 L127.288 276.58 L139.094 276.58 L139.094 258.131 M137.867 254.057 L143.746 254.057 L143.746 276.58 L148.677 276.58 L148.677 280.469 L143.746 280.469 L143.746 288.617 L139.094 288.617 L139.094 280.469 L123.492 280.469 L123.492 275.955 L137.867 254.057 Z\" fill=\"#000000\" fill-rule=\"evenodd\" fill-opacity=\"1\" /><path clip-path=\"url(#clip500)\" d=\"M51.9875 77.2694 L59.6263 77.2694 L59.6263 50.9038 L51.3162 52.5705 L51.3162 48.3113 L59.58 46.6446 L64.2559 46.6446 L64.2559 77.2694 L71.8948 77.2694 L71.8948 81.2046 L51.9875 81.2046 L51.9875 77.2694 Z\" fill=\"#000000\" fill-rule=\"evenodd\" fill-opacity=\"1\" /><path clip-path=\"url(#clip500)\" d=\"M81.3855 46.6446 L99.7419 46.6446 L99.7419 50.5798 L85.6679 50.5798 L85.6679 59.0519 Q86.6864 58.7047 87.7049 58.5427 Q88.7234 58.3575 89.7419 58.3575 Q95.5289 58.3575 98.9085 61.5288 Q102.288 64.7001 102.288 70.1167 Q102.288 75.6954 98.8159 78.7972 Q95.3437 81.8759 89.0243 81.8759 Q86.8484 81.8759 84.5799 81.5055 Q82.3346 81.1352 79.9272 80.3944 L79.9272 75.6954 Q82.0105 76.8296 84.2327 77.3852 Q86.4549 77.9407 88.9317 77.9407 Q92.9363 77.9407 95.2743 75.8343 Q97.6122 73.7278 97.6122 70.1167 Q97.6122 66.5056 95.2743 64.3991 Q92.9363 62.2927 88.9317 62.2927 Q87.0567 62.2927 85.1818 62.7093 Q83.3299 63.126 81.3855 64.0056 L81.3855 46.6446 Z\" fill=\"#000000\" fill-rule=\"evenodd\" fill-opacity=\"1\" /><path clip-path=\"url(#clip500)\" d=\"M111.501 75.325 L116.385 75.325 L116.385 81.2046 L111.501 81.2046 L111.501 75.325 Z\" fill=\"#000000\" fill-rule=\"evenodd\" fill-opacity=\"1\" /><path clip-path=\"url(#clip500)\" d=\"M137.149 62.0612 Q134.001 62.0612 132.149 64.214 Q130.32 66.3667 130.32 70.1167 Q130.32 73.8435 132.149 76.0194 Q134.001 78.1722 137.149 78.1722 Q140.297 78.1722 142.126 76.0194 Q143.978 73.8435 143.978 70.1167 Q143.978 66.3667 142.126 64.214 Q140.297 62.0612 137.149 62.0612 M146.431 47.4085 L146.431 51.6677 Q144.672 50.8344 142.867 50.3946 Q141.084 49.9548 139.325 49.9548 Q134.695 49.9548 132.242 53.0798 Q129.811 56.2047 129.464 62.5241 Q130.83 60.5103 132.89 59.4455 Q134.95 58.3575 137.427 58.3575 Q142.635 58.3575 145.644 61.5288 Q148.677 64.6769 148.677 70.1167 Q148.677 75.4407 145.529 78.6583 Q142.381 81.8759 137.149 81.8759 Q131.154 81.8759 127.982 77.2926 Q124.811 72.6861 124.811 63.9593 Q124.811 55.7649 128.7 50.9038 Q132.589 46.0196 139.14 46.0196 Q140.899 46.0196 142.681 46.3668 Q144.487 46.714 146.431 47.4085 Z\" fill=\"#000000\" fill-rule=\"evenodd\" fill-opacity=\"1\" /><polyline clip-path=\"url(#clip502)\" style=\"stroke:#0000ff; stroke-linecap:butt; stroke-linejoin:round; stroke-width:8; stroke-opacity:0.8; fill:none\" points=\"\n",
       "  246.038,1445.72 275.156,1400.92 304.595,1379.81 334.034,1345.52 362.833,1323.1 391.952,1302.8 421.39,1263.34 450.829,1238.9 479.628,1216.59 508.747,1170.85 \n",
       "  538.186,1135.28 567.625,1082.35 596.423,1064.08 625.542,1028.1 654.981,999.751 684.42,980.012 713.539,935.742 742.658,910.49 772.096,875.645 801.535,894.711 \n",
       "  830.334,868.285 859.453,872.024 888.892,844.703 918.33,826.995 947.129,797.498 976.248,771.754 1005.69,757.011 1035.13,747.548 1063.92,713.768 1093.04,691.793 \n",
       "  1122.48,666.115 1151.92,633.362 1181.04,616.417 1210.16,589.981 1239.6,570.451 1269.04,553.927 1297.84,525.569 1326.95,494.232 1356.39,471.919 1385.83,468.434 \n",
       "  1414.63,443.265 1443.75,431.606 1473.19,420.493 1502.63,414.13 1531.43,382.936 1560.54,376.449 1589.98,353.082 1619.42,327.482 1648.54,316.296 1677.66,310.358 \n",
       "  1707.1,291.524 1736.54,287.158 1765.34,265.529 1794.46,249.069 1823.89,235.944 1853.33,215.336 1882.13,206.071 1911.25,192.704 1940.69,161.274 1970.13,155.606 \n",
       "  1998.93,162.658 2028.05,127.247 2057.48,120.322 2086.92,120.591 2116.04,133.153 2145.16,295.098 2174.6,203.801 2204.04,134.818 2232.84,121.637 2261.96,121.878 \n",
       "  2291.4,87.9763 \n",
       "  \"/>\n",
       "</svg>\n"
      ]
     },
     "execution_count": 27,
     "metadata": {},
     "output_type": "execute_result"
    }
   ],
   "source": [
    "plot(date_sa, log.(gdp), legend = false, lw = 2, color = :blue, alpha = 0.8)"
   ]
  },
  {
   "cell_type": "markdown",
   "metadata": {
    "slideshow": {
     "slide_type": "slide"
    }
   },
   "source": [
    "## Plotting the data (inflation)"
   ]
  },
  {
   "cell_type": "code",
   "execution_count": 43,
   "metadata": {
    "slideshow": {
     "slide_type": "fragment"
    }
   },
   "outputs": [
    {
     "data": {
      "image/svg+xml": [
       "<?xml version=\"1.0\" encoding=\"utf-8\"?>\n",
       "<svg xmlns=\"http://www.w3.org/2000/svg\" xmlns:xlink=\"http://www.w3.org/1999/xlink\" width=\"600\" height=\"400\" viewBox=\"0 0 2400 1600\">\n",
       "<defs>\n",
       "  <clipPath id=\"clip940\">\n",
       "    <rect x=\"0\" y=\"0\" width=\"2400\" height=\"1600\"/>\n",
       "  </clipPath>\n",
       "</defs>\n",
       "<path clip-path=\"url(#clip940)\" d=\"\n",
       "M0 1600 L2400 1600 L2400 0 L0 0  Z\n",
       "  \" fill=\"#ffffff\" fill-rule=\"evenodd\" fill-opacity=\"1\"/>\n",
       "<defs>\n",
       "  <clipPath id=\"clip941\">\n",
       "    <rect x=\"480\" y=\"0\" width=\"1681\" height=\"1600\"/>\n",
       "  </clipPath>\n",
       "</defs>\n",
       "<path clip-path=\"url(#clip940)\" d=\"\n",
       "M184.191 1486.45 L2352.76 1486.45 L2352.76 47.2441 L184.191 47.2441  Z\n",
       "  \" fill=\"#ffffff\" fill-rule=\"evenodd\" fill-opacity=\"1\"/>\n",
       "<defs>\n",
       "  <clipPath id=\"clip942\">\n",
       "    <rect x=\"184\" y=\"47\" width=\"2170\" height=\"1440\"/>\n",
       "  </clipPath>\n",
       "</defs>\n",
       "<polyline clip-path=\"url(#clip942)\" style=\"stroke:#000000; stroke-linecap:butt; stroke-linejoin:round; stroke-width:2; stroke-opacity:0.1; fill:none\" points=\"\n",
       "  216.76,1486.45 216.76,47.2441 \n",
       "  \"/>\n",
       "<polyline clip-path=\"url(#clip942)\" style=\"stroke:#000000; stroke-linecap:butt; stroke-linejoin:round; stroke-width:2; stroke-opacity:0.1; fill:none\" points=\"\n",
       "  801.507,1486.45 801.507,47.2441 \n",
       "  \"/>\n",
       "<polyline clip-path=\"url(#clip942)\" style=\"stroke:#000000; stroke-linecap:butt; stroke-linejoin:round; stroke-width:2; stroke-opacity:0.1; fill:none\" points=\"\n",
       "  1385.93,1486.45 1385.93,47.2441 \n",
       "  \"/>\n",
       "<polyline clip-path=\"url(#clip942)\" style=\"stroke:#000000; stroke-linecap:butt; stroke-linejoin:round; stroke-width:2; stroke-opacity:0.1; fill:none\" points=\"\n",
       "  1970.36,1486.45 1970.36,47.2441 \n",
       "  \"/>\n",
       "<polyline clip-path=\"url(#clip940)\" style=\"stroke:#000000; stroke-linecap:butt; stroke-linejoin:round; stroke-width:4; stroke-opacity:1; fill:none\" points=\"\n",
       "  184.191,1486.45 2352.76,1486.45 \n",
       "  \"/>\n",
       "<polyline clip-path=\"url(#clip940)\" style=\"stroke:#000000; stroke-linecap:butt; stroke-linejoin:round; stroke-width:4; stroke-opacity:1; fill:none\" points=\"\n",
       "  216.76,1486.45 216.76,1467.55 \n",
       "  \"/>\n",
       "<polyline clip-path=\"url(#clip940)\" style=\"stroke:#000000; stroke-linecap:butt; stroke-linejoin:round; stroke-width:4; stroke-opacity:1; fill:none\" points=\"\n",
       "  801.507,1486.45 801.507,1467.55 \n",
       "  \"/>\n",
       "<polyline clip-path=\"url(#clip940)\" style=\"stroke:#000000; stroke-linecap:butt; stroke-linejoin:round; stroke-width:4; stroke-opacity:1; fill:none\" points=\"\n",
       "  1385.93,1486.45 1385.93,1467.55 \n",
       "  \"/>\n",
       "<polyline clip-path=\"url(#clip940)\" style=\"stroke:#000000; stroke-linecap:butt; stroke-linejoin:round; stroke-width:4; stroke-opacity:1; fill:none\" points=\"\n",
       "  1970.36,1486.45 1970.36,1467.55 \n",
       "  \"/>\n",
       "<path clip-path=\"url(#clip940)\" d=\"M88.5545 1544.91 L104.874 1544.91 L104.874 1548.85 L82.9296 1548.85 L82.9296 1544.91 Q85.5916 1542.16 90.1749 1537.53 Q94.7814 1532.88 95.9619 1531.53 Q98.2073 1529.01 99.0869 1527.27 Q99.9897 1525.51 99.9897 1523.82 Q99.9897 1521.07 98.0452 1519.33 Q96.1239 1517.6 93.0221 1517.6 Q90.823 1517.6 88.3694 1518.36 Q85.9388 1519.13 83.161 1520.68 L83.161 1515.95 Q85.9851 1514.82 88.4388 1514.24 Q90.8925 1513.66 92.9295 1513.66 Q98.2999 1513.66 101.494 1516.35 Q104.689 1519.03 104.689 1523.52 Q104.689 1525.65 103.879 1527.57 Q103.091 1529.47 100.985 1532.07 Q100.406 1532.74 97.3045 1535.95 Q94.2027 1539.15 88.5545 1544.91 Z\" fill=\"#000000\" fill-rule=\"evenodd\" fill-opacity=\"1\" /><path clip-path=\"url(#clip940)\" d=\"M124.689 1517.37 Q121.078 1517.37 119.249 1520.93 Q117.443 1524.47 117.443 1531.6 Q117.443 1538.71 119.249 1542.27 Q121.078 1545.82 124.689 1545.82 Q128.323 1545.82 130.128 1542.27 Q131.957 1538.71 131.957 1531.6 Q131.957 1524.47 130.128 1520.93 Q128.323 1517.37 124.689 1517.37 M124.689 1513.66 Q130.499 1513.66 133.554 1518.27 Q136.633 1522.85 136.633 1531.6 Q136.633 1540.33 133.554 1544.94 Q130.499 1549.52 124.689 1549.52 Q118.878 1549.52 115.8 1544.94 Q112.744 1540.33 112.744 1531.6 Q112.744 1522.85 115.8 1518.27 Q118.878 1513.66 124.689 1513.66 Z\" fill=\"#000000\" fill-rule=\"evenodd\" fill-opacity=\"1\" /><path clip-path=\"url(#clip940)\" d=\"M154.85 1517.37 Q151.239 1517.37 149.411 1520.93 Q147.605 1524.47 147.605 1531.6 Q147.605 1538.71 149.411 1542.27 Q151.239 1545.82 154.85 1545.82 Q158.485 1545.82 160.29 1542.27 Q162.119 1538.71 162.119 1531.6 Q162.119 1524.47 160.29 1520.93 Q158.485 1517.37 154.85 1517.37 M154.85 1513.66 Q160.661 1513.66 163.716 1518.27 Q166.795 1522.85 166.795 1531.6 Q166.795 1540.33 163.716 1544.94 Q160.661 1549.52 154.85 1549.52 Q149.04 1549.52 145.962 1544.94 Q142.906 1540.33 142.906 1531.6 Q142.906 1522.85 145.962 1518.27 Q149.04 1513.66 154.85 1513.66 Z\" fill=\"#000000\" fill-rule=\"evenodd\" fill-opacity=\"1\" /><path clip-path=\"url(#clip940)\" d=\"M187.86 1518.36 L176.054 1536.81 L187.86 1536.81 L187.86 1518.36 M186.633 1514.29 L192.512 1514.29 L192.512 1536.81 L197.443 1536.81 L197.443 1540.7 L192.512 1540.7 L192.512 1548.85 L187.86 1548.85 L187.86 1540.7 L172.258 1540.7 L172.258 1536.19 L186.633 1514.29 Z\" fill=\"#000000\" fill-rule=\"evenodd\" fill-opacity=\"1\" /><path clip-path=\"url(#clip940)\" d=\"M202.42 1533.96 L214.896 1533.96 L214.896 1537.76 L202.42 1537.76 L202.42 1533.96 Z\" fill=\"#000000\" fill-rule=\"evenodd\" fill-opacity=\"1\" /><path clip-path=\"url(#clip940)\" d=\"M232.281 1517.37 Q228.67 1517.37 226.841 1520.93 Q225.035 1524.47 225.035 1531.6 Q225.035 1538.71 226.841 1542.27 Q228.67 1545.82 232.281 1545.82 Q235.915 1545.82 237.72 1542.27 Q239.549 1538.71 239.549 1531.6 Q239.549 1524.47 237.72 1520.93 Q235.915 1517.37 232.281 1517.37 M232.281 1513.66 Q238.091 1513.66 241.146 1518.27 Q244.225 1522.85 244.225 1531.6 Q244.225 1540.33 241.146 1544.94 Q238.091 1549.52 232.281 1549.52 Q226.47 1549.52 223.392 1544.94 Q220.336 1540.33 220.336 1531.6 Q220.336 1522.85 223.392 1518.27 Q226.47 1513.66 232.281 1513.66 Z\" fill=\"#000000\" fill-rule=\"evenodd\" fill-opacity=\"1\" /><path clip-path=\"url(#clip940)\" d=\"M253.253 1544.91 L260.892 1544.91 L260.892 1518.55 L252.581 1520.21 L252.581 1515.95 L260.845 1514.29 L265.521 1514.29 L265.521 1544.91 L273.16 1544.91 L273.16 1548.85 L253.253 1548.85 L253.253 1544.91 Z\" fill=\"#000000\" fill-rule=\"evenodd\" fill-opacity=\"1\" /><path clip-path=\"url(#clip940)\" d=\"M279.85 1533.96 L292.327 1533.96 L292.327 1537.76 L279.85 1537.76 L279.85 1533.96 Z\" fill=\"#000000\" fill-rule=\"evenodd\" fill-opacity=\"1\" /><path clip-path=\"url(#clip940)\" d=\"M309.711 1517.37 Q306.1 1517.37 304.271 1520.93 Q302.465 1524.47 302.465 1531.6 Q302.465 1538.71 304.271 1542.27 Q306.1 1545.82 309.711 1545.82 Q313.345 1545.82 315.151 1542.27 Q316.979 1538.71 316.979 1531.6 Q316.979 1524.47 315.151 1520.93 Q313.345 1517.37 309.711 1517.37 M309.711 1513.66 Q315.521 1513.66 318.576 1518.27 Q321.655 1522.85 321.655 1531.6 Q321.655 1540.33 318.576 1544.94 Q315.521 1549.52 309.711 1549.52 Q303.901 1549.52 300.822 1544.94 Q297.766 1540.33 297.766 1531.6 Q297.766 1522.85 300.822 1518.27 Q303.901 1513.66 309.711 1513.66 Z\" fill=\"#000000\" fill-rule=\"evenodd\" fill-opacity=\"1\" /><path clip-path=\"url(#clip940)\" d=\"M330.683 1544.91 L338.322 1544.91 L338.322 1518.55 L330.012 1520.21 L330.012 1515.95 L338.275 1514.29 L342.951 1514.29 L342.951 1544.91 L350.59 1544.91 L350.59 1548.85 L330.683 1548.85 L330.683 1544.91 Z\" fill=\"#000000\" fill-rule=\"evenodd\" fill-opacity=\"1\" /><path clip-path=\"url(#clip940)\" d=\"M673.302 1544.91 L689.621 1544.91 L689.621 1548.85 L667.677 1548.85 L667.677 1544.91 Q670.339 1542.16 674.922 1537.53 Q679.529 1532.88 680.709 1531.53 Q682.955 1529.01 683.834 1527.27 Q684.737 1525.51 684.737 1523.82 Q684.737 1521.07 682.793 1519.33 Q680.871 1517.6 677.77 1517.6 Q675.571 1517.6 673.117 1518.36 Q670.686 1519.13 667.909 1520.68 L667.909 1515.95 Q670.733 1514.82 673.186 1514.24 Q675.64 1513.66 677.677 1513.66 Q683.047 1513.66 686.242 1516.35 Q689.436 1519.03 689.436 1523.52 Q689.436 1525.65 688.626 1527.57 Q687.839 1529.47 685.733 1532.07 Q685.154 1532.74 682.052 1535.95 Q678.95 1539.15 673.302 1544.91 Z\" fill=\"#000000\" fill-rule=\"evenodd\" fill-opacity=\"1\" /><path clip-path=\"url(#clip940)\" d=\"M709.436 1517.37 Q705.825 1517.37 703.996 1520.93 Q702.191 1524.47 702.191 1531.6 Q702.191 1538.71 703.996 1542.27 Q705.825 1545.82 709.436 1545.82 Q713.07 1545.82 714.876 1542.27 Q716.705 1538.71 716.705 1531.6 Q716.705 1524.47 714.876 1520.93 Q713.07 1517.37 709.436 1517.37 M709.436 1513.66 Q715.246 1513.66 718.302 1518.27 Q721.381 1522.85 721.381 1531.6 Q721.381 1540.33 718.302 1544.94 Q715.246 1549.52 709.436 1549.52 Q703.626 1549.52 700.547 1544.94 Q697.492 1540.33 697.492 1531.6 Q697.492 1522.85 700.547 1518.27 Q703.626 1513.66 709.436 1513.66 Z\" fill=\"#000000\" fill-rule=\"evenodd\" fill-opacity=\"1\" /><path clip-path=\"url(#clip940)\" d=\"M739.598 1517.37 Q735.987 1517.37 734.158 1520.93 Q732.353 1524.47 732.353 1531.6 Q732.353 1538.71 734.158 1542.27 Q735.987 1545.82 739.598 1545.82 Q743.232 1545.82 745.038 1542.27 Q746.867 1538.71 746.867 1531.6 Q746.867 1524.47 745.038 1520.93 Q743.232 1517.37 739.598 1517.37 M739.598 1513.66 Q745.408 1513.66 748.464 1518.27 Q751.542 1522.85 751.542 1531.6 Q751.542 1540.33 748.464 1544.94 Q745.408 1549.52 739.598 1549.52 Q733.788 1549.52 730.709 1544.94 Q727.654 1540.33 727.654 1531.6 Q727.654 1522.85 730.709 1518.27 Q733.788 1513.66 739.598 1513.66 Z\" fill=\"#000000\" fill-rule=\"evenodd\" fill-opacity=\"1\" /><path clip-path=\"url(#clip940)\" d=\"M759.899 1548.13 L759.899 1543.87 Q761.658 1544.7 763.464 1545.14 Q765.269 1545.58 767.005 1545.58 Q771.635 1545.58 774.065 1542.48 Q776.519 1539.36 776.866 1533.01 Q775.524 1535.01 773.464 1536.07 Q771.403 1537.13 768.903 1537.13 Q763.718 1537.13 760.686 1534.01 Q757.677 1530.86 757.677 1525.42 Q757.677 1520.1 760.825 1516.88 Q763.973 1513.66 769.204 1513.66 Q775.2 1513.66 778.348 1518.27 Q781.519 1522.85 781.519 1531.6 Q781.519 1539.77 777.63 1544.66 Q773.765 1549.52 767.214 1549.52 Q765.454 1549.52 763.649 1549.17 Q761.843 1548.82 759.899 1548.13 M769.204 1533.48 Q772.352 1533.48 774.181 1531.32 Q776.033 1529.17 776.033 1525.42 Q776.033 1521.7 774.181 1519.54 Q772.352 1517.37 769.204 1517.37 Q766.056 1517.37 764.204 1519.54 Q762.376 1521.7 762.376 1525.42 Q762.376 1529.17 764.204 1531.32 Q766.056 1533.48 769.204 1533.48 Z\" fill=\"#000000\" fill-rule=\"evenodd\" fill-opacity=\"1\" /><path clip-path=\"url(#clip940)\" d=\"M787.167 1533.96 L799.644 1533.96 L799.644 1537.76 L787.167 1537.76 L787.167 1533.96 Z\" fill=\"#000000\" fill-rule=\"evenodd\" fill-opacity=\"1\" /><path clip-path=\"url(#clip940)\" d=\"M817.028 1517.37 Q813.417 1517.37 811.588 1520.93 Q809.783 1524.47 809.783 1531.6 Q809.783 1538.71 811.588 1542.27 Q813.417 1545.82 817.028 1545.82 Q820.662 1545.82 822.468 1542.27 Q824.297 1538.71 824.297 1531.6 Q824.297 1524.47 822.468 1520.93 Q820.662 1517.37 817.028 1517.37 M817.028 1513.66 Q822.838 1513.66 825.894 1518.27 Q828.973 1522.85 828.973 1531.6 Q828.973 1540.33 825.894 1544.94 Q822.838 1549.52 817.028 1549.52 Q811.218 1549.52 808.139 1544.94 Q805.084 1540.33 805.084 1531.6 Q805.084 1522.85 808.139 1518.27 Q811.218 1513.66 817.028 1513.66 Z\" fill=\"#000000\" fill-rule=\"evenodd\" fill-opacity=\"1\" /><path clip-path=\"url(#clip940)\" d=\"M838 1544.91 L845.639 1544.91 L845.639 1518.55 L837.329 1520.21 L837.329 1515.95 L845.593 1514.29 L850.269 1514.29 L850.269 1544.91 L857.908 1544.91 L857.908 1548.85 L838 1548.85 L838 1544.91 Z\" fill=\"#000000\" fill-rule=\"evenodd\" fill-opacity=\"1\" /><path clip-path=\"url(#clip940)\" d=\"M864.597 1533.96 L877.074 1533.96 L877.074 1537.76 L864.597 1537.76 L864.597 1533.96 Z\" fill=\"#000000\" fill-rule=\"evenodd\" fill-opacity=\"1\" /><path clip-path=\"url(#clip940)\" d=\"M894.458 1517.37 Q890.847 1517.37 889.019 1520.93 Q887.213 1524.47 887.213 1531.6 Q887.213 1538.71 889.019 1542.27 Q890.847 1545.82 894.458 1545.82 Q898.093 1545.82 899.898 1542.27 Q901.727 1538.71 901.727 1531.6 Q901.727 1524.47 899.898 1520.93 Q898.093 1517.37 894.458 1517.37 M894.458 1513.66 Q900.268 1513.66 903.324 1518.27 Q906.403 1522.85 906.403 1531.6 Q906.403 1540.33 903.324 1544.94 Q900.268 1549.52 894.458 1549.52 Q888.648 1549.52 885.569 1544.94 Q882.514 1540.33 882.514 1531.6 Q882.514 1522.85 885.569 1518.27 Q888.648 1513.66 894.458 1513.66 Z\" fill=\"#000000\" fill-rule=\"evenodd\" fill-opacity=\"1\" /><path clip-path=\"url(#clip940)\" d=\"M915.43 1544.91 L923.069 1544.91 L923.069 1518.55 L914.759 1520.21 L914.759 1515.95 L923.023 1514.29 L927.699 1514.29 L927.699 1544.91 L935.338 1544.91 L935.338 1548.85 L915.43 1548.85 L915.43 1544.91 Z\" fill=\"#000000\" fill-rule=\"evenodd\" fill-opacity=\"1\" /><path clip-path=\"url(#clip940)\" d=\"M1257.73 1544.91 L1274.05 1544.91 L1274.05 1548.85 L1252.1 1548.85 L1252.1 1544.91 Q1254.77 1542.16 1259.35 1537.53 Q1263.96 1532.88 1265.14 1531.53 Q1267.38 1529.01 1268.26 1527.27 Q1269.16 1525.51 1269.16 1523.82 Q1269.16 1521.07 1267.22 1519.33 Q1265.3 1517.6 1262.2 1517.6 Q1260 1517.6 1257.54 1518.36 Q1255.11 1519.13 1252.34 1520.68 L1252.34 1515.95 Q1255.16 1514.82 1257.61 1514.24 Q1260.07 1513.66 1262.1 1513.66 Q1267.47 1513.66 1270.67 1516.35 Q1273.86 1519.03 1273.86 1523.52 Q1273.86 1525.65 1273.05 1527.57 Q1272.27 1529.47 1270.16 1532.07 Q1269.58 1532.74 1266.48 1535.95 Q1263.38 1539.15 1257.73 1544.91 Z\" fill=\"#000000\" fill-rule=\"evenodd\" fill-opacity=\"1\" /><path clip-path=\"url(#clip940)\" d=\"M1293.86 1517.37 Q1290.25 1517.37 1288.42 1520.93 Q1286.62 1524.47 1286.62 1531.6 Q1286.62 1538.71 1288.42 1542.27 Q1290.25 1545.82 1293.86 1545.82 Q1297.5 1545.82 1299.3 1542.27 Q1301.13 1538.71 1301.13 1531.6 Q1301.13 1524.47 1299.3 1520.93 Q1297.5 1517.37 1293.86 1517.37 M1293.86 1513.66 Q1299.67 1513.66 1302.73 1518.27 Q1305.81 1522.85 1305.81 1531.6 Q1305.81 1540.33 1302.73 1544.94 Q1299.67 1549.52 1293.86 1549.52 Q1288.05 1549.52 1284.97 1544.94 Q1281.92 1540.33 1281.92 1531.6 Q1281.92 1522.85 1284.97 1518.27 Q1288.05 1513.66 1293.86 1513.66 Z\" fill=\"#000000\" fill-rule=\"evenodd\" fill-opacity=\"1\" /><path clip-path=\"url(#clip940)\" d=\"M1314.84 1544.91 L1322.47 1544.91 L1322.47 1518.55 L1314.16 1520.21 L1314.16 1515.95 L1322.43 1514.29 L1327.1 1514.29 L1327.1 1544.91 L1334.74 1544.91 L1334.74 1548.85 L1314.84 1548.85 L1314.84 1544.91 Z\" fill=\"#000000\" fill-rule=\"evenodd\" fill-opacity=\"1\" /><path clip-path=\"url(#clip940)\" d=\"M1357.03 1518.36 L1345.23 1536.81 L1357.03 1536.81 L1357.03 1518.36 M1355.81 1514.29 L1361.69 1514.29 L1361.69 1536.81 L1366.62 1536.81 L1366.62 1540.7 L1361.69 1540.7 L1361.69 1548.85 L1357.03 1548.85 L1357.03 1540.7 L1341.43 1540.7 L1341.43 1536.19 L1355.81 1514.29 Z\" fill=\"#000000\" fill-rule=\"evenodd\" fill-opacity=\"1\" /><path clip-path=\"url(#clip940)\" d=\"M1371.59 1533.96 L1384.07 1533.96 L1384.07 1537.76 L1371.59 1537.76 L1371.59 1533.96 Z\" fill=\"#000000\" fill-rule=\"evenodd\" fill-opacity=\"1\" /><path clip-path=\"url(#clip940)\" d=\"M1401.46 1517.37 Q1397.84 1517.37 1396.02 1520.93 Q1394.21 1524.47 1394.21 1531.6 Q1394.21 1538.71 1396.02 1542.27 Q1397.84 1545.82 1401.46 1545.82 Q1405.09 1545.82 1406.9 1542.27 Q1408.72 1538.71 1408.72 1531.6 Q1408.72 1524.47 1406.9 1520.93 Q1405.09 1517.37 1401.46 1517.37 M1401.46 1513.66 Q1407.27 1513.66 1410.32 1518.27 Q1413.4 1522.85 1413.4 1531.6 Q1413.4 1540.33 1410.32 1544.94 Q1407.27 1549.52 1401.46 1549.52 Q1395.65 1549.52 1392.57 1544.94 Q1389.51 1540.33 1389.51 1531.6 Q1389.51 1522.85 1392.57 1518.27 Q1395.65 1513.66 1401.46 1513.66 Z\" fill=\"#000000\" fill-rule=\"evenodd\" fill-opacity=\"1\" /><path clip-path=\"url(#clip940)\" d=\"M1422.43 1544.91 L1430.07 1544.91 L1430.07 1518.55 L1421.76 1520.21 L1421.76 1515.95 L1430.02 1514.29 L1434.7 1514.29 L1434.7 1544.91 L1442.34 1544.91 L1442.34 1548.85 L1422.43 1548.85 L1422.43 1544.91 Z\" fill=\"#000000\" fill-rule=\"evenodd\" fill-opacity=\"1\" /><path clip-path=\"url(#clip940)\" d=\"M1449.02 1533.96 L1461.5 1533.96 L1461.5 1537.76 L1449.02 1537.76 L1449.02 1533.96 Z\" fill=\"#000000\" fill-rule=\"evenodd\" fill-opacity=\"1\" /><path clip-path=\"url(#clip940)\" d=\"M1478.89 1517.37 Q1475.27 1517.37 1473.45 1520.93 Q1471.64 1524.47 1471.64 1531.6 Q1471.64 1538.71 1473.45 1542.27 Q1475.27 1545.82 1478.89 1545.82 Q1482.52 1545.82 1484.33 1542.27 Q1486.15 1538.71 1486.15 1531.6 Q1486.15 1524.47 1484.33 1520.93 Q1482.52 1517.37 1478.89 1517.37 M1478.89 1513.66 Q1484.7 1513.66 1487.75 1518.27 Q1490.83 1522.85 1490.83 1531.6 Q1490.83 1540.33 1487.75 1544.94 Q1484.7 1549.52 1478.89 1549.52 Q1473.08 1549.52 1470 1544.94 Q1466.94 1540.33 1466.94 1531.6 Q1466.94 1522.85 1470 1518.27 Q1473.08 1513.66 1478.89 1513.66 Z\" fill=\"#000000\" fill-rule=\"evenodd\" fill-opacity=\"1\" /><path clip-path=\"url(#clip940)\" d=\"M1499.86 1544.91 L1507.5 1544.91 L1507.5 1518.55 L1499.19 1520.21 L1499.19 1515.95 L1507.45 1514.29 L1512.13 1514.29 L1512.13 1544.91 L1519.77 1544.91 L1519.77 1548.85 L1499.86 1548.85 L1499.86 1544.91 Z\" fill=\"#000000\" fill-rule=\"evenodd\" fill-opacity=\"1\" /><path clip-path=\"url(#clip940)\" d=\"M1842.16 1544.91 L1858.48 1544.91 L1858.48 1548.85 L1836.53 1548.85 L1836.53 1544.91 Q1839.19 1542.16 1843.78 1537.53 Q1848.38 1532.88 1849.56 1531.53 Q1851.81 1529.01 1852.69 1527.27 Q1853.59 1525.51 1853.59 1523.82 Q1853.59 1521.07 1851.65 1519.33 Q1849.73 1517.6 1846.62 1517.6 Q1844.43 1517.6 1841.97 1518.36 Q1839.54 1519.13 1836.76 1520.68 L1836.76 1515.95 Q1839.59 1514.82 1842.04 1514.24 Q1844.49 1513.66 1846.53 1513.66 Q1851.9 1513.66 1855.1 1516.35 Q1858.29 1519.03 1858.29 1523.52 Q1858.29 1525.65 1857.48 1527.57 Q1856.69 1529.47 1854.59 1532.07 Q1854.01 1532.74 1850.91 1535.95 Q1847.81 1539.15 1842.16 1544.91 Z\" fill=\"#000000\" fill-rule=\"evenodd\" fill-opacity=\"1\" /><path clip-path=\"url(#clip940)\" d=\"M1878.29 1517.37 Q1874.68 1517.37 1872.85 1520.93 Q1871.05 1524.47 1871.05 1531.6 Q1871.05 1538.71 1872.85 1542.27 Q1874.68 1545.82 1878.29 1545.82 Q1881.93 1545.82 1883.73 1542.27 Q1885.56 1538.71 1885.56 1531.6 Q1885.56 1524.47 1883.73 1520.93 Q1881.93 1517.37 1878.29 1517.37 M1878.29 1513.66 Q1884.1 1513.66 1887.16 1518.27 Q1890.24 1522.85 1890.24 1531.6 Q1890.24 1540.33 1887.16 1544.94 Q1884.1 1549.52 1878.29 1549.52 Q1872.48 1549.52 1869.4 1544.94 Q1866.35 1540.33 1866.35 1531.6 Q1866.35 1522.85 1869.4 1518.27 Q1872.48 1513.66 1878.29 1513.66 Z\" fill=\"#000000\" fill-rule=\"evenodd\" fill-opacity=\"1\" /><path clip-path=\"url(#clip940)\" d=\"M1899.26 1544.91 L1906.9 1544.91 L1906.9 1518.55 L1898.59 1520.21 L1898.59 1515.95 L1906.86 1514.29 L1911.53 1514.29 L1911.53 1544.91 L1919.17 1544.91 L1919.17 1548.85 L1899.26 1548.85 L1899.26 1544.91 Z\" fill=\"#000000\" fill-rule=\"evenodd\" fill-opacity=\"1\" /><path clip-path=\"url(#clip940)\" d=\"M1928.75 1548.13 L1928.75 1543.87 Q1930.51 1544.7 1932.32 1545.14 Q1934.12 1545.58 1935.86 1545.58 Q1940.49 1545.58 1942.92 1542.48 Q1945.37 1539.36 1945.72 1533.01 Q1944.38 1535.01 1942.32 1536.07 Q1940.26 1537.13 1937.76 1537.13 Q1932.57 1537.13 1929.54 1534.01 Q1926.53 1530.86 1926.53 1525.42 Q1926.53 1520.1 1929.68 1516.88 Q1932.83 1513.66 1938.06 1513.66 Q1944.05 1513.66 1947.2 1518.27 Q1950.37 1522.85 1950.37 1531.6 Q1950.37 1539.77 1946.49 1544.66 Q1942.62 1549.52 1936.07 1549.52 Q1934.31 1549.52 1932.5 1549.17 Q1930.7 1548.82 1928.75 1548.13 M1938.06 1533.48 Q1941.21 1533.48 1943.04 1531.32 Q1944.89 1529.17 1944.89 1525.42 Q1944.89 1521.7 1943.04 1519.54 Q1941.21 1517.37 1938.06 1517.37 Q1934.91 1517.37 1933.06 1519.54 Q1931.23 1521.7 1931.23 1525.42 Q1931.23 1529.17 1933.06 1531.32 Q1934.91 1533.48 1938.06 1533.48 Z\" fill=\"#000000\" fill-rule=\"evenodd\" fill-opacity=\"1\" /><path clip-path=\"url(#clip940)\" d=\"M1956.02 1533.96 L1968.5 1533.96 L1968.5 1537.76 L1956.02 1537.76 L1956.02 1533.96 Z\" fill=\"#000000\" fill-rule=\"evenodd\" fill-opacity=\"1\" /><path clip-path=\"url(#clip940)\" d=\"M1985.88 1517.37 Q1982.27 1517.37 1980.44 1520.93 Q1978.64 1524.47 1978.64 1531.6 Q1978.64 1538.71 1980.44 1542.27 Q1982.27 1545.82 1985.88 1545.82 Q1989.52 1545.82 1991.32 1542.27 Q1993.15 1538.71 1993.15 1531.6 Q1993.15 1524.47 1991.32 1520.93 Q1989.52 1517.37 1985.88 1517.37 M1985.88 1513.66 Q1991.69 1513.66 1994.75 1518.27 Q1997.83 1522.85 1997.83 1531.6 Q1997.83 1540.33 1994.75 1544.94 Q1991.69 1549.52 1985.88 1549.52 Q1980.07 1549.52 1976.99 1544.94 Q1973.94 1540.33 1973.94 1531.6 Q1973.94 1522.85 1976.99 1518.27 Q1980.07 1513.66 1985.88 1513.66 Z\" fill=\"#000000\" fill-rule=\"evenodd\" fill-opacity=\"1\" /><path clip-path=\"url(#clip940)\" d=\"M2006.86 1544.91 L2014.49 1544.91 L2014.49 1518.55 L2006.18 1520.21 L2006.18 1515.95 L2014.45 1514.29 L2019.12 1514.29 L2019.12 1544.91 L2026.76 1544.91 L2026.76 1548.85 L2006.86 1548.85 L2006.86 1544.91 Z\" fill=\"#000000\" fill-rule=\"evenodd\" fill-opacity=\"1\" /><path clip-path=\"url(#clip940)\" d=\"M2033.45 1533.96 L2045.93 1533.96 L2045.93 1537.76 L2033.45 1537.76 L2033.45 1533.96 Z\" fill=\"#000000\" fill-rule=\"evenodd\" fill-opacity=\"1\" /><path clip-path=\"url(#clip940)\" d=\"M2063.31 1517.37 Q2059.7 1517.37 2057.87 1520.93 Q2056.07 1524.47 2056.07 1531.6 Q2056.07 1538.71 2057.87 1542.27 Q2059.7 1545.82 2063.31 1545.82 Q2066.95 1545.82 2068.75 1542.27 Q2070.58 1538.71 2070.58 1531.6 Q2070.58 1524.47 2068.75 1520.93 Q2066.95 1517.37 2063.31 1517.37 M2063.31 1513.66 Q2069.12 1513.66 2072.18 1518.27 Q2075.26 1522.85 2075.26 1531.6 Q2075.26 1540.33 2072.18 1544.94 Q2069.12 1549.52 2063.31 1549.52 Q2057.5 1549.52 2054.42 1544.94 Q2051.37 1540.33 2051.37 1531.6 Q2051.37 1522.85 2054.42 1518.27 Q2057.5 1513.66 2063.31 1513.66 Z\" fill=\"#000000\" fill-rule=\"evenodd\" fill-opacity=\"1\" /><path clip-path=\"url(#clip940)\" d=\"M2084.29 1544.91 L2091.92 1544.91 L2091.92 1518.55 L2083.61 1520.21 L2083.61 1515.95 L2091.88 1514.29 L2096.55 1514.29 L2096.55 1544.91 L2104.19 1544.91 L2104.19 1548.85 L2084.29 1548.85 L2084.29 1544.91 Z\" fill=\"#000000\" fill-rule=\"evenodd\" fill-opacity=\"1\" /><polyline clip-path=\"url(#clip942)\" style=\"stroke:#000000; stroke-linecap:butt; stroke-linejoin:round; stroke-width:2; stroke-opacity:0.1; fill:none\" points=\"\n",
       "  184.191,1233.28 2352.76,1233.28 \n",
       "  \"/>\n",
       "<polyline clip-path=\"url(#clip942)\" style=\"stroke:#000000; stroke-linecap:butt; stroke-linejoin:round; stroke-width:2; stroke-opacity:0.1; fill:none\" points=\"\n",
       "  184.191,974.933 2352.76,974.933 \n",
       "  \"/>\n",
       "<polyline clip-path=\"url(#clip942)\" style=\"stroke:#000000; stroke-linecap:butt; stroke-linejoin:round; stroke-width:2; stroke-opacity:0.1; fill:none\" points=\"\n",
       "  184.191,716.583 2352.76,716.583 \n",
       "  \"/>\n",
       "<polyline clip-path=\"url(#clip942)\" style=\"stroke:#000000; stroke-linecap:butt; stroke-linejoin:round; stroke-width:2; stroke-opacity:0.1; fill:none\" points=\"\n",
       "  184.191,458.232 2352.76,458.232 \n",
       "  \"/>\n",
       "<polyline clip-path=\"url(#clip942)\" style=\"stroke:#000000; stroke-linecap:butt; stroke-linejoin:round; stroke-width:2; stroke-opacity:0.1; fill:none\" points=\"\n",
       "  184.191,199.882 2352.76,199.882 \n",
       "  \"/>\n",
       "<polyline clip-path=\"url(#clip940)\" style=\"stroke:#000000; stroke-linecap:butt; stroke-linejoin:round; stroke-width:4; stroke-opacity:1; fill:none\" points=\"\n",
       "  184.191,1486.45 184.191,47.2441 \n",
       "  \"/>\n",
       "<polyline clip-path=\"url(#clip940)\" style=\"stroke:#000000; stroke-linecap:butt; stroke-linejoin:round; stroke-width:4; stroke-opacity:1; fill:none\" points=\"\n",
       "  184.191,1233.28 203.088,1233.28 \n",
       "  \"/>\n",
       "<polyline clip-path=\"url(#clip940)\" style=\"stroke:#000000; stroke-linecap:butt; stroke-linejoin:round; stroke-width:4; stroke-opacity:1; fill:none\" points=\"\n",
       "  184.191,974.933 203.088,974.933 \n",
       "  \"/>\n",
       "<polyline clip-path=\"url(#clip940)\" style=\"stroke:#000000; stroke-linecap:butt; stroke-linejoin:round; stroke-width:4; stroke-opacity:1; fill:none\" points=\"\n",
       "  184.191,716.583 203.088,716.583 \n",
       "  \"/>\n",
       "<polyline clip-path=\"url(#clip940)\" style=\"stroke:#000000; stroke-linecap:butt; stroke-linejoin:round; stroke-width:4; stroke-opacity:1; fill:none\" points=\"\n",
       "  184.191,458.232 203.088,458.232 \n",
       "  \"/>\n",
       "<polyline clip-path=\"url(#clip940)\" style=\"stroke:#000000; stroke-linecap:butt; stroke-linejoin:round; stroke-width:4; stroke-opacity:1; fill:none\" points=\"\n",
       "  184.191,199.882 203.088,199.882 \n",
       "  \"/>\n",
       "<path clip-path=\"url(#clip940)\" d=\"M91.0151 1219.08 Q87.404 1219.08 85.5753 1222.65 Q83.7697 1226.19 83.7697 1233.32 Q83.7697 1240.43 85.5753 1243.99 Q87.404 1247.53 91.0151 1247.53 Q94.6493 1247.53 96.4548 1243.99 Q98.2835 1240.43 98.2835 1233.32 Q98.2835 1226.19 96.4548 1222.65 Q94.6493 1219.08 91.0151 1219.08 M91.0151 1215.38 Q96.8252 1215.38 99.8808 1219.99 Q102.959 1224.57 102.959 1233.32 Q102.959 1242.05 99.8808 1246.65 Q96.8252 1251.24 91.0151 1251.24 Q85.2049 1251.24 82.1262 1246.65 Q79.0707 1242.05 79.0707 1233.32 Q79.0707 1224.57 82.1262 1219.99 Q85.2049 1215.38 91.0151 1215.38 Z\" fill=\"#000000\" fill-rule=\"evenodd\" fill-opacity=\"1\" /><path clip-path=\"url(#clip940)\" d=\"M111.177 1244.68 L116.061 1244.68 L116.061 1250.56 L111.177 1250.56 L111.177 1244.68 Z\" fill=\"#000000\" fill-rule=\"evenodd\" fill-opacity=\"1\" /><path clip-path=\"url(#clip940)\" d=\"M136.246 1219.08 Q132.635 1219.08 130.807 1222.65 Q129.001 1226.19 129.001 1233.32 Q129.001 1240.43 130.807 1243.99 Q132.635 1247.53 136.246 1247.53 Q139.881 1247.53 141.686 1243.99 Q143.515 1240.43 143.515 1233.32 Q143.515 1226.19 141.686 1222.65 Q139.881 1219.08 136.246 1219.08 M136.246 1215.38 Q142.056 1215.38 145.112 1219.99 Q148.191 1224.57 148.191 1233.32 Q148.191 1242.05 145.112 1246.65 Q142.056 1251.24 136.246 1251.24 Q130.436 1251.24 127.357 1246.65 Q124.302 1242.05 124.302 1233.32 Q124.302 1224.57 127.357 1219.99 Q130.436 1215.38 136.246 1215.38 Z\" fill=\"#000000\" fill-rule=\"evenodd\" fill-opacity=\"1\" /><path clip-path=\"url(#clip940)\" d=\"M86.0382 988.278 L102.358 988.278 L102.358 992.213 L80.4133 992.213 L80.4133 988.278 Q83.0753 985.524 87.6586 980.894 Q92.2651 976.241 93.4456 974.899 Q95.691 972.376 96.5706 970.64 Q97.4734 968.88 97.4734 967.19 Q97.4734 964.436 95.5289 962.7 Q93.6076 960.964 90.5058 960.964 Q88.3067 960.964 85.8531 961.728 Q83.4225 962.491 80.6447 964.042 L80.6447 959.32 Q83.4688 958.186 85.9225 957.607 Q88.3762 957.028 90.4132 957.028 Q95.7836 957.028 98.978 959.714 Q102.172 962.399 102.172 966.89 Q102.172 969.019 101.362 970.94 Q100.575 972.839 98.4687 975.431 Q97.89 976.102 94.7882 979.32 Q91.6864 982.514 86.0382 988.278 Z\" fill=\"#000000\" fill-rule=\"evenodd\" fill-opacity=\"1\" /><path clip-path=\"url(#clip940)\" d=\"M112.172 986.334 L117.057 986.334 L117.057 992.213 L112.172 992.213 L112.172 986.334 Z\" fill=\"#000000\" fill-rule=\"evenodd\" fill-opacity=\"1\" /><path clip-path=\"url(#clip940)\" d=\"M127.288 957.653 L145.644 957.653 L145.644 961.589 L131.57 961.589 L131.57 970.061 Q132.589 969.714 133.607 969.552 Q134.626 969.366 135.644 969.366 Q141.431 969.366 144.811 972.538 Q148.191 975.709 148.191 981.126 Q148.191 986.704 144.718 989.806 Q141.246 992.885 134.927 992.885 Q132.751 992.885 130.482 992.514 Q128.237 992.144 125.83 991.403 L125.83 986.704 Q127.913 987.838 130.135 988.394 Q132.357 988.95 134.834 988.95 Q138.839 988.95 141.177 986.843 Q143.515 984.737 143.515 981.126 Q143.515 977.514 141.177 975.408 Q138.839 973.302 134.834 973.302 Q132.959 973.302 131.084 973.718 Q129.232 974.135 127.288 975.014 L127.288 957.653 Z\" fill=\"#000000\" fill-rule=\"evenodd\" fill-opacity=\"1\" /><path clip-path=\"url(#clip940)\" d=\"M81.0614 699.303 L99.4178 699.303 L99.4178 703.238 L85.3438 703.238 L85.3438 711.71 Q86.3623 711.363 87.3808 711.201 Q88.3993 711.016 89.4178 711.016 Q95.2049 711.016 98.5845 714.187 Q101.964 717.358 101.964 722.775 Q101.964 728.354 98.4919 731.455 Q95.0197 734.534 88.7003 734.534 Q86.5243 734.534 84.2558 734.164 Q82.0105 733.793 79.6031 733.053 L79.6031 728.354 Q81.6864 729.488 83.9086 730.043 Q86.1308 730.599 88.6077 730.599 Q92.6123 730.599 94.9502 728.493 Q97.2882 726.386 97.2882 722.775 Q97.2882 719.164 94.9502 717.057 Q92.6123 714.951 88.6077 714.951 Q86.7327 714.951 84.8577 715.368 Q83.0058 715.784 81.0614 716.664 L81.0614 699.303 Z\" fill=\"#000000\" fill-rule=\"evenodd\" fill-opacity=\"1\" /><path clip-path=\"url(#clip940)\" d=\"M111.177 727.983 L116.061 727.983 L116.061 733.863 L111.177 733.863 L111.177 727.983 Z\" fill=\"#000000\" fill-rule=\"evenodd\" fill-opacity=\"1\" /><path clip-path=\"url(#clip940)\" d=\"M136.246 702.382 Q132.635 702.382 130.807 705.946 Q129.001 709.488 129.001 716.618 Q129.001 723.724 130.807 727.289 Q132.635 730.83 136.246 730.83 Q139.881 730.83 141.686 727.289 Q143.515 723.724 143.515 716.618 Q143.515 709.488 141.686 705.946 Q139.881 702.382 136.246 702.382 M136.246 698.678 Q142.056 698.678 145.112 703.284 Q148.191 707.868 148.191 716.618 Q148.191 725.344 145.112 729.951 Q142.056 734.534 136.246 734.534 Q130.436 734.534 127.357 729.951 Q124.302 725.344 124.302 716.618 Q124.302 707.868 127.357 703.284 Q130.436 698.678 136.246 698.678 Z\" fill=\"#000000\" fill-rule=\"evenodd\" fill-opacity=\"1\" /><path clip-path=\"url(#clip940)\" d=\"M80.8299 440.952 L103.052 440.952 L103.052 442.943 L90.5058 475.512 L85.6216 475.512 L97.4271 444.887 L80.8299 444.887 L80.8299 440.952 Z\" fill=\"#000000\" fill-rule=\"evenodd\" fill-opacity=\"1\" /><path clip-path=\"url(#clip940)\" d=\"M112.172 469.633 L117.057 469.633 L117.057 475.512 L112.172 475.512 L112.172 469.633 Z\" fill=\"#000000\" fill-rule=\"evenodd\" fill-opacity=\"1\" /><path clip-path=\"url(#clip940)\" d=\"M127.288 440.952 L145.644 440.952 L145.644 444.887 L131.57 444.887 L131.57 453.36 Q132.589 453.012 133.607 452.85 Q134.626 452.665 135.644 452.665 Q141.431 452.665 144.811 455.836 Q148.191 459.008 148.191 464.424 Q148.191 470.003 144.718 473.105 Q141.246 476.184 134.927 476.184 Q132.751 476.184 130.482 475.813 Q128.237 475.443 125.83 474.702 L125.83 470.003 Q127.913 471.137 130.135 471.693 Q132.357 472.248 134.834 472.248 Q138.839 472.248 141.177 470.142 Q143.515 468.035 143.515 464.424 Q143.515 460.813 141.177 458.707 Q138.839 456.6 134.834 456.6 Q132.959 456.6 131.084 457.017 Q129.232 457.434 127.288 458.313 L127.288 440.952 Z\" fill=\"#000000\" fill-rule=\"evenodd\" fill-opacity=\"1\" /><path clip-path=\"url(#clip940)\" d=\"M51.6634 213.226 L59.3023 213.226 L59.3023 186.861 L50.9921 188.527 L50.9921 184.268 L59.256 182.602 L63.9319 182.602 L63.9319 213.226 L71.5707 213.226 L71.5707 217.162 L51.6634 217.162 L51.6634 213.226 Z\" fill=\"#000000\" fill-rule=\"evenodd\" fill-opacity=\"1\" /><path clip-path=\"url(#clip940)\" d=\"M91.0151 185.68 Q87.404 185.68 85.5753 189.245 Q83.7697 192.787 83.7697 199.916 Q83.7697 207.023 85.5753 210.588 Q87.404 214.129 91.0151 214.129 Q94.6493 214.129 96.4548 210.588 Q98.2835 207.023 98.2835 199.916 Q98.2835 192.787 96.4548 189.245 Q94.6493 185.68 91.0151 185.68 M91.0151 181.977 Q96.8252 181.977 99.8808 186.583 Q102.959 191.166 102.959 199.916 Q102.959 208.643 99.8808 213.25 Q96.8252 217.833 91.0151 217.833 Q85.2049 217.833 82.1262 213.25 Q79.0707 208.643 79.0707 199.916 Q79.0707 191.166 82.1262 186.583 Q85.2049 181.977 91.0151 181.977 Z\" fill=\"#000000\" fill-rule=\"evenodd\" fill-opacity=\"1\" /><path clip-path=\"url(#clip940)\" d=\"M111.177 211.282 L116.061 211.282 L116.061 217.162 L111.177 217.162 L111.177 211.282 Z\" fill=\"#000000\" fill-rule=\"evenodd\" fill-opacity=\"1\" /><path clip-path=\"url(#clip940)\" d=\"M136.246 185.68 Q132.635 185.68 130.807 189.245 Q129.001 192.787 129.001 199.916 Q129.001 207.023 130.807 210.588 Q132.635 214.129 136.246 214.129 Q139.881 214.129 141.686 210.588 Q143.515 207.023 143.515 199.916 Q143.515 192.787 141.686 189.245 Q139.881 185.68 136.246 185.68 M136.246 181.977 Q142.056 181.977 145.112 186.583 Q148.191 191.166 148.191 199.916 Q148.191 208.643 145.112 213.25 Q142.056 217.833 136.246 217.833 Q130.436 217.833 127.357 213.25 Q124.302 208.643 124.302 199.916 Q124.302 191.166 127.357 186.583 Q130.436 181.977 136.246 181.977 Z\" fill=\"#000000\" fill-rule=\"evenodd\" fill-opacity=\"1\" /><polyline clip-path=\"url(#clip942)\" style=\"stroke:#0000ff; stroke-linecap:butt; stroke-linejoin:round; stroke-width:8; stroke-opacity:0.8; fill:none\" points=\"\n",
       "  245.565,1445.72 274.691,1442.56 304.136,1337.5 333.581,1065.33 362.387,1029.18 391.512,1030.71 420.957,983.823 450.403,1015.87 479.208,1022.68 508.333,977.656 \n",
       "  537.779,849.747 567.224,767.057 596.03,707.471 625.155,619.578 654.6,595.17 684.046,497.926 713.171,307.114 742.297,201.162 771.742,87.9763 801.187,227.38 \n",
       "  829.993,368.819 859.118,435.821 888.563,577.409 918.009,597.67 946.814,649.323 975.939,763.556 1005.38,872.27 1034.83,879.003 1063.64,838.479 1092.76,754.676 \n",
       "  1122.21,676.129 1151.65,606.102 1180.78,605.827 1209.9,645.169 1239.35,704.631 1268.79,651.086 1297.6,641.744 1326.72,645.923 1356.17,590.414 1385.61,673.524 \n",
       "  1414.42,618.668 1443.55,564.686 1472.99,586.893 1502.44,645.102 1531.24,805.2 1560.37,762.307 1589.81,745.062 1619.26,730.882 1648.38,560.996 1677.51,587.642 \n",
       "  1706.95,611.689 1736.4,551.474 1765.2,580.419 1794.33,685.669 1823.78,737.698 1853.22,745.797 1882.03,812.595 1911.15,770.266 1940.6,717.082 1970.04,724.837 \n",
       "  1998.85,799.711 2027.97,774.065 2057.42,805.079 2086.86,846.23 2115.99,776.497 2145.11,984.234 2174.56,913.487 2204.01,905.701 2232.81,915.683 2261.94,734.897 \n",
       "  2291.38,734.013 \n",
       "  \"/>\n",
       "<polyline clip-path=\"url(#clip942)\" style=\"stroke:#000000; stroke-linecap:butt; stroke-linejoin:round; stroke-width:6; stroke-opacity:0.5; fill:none\" stroke-dasharray=\"24, 15\" points=\"\n",
       "  -1984.37,1233.28 4521.32,1233.28 \n",
       "  \"/>\n",
       "</svg>\n"
      ]
     },
     "execution_count": 43,
     "metadata": {},
     "output_type": "execute_result"
    }
   ],
   "source": [
    "inflation = sa_data[!, :inflation]\n",
    "plot(date_sa, inflation, legend = false, lw = 2, color = :blue, alpha = 0.8)\n",
    "plot!([0], legend = false, lw = 1.5, seriestype = :hline, color = :black, ls = :dash, alpha = 0.5)"
   ]
  },
  {
   "cell_type": "markdown",
   "metadata": {
    "slideshow": {
     "slide_type": "slide"
    }
   },
   "source": [
    "## Plotting the data (inflation vs repo)"
   ]
  },
  {
   "cell_type": "code",
   "execution_count": 52,
   "metadata": {
    "slideshow": {
     "slide_type": "fragment"
    }
   },
   "outputs": [
    {
     "data": {
      "image/svg+xml": [
       "<?xml version=\"1.0\" encoding=\"utf-8\"?>\n",
       "<svg xmlns=\"http://www.w3.org/2000/svg\" xmlns:xlink=\"http://www.w3.org/1999/xlink\" width=\"600\" height=\"400\" viewBox=\"0 0 2400 1600\">\n",
       "<defs>\n",
       "  <clipPath id=\"clip260\">\n",
       "    <rect x=\"0\" y=\"0\" width=\"2400\" height=\"1600\"/>\n",
       "  </clipPath>\n",
       "</defs>\n",
       "<path clip-path=\"url(#clip260)\" d=\"\n",
       "M0 1600 L2400 1600 L2400 0 L0 0  Z\n",
       "  \" fill=\"#ffffff\" fill-rule=\"evenodd\" fill-opacity=\"1\"/>\n",
       "<defs>\n",
       "  <clipPath id=\"clip261\">\n",
       "    <rect x=\"480\" y=\"0\" width=\"1681\" height=\"1600\"/>\n",
       "  </clipPath>\n",
       "</defs>\n",
       "<path clip-path=\"url(#clip260)\" d=\"\n",
       "M184.191 1486.45 L2352.76 1486.45 L2352.76 47.2441 L184.191 47.2441  Z\n",
       "  \" fill=\"#ffffff\" fill-rule=\"evenodd\" fill-opacity=\"1\"/>\n",
       "<defs>\n",
       "  <clipPath id=\"clip262\">\n",
       "    <rect x=\"184\" y=\"47\" width=\"2170\" height=\"1440\"/>\n",
       "  </clipPath>\n",
       "</defs>\n",
       "<polyline clip-path=\"url(#clip262)\" style=\"stroke:#000000; stroke-linecap:butt; stroke-linejoin:round; stroke-width:2; stroke-opacity:0.1; fill:none\" points=\"\n",
       "  216.76,1486.45 216.76,47.2441 \n",
       "  \"/>\n",
       "<polyline clip-path=\"url(#clip262)\" style=\"stroke:#000000; stroke-linecap:butt; stroke-linejoin:round; stroke-width:2; stroke-opacity:0.1; fill:none\" points=\"\n",
       "  801.507,1486.45 801.507,47.2441 \n",
       "  \"/>\n",
       "<polyline clip-path=\"url(#clip262)\" style=\"stroke:#000000; stroke-linecap:butt; stroke-linejoin:round; stroke-width:2; stroke-opacity:0.1; fill:none\" points=\"\n",
       "  1385.93,1486.45 1385.93,47.2441 \n",
       "  \"/>\n",
       "<polyline clip-path=\"url(#clip262)\" style=\"stroke:#000000; stroke-linecap:butt; stroke-linejoin:round; stroke-width:2; stroke-opacity:0.1; fill:none\" points=\"\n",
       "  1970.36,1486.45 1970.36,47.2441 \n",
       "  \"/>\n",
       "<polyline clip-path=\"url(#clip260)\" style=\"stroke:#000000; stroke-linecap:butt; stroke-linejoin:round; stroke-width:4; stroke-opacity:1; fill:none\" points=\"\n",
       "  184.191,1486.45 2352.76,1486.45 \n",
       "  \"/>\n",
       "<polyline clip-path=\"url(#clip260)\" style=\"stroke:#000000; stroke-linecap:butt; stroke-linejoin:round; stroke-width:4; stroke-opacity:1; fill:none\" points=\"\n",
       "  216.76,1486.45 216.76,1467.55 \n",
       "  \"/>\n",
       "<polyline clip-path=\"url(#clip260)\" style=\"stroke:#000000; stroke-linecap:butt; stroke-linejoin:round; stroke-width:4; stroke-opacity:1; fill:none\" points=\"\n",
       "  801.507,1486.45 801.507,1467.55 \n",
       "  \"/>\n",
       "<polyline clip-path=\"url(#clip260)\" style=\"stroke:#000000; stroke-linecap:butt; stroke-linejoin:round; stroke-width:4; stroke-opacity:1; fill:none\" points=\"\n",
       "  1385.93,1486.45 1385.93,1467.55 \n",
       "  \"/>\n",
       "<polyline clip-path=\"url(#clip260)\" style=\"stroke:#000000; stroke-linecap:butt; stroke-linejoin:round; stroke-width:4; stroke-opacity:1; fill:none\" points=\"\n",
       "  1970.36,1486.45 1970.36,1467.55 \n",
       "  \"/>\n",
       "<path clip-path=\"url(#clip260)\" d=\"M88.5545 1544.91 L104.874 1544.91 L104.874 1548.85 L82.9296 1548.85 L82.9296 1544.91 Q85.5916 1542.16 90.1749 1537.53 Q94.7814 1532.88 95.9619 1531.53 Q98.2073 1529.01 99.0869 1527.27 Q99.9897 1525.51 99.9897 1523.82 Q99.9897 1521.07 98.0452 1519.33 Q96.1239 1517.6 93.0221 1517.6 Q90.823 1517.6 88.3694 1518.36 Q85.9388 1519.13 83.161 1520.68 L83.161 1515.95 Q85.9851 1514.82 88.4388 1514.24 Q90.8925 1513.66 92.9295 1513.66 Q98.2999 1513.66 101.494 1516.35 Q104.689 1519.03 104.689 1523.52 Q104.689 1525.65 103.879 1527.57 Q103.091 1529.47 100.985 1532.07 Q100.406 1532.74 97.3045 1535.95 Q94.2027 1539.15 88.5545 1544.91 Z\" fill=\"#000000\" fill-rule=\"evenodd\" fill-opacity=\"1\" /><path clip-path=\"url(#clip260)\" d=\"M124.689 1517.37 Q121.078 1517.37 119.249 1520.93 Q117.443 1524.47 117.443 1531.6 Q117.443 1538.71 119.249 1542.27 Q121.078 1545.82 124.689 1545.82 Q128.323 1545.82 130.128 1542.27 Q131.957 1538.71 131.957 1531.6 Q131.957 1524.47 130.128 1520.93 Q128.323 1517.37 124.689 1517.37 M124.689 1513.66 Q130.499 1513.66 133.554 1518.27 Q136.633 1522.85 136.633 1531.6 Q136.633 1540.33 133.554 1544.94 Q130.499 1549.52 124.689 1549.52 Q118.878 1549.52 115.8 1544.94 Q112.744 1540.33 112.744 1531.6 Q112.744 1522.85 115.8 1518.27 Q118.878 1513.66 124.689 1513.66 Z\" fill=\"#000000\" fill-rule=\"evenodd\" fill-opacity=\"1\" /><path clip-path=\"url(#clip260)\" d=\"M154.85 1517.37 Q151.239 1517.37 149.411 1520.93 Q147.605 1524.47 147.605 1531.6 Q147.605 1538.71 149.411 1542.27 Q151.239 1545.82 154.85 1545.82 Q158.485 1545.82 160.29 1542.27 Q162.119 1538.71 162.119 1531.6 Q162.119 1524.47 160.29 1520.93 Q158.485 1517.37 154.85 1517.37 M154.85 1513.66 Q160.661 1513.66 163.716 1518.27 Q166.795 1522.85 166.795 1531.6 Q166.795 1540.33 163.716 1544.94 Q160.661 1549.52 154.85 1549.52 Q149.04 1549.52 145.962 1544.94 Q142.906 1540.33 142.906 1531.6 Q142.906 1522.85 145.962 1518.27 Q149.04 1513.66 154.85 1513.66 Z\" fill=\"#000000\" fill-rule=\"evenodd\" fill-opacity=\"1\" /><path clip-path=\"url(#clip260)\" d=\"M187.86 1518.36 L176.054 1536.81 L187.86 1536.81 L187.86 1518.36 M186.633 1514.29 L192.512 1514.29 L192.512 1536.81 L197.443 1536.81 L197.443 1540.7 L192.512 1540.7 L192.512 1548.85 L187.86 1548.85 L187.86 1540.7 L172.258 1540.7 L172.258 1536.19 L186.633 1514.29 Z\" fill=\"#000000\" fill-rule=\"evenodd\" fill-opacity=\"1\" /><path clip-path=\"url(#clip260)\" d=\"M202.42 1533.96 L214.896 1533.96 L214.896 1537.76 L202.42 1537.76 L202.42 1533.96 Z\" fill=\"#000000\" fill-rule=\"evenodd\" fill-opacity=\"1\" /><path clip-path=\"url(#clip260)\" d=\"M232.281 1517.37 Q228.67 1517.37 226.841 1520.93 Q225.035 1524.47 225.035 1531.6 Q225.035 1538.71 226.841 1542.27 Q228.67 1545.82 232.281 1545.82 Q235.915 1545.82 237.72 1542.27 Q239.549 1538.71 239.549 1531.6 Q239.549 1524.47 237.72 1520.93 Q235.915 1517.37 232.281 1517.37 M232.281 1513.66 Q238.091 1513.66 241.146 1518.27 Q244.225 1522.85 244.225 1531.6 Q244.225 1540.33 241.146 1544.94 Q238.091 1549.52 232.281 1549.52 Q226.47 1549.52 223.392 1544.94 Q220.336 1540.33 220.336 1531.6 Q220.336 1522.85 223.392 1518.27 Q226.47 1513.66 232.281 1513.66 Z\" fill=\"#000000\" fill-rule=\"evenodd\" fill-opacity=\"1\" /><path clip-path=\"url(#clip260)\" d=\"M253.253 1544.91 L260.892 1544.91 L260.892 1518.55 L252.581 1520.21 L252.581 1515.95 L260.845 1514.29 L265.521 1514.29 L265.521 1544.91 L273.16 1544.91 L273.16 1548.85 L253.253 1548.85 L253.253 1544.91 Z\" fill=\"#000000\" fill-rule=\"evenodd\" fill-opacity=\"1\" /><path clip-path=\"url(#clip260)\" d=\"M279.85 1533.96 L292.327 1533.96 L292.327 1537.76 L279.85 1537.76 L279.85 1533.96 Z\" fill=\"#000000\" fill-rule=\"evenodd\" fill-opacity=\"1\" /><path clip-path=\"url(#clip260)\" d=\"M309.711 1517.37 Q306.1 1517.37 304.271 1520.93 Q302.465 1524.47 302.465 1531.6 Q302.465 1538.71 304.271 1542.27 Q306.1 1545.82 309.711 1545.82 Q313.345 1545.82 315.151 1542.27 Q316.979 1538.71 316.979 1531.6 Q316.979 1524.47 315.151 1520.93 Q313.345 1517.37 309.711 1517.37 M309.711 1513.66 Q315.521 1513.66 318.576 1518.27 Q321.655 1522.85 321.655 1531.6 Q321.655 1540.33 318.576 1544.94 Q315.521 1549.52 309.711 1549.52 Q303.901 1549.52 300.822 1544.94 Q297.766 1540.33 297.766 1531.6 Q297.766 1522.85 300.822 1518.27 Q303.901 1513.66 309.711 1513.66 Z\" fill=\"#000000\" fill-rule=\"evenodd\" fill-opacity=\"1\" /><path clip-path=\"url(#clip260)\" d=\"M330.683 1544.91 L338.322 1544.91 L338.322 1518.55 L330.012 1520.21 L330.012 1515.95 L338.275 1514.29 L342.951 1514.29 L342.951 1544.91 L350.59 1544.91 L350.59 1548.85 L330.683 1548.85 L330.683 1544.91 Z\" fill=\"#000000\" fill-rule=\"evenodd\" fill-opacity=\"1\" /><path clip-path=\"url(#clip260)\" d=\"M673.302 1544.91 L689.621 1544.91 L689.621 1548.85 L667.677 1548.85 L667.677 1544.91 Q670.339 1542.16 674.922 1537.53 Q679.529 1532.88 680.709 1531.53 Q682.955 1529.01 683.834 1527.27 Q684.737 1525.51 684.737 1523.82 Q684.737 1521.07 682.793 1519.33 Q680.871 1517.6 677.77 1517.6 Q675.571 1517.6 673.117 1518.36 Q670.686 1519.13 667.909 1520.68 L667.909 1515.95 Q670.733 1514.82 673.186 1514.24 Q675.64 1513.66 677.677 1513.66 Q683.047 1513.66 686.242 1516.35 Q689.436 1519.03 689.436 1523.52 Q689.436 1525.65 688.626 1527.57 Q687.839 1529.47 685.733 1532.07 Q685.154 1532.74 682.052 1535.95 Q678.95 1539.15 673.302 1544.91 Z\" fill=\"#000000\" fill-rule=\"evenodd\" fill-opacity=\"1\" /><path clip-path=\"url(#clip260)\" d=\"M709.436 1517.37 Q705.825 1517.37 703.996 1520.93 Q702.191 1524.47 702.191 1531.6 Q702.191 1538.71 703.996 1542.27 Q705.825 1545.82 709.436 1545.82 Q713.07 1545.82 714.876 1542.27 Q716.705 1538.71 716.705 1531.6 Q716.705 1524.47 714.876 1520.93 Q713.07 1517.37 709.436 1517.37 M709.436 1513.66 Q715.246 1513.66 718.302 1518.27 Q721.381 1522.85 721.381 1531.6 Q721.381 1540.33 718.302 1544.94 Q715.246 1549.52 709.436 1549.52 Q703.626 1549.52 700.547 1544.94 Q697.492 1540.33 697.492 1531.6 Q697.492 1522.85 700.547 1518.27 Q703.626 1513.66 709.436 1513.66 Z\" fill=\"#000000\" fill-rule=\"evenodd\" fill-opacity=\"1\" /><path clip-path=\"url(#clip260)\" d=\"M739.598 1517.37 Q735.987 1517.37 734.158 1520.93 Q732.353 1524.47 732.353 1531.6 Q732.353 1538.71 734.158 1542.27 Q735.987 1545.82 739.598 1545.82 Q743.232 1545.82 745.038 1542.27 Q746.867 1538.71 746.867 1531.6 Q746.867 1524.47 745.038 1520.93 Q743.232 1517.37 739.598 1517.37 M739.598 1513.66 Q745.408 1513.66 748.464 1518.27 Q751.542 1522.85 751.542 1531.6 Q751.542 1540.33 748.464 1544.94 Q745.408 1549.52 739.598 1549.52 Q733.788 1549.52 730.709 1544.94 Q727.654 1540.33 727.654 1531.6 Q727.654 1522.85 730.709 1518.27 Q733.788 1513.66 739.598 1513.66 Z\" fill=\"#000000\" fill-rule=\"evenodd\" fill-opacity=\"1\" /><path clip-path=\"url(#clip260)\" d=\"M759.899 1548.13 L759.899 1543.87 Q761.658 1544.7 763.464 1545.14 Q765.269 1545.58 767.005 1545.58 Q771.635 1545.58 774.065 1542.48 Q776.519 1539.36 776.866 1533.01 Q775.524 1535.01 773.464 1536.07 Q771.403 1537.13 768.903 1537.13 Q763.718 1537.13 760.686 1534.01 Q757.677 1530.86 757.677 1525.42 Q757.677 1520.1 760.825 1516.88 Q763.973 1513.66 769.204 1513.66 Q775.2 1513.66 778.348 1518.27 Q781.519 1522.85 781.519 1531.6 Q781.519 1539.77 777.63 1544.66 Q773.765 1549.52 767.214 1549.52 Q765.454 1549.52 763.649 1549.17 Q761.843 1548.82 759.899 1548.13 M769.204 1533.48 Q772.352 1533.48 774.181 1531.32 Q776.033 1529.17 776.033 1525.42 Q776.033 1521.7 774.181 1519.54 Q772.352 1517.37 769.204 1517.37 Q766.056 1517.37 764.204 1519.54 Q762.376 1521.7 762.376 1525.42 Q762.376 1529.17 764.204 1531.32 Q766.056 1533.48 769.204 1533.48 Z\" fill=\"#000000\" fill-rule=\"evenodd\" fill-opacity=\"1\" /><path clip-path=\"url(#clip260)\" d=\"M787.167 1533.96 L799.644 1533.96 L799.644 1537.76 L787.167 1537.76 L787.167 1533.96 Z\" fill=\"#000000\" fill-rule=\"evenodd\" fill-opacity=\"1\" /><path clip-path=\"url(#clip260)\" d=\"M817.028 1517.37 Q813.417 1517.37 811.588 1520.93 Q809.783 1524.47 809.783 1531.6 Q809.783 1538.71 811.588 1542.27 Q813.417 1545.82 817.028 1545.82 Q820.662 1545.82 822.468 1542.27 Q824.297 1538.71 824.297 1531.6 Q824.297 1524.47 822.468 1520.93 Q820.662 1517.37 817.028 1517.37 M817.028 1513.66 Q822.838 1513.66 825.894 1518.27 Q828.973 1522.85 828.973 1531.6 Q828.973 1540.33 825.894 1544.94 Q822.838 1549.52 817.028 1549.52 Q811.218 1549.52 808.139 1544.94 Q805.084 1540.33 805.084 1531.6 Q805.084 1522.85 808.139 1518.27 Q811.218 1513.66 817.028 1513.66 Z\" fill=\"#000000\" fill-rule=\"evenodd\" fill-opacity=\"1\" /><path clip-path=\"url(#clip260)\" d=\"M838 1544.91 L845.639 1544.91 L845.639 1518.55 L837.329 1520.21 L837.329 1515.95 L845.593 1514.29 L850.269 1514.29 L850.269 1544.91 L857.908 1544.91 L857.908 1548.85 L838 1548.85 L838 1544.91 Z\" fill=\"#000000\" fill-rule=\"evenodd\" fill-opacity=\"1\" /><path clip-path=\"url(#clip260)\" d=\"M864.597 1533.96 L877.074 1533.96 L877.074 1537.76 L864.597 1537.76 L864.597 1533.96 Z\" fill=\"#000000\" fill-rule=\"evenodd\" fill-opacity=\"1\" /><path clip-path=\"url(#clip260)\" d=\"M894.458 1517.37 Q890.847 1517.37 889.019 1520.93 Q887.213 1524.47 887.213 1531.6 Q887.213 1538.71 889.019 1542.27 Q890.847 1545.82 894.458 1545.82 Q898.093 1545.82 899.898 1542.27 Q901.727 1538.71 901.727 1531.6 Q901.727 1524.47 899.898 1520.93 Q898.093 1517.37 894.458 1517.37 M894.458 1513.66 Q900.268 1513.66 903.324 1518.27 Q906.403 1522.85 906.403 1531.6 Q906.403 1540.33 903.324 1544.94 Q900.268 1549.52 894.458 1549.52 Q888.648 1549.52 885.569 1544.94 Q882.514 1540.33 882.514 1531.6 Q882.514 1522.85 885.569 1518.27 Q888.648 1513.66 894.458 1513.66 Z\" fill=\"#000000\" fill-rule=\"evenodd\" fill-opacity=\"1\" /><path clip-path=\"url(#clip260)\" d=\"M915.43 1544.91 L923.069 1544.91 L923.069 1518.55 L914.759 1520.21 L914.759 1515.95 L923.023 1514.29 L927.699 1514.29 L927.699 1544.91 L935.338 1544.91 L935.338 1548.85 L915.43 1548.85 L915.43 1544.91 Z\" fill=\"#000000\" fill-rule=\"evenodd\" fill-opacity=\"1\" /><path clip-path=\"url(#clip260)\" d=\"M1257.73 1544.91 L1274.05 1544.91 L1274.05 1548.85 L1252.1 1548.85 L1252.1 1544.91 Q1254.77 1542.16 1259.35 1537.53 Q1263.96 1532.88 1265.14 1531.53 Q1267.38 1529.01 1268.26 1527.27 Q1269.16 1525.51 1269.16 1523.82 Q1269.16 1521.07 1267.22 1519.33 Q1265.3 1517.6 1262.2 1517.6 Q1260 1517.6 1257.54 1518.36 Q1255.11 1519.13 1252.34 1520.68 L1252.34 1515.95 Q1255.16 1514.82 1257.61 1514.24 Q1260.07 1513.66 1262.1 1513.66 Q1267.47 1513.66 1270.67 1516.35 Q1273.86 1519.03 1273.86 1523.52 Q1273.86 1525.65 1273.05 1527.57 Q1272.27 1529.47 1270.16 1532.07 Q1269.58 1532.74 1266.48 1535.95 Q1263.38 1539.15 1257.73 1544.91 Z\" fill=\"#000000\" fill-rule=\"evenodd\" fill-opacity=\"1\" /><path clip-path=\"url(#clip260)\" d=\"M1293.86 1517.37 Q1290.25 1517.37 1288.42 1520.93 Q1286.62 1524.47 1286.62 1531.6 Q1286.62 1538.71 1288.42 1542.27 Q1290.25 1545.82 1293.86 1545.82 Q1297.5 1545.82 1299.3 1542.27 Q1301.13 1538.71 1301.13 1531.6 Q1301.13 1524.47 1299.3 1520.93 Q1297.5 1517.37 1293.86 1517.37 M1293.86 1513.66 Q1299.67 1513.66 1302.73 1518.27 Q1305.81 1522.85 1305.81 1531.6 Q1305.81 1540.33 1302.73 1544.94 Q1299.67 1549.52 1293.86 1549.52 Q1288.05 1549.52 1284.97 1544.94 Q1281.92 1540.33 1281.92 1531.6 Q1281.92 1522.85 1284.97 1518.27 Q1288.05 1513.66 1293.86 1513.66 Z\" fill=\"#000000\" fill-rule=\"evenodd\" fill-opacity=\"1\" /><path clip-path=\"url(#clip260)\" d=\"M1314.84 1544.91 L1322.47 1544.91 L1322.47 1518.55 L1314.16 1520.21 L1314.16 1515.95 L1322.43 1514.29 L1327.1 1514.29 L1327.1 1544.91 L1334.74 1544.91 L1334.74 1548.85 L1314.84 1548.85 L1314.84 1544.91 Z\" fill=\"#000000\" fill-rule=\"evenodd\" fill-opacity=\"1\" /><path clip-path=\"url(#clip260)\" d=\"M1357.03 1518.36 L1345.23 1536.81 L1357.03 1536.81 L1357.03 1518.36 M1355.81 1514.29 L1361.69 1514.29 L1361.69 1536.81 L1366.62 1536.81 L1366.62 1540.7 L1361.69 1540.7 L1361.69 1548.85 L1357.03 1548.85 L1357.03 1540.7 L1341.43 1540.7 L1341.43 1536.19 L1355.81 1514.29 Z\" fill=\"#000000\" fill-rule=\"evenodd\" fill-opacity=\"1\" /><path clip-path=\"url(#clip260)\" d=\"M1371.59 1533.96 L1384.07 1533.96 L1384.07 1537.76 L1371.59 1537.76 L1371.59 1533.96 Z\" fill=\"#000000\" fill-rule=\"evenodd\" fill-opacity=\"1\" /><path clip-path=\"url(#clip260)\" d=\"M1401.46 1517.37 Q1397.84 1517.37 1396.02 1520.93 Q1394.21 1524.47 1394.21 1531.6 Q1394.21 1538.71 1396.02 1542.27 Q1397.84 1545.82 1401.46 1545.82 Q1405.09 1545.82 1406.9 1542.27 Q1408.72 1538.71 1408.72 1531.6 Q1408.72 1524.47 1406.9 1520.93 Q1405.09 1517.37 1401.46 1517.37 M1401.46 1513.66 Q1407.27 1513.66 1410.32 1518.27 Q1413.4 1522.85 1413.4 1531.6 Q1413.4 1540.33 1410.32 1544.94 Q1407.27 1549.52 1401.46 1549.52 Q1395.65 1549.52 1392.57 1544.94 Q1389.51 1540.33 1389.51 1531.6 Q1389.51 1522.85 1392.57 1518.27 Q1395.65 1513.66 1401.46 1513.66 Z\" fill=\"#000000\" fill-rule=\"evenodd\" fill-opacity=\"1\" /><path clip-path=\"url(#clip260)\" d=\"M1422.43 1544.91 L1430.07 1544.91 L1430.07 1518.55 L1421.76 1520.21 L1421.76 1515.95 L1430.02 1514.29 L1434.7 1514.29 L1434.7 1544.91 L1442.34 1544.91 L1442.34 1548.85 L1422.43 1548.85 L1422.43 1544.91 Z\" fill=\"#000000\" fill-rule=\"evenodd\" fill-opacity=\"1\" /><path clip-path=\"url(#clip260)\" d=\"M1449.02 1533.96 L1461.5 1533.96 L1461.5 1537.76 L1449.02 1537.76 L1449.02 1533.96 Z\" fill=\"#000000\" fill-rule=\"evenodd\" fill-opacity=\"1\" /><path clip-path=\"url(#clip260)\" d=\"M1478.89 1517.37 Q1475.27 1517.37 1473.45 1520.93 Q1471.64 1524.47 1471.64 1531.6 Q1471.64 1538.71 1473.45 1542.27 Q1475.27 1545.82 1478.89 1545.82 Q1482.52 1545.82 1484.33 1542.27 Q1486.15 1538.71 1486.15 1531.6 Q1486.15 1524.47 1484.33 1520.93 Q1482.52 1517.37 1478.89 1517.37 M1478.89 1513.66 Q1484.7 1513.66 1487.75 1518.27 Q1490.83 1522.85 1490.83 1531.6 Q1490.83 1540.33 1487.75 1544.94 Q1484.7 1549.52 1478.89 1549.52 Q1473.08 1549.52 1470 1544.94 Q1466.94 1540.33 1466.94 1531.6 Q1466.94 1522.85 1470 1518.27 Q1473.08 1513.66 1478.89 1513.66 Z\" fill=\"#000000\" fill-rule=\"evenodd\" fill-opacity=\"1\" /><path clip-path=\"url(#clip260)\" d=\"M1499.86 1544.91 L1507.5 1544.91 L1507.5 1518.55 L1499.19 1520.21 L1499.19 1515.95 L1507.45 1514.29 L1512.13 1514.29 L1512.13 1544.91 L1519.77 1544.91 L1519.77 1548.85 L1499.86 1548.85 L1499.86 1544.91 Z\" fill=\"#000000\" fill-rule=\"evenodd\" fill-opacity=\"1\" /><path clip-path=\"url(#clip260)\" d=\"M1842.16 1544.91 L1858.48 1544.91 L1858.48 1548.85 L1836.53 1548.85 L1836.53 1544.91 Q1839.19 1542.16 1843.78 1537.53 Q1848.38 1532.88 1849.56 1531.53 Q1851.81 1529.01 1852.69 1527.27 Q1853.59 1525.51 1853.59 1523.82 Q1853.59 1521.07 1851.65 1519.33 Q1849.73 1517.6 1846.62 1517.6 Q1844.43 1517.6 1841.97 1518.36 Q1839.54 1519.13 1836.76 1520.68 L1836.76 1515.95 Q1839.59 1514.82 1842.04 1514.24 Q1844.49 1513.66 1846.53 1513.66 Q1851.9 1513.66 1855.1 1516.35 Q1858.29 1519.03 1858.29 1523.52 Q1858.29 1525.65 1857.48 1527.57 Q1856.69 1529.47 1854.59 1532.07 Q1854.01 1532.74 1850.91 1535.95 Q1847.81 1539.15 1842.16 1544.91 Z\" fill=\"#000000\" fill-rule=\"evenodd\" fill-opacity=\"1\" /><path clip-path=\"url(#clip260)\" d=\"M1878.29 1517.37 Q1874.68 1517.37 1872.85 1520.93 Q1871.05 1524.47 1871.05 1531.6 Q1871.05 1538.71 1872.85 1542.27 Q1874.68 1545.82 1878.29 1545.82 Q1881.93 1545.82 1883.73 1542.27 Q1885.56 1538.71 1885.56 1531.6 Q1885.56 1524.47 1883.73 1520.93 Q1881.93 1517.37 1878.29 1517.37 M1878.29 1513.66 Q1884.1 1513.66 1887.16 1518.27 Q1890.24 1522.85 1890.24 1531.6 Q1890.24 1540.33 1887.16 1544.94 Q1884.1 1549.52 1878.29 1549.52 Q1872.48 1549.52 1869.4 1544.94 Q1866.35 1540.33 1866.35 1531.6 Q1866.35 1522.85 1869.4 1518.27 Q1872.48 1513.66 1878.29 1513.66 Z\" fill=\"#000000\" fill-rule=\"evenodd\" fill-opacity=\"1\" /><path clip-path=\"url(#clip260)\" d=\"M1899.26 1544.91 L1906.9 1544.91 L1906.9 1518.55 L1898.59 1520.21 L1898.59 1515.95 L1906.86 1514.29 L1911.53 1514.29 L1911.53 1544.91 L1919.17 1544.91 L1919.17 1548.85 L1899.26 1548.85 L1899.26 1544.91 Z\" fill=\"#000000\" fill-rule=\"evenodd\" fill-opacity=\"1\" /><path clip-path=\"url(#clip260)\" d=\"M1928.75 1548.13 L1928.75 1543.87 Q1930.51 1544.7 1932.32 1545.14 Q1934.12 1545.58 1935.86 1545.58 Q1940.49 1545.58 1942.92 1542.48 Q1945.37 1539.36 1945.72 1533.01 Q1944.38 1535.01 1942.32 1536.07 Q1940.26 1537.13 1937.76 1537.13 Q1932.57 1537.13 1929.54 1534.01 Q1926.53 1530.86 1926.53 1525.42 Q1926.53 1520.1 1929.68 1516.88 Q1932.83 1513.66 1938.06 1513.66 Q1944.05 1513.66 1947.2 1518.27 Q1950.37 1522.85 1950.37 1531.6 Q1950.37 1539.77 1946.49 1544.66 Q1942.62 1549.52 1936.07 1549.52 Q1934.31 1549.52 1932.5 1549.17 Q1930.7 1548.82 1928.75 1548.13 M1938.06 1533.48 Q1941.21 1533.48 1943.04 1531.32 Q1944.89 1529.17 1944.89 1525.42 Q1944.89 1521.7 1943.04 1519.54 Q1941.21 1517.37 1938.06 1517.37 Q1934.91 1517.37 1933.06 1519.54 Q1931.23 1521.7 1931.23 1525.42 Q1931.23 1529.17 1933.06 1531.32 Q1934.91 1533.48 1938.06 1533.48 Z\" fill=\"#000000\" fill-rule=\"evenodd\" fill-opacity=\"1\" /><path clip-path=\"url(#clip260)\" d=\"M1956.02 1533.96 L1968.5 1533.96 L1968.5 1537.76 L1956.02 1537.76 L1956.02 1533.96 Z\" fill=\"#000000\" fill-rule=\"evenodd\" fill-opacity=\"1\" /><path clip-path=\"url(#clip260)\" d=\"M1985.88 1517.37 Q1982.27 1517.37 1980.44 1520.93 Q1978.64 1524.47 1978.64 1531.6 Q1978.64 1538.71 1980.44 1542.27 Q1982.27 1545.82 1985.88 1545.82 Q1989.52 1545.82 1991.32 1542.27 Q1993.15 1538.71 1993.15 1531.6 Q1993.15 1524.47 1991.32 1520.93 Q1989.52 1517.37 1985.88 1517.37 M1985.88 1513.66 Q1991.69 1513.66 1994.75 1518.27 Q1997.83 1522.85 1997.83 1531.6 Q1997.83 1540.33 1994.75 1544.94 Q1991.69 1549.52 1985.88 1549.52 Q1980.07 1549.52 1976.99 1544.94 Q1973.94 1540.33 1973.94 1531.6 Q1973.94 1522.85 1976.99 1518.27 Q1980.07 1513.66 1985.88 1513.66 Z\" fill=\"#000000\" fill-rule=\"evenodd\" fill-opacity=\"1\" /><path clip-path=\"url(#clip260)\" d=\"M2006.86 1544.91 L2014.49 1544.91 L2014.49 1518.55 L2006.18 1520.21 L2006.18 1515.95 L2014.45 1514.29 L2019.12 1514.29 L2019.12 1544.91 L2026.76 1544.91 L2026.76 1548.85 L2006.86 1548.85 L2006.86 1544.91 Z\" fill=\"#000000\" fill-rule=\"evenodd\" fill-opacity=\"1\" /><path clip-path=\"url(#clip260)\" d=\"M2033.45 1533.96 L2045.93 1533.96 L2045.93 1537.76 L2033.45 1537.76 L2033.45 1533.96 Z\" fill=\"#000000\" fill-rule=\"evenodd\" fill-opacity=\"1\" /><path clip-path=\"url(#clip260)\" d=\"M2063.31 1517.37 Q2059.7 1517.37 2057.87 1520.93 Q2056.07 1524.47 2056.07 1531.6 Q2056.07 1538.71 2057.87 1542.27 Q2059.7 1545.82 2063.31 1545.82 Q2066.95 1545.82 2068.75 1542.27 Q2070.58 1538.71 2070.58 1531.6 Q2070.58 1524.47 2068.75 1520.93 Q2066.95 1517.37 2063.31 1517.37 M2063.31 1513.66 Q2069.12 1513.66 2072.18 1518.27 Q2075.26 1522.85 2075.26 1531.6 Q2075.26 1540.33 2072.18 1544.94 Q2069.12 1549.52 2063.31 1549.52 Q2057.5 1549.52 2054.42 1544.94 Q2051.37 1540.33 2051.37 1531.6 Q2051.37 1522.85 2054.42 1518.27 Q2057.5 1513.66 2063.31 1513.66 Z\" fill=\"#000000\" fill-rule=\"evenodd\" fill-opacity=\"1\" /><path clip-path=\"url(#clip260)\" d=\"M2084.29 1544.91 L2091.92 1544.91 L2091.92 1518.55 L2083.61 1520.21 L2083.61 1515.95 L2091.88 1514.29 L2096.55 1514.29 L2096.55 1544.91 L2104.19 1544.91 L2104.19 1548.85 L2084.29 1548.85 L2084.29 1544.91 Z\" fill=\"#000000\" fill-rule=\"evenodd\" fill-opacity=\"1\" /><polyline clip-path=\"url(#clip262)\" style=\"stroke:#000000; stroke-linecap:butt; stroke-linejoin:round; stroke-width:2; stroke-opacity:0.1; fill:none\" points=\"\n",
       "  184.191,1247.15 2352.76,1247.15 \n",
       "  \"/>\n",
       "<polyline clip-path=\"url(#clip262)\" style=\"stroke:#000000; stroke-linecap:butt; stroke-linejoin:round; stroke-width:2; stroke-opacity:0.1; fill:none\" points=\"\n",
       "  184.191,1005.65 2352.76,1005.65 \n",
       "  \"/>\n",
       "<polyline clip-path=\"url(#clip262)\" style=\"stroke:#000000; stroke-linecap:butt; stroke-linejoin:round; stroke-width:2; stroke-opacity:0.1; fill:none\" points=\"\n",
       "  184.191,764.158 2352.76,764.158 \n",
       "  \"/>\n",
       "<polyline clip-path=\"url(#clip262)\" style=\"stroke:#000000; stroke-linecap:butt; stroke-linejoin:round; stroke-width:2; stroke-opacity:0.1; fill:none\" points=\"\n",
       "  184.191,522.665 2352.76,522.665 \n",
       "  \"/>\n",
       "<polyline clip-path=\"url(#clip262)\" style=\"stroke:#000000; stroke-linecap:butt; stroke-linejoin:round; stroke-width:2; stroke-opacity:0.1; fill:none\" points=\"\n",
       "  184.191,281.171 2352.76,281.171 \n",
       "  \"/>\n",
       "<polyline clip-path=\"url(#clip260)\" style=\"stroke:#000000; stroke-linecap:butt; stroke-linejoin:round; stroke-width:4; stroke-opacity:1; fill:none\" points=\"\n",
       "  184.191,1486.45 184.191,47.2441 \n",
       "  \"/>\n",
       "<polyline clip-path=\"url(#clip260)\" style=\"stroke:#000000; stroke-linecap:butt; stroke-linejoin:round; stroke-width:4; stroke-opacity:1; fill:none\" points=\"\n",
       "  184.191,1247.15 203.088,1247.15 \n",
       "  \"/>\n",
       "<polyline clip-path=\"url(#clip260)\" style=\"stroke:#000000; stroke-linecap:butt; stroke-linejoin:round; stroke-width:4; stroke-opacity:1; fill:none\" points=\"\n",
       "  184.191,1005.65 203.088,1005.65 \n",
       "  \"/>\n",
       "<polyline clip-path=\"url(#clip260)\" style=\"stroke:#000000; stroke-linecap:butt; stroke-linejoin:round; stroke-width:4; stroke-opacity:1; fill:none\" points=\"\n",
       "  184.191,764.158 203.088,764.158 \n",
       "  \"/>\n",
       "<polyline clip-path=\"url(#clip260)\" style=\"stroke:#000000; stroke-linecap:butt; stroke-linejoin:round; stroke-width:4; stroke-opacity:1; fill:none\" points=\"\n",
       "  184.191,522.665 203.088,522.665 \n",
       "  \"/>\n",
       "<polyline clip-path=\"url(#clip260)\" style=\"stroke:#000000; stroke-linecap:butt; stroke-linejoin:round; stroke-width:4; stroke-opacity:1; fill:none\" points=\"\n",
       "  184.191,281.171 203.088,281.171 \n",
       "  \"/>\n",
       "<path clip-path=\"url(#clip260)\" d=\"M91.0151 1232.94 Q87.404 1232.94 85.5753 1236.51 Q83.7697 1240.05 83.7697 1247.18 Q83.7697 1254.29 85.5753 1257.85 Q87.404 1261.39 91.0151 1261.39 Q94.6493 1261.39 96.4548 1257.85 Q98.2835 1254.29 98.2835 1247.18 Q98.2835 1240.05 96.4548 1236.51 Q94.6493 1232.94 91.0151 1232.94 M91.0151 1229.24 Q96.8252 1229.24 99.8808 1233.85 Q102.959 1238.43 102.959 1247.18 Q102.959 1255.91 99.8808 1260.51 Q96.8252 1265.1 91.0151 1265.1 Q85.2049 1265.1 82.1262 1260.51 Q79.0707 1255.91 79.0707 1247.18 Q79.0707 1238.43 82.1262 1233.85 Q85.2049 1229.24 91.0151 1229.24 Z\" fill=\"#000000\" fill-rule=\"evenodd\" fill-opacity=\"1\" /><path clip-path=\"url(#clip260)\" d=\"M111.177 1258.55 L116.061 1258.55 L116.061 1264.43 L111.177 1264.43 L111.177 1258.55 Z\" fill=\"#000000\" fill-rule=\"evenodd\" fill-opacity=\"1\" /><path clip-path=\"url(#clip260)\" d=\"M136.246 1232.94 Q132.635 1232.94 130.807 1236.51 Q129.001 1240.05 129.001 1247.18 Q129.001 1254.29 130.807 1257.85 Q132.635 1261.39 136.246 1261.39 Q139.881 1261.39 141.686 1257.85 Q143.515 1254.29 143.515 1247.18 Q143.515 1240.05 141.686 1236.51 Q139.881 1232.94 136.246 1232.94 M136.246 1229.24 Q142.056 1229.24 145.112 1233.85 Q148.191 1238.43 148.191 1247.18 Q148.191 1255.91 145.112 1260.51 Q142.056 1265.1 136.246 1265.1 Q130.436 1265.1 127.357 1260.51 Q124.302 1255.91 124.302 1247.18 Q124.302 1238.43 127.357 1233.85 Q130.436 1229.24 136.246 1229.24 Z\" fill=\"#000000\" fill-rule=\"evenodd\" fill-opacity=\"1\" /><path clip-path=\"url(#clip260)\" d=\"M86.0382 1019 L102.358 1019 L102.358 1022.93 L80.4133 1022.93 L80.4133 1019 Q83.0753 1016.24 87.6586 1011.61 Q92.2651 1006.96 93.4456 1005.62 Q95.691 1003.09 96.5706 1001.36 Q97.4734 999.598 97.4734 997.909 Q97.4734 995.154 95.5289 993.418 Q93.6076 991.682 90.5058 991.682 Q88.3067 991.682 85.8531 992.446 Q83.4225 993.209 80.6447 994.76 L80.6447 990.038 Q83.4688 988.904 85.9225 988.325 Q88.3762 987.747 90.4132 987.747 Q95.7836 987.747 98.978 990.432 Q102.172 993.117 102.172 997.608 Q102.172 999.737 101.362 1001.66 Q100.575 1003.56 98.4687 1006.15 Q97.89 1006.82 94.7882 1010.04 Q91.6864 1013.23 86.0382 1019 Z\" fill=\"#000000\" fill-rule=\"evenodd\" fill-opacity=\"1\" /><path clip-path=\"url(#clip260)\" d=\"M112.172 1017.05 L117.057 1017.05 L117.057 1022.93 L112.172 1022.93 L112.172 1017.05 Z\" fill=\"#000000\" fill-rule=\"evenodd\" fill-opacity=\"1\" /><path clip-path=\"url(#clip260)\" d=\"M127.288 988.372 L145.644 988.372 L145.644 992.307 L131.57 992.307 L131.57 1000.78 Q132.589 1000.43 133.607 1000.27 Q134.626 1000.08 135.644 1000.08 Q141.431 1000.08 144.811 1003.26 Q148.191 1006.43 148.191 1011.84 Q148.191 1017.42 144.718 1020.52 Q141.246 1023.6 134.927 1023.6 Q132.751 1023.6 130.482 1023.23 Q128.237 1022.86 125.83 1022.12 L125.83 1017.42 Q127.913 1018.56 130.135 1019.11 Q132.357 1019.67 134.834 1019.67 Q138.839 1019.67 141.177 1017.56 Q143.515 1015.45 143.515 1011.84 Q143.515 1008.23 141.177 1006.13 Q138.839 1004.02 134.834 1004.02 Q132.959 1004.02 131.084 1004.44 Q129.232 1004.85 127.288 1005.73 L127.288 988.372 Z\" fill=\"#000000\" fill-rule=\"evenodd\" fill-opacity=\"1\" /><path clip-path=\"url(#clip260)\" d=\"M81.0614 746.878 L99.4178 746.878 L99.4178 750.813 L85.3438 750.813 L85.3438 759.285 Q86.3623 758.938 87.3808 758.776 Q88.3993 758.591 89.4178 758.591 Q95.2049 758.591 98.5845 761.762 Q101.964 764.934 101.964 770.35 Q101.964 775.929 98.4919 779.031 Q95.0197 782.109 88.7003 782.109 Q86.5243 782.109 84.2558 781.739 Q82.0105 781.369 79.6031 780.628 L79.6031 775.929 Q81.6864 777.063 83.9086 777.619 Q86.1308 778.174 88.6077 778.174 Q92.6123 778.174 94.9502 776.068 Q97.2882 773.961 97.2882 770.35 Q97.2882 766.739 94.9502 764.633 Q92.6123 762.526 88.6077 762.526 Q86.7327 762.526 84.8577 762.943 Q83.0058 763.359 81.0614 764.239 L81.0614 746.878 Z\" fill=\"#000000\" fill-rule=\"evenodd\" fill-opacity=\"1\" /><path clip-path=\"url(#clip260)\" d=\"M111.177 775.558 L116.061 775.558 L116.061 781.438 L111.177 781.438 L111.177 775.558 Z\" fill=\"#000000\" fill-rule=\"evenodd\" fill-opacity=\"1\" /><path clip-path=\"url(#clip260)\" d=\"M136.246 749.957 Q132.635 749.957 130.807 753.522 Q129.001 757.063 129.001 764.193 Q129.001 771.299 130.807 774.864 Q132.635 778.406 136.246 778.406 Q139.881 778.406 141.686 774.864 Q143.515 771.299 143.515 764.193 Q143.515 757.063 141.686 753.522 Q139.881 749.957 136.246 749.957 M136.246 746.253 Q142.056 746.253 145.112 750.86 Q148.191 755.443 148.191 764.193 Q148.191 772.92 145.112 777.526 Q142.056 782.109 136.246 782.109 Q130.436 782.109 127.357 777.526 Q124.302 772.92 124.302 764.193 Q124.302 755.443 127.357 750.86 Q130.436 746.253 136.246 746.253 Z\" fill=\"#000000\" fill-rule=\"evenodd\" fill-opacity=\"1\" /><path clip-path=\"url(#clip260)\" d=\"M80.8299 505.385 L103.052 505.385 L103.052 507.375 L90.5058 539.945 L85.6216 539.945 L97.4271 509.32 L80.8299 509.32 L80.8299 505.385 Z\" fill=\"#000000\" fill-rule=\"evenodd\" fill-opacity=\"1\" /><path clip-path=\"url(#clip260)\" d=\"M112.172 534.065 L117.057 534.065 L117.057 539.945 L112.172 539.945 L112.172 534.065 Z\" fill=\"#000000\" fill-rule=\"evenodd\" fill-opacity=\"1\" /><path clip-path=\"url(#clip260)\" d=\"M127.288 505.385 L145.644 505.385 L145.644 509.32 L131.57 509.32 L131.57 517.792 Q132.589 517.445 133.607 517.283 Q134.626 517.097 135.644 517.097 Q141.431 517.097 144.811 520.269 Q148.191 523.44 148.191 528.857 Q148.191 534.435 144.718 537.537 Q141.246 540.616 134.927 540.616 Q132.751 540.616 130.482 540.245 Q128.237 539.875 125.83 539.134 L125.83 534.435 Q127.913 535.57 130.135 536.125 Q132.357 536.681 134.834 536.681 Q138.839 536.681 141.177 534.574 Q143.515 532.468 143.515 528.857 Q143.515 525.246 141.177 523.139 Q138.839 521.033 134.834 521.033 Q132.959 521.033 131.084 521.449 Q129.232 521.866 127.288 522.746 L127.288 505.385 Z\" fill=\"#000000\" fill-rule=\"evenodd\" fill-opacity=\"1\" /><path clip-path=\"url(#clip260)\" d=\"M51.6634 294.516 L59.3023 294.516 L59.3023 268.15 L50.9921 269.817 L50.9921 265.558 L59.256 263.891 L63.9319 263.891 L63.9319 294.516 L71.5707 294.516 L71.5707 298.451 L51.6634 298.451 L51.6634 294.516 Z\" fill=\"#000000\" fill-rule=\"evenodd\" fill-opacity=\"1\" /><path clip-path=\"url(#clip260)\" d=\"M91.0151 266.97 Q87.404 266.97 85.5753 270.535 Q83.7697 274.076 83.7697 281.206 Q83.7697 288.312 85.5753 291.877 Q87.404 295.419 91.0151 295.419 Q94.6493 295.419 96.4548 291.877 Q98.2835 288.312 98.2835 281.206 Q98.2835 274.076 96.4548 270.535 Q94.6493 266.97 91.0151 266.97 M91.0151 263.266 Q96.8252 263.266 99.8808 267.873 Q102.959 272.456 102.959 281.206 Q102.959 289.933 99.8808 294.539 Q96.8252 299.122 91.0151 299.122 Q85.2049 299.122 82.1262 294.539 Q79.0707 289.933 79.0707 281.206 Q79.0707 272.456 82.1262 267.873 Q85.2049 263.266 91.0151 263.266 Z\" fill=\"#000000\" fill-rule=\"evenodd\" fill-opacity=\"1\" /><path clip-path=\"url(#clip260)\" d=\"M111.177 292.571 L116.061 292.571 L116.061 298.451 L111.177 298.451 L111.177 292.571 Z\" fill=\"#000000\" fill-rule=\"evenodd\" fill-opacity=\"1\" /><path clip-path=\"url(#clip260)\" d=\"M136.246 266.97 Q132.635 266.97 130.807 270.535 Q129.001 274.076 129.001 281.206 Q129.001 288.312 130.807 291.877 Q132.635 295.419 136.246 295.419 Q139.881 295.419 141.686 291.877 Q143.515 288.312 143.515 281.206 Q143.515 274.076 141.686 270.535 Q139.881 266.97 136.246 266.97 M136.246 263.266 Q142.056 263.266 145.112 267.873 Q148.191 272.456 148.191 281.206 Q148.191 289.933 145.112 294.539 Q142.056 299.122 136.246 299.122 Q130.436 299.122 127.357 294.539 Q124.302 289.933 124.302 281.206 Q124.302 272.456 127.357 267.873 Q130.436 263.266 136.246 263.266 Z\" fill=\"#000000\" fill-rule=\"evenodd\" fill-opacity=\"1\" /><polyline clip-path=\"url(#clip262)\" style=\"stroke:#0000ff; stroke-linecap:butt; stroke-linejoin:round; stroke-width:8; stroke-opacity:0.6; fill:none\" points=\"\n",
       "  245.565,1445.72 274.691,1442.76 304.136,1344.56 333.581,1090.15 362.387,1056.36 391.512,1057.78 420.957,1013.96 450.403,1043.92 479.208,1050.29 508.333,1008.2 \n",
       "  537.779,888.634 567.224,811.338 596.03,755.641 625.155,673.483 654.6,650.667 684.046,559.769 713.171,381.407 742.297,282.368 771.742,176.567 801.187,306.875 \n",
       "  829.993,439.086 859.118,501.715 888.563,634.066 918.009,653.004 946.814,701.287 975.939,808.066 1005.38,909.687 1034.83,915.981 1063.64,878.101 1092.76,799.766 \n",
       "  1122.21,726.343 1151.65,660.886 1180.78,660.629 1209.9,697.404 1239.35,752.986 1268.79,702.934 1297.6,694.202 1326.72,698.109 1356.17,646.222 1385.61,723.909 \n",
       "  1414.42,672.632 1443.55,622.172 1472.99,642.93 1502.44,697.342 1531.24,846.993 1560.37,806.899 1589.81,790.779 1619.26,777.524 1648.38,618.723 1677.51,643.631 \n",
       "  1706.95,666.108 1736.4,609.823 1765.2,636.879 1794.33,735.261 1823.78,783.895 1853.22,791.466 1882.03,853.905 1911.15,814.339 1940.6,764.625 1970.04,771.874 \n",
       "  1998.85,841.863 2027.97,817.89 2057.42,846.88 2086.86,885.346 2115.99,820.163 2145.11,1014.35 2174.56,948.214 2204.01,940.937 2232.81,950.267 2261.94,781.277 \n",
       "  2291.38,780.451 \n",
       "  \"/>\n",
       "<polyline clip-path=\"url(#clip262)\" style=\"stroke:#ff0000; stroke-linecap:butt; stroke-linejoin:round; stroke-width:8; stroke-opacity:0.8; fill:none\" stroke-dasharray=\"32, 16, 4, 16\" points=\"\n",
       "  245.565,474.366 274.691,474.366 304.136,506.565 333.581,522.665 362.387,522.665 391.512,570.963 420.957,570.963 450.403,570.963 479.208,570.963 508.333,554.864 \n",
       "  537.779,490.465 567.224,409.968 596.03,377.768 625.155,361.669 654.6,297.271 684.046,216.773 713.171,184.574 742.297,120.175 771.742,87.9763 801.187,104.076 \n",
       "  829.993,232.872 859.118,458.266 888.563,554.864 918.009,570.963 946.814,587.063 975.939,619.262 1005.38,635.362 1034.83,699.76 1063.64,715.859 1092.76,715.859 \n",
       "  1122.21,715.859 1151.65,715.859 1180.78,715.859 1209.9,715.859 1239.35,764.158 1268.79,764.158 1297.6,764.158 1326.72,764.158 1356.17,764.158 1385.61,764.158 \n",
       "  1414.42,715.859 1443.55,715.859 1472.99,691.71 1502.44,691.71 1531.24,691.71 1560.37,691.71 1589.81,667.561 1619.26,651.461 1648.38,587.063 1677.51,570.963 \n",
       "  1706.95,570.963 1736.4,570.963 1765.2,570.963 1794.33,570.963 1823.78,595.113 1853.22,595.113 1882.03,603.162 1911.15,619.262 1940.6,619.262 1970.04,603.162 \n",
       "  1998.85,595.113 2027.97,595.113 2057.42,619.262 2086.86,619.262 2115.99,675.61 2145.11,868.805 2174.56,909.054 2204.01,909.054 2232.81,909.054 2261.94,909.054 \n",
       "  2291.38,909.054 \n",
       "  \"/>\n",
       "<polyline clip-path=\"url(#clip262)\" style=\"stroke:#000000; stroke-linecap:butt; stroke-linejoin:round; stroke-width:6; stroke-opacity:0.5; fill:none\" stroke-dasharray=\"24, 15\" points=\"\n",
       "  -1984.37,1247.15 4521.32,1247.15 \n",
       "  \"/>\n",
       "</svg>\n"
      ]
     },
     "execution_count": 52,
     "metadata": {},
     "output_type": "execute_result"
    }
   ],
   "source": [
    "repo = sa_data[!, :repo]\n",
    "plot(date_sa, inflation, legend = false, lw = 2, color = :blue, alpha = 0.6)\n",
    "plot!(date_sa, repo, legend = false, lw = 2, color = :red, alpha = 0.8, ls = :dashdot)\n",
    "plot!([0], legend = false, lw = 1.5, seriestype = :hline, color = :black, ls = :dash, alpha = 0.5)"
   ]
  },
  {
   "cell_type": "markdown",
   "metadata": {
    "slideshow": {
     "slide_type": "slide"
    }
   },
   "source": [
    "# Descriptive statistics"
   ]
  },
  {
   "cell_type": "code",
   "execution_count": 28,
   "metadata": {
    "slideshow": {
     "slide_type": "fragment"
    }
   },
   "outputs": [
    {
     "data": {
      "text/plain": [
       "3.7277526338028167e6"
      ]
     },
     "execution_count": 28,
     "metadata": {},
     "output_type": "execute_result"
    }
   ],
   "source": [
    "mean(gdp) # The average"
   ]
  },
  {
   "cell_type": "code",
   "execution_count": 37,
   "metadata": {
    "slideshow": {
     "slide_type": "fragment"
    }
   },
   "outputs": [
    {
     "data": {
      "text/plain": [
       "1.3124105578634653e6"
      ]
     },
     "execution_count": 37,
     "metadata": {},
     "output_type": "execute_result"
    }
   ],
   "source": [
    "std(gdp) # The standard deviation"
   ]
  },
  {
   "cell_type": "code",
   "execution_count": 36,
   "metadata": {
    "slideshow": {
     "slide_type": "fragment"
    }
   },
   "outputs": [
    {
     "data": {
      "text/html": [
       "<div class=\"data-frame\"><p>5 rows × 7 columns</p><table class=\"data-frame\"><thead><tr><th></th><th>variable</th><th>mean</th><th>min</th><th>median</th><th>max</th><th>nmissing</th><th>eltype</th></tr><tr><th></th><th title=\"Symbol\">Symbol</th><th title=\"Union{Nothing, Float64}\">Union…</th><th title=\"Any\">Any</th><th title=\"Any\">Any</th><th title=\"Any\">Any</th><th title=\"Int64\">Int64</th><th title=\"DataType\">DataType</th></tr></thead><tbody><tr><th>1</th><td>date</td><td></td><td>2004-03-31</td><td>2012-12-31</td><td>2021-09-30</td><td>0</td><td>Date</td></tr><tr><th>2</th><td>gdp</td><td>3.72775e6</td><td>1571580</td><td>3.71359e6</td><td>5819983</td><td>0</td><td>Int64</td></tr><tr><th>3</th><td>repo</td><td>6.73709</td><td>3.5</td><td>6.66667</td><td>12.0</td><td>0</td><td>Float64</td></tr><tr><th>4</th><td>cpi</td><td>82.2662</td><td>51.1689</td><td>80.0</td><td>122.233</td><td>0</td><td>Float64</td></tr><tr><th>5</th><td>inflation</td><td>4.83013</td><td>-2.05565</td><td>4.86163</td><td>11.0829</td><td>0</td><td>Float64</td></tr></tbody></table></div>"
      ],
      "text/latex": [
       "\\begin{tabular}{r|ccccccc}\n",
       "\t& variable & mean & min & median & max & nmissing & eltype\\\\\n",
       "\t\\hline\n",
       "\t& Symbol & Union… & Any & Any & Any & Int64 & DataType\\\\\n",
       "\t\\hline\n",
       "\t1 & date &  & 2004-03-31 & 2012-12-31 & 2021-09-30 & 0 & Date \\\\\n",
       "\t2 & gdp & 3.72775e6 & 1571580 & 3.71359e6 & 5819983 & 0 & Int64 \\\\\n",
       "\t3 & repo & 6.73709 & 3.5 & 6.66667 & 12.0 & 0 & Float64 \\\\\n",
       "\t4 & cpi & 82.2662 & 51.1689 & 80.0 & 122.233 & 0 & Float64 \\\\\n",
       "\t5 & inflation & 4.83013 & -2.05565 & 4.86163 & 11.0829 & 0 & Float64 \\\\\n",
       "\\end{tabular}\n"
      ],
      "text/plain": [
       "\u001b[1m5×7 DataFrame\u001b[0m\n",
       "\u001b[1m Row \u001b[0m│\u001b[1m variable  \u001b[0m\u001b[1m mean      \u001b[0m\u001b[1m min        \u001b[0m\u001b[1m median     \u001b[0m\u001b[1m max        \u001b[0m\u001b[1m nmissing \u001b[0m\u001b[1m eltype   \u001b[0m\n",
       "\u001b[1m     \u001b[0m│\u001b[90m Symbol    \u001b[0m\u001b[90m Union…    \u001b[0m\u001b[90m Any        \u001b[0m\u001b[90m Any        \u001b[0m\u001b[90m Any        \u001b[0m\u001b[90m Int64    \u001b[0m\u001b[90m DataType \u001b[0m\n",
       "─────┼──────────────────────────────────────────────────────────────────────────────\n",
       "   1 │ date      \u001b[90m           \u001b[0m 2004-03-31  2012-12-31  2021-09-30         0  Date\n",
       "  ⋮  │     ⋮          ⋮          ⋮           ⋮           ⋮          ⋮         ⋮\n",
       "\u001b[36m                                                                      4 rows omitted\u001b[0m"
      ]
     },
     "execution_count": 36,
     "metadata": {},
     "output_type": "execute_result"
    }
   ],
   "source": [
    "describe(sa_data)"
   ]
  },
  {
   "cell_type": "markdown",
   "metadata": {
    "slideshow": {
     "slide_type": "slide"
    }
   },
   "source": [
    "# Histogram\n",
    "\n",
    "Histogram gives general idea of what the distribution for **inflation** looks like,"
   ]
  },
  {
   "cell_type": "code",
   "execution_count": 41,
   "metadata": {
    "slideshow": {
     "slide_type": "fragment"
    }
   },
   "outputs": [
    {
     "data": {
      "image/svg+xml": [
       "<?xml version=\"1.0\" encoding=\"utf-8\"?>\n",
       "<svg xmlns=\"http://www.w3.org/2000/svg\" xmlns:xlink=\"http://www.w3.org/1999/xlink\" width=\"600\" height=\"400\" viewBox=\"0 0 2400 1600\">\n",
       "<defs>\n",
       "  <clipPath id=\"clip900\">\n",
       "    <rect x=\"0\" y=\"0\" width=\"2400\" height=\"1600\"/>\n",
       "  </clipPath>\n",
       "</defs>\n",
       "<path clip-path=\"url(#clip900)\" d=\"\n",
       "M0 1600 L2400 1600 L2400 0 L0 0  Z\n",
       "  \" fill=\"#ffffff\" fill-rule=\"evenodd\" fill-opacity=\"1\"/>\n",
       "<defs>\n",
       "  <clipPath id=\"clip901\">\n",
       "    <rect x=\"480\" y=\"0\" width=\"1681\" height=\"1600\"/>\n",
       "  </clipPath>\n",
       "</defs>\n",
       "<path clip-path=\"url(#clip900)\" d=\"\n",
       "M138.959 1486.45 L2352.76 1486.45 L2352.76 47.2441 L138.959 47.2441  Z\n",
       "  \" fill=\"#ffffff\" fill-rule=\"evenodd\" fill-opacity=\"1\"/>\n",
       "<defs>\n",
       "  <clipPath id=\"clip902\">\n",
       "    <rect x=\"138\" y=\"47\" width=\"2215\" height=\"1440\"/>\n",
       "  </clipPath>\n",
       "</defs>\n",
       "<polyline clip-path=\"url(#clip902)\" style=\"stroke:#000000; stroke-linecap:butt; stroke-linejoin:round; stroke-width:2; stroke-opacity:0.1; fill:none\" points=\"\n",
       "  392.074,1486.45 392.074,47.2441 \n",
       "  \"/>\n",
       "<polyline clip-path=\"url(#clip902)\" style=\"stroke:#000000; stroke-linecap:butt; stroke-linejoin:round; stroke-width:2; stroke-opacity:0.1; fill:none\" points=\"\n",
       "  654.776,1486.45 654.776,47.2441 \n",
       "  \"/>\n",
       "<polyline clip-path=\"url(#clip902)\" style=\"stroke:#000000; stroke-linecap:butt; stroke-linejoin:round; stroke-width:2; stroke-opacity:0.1; fill:none\" points=\"\n",
       "  917.479,1486.45 917.479,47.2441 \n",
       "  \"/>\n",
       "<polyline clip-path=\"url(#clip902)\" style=\"stroke:#000000; stroke-linecap:butt; stroke-linejoin:round; stroke-width:2; stroke-opacity:0.1; fill:none\" points=\"\n",
       "  1180.18,1486.45 1180.18,47.2441 \n",
       "  \"/>\n",
       "<polyline clip-path=\"url(#clip902)\" style=\"stroke:#000000; stroke-linecap:butt; stroke-linejoin:round; stroke-width:2; stroke-opacity:0.1; fill:none\" points=\"\n",
       "  1442.88,1486.45 1442.88,47.2441 \n",
       "  \"/>\n",
       "<polyline clip-path=\"url(#clip902)\" style=\"stroke:#000000; stroke-linecap:butt; stroke-linejoin:round; stroke-width:2; stroke-opacity:0.1; fill:none\" points=\"\n",
       "  1705.59,1486.45 1705.59,47.2441 \n",
       "  \"/>\n",
       "<polyline clip-path=\"url(#clip902)\" style=\"stroke:#000000; stroke-linecap:butt; stroke-linejoin:round; stroke-width:2; stroke-opacity:0.1; fill:none\" points=\"\n",
       "  1968.29,1486.45 1968.29,47.2441 \n",
       "  \"/>\n",
       "<polyline clip-path=\"url(#clip902)\" style=\"stroke:#000000; stroke-linecap:butt; stroke-linejoin:round; stroke-width:2; stroke-opacity:0.1; fill:none\" points=\"\n",
       "  2230.99,1486.45 2230.99,47.2441 \n",
       "  \"/>\n",
       "<polyline clip-path=\"url(#clip900)\" style=\"stroke:#000000; stroke-linecap:butt; stroke-linejoin:round; stroke-width:4; stroke-opacity:1; fill:none\" points=\"\n",
       "  138.959,1486.45 2352.76,1486.45 \n",
       "  \"/>\n",
       "<polyline clip-path=\"url(#clip900)\" style=\"stroke:#000000; stroke-linecap:butt; stroke-linejoin:round; stroke-width:4; stroke-opacity:1; fill:none\" points=\"\n",
       "  392.074,1486.45 392.074,1467.55 \n",
       "  \"/>\n",
       "<polyline clip-path=\"url(#clip900)\" style=\"stroke:#000000; stroke-linecap:butt; stroke-linejoin:round; stroke-width:4; stroke-opacity:1; fill:none\" points=\"\n",
       "  654.776,1486.45 654.776,1467.55 \n",
       "  \"/>\n",
       "<polyline clip-path=\"url(#clip900)\" style=\"stroke:#000000; stroke-linecap:butt; stroke-linejoin:round; stroke-width:4; stroke-opacity:1; fill:none\" points=\"\n",
       "  917.479,1486.45 917.479,1467.55 \n",
       "  \"/>\n",
       "<polyline clip-path=\"url(#clip900)\" style=\"stroke:#000000; stroke-linecap:butt; stroke-linejoin:round; stroke-width:4; stroke-opacity:1; fill:none\" points=\"\n",
       "  1180.18,1486.45 1180.18,1467.55 \n",
       "  \"/>\n",
       "<polyline clip-path=\"url(#clip900)\" style=\"stroke:#000000; stroke-linecap:butt; stroke-linejoin:round; stroke-width:4; stroke-opacity:1; fill:none\" points=\"\n",
       "  1442.88,1486.45 1442.88,1467.55 \n",
       "  \"/>\n",
       "<polyline clip-path=\"url(#clip900)\" style=\"stroke:#000000; stroke-linecap:butt; stroke-linejoin:round; stroke-width:4; stroke-opacity:1; fill:none\" points=\"\n",
       "  1705.59,1486.45 1705.59,1467.55 \n",
       "  \"/>\n",
       "<polyline clip-path=\"url(#clip900)\" style=\"stroke:#000000; stroke-linecap:butt; stroke-linejoin:round; stroke-width:4; stroke-opacity:1; fill:none\" points=\"\n",
       "  1968.29,1486.45 1968.29,1467.55 \n",
       "  \"/>\n",
       "<polyline clip-path=\"url(#clip900)\" style=\"stroke:#000000; stroke-linecap:butt; stroke-linejoin:round; stroke-width:4; stroke-opacity:1; fill:none\" points=\"\n",
       "  2230.99,1486.45 2230.99,1467.55 \n",
       "  \"/>\n",
       "<path clip-path=\"url(#clip900)\" d=\"M362.016 1532.02 L391.692 1532.02 L391.692 1535.95 L362.016 1535.95 L362.016 1532.02 Z\" fill=\"#000000\" fill-rule=\"evenodd\" fill-opacity=\"1\" /><path clip-path=\"url(#clip900)\" d=\"M405.812 1544.91 L422.131 1544.91 L422.131 1548.85 L400.187 1548.85 L400.187 1544.91 Q402.849 1542.16 407.432 1537.53 Q412.039 1532.88 413.219 1531.53 Q415.465 1529.01 416.344 1527.27 Q417.247 1525.51 417.247 1523.82 Q417.247 1521.07 415.303 1519.33 Q413.381 1517.6 410.28 1517.6 Q408.08 1517.6 405.627 1518.36 Q403.196 1519.13 400.418 1520.68 L400.418 1515.95 Q403.243 1514.82 405.696 1514.24 Q408.15 1513.66 410.187 1513.66 Q415.557 1513.66 418.752 1516.35 Q421.946 1519.03 421.946 1523.52 Q421.946 1525.65 421.136 1527.57 Q420.349 1529.47 418.242 1532.07 Q417.664 1532.74 414.562 1535.95 Q411.46 1539.15 405.812 1544.91 Z\" fill=\"#000000\" fill-rule=\"evenodd\" fill-opacity=\"1\" /><path clip-path=\"url(#clip900)\" d=\"M654.776 1517.37 Q651.165 1517.37 649.337 1520.93 Q647.531 1524.47 647.531 1531.6 Q647.531 1538.71 649.337 1542.27 Q651.165 1545.82 654.776 1545.82 Q658.411 1545.82 660.216 1542.27 Q662.045 1538.71 662.045 1531.6 Q662.045 1524.47 660.216 1520.93 Q658.411 1517.37 654.776 1517.37 M654.776 1513.66 Q660.587 1513.66 663.642 1518.27 Q666.721 1522.85 666.721 1531.6 Q666.721 1540.33 663.642 1544.94 Q660.587 1549.52 654.776 1549.52 Q648.966 1549.52 645.888 1544.94 Q642.832 1540.33 642.832 1531.6 Q642.832 1522.85 645.888 1518.27 Q648.966 1513.66 654.776 1513.66 Z\" fill=\"#000000\" fill-rule=\"evenodd\" fill-opacity=\"1\" /><path clip-path=\"url(#clip900)\" d=\"M912.132 1544.91 L928.451 1544.91 L928.451 1548.85 L906.507 1548.85 L906.507 1544.91 Q909.169 1542.16 913.752 1537.53 Q918.359 1532.88 919.539 1531.53 Q921.785 1529.01 922.664 1527.27 Q923.567 1525.51 923.567 1523.82 Q923.567 1521.07 921.623 1519.33 Q919.701 1517.6 916.6 1517.6 Q914.4 1517.6 911.947 1518.36 Q909.516 1519.13 906.738 1520.68 L906.738 1515.95 Q909.563 1514.82 912.016 1514.24 Q914.47 1513.66 916.507 1513.66 Q921.877 1513.66 925.072 1516.35 Q928.266 1519.03 928.266 1523.52 Q928.266 1525.65 927.456 1527.57 Q926.669 1529.47 924.562 1532.07 Q923.984 1532.74 920.882 1535.95 Q917.78 1539.15 912.132 1544.91 Z\" fill=\"#000000\" fill-rule=\"evenodd\" fill-opacity=\"1\" /><path clip-path=\"url(#clip900)\" d=\"M1183.19 1518.36 L1171.39 1536.81 L1183.19 1536.81 L1183.19 1518.36 M1181.96 1514.29 L1187.84 1514.29 L1187.84 1536.81 L1192.77 1536.81 L1192.77 1540.7 L1187.84 1540.7 L1187.84 1548.85 L1183.19 1548.85 L1183.19 1540.7 L1167.59 1540.7 L1167.59 1536.19 L1181.96 1514.29 Z\" fill=\"#000000\" fill-rule=\"evenodd\" fill-opacity=\"1\" /><path clip-path=\"url(#clip900)\" d=\"M1443.29 1529.7 Q1440.14 1529.7 1438.29 1531.86 Q1436.46 1534.01 1436.46 1537.76 Q1436.46 1541.49 1438.29 1543.66 Q1440.14 1545.82 1443.29 1545.82 Q1446.44 1545.82 1448.27 1543.66 Q1450.12 1541.49 1450.12 1537.76 Q1450.12 1534.01 1448.27 1531.86 Q1446.44 1529.7 1443.29 1529.7 M1452.57 1515.05 L1452.57 1519.31 Q1450.81 1518.48 1449.01 1518.04 Q1447.23 1517.6 1445.47 1517.6 Q1440.84 1517.6 1438.38 1520.72 Q1435.95 1523.85 1435.6 1530.17 Q1436.97 1528.15 1439.03 1527.09 Q1441.09 1526 1443.57 1526 Q1448.78 1526 1451.79 1529.17 Q1454.82 1532.32 1454.82 1537.76 Q1454.82 1543.08 1451.67 1546.3 Q1448.52 1549.52 1443.29 1549.52 Q1437.29 1549.52 1434.12 1544.94 Q1430.95 1540.33 1430.95 1531.6 Q1430.95 1523.41 1434.84 1518.55 Q1438.73 1513.66 1445.28 1513.66 Q1447.04 1513.66 1448.82 1514.01 Q1450.63 1514.36 1452.57 1515.05 Z\" fill=\"#000000\" fill-rule=\"evenodd\" fill-opacity=\"1\" /><path clip-path=\"url(#clip900)\" d=\"M1705.59 1532.44 Q1702.25 1532.44 1700.33 1534.22 Q1698.43 1536 1698.43 1539.13 Q1698.43 1542.25 1700.33 1544.03 Q1702.25 1545.82 1705.59 1545.82 Q1708.92 1545.82 1710.84 1544.03 Q1712.76 1542.23 1712.76 1539.13 Q1712.76 1536 1710.84 1534.22 Q1708.94 1532.44 1705.59 1532.44 M1700.91 1530.45 Q1697.9 1529.7 1696.21 1527.64 Q1694.55 1525.58 1694.55 1522.62 Q1694.55 1518.48 1697.49 1516.07 Q1700.45 1513.66 1705.59 1513.66 Q1710.75 1513.66 1713.69 1516.07 Q1716.63 1518.48 1716.63 1522.62 Q1716.63 1525.58 1714.94 1527.64 Q1713.27 1529.7 1710.29 1530.45 Q1713.67 1531.23 1715.54 1533.52 Q1717.44 1535.82 1717.44 1539.13 Q1717.44 1544.15 1714.36 1546.83 Q1711.31 1549.52 1705.59 1549.52 Q1699.87 1549.52 1696.79 1546.83 Q1693.74 1544.15 1693.74 1539.13 Q1693.74 1535.82 1695.63 1533.52 Q1697.53 1531.23 1700.91 1530.45 M1699.2 1523.06 Q1699.2 1525.75 1700.87 1527.25 Q1702.56 1528.76 1705.59 1528.76 Q1708.6 1528.76 1710.29 1527.25 Q1712 1525.75 1712 1523.06 Q1712 1520.38 1710.29 1518.87 Q1708.6 1517.37 1705.59 1517.37 Q1702.56 1517.37 1700.87 1518.87 Q1699.2 1520.38 1699.2 1523.06 Z\" fill=\"#000000\" fill-rule=\"evenodd\" fill-opacity=\"1\" /><path clip-path=\"url(#clip900)\" d=\"M1942.98 1544.91 L1950.62 1544.91 L1950.62 1518.55 L1942.31 1520.21 L1942.31 1515.95 L1950.57 1514.29 L1955.25 1514.29 L1955.25 1544.91 L1962.89 1544.91 L1962.89 1548.85 L1942.98 1548.85 L1942.98 1544.91 Z\" fill=\"#000000\" fill-rule=\"evenodd\" fill-opacity=\"1\" /><path clip-path=\"url(#clip900)\" d=\"M1982.33 1517.37 Q1978.72 1517.37 1976.89 1520.93 Q1975.08 1524.47 1975.08 1531.6 Q1975.08 1538.71 1976.89 1542.27 Q1978.72 1545.82 1982.33 1545.82 Q1985.96 1545.82 1987.77 1542.27 Q1989.6 1538.71 1989.6 1531.6 Q1989.6 1524.47 1987.77 1520.93 Q1985.96 1517.37 1982.33 1517.37 M1982.33 1513.66 Q1988.14 1513.66 1991.2 1518.27 Q1994.27 1522.85 1994.27 1531.6 Q1994.27 1540.33 1991.2 1544.94 Q1988.14 1549.52 1982.33 1549.52 Q1976.52 1549.52 1973.44 1544.94 Q1970.39 1540.33 1970.39 1531.6 Q1970.39 1522.85 1973.44 1518.27 Q1976.52 1513.66 1982.33 1513.66 Z\" fill=\"#000000\" fill-rule=\"evenodd\" fill-opacity=\"1\" /><path clip-path=\"url(#clip900)\" d=\"M2206.48 1544.91 L2214.12 1544.91 L2214.12 1518.55 L2205.81 1520.21 L2205.81 1515.95 L2214.07 1514.29 L2218.75 1514.29 L2218.75 1544.91 L2226.39 1544.91 L2226.39 1548.85 L2206.48 1548.85 L2206.48 1544.91 Z\" fill=\"#000000\" fill-rule=\"evenodd\" fill-opacity=\"1\" /><path clip-path=\"url(#clip900)\" d=\"M2239.86 1544.91 L2256.18 1544.91 L2256.18 1548.85 L2234.23 1548.85 L2234.23 1544.91 Q2236.9 1542.16 2241.48 1537.53 Q2246.09 1532.88 2247.27 1531.53 Q2249.51 1529.01 2250.39 1527.27 Q2251.29 1525.51 2251.29 1523.82 Q2251.29 1521.07 2249.35 1519.33 Q2247.43 1517.6 2244.33 1517.6 Q2242.13 1517.6 2239.67 1518.36 Q2237.24 1519.13 2234.47 1520.68 L2234.47 1515.95 Q2237.29 1514.82 2239.74 1514.24 Q2242.2 1513.66 2244.23 1513.66 Q2249.6 1513.66 2252.8 1516.35 Q2255.99 1519.03 2255.99 1523.52 Q2255.99 1525.65 2255.18 1527.57 Q2254.4 1529.47 2252.29 1532.07 Q2251.71 1532.74 2248.61 1535.95 Q2245.51 1539.15 2239.86 1544.91 Z\" fill=\"#000000\" fill-rule=\"evenodd\" fill-opacity=\"1\" /><polyline clip-path=\"url(#clip902)\" style=\"stroke:#000000; stroke-linecap:butt; stroke-linejoin:round; stroke-width:2; stroke-opacity:0.1; fill:none\" points=\"\n",
       "  138.959,1445.72 2352.76,1445.72 \n",
       "  \"/>\n",
       "<polyline clip-path=\"url(#clip902)\" style=\"stroke:#000000; stroke-linecap:butt; stroke-linejoin:round; stroke-width:2; stroke-opacity:0.1; fill:none\" points=\"\n",
       "  138.959,1088.42 2352.76,1088.42 \n",
       "  \"/>\n",
       "<polyline clip-path=\"url(#clip902)\" style=\"stroke:#000000; stroke-linecap:butt; stroke-linejoin:round; stroke-width:2; stroke-opacity:0.1; fill:none\" points=\"\n",
       "  138.959,731.116 2352.76,731.116 \n",
       "  \"/>\n",
       "<polyline clip-path=\"url(#clip902)\" style=\"stroke:#000000; stroke-linecap:butt; stroke-linejoin:round; stroke-width:2; stroke-opacity:0.1; fill:none\" points=\"\n",
       "  138.959,373.816 2352.76,373.816 \n",
       "  \"/>\n",
       "<polyline clip-path=\"url(#clip900)\" style=\"stroke:#000000; stroke-linecap:butt; stroke-linejoin:round; stroke-width:4; stroke-opacity:1; fill:none\" points=\"\n",
       "  138.959,1486.45 138.959,47.2441 \n",
       "  \"/>\n",
       "<polyline clip-path=\"url(#clip900)\" style=\"stroke:#000000; stroke-linecap:butt; stroke-linejoin:round; stroke-width:4; stroke-opacity:1; fill:none\" points=\"\n",
       "  138.959,1445.72 157.857,1445.72 \n",
       "  \"/>\n",
       "<polyline clip-path=\"url(#clip900)\" style=\"stroke:#000000; stroke-linecap:butt; stroke-linejoin:round; stroke-width:4; stroke-opacity:1; fill:none\" points=\"\n",
       "  138.959,1088.42 157.857,1088.42 \n",
       "  \"/>\n",
       "<polyline clip-path=\"url(#clip900)\" style=\"stroke:#000000; stroke-linecap:butt; stroke-linejoin:round; stroke-width:4; stroke-opacity:1; fill:none\" points=\"\n",
       "  138.959,731.116 157.857,731.116 \n",
       "  \"/>\n",
       "<polyline clip-path=\"url(#clip900)\" style=\"stroke:#000000; stroke-linecap:butt; stroke-linejoin:round; stroke-width:4; stroke-opacity:1; fill:none\" points=\"\n",
       "  138.959,373.816 157.857,373.816 \n",
       "  \"/>\n",
       "<path clip-path=\"url(#clip900)\" d=\"M91.0151 1431.51 Q87.404 1431.51 85.5753 1435.08 Q83.7697 1438.62 83.7697 1445.75 Q83.7697 1452.86 85.5753 1456.42 Q87.404 1459.96 91.0151 1459.96 Q94.6493 1459.96 96.4548 1456.42 Q98.2835 1452.86 98.2835 1445.75 Q98.2835 1438.62 96.4548 1435.08 Q94.6493 1431.51 91.0151 1431.51 M91.0151 1427.81 Q96.8252 1427.81 99.8808 1432.42 Q102.959 1437 102.959 1445.75 Q102.959 1454.48 99.8808 1459.08 Q96.8252 1463.67 91.0151 1463.67 Q85.2049 1463.67 82.1262 1459.08 Q79.0707 1454.48 79.0707 1445.75 Q79.0707 1437 82.1262 1432.42 Q85.2049 1427.81 91.0151 1427.81 Z\" fill=\"#000000\" fill-rule=\"evenodd\" fill-opacity=\"1\" /><path clip-path=\"url(#clip900)\" d=\"M82.0568 1071.14 L100.413 1071.14 L100.413 1075.07 L86.3392 1075.07 L86.3392 1083.54 Q87.3577 1083.2 88.3762 1083.03 Q89.3947 1082.85 90.4132 1082.85 Q96.2002 1082.85 99.5798 1086.02 Q102.959 1089.19 102.959 1094.61 Q102.959 1100.19 99.4872 1103.29 Q96.015 1106.37 89.6956 1106.37 Q87.5197 1106.37 85.2512 1106 Q83.0058 1105.63 80.5984 1104.89 L80.5984 1100.19 Q82.6818 1101.32 84.904 1101.88 Q87.1262 1102.43 89.603 1102.43 Q93.6076 1102.43 95.9456 1100.33 Q98.2835 1098.22 98.2835 1094.61 Q98.2835 1091 95.9456 1088.89 Q93.6076 1086.78 89.603 1086.78 Q87.728 1086.78 85.8531 1087.2 Q84.0012 1087.62 82.0568 1088.5 L82.0568 1071.14 Z\" fill=\"#000000\" fill-rule=\"evenodd\" fill-opacity=\"1\" /><path clip-path=\"url(#clip900)\" d=\"M51.6634 744.461 L59.3023 744.461 L59.3023 718.095 L50.9921 719.762 L50.9921 715.503 L59.256 713.836 L63.9319 713.836 L63.9319 744.461 L71.5707 744.461 L71.5707 748.396 L51.6634 748.396 L51.6634 744.461 Z\" fill=\"#000000\" fill-rule=\"evenodd\" fill-opacity=\"1\" /><path clip-path=\"url(#clip900)\" d=\"M91.0151 716.915 Q87.404 716.915 85.5753 720.479 Q83.7697 724.021 83.7697 731.151 Q83.7697 738.257 85.5753 741.822 Q87.404 745.364 91.0151 745.364 Q94.6493 745.364 96.4548 741.822 Q98.2835 738.257 98.2835 731.151 Q98.2835 724.021 96.4548 720.479 Q94.6493 716.915 91.0151 716.915 M91.0151 713.211 Q96.8252 713.211 99.8808 717.817 Q102.959 722.401 102.959 731.151 Q102.959 739.878 99.8808 744.484 Q96.8252 749.067 91.0151 749.067 Q85.2049 749.067 82.1262 744.484 Q79.0707 739.878 79.0707 731.151 Q79.0707 722.401 82.1262 717.817 Q85.2049 713.211 91.0151 713.211 Z\" fill=\"#000000\" fill-rule=\"evenodd\" fill-opacity=\"1\" /><path clip-path=\"url(#clip900)\" d=\"M52.6588 387.161 L60.2976 387.161 L60.2976 360.795 L51.9875 362.462 L51.9875 358.203 L60.2513 356.536 L64.9272 356.536 L64.9272 387.161 L72.5661 387.161 L72.5661 391.096 L52.6588 391.096 L52.6588 387.161 Z\" fill=\"#000000\" fill-rule=\"evenodd\" fill-opacity=\"1\" /><path clip-path=\"url(#clip900)\" d=\"M82.0568 356.536 L100.413 356.536 L100.413 360.471 L86.3392 360.471 L86.3392 368.943 Q87.3577 368.596 88.3762 368.434 Q89.3947 368.249 90.4132 368.249 Q96.2002 368.249 99.5798 371.42 Q102.959 374.592 102.959 380.008 Q102.959 385.587 99.4872 388.689 Q96.015 391.767 89.6956 391.767 Q87.5197 391.767 85.2512 391.397 Q83.0058 391.027 80.5984 390.286 L80.5984 385.587 Q82.6818 386.721 84.904 387.277 Q87.1262 387.832 89.603 387.832 Q93.6076 387.832 95.9456 385.726 Q98.2835 383.619 98.2835 380.008 Q98.2835 376.397 95.9456 374.291 Q93.6076 372.184 89.603 372.184 Q87.728 372.184 85.8531 372.601 Q84.0012 373.018 82.0568 373.897 L82.0568 356.536 Z\" fill=\"#000000\" fill-rule=\"evenodd\" fill-opacity=\"1\" /><path clip-path=\"url(#clip902)\" d=\"\n",
       "M260.722 1302.8 L260.722 1445.72 L392.074 1445.72 L392.074 1302.8 L260.722 1302.8 L260.722 1302.8  Z\n",
       "  \" fill=\"#009af9\" fill-rule=\"evenodd\" fill-opacity=\"0.5\"/>\n",
       "<polyline clip-path=\"url(#clip902)\" style=\"stroke:#000000; stroke-linecap:butt; stroke-linejoin:round; stroke-width:4; stroke-opacity:0.5; fill:none\" points=\"\n",
       "  260.722,1302.8 260.722,1445.72 392.074,1445.72 392.074,1302.8 260.722,1302.8 \n",
       "  \"/>\n",
       "<path clip-path=\"url(#clip902)\" d=\"\n",
       "M392.074 1374.26 L392.074 1445.72 L523.425 1445.72 L523.425 1374.26 L392.074 1374.26 L392.074 1374.26  Z\n",
       "  \" fill=\"#009af9\" fill-rule=\"evenodd\" fill-opacity=\"0.5\"/>\n",
       "<polyline clip-path=\"url(#clip902)\" style=\"stroke:#000000; stroke-linecap:butt; stroke-linejoin:round; stroke-width:4; stroke-opacity:0.5; fill:none\" points=\"\n",
       "  392.074,1374.26 392.074,1445.72 523.425,1445.72 523.425,1374.26 392.074,1374.26 \n",
       "  \"/>\n",
       "<path clip-path=\"url(#clip902)\" d=\"\n",
       "M523.425 1445.72 L523.425 1445.72 L654.776 1445.72 L654.776 1445.72 L523.425 1445.72 L523.425 1445.72  Z\n",
       "  \" fill=\"#009af9\" fill-rule=\"evenodd\" fill-opacity=\"0.5\"/>\n",
       "<polyline clip-path=\"url(#clip902)\" style=\"stroke:#000000; stroke-linecap:butt; stroke-linejoin:round; stroke-width:4; stroke-opacity:0.5; fill:none\" points=\"\n",
       "  523.425,1445.72 523.425,1445.72 654.776,1445.72 523.425,1445.72 \n",
       "  \"/>\n",
       "<path clip-path=\"url(#clip902)\" d=\"\n",
       "M654.776 1445.72 L654.776 1445.72 L786.128 1445.72 L786.128 1445.72 L654.776 1445.72 L654.776 1445.72  Z\n",
       "  \" fill=\"#009af9\" fill-rule=\"evenodd\" fill-opacity=\"0.5\"/>\n",
       "<polyline clip-path=\"url(#clip902)\" style=\"stroke:#000000; stroke-linecap:butt; stroke-linejoin:round; stroke-width:4; stroke-opacity:0.5; fill:none\" points=\"\n",
       "  654.776,1445.72 654.776,1445.72 786.128,1445.72 654.776,1445.72 \n",
       "  \"/>\n",
       "<path clip-path=\"url(#clip902)\" d=\"\n",
       "M786.128 1231.34 L786.128 1445.72 L917.479 1445.72 L917.479 1231.34 L786.128 1231.34 L786.128 1231.34  Z\n",
       "  \" fill=\"#009af9\" fill-rule=\"evenodd\" fill-opacity=\"0.5\"/>\n",
       "<polyline clip-path=\"url(#clip902)\" style=\"stroke:#000000; stroke-linecap:butt; stroke-linejoin:round; stroke-width:4; stroke-opacity:0.5; fill:none\" points=\"\n",
       "  786.128,1231.34 786.128,1445.72 917.479,1445.72 917.479,1231.34 786.128,1231.34 \n",
       "  \"/>\n",
       "<path clip-path=\"url(#clip902)\" d=\"\n",
       "M917.479 1088.42 L917.479 1445.72 L1048.83 1445.72 L1048.83 1088.42 L917.479 1088.42 L917.479 1088.42  Z\n",
       "  \" fill=\"#009af9\" fill-rule=\"evenodd\" fill-opacity=\"0.5\"/>\n",
       "<polyline clip-path=\"url(#clip902)\" style=\"stroke:#000000; stroke-linecap:butt; stroke-linejoin:round; stroke-width:4; stroke-opacity:0.5; fill:none\" points=\"\n",
       "  917.479,1088.42 917.479,1445.72 1048.83,1445.72 1048.83,1088.42 917.479,1088.42 \n",
       "  \"/>\n",
       "<path clip-path=\"url(#clip902)\" d=\"\n",
       "M1048.83 874.036 L1048.83 1445.72 L1180.18 1445.72 L1180.18 874.036 L1048.83 874.036 L1048.83 874.036  Z\n",
       "  \" fill=\"#009af9\" fill-rule=\"evenodd\" fill-opacity=\"0.5\"/>\n",
       "<polyline clip-path=\"url(#clip902)\" style=\"stroke:#000000; stroke-linecap:butt; stroke-linejoin:round; stroke-width:4; stroke-opacity:0.5; fill:none\" points=\"\n",
       "  1048.83,874.036 1048.83,1445.72 1180.18,1445.72 1180.18,874.036 1048.83,874.036 \n",
       "  \"/>\n",
       "<path clip-path=\"url(#clip902)\" d=\"\n",
       "M1180.18 87.9763 L1180.18 1445.72 L1311.53 1445.72 L1311.53 87.9763 L1180.18 87.9763 L1180.18 87.9763  Z\n",
       "  \" fill=\"#009af9\" fill-rule=\"evenodd\" fill-opacity=\"0.5\"/>\n",
       "<polyline clip-path=\"url(#clip902)\" style=\"stroke:#000000; stroke-linecap:butt; stroke-linejoin:round; stroke-width:4; stroke-opacity:0.5; fill:none\" points=\"\n",
       "  1180.18,87.9763 1180.18,1445.72 1311.53,1445.72 1311.53,87.9763 1180.18,87.9763 \n",
       "  \"/>\n",
       "<path clip-path=\"url(#clip902)\" d=\"\n",
       "M1311.53 516.736 L1311.53 1445.72 L1442.88 1445.72 L1442.88 516.736 L1311.53 516.736 L1311.53 516.736  Z\n",
       "  \" fill=\"#009af9\" fill-rule=\"evenodd\" fill-opacity=\"0.5\"/>\n",
       "<polyline clip-path=\"url(#clip902)\" style=\"stroke:#000000; stroke-linecap:butt; stroke-linejoin:round; stroke-width:4; stroke-opacity:0.5; fill:none\" points=\"\n",
       "  1311.53,516.736 1311.53,1445.72 1442.88,1445.72 1442.88,516.736 1311.53,516.736 \n",
       "  \"/>\n",
       "<path clip-path=\"url(#clip902)\" d=\"\n",
       "M1442.88 516.736 L1442.88 1445.72 L1574.24 1445.72 L1574.24 516.736 L1442.88 516.736 L1442.88 516.736  Z\n",
       "  \" fill=\"#009af9\" fill-rule=\"evenodd\" fill-opacity=\"0.5\"/>\n",
       "<polyline clip-path=\"url(#clip902)\" style=\"stroke:#000000; stroke-linecap:butt; stroke-linejoin:round; stroke-width:4; stroke-opacity:0.5; fill:none\" points=\"\n",
       "  1442.88,516.736 1442.88,1445.72 1574.24,1445.72 1574.24,516.736 1442.88,516.736 \n",
       "  \"/>\n",
       "<path clip-path=\"url(#clip902)\" d=\"\n",
       "M1574.24 1302.8 L1574.24 1445.72 L1705.59 1445.72 L1705.59 1302.8 L1574.24 1302.8 L1574.24 1302.8  Z\n",
       "  \" fill=\"#009af9\" fill-rule=\"evenodd\" fill-opacity=\"0.5\"/>\n",
       "<polyline clip-path=\"url(#clip902)\" style=\"stroke:#000000; stroke-linecap:butt; stroke-linejoin:round; stroke-width:4; stroke-opacity:0.5; fill:none\" points=\"\n",
       "  1574.24,1302.8 1574.24,1445.72 1705.59,1445.72 1705.59,1302.8 1574.24,1302.8 \n",
       "  \"/>\n",
       "<path clip-path=\"url(#clip902)\" d=\"\n",
       "M1705.59 1302.8 L1705.59 1445.72 L1836.94 1445.72 L1836.94 1302.8 L1705.59 1302.8 L1705.59 1302.8  Z\n",
       "  \" fill=\"#009af9\" fill-rule=\"evenodd\" fill-opacity=\"0.5\"/>\n",
       "<polyline clip-path=\"url(#clip902)\" style=\"stroke:#000000; stroke-linecap:butt; stroke-linejoin:round; stroke-width:4; stroke-opacity:0.5; fill:none\" points=\"\n",
       "  1705.59,1302.8 1705.59,1445.72 1836.94,1445.72 1836.94,1302.8 1705.59,1302.8 \n",
       "  \"/>\n",
       "<path clip-path=\"url(#clip902)\" d=\"\n",
       "M1836.94 1302.8 L1836.94 1445.72 L1968.29 1445.72 L1968.29 1302.8 L1836.94 1302.8 L1836.94 1302.8  Z\n",
       "  \" fill=\"#009af9\" fill-rule=\"evenodd\" fill-opacity=\"0.5\"/>\n",
       "<polyline clip-path=\"url(#clip902)\" style=\"stroke:#000000; stroke-linecap:butt; stroke-linejoin:round; stroke-width:4; stroke-opacity:0.5; fill:none\" points=\"\n",
       "  1836.94,1302.8 1836.94,1445.72 1968.29,1445.72 1968.29,1302.8 1836.94,1302.8 \n",
       "  \"/>\n",
       "<path clip-path=\"url(#clip902)\" d=\"\n",
       "M1968.29 1445.72 L1968.29 1445.72 L2099.64 1445.72 L2099.64 1445.72 L1968.29 1445.72 L1968.29 1445.72  Z\n",
       "  \" fill=\"#009af9\" fill-rule=\"evenodd\" fill-opacity=\"0.5\"/>\n",
       "<polyline clip-path=\"url(#clip902)\" style=\"stroke:#000000; stroke-linecap:butt; stroke-linejoin:round; stroke-width:4; stroke-opacity:0.5; fill:none\" points=\"\n",
       "  1968.29,1445.72 1968.29,1445.72 2099.64,1445.72 1968.29,1445.72 \n",
       "  \"/>\n",
       "<path clip-path=\"url(#clip902)\" d=\"\n",
       "M2099.64 1374.26 L2099.64 1445.72 L2230.99 1445.72 L2230.99 1374.26 L2099.64 1374.26 L2099.64 1374.26  Z\n",
       "  \" fill=\"#009af9\" fill-rule=\"evenodd\" fill-opacity=\"0.5\"/>\n",
       "<polyline clip-path=\"url(#clip902)\" style=\"stroke:#000000; stroke-linecap:butt; stroke-linejoin:round; stroke-width:4; stroke-opacity:0.5; fill:none\" points=\"\n",
       "  2099.64,1374.26 2099.64,1445.72 2230.99,1445.72 2230.99,1374.26 2099.64,1374.26 \n",
       "  \"/>\n",
       "<circle clip-path=\"url(#clip902)\" style=\"fill:#009af9; stroke:none; fill-opacity:0\" cx=\"326.398\" cy=\"1302.8\" r=\"2\"/>\n",
       "<circle clip-path=\"url(#clip902)\" style=\"fill:#009af9; stroke:none; fill-opacity:0\" cx=\"457.749\" cy=\"1374.26\" r=\"2\"/>\n",
       "<circle clip-path=\"url(#clip902)\" style=\"fill:#009af9; stroke:none; fill-opacity:0\" cx=\"589.101\" cy=\"1445.72\" r=\"2\"/>\n",
       "<circle clip-path=\"url(#clip902)\" style=\"fill:#009af9; stroke:none; fill-opacity:0\" cx=\"720.452\" cy=\"1445.72\" r=\"2\"/>\n",
       "<circle clip-path=\"url(#clip902)\" style=\"fill:#009af9; stroke:none; fill-opacity:0\" cx=\"851.803\" cy=\"1231.34\" r=\"2\"/>\n",
       "<circle clip-path=\"url(#clip902)\" style=\"fill:#009af9; stroke:none; fill-opacity:0\" cx=\"983.155\" cy=\"1088.42\" r=\"2\"/>\n",
       "<circle clip-path=\"url(#clip902)\" style=\"fill:#009af9; stroke:none; fill-opacity:0\" cx=\"1114.51\" cy=\"874.036\" r=\"2\"/>\n",
       "<circle clip-path=\"url(#clip902)\" style=\"fill:#009af9; stroke:none; fill-opacity:0\" cx=\"1245.86\" cy=\"87.9763\" r=\"2\"/>\n",
       "<circle clip-path=\"url(#clip902)\" style=\"fill:#009af9; stroke:none; fill-opacity:0\" cx=\"1377.21\" cy=\"516.736\" r=\"2\"/>\n",
       "<circle clip-path=\"url(#clip902)\" style=\"fill:#009af9; stroke:none; fill-opacity:0\" cx=\"1508.56\" cy=\"516.736\" r=\"2\"/>\n",
       "<circle clip-path=\"url(#clip902)\" style=\"fill:#009af9; stroke:none; fill-opacity:0\" cx=\"1639.91\" cy=\"1302.8\" r=\"2\"/>\n",
       "<circle clip-path=\"url(#clip902)\" style=\"fill:#009af9; stroke:none; fill-opacity:0\" cx=\"1771.26\" cy=\"1302.8\" r=\"2\"/>\n",
       "<circle clip-path=\"url(#clip902)\" style=\"fill:#009af9; stroke:none; fill-opacity:0\" cx=\"1902.61\" cy=\"1302.8\" r=\"2\"/>\n",
       "<circle clip-path=\"url(#clip902)\" style=\"fill:#009af9; stroke:none; fill-opacity:0\" cx=\"2033.97\" cy=\"1445.72\" r=\"2\"/>\n",
       "<circle clip-path=\"url(#clip902)\" style=\"fill:#009af9; stroke:none; fill-opacity:0\" cx=\"2165.32\" cy=\"1374.26\" r=\"2\"/>\n",
       "<polyline clip-path=\"url(#clip902)\" style=\"stroke:#000000; stroke-linecap:butt; stroke-linejoin:round; stroke-width:12; stroke-opacity:1; fill:none\" stroke-dasharray=\"48, 30\" points=\"\n",
       "  1289.22,2925.65 1289.22,-1391.96 \n",
       "  \"/>\n",
       "</svg>\n"
      ]
     },
     "execution_count": 41,
     "metadata": {},
     "output_type": "execute_result"
    }
   ],
   "source": [
    "histogram(inflation, legend = false, alpha = 0.5, bins = 20)\n",
    "plot!([mean(inflation)],  seriestype = :vline, lw = 3, colour = :black, ls = :dash) # plots the mean value"
   ]
  },
  {
   "cell_type": "markdown",
   "metadata": {
    "slideshow": {
     "slide_type": "slide"
    }
   },
   "source": [
    "## Growth rates\n",
    "\n",
    "Computing growth rates is quite important in macroeconomics. \n",
    "\n",
    "This is something that you will frequently encounter. \n",
    "\n",
    "The growth rate between subsequent two dates can be calculated as follows, \n",
    "\n",
    "$$\n",
    "\\left(\\frac{Y_{t} - Y_{t-1}}{Y_{t-1}}\\right) \\times 100 = \\left(\\frac{Y_{t}}{Y_{t-1}} - 1\\right) \\times 100 \n",
    "$$\n"
   ]
  },
  {
   "cell_type": "markdown",
   "metadata": {
    "slideshow": {
     "slide_type": "slide"
    }
   },
   "source": [
    "## Growth rates\n",
    "\n",
    "The growth rate from one quarter to the same quarter next year is, \n",
    "\n",
    "$$\n",
    "\\left(\\frac{Y_{t}}{Y_{t-4}} - 1\\right) \\times 100 \n",
    "$$\n",
    "\n",
    "For monthly or quarterly growth rates at an annual rate, \n",
    "\n",
    "$$\n",
    "\\left(\\left[\\frac{Y_{t}}{Y_{t-1}}\\right]^{n} - 1\\right) \\times 100 \n",
    "$$\n",
    "\n",
    "where $n = 4$ represents quarterly growth and $n = 12$ gives monthly growth. "
   ]
  },
  {
   "cell_type": "markdown",
   "metadata": {
    "slideshow": {
     "slide_type": "slide"
    }
   },
   "source": [
    "## Growth rates\n",
    "\n",
    "Let us try calculating some growth rates with the data at hand.\n",
    "\n",
    "We will focus on GDP growth rates for this example, "
   ]
  },
  {
   "cell_type": "code",
   "execution_count": 53,
   "metadata": {
    "slideshow": {
     "slide_type": "fragment"
    }
   },
   "outputs": [
    {
     "data": {
      "text/plain": [
       "4.414220084246427"
      ]
     },
     "execution_count": 53,
     "metadata": {},
     "output_type": "execute_result"
    }
   ],
   "source": [
    "gdp_first = sa_data[1, :gdp]; # first value of the GDP series\n",
    "gdp_second = sa_data[2, :gdp]; # second value of the GDP series\n",
    "\n",
    "gdp_growth_1 = ((gdp_second - gdp_first)/gdp_first) * 100 # using the formula for growth between two periods. "
   ]
  },
  {
   "cell_type": "markdown",
   "metadata": {
    "slideshow": {
     "slide_type": "slide"
    }
   },
   "source": [
    "## Growth rates\n",
    "\n",
    "There is an alternative way to calculate an approximation to the growth rate.\n",
    "\n",
    "We can simply take the natural logarithm of the two values and subtract them from each other. \n",
    "\n",
    "In other words we have that, \n",
    "\n",
    "$$\n",
    "\\left(\\frac{Y_{t}}{Y_{t-1}} - 1\\right) \\times 100 \\approx \\log(Y_{t}) - \\log(Y_{t-1}) \\times 100\n",
    "$$"
   ]
  },
  {
   "cell_type": "code",
   "execution_count": null,
   "metadata": {
    "slideshow": {
     "slide_type": "slide"
    }
   },
   "outputs": [],
   "source": []
  }
 ],
 "metadata": {
  "celltoolbar": "Slideshow",
  "kernelspec": {
   "display_name": "Julia 1.7.2",
   "language": "julia",
   "name": "julia-1.7"
  },
  "language_info": {
   "file_extension": ".jl",
   "mimetype": "application/julia",
   "name": "julia",
   "version": "1.7.2"
  }
 },
 "nbformat": 4,
 "nbformat_minor": 4
}
