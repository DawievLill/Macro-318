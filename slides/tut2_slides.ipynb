{
 "cells": [
  {
   "cell_type": "markdown",
   "metadata": {
    "slideshow": {
     "slide_type": "slide"
    }
   },
   "source": [
    "# <span style=\"color:#2c061f\"> Macro 318: Lecture 4 - 6 / Tutorial 2 </span>  \n",
    "\n",
    "<br>\n",
    "\n",
    "## <span style=\"color:#374045\"> Data, Stats and Math with Julia </span>\n",
    "\n",
    "\n",
    "#### <span style=\"color:#374045\"> Lecturer: </span> <span style=\"color:#d89216\"> <br> Dawie van Lill (dvanlill@sun.ac.za) </span>"
   ]
  },
  {
   "cell_type": "markdown",
   "metadata": {
    "slideshow": {
     "slide_type": "slide"
    }
   },
   "source": [
    "# Introduction\n",
    "\n",
    "For this lecture you can focus on the mathematics and data manipulations. \n",
    "\n",
    "The code is there to help you better understand the math and statistics. \n",
    "\n",
    "You do not need to understand all of the code!\n",
    "\n",
    "I will indicate which code components are important. "
   ]
  },
  {
   "cell_type": "code",
   "execution_count": 1,
   "metadata": {
    "slideshow": {
     "slide_type": "skip"
    }
   },
   "outputs": [
    {
     "name": "stderr",
     "output_type": "stream",
     "text": [
      "\u001b[32m\u001b[1m    Updating\u001b[22m\u001b[39m registry at `~/.julia/registries/General.toml`\n",
      "\u001b[32m\u001b[1m   Resolving\u001b[22m\u001b[39m package versions...\n",
      "┌ Warning: The active manifest file at `/home/dawie/Dropbox/2022/318-macro/git/Macro-318/Manifest.toml` has an old format that is being maintained.\n",
      "│ To update to the new format run `Pkg.upgrade_manifest()` which will upgrade the format without re-resolving.\n",
      "└ @ Pkg.Types /buildworker/worker/package_linux64/build/usr/share/julia/stdlib/v1.7/Pkg/src/manifest.jl:287\n",
      "\u001b[32m\u001b[1m  No Changes\u001b[22m\u001b[39m to `~/Dropbox/2022/318-macro/git/Macro-318/Project.toml`\n",
      "\u001b[32m\u001b[1m  No Changes\u001b[22m\u001b[39m to `~/Dropbox/2022/318-macro/git/Macro-318/Manifest.toml`\n",
      "┌ Warning: The active manifest file is an older format with no julia version entry. Dependencies may have been resolved with a different julia version.\n",
      "└ @ nothing /home/dawie/Dropbox/2022/318-macro/git/Macro-318/Manifest.toml:0\n",
      "\u001b[32m\u001b[1m   Resolving\u001b[22m\u001b[39m package versions...\n",
      "\u001b[32m\u001b[1m  No Changes\u001b[22m\u001b[39m to `~/Dropbox/2022/318-macro/git/Macro-318/Project.toml`\n",
      "\u001b[32m\u001b[1m  No Changes\u001b[22m\u001b[39m to `~/Dropbox/2022/318-macro/git/Macro-318/Manifest.toml`\n",
      "\u001b[32m\u001b[1m   Resolving\u001b[22m\u001b[39m package versions...\n",
      "\u001b[32m\u001b[1m  No Changes\u001b[22m\u001b[39m to `~/Dropbox/2022/318-macro/git/Macro-318/Project.toml`\n",
      "\u001b[32m\u001b[1m  No Changes\u001b[22m\u001b[39m to `~/Dropbox/2022/318-macro/git/Macro-318/Manifest.toml`\n",
      "\u001b[32m\u001b[1m   Resolving\u001b[22m\u001b[39m package versions...\n",
      "\u001b[32m\u001b[1m  No Changes\u001b[22m\u001b[39m to `~/Dropbox/2022/318-macro/git/Macro-318/Project.toml`\n",
      "\u001b[32m\u001b[1m  No Changes\u001b[22m\u001b[39m to `~/Dropbox/2022/318-macro/git/Macro-318/Manifest.toml`\n",
      "\u001b[32m\u001b[1m   Resolving\u001b[22m\u001b[39m package versions...\n",
      "\u001b[32m\u001b[1m  No Changes\u001b[22m\u001b[39m to `~/Dropbox/2022/318-macro/git/Macro-318/Project.toml`\n",
      "\u001b[32m\u001b[1m  No Changes\u001b[22m\u001b[39m to `~/Dropbox/2022/318-macro/git/Macro-318/Manifest.toml`\n",
      "\u001b[32m\u001b[1m   Resolving\u001b[22m\u001b[39m package versions...\n",
      "\u001b[32m\u001b[1m  No Changes\u001b[22m\u001b[39m to `~/Dropbox/2022/318-macro/git/Macro-318/Project.toml`\n",
      "\u001b[32m\u001b[1m  No Changes\u001b[22m\u001b[39m to `~/Dropbox/2022/318-macro/git/Macro-318/Manifest.toml`\n",
      "\u001b[32m\u001b[1m   Resolving\u001b[22m\u001b[39m package versions...\n",
      "\u001b[32m\u001b[1m  No Changes\u001b[22m\u001b[39m to `~/Dropbox/2022/318-macro/git/Macro-318/Project.toml`\n",
      "\u001b[32m\u001b[1m  No Changes\u001b[22m\u001b[39m to `~/Dropbox/2022/318-macro/git/Macro-318/Manifest.toml`\n",
      "\u001b[32m\u001b[1m   Resolving\u001b[22m\u001b[39m package versions...\n",
      "\u001b[32m\u001b[1m  No Changes\u001b[22m\u001b[39m to `~/Dropbox/2022/318-macro/git/Macro-318/Project.toml`\n",
      "\u001b[32m\u001b[1m  No Changes\u001b[22m\u001b[39m to `~/Dropbox/2022/318-macro/git/Macro-318/Manifest.toml`\n",
      "\u001b[32m\u001b[1m   Resolving\u001b[22m\u001b[39m package versions...\n",
      "\u001b[32m\u001b[1m  No Changes\u001b[22m\u001b[39m to `~/Dropbox/2022/318-macro/git/Macro-318/Project.toml`\n",
      "\u001b[32m\u001b[1m  No Changes\u001b[22m\u001b[39m to `~/Dropbox/2022/318-macro/git/Macro-318/Manifest.toml`\n",
      "\u001b[32m\u001b[1m   Resolving\u001b[22m\u001b[39m package versions...\n",
      "\u001b[32m\u001b[1m  No Changes\u001b[22m\u001b[39m to `~/Dropbox/2022/318-macro/git/Macro-318/Project.toml`\n",
      "\u001b[32m\u001b[1m  No Changes\u001b[22m\u001b[39m to `~/Dropbox/2022/318-macro/git/Macro-318/Manifest.toml`\n",
      "\u001b[32m\u001b[1m   Resolving\u001b[22m\u001b[39m package versions...\n",
      "\u001b[32m\u001b[1m  No Changes\u001b[22m\u001b[39m to `~/Dropbox/2022/318-macro/git/Macro-318/Project.toml`\n",
      "\u001b[32m\u001b[1m  No Changes\u001b[22m\u001b[39m to `~/Dropbox/2022/318-macro/git/Macro-318/Manifest.toml`\n",
      "\u001b[32m\u001b[1m   Resolving\u001b[22m\u001b[39m package versions...\n",
      "\u001b[32m\u001b[1m  No Changes\u001b[22m\u001b[39m to `~/Dropbox/2022/318-macro/git/Macro-318/Project.toml`\n",
      "\u001b[32m\u001b[1m  No Changes\u001b[22m\u001b[39m to `~/Dropbox/2022/318-macro/git/Macro-318/Manifest.toml`\n",
      "\u001b[32m\u001b[1m   Resolving\u001b[22m\u001b[39m package versions...\n",
      "\u001b[32m\u001b[1m  No Changes\u001b[22m\u001b[39m to `~/Dropbox/2022/318-macro/git/Macro-318/Project.toml`\n",
      "\u001b[32m\u001b[1m  No Changes\u001b[22m\u001b[39m to `~/Dropbox/2022/318-macro/git/Macro-318/Manifest.toml`\n",
      "\u001b[32m\u001b[1m   Resolving\u001b[22m\u001b[39m package versions...\n",
      "\u001b[32m\u001b[1m  No Changes\u001b[22m\u001b[39m to `~/Dropbox/2022/318-macro/git/Macro-318/Project.toml`\n",
      "\u001b[32m\u001b[1m  No Changes\u001b[22m\u001b[39m to `~/Dropbox/2022/318-macro/git/Macro-318/Manifest.toml`\n",
      "\u001b[32m\u001b[1m   Resolving\u001b[22m\u001b[39m package versions...\n",
      "\u001b[32m\u001b[1m  No Changes\u001b[22m\u001b[39m to `~/Dropbox/2022/318-macro/git/Macro-318/Project.toml`\n",
      "\u001b[32m\u001b[1m  No Changes\u001b[22m\u001b[39m to `~/Dropbox/2022/318-macro/git/Macro-318/Manifest.toml`\n",
      "\u001b[32m\u001b[1m   Resolving\u001b[22m\u001b[39m package versions...\n",
      "\u001b[32m\u001b[1m  No Changes\u001b[22m\u001b[39m to `~/Dropbox/2022/318-macro/git/Macro-318/Project.toml`\n",
      "\u001b[32m\u001b[1m  No Changes\u001b[22m\u001b[39m to `~/Dropbox/2022/318-macro/git/Macro-318/Manifest.toml`\n",
      "\u001b[32m\u001b[1m   Resolving\u001b[22m\u001b[39m package versions...\n",
      "\u001b[32m\u001b[1m  No Changes\u001b[22m\u001b[39m to `~/Dropbox/2022/318-macro/git/Macro-318/Project.toml`\n",
      "\u001b[32m\u001b[1m  No Changes\u001b[22m\u001b[39m to `~/Dropbox/2022/318-macro/git/Macro-318/Manifest.toml`\n"
     ]
    }
   ],
   "source": [
    "# Packages\n",
    "import Pkg\n",
    "\n",
    "Pkg.add(\"CategoricalArrays\")\n",
    "Pkg.add(\"CSV\")\n",
    "Pkg.add(\"DataFrames\")\n",
    "Pkg.add(\"DataFramesMeta\")\n",
    "Pkg.add(\"Downloads\")\n",
    "Pkg.add(\"ForwardDiff\")\n",
    "Pkg.add(\"GLM\")\n",
    "Pkg.add(\"LinearAlgebra\")\n",
    "Pkg.add(\"Plots\")\n",
    "Pkg.add(\"Random\")\n",
    "Pkg.add(\"RDatasets\")\n",
    "Pkg.add(\"Roots\")\n",
    "Pkg.add(\"ShiftedArrays\")\n",
    "Pkg.add(\"SparseArrays\")\n",
    "Pkg.add(\"Statistics\")\n",
    "Pkg.add(\"Symbolics\")\n",
    "Pkg.add(\"Zygote\")\n",
    "\n",
    "using CategoricalArrays\n",
    "using CSV\n",
    "using DataFrames\n",
    "using DataFramesMeta\n",
    "using Downloads\n",
    "using ForwardDiff\n",
    "using GLM\n",
    "using LinearAlgebra\n",
    "using Plots\n",
    "using Random\n",
    "using RDatasets\n",
    "using Roots\n",
    "using ShiftedArrays\n",
    "using SparseArrays\n",
    "using Statistics\n",
    "using Symbolics\n",
    "using Zygote"
   ]
  },
  {
   "cell_type": "code",
   "execution_count": 2,
   "metadata": {
    "slideshow": {
     "slide_type": "skip"
    }
   },
   "outputs": [],
   "source": [
    "ENV[\"LINES\"] = 10; # set the max number of lines that will be printed\n",
    "ENV[\"COLUMNS\"] = 100; # set the max number of columns that will be printed"
   ]
  },
  {
   "cell_type": "markdown",
   "metadata": {
    "slideshow": {
     "slide_type": "slide"
    }
   },
   "source": [
    "# Packages"
   ]
  },
  {
   "cell_type": "code",
   "execution_count": null,
   "metadata": {
    "slideshow": {
     "slide_type": "fragment"
    }
   },
   "outputs": [],
   "source": [
    "# Packages for this lecture\n",
    "\n",
    "using CSV\n",
    "using DataFrames\n",
    "using Downloads\n",
    "using ForwardDiff\n",
    "using LinearAlgebra\n",
    "using Plots\n",
    "using Random\n",
    "using Roots\n",
    "using Statistics\n",
    "using Symbolics\n",
    "using Zygote"
   ]
  },
  {
   "cell_type": "markdown",
   "metadata": {
    "slideshow": {
     "slide_type": "slide"
    }
   },
   "source": [
    "# DataFrames\n",
    "\n",
    "In this section we discuss basic principles from the `DataFrames.jl` package. \n",
    "\n",
    "For the first topic we look at how to construct and access DataFrames. \n",
    "\n",
    "The fundamental object that we care about is the `DataFrame`. \n",
    "\n",
    "This is similar to a `dataframe` that you would find in R or in Pandas (Python).\n",
    "\n",
    "DataFrames are essentially matrices, with the rows being observations and the columns indicating the variables. "
   ]
  },
  {
   "cell_type": "markdown",
   "metadata": {
    "slideshow": {
     "slide_type": "slide"
    }
   },
   "source": [
    "## Constructors\n",
    "\n",
    "The easiest thing to construct is an empty DataFrame. "
   ]
  },
  {
   "cell_type": "code",
   "execution_count": 4,
   "metadata": {
    "slideshow": {
     "slide_type": "fragment"
    }
   },
   "outputs": [
    {
     "data": {
      "text/html": [
       "<div class=\"data-frame\"><p>0 rows × 0 columns</p><table class=\"data-frame\"><thead><tr><th></th></tr><tr><th></th></tr></thead><tbody></tbody></table></div>"
      ],
      "text/latex": [
       "\\begin{tabular}{r|}\n",
       "\t& \\\\\n",
       "\t\\hline\n",
       "\t& \\\\\n",
       "\t\\hline\n",
       "\\end{tabular}\n"
      ],
      "text/plain": [
       "\u001b[1m0×0 DataFrame\u001b[0m"
      ]
     },
     "execution_count": 4,
     "metadata": {},
     "output_type": "execute_result"
    }
   ],
   "source": [
    "DataFrame() # empty DataFrame"
   ]
  },
  {
   "cell_type": "markdown",
   "metadata": {
    "slideshow": {
     "slide_type": "slide"
    }
   },
   "source": [
    "## Constructors\n",
    "\n",
    "You could also construct a DataFrame with different keyword arguments. \n",
    "\n",
    "Notice the different types of the different columns. "
   ]
  },
  {
   "cell_type": "code",
   "execution_count": 5,
   "metadata": {
    "slideshow": {
     "slide_type": "fragment"
    }
   },
   "outputs": [
    {
     "data": {
      "text/html": [
       "<div class=\"data-frame\"><p>4 rows × 3 columns</p><table class=\"data-frame\"><thead><tr><th></th><th>A</th><th>B</th><th>C</th></tr><tr><th></th><th title=\"Int64\">Int64</th><th title=\"Float64\">Float64</th><th title=\"String\">String</th></tr></thead><tbody><tr><th>1</th><td>2</td><td>0.716393</td><td>Hello</td></tr><tr><th>2</th><td>3</td><td>-0.135105</td><td>Hello</td></tr><tr><th>3</th><td>4</td><td>-0.657844</td><td>Hello</td></tr><tr><th>4</th><td>5</td><td>0.924146</td><td>Hello</td></tr></tbody></table></div>"
      ],
      "text/latex": [
       "\\begin{tabular}{r|ccc}\n",
       "\t& A & B & C\\\\\n",
       "\t\\hline\n",
       "\t& Int64 & Float64 & String\\\\\n",
       "\t\\hline\n",
       "\t1 & 2 & 0.716393 & Hello \\\\\n",
       "\t2 & 3 & -0.135105 & Hello \\\\\n",
       "\t3 & 4 & -0.657844 & Hello \\\\\n",
       "\t4 & 5 & 0.924146 & Hello \\\\\n",
       "\\end{tabular}\n"
      ],
      "text/plain": [
       "\u001b[1m4×3 DataFrame\u001b[0m\n",
       "\u001b[1m Row \u001b[0m│\u001b[1m A     \u001b[0m\u001b[1m B         \u001b[0m\u001b[1m C      \u001b[0m\n",
       "\u001b[1m     \u001b[0m│\u001b[90m Int64 \u001b[0m\u001b[90m Float64   \u001b[0m\u001b[90m String \u001b[0m\n",
       "─────┼──────────────────────────\n",
       "   1 │     2   0.716393  Hello\n",
       "  ⋮  │   ⋮        ⋮        ⋮\n",
       "\u001b[36m                  3 rows omitted\u001b[0m"
      ]
     },
     "execution_count": 5,
     "metadata": {},
     "output_type": "execute_result"
    }
   ],
   "source": [
    "DataFrame(A = 2:5, B = randn(4), C = \"Hello\")"
   ]
  },
  {
   "cell_type": "markdown",
   "metadata": {
    "slideshow": {
     "slide_type": "slide"
    }
   },
   "source": [
    "## Constructors\n",
    "\n",
    "You can also create a DataFrame from a matrix, "
   ]
  },
  {
   "cell_type": "code",
   "execution_count": 6,
   "metadata": {
    "slideshow": {
     "slide_type": "fragment"
    }
   },
   "outputs": [
    {
     "data": {
      "text/html": [
       "<div class=\"data-frame\"><p>3 rows × 3 columns</p><table class=\"data-frame\"><thead><tr><th></th><th>x1</th><th>x2</th><th>x3</th></tr><tr><th></th><th title=\"Float64\">Float64</th><th title=\"Float64\">Float64</th><th title=\"Float64\">Float64</th></tr></thead><tbody><tr><th>1</th><td>0.724487</td><td>0.778178</td><td>0.210157</td></tr><tr><th>2</th><td>0.205457</td><td>0.358746</td><td>0.288093</td></tr><tr><th>3</th><td>0.653048</td><td>0.885845</td><td>0.886389</td></tr></tbody></table></div>"
      ],
      "text/latex": [
       "\\begin{tabular}{r|ccc}\n",
       "\t& x1 & x2 & x3\\\\\n",
       "\t\\hline\n",
       "\t& Float64 & Float64 & Float64\\\\\n",
       "\t\\hline\n",
       "\t1 & 0.724487 & 0.778178 & 0.210157 \\\\\n",
       "\t2 & 0.205457 & 0.358746 & 0.288093 \\\\\n",
       "\t3 & 0.653048 & 0.885845 & 0.886389 \\\\\n",
       "\\end{tabular}\n"
      ],
      "text/plain": [
       "\u001b[1m3×3 DataFrame\u001b[0m\n",
       "\u001b[1m Row \u001b[0m│\u001b[1m x1       \u001b[0m\u001b[1m x2       \u001b[0m\u001b[1m x3       \u001b[0m\n",
       "\u001b[1m     \u001b[0m│\u001b[90m Float64  \u001b[0m\u001b[90m Float64  \u001b[0m\u001b[90m Float64  \u001b[0m\n",
       "─────┼──────────────────────────────\n",
       "   1 │ 0.724487  0.778178  0.210157\n",
       "   2 │ 0.205457  0.358746  0.288093\n",
       "   3 │ 0.653048  0.885845  0.886389"
      ]
     },
     "execution_count": 6,
     "metadata": {},
     "output_type": "execute_result"
    }
   ],
   "source": [
    "x = DataFrame(rand(3, 3), :auto) # automatically assign column names with :auto"
   ]
  },
  {
   "cell_type": "markdown",
   "metadata": {
    "slideshow": {
     "slide_type": "slide"
    }
   },
   "source": [
    "## Accessing data\n",
    "\n",
    "We will often work with **large** datasets in economics."
   ]
  },
  {
   "cell_type": "code",
   "execution_count": 10,
   "metadata": {
    "slideshow": {
     "slide_type": "fragment"
    }
   },
   "outputs": [
    {
     "data": {
      "text/html": [
       "<div class=\"data-frame\"><p>1,000 rows × 10 columns</p><table class=\"data-frame\"><thead><tr><th></th><th>x1</th><th>x2</th><th>x3</th><th>x4</th><th>x5</th><th>x6</th><th>x7</th><th>x8</th><th>x9</th><th>x10</th></tr><tr><th></th><th title=\"Int64\">Int64</th><th title=\"Int64\">Int64</th><th title=\"Int64\">Int64</th><th title=\"Int64\">Int64</th><th title=\"Int64\">Int64</th><th title=\"Int64\">Int64</th><th title=\"Int64\">Int64</th><th title=\"Int64\">Int64</th><th title=\"Int64\">Int64</th><th title=\"Int64\">Int64</th></tr></thead><tbody><tr><th>1</th><td>24</td><td>22</td><td>30</td><td>25</td><td>53</td><td>50</td><td>53</td><td>55</td><td>19</td><td>5</td></tr><tr><th>2</th><td>37</td><td>59</td><td>29</td><td>65</td><td>23</td><td>100</td><td>4</td><td>50</td><td>66</td><td>46</td></tr><tr><th>3</th><td>2</td><td>45</td><td>99</td><td>53</td><td>38</td><td>80</td><td>69</td><td>10</td><td>9</td><td>52</td></tr><tr><th>4</th><td>76</td><td>33</td><td>65</td><td>100</td><td>67</td><td>87</td><td>48</td><td>18</td><td>38</td><td>87</td></tr><tr><th>5</th><td>11</td><td>29</td><td>79</td><td>41</td><td>68</td><td>25</td><td>87</td><td>34</td><td>53</td><td>18</td></tr><tr><th>6</th><td>39</td><td>67</td><td>14</td><td>66</td><td>76</td><td>64</td><td>28</td><td>49</td><td>64</td><td>62</td></tr><tr><th>7</th><td>95</td><td>24</td><td>60</td><td>35</td><td>13</td><td>37</td><td>90</td><td>69</td><td>85</td><td>94</td></tr><tr><th>8</th><td>10</td><td>47</td><td>70</td><td>61</td><td>57</td><td>60</td><td>5</td><td>50</td><td>24</td><td>75</td></tr><tr><th>9</th><td>25</td><td>25</td><td>51</td><td>73</td><td>99</td><td>75</td><td>45</td><td>70</td><td>81</td><td>67</td></tr><tr><th>10</th><td>76</td><td>13</td><td>23</td><td>45</td><td>56</td><td>43</td><td>45</td><td>63</td><td>2</td><td>35</td></tr><tr><th>&vellip;</th><td>&vellip;</td><td>&vellip;</td><td>&vellip;</td><td>&vellip;</td><td>&vellip;</td><td>&vellip;</td><td>&vellip;</td><td>&vellip;</td><td>&vellip;</td><td>&vellip;</td></tr></tbody></table></div>"
      ],
      "text/latex": [
       "\\begin{tabular}{r|cccccccccc}\n",
       "\t& x1 & x2 & x3 & x4 & x5 & x6 & x7 & x8 & x9 & x10\\\\\n",
       "\t\\hline\n",
       "\t& Int64 & Int64 & Int64 & Int64 & Int64 & Int64 & Int64 & Int64 & Int64 & Int64\\\\\n",
       "\t\\hline\n",
       "\t1 & 24 & 22 & 30 & 25 & 53 & 50 & 53 & 55 & 19 & 5 \\\\\n",
       "\t2 & 37 & 59 & 29 & 65 & 23 & 100 & 4 & 50 & 66 & 46 \\\\\n",
       "\t3 & 2 & 45 & 99 & 53 & 38 & 80 & 69 & 10 & 9 & 52 \\\\\n",
       "\t4 & 76 & 33 & 65 & 100 & 67 & 87 & 48 & 18 & 38 & 87 \\\\\n",
       "\t5 & 11 & 29 & 79 & 41 & 68 & 25 & 87 & 34 & 53 & 18 \\\\\n",
       "\t6 & 39 & 67 & 14 & 66 & 76 & 64 & 28 & 49 & 64 & 62 \\\\\n",
       "\t7 & 95 & 24 & 60 & 35 & 13 & 37 & 90 & 69 & 85 & 94 \\\\\n",
       "\t8 & 10 & 47 & 70 & 61 & 57 & 60 & 5 & 50 & 24 & 75 \\\\\n",
       "\t9 & 25 & 25 & 51 & 73 & 99 & 75 & 45 & 70 & 81 & 67 \\\\\n",
       "\t10 & 76 & 13 & 23 & 45 & 56 & 43 & 45 & 63 & 2 & 35 \\\\\n",
       "\t$\\dots$ & $\\dots$ & $\\dots$ & $\\dots$ & $\\dots$ & $\\dots$ & $\\dots$ & $\\dots$ & $\\dots$ & $\\dots$ & $\\dots$ \\\\\n",
       "\\end{tabular}\n"
      ],
      "text/plain": [
       "\u001b[1m1000×10 DataFrame\u001b[0m\n",
       "\u001b[1m  Row \u001b[0m│\u001b[1m x1    \u001b[0m\u001b[1m x2    \u001b[0m\u001b[1m x3    \u001b[0m\u001b[1m x4    \u001b[0m\u001b[1m x5    \u001b[0m\u001b[1m x6    \u001b[0m\u001b[1m x7    \u001b[0m\u001b[1m x8    \u001b[0m\u001b[1m x9    \u001b[0m\u001b[1m x10   \u001b[0m\n",
       "\u001b[1m      \u001b[0m│\u001b[90m Int64 \u001b[0m\u001b[90m Int64 \u001b[0m\u001b[90m Int64 \u001b[0m\u001b[90m Int64 \u001b[0m\u001b[90m Int64 \u001b[0m\u001b[90m Int64 \u001b[0m\u001b[90m Int64 \u001b[0m\u001b[90m Int64 \u001b[0m\u001b[90m Int64 \u001b[0m\u001b[90m Int64 \u001b[0m\n",
       "──────┼──────────────────────────────────────────────────────────────────────\n",
       "    1 │    24     22     30     25     53     50     53     55     19      5\n",
       "  ⋮   │   ⋮      ⋮      ⋮      ⋮      ⋮      ⋮      ⋮      ⋮      ⋮      ⋮\n",
       "\u001b[36m                                                             999 rows omitted\u001b[0m"
      ]
     },
     "execution_count": 10,
     "metadata": {},
     "output_type": "execute_result"
    }
   ],
   "source": [
    "y = DataFrame(rand(1:100, 1000, 10), :auto)"
   ]
  },
  {
   "cell_type": "markdown",
   "metadata": {
    "slideshow": {
     "slide_type": "slide"
    }
   },
   "source": [
    "## Accessing data\n",
    "\n",
    "We can look at the first few rows using the `first` function. "
   ]
  },
  {
   "cell_type": "code",
   "execution_count": 11,
   "metadata": {
    "slideshow": {
     "slide_type": "fragment"
    }
   },
   "outputs": [
    {
     "data": {
      "text/html": [
       "<div class=\"data-frame\"><p>5 rows × 10 columns</p><table class=\"data-frame\"><thead><tr><th></th><th>x1</th><th>x2</th><th>x3</th><th>x4</th><th>x5</th><th>x6</th><th>x7</th><th>x8</th><th>x9</th><th>x10</th></tr><tr><th></th><th title=\"Int64\">Int64</th><th title=\"Int64\">Int64</th><th title=\"Int64\">Int64</th><th title=\"Int64\">Int64</th><th title=\"Int64\">Int64</th><th title=\"Int64\">Int64</th><th title=\"Int64\">Int64</th><th title=\"Int64\">Int64</th><th title=\"Int64\">Int64</th><th title=\"Int64\">Int64</th></tr></thead><tbody><tr><th>1</th><td>24</td><td>22</td><td>30</td><td>25</td><td>53</td><td>50</td><td>53</td><td>55</td><td>19</td><td>5</td></tr><tr><th>2</th><td>37</td><td>59</td><td>29</td><td>65</td><td>23</td><td>100</td><td>4</td><td>50</td><td>66</td><td>46</td></tr><tr><th>3</th><td>2</td><td>45</td><td>99</td><td>53</td><td>38</td><td>80</td><td>69</td><td>10</td><td>9</td><td>52</td></tr><tr><th>4</th><td>76</td><td>33</td><td>65</td><td>100</td><td>67</td><td>87</td><td>48</td><td>18</td><td>38</td><td>87</td></tr><tr><th>5</th><td>11</td><td>29</td><td>79</td><td>41</td><td>68</td><td>25</td><td>87</td><td>34</td><td>53</td><td>18</td></tr></tbody></table></div>"
      ],
      "text/latex": [
       "\\begin{tabular}{r|cccccccccc}\n",
       "\t& x1 & x2 & x3 & x4 & x5 & x6 & x7 & x8 & x9 & x10\\\\\n",
       "\t\\hline\n",
       "\t& Int64 & Int64 & Int64 & Int64 & Int64 & Int64 & Int64 & Int64 & Int64 & Int64\\\\\n",
       "\t\\hline\n",
       "\t1 & 24 & 22 & 30 & 25 & 53 & 50 & 53 & 55 & 19 & 5 \\\\\n",
       "\t2 & 37 & 59 & 29 & 65 & 23 & 100 & 4 & 50 & 66 & 46 \\\\\n",
       "\t3 & 2 & 45 & 99 & 53 & 38 & 80 & 69 & 10 & 9 & 52 \\\\\n",
       "\t4 & 76 & 33 & 65 & 100 & 67 & 87 & 48 & 18 & 38 & 87 \\\\\n",
       "\t5 & 11 & 29 & 79 & 41 & 68 & 25 & 87 & 34 & 53 & 18 \\\\\n",
       "\\end{tabular}\n"
      ],
      "text/plain": [
       "\u001b[1m5×10 DataFrame\u001b[0m\n",
       "\u001b[1m Row \u001b[0m│\u001b[1m x1    \u001b[0m\u001b[1m x2    \u001b[0m\u001b[1m x3    \u001b[0m\u001b[1m x4    \u001b[0m\u001b[1m x5    \u001b[0m\u001b[1m x6    \u001b[0m\u001b[1m x7    \u001b[0m\u001b[1m x8    \u001b[0m\u001b[1m x9    \u001b[0m\u001b[1m x10   \u001b[0m\n",
       "\u001b[1m     \u001b[0m│\u001b[90m Int64 \u001b[0m\u001b[90m Int64 \u001b[0m\u001b[90m Int64 \u001b[0m\u001b[90m Int64 \u001b[0m\u001b[90m Int64 \u001b[0m\u001b[90m Int64 \u001b[0m\u001b[90m Int64 \u001b[0m\u001b[90m Int64 \u001b[0m\u001b[90m Int64 \u001b[0m\u001b[90m Int64 \u001b[0m\n",
       "─────┼──────────────────────────────────────────────────────────────────────\n",
       "   1 │    24     22     30     25     53     50     53     55     19      5\n",
       "  ⋮  │   ⋮      ⋮      ⋮      ⋮      ⋮      ⋮      ⋮      ⋮      ⋮      ⋮\n",
       "\u001b[36m                                                              4 rows omitted\u001b[0m"
      ]
     },
     "execution_count": 11,
     "metadata": {},
     "output_type": "execute_result"
    }
   ],
   "source": [
    "first(y, 5) # first 5 rows"
   ]
  },
  {
   "cell_type": "markdown",
   "metadata": {
    "slideshow": {
     "slide_type": "slide"
    }
   },
   "source": [
    "## Accessing data\n",
    "\n",
    "There are multiple ways to access particular columns of the DataFrame.\n",
    "\n",
    "The most obvious way is to to use `y.col`. \n",
    "\n",
    "Here `col` stands for the column name. \n",
    "\n",
    "This provides us the column in vector format."
   ]
  },
  {
   "cell_type": "markdown",
   "metadata": {
    "slideshow": {
     "slide_type": "slide"
    }
   },
   "source": [
    "## Accessing data"
   ]
  },
  {
   "cell_type": "code",
   "execution_count": 14,
   "metadata": {
    "slideshow": {
     "slide_type": "fragment"
    }
   },
   "outputs": [
    {
     "data": {
      "text/plain": [
       "1000-element Vector{Int64}:\n",
       " 22\n",
       " 59\n",
       " 45\n",
       "  ⋮\n",
       " 51\n",
       " 77"
      ]
     },
     "execution_count": 14,
     "metadata": {},
     "output_type": "execute_result"
    }
   ],
   "source": [
    "y.x2 # get a single column"
   ]
  },
  {
   "cell_type": "code",
   "execution_count": 15,
   "metadata": {
    "slideshow": {
     "slide_type": "fragment"
    }
   },
   "outputs": [
    {
     "data": {
      "text/plain": [
       "1000-element Vector{Int64}:\n",
       " 22\n",
       " 59\n",
       " 45\n",
       "  ⋮\n",
       " 51\n",
       " 77"
      ]
     },
     "execution_count": 15,
     "metadata": {},
     "output_type": "execute_result"
    }
   ],
   "source": [
    "y[!, :x2] # or y[!, 2] or y[:, :x2]"
   ]
  },
  {
   "cell_type": "markdown",
   "metadata": {
    "slideshow": {
     "slide_type": "slide"
    }
   },
   "source": [
    "## Accessing data\n",
    "\n",
    "You can access several columns as follows, "
   ]
  },
  {
   "cell_type": "code",
   "execution_count": 17,
   "metadata": {
    "slideshow": {
     "slide_type": "fragment"
    }
   },
   "outputs": [
    {
     "data": {
      "text/html": [
       "<div class=\"data-frame\"><p>1,000 rows × 2 columns</p><table class=\"data-frame\"><thead><tr><th></th><th>x1</th><th>x2</th></tr><tr><th></th><th title=\"Int64\">Int64</th><th title=\"Int64\">Int64</th></tr></thead><tbody><tr><th>1</th><td>24</td><td>22</td></tr><tr><th>2</th><td>37</td><td>59</td></tr><tr><th>3</th><td>2</td><td>45</td></tr><tr><th>4</th><td>76</td><td>33</td></tr><tr><th>5</th><td>11</td><td>29</td></tr><tr><th>6</th><td>39</td><td>67</td></tr><tr><th>7</th><td>95</td><td>24</td></tr><tr><th>8</th><td>10</td><td>47</td></tr><tr><th>9</th><td>25</td><td>25</td></tr><tr><th>10</th><td>76</td><td>13</td></tr><tr><th>&vellip;</th><td>&vellip;</td><td>&vellip;</td></tr></tbody></table></div>"
      ],
      "text/latex": [
       "\\begin{tabular}{r|cc}\n",
       "\t& x1 & x2\\\\\n",
       "\t\\hline\n",
       "\t& Int64 & Int64\\\\\n",
       "\t\\hline\n",
       "\t1 & 24 & 22 \\\\\n",
       "\t2 & 37 & 59 \\\\\n",
       "\t3 & 2 & 45 \\\\\n",
       "\t4 & 76 & 33 \\\\\n",
       "\t5 & 11 & 29 \\\\\n",
       "\t6 & 39 & 67 \\\\\n",
       "\t7 & 95 & 24 \\\\\n",
       "\t8 & 10 & 47 \\\\\n",
       "\t9 & 25 & 25 \\\\\n",
       "\t10 & 76 & 13 \\\\\n",
       "\t$\\dots$ & $\\dots$ & $\\dots$ \\\\\n",
       "\\end{tabular}\n"
      ],
      "text/plain": [
       "\u001b[1m1000×2 DataFrame\u001b[0m\n",
       "\u001b[1m  Row \u001b[0m│\u001b[1m x1    \u001b[0m\u001b[1m x2    \u001b[0m\n",
       "\u001b[1m      \u001b[0m│\u001b[90m Int64 \u001b[0m\u001b[90m Int64 \u001b[0m\n",
       "──────┼──────────────\n",
       "    1 │    24     22\n",
       "  ⋮   │   ⋮      ⋮\n",
       "\u001b[36m     999 rows omitted\u001b[0m"
      ]
     },
     "execution_count": 17,
     "metadata": {},
     "output_type": "execute_result"
    }
   ],
   "source": [
    "y[:, [:x1, :x2]]"
   ]
  },
  {
   "cell_type": "markdown",
   "metadata": {
    "slideshow": {
     "slide_type": "slide"
    }
   },
   "source": [
    "## Accessing data\n",
    "\n",
    "Getting rows is also quite easy,"
   ]
  },
  {
   "cell_type": "code",
   "execution_count": 18,
   "metadata": {
    "slideshow": {
     "slide_type": "fragment"
    }
   },
   "outputs": [
    {
     "data": {
      "text/html": [
       "<p>DataFrameRow (10 columns)</p><div class=\"data-frame\"><table class=\"data-frame\"><thead><tr><th></th><th>x1</th><th>x2</th><th>x3</th><th>x4</th><th>x5</th><th>x6</th><th>x7</th><th>x8</th><th>x9</th><th>x10</th></tr><tr><th></th><th title=\"Int64\">Int64</th><th title=\"Int64\">Int64</th><th title=\"Int64\">Int64</th><th title=\"Int64\">Int64</th><th title=\"Int64\">Int64</th><th title=\"Int64\">Int64</th><th title=\"Int64\">Int64</th><th title=\"Int64\">Int64</th><th title=\"Int64\">Int64</th><th title=\"Int64\">Int64</th></tr></thead><tbody><tr><th>1</th><td>24</td><td>22</td><td>30</td><td>25</td><td>53</td><td>50</td><td>53</td><td>55</td><td>19</td><td>5</td></tr></tbody></table></div>"
      ],
      "text/latex": [
       "\\begin{tabular}{r|cccccccccc}\n",
       "\t& x1 & x2 & x3 & x4 & x5 & x6 & x7 & x8 & x9 & x10\\\\\n",
       "\t\\hline\n",
       "\t& Int64 & Int64 & Int64 & Int64 & Int64 & Int64 & Int64 & Int64 & Int64 & Int64\\\\\n",
       "\t\\hline\n",
       "\t1 & 24 & 22 & 30 & 25 & 53 & 50 & 53 & 55 & 19 & 5 \\\\\n",
       "\\end{tabular}\n"
      ],
      "text/plain": [
       "\u001b[1mDataFrameRow\u001b[0m\n",
       "\u001b[1m Row \u001b[0m│\u001b[1m x1    \u001b[0m\u001b[1m x2    \u001b[0m\u001b[1m x3    \u001b[0m\u001b[1m x4    \u001b[0m\u001b[1m x5    \u001b[0m\u001b[1m x6    \u001b[0m\u001b[1m x7    \u001b[0m\u001b[1m x8    \u001b[0m\u001b[1m x9    \u001b[0m\u001b[1m x10   \u001b[0m\n",
       "\u001b[1m     \u001b[0m│\u001b[90m Int64 \u001b[0m\u001b[90m Int64 \u001b[0m\u001b[90m Int64 \u001b[0m\u001b[90m Int64 \u001b[0m\u001b[90m Int64 \u001b[0m\u001b[90m Int64 \u001b[0m\u001b[90m Int64 \u001b[0m\u001b[90m Int64 \u001b[0m\u001b[90m Int64 \u001b[0m\u001b[90m Int64 \u001b[0m\n",
       "─────┼──────────────────────────────────────────────────────────────────────\n",
       "   1 │    24     22     30     25     53     50     53     55     19      5"
      ]
     },
     "execution_count": 18,
     "metadata": {},
     "output_type": "execute_result"
    }
   ],
   "source": [
    "y[1, :]"
   ]
  },
  {
   "cell_type": "markdown",
   "metadata": {
    "slideshow": {
     "slide_type": "slide"
    }
   },
   "source": [
    "## Importing data\n",
    "\n",
    "I have created a dataset that is hosted on GitHub.\n",
    "\n",
    "Now let us download this data with Julia."
   ]
  },
  {
   "cell_type": "code",
   "execution_count": 19,
   "metadata": {
    "slideshow": {
     "slide_type": "fragment"
    }
   },
   "outputs": [
    {
     "data": {
      "text/plain": [
       "\"tut2_data.csv\""
      ]
     },
     "execution_count": 19,
     "metadata": {},
     "output_type": "execute_result"
    }
   ],
   "source": [
    "Downloads.download(\n",
    "    \"https://raw.githubusercontent.com/DawievLill/Macro-318/main/data/tut2_data.csv\", \n",
    "    \"tut2_data.csv\"\n",
    ")"
   ]
  },
  {
   "cell_type": "markdown",
   "metadata": {
    "slideshow": {
     "slide_type": "slide"
    }
   },
   "source": [
    "## Importing data\n",
    "\n",
    "Next we read the CSV file into Julia and make it a DataFrame. "
   ]
  },
  {
   "cell_type": "code",
   "execution_count": 20,
   "metadata": {
    "slideshow": {
     "slide_type": "fragment"
    }
   },
   "outputs": [
    {
     "data": {
      "text/html": [
       "<div class=\"data-frame\"><p>71 rows × 5 columns</p><table class=\"data-frame\"><thead><tr><th></th><th>date</th><th>gdp</th><th>repo</th><th>cpi</th><th>inflation</th></tr><tr><th></th><th title=\"Dates.Date\">Date</th><th title=\"Int64\">Int64</th><th title=\"Float64\">Float64</th><th title=\"Float64\">Float64</th><th title=\"Float64\">Float64</th></tr></thead><tbody><tr><th>1</th><td>2004-03-31</td><td>1571580</td><td>8.0</td><td>51.1689</td><td>-2.05565</td></tr><tr><th>2</th><td>2004-06-30</td><td>1640953</td><td>8.0</td><td>51.4474</td><td>-2.02507</td></tr><tr><th>3</th><td>2004-09-30</td><td>1674699</td><td>7.66667</td><td>51.5677</td><td>-1.00851</td></tr><tr><th>4</th><td>2004-12-31</td><td>1731000</td><td>7.5</td><td>51.8483</td><td>1.62524</td></tr><tr><th>5</th><td>2005-03-31</td><td>1768828</td><td>7.5</td><td>52.1796</td><td>1.97509</td></tr><tr><th>6</th><td>2005-06-30</td><td>1803783</td><td>7.0</td><td>52.456</td><td>1.9603</td></tr><tr><th>7</th><td>2005-09-30</td><td>1873743</td><td>7.0</td><td>52.8125</td><td>2.41398</td></tr><tr><th>8</th><td>2005-12-31</td><td>1918423</td><td>7.0</td><td>52.9391</td><td>2.10385</td></tr><tr><th>9</th><td>2006-03-31</td><td>1960150</td><td>7.0</td><td>53.243</td><td>2.03793</td></tr><tr><th>10</th><td>2006-06-30</td><td>2048534</td><td>7.16667</td><td>53.7536</td><td>2.47365</td></tr><tr><th>&vellip;</th><td>&vellip;</td><td>&vellip;</td><td>&vellip;</td><td>&vellip;</td><td>&vellip;</td></tr></tbody></table></div>"
      ],
      "text/latex": [
       "\\begin{tabular}{r|ccccc}\n",
       "\t& date & gdp & repo & cpi & inflation\\\\\n",
       "\t\\hline\n",
       "\t& Date & Int64 & Float64 & Float64 & Float64\\\\\n",
       "\t\\hline\n",
       "\t1 & 2004-03-31 & 1571580 & 8.0 & 51.1689 & -2.05565 \\\\\n",
       "\t2 & 2004-06-30 & 1640953 & 8.0 & 51.4474 & -2.02507 \\\\\n",
       "\t3 & 2004-09-30 & 1674699 & 7.66667 & 51.5677 & -1.00851 \\\\\n",
       "\t4 & 2004-12-31 & 1731000 & 7.5 & 51.8483 & 1.62524 \\\\\n",
       "\t5 & 2005-03-31 & 1768828 & 7.5 & 52.1796 & 1.97509 \\\\\n",
       "\t6 & 2005-06-30 & 1803783 & 7.0 & 52.456 & 1.9603 \\\\\n",
       "\t7 & 2005-09-30 & 1873743 & 7.0 & 52.8125 & 2.41398 \\\\\n",
       "\t8 & 2005-12-31 & 1918423 & 7.0 & 52.9391 & 2.10385 \\\\\n",
       "\t9 & 2006-03-31 & 1960150 & 7.0 & 53.243 & 2.03793 \\\\\n",
       "\t10 & 2006-06-30 & 2048534 & 7.16667 & 53.7536 & 2.47365 \\\\\n",
       "\t$\\dots$ & $\\dots$ & $\\dots$ & $\\dots$ & $\\dots$ & $\\dots$ \\\\\n",
       "\\end{tabular}\n"
      ],
      "text/plain": [
       "\u001b[1m71×5 DataFrame\u001b[0m\n",
       "\u001b[1m Row \u001b[0m│\u001b[1m date       \u001b[0m\u001b[1m gdp     \u001b[0m\u001b[1m repo    \u001b[0m\u001b[1m cpi      \u001b[0m\u001b[1m inflation \u001b[0m\n",
       "\u001b[1m     \u001b[0m│\u001b[90m Date       \u001b[0m\u001b[90m Int64   \u001b[0m\u001b[90m Float64 \u001b[0m\u001b[90m Float64  \u001b[0m\u001b[90m Float64   \u001b[0m\n",
       "─────┼───────────────────────────────────────────────────\n",
       "   1 │ 2004-03-31  1571580  8.0       51.1689   -2.05565\n",
       "  ⋮  │     ⋮          ⋮        ⋮        ⋮          ⋮\n",
       "\u001b[36m                                          70 rows omitted\u001b[0m"
      ]
     },
     "execution_count": 20,
     "metadata": {},
     "output_type": "execute_result"
    }
   ],
   "source": [
    "sa_data = DataFrame(CSV.File(\"tut2_data.csv\", dateformat = \"yyyy/mm/dd\")) # specify the date format"
   ]
  },
  {
   "cell_type": "markdown",
   "metadata": {
    "slideshow": {
     "slide_type": "slide"
    }
   },
   "source": [
    "## Plotting the data\n",
    "\n",
    "For this example we are going to look at GDP.\n",
    "\n",
    "GDP is the second column in the dataset. \n",
    "\n",
    "We can access GDP by calling the variable name.\n",
    "\n",
    "However, we can also use the fact that it is located in the second column of the table. "
   ]
  },
  {
   "cell_type": "markdown",
   "metadata": {
    "slideshow": {
     "slide_type": "slide"
    }
   },
   "source": [
    "## Plotting the data"
   ]
  },
  {
   "cell_type": "code",
   "execution_count": 21,
   "metadata": {
    "slideshow": {
     "slide_type": "fragment"
    }
   },
   "outputs": [
    {
     "data": {
      "text/plain": [
       "71-element Vector{Int64}:\n",
       " 1571580\n",
       " 1640953\n",
       " 1674699\n",
       "       ⋮\n",
       " 5632802\n",
       " 5819983"
      ]
     },
     "execution_count": 21,
     "metadata": {},
     "output_type": "execute_result"
    }
   ],
   "source": [
    "gdp = sa_data.gdp # or we could have done gdp = sa_data[!, 2]"
   ]
  },
  {
   "cell_type": "code",
   "execution_count": 22,
   "metadata": {
    "slideshow": {
     "slide_type": "fragment"
    }
   },
   "outputs": [
    {
     "data": {
      "text/plain": [
       "71-element Vector{Dates.Date}:\n",
       " 2004-03-31\n",
       " 2004-06-30\n",
       " 2004-09-30\n",
       " ⋮\n",
       " 2021-06-30\n",
       " 2021-09-30"
      ]
     },
     "execution_count": 22,
     "metadata": {},
     "output_type": "execute_result"
    }
   ],
   "source": [
    "date_sa = sa_data[!, :date] # we also want the date column for our plot"
   ]
  },
  {
   "cell_type": "markdown",
   "metadata": {
    "slideshow": {
     "slide_type": "slide"
    }
   },
   "source": [
    "## Plotting the data\n",
    "\n",
    "One popular transformation of GDP data is to take a natural logarithm.\n",
    "\n",
    "The reason for this is that differences between adjacent values in the GDP series represent growth rates once the series is \"logged\".\n",
    "\n",
    "We will get back to this point at a later stage. "
   ]
  },
  {
   "cell_type": "markdown",
   "metadata": {
    "slideshow": {
     "slide_type": "slide"
    }
   },
   "source": [
    "## Plotting the data (Log GDP)\n",
    "\n",
    "If we take a natural log of the series then the plot of GDP looks as follows. "
   ]
  },
  {
   "cell_type": "code",
   "execution_count": 27,
   "metadata": {
    "slideshow": {
     "slide_type": "fragment"
    }
   },
   "outputs": [
    {
     "data": {
      "image/svg+xml": [
       "<?xml version=\"1.0\" encoding=\"utf-8\"?>\n",
       "<svg xmlns=\"http://www.w3.org/2000/svg\" xmlns:xlink=\"http://www.w3.org/1999/xlink\" width=\"600\" height=\"400\" viewBox=\"0 0 2400 1600\">\n",
       "<defs>\n",
       "  <clipPath id=\"clip500\">\n",
       "    <rect x=\"0\" y=\"0\" width=\"2400\" height=\"1600\"/>\n",
       "  </clipPath>\n",
       "</defs>\n",
       "<path clip-path=\"url(#clip500)\" d=\"\n",
       "M0 1600 L2400 1600 L2400 0 L0 0  Z\n",
       "  \" fill=\"#ffffff\" fill-rule=\"evenodd\" fill-opacity=\"1\"/>\n",
       "<defs>\n",
       "  <clipPath id=\"clip501\">\n",
       "    <rect x=\"480\" y=\"0\" width=\"1681\" height=\"1600\"/>\n",
       "  </clipPath>\n",
       "</defs>\n",
       "<path clip-path=\"url(#clip500)\" d=\"\n",
       "M184.677 1486.45 L2352.76 1486.45 L2352.76 47.2441 L184.677 47.2441  Z\n",
       "  \" fill=\"#ffffff\" fill-rule=\"evenodd\" fill-opacity=\"1\"/>\n",
       "<defs>\n",
       "  <clipPath id=\"clip502\">\n",
       "    <rect x=\"184\" y=\"47\" width=\"2169\" height=\"1440\"/>\n",
       "  </clipPath>\n",
       "</defs>\n",
       "<polyline clip-path=\"url(#clip502)\" style=\"stroke:#000000; stroke-linecap:butt; stroke-linejoin:round; stroke-width:2; stroke-opacity:0.1; fill:none\" points=\"\n",
       "  217.239,1486.45 217.239,47.2441 \n",
       "  \"/>\n",
       "<polyline clip-path=\"url(#clip502)\" style=\"stroke:#000000; stroke-linecap:butt; stroke-linejoin:round; stroke-width:2; stroke-opacity:0.1; fill:none\" points=\"\n",
       "  801.855,1486.45 801.855,47.2441 \n",
       "  \"/>\n",
       "<polyline clip-path=\"url(#clip502)\" style=\"stroke:#000000; stroke-linecap:butt; stroke-linejoin:round; stroke-width:2; stroke-opacity:0.1; fill:none\" points=\"\n",
       "  1386.15,1486.45 1386.15,47.2441 \n",
       "  \"/>\n",
       "<polyline clip-path=\"url(#clip502)\" style=\"stroke:#000000; stroke-linecap:butt; stroke-linejoin:round; stroke-width:2; stroke-opacity:0.1; fill:none\" points=\"\n",
       "  1970.45,1486.45 1970.45,47.2441 \n",
       "  \"/>\n",
       "<polyline clip-path=\"url(#clip500)\" style=\"stroke:#000000; stroke-linecap:butt; stroke-linejoin:round; stroke-width:4; stroke-opacity:1; fill:none\" points=\"\n",
       "  184.677,1486.45 2352.76,1486.45 \n",
       "  \"/>\n",
       "<polyline clip-path=\"url(#clip500)\" style=\"stroke:#000000; stroke-linecap:butt; stroke-linejoin:round; stroke-width:4; stroke-opacity:1; fill:none\" points=\"\n",
       "  217.239,1486.45 217.239,1467.55 \n",
       "  \"/>\n",
       "<polyline clip-path=\"url(#clip500)\" style=\"stroke:#000000; stroke-linecap:butt; stroke-linejoin:round; stroke-width:4; stroke-opacity:1; fill:none\" points=\"\n",
       "  801.855,1486.45 801.855,1467.55 \n",
       "  \"/>\n",
       "<polyline clip-path=\"url(#clip500)\" style=\"stroke:#000000; stroke-linecap:butt; stroke-linejoin:round; stroke-width:4; stroke-opacity:1; fill:none\" points=\"\n",
       "  1386.15,1486.45 1386.15,1467.55 \n",
       "  \"/>\n",
       "<polyline clip-path=\"url(#clip500)\" style=\"stroke:#000000; stroke-linecap:butt; stroke-linejoin:round; stroke-width:4; stroke-opacity:1; fill:none\" points=\"\n",
       "  1970.45,1486.45 1970.45,1467.55 \n",
       "  \"/>\n",
       "<path clip-path=\"url(#clip500)\" d=\"M89.0333 1544.91 L105.353 1544.91 L105.353 1548.85 L83.4084 1548.85 L83.4084 1544.91 Q86.0704 1542.16 90.6537 1537.53 Q95.2602 1532.88 96.4407 1531.53 Q98.6861 1529.01 99.5657 1527.27 Q100.468 1525.51 100.468 1523.82 Q100.468 1521.07 98.524 1519.33 Q96.6027 1517.6 93.5009 1517.6 Q91.3019 1517.6 88.8482 1518.36 Q86.4176 1519.13 83.6399 1520.68 L83.6399 1515.95 Q86.4639 1514.82 88.9176 1514.24 Q91.3713 1513.66 93.4083 1513.66 Q98.7787 1513.66 101.973 1516.35 Q105.168 1519.03 105.168 1523.52 Q105.168 1525.65 104.357 1527.57 Q103.57 1529.47 101.464 1532.07 Q100.885 1532.74 97.7833 1535.95 Q94.6815 1539.15 89.0333 1544.91 Z\" fill=\"#000000\" fill-rule=\"evenodd\" fill-opacity=\"1\" /><path clip-path=\"url(#clip500)\" d=\"M125.167 1517.37 Q121.556 1517.37 119.728 1520.93 Q117.922 1524.47 117.922 1531.6 Q117.922 1538.71 119.728 1542.27 Q121.556 1545.82 125.167 1545.82 Q128.802 1545.82 130.607 1542.27 Q132.436 1538.71 132.436 1531.6 Q132.436 1524.47 130.607 1520.93 Q128.802 1517.37 125.167 1517.37 M125.167 1513.66 Q130.978 1513.66 134.033 1518.27 Q137.112 1522.85 137.112 1531.6 Q137.112 1540.33 134.033 1544.94 Q130.978 1549.52 125.167 1549.52 Q119.357 1549.52 116.279 1544.94 Q113.223 1540.33 113.223 1531.6 Q113.223 1522.85 116.279 1518.27 Q119.357 1513.66 125.167 1513.66 Z\" fill=\"#000000\" fill-rule=\"evenodd\" fill-opacity=\"1\" /><path clip-path=\"url(#clip500)\" d=\"M155.329 1517.37 Q151.718 1517.37 149.89 1520.93 Q148.084 1524.47 148.084 1531.6 Q148.084 1538.71 149.89 1542.27 Q151.718 1545.82 155.329 1545.82 Q158.964 1545.82 160.769 1542.27 Q162.598 1538.71 162.598 1531.6 Q162.598 1524.47 160.769 1520.93 Q158.964 1517.37 155.329 1517.37 M155.329 1513.66 Q161.139 1513.66 164.195 1518.27 Q167.274 1522.85 167.274 1531.6 Q167.274 1540.33 164.195 1544.94 Q161.139 1549.52 155.329 1549.52 Q149.519 1549.52 146.44 1544.94 Q143.385 1540.33 143.385 1531.6 Q143.385 1522.85 146.44 1518.27 Q149.519 1513.66 155.329 1513.66 Z\" fill=\"#000000\" fill-rule=\"evenodd\" fill-opacity=\"1\" /><path clip-path=\"url(#clip500)\" d=\"M188.338 1518.36 L176.533 1536.81 L188.338 1536.81 L188.338 1518.36 M187.112 1514.29 L192.991 1514.29 L192.991 1536.81 L197.922 1536.81 L197.922 1540.7 L192.991 1540.7 L192.991 1548.85 L188.338 1548.85 L188.338 1540.7 L172.737 1540.7 L172.737 1536.19 L187.112 1514.29 Z\" fill=\"#000000\" fill-rule=\"evenodd\" fill-opacity=\"1\" /><path clip-path=\"url(#clip500)\" d=\"M202.898 1533.96 L215.375 1533.96 L215.375 1537.76 L202.898 1537.76 L202.898 1533.96 Z\" fill=\"#000000\" fill-rule=\"evenodd\" fill-opacity=\"1\" /><path clip-path=\"url(#clip500)\" d=\"M232.759 1517.37 Q229.148 1517.37 227.32 1520.93 Q225.514 1524.47 225.514 1531.6 Q225.514 1538.71 227.32 1542.27 Q229.148 1545.82 232.759 1545.82 Q236.394 1545.82 238.199 1542.27 Q240.028 1538.71 240.028 1531.6 Q240.028 1524.47 238.199 1520.93 Q236.394 1517.37 232.759 1517.37 M232.759 1513.66 Q238.57 1513.66 241.625 1518.27 Q244.704 1522.85 244.704 1531.6 Q244.704 1540.33 241.625 1544.94 Q238.57 1549.52 232.759 1549.52 Q226.949 1549.52 223.871 1544.94 Q220.815 1540.33 220.815 1531.6 Q220.815 1522.85 223.871 1518.27 Q226.949 1513.66 232.759 1513.66 Z\" fill=\"#000000\" fill-rule=\"evenodd\" fill-opacity=\"1\" /><path clip-path=\"url(#clip500)\" d=\"M253.732 1544.91 L261.37 1544.91 L261.37 1518.55 L253.06 1520.21 L253.06 1515.95 L261.324 1514.29 L266 1514.29 L266 1544.91 L273.639 1544.91 L273.639 1548.85 L253.732 1548.85 L253.732 1544.91 Z\" fill=\"#000000\" fill-rule=\"evenodd\" fill-opacity=\"1\" /><path clip-path=\"url(#clip500)\" d=\"M280.329 1533.96 L292.805 1533.96 L292.805 1537.76 L280.329 1537.76 L280.329 1533.96 Z\" fill=\"#000000\" fill-rule=\"evenodd\" fill-opacity=\"1\" /><path clip-path=\"url(#clip500)\" d=\"M310.19 1517.37 Q306.578 1517.37 304.75 1520.93 Q302.944 1524.47 302.944 1531.6 Q302.944 1538.71 304.75 1542.27 Q306.578 1545.82 310.19 1545.82 Q313.824 1545.82 315.629 1542.27 Q317.458 1538.71 317.458 1531.6 Q317.458 1524.47 315.629 1520.93 Q313.824 1517.37 310.19 1517.37 M310.19 1513.66 Q316 1513.66 319.055 1518.27 Q322.134 1522.85 322.134 1531.6 Q322.134 1540.33 319.055 1544.94 Q316 1549.52 310.19 1549.52 Q304.379 1549.52 301.301 1544.94 Q298.245 1540.33 298.245 1531.6 Q298.245 1522.85 301.301 1518.27 Q304.379 1513.66 310.19 1513.66 Z\" fill=\"#000000\" fill-rule=\"evenodd\" fill-opacity=\"1\" /><path clip-path=\"url(#clip500)\" d=\"M331.162 1544.91 L338.801 1544.91 L338.801 1518.55 L330.49 1520.21 L330.49 1515.95 L338.754 1514.29 L343.43 1514.29 L343.43 1544.91 L351.069 1544.91 L351.069 1548.85 L331.162 1548.85 L331.162 1544.91 Z\" fill=\"#000000\" fill-rule=\"evenodd\" fill-opacity=\"1\" /><path clip-path=\"url(#clip500)\" d=\"M673.65 1544.91 L689.969 1544.91 L689.969 1548.85 L668.025 1548.85 L668.025 1544.91 Q670.687 1542.16 675.27 1537.53 Q679.877 1532.88 681.057 1531.53 Q683.303 1529.01 684.182 1527.27 Q685.085 1525.51 685.085 1523.82 Q685.085 1521.07 683.14 1519.33 Q681.219 1517.6 678.117 1517.6 Q675.918 1517.6 673.465 1518.36 Q671.034 1519.13 668.256 1520.68 L668.256 1515.95 Q671.08 1514.82 673.534 1514.24 Q675.988 1513.66 678.025 1513.66 Q683.395 1513.66 686.59 1516.35 Q689.784 1519.03 689.784 1523.52 Q689.784 1525.65 688.974 1527.57 Q688.187 1529.47 686.08 1532.07 Q685.502 1532.74 682.4 1535.95 Q679.298 1539.15 673.65 1544.91 Z\" fill=\"#000000\" fill-rule=\"evenodd\" fill-opacity=\"1\" /><path clip-path=\"url(#clip500)\" d=\"M709.784 1517.37 Q706.173 1517.37 704.344 1520.93 Q702.539 1524.47 702.539 1531.6 Q702.539 1538.71 704.344 1542.27 Q706.173 1545.82 709.784 1545.82 Q713.418 1545.82 715.224 1542.27 Q717.052 1538.71 717.052 1531.6 Q717.052 1524.47 715.224 1520.93 Q713.418 1517.37 709.784 1517.37 M709.784 1513.66 Q715.594 1513.66 718.65 1518.27 Q721.728 1522.85 721.728 1531.6 Q721.728 1540.33 718.65 1544.94 Q715.594 1549.52 709.784 1549.52 Q703.974 1549.52 700.895 1544.94 Q697.839 1540.33 697.839 1531.6 Q697.839 1522.85 700.895 1518.27 Q703.974 1513.66 709.784 1513.66 Z\" fill=\"#000000\" fill-rule=\"evenodd\" fill-opacity=\"1\" /><path clip-path=\"url(#clip500)\" d=\"M739.946 1517.37 Q736.335 1517.37 734.506 1520.93 Q732.7 1524.47 732.7 1531.6 Q732.7 1538.71 734.506 1542.27 Q736.335 1545.82 739.946 1545.82 Q743.58 1545.82 745.386 1542.27 Q747.214 1538.71 747.214 1531.6 Q747.214 1524.47 745.386 1520.93 Q743.58 1517.37 739.946 1517.37 M739.946 1513.66 Q745.756 1513.66 748.811 1518.27 Q751.89 1522.85 751.89 1531.6 Q751.89 1540.33 748.811 1544.94 Q745.756 1549.52 739.946 1549.52 Q734.136 1549.52 731.057 1544.94 Q728.001 1540.33 728.001 1531.6 Q728.001 1522.85 731.057 1518.27 Q734.136 1513.66 739.946 1513.66 Z\" fill=\"#000000\" fill-rule=\"evenodd\" fill-opacity=\"1\" /><path clip-path=\"url(#clip500)\" d=\"M760.247 1548.13 L760.247 1543.87 Q762.006 1544.7 763.811 1545.14 Q765.617 1545.58 767.353 1545.58 Q771.983 1545.58 774.413 1542.48 Q776.867 1539.36 777.214 1533.01 Q775.871 1535.01 773.811 1536.07 Q771.751 1537.13 769.251 1537.13 Q764.066 1537.13 761.034 1534.01 Q758.024 1530.86 758.024 1525.42 Q758.024 1520.1 761.172 1516.88 Q764.321 1513.66 769.552 1513.66 Q775.547 1513.66 778.696 1518.27 Q781.867 1522.85 781.867 1531.6 Q781.867 1539.77 777.978 1544.66 Q774.112 1549.52 767.561 1549.52 Q765.802 1549.52 763.997 1549.17 Q762.191 1548.82 760.247 1548.13 M769.552 1533.48 Q772.7 1533.48 774.529 1531.32 Q776.381 1529.17 776.381 1525.42 Q776.381 1521.7 774.529 1519.54 Q772.7 1517.37 769.552 1517.37 Q766.404 1517.37 764.552 1519.54 Q762.723 1521.7 762.723 1525.42 Q762.723 1529.17 764.552 1531.32 Q766.404 1533.48 769.552 1533.48 Z\" fill=\"#000000\" fill-rule=\"evenodd\" fill-opacity=\"1\" /><path clip-path=\"url(#clip500)\" d=\"M787.515 1533.96 L799.992 1533.96 L799.992 1537.76 L787.515 1537.76 L787.515 1533.96 Z\" fill=\"#000000\" fill-rule=\"evenodd\" fill-opacity=\"1\" /><path clip-path=\"url(#clip500)\" d=\"M817.376 1517.37 Q813.765 1517.37 811.936 1520.93 Q810.131 1524.47 810.131 1531.6 Q810.131 1538.71 811.936 1542.27 Q813.765 1545.82 817.376 1545.82 Q821.01 1545.82 822.816 1542.27 Q824.644 1538.71 824.644 1531.6 Q824.644 1524.47 822.816 1520.93 Q821.01 1517.37 817.376 1517.37 M817.376 1513.66 Q823.186 1513.66 826.242 1518.27 Q829.32 1522.85 829.32 1531.6 Q829.32 1540.33 826.242 1544.94 Q823.186 1549.52 817.376 1549.52 Q811.566 1549.52 808.487 1544.94 Q805.432 1540.33 805.432 1531.6 Q805.432 1522.85 808.487 1518.27 Q811.566 1513.66 817.376 1513.66 Z\" fill=\"#000000\" fill-rule=\"evenodd\" fill-opacity=\"1\" /><path clip-path=\"url(#clip500)\" d=\"M838.348 1544.91 L845.987 1544.91 L845.987 1518.55 L837.677 1520.21 L837.677 1515.95 L845.941 1514.29 L850.616 1514.29 L850.616 1544.91 L858.255 1544.91 L858.255 1548.85 L838.348 1548.85 L838.348 1544.91 Z\" fill=\"#000000\" fill-rule=\"evenodd\" fill-opacity=\"1\" /><path clip-path=\"url(#clip500)\" d=\"M864.945 1533.96 L877.422 1533.96 L877.422 1537.76 L864.945 1537.76 L864.945 1533.96 Z\" fill=\"#000000\" fill-rule=\"evenodd\" fill-opacity=\"1\" /><path clip-path=\"url(#clip500)\" d=\"M894.806 1517.37 Q891.195 1517.37 889.366 1520.93 Q887.561 1524.47 887.561 1531.6 Q887.561 1538.71 889.366 1542.27 Q891.195 1545.82 894.806 1545.82 Q898.44 1545.82 900.246 1542.27 Q902.075 1538.71 902.075 1531.6 Q902.075 1524.47 900.246 1520.93 Q898.44 1517.37 894.806 1517.37 M894.806 1513.66 Q900.616 1513.66 903.672 1518.27 Q906.75 1522.85 906.75 1531.6 Q906.75 1540.33 903.672 1544.94 Q900.616 1549.52 894.806 1549.52 Q888.996 1549.52 885.917 1544.94 Q882.862 1540.33 882.862 1531.6 Q882.862 1522.85 885.917 1518.27 Q888.996 1513.66 894.806 1513.66 Z\" fill=\"#000000\" fill-rule=\"evenodd\" fill-opacity=\"1\" /><path clip-path=\"url(#clip500)\" d=\"M915.778 1544.91 L923.417 1544.91 L923.417 1518.55 L915.107 1520.21 L915.107 1515.95 L923.371 1514.29 L928.047 1514.29 L928.047 1544.91 L935.685 1544.91 L935.685 1548.85 L915.778 1548.85 L915.778 1544.91 Z\" fill=\"#000000\" fill-rule=\"evenodd\" fill-opacity=\"1\" /><path clip-path=\"url(#clip500)\" d=\"M1257.95 1544.91 L1274.27 1544.91 L1274.27 1548.85 L1252.32 1548.85 L1252.32 1544.91 Q1254.98 1542.16 1259.57 1537.53 Q1264.17 1532.88 1265.35 1531.53 Q1267.6 1529.01 1268.48 1527.27 Q1269.38 1525.51 1269.38 1523.82 Q1269.38 1521.07 1267.44 1519.33 Q1265.52 1517.6 1262.41 1517.6 Q1260.21 1517.6 1257.76 1518.36 Q1255.33 1519.13 1252.55 1520.68 L1252.55 1515.95 Q1255.38 1514.82 1257.83 1514.24 Q1260.28 1513.66 1262.32 1513.66 Q1267.69 1513.66 1270.89 1516.35 Q1274.08 1519.03 1274.08 1523.52 Q1274.08 1525.65 1273.27 1527.57 Q1272.48 1529.47 1270.38 1532.07 Q1269.8 1532.74 1266.7 1535.95 Q1263.59 1539.15 1257.95 1544.91 Z\" fill=\"#000000\" fill-rule=\"evenodd\" fill-opacity=\"1\" /><path clip-path=\"url(#clip500)\" d=\"M1294.08 1517.37 Q1290.47 1517.37 1288.64 1520.93 Q1286.84 1524.47 1286.84 1531.6 Q1286.84 1538.71 1288.64 1542.27 Q1290.47 1545.82 1294.08 1545.82 Q1297.71 1545.82 1299.52 1542.27 Q1301.35 1538.71 1301.35 1531.6 Q1301.35 1524.47 1299.52 1520.93 Q1297.71 1517.37 1294.08 1517.37 M1294.08 1513.66 Q1299.89 1513.66 1302.95 1518.27 Q1306.02 1522.85 1306.02 1531.6 Q1306.02 1540.33 1302.95 1544.94 Q1299.89 1549.52 1294.08 1549.52 Q1288.27 1549.52 1285.19 1544.94 Q1282.14 1540.33 1282.14 1531.6 Q1282.14 1522.85 1285.19 1518.27 Q1288.27 1513.66 1294.08 1513.66 Z\" fill=\"#000000\" fill-rule=\"evenodd\" fill-opacity=\"1\" /><path clip-path=\"url(#clip500)\" d=\"M1315.05 1544.91 L1322.69 1544.91 L1322.69 1518.55 L1314.38 1520.21 L1314.38 1515.95 L1322.65 1514.29 L1327.32 1514.29 L1327.32 1544.91 L1334.96 1544.91 L1334.96 1548.85 L1315.05 1548.85 L1315.05 1544.91 Z\" fill=\"#000000\" fill-rule=\"evenodd\" fill-opacity=\"1\" /><path clip-path=\"url(#clip500)\" d=\"M1357.25 1518.36 L1345.45 1536.81 L1357.25 1536.81 L1357.25 1518.36 M1356.02 1514.29 L1361.9 1514.29 L1361.9 1536.81 L1366.83 1536.81 L1366.83 1540.7 L1361.9 1540.7 L1361.9 1548.85 L1357.25 1548.85 L1357.25 1540.7 L1341.65 1540.7 L1341.65 1536.19 L1356.02 1514.29 Z\" fill=\"#000000\" fill-rule=\"evenodd\" fill-opacity=\"1\" /><path clip-path=\"url(#clip500)\" d=\"M1371.81 1533.96 L1384.29 1533.96 L1384.29 1537.76 L1371.81 1537.76 L1371.81 1533.96 Z\" fill=\"#000000\" fill-rule=\"evenodd\" fill-opacity=\"1\" /><path clip-path=\"url(#clip500)\" d=\"M1401.67 1517.37 Q1398.06 1517.37 1396.23 1520.93 Q1394.43 1524.47 1394.43 1531.6 Q1394.43 1538.71 1396.23 1542.27 Q1398.06 1545.82 1401.67 1545.82 Q1405.31 1545.82 1407.11 1542.27 Q1408.94 1538.71 1408.94 1531.6 Q1408.94 1524.47 1407.11 1520.93 Q1405.31 1517.37 1401.67 1517.37 M1401.67 1513.66 Q1407.48 1513.66 1410.54 1518.27 Q1413.62 1522.85 1413.62 1531.6 Q1413.62 1540.33 1410.54 1544.94 Q1407.48 1549.52 1401.67 1549.52 Q1395.86 1549.52 1392.78 1544.94 Q1389.73 1540.33 1389.73 1531.6 Q1389.73 1522.85 1392.78 1518.27 Q1395.86 1513.66 1401.67 1513.66 Z\" fill=\"#000000\" fill-rule=\"evenodd\" fill-opacity=\"1\" /><path clip-path=\"url(#clip500)\" d=\"M1422.64 1544.91 L1430.28 1544.91 L1430.28 1518.55 L1421.97 1520.21 L1421.97 1515.95 L1430.24 1514.29 L1434.91 1514.29 L1434.91 1544.91 L1442.55 1544.91 L1442.55 1548.85 L1422.64 1548.85 L1422.64 1544.91 Z\" fill=\"#000000\" fill-rule=\"evenodd\" fill-opacity=\"1\" /><path clip-path=\"url(#clip500)\" d=\"M1449.24 1533.96 L1461.72 1533.96 L1461.72 1537.76 L1449.24 1537.76 L1449.24 1533.96 Z\" fill=\"#000000\" fill-rule=\"evenodd\" fill-opacity=\"1\" /><path clip-path=\"url(#clip500)\" d=\"M1479.1 1517.37 Q1475.49 1517.37 1473.66 1520.93 Q1471.86 1524.47 1471.86 1531.6 Q1471.86 1538.71 1473.66 1542.27 Q1475.49 1545.82 1479.1 1545.82 Q1482.74 1545.82 1484.54 1542.27 Q1486.37 1538.71 1486.37 1531.6 Q1486.37 1524.47 1484.54 1520.93 Q1482.74 1517.37 1479.1 1517.37 M1479.1 1513.66 Q1484.91 1513.66 1487.97 1518.27 Q1491.05 1522.85 1491.05 1531.6 Q1491.05 1540.33 1487.97 1544.94 Q1484.91 1549.52 1479.1 1549.52 Q1473.29 1549.52 1470.21 1544.94 Q1467.16 1540.33 1467.16 1531.6 Q1467.16 1522.85 1470.21 1518.27 Q1473.29 1513.66 1479.1 1513.66 Z\" fill=\"#000000\" fill-rule=\"evenodd\" fill-opacity=\"1\" /><path clip-path=\"url(#clip500)\" d=\"M1500.07 1544.91 L1507.71 1544.91 L1507.71 1518.55 L1499.4 1520.21 L1499.4 1515.95 L1507.67 1514.29 L1512.34 1514.29 L1512.34 1544.91 L1519.98 1544.91 L1519.98 1548.85 L1500.07 1548.85 L1500.07 1544.91 Z\" fill=\"#000000\" fill-rule=\"evenodd\" fill-opacity=\"1\" /><path clip-path=\"url(#clip500)\" d=\"M1842.24 1544.91 L1858.56 1544.91 L1858.56 1548.85 L1836.62 1548.85 L1836.62 1544.91 Q1839.28 1542.16 1843.86 1537.53 Q1848.47 1532.88 1849.65 1531.53 Q1851.9 1529.01 1852.78 1527.27 Q1853.68 1525.51 1853.68 1523.82 Q1853.68 1521.07 1851.73 1519.33 Q1849.81 1517.6 1846.71 1517.6 Q1844.51 1517.6 1842.06 1518.36 Q1839.63 1519.13 1836.85 1520.68 L1836.85 1515.95 Q1839.67 1514.82 1842.13 1514.24 Q1844.58 1513.66 1846.62 1513.66 Q1851.99 1513.66 1855.18 1516.35 Q1858.38 1519.03 1858.38 1523.52 Q1858.38 1525.65 1857.57 1527.57 Q1856.78 1529.47 1854.67 1532.07 Q1854.09 1532.74 1850.99 1535.95 Q1847.89 1539.15 1842.24 1544.91 Z\" fill=\"#000000\" fill-rule=\"evenodd\" fill-opacity=\"1\" /><path clip-path=\"url(#clip500)\" d=\"M1878.38 1517.37 Q1874.77 1517.37 1872.94 1520.93 Q1871.13 1524.47 1871.13 1531.6 Q1871.13 1538.71 1872.94 1542.27 Q1874.77 1545.82 1878.38 1545.82 Q1882.01 1545.82 1883.82 1542.27 Q1885.65 1538.71 1885.65 1531.6 Q1885.65 1524.47 1883.82 1520.93 Q1882.01 1517.37 1878.38 1517.37 M1878.38 1513.66 Q1884.19 1513.66 1887.24 1518.27 Q1890.32 1522.85 1890.32 1531.6 Q1890.32 1540.33 1887.24 1544.94 Q1884.19 1549.52 1878.38 1549.52 Q1872.57 1549.52 1869.49 1544.94 Q1866.43 1540.33 1866.43 1531.6 Q1866.43 1522.85 1869.49 1518.27 Q1872.57 1513.66 1878.38 1513.66 Z\" fill=\"#000000\" fill-rule=\"evenodd\" fill-opacity=\"1\" /><path clip-path=\"url(#clip500)\" d=\"M1899.35 1544.91 L1906.99 1544.91 L1906.99 1518.55 L1898.68 1520.21 L1898.68 1515.95 L1906.94 1514.29 L1911.62 1514.29 L1911.62 1544.91 L1919.26 1544.91 L1919.26 1548.85 L1899.35 1548.85 L1899.35 1544.91 Z\" fill=\"#000000\" fill-rule=\"evenodd\" fill-opacity=\"1\" /><path clip-path=\"url(#clip500)\" d=\"M1928.84 1548.13 L1928.84 1543.87 Q1930.6 1544.7 1932.4 1545.14 Q1934.21 1545.58 1935.95 1545.58 Q1940.58 1545.58 1943.01 1542.48 Q1945.46 1539.36 1945.81 1533.01 Q1944.46 1535.01 1942.4 1536.07 Q1940.34 1537.13 1937.84 1537.13 Q1932.66 1537.13 1929.63 1534.01 Q1926.62 1530.86 1926.62 1525.42 Q1926.62 1520.1 1929.77 1516.88 Q1932.91 1513.66 1938.15 1513.66 Q1944.14 1513.66 1947.29 1518.27 Q1950.46 1522.85 1950.46 1531.6 Q1950.46 1539.77 1946.57 1544.66 Q1942.71 1549.52 1936.15 1549.52 Q1934.4 1549.52 1932.59 1549.17 Q1930.78 1548.82 1928.84 1548.13 M1938.15 1533.48 Q1941.29 1533.48 1943.12 1531.32 Q1944.97 1529.17 1944.97 1525.42 Q1944.97 1521.7 1943.12 1519.54 Q1941.29 1517.37 1938.15 1517.37 Q1935 1517.37 1933.15 1519.54 Q1931.32 1521.7 1931.32 1525.42 Q1931.32 1529.17 1933.15 1531.32 Q1935 1533.48 1938.15 1533.48 Z\" fill=\"#000000\" fill-rule=\"evenodd\" fill-opacity=\"1\" /><path clip-path=\"url(#clip500)\" d=\"M1956.11 1533.96 L1968.58 1533.96 L1968.58 1537.76 L1956.11 1537.76 L1956.11 1533.96 Z\" fill=\"#000000\" fill-rule=\"evenodd\" fill-opacity=\"1\" /><path clip-path=\"url(#clip500)\" d=\"M1985.97 1517.37 Q1982.36 1517.37 1980.53 1520.93 Q1978.72 1524.47 1978.72 1531.6 Q1978.72 1538.71 1980.53 1542.27 Q1982.36 1545.82 1985.97 1545.82 Q1989.6 1545.82 1991.41 1542.27 Q1993.24 1538.71 1993.24 1531.6 Q1993.24 1524.47 1991.41 1520.93 Q1989.6 1517.37 1985.97 1517.37 M1985.97 1513.66 Q1991.78 1513.66 1994.83 1518.27 Q1997.91 1522.85 1997.91 1531.6 Q1997.91 1540.33 1994.83 1544.94 Q1991.78 1549.52 1985.97 1549.52 Q1980.16 1549.52 1977.08 1544.94 Q1974.02 1540.33 1974.02 1531.6 Q1974.02 1522.85 1977.08 1518.27 Q1980.16 1513.66 1985.97 1513.66 Z\" fill=\"#000000\" fill-rule=\"evenodd\" fill-opacity=\"1\" /><path clip-path=\"url(#clip500)\" d=\"M2006.94 1544.91 L2014.58 1544.91 L2014.58 1518.55 L2006.27 1520.21 L2006.27 1515.95 L2014.53 1514.29 L2019.21 1514.29 L2019.21 1544.91 L2026.85 1544.91 L2026.85 1548.85 L2006.94 1548.85 L2006.94 1544.91 Z\" fill=\"#000000\" fill-rule=\"evenodd\" fill-opacity=\"1\" /><path clip-path=\"url(#clip500)\" d=\"M2033.54 1533.96 L2046.01 1533.96 L2046.01 1537.76 L2033.54 1537.76 L2033.54 1533.96 Z\" fill=\"#000000\" fill-rule=\"evenodd\" fill-opacity=\"1\" /><path clip-path=\"url(#clip500)\" d=\"M2063.4 1517.37 Q2059.79 1517.37 2057.96 1520.93 Q2056.15 1524.47 2056.15 1531.6 Q2056.15 1538.71 2057.96 1542.27 Q2059.79 1545.82 2063.4 1545.82 Q2067.03 1545.82 2068.84 1542.27 Q2070.67 1538.71 2070.67 1531.6 Q2070.67 1524.47 2068.84 1520.93 Q2067.03 1517.37 2063.4 1517.37 M2063.4 1513.66 Q2069.21 1513.66 2072.26 1518.27 Q2075.34 1522.85 2075.34 1531.6 Q2075.34 1540.33 2072.26 1544.94 Q2069.21 1549.52 2063.4 1549.52 Q2057.59 1549.52 2054.51 1544.94 Q2051.45 1540.33 2051.45 1531.6 Q2051.45 1522.85 2054.51 1518.27 Q2057.59 1513.66 2063.4 1513.66 Z\" fill=\"#000000\" fill-rule=\"evenodd\" fill-opacity=\"1\" /><path clip-path=\"url(#clip500)\" d=\"M2084.37 1544.91 L2092.01 1544.91 L2092.01 1518.55 L2083.7 1520.21 L2083.7 1515.95 L2091.96 1514.29 L2096.64 1514.29 L2096.64 1544.91 L2104.28 1544.91 L2104.28 1548.85 L2084.37 1548.85 L2084.37 1544.91 Z\" fill=\"#000000\" fill-rule=\"evenodd\" fill-opacity=\"1\" /><polyline clip-path=\"url(#clip502)\" style=\"stroke:#000000; stroke-linecap:butt; stroke-linejoin:round; stroke-width:2; stroke-opacity:0.1; fill:none\" points=\"\n",
       "  184.677,1308.4 2352.76,1308.4 \n",
       "  \"/>\n",
       "<polyline clip-path=\"url(#clip502)\" style=\"stroke:#000000; stroke-linecap:butt; stroke-linejoin:round; stroke-width:2; stroke-opacity:0.1; fill:none\" points=\"\n",
       "  184.677,1100.99 2352.76,1100.99 \n",
       "  \"/>\n",
       "<polyline clip-path=\"url(#clip502)\" style=\"stroke:#000000; stroke-linecap:butt; stroke-linejoin:round; stroke-width:2; stroke-opacity:0.1; fill:none\" points=\"\n",
       "  184.677,893.575 2352.76,893.575 \n",
       "  \"/>\n",
       "<polyline clip-path=\"url(#clip502)\" style=\"stroke:#000000; stroke-linecap:butt; stroke-linejoin:round; stroke-width:2; stroke-opacity:0.1; fill:none\" points=\"\n",
       "  184.677,686.162 2352.76,686.162 \n",
       "  \"/>\n",
       "<polyline clip-path=\"url(#clip502)\" style=\"stroke:#000000; stroke-linecap:butt; stroke-linejoin:round; stroke-width:2; stroke-opacity:0.1; fill:none\" points=\"\n",
       "  184.677,478.75 2352.76,478.75 \n",
       "  \"/>\n",
       "<polyline clip-path=\"url(#clip502)\" style=\"stroke:#000000; stroke-linecap:butt; stroke-linejoin:round; stroke-width:2; stroke-opacity:0.1; fill:none\" points=\"\n",
       "  184.677,271.337 2352.76,271.337 \n",
       "  \"/>\n",
       "<polyline clip-path=\"url(#clip502)\" style=\"stroke:#000000; stroke-linecap:butt; stroke-linejoin:round; stroke-width:2; stroke-opacity:0.1; fill:none\" points=\"\n",
       "  184.677,63.9246 2352.76,63.9246 \n",
       "  \"/>\n",
       "<polyline clip-path=\"url(#clip500)\" style=\"stroke:#000000; stroke-linecap:butt; stroke-linejoin:round; stroke-width:4; stroke-opacity:1; fill:none\" points=\"\n",
       "  184.677,1486.45 184.677,47.2441 \n",
       "  \"/>\n",
       "<polyline clip-path=\"url(#clip500)\" style=\"stroke:#000000; stroke-linecap:butt; stroke-linejoin:round; stroke-width:4; stroke-opacity:1; fill:none\" points=\"\n",
       "  184.677,1308.4 203.574,1308.4 \n",
       "  \"/>\n",
       "<polyline clip-path=\"url(#clip500)\" style=\"stroke:#000000; stroke-linecap:butt; stroke-linejoin:round; stroke-width:4; stroke-opacity:1; fill:none\" points=\"\n",
       "  184.677,1100.99 203.574,1100.99 \n",
       "  \"/>\n",
       "<polyline clip-path=\"url(#clip500)\" style=\"stroke:#000000; stroke-linecap:butt; stroke-linejoin:round; stroke-width:4; stroke-opacity:1; fill:none\" points=\"\n",
       "  184.677,893.575 203.574,893.575 \n",
       "  \"/>\n",
       "<polyline clip-path=\"url(#clip500)\" style=\"stroke:#000000; stroke-linecap:butt; stroke-linejoin:round; stroke-width:4; stroke-opacity:1; fill:none\" points=\"\n",
       "  184.677,686.162 203.574,686.162 \n",
       "  \"/>\n",
       "<polyline clip-path=\"url(#clip500)\" style=\"stroke:#000000; stroke-linecap:butt; stroke-linejoin:round; stroke-width:4; stroke-opacity:1; fill:none\" points=\"\n",
       "  184.677,478.75 203.574,478.75 \n",
       "  \"/>\n",
       "<polyline clip-path=\"url(#clip500)\" style=\"stroke:#000000; stroke-linecap:butt; stroke-linejoin:round; stroke-width:4; stroke-opacity:1; fill:none\" points=\"\n",
       "  184.677,271.337 203.574,271.337 \n",
       "  \"/>\n",
       "<polyline clip-path=\"url(#clip500)\" style=\"stroke:#000000; stroke-linecap:butt; stroke-linejoin:round; stroke-width:4; stroke-opacity:1; fill:none\" points=\"\n",
       "  184.677,63.9246 203.574,63.9246 \n",
       "  \"/>\n",
       "<path clip-path=\"url(#clip500)\" d=\"M51.6634 1321.75 L59.3023 1321.75 L59.3023 1295.38 L50.9921 1297.05 L50.9921 1292.79 L59.256 1291.12 L63.9319 1291.12 L63.9319 1321.75 L71.5707 1321.75 L71.5707 1325.68 L51.6634 1325.68 L51.6634 1321.75 Z\" fill=\"#000000\" fill-rule=\"evenodd\" fill-opacity=\"1\" /><path clip-path=\"url(#clip500)\" d=\"M93.8623 1295.19 L82.0568 1313.64 L93.8623 1313.64 L93.8623 1295.19 M92.6354 1291.12 L98.515 1291.12 L98.515 1313.64 L103.446 1313.64 L103.446 1317.53 L98.515 1317.53 L98.515 1325.68 L93.8623 1325.68 L93.8623 1317.53 L78.2605 1317.53 L78.2605 1313.02 L92.6354 1291.12 Z\" fill=\"#000000\" fill-rule=\"evenodd\" fill-opacity=\"1\" /><path clip-path=\"url(#clip500)\" d=\"M111.177 1319.8 L116.061 1319.8 L116.061 1325.68 L111.177 1325.68 L111.177 1319.8 Z\" fill=\"#000000\" fill-rule=\"evenodd\" fill-opacity=\"1\" /><path clip-path=\"url(#clip500)\" d=\"M139.094 1295.19 L127.288 1313.64 L139.094 1313.64 L139.094 1295.19 M137.867 1291.12 L143.746 1291.12 L143.746 1313.64 L148.677 1313.64 L148.677 1317.53 L143.746 1317.53 L143.746 1325.68 L139.094 1325.68 L139.094 1317.53 L123.492 1317.53 L123.492 1313.02 L137.867 1291.12 Z\" fill=\"#000000\" fill-rule=\"evenodd\" fill-opacity=\"1\" /><path clip-path=\"url(#clip500)\" d=\"M51.9875 1114.33 L59.6263 1114.33 L59.6263 1087.97 L51.3162 1089.63 L51.3162 1085.37 L59.58 1083.71 L64.2559 1083.71 L64.2559 1114.33 L71.8948 1114.33 L71.8948 1118.27 L51.9875 1118.27 L51.9875 1114.33 Z\" fill=\"#000000\" fill-rule=\"evenodd\" fill-opacity=\"1\" /><path clip-path=\"url(#clip500)\" d=\"M94.1863 1087.78 L82.3808 1106.23 L94.1863 1106.23 L94.1863 1087.78 M92.9595 1083.71 L98.8391 1083.71 L98.8391 1106.23 L103.77 1106.23 L103.77 1110.12 L98.8391 1110.12 L98.8391 1118.27 L94.1863 1118.27 L94.1863 1110.12 L78.5846 1110.12 L78.5846 1105.61 L92.9595 1083.71 Z\" fill=\"#000000\" fill-rule=\"evenodd\" fill-opacity=\"1\" /><path clip-path=\"url(#clip500)\" d=\"M111.501 1112.39 L116.385 1112.39 L116.385 1118.27 L111.501 1118.27 L111.501 1112.39 Z\" fill=\"#000000\" fill-rule=\"evenodd\" fill-opacity=\"1\" /><path clip-path=\"url(#clip500)\" d=\"M137.149 1099.12 Q134.001 1099.12 132.149 1101.28 Q130.32 1103.43 130.32 1107.18 Q130.32 1110.91 132.149 1113.08 Q134.001 1115.24 137.149 1115.24 Q140.297 1115.24 142.126 1113.08 Q143.978 1110.91 143.978 1107.18 Q143.978 1103.43 142.126 1101.28 Q140.297 1099.12 137.149 1099.12 M146.431 1084.47 L146.431 1088.73 Q144.672 1087.9 142.867 1087.46 Q141.084 1087.02 139.325 1087.02 Q134.695 1087.02 132.242 1090.14 Q129.811 1093.27 129.464 1099.59 Q130.83 1097.57 132.89 1096.51 Q134.95 1095.42 137.427 1095.42 Q142.635 1095.42 145.644 1098.59 Q148.677 1101.74 148.677 1107.18 Q148.677 1112.5 145.529 1115.72 Q142.381 1118.94 137.149 1118.94 Q131.154 1118.94 127.982 1114.36 Q124.811 1109.75 124.811 1101.02 Q124.811 1092.83 128.7 1087.97 Q132.589 1083.08 139.14 1083.08 Q140.899 1083.08 142.681 1083.43 Q144.487 1083.78 146.431 1084.47 Z\" fill=\"#000000\" fill-rule=\"evenodd\" fill-opacity=\"1\" /><path clip-path=\"url(#clip500)\" d=\"M52.2421 906.92 L59.881 906.92 L59.881 880.554 L51.5708 882.221 L51.5708 877.962 L59.8347 876.295 L64.5106 876.295 L64.5106 906.92 L72.1494 906.92 L72.1494 910.855 L52.2421 910.855 L52.2421 906.92 Z\" fill=\"#000000\" fill-rule=\"evenodd\" fill-opacity=\"1\" /><path clip-path=\"url(#clip500)\" d=\"M94.441 880.369 L82.6355 898.818 L94.441 898.818 L94.441 880.369 M93.2141 876.295 L99.0937 876.295 L99.0937 898.818 L104.024 898.818 L104.024 902.707 L99.0937 902.707 L99.0937 910.855 L94.441 910.855 L94.441 902.707 L78.8392 902.707 L78.8392 898.193 L93.2141 876.295 Z\" fill=\"#000000\" fill-rule=\"evenodd\" fill-opacity=\"1\" /><path clip-path=\"url(#clip500)\" d=\"M111.756 904.975 L116.64 904.975 L116.64 910.855 L111.756 910.855 L111.756 904.975 Z\" fill=\"#000000\" fill-rule=\"evenodd\" fill-opacity=\"1\" /><path clip-path=\"url(#clip500)\" d=\"M136.825 894.443 Q133.492 894.443 131.57 896.226 Q129.672 898.008 129.672 901.133 Q129.672 904.258 131.57 906.04 Q133.492 907.823 136.825 907.823 Q140.158 907.823 142.08 906.04 Q144.001 904.235 144.001 901.133 Q144.001 898.008 142.08 896.226 Q140.181 894.443 136.825 894.443 M132.149 892.452 Q129.14 891.712 127.45 889.651 Q125.783 887.591 125.783 884.628 Q125.783 880.485 128.723 878.077 Q131.686 875.67 136.825 875.67 Q141.987 875.67 144.927 878.077 Q147.867 880.485 147.867 884.628 Q147.867 887.591 146.177 889.651 Q144.51 891.712 141.524 892.452 Q144.904 893.239 146.779 895.531 Q148.677 897.823 148.677 901.133 Q148.677 906.156 145.598 908.841 Q142.543 911.526 136.825 911.526 Q131.107 911.526 128.029 908.841 Q124.973 906.156 124.973 901.133 Q124.973 897.823 126.871 895.531 Q128.769 893.239 132.149 892.452 M130.436 885.068 Q130.436 887.753 132.103 889.258 Q133.793 890.763 136.825 890.763 Q139.834 890.763 141.524 889.258 Q143.237 887.753 143.237 885.068 Q143.237 882.383 141.524 880.878 Q139.834 879.374 136.825 879.374 Q133.793 879.374 132.103 880.878 Q130.436 882.383 130.436 885.068 Z\" fill=\"#000000\" fill-rule=\"evenodd\" fill-opacity=\"1\" /><path clip-path=\"url(#clip500)\" d=\"M52.1495 699.507 L59.7884 699.507 L59.7884 673.142 L51.4782 674.808 L51.4782 670.549 L59.7421 668.882 L64.418 668.882 L64.418 699.507 L72.0568 699.507 L72.0568 703.442 L52.1495 703.442 L52.1495 699.507 Z\" fill=\"#000000\" fill-rule=\"evenodd\" fill-opacity=\"1\" /><path clip-path=\"url(#clip500)\" d=\"M81.5475 668.882 L99.9039 668.882 L99.9039 672.818 L85.8299 672.818 L85.8299 681.29 Q86.8484 680.943 87.8669 680.781 Q88.8854 680.595 89.904 680.595 Q95.691 680.595 99.0706 683.767 Q102.45 686.938 102.45 692.355 Q102.45 697.933 98.978 701.035 Q95.5058 704.114 89.1864 704.114 Q87.0105 704.114 84.7419 703.743 Q82.4966 703.373 80.0892 702.632 L80.0892 697.933 Q82.1725 699.067 84.3947 699.623 Q86.6169 700.179 89.0938 700.179 Q93.0984 700.179 95.4363 698.072 Q97.7743 695.966 97.7743 692.355 Q97.7743 688.743 95.4363 686.637 Q93.0984 684.531 89.0938 684.531 Q87.2188 684.531 85.3438 684.947 Q83.492 685.364 81.5475 686.243 L81.5475 668.882 Z\" fill=\"#000000\" fill-rule=\"evenodd\" fill-opacity=\"1\" /><path clip-path=\"url(#clip500)\" d=\"M111.663 697.563 L116.547 697.563 L116.547 703.442 L111.663 703.442 L111.663 697.563 Z\" fill=\"#000000\" fill-rule=\"evenodd\" fill-opacity=\"1\" /><path clip-path=\"url(#clip500)\" d=\"M136.732 671.961 Q133.121 671.961 131.293 675.526 Q129.487 679.068 129.487 686.197 Q129.487 693.304 131.293 696.868 Q133.121 700.41 136.732 700.41 Q140.367 700.41 142.172 696.868 Q144.001 693.304 144.001 686.197 Q144.001 679.068 142.172 675.526 Q140.367 671.961 136.732 671.961 M136.732 668.257 Q142.543 668.257 145.598 672.864 Q148.677 677.447 148.677 686.197 Q148.677 694.924 145.598 699.53 Q142.543 704.114 136.732 704.114 Q130.922 704.114 127.844 699.53 Q124.788 694.924 124.788 686.197 Q124.788 677.447 127.844 672.864 Q130.922 668.257 136.732 668.257 Z\" fill=\"#000000\" fill-rule=\"evenodd\" fill-opacity=\"1\" /><path clip-path=\"url(#clip500)\" d=\"M53.7467 492.095 L61.3856 492.095 L61.3856 465.729 L53.0754 467.396 L53.0754 463.136 L61.3393 461.47 L66.0152 461.47 L66.0152 492.095 L73.654 492.095 L73.654 496.03 L53.7467 496.03 L53.7467 492.095 Z\" fill=\"#000000\" fill-rule=\"evenodd\" fill-opacity=\"1\" /><path clip-path=\"url(#clip500)\" d=\"M83.1447 461.47 L101.501 461.47 L101.501 465.405 L87.4271 465.405 L87.4271 473.877 Q88.4456 473.53 89.4641 473.368 Q90.4827 473.183 91.5012 473.183 Q97.2882 473.183 100.668 476.354 Q104.047 479.525 104.047 484.942 Q104.047 490.521 100.575 493.622 Q97.103 496.701 90.7836 496.701 Q88.6077 496.701 86.3392 496.331 Q84.0938 495.96 81.6864 495.22 L81.6864 490.521 Q83.7697 491.655 85.9919 492.21 Q88.2141 492.766 90.691 492.766 Q94.6956 492.766 97.0335 490.659 Q99.3715 488.553 99.3715 484.942 Q99.3715 481.331 97.0335 479.224 Q94.6956 477.118 90.691 477.118 Q88.816 477.118 86.941 477.535 Q85.0892 477.951 83.1447 478.831 L83.1447 461.47 Z\" fill=\"#000000\" fill-rule=\"evenodd\" fill-opacity=\"1\" /><path clip-path=\"url(#clip500)\" d=\"M113.26 490.15 L118.145 490.15 L118.145 496.03 L113.26 496.03 L113.26 490.15 Z\" fill=\"#000000\" fill-rule=\"evenodd\" fill-opacity=\"1\" /><path clip-path=\"url(#clip500)\" d=\"M132.357 492.095 L148.677 492.095 L148.677 496.03 L126.732 496.03 L126.732 492.095 Q129.394 489.34 133.978 484.71 Q138.584 480.058 139.765 478.715 Q142.01 476.192 142.89 474.456 Q143.793 472.697 143.793 471.007 Q143.793 468.252 141.848 466.516 Q139.927 464.78 136.825 464.78 Q134.626 464.78 132.172 465.544 Q129.742 466.308 126.964 467.859 L126.964 463.136 Q129.788 462.002 132.242 461.424 Q134.695 460.845 136.732 460.845 Q142.103 460.845 145.297 463.53 Q148.492 466.215 148.492 470.706 Q148.492 472.836 147.681 474.757 Q146.894 476.655 144.788 479.248 Q144.209 479.919 141.107 483.136 Q138.006 486.331 132.357 492.095 Z\" fill=\"#000000\" fill-rule=\"evenodd\" fill-opacity=\"1\" /><path clip-path=\"url(#clip500)\" d=\"M51.6634 284.682 L59.3023 284.682 L59.3023 258.316 L50.9921 259.983 L50.9921 255.724 L59.256 254.057 L63.9319 254.057 L63.9319 284.682 L71.5707 284.682 L71.5707 288.617 L51.6634 288.617 L51.6634 284.682 Z\" fill=\"#000000\" fill-rule=\"evenodd\" fill-opacity=\"1\" /><path clip-path=\"url(#clip500)\" d=\"M81.0614 254.057 L99.4178 254.057 L99.4178 257.992 L85.3438 257.992 L85.3438 266.465 Q86.3623 266.117 87.3808 265.955 Q88.3993 265.77 89.4178 265.77 Q95.2049 265.77 98.5845 268.941 Q101.964 272.113 101.964 277.529 Q101.964 283.108 98.4919 286.21 Q95.0197 289.289 88.7003 289.289 Q86.5243 289.289 84.2558 288.918 Q82.0105 288.548 79.6031 287.807 L79.6031 283.108 Q81.6864 284.242 83.9086 284.798 Q86.1308 285.353 88.6077 285.353 Q92.6123 285.353 94.9502 283.247 Q97.2882 281.14 97.2882 277.529 Q97.2882 273.918 94.9502 271.812 Q92.6123 269.705 88.6077 269.705 Q86.7327 269.705 84.8577 270.122 Q83.0058 270.539 81.0614 271.418 L81.0614 254.057 Z\" fill=\"#000000\" fill-rule=\"evenodd\" fill-opacity=\"1\" /><path clip-path=\"url(#clip500)\" d=\"M111.177 282.738 L116.061 282.738 L116.061 288.617 L111.177 288.617 L111.177 282.738 Z\" fill=\"#000000\" fill-rule=\"evenodd\" fill-opacity=\"1\" /><path clip-path=\"url(#clip500)\" d=\"M139.094 258.131 L127.288 276.58 L139.094 276.58 L139.094 258.131 M137.867 254.057 L143.746 254.057 L143.746 276.58 L148.677 276.58 L148.677 280.469 L143.746 280.469 L143.746 288.617 L139.094 288.617 L139.094 280.469 L123.492 280.469 L123.492 275.955 L137.867 254.057 Z\" fill=\"#000000\" fill-rule=\"evenodd\" fill-opacity=\"1\" /><path clip-path=\"url(#clip500)\" d=\"M51.9875 77.2694 L59.6263 77.2694 L59.6263 50.9038 L51.3162 52.5705 L51.3162 48.3113 L59.58 46.6446 L64.2559 46.6446 L64.2559 77.2694 L71.8948 77.2694 L71.8948 81.2046 L51.9875 81.2046 L51.9875 77.2694 Z\" fill=\"#000000\" fill-rule=\"evenodd\" fill-opacity=\"1\" /><path clip-path=\"url(#clip500)\" d=\"M81.3855 46.6446 L99.7419 46.6446 L99.7419 50.5798 L85.6679 50.5798 L85.6679 59.0519 Q86.6864 58.7047 87.7049 58.5427 Q88.7234 58.3575 89.7419 58.3575 Q95.5289 58.3575 98.9085 61.5288 Q102.288 64.7001 102.288 70.1167 Q102.288 75.6954 98.8159 78.7972 Q95.3437 81.8759 89.0243 81.8759 Q86.8484 81.8759 84.5799 81.5055 Q82.3346 81.1352 79.9272 80.3944 L79.9272 75.6954 Q82.0105 76.8296 84.2327 77.3852 Q86.4549 77.9407 88.9317 77.9407 Q92.9363 77.9407 95.2743 75.8343 Q97.6122 73.7278 97.6122 70.1167 Q97.6122 66.5056 95.2743 64.3991 Q92.9363 62.2927 88.9317 62.2927 Q87.0567 62.2927 85.1818 62.7093 Q83.3299 63.126 81.3855 64.0056 L81.3855 46.6446 Z\" fill=\"#000000\" fill-rule=\"evenodd\" fill-opacity=\"1\" /><path clip-path=\"url(#clip500)\" d=\"M111.501 75.325 L116.385 75.325 L116.385 81.2046 L111.501 81.2046 L111.501 75.325 Z\" fill=\"#000000\" fill-rule=\"evenodd\" fill-opacity=\"1\" /><path clip-path=\"url(#clip500)\" d=\"M137.149 62.0612 Q134.001 62.0612 132.149 64.214 Q130.32 66.3667 130.32 70.1167 Q130.32 73.8435 132.149 76.0194 Q134.001 78.1722 137.149 78.1722 Q140.297 78.1722 142.126 76.0194 Q143.978 73.8435 143.978 70.1167 Q143.978 66.3667 142.126 64.214 Q140.297 62.0612 137.149 62.0612 M146.431 47.4085 L146.431 51.6677 Q144.672 50.8344 142.867 50.3946 Q141.084 49.9548 139.325 49.9548 Q134.695 49.9548 132.242 53.0798 Q129.811 56.2047 129.464 62.5241 Q130.83 60.5103 132.89 59.4455 Q134.95 58.3575 137.427 58.3575 Q142.635 58.3575 145.644 61.5288 Q148.677 64.6769 148.677 70.1167 Q148.677 75.4407 145.529 78.6583 Q142.381 81.8759 137.149 81.8759 Q131.154 81.8759 127.982 77.2926 Q124.811 72.6861 124.811 63.9593 Q124.811 55.7649 128.7 50.9038 Q132.589 46.0196 139.14 46.0196 Q140.899 46.0196 142.681 46.3668 Q144.487 46.714 146.431 47.4085 Z\" fill=\"#000000\" fill-rule=\"evenodd\" fill-opacity=\"1\" /><polyline clip-path=\"url(#clip502)\" style=\"stroke:#0000ff; stroke-linecap:butt; stroke-linejoin:round; stroke-width:8; stroke-opacity:0.8; fill:none\" points=\"\n",
       "  246.038,1445.72 275.156,1400.92 304.595,1379.81 334.034,1345.52 362.833,1323.1 391.952,1302.8 421.39,1263.34 450.829,1238.9 479.628,1216.59 508.747,1170.85 \n",
       "  538.186,1135.28 567.625,1082.35 596.423,1064.08 625.542,1028.1 654.981,999.751 684.42,980.012 713.539,935.742 742.658,910.49 772.096,875.645 801.535,894.711 \n",
       "  830.334,868.285 859.453,872.024 888.892,844.703 918.33,826.995 947.129,797.498 976.248,771.754 1005.69,757.011 1035.13,747.548 1063.92,713.768 1093.04,691.793 \n",
       "  1122.48,666.115 1151.92,633.362 1181.04,616.417 1210.16,589.981 1239.6,570.451 1269.04,553.927 1297.84,525.569 1326.95,494.232 1356.39,471.919 1385.83,468.434 \n",
       "  1414.63,443.265 1443.75,431.606 1473.19,420.493 1502.63,414.13 1531.43,382.936 1560.54,376.449 1589.98,353.082 1619.42,327.482 1648.54,316.296 1677.66,310.358 \n",
       "  1707.1,291.524 1736.54,287.158 1765.34,265.529 1794.46,249.069 1823.89,235.944 1853.33,215.336 1882.13,206.071 1911.25,192.704 1940.69,161.274 1970.13,155.606 \n",
       "  1998.93,162.658 2028.05,127.247 2057.48,120.322 2086.92,120.591 2116.04,133.153 2145.16,295.098 2174.6,203.801 2204.04,134.818 2232.84,121.637 2261.96,121.878 \n",
       "  2291.4,87.9763 \n",
       "  \"/>\n",
       "</svg>\n"
      ]
     },
     "execution_count": 27,
     "metadata": {},
     "output_type": "execute_result"
    }
   ],
   "source": [
    "plot(date_sa, log.(gdp), legend = false, lw = 2, color = :blue, alpha = 0.8)"
   ]
  },
  {
   "cell_type": "markdown",
   "metadata": {
    "slideshow": {
     "slide_type": "slide"
    }
   },
   "source": [
    "## Plotting the data (inflation)"
   ]
  },
  {
   "cell_type": "code",
   "execution_count": 43,
   "metadata": {
    "slideshow": {
     "slide_type": "fragment"
    }
   },
   "outputs": [
    {
     "data": {
      "image/svg+xml": [
       "<?xml version=\"1.0\" encoding=\"utf-8\"?>\n",
       "<svg xmlns=\"http://www.w3.org/2000/svg\" xmlns:xlink=\"http://www.w3.org/1999/xlink\" width=\"600\" height=\"400\" viewBox=\"0 0 2400 1600\">\n",
       "<defs>\n",
       "  <clipPath id=\"clip940\">\n",
       "    <rect x=\"0\" y=\"0\" width=\"2400\" height=\"1600\"/>\n",
       "  </clipPath>\n",
       "</defs>\n",
       "<path clip-path=\"url(#clip940)\" d=\"\n",
       "M0 1600 L2400 1600 L2400 0 L0 0  Z\n",
       "  \" fill=\"#ffffff\" fill-rule=\"evenodd\" fill-opacity=\"1\"/>\n",
       "<defs>\n",
       "  <clipPath id=\"clip941\">\n",
       "    <rect x=\"480\" y=\"0\" width=\"1681\" height=\"1600\"/>\n",
       "  </clipPath>\n",
       "</defs>\n",
       "<path clip-path=\"url(#clip940)\" d=\"\n",
       "M184.191 1486.45 L2352.76 1486.45 L2352.76 47.2441 L184.191 47.2441  Z\n",
       "  \" fill=\"#ffffff\" fill-rule=\"evenodd\" fill-opacity=\"1\"/>\n",
       "<defs>\n",
       "  <clipPath id=\"clip942\">\n",
       "    <rect x=\"184\" y=\"47\" width=\"2170\" height=\"1440\"/>\n",
       "  </clipPath>\n",
       "</defs>\n",
       "<polyline clip-path=\"url(#clip942)\" style=\"stroke:#000000; stroke-linecap:butt; stroke-linejoin:round; stroke-width:2; stroke-opacity:0.1; fill:none\" points=\"\n",
       "  216.76,1486.45 216.76,47.2441 \n",
       "  \"/>\n",
       "<polyline clip-path=\"url(#clip942)\" style=\"stroke:#000000; stroke-linecap:butt; stroke-linejoin:round; stroke-width:2; stroke-opacity:0.1; fill:none\" points=\"\n",
       "  801.507,1486.45 801.507,47.2441 \n",
       "  \"/>\n",
       "<polyline clip-path=\"url(#clip942)\" style=\"stroke:#000000; stroke-linecap:butt; stroke-linejoin:round; stroke-width:2; stroke-opacity:0.1; fill:none\" points=\"\n",
       "  1385.93,1486.45 1385.93,47.2441 \n",
       "  \"/>\n",
       "<polyline clip-path=\"url(#clip942)\" style=\"stroke:#000000; stroke-linecap:butt; stroke-linejoin:round; stroke-width:2; stroke-opacity:0.1; fill:none\" points=\"\n",
       "  1970.36,1486.45 1970.36,47.2441 \n",
       "  \"/>\n",
       "<polyline clip-path=\"url(#clip940)\" style=\"stroke:#000000; stroke-linecap:butt; stroke-linejoin:round; stroke-width:4; stroke-opacity:1; fill:none\" points=\"\n",
       "  184.191,1486.45 2352.76,1486.45 \n",
       "  \"/>\n",
       "<polyline clip-path=\"url(#clip940)\" style=\"stroke:#000000; stroke-linecap:butt; stroke-linejoin:round; stroke-width:4; stroke-opacity:1; fill:none\" points=\"\n",
       "  216.76,1486.45 216.76,1467.55 \n",
       "  \"/>\n",
       "<polyline clip-path=\"url(#clip940)\" style=\"stroke:#000000; stroke-linecap:butt; stroke-linejoin:round; stroke-width:4; stroke-opacity:1; fill:none\" points=\"\n",
       "  801.507,1486.45 801.507,1467.55 \n",
       "  \"/>\n",
       "<polyline clip-path=\"url(#clip940)\" style=\"stroke:#000000; stroke-linecap:butt; stroke-linejoin:round; stroke-width:4; stroke-opacity:1; fill:none\" points=\"\n",
       "  1385.93,1486.45 1385.93,1467.55 \n",
       "  \"/>\n",
       "<polyline clip-path=\"url(#clip940)\" style=\"stroke:#000000; stroke-linecap:butt; stroke-linejoin:round; stroke-width:4; stroke-opacity:1; fill:none\" points=\"\n",
       "  1970.36,1486.45 1970.36,1467.55 \n",
       "  \"/>\n",
       "<path clip-path=\"url(#clip940)\" d=\"M88.5545 1544.91 L104.874 1544.91 L104.874 1548.85 L82.9296 1548.85 L82.9296 1544.91 Q85.5916 1542.16 90.1749 1537.53 Q94.7814 1532.88 95.9619 1531.53 Q98.2073 1529.01 99.0869 1527.27 Q99.9897 1525.51 99.9897 1523.82 Q99.9897 1521.07 98.0452 1519.33 Q96.1239 1517.6 93.0221 1517.6 Q90.823 1517.6 88.3694 1518.36 Q85.9388 1519.13 83.161 1520.68 L83.161 1515.95 Q85.9851 1514.82 88.4388 1514.24 Q90.8925 1513.66 92.9295 1513.66 Q98.2999 1513.66 101.494 1516.35 Q104.689 1519.03 104.689 1523.52 Q104.689 1525.65 103.879 1527.57 Q103.091 1529.47 100.985 1532.07 Q100.406 1532.74 97.3045 1535.95 Q94.2027 1539.15 88.5545 1544.91 Z\" fill=\"#000000\" fill-rule=\"evenodd\" fill-opacity=\"1\" /><path clip-path=\"url(#clip940)\" d=\"M124.689 1517.37 Q121.078 1517.37 119.249 1520.93 Q117.443 1524.47 117.443 1531.6 Q117.443 1538.71 119.249 1542.27 Q121.078 1545.82 124.689 1545.82 Q128.323 1545.82 130.128 1542.27 Q131.957 1538.71 131.957 1531.6 Q131.957 1524.47 130.128 1520.93 Q128.323 1517.37 124.689 1517.37 M124.689 1513.66 Q130.499 1513.66 133.554 1518.27 Q136.633 1522.85 136.633 1531.6 Q136.633 1540.33 133.554 1544.94 Q130.499 1549.52 124.689 1549.52 Q118.878 1549.52 115.8 1544.94 Q112.744 1540.33 112.744 1531.6 Q112.744 1522.85 115.8 1518.27 Q118.878 1513.66 124.689 1513.66 Z\" fill=\"#000000\" fill-rule=\"evenodd\" fill-opacity=\"1\" /><path clip-path=\"url(#clip940)\" d=\"M154.85 1517.37 Q151.239 1517.37 149.411 1520.93 Q147.605 1524.47 147.605 1531.6 Q147.605 1538.71 149.411 1542.27 Q151.239 1545.82 154.85 1545.82 Q158.485 1545.82 160.29 1542.27 Q162.119 1538.71 162.119 1531.6 Q162.119 1524.47 160.29 1520.93 Q158.485 1517.37 154.85 1517.37 M154.85 1513.66 Q160.661 1513.66 163.716 1518.27 Q166.795 1522.85 166.795 1531.6 Q166.795 1540.33 163.716 1544.94 Q160.661 1549.52 154.85 1549.52 Q149.04 1549.52 145.962 1544.94 Q142.906 1540.33 142.906 1531.6 Q142.906 1522.85 145.962 1518.27 Q149.04 1513.66 154.85 1513.66 Z\" fill=\"#000000\" fill-rule=\"evenodd\" fill-opacity=\"1\" /><path clip-path=\"url(#clip940)\" d=\"M187.86 1518.36 L176.054 1536.81 L187.86 1536.81 L187.86 1518.36 M186.633 1514.29 L192.512 1514.29 L192.512 1536.81 L197.443 1536.81 L197.443 1540.7 L192.512 1540.7 L192.512 1548.85 L187.86 1548.85 L187.86 1540.7 L172.258 1540.7 L172.258 1536.19 L186.633 1514.29 Z\" fill=\"#000000\" fill-rule=\"evenodd\" fill-opacity=\"1\" /><path clip-path=\"url(#clip940)\" d=\"M202.42 1533.96 L214.896 1533.96 L214.896 1537.76 L202.42 1537.76 L202.42 1533.96 Z\" fill=\"#000000\" fill-rule=\"evenodd\" fill-opacity=\"1\" /><path clip-path=\"url(#clip940)\" d=\"M232.281 1517.37 Q228.67 1517.37 226.841 1520.93 Q225.035 1524.47 225.035 1531.6 Q225.035 1538.71 226.841 1542.27 Q228.67 1545.82 232.281 1545.82 Q235.915 1545.82 237.72 1542.27 Q239.549 1538.71 239.549 1531.6 Q239.549 1524.47 237.72 1520.93 Q235.915 1517.37 232.281 1517.37 M232.281 1513.66 Q238.091 1513.66 241.146 1518.27 Q244.225 1522.85 244.225 1531.6 Q244.225 1540.33 241.146 1544.94 Q238.091 1549.52 232.281 1549.52 Q226.47 1549.52 223.392 1544.94 Q220.336 1540.33 220.336 1531.6 Q220.336 1522.85 223.392 1518.27 Q226.47 1513.66 232.281 1513.66 Z\" fill=\"#000000\" fill-rule=\"evenodd\" fill-opacity=\"1\" /><path clip-path=\"url(#clip940)\" d=\"M253.253 1544.91 L260.892 1544.91 L260.892 1518.55 L252.581 1520.21 L252.581 1515.95 L260.845 1514.29 L265.521 1514.29 L265.521 1544.91 L273.16 1544.91 L273.16 1548.85 L253.253 1548.85 L253.253 1544.91 Z\" fill=\"#000000\" fill-rule=\"evenodd\" fill-opacity=\"1\" /><path clip-path=\"url(#clip940)\" d=\"M279.85 1533.96 L292.327 1533.96 L292.327 1537.76 L279.85 1537.76 L279.85 1533.96 Z\" fill=\"#000000\" fill-rule=\"evenodd\" fill-opacity=\"1\" /><path clip-path=\"url(#clip940)\" d=\"M309.711 1517.37 Q306.1 1517.37 304.271 1520.93 Q302.465 1524.47 302.465 1531.6 Q302.465 1538.71 304.271 1542.27 Q306.1 1545.82 309.711 1545.82 Q313.345 1545.82 315.151 1542.27 Q316.979 1538.71 316.979 1531.6 Q316.979 1524.47 315.151 1520.93 Q313.345 1517.37 309.711 1517.37 M309.711 1513.66 Q315.521 1513.66 318.576 1518.27 Q321.655 1522.85 321.655 1531.6 Q321.655 1540.33 318.576 1544.94 Q315.521 1549.52 309.711 1549.52 Q303.901 1549.52 300.822 1544.94 Q297.766 1540.33 297.766 1531.6 Q297.766 1522.85 300.822 1518.27 Q303.901 1513.66 309.711 1513.66 Z\" fill=\"#000000\" fill-rule=\"evenodd\" fill-opacity=\"1\" /><path clip-path=\"url(#clip940)\" d=\"M330.683 1544.91 L338.322 1544.91 L338.322 1518.55 L330.012 1520.21 L330.012 1515.95 L338.275 1514.29 L342.951 1514.29 L342.951 1544.91 L350.59 1544.91 L350.59 1548.85 L330.683 1548.85 L330.683 1544.91 Z\" fill=\"#000000\" fill-rule=\"evenodd\" fill-opacity=\"1\" /><path clip-path=\"url(#clip940)\" d=\"M673.302 1544.91 L689.621 1544.91 L689.621 1548.85 L667.677 1548.85 L667.677 1544.91 Q670.339 1542.16 674.922 1537.53 Q679.529 1532.88 680.709 1531.53 Q682.955 1529.01 683.834 1527.27 Q684.737 1525.51 684.737 1523.82 Q684.737 1521.07 682.793 1519.33 Q680.871 1517.6 677.77 1517.6 Q675.571 1517.6 673.117 1518.36 Q670.686 1519.13 667.909 1520.68 L667.909 1515.95 Q670.733 1514.82 673.186 1514.24 Q675.64 1513.66 677.677 1513.66 Q683.047 1513.66 686.242 1516.35 Q689.436 1519.03 689.436 1523.52 Q689.436 1525.65 688.626 1527.57 Q687.839 1529.47 685.733 1532.07 Q685.154 1532.74 682.052 1535.95 Q678.95 1539.15 673.302 1544.91 Z\" fill=\"#000000\" fill-rule=\"evenodd\" fill-opacity=\"1\" /><path clip-path=\"url(#clip940)\" d=\"M709.436 1517.37 Q705.825 1517.37 703.996 1520.93 Q702.191 1524.47 702.191 1531.6 Q702.191 1538.71 703.996 1542.27 Q705.825 1545.82 709.436 1545.82 Q713.07 1545.82 714.876 1542.27 Q716.705 1538.71 716.705 1531.6 Q716.705 1524.47 714.876 1520.93 Q713.07 1517.37 709.436 1517.37 M709.436 1513.66 Q715.246 1513.66 718.302 1518.27 Q721.381 1522.85 721.381 1531.6 Q721.381 1540.33 718.302 1544.94 Q715.246 1549.52 709.436 1549.52 Q703.626 1549.52 700.547 1544.94 Q697.492 1540.33 697.492 1531.6 Q697.492 1522.85 700.547 1518.27 Q703.626 1513.66 709.436 1513.66 Z\" fill=\"#000000\" fill-rule=\"evenodd\" fill-opacity=\"1\" /><path clip-path=\"url(#clip940)\" d=\"M739.598 1517.37 Q735.987 1517.37 734.158 1520.93 Q732.353 1524.47 732.353 1531.6 Q732.353 1538.71 734.158 1542.27 Q735.987 1545.82 739.598 1545.82 Q743.232 1545.82 745.038 1542.27 Q746.867 1538.71 746.867 1531.6 Q746.867 1524.47 745.038 1520.93 Q743.232 1517.37 739.598 1517.37 M739.598 1513.66 Q745.408 1513.66 748.464 1518.27 Q751.542 1522.85 751.542 1531.6 Q751.542 1540.33 748.464 1544.94 Q745.408 1549.52 739.598 1549.52 Q733.788 1549.52 730.709 1544.94 Q727.654 1540.33 727.654 1531.6 Q727.654 1522.85 730.709 1518.27 Q733.788 1513.66 739.598 1513.66 Z\" fill=\"#000000\" fill-rule=\"evenodd\" fill-opacity=\"1\" /><path clip-path=\"url(#clip940)\" d=\"M759.899 1548.13 L759.899 1543.87 Q761.658 1544.7 763.464 1545.14 Q765.269 1545.58 767.005 1545.58 Q771.635 1545.58 774.065 1542.48 Q776.519 1539.36 776.866 1533.01 Q775.524 1535.01 773.464 1536.07 Q771.403 1537.13 768.903 1537.13 Q763.718 1537.13 760.686 1534.01 Q757.677 1530.86 757.677 1525.42 Q757.677 1520.1 760.825 1516.88 Q763.973 1513.66 769.204 1513.66 Q775.2 1513.66 778.348 1518.27 Q781.519 1522.85 781.519 1531.6 Q781.519 1539.77 777.63 1544.66 Q773.765 1549.52 767.214 1549.52 Q765.454 1549.52 763.649 1549.17 Q761.843 1548.82 759.899 1548.13 M769.204 1533.48 Q772.352 1533.48 774.181 1531.32 Q776.033 1529.17 776.033 1525.42 Q776.033 1521.7 774.181 1519.54 Q772.352 1517.37 769.204 1517.37 Q766.056 1517.37 764.204 1519.54 Q762.376 1521.7 762.376 1525.42 Q762.376 1529.17 764.204 1531.32 Q766.056 1533.48 769.204 1533.48 Z\" fill=\"#000000\" fill-rule=\"evenodd\" fill-opacity=\"1\" /><path clip-path=\"url(#clip940)\" d=\"M787.167 1533.96 L799.644 1533.96 L799.644 1537.76 L787.167 1537.76 L787.167 1533.96 Z\" fill=\"#000000\" fill-rule=\"evenodd\" fill-opacity=\"1\" /><path clip-path=\"url(#clip940)\" d=\"M817.028 1517.37 Q813.417 1517.37 811.588 1520.93 Q809.783 1524.47 809.783 1531.6 Q809.783 1538.71 811.588 1542.27 Q813.417 1545.82 817.028 1545.82 Q820.662 1545.82 822.468 1542.27 Q824.297 1538.71 824.297 1531.6 Q824.297 1524.47 822.468 1520.93 Q820.662 1517.37 817.028 1517.37 M817.028 1513.66 Q822.838 1513.66 825.894 1518.27 Q828.973 1522.85 828.973 1531.6 Q828.973 1540.33 825.894 1544.94 Q822.838 1549.52 817.028 1549.52 Q811.218 1549.52 808.139 1544.94 Q805.084 1540.33 805.084 1531.6 Q805.084 1522.85 808.139 1518.27 Q811.218 1513.66 817.028 1513.66 Z\" fill=\"#000000\" fill-rule=\"evenodd\" fill-opacity=\"1\" /><path clip-path=\"url(#clip940)\" d=\"M838 1544.91 L845.639 1544.91 L845.639 1518.55 L837.329 1520.21 L837.329 1515.95 L845.593 1514.29 L850.269 1514.29 L850.269 1544.91 L857.908 1544.91 L857.908 1548.85 L838 1548.85 L838 1544.91 Z\" fill=\"#000000\" fill-rule=\"evenodd\" fill-opacity=\"1\" /><path clip-path=\"url(#clip940)\" d=\"M864.597 1533.96 L877.074 1533.96 L877.074 1537.76 L864.597 1537.76 L864.597 1533.96 Z\" fill=\"#000000\" fill-rule=\"evenodd\" fill-opacity=\"1\" /><path clip-path=\"url(#clip940)\" d=\"M894.458 1517.37 Q890.847 1517.37 889.019 1520.93 Q887.213 1524.47 887.213 1531.6 Q887.213 1538.71 889.019 1542.27 Q890.847 1545.82 894.458 1545.82 Q898.093 1545.82 899.898 1542.27 Q901.727 1538.71 901.727 1531.6 Q901.727 1524.47 899.898 1520.93 Q898.093 1517.37 894.458 1517.37 M894.458 1513.66 Q900.268 1513.66 903.324 1518.27 Q906.403 1522.85 906.403 1531.6 Q906.403 1540.33 903.324 1544.94 Q900.268 1549.52 894.458 1549.52 Q888.648 1549.52 885.569 1544.94 Q882.514 1540.33 882.514 1531.6 Q882.514 1522.85 885.569 1518.27 Q888.648 1513.66 894.458 1513.66 Z\" fill=\"#000000\" fill-rule=\"evenodd\" fill-opacity=\"1\" /><path clip-path=\"url(#clip940)\" d=\"M915.43 1544.91 L923.069 1544.91 L923.069 1518.55 L914.759 1520.21 L914.759 1515.95 L923.023 1514.29 L927.699 1514.29 L927.699 1544.91 L935.338 1544.91 L935.338 1548.85 L915.43 1548.85 L915.43 1544.91 Z\" fill=\"#000000\" fill-rule=\"evenodd\" fill-opacity=\"1\" /><path clip-path=\"url(#clip940)\" d=\"M1257.73 1544.91 L1274.05 1544.91 L1274.05 1548.85 L1252.1 1548.85 L1252.1 1544.91 Q1254.77 1542.16 1259.35 1537.53 Q1263.96 1532.88 1265.14 1531.53 Q1267.38 1529.01 1268.26 1527.27 Q1269.16 1525.51 1269.16 1523.82 Q1269.16 1521.07 1267.22 1519.33 Q1265.3 1517.6 1262.2 1517.6 Q1260 1517.6 1257.54 1518.36 Q1255.11 1519.13 1252.34 1520.68 L1252.34 1515.95 Q1255.16 1514.82 1257.61 1514.24 Q1260.07 1513.66 1262.1 1513.66 Q1267.47 1513.66 1270.67 1516.35 Q1273.86 1519.03 1273.86 1523.52 Q1273.86 1525.65 1273.05 1527.57 Q1272.27 1529.47 1270.16 1532.07 Q1269.58 1532.74 1266.48 1535.95 Q1263.38 1539.15 1257.73 1544.91 Z\" fill=\"#000000\" fill-rule=\"evenodd\" fill-opacity=\"1\" /><path clip-path=\"url(#clip940)\" d=\"M1293.86 1517.37 Q1290.25 1517.37 1288.42 1520.93 Q1286.62 1524.47 1286.62 1531.6 Q1286.62 1538.71 1288.42 1542.27 Q1290.25 1545.82 1293.86 1545.82 Q1297.5 1545.82 1299.3 1542.27 Q1301.13 1538.71 1301.13 1531.6 Q1301.13 1524.47 1299.3 1520.93 Q1297.5 1517.37 1293.86 1517.37 M1293.86 1513.66 Q1299.67 1513.66 1302.73 1518.27 Q1305.81 1522.85 1305.81 1531.6 Q1305.81 1540.33 1302.73 1544.94 Q1299.67 1549.52 1293.86 1549.52 Q1288.05 1549.52 1284.97 1544.94 Q1281.92 1540.33 1281.92 1531.6 Q1281.92 1522.85 1284.97 1518.27 Q1288.05 1513.66 1293.86 1513.66 Z\" fill=\"#000000\" fill-rule=\"evenodd\" fill-opacity=\"1\" /><path clip-path=\"url(#clip940)\" d=\"M1314.84 1544.91 L1322.47 1544.91 L1322.47 1518.55 L1314.16 1520.21 L1314.16 1515.95 L1322.43 1514.29 L1327.1 1514.29 L1327.1 1544.91 L1334.74 1544.91 L1334.74 1548.85 L1314.84 1548.85 L1314.84 1544.91 Z\" fill=\"#000000\" fill-rule=\"evenodd\" fill-opacity=\"1\" /><path clip-path=\"url(#clip940)\" d=\"M1357.03 1518.36 L1345.23 1536.81 L1357.03 1536.81 L1357.03 1518.36 M1355.81 1514.29 L1361.69 1514.29 L1361.69 1536.81 L1366.62 1536.81 L1366.62 1540.7 L1361.69 1540.7 L1361.69 1548.85 L1357.03 1548.85 L1357.03 1540.7 L1341.43 1540.7 L1341.43 1536.19 L1355.81 1514.29 Z\" fill=\"#000000\" fill-rule=\"evenodd\" fill-opacity=\"1\" /><path clip-path=\"url(#clip940)\" d=\"M1371.59 1533.96 L1384.07 1533.96 L1384.07 1537.76 L1371.59 1537.76 L1371.59 1533.96 Z\" fill=\"#000000\" fill-rule=\"evenodd\" fill-opacity=\"1\" /><path clip-path=\"url(#clip940)\" d=\"M1401.46 1517.37 Q1397.84 1517.37 1396.02 1520.93 Q1394.21 1524.47 1394.21 1531.6 Q1394.21 1538.71 1396.02 1542.27 Q1397.84 1545.82 1401.46 1545.82 Q1405.09 1545.82 1406.9 1542.27 Q1408.72 1538.71 1408.72 1531.6 Q1408.72 1524.47 1406.9 1520.93 Q1405.09 1517.37 1401.46 1517.37 M1401.46 1513.66 Q1407.27 1513.66 1410.32 1518.27 Q1413.4 1522.85 1413.4 1531.6 Q1413.4 1540.33 1410.32 1544.94 Q1407.27 1549.52 1401.46 1549.52 Q1395.65 1549.52 1392.57 1544.94 Q1389.51 1540.33 1389.51 1531.6 Q1389.51 1522.85 1392.57 1518.27 Q1395.65 1513.66 1401.46 1513.66 Z\" fill=\"#000000\" fill-rule=\"evenodd\" fill-opacity=\"1\" /><path clip-path=\"url(#clip940)\" d=\"M1422.43 1544.91 L1430.07 1544.91 L1430.07 1518.55 L1421.76 1520.21 L1421.76 1515.95 L1430.02 1514.29 L1434.7 1514.29 L1434.7 1544.91 L1442.34 1544.91 L1442.34 1548.85 L1422.43 1548.85 L1422.43 1544.91 Z\" fill=\"#000000\" fill-rule=\"evenodd\" fill-opacity=\"1\" /><path clip-path=\"url(#clip940)\" d=\"M1449.02 1533.96 L1461.5 1533.96 L1461.5 1537.76 L1449.02 1537.76 L1449.02 1533.96 Z\" fill=\"#000000\" fill-rule=\"evenodd\" fill-opacity=\"1\" /><path clip-path=\"url(#clip940)\" d=\"M1478.89 1517.37 Q1475.27 1517.37 1473.45 1520.93 Q1471.64 1524.47 1471.64 1531.6 Q1471.64 1538.71 1473.45 1542.27 Q1475.27 1545.82 1478.89 1545.82 Q1482.52 1545.82 1484.33 1542.27 Q1486.15 1538.71 1486.15 1531.6 Q1486.15 1524.47 1484.33 1520.93 Q1482.52 1517.37 1478.89 1517.37 M1478.89 1513.66 Q1484.7 1513.66 1487.75 1518.27 Q1490.83 1522.85 1490.83 1531.6 Q1490.83 1540.33 1487.75 1544.94 Q1484.7 1549.52 1478.89 1549.52 Q1473.08 1549.52 1470 1544.94 Q1466.94 1540.33 1466.94 1531.6 Q1466.94 1522.85 1470 1518.27 Q1473.08 1513.66 1478.89 1513.66 Z\" fill=\"#000000\" fill-rule=\"evenodd\" fill-opacity=\"1\" /><path clip-path=\"url(#clip940)\" d=\"M1499.86 1544.91 L1507.5 1544.91 L1507.5 1518.55 L1499.19 1520.21 L1499.19 1515.95 L1507.45 1514.29 L1512.13 1514.29 L1512.13 1544.91 L1519.77 1544.91 L1519.77 1548.85 L1499.86 1548.85 L1499.86 1544.91 Z\" fill=\"#000000\" fill-rule=\"evenodd\" fill-opacity=\"1\" /><path clip-path=\"url(#clip940)\" d=\"M1842.16 1544.91 L1858.48 1544.91 L1858.48 1548.85 L1836.53 1548.85 L1836.53 1544.91 Q1839.19 1542.16 1843.78 1537.53 Q1848.38 1532.88 1849.56 1531.53 Q1851.81 1529.01 1852.69 1527.27 Q1853.59 1525.51 1853.59 1523.82 Q1853.59 1521.07 1851.65 1519.33 Q1849.73 1517.6 1846.62 1517.6 Q1844.43 1517.6 1841.97 1518.36 Q1839.54 1519.13 1836.76 1520.68 L1836.76 1515.95 Q1839.59 1514.82 1842.04 1514.24 Q1844.49 1513.66 1846.53 1513.66 Q1851.9 1513.66 1855.1 1516.35 Q1858.29 1519.03 1858.29 1523.52 Q1858.29 1525.65 1857.48 1527.57 Q1856.69 1529.47 1854.59 1532.07 Q1854.01 1532.74 1850.91 1535.95 Q1847.81 1539.15 1842.16 1544.91 Z\" fill=\"#000000\" fill-rule=\"evenodd\" fill-opacity=\"1\" /><path clip-path=\"url(#clip940)\" d=\"M1878.29 1517.37 Q1874.68 1517.37 1872.85 1520.93 Q1871.05 1524.47 1871.05 1531.6 Q1871.05 1538.71 1872.85 1542.27 Q1874.68 1545.82 1878.29 1545.82 Q1881.93 1545.82 1883.73 1542.27 Q1885.56 1538.71 1885.56 1531.6 Q1885.56 1524.47 1883.73 1520.93 Q1881.93 1517.37 1878.29 1517.37 M1878.29 1513.66 Q1884.1 1513.66 1887.16 1518.27 Q1890.24 1522.85 1890.24 1531.6 Q1890.24 1540.33 1887.16 1544.94 Q1884.1 1549.52 1878.29 1549.52 Q1872.48 1549.52 1869.4 1544.94 Q1866.35 1540.33 1866.35 1531.6 Q1866.35 1522.85 1869.4 1518.27 Q1872.48 1513.66 1878.29 1513.66 Z\" fill=\"#000000\" fill-rule=\"evenodd\" fill-opacity=\"1\" /><path clip-path=\"url(#clip940)\" d=\"M1899.26 1544.91 L1906.9 1544.91 L1906.9 1518.55 L1898.59 1520.21 L1898.59 1515.95 L1906.86 1514.29 L1911.53 1514.29 L1911.53 1544.91 L1919.17 1544.91 L1919.17 1548.85 L1899.26 1548.85 L1899.26 1544.91 Z\" fill=\"#000000\" fill-rule=\"evenodd\" fill-opacity=\"1\" /><path clip-path=\"url(#clip940)\" d=\"M1928.75 1548.13 L1928.75 1543.87 Q1930.51 1544.7 1932.32 1545.14 Q1934.12 1545.58 1935.86 1545.58 Q1940.49 1545.58 1942.92 1542.48 Q1945.37 1539.36 1945.72 1533.01 Q1944.38 1535.01 1942.32 1536.07 Q1940.26 1537.13 1937.76 1537.13 Q1932.57 1537.13 1929.54 1534.01 Q1926.53 1530.86 1926.53 1525.42 Q1926.53 1520.1 1929.68 1516.88 Q1932.83 1513.66 1938.06 1513.66 Q1944.05 1513.66 1947.2 1518.27 Q1950.37 1522.85 1950.37 1531.6 Q1950.37 1539.77 1946.49 1544.66 Q1942.62 1549.52 1936.07 1549.52 Q1934.31 1549.52 1932.5 1549.17 Q1930.7 1548.82 1928.75 1548.13 M1938.06 1533.48 Q1941.21 1533.48 1943.04 1531.32 Q1944.89 1529.17 1944.89 1525.42 Q1944.89 1521.7 1943.04 1519.54 Q1941.21 1517.37 1938.06 1517.37 Q1934.91 1517.37 1933.06 1519.54 Q1931.23 1521.7 1931.23 1525.42 Q1931.23 1529.17 1933.06 1531.32 Q1934.91 1533.48 1938.06 1533.48 Z\" fill=\"#000000\" fill-rule=\"evenodd\" fill-opacity=\"1\" /><path clip-path=\"url(#clip940)\" d=\"M1956.02 1533.96 L1968.5 1533.96 L1968.5 1537.76 L1956.02 1537.76 L1956.02 1533.96 Z\" fill=\"#000000\" fill-rule=\"evenodd\" fill-opacity=\"1\" /><path clip-path=\"url(#clip940)\" d=\"M1985.88 1517.37 Q1982.27 1517.37 1980.44 1520.93 Q1978.64 1524.47 1978.64 1531.6 Q1978.64 1538.71 1980.44 1542.27 Q1982.27 1545.82 1985.88 1545.82 Q1989.52 1545.82 1991.32 1542.27 Q1993.15 1538.71 1993.15 1531.6 Q1993.15 1524.47 1991.32 1520.93 Q1989.52 1517.37 1985.88 1517.37 M1985.88 1513.66 Q1991.69 1513.66 1994.75 1518.27 Q1997.83 1522.85 1997.83 1531.6 Q1997.83 1540.33 1994.75 1544.94 Q1991.69 1549.52 1985.88 1549.52 Q1980.07 1549.52 1976.99 1544.94 Q1973.94 1540.33 1973.94 1531.6 Q1973.94 1522.85 1976.99 1518.27 Q1980.07 1513.66 1985.88 1513.66 Z\" fill=\"#000000\" fill-rule=\"evenodd\" fill-opacity=\"1\" /><path clip-path=\"url(#clip940)\" d=\"M2006.86 1544.91 L2014.49 1544.91 L2014.49 1518.55 L2006.18 1520.21 L2006.18 1515.95 L2014.45 1514.29 L2019.12 1514.29 L2019.12 1544.91 L2026.76 1544.91 L2026.76 1548.85 L2006.86 1548.85 L2006.86 1544.91 Z\" fill=\"#000000\" fill-rule=\"evenodd\" fill-opacity=\"1\" /><path clip-path=\"url(#clip940)\" d=\"M2033.45 1533.96 L2045.93 1533.96 L2045.93 1537.76 L2033.45 1537.76 L2033.45 1533.96 Z\" fill=\"#000000\" fill-rule=\"evenodd\" fill-opacity=\"1\" /><path clip-path=\"url(#clip940)\" d=\"M2063.31 1517.37 Q2059.7 1517.37 2057.87 1520.93 Q2056.07 1524.47 2056.07 1531.6 Q2056.07 1538.71 2057.87 1542.27 Q2059.7 1545.82 2063.31 1545.82 Q2066.95 1545.82 2068.75 1542.27 Q2070.58 1538.71 2070.58 1531.6 Q2070.58 1524.47 2068.75 1520.93 Q2066.95 1517.37 2063.31 1517.37 M2063.31 1513.66 Q2069.12 1513.66 2072.18 1518.27 Q2075.26 1522.85 2075.26 1531.6 Q2075.26 1540.33 2072.18 1544.94 Q2069.12 1549.52 2063.31 1549.52 Q2057.5 1549.52 2054.42 1544.94 Q2051.37 1540.33 2051.37 1531.6 Q2051.37 1522.85 2054.42 1518.27 Q2057.5 1513.66 2063.31 1513.66 Z\" fill=\"#000000\" fill-rule=\"evenodd\" fill-opacity=\"1\" /><path clip-path=\"url(#clip940)\" d=\"M2084.29 1544.91 L2091.92 1544.91 L2091.92 1518.55 L2083.61 1520.21 L2083.61 1515.95 L2091.88 1514.29 L2096.55 1514.29 L2096.55 1544.91 L2104.19 1544.91 L2104.19 1548.85 L2084.29 1548.85 L2084.29 1544.91 Z\" fill=\"#000000\" fill-rule=\"evenodd\" fill-opacity=\"1\" /><polyline clip-path=\"url(#clip942)\" style=\"stroke:#000000; stroke-linecap:butt; stroke-linejoin:round; stroke-width:2; stroke-opacity:0.1; fill:none\" points=\"\n",
       "  184.191,1233.28 2352.76,1233.28 \n",
       "  \"/>\n",
       "<polyline clip-path=\"url(#clip942)\" style=\"stroke:#000000; stroke-linecap:butt; stroke-linejoin:round; stroke-width:2; stroke-opacity:0.1; fill:none\" points=\"\n",
       "  184.191,974.933 2352.76,974.933 \n",
       "  \"/>\n",
       "<polyline clip-path=\"url(#clip942)\" style=\"stroke:#000000; stroke-linecap:butt; stroke-linejoin:round; stroke-width:2; stroke-opacity:0.1; fill:none\" points=\"\n",
       "  184.191,716.583 2352.76,716.583 \n",
       "  \"/>\n",
       "<polyline clip-path=\"url(#clip942)\" style=\"stroke:#000000; stroke-linecap:butt; stroke-linejoin:round; stroke-width:2; stroke-opacity:0.1; fill:none\" points=\"\n",
       "  184.191,458.232 2352.76,458.232 \n",
       "  \"/>\n",
       "<polyline clip-path=\"url(#clip942)\" style=\"stroke:#000000; stroke-linecap:butt; stroke-linejoin:round; stroke-width:2; stroke-opacity:0.1; fill:none\" points=\"\n",
       "  184.191,199.882 2352.76,199.882 \n",
       "  \"/>\n",
       "<polyline clip-path=\"url(#clip940)\" style=\"stroke:#000000; stroke-linecap:butt; stroke-linejoin:round; stroke-width:4; stroke-opacity:1; fill:none\" points=\"\n",
       "  184.191,1486.45 184.191,47.2441 \n",
       "  \"/>\n",
       "<polyline clip-path=\"url(#clip940)\" style=\"stroke:#000000; stroke-linecap:butt; stroke-linejoin:round; stroke-width:4; stroke-opacity:1; fill:none\" points=\"\n",
       "  184.191,1233.28 203.088,1233.28 \n",
       "  \"/>\n",
       "<polyline clip-path=\"url(#clip940)\" style=\"stroke:#000000; stroke-linecap:butt; stroke-linejoin:round; stroke-width:4; stroke-opacity:1; fill:none\" points=\"\n",
       "  184.191,974.933 203.088,974.933 \n",
       "  \"/>\n",
       "<polyline clip-path=\"url(#clip940)\" style=\"stroke:#000000; stroke-linecap:butt; stroke-linejoin:round; stroke-width:4; stroke-opacity:1; fill:none\" points=\"\n",
       "  184.191,716.583 203.088,716.583 \n",
       "  \"/>\n",
       "<polyline clip-path=\"url(#clip940)\" style=\"stroke:#000000; stroke-linecap:butt; stroke-linejoin:round; stroke-width:4; stroke-opacity:1; fill:none\" points=\"\n",
       "  184.191,458.232 203.088,458.232 \n",
       "  \"/>\n",
       "<polyline clip-path=\"url(#clip940)\" style=\"stroke:#000000; stroke-linecap:butt; stroke-linejoin:round; stroke-width:4; stroke-opacity:1; fill:none\" points=\"\n",
       "  184.191,199.882 203.088,199.882 \n",
       "  \"/>\n",
       "<path clip-path=\"url(#clip940)\" d=\"M91.0151 1219.08 Q87.404 1219.08 85.5753 1222.65 Q83.7697 1226.19 83.7697 1233.32 Q83.7697 1240.43 85.5753 1243.99 Q87.404 1247.53 91.0151 1247.53 Q94.6493 1247.53 96.4548 1243.99 Q98.2835 1240.43 98.2835 1233.32 Q98.2835 1226.19 96.4548 1222.65 Q94.6493 1219.08 91.0151 1219.08 M91.0151 1215.38 Q96.8252 1215.38 99.8808 1219.99 Q102.959 1224.57 102.959 1233.32 Q102.959 1242.05 99.8808 1246.65 Q96.8252 1251.24 91.0151 1251.24 Q85.2049 1251.24 82.1262 1246.65 Q79.0707 1242.05 79.0707 1233.32 Q79.0707 1224.57 82.1262 1219.99 Q85.2049 1215.38 91.0151 1215.38 Z\" fill=\"#000000\" fill-rule=\"evenodd\" fill-opacity=\"1\" /><path clip-path=\"url(#clip940)\" d=\"M111.177 1244.68 L116.061 1244.68 L116.061 1250.56 L111.177 1250.56 L111.177 1244.68 Z\" fill=\"#000000\" fill-rule=\"evenodd\" fill-opacity=\"1\" /><path clip-path=\"url(#clip940)\" d=\"M136.246 1219.08 Q132.635 1219.08 130.807 1222.65 Q129.001 1226.19 129.001 1233.32 Q129.001 1240.43 130.807 1243.99 Q132.635 1247.53 136.246 1247.53 Q139.881 1247.53 141.686 1243.99 Q143.515 1240.43 143.515 1233.32 Q143.515 1226.19 141.686 1222.65 Q139.881 1219.08 136.246 1219.08 M136.246 1215.38 Q142.056 1215.38 145.112 1219.99 Q148.191 1224.57 148.191 1233.32 Q148.191 1242.05 145.112 1246.65 Q142.056 1251.24 136.246 1251.24 Q130.436 1251.24 127.357 1246.65 Q124.302 1242.05 124.302 1233.32 Q124.302 1224.57 127.357 1219.99 Q130.436 1215.38 136.246 1215.38 Z\" fill=\"#000000\" fill-rule=\"evenodd\" fill-opacity=\"1\" /><path clip-path=\"url(#clip940)\" d=\"M86.0382 988.278 L102.358 988.278 L102.358 992.213 L80.4133 992.213 L80.4133 988.278 Q83.0753 985.524 87.6586 980.894 Q92.2651 976.241 93.4456 974.899 Q95.691 972.376 96.5706 970.64 Q97.4734 968.88 97.4734 967.19 Q97.4734 964.436 95.5289 962.7 Q93.6076 960.964 90.5058 960.964 Q88.3067 960.964 85.8531 961.728 Q83.4225 962.491 80.6447 964.042 L80.6447 959.32 Q83.4688 958.186 85.9225 957.607 Q88.3762 957.028 90.4132 957.028 Q95.7836 957.028 98.978 959.714 Q102.172 962.399 102.172 966.89 Q102.172 969.019 101.362 970.94 Q100.575 972.839 98.4687 975.431 Q97.89 976.102 94.7882 979.32 Q91.6864 982.514 86.0382 988.278 Z\" fill=\"#000000\" fill-rule=\"evenodd\" fill-opacity=\"1\" /><path clip-path=\"url(#clip940)\" d=\"M112.172 986.334 L117.057 986.334 L117.057 992.213 L112.172 992.213 L112.172 986.334 Z\" fill=\"#000000\" fill-rule=\"evenodd\" fill-opacity=\"1\" /><path clip-path=\"url(#clip940)\" d=\"M127.288 957.653 L145.644 957.653 L145.644 961.589 L131.57 961.589 L131.57 970.061 Q132.589 969.714 133.607 969.552 Q134.626 969.366 135.644 969.366 Q141.431 969.366 144.811 972.538 Q148.191 975.709 148.191 981.126 Q148.191 986.704 144.718 989.806 Q141.246 992.885 134.927 992.885 Q132.751 992.885 130.482 992.514 Q128.237 992.144 125.83 991.403 L125.83 986.704 Q127.913 987.838 130.135 988.394 Q132.357 988.95 134.834 988.95 Q138.839 988.95 141.177 986.843 Q143.515 984.737 143.515 981.126 Q143.515 977.514 141.177 975.408 Q138.839 973.302 134.834 973.302 Q132.959 973.302 131.084 973.718 Q129.232 974.135 127.288 975.014 L127.288 957.653 Z\" fill=\"#000000\" fill-rule=\"evenodd\" fill-opacity=\"1\" /><path clip-path=\"url(#clip940)\" d=\"M81.0614 699.303 L99.4178 699.303 L99.4178 703.238 L85.3438 703.238 L85.3438 711.71 Q86.3623 711.363 87.3808 711.201 Q88.3993 711.016 89.4178 711.016 Q95.2049 711.016 98.5845 714.187 Q101.964 717.358 101.964 722.775 Q101.964 728.354 98.4919 731.455 Q95.0197 734.534 88.7003 734.534 Q86.5243 734.534 84.2558 734.164 Q82.0105 733.793 79.6031 733.053 L79.6031 728.354 Q81.6864 729.488 83.9086 730.043 Q86.1308 730.599 88.6077 730.599 Q92.6123 730.599 94.9502 728.493 Q97.2882 726.386 97.2882 722.775 Q97.2882 719.164 94.9502 717.057 Q92.6123 714.951 88.6077 714.951 Q86.7327 714.951 84.8577 715.368 Q83.0058 715.784 81.0614 716.664 L81.0614 699.303 Z\" fill=\"#000000\" fill-rule=\"evenodd\" fill-opacity=\"1\" /><path clip-path=\"url(#clip940)\" d=\"M111.177 727.983 L116.061 727.983 L116.061 733.863 L111.177 733.863 L111.177 727.983 Z\" fill=\"#000000\" fill-rule=\"evenodd\" fill-opacity=\"1\" /><path clip-path=\"url(#clip940)\" d=\"M136.246 702.382 Q132.635 702.382 130.807 705.946 Q129.001 709.488 129.001 716.618 Q129.001 723.724 130.807 727.289 Q132.635 730.83 136.246 730.83 Q139.881 730.83 141.686 727.289 Q143.515 723.724 143.515 716.618 Q143.515 709.488 141.686 705.946 Q139.881 702.382 136.246 702.382 M136.246 698.678 Q142.056 698.678 145.112 703.284 Q148.191 707.868 148.191 716.618 Q148.191 725.344 145.112 729.951 Q142.056 734.534 136.246 734.534 Q130.436 734.534 127.357 729.951 Q124.302 725.344 124.302 716.618 Q124.302 707.868 127.357 703.284 Q130.436 698.678 136.246 698.678 Z\" fill=\"#000000\" fill-rule=\"evenodd\" fill-opacity=\"1\" /><path clip-path=\"url(#clip940)\" d=\"M80.8299 440.952 L103.052 440.952 L103.052 442.943 L90.5058 475.512 L85.6216 475.512 L97.4271 444.887 L80.8299 444.887 L80.8299 440.952 Z\" fill=\"#000000\" fill-rule=\"evenodd\" fill-opacity=\"1\" /><path clip-path=\"url(#clip940)\" d=\"M112.172 469.633 L117.057 469.633 L117.057 475.512 L112.172 475.512 L112.172 469.633 Z\" fill=\"#000000\" fill-rule=\"evenodd\" fill-opacity=\"1\" /><path clip-path=\"url(#clip940)\" d=\"M127.288 440.952 L145.644 440.952 L145.644 444.887 L131.57 444.887 L131.57 453.36 Q132.589 453.012 133.607 452.85 Q134.626 452.665 135.644 452.665 Q141.431 452.665 144.811 455.836 Q148.191 459.008 148.191 464.424 Q148.191 470.003 144.718 473.105 Q141.246 476.184 134.927 476.184 Q132.751 476.184 130.482 475.813 Q128.237 475.443 125.83 474.702 L125.83 470.003 Q127.913 471.137 130.135 471.693 Q132.357 472.248 134.834 472.248 Q138.839 472.248 141.177 470.142 Q143.515 468.035 143.515 464.424 Q143.515 460.813 141.177 458.707 Q138.839 456.6 134.834 456.6 Q132.959 456.6 131.084 457.017 Q129.232 457.434 127.288 458.313 L127.288 440.952 Z\" fill=\"#000000\" fill-rule=\"evenodd\" fill-opacity=\"1\" /><path clip-path=\"url(#clip940)\" d=\"M51.6634 213.226 L59.3023 213.226 L59.3023 186.861 L50.9921 188.527 L50.9921 184.268 L59.256 182.602 L63.9319 182.602 L63.9319 213.226 L71.5707 213.226 L71.5707 217.162 L51.6634 217.162 L51.6634 213.226 Z\" fill=\"#000000\" fill-rule=\"evenodd\" fill-opacity=\"1\" /><path clip-path=\"url(#clip940)\" d=\"M91.0151 185.68 Q87.404 185.68 85.5753 189.245 Q83.7697 192.787 83.7697 199.916 Q83.7697 207.023 85.5753 210.588 Q87.404 214.129 91.0151 214.129 Q94.6493 214.129 96.4548 210.588 Q98.2835 207.023 98.2835 199.916 Q98.2835 192.787 96.4548 189.245 Q94.6493 185.68 91.0151 185.68 M91.0151 181.977 Q96.8252 181.977 99.8808 186.583 Q102.959 191.166 102.959 199.916 Q102.959 208.643 99.8808 213.25 Q96.8252 217.833 91.0151 217.833 Q85.2049 217.833 82.1262 213.25 Q79.0707 208.643 79.0707 199.916 Q79.0707 191.166 82.1262 186.583 Q85.2049 181.977 91.0151 181.977 Z\" fill=\"#000000\" fill-rule=\"evenodd\" fill-opacity=\"1\" /><path clip-path=\"url(#clip940)\" d=\"M111.177 211.282 L116.061 211.282 L116.061 217.162 L111.177 217.162 L111.177 211.282 Z\" fill=\"#000000\" fill-rule=\"evenodd\" fill-opacity=\"1\" /><path clip-path=\"url(#clip940)\" d=\"M136.246 185.68 Q132.635 185.68 130.807 189.245 Q129.001 192.787 129.001 199.916 Q129.001 207.023 130.807 210.588 Q132.635 214.129 136.246 214.129 Q139.881 214.129 141.686 210.588 Q143.515 207.023 143.515 199.916 Q143.515 192.787 141.686 189.245 Q139.881 185.68 136.246 185.68 M136.246 181.977 Q142.056 181.977 145.112 186.583 Q148.191 191.166 148.191 199.916 Q148.191 208.643 145.112 213.25 Q142.056 217.833 136.246 217.833 Q130.436 217.833 127.357 213.25 Q124.302 208.643 124.302 199.916 Q124.302 191.166 127.357 186.583 Q130.436 181.977 136.246 181.977 Z\" fill=\"#000000\" fill-rule=\"evenodd\" fill-opacity=\"1\" /><polyline clip-path=\"url(#clip942)\" style=\"stroke:#0000ff; stroke-linecap:butt; stroke-linejoin:round; stroke-width:8; stroke-opacity:0.8; fill:none\" points=\"\n",
       "  245.565,1445.72 274.691,1442.56 304.136,1337.5 333.581,1065.33 362.387,1029.18 391.512,1030.71 420.957,983.823 450.403,1015.87 479.208,1022.68 508.333,977.656 \n",
       "  537.779,849.747 567.224,767.057 596.03,707.471 625.155,619.578 654.6,595.17 684.046,497.926 713.171,307.114 742.297,201.162 771.742,87.9763 801.187,227.38 \n",
       "  829.993,368.819 859.118,435.821 888.563,577.409 918.009,597.67 946.814,649.323 975.939,763.556 1005.38,872.27 1034.83,879.003 1063.64,838.479 1092.76,754.676 \n",
       "  1122.21,676.129 1151.65,606.102 1180.78,605.827 1209.9,645.169 1239.35,704.631 1268.79,651.086 1297.6,641.744 1326.72,645.923 1356.17,590.414 1385.61,673.524 \n",
       "  1414.42,618.668 1443.55,564.686 1472.99,586.893 1502.44,645.102 1531.24,805.2 1560.37,762.307 1589.81,745.062 1619.26,730.882 1648.38,560.996 1677.51,587.642 \n",
       "  1706.95,611.689 1736.4,551.474 1765.2,580.419 1794.33,685.669 1823.78,737.698 1853.22,745.797 1882.03,812.595 1911.15,770.266 1940.6,717.082 1970.04,724.837 \n",
       "  1998.85,799.711 2027.97,774.065 2057.42,805.079 2086.86,846.23 2115.99,776.497 2145.11,984.234 2174.56,913.487 2204.01,905.701 2232.81,915.683 2261.94,734.897 \n",
       "  2291.38,734.013 \n",
       "  \"/>\n",
       "<polyline clip-path=\"url(#clip942)\" style=\"stroke:#000000; stroke-linecap:butt; stroke-linejoin:round; stroke-width:6; stroke-opacity:0.5; fill:none\" stroke-dasharray=\"24, 15\" points=\"\n",
       "  -1984.37,1233.28 4521.32,1233.28 \n",
       "  \"/>\n",
       "</svg>\n"
      ]
     },
     "execution_count": 43,
     "metadata": {},
     "output_type": "execute_result"
    }
   ],
   "source": [
    "inflation = sa_data[!, :inflation]\n",
    "plot(date_sa, inflation, legend = false, lw = 2, color = :blue, alpha = 0.8)\n",
    "plot!([0], legend = false, lw = 1.5, seriestype = :hline, color = :black, ls = :dash, alpha = 0.5)"
   ]
  },
  {
   "cell_type": "markdown",
   "metadata": {
    "slideshow": {
     "slide_type": "slide"
    }
   },
   "source": [
    "## Plotting the data (inflation vs repo)"
   ]
  },
  {
   "cell_type": "code",
   "execution_count": 52,
   "metadata": {
    "slideshow": {
     "slide_type": "fragment"
    }
   },
   "outputs": [
    {
     "data": {
      "image/svg+xml": [
       "<?xml version=\"1.0\" encoding=\"utf-8\"?>\n",
       "<svg xmlns=\"http://www.w3.org/2000/svg\" xmlns:xlink=\"http://www.w3.org/1999/xlink\" width=\"600\" height=\"400\" viewBox=\"0 0 2400 1600\">\n",
       "<defs>\n",
       "  <clipPath id=\"clip260\">\n",
       "    <rect x=\"0\" y=\"0\" width=\"2400\" height=\"1600\"/>\n",
       "  </clipPath>\n",
       "</defs>\n",
       "<path clip-path=\"url(#clip260)\" d=\"\n",
       "M0 1600 L2400 1600 L2400 0 L0 0  Z\n",
       "  \" fill=\"#ffffff\" fill-rule=\"evenodd\" fill-opacity=\"1\"/>\n",
       "<defs>\n",
       "  <clipPath id=\"clip261\">\n",
       "    <rect x=\"480\" y=\"0\" width=\"1681\" height=\"1600\"/>\n",
       "  </clipPath>\n",
       "</defs>\n",
       "<path clip-path=\"url(#clip260)\" d=\"\n",
       "M184.191 1486.45 L2352.76 1486.45 L2352.76 47.2441 L184.191 47.2441  Z\n",
       "  \" fill=\"#ffffff\" fill-rule=\"evenodd\" fill-opacity=\"1\"/>\n",
       "<defs>\n",
       "  <clipPath id=\"clip262\">\n",
       "    <rect x=\"184\" y=\"47\" width=\"2170\" height=\"1440\"/>\n",
       "  </clipPath>\n",
       "</defs>\n",
       "<polyline clip-path=\"url(#clip262)\" style=\"stroke:#000000; stroke-linecap:butt; stroke-linejoin:round; stroke-width:2; stroke-opacity:0.1; fill:none\" points=\"\n",
       "  216.76,1486.45 216.76,47.2441 \n",
       "  \"/>\n",
       "<polyline clip-path=\"url(#clip262)\" style=\"stroke:#000000; stroke-linecap:butt; stroke-linejoin:round; stroke-width:2; stroke-opacity:0.1; fill:none\" points=\"\n",
       "  801.507,1486.45 801.507,47.2441 \n",
       "  \"/>\n",
       "<polyline clip-path=\"url(#clip262)\" style=\"stroke:#000000; stroke-linecap:butt; stroke-linejoin:round; stroke-width:2; stroke-opacity:0.1; fill:none\" points=\"\n",
       "  1385.93,1486.45 1385.93,47.2441 \n",
       "  \"/>\n",
       "<polyline clip-path=\"url(#clip262)\" style=\"stroke:#000000; stroke-linecap:butt; stroke-linejoin:round; stroke-width:2; stroke-opacity:0.1; fill:none\" points=\"\n",
       "  1970.36,1486.45 1970.36,47.2441 \n",
       "  \"/>\n",
       "<polyline clip-path=\"url(#clip260)\" style=\"stroke:#000000; stroke-linecap:butt; stroke-linejoin:round; stroke-width:4; stroke-opacity:1; fill:none\" points=\"\n",
       "  184.191,1486.45 2352.76,1486.45 \n",
       "  \"/>\n",
       "<polyline clip-path=\"url(#clip260)\" style=\"stroke:#000000; stroke-linecap:butt; stroke-linejoin:round; stroke-width:4; stroke-opacity:1; fill:none\" points=\"\n",
       "  216.76,1486.45 216.76,1467.55 \n",
       "  \"/>\n",
       "<polyline clip-path=\"url(#clip260)\" style=\"stroke:#000000; stroke-linecap:butt; stroke-linejoin:round; stroke-width:4; stroke-opacity:1; fill:none\" points=\"\n",
       "  801.507,1486.45 801.507,1467.55 \n",
       "  \"/>\n",
       "<polyline clip-path=\"url(#clip260)\" style=\"stroke:#000000; stroke-linecap:butt; stroke-linejoin:round; stroke-width:4; stroke-opacity:1; fill:none\" points=\"\n",
       "  1385.93,1486.45 1385.93,1467.55 \n",
       "  \"/>\n",
       "<polyline clip-path=\"url(#clip260)\" style=\"stroke:#000000; stroke-linecap:butt; stroke-linejoin:round; stroke-width:4; stroke-opacity:1; fill:none\" points=\"\n",
       "  1970.36,1486.45 1970.36,1467.55 \n",
       "  \"/>\n",
       "<path clip-path=\"url(#clip260)\" d=\"M88.5545 1544.91 L104.874 1544.91 L104.874 1548.85 L82.9296 1548.85 L82.9296 1544.91 Q85.5916 1542.16 90.1749 1537.53 Q94.7814 1532.88 95.9619 1531.53 Q98.2073 1529.01 99.0869 1527.27 Q99.9897 1525.51 99.9897 1523.82 Q99.9897 1521.07 98.0452 1519.33 Q96.1239 1517.6 93.0221 1517.6 Q90.823 1517.6 88.3694 1518.36 Q85.9388 1519.13 83.161 1520.68 L83.161 1515.95 Q85.9851 1514.82 88.4388 1514.24 Q90.8925 1513.66 92.9295 1513.66 Q98.2999 1513.66 101.494 1516.35 Q104.689 1519.03 104.689 1523.52 Q104.689 1525.65 103.879 1527.57 Q103.091 1529.47 100.985 1532.07 Q100.406 1532.74 97.3045 1535.95 Q94.2027 1539.15 88.5545 1544.91 Z\" fill=\"#000000\" fill-rule=\"evenodd\" fill-opacity=\"1\" /><path clip-path=\"url(#clip260)\" d=\"M124.689 1517.37 Q121.078 1517.37 119.249 1520.93 Q117.443 1524.47 117.443 1531.6 Q117.443 1538.71 119.249 1542.27 Q121.078 1545.82 124.689 1545.82 Q128.323 1545.82 130.128 1542.27 Q131.957 1538.71 131.957 1531.6 Q131.957 1524.47 130.128 1520.93 Q128.323 1517.37 124.689 1517.37 M124.689 1513.66 Q130.499 1513.66 133.554 1518.27 Q136.633 1522.85 136.633 1531.6 Q136.633 1540.33 133.554 1544.94 Q130.499 1549.52 124.689 1549.52 Q118.878 1549.52 115.8 1544.94 Q112.744 1540.33 112.744 1531.6 Q112.744 1522.85 115.8 1518.27 Q118.878 1513.66 124.689 1513.66 Z\" fill=\"#000000\" fill-rule=\"evenodd\" fill-opacity=\"1\" /><path clip-path=\"url(#clip260)\" d=\"M154.85 1517.37 Q151.239 1517.37 149.411 1520.93 Q147.605 1524.47 147.605 1531.6 Q147.605 1538.71 149.411 1542.27 Q151.239 1545.82 154.85 1545.82 Q158.485 1545.82 160.29 1542.27 Q162.119 1538.71 162.119 1531.6 Q162.119 1524.47 160.29 1520.93 Q158.485 1517.37 154.85 1517.37 M154.85 1513.66 Q160.661 1513.66 163.716 1518.27 Q166.795 1522.85 166.795 1531.6 Q166.795 1540.33 163.716 1544.94 Q160.661 1549.52 154.85 1549.52 Q149.04 1549.52 145.962 1544.94 Q142.906 1540.33 142.906 1531.6 Q142.906 1522.85 145.962 1518.27 Q149.04 1513.66 154.85 1513.66 Z\" fill=\"#000000\" fill-rule=\"evenodd\" fill-opacity=\"1\" /><path clip-path=\"url(#clip260)\" d=\"M187.86 1518.36 L176.054 1536.81 L187.86 1536.81 L187.86 1518.36 M186.633 1514.29 L192.512 1514.29 L192.512 1536.81 L197.443 1536.81 L197.443 1540.7 L192.512 1540.7 L192.512 1548.85 L187.86 1548.85 L187.86 1540.7 L172.258 1540.7 L172.258 1536.19 L186.633 1514.29 Z\" fill=\"#000000\" fill-rule=\"evenodd\" fill-opacity=\"1\" /><path clip-path=\"url(#clip260)\" d=\"M202.42 1533.96 L214.896 1533.96 L214.896 1537.76 L202.42 1537.76 L202.42 1533.96 Z\" fill=\"#000000\" fill-rule=\"evenodd\" fill-opacity=\"1\" /><path clip-path=\"url(#clip260)\" d=\"M232.281 1517.37 Q228.67 1517.37 226.841 1520.93 Q225.035 1524.47 225.035 1531.6 Q225.035 1538.71 226.841 1542.27 Q228.67 1545.82 232.281 1545.82 Q235.915 1545.82 237.72 1542.27 Q239.549 1538.71 239.549 1531.6 Q239.549 1524.47 237.72 1520.93 Q235.915 1517.37 232.281 1517.37 M232.281 1513.66 Q238.091 1513.66 241.146 1518.27 Q244.225 1522.85 244.225 1531.6 Q244.225 1540.33 241.146 1544.94 Q238.091 1549.52 232.281 1549.52 Q226.47 1549.52 223.392 1544.94 Q220.336 1540.33 220.336 1531.6 Q220.336 1522.85 223.392 1518.27 Q226.47 1513.66 232.281 1513.66 Z\" fill=\"#000000\" fill-rule=\"evenodd\" fill-opacity=\"1\" /><path clip-path=\"url(#clip260)\" d=\"M253.253 1544.91 L260.892 1544.91 L260.892 1518.55 L252.581 1520.21 L252.581 1515.95 L260.845 1514.29 L265.521 1514.29 L265.521 1544.91 L273.16 1544.91 L273.16 1548.85 L253.253 1548.85 L253.253 1544.91 Z\" fill=\"#000000\" fill-rule=\"evenodd\" fill-opacity=\"1\" /><path clip-path=\"url(#clip260)\" d=\"M279.85 1533.96 L292.327 1533.96 L292.327 1537.76 L279.85 1537.76 L279.85 1533.96 Z\" fill=\"#000000\" fill-rule=\"evenodd\" fill-opacity=\"1\" /><path clip-path=\"url(#clip260)\" d=\"M309.711 1517.37 Q306.1 1517.37 304.271 1520.93 Q302.465 1524.47 302.465 1531.6 Q302.465 1538.71 304.271 1542.27 Q306.1 1545.82 309.711 1545.82 Q313.345 1545.82 315.151 1542.27 Q316.979 1538.71 316.979 1531.6 Q316.979 1524.47 315.151 1520.93 Q313.345 1517.37 309.711 1517.37 M309.711 1513.66 Q315.521 1513.66 318.576 1518.27 Q321.655 1522.85 321.655 1531.6 Q321.655 1540.33 318.576 1544.94 Q315.521 1549.52 309.711 1549.52 Q303.901 1549.52 300.822 1544.94 Q297.766 1540.33 297.766 1531.6 Q297.766 1522.85 300.822 1518.27 Q303.901 1513.66 309.711 1513.66 Z\" fill=\"#000000\" fill-rule=\"evenodd\" fill-opacity=\"1\" /><path clip-path=\"url(#clip260)\" d=\"M330.683 1544.91 L338.322 1544.91 L338.322 1518.55 L330.012 1520.21 L330.012 1515.95 L338.275 1514.29 L342.951 1514.29 L342.951 1544.91 L350.59 1544.91 L350.59 1548.85 L330.683 1548.85 L330.683 1544.91 Z\" fill=\"#000000\" fill-rule=\"evenodd\" fill-opacity=\"1\" /><path clip-path=\"url(#clip260)\" d=\"M673.302 1544.91 L689.621 1544.91 L689.621 1548.85 L667.677 1548.85 L667.677 1544.91 Q670.339 1542.16 674.922 1537.53 Q679.529 1532.88 680.709 1531.53 Q682.955 1529.01 683.834 1527.27 Q684.737 1525.51 684.737 1523.82 Q684.737 1521.07 682.793 1519.33 Q680.871 1517.6 677.77 1517.6 Q675.571 1517.6 673.117 1518.36 Q670.686 1519.13 667.909 1520.68 L667.909 1515.95 Q670.733 1514.82 673.186 1514.24 Q675.64 1513.66 677.677 1513.66 Q683.047 1513.66 686.242 1516.35 Q689.436 1519.03 689.436 1523.52 Q689.436 1525.65 688.626 1527.57 Q687.839 1529.47 685.733 1532.07 Q685.154 1532.74 682.052 1535.95 Q678.95 1539.15 673.302 1544.91 Z\" fill=\"#000000\" fill-rule=\"evenodd\" fill-opacity=\"1\" /><path clip-path=\"url(#clip260)\" d=\"M709.436 1517.37 Q705.825 1517.37 703.996 1520.93 Q702.191 1524.47 702.191 1531.6 Q702.191 1538.71 703.996 1542.27 Q705.825 1545.82 709.436 1545.82 Q713.07 1545.82 714.876 1542.27 Q716.705 1538.71 716.705 1531.6 Q716.705 1524.47 714.876 1520.93 Q713.07 1517.37 709.436 1517.37 M709.436 1513.66 Q715.246 1513.66 718.302 1518.27 Q721.381 1522.85 721.381 1531.6 Q721.381 1540.33 718.302 1544.94 Q715.246 1549.52 709.436 1549.52 Q703.626 1549.52 700.547 1544.94 Q697.492 1540.33 697.492 1531.6 Q697.492 1522.85 700.547 1518.27 Q703.626 1513.66 709.436 1513.66 Z\" fill=\"#000000\" fill-rule=\"evenodd\" fill-opacity=\"1\" /><path clip-path=\"url(#clip260)\" d=\"M739.598 1517.37 Q735.987 1517.37 734.158 1520.93 Q732.353 1524.47 732.353 1531.6 Q732.353 1538.71 734.158 1542.27 Q735.987 1545.82 739.598 1545.82 Q743.232 1545.82 745.038 1542.27 Q746.867 1538.71 746.867 1531.6 Q746.867 1524.47 745.038 1520.93 Q743.232 1517.37 739.598 1517.37 M739.598 1513.66 Q745.408 1513.66 748.464 1518.27 Q751.542 1522.85 751.542 1531.6 Q751.542 1540.33 748.464 1544.94 Q745.408 1549.52 739.598 1549.52 Q733.788 1549.52 730.709 1544.94 Q727.654 1540.33 727.654 1531.6 Q727.654 1522.85 730.709 1518.27 Q733.788 1513.66 739.598 1513.66 Z\" fill=\"#000000\" fill-rule=\"evenodd\" fill-opacity=\"1\" /><path clip-path=\"url(#clip260)\" d=\"M759.899 1548.13 L759.899 1543.87 Q761.658 1544.7 763.464 1545.14 Q765.269 1545.58 767.005 1545.58 Q771.635 1545.58 774.065 1542.48 Q776.519 1539.36 776.866 1533.01 Q775.524 1535.01 773.464 1536.07 Q771.403 1537.13 768.903 1537.13 Q763.718 1537.13 760.686 1534.01 Q757.677 1530.86 757.677 1525.42 Q757.677 1520.1 760.825 1516.88 Q763.973 1513.66 769.204 1513.66 Q775.2 1513.66 778.348 1518.27 Q781.519 1522.85 781.519 1531.6 Q781.519 1539.77 777.63 1544.66 Q773.765 1549.52 767.214 1549.52 Q765.454 1549.52 763.649 1549.17 Q761.843 1548.82 759.899 1548.13 M769.204 1533.48 Q772.352 1533.48 774.181 1531.32 Q776.033 1529.17 776.033 1525.42 Q776.033 1521.7 774.181 1519.54 Q772.352 1517.37 769.204 1517.37 Q766.056 1517.37 764.204 1519.54 Q762.376 1521.7 762.376 1525.42 Q762.376 1529.17 764.204 1531.32 Q766.056 1533.48 769.204 1533.48 Z\" fill=\"#000000\" fill-rule=\"evenodd\" fill-opacity=\"1\" /><path clip-path=\"url(#clip260)\" d=\"M787.167 1533.96 L799.644 1533.96 L799.644 1537.76 L787.167 1537.76 L787.167 1533.96 Z\" fill=\"#000000\" fill-rule=\"evenodd\" fill-opacity=\"1\" /><path clip-path=\"url(#clip260)\" d=\"M817.028 1517.37 Q813.417 1517.37 811.588 1520.93 Q809.783 1524.47 809.783 1531.6 Q809.783 1538.71 811.588 1542.27 Q813.417 1545.82 817.028 1545.82 Q820.662 1545.82 822.468 1542.27 Q824.297 1538.71 824.297 1531.6 Q824.297 1524.47 822.468 1520.93 Q820.662 1517.37 817.028 1517.37 M817.028 1513.66 Q822.838 1513.66 825.894 1518.27 Q828.973 1522.85 828.973 1531.6 Q828.973 1540.33 825.894 1544.94 Q822.838 1549.52 817.028 1549.52 Q811.218 1549.52 808.139 1544.94 Q805.084 1540.33 805.084 1531.6 Q805.084 1522.85 808.139 1518.27 Q811.218 1513.66 817.028 1513.66 Z\" fill=\"#000000\" fill-rule=\"evenodd\" fill-opacity=\"1\" /><path clip-path=\"url(#clip260)\" d=\"M838 1544.91 L845.639 1544.91 L845.639 1518.55 L837.329 1520.21 L837.329 1515.95 L845.593 1514.29 L850.269 1514.29 L850.269 1544.91 L857.908 1544.91 L857.908 1548.85 L838 1548.85 L838 1544.91 Z\" fill=\"#000000\" fill-rule=\"evenodd\" fill-opacity=\"1\" /><path clip-path=\"url(#clip260)\" d=\"M864.597 1533.96 L877.074 1533.96 L877.074 1537.76 L864.597 1537.76 L864.597 1533.96 Z\" fill=\"#000000\" fill-rule=\"evenodd\" fill-opacity=\"1\" /><path clip-path=\"url(#clip260)\" d=\"M894.458 1517.37 Q890.847 1517.37 889.019 1520.93 Q887.213 1524.47 887.213 1531.6 Q887.213 1538.71 889.019 1542.27 Q890.847 1545.82 894.458 1545.82 Q898.093 1545.82 899.898 1542.27 Q901.727 1538.71 901.727 1531.6 Q901.727 1524.47 899.898 1520.93 Q898.093 1517.37 894.458 1517.37 M894.458 1513.66 Q900.268 1513.66 903.324 1518.27 Q906.403 1522.85 906.403 1531.6 Q906.403 1540.33 903.324 1544.94 Q900.268 1549.52 894.458 1549.52 Q888.648 1549.52 885.569 1544.94 Q882.514 1540.33 882.514 1531.6 Q882.514 1522.85 885.569 1518.27 Q888.648 1513.66 894.458 1513.66 Z\" fill=\"#000000\" fill-rule=\"evenodd\" fill-opacity=\"1\" /><path clip-path=\"url(#clip260)\" d=\"M915.43 1544.91 L923.069 1544.91 L923.069 1518.55 L914.759 1520.21 L914.759 1515.95 L923.023 1514.29 L927.699 1514.29 L927.699 1544.91 L935.338 1544.91 L935.338 1548.85 L915.43 1548.85 L915.43 1544.91 Z\" fill=\"#000000\" fill-rule=\"evenodd\" fill-opacity=\"1\" /><path clip-path=\"url(#clip260)\" d=\"M1257.73 1544.91 L1274.05 1544.91 L1274.05 1548.85 L1252.1 1548.85 L1252.1 1544.91 Q1254.77 1542.16 1259.35 1537.53 Q1263.96 1532.88 1265.14 1531.53 Q1267.38 1529.01 1268.26 1527.27 Q1269.16 1525.51 1269.16 1523.82 Q1269.16 1521.07 1267.22 1519.33 Q1265.3 1517.6 1262.2 1517.6 Q1260 1517.6 1257.54 1518.36 Q1255.11 1519.13 1252.34 1520.68 L1252.34 1515.95 Q1255.16 1514.82 1257.61 1514.24 Q1260.07 1513.66 1262.1 1513.66 Q1267.47 1513.66 1270.67 1516.35 Q1273.86 1519.03 1273.86 1523.52 Q1273.86 1525.65 1273.05 1527.57 Q1272.27 1529.47 1270.16 1532.07 Q1269.58 1532.74 1266.48 1535.95 Q1263.38 1539.15 1257.73 1544.91 Z\" fill=\"#000000\" fill-rule=\"evenodd\" fill-opacity=\"1\" /><path clip-path=\"url(#clip260)\" d=\"M1293.86 1517.37 Q1290.25 1517.37 1288.42 1520.93 Q1286.62 1524.47 1286.62 1531.6 Q1286.62 1538.71 1288.42 1542.27 Q1290.25 1545.82 1293.86 1545.82 Q1297.5 1545.82 1299.3 1542.27 Q1301.13 1538.71 1301.13 1531.6 Q1301.13 1524.47 1299.3 1520.93 Q1297.5 1517.37 1293.86 1517.37 M1293.86 1513.66 Q1299.67 1513.66 1302.73 1518.27 Q1305.81 1522.85 1305.81 1531.6 Q1305.81 1540.33 1302.73 1544.94 Q1299.67 1549.52 1293.86 1549.52 Q1288.05 1549.52 1284.97 1544.94 Q1281.92 1540.33 1281.92 1531.6 Q1281.92 1522.85 1284.97 1518.27 Q1288.05 1513.66 1293.86 1513.66 Z\" fill=\"#000000\" fill-rule=\"evenodd\" fill-opacity=\"1\" /><path clip-path=\"url(#clip260)\" d=\"M1314.84 1544.91 L1322.47 1544.91 L1322.47 1518.55 L1314.16 1520.21 L1314.16 1515.95 L1322.43 1514.29 L1327.1 1514.29 L1327.1 1544.91 L1334.74 1544.91 L1334.74 1548.85 L1314.84 1548.85 L1314.84 1544.91 Z\" fill=\"#000000\" fill-rule=\"evenodd\" fill-opacity=\"1\" /><path clip-path=\"url(#clip260)\" d=\"M1357.03 1518.36 L1345.23 1536.81 L1357.03 1536.81 L1357.03 1518.36 M1355.81 1514.29 L1361.69 1514.29 L1361.69 1536.81 L1366.62 1536.81 L1366.62 1540.7 L1361.69 1540.7 L1361.69 1548.85 L1357.03 1548.85 L1357.03 1540.7 L1341.43 1540.7 L1341.43 1536.19 L1355.81 1514.29 Z\" fill=\"#000000\" fill-rule=\"evenodd\" fill-opacity=\"1\" /><path clip-path=\"url(#clip260)\" d=\"M1371.59 1533.96 L1384.07 1533.96 L1384.07 1537.76 L1371.59 1537.76 L1371.59 1533.96 Z\" fill=\"#000000\" fill-rule=\"evenodd\" fill-opacity=\"1\" /><path clip-path=\"url(#clip260)\" d=\"M1401.46 1517.37 Q1397.84 1517.37 1396.02 1520.93 Q1394.21 1524.47 1394.21 1531.6 Q1394.21 1538.71 1396.02 1542.27 Q1397.84 1545.82 1401.46 1545.82 Q1405.09 1545.82 1406.9 1542.27 Q1408.72 1538.71 1408.72 1531.6 Q1408.72 1524.47 1406.9 1520.93 Q1405.09 1517.37 1401.46 1517.37 M1401.46 1513.66 Q1407.27 1513.66 1410.32 1518.27 Q1413.4 1522.85 1413.4 1531.6 Q1413.4 1540.33 1410.32 1544.94 Q1407.27 1549.52 1401.46 1549.52 Q1395.65 1549.52 1392.57 1544.94 Q1389.51 1540.33 1389.51 1531.6 Q1389.51 1522.85 1392.57 1518.27 Q1395.65 1513.66 1401.46 1513.66 Z\" fill=\"#000000\" fill-rule=\"evenodd\" fill-opacity=\"1\" /><path clip-path=\"url(#clip260)\" d=\"M1422.43 1544.91 L1430.07 1544.91 L1430.07 1518.55 L1421.76 1520.21 L1421.76 1515.95 L1430.02 1514.29 L1434.7 1514.29 L1434.7 1544.91 L1442.34 1544.91 L1442.34 1548.85 L1422.43 1548.85 L1422.43 1544.91 Z\" fill=\"#000000\" fill-rule=\"evenodd\" fill-opacity=\"1\" /><path clip-path=\"url(#clip260)\" d=\"M1449.02 1533.96 L1461.5 1533.96 L1461.5 1537.76 L1449.02 1537.76 L1449.02 1533.96 Z\" fill=\"#000000\" fill-rule=\"evenodd\" fill-opacity=\"1\" /><path clip-path=\"url(#clip260)\" d=\"M1478.89 1517.37 Q1475.27 1517.37 1473.45 1520.93 Q1471.64 1524.47 1471.64 1531.6 Q1471.64 1538.71 1473.45 1542.27 Q1475.27 1545.82 1478.89 1545.82 Q1482.52 1545.82 1484.33 1542.27 Q1486.15 1538.71 1486.15 1531.6 Q1486.15 1524.47 1484.33 1520.93 Q1482.52 1517.37 1478.89 1517.37 M1478.89 1513.66 Q1484.7 1513.66 1487.75 1518.27 Q1490.83 1522.85 1490.83 1531.6 Q1490.83 1540.33 1487.75 1544.94 Q1484.7 1549.52 1478.89 1549.52 Q1473.08 1549.52 1470 1544.94 Q1466.94 1540.33 1466.94 1531.6 Q1466.94 1522.85 1470 1518.27 Q1473.08 1513.66 1478.89 1513.66 Z\" fill=\"#000000\" fill-rule=\"evenodd\" fill-opacity=\"1\" /><path clip-path=\"url(#clip260)\" d=\"M1499.86 1544.91 L1507.5 1544.91 L1507.5 1518.55 L1499.19 1520.21 L1499.19 1515.95 L1507.45 1514.29 L1512.13 1514.29 L1512.13 1544.91 L1519.77 1544.91 L1519.77 1548.85 L1499.86 1548.85 L1499.86 1544.91 Z\" fill=\"#000000\" fill-rule=\"evenodd\" fill-opacity=\"1\" /><path clip-path=\"url(#clip260)\" d=\"M1842.16 1544.91 L1858.48 1544.91 L1858.48 1548.85 L1836.53 1548.85 L1836.53 1544.91 Q1839.19 1542.16 1843.78 1537.53 Q1848.38 1532.88 1849.56 1531.53 Q1851.81 1529.01 1852.69 1527.27 Q1853.59 1525.51 1853.59 1523.82 Q1853.59 1521.07 1851.65 1519.33 Q1849.73 1517.6 1846.62 1517.6 Q1844.43 1517.6 1841.97 1518.36 Q1839.54 1519.13 1836.76 1520.68 L1836.76 1515.95 Q1839.59 1514.82 1842.04 1514.24 Q1844.49 1513.66 1846.53 1513.66 Q1851.9 1513.66 1855.1 1516.35 Q1858.29 1519.03 1858.29 1523.52 Q1858.29 1525.65 1857.48 1527.57 Q1856.69 1529.47 1854.59 1532.07 Q1854.01 1532.74 1850.91 1535.95 Q1847.81 1539.15 1842.16 1544.91 Z\" fill=\"#000000\" fill-rule=\"evenodd\" fill-opacity=\"1\" /><path clip-path=\"url(#clip260)\" d=\"M1878.29 1517.37 Q1874.68 1517.37 1872.85 1520.93 Q1871.05 1524.47 1871.05 1531.6 Q1871.05 1538.71 1872.85 1542.27 Q1874.68 1545.82 1878.29 1545.82 Q1881.93 1545.82 1883.73 1542.27 Q1885.56 1538.71 1885.56 1531.6 Q1885.56 1524.47 1883.73 1520.93 Q1881.93 1517.37 1878.29 1517.37 M1878.29 1513.66 Q1884.1 1513.66 1887.16 1518.27 Q1890.24 1522.85 1890.24 1531.6 Q1890.24 1540.33 1887.16 1544.94 Q1884.1 1549.52 1878.29 1549.52 Q1872.48 1549.52 1869.4 1544.94 Q1866.35 1540.33 1866.35 1531.6 Q1866.35 1522.85 1869.4 1518.27 Q1872.48 1513.66 1878.29 1513.66 Z\" fill=\"#000000\" fill-rule=\"evenodd\" fill-opacity=\"1\" /><path clip-path=\"url(#clip260)\" d=\"M1899.26 1544.91 L1906.9 1544.91 L1906.9 1518.55 L1898.59 1520.21 L1898.59 1515.95 L1906.86 1514.29 L1911.53 1514.29 L1911.53 1544.91 L1919.17 1544.91 L1919.17 1548.85 L1899.26 1548.85 L1899.26 1544.91 Z\" fill=\"#000000\" fill-rule=\"evenodd\" fill-opacity=\"1\" /><path clip-path=\"url(#clip260)\" d=\"M1928.75 1548.13 L1928.75 1543.87 Q1930.51 1544.7 1932.32 1545.14 Q1934.12 1545.58 1935.86 1545.58 Q1940.49 1545.58 1942.92 1542.48 Q1945.37 1539.36 1945.72 1533.01 Q1944.38 1535.01 1942.32 1536.07 Q1940.26 1537.13 1937.76 1537.13 Q1932.57 1537.13 1929.54 1534.01 Q1926.53 1530.86 1926.53 1525.42 Q1926.53 1520.1 1929.68 1516.88 Q1932.83 1513.66 1938.06 1513.66 Q1944.05 1513.66 1947.2 1518.27 Q1950.37 1522.85 1950.37 1531.6 Q1950.37 1539.77 1946.49 1544.66 Q1942.62 1549.52 1936.07 1549.52 Q1934.31 1549.52 1932.5 1549.17 Q1930.7 1548.82 1928.75 1548.13 M1938.06 1533.48 Q1941.21 1533.48 1943.04 1531.32 Q1944.89 1529.17 1944.89 1525.42 Q1944.89 1521.7 1943.04 1519.54 Q1941.21 1517.37 1938.06 1517.37 Q1934.91 1517.37 1933.06 1519.54 Q1931.23 1521.7 1931.23 1525.42 Q1931.23 1529.17 1933.06 1531.32 Q1934.91 1533.48 1938.06 1533.48 Z\" fill=\"#000000\" fill-rule=\"evenodd\" fill-opacity=\"1\" /><path clip-path=\"url(#clip260)\" d=\"M1956.02 1533.96 L1968.5 1533.96 L1968.5 1537.76 L1956.02 1537.76 L1956.02 1533.96 Z\" fill=\"#000000\" fill-rule=\"evenodd\" fill-opacity=\"1\" /><path clip-path=\"url(#clip260)\" d=\"M1985.88 1517.37 Q1982.27 1517.37 1980.44 1520.93 Q1978.64 1524.47 1978.64 1531.6 Q1978.64 1538.71 1980.44 1542.27 Q1982.27 1545.82 1985.88 1545.82 Q1989.52 1545.82 1991.32 1542.27 Q1993.15 1538.71 1993.15 1531.6 Q1993.15 1524.47 1991.32 1520.93 Q1989.52 1517.37 1985.88 1517.37 M1985.88 1513.66 Q1991.69 1513.66 1994.75 1518.27 Q1997.83 1522.85 1997.83 1531.6 Q1997.83 1540.33 1994.75 1544.94 Q1991.69 1549.52 1985.88 1549.52 Q1980.07 1549.52 1976.99 1544.94 Q1973.94 1540.33 1973.94 1531.6 Q1973.94 1522.85 1976.99 1518.27 Q1980.07 1513.66 1985.88 1513.66 Z\" fill=\"#000000\" fill-rule=\"evenodd\" fill-opacity=\"1\" /><path clip-path=\"url(#clip260)\" d=\"M2006.86 1544.91 L2014.49 1544.91 L2014.49 1518.55 L2006.18 1520.21 L2006.18 1515.95 L2014.45 1514.29 L2019.12 1514.29 L2019.12 1544.91 L2026.76 1544.91 L2026.76 1548.85 L2006.86 1548.85 L2006.86 1544.91 Z\" fill=\"#000000\" fill-rule=\"evenodd\" fill-opacity=\"1\" /><path clip-path=\"url(#clip260)\" d=\"M2033.45 1533.96 L2045.93 1533.96 L2045.93 1537.76 L2033.45 1537.76 L2033.45 1533.96 Z\" fill=\"#000000\" fill-rule=\"evenodd\" fill-opacity=\"1\" /><path clip-path=\"url(#clip260)\" d=\"M2063.31 1517.37 Q2059.7 1517.37 2057.87 1520.93 Q2056.07 1524.47 2056.07 1531.6 Q2056.07 1538.71 2057.87 1542.27 Q2059.7 1545.82 2063.31 1545.82 Q2066.95 1545.82 2068.75 1542.27 Q2070.58 1538.71 2070.58 1531.6 Q2070.58 1524.47 2068.75 1520.93 Q2066.95 1517.37 2063.31 1517.37 M2063.31 1513.66 Q2069.12 1513.66 2072.18 1518.27 Q2075.26 1522.85 2075.26 1531.6 Q2075.26 1540.33 2072.18 1544.94 Q2069.12 1549.52 2063.31 1549.52 Q2057.5 1549.52 2054.42 1544.94 Q2051.37 1540.33 2051.37 1531.6 Q2051.37 1522.85 2054.42 1518.27 Q2057.5 1513.66 2063.31 1513.66 Z\" fill=\"#000000\" fill-rule=\"evenodd\" fill-opacity=\"1\" /><path clip-path=\"url(#clip260)\" d=\"M2084.29 1544.91 L2091.92 1544.91 L2091.92 1518.55 L2083.61 1520.21 L2083.61 1515.95 L2091.88 1514.29 L2096.55 1514.29 L2096.55 1544.91 L2104.19 1544.91 L2104.19 1548.85 L2084.29 1548.85 L2084.29 1544.91 Z\" fill=\"#000000\" fill-rule=\"evenodd\" fill-opacity=\"1\" /><polyline clip-path=\"url(#clip262)\" style=\"stroke:#000000; stroke-linecap:butt; stroke-linejoin:round; stroke-width:2; stroke-opacity:0.1; fill:none\" points=\"\n",
       "  184.191,1247.15 2352.76,1247.15 \n",
       "  \"/>\n",
       "<polyline clip-path=\"url(#clip262)\" style=\"stroke:#000000; stroke-linecap:butt; stroke-linejoin:round; stroke-width:2; stroke-opacity:0.1; fill:none\" points=\"\n",
       "  184.191,1005.65 2352.76,1005.65 \n",
       "  \"/>\n",
       "<polyline clip-path=\"url(#clip262)\" style=\"stroke:#000000; stroke-linecap:butt; stroke-linejoin:round; stroke-width:2; stroke-opacity:0.1; fill:none\" points=\"\n",
       "  184.191,764.158 2352.76,764.158 \n",
       "  \"/>\n",
       "<polyline clip-path=\"url(#clip262)\" style=\"stroke:#000000; stroke-linecap:butt; stroke-linejoin:round; stroke-width:2; stroke-opacity:0.1; fill:none\" points=\"\n",
       "  184.191,522.665 2352.76,522.665 \n",
       "  \"/>\n",
       "<polyline clip-path=\"url(#clip262)\" style=\"stroke:#000000; stroke-linecap:butt; stroke-linejoin:round; stroke-width:2; stroke-opacity:0.1; fill:none\" points=\"\n",
       "  184.191,281.171 2352.76,281.171 \n",
       "  \"/>\n",
       "<polyline clip-path=\"url(#clip260)\" style=\"stroke:#000000; stroke-linecap:butt; stroke-linejoin:round; stroke-width:4; stroke-opacity:1; fill:none\" points=\"\n",
       "  184.191,1486.45 184.191,47.2441 \n",
       "  \"/>\n",
       "<polyline clip-path=\"url(#clip260)\" style=\"stroke:#000000; stroke-linecap:butt; stroke-linejoin:round; stroke-width:4; stroke-opacity:1; fill:none\" points=\"\n",
       "  184.191,1247.15 203.088,1247.15 \n",
       "  \"/>\n",
       "<polyline clip-path=\"url(#clip260)\" style=\"stroke:#000000; stroke-linecap:butt; stroke-linejoin:round; stroke-width:4; stroke-opacity:1; fill:none\" points=\"\n",
       "  184.191,1005.65 203.088,1005.65 \n",
       "  \"/>\n",
       "<polyline clip-path=\"url(#clip260)\" style=\"stroke:#000000; stroke-linecap:butt; stroke-linejoin:round; stroke-width:4; stroke-opacity:1; fill:none\" points=\"\n",
       "  184.191,764.158 203.088,764.158 \n",
       "  \"/>\n",
       "<polyline clip-path=\"url(#clip260)\" style=\"stroke:#000000; stroke-linecap:butt; stroke-linejoin:round; stroke-width:4; stroke-opacity:1; fill:none\" points=\"\n",
       "  184.191,522.665 203.088,522.665 \n",
       "  \"/>\n",
       "<polyline clip-path=\"url(#clip260)\" style=\"stroke:#000000; stroke-linecap:butt; stroke-linejoin:round; stroke-width:4; stroke-opacity:1; fill:none\" points=\"\n",
       "  184.191,281.171 203.088,281.171 \n",
       "  \"/>\n",
       "<path clip-path=\"url(#clip260)\" d=\"M91.0151 1232.94 Q87.404 1232.94 85.5753 1236.51 Q83.7697 1240.05 83.7697 1247.18 Q83.7697 1254.29 85.5753 1257.85 Q87.404 1261.39 91.0151 1261.39 Q94.6493 1261.39 96.4548 1257.85 Q98.2835 1254.29 98.2835 1247.18 Q98.2835 1240.05 96.4548 1236.51 Q94.6493 1232.94 91.0151 1232.94 M91.0151 1229.24 Q96.8252 1229.24 99.8808 1233.85 Q102.959 1238.43 102.959 1247.18 Q102.959 1255.91 99.8808 1260.51 Q96.8252 1265.1 91.0151 1265.1 Q85.2049 1265.1 82.1262 1260.51 Q79.0707 1255.91 79.0707 1247.18 Q79.0707 1238.43 82.1262 1233.85 Q85.2049 1229.24 91.0151 1229.24 Z\" fill=\"#000000\" fill-rule=\"evenodd\" fill-opacity=\"1\" /><path clip-path=\"url(#clip260)\" d=\"M111.177 1258.55 L116.061 1258.55 L116.061 1264.43 L111.177 1264.43 L111.177 1258.55 Z\" fill=\"#000000\" fill-rule=\"evenodd\" fill-opacity=\"1\" /><path clip-path=\"url(#clip260)\" d=\"M136.246 1232.94 Q132.635 1232.94 130.807 1236.51 Q129.001 1240.05 129.001 1247.18 Q129.001 1254.29 130.807 1257.85 Q132.635 1261.39 136.246 1261.39 Q139.881 1261.39 141.686 1257.85 Q143.515 1254.29 143.515 1247.18 Q143.515 1240.05 141.686 1236.51 Q139.881 1232.94 136.246 1232.94 M136.246 1229.24 Q142.056 1229.24 145.112 1233.85 Q148.191 1238.43 148.191 1247.18 Q148.191 1255.91 145.112 1260.51 Q142.056 1265.1 136.246 1265.1 Q130.436 1265.1 127.357 1260.51 Q124.302 1255.91 124.302 1247.18 Q124.302 1238.43 127.357 1233.85 Q130.436 1229.24 136.246 1229.24 Z\" fill=\"#000000\" fill-rule=\"evenodd\" fill-opacity=\"1\" /><path clip-path=\"url(#clip260)\" d=\"M86.0382 1019 L102.358 1019 L102.358 1022.93 L80.4133 1022.93 L80.4133 1019 Q83.0753 1016.24 87.6586 1011.61 Q92.2651 1006.96 93.4456 1005.62 Q95.691 1003.09 96.5706 1001.36 Q97.4734 999.598 97.4734 997.909 Q97.4734 995.154 95.5289 993.418 Q93.6076 991.682 90.5058 991.682 Q88.3067 991.682 85.8531 992.446 Q83.4225 993.209 80.6447 994.76 L80.6447 990.038 Q83.4688 988.904 85.9225 988.325 Q88.3762 987.747 90.4132 987.747 Q95.7836 987.747 98.978 990.432 Q102.172 993.117 102.172 997.608 Q102.172 999.737 101.362 1001.66 Q100.575 1003.56 98.4687 1006.15 Q97.89 1006.82 94.7882 1010.04 Q91.6864 1013.23 86.0382 1019 Z\" fill=\"#000000\" fill-rule=\"evenodd\" fill-opacity=\"1\" /><path clip-path=\"url(#clip260)\" d=\"M112.172 1017.05 L117.057 1017.05 L117.057 1022.93 L112.172 1022.93 L112.172 1017.05 Z\" fill=\"#000000\" fill-rule=\"evenodd\" fill-opacity=\"1\" /><path clip-path=\"url(#clip260)\" d=\"M127.288 988.372 L145.644 988.372 L145.644 992.307 L131.57 992.307 L131.57 1000.78 Q132.589 1000.43 133.607 1000.27 Q134.626 1000.08 135.644 1000.08 Q141.431 1000.08 144.811 1003.26 Q148.191 1006.43 148.191 1011.84 Q148.191 1017.42 144.718 1020.52 Q141.246 1023.6 134.927 1023.6 Q132.751 1023.6 130.482 1023.23 Q128.237 1022.86 125.83 1022.12 L125.83 1017.42 Q127.913 1018.56 130.135 1019.11 Q132.357 1019.67 134.834 1019.67 Q138.839 1019.67 141.177 1017.56 Q143.515 1015.45 143.515 1011.84 Q143.515 1008.23 141.177 1006.13 Q138.839 1004.02 134.834 1004.02 Q132.959 1004.02 131.084 1004.44 Q129.232 1004.85 127.288 1005.73 L127.288 988.372 Z\" fill=\"#000000\" fill-rule=\"evenodd\" fill-opacity=\"1\" /><path clip-path=\"url(#clip260)\" d=\"M81.0614 746.878 L99.4178 746.878 L99.4178 750.813 L85.3438 750.813 L85.3438 759.285 Q86.3623 758.938 87.3808 758.776 Q88.3993 758.591 89.4178 758.591 Q95.2049 758.591 98.5845 761.762 Q101.964 764.934 101.964 770.35 Q101.964 775.929 98.4919 779.031 Q95.0197 782.109 88.7003 782.109 Q86.5243 782.109 84.2558 781.739 Q82.0105 781.369 79.6031 780.628 L79.6031 775.929 Q81.6864 777.063 83.9086 777.619 Q86.1308 778.174 88.6077 778.174 Q92.6123 778.174 94.9502 776.068 Q97.2882 773.961 97.2882 770.35 Q97.2882 766.739 94.9502 764.633 Q92.6123 762.526 88.6077 762.526 Q86.7327 762.526 84.8577 762.943 Q83.0058 763.359 81.0614 764.239 L81.0614 746.878 Z\" fill=\"#000000\" fill-rule=\"evenodd\" fill-opacity=\"1\" /><path clip-path=\"url(#clip260)\" d=\"M111.177 775.558 L116.061 775.558 L116.061 781.438 L111.177 781.438 L111.177 775.558 Z\" fill=\"#000000\" fill-rule=\"evenodd\" fill-opacity=\"1\" /><path clip-path=\"url(#clip260)\" d=\"M136.246 749.957 Q132.635 749.957 130.807 753.522 Q129.001 757.063 129.001 764.193 Q129.001 771.299 130.807 774.864 Q132.635 778.406 136.246 778.406 Q139.881 778.406 141.686 774.864 Q143.515 771.299 143.515 764.193 Q143.515 757.063 141.686 753.522 Q139.881 749.957 136.246 749.957 M136.246 746.253 Q142.056 746.253 145.112 750.86 Q148.191 755.443 148.191 764.193 Q148.191 772.92 145.112 777.526 Q142.056 782.109 136.246 782.109 Q130.436 782.109 127.357 777.526 Q124.302 772.92 124.302 764.193 Q124.302 755.443 127.357 750.86 Q130.436 746.253 136.246 746.253 Z\" fill=\"#000000\" fill-rule=\"evenodd\" fill-opacity=\"1\" /><path clip-path=\"url(#clip260)\" d=\"M80.8299 505.385 L103.052 505.385 L103.052 507.375 L90.5058 539.945 L85.6216 539.945 L97.4271 509.32 L80.8299 509.32 L80.8299 505.385 Z\" fill=\"#000000\" fill-rule=\"evenodd\" fill-opacity=\"1\" /><path clip-path=\"url(#clip260)\" d=\"M112.172 534.065 L117.057 534.065 L117.057 539.945 L112.172 539.945 L112.172 534.065 Z\" fill=\"#000000\" fill-rule=\"evenodd\" fill-opacity=\"1\" /><path clip-path=\"url(#clip260)\" d=\"M127.288 505.385 L145.644 505.385 L145.644 509.32 L131.57 509.32 L131.57 517.792 Q132.589 517.445 133.607 517.283 Q134.626 517.097 135.644 517.097 Q141.431 517.097 144.811 520.269 Q148.191 523.44 148.191 528.857 Q148.191 534.435 144.718 537.537 Q141.246 540.616 134.927 540.616 Q132.751 540.616 130.482 540.245 Q128.237 539.875 125.83 539.134 L125.83 534.435 Q127.913 535.57 130.135 536.125 Q132.357 536.681 134.834 536.681 Q138.839 536.681 141.177 534.574 Q143.515 532.468 143.515 528.857 Q143.515 525.246 141.177 523.139 Q138.839 521.033 134.834 521.033 Q132.959 521.033 131.084 521.449 Q129.232 521.866 127.288 522.746 L127.288 505.385 Z\" fill=\"#000000\" fill-rule=\"evenodd\" fill-opacity=\"1\" /><path clip-path=\"url(#clip260)\" d=\"M51.6634 294.516 L59.3023 294.516 L59.3023 268.15 L50.9921 269.817 L50.9921 265.558 L59.256 263.891 L63.9319 263.891 L63.9319 294.516 L71.5707 294.516 L71.5707 298.451 L51.6634 298.451 L51.6634 294.516 Z\" fill=\"#000000\" fill-rule=\"evenodd\" fill-opacity=\"1\" /><path clip-path=\"url(#clip260)\" d=\"M91.0151 266.97 Q87.404 266.97 85.5753 270.535 Q83.7697 274.076 83.7697 281.206 Q83.7697 288.312 85.5753 291.877 Q87.404 295.419 91.0151 295.419 Q94.6493 295.419 96.4548 291.877 Q98.2835 288.312 98.2835 281.206 Q98.2835 274.076 96.4548 270.535 Q94.6493 266.97 91.0151 266.97 M91.0151 263.266 Q96.8252 263.266 99.8808 267.873 Q102.959 272.456 102.959 281.206 Q102.959 289.933 99.8808 294.539 Q96.8252 299.122 91.0151 299.122 Q85.2049 299.122 82.1262 294.539 Q79.0707 289.933 79.0707 281.206 Q79.0707 272.456 82.1262 267.873 Q85.2049 263.266 91.0151 263.266 Z\" fill=\"#000000\" fill-rule=\"evenodd\" fill-opacity=\"1\" /><path clip-path=\"url(#clip260)\" d=\"M111.177 292.571 L116.061 292.571 L116.061 298.451 L111.177 298.451 L111.177 292.571 Z\" fill=\"#000000\" fill-rule=\"evenodd\" fill-opacity=\"1\" /><path clip-path=\"url(#clip260)\" d=\"M136.246 266.97 Q132.635 266.97 130.807 270.535 Q129.001 274.076 129.001 281.206 Q129.001 288.312 130.807 291.877 Q132.635 295.419 136.246 295.419 Q139.881 295.419 141.686 291.877 Q143.515 288.312 143.515 281.206 Q143.515 274.076 141.686 270.535 Q139.881 266.97 136.246 266.97 M136.246 263.266 Q142.056 263.266 145.112 267.873 Q148.191 272.456 148.191 281.206 Q148.191 289.933 145.112 294.539 Q142.056 299.122 136.246 299.122 Q130.436 299.122 127.357 294.539 Q124.302 289.933 124.302 281.206 Q124.302 272.456 127.357 267.873 Q130.436 263.266 136.246 263.266 Z\" fill=\"#000000\" fill-rule=\"evenodd\" fill-opacity=\"1\" /><polyline clip-path=\"url(#clip262)\" style=\"stroke:#0000ff; stroke-linecap:butt; stroke-linejoin:round; stroke-width:8; stroke-opacity:0.6; fill:none\" points=\"\n",
       "  245.565,1445.72 274.691,1442.76 304.136,1344.56 333.581,1090.15 362.387,1056.36 391.512,1057.78 420.957,1013.96 450.403,1043.92 479.208,1050.29 508.333,1008.2 \n",
       "  537.779,888.634 567.224,811.338 596.03,755.641 625.155,673.483 654.6,650.667 684.046,559.769 713.171,381.407 742.297,282.368 771.742,176.567 801.187,306.875 \n",
       "  829.993,439.086 859.118,501.715 888.563,634.066 918.009,653.004 946.814,701.287 975.939,808.066 1005.38,909.687 1034.83,915.981 1063.64,878.101 1092.76,799.766 \n",
       "  1122.21,726.343 1151.65,660.886 1180.78,660.629 1209.9,697.404 1239.35,752.986 1268.79,702.934 1297.6,694.202 1326.72,698.109 1356.17,646.222 1385.61,723.909 \n",
       "  1414.42,672.632 1443.55,622.172 1472.99,642.93 1502.44,697.342 1531.24,846.993 1560.37,806.899 1589.81,790.779 1619.26,777.524 1648.38,618.723 1677.51,643.631 \n",
       "  1706.95,666.108 1736.4,609.823 1765.2,636.879 1794.33,735.261 1823.78,783.895 1853.22,791.466 1882.03,853.905 1911.15,814.339 1940.6,764.625 1970.04,771.874 \n",
       "  1998.85,841.863 2027.97,817.89 2057.42,846.88 2086.86,885.346 2115.99,820.163 2145.11,1014.35 2174.56,948.214 2204.01,940.937 2232.81,950.267 2261.94,781.277 \n",
       "  2291.38,780.451 \n",
       "  \"/>\n",
       "<polyline clip-path=\"url(#clip262)\" style=\"stroke:#ff0000; stroke-linecap:butt; stroke-linejoin:round; stroke-width:8; stroke-opacity:0.8; fill:none\" stroke-dasharray=\"32, 16, 4, 16\" points=\"\n",
       "  245.565,474.366 274.691,474.366 304.136,506.565 333.581,522.665 362.387,522.665 391.512,570.963 420.957,570.963 450.403,570.963 479.208,570.963 508.333,554.864 \n",
       "  537.779,490.465 567.224,409.968 596.03,377.768 625.155,361.669 654.6,297.271 684.046,216.773 713.171,184.574 742.297,120.175 771.742,87.9763 801.187,104.076 \n",
       "  829.993,232.872 859.118,458.266 888.563,554.864 918.009,570.963 946.814,587.063 975.939,619.262 1005.38,635.362 1034.83,699.76 1063.64,715.859 1092.76,715.859 \n",
       "  1122.21,715.859 1151.65,715.859 1180.78,715.859 1209.9,715.859 1239.35,764.158 1268.79,764.158 1297.6,764.158 1326.72,764.158 1356.17,764.158 1385.61,764.158 \n",
       "  1414.42,715.859 1443.55,715.859 1472.99,691.71 1502.44,691.71 1531.24,691.71 1560.37,691.71 1589.81,667.561 1619.26,651.461 1648.38,587.063 1677.51,570.963 \n",
       "  1706.95,570.963 1736.4,570.963 1765.2,570.963 1794.33,570.963 1823.78,595.113 1853.22,595.113 1882.03,603.162 1911.15,619.262 1940.6,619.262 1970.04,603.162 \n",
       "  1998.85,595.113 2027.97,595.113 2057.42,619.262 2086.86,619.262 2115.99,675.61 2145.11,868.805 2174.56,909.054 2204.01,909.054 2232.81,909.054 2261.94,909.054 \n",
       "  2291.38,909.054 \n",
       "  \"/>\n",
       "<polyline clip-path=\"url(#clip262)\" style=\"stroke:#000000; stroke-linecap:butt; stroke-linejoin:round; stroke-width:6; stroke-opacity:0.5; fill:none\" stroke-dasharray=\"24, 15\" points=\"\n",
       "  -1984.37,1247.15 4521.32,1247.15 \n",
       "  \"/>\n",
       "</svg>\n"
      ]
     },
     "execution_count": 52,
     "metadata": {},
     "output_type": "execute_result"
    }
   ],
   "source": [
    "repo = sa_data[!, :repo]\n",
    "plot(date_sa, inflation, legend = false, lw = 2, color = :blue, alpha = 0.6)\n",
    "plot!(date_sa, repo, legend = false, lw = 2, color = :red, alpha = 0.8, ls = :dashdot)\n",
    "plot!([0], legend = false, lw = 1.5, seriestype = :hline, color = :black, ls = :dash, alpha = 0.5)"
   ]
  },
  {
   "cell_type": "markdown",
   "metadata": {
    "slideshow": {
     "slide_type": "slide"
    }
   },
   "source": [
    "# Descriptive statistics"
   ]
  },
  {
   "cell_type": "code",
   "execution_count": 28,
   "metadata": {
    "slideshow": {
     "slide_type": "fragment"
    }
   },
   "outputs": [
    {
     "data": {
      "text/plain": [
       "3.7277526338028167e6"
      ]
     },
     "execution_count": 28,
     "metadata": {},
     "output_type": "execute_result"
    }
   ],
   "source": [
    "mean(gdp) # The average"
   ]
  },
  {
   "cell_type": "code",
   "execution_count": 37,
   "metadata": {
    "slideshow": {
     "slide_type": "fragment"
    }
   },
   "outputs": [
    {
     "data": {
      "text/plain": [
       "1.3124105578634653e6"
      ]
     },
     "execution_count": 37,
     "metadata": {},
     "output_type": "execute_result"
    }
   ],
   "source": [
    "std(gdp) # The standard deviation"
   ]
  },
  {
   "cell_type": "code",
   "execution_count": 36,
   "metadata": {
    "slideshow": {
     "slide_type": "fragment"
    }
   },
   "outputs": [
    {
     "data": {
      "text/html": [
       "<div class=\"data-frame\"><p>5 rows × 7 columns</p><table class=\"data-frame\"><thead><tr><th></th><th>variable</th><th>mean</th><th>min</th><th>median</th><th>max</th><th>nmissing</th><th>eltype</th></tr><tr><th></th><th title=\"Symbol\">Symbol</th><th title=\"Union{Nothing, Float64}\">Union…</th><th title=\"Any\">Any</th><th title=\"Any\">Any</th><th title=\"Any\">Any</th><th title=\"Int64\">Int64</th><th title=\"DataType\">DataType</th></tr></thead><tbody><tr><th>1</th><td>date</td><td></td><td>2004-03-31</td><td>2012-12-31</td><td>2021-09-30</td><td>0</td><td>Date</td></tr><tr><th>2</th><td>gdp</td><td>3.72775e6</td><td>1571580</td><td>3.71359e6</td><td>5819983</td><td>0</td><td>Int64</td></tr><tr><th>3</th><td>repo</td><td>6.73709</td><td>3.5</td><td>6.66667</td><td>12.0</td><td>0</td><td>Float64</td></tr><tr><th>4</th><td>cpi</td><td>82.2662</td><td>51.1689</td><td>80.0</td><td>122.233</td><td>0</td><td>Float64</td></tr><tr><th>5</th><td>inflation</td><td>4.83013</td><td>-2.05565</td><td>4.86163</td><td>11.0829</td><td>0</td><td>Float64</td></tr></tbody></table></div>"
      ],
      "text/latex": [
       "\\begin{tabular}{r|ccccccc}\n",
       "\t& variable & mean & min & median & max & nmissing & eltype\\\\\n",
       "\t\\hline\n",
       "\t& Symbol & Union… & Any & Any & Any & Int64 & DataType\\\\\n",
       "\t\\hline\n",
       "\t1 & date &  & 2004-03-31 & 2012-12-31 & 2021-09-30 & 0 & Date \\\\\n",
       "\t2 & gdp & 3.72775e6 & 1571580 & 3.71359e6 & 5819983 & 0 & Int64 \\\\\n",
       "\t3 & repo & 6.73709 & 3.5 & 6.66667 & 12.0 & 0 & Float64 \\\\\n",
       "\t4 & cpi & 82.2662 & 51.1689 & 80.0 & 122.233 & 0 & Float64 \\\\\n",
       "\t5 & inflation & 4.83013 & -2.05565 & 4.86163 & 11.0829 & 0 & Float64 \\\\\n",
       "\\end{tabular}\n"
      ],
      "text/plain": [
       "\u001b[1m5×7 DataFrame\u001b[0m\n",
       "\u001b[1m Row \u001b[0m│\u001b[1m variable  \u001b[0m\u001b[1m mean      \u001b[0m\u001b[1m min        \u001b[0m\u001b[1m median     \u001b[0m\u001b[1m max        \u001b[0m\u001b[1m nmissing \u001b[0m\u001b[1m eltype   \u001b[0m\n",
       "\u001b[1m     \u001b[0m│\u001b[90m Symbol    \u001b[0m\u001b[90m Union…    \u001b[0m\u001b[90m Any        \u001b[0m\u001b[90m Any        \u001b[0m\u001b[90m Any        \u001b[0m\u001b[90m Int64    \u001b[0m\u001b[90m DataType \u001b[0m\n",
       "─────┼──────────────────────────────────────────────────────────────────────────────\n",
       "   1 │ date      \u001b[90m           \u001b[0m 2004-03-31  2012-12-31  2021-09-30         0  Date\n",
       "  ⋮  │     ⋮          ⋮          ⋮           ⋮           ⋮          ⋮         ⋮\n",
       "\u001b[36m                                                                      4 rows omitted\u001b[0m"
      ]
     },
     "execution_count": 36,
     "metadata": {},
     "output_type": "execute_result"
    }
   ],
   "source": [
    "describe(sa_data)"
   ]
  },
  {
   "cell_type": "markdown",
   "metadata": {
    "slideshow": {
     "slide_type": "slide"
    }
   },
   "source": [
    "# Histogram\n",
    "\n",
    "Histogram gives general idea of what the distribution for **inflation** looks like,"
   ]
  },
  {
   "cell_type": "code",
   "execution_count": 41,
   "metadata": {
    "slideshow": {
     "slide_type": "fragment"
    }
   },
   "outputs": [
    {
     "data": {
      "image/svg+xml": [
       "<?xml version=\"1.0\" encoding=\"utf-8\"?>\n",
       "<svg xmlns=\"http://www.w3.org/2000/svg\" xmlns:xlink=\"http://www.w3.org/1999/xlink\" width=\"600\" height=\"400\" viewBox=\"0 0 2400 1600\">\n",
       "<defs>\n",
       "  <clipPath id=\"clip900\">\n",
       "    <rect x=\"0\" y=\"0\" width=\"2400\" height=\"1600\"/>\n",
       "  </clipPath>\n",
       "</defs>\n",
       "<path clip-path=\"url(#clip900)\" d=\"\n",
       "M0 1600 L2400 1600 L2400 0 L0 0  Z\n",
       "  \" fill=\"#ffffff\" fill-rule=\"evenodd\" fill-opacity=\"1\"/>\n",
       "<defs>\n",
       "  <clipPath id=\"clip901\">\n",
       "    <rect x=\"480\" y=\"0\" width=\"1681\" height=\"1600\"/>\n",
       "  </clipPath>\n",
       "</defs>\n",
       "<path clip-path=\"url(#clip900)\" d=\"\n",
       "M138.959 1486.45 L2352.76 1486.45 L2352.76 47.2441 L138.959 47.2441  Z\n",
       "  \" fill=\"#ffffff\" fill-rule=\"evenodd\" fill-opacity=\"1\"/>\n",
       "<defs>\n",
       "  <clipPath id=\"clip902\">\n",
       "    <rect x=\"138\" y=\"47\" width=\"2215\" height=\"1440\"/>\n",
       "  </clipPath>\n",
       "</defs>\n",
       "<polyline clip-path=\"url(#clip902)\" style=\"stroke:#000000; stroke-linecap:butt; stroke-linejoin:round; stroke-width:2; stroke-opacity:0.1; fill:none\" points=\"\n",
       "  392.074,1486.45 392.074,47.2441 \n",
       "  \"/>\n",
       "<polyline clip-path=\"url(#clip902)\" style=\"stroke:#000000; stroke-linecap:butt; stroke-linejoin:round; stroke-width:2; stroke-opacity:0.1; fill:none\" points=\"\n",
       "  654.776,1486.45 654.776,47.2441 \n",
       "  \"/>\n",
       "<polyline clip-path=\"url(#clip902)\" style=\"stroke:#000000; stroke-linecap:butt; stroke-linejoin:round; stroke-width:2; stroke-opacity:0.1; fill:none\" points=\"\n",
       "  917.479,1486.45 917.479,47.2441 \n",
       "  \"/>\n",
       "<polyline clip-path=\"url(#clip902)\" style=\"stroke:#000000; stroke-linecap:butt; stroke-linejoin:round; stroke-width:2; stroke-opacity:0.1; fill:none\" points=\"\n",
       "  1180.18,1486.45 1180.18,47.2441 \n",
       "  \"/>\n",
       "<polyline clip-path=\"url(#clip902)\" style=\"stroke:#000000; stroke-linecap:butt; stroke-linejoin:round; stroke-width:2; stroke-opacity:0.1; fill:none\" points=\"\n",
       "  1442.88,1486.45 1442.88,47.2441 \n",
       "  \"/>\n",
       "<polyline clip-path=\"url(#clip902)\" style=\"stroke:#000000; stroke-linecap:butt; stroke-linejoin:round; stroke-width:2; stroke-opacity:0.1; fill:none\" points=\"\n",
       "  1705.59,1486.45 1705.59,47.2441 \n",
       "  \"/>\n",
       "<polyline clip-path=\"url(#clip902)\" style=\"stroke:#000000; stroke-linecap:butt; stroke-linejoin:round; stroke-width:2; stroke-opacity:0.1; fill:none\" points=\"\n",
       "  1968.29,1486.45 1968.29,47.2441 \n",
       "  \"/>\n",
       "<polyline clip-path=\"url(#clip902)\" style=\"stroke:#000000; stroke-linecap:butt; stroke-linejoin:round; stroke-width:2; stroke-opacity:0.1; fill:none\" points=\"\n",
       "  2230.99,1486.45 2230.99,47.2441 \n",
       "  \"/>\n",
       "<polyline clip-path=\"url(#clip900)\" style=\"stroke:#000000; stroke-linecap:butt; stroke-linejoin:round; stroke-width:4; stroke-opacity:1; fill:none\" points=\"\n",
       "  138.959,1486.45 2352.76,1486.45 \n",
       "  \"/>\n",
       "<polyline clip-path=\"url(#clip900)\" style=\"stroke:#000000; stroke-linecap:butt; stroke-linejoin:round; stroke-width:4; stroke-opacity:1; fill:none\" points=\"\n",
       "  392.074,1486.45 392.074,1467.55 \n",
       "  \"/>\n",
       "<polyline clip-path=\"url(#clip900)\" style=\"stroke:#000000; stroke-linecap:butt; stroke-linejoin:round; stroke-width:4; stroke-opacity:1; fill:none\" points=\"\n",
       "  654.776,1486.45 654.776,1467.55 \n",
       "  \"/>\n",
       "<polyline clip-path=\"url(#clip900)\" style=\"stroke:#000000; stroke-linecap:butt; stroke-linejoin:round; stroke-width:4; stroke-opacity:1; fill:none\" points=\"\n",
       "  917.479,1486.45 917.479,1467.55 \n",
       "  \"/>\n",
       "<polyline clip-path=\"url(#clip900)\" style=\"stroke:#000000; stroke-linecap:butt; stroke-linejoin:round; stroke-width:4; stroke-opacity:1; fill:none\" points=\"\n",
       "  1180.18,1486.45 1180.18,1467.55 \n",
       "  \"/>\n",
       "<polyline clip-path=\"url(#clip900)\" style=\"stroke:#000000; stroke-linecap:butt; stroke-linejoin:round; stroke-width:4; stroke-opacity:1; fill:none\" points=\"\n",
       "  1442.88,1486.45 1442.88,1467.55 \n",
       "  \"/>\n",
       "<polyline clip-path=\"url(#clip900)\" style=\"stroke:#000000; stroke-linecap:butt; stroke-linejoin:round; stroke-width:4; stroke-opacity:1; fill:none\" points=\"\n",
       "  1705.59,1486.45 1705.59,1467.55 \n",
       "  \"/>\n",
       "<polyline clip-path=\"url(#clip900)\" style=\"stroke:#000000; stroke-linecap:butt; stroke-linejoin:round; stroke-width:4; stroke-opacity:1; fill:none\" points=\"\n",
       "  1968.29,1486.45 1968.29,1467.55 \n",
       "  \"/>\n",
       "<polyline clip-path=\"url(#clip900)\" style=\"stroke:#000000; stroke-linecap:butt; stroke-linejoin:round; stroke-width:4; stroke-opacity:1; fill:none\" points=\"\n",
       "  2230.99,1486.45 2230.99,1467.55 \n",
       "  \"/>\n",
       "<path clip-path=\"url(#clip900)\" d=\"M362.016 1532.02 L391.692 1532.02 L391.692 1535.95 L362.016 1535.95 L362.016 1532.02 Z\" fill=\"#000000\" fill-rule=\"evenodd\" fill-opacity=\"1\" /><path clip-path=\"url(#clip900)\" d=\"M405.812 1544.91 L422.131 1544.91 L422.131 1548.85 L400.187 1548.85 L400.187 1544.91 Q402.849 1542.16 407.432 1537.53 Q412.039 1532.88 413.219 1531.53 Q415.465 1529.01 416.344 1527.27 Q417.247 1525.51 417.247 1523.82 Q417.247 1521.07 415.303 1519.33 Q413.381 1517.6 410.28 1517.6 Q408.08 1517.6 405.627 1518.36 Q403.196 1519.13 400.418 1520.68 L400.418 1515.95 Q403.243 1514.82 405.696 1514.24 Q408.15 1513.66 410.187 1513.66 Q415.557 1513.66 418.752 1516.35 Q421.946 1519.03 421.946 1523.52 Q421.946 1525.65 421.136 1527.57 Q420.349 1529.47 418.242 1532.07 Q417.664 1532.74 414.562 1535.95 Q411.46 1539.15 405.812 1544.91 Z\" fill=\"#000000\" fill-rule=\"evenodd\" fill-opacity=\"1\" /><path clip-path=\"url(#clip900)\" d=\"M654.776 1517.37 Q651.165 1517.37 649.337 1520.93 Q647.531 1524.47 647.531 1531.6 Q647.531 1538.71 649.337 1542.27 Q651.165 1545.82 654.776 1545.82 Q658.411 1545.82 660.216 1542.27 Q662.045 1538.71 662.045 1531.6 Q662.045 1524.47 660.216 1520.93 Q658.411 1517.37 654.776 1517.37 M654.776 1513.66 Q660.587 1513.66 663.642 1518.27 Q666.721 1522.85 666.721 1531.6 Q666.721 1540.33 663.642 1544.94 Q660.587 1549.52 654.776 1549.52 Q648.966 1549.52 645.888 1544.94 Q642.832 1540.33 642.832 1531.6 Q642.832 1522.85 645.888 1518.27 Q648.966 1513.66 654.776 1513.66 Z\" fill=\"#000000\" fill-rule=\"evenodd\" fill-opacity=\"1\" /><path clip-path=\"url(#clip900)\" d=\"M912.132 1544.91 L928.451 1544.91 L928.451 1548.85 L906.507 1548.85 L906.507 1544.91 Q909.169 1542.16 913.752 1537.53 Q918.359 1532.88 919.539 1531.53 Q921.785 1529.01 922.664 1527.27 Q923.567 1525.51 923.567 1523.82 Q923.567 1521.07 921.623 1519.33 Q919.701 1517.6 916.6 1517.6 Q914.4 1517.6 911.947 1518.36 Q909.516 1519.13 906.738 1520.68 L906.738 1515.95 Q909.563 1514.82 912.016 1514.24 Q914.47 1513.66 916.507 1513.66 Q921.877 1513.66 925.072 1516.35 Q928.266 1519.03 928.266 1523.52 Q928.266 1525.65 927.456 1527.57 Q926.669 1529.47 924.562 1532.07 Q923.984 1532.74 920.882 1535.95 Q917.78 1539.15 912.132 1544.91 Z\" fill=\"#000000\" fill-rule=\"evenodd\" fill-opacity=\"1\" /><path clip-path=\"url(#clip900)\" d=\"M1183.19 1518.36 L1171.39 1536.81 L1183.19 1536.81 L1183.19 1518.36 M1181.96 1514.29 L1187.84 1514.29 L1187.84 1536.81 L1192.77 1536.81 L1192.77 1540.7 L1187.84 1540.7 L1187.84 1548.85 L1183.19 1548.85 L1183.19 1540.7 L1167.59 1540.7 L1167.59 1536.19 L1181.96 1514.29 Z\" fill=\"#000000\" fill-rule=\"evenodd\" fill-opacity=\"1\" /><path clip-path=\"url(#clip900)\" d=\"M1443.29 1529.7 Q1440.14 1529.7 1438.29 1531.86 Q1436.46 1534.01 1436.46 1537.76 Q1436.46 1541.49 1438.29 1543.66 Q1440.14 1545.82 1443.29 1545.82 Q1446.44 1545.82 1448.27 1543.66 Q1450.12 1541.49 1450.12 1537.76 Q1450.12 1534.01 1448.27 1531.86 Q1446.44 1529.7 1443.29 1529.7 M1452.57 1515.05 L1452.57 1519.31 Q1450.81 1518.48 1449.01 1518.04 Q1447.23 1517.6 1445.47 1517.6 Q1440.84 1517.6 1438.38 1520.72 Q1435.95 1523.85 1435.6 1530.17 Q1436.97 1528.15 1439.03 1527.09 Q1441.09 1526 1443.57 1526 Q1448.78 1526 1451.79 1529.17 Q1454.82 1532.32 1454.82 1537.76 Q1454.82 1543.08 1451.67 1546.3 Q1448.52 1549.52 1443.29 1549.52 Q1437.29 1549.52 1434.12 1544.94 Q1430.95 1540.33 1430.95 1531.6 Q1430.95 1523.41 1434.84 1518.55 Q1438.73 1513.66 1445.28 1513.66 Q1447.04 1513.66 1448.82 1514.01 Q1450.63 1514.36 1452.57 1515.05 Z\" fill=\"#000000\" fill-rule=\"evenodd\" fill-opacity=\"1\" /><path clip-path=\"url(#clip900)\" d=\"M1705.59 1532.44 Q1702.25 1532.44 1700.33 1534.22 Q1698.43 1536 1698.43 1539.13 Q1698.43 1542.25 1700.33 1544.03 Q1702.25 1545.82 1705.59 1545.82 Q1708.92 1545.82 1710.84 1544.03 Q1712.76 1542.23 1712.76 1539.13 Q1712.76 1536 1710.84 1534.22 Q1708.94 1532.44 1705.59 1532.44 M1700.91 1530.45 Q1697.9 1529.7 1696.21 1527.64 Q1694.55 1525.58 1694.55 1522.62 Q1694.55 1518.48 1697.49 1516.07 Q1700.45 1513.66 1705.59 1513.66 Q1710.75 1513.66 1713.69 1516.07 Q1716.63 1518.48 1716.63 1522.62 Q1716.63 1525.58 1714.94 1527.64 Q1713.27 1529.7 1710.29 1530.45 Q1713.67 1531.23 1715.54 1533.52 Q1717.44 1535.82 1717.44 1539.13 Q1717.44 1544.15 1714.36 1546.83 Q1711.31 1549.52 1705.59 1549.52 Q1699.87 1549.52 1696.79 1546.83 Q1693.74 1544.15 1693.74 1539.13 Q1693.74 1535.82 1695.63 1533.52 Q1697.53 1531.23 1700.91 1530.45 M1699.2 1523.06 Q1699.2 1525.75 1700.87 1527.25 Q1702.56 1528.76 1705.59 1528.76 Q1708.6 1528.76 1710.29 1527.25 Q1712 1525.75 1712 1523.06 Q1712 1520.38 1710.29 1518.87 Q1708.6 1517.37 1705.59 1517.37 Q1702.56 1517.37 1700.87 1518.87 Q1699.2 1520.38 1699.2 1523.06 Z\" fill=\"#000000\" fill-rule=\"evenodd\" fill-opacity=\"1\" /><path clip-path=\"url(#clip900)\" d=\"M1942.98 1544.91 L1950.62 1544.91 L1950.62 1518.55 L1942.31 1520.21 L1942.31 1515.95 L1950.57 1514.29 L1955.25 1514.29 L1955.25 1544.91 L1962.89 1544.91 L1962.89 1548.85 L1942.98 1548.85 L1942.98 1544.91 Z\" fill=\"#000000\" fill-rule=\"evenodd\" fill-opacity=\"1\" /><path clip-path=\"url(#clip900)\" d=\"M1982.33 1517.37 Q1978.72 1517.37 1976.89 1520.93 Q1975.08 1524.47 1975.08 1531.6 Q1975.08 1538.71 1976.89 1542.27 Q1978.72 1545.82 1982.33 1545.82 Q1985.96 1545.82 1987.77 1542.27 Q1989.6 1538.71 1989.6 1531.6 Q1989.6 1524.47 1987.77 1520.93 Q1985.96 1517.37 1982.33 1517.37 M1982.33 1513.66 Q1988.14 1513.66 1991.2 1518.27 Q1994.27 1522.85 1994.27 1531.6 Q1994.27 1540.33 1991.2 1544.94 Q1988.14 1549.52 1982.33 1549.52 Q1976.52 1549.52 1973.44 1544.94 Q1970.39 1540.33 1970.39 1531.6 Q1970.39 1522.85 1973.44 1518.27 Q1976.52 1513.66 1982.33 1513.66 Z\" fill=\"#000000\" fill-rule=\"evenodd\" fill-opacity=\"1\" /><path clip-path=\"url(#clip900)\" d=\"M2206.48 1544.91 L2214.12 1544.91 L2214.12 1518.55 L2205.81 1520.21 L2205.81 1515.95 L2214.07 1514.29 L2218.75 1514.29 L2218.75 1544.91 L2226.39 1544.91 L2226.39 1548.85 L2206.48 1548.85 L2206.48 1544.91 Z\" fill=\"#000000\" fill-rule=\"evenodd\" fill-opacity=\"1\" /><path clip-path=\"url(#clip900)\" d=\"M2239.86 1544.91 L2256.18 1544.91 L2256.18 1548.85 L2234.23 1548.85 L2234.23 1544.91 Q2236.9 1542.16 2241.48 1537.53 Q2246.09 1532.88 2247.27 1531.53 Q2249.51 1529.01 2250.39 1527.27 Q2251.29 1525.51 2251.29 1523.82 Q2251.29 1521.07 2249.35 1519.33 Q2247.43 1517.6 2244.33 1517.6 Q2242.13 1517.6 2239.67 1518.36 Q2237.24 1519.13 2234.47 1520.68 L2234.47 1515.95 Q2237.29 1514.82 2239.74 1514.24 Q2242.2 1513.66 2244.23 1513.66 Q2249.6 1513.66 2252.8 1516.35 Q2255.99 1519.03 2255.99 1523.52 Q2255.99 1525.65 2255.18 1527.57 Q2254.4 1529.47 2252.29 1532.07 Q2251.71 1532.74 2248.61 1535.95 Q2245.51 1539.15 2239.86 1544.91 Z\" fill=\"#000000\" fill-rule=\"evenodd\" fill-opacity=\"1\" /><polyline clip-path=\"url(#clip902)\" style=\"stroke:#000000; stroke-linecap:butt; stroke-linejoin:round; stroke-width:2; stroke-opacity:0.1; fill:none\" points=\"\n",
       "  138.959,1445.72 2352.76,1445.72 \n",
       "  \"/>\n",
       "<polyline clip-path=\"url(#clip902)\" style=\"stroke:#000000; stroke-linecap:butt; stroke-linejoin:round; stroke-width:2; stroke-opacity:0.1; fill:none\" points=\"\n",
       "  138.959,1088.42 2352.76,1088.42 \n",
       "  \"/>\n",
       "<polyline clip-path=\"url(#clip902)\" style=\"stroke:#000000; stroke-linecap:butt; stroke-linejoin:round; stroke-width:2; stroke-opacity:0.1; fill:none\" points=\"\n",
       "  138.959,731.116 2352.76,731.116 \n",
       "  \"/>\n",
       "<polyline clip-path=\"url(#clip902)\" style=\"stroke:#000000; stroke-linecap:butt; stroke-linejoin:round; stroke-width:2; stroke-opacity:0.1; fill:none\" points=\"\n",
       "  138.959,373.816 2352.76,373.816 \n",
       "  \"/>\n",
       "<polyline clip-path=\"url(#clip900)\" style=\"stroke:#000000; stroke-linecap:butt; stroke-linejoin:round; stroke-width:4; stroke-opacity:1; fill:none\" points=\"\n",
       "  138.959,1486.45 138.959,47.2441 \n",
       "  \"/>\n",
       "<polyline clip-path=\"url(#clip900)\" style=\"stroke:#000000; stroke-linecap:butt; stroke-linejoin:round; stroke-width:4; stroke-opacity:1; fill:none\" points=\"\n",
       "  138.959,1445.72 157.857,1445.72 \n",
       "  \"/>\n",
       "<polyline clip-path=\"url(#clip900)\" style=\"stroke:#000000; stroke-linecap:butt; stroke-linejoin:round; stroke-width:4; stroke-opacity:1; fill:none\" points=\"\n",
       "  138.959,1088.42 157.857,1088.42 \n",
       "  \"/>\n",
       "<polyline clip-path=\"url(#clip900)\" style=\"stroke:#000000; stroke-linecap:butt; stroke-linejoin:round; stroke-width:4; stroke-opacity:1; fill:none\" points=\"\n",
       "  138.959,731.116 157.857,731.116 \n",
       "  \"/>\n",
       "<polyline clip-path=\"url(#clip900)\" style=\"stroke:#000000; stroke-linecap:butt; stroke-linejoin:round; stroke-width:4; stroke-opacity:1; fill:none\" points=\"\n",
       "  138.959,373.816 157.857,373.816 \n",
       "  \"/>\n",
       "<path clip-path=\"url(#clip900)\" d=\"M91.0151 1431.51 Q87.404 1431.51 85.5753 1435.08 Q83.7697 1438.62 83.7697 1445.75 Q83.7697 1452.86 85.5753 1456.42 Q87.404 1459.96 91.0151 1459.96 Q94.6493 1459.96 96.4548 1456.42 Q98.2835 1452.86 98.2835 1445.75 Q98.2835 1438.62 96.4548 1435.08 Q94.6493 1431.51 91.0151 1431.51 M91.0151 1427.81 Q96.8252 1427.81 99.8808 1432.42 Q102.959 1437 102.959 1445.75 Q102.959 1454.48 99.8808 1459.08 Q96.8252 1463.67 91.0151 1463.67 Q85.2049 1463.67 82.1262 1459.08 Q79.0707 1454.48 79.0707 1445.75 Q79.0707 1437 82.1262 1432.42 Q85.2049 1427.81 91.0151 1427.81 Z\" fill=\"#000000\" fill-rule=\"evenodd\" fill-opacity=\"1\" /><path clip-path=\"url(#clip900)\" d=\"M82.0568 1071.14 L100.413 1071.14 L100.413 1075.07 L86.3392 1075.07 L86.3392 1083.54 Q87.3577 1083.2 88.3762 1083.03 Q89.3947 1082.85 90.4132 1082.85 Q96.2002 1082.85 99.5798 1086.02 Q102.959 1089.19 102.959 1094.61 Q102.959 1100.19 99.4872 1103.29 Q96.015 1106.37 89.6956 1106.37 Q87.5197 1106.37 85.2512 1106 Q83.0058 1105.63 80.5984 1104.89 L80.5984 1100.19 Q82.6818 1101.32 84.904 1101.88 Q87.1262 1102.43 89.603 1102.43 Q93.6076 1102.43 95.9456 1100.33 Q98.2835 1098.22 98.2835 1094.61 Q98.2835 1091 95.9456 1088.89 Q93.6076 1086.78 89.603 1086.78 Q87.728 1086.78 85.8531 1087.2 Q84.0012 1087.62 82.0568 1088.5 L82.0568 1071.14 Z\" fill=\"#000000\" fill-rule=\"evenodd\" fill-opacity=\"1\" /><path clip-path=\"url(#clip900)\" d=\"M51.6634 744.461 L59.3023 744.461 L59.3023 718.095 L50.9921 719.762 L50.9921 715.503 L59.256 713.836 L63.9319 713.836 L63.9319 744.461 L71.5707 744.461 L71.5707 748.396 L51.6634 748.396 L51.6634 744.461 Z\" fill=\"#000000\" fill-rule=\"evenodd\" fill-opacity=\"1\" /><path clip-path=\"url(#clip900)\" d=\"M91.0151 716.915 Q87.404 716.915 85.5753 720.479 Q83.7697 724.021 83.7697 731.151 Q83.7697 738.257 85.5753 741.822 Q87.404 745.364 91.0151 745.364 Q94.6493 745.364 96.4548 741.822 Q98.2835 738.257 98.2835 731.151 Q98.2835 724.021 96.4548 720.479 Q94.6493 716.915 91.0151 716.915 M91.0151 713.211 Q96.8252 713.211 99.8808 717.817 Q102.959 722.401 102.959 731.151 Q102.959 739.878 99.8808 744.484 Q96.8252 749.067 91.0151 749.067 Q85.2049 749.067 82.1262 744.484 Q79.0707 739.878 79.0707 731.151 Q79.0707 722.401 82.1262 717.817 Q85.2049 713.211 91.0151 713.211 Z\" fill=\"#000000\" fill-rule=\"evenodd\" fill-opacity=\"1\" /><path clip-path=\"url(#clip900)\" d=\"M52.6588 387.161 L60.2976 387.161 L60.2976 360.795 L51.9875 362.462 L51.9875 358.203 L60.2513 356.536 L64.9272 356.536 L64.9272 387.161 L72.5661 387.161 L72.5661 391.096 L52.6588 391.096 L52.6588 387.161 Z\" fill=\"#000000\" fill-rule=\"evenodd\" fill-opacity=\"1\" /><path clip-path=\"url(#clip900)\" d=\"M82.0568 356.536 L100.413 356.536 L100.413 360.471 L86.3392 360.471 L86.3392 368.943 Q87.3577 368.596 88.3762 368.434 Q89.3947 368.249 90.4132 368.249 Q96.2002 368.249 99.5798 371.42 Q102.959 374.592 102.959 380.008 Q102.959 385.587 99.4872 388.689 Q96.015 391.767 89.6956 391.767 Q87.5197 391.767 85.2512 391.397 Q83.0058 391.027 80.5984 390.286 L80.5984 385.587 Q82.6818 386.721 84.904 387.277 Q87.1262 387.832 89.603 387.832 Q93.6076 387.832 95.9456 385.726 Q98.2835 383.619 98.2835 380.008 Q98.2835 376.397 95.9456 374.291 Q93.6076 372.184 89.603 372.184 Q87.728 372.184 85.8531 372.601 Q84.0012 373.018 82.0568 373.897 L82.0568 356.536 Z\" fill=\"#000000\" fill-rule=\"evenodd\" fill-opacity=\"1\" /><path clip-path=\"url(#clip902)\" d=\"\n",
       "M260.722 1302.8 L260.722 1445.72 L392.074 1445.72 L392.074 1302.8 L260.722 1302.8 L260.722 1302.8  Z\n",
       "  \" fill=\"#009af9\" fill-rule=\"evenodd\" fill-opacity=\"0.5\"/>\n",
       "<polyline clip-path=\"url(#clip902)\" style=\"stroke:#000000; stroke-linecap:butt; stroke-linejoin:round; stroke-width:4; stroke-opacity:0.5; fill:none\" points=\"\n",
       "  260.722,1302.8 260.722,1445.72 392.074,1445.72 392.074,1302.8 260.722,1302.8 \n",
       "  \"/>\n",
       "<path clip-path=\"url(#clip902)\" d=\"\n",
       "M392.074 1374.26 L392.074 1445.72 L523.425 1445.72 L523.425 1374.26 L392.074 1374.26 L392.074 1374.26  Z\n",
       "  \" fill=\"#009af9\" fill-rule=\"evenodd\" fill-opacity=\"0.5\"/>\n",
       "<polyline clip-path=\"url(#clip902)\" style=\"stroke:#000000; stroke-linecap:butt; stroke-linejoin:round; stroke-width:4; stroke-opacity:0.5; fill:none\" points=\"\n",
       "  392.074,1374.26 392.074,1445.72 523.425,1445.72 523.425,1374.26 392.074,1374.26 \n",
       "  \"/>\n",
       "<path clip-path=\"url(#clip902)\" d=\"\n",
       "M523.425 1445.72 L523.425 1445.72 L654.776 1445.72 L654.776 1445.72 L523.425 1445.72 L523.425 1445.72  Z\n",
       "  \" fill=\"#009af9\" fill-rule=\"evenodd\" fill-opacity=\"0.5\"/>\n",
       "<polyline clip-path=\"url(#clip902)\" style=\"stroke:#000000; stroke-linecap:butt; stroke-linejoin:round; stroke-width:4; stroke-opacity:0.5; fill:none\" points=\"\n",
       "  523.425,1445.72 523.425,1445.72 654.776,1445.72 523.425,1445.72 \n",
       "  \"/>\n",
       "<path clip-path=\"url(#clip902)\" d=\"\n",
       "M654.776 1445.72 L654.776 1445.72 L786.128 1445.72 L786.128 1445.72 L654.776 1445.72 L654.776 1445.72  Z\n",
       "  \" fill=\"#009af9\" fill-rule=\"evenodd\" fill-opacity=\"0.5\"/>\n",
       "<polyline clip-path=\"url(#clip902)\" style=\"stroke:#000000; stroke-linecap:butt; stroke-linejoin:round; stroke-width:4; stroke-opacity:0.5; fill:none\" points=\"\n",
       "  654.776,1445.72 654.776,1445.72 786.128,1445.72 654.776,1445.72 \n",
       "  \"/>\n",
       "<path clip-path=\"url(#clip902)\" d=\"\n",
       "M786.128 1231.34 L786.128 1445.72 L917.479 1445.72 L917.479 1231.34 L786.128 1231.34 L786.128 1231.34  Z\n",
       "  \" fill=\"#009af9\" fill-rule=\"evenodd\" fill-opacity=\"0.5\"/>\n",
       "<polyline clip-path=\"url(#clip902)\" style=\"stroke:#000000; stroke-linecap:butt; stroke-linejoin:round; stroke-width:4; stroke-opacity:0.5; fill:none\" points=\"\n",
       "  786.128,1231.34 786.128,1445.72 917.479,1445.72 917.479,1231.34 786.128,1231.34 \n",
       "  \"/>\n",
       "<path clip-path=\"url(#clip902)\" d=\"\n",
       "M917.479 1088.42 L917.479 1445.72 L1048.83 1445.72 L1048.83 1088.42 L917.479 1088.42 L917.479 1088.42  Z\n",
       "  \" fill=\"#009af9\" fill-rule=\"evenodd\" fill-opacity=\"0.5\"/>\n",
       "<polyline clip-path=\"url(#clip902)\" style=\"stroke:#000000; stroke-linecap:butt; stroke-linejoin:round; stroke-width:4; stroke-opacity:0.5; fill:none\" points=\"\n",
       "  917.479,1088.42 917.479,1445.72 1048.83,1445.72 1048.83,1088.42 917.479,1088.42 \n",
       "  \"/>\n",
       "<path clip-path=\"url(#clip902)\" d=\"\n",
       "M1048.83 874.036 L1048.83 1445.72 L1180.18 1445.72 L1180.18 874.036 L1048.83 874.036 L1048.83 874.036  Z\n",
       "  \" fill=\"#009af9\" fill-rule=\"evenodd\" fill-opacity=\"0.5\"/>\n",
       "<polyline clip-path=\"url(#clip902)\" style=\"stroke:#000000; stroke-linecap:butt; stroke-linejoin:round; stroke-width:4; stroke-opacity:0.5; fill:none\" points=\"\n",
       "  1048.83,874.036 1048.83,1445.72 1180.18,1445.72 1180.18,874.036 1048.83,874.036 \n",
       "  \"/>\n",
       "<path clip-path=\"url(#clip902)\" d=\"\n",
       "M1180.18 87.9763 L1180.18 1445.72 L1311.53 1445.72 L1311.53 87.9763 L1180.18 87.9763 L1180.18 87.9763  Z\n",
       "  \" fill=\"#009af9\" fill-rule=\"evenodd\" fill-opacity=\"0.5\"/>\n",
       "<polyline clip-path=\"url(#clip902)\" style=\"stroke:#000000; stroke-linecap:butt; stroke-linejoin:round; stroke-width:4; stroke-opacity:0.5; fill:none\" points=\"\n",
       "  1180.18,87.9763 1180.18,1445.72 1311.53,1445.72 1311.53,87.9763 1180.18,87.9763 \n",
       "  \"/>\n",
       "<path clip-path=\"url(#clip902)\" d=\"\n",
       "M1311.53 516.736 L1311.53 1445.72 L1442.88 1445.72 L1442.88 516.736 L1311.53 516.736 L1311.53 516.736  Z\n",
       "  \" fill=\"#009af9\" fill-rule=\"evenodd\" fill-opacity=\"0.5\"/>\n",
       "<polyline clip-path=\"url(#clip902)\" style=\"stroke:#000000; stroke-linecap:butt; stroke-linejoin:round; stroke-width:4; stroke-opacity:0.5; fill:none\" points=\"\n",
       "  1311.53,516.736 1311.53,1445.72 1442.88,1445.72 1442.88,516.736 1311.53,516.736 \n",
       "  \"/>\n",
       "<path clip-path=\"url(#clip902)\" d=\"\n",
       "M1442.88 516.736 L1442.88 1445.72 L1574.24 1445.72 L1574.24 516.736 L1442.88 516.736 L1442.88 516.736  Z\n",
       "  \" fill=\"#009af9\" fill-rule=\"evenodd\" fill-opacity=\"0.5\"/>\n",
       "<polyline clip-path=\"url(#clip902)\" style=\"stroke:#000000; stroke-linecap:butt; stroke-linejoin:round; stroke-width:4; stroke-opacity:0.5; fill:none\" points=\"\n",
       "  1442.88,516.736 1442.88,1445.72 1574.24,1445.72 1574.24,516.736 1442.88,516.736 \n",
       "  \"/>\n",
       "<path clip-path=\"url(#clip902)\" d=\"\n",
       "M1574.24 1302.8 L1574.24 1445.72 L1705.59 1445.72 L1705.59 1302.8 L1574.24 1302.8 L1574.24 1302.8  Z\n",
       "  \" fill=\"#009af9\" fill-rule=\"evenodd\" fill-opacity=\"0.5\"/>\n",
       "<polyline clip-path=\"url(#clip902)\" style=\"stroke:#000000; stroke-linecap:butt; stroke-linejoin:round; stroke-width:4; stroke-opacity:0.5; fill:none\" points=\"\n",
       "  1574.24,1302.8 1574.24,1445.72 1705.59,1445.72 1705.59,1302.8 1574.24,1302.8 \n",
       "  \"/>\n",
       "<path clip-path=\"url(#clip902)\" d=\"\n",
       "M1705.59 1302.8 L1705.59 1445.72 L1836.94 1445.72 L1836.94 1302.8 L1705.59 1302.8 L1705.59 1302.8  Z\n",
       "  \" fill=\"#009af9\" fill-rule=\"evenodd\" fill-opacity=\"0.5\"/>\n",
       "<polyline clip-path=\"url(#clip902)\" style=\"stroke:#000000; stroke-linecap:butt; stroke-linejoin:round; stroke-width:4; stroke-opacity:0.5; fill:none\" points=\"\n",
       "  1705.59,1302.8 1705.59,1445.72 1836.94,1445.72 1836.94,1302.8 1705.59,1302.8 \n",
       "  \"/>\n",
       "<path clip-path=\"url(#clip902)\" d=\"\n",
       "M1836.94 1302.8 L1836.94 1445.72 L1968.29 1445.72 L1968.29 1302.8 L1836.94 1302.8 L1836.94 1302.8  Z\n",
       "  \" fill=\"#009af9\" fill-rule=\"evenodd\" fill-opacity=\"0.5\"/>\n",
       "<polyline clip-path=\"url(#clip902)\" style=\"stroke:#000000; stroke-linecap:butt; stroke-linejoin:round; stroke-width:4; stroke-opacity:0.5; fill:none\" points=\"\n",
       "  1836.94,1302.8 1836.94,1445.72 1968.29,1445.72 1968.29,1302.8 1836.94,1302.8 \n",
       "  \"/>\n",
       "<path clip-path=\"url(#clip902)\" d=\"\n",
       "M1968.29 1445.72 L1968.29 1445.72 L2099.64 1445.72 L2099.64 1445.72 L1968.29 1445.72 L1968.29 1445.72  Z\n",
       "  \" fill=\"#009af9\" fill-rule=\"evenodd\" fill-opacity=\"0.5\"/>\n",
       "<polyline clip-path=\"url(#clip902)\" style=\"stroke:#000000; stroke-linecap:butt; stroke-linejoin:round; stroke-width:4; stroke-opacity:0.5; fill:none\" points=\"\n",
       "  1968.29,1445.72 1968.29,1445.72 2099.64,1445.72 1968.29,1445.72 \n",
       "  \"/>\n",
       "<path clip-path=\"url(#clip902)\" d=\"\n",
       "M2099.64 1374.26 L2099.64 1445.72 L2230.99 1445.72 L2230.99 1374.26 L2099.64 1374.26 L2099.64 1374.26  Z\n",
       "  \" fill=\"#009af9\" fill-rule=\"evenodd\" fill-opacity=\"0.5\"/>\n",
       "<polyline clip-path=\"url(#clip902)\" style=\"stroke:#000000; stroke-linecap:butt; stroke-linejoin:round; stroke-width:4; stroke-opacity:0.5; fill:none\" points=\"\n",
       "  2099.64,1374.26 2099.64,1445.72 2230.99,1445.72 2230.99,1374.26 2099.64,1374.26 \n",
       "  \"/>\n",
       "<circle clip-path=\"url(#clip902)\" style=\"fill:#009af9; stroke:none; fill-opacity:0\" cx=\"326.398\" cy=\"1302.8\" r=\"2\"/>\n",
       "<circle clip-path=\"url(#clip902)\" style=\"fill:#009af9; stroke:none; fill-opacity:0\" cx=\"457.749\" cy=\"1374.26\" r=\"2\"/>\n",
       "<circle clip-path=\"url(#clip902)\" style=\"fill:#009af9; stroke:none; fill-opacity:0\" cx=\"589.101\" cy=\"1445.72\" r=\"2\"/>\n",
       "<circle clip-path=\"url(#clip902)\" style=\"fill:#009af9; stroke:none; fill-opacity:0\" cx=\"720.452\" cy=\"1445.72\" r=\"2\"/>\n",
       "<circle clip-path=\"url(#clip902)\" style=\"fill:#009af9; stroke:none; fill-opacity:0\" cx=\"851.803\" cy=\"1231.34\" r=\"2\"/>\n",
       "<circle clip-path=\"url(#clip902)\" style=\"fill:#009af9; stroke:none; fill-opacity:0\" cx=\"983.155\" cy=\"1088.42\" r=\"2\"/>\n",
       "<circle clip-path=\"url(#clip902)\" style=\"fill:#009af9; stroke:none; fill-opacity:0\" cx=\"1114.51\" cy=\"874.036\" r=\"2\"/>\n",
       "<circle clip-path=\"url(#clip902)\" style=\"fill:#009af9; stroke:none; fill-opacity:0\" cx=\"1245.86\" cy=\"87.9763\" r=\"2\"/>\n",
       "<circle clip-path=\"url(#clip902)\" style=\"fill:#009af9; stroke:none; fill-opacity:0\" cx=\"1377.21\" cy=\"516.736\" r=\"2\"/>\n",
       "<circle clip-path=\"url(#clip902)\" style=\"fill:#009af9; stroke:none; fill-opacity:0\" cx=\"1508.56\" cy=\"516.736\" r=\"2\"/>\n",
       "<circle clip-path=\"url(#clip902)\" style=\"fill:#009af9; stroke:none; fill-opacity:0\" cx=\"1639.91\" cy=\"1302.8\" r=\"2\"/>\n",
       "<circle clip-path=\"url(#clip902)\" style=\"fill:#009af9; stroke:none; fill-opacity:0\" cx=\"1771.26\" cy=\"1302.8\" r=\"2\"/>\n",
       "<circle clip-path=\"url(#clip902)\" style=\"fill:#009af9; stroke:none; fill-opacity:0\" cx=\"1902.61\" cy=\"1302.8\" r=\"2\"/>\n",
       "<circle clip-path=\"url(#clip902)\" style=\"fill:#009af9; stroke:none; fill-opacity:0\" cx=\"2033.97\" cy=\"1445.72\" r=\"2\"/>\n",
       "<circle clip-path=\"url(#clip902)\" style=\"fill:#009af9; stroke:none; fill-opacity:0\" cx=\"2165.32\" cy=\"1374.26\" r=\"2\"/>\n",
       "<polyline clip-path=\"url(#clip902)\" style=\"stroke:#000000; stroke-linecap:butt; stroke-linejoin:round; stroke-width:12; stroke-opacity:1; fill:none\" stroke-dasharray=\"48, 30\" points=\"\n",
       "  1289.22,2925.65 1289.22,-1391.96 \n",
       "  \"/>\n",
       "</svg>\n"
      ]
     },
     "execution_count": 41,
     "metadata": {},
     "output_type": "execute_result"
    }
   ],
   "source": [
    "histogram(inflation, legend = false, alpha = 0.5, bins = 20)\n",
    "plot!([mean(inflation)],  seriestype = :vline, lw = 3, colour = :black, ls = :dash) # plots the mean value"
   ]
  },
  {
   "cell_type": "markdown",
   "metadata": {
    "slideshow": {
     "slide_type": "slide"
    }
   },
   "source": [
    "## Growth rates\n",
    "\n",
    "Computing growth rates is quite important in macroeconomics. \n",
    "\n",
    "This is something that you will frequently encounter. \n",
    "\n",
    "The growth rate between subsequent two dates can be calculated as follows, \n",
    "\n",
    "$$\n",
    "\\left(\\frac{Y_{t} - Y_{t-1}}{Y_{t-1}}\\right) \\times 100 = \\left(\\frac{Y_{t}}{Y_{t-1}} - 1\\right) \\times 100 \n",
    "$$\n"
   ]
  },
  {
   "cell_type": "markdown",
   "metadata": {
    "slideshow": {
     "slide_type": "slide"
    }
   },
   "source": [
    "## Growth rates\n",
    "\n",
    "The growth rate from one quarter to the same quarter next year is, \n",
    "\n",
    "$$\n",
    "\\left(\\frac{Y_{t}}{Y_{t-4}} - 1\\right) \\times 100 \n",
    "$$\n",
    "\n",
    "For monthly or quarterly growth rates at an annual rate, \n",
    "\n",
    "$$\n",
    "\\left(\\left[\\frac{Y_{t}}{Y_{t-1}}\\right]^{n} - 1\\right) \\times 100 \n",
    "$$\n",
    "\n",
    "where $n = 4$ represents quarterly growth and $n = 12$ gives monthly growth. "
   ]
  },
  {
   "cell_type": "markdown",
   "metadata": {
    "slideshow": {
     "slide_type": "slide"
    }
   },
   "source": [
    "## Growth rates\n",
    "\n",
    "Let us try calculating some growth rates with the data at hand.\n",
    "\n",
    "We will focus on GDP growth rates for this example, "
   ]
  },
  {
   "cell_type": "code",
   "execution_count": 53,
   "metadata": {
    "slideshow": {
     "slide_type": "fragment"
    }
   },
   "outputs": [
    {
     "data": {
      "text/plain": [
       "4.414220084246427"
      ]
     },
     "execution_count": 53,
     "metadata": {},
     "output_type": "execute_result"
    }
   ],
   "source": [
    "gdp_first = sa_data[1, :gdp]; # first value of the GDP series\n",
    "gdp_second = sa_data[2, :gdp]; # second value of the GDP series\n",
    "\n",
    "gdp_growth_1 = ((gdp_second - gdp_first)/gdp_first) * 100 # using the formula for growth between two periods. "
   ]
  },
  {
   "cell_type": "markdown",
   "metadata": {
    "slideshow": {
     "slide_type": "slide"
    }
   },
   "source": [
    "## Growth rates\n",
    "\n",
    "There is an alternative way to calculate an approximation to the growth rate.\n",
    "\n",
    "We can simply take the natural logarithm of the two values and subtract them from each other. \n",
    "\n",
    "In other words we have that, \n",
    "\n",
    "$$\n",
    "\\left(\\frac{Y_{t}}{Y_{t-1}} - 1\\right) \\times 100 \\approx \\log(Y_{t}) - \\log(Y_{t-1}) \\times 100\n",
    "$$"
   ]
  },
  {
   "cell_type": "code",
   "execution_count": 54,
   "metadata": {
    "slideshow": {
     "slide_type": "fragment"
    }
   },
   "outputs": [
    {
     "data": {
      "text/plain": [
       "4.319568788852912"
      ]
     },
     "execution_count": 54,
     "metadata": {},
     "output_type": "execute_result"
    }
   ],
   "source": [
    "(log(gdp_second) - log(gdp_first)) * 100"
   ]
  },
  {
   "cell_type": "markdown",
   "metadata": {
    "slideshow": {
     "slide_type": "slide"
    }
   },
   "source": [
    "## Functions\n",
    "\n",
    "A function is a **rule** that assigns to every element of $x \\in X$ a **single element** of the set $Y$. \n",
    "\n",
    "This is written as, \n",
    "\n",
    "$$\n",
    "f:X \\rightarrow Y\n",
    "$$\n",
    "\n",
    "When we write $y = f(x)$ we are mapping from the argument $x$ in the domain $X$ to a value in the co-domain $Y$. \n",
    "\n",
    "It is important to note that for a function we are assigning a single element from the set $X$ to the set $Y$."
   ]
  },
  {
   "cell_type": "markdown",
   "metadata": {
    "slideshow": {
     "slide_type": "slide"
    }
   },
   "source": [
    "## Functions and non-functions"
   ]
  },
  {
   "cell_type": "code",
   "execution_count": 55,
   "metadata": {
    "slideshow": {
     "slide_type": "fragment"
    }
   },
   "outputs": [
    {
     "data": {
      "image/svg+xml": [
       "<?xml version=\"1.0\" encoding=\"utf-8\"?>\n",
       "<svg xmlns=\"http://www.w3.org/2000/svg\" xmlns:xlink=\"http://www.w3.org/1999/xlink\" width=\"600\" height=\"400\" viewBox=\"0 0 2400 1600\">\n",
       "<defs>\n",
       "  <clipPath id=\"clip300\">\n",
       "    <rect x=\"0\" y=\"0\" width=\"2400\" height=\"1600\"/>\n",
       "  </clipPath>\n",
       "</defs>\n",
       "<path clip-path=\"url(#clip300)\" d=\"\n",
       "M0 1600 L2400 1600 L2400 0 L0 0  Z\n",
       "  \" fill=\"#ffffff\" fill-rule=\"evenodd\" fill-opacity=\"1\"/>\n",
       "<defs>\n",
       "  <clipPath id=\"clip301\">\n",
       "    <rect x=\"480\" y=\"0\" width=\"1681\" height=\"1600\"/>\n",
       "  </clipPath>\n",
       "</defs>\n",
       "<path clip-path=\"url(#clip300)\" d=\"\n",
       "M193.936 1486.45 L2352.76 1486.45 L2352.76 123.472 L193.936 123.472  Z\n",
       "  \" fill=\"#ffffff\" fill-rule=\"evenodd\" fill-opacity=\"1\"/>\n",
       "<defs>\n",
       "  <clipPath id=\"clip302\">\n",
       "    <rect x=\"193\" y=\"123\" width=\"2160\" height=\"1364\"/>\n",
       "  </clipPath>\n",
       "</defs>\n",
       "<polyline clip-path=\"url(#clip302)\" style=\"stroke:#000000; stroke-linecap:butt; stroke-linejoin:round; stroke-width:2; stroke-opacity:0.1; fill:none\" points=\"\n",
       "  255.035,1486.45 255.035,123.472 \n",
       "  \"/>\n",
       "<polyline clip-path=\"url(#clip302)\" style=\"stroke:#000000; stroke-linecap:butt; stroke-linejoin:round; stroke-width:2; stroke-opacity:0.1; fill:none\" points=\"\n",
       "  580.802,1486.45 580.802,123.472 \n",
       "  \"/>\n",
       "<polyline clip-path=\"url(#clip302)\" style=\"stroke:#000000; stroke-linecap:butt; stroke-linejoin:round; stroke-width:2; stroke-opacity:0.1; fill:none\" points=\"\n",
       "  906.569,1486.45 906.569,123.472 \n",
       "  \"/>\n",
       "<polyline clip-path=\"url(#clip302)\" style=\"stroke:#000000; stroke-linecap:butt; stroke-linejoin:round; stroke-width:2; stroke-opacity:0.1; fill:none\" points=\"\n",
       "  1232.34,1486.45 1232.34,123.472 \n",
       "  \"/>\n",
       "<polyline clip-path=\"url(#clip302)\" style=\"stroke:#000000; stroke-linecap:butt; stroke-linejoin:round; stroke-width:2; stroke-opacity:0.1; fill:none\" points=\"\n",
       "  1558.1,1486.45 1558.1,123.472 \n",
       "  \"/>\n",
       "<polyline clip-path=\"url(#clip302)\" style=\"stroke:#000000; stroke-linecap:butt; stroke-linejoin:round; stroke-width:2; stroke-opacity:0.1; fill:none\" points=\"\n",
       "  1883.87,1486.45 1883.87,123.472 \n",
       "  \"/>\n",
       "<polyline clip-path=\"url(#clip302)\" style=\"stroke:#000000; stroke-linecap:butt; stroke-linejoin:round; stroke-width:2; stroke-opacity:0.1; fill:none\" points=\"\n",
       "  2209.64,1486.45 2209.64,123.472 \n",
       "  \"/>\n",
       "<polyline clip-path=\"url(#clip300)\" style=\"stroke:#000000; stroke-linecap:butt; stroke-linejoin:round; stroke-width:4; stroke-opacity:1; fill:none\" points=\"\n",
       "  193.936,1486.45 2352.76,1486.45 \n",
       "  \"/>\n",
       "<polyline clip-path=\"url(#clip300)\" style=\"stroke:#000000; stroke-linecap:butt; stroke-linejoin:round; stroke-width:4; stroke-opacity:1; fill:none\" points=\"\n",
       "  255.035,1486.45 255.035,1467.55 \n",
       "  \"/>\n",
       "<polyline clip-path=\"url(#clip300)\" style=\"stroke:#000000; stroke-linecap:butt; stroke-linejoin:round; stroke-width:4; stroke-opacity:1; fill:none\" points=\"\n",
       "  580.802,1486.45 580.802,1467.55 \n",
       "  \"/>\n",
       "<polyline clip-path=\"url(#clip300)\" style=\"stroke:#000000; stroke-linecap:butt; stroke-linejoin:round; stroke-width:4; stroke-opacity:1; fill:none\" points=\"\n",
       "  906.569,1486.45 906.569,1467.55 \n",
       "  \"/>\n",
       "<polyline clip-path=\"url(#clip300)\" style=\"stroke:#000000; stroke-linecap:butt; stroke-linejoin:round; stroke-width:4; stroke-opacity:1; fill:none\" points=\"\n",
       "  1232.34,1486.45 1232.34,1467.55 \n",
       "  \"/>\n",
       "<polyline clip-path=\"url(#clip300)\" style=\"stroke:#000000; stroke-linecap:butt; stroke-linejoin:round; stroke-width:4; stroke-opacity:1; fill:none\" points=\"\n",
       "  1558.1,1486.45 1558.1,1467.55 \n",
       "  \"/>\n",
       "<polyline clip-path=\"url(#clip300)\" style=\"stroke:#000000; stroke-linecap:butt; stroke-linejoin:round; stroke-width:4; stroke-opacity:1; fill:none\" points=\"\n",
       "  1883.87,1486.45 1883.87,1467.55 \n",
       "  \"/>\n",
       "<polyline clip-path=\"url(#clip300)\" style=\"stroke:#000000; stroke-linecap:butt; stroke-linejoin:round; stroke-width:4; stroke-opacity:1; fill:none\" points=\"\n",
       "  2209.64,1486.45 2209.64,1467.55 \n",
       "  \"/>\n",
       "<path clip-path=\"url(#clip300)\" d=\"M255.035 1517.37 Q251.424 1517.37 249.595 1520.93 Q247.789 1524.47 247.789 1531.6 Q247.789 1538.71 249.595 1542.27 Q251.424 1545.82 255.035 1545.82 Q258.669 1545.82 260.474 1542.27 Q262.303 1538.71 262.303 1531.6 Q262.303 1524.47 260.474 1520.93 Q258.669 1517.37 255.035 1517.37 M255.035 1513.66 Q260.845 1513.66 263.9 1518.27 Q266.979 1522.85 266.979 1531.6 Q266.979 1540.33 263.9 1544.94 Q260.845 1549.52 255.035 1549.52 Q249.225 1549.52 246.146 1544.94 Q243.09 1540.33 243.09 1531.6 Q243.09 1522.85 246.146 1518.27 Q249.225 1513.66 255.035 1513.66 Z\" fill=\"#000000\" fill-rule=\"evenodd\" fill-opacity=\"1\" /><path clip-path=\"url(#clip300)\" d=\"M571.184 1544.91 L578.823 1544.91 L578.823 1518.55 L570.513 1520.21 L570.513 1515.95 L578.777 1514.29 L583.453 1514.29 L583.453 1544.91 L591.091 1544.91 L591.091 1548.85 L571.184 1548.85 L571.184 1544.91 Z\" fill=\"#000000\" fill-rule=\"evenodd\" fill-opacity=\"1\" /><path clip-path=\"url(#clip300)\" d=\"M901.222 1544.91 L917.542 1544.91 L917.542 1548.85 L895.597 1548.85 L895.597 1544.91 Q898.259 1542.16 902.843 1537.53 Q907.449 1532.88 908.63 1531.53 Q910.875 1529.01 911.755 1527.27 Q912.657 1525.51 912.657 1523.82 Q912.657 1521.07 910.713 1519.33 Q908.792 1517.6 905.69 1517.6 Q903.491 1517.6 901.037 1518.36 Q898.607 1519.13 895.829 1520.68 L895.829 1515.95 Q898.653 1514.82 901.107 1514.24 Q903.56 1513.66 905.597 1513.66 Q910.968 1513.66 914.162 1516.35 Q917.356 1519.03 917.356 1523.52 Q917.356 1525.65 916.546 1527.57 Q915.759 1529.47 913.653 1532.07 Q913.074 1532.74 909.972 1535.95 Q906.87 1539.15 901.222 1544.91 Z\" fill=\"#000000\" fill-rule=\"evenodd\" fill-opacity=\"1\" /><path clip-path=\"url(#clip300)\" d=\"M1236.58 1530.21 Q1239.94 1530.93 1241.82 1533.2 Q1243.71 1535.47 1243.71 1538.8 Q1243.71 1543.92 1240.2 1546.72 Q1236.68 1549.52 1230.2 1549.52 Q1228.02 1549.52 1225.7 1549.08 Q1223.41 1548.66 1220.96 1547.81 L1220.96 1543.29 Q1222.9 1544.43 1225.22 1545.01 Q1227.53 1545.58 1230.06 1545.58 Q1234.45 1545.58 1236.75 1543.85 Q1239.06 1542.11 1239.06 1538.8 Q1239.06 1535.75 1236.91 1534.03 Q1234.78 1532.3 1230.96 1532.3 L1226.93 1532.3 L1226.93 1528.45 L1231.14 1528.45 Q1234.59 1528.45 1236.42 1527.09 Q1238.25 1525.7 1238.25 1523.11 Q1238.25 1520.45 1236.35 1519.03 Q1234.48 1517.6 1230.96 1517.6 Q1229.04 1517.6 1226.84 1518.01 Q1224.64 1518.43 1222 1519.31 L1222 1515.14 Q1224.66 1514.4 1226.98 1514.03 Q1229.32 1513.66 1231.38 1513.66 Q1236.7 1513.66 1239.8 1516.09 Q1242.9 1518.5 1242.9 1522.62 Q1242.9 1525.49 1241.26 1527.48 Q1239.62 1529.45 1236.58 1530.21 Z\" fill=\"#000000\" fill-rule=\"evenodd\" fill-opacity=\"1\" /><path clip-path=\"url(#clip300)\" d=\"M1561.11 1518.36 L1549.31 1536.81 L1561.11 1536.81 L1561.11 1518.36 M1559.89 1514.29 L1565.77 1514.29 L1565.77 1536.81 L1570.7 1536.81 L1570.7 1540.7 L1565.77 1540.7 L1565.77 1548.85 L1561.11 1548.85 L1561.11 1540.7 L1545.51 1540.7 L1545.51 1536.19 L1559.89 1514.29 Z\" fill=\"#000000\" fill-rule=\"evenodd\" fill-opacity=\"1\" /><path clip-path=\"url(#clip300)\" d=\"M1874.15 1514.29 L1892.51 1514.29 L1892.51 1518.22 L1878.43 1518.22 L1878.43 1526.7 Q1879.45 1526.35 1880.47 1526.19 Q1881.49 1526 1882.51 1526 Q1888.29 1526 1891.67 1529.17 Q1895.05 1532.34 1895.05 1537.76 Q1895.05 1543.34 1891.58 1546.44 Q1888.11 1549.52 1881.79 1549.52 Q1879.61 1549.52 1877.34 1549.15 Q1875.1 1548.78 1872.69 1548.04 L1872.69 1543.34 Q1874.77 1544.47 1877 1545.03 Q1879.22 1545.58 1881.7 1545.58 Q1885.7 1545.58 1888.04 1543.48 Q1890.38 1541.37 1890.38 1537.76 Q1890.38 1534.15 1888.04 1532.04 Q1885.7 1529.94 1881.7 1529.94 Q1879.82 1529.94 1877.95 1530.35 Q1876.09 1530.77 1874.15 1531.65 L1874.15 1514.29 Z\" fill=\"#000000\" fill-rule=\"evenodd\" fill-opacity=\"1\" /><path clip-path=\"url(#clip300)\" d=\"M2210.04 1529.7 Q2206.9 1529.7 2205.04 1531.86 Q2203.22 1534.01 2203.22 1537.76 Q2203.22 1541.49 2205.04 1543.66 Q2206.9 1545.82 2210.04 1545.82 Q2213.19 1545.82 2215.02 1543.66 Q2216.87 1541.49 2216.87 1537.76 Q2216.87 1534.01 2215.02 1531.86 Q2213.19 1529.7 2210.04 1529.7 M2219.33 1515.05 L2219.33 1519.31 Q2217.57 1518.48 2215.76 1518.04 Q2213.98 1517.6 2212.22 1517.6 Q2207.59 1517.6 2205.14 1520.72 Q2202.71 1523.85 2202.36 1530.17 Q2203.72 1528.15 2205.78 1527.09 Q2207.85 1526 2210.32 1526 Q2215.53 1526 2218.54 1529.17 Q2221.57 1532.32 2221.57 1537.76 Q2221.57 1543.08 2218.42 1546.3 Q2215.28 1549.52 2210.04 1549.52 Q2204.05 1549.52 2200.88 1544.94 Q2197.71 1540.33 2197.71 1531.6 Q2197.71 1523.41 2201.6 1518.55 Q2205.48 1513.66 2212.03 1513.66 Q2213.79 1513.66 2215.58 1514.01 Q2217.38 1514.36 2219.33 1515.05 Z\" fill=\"#000000\" fill-rule=\"evenodd\" fill-opacity=\"1\" /><polyline clip-path=\"url(#clip302)\" style=\"stroke:#000000; stroke-linecap:butt; stroke-linejoin:round; stroke-width:2; stroke-opacity:0.1; fill:none\" points=\"\n",
       "  193.936,1447.87 2352.76,1447.87 \n",
       "  \"/>\n",
       "<polyline clip-path=\"url(#clip302)\" style=\"stroke:#000000; stroke-linecap:butt; stroke-linejoin:round; stroke-width:2; stroke-opacity:0.1; fill:none\" points=\"\n",
       "  193.936,1126.42 2352.76,1126.42 \n",
       "  \"/>\n",
       "<polyline clip-path=\"url(#clip302)\" style=\"stroke:#000000; stroke-linecap:butt; stroke-linejoin:round; stroke-width:2; stroke-opacity:0.1; fill:none\" points=\"\n",
       "  193.936,804.96 2352.76,804.96 \n",
       "  \"/>\n",
       "<polyline clip-path=\"url(#clip302)\" style=\"stroke:#000000; stroke-linecap:butt; stroke-linejoin:round; stroke-width:2; stroke-opacity:0.1; fill:none\" points=\"\n",
       "  193.936,483.503 2352.76,483.503 \n",
       "  \"/>\n",
       "<polyline clip-path=\"url(#clip302)\" style=\"stroke:#000000; stroke-linecap:butt; stroke-linejoin:round; stroke-width:2; stroke-opacity:0.1; fill:none\" points=\"\n",
       "  193.936,162.047 2352.76,162.047 \n",
       "  \"/>\n",
       "<polyline clip-path=\"url(#clip300)\" style=\"stroke:#000000; stroke-linecap:butt; stroke-linejoin:round; stroke-width:4; stroke-opacity:1; fill:none\" points=\"\n",
       "  193.936,1486.45 193.936,123.472 \n",
       "  \"/>\n",
       "<polyline clip-path=\"url(#clip300)\" style=\"stroke:#000000; stroke-linecap:butt; stroke-linejoin:round; stroke-width:4; stroke-opacity:1; fill:none\" points=\"\n",
       "  193.936,1447.87 212.834,1447.87 \n",
       "  \"/>\n",
       "<polyline clip-path=\"url(#clip300)\" style=\"stroke:#000000; stroke-linecap:butt; stroke-linejoin:round; stroke-width:4; stroke-opacity:1; fill:none\" points=\"\n",
       "  193.936,1126.42 212.834,1126.42 \n",
       "  \"/>\n",
       "<polyline clip-path=\"url(#clip300)\" style=\"stroke:#000000; stroke-linecap:butt; stroke-linejoin:round; stroke-width:4; stroke-opacity:1; fill:none\" points=\"\n",
       "  193.936,804.96 212.834,804.96 \n",
       "  \"/>\n",
       "<polyline clip-path=\"url(#clip300)\" style=\"stroke:#000000; stroke-linecap:butt; stroke-linejoin:round; stroke-width:4; stroke-opacity:1; fill:none\" points=\"\n",
       "  193.936,483.503 212.834,483.503 \n",
       "  \"/>\n",
       "<polyline clip-path=\"url(#clip300)\" style=\"stroke:#000000; stroke-linecap:butt; stroke-linejoin:round; stroke-width:4; stroke-opacity:1; fill:none\" points=\"\n",
       "  193.936,162.047 212.834,162.047 \n",
       "  \"/>\n",
       "<path clip-path=\"url(#clip300)\" d=\"M50.9921 1448.32 L80.6679 1448.32 L80.6679 1452.26 L50.9921 1452.26 L50.9921 1448.32 Z\" fill=\"#000000\" fill-rule=\"evenodd\" fill-opacity=\"1\" /><path clip-path=\"url(#clip300)\" d=\"M91.5706 1461.22 L99.2095 1461.22 L99.2095 1434.85 L90.8993 1436.52 L90.8993 1432.26 L99.1632 1430.59 L103.839 1430.59 L103.839 1461.22 L111.478 1461.22 L111.478 1465.15 L91.5706 1465.15 L91.5706 1461.22 Z\" fill=\"#000000\" fill-rule=\"evenodd\" fill-opacity=\"1\" /><path clip-path=\"url(#clip300)\" d=\"M120.922 1459.27 L125.807 1459.27 L125.807 1465.15 L120.922 1465.15 L120.922 1459.27 Z\" fill=\"#000000\" fill-rule=\"evenodd\" fill-opacity=\"1\" /><path clip-path=\"url(#clip300)\" d=\"M145.992 1433.67 Q142.381 1433.67 140.552 1437.24 Q138.746 1440.78 138.746 1447.91 Q138.746 1455.01 140.552 1458.58 Q142.381 1462.12 145.992 1462.12 Q149.626 1462.12 151.431 1458.58 Q153.26 1455.01 153.26 1447.91 Q153.26 1440.78 151.431 1437.24 Q149.626 1433.67 145.992 1433.67 M145.992 1429.97 Q151.802 1429.97 154.857 1434.57 Q157.936 1439.16 157.936 1447.91 Q157.936 1456.63 154.857 1461.24 Q151.802 1465.82 145.992 1465.82 Q140.181 1465.82 137.103 1461.24 Q134.047 1456.63 134.047 1447.91 Q134.047 1439.16 137.103 1434.57 Q140.181 1429.97 145.992 1429.97 Z\" fill=\"#000000\" fill-rule=\"evenodd\" fill-opacity=\"1\" /><path clip-path=\"url(#clip300)\" d=\"M51.9875 1126.87 L81.6633 1126.87 L81.6633 1130.8 L51.9875 1130.8 L51.9875 1126.87 Z\" fill=\"#000000\" fill-rule=\"evenodd\" fill-opacity=\"1\" /><path clip-path=\"url(#clip300)\" d=\"M101.756 1112.22 Q98.1447 1112.22 96.316 1115.78 Q94.5104 1119.32 94.5104 1126.45 Q94.5104 1133.56 96.316 1137.12 Q98.1447 1140.66 101.756 1140.66 Q105.39 1140.66 107.196 1137.12 Q109.024 1133.56 109.024 1126.45 Q109.024 1119.32 107.196 1115.78 Q105.39 1112.22 101.756 1112.22 M101.756 1108.51 Q107.566 1108.51 110.621 1113.12 Q113.7 1117.7 113.7 1126.45 Q113.7 1135.18 110.621 1139.78 Q107.566 1144.37 101.756 1144.37 Q95.9456 1144.37 92.8669 1139.78 Q89.8114 1135.18 89.8114 1126.45 Q89.8114 1117.7 92.8669 1113.12 Q95.9456 1108.51 101.756 1108.51 Z\" fill=\"#000000\" fill-rule=\"evenodd\" fill-opacity=\"1\" /><path clip-path=\"url(#clip300)\" d=\"M121.918 1137.82 L126.802 1137.82 L126.802 1143.7 L121.918 1143.7 L121.918 1137.82 Z\" fill=\"#000000\" fill-rule=\"evenodd\" fill-opacity=\"1\" /><path clip-path=\"url(#clip300)\" d=\"M137.033 1109.14 L155.39 1109.14 L155.39 1113.07 L141.316 1113.07 L141.316 1121.54 Q142.334 1121.2 143.353 1121.03 Q144.371 1120.85 145.39 1120.85 Q151.177 1120.85 154.556 1124.02 Q157.936 1127.19 157.936 1132.61 Q157.936 1138.19 154.464 1141.29 Q150.992 1144.37 144.672 1144.37 Q142.496 1144.37 140.228 1144 Q137.982 1143.63 135.575 1142.89 L135.575 1138.19 Q137.658 1139.32 139.881 1139.88 Q142.103 1140.43 144.58 1140.43 Q148.584 1140.43 150.922 1138.33 Q153.26 1136.22 153.26 1132.61 Q153.26 1129 150.922 1126.89 Q148.584 1124.78 144.58 1124.78 Q142.705 1124.78 140.83 1125.2 Q138.978 1125.62 137.033 1126.5 L137.033 1109.14 Z\" fill=\"#000000\" fill-rule=\"evenodd\" fill-opacity=\"1\" /><path clip-path=\"url(#clip300)\" d=\"M100.76 790.759 Q97.1493 790.759 95.3206 794.323 Q93.515 797.865 93.515 804.995 Q93.515 812.101 95.3206 815.666 Q97.1493 819.208 100.76 819.208 Q104.395 819.208 106.2 815.666 Q108.029 812.101 108.029 804.995 Q108.029 797.865 106.2 794.323 Q104.395 790.759 100.76 790.759 M100.76 787.055 Q106.571 787.055 109.626 791.661 Q112.705 796.245 112.705 804.995 Q112.705 813.722 109.626 818.328 Q106.571 822.911 100.76 822.911 Q94.9502 822.911 91.8715 818.328 Q88.816 813.722 88.816 804.995 Q88.816 796.245 91.8715 791.661 Q94.9502 787.055 100.76 787.055 Z\" fill=\"#000000\" fill-rule=\"evenodd\" fill-opacity=\"1\" /><path clip-path=\"url(#clip300)\" d=\"M120.922 816.36 L125.807 816.36 L125.807 822.24 L120.922 822.24 L120.922 816.36 Z\" fill=\"#000000\" fill-rule=\"evenodd\" fill-opacity=\"1\" /><path clip-path=\"url(#clip300)\" d=\"M145.992 790.759 Q142.381 790.759 140.552 794.323 Q138.746 797.865 138.746 804.995 Q138.746 812.101 140.552 815.666 Q142.381 819.208 145.992 819.208 Q149.626 819.208 151.431 815.666 Q153.26 812.101 153.26 804.995 Q153.26 797.865 151.431 794.323 Q149.626 790.759 145.992 790.759 M145.992 787.055 Q151.802 787.055 154.857 791.661 Q157.936 796.245 157.936 804.995 Q157.936 813.722 154.857 818.328 Q151.802 822.911 145.992 822.911 Q140.181 822.911 137.103 818.328 Q134.047 813.722 134.047 804.995 Q134.047 796.245 137.103 791.661 Q140.181 787.055 145.992 787.055 Z\" fill=\"#000000\" fill-rule=\"evenodd\" fill-opacity=\"1\" /><path clip-path=\"url(#clip300)\" d=\"M101.756 469.302 Q98.1447 469.302 96.316 472.867 Q94.5104 476.409 94.5104 483.538 Q94.5104 490.645 96.316 494.209 Q98.1447 497.751 101.756 497.751 Q105.39 497.751 107.196 494.209 Q109.024 490.645 109.024 483.538 Q109.024 476.409 107.196 472.867 Q105.39 469.302 101.756 469.302 M101.756 465.598 Q107.566 465.598 110.621 470.205 Q113.7 474.788 113.7 483.538 Q113.7 492.265 110.621 496.871 Q107.566 501.455 101.756 501.455 Q95.9456 501.455 92.8669 496.871 Q89.8114 492.265 89.8114 483.538 Q89.8114 474.788 92.8669 470.205 Q95.9456 465.598 101.756 465.598 Z\" fill=\"#000000\" fill-rule=\"evenodd\" fill-opacity=\"1\" /><path clip-path=\"url(#clip300)\" d=\"M121.918 494.904 L126.802 494.904 L126.802 500.783 L121.918 500.783 L121.918 494.904 Z\" fill=\"#000000\" fill-rule=\"evenodd\" fill-opacity=\"1\" /><path clip-path=\"url(#clip300)\" d=\"M137.033 466.223 L155.39 466.223 L155.39 470.159 L141.316 470.159 L141.316 478.631 Q142.334 478.284 143.353 478.122 Q144.371 477.936 145.39 477.936 Q151.177 477.936 154.556 481.108 Q157.936 484.279 157.936 489.696 Q157.936 495.274 154.464 498.376 Q150.992 501.455 144.672 501.455 Q142.496 501.455 140.228 501.084 Q137.982 500.714 135.575 499.973 L135.575 495.274 Q137.658 496.408 139.881 496.964 Q142.103 497.52 144.58 497.52 Q148.584 497.52 150.922 495.413 Q153.26 493.307 153.26 489.696 Q153.26 486.084 150.922 483.978 Q148.584 481.872 144.58 481.872 Q142.705 481.872 140.83 482.288 Q138.978 482.705 137.033 483.584 L137.033 466.223 Z\" fill=\"#000000\" fill-rule=\"evenodd\" fill-opacity=\"1\" /><path clip-path=\"url(#clip300)\" d=\"M91.5706 175.392 L99.2095 175.392 L99.2095 149.026 L90.8993 150.693 L90.8993 146.434 L99.1632 144.767 L103.839 144.767 L103.839 175.392 L111.478 175.392 L111.478 179.327 L91.5706 179.327 L91.5706 175.392 Z\" fill=\"#000000\" fill-rule=\"evenodd\" fill-opacity=\"1\" /><path clip-path=\"url(#clip300)\" d=\"M120.922 173.447 L125.807 173.447 L125.807 179.327 L120.922 179.327 L120.922 173.447 Z\" fill=\"#000000\" fill-rule=\"evenodd\" fill-opacity=\"1\" /><path clip-path=\"url(#clip300)\" d=\"M145.992 147.846 Q142.381 147.846 140.552 151.41 Q138.746 154.952 138.746 162.082 Q138.746 169.188 140.552 172.753 Q142.381 176.295 145.992 176.295 Q149.626 176.295 151.431 172.753 Q153.26 169.188 153.26 162.082 Q153.26 154.952 151.431 151.41 Q149.626 147.846 145.992 147.846 M145.992 144.142 Q151.802 144.142 154.857 148.748 Q157.936 153.332 157.936 162.082 Q157.936 170.808 154.857 175.415 Q151.802 179.998 145.992 179.998 Q140.181 179.998 137.103 175.415 Q134.047 170.808 134.047 162.082 Q134.047 153.332 137.103 148.748 Q140.181 144.142 145.992 144.142 Z\" fill=\"#000000\" fill-rule=\"evenodd\" fill-opacity=\"1\" /><path clip-path=\"url(#clip300)\" d=\"M924.421 12.096 L975.584 12.096 L975.584 18.9825 L954.114 18.9825 L954.114 72.576 L945.891 72.576 L945.891 18.9825 L924.421 18.9825 L924.421 12.096 Z\" fill=\"#000000\" fill-rule=\"evenodd\" fill-opacity=\"1\" /><path clip-path=\"url(#clip300)\" d=\"M1020.87 45.1919 L1020.87 72.576 L1013.42 72.576 L1013.42 45.4349 Q1013.42 38.994 1010.91 35.7938 Q1008.4 32.5936 1003.37 32.5936 Q997.338 32.5936 993.854 36.4419 Q990.37 40.2903 990.37 46.9338 L990.37 72.576 L982.876 72.576 L982.876 9.54393 L990.37 9.54393 L990.37 34.2544 Q993.044 30.163 996.649 28.1376 Q1000.29 26.1121 1005.03 26.1121 Q1012.85 26.1121 1016.86 30.9732 Q1020.87 35.7938 1020.87 45.1919 Z\" fill=\"#000000\" fill-rule=\"evenodd\" fill-opacity=\"1\" /><path clip-path=\"url(#clip300)\" d=\"M1035.74 27.2059 L1043.19 27.2059 L1043.19 72.576 L1035.74 72.576 L1035.74 27.2059 M1035.74 9.54393 L1043.19 9.54393 L1043.19 18.9825 L1035.74 18.9825 L1035.74 9.54393 Z\" fill=\"#000000\" fill-rule=\"evenodd\" fill-opacity=\"1\" /><path clip-path=\"url(#clip300)\" d=\"M1087.71 28.5427 L1087.71 35.5912 Q1084.55 33.9709 1081.15 33.1607 Q1077.75 32.3505 1074.1 32.3505 Q1068.55 32.3505 1065.76 34.0519 Q1063 35.7533 1063 39.156 Q1063 41.7486 1064.99 43.2475 Q1066.97 44.7058 1072.97 46.0426 L1075.52 46.6097 Q1083.46 48.3111 1086.78 51.4303 Q1090.14 54.509 1090.14 60.0587 Q1090.14 66.3781 1085.12 70.0644 Q1080.14 73.7508 1071.39 73.7508 Q1067.74 73.7508 1063.77 73.0216 Q1059.84 72.3329 1055.47 70.9151 L1055.47 63.2184 Q1059.6 65.3654 1063.61 66.4591 Q1067.62 67.5124 1071.55 67.5124 Q1076.82 67.5124 1079.65 65.73 Q1082.49 63.9071 1082.49 60.6258 Q1082.49 57.5877 1080.42 55.9673 Q1078.4 54.3469 1071.47 52.8481 L1068.88 52.2405 Q1061.95 50.7821 1058.87 47.7845 Q1055.79 44.7463 1055.79 39.4801 Q1055.79 33.0797 1060.33 29.5959 Q1064.87 26.1121 1073.21 26.1121 Q1077.34 26.1121 1080.99 26.7198 Q1084.63 27.3274 1087.71 28.5427 Z\" fill=\"#000000\" fill-rule=\"evenodd\" fill-opacity=\"1\" /><path clip-path=\"url(#clip300)\" d=\"M1128.38 27.2059 L1135.84 27.2059 L1135.84 72.576 L1128.38 72.576 L1128.38 27.2059 M1128.38 9.54393 L1135.84 9.54393 L1135.84 18.9825 L1128.38 18.9825 L1128.38 9.54393 Z\" fill=\"#000000\" fill-rule=\"evenodd\" fill-opacity=\"1\" /><path clip-path=\"url(#clip300)\" d=\"M1180.36 28.5427 L1180.36 35.5912 Q1177.2 33.9709 1173.79 33.1607 Q1170.39 32.3505 1166.75 32.3505 Q1161.2 32.3505 1158.4 34.0519 Q1155.65 35.7533 1155.65 39.156 Q1155.65 41.7486 1157.63 43.2475 Q1159.62 44.7058 1165.61 46.0426 L1168.16 46.6097 Q1176.1 48.3111 1179.43 51.4303 Q1182.79 54.509 1182.79 60.0587 Q1182.79 66.3781 1177.76 70.0644 Q1172.78 73.7508 1164.03 73.7508 Q1160.39 73.7508 1156.42 73.0216 Q1152.49 72.3329 1148.11 70.9151 L1148.11 63.2184 Q1152.24 65.3654 1156.25 66.4591 Q1160.26 67.5124 1164.19 67.5124 Q1169.46 67.5124 1172.3 65.73 Q1175.13 63.9071 1175.13 60.6258 Q1175.13 57.5877 1173.07 55.9673 Q1171.04 54.3469 1164.11 52.8481 L1161.52 52.2405 Q1154.59 50.7821 1151.52 47.7845 Q1148.44 44.7463 1148.44 39.4801 Q1148.44 33.0797 1152.97 29.5959 Q1157.51 26.1121 1165.86 26.1121 Q1169.99 26.1121 1173.63 26.7198 Q1177.28 27.3274 1180.36 28.5427 Z\" fill=\"#000000\" fill-rule=\"evenodd\" fill-opacity=\"1\" /><path clip-path=\"url(#clip300)\" d=\"M1241.65 49.7694 Q1232.61 49.7694 1229.13 51.8354 Q1225.65 53.9013 1225.65 58.8839 Q1225.65 62.8538 1228.24 65.2034 Q1230.87 67.5124 1235.37 67.5124 Q1241.57 67.5124 1245.29 63.1374 Q1249.06 58.7219 1249.06 51.4303 L1249.06 49.7694 L1241.65 49.7694 M1256.51 46.6907 L1256.51 72.576 L1249.06 72.576 L1249.06 65.6895 Q1246.51 69.8214 1242.7 71.8063 Q1238.89 73.7508 1233.38 73.7508 Q1226.42 73.7508 1222.28 69.8619 Q1218.19 65.9325 1218.19 59.3701 Q1218.19 51.7138 1223.3 47.825 Q1228.44 43.9361 1238.61 43.9361 L1249.06 43.9361 L1249.06 43.2069 Q1249.06 38.0623 1245.66 35.2672 Q1242.3 32.4315 1236.18 32.4315 Q1232.29 32.4315 1228.6 33.3632 Q1224.92 34.295 1221.51 36.1584 L1221.51 29.2718 Q1225.61 27.692 1229.45 26.9223 Q1233.3 26.1121 1236.95 26.1121 Q1246.79 26.1121 1251.65 31.2163 Q1256.51 36.3204 1256.51 46.6907 Z\" fill=\"#000000\" fill-rule=\"evenodd\" fill-opacity=\"1\" /><path clip-path=\"url(#clip300)\" d=\"M1321.21 9.54393 L1321.21 15.7418 L1314.08 15.7418 Q1310.07 15.7418 1308.49 17.3622 Q1306.95 18.9825 1306.95 23.1955 L1306.95 27.2059 L1319.22 27.2059 L1319.22 32.9987 L1306.95 32.9987 L1306.95 72.576 L1299.45 72.576 L1299.45 32.9987 L1292.32 32.9987 L1292.32 27.2059 L1299.45 27.2059 L1299.45 24.0462 Q1299.45 16.471 1302.98 13.0277 Q1306.5 9.54393 1314.16 9.54393 L1321.21 9.54393 Z\" fill=\"#000000\" fill-rule=\"evenodd\" fill-opacity=\"1\" /><path clip-path=\"url(#clip300)\" d=\"M1326.68 54.671 L1326.68 27.2059 L1334.13 27.2059 L1334.13 54.3874 Q1334.13 60.8284 1336.64 64.0691 Q1339.15 67.2693 1344.18 67.2693 Q1350.21 67.2693 1353.7 63.421 Q1357.22 59.5726 1357.22 52.9291 L1357.22 27.2059 L1364.67 27.2059 L1364.67 72.576 L1357.22 72.576 L1357.22 65.6084 Q1354.51 69.7404 1350.9 71.7658 Q1347.34 73.7508 1342.6 73.7508 Q1334.78 73.7508 1330.73 68.8897 Q1326.68 64.0286 1326.68 54.671 M1345.43 26.1121 L1345.43 26.1121 Z\" fill=\"#000000\" fill-rule=\"evenodd\" fill-opacity=\"1\" /><path clip-path=\"url(#clip300)\" d=\"M1417.74 45.1919 L1417.74 72.576 L1410.29 72.576 L1410.29 45.4349 Q1410.29 38.994 1407.78 35.7938 Q1405.26 32.5936 1400.24 32.5936 Q1394.2 32.5936 1390.72 36.4419 Q1387.24 40.2903 1387.24 46.9338 L1387.24 72.576 L1379.74 72.576 L1379.74 27.2059 L1387.24 27.2059 L1387.24 34.2544 Q1389.91 30.163 1393.52 28.1376 Q1397.16 26.1121 1401.9 26.1121 Q1409.72 26.1121 1413.73 30.9732 Q1417.74 35.7938 1417.74 45.1919 Z\" fill=\"#000000\" fill-rule=\"evenodd\" fill-opacity=\"1\" /><path clip-path=\"url(#clip300)\" d=\"M1465.26 28.9478 L1465.26 35.9153 Q1462.1 34.1734 1458.9 33.3227 Q1455.74 32.4315 1452.5 32.4315 Q1445.25 32.4315 1441.24 37.0496 Q1437.23 41.6271 1437.23 49.9314 Q1437.23 58.2358 1441.24 62.8538 Q1445.25 67.4314 1452.5 67.4314 Q1455.74 67.4314 1458.9 66.5807 Q1462.1 65.6895 1465.26 63.9476 L1465.26 70.8341 Q1462.14 72.2924 1458.78 73.0216 Q1455.45 73.7508 1451.69 73.7508 Q1441.44 73.7508 1435.4 67.3098 Q1429.37 60.8689 1429.37 49.9314 Q1429.37 38.832 1435.44 32.472 Q1441.56 26.1121 1452.17 26.1121 Q1455.62 26.1121 1458.9 26.8413 Q1462.18 27.5299 1465.26 28.9478 Z\" fill=\"#000000\" fill-rule=\"evenodd\" fill-opacity=\"1\" /><path clip-path=\"url(#clip300)\" d=\"M1485.59 14.324 L1485.59 27.2059 L1500.95 27.2059 L1500.95 32.9987 L1485.59 32.9987 L1485.59 57.6282 Q1485.59 63.1779 1487.09 64.7578 Q1488.63 66.3376 1493.29 66.3376 L1500.95 66.3376 L1500.95 72.576 L1493.29 72.576 Q1484.66 72.576 1481.38 69.3758 Q1478.1 66.1351 1478.1 57.6282 L1478.1 32.9987 L1472.63 32.9987 L1472.63 27.2059 L1478.1 27.2059 L1478.1 14.324 L1485.59 14.324 Z\" fill=\"#000000\" fill-rule=\"evenodd\" fill-opacity=\"1\" /><path clip-path=\"url(#clip300)\" d=\"M1510.75 27.2059 L1518.2 27.2059 L1518.2 72.576 L1510.75 72.576 L1510.75 27.2059 M1510.75 9.54393 L1518.2 9.54393 L1518.2 18.9825 L1510.75 18.9825 L1510.75 9.54393 Z\" fill=\"#000000\" fill-rule=\"evenodd\" fill-opacity=\"1\" /><path clip-path=\"url(#clip300)\" d=\"M1551.38 32.4315 Q1545.38 32.4315 1541.9 37.1306 Q1538.42 41.7891 1538.42 49.9314 Q1538.42 58.0738 1541.86 62.7728 Q1545.34 67.4314 1551.38 67.4314 Q1557.33 67.4314 1560.82 62.7323 Q1564.3 58.0333 1564.3 49.9314 Q1564.3 41.8701 1560.82 37.1711 Q1557.33 32.4315 1551.38 32.4315 M1551.38 26.1121 Q1561.1 26.1121 1566.65 32.4315 Q1572.2 38.7509 1572.2 49.9314 Q1572.2 61.0714 1566.65 67.4314 Q1561.1 73.7508 1551.38 73.7508 Q1541.62 73.7508 1536.07 67.4314 Q1530.56 61.0714 1530.56 49.9314 Q1530.56 38.7509 1536.07 32.4315 Q1541.62 26.1121 1551.38 26.1121 Z\" fill=\"#000000\" fill-rule=\"evenodd\" fill-opacity=\"1\" /><path clip-path=\"url(#clip300)\" d=\"M1622.27 45.1919 L1622.27 72.576 L1614.82 72.576 L1614.82 45.4349 Q1614.82 38.994 1612.31 35.7938 Q1609.79 32.5936 1604.77 32.5936 Q1598.73 32.5936 1595.25 36.4419 Q1591.77 40.2903 1591.77 46.9338 L1591.77 72.576 L1584.27 72.576 L1584.27 27.2059 L1591.77 27.2059 L1591.77 34.2544 Q1594.44 30.163 1598.05 28.1376 Q1601.69 26.1121 1606.43 26.1121 Q1614.25 26.1121 1618.26 30.9732 Q1622.27 35.7938 1622.27 45.1919 Z\" fill=\"#000000\" fill-rule=\"evenodd\" fill-opacity=\"1\" /><polyline clip-path=\"url(#clip302)\" style=\"stroke:#009af9; stroke-linecap:butt; stroke-linejoin:round; stroke-width:8; stroke-opacity:1; fill:none\" points=\"\n",
       "  255.035,804.96 265.269,784.766 275.503,764.591 285.738,744.457 295.972,724.382 306.206,704.386 316.44,684.49 326.675,664.713 336.909,645.074 347.143,625.593 \n",
       "  357.378,606.289 367.612,587.181 377.846,568.288 388.08,549.628 398.315,531.221 408.549,513.084 418.783,495.234 429.018,477.691 439.252,460.47 449.486,443.589 \n",
       "  459.72,427.065 469.955,410.914 480.189,395.152 490.423,379.794 500.657,364.856 510.892,350.352 521.126,336.297 531.36,322.704 541.595,309.587 551.829,296.959 \n",
       "  562.063,284.832 572.297,273.219 582.532,262.131 592.766,251.578 603,241.571 613.235,232.12 623.469,223.235 633.703,214.924 643.937,207.195 654.172,200.055 \n",
       "  664.406,193.513 674.64,187.575 684.875,182.245 695.109,177.53 705.343,173.435 715.577,169.962 725.812,167.116 736.046,164.9 746.28,163.316 756.515,162.364 \n",
       "  766.749,162.047 776.983,162.364 787.217,163.316 797.452,164.9 807.686,167.116 817.92,169.962 828.155,173.435 838.389,177.53 848.623,182.245 858.857,187.575 \n",
       "  869.092,193.513 879.326,200.055 889.56,207.195 899.795,214.924 910.029,223.235 920.263,232.12 930.497,241.571 940.732,251.578 950.966,262.131 961.2,273.219 \n",
       "  971.435,284.832 981.669,296.959 991.903,309.587 1002.14,322.704 1012.37,336.297 1022.61,350.352 1032.84,364.856 1043.07,379.794 1053.31,395.152 1063.54,410.914 \n",
       "  1073.78,427.065 1084.01,443.589 1094.25,460.47 1104.48,477.691 1114.71,495.234 1124.95,513.084 1135.18,531.221 1145.42,549.628 1155.65,568.288 1165.89,587.181 \n",
       "  1176.12,606.289 1186.35,625.593 1196.59,645.074 1206.82,664.713 1217.06,684.49 1227.29,704.386 1237.53,724.382 1247.76,744.457 1257.99,764.591 1268.23,784.766 \n",
       "  1278.46,804.96 1288.7,825.154 1298.93,845.329 1309.17,865.463 1319.4,885.538 1329.63,905.534 1339.87,925.43 1350.1,945.207 1360.34,964.846 1370.57,984.327 \n",
       "  1380.81,1003.63 1391.04,1022.74 1401.27,1041.63 1411.51,1060.29 1421.74,1078.7 1431.98,1096.84 1442.21,1114.69 1452.45,1132.23 1462.68,1149.45 1472.91,1166.33 \n",
       "  1483.15,1182.85 1493.38,1199.01 1503.62,1214.77 1513.85,1230.13 1524.09,1245.06 1534.32,1259.57 1544.55,1273.62 1554.79,1287.22 1565.02,1300.33 1575.26,1312.96 \n",
       "  1585.49,1325.09 1595.73,1336.7 1605.96,1347.79 1616.19,1358.34 1626.43,1368.35 1636.66,1377.8 1646.9,1386.69 1657.13,1395 1667.37,1402.73 1677.6,1409.86 \n",
       "  1687.83,1416.41 1698.07,1422.35 1708.3,1427.67 1718.54,1432.39 1728.77,1436.49 1739.01,1439.96 1749.24,1442.8 1759.47,1445.02 1769.71,1446.6 1779.94,1447.56 \n",
       "  1790.18,1447.87 1800.41,1447.56 1810.65,1446.6 1820.88,1445.02 1831.11,1442.8 1841.35,1439.96 1851.58,1436.49 1861.82,1432.39 1872.05,1427.67 1882.29,1422.35 \n",
       "  1892.52,1416.41 1902.75,1409.86 1912.99,1402.73 1923.22,1395 1933.46,1386.69 1943.69,1377.8 1953.93,1368.35 1964.16,1358.34 1974.39,1347.79 1984.63,1336.7 \n",
       "  1994.86,1325.09 2005.1,1312.96 2015.33,1300.33 2025.57,1287.22 2035.8,1273.62 2046.03,1259.57 2056.27,1245.06 2066.5,1230.13 2076.74,1214.77 2086.97,1199.01 \n",
       "  2097.21,1182.85 2107.44,1166.33 2117.67,1149.45 2127.91,1132.23 2138.14,1114.69 2148.38,1096.84 2158.61,1078.7 2168.85,1060.29 2179.08,1041.63 2189.31,1022.74 \n",
       "  2199.55,1003.63 2209.78,984.327 2220.02,964.846 2230.25,945.207 2240.49,925.43 2250.72,905.534 2260.95,885.538 2271.19,865.463 2281.42,845.329 2291.66,825.154 \n",
       "  \n",
       "  \"/>\n",
       "</svg>\n"
      ]
     },
     "execution_count": 55,
     "metadata": {},
     "output_type": "execute_result"
    }
   ],
   "source": [
    "x = 0:π/100:2π\n",
    "y = sin.(x)\n",
    "\n",
    "plot(x, y, title = \"This is a function\", legend = false, lw = 2)"
   ]
  },
  {
   "cell_type": "markdown",
   "metadata": {
    "slideshow": {
     "slide_type": "slide"
    }
   },
   "source": [
    "## Functions and non-functions"
   ]
  },
  {
   "cell_type": "code",
   "execution_count": 57,
   "metadata": {
    "slideshow": {
     "slide_type": "fragment"
    }
   },
   "outputs": [
    {
     "data": {
      "image/svg+xml": [
       "<?xml version=\"1.0\" encoding=\"utf-8\"?>\n",
       "<svg xmlns=\"http://www.w3.org/2000/svg\" xmlns:xlink=\"http://www.w3.org/1999/xlink\" width=\"600\" height=\"400\" viewBox=\"0 0 2400 1600\">\n",
       "<defs>\n",
       "  <clipPath id=\"clip380\">\n",
       "    <rect x=\"0\" y=\"0\" width=\"2400\" height=\"1600\"/>\n",
       "  </clipPath>\n",
       "</defs>\n",
       "<path clip-path=\"url(#clip380)\" d=\"\n",
       "M0 1600 L2400 1600 L2400 0 L0 0  Z\n",
       "  \" fill=\"#ffffff\" fill-rule=\"evenodd\" fill-opacity=\"1\"/>\n",
       "<defs>\n",
       "  <clipPath id=\"clip381\">\n",
       "    <rect x=\"480\" y=\"0\" width=\"1681\" height=\"1600\"/>\n",
       "  </clipPath>\n",
       "</defs>\n",
       "<path clip-path=\"url(#clip380)\" d=\"\n",
       "M156.112 1486.45 L2352.76 1486.45 L2352.76 123.472 L156.112 123.472  Z\n",
       "  \" fill=\"#ffffff\" fill-rule=\"evenodd\" fill-opacity=\"1\"/>\n",
       "<defs>\n",
       "  <clipPath id=\"clip382\">\n",
       "    <rect x=\"156\" y=\"123\" width=\"2198\" height=\"1364\"/>\n",
       "  </clipPath>\n",
       "</defs>\n",
       "<polyline clip-path=\"url(#clip382)\" style=\"stroke:#000000; stroke-linecap:butt; stroke-linejoin:round; stroke-width:2; stroke-opacity:0.1; fill:none\" points=\"\n",
       "  218.281,1486.45 218.281,123.472 \n",
       "  \"/>\n",
       "<polyline clip-path=\"url(#clip382)\" style=\"stroke:#000000; stroke-linecap:butt; stroke-linejoin:round; stroke-width:2; stroke-opacity:0.1; fill:none\" points=\"\n",
       "  736.358,1486.45 736.358,123.472 \n",
       "  \"/>\n",
       "<polyline clip-path=\"url(#clip382)\" style=\"stroke:#000000; stroke-linecap:butt; stroke-linejoin:round; stroke-width:2; stroke-opacity:0.1; fill:none\" points=\"\n",
       "  1254.43,1486.45 1254.43,123.472 \n",
       "  \"/>\n",
       "<polyline clip-path=\"url(#clip382)\" style=\"stroke:#000000; stroke-linecap:butt; stroke-linejoin:round; stroke-width:2; stroke-opacity:0.1; fill:none\" points=\"\n",
       "  1772.51,1486.45 1772.51,123.472 \n",
       "  \"/>\n",
       "<polyline clip-path=\"url(#clip382)\" style=\"stroke:#000000; stroke-linecap:butt; stroke-linejoin:round; stroke-width:2; stroke-opacity:0.1; fill:none\" points=\"\n",
       "  2290.59,1486.45 2290.59,123.472 \n",
       "  \"/>\n",
       "<polyline clip-path=\"url(#clip380)\" style=\"stroke:#000000; stroke-linecap:butt; stroke-linejoin:round; stroke-width:4; stroke-opacity:1; fill:none\" points=\"\n",
       "  156.112,1486.45 2352.76,1486.45 \n",
       "  \"/>\n",
       "<polyline clip-path=\"url(#clip380)\" style=\"stroke:#000000; stroke-linecap:butt; stroke-linejoin:round; stroke-width:4; stroke-opacity:1; fill:none\" points=\"\n",
       "  218.281,1486.45 218.281,1467.55 \n",
       "  \"/>\n",
       "<polyline clip-path=\"url(#clip380)\" style=\"stroke:#000000; stroke-linecap:butt; stroke-linejoin:round; stroke-width:4; stroke-opacity:1; fill:none\" points=\"\n",
       "  736.358,1486.45 736.358,1467.55 \n",
       "  \"/>\n",
       "<polyline clip-path=\"url(#clip380)\" style=\"stroke:#000000; stroke-linecap:butt; stroke-linejoin:round; stroke-width:4; stroke-opacity:1; fill:none\" points=\"\n",
       "  1254.43,1486.45 1254.43,1467.55 \n",
       "  \"/>\n",
       "<polyline clip-path=\"url(#clip380)\" style=\"stroke:#000000; stroke-linecap:butt; stroke-linejoin:round; stroke-width:4; stroke-opacity:1; fill:none\" points=\"\n",
       "  1772.51,1486.45 1772.51,1467.55 \n",
       "  \"/>\n",
       "<polyline clip-path=\"url(#clip380)\" style=\"stroke:#000000; stroke-linecap:butt; stroke-linejoin:round; stroke-width:4; stroke-opacity:1; fill:none\" points=\"\n",
       "  2290.59,1486.45 2290.59,1467.55 \n",
       "  \"/>\n",
       "<path clip-path=\"url(#clip380)\" d=\"M195.666 1517.37 Q192.055 1517.37 190.226 1520.93 Q188.42 1524.47 188.42 1531.6 Q188.42 1538.71 190.226 1542.27 Q192.055 1545.82 195.666 1545.82 Q199.3 1545.82 201.105 1542.27 Q202.934 1538.71 202.934 1531.6 Q202.934 1524.47 201.105 1520.93 Q199.3 1517.37 195.666 1517.37 M195.666 1513.66 Q201.476 1513.66 204.531 1518.27 Q207.61 1522.85 207.61 1531.6 Q207.61 1540.33 204.531 1544.94 Q201.476 1549.52 195.666 1549.52 Q189.856 1549.52 186.777 1544.94 Q183.721 1540.33 183.721 1531.6 Q183.721 1522.85 186.777 1518.27 Q189.856 1513.66 195.666 1513.66 Z\" fill=\"#000000\" fill-rule=\"evenodd\" fill-opacity=\"1\" /><path clip-path=\"url(#clip380)\" d=\"M215.828 1542.97 L220.712 1542.97 L220.712 1548.85 L215.828 1548.85 L215.828 1542.97 Z\" fill=\"#000000\" fill-rule=\"evenodd\" fill-opacity=\"1\" /><path clip-path=\"url(#clip380)\" d=\"M240.897 1517.37 Q237.286 1517.37 235.457 1520.93 Q233.652 1524.47 233.652 1531.6 Q233.652 1538.71 235.457 1542.27 Q237.286 1545.82 240.897 1545.82 Q244.531 1545.82 246.337 1542.27 Q248.165 1538.71 248.165 1531.6 Q248.165 1524.47 246.337 1520.93 Q244.531 1517.37 240.897 1517.37 M240.897 1513.66 Q246.707 1513.66 249.763 1518.27 Q252.841 1522.85 252.841 1531.6 Q252.841 1540.33 249.763 1544.94 Q246.707 1549.52 240.897 1549.52 Q235.087 1549.52 232.008 1544.94 Q228.953 1540.33 228.953 1531.6 Q228.953 1522.85 232.008 1518.27 Q235.087 1513.66 240.897 1513.66 Z\" fill=\"#000000\" fill-rule=\"evenodd\" fill-opacity=\"1\" /><path clip-path=\"url(#clip380)\" d=\"M714.24 1517.37 Q710.629 1517.37 708.8 1520.93 Q706.994 1524.47 706.994 1531.6 Q706.994 1538.71 708.8 1542.27 Q710.629 1545.82 714.24 1545.82 Q717.874 1545.82 719.68 1542.27 Q721.508 1538.71 721.508 1531.6 Q721.508 1524.47 719.68 1520.93 Q717.874 1517.37 714.24 1517.37 M714.24 1513.66 Q720.05 1513.66 723.105 1518.27 Q726.184 1522.85 726.184 1531.6 Q726.184 1540.33 723.105 1544.94 Q720.05 1549.52 714.24 1549.52 Q708.43 1549.52 705.351 1544.94 Q702.295 1540.33 702.295 1531.6 Q702.295 1522.85 705.351 1518.27 Q708.43 1513.66 714.24 1513.66 Z\" fill=\"#000000\" fill-rule=\"evenodd\" fill-opacity=\"1\" /><path clip-path=\"url(#clip380)\" d=\"M734.402 1542.97 L739.286 1542.97 L739.286 1548.85 L734.402 1548.85 L734.402 1542.97 Z\" fill=\"#000000\" fill-rule=\"evenodd\" fill-opacity=\"1\" /><path clip-path=\"url(#clip380)\" d=\"M749.517 1514.29 L767.874 1514.29 L767.874 1518.22 L753.8 1518.22 L753.8 1526.7 Q754.818 1526.35 755.837 1526.19 Q756.855 1526 757.874 1526 Q763.661 1526 767.04 1529.17 Q770.42 1532.34 770.42 1537.76 Q770.42 1543.34 766.948 1546.44 Q763.476 1549.52 757.156 1549.52 Q754.98 1549.52 752.712 1549.15 Q750.466 1548.78 748.059 1548.04 L748.059 1543.34 Q750.142 1544.47 752.365 1545.03 Q754.587 1545.58 757.064 1545.58 Q761.068 1545.58 763.406 1543.48 Q765.744 1541.37 765.744 1537.76 Q765.744 1534.15 763.406 1532.04 Q761.068 1529.94 757.064 1529.94 Q755.189 1529.94 753.314 1530.35 Q751.462 1530.77 749.517 1531.65 L749.517 1514.29 Z\" fill=\"#000000\" fill-rule=\"evenodd\" fill-opacity=\"1\" /><path clip-path=\"url(#clip380)\" d=\"M1221.59 1544.91 L1229.23 1544.91 L1229.23 1518.55 L1220.92 1520.21 L1220.92 1515.95 L1229.18 1514.29 L1233.86 1514.29 L1233.86 1544.91 L1241.49 1544.91 L1241.49 1548.85 L1221.59 1548.85 L1221.59 1544.91 Z\" fill=\"#000000\" fill-rule=\"evenodd\" fill-opacity=\"1\" /><path clip-path=\"url(#clip380)\" d=\"M1250.94 1542.97 L1255.82 1542.97 L1255.82 1548.85 L1250.94 1548.85 L1250.94 1542.97 Z\" fill=\"#000000\" fill-rule=\"evenodd\" fill-opacity=\"1\" /><path clip-path=\"url(#clip380)\" d=\"M1276.01 1517.37 Q1272.4 1517.37 1270.57 1520.93 Q1268.76 1524.47 1268.76 1531.6 Q1268.76 1538.71 1270.57 1542.27 Q1272.4 1545.82 1276.01 1545.82 Q1279.64 1545.82 1281.45 1542.27 Q1283.28 1538.71 1283.28 1531.6 Q1283.28 1524.47 1281.45 1520.93 Q1279.64 1517.37 1276.01 1517.37 M1276.01 1513.66 Q1281.82 1513.66 1284.87 1518.27 Q1287.95 1522.85 1287.95 1531.6 Q1287.95 1540.33 1284.87 1544.94 Q1281.82 1549.52 1276.01 1549.52 Q1270.2 1549.52 1267.12 1544.94 Q1264.06 1540.33 1264.06 1531.6 Q1264.06 1522.85 1267.12 1518.27 Q1270.2 1513.66 1276.01 1513.66 Z\" fill=\"#000000\" fill-rule=\"evenodd\" fill-opacity=\"1\" /><path clip-path=\"url(#clip380)\" d=\"M1740.16 1544.91 L1747.8 1544.91 L1747.8 1518.55 L1739.49 1520.21 L1739.49 1515.95 L1747.75 1514.29 L1752.43 1514.29 L1752.43 1544.91 L1760.07 1544.91 L1760.07 1548.85 L1740.16 1548.85 L1740.16 1544.91 Z\" fill=\"#000000\" fill-rule=\"evenodd\" fill-opacity=\"1\" /><path clip-path=\"url(#clip380)\" d=\"M1769.51 1542.97 L1774.4 1542.97 L1774.4 1548.85 L1769.51 1548.85 L1769.51 1542.97 Z\" fill=\"#000000\" fill-rule=\"evenodd\" fill-opacity=\"1\" /><path clip-path=\"url(#clip380)\" d=\"M1784.63 1514.29 L1802.98 1514.29 L1802.98 1518.22 L1788.91 1518.22 L1788.91 1526.7 Q1789.93 1526.35 1790.95 1526.19 Q1791.97 1526 1792.98 1526 Q1798.77 1526 1802.15 1529.17 Q1805.53 1532.34 1805.53 1537.76 Q1805.53 1543.34 1802.06 1546.44 Q1798.59 1549.52 1792.27 1549.52 Q1790.09 1549.52 1787.82 1549.15 Q1785.58 1548.78 1783.17 1548.04 L1783.17 1543.34 Q1785.25 1544.47 1787.48 1545.03 Q1789.7 1545.58 1792.17 1545.58 Q1796.18 1545.58 1798.52 1543.48 Q1800.86 1541.37 1800.86 1537.76 Q1800.86 1534.15 1798.52 1532.04 Q1796.18 1529.94 1792.17 1529.94 Q1790.3 1529.94 1788.42 1530.35 Q1786.57 1530.77 1784.63 1531.65 L1784.63 1514.29 Z\" fill=\"#000000\" fill-rule=\"evenodd\" fill-opacity=\"1\" /><path clip-path=\"url(#clip380)\" d=\"M2261.83 1544.91 L2278.14 1544.91 L2278.14 1548.85 L2256.2 1548.85 L2256.2 1544.91 Q2258.86 1542.16 2263.45 1537.53 Q2268.05 1532.88 2269.23 1531.53 Q2271.48 1529.01 2272.36 1527.27 Q2273.26 1525.51 2273.26 1523.82 Q2273.26 1521.07 2271.32 1519.33 Q2269.39 1517.6 2266.29 1517.6 Q2264.09 1517.6 2261.64 1518.36 Q2259.21 1519.13 2256.43 1520.68 L2256.43 1515.95 Q2259.26 1514.82 2261.71 1514.24 Q2264.16 1513.66 2266.2 1513.66 Q2271.57 1513.66 2274.77 1516.35 Q2277.96 1519.03 2277.96 1523.52 Q2277.96 1525.65 2277.15 1527.57 Q2276.36 1529.47 2274.26 1532.07 Q2273.68 1532.74 2270.58 1535.95 Q2267.47 1539.15 2261.83 1544.91 Z\" fill=\"#000000\" fill-rule=\"evenodd\" fill-opacity=\"1\" /><path clip-path=\"url(#clip380)\" d=\"M2287.96 1542.97 L2292.84 1542.97 L2292.84 1548.85 L2287.96 1548.85 L2287.96 1542.97 Z\" fill=\"#000000\" fill-rule=\"evenodd\" fill-opacity=\"1\" /><path clip-path=\"url(#clip380)\" d=\"M2313.03 1517.37 Q2309.42 1517.37 2307.59 1520.93 Q2305.78 1524.47 2305.78 1531.6 Q2305.78 1538.71 2307.59 1542.27 Q2309.42 1545.82 2313.03 1545.82 Q2316.66 1545.82 2318.47 1542.27 Q2320.3 1538.71 2320.3 1531.6 Q2320.3 1524.47 2318.47 1520.93 Q2316.66 1517.37 2313.03 1517.37 M2313.03 1513.66 Q2318.84 1513.66 2321.89 1518.27 Q2324.97 1522.85 2324.97 1531.6 Q2324.97 1540.33 2321.89 1544.94 Q2318.84 1549.52 2313.03 1549.52 Q2307.22 1549.52 2304.14 1544.94 Q2301.08 1540.33 2301.08 1531.6 Q2301.08 1522.85 2304.14 1518.27 Q2307.22 1513.66 2313.03 1513.66 Z\" fill=\"#000000\" fill-rule=\"evenodd\" fill-opacity=\"1\" /><polyline clip-path=\"url(#clip382)\" style=\"stroke:#000000; stroke-linecap:butt; stroke-linejoin:round; stroke-width:2; stroke-opacity:0.1; fill:none\" points=\"\n",
       "  156.112,1447.87 2352.76,1447.87 \n",
       "  \"/>\n",
       "<polyline clip-path=\"url(#clip382)\" style=\"stroke:#000000; stroke-linecap:butt; stroke-linejoin:round; stroke-width:2; stroke-opacity:0.1; fill:none\" points=\"\n",
       "  156.112,1126.42 2352.76,1126.42 \n",
       "  \"/>\n",
       "<polyline clip-path=\"url(#clip382)\" style=\"stroke:#000000; stroke-linecap:butt; stroke-linejoin:round; stroke-width:2; stroke-opacity:0.1; fill:none\" points=\"\n",
       "  156.112,804.96 2352.76,804.96 \n",
       "  \"/>\n",
       "<polyline clip-path=\"url(#clip382)\" style=\"stroke:#000000; stroke-linecap:butt; stroke-linejoin:round; stroke-width:2; stroke-opacity:0.1; fill:none\" points=\"\n",
       "  156.112,483.503 2352.76,483.503 \n",
       "  \"/>\n",
       "<polyline clip-path=\"url(#clip382)\" style=\"stroke:#000000; stroke-linecap:butt; stroke-linejoin:round; stroke-width:2; stroke-opacity:0.1; fill:none\" points=\"\n",
       "  156.112,162.047 2352.76,162.047 \n",
       "  \"/>\n",
       "<polyline clip-path=\"url(#clip380)\" style=\"stroke:#000000; stroke-linecap:butt; stroke-linejoin:round; stroke-width:4; stroke-opacity:1; fill:none\" points=\"\n",
       "  156.112,1486.45 156.112,123.472 \n",
       "  \"/>\n",
       "<polyline clip-path=\"url(#clip380)\" style=\"stroke:#000000; stroke-linecap:butt; stroke-linejoin:round; stroke-width:4; stroke-opacity:1; fill:none\" points=\"\n",
       "  156.112,1447.87 175.01,1447.87 \n",
       "  \"/>\n",
       "<polyline clip-path=\"url(#clip380)\" style=\"stroke:#000000; stroke-linecap:butt; stroke-linejoin:round; stroke-width:4; stroke-opacity:1; fill:none\" points=\"\n",
       "  156.112,1126.42 175.01,1126.42 \n",
       "  \"/>\n",
       "<polyline clip-path=\"url(#clip380)\" style=\"stroke:#000000; stroke-linecap:butt; stroke-linejoin:round; stroke-width:4; stroke-opacity:1; fill:none\" points=\"\n",
       "  156.112,804.96 175.01,804.96 \n",
       "  \"/>\n",
       "<polyline clip-path=\"url(#clip380)\" style=\"stroke:#000000; stroke-linecap:butt; stroke-linejoin:round; stroke-width:4; stroke-opacity:1; fill:none\" points=\"\n",
       "  156.112,483.503 175.01,483.503 \n",
       "  \"/>\n",
       "<polyline clip-path=\"url(#clip380)\" style=\"stroke:#000000; stroke-linecap:butt; stroke-linejoin:round; stroke-width:4; stroke-opacity:1; fill:none\" points=\"\n",
       "  156.112,162.047 175.01,162.047 \n",
       "  \"/>\n",
       "<path clip-path=\"url(#clip380)\" d=\"M62.9365 1433.67 Q59.3254 1433.67 57.4967 1437.24 Q55.6912 1440.78 55.6912 1447.91 Q55.6912 1455.01 57.4967 1458.58 Q59.3254 1462.12 62.9365 1462.12 Q66.5707 1462.12 68.3763 1458.58 Q70.205 1455.01 70.205 1447.91 Q70.205 1440.78 68.3763 1437.24 Q66.5707 1433.67 62.9365 1433.67 M62.9365 1429.97 Q68.7467 1429.97 71.8022 1434.57 Q74.8809 1439.16 74.8809 1447.91 Q74.8809 1456.63 71.8022 1461.24 Q68.7467 1465.82 62.9365 1465.82 Q57.1264 1465.82 54.0477 1461.24 Q50.9921 1456.63 50.9921 1447.91 Q50.9921 1439.16 54.0477 1434.57 Q57.1264 1429.97 62.9365 1429.97 Z\" fill=\"#000000\" fill-rule=\"evenodd\" fill-opacity=\"1\" /><path clip-path=\"url(#clip380)\" d=\"M83.0984 1459.27 L87.9827 1459.27 L87.9827 1465.15 L83.0984 1465.15 L83.0984 1459.27 Z\" fill=\"#000000\" fill-rule=\"evenodd\" fill-opacity=\"1\" /><path clip-path=\"url(#clip380)\" d=\"M108.168 1433.67 Q104.557 1433.67 102.728 1437.24 Q100.922 1440.78 100.922 1447.91 Q100.922 1455.01 102.728 1458.58 Q104.557 1462.12 108.168 1462.12 Q111.802 1462.12 113.608 1458.58 Q115.436 1455.01 115.436 1447.91 Q115.436 1440.78 113.608 1437.24 Q111.802 1433.67 108.168 1433.67 M108.168 1429.97 Q113.978 1429.97 117.033 1434.57 Q120.112 1439.16 120.112 1447.91 Q120.112 1456.63 117.033 1461.24 Q113.978 1465.82 108.168 1465.82 Q102.358 1465.82 99.2789 1461.24 Q96.2234 1456.63 96.2234 1447.91 Q96.2234 1439.16 99.2789 1434.57 Q102.358 1429.97 108.168 1429.97 Z\" fill=\"#000000\" fill-rule=\"evenodd\" fill-opacity=\"1\" /><path clip-path=\"url(#clip380)\" d=\"M63.9319 1112.22 Q60.3208 1112.22 58.4921 1115.78 Q56.6865 1119.32 56.6865 1126.45 Q56.6865 1133.56 58.4921 1137.12 Q60.3208 1140.66 63.9319 1140.66 Q67.5661 1140.66 69.3717 1137.12 Q71.2004 1133.56 71.2004 1126.45 Q71.2004 1119.32 69.3717 1115.78 Q67.5661 1112.22 63.9319 1112.22 M63.9319 1108.51 Q69.742 1108.51 72.7976 1113.12 Q75.8763 1117.7 75.8763 1126.45 Q75.8763 1135.18 72.7976 1139.78 Q69.742 1144.37 63.9319 1144.37 Q58.1217 1144.37 55.043 1139.78 Q51.9875 1135.18 51.9875 1126.45 Q51.9875 1117.7 55.043 1113.12 Q58.1217 1108.51 63.9319 1108.51 Z\" fill=\"#000000\" fill-rule=\"evenodd\" fill-opacity=\"1\" /><path clip-path=\"url(#clip380)\" d=\"M84.0938 1137.82 L88.978 1137.82 L88.978 1143.7 L84.0938 1143.7 L84.0938 1137.82 Z\" fill=\"#000000\" fill-rule=\"evenodd\" fill-opacity=\"1\" /><path clip-path=\"url(#clip380)\" d=\"M99.2095 1109.14 L117.566 1109.14 L117.566 1113.07 L103.492 1113.07 L103.492 1121.54 Q104.51 1121.2 105.529 1121.03 Q106.547 1120.85 107.566 1120.85 Q113.353 1120.85 116.733 1124.02 Q120.112 1127.19 120.112 1132.61 Q120.112 1138.19 116.64 1141.29 Q113.168 1144.37 106.848 1144.37 Q104.672 1144.37 102.404 1144 Q100.159 1143.63 97.7511 1142.89 L97.7511 1138.19 Q99.8345 1139.32 102.057 1139.88 Q104.279 1140.43 106.756 1140.43 Q110.76 1140.43 113.098 1138.33 Q115.436 1136.22 115.436 1132.61 Q115.436 1129 113.098 1126.89 Q110.76 1124.78 106.756 1124.78 Q104.881 1124.78 103.006 1125.2 Q101.154 1125.62 99.2095 1126.5 L99.2095 1109.14 Z\" fill=\"#000000\" fill-rule=\"evenodd\" fill-opacity=\"1\" /><path clip-path=\"url(#clip380)\" d=\"M53.7467 818.305 L61.3856 818.305 L61.3856 791.939 L53.0754 793.606 L53.0754 789.347 L61.3393 787.68 L66.0152 787.68 L66.0152 818.305 L73.654 818.305 L73.654 822.24 L53.7467 822.24 L53.7467 818.305 Z\" fill=\"#000000\" fill-rule=\"evenodd\" fill-opacity=\"1\" /><path clip-path=\"url(#clip380)\" d=\"M83.0984 816.36 L87.9827 816.36 L87.9827 822.24 L83.0984 822.24 L83.0984 816.36 Z\" fill=\"#000000\" fill-rule=\"evenodd\" fill-opacity=\"1\" /><path clip-path=\"url(#clip380)\" d=\"M108.168 790.759 Q104.557 790.759 102.728 794.323 Q100.922 797.865 100.922 804.995 Q100.922 812.101 102.728 815.666 Q104.557 819.208 108.168 819.208 Q111.802 819.208 113.608 815.666 Q115.436 812.101 115.436 804.995 Q115.436 797.865 113.608 794.323 Q111.802 790.759 108.168 790.759 M108.168 787.055 Q113.978 787.055 117.033 791.661 Q120.112 796.245 120.112 804.995 Q120.112 813.722 117.033 818.328 Q113.978 822.911 108.168 822.911 Q102.358 822.911 99.2789 818.328 Q96.2234 813.722 96.2234 804.995 Q96.2234 796.245 99.2789 791.661 Q102.358 787.055 108.168 787.055 Z\" fill=\"#000000\" fill-rule=\"evenodd\" fill-opacity=\"1\" /><path clip-path=\"url(#clip380)\" d=\"M54.7421 496.848 L62.381 496.848 L62.381 470.483 L54.0708 472.149 L54.0708 467.89 L62.3347 466.223 L67.0106 466.223 L67.0106 496.848 L74.6494 496.848 L74.6494 500.783 L54.7421 500.783 L54.7421 496.848 Z\" fill=\"#000000\" fill-rule=\"evenodd\" fill-opacity=\"1\" /><path clip-path=\"url(#clip380)\" d=\"M84.0938 494.904 L88.978 494.904 L88.978 500.783 L84.0938 500.783 L84.0938 494.904 Z\" fill=\"#000000\" fill-rule=\"evenodd\" fill-opacity=\"1\" /><path clip-path=\"url(#clip380)\" d=\"M99.2095 466.223 L117.566 466.223 L117.566 470.159 L103.492 470.159 L103.492 478.631 Q104.51 478.284 105.529 478.122 Q106.547 477.936 107.566 477.936 Q113.353 477.936 116.733 481.108 Q120.112 484.279 120.112 489.696 Q120.112 495.274 116.64 498.376 Q113.168 501.455 106.848 501.455 Q104.672 501.455 102.404 501.084 Q100.159 500.714 97.7511 499.973 L97.7511 495.274 Q99.8345 496.408 102.057 496.964 Q104.279 497.52 106.756 497.52 Q110.76 497.52 113.098 495.413 Q115.436 493.307 115.436 489.696 Q115.436 486.084 113.098 483.978 Q110.76 481.872 106.756 481.872 Q104.881 481.872 103.006 482.288 Q101.154 482.705 99.2095 483.584 L99.2095 466.223 Z\" fill=\"#000000\" fill-rule=\"evenodd\" fill-opacity=\"1\" /><path clip-path=\"url(#clip380)\" d=\"M56.9643 175.392 L73.2837 175.392 L73.2837 179.327 L51.3393 179.327 L51.3393 175.392 Q54.0014 172.637 58.5847 168.008 Q63.1911 163.355 64.3717 162.012 Q66.617 159.489 67.4967 157.753 Q68.3994 155.994 68.3994 154.304 Q68.3994 151.549 66.455 149.813 Q64.5337 148.077 61.4319 148.077 Q59.2328 148.077 56.7791 148.841 Q54.3486 149.605 51.5708 151.156 L51.5708 146.434 Q54.3949 145.299 56.8486 144.721 Q59.3023 144.142 61.3393 144.142 Q66.7096 144.142 69.9041 146.827 Q73.0985 149.512 73.0985 154.003 Q73.0985 156.133 72.2883 158.054 Q71.5013 159.952 69.3948 162.545 Q68.8161 163.216 65.7143 166.433 Q62.6124 169.628 56.9643 175.392 Z\" fill=\"#000000\" fill-rule=\"evenodd\" fill-opacity=\"1\" /><path clip-path=\"url(#clip380)\" d=\"M83.0984 173.447 L87.9827 173.447 L87.9827 179.327 L83.0984 179.327 L83.0984 173.447 Z\" fill=\"#000000\" fill-rule=\"evenodd\" fill-opacity=\"1\" /><path clip-path=\"url(#clip380)\" d=\"M108.168 147.846 Q104.557 147.846 102.728 151.41 Q100.922 154.952 100.922 162.082 Q100.922 169.188 102.728 172.753 Q104.557 176.295 108.168 176.295 Q111.802 176.295 113.608 172.753 Q115.436 169.188 115.436 162.082 Q115.436 154.952 113.608 151.41 Q111.802 147.846 108.168 147.846 M108.168 144.142 Q113.978 144.142 117.033 148.748 Q120.112 153.332 120.112 162.082 Q120.112 170.808 117.033 175.415 Q113.978 179.998 108.168 179.998 Q102.358 179.998 99.2789 175.415 Q96.2234 170.808 96.2234 162.082 Q96.2234 153.332 99.2789 148.748 Q102.358 144.142 108.168 144.142 Z\" fill=\"#000000\" fill-rule=\"evenodd\" fill-opacity=\"1\" /><path clip-path=\"url(#clip380)\" d=\"M803.305 12.096 L854.468 12.096 L854.468 18.9825 L832.998 18.9825 L832.998 72.576 L824.775 72.576 L824.775 18.9825 L803.305 18.9825 L803.305 12.096 Z\" fill=\"#000000\" fill-rule=\"evenodd\" fill-opacity=\"1\" /><path clip-path=\"url(#clip380)\" d=\"M899.757 45.1919 L899.757 72.576 L892.303 72.576 L892.303 45.4349 Q892.303 38.994 889.792 35.7938 Q887.28 32.5936 882.257 32.5936 Q876.221 32.5936 872.738 36.4419 Q869.254 40.2903 869.254 46.9338 L869.254 72.576 L861.76 72.576 L861.76 9.54393 L869.254 9.54393 L869.254 34.2544 Q871.927 30.163 875.533 28.1376 Q879.179 26.1121 883.918 26.1121 Q891.736 26.1121 895.747 30.9732 Q899.757 35.7938 899.757 45.1919 Z\" fill=\"#000000\" fill-rule=\"evenodd\" fill-opacity=\"1\" /><path clip-path=\"url(#clip380)\" d=\"M914.624 27.2059 L922.078 27.2059 L922.078 72.576 L914.624 72.576 L914.624 27.2059 M914.624 9.54393 L922.078 9.54393 L922.078 18.9825 L914.624 18.9825 L914.624 9.54393 Z\" fill=\"#000000\" fill-rule=\"evenodd\" fill-opacity=\"1\" /><path clip-path=\"url(#clip380)\" d=\"M966.597 28.5427 L966.597 35.5912 Q963.437 33.9709 960.035 33.1607 Q956.632 32.3505 952.986 32.3505 Q947.436 32.3505 944.641 34.0519 Q941.887 35.7533 941.887 39.156 Q941.887 41.7486 943.871 43.2475 Q945.856 44.7058 951.852 46.0426 L954.404 46.6097 Q962.344 48.3111 965.665 51.4303 Q969.028 54.509 969.028 60.0587 Q969.028 66.3781 964.004 70.0644 Q959.022 73.7508 950.272 73.7508 Q946.626 73.7508 942.656 73.0216 Q938.727 72.3329 934.352 70.9151 L934.352 63.2184 Q938.484 65.3654 942.494 66.4591 Q946.505 67.5124 950.434 67.5124 Q955.7 67.5124 958.536 65.73 Q961.371 63.9071 961.371 60.6258 Q961.371 57.5877 959.305 55.9673 Q957.28 54.3469 950.353 52.8481 L947.76 52.2405 Q940.833 50.7821 937.755 47.7845 Q934.676 44.7463 934.676 39.4801 Q934.676 33.0797 939.213 29.5959 Q943.75 26.1121 952.095 26.1121 Q956.227 26.1121 959.873 26.7198 Q963.518 27.3274 966.597 28.5427 Z\" fill=\"#000000\" fill-rule=\"evenodd\" fill-opacity=\"1\" /><path clip-path=\"url(#clip380)\" d=\"M1007.27 27.2059 L1014.72 27.2059 L1014.72 72.576 L1007.27 72.576 L1007.27 27.2059 M1007.27 9.54393 L1014.72 9.54393 L1014.72 18.9825 L1007.27 18.9825 L1007.27 9.54393 Z\" fill=\"#000000\" fill-rule=\"evenodd\" fill-opacity=\"1\" /><path clip-path=\"url(#clip380)\" d=\"M1059.24 28.5427 L1059.24 35.5912 Q1056.08 33.9709 1052.68 33.1607 Q1049.28 32.3505 1045.63 32.3505 Q1040.08 32.3505 1037.29 34.0519 Q1034.53 35.7533 1034.53 39.156 Q1034.53 41.7486 1036.52 43.2475 Q1038.5 44.7058 1044.5 46.0426 L1047.05 46.6097 Q1054.99 48.3111 1058.31 51.4303 Q1061.67 54.509 1061.67 60.0587 Q1061.67 66.3781 1056.65 70.0644 Q1051.67 73.7508 1042.92 73.7508 Q1039.27 73.7508 1035.3 73.0216 Q1031.37 72.3329 1027 70.9151 L1027 63.2184 Q1031.13 65.3654 1035.14 66.4591 Q1039.15 67.5124 1043.08 67.5124 Q1048.34 67.5124 1051.18 65.73 Q1054.02 63.9071 1054.02 60.6258 Q1054.02 57.5877 1051.95 55.9673 Q1049.92 54.3469 1043 52.8481 L1040.4 52.2405 Q1033.48 50.7821 1030.4 47.7845 Q1027.32 44.7463 1027.32 39.4801 Q1027.32 33.0797 1031.86 29.5959 Q1036.39 26.1121 1044.74 26.1121 Q1048.87 26.1121 1052.52 26.7198 Q1056.16 27.3274 1059.24 28.5427 Z\" fill=\"#000000\" fill-rule=\"evenodd\" fill-opacity=\"1\" /><path clip-path=\"url(#clip380)\" d=\"M1100.24 12.096 L1111.25 12.096 L1138.07 62.6918 L1138.07 12.096 L1146.01 12.096 L1146.01 72.576 L1134.99 72.576 L1108.18 21.9802 L1108.18 72.576 L1100.24 72.576 L1100.24 12.096 Z\" fill=\"#000000\" fill-rule=\"evenodd\" fill-opacity=\"1\" /><path clip-path=\"url(#clip380)\" d=\"M1186.84 17.6457 Q1177.93 17.6457 1172.67 24.2892 Q1167.44 30.9327 1167.44 42.3968 Q1167.44 53.8203 1172.67 60.4638 Q1177.93 67.1073 1186.84 67.1073 Q1195.76 67.1073 1200.94 60.4638 Q1206.17 53.8203 1206.17 42.3968 Q1206.17 30.9327 1200.94 24.2892 Q1195.76 17.6457 1186.84 17.6457 M1186.84 11.0023 Q1199.56 11.0023 1207.18 19.5497 Q1214.8 28.0566 1214.8 42.3968 Q1214.8 56.6965 1207.18 65.2439 Q1199.56 73.7508 1186.84 73.7508 Q1174.08 73.7508 1166.43 65.2439 Q1158.81 56.737 1158.81 42.3968 Q1158.81 28.0566 1166.43 19.5497 Q1174.08 11.0023 1186.84 11.0023 Z\" fill=\"#000000\" fill-rule=\"evenodd\" fill-opacity=\"1\" /><path clip-path=\"url(#clip380)\" d=\"M1219.21 12.096 L1270.37 12.096 L1270.37 18.9825 L1248.9 18.9825 L1248.9 72.576 L1240.68 72.576 L1240.68 18.9825 L1219.21 18.9825 L1219.21 12.096 Z\" fill=\"#000000\" fill-rule=\"evenodd\" fill-opacity=\"1\" /><path clip-path=\"url(#clip380)\" d=\"M1324.94 49.7694 Q1315.91 49.7694 1312.42 51.8354 Q1308.94 53.9013 1308.94 58.8839 Q1308.94 62.8538 1311.53 65.2034 Q1314.16 67.5124 1318.66 67.5124 Q1324.86 67.5124 1328.59 63.1374 Q1332.35 58.7219 1332.35 51.4303 L1332.35 49.7694 L1324.94 49.7694 M1339.81 46.6907 L1339.81 72.576 L1332.35 72.576 L1332.35 65.6895 Q1329.8 69.8214 1325.99 71.8063 Q1322.19 73.7508 1316.68 73.7508 Q1309.71 73.7508 1305.58 69.8619 Q1301.49 65.9325 1301.49 59.3701 Q1301.49 51.7138 1306.59 47.825 Q1311.73 43.9361 1321.9 43.9361 L1332.35 43.9361 L1332.35 43.2069 Q1332.35 38.0623 1328.95 35.2672 Q1325.59 32.4315 1319.47 32.4315 Q1315.58 32.4315 1311.9 33.3632 Q1308.21 34.295 1304.81 36.1584 L1304.81 29.2718 Q1308.9 27.692 1312.75 26.9223 Q1316.6 26.1121 1320.24 26.1121 Q1330.08 26.1121 1334.95 31.2163 Q1339.81 36.3204 1339.81 46.6907 Z\" fill=\"#000000\" fill-rule=\"evenodd\" fill-opacity=\"1\" /><path clip-path=\"url(#clip380)\" d=\"M1404.5 9.54393 L1404.5 15.7418 L1397.37 15.7418 Q1393.36 15.7418 1391.78 17.3622 Q1390.24 18.9825 1390.24 23.1955 L1390.24 27.2059 L1402.51 27.2059 L1402.51 32.9987 L1390.24 32.9987 L1390.24 72.576 L1382.75 72.576 L1382.75 32.9987 L1375.62 32.9987 L1375.62 27.2059 L1382.75 27.2059 L1382.75 24.0462 Q1382.75 16.471 1386.27 13.0277 Q1389.79 9.54393 1397.45 9.54393 L1404.5 9.54393 Z\" fill=\"#000000\" fill-rule=\"evenodd\" fill-opacity=\"1\" /><path clip-path=\"url(#clip380)\" d=\"M1409.97 54.671 L1409.97 27.2059 L1417.42 27.2059 L1417.42 54.3874 Q1417.42 60.8284 1419.93 64.0691 Q1422.45 67.2693 1427.47 67.2693 Q1433.5 67.2693 1436.99 63.421 Q1440.51 59.5726 1440.51 52.9291 L1440.51 27.2059 L1447.97 27.2059 L1447.97 72.576 L1440.51 72.576 L1440.51 65.6084 Q1437.8 69.7404 1434.19 71.7658 Q1430.63 73.7508 1425.89 73.7508 Q1418.07 73.7508 1414.02 68.8897 Q1409.97 64.0286 1409.97 54.671 M1428.72 26.1121 L1428.72 26.1121 Z\" fill=\"#000000\" fill-rule=\"evenodd\" fill-opacity=\"1\" /><path clip-path=\"url(#clip380)\" d=\"M1501.03 45.1919 L1501.03 72.576 L1493.58 72.576 L1493.58 45.4349 Q1493.58 38.994 1491.07 35.7938 Q1488.56 32.5936 1483.53 32.5936 Q1477.5 32.5936 1474.01 36.4419 Q1470.53 40.2903 1470.53 46.9338 L1470.53 72.576 L1463.04 72.576 L1463.04 27.2059 L1470.53 27.2059 L1470.53 34.2544 Q1473.2 30.163 1476.81 28.1376 Q1480.45 26.1121 1485.19 26.1121 Q1493.01 26.1121 1497.02 30.9732 Q1501.03 35.7938 1501.03 45.1919 Z\" fill=\"#000000\" fill-rule=\"evenodd\" fill-opacity=\"1\" /><path clip-path=\"url(#clip380)\" d=\"M1548.55 28.9478 L1548.55 35.9153 Q1545.39 34.1734 1542.19 33.3227 Q1539.03 32.4315 1535.79 32.4315 Q1528.54 32.4315 1524.53 37.0496 Q1520.52 41.6271 1520.52 49.9314 Q1520.52 58.2358 1524.53 62.8538 Q1528.54 67.4314 1535.79 67.4314 Q1539.03 67.4314 1542.19 66.5807 Q1545.39 65.6895 1548.55 63.9476 L1548.55 70.8341 Q1545.43 72.2924 1542.07 73.0216 Q1538.75 73.7508 1534.98 73.7508 Q1524.73 73.7508 1518.69 67.3098 Q1512.66 60.8689 1512.66 49.9314 Q1512.66 38.832 1518.74 32.472 Q1524.85 26.1121 1535.47 26.1121 Q1538.91 26.1121 1542.19 26.8413 Q1545.47 27.5299 1548.55 28.9478 Z\" fill=\"#000000\" fill-rule=\"evenodd\" fill-opacity=\"1\" /><path clip-path=\"url(#clip380)\" d=\"M1568.89 14.324 L1568.89 27.2059 L1584.24 27.2059 L1584.24 32.9987 L1568.89 32.9987 L1568.89 57.6282 Q1568.89 63.1779 1570.38 64.7578 Q1571.92 66.3376 1576.58 66.3376 L1584.24 66.3376 L1584.24 72.576 L1576.58 72.576 Q1567.95 72.576 1564.67 69.3758 Q1561.39 66.1351 1561.39 57.6282 L1561.39 32.9987 L1555.92 32.9987 L1555.92 27.2059 L1561.39 27.2059 L1561.39 14.324 L1568.89 14.324 Z\" fill=\"#000000\" fill-rule=\"evenodd\" fill-opacity=\"1\" /><path clip-path=\"url(#clip380)\" d=\"M1594.04 27.2059 L1601.5 27.2059 L1601.5 72.576 L1594.04 72.576 L1594.04 27.2059 M1594.04 9.54393 L1601.5 9.54393 L1601.5 18.9825 L1594.04 18.9825 L1594.04 9.54393 Z\" fill=\"#000000\" fill-rule=\"evenodd\" fill-opacity=\"1\" /><path clip-path=\"url(#clip380)\" d=\"M1634.67 32.4315 Q1628.68 32.4315 1625.19 37.1306 Q1621.71 41.7891 1621.71 49.9314 Q1621.71 58.0738 1625.15 62.7728 Q1628.64 67.4314 1634.67 67.4314 Q1640.63 67.4314 1644.11 62.7323 Q1647.59 58.0333 1647.59 49.9314 Q1647.59 41.8701 1644.11 37.1711 Q1640.63 32.4315 1634.67 32.4315 M1634.67 26.1121 Q1644.39 26.1121 1649.94 32.4315 Q1655.49 38.7509 1655.49 49.9314 Q1655.49 61.0714 1649.94 67.4314 Q1644.39 73.7508 1634.67 73.7508 Q1624.91 73.7508 1619.36 67.4314 Q1613.85 61.0714 1613.85 49.9314 Q1613.85 38.7509 1619.36 32.4315 Q1624.91 26.1121 1634.67 26.1121 Z\" fill=\"#000000\" fill-rule=\"evenodd\" fill-opacity=\"1\" /><path clip-path=\"url(#clip380)\" d=\"M1705.56 45.1919 L1705.56 72.576 L1698.11 72.576 L1698.11 45.4349 Q1698.11 38.994 1695.6 35.7938 Q1693.09 32.5936 1688.06 32.5936 Q1682.03 32.5936 1678.54 36.4419 Q1675.06 40.2903 1675.06 46.9338 L1675.06 72.576 L1667.57 72.576 L1667.57 27.2059 L1675.06 27.2059 L1675.06 34.2544 Q1677.73 30.163 1681.34 28.1376 Q1684.98 26.1121 1689.72 26.1121 Q1697.54 26.1121 1701.55 30.9732 Q1705.56 35.7938 1705.56 45.1919 Z\" fill=\"#000000\" fill-rule=\"evenodd\" fill-opacity=\"1\" /><polyline clip-path=\"url(#clip382)\" style=\"stroke:#009af9; stroke-linecap:butt; stroke-linejoin:round; stroke-width:8; stroke-opacity:1; fill:none\" points=\"\n",
       "  2290.59,804.96 2288.54,764.591 2282.42,724.382 2272.23,684.49 2258.03,645.074 2239.87,606.289 2217.82,568.288 2191.97,531.221 2162.42,495.234 2129.29,460.47 \n",
       "  2092.7,427.065 2052.8,395.152 2009.76,364.856 1963.73,336.297 1914.9,309.587 1863.47,284.832 1809.63,262.131 1753.6,241.571 1695.61,223.235 1635.87,207.195 \n",
       "  1574.62,193.513 1512.11,182.245 1448.59,173.435 1384.3,167.116 1319.49,163.316 1254.43,162.047 1189.37,163.316 1124.57,167.116 1060.28,173.435 996.753,182.245 \n",
       "  934.245,193.513 873.001,207.195 813.262,223.235 755.264,241.571 699.236,262.131 645.399,284.832 593.965,309.587 545.139,336.297 499.111,364.856 456.065,395.152 \n",
       "  416.169,427.065 379.581,460.47 346.446,495.234 316.895,531.221 291.044,568.288 268.994,606.289 250.834,645.074 236.634,684.49 226.452,724.382 220.326,764.591 \n",
       "  218.281,804.96 220.326,845.329 226.452,885.538 236.634,925.43 250.834,964.846 268.994,1003.63 291.044,1041.63 316.895,1078.7 346.446,1114.69 379.581,1149.45 \n",
       "  416.169,1182.85 456.065,1214.77 499.111,1245.06 545.139,1273.62 593.965,1300.33 645.399,1325.09 699.236,1347.79 755.264,1368.35 813.262,1386.69 873.001,1402.73 \n",
       "  934.245,1416.41 996.753,1427.67 1060.28,1436.49 1124.57,1442.8 1189.37,1446.6 1254.43,1447.87 1319.49,1446.6 1384.3,1442.8 1448.59,1436.49 1512.11,1427.67 \n",
       "  1574.62,1416.41 1635.87,1402.73 1695.61,1386.69 1753.6,1368.35 1809.63,1347.79 1863.47,1325.09 1914.9,1300.33 1963.73,1273.62 2009.76,1245.06 2052.8,1214.77 \n",
       "  2092.7,1182.85 2129.29,1149.45 2162.42,1114.69 2191.97,1078.7 2217.82,1041.63 2239.87,1003.63 2258.03,964.846 2272.23,925.43 2282.42,885.538 2288.54,845.329 \n",
       "  \n",
       "  \"/>\n",
       "</svg>\n"
      ]
     },
     "execution_count": 57,
     "metadata": {},
     "output_type": "execute_result"
    }
   ],
   "source": [
    "x = 1; y = 1; r = 1\n",
    "θ = 0:π/50:2π\n",
    "x_unit = r .* cos.(θ) .+ x\n",
    "y_unit = r .* sin.(θ) .+ y\n",
    "plot(x_unit, y_unit, title = \"This is NOT a function\", legend = false, lw = 2)"
   ]
  },
  {
   "cell_type": "markdown",
   "metadata": {
    "slideshow": {
     "slide_type": "slide"
    }
   },
   "source": [
    "## Linear function"
   ]
  },
  {
   "cell_type": "code",
   "execution_count": null,
   "metadata": {
    "slideshow": {
     "slide_type": "fragment"
    }
   },
   "outputs": [],
   "source": [
    "m = 0.5; b = 1;\n",
    "ar_x = LinRange(-5, 10, 100); ar_y = ar_x .* m .+ b;\n",
    "plot(ar_x, ar_y, legend = false, title = \"Linear function with slope $m and intercept $b\", lw = 2)\n",
    "vline!([0, -2], ls = :dash, color = :black, alpha = 0.5, xticks = ([0, -2]))\n",
    "hline!([0, 1], ls = :dash, color = :red, alpha = 0.5, yticks = ([0, 1]))"
   ]
  },
  {
   "cell_type": "markdown",
   "metadata": {
    "slideshow": {
     "slide_type": "slide"
    }
   },
   "source": [
    "## Local and global maximum\n",
    "\n",
    "A function $f$ has a global maximum at $x^{*} \\in X$ if for all $x \\in X$, $f(x) \\leq f(x^{*})$. \n",
    "\n",
    "A function $f$ has a local maximum at $x^{*} \\in X$ if there exists and open interval $(a, b)$ such that $x^{*} \\in (a, b)$, and for all $x \\in (a, b), f(x) \\leq f(x^{*})$. \n",
    "\n",
    "Not all functions have a maximum. "
   ]
  },
  {
   "cell_type": "markdown",
   "metadata": {
    "slideshow": {
     "slide_type": "slide"
    }
   },
   "source": [
    "## Local and global maximum\n",
    "\n",
    "We are going to be dealing with functions such as utility functions, production functions and budget constraints in many of our economics models. \n",
    "\n",
    "As an example, in the case of a utility function the household is choosing the bundle of goods that provides the highest level of utility. \n",
    "\n",
    "Most production and utility functions will NOT have a local or global maximum. \n",
    "\n",
    "In the case of a log-utility function, higher consumption will give higher levels of utility, so no maximum exists here either. "
   ]
  },
  {
   "cell_type": "markdown",
   "metadata": {
    "slideshow": {
     "slide_type": "slide"
    }
   },
   "source": [
    "## Quadratic utility\n",
    "\n",
    "There is one nice utility function that has a maximum, the quadratic utility function. \n",
    "\n",
    "$$\n",
    "U(x) = x - \\alpha \\cdot x^2\n",
    "$$\n",
    "\n",
    "We can quickly draw a plot of this utility function and by inspection determine where the maximum is going to be.\n",
    "\n",
    "The most efficient way to determine the maximum would be using a derivative and setting it equal to zero.\n",
    "\n",
    "However, we haven't introduced derivatives yet, so let us use this inefficient way to determine the maximum for now. "
   ]
  },
  {
   "cell_type": "markdown",
   "metadata": {
    "slideshow": {
     "slide_type": "slide"
    }
   },
   "source": [
    "## Quadratic utility"
   ]
  },
  {
   "cell_type": "code",
   "execution_count": 5,
   "metadata": {
    "slideshow": {
     "slide_type": "fragment"
    }
   },
   "outputs": [
    {
     "data": {
      "image/svg+xml": [
       "<?xml version=\"1.0\" encoding=\"utf-8\"?>\n",
       "<svg xmlns=\"http://www.w3.org/2000/svg\" xmlns:xlink=\"http://www.w3.org/1999/xlink\" width=\"600\" height=\"400\" viewBox=\"0 0 2400 1600\">\n",
       "<defs>\n",
       "  <clipPath id=\"clip680\">\n",
       "    <rect x=\"0\" y=\"0\" width=\"2400\" height=\"1600\"/>\n",
       "  </clipPath>\n",
       "</defs>\n",
       "<path clip-path=\"url(#clip680)\" d=\"\n",
       "M0 1600 L2400 1600 L2400 0 L0 0  Z\n",
       "  \" fill=\"#ffffff\" fill-rule=\"evenodd\" fill-opacity=\"1\"/>\n",
       "<defs>\n",
       "  <clipPath id=\"clip681\">\n",
       "    <rect x=\"480\" y=\"0\" width=\"1681\" height=\"1600\"/>\n",
       "  </clipPath>\n",
       "</defs>\n",
       "<path clip-path=\"url(#clip680)\" d=\"\n",
       "M178.867 1486.45 L2352.76 1486.45 L2352.76 123.472 L178.867 123.472  Z\n",
       "  \" fill=\"#ffffff\" fill-rule=\"evenodd\" fill-opacity=\"1\"/>\n",
       "<defs>\n",
       "  <clipPath id=\"clip682\">\n",
       "    <rect x=\"178\" y=\"123\" width=\"2175\" height=\"1364\"/>\n",
       "  </clipPath>\n",
       "</defs>\n",
       "<polyline clip-path=\"url(#clip682)\" style=\"stroke:#000000; stroke-linecap:butt; stroke-linejoin:round; stroke-width:2; stroke-opacity:0.1; fill:none\" points=\"\n",
       "  240.392,1486.45 240.392,123.472 \n",
       "  \"/>\n",
       "<polyline clip-path=\"url(#clip682)\" style=\"stroke:#000000; stroke-linecap:butt; stroke-linejoin:round; stroke-width:2; stroke-opacity:0.1; fill:none\" points=\"\n",
       "  753.102,1486.45 753.102,123.472 \n",
       "  \"/>\n",
       "<polyline clip-path=\"url(#clip682)\" style=\"stroke:#000000; stroke-linecap:butt; stroke-linejoin:round; stroke-width:2; stroke-opacity:0.1; fill:none\" points=\"\n",
       "  1265.81,1486.45 1265.81,123.472 \n",
       "  \"/>\n",
       "<polyline clip-path=\"url(#clip682)\" style=\"stroke:#000000; stroke-linecap:butt; stroke-linejoin:round; stroke-width:2; stroke-opacity:0.1; fill:none\" points=\"\n",
       "  1778.52,1486.45 1778.52,123.472 \n",
       "  \"/>\n",
       "<polyline clip-path=\"url(#clip682)\" style=\"stroke:#000000; stroke-linecap:butt; stroke-linejoin:round; stroke-width:2; stroke-opacity:0.1; fill:none\" points=\"\n",
       "  2291.23,1486.45 2291.23,123.472 \n",
       "  \"/>\n",
       "<polyline clip-path=\"url(#clip680)\" style=\"stroke:#000000; stroke-linecap:butt; stroke-linejoin:round; stroke-width:4; stroke-opacity:1; fill:none\" points=\"\n",
       "  178.867,1486.45 2352.76,1486.45 \n",
       "  \"/>\n",
       "<polyline clip-path=\"url(#clip680)\" style=\"stroke:#000000; stroke-linecap:butt; stroke-linejoin:round; stroke-width:4; stroke-opacity:1; fill:none\" points=\"\n",
       "  240.392,1486.45 240.392,1467.55 \n",
       "  \"/>\n",
       "<polyline clip-path=\"url(#clip680)\" style=\"stroke:#000000; stroke-linecap:butt; stroke-linejoin:round; stroke-width:4; stroke-opacity:1; fill:none\" points=\"\n",
       "  753.102,1486.45 753.102,1467.55 \n",
       "  \"/>\n",
       "<polyline clip-path=\"url(#clip680)\" style=\"stroke:#000000; stroke-linecap:butt; stroke-linejoin:round; stroke-width:4; stroke-opacity:1; fill:none\" points=\"\n",
       "  1265.81,1486.45 1265.81,1467.55 \n",
       "  \"/>\n",
       "<polyline clip-path=\"url(#clip680)\" style=\"stroke:#000000; stroke-linecap:butt; stroke-linejoin:round; stroke-width:4; stroke-opacity:1; fill:none\" points=\"\n",
       "  1778.52,1486.45 1778.52,1467.55 \n",
       "  \"/>\n",
       "<polyline clip-path=\"url(#clip680)\" style=\"stroke:#000000; stroke-linecap:butt; stroke-linejoin:round; stroke-width:4; stroke-opacity:1; fill:none\" points=\"\n",
       "  2291.23,1486.45 2291.23,1467.55 \n",
       "  \"/>\n",
       "<path clip-path=\"url(#clip680)\" d=\"M194.455 1532.02 L224.13 1532.02 L224.13 1535.95 L194.455 1535.95 L194.455 1532.02 Z\" fill=\"#000000\" fill-rule=\"evenodd\" fill-opacity=\"1\" /><path clip-path=\"url(#clip680)\" d=\"M235.033 1544.91 L242.672 1544.91 L242.672 1518.55 L234.362 1520.21 L234.362 1515.95 L242.626 1514.29 L247.301 1514.29 L247.301 1544.91 L254.94 1544.91 L254.94 1548.85 L235.033 1548.85 L235.033 1544.91 Z\" fill=\"#000000\" fill-rule=\"evenodd\" fill-opacity=\"1\" /><path clip-path=\"url(#clip680)\" d=\"M274.385 1517.37 Q270.774 1517.37 268.945 1520.93 Q267.139 1524.47 267.139 1531.6 Q267.139 1538.71 268.945 1542.27 Q270.774 1545.82 274.385 1545.82 Q278.019 1545.82 279.824 1542.27 Q281.653 1538.71 281.653 1531.6 Q281.653 1524.47 279.824 1520.93 Q278.019 1517.37 274.385 1517.37 M274.385 1513.66 Q280.195 1513.66 283.25 1518.27 Q286.329 1522.85 286.329 1531.6 Q286.329 1540.33 283.25 1544.94 Q280.195 1549.52 274.385 1549.52 Q268.575 1549.52 265.496 1544.94 Q262.44 1540.33 262.44 1531.6 Q262.44 1522.85 265.496 1518.27 Q268.575 1513.66 274.385 1513.66 Z\" fill=\"#000000\" fill-rule=\"evenodd\" fill-opacity=\"1\" /><path clip-path=\"url(#clip680)\" d=\"M722.743 1532.02 L752.419 1532.02 L752.419 1535.95 L722.743 1535.95 L722.743 1532.02 Z\" fill=\"#000000\" fill-rule=\"evenodd\" fill-opacity=\"1\" /><path clip-path=\"url(#clip680)\" d=\"M762.558 1514.29 L780.914 1514.29 L780.914 1518.22 L766.84 1518.22 L766.84 1526.7 Q767.858 1526.35 768.877 1526.19 Q769.895 1526 770.914 1526 Q776.701 1526 780.081 1529.17 Q783.46 1532.34 783.46 1537.76 Q783.46 1543.34 779.988 1546.44 Q776.516 1549.52 770.196 1549.52 Q768.02 1549.52 765.752 1549.15 Q763.507 1548.78 761.099 1548.04 L761.099 1543.34 Q763.183 1544.47 765.405 1545.03 Q767.627 1545.58 770.104 1545.58 Q774.108 1545.58 776.446 1543.48 Q778.784 1541.37 778.784 1537.76 Q778.784 1534.15 776.446 1532.04 Q774.108 1529.94 770.104 1529.94 Q768.229 1529.94 766.354 1530.35 Q764.502 1530.77 762.558 1531.65 L762.558 1514.29 Z\" fill=\"#000000\" fill-rule=\"evenodd\" fill-opacity=\"1\" /><path clip-path=\"url(#clip680)\" d=\"M1265.81 1517.37 Q1262.2 1517.37 1260.37 1520.93 Q1258.57 1524.47 1258.57 1531.6 Q1258.57 1538.71 1260.37 1542.27 Q1262.2 1545.82 1265.81 1545.82 Q1269.45 1545.82 1271.25 1542.27 Q1273.08 1538.71 1273.08 1531.6 Q1273.08 1524.47 1271.25 1520.93 Q1269.45 1517.37 1265.81 1517.37 M1265.81 1513.66 Q1271.62 1513.66 1274.68 1518.27 Q1277.76 1522.85 1277.76 1531.6 Q1277.76 1540.33 1274.68 1544.94 Q1271.62 1549.52 1265.81 1549.52 Q1260 1549.52 1256.92 1544.94 Q1253.87 1540.33 1253.87 1531.6 Q1253.87 1522.85 1256.92 1518.27 Q1260 1513.66 1265.81 1513.66 Z\" fill=\"#000000\" fill-rule=\"evenodd\" fill-opacity=\"1\" /><path clip-path=\"url(#clip680)\" d=\"M1768.8 1514.29 L1787.16 1514.29 L1787.16 1518.22 L1773.08 1518.22 L1773.08 1526.7 Q1774.1 1526.35 1775.12 1526.19 Q1776.14 1526 1777.16 1526 Q1782.94 1526 1786.32 1529.17 Q1789.7 1532.34 1789.7 1537.76 Q1789.7 1543.34 1786.23 1546.44 Q1782.76 1549.52 1776.44 1549.52 Q1774.26 1549.52 1771.99 1549.15 Q1769.75 1548.78 1767.34 1548.04 L1767.34 1543.34 Q1769.42 1544.47 1771.65 1545.03 Q1773.87 1545.58 1776.35 1545.58 Q1780.35 1545.58 1782.69 1543.48 Q1785.03 1541.37 1785.03 1537.76 Q1785.03 1534.15 1782.69 1532.04 Q1780.35 1529.94 1776.35 1529.94 Q1774.47 1529.94 1772.6 1530.35 Q1770.74 1530.77 1768.8 1531.65 L1768.8 1514.29 Z\" fill=\"#000000\" fill-rule=\"evenodd\" fill-opacity=\"1\" /><path clip-path=\"url(#clip680)\" d=\"M2265.92 1544.91 L2273.56 1544.91 L2273.56 1518.55 L2265.25 1520.21 L2265.25 1515.95 L2273.51 1514.29 L2278.19 1514.29 L2278.19 1544.91 L2285.83 1544.91 L2285.83 1548.85 L2265.92 1548.85 L2265.92 1544.91 Z\" fill=\"#000000\" fill-rule=\"evenodd\" fill-opacity=\"1\" /><path clip-path=\"url(#clip680)\" d=\"M2305.27 1517.37 Q2301.66 1517.37 2299.83 1520.93 Q2298.02 1524.47 2298.02 1531.6 Q2298.02 1538.71 2299.83 1542.27 Q2301.66 1545.82 2305.27 1545.82 Q2308.9 1545.82 2310.71 1542.27 Q2312.54 1538.71 2312.54 1531.6 Q2312.54 1524.47 2310.71 1520.93 Q2308.9 1517.37 2305.27 1517.37 M2305.27 1513.66 Q2311.08 1513.66 2314.14 1518.27 Q2317.21 1522.85 2317.21 1531.6 Q2317.21 1540.33 2314.14 1544.94 Q2311.08 1549.52 2305.27 1549.52 Q2299.46 1549.52 2296.38 1544.94 Q2293.33 1540.33 2293.33 1531.6 Q2293.33 1522.85 2296.38 1518.27 Q2299.46 1513.66 2305.27 1513.66 Z\" fill=\"#000000\" fill-rule=\"evenodd\" fill-opacity=\"1\" /><polyline clip-path=\"url(#clip682)\" style=\"stroke:#000000; stroke-linecap:butt; stroke-linejoin:round; stroke-width:2; stroke-opacity:0.1; fill:none\" points=\"\n",
       "  178.867,1447.87 2352.76,1447.87 \n",
       "  \"/>\n",
       "<polyline clip-path=\"url(#clip682)\" style=\"stroke:#000000; stroke-linecap:butt; stroke-linejoin:round; stroke-width:2; stroke-opacity:0.1; fill:none\" points=\"\n",
       "  178.867,1036.41 2352.76,1036.41 \n",
       "  \"/>\n",
       "<polyline clip-path=\"url(#clip682)\" style=\"stroke:#000000; stroke-linecap:butt; stroke-linejoin:round; stroke-width:2; stroke-opacity:0.1; fill:none\" points=\"\n",
       "  178.867,624.941 2352.76,624.941 \n",
       "  \"/>\n",
       "<polyline clip-path=\"url(#clip682)\" style=\"stroke:#000000; stroke-linecap:butt; stroke-linejoin:round; stroke-width:2; stroke-opacity:0.1; fill:none\" points=\"\n",
       "  178.867,213.475 2352.76,213.475 \n",
       "  \"/>\n",
       "<polyline clip-path=\"url(#clip680)\" style=\"stroke:#000000; stroke-linecap:butt; stroke-linejoin:round; stroke-width:4; stroke-opacity:1; fill:none\" points=\"\n",
       "  178.867,1486.45 178.867,123.472 \n",
       "  \"/>\n",
       "<polyline clip-path=\"url(#clip680)\" style=\"stroke:#000000; stroke-linecap:butt; stroke-linejoin:round; stroke-width:4; stroke-opacity:1; fill:none\" points=\"\n",
       "  178.867,1447.87 197.764,1447.87 \n",
       "  \"/>\n",
       "<polyline clip-path=\"url(#clip680)\" style=\"stroke:#000000; stroke-linecap:butt; stroke-linejoin:round; stroke-width:4; stroke-opacity:1; fill:none\" points=\"\n",
       "  178.867,1036.41 197.764,1036.41 \n",
       "  \"/>\n",
       "<polyline clip-path=\"url(#clip680)\" style=\"stroke:#000000; stroke-linecap:butt; stroke-linejoin:round; stroke-width:4; stroke-opacity:1; fill:none\" points=\"\n",
       "  178.867,624.941 197.764,624.941 \n",
       "  \"/>\n",
       "<polyline clip-path=\"url(#clip680)\" style=\"stroke:#000000; stroke-linecap:butt; stroke-linejoin:round; stroke-width:4; stroke-opacity:1; fill:none\" points=\"\n",
       "  178.867,213.475 197.764,213.475 \n",
       "  \"/>\n",
       "<path clip-path=\"url(#clip680)\" d=\"M50.9921 1448.32 L80.6679 1448.32 L80.6679 1452.26 L50.9921 1452.26 L50.9921 1448.32 Z\" fill=\"#000000\" fill-rule=\"evenodd\" fill-opacity=\"1\" /><path clip-path=\"url(#clip680)\" d=\"M104.927 1446.52 Q108.283 1447.24 110.158 1449.51 Q112.057 1451.77 112.057 1455.11 Q112.057 1460.22 108.538 1463.02 Q105.02 1465.82 98.5382 1465.82 Q96.3623 1465.82 94.0475 1465.38 Q91.7558 1464.97 89.3021 1464.11 L89.3021 1459.6 Q91.2465 1460.73 93.5613 1461.31 Q95.8761 1461.89 98.3993 1461.89 Q102.797 1461.89 105.089 1460.15 Q107.404 1458.42 107.404 1455.11 Q107.404 1452.05 105.251 1450.34 Q103.121 1448.6 99.3021 1448.6 L95.2743 1448.6 L95.2743 1444.76 L99.4872 1444.76 Q102.936 1444.76 104.765 1443.39 Q106.594 1442.01 106.594 1439.41 Q106.594 1436.75 104.696 1435.34 Q102.821 1433.9 99.3021 1433.9 Q97.3808 1433.9 95.1817 1434.32 Q92.9826 1434.74 90.3438 1435.62 L90.3438 1431.45 Q93.0058 1430.71 95.3206 1430.34 Q97.6585 1429.97 99.7187 1429.97 Q105.043 1429.97 108.145 1432.4 Q111.246 1434.81 111.246 1438.93 Q111.246 1441.8 109.603 1443.79 Q107.959 1445.76 104.927 1446.52 Z\" fill=\"#000000\" fill-rule=\"evenodd\" fill-opacity=\"1\" /><path clip-path=\"url(#clip680)\" d=\"M130.922 1433.67 Q127.311 1433.67 125.482 1437.24 Q123.677 1440.78 123.677 1447.91 Q123.677 1455.01 125.482 1458.58 Q127.311 1462.12 130.922 1462.12 Q134.556 1462.12 136.362 1458.58 Q138.191 1455.01 138.191 1447.91 Q138.191 1440.78 136.362 1437.24 Q134.556 1433.67 130.922 1433.67 M130.922 1429.97 Q136.732 1429.97 139.788 1434.57 Q142.867 1439.16 142.867 1447.91 Q142.867 1456.63 139.788 1461.24 Q136.732 1465.82 130.922 1465.82 Q125.112 1465.82 122.033 1461.24 Q118.978 1456.63 118.978 1447.91 Q118.978 1439.16 122.033 1434.57 Q125.112 1429.97 130.922 1429.97 Z\" fill=\"#000000\" fill-rule=\"evenodd\" fill-opacity=\"1\" /><path clip-path=\"url(#clip680)\" d=\"M50.9921 1036.86 L80.6679 1036.86 L80.6679 1040.79 L50.9921 1040.79 L50.9921 1036.86 Z\" fill=\"#000000\" fill-rule=\"evenodd\" fill-opacity=\"1\" /><path clip-path=\"url(#clip680)\" d=\"M94.7882 1049.75 L111.108 1049.75 L111.108 1053.69 L89.1632 1053.69 L89.1632 1049.75 Q91.8252 1047 96.4085 1042.37 Q101.015 1037.71 102.196 1036.37 Q104.441 1033.85 105.321 1032.11 Q106.223 1030.35 106.223 1028.66 Q106.223 1025.91 104.279 1024.17 Q102.358 1022.44 99.2558 1022.44 Q97.0567 1022.44 94.603 1023.2 Q92.1725 1023.96 89.3947 1025.52 L89.3947 1020.79 Q92.2188 1019.66 94.6724 1019.08 Q97.1261 1018.5 99.1632 1018.5 Q104.534 1018.5 107.728 1021.19 Q110.922 1023.87 110.922 1028.36 Q110.922 1030.49 110.112 1032.41 Q109.325 1034.31 107.219 1036.9 Q106.64 1037.58 103.538 1040.79 Q100.436 1043.99 94.7882 1049.75 Z\" fill=\"#000000\" fill-rule=\"evenodd\" fill-opacity=\"1\" /><path clip-path=\"url(#clip680)\" d=\"M130.922 1022.21 Q127.311 1022.21 125.482 1025.77 Q123.677 1029.31 123.677 1036.44 Q123.677 1043.55 125.482 1047.11 Q127.311 1050.65 130.922 1050.65 Q134.556 1050.65 136.362 1047.11 Q138.191 1043.55 138.191 1036.44 Q138.191 1029.31 136.362 1025.77 Q134.556 1022.21 130.922 1022.21 M130.922 1018.5 Q136.732 1018.5 139.788 1023.11 Q142.867 1027.69 142.867 1036.44 Q142.867 1045.17 139.788 1049.78 Q136.732 1054.36 130.922 1054.36 Q125.112 1054.36 122.033 1049.78 Q118.978 1045.17 118.978 1036.44 Q118.978 1027.69 122.033 1023.11 Q125.112 1018.5 130.922 1018.5 Z\" fill=\"#000000\" fill-rule=\"evenodd\" fill-opacity=\"1\" /><path clip-path=\"url(#clip680)\" d=\"M50.9921 625.392 L80.6679 625.392 L80.6679 629.328 L50.9921 629.328 L50.9921 625.392 Z\" fill=\"#000000\" fill-rule=\"evenodd\" fill-opacity=\"1\" /><path clip-path=\"url(#clip680)\" d=\"M91.5706 638.286 L99.2095 638.286 L99.2095 611.92 L90.8993 613.587 L90.8993 609.328 L99.1632 607.661 L103.839 607.661 L103.839 638.286 L111.478 638.286 L111.478 642.221 L91.5706 642.221 L91.5706 638.286 Z\" fill=\"#000000\" fill-rule=\"evenodd\" fill-opacity=\"1\" /><path clip-path=\"url(#clip680)\" d=\"M130.922 610.74 Q127.311 610.74 125.482 614.304 Q123.677 617.846 123.677 624.976 Q123.677 632.082 125.482 635.647 Q127.311 639.189 130.922 639.189 Q134.556 639.189 136.362 635.647 Q138.191 632.082 138.191 624.976 Q138.191 617.846 136.362 614.304 Q134.556 610.74 130.922 610.74 M130.922 607.036 Q136.732 607.036 139.788 611.642 Q142.867 616.226 142.867 624.976 Q142.867 633.703 139.788 638.309 Q136.732 642.892 130.922 642.892 Q125.112 642.892 122.033 638.309 Q118.978 633.703 118.978 624.976 Q118.978 616.226 122.033 611.642 Q125.112 607.036 130.922 607.036 Z\" fill=\"#000000\" fill-rule=\"evenodd\" fill-opacity=\"1\" /><path clip-path=\"url(#clip680)\" d=\"M130.922 199.274 Q127.311 199.274 125.482 202.838 Q123.677 206.38 123.677 213.51 Q123.677 220.616 125.482 224.181 Q127.311 227.723 130.922 227.723 Q134.556 227.723 136.362 224.181 Q138.191 220.616 138.191 213.51 Q138.191 206.38 136.362 202.838 Q134.556 199.274 130.922 199.274 M130.922 195.57 Q136.732 195.57 139.788 200.176 Q142.867 204.76 142.867 213.51 Q142.867 222.236 139.788 226.843 Q136.732 231.426 130.922 231.426 Q125.112 231.426 122.033 226.843 Q118.978 222.236 118.978 213.51 Q118.978 204.76 122.033 200.176 Q125.112 195.57 130.922 195.57 Z\" fill=\"#000000\" fill-rule=\"evenodd\" fill-opacity=\"1\" /><path clip-path=\"url(#clip680)\" d=\"M837.691 16.7545 L837.691 25.383 Q833.56 21.5346 828.86 19.6307 Q824.202 17.7268 818.936 17.7268 Q808.565 17.7268 803.056 24.0867 Q797.547 30.4061 797.547 42.3968 Q797.547 54.3469 803.056 60.7069 Q808.565 67.0263 818.936 67.0263 Q824.202 67.0263 828.86 65.1223 Q833.56 63.2184 837.691 59.3701 L837.691 67.9175 Q833.397 70.8341 828.577 72.2924 Q823.797 73.7508 818.45 73.7508 Q804.717 73.7508 796.818 65.3654 Q788.919 56.9395 788.919 42.3968 Q788.919 27.8135 796.818 19.4281 Q804.717 11.0023 818.45 11.0023 Q823.878 11.0023 828.658 12.4606 Q833.479 13.8784 837.691 16.7545 Z\" fill=\"#000000\" fill-rule=\"evenodd\" fill-opacity=\"1\" /><path clip-path=\"url(#clip680)\" d=\"M870.625 49.7694 Q861.592 49.7694 858.108 51.8354 Q854.624 53.9013 854.624 58.8839 Q854.624 62.8538 857.217 65.2034 Q859.85 67.5124 864.346 67.5124 Q870.544 67.5124 874.271 63.1374 Q878.038 58.7219 878.038 51.4303 L878.038 49.7694 L870.625 49.7694 M885.492 46.6907 L885.492 72.576 L878.038 72.576 L878.038 65.6895 Q875.486 69.8214 871.679 71.8063 Q867.871 73.7508 862.361 73.7508 Q855.394 73.7508 851.262 69.8619 Q847.171 65.9325 847.171 59.3701 Q847.171 51.7138 852.275 47.825 Q857.419 43.9361 867.587 43.9361 L878.038 43.9361 L878.038 43.2069 Q878.038 38.0623 874.636 35.2672 Q871.273 32.4315 865.157 32.4315 Q861.268 32.4315 857.581 33.3632 Q853.895 34.295 850.492 36.1584 L850.492 29.2718 Q854.584 27.692 858.432 26.9223 Q862.28 26.1121 865.926 26.1121 Q875.77 26.1121 880.631 31.2163 Q885.492 36.3204 885.492 46.6907 Z\" fill=\"#000000\" fill-rule=\"evenodd\" fill-opacity=\"1\" /><path clip-path=\"url(#clip680)\" d=\"M938.559 45.1919 L938.559 72.576 L931.105 72.576 L931.105 45.4349 Q931.105 38.994 928.594 35.7938 Q926.082 32.5936 921.059 32.5936 Q915.023 32.5936 911.539 36.4419 Q908.056 40.2903 908.056 46.9338 L908.056 72.576 L900.561 72.576 L900.561 27.2059 L908.056 27.2059 L908.056 34.2544 Q910.729 30.163 914.335 28.1376 Q917.98 26.1121 922.72 26.1121 Q930.538 26.1121 934.549 30.9732 Q938.559 35.7938 938.559 45.1919 Z\" fill=\"#000000\" fill-rule=\"evenodd\" fill-opacity=\"1\" /><path clip-path=\"url(#clip680)\" d=\"M998.674 76.7889 Q995.515 84.8907 992.517 87.3618 Q989.519 89.8329 984.496 89.8329 L978.541 89.8329 L978.541 83.5945 L982.916 83.5945 Q985.995 83.5945 987.696 82.1361 Q989.398 80.6778 991.464 75.2496 L992.801 71.8468 L974.45 27.2059 L982.349 27.2059 L996.527 62.6918 L1010.71 27.2059 L1018.6 27.2059 L998.674 76.7889 Z\" fill=\"#000000\" fill-rule=\"evenodd\" fill-opacity=\"1\" /><path clip-path=\"url(#clip680)\" d=\"M1046.48 32.4315 Q1040.48 32.4315 1037 37.1306 Q1033.51 41.7891 1033.51 49.9314 Q1033.51 58.0738 1036.96 62.7728 Q1040.44 67.4314 1046.48 67.4314 Q1052.43 67.4314 1055.91 62.7323 Q1059.4 58.0333 1059.4 49.9314 Q1059.4 41.8701 1055.91 37.1711 Q1052.43 32.4315 1046.48 32.4315 M1046.48 26.1121 Q1056.2 26.1121 1061.75 32.4315 Q1067.3 38.7509 1067.3 49.9314 Q1067.3 61.0714 1061.75 67.4314 Q1056.2 73.7508 1046.48 73.7508 Q1036.71 73.7508 1031.16 67.4314 Q1025.65 61.0714 1025.65 49.9314 Q1025.65 38.7509 1031.16 32.4315 Q1036.71 26.1121 1046.48 26.1121 Z\" fill=\"#000000\" fill-rule=\"evenodd\" fill-opacity=\"1\" /><path clip-path=\"url(#clip680)\" d=\"M1078.88 54.671 L1078.88 27.2059 L1086.34 27.2059 L1086.34 54.3874 Q1086.34 60.8284 1088.85 64.0691 Q1091.36 67.2693 1096.38 67.2693 Q1102.42 67.2693 1105.9 63.421 Q1109.43 59.5726 1109.43 52.9291 L1109.43 27.2059 L1116.88 27.2059 L1116.88 72.576 L1109.43 72.576 L1109.43 65.6084 Q1106.71 69.7404 1103.11 71.7658 Q1099.54 73.7508 1094.8 73.7508 Q1086.98 73.7508 1082.93 68.8897 Q1078.88 64.0286 1078.88 54.671 M1097.64 26.1121 L1097.64 26.1121 Z\" fill=\"#000000\" fill-rule=\"evenodd\" fill-opacity=\"1\" /><path clip-path=\"url(#clip680)\" d=\"M1181.57 9.54393 L1181.57 15.7418 L1174.44 15.7418 Q1170.43 15.7418 1168.85 17.3622 Q1167.31 18.9825 1167.31 23.1955 L1167.31 27.2059 L1179.59 27.2059 L1179.59 32.9987 L1167.31 32.9987 L1167.31 72.576 L1159.82 72.576 L1159.82 32.9987 L1152.69 32.9987 L1152.69 27.2059 L1159.82 27.2059 L1159.82 24.0462 Q1159.82 16.471 1163.34 13.0277 Q1166.87 9.54393 1174.52 9.54393 L1181.57 9.54393 Z\" fill=\"#000000\" fill-rule=\"evenodd\" fill-opacity=\"1\" /><path clip-path=\"url(#clip680)\" d=\"M1187.81 27.2059 L1195.26 27.2059 L1195.26 72.576 L1187.81 72.576 L1187.81 27.2059 M1187.81 9.54393 L1195.26 9.54393 L1195.26 18.9825 L1187.81 18.9825 L1187.81 9.54393 Z\" fill=\"#000000\" fill-rule=\"evenodd\" fill-opacity=\"1\" /><path clip-path=\"url(#clip680)\" d=\"M1248.57 45.1919 L1248.57 72.576 L1241.12 72.576 L1241.12 45.4349 Q1241.12 38.994 1238.61 35.7938 Q1236.1 32.5936 1231.07 32.5936 Q1225.04 32.5936 1221.56 36.4419 Q1218.07 40.2903 1218.07 46.9338 L1218.07 72.576 L1210.58 72.576 L1210.58 27.2059 L1218.07 27.2059 L1218.07 34.2544 Q1220.74 30.163 1224.35 28.1376 Q1228 26.1121 1232.74 26.1121 Q1240.55 26.1121 1244.56 30.9732 Q1248.57 35.7938 1248.57 45.1919 Z\" fill=\"#000000\" fill-rule=\"evenodd\" fill-opacity=\"1\" /><path clip-path=\"url(#clip680)\" d=\"M1293.3 34.0924 L1293.3 9.54393 L1300.75 9.54393 L1300.75 72.576 L1293.3 72.576 L1293.3 65.7705 Q1290.95 69.8214 1287.34 71.8063 Q1283.78 73.7508 1278.75 73.7508 Q1270.53 73.7508 1265.35 67.1883 Q1260.2 60.6258 1260.2 49.9314 Q1260.2 39.2371 1265.35 32.6746 Q1270.53 26.1121 1278.75 26.1121 Q1283.78 26.1121 1287.34 28.0971 Q1290.95 30.0415 1293.3 34.0924 M1267.9 49.9314 Q1267.9 58.1548 1271.26 62.8538 Q1274.66 67.5124 1280.58 67.5124 Q1286.49 67.5124 1289.89 62.8538 Q1293.3 58.1548 1293.3 49.9314 Q1293.3 41.7081 1289.89 37.0496 Q1286.49 32.3505 1280.58 32.3505 Q1274.66 32.3505 1271.26 37.0496 Q1267.9 41.7081 1267.9 49.9314 Z\" fill=\"#000000\" fill-rule=\"evenodd\" fill-opacity=\"1\" /><path clip-path=\"url(#clip680)\" d=\"M1349.85 14.324 L1349.85 27.2059 L1365.2 27.2059 L1365.2 32.9987 L1349.85 32.9987 L1349.85 57.6282 Q1349.85 63.1779 1351.35 64.7578 Q1352.89 66.3376 1357.54 66.3376 L1365.2 66.3376 L1365.2 72.576 L1357.54 72.576 Q1348.92 72.576 1345.63 69.3758 Q1342.35 66.1351 1342.35 57.6282 L1342.35 32.9987 L1336.88 32.9987 L1336.88 27.2059 L1342.35 27.2059 L1342.35 14.324 L1349.85 14.324 Z\" fill=\"#000000\" fill-rule=\"evenodd\" fill-opacity=\"1\" /><path clip-path=\"url(#clip680)\" d=\"M1412.72 45.1919 L1412.72 72.576 L1405.26 72.576 L1405.26 45.4349 Q1405.26 38.994 1402.75 35.7938 Q1400.24 32.5936 1395.22 32.5936 Q1389.18 32.5936 1385.7 36.4419 Q1382.21 40.2903 1382.21 46.9338 L1382.21 72.576 L1374.72 72.576 L1374.72 9.54393 L1382.21 9.54393 L1382.21 34.2544 Q1384.89 30.163 1388.49 28.1376 Q1392.14 26.1121 1396.88 26.1121 Q1404.7 26.1121 1408.71 30.9732 Q1412.72 35.7938 1412.72 45.1919 Z\" fill=\"#000000\" fill-rule=\"evenodd\" fill-opacity=\"1\" /><path clip-path=\"url(#clip680)\" d=\"M1466.39 48.0275 L1466.39 51.6733 L1432.12 51.6733 Q1432.61 59.3701 1436.74 63.421 Q1440.91 67.4314 1448.32 67.4314 Q1452.62 67.4314 1456.63 66.3781 Q1460.68 65.3249 1464.65 63.2184 L1464.65 70.267 Q1460.64 71.9684 1456.43 72.8596 Q1452.21 73.7508 1447.88 73.7508 Q1437.02 73.7508 1430.66 67.4314 Q1424.34 61.1119 1424.34 50.3365 Q1424.34 39.1965 1430.34 32.6746 Q1436.37 26.1121 1446.58 26.1121 Q1455.74 26.1121 1461.04 32.0264 Q1466.39 37.9003 1466.39 48.0275 M1458.94 45.84 Q1458.86 39.7232 1455.49 36.0774 Q1452.17 32.4315 1446.66 32.4315 Q1440.43 32.4315 1436.66 35.9558 Q1432.93 39.4801 1432.36 45.8805 L1458.94 45.84 Z\" fill=\"#000000\" fill-rule=\"evenodd\" fill-opacity=\"1\" /><path clip-path=\"url(#clip680)\" d=\"M1540.32 35.9153 Q1543.12 30.8922 1547 28.5022 Q1550.89 26.1121 1556.16 26.1121 Q1563.25 26.1121 1567.1 31.0947 Q1570.95 36.0368 1570.95 45.1919 L1570.95 72.576 L1563.45 72.576 L1563.45 45.4349 Q1563.45 38.913 1561.14 35.7533 Q1558.83 32.5936 1554.09 32.5936 Q1548.3 32.5936 1544.94 36.4419 Q1541.58 40.2903 1541.58 46.9338 L1541.58 72.576 L1534.08 72.576 L1534.08 45.4349 Q1534.08 38.8725 1531.77 35.7533 Q1529.46 32.5936 1524.64 32.5936 Q1518.93 32.5936 1515.57 36.4824 Q1512.21 40.3308 1512.21 46.9338 L1512.21 72.576 L1504.71 72.576 L1504.71 27.2059 L1512.21 27.2059 L1512.21 34.2544 Q1514.76 30.082 1518.32 28.0971 Q1521.89 26.1121 1526.79 26.1121 Q1531.73 26.1121 1535.18 28.6237 Q1538.66 31.1352 1540.32 35.9153 Z\" fill=\"#000000\" fill-rule=\"evenodd\" fill-opacity=\"1\" /><path clip-path=\"url(#clip680)\" d=\"M1606.43 49.7694 Q1597.4 49.7694 1593.91 51.8354 Q1590.43 53.9013 1590.43 58.8839 Q1590.43 62.8538 1593.02 65.2034 Q1595.66 67.5124 1600.15 67.5124 Q1606.35 67.5124 1610.08 63.1374 Q1613.84 58.7219 1613.84 51.4303 L1613.84 49.7694 L1606.43 49.7694 M1621.3 46.6907 L1621.3 72.576 L1613.84 72.576 L1613.84 65.6895 Q1611.29 69.8214 1607.48 71.8063 Q1603.68 73.7508 1598.17 73.7508 Q1591.2 73.7508 1587.07 69.8619 Q1582.98 65.9325 1582.98 59.3701 Q1582.98 51.7138 1588.08 47.825 Q1593.23 43.9361 1603.39 43.9361 L1613.84 43.9361 L1613.84 43.2069 Q1613.84 38.0623 1610.44 35.2672 Q1607.08 32.4315 1600.96 32.4315 Q1597.07 32.4315 1593.39 33.3632 Q1589.7 34.295 1586.3 36.1584 L1586.3 29.2718 Q1590.39 27.692 1594.24 26.9223 Q1598.09 26.1121 1601.73 26.1121 Q1611.58 26.1121 1616.44 31.2163 Q1621.3 36.3204 1621.3 46.6907 Z\" fill=\"#000000\" fill-rule=\"evenodd\" fill-opacity=\"1\" /><path clip-path=\"url(#clip680)\" d=\"M1674.37 27.2059 L1657.96 49.2833 L1675.22 72.576 L1666.43 72.576 L1653.22 54.752 L1640.01 72.576 L1631.22 72.576 L1648.84 48.8377 L1632.72 27.2059 L1641.51 27.2059 L1653.54 43.369 L1665.57 27.2059 L1674.37 27.2059 Z\" fill=\"#000000\" fill-rule=\"evenodd\" fill-opacity=\"1\" /><path clip-path=\"url(#clip680)\" d=\"M1693.77 62.2867 L1701.99 62.2867 L1701.99 72.576 L1693.77 72.576 L1693.77 62.2867 M1701.75 56.3319 L1694.01 56.3319 L1694.01 50.0935 Q1694.01 46.0021 1695.15 43.369 Q1696.28 40.7359 1699.93 37.2521 L1703.57 33.6468 Q1705.88 31.4998 1706.89 29.5959 Q1707.95 27.692 1707.95 25.707 Q1707.95 22.1017 1705.27 19.8737 Q1702.64 17.6457 1698.27 17.6457 Q1695.07 17.6457 1691.42 19.0636 Q1687.81 20.4814 1683.88 23.1955 L1683.88 15.5798 Q1687.69 13.2708 1691.58 12.1365 Q1695.51 11.0023 1699.68 11.0023 Q1707.14 11.0023 1711.63 14.9316 Q1716.17 18.861 1716.17 25.3019 Q1716.17 28.3806 1714.71 31.1758 Q1713.25 33.9304 1709.61 37.4142 L1706.04 40.8979 Q1704.14 42.8019 1703.33 43.8956 Q1702.56 44.9488 1702.24 45.9616 Q1701.99 46.8122 1701.87 48.0275 Q1701.75 49.2428 1701.75 51.3493 L1701.75 56.3319 Z\" fill=\"#000000\" fill-rule=\"evenodd\" fill-opacity=\"1\" /><path clip-path=\"url(#clip680)\" d=\"M1734.48 62.2867 L1742.7 62.2867 L1742.7 72.576 L1734.48 72.576 L1734.48 62.2867 M1734.48 12.096 L1742.7 12.096 L1742.7 38.6294 L1741.89 53.0912 L1735.33 53.0912 L1734.48 38.6294 L1734.48 12.096 Z\" fill=\"#000000\" fill-rule=\"evenodd\" fill-opacity=\"1\" /><polyline clip-path=\"url(#clip682)\" style=\"stroke:#009af9; stroke-linecap:butt; stroke-linejoin:round; stroke-width:8; stroke-opacity:1; fill:none\" points=\"\n",
       "  240.392,1447.87 261.107,1406.65 281.823,1366.09 302.538,1326.21 323.254,1287 343.97,1248.46 364.685,1210.59 385.401,1173.39 406.116,1136.87 426.832,1101.02 \n",
       "  447.547,1065.84 468.263,1031.33 488.978,997.49 509.694,964.324 530.409,931.83 551.125,900.007 571.841,868.857 592.556,838.378 613.272,808.57 633.987,779.435 \n",
       "  654.703,750.971 675.418,723.179 696.134,696.059 716.849,669.61 737.565,643.833 758.28,618.728 778.996,594.294 799.712,570.532 820.427,547.442 841.143,525.024 \n",
       "  861.858,503.277 882.574,482.202 903.289,461.799 924.005,442.067 944.72,423.007 965.436,404.619 986.151,386.903 1006.87,369.858 1027.58,353.485 1048.3,337.784 \n",
       "  1069.01,322.754 1089.73,308.396 1110.44,294.71 1131.16,281.696 1151.88,269.353 1172.59,257.682 1193.31,246.683 1214.02,236.355 1234.74,226.699 1255.45,217.715 \n",
       "  1276.17,209.403 1296.88,201.762 1317.6,194.793 1338.32,188.496 1359.03,182.87 1379.75,177.916 1400.46,173.634 1421.18,170.024 1441.89,167.085 1462.61,164.818 \n",
       "  1483.32,163.222 1504.04,162.299 1524.76,162.047 1545.47,162.467 1566.19,163.558 1586.9,165.322 1607.62,167.756 1628.33,170.863 1649.05,174.642 1669.76,179.092 \n",
       "  1690.48,184.213 1711.2,190.007 1731.91,196.472 1752.63,203.609 1773.34,211.418 1794.06,219.898 1814.77,229.05 1835.49,238.874 1856.2,249.37 1876.92,260.537 \n",
       "  1897.64,272.376 1918.35,284.886 1939.07,298.069 1959.78,311.923 1980.5,326.449 2001.21,341.646 2021.93,357.515 2042.64,374.056 2063.36,391.269 2084.08,409.153 \n",
       "  2104.79,427.709 2125.51,446.937 2146.22,466.837 2166.94,487.408 2187.65,508.651 2208.37,530.565 2229.08,553.152 2249.8,576.41 2270.52,600.339 2291.23,624.941 \n",
       "  \n",
       "  \"/>\n",
       "</svg>\n"
      ]
     },
     "execution_count": 5,
     "metadata": {},
     "output_type": "execute_result"
    }
   ],
   "source": [
    "npoints = 100; a, b = (-10, 10); α = 0.2;\n",
    "x = range(a, b, length = npoints) \n",
    "U(x) = x .- α .* x .^ 2\n",
    "plot(x, U(x), legend = false, lw = 2, title = \"Can you find the max?!\")"
   ]
  },
  {
   "cell_type": "markdown",
   "metadata": {
    "slideshow": {
     "slide_type": "slide"
    }
   },
   "source": [
    "## Quadratic utility"
   ]
  },
  {
   "cell_type": "code",
   "execution_count": 7,
   "metadata": {
    "slideshow": {
     "slide_type": "fragment"
    }
   },
   "outputs": [
    {
     "data": {
      "text/plain": [
       "(1.249872461993674, 63)"
      ]
     },
     "execution_count": 7,
     "metadata": {},
     "output_type": "execute_result"
    }
   ],
   "source": [
    "fmax, ix = findmax(U.(x))"
   ]
  },
  {
   "cell_type": "code",
   "execution_count": 10,
   "metadata": {
    "slideshow": {
     "slide_type": "fragment"
    }
   },
   "outputs": [
    {
     "data": {
      "image/svg+xml": [
       "<?xml version=\"1.0\" encoding=\"utf-8\"?>\n",
       "<svg xmlns=\"http://www.w3.org/2000/svg\" xmlns:xlink=\"http://www.w3.org/1999/xlink\" width=\"600\" height=\"400\" viewBox=\"0 0 2400 1600\">\n",
       "<defs>\n",
       "  <clipPath id=\"clip720\">\n",
       "    <rect x=\"0\" y=\"0\" width=\"2400\" height=\"1600\"/>\n",
       "  </clipPath>\n",
       "</defs>\n",
       "<path clip-path=\"url(#clip720)\" d=\"\n",
       "M0 1600 L2400 1600 L2400 0 L0 0  Z\n",
       "  \" fill=\"#ffffff\" fill-rule=\"evenodd\" fill-opacity=\"1\"/>\n",
       "<defs>\n",
       "  <clipPath id=\"clip721\">\n",
       "    <rect x=\"480\" y=\"0\" width=\"1681\" height=\"1600\"/>\n",
       "  </clipPath>\n",
       "</defs>\n",
       "<path clip-path=\"url(#clip720)\" d=\"\n",
       "M178.867 1486.45 L2352.76 1486.45 L2352.76 123.472 L178.867 123.472  Z\n",
       "  \" fill=\"#ffffff\" fill-rule=\"evenodd\" fill-opacity=\"1\"/>\n",
       "<defs>\n",
       "  <clipPath id=\"clip722\">\n",
       "    <rect x=\"178\" y=\"123\" width=\"2175\" height=\"1364\"/>\n",
       "  </clipPath>\n",
       "</defs>\n",
       "<polyline clip-path=\"url(#clip722)\" style=\"stroke:#000000; stroke-linecap:butt; stroke-linejoin:round; stroke-width:2; stroke-opacity:0.1; fill:none\" points=\"\n",
       "  1524.76,1486.45 1524.76,123.472 \n",
       "  \"/>\n",
       "<polyline clip-path=\"url(#clip720)\" style=\"stroke:#000000; stroke-linecap:butt; stroke-linejoin:round; stroke-width:4; stroke-opacity:1; fill:none\" points=\"\n",
       "  178.867,1486.45 2352.76,1486.45 \n",
       "  \"/>\n",
       "<polyline clip-path=\"url(#clip720)\" style=\"stroke:#000000; stroke-linecap:butt; stroke-linejoin:round; stroke-width:4; stroke-opacity:1; fill:none\" points=\"\n",
       "  1524.76,1486.45 1524.76,1467.55 \n",
       "  \"/>\n",
       "<path clip-path=\"url(#clip720)\" d=\"M1406.01 1544.91 L1422.33 1544.91 L1422.33 1548.85 L1400.38 1548.85 L1400.38 1544.91 Q1403.04 1542.16 1407.63 1537.53 Q1412.23 1532.88 1413.41 1531.53 Q1415.66 1529.01 1416.54 1527.27 Q1417.44 1525.51 1417.44 1523.82 Q1417.44 1521.07 1415.5 1519.33 Q1413.58 1517.6 1410.47 1517.6 Q1408.27 1517.6 1405.82 1518.36 Q1403.39 1519.13 1400.61 1520.68 L1400.61 1515.95 Q1403.44 1514.82 1405.89 1514.24 Q1408.34 1513.66 1410.38 1513.66 Q1415.75 1513.66 1418.95 1516.35 Q1422.14 1519.03 1422.14 1523.52 Q1422.14 1525.65 1421.33 1527.57 Q1420.54 1529.47 1418.44 1532.07 Q1417.86 1532.74 1414.76 1535.95 Q1411.65 1539.15 1406.01 1544.91 Z\" fill=\"#000000\" fill-rule=\"evenodd\" fill-opacity=\"1\" /><path clip-path=\"url(#clip720)\" d=\"M1432.14 1542.97 L1437.02 1542.97 L1437.02 1548.85 L1432.14 1548.85 L1432.14 1542.97 Z\" fill=\"#000000\" fill-rule=\"evenodd\" fill-opacity=\"1\" /><path clip-path=\"url(#clip720)\" d=\"M1447.26 1514.29 L1465.61 1514.29 L1465.61 1518.22 L1451.54 1518.22 L1451.54 1526.7 Q1452.56 1526.35 1453.58 1526.19 Q1454.59 1526 1455.61 1526 Q1461.4 1526 1464.78 1529.17 Q1468.16 1532.34 1468.16 1537.76 Q1468.16 1543.34 1464.69 1546.44 Q1461.21 1549.52 1454.89 1549.52 Q1452.72 1549.52 1450.45 1549.15 Q1448.21 1548.78 1445.8 1548.04 L1445.8 1543.34 Q1447.88 1544.47 1450.1 1545.03 Q1452.33 1545.58 1454.8 1545.58 Q1458.81 1545.58 1461.14 1543.48 Q1463.48 1541.37 1463.48 1537.76 Q1463.48 1534.15 1461.14 1532.04 Q1458.81 1529.94 1454.8 1529.94 Q1452.93 1529.94 1451.05 1530.35 Q1449.2 1530.77 1447.26 1531.65 L1447.26 1514.29 Z\" fill=\"#000000\" fill-rule=\"evenodd\" fill-opacity=\"1\" /><path clip-path=\"url(#clip720)\" d=\"M1481.4 1544.91 L1497.72 1544.91 L1497.72 1548.85 L1475.77 1548.85 L1475.77 1544.91 Q1478.44 1542.16 1483.02 1537.53 Q1487.63 1532.88 1488.81 1531.53 Q1491.05 1529.01 1491.93 1527.27 Q1492.83 1525.51 1492.83 1523.82 Q1492.83 1521.07 1490.89 1519.33 Q1488.97 1517.6 1485.87 1517.6 Q1483.67 1517.6 1481.21 1518.36 Q1478.78 1519.13 1476.01 1520.68 L1476.01 1515.95 Q1478.83 1514.82 1481.28 1514.24 Q1483.74 1513.66 1485.77 1513.66 Q1491.14 1513.66 1494.34 1516.35 Q1497.53 1519.03 1497.53 1523.52 Q1497.53 1525.65 1496.72 1527.57 Q1495.94 1529.47 1493.83 1532.07 Q1493.25 1532.74 1490.15 1535.95 Q1487.05 1539.15 1481.4 1544.91 Z\" fill=\"#000000\" fill-rule=\"evenodd\" fill-opacity=\"1\" /><path clip-path=\"url(#clip720)\" d=\"M1507.58 1514.29 L1525.94 1514.29 L1525.94 1518.22 L1511.86 1518.22 L1511.86 1526.7 Q1512.88 1526.35 1513.9 1526.19 Q1514.92 1526 1515.94 1526 Q1521.72 1526 1525.1 1529.17 Q1528.48 1532.34 1528.48 1537.76 Q1528.48 1543.34 1525.01 1546.44 Q1521.54 1549.52 1515.22 1549.52 Q1513.04 1549.52 1510.77 1549.15 Q1508.53 1548.78 1506.12 1548.04 L1506.12 1543.34 Q1508.2 1544.47 1510.43 1545.03 Q1512.65 1545.58 1515.13 1545.58 Q1519.13 1545.58 1521.47 1543.48 Q1523.81 1541.37 1523.81 1537.76 Q1523.81 1534.15 1521.47 1532.04 Q1519.13 1529.94 1515.13 1529.94 Q1513.25 1529.94 1511.38 1530.35 Q1509.52 1530.77 1507.58 1531.65 L1507.58 1514.29 Z\" fill=\"#000000\" fill-rule=\"evenodd\" fill-opacity=\"1\" /><path clip-path=\"url(#clip720)\" d=\"M1541.72 1544.91 L1558.04 1544.91 L1558.04 1548.85 L1536.1 1548.85 L1536.1 1544.91 Q1538.76 1542.16 1543.34 1537.53 Q1547.95 1532.88 1549.13 1531.53 Q1551.38 1529.01 1552.26 1527.27 Q1553.16 1525.51 1553.16 1523.82 Q1553.16 1521.07 1551.21 1519.33 Q1549.29 1517.6 1546.19 1517.6 Q1543.99 1517.6 1541.54 1518.36 Q1539.11 1519.13 1536.33 1520.68 L1536.33 1515.95 Q1539.15 1514.82 1541.61 1514.24 Q1544.06 1513.66 1546.1 1513.66 Q1551.47 1513.66 1554.66 1516.35 Q1557.86 1519.03 1557.86 1523.52 Q1557.86 1525.65 1557.05 1527.57 Q1556.26 1529.47 1554.15 1532.07 Q1553.57 1532.74 1550.47 1535.95 Q1547.37 1539.15 1541.72 1544.91 Z\" fill=\"#000000\" fill-rule=\"evenodd\" fill-opacity=\"1\" /><path clip-path=\"url(#clip720)\" d=\"M1567.9 1514.29 L1586.26 1514.29 L1586.26 1518.22 L1572.19 1518.22 L1572.19 1526.7 Q1573.2 1526.35 1574.22 1526.19 Q1575.24 1526 1576.26 1526 Q1582.05 1526 1585.43 1529.17 Q1588.81 1532.34 1588.81 1537.76 Q1588.81 1543.34 1585.33 1546.44 Q1581.86 1549.52 1575.54 1549.52 Q1573.37 1549.52 1571.1 1549.15 Q1568.85 1548.78 1566.45 1548.04 L1566.45 1543.34 Q1568.53 1544.47 1570.75 1545.03 Q1572.97 1545.58 1575.45 1545.58 Q1579.45 1545.58 1581.79 1543.48 Q1584.13 1541.37 1584.13 1537.76 Q1584.13 1534.15 1581.79 1532.04 Q1579.45 1529.94 1575.45 1529.94 Q1573.57 1529.94 1571.7 1530.35 Q1569.85 1530.77 1567.9 1531.65 L1567.9 1514.29 Z\" fill=\"#000000\" fill-rule=\"evenodd\" fill-opacity=\"1\" /><path clip-path=\"url(#clip720)\" d=\"M1602.05 1544.91 L1618.37 1544.91 L1618.37 1548.85 L1596.42 1548.85 L1596.42 1544.91 Q1599.08 1542.16 1603.67 1537.53 Q1608.27 1532.88 1609.45 1531.53 Q1611.7 1529.01 1612.58 1527.27 Q1613.48 1525.51 1613.48 1523.82 Q1613.48 1521.07 1611.54 1519.33 Q1609.62 1517.6 1606.51 1517.6 Q1604.32 1517.6 1601.86 1518.36 Q1599.43 1519.13 1596.65 1520.68 L1596.65 1515.95 Q1599.48 1514.82 1601.93 1514.24 Q1604.38 1513.66 1606.42 1513.66 Q1611.79 1513.66 1614.99 1516.35 Q1618.18 1519.03 1618.18 1523.52 Q1618.18 1525.65 1617.37 1527.57 Q1616.58 1529.47 1614.48 1532.07 Q1613.9 1532.74 1610.8 1535.95 Q1607.69 1539.15 1602.05 1544.91 Z\" fill=\"#000000\" fill-rule=\"evenodd\" fill-opacity=\"1\" /><path clip-path=\"url(#clip720)\" d=\"M1628.23 1514.29 L1646.58 1514.29 L1646.58 1518.22 L1632.51 1518.22 L1632.51 1526.7 Q1633.53 1526.35 1634.55 1526.19 Q1635.57 1526 1636.58 1526 Q1642.37 1526 1645.75 1529.17 Q1649.13 1532.34 1649.13 1537.76 Q1649.13 1543.34 1645.66 1546.44 Q1642.19 1549.52 1635.87 1549.52 Q1633.69 1549.52 1631.42 1549.15 Q1629.18 1548.78 1626.77 1548.04 L1626.77 1543.34 Q1628.85 1544.47 1631.07 1545.03 Q1633.3 1545.58 1635.77 1545.58 Q1639.78 1545.58 1642.12 1543.48 Q1644.45 1541.37 1644.45 1537.76 Q1644.45 1534.15 1642.12 1532.04 Q1639.78 1529.94 1635.77 1529.94 Q1633.9 1529.94 1632.02 1530.35 Q1630.17 1530.77 1628.23 1531.65 L1628.23 1514.29 Z\" fill=\"#000000\" fill-rule=\"evenodd\" fill-opacity=\"1\" /><polyline clip-path=\"url(#clip722)\" style=\"stroke:#000000; stroke-linecap:butt; stroke-linejoin:round; stroke-width:2; stroke-opacity:0.1; fill:none\" points=\"\n",
       "  178.867,1447.87 2352.76,1447.87 \n",
       "  \"/>\n",
       "<polyline clip-path=\"url(#clip722)\" style=\"stroke:#000000; stroke-linecap:butt; stroke-linejoin:round; stroke-width:2; stroke-opacity:0.1; fill:none\" points=\"\n",
       "  178.867,1036.41 2352.76,1036.41 \n",
       "  \"/>\n",
       "<polyline clip-path=\"url(#clip722)\" style=\"stroke:#000000; stroke-linecap:butt; stroke-linejoin:round; stroke-width:2; stroke-opacity:0.1; fill:none\" points=\"\n",
       "  178.867,624.941 2352.76,624.941 \n",
       "  \"/>\n",
       "<polyline clip-path=\"url(#clip722)\" style=\"stroke:#000000; stroke-linecap:butt; stroke-linejoin:round; stroke-width:2; stroke-opacity:0.1; fill:none\" points=\"\n",
       "  178.867,213.475 2352.76,213.475 \n",
       "  \"/>\n",
       "<polyline clip-path=\"url(#clip720)\" style=\"stroke:#000000; stroke-linecap:butt; stroke-linejoin:round; stroke-width:4; stroke-opacity:1; fill:none\" points=\"\n",
       "  178.867,1486.45 178.867,123.472 \n",
       "  \"/>\n",
       "<polyline clip-path=\"url(#clip720)\" style=\"stroke:#000000; stroke-linecap:butt; stroke-linejoin:round; stroke-width:4; stroke-opacity:1; fill:none\" points=\"\n",
       "  178.867,1447.87 197.764,1447.87 \n",
       "  \"/>\n",
       "<polyline clip-path=\"url(#clip720)\" style=\"stroke:#000000; stroke-linecap:butt; stroke-linejoin:round; stroke-width:4; stroke-opacity:1; fill:none\" points=\"\n",
       "  178.867,1036.41 197.764,1036.41 \n",
       "  \"/>\n",
       "<polyline clip-path=\"url(#clip720)\" style=\"stroke:#000000; stroke-linecap:butt; stroke-linejoin:round; stroke-width:4; stroke-opacity:1; fill:none\" points=\"\n",
       "  178.867,624.941 197.764,624.941 \n",
       "  \"/>\n",
       "<polyline clip-path=\"url(#clip720)\" style=\"stroke:#000000; stroke-linecap:butt; stroke-linejoin:round; stroke-width:4; stroke-opacity:1; fill:none\" points=\"\n",
       "  178.867,213.475 197.764,213.475 \n",
       "  \"/>\n",
       "<path clip-path=\"url(#clip720)\" d=\"M50.9921 1448.32 L80.6679 1448.32 L80.6679 1452.26 L50.9921 1452.26 L50.9921 1448.32 Z\" fill=\"#000000\" fill-rule=\"evenodd\" fill-opacity=\"1\" /><path clip-path=\"url(#clip720)\" d=\"M104.927 1446.52 Q108.283 1447.24 110.158 1449.51 Q112.057 1451.77 112.057 1455.11 Q112.057 1460.22 108.538 1463.02 Q105.02 1465.82 98.5382 1465.82 Q96.3623 1465.82 94.0475 1465.38 Q91.7558 1464.97 89.3021 1464.11 L89.3021 1459.6 Q91.2465 1460.73 93.5613 1461.31 Q95.8761 1461.89 98.3993 1461.89 Q102.797 1461.89 105.089 1460.15 Q107.404 1458.42 107.404 1455.11 Q107.404 1452.05 105.251 1450.34 Q103.121 1448.6 99.3021 1448.6 L95.2743 1448.6 L95.2743 1444.76 L99.4872 1444.76 Q102.936 1444.76 104.765 1443.39 Q106.594 1442.01 106.594 1439.41 Q106.594 1436.75 104.696 1435.34 Q102.821 1433.9 99.3021 1433.9 Q97.3808 1433.9 95.1817 1434.32 Q92.9826 1434.74 90.3438 1435.62 L90.3438 1431.45 Q93.0058 1430.71 95.3206 1430.34 Q97.6585 1429.97 99.7187 1429.97 Q105.043 1429.97 108.145 1432.4 Q111.246 1434.81 111.246 1438.93 Q111.246 1441.8 109.603 1443.79 Q107.959 1445.76 104.927 1446.52 Z\" fill=\"#000000\" fill-rule=\"evenodd\" fill-opacity=\"1\" /><path clip-path=\"url(#clip720)\" d=\"M130.922 1433.67 Q127.311 1433.67 125.482 1437.24 Q123.677 1440.78 123.677 1447.91 Q123.677 1455.01 125.482 1458.58 Q127.311 1462.12 130.922 1462.12 Q134.556 1462.12 136.362 1458.58 Q138.191 1455.01 138.191 1447.91 Q138.191 1440.78 136.362 1437.24 Q134.556 1433.67 130.922 1433.67 M130.922 1429.97 Q136.732 1429.97 139.788 1434.57 Q142.867 1439.16 142.867 1447.91 Q142.867 1456.63 139.788 1461.24 Q136.732 1465.82 130.922 1465.82 Q125.112 1465.82 122.033 1461.24 Q118.978 1456.63 118.978 1447.91 Q118.978 1439.16 122.033 1434.57 Q125.112 1429.97 130.922 1429.97 Z\" fill=\"#000000\" fill-rule=\"evenodd\" fill-opacity=\"1\" /><path clip-path=\"url(#clip720)\" d=\"M50.9921 1036.86 L80.6679 1036.86 L80.6679 1040.79 L50.9921 1040.79 L50.9921 1036.86 Z\" fill=\"#000000\" fill-rule=\"evenodd\" fill-opacity=\"1\" /><path clip-path=\"url(#clip720)\" d=\"M94.7882 1049.75 L111.108 1049.75 L111.108 1053.69 L89.1632 1053.69 L89.1632 1049.75 Q91.8252 1047 96.4085 1042.37 Q101.015 1037.71 102.196 1036.37 Q104.441 1033.85 105.321 1032.11 Q106.223 1030.35 106.223 1028.66 Q106.223 1025.91 104.279 1024.17 Q102.358 1022.44 99.2558 1022.44 Q97.0567 1022.44 94.603 1023.2 Q92.1725 1023.96 89.3947 1025.52 L89.3947 1020.79 Q92.2188 1019.66 94.6724 1019.08 Q97.1261 1018.5 99.1632 1018.5 Q104.534 1018.5 107.728 1021.19 Q110.922 1023.87 110.922 1028.36 Q110.922 1030.49 110.112 1032.41 Q109.325 1034.31 107.219 1036.9 Q106.64 1037.58 103.538 1040.79 Q100.436 1043.99 94.7882 1049.75 Z\" fill=\"#000000\" fill-rule=\"evenodd\" fill-opacity=\"1\" /><path clip-path=\"url(#clip720)\" d=\"M130.922 1022.21 Q127.311 1022.21 125.482 1025.77 Q123.677 1029.31 123.677 1036.44 Q123.677 1043.55 125.482 1047.11 Q127.311 1050.65 130.922 1050.65 Q134.556 1050.65 136.362 1047.11 Q138.191 1043.55 138.191 1036.44 Q138.191 1029.31 136.362 1025.77 Q134.556 1022.21 130.922 1022.21 M130.922 1018.5 Q136.732 1018.5 139.788 1023.11 Q142.867 1027.69 142.867 1036.44 Q142.867 1045.17 139.788 1049.78 Q136.732 1054.36 130.922 1054.36 Q125.112 1054.36 122.033 1049.78 Q118.978 1045.17 118.978 1036.44 Q118.978 1027.69 122.033 1023.11 Q125.112 1018.5 130.922 1018.5 Z\" fill=\"#000000\" fill-rule=\"evenodd\" fill-opacity=\"1\" /><path clip-path=\"url(#clip720)\" d=\"M50.9921 625.392 L80.6679 625.392 L80.6679 629.328 L50.9921 629.328 L50.9921 625.392 Z\" fill=\"#000000\" fill-rule=\"evenodd\" fill-opacity=\"1\" /><path clip-path=\"url(#clip720)\" d=\"M91.5706 638.286 L99.2095 638.286 L99.2095 611.92 L90.8993 613.587 L90.8993 609.328 L99.1632 607.661 L103.839 607.661 L103.839 638.286 L111.478 638.286 L111.478 642.221 L91.5706 642.221 L91.5706 638.286 Z\" fill=\"#000000\" fill-rule=\"evenodd\" fill-opacity=\"1\" /><path clip-path=\"url(#clip720)\" d=\"M130.922 610.74 Q127.311 610.74 125.482 614.304 Q123.677 617.846 123.677 624.976 Q123.677 632.082 125.482 635.647 Q127.311 639.189 130.922 639.189 Q134.556 639.189 136.362 635.647 Q138.191 632.082 138.191 624.976 Q138.191 617.846 136.362 614.304 Q134.556 610.74 130.922 610.74 M130.922 607.036 Q136.732 607.036 139.788 611.642 Q142.867 616.226 142.867 624.976 Q142.867 633.703 139.788 638.309 Q136.732 642.892 130.922 642.892 Q125.112 642.892 122.033 638.309 Q118.978 633.703 118.978 624.976 Q118.978 616.226 122.033 611.642 Q125.112 607.036 130.922 607.036 Z\" fill=\"#000000\" fill-rule=\"evenodd\" fill-opacity=\"1\" /><path clip-path=\"url(#clip720)\" d=\"M130.922 199.274 Q127.311 199.274 125.482 202.838 Q123.677 206.38 123.677 213.51 Q123.677 220.616 125.482 224.181 Q127.311 227.723 130.922 227.723 Q134.556 227.723 136.362 224.181 Q138.191 220.616 138.191 213.51 Q138.191 206.38 136.362 202.838 Q134.556 199.274 130.922 199.274 M130.922 195.57 Q136.732 195.57 139.788 200.176 Q142.867 204.76 142.867 213.51 Q142.867 222.236 139.788 226.843 Q136.732 231.426 130.922 231.426 Q125.112 231.426 122.033 226.843 Q118.978 222.236 118.978 213.51 Q118.978 204.76 122.033 200.176 Q125.112 195.57 130.922 195.57 Z\" fill=\"#000000\" fill-rule=\"evenodd\" fill-opacity=\"1\" /><path clip-path=\"url(#clip720)\" d=\"M837.691 16.7545 L837.691 25.383 Q833.56 21.5346 828.86 19.6307 Q824.202 17.7268 818.936 17.7268 Q808.565 17.7268 803.056 24.0867 Q797.547 30.4061 797.547 42.3968 Q797.547 54.3469 803.056 60.7069 Q808.565 67.0263 818.936 67.0263 Q824.202 67.0263 828.86 65.1223 Q833.56 63.2184 837.691 59.3701 L837.691 67.9175 Q833.397 70.8341 828.577 72.2924 Q823.797 73.7508 818.45 73.7508 Q804.717 73.7508 796.818 65.3654 Q788.919 56.9395 788.919 42.3968 Q788.919 27.8135 796.818 19.4281 Q804.717 11.0023 818.45 11.0023 Q823.878 11.0023 828.658 12.4606 Q833.479 13.8784 837.691 16.7545 Z\" fill=\"#000000\" fill-rule=\"evenodd\" fill-opacity=\"1\" /><path clip-path=\"url(#clip720)\" d=\"M870.625 49.7694 Q861.592 49.7694 858.108 51.8354 Q854.624 53.9013 854.624 58.8839 Q854.624 62.8538 857.217 65.2034 Q859.85 67.5124 864.346 67.5124 Q870.544 67.5124 874.271 63.1374 Q878.038 58.7219 878.038 51.4303 L878.038 49.7694 L870.625 49.7694 M885.492 46.6907 L885.492 72.576 L878.038 72.576 L878.038 65.6895 Q875.486 69.8214 871.679 71.8063 Q867.871 73.7508 862.361 73.7508 Q855.394 73.7508 851.262 69.8619 Q847.171 65.9325 847.171 59.3701 Q847.171 51.7138 852.275 47.825 Q857.419 43.9361 867.587 43.9361 L878.038 43.9361 L878.038 43.2069 Q878.038 38.0623 874.636 35.2672 Q871.273 32.4315 865.157 32.4315 Q861.268 32.4315 857.581 33.3632 Q853.895 34.295 850.492 36.1584 L850.492 29.2718 Q854.584 27.692 858.432 26.9223 Q862.28 26.1121 865.926 26.1121 Q875.77 26.1121 880.631 31.2163 Q885.492 36.3204 885.492 46.6907 Z\" fill=\"#000000\" fill-rule=\"evenodd\" fill-opacity=\"1\" /><path clip-path=\"url(#clip720)\" d=\"M938.559 45.1919 L938.559 72.576 L931.105 72.576 L931.105 45.4349 Q931.105 38.994 928.594 35.7938 Q926.082 32.5936 921.059 32.5936 Q915.023 32.5936 911.539 36.4419 Q908.056 40.2903 908.056 46.9338 L908.056 72.576 L900.561 72.576 L900.561 27.2059 L908.056 27.2059 L908.056 34.2544 Q910.729 30.163 914.335 28.1376 Q917.98 26.1121 922.72 26.1121 Q930.538 26.1121 934.549 30.9732 Q938.559 35.7938 938.559 45.1919 Z\" fill=\"#000000\" fill-rule=\"evenodd\" fill-opacity=\"1\" /><path clip-path=\"url(#clip720)\" d=\"M998.674 76.7889 Q995.515 84.8907 992.517 87.3618 Q989.519 89.8329 984.496 89.8329 L978.541 89.8329 L978.541 83.5945 L982.916 83.5945 Q985.995 83.5945 987.696 82.1361 Q989.398 80.6778 991.464 75.2496 L992.801 71.8468 L974.45 27.2059 L982.349 27.2059 L996.527 62.6918 L1010.71 27.2059 L1018.6 27.2059 L998.674 76.7889 Z\" fill=\"#000000\" fill-rule=\"evenodd\" fill-opacity=\"1\" /><path clip-path=\"url(#clip720)\" d=\"M1046.48 32.4315 Q1040.48 32.4315 1037 37.1306 Q1033.51 41.7891 1033.51 49.9314 Q1033.51 58.0738 1036.96 62.7728 Q1040.44 67.4314 1046.48 67.4314 Q1052.43 67.4314 1055.91 62.7323 Q1059.4 58.0333 1059.4 49.9314 Q1059.4 41.8701 1055.91 37.1711 Q1052.43 32.4315 1046.48 32.4315 M1046.48 26.1121 Q1056.2 26.1121 1061.75 32.4315 Q1067.3 38.7509 1067.3 49.9314 Q1067.3 61.0714 1061.75 67.4314 Q1056.2 73.7508 1046.48 73.7508 Q1036.71 73.7508 1031.16 67.4314 Q1025.65 61.0714 1025.65 49.9314 Q1025.65 38.7509 1031.16 32.4315 Q1036.71 26.1121 1046.48 26.1121 Z\" fill=\"#000000\" fill-rule=\"evenodd\" fill-opacity=\"1\" /><path clip-path=\"url(#clip720)\" d=\"M1078.88 54.671 L1078.88 27.2059 L1086.34 27.2059 L1086.34 54.3874 Q1086.34 60.8284 1088.85 64.0691 Q1091.36 67.2693 1096.38 67.2693 Q1102.42 67.2693 1105.9 63.421 Q1109.43 59.5726 1109.43 52.9291 L1109.43 27.2059 L1116.88 27.2059 L1116.88 72.576 L1109.43 72.576 L1109.43 65.6084 Q1106.71 69.7404 1103.11 71.7658 Q1099.54 73.7508 1094.8 73.7508 Q1086.98 73.7508 1082.93 68.8897 Q1078.88 64.0286 1078.88 54.671 M1097.64 26.1121 L1097.64 26.1121 Z\" fill=\"#000000\" fill-rule=\"evenodd\" fill-opacity=\"1\" /><path clip-path=\"url(#clip720)\" d=\"M1181.57 9.54393 L1181.57 15.7418 L1174.44 15.7418 Q1170.43 15.7418 1168.85 17.3622 Q1167.31 18.9825 1167.31 23.1955 L1167.31 27.2059 L1179.59 27.2059 L1179.59 32.9987 L1167.31 32.9987 L1167.31 72.576 L1159.82 72.576 L1159.82 32.9987 L1152.69 32.9987 L1152.69 27.2059 L1159.82 27.2059 L1159.82 24.0462 Q1159.82 16.471 1163.34 13.0277 Q1166.87 9.54393 1174.52 9.54393 L1181.57 9.54393 Z\" fill=\"#000000\" fill-rule=\"evenodd\" fill-opacity=\"1\" /><path clip-path=\"url(#clip720)\" d=\"M1187.81 27.2059 L1195.26 27.2059 L1195.26 72.576 L1187.81 72.576 L1187.81 27.2059 M1187.81 9.54393 L1195.26 9.54393 L1195.26 18.9825 L1187.81 18.9825 L1187.81 9.54393 Z\" fill=\"#000000\" fill-rule=\"evenodd\" fill-opacity=\"1\" /><path clip-path=\"url(#clip720)\" d=\"M1248.57 45.1919 L1248.57 72.576 L1241.12 72.576 L1241.12 45.4349 Q1241.12 38.994 1238.61 35.7938 Q1236.1 32.5936 1231.07 32.5936 Q1225.04 32.5936 1221.56 36.4419 Q1218.07 40.2903 1218.07 46.9338 L1218.07 72.576 L1210.58 72.576 L1210.58 27.2059 L1218.07 27.2059 L1218.07 34.2544 Q1220.74 30.163 1224.35 28.1376 Q1228 26.1121 1232.74 26.1121 Q1240.55 26.1121 1244.56 30.9732 Q1248.57 35.7938 1248.57 45.1919 Z\" fill=\"#000000\" fill-rule=\"evenodd\" fill-opacity=\"1\" /><path clip-path=\"url(#clip720)\" d=\"M1293.3 34.0924 L1293.3 9.54393 L1300.75 9.54393 L1300.75 72.576 L1293.3 72.576 L1293.3 65.7705 Q1290.95 69.8214 1287.34 71.8063 Q1283.78 73.7508 1278.75 73.7508 Q1270.53 73.7508 1265.35 67.1883 Q1260.2 60.6258 1260.2 49.9314 Q1260.2 39.2371 1265.35 32.6746 Q1270.53 26.1121 1278.75 26.1121 Q1283.78 26.1121 1287.34 28.0971 Q1290.95 30.0415 1293.3 34.0924 M1267.9 49.9314 Q1267.9 58.1548 1271.26 62.8538 Q1274.66 67.5124 1280.58 67.5124 Q1286.49 67.5124 1289.89 62.8538 Q1293.3 58.1548 1293.3 49.9314 Q1293.3 41.7081 1289.89 37.0496 Q1286.49 32.3505 1280.58 32.3505 Q1274.66 32.3505 1271.26 37.0496 Q1267.9 41.7081 1267.9 49.9314 Z\" fill=\"#000000\" fill-rule=\"evenodd\" fill-opacity=\"1\" /><path clip-path=\"url(#clip720)\" d=\"M1349.85 14.324 L1349.85 27.2059 L1365.2 27.2059 L1365.2 32.9987 L1349.85 32.9987 L1349.85 57.6282 Q1349.85 63.1779 1351.35 64.7578 Q1352.89 66.3376 1357.54 66.3376 L1365.2 66.3376 L1365.2 72.576 L1357.54 72.576 Q1348.92 72.576 1345.63 69.3758 Q1342.35 66.1351 1342.35 57.6282 L1342.35 32.9987 L1336.88 32.9987 L1336.88 27.2059 L1342.35 27.2059 L1342.35 14.324 L1349.85 14.324 Z\" fill=\"#000000\" fill-rule=\"evenodd\" fill-opacity=\"1\" /><path clip-path=\"url(#clip720)\" d=\"M1412.72 45.1919 L1412.72 72.576 L1405.26 72.576 L1405.26 45.4349 Q1405.26 38.994 1402.75 35.7938 Q1400.24 32.5936 1395.22 32.5936 Q1389.18 32.5936 1385.7 36.4419 Q1382.21 40.2903 1382.21 46.9338 L1382.21 72.576 L1374.72 72.576 L1374.72 9.54393 L1382.21 9.54393 L1382.21 34.2544 Q1384.89 30.163 1388.49 28.1376 Q1392.14 26.1121 1396.88 26.1121 Q1404.7 26.1121 1408.71 30.9732 Q1412.72 35.7938 1412.72 45.1919 Z\" fill=\"#000000\" fill-rule=\"evenodd\" fill-opacity=\"1\" /><path clip-path=\"url(#clip720)\" d=\"M1466.39 48.0275 L1466.39 51.6733 L1432.12 51.6733 Q1432.61 59.3701 1436.74 63.421 Q1440.91 67.4314 1448.32 67.4314 Q1452.62 67.4314 1456.63 66.3781 Q1460.68 65.3249 1464.65 63.2184 L1464.65 70.267 Q1460.64 71.9684 1456.43 72.8596 Q1452.21 73.7508 1447.88 73.7508 Q1437.02 73.7508 1430.66 67.4314 Q1424.34 61.1119 1424.34 50.3365 Q1424.34 39.1965 1430.34 32.6746 Q1436.37 26.1121 1446.58 26.1121 Q1455.74 26.1121 1461.04 32.0264 Q1466.39 37.9003 1466.39 48.0275 M1458.94 45.84 Q1458.86 39.7232 1455.49 36.0774 Q1452.17 32.4315 1446.66 32.4315 Q1440.43 32.4315 1436.66 35.9558 Q1432.93 39.4801 1432.36 45.8805 L1458.94 45.84 Z\" fill=\"#000000\" fill-rule=\"evenodd\" fill-opacity=\"1\" /><path clip-path=\"url(#clip720)\" d=\"M1540.32 35.9153 Q1543.12 30.8922 1547 28.5022 Q1550.89 26.1121 1556.16 26.1121 Q1563.25 26.1121 1567.1 31.0947 Q1570.95 36.0368 1570.95 45.1919 L1570.95 72.576 L1563.45 72.576 L1563.45 45.4349 Q1563.45 38.913 1561.14 35.7533 Q1558.83 32.5936 1554.09 32.5936 Q1548.3 32.5936 1544.94 36.4419 Q1541.58 40.2903 1541.58 46.9338 L1541.58 72.576 L1534.08 72.576 L1534.08 45.4349 Q1534.08 38.8725 1531.77 35.7533 Q1529.46 32.5936 1524.64 32.5936 Q1518.93 32.5936 1515.57 36.4824 Q1512.21 40.3308 1512.21 46.9338 L1512.21 72.576 L1504.71 72.576 L1504.71 27.2059 L1512.21 27.2059 L1512.21 34.2544 Q1514.76 30.082 1518.32 28.0971 Q1521.89 26.1121 1526.79 26.1121 Q1531.73 26.1121 1535.18 28.6237 Q1538.66 31.1352 1540.32 35.9153 Z\" fill=\"#000000\" fill-rule=\"evenodd\" fill-opacity=\"1\" /><path clip-path=\"url(#clip720)\" d=\"M1606.43 49.7694 Q1597.4 49.7694 1593.91 51.8354 Q1590.43 53.9013 1590.43 58.8839 Q1590.43 62.8538 1593.02 65.2034 Q1595.66 67.5124 1600.15 67.5124 Q1606.35 67.5124 1610.08 63.1374 Q1613.84 58.7219 1613.84 51.4303 L1613.84 49.7694 L1606.43 49.7694 M1621.3 46.6907 L1621.3 72.576 L1613.84 72.576 L1613.84 65.6895 Q1611.29 69.8214 1607.48 71.8063 Q1603.68 73.7508 1598.17 73.7508 Q1591.2 73.7508 1587.07 69.8619 Q1582.98 65.9325 1582.98 59.3701 Q1582.98 51.7138 1588.08 47.825 Q1593.23 43.9361 1603.39 43.9361 L1613.84 43.9361 L1613.84 43.2069 Q1613.84 38.0623 1610.44 35.2672 Q1607.08 32.4315 1600.96 32.4315 Q1597.07 32.4315 1593.39 33.3632 Q1589.7 34.295 1586.3 36.1584 L1586.3 29.2718 Q1590.39 27.692 1594.24 26.9223 Q1598.09 26.1121 1601.73 26.1121 Q1611.58 26.1121 1616.44 31.2163 Q1621.3 36.3204 1621.3 46.6907 Z\" fill=\"#000000\" fill-rule=\"evenodd\" fill-opacity=\"1\" /><path clip-path=\"url(#clip720)\" d=\"M1674.37 27.2059 L1657.96 49.2833 L1675.22 72.576 L1666.43 72.576 L1653.22 54.752 L1640.01 72.576 L1631.22 72.576 L1648.84 48.8377 L1632.72 27.2059 L1641.51 27.2059 L1653.54 43.369 L1665.57 27.2059 L1674.37 27.2059 Z\" fill=\"#000000\" fill-rule=\"evenodd\" fill-opacity=\"1\" /><path clip-path=\"url(#clip720)\" d=\"M1693.77 62.2867 L1701.99 62.2867 L1701.99 72.576 L1693.77 72.576 L1693.77 62.2867 M1701.75 56.3319 L1694.01 56.3319 L1694.01 50.0935 Q1694.01 46.0021 1695.15 43.369 Q1696.28 40.7359 1699.93 37.2521 L1703.57 33.6468 Q1705.88 31.4998 1706.89 29.5959 Q1707.95 27.692 1707.95 25.707 Q1707.95 22.1017 1705.27 19.8737 Q1702.64 17.6457 1698.27 17.6457 Q1695.07 17.6457 1691.42 19.0636 Q1687.81 20.4814 1683.88 23.1955 L1683.88 15.5798 Q1687.69 13.2708 1691.58 12.1365 Q1695.51 11.0023 1699.68 11.0023 Q1707.14 11.0023 1711.63 14.9316 Q1716.17 18.861 1716.17 25.3019 Q1716.17 28.3806 1714.71 31.1758 Q1713.25 33.9304 1709.61 37.4142 L1706.04 40.8979 Q1704.14 42.8019 1703.33 43.8956 Q1702.56 44.9488 1702.24 45.9616 Q1701.99 46.8122 1701.87 48.0275 Q1701.75 49.2428 1701.75 51.3493 L1701.75 56.3319 Z\" fill=\"#000000\" fill-rule=\"evenodd\" fill-opacity=\"1\" /><path clip-path=\"url(#clip720)\" d=\"M1734.48 62.2867 L1742.7 62.2867 L1742.7 72.576 L1734.48 72.576 L1734.48 62.2867 M1734.48 12.096 L1742.7 12.096 L1742.7 38.6294 L1741.89 53.0912 L1735.33 53.0912 L1734.48 38.6294 L1734.48 12.096 Z\" fill=\"#000000\" fill-rule=\"evenodd\" fill-opacity=\"1\" /><polyline clip-path=\"url(#clip722)\" style=\"stroke:#009af9; stroke-linecap:butt; stroke-linejoin:round; stroke-width:8; stroke-opacity:1; fill:none\" points=\"\n",
       "  240.392,1447.87 261.107,1406.65 281.823,1366.09 302.538,1326.21 323.254,1287 343.97,1248.46 364.685,1210.59 385.401,1173.39 406.116,1136.87 426.832,1101.02 \n",
       "  447.547,1065.84 468.263,1031.33 488.978,997.49 509.694,964.324 530.409,931.83 551.125,900.007 571.841,868.857 592.556,838.378 613.272,808.57 633.987,779.435 \n",
       "  654.703,750.971 675.418,723.179 696.134,696.059 716.849,669.61 737.565,643.833 758.28,618.728 778.996,594.294 799.712,570.532 820.427,547.442 841.143,525.024 \n",
       "  861.858,503.277 882.574,482.202 903.289,461.799 924.005,442.067 944.72,423.007 965.436,404.619 986.151,386.903 1006.87,369.858 1027.58,353.485 1048.3,337.784 \n",
       "  1069.01,322.754 1089.73,308.396 1110.44,294.71 1131.16,281.696 1151.88,269.353 1172.59,257.682 1193.31,246.683 1214.02,236.355 1234.74,226.699 1255.45,217.715 \n",
       "  1276.17,209.403 1296.88,201.762 1317.6,194.793 1338.32,188.496 1359.03,182.87 1379.75,177.916 1400.46,173.634 1421.18,170.024 1441.89,167.085 1462.61,164.818 \n",
       "  1483.32,163.222 1504.04,162.299 1524.76,162.047 1545.47,162.467 1566.19,163.558 1586.9,165.322 1607.62,167.756 1628.33,170.863 1649.05,174.642 1669.76,179.092 \n",
       "  1690.48,184.213 1711.2,190.007 1731.91,196.472 1752.63,203.609 1773.34,211.418 1794.06,219.898 1814.77,229.05 1835.49,238.874 1856.2,249.37 1876.92,260.537 \n",
       "  1897.64,272.376 1918.35,284.886 1939.07,298.069 1959.78,311.923 1980.5,326.449 2001.21,341.646 2021.93,357.515 2042.64,374.056 2063.36,391.269 2084.08,409.153 \n",
       "  2104.79,427.709 2125.51,446.937 2146.22,466.837 2166.94,487.408 2187.65,508.651 2208.37,530.565 2229.08,553.152 2249.8,576.41 2270.52,600.339 2291.23,624.941 \n",
       "  \n",
       "  \"/>\n",
       "<circle clip-path=\"url(#clip722)\" cx=\"1524.76\" cy=\"162.047\" r=\"18\" fill=\"#ff0000\" fill-rule=\"evenodd\" fill-opacity=\"1\" stroke=\"#000000\" stroke-opacity=\"1\" stroke-width=\"3.2\"/>\n",
       "<polyline clip-path=\"url(#clip722)\" style=\"stroke:#000000; stroke-linecap:butt; stroke-linejoin:round; stroke-width:6; stroke-opacity:0.5; fill:none\" stroke-dasharray=\"24, 15\" points=\"\n",
       "  1524.76,2849.42 1524.76,-1239.5 \n",
       "  \"/>\n",
       "</svg>\n"
      ]
     },
     "execution_count": 10,
     "metadata": {},
     "output_type": "execute_result"
    }
   ],
   "source": [
    "scatter!([x[ix]], [fmax], color = :red, ms = 5)\n",
    "vline!([x[ix]], lw = 1.5, color = :black, ls = :dash, alpha = 0.5, xticks = ([x[ix]]))"
   ]
  },
  {
   "cell_type": "markdown",
   "metadata": {
    "slideshow": {
     "slide_type": "slide"
    }
   },
   "source": [
    "## Derivatives\n",
    "\n",
    "What is the rate of change for a function as we move along its domain?\n",
    "\n",
    "The derivative of $f$ at the point $x_0$ is the slope of the tangent line to the graph of $f$ at $(x_0, f(x_0))$.\n",
    "\n",
    "$$\n",
    "f'(x_0) = \\frac{df(x_0)}{dx} = f_{x}(x_0)\n",
    "$$\n",
    "\n",
    "The derivative is defined formally as, \n",
    "\n",
    "$$\n",
    "f'(x_0) = \\lim_{h \\rightarrow 0} \\frac{f(x_{0} + h) - f(x_0)}{h}\n",
    "$$"
   ]
  },
  {
   "cell_type": "markdown",
   "metadata": {
    "slideshow": {
     "slide_type": "slide"
    }
   },
   "source": [
    "## Derivatives\n",
    "\n",
    "In taking derivatives we normally revert to the derivative rules.\n",
    "\n",
    "1. Constant rule\n",
    "2. Power rule\n",
    "3. Chain rule\n",
    "4. Sum (difference) rule\n",
    "5. Product rule\n",
    "6. Quotient rule (we won't cover this, use product rule instead)"
   ]
  },
  {
   "cell_type": "markdown",
   "metadata": {
    "slideshow": {
     "slide_type": "slide"
    }
   },
   "source": [
    "## Derivatives\n",
    "\n",
    "It is important to note that there are several ways in which you can take derivatives on the computer.\n",
    "\n",
    "The primary methods are, \n",
    "\n",
    "1. Symbolic differentiation\n",
    "2. Automatic differentiation\n",
    "3. Numerical differentiation\n",
    "\n",
    "We will not be going into detail on how these methods work. We will just use them in practice."
   ]
  },
  {
   "cell_type": "markdown",
   "metadata": {
    "slideshow": {
     "slide_type": "slide"
    }
   },
   "source": [
    "## Constant rule\n",
    "\n",
    "If $f(x) = k$ where $k$ is some constant then $f'(x_0) = 0$.\n",
    "\n",
    "As an application of the constant rule, let us determine the derivative of $f(x) = 8$. \n",
    "\n",
    "$$\n",
    "f'(x_0) = 0\n",
    "$$\n",
    "\n",
    "This is the easiest rule and can be computed in one line. \n",
    "\n",
    "Let us see what the computer does with this example."
   ]
  },
  {
   "cell_type": "markdown",
   "metadata": {
    "slideshow": {
     "slide_type": "slide"
    }
   },
   "source": [
    "## Constant rule"
   ]
  },
  {
   "cell_type": "code",
   "execution_count": 21,
   "metadata": {
    "slideshow": {
     "slide_type": "fragment"
    }
   },
   "outputs": [
    {
     "data": {
      "text/latex": [
       "\\begin{equation}\n",
       "\\mathrm{\\frac{d}{d x}}\\left( 8 \\right)\n",
       "\\end{equation}\n"
      ],
      "text/plain": [
       "Differential(x)(8)"
      ]
     },
     "execution_count": 21,
     "metadata": {},
     "output_type": "execute_result"
    }
   ],
   "source": [
    "@variables x\n",
    "D = Differential(x)\n",
    "y = 8\n",
    "D(y)"
   ]
  },
  {
   "cell_type": "code",
   "execution_count": 22,
   "metadata": {
    "slideshow": {
     "slide_type": "fragment"
    }
   },
   "outputs": [
    {
     "data": {
      "text/plain": [
       "0"
      ]
     },
     "execution_count": 22,
     "metadata": {},
     "output_type": "execute_result"
    }
   ],
   "source": [
    "expand_derivatives(D(y))"
   ]
  },
  {
   "cell_type": "markdown",
   "metadata": {
    "slideshow": {
     "slide_type": "slide"
    }
   },
   "source": [
    "## Power rule\n",
    "\n",
    "For any positive integer $k$ the derivative of $f(x) = x^{k}$ at $x_0$ is, \n",
    "\n",
    "$$\n",
    "f'(x_0) = k \\cdot x_{0}^{k - 1}\n",
    "$$\n",
    "\n",
    "Find the derivative for\n",
    "\n",
    "$$\n",
    "f(x) = x ^ 3\n",
    "$$\n",
    "\n",
    "What do you think the answer should be? Let us check with the computer to see what we get."
   ]
  },
  {
   "cell_type": "markdown",
   "metadata": {
    "slideshow": {
     "slide_type": "slide"
    }
   },
   "source": [
    "## Power rule"
   ]
  },
  {
   "cell_type": "code",
   "execution_count": 23,
   "metadata": {
    "slideshow": {
     "slide_type": "fragment"
    }
   },
   "outputs": [
    {
     "data": {
      "text/latex": [
       "\\begin{equation}\n",
       "\\mathrm{\\frac{d}{d x}}\\left( x^{3} \\right)\n",
       "\\end{equation}\n"
      ],
      "text/plain": [
       "Differential(x)(x^3)"
      ]
     },
     "execution_count": 23,
     "metadata": {},
     "output_type": "execute_result"
    }
   ],
   "source": [
    "y = x ^ 3\n",
    "D(y)"
   ]
  },
  {
   "cell_type": "code",
   "execution_count": 24,
   "metadata": {
    "slideshow": {
     "slide_type": "fragment"
    }
   },
   "outputs": [
    {
     "data": {
      "text/latex": [
       "\\begin{equation}\n",
       "3 x^{2}\n",
       "\\end{equation}\n"
      ],
      "text/plain": [
       "3(x^2)"
      ]
     },
     "execution_count": 24,
     "metadata": {},
     "output_type": "execute_result"
    }
   ],
   "source": [
    "expand_derivatives(D(y))"
   ]
  },
  {
   "cell_type": "code",
   "execution_count": 25,
   "metadata": {
    "slideshow": {
     "slide_type": "fragment"
    }
   },
   "outputs": [
    {
     "data": {
      "text/latex": [
       "\\begin{equation}\n",
       "3 x^{2}\n",
       "\\end{equation}\n"
      ],
      "text/plain": [
       "3(x^2)"
      ]
     },
     "execution_count": 25,
     "metadata": {},
     "output_type": "execute_result"
    }
   ],
   "source": [
    "f(x) = x ^ 3\n",
    "f'(x) "
   ]
  },
  {
   "cell_type": "markdown",
   "metadata": {
    "slideshow": {
     "slide_type": "slide"
    }
   },
   "source": [
    "## Chain rule\n",
    "\n",
    "The chain rule is a bit more complicated then some of the other rules, but it is used frequently in economics.\n",
    "\n",
    "If we have a function $f(x) = p(q(x))$ then the derivative at $x_0$ according to the chain rule is, \n",
    "\n",
    "$$\n",
    "f^{\\prime } (x_0 )=p^{\\prime } (q(x_0 ))\\cdot q^{\\prime } (x_0 )\n",
    "$$\n",
    "\n",
    "A good example of where this is applicable is the function \n",
    "\n",
    "$$\n",
    "f(x) = \\sqrt{(5x - 8)}\n",
    "$$\n"
   ]
  },
  {
   "cell_type": "markdown",
   "metadata": {
    "slideshow": {
     "slide_type": "slide"
    }
   },
   "source": [
    "## Chain rule\n",
    "\n",
    "In this case we have a composition of two functions, $p(x) = \\sqrt{x}$ and $q(x) = 5x - 8$.\n",
    "\n",
    "Here we need to take the derivatives separately and combine with our rule.\n",
    "\n",
    "We start with $p'(x)$.\n",
    "\n",
    "We haven't really talked about taking the derivative of a square root.\n",
    "\n",
    "So how do we proceed?"
   ]
  },
  {
   "cell_type": "markdown",
   "metadata": {
    "slideshow": {
     "slide_type": "slide"
    }
   },
   "source": [
    "## Chain rule\n",
    "\n",
    "Well, our square root can actually be written as $p(x)^{1/2}$.\n",
    "\n",
    "Now we can use our power rule from before to get $p'(x) = \\frac{x^{-1/2}}{2}$.\n",
    "\n",
    "Next we need to take the derivative of $q(x)$.\n",
    "\n",
    "This gives us $q'(x) = 5$ using the power rule (since $5 = 5 \\cdot x^{(1 - 1)}$)."
   ]
  },
  {
   "cell_type": "markdown",
   "metadata": {
    "slideshow": {
     "slide_type": "slide"
    }
   },
   "source": [
    "## Chain rule\n",
    "\n",
    "Now we combine all the components as per the chain rule, \n",
    "\n",
    "$$\n",
    "\\begin{align*}\n",
    "f'\\left( x \\right) & = p'\\left( {q\\left( x \\right)} \\right)\\,\\,q'\\left( x \\right)\\\\ \n",
    "&  = p'\\left( {5x - 8} \\right)\\,\\,q'\\left( x \\right)\\\\ \n",
    "&  = \\frac{1}{2}{\\left( {5x - 8} \\right)^{ - \\frac{1}{2}}}\\,\\left( 5 \\right)\\\\ \n",
    "&  = \\frac{1}{{2\\sqrt {5x - 8} }}\\,\\,\\left( 5 \\right)\\\\ \n",
    "&  = \\frac{5}{{2\\sqrt {5x - 8} }}\\end{align*}\n",
    "$$"
   ]
  },
  {
   "cell_type": "markdown",
   "metadata": {
    "slideshow": {
     "slide_type": "slide"
    }
   },
   "source": [
    "## Chain rule"
   ]
  },
  {
   "cell_type": "code",
   "execution_count": 32,
   "metadata": {
    "slideshow": {
     "slide_type": "fragment"
    }
   },
   "outputs": [
    {
     "data": {
      "text/latex": [
       "\\begin{equation}\n",
       "\\frac{dsqrt(-8 + 5x)}{dx}\n",
       "\\end{equation}\n"
      ],
      "text/plain": [
       "Differential(x)(sqrt(5x - 8))"
      ]
     },
     "execution_count": 32,
     "metadata": {},
     "output_type": "execute_result"
    }
   ],
   "source": [
    "y = sqrt(5x - 8)\n",
    "D(y)"
   ]
  },
  {
   "cell_type": "code",
   "execution_count": 33,
   "metadata": {
    "slideshow": {
     "slide_type": "fragment"
    }
   },
   "outputs": [
    {
     "data": {
      "text/latex": [
       "\\begin{equation}\n",
       "\\frac{\\frac{5}{2}}{\\sqrt{-8 + 5 x}}\n",
       "\\end{equation}\n"
      ],
      "text/plain": [
       "(5//2)*(sqrt(5x - 8)^-1)"
      ]
     },
     "execution_count": 33,
     "metadata": {},
     "output_type": "execute_result"
    }
   ],
   "source": [
    "expand_derivatives(D(y))"
   ]
  },
  {
   "cell_type": "code",
   "execution_count": 34,
   "metadata": {
    "slideshow": {
     "slide_type": "fragment"
    }
   },
   "outputs": [
    {
     "data": {
      "text/latex": [
       "\\begin{equation}\n",
       "\\frac{5}{2 \\sqrt{-8 + 5 x}}\n",
       "\\end{equation}\n"
      ],
      "text/plain": [
       "5 / (2sqrt(5x - 8))"
      ]
     },
     "execution_count": 34,
     "metadata": {},
     "output_type": "execute_result"
    }
   ],
   "source": [
    "f(x) = sqrt(5x - 8)\n",
    "f'(x) "
   ]
  },
  {
   "cell_type": "markdown",
   "metadata": {
    "slideshow": {
     "slide_type": "slide"
    }
   },
   "source": [
    "## Sum (difference) rule\n",
    "\n",
    "Given functions $p$ and $q$ that are differentiable at $x$ and with $f(x) = p(x) + q(x)$ we have that the derivative according to the sum rule is given by, \n",
    "\n",
    "$$\n",
    "f^{\\prime } (x)=p^{\\prime } (x)+q^{\\prime } (x)\n",
    "$$\n",
    "\n",
    "Let us consider an example with the application of this rule. \n",
    "\n",
    "Find the derivative of $f(x) = 2x^5 + 7$. \n",
    "\n",
    "In this case, $p(x) = 2x^5$ and $q(x) = 7$. "
   ]
  },
  {
   "cell_type": "markdown",
   "metadata": {
    "slideshow": {
     "slide_type": "slide"
    }
   },
   "source": [
    "## Sum (difference) rule\n",
    "\n",
    "$$\n",
    "\\begin{align*} \n",
    "f'(x)&=\\dfrac{d}{dx}\\left(2x^5+7\\right)\\\\\n",
    "&=\\dfrac{d}{dx}(2x^5)+\\dfrac{d}{dx}(7) & & \\text{Apply sum rule.}\\\\\n",
    "&=2\\dfrac{d}{dx}(x^5)+\\dfrac{d}{dx}(7) & & \\text{Apply constant multiple rule.}\\\\ \n",
    "&=2(5x^4)+0 & & \\text{Apply power rule and constant rule.}\\\\\n",
    "&=10x^4 & & \\text{Simplify}. \n",
    "\\end{align*}\n",
    "$$"
   ]
  },
  {
   "cell_type": "markdown",
   "metadata": {
    "slideshow": {
     "slide_type": "slide"
    }
   },
   "source": [
    "## Sum (difference) rule"
   ]
  },
  {
   "cell_type": "code",
   "execution_count": 29,
   "metadata": {
    "slideshow": {
     "slide_type": "fragment"
    }
   },
   "outputs": [
    {
     "data": {
      "text/latex": [
       "\\begin{equation}\n",
       "\\mathrm{\\frac{d}{d x}}\\left( 7 + 2 x^{5} \\right)\n",
       "\\end{equation}\n"
      ],
      "text/plain": [
       "Differential(x)(7 + 2(x^5))"
      ]
     },
     "execution_count": 29,
     "metadata": {},
     "output_type": "execute_result"
    }
   ],
   "source": [
    "y = 2x^5 + 7\n",
    "D(y)"
   ]
  },
  {
   "cell_type": "code",
   "execution_count": 30,
   "metadata": {
    "slideshow": {
     "slide_type": "fragment"
    }
   },
   "outputs": [
    {
     "data": {
      "text/latex": [
       "\\begin{equation}\n",
       "10 x^{4}\n",
       "\\end{equation}\n"
      ],
      "text/plain": [
       "10(x^4)"
      ]
     },
     "execution_count": 30,
     "metadata": {},
     "output_type": "execute_result"
    }
   ],
   "source": [
    "expand_derivatives(D(y))"
   ]
  },
  {
   "cell_type": "code",
   "execution_count": 31,
   "metadata": {
    "slideshow": {
     "slide_type": "fragment"
    }
   },
   "outputs": [
    {
     "data": {
      "text/latex": [
       "\\begin{equation}\n",
       "10 x^{4}\n",
       "\\end{equation}\n"
      ],
      "text/plain": [
       "10(x^4)"
      ]
     },
     "execution_count": 31,
     "metadata": {},
     "output_type": "execute_result"
    }
   ],
   "source": [
    "f(x) = 2x^5 + 7\n",
    "f'(x) "
   ]
  },
  {
   "cell_type": "markdown",
   "metadata": {
    "slideshow": {
     "slide_type": "slide"
    }
   },
   "source": [
    "## Product rule\n",
    "\n",
    "Given functions $p$ and $q$ that are differentiable at $x$ and with $f(x)=p(x)\\cdot q(x)$ we have that the derivative is, \n",
    "\n",
    "$$\n",
    "f^{\\prime } (x)=p^{\\prime } (x)\\cdot q(x)+p(x)\\cdot q^{\\prime } (x)\n",
    "$$\n",
    "\n",
    "Consider the following example, find derivative of $f(x) = (x^2+2)(3x^3−5x)$ by applying the product rule. "
   ]
  },
  {
   "cell_type": "markdown",
   "metadata": {
    "slideshow": {
     "slide_type": "slide"
    }
   },
   "source": [
    "## Product rule\n",
    "\n",
    "First, set $p(x)=x2+2$ and $q(x)=3x3−5x$.\n",
    "\n",
    "Then $p'(x)=2x$ and $q'(x)=9x2−5$ and therefore, \n",
    "\n",
    "$$\n",
    "f'(x)=p'(x)q(x)+q'(x)p(x)=(2x)(3x^3−5x)+(9x^2−5)(x^2+2)\n",
    "$$\n",
    "\n",
    "If we simplify this we have $f'(x) = 15x4+3x2−10$"
   ]
  },
  {
   "cell_type": "markdown",
   "metadata": {
    "slideshow": {
     "slide_type": "slide"
    }
   },
   "source": [
    "## Product rule"
   ]
  },
  {
   "cell_type": "code",
   "execution_count": 35,
   "metadata": {
    "slideshow": {
     "slide_type": "fragment"
    }
   },
   "outputs": [
    {
     "data": {
      "text/latex": [
       "\\begin{equation}\n",
       "\\mathrm{\\frac{d}{d x}}\\left( \\left( 2 + x^{2} \\right) \\left( 3 x^{3} - 5 x \\right) \\right)\n",
       "\\end{equation}\n"
      ],
      "text/plain": [
       "Differential(x)((2 + x^2)*(3(x^3) - 5x))"
      ]
     },
     "execution_count": 35,
     "metadata": {},
     "output_type": "execute_result"
    }
   ],
   "source": [
    "y = (x^2 + 2)*(3x^3 − 5x)\n",
    "D(y)"
   ]
  },
  {
   "cell_type": "code",
   "execution_count": 36,
   "metadata": {
    "slideshow": {
     "slide_type": "fragment"
    }
   },
   "outputs": [
    {
     "data": {
      "text/latex": [
       "\\begin{equation}\n",
       "\\left( 2 + x^{2} \\right) \\left( -5 + 9 x^{2} \\right) + 2 x \\left( 3 x^{3} - 5 x \\right)\n",
       "\\end{equation}\n"
      ],
      "text/plain": [
       "(2 + x^2)*(9(x^2) - 5) + 2x*(3(x^3) - 5x)"
      ]
     },
     "execution_count": 36,
     "metadata": {},
     "output_type": "execute_result"
    }
   ],
   "source": [
    "expand_derivatives(D(y))"
   ]
  },
  {
   "cell_type": "code",
   "execution_count": 37,
   "metadata": {
    "slideshow": {
     "slide_type": "fragment"
    }
   },
   "outputs": [
    {
     "data": {
      "text/latex": [
       "\\begin{equation}\n",
       "-10 - 5 x^{2} + 2 x \\left( 3 x^{3} - 5 x \\right) + 3 x^{2} \\left( 6 + 3 x^{2} \\right)\n",
       "\\end{equation}\n"
      ],
      "text/plain": [
       "2x*(3(x^3) - 5x) + 3(x^2)*(6 + 3(x^2)) - 10 - 5(x^2)"
      ]
     },
     "execution_count": 37,
     "metadata": {},
     "output_type": "execute_result"
    }
   ],
   "source": [
    "f(x) = (x^2 + 2)*(3x^3 − 5x)\n",
    "f'(x) "
   ]
  },
  {
   "cell_type": "markdown",
   "metadata": {
    "slideshow": {
     "slide_type": "slide"
    }
   },
   "source": [
    "## Exponential\n",
    "\n",
    "The exponential function is used a lot in economics. \n",
    "\n",
    "We will often have functions such as $f(x) = \\exp(a \\cdot x)$. \n",
    "\n",
    "The derivative in this case is given by, \n",
    "\n",
    "$$\n",
    "f'(x) = a \\cdot \\exp(a \\cdot x)\n",
    "$$\n"
   ]
  },
  {
   "cell_type": "markdown",
   "metadata": {
    "slideshow": {
     "slide_type": "slide"
    }
   },
   "source": [
    "## Logarithm\n",
    "\n",
    "Finally, we have the derivative of a log function, which is used almost everywhere in economics. \n",
    "\n",
    "If we have the function $f(x) = \\log(x)$ then the derivative is given by, \n",
    "\n",
    "$$\n",
    "f'(x) = 1 / x\n",
    "$$"
   ]
  },
  {
   "cell_type": "markdown",
   "metadata": {
    "slideshow": {
     "slide_type": "slide"
    }
   },
   "source": [
    "## Higher order derivatives\n",
    "\n",
    "With these rules you should be able to tackle most problems that involve derivatives.\n",
    "\n",
    "These derivatives that we calculated were first order derivatives.\n",
    "\n",
    "We can actually take the derivative again with respect to the variable of interest and then we would have **second order derivatives**. \n",
    "\n",
    "The second order derivative is then a derivative of the first order derivative. \n",
    "\n",
    "While the first order derivative provides a rate of change (often a slope of a tangent line), the second order derivative gives us information on the rate of change of the rate of change. "
   ]
  },
  {
   "cell_type": "markdown",
   "metadata": {
    "slideshow": {
     "slide_type": "slide"
    }
   },
   "source": [
    "## Conditions for local maxima\n",
    "\n",
    "Previously we looked at the definitions for global and local maxima.\n",
    "\n",
    "In the univariate case the first and second order necessary condition for a local maxima is the following,  \n",
    "\n",
    "1. **FONC:** $f'(x^*) =0$\n",
    "2. **SONC** $f''(x^*) \\leq 0$ (and $f''(x^*) \\geq 0$ for local minima)\n",
    "2. (**SOSC** $f''(x^*) < 0$ (and $f''(x^*) > 0$ for local minima))"
   ]
  },
  {
   "cell_type": "markdown",
   "metadata": {
    "slideshow": {
     "slide_type": "slide"
    }
   },
   "source": [
    "## Local maxima\n",
    "\n",
    "An easier way to determine the turning points for functions to use the first and second order conditions.\n",
    "\n",
    "Say that we want to determine the minima and maxima of the following function,\n",
    "\n",
    "$$\n",
    "f(x) = 200 - 30x + 8x^2 - 1/2x^3\n",
    "$$\n",
    "\n",
    "How would we do this? \n",
    "\n",
    "First let us plot the function to see what it looks like. "
   ]
  },
  {
   "cell_type": "markdown",
   "metadata": {
    "slideshow": {
     "slide_type": "slide"
    }
   },
   "source": [
    "## Function plot"
   ]
  },
  {
   "cell_type": "code",
   "execution_count": 38,
   "metadata": {
    "slideshow": {
     "slide_type": "fragment"
    }
   },
   "outputs": [
    {
     "data": {
      "image/svg+xml": [
       "<?xml version=\"1.0\" encoding=\"utf-8\"?>\n",
       "<svg xmlns=\"http://www.w3.org/2000/svg\" xmlns:xlink=\"http://www.w3.org/1999/xlink\" width=\"600\" height=\"400\" viewBox=\"0 0 2400 1600\">\n",
       "<defs>\n",
       "  <clipPath id=\"clip760\">\n",
       "    <rect x=\"0\" y=\"0\" width=\"2400\" height=\"1600\"/>\n",
       "  </clipPath>\n",
       "</defs>\n",
       "<path clip-path=\"url(#clip760)\" d=\"\n",
       "M0 1600 L2400 1600 L2400 0 L0 0  Z\n",
       "  \" fill=\"#ffffff\" fill-rule=\"evenodd\" fill-opacity=\"1\"/>\n",
       "<defs>\n",
       "  <clipPath id=\"clip761\">\n",
       "    <rect x=\"480\" y=\"0\" width=\"1681\" height=\"1600\"/>\n",
       "  </clipPath>\n",
       "</defs>\n",
       "<path clip-path=\"url(#clip760)\" d=\"\n",
       "M170.857 1486.45 L2352.76 1486.45 L2352.76 47.2441 L170.857 47.2441  Z\n",
       "  \" fill=\"#ffffff\" fill-rule=\"evenodd\" fill-opacity=\"1\"/>\n",
       "<defs>\n",
       "  <clipPath id=\"clip762\">\n",
       "    <rect x=\"170\" y=\"47\" width=\"2183\" height=\"1440\"/>\n",
       "  </clipPath>\n",
       "</defs>\n",
       "<polyline clip-path=\"url(#clip762)\" style=\"stroke:#000000; stroke-linecap:butt; stroke-linejoin:round; stroke-width:2; stroke-opacity:0.1; fill:none\" points=\"\n",
       "  232.609,1486.45 232.609,47.2441 \n",
       "  \"/>\n",
       "<polyline clip-path=\"url(#clip762)\" style=\"stroke:#000000; stroke-linecap:butt; stroke-linejoin:round; stroke-width:2; stroke-opacity:0.1; fill:none\" points=\"\n",
       "  661.442,1486.45 661.442,47.2441 \n",
       "  \"/>\n",
       "<polyline clip-path=\"url(#clip762)\" style=\"stroke:#000000; stroke-linecap:butt; stroke-linejoin:round; stroke-width:2; stroke-opacity:0.1; fill:none\" points=\"\n",
       "  1090.27,1486.45 1090.27,47.2441 \n",
       "  \"/>\n",
       "<polyline clip-path=\"url(#clip762)\" style=\"stroke:#000000; stroke-linecap:butt; stroke-linejoin:round; stroke-width:2; stroke-opacity:0.1; fill:none\" points=\"\n",
       "  1519.11,1486.45 1519.11,47.2441 \n",
       "  \"/>\n",
       "<polyline clip-path=\"url(#clip762)\" style=\"stroke:#000000; stroke-linecap:butt; stroke-linejoin:round; stroke-width:2; stroke-opacity:0.1; fill:none\" points=\"\n",
       "  1947.94,1486.45 1947.94,47.2441 \n",
       "  \"/>\n",
       "<polyline clip-path=\"url(#clip760)\" style=\"stroke:#000000; stroke-linecap:butt; stroke-linejoin:round; stroke-width:4; stroke-opacity:1; fill:none\" points=\"\n",
       "  170.857,1486.45 2352.76,1486.45 \n",
       "  \"/>\n",
       "<polyline clip-path=\"url(#clip760)\" style=\"stroke:#000000; stroke-linecap:butt; stroke-linejoin:round; stroke-width:4; stroke-opacity:1; fill:none\" points=\"\n",
       "  232.609,1486.45 232.609,1467.55 \n",
       "  \"/>\n",
       "<polyline clip-path=\"url(#clip760)\" style=\"stroke:#000000; stroke-linecap:butt; stroke-linejoin:round; stroke-width:4; stroke-opacity:1; fill:none\" points=\"\n",
       "  661.442,1486.45 661.442,1467.55 \n",
       "  \"/>\n",
       "<polyline clip-path=\"url(#clip760)\" style=\"stroke:#000000; stroke-linecap:butt; stroke-linejoin:round; stroke-width:4; stroke-opacity:1; fill:none\" points=\"\n",
       "  1090.27,1486.45 1090.27,1467.55 \n",
       "  \"/>\n",
       "<polyline clip-path=\"url(#clip760)\" style=\"stroke:#000000; stroke-linecap:butt; stroke-linejoin:round; stroke-width:4; stroke-opacity:1; fill:none\" points=\"\n",
       "  1519.11,1486.45 1519.11,1467.55 \n",
       "  \"/>\n",
       "<polyline clip-path=\"url(#clip760)\" style=\"stroke:#000000; stroke-linecap:butt; stroke-linejoin:round; stroke-width:4; stroke-opacity:1; fill:none\" points=\"\n",
       "  1947.94,1486.45 1947.94,1467.55 \n",
       "  \"/>\n",
       "<path clip-path=\"url(#clip760)\" d=\"M209.994 1517.37 Q206.383 1517.37 204.554 1520.93 Q202.748 1524.47 202.748 1531.6 Q202.748 1538.71 204.554 1542.27 Q206.383 1545.82 209.994 1545.82 Q213.628 1545.82 215.433 1542.27 Q217.262 1538.71 217.262 1531.6 Q217.262 1524.47 215.433 1520.93 Q213.628 1517.37 209.994 1517.37 M209.994 1513.66 Q215.804 1513.66 218.859 1518.27 Q221.938 1522.85 221.938 1531.6 Q221.938 1540.33 218.859 1544.94 Q215.804 1549.52 209.994 1549.52 Q204.183 1549.52 201.105 1544.94 Q198.049 1540.33 198.049 1531.6 Q198.049 1522.85 201.105 1518.27 Q204.183 1513.66 209.994 1513.66 Z\" fill=\"#000000\" fill-rule=\"evenodd\" fill-opacity=\"1\" /><path clip-path=\"url(#clip760)\" d=\"M230.156 1542.97 L235.04 1542.97 L235.04 1548.85 L230.156 1548.85 L230.156 1542.97 Z\" fill=\"#000000\" fill-rule=\"evenodd\" fill-opacity=\"1\" /><path clip-path=\"url(#clip760)\" d=\"M255.225 1517.37 Q251.614 1517.37 249.785 1520.93 Q247.98 1524.47 247.98 1531.6 Q247.98 1538.71 249.785 1542.27 Q251.614 1545.82 255.225 1545.82 Q258.859 1545.82 260.665 1542.27 Q262.493 1538.71 262.493 1531.6 Q262.493 1524.47 260.665 1520.93 Q258.859 1517.37 255.225 1517.37 M255.225 1513.66 Q261.035 1513.66 264.091 1518.27 Q267.169 1522.85 267.169 1531.6 Q267.169 1540.33 264.091 1544.94 Q261.035 1549.52 255.225 1549.52 Q249.415 1549.52 246.336 1544.94 Q243.281 1540.33 243.281 1531.6 Q243.281 1522.85 246.336 1518.27 Q249.415 1513.66 255.225 1513.66 Z\" fill=\"#000000\" fill-rule=\"evenodd\" fill-opacity=\"1\" /><path clip-path=\"url(#clip760)\" d=\"M633.178 1544.91 L649.497 1544.91 L649.497 1548.85 L627.553 1548.85 L627.553 1544.91 Q630.215 1542.16 634.798 1537.53 Q639.405 1532.88 640.585 1531.53 Q642.83 1529.01 643.71 1527.27 Q644.613 1525.51 644.613 1523.82 Q644.613 1521.07 642.668 1519.33 Q640.747 1517.6 637.645 1517.6 Q635.446 1517.6 632.993 1518.36 Q630.562 1519.13 627.784 1520.68 L627.784 1515.95 Q630.608 1514.82 633.062 1514.24 Q635.516 1513.66 637.553 1513.66 Q642.923 1513.66 646.118 1516.35 Q649.312 1519.03 649.312 1523.52 Q649.312 1525.65 648.502 1527.57 Q647.715 1529.47 645.608 1532.07 Q645.03 1532.74 641.928 1535.95 Q638.826 1539.15 633.178 1544.91 Z\" fill=\"#000000\" fill-rule=\"evenodd\" fill-opacity=\"1\" /><path clip-path=\"url(#clip760)\" d=\"M659.312 1542.97 L664.196 1542.97 L664.196 1548.85 L659.312 1548.85 L659.312 1542.97 Z\" fill=\"#000000\" fill-rule=\"evenodd\" fill-opacity=\"1\" /><path clip-path=\"url(#clip760)\" d=\"M674.428 1514.29 L692.784 1514.29 L692.784 1518.22 L678.71 1518.22 L678.71 1526.7 Q679.728 1526.35 680.747 1526.19 Q681.765 1526 682.784 1526 Q688.571 1526 691.951 1529.17 Q695.33 1532.34 695.33 1537.76 Q695.33 1543.34 691.858 1546.44 Q688.386 1549.52 682.066 1549.52 Q679.89 1549.52 677.622 1549.15 Q675.377 1548.78 672.969 1548.04 L672.969 1543.34 Q675.053 1544.47 677.275 1545.03 Q679.497 1545.58 681.974 1545.58 Q685.978 1545.58 688.316 1543.48 Q690.654 1541.37 690.654 1537.76 Q690.654 1534.15 688.316 1532.04 Q685.978 1529.94 681.974 1529.94 Q680.099 1529.94 678.224 1530.35 Q676.372 1530.77 674.428 1531.65 L674.428 1514.29 Z\" fill=\"#000000\" fill-rule=\"evenodd\" fill-opacity=\"1\" /><path clip-path=\"url(#clip760)\" d=\"M1057.44 1514.29 L1075.79 1514.29 L1075.79 1518.22 L1061.72 1518.22 L1061.72 1526.7 Q1062.74 1526.35 1063.76 1526.19 Q1064.78 1526 1065.79 1526 Q1071.58 1526 1074.96 1529.17 Q1078.34 1532.34 1078.34 1537.76 Q1078.34 1543.34 1074.87 1546.44 Q1071.4 1549.52 1065.08 1549.52 Q1062.9 1549.52 1060.63 1549.15 Q1058.39 1548.78 1055.98 1548.04 L1055.98 1543.34 Q1058.06 1544.47 1060.29 1545.03 Q1062.51 1545.58 1064.98 1545.58 Q1068.99 1545.58 1071.33 1543.48 Q1073.67 1541.37 1073.67 1537.76 Q1073.67 1534.15 1071.33 1532.04 Q1068.99 1529.94 1064.98 1529.94 Q1063.11 1529.94 1061.23 1530.35 Q1059.38 1530.77 1057.44 1531.65 L1057.44 1514.29 Z\" fill=\"#000000\" fill-rule=\"evenodd\" fill-opacity=\"1\" /><path clip-path=\"url(#clip760)\" d=\"M1087.55 1542.97 L1092.44 1542.97 L1092.44 1548.85 L1087.55 1548.85 L1087.55 1542.97 Z\" fill=\"#000000\" fill-rule=\"evenodd\" fill-opacity=\"1\" /><path clip-path=\"url(#clip760)\" d=\"M1112.62 1517.37 Q1109.01 1517.37 1107.18 1520.93 Q1105.38 1524.47 1105.38 1531.6 Q1105.38 1538.71 1107.18 1542.27 Q1109.01 1545.82 1112.62 1545.82 Q1116.26 1545.82 1118.06 1542.27 Q1119.89 1538.71 1119.89 1531.6 Q1119.89 1524.47 1118.06 1520.93 Q1116.26 1517.37 1112.62 1517.37 M1112.62 1513.66 Q1118.43 1513.66 1121.49 1518.27 Q1124.57 1522.85 1124.57 1531.6 Q1124.57 1540.33 1121.49 1544.94 Q1118.43 1549.52 1112.62 1549.52 Q1106.81 1549.52 1103.73 1544.94 Q1100.68 1540.33 1100.68 1531.6 Q1100.68 1522.85 1103.73 1518.27 Q1106.81 1513.66 1112.62 1513.66 Z\" fill=\"#000000\" fill-rule=\"evenodd\" fill-opacity=\"1\" /><path clip-path=\"url(#clip760)\" d=\"M1485.43 1514.29 L1507.65 1514.29 L1507.65 1516.28 L1495.1 1548.85 L1490.22 1548.85 L1502.02 1518.22 L1485.43 1518.22 L1485.43 1514.29 Z\" fill=\"#000000\" fill-rule=\"evenodd\" fill-opacity=\"1\" /><path clip-path=\"url(#clip760)\" d=\"M1516.77 1542.97 L1521.65 1542.97 L1521.65 1548.85 L1516.77 1548.85 L1516.77 1542.97 Z\" fill=\"#000000\" fill-rule=\"evenodd\" fill-opacity=\"1\" /><path clip-path=\"url(#clip760)\" d=\"M1531.88 1514.29 L1550.24 1514.29 L1550.24 1518.22 L1536.17 1518.22 L1536.17 1526.7 Q1537.18 1526.35 1538.2 1526.19 Q1539.22 1526 1540.24 1526 Q1546.03 1526 1549.41 1529.17 Q1552.79 1532.34 1552.79 1537.76 Q1552.79 1543.34 1549.31 1546.44 Q1545.84 1549.52 1539.52 1549.52 Q1537.35 1549.52 1535.08 1549.15 Q1532.83 1548.78 1530.43 1548.04 L1530.43 1543.34 Q1532.51 1544.47 1534.73 1545.03 Q1536.95 1545.58 1539.43 1545.58 Q1543.43 1545.58 1545.77 1543.48 Q1548.11 1541.37 1548.11 1537.76 Q1548.11 1534.15 1545.77 1532.04 Q1543.43 1529.94 1539.43 1529.94 Q1537.55 1529.94 1535.68 1530.35 Q1533.83 1530.77 1531.88 1531.65 L1531.88 1514.29 Z\" fill=\"#000000\" fill-rule=\"evenodd\" fill-opacity=\"1\" /><path clip-path=\"url(#clip760)\" d=\"M1900.01 1544.91 L1907.65 1544.91 L1907.65 1518.55 L1899.34 1520.21 L1899.34 1515.95 L1907.6 1514.29 L1912.28 1514.29 L1912.28 1544.91 L1919.92 1544.91 L1919.92 1548.85 L1900.01 1548.85 L1900.01 1544.91 Z\" fill=\"#000000\" fill-rule=\"evenodd\" fill-opacity=\"1\" /><path clip-path=\"url(#clip760)\" d=\"M1939.36 1517.37 Q1935.75 1517.37 1933.92 1520.93 Q1932.12 1524.47 1932.12 1531.6 Q1932.12 1538.71 1933.92 1542.27 Q1935.75 1545.82 1939.36 1545.82 Q1943 1545.82 1944.8 1542.27 Q1946.63 1538.71 1946.63 1531.6 Q1946.63 1524.47 1944.8 1520.93 Q1943 1517.37 1939.36 1517.37 M1939.36 1513.66 Q1945.17 1513.66 1948.23 1518.27 Q1951.31 1522.85 1951.31 1531.6 Q1951.31 1540.33 1948.23 1544.94 Q1945.17 1549.52 1939.36 1549.52 Q1933.55 1549.52 1930.47 1544.94 Q1927.42 1540.33 1927.42 1531.6 Q1927.42 1522.85 1930.47 1518.27 Q1933.55 1513.66 1939.36 1513.66 Z\" fill=\"#000000\" fill-rule=\"evenodd\" fill-opacity=\"1\" /><path clip-path=\"url(#clip760)\" d=\"M1959.52 1542.97 L1964.41 1542.97 L1964.41 1548.85 L1959.52 1548.85 L1959.52 1542.97 Z\" fill=\"#000000\" fill-rule=\"evenodd\" fill-opacity=\"1\" /><path clip-path=\"url(#clip760)\" d=\"M1984.59 1517.37 Q1980.98 1517.37 1979.15 1520.93 Q1977.35 1524.47 1977.35 1531.6 Q1977.35 1538.71 1979.15 1542.27 Q1980.98 1545.82 1984.59 1545.82 Q1988.23 1545.82 1990.03 1542.27 Q1991.86 1538.71 1991.86 1531.6 Q1991.86 1524.47 1990.03 1520.93 Q1988.23 1517.37 1984.59 1517.37 M1984.59 1513.66 Q1990.4 1513.66 1993.46 1518.27 Q1996.54 1522.85 1996.54 1531.6 Q1996.54 1540.33 1993.46 1544.94 Q1990.4 1549.52 1984.59 1549.52 Q1978.78 1549.52 1975.7 1544.94 Q1972.65 1540.33 1972.65 1531.6 Q1972.65 1522.85 1975.7 1518.27 Q1978.78 1513.66 1984.59 1513.66 Z\" fill=\"#000000\" fill-rule=\"evenodd\" fill-opacity=\"1\" /><polyline clip-path=\"url(#clip762)\" style=\"stroke:#000000; stroke-linecap:butt; stroke-linejoin:round; stroke-width:2; stroke-opacity:0.1; fill:none\" points=\"\n",
       "  170.857,1260.89 2352.76,1260.89 \n",
       "  \"/>\n",
       "<polyline clip-path=\"url(#clip762)\" style=\"stroke:#000000; stroke-linecap:butt; stroke-linejoin:round; stroke-width:2; stroke-opacity:0.1; fill:none\" points=\"\n",
       "  170.857,952.836 2352.76,952.836 \n",
       "  \"/>\n",
       "<polyline clip-path=\"url(#clip762)\" style=\"stroke:#000000; stroke-linecap:butt; stroke-linejoin:round; stroke-width:2; stroke-opacity:0.1; fill:none\" points=\"\n",
       "  170.857,644.787 2352.76,644.787 \n",
       "  \"/>\n",
       "<polyline clip-path=\"url(#clip762)\" style=\"stroke:#000000; stroke-linecap:butt; stroke-linejoin:round; stroke-width:2; stroke-opacity:0.1; fill:none\" points=\"\n",
       "  170.857,336.737 2352.76,336.737 \n",
       "  \"/>\n",
       "<polyline clip-path=\"url(#clip760)\" style=\"stroke:#000000; stroke-linecap:butt; stroke-linejoin:round; stroke-width:4; stroke-opacity:1; fill:none\" points=\"\n",
       "  170.857,1486.45 170.857,47.2441 \n",
       "  \"/>\n",
       "<polyline clip-path=\"url(#clip760)\" style=\"stroke:#000000; stroke-linecap:butt; stroke-linejoin:round; stroke-width:4; stroke-opacity:1; fill:none\" points=\"\n",
       "  170.857,1260.89 189.755,1260.89 \n",
       "  \"/>\n",
       "<polyline clip-path=\"url(#clip760)\" style=\"stroke:#000000; stroke-linecap:butt; stroke-linejoin:round; stroke-width:4; stroke-opacity:1; fill:none\" points=\"\n",
       "  170.857,952.836 189.755,952.836 \n",
       "  \"/>\n",
       "<polyline clip-path=\"url(#clip760)\" style=\"stroke:#000000; stroke-linecap:butt; stroke-linejoin:round; stroke-width:4; stroke-opacity:1; fill:none\" points=\"\n",
       "  170.857,644.787 189.755,644.787 \n",
       "  \"/>\n",
       "<polyline clip-path=\"url(#clip760)\" style=\"stroke:#000000; stroke-linecap:butt; stroke-linejoin:round; stroke-width:4; stroke-opacity:1; fill:none\" points=\"\n",
       "  170.857,336.737 189.755,336.737 \n",
       "  \"/>\n",
       "<path clip-path=\"url(#clip760)\" d=\"M53.3995 1274.23 L61.0384 1274.23 L61.0384 1247.87 L52.7282 1249.53 L52.7282 1245.27 L60.9921 1243.61 L65.668 1243.61 L65.668 1274.23 L73.3068 1274.23 L73.3068 1278.17 L53.3995 1278.17 L53.3995 1274.23 Z\" fill=\"#000000\" fill-rule=\"evenodd\" fill-opacity=\"1\" /><path clip-path=\"url(#clip760)\" d=\"M95.5984 1247.68 L83.7929 1266.13 L95.5984 1266.13 L95.5984 1247.68 M94.3715 1243.61 L100.251 1243.61 L100.251 1266.13 L105.182 1266.13 L105.182 1270.02 L100.251 1270.02 L100.251 1278.17 L95.5984 1278.17 L95.5984 1270.02 L79.9966 1270.02 L79.9966 1265.5 L94.3715 1243.61 Z\" fill=\"#000000\" fill-rule=\"evenodd\" fill-opacity=\"1\" /><path clip-path=\"url(#clip760)\" d=\"M122.913 1246.68 Q119.302 1246.68 117.473 1250.25 Q115.668 1253.79 115.668 1260.92 Q115.668 1268.03 117.473 1271.59 Q119.302 1275.13 122.913 1275.13 Q126.547 1275.13 128.353 1271.59 Q130.182 1268.03 130.182 1260.92 Q130.182 1253.79 128.353 1250.25 Q126.547 1246.68 122.913 1246.68 M122.913 1242.98 Q128.723 1242.98 131.779 1247.59 Q134.857 1252.17 134.857 1260.92 Q134.857 1269.65 131.779 1274.25 Q128.723 1278.84 122.913 1278.84 Q117.103 1278.84 114.024 1274.25 Q110.969 1269.65 110.969 1260.92 Q110.969 1252.17 114.024 1247.59 Q117.103 1242.98 122.913 1242.98 Z\" fill=\"#000000\" fill-rule=\"evenodd\" fill-opacity=\"1\" /><path clip-path=\"url(#clip760)\" d=\"M53.3995 966.181 L61.0384 966.181 L61.0384 939.815 L52.7282 941.482 L52.7282 937.223 L60.9921 935.556 L65.668 935.556 L65.668 966.181 L73.3068 966.181 L73.3068 970.116 L53.3995 970.116 L53.3995 966.181 Z\" fill=\"#000000\" fill-rule=\"evenodd\" fill-opacity=\"1\" /><path clip-path=\"url(#clip760)\" d=\"M93.3299 950.973 Q90.1817 950.973 88.3299 953.126 Q86.5012 955.278 86.5012 959.028 Q86.5012 962.755 88.3299 964.931 Q90.1817 967.084 93.3299 967.084 Q96.478 967.084 98.3067 964.931 Q100.159 962.755 100.159 959.028 Q100.159 955.278 98.3067 953.126 Q96.478 950.973 93.3299 950.973 M102.612 936.32 L102.612 940.579 Q100.853 939.746 99.0474 939.306 Q97.265 938.866 95.5058 938.866 Q90.8762 938.866 88.4225 941.991 Q85.9919 945.116 85.6447 951.436 Q87.0105 949.422 89.0706 948.357 Q91.1308 947.269 93.6076 947.269 Q98.8159 947.269 101.825 950.44 Q104.858 953.589 104.858 959.028 Q104.858 964.352 101.709 967.57 Q98.5613 970.788 93.3299 970.788 Q87.3345 970.788 84.1632 966.204 Q80.992 961.598 80.992 952.871 Q80.992 944.677 84.8808 939.815 Q88.7697 934.931 95.3206 934.931 Q97.0798 934.931 98.8622 935.278 Q100.668 935.626 102.612 936.32 Z\" fill=\"#000000\" fill-rule=\"evenodd\" fill-opacity=\"1\" /><path clip-path=\"url(#clip760)\" d=\"M122.913 938.635 Q119.302 938.635 117.473 942.2 Q115.668 945.741 115.668 952.871 Q115.668 959.977 117.473 963.542 Q119.302 967.084 122.913 967.084 Q126.547 967.084 128.353 963.542 Q130.182 959.977 130.182 952.871 Q130.182 945.741 128.353 942.2 Q126.547 938.635 122.913 938.635 M122.913 934.931 Q128.723 934.931 131.779 939.538 Q134.857 944.121 134.857 952.871 Q134.857 961.598 131.779 966.204 Q128.723 970.788 122.913 970.788 Q117.103 970.788 114.024 966.204 Q110.969 961.598 110.969 952.871 Q110.969 944.121 114.024 939.538 Q117.103 934.931 122.913 934.931 Z\" fill=\"#000000\" fill-rule=\"evenodd\" fill-opacity=\"1\" /><path clip-path=\"url(#clip760)\" d=\"M53.3995 658.131 L61.0384 658.131 L61.0384 631.766 L52.7282 633.432 L52.7282 629.173 L60.9921 627.507 L65.668 627.507 L65.668 658.131 L73.3068 658.131 L73.3068 662.067 L53.3995 662.067 L53.3995 658.131 Z\" fill=\"#000000\" fill-rule=\"evenodd\" fill-opacity=\"1\" /><path clip-path=\"url(#clip760)\" d=\"M92.7512 645.655 Q89.4178 645.655 87.4966 647.437 Q85.5984 649.219 85.5984 652.344 Q85.5984 655.469 87.4966 657.252 Q89.4178 659.034 92.7512 659.034 Q96.0845 659.034 98.0058 657.252 Q99.927 655.446 99.927 652.344 Q99.927 649.219 98.0058 647.437 Q96.1076 645.655 92.7512 645.655 M88.0753 643.664 Q85.066 642.923 83.3762 640.863 Q81.7096 638.803 81.7096 635.84 Q81.7096 631.696 84.6494 629.289 Q87.6123 626.882 92.7512 626.882 Q97.9132 626.882 100.853 629.289 Q103.793 631.696 103.793 635.84 Q103.793 638.803 102.103 640.863 Q100.436 642.923 97.4502 643.664 Q100.83 644.451 102.705 646.743 Q104.603 649.034 104.603 652.344 Q104.603 657.368 101.524 660.053 Q98.4687 662.738 92.7512 662.738 Q87.0336 662.738 83.9549 660.053 Q80.8994 657.368 80.8994 652.344 Q80.8994 649.034 82.7975 646.743 Q84.6956 644.451 88.0753 643.664 M86.3623 636.28 Q86.3623 638.965 88.029 640.469 Q89.7188 641.974 92.7512 641.974 Q95.7604 641.974 97.4502 640.469 Q99.1632 638.965 99.1632 636.28 Q99.1632 633.595 97.4502 632.09 Q95.7604 630.585 92.7512 630.585 Q89.7188 630.585 88.029 632.09 Q86.3623 633.595 86.3623 636.28 Z\" fill=\"#000000\" fill-rule=\"evenodd\" fill-opacity=\"1\" /><path clip-path=\"url(#clip760)\" d=\"M122.913 630.585 Q119.302 630.585 117.473 634.15 Q115.668 637.692 115.668 644.821 Q115.668 651.928 117.473 655.493 Q119.302 659.034 122.913 659.034 Q126.547 659.034 128.353 655.493 Q130.182 651.928 130.182 644.821 Q130.182 637.692 128.353 634.15 Q126.547 630.585 122.913 630.585 M122.913 626.882 Q128.723 626.882 131.779 631.488 Q134.857 636.071 134.857 644.821 Q134.857 653.548 131.779 658.155 Q128.723 662.738 122.913 662.738 Q117.103 662.738 114.024 658.155 Q110.969 653.548 110.969 644.821 Q110.969 636.071 114.024 631.488 Q117.103 626.882 122.913 626.882 Z\" fill=\"#000000\" fill-rule=\"evenodd\" fill-opacity=\"1\" /><path clip-path=\"url(#clip760)\" d=\"M56.6171 350.082 L72.9365 350.082 L72.9365 354.017 L50.9921 354.017 L50.9921 350.082 Q53.6541 347.327 58.2375 342.698 Q62.8439 338.045 64.0245 336.702 Q66.2698 334.179 67.1494 332.443 Q68.0522 330.684 68.0522 328.994 Q68.0522 326.239 66.1078 324.503 Q64.1865 322.767 61.0847 322.767 Q58.8856 322.767 56.4319 323.531 Q54.0014 324.295 51.2236 325.846 L51.2236 321.124 Q54.0477 319.989 56.5014 319.411 Q58.955 318.832 60.9921 318.832 Q66.3624 318.832 69.5568 321.517 Q72.7513 324.202 72.7513 328.693 Q72.7513 330.823 71.9411 332.744 Q71.1541 334.642 69.0476 337.235 Q68.4689 337.906 65.367 341.123 Q62.2652 344.318 56.6171 350.082 Z\" fill=\"#000000\" fill-rule=\"evenodd\" fill-opacity=\"1\" /><path clip-path=\"url(#clip760)\" d=\"M92.7512 322.536 Q89.1401 322.536 87.3114 326.1 Q85.5058 329.642 85.5058 336.772 Q85.5058 343.878 87.3114 347.443 Q89.1401 350.985 92.7512 350.985 Q96.3854 350.985 98.1909 347.443 Q100.02 343.878 100.02 336.772 Q100.02 329.642 98.1909 326.1 Q96.3854 322.536 92.7512 322.536 M92.7512 318.832 Q98.5613 318.832 101.617 323.438 Q104.696 328.022 104.696 336.772 Q104.696 345.498 101.617 350.105 Q98.5613 354.688 92.7512 354.688 Q86.941 354.688 83.8623 350.105 Q80.8068 345.498 80.8068 336.772 Q80.8068 328.022 83.8623 323.438 Q86.941 318.832 92.7512 318.832 Z\" fill=\"#000000\" fill-rule=\"evenodd\" fill-opacity=\"1\" /><path clip-path=\"url(#clip760)\" d=\"M122.913 322.536 Q119.302 322.536 117.473 326.1 Q115.668 329.642 115.668 336.772 Q115.668 343.878 117.473 347.443 Q119.302 350.985 122.913 350.985 Q126.547 350.985 128.353 347.443 Q130.182 343.878 130.182 336.772 Q130.182 329.642 128.353 326.1 Q126.547 322.536 122.913 322.536 M122.913 318.832 Q128.723 318.832 131.779 323.438 Q134.857 328.022 134.857 336.772 Q134.857 345.498 131.779 350.105 Q128.723 354.688 122.913 354.688 Q117.103 354.688 114.024 350.105 Q110.969 345.498 110.969 336.772 Q110.969 328.022 114.024 323.438 Q117.103 318.832 122.913 318.832 Z\" fill=\"#000000\" fill-rule=\"evenodd\" fill-opacity=\"1\" /><polyline clip-path=\"url(#clip762)\" style=\"stroke:#009af9; stroke-linecap:butt; stroke-linejoin:round; stroke-width:8; stroke-opacity:1; fill:none\" points=\"\n",
       "  232.609,336.737 237.635,350.169 242.66,363.391 247.686,376.403 252.711,389.208 299.179,497.954 345.647,589.931 392.115,666.058 438.582,727.253 466.508,757.229 \n",
       "  494.433,782.343 522.358,802.795 550.283,818.784 597.504,836.225 644.725,842.44 696.02,837.593 747.315,821.872 794.604,798.81 841.894,768.525 892.593,729.132 \n",
       "  943.293,683.742 1002.03,625.225 1060.77,562.113 1165.18,444.37 1256.73,342.223 1356.54,240.652 1456.95,157.738 1512.46,123.571 1567.97,99.7 1620.78,87.9763 \n",
       "  1673.6,88.34 1728.51,102.985 1783.42,133.673 1829.65,173.054 1875.88,225.782 1904.1,264.916 1932.31,309.566 1960.53,359.938 1988.75,416.238 2015.28,474.75 \n",
       "  2041.8,538.852 2068.33,608.716 2094.86,684.512 2137.35,818.736 2179.85,969.328 2222.35,1136.99 2264.84,1322.42 2271.38,1352.58 2277.92,1383.18 2284.46,1414.23 \n",
       "  2291,1445.72 \n",
       "  \"/>\n",
       "</svg>\n"
      ]
     },
     "execution_count": 38,
     "metadata": {},
     "output_type": "execute_result"
    }
   ],
   "source": [
    "f(x) = 200 - 30 * x + 8 * x^2 - 0.5 * x^3\n",
    "plot(f, 0, 12, lw = 2, legend = false)"
   ]
  },
  {
   "cell_type": "markdown",
   "metadata": {
    "slideshow": {
     "slide_type": "slide"
    }
   },
   "source": [
    "## Local maxima\n",
    "\n",
    "It appears from the graph that there are going to be two turning points.\n",
    "\n",
    "We want to calculate the local maximum in the interval $[0, 12]$.\n",
    "\n",
    "First we take the first order condition to find the place where the slope is zero.\n",
    "\n",
    "Then we look at the second order condition to determine if it is a maximum or minimum.\n",
    "\n",
    "For this we are going to be using a root finding package in Julia, called `Roots`."
   ]
  },
  {
   "cell_type": "markdown",
   "metadata": {
    "slideshow": {
     "slide_type": "slide"
    }
   },
   "source": [
    "## Local maxima"
   ]
  },
  {
   "cell_type": "code",
   "execution_count": 39,
   "metadata": {
    "slideshow": {
     "slide_type": "fragment"
    }
   },
   "outputs": [
    {
     "data": {
      "text/plain": [
       "2-element Vector{Float64}:\n",
       " 2.427400704306218\n",
       " 8.239265962360449"
      ]
     },
     "execution_count": 39,
     "metadata": {},
     "output_type": "execute_result"
    }
   ],
   "source": [
    "roots = find_zeros(f', (0, 12)) # we are essentially setting f'(x) = 0 with this package. "
   ]
  },
  {
   "cell_type": "code",
   "execution_count": 43,
   "metadata": {
    "slideshow": {
     "slide_type": "fragment"
    }
   },
   "outputs": [
    {
     "data": {
      "text/plain": [
       "(8.717797887081346, -8.717797887081346)"
      ]
     },
     "execution_count": 43,
     "metadata": {},
     "output_type": "execute_result"
    }
   ],
   "source": [
    "f''(roots[1]), f''(roots[2])"
   ]
  },
  {
   "cell_type": "markdown",
   "metadata": {
    "slideshow": {
     "slide_type": "fragment"
    }
   },
   "source": [
    "This first value is positive, so we don't believe that this is a maximum.  \n",
    "\n",
    "The second value is negative, so we believe that the second turning point is our maximum. "
   ]
  },
  {
   "cell_type": "markdown",
   "metadata": {
    "slideshow": {
     "slide_type": "slide"
    }
   },
   "source": [
    "## Function plot"
   ]
  },
  {
   "cell_type": "code",
   "execution_count": 40,
   "metadata": {
    "slideshow": {
     "slide_type": "fragment"
    }
   },
   "outputs": [
    {
     "data": {
      "image/svg+xml": [
       "<?xml version=\"1.0\" encoding=\"utf-8\"?>\n",
       "<svg xmlns=\"http://www.w3.org/2000/svg\" xmlns:xlink=\"http://www.w3.org/1999/xlink\" width=\"600\" height=\"400\" viewBox=\"0 0 2400 1600\">\n",
       "<defs>\n",
       "  <clipPath id=\"clip800\">\n",
       "    <rect x=\"0\" y=\"0\" width=\"2400\" height=\"1600\"/>\n",
       "  </clipPath>\n",
       "</defs>\n",
       "<path clip-path=\"url(#clip800)\" d=\"\n",
       "M0 1600 L2400 1600 L2400 0 L0 0  Z\n",
       "  \" fill=\"#ffffff\" fill-rule=\"evenodd\" fill-opacity=\"1\"/>\n",
       "<defs>\n",
       "  <clipPath id=\"clip801\">\n",
       "    <rect x=\"480\" y=\"0\" width=\"1681\" height=\"1600\"/>\n",
       "  </clipPath>\n",
       "</defs>\n",
       "<path clip-path=\"url(#clip800)\" d=\"\n",
       "M170.857 1486.45 L2352.76 1486.45 L2352.76 47.2441 L170.857 47.2441  Z\n",
       "  \" fill=\"#ffffff\" fill-rule=\"evenodd\" fill-opacity=\"1\"/>\n",
       "<defs>\n",
       "  <clipPath id=\"clip802\">\n",
       "    <rect x=\"170\" y=\"47\" width=\"2183\" height=\"1440\"/>\n",
       "  </clipPath>\n",
       "</defs>\n",
       "<polyline clip-path=\"url(#clip802)\" style=\"stroke:#000000; stroke-linecap:butt; stroke-linejoin:round; stroke-width:2; stroke-opacity:0.1; fill:none\" points=\"\n",
       "  648.988,1486.45 648.988,47.2441 \n",
       "  \"/>\n",
       "<polyline clip-path=\"url(#clip802)\" style=\"stroke:#000000; stroke-linecap:butt; stroke-linejoin:round; stroke-width:2; stroke-opacity:0.1; fill:none\" points=\"\n",
       "  1645.91,1486.45 1645.91,47.2441 \n",
       "  \"/>\n",
       "<polyline clip-path=\"url(#clip800)\" style=\"stroke:#000000; stroke-linecap:butt; stroke-linejoin:round; stroke-width:4; stroke-opacity:1; fill:none\" points=\"\n",
       "  170.857,1486.45 2352.76,1486.45 \n",
       "  \"/>\n",
       "<polyline clip-path=\"url(#clip800)\" style=\"stroke:#000000; stroke-linecap:butt; stroke-linejoin:round; stroke-width:4; stroke-opacity:1; fill:none\" points=\"\n",
       "  648.988,1486.45 648.988,1467.55 \n",
       "  \"/>\n",
       "<polyline clip-path=\"url(#clip800)\" style=\"stroke:#000000; stroke-linecap:butt; stroke-linejoin:round; stroke-width:4; stroke-opacity:1; fill:none\" points=\"\n",
       "  1645.91,1486.45 1645.91,1467.55 \n",
       "  \"/>\n",
       "<path clip-path=\"url(#clip800)\" d=\"M530.193 1544.91 L546.512 1544.91 L546.512 1548.85 L524.568 1548.85 L524.568 1544.91 Q527.23 1542.16 531.813 1537.53 Q536.42 1532.88 537.6 1531.53 Q539.845 1529.01 540.725 1527.27 Q541.628 1525.51 541.628 1523.82 Q541.628 1521.07 539.683 1519.33 Q537.762 1517.6 534.66 1517.6 Q532.461 1517.6 530.007 1518.36 Q527.577 1519.13 524.799 1520.68 L524.799 1515.95 Q527.623 1514.82 530.077 1514.24 Q532.531 1513.66 534.568 1513.66 Q539.938 1513.66 543.132 1516.35 Q546.327 1519.03 546.327 1523.52 Q546.327 1525.65 545.517 1527.57 Q544.73 1529.47 542.623 1532.07 Q542.044 1532.74 538.943 1535.95 Q535.841 1539.15 530.193 1544.91 Z\" fill=\"#000000\" fill-rule=\"evenodd\" fill-opacity=\"1\" /><path clip-path=\"url(#clip800)\" d=\"M556.327 1542.97 L561.211 1542.97 L561.211 1548.85 L556.327 1548.85 L556.327 1542.97 Z\" fill=\"#000000\" fill-rule=\"evenodd\" fill-opacity=\"1\" /><path clip-path=\"url(#clip800)\" d=\"M584.243 1518.36 L572.438 1536.81 L584.243 1536.81 L584.243 1518.36 M583.016 1514.29 L588.896 1514.29 L588.896 1536.81 L593.827 1536.81 L593.827 1540.7 L588.896 1540.7 L588.896 1548.85 L584.243 1548.85 L584.243 1540.7 L568.642 1540.7 L568.642 1536.19 L583.016 1514.29 Z\" fill=\"#000000\" fill-rule=\"evenodd\" fill-opacity=\"1\" /><path clip-path=\"url(#clip800)\" d=\"M605.586 1544.91 L621.905 1544.91 L621.905 1548.85 L599.961 1548.85 L599.961 1544.91 Q602.623 1542.16 607.206 1537.53 Q611.813 1532.88 612.993 1531.53 Q615.239 1529.01 616.118 1527.27 Q617.021 1525.51 617.021 1523.82 Q617.021 1521.07 615.076 1519.33 Q613.155 1517.6 610.053 1517.6 Q607.854 1517.6 605.401 1518.36 Q602.97 1519.13 600.192 1520.68 L600.192 1515.95 Q603.016 1514.82 605.47 1514.24 Q607.924 1513.66 609.961 1513.66 Q615.331 1513.66 618.526 1516.35 Q621.72 1519.03 621.72 1523.52 Q621.72 1525.65 620.91 1527.57 Q620.123 1529.47 618.016 1532.07 Q617.438 1532.74 614.336 1535.95 Q611.234 1539.15 605.586 1544.91 Z\" fill=\"#000000\" fill-rule=\"evenodd\" fill-opacity=\"1\" /><path clip-path=\"url(#clip800)\" d=\"M630.539 1514.29 L652.761 1514.29 L652.761 1516.28 L640.215 1548.85 L635.331 1548.85 L647.137 1518.22 L630.539 1518.22 L630.539 1514.29 Z\" fill=\"#000000\" fill-rule=\"evenodd\" fill-opacity=\"1\" /><path clip-path=\"url(#clip800)\" d=\"M674.729 1518.36 L662.923 1536.81 L674.729 1536.81 L674.729 1518.36 M673.502 1514.29 L679.382 1514.29 L679.382 1536.81 L684.312 1536.81 L684.312 1540.7 L679.382 1540.7 L679.382 1548.85 L674.729 1548.85 L674.729 1540.7 L659.127 1540.7 L659.127 1536.19 L673.502 1514.29 Z\" fill=\"#000000\" fill-rule=\"evenodd\" fill-opacity=\"1\" /><path clip-path=\"url(#clip800)\" d=\"M702.044 1517.37 Q698.433 1517.37 696.604 1520.93 Q694.798 1524.47 694.798 1531.6 Q694.798 1538.71 696.604 1542.27 Q698.433 1545.82 702.044 1545.82 Q705.678 1545.82 707.483 1542.27 Q709.312 1538.71 709.312 1531.6 Q709.312 1524.47 707.483 1520.93 Q705.678 1517.37 702.044 1517.37 M702.044 1513.66 Q707.854 1513.66 710.909 1518.27 Q713.988 1522.85 713.988 1531.6 Q713.988 1540.33 710.909 1544.94 Q707.854 1549.52 702.044 1549.52 Q696.233 1549.52 693.155 1544.94 Q690.099 1540.33 690.099 1531.6 Q690.099 1522.85 693.155 1518.27 Q696.233 1513.66 702.044 1513.66 Z\" fill=\"#000000\" fill-rule=\"evenodd\" fill-opacity=\"1\" /><path clip-path=\"url(#clip800)\" d=\"M732.205 1517.37 Q728.594 1517.37 726.766 1520.93 Q724.96 1524.47 724.96 1531.6 Q724.96 1538.71 726.766 1542.27 Q728.594 1545.82 732.205 1545.82 Q735.84 1545.82 737.645 1542.27 Q739.474 1538.71 739.474 1531.6 Q739.474 1524.47 737.645 1520.93 Q735.84 1517.37 732.205 1517.37 M732.205 1513.66 Q738.016 1513.66 741.071 1518.27 Q744.15 1522.85 744.15 1531.6 Q744.15 1540.33 741.071 1544.94 Q738.016 1549.52 732.205 1549.52 Q726.395 1549.52 723.317 1544.94 Q720.261 1540.33 720.261 1531.6 Q720.261 1522.85 723.317 1518.27 Q726.395 1513.66 732.205 1513.66 Z\" fill=\"#000000\" fill-rule=\"evenodd\" fill-opacity=\"1\" /><path clip-path=\"url(#clip800)\" d=\"M751.187 1514.29 L773.409 1514.29 L773.409 1516.28 L760.863 1548.85 L755.979 1548.85 L767.784 1518.22 L751.187 1518.22 L751.187 1514.29 Z\" fill=\"#000000\" fill-rule=\"evenodd\" fill-opacity=\"1\" /><path clip-path=\"url(#clip800)\" d=\"M1532.77 1532.44 Q1529.43 1532.44 1527.51 1534.22 Q1525.61 1536 1525.61 1539.13 Q1525.61 1542.25 1527.51 1544.03 Q1529.43 1545.82 1532.77 1545.82 Q1536.1 1545.82 1538.02 1544.03 Q1539.94 1542.23 1539.94 1539.13 Q1539.94 1536 1538.02 1534.22 Q1536.12 1532.44 1532.77 1532.44 M1528.09 1530.45 Q1525.08 1529.7 1523.39 1527.64 Q1521.73 1525.58 1521.73 1522.62 Q1521.73 1518.48 1524.67 1516.07 Q1527.63 1513.66 1532.77 1513.66 Q1537.93 1513.66 1540.87 1516.07 Q1543.81 1518.48 1543.81 1522.62 Q1543.81 1525.58 1542.12 1527.64 Q1540.45 1529.7 1537.47 1530.45 Q1540.85 1531.23 1542.72 1533.52 Q1544.62 1535.82 1544.62 1539.13 Q1544.62 1544.15 1541.54 1546.83 Q1538.48 1549.52 1532.77 1549.52 Q1527.05 1549.52 1523.97 1546.83 Q1520.92 1544.15 1520.92 1539.13 Q1520.92 1535.82 1522.81 1533.52 Q1524.71 1531.23 1528.09 1530.45 M1526.38 1523.06 Q1526.38 1525.75 1528.04 1527.25 Q1529.73 1528.76 1532.77 1528.76 Q1535.78 1528.76 1537.47 1527.25 Q1539.18 1525.75 1539.18 1523.06 Q1539.18 1520.38 1537.47 1518.87 Q1535.78 1517.37 1532.77 1517.37 Q1529.73 1517.37 1528.04 1518.87 Q1526.38 1520.38 1526.38 1523.06 Z\" fill=\"#000000\" fill-rule=\"evenodd\" fill-opacity=\"1\" /><path clip-path=\"url(#clip800)\" d=\"M1552.93 1542.97 L1557.81 1542.97 L1557.81 1548.85 L1552.93 1548.85 L1552.93 1542.97 Z\" fill=\"#000000\" fill-rule=\"evenodd\" fill-opacity=\"1\" /><path clip-path=\"url(#clip800)\" d=\"M1572.03 1544.91 L1588.35 1544.91 L1588.35 1548.85 L1566.4 1548.85 L1566.4 1544.91 Q1569.06 1542.16 1573.65 1537.53 Q1578.25 1532.88 1579.43 1531.53 Q1581.68 1529.01 1582.56 1527.27 Q1583.46 1525.51 1583.46 1523.82 Q1583.46 1521.07 1581.52 1519.33 Q1579.6 1517.6 1576.49 1517.6 Q1574.29 1517.6 1571.84 1518.36 Q1569.41 1519.13 1566.63 1520.68 L1566.63 1515.95 Q1569.46 1514.82 1571.91 1514.24 Q1574.36 1513.66 1576.4 1513.66 Q1581.77 1513.66 1584.97 1516.35 Q1588.16 1519.03 1588.16 1523.52 Q1588.16 1525.65 1587.35 1527.57 Q1586.56 1529.47 1584.46 1532.07 Q1583.88 1532.74 1580.78 1535.95 Q1577.67 1539.15 1572.03 1544.91 Z\" fill=\"#000000\" fill-rule=\"evenodd\" fill-opacity=\"1\" /><path clip-path=\"url(#clip800)\" d=\"M1612.33 1530.21 Q1615.68 1530.93 1617.56 1533.2 Q1619.46 1535.47 1619.46 1538.8 Q1619.46 1543.92 1615.94 1546.72 Q1612.42 1549.52 1605.94 1549.52 Q1603.76 1549.52 1601.45 1549.08 Q1599.16 1548.66 1596.7 1547.81 L1596.7 1543.29 Q1598.65 1544.43 1600.96 1545.01 Q1603.28 1545.58 1605.8 1545.58 Q1610.2 1545.58 1612.49 1543.85 Q1614.8 1542.11 1614.8 1538.8 Q1614.8 1535.75 1612.65 1534.03 Q1610.52 1532.3 1606.7 1532.3 L1602.67 1532.3 L1602.67 1528.45 L1606.89 1528.45 Q1610.34 1528.45 1612.16 1527.09 Q1613.99 1525.7 1613.99 1523.11 Q1613.99 1520.45 1612.1 1519.03 Q1610.22 1517.6 1606.7 1517.6 Q1604.78 1517.6 1602.58 1518.01 Q1600.38 1518.43 1597.74 1519.31 L1597.74 1515.14 Q1600.41 1514.4 1602.72 1514.03 Q1605.06 1513.66 1607.12 1513.66 Q1612.44 1513.66 1615.54 1516.09 Q1618.65 1518.5 1618.65 1522.62 Q1618.65 1525.49 1617 1527.48 Q1615.36 1529.45 1612.33 1530.21 Z\" fill=\"#000000\" fill-rule=\"evenodd\" fill-opacity=\"1\" /><path clip-path=\"url(#clip800)\" d=\"M1628.46 1548.13 L1628.46 1543.87 Q1630.22 1544.7 1632.03 1545.14 Q1633.83 1545.58 1635.57 1545.58 Q1640.2 1545.58 1642.63 1542.48 Q1645.08 1539.36 1645.43 1533.01 Q1644.09 1535.01 1642.03 1536.07 Q1639.97 1537.13 1637.47 1537.13 Q1632.28 1537.13 1629.25 1534.01 Q1626.24 1530.86 1626.24 1525.42 Q1626.24 1520.1 1629.39 1516.88 Q1632.53 1513.66 1637.77 1513.66 Q1643.76 1513.66 1646.91 1518.27 Q1650.08 1522.85 1650.08 1531.6 Q1650.08 1539.77 1646.19 1544.66 Q1642.33 1549.52 1635.78 1549.52 Q1634.02 1549.52 1632.21 1549.17 Q1630.41 1548.82 1628.46 1548.13 M1637.77 1533.48 Q1640.91 1533.48 1642.74 1531.32 Q1644.6 1529.17 1644.6 1525.42 Q1644.6 1521.7 1642.74 1519.54 Q1640.91 1517.37 1637.77 1517.37 Q1634.62 1517.37 1632.77 1519.54 Q1630.94 1521.7 1630.94 1525.42 Q1630.94 1529.17 1632.77 1531.32 Q1634.62 1533.48 1637.77 1533.48 Z\" fill=\"#000000\" fill-rule=\"evenodd\" fill-opacity=\"1\" /><path clip-path=\"url(#clip800)\" d=\"M1662.51 1544.91 L1678.83 1544.91 L1678.83 1548.85 L1656.89 1548.85 L1656.89 1544.91 Q1659.55 1542.16 1664.13 1537.53 Q1668.74 1532.88 1669.92 1531.53 Q1672.16 1529.01 1673.04 1527.27 Q1673.95 1525.51 1673.95 1523.82 Q1673.95 1521.07 1672 1519.33 Q1670.08 1517.6 1666.98 1517.6 Q1664.78 1517.6 1662.33 1518.36 Q1659.9 1519.13 1657.12 1520.68 L1657.12 1515.95 Q1659.94 1514.82 1662.4 1514.24 Q1664.85 1513.66 1666.89 1513.66 Q1672.26 1513.66 1675.45 1516.35 Q1678.65 1519.03 1678.65 1523.52 Q1678.65 1525.65 1677.84 1527.57 Q1677.05 1529.47 1674.94 1532.07 Q1674.36 1532.74 1671.26 1535.95 Q1668.16 1539.15 1662.51 1544.91 Z\" fill=\"#000000\" fill-rule=\"evenodd\" fill-opacity=\"1\" /><path clip-path=\"url(#clip800)\" d=\"M1699.22 1529.7 Q1696.08 1529.7 1694.22 1531.86 Q1692.4 1534.01 1692.4 1537.76 Q1692.4 1541.49 1694.22 1543.66 Q1696.08 1545.82 1699.22 1545.82 Q1702.37 1545.82 1704.2 1543.66 Q1706.05 1541.49 1706.05 1537.76 Q1706.05 1534.01 1704.2 1531.86 Q1702.37 1529.7 1699.22 1529.7 M1708.51 1515.05 L1708.51 1519.31 Q1706.75 1518.48 1704.94 1518.04 Q1703.16 1517.6 1701.4 1517.6 Q1696.77 1517.6 1694.32 1520.72 Q1691.89 1523.85 1691.54 1530.17 Q1692.9 1528.15 1694.97 1527.09 Q1697.03 1526 1699.5 1526 Q1704.71 1526 1707.72 1529.17 Q1710.75 1532.32 1710.75 1537.76 Q1710.75 1543.08 1707.6 1546.3 Q1704.46 1549.52 1699.22 1549.52 Q1693.23 1549.52 1690.06 1544.94 Q1686.89 1540.33 1686.89 1531.6 Q1686.89 1523.41 1690.78 1518.55 Q1694.66 1513.66 1701.22 1513.66 Q1702.97 1513.66 1704.76 1514.01 Q1706.56 1514.36 1708.51 1515.05 Z\" fill=\"#000000\" fill-rule=\"evenodd\" fill-opacity=\"1\" /><path clip-path=\"url(#clip800)\" d=\"M1729.39 1529.7 Q1726.24 1529.7 1724.39 1531.86 Q1722.56 1534.01 1722.56 1537.76 Q1722.56 1541.49 1724.39 1543.66 Q1726.24 1545.82 1729.39 1545.82 Q1732.53 1545.82 1734.36 1543.66 Q1736.21 1541.49 1736.21 1537.76 Q1736.21 1534.01 1734.36 1531.86 Q1732.53 1529.7 1729.39 1529.7 M1738.67 1515.05 L1738.67 1519.31 Q1736.91 1518.48 1735.1 1518.04 Q1733.32 1517.6 1731.56 1517.6 Q1726.93 1517.6 1724.48 1520.72 Q1722.05 1523.85 1721.7 1530.17 Q1723.07 1528.15 1725.13 1527.09 Q1727.19 1526 1729.66 1526 Q1734.87 1526 1737.88 1529.17 Q1740.91 1532.32 1740.91 1537.76 Q1740.91 1543.08 1737.77 1546.3 Q1734.62 1549.52 1729.39 1549.52 Q1723.39 1549.52 1720.22 1544.94 Q1717.05 1540.33 1717.05 1531.6 Q1717.05 1523.41 1720.94 1518.55 Q1724.83 1513.66 1731.38 1513.66 Q1733.14 1513.66 1734.92 1514.01 Q1736.72 1514.36 1738.67 1515.05 Z\" fill=\"#000000\" fill-rule=\"evenodd\" fill-opacity=\"1\" /><path clip-path=\"url(#clip800)\" d=\"M1758.97 1517.37 Q1755.36 1517.37 1753.53 1520.93 Q1751.72 1524.47 1751.72 1531.6 Q1751.72 1538.71 1753.53 1542.27 Q1755.36 1545.82 1758.97 1545.82 Q1762.6 1545.82 1764.41 1542.27 Q1766.24 1538.71 1766.24 1531.6 Q1766.24 1524.47 1764.41 1520.93 Q1762.6 1517.37 1758.97 1517.37 M1758.97 1513.66 Q1764.78 1513.66 1767.84 1518.27 Q1770.91 1522.85 1770.91 1531.6 Q1770.91 1540.33 1767.84 1544.94 Q1764.78 1549.52 1758.97 1549.52 Q1753.16 1549.52 1750.08 1544.94 Q1747.03 1540.33 1747.03 1531.6 Q1747.03 1522.85 1750.08 1518.27 Q1753.16 1513.66 1758.97 1513.66 Z\" fill=\"#000000\" fill-rule=\"evenodd\" fill-opacity=\"1\" /><polyline clip-path=\"url(#clip802)\" style=\"stroke:#000000; stroke-linecap:butt; stroke-linejoin:round; stroke-width:2; stroke-opacity:0.1; fill:none\" points=\"\n",
       "  170.857,1260.89 2352.76,1260.89 \n",
       "  \"/>\n",
       "<polyline clip-path=\"url(#clip802)\" style=\"stroke:#000000; stroke-linecap:butt; stroke-linejoin:round; stroke-width:2; stroke-opacity:0.1; fill:none\" points=\"\n",
       "  170.857,952.836 2352.76,952.836 \n",
       "  \"/>\n",
       "<polyline clip-path=\"url(#clip802)\" style=\"stroke:#000000; stroke-linecap:butt; stroke-linejoin:round; stroke-width:2; stroke-opacity:0.1; fill:none\" points=\"\n",
       "  170.857,644.787 2352.76,644.787 \n",
       "  \"/>\n",
       "<polyline clip-path=\"url(#clip802)\" style=\"stroke:#000000; stroke-linecap:butt; stroke-linejoin:round; stroke-width:2; stroke-opacity:0.1; fill:none\" points=\"\n",
       "  170.857,336.737 2352.76,336.737 \n",
       "  \"/>\n",
       "<polyline clip-path=\"url(#clip800)\" style=\"stroke:#000000; stroke-linecap:butt; stroke-linejoin:round; stroke-width:4; stroke-opacity:1; fill:none\" points=\"\n",
       "  170.857,1486.45 170.857,47.2441 \n",
       "  \"/>\n",
       "<polyline clip-path=\"url(#clip800)\" style=\"stroke:#000000; stroke-linecap:butt; stroke-linejoin:round; stroke-width:4; stroke-opacity:1; fill:none\" points=\"\n",
       "  170.857,1260.89 189.755,1260.89 \n",
       "  \"/>\n",
       "<polyline clip-path=\"url(#clip800)\" style=\"stroke:#000000; stroke-linecap:butt; stroke-linejoin:round; stroke-width:4; stroke-opacity:1; fill:none\" points=\"\n",
       "  170.857,952.836 189.755,952.836 \n",
       "  \"/>\n",
       "<polyline clip-path=\"url(#clip800)\" style=\"stroke:#000000; stroke-linecap:butt; stroke-linejoin:round; stroke-width:4; stroke-opacity:1; fill:none\" points=\"\n",
       "  170.857,644.787 189.755,644.787 \n",
       "  \"/>\n",
       "<polyline clip-path=\"url(#clip800)\" style=\"stroke:#000000; stroke-linecap:butt; stroke-linejoin:round; stroke-width:4; stroke-opacity:1; fill:none\" points=\"\n",
       "  170.857,336.737 189.755,336.737 \n",
       "  \"/>\n",
       "<path clip-path=\"url(#clip800)\" d=\"M53.3995 1274.23 L61.0384 1274.23 L61.0384 1247.87 L52.7282 1249.53 L52.7282 1245.27 L60.9921 1243.61 L65.668 1243.61 L65.668 1274.23 L73.3068 1274.23 L73.3068 1278.17 L53.3995 1278.17 L53.3995 1274.23 Z\" fill=\"#000000\" fill-rule=\"evenodd\" fill-opacity=\"1\" /><path clip-path=\"url(#clip800)\" d=\"M95.5984 1247.68 L83.7929 1266.13 L95.5984 1266.13 L95.5984 1247.68 M94.3715 1243.61 L100.251 1243.61 L100.251 1266.13 L105.182 1266.13 L105.182 1270.02 L100.251 1270.02 L100.251 1278.17 L95.5984 1278.17 L95.5984 1270.02 L79.9966 1270.02 L79.9966 1265.5 L94.3715 1243.61 Z\" fill=\"#000000\" fill-rule=\"evenodd\" fill-opacity=\"1\" /><path clip-path=\"url(#clip800)\" d=\"M122.913 1246.68 Q119.302 1246.68 117.473 1250.25 Q115.668 1253.79 115.668 1260.92 Q115.668 1268.03 117.473 1271.59 Q119.302 1275.13 122.913 1275.13 Q126.547 1275.13 128.353 1271.59 Q130.182 1268.03 130.182 1260.92 Q130.182 1253.79 128.353 1250.25 Q126.547 1246.68 122.913 1246.68 M122.913 1242.98 Q128.723 1242.98 131.779 1247.59 Q134.857 1252.17 134.857 1260.92 Q134.857 1269.65 131.779 1274.25 Q128.723 1278.84 122.913 1278.84 Q117.103 1278.84 114.024 1274.25 Q110.969 1269.65 110.969 1260.92 Q110.969 1252.17 114.024 1247.59 Q117.103 1242.98 122.913 1242.98 Z\" fill=\"#000000\" fill-rule=\"evenodd\" fill-opacity=\"1\" /><path clip-path=\"url(#clip800)\" d=\"M53.3995 966.181 L61.0384 966.181 L61.0384 939.815 L52.7282 941.482 L52.7282 937.223 L60.9921 935.556 L65.668 935.556 L65.668 966.181 L73.3068 966.181 L73.3068 970.116 L53.3995 970.116 L53.3995 966.181 Z\" fill=\"#000000\" fill-rule=\"evenodd\" fill-opacity=\"1\" /><path clip-path=\"url(#clip800)\" d=\"M93.3299 950.973 Q90.1817 950.973 88.3299 953.126 Q86.5012 955.278 86.5012 959.028 Q86.5012 962.755 88.3299 964.931 Q90.1817 967.084 93.3299 967.084 Q96.478 967.084 98.3067 964.931 Q100.159 962.755 100.159 959.028 Q100.159 955.278 98.3067 953.126 Q96.478 950.973 93.3299 950.973 M102.612 936.32 L102.612 940.579 Q100.853 939.746 99.0474 939.306 Q97.265 938.866 95.5058 938.866 Q90.8762 938.866 88.4225 941.991 Q85.9919 945.116 85.6447 951.436 Q87.0105 949.422 89.0706 948.357 Q91.1308 947.269 93.6076 947.269 Q98.8159 947.269 101.825 950.44 Q104.858 953.589 104.858 959.028 Q104.858 964.352 101.709 967.57 Q98.5613 970.788 93.3299 970.788 Q87.3345 970.788 84.1632 966.204 Q80.992 961.598 80.992 952.871 Q80.992 944.677 84.8808 939.815 Q88.7697 934.931 95.3206 934.931 Q97.0798 934.931 98.8622 935.278 Q100.668 935.626 102.612 936.32 Z\" fill=\"#000000\" fill-rule=\"evenodd\" fill-opacity=\"1\" /><path clip-path=\"url(#clip800)\" d=\"M122.913 938.635 Q119.302 938.635 117.473 942.2 Q115.668 945.741 115.668 952.871 Q115.668 959.977 117.473 963.542 Q119.302 967.084 122.913 967.084 Q126.547 967.084 128.353 963.542 Q130.182 959.977 130.182 952.871 Q130.182 945.741 128.353 942.2 Q126.547 938.635 122.913 938.635 M122.913 934.931 Q128.723 934.931 131.779 939.538 Q134.857 944.121 134.857 952.871 Q134.857 961.598 131.779 966.204 Q128.723 970.788 122.913 970.788 Q117.103 970.788 114.024 966.204 Q110.969 961.598 110.969 952.871 Q110.969 944.121 114.024 939.538 Q117.103 934.931 122.913 934.931 Z\" fill=\"#000000\" fill-rule=\"evenodd\" fill-opacity=\"1\" /><path clip-path=\"url(#clip800)\" d=\"M53.3995 658.131 L61.0384 658.131 L61.0384 631.766 L52.7282 633.432 L52.7282 629.173 L60.9921 627.507 L65.668 627.507 L65.668 658.131 L73.3068 658.131 L73.3068 662.067 L53.3995 662.067 L53.3995 658.131 Z\" fill=\"#000000\" fill-rule=\"evenodd\" fill-opacity=\"1\" /><path clip-path=\"url(#clip800)\" d=\"M92.7512 645.655 Q89.4178 645.655 87.4966 647.437 Q85.5984 649.219 85.5984 652.344 Q85.5984 655.469 87.4966 657.252 Q89.4178 659.034 92.7512 659.034 Q96.0845 659.034 98.0058 657.252 Q99.927 655.446 99.927 652.344 Q99.927 649.219 98.0058 647.437 Q96.1076 645.655 92.7512 645.655 M88.0753 643.664 Q85.066 642.923 83.3762 640.863 Q81.7096 638.803 81.7096 635.84 Q81.7096 631.696 84.6494 629.289 Q87.6123 626.882 92.7512 626.882 Q97.9132 626.882 100.853 629.289 Q103.793 631.696 103.793 635.84 Q103.793 638.803 102.103 640.863 Q100.436 642.923 97.4502 643.664 Q100.83 644.451 102.705 646.743 Q104.603 649.034 104.603 652.344 Q104.603 657.368 101.524 660.053 Q98.4687 662.738 92.7512 662.738 Q87.0336 662.738 83.9549 660.053 Q80.8994 657.368 80.8994 652.344 Q80.8994 649.034 82.7975 646.743 Q84.6956 644.451 88.0753 643.664 M86.3623 636.28 Q86.3623 638.965 88.029 640.469 Q89.7188 641.974 92.7512 641.974 Q95.7604 641.974 97.4502 640.469 Q99.1632 638.965 99.1632 636.28 Q99.1632 633.595 97.4502 632.09 Q95.7604 630.585 92.7512 630.585 Q89.7188 630.585 88.029 632.09 Q86.3623 633.595 86.3623 636.28 Z\" fill=\"#000000\" fill-rule=\"evenodd\" fill-opacity=\"1\" /><path clip-path=\"url(#clip800)\" d=\"M122.913 630.585 Q119.302 630.585 117.473 634.15 Q115.668 637.692 115.668 644.821 Q115.668 651.928 117.473 655.493 Q119.302 659.034 122.913 659.034 Q126.547 659.034 128.353 655.493 Q130.182 651.928 130.182 644.821 Q130.182 637.692 128.353 634.15 Q126.547 630.585 122.913 630.585 M122.913 626.882 Q128.723 626.882 131.779 631.488 Q134.857 636.071 134.857 644.821 Q134.857 653.548 131.779 658.155 Q128.723 662.738 122.913 662.738 Q117.103 662.738 114.024 658.155 Q110.969 653.548 110.969 644.821 Q110.969 636.071 114.024 631.488 Q117.103 626.882 122.913 626.882 Z\" fill=\"#000000\" fill-rule=\"evenodd\" fill-opacity=\"1\" /><path clip-path=\"url(#clip800)\" d=\"M56.6171 350.082 L72.9365 350.082 L72.9365 354.017 L50.9921 354.017 L50.9921 350.082 Q53.6541 347.327 58.2375 342.698 Q62.8439 338.045 64.0245 336.702 Q66.2698 334.179 67.1494 332.443 Q68.0522 330.684 68.0522 328.994 Q68.0522 326.239 66.1078 324.503 Q64.1865 322.767 61.0847 322.767 Q58.8856 322.767 56.4319 323.531 Q54.0014 324.295 51.2236 325.846 L51.2236 321.124 Q54.0477 319.989 56.5014 319.411 Q58.955 318.832 60.9921 318.832 Q66.3624 318.832 69.5568 321.517 Q72.7513 324.202 72.7513 328.693 Q72.7513 330.823 71.9411 332.744 Q71.1541 334.642 69.0476 337.235 Q68.4689 337.906 65.367 341.123 Q62.2652 344.318 56.6171 350.082 Z\" fill=\"#000000\" fill-rule=\"evenodd\" fill-opacity=\"1\" /><path clip-path=\"url(#clip800)\" d=\"M92.7512 322.536 Q89.1401 322.536 87.3114 326.1 Q85.5058 329.642 85.5058 336.772 Q85.5058 343.878 87.3114 347.443 Q89.1401 350.985 92.7512 350.985 Q96.3854 350.985 98.1909 347.443 Q100.02 343.878 100.02 336.772 Q100.02 329.642 98.1909 326.1 Q96.3854 322.536 92.7512 322.536 M92.7512 318.832 Q98.5613 318.832 101.617 323.438 Q104.696 328.022 104.696 336.772 Q104.696 345.498 101.617 350.105 Q98.5613 354.688 92.7512 354.688 Q86.941 354.688 83.8623 350.105 Q80.8068 345.498 80.8068 336.772 Q80.8068 328.022 83.8623 323.438 Q86.941 318.832 92.7512 318.832 Z\" fill=\"#000000\" fill-rule=\"evenodd\" fill-opacity=\"1\" /><path clip-path=\"url(#clip800)\" d=\"M122.913 322.536 Q119.302 322.536 117.473 326.1 Q115.668 329.642 115.668 336.772 Q115.668 343.878 117.473 347.443 Q119.302 350.985 122.913 350.985 Q126.547 350.985 128.353 347.443 Q130.182 343.878 130.182 336.772 Q130.182 329.642 128.353 326.1 Q126.547 322.536 122.913 322.536 M122.913 318.832 Q128.723 318.832 131.779 323.438 Q134.857 328.022 134.857 336.772 Q134.857 345.498 131.779 350.105 Q128.723 354.688 122.913 354.688 Q117.103 354.688 114.024 350.105 Q110.969 345.498 110.969 336.772 Q110.969 328.022 114.024 323.438 Q117.103 318.832 122.913 318.832 Z\" fill=\"#000000\" fill-rule=\"evenodd\" fill-opacity=\"1\" /><polyline clip-path=\"url(#clip802)\" style=\"stroke:#009af9; stroke-linecap:butt; stroke-linejoin:round; stroke-width:8; stroke-opacity:1; fill:none\" points=\"\n",
       "  232.609,336.737 237.635,350.169 242.66,363.391 247.686,376.403 252.711,389.208 299.179,497.954 345.647,589.931 392.115,666.058 438.582,727.253 466.508,757.229 \n",
       "  494.433,782.343 522.358,802.795 550.283,818.784 597.504,836.225 644.725,842.44 696.02,837.593 747.315,821.872 794.604,798.81 841.894,768.525 892.593,729.132 \n",
       "  943.293,683.742 1002.03,625.225 1060.77,562.113 1165.18,444.37 1256.73,342.223 1356.54,240.652 1456.95,157.738 1512.46,123.571 1567.97,99.7 1620.78,87.9763 \n",
       "  1673.6,88.34 1728.51,102.985 1783.42,133.673 1829.65,173.054 1875.88,225.782 1904.1,264.916 1932.31,309.566 1960.53,359.938 1988.75,416.238 2015.28,474.75 \n",
       "  2041.8,538.852 2068.33,608.716 2094.86,684.512 2137.35,818.736 2179.85,969.328 2222.35,1136.99 2264.84,1322.42 2271.38,1352.58 2277.92,1383.18 2284.46,1414.23 \n",
       "  2291,1445.72 \n",
       "  \"/>\n",
       "<polyline clip-path=\"url(#clip802)\" style=\"stroke:#000000; stroke-linecap:butt; stroke-linejoin:round; stroke-width:8; stroke-opacity:0.6; fill:none\" stroke-dasharray=\"32, 20\" points=\"\n",
       "  648.988,2925.65 648.988,-1391.96 \n",
       "  \"/>\n",
       "<polyline clip-path=\"url(#clip802)\" style=\"stroke:#000000; stroke-linecap:butt; stroke-linejoin:round; stroke-width:8; stroke-opacity:0.6; fill:none\" stroke-dasharray=\"32, 20\" points=\"\n",
       "  1645.91,2925.65 1645.91,-1391.96 \n",
       "  \"/>\n",
       "</svg>\n"
      ]
     },
     "execution_count": 40,
     "metadata": {},
     "output_type": "execute_result"
    }
   ],
   "source": [
    "plot(f, 0, 12, lw = 2, legend = false)\n",
    "vline!([roots[1], roots[2]], lw = 2, alpha = 0.6, ls = :dash, color = :black, xticks = ([roots[1], roots[2]]))"
   ]
  },
  {
   "cell_type": "markdown",
   "metadata": {
    "slideshow": {
     "slide_type": "slide"
    }
   },
   "source": [
    "## Functions of multiple variables\n",
    "\n",
    "Here we talk about how to deal with functions $f: \\mathbb{R}^{n} \\rightarrow \\mathbb{R}$. \n",
    "\n",
    "This means functions that take values in $\\mathbb{R}^n$ and return a value along the real line.\n",
    "\n",
    "An example of this would be, \n",
    "\n",
    "$$\n",
    "f(x, y) = x^{2} + y^{2}\n",
    "$$\n",
    "\n",
    "This is a function that takes in two inputs and returns one output.\n",
    "\n",
    "We will mostly be working with functions that have two inputs."
   ]
  },
  {
   "cell_type": "markdown",
   "metadata": {
    "slideshow": {
     "slide_type": "slide"
    }
   },
   "source": [
    "## Surface plot"
   ]
  },
  {
   "cell_type": "code",
   "execution_count": 45,
   "metadata": {
    "slideshow": {
     "slide_type": "skip"
    }
   },
   "outputs": [],
   "source": [
    "function minmax()\n",
    "\t\n",
    "\tv = collect(range(-2, stop = 2, length = 30))  # values\n",
    "\tmini = [x^2 + y^2 for x in v, y in v]\n",
    "\tmaxi = -mini   # max is just negative min\n",
    "\tsaddle = [x^2 + y^3 for x in v, y in v]\n",
    "\t\n",
    "\treturn Dict(:x => v,:min => mini, :max => maxi, :saddle => saddle)\n",
    "end;\n",
    "\n",
    "function mmplotter(s::Symbol)\n",
    "\t\n",
    "    d = minmax()\n",
    "\n",
    "    surface(d[:x], d[:x], d[s], fillalpha = 0.7, legend = false, fillcolor =:viridis)\n",
    "end;\n",
    "\n",
    "function mmcontour(s::Symbol)\n",
    "\t\n",
    "    d = minmax()\n",
    "\n",
    "    contour(d[:x], d[:x], d[s], fillalpha = 0.5, legend = false, fill = true, fillcolor = :viridis, color = :black)\n",
    "end;"
   ]
  },
  {
   "cell_type": "markdown",
   "metadata": {
    "slideshow": {
     "slide_type": "fragment"
    }
   },
   "source": [
    "The following provides the plot for the function $f(x, y) = x^{2} + y^{2}$."
   ]
  },
  {
   "cell_type": "code",
   "execution_count": 46,
   "metadata": {
    "slideshow": {
     "slide_type": "fragment"
    }
   },
   "outputs": [
    {
     "data": {
      "image/svg+xml": [
       "<?xml version=\"1.0\" encoding=\"utf-8\"?>\n",
       "<svg xmlns=\"http://www.w3.org/2000/svg\" xmlns:xlink=\"http://www.w3.org/1999/xlink\" width=\"600\" height=\"400\" viewBox=\"0 0 2400 1600\">\n",
       "<defs>\n",
       "  <clipPath id=\"clip840\">\n",
       "    <rect x=\"0\" y=\"0\" width=\"2400\" height=\"1600\"/>\n",
       "  </clipPath>\n",
       "</defs>\n",
       "<path clip-path=\"url(#clip840)\" d=\"\n",
       "M0 1600 L2400 1600 L2400 0 L0 0  Z\n",
       "  \" fill=\"#ffffff\" fill-rule=\"evenodd\" fill-opacity=\"1\"/>\n",
       "<defs>\n",
       "  <clipPath id=\"clip841\">\n",
       "    <rect x=\"480\" y=\"0\" width=\"1681\" height=\"1600\"/>\n",
       "  </clipPath>\n",
       "</defs>\n",
       "<defs>\n",
       "  <clipPath id=\"clip842\">\n",
       "    <rect x=\"149\" y=\"47\" width=\"2205\" height=\"1440\"/>\n",
       "  </clipPath>\n",
       "</defs>\n",
       "<path clip-path=\"url(#clip842)\" d=\"\n",
       "M149.191 1401.43 L149.191 302.298 L955.752 47.2441 L2352.76 132.262 L2352.76 1231.39 L1546.2 1486.45 L149.191 1401.43  Z\n",
       "  \" fill=\"#ffffff\" fill-rule=\"evenodd\" fill-opacity=\"1\"/>\n",
       "<polyline clip-path=\"url(#clip842)\" style=\"stroke:#000000; stroke-linecap:butt; stroke-linejoin:round; stroke-width:2; stroke-opacity:0.1; fill:none\" points=\"\n",
       "  149.191,1401.43 955.752,1146.38 \n",
       "  \"/>\n",
       "<polyline clip-path=\"url(#clip842)\" style=\"stroke:#000000; stroke-linecap:butt; stroke-linejoin:round; stroke-width:2; stroke-opacity:0.1; fill:none\" points=\"\n",
       "  955.752,1146.38 955.752,47.2441 \n",
       "  \"/>\n",
       "<polyline clip-path=\"url(#clip842)\" style=\"stroke:#000000; stroke-linecap:butt; stroke-linejoin:round; stroke-width:2; stroke-opacity:0.1; fill:none\" points=\"\n",
       "  498.442,1422.68 1305,1167.63 \n",
       "  \"/>\n",
       "<polyline clip-path=\"url(#clip842)\" style=\"stroke:#000000; stroke-linecap:butt; stroke-linejoin:round; stroke-width:2; stroke-opacity:0.1; fill:none\" points=\"\n",
       "  1305,1167.63 1305,68.4986 \n",
       "  \"/>\n",
       "<polyline clip-path=\"url(#clip842)\" style=\"stroke:#000000; stroke-linecap:butt; stroke-linejoin:round; stroke-width:2; stroke-opacity:0.1; fill:none\" points=\"\n",
       "  847.693,1443.94 1654.25,1188.88 \n",
       "  \"/>\n",
       "<polyline clip-path=\"url(#clip842)\" style=\"stroke:#000000; stroke-linecap:butt; stroke-linejoin:round; stroke-width:2; stroke-opacity:0.1; fill:none\" points=\"\n",
       "  1654.25,1188.88 1654.25,89.7531 \n",
       "  \"/>\n",
       "<polyline clip-path=\"url(#clip842)\" style=\"stroke:#000000; stroke-linecap:butt; stroke-linejoin:round; stroke-width:2; stroke-opacity:0.1; fill:none\" points=\"\n",
       "  1196.94,1465.19 2003.5,1210.14 \n",
       "  \"/>\n",
       "<polyline clip-path=\"url(#clip842)\" style=\"stroke:#000000; stroke-linecap:butt; stroke-linejoin:round; stroke-width:2; stroke-opacity:0.1; fill:none\" points=\"\n",
       "  2003.5,1210.14 2003.5,111.008 \n",
       "  \"/>\n",
       "<polyline clip-path=\"url(#clip842)\" style=\"stroke:#000000; stroke-linecap:butt; stroke-linejoin:round; stroke-width:2; stroke-opacity:0.1; fill:none\" points=\"\n",
       "  1546.2,1486.45 2352.76,1231.39 \n",
       "  \"/>\n",
       "<polyline clip-path=\"url(#clip842)\" style=\"stroke:#000000; stroke-linecap:butt; stroke-linejoin:round; stroke-width:2; stroke-opacity:0.1; fill:none\" points=\"\n",
       "  2352.76,1231.39 2352.76,132.262 \n",
       "  \"/>\n",
       "<polyline clip-path=\"url(#clip840)\" style=\"stroke:#000000; stroke-linecap:butt; stroke-linejoin:round; stroke-width:4; stroke-opacity:1; fill:none\" points=\"\n",
       "  149.191,1401.43 1546.2,1486.45 \n",
       "  \"/>\n",
       "<polyline clip-path=\"url(#clip840)\" style=\"stroke:#000000; stroke-linecap:butt; stroke-linejoin:round; stroke-width:4; stroke-opacity:1; fill:none\" points=\"\n",
       "  149.191,1401.43 158.87,1398.37 \n",
       "  \"/>\n",
       "<polyline clip-path=\"url(#clip840)\" style=\"stroke:#000000; stroke-linecap:butt; stroke-linejoin:round; stroke-width:4; stroke-opacity:1; fill:none\" points=\"\n",
       "  498.442,1422.68 508.121,1419.62 \n",
       "  \"/>\n",
       "<polyline clip-path=\"url(#clip840)\" style=\"stroke:#000000; stroke-linecap:butt; stroke-linejoin:round; stroke-width:4; stroke-opacity:1; fill:none\" points=\"\n",
       "  847.693,1443.94 857.372,1440.88 \n",
       "  \"/>\n",
       "<polyline clip-path=\"url(#clip840)\" style=\"stroke:#000000; stroke-linecap:butt; stroke-linejoin:round; stroke-width:4; stroke-opacity:1; fill:none\" points=\"\n",
       "  1196.94,1465.19 1206.62,1462.13 \n",
       "  \"/>\n",
       "<polyline clip-path=\"url(#clip840)\" style=\"stroke:#000000; stroke-linecap:butt; stroke-linejoin:round; stroke-width:4; stroke-opacity:1; fill:none\" points=\"\n",
       "  1546.2,1486.45 1555.87,1483.39 \n",
       "  \"/>\n",
       "<path clip-path=\"url(#clip840)\" d=\"M87.326 1430.63 L117.002 1430.63 L117.002 1434.56 L87.326 1434.56 L87.326 1430.63 Z\" fill=\"#000000\" fill-rule=\"evenodd\" fill-opacity=\"1\" /><path clip-path=\"url(#clip840)\" d=\"M131.122 1443.52 L147.441 1443.52 L147.441 1447.46 L125.497 1447.46 L125.497 1443.52 Q128.159 1440.77 132.742 1436.14 Q137.349 1431.48 138.529 1430.14 Q140.775 1427.62 141.654 1425.88 Q142.557 1424.12 142.557 1422.43 Q142.557 1419.68 140.613 1417.94 Q138.691 1416.21 135.59 1416.21 Q133.391 1416.21 130.937 1416.97 Q128.506 1417.73 125.729 1419.29 L125.729 1414.56 Q128.553 1413.43 131.006 1412.85 Q133.46 1412.27 135.497 1412.27 Q140.867 1412.27 144.062 1414.96 Q147.256 1417.64 147.256 1422.13 Q147.256 1424.26 146.446 1426.18 Q145.659 1428.08 143.553 1430.67 Q142.974 1431.35 139.872 1434.56 Q136.77 1437.76 131.122 1443.52 Z\" fill=\"#000000\" fill-rule=\"evenodd\" fill-opacity=\"1\" /><path clip-path=\"url(#clip840)\" d=\"M436.207 1451.88 L465.882 1451.88 L465.882 1455.82 L436.207 1455.82 L436.207 1451.88 Z\" fill=\"#000000\" fill-rule=\"evenodd\" fill-opacity=\"1\" /><path clip-path=\"url(#clip840)\" d=\"M476.785 1464.78 L484.424 1464.78 L484.424 1438.41 L476.114 1440.08 L476.114 1435.82 L484.378 1434.15 L489.054 1434.15 L489.054 1464.78 L496.692 1464.78 L496.692 1468.71 L476.785 1468.71 L476.785 1464.78 Z\" fill=\"#000000\" fill-rule=\"evenodd\" fill-opacity=\"1\" /><path clip-path=\"url(#clip840)\" d=\"M833.999 1458.48 Q830.388 1458.48 828.559 1462.05 Q826.754 1465.59 826.754 1472.72 Q826.754 1479.83 828.559 1483.39 Q830.388 1486.93 833.999 1486.93 Q837.633 1486.93 839.439 1483.39 Q841.268 1479.83 841.268 1472.72 Q841.268 1465.59 839.439 1462.05 Q837.633 1458.48 833.999 1458.48 M833.999 1454.78 Q839.809 1454.78 842.865 1459.39 Q845.944 1463.97 845.944 1472.72 Q845.944 1481.45 842.865 1486.05 Q839.809 1490.64 833.999 1490.64 Q828.189 1490.64 825.11 1486.05 Q822.055 1481.45 822.055 1472.72 Q822.055 1463.97 825.11 1459.39 Q828.189 1454.78 833.999 1454.78 Z\" fill=\"#000000\" fill-rule=\"evenodd\" fill-opacity=\"1\" /><path clip-path=\"url(#clip840)\" d=\"M1175.29 1507.28 L1182.93 1507.28 L1182.93 1480.92 L1174.62 1482.59 L1174.62 1478.33 L1182.88 1476.66 L1187.56 1476.66 L1187.56 1507.28 L1195.19 1507.28 L1195.19 1511.22 L1175.29 1511.22 L1175.29 1507.28 Z\" fill=\"#000000\" fill-rule=\"evenodd\" fill-opacity=\"1\" /><path clip-path=\"url(#clip840)\" d=\"M1528.13 1528.54 L1544.45 1528.54 L1544.45 1532.47 L1522.5 1532.47 L1522.5 1528.54 Q1525.16 1525.78 1529.75 1521.16 Q1534.35 1516.5 1535.53 1515.16 Q1537.78 1512.64 1538.66 1510.9 Q1539.56 1509.14 1539.56 1507.45 Q1539.56 1504.7 1537.62 1502.96 Q1535.7 1501.22 1532.59 1501.22 Q1530.39 1501.22 1527.94 1501.99 Q1525.51 1502.75 1522.73 1504.3 L1522.73 1499.58 Q1525.56 1498.45 1528.01 1497.87 Q1530.46 1497.29 1532.5 1497.29 Q1537.87 1497.29 1541.07 1499.97 Q1544.26 1502.66 1544.26 1507.15 Q1544.26 1509.28 1543.45 1511.2 Q1542.66 1513.1 1540.56 1515.69 Q1539.98 1516.36 1536.88 1519.58 Q1533.77 1522.78 1528.13 1528.54 Z\" fill=\"#000000\" fill-rule=\"evenodd\" fill-opacity=\"1\" /><polyline clip-path=\"url(#clip842)\" style=\"stroke:#000000; stroke-linecap:butt; stroke-linejoin:round; stroke-width:2; stroke-opacity:0.1; fill:none\" points=\"\n",
       "  1546.2,1486.45 149.191,1401.43 \n",
       "  \"/>\n",
       "<polyline clip-path=\"url(#clip842)\" style=\"stroke:#000000; stroke-linecap:butt; stroke-linejoin:round; stroke-width:2; stroke-opacity:0.1; fill:none\" points=\"\n",
       "  149.191,1401.43 149.191,302.298 \n",
       "  \"/>\n",
       "<polyline clip-path=\"url(#clip842)\" style=\"stroke:#000000; stroke-linecap:butt; stroke-linejoin:round; stroke-width:2; stroke-opacity:0.1; fill:none\" points=\"\n",
       "  1747.84,1422.68 350.831,1337.67 \n",
       "  \"/>\n",
       "<polyline clip-path=\"url(#clip842)\" style=\"stroke:#000000; stroke-linecap:butt; stroke-linejoin:round; stroke-width:2; stroke-opacity:0.1; fill:none\" points=\"\n",
       "  350.831,1337.67 350.831,238.535 \n",
       "  \"/>\n",
       "<polyline clip-path=\"url(#clip842)\" style=\"stroke:#000000; stroke-linecap:butt; stroke-linejoin:round; stroke-width:2; stroke-opacity:0.1; fill:none\" points=\"\n",
       "  1949.48,1358.92 552.471,1273.9 \n",
       "  \"/>\n",
       "<polyline clip-path=\"url(#clip842)\" style=\"stroke:#000000; stroke-linecap:butt; stroke-linejoin:round; stroke-width:2; stroke-opacity:0.1; fill:none\" points=\"\n",
       "  552.471,1273.9 552.471,174.771 \n",
       "  \"/>\n",
       "<polyline clip-path=\"url(#clip842)\" style=\"stroke:#000000; stroke-linecap:butt; stroke-linejoin:round; stroke-width:2; stroke-opacity:0.1; fill:none\" points=\"\n",
       "  2151.12,1295.16 754.111,1210.14 \n",
       "  \"/>\n",
       "<polyline clip-path=\"url(#clip842)\" style=\"stroke:#000000; stroke-linecap:butt; stroke-linejoin:round; stroke-width:2; stroke-opacity:0.1; fill:none\" points=\"\n",
       "  754.111,1210.14 754.111,111.008 \n",
       "  \"/>\n",
       "<polyline clip-path=\"url(#clip842)\" style=\"stroke:#000000; stroke-linecap:butt; stroke-linejoin:round; stroke-width:2; stroke-opacity:0.1; fill:none\" points=\"\n",
       "  2352.76,1231.39 955.752,1146.38 \n",
       "  \"/>\n",
       "<polyline clip-path=\"url(#clip842)\" style=\"stroke:#000000; stroke-linecap:butt; stroke-linejoin:round; stroke-width:2; stroke-opacity:0.1; fill:none\" points=\"\n",
       "  955.752,1146.38 955.752,47.2441 \n",
       "  \"/>\n",
       "<polyline clip-path=\"url(#clip840)\" style=\"stroke:#000000; stroke-linecap:butt; stroke-linejoin:round; stroke-width:4; stroke-opacity:1; fill:none\" points=\"\n",
       "  1546.2,1486.45 2352.76,1231.39 \n",
       "  \"/>\n",
       "<polyline clip-path=\"url(#clip840)\" style=\"stroke:#000000; stroke-linecap:butt; stroke-linejoin:round; stroke-width:4; stroke-opacity:1; fill:none\" points=\"\n",
       "  1546.2,1486.45 1529.43,1485.43 \n",
       "  \"/>\n",
       "<polyline clip-path=\"url(#clip840)\" style=\"stroke:#000000; stroke-linecap:butt; stroke-linejoin:round; stroke-width:4; stroke-opacity:1; fill:none\" points=\"\n",
       "  1747.84,1422.68 1731.07,1421.66 \n",
       "  \"/>\n",
       "<polyline clip-path=\"url(#clip840)\" style=\"stroke:#000000; stroke-linecap:butt; stroke-linejoin:round; stroke-width:4; stroke-opacity:1; fill:none\" points=\"\n",
       "  1949.48,1358.92 1932.71,1357.9 \n",
       "  \"/>\n",
       "<polyline clip-path=\"url(#clip840)\" style=\"stroke:#000000; stroke-linecap:butt; stroke-linejoin:round; stroke-width:4; stroke-opacity:1; fill:none\" points=\"\n",
       "  2151.12,1295.16 2134.35,1294.14 \n",
       "  \"/>\n",
       "<polyline clip-path=\"url(#clip840)\" style=\"stroke:#000000; stroke-linecap:butt; stroke-linejoin:round; stroke-width:4; stroke-opacity:1; fill:none\" points=\"\n",
       "  2352.76,1231.39 2335.99,1230.37 \n",
       "  \"/>\n",
       "<path clip-path=\"url(#clip840)\" d=\"M1554.88 1514.36 L1584.55 1514.36 L1584.55 1518.29 L1554.88 1518.29 L1554.88 1514.36 Z\" fill=\"#000000\" fill-rule=\"evenodd\" fill-opacity=\"1\" /><path clip-path=\"url(#clip840)\" d=\"M1598.67 1527.25 L1614.99 1527.25 L1614.99 1531.19 L1593.05 1531.19 L1593.05 1527.25 Q1595.71 1524.5 1600.29 1519.87 Q1604.9 1515.22 1606.08 1513.87 Q1608.33 1511.35 1609.21 1509.61 Q1610.11 1507.85 1610.11 1506.16 Q1610.11 1503.41 1608.17 1501.67 Q1606.24 1499.94 1603.14 1499.94 Q1600.94 1499.94 1598.49 1500.7 Q1596.06 1501.47 1593.28 1503.02 L1593.28 1498.29 Q1596.11 1497.16 1598.56 1496.58 Q1601.01 1496 1603.05 1496 Q1608.42 1496 1611.61 1498.69 Q1614.81 1501.37 1614.81 1505.86 Q1614.81 1507.99 1614 1509.91 Q1613.21 1511.81 1611.11 1514.41 Q1610.53 1515.08 1607.42 1518.29 Q1604.32 1521.49 1598.67 1527.25 Z\" fill=\"#000000\" fill-rule=\"evenodd\" fill-opacity=\"1\" /><path clip-path=\"url(#clip840)\" d=\"M1756.52 1450.6 L1786.19 1450.6 L1786.19 1454.53 L1756.52 1454.53 L1756.52 1450.6 Z\" fill=\"#000000\" fill-rule=\"evenodd\" fill-opacity=\"1\" /><path clip-path=\"url(#clip840)\" d=\"M1797.1 1463.49 L1804.74 1463.49 L1804.74 1437.12 L1796.43 1438.79 L1796.43 1434.53 L1804.69 1432.86 L1809.37 1432.86 L1809.37 1463.49 L1817 1463.49 L1817 1467.42 L1797.1 1467.42 L1797.1 1463.49 Z\" fill=\"#000000\" fill-rule=\"evenodd\" fill-opacity=\"1\" /><path clip-path=\"url(#clip840)\" d=\"M1970.1 1372.18 Q1966.49 1372.18 1964.66 1375.74 Q1962.86 1379.29 1962.86 1386.42 Q1962.86 1393.52 1964.66 1397.09 Q1966.49 1400.63 1970.1 1400.63 Q1973.74 1400.63 1975.54 1397.09 Q1977.37 1393.52 1977.37 1386.42 Q1977.37 1379.29 1975.54 1375.74 Q1973.74 1372.18 1970.1 1372.18 M1970.1 1368.48 Q1975.91 1368.48 1978.97 1373.08 Q1982.05 1377.67 1982.05 1386.42 Q1982.05 1395.14 1978.97 1399.75 Q1975.91 1404.33 1970.1 1404.33 Q1964.29 1404.33 1961.21 1399.75 Q1958.16 1395.14 1958.16 1386.42 Q1958.16 1377.67 1961.21 1373.08 Q1964.29 1368.48 1970.1 1368.48 Z\" fill=\"#000000\" fill-rule=\"evenodd\" fill-opacity=\"1\" /><path clip-path=\"url(#clip840)\" d=\"M2160.47 1335.96 L2168.11 1335.96 L2168.11 1309.6 L2159.8 1311.26 L2159.8 1307 L2168.06 1305.34 L2172.74 1305.34 L2172.74 1335.96 L2180.38 1335.96 L2180.38 1339.9 L2160.47 1339.9 L2160.47 1335.96 Z\" fill=\"#000000\" fill-rule=\"evenodd\" fill-opacity=\"1\" /><path clip-path=\"url(#clip840)\" d=\"M2367.06 1272.2 L2383.38 1272.2 L2383.38 1276.13 L2361.44 1276.13 L2361.44 1272.2 Q2364.1 1269.44 2368.68 1264.81 Q2373.29 1260.16 2374.47 1258.82 Q2376.72 1256.3 2377.6 1254.56 Q2378.5 1252.8 2378.5 1251.11 Q2378.5 1248.36 2376.56 1246.62 Q2374.63 1244.88 2371.53 1244.88 Q2369.33 1244.88 2366.88 1245.65 Q2364.45 1246.41 2361.67 1247.96 L2361.67 1243.24 Q2364.49 1242.11 2366.95 1241.53 Q2369.4 1240.95 2371.44 1240.95 Q2376.81 1240.95 2380 1243.63 Q2383.2 1246.32 2383.2 1250.81 Q2383.2 1252.94 2382.39 1254.86 Q2381.6 1256.76 2379.49 1259.35 Q2378.92 1260.02 2375.81 1263.24 Q2372.71 1266.43 2367.06 1272.2 Z\" fill=\"#000000\" fill-rule=\"evenodd\" fill-opacity=\"1\" /><polyline clip-path=\"url(#clip842)\" style=\"stroke:#000000; stroke-linecap:butt; stroke-linejoin:round; stroke-width:2; stroke-opacity:0.1; fill:none\" points=\"\n",
       "  149.191,1401.43 955.752,1146.38 \n",
       "  \"/>\n",
       "<polyline clip-path=\"url(#clip842)\" style=\"stroke:#000000; stroke-linecap:butt; stroke-linejoin:round; stroke-width:2; stroke-opacity:0.1; fill:none\" points=\"\n",
       "  955.752,1146.38 2352.76,1231.39 \n",
       "  \"/>\n",
       "<polyline clip-path=\"url(#clip842)\" style=\"stroke:#000000; stroke-linecap:butt; stroke-linejoin:round; stroke-width:2; stroke-opacity:0.1; fill:none\" points=\"\n",
       "  149.191,1126.32 955.752,871.265 \n",
       "  \"/>\n",
       "<polyline clip-path=\"url(#clip842)\" style=\"stroke:#000000; stroke-linecap:butt; stroke-linejoin:round; stroke-width:2; stroke-opacity:0.1; fill:none\" points=\"\n",
       "  955.752,871.265 2352.76,956.284 \n",
       "  \"/>\n",
       "<polyline clip-path=\"url(#clip842)\" style=\"stroke:#000000; stroke-linecap:butt; stroke-linejoin:round; stroke-width:2; stroke-opacity:0.1; fill:none\" points=\"\n",
       "  149.191,851.21 955.752,596.156 \n",
       "  \"/>\n",
       "<polyline clip-path=\"url(#clip842)\" style=\"stroke:#000000; stroke-linecap:butt; stroke-linejoin:round; stroke-width:2; stroke-opacity:0.1; fill:none\" points=\"\n",
       "  955.752,596.156 2352.76,681.174 \n",
       "  \"/>\n",
       "<polyline clip-path=\"url(#clip842)\" style=\"stroke:#000000; stroke-linecap:butt; stroke-linejoin:round; stroke-width:2; stroke-opacity:0.1; fill:none\" points=\"\n",
       "  149.191,576.1 955.752,321.046 \n",
       "  \"/>\n",
       "<polyline clip-path=\"url(#clip842)\" style=\"stroke:#000000; stroke-linecap:butt; stroke-linejoin:round; stroke-width:2; stroke-opacity:0.1; fill:none\" points=\"\n",
       "  955.752,321.046 2352.76,406.064 \n",
       "  \"/>\n",
       "<polyline clip-path=\"url(#clip840)\" style=\"stroke:#000000; stroke-linecap:butt; stroke-linejoin:round; stroke-width:4; stroke-opacity:1; fill:none\" points=\"\n",
       "  149.191,1401.43 149.191,302.298 \n",
       "  \"/>\n",
       "<polyline clip-path=\"url(#clip840)\" style=\"stroke:#000000; stroke-linecap:butt; stroke-linejoin:round; stroke-width:4; stroke-opacity:1; fill:none\" points=\"\n",
       "  149.191,1401.43 158.87,1398.37 \n",
       "  \"/>\n",
       "<polyline clip-path=\"url(#clip840)\" style=\"stroke:#000000; stroke-linecap:butt; stroke-linejoin:round; stroke-width:4; stroke-opacity:1; fill:none\" points=\"\n",
       "  149.191,1126.32 158.87,1123.26 \n",
       "  \"/>\n",
       "<polyline clip-path=\"url(#clip840)\" style=\"stroke:#000000; stroke-linecap:butt; stroke-linejoin:round; stroke-width:4; stroke-opacity:1; fill:none\" points=\"\n",
       "  149.191,851.21 158.87,848.149 \n",
       "  \"/>\n",
       "<polyline clip-path=\"url(#clip840)\" style=\"stroke:#000000; stroke-linecap:butt; stroke-linejoin:round; stroke-width:4; stroke-opacity:1; fill:none\" points=\"\n",
       "  149.191,576.1 158.87,573.039 \n",
       "  \"/>\n",
       "<path clip-path=\"url(#clip840)\" d=\"M58.7708 1401.88 L88.4466 1401.88 L88.4466 1405.82 L58.7708 1405.82 L58.7708 1401.88 Z\" fill=\"#000000\" fill-rule=\"evenodd\" fill-opacity=\"1\" /><path clip-path=\"url(#clip840)\" d=\"M108.539 1402.3 Q105.206 1402.3 103.284 1404.08 Q101.386 1405.86 101.386 1408.99 Q101.386 1412.11 103.284 1413.89 Q105.206 1415.68 108.539 1415.68 Q111.872 1415.68 113.794 1413.89 Q115.715 1412.09 115.715 1408.99 Q115.715 1405.86 113.794 1404.08 Q111.896 1402.3 108.539 1402.3 M103.863 1400.31 Q100.854 1399.57 99.1641 1397.51 Q97.4975 1395.45 97.4975 1392.48 Q97.4975 1388.34 100.437 1385.93 Q103.4 1383.52 108.539 1383.52 Q113.701 1383.52 116.641 1385.93 Q119.581 1388.34 119.581 1392.48 Q119.581 1395.45 117.891 1397.51 Q116.224 1399.57 113.238 1400.31 Q116.618 1401.09 118.493 1403.39 Q120.391 1405.68 120.391 1408.99 Q120.391 1414.01 117.312 1416.7 Q114.257 1419.38 108.539 1419.38 Q102.822 1419.38 99.7428 1416.7 Q96.6873 1414.01 96.6873 1408.99 Q96.6873 1405.68 98.5854 1403.39 Q100.484 1401.09 103.863 1400.31 M102.15 1392.92 Q102.15 1395.61 103.817 1397.11 Q105.507 1398.62 108.539 1398.62 Q111.548 1398.62 113.238 1397.11 Q114.951 1395.61 114.951 1392.92 Q114.951 1390.24 113.238 1388.73 Q111.548 1387.23 108.539 1387.23 Q105.507 1387.23 103.817 1388.73 Q102.15 1390.24 102.15 1392.92 Z\" fill=\"#000000\" fill-rule=\"evenodd\" fill-opacity=\"1\" /><path clip-path=\"url(#clip840)\" d=\"M58.5162 1126.77 L88.192 1126.77 L88.192 1130.71 L58.5162 1130.71 L58.5162 1126.77 Z\" fill=\"#000000\" fill-rule=\"evenodd\" fill-opacity=\"1\" /><path clip-path=\"url(#clip840)\" d=\"M108.863 1124.46 Q105.715 1124.46 103.863 1126.61 Q102.034 1128.76 102.034 1132.51 Q102.034 1136.24 103.863 1138.41 Q105.715 1140.57 108.863 1140.57 Q112.011 1140.57 113.84 1138.41 Q115.692 1136.24 115.692 1132.51 Q115.692 1128.76 113.84 1126.61 Q112.011 1124.46 108.863 1124.46 M118.146 1109.8 L118.146 1114.06 Q116.386 1113.23 114.581 1112.79 Q112.798 1112.35 111.039 1112.35 Q106.409 1112.35 103.956 1115.47 Q101.525 1118.6 101.178 1124.92 Q102.544 1122.91 104.604 1121.84 Q106.664 1120.75 109.141 1120.75 Q114.349 1120.75 117.358 1123.92 Q120.391 1127.07 120.391 1132.51 Q120.391 1137.84 117.243 1141.05 Q114.095 1144.27 108.863 1144.27 Q102.868 1144.27 99.6965 1139.69 Q96.5253 1135.08 96.5253 1126.35 Q96.5253 1118.16 100.414 1113.3 Q104.303 1108.41 110.854 1108.41 Q112.613 1108.41 114.396 1108.76 Q116.201 1109.11 118.146 1109.8 Z\" fill=\"#000000\" fill-rule=\"evenodd\" fill-opacity=\"1\" /><path clip-path=\"url(#clip840)\" d=\"M58.1921 851.661 L87.8679 851.661 L87.8679 855.596 L58.1921 855.596 L58.1921 851.661 Z\" fill=\"#000000\" fill-rule=\"evenodd\" fill-opacity=\"1\" /><path clip-path=\"url(#clip840)\" d=\"M110.808 838.004 L99.0021 856.453 L110.808 856.453 L110.808 838.004 M109.581 833.93 L115.46 833.93 L115.46 856.453 L120.391 856.453 L120.391 860.342 L115.46 860.342 L115.46 868.49 L110.808 868.49 L110.808 860.342 L95.2058 860.342 L95.2058 855.828 L109.581 833.93 Z\" fill=\"#000000\" fill-rule=\"evenodd\" fill-opacity=\"1\" /><path clip-path=\"url(#clip840)\" d=\"M60.2754 576.551 L89.9512 576.551 L89.9512 580.486 L60.2754 580.486 L60.2754 576.551 Z\" fill=\"#000000\" fill-rule=\"evenodd\" fill-opacity=\"1\" /><path clip-path=\"url(#clip840)\" d=\"M104.072 589.445 L120.391 589.445 L120.391 593.38 L98.4465 593.38 L98.4465 589.445 Q101.109 586.69 105.692 582.061 Q110.298 577.408 111.479 576.065 Q113.724 573.542 114.604 571.806 Q115.507 570.047 115.507 568.357 Q115.507 565.602 113.562 563.866 Q111.641 562.13 108.539 562.13 Q106.34 562.13 103.886 562.894 Q101.456 563.658 98.678 565.209 L98.678 560.487 Q101.502 559.352 103.956 558.774 Q106.409 558.195 108.446 558.195 Q113.817 558.195 117.011 560.88 Q120.206 563.565 120.206 568.056 Q120.206 570.186 119.396 572.107 Q118.608 574.005 116.502 576.598 Q115.923 577.269 112.821 580.486 Q109.72 583.681 104.072 589.445 Z\" fill=\"#000000\" fill-rule=\"evenodd\" fill-opacity=\"1\" /><path clip-path=\"url(#clip842)\" d=\"\n",
       "M955.752 1146.38 L927.939 1081.9 L976.112 1011.55 L1003.92 1076.03  Z\n",
       "  \" fill=\"#48196b\" fill-rule=\"evenodd\" fill-opacity=\"0.7\"/>\n",
       "<path clip-path=\"url(#clip842)\" d=\"\n",
       "M1003.92 1076.03 L976.112 1011.55 L1024.28 946.441 L1052.1 1010.92  Z\n",
       "  \" fill=\"#462d7c\" fill-rule=\"evenodd\" fill-opacity=\"0.7\"/>\n",
       "<path clip-path=\"url(#clip842)\" d=\"\n",
       "M1052.1 1010.92 L1024.28 946.441 L1072.46 886.566 L1100.27 951.046  Z\n",
       "  \" fill=\"#414186\" fill-rule=\"evenodd\" fill-opacity=\"0.7\"/>\n",
       "<path clip-path=\"url(#clip842)\" d=\"\n",
       "M1100.27 951.046 L1072.46 886.566 L1120.63 831.924 L1148.44 896.404  Z\n",
       "  \" fill=\"#3b518a\" fill-rule=\"evenodd\" fill-opacity=\"0.7\"/>\n",
       "<path clip-path=\"url(#clip842)\" d=\"\n",
       "M1148.44 896.404 L1120.63 831.924 L1168.8 782.516 L1196.61 846.996  Z\n",
       "  \" fill=\"#355d8c\" fill-rule=\"evenodd\" fill-opacity=\"0.7\"/>\n",
       "<path clip-path=\"url(#clip842)\" d=\"\n",
       "M1196.61 846.996 L1168.8 782.516 L1216.97 738.342 L1244.79 802.822  Z\n",
       "  \" fill=\"#2f698d\" fill-rule=\"evenodd\" fill-opacity=\"0.7\"/>\n",
       "<path clip-path=\"url(#clip842)\" d=\"\n",
       "M1244.79 802.822 L1216.97 738.342 L1265.15 699.402 L1292.96 763.882  Z\n",
       "  \" fill=\"#2b738e\" fill-rule=\"evenodd\" fill-opacity=\"0.7\"/>\n",
       "<path clip-path=\"url(#clip842)\" d=\"\n",
       "M1292.96 763.882 L1265.15 699.402 L1313.32 665.696 L1341.13 730.176  Z\n",
       "  \" fill=\"#287b8e\" fill-rule=\"evenodd\" fill-opacity=\"0.7\"/>\n",
       "<path clip-path=\"url(#clip842)\" d=\"\n",
       "M1341.13 730.176 L1313.32 665.696 L1361.49 637.224 L1389.3 701.704  Z\n",
       "  \" fill=\"#25838d\" fill-rule=\"evenodd\" fill-opacity=\"0.7\"/>\n",
       "<path clip-path=\"url(#clip842)\" d=\"\n",
       "M1389.3 701.704 L1361.49 637.224 L1409.66 613.986 L1437.48 678.466  Z\n",
       "  \" fill=\"#22898d\" fill-rule=\"evenodd\" fill-opacity=\"0.7\"/>\n",
       "<path clip-path=\"url(#clip842)\" d=\"\n",
       "M1437.48 678.466 L1409.66 613.986 L1457.84 595.981 L1485.65 660.462  Z\n",
       "  \" fill=\"#218e8c\" fill-rule=\"evenodd\" fill-opacity=\"0.7\"/>\n",
       "<path clip-path=\"url(#clip842)\" d=\"\n",
       "M1485.65 660.462 L1457.84 595.981 L1506.01 583.211 L1533.82 647.692  Z\n",
       "  \" fill=\"#1f938b\" fill-rule=\"evenodd\" fill-opacity=\"0.7\"/>\n",
       "<path clip-path=\"url(#clip842)\" d=\"\n",
       "M1533.82 647.692 L1506.01 583.211 L1554.18 575.675 L1581.99 640.155  Z\n",
       "  \" fill=\"#1f968b\" fill-rule=\"evenodd\" fill-opacity=\"0.7\"/>\n",
       "<path clip-path=\"url(#clip842)\" d=\"\n",
       "M1581.99 640.155 L1554.18 575.675 L1602.36 573.373 L1630.17 637.853  Z\n",
       "  \" fill=\"#1e978a\" fill-rule=\"evenodd\" fill-opacity=\"0.7\"/>\n",
       "<path clip-path=\"url(#clip842)\" d=\"\n",
       "M1630.17 637.853 L1602.36 573.373 L1650.53 576.304 L1678.34 640.785  Z\n",
       "  \" fill=\"#1e988a\" fill-rule=\"evenodd\" fill-opacity=\"0.7\"/>\n",
       "<path clip-path=\"url(#clip842)\" d=\"\n",
       "M1678.34 640.785 L1650.53 576.304 L1698.7 584.47 L1726.51 648.95  Z\n",
       "  \" fill=\"#1e978a\" fill-rule=\"evenodd\" fill-opacity=\"0.7\"/>\n",
       "<path clip-path=\"url(#clip842)\" d=\"\n",
       "M1726.51 648.95 L1698.7 584.47 L1746.87 597.869 L1774.69 662.35  Z\n",
       "  \" fill=\"#1f968b\" fill-rule=\"evenodd\" fill-opacity=\"0.7\"/>\n",
       "<path clip-path=\"url(#clip842)\" d=\"\n",
       "M1774.69 662.35 L1746.87 597.869 L1795.05 616.503 L1822.86 680.983  Z\n",
       "  \" fill=\"#1f938b\" fill-rule=\"evenodd\" fill-opacity=\"0.7\"/>\n",
       "<path clip-path=\"url(#clip842)\" d=\"\n",
       "M1822.86 680.983 L1795.05 616.503 L1843.22 640.37 L1871.03 704.851  Z\n",
       "  \" fill=\"#218e8c\" fill-rule=\"evenodd\" fill-opacity=\"0.7\"/>\n",
       "<path clip-path=\"url(#clip842)\" d=\"\n",
       "M1871.03 704.851 L1843.22 640.37 L1891.39 669.472 L1919.2 733.952  Z\n",
       "  \" fill=\"#22898d\" fill-rule=\"evenodd\" fill-opacity=\"0.7\"/>\n",
       "<path clip-path=\"url(#clip842)\" d=\"\n",
       "M1919.2 733.952 L1891.39 669.472 L1939.56 703.807 L1967.38 768.288  Z\n",
       "  \" fill=\"#25838d\" fill-rule=\"evenodd\" fill-opacity=\"0.7\"/>\n",
       "<path clip-path=\"url(#clip842)\" d=\"\n",
       "M1967.38 768.288 L1939.56 703.807 L1987.74 743.377 L2015.55 807.857  Z\n",
       "  \" fill=\"#287b8e\" fill-rule=\"evenodd\" fill-opacity=\"0.7\"/>\n",
       "<path clip-path=\"url(#clip842)\" d=\"\n",
       "M2015.55 807.857 L1987.74 743.377 L2035.91 788.18 L2063.72 852.66  Z\n",
       "  \" fill=\"#2b738e\" fill-rule=\"evenodd\" fill-opacity=\"0.7\"/>\n",
       "<path clip-path=\"url(#clip842)\" d=\"\n",
       "M2063.72 852.66 L2035.91 788.18 L2084.08 838.217 L2111.89 902.698  Z\n",
       "  \" fill=\"#2f698d\" fill-rule=\"evenodd\" fill-opacity=\"0.7\"/>\n",
       "<path clip-path=\"url(#clip842)\" d=\"\n",
       "M2111.89 902.698 L2084.08 838.217 L2132.25 893.489 L2160.07 957.969  Z\n",
       "  \" fill=\"#355d8c\" fill-rule=\"evenodd\" fill-opacity=\"0.7\"/>\n",
       "<path clip-path=\"url(#clip842)\" d=\"\n",
       "M2160.07 957.969 L2132.25 893.489 L2180.43 953.994 L2208.24 1018.47  Z\n",
       "  \" fill=\"#3b518a\" fill-rule=\"evenodd\" fill-opacity=\"0.7\"/>\n",
       "<path clip-path=\"url(#clip842)\" d=\"\n",
       "M2208.24 1018.47 L2180.43 953.994 L2228.6 1019.73 L2256.41 1084.21  Z\n",
       "  \" fill=\"#414186\" fill-rule=\"evenodd\" fill-opacity=\"0.7\"/>\n",
       "<path clip-path=\"url(#clip842)\" d=\"\n",
       "M2256.41 1084.21 L2228.6 1019.73 L2276.77 1090.71 L2304.58 1155.19  Z\n",
       "  \" fill=\"#462d7c\" fill-rule=\"evenodd\" fill-opacity=\"0.7\"/>\n",
       "<path clip-path=\"url(#clip842)\" d=\"\n",
       "M2304.58 1155.19 L2276.77 1090.71 L2324.94 1166.91 L2352.76 1231.39  Z\n",
       "  \" fill=\"#48196b\" fill-rule=\"evenodd\" fill-opacity=\"0.7\"/>\n",
       "<path clip-path=\"url(#clip842)\" d=\"\n",
       "M927.939 1081.9 L900.127 1022.65 L948.299 952.305 L976.112 1011.55  Z\n",
       "  \" fill=\"#462d7c\" fill-rule=\"evenodd\" fill-opacity=\"0.7\"/>\n",
       "<path clip-path=\"url(#clip842)\" d=\"\n",
       "M976.112 1011.55 L948.299 952.305 L996.472 887.195 L1024.28 946.441  Z\n",
       "  \" fill=\"#414286\" fill-rule=\"evenodd\" fill-opacity=\"0.7\"/>\n",
       "<path clip-path=\"url(#clip842)\" d=\"\n",
       "M1024.28 946.441 L996.472 887.195 L1044.64 827.319 L1072.46 886.566  Z\n",
       "  \" fill=\"#3a538b\" fill-rule=\"evenodd\" fill-opacity=\"0.7\"/>\n",
       "<path clip-path=\"url(#clip842)\" d=\"\n",
       "M1072.46 886.566 L1044.64 827.319 L1092.82 772.677 L1120.63 831.924  Z\n",
       "  \" fill=\"#33618d\" fill-rule=\"evenodd\" fill-opacity=\"0.7\"/>\n",
       "<path clip-path=\"url(#clip842)\" d=\"\n",
       "M1120.63 831.924 L1092.82 772.677 L1140.99 723.269 L1168.8 782.516  Z\n",
       "  \" fill=\"#2d6e8e\" fill-rule=\"evenodd\" fill-opacity=\"0.7\"/>\n",
       "<path clip-path=\"url(#clip842)\" d=\"\n",
       "M1168.8 782.516 L1140.99 723.269 L1189.16 679.095 L1216.97 738.342  Z\n",
       "  \" fill=\"#29798e\" fill-rule=\"evenodd\" fill-opacity=\"0.7\"/>\n",
       "<path clip-path=\"url(#clip842)\" d=\"\n",
       "M1216.97 738.342 L1189.16 679.095 L1237.33 640.155 L1265.15 699.402  Z\n",
       "  \" fill=\"#25838d\" fill-rule=\"evenodd\" fill-opacity=\"0.7\"/>\n",
       "<path clip-path=\"url(#clip842)\" d=\"\n",
       "M1265.15 699.402 L1237.33 640.155 L1285.51 606.449 L1313.32 665.696  Z\n",
       "  \" fill=\"#228b8d\" fill-rule=\"evenodd\" fill-opacity=\"0.7\"/>\n",
       "<path clip-path=\"url(#clip842)\" d=\"\n",
       "M1313.32 665.696 L1285.51 606.449 L1333.68 577.977 L1361.49 637.224  Z\n",
       "  \" fill=\"#1f938b\" fill-rule=\"evenodd\" fill-opacity=\"0.7\"/>\n",
       "<path clip-path=\"url(#clip842)\" d=\"\n",
       "M1361.49 637.224 L1333.68 577.977 L1381.85 554.739 L1409.66 613.986  Z\n",
       "  \" fill=\"#1e998a\" fill-rule=\"evenodd\" fill-opacity=\"0.7\"/>\n",
       "<path clip-path=\"url(#clip842)\" d=\"\n",
       "M1409.66 613.986 L1381.85 554.739 L1430.02 536.735 L1457.84 595.981  Z\n",
       "  \" fill=\"#1e9e88\" fill-rule=\"evenodd\" fill-opacity=\"0.7\"/>\n",
       "<path clip-path=\"url(#clip842)\" d=\"\n",
       "M1457.84 595.981 L1430.02 536.735 L1478.2 523.965 L1506.01 583.211  Z\n",
       "  \" fill=\"#1fa286\" fill-rule=\"evenodd\" fill-opacity=\"0.7\"/>\n",
       "<path clip-path=\"url(#clip842)\" d=\"\n",
       "M1506.01 583.211 L1478.2 523.965 L1526.37 516.428 L1554.18 575.675  Z\n",
       "  \" fill=\"#20a585\" fill-rule=\"evenodd\" fill-opacity=\"0.7\"/>\n",
       "<path clip-path=\"url(#clip842)\" d=\"\n",
       "M1554.18 575.675 L1526.37 516.428 L1574.54 514.126 L1602.36 573.373  Z\n",
       "  \" fill=\"#21a784\" fill-rule=\"evenodd\" fill-opacity=\"0.7\"/>\n",
       "<path clip-path=\"url(#clip842)\" d=\"\n",
       "M1602.36 573.373 L1574.54 514.126 L1622.72 517.058 L1650.53 576.304  Z\n",
       "  \" fill=\"#21a784\" fill-rule=\"evenodd\" fill-opacity=\"0.7\"/>\n",
       "<path clip-path=\"url(#clip842)\" d=\"\n",
       "M1650.53 576.304 L1622.72 517.058 L1670.89 525.223 L1698.7 584.47  Z\n",
       "  \" fill=\"#21a784\" fill-rule=\"evenodd\" fill-opacity=\"0.7\"/>\n",
       "<path clip-path=\"url(#clip842)\" d=\"\n",
       "M1698.7 584.47 L1670.89 525.223 L1719.06 538.623 L1746.87 597.869  Z\n",
       "  \" fill=\"#20a585\" fill-rule=\"evenodd\" fill-opacity=\"0.7\"/>\n",
       "<path clip-path=\"url(#clip842)\" d=\"\n",
       "M1746.87 597.869 L1719.06 538.623 L1767.23 557.256 L1795.05 616.503  Z\n",
       "  \" fill=\"#1fa286\" fill-rule=\"evenodd\" fill-opacity=\"0.7\"/>\n",
       "<path clip-path=\"url(#clip842)\" d=\"\n",
       "M1795.05 616.503 L1767.23 557.256 L1815.41 581.124 L1843.22 640.37  Z\n",
       "  \" fill=\"#1e9e88\" fill-rule=\"evenodd\" fill-opacity=\"0.7\"/>\n",
       "<path clip-path=\"url(#clip842)\" d=\"\n",
       "M1843.22 640.37 L1815.41 581.124 L1863.58 610.225 L1891.39 669.472  Z\n",
       "  \" fill=\"#1e998a\" fill-rule=\"evenodd\" fill-opacity=\"0.7\"/>\n",
       "<path clip-path=\"url(#clip842)\" d=\"\n",
       "M1891.39 669.472 L1863.58 610.225 L1911.75 644.561 L1939.56 703.807  Z\n",
       "  \" fill=\"#1f938b\" fill-rule=\"evenodd\" fill-opacity=\"0.7\"/>\n",
       "<path clip-path=\"url(#clip842)\" d=\"\n",
       "M1939.56 703.807 L1911.75 644.561 L1959.92 684.13 L1987.74 743.377  Z\n",
       "  \" fill=\"#228b8d\" fill-rule=\"evenodd\" fill-opacity=\"0.7\"/>\n",
       "<path clip-path=\"url(#clip842)\" d=\"\n",
       "M1987.74 743.377 L1959.92 684.13 L2008.1 728.934 L2035.91 788.18  Z\n",
       "  \" fill=\"#25838d\" fill-rule=\"evenodd\" fill-opacity=\"0.7\"/>\n",
       "<path clip-path=\"url(#clip842)\" d=\"\n",
       "M2035.91 788.18 L2008.1 728.934 L2056.27 778.971 L2084.08 838.217  Z\n",
       "  \" fill=\"#29798e\" fill-rule=\"evenodd\" fill-opacity=\"0.7\"/>\n",
       "<path clip-path=\"url(#clip842)\" d=\"\n",
       "M2084.08 838.217 L2056.27 778.971 L2104.44 834.242 L2132.25 893.489  Z\n",
       "  \" fill=\"#2d6e8e\" fill-rule=\"evenodd\" fill-opacity=\"0.7\"/>\n",
       "<path clip-path=\"url(#clip842)\" d=\"\n",
       "M2132.25 893.489 L2104.44 834.242 L2152.61 894.747 L2180.43 953.994  Z\n",
       "  \" fill=\"#33618d\" fill-rule=\"evenodd\" fill-opacity=\"0.7\"/>\n",
       "<path clip-path=\"url(#clip842)\" d=\"\n",
       "M2180.43 953.994 L2152.61 894.747 L2200.79 960.486 L2228.6 1019.73  Z\n",
       "  \" fill=\"#3a538b\" fill-rule=\"evenodd\" fill-opacity=\"0.7\"/>\n",
       "<path clip-path=\"url(#clip842)\" d=\"\n",
       "M2228.6 1019.73 L2200.79 960.486 L2248.96 1031.46 L2276.77 1090.71  Z\n",
       "  \" fill=\"#414286\" fill-rule=\"evenodd\" fill-opacity=\"0.7\"/>\n",
       "<path clip-path=\"url(#clip842)\" d=\"\n",
       "M2276.77 1090.71 L2248.96 1031.46 L2297.13 1107.67 L2324.94 1166.91  Z\n",
       "  \" fill=\"#462d7c\" fill-rule=\"evenodd\" fill-opacity=\"0.7\"/>\n",
       "<path clip-path=\"url(#clip842)\" d=\"\n",
       "M900.127 1022.65 L872.314 968.636 L920.487 898.292 L948.299 952.305  Z\n",
       "  \" fill=\"#414186\" fill-rule=\"evenodd\" fill-opacity=\"0.7\"/>\n",
       "<path clip-path=\"url(#clip842)\" d=\"\n",
       "M948.299 952.305 L920.487 898.292 L968.659 833.182 L996.472 887.195  Z\n",
       "  \" fill=\"#3a538b\" fill-rule=\"evenodd\" fill-opacity=\"0.7\"/>\n",
       "<path clip-path=\"url(#clip842)\" d=\"\n",
       "M996.472 887.195 L968.659 833.182 L1016.83 773.307 L1044.64 827.319  Z\n",
       "  \" fill=\"#32628d\" fill-rule=\"evenodd\" fill-opacity=\"0.7\"/>\n",
       "<path clip-path=\"url(#clip842)\" d=\"\n",
       "M1044.64 827.319 L1016.83 773.307 L1065 718.665 L1092.82 772.677  Z\n",
       "  \" fill=\"#2c708e\" fill-rule=\"evenodd\" fill-opacity=\"0.7\"/>\n",
       "<path clip-path=\"url(#clip842)\" d=\"\n",
       "M1092.82 772.677 L1065 718.665 L1113.18 669.257 L1140.99 723.269  Z\n",
       "  \" fill=\"#277c8e\" fill-rule=\"evenodd\" fill-opacity=\"0.7\"/>\n",
       "<path clip-path=\"url(#clip842)\" d=\"\n",
       "M1140.99 723.269 L1113.18 669.257 L1161.35 625.083 L1189.16 679.095  Z\n",
       "  \" fill=\"#23878d\" fill-rule=\"evenodd\" fill-opacity=\"0.7\"/>\n",
       "<path clip-path=\"url(#clip842)\" d=\"\n",
       "M1189.16 679.095 L1161.35 625.083 L1209.52 586.143 L1237.33 640.155  Z\n",
       "  \" fill=\"#20918c\" fill-rule=\"evenodd\" fill-opacity=\"0.7\"/>\n",
       "<path clip-path=\"url(#clip842)\" d=\"\n",
       "M1237.33 640.155 L1209.52 586.143 L1257.69 552.437 L1285.51 606.449  Z\n",
       "  \" fill=\"#1e998a\" fill-rule=\"evenodd\" fill-opacity=\"0.7\"/>\n",
       "<path clip-path=\"url(#clip842)\" d=\"\n",
       "M1285.51 606.449 L1257.69 552.437 L1305.87 523.965 L1333.68 577.977  Z\n",
       "  \" fill=\"#1fa187\" fill-rule=\"evenodd\" fill-opacity=\"0.7\"/>\n",
       "<path clip-path=\"url(#clip842)\" d=\"\n",
       "M1333.68 577.977 L1305.87 523.965 L1354.04 500.726 L1381.85 554.739  Z\n",
       "  \" fill=\"#21a784\" fill-rule=\"evenodd\" fill-opacity=\"0.7\"/>\n",
       "<path clip-path=\"url(#clip842)\" d=\"\n",
       "M1381.85 554.739 L1354.04 500.726 L1402.21 482.722 L1430.02 536.735  Z\n",
       "  \" fill=\"#26ac81\" fill-rule=\"evenodd\" fill-opacity=\"0.7\"/>\n",
       "<path clip-path=\"url(#clip842)\" d=\"\n",
       "M1430.02 536.735 L1402.21 482.722 L1450.39 469.952 L1478.2 523.965  Z\n",
       "  \" fill=\"#2ab07e\" fill-rule=\"evenodd\" fill-opacity=\"0.7\"/>\n",
       "<path clip-path=\"url(#clip842)\" d=\"\n",
       "M1478.2 523.965 L1450.39 469.952 L1498.56 462.416 L1526.37 516.428  Z\n",
       "  \" fill=\"#2eb27c\" fill-rule=\"evenodd\" fill-opacity=\"0.7\"/>\n",
       "<path clip-path=\"url(#clip842)\" d=\"\n",
       "M1526.37 516.428 L1498.56 462.416 L1546.73 460.114 L1574.54 514.126  Z\n",
       "  \" fill=\"#30b47a\" fill-rule=\"evenodd\" fill-opacity=\"0.7\"/>\n",
       "<path clip-path=\"url(#clip842)\" d=\"\n",
       "M1574.54 514.126 L1546.73 460.114 L1594.9 463.045 L1622.72 517.058  Z\n",
       "  \" fill=\"#32b57a\" fill-rule=\"evenodd\" fill-opacity=\"0.7\"/>\n",
       "<path clip-path=\"url(#clip842)\" d=\"\n",
       "M1622.72 517.058 L1594.9 463.045 L1643.08 471.211 L1670.89 525.223  Z\n",
       "  \" fill=\"#30b47a\" fill-rule=\"evenodd\" fill-opacity=\"0.7\"/>\n",
       "<path clip-path=\"url(#clip842)\" d=\"\n",
       "M1670.89 525.223 L1643.08 471.211 L1691.25 484.61 L1719.06 538.623  Z\n",
       "  \" fill=\"#2eb27c\" fill-rule=\"evenodd\" fill-opacity=\"0.7\"/>\n",
       "<path clip-path=\"url(#clip842)\" d=\"\n",
       "M1719.06 538.623 L1691.25 484.61 L1739.42 503.244 L1767.23 557.256  Z\n",
       "  \" fill=\"#2ab07e\" fill-rule=\"evenodd\" fill-opacity=\"0.7\"/>\n",
       "<path clip-path=\"url(#clip842)\" d=\"\n",
       "M1767.23 557.256 L1739.42 503.244 L1787.59 527.111 L1815.41 581.124  Z\n",
       "  \" fill=\"#26ac81\" fill-rule=\"evenodd\" fill-opacity=\"0.7\"/>\n",
       "<path clip-path=\"url(#clip842)\" d=\"\n",
       "M1815.41 581.124 L1787.59 527.111 L1835.77 556.213 L1863.58 610.225  Z\n",
       "  \" fill=\"#21a784\" fill-rule=\"evenodd\" fill-opacity=\"0.7\"/>\n",
       "<path clip-path=\"url(#clip842)\" d=\"\n",
       "M1863.58 610.225 L1835.77 556.213 L1883.94 590.548 L1911.75 644.561  Z\n",
       "  \" fill=\"#1fa187\" fill-rule=\"evenodd\" fill-opacity=\"0.7\"/>\n",
       "<path clip-path=\"url(#clip842)\" d=\"\n",
       "M1911.75 644.561 L1883.94 590.548 L1932.11 630.118 L1959.92 684.13  Z\n",
       "  \" fill=\"#1e998a\" fill-rule=\"evenodd\" fill-opacity=\"0.7\"/>\n",
       "<path clip-path=\"url(#clip842)\" d=\"\n",
       "M1959.92 684.13 L1932.11 630.118 L1980.28 674.921 L2008.1 728.934  Z\n",
       "  \" fill=\"#20918c\" fill-rule=\"evenodd\" fill-opacity=\"0.7\"/>\n",
       "<path clip-path=\"url(#clip842)\" d=\"\n",
       "M2008.1 728.934 L1980.28 674.921 L2028.46 724.958 L2056.27 778.971  Z\n",
       "  \" fill=\"#23878d\" fill-rule=\"evenodd\" fill-opacity=\"0.7\"/>\n",
       "<path clip-path=\"url(#clip842)\" d=\"\n",
       "M2056.27 778.971 L2028.46 724.958 L2076.63 780.23 L2104.44 834.242  Z\n",
       "  \" fill=\"#277c8e\" fill-rule=\"evenodd\" fill-opacity=\"0.7\"/>\n",
       "<path clip-path=\"url(#clip842)\" d=\"\n",
       "M2104.44 834.242 L2076.63 780.23 L2124.8 840.735 L2152.61 894.747  Z\n",
       "  \" fill=\"#2c708e\" fill-rule=\"evenodd\" fill-opacity=\"0.7\"/>\n",
       "<path clip-path=\"url(#clip842)\" d=\"\n",
       "M2152.61 894.747 L2124.8 840.735 L2172.97 906.474 L2200.79 960.486  Z\n",
       "  \" fill=\"#32628d\" fill-rule=\"evenodd\" fill-opacity=\"0.7\"/>\n",
       "<path clip-path=\"url(#clip842)\" d=\"\n",
       "M2200.79 960.486 L2172.97 906.474 L2221.15 977.447 L2248.96 1031.46  Z\n",
       "  \" fill=\"#3a538b\" fill-rule=\"evenodd\" fill-opacity=\"0.7\"/>\n",
       "<path clip-path=\"url(#clip842)\" d=\"\n",
       "M2248.96 1031.46 L2221.15 977.447 L2269.32 1053.65 L2297.13 1107.67  Z\n",
       "  \" fill=\"#414186\" fill-rule=\"evenodd\" fill-opacity=\"0.7\"/>\n",
       "<path clip-path=\"url(#clip842)\" d=\"\n",
       "M872.314 968.636 L844.502 919.857 L892.674 849.514 L920.487 898.292  Z\n",
       "  \" fill=\"#3b518a\" fill-rule=\"evenodd\" fill-opacity=\"0.7\"/>\n",
       "<path clip-path=\"url(#clip842)\" d=\"\n",
       "M920.487 898.292 L892.674 849.514 L940.847 784.404 L968.659 833.182  Z\n",
       "  \" fill=\"#33618d\" fill-rule=\"evenodd\" fill-opacity=\"0.7\"/>\n",
       "<path clip-path=\"url(#clip842)\" d=\"\n",
       "M968.659 833.182 L940.847 784.404 L989.02 724.528 L1016.83 773.307  Z\n",
       "  \" fill=\"#2c708e\" fill-rule=\"evenodd\" fill-opacity=\"0.7\"/>\n",
       "<path clip-path=\"url(#clip842)\" d=\"\n",
       "M1016.83 773.307 L989.02 724.528 L1037.19 669.886 L1065 718.665  Z\n",
       "  \" fill=\"#277d8e\" fill-rule=\"evenodd\" fill-opacity=\"0.7\"/>\n",
       "<path clip-path=\"url(#clip842)\" d=\"\n",
       "M1065 718.665 L1037.19 669.886 L1085.36 620.478 L1113.18 669.257  Z\n",
       "  \" fill=\"#22898d\" fill-rule=\"evenodd\" fill-opacity=\"0.7\"/>\n",
       "<path clip-path=\"url(#clip842)\" d=\"\n",
       "M1113.18 669.257 L1085.36 620.478 L1133.54 576.304 L1161.35 625.083  Z\n",
       "  \" fill=\"#1f948b\" fill-rule=\"evenodd\" fill-opacity=\"0.7\"/>\n",
       "<path clip-path=\"url(#clip842)\" d=\"\n",
       "M1161.35 625.083 L1133.54 576.304 L1181.71 537.364 L1209.52 586.143  Z\n",
       "  \" fill=\"#1e9e88\" fill-rule=\"evenodd\" fill-opacity=\"0.7\"/>\n",
       "<path clip-path=\"url(#clip842)\" d=\"\n",
       "M1209.52 586.143 L1181.71 537.364 L1229.88 503.658 L1257.69 552.437  Z\n",
       "  \" fill=\"#21a784\" fill-rule=\"evenodd\" fill-opacity=\"0.7\"/>\n",
       "<path clip-path=\"url(#clip842)\" d=\"\n",
       "M1257.69 552.437 L1229.88 503.658 L1278.05 475.186 L1305.87 523.965  Z\n",
       "  \" fill=\"#28ae7f\" fill-rule=\"evenodd\" fill-opacity=\"0.7\"/>\n",
       "<path clip-path=\"url(#clip842)\" d=\"\n",
       "M1305.87 523.965 L1278.05 475.186 L1326.23 451.948 L1354.04 500.726  Z\n",
       "  \" fill=\"#2fb37b\" fill-rule=\"evenodd\" fill-opacity=\"0.7\"/>\n",
       "<path clip-path=\"url(#clip842)\" d=\"\n",
       "M1354.04 500.726 L1326.23 451.948 L1374.4 433.944 L1402.21 482.722  Z\n",
       "  \" fill=\"#38b976\" fill-rule=\"evenodd\" fill-opacity=\"0.7\"/>\n",
       "<path clip-path=\"url(#clip842)\" d=\"\n",
       "M1402.21 482.722 L1374.4 433.944 L1422.57 421.174 L1450.39 469.952  Z\n",
       "  \" fill=\"#3ebc73\" fill-rule=\"evenodd\" fill-opacity=\"0.7\"/>\n",
       "<path clip-path=\"url(#clip842)\" d=\"\n",
       "M1450.39 469.952 L1422.57 421.174 L1470.75 413.637 L1498.56 462.416  Z\n",
       "  \" fill=\"#44be70\" fill-rule=\"evenodd\" fill-opacity=\"0.7\"/>\n",
       "<path clip-path=\"url(#clip842)\" d=\"\n",
       "M1498.56 462.416 L1470.75 413.637 L1518.92 411.335 L1546.73 460.114  Z\n",
       "  \" fill=\"#47c06e\" fill-rule=\"evenodd\" fill-opacity=\"0.7\"/>\n",
       "<path clip-path=\"url(#clip842)\" d=\"\n",
       "M1546.73 460.114 L1518.92 411.335 L1567.09 414.267 L1594.9 463.045  Z\n",
       "  \" fill=\"#49c16d\" fill-rule=\"evenodd\" fill-opacity=\"0.7\"/>\n",
       "<path clip-path=\"url(#clip842)\" d=\"\n",
       "M1594.9 463.045 L1567.09 414.267 L1615.26 422.432 L1643.08 471.211  Z\n",
       "  \" fill=\"#47c06e\" fill-rule=\"evenodd\" fill-opacity=\"0.7\"/>\n",
       "<path clip-path=\"url(#clip842)\" d=\"\n",
       "M1643.08 471.211 L1615.26 422.432 L1663.44 435.832 L1691.25 484.61  Z\n",
       "  \" fill=\"#44be70\" fill-rule=\"evenodd\" fill-opacity=\"0.7\"/>\n",
       "<path clip-path=\"url(#clip842)\" d=\"\n",
       "M1691.25 484.61 L1663.44 435.832 L1711.61 454.465 L1739.42 503.244  Z\n",
       "  \" fill=\"#3ebc73\" fill-rule=\"evenodd\" fill-opacity=\"0.7\"/>\n",
       "<path clip-path=\"url(#clip842)\" d=\"\n",
       "M1739.42 503.244 L1711.61 454.465 L1759.78 478.333 L1787.59 527.111  Z\n",
       "  \" fill=\"#38b976\" fill-rule=\"evenodd\" fill-opacity=\"0.7\"/>\n",
       "<path clip-path=\"url(#clip842)\" d=\"\n",
       "M1787.59 527.111 L1759.78 478.333 L1807.95 507.434 L1835.77 556.213  Z\n",
       "  \" fill=\"#2fb37b\" fill-rule=\"evenodd\" fill-opacity=\"0.7\"/>\n",
       "<path clip-path=\"url(#clip842)\" d=\"\n",
       "M1835.77 556.213 L1807.95 507.434 L1856.13 541.77 L1883.94 590.548  Z\n",
       "  \" fill=\"#28ae7f\" fill-rule=\"evenodd\" fill-opacity=\"0.7\"/>\n",
       "<path clip-path=\"url(#clip842)\" d=\"\n",
       "M1883.94 590.548 L1856.13 541.77 L1904.3 581.339 L1932.11 630.118  Z\n",
       "  \" fill=\"#21a784\" fill-rule=\"evenodd\" fill-opacity=\"0.7\"/>\n",
       "<path clip-path=\"url(#clip842)\" d=\"\n",
       "M1932.11 630.118 L1904.3 581.339 L1952.47 626.142 L1980.28 674.921  Z\n",
       "  \" fill=\"#1e9e88\" fill-rule=\"evenodd\" fill-opacity=\"0.7\"/>\n",
       "<path clip-path=\"url(#clip842)\" d=\"\n",
       "M1980.28 674.921 L1952.47 626.142 L2000.64 676.18 L2028.46 724.958  Z\n",
       "  \" fill=\"#1f948b\" fill-rule=\"evenodd\" fill-opacity=\"0.7\"/>\n",
       "<path clip-path=\"url(#clip842)\" d=\"\n",
       "M2028.46 724.958 L2000.64 676.18 L2048.82 731.451 L2076.63 780.23  Z\n",
       "  \" fill=\"#22898d\" fill-rule=\"evenodd\" fill-opacity=\"0.7\"/>\n",
       "<path clip-path=\"url(#clip842)\" d=\"\n",
       "M2076.63 780.23 L2048.82 731.451 L2096.99 791.956 L2124.8 840.735  Z\n",
       "  \" fill=\"#277d8e\" fill-rule=\"evenodd\" fill-opacity=\"0.7\"/>\n",
       "<path clip-path=\"url(#clip842)\" d=\"\n",
       "M2124.8 840.735 L2096.99 791.956 L2145.16 857.695 L2172.97 906.474  Z\n",
       "  \" fill=\"#2c708e\" fill-rule=\"evenodd\" fill-opacity=\"0.7\"/>\n",
       "<path clip-path=\"url(#clip842)\" d=\"\n",
       "M2172.97 906.474 L2145.16 857.695 L2193.33 928.668 L2221.15 977.447  Z\n",
       "  \" fill=\"#33618d\" fill-rule=\"evenodd\" fill-opacity=\"0.7\"/>\n",
       "<path clip-path=\"url(#clip842)\" d=\"\n",
       "M2221.15 977.447 L2193.33 928.668 L2241.51 1004.88 L2269.32 1053.65  Z\n",
       "  \" fill=\"#3b518a\" fill-rule=\"evenodd\" fill-opacity=\"0.7\"/>\n",
       "<path clip-path=\"url(#clip842)\" d=\"\n",
       "M844.502 919.857 L816.689 876.313 L864.862 805.969 L892.674 849.514  Z\n",
       "  \" fill=\"#355d8c\" fill-rule=\"evenodd\" fill-opacity=\"0.7\"/>\n",
       "<path clip-path=\"url(#clip842)\" d=\"\n",
       "M892.674 849.514 L864.862 805.969 L913.035 740.859 L940.847 784.404  Z\n",
       "  \" fill=\"#2d6e8e\" fill-rule=\"evenodd\" fill-opacity=\"0.7\"/>\n",
       "<path clip-path=\"url(#clip842)\" d=\"\n",
       "M940.847 784.404 L913.035 740.859 L961.207 680.983 L989.02 724.528  Z\n",
       "  \" fill=\"#277c8e\" fill-rule=\"evenodd\" fill-opacity=\"0.7\"/>\n",
       "<path clip-path=\"url(#clip842)\" d=\"\n",
       "M989.02 724.528 L961.207 680.983 L1009.38 626.341 L1037.19 669.886  Z\n",
       "  \" fill=\"#22898d\" fill-rule=\"evenodd\" fill-opacity=\"0.7\"/>\n",
       "<path clip-path=\"url(#clip842)\" d=\"\n",
       "M1037.19 669.886 L1009.38 626.341 L1057.55 576.934 L1085.36 620.478  Z\n",
       "  \" fill=\"#1f968b\" fill-rule=\"evenodd\" fill-opacity=\"0.7\"/>\n",
       "<path clip-path=\"url(#clip842)\" d=\"\n",
       "M1085.36 620.478 L1057.55 576.934 L1105.72 532.76 L1133.54 576.304  Z\n",
       "  \" fill=\"#1ea087\" fill-rule=\"evenodd\" fill-opacity=\"0.7\"/>\n",
       "<path clip-path=\"url(#clip842)\" d=\"\n",
       "M1133.54 576.304 L1105.72 532.76 L1153.9 493.82 L1181.71 537.364  Z\n",
       "  \" fill=\"#23a982\" fill-rule=\"evenodd\" fill-opacity=\"0.7\"/>\n",
       "<path clip-path=\"url(#clip842)\" d=\"\n",
       "M1181.71 537.364 L1153.9 493.82 L1202.07 460.114 L1229.88 503.658  Z\n",
       "  \" fill=\"#2eb27c\" fill-rule=\"evenodd\" fill-opacity=\"0.7\"/>\n",
       "<path clip-path=\"url(#clip842)\" d=\"\n",
       "M1229.88 503.658 L1202.07 460.114 L1250.24 431.641 L1278.05 475.186  Z\n",
       "  \" fill=\"#38b976\" fill-rule=\"evenodd\" fill-opacity=\"0.7\"/>\n",
       "<path clip-path=\"url(#clip842)\" d=\"\n",
       "M1278.05 475.186 L1250.24 431.641 L1298.42 408.403 L1326.23 451.948  Z\n",
       "  \" fill=\"#44be70\" fill-rule=\"evenodd\" fill-opacity=\"0.7\"/>\n",
       "<path clip-path=\"url(#clip842)\" d=\"\n",
       "M1326.23 451.948 L1298.42 408.403 L1346.59 390.399 L1374.4 433.944  Z\n",
       "  \" fill=\"#4fc369\" fill-rule=\"evenodd\" fill-opacity=\"0.7\"/>\n",
       "<path clip-path=\"url(#clip842)\" d=\"\n",
       "M1374.4 433.944 L1346.59 390.399 L1394.76 377.629 L1422.57 421.174  Z\n",
       "  \" fill=\"#57c665\" fill-rule=\"evenodd\" fill-opacity=\"0.7\"/>\n",
       "<path clip-path=\"url(#clip842)\" d=\"\n",
       "M1422.57 421.174 L1394.76 377.629 L1442.93 370.093 L1470.75 413.637  Z\n",
       "  \" fill=\"#5ec961\" fill-rule=\"evenodd\" fill-opacity=\"0.7\"/>\n",
       "<path clip-path=\"url(#clip842)\" d=\"\n",
       "M1470.75 413.637 L1442.93 370.093 L1491.11 367.79 L1518.92 411.335  Z\n",
       "  \" fill=\"#62ca5f\" fill-rule=\"evenodd\" fill-opacity=\"0.7\"/>\n",
       "<path clip-path=\"url(#clip842)\" d=\"\n",
       "M1518.92 411.335 L1491.11 367.79 L1539.28 370.722 L1567.09 414.267  Z\n",
       "  \" fill=\"#62ca5f\" fill-rule=\"evenodd\" fill-opacity=\"0.7\"/>\n",
       "<path clip-path=\"url(#clip842)\" d=\"\n",
       "M1567.09 414.267 L1539.28 370.722 L1587.45 378.888 L1615.26 422.432  Z\n",
       "  \" fill=\"#62ca5f\" fill-rule=\"evenodd\" fill-opacity=\"0.7\"/>\n",
       "<path clip-path=\"url(#clip842)\" d=\"\n",
       "M1615.26 422.432 L1587.45 378.888 L1635.62 392.287 L1663.44 435.832  Z\n",
       "  \" fill=\"#5ec961\" fill-rule=\"evenodd\" fill-opacity=\"0.7\"/>\n",
       "<path clip-path=\"url(#clip842)\" d=\"\n",
       "M1663.44 435.832 L1635.62 392.287 L1683.8 410.921 L1711.61 454.465  Z\n",
       "  \" fill=\"#57c665\" fill-rule=\"evenodd\" fill-opacity=\"0.7\"/>\n",
       "<path clip-path=\"url(#clip842)\" d=\"\n",
       "M1711.61 454.465 L1683.8 410.921 L1731.97 434.788 L1759.78 478.333  Z\n",
       "  \" fill=\"#4fc369\" fill-rule=\"evenodd\" fill-opacity=\"0.7\"/>\n",
       "<path clip-path=\"url(#clip842)\" d=\"\n",
       "M1759.78 478.333 L1731.97 434.788 L1780.14 463.89 L1807.95 507.434  Z\n",
       "  \" fill=\"#44be70\" fill-rule=\"evenodd\" fill-opacity=\"0.7\"/>\n",
       "<path clip-path=\"url(#clip842)\" d=\"\n",
       "M1807.95 507.434 L1780.14 463.89 L1828.31 498.225 L1856.13 541.77  Z\n",
       "  \" fill=\"#38b976\" fill-rule=\"evenodd\" fill-opacity=\"0.7\"/>\n",
       "<path clip-path=\"url(#clip842)\" d=\"\n",
       "M1856.13 541.77 L1828.31 498.225 L1876.49 537.794 L1904.3 581.339  Z\n",
       "  \" fill=\"#2eb27c\" fill-rule=\"evenodd\" fill-opacity=\"0.7\"/>\n",
       "<path clip-path=\"url(#clip842)\" d=\"\n",
       "M1904.3 581.339 L1876.49 537.794 L1924.66 582.598 L1952.47 626.142  Z\n",
       "  \" fill=\"#23a982\" fill-rule=\"evenodd\" fill-opacity=\"0.7\"/>\n",
       "<path clip-path=\"url(#clip842)\" d=\"\n",
       "M1952.47 626.142 L1924.66 582.598 L1972.83 632.635 L2000.64 676.18  Z\n",
       "  \" fill=\"#1ea087\" fill-rule=\"evenodd\" fill-opacity=\"0.7\"/>\n",
       "<path clip-path=\"url(#clip842)\" d=\"\n",
       "M2000.64 676.18 L1972.83 632.635 L2021 687.906 L2048.82 731.451  Z\n",
       "  \" fill=\"#1f968b\" fill-rule=\"evenodd\" fill-opacity=\"0.7\"/>\n",
       "<path clip-path=\"url(#clip842)\" d=\"\n",
       "M2048.82 731.451 L2021 687.906 L2069.18 748.412 L2096.99 791.956  Z\n",
       "  \" fill=\"#22898d\" fill-rule=\"evenodd\" fill-opacity=\"0.7\"/>\n",
       "<path clip-path=\"url(#clip842)\" d=\"\n",
       "M2096.99 791.956 L2069.18 748.412 L2117.35 814.151 L2145.16 857.695  Z\n",
       "  \" fill=\"#277c8e\" fill-rule=\"evenodd\" fill-opacity=\"0.7\"/>\n",
       "<path clip-path=\"url(#clip842)\" d=\"\n",
       "M2145.16 857.695 L2117.35 814.151 L2165.52 885.124 L2193.33 928.668  Z\n",
       "  \" fill=\"#2d6e8e\" fill-rule=\"evenodd\" fill-opacity=\"0.7\"/>\n",
       "<path clip-path=\"url(#clip842)\" d=\"\n",
       "M2193.33 928.668 L2165.52 885.124 L2213.69 961.331 L2241.51 1004.88  Z\n",
       "  \" fill=\"#355d8c\" fill-rule=\"evenodd\" fill-opacity=\"0.7\"/>\n",
       "<path clip-path=\"url(#clip842)\" d=\"\n",
       "M816.689 876.313 L788.877 838.002 L837.05 767.658 L864.862 805.969  Z\n",
       "  \" fill=\"#2f698d\" fill-rule=\"evenodd\" fill-opacity=\"0.7\"/>\n",
       "<path clip-path=\"url(#clip842)\" d=\"\n",
       "M864.862 805.969 L837.05 767.658 L885.222 702.549 L913.035 740.859  Z\n",
       "  \" fill=\"#29798e\" fill-rule=\"evenodd\" fill-opacity=\"0.7\"/>\n",
       "<path clip-path=\"url(#clip842)\" d=\"\n",
       "M913.035 740.859 L885.222 702.549 L933.395 642.673 L961.207 680.983  Z\n",
       "  \" fill=\"#23878d\" fill-rule=\"evenodd\" fill-opacity=\"0.7\"/>\n",
       "<path clip-path=\"url(#clip842)\" d=\"\n",
       "M961.207 680.983 L933.395 642.673 L981.567 588.031 L1009.38 626.341  Z\n",
       "  \" fill=\"#1f948b\" fill-rule=\"evenodd\" fill-opacity=\"0.7\"/>\n",
       "<path clip-path=\"url(#clip842)\" d=\"\n",
       "M1009.38 626.341 L981.567 588.031 L1029.74 538.623 L1057.55 576.934  Z\n",
       "  \" fill=\"#1ea087\" fill-rule=\"evenodd\" fill-opacity=\"0.7\"/>\n",
       "<path clip-path=\"url(#clip842)\" d=\"\n",
       "M1057.55 576.934 L1029.74 538.623 L1077.91 494.449 L1105.72 532.76  Z\n",
       "  \" fill=\"#25ab81\" fill-rule=\"evenodd\" fill-opacity=\"0.7\"/>\n",
       "<path clip-path=\"url(#clip842)\" d=\"\n",
       "M1105.72 532.76 L1077.91 494.449 L1126.08 455.509 L1153.9 493.82  Z\n",
       "  \" fill=\"#30b47a\" fill-rule=\"evenodd\" fill-opacity=\"0.7\"/>\n",
       "<path clip-path=\"url(#clip842)\" d=\"\n",
       "M1153.9 493.82 L1126.08 455.509 L1174.26 421.803 L1202.07 460.114  Z\n",
       "  \" fill=\"#3ebc73\" fill-rule=\"evenodd\" fill-opacity=\"0.7\"/>\n",
       "<path clip-path=\"url(#clip842)\" d=\"\n",
       "M1202.07 460.114 L1174.26 421.803 L1222.43 393.331 L1250.24 431.641  Z\n",
       "  \" fill=\"#4dc26b\" fill-rule=\"evenodd\" fill-opacity=\"0.7\"/>\n",
       "<path clip-path=\"url(#clip842)\" d=\"\n",
       "M1250.24 431.641 L1222.43 393.331 L1270.6 370.093 L1298.42 408.403  Z\n",
       "  \" fill=\"#5bc862\" fill-rule=\"evenodd\" fill-opacity=\"0.7\"/>\n",
       "<path clip-path=\"url(#clip842)\" d=\"\n",
       "M1298.42 408.403 L1270.6 370.093 L1318.78 352.088 L1346.59 390.399  Z\n",
       "  \" fill=\"#67cc5c\" fill-rule=\"evenodd\" fill-opacity=\"0.7\"/>\n",
       "<path clip-path=\"url(#clip842)\" d=\"\n",
       "M1346.59 390.399 L1318.78 352.088 L1366.95 339.318 L1394.76 377.629  Z\n",
       "  \" fill=\"#70ce56\" fill-rule=\"evenodd\" fill-opacity=\"0.7\"/>\n",
       "<path clip-path=\"url(#clip842)\" d=\"\n",
       "M1394.76 377.629 L1366.95 339.318 L1415.12 331.782 L1442.93 370.093  Z\n",
       "  \" fill=\"#77d052\" fill-rule=\"evenodd\" fill-opacity=\"0.7\"/>\n",
       "<path clip-path=\"url(#clip842)\" d=\"\n",
       "M1442.93 370.093 L1415.12 331.782 L1463.29 329.48 L1491.11 367.79  Z\n",
       "  \" fill=\"#7cd24f\" fill-rule=\"evenodd\" fill-opacity=\"0.7\"/>\n",
       "<path clip-path=\"url(#clip842)\" d=\"\n",
       "M1491.11 367.79 L1463.29 329.48 L1511.47 332.411 L1539.28 370.722  Z\n",
       "  \" fill=\"#7ed24e\" fill-rule=\"evenodd\" fill-opacity=\"0.7\"/>\n",
       "<path clip-path=\"url(#clip842)\" d=\"\n",
       "M1539.28 370.722 L1511.47 332.411 L1559.64 340.577 L1587.45 378.888  Z\n",
       "  \" fill=\"#7cd24f\" fill-rule=\"evenodd\" fill-opacity=\"0.7\"/>\n",
       "<path clip-path=\"url(#clip842)\" d=\"\n",
       "M1587.45 378.888 L1559.64 340.577 L1607.81 353.977 L1635.62 392.287  Z\n",
       "  \" fill=\"#77d052\" fill-rule=\"evenodd\" fill-opacity=\"0.7\"/>\n",
       "<path clip-path=\"url(#clip842)\" d=\"\n",
       "M1635.62 392.287 L1607.81 353.977 L1655.98 372.61 L1683.8 410.921  Z\n",
       "  \" fill=\"#70ce56\" fill-rule=\"evenodd\" fill-opacity=\"0.7\"/>\n",
       "<path clip-path=\"url(#clip842)\" d=\"\n",
       "M1683.8 410.921 L1655.98 372.61 L1704.16 396.478 L1731.97 434.788  Z\n",
       "  \" fill=\"#67cc5c\" fill-rule=\"evenodd\" fill-opacity=\"0.7\"/>\n",
       "<path clip-path=\"url(#clip842)\" d=\"\n",
       "M1731.97 434.788 L1704.16 396.478 L1752.33 425.579 L1780.14 463.89  Z\n",
       "  \" fill=\"#5bc862\" fill-rule=\"evenodd\" fill-opacity=\"0.7\"/>\n",
       "<path clip-path=\"url(#clip842)\" d=\"\n",
       "M1780.14 463.89 L1752.33 425.579 L1800.5 459.914 L1828.31 498.225  Z\n",
       "  \" fill=\"#4dc26b\" fill-rule=\"evenodd\" fill-opacity=\"0.7\"/>\n",
       "<path clip-path=\"url(#clip842)\" d=\"\n",
       "M1828.31 498.225 L1800.5 459.914 L1848.67 499.484 L1876.49 537.794  Z\n",
       "  \" fill=\"#3ebc73\" fill-rule=\"evenodd\" fill-opacity=\"0.7\"/>\n",
       "<path clip-path=\"url(#clip842)\" d=\"\n",
       "M1876.49 537.794 L1848.67 499.484 L1896.85 544.287 L1924.66 582.598  Z\n",
       "  \" fill=\"#30b47a\" fill-rule=\"evenodd\" fill-opacity=\"0.7\"/>\n",
       "<path clip-path=\"url(#clip842)\" d=\"\n",
       "M1924.66 582.598 L1896.85 544.287 L1945.02 594.324 L1972.83 632.635  Z\n",
       "  \" fill=\"#25ab81\" fill-rule=\"evenodd\" fill-opacity=\"0.7\"/>\n",
       "<path clip-path=\"url(#clip842)\" d=\"\n",
       "M1972.83 632.635 L1945.02 594.324 L1993.19 649.596 L2021 687.906  Z\n",
       "  \" fill=\"#1ea087\" fill-rule=\"evenodd\" fill-opacity=\"0.7\"/>\n",
       "<path clip-path=\"url(#clip842)\" d=\"\n",
       "M2021 687.906 L1993.19 649.596 L2041.36 710.101 L2069.18 748.412  Z\n",
       "  \" fill=\"#1f948b\" fill-rule=\"evenodd\" fill-opacity=\"0.7\"/>\n",
       "<path clip-path=\"url(#clip842)\" d=\"\n",
       "M2069.18 748.412 L2041.36 710.101 L2089.54 775.84 L2117.35 814.151  Z\n",
       "  \" fill=\"#23878d\" fill-rule=\"evenodd\" fill-opacity=\"0.7\"/>\n",
       "<path clip-path=\"url(#clip842)\" d=\"\n",
       "M2117.35 814.151 L2089.54 775.84 L2137.71 846.813 L2165.52 885.124  Z\n",
       "  \" fill=\"#29798e\" fill-rule=\"evenodd\" fill-opacity=\"0.7\"/>\n",
       "<path clip-path=\"url(#clip842)\" d=\"\n",
       "M2165.52 885.124 L2137.71 846.813 L2185.88 923.02 L2213.69 961.331  Z\n",
       "  \" fill=\"#2f698d\" fill-rule=\"evenodd\" fill-opacity=\"0.7\"/>\n",
       "<path clip-path=\"url(#clip842)\" d=\"\n",
       "M788.877 838.002 L761.065 804.925 L809.237 734.582 L837.05 767.658  Z\n",
       "  \" fill=\"#2b738e\" fill-rule=\"evenodd\" fill-opacity=\"0.7\"/>\n",
       "<path clip-path=\"url(#clip842)\" d=\"\n",
       "M837.05 767.658 L809.237 734.582 L857.41 669.472 L885.222 702.549  Z\n",
       "  \" fill=\"#25838d\" fill-rule=\"evenodd\" fill-opacity=\"0.7\"/>\n",
       "<path clip-path=\"url(#clip842)\" d=\"\n",
       "M885.222 702.549 L857.41 669.472 L905.582 609.596 L933.395 642.673  Z\n",
       "  \" fill=\"#20918c\" fill-rule=\"evenodd\" fill-opacity=\"0.7\"/>\n",
       "<path clip-path=\"url(#clip842)\" d=\"\n",
       "M933.395 642.673 L905.582 609.596 L953.755 554.954 L981.567 588.031  Z\n",
       "  \" fill=\"#1e9e88\" fill-rule=\"evenodd\" fill-opacity=\"0.7\"/>\n",
       "<path clip-path=\"url(#clip842)\" d=\"\n",
       "M981.567 588.031 L953.755 554.954 L1001.93 505.546 L1029.74 538.623  Z\n",
       "  \" fill=\"#23a982\" fill-rule=\"evenodd\" fill-opacity=\"0.7\"/>\n",
       "<path clip-path=\"url(#clip842)\" d=\"\n",
       "M1029.74 538.623 L1001.93 505.546 L1050.1 461.372 L1077.91 494.449  Z\n",
       "  \" fill=\"#30b47a\" fill-rule=\"evenodd\" fill-opacity=\"0.7\"/>\n",
       "<path clip-path=\"url(#clip842)\" d=\"\n",
       "M1077.91 494.449 L1050.1 461.372 L1098.27 422.432 L1126.08 455.509  Z\n",
       "  \" fill=\"#40bd72\" fill-rule=\"evenodd\" fill-opacity=\"0.7\"/>\n",
       "<path clip-path=\"url(#clip842)\" d=\"\n",
       "M1126.08 455.509 L1098.27 422.432 L1146.45 388.726 L1174.26 421.803  Z\n",
       "  \" fill=\"#51c468\" fill-rule=\"evenodd\" fill-opacity=\"0.7\"/>\n",
       "<path clip-path=\"url(#clip842)\" d=\"\n",
       "M1174.26 421.803 L1146.45 388.726 L1194.62 360.254 L1222.43 393.331  Z\n",
       "  \" fill=\"#62ca5f\" fill-rule=\"evenodd\" fill-opacity=\"0.7\"/>\n",
       "<path clip-path=\"url(#clip842)\" d=\"\n",
       "M1222.43 393.331 L1194.62 360.254 L1242.79 337.016 L1270.6 370.093  Z\n",
       "  \" fill=\"#72cf55\" fill-rule=\"evenodd\" fill-opacity=\"0.7\"/>\n",
       "<path clip-path=\"url(#clip842)\" d=\"\n",
       "M1270.6 370.093 L1242.79 337.016 L1290.96 319.012 L1318.78 352.088  Z\n",
       "  \" fill=\"#7ed24e\" fill-rule=\"evenodd\" fill-opacity=\"0.7\"/>\n",
       "<path clip-path=\"url(#clip842)\" d=\"\n",
       "M1318.78 352.088 L1290.96 319.012 L1339.14 306.242 L1366.95 339.318  Z\n",
       "  \" fill=\"#8bd546\" fill-rule=\"evenodd\" fill-opacity=\"0.7\"/>\n",
       "<path clip-path=\"url(#clip842)\" d=\"\n",
       "M1366.95 339.318 L1339.14 306.242 L1387.31 298.705 L1415.12 331.782  Z\n",
       "  \" fill=\"#92d741\" fill-rule=\"evenodd\" fill-opacity=\"0.7\"/>\n",
       "<path clip-path=\"url(#clip842)\" d=\"\n",
       "M1415.12 331.782 L1387.31 298.705 L1435.48 296.403 L1463.29 329.48  Z\n",
       "  \" fill=\"#97d83e\" fill-rule=\"evenodd\" fill-opacity=\"0.7\"/>\n",
       "<path clip-path=\"url(#clip842)\" d=\"\n",
       "M1463.29 329.48 L1435.48 296.403 L1483.65 299.335 L1511.47 332.411  Z\n",
       "  \" fill=\"#97d83e\" fill-rule=\"evenodd\" fill-opacity=\"0.7\"/>\n",
       "<path clip-path=\"url(#clip842)\" d=\"\n",
       "M1511.47 332.411 L1483.65 299.335 L1531.83 307.5 L1559.64 340.577  Z\n",
       "  \" fill=\"#97d83e\" fill-rule=\"evenodd\" fill-opacity=\"0.7\"/>\n",
       "<path clip-path=\"url(#clip842)\" d=\"\n",
       "M1559.64 340.577 L1531.83 307.5 L1580 320.9 L1607.81 353.977  Z\n",
       "  \" fill=\"#92d741\" fill-rule=\"evenodd\" fill-opacity=\"0.7\"/>\n",
       "<path clip-path=\"url(#clip842)\" d=\"\n",
       "M1607.81 353.977 L1580 320.9 L1628.17 339.533 L1655.98 372.61  Z\n",
       "  \" fill=\"#8bd546\" fill-rule=\"evenodd\" fill-opacity=\"0.7\"/>\n",
       "<path clip-path=\"url(#clip842)\" d=\"\n",
       "M1655.98 372.61 L1628.17 339.533 L1676.34 363.401 L1704.16 396.478  Z\n",
       "  \" fill=\"#7ed24e\" fill-rule=\"evenodd\" fill-opacity=\"0.7\"/>\n",
       "<path clip-path=\"url(#clip842)\" d=\"\n",
       "M1704.16 396.478 L1676.34 363.401 L1724.52 392.502 L1752.33 425.579  Z\n",
       "  \" fill=\"#72cf55\" fill-rule=\"evenodd\" fill-opacity=\"0.7\"/>\n",
       "<path clip-path=\"url(#clip842)\" d=\"\n",
       "M1752.33 425.579 L1724.52 392.502 L1772.69 426.838 L1800.5 459.914  Z\n",
       "  \" fill=\"#62ca5f\" fill-rule=\"evenodd\" fill-opacity=\"0.7\"/>\n",
       "<path clip-path=\"url(#clip842)\" d=\"\n",
       "M1800.5 459.914 L1772.69 426.838 L1820.86 466.407 L1848.67 499.484  Z\n",
       "  \" fill=\"#51c468\" fill-rule=\"evenodd\" fill-opacity=\"0.7\"/>\n",
       "<path clip-path=\"url(#clip842)\" d=\"\n",
       "M1848.67 499.484 L1820.86 466.407 L1869.03 511.21 L1896.85 544.287  Z\n",
       "  \" fill=\"#40bd72\" fill-rule=\"evenodd\" fill-opacity=\"0.7\"/>\n",
       "<path clip-path=\"url(#clip842)\" d=\"\n",
       "M1896.85 544.287 L1869.03 511.21 L1917.21 561.248 L1945.02 594.324  Z\n",
       "  \" fill=\"#30b47a\" fill-rule=\"evenodd\" fill-opacity=\"0.7\"/>\n",
       "<path clip-path=\"url(#clip842)\" d=\"\n",
       "M1945.02 594.324 L1917.21 561.248 L1965.38 616.519 L1993.19 649.596  Z\n",
       "  \" fill=\"#23a982\" fill-rule=\"evenodd\" fill-opacity=\"0.7\"/>\n",
       "<path clip-path=\"url(#clip842)\" d=\"\n",
       "M1993.19 649.596 L1965.38 616.519 L2013.55 677.024 L2041.36 710.101  Z\n",
       "  \" fill=\"#1e9e88\" fill-rule=\"evenodd\" fill-opacity=\"0.7\"/>\n",
       "<path clip-path=\"url(#clip842)\" d=\"\n",
       "M2041.36 710.101 L2013.55 677.024 L2061.72 742.763 L2089.54 775.84  Z\n",
       "  \" fill=\"#20918c\" fill-rule=\"evenodd\" fill-opacity=\"0.7\"/>\n",
       "<path clip-path=\"url(#clip842)\" d=\"\n",
       "M2089.54 775.84 L2061.72 742.763 L2109.9 813.736 L2137.71 846.813  Z\n",
       "  \" fill=\"#25838d\" fill-rule=\"evenodd\" fill-opacity=\"0.7\"/>\n",
       "<path clip-path=\"url(#clip842)\" d=\"\n",
       "M2137.71 846.813 L2109.9 813.736 L2158.07 889.944 L2185.88 923.02  Z\n",
       "  \" fill=\"#2b738e\" fill-rule=\"evenodd\" fill-opacity=\"0.7\"/>\n",
       "<path clip-path=\"url(#clip842)\" d=\"\n",
       "M761.065 804.925 L733.252 777.083 L781.425 706.739 L809.237 734.582  Z\n",
       "  \" fill=\"#287b8e\" fill-rule=\"evenodd\" fill-opacity=\"0.7\"/>\n",
       "<path clip-path=\"url(#clip842)\" d=\"\n",
       "M809.237 734.582 L781.425 706.739 L829.597 641.629 L857.41 669.472  Z\n",
       "  \" fill=\"#228b8d\" fill-rule=\"evenodd\" fill-opacity=\"0.7\"/>\n",
       "<path clip-path=\"url(#clip842)\" d=\"\n",
       "M857.41 669.472 L829.597 641.629 L877.77 581.753 L905.582 609.596  Z\n",
       "  \" fill=\"#1e998a\" fill-rule=\"evenodd\" fill-opacity=\"0.7\"/>\n",
       "<path clip-path=\"url(#clip842)\" d=\"\n",
       "M905.582 609.596 L877.77 581.753 L925.942 527.111 L953.755 554.954  Z\n",
       "  \" fill=\"#21a784\" fill-rule=\"evenodd\" fill-opacity=\"0.7\"/>\n",
       "<path clip-path=\"url(#clip842)\" d=\"\n",
       "M953.755 554.954 L925.942 527.111 L974.115 477.703 L1001.93 505.546  Z\n",
       "  \" fill=\"#2eb27c\" fill-rule=\"evenodd\" fill-opacity=\"0.7\"/>\n",
       "<path clip-path=\"url(#clip842)\" d=\"\n",
       "M1001.93 505.546 L974.115 477.703 L1022.29 433.53 L1050.1 461.372  Z\n",
       "  \" fill=\"#3ebc73\" fill-rule=\"evenodd\" fill-opacity=\"0.7\"/>\n",
       "<path clip-path=\"url(#clip842)\" d=\"\n",
       "M1050.1 461.372 L1022.29 433.53 L1070.46 394.59 L1098.27 422.432  Z\n",
       "  \" fill=\"#51c468\" fill-rule=\"evenodd\" fill-opacity=\"0.7\"/>\n",
       "<path clip-path=\"url(#clip842)\" d=\"\n",
       "M1098.27 422.432 L1070.46 394.59 L1118.63 360.883 L1146.45 388.726  Z\n",
       "  \" fill=\"#67cc5c\" fill-rule=\"evenodd\" fill-opacity=\"0.7\"/>\n",
       "<path clip-path=\"url(#clip842)\" d=\"\n",
       "M1146.45 388.726 L1118.63 360.883 L1166.81 332.411 L1194.62 360.254  Z\n",
       "  \" fill=\"#77d052\" fill-rule=\"evenodd\" fill-opacity=\"0.7\"/>\n",
       "<path clip-path=\"url(#clip842)\" d=\"\n",
       "M1194.62 360.254 L1166.81 332.411 L1214.98 309.173 L1242.79 337.016  Z\n",
       "  \" fill=\"#88d547\" fill-rule=\"evenodd\" fill-opacity=\"0.7\"/>\n",
       "<path clip-path=\"url(#clip842)\" d=\"\n",
       "M1242.79 337.016 L1214.98 309.173 L1263.15 291.169 L1290.96 319.012  Z\n",
       "  \" fill=\"#97d83e\" fill-rule=\"evenodd\" fill-opacity=\"0.7\"/>\n",
       "<path clip-path=\"url(#clip842)\" d=\"\n",
       "M1290.96 319.012 L1263.15 291.169 L1311.32 278.399 L1339.14 306.242  Z\n",
       "  \" fill=\"#a2da37\" fill-rule=\"evenodd\" fill-opacity=\"0.7\"/>\n",
       "<path clip-path=\"url(#clip842)\" d=\"\n",
       "M1339.14 306.242 L1311.32 278.399 L1359.5 270.863 L1387.31 298.705  Z\n",
       "  \" fill=\"#aadb32\" fill-rule=\"evenodd\" fill-opacity=\"0.7\"/>\n",
       "<path clip-path=\"url(#clip842)\" d=\"\n",
       "M1387.31 298.705 L1359.5 270.863 L1407.67 268.56 L1435.48 296.403  Z\n",
       "  \" fill=\"#afdc2e\" fill-rule=\"evenodd\" fill-opacity=\"0.7\"/>\n",
       "<path clip-path=\"url(#clip842)\" d=\"\n",
       "M1435.48 296.403 L1407.67 268.56 L1455.84 271.492 L1483.65 299.335  Z\n",
       "  \" fill=\"#afdc2e\" fill-rule=\"evenodd\" fill-opacity=\"0.7\"/>\n",
       "<path clip-path=\"url(#clip842)\" d=\"\n",
       "M1483.65 299.335 L1455.84 271.492 L1504.01 279.658 L1531.83 307.5  Z\n",
       "  \" fill=\"#afdc2e\" fill-rule=\"evenodd\" fill-opacity=\"0.7\"/>\n",
       "<path clip-path=\"url(#clip842)\" d=\"\n",
       "M1531.83 307.5 L1504.01 279.658 L1552.19 293.057 L1580 320.9  Z\n",
       "  \" fill=\"#aadb32\" fill-rule=\"evenodd\" fill-opacity=\"0.7\"/>\n",
       "<path clip-path=\"url(#clip842)\" d=\"\n",
       "M1580 320.9 L1552.19 293.057 L1600.36 311.691 L1628.17 339.533  Z\n",
       "  \" fill=\"#a2da37\" fill-rule=\"evenodd\" fill-opacity=\"0.7\"/>\n",
       "<path clip-path=\"url(#clip842)\" d=\"\n",
       "M1628.17 339.533 L1600.36 311.691 L1648.53 335.558 L1676.34 363.401  Z\n",
       "  \" fill=\"#97d83e\" fill-rule=\"evenodd\" fill-opacity=\"0.7\"/>\n",
       "<path clip-path=\"url(#clip842)\" d=\"\n",
       "M1676.34 363.401 L1648.53 335.558 L1696.7 364.66 L1724.52 392.502  Z\n",
       "  \" fill=\"#88d547\" fill-rule=\"evenodd\" fill-opacity=\"0.7\"/>\n",
       "<path clip-path=\"url(#clip842)\" d=\"\n",
       "M1724.52 392.502 L1696.7 364.66 L1744.88 398.995 L1772.69 426.838  Z\n",
       "  \" fill=\"#77d052\" fill-rule=\"evenodd\" fill-opacity=\"0.7\"/>\n",
       "<path clip-path=\"url(#clip842)\" d=\"\n",
       "M1772.69 426.838 L1744.88 398.995 L1793.05 438.564 L1820.86 466.407  Z\n",
       "  \" fill=\"#67cc5c\" fill-rule=\"evenodd\" fill-opacity=\"0.7\"/>\n",
       "<path clip-path=\"url(#clip842)\" d=\"\n",
       "M1820.86 466.407 L1793.05 438.564 L1841.22 483.368 L1869.03 511.21  Z\n",
       "  \" fill=\"#51c468\" fill-rule=\"evenodd\" fill-opacity=\"0.7\"/>\n",
       "<path clip-path=\"url(#clip842)\" d=\"\n",
       "M1869.03 511.21 L1841.22 483.368 L1889.39 533.405 L1917.21 561.248  Z\n",
       "  \" fill=\"#3ebc73\" fill-rule=\"evenodd\" fill-opacity=\"0.7\"/>\n",
       "<path clip-path=\"url(#clip842)\" d=\"\n",
       "M1917.21 561.248 L1889.39 533.405 L1937.57 588.676 L1965.38 616.519  Z\n",
       "  \" fill=\"#2eb27c\" fill-rule=\"evenodd\" fill-opacity=\"0.7\"/>\n",
       "<path clip-path=\"url(#clip842)\" d=\"\n",
       "M1965.38 616.519 L1937.57 588.676 L1985.74 649.181 L2013.55 677.024  Z\n",
       "  \" fill=\"#21a784\" fill-rule=\"evenodd\" fill-opacity=\"0.7\"/>\n",
       "<path clip-path=\"url(#clip842)\" d=\"\n",
       "M2013.55 677.024 L1985.74 649.181 L2033.91 714.921 L2061.72 742.763  Z\n",
       "  \" fill=\"#1e998a\" fill-rule=\"evenodd\" fill-opacity=\"0.7\"/>\n",
       "<path clip-path=\"url(#clip842)\" d=\"\n",
       "M2061.72 742.763 L2033.91 714.921 L2082.08 785.894 L2109.9 813.736  Z\n",
       "  \" fill=\"#228b8d\" fill-rule=\"evenodd\" fill-opacity=\"0.7\"/>\n",
       "<path clip-path=\"url(#clip842)\" d=\"\n",
       "M2109.9 813.736 L2082.08 785.894 L2130.26 862.101 L2158.07 889.944  Z\n",
       "  \" fill=\"#287b8e\" fill-rule=\"evenodd\" fill-opacity=\"0.7\"/>\n",
       "<path clip-path=\"url(#clip842)\" d=\"\n",
       "M733.252 777.083 L705.44 754.474 L753.612 684.13 L781.425 706.739  Z\n",
       "  \" fill=\"#25838d\" fill-rule=\"evenodd\" fill-opacity=\"0.7\"/>\n",
       "<path clip-path=\"url(#clip842)\" d=\"\n",
       "M781.425 706.739 L753.612 684.13 L801.785 619.02 L829.597 641.629  Z\n",
       "  \" fill=\"#1f938b\" fill-rule=\"evenodd\" fill-opacity=\"0.7\"/>\n",
       "<path clip-path=\"url(#clip842)\" d=\"\n",
       "M829.597 641.629 L801.785 619.02 L849.957 559.145 L877.77 581.753  Z\n",
       "  \" fill=\"#1fa187\" fill-rule=\"evenodd\" fill-opacity=\"0.7\"/>\n",
       "<path clip-path=\"url(#clip842)\" d=\"\n",
       "M877.77 581.753 L849.957 559.145 L898.13 504.503 L925.942 527.111  Z\n",
       "  \" fill=\"#28ae7f\" fill-rule=\"evenodd\" fill-opacity=\"0.7\"/>\n",
       "<path clip-path=\"url(#clip842)\" d=\"\n",
       "M925.942 527.111 L898.13 504.503 L946.302 455.095 L974.115 477.703  Z\n",
       "  \" fill=\"#38b976\" fill-rule=\"evenodd\" fill-opacity=\"0.7\"/>\n",
       "<path clip-path=\"url(#clip842)\" d=\"\n",
       "M974.115 477.703 L946.302 455.095 L994.475 410.921 L1022.29 433.53  Z\n",
       "  \" fill=\"#4dc26b\" fill-rule=\"evenodd\" fill-opacity=\"0.7\"/>\n",
       "<path clip-path=\"url(#clip842)\" d=\"\n",
       "M1022.29 433.53 L994.475 410.921 L1042.65 371.981 L1070.46 394.59  Z\n",
       "  \" fill=\"#62ca5f\" fill-rule=\"evenodd\" fill-opacity=\"0.7\"/>\n",
       "<path clip-path=\"url(#clip842)\" d=\"\n",
       "M1070.46 394.59 L1042.65 371.981 L1090.82 338.275 L1118.63 360.883  Z\n",
       "  \" fill=\"#77d052\" fill-rule=\"evenodd\" fill-opacity=\"0.7\"/>\n",
       "<path clip-path=\"url(#clip842)\" d=\"\n",
       "M1118.63 360.883 L1090.82 338.275 L1138.99 309.803 L1166.81 332.411  Z\n",
       "  \" fill=\"#8bd546\" fill-rule=\"evenodd\" fill-opacity=\"0.7\"/>\n",
       "<path clip-path=\"url(#clip842)\" d=\"\n",
       "M1166.81 332.411 L1138.99 309.803 L1187.17 286.564 L1214.98 309.173  Z\n",
       "  \" fill=\"#9dd93a\" fill-rule=\"evenodd\" fill-opacity=\"0.7\"/>\n",
       "<path clip-path=\"url(#clip842)\" d=\"\n",
       "M1214.98 309.173 L1187.17 286.564 L1235.34 268.56 L1263.15 291.169  Z\n",
       "  \" fill=\"#aadb32\" fill-rule=\"evenodd\" fill-opacity=\"0.7\"/>\n",
       "<path clip-path=\"url(#clip842)\" d=\"\n",
       "M1263.15 291.169 L1235.34 268.56 L1283.51 255.79 L1311.32 278.399  Z\n",
       "  \" fill=\"#b7dd29\" fill-rule=\"evenodd\" fill-opacity=\"0.7\"/>\n",
       "<path clip-path=\"url(#clip842)\" d=\"\n",
       "M1311.32 278.399 L1283.51 255.79 L1331.68 248.254 L1359.5 270.863  Z\n",
       "  \" fill=\"#bfdf24\" fill-rule=\"evenodd\" fill-opacity=\"0.7\"/>\n",
       "<path clip-path=\"url(#clip842)\" d=\"\n",
       "M1359.5 270.863 L1331.68 248.254 L1379.86 245.951 L1407.67 268.56  Z\n",
       "  \" fill=\"#c5df21\" fill-rule=\"evenodd\" fill-opacity=\"0.7\"/>\n",
       "<path clip-path=\"url(#clip842)\" d=\"\n",
       "M1407.67 268.56 L1379.86 245.951 L1428.03 248.883 L1455.84 271.492  Z\n",
       "  \" fill=\"#c5df21\" fill-rule=\"evenodd\" fill-opacity=\"0.7\"/>\n",
       "<path clip-path=\"url(#clip842)\" d=\"\n",
       "M1455.84 271.492 L1428.03 248.883 L1476.2 257.049 L1504.01 279.658  Z\n",
       "  \" fill=\"#c5df21\" fill-rule=\"evenodd\" fill-opacity=\"0.7\"/>\n",
       "<path clip-path=\"url(#clip842)\" d=\"\n",
       "M1504.01 279.658 L1476.2 257.049 L1524.37 270.448 L1552.19 293.057  Z\n",
       "  \" fill=\"#bfdf24\" fill-rule=\"evenodd\" fill-opacity=\"0.7\"/>\n",
       "<path clip-path=\"url(#clip842)\" d=\"\n",
       "M1552.19 293.057 L1524.37 270.448 L1572.55 289.082 L1600.36 311.691  Z\n",
       "  \" fill=\"#b7dd29\" fill-rule=\"evenodd\" fill-opacity=\"0.7\"/>\n",
       "<path clip-path=\"url(#clip842)\" d=\"\n",
       "M1600.36 311.691 L1572.55 289.082 L1620.72 312.949 L1648.53 335.558  Z\n",
       "  \" fill=\"#aadb32\" fill-rule=\"evenodd\" fill-opacity=\"0.7\"/>\n",
       "<path clip-path=\"url(#clip842)\" d=\"\n",
       "M1648.53 335.558 L1620.72 312.949 L1668.89 342.051 L1696.7 364.66  Z\n",
       "  \" fill=\"#9dd93a\" fill-rule=\"evenodd\" fill-opacity=\"0.7\"/>\n",
       "<path clip-path=\"url(#clip842)\" d=\"\n",
       "M1696.7 364.66 L1668.89 342.051 L1717.06 376.386 L1744.88 398.995  Z\n",
       "  \" fill=\"#8bd546\" fill-rule=\"evenodd\" fill-opacity=\"0.7\"/>\n",
       "<path clip-path=\"url(#clip842)\" d=\"\n",
       "M1744.88 398.995 L1717.06 376.386 L1765.24 415.956 L1793.05 438.564  Z\n",
       "  \" fill=\"#77d052\" fill-rule=\"evenodd\" fill-opacity=\"0.7\"/>\n",
       "<path clip-path=\"url(#clip842)\" d=\"\n",
       "M1793.05 438.564 L1765.24 415.956 L1813.41 460.759 L1841.22 483.368  Z\n",
       "  \" fill=\"#62ca5f\" fill-rule=\"evenodd\" fill-opacity=\"0.7\"/>\n",
       "<path clip-path=\"url(#clip842)\" d=\"\n",
       "M1841.22 483.368 L1813.41 460.759 L1861.58 510.796 L1889.39 533.405  Z\n",
       "  \" fill=\"#4dc26b\" fill-rule=\"evenodd\" fill-opacity=\"0.7\"/>\n",
       "<path clip-path=\"url(#clip842)\" d=\"\n",
       "M1889.39 533.405 L1861.58 510.796 L1909.75 566.067 L1937.57 588.676  Z\n",
       "  \" fill=\"#38b976\" fill-rule=\"evenodd\" fill-opacity=\"0.7\"/>\n",
       "<path clip-path=\"url(#clip842)\" d=\"\n",
       "M1937.57 588.676 L1909.75 566.067 L1957.93 626.573 L1985.74 649.181  Z\n",
       "  \" fill=\"#28ae7f\" fill-rule=\"evenodd\" fill-opacity=\"0.7\"/>\n",
       "<path clip-path=\"url(#clip842)\" d=\"\n",
       "M1985.74 649.181 L1957.93 626.573 L2006.1 692.312 L2033.91 714.921  Z\n",
       "  \" fill=\"#1fa187\" fill-rule=\"evenodd\" fill-opacity=\"0.7\"/>\n",
       "<path clip-path=\"url(#clip842)\" d=\"\n",
       "M2033.91 714.921 L2006.1 692.312 L2054.27 763.285 L2082.08 785.894  Z\n",
       "  \" fill=\"#1f938b\" fill-rule=\"evenodd\" fill-opacity=\"0.7\"/>\n",
       "<path clip-path=\"url(#clip842)\" d=\"\n",
       "M2082.08 785.894 L2054.27 763.285 L2102.44 839.492 L2130.26 862.101  Z\n",
       "  \" fill=\"#25838d\" fill-rule=\"evenodd\" fill-opacity=\"0.7\"/>\n",
       "<path clip-path=\"url(#clip842)\" d=\"\n",
       "M705.44 754.474 L677.627 737.099 L725.8 666.755 L753.612 684.13  Z\n",
       "  \" fill=\"#22898d\" fill-rule=\"evenodd\" fill-opacity=\"0.7\"/>\n",
       "<path clip-path=\"url(#clip842)\" d=\"\n",
       "M753.612 684.13 L725.8 666.755 L773.972 601.646 L801.785 619.02  Z\n",
       "  \" fill=\"#1e998a\" fill-rule=\"evenodd\" fill-opacity=\"0.7\"/>\n",
       "<path clip-path=\"url(#clip842)\" d=\"\n",
       "M801.785 619.02 L773.972 601.646 L822.145 541.77 L849.957 559.145  Z\n",
       "  \" fill=\"#21a784\" fill-rule=\"evenodd\" fill-opacity=\"0.7\"/>\n",
       "<path clip-path=\"url(#clip842)\" d=\"\n",
       "M849.957 559.145 L822.145 541.77 L870.317 487.128 L898.13 504.503  Z\n",
       "  \" fill=\"#2fb37b\" fill-rule=\"evenodd\" fill-opacity=\"0.7\"/>\n",
       "<path clip-path=\"url(#clip842)\" d=\"\n",
       "M898.13 504.503 L870.317 487.128 L918.49 437.72 L946.302 455.095  Z\n",
       "  \" fill=\"#44be70\" fill-rule=\"evenodd\" fill-opacity=\"0.7\"/>\n",
       "<path clip-path=\"url(#clip842)\" d=\"\n",
       "M946.302 455.095 L918.49 437.72 L966.663 393.546 L994.475 410.921  Z\n",
       "  \" fill=\"#5bc862\" fill-rule=\"evenodd\" fill-opacity=\"0.7\"/>\n",
       "<path clip-path=\"url(#clip842)\" d=\"\n",
       "M994.475 410.921 L966.663 393.546 L1014.84 354.606 L1042.65 371.981  Z\n",
       "  \" fill=\"#72cf55\" fill-rule=\"evenodd\" fill-opacity=\"0.7\"/>\n",
       "<path clip-path=\"url(#clip842)\" d=\"\n",
       "M1042.65 371.981 L1014.84 354.606 L1063.01 320.9 L1090.82 338.275  Z\n",
       "  \" fill=\"#88d547\" fill-rule=\"evenodd\" fill-opacity=\"0.7\"/>\n",
       "<path clip-path=\"url(#clip842)\" d=\"\n",
       "M1090.82 338.275 L1063.01 320.9 L1111.18 292.428 L1138.99 309.803  Z\n",
       "  \" fill=\"#9dd93a\" fill-rule=\"evenodd\" fill-opacity=\"0.7\"/>\n",
       "<path clip-path=\"url(#clip842)\" d=\"\n",
       "M1138.99 309.803 L1111.18 292.428 L1159.35 269.19 L1187.17 286.564  Z\n",
       "  \" fill=\"#afdc2e\" fill-rule=\"evenodd\" fill-opacity=\"0.7\"/>\n",
       "<path clip-path=\"url(#clip842)\" d=\"\n",
       "M1187.17 286.564 L1159.35 269.19 L1207.53 251.185 L1235.34 268.56  Z\n",
       "  \" fill=\"#bdde26\" fill-rule=\"evenodd\" fill-opacity=\"0.7\"/>\n",
       "<path clip-path=\"url(#clip842)\" d=\"\n",
       "M1235.34 268.56 L1207.53 251.185 L1255.7 238.415 L1283.51 255.79  Z\n",
       "  \" fill=\"#c7e01f\" fill-rule=\"evenodd\" fill-opacity=\"0.7\"/>\n",
       "<path clip-path=\"url(#clip842)\" d=\"\n",
       "M1283.51 255.79 L1255.7 238.415 L1303.87 230.879 L1331.68 248.254  Z\n",
       "  \" fill=\"#cfe11c\" fill-rule=\"evenodd\" fill-opacity=\"0.7\"/>\n",
       "<path clip-path=\"url(#clip842)\" d=\"\n",
       "M1331.68 248.254 L1303.87 230.879 L1352.04 228.577 L1379.86 245.951  Z\n",
       "  \" fill=\"#d4e11a\" fill-rule=\"evenodd\" fill-opacity=\"0.7\"/>\n",
       "<path clip-path=\"url(#clip842)\" d=\"\n",
       "M1379.86 245.951 L1352.04 228.577 L1400.22 231.508 L1428.03 248.883  Z\n",
       "  \" fill=\"#d7e219\" fill-rule=\"evenodd\" fill-opacity=\"0.7\"/>\n",
       "<path clip-path=\"url(#clip842)\" d=\"\n",
       "M1428.03 248.883 L1400.22 231.508 L1448.39 239.674 L1476.2 257.049  Z\n",
       "  \" fill=\"#d4e11a\" fill-rule=\"evenodd\" fill-opacity=\"0.7\"/>\n",
       "<path clip-path=\"url(#clip842)\" d=\"\n",
       "M1476.2 257.049 L1448.39 239.674 L1496.56 253.074 L1524.37 270.448  Z\n",
       "  \" fill=\"#cfe11c\" fill-rule=\"evenodd\" fill-opacity=\"0.7\"/>\n",
       "<path clip-path=\"url(#clip842)\" d=\"\n",
       "M1524.37 270.448 L1496.56 253.074 L1544.73 271.707 L1572.55 289.082  Z\n",
       "  \" fill=\"#c7e01f\" fill-rule=\"evenodd\" fill-opacity=\"0.7\"/>\n",
       "<path clip-path=\"url(#clip842)\" d=\"\n",
       "M1572.55 289.082 L1544.73 271.707 L1592.91 295.575 L1620.72 312.949  Z\n",
       "  \" fill=\"#bdde26\" fill-rule=\"evenodd\" fill-opacity=\"0.7\"/>\n",
       "<path clip-path=\"url(#clip842)\" d=\"\n",
       "M1620.72 312.949 L1592.91 295.575 L1641.08 324.676 L1668.89 342.051  Z\n",
       "  \" fill=\"#afdc2e\" fill-rule=\"evenodd\" fill-opacity=\"0.7\"/>\n",
       "<path clip-path=\"url(#clip842)\" d=\"\n",
       "M1668.89 342.051 L1641.08 324.676 L1689.25 359.011 L1717.06 376.386  Z\n",
       "  \" fill=\"#9dd93a\" fill-rule=\"evenodd\" fill-opacity=\"0.7\"/>\n",
       "<path clip-path=\"url(#clip842)\" d=\"\n",
       "M1717.06 376.386 L1689.25 359.011 L1737.42 398.581 L1765.24 415.956  Z\n",
       "  \" fill=\"#88d547\" fill-rule=\"evenodd\" fill-opacity=\"0.7\"/>\n",
       "<path clip-path=\"url(#clip842)\" d=\"\n",
       "M1765.24 415.956 L1737.42 398.581 L1785.6 443.384 L1813.41 460.759  Z\n",
       "  \" fill=\"#72cf55\" fill-rule=\"evenodd\" fill-opacity=\"0.7\"/>\n",
       "<path clip-path=\"url(#clip842)\" d=\"\n",
       "M1813.41 460.759 L1785.6 443.384 L1833.77 493.421 L1861.58 510.796  Z\n",
       "  \" fill=\"#5bc862\" fill-rule=\"evenodd\" fill-opacity=\"0.7\"/>\n",
       "<path clip-path=\"url(#clip842)\" d=\"\n",
       "M1861.58 510.796 L1833.77 493.421 L1881.94 548.693 L1909.75 566.067  Z\n",
       "  \" fill=\"#44be70\" fill-rule=\"evenodd\" fill-opacity=\"0.7\"/>\n",
       "<path clip-path=\"url(#clip842)\" d=\"\n",
       "M1909.75 566.067 L1881.94 548.693 L1930.11 609.198 L1957.93 626.573  Z\n",
       "  \" fill=\"#2fb37b\" fill-rule=\"evenodd\" fill-opacity=\"0.7\"/>\n",
       "<path clip-path=\"url(#clip842)\" d=\"\n",
       "M1957.93 626.573 L1930.11 609.198 L1978.29 674.937 L2006.1 692.312  Z\n",
       "  \" fill=\"#21a784\" fill-rule=\"evenodd\" fill-opacity=\"0.7\"/>\n",
       "<path clip-path=\"url(#clip842)\" d=\"\n",
       "M2006.1 692.312 L1978.29 674.937 L2026.46 745.91 L2054.27 763.285  Z\n",
       "  \" fill=\"#1e998a\" fill-rule=\"evenodd\" fill-opacity=\"0.7\"/>\n",
       "<path clip-path=\"url(#clip842)\" d=\"\n",
       "M2054.27 763.285 L2026.46 745.91 L2074.63 822.117 L2102.44 839.492  Z\n",
       "  \" fill=\"#22898d\" fill-rule=\"evenodd\" fill-opacity=\"0.7\"/>\n",
       "<path clip-path=\"url(#clip842)\" d=\"\n",
       "M677.627 737.099 L649.815 724.958 L697.987 654.615 L725.8 666.755  Z\n",
       "  \" fill=\"#218e8c\" fill-rule=\"evenodd\" fill-opacity=\"0.7\"/>\n",
       "<path clip-path=\"url(#clip842)\" d=\"\n",
       "M725.8 666.755 L697.987 654.615 L746.16 589.505 L773.972 601.646  Z\n",
       "  \" fill=\"#1e9e88\" fill-rule=\"evenodd\" fill-opacity=\"0.7\"/>\n",
       "<path clip-path=\"url(#clip842)\" d=\"\n",
       "M773.972 601.646 L746.16 589.505 L794.332 529.629 L822.145 541.77  Z\n",
       "  \" fill=\"#26ac81\" fill-rule=\"evenodd\" fill-opacity=\"0.7\"/>\n",
       "<path clip-path=\"url(#clip842)\" d=\"\n",
       "M822.145 541.77 L794.332 529.629 L842.505 474.987 L870.317 487.128  Z\n",
       "  \" fill=\"#38b976\" fill-rule=\"evenodd\" fill-opacity=\"0.7\"/>\n",
       "<path clip-path=\"url(#clip842)\" d=\"\n",
       "M870.317 487.128 L842.505 474.987 L890.678 425.579 L918.49 437.72  Z\n",
       "  \" fill=\"#4fc369\" fill-rule=\"evenodd\" fill-opacity=\"0.7\"/>\n",
       "<path clip-path=\"url(#clip842)\" d=\"\n",
       "M918.49 437.72 L890.678 425.579 L938.85 381.405 L966.663 393.546  Z\n",
       "  \" fill=\"#67cc5c\" fill-rule=\"evenodd\" fill-opacity=\"0.7\"/>\n",
       "<path clip-path=\"url(#clip842)\" d=\"\n",
       "M966.663 393.546 L938.85 381.405 L987.023 342.465 L1014.84 354.606  Z\n",
       "  \" fill=\"#7ed24e\" fill-rule=\"evenodd\" fill-opacity=\"0.7\"/>\n",
       "<path clip-path=\"url(#clip842)\" d=\"\n",
       "M1014.84 354.606 L987.023 342.465 L1035.2 308.759 L1063.01 320.9  Z\n",
       "  \" fill=\"#97d83e\" fill-rule=\"evenodd\" fill-opacity=\"0.7\"/>\n",
       "<path clip-path=\"url(#clip842)\" d=\"\n",
       "M1063.01 320.9 L1035.2 308.759 L1083.37 280.287 L1111.18 292.428  Z\n",
       "  \" fill=\"#aadb32\" fill-rule=\"evenodd\" fill-opacity=\"0.7\"/>\n",
       "<path clip-path=\"url(#clip842)\" d=\"\n",
       "M1111.18 292.428 L1083.37 280.287 L1131.54 257.049 L1159.35 269.19  Z\n",
       "  \" fill=\"#bdde26\" fill-rule=\"evenodd\" fill-opacity=\"0.7\"/>\n",
       "<path clip-path=\"url(#clip842)\" d=\"\n",
       "M1159.35 269.19 L1131.54 257.049 L1179.71 239.045 L1207.53 251.185  Z\n",
       "  \" fill=\"#cde01d\" fill-rule=\"evenodd\" fill-opacity=\"0.7\"/>\n",
       "<path clip-path=\"url(#clip842)\" d=\"\n",
       "M1207.53 251.185 L1179.71 239.045 L1227.89 226.274 L1255.7 238.415  Z\n",
       "  \" fill=\"#d7e219\" fill-rule=\"evenodd\" fill-opacity=\"0.7\"/>\n",
       "<path clip-path=\"url(#clip842)\" d=\"\n",
       "M1255.7 238.415 L1227.89 226.274 L1276.06 218.738 L1303.87 230.879  Z\n",
       "  \" fill=\"#dfe318\" fill-rule=\"evenodd\" fill-opacity=\"0.7\"/>\n",
       "<path clip-path=\"url(#clip842)\" d=\"\n",
       "M1303.87 230.879 L1276.06 218.738 L1324.23 216.436 L1352.04 228.577  Z\n",
       "  \" fill=\"#e4e318\" fill-rule=\"evenodd\" fill-opacity=\"0.7\"/>\n",
       "<path clip-path=\"url(#clip842)\" d=\"\n",
       "M1352.04 228.577 L1324.23 216.436 L1372.4 219.367 L1400.22 231.508  Z\n",
       "  \" fill=\"#e4e318\" fill-rule=\"evenodd\" fill-opacity=\"0.7\"/>\n",
       "<path clip-path=\"url(#clip842)\" d=\"\n",
       "M1400.22 231.508 L1372.4 219.367 L1420.58 227.533 L1448.39 239.674  Z\n",
       "  \" fill=\"#e4e318\" fill-rule=\"evenodd\" fill-opacity=\"0.7\"/>\n",
       "<path clip-path=\"url(#clip842)\" d=\"\n",
       "M1448.39 239.674 L1420.58 227.533 L1468.75 240.933 L1496.56 253.074  Z\n",
       "  \" fill=\"#dfe318\" fill-rule=\"evenodd\" fill-opacity=\"0.7\"/>\n",
       "<path clip-path=\"url(#clip842)\" d=\"\n",
       "M1496.56 253.074 L1468.75 240.933 L1516.92 259.566 L1544.73 271.707  Z\n",
       "  \" fill=\"#d7e219\" fill-rule=\"evenodd\" fill-opacity=\"0.7\"/>\n",
       "<path clip-path=\"url(#clip842)\" d=\"\n",
       "M1544.73 271.707 L1516.92 259.566 L1565.09 283.434 L1592.91 295.575  Z\n",
       "  \" fill=\"#cde01d\" fill-rule=\"evenodd\" fill-opacity=\"0.7\"/>\n",
       "<path clip-path=\"url(#clip842)\" d=\"\n",
       "M1592.91 295.575 L1565.09 283.434 L1613.27 312.535 L1641.08 324.676  Z\n",
       "  \" fill=\"#bdde26\" fill-rule=\"evenodd\" fill-opacity=\"0.7\"/>\n",
       "<path clip-path=\"url(#clip842)\" d=\"\n",
       "M1641.08 324.676 L1613.27 312.535 L1661.44 346.871 L1689.25 359.011  Z\n",
       "  \" fill=\"#aadb32\" fill-rule=\"evenodd\" fill-opacity=\"0.7\"/>\n",
       "<path clip-path=\"url(#clip842)\" d=\"\n",
       "M1689.25 359.011 L1661.44 346.871 L1709.61 386.44 L1737.42 398.581  Z\n",
       "  \" fill=\"#97d83e\" fill-rule=\"evenodd\" fill-opacity=\"0.7\"/>\n",
       "<path clip-path=\"url(#clip842)\" d=\"\n",
       "M1737.42 398.581 L1709.61 386.44 L1757.78 431.243 L1785.6 443.384  Z\n",
       "  \" fill=\"#7ed24e\" fill-rule=\"evenodd\" fill-opacity=\"0.7\"/>\n",
       "<path clip-path=\"url(#clip842)\" d=\"\n",
       "M1785.6 443.384 L1757.78 431.243 L1805.96 481.281 L1833.77 493.421  Z\n",
       "  \" fill=\"#67cc5c\" fill-rule=\"evenodd\" fill-opacity=\"0.7\"/>\n",
       "<path clip-path=\"url(#clip842)\" d=\"\n",
       "M1833.77 493.421 L1805.96 481.281 L1854.13 536.552 L1881.94 548.693  Z\n",
       "  \" fill=\"#4fc369\" fill-rule=\"evenodd\" fill-opacity=\"0.7\"/>\n",
       "<path clip-path=\"url(#clip842)\" d=\"\n",
       "M1881.94 548.693 L1854.13 536.552 L1902.3 597.057 L1930.11 609.198  Z\n",
       "  \" fill=\"#38b976\" fill-rule=\"evenodd\" fill-opacity=\"0.7\"/>\n",
       "<path clip-path=\"url(#clip842)\" d=\"\n",
       "M1930.11 609.198 L1902.3 597.057 L1950.47 662.796 L1978.29 674.937  Z\n",
       "  \" fill=\"#26ac81\" fill-rule=\"evenodd\" fill-opacity=\"0.7\"/>\n",
       "<path clip-path=\"url(#clip842)\" d=\"\n",
       "M1978.29 674.937 L1950.47 662.796 L1998.65 733.769 L2026.46 745.91  Z\n",
       "  \" fill=\"#1e9e88\" fill-rule=\"evenodd\" fill-opacity=\"0.7\"/>\n",
       "<path clip-path=\"url(#clip842)\" d=\"\n",
       "M2026.46 745.91 L1998.65 733.769 L2046.82 809.976 L2074.63 822.117  Z\n",
       "  \" fill=\"#218e8c\" fill-rule=\"evenodd\" fill-opacity=\"0.7\"/>\n",
       "<path clip-path=\"url(#clip842)\" d=\"\n",
       "M649.815 724.958 L622.002 718.051 L670.175 647.708 L697.987 654.615  Z\n",
       "  \" fill=\"#1f938b\" fill-rule=\"evenodd\" fill-opacity=\"0.7\"/>\n",
       "<path clip-path=\"url(#clip842)\" d=\"\n",
       "M697.987 654.615 L670.175 647.708 L718.347 582.598 L746.16 589.505  Z\n",
       "  \" fill=\"#1fa286\" fill-rule=\"evenodd\" fill-opacity=\"0.7\"/>\n",
       "<path clip-path=\"url(#clip842)\" d=\"\n",
       "M746.16 589.505 L718.347 582.598 L766.52 522.722 L794.332 529.629  Z\n",
       "  \" fill=\"#2ab07e\" fill-rule=\"evenodd\" fill-opacity=\"0.7\"/>\n",
       "<path clip-path=\"url(#clip842)\" d=\"\n",
       "M794.332 529.629 L766.52 522.722 L814.693 468.08 L842.505 474.987  Z\n",
       "  \" fill=\"#3ebc73\" fill-rule=\"evenodd\" fill-opacity=\"0.7\"/>\n",
       "<path clip-path=\"url(#clip842)\" d=\"\n",
       "M842.505 474.987 L814.693 468.08 L862.865 418.672 L890.678 425.579  Z\n",
       "  \" fill=\"#57c665\" fill-rule=\"evenodd\" fill-opacity=\"0.7\"/>\n",
       "<path clip-path=\"url(#clip842)\" d=\"\n",
       "M890.678 425.579 L862.865 418.672 L911.038 374.498 L938.85 381.405  Z\n",
       "  \" fill=\"#70ce56\" fill-rule=\"evenodd\" fill-opacity=\"0.7\"/>\n",
       "<path clip-path=\"url(#clip842)\" d=\"\n",
       "M938.85 381.405 L911.038 374.498 L959.21 335.558 L987.023 342.465  Z\n",
       "  \" fill=\"#8bd546\" fill-rule=\"evenodd\" fill-opacity=\"0.7\"/>\n",
       "<path clip-path=\"url(#clip842)\" d=\"\n",
       "M987.023 342.465 L959.21 335.558 L1007.38 301.852 L1035.2 308.759  Z\n",
       "  \" fill=\"#a2da37\" fill-rule=\"evenodd\" fill-opacity=\"0.7\"/>\n",
       "<path clip-path=\"url(#clip842)\" d=\"\n",
       "M1035.2 308.759 L1007.38 301.852 L1055.56 273.38 L1083.37 280.287  Z\n",
       "  \" fill=\"#b7dd29\" fill-rule=\"evenodd\" fill-opacity=\"0.7\"/>\n",
       "<path clip-path=\"url(#clip842)\" d=\"\n",
       "M1083.37 280.287 L1055.56 273.38 L1103.73 250.142 L1131.54 257.049  Z\n",
       "  \" fill=\"#c7e01f\" fill-rule=\"evenodd\" fill-opacity=\"0.7\"/>\n",
       "<path clip-path=\"url(#clip842)\" d=\"\n",
       "M1131.54 257.049 L1103.73 250.142 L1151.9 232.138 L1179.71 239.045  Z\n",
       "  \" fill=\"#d7e219\" fill-rule=\"evenodd\" fill-opacity=\"0.7\"/>\n",
       "<path clip-path=\"url(#clip842)\" d=\"\n",
       "M1179.71 239.045 L1151.9 232.138 L1200.07 219.367 L1227.89 226.274  Z\n",
       "  \" fill=\"#e1e318\" fill-rule=\"evenodd\" fill-opacity=\"0.7\"/>\n",
       "<path clip-path=\"url(#clip842)\" d=\"\n",
       "M1227.89 226.274 L1200.07 219.367 L1248.25 211.831 L1276.06 218.738  Z\n",
       "  \" fill=\"#e9e419\" fill-rule=\"evenodd\" fill-opacity=\"0.7\"/>\n",
       "<path clip-path=\"url(#clip842)\" d=\"\n",
       "M1276.06 218.738 L1248.25 211.831 L1296.42 209.529 L1324.23 216.436  Z\n",
       "  \" fill=\"#eee51b\" fill-rule=\"evenodd\" fill-opacity=\"0.7\"/>\n",
       "<path clip-path=\"url(#clip842)\" d=\"\n",
       "M1324.23 216.436 L1296.42 209.529 L1344.59 212.461 L1372.4 219.367  Z\n",
       "  \" fill=\"#f1e51c\" fill-rule=\"evenodd\" fill-opacity=\"0.7\"/>\n",
       "<path clip-path=\"url(#clip842)\" d=\"\n",
       "M1372.4 219.367 L1344.59 212.461 L1392.76 220.626 L1420.58 227.533  Z\n",
       "  \" fill=\"#eee51b\" fill-rule=\"evenodd\" fill-opacity=\"0.7\"/>\n",
       "<path clip-path=\"url(#clip842)\" d=\"\n",
       "M1420.58 227.533 L1392.76 220.626 L1440.94 234.026 L1468.75 240.933  Z\n",
       "  \" fill=\"#e9e419\" fill-rule=\"evenodd\" fill-opacity=\"0.7\"/>\n",
       "<path clip-path=\"url(#clip842)\" d=\"\n",
       "M1468.75 240.933 L1440.94 234.026 L1489.11 252.659 L1516.92 259.566  Z\n",
       "  \" fill=\"#e1e318\" fill-rule=\"evenodd\" fill-opacity=\"0.7\"/>\n",
       "<path clip-path=\"url(#clip842)\" d=\"\n",
       "M1516.92 259.566 L1489.11 252.659 L1537.28 276.527 L1565.09 283.434  Z\n",
       "  \" fill=\"#d7e219\" fill-rule=\"evenodd\" fill-opacity=\"0.7\"/>\n",
       "<path clip-path=\"url(#clip842)\" d=\"\n",
       "M1565.09 283.434 L1537.28 276.527 L1585.45 305.628 L1613.27 312.535  Z\n",
       "  \" fill=\"#c7e01f\" fill-rule=\"evenodd\" fill-opacity=\"0.7\"/>\n",
       "<path clip-path=\"url(#clip842)\" d=\"\n",
       "M1613.27 312.535 L1585.45 305.628 L1633.63 339.964 L1661.44 346.871  Z\n",
       "  \" fill=\"#b7dd29\" fill-rule=\"evenodd\" fill-opacity=\"0.7\"/>\n",
       "<path clip-path=\"url(#clip842)\" d=\"\n",
       "M1661.44 346.871 L1633.63 339.964 L1681.8 379.533 L1709.61 386.44  Z\n",
       "  \" fill=\"#a2da37\" fill-rule=\"evenodd\" fill-opacity=\"0.7\"/>\n",
       "<path clip-path=\"url(#clip842)\" d=\"\n",
       "M1709.61 386.44 L1681.8 379.533 L1729.97 424.336 L1757.78 431.243  Z\n",
       "  \" fill=\"#8bd546\" fill-rule=\"evenodd\" fill-opacity=\"0.7\"/>\n",
       "<path clip-path=\"url(#clip842)\" d=\"\n",
       "M1757.78 431.243 L1729.97 424.336 L1778.14 474.374 L1805.96 481.281  Z\n",
       "  \" fill=\"#70ce56\" fill-rule=\"evenodd\" fill-opacity=\"0.7\"/>\n",
       "<path clip-path=\"url(#clip842)\" d=\"\n",
       "M1805.96 481.281 L1778.14 474.374 L1826.32 529.645 L1854.13 536.552  Z\n",
       "  \" fill=\"#57c665\" fill-rule=\"evenodd\" fill-opacity=\"0.7\"/>\n",
       "<path clip-path=\"url(#clip842)\" d=\"\n",
       "M1854.13 536.552 L1826.32 529.645 L1874.49 590.15 L1902.3 597.057  Z\n",
       "  \" fill=\"#3ebc73\" fill-rule=\"evenodd\" fill-opacity=\"0.7\"/>\n",
       "<path clip-path=\"url(#clip842)\" d=\"\n",
       "M1902.3 597.057 L1874.49 590.15 L1922.66 655.889 L1950.47 662.796  Z\n",
       "  \" fill=\"#2ab07e\" fill-rule=\"evenodd\" fill-opacity=\"0.7\"/>\n",
       "<path clip-path=\"url(#clip842)\" d=\"\n",
       "M1950.47 662.796 L1922.66 655.889 L1970.83 726.862 L1998.65 733.769  Z\n",
       "  \" fill=\"#1fa286\" fill-rule=\"evenodd\" fill-opacity=\"0.7\"/>\n",
       "<path clip-path=\"url(#clip842)\" d=\"\n",
       "M1998.65 733.769 L1970.83 726.862 L2019.01 803.069 L2046.82 809.976  Z\n",
       "  \" fill=\"#1f938b\" fill-rule=\"evenodd\" fill-opacity=\"0.7\"/>\n",
       "<path clip-path=\"url(#clip842)\" d=\"\n",
       "M622.002 718.051 L594.19 716.378 L642.362 646.035 L670.175 647.708  Z\n",
       "  \" fill=\"#1f968b\" fill-rule=\"evenodd\" fill-opacity=\"0.7\"/>\n",
       "<path clip-path=\"url(#clip842)\" d=\"\n",
       "M670.175 647.708 L642.362 646.035 L690.535 580.925 L718.347 582.598  Z\n",
       "  \" fill=\"#20a585\" fill-rule=\"evenodd\" fill-opacity=\"0.7\"/>\n",
       "<path clip-path=\"url(#clip842)\" d=\"\n",
       "M718.347 582.598 L690.535 580.925 L738.708 521.049 L766.52 522.722  Z\n",
       "  \" fill=\"#2eb27c\" fill-rule=\"evenodd\" fill-opacity=\"0.7\"/>\n",
       "<path clip-path=\"url(#clip842)\" d=\"\n",
       "M766.52 522.722 L738.708 521.049 L786.88 466.407 L814.693 468.08  Z\n",
       "  \" fill=\"#44be70\" fill-rule=\"evenodd\" fill-opacity=\"0.7\"/>\n",
       "<path clip-path=\"url(#clip842)\" d=\"\n",
       "M814.693 468.08 L786.88 466.407 L835.053 416.999 L862.865 418.672  Z\n",
       "  \" fill=\"#5ec961\" fill-rule=\"evenodd\" fill-opacity=\"0.7\"/>\n",
       "<path clip-path=\"url(#clip842)\" d=\"\n",
       "M862.865 418.672 L835.053 416.999 L883.225 372.825 L911.038 374.498  Z\n",
       "  \" fill=\"#77d052\" fill-rule=\"evenodd\" fill-opacity=\"0.7\"/>\n",
       "<path clip-path=\"url(#clip842)\" d=\"\n",
       "M911.038 374.498 L883.225 372.825 L931.398 333.885 L959.21 335.558  Z\n",
       "  \" fill=\"#92d741\" fill-rule=\"evenodd\" fill-opacity=\"0.7\"/>\n",
       "<path clip-path=\"url(#clip842)\" d=\"\n",
       "M959.21 335.558 L931.398 333.885 L979.57 300.179 L1007.38 301.852  Z\n",
       "  \" fill=\"#aadb32\" fill-rule=\"evenodd\" fill-opacity=\"0.7\"/>\n",
       "<path clip-path=\"url(#clip842)\" d=\"\n",
       "M1007.38 301.852 L979.57 300.179 L1027.74 271.707 L1055.56 273.38  Z\n",
       "  \" fill=\"#bfdf24\" fill-rule=\"evenodd\" fill-opacity=\"0.7\"/>\n",
       "<path clip-path=\"url(#clip842)\" d=\"\n",
       "M1055.56 273.38 L1027.74 271.707 L1075.92 248.469 L1103.73 250.142  Z\n",
       "  \" fill=\"#cfe11c\" fill-rule=\"evenodd\" fill-opacity=\"0.7\"/>\n",
       "<path clip-path=\"url(#clip842)\" d=\"\n",
       "M1103.73 250.142 L1075.92 248.469 L1124.09 230.465 L1151.9 232.138  Z\n",
       "  \" fill=\"#dfe318\" fill-rule=\"evenodd\" fill-opacity=\"0.7\"/>\n",
       "<path clip-path=\"url(#clip842)\" d=\"\n",
       "M1151.9 232.138 L1124.09 230.465 L1172.26 217.695 L1200.07 219.367  Z\n",
       "  \" fill=\"#e9e419\" fill-rule=\"evenodd\" fill-opacity=\"0.7\"/>\n",
       "<path clip-path=\"url(#clip842)\" d=\"\n",
       "M1200.07 219.367 L1172.26 217.695 L1220.43 210.158 L1248.25 211.831  Z\n",
       "  \" fill=\"#f1e51c\" fill-rule=\"evenodd\" fill-opacity=\"0.7\"/>\n",
       "<path clip-path=\"url(#clip842)\" d=\"\n",
       "M1248.25 211.831 L1220.43 210.158 L1268.61 207.856 L1296.42 209.529  Z\n",
       "  \" fill=\"#f6e61f\" fill-rule=\"evenodd\" fill-opacity=\"0.7\"/>\n",
       "<path clip-path=\"url(#clip842)\" d=\"\n",
       "M1296.42 209.529 L1268.61 207.856 L1316.78 210.788 L1344.59 212.461  Z\n",
       "  \" fill=\"#f8e621\" fill-rule=\"evenodd\" fill-opacity=\"0.7\"/>\n",
       "<path clip-path=\"url(#clip842)\" d=\"\n",
       "M1344.59 212.461 L1316.78 210.788 L1364.95 218.953 L1392.76 220.626  Z\n",
       "  \" fill=\"#f6e61f\" fill-rule=\"evenodd\" fill-opacity=\"0.7\"/>\n",
       "<path clip-path=\"url(#clip842)\" d=\"\n",
       "M1392.76 220.626 L1364.95 218.953 L1413.12 232.353 L1440.94 234.026  Z\n",
       "  \" fill=\"#f1e51c\" fill-rule=\"evenodd\" fill-opacity=\"0.7\"/>\n",
       "<path clip-path=\"url(#clip842)\" d=\"\n",
       "M1440.94 234.026 L1413.12 232.353 L1461.3 250.986 L1489.11 252.659  Z\n",
       "  \" fill=\"#e9e419\" fill-rule=\"evenodd\" fill-opacity=\"0.7\"/>\n",
       "<path clip-path=\"url(#clip842)\" d=\"\n",
       "M1489.11 252.659 L1461.3 250.986 L1509.47 274.854 L1537.28 276.527  Z\n",
       "  \" fill=\"#dfe318\" fill-rule=\"evenodd\" fill-opacity=\"0.7\"/>\n",
       "<path clip-path=\"url(#clip842)\" d=\"\n",
       "M1537.28 276.527 L1509.47 274.854 L1557.64 303.955 L1585.45 305.628  Z\n",
       "  \" fill=\"#cfe11c\" fill-rule=\"evenodd\" fill-opacity=\"0.7\"/>\n",
       "<path clip-path=\"url(#clip842)\" d=\"\n",
       "M1585.45 305.628 L1557.64 303.955 L1605.81 338.291 L1633.63 339.964  Z\n",
       "  \" fill=\"#bfdf24\" fill-rule=\"evenodd\" fill-opacity=\"0.7\"/>\n",
       "<path clip-path=\"url(#clip842)\" d=\"\n",
       "M1633.63 339.964 L1605.81 338.291 L1653.99 377.86 L1681.8 379.533  Z\n",
       "  \" fill=\"#aadb32\" fill-rule=\"evenodd\" fill-opacity=\"0.7\"/>\n",
       "<path clip-path=\"url(#clip842)\" d=\"\n",
       "M1681.8 379.533 L1653.99 377.86 L1702.16 422.663 L1729.97 424.336  Z\n",
       "  \" fill=\"#92d741\" fill-rule=\"evenodd\" fill-opacity=\"0.7\"/>\n",
       "<path clip-path=\"url(#clip842)\" d=\"\n",
       "M1729.97 424.336 L1702.16 422.663 L1750.33 472.701 L1778.14 474.374  Z\n",
       "  \" fill=\"#77d052\" fill-rule=\"evenodd\" fill-opacity=\"0.7\"/>\n",
       "<path clip-path=\"url(#clip842)\" d=\"\n",
       "M1778.14 474.374 L1750.33 472.701 L1798.5 527.972 L1826.32 529.645  Z\n",
       "  \" fill=\"#5ec961\" fill-rule=\"evenodd\" fill-opacity=\"0.7\"/>\n",
       "<path clip-path=\"url(#clip842)\" d=\"\n",
       "M1826.32 529.645 L1798.5 527.972 L1846.68 588.477 L1874.49 590.15  Z\n",
       "  \" fill=\"#44be70\" fill-rule=\"evenodd\" fill-opacity=\"0.7\"/>\n",
       "<path clip-path=\"url(#clip842)\" d=\"\n",
       "M1874.49 590.15 L1846.68 588.477 L1894.85 654.216 L1922.66 655.889  Z\n",
       "  \" fill=\"#2eb27c\" fill-rule=\"evenodd\" fill-opacity=\"0.7\"/>\n",
       "<path clip-path=\"url(#clip842)\" d=\"\n",
       "M1922.66 655.889 L1894.85 654.216 L1943.02 725.189 L1970.83 726.862  Z\n",
       "  \" fill=\"#20a585\" fill-rule=\"evenodd\" fill-opacity=\"0.7\"/>\n",
       "<path clip-path=\"url(#clip842)\" d=\"\n",
       "M1970.83 726.862 L1943.02 725.189 L1991.19 801.397 L2019.01 803.069  Z\n",
       "  \" fill=\"#1f968b\" fill-rule=\"evenodd\" fill-opacity=\"0.7\"/>\n",
       "<path clip-path=\"url(#clip842)\" d=\"\n",
       "M594.19 716.378 L566.377 719.939 L614.55 649.596 L642.362 646.035  Z\n",
       "  \" fill=\"#1e978a\" fill-rule=\"evenodd\" fill-opacity=\"0.7\"/>\n",
       "<path clip-path=\"url(#clip842)\" d=\"\n",
       "M642.362 646.035 L614.55 649.596 L662.723 584.486 L690.535 580.925  Z\n",
       "  \" fill=\"#21a784\" fill-rule=\"evenodd\" fill-opacity=\"0.7\"/>\n",
       "<path clip-path=\"url(#clip842)\" d=\"\n",
       "M690.535 580.925 L662.723 584.486 L710.895 524.61 L738.708 521.049  Z\n",
       "  \" fill=\"#30b47a\" fill-rule=\"evenodd\" fill-opacity=\"0.7\"/>\n",
       "<path clip-path=\"url(#clip842)\" d=\"\n",
       "M738.708 521.049 L710.895 524.61 L759.068 469.968 L786.88 466.407  Z\n",
       "  \" fill=\"#47c06e\" fill-rule=\"evenodd\" fill-opacity=\"0.7\"/>\n",
       "<path clip-path=\"url(#clip842)\" d=\"\n",
       "M786.88 466.407 L759.068 469.968 L807.24 420.56 L835.053 416.999  Z\n",
       "  \" fill=\"#62ca5f\" fill-rule=\"evenodd\" fill-opacity=\"0.7\"/>\n",
       "<path clip-path=\"url(#clip842)\" d=\"\n",
       "M835.053 416.999 L807.24 420.56 L855.413 376.386 L883.225 372.825  Z\n",
       "  \" fill=\"#7cd24f\" fill-rule=\"evenodd\" fill-opacity=\"0.7\"/>\n",
       "<path clip-path=\"url(#clip842)\" d=\"\n",
       "M883.225 372.825 L855.413 376.386 L903.585 337.446 L931.398 333.885  Z\n",
       "  \" fill=\"#97d83e\" fill-rule=\"evenodd\" fill-opacity=\"0.7\"/>\n",
       "<path clip-path=\"url(#clip842)\" d=\"\n",
       "M931.398 333.885 L903.585 337.446 L951.758 303.74 L979.57 300.179  Z\n",
       "  \" fill=\"#afdc2e\" fill-rule=\"evenodd\" fill-opacity=\"0.7\"/>\n",
       "<path clip-path=\"url(#clip842)\" d=\"\n",
       "M979.57 300.179 L951.758 303.74 L999.931 275.268 L1027.74 271.707  Z\n",
       "  \" fill=\"#c5df21\" fill-rule=\"evenodd\" fill-opacity=\"0.7\"/>\n",
       "<path clip-path=\"url(#clip842)\" d=\"\n",
       "M1027.74 271.707 L999.931 275.268 L1048.1 252.03 L1075.92 248.469  Z\n",
       "  \" fill=\"#d4e11a\" fill-rule=\"evenodd\" fill-opacity=\"0.7\"/>\n",
       "<path clip-path=\"url(#clip842)\" d=\"\n",
       "M1075.92 248.469 L1048.1 252.03 L1096.28 234.026 L1124.09 230.465  Z\n",
       "  \" fill=\"#e4e318\" fill-rule=\"evenodd\" fill-opacity=\"0.7\"/>\n",
       "<path clip-path=\"url(#clip842)\" d=\"\n",
       "M1124.09 230.465 L1096.28 234.026 L1144.45 221.256 L1172.26 217.695  Z\n",
       "  \" fill=\"#eee51b\" fill-rule=\"evenodd\" fill-opacity=\"0.7\"/>\n",
       "<path clip-path=\"url(#clip842)\" d=\"\n",
       "M1172.26 217.695 L1144.45 221.256 L1192.62 213.719 L1220.43 210.158  Z\n",
       "  \" fill=\"#f6e61f\" fill-rule=\"evenodd\" fill-opacity=\"0.7\"/>\n",
       "<path clip-path=\"url(#clip842)\" d=\"\n",
       "M1220.43 210.158 L1192.62 213.719 L1240.79 211.417 L1268.61 207.856  Z\n",
       "  \" fill=\"#fae622\" fill-rule=\"evenodd\" fill-opacity=\"0.7\"/>\n",
       "<path clip-path=\"url(#clip842)\" d=\"\n",
       "M1268.61 207.856 L1240.79 211.417 L1288.97 214.349 L1316.78 210.788  Z\n",
       "  \" fill=\"#fae622\" fill-rule=\"evenodd\" fill-opacity=\"0.7\"/>\n",
       "<path clip-path=\"url(#clip842)\" d=\"\n",
       "M1316.78 210.788 L1288.97 214.349 L1337.14 222.514 L1364.95 218.953  Z\n",
       "  \" fill=\"#fae622\" fill-rule=\"evenodd\" fill-opacity=\"0.7\"/>\n",
       "<path clip-path=\"url(#clip842)\" d=\"\n",
       "M1364.95 218.953 L1337.14 222.514 L1385.31 235.914 L1413.12 232.353  Z\n",
       "  \" fill=\"#f6e61f\" fill-rule=\"evenodd\" fill-opacity=\"0.7\"/>\n",
       "<path clip-path=\"url(#clip842)\" d=\"\n",
       "M1413.12 232.353 L1385.31 235.914 L1433.48 254.547 L1461.3 250.986  Z\n",
       "  \" fill=\"#eee51b\" fill-rule=\"evenodd\" fill-opacity=\"0.7\"/>\n",
       "<path clip-path=\"url(#clip842)\" d=\"\n",
       "M1461.3 250.986 L1433.48 254.547 L1481.66 278.415 L1509.47 274.854  Z\n",
       "  \" fill=\"#e4e318\" fill-rule=\"evenodd\" fill-opacity=\"0.7\"/>\n",
       "<path clip-path=\"url(#clip842)\" d=\"\n",
       "M1509.47 274.854 L1481.66 278.415 L1529.83 307.516 L1557.64 303.955  Z\n",
       "  \" fill=\"#d4e11a\" fill-rule=\"evenodd\" fill-opacity=\"0.7\"/>\n",
       "<path clip-path=\"url(#clip842)\" d=\"\n",
       "M1557.64 303.955 L1529.83 307.516 L1578 341.852 L1605.81 338.291  Z\n",
       "  \" fill=\"#c5df21\" fill-rule=\"evenodd\" fill-opacity=\"0.7\"/>\n",
       "<path clip-path=\"url(#clip842)\" d=\"\n",
       "M1605.81 338.291 L1578 341.852 L1626.17 381.421 L1653.99 377.86  Z\n",
       "  \" fill=\"#afdc2e\" fill-rule=\"evenodd\" fill-opacity=\"0.7\"/>\n",
       "<path clip-path=\"url(#clip842)\" d=\"\n",
       "M1653.99 377.86 L1626.17 381.421 L1674.35 426.224 L1702.16 422.663  Z\n",
       "  \" fill=\"#97d83e\" fill-rule=\"evenodd\" fill-opacity=\"0.7\"/>\n",
       "<path clip-path=\"url(#clip842)\" d=\"\n",
       "M1702.16 422.663 L1674.35 426.224 L1722.52 476.262 L1750.33 472.701  Z\n",
       "  \" fill=\"#7cd24f\" fill-rule=\"evenodd\" fill-opacity=\"0.7\"/>\n",
       "<path clip-path=\"url(#clip842)\" d=\"\n",
       "M1750.33 472.701 L1722.52 476.262 L1770.69 531.533 L1798.5 527.972  Z\n",
       "  \" fill=\"#62ca5f\" fill-rule=\"evenodd\" fill-opacity=\"0.7\"/>\n",
       "<path clip-path=\"url(#clip842)\" d=\"\n",
       "M1798.5 527.972 L1770.69 531.533 L1818.86 592.038 L1846.68 588.477  Z\n",
       "  \" fill=\"#47c06e\" fill-rule=\"evenodd\" fill-opacity=\"0.7\"/>\n",
       "<path clip-path=\"url(#clip842)\" d=\"\n",
       "M1846.68 588.477 L1818.86 592.038 L1867.04 657.777 L1894.85 654.216  Z\n",
       "  \" fill=\"#30b47a\" fill-rule=\"evenodd\" fill-opacity=\"0.7\"/>\n",
       "<path clip-path=\"url(#clip842)\" d=\"\n",
       "M1894.85 654.216 L1867.04 657.777 L1915.21 728.75 L1943.02 725.189  Z\n",
       "  \" fill=\"#21a784\" fill-rule=\"evenodd\" fill-opacity=\"0.7\"/>\n",
       "<path clip-path=\"url(#clip842)\" d=\"\n",
       "M1943.02 725.189 L1915.21 728.75 L1963.38 804.958 L1991.19 801.397  Z\n",
       "  \" fill=\"#1e978a\" fill-rule=\"evenodd\" fill-opacity=\"0.7\"/>\n",
       "<path clip-path=\"url(#clip842)\" d=\"\n",
       "M566.377 719.939 L538.565 728.734 L586.738 658.391 L614.55 649.596  Z\n",
       "  \" fill=\"#1e988a\" fill-rule=\"evenodd\" fill-opacity=\"0.7\"/>\n",
       "<path clip-path=\"url(#clip842)\" d=\"\n",
       "M614.55 649.596 L586.738 658.391 L634.91 593.281 L662.723 584.486  Z\n",
       "  \" fill=\"#21a784\" fill-rule=\"evenodd\" fill-opacity=\"0.7\"/>\n",
       "<path clip-path=\"url(#clip842)\" d=\"\n",
       "M662.723 584.486 L634.91 593.281 L683.083 533.405 L710.895 524.61  Z\n",
       "  \" fill=\"#32b57a\" fill-rule=\"evenodd\" fill-opacity=\"0.7\"/>\n",
       "<path clip-path=\"url(#clip842)\" d=\"\n",
       "M710.895 524.61 L683.083 533.405 L731.255 478.763 L759.068 469.968  Z\n",
       "  \" fill=\"#49c16d\" fill-rule=\"evenodd\" fill-opacity=\"0.7\"/>\n",
       "<path clip-path=\"url(#clip842)\" d=\"\n",
       "M759.068 469.968 L731.255 478.763 L779.428 429.355 L807.24 420.56  Z\n",
       "  \" fill=\"#62ca5f\" fill-rule=\"evenodd\" fill-opacity=\"0.7\"/>\n",
       "<path clip-path=\"url(#clip842)\" d=\"\n",
       "M807.24 420.56 L779.428 429.355 L827.6 385.181 L855.413 376.386  Z\n",
       "  \" fill=\"#7ed24e\" fill-rule=\"evenodd\" fill-opacity=\"0.7\"/>\n",
       "<path clip-path=\"url(#clip842)\" d=\"\n",
       "M855.413 376.386 L827.6 385.181 L875.773 346.241 L903.585 337.446  Z\n",
       "  \" fill=\"#97d83e\" fill-rule=\"evenodd\" fill-opacity=\"0.7\"/>\n",
       "<path clip-path=\"url(#clip842)\" d=\"\n",
       "M903.585 337.446 L875.773 346.241 L923.946 312.535 L951.758 303.74  Z\n",
       "  \" fill=\"#afdc2e\" fill-rule=\"evenodd\" fill-opacity=\"0.7\"/>\n",
       "<path clip-path=\"url(#clip842)\" d=\"\n",
       "M951.758 303.74 L923.946 312.535 L972.118 284.063 L999.931 275.268  Z\n",
       "  \" fill=\"#c5df21\" fill-rule=\"evenodd\" fill-opacity=\"0.7\"/>\n",
       "<path clip-path=\"url(#clip842)\" d=\"\n",
       "M999.931 275.268 L972.118 284.063 L1020.29 260.825 L1048.1 252.03  Z\n",
       "  \" fill=\"#d7e219\" fill-rule=\"evenodd\" fill-opacity=\"0.7\"/>\n",
       "<path clip-path=\"url(#clip842)\" d=\"\n",
       "M1048.1 252.03 L1020.29 260.825 L1068.46 242.821 L1096.28 234.026  Z\n",
       "  \" fill=\"#e4e318\" fill-rule=\"evenodd\" fill-opacity=\"0.7\"/>\n",
       "<path clip-path=\"url(#clip842)\" d=\"\n",
       "M1096.28 234.026 L1068.46 242.821 L1116.64 230.051 L1144.45 221.256  Z\n",
       "  \" fill=\"#f1e51c\" fill-rule=\"evenodd\" fill-opacity=\"0.7\"/>\n",
       "<path clip-path=\"url(#clip842)\" d=\"\n",
       "M1144.45 221.256 L1116.64 230.051 L1164.81 222.514 L1192.62 213.719  Z\n",
       "  \" fill=\"#f8e621\" fill-rule=\"evenodd\" fill-opacity=\"0.7\"/>\n",
       "<path clip-path=\"url(#clip842)\" d=\"\n",
       "M1192.62 213.719 L1164.81 222.514 L1212.98 220.212 L1240.79 211.417  Z\n",
       "  \" fill=\"#fae622\" fill-rule=\"evenodd\" fill-opacity=\"0.7\"/>\n",
       "<path clip-path=\"url(#clip842)\" d=\"\n",
       "M1240.79 211.417 L1212.98 220.212 L1261.15 223.144 L1288.97 214.349  Z\n",
       "  \" fill=\"#fde724\" fill-rule=\"evenodd\" fill-opacity=\"0.7\"/>\n",
       "<path clip-path=\"url(#clip842)\" d=\"\n",
       "M1288.97 214.349 L1261.15 223.144 L1309.33 231.309 L1337.14 222.514  Z\n",
       "  \" fill=\"#fae622\" fill-rule=\"evenodd\" fill-opacity=\"0.7\"/>\n",
       "<path clip-path=\"url(#clip842)\" d=\"\n",
       "M1337.14 222.514 L1309.33 231.309 L1357.5 244.709 L1385.31 235.914  Z\n",
       "  \" fill=\"#f8e621\" fill-rule=\"evenodd\" fill-opacity=\"0.7\"/>\n",
       "<path clip-path=\"url(#clip842)\" d=\"\n",
       "M1385.31 235.914 L1357.5 244.709 L1405.67 263.342 L1433.48 254.547  Z\n",
       "  \" fill=\"#f1e51c\" fill-rule=\"evenodd\" fill-opacity=\"0.7\"/>\n",
       "<path clip-path=\"url(#clip842)\" d=\"\n",
       "M1433.48 254.547 L1405.67 263.342 L1453.84 287.21 L1481.66 278.415  Z\n",
       "  \" fill=\"#e4e318\" fill-rule=\"evenodd\" fill-opacity=\"0.7\"/>\n",
       "<path clip-path=\"url(#clip842)\" d=\"\n",
       "M1481.66 278.415 L1453.84 287.21 L1502.02 316.311 L1529.83 307.516  Z\n",
       "  \" fill=\"#d7e219\" fill-rule=\"evenodd\" fill-opacity=\"0.7\"/>\n",
       "<path clip-path=\"url(#clip842)\" d=\"\n",
       "M1529.83 307.516 L1502.02 316.311 L1550.19 350.647 L1578 341.852  Z\n",
       "  \" fill=\"#c5df21\" fill-rule=\"evenodd\" fill-opacity=\"0.7\"/>\n",
       "<path clip-path=\"url(#clip842)\" d=\"\n",
       "M1578 341.852 L1550.19 350.647 L1598.36 390.216 L1626.17 381.421  Z\n",
       "  \" fill=\"#afdc2e\" fill-rule=\"evenodd\" fill-opacity=\"0.7\"/>\n",
       "<path clip-path=\"url(#clip842)\" d=\"\n",
       "M1626.17 381.421 L1598.36 390.216 L1646.53 435.019 L1674.35 426.224  Z\n",
       "  \" fill=\"#97d83e\" fill-rule=\"evenodd\" fill-opacity=\"0.7\"/>\n",
       "<path clip-path=\"url(#clip842)\" d=\"\n",
       "M1674.35 426.224 L1646.53 435.019 L1694.71 485.057 L1722.52 476.262  Z\n",
       "  \" fill=\"#7ed24e\" fill-rule=\"evenodd\" fill-opacity=\"0.7\"/>\n",
       "<path clip-path=\"url(#clip842)\" d=\"\n",
       "M1722.52 476.262 L1694.71 485.057 L1742.88 540.328 L1770.69 531.533  Z\n",
       "  \" fill=\"#62ca5f\" fill-rule=\"evenodd\" fill-opacity=\"0.7\"/>\n",
       "<path clip-path=\"url(#clip842)\" d=\"\n",
       "M1770.69 531.533 L1742.88 540.328 L1791.05 600.833 L1818.86 592.038  Z\n",
       "  \" fill=\"#49c16d\" fill-rule=\"evenodd\" fill-opacity=\"0.7\"/>\n",
       "<path clip-path=\"url(#clip842)\" d=\"\n",
       "M1818.86 592.038 L1791.05 600.833 L1839.22 666.572 L1867.04 657.777  Z\n",
       "  \" fill=\"#32b57a\" fill-rule=\"evenodd\" fill-opacity=\"0.7\"/>\n",
       "<path clip-path=\"url(#clip842)\" d=\"\n",
       "M1867.04 657.777 L1839.22 666.572 L1887.4 737.545 L1915.21 728.75  Z\n",
       "  \" fill=\"#21a784\" fill-rule=\"evenodd\" fill-opacity=\"0.7\"/>\n",
       "<path clip-path=\"url(#clip842)\" d=\"\n",
       "M1915.21 728.75 L1887.4 737.545 L1935.57 813.753 L1963.38 804.958  Z\n",
       "  \" fill=\"#1e988a\" fill-rule=\"evenodd\" fill-opacity=\"0.7\"/>\n",
       "<path clip-path=\"url(#clip842)\" d=\"\n",
       "M538.565 728.734 L510.753 742.763 L558.925 672.42 L586.738 658.391  Z\n",
       "  \" fill=\"#1e978a\" fill-rule=\"evenodd\" fill-opacity=\"0.7\"/>\n",
       "<path clip-path=\"url(#clip842)\" d=\"\n",
       "M586.738 658.391 L558.925 672.42 L607.098 607.31 L634.91 593.281  Z\n",
       "  \" fill=\"#21a784\" fill-rule=\"evenodd\" fill-opacity=\"0.7\"/>\n",
       "<path clip-path=\"url(#clip842)\" d=\"\n",
       "M634.91 593.281 L607.098 607.31 L655.27 547.434 L683.083 533.405  Z\n",
       "  \" fill=\"#30b47a\" fill-rule=\"evenodd\" fill-opacity=\"0.7\"/>\n",
       "<path clip-path=\"url(#clip842)\" d=\"\n",
       "M683.083 533.405 L655.27 547.434 L703.443 492.792 L731.255 478.763  Z\n",
       "  \" fill=\"#47c06e\" fill-rule=\"evenodd\" fill-opacity=\"0.7\"/>\n",
       "<path clip-path=\"url(#clip842)\" d=\"\n",
       "M731.255 478.763 L703.443 492.792 L751.615 443.384 L779.428 429.355  Z\n",
       "  \" fill=\"#62ca5f\" fill-rule=\"evenodd\" fill-opacity=\"0.7\"/>\n",
       "<path clip-path=\"url(#clip842)\" d=\"\n",
       "M779.428 429.355 L751.615 443.384 L799.788 399.21 L827.6 385.181  Z\n",
       "  \" fill=\"#7cd24f\" fill-rule=\"evenodd\" fill-opacity=\"0.7\"/>\n",
       "<path clip-path=\"url(#clip842)\" d=\"\n",
       "M827.6 385.181 L799.788 399.21 L847.961 360.27 L875.773 346.241  Z\n",
       "  \" fill=\"#97d83e\" fill-rule=\"evenodd\" fill-opacity=\"0.7\"/>\n",
       "<path clip-path=\"url(#clip842)\" d=\"\n",
       "M875.773 346.241 L847.961 360.27 L896.133 326.564 L923.946 312.535  Z\n",
       "  \" fill=\"#afdc2e\" fill-rule=\"evenodd\" fill-opacity=\"0.7\"/>\n",
       "<path clip-path=\"url(#clip842)\" d=\"\n",
       "M923.946 312.535 L896.133 326.564 L944.306 298.092 L972.118 284.063  Z\n",
       "  \" fill=\"#c5df21\" fill-rule=\"evenodd\" fill-opacity=\"0.7\"/>\n",
       "<path clip-path=\"url(#clip842)\" d=\"\n",
       "M972.118 284.063 L944.306 298.092 L992.478 274.854 L1020.29 260.825  Z\n",
       "  \" fill=\"#d4e11a\" fill-rule=\"evenodd\" fill-opacity=\"0.7\"/>\n",
       "<path clip-path=\"url(#clip842)\" d=\"\n",
       "M1020.29 260.825 L992.478 274.854 L1040.65 256.85 L1068.46 242.821  Z\n",
       "  \" fill=\"#e4e318\" fill-rule=\"evenodd\" fill-opacity=\"0.7\"/>\n",
       "<path clip-path=\"url(#clip842)\" d=\"\n",
       "M1068.46 242.821 L1040.65 256.85 L1088.82 244.079 L1116.64 230.051  Z\n",
       "  \" fill=\"#eee51b\" fill-rule=\"evenodd\" fill-opacity=\"0.7\"/>\n",
       "<path clip-path=\"url(#clip842)\" d=\"\n",
       "M1116.64 230.051 L1088.82 244.079 L1137 236.543 L1164.81 222.514  Z\n",
       "  \" fill=\"#f6e61f\" fill-rule=\"evenodd\" fill-opacity=\"0.7\"/>\n",
       "<path clip-path=\"url(#clip842)\" d=\"\n",
       "M1164.81 222.514 L1137 236.543 L1185.17 234.241 L1212.98 220.212  Z\n",
       "  \" fill=\"#fae622\" fill-rule=\"evenodd\" fill-opacity=\"0.7\"/>\n",
       "<path clip-path=\"url(#clip842)\" d=\"\n",
       "M1212.98 220.212 L1185.17 234.241 L1233.34 237.173 L1261.15 223.144  Z\n",
       "  \" fill=\"#fae622\" fill-rule=\"evenodd\" fill-opacity=\"0.7\"/>\n",
       "<path clip-path=\"url(#clip842)\" d=\"\n",
       "M1261.15 223.144 L1233.34 237.173 L1281.51 245.338 L1309.33 231.309  Z\n",
       "  \" fill=\"#fae622\" fill-rule=\"evenodd\" fill-opacity=\"0.7\"/>\n",
       "<path clip-path=\"url(#clip842)\" d=\"\n",
       "M1309.33 231.309 L1281.51 245.338 L1329.69 258.738 L1357.5 244.709  Z\n",
       "  \" fill=\"#f6e61f\" fill-rule=\"evenodd\" fill-opacity=\"0.7\"/>\n",
       "<path clip-path=\"url(#clip842)\" d=\"\n",
       "M1357.5 244.709 L1329.69 258.738 L1377.86 277.371 L1405.67 263.342  Z\n",
       "  \" fill=\"#eee51b\" fill-rule=\"evenodd\" fill-opacity=\"0.7\"/>\n",
       "<path clip-path=\"url(#clip842)\" d=\"\n",
       "M1405.67 263.342 L1377.86 277.371 L1426.03 301.239 L1453.84 287.21  Z\n",
       "  \" fill=\"#e4e318\" fill-rule=\"evenodd\" fill-opacity=\"0.7\"/>\n",
       "<path clip-path=\"url(#clip842)\" d=\"\n",
       "M1453.84 287.21 L1426.03 301.239 L1474.2 330.34 L1502.02 316.311  Z\n",
       "  \" fill=\"#d4e11a\" fill-rule=\"evenodd\" fill-opacity=\"0.7\"/>\n",
       "<path clip-path=\"url(#clip842)\" d=\"\n",
       "M1502.02 316.311 L1474.2 330.34 L1522.38 364.676 L1550.19 350.647  Z\n",
       "  \" fill=\"#c5df21\" fill-rule=\"evenodd\" fill-opacity=\"0.7\"/>\n",
       "<path clip-path=\"url(#clip842)\" d=\"\n",
       "M1550.19 350.647 L1522.38 364.676 L1570.55 404.245 L1598.36 390.216  Z\n",
       "  \" fill=\"#afdc2e\" fill-rule=\"evenodd\" fill-opacity=\"0.7\"/>\n",
       "<path clip-path=\"url(#clip842)\" d=\"\n",
       "M1598.36 390.216 L1570.55 404.245 L1618.72 449.048 L1646.53 435.019  Z\n",
       "  \" fill=\"#97d83e\" fill-rule=\"evenodd\" fill-opacity=\"0.7\"/>\n",
       "<path clip-path=\"url(#clip842)\" d=\"\n",
       "M1646.53 435.019 L1618.72 449.048 L1666.89 499.086 L1694.71 485.057  Z\n",
       "  \" fill=\"#7cd24f\" fill-rule=\"evenodd\" fill-opacity=\"0.7\"/>\n",
       "<path clip-path=\"url(#clip842)\" d=\"\n",
       "M1694.71 485.057 L1666.89 499.086 L1715.07 554.357 L1742.88 540.328  Z\n",
       "  \" fill=\"#62ca5f\" fill-rule=\"evenodd\" fill-opacity=\"0.7\"/>\n",
       "<path clip-path=\"url(#clip842)\" d=\"\n",
       "M1742.88 540.328 L1715.07 554.357 L1763.24 614.862 L1791.05 600.833  Z\n",
       "  \" fill=\"#47c06e\" fill-rule=\"evenodd\" fill-opacity=\"0.7\"/>\n",
       "<path clip-path=\"url(#clip842)\" d=\"\n",
       "M1791.05 600.833 L1763.24 614.862 L1811.41 680.601 L1839.22 666.572  Z\n",
       "  \" fill=\"#30b47a\" fill-rule=\"evenodd\" fill-opacity=\"0.7\"/>\n",
       "<path clip-path=\"url(#clip842)\" d=\"\n",
       "M1839.22 666.572 L1811.41 680.601 L1859.58 751.574 L1887.4 737.545  Z\n",
       "  \" fill=\"#21a784\" fill-rule=\"evenodd\" fill-opacity=\"0.7\"/>\n",
       "<path clip-path=\"url(#clip842)\" d=\"\n",
       "M1887.4 737.545 L1859.58 751.574 L1907.76 827.781 L1935.57 813.753  Z\n",
       "  \" fill=\"#1e978a\" fill-rule=\"evenodd\" fill-opacity=\"0.7\"/>\n",
       "<path clip-path=\"url(#clip842)\" d=\"\n",
       "M510.753 742.763 L482.94 762.026 L531.113 691.682 L558.925 672.42  Z\n",
       "  \" fill=\"#1f968b\" fill-rule=\"evenodd\" fill-opacity=\"0.7\"/>\n",
       "<path clip-path=\"url(#clip842)\" d=\"\n",
       "M558.925 672.42 L531.113 691.682 L579.285 626.573 L607.098 607.31  Z\n",
       "  \" fill=\"#20a585\" fill-rule=\"evenodd\" fill-opacity=\"0.7\"/>\n",
       "<path clip-path=\"url(#clip842)\" d=\"\n",
       "M607.098 607.31 L579.285 626.573 L627.458 566.697 L655.27 547.434  Z\n",
       "  \" fill=\"#2eb27c\" fill-rule=\"evenodd\" fill-opacity=\"0.7\"/>\n",
       "<path clip-path=\"url(#clip842)\" d=\"\n",
       "M655.27 547.434 L627.458 566.697 L675.63 512.055 L703.443 492.792  Z\n",
       "  \" fill=\"#44be70\" fill-rule=\"evenodd\" fill-opacity=\"0.7\"/>\n",
       "<path clip-path=\"url(#clip842)\" d=\"\n",
       "M703.443 492.792 L675.63 512.055 L723.803 462.647 L751.615 443.384  Z\n",
       "  \" fill=\"#5ec961\" fill-rule=\"evenodd\" fill-opacity=\"0.7\"/>\n",
       "<path clip-path=\"url(#clip842)\" d=\"\n",
       "M751.615 443.384 L723.803 462.647 L771.976 418.473 L799.788 399.21  Z\n",
       "  \" fill=\"#77d052\" fill-rule=\"evenodd\" fill-opacity=\"0.7\"/>\n",
       "<path clip-path=\"url(#clip842)\" d=\"\n",
       "M799.788 399.21 L771.976 418.473 L820.148 379.533 L847.961 360.27  Z\n",
       "  \" fill=\"#92d741\" fill-rule=\"evenodd\" fill-opacity=\"0.7\"/>\n",
       "<path clip-path=\"url(#clip842)\" d=\"\n",
       "M847.961 360.27 L820.148 379.533 L868.321 345.827 L896.133 326.564  Z\n",
       "  \" fill=\"#aadb32\" fill-rule=\"evenodd\" fill-opacity=\"0.7\"/>\n",
       "<path clip-path=\"url(#clip842)\" d=\"\n",
       "M896.133 326.564 L868.321 345.827 L916.493 317.355 L944.306 298.092  Z\n",
       "  \" fill=\"#bfdf24\" fill-rule=\"evenodd\" fill-opacity=\"0.7\"/>\n",
       "<path clip-path=\"url(#clip842)\" d=\"\n",
       "M944.306 298.092 L916.493 317.355 L964.666 294.117 L992.478 274.854  Z\n",
       "  \" fill=\"#cfe11c\" fill-rule=\"evenodd\" fill-opacity=\"0.7\"/>\n",
       "<path clip-path=\"url(#clip842)\" d=\"\n",
       "M992.478 274.854 L964.666 294.117 L1012.84 276.113 L1040.65 256.85  Z\n",
       "  \" fill=\"#dfe318\" fill-rule=\"evenodd\" fill-opacity=\"0.7\"/>\n",
       "<path clip-path=\"url(#clip842)\" d=\"\n",
       "M1040.65 256.85 L1012.84 276.113 L1061.01 263.342 L1088.82 244.079  Z\n",
       "  \" fill=\"#e9e419\" fill-rule=\"evenodd\" fill-opacity=\"0.7\"/>\n",
       "<path clip-path=\"url(#clip842)\" d=\"\n",
       "M1088.82 244.079 L1061.01 263.342 L1109.18 255.806 L1137 236.543  Z\n",
       "  \" fill=\"#f1e51c\" fill-rule=\"evenodd\" fill-opacity=\"0.7\"/>\n",
       "<path clip-path=\"url(#clip842)\" d=\"\n",
       "M1137 236.543 L1109.18 255.806 L1157.36 253.504 L1185.17 234.241  Z\n",
       "  \" fill=\"#f6e61f\" fill-rule=\"evenodd\" fill-opacity=\"0.7\"/>\n",
       "<path clip-path=\"url(#clip842)\" d=\"\n",
       "M1185.17 234.241 L1157.36 253.504 L1205.53 256.435 L1233.34 237.173  Z\n",
       "  \" fill=\"#f8e621\" fill-rule=\"evenodd\" fill-opacity=\"0.7\"/>\n",
       "<path clip-path=\"url(#clip842)\" d=\"\n",
       "M1233.34 237.173 L1205.53 256.435 L1253.7 264.601 L1281.51 245.338  Z\n",
       "  \" fill=\"#f6e61f\" fill-rule=\"evenodd\" fill-opacity=\"0.7\"/>\n",
       "<path clip-path=\"url(#clip842)\" d=\"\n",
       "M1281.51 245.338 L1253.7 264.601 L1301.87 278.001 L1329.69 258.738  Z\n",
       "  \" fill=\"#f1e51c\" fill-rule=\"evenodd\" fill-opacity=\"0.7\"/>\n",
       "<path clip-path=\"url(#clip842)\" d=\"\n",
       "M1329.69 258.738 L1301.87 278.001 L1350.05 296.634 L1377.86 277.371  Z\n",
       "  \" fill=\"#e9e419\" fill-rule=\"evenodd\" fill-opacity=\"0.7\"/>\n",
       "<path clip-path=\"url(#clip842)\" d=\"\n",
       "M1377.86 277.371 L1350.05 296.634 L1398.22 320.502 L1426.03 301.239  Z\n",
       "  \" fill=\"#dfe318\" fill-rule=\"evenodd\" fill-opacity=\"0.7\"/>\n",
       "<path clip-path=\"url(#clip842)\" d=\"\n",
       "M1426.03 301.239 L1398.22 320.502 L1446.39 349.603 L1474.2 330.34  Z\n",
       "  \" fill=\"#cfe11c\" fill-rule=\"evenodd\" fill-opacity=\"0.7\"/>\n",
       "<path clip-path=\"url(#clip842)\" d=\"\n",
       "M1474.2 330.34 L1446.39 349.603 L1494.56 383.939 L1522.38 364.676  Z\n",
       "  \" fill=\"#bfdf24\" fill-rule=\"evenodd\" fill-opacity=\"0.7\"/>\n",
       "<path clip-path=\"url(#clip842)\" d=\"\n",
       "M1522.38 364.676 L1494.56 383.939 L1542.74 423.508 L1570.55 404.245  Z\n",
       "  \" fill=\"#aadb32\" fill-rule=\"evenodd\" fill-opacity=\"0.7\"/>\n",
       "<path clip-path=\"url(#clip842)\" d=\"\n",
       "M1570.55 404.245 L1542.74 423.508 L1590.91 468.311 L1618.72 449.048  Z\n",
       "  \" fill=\"#92d741\" fill-rule=\"evenodd\" fill-opacity=\"0.7\"/>\n",
       "<path clip-path=\"url(#clip842)\" d=\"\n",
       "M1618.72 449.048 L1590.91 468.311 L1639.08 518.349 L1666.89 499.086  Z\n",
       "  \" fill=\"#77d052\" fill-rule=\"evenodd\" fill-opacity=\"0.7\"/>\n",
       "<path clip-path=\"url(#clip842)\" d=\"\n",
       "M1666.89 499.086 L1639.08 518.349 L1687.25 573.62 L1715.07 554.357  Z\n",
       "  \" fill=\"#5ec961\" fill-rule=\"evenodd\" fill-opacity=\"0.7\"/>\n",
       "<path clip-path=\"url(#clip842)\" d=\"\n",
       "M1715.07 554.357 L1687.25 573.62 L1735.43 634.125 L1763.24 614.862  Z\n",
       "  \" fill=\"#44be70\" fill-rule=\"evenodd\" fill-opacity=\"0.7\"/>\n",
       "<path clip-path=\"url(#clip842)\" d=\"\n",
       "M1763.24 614.862 L1735.43 634.125 L1783.6 699.864 L1811.41 680.601  Z\n",
       "  \" fill=\"#2eb27c\" fill-rule=\"evenodd\" fill-opacity=\"0.7\"/>\n",
       "<path clip-path=\"url(#clip842)\" d=\"\n",
       "M1811.41 680.601 L1783.6 699.864 L1831.77 770.837 L1859.58 751.574  Z\n",
       "  \" fill=\"#20a585\" fill-rule=\"evenodd\" fill-opacity=\"0.7\"/>\n",
       "<path clip-path=\"url(#clip842)\" d=\"\n",
       "M1859.58 751.574 L1831.77 770.837 L1879.94 847.044 L1907.76 827.781  Z\n",
       "  \" fill=\"#1f968b\" fill-rule=\"evenodd\" fill-opacity=\"0.7\"/>\n",
       "<path clip-path=\"url(#clip842)\" d=\"\n",
       "M482.94 762.026 L455.128 786.523 L503.3 716.179 L531.113 691.682  Z\n",
       "  \" fill=\"#1f938b\" fill-rule=\"evenodd\" fill-opacity=\"0.7\"/>\n",
       "<path clip-path=\"url(#clip842)\" d=\"\n",
       "M531.113 691.682 L503.3 716.179 L551.473 651.07 L579.285 626.573  Z\n",
       "  \" fill=\"#1fa286\" fill-rule=\"evenodd\" fill-opacity=\"0.7\"/>\n",
       "<path clip-path=\"url(#clip842)\" d=\"\n",
       "M579.285 626.573 L551.473 651.07 L599.645 591.194 L627.458 566.697  Z\n",
       "  \" fill=\"#2ab07e\" fill-rule=\"evenodd\" fill-opacity=\"0.7\"/>\n",
       "<path clip-path=\"url(#clip842)\" d=\"\n",
       "M627.458 566.697 L599.645 591.194 L647.818 536.552 L675.63 512.055  Z\n",
       "  \" fill=\"#3ebc73\" fill-rule=\"evenodd\" fill-opacity=\"0.7\"/>\n",
       "<path clip-path=\"url(#clip842)\" d=\"\n",
       "M675.63 512.055 L647.818 536.552 L695.991 487.144 L723.803 462.647  Z\n",
       "  \" fill=\"#57c665\" fill-rule=\"evenodd\" fill-opacity=\"0.7\"/>\n",
       "<path clip-path=\"url(#clip842)\" d=\"\n",
       "M723.803 462.647 L695.991 487.144 L744.163 442.97 L771.976 418.473  Z\n",
       "  \" fill=\"#70ce56\" fill-rule=\"evenodd\" fill-opacity=\"0.7\"/>\n",
       "<path clip-path=\"url(#clip842)\" d=\"\n",
       "M771.976 418.473 L744.163 442.97 L792.336 404.03 L820.148 379.533  Z\n",
       "  \" fill=\"#8bd546\" fill-rule=\"evenodd\" fill-opacity=\"0.7\"/>\n",
       "<path clip-path=\"url(#clip842)\" d=\"\n",
       "M820.148 379.533 L792.336 404.03 L840.508 370.324 L868.321 345.827  Z\n",
       "  \" fill=\"#a2da37\" fill-rule=\"evenodd\" fill-opacity=\"0.7\"/>\n",
       "<path clip-path=\"url(#clip842)\" d=\"\n",
       "M868.321 345.827 L840.508 370.324 L888.681 341.852 L916.493 317.355  Z\n",
       "  \" fill=\"#b7dd29\" fill-rule=\"evenodd\" fill-opacity=\"0.7\"/>\n",
       "<path clip-path=\"url(#clip842)\" d=\"\n",
       "M916.493 317.355 L888.681 341.852 L936.853 318.614 L964.666 294.117  Z\n",
       "  \" fill=\"#c7e01f\" fill-rule=\"evenodd\" fill-opacity=\"0.7\"/>\n",
       "<path clip-path=\"url(#clip842)\" d=\"\n",
       "M964.666 294.117 L936.853 318.614 L985.026 300.609 L1012.84 276.113  Z\n",
       "  \" fill=\"#d7e219\" fill-rule=\"evenodd\" fill-opacity=\"0.7\"/>\n",
       "<path clip-path=\"url(#clip842)\" d=\"\n",
       "M1012.84 276.113 L985.026 300.609 L1033.2 287.839 L1061.01 263.342  Z\n",
       "  \" fill=\"#e1e318\" fill-rule=\"evenodd\" fill-opacity=\"0.7\"/>\n",
       "<path clip-path=\"url(#clip842)\" d=\"\n",
       "M1061.01 263.342 L1033.2 287.839 L1081.37 280.303 L1109.18 255.806  Z\n",
       "  \" fill=\"#e9e419\" fill-rule=\"evenodd\" fill-opacity=\"0.7\"/>\n",
       "<path clip-path=\"url(#clip842)\" d=\"\n",
       "M1109.18 255.806 L1081.37 280.303 L1129.54 278.001 L1157.36 253.504  Z\n",
       "  \" fill=\"#eee51b\" fill-rule=\"evenodd\" fill-opacity=\"0.7\"/>\n",
       "<path clip-path=\"url(#clip842)\" d=\"\n",
       "M1157.36 253.504 L1129.54 278.001 L1177.72 280.932 L1205.53 256.435  Z\n",
       "  \" fill=\"#f1e51c\" fill-rule=\"evenodd\" fill-opacity=\"0.7\"/>\n",
       "<path clip-path=\"url(#clip842)\" d=\"\n",
       "M1205.53 256.435 L1177.72 280.932 L1225.89 289.098 L1253.7 264.601  Z\n",
       "  \" fill=\"#eee51b\" fill-rule=\"evenodd\" fill-opacity=\"0.7\"/>\n",
       "<path clip-path=\"url(#clip842)\" d=\"\n",
       "M1253.7 264.601 L1225.89 289.098 L1274.06 302.498 L1301.87 278.001  Z\n",
       "  \" fill=\"#e9e419\" fill-rule=\"evenodd\" fill-opacity=\"0.7\"/>\n",
       "<path clip-path=\"url(#clip842)\" d=\"\n",
       "M1301.87 278.001 L1274.06 302.498 L1322.23 321.131 L1350.05 296.634  Z\n",
       "  \" fill=\"#e1e318\" fill-rule=\"evenodd\" fill-opacity=\"0.7\"/>\n",
       "<path clip-path=\"url(#clip842)\" d=\"\n",
       "M1350.05 296.634 L1322.23 321.131 L1370.41 344.999 L1398.22 320.502  Z\n",
       "  \" fill=\"#d7e219\" fill-rule=\"evenodd\" fill-opacity=\"0.7\"/>\n",
       "<path clip-path=\"url(#clip842)\" d=\"\n",
       "M1398.22 320.502 L1370.41 344.999 L1418.58 374.1 L1446.39 349.603  Z\n",
       "  \" fill=\"#c7e01f\" fill-rule=\"evenodd\" fill-opacity=\"0.7\"/>\n",
       "<path clip-path=\"url(#clip842)\" d=\"\n",
       "M1446.39 349.603 L1418.58 374.1 L1466.75 408.435 L1494.56 383.939  Z\n",
       "  \" fill=\"#b7dd29\" fill-rule=\"evenodd\" fill-opacity=\"0.7\"/>\n",
       "<path clip-path=\"url(#clip842)\" d=\"\n",
       "M1494.56 383.939 L1466.75 408.435 L1514.92 448.005 L1542.74 423.508  Z\n",
       "  \" fill=\"#a2da37\" fill-rule=\"evenodd\" fill-opacity=\"0.7\"/>\n",
       "<path clip-path=\"url(#clip842)\" d=\"\n",
       "M1542.74 423.508 L1514.92 448.005 L1563.1 492.808 L1590.91 468.311  Z\n",
       "  \" fill=\"#8bd546\" fill-rule=\"evenodd\" fill-opacity=\"0.7\"/>\n",
       "<path clip-path=\"url(#clip842)\" d=\"\n",
       "M1590.91 468.311 L1563.1 492.808 L1611.27 542.845 L1639.08 518.349  Z\n",
       "  \" fill=\"#70ce56\" fill-rule=\"evenodd\" fill-opacity=\"0.7\"/>\n",
       "<path clip-path=\"url(#clip842)\" d=\"\n",
       "M1639.08 518.349 L1611.27 542.845 L1659.44 598.117 L1687.25 573.62  Z\n",
       "  \" fill=\"#57c665\" fill-rule=\"evenodd\" fill-opacity=\"0.7\"/>\n",
       "<path clip-path=\"url(#clip842)\" d=\"\n",
       "M1687.25 573.62 L1659.44 598.117 L1707.61 658.622 L1735.43 634.125  Z\n",
       "  \" fill=\"#3ebc73\" fill-rule=\"evenodd\" fill-opacity=\"0.7\"/>\n",
       "<path clip-path=\"url(#clip842)\" d=\"\n",
       "M1735.43 634.125 L1707.61 658.622 L1755.79 724.361 L1783.6 699.864  Z\n",
       "  \" fill=\"#2ab07e\" fill-rule=\"evenodd\" fill-opacity=\"0.7\"/>\n",
       "<path clip-path=\"url(#clip842)\" d=\"\n",
       "M1783.6 699.864 L1755.79 724.361 L1803.96 795.334 L1831.77 770.837  Z\n",
       "  \" fill=\"#1fa286\" fill-rule=\"evenodd\" fill-opacity=\"0.7\"/>\n",
       "<path clip-path=\"url(#clip842)\" d=\"\n",
       "M1831.77 770.837 L1803.96 795.334 L1852.13 871.541 L1879.94 847.044  Z\n",
       "  \" fill=\"#1f938b\" fill-rule=\"evenodd\" fill-opacity=\"0.7\"/>\n",
       "<path clip-path=\"url(#clip842)\" d=\"\n",
       "M455.128 786.523 L427.315 816.254 L475.488 745.91 L503.3 716.179  Z\n",
       "  \" fill=\"#218e8c\" fill-rule=\"evenodd\" fill-opacity=\"0.7\"/>\n",
       "<path clip-path=\"url(#clip842)\" d=\"\n",
       "M503.3 716.179 L475.488 745.91 L523.66 680.8 L551.473 651.07  Z\n",
       "  \" fill=\"#1e9e88\" fill-rule=\"evenodd\" fill-opacity=\"0.7\"/>\n",
       "<path clip-path=\"url(#clip842)\" d=\"\n",
       "M551.473 651.07 L523.66 680.8 L571.833 620.924 L599.645 591.194  Z\n",
       "  \" fill=\"#26ac81\" fill-rule=\"evenodd\" fill-opacity=\"0.7\"/>\n",
       "<path clip-path=\"url(#clip842)\" d=\"\n",
       "M599.645 591.194 L571.833 620.924 L620.006 566.283 L647.818 536.552  Z\n",
       "  \" fill=\"#38b976\" fill-rule=\"evenodd\" fill-opacity=\"0.7\"/>\n",
       "<path clip-path=\"url(#clip842)\" d=\"\n",
       "M647.818 536.552 L620.006 566.283 L668.178 516.875 L695.991 487.144  Z\n",
       "  \" fill=\"#4fc369\" fill-rule=\"evenodd\" fill-opacity=\"0.7\"/>\n",
       "<path clip-path=\"url(#clip842)\" d=\"\n",
       "M695.991 487.144 L668.178 516.875 L716.351 472.701 L744.163 442.97  Z\n",
       "  \" fill=\"#67cc5c\" fill-rule=\"evenodd\" fill-opacity=\"0.7\"/>\n",
       "<path clip-path=\"url(#clip842)\" d=\"\n",
       "M744.163 442.97 L716.351 472.701 L764.523 433.761 L792.336 404.03  Z\n",
       "  \" fill=\"#7ed24e\" fill-rule=\"evenodd\" fill-opacity=\"0.7\"/>\n",
       "<path clip-path=\"url(#clip842)\" d=\"\n",
       "M792.336 404.03 L764.523 433.761 L812.696 400.055 L840.508 370.324  Z\n",
       "  \" fill=\"#97d83e\" fill-rule=\"evenodd\" fill-opacity=\"0.7\"/>\n",
       "<path clip-path=\"url(#clip842)\" d=\"\n",
       "M840.508 370.324 L812.696 400.055 L860.868 371.583 L888.681 341.852  Z\n",
       "  \" fill=\"#aadb32\" fill-rule=\"evenodd\" fill-opacity=\"0.7\"/>\n",
       "<path clip-path=\"url(#clip842)\" d=\"\n",
       "M888.681 341.852 L860.868 371.583 L909.041 348.344 L936.853 318.614  Z\n",
       "  \" fill=\"#bdde26\" fill-rule=\"evenodd\" fill-opacity=\"0.7\"/>\n",
       "<path clip-path=\"url(#clip842)\" d=\"\n",
       "M936.853 318.614 L909.041 348.344 L957.213 330.34 L985.026 300.609  Z\n",
       "  \" fill=\"#cde01d\" fill-rule=\"evenodd\" fill-opacity=\"0.7\"/>\n",
       "<path clip-path=\"url(#clip842)\" d=\"\n",
       "M985.026 300.609 L957.213 330.34 L1005.39 317.57 L1033.2 287.839  Z\n",
       "  \" fill=\"#d7e219\" fill-rule=\"evenodd\" fill-opacity=\"0.7\"/>\n",
       "<path clip-path=\"url(#clip842)\" d=\"\n",
       "M1033.2 287.839 L1005.39 317.57 L1053.56 310.034 L1081.37 280.303  Z\n",
       "  \" fill=\"#dfe318\" fill-rule=\"evenodd\" fill-opacity=\"0.7\"/>\n",
       "<path clip-path=\"url(#clip842)\" d=\"\n",
       "M1081.37 280.303 L1053.56 310.034 L1101.73 307.731 L1129.54 278.001  Z\n",
       "  \" fill=\"#e4e318\" fill-rule=\"evenodd\" fill-opacity=\"0.7\"/>\n",
       "<path clip-path=\"url(#clip842)\" d=\"\n",
       "M1129.54 278.001 L1101.73 307.731 L1149.9 310.663 L1177.72 280.932  Z\n",
       "  \" fill=\"#e4e318\" fill-rule=\"evenodd\" fill-opacity=\"0.7\"/>\n",
       "<path clip-path=\"url(#clip842)\" d=\"\n",
       "M1177.72 280.932 L1149.9 310.663 L1198.08 318.829 L1225.89 289.098  Z\n",
       "  \" fill=\"#e4e318\" fill-rule=\"evenodd\" fill-opacity=\"0.7\"/>\n",
       "<path clip-path=\"url(#clip842)\" d=\"\n",
       "M1225.89 289.098 L1198.08 318.829 L1246.25 332.228 L1274.06 302.498  Z\n",
       "  \" fill=\"#dfe318\" fill-rule=\"evenodd\" fill-opacity=\"0.7\"/>\n",
       "<path clip-path=\"url(#clip842)\" d=\"\n",
       "M1274.06 302.498 L1246.25 332.228 L1294.42 350.862 L1322.23 321.131  Z\n",
       "  \" fill=\"#d7e219\" fill-rule=\"evenodd\" fill-opacity=\"0.7\"/>\n",
       "<path clip-path=\"url(#clip842)\" d=\"\n",
       "M1322.23 321.131 L1294.42 350.862 L1342.59 374.729 L1370.41 344.999  Z\n",
       "  \" fill=\"#cde01d\" fill-rule=\"evenodd\" fill-opacity=\"0.7\"/>\n",
       "<path clip-path=\"url(#clip842)\" d=\"\n",
       "M1370.41 344.999 L1342.59 374.729 L1390.77 403.831 L1418.58 374.1  Z\n",
       "  \" fill=\"#bdde26\" fill-rule=\"evenodd\" fill-opacity=\"0.7\"/>\n",
       "<path clip-path=\"url(#clip842)\" d=\"\n",
       "M1418.58 374.1 L1390.77 403.831 L1438.94 438.166 L1466.75 408.435  Z\n",
       "  \" fill=\"#aadb32\" fill-rule=\"evenodd\" fill-opacity=\"0.7\"/>\n",
       "<path clip-path=\"url(#clip842)\" d=\"\n",
       "M1466.75 408.435 L1438.94 438.166 L1487.11 477.736 L1514.92 448.005  Z\n",
       "  \" fill=\"#97d83e\" fill-rule=\"evenodd\" fill-opacity=\"0.7\"/>\n",
       "<path clip-path=\"url(#clip842)\" d=\"\n",
       "M1514.92 448.005 L1487.11 477.736 L1535.28 522.539 L1563.1 492.808  Z\n",
       "  \" fill=\"#7ed24e\" fill-rule=\"evenodd\" fill-opacity=\"0.7\"/>\n",
       "<path clip-path=\"url(#clip842)\" d=\"\n",
       "M1563.1 492.808 L1535.28 522.539 L1583.46 572.576 L1611.27 542.845  Z\n",
       "  \" fill=\"#67cc5c\" fill-rule=\"evenodd\" fill-opacity=\"0.7\"/>\n",
       "<path clip-path=\"url(#clip842)\" d=\"\n",
       "M1611.27 542.845 L1583.46 572.576 L1631.63 627.847 L1659.44 598.117  Z\n",
       "  \" fill=\"#4fc369\" fill-rule=\"evenodd\" fill-opacity=\"0.7\"/>\n",
       "<path clip-path=\"url(#clip842)\" d=\"\n",
       "M1659.44 598.117 L1631.63 627.847 L1679.8 688.353 L1707.61 658.622  Z\n",
       "  \" fill=\"#38b976\" fill-rule=\"evenodd\" fill-opacity=\"0.7\"/>\n",
       "<path clip-path=\"url(#clip842)\" d=\"\n",
       "M1707.61 658.622 L1679.8 688.353 L1727.97 754.092 L1755.79 724.361  Z\n",
       "  \" fill=\"#26ac81\" fill-rule=\"evenodd\" fill-opacity=\"0.7\"/>\n",
       "<path clip-path=\"url(#clip842)\" d=\"\n",
       "M1755.79 724.361 L1727.97 754.092 L1776.15 825.065 L1803.96 795.334  Z\n",
       "  \" fill=\"#1e9e88\" fill-rule=\"evenodd\" fill-opacity=\"0.7\"/>\n",
       "<path clip-path=\"url(#clip842)\" d=\"\n",
       "M1803.96 795.334 L1776.15 825.065 L1824.32 901.272 L1852.13 871.541  Z\n",
       "  \" fill=\"#218e8c\" fill-rule=\"evenodd\" fill-opacity=\"0.7\"/>\n",
       "<path clip-path=\"url(#clip842)\" d=\"\n",
       "M427.315 816.254 L399.503 851.219 L447.675 780.875 L475.488 745.91  Z\n",
       "  \" fill=\"#22898d\" fill-rule=\"evenodd\" fill-opacity=\"0.7\"/>\n",
       "<path clip-path=\"url(#clip842)\" d=\"\n",
       "M475.488 745.91 L447.675 780.875 L495.848 715.765 L523.66 680.8  Z\n",
       "  \" fill=\"#1e998a\" fill-rule=\"evenodd\" fill-opacity=\"0.7\"/>\n",
       "<path clip-path=\"url(#clip842)\" d=\"\n",
       "M523.66 680.8 L495.848 715.765 L544.021 655.889 L571.833 620.924  Z\n",
       "  \" fill=\"#21a784\" fill-rule=\"evenodd\" fill-opacity=\"0.7\"/>\n",
       "<path clip-path=\"url(#clip842)\" d=\"\n",
       "M571.833 620.924 L544.021 655.889 L592.193 601.247 L620.006 566.283  Z\n",
       "  \" fill=\"#2fb37b\" fill-rule=\"evenodd\" fill-opacity=\"0.7\"/>\n",
       "<path clip-path=\"url(#clip842)\" d=\"\n",
       "M620.006 566.283 L592.193 601.247 L640.366 551.839 L668.178 516.875  Z\n",
       "  \" fill=\"#44be70\" fill-rule=\"evenodd\" fill-opacity=\"0.7\"/>\n",
       "<path clip-path=\"url(#clip842)\" d=\"\n",
       "M668.178 516.875 L640.366 551.839 L688.538 507.665 L716.351 472.701  Z\n",
       "  \" fill=\"#5bc862\" fill-rule=\"evenodd\" fill-opacity=\"0.7\"/>\n",
       "<path clip-path=\"url(#clip842)\" d=\"\n",
       "M716.351 472.701 L688.538 507.665 L736.711 468.725 L764.523 433.761  Z\n",
       "  \" fill=\"#72cf55\" fill-rule=\"evenodd\" fill-opacity=\"0.7\"/>\n",
       "<path clip-path=\"url(#clip842)\" d=\"\n",
       "M764.523 433.761 L736.711 468.725 L784.883 435.019 L812.696 400.055  Z\n",
       "  \" fill=\"#88d547\" fill-rule=\"evenodd\" fill-opacity=\"0.7\"/>\n",
       "<path clip-path=\"url(#clip842)\" d=\"\n",
       "M812.696 400.055 L784.883 435.019 L833.056 406.547 L860.868 371.583  Z\n",
       "  \" fill=\"#9dd93a\" fill-rule=\"evenodd\" fill-opacity=\"0.7\"/>\n",
       "<path clip-path=\"url(#clip842)\" d=\"\n",
       "M860.868 371.583 L833.056 406.547 L881.228 383.309 L909.041 348.344  Z\n",
       "  \" fill=\"#afdc2e\" fill-rule=\"evenodd\" fill-opacity=\"0.7\"/>\n",
       "<path clip-path=\"url(#clip842)\" d=\"\n",
       "M909.041 348.344 L881.228 383.309 L929.401 365.305 L957.213 330.34  Z\n",
       "  \" fill=\"#bdde26\" fill-rule=\"evenodd\" fill-opacity=\"0.7\"/>\n",
       "<path clip-path=\"url(#clip842)\" d=\"\n",
       "M957.213 330.34 L929.401 365.305 L977.574 352.535 L1005.39 317.57  Z\n",
       "  \" fill=\"#c7e01f\" fill-rule=\"evenodd\" fill-opacity=\"0.7\"/>\n",
       "<path clip-path=\"url(#clip842)\" d=\"\n",
       "M1005.39 317.57 L977.574 352.535 L1025.75 344.999 L1053.56 310.034  Z\n",
       "  \" fill=\"#cfe11c\" fill-rule=\"evenodd\" fill-opacity=\"0.7\"/>\n",
       "<path clip-path=\"url(#clip842)\" d=\"\n",
       "M1053.56 310.034 L1025.75 344.999 L1073.92 342.696 L1101.73 307.731  Z\n",
       "  \" fill=\"#d4e11a\" fill-rule=\"evenodd\" fill-opacity=\"0.7\"/>\n",
       "<path clip-path=\"url(#clip842)\" d=\"\n",
       "M1101.73 307.731 L1073.92 342.696 L1122.09 345.628 L1149.9 310.663  Z\n",
       "  \" fill=\"#d7e219\" fill-rule=\"evenodd\" fill-opacity=\"0.7\"/>\n",
       "<path clip-path=\"url(#clip842)\" d=\"\n",
       "M1149.9 310.663 L1122.09 345.628 L1170.26 353.794 L1198.08 318.829  Z\n",
       "  \" fill=\"#d4e11a\" fill-rule=\"evenodd\" fill-opacity=\"0.7\"/>\n",
       "<path clip-path=\"url(#clip842)\" d=\"\n",
       "M1198.08 318.829 L1170.26 353.794 L1218.44 367.193 L1246.25 332.228  Z\n",
       "  \" fill=\"#cfe11c\" fill-rule=\"evenodd\" fill-opacity=\"0.7\"/>\n",
       "<path clip-path=\"url(#clip842)\" d=\"\n",
       "M1246.25 332.228 L1218.44 367.193 L1266.61 385.827 L1294.42 350.862  Z\n",
       "  \" fill=\"#c7e01f\" fill-rule=\"evenodd\" fill-opacity=\"0.7\"/>\n",
       "<path clip-path=\"url(#clip842)\" d=\"\n",
       "M1294.42 350.862 L1266.61 385.827 L1314.78 409.694 L1342.59 374.729  Z\n",
       "  \" fill=\"#bdde26\" fill-rule=\"evenodd\" fill-opacity=\"0.7\"/>\n",
       "<path clip-path=\"url(#clip842)\" d=\"\n",
       "M1342.59 374.729 L1314.78 409.694 L1362.95 438.796 L1390.77 403.831  Z\n",
       "  \" fill=\"#afdc2e\" fill-rule=\"evenodd\" fill-opacity=\"0.7\"/>\n",
       "<path clip-path=\"url(#clip842)\" d=\"\n",
       "M1390.77 403.831 L1362.95 438.796 L1411.13 473.131 L1438.94 438.166  Z\n",
       "  \" fill=\"#9dd93a\" fill-rule=\"evenodd\" fill-opacity=\"0.7\"/>\n",
       "<path clip-path=\"url(#clip842)\" d=\"\n",
       "M1438.94 438.166 L1411.13 473.131 L1459.3 512.7 L1487.11 477.736  Z\n",
       "  \" fill=\"#88d547\" fill-rule=\"evenodd\" fill-opacity=\"0.7\"/>\n",
       "<path clip-path=\"url(#clip842)\" d=\"\n",
       "M1487.11 477.736 L1459.3 512.7 L1507.47 557.504 L1535.28 522.539  Z\n",
       "  \" fill=\"#72cf55\" fill-rule=\"evenodd\" fill-opacity=\"0.7\"/>\n",
       "<path clip-path=\"url(#clip842)\" d=\"\n",
       "M1535.28 522.539 L1507.47 557.504 L1555.64 607.541 L1583.46 572.576  Z\n",
       "  \" fill=\"#5bc862\" fill-rule=\"evenodd\" fill-opacity=\"0.7\"/>\n",
       "<path clip-path=\"url(#clip842)\" d=\"\n",
       "M1583.46 572.576 L1555.64 607.541 L1603.82 662.812 L1631.63 627.847  Z\n",
       "  \" fill=\"#44be70\" fill-rule=\"evenodd\" fill-opacity=\"0.7\"/>\n",
       "<path clip-path=\"url(#clip842)\" d=\"\n",
       "M1631.63 627.847 L1603.82 662.812 L1651.99 723.317 L1679.8 688.353  Z\n",
       "  \" fill=\"#2fb37b\" fill-rule=\"evenodd\" fill-opacity=\"0.7\"/>\n",
       "<path clip-path=\"url(#clip842)\" d=\"\n",
       "M1679.8 688.353 L1651.99 723.317 L1700.16 789.057 L1727.97 754.092  Z\n",
       "  \" fill=\"#21a784\" fill-rule=\"evenodd\" fill-opacity=\"0.7\"/>\n",
       "<path clip-path=\"url(#clip842)\" d=\"\n",
       "M1727.97 754.092 L1700.16 789.057 L1748.33 860.03 L1776.15 825.065  Z\n",
       "  \" fill=\"#1e998a\" fill-rule=\"evenodd\" fill-opacity=\"0.7\"/>\n",
       "<path clip-path=\"url(#clip842)\" d=\"\n",
       "M1776.15 825.065 L1748.33 860.03 L1796.51 936.237 L1824.32 901.272  Z\n",
       "  \" fill=\"#22898d\" fill-rule=\"evenodd\" fill-opacity=\"0.7\"/>\n",
       "<path clip-path=\"url(#clip842)\" d=\"\n",
       "M399.503 851.219 L371.69 891.417 L419.863 821.074 L447.675 780.875  Z\n",
       "  \" fill=\"#25838d\" fill-rule=\"evenodd\" fill-opacity=\"0.7\"/>\n",
       "<path clip-path=\"url(#clip842)\" d=\"\n",
       "M447.675 780.875 L419.863 821.074 L468.036 755.964 L495.848 715.765  Z\n",
       "  \" fill=\"#1f938b\" fill-rule=\"evenodd\" fill-opacity=\"0.7\"/>\n",
       "<path clip-path=\"url(#clip842)\" d=\"\n",
       "M495.848 715.765 L468.036 755.964 L516.208 696.088 L544.021 655.889  Z\n",
       "  \" fill=\"#1fa187\" fill-rule=\"evenodd\" fill-opacity=\"0.7\"/>\n",
       "<path clip-path=\"url(#clip842)\" d=\"\n",
       "M544.021 655.889 L516.208 696.088 L564.381 641.446 L592.193 601.247  Z\n",
       "  \" fill=\"#28ae7f\" fill-rule=\"evenodd\" fill-opacity=\"0.7\"/>\n",
       "<path clip-path=\"url(#clip842)\" d=\"\n",
       "M592.193 601.247 L564.381 641.446 L612.553 592.038 L640.366 551.839  Z\n",
       "  \" fill=\"#38b976\" fill-rule=\"evenodd\" fill-opacity=\"0.7\"/>\n",
       "<path clip-path=\"url(#clip842)\" d=\"\n",
       "M640.366 551.839 L612.553 592.038 L660.726 547.864 L688.538 507.665  Z\n",
       "  \" fill=\"#4dc26b\" fill-rule=\"evenodd\" fill-opacity=\"0.7\"/>\n",
       "<path clip-path=\"url(#clip842)\" d=\"\n",
       "M688.538 507.665 L660.726 547.864 L708.898 508.924 L736.711 468.725  Z\n",
       "  \" fill=\"#62ca5f\" fill-rule=\"evenodd\" fill-opacity=\"0.7\"/>\n",
       "<path clip-path=\"url(#clip842)\" d=\"\n",
       "M736.711 468.725 L708.898 508.924 L757.071 475.218 L784.883 435.019  Z\n",
       "  \" fill=\"#77d052\" fill-rule=\"evenodd\" fill-opacity=\"0.7\"/>\n",
       "<path clip-path=\"url(#clip842)\" d=\"\n",
       "M784.883 435.019 L757.071 475.218 L805.243 446.746 L833.056 406.547  Z\n",
       "  \" fill=\"#8bd546\" fill-rule=\"evenodd\" fill-opacity=\"0.7\"/>\n",
       "<path clip-path=\"url(#clip842)\" d=\"\n",
       "M833.056 406.547 L805.243 446.746 L853.416 423.508 L881.228 383.309  Z\n",
       "  \" fill=\"#9dd93a\" fill-rule=\"evenodd\" fill-opacity=\"0.7\"/>\n",
       "<path clip-path=\"url(#clip842)\" d=\"\n",
       "M881.228 383.309 L853.416 423.508 L901.589 405.504 L929.401 365.305  Z\n",
       "  \" fill=\"#aadb32\" fill-rule=\"evenodd\" fill-opacity=\"0.7\"/>\n",
       "<path clip-path=\"url(#clip842)\" d=\"\n",
       "M929.401 365.305 L901.589 405.504 L949.761 392.734 L977.574 352.535  Z\n",
       "  \" fill=\"#b7dd29\" fill-rule=\"evenodd\" fill-opacity=\"0.7\"/>\n",
       "<path clip-path=\"url(#clip842)\" d=\"\n",
       "M977.574 352.535 L949.761 392.734 L997.934 385.197 L1025.75 344.999  Z\n",
       "  \" fill=\"#bfdf24\" fill-rule=\"evenodd\" fill-opacity=\"0.7\"/>\n",
       "<path clip-path=\"url(#clip842)\" d=\"\n",
       "M1025.75 344.999 L997.934 385.197 L1046.11 382.895 L1073.92 342.696  Z\n",
       "  \" fill=\"#c5df21\" fill-rule=\"evenodd\" fill-opacity=\"0.7\"/>\n",
       "<path clip-path=\"url(#clip842)\" d=\"\n",
       "M1073.92 342.696 L1046.11 382.895 L1094.28 385.827 L1122.09 345.628  Z\n",
       "  \" fill=\"#c5df21\" fill-rule=\"evenodd\" fill-opacity=\"0.7\"/>\n",
       "<path clip-path=\"url(#clip842)\" d=\"\n",
       "M1122.09 345.628 L1094.28 385.827 L1142.45 393.992 L1170.26 353.794  Z\n",
       "  \" fill=\"#c5df21\" fill-rule=\"evenodd\" fill-opacity=\"0.7\"/>\n",
       "<path clip-path=\"url(#clip842)\" d=\"\n",
       "M1170.26 353.794 L1142.45 393.992 L1190.62 407.392 L1218.44 367.193  Z\n",
       "  \" fill=\"#bfdf24\" fill-rule=\"evenodd\" fill-opacity=\"0.7\"/>\n",
       "<path clip-path=\"url(#clip842)\" d=\"\n",
       "M1218.44 367.193 L1190.62 407.392 L1238.8 426.025 L1266.61 385.827  Z\n",
       "  \" fill=\"#b7dd29\" fill-rule=\"evenodd\" fill-opacity=\"0.7\"/>\n",
       "<path clip-path=\"url(#clip842)\" d=\"\n",
       "M1266.61 385.827 L1238.8 426.025 L1286.97 449.893 L1314.78 409.694  Z\n",
       "  \" fill=\"#aadb32\" fill-rule=\"evenodd\" fill-opacity=\"0.7\"/>\n",
       "<path clip-path=\"url(#clip842)\" d=\"\n",
       "M1314.78 409.694 L1286.97 449.893 L1335.14 478.994 L1362.95 438.796  Z\n",
       "  \" fill=\"#9dd93a\" fill-rule=\"evenodd\" fill-opacity=\"0.7\"/>\n",
       "<path clip-path=\"url(#clip842)\" d=\"\n",
       "M1362.95 438.796 L1335.14 478.994 L1383.31 513.33 L1411.13 473.131  Z\n",
       "  \" fill=\"#8bd546\" fill-rule=\"evenodd\" fill-opacity=\"0.7\"/>\n",
       "<path clip-path=\"url(#clip842)\" d=\"\n",
       "M1411.13 473.131 L1383.31 513.33 L1431.49 552.899 L1459.3 512.7  Z\n",
       "  \" fill=\"#77d052\" fill-rule=\"evenodd\" fill-opacity=\"0.7\"/>\n",
       "<path clip-path=\"url(#clip842)\" d=\"\n",
       "M1459.3 512.7 L1431.49 552.899 L1479.66 597.702 L1507.47 557.504  Z\n",
       "  \" fill=\"#62ca5f\" fill-rule=\"evenodd\" fill-opacity=\"0.7\"/>\n",
       "<path clip-path=\"url(#clip842)\" d=\"\n",
       "M1507.47 557.504 L1479.66 597.702 L1527.83 647.74 L1555.64 607.541  Z\n",
       "  \" fill=\"#4dc26b\" fill-rule=\"evenodd\" fill-opacity=\"0.7\"/>\n",
       "<path clip-path=\"url(#clip842)\" d=\"\n",
       "M1555.64 607.541 L1527.83 647.74 L1576 703.011 L1603.82 662.812  Z\n",
       "  \" fill=\"#38b976\" fill-rule=\"evenodd\" fill-opacity=\"0.7\"/>\n",
       "<path clip-path=\"url(#clip842)\" d=\"\n",
       "M1603.82 662.812 L1576 703.011 L1624.18 763.516 L1651.99 723.317  Z\n",
       "  \" fill=\"#28ae7f\" fill-rule=\"evenodd\" fill-opacity=\"0.7\"/>\n",
       "<path clip-path=\"url(#clip842)\" d=\"\n",
       "M1651.99 723.317 L1624.18 763.516 L1672.35 829.255 L1700.16 789.057  Z\n",
       "  \" fill=\"#1fa187\" fill-rule=\"evenodd\" fill-opacity=\"0.7\"/>\n",
       "<path clip-path=\"url(#clip842)\" d=\"\n",
       "M1700.16 789.057 L1672.35 829.255 L1720.52 900.228 L1748.33 860.03  Z\n",
       "  \" fill=\"#1f938b\" fill-rule=\"evenodd\" fill-opacity=\"0.7\"/>\n",
       "<path clip-path=\"url(#clip842)\" d=\"\n",
       "M1748.33 860.03 L1720.52 900.228 L1768.69 976.436 L1796.51 936.237  Z\n",
       "  \" fill=\"#25838d\" fill-rule=\"evenodd\" fill-opacity=\"0.7\"/>\n",
       "<path clip-path=\"url(#clip842)\" d=\"\n",
       "M371.69 891.417 L343.878 936.85 L392.051 866.506 L419.863 821.074  Z\n",
       "  \" fill=\"#287b8e\" fill-rule=\"evenodd\" fill-opacity=\"0.7\"/>\n",
       "<path clip-path=\"url(#clip842)\" d=\"\n",
       "M419.863 821.074 L392.051 866.506 L440.223 801.397 L468.036 755.964  Z\n",
       "  \" fill=\"#228b8d\" fill-rule=\"evenodd\" fill-opacity=\"0.7\"/>\n",
       "<path clip-path=\"url(#clip842)\" d=\"\n",
       "M468.036 755.964 L440.223 801.397 L488.396 741.521 L516.208 696.088  Z\n",
       "  \" fill=\"#1e998a\" fill-rule=\"evenodd\" fill-opacity=\"0.7\"/>\n",
       "<path clip-path=\"url(#clip842)\" d=\"\n",
       "M516.208 696.088 L488.396 741.521 L536.568 686.879 L564.381 641.446  Z\n",
       "  \" fill=\"#21a784\" fill-rule=\"evenodd\" fill-opacity=\"0.7\"/>\n",
       "<path clip-path=\"url(#clip842)\" d=\"\n",
       "M564.381 641.446 L536.568 686.879 L584.741 637.471 L612.553 592.038  Z\n",
       "  \" fill=\"#2eb27c\" fill-rule=\"evenodd\" fill-opacity=\"0.7\"/>\n",
       "<path clip-path=\"url(#clip842)\" d=\"\n",
       "M612.553 592.038 L584.741 637.471 L632.913 593.297 L660.726 547.864  Z\n",
       "  \" fill=\"#3ebc73\" fill-rule=\"evenodd\" fill-opacity=\"0.7\"/>\n",
       "<path clip-path=\"url(#clip842)\" d=\"\n",
       "M660.726 547.864 L632.913 593.297 L681.086 554.357 L708.898 508.924  Z\n",
       "  \" fill=\"#51c468\" fill-rule=\"evenodd\" fill-opacity=\"0.7\"/>\n",
       "<path clip-path=\"url(#clip842)\" d=\"\n",
       "M708.898 508.924 L681.086 554.357 L729.258 520.651 L757.071 475.218  Z\n",
       "  \" fill=\"#67cc5c\" fill-rule=\"evenodd\" fill-opacity=\"0.7\"/>\n",
       "<path clip-path=\"url(#clip842)\" d=\"\n",
       "M757.071 475.218 L729.258 520.651 L777.431 492.179 L805.243 446.746  Z\n",
       "  \" fill=\"#77d052\" fill-rule=\"evenodd\" fill-opacity=\"0.7\"/>\n",
       "<path clip-path=\"url(#clip842)\" d=\"\n",
       "M805.243 446.746 L777.431 492.179 L825.604 468.941 L853.416 423.508  Z\n",
       "  \" fill=\"#88d547\" fill-rule=\"evenodd\" fill-opacity=\"0.7\"/>\n",
       "<path clip-path=\"url(#clip842)\" d=\"\n",
       "M853.416 423.508 L825.604 468.941 L873.776 450.936 L901.589 405.504  Z\n",
       "  \" fill=\"#97d83e\" fill-rule=\"evenodd\" fill-opacity=\"0.7\"/>\n",
       "<path clip-path=\"url(#clip842)\" d=\"\n",
       "M901.589 405.504 L873.776 450.936 L921.949 438.166 L949.761 392.734  Z\n",
       "  \" fill=\"#a2da37\" fill-rule=\"evenodd\" fill-opacity=\"0.7\"/>\n",
       "<path clip-path=\"url(#clip842)\" d=\"\n",
       "M949.761 392.734 L921.949 438.166 L970.121 430.63 L997.934 385.197  Z\n",
       "  \" fill=\"#aadb32\" fill-rule=\"evenodd\" fill-opacity=\"0.7\"/>\n",
       "<path clip-path=\"url(#clip842)\" d=\"\n",
       "M997.934 385.197 L970.121 430.63 L1018.29 428.328 L1046.11 382.895  Z\n",
       "  \" fill=\"#afdc2e\" fill-rule=\"evenodd\" fill-opacity=\"0.7\"/>\n",
       "<path clip-path=\"url(#clip842)\" d=\"\n",
       "M1046.11 382.895 L1018.29 428.328 L1066.47 431.259 L1094.28 385.827  Z\n",
       "  \" fill=\"#afdc2e\" fill-rule=\"evenodd\" fill-opacity=\"0.7\"/>\n",
       "<path clip-path=\"url(#clip842)\" d=\"\n",
       "M1094.28 385.827 L1066.47 431.259 L1114.64 439.425 L1142.45 393.992  Z\n",
       "  \" fill=\"#afdc2e\" fill-rule=\"evenodd\" fill-opacity=\"0.7\"/>\n",
       "<path clip-path=\"url(#clip842)\" d=\"\n",
       "M1142.45 393.992 L1114.64 439.425 L1162.81 452.825 L1190.62 407.392  Z\n",
       "  \" fill=\"#aadb32\" fill-rule=\"evenodd\" fill-opacity=\"0.7\"/>\n",
       "<path clip-path=\"url(#clip842)\" d=\"\n",
       "M1190.62 407.392 L1162.81 452.825 L1210.98 471.458 L1238.8 426.025  Z\n",
       "  \" fill=\"#a2da37\" fill-rule=\"evenodd\" fill-opacity=\"0.7\"/>\n",
       "<path clip-path=\"url(#clip842)\" d=\"\n",
       "M1238.8 426.025 L1210.98 471.458 L1259.16 495.326 L1286.97 449.893  Z\n",
       "  \" fill=\"#97d83e\" fill-rule=\"evenodd\" fill-opacity=\"0.7\"/>\n",
       "<path clip-path=\"url(#clip842)\" d=\"\n",
       "M1286.97 449.893 L1259.16 495.326 L1307.33 524.427 L1335.14 478.994  Z\n",
       "  \" fill=\"#88d547\" fill-rule=\"evenodd\" fill-opacity=\"0.7\"/>\n",
       "<path clip-path=\"url(#clip842)\" d=\"\n",
       "M1335.14 478.994 L1307.33 524.427 L1355.5 558.762 L1383.31 513.33  Z\n",
       "  \" fill=\"#77d052\" fill-rule=\"evenodd\" fill-opacity=\"0.7\"/>\n",
       "<path clip-path=\"url(#clip842)\" d=\"\n",
       "M1383.31 513.33 L1355.5 558.762 L1403.67 598.332 L1431.49 552.899  Z\n",
       "  \" fill=\"#67cc5c\" fill-rule=\"evenodd\" fill-opacity=\"0.7\"/>\n",
       "<path clip-path=\"url(#clip842)\" d=\"\n",
       "M1431.49 552.899 L1403.67 598.332 L1451.85 643.135 L1479.66 597.702  Z\n",
       "  \" fill=\"#51c468\" fill-rule=\"evenodd\" fill-opacity=\"0.7\"/>\n",
       "<path clip-path=\"url(#clip842)\" d=\"\n",
       "M1479.66 597.702 L1451.85 643.135 L1500.02 693.172 L1527.83 647.74  Z\n",
       "  \" fill=\"#3ebc73\" fill-rule=\"evenodd\" fill-opacity=\"0.7\"/>\n",
       "<path clip-path=\"url(#clip842)\" d=\"\n",
       "M1527.83 647.74 L1500.02 693.172 L1548.19 748.444 L1576 703.011  Z\n",
       "  \" fill=\"#2eb27c\" fill-rule=\"evenodd\" fill-opacity=\"0.7\"/>\n",
       "<path clip-path=\"url(#clip842)\" d=\"\n",
       "M1576 703.011 L1548.19 748.444 L1596.36 808.949 L1624.18 763.516  Z\n",
       "  \" fill=\"#21a784\" fill-rule=\"evenodd\" fill-opacity=\"0.7\"/>\n",
       "<path clip-path=\"url(#clip842)\" d=\"\n",
       "M1624.18 763.516 L1596.36 808.949 L1644.54 874.688 L1672.35 829.255  Z\n",
       "  \" fill=\"#1e998a\" fill-rule=\"evenodd\" fill-opacity=\"0.7\"/>\n",
       "<path clip-path=\"url(#clip842)\" d=\"\n",
       "M1672.35 829.255 L1644.54 874.688 L1692.71 945.661 L1720.52 900.228  Z\n",
       "  \" fill=\"#228b8d\" fill-rule=\"evenodd\" fill-opacity=\"0.7\"/>\n",
       "<path clip-path=\"url(#clip842)\" d=\"\n",
       "M1720.52 900.228 L1692.71 945.661 L1740.88 1021.87 L1768.69 976.436  Z\n",
       "  \" fill=\"#287b8e\" fill-rule=\"evenodd\" fill-opacity=\"0.7\"/>\n",
       "<path clip-path=\"url(#clip842)\" d=\"\n",
       "M343.878 936.85 L316.066 987.517 L364.238 917.173 L392.051 866.506  Z\n",
       "  \" fill=\"#2b738e\" fill-rule=\"evenodd\" fill-opacity=\"0.7\"/>\n",
       "<path clip-path=\"url(#clip842)\" d=\"\n",
       "M392.051 866.506 L364.238 917.173 L412.411 852.063 L440.223 801.397  Z\n",
       "  \" fill=\"#25838d\" fill-rule=\"evenodd\" fill-opacity=\"0.7\"/>\n",
       "<path clip-path=\"url(#clip842)\" d=\"\n",
       "M440.223 801.397 L412.411 852.063 L460.583 792.187 L488.396 741.521  Z\n",
       "  \" fill=\"#20918c\" fill-rule=\"evenodd\" fill-opacity=\"0.7\"/>\n",
       "<path clip-path=\"url(#clip842)\" d=\"\n",
       "M488.396 741.521 L460.583 792.187 L508.756 737.545 L536.568 686.879  Z\n",
       "  \" fill=\"#1e9e88\" fill-rule=\"evenodd\" fill-opacity=\"0.7\"/>\n",
       "<path clip-path=\"url(#clip842)\" d=\"\n",
       "M536.568 686.879 L508.756 737.545 L556.928 688.138 L584.741 637.471  Z\n",
       "  \" fill=\"#23a982\" fill-rule=\"evenodd\" fill-opacity=\"0.7\"/>\n",
       "<path clip-path=\"url(#clip842)\" d=\"\n",
       "M584.741 637.471 L556.928 688.138 L605.101 643.964 L632.913 593.297  Z\n",
       "  \" fill=\"#30b47a\" fill-rule=\"evenodd\" fill-opacity=\"0.7\"/>\n",
       "<path clip-path=\"url(#clip842)\" d=\"\n",
       "M632.913 593.297 L605.101 643.964 L653.273 605.024 L681.086 554.357  Z\n",
       "  \" fill=\"#40bd72\" fill-rule=\"evenodd\" fill-opacity=\"0.7\"/>\n",
       "<path clip-path=\"url(#clip842)\" d=\"\n",
       "M681.086 554.357 L653.273 605.024 L701.446 571.317 L729.258 520.651  Z\n",
       "  \" fill=\"#51c468\" fill-rule=\"evenodd\" fill-opacity=\"0.7\"/>\n",
       "<path clip-path=\"url(#clip842)\" d=\"\n",
       "M729.258 520.651 L701.446 571.317 L749.619 542.845 L777.431 492.179  Z\n",
       "  \" fill=\"#62ca5f\" fill-rule=\"evenodd\" fill-opacity=\"0.7\"/>\n",
       "<path clip-path=\"url(#clip842)\" d=\"\n",
       "M777.431 492.179 L749.619 542.845 L797.791 519.607 L825.604 468.941  Z\n",
       "  \" fill=\"#72cf55\" fill-rule=\"evenodd\" fill-opacity=\"0.7\"/>\n",
       "<path clip-path=\"url(#clip842)\" d=\"\n",
       "M825.604 468.941 L797.791 519.607 L845.964 501.603 L873.776 450.936  Z\n",
       "  \" fill=\"#7ed24e\" fill-rule=\"evenodd\" fill-opacity=\"0.7\"/>\n",
       "<path clip-path=\"url(#clip842)\" d=\"\n",
       "M873.776 450.936 L845.964 501.603 L894.136 488.833 L921.949 438.166  Z\n",
       "  \" fill=\"#8bd546\" fill-rule=\"evenodd\" fill-opacity=\"0.7\"/>\n",
       "<path clip-path=\"url(#clip842)\" d=\"\n",
       "M921.949 438.166 L894.136 488.833 L942.309 481.297 L970.121 430.63  Z\n",
       "  \" fill=\"#92d741\" fill-rule=\"evenodd\" fill-opacity=\"0.7\"/>\n",
       "<path clip-path=\"url(#clip842)\" d=\"\n",
       "M970.121 430.63 L942.309 481.297 L990.481 478.994 L1018.29 428.328  Z\n",
       "  \" fill=\"#97d83e\" fill-rule=\"evenodd\" fill-opacity=\"0.7\"/>\n",
       "<path clip-path=\"url(#clip842)\" d=\"\n",
       "M1018.29 428.328 L990.481 478.994 L1038.65 481.926 L1066.47 431.259  Z\n",
       "  \" fill=\"#97d83e\" fill-rule=\"evenodd\" fill-opacity=\"0.7\"/>\n",
       "<path clip-path=\"url(#clip842)\" d=\"\n",
       "M1066.47 431.259 L1038.65 481.926 L1086.83 490.092 L1114.64 439.425  Z\n",
       "  \" fill=\"#97d83e\" fill-rule=\"evenodd\" fill-opacity=\"0.7\"/>\n",
       "<path clip-path=\"url(#clip842)\" d=\"\n",
       "M1114.64 439.425 L1086.83 490.092 L1135 503.491 L1162.81 452.825  Z\n",
       "  \" fill=\"#92d741\" fill-rule=\"evenodd\" fill-opacity=\"0.7\"/>\n",
       "<path clip-path=\"url(#clip842)\" d=\"\n",
       "M1162.81 452.825 L1135 503.491 L1183.17 522.125 L1210.98 471.458  Z\n",
       "  \" fill=\"#8bd546\" fill-rule=\"evenodd\" fill-opacity=\"0.7\"/>\n",
       "<path clip-path=\"url(#clip842)\" d=\"\n",
       "M1210.98 471.458 L1183.17 522.125 L1231.34 545.992 L1259.16 495.326  Z\n",
       "  \" fill=\"#7ed24e\" fill-rule=\"evenodd\" fill-opacity=\"0.7\"/>\n",
       "<path clip-path=\"url(#clip842)\" d=\"\n",
       "M1259.16 495.326 L1231.34 545.992 L1279.52 575.094 L1307.33 524.427  Z\n",
       "  \" fill=\"#72cf55\" fill-rule=\"evenodd\" fill-opacity=\"0.7\"/>\n",
       "<path clip-path=\"url(#clip842)\" d=\"\n",
       "M1307.33 524.427 L1279.52 575.094 L1327.69 609.429 L1355.5 558.762  Z\n",
       "  \" fill=\"#62ca5f\" fill-rule=\"evenodd\" fill-opacity=\"0.7\"/>\n",
       "<path clip-path=\"url(#clip842)\" d=\"\n",
       "M1355.5 558.762 L1327.69 609.429 L1375.86 648.998 L1403.67 598.332  Z\n",
       "  \" fill=\"#51c468\" fill-rule=\"evenodd\" fill-opacity=\"0.7\"/>\n",
       "<path clip-path=\"url(#clip842)\" d=\"\n",
       "M1403.67 598.332 L1375.86 648.998 L1424.03 693.802 L1451.85 643.135  Z\n",
       "  \" fill=\"#40bd72\" fill-rule=\"evenodd\" fill-opacity=\"0.7\"/>\n",
       "<path clip-path=\"url(#clip842)\" d=\"\n",
       "M1451.85 643.135 L1424.03 693.802 L1472.21 743.839 L1500.02 693.172  Z\n",
       "  \" fill=\"#30b47a\" fill-rule=\"evenodd\" fill-opacity=\"0.7\"/>\n",
       "<path clip-path=\"url(#clip842)\" d=\"\n",
       "M1500.02 693.172 L1472.21 743.839 L1520.38 799.11 L1548.19 748.444  Z\n",
       "  \" fill=\"#23a982\" fill-rule=\"evenodd\" fill-opacity=\"0.7\"/>\n",
       "<path clip-path=\"url(#clip842)\" d=\"\n",
       "M1548.19 748.444 L1520.38 799.11 L1568.55 859.615 L1596.36 808.949  Z\n",
       "  \" fill=\"#1e9e88\" fill-rule=\"evenodd\" fill-opacity=\"0.7\"/>\n",
       "<path clip-path=\"url(#clip842)\" d=\"\n",
       "M1596.36 808.949 L1568.55 859.615 L1616.72 925.355 L1644.54 874.688  Z\n",
       "  \" fill=\"#20918c\" fill-rule=\"evenodd\" fill-opacity=\"0.7\"/>\n",
       "<path clip-path=\"url(#clip842)\" d=\"\n",
       "M1644.54 874.688 L1616.72 925.355 L1664.9 996.328 L1692.71 945.661  Z\n",
       "  \" fill=\"#25838d\" fill-rule=\"evenodd\" fill-opacity=\"0.7\"/>\n",
       "<path clip-path=\"url(#clip842)\" d=\"\n",
       "M1692.71 945.661 L1664.9 996.328 L1713.07 1072.53 L1740.88 1021.87  Z\n",
       "  \" fill=\"#2b738e\" fill-rule=\"evenodd\" fill-opacity=\"0.7\"/>\n",
       "<path clip-path=\"url(#clip842)\" d=\"\n",
       "M316.066 987.517 L288.253 1043.42 L336.426 973.074 L364.238 917.173  Z\n",
       "  \" fill=\"#2f698d\" fill-rule=\"evenodd\" fill-opacity=\"0.7\"/>\n",
       "<path clip-path=\"url(#clip842)\" d=\"\n",
       "M364.238 917.173 L336.426 973.074 L384.598 907.964 L412.411 852.063  Z\n",
       "  \" fill=\"#29798e\" fill-rule=\"evenodd\" fill-opacity=\"0.7\"/>\n",
       "<path clip-path=\"url(#clip842)\" d=\"\n",
       "M412.411 852.063 L384.598 907.964 L432.771 848.088 L460.583 792.187  Z\n",
       "  \" fill=\"#23878d\" fill-rule=\"evenodd\" fill-opacity=\"0.7\"/>\n",
       "<path clip-path=\"url(#clip842)\" d=\"\n",
       "M460.583 792.187 L432.771 848.088 L480.943 793.446 L508.756 737.545  Z\n",
       "  \" fill=\"#1f948b\" fill-rule=\"evenodd\" fill-opacity=\"0.7\"/>\n",
       "<path clip-path=\"url(#clip842)\" d=\"\n",
       "M508.756 737.545 L480.943 793.446 L529.116 744.038 L556.928 688.138  Z\n",
       "  \" fill=\"#1ea087\" fill-rule=\"evenodd\" fill-opacity=\"0.7\"/>\n",
       "<path clip-path=\"url(#clip842)\" d=\"\n",
       "M556.928 688.138 L529.116 744.038 L577.288 699.864 L605.101 643.964  Z\n",
       "  \" fill=\"#25ab81\" fill-rule=\"evenodd\" fill-opacity=\"0.7\"/>\n",
       "<path clip-path=\"url(#clip842)\" d=\"\n",
       "M605.101 643.964 L577.288 699.864 L625.461 660.924 L653.273 605.024  Z\n",
       "  \" fill=\"#30b47a\" fill-rule=\"evenodd\" fill-opacity=\"0.7\"/>\n",
       "<path clip-path=\"url(#clip842)\" d=\"\n",
       "M653.273 605.024 L625.461 660.924 L673.634 627.218 L701.446 571.317  Z\n",
       "  \" fill=\"#3ebc73\" fill-rule=\"evenodd\" fill-opacity=\"0.7\"/>\n",
       "<path clip-path=\"url(#clip842)\" d=\"\n",
       "M701.446 571.317 L673.634 627.218 L721.806 598.746 L749.619 542.845  Z\n",
       "  \" fill=\"#4dc26b\" fill-rule=\"evenodd\" fill-opacity=\"0.7\"/>\n",
       "<path clip-path=\"url(#clip842)\" d=\"\n",
       "M749.619 542.845 L721.806 598.746 L769.979 575.508 L797.791 519.607  Z\n",
       "  \" fill=\"#5bc862\" fill-rule=\"evenodd\" fill-opacity=\"0.7\"/>\n",
       "<path clip-path=\"url(#clip842)\" d=\"\n",
       "M797.791 519.607 L769.979 575.508 L818.151 557.504 L845.964 501.603  Z\n",
       "  \" fill=\"#67cc5c\" fill-rule=\"evenodd\" fill-opacity=\"0.7\"/>\n",
       "<path clip-path=\"url(#clip842)\" d=\"\n",
       "M845.964 501.603 L818.151 557.504 L866.324 544.733 L894.136 488.833  Z\n",
       "  \" fill=\"#70ce56\" fill-rule=\"evenodd\" fill-opacity=\"0.7\"/>\n",
       "<path clip-path=\"url(#clip842)\" d=\"\n",
       "M894.136 488.833 L866.324 544.733 L914.496 537.197 L942.309 481.297  Z\n",
       "  \" fill=\"#77d052\" fill-rule=\"evenodd\" fill-opacity=\"0.7\"/>\n",
       "<path clip-path=\"url(#clip842)\" d=\"\n",
       "M942.309 481.297 L914.496 537.197 L962.669 534.895 L990.481 478.994  Z\n",
       "  \" fill=\"#7cd24f\" fill-rule=\"evenodd\" fill-opacity=\"0.7\"/>\n",
       "<path clip-path=\"url(#clip842)\" d=\"\n",
       "M990.481 478.994 L962.669 534.895 L1010.84 537.827 L1038.65 481.926  Z\n",
       "  \" fill=\"#7ed24e\" fill-rule=\"evenodd\" fill-opacity=\"0.7\"/>\n",
       "<path clip-path=\"url(#clip842)\" d=\"\n",
       "M1038.65 481.926 L1010.84 537.827 L1059.01 545.992 L1086.83 490.092  Z\n",
       "  \" fill=\"#7cd24f\" fill-rule=\"evenodd\" fill-opacity=\"0.7\"/>\n",
       "<path clip-path=\"url(#clip842)\" d=\"\n",
       "M1086.83 490.092 L1059.01 545.992 L1107.19 559.392 L1135 503.491  Z\n",
       "  \" fill=\"#77d052\" fill-rule=\"evenodd\" fill-opacity=\"0.7\"/>\n",
       "<path clip-path=\"url(#clip842)\" d=\"\n",
       "M1135 503.491 L1107.19 559.392 L1155.36 578.025 L1183.17 522.125  Z\n",
       "  \" fill=\"#70ce56\" fill-rule=\"evenodd\" fill-opacity=\"0.7\"/>\n",
       "<path clip-path=\"url(#clip842)\" d=\"\n",
       "M1183.17 522.125 L1155.36 578.025 L1203.53 601.893 L1231.34 545.992  Z\n",
       "  \" fill=\"#67cc5c\" fill-rule=\"evenodd\" fill-opacity=\"0.7\"/>\n",
       "<path clip-path=\"url(#clip842)\" d=\"\n",
       "M1231.34 545.992 L1203.53 601.893 L1251.7 630.994 L1279.52 575.094  Z\n",
       "  \" fill=\"#5bc862\" fill-rule=\"evenodd\" fill-opacity=\"0.7\"/>\n",
       "<path clip-path=\"url(#clip842)\" d=\"\n",
       "M1279.52 575.094 L1251.7 630.994 L1299.88 665.33 L1327.69 609.429  Z\n",
       "  \" fill=\"#4dc26b\" fill-rule=\"evenodd\" fill-opacity=\"0.7\"/>\n",
       "<path clip-path=\"url(#clip842)\" d=\"\n",
       "M1327.69 609.429 L1299.88 665.33 L1348.05 704.899 L1375.86 648.998  Z\n",
       "  \" fill=\"#3ebc73\" fill-rule=\"evenodd\" fill-opacity=\"0.7\"/>\n",
       "<path clip-path=\"url(#clip842)\" d=\"\n",
       "M1375.86 648.998 L1348.05 704.899 L1396.22 749.702 L1424.03 693.802  Z\n",
       "  \" fill=\"#30b47a\" fill-rule=\"evenodd\" fill-opacity=\"0.7\"/>\n",
       "<path clip-path=\"url(#clip842)\" d=\"\n",
       "M1424.03 693.802 L1396.22 749.702 L1444.39 799.74 L1472.21 743.839  Z\n",
       "  \" fill=\"#25ab81\" fill-rule=\"evenodd\" fill-opacity=\"0.7\"/>\n",
       "<path clip-path=\"url(#clip842)\" d=\"\n",
       "M1472.21 743.839 L1444.39 799.74 L1492.57 855.011 L1520.38 799.11  Z\n",
       "  \" fill=\"#1ea087\" fill-rule=\"evenodd\" fill-opacity=\"0.7\"/>\n",
       "<path clip-path=\"url(#clip842)\" d=\"\n",
       "M1520.38 799.11 L1492.57 855.011 L1540.74 915.516 L1568.55 859.615  Z\n",
       "  \" fill=\"#1f948b\" fill-rule=\"evenodd\" fill-opacity=\"0.7\"/>\n",
       "<path clip-path=\"url(#clip842)\" d=\"\n",
       "M1568.55 859.615 L1540.74 915.516 L1588.91 981.255 L1616.72 925.355  Z\n",
       "  \" fill=\"#23878d\" fill-rule=\"evenodd\" fill-opacity=\"0.7\"/>\n",
       "<path clip-path=\"url(#clip842)\" d=\"\n",
       "M1616.72 925.355 L1588.91 981.255 L1637.08 1052.23 L1664.9 996.328  Z\n",
       "  \" fill=\"#29798e\" fill-rule=\"evenodd\" fill-opacity=\"0.7\"/>\n",
       "<path clip-path=\"url(#clip842)\" d=\"\n",
       "M1664.9 996.328 L1637.08 1052.23 L1685.26 1128.44 L1713.07 1072.53  Z\n",
       "  \" fill=\"#2f698d\" fill-rule=\"evenodd\" fill-opacity=\"0.7\"/>\n",
       "<path clip-path=\"url(#clip842)\" d=\"\n",
       "M288.253 1043.42 L260.441 1104.55 L308.613 1034.21 L336.426 973.074  Z\n",
       "  \" fill=\"#355d8c\" fill-rule=\"evenodd\" fill-opacity=\"0.7\"/>\n",
       "<path clip-path=\"url(#clip842)\" d=\"\n",
       "M336.426 973.074 L308.613 1034.21 L356.786 969.098 L384.598 907.964  Z\n",
       "  \" fill=\"#2d6e8e\" fill-rule=\"evenodd\" fill-opacity=\"0.7\"/>\n",
       "<path clip-path=\"url(#clip842)\" d=\"\n",
       "M384.598 907.964 L356.786 969.098 L404.958 909.223 L432.771 848.088  Z\n",
       "  \" fill=\"#277c8e\" fill-rule=\"evenodd\" fill-opacity=\"0.7\"/>\n",
       "<path clip-path=\"url(#clip842)\" d=\"\n",
       "M432.771 848.088 L404.958 909.223 L453.131 854.581 L480.943 793.446  Z\n",
       "  \" fill=\"#22898d\" fill-rule=\"evenodd\" fill-opacity=\"0.7\"/>\n",
       "<path clip-path=\"url(#clip842)\" d=\"\n",
       "M480.943 793.446 L453.131 854.581 L501.303 805.173 L529.116 744.038  Z\n",
       "  \" fill=\"#1f968b\" fill-rule=\"evenodd\" fill-opacity=\"0.7\"/>\n",
       "<path clip-path=\"url(#clip842)\" d=\"\n",
       "M529.116 744.038 L501.303 805.173 L549.476 760.999 L577.288 699.864  Z\n",
       "  \" fill=\"#1ea087\" fill-rule=\"evenodd\" fill-opacity=\"0.7\"/>\n",
       "<path clip-path=\"url(#clip842)\" d=\"\n",
       "M577.288 699.864 L549.476 760.999 L597.649 722.059 L625.461 660.924  Z\n",
       "  \" fill=\"#23a982\" fill-rule=\"evenodd\" fill-opacity=\"0.7\"/>\n",
       "<path clip-path=\"url(#clip842)\" d=\"\n",
       "M625.461 660.924 L597.649 722.059 L645.821 688.353 L673.634 627.218  Z\n",
       "  \" fill=\"#2eb27c\" fill-rule=\"evenodd\" fill-opacity=\"0.7\"/>\n",
       "<path clip-path=\"url(#clip842)\" d=\"\n",
       "M673.634 627.218 L645.821 688.353 L693.994 659.881 L721.806 598.746  Z\n",
       "  \" fill=\"#38b976\" fill-rule=\"evenodd\" fill-opacity=\"0.7\"/>\n",
       "<path clip-path=\"url(#clip842)\" d=\"\n",
       "M721.806 598.746 L693.994 659.881 L742.166 636.642 L769.979 575.508  Z\n",
       "  \" fill=\"#44be70\" fill-rule=\"evenodd\" fill-opacity=\"0.7\"/>\n",
       "<path clip-path=\"url(#clip842)\" d=\"\n",
       "M769.979 575.508 L742.166 636.642 L790.339 618.638 L818.151 557.504  Z\n",
       "  \" fill=\"#4fc369\" fill-rule=\"evenodd\" fill-opacity=\"0.7\"/>\n",
       "<path clip-path=\"url(#clip842)\" d=\"\n",
       "M818.151 557.504 L790.339 618.638 L838.511 605.868 L866.324 544.733  Z\n",
       "  \" fill=\"#57c665\" fill-rule=\"evenodd\" fill-opacity=\"0.7\"/>\n",
       "<path clip-path=\"url(#clip842)\" d=\"\n",
       "M866.324 544.733 L838.511 605.868 L886.684 598.332 L914.496 537.197  Z\n",
       "  \" fill=\"#5ec961\" fill-rule=\"evenodd\" fill-opacity=\"0.7\"/>\n",
       "<path clip-path=\"url(#clip842)\" d=\"\n",
       "M914.496 537.197 L886.684 598.332 L934.856 596.029 L962.669 534.895  Z\n",
       "  \" fill=\"#62ca5f\" fill-rule=\"evenodd\" fill-opacity=\"0.7\"/>\n",
       "<path clip-path=\"url(#clip842)\" d=\"\n",
       "M962.669 534.895 L934.856 596.029 L983.029 598.961 L1010.84 537.827  Z\n",
       "  \" fill=\"#62ca5f\" fill-rule=\"evenodd\" fill-opacity=\"0.7\"/>\n",
       "<path clip-path=\"url(#clip842)\" d=\"\n",
       "M1010.84 537.827 L983.029 598.961 L1031.2 607.127 L1059.01 545.992  Z\n",
       "  \" fill=\"#62ca5f\" fill-rule=\"evenodd\" fill-opacity=\"0.7\"/>\n",
       "<path clip-path=\"url(#clip842)\" d=\"\n",
       "M1059.01 545.992 L1031.2 607.127 L1079.37 620.526 L1107.19 559.392  Z\n",
       "  \" fill=\"#5ec961\" fill-rule=\"evenodd\" fill-opacity=\"0.7\"/>\n",
       "<path clip-path=\"url(#clip842)\" d=\"\n",
       "M1107.19 559.392 L1079.37 620.526 L1127.55 639.16 L1155.36 578.025  Z\n",
       "  \" fill=\"#57c665\" fill-rule=\"evenodd\" fill-opacity=\"0.7\"/>\n",
       "<path clip-path=\"url(#clip842)\" d=\"\n",
       "M1155.36 578.025 L1127.55 639.16 L1175.72 663.027 L1203.53 601.893  Z\n",
       "  \" fill=\"#4fc369\" fill-rule=\"evenodd\" fill-opacity=\"0.7\"/>\n",
       "<path clip-path=\"url(#clip842)\" d=\"\n",
       "M1203.53 601.893 L1175.72 663.027 L1223.89 692.129 L1251.7 630.994  Z\n",
       "  \" fill=\"#44be70\" fill-rule=\"evenodd\" fill-opacity=\"0.7\"/>\n",
       "<path clip-path=\"url(#clip842)\" d=\"\n",
       "M1251.7 630.994 L1223.89 692.129 L1272.06 726.464 L1299.88 665.33  Z\n",
       "  \" fill=\"#38b976\" fill-rule=\"evenodd\" fill-opacity=\"0.7\"/>\n",
       "<path clip-path=\"url(#clip842)\" d=\"\n",
       "M1299.88 665.33 L1272.06 726.464 L1320.24 766.034 L1348.05 704.899  Z\n",
       "  \" fill=\"#2eb27c\" fill-rule=\"evenodd\" fill-opacity=\"0.7\"/>\n",
       "<path clip-path=\"url(#clip842)\" d=\"\n",
       "M1348.05 704.899 L1320.24 766.034 L1368.41 810.837 L1396.22 749.702  Z\n",
       "  \" fill=\"#23a982\" fill-rule=\"evenodd\" fill-opacity=\"0.7\"/>\n",
       "<path clip-path=\"url(#clip842)\" d=\"\n",
       "M1396.22 749.702 L1368.41 810.837 L1416.58 860.874 L1444.39 799.74  Z\n",
       "  \" fill=\"#1ea087\" fill-rule=\"evenodd\" fill-opacity=\"0.7\"/>\n",
       "<path clip-path=\"url(#clip842)\" d=\"\n",
       "M1444.39 799.74 L1416.58 860.874 L1464.75 916.145 L1492.57 855.011  Z\n",
       "  \" fill=\"#1f968b\" fill-rule=\"evenodd\" fill-opacity=\"0.7\"/>\n",
       "<path clip-path=\"url(#clip842)\" d=\"\n",
       "M1492.57 855.011 L1464.75 916.145 L1512.93 976.651 L1540.74 915.516  Z\n",
       "  \" fill=\"#22898d\" fill-rule=\"evenodd\" fill-opacity=\"0.7\"/>\n",
       "<path clip-path=\"url(#clip842)\" d=\"\n",
       "M1540.74 915.516 L1512.93 976.651 L1561.1 1042.39 L1588.91 981.255  Z\n",
       "  \" fill=\"#277c8e\" fill-rule=\"evenodd\" fill-opacity=\"0.7\"/>\n",
       "<path clip-path=\"url(#clip842)\" d=\"\n",
       "M1588.91 981.255 L1561.1 1042.39 L1609.27 1113.36 L1637.08 1052.23  Z\n",
       "  \" fill=\"#2d6e8e\" fill-rule=\"evenodd\" fill-opacity=\"0.7\"/>\n",
       "<path clip-path=\"url(#clip842)\" d=\"\n",
       "M1637.08 1052.23 L1609.27 1113.36 L1657.44 1189.57 L1685.26 1128.44  Z\n",
       "  \" fill=\"#355d8c\" fill-rule=\"evenodd\" fill-opacity=\"0.7\"/>\n",
       "<path clip-path=\"url(#clip842)\" d=\"\n",
       "M260.441 1104.55 L232.628 1170.92 L280.801 1100.58 L308.613 1034.21  Z\n",
       "  \" fill=\"#3b518a\" fill-rule=\"evenodd\" fill-opacity=\"0.7\"/>\n",
       "<path clip-path=\"url(#clip842)\" d=\"\n",
       "M308.613 1034.21 L280.801 1100.58 L328.973 1035.47 L356.786 969.098  Z\n",
       "  \" fill=\"#33618d\" fill-rule=\"evenodd\" fill-opacity=\"0.7\"/>\n",
       "<path clip-path=\"url(#clip842)\" d=\"\n",
       "M356.786 969.098 L328.973 1035.47 L377.146 975.591 L404.958 909.223  Z\n",
       "  \" fill=\"#2c708e\" fill-rule=\"evenodd\" fill-opacity=\"0.7\"/>\n",
       "<path clip-path=\"url(#clip842)\" d=\"\n",
       "M404.958 909.223 L377.146 975.591 L425.318 920.949 L453.131 854.581  Z\n",
       "  \" fill=\"#277d8e\" fill-rule=\"evenodd\" fill-opacity=\"0.7\"/>\n",
       "<path clip-path=\"url(#clip842)\" d=\"\n",
       "M453.131 854.581 L425.318 920.949 L473.491 871.541 L501.303 805.173  Z\n",
       "  \" fill=\"#22898d\" fill-rule=\"evenodd\" fill-opacity=\"0.7\"/>\n",
       "<path clip-path=\"url(#clip842)\" d=\"\n",
       "M501.303 805.173 L473.491 871.541 L521.664 827.367 L549.476 760.999  Z\n",
       "  \" fill=\"#1f948b\" fill-rule=\"evenodd\" fill-opacity=\"0.7\"/>\n",
       "<path clip-path=\"url(#clip842)\" d=\"\n",
       "M549.476 760.999 L521.664 827.367 L569.836 788.427 L597.649 722.059  Z\n",
       "  \" fill=\"#1e9e88\" fill-rule=\"evenodd\" fill-opacity=\"0.7\"/>\n",
       "<path clip-path=\"url(#clip842)\" d=\"\n",
       "M597.649 722.059 L569.836 788.427 L618.009 754.721 L645.821 688.353  Z\n",
       "  \" fill=\"#21a784\" fill-rule=\"evenodd\" fill-opacity=\"0.7\"/>\n",
       "<path clip-path=\"url(#clip842)\" d=\"\n",
       "M645.821 688.353 L618.009 754.721 L666.181 726.249 L693.994 659.881  Z\n",
       "  \" fill=\"#28ae7f\" fill-rule=\"evenodd\" fill-opacity=\"0.7\"/>\n",
       "<path clip-path=\"url(#clip842)\" d=\"\n",
       "M693.994 659.881 L666.181 726.249 L714.354 703.011 L742.166 636.642  Z\n",
       "  \" fill=\"#2fb37b\" fill-rule=\"evenodd\" fill-opacity=\"0.7\"/>\n",
       "<path clip-path=\"url(#clip842)\" d=\"\n",
       "M742.166 636.642 L714.354 703.011 L762.526 685.007 L790.339 618.638  Z\n",
       "  \" fill=\"#38b976\" fill-rule=\"evenodd\" fill-opacity=\"0.7\"/>\n",
       "<path clip-path=\"url(#clip842)\" d=\"\n",
       "M790.339 618.638 L762.526 685.007 L810.699 672.237 L838.511 605.868  Z\n",
       "  \" fill=\"#3ebc73\" fill-rule=\"evenodd\" fill-opacity=\"0.7\"/>\n",
       "<path clip-path=\"url(#clip842)\" d=\"\n",
       "M838.511 605.868 L810.699 672.237 L858.871 664.7 L886.684 598.332  Z\n",
       "  \" fill=\"#44be70\" fill-rule=\"evenodd\" fill-opacity=\"0.7\"/>\n",
       "<path clip-path=\"url(#clip842)\" d=\"\n",
       "M886.684 598.332 L858.871 664.7 L907.044 662.398 L934.856 596.029  Z\n",
       "  \" fill=\"#47c06e\" fill-rule=\"evenodd\" fill-opacity=\"0.7\"/>\n",
       "<path clip-path=\"url(#clip842)\" d=\"\n",
       "M934.856 596.029 L907.044 662.398 L955.217 665.33 L983.029 598.961  Z\n",
       "  \" fill=\"#49c16d\" fill-rule=\"evenodd\" fill-opacity=\"0.7\"/>\n",
       "<path clip-path=\"url(#clip842)\" d=\"\n",
       "M983.029 598.961 L955.217 665.33 L1003.39 673.495 L1031.2 607.127  Z\n",
       "  \" fill=\"#47c06e\" fill-rule=\"evenodd\" fill-opacity=\"0.7\"/>\n",
       "<path clip-path=\"url(#clip842)\" d=\"\n",
       "M1031.2 607.127 L1003.39 673.495 L1051.56 686.895 L1079.37 620.526  Z\n",
       "  \" fill=\"#44be70\" fill-rule=\"evenodd\" fill-opacity=\"0.7\"/>\n",
       "<path clip-path=\"url(#clip842)\" d=\"\n",
       "M1079.37 620.526 L1051.56 686.895 L1099.73 705.528 L1127.55 639.16  Z\n",
       "  \" fill=\"#3ebc73\" fill-rule=\"evenodd\" fill-opacity=\"0.7\"/>\n",
       "<path clip-path=\"url(#clip842)\" d=\"\n",
       "M1127.55 639.16 L1099.73 705.528 L1147.91 729.396 L1175.72 663.027  Z\n",
       "  \" fill=\"#38b976\" fill-rule=\"evenodd\" fill-opacity=\"0.7\"/>\n",
       "<path clip-path=\"url(#clip842)\" d=\"\n",
       "M1175.72 663.027 L1147.91 729.396 L1196.08 758.497 L1223.89 692.129  Z\n",
       "  \" fill=\"#2fb37b\" fill-rule=\"evenodd\" fill-opacity=\"0.7\"/>\n",
       "<path clip-path=\"url(#clip842)\" d=\"\n",
       "M1223.89 692.129 L1196.08 758.497 L1244.25 792.833 L1272.06 726.464  Z\n",
       "  \" fill=\"#28ae7f\" fill-rule=\"evenodd\" fill-opacity=\"0.7\"/>\n",
       "<path clip-path=\"url(#clip842)\" d=\"\n",
       "M1272.06 726.464 L1244.25 792.833 L1292.42 832.402 L1320.24 766.034  Z\n",
       "  \" fill=\"#21a784\" fill-rule=\"evenodd\" fill-opacity=\"0.7\"/>\n",
       "<path clip-path=\"url(#clip842)\" d=\"\n",
       "M1320.24 766.034 L1292.42 832.402 L1340.6 877.205 L1368.41 810.837  Z\n",
       "  \" fill=\"#1e9e88\" fill-rule=\"evenodd\" fill-opacity=\"0.7\"/>\n",
       "<path clip-path=\"url(#clip842)\" d=\"\n",
       "M1368.41 810.837 L1340.6 877.205 L1388.77 927.243 L1416.58 860.874  Z\n",
       "  \" fill=\"#1f948b\" fill-rule=\"evenodd\" fill-opacity=\"0.7\"/>\n",
       "<path clip-path=\"url(#clip842)\" d=\"\n",
       "M1416.58 860.874 L1388.77 927.243 L1436.94 982.514 L1464.75 916.145  Z\n",
       "  \" fill=\"#22898d\" fill-rule=\"evenodd\" fill-opacity=\"0.7\"/>\n",
       "<path clip-path=\"url(#clip842)\" d=\"\n",
       "M1464.75 916.145 L1436.94 982.514 L1485.11 1043.02 L1512.93 976.651  Z\n",
       "  \" fill=\"#277d8e\" fill-rule=\"evenodd\" fill-opacity=\"0.7\"/>\n",
       "<path clip-path=\"url(#clip842)\" d=\"\n",
       "M1512.93 976.651 L1485.11 1043.02 L1533.29 1108.76 L1561.1 1042.39  Z\n",
       "  \" fill=\"#2c708e\" fill-rule=\"evenodd\" fill-opacity=\"0.7\"/>\n",
       "<path clip-path=\"url(#clip842)\" d=\"\n",
       "M1561.1 1042.39 L1533.29 1108.76 L1581.46 1179.73 L1609.27 1113.36  Z\n",
       "  \" fill=\"#33618d\" fill-rule=\"evenodd\" fill-opacity=\"0.7\"/>\n",
       "<path clip-path=\"url(#clip842)\" d=\"\n",
       "M1609.27 1113.36 L1581.46 1179.73 L1629.63 1255.94 L1657.44 1189.57  Z\n",
       "  \" fill=\"#3b518a\" fill-rule=\"evenodd\" fill-opacity=\"0.7\"/>\n",
       "<path clip-path=\"url(#clip842)\" d=\"\n",
       "M232.628 1170.92 L204.816 1242.52 L252.988 1172.18 L280.801 1100.58  Z\n",
       "  \" fill=\"#414186\" fill-rule=\"evenodd\" fill-opacity=\"0.7\"/>\n",
       "<path clip-path=\"url(#clip842)\" d=\"\n",
       "M280.801 1100.58 L252.988 1172.18 L301.161 1107.07 L328.973 1035.47  Z\n",
       "  \" fill=\"#3a538b\" fill-rule=\"evenodd\" fill-opacity=\"0.7\"/>\n",
       "<path clip-path=\"url(#clip842)\" d=\"\n",
       "M328.973 1035.47 L301.161 1107.07 L349.333 1047.19 L377.146 975.591  Z\n",
       "  \" fill=\"#32628d\" fill-rule=\"evenodd\" fill-opacity=\"0.7\"/>\n",
       "<path clip-path=\"url(#clip842)\" d=\"\n",
       "M377.146 975.591 L349.333 1047.19 L397.506 992.552 L425.318 920.949  Z\n",
       "  \" fill=\"#2c708e\" fill-rule=\"evenodd\" fill-opacity=\"0.7\"/>\n",
       "<path clip-path=\"url(#clip842)\" d=\"\n",
       "M425.318 920.949 L397.506 992.552 L445.679 943.144 L473.491 871.541  Z\n",
       "  \" fill=\"#277c8e\" fill-rule=\"evenodd\" fill-opacity=\"0.7\"/>\n",
       "<path clip-path=\"url(#clip842)\" d=\"\n",
       "M473.491 871.541 L445.679 943.144 L493.851 898.97 L521.664 827.367  Z\n",
       "  \" fill=\"#23878d\" fill-rule=\"evenodd\" fill-opacity=\"0.7\"/>\n",
       "<path clip-path=\"url(#clip842)\" d=\"\n",
       "M521.664 827.367 L493.851 898.97 L542.024 860.03 L569.836 788.427  Z\n",
       "  \" fill=\"#20918c\" fill-rule=\"evenodd\" fill-opacity=\"0.7\"/>\n",
       "<path clip-path=\"url(#clip842)\" d=\"\n",
       "M569.836 788.427 L542.024 860.03 L590.196 826.324 L618.009 754.721  Z\n",
       "  \" fill=\"#1e998a\" fill-rule=\"evenodd\" fill-opacity=\"0.7\"/>\n",
       "<path clip-path=\"url(#clip842)\" d=\"\n",
       "M618.009 754.721 L590.196 826.324 L638.369 797.852 L666.181 726.249  Z\n",
       "  \" fill=\"#1fa187\" fill-rule=\"evenodd\" fill-opacity=\"0.7\"/>\n",
       "<path clip-path=\"url(#clip842)\" d=\"\n",
       "M666.181 726.249 L638.369 797.852 L686.541 774.613 L714.354 703.011  Z\n",
       "  \" fill=\"#21a784\" fill-rule=\"evenodd\" fill-opacity=\"0.7\"/>\n",
       "<path clip-path=\"url(#clip842)\" d=\"\n",
       "M714.354 703.011 L686.541 774.613 L734.714 756.609 L762.526 685.007  Z\n",
       "  \" fill=\"#26ac81\" fill-rule=\"evenodd\" fill-opacity=\"0.7\"/>\n",
       "<path clip-path=\"url(#clip842)\" d=\"\n",
       "M762.526 685.007 L734.714 756.609 L782.886 743.839 L810.699 672.237  Z\n",
       "  \" fill=\"#2ab07e\" fill-rule=\"evenodd\" fill-opacity=\"0.7\"/>\n",
       "<path clip-path=\"url(#clip842)\" d=\"\n",
       "M810.699 672.237 L782.886 743.839 L831.059 736.303 L858.871 664.7  Z\n",
       "  \" fill=\"#2eb27c\" fill-rule=\"evenodd\" fill-opacity=\"0.7\"/>\n",
       "<path clip-path=\"url(#clip842)\" d=\"\n",
       "M858.871 664.7 L831.059 736.303 L879.232 734 L907.044 662.398  Z\n",
       "  \" fill=\"#30b47a\" fill-rule=\"evenodd\" fill-opacity=\"0.7\"/>\n",
       "<path clip-path=\"url(#clip842)\" d=\"\n",
       "M907.044 662.398 L879.232 734 L927.404 736.932 L955.217 665.33  Z\n",
       "  \" fill=\"#32b57a\" fill-rule=\"evenodd\" fill-opacity=\"0.7\"/>\n",
       "<path clip-path=\"url(#clip842)\" d=\"\n",
       "M955.217 665.33 L927.404 736.932 L975.577 745.098 L1003.39 673.495  Z\n",
       "  \" fill=\"#30b47a\" fill-rule=\"evenodd\" fill-opacity=\"0.7\"/>\n",
       "<path clip-path=\"url(#clip842)\" d=\"\n",
       "M1003.39 673.495 L975.577 745.098 L1023.75 758.497 L1051.56 686.895  Z\n",
       "  \" fill=\"#2eb27c\" fill-rule=\"evenodd\" fill-opacity=\"0.7\"/>\n",
       "<path clip-path=\"url(#clip842)\" d=\"\n",
       "M1051.56 686.895 L1023.75 758.497 L1071.92 777.131 L1099.73 705.528  Z\n",
       "  \" fill=\"#2ab07e\" fill-rule=\"evenodd\" fill-opacity=\"0.7\"/>\n",
       "<path clip-path=\"url(#clip842)\" d=\"\n",
       "M1099.73 705.528 L1071.92 777.131 L1120.09 800.998 L1147.91 729.396  Z\n",
       "  \" fill=\"#26ac81\" fill-rule=\"evenodd\" fill-opacity=\"0.7\"/>\n",
       "<path clip-path=\"url(#clip842)\" d=\"\n",
       "M1147.91 729.396 L1120.09 800.998 L1168.27 830.1 L1196.08 758.497  Z\n",
       "  \" fill=\"#21a784\" fill-rule=\"evenodd\" fill-opacity=\"0.7\"/>\n",
       "<path clip-path=\"url(#clip842)\" d=\"\n",
       "M1196.08 758.497 L1168.27 830.1 L1216.44 864.435 L1244.25 792.833  Z\n",
       "  \" fill=\"#1fa187\" fill-rule=\"evenodd\" fill-opacity=\"0.7\"/>\n",
       "<path clip-path=\"url(#clip842)\" d=\"\n",
       "M1244.25 792.833 L1216.44 864.435 L1264.61 904.005 L1292.42 832.402  Z\n",
       "  \" fill=\"#1e998a\" fill-rule=\"evenodd\" fill-opacity=\"0.7\"/>\n",
       "<path clip-path=\"url(#clip842)\" d=\"\n",
       "M1292.42 832.402 L1264.61 904.005 L1312.78 948.808 L1340.6 877.205  Z\n",
       "  \" fill=\"#20918c\" fill-rule=\"evenodd\" fill-opacity=\"0.7\"/>\n",
       "<path clip-path=\"url(#clip842)\" d=\"\n",
       "M1340.6 877.205 L1312.78 948.808 L1360.96 998.845 L1388.77 927.243  Z\n",
       "  \" fill=\"#23878d\" fill-rule=\"evenodd\" fill-opacity=\"0.7\"/>\n",
       "<path clip-path=\"url(#clip842)\" d=\"\n",
       "M1388.77 927.243 L1360.96 998.845 L1409.13 1054.12 L1436.94 982.514  Z\n",
       "  \" fill=\"#277c8e\" fill-rule=\"evenodd\" fill-opacity=\"0.7\"/>\n",
       "<path clip-path=\"url(#clip842)\" d=\"\n",
       "M1436.94 982.514 L1409.13 1054.12 L1457.3 1114.62 L1485.11 1043.02  Z\n",
       "  \" fill=\"#2c708e\" fill-rule=\"evenodd\" fill-opacity=\"0.7\"/>\n",
       "<path clip-path=\"url(#clip842)\" d=\"\n",
       "M1485.11 1043.02 L1457.3 1114.62 L1505.47 1180.36 L1533.29 1108.76  Z\n",
       "  \" fill=\"#32628d\" fill-rule=\"evenodd\" fill-opacity=\"0.7\"/>\n",
       "<path clip-path=\"url(#clip842)\" d=\"\n",
       "M1533.29 1108.76 L1505.47 1180.36 L1553.65 1251.33 L1581.46 1179.73  Z\n",
       "  \" fill=\"#3a538b\" fill-rule=\"evenodd\" fill-opacity=\"0.7\"/>\n",
       "<path clip-path=\"url(#clip842)\" d=\"\n",
       "M1581.46 1179.73 L1553.65 1251.33 L1601.82 1327.54 L1629.63 1255.94  Z\n",
       "  \" fill=\"#414186\" fill-rule=\"evenodd\" fill-opacity=\"0.7\"/>\n",
       "<path clip-path=\"url(#clip842)\" d=\"\n",
       "M204.816 1242.52 L177.003 1319.36 L225.176 1249.02 L252.988 1172.18  Z\n",
       "  \" fill=\"#462d7c\" fill-rule=\"evenodd\" fill-opacity=\"0.7\"/>\n",
       "<path clip-path=\"url(#clip842)\" d=\"\n",
       "M252.988 1172.18 L225.176 1249.02 L273.348 1183.91 L301.161 1107.07  Z\n",
       "  \" fill=\"#414286\" fill-rule=\"evenodd\" fill-opacity=\"0.7\"/>\n",
       "<path clip-path=\"url(#clip842)\" d=\"\n",
       "M301.161 1107.07 L273.348 1183.91 L321.521 1124.03 L349.333 1047.19  Z\n",
       "  \" fill=\"#3a538b\" fill-rule=\"evenodd\" fill-opacity=\"0.7\"/>\n",
       "<path clip-path=\"url(#clip842)\" d=\"\n",
       "M349.333 1047.19 L321.521 1124.03 L369.694 1069.39 L397.506 992.552  Z\n",
       "  \" fill=\"#33618d\" fill-rule=\"evenodd\" fill-opacity=\"0.7\"/>\n",
       "<path clip-path=\"url(#clip842)\" d=\"\n",
       "M397.506 992.552 L369.694 1069.39 L417.866 1019.98 L445.679 943.144  Z\n",
       "  \" fill=\"#2d6e8e\" fill-rule=\"evenodd\" fill-opacity=\"0.7\"/>\n",
       "<path clip-path=\"url(#clip842)\" d=\"\n",
       "M445.679 943.144 L417.866 1019.98 L466.039 975.806 L493.851 898.97  Z\n",
       "  \" fill=\"#29798e\" fill-rule=\"evenodd\" fill-opacity=\"0.7\"/>\n",
       "<path clip-path=\"url(#clip842)\" d=\"\n",
       "M493.851 898.97 L466.039 975.806 L514.211 936.866 L542.024 860.03  Z\n",
       "  \" fill=\"#25838d\" fill-rule=\"evenodd\" fill-opacity=\"0.7\"/>\n",
       "<path clip-path=\"url(#clip842)\" d=\"\n",
       "M542.024 860.03 L514.211 936.866 L562.384 903.16 L590.196 826.324  Z\n",
       "  \" fill=\"#228b8d\" fill-rule=\"evenodd\" fill-opacity=\"0.7\"/>\n",
       "<path clip-path=\"url(#clip842)\" d=\"\n",
       "M590.196 826.324 L562.384 903.16 L610.556 874.688 L638.369 797.852  Z\n",
       "  \" fill=\"#1f938b\" fill-rule=\"evenodd\" fill-opacity=\"0.7\"/>\n",
       "<path clip-path=\"url(#clip842)\" d=\"\n",
       "M638.369 797.852 L610.556 874.688 L658.729 851.45 L686.541 774.613  Z\n",
       "  \" fill=\"#1e998a\" fill-rule=\"evenodd\" fill-opacity=\"0.7\"/>\n",
       "<path clip-path=\"url(#clip842)\" d=\"\n",
       "M686.541 774.613 L658.729 851.45 L706.901 833.446 L734.714 756.609  Z\n",
       "  \" fill=\"#1e9e88\" fill-rule=\"evenodd\" fill-opacity=\"0.7\"/>\n",
       "<path clip-path=\"url(#clip842)\" d=\"\n",
       "M734.714 756.609 L706.901 833.446 L755.074 820.675 L782.886 743.839  Z\n",
       "  \" fill=\"#1fa286\" fill-rule=\"evenodd\" fill-opacity=\"0.7\"/>\n",
       "<path clip-path=\"url(#clip842)\" d=\"\n",
       "M782.886 743.839 L755.074 820.675 L803.247 813.139 L831.059 736.303  Z\n",
       "  \" fill=\"#20a585\" fill-rule=\"evenodd\" fill-opacity=\"0.7\"/>\n",
       "<path clip-path=\"url(#clip842)\" d=\"\n",
       "M831.059 736.303 L803.247 813.139 L851.419 810.837 L879.232 734  Z\n",
       "  \" fill=\"#21a784\" fill-rule=\"evenodd\" fill-opacity=\"0.7\"/>\n",
       "<path clip-path=\"url(#clip842)\" d=\"\n",
       "M879.232 734 L851.419 810.837 L899.592 813.769 L927.404 736.932  Z\n",
       "  \" fill=\"#21a784\" fill-rule=\"evenodd\" fill-opacity=\"0.7\"/>\n",
       "<path clip-path=\"url(#clip842)\" d=\"\n",
       "M927.404 736.932 L899.592 813.769 L947.764 821.934 L975.577 745.098  Z\n",
       "  \" fill=\"#21a784\" fill-rule=\"evenodd\" fill-opacity=\"0.7\"/>\n",
       "<path clip-path=\"url(#clip842)\" d=\"\n",
       "M975.577 745.098 L947.764 821.934 L995.937 835.334 L1023.75 758.497  Z\n",
       "  \" fill=\"#20a585\" fill-rule=\"evenodd\" fill-opacity=\"0.7\"/>\n",
       "<path clip-path=\"url(#clip842)\" d=\"\n",
       "M1023.75 758.497 L995.937 835.334 L1044.11 853.967 L1071.92 777.131  Z\n",
       "  \" fill=\"#1fa286\" fill-rule=\"evenodd\" fill-opacity=\"0.7\"/>\n",
       "<path clip-path=\"url(#clip842)\" d=\"\n",
       "M1071.92 777.131 L1044.11 853.967 L1092.28 877.835 L1120.09 800.998  Z\n",
       "  \" fill=\"#1e9e88\" fill-rule=\"evenodd\" fill-opacity=\"0.7\"/>\n",
       "<path clip-path=\"url(#clip842)\" d=\"\n",
       "M1120.09 800.998 L1092.28 877.835 L1140.45 906.936 L1168.27 830.1  Z\n",
       "  \" fill=\"#1e998a\" fill-rule=\"evenodd\" fill-opacity=\"0.7\"/>\n",
       "<path clip-path=\"url(#clip842)\" d=\"\n",
       "M1168.27 830.1 L1140.45 906.936 L1188.63 941.272 L1216.44 864.435  Z\n",
       "  \" fill=\"#1f938b\" fill-rule=\"evenodd\" fill-opacity=\"0.7\"/>\n",
       "<path clip-path=\"url(#clip842)\" d=\"\n",
       "M1216.44 864.435 L1188.63 941.272 L1236.8 980.841 L1264.61 904.005  Z\n",
       "  \" fill=\"#228b8d\" fill-rule=\"evenodd\" fill-opacity=\"0.7\"/>\n",
       "<path clip-path=\"url(#clip842)\" d=\"\n",
       "M1264.61 904.005 L1236.8 980.841 L1284.97 1025.64 L1312.78 948.808  Z\n",
       "  \" fill=\"#25838d\" fill-rule=\"evenodd\" fill-opacity=\"0.7\"/>\n",
       "<path clip-path=\"url(#clip842)\" d=\"\n",
       "M1312.78 948.808 L1284.97 1025.64 L1333.14 1075.68 L1360.96 998.845  Z\n",
       "  \" fill=\"#29798e\" fill-rule=\"evenodd\" fill-opacity=\"0.7\"/>\n",
       "<path clip-path=\"url(#clip842)\" d=\"\n",
       "M1360.96 998.845 L1333.14 1075.68 L1381.32 1130.95 L1409.13 1054.12  Z\n",
       "  \" fill=\"#2d6e8e\" fill-rule=\"evenodd\" fill-opacity=\"0.7\"/>\n",
       "<path clip-path=\"url(#clip842)\" d=\"\n",
       "M1409.13 1054.12 L1381.32 1130.95 L1429.49 1191.46 L1457.3 1114.62  Z\n",
       "  \" fill=\"#33618d\" fill-rule=\"evenodd\" fill-opacity=\"0.7\"/>\n",
       "<path clip-path=\"url(#clip842)\" d=\"\n",
       "M1457.3 1114.62 L1429.49 1191.46 L1477.66 1257.2 L1505.47 1180.36  Z\n",
       "  \" fill=\"#3a538b\" fill-rule=\"evenodd\" fill-opacity=\"0.7\"/>\n",
       "<path clip-path=\"url(#clip842)\" d=\"\n",
       "M1505.47 1180.36 L1477.66 1257.2 L1525.84 1328.17 L1553.65 1251.33  Z\n",
       "  \" fill=\"#414286\" fill-rule=\"evenodd\" fill-opacity=\"0.7\"/>\n",
       "<path clip-path=\"url(#clip842)\" d=\"\n",
       "M1553.65 1251.33 L1525.84 1328.17 L1574.01 1404.38 L1601.82 1327.54  Z\n",
       "  \" fill=\"#462d7c\" fill-rule=\"evenodd\" fill-opacity=\"0.7\"/>\n",
       "<path clip-path=\"url(#clip842)\" d=\"\n",
       "M177.003 1319.36 L149.191 1401.43 L197.363 1331.09 L225.176 1249.02  Z\n",
       "  \" fill=\"#48196b\" fill-rule=\"evenodd\" fill-opacity=\"0.7\"/>\n",
       "<path clip-path=\"url(#clip842)\" d=\"\n",
       "M225.176 1249.02 L197.363 1331.09 L245.536 1265.98 L273.348 1183.91  Z\n",
       "  \" fill=\"#462d7c\" fill-rule=\"evenodd\" fill-opacity=\"0.7\"/>\n",
       "<path clip-path=\"url(#clip842)\" d=\"\n",
       "M273.348 1183.91 L245.536 1265.98 L293.709 1206.1 L321.521 1124.03  Z\n",
       "  \" fill=\"#414186\" fill-rule=\"evenodd\" fill-opacity=\"0.7\"/>\n",
       "<path clip-path=\"url(#clip842)\" d=\"\n",
       "M321.521 1124.03 L293.709 1206.1 L341.881 1151.46 L369.694 1069.39  Z\n",
       "  \" fill=\"#3b518a\" fill-rule=\"evenodd\" fill-opacity=\"0.7\"/>\n",
       "<path clip-path=\"url(#clip842)\" d=\"\n",
       "M369.694 1069.39 L341.881 1151.46 L390.054 1102.05 L417.866 1019.98  Z\n",
       "  \" fill=\"#355d8c\" fill-rule=\"evenodd\" fill-opacity=\"0.7\"/>\n",
       "<path clip-path=\"url(#clip842)\" d=\"\n",
       "M417.866 1019.98 L390.054 1102.05 L438.226 1057.88 L466.039 975.806  Z\n",
       "  \" fill=\"#2f698d\" fill-rule=\"evenodd\" fill-opacity=\"0.7\"/>\n",
       "<path clip-path=\"url(#clip842)\" d=\"\n",
       "M466.039 975.806 L438.226 1057.88 L486.399 1018.94 L514.211 936.866  Z\n",
       "  \" fill=\"#2b738e\" fill-rule=\"evenodd\" fill-opacity=\"0.7\"/>\n",
       "<path clip-path=\"url(#clip842)\" d=\"\n",
       "M514.211 936.866 L486.399 1018.94 L534.571 985.23 L562.384 903.16  Z\n",
       "  \" fill=\"#287b8e\" fill-rule=\"evenodd\" fill-opacity=\"0.7\"/>\n",
       "<path clip-path=\"url(#clip842)\" d=\"\n",
       "M562.384 903.16 L534.571 985.23 L582.744 956.758 L610.556 874.688  Z\n",
       "  \" fill=\"#25838d\" fill-rule=\"evenodd\" fill-opacity=\"0.7\"/>\n",
       "<path clip-path=\"url(#clip842)\" d=\"\n",
       "M610.556 874.688 L582.744 956.758 L630.916 933.52 L658.729 851.45  Z\n",
       "  \" fill=\"#22898d\" fill-rule=\"evenodd\" fill-opacity=\"0.7\"/>\n",
       "<path clip-path=\"url(#clip842)\" d=\"\n",
       "M658.729 851.45 L630.916 933.52 L679.089 915.516 L706.901 833.446  Z\n",
       "  \" fill=\"#218e8c\" fill-rule=\"evenodd\" fill-opacity=\"0.7\"/>\n",
       "<path clip-path=\"url(#clip842)\" d=\"\n",
       "M706.901 833.446 L679.089 915.516 L727.262 902.746 L755.074 820.675  Z\n",
       "  \" fill=\"#1f938b\" fill-rule=\"evenodd\" fill-opacity=\"0.7\"/>\n",
       "<path clip-path=\"url(#clip842)\" d=\"\n",
       "M755.074 820.675 L727.262 902.746 L775.434 895.21 L803.247 813.139  Z\n",
       "  \" fill=\"#1f968b\" fill-rule=\"evenodd\" fill-opacity=\"0.7\"/>\n",
       "<path clip-path=\"url(#clip842)\" d=\"\n",
       "M803.247 813.139 L775.434 895.21 L823.607 892.907 L851.419 810.837  Z\n",
       "  \" fill=\"#1e978a\" fill-rule=\"evenodd\" fill-opacity=\"0.7\"/>\n",
       "<path clip-path=\"url(#clip842)\" d=\"\n",
       "M851.419 810.837 L823.607 892.907 L871.779 895.839 L899.592 813.769  Z\n",
       "  \" fill=\"#1e988a\" fill-rule=\"evenodd\" fill-opacity=\"0.7\"/>\n",
       "<path clip-path=\"url(#clip842)\" d=\"\n",
       "M899.592 813.769 L871.779 895.839 L919.952 904.005 L947.764 821.934  Z\n",
       "  \" fill=\"#1e978a\" fill-rule=\"evenodd\" fill-opacity=\"0.7\"/>\n",
       "<path clip-path=\"url(#clip842)\" d=\"\n",
       "M947.764 821.934 L919.952 904.005 L968.124 917.404 L995.937 835.334  Z\n",
       "  \" fill=\"#1f968b\" fill-rule=\"evenodd\" fill-opacity=\"0.7\"/>\n",
       "<path clip-path=\"url(#clip842)\" d=\"\n",
       "M995.937 835.334 L968.124 917.404 L1016.3 936.038 L1044.11 853.967  Z\n",
       "  \" fill=\"#1f938b\" fill-rule=\"evenodd\" fill-opacity=\"0.7\"/>\n",
       "<path clip-path=\"url(#clip842)\" d=\"\n",
       "M1044.11 853.967 L1016.3 936.038 L1064.47 959.905 L1092.28 877.835  Z\n",
       "  \" fill=\"#218e8c\" fill-rule=\"evenodd\" fill-opacity=\"0.7\"/>\n",
       "<path clip-path=\"url(#clip842)\" d=\"\n",
       "M1092.28 877.835 L1064.47 959.905 L1112.64 989.007 L1140.45 906.936  Z\n",
       "  \" fill=\"#22898d\" fill-rule=\"evenodd\" fill-opacity=\"0.7\"/>\n",
       "<path clip-path=\"url(#clip842)\" d=\"\n",
       "M1140.45 906.936 L1112.64 989.007 L1160.81 1023.34 L1188.63 941.272  Z\n",
       "  \" fill=\"#25838d\" fill-rule=\"evenodd\" fill-opacity=\"0.7\"/>\n",
       "<path clip-path=\"url(#clip842)\" d=\"\n",
       "M1188.63 941.272 L1160.81 1023.34 L1208.99 1062.91 L1236.8 980.841  Z\n",
       "  \" fill=\"#287b8e\" fill-rule=\"evenodd\" fill-opacity=\"0.7\"/>\n",
       "<path clip-path=\"url(#clip842)\" d=\"\n",
       "M1236.8 980.841 L1208.99 1062.91 L1257.16 1107.71 L1284.97 1025.64  Z\n",
       "  \" fill=\"#2b738e\" fill-rule=\"evenodd\" fill-opacity=\"0.7\"/>\n",
       "<path clip-path=\"url(#clip842)\" d=\"\n",
       "M1284.97 1025.64 L1257.16 1107.71 L1305.33 1157.75 L1333.14 1075.68  Z\n",
       "  \" fill=\"#2f698d\" fill-rule=\"evenodd\" fill-opacity=\"0.7\"/>\n",
       "<path clip-path=\"url(#clip842)\" d=\"\n",
       "M1333.14 1075.68 L1305.33 1157.75 L1353.5 1213.02 L1381.32 1130.95  Z\n",
       "  \" fill=\"#355d8c\" fill-rule=\"evenodd\" fill-opacity=\"0.7\"/>\n",
       "<path clip-path=\"url(#clip842)\" d=\"\n",
       "M1381.32 1130.95 L1353.5 1213.02 L1401.68 1273.53 L1429.49 1191.46  Z\n",
       "  \" fill=\"#3b518a\" fill-rule=\"evenodd\" fill-opacity=\"0.7\"/>\n",
       "<path clip-path=\"url(#clip842)\" d=\"\n",
       "M1429.49 1191.46 L1401.68 1273.53 L1449.85 1339.27 L1477.66 1257.2  Z\n",
       "  \" fill=\"#414186\" fill-rule=\"evenodd\" fill-opacity=\"0.7\"/>\n",
       "<path clip-path=\"url(#clip842)\" d=\"\n",
       "M1477.66 1257.2 L1449.85 1339.27 L1498.02 1410.24 L1525.84 1328.17  Z\n",
       "  \" fill=\"#462d7c\" fill-rule=\"evenodd\" fill-opacity=\"0.7\"/>\n",
       "<path clip-path=\"url(#clip842)\" d=\"\n",
       "M1525.84 1328.17 L1498.02 1410.24 L1546.2 1486.45 L1574.01 1404.38  Z\n",
       "  \" fill=\"#48196b\" fill-rule=\"evenodd\" fill-opacity=\"0.7\"/>\n",
       "</svg>\n"
      ]
     },
     "execution_count": 46,
     "metadata": {},
     "output_type": "execute_result"
    }
   ],
   "source": [
    "mmplotter(:max)"
   ]
  },
  {
   "cell_type": "markdown",
   "metadata": {
    "slideshow": {
     "slide_type": "slide"
    }
   },
   "source": [
    "## Contour plot\n",
    "\n",
    "Below is a contour plot, which shows a top down view of the surface plot above. "
   ]
  },
  {
   "cell_type": "code",
   "execution_count": 47,
   "metadata": {
    "slideshow": {
     "slide_type": "fragment"
    }
   },
   "outputs": [
    {
     "data": {
      "image/svg+xml": [
       "<?xml version=\"1.0\" encoding=\"utf-8\"?>\n",
       "<svg xmlns=\"http://www.w3.org/2000/svg\" xmlns:xlink=\"http://www.w3.org/1999/xlink\" width=\"600\" height=\"400\" viewBox=\"0 0 2400 1600\">\n",
       "<defs>\n",
       "  <clipPath id=\"clip880\">\n",
       "    <rect x=\"0\" y=\"0\" width=\"2400\" height=\"1600\"/>\n",
       "  </clipPath>\n",
       "</defs>\n",
       "<path clip-path=\"url(#clip880)\" d=\"\n",
       "M0 1600 L2400 1600 L2400 0 L0 0  Z\n",
       "  \" fill=\"#ffffff\" fill-rule=\"evenodd\" fill-opacity=\"1\"/>\n",
       "<defs>\n",
       "  <clipPath id=\"clip881\">\n",
       "    <rect x=\"480\" y=\"0\" width=\"1681\" height=\"1600\"/>\n",
       "  </clipPath>\n",
       "</defs>\n",
       "<path clip-path=\"url(#clip880)\" d=\"\n",
       "M147.478 1486.45 L2352.76 1486.45 L2352.76 47.2441 L147.478 47.2441  Z\n",
       "  \" fill=\"#ffffff\" fill-rule=\"evenodd\" fill-opacity=\"1\"/>\n",
       "<defs>\n",
       "  <clipPath id=\"clip882\">\n",
       "    <rect x=\"147\" y=\"47\" width=\"2206\" height=\"1440\"/>\n",
       "  </clipPath>\n",
       "</defs>\n",
       "<polyline clip-path=\"url(#clip882)\" style=\"stroke:#000000; stroke-linecap:butt; stroke-linejoin:round; stroke-width:2; stroke-opacity:0.1; fill:none\" points=\"\n",
       "  147.478,1486.45 147.478,47.2441 \n",
       "  \"/>\n",
       "<polyline clip-path=\"url(#clip882)\" style=\"stroke:#000000; stroke-linecap:butt; stroke-linejoin:round; stroke-width:2; stroke-opacity:0.1; fill:none\" points=\"\n",
       "  698.797,1486.45 698.797,47.2441 \n",
       "  \"/>\n",
       "<polyline clip-path=\"url(#clip882)\" style=\"stroke:#000000; stroke-linecap:butt; stroke-linejoin:round; stroke-width:2; stroke-opacity:0.1; fill:none\" points=\"\n",
       "  1250.12,1486.45 1250.12,47.2441 \n",
       "  \"/>\n",
       "<polyline clip-path=\"url(#clip882)\" style=\"stroke:#000000; stroke-linecap:butt; stroke-linejoin:round; stroke-width:2; stroke-opacity:0.1; fill:none\" points=\"\n",
       "  1801.44,1486.45 1801.44,47.2441 \n",
       "  \"/>\n",
       "<polyline clip-path=\"url(#clip882)\" style=\"stroke:#000000; stroke-linecap:butt; stroke-linejoin:round; stroke-width:2; stroke-opacity:0.1; fill:none\" points=\"\n",
       "  2352.76,1486.45 2352.76,47.2441 \n",
       "  \"/>\n",
       "<polyline clip-path=\"url(#clip880)\" style=\"stroke:#000000; stroke-linecap:butt; stroke-linejoin:round; stroke-width:4; stroke-opacity:1; fill:none\" points=\"\n",
       "  147.478,1486.45 2352.76,1486.45 \n",
       "  \"/>\n",
       "<polyline clip-path=\"url(#clip880)\" style=\"stroke:#000000; stroke-linecap:butt; stroke-linejoin:round; stroke-width:4; stroke-opacity:1; fill:none\" points=\"\n",
       "  147.478,1486.45 147.478,1467.55 \n",
       "  \"/>\n",
       "<polyline clip-path=\"url(#clip880)\" style=\"stroke:#000000; stroke-linecap:butt; stroke-linejoin:round; stroke-width:4; stroke-opacity:1; fill:none\" points=\"\n",
       "  698.797,1486.45 698.797,1467.55 \n",
       "  \"/>\n",
       "<polyline clip-path=\"url(#clip880)\" style=\"stroke:#000000; stroke-linecap:butt; stroke-linejoin:round; stroke-width:4; stroke-opacity:1; fill:none\" points=\"\n",
       "  1250.12,1486.45 1250.12,1467.55 \n",
       "  \"/>\n",
       "<polyline clip-path=\"url(#clip880)\" style=\"stroke:#000000; stroke-linecap:butt; stroke-linejoin:round; stroke-width:4; stroke-opacity:1; fill:none\" points=\"\n",
       "  1801.44,1486.45 1801.44,1467.55 \n",
       "  \"/>\n",
       "<polyline clip-path=\"url(#clip880)\" style=\"stroke:#000000; stroke-linecap:butt; stroke-linejoin:round; stroke-width:4; stroke-opacity:1; fill:none\" points=\"\n",
       "  2352.76,1486.45 2352.76,1467.55 \n",
       "  \"/>\n",
       "<path clip-path=\"url(#clip880)\" d=\"M117.42 1532.02 L147.096 1532.02 L147.096 1535.95 L117.42 1535.95 L117.42 1532.02 Z\" fill=\"#000000\" fill-rule=\"evenodd\" fill-opacity=\"1\" /><path clip-path=\"url(#clip880)\" d=\"M161.216 1544.91 L177.536 1544.91 L177.536 1548.85 L155.591 1548.85 L155.591 1544.91 Q158.253 1542.16 162.837 1537.53 Q167.443 1532.88 168.624 1531.53 Q170.869 1529.01 171.749 1527.27 Q172.651 1525.51 172.651 1523.82 Q172.651 1521.07 170.707 1519.33 Q168.786 1517.6 165.684 1517.6 Q163.485 1517.6 161.031 1518.36 Q158.601 1519.13 155.823 1520.68 L155.823 1515.95 Q158.647 1514.82 161.101 1514.24 Q163.554 1513.66 165.591 1513.66 Q170.962 1513.66 174.156 1516.35 Q177.35 1519.03 177.35 1523.52 Q177.35 1525.65 176.54 1527.57 Q175.753 1529.47 173.647 1532.07 Q173.068 1532.74 169.966 1535.95 Q166.864 1539.15 161.216 1544.91 Z\" fill=\"#000000\" fill-rule=\"evenodd\" fill-opacity=\"1\" /><path clip-path=\"url(#clip880)\" d=\"M668.555 1532.02 L698.23 1532.02 L698.23 1535.95 L668.555 1535.95 L668.555 1532.02 Z\" fill=\"#000000\" fill-rule=\"evenodd\" fill-opacity=\"1\" /><path clip-path=\"url(#clip880)\" d=\"M709.133 1544.91 L716.772 1544.91 L716.772 1518.55 L708.462 1520.21 L708.462 1515.95 L716.726 1514.29 L721.401 1514.29 L721.401 1544.91 L729.04 1544.91 L729.04 1548.85 L709.133 1548.85 L709.133 1544.91 Z\" fill=\"#000000\" fill-rule=\"evenodd\" fill-opacity=\"1\" /><path clip-path=\"url(#clip880)\" d=\"M1250.12 1517.37 Q1246.51 1517.37 1244.68 1520.93 Q1242.87 1524.47 1242.87 1531.6 Q1242.87 1538.71 1244.68 1542.27 Q1246.51 1545.82 1250.12 1545.82 Q1253.75 1545.82 1255.56 1542.27 Q1257.39 1538.71 1257.39 1531.6 Q1257.39 1524.47 1255.56 1520.93 Q1253.75 1517.37 1250.12 1517.37 M1250.12 1513.66 Q1255.93 1513.66 1258.98 1518.27 Q1262.06 1522.85 1262.06 1531.6 Q1262.06 1540.33 1258.98 1544.94 Q1255.93 1549.52 1250.12 1549.52 Q1244.31 1549.52 1241.23 1544.94 Q1238.17 1540.33 1238.17 1531.6 Q1238.17 1522.85 1241.23 1518.27 Q1244.31 1513.66 1250.12 1513.66 Z\" fill=\"#000000\" fill-rule=\"evenodd\" fill-opacity=\"1\" /><path clip-path=\"url(#clip880)\" d=\"M1791.82 1544.91 L1799.46 1544.91 L1799.46 1518.55 L1791.15 1520.21 L1791.15 1515.95 L1799.41 1514.29 L1804.09 1514.29 L1804.09 1544.91 L1811.73 1544.91 L1811.73 1548.85 L1791.82 1548.85 L1791.82 1544.91 Z\" fill=\"#000000\" fill-rule=\"evenodd\" fill-opacity=\"1\" /><path clip-path=\"url(#clip880)\" d=\"M2347.41 1544.91 L2363.73 1544.91 L2363.73 1548.85 L2341.78 1548.85 L2341.78 1544.91 Q2344.45 1542.16 2349.03 1537.53 Q2353.64 1532.88 2354.82 1531.53 Q2357.06 1529.01 2357.94 1527.27 Q2358.84 1525.51 2358.84 1523.82 Q2358.84 1521.07 2356.9 1519.33 Q2354.98 1517.6 2351.88 1517.6 Q2349.68 1517.6 2347.22 1518.36 Q2344.79 1519.13 2342.02 1520.68 L2342.02 1515.95 Q2344.84 1514.82 2347.29 1514.24 Q2349.75 1513.66 2351.78 1513.66 Q2357.15 1513.66 2360.35 1516.35 Q2363.54 1519.03 2363.54 1523.52 Q2363.54 1525.65 2362.73 1527.57 Q2361.95 1529.47 2359.84 1532.07 Q2359.26 1532.74 2356.16 1535.95 Q2353.06 1539.15 2347.41 1544.91 Z\" fill=\"#000000\" fill-rule=\"evenodd\" fill-opacity=\"1\" /><polyline clip-path=\"url(#clip882)\" style=\"stroke:#000000; stroke-linecap:butt; stroke-linejoin:round; stroke-width:2; stroke-opacity:0.1; fill:none\" points=\"\n",
       "  147.478,1486.45 2352.76,1486.45 \n",
       "  \"/>\n",
       "<polyline clip-path=\"url(#clip882)\" style=\"stroke:#000000; stroke-linecap:butt; stroke-linejoin:round; stroke-width:2; stroke-opacity:0.1; fill:none\" points=\"\n",
       "  147.478,1126.65 2352.76,1126.65 \n",
       "  \"/>\n",
       "<polyline clip-path=\"url(#clip882)\" style=\"stroke:#000000; stroke-linecap:butt; stroke-linejoin:round; stroke-width:2; stroke-opacity:0.1; fill:none\" points=\"\n",
       "  147.478,766.846 2352.76,766.846 \n",
       "  \"/>\n",
       "<polyline clip-path=\"url(#clip882)\" style=\"stroke:#000000; stroke-linecap:butt; stroke-linejoin:round; stroke-width:2; stroke-opacity:0.1; fill:none\" points=\"\n",
       "  147.478,407.045 2352.76,407.045 \n",
       "  \"/>\n",
       "<polyline clip-path=\"url(#clip882)\" style=\"stroke:#000000; stroke-linecap:butt; stroke-linejoin:round; stroke-width:2; stroke-opacity:0.1; fill:none\" points=\"\n",
       "  147.478,47.2441 2352.76,47.2441 \n",
       "  \"/>\n",
       "<polyline clip-path=\"url(#clip880)\" style=\"stroke:#000000; stroke-linecap:butt; stroke-linejoin:round; stroke-width:4; stroke-opacity:1; fill:none\" points=\"\n",
       "  147.478,1486.45 147.478,47.2441 \n",
       "  \"/>\n",
       "<polyline clip-path=\"url(#clip880)\" style=\"stroke:#000000; stroke-linecap:butt; stroke-linejoin:round; stroke-width:4; stroke-opacity:1; fill:none\" points=\"\n",
       "  147.478,1486.45 166.376,1486.45 \n",
       "  \"/>\n",
       "<polyline clip-path=\"url(#clip880)\" style=\"stroke:#000000; stroke-linecap:butt; stroke-linejoin:round; stroke-width:4; stroke-opacity:1; fill:none\" points=\"\n",
       "  147.478,1126.65 166.376,1126.65 \n",
       "  \"/>\n",
       "<polyline clip-path=\"url(#clip880)\" style=\"stroke:#000000; stroke-linecap:butt; stroke-linejoin:round; stroke-width:4; stroke-opacity:1; fill:none\" points=\"\n",
       "  147.478,766.846 166.376,766.846 \n",
       "  \"/>\n",
       "<polyline clip-path=\"url(#clip880)\" style=\"stroke:#000000; stroke-linecap:butt; stroke-linejoin:round; stroke-width:4; stroke-opacity:1; fill:none\" points=\"\n",
       "  147.478,407.045 166.376,407.045 \n",
       "  \"/>\n",
       "<polyline clip-path=\"url(#clip880)\" style=\"stroke:#000000; stroke-linecap:butt; stroke-linejoin:round; stroke-width:4; stroke-opacity:1; fill:none\" points=\"\n",
       "  147.478,47.2441 166.376,47.2441 \n",
       "  \"/>\n",
       "<path clip-path=\"url(#clip880)\" d=\"M51.3625 1486.9 L81.0383 1486.9 L81.0383 1490.83 L51.3625 1490.83 L51.3625 1486.9 Z\" fill=\"#000000\" fill-rule=\"evenodd\" fill-opacity=\"1\" /><path clip-path=\"url(#clip880)\" d=\"M95.1586 1499.79 L111.478 1499.79 L111.478 1503.73 L89.5336 1503.73 L89.5336 1499.79 Q92.1956 1497.04 96.7789 1492.41 Q101.385 1487.76 102.566 1486.41 Q104.811 1483.89 105.691 1482.15 Q106.594 1480.39 106.594 1478.7 Q106.594 1475.95 104.649 1474.21 Q102.728 1472.48 99.6261 1472.48 Q97.4271 1472.48 94.9734 1473.24 Q92.5428 1474.01 89.7651 1475.56 L89.7651 1470.83 Q92.5891 1469.7 95.0428 1469.12 Q97.4965 1468.54 99.5335 1468.54 Q104.904 1468.54 108.098 1471.23 Q111.293 1473.91 111.293 1478.4 Q111.293 1480.53 110.483 1482.45 Q109.696 1484.35 107.589 1486.95 Q107.01 1487.62 103.909 1490.83 Q100.807 1494.03 95.1586 1499.79 Z\" fill=\"#000000\" fill-rule=\"evenodd\" fill-opacity=\"1\" /><path clip-path=\"url(#clip880)\" d=\"M50.9921 1127.1 L80.6679 1127.1 L80.6679 1131.03 L50.9921 1131.03 L50.9921 1127.1 Z\" fill=\"#000000\" fill-rule=\"evenodd\" fill-opacity=\"1\" /><path clip-path=\"url(#clip880)\" d=\"M91.5706 1139.99 L99.2095 1139.99 L99.2095 1113.63 L90.8993 1115.29 L90.8993 1111.03 L99.1632 1109.37 L103.839 1109.37 L103.839 1139.99 L111.478 1139.99 L111.478 1143.93 L91.5706 1143.93 L91.5706 1139.99 Z\" fill=\"#000000\" fill-rule=\"evenodd\" fill-opacity=\"1\" /><path clip-path=\"url(#clip880)\" d=\"M99.5335 752.645 Q95.9224 752.645 94.0937 756.209 Q92.2882 759.751 92.2882 766.881 Q92.2882 773.987 94.0937 777.552 Q95.9224 781.094 99.5335 781.094 Q103.168 781.094 104.973 777.552 Q106.802 773.987 106.802 766.881 Q106.802 759.751 104.973 756.209 Q103.168 752.645 99.5335 752.645 M99.5335 748.941 Q105.344 748.941 108.399 753.547 Q111.478 758.131 111.478 766.881 Q111.478 775.608 108.399 780.214 Q105.344 784.797 99.5335 784.797 Q93.7234 784.797 90.6447 780.214 Q87.5892 775.608 87.5892 766.881 Q87.5892 758.131 90.6447 753.547 Q93.7234 748.941 99.5335 748.941 Z\" fill=\"#000000\" fill-rule=\"evenodd\" fill-opacity=\"1\" /><path clip-path=\"url(#clip880)\" d=\"M91.5706 420.39 L99.2095 420.39 L99.2095 394.024 L90.8993 395.691 L90.8993 391.432 L99.1632 389.765 L103.839 389.765 L103.839 420.39 L111.478 420.39 L111.478 424.325 L91.5706 424.325 L91.5706 420.39 Z\" fill=\"#000000\" fill-rule=\"evenodd\" fill-opacity=\"1\" /><path clip-path=\"url(#clip880)\" d=\"M95.1586 60.5889 L111.478 60.5889 L111.478 64.5241 L89.5336 64.5241 L89.5336 60.5889 Q92.1956 57.8343 96.7789 53.2047 Q101.385 48.552 102.566 47.2094 Q104.811 44.6862 105.691 42.9501 Q106.594 41.1909 106.594 39.5011 Q106.594 36.7465 104.649 35.0104 Q102.728 33.2743 99.6261 33.2743 Q97.4271 33.2743 94.9734 34.0381 Q92.5428 34.802 89.7651 36.3529 L89.7651 31.6308 Q92.5891 30.4965 95.0428 29.9178 Q97.4965 29.3391 99.5335 29.3391 Q104.904 29.3391 108.098 32.0243 Q111.293 34.7094 111.293 39.2002 Q111.293 41.3298 110.483 43.2511 Q109.696 45.1492 107.589 47.7418 Q107.01 48.4131 103.909 51.6306 Q100.807 54.8251 95.1586 60.5889 Z\" fill=\"#000000\" fill-rule=\"evenodd\" fill-opacity=\"1\" /><path clip-path=\"url(#clip882)\" d=\"\n",
       "M147.478 1486.45 L147.478 1486.45 L223.522 1486.45 L299.566 1486.45 L375.61 1486.45 L451.654 1486.45 L527.698 1486.45 L603.742 1486.45 L679.786 1486.45 L755.83 1486.45 \n",
       "  L831.875 1486.45 L907.919 1486.45 L983.963 1486.45 L1060.01 1486.45 L1136.05 1486.45 L1212.09 1486.45 L1288.14 1486.45 L1364.18 1486.45 L1440.23 1486.45 L1516.27 1486.45 \n",
       "  L1592.32 1486.45 L1668.36 1486.45 L1744.4 1486.45 L1820.45 1486.45 L1896.49 1486.45 L1972.54 1486.45 L2048.58 1486.45 L2124.62 1486.45 L2200.67 1486.45 L2276.71 1486.45 \n",
       "  L2352.76 1486.45 L2352.76 1486.45 L2352.76 1486.45 L2352.76 1486.45 L2352.76 1436.82 L2352.76 1387.19 L2352.76 1337.56 L2352.76 1287.94 L2352.76 1238.31 L2352.76 1188.68 \n",
       "  L2352.76 1139.05 L2352.76 1089.43 L2352.76 1039.8 L2352.76 990.171 L2352.76 940.543 L2352.76 890.915 L2352.76 841.288 L2352.76 791.66 L2352.76 742.032 L2352.76 692.404 \n",
       "  L2352.76 642.777 L2352.76 593.149 L2352.76 543.521 L2352.76 493.894 L2352.76 444.266 L2352.76 394.638 L2352.76 345.01 L2352.76 295.383 L2352.76 245.755 L2352.76 196.127 \n",
       "  L2352.76 146.5 L2352.76 96.8718 L2352.76 47.2441 L2352.76 47.2441 L2352.76 47.2441 L2352.76 47.2441 L2276.71 47.2441 L2200.67 47.2441 L2124.62 47.2441 L2048.58 47.2441 \n",
       "  L1972.54 47.2441 L1896.49 47.2441 L1820.45 47.2441 L1744.4 47.2441 L1668.36 47.2441 L1592.32 47.2441 L1516.27 47.2441 L1440.23 47.2441 L1364.18 47.2441 L1288.14 47.2441 \n",
       "  L1212.09 47.2441 L1136.05 47.2441 L1060.01 47.2441 L983.963 47.2441 L907.919 47.2441 L831.875 47.2441 L755.83 47.2441 L679.786 47.2441 L603.742 47.2441 L527.698 47.2441 \n",
       "  L451.654 47.2441 L375.61 47.2441 L299.566 47.2441 L223.522 47.2441 L147.478 47.2441 L147.478 47.2441 L147.478 47.2441 L147.478 47.2441 L147.478 96.8718 L147.478 146.5 \n",
       "  L147.478 196.127 L147.478 245.755 L147.478 295.383 L147.478 345.01 L147.478 394.638 L147.478 444.266 L147.478 493.894 L147.478 543.521 L147.478 593.149 L147.478 642.777 \n",
       "  L147.478 692.404 L147.478 742.032 L147.478 791.66 L147.478 841.288 L147.478 890.915 L147.478 940.543 L147.478 990.171 L147.478 1039.8 L147.478 1089.43 L147.478 1139.05 \n",
       "  L147.478 1188.68 L147.478 1238.31 L147.478 1287.94 L147.478 1337.56 L147.478 1387.19 L147.478 1436.82 L147.478 1486.45 L147.478 1486.45 L147.478 1486.45  Z\n",
       "  \" fill=\"#440154\" fill-rule=\"evenodd\" fill-opacity=\"0.5\"/>\n",
       "<path clip-path=\"url(#clip882)\" d=\"\n",
       "M223.522 1486.45 L299.566 1486.45 L375.61 1486.45 L451.654 1486.45 L527.698 1486.45 L603.742 1486.45 L679.786 1486.45 L755.83 1486.45 L831.875 1486.45 L907.919 1486.45 \n",
       "  L983.963 1486.45 L1060.01 1486.45 L1136.05 1486.45 L1212.09 1486.45 L1288.14 1486.45 L1364.18 1486.45 L1440.23 1486.45 L1516.27 1486.45 L1592.32 1486.45 L1668.36 1486.45 \n",
       "  L1744.4 1486.45 L1820.45 1486.45 L1896.49 1486.45 L1972.54 1486.45 L2048.58 1486.45 L2124.62 1486.45 L2200.67 1486.45 L2276.71 1486.45 L2276.71 1486.45 L2281.46 1486.45 \n",
       "  L2352.76 1439.92 L2352.76 1486.45 L2352.76 1436.82 L2352.76 1387.19 L2352.76 1337.56 L2352.76 1287.94 L2352.76 1238.31 L2352.76 1188.68 L2352.76 1139.05 L2352.76 1089.43 \n",
       "  L2352.76 1039.8 L2352.76 990.171 L2352.76 940.543 L2352.76 890.915 L2352.76 841.288 L2352.76 791.66 L2352.76 742.032 L2352.76 692.404 L2352.76 642.777 L2352.76 593.149 \n",
       "  L2352.76 543.521 L2352.76 493.894 L2352.76 444.266 L2352.76 394.638 L2352.76 345.01 L2352.76 295.383 L2352.76 245.755 L2352.76 196.127 L2352.76 146.5 L2352.76 96.8718 \n",
       "  L2352.76 96.8718 L2352.76 93.7701 L2281.46 47.2441 L2276.71 47.2441 L2276.71 47.2441 L2200.67 47.2441 L2124.62 47.2441 L2048.58 47.2441 L1972.54 47.2441 L1896.49 47.2441 \n",
       "  L1820.45 47.2441 L1744.4 47.2441 L1668.36 47.2441 L1592.32 47.2441 L1516.27 47.2441 L1440.23 47.2441 L1364.18 47.2441 L1288.14 47.2441 L1212.09 47.2441 L1136.05 47.2441 \n",
       "  L1060.01 47.2441 L983.963 47.2441 L907.919 47.2441 L831.875 47.2441 L755.83 47.2441 L679.786 47.2441 L603.742 47.2441 L527.698 47.2441 L451.654 47.2441 L375.61 47.2441 \n",
       "  L299.566 47.2441 L223.522 47.2441 L147.478 47.2441 L218.769 47.2441 L147.478 93.7701 L147.478 96.8718 L147.478 96.8718 L147.478 146.5 L147.478 196.127 L147.478 245.755 \n",
       "  L147.478 295.383 L147.478 345.01 L147.478 394.638 L147.478 444.266 L147.478 493.894 L147.478 543.521 L147.478 593.149 L147.478 642.777 L147.478 692.404 L147.478 742.032 \n",
       "  L147.478 791.66 L147.478 841.288 L147.478 890.915 L147.478 940.543 L147.478 990.171 L147.478 1039.8 L147.478 1089.43 L147.478 1139.05 L147.478 1188.68 L147.478 1238.31 \n",
       "  L147.478 1287.94 L147.478 1337.56 L147.478 1387.19 L147.478 1436.82 L147.478 1486.45 L147.478 1439.92 L218.769 1486.45 L147.478 1486.45 L223.522 1486.45  Z\n",
       "  \" fill=\"#48196b\" fill-rule=\"evenodd\" fill-opacity=\"0.5\"/>\n",
       "<path clip-path=\"url(#clip882)\" d=\"\n",
       "M299.566 1486.45 L375.61 1486.45 L451.654 1486.45 L527.698 1486.45 L603.742 1486.45 L679.786 1486.45 L755.83 1486.45 L831.875 1486.45 L907.919 1486.45 L983.963 1486.45 \n",
       "  L1060.01 1486.45 L1136.05 1486.45 L1212.09 1486.45 L1288.14 1486.45 L1364.18 1486.45 L1440.23 1486.45 L1516.27 1486.45 L1592.32 1486.45 L1668.36 1486.45 L1744.4 1486.45 \n",
       "  L1820.45 1486.45 L1896.49 1486.45 L1972.54 1486.45 L2048.58 1486.45 L2124.62 1486.45 L2200.67 1486.45 L2200.67 1486.45 L2205.05 1486.45 L2276.71 1443.02 L2286.22 1436.82 \n",
       "  L2352.76 1390.06 L2352.76 1436.82 L2352.76 1387.19 L2352.76 1337.56 L2352.76 1287.94 L2352.76 1238.31 L2352.76 1188.68 L2352.76 1139.05 L2352.76 1089.43 L2352.76 1039.8 \n",
       "  L2352.76 990.171 L2352.76 940.543 L2352.76 890.915 L2352.76 841.288 L2352.76 791.66 L2352.76 742.032 L2352.76 692.404 L2352.76 642.777 L2352.76 593.149 L2352.76 543.521 \n",
       "  L2352.76 493.894 L2352.76 444.266 L2352.76 394.638 L2352.76 345.01 L2352.76 295.383 L2352.76 245.755 L2352.76 196.127 L2352.76 146.5 L2352.76 146.5 L2352.76 143.636 \n",
       "  L2286.22 96.8718 L2276.71 90.6683 L2205.05 47.2441 L2200.67 47.2441 L2200.67 47.2441 L2124.62 47.2441 L2048.58 47.2441 L1972.54 47.2441 L1896.49 47.2441 L1820.45 47.2441 \n",
       "  L1744.4 47.2441 L1668.36 47.2441 L1592.32 47.2441 L1516.27 47.2441 L1440.23 47.2441 L1364.18 47.2441 L1288.14 47.2441 L1212.09 47.2441 L1136.05 47.2441 L1060.01 47.2441 \n",
       "  L983.963 47.2441 L907.919 47.2441 L831.875 47.2441 L755.83 47.2441 L679.786 47.2441 L603.742 47.2441 L527.698 47.2441 L451.654 47.2441 L375.61 47.2441 L299.566 47.2441 \n",
       "  L223.522 47.2441 L295.179 47.2441 L223.522 90.6683 L214.016 96.8718 L147.478 143.636 L147.478 146.5 L147.478 146.5 L147.478 196.127 L147.478 245.755 L147.478 295.383 \n",
       "  L147.478 345.01 L147.478 394.638 L147.478 444.266 L147.478 493.894 L147.478 543.521 L147.478 593.149 L147.478 642.777 L147.478 692.404 L147.478 742.032 L147.478 791.66 \n",
       "  L147.478 841.288 L147.478 890.915 L147.478 940.543 L147.478 990.171 L147.478 1039.8 L147.478 1089.43 L147.478 1139.05 L147.478 1188.68 L147.478 1238.31 L147.478 1287.94 \n",
       "  L147.478 1337.56 L147.478 1387.19 L147.478 1436.82 L147.478 1390.06 L214.016 1436.82 L223.522 1443.02 L295.179 1486.45 L223.522 1486.45 L299.566 1486.45  Z\n",
       "  \" fill=\"#462f7c\" fill-rule=\"evenodd\" fill-opacity=\"0.5\"/>\n",
       "<path clip-path=\"url(#clip882)\" d=\"\n",
       "M451.654 1486.45 L527.698 1486.45 L603.742 1486.45 L679.786 1486.45 L755.83 1486.45 L831.875 1486.45 L907.919 1486.45 L983.963 1486.45 L1060.01 1486.45 L1136.05 1486.45 \n",
       "  L1212.09 1486.45 L1288.14 1486.45 L1364.18 1486.45 L1440.23 1486.45 L1516.27 1486.45 L1592.32 1486.45 L1668.36 1486.45 L1744.4 1486.45 L1820.45 1486.45 L1896.49 1486.45 \n",
       "  L1972.54 1486.45 L2048.58 1486.45 L2048.58 1486.45 L2122.03 1486.45 L2124.62 1485.12 L2200.67 1442.58 L2210.17 1436.82 L2276.71 1393.4 L2285.54 1387.19 L2350.72 1337.56 \n",
       "  L2352.76 1335.87 L2352.76 1337.56 L2352.76 1287.94 L2352.76 1238.31 L2352.76 1188.68 L2352.76 1139.05 L2352.76 1089.43 L2352.76 1039.8 L2352.76 990.171 L2352.76 940.543 \n",
       "  L2352.76 890.915 L2352.76 841.288 L2352.76 791.66 L2352.76 742.032 L2352.76 692.404 L2352.76 642.777 L2352.76 593.149 L2352.76 543.521 L2352.76 493.894 L2352.76 444.266 \n",
       "  L2352.76 394.638 L2352.76 345.01 L2352.76 295.383 L2352.76 245.755 L2352.76 245.755 L2352.76 197.819 L2350.72 196.127 L2285.54 146.5 L2276.71 140.296 L2210.17 96.8718 \n",
       "  L2200.67 91.1115 L2124.62 48.5734 L2122.03 47.2441 L2048.58 47.2441 L2048.58 47.2441 L1972.54 47.2441 L1896.49 47.2441 L1820.45 47.2441 L1744.4 47.2441 L1668.36 47.2441 \n",
       "  L1592.32 47.2441 L1516.27 47.2441 L1440.23 47.2441 L1364.18 47.2441 L1288.14 47.2441 L1212.09 47.2441 L1136.05 47.2441 L1060.01 47.2441 L983.963 47.2441 L907.919 47.2441 \n",
       "  L831.875 47.2441 L755.83 47.2441 L679.786 47.2441 L603.742 47.2441 L527.698 47.2441 L451.654 47.2441 L375.61 47.2441 L378.203 47.2441 L375.61 48.5734 L299.566 91.1115 \n",
       "  L290.061 96.8718 L223.522 140.296 L214.695 146.5 L149.515 196.127 L147.478 197.819 L147.478 245.755 L147.478 245.755 L147.478 295.383 L147.478 345.01 L147.478 394.638 \n",
       "  L147.478 444.266 L147.478 493.894 L147.478 543.521 L147.478 593.149 L147.478 642.777 L147.478 692.404 L147.478 742.032 L147.478 791.66 L147.478 841.288 L147.478 890.915 \n",
       "  L147.478 940.543 L147.478 990.171 L147.478 1039.8 L147.478 1089.43 L147.478 1139.05 L147.478 1188.68 L147.478 1238.31 L147.478 1287.94 L147.478 1337.56 L147.478 1335.87 \n",
       "  L149.515 1337.56 L214.695 1387.19 L223.522 1393.4 L290.061 1436.82 L299.566 1442.58 L375.61 1485.12 L378.203 1486.45 L375.61 1486.45 L451.654 1486.45  Z\n",
       "  \" fill=\"#404387\" fill-rule=\"evenodd\" fill-opacity=\"0.5\"/>\n",
       "<path clip-path=\"url(#clip882)\" d=\"\n",
       "M527.698 1486.45 L603.742 1486.45 L679.786 1486.45 L755.83 1486.45 L831.875 1486.45 L907.919 1486.45 L983.963 1486.45 L1060.01 1486.45 L1136.05 1486.45 L1212.09 1486.45 \n",
       "  L1288.14 1486.45 L1364.18 1486.45 L1440.23 1486.45 L1516.27 1486.45 L1592.32 1486.45 L1668.36 1486.45 L1744.4 1486.45 L1820.45 1486.45 L1896.49 1486.45 L1972.54 1486.45 \n",
       "  L1972.54 1486.45 L2029.57 1486.45 L2048.58 1477.59 L2124.62 1438.59 L2127.79 1436.82 L2200.67 1392.92 L2209.44 1387.19 L2276.71 1339.63 L2279.43 1337.56 L2339.18 1287.94 \n",
       "  L2352.76 1275.53 L2352.76 1287.94 L2352.76 1238.31 L2352.76 1188.68 L2352.76 1139.05 L2352.76 1089.43 L2352.76 1039.8 L2352.76 990.171 L2352.76 940.543 L2352.76 890.915 \n",
       "  L2352.76 841.288 L2352.76 791.66 L2352.76 742.032 L2352.76 692.404 L2352.76 642.777 L2352.76 593.149 L2352.76 543.521 L2352.76 493.894 L2352.76 444.266 L2352.76 394.638 \n",
       "  L2352.76 345.01 L2352.76 295.383 L2352.76 295.383 L2352.76 258.162 L2339.18 245.755 L2279.43 196.127 L2276.71 194.059 L2209.44 146.5 L2200.67 140.773 L2127.79 96.8718 \n",
       "  L2124.62 95.0994 L2048.58 56.1062 L2029.57 47.2441 L1972.54 47.2441 L1972.54 47.2441 L1896.49 47.2441 L1820.45 47.2441 L1744.4 47.2441 L1668.36 47.2441 L1592.32 47.2441 \n",
       "  L1516.27 47.2441 L1440.23 47.2441 L1364.18 47.2441 L1288.14 47.2441 L1212.09 47.2441 L1136.05 47.2441 L1060.01 47.2441 L983.963 47.2441 L907.919 47.2441 L831.875 47.2441 \n",
       "  L755.83 47.2441 L679.786 47.2441 L603.742 47.2441 L527.698 47.2441 L451.654 47.2441 L470.665 47.2441 L451.654 56.1062 L375.61 95.0994 L372.442 96.8718 L299.566 140.773 \n",
       "  L290.792 146.5 L223.522 194.059 L220.806 196.127 L161.057 245.755 L147.478 258.162 L147.478 295.383 L147.478 295.383 L147.478 345.01 L147.478 394.638 L147.478 444.266 \n",
       "  L147.478 493.894 L147.478 543.521 L147.478 593.149 L147.478 642.777 L147.478 692.404 L147.478 742.032 L147.478 791.66 L147.478 841.288 L147.478 890.915 L147.478 940.543 \n",
       "  L147.478 990.171 L147.478 1039.8 L147.478 1089.43 L147.478 1139.05 L147.478 1188.68 L147.478 1238.31 L147.478 1287.94 L147.478 1275.53 L161.057 1287.94 L220.806 1337.56 \n",
       "  L223.522 1339.63 L290.792 1387.19 L299.566 1392.92 L372.442 1436.82 L375.61 1438.59 L451.654 1477.59 L470.665 1486.45 L451.654 1486.45 L527.698 1486.45  Z\n",
       "  \" fill=\"#38568b\" fill-rule=\"evenodd\" fill-opacity=\"0.5\"/>\n",
       "<path clip-path=\"url(#clip882)\" d=\"\n",
       "M603.742 1486.45 L679.786 1486.45 L755.83 1486.45 L831.875 1486.45 L907.919 1486.45 L983.963 1486.45 L1060.01 1486.45 L1136.05 1486.45 L1212.09 1486.45 L1288.14 1486.45 \n",
       "  L1364.18 1486.45 L1440.23 1486.45 L1516.27 1486.45 L1592.32 1486.45 L1668.36 1486.45 L1744.4 1486.45 L1820.45 1486.45 L1896.49 1486.45 L1896.49 1486.45 L1925.01 1486.45 \n",
       "  L1972.54 1466.51 L2036.22 1436.82 L2048.58 1430.62 L2124.62 1388.62 L2127 1387.19 L2200.67 1339.12 L2202.86 1337.56 L2267.21 1287.94 L2276.71 1279.87 L2322.2 1238.31 \n",
       "  L2352.76 1207.29 L2352.76 1238.31 L2352.76 1188.68 L2352.76 1139.05 L2352.76 1089.43 L2352.76 1039.8 L2352.76 990.171 L2352.76 940.543 L2352.76 890.915 L2352.76 841.288 \n",
       "  L2352.76 791.66 L2352.76 742.032 L2352.76 692.404 L2352.76 642.777 L2352.76 593.149 L2352.76 543.521 L2352.76 493.894 L2352.76 444.266 L2352.76 394.638 L2352.76 345.01 \n",
       "  L2352.76 345.01 L2352.76 326.4 L2322.2 295.383 L2276.71 253.819 L2267.21 245.755 L2202.86 196.127 L2200.67 194.576 L2127 146.5 L2124.62 145.068 L2048.58 103.075 \n",
       "  L2036.22 96.8718 L1972.54 67.1838 L1925.01 47.2441 L1896.49 47.2441 L1896.49 47.2441 L1820.45 47.2441 L1744.4 47.2441 L1668.36 47.2441 L1592.32 47.2441 L1516.27 47.2441 \n",
       "  L1440.23 47.2441 L1364.18 47.2441 L1288.14 47.2441 L1212.09 47.2441 L1136.05 47.2441 L1060.01 47.2441 L983.963 47.2441 L907.919 47.2441 L831.875 47.2441 L755.83 47.2441 \n",
       "  L679.786 47.2441 L603.742 47.2441 L527.698 47.2441 L575.226 47.2441 L527.698 67.1838 L464.011 96.8718 L451.654 103.075 L375.61 145.068 L373.234 146.5 L299.566 194.576 \n",
       "  L297.372 196.127 L233.027 245.755 L223.522 253.819 L178.031 295.383 L147.478 326.4 L147.478 345.01 L147.478 345.01 L147.478 394.638 L147.478 444.266 L147.478 493.894 \n",
       "  L147.478 543.521 L147.478 593.149 L147.478 642.777 L147.478 692.404 L147.478 742.032 L147.478 791.66 L147.478 841.288 L147.478 890.915 L147.478 940.543 L147.478 990.171 \n",
       "  L147.478 1039.8 L147.478 1089.43 L147.478 1139.05 L147.478 1188.68 L147.478 1238.31 L147.478 1207.29 L178.031 1238.31 L223.522 1279.87 L233.027 1287.94 L297.372 1337.56 \n",
       "  L299.566 1339.12 L373.234 1387.19 L375.61 1388.62 L451.654 1430.62 L464.011 1436.82 L527.698 1466.51 L575.226 1486.45 L527.698 1486.45 L603.742 1486.45  Z\n",
       "  \" fill=\"#30678d\" fill-rule=\"evenodd\" fill-opacity=\"0.5\"/>\n",
       "<path clip-path=\"url(#clip882)\" d=\"\n",
       "M755.83 1486.45 L831.875 1486.45 L907.919 1486.45 L983.963 1486.45 L1060.01 1486.45 L1136.05 1486.45 L1212.09 1486.45 L1288.14 1486.45 L1364.18 1486.45 L1440.23 1486.45 \n",
       "  L1516.27 1486.45 L1592.32 1486.45 L1668.36 1486.45 L1744.4 1486.45 L1744.4 1486.45 L1801.44 1486.45 L1820.45 1480.24 L1896.49 1451.89 L1932.4 1436.82 L1972.54 1418.69 \n",
       "  L2035.27 1387.19 L2048.58 1379.96 L2119.44 1337.56 L2124.62 1334.18 L2189.58 1287.94 L2200.67 1279.25 L2248.93 1238.31 L2276.71 1212.12 L2299.8 1188.68 L2343.25 1139.05 \n",
       "  L2352.76 1126.65 L2352.76 1139.05 L2352.76 1089.43 L2352.76 1039.8 L2352.76 990.171 L2352.76 940.543 L2352.76 890.915 L2352.76 841.288 L2352.76 791.66 L2352.76 742.032 \n",
       "  L2352.76 692.404 L2352.76 642.777 L2352.76 593.149 L2352.76 543.521 L2352.76 493.894 L2352.76 444.266 L2352.76 444.266 L2352.76 407.045 L2343.25 394.638 L2299.8 345.01 \n",
       "  L2276.71 321.575 L2248.93 295.383 L2200.67 254.44 L2189.58 245.755 L2124.62 199.511 L2119.44 196.127 L2048.58 153.737 L2035.27 146.5 L1972.54 115.005 L1932.4 96.8718 \n",
       "  L1896.49 81.8063 L1820.45 53.4476 L1801.44 47.2441 L1744.4 47.2441 L1744.4 47.2441 L1668.36 47.2441 L1592.32 47.2441 L1516.27 47.2441 L1440.23 47.2441 L1364.18 47.2441 \n",
       "  L1288.14 47.2441 L1212.09 47.2441 L1136.05 47.2441 L1060.01 47.2441 L983.963 47.2441 L907.919 47.2441 L831.875 47.2441 L755.83 47.2441 L679.786 47.2441 L698.797 47.2441 \n",
       "  L679.786 53.4476 L603.742 81.8063 L567.833 96.8718 L527.698 115.005 L464.962 146.5 L451.654 153.737 L380.795 196.127 L375.61 199.511 L310.656 245.755 L299.566 254.44 \n",
       "  L251.307 295.383 L223.522 321.575 L200.437 345.01 L156.983 394.638 L147.478 407.045 L147.478 444.266 L147.478 444.266 L147.478 493.894 L147.478 543.521 L147.478 593.149 \n",
       "  L147.478 642.777 L147.478 692.404 L147.478 742.032 L147.478 791.66 L147.478 841.288 L147.478 890.915 L147.478 940.543 L147.478 990.171 L147.478 1039.8 L147.478 1089.43 \n",
       "  L147.478 1139.05 L147.478 1126.65 L156.983 1139.05 L200.437 1188.68 L223.522 1212.12 L251.307 1238.31 L299.566 1279.25 L310.656 1287.94 L375.61 1334.18 L380.795 1337.56 \n",
       "  L451.654 1379.96 L464.962 1387.19 L527.698 1418.69 L567.833 1436.82 L603.742 1451.89 L679.786 1480.24 L698.797 1486.45 L679.786 1486.45 L755.83 1486.45  Z\n",
       "  \" fill=\"#29788e\" fill-rule=\"evenodd\" fill-opacity=\"0.5\"/>\n",
       "<path clip-path=\"url(#clip882)\" d=\"\n",
       "M907.919 1486.45 L983.963 1486.45 L1060.01 1486.45 L1136.05 1486.45 L1212.09 1486.45 L1288.14 1486.45 L1364.18 1486.45 L1440.23 1486.45 L1516.27 1486.45 L1592.32 1486.45 \n",
       "  L1592.32 1486.45 L1639.84 1486.45 L1668.36 1479.8 L1744.4 1458.53 L1810.94 1436.82 L1820.45 1433.48 L1896.49 1402.94 L1931.35 1387.19 L1972.54 1367.03 L2026.72 1337.56 \n",
       "  L2048.58 1324.59 L2104.75 1287.94 L2124.62 1273.67 L2169.77 1238.31 L2200.67 1211.43 L2224.8 1188.68 L2271.59 1139.05 L2276.71 1132.85 L2309.98 1089.43 L2342.57 1039.8 \n",
       "  L2352.76 1021.19 L2352.76 1039.8 L2352.76 990.171 L2352.76 940.543 L2352.76 890.915 L2352.76 841.288 L2352.76 791.66 L2352.76 742.032 L2352.76 692.404 L2352.76 642.777 \n",
       "  L2352.76 593.149 L2352.76 543.521 L2352.76 543.521 L2352.76 512.504 L2342.57 493.894 L2309.98 444.266 L2276.71 400.842 L2271.59 394.638 L2224.8 345.01 L2200.67 322.264 \n",
       "  L2169.77 295.383 L2124.62 260.023 L2104.75 245.755 L2048.58 209.098 L2026.72 196.127 L1972.54 166.661 L1931.35 146.5 L1896.49 130.752 L1820.45 100.212 L1810.94 96.8718 \n",
       "  L1744.4 75.1597 L1668.36 53.8907 L1639.84 47.2441 L1592.32 47.2441 L1592.32 47.2441 L1516.27 47.2441 L1440.23 47.2441 L1364.18 47.2441 L1288.14 47.2441 L1212.09 47.2441 \n",
       "  L1136.05 47.2441 L1060.01 47.2441 L983.963 47.2441 L907.919 47.2441 L831.875 47.2441 L860.391 47.2441 L831.875 53.8907 L755.83 75.1597 L689.292 96.8718 L679.786 100.212 \n",
       "  L603.742 130.752 L568.889 146.5 L527.698 166.661 L473.517 196.127 L451.654 209.098 L395.485 245.755 L375.61 260.023 L330.459 295.383 L299.566 322.264 L275.437 345.01 \n",
       "  L228.64 394.638 L223.522 400.842 L190.253 444.266 L157.662 493.894 L147.478 512.504 L147.478 543.521 L147.478 543.521 L147.478 593.149 L147.478 642.777 L147.478 692.404 \n",
       "  L147.478 742.032 L147.478 791.66 L147.478 841.288 L147.478 890.915 L147.478 940.543 L147.478 990.171 L147.478 1039.8 L147.478 1021.19 L157.662 1039.8 L190.253 1089.43 \n",
       "  L223.522 1132.85 L228.64 1139.05 L275.437 1188.68 L299.566 1211.43 L330.459 1238.31 L375.61 1273.67 L395.485 1287.94 L451.654 1324.59 L473.517 1337.56 L527.698 1367.03 \n",
       "  L568.889 1387.19 L603.742 1402.94 L679.786 1433.48 L689.292 1436.82 L755.83 1458.53 L831.875 1479.8 L860.391 1486.45 L831.875 1486.45 L907.919 1486.45  Z\n",
       "  \" fill=\"#23888d\" fill-rule=\"evenodd\" fill-opacity=\"0.5\"/>\n",
       "<path clip-path=\"url(#clip882)\" d=\"\n",
       "M1212.09 1486.45 L1288.14 1486.45 L1288.14 1486.45 L1288.14 1486.45 L1364.18 1482.9 L1440.23 1475.81 L1516.27 1465.18 L1592.32 1451 L1653.15 1436.82 L1668.36 1433 \n",
       "  L1744.4 1410.1 L1809.58 1387.19 L1820.45 1383.06 L1896.49 1349.97 L1921.84 1337.56 L1972.54 1310.5 L2010.56 1287.94 L2048.58 1263.12 L2083.15 1238.31 L2124.62 1205.22 \n",
       "  L2143.63 1188.68 L2194.33 1139.05 L2200.67 1131.96 L2235.77 1089.43 L2270.86 1039.8 L2276.71 1029.87 L2298.44 990.171 L2320.17 940.543 L2336.46 890.915 L2347.32 841.288 \n",
       "  L2352.76 791.66 L2352.76 841.288 L2352.76 791.66 L2352.76 742.032 L2352.76 742.032 L2352.76 742.032 L2347.32 692.404 L2336.46 642.777 L2320.17 593.149 L2298.44 543.521 \n",
       "  L2276.71 503.819 L2270.86 493.894 L2235.77 444.266 L2200.67 401.728 L2194.33 394.638 L2143.63 345.01 L2124.62 328.468 L2083.15 295.383 L2048.58 270.569 L2010.56 245.755 \n",
       "  L1972.54 223.197 L1921.84 196.127 L1896.49 183.72 L1820.45 150.635 L1809.58 146.5 L1744.4 123.594 L1668.36 100.689 L1653.15 96.8718 L1592.32 82.6925 L1516.27 68.5131 \n",
       "  L1440.23 57.8786 L1364.18 50.7889 L1288.14 47.2441 L1288.14 47.2441 L1288.14 47.2441 L1212.09 47.2441 L1136.05 47.2441 L1212.09 47.2441 L1136.05 50.7889 L1060.01 57.8786 \n",
       "  L983.963 68.5131 L907.919 82.6925 L847.083 96.8718 L831.875 100.689 L755.83 123.594 L690.65 146.5 L679.786 150.635 L603.742 183.72 L578.394 196.127 L527.698 223.197 \n",
       "  L489.676 245.755 L451.654 270.569 L417.089 295.383 L375.61 328.468 L356.599 345.01 L305.903 394.638 L299.566 401.728 L264.469 444.266 L229.372 493.894 L223.522 503.819 \n",
       "  L201.795 543.521 L180.068 593.149 L163.773 642.777 L152.91 692.404 L147.478 742.032 L147.478 742.032 L147.478 742.032 L147.478 791.66 L147.478 841.288 L147.478 791.66 \n",
       "  L152.91 841.288 L163.773 890.915 L180.068 940.543 L201.795 990.171 L223.522 1029.87 L229.372 1039.8 L264.469 1089.43 L299.566 1131.96 L305.903 1139.05 L356.599 1188.68 \n",
       "  L375.61 1205.22 L417.089 1238.31 L451.654 1263.12 L489.676 1287.94 L527.698 1310.5 L578.394 1337.56 L603.742 1349.97 L679.786 1383.06 L690.65 1387.19 L755.83 1410.1 \n",
       "  L831.875 1433 L847.083 1436.82 L907.919 1451 L983.963 1465.18 L1060.01 1475.81 L1136.05 1482.9 L1212.09 1486.45 L1136.05 1486.45 L1212.09 1486.45  Z\n",
       "  \" fill=\"#1e988a\" fill-rule=\"evenodd\" fill-opacity=\"0.5\"/>\n",
       "<path clip-path=\"url(#clip882)\" d=\"\n",
       "M1212.09 1439.92 L1288.14 1439.92 L1354.68 1436.82 L1364.18 1436.34 L1440.23 1428.71 L1516.27 1417.26 L1592.32 1401.99 L1651.25 1387.19 L1668.36 1382.54 L1744.4 1357.73 \n",
       "  L1797.36 1337.56 L1820.45 1327.98 L1896.49 1291.88 L1903.88 1287.94 L1972.54 1247.61 L1986.79 1238.31 L2048.58 1193.51 L2054.63 1188.68 L2109.93 1139.05 L2124.62 1123.99 \n",
       "  L2155.52 1089.43 L2193.54 1039.8 L2200.67 1028.63 L2223.33 990.171 L2246.73 940.543 L2264.28 890.915 L2275.98 841.288 L2276.71 835.084 L2281.46 791.66 L2281.46 742.032 \n",
       "  L2276.71 698.608 L2275.98 692.404 L2264.28 642.777 L2246.73 593.149 L2223.33 543.521 L2200.67 505.06 L2193.54 493.894 L2155.52 444.266 L2124.62 409.704 L2109.93 394.638 \n",
       "  L2054.63 345.01 L2048.58 340.185 L1986.79 295.383 L1972.54 286.077 L1903.88 245.755 L1896.49 241.807 L1820.45 205.714 L1797.36 196.127 L1744.4 175.966 L1668.36 151.152 \n",
       "  L1651.25 146.5 L1592.32 131.707 L1516.27 116.437 L1440.23 104.984 L1364.18 97.349 L1354.68 96.8718 L1288.14 93.7701 L1212.09 93.7701 L1145.56 96.8718 L1136.05 97.349 \n",
       "  L1060.01 104.984 L983.963 116.437 L907.919 131.707 L848.984 146.5 L831.875 151.152 L755.83 175.966 L702.871 196.127 L679.786 205.714 L603.742 241.807 L596.349 245.755 \n",
       "  L527.698 286.077 L513.44 295.383 L451.654 340.185 L445.605 345.01 L390.3 394.638 L375.61 409.704 L344.717 444.266 L306.695 493.894 L299.566 505.06 L276.899 543.521 \n",
       "  L253.501 593.149 L235.952 642.777 L224.253 692.404 L223.522 698.608 L218.769 742.032 L218.769 791.66 L223.522 835.084 L224.253 841.288 L235.952 890.915 L253.501 940.543 \n",
       "  L276.899 990.171 L299.566 1028.63 L306.695 1039.8 L344.717 1089.43 L375.61 1123.99 L390.3 1139.05 L445.605 1188.68 L451.654 1193.51 L513.44 1238.31 L527.698 1247.61 \n",
       "  L596.349 1287.94 L603.742 1291.88 L679.786 1327.98 L702.871 1337.56 L755.83 1357.73 L831.875 1382.54 L848.984 1387.19 L907.919 1401.99 L983.963 1417.26 L1060.01 1428.71 \n",
       "  L1136.05 1436.34 L1145.56 1436.82 L1212.09 1439.92  Z\n",
       "  \" fill=\"#22a784\" fill-rule=\"evenodd\" fill-opacity=\"0.5\"/>\n",
       "<path clip-path=\"url(#clip882)\" d=\"\n",
       "M1212.09 1390.06 L1288.14 1390.06 L1345.17 1387.19 L1364.18 1386.16 L1440.23 1377.89 L1516.27 1365.48 L1592.32 1348.94 L1634.14 1337.56 L1668.36 1327.41 L1744.4 1300.34 \n",
       "  L1774.28 1287.94 L1820.45 1266.85 L1875.1 1238.31 L1896.49 1225.9 L1953.52 1188.68 L1972.54 1174.72 L2016.26 1139.05 L2048.58 1108.92 L2067.59 1089.43 L2109.07 1039.8 \n",
       "  L2124.62 1017.47 L2142.05 990.171 L2167.4 940.543 L2186.41 890.915 L2199.08 841.288 L2200.67 828.881 L2205.05 791.66 L2205.05 742.032 L2200.67 704.811 L2199.08 692.404 \n",
       "  L2186.41 642.777 L2167.4 593.149 L2142.05 543.521 L2124.62 516.226 L2109.07 493.894 L2067.59 444.266 L2048.58 424.769 L2016.26 394.638 L1972.54 358.968 L1953.52 345.01 \n",
       "  L1896.49 307.79 L1875.1 295.383 L1820.45 266.847 L1774.28 245.755 L1744.4 233.348 L1668.36 206.278 L1634.14 196.127 L1592.32 184.754 L1516.27 168.212 L1440.23 155.805 \n",
       "  L1364.18 147.533 L1345.17 146.5 L1288.14 143.636 L1212.09 143.636 L1155.06 146.5 L1136.05 147.533 L1060.01 155.805 L983.963 168.212 L907.919 184.754 L866.094 196.127 \n",
       "  L831.875 206.278 L755.83 233.348 L725.956 245.755 L679.786 266.847 L625.13 295.383 L603.742 307.79 L546.709 345.01 L527.698 358.968 L483.973 394.638 L451.654 424.769 \n",
       "  L432.643 444.266 L391.165 493.894 L375.61 516.226 L358.183 543.521 L332.835 593.149 L313.824 642.777 L301.15 692.404 L299.566 704.811 L295.179 742.032 L295.179 791.66 \n",
       "  L299.566 828.881 L301.15 841.288 L313.824 890.915 L332.835 940.543 L358.183 990.171 L375.61 1017.47 L391.165 1039.8 L432.643 1089.43 L451.654 1108.92 L483.973 1139.05 \n",
       "  L527.698 1174.72 L546.709 1188.68 L603.742 1225.9 L625.13 1238.31 L679.786 1266.85 L725.956 1287.94 L755.83 1300.34 L831.875 1327.41 L866.094 1337.56 L907.919 1348.94 \n",
       "  L983.963 1365.48 L1060.01 1377.89 L1136.05 1386.16 L1155.06 1387.19 L1212.09 1390.06  Z\n",
       "  \" fill=\"#35b778\" fill-rule=\"evenodd\" fill-opacity=\"0.5\"/>\n",
       "<path clip-path=\"url(#clip882)\" d=\"\n",
       "M907.919 1290.76 L983.963 1308.8 L1060.01 1322.34 L1136.05 1331.36 L1212.09 1335.87 L1288.14 1335.87 L1364.18 1331.36 L1440.23 1322.34 L1516.27 1308.8 L1592.32 1290.76 \n",
       "  L1601.82 1287.94 L1668.36 1266.22 L1739.65 1238.31 L1744.4 1236.24 L1820.45 1197.64 L1835.89 1188.68 L1896.49 1149.13 L1910.22 1139.05 L1969.37 1089.43 L1972.54 1086.32 \n",
       "  L2015.31 1039.8 L2048.58 996.374 L2052.9 990.171 L2080.55 940.543 L2101.29 890.915 L2115.12 841.288 L2122.03 791.66 L2122.03 742.032 L2115.12 692.404 L2101.29 642.777 \n",
       "  L2080.55 593.149 L2052.9 543.521 L2048.58 537.318 L2015.31 493.894 L1972.54 447.368 L1969.37 444.266 L1910.22 394.638 L1896.49 384.557 L1835.89 345.01 L1820.45 336.05 \n",
       "  L1744.4 297.45 L1739.65 295.383 L1668.36 267.467 L1601.82 245.755 L1592.32 242.935 L1516.27 224.889 L1440.23 211.354 L1364.18 202.331 L1288.14 197.819 L1212.09 197.819 \n",
       "  L1136.05 202.331 L1060.01 211.354 L983.963 224.889 L907.919 242.935 L898.413 245.755 L831.875 267.467 L760.583 295.383 L755.83 297.45 L679.786 336.05 L664.34 345.01 \n",
       "  L603.742 384.557 L590.012 394.638 L530.867 444.266 L527.698 447.368 L484.923 493.894 L451.654 537.318 L447.334 543.521 L419.681 593.149 L398.942 642.777 L385.116 692.404 \n",
       "  L378.203 742.032 L378.203 791.66 L385.116 841.288 L398.942 890.915 L419.681 940.543 L447.334 990.171 L451.654 996.374 L484.923 1039.8 L527.698 1086.32 L530.867 1089.43 \n",
       "  L590.012 1139.05 L603.742 1149.13 L664.34 1188.68 L679.786 1197.64 L755.83 1236.24 L760.583 1238.31 L831.875 1266.22 L898.413 1287.94 L907.919 1290.76  Z\n",
       "  \" fill=\"#53c567\" fill-rule=\"evenodd\" fill-opacity=\"0.5\"/>\n",
       "<path clip-path=\"url(#clip882)\" d=\"\n",
       "M983.963 1245.75 L1060.01 1260.64 L1136.05 1270.57 L1212.09 1275.53 L1288.14 1275.53 L1364.18 1270.57 L1440.23 1260.64 L1516.27 1245.75 L1544.79 1238.31 L1592.32 1224.52 \n",
       "  L1668.36 1196.95 L1687.37 1188.68 L1744.4 1160.77 L1782.43 1139.05 L1820.45 1114.24 L1853.72 1089.43 L1896.49 1052.21 L1909.17 1039.8 L1951.41 990.171 L1972.54 959.153 \n",
       "  L1983.94 940.543 L2006.76 890.915 L2021.96 841.288 L2029.57 791.66 L2029.57 742.032 L2021.96 692.404 L2006.76 642.777 L1983.94 593.149 L1972.54 574.539 L1951.41 543.521 \n",
       "  L1909.17 493.894 L1896.49 481.487 L1853.72 444.266 L1820.45 419.452 L1782.43 394.638 L1744.4 372.926 L1687.37 345.01 L1668.36 336.739 L1592.32 309.168 L1544.79 295.383 \n",
       "  L1516.27 287.939 L1440.23 273.05 L1364.18 263.125 L1288.14 258.162 L1212.09 258.162 L1136.05 263.125 L1060.01 273.05 L983.963 287.939 L955.446 295.383 L907.919 309.168 \n",
       "  L831.875 336.739 L812.864 345.01 L755.83 372.926 L717.808 394.638 L679.786 419.452 L646.517 444.266 L603.742 481.487 L591.068 493.894 L548.822 543.521 L527.698 574.539 \n",
       "  L516.292 593.149 L493.478 642.777 L478.27 692.404 L470.665 742.032 L470.665 791.66 L478.27 841.288 L493.478 890.915 L516.292 940.543 L527.698 959.153 L548.822 990.171 \n",
       "  L591.068 1039.8 L603.742 1052.21 L646.517 1089.43 L679.786 1114.24 L717.808 1139.05 L755.83 1160.77 L812.864 1188.68 L831.875 1196.95 L907.919 1224.52 L955.446 1238.31 \n",
       "  L983.963 1245.75  Z\n",
       "  \" fill=\"#79d151\" fill-rule=\"evenodd\" fill-opacity=\"0.5\"/>\n",
       "<path clip-path=\"url(#clip882)\" d=\"\n",
       "M1060.01 1190.75 L1136.05 1201.78 L1212.09 1207.29 L1288.14 1207.29 L1364.18 1201.78 L1440.23 1190.75 L1449.73 1188.68 L1516.27 1172.4 L1592.32 1147.58 L1613.23 1139.05 \n",
       "  L1668.36 1113.35 L1711.13 1089.43 L1744.4 1067.71 L1781.07 1039.8 L1820.45 1003.82 L1833.52 990.171 L1871.54 940.543 L1896.49 897.119 L1899.66 890.915 L1916.56 841.288 \n",
       "  L1925.01 791.66 L1925.01 742.032 L1916.56 692.404 L1899.66 642.777 L1896.49 636.573 L1871.54 593.149 L1833.52 543.521 L1820.45 529.874 L1781.07 493.894 L1744.4 465.978 \n",
       "  L1711.13 444.266 L1668.36 420.338 L1613.23 394.638 L1592.32 386.108 L1516.27 361.294 L1449.73 345.01 L1440.23 342.943 L1364.18 331.914 L1288.14 326.4 L1212.09 326.4 \n",
       "  L1136.05 331.914 L1060.01 342.943 L1050.5 345.01 L983.963 361.294 L907.919 386.108 L887.006 394.638 L831.875 420.338 L789.1 444.266 L755.83 465.978 L719.166 493.894 \n",
       "  L679.786 529.874 L666.716 543.521 L628.694 593.149 L603.742 636.573 L600.574 642.777 L583.675 692.404 L575.226 742.032 L575.226 791.66 L583.675 841.288 L600.574 890.915 \n",
       "  L603.742 897.119 L628.694 940.543 L666.716 990.171 L679.786 1003.82 L719.166 1039.8 L755.83 1067.71 L789.1 1089.43 L831.875 1113.35 L887.006 1139.05 L907.919 1147.58 \n",
       "  L983.963 1172.4 L1050.5 1188.68 L1060.01 1190.75  Z\n",
       "  \" fill=\"#a5da35\" fill-rule=\"evenodd\" fill-opacity=\"0.5\"/>\n",
       "<path clip-path=\"url(#clip882)\" d=\"\n",
       "M1060.01 1105.38 L1136.05 1119.56 L1212.09 1126.65 L1288.14 1126.65 L1364.18 1119.56 L1440.23 1105.38 L1497.26 1089.43 L1516.27 1083.22 L1592.32 1050.14 L1611.33 1039.8 \n",
       "  L1668.36 1002.58 L1684.2 990.171 L1734.9 940.543 L1744.4 928.136 L1768.85 890.915 L1790.57 841.288 L1801.44 791.66 L1801.44 742.032 L1790.57 692.404 L1768.85 642.777 \n",
       "  L1744.4 605.556 L1734.9 593.149 L1684.2 543.521 L1668.36 531.114 L1611.33 493.894 L1592.32 483.554 L1516.27 450.469 L1497.26 444.266 L1440.23 428.314 L1364.18 414.135 \n",
       "  L1288.14 407.045 L1212.09 407.045 L1136.05 414.135 L1060.01 428.314 L1002.97 444.266 L983.963 450.469 L907.919 483.554 L888.908 493.894 L831.875 531.114 L816.032 543.521 \n",
       "  L765.336 593.149 L755.83 605.556 L731.388 642.777 L709.661 692.404 L698.797 742.032 L698.797 791.66 L709.661 841.288 L731.388 890.915 L755.83 928.136 L765.336 940.543 \n",
       "  L816.032 990.171 L831.875 1002.58 L888.908 1039.8 L907.919 1050.14 L983.963 1083.22 L1002.97 1089.43 L1060.01 1105.38  Z\n",
       "  \" fill=\"#d2e11b\" fill-rule=\"evenodd\" fill-opacity=\"0.5\"/>\n",
       "<path clip-path=\"url(#clip882)\" d=\"\n",
       "M1060.01 991.411 L1136.05 1011.26 L1212.09 1021.19 L1288.14 1021.19 L1364.18 1011.26 L1440.23 991.411 L1443.4 990.171 L1516.27 954.501 L1537.66 940.543 L1592.32 892.983 \n",
       "  L1594.22 890.915 L1624.63 841.288 L1639.84 791.66 L1639.84 742.032 L1624.63 692.404 L1594.22 642.777 L1592.32 640.709 L1537.66 593.149 L1516.27 579.191 L1443.4 543.521 \n",
       "  L1440.23 542.281 L1364.18 522.429 L1288.14 512.504 L1212.09 512.504 L1136.05 522.429 L1060.01 542.281 L1056.84 543.521 L983.963 579.191 L962.575 593.149 L907.919 640.709 \n",
       "  L906.017 642.777 L875.6 692.404 L860.391 742.032 L860.391 791.66 L875.6 841.288 L906.017 890.915 L907.919 892.983 L962.575 940.543 L983.963 954.501 L1056.84 990.171 \n",
       "  L1060.01 991.411  Z\n",
       "  \" fill=\"#fde724\" fill-rule=\"evenodd\" fill-opacity=\"0.5\"/>\n",
       "<polyline clip-path=\"url(#clip882)\" style=\"stroke:#000000; stroke-linecap:butt; stroke-linejoin:round; stroke-width:4; stroke-opacity:0.5; fill:none\" points=\"\n",
       "  147.478,1486.45 147.478,1486.45 223.522,1486.45 299.566,1486.45 375.61,1486.45 451.654,1486.45 527.698,1486.45 603.742,1486.45 679.786,1486.45 755.83,1486.45 \n",
       "  831.875,1486.45 907.919,1486.45 983.963,1486.45 1060.01,1486.45 1136.05,1486.45 1212.09,1486.45 1288.14,1486.45 1364.18,1486.45 1440.23,1486.45 1516.27,1486.45 \n",
       "  1592.32,1486.45 1668.36,1486.45 1744.4,1486.45 1820.45,1486.45 1896.49,1486.45 1972.54,1486.45 2048.58,1486.45 2124.62,1486.45 2200.67,1486.45 2276.71,1486.45 \n",
       "  2352.76,1486.45 2352.76,1436.82 2352.76,1387.19 2352.76,1337.56 2352.76,1287.94 2352.76,1238.31 2352.76,1188.68 \n",
       "  2352.76,1139.05 2352.76,1089.43 2352.76,1039.8 2352.76,990.171 2352.76,940.543 2352.76,890.915 2352.76,841.288 2352.76,791.66 2352.76,742.032 2352.76,692.404 \n",
       "  2352.76,642.777 2352.76,593.149 2352.76,543.521 2352.76,493.894 2352.76,444.266 2352.76,394.638 2352.76,345.01 2352.76,295.383 2352.76,245.755 2352.76,196.127 \n",
       "  2352.76,146.5 2352.76,96.8718 2352.76,47.2441 2276.71,47.2441 2200.67,47.2441 2124.62,47.2441 2048.58,47.2441 \n",
       "  1972.54,47.2441 1896.49,47.2441 1820.45,47.2441 1744.4,47.2441 1668.36,47.2441 1592.32,47.2441 1516.27,47.2441 1440.23,47.2441 1364.18,47.2441 1288.14,47.2441 \n",
       "  1212.09,47.2441 1136.05,47.2441 1060.01,47.2441 983.963,47.2441 907.919,47.2441 831.875,47.2441 755.83,47.2441 679.786,47.2441 603.742,47.2441 527.698,47.2441 \n",
       "  451.654,47.2441 375.61,47.2441 299.566,47.2441 223.522,47.2441 147.478,47.2441 147.478,96.8718 147.478,146.5 \n",
       "  147.478,196.127 147.478,245.755 147.478,295.383 147.478,345.01 147.478,394.638 147.478,444.266 147.478,493.894 147.478,543.521 147.478,593.149 147.478,642.777 \n",
       "  147.478,692.404 147.478,742.032 147.478,791.66 147.478,841.288 147.478,890.915 147.478,940.543 147.478,990.171 147.478,1039.8 147.478,1089.43 147.478,1139.05 \n",
       "  147.478,1188.68 147.478,1238.31 147.478,1287.94 147.478,1337.56 147.478,1387.19 147.478,1436.82 147.478,1486.45 \n",
       "  \"/>\n",
       "<polyline clip-path=\"url(#clip882)\" style=\"stroke:#000000; stroke-linecap:butt; stroke-linejoin:round; stroke-width:4; stroke-opacity:0.5; fill:none\" points=\"\n",
       "  223.522,1486.45 299.566,1486.45 375.61,1486.45 451.654,1486.45 527.698,1486.45 603.742,1486.45 679.786,1486.45 755.83,1486.45 831.875,1486.45 907.919,1486.45 \n",
       "  983.963,1486.45 1060.01,1486.45 1136.05,1486.45 1212.09,1486.45 1288.14,1486.45 1364.18,1486.45 1440.23,1486.45 1516.27,1486.45 1592.32,1486.45 1668.36,1486.45 \n",
       "  1744.4,1486.45 1820.45,1486.45 1896.49,1486.45 1972.54,1486.45 2048.58,1486.45 2124.62,1486.45 2200.67,1486.45 2276.71,1486.45 2281.46,1486.45 \n",
       "  2352.76,1439.92 2352.76,1486.45 2352.76,1436.82 2352.76,1387.19 2352.76,1337.56 2352.76,1287.94 2352.76,1238.31 2352.76,1188.68 2352.76,1139.05 2352.76,1089.43 \n",
       "  2352.76,1039.8 2352.76,990.171 2352.76,940.543 2352.76,890.915 2352.76,841.288 2352.76,791.66 2352.76,742.032 2352.76,692.404 2352.76,642.777 2352.76,593.149 \n",
       "  2352.76,543.521 2352.76,493.894 2352.76,444.266 2352.76,394.638 2352.76,345.01 2352.76,295.383 2352.76,245.755 2352.76,196.127 2352.76,146.5 2352.76,96.8718 \n",
       "  2352.76,93.7701 2281.46,47.2441 2276.71,47.2441 2200.67,47.2441 2124.62,47.2441 2048.58,47.2441 1972.54,47.2441 1896.49,47.2441 \n",
       "  1820.45,47.2441 1744.4,47.2441 1668.36,47.2441 1592.32,47.2441 1516.27,47.2441 1440.23,47.2441 1364.18,47.2441 1288.14,47.2441 1212.09,47.2441 1136.05,47.2441 \n",
       "  1060.01,47.2441 983.963,47.2441 907.919,47.2441 831.875,47.2441 755.83,47.2441 679.786,47.2441 603.742,47.2441 527.698,47.2441 451.654,47.2441 375.61,47.2441 \n",
       "  299.566,47.2441 223.522,47.2441 147.478,47.2441 218.769,47.2441 147.478,93.7701 147.478,96.8718 147.478,146.5 147.478,196.127 147.478,245.755 \n",
       "  147.478,295.383 147.478,345.01 147.478,394.638 147.478,444.266 147.478,493.894 147.478,543.521 147.478,593.149 147.478,642.777 147.478,692.404 147.478,742.032 \n",
       "  147.478,791.66 147.478,841.288 147.478,890.915 147.478,940.543 147.478,990.171 147.478,1039.8 147.478,1089.43 147.478,1139.05 147.478,1188.68 147.478,1238.31 \n",
       "  147.478,1287.94 147.478,1337.56 147.478,1387.19 147.478,1436.82 147.478,1486.45 147.478,1439.92 218.769,1486.45 147.478,1486.45 223.522,1486.45 \n",
       "  \"/>\n",
       "<polyline clip-path=\"url(#clip882)\" style=\"stroke:#000000; stroke-linecap:butt; stroke-linejoin:round; stroke-width:4; stroke-opacity:0.5; fill:none\" points=\"\n",
       "  299.566,1486.45 375.61,1486.45 451.654,1486.45 527.698,1486.45 603.742,1486.45 679.786,1486.45 755.83,1486.45 831.875,1486.45 907.919,1486.45 983.963,1486.45 \n",
       "  1060.01,1486.45 1136.05,1486.45 1212.09,1486.45 1288.14,1486.45 1364.18,1486.45 1440.23,1486.45 1516.27,1486.45 1592.32,1486.45 1668.36,1486.45 1744.4,1486.45 \n",
       "  1820.45,1486.45 1896.49,1486.45 1972.54,1486.45 2048.58,1486.45 2124.62,1486.45 2200.67,1486.45 2205.05,1486.45 2276.71,1443.02 2286.22,1436.82 \n",
       "  2352.76,1390.06 2352.76,1436.82 2352.76,1387.19 2352.76,1337.56 2352.76,1287.94 2352.76,1238.31 2352.76,1188.68 2352.76,1139.05 2352.76,1089.43 2352.76,1039.8 \n",
       "  2352.76,990.171 2352.76,940.543 2352.76,890.915 2352.76,841.288 2352.76,791.66 2352.76,742.032 2352.76,692.404 2352.76,642.777 2352.76,593.149 2352.76,543.521 \n",
       "  2352.76,493.894 2352.76,444.266 2352.76,394.638 2352.76,345.01 2352.76,295.383 2352.76,245.755 2352.76,196.127 2352.76,146.5 2352.76,143.636 \n",
       "  2286.22,96.8718 2276.71,90.6683 2205.05,47.2441 2200.67,47.2441 2124.62,47.2441 2048.58,47.2441 1972.54,47.2441 1896.49,47.2441 1820.45,47.2441 \n",
       "  1744.4,47.2441 1668.36,47.2441 1592.32,47.2441 1516.27,47.2441 1440.23,47.2441 1364.18,47.2441 1288.14,47.2441 1212.09,47.2441 1136.05,47.2441 1060.01,47.2441 \n",
       "  983.963,47.2441 907.919,47.2441 831.875,47.2441 755.83,47.2441 679.786,47.2441 603.742,47.2441 527.698,47.2441 451.654,47.2441 375.61,47.2441 299.566,47.2441 \n",
       "  223.522,47.2441 295.179,47.2441 223.522,90.6683 214.016,96.8718 147.478,143.636 147.478,146.5 147.478,196.127 147.478,245.755 147.478,295.383 \n",
       "  147.478,345.01 147.478,394.638 147.478,444.266 147.478,493.894 147.478,543.521 147.478,593.149 147.478,642.777 147.478,692.404 147.478,742.032 147.478,791.66 \n",
       "  147.478,841.288 147.478,890.915 147.478,940.543 147.478,990.171 147.478,1039.8 147.478,1089.43 147.478,1139.05 147.478,1188.68 147.478,1238.31 147.478,1287.94 \n",
       "  147.478,1337.56 147.478,1387.19 147.478,1436.82 147.478,1390.06 214.016,1436.82 223.522,1443.02 295.179,1486.45 223.522,1486.45 299.566,1486.45 \n",
       "  \"/>\n",
       "<polyline clip-path=\"url(#clip882)\" style=\"stroke:#000000; stroke-linecap:butt; stroke-linejoin:round; stroke-width:4; stroke-opacity:0.5; fill:none\" points=\"\n",
       "  451.654,1486.45 527.698,1486.45 603.742,1486.45 679.786,1486.45 755.83,1486.45 831.875,1486.45 907.919,1486.45 983.963,1486.45 1060.01,1486.45 1136.05,1486.45 \n",
       "  1212.09,1486.45 1288.14,1486.45 1364.18,1486.45 1440.23,1486.45 1516.27,1486.45 1592.32,1486.45 1668.36,1486.45 1744.4,1486.45 1820.45,1486.45 1896.49,1486.45 \n",
       "  1972.54,1486.45 2048.58,1486.45 2122.03,1486.45 2124.62,1485.12 2200.67,1442.58 2210.17,1436.82 2276.71,1393.4 2285.54,1387.19 2350.72,1337.56 \n",
       "  2352.76,1335.87 2352.76,1337.56 2352.76,1287.94 2352.76,1238.31 2352.76,1188.68 2352.76,1139.05 2352.76,1089.43 2352.76,1039.8 2352.76,990.171 2352.76,940.543 \n",
       "  2352.76,890.915 2352.76,841.288 2352.76,791.66 2352.76,742.032 2352.76,692.404 2352.76,642.777 2352.76,593.149 2352.76,543.521 2352.76,493.894 2352.76,444.266 \n",
       "  2352.76,394.638 2352.76,345.01 2352.76,295.383 2352.76,245.755 2352.76,197.819 2350.72,196.127 2285.54,146.5 2276.71,140.296 2210.17,96.8718 \n",
       "  2200.67,91.1115 2124.62,48.5734 2122.03,47.2441 2048.58,47.2441 1972.54,47.2441 1896.49,47.2441 1820.45,47.2441 1744.4,47.2441 1668.36,47.2441 \n",
       "  1592.32,47.2441 1516.27,47.2441 1440.23,47.2441 1364.18,47.2441 1288.14,47.2441 1212.09,47.2441 1136.05,47.2441 1060.01,47.2441 983.963,47.2441 907.919,47.2441 \n",
       "  831.875,47.2441 755.83,47.2441 679.786,47.2441 603.742,47.2441 527.698,47.2441 451.654,47.2441 375.61,47.2441 378.203,47.2441 375.61,48.5734 299.566,91.1115 \n",
       "  290.061,96.8718 223.522,140.296 214.695,146.5 149.515,196.127 147.478,197.819 147.478,245.755 147.478,295.383 147.478,345.01 147.478,394.638 \n",
       "  147.478,444.266 147.478,493.894 147.478,543.521 147.478,593.149 147.478,642.777 147.478,692.404 147.478,742.032 147.478,791.66 147.478,841.288 147.478,890.915 \n",
       "  147.478,940.543 147.478,990.171 147.478,1039.8 147.478,1089.43 147.478,1139.05 147.478,1188.68 147.478,1238.31 147.478,1287.94 147.478,1337.56 147.478,1335.87 \n",
       "  149.515,1337.56 214.695,1387.19 223.522,1393.4 290.061,1436.82 299.566,1442.58 375.61,1485.12 378.203,1486.45 375.61,1486.45 451.654,1486.45 \n",
       "  \"/>\n",
       "<polyline clip-path=\"url(#clip882)\" style=\"stroke:#000000; stroke-linecap:butt; stroke-linejoin:round; stroke-width:4; stroke-opacity:0.5; fill:none\" points=\"\n",
       "  527.698,1486.45 603.742,1486.45 679.786,1486.45 755.83,1486.45 831.875,1486.45 907.919,1486.45 983.963,1486.45 1060.01,1486.45 1136.05,1486.45 1212.09,1486.45 \n",
       "  1288.14,1486.45 1364.18,1486.45 1440.23,1486.45 1516.27,1486.45 1592.32,1486.45 1668.36,1486.45 1744.4,1486.45 1820.45,1486.45 1896.49,1486.45 1972.54,1486.45 \n",
       "  2029.57,1486.45 2048.58,1477.59 2124.62,1438.59 2127.79,1436.82 2200.67,1392.92 2209.44,1387.19 2276.71,1339.63 2279.43,1337.56 2339.18,1287.94 \n",
       "  2352.76,1275.53 2352.76,1287.94 2352.76,1238.31 2352.76,1188.68 2352.76,1139.05 2352.76,1089.43 2352.76,1039.8 2352.76,990.171 2352.76,940.543 2352.76,890.915 \n",
       "  2352.76,841.288 2352.76,791.66 2352.76,742.032 2352.76,692.404 2352.76,642.777 2352.76,593.149 2352.76,543.521 2352.76,493.894 2352.76,444.266 2352.76,394.638 \n",
       "  2352.76,345.01 2352.76,295.383 2352.76,258.162 2339.18,245.755 2279.43,196.127 2276.71,194.059 2209.44,146.5 2200.67,140.773 2127.79,96.8718 \n",
       "  2124.62,95.0994 2048.58,56.1062 2029.57,47.2441 1972.54,47.2441 1896.49,47.2441 1820.45,47.2441 1744.4,47.2441 1668.36,47.2441 1592.32,47.2441 \n",
       "  1516.27,47.2441 1440.23,47.2441 1364.18,47.2441 1288.14,47.2441 1212.09,47.2441 1136.05,47.2441 1060.01,47.2441 983.963,47.2441 907.919,47.2441 831.875,47.2441 \n",
       "  755.83,47.2441 679.786,47.2441 603.742,47.2441 527.698,47.2441 451.654,47.2441 470.665,47.2441 451.654,56.1062 375.61,95.0994 372.442,96.8718 299.566,140.773 \n",
       "  290.792,146.5 223.522,194.059 220.806,196.127 161.057,245.755 147.478,258.162 147.478,295.383 147.478,345.01 147.478,394.638 147.478,444.266 \n",
       "  147.478,493.894 147.478,543.521 147.478,593.149 147.478,642.777 147.478,692.404 147.478,742.032 147.478,791.66 147.478,841.288 147.478,890.915 147.478,940.543 \n",
       "  147.478,990.171 147.478,1039.8 147.478,1089.43 147.478,1139.05 147.478,1188.68 147.478,1238.31 147.478,1287.94 147.478,1275.53 161.057,1287.94 220.806,1337.56 \n",
       "  223.522,1339.63 290.792,1387.19 299.566,1392.92 372.442,1436.82 375.61,1438.59 451.654,1477.59 470.665,1486.45 451.654,1486.45 527.698,1486.45 \n",
       "  \"/>\n",
       "<polyline clip-path=\"url(#clip882)\" style=\"stroke:#000000; stroke-linecap:butt; stroke-linejoin:round; stroke-width:4; stroke-opacity:0.5; fill:none\" points=\"\n",
       "  603.742,1486.45 679.786,1486.45 755.83,1486.45 831.875,1486.45 907.919,1486.45 983.963,1486.45 1060.01,1486.45 1136.05,1486.45 1212.09,1486.45 1288.14,1486.45 \n",
       "  1364.18,1486.45 1440.23,1486.45 1516.27,1486.45 1592.32,1486.45 1668.36,1486.45 1744.4,1486.45 1820.45,1486.45 1896.49,1486.45 1925.01,1486.45 \n",
       "  1972.54,1466.51 2036.22,1436.82 2048.58,1430.62 2124.62,1388.62 2127,1387.19 2200.67,1339.12 2202.86,1337.56 2267.21,1287.94 2276.71,1279.87 2322.2,1238.31 \n",
       "  2352.76,1207.29 2352.76,1238.31 2352.76,1188.68 2352.76,1139.05 2352.76,1089.43 2352.76,1039.8 2352.76,990.171 2352.76,940.543 2352.76,890.915 2352.76,841.288 \n",
       "  2352.76,791.66 2352.76,742.032 2352.76,692.404 2352.76,642.777 2352.76,593.149 2352.76,543.521 2352.76,493.894 2352.76,444.266 2352.76,394.638 2352.76,345.01 \n",
       "  2352.76,326.4 2322.2,295.383 2276.71,253.819 2267.21,245.755 2202.86,196.127 2200.67,194.576 2127,146.5 2124.62,145.068 2048.58,103.075 \n",
       "  2036.22,96.8718 1972.54,67.1838 1925.01,47.2441 1896.49,47.2441 1820.45,47.2441 1744.4,47.2441 1668.36,47.2441 1592.32,47.2441 1516.27,47.2441 \n",
       "  1440.23,47.2441 1364.18,47.2441 1288.14,47.2441 1212.09,47.2441 1136.05,47.2441 1060.01,47.2441 983.963,47.2441 907.919,47.2441 831.875,47.2441 755.83,47.2441 \n",
       "  679.786,47.2441 603.742,47.2441 527.698,47.2441 575.226,47.2441 527.698,67.1838 464.011,96.8718 451.654,103.075 375.61,145.068 373.234,146.5 299.566,194.576 \n",
       "  297.372,196.127 233.027,245.755 223.522,253.819 178.031,295.383 147.478,326.4 147.478,345.01 147.478,394.638 147.478,444.266 147.478,493.894 \n",
       "  147.478,543.521 147.478,593.149 147.478,642.777 147.478,692.404 147.478,742.032 147.478,791.66 147.478,841.288 147.478,890.915 147.478,940.543 147.478,990.171 \n",
       "  147.478,1039.8 147.478,1089.43 147.478,1139.05 147.478,1188.68 147.478,1238.31 147.478,1207.29 178.031,1238.31 223.522,1279.87 233.027,1287.94 297.372,1337.56 \n",
       "  299.566,1339.12 373.234,1387.19 375.61,1388.62 451.654,1430.62 464.011,1436.82 527.698,1466.51 575.226,1486.45 527.698,1486.45 603.742,1486.45 \n",
       "  \"/>\n",
       "<polyline clip-path=\"url(#clip882)\" style=\"stroke:#000000; stroke-linecap:butt; stroke-linejoin:round; stroke-width:4; stroke-opacity:0.5; fill:none\" points=\"\n",
       "  755.83,1486.45 831.875,1486.45 907.919,1486.45 983.963,1486.45 1060.01,1486.45 1136.05,1486.45 1212.09,1486.45 1288.14,1486.45 1364.18,1486.45 1440.23,1486.45 \n",
       "  1516.27,1486.45 1592.32,1486.45 1668.36,1486.45 1744.4,1486.45 1801.44,1486.45 1820.45,1480.24 1896.49,1451.89 1932.4,1436.82 1972.54,1418.69 \n",
       "  2035.27,1387.19 2048.58,1379.96 2119.44,1337.56 2124.62,1334.18 2189.58,1287.94 2200.67,1279.25 2248.93,1238.31 2276.71,1212.12 2299.8,1188.68 2343.25,1139.05 \n",
       "  2352.76,1126.65 2352.76,1139.05 2352.76,1089.43 2352.76,1039.8 2352.76,990.171 2352.76,940.543 2352.76,890.915 2352.76,841.288 2352.76,791.66 2352.76,742.032 \n",
       "  2352.76,692.404 2352.76,642.777 2352.76,593.149 2352.76,543.521 2352.76,493.894 2352.76,444.266 2352.76,407.045 2343.25,394.638 2299.8,345.01 \n",
       "  2276.71,321.575 2248.93,295.383 2200.67,254.44 2189.58,245.755 2124.62,199.511 2119.44,196.127 2048.58,153.737 2035.27,146.5 1972.54,115.005 1932.4,96.8718 \n",
       "  1896.49,81.8063 1820.45,53.4476 1801.44,47.2441 1744.4,47.2441 1668.36,47.2441 1592.32,47.2441 1516.27,47.2441 1440.23,47.2441 1364.18,47.2441 \n",
       "  1288.14,47.2441 1212.09,47.2441 1136.05,47.2441 1060.01,47.2441 983.963,47.2441 907.919,47.2441 831.875,47.2441 755.83,47.2441 679.786,47.2441 698.797,47.2441 \n",
       "  679.786,53.4476 603.742,81.8063 567.833,96.8718 527.698,115.005 464.962,146.5 451.654,153.737 380.795,196.127 375.61,199.511 310.656,245.755 299.566,254.44 \n",
       "  251.307,295.383 223.522,321.575 200.437,345.01 156.983,394.638 147.478,407.045 147.478,444.266 147.478,493.894 147.478,543.521 147.478,593.149 \n",
       "  147.478,642.777 147.478,692.404 147.478,742.032 147.478,791.66 147.478,841.288 147.478,890.915 147.478,940.543 147.478,990.171 147.478,1039.8 147.478,1089.43 \n",
       "  147.478,1139.05 147.478,1126.65 156.983,1139.05 200.437,1188.68 223.522,1212.12 251.307,1238.31 299.566,1279.25 310.656,1287.94 375.61,1334.18 380.795,1337.56 \n",
       "  451.654,1379.96 464.962,1387.19 527.698,1418.69 567.833,1436.82 603.742,1451.89 679.786,1480.24 698.797,1486.45 679.786,1486.45 755.83,1486.45 \n",
       "  \"/>\n",
       "<polyline clip-path=\"url(#clip882)\" style=\"stroke:#000000; stroke-linecap:butt; stroke-linejoin:round; stroke-width:4; stroke-opacity:0.5; fill:none\" points=\"\n",
       "  907.919,1486.45 983.963,1486.45 1060.01,1486.45 1136.05,1486.45 1212.09,1486.45 1288.14,1486.45 1364.18,1486.45 1440.23,1486.45 1516.27,1486.45 1592.32,1486.45 \n",
       "  1639.84,1486.45 1668.36,1479.8 1744.4,1458.53 1810.94,1436.82 1820.45,1433.48 1896.49,1402.94 1931.35,1387.19 1972.54,1367.03 2026.72,1337.56 \n",
       "  2048.58,1324.59 2104.75,1287.94 2124.62,1273.67 2169.77,1238.31 2200.67,1211.43 2224.8,1188.68 2271.59,1139.05 2276.71,1132.85 2309.98,1089.43 2342.57,1039.8 \n",
       "  2352.76,1021.19 2352.76,1039.8 2352.76,990.171 2352.76,940.543 2352.76,890.915 2352.76,841.288 2352.76,791.66 2352.76,742.032 2352.76,692.404 2352.76,642.777 \n",
       "  2352.76,593.149 2352.76,543.521 2352.76,512.504 2342.57,493.894 2309.98,444.266 2276.71,400.842 2271.59,394.638 2224.8,345.01 2200.67,322.264 \n",
       "  2169.77,295.383 2124.62,260.023 2104.75,245.755 2048.58,209.098 2026.72,196.127 1972.54,166.661 1931.35,146.5 1896.49,130.752 1820.45,100.212 1810.94,96.8718 \n",
       "  1744.4,75.1597 1668.36,53.8907 1639.84,47.2441 1592.32,47.2441 1516.27,47.2441 1440.23,47.2441 1364.18,47.2441 1288.14,47.2441 1212.09,47.2441 \n",
       "  1136.05,47.2441 1060.01,47.2441 983.963,47.2441 907.919,47.2441 831.875,47.2441 860.391,47.2441 831.875,53.8907 755.83,75.1597 689.292,96.8718 679.786,100.212 \n",
       "  603.742,130.752 568.889,146.5 527.698,166.661 473.517,196.127 451.654,209.098 395.485,245.755 375.61,260.023 330.459,295.383 299.566,322.264 275.437,345.01 \n",
       "  228.64,394.638 223.522,400.842 190.253,444.266 157.662,493.894 147.478,512.504 147.478,543.521 147.478,593.149 147.478,642.777 147.478,692.404 \n",
       "  147.478,742.032 147.478,791.66 147.478,841.288 147.478,890.915 147.478,940.543 147.478,990.171 147.478,1039.8 147.478,1021.19 157.662,1039.8 190.253,1089.43 \n",
       "  223.522,1132.85 228.64,1139.05 275.437,1188.68 299.566,1211.43 330.459,1238.31 375.61,1273.67 395.485,1287.94 451.654,1324.59 473.517,1337.56 527.698,1367.03 \n",
       "  568.889,1387.19 603.742,1402.94 679.786,1433.48 689.292,1436.82 755.83,1458.53 831.875,1479.8 860.391,1486.45 831.875,1486.45 907.919,1486.45 \n",
       "  \"/>\n",
       "<polyline clip-path=\"url(#clip882)\" style=\"stroke:#000000; stroke-linecap:butt; stroke-linejoin:round; stroke-width:4; stroke-opacity:0.5; fill:none\" points=\"\n",
       "  1212.09,1486.45 1288.14,1486.45 1364.18,1482.9 1440.23,1475.81 1516.27,1465.18 1592.32,1451 1653.15,1436.82 1668.36,1433 \n",
       "  1744.4,1410.1 1809.58,1387.19 1820.45,1383.06 1896.49,1349.97 1921.84,1337.56 1972.54,1310.5 2010.56,1287.94 2048.58,1263.12 2083.15,1238.31 2124.62,1205.22 \n",
       "  2143.63,1188.68 2194.33,1139.05 2200.67,1131.96 2235.77,1089.43 2270.86,1039.8 2276.71,1029.87 2298.44,990.171 2320.17,940.543 2336.46,890.915 2347.32,841.288 \n",
       "  2352.76,791.66 2352.76,841.288 2352.76,791.66 2352.76,742.032 2347.32,692.404 2336.46,642.777 2320.17,593.149 2298.44,543.521 \n",
       "  2276.71,503.819 2270.86,493.894 2235.77,444.266 2200.67,401.728 2194.33,394.638 2143.63,345.01 2124.62,328.468 2083.15,295.383 2048.58,270.569 2010.56,245.755 \n",
       "  1972.54,223.197 1921.84,196.127 1896.49,183.72 1820.45,150.635 1809.58,146.5 1744.4,123.594 1668.36,100.689 1653.15,96.8718 1592.32,82.6925 1516.27,68.5131 \n",
       "  1440.23,57.8786 1364.18,50.7889 1288.14,47.2441 1212.09,47.2441 1136.05,47.2441 1212.09,47.2441 1136.05,50.7889 1060.01,57.8786 \n",
       "  983.963,68.5131 907.919,82.6925 847.083,96.8718 831.875,100.689 755.83,123.594 690.65,146.5 679.786,150.635 603.742,183.72 578.394,196.127 527.698,223.197 \n",
       "  489.676,245.755 451.654,270.569 417.089,295.383 375.61,328.468 356.599,345.01 305.903,394.638 299.566,401.728 264.469,444.266 229.372,493.894 223.522,503.819 \n",
       "  201.795,543.521 180.068,593.149 163.773,642.777 152.91,692.404 147.478,742.032 147.478,791.66 147.478,841.288 147.478,791.66 \n",
       "  152.91,841.288 163.773,890.915 180.068,940.543 201.795,990.171 223.522,1029.87 229.372,1039.8 264.469,1089.43 299.566,1131.96 305.903,1139.05 356.599,1188.68 \n",
       "  375.61,1205.22 417.089,1238.31 451.654,1263.12 489.676,1287.94 527.698,1310.5 578.394,1337.56 603.742,1349.97 679.786,1383.06 690.65,1387.19 755.83,1410.1 \n",
       "  831.875,1433 847.083,1436.82 907.919,1451 983.963,1465.18 1060.01,1475.81 1136.05,1482.9 1212.09,1486.45 1136.05,1486.45 1212.09,1486.45 \n",
       "  \"/>\n",
       "<polyline clip-path=\"url(#clip882)\" style=\"stroke:#000000; stroke-linecap:butt; stroke-linejoin:round; stroke-width:4; stroke-opacity:0.5; fill:none\" points=\"\n",
       "  1212.09,1439.92 1288.14,1439.92 1354.68,1436.82 1364.18,1436.34 1440.23,1428.71 1516.27,1417.26 1592.32,1401.99 1651.25,1387.19 1668.36,1382.54 1744.4,1357.73 \n",
       "  1797.36,1337.56 1820.45,1327.98 1896.49,1291.88 1903.88,1287.94 1972.54,1247.61 1986.79,1238.31 2048.58,1193.51 2054.63,1188.68 2109.93,1139.05 2124.62,1123.99 \n",
       "  2155.52,1089.43 2193.54,1039.8 2200.67,1028.63 2223.33,990.171 2246.73,940.543 2264.28,890.915 2275.98,841.288 2276.71,835.084 2281.46,791.66 2281.46,742.032 \n",
       "  2276.71,698.608 2275.98,692.404 2264.28,642.777 2246.73,593.149 2223.33,543.521 2200.67,505.06 2193.54,493.894 2155.52,444.266 2124.62,409.704 2109.93,394.638 \n",
       "  2054.63,345.01 2048.58,340.185 1986.79,295.383 1972.54,286.077 1903.88,245.755 1896.49,241.807 1820.45,205.714 1797.36,196.127 1744.4,175.966 1668.36,151.152 \n",
       "  1651.25,146.5 1592.32,131.707 1516.27,116.437 1440.23,104.984 1364.18,97.349 1354.68,96.8718 1288.14,93.7701 1212.09,93.7701 1145.56,96.8718 1136.05,97.349 \n",
       "  1060.01,104.984 983.963,116.437 907.919,131.707 848.984,146.5 831.875,151.152 755.83,175.966 702.871,196.127 679.786,205.714 603.742,241.807 596.349,245.755 \n",
       "  527.698,286.077 513.44,295.383 451.654,340.185 445.605,345.01 390.3,394.638 375.61,409.704 344.717,444.266 306.695,493.894 299.566,505.06 276.899,543.521 \n",
       "  253.501,593.149 235.952,642.777 224.253,692.404 223.522,698.608 218.769,742.032 218.769,791.66 223.522,835.084 224.253,841.288 235.952,890.915 253.501,940.543 \n",
       "  276.899,990.171 299.566,1028.63 306.695,1039.8 344.717,1089.43 375.61,1123.99 390.3,1139.05 445.605,1188.68 451.654,1193.51 513.44,1238.31 527.698,1247.61 \n",
       "  596.349,1287.94 603.742,1291.88 679.786,1327.98 702.871,1337.56 755.83,1357.73 831.875,1382.54 848.984,1387.19 907.919,1401.99 983.963,1417.26 1060.01,1428.71 \n",
       "  1136.05,1436.34 1145.56,1436.82 1212.09,1439.92 \n",
       "  \"/>\n",
       "<polyline clip-path=\"url(#clip882)\" style=\"stroke:#000000; stroke-linecap:butt; stroke-linejoin:round; stroke-width:4; stroke-opacity:0.5; fill:none\" points=\"\n",
       "  1212.09,1390.06 1288.14,1390.06 1345.17,1387.19 1364.18,1386.16 1440.23,1377.89 1516.27,1365.48 1592.32,1348.94 1634.14,1337.56 1668.36,1327.41 1744.4,1300.34 \n",
       "  1774.28,1287.94 1820.45,1266.85 1875.1,1238.31 1896.49,1225.9 1953.52,1188.68 1972.54,1174.72 2016.26,1139.05 2048.58,1108.92 2067.59,1089.43 2109.07,1039.8 \n",
       "  2124.62,1017.47 2142.05,990.171 2167.4,940.543 2186.41,890.915 2199.08,841.288 2200.67,828.881 2205.05,791.66 2205.05,742.032 2200.67,704.811 2199.08,692.404 \n",
       "  2186.41,642.777 2167.4,593.149 2142.05,543.521 2124.62,516.226 2109.07,493.894 2067.59,444.266 2048.58,424.769 2016.26,394.638 1972.54,358.968 1953.52,345.01 \n",
       "  1896.49,307.79 1875.1,295.383 1820.45,266.847 1774.28,245.755 1744.4,233.348 1668.36,206.278 1634.14,196.127 1592.32,184.754 1516.27,168.212 1440.23,155.805 \n",
       "  1364.18,147.533 1345.17,146.5 1288.14,143.636 1212.09,143.636 1155.06,146.5 1136.05,147.533 1060.01,155.805 983.963,168.212 907.919,184.754 866.094,196.127 \n",
       "  831.875,206.278 755.83,233.348 725.956,245.755 679.786,266.847 625.13,295.383 603.742,307.79 546.709,345.01 527.698,358.968 483.973,394.638 451.654,424.769 \n",
       "  432.643,444.266 391.165,493.894 375.61,516.226 358.183,543.521 332.835,593.149 313.824,642.777 301.15,692.404 299.566,704.811 295.179,742.032 295.179,791.66 \n",
       "  299.566,828.881 301.15,841.288 313.824,890.915 332.835,940.543 358.183,990.171 375.61,1017.47 391.165,1039.8 432.643,1089.43 451.654,1108.92 483.973,1139.05 \n",
       "  527.698,1174.72 546.709,1188.68 603.742,1225.9 625.13,1238.31 679.786,1266.85 725.956,1287.94 755.83,1300.34 831.875,1327.41 866.094,1337.56 907.919,1348.94 \n",
       "  983.963,1365.48 1060.01,1377.89 1136.05,1386.16 1155.06,1387.19 1212.09,1390.06 \n",
       "  \"/>\n",
       "<polyline clip-path=\"url(#clip882)\" style=\"stroke:#000000; stroke-linecap:butt; stroke-linejoin:round; stroke-width:4; stroke-opacity:0.5; fill:none\" points=\"\n",
       "  907.919,1290.76 983.963,1308.8 1060.01,1322.34 1136.05,1331.36 1212.09,1335.87 1288.14,1335.87 1364.18,1331.36 1440.23,1322.34 1516.27,1308.8 1592.32,1290.76 \n",
       "  1601.82,1287.94 1668.36,1266.22 1739.65,1238.31 1744.4,1236.24 1820.45,1197.64 1835.89,1188.68 1896.49,1149.13 1910.22,1139.05 1969.37,1089.43 1972.54,1086.32 \n",
       "  2015.31,1039.8 2048.58,996.374 2052.9,990.171 2080.55,940.543 2101.29,890.915 2115.12,841.288 2122.03,791.66 2122.03,742.032 2115.12,692.404 2101.29,642.777 \n",
       "  2080.55,593.149 2052.9,543.521 2048.58,537.318 2015.31,493.894 1972.54,447.368 1969.37,444.266 1910.22,394.638 1896.49,384.557 1835.89,345.01 1820.45,336.05 \n",
       "  1744.4,297.45 1739.65,295.383 1668.36,267.467 1601.82,245.755 1592.32,242.935 1516.27,224.889 1440.23,211.354 1364.18,202.331 1288.14,197.819 1212.09,197.819 \n",
       "  1136.05,202.331 1060.01,211.354 983.963,224.889 907.919,242.935 898.413,245.755 831.875,267.467 760.583,295.383 755.83,297.45 679.786,336.05 664.34,345.01 \n",
       "  603.742,384.557 590.012,394.638 530.867,444.266 527.698,447.368 484.923,493.894 451.654,537.318 447.334,543.521 419.681,593.149 398.942,642.777 385.116,692.404 \n",
       "  378.203,742.032 378.203,791.66 385.116,841.288 398.942,890.915 419.681,940.543 447.334,990.171 451.654,996.374 484.923,1039.8 527.698,1086.32 530.867,1089.43 \n",
       "  590.012,1139.05 603.742,1149.13 664.34,1188.68 679.786,1197.64 755.83,1236.24 760.583,1238.31 831.875,1266.22 898.413,1287.94 907.919,1290.76 \n",
       "  \"/>\n",
       "<polyline clip-path=\"url(#clip882)\" style=\"stroke:#000000; stroke-linecap:butt; stroke-linejoin:round; stroke-width:4; stroke-opacity:0.5; fill:none\" points=\"\n",
       "  983.963,1245.75 1060.01,1260.64 1136.05,1270.57 1212.09,1275.53 1288.14,1275.53 1364.18,1270.57 1440.23,1260.64 1516.27,1245.75 1544.79,1238.31 1592.32,1224.52 \n",
       "  1668.36,1196.95 1687.37,1188.68 1744.4,1160.77 1782.43,1139.05 1820.45,1114.24 1853.72,1089.43 1896.49,1052.21 1909.17,1039.8 1951.41,990.171 1972.54,959.153 \n",
       "  1983.94,940.543 2006.76,890.915 2021.96,841.288 2029.57,791.66 2029.57,742.032 2021.96,692.404 2006.76,642.777 1983.94,593.149 1972.54,574.539 1951.41,543.521 \n",
       "  1909.17,493.894 1896.49,481.487 1853.72,444.266 1820.45,419.452 1782.43,394.638 1744.4,372.926 1687.37,345.01 1668.36,336.739 1592.32,309.168 1544.79,295.383 \n",
       "  1516.27,287.939 1440.23,273.05 1364.18,263.125 1288.14,258.162 1212.09,258.162 1136.05,263.125 1060.01,273.05 983.963,287.939 955.446,295.383 907.919,309.168 \n",
       "  831.875,336.739 812.864,345.01 755.83,372.926 717.808,394.638 679.786,419.452 646.517,444.266 603.742,481.487 591.068,493.894 548.822,543.521 527.698,574.539 \n",
       "  516.292,593.149 493.478,642.777 478.27,692.404 470.665,742.032 470.665,791.66 478.27,841.288 493.478,890.915 516.292,940.543 527.698,959.153 548.822,990.171 \n",
       "  591.068,1039.8 603.742,1052.21 646.517,1089.43 679.786,1114.24 717.808,1139.05 755.83,1160.77 812.864,1188.68 831.875,1196.95 907.919,1224.52 955.446,1238.31 \n",
       "  983.963,1245.75 \n",
       "  \"/>\n",
       "<polyline clip-path=\"url(#clip882)\" style=\"stroke:#000000; stroke-linecap:butt; stroke-linejoin:round; stroke-width:4; stroke-opacity:0.5; fill:none\" points=\"\n",
       "  1060.01,1190.75 1136.05,1201.78 1212.09,1207.29 1288.14,1207.29 1364.18,1201.78 1440.23,1190.75 1449.73,1188.68 1516.27,1172.4 1592.32,1147.58 1613.23,1139.05 \n",
       "  1668.36,1113.35 1711.13,1089.43 1744.4,1067.71 1781.07,1039.8 1820.45,1003.82 1833.52,990.171 1871.54,940.543 1896.49,897.119 1899.66,890.915 1916.56,841.288 \n",
       "  1925.01,791.66 1925.01,742.032 1916.56,692.404 1899.66,642.777 1896.49,636.573 1871.54,593.149 1833.52,543.521 1820.45,529.874 1781.07,493.894 1744.4,465.978 \n",
       "  1711.13,444.266 1668.36,420.338 1613.23,394.638 1592.32,386.108 1516.27,361.294 1449.73,345.01 1440.23,342.943 1364.18,331.914 1288.14,326.4 1212.09,326.4 \n",
       "  1136.05,331.914 1060.01,342.943 1050.5,345.01 983.963,361.294 907.919,386.108 887.006,394.638 831.875,420.338 789.1,444.266 755.83,465.978 719.166,493.894 \n",
       "  679.786,529.874 666.716,543.521 628.694,593.149 603.742,636.573 600.574,642.777 583.675,692.404 575.226,742.032 575.226,791.66 583.675,841.288 600.574,890.915 \n",
       "  603.742,897.119 628.694,940.543 666.716,990.171 679.786,1003.82 719.166,1039.8 755.83,1067.71 789.1,1089.43 831.875,1113.35 887.006,1139.05 907.919,1147.58 \n",
       "  983.963,1172.4 1050.5,1188.68 1060.01,1190.75 \n",
       "  \"/>\n",
       "<polyline clip-path=\"url(#clip882)\" style=\"stroke:#000000; stroke-linecap:butt; stroke-linejoin:round; stroke-width:4; stroke-opacity:0.5; fill:none\" points=\"\n",
       "  1060.01,1105.38 1136.05,1119.56 1212.09,1126.65 1288.14,1126.65 1364.18,1119.56 1440.23,1105.38 1497.26,1089.43 1516.27,1083.22 1592.32,1050.14 1611.33,1039.8 \n",
       "  1668.36,1002.58 1684.2,990.171 1734.9,940.543 1744.4,928.136 1768.85,890.915 1790.57,841.288 1801.44,791.66 1801.44,742.032 1790.57,692.404 1768.85,642.777 \n",
       "  1744.4,605.556 1734.9,593.149 1684.2,543.521 1668.36,531.114 1611.33,493.894 1592.32,483.554 1516.27,450.469 1497.26,444.266 1440.23,428.314 1364.18,414.135 \n",
       "  1288.14,407.045 1212.09,407.045 1136.05,414.135 1060.01,428.314 1002.97,444.266 983.963,450.469 907.919,483.554 888.908,493.894 831.875,531.114 816.032,543.521 \n",
       "  765.336,593.149 755.83,605.556 731.388,642.777 709.661,692.404 698.797,742.032 698.797,791.66 709.661,841.288 731.388,890.915 755.83,928.136 765.336,940.543 \n",
       "  816.032,990.171 831.875,1002.58 888.908,1039.8 907.919,1050.14 983.963,1083.22 1002.97,1089.43 1060.01,1105.38 \n",
       "  \"/>\n",
       "<polyline clip-path=\"url(#clip882)\" style=\"stroke:#000000; stroke-linecap:butt; stroke-linejoin:round; stroke-width:4; stroke-opacity:0.5; fill:none\" points=\"\n",
       "  1060.01,991.411 1136.05,1011.26 1212.09,1021.19 1288.14,1021.19 1364.18,1011.26 1440.23,991.411 1443.4,990.171 1516.27,954.501 1537.66,940.543 1592.32,892.983 \n",
       "  1594.22,890.915 1624.63,841.288 1639.84,791.66 1639.84,742.032 1624.63,692.404 1594.22,642.777 1592.32,640.709 1537.66,593.149 1516.27,579.191 1443.4,543.521 \n",
       "  1440.23,542.281 1364.18,522.429 1288.14,512.504 1212.09,512.504 1136.05,522.429 1060.01,542.281 1056.84,543.521 983.963,579.191 962.575,593.149 907.919,640.709 \n",
       "  906.017,642.777 875.6,692.404 860.391,742.032 860.391,791.66 875.6,841.288 906.017,890.915 907.919,892.983 962.575,940.543 983.963,954.501 1056.84,990.171 \n",
       "  1060.01,991.411 \n",
       "  \"/>\n",
       "</svg>\n"
      ]
     },
     "execution_count": 47,
     "metadata": {},
     "output_type": "execute_result"
    }
   ],
   "source": [
    "mmcontour(:max)"
   ]
  },
  {
   "cell_type": "markdown",
   "metadata": {
    "slideshow": {
     "slide_type": "slide"
    }
   },
   "source": [
    "## Partial derivatives\n",
    "\n",
    "For a function $f: \\mathbb{R}^{n} \\rightarrow \\mathbb{R}$ the concept of a derivative is extended to partial derivatives for $n$ variables.\n",
    "\n",
    "The partial of $x$ is defined by holding $y$ constant while a derivative in $x$ is taken.  \n",
    "\n",
    "The partial derivative of a function $f$ with respect to the variable $x$, can be written as $\\frac{\\partial{f}}{\\partial{x}}$, which is defined as,\n",
    "\n",
    "$$\n",
    "\\dfrac{∂f}{∂x}=f_x(x,y)=\\lim_{h→0}\\dfrac{f(x+h,y)−f(x,y)}{h}\n",
    "$$"
   ]
  },
  {
   "cell_type": "markdown",
   "metadata": {
    "slideshow": {
     "slide_type": "slide"
    }
   },
   "source": [
    "## Partial derivatives\n",
    "\n",
    "$$\n",
    "\\dfrac{∂f}{∂x}=f_x(x,y)=\\lim_{h→0}\\dfrac{f(x+h,y)−f(x,y)}{h}\n",
    "$$\n",
    "\n",
    "In this definition we see a new symbol, $\\partial$, which indicates a partial derivative.\n",
    "\n",
    "In this case we can also write the derivative with respect to $y$ so there are two partial derivatives for this function, since it is a function of two variables. \n",
    "\n",
    "The gradient of $f$, which is referred to as $\\nabla f$, is the vector valued function of partial derivatives $[\\partial f / \\partial x, \\partial f / \\partial y]$."
   ]
  },
  {
   "cell_type": "markdown",
   "metadata": {
    "slideshow": {
     "slide_type": "slide"
    }
   },
   "source": [
    "## Partial derivatives\n",
    "\n",
    "Let us look at an example. \n",
    "\n",
    "Say that we wanted to calculate the partial derivative for some function,\n",
    "\n",
    "$$\n",
    "f(x,y)=x^2−3xy+2y^2−4x+5y−12\n",
    "$$\n",
    "\n",
    "The easiesy way to take a partial derivative of $f$ with respect to $x$ would be to treat the variable $y$ like it was a constant and apply the usual single variable calculus rules. "
   ]
  },
  {
   "cell_type": "markdown",
   "metadata": {
    "slideshow": {
     "slide_type": "slide"
    }
   },
   "source": [
    "## Partial derivatives\n",
    "\n",
    "Let us consider the individual components of the function. \n",
    "\n",
    "In the case of $x^{2}$, we would have that the derivative is $2x$. \n",
    "\n",
    "For $-3xy$ we treat the $y$ like a constant, so the derivative is $-3y$.\n",
    "\n",
    "The next term, $2y^2$ falls away completely since it is constant. The same is true for $5y$ and $12$.\n",
    "\n",
    "Finally, we are left with $-4x$, with a derivative given by $-4$. \n",
    "\n",
    "If we then add these components together, we get our answer $2x - 3y - 4$"
   ]
  },
  {
   "cell_type": "markdown",
   "metadata": {
    "slideshow": {
     "slide_type": "slide"
    }
   },
   "source": [
    "## Partial derivatives"
   ]
  },
  {
   "cell_type": "code",
   "execution_count": 48,
   "metadata": {
    "slideshow": {
     "slide_type": "fragment"
    }
   },
   "outputs": [],
   "source": [
    "@variables x y\n",
    "\n",
    "l = x^2 − 3x*y + 2y^2 − 4x + 5y − 12\n",
    "\n",
    "H = Differential(x);\n",
    "I = Differential(y);"
   ]
  },
  {
   "cell_type": "code",
   "execution_count": 49,
   "metadata": {
    "slideshow": {
     "slide_type": "fragment"
    }
   },
   "outputs": [
    {
     "data": {
      "text/latex": [
       "\\begin{equation}\n",
       "-4 + 2 x - 3 y\n",
       "\\end{equation}\n"
      ],
      "text/plain": [
       "2x - 4 - 3y"
      ]
     },
     "execution_count": 49,
     "metadata": {},
     "output_type": "execute_result"
    }
   ],
   "source": [
    "expand_derivatives(H(l)) # partial derivative of f(x, y) wrt to x"
   ]
  },
  {
   "cell_type": "code",
   "execution_count": 50,
   "metadata": {
    "slideshow": {
     "slide_type": "fragment"
    }
   },
   "outputs": [
    {
     "data": {
      "text/latex": [
       "\\begin{equation}\n",
       "5 - 3 x + 4 y\n",
       "\\end{equation}\n"
      ],
      "text/plain": [
       "5 + 4y - 3x"
      ]
     },
     "execution_count": 50,
     "metadata": {},
     "output_type": "execute_result"
    }
   ],
   "source": [
    "expand_derivatives(I(l)) # partial derivative of f(x, y) wrt to y"
   ]
  }
 ],
 "metadata": {
  "celltoolbar": "Slideshow",
  "kernelspec": {
   "display_name": "Julia 1.7.2",
   "language": "julia",
   "name": "julia-1.7"
  },
  "language_info": {
   "file_extension": ".jl",
   "mimetype": "application/julia",
   "name": "julia",
   "version": "1.7.2"
  }
 },
 "nbformat": 4,
 "nbformat_minor": 4
}
