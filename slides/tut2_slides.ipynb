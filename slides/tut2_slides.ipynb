{
 "cells": [
  {
   "cell_type": "markdown",
   "metadata": {
    "slideshow": {
     "slide_type": "slide"
    }
   },
   "source": [
    "# <span style=\"color:#2c061f\"> Macro 318: Lecture 4 - 6 / Tutorial 2 </span>  \n",
    "\n",
    "<br>\n",
    "\n",
    "## <span style=\"color:#374045\"> Data, Stats and Math with Julia </span>\n",
    "\n",
    "\n",
    "#### <span style=\"color:#374045\"> Lecturer: </span> <span style=\"color:#d89216\"> <br> Dawie van Lill (dvanlill@sun.ac.za) </span>"
   ]
  },
  {
   "cell_type": "markdown",
   "metadata": {
    "slideshow": {
     "slide_type": "slide"
    }
   },
   "source": [
    "# Introduction\n",
    "\n",
    "For this lecture you can focus on the mathematics and data manipulations. \n",
    "\n",
    "The code is there to help you better understand the math and statistics. \n",
    "\n",
    "You do not need to understand all of the code!\n",
    "\n",
    "I will indicate which code components are important. "
   ]
  },
  {
   "cell_type": "code",
   "execution_count": 2,
   "metadata": {
    "slideshow": {
     "slide_type": "skip"
    }
   },
   "outputs": [
    {
     "name": "stderr",
     "output_type": "stream",
     "text": [
      "\u001b[32m\u001b[1m    Updating\u001b[22m\u001b[39m registry at `~/.julia/registries/General.toml`\n",
      "\u001b[32m\u001b[1m   Resolving\u001b[22m\u001b[39m package versions...\n",
      "┌ Warning: The active manifest file at `/home/dawie/Dropbox/2022/318-macro/git/Macro-318/Manifest.toml` has an old format that is being maintained.\n",
      "│ To update to the new format run `Pkg.upgrade_manifest()` which will upgrade the format without re-resolving.\n",
      "└ @ Pkg.Types /buildworker/worker/package_linux64/build/usr/share/julia/stdlib/v1.7/Pkg/src/manifest.jl:287\n",
      "\u001b[32m\u001b[1m  No Changes\u001b[22m\u001b[39m to `~/Dropbox/2022/318-macro/git/Macro-318/Project.toml`\n",
      "\u001b[32m\u001b[1m  No Changes\u001b[22m\u001b[39m to `~/Dropbox/2022/318-macro/git/Macro-318/Manifest.toml`\n",
      "┌ Warning: The active manifest file is an older format with no julia version entry. Dependencies may have been resolved with a different julia version.\n",
      "└ @ nothing /home/dawie/Dropbox/2022/318-macro/git/Macro-318/Manifest.toml:0\n",
      "\u001b[32m\u001b[1m   Resolving\u001b[22m\u001b[39m package versions...\n",
      "\u001b[32m\u001b[1m  No Changes\u001b[22m\u001b[39m to `~/Dropbox/2022/318-macro/git/Macro-318/Project.toml`\n",
      "\u001b[32m\u001b[1m  No Changes\u001b[22m\u001b[39m to `~/Dropbox/2022/318-macro/git/Macro-318/Manifest.toml`\n",
      "\u001b[32m\u001b[1m   Resolving\u001b[22m\u001b[39m package versions...\n",
      "\u001b[32m\u001b[1m  No Changes\u001b[22m\u001b[39m to `~/Dropbox/2022/318-macro/git/Macro-318/Project.toml`\n",
      "\u001b[32m\u001b[1m  No Changes\u001b[22m\u001b[39m to `~/Dropbox/2022/318-macro/git/Macro-318/Manifest.toml`\n",
      "\u001b[32m\u001b[1m   Resolving\u001b[22m\u001b[39m package versions...\n",
      "\u001b[32m\u001b[1m  No Changes\u001b[22m\u001b[39m to `~/Dropbox/2022/318-macro/git/Macro-318/Project.toml`\n",
      "\u001b[32m\u001b[1m  No Changes\u001b[22m\u001b[39m to `~/Dropbox/2022/318-macro/git/Macro-318/Manifest.toml`\n",
      "\u001b[32m\u001b[1m   Resolving\u001b[22m\u001b[39m package versions...\n",
      "\u001b[32m\u001b[1m  No Changes\u001b[22m\u001b[39m to `~/Dropbox/2022/318-macro/git/Macro-318/Project.toml`\n",
      "\u001b[32m\u001b[1m  No Changes\u001b[22m\u001b[39m to `~/Dropbox/2022/318-macro/git/Macro-318/Manifest.toml`\n",
      "\u001b[32m\u001b[1m   Resolving\u001b[22m\u001b[39m package versions...\n",
      "\u001b[32m\u001b[1m  No Changes\u001b[22m\u001b[39m to `~/Dropbox/2022/318-macro/git/Macro-318/Project.toml`\n",
      "\u001b[32m\u001b[1m  No Changes\u001b[22m\u001b[39m to `~/Dropbox/2022/318-macro/git/Macro-318/Manifest.toml`\n",
      "\u001b[32m\u001b[1m   Resolving\u001b[22m\u001b[39m package versions...\n",
      "\u001b[32m\u001b[1m  No Changes\u001b[22m\u001b[39m to `~/Dropbox/2022/318-macro/git/Macro-318/Project.toml`\n",
      "\u001b[32m\u001b[1m  No Changes\u001b[22m\u001b[39m to `~/Dropbox/2022/318-macro/git/Macro-318/Manifest.toml`\n",
      "\u001b[32m\u001b[1m   Resolving\u001b[22m\u001b[39m package versions...\n",
      "\u001b[32m\u001b[1m  No Changes\u001b[22m\u001b[39m to `~/Dropbox/2022/318-macro/git/Macro-318/Project.toml`\n",
      "\u001b[32m\u001b[1m  No Changes\u001b[22m\u001b[39m to `~/Dropbox/2022/318-macro/git/Macro-318/Manifest.toml`\n",
      "\u001b[32m\u001b[1m   Resolving\u001b[22m\u001b[39m package versions...\n",
      "\u001b[32m\u001b[1m  No Changes\u001b[22m\u001b[39m to `~/Dropbox/2022/318-macro/git/Macro-318/Project.toml`\n",
      "\u001b[32m\u001b[1m  No Changes\u001b[22m\u001b[39m to `~/Dropbox/2022/318-macro/git/Macro-318/Manifest.toml`\n",
      "\u001b[32m\u001b[1m   Resolving\u001b[22m\u001b[39m package versions...\n",
      "\u001b[32m\u001b[1m  No Changes\u001b[22m\u001b[39m to `~/Dropbox/2022/318-macro/git/Macro-318/Project.toml`\n",
      "\u001b[32m\u001b[1m  No Changes\u001b[22m\u001b[39m to `~/Dropbox/2022/318-macro/git/Macro-318/Manifest.toml`\n",
      "\u001b[32m\u001b[1m   Resolving\u001b[22m\u001b[39m package versions...\n",
      "\u001b[32m\u001b[1m  No Changes\u001b[22m\u001b[39m to `~/Dropbox/2022/318-macro/git/Macro-318/Project.toml`\n",
      "\u001b[32m\u001b[1m  No Changes\u001b[22m\u001b[39m to `~/Dropbox/2022/318-macro/git/Macro-318/Manifest.toml`\n",
      "\u001b[32m\u001b[1m   Resolving\u001b[22m\u001b[39m package versions...\n",
      "\u001b[32m\u001b[1m  No Changes\u001b[22m\u001b[39m to `~/Dropbox/2022/318-macro/git/Macro-318/Project.toml`\n",
      "\u001b[32m\u001b[1m  No Changes\u001b[22m\u001b[39m to `~/Dropbox/2022/318-macro/git/Macro-318/Manifest.toml`\n",
      "\u001b[32m\u001b[1m   Resolving\u001b[22m\u001b[39m package versions...\n",
      "\u001b[32m\u001b[1m  No Changes\u001b[22m\u001b[39m to `~/Dropbox/2022/318-macro/git/Macro-318/Project.toml`\n",
      "\u001b[32m\u001b[1m  No Changes\u001b[22m\u001b[39m to `~/Dropbox/2022/318-macro/git/Macro-318/Manifest.toml`\n",
      "\u001b[32m\u001b[1m   Resolving\u001b[22m\u001b[39m package versions...\n",
      "\u001b[32m\u001b[1m  No Changes\u001b[22m\u001b[39m to `~/Dropbox/2022/318-macro/git/Macro-318/Project.toml`\n",
      "\u001b[32m\u001b[1m  No Changes\u001b[22m\u001b[39m to `~/Dropbox/2022/318-macro/git/Macro-318/Manifest.toml`\n",
      "\u001b[32m\u001b[1m   Resolving\u001b[22m\u001b[39m package versions...\n",
      "\u001b[32m\u001b[1m  No Changes\u001b[22m\u001b[39m to `~/Dropbox/2022/318-macro/git/Macro-318/Project.toml`\n",
      "\u001b[32m\u001b[1m  No Changes\u001b[22m\u001b[39m to `~/Dropbox/2022/318-macro/git/Macro-318/Manifest.toml`\n",
      "\u001b[32m\u001b[1m   Resolving\u001b[22m\u001b[39m package versions...\n",
      "\u001b[32m\u001b[1m  No Changes\u001b[22m\u001b[39m to `~/Dropbox/2022/318-macro/git/Macro-318/Project.toml`\n",
      "\u001b[32m\u001b[1m  No Changes\u001b[22m\u001b[39m to `~/Dropbox/2022/318-macro/git/Macro-318/Manifest.toml`\n",
      "\u001b[32m\u001b[1m   Resolving\u001b[22m\u001b[39m package versions...\n",
      "\u001b[32m\u001b[1m  No Changes\u001b[22m\u001b[39m to `~/Dropbox/2022/318-macro/git/Macro-318/Project.toml`\n",
      "\u001b[32m\u001b[1m  No Changes\u001b[22m\u001b[39m to `~/Dropbox/2022/318-macro/git/Macro-318/Manifest.toml`\n"
     ]
    }
   ],
   "source": [
    "# Packages\n",
    "import Pkg\n",
    "\n",
    "Pkg.add(\"CategoricalArrays\")\n",
    "Pkg.add(\"CSV\")\n",
    "Pkg.add(\"DataFrames\")\n",
    "Pkg.add(\"DataFramesMeta\")\n",
    "Pkg.add(\"Downloads\")\n",
    "Pkg.add(\"ForwardDiff\")\n",
    "Pkg.add(\"GLM\")\n",
    "Pkg.add(\"LinearAlgebra\")\n",
    "Pkg.add(\"Plots\")\n",
    "Pkg.add(\"Random\")\n",
    "Pkg.add(\"RDatasets\")\n",
    "Pkg.add(\"Roots\")\n",
    "Pkg.add(\"ShiftedArrays\")\n",
    "Pkg.add(\"SparseArrays\")\n",
    "Pkg.add(\"Statistics\")\n",
    "Pkg.add(\"Symbolics\")\n",
    "Pkg.add(\"Zygote\")\n",
    "\n",
    "using CategoricalArrays\n",
    "using CSV\n",
    "using DataFrames\n",
    "using DataFramesMeta\n",
    "using Downloads\n",
    "using ForwardDiff\n",
    "using GLM\n",
    "using LinearAlgebra\n",
    "using Plots\n",
    "using Random\n",
    "using RDatasets\n",
    "using Roots\n",
    "using ShiftedArrays\n",
    "using SparseArrays\n",
    "using Statistics\n",
    "using Symbolics\n",
    "using Zygote"
   ]
  },
  {
   "cell_type": "markdown",
   "metadata": {
    "slideshow": {
     "slide_type": "slide"
    }
   },
   "source": [
    "# Packages"
   ]
  },
  {
   "cell_type": "code",
   "execution_count": null,
   "metadata": {
    "slideshow": {
     "slide_type": "fragment"
    }
   },
   "outputs": [],
   "source": [
    "# Packages for this lecture\n",
    "\n",
    "using CategoricalArrays\n",
    "using CSV\n",
    "using DataFrames\n",
    "using DataFramesMeta\n",
    "using Downloads\n",
    "using ForwardDiff\n",
    "using GLM\n",
    "using LinearAlgebra\n",
    "using Plots\n",
    "using Random\n",
    "using RDatasets\n",
    "using Roots\n",
    "using ShiftedArrays\n",
    "using SparseArrays\n",
    "using Statistics\n",
    "using Symbolics\n",
    "using Zygote"
   ]
  },
  {
   "cell_type": "markdown",
   "metadata": {
    "slideshow": {
     "slide_type": "slide"
    }
   },
   "source": [
    "# DataFrames\n",
    "\n",
    "In this section we discuss basic principles from the `DataFrames.jl` package. \n",
    "\n",
    "For the first topic we look at how to construct and access DataFrames. \n",
    "\n",
    "The fundamental object that we care about is the `DataFrame`. \n",
    "\n",
    "This is similar to a `dataframe` that you would find in R or in Pandas (Python).\n",
    "\n",
    "DataFrames are essentially matrices, with the rows being observations and the columns indicating the variables. "
   ]
  },
  {
   "cell_type": "markdown",
   "metadata": {
    "slideshow": {
     "slide_type": "slide"
    }
   },
   "source": [
    "## Constructors\n",
    "\n",
    "The easiest thing to construct is an empty DataFrame. "
   ]
  },
  {
   "cell_type": "code",
   "execution_count": 3,
   "metadata": {
    "slideshow": {
     "slide_type": "fragment"
    }
   },
   "outputs": [
    {
     "data": {
      "text/html": [
       "<div class=\"data-frame\"><p>0 rows × 0 columns</p><table class=\"data-frame\"><thead><tr><th></th></tr><tr><th></th></tr></thead><tbody></tbody></table></div>"
      ],
      "text/latex": [
       "\\begin{tabular}{r|}\n",
       "\t& \\\\\n",
       "\t\\hline\n",
       "\t& \\\\\n",
       "\t\\hline\n",
       "\\end{tabular}\n"
      ],
      "text/plain": [
       "\u001b[1m0×0 DataFrame\u001b[0m"
      ]
     },
     "execution_count": 3,
     "metadata": {},
     "output_type": "execute_result"
    }
   ],
   "source": [
    "DataFrame() # empty DataFrame"
   ]
  },
  {
   "cell_type": "markdown",
   "metadata": {
    "slideshow": {
     "slide_type": "slide"
    }
   },
   "source": [
    "## Constructors\n",
    "\n",
    "You could also construct a DataFrame with different keyword arguments. \n",
    "\n",
    "Notice the different types of the different columns. "
   ]
  },
  {
   "cell_type": "code",
   "execution_count": 4,
   "metadata": {
    "slideshow": {
     "slide_type": "fragment"
    }
   },
   "outputs": [
    {
     "data": {
      "text/html": [
       "<div class=\"data-frame\"><p>4 rows × 3 columns</p><table class=\"data-frame\"><thead><tr><th></th><th>A</th><th>B</th><th>C</th></tr><tr><th></th><th title=\"Int64\">Int64</th><th title=\"Float64\">Float64</th><th title=\"String\">String</th></tr></thead><tbody><tr><th>1</th><td>2</td><td>0.526655</td><td>Hello</td></tr><tr><th>2</th><td>3</td><td>1.44717</td><td>Hello</td></tr><tr><th>3</th><td>4</td><td>0.67246</td><td>Hello</td></tr><tr><th>4</th><td>5</td><td>0.89631</td><td>Hello</td></tr></tbody></table></div>"
      ],
      "text/latex": [
       "\\begin{tabular}{r|ccc}\n",
       "\t& A & B & C\\\\\n",
       "\t\\hline\n",
       "\t& Int64 & Float64 & String\\\\\n",
       "\t\\hline\n",
       "\t1 & 2 & 0.526655 & Hello \\\\\n",
       "\t2 & 3 & 1.44717 & Hello \\\\\n",
       "\t3 & 4 & 0.67246 & Hello \\\\\n",
       "\t4 & 5 & 0.89631 & Hello \\\\\n",
       "\\end{tabular}\n"
      ],
      "text/plain": [
       "\u001b[1m4×3 DataFrame\u001b[0m\n",
       "\u001b[1m Row \u001b[0m│\u001b[1m A     \u001b[0m\u001b[1m B        \u001b[0m\u001b[1m C      \u001b[0m\n",
       "\u001b[1m     \u001b[0m│\u001b[90m Int64 \u001b[0m\u001b[90m Float64  \u001b[0m\u001b[90m String \u001b[0m\n",
       "─────┼─────────────────────────\n",
       "   1 │     2  0.526655  Hello\n",
       "   2 │     3  1.44717   Hello\n",
       "   3 │     4  0.67246   Hello\n",
       "   4 │     5  0.89631   Hello"
      ]
     },
     "execution_count": 4,
     "metadata": {},
     "output_type": "execute_result"
    }
   ],
   "source": [
    "DataFrame(A = 2:5, B = randn(4), C = \"Hello\")"
   ]
  },
  {
   "cell_type": "code",
   "execution_count": null,
   "metadata": {
    "slideshow": {
     "slide_type": "slide"
    }
   },
   "outputs": [],
   "source": []
  }
 ],
 "metadata": {
  "celltoolbar": "Slideshow",
  "kernelspec": {
   "display_name": "Julia 1.7.2",
   "language": "julia",
   "name": "julia-1.7"
  },
  "language_info": {
   "file_extension": ".jl",
   "mimetype": "application/julia",
   "name": "julia",
   "version": "1.7.2"
  }
 },
 "nbformat": 4,
 "nbformat_minor": 4
}
