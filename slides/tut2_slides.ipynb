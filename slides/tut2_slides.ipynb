{
 "cells": [
  {
   "cell_type": "markdown",
   "metadata": {
    "slideshow": {
     "slide_type": "slide"
    }
   },
   "source": [
    "# <span style=\"color:#2c061f\"> Macro 318: Lecture 4 - 6 / Tutorial 2 </span>  \n",
    "\n",
    "<br>\n",
    "\n",
    "## <span style=\"color:#374045\"> Data, Stats and Math with Julia </span>\n",
    "\n",
    "\n",
    "#### <span style=\"color:#374045\"> Lecturer: </span> <span style=\"color:#d89216\"> <br> Dawie van Lill (dvanlill@sun.ac.za) </span>"
   ]
  },
  {
   "cell_type": "markdown",
   "metadata": {
    "slideshow": {
     "slide_type": "slide"
    }
   },
   "source": [
    "# Introduction\n",
    "\n",
    "For this lecture you can focus on the mathematics and data manipulations. \n",
    "\n",
    "The code is there to help you better understand the math and statistics. \n",
    "\n",
    "You do not need to understand all of the code!\n",
    "\n",
    "I will indicate which code components are important. "
   ]
  },
  {
   "cell_type": "code",
   "execution_count": 2,
   "metadata": {
    "slideshow": {
     "slide_type": "skip"
    }
   },
   "outputs": [
    {
     "name": "stderr",
     "output_type": "stream",
     "text": [
      "\u001b[32m\u001b[1m    Updating\u001b[22m\u001b[39m registry at `~/.julia/registries/General.toml`\n",
      "\u001b[32m\u001b[1m   Resolving\u001b[22m\u001b[39m package versions...\n",
      "┌ Warning: The active manifest file at `/home/dawie/Dropbox/2022/318-macro/git/Macro-318/Manifest.toml` has an old format that is being maintained.\n",
      "│ To update to the new format run `Pkg.upgrade_manifest()` which will upgrade the format without re-resolving.\n",
      "└ @ Pkg.Types /buildworker/worker/package_linux64/build/usr/share/julia/stdlib/v1.7/Pkg/src/manifest.jl:287\n",
      "\u001b[32m\u001b[1m  No Changes\u001b[22m\u001b[39m to `~/Dropbox/2022/318-macro/git/Macro-318/Project.toml`\n",
      "\u001b[32m\u001b[1m  No Changes\u001b[22m\u001b[39m to `~/Dropbox/2022/318-macro/git/Macro-318/Manifest.toml`\n",
      "┌ Warning: The active manifest file is an older format with no julia version entry. Dependencies may have been resolved with a different julia version.\n",
      "└ @ nothing /home/dawie/Dropbox/2022/318-macro/git/Macro-318/Manifest.toml:0\n",
      "\u001b[32m\u001b[1m   Resolving\u001b[22m\u001b[39m package versions...\n",
      "\u001b[32m\u001b[1m  No Changes\u001b[22m\u001b[39m to `~/Dropbox/2022/318-macro/git/Macro-318/Project.toml`\n",
      "\u001b[32m\u001b[1m  No Changes\u001b[22m\u001b[39m to `~/Dropbox/2022/318-macro/git/Macro-318/Manifest.toml`\n",
      "\u001b[32m\u001b[1m   Resolving\u001b[22m\u001b[39m package versions...\n",
      "\u001b[32m\u001b[1m  No Changes\u001b[22m\u001b[39m to `~/Dropbox/2022/318-macro/git/Macro-318/Project.toml`\n",
      "\u001b[32m\u001b[1m  No Changes\u001b[22m\u001b[39m to `~/Dropbox/2022/318-macro/git/Macro-318/Manifest.toml`\n",
      "\u001b[32m\u001b[1m   Resolving\u001b[22m\u001b[39m package versions...\n",
      "\u001b[32m\u001b[1m  No Changes\u001b[22m\u001b[39m to `~/Dropbox/2022/318-macro/git/Macro-318/Project.toml`\n",
      "\u001b[32m\u001b[1m  No Changes\u001b[22m\u001b[39m to `~/Dropbox/2022/318-macro/git/Macro-318/Manifest.toml`\n",
      "\u001b[32m\u001b[1m   Resolving\u001b[22m\u001b[39m package versions...\n",
      "\u001b[32m\u001b[1m  No Changes\u001b[22m\u001b[39m to `~/Dropbox/2022/318-macro/git/Macro-318/Project.toml`\n",
      "\u001b[32m\u001b[1m  No Changes\u001b[22m\u001b[39m to `~/Dropbox/2022/318-macro/git/Macro-318/Manifest.toml`\n",
      "\u001b[32m\u001b[1m   Resolving\u001b[22m\u001b[39m package versions...\n",
      "\u001b[32m\u001b[1m  No Changes\u001b[22m\u001b[39m to `~/Dropbox/2022/318-macro/git/Macro-318/Project.toml`\n",
      "\u001b[32m\u001b[1m  No Changes\u001b[22m\u001b[39m to `~/Dropbox/2022/318-macro/git/Macro-318/Manifest.toml`\n",
      "\u001b[32m\u001b[1m   Resolving\u001b[22m\u001b[39m package versions...\n",
      "\u001b[32m\u001b[1m  No Changes\u001b[22m\u001b[39m to `~/Dropbox/2022/318-macro/git/Macro-318/Project.toml`\n",
      "\u001b[32m\u001b[1m  No Changes\u001b[22m\u001b[39m to `~/Dropbox/2022/318-macro/git/Macro-318/Manifest.toml`\n",
      "\u001b[32m\u001b[1m   Resolving\u001b[22m\u001b[39m package versions...\n",
      "\u001b[32m\u001b[1m  No Changes\u001b[22m\u001b[39m to `~/Dropbox/2022/318-macro/git/Macro-318/Project.toml`\n",
      "\u001b[32m\u001b[1m  No Changes\u001b[22m\u001b[39m to `~/Dropbox/2022/318-macro/git/Macro-318/Manifest.toml`\n",
      "\u001b[32m\u001b[1m   Resolving\u001b[22m\u001b[39m package versions...\n",
      "\u001b[32m\u001b[1m  No Changes\u001b[22m\u001b[39m to `~/Dropbox/2022/318-macro/git/Macro-318/Project.toml`\n",
      "\u001b[32m\u001b[1m  No Changes\u001b[22m\u001b[39m to `~/Dropbox/2022/318-macro/git/Macro-318/Manifest.toml`\n",
      "\u001b[32m\u001b[1m   Resolving\u001b[22m\u001b[39m package versions...\n",
      "\u001b[32m\u001b[1m  No Changes\u001b[22m\u001b[39m to `~/Dropbox/2022/318-macro/git/Macro-318/Project.toml`\n",
      "\u001b[32m\u001b[1m  No Changes\u001b[22m\u001b[39m to `~/Dropbox/2022/318-macro/git/Macro-318/Manifest.toml`\n",
      "\u001b[32m\u001b[1m   Resolving\u001b[22m\u001b[39m package versions...\n",
      "\u001b[32m\u001b[1m  No Changes\u001b[22m\u001b[39m to `~/Dropbox/2022/318-macro/git/Macro-318/Project.toml`\n",
      "\u001b[32m\u001b[1m  No Changes\u001b[22m\u001b[39m to `~/Dropbox/2022/318-macro/git/Macro-318/Manifest.toml`\n",
      "\u001b[32m\u001b[1m   Resolving\u001b[22m\u001b[39m package versions...\n",
      "\u001b[32m\u001b[1m  No Changes\u001b[22m\u001b[39m to `~/Dropbox/2022/318-macro/git/Macro-318/Project.toml`\n",
      "\u001b[32m\u001b[1m  No Changes\u001b[22m\u001b[39m to `~/Dropbox/2022/318-macro/git/Macro-318/Manifest.toml`\n",
      "\u001b[32m\u001b[1m   Resolving\u001b[22m\u001b[39m package versions...\n",
      "\u001b[32m\u001b[1m  No Changes\u001b[22m\u001b[39m to `~/Dropbox/2022/318-macro/git/Macro-318/Project.toml`\n",
      "\u001b[32m\u001b[1m  No Changes\u001b[22m\u001b[39m to `~/Dropbox/2022/318-macro/git/Macro-318/Manifest.toml`\n",
      "\u001b[32m\u001b[1m   Resolving\u001b[22m\u001b[39m package versions...\n",
      "\u001b[32m\u001b[1m  No Changes\u001b[22m\u001b[39m to `~/Dropbox/2022/318-macro/git/Macro-318/Project.toml`\n",
      "\u001b[32m\u001b[1m  No Changes\u001b[22m\u001b[39m to `~/Dropbox/2022/318-macro/git/Macro-318/Manifest.toml`\n",
      "\u001b[32m\u001b[1m   Resolving\u001b[22m\u001b[39m package versions...\n",
      "\u001b[32m\u001b[1m  No Changes\u001b[22m\u001b[39m to `~/Dropbox/2022/318-macro/git/Macro-318/Project.toml`\n",
      "\u001b[32m\u001b[1m  No Changes\u001b[22m\u001b[39m to `~/Dropbox/2022/318-macro/git/Macro-318/Manifest.toml`\n",
      "\u001b[32m\u001b[1m   Resolving\u001b[22m\u001b[39m package versions...\n",
      "\u001b[32m\u001b[1m  No Changes\u001b[22m\u001b[39m to `~/Dropbox/2022/318-macro/git/Macro-318/Project.toml`\n",
      "\u001b[32m\u001b[1m  No Changes\u001b[22m\u001b[39m to `~/Dropbox/2022/318-macro/git/Macro-318/Manifest.toml`\n",
      "\u001b[32m\u001b[1m   Resolving\u001b[22m\u001b[39m package versions...\n",
      "\u001b[32m\u001b[1m  No Changes\u001b[22m\u001b[39m to `~/Dropbox/2022/318-macro/git/Macro-318/Project.toml`\n",
      "\u001b[32m\u001b[1m  No Changes\u001b[22m\u001b[39m to `~/Dropbox/2022/318-macro/git/Macro-318/Manifest.toml`\n"
     ]
    }
   ],
   "source": [
    "# Packages\n",
    "import Pkg\n",
    "\n",
    "Pkg.add(\"CategoricalArrays\")\n",
    "Pkg.add(\"CSV\")\n",
    "Pkg.add(\"DataFrames\")\n",
    "Pkg.add(\"DataFramesMeta\")\n",
    "Pkg.add(\"Downloads\")\n",
    "Pkg.add(\"ForwardDiff\")\n",
    "Pkg.add(\"GLM\")\n",
    "Pkg.add(\"LinearAlgebra\")\n",
    "Pkg.add(\"Plots\")\n",
    "Pkg.add(\"Random\")\n",
    "Pkg.add(\"RDatasets\")\n",
    "Pkg.add(\"Roots\")\n",
    "Pkg.add(\"ShiftedArrays\")\n",
    "Pkg.add(\"SparseArrays\")\n",
    "Pkg.add(\"Statistics\")\n",
    "Pkg.add(\"Symbolics\")\n",
    "Pkg.add(\"Zygote\")\n",
    "\n",
    "using CategoricalArrays\n",
    "using CSV\n",
    "using DataFrames\n",
    "using DataFramesMeta\n",
    "using Downloads\n",
    "using ForwardDiff\n",
    "using GLM\n",
    "using LinearAlgebra\n",
    "using Plots\n",
    "using Random\n",
    "using RDatasets\n",
    "using Roots\n",
    "using ShiftedArrays\n",
    "using SparseArrays\n",
    "using Statistics\n",
    "using Symbolics\n",
    "using Zygote"
   ]
  },
  {
   "cell_type": "code",
   "execution_count": 3,
   "metadata": {
    "slideshow": {
     "slide_type": "skip"
    }
   },
   "outputs": [],
   "source": [
    "ENV[\"LINES\"] = 10; # set the max number of lines that will be printed\n",
    "ENV[\"COLUMNS\"] = 100; # set the max number of columns that will be printed"
   ]
  },
  {
   "cell_type": "markdown",
   "metadata": {
    "slideshow": {
     "slide_type": "slide"
    }
   },
   "source": [
    "# Packages"
   ]
  },
  {
   "cell_type": "code",
   "execution_count": null,
   "metadata": {
    "slideshow": {
     "slide_type": "fragment"
    }
   },
   "outputs": [],
   "source": [
    "# Packages for this lecture\n",
    "\n",
    "using CategoricalArrays\n",
    "using CSV\n",
    "using DataFrames\n",
    "using DataFramesMeta\n",
    "using Downloads\n",
    "using ForwardDiff\n",
    "using GLM\n",
    "using LinearAlgebra\n",
    "using Plots\n",
    "using Random\n",
    "using RDatasets\n",
    "using Roots\n",
    "using ShiftedArrays\n",
    "using SparseArrays\n",
    "using Statistics\n",
    "using Symbolics\n",
    "using Zygote"
   ]
  },
  {
   "cell_type": "markdown",
   "metadata": {
    "slideshow": {
     "slide_type": "slide"
    }
   },
   "source": [
    "# DataFrames\n",
    "\n",
    "In this section we discuss basic principles from the `DataFrames.jl` package. \n",
    "\n",
    "For the first topic we look at how to construct and access DataFrames. \n",
    "\n",
    "The fundamental object that we care about is the `DataFrame`. \n",
    "\n",
    "This is similar to a `dataframe` that you would find in R or in Pandas (Python).\n",
    "\n",
    "DataFrames are essentially matrices, with the rows being observations and the columns indicating the variables. "
   ]
  },
  {
   "cell_type": "markdown",
   "metadata": {
    "slideshow": {
     "slide_type": "slide"
    }
   },
   "source": [
    "## Constructors\n",
    "\n",
    "The easiest thing to construct is an empty DataFrame. "
   ]
  },
  {
   "cell_type": "code",
   "execution_count": 4,
   "metadata": {
    "slideshow": {
     "slide_type": "fragment"
    }
   },
   "outputs": [
    {
     "data": {
      "text/html": [
       "<div class=\"data-frame\"><p>0 rows × 0 columns</p><table class=\"data-frame\"><thead><tr><th></th></tr><tr><th></th></tr></thead><tbody></tbody></table></div>"
      ],
      "text/latex": [
       "\\begin{tabular}{r|}\n",
       "\t& \\\\\n",
       "\t\\hline\n",
       "\t& \\\\\n",
       "\t\\hline\n",
       "\\end{tabular}\n"
      ],
      "text/plain": [
       "\u001b[1m0×0 DataFrame\u001b[0m"
      ]
     },
     "execution_count": 4,
     "metadata": {},
     "output_type": "execute_result"
    }
   ],
   "source": [
    "DataFrame() # empty DataFrame"
   ]
  },
  {
   "cell_type": "markdown",
   "metadata": {
    "slideshow": {
     "slide_type": "slide"
    }
   },
   "source": [
    "## Constructors\n",
    "\n",
    "You could also construct a DataFrame with different keyword arguments. \n",
    "\n",
    "Notice the different types of the different columns. "
   ]
  },
  {
   "cell_type": "code",
   "execution_count": 5,
   "metadata": {
    "slideshow": {
     "slide_type": "fragment"
    }
   },
   "outputs": [
    {
     "data": {
      "text/html": [
       "<div class=\"data-frame\"><p>4 rows × 3 columns</p><table class=\"data-frame\"><thead><tr><th></th><th>A</th><th>B</th><th>C</th></tr><tr><th></th><th title=\"Int64\">Int64</th><th title=\"Float64\">Float64</th><th title=\"String\">String</th></tr></thead><tbody><tr><th>1</th><td>2</td><td>0.716393</td><td>Hello</td></tr><tr><th>2</th><td>3</td><td>-0.135105</td><td>Hello</td></tr><tr><th>3</th><td>4</td><td>-0.657844</td><td>Hello</td></tr><tr><th>4</th><td>5</td><td>0.924146</td><td>Hello</td></tr></tbody></table></div>"
      ],
      "text/latex": [
       "\\begin{tabular}{r|ccc}\n",
       "\t& A & B & C\\\\\n",
       "\t\\hline\n",
       "\t& Int64 & Float64 & String\\\\\n",
       "\t\\hline\n",
       "\t1 & 2 & 0.716393 & Hello \\\\\n",
       "\t2 & 3 & -0.135105 & Hello \\\\\n",
       "\t3 & 4 & -0.657844 & Hello \\\\\n",
       "\t4 & 5 & 0.924146 & Hello \\\\\n",
       "\\end{tabular}\n"
      ],
      "text/plain": [
       "\u001b[1m4×3 DataFrame\u001b[0m\n",
       "\u001b[1m Row \u001b[0m│\u001b[1m A     \u001b[0m\u001b[1m B         \u001b[0m\u001b[1m C      \u001b[0m\n",
       "\u001b[1m     \u001b[0m│\u001b[90m Int64 \u001b[0m\u001b[90m Float64   \u001b[0m\u001b[90m String \u001b[0m\n",
       "─────┼──────────────────────────\n",
       "   1 │     2   0.716393  Hello\n",
       "  ⋮  │   ⋮        ⋮        ⋮\n",
       "\u001b[36m                  3 rows omitted\u001b[0m"
      ]
     },
     "execution_count": 5,
     "metadata": {},
     "output_type": "execute_result"
    }
   ],
   "source": [
    "DataFrame(A = 2:5, B = randn(4), C = \"Hello\")"
   ]
  },
  {
   "cell_type": "markdown",
   "metadata": {
    "slideshow": {
     "slide_type": "slide"
    }
   },
   "source": [
    "## Constructors\n",
    "\n",
    "You can also create a DataFrame from a matrix, "
   ]
  },
  {
   "cell_type": "code",
   "execution_count": 6,
   "metadata": {
    "slideshow": {
     "slide_type": "fragment"
    }
   },
   "outputs": [
    {
     "data": {
      "text/html": [
       "<div class=\"data-frame\"><p>3 rows × 3 columns</p><table class=\"data-frame\"><thead><tr><th></th><th>x1</th><th>x2</th><th>x3</th></tr><tr><th></th><th title=\"Float64\">Float64</th><th title=\"Float64\">Float64</th><th title=\"Float64\">Float64</th></tr></thead><tbody><tr><th>1</th><td>0.724487</td><td>0.778178</td><td>0.210157</td></tr><tr><th>2</th><td>0.205457</td><td>0.358746</td><td>0.288093</td></tr><tr><th>3</th><td>0.653048</td><td>0.885845</td><td>0.886389</td></tr></tbody></table></div>"
      ],
      "text/latex": [
       "\\begin{tabular}{r|ccc}\n",
       "\t& x1 & x2 & x3\\\\\n",
       "\t\\hline\n",
       "\t& Float64 & Float64 & Float64\\\\\n",
       "\t\\hline\n",
       "\t1 & 0.724487 & 0.778178 & 0.210157 \\\\\n",
       "\t2 & 0.205457 & 0.358746 & 0.288093 \\\\\n",
       "\t3 & 0.653048 & 0.885845 & 0.886389 \\\\\n",
       "\\end{tabular}\n"
      ],
      "text/plain": [
       "\u001b[1m3×3 DataFrame\u001b[0m\n",
       "\u001b[1m Row \u001b[0m│\u001b[1m x1       \u001b[0m\u001b[1m x2       \u001b[0m\u001b[1m x3       \u001b[0m\n",
       "\u001b[1m     \u001b[0m│\u001b[90m Float64  \u001b[0m\u001b[90m Float64  \u001b[0m\u001b[90m Float64  \u001b[0m\n",
       "─────┼──────────────────────────────\n",
       "   1 │ 0.724487  0.778178  0.210157\n",
       "   2 │ 0.205457  0.358746  0.288093\n",
       "   3 │ 0.653048  0.885845  0.886389"
      ]
     },
     "execution_count": 6,
     "metadata": {},
     "output_type": "execute_result"
    }
   ],
   "source": [
    "x = DataFrame(rand(3, 3), :auto) # automatically assign column names with :auto"
   ]
  },
  {
   "cell_type": "markdown",
   "metadata": {
    "slideshow": {
     "slide_type": "slide"
    }
   },
   "source": [
    "## Accessing data\n",
    "\n",
    "We will often work with **large** datasets in economics."
   ]
  },
  {
   "cell_type": "code",
   "execution_count": 10,
   "metadata": {
    "slideshow": {
     "slide_type": "fragment"
    }
   },
   "outputs": [
    {
     "data": {
      "text/html": [
       "<div class=\"data-frame\"><p>1,000 rows × 10 columns</p><table class=\"data-frame\"><thead><tr><th></th><th>x1</th><th>x2</th><th>x3</th><th>x4</th><th>x5</th><th>x6</th><th>x7</th><th>x8</th><th>x9</th><th>x10</th></tr><tr><th></th><th title=\"Int64\">Int64</th><th title=\"Int64\">Int64</th><th title=\"Int64\">Int64</th><th title=\"Int64\">Int64</th><th title=\"Int64\">Int64</th><th title=\"Int64\">Int64</th><th title=\"Int64\">Int64</th><th title=\"Int64\">Int64</th><th title=\"Int64\">Int64</th><th title=\"Int64\">Int64</th></tr></thead><tbody><tr><th>1</th><td>24</td><td>22</td><td>30</td><td>25</td><td>53</td><td>50</td><td>53</td><td>55</td><td>19</td><td>5</td></tr><tr><th>2</th><td>37</td><td>59</td><td>29</td><td>65</td><td>23</td><td>100</td><td>4</td><td>50</td><td>66</td><td>46</td></tr><tr><th>3</th><td>2</td><td>45</td><td>99</td><td>53</td><td>38</td><td>80</td><td>69</td><td>10</td><td>9</td><td>52</td></tr><tr><th>4</th><td>76</td><td>33</td><td>65</td><td>100</td><td>67</td><td>87</td><td>48</td><td>18</td><td>38</td><td>87</td></tr><tr><th>5</th><td>11</td><td>29</td><td>79</td><td>41</td><td>68</td><td>25</td><td>87</td><td>34</td><td>53</td><td>18</td></tr><tr><th>6</th><td>39</td><td>67</td><td>14</td><td>66</td><td>76</td><td>64</td><td>28</td><td>49</td><td>64</td><td>62</td></tr><tr><th>7</th><td>95</td><td>24</td><td>60</td><td>35</td><td>13</td><td>37</td><td>90</td><td>69</td><td>85</td><td>94</td></tr><tr><th>8</th><td>10</td><td>47</td><td>70</td><td>61</td><td>57</td><td>60</td><td>5</td><td>50</td><td>24</td><td>75</td></tr><tr><th>9</th><td>25</td><td>25</td><td>51</td><td>73</td><td>99</td><td>75</td><td>45</td><td>70</td><td>81</td><td>67</td></tr><tr><th>10</th><td>76</td><td>13</td><td>23</td><td>45</td><td>56</td><td>43</td><td>45</td><td>63</td><td>2</td><td>35</td></tr><tr><th>&vellip;</th><td>&vellip;</td><td>&vellip;</td><td>&vellip;</td><td>&vellip;</td><td>&vellip;</td><td>&vellip;</td><td>&vellip;</td><td>&vellip;</td><td>&vellip;</td><td>&vellip;</td></tr></tbody></table></div>"
      ],
      "text/latex": [
       "\\begin{tabular}{r|cccccccccc}\n",
       "\t& x1 & x2 & x3 & x4 & x5 & x6 & x7 & x8 & x9 & x10\\\\\n",
       "\t\\hline\n",
       "\t& Int64 & Int64 & Int64 & Int64 & Int64 & Int64 & Int64 & Int64 & Int64 & Int64\\\\\n",
       "\t\\hline\n",
       "\t1 & 24 & 22 & 30 & 25 & 53 & 50 & 53 & 55 & 19 & 5 \\\\\n",
       "\t2 & 37 & 59 & 29 & 65 & 23 & 100 & 4 & 50 & 66 & 46 \\\\\n",
       "\t3 & 2 & 45 & 99 & 53 & 38 & 80 & 69 & 10 & 9 & 52 \\\\\n",
       "\t4 & 76 & 33 & 65 & 100 & 67 & 87 & 48 & 18 & 38 & 87 \\\\\n",
       "\t5 & 11 & 29 & 79 & 41 & 68 & 25 & 87 & 34 & 53 & 18 \\\\\n",
       "\t6 & 39 & 67 & 14 & 66 & 76 & 64 & 28 & 49 & 64 & 62 \\\\\n",
       "\t7 & 95 & 24 & 60 & 35 & 13 & 37 & 90 & 69 & 85 & 94 \\\\\n",
       "\t8 & 10 & 47 & 70 & 61 & 57 & 60 & 5 & 50 & 24 & 75 \\\\\n",
       "\t9 & 25 & 25 & 51 & 73 & 99 & 75 & 45 & 70 & 81 & 67 \\\\\n",
       "\t10 & 76 & 13 & 23 & 45 & 56 & 43 & 45 & 63 & 2 & 35 \\\\\n",
       "\t$\\dots$ & $\\dots$ & $\\dots$ & $\\dots$ & $\\dots$ & $\\dots$ & $\\dots$ & $\\dots$ & $\\dots$ & $\\dots$ & $\\dots$ \\\\\n",
       "\\end{tabular}\n"
      ],
      "text/plain": [
       "\u001b[1m1000×10 DataFrame\u001b[0m\n",
       "\u001b[1m  Row \u001b[0m│\u001b[1m x1    \u001b[0m\u001b[1m x2    \u001b[0m\u001b[1m x3    \u001b[0m\u001b[1m x4    \u001b[0m\u001b[1m x5    \u001b[0m\u001b[1m x6    \u001b[0m\u001b[1m x7    \u001b[0m\u001b[1m x8    \u001b[0m\u001b[1m x9    \u001b[0m\u001b[1m x10   \u001b[0m\n",
       "\u001b[1m      \u001b[0m│\u001b[90m Int64 \u001b[0m\u001b[90m Int64 \u001b[0m\u001b[90m Int64 \u001b[0m\u001b[90m Int64 \u001b[0m\u001b[90m Int64 \u001b[0m\u001b[90m Int64 \u001b[0m\u001b[90m Int64 \u001b[0m\u001b[90m Int64 \u001b[0m\u001b[90m Int64 \u001b[0m\u001b[90m Int64 \u001b[0m\n",
       "──────┼──────────────────────────────────────────────────────────────────────\n",
       "    1 │    24     22     30     25     53     50     53     55     19      5\n",
       "  ⋮   │   ⋮      ⋮      ⋮      ⋮      ⋮      ⋮      ⋮      ⋮      ⋮      ⋮\n",
       "\u001b[36m                                                             999 rows omitted\u001b[0m"
      ]
     },
     "execution_count": 10,
     "metadata": {},
     "output_type": "execute_result"
    }
   ],
   "source": [
    "y = DataFrame(rand(1:100, 1000, 10), :auto)"
   ]
  },
  {
   "cell_type": "markdown",
   "metadata": {
    "slideshow": {
     "slide_type": "slide"
    }
   },
   "source": [
    "## Accessing data\n",
    "\n",
    "We can look at the first few rows using the `first` function. "
   ]
  },
  {
   "cell_type": "code",
   "execution_count": 11,
   "metadata": {
    "slideshow": {
     "slide_type": "fragment"
    }
   },
   "outputs": [
    {
     "data": {
      "text/html": [
       "<div class=\"data-frame\"><p>5 rows × 10 columns</p><table class=\"data-frame\"><thead><tr><th></th><th>x1</th><th>x2</th><th>x3</th><th>x4</th><th>x5</th><th>x6</th><th>x7</th><th>x8</th><th>x9</th><th>x10</th></tr><tr><th></th><th title=\"Int64\">Int64</th><th title=\"Int64\">Int64</th><th title=\"Int64\">Int64</th><th title=\"Int64\">Int64</th><th title=\"Int64\">Int64</th><th title=\"Int64\">Int64</th><th title=\"Int64\">Int64</th><th title=\"Int64\">Int64</th><th title=\"Int64\">Int64</th><th title=\"Int64\">Int64</th></tr></thead><tbody><tr><th>1</th><td>24</td><td>22</td><td>30</td><td>25</td><td>53</td><td>50</td><td>53</td><td>55</td><td>19</td><td>5</td></tr><tr><th>2</th><td>37</td><td>59</td><td>29</td><td>65</td><td>23</td><td>100</td><td>4</td><td>50</td><td>66</td><td>46</td></tr><tr><th>3</th><td>2</td><td>45</td><td>99</td><td>53</td><td>38</td><td>80</td><td>69</td><td>10</td><td>9</td><td>52</td></tr><tr><th>4</th><td>76</td><td>33</td><td>65</td><td>100</td><td>67</td><td>87</td><td>48</td><td>18</td><td>38</td><td>87</td></tr><tr><th>5</th><td>11</td><td>29</td><td>79</td><td>41</td><td>68</td><td>25</td><td>87</td><td>34</td><td>53</td><td>18</td></tr></tbody></table></div>"
      ],
      "text/latex": [
       "\\begin{tabular}{r|cccccccccc}\n",
       "\t& x1 & x2 & x3 & x4 & x5 & x6 & x7 & x8 & x9 & x10\\\\\n",
       "\t\\hline\n",
       "\t& Int64 & Int64 & Int64 & Int64 & Int64 & Int64 & Int64 & Int64 & Int64 & Int64\\\\\n",
       "\t\\hline\n",
       "\t1 & 24 & 22 & 30 & 25 & 53 & 50 & 53 & 55 & 19 & 5 \\\\\n",
       "\t2 & 37 & 59 & 29 & 65 & 23 & 100 & 4 & 50 & 66 & 46 \\\\\n",
       "\t3 & 2 & 45 & 99 & 53 & 38 & 80 & 69 & 10 & 9 & 52 \\\\\n",
       "\t4 & 76 & 33 & 65 & 100 & 67 & 87 & 48 & 18 & 38 & 87 \\\\\n",
       "\t5 & 11 & 29 & 79 & 41 & 68 & 25 & 87 & 34 & 53 & 18 \\\\\n",
       "\\end{tabular}\n"
      ],
      "text/plain": [
       "\u001b[1m5×10 DataFrame\u001b[0m\n",
       "\u001b[1m Row \u001b[0m│\u001b[1m x1    \u001b[0m\u001b[1m x2    \u001b[0m\u001b[1m x3    \u001b[0m\u001b[1m x4    \u001b[0m\u001b[1m x5    \u001b[0m\u001b[1m x6    \u001b[0m\u001b[1m x7    \u001b[0m\u001b[1m x8    \u001b[0m\u001b[1m x9    \u001b[0m\u001b[1m x10   \u001b[0m\n",
       "\u001b[1m     \u001b[0m│\u001b[90m Int64 \u001b[0m\u001b[90m Int64 \u001b[0m\u001b[90m Int64 \u001b[0m\u001b[90m Int64 \u001b[0m\u001b[90m Int64 \u001b[0m\u001b[90m Int64 \u001b[0m\u001b[90m Int64 \u001b[0m\u001b[90m Int64 \u001b[0m\u001b[90m Int64 \u001b[0m\u001b[90m Int64 \u001b[0m\n",
       "─────┼──────────────────────────────────────────────────────────────────────\n",
       "   1 │    24     22     30     25     53     50     53     55     19      5\n",
       "  ⋮  │   ⋮      ⋮      ⋮      ⋮      ⋮      ⋮      ⋮      ⋮      ⋮      ⋮\n",
       "\u001b[36m                                                              4 rows omitted\u001b[0m"
      ]
     },
     "execution_count": 11,
     "metadata": {},
     "output_type": "execute_result"
    }
   ],
   "source": [
    "first(y, 5) # first 5 rows"
   ]
  },
  {
   "cell_type": "markdown",
   "metadata": {
    "slideshow": {
     "slide_type": "slide"
    }
   },
   "source": [
    "## Accessing data\n",
    "\n",
    "There are multiple ways to access particular columns of the DataFrame.\n",
    "\n",
    "The most obvious way is to to use `y.col`. \n",
    "\n",
    "Here `col` stands for the column name. \n",
    "\n",
    "This provides us the column in vector format."
   ]
  },
  {
   "cell_type": "markdown",
   "metadata": {
    "slideshow": {
     "slide_type": "slide"
    }
   },
   "source": [
    "## Accessing data"
   ]
  },
  {
   "cell_type": "code",
   "execution_count": 14,
   "metadata": {
    "slideshow": {
     "slide_type": "fragment"
    }
   },
   "outputs": [
    {
     "data": {
      "text/plain": [
       "1000-element Vector{Int64}:\n",
       " 22\n",
       " 59\n",
       " 45\n",
       "  ⋮\n",
       " 51\n",
       " 77"
      ]
     },
     "execution_count": 14,
     "metadata": {},
     "output_type": "execute_result"
    }
   ],
   "source": [
    "y.x2 # get a single column"
   ]
  },
  {
   "cell_type": "code",
   "execution_count": 15,
   "metadata": {
    "slideshow": {
     "slide_type": "fragment"
    }
   },
   "outputs": [
    {
     "data": {
      "text/plain": [
       "1000-element Vector{Int64}:\n",
       " 22\n",
       " 59\n",
       " 45\n",
       "  ⋮\n",
       " 51\n",
       " 77"
      ]
     },
     "execution_count": 15,
     "metadata": {},
     "output_type": "execute_result"
    }
   ],
   "source": [
    "y[!, :x2] # or y[!, 2] or y[:, :x2]"
   ]
  },
  {
   "cell_type": "markdown",
   "metadata": {
    "slideshow": {
     "slide_type": "slide"
    }
   },
   "source": [
    "## Accessing data\n",
    "\n",
    "You can access several columns as follows, "
   ]
  },
  {
   "cell_type": "code",
   "execution_count": 17,
   "metadata": {
    "slideshow": {
     "slide_type": "fragment"
    }
   },
   "outputs": [
    {
     "data": {
      "text/html": [
       "<div class=\"data-frame\"><p>1,000 rows × 2 columns</p><table class=\"data-frame\"><thead><tr><th></th><th>x1</th><th>x2</th></tr><tr><th></th><th title=\"Int64\">Int64</th><th title=\"Int64\">Int64</th></tr></thead><tbody><tr><th>1</th><td>24</td><td>22</td></tr><tr><th>2</th><td>37</td><td>59</td></tr><tr><th>3</th><td>2</td><td>45</td></tr><tr><th>4</th><td>76</td><td>33</td></tr><tr><th>5</th><td>11</td><td>29</td></tr><tr><th>6</th><td>39</td><td>67</td></tr><tr><th>7</th><td>95</td><td>24</td></tr><tr><th>8</th><td>10</td><td>47</td></tr><tr><th>9</th><td>25</td><td>25</td></tr><tr><th>10</th><td>76</td><td>13</td></tr><tr><th>&vellip;</th><td>&vellip;</td><td>&vellip;</td></tr></tbody></table></div>"
      ],
      "text/latex": [
       "\\begin{tabular}{r|cc}\n",
       "\t& x1 & x2\\\\\n",
       "\t\\hline\n",
       "\t& Int64 & Int64\\\\\n",
       "\t\\hline\n",
       "\t1 & 24 & 22 \\\\\n",
       "\t2 & 37 & 59 \\\\\n",
       "\t3 & 2 & 45 \\\\\n",
       "\t4 & 76 & 33 \\\\\n",
       "\t5 & 11 & 29 \\\\\n",
       "\t6 & 39 & 67 \\\\\n",
       "\t7 & 95 & 24 \\\\\n",
       "\t8 & 10 & 47 \\\\\n",
       "\t9 & 25 & 25 \\\\\n",
       "\t10 & 76 & 13 \\\\\n",
       "\t$\\dots$ & $\\dots$ & $\\dots$ \\\\\n",
       "\\end{tabular}\n"
      ],
      "text/plain": [
       "\u001b[1m1000×2 DataFrame\u001b[0m\n",
       "\u001b[1m  Row \u001b[0m│\u001b[1m x1    \u001b[0m\u001b[1m x2    \u001b[0m\n",
       "\u001b[1m      \u001b[0m│\u001b[90m Int64 \u001b[0m\u001b[90m Int64 \u001b[0m\n",
       "──────┼──────────────\n",
       "    1 │    24     22\n",
       "  ⋮   │   ⋮      ⋮\n",
       "\u001b[36m     999 rows omitted\u001b[0m"
      ]
     },
     "execution_count": 17,
     "metadata": {},
     "output_type": "execute_result"
    }
   ],
   "source": [
    "y[:, [:x1, :x2]]"
   ]
  },
  {
   "cell_type": "markdown",
   "metadata": {
    "slideshow": {
     "slide_type": "slide"
    }
   },
   "source": [
    "## Accessing data\n",
    "\n",
    "Getting rows is also quite easy,"
   ]
  },
  {
   "cell_type": "code",
   "execution_count": 18,
   "metadata": {
    "slideshow": {
     "slide_type": "fragment"
    }
   },
   "outputs": [
    {
     "data": {
      "text/html": [
       "<p>DataFrameRow (10 columns)</p><div class=\"data-frame\"><table class=\"data-frame\"><thead><tr><th></th><th>x1</th><th>x2</th><th>x3</th><th>x4</th><th>x5</th><th>x6</th><th>x7</th><th>x8</th><th>x9</th><th>x10</th></tr><tr><th></th><th title=\"Int64\">Int64</th><th title=\"Int64\">Int64</th><th title=\"Int64\">Int64</th><th title=\"Int64\">Int64</th><th title=\"Int64\">Int64</th><th title=\"Int64\">Int64</th><th title=\"Int64\">Int64</th><th title=\"Int64\">Int64</th><th title=\"Int64\">Int64</th><th title=\"Int64\">Int64</th></tr></thead><tbody><tr><th>1</th><td>24</td><td>22</td><td>30</td><td>25</td><td>53</td><td>50</td><td>53</td><td>55</td><td>19</td><td>5</td></tr></tbody></table></div>"
      ],
      "text/latex": [
       "\\begin{tabular}{r|cccccccccc}\n",
       "\t& x1 & x2 & x3 & x4 & x5 & x6 & x7 & x8 & x9 & x10\\\\\n",
       "\t\\hline\n",
       "\t& Int64 & Int64 & Int64 & Int64 & Int64 & Int64 & Int64 & Int64 & Int64 & Int64\\\\\n",
       "\t\\hline\n",
       "\t1 & 24 & 22 & 30 & 25 & 53 & 50 & 53 & 55 & 19 & 5 \\\\\n",
       "\\end{tabular}\n"
      ],
      "text/plain": [
       "\u001b[1mDataFrameRow\u001b[0m\n",
       "\u001b[1m Row \u001b[0m│\u001b[1m x1    \u001b[0m\u001b[1m x2    \u001b[0m\u001b[1m x3    \u001b[0m\u001b[1m x4    \u001b[0m\u001b[1m x5    \u001b[0m\u001b[1m x6    \u001b[0m\u001b[1m x7    \u001b[0m\u001b[1m x8    \u001b[0m\u001b[1m x9    \u001b[0m\u001b[1m x10   \u001b[0m\n",
       "\u001b[1m     \u001b[0m│\u001b[90m Int64 \u001b[0m\u001b[90m Int64 \u001b[0m\u001b[90m Int64 \u001b[0m\u001b[90m Int64 \u001b[0m\u001b[90m Int64 \u001b[0m\u001b[90m Int64 \u001b[0m\u001b[90m Int64 \u001b[0m\u001b[90m Int64 \u001b[0m\u001b[90m Int64 \u001b[0m\u001b[90m Int64 \u001b[0m\n",
       "─────┼──────────────────────────────────────────────────────────────────────\n",
       "   1 │    24     22     30     25     53     50     53     55     19      5"
      ]
     },
     "execution_count": 18,
     "metadata": {},
     "output_type": "execute_result"
    }
   ],
   "source": [
    "y[1, :]"
   ]
  },
  {
   "cell_type": "markdown",
   "metadata": {
    "slideshow": {
     "slide_type": "slide"
    }
   },
   "source": [
    "## Importing data\n",
    "\n",
    "I have created a dataset that is hosted on GitHub.\n",
    "\n",
    "Now let us download this data with Julia."
   ]
  },
  {
   "cell_type": "code",
   "execution_count": 19,
   "metadata": {
    "slideshow": {
     "slide_type": "fragment"
    }
   },
   "outputs": [
    {
     "data": {
      "text/plain": [
       "\"tut2_data.csv\""
      ]
     },
     "execution_count": 19,
     "metadata": {},
     "output_type": "execute_result"
    }
   ],
   "source": [
    "Downloads.download(\n",
    "    \"https://raw.githubusercontent.com/DawievLill/Macro-318/main/data/tut2_data.csv\", \n",
    "    \"tut2_data.csv\"\n",
    ")"
   ]
  },
  {
   "cell_type": "markdown",
   "metadata": {
    "slideshow": {
     "slide_type": "slide"
    }
   },
   "source": [
    "## Importing data\n",
    "\n",
    "Next we read the CSV file into Julia and make it a DataFrame. "
   ]
  },
  {
   "cell_type": "code",
   "execution_count": 20,
   "metadata": {
    "slideshow": {
     "slide_type": "fragment"
    }
   },
   "outputs": [
    {
     "data": {
      "text/html": [
       "<div class=\"data-frame\"><p>71 rows × 5 columns</p><table class=\"data-frame\"><thead><tr><th></th><th>date</th><th>gdp</th><th>repo</th><th>cpi</th><th>inflation</th></tr><tr><th></th><th title=\"Dates.Date\">Date</th><th title=\"Int64\">Int64</th><th title=\"Float64\">Float64</th><th title=\"Float64\">Float64</th><th title=\"Float64\">Float64</th></tr></thead><tbody><tr><th>1</th><td>2004-03-31</td><td>1571580</td><td>8.0</td><td>51.1689</td><td>-2.05565</td></tr><tr><th>2</th><td>2004-06-30</td><td>1640953</td><td>8.0</td><td>51.4474</td><td>-2.02507</td></tr><tr><th>3</th><td>2004-09-30</td><td>1674699</td><td>7.66667</td><td>51.5677</td><td>-1.00851</td></tr><tr><th>4</th><td>2004-12-31</td><td>1731000</td><td>7.5</td><td>51.8483</td><td>1.62524</td></tr><tr><th>5</th><td>2005-03-31</td><td>1768828</td><td>7.5</td><td>52.1796</td><td>1.97509</td></tr><tr><th>6</th><td>2005-06-30</td><td>1803783</td><td>7.0</td><td>52.456</td><td>1.9603</td></tr><tr><th>7</th><td>2005-09-30</td><td>1873743</td><td>7.0</td><td>52.8125</td><td>2.41398</td></tr><tr><th>8</th><td>2005-12-31</td><td>1918423</td><td>7.0</td><td>52.9391</td><td>2.10385</td></tr><tr><th>9</th><td>2006-03-31</td><td>1960150</td><td>7.0</td><td>53.243</td><td>2.03793</td></tr><tr><th>10</th><td>2006-06-30</td><td>2048534</td><td>7.16667</td><td>53.7536</td><td>2.47365</td></tr><tr><th>&vellip;</th><td>&vellip;</td><td>&vellip;</td><td>&vellip;</td><td>&vellip;</td><td>&vellip;</td></tr></tbody></table></div>"
      ],
      "text/latex": [
       "\\begin{tabular}{r|ccccc}\n",
       "\t& date & gdp & repo & cpi & inflation\\\\\n",
       "\t\\hline\n",
       "\t& Date & Int64 & Float64 & Float64 & Float64\\\\\n",
       "\t\\hline\n",
       "\t1 & 2004-03-31 & 1571580 & 8.0 & 51.1689 & -2.05565 \\\\\n",
       "\t2 & 2004-06-30 & 1640953 & 8.0 & 51.4474 & -2.02507 \\\\\n",
       "\t3 & 2004-09-30 & 1674699 & 7.66667 & 51.5677 & -1.00851 \\\\\n",
       "\t4 & 2004-12-31 & 1731000 & 7.5 & 51.8483 & 1.62524 \\\\\n",
       "\t5 & 2005-03-31 & 1768828 & 7.5 & 52.1796 & 1.97509 \\\\\n",
       "\t6 & 2005-06-30 & 1803783 & 7.0 & 52.456 & 1.9603 \\\\\n",
       "\t7 & 2005-09-30 & 1873743 & 7.0 & 52.8125 & 2.41398 \\\\\n",
       "\t8 & 2005-12-31 & 1918423 & 7.0 & 52.9391 & 2.10385 \\\\\n",
       "\t9 & 2006-03-31 & 1960150 & 7.0 & 53.243 & 2.03793 \\\\\n",
       "\t10 & 2006-06-30 & 2048534 & 7.16667 & 53.7536 & 2.47365 \\\\\n",
       "\t$\\dots$ & $\\dots$ & $\\dots$ & $\\dots$ & $\\dots$ & $\\dots$ \\\\\n",
       "\\end{tabular}\n"
      ],
      "text/plain": [
       "\u001b[1m71×5 DataFrame\u001b[0m\n",
       "\u001b[1m Row \u001b[0m│\u001b[1m date       \u001b[0m\u001b[1m gdp     \u001b[0m\u001b[1m repo    \u001b[0m\u001b[1m cpi      \u001b[0m\u001b[1m inflation \u001b[0m\n",
       "\u001b[1m     \u001b[0m│\u001b[90m Date       \u001b[0m\u001b[90m Int64   \u001b[0m\u001b[90m Float64 \u001b[0m\u001b[90m Float64  \u001b[0m\u001b[90m Float64   \u001b[0m\n",
       "─────┼───────────────────────────────────────────────────\n",
       "   1 │ 2004-03-31  1571580  8.0       51.1689   -2.05565\n",
       "  ⋮  │     ⋮          ⋮        ⋮        ⋮          ⋮\n",
       "\u001b[36m                                          70 rows omitted\u001b[0m"
      ]
     },
     "execution_count": 20,
     "metadata": {},
     "output_type": "execute_result"
    }
   ],
   "source": [
    "sa_data = DataFrame(CSV.File(\"tut2_data.csv\", dateformat = \"yyyy/mm/dd\")) # specify the date format"
   ]
  },
  {
   "cell_type": "markdown",
   "metadata": {
    "slideshow": {
     "slide_type": "slide"
    }
   },
   "source": [
    "## Plotting the data\n",
    "\n",
    "For this example we are going to look at GDP.\n",
    "\n",
    "GDP is the second column in the dataset. \n",
    "\n",
    "We can access GDP by calling the variable name.\n",
    "\n",
    "However, we can also use the fact that it is located in the second column of the table. "
   ]
  },
  {
   "cell_type": "markdown",
   "metadata": {
    "slideshow": {
     "slide_type": "slide"
    }
   },
   "source": [
    "## Plotting the data"
   ]
  },
  {
   "cell_type": "code",
   "execution_count": 21,
   "metadata": {
    "slideshow": {
     "slide_type": "fragment"
    }
   },
   "outputs": [
    {
     "data": {
      "text/plain": [
       "71-element Vector{Int64}:\n",
       " 1571580\n",
       " 1640953\n",
       " 1674699\n",
       "       ⋮\n",
       " 5632802\n",
       " 5819983"
      ]
     },
     "execution_count": 21,
     "metadata": {},
     "output_type": "execute_result"
    }
   ],
   "source": [
    "gdp = sa_data.gdp # or we could have done gdp = sa_data[!, 2]"
   ]
  },
  {
   "cell_type": "code",
   "execution_count": 22,
   "metadata": {
    "slideshow": {
     "slide_type": "fragment"
    }
   },
   "outputs": [
    {
     "data": {
      "text/plain": [
       "71-element Vector{Dates.Date}:\n",
       " 2004-03-31\n",
       " 2004-06-30\n",
       " 2004-09-30\n",
       " ⋮\n",
       " 2021-06-30\n",
       " 2021-09-30"
      ]
     },
     "execution_count": 22,
     "metadata": {},
     "output_type": "execute_result"
    }
   ],
   "source": [
    "date_sa = sa_data[!, :date] # we also want the date column for our plot"
   ]
  },
  {
   "cell_type": "markdown",
   "metadata": {
    "slideshow": {
     "slide_type": "slide"
    }
   },
   "source": [
    "## Plotting the data\n",
    "\n",
    "One popular transformation of GDP data is to take a natural logarithm.\n",
    "\n",
    "The reason for this is that differences between adjacent values in the GDP series represent growth rates once the series is \"logged\".\n",
    "\n",
    "We will get back to this point at a later stage. "
   ]
  },
  {
   "cell_type": "markdown",
   "metadata": {
    "slideshow": {
     "slide_type": "slide"
    }
   },
   "source": [
    "## Plotting the data (Log GDP)\n",
    "\n",
    "If we take a natural log of the series then the plot of GDP looks as follows. "
   ]
  },
  {
   "cell_type": "code",
   "execution_count": 27,
   "metadata": {
    "slideshow": {
     "slide_type": "fragment"
    }
   },
   "outputs": [
    {
     "data": {
      "image/svg+xml": [
       "<?xml version=\"1.0\" encoding=\"utf-8\"?>\n",
       "<svg xmlns=\"http://www.w3.org/2000/svg\" xmlns:xlink=\"http://www.w3.org/1999/xlink\" width=\"600\" height=\"400\" viewBox=\"0 0 2400 1600\">\n",
       "<defs>\n",
       "  <clipPath id=\"clip500\">\n",
       "    <rect x=\"0\" y=\"0\" width=\"2400\" height=\"1600\"/>\n",
       "  </clipPath>\n",
       "</defs>\n",
       "<path clip-path=\"url(#clip500)\" d=\"\n",
       "M0 1600 L2400 1600 L2400 0 L0 0  Z\n",
       "  \" fill=\"#ffffff\" fill-rule=\"evenodd\" fill-opacity=\"1\"/>\n",
       "<defs>\n",
       "  <clipPath id=\"clip501\">\n",
       "    <rect x=\"480\" y=\"0\" width=\"1681\" height=\"1600\"/>\n",
       "  </clipPath>\n",
       "</defs>\n",
       "<path clip-path=\"url(#clip500)\" d=\"\n",
       "M184.677 1486.45 L2352.76 1486.45 L2352.76 47.2441 L184.677 47.2441  Z\n",
       "  \" fill=\"#ffffff\" fill-rule=\"evenodd\" fill-opacity=\"1\"/>\n",
       "<defs>\n",
       "  <clipPath id=\"clip502\">\n",
       "    <rect x=\"184\" y=\"47\" width=\"2169\" height=\"1440\"/>\n",
       "  </clipPath>\n",
       "</defs>\n",
       "<polyline clip-path=\"url(#clip502)\" style=\"stroke:#000000; stroke-linecap:butt; stroke-linejoin:round; stroke-width:2; stroke-opacity:0.1; fill:none\" points=\"\n",
       "  217.239,1486.45 217.239,47.2441 \n",
       "  \"/>\n",
       "<polyline clip-path=\"url(#clip502)\" style=\"stroke:#000000; stroke-linecap:butt; stroke-linejoin:round; stroke-width:2; stroke-opacity:0.1; fill:none\" points=\"\n",
       "  801.855,1486.45 801.855,47.2441 \n",
       "  \"/>\n",
       "<polyline clip-path=\"url(#clip502)\" style=\"stroke:#000000; stroke-linecap:butt; stroke-linejoin:round; stroke-width:2; stroke-opacity:0.1; fill:none\" points=\"\n",
       "  1386.15,1486.45 1386.15,47.2441 \n",
       "  \"/>\n",
       "<polyline clip-path=\"url(#clip502)\" style=\"stroke:#000000; stroke-linecap:butt; stroke-linejoin:round; stroke-width:2; stroke-opacity:0.1; fill:none\" points=\"\n",
       "  1970.45,1486.45 1970.45,47.2441 \n",
       "  \"/>\n",
       "<polyline clip-path=\"url(#clip500)\" style=\"stroke:#000000; stroke-linecap:butt; stroke-linejoin:round; stroke-width:4; stroke-opacity:1; fill:none\" points=\"\n",
       "  184.677,1486.45 2352.76,1486.45 \n",
       "  \"/>\n",
       "<polyline clip-path=\"url(#clip500)\" style=\"stroke:#000000; stroke-linecap:butt; stroke-linejoin:round; stroke-width:4; stroke-opacity:1; fill:none\" points=\"\n",
       "  217.239,1486.45 217.239,1467.55 \n",
       "  \"/>\n",
       "<polyline clip-path=\"url(#clip500)\" style=\"stroke:#000000; stroke-linecap:butt; stroke-linejoin:round; stroke-width:4; stroke-opacity:1; fill:none\" points=\"\n",
       "  801.855,1486.45 801.855,1467.55 \n",
       "  \"/>\n",
       "<polyline clip-path=\"url(#clip500)\" style=\"stroke:#000000; stroke-linecap:butt; stroke-linejoin:round; stroke-width:4; stroke-opacity:1; fill:none\" points=\"\n",
       "  1386.15,1486.45 1386.15,1467.55 \n",
       "  \"/>\n",
       "<polyline clip-path=\"url(#clip500)\" style=\"stroke:#000000; stroke-linecap:butt; stroke-linejoin:round; stroke-width:4; stroke-opacity:1; fill:none\" points=\"\n",
       "  1970.45,1486.45 1970.45,1467.55 \n",
       "  \"/>\n",
       "<path clip-path=\"url(#clip500)\" d=\"M89.0333 1544.91 L105.353 1544.91 L105.353 1548.85 L83.4084 1548.85 L83.4084 1544.91 Q86.0704 1542.16 90.6537 1537.53 Q95.2602 1532.88 96.4407 1531.53 Q98.6861 1529.01 99.5657 1527.27 Q100.468 1525.51 100.468 1523.82 Q100.468 1521.07 98.524 1519.33 Q96.6027 1517.6 93.5009 1517.6 Q91.3019 1517.6 88.8482 1518.36 Q86.4176 1519.13 83.6399 1520.68 L83.6399 1515.95 Q86.4639 1514.82 88.9176 1514.24 Q91.3713 1513.66 93.4083 1513.66 Q98.7787 1513.66 101.973 1516.35 Q105.168 1519.03 105.168 1523.52 Q105.168 1525.65 104.357 1527.57 Q103.57 1529.47 101.464 1532.07 Q100.885 1532.74 97.7833 1535.95 Q94.6815 1539.15 89.0333 1544.91 Z\" fill=\"#000000\" fill-rule=\"evenodd\" fill-opacity=\"1\" /><path clip-path=\"url(#clip500)\" d=\"M125.167 1517.37 Q121.556 1517.37 119.728 1520.93 Q117.922 1524.47 117.922 1531.6 Q117.922 1538.71 119.728 1542.27 Q121.556 1545.82 125.167 1545.82 Q128.802 1545.82 130.607 1542.27 Q132.436 1538.71 132.436 1531.6 Q132.436 1524.47 130.607 1520.93 Q128.802 1517.37 125.167 1517.37 M125.167 1513.66 Q130.978 1513.66 134.033 1518.27 Q137.112 1522.85 137.112 1531.6 Q137.112 1540.33 134.033 1544.94 Q130.978 1549.52 125.167 1549.52 Q119.357 1549.52 116.279 1544.94 Q113.223 1540.33 113.223 1531.6 Q113.223 1522.85 116.279 1518.27 Q119.357 1513.66 125.167 1513.66 Z\" fill=\"#000000\" fill-rule=\"evenodd\" fill-opacity=\"1\" /><path clip-path=\"url(#clip500)\" d=\"M155.329 1517.37 Q151.718 1517.37 149.89 1520.93 Q148.084 1524.47 148.084 1531.6 Q148.084 1538.71 149.89 1542.27 Q151.718 1545.82 155.329 1545.82 Q158.964 1545.82 160.769 1542.27 Q162.598 1538.71 162.598 1531.6 Q162.598 1524.47 160.769 1520.93 Q158.964 1517.37 155.329 1517.37 M155.329 1513.66 Q161.139 1513.66 164.195 1518.27 Q167.274 1522.85 167.274 1531.6 Q167.274 1540.33 164.195 1544.94 Q161.139 1549.52 155.329 1549.52 Q149.519 1549.52 146.44 1544.94 Q143.385 1540.33 143.385 1531.6 Q143.385 1522.85 146.44 1518.27 Q149.519 1513.66 155.329 1513.66 Z\" fill=\"#000000\" fill-rule=\"evenodd\" fill-opacity=\"1\" /><path clip-path=\"url(#clip500)\" d=\"M188.338 1518.36 L176.533 1536.81 L188.338 1536.81 L188.338 1518.36 M187.112 1514.29 L192.991 1514.29 L192.991 1536.81 L197.922 1536.81 L197.922 1540.7 L192.991 1540.7 L192.991 1548.85 L188.338 1548.85 L188.338 1540.7 L172.737 1540.7 L172.737 1536.19 L187.112 1514.29 Z\" fill=\"#000000\" fill-rule=\"evenodd\" fill-opacity=\"1\" /><path clip-path=\"url(#clip500)\" d=\"M202.898 1533.96 L215.375 1533.96 L215.375 1537.76 L202.898 1537.76 L202.898 1533.96 Z\" fill=\"#000000\" fill-rule=\"evenodd\" fill-opacity=\"1\" /><path clip-path=\"url(#clip500)\" d=\"M232.759 1517.37 Q229.148 1517.37 227.32 1520.93 Q225.514 1524.47 225.514 1531.6 Q225.514 1538.71 227.32 1542.27 Q229.148 1545.82 232.759 1545.82 Q236.394 1545.82 238.199 1542.27 Q240.028 1538.71 240.028 1531.6 Q240.028 1524.47 238.199 1520.93 Q236.394 1517.37 232.759 1517.37 M232.759 1513.66 Q238.57 1513.66 241.625 1518.27 Q244.704 1522.85 244.704 1531.6 Q244.704 1540.33 241.625 1544.94 Q238.57 1549.52 232.759 1549.52 Q226.949 1549.52 223.871 1544.94 Q220.815 1540.33 220.815 1531.6 Q220.815 1522.85 223.871 1518.27 Q226.949 1513.66 232.759 1513.66 Z\" fill=\"#000000\" fill-rule=\"evenodd\" fill-opacity=\"1\" /><path clip-path=\"url(#clip500)\" d=\"M253.732 1544.91 L261.37 1544.91 L261.37 1518.55 L253.06 1520.21 L253.06 1515.95 L261.324 1514.29 L266 1514.29 L266 1544.91 L273.639 1544.91 L273.639 1548.85 L253.732 1548.85 L253.732 1544.91 Z\" fill=\"#000000\" fill-rule=\"evenodd\" fill-opacity=\"1\" /><path clip-path=\"url(#clip500)\" d=\"M280.329 1533.96 L292.805 1533.96 L292.805 1537.76 L280.329 1537.76 L280.329 1533.96 Z\" fill=\"#000000\" fill-rule=\"evenodd\" fill-opacity=\"1\" /><path clip-path=\"url(#clip500)\" d=\"M310.19 1517.37 Q306.578 1517.37 304.75 1520.93 Q302.944 1524.47 302.944 1531.6 Q302.944 1538.71 304.75 1542.27 Q306.578 1545.82 310.19 1545.82 Q313.824 1545.82 315.629 1542.27 Q317.458 1538.71 317.458 1531.6 Q317.458 1524.47 315.629 1520.93 Q313.824 1517.37 310.19 1517.37 M310.19 1513.66 Q316 1513.66 319.055 1518.27 Q322.134 1522.85 322.134 1531.6 Q322.134 1540.33 319.055 1544.94 Q316 1549.52 310.19 1549.52 Q304.379 1549.52 301.301 1544.94 Q298.245 1540.33 298.245 1531.6 Q298.245 1522.85 301.301 1518.27 Q304.379 1513.66 310.19 1513.66 Z\" fill=\"#000000\" fill-rule=\"evenodd\" fill-opacity=\"1\" /><path clip-path=\"url(#clip500)\" d=\"M331.162 1544.91 L338.801 1544.91 L338.801 1518.55 L330.49 1520.21 L330.49 1515.95 L338.754 1514.29 L343.43 1514.29 L343.43 1544.91 L351.069 1544.91 L351.069 1548.85 L331.162 1548.85 L331.162 1544.91 Z\" fill=\"#000000\" fill-rule=\"evenodd\" fill-opacity=\"1\" /><path clip-path=\"url(#clip500)\" d=\"M673.65 1544.91 L689.969 1544.91 L689.969 1548.85 L668.025 1548.85 L668.025 1544.91 Q670.687 1542.16 675.27 1537.53 Q679.877 1532.88 681.057 1531.53 Q683.303 1529.01 684.182 1527.27 Q685.085 1525.51 685.085 1523.82 Q685.085 1521.07 683.14 1519.33 Q681.219 1517.6 678.117 1517.6 Q675.918 1517.6 673.465 1518.36 Q671.034 1519.13 668.256 1520.68 L668.256 1515.95 Q671.08 1514.82 673.534 1514.24 Q675.988 1513.66 678.025 1513.66 Q683.395 1513.66 686.59 1516.35 Q689.784 1519.03 689.784 1523.52 Q689.784 1525.65 688.974 1527.57 Q688.187 1529.47 686.08 1532.07 Q685.502 1532.74 682.4 1535.95 Q679.298 1539.15 673.65 1544.91 Z\" fill=\"#000000\" fill-rule=\"evenodd\" fill-opacity=\"1\" /><path clip-path=\"url(#clip500)\" d=\"M709.784 1517.37 Q706.173 1517.37 704.344 1520.93 Q702.539 1524.47 702.539 1531.6 Q702.539 1538.71 704.344 1542.27 Q706.173 1545.82 709.784 1545.82 Q713.418 1545.82 715.224 1542.27 Q717.052 1538.71 717.052 1531.6 Q717.052 1524.47 715.224 1520.93 Q713.418 1517.37 709.784 1517.37 M709.784 1513.66 Q715.594 1513.66 718.65 1518.27 Q721.728 1522.85 721.728 1531.6 Q721.728 1540.33 718.65 1544.94 Q715.594 1549.52 709.784 1549.52 Q703.974 1549.52 700.895 1544.94 Q697.839 1540.33 697.839 1531.6 Q697.839 1522.85 700.895 1518.27 Q703.974 1513.66 709.784 1513.66 Z\" fill=\"#000000\" fill-rule=\"evenodd\" fill-opacity=\"1\" /><path clip-path=\"url(#clip500)\" d=\"M739.946 1517.37 Q736.335 1517.37 734.506 1520.93 Q732.7 1524.47 732.7 1531.6 Q732.7 1538.71 734.506 1542.27 Q736.335 1545.82 739.946 1545.82 Q743.58 1545.82 745.386 1542.27 Q747.214 1538.71 747.214 1531.6 Q747.214 1524.47 745.386 1520.93 Q743.58 1517.37 739.946 1517.37 M739.946 1513.66 Q745.756 1513.66 748.811 1518.27 Q751.89 1522.85 751.89 1531.6 Q751.89 1540.33 748.811 1544.94 Q745.756 1549.52 739.946 1549.52 Q734.136 1549.52 731.057 1544.94 Q728.001 1540.33 728.001 1531.6 Q728.001 1522.85 731.057 1518.27 Q734.136 1513.66 739.946 1513.66 Z\" fill=\"#000000\" fill-rule=\"evenodd\" fill-opacity=\"1\" /><path clip-path=\"url(#clip500)\" d=\"M760.247 1548.13 L760.247 1543.87 Q762.006 1544.7 763.811 1545.14 Q765.617 1545.58 767.353 1545.58 Q771.983 1545.58 774.413 1542.48 Q776.867 1539.36 777.214 1533.01 Q775.871 1535.01 773.811 1536.07 Q771.751 1537.13 769.251 1537.13 Q764.066 1537.13 761.034 1534.01 Q758.024 1530.86 758.024 1525.42 Q758.024 1520.1 761.172 1516.88 Q764.321 1513.66 769.552 1513.66 Q775.547 1513.66 778.696 1518.27 Q781.867 1522.85 781.867 1531.6 Q781.867 1539.77 777.978 1544.66 Q774.112 1549.52 767.561 1549.52 Q765.802 1549.52 763.997 1549.17 Q762.191 1548.82 760.247 1548.13 M769.552 1533.48 Q772.7 1533.48 774.529 1531.32 Q776.381 1529.17 776.381 1525.42 Q776.381 1521.7 774.529 1519.54 Q772.7 1517.37 769.552 1517.37 Q766.404 1517.37 764.552 1519.54 Q762.723 1521.7 762.723 1525.42 Q762.723 1529.17 764.552 1531.32 Q766.404 1533.48 769.552 1533.48 Z\" fill=\"#000000\" fill-rule=\"evenodd\" fill-opacity=\"1\" /><path clip-path=\"url(#clip500)\" d=\"M787.515 1533.96 L799.992 1533.96 L799.992 1537.76 L787.515 1537.76 L787.515 1533.96 Z\" fill=\"#000000\" fill-rule=\"evenodd\" fill-opacity=\"1\" /><path clip-path=\"url(#clip500)\" d=\"M817.376 1517.37 Q813.765 1517.37 811.936 1520.93 Q810.131 1524.47 810.131 1531.6 Q810.131 1538.71 811.936 1542.27 Q813.765 1545.82 817.376 1545.82 Q821.01 1545.82 822.816 1542.27 Q824.644 1538.71 824.644 1531.6 Q824.644 1524.47 822.816 1520.93 Q821.01 1517.37 817.376 1517.37 M817.376 1513.66 Q823.186 1513.66 826.242 1518.27 Q829.32 1522.85 829.32 1531.6 Q829.32 1540.33 826.242 1544.94 Q823.186 1549.52 817.376 1549.52 Q811.566 1549.52 808.487 1544.94 Q805.432 1540.33 805.432 1531.6 Q805.432 1522.85 808.487 1518.27 Q811.566 1513.66 817.376 1513.66 Z\" fill=\"#000000\" fill-rule=\"evenodd\" fill-opacity=\"1\" /><path clip-path=\"url(#clip500)\" d=\"M838.348 1544.91 L845.987 1544.91 L845.987 1518.55 L837.677 1520.21 L837.677 1515.95 L845.941 1514.29 L850.616 1514.29 L850.616 1544.91 L858.255 1544.91 L858.255 1548.85 L838.348 1548.85 L838.348 1544.91 Z\" fill=\"#000000\" fill-rule=\"evenodd\" fill-opacity=\"1\" /><path clip-path=\"url(#clip500)\" d=\"M864.945 1533.96 L877.422 1533.96 L877.422 1537.76 L864.945 1537.76 L864.945 1533.96 Z\" fill=\"#000000\" fill-rule=\"evenodd\" fill-opacity=\"1\" /><path clip-path=\"url(#clip500)\" d=\"M894.806 1517.37 Q891.195 1517.37 889.366 1520.93 Q887.561 1524.47 887.561 1531.6 Q887.561 1538.71 889.366 1542.27 Q891.195 1545.82 894.806 1545.82 Q898.44 1545.82 900.246 1542.27 Q902.075 1538.71 902.075 1531.6 Q902.075 1524.47 900.246 1520.93 Q898.44 1517.37 894.806 1517.37 M894.806 1513.66 Q900.616 1513.66 903.672 1518.27 Q906.75 1522.85 906.75 1531.6 Q906.75 1540.33 903.672 1544.94 Q900.616 1549.52 894.806 1549.52 Q888.996 1549.52 885.917 1544.94 Q882.862 1540.33 882.862 1531.6 Q882.862 1522.85 885.917 1518.27 Q888.996 1513.66 894.806 1513.66 Z\" fill=\"#000000\" fill-rule=\"evenodd\" fill-opacity=\"1\" /><path clip-path=\"url(#clip500)\" d=\"M915.778 1544.91 L923.417 1544.91 L923.417 1518.55 L915.107 1520.21 L915.107 1515.95 L923.371 1514.29 L928.047 1514.29 L928.047 1544.91 L935.685 1544.91 L935.685 1548.85 L915.778 1548.85 L915.778 1544.91 Z\" fill=\"#000000\" fill-rule=\"evenodd\" fill-opacity=\"1\" /><path clip-path=\"url(#clip500)\" d=\"M1257.95 1544.91 L1274.27 1544.91 L1274.27 1548.85 L1252.32 1548.85 L1252.32 1544.91 Q1254.98 1542.16 1259.57 1537.53 Q1264.17 1532.88 1265.35 1531.53 Q1267.6 1529.01 1268.48 1527.27 Q1269.38 1525.51 1269.38 1523.82 Q1269.38 1521.07 1267.44 1519.33 Q1265.52 1517.6 1262.41 1517.6 Q1260.21 1517.6 1257.76 1518.36 Q1255.33 1519.13 1252.55 1520.68 L1252.55 1515.95 Q1255.38 1514.82 1257.83 1514.24 Q1260.28 1513.66 1262.32 1513.66 Q1267.69 1513.66 1270.89 1516.35 Q1274.08 1519.03 1274.08 1523.52 Q1274.08 1525.65 1273.27 1527.57 Q1272.48 1529.47 1270.38 1532.07 Q1269.8 1532.74 1266.7 1535.95 Q1263.59 1539.15 1257.95 1544.91 Z\" fill=\"#000000\" fill-rule=\"evenodd\" fill-opacity=\"1\" /><path clip-path=\"url(#clip500)\" d=\"M1294.08 1517.37 Q1290.47 1517.37 1288.64 1520.93 Q1286.84 1524.47 1286.84 1531.6 Q1286.84 1538.71 1288.64 1542.27 Q1290.47 1545.82 1294.08 1545.82 Q1297.71 1545.82 1299.52 1542.27 Q1301.35 1538.71 1301.35 1531.6 Q1301.35 1524.47 1299.52 1520.93 Q1297.71 1517.37 1294.08 1517.37 M1294.08 1513.66 Q1299.89 1513.66 1302.95 1518.27 Q1306.02 1522.85 1306.02 1531.6 Q1306.02 1540.33 1302.95 1544.94 Q1299.89 1549.52 1294.08 1549.52 Q1288.27 1549.52 1285.19 1544.94 Q1282.14 1540.33 1282.14 1531.6 Q1282.14 1522.85 1285.19 1518.27 Q1288.27 1513.66 1294.08 1513.66 Z\" fill=\"#000000\" fill-rule=\"evenodd\" fill-opacity=\"1\" /><path clip-path=\"url(#clip500)\" d=\"M1315.05 1544.91 L1322.69 1544.91 L1322.69 1518.55 L1314.38 1520.21 L1314.38 1515.95 L1322.65 1514.29 L1327.32 1514.29 L1327.32 1544.91 L1334.96 1544.91 L1334.96 1548.85 L1315.05 1548.85 L1315.05 1544.91 Z\" fill=\"#000000\" fill-rule=\"evenodd\" fill-opacity=\"1\" /><path clip-path=\"url(#clip500)\" d=\"M1357.25 1518.36 L1345.45 1536.81 L1357.25 1536.81 L1357.25 1518.36 M1356.02 1514.29 L1361.9 1514.29 L1361.9 1536.81 L1366.83 1536.81 L1366.83 1540.7 L1361.9 1540.7 L1361.9 1548.85 L1357.25 1548.85 L1357.25 1540.7 L1341.65 1540.7 L1341.65 1536.19 L1356.02 1514.29 Z\" fill=\"#000000\" fill-rule=\"evenodd\" fill-opacity=\"1\" /><path clip-path=\"url(#clip500)\" d=\"M1371.81 1533.96 L1384.29 1533.96 L1384.29 1537.76 L1371.81 1537.76 L1371.81 1533.96 Z\" fill=\"#000000\" fill-rule=\"evenodd\" fill-opacity=\"1\" /><path clip-path=\"url(#clip500)\" d=\"M1401.67 1517.37 Q1398.06 1517.37 1396.23 1520.93 Q1394.43 1524.47 1394.43 1531.6 Q1394.43 1538.71 1396.23 1542.27 Q1398.06 1545.82 1401.67 1545.82 Q1405.31 1545.82 1407.11 1542.27 Q1408.94 1538.71 1408.94 1531.6 Q1408.94 1524.47 1407.11 1520.93 Q1405.31 1517.37 1401.67 1517.37 M1401.67 1513.66 Q1407.48 1513.66 1410.54 1518.27 Q1413.62 1522.85 1413.62 1531.6 Q1413.62 1540.33 1410.54 1544.94 Q1407.48 1549.52 1401.67 1549.52 Q1395.86 1549.52 1392.78 1544.94 Q1389.73 1540.33 1389.73 1531.6 Q1389.73 1522.85 1392.78 1518.27 Q1395.86 1513.66 1401.67 1513.66 Z\" fill=\"#000000\" fill-rule=\"evenodd\" fill-opacity=\"1\" /><path clip-path=\"url(#clip500)\" d=\"M1422.64 1544.91 L1430.28 1544.91 L1430.28 1518.55 L1421.97 1520.21 L1421.97 1515.95 L1430.24 1514.29 L1434.91 1514.29 L1434.91 1544.91 L1442.55 1544.91 L1442.55 1548.85 L1422.64 1548.85 L1422.64 1544.91 Z\" fill=\"#000000\" fill-rule=\"evenodd\" fill-opacity=\"1\" /><path clip-path=\"url(#clip500)\" d=\"M1449.24 1533.96 L1461.72 1533.96 L1461.72 1537.76 L1449.24 1537.76 L1449.24 1533.96 Z\" fill=\"#000000\" fill-rule=\"evenodd\" fill-opacity=\"1\" /><path clip-path=\"url(#clip500)\" d=\"M1479.1 1517.37 Q1475.49 1517.37 1473.66 1520.93 Q1471.86 1524.47 1471.86 1531.6 Q1471.86 1538.71 1473.66 1542.27 Q1475.49 1545.82 1479.1 1545.82 Q1482.74 1545.82 1484.54 1542.27 Q1486.37 1538.71 1486.37 1531.6 Q1486.37 1524.47 1484.54 1520.93 Q1482.74 1517.37 1479.1 1517.37 M1479.1 1513.66 Q1484.91 1513.66 1487.97 1518.27 Q1491.05 1522.85 1491.05 1531.6 Q1491.05 1540.33 1487.97 1544.94 Q1484.91 1549.52 1479.1 1549.52 Q1473.29 1549.52 1470.21 1544.94 Q1467.16 1540.33 1467.16 1531.6 Q1467.16 1522.85 1470.21 1518.27 Q1473.29 1513.66 1479.1 1513.66 Z\" fill=\"#000000\" fill-rule=\"evenodd\" fill-opacity=\"1\" /><path clip-path=\"url(#clip500)\" d=\"M1500.07 1544.91 L1507.71 1544.91 L1507.71 1518.55 L1499.4 1520.21 L1499.4 1515.95 L1507.67 1514.29 L1512.34 1514.29 L1512.34 1544.91 L1519.98 1544.91 L1519.98 1548.85 L1500.07 1548.85 L1500.07 1544.91 Z\" fill=\"#000000\" fill-rule=\"evenodd\" fill-opacity=\"1\" /><path clip-path=\"url(#clip500)\" d=\"M1842.24 1544.91 L1858.56 1544.91 L1858.56 1548.85 L1836.62 1548.85 L1836.62 1544.91 Q1839.28 1542.16 1843.86 1537.53 Q1848.47 1532.88 1849.65 1531.53 Q1851.9 1529.01 1852.78 1527.27 Q1853.68 1525.51 1853.68 1523.82 Q1853.68 1521.07 1851.73 1519.33 Q1849.81 1517.6 1846.71 1517.6 Q1844.51 1517.6 1842.06 1518.36 Q1839.63 1519.13 1836.85 1520.68 L1836.85 1515.95 Q1839.67 1514.82 1842.13 1514.24 Q1844.58 1513.66 1846.62 1513.66 Q1851.99 1513.66 1855.18 1516.35 Q1858.38 1519.03 1858.38 1523.52 Q1858.38 1525.65 1857.57 1527.57 Q1856.78 1529.47 1854.67 1532.07 Q1854.09 1532.74 1850.99 1535.95 Q1847.89 1539.15 1842.24 1544.91 Z\" fill=\"#000000\" fill-rule=\"evenodd\" fill-opacity=\"1\" /><path clip-path=\"url(#clip500)\" d=\"M1878.38 1517.37 Q1874.77 1517.37 1872.94 1520.93 Q1871.13 1524.47 1871.13 1531.6 Q1871.13 1538.71 1872.94 1542.27 Q1874.77 1545.82 1878.38 1545.82 Q1882.01 1545.82 1883.82 1542.27 Q1885.65 1538.71 1885.65 1531.6 Q1885.65 1524.47 1883.82 1520.93 Q1882.01 1517.37 1878.38 1517.37 M1878.38 1513.66 Q1884.19 1513.66 1887.24 1518.27 Q1890.32 1522.85 1890.32 1531.6 Q1890.32 1540.33 1887.24 1544.94 Q1884.19 1549.52 1878.38 1549.52 Q1872.57 1549.52 1869.49 1544.94 Q1866.43 1540.33 1866.43 1531.6 Q1866.43 1522.85 1869.49 1518.27 Q1872.57 1513.66 1878.38 1513.66 Z\" fill=\"#000000\" fill-rule=\"evenodd\" fill-opacity=\"1\" /><path clip-path=\"url(#clip500)\" d=\"M1899.35 1544.91 L1906.99 1544.91 L1906.99 1518.55 L1898.68 1520.21 L1898.68 1515.95 L1906.94 1514.29 L1911.62 1514.29 L1911.62 1544.91 L1919.26 1544.91 L1919.26 1548.85 L1899.35 1548.85 L1899.35 1544.91 Z\" fill=\"#000000\" fill-rule=\"evenodd\" fill-opacity=\"1\" /><path clip-path=\"url(#clip500)\" d=\"M1928.84 1548.13 L1928.84 1543.87 Q1930.6 1544.7 1932.4 1545.14 Q1934.21 1545.58 1935.95 1545.58 Q1940.58 1545.58 1943.01 1542.48 Q1945.46 1539.36 1945.81 1533.01 Q1944.46 1535.01 1942.4 1536.07 Q1940.34 1537.13 1937.84 1537.13 Q1932.66 1537.13 1929.63 1534.01 Q1926.62 1530.86 1926.62 1525.42 Q1926.62 1520.1 1929.77 1516.88 Q1932.91 1513.66 1938.15 1513.66 Q1944.14 1513.66 1947.29 1518.27 Q1950.46 1522.85 1950.46 1531.6 Q1950.46 1539.77 1946.57 1544.66 Q1942.71 1549.52 1936.15 1549.52 Q1934.4 1549.52 1932.59 1549.17 Q1930.78 1548.82 1928.84 1548.13 M1938.15 1533.48 Q1941.29 1533.48 1943.12 1531.32 Q1944.97 1529.17 1944.97 1525.42 Q1944.97 1521.7 1943.12 1519.54 Q1941.29 1517.37 1938.15 1517.37 Q1935 1517.37 1933.15 1519.54 Q1931.32 1521.7 1931.32 1525.42 Q1931.32 1529.17 1933.15 1531.32 Q1935 1533.48 1938.15 1533.48 Z\" fill=\"#000000\" fill-rule=\"evenodd\" fill-opacity=\"1\" /><path clip-path=\"url(#clip500)\" d=\"M1956.11 1533.96 L1968.58 1533.96 L1968.58 1537.76 L1956.11 1537.76 L1956.11 1533.96 Z\" fill=\"#000000\" fill-rule=\"evenodd\" fill-opacity=\"1\" /><path clip-path=\"url(#clip500)\" d=\"M1985.97 1517.37 Q1982.36 1517.37 1980.53 1520.93 Q1978.72 1524.47 1978.72 1531.6 Q1978.72 1538.71 1980.53 1542.27 Q1982.36 1545.82 1985.97 1545.82 Q1989.6 1545.82 1991.41 1542.27 Q1993.24 1538.71 1993.24 1531.6 Q1993.24 1524.47 1991.41 1520.93 Q1989.6 1517.37 1985.97 1517.37 M1985.97 1513.66 Q1991.78 1513.66 1994.83 1518.27 Q1997.91 1522.85 1997.91 1531.6 Q1997.91 1540.33 1994.83 1544.94 Q1991.78 1549.52 1985.97 1549.52 Q1980.16 1549.52 1977.08 1544.94 Q1974.02 1540.33 1974.02 1531.6 Q1974.02 1522.85 1977.08 1518.27 Q1980.16 1513.66 1985.97 1513.66 Z\" fill=\"#000000\" fill-rule=\"evenodd\" fill-opacity=\"1\" /><path clip-path=\"url(#clip500)\" d=\"M2006.94 1544.91 L2014.58 1544.91 L2014.58 1518.55 L2006.27 1520.21 L2006.27 1515.95 L2014.53 1514.29 L2019.21 1514.29 L2019.21 1544.91 L2026.85 1544.91 L2026.85 1548.85 L2006.94 1548.85 L2006.94 1544.91 Z\" fill=\"#000000\" fill-rule=\"evenodd\" fill-opacity=\"1\" /><path clip-path=\"url(#clip500)\" d=\"M2033.54 1533.96 L2046.01 1533.96 L2046.01 1537.76 L2033.54 1537.76 L2033.54 1533.96 Z\" fill=\"#000000\" fill-rule=\"evenodd\" fill-opacity=\"1\" /><path clip-path=\"url(#clip500)\" d=\"M2063.4 1517.37 Q2059.79 1517.37 2057.96 1520.93 Q2056.15 1524.47 2056.15 1531.6 Q2056.15 1538.71 2057.96 1542.27 Q2059.79 1545.82 2063.4 1545.82 Q2067.03 1545.82 2068.84 1542.27 Q2070.67 1538.71 2070.67 1531.6 Q2070.67 1524.47 2068.84 1520.93 Q2067.03 1517.37 2063.4 1517.37 M2063.4 1513.66 Q2069.21 1513.66 2072.26 1518.27 Q2075.34 1522.85 2075.34 1531.6 Q2075.34 1540.33 2072.26 1544.94 Q2069.21 1549.52 2063.4 1549.52 Q2057.59 1549.52 2054.51 1544.94 Q2051.45 1540.33 2051.45 1531.6 Q2051.45 1522.85 2054.51 1518.27 Q2057.59 1513.66 2063.4 1513.66 Z\" fill=\"#000000\" fill-rule=\"evenodd\" fill-opacity=\"1\" /><path clip-path=\"url(#clip500)\" d=\"M2084.37 1544.91 L2092.01 1544.91 L2092.01 1518.55 L2083.7 1520.21 L2083.7 1515.95 L2091.96 1514.29 L2096.64 1514.29 L2096.64 1544.91 L2104.28 1544.91 L2104.28 1548.85 L2084.37 1548.85 L2084.37 1544.91 Z\" fill=\"#000000\" fill-rule=\"evenodd\" fill-opacity=\"1\" /><polyline clip-path=\"url(#clip502)\" style=\"stroke:#000000; stroke-linecap:butt; stroke-linejoin:round; stroke-width:2; stroke-opacity:0.1; fill:none\" points=\"\n",
       "  184.677,1308.4 2352.76,1308.4 \n",
       "  \"/>\n",
       "<polyline clip-path=\"url(#clip502)\" style=\"stroke:#000000; stroke-linecap:butt; stroke-linejoin:round; stroke-width:2; stroke-opacity:0.1; fill:none\" points=\"\n",
       "  184.677,1100.99 2352.76,1100.99 \n",
       "  \"/>\n",
       "<polyline clip-path=\"url(#clip502)\" style=\"stroke:#000000; stroke-linecap:butt; stroke-linejoin:round; stroke-width:2; stroke-opacity:0.1; fill:none\" points=\"\n",
       "  184.677,893.575 2352.76,893.575 \n",
       "  \"/>\n",
       "<polyline clip-path=\"url(#clip502)\" style=\"stroke:#000000; stroke-linecap:butt; stroke-linejoin:round; stroke-width:2; stroke-opacity:0.1; fill:none\" points=\"\n",
       "  184.677,686.162 2352.76,686.162 \n",
       "  \"/>\n",
       "<polyline clip-path=\"url(#clip502)\" style=\"stroke:#000000; stroke-linecap:butt; stroke-linejoin:round; stroke-width:2; stroke-opacity:0.1; fill:none\" points=\"\n",
       "  184.677,478.75 2352.76,478.75 \n",
       "  \"/>\n",
       "<polyline clip-path=\"url(#clip502)\" style=\"stroke:#000000; stroke-linecap:butt; stroke-linejoin:round; stroke-width:2; stroke-opacity:0.1; fill:none\" points=\"\n",
       "  184.677,271.337 2352.76,271.337 \n",
       "  \"/>\n",
       "<polyline clip-path=\"url(#clip502)\" style=\"stroke:#000000; stroke-linecap:butt; stroke-linejoin:round; stroke-width:2; stroke-opacity:0.1; fill:none\" points=\"\n",
       "  184.677,63.9246 2352.76,63.9246 \n",
       "  \"/>\n",
       "<polyline clip-path=\"url(#clip500)\" style=\"stroke:#000000; stroke-linecap:butt; stroke-linejoin:round; stroke-width:4; stroke-opacity:1; fill:none\" points=\"\n",
       "  184.677,1486.45 184.677,47.2441 \n",
       "  \"/>\n",
       "<polyline clip-path=\"url(#clip500)\" style=\"stroke:#000000; stroke-linecap:butt; stroke-linejoin:round; stroke-width:4; stroke-opacity:1; fill:none\" points=\"\n",
       "  184.677,1308.4 203.574,1308.4 \n",
       "  \"/>\n",
       "<polyline clip-path=\"url(#clip500)\" style=\"stroke:#000000; stroke-linecap:butt; stroke-linejoin:round; stroke-width:4; stroke-opacity:1; fill:none\" points=\"\n",
       "  184.677,1100.99 203.574,1100.99 \n",
       "  \"/>\n",
       "<polyline clip-path=\"url(#clip500)\" style=\"stroke:#000000; stroke-linecap:butt; stroke-linejoin:round; stroke-width:4; stroke-opacity:1; fill:none\" points=\"\n",
       "  184.677,893.575 203.574,893.575 \n",
       "  \"/>\n",
       "<polyline clip-path=\"url(#clip500)\" style=\"stroke:#000000; stroke-linecap:butt; stroke-linejoin:round; stroke-width:4; stroke-opacity:1; fill:none\" points=\"\n",
       "  184.677,686.162 203.574,686.162 \n",
       "  \"/>\n",
       "<polyline clip-path=\"url(#clip500)\" style=\"stroke:#000000; stroke-linecap:butt; stroke-linejoin:round; stroke-width:4; stroke-opacity:1; fill:none\" points=\"\n",
       "  184.677,478.75 203.574,478.75 \n",
       "  \"/>\n",
       "<polyline clip-path=\"url(#clip500)\" style=\"stroke:#000000; stroke-linecap:butt; stroke-linejoin:round; stroke-width:4; stroke-opacity:1; fill:none\" points=\"\n",
       "  184.677,271.337 203.574,271.337 \n",
       "  \"/>\n",
       "<polyline clip-path=\"url(#clip500)\" style=\"stroke:#000000; stroke-linecap:butt; stroke-linejoin:round; stroke-width:4; stroke-opacity:1; fill:none\" points=\"\n",
       "  184.677,63.9246 203.574,63.9246 \n",
       "  \"/>\n",
       "<path clip-path=\"url(#clip500)\" d=\"M51.6634 1321.75 L59.3023 1321.75 L59.3023 1295.38 L50.9921 1297.05 L50.9921 1292.79 L59.256 1291.12 L63.9319 1291.12 L63.9319 1321.75 L71.5707 1321.75 L71.5707 1325.68 L51.6634 1325.68 L51.6634 1321.75 Z\" fill=\"#000000\" fill-rule=\"evenodd\" fill-opacity=\"1\" /><path clip-path=\"url(#clip500)\" d=\"M93.8623 1295.19 L82.0568 1313.64 L93.8623 1313.64 L93.8623 1295.19 M92.6354 1291.12 L98.515 1291.12 L98.515 1313.64 L103.446 1313.64 L103.446 1317.53 L98.515 1317.53 L98.515 1325.68 L93.8623 1325.68 L93.8623 1317.53 L78.2605 1317.53 L78.2605 1313.02 L92.6354 1291.12 Z\" fill=\"#000000\" fill-rule=\"evenodd\" fill-opacity=\"1\" /><path clip-path=\"url(#clip500)\" d=\"M111.177 1319.8 L116.061 1319.8 L116.061 1325.68 L111.177 1325.68 L111.177 1319.8 Z\" fill=\"#000000\" fill-rule=\"evenodd\" fill-opacity=\"1\" /><path clip-path=\"url(#clip500)\" d=\"M139.094 1295.19 L127.288 1313.64 L139.094 1313.64 L139.094 1295.19 M137.867 1291.12 L143.746 1291.12 L143.746 1313.64 L148.677 1313.64 L148.677 1317.53 L143.746 1317.53 L143.746 1325.68 L139.094 1325.68 L139.094 1317.53 L123.492 1317.53 L123.492 1313.02 L137.867 1291.12 Z\" fill=\"#000000\" fill-rule=\"evenodd\" fill-opacity=\"1\" /><path clip-path=\"url(#clip500)\" d=\"M51.9875 1114.33 L59.6263 1114.33 L59.6263 1087.97 L51.3162 1089.63 L51.3162 1085.37 L59.58 1083.71 L64.2559 1083.71 L64.2559 1114.33 L71.8948 1114.33 L71.8948 1118.27 L51.9875 1118.27 L51.9875 1114.33 Z\" fill=\"#000000\" fill-rule=\"evenodd\" fill-opacity=\"1\" /><path clip-path=\"url(#clip500)\" d=\"M94.1863 1087.78 L82.3808 1106.23 L94.1863 1106.23 L94.1863 1087.78 M92.9595 1083.71 L98.8391 1083.71 L98.8391 1106.23 L103.77 1106.23 L103.77 1110.12 L98.8391 1110.12 L98.8391 1118.27 L94.1863 1118.27 L94.1863 1110.12 L78.5846 1110.12 L78.5846 1105.61 L92.9595 1083.71 Z\" fill=\"#000000\" fill-rule=\"evenodd\" fill-opacity=\"1\" /><path clip-path=\"url(#clip500)\" d=\"M111.501 1112.39 L116.385 1112.39 L116.385 1118.27 L111.501 1118.27 L111.501 1112.39 Z\" fill=\"#000000\" fill-rule=\"evenodd\" fill-opacity=\"1\" /><path clip-path=\"url(#clip500)\" d=\"M137.149 1099.12 Q134.001 1099.12 132.149 1101.28 Q130.32 1103.43 130.32 1107.18 Q130.32 1110.91 132.149 1113.08 Q134.001 1115.24 137.149 1115.24 Q140.297 1115.24 142.126 1113.08 Q143.978 1110.91 143.978 1107.18 Q143.978 1103.43 142.126 1101.28 Q140.297 1099.12 137.149 1099.12 M146.431 1084.47 L146.431 1088.73 Q144.672 1087.9 142.867 1087.46 Q141.084 1087.02 139.325 1087.02 Q134.695 1087.02 132.242 1090.14 Q129.811 1093.27 129.464 1099.59 Q130.83 1097.57 132.89 1096.51 Q134.95 1095.42 137.427 1095.42 Q142.635 1095.42 145.644 1098.59 Q148.677 1101.74 148.677 1107.18 Q148.677 1112.5 145.529 1115.72 Q142.381 1118.94 137.149 1118.94 Q131.154 1118.94 127.982 1114.36 Q124.811 1109.75 124.811 1101.02 Q124.811 1092.83 128.7 1087.97 Q132.589 1083.08 139.14 1083.08 Q140.899 1083.08 142.681 1083.43 Q144.487 1083.78 146.431 1084.47 Z\" fill=\"#000000\" fill-rule=\"evenodd\" fill-opacity=\"1\" /><path clip-path=\"url(#clip500)\" d=\"M52.2421 906.92 L59.881 906.92 L59.881 880.554 L51.5708 882.221 L51.5708 877.962 L59.8347 876.295 L64.5106 876.295 L64.5106 906.92 L72.1494 906.92 L72.1494 910.855 L52.2421 910.855 L52.2421 906.92 Z\" fill=\"#000000\" fill-rule=\"evenodd\" fill-opacity=\"1\" /><path clip-path=\"url(#clip500)\" d=\"M94.441 880.369 L82.6355 898.818 L94.441 898.818 L94.441 880.369 M93.2141 876.295 L99.0937 876.295 L99.0937 898.818 L104.024 898.818 L104.024 902.707 L99.0937 902.707 L99.0937 910.855 L94.441 910.855 L94.441 902.707 L78.8392 902.707 L78.8392 898.193 L93.2141 876.295 Z\" fill=\"#000000\" fill-rule=\"evenodd\" fill-opacity=\"1\" /><path clip-path=\"url(#clip500)\" d=\"M111.756 904.975 L116.64 904.975 L116.64 910.855 L111.756 910.855 L111.756 904.975 Z\" fill=\"#000000\" fill-rule=\"evenodd\" fill-opacity=\"1\" /><path clip-path=\"url(#clip500)\" d=\"M136.825 894.443 Q133.492 894.443 131.57 896.226 Q129.672 898.008 129.672 901.133 Q129.672 904.258 131.57 906.04 Q133.492 907.823 136.825 907.823 Q140.158 907.823 142.08 906.04 Q144.001 904.235 144.001 901.133 Q144.001 898.008 142.08 896.226 Q140.181 894.443 136.825 894.443 M132.149 892.452 Q129.14 891.712 127.45 889.651 Q125.783 887.591 125.783 884.628 Q125.783 880.485 128.723 878.077 Q131.686 875.67 136.825 875.67 Q141.987 875.67 144.927 878.077 Q147.867 880.485 147.867 884.628 Q147.867 887.591 146.177 889.651 Q144.51 891.712 141.524 892.452 Q144.904 893.239 146.779 895.531 Q148.677 897.823 148.677 901.133 Q148.677 906.156 145.598 908.841 Q142.543 911.526 136.825 911.526 Q131.107 911.526 128.029 908.841 Q124.973 906.156 124.973 901.133 Q124.973 897.823 126.871 895.531 Q128.769 893.239 132.149 892.452 M130.436 885.068 Q130.436 887.753 132.103 889.258 Q133.793 890.763 136.825 890.763 Q139.834 890.763 141.524 889.258 Q143.237 887.753 143.237 885.068 Q143.237 882.383 141.524 880.878 Q139.834 879.374 136.825 879.374 Q133.793 879.374 132.103 880.878 Q130.436 882.383 130.436 885.068 Z\" fill=\"#000000\" fill-rule=\"evenodd\" fill-opacity=\"1\" /><path clip-path=\"url(#clip500)\" d=\"M52.1495 699.507 L59.7884 699.507 L59.7884 673.142 L51.4782 674.808 L51.4782 670.549 L59.7421 668.882 L64.418 668.882 L64.418 699.507 L72.0568 699.507 L72.0568 703.442 L52.1495 703.442 L52.1495 699.507 Z\" fill=\"#000000\" fill-rule=\"evenodd\" fill-opacity=\"1\" /><path clip-path=\"url(#clip500)\" d=\"M81.5475 668.882 L99.9039 668.882 L99.9039 672.818 L85.8299 672.818 L85.8299 681.29 Q86.8484 680.943 87.8669 680.781 Q88.8854 680.595 89.904 680.595 Q95.691 680.595 99.0706 683.767 Q102.45 686.938 102.45 692.355 Q102.45 697.933 98.978 701.035 Q95.5058 704.114 89.1864 704.114 Q87.0105 704.114 84.7419 703.743 Q82.4966 703.373 80.0892 702.632 L80.0892 697.933 Q82.1725 699.067 84.3947 699.623 Q86.6169 700.179 89.0938 700.179 Q93.0984 700.179 95.4363 698.072 Q97.7743 695.966 97.7743 692.355 Q97.7743 688.743 95.4363 686.637 Q93.0984 684.531 89.0938 684.531 Q87.2188 684.531 85.3438 684.947 Q83.492 685.364 81.5475 686.243 L81.5475 668.882 Z\" fill=\"#000000\" fill-rule=\"evenodd\" fill-opacity=\"1\" /><path clip-path=\"url(#clip500)\" d=\"M111.663 697.563 L116.547 697.563 L116.547 703.442 L111.663 703.442 L111.663 697.563 Z\" fill=\"#000000\" fill-rule=\"evenodd\" fill-opacity=\"1\" /><path clip-path=\"url(#clip500)\" d=\"M136.732 671.961 Q133.121 671.961 131.293 675.526 Q129.487 679.068 129.487 686.197 Q129.487 693.304 131.293 696.868 Q133.121 700.41 136.732 700.41 Q140.367 700.41 142.172 696.868 Q144.001 693.304 144.001 686.197 Q144.001 679.068 142.172 675.526 Q140.367 671.961 136.732 671.961 M136.732 668.257 Q142.543 668.257 145.598 672.864 Q148.677 677.447 148.677 686.197 Q148.677 694.924 145.598 699.53 Q142.543 704.114 136.732 704.114 Q130.922 704.114 127.844 699.53 Q124.788 694.924 124.788 686.197 Q124.788 677.447 127.844 672.864 Q130.922 668.257 136.732 668.257 Z\" fill=\"#000000\" fill-rule=\"evenodd\" fill-opacity=\"1\" /><path clip-path=\"url(#clip500)\" d=\"M53.7467 492.095 L61.3856 492.095 L61.3856 465.729 L53.0754 467.396 L53.0754 463.136 L61.3393 461.47 L66.0152 461.47 L66.0152 492.095 L73.654 492.095 L73.654 496.03 L53.7467 496.03 L53.7467 492.095 Z\" fill=\"#000000\" fill-rule=\"evenodd\" fill-opacity=\"1\" /><path clip-path=\"url(#clip500)\" d=\"M83.1447 461.47 L101.501 461.47 L101.501 465.405 L87.4271 465.405 L87.4271 473.877 Q88.4456 473.53 89.4641 473.368 Q90.4827 473.183 91.5012 473.183 Q97.2882 473.183 100.668 476.354 Q104.047 479.525 104.047 484.942 Q104.047 490.521 100.575 493.622 Q97.103 496.701 90.7836 496.701 Q88.6077 496.701 86.3392 496.331 Q84.0938 495.96 81.6864 495.22 L81.6864 490.521 Q83.7697 491.655 85.9919 492.21 Q88.2141 492.766 90.691 492.766 Q94.6956 492.766 97.0335 490.659 Q99.3715 488.553 99.3715 484.942 Q99.3715 481.331 97.0335 479.224 Q94.6956 477.118 90.691 477.118 Q88.816 477.118 86.941 477.535 Q85.0892 477.951 83.1447 478.831 L83.1447 461.47 Z\" fill=\"#000000\" fill-rule=\"evenodd\" fill-opacity=\"1\" /><path clip-path=\"url(#clip500)\" d=\"M113.26 490.15 L118.145 490.15 L118.145 496.03 L113.26 496.03 L113.26 490.15 Z\" fill=\"#000000\" fill-rule=\"evenodd\" fill-opacity=\"1\" /><path clip-path=\"url(#clip500)\" d=\"M132.357 492.095 L148.677 492.095 L148.677 496.03 L126.732 496.03 L126.732 492.095 Q129.394 489.34 133.978 484.71 Q138.584 480.058 139.765 478.715 Q142.01 476.192 142.89 474.456 Q143.793 472.697 143.793 471.007 Q143.793 468.252 141.848 466.516 Q139.927 464.78 136.825 464.78 Q134.626 464.78 132.172 465.544 Q129.742 466.308 126.964 467.859 L126.964 463.136 Q129.788 462.002 132.242 461.424 Q134.695 460.845 136.732 460.845 Q142.103 460.845 145.297 463.53 Q148.492 466.215 148.492 470.706 Q148.492 472.836 147.681 474.757 Q146.894 476.655 144.788 479.248 Q144.209 479.919 141.107 483.136 Q138.006 486.331 132.357 492.095 Z\" fill=\"#000000\" fill-rule=\"evenodd\" fill-opacity=\"1\" /><path clip-path=\"url(#clip500)\" d=\"M51.6634 284.682 L59.3023 284.682 L59.3023 258.316 L50.9921 259.983 L50.9921 255.724 L59.256 254.057 L63.9319 254.057 L63.9319 284.682 L71.5707 284.682 L71.5707 288.617 L51.6634 288.617 L51.6634 284.682 Z\" fill=\"#000000\" fill-rule=\"evenodd\" fill-opacity=\"1\" /><path clip-path=\"url(#clip500)\" d=\"M81.0614 254.057 L99.4178 254.057 L99.4178 257.992 L85.3438 257.992 L85.3438 266.465 Q86.3623 266.117 87.3808 265.955 Q88.3993 265.77 89.4178 265.77 Q95.2049 265.77 98.5845 268.941 Q101.964 272.113 101.964 277.529 Q101.964 283.108 98.4919 286.21 Q95.0197 289.289 88.7003 289.289 Q86.5243 289.289 84.2558 288.918 Q82.0105 288.548 79.6031 287.807 L79.6031 283.108 Q81.6864 284.242 83.9086 284.798 Q86.1308 285.353 88.6077 285.353 Q92.6123 285.353 94.9502 283.247 Q97.2882 281.14 97.2882 277.529 Q97.2882 273.918 94.9502 271.812 Q92.6123 269.705 88.6077 269.705 Q86.7327 269.705 84.8577 270.122 Q83.0058 270.539 81.0614 271.418 L81.0614 254.057 Z\" fill=\"#000000\" fill-rule=\"evenodd\" fill-opacity=\"1\" /><path clip-path=\"url(#clip500)\" d=\"M111.177 282.738 L116.061 282.738 L116.061 288.617 L111.177 288.617 L111.177 282.738 Z\" fill=\"#000000\" fill-rule=\"evenodd\" fill-opacity=\"1\" /><path clip-path=\"url(#clip500)\" d=\"M139.094 258.131 L127.288 276.58 L139.094 276.58 L139.094 258.131 M137.867 254.057 L143.746 254.057 L143.746 276.58 L148.677 276.58 L148.677 280.469 L143.746 280.469 L143.746 288.617 L139.094 288.617 L139.094 280.469 L123.492 280.469 L123.492 275.955 L137.867 254.057 Z\" fill=\"#000000\" fill-rule=\"evenodd\" fill-opacity=\"1\" /><path clip-path=\"url(#clip500)\" d=\"M51.9875 77.2694 L59.6263 77.2694 L59.6263 50.9038 L51.3162 52.5705 L51.3162 48.3113 L59.58 46.6446 L64.2559 46.6446 L64.2559 77.2694 L71.8948 77.2694 L71.8948 81.2046 L51.9875 81.2046 L51.9875 77.2694 Z\" fill=\"#000000\" fill-rule=\"evenodd\" fill-opacity=\"1\" /><path clip-path=\"url(#clip500)\" d=\"M81.3855 46.6446 L99.7419 46.6446 L99.7419 50.5798 L85.6679 50.5798 L85.6679 59.0519 Q86.6864 58.7047 87.7049 58.5427 Q88.7234 58.3575 89.7419 58.3575 Q95.5289 58.3575 98.9085 61.5288 Q102.288 64.7001 102.288 70.1167 Q102.288 75.6954 98.8159 78.7972 Q95.3437 81.8759 89.0243 81.8759 Q86.8484 81.8759 84.5799 81.5055 Q82.3346 81.1352 79.9272 80.3944 L79.9272 75.6954 Q82.0105 76.8296 84.2327 77.3852 Q86.4549 77.9407 88.9317 77.9407 Q92.9363 77.9407 95.2743 75.8343 Q97.6122 73.7278 97.6122 70.1167 Q97.6122 66.5056 95.2743 64.3991 Q92.9363 62.2927 88.9317 62.2927 Q87.0567 62.2927 85.1818 62.7093 Q83.3299 63.126 81.3855 64.0056 L81.3855 46.6446 Z\" fill=\"#000000\" fill-rule=\"evenodd\" fill-opacity=\"1\" /><path clip-path=\"url(#clip500)\" d=\"M111.501 75.325 L116.385 75.325 L116.385 81.2046 L111.501 81.2046 L111.501 75.325 Z\" fill=\"#000000\" fill-rule=\"evenodd\" fill-opacity=\"1\" /><path clip-path=\"url(#clip500)\" d=\"M137.149 62.0612 Q134.001 62.0612 132.149 64.214 Q130.32 66.3667 130.32 70.1167 Q130.32 73.8435 132.149 76.0194 Q134.001 78.1722 137.149 78.1722 Q140.297 78.1722 142.126 76.0194 Q143.978 73.8435 143.978 70.1167 Q143.978 66.3667 142.126 64.214 Q140.297 62.0612 137.149 62.0612 M146.431 47.4085 L146.431 51.6677 Q144.672 50.8344 142.867 50.3946 Q141.084 49.9548 139.325 49.9548 Q134.695 49.9548 132.242 53.0798 Q129.811 56.2047 129.464 62.5241 Q130.83 60.5103 132.89 59.4455 Q134.95 58.3575 137.427 58.3575 Q142.635 58.3575 145.644 61.5288 Q148.677 64.6769 148.677 70.1167 Q148.677 75.4407 145.529 78.6583 Q142.381 81.8759 137.149 81.8759 Q131.154 81.8759 127.982 77.2926 Q124.811 72.6861 124.811 63.9593 Q124.811 55.7649 128.7 50.9038 Q132.589 46.0196 139.14 46.0196 Q140.899 46.0196 142.681 46.3668 Q144.487 46.714 146.431 47.4085 Z\" fill=\"#000000\" fill-rule=\"evenodd\" fill-opacity=\"1\" /><polyline clip-path=\"url(#clip502)\" style=\"stroke:#0000ff; stroke-linecap:butt; stroke-linejoin:round; stroke-width:8; stroke-opacity:0.8; fill:none\" points=\"\n",
       "  246.038,1445.72 275.156,1400.92 304.595,1379.81 334.034,1345.52 362.833,1323.1 391.952,1302.8 421.39,1263.34 450.829,1238.9 479.628,1216.59 508.747,1170.85 \n",
       "  538.186,1135.28 567.625,1082.35 596.423,1064.08 625.542,1028.1 654.981,999.751 684.42,980.012 713.539,935.742 742.658,910.49 772.096,875.645 801.535,894.711 \n",
       "  830.334,868.285 859.453,872.024 888.892,844.703 918.33,826.995 947.129,797.498 976.248,771.754 1005.69,757.011 1035.13,747.548 1063.92,713.768 1093.04,691.793 \n",
       "  1122.48,666.115 1151.92,633.362 1181.04,616.417 1210.16,589.981 1239.6,570.451 1269.04,553.927 1297.84,525.569 1326.95,494.232 1356.39,471.919 1385.83,468.434 \n",
       "  1414.63,443.265 1443.75,431.606 1473.19,420.493 1502.63,414.13 1531.43,382.936 1560.54,376.449 1589.98,353.082 1619.42,327.482 1648.54,316.296 1677.66,310.358 \n",
       "  1707.1,291.524 1736.54,287.158 1765.34,265.529 1794.46,249.069 1823.89,235.944 1853.33,215.336 1882.13,206.071 1911.25,192.704 1940.69,161.274 1970.13,155.606 \n",
       "  1998.93,162.658 2028.05,127.247 2057.48,120.322 2086.92,120.591 2116.04,133.153 2145.16,295.098 2174.6,203.801 2204.04,134.818 2232.84,121.637 2261.96,121.878 \n",
       "  2291.4,87.9763 \n",
       "  \"/>\n",
       "</svg>\n"
      ]
     },
     "execution_count": 27,
     "metadata": {},
     "output_type": "execute_result"
    }
   ],
   "source": [
    "plot(date_sa, log.(gdp), legend = false, lw = 2, color = :blue, alpha = 0.8)"
   ]
  },
  {
   "cell_type": "markdown",
   "metadata": {
    "slideshow": {
     "slide_type": "slide"
    }
   },
   "source": [
    "## Plotting the data (inflation)"
   ]
  },
  {
   "cell_type": "code",
   "execution_count": 43,
   "metadata": {
    "slideshow": {
     "slide_type": "fragment"
    }
   },
   "outputs": [
    {
     "data": {
      "image/svg+xml": [
       "<?xml version=\"1.0\" encoding=\"utf-8\"?>\n",
       "<svg xmlns=\"http://www.w3.org/2000/svg\" xmlns:xlink=\"http://www.w3.org/1999/xlink\" width=\"600\" height=\"400\" viewBox=\"0 0 2400 1600\">\n",
       "<defs>\n",
       "  <clipPath id=\"clip940\">\n",
       "    <rect x=\"0\" y=\"0\" width=\"2400\" height=\"1600\"/>\n",
       "  </clipPath>\n",
       "</defs>\n",
       "<path clip-path=\"url(#clip940)\" d=\"\n",
       "M0 1600 L2400 1600 L2400 0 L0 0  Z\n",
       "  \" fill=\"#ffffff\" fill-rule=\"evenodd\" fill-opacity=\"1\"/>\n",
       "<defs>\n",
       "  <clipPath id=\"clip941\">\n",
       "    <rect x=\"480\" y=\"0\" width=\"1681\" height=\"1600\"/>\n",
       "  </clipPath>\n",
       "</defs>\n",
       "<path clip-path=\"url(#clip940)\" d=\"\n",
       "M184.191 1486.45 L2352.76 1486.45 L2352.76 47.2441 L184.191 47.2441  Z\n",
       "  \" fill=\"#ffffff\" fill-rule=\"evenodd\" fill-opacity=\"1\"/>\n",
       "<defs>\n",
       "  <clipPath id=\"clip942\">\n",
       "    <rect x=\"184\" y=\"47\" width=\"2170\" height=\"1440\"/>\n",
       "  </clipPath>\n",
       "</defs>\n",
       "<polyline clip-path=\"url(#clip942)\" style=\"stroke:#000000; stroke-linecap:butt; stroke-linejoin:round; stroke-width:2; stroke-opacity:0.1; fill:none\" points=\"\n",
       "  216.76,1486.45 216.76,47.2441 \n",
       "  \"/>\n",
       "<polyline clip-path=\"url(#clip942)\" style=\"stroke:#000000; stroke-linecap:butt; stroke-linejoin:round; stroke-width:2; stroke-opacity:0.1; fill:none\" points=\"\n",
       "  801.507,1486.45 801.507,47.2441 \n",
       "  \"/>\n",
       "<polyline clip-path=\"url(#clip942)\" style=\"stroke:#000000; stroke-linecap:butt; stroke-linejoin:round; stroke-width:2; stroke-opacity:0.1; fill:none\" points=\"\n",
       "  1385.93,1486.45 1385.93,47.2441 \n",
       "  \"/>\n",
       "<polyline clip-path=\"url(#clip942)\" style=\"stroke:#000000; stroke-linecap:butt; stroke-linejoin:round; stroke-width:2; stroke-opacity:0.1; fill:none\" points=\"\n",
       "  1970.36,1486.45 1970.36,47.2441 \n",
       "  \"/>\n",
       "<polyline clip-path=\"url(#clip940)\" style=\"stroke:#000000; stroke-linecap:butt; stroke-linejoin:round; stroke-width:4; stroke-opacity:1; fill:none\" points=\"\n",
       "  184.191,1486.45 2352.76,1486.45 \n",
       "  \"/>\n",
       "<polyline clip-path=\"url(#clip940)\" style=\"stroke:#000000; stroke-linecap:butt; stroke-linejoin:round; stroke-width:4; stroke-opacity:1; fill:none\" points=\"\n",
       "  216.76,1486.45 216.76,1467.55 \n",
       "  \"/>\n",
       "<polyline clip-path=\"url(#clip940)\" style=\"stroke:#000000; stroke-linecap:butt; stroke-linejoin:round; stroke-width:4; stroke-opacity:1; fill:none\" points=\"\n",
       "  801.507,1486.45 801.507,1467.55 \n",
       "  \"/>\n",
       "<polyline clip-path=\"url(#clip940)\" style=\"stroke:#000000; stroke-linecap:butt; stroke-linejoin:round; stroke-width:4; stroke-opacity:1; fill:none\" points=\"\n",
       "  1385.93,1486.45 1385.93,1467.55 \n",
       "  \"/>\n",
       "<polyline clip-path=\"url(#clip940)\" style=\"stroke:#000000; stroke-linecap:butt; stroke-linejoin:round; stroke-width:4; stroke-opacity:1; fill:none\" points=\"\n",
       "  1970.36,1486.45 1970.36,1467.55 \n",
       "  \"/>\n",
       "<path clip-path=\"url(#clip940)\" d=\"M88.5545 1544.91 L104.874 1544.91 L104.874 1548.85 L82.9296 1548.85 L82.9296 1544.91 Q85.5916 1542.16 90.1749 1537.53 Q94.7814 1532.88 95.9619 1531.53 Q98.2073 1529.01 99.0869 1527.27 Q99.9897 1525.51 99.9897 1523.82 Q99.9897 1521.07 98.0452 1519.33 Q96.1239 1517.6 93.0221 1517.6 Q90.823 1517.6 88.3694 1518.36 Q85.9388 1519.13 83.161 1520.68 L83.161 1515.95 Q85.9851 1514.82 88.4388 1514.24 Q90.8925 1513.66 92.9295 1513.66 Q98.2999 1513.66 101.494 1516.35 Q104.689 1519.03 104.689 1523.52 Q104.689 1525.65 103.879 1527.57 Q103.091 1529.47 100.985 1532.07 Q100.406 1532.74 97.3045 1535.95 Q94.2027 1539.15 88.5545 1544.91 Z\" fill=\"#000000\" fill-rule=\"evenodd\" fill-opacity=\"1\" /><path clip-path=\"url(#clip940)\" d=\"M124.689 1517.37 Q121.078 1517.37 119.249 1520.93 Q117.443 1524.47 117.443 1531.6 Q117.443 1538.71 119.249 1542.27 Q121.078 1545.82 124.689 1545.82 Q128.323 1545.82 130.128 1542.27 Q131.957 1538.71 131.957 1531.6 Q131.957 1524.47 130.128 1520.93 Q128.323 1517.37 124.689 1517.37 M124.689 1513.66 Q130.499 1513.66 133.554 1518.27 Q136.633 1522.85 136.633 1531.6 Q136.633 1540.33 133.554 1544.94 Q130.499 1549.52 124.689 1549.52 Q118.878 1549.52 115.8 1544.94 Q112.744 1540.33 112.744 1531.6 Q112.744 1522.85 115.8 1518.27 Q118.878 1513.66 124.689 1513.66 Z\" fill=\"#000000\" fill-rule=\"evenodd\" fill-opacity=\"1\" /><path clip-path=\"url(#clip940)\" d=\"M154.85 1517.37 Q151.239 1517.37 149.411 1520.93 Q147.605 1524.47 147.605 1531.6 Q147.605 1538.71 149.411 1542.27 Q151.239 1545.82 154.85 1545.82 Q158.485 1545.82 160.29 1542.27 Q162.119 1538.71 162.119 1531.6 Q162.119 1524.47 160.29 1520.93 Q158.485 1517.37 154.85 1517.37 M154.85 1513.66 Q160.661 1513.66 163.716 1518.27 Q166.795 1522.85 166.795 1531.6 Q166.795 1540.33 163.716 1544.94 Q160.661 1549.52 154.85 1549.52 Q149.04 1549.52 145.962 1544.94 Q142.906 1540.33 142.906 1531.6 Q142.906 1522.85 145.962 1518.27 Q149.04 1513.66 154.85 1513.66 Z\" fill=\"#000000\" fill-rule=\"evenodd\" fill-opacity=\"1\" /><path clip-path=\"url(#clip940)\" d=\"M187.86 1518.36 L176.054 1536.81 L187.86 1536.81 L187.86 1518.36 M186.633 1514.29 L192.512 1514.29 L192.512 1536.81 L197.443 1536.81 L197.443 1540.7 L192.512 1540.7 L192.512 1548.85 L187.86 1548.85 L187.86 1540.7 L172.258 1540.7 L172.258 1536.19 L186.633 1514.29 Z\" fill=\"#000000\" fill-rule=\"evenodd\" fill-opacity=\"1\" /><path clip-path=\"url(#clip940)\" d=\"M202.42 1533.96 L214.896 1533.96 L214.896 1537.76 L202.42 1537.76 L202.42 1533.96 Z\" fill=\"#000000\" fill-rule=\"evenodd\" fill-opacity=\"1\" /><path clip-path=\"url(#clip940)\" d=\"M232.281 1517.37 Q228.67 1517.37 226.841 1520.93 Q225.035 1524.47 225.035 1531.6 Q225.035 1538.71 226.841 1542.27 Q228.67 1545.82 232.281 1545.82 Q235.915 1545.82 237.72 1542.27 Q239.549 1538.71 239.549 1531.6 Q239.549 1524.47 237.72 1520.93 Q235.915 1517.37 232.281 1517.37 M232.281 1513.66 Q238.091 1513.66 241.146 1518.27 Q244.225 1522.85 244.225 1531.6 Q244.225 1540.33 241.146 1544.94 Q238.091 1549.52 232.281 1549.52 Q226.47 1549.52 223.392 1544.94 Q220.336 1540.33 220.336 1531.6 Q220.336 1522.85 223.392 1518.27 Q226.47 1513.66 232.281 1513.66 Z\" fill=\"#000000\" fill-rule=\"evenodd\" fill-opacity=\"1\" /><path clip-path=\"url(#clip940)\" d=\"M253.253 1544.91 L260.892 1544.91 L260.892 1518.55 L252.581 1520.21 L252.581 1515.95 L260.845 1514.29 L265.521 1514.29 L265.521 1544.91 L273.16 1544.91 L273.16 1548.85 L253.253 1548.85 L253.253 1544.91 Z\" fill=\"#000000\" fill-rule=\"evenodd\" fill-opacity=\"1\" /><path clip-path=\"url(#clip940)\" d=\"M279.85 1533.96 L292.327 1533.96 L292.327 1537.76 L279.85 1537.76 L279.85 1533.96 Z\" fill=\"#000000\" fill-rule=\"evenodd\" fill-opacity=\"1\" /><path clip-path=\"url(#clip940)\" d=\"M309.711 1517.37 Q306.1 1517.37 304.271 1520.93 Q302.465 1524.47 302.465 1531.6 Q302.465 1538.71 304.271 1542.27 Q306.1 1545.82 309.711 1545.82 Q313.345 1545.82 315.151 1542.27 Q316.979 1538.71 316.979 1531.6 Q316.979 1524.47 315.151 1520.93 Q313.345 1517.37 309.711 1517.37 M309.711 1513.66 Q315.521 1513.66 318.576 1518.27 Q321.655 1522.85 321.655 1531.6 Q321.655 1540.33 318.576 1544.94 Q315.521 1549.52 309.711 1549.52 Q303.901 1549.52 300.822 1544.94 Q297.766 1540.33 297.766 1531.6 Q297.766 1522.85 300.822 1518.27 Q303.901 1513.66 309.711 1513.66 Z\" fill=\"#000000\" fill-rule=\"evenodd\" fill-opacity=\"1\" /><path clip-path=\"url(#clip940)\" d=\"M330.683 1544.91 L338.322 1544.91 L338.322 1518.55 L330.012 1520.21 L330.012 1515.95 L338.275 1514.29 L342.951 1514.29 L342.951 1544.91 L350.59 1544.91 L350.59 1548.85 L330.683 1548.85 L330.683 1544.91 Z\" fill=\"#000000\" fill-rule=\"evenodd\" fill-opacity=\"1\" /><path clip-path=\"url(#clip940)\" d=\"M673.302 1544.91 L689.621 1544.91 L689.621 1548.85 L667.677 1548.85 L667.677 1544.91 Q670.339 1542.16 674.922 1537.53 Q679.529 1532.88 680.709 1531.53 Q682.955 1529.01 683.834 1527.27 Q684.737 1525.51 684.737 1523.82 Q684.737 1521.07 682.793 1519.33 Q680.871 1517.6 677.77 1517.6 Q675.571 1517.6 673.117 1518.36 Q670.686 1519.13 667.909 1520.68 L667.909 1515.95 Q670.733 1514.82 673.186 1514.24 Q675.64 1513.66 677.677 1513.66 Q683.047 1513.66 686.242 1516.35 Q689.436 1519.03 689.436 1523.52 Q689.436 1525.65 688.626 1527.57 Q687.839 1529.47 685.733 1532.07 Q685.154 1532.74 682.052 1535.95 Q678.95 1539.15 673.302 1544.91 Z\" fill=\"#000000\" fill-rule=\"evenodd\" fill-opacity=\"1\" /><path clip-path=\"url(#clip940)\" d=\"M709.436 1517.37 Q705.825 1517.37 703.996 1520.93 Q702.191 1524.47 702.191 1531.6 Q702.191 1538.71 703.996 1542.27 Q705.825 1545.82 709.436 1545.82 Q713.07 1545.82 714.876 1542.27 Q716.705 1538.71 716.705 1531.6 Q716.705 1524.47 714.876 1520.93 Q713.07 1517.37 709.436 1517.37 M709.436 1513.66 Q715.246 1513.66 718.302 1518.27 Q721.381 1522.85 721.381 1531.6 Q721.381 1540.33 718.302 1544.94 Q715.246 1549.52 709.436 1549.52 Q703.626 1549.52 700.547 1544.94 Q697.492 1540.33 697.492 1531.6 Q697.492 1522.85 700.547 1518.27 Q703.626 1513.66 709.436 1513.66 Z\" fill=\"#000000\" fill-rule=\"evenodd\" fill-opacity=\"1\" /><path clip-path=\"url(#clip940)\" d=\"M739.598 1517.37 Q735.987 1517.37 734.158 1520.93 Q732.353 1524.47 732.353 1531.6 Q732.353 1538.71 734.158 1542.27 Q735.987 1545.82 739.598 1545.82 Q743.232 1545.82 745.038 1542.27 Q746.867 1538.71 746.867 1531.6 Q746.867 1524.47 745.038 1520.93 Q743.232 1517.37 739.598 1517.37 M739.598 1513.66 Q745.408 1513.66 748.464 1518.27 Q751.542 1522.85 751.542 1531.6 Q751.542 1540.33 748.464 1544.94 Q745.408 1549.52 739.598 1549.52 Q733.788 1549.52 730.709 1544.94 Q727.654 1540.33 727.654 1531.6 Q727.654 1522.85 730.709 1518.27 Q733.788 1513.66 739.598 1513.66 Z\" fill=\"#000000\" fill-rule=\"evenodd\" fill-opacity=\"1\" /><path clip-path=\"url(#clip940)\" d=\"M759.899 1548.13 L759.899 1543.87 Q761.658 1544.7 763.464 1545.14 Q765.269 1545.58 767.005 1545.58 Q771.635 1545.58 774.065 1542.48 Q776.519 1539.36 776.866 1533.01 Q775.524 1535.01 773.464 1536.07 Q771.403 1537.13 768.903 1537.13 Q763.718 1537.13 760.686 1534.01 Q757.677 1530.86 757.677 1525.42 Q757.677 1520.1 760.825 1516.88 Q763.973 1513.66 769.204 1513.66 Q775.2 1513.66 778.348 1518.27 Q781.519 1522.85 781.519 1531.6 Q781.519 1539.77 777.63 1544.66 Q773.765 1549.52 767.214 1549.52 Q765.454 1549.52 763.649 1549.17 Q761.843 1548.82 759.899 1548.13 M769.204 1533.48 Q772.352 1533.48 774.181 1531.32 Q776.033 1529.17 776.033 1525.42 Q776.033 1521.7 774.181 1519.54 Q772.352 1517.37 769.204 1517.37 Q766.056 1517.37 764.204 1519.54 Q762.376 1521.7 762.376 1525.42 Q762.376 1529.17 764.204 1531.32 Q766.056 1533.48 769.204 1533.48 Z\" fill=\"#000000\" fill-rule=\"evenodd\" fill-opacity=\"1\" /><path clip-path=\"url(#clip940)\" d=\"M787.167 1533.96 L799.644 1533.96 L799.644 1537.76 L787.167 1537.76 L787.167 1533.96 Z\" fill=\"#000000\" fill-rule=\"evenodd\" fill-opacity=\"1\" /><path clip-path=\"url(#clip940)\" d=\"M817.028 1517.37 Q813.417 1517.37 811.588 1520.93 Q809.783 1524.47 809.783 1531.6 Q809.783 1538.71 811.588 1542.27 Q813.417 1545.82 817.028 1545.82 Q820.662 1545.82 822.468 1542.27 Q824.297 1538.71 824.297 1531.6 Q824.297 1524.47 822.468 1520.93 Q820.662 1517.37 817.028 1517.37 M817.028 1513.66 Q822.838 1513.66 825.894 1518.27 Q828.973 1522.85 828.973 1531.6 Q828.973 1540.33 825.894 1544.94 Q822.838 1549.52 817.028 1549.52 Q811.218 1549.52 808.139 1544.94 Q805.084 1540.33 805.084 1531.6 Q805.084 1522.85 808.139 1518.27 Q811.218 1513.66 817.028 1513.66 Z\" fill=\"#000000\" fill-rule=\"evenodd\" fill-opacity=\"1\" /><path clip-path=\"url(#clip940)\" d=\"M838 1544.91 L845.639 1544.91 L845.639 1518.55 L837.329 1520.21 L837.329 1515.95 L845.593 1514.29 L850.269 1514.29 L850.269 1544.91 L857.908 1544.91 L857.908 1548.85 L838 1548.85 L838 1544.91 Z\" fill=\"#000000\" fill-rule=\"evenodd\" fill-opacity=\"1\" /><path clip-path=\"url(#clip940)\" d=\"M864.597 1533.96 L877.074 1533.96 L877.074 1537.76 L864.597 1537.76 L864.597 1533.96 Z\" fill=\"#000000\" fill-rule=\"evenodd\" fill-opacity=\"1\" /><path clip-path=\"url(#clip940)\" d=\"M894.458 1517.37 Q890.847 1517.37 889.019 1520.93 Q887.213 1524.47 887.213 1531.6 Q887.213 1538.71 889.019 1542.27 Q890.847 1545.82 894.458 1545.82 Q898.093 1545.82 899.898 1542.27 Q901.727 1538.71 901.727 1531.6 Q901.727 1524.47 899.898 1520.93 Q898.093 1517.37 894.458 1517.37 M894.458 1513.66 Q900.268 1513.66 903.324 1518.27 Q906.403 1522.85 906.403 1531.6 Q906.403 1540.33 903.324 1544.94 Q900.268 1549.52 894.458 1549.52 Q888.648 1549.52 885.569 1544.94 Q882.514 1540.33 882.514 1531.6 Q882.514 1522.85 885.569 1518.27 Q888.648 1513.66 894.458 1513.66 Z\" fill=\"#000000\" fill-rule=\"evenodd\" fill-opacity=\"1\" /><path clip-path=\"url(#clip940)\" d=\"M915.43 1544.91 L923.069 1544.91 L923.069 1518.55 L914.759 1520.21 L914.759 1515.95 L923.023 1514.29 L927.699 1514.29 L927.699 1544.91 L935.338 1544.91 L935.338 1548.85 L915.43 1548.85 L915.43 1544.91 Z\" fill=\"#000000\" fill-rule=\"evenodd\" fill-opacity=\"1\" /><path clip-path=\"url(#clip940)\" d=\"M1257.73 1544.91 L1274.05 1544.91 L1274.05 1548.85 L1252.1 1548.85 L1252.1 1544.91 Q1254.77 1542.16 1259.35 1537.53 Q1263.96 1532.88 1265.14 1531.53 Q1267.38 1529.01 1268.26 1527.27 Q1269.16 1525.51 1269.16 1523.82 Q1269.16 1521.07 1267.22 1519.33 Q1265.3 1517.6 1262.2 1517.6 Q1260 1517.6 1257.54 1518.36 Q1255.11 1519.13 1252.34 1520.68 L1252.34 1515.95 Q1255.16 1514.82 1257.61 1514.24 Q1260.07 1513.66 1262.1 1513.66 Q1267.47 1513.66 1270.67 1516.35 Q1273.86 1519.03 1273.86 1523.52 Q1273.86 1525.65 1273.05 1527.57 Q1272.27 1529.47 1270.16 1532.07 Q1269.58 1532.74 1266.48 1535.95 Q1263.38 1539.15 1257.73 1544.91 Z\" fill=\"#000000\" fill-rule=\"evenodd\" fill-opacity=\"1\" /><path clip-path=\"url(#clip940)\" d=\"M1293.86 1517.37 Q1290.25 1517.37 1288.42 1520.93 Q1286.62 1524.47 1286.62 1531.6 Q1286.62 1538.71 1288.42 1542.27 Q1290.25 1545.82 1293.86 1545.82 Q1297.5 1545.82 1299.3 1542.27 Q1301.13 1538.71 1301.13 1531.6 Q1301.13 1524.47 1299.3 1520.93 Q1297.5 1517.37 1293.86 1517.37 M1293.86 1513.66 Q1299.67 1513.66 1302.73 1518.27 Q1305.81 1522.85 1305.81 1531.6 Q1305.81 1540.33 1302.73 1544.94 Q1299.67 1549.52 1293.86 1549.52 Q1288.05 1549.52 1284.97 1544.94 Q1281.92 1540.33 1281.92 1531.6 Q1281.92 1522.85 1284.97 1518.27 Q1288.05 1513.66 1293.86 1513.66 Z\" fill=\"#000000\" fill-rule=\"evenodd\" fill-opacity=\"1\" /><path clip-path=\"url(#clip940)\" d=\"M1314.84 1544.91 L1322.47 1544.91 L1322.47 1518.55 L1314.16 1520.21 L1314.16 1515.95 L1322.43 1514.29 L1327.1 1514.29 L1327.1 1544.91 L1334.74 1544.91 L1334.74 1548.85 L1314.84 1548.85 L1314.84 1544.91 Z\" fill=\"#000000\" fill-rule=\"evenodd\" fill-opacity=\"1\" /><path clip-path=\"url(#clip940)\" d=\"M1357.03 1518.36 L1345.23 1536.81 L1357.03 1536.81 L1357.03 1518.36 M1355.81 1514.29 L1361.69 1514.29 L1361.69 1536.81 L1366.62 1536.81 L1366.62 1540.7 L1361.69 1540.7 L1361.69 1548.85 L1357.03 1548.85 L1357.03 1540.7 L1341.43 1540.7 L1341.43 1536.19 L1355.81 1514.29 Z\" fill=\"#000000\" fill-rule=\"evenodd\" fill-opacity=\"1\" /><path clip-path=\"url(#clip940)\" d=\"M1371.59 1533.96 L1384.07 1533.96 L1384.07 1537.76 L1371.59 1537.76 L1371.59 1533.96 Z\" fill=\"#000000\" fill-rule=\"evenodd\" fill-opacity=\"1\" /><path clip-path=\"url(#clip940)\" d=\"M1401.46 1517.37 Q1397.84 1517.37 1396.02 1520.93 Q1394.21 1524.47 1394.21 1531.6 Q1394.21 1538.71 1396.02 1542.27 Q1397.84 1545.82 1401.46 1545.82 Q1405.09 1545.82 1406.9 1542.27 Q1408.72 1538.71 1408.72 1531.6 Q1408.72 1524.47 1406.9 1520.93 Q1405.09 1517.37 1401.46 1517.37 M1401.46 1513.66 Q1407.27 1513.66 1410.32 1518.27 Q1413.4 1522.85 1413.4 1531.6 Q1413.4 1540.33 1410.32 1544.94 Q1407.27 1549.52 1401.46 1549.52 Q1395.65 1549.52 1392.57 1544.94 Q1389.51 1540.33 1389.51 1531.6 Q1389.51 1522.85 1392.57 1518.27 Q1395.65 1513.66 1401.46 1513.66 Z\" fill=\"#000000\" fill-rule=\"evenodd\" fill-opacity=\"1\" /><path clip-path=\"url(#clip940)\" d=\"M1422.43 1544.91 L1430.07 1544.91 L1430.07 1518.55 L1421.76 1520.21 L1421.76 1515.95 L1430.02 1514.29 L1434.7 1514.29 L1434.7 1544.91 L1442.34 1544.91 L1442.34 1548.85 L1422.43 1548.85 L1422.43 1544.91 Z\" fill=\"#000000\" fill-rule=\"evenodd\" fill-opacity=\"1\" /><path clip-path=\"url(#clip940)\" d=\"M1449.02 1533.96 L1461.5 1533.96 L1461.5 1537.76 L1449.02 1537.76 L1449.02 1533.96 Z\" fill=\"#000000\" fill-rule=\"evenodd\" fill-opacity=\"1\" /><path clip-path=\"url(#clip940)\" d=\"M1478.89 1517.37 Q1475.27 1517.37 1473.45 1520.93 Q1471.64 1524.47 1471.64 1531.6 Q1471.64 1538.71 1473.45 1542.27 Q1475.27 1545.82 1478.89 1545.82 Q1482.52 1545.82 1484.33 1542.27 Q1486.15 1538.71 1486.15 1531.6 Q1486.15 1524.47 1484.33 1520.93 Q1482.52 1517.37 1478.89 1517.37 M1478.89 1513.66 Q1484.7 1513.66 1487.75 1518.27 Q1490.83 1522.85 1490.83 1531.6 Q1490.83 1540.33 1487.75 1544.94 Q1484.7 1549.52 1478.89 1549.52 Q1473.08 1549.52 1470 1544.94 Q1466.94 1540.33 1466.94 1531.6 Q1466.94 1522.85 1470 1518.27 Q1473.08 1513.66 1478.89 1513.66 Z\" fill=\"#000000\" fill-rule=\"evenodd\" fill-opacity=\"1\" /><path clip-path=\"url(#clip940)\" d=\"M1499.86 1544.91 L1507.5 1544.91 L1507.5 1518.55 L1499.19 1520.21 L1499.19 1515.95 L1507.45 1514.29 L1512.13 1514.29 L1512.13 1544.91 L1519.77 1544.91 L1519.77 1548.85 L1499.86 1548.85 L1499.86 1544.91 Z\" fill=\"#000000\" fill-rule=\"evenodd\" fill-opacity=\"1\" /><path clip-path=\"url(#clip940)\" d=\"M1842.16 1544.91 L1858.48 1544.91 L1858.48 1548.85 L1836.53 1548.85 L1836.53 1544.91 Q1839.19 1542.16 1843.78 1537.53 Q1848.38 1532.88 1849.56 1531.53 Q1851.81 1529.01 1852.69 1527.27 Q1853.59 1525.51 1853.59 1523.82 Q1853.59 1521.07 1851.65 1519.33 Q1849.73 1517.6 1846.62 1517.6 Q1844.43 1517.6 1841.97 1518.36 Q1839.54 1519.13 1836.76 1520.68 L1836.76 1515.95 Q1839.59 1514.82 1842.04 1514.24 Q1844.49 1513.66 1846.53 1513.66 Q1851.9 1513.66 1855.1 1516.35 Q1858.29 1519.03 1858.29 1523.52 Q1858.29 1525.65 1857.48 1527.57 Q1856.69 1529.47 1854.59 1532.07 Q1854.01 1532.74 1850.91 1535.95 Q1847.81 1539.15 1842.16 1544.91 Z\" fill=\"#000000\" fill-rule=\"evenodd\" fill-opacity=\"1\" /><path clip-path=\"url(#clip940)\" d=\"M1878.29 1517.37 Q1874.68 1517.37 1872.85 1520.93 Q1871.05 1524.47 1871.05 1531.6 Q1871.05 1538.71 1872.85 1542.27 Q1874.68 1545.82 1878.29 1545.82 Q1881.93 1545.82 1883.73 1542.27 Q1885.56 1538.71 1885.56 1531.6 Q1885.56 1524.47 1883.73 1520.93 Q1881.93 1517.37 1878.29 1517.37 M1878.29 1513.66 Q1884.1 1513.66 1887.16 1518.27 Q1890.24 1522.85 1890.24 1531.6 Q1890.24 1540.33 1887.16 1544.94 Q1884.1 1549.52 1878.29 1549.52 Q1872.48 1549.52 1869.4 1544.94 Q1866.35 1540.33 1866.35 1531.6 Q1866.35 1522.85 1869.4 1518.27 Q1872.48 1513.66 1878.29 1513.66 Z\" fill=\"#000000\" fill-rule=\"evenodd\" fill-opacity=\"1\" /><path clip-path=\"url(#clip940)\" d=\"M1899.26 1544.91 L1906.9 1544.91 L1906.9 1518.55 L1898.59 1520.21 L1898.59 1515.95 L1906.86 1514.29 L1911.53 1514.29 L1911.53 1544.91 L1919.17 1544.91 L1919.17 1548.85 L1899.26 1548.85 L1899.26 1544.91 Z\" fill=\"#000000\" fill-rule=\"evenodd\" fill-opacity=\"1\" /><path clip-path=\"url(#clip940)\" d=\"M1928.75 1548.13 L1928.75 1543.87 Q1930.51 1544.7 1932.32 1545.14 Q1934.12 1545.58 1935.86 1545.58 Q1940.49 1545.58 1942.92 1542.48 Q1945.37 1539.36 1945.72 1533.01 Q1944.38 1535.01 1942.32 1536.07 Q1940.26 1537.13 1937.76 1537.13 Q1932.57 1537.13 1929.54 1534.01 Q1926.53 1530.86 1926.53 1525.42 Q1926.53 1520.1 1929.68 1516.88 Q1932.83 1513.66 1938.06 1513.66 Q1944.05 1513.66 1947.2 1518.27 Q1950.37 1522.85 1950.37 1531.6 Q1950.37 1539.77 1946.49 1544.66 Q1942.62 1549.52 1936.07 1549.52 Q1934.31 1549.52 1932.5 1549.17 Q1930.7 1548.82 1928.75 1548.13 M1938.06 1533.48 Q1941.21 1533.48 1943.04 1531.32 Q1944.89 1529.17 1944.89 1525.42 Q1944.89 1521.7 1943.04 1519.54 Q1941.21 1517.37 1938.06 1517.37 Q1934.91 1517.37 1933.06 1519.54 Q1931.23 1521.7 1931.23 1525.42 Q1931.23 1529.17 1933.06 1531.32 Q1934.91 1533.48 1938.06 1533.48 Z\" fill=\"#000000\" fill-rule=\"evenodd\" fill-opacity=\"1\" /><path clip-path=\"url(#clip940)\" d=\"M1956.02 1533.96 L1968.5 1533.96 L1968.5 1537.76 L1956.02 1537.76 L1956.02 1533.96 Z\" fill=\"#000000\" fill-rule=\"evenodd\" fill-opacity=\"1\" /><path clip-path=\"url(#clip940)\" d=\"M1985.88 1517.37 Q1982.27 1517.37 1980.44 1520.93 Q1978.64 1524.47 1978.64 1531.6 Q1978.64 1538.71 1980.44 1542.27 Q1982.27 1545.82 1985.88 1545.82 Q1989.52 1545.82 1991.32 1542.27 Q1993.15 1538.71 1993.15 1531.6 Q1993.15 1524.47 1991.32 1520.93 Q1989.52 1517.37 1985.88 1517.37 M1985.88 1513.66 Q1991.69 1513.66 1994.75 1518.27 Q1997.83 1522.85 1997.83 1531.6 Q1997.83 1540.33 1994.75 1544.94 Q1991.69 1549.52 1985.88 1549.52 Q1980.07 1549.52 1976.99 1544.94 Q1973.94 1540.33 1973.94 1531.6 Q1973.94 1522.85 1976.99 1518.27 Q1980.07 1513.66 1985.88 1513.66 Z\" fill=\"#000000\" fill-rule=\"evenodd\" fill-opacity=\"1\" /><path clip-path=\"url(#clip940)\" d=\"M2006.86 1544.91 L2014.49 1544.91 L2014.49 1518.55 L2006.18 1520.21 L2006.18 1515.95 L2014.45 1514.29 L2019.12 1514.29 L2019.12 1544.91 L2026.76 1544.91 L2026.76 1548.85 L2006.86 1548.85 L2006.86 1544.91 Z\" fill=\"#000000\" fill-rule=\"evenodd\" fill-opacity=\"1\" /><path clip-path=\"url(#clip940)\" d=\"M2033.45 1533.96 L2045.93 1533.96 L2045.93 1537.76 L2033.45 1537.76 L2033.45 1533.96 Z\" fill=\"#000000\" fill-rule=\"evenodd\" fill-opacity=\"1\" /><path clip-path=\"url(#clip940)\" d=\"M2063.31 1517.37 Q2059.7 1517.37 2057.87 1520.93 Q2056.07 1524.47 2056.07 1531.6 Q2056.07 1538.71 2057.87 1542.27 Q2059.7 1545.82 2063.31 1545.82 Q2066.95 1545.82 2068.75 1542.27 Q2070.58 1538.71 2070.58 1531.6 Q2070.58 1524.47 2068.75 1520.93 Q2066.95 1517.37 2063.31 1517.37 M2063.31 1513.66 Q2069.12 1513.66 2072.18 1518.27 Q2075.26 1522.85 2075.26 1531.6 Q2075.26 1540.33 2072.18 1544.94 Q2069.12 1549.52 2063.31 1549.52 Q2057.5 1549.52 2054.42 1544.94 Q2051.37 1540.33 2051.37 1531.6 Q2051.37 1522.85 2054.42 1518.27 Q2057.5 1513.66 2063.31 1513.66 Z\" fill=\"#000000\" fill-rule=\"evenodd\" fill-opacity=\"1\" /><path clip-path=\"url(#clip940)\" d=\"M2084.29 1544.91 L2091.92 1544.91 L2091.92 1518.55 L2083.61 1520.21 L2083.61 1515.95 L2091.88 1514.29 L2096.55 1514.29 L2096.55 1544.91 L2104.19 1544.91 L2104.19 1548.85 L2084.29 1548.85 L2084.29 1544.91 Z\" fill=\"#000000\" fill-rule=\"evenodd\" fill-opacity=\"1\" /><polyline clip-path=\"url(#clip942)\" style=\"stroke:#000000; stroke-linecap:butt; stroke-linejoin:round; stroke-width:2; stroke-opacity:0.1; fill:none\" points=\"\n",
       "  184.191,1233.28 2352.76,1233.28 \n",
       "  \"/>\n",
       "<polyline clip-path=\"url(#clip942)\" style=\"stroke:#000000; stroke-linecap:butt; stroke-linejoin:round; stroke-width:2; stroke-opacity:0.1; fill:none\" points=\"\n",
       "  184.191,974.933 2352.76,974.933 \n",
       "  \"/>\n",
       "<polyline clip-path=\"url(#clip942)\" style=\"stroke:#000000; stroke-linecap:butt; stroke-linejoin:round; stroke-width:2; stroke-opacity:0.1; fill:none\" points=\"\n",
       "  184.191,716.583 2352.76,716.583 \n",
       "  \"/>\n",
       "<polyline clip-path=\"url(#clip942)\" style=\"stroke:#000000; stroke-linecap:butt; stroke-linejoin:round; stroke-width:2; stroke-opacity:0.1; fill:none\" points=\"\n",
       "  184.191,458.232 2352.76,458.232 \n",
       "  \"/>\n",
       "<polyline clip-path=\"url(#clip942)\" style=\"stroke:#000000; stroke-linecap:butt; stroke-linejoin:round; stroke-width:2; stroke-opacity:0.1; fill:none\" points=\"\n",
       "  184.191,199.882 2352.76,199.882 \n",
       "  \"/>\n",
       "<polyline clip-path=\"url(#clip940)\" style=\"stroke:#000000; stroke-linecap:butt; stroke-linejoin:round; stroke-width:4; stroke-opacity:1; fill:none\" points=\"\n",
       "  184.191,1486.45 184.191,47.2441 \n",
       "  \"/>\n",
       "<polyline clip-path=\"url(#clip940)\" style=\"stroke:#000000; stroke-linecap:butt; stroke-linejoin:round; stroke-width:4; stroke-opacity:1; fill:none\" points=\"\n",
       "  184.191,1233.28 203.088,1233.28 \n",
       "  \"/>\n",
       "<polyline clip-path=\"url(#clip940)\" style=\"stroke:#000000; stroke-linecap:butt; stroke-linejoin:round; stroke-width:4; stroke-opacity:1; fill:none\" points=\"\n",
       "  184.191,974.933 203.088,974.933 \n",
       "  \"/>\n",
       "<polyline clip-path=\"url(#clip940)\" style=\"stroke:#000000; stroke-linecap:butt; stroke-linejoin:round; stroke-width:4; stroke-opacity:1; fill:none\" points=\"\n",
       "  184.191,716.583 203.088,716.583 \n",
       "  \"/>\n",
       "<polyline clip-path=\"url(#clip940)\" style=\"stroke:#000000; stroke-linecap:butt; stroke-linejoin:round; stroke-width:4; stroke-opacity:1; fill:none\" points=\"\n",
       "  184.191,458.232 203.088,458.232 \n",
       "  \"/>\n",
       "<polyline clip-path=\"url(#clip940)\" style=\"stroke:#000000; stroke-linecap:butt; stroke-linejoin:round; stroke-width:4; stroke-opacity:1; fill:none\" points=\"\n",
       "  184.191,199.882 203.088,199.882 \n",
       "  \"/>\n",
       "<path clip-path=\"url(#clip940)\" d=\"M91.0151 1219.08 Q87.404 1219.08 85.5753 1222.65 Q83.7697 1226.19 83.7697 1233.32 Q83.7697 1240.43 85.5753 1243.99 Q87.404 1247.53 91.0151 1247.53 Q94.6493 1247.53 96.4548 1243.99 Q98.2835 1240.43 98.2835 1233.32 Q98.2835 1226.19 96.4548 1222.65 Q94.6493 1219.08 91.0151 1219.08 M91.0151 1215.38 Q96.8252 1215.38 99.8808 1219.99 Q102.959 1224.57 102.959 1233.32 Q102.959 1242.05 99.8808 1246.65 Q96.8252 1251.24 91.0151 1251.24 Q85.2049 1251.24 82.1262 1246.65 Q79.0707 1242.05 79.0707 1233.32 Q79.0707 1224.57 82.1262 1219.99 Q85.2049 1215.38 91.0151 1215.38 Z\" fill=\"#000000\" fill-rule=\"evenodd\" fill-opacity=\"1\" /><path clip-path=\"url(#clip940)\" d=\"M111.177 1244.68 L116.061 1244.68 L116.061 1250.56 L111.177 1250.56 L111.177 1244.68 Z\" fill=\"#000000\" fill-rule=\"evenodd\" fill-opacity=\"1\" /><path clip-path=\"url(#clip940)\" d=\"M136.246 1219.08 Q132.635 1219.08 130.807 1222.65 Q129.001 1226.19 129.001 1233.32 Q129.001 1240.43 130.807 1243.99 Q132.635 1247.53 136.246 1247.53 Q139.881 1247.53 141.686 1243.99 Q143.515 1240.43 143.515 1233.32 Q143.515 1226.19 141.686 1222.65 Q139.881 1219.08 136.246 1219.08 M136.246 1215.38 Q142.056 1215.38 145.112 1219.99 Q148.191 1224.57 148.191 1233.32 Q148.191 1242.05 145.112 1246.65 Q142.056 1251.24 136.246 1251.24 Q130.436 1251.24 127.357 1246.65 Q124.302 1242.05 124.302 1233.32 Q124.302 1224.57 127.357 1219.99 Q130.436 1215.38 136.246 1215.38 Z\" fill=\"#000000\" fill-rule=\"evenodd\" fill-opacity=\"1\" /><path clip-path=\"url(#clip940)\" d=\"M86.0382 988.278 L102.358 988.278 L102.358 992.213 L80.4133 992.213 L80.4133 988.278 Q83.0753 985.524 87.6586 980.894 Q92.2651 976.241 93.4456 974.899 Q95.691 972.376 96.5706 970.64 Q97.4734 968.88 97.4734 967.19 Q97.4734 964.436 95.5289 962.7 Q93.6076 960.964 90.5058 960.964 Q88.3067 960.964 85.8531 961.728 Q83.4225 962.491 80.6447 964.042 L80.6447 959.32 Q83.4688 958.186 85.9225 957.607 Q88.3762 957.028 90.4132 957.028 Q95.7836 957.028 98.978 959.714 Q102.172 962.399 102.172 966.89 Q102.172 969.019 101.362 970.94 Q100.575 972.839 98.4687 975.431 Q97.89 976.102 94.7882 979.32 Q91.6864 982.514 86.0382 988.278 Z\" fill=\"#000000\" fill-rule=\"evenodd\" fill-opacity=\"1\" /><path clip-path=\"url(#clip940)\" d=\"M112.172 986.334 L117.057 986.334 L117.057 992.213 L112.172 992.213 L112.172 986.334 Z\" fill=\"#000000\" fill-rule=\"evenodd\" fill-opacity=\"1\" /><path clip-path=\"url(#clip940)\" d=\"M127.288 957.653 L145.644 957.653 L145.644 961.589 L131.57 961.589 L131.57 970.061 Q132.589 969.714 133.607 969.552 Q134.626 969.366 135.644 969.366 Q141.431 969.366 144.811 972.538 Q148.191 975.709 148.191 981.126 Q148.191 986.704 144.718 989.806 Q141.246 992.885 134.927 992.885 Q132.751 992.885 130.482 992.514 Q128.237 992.144 125.83 991.403 L125.83 986.704 Q127.913 987.838 130.135 988.394 Q132.357 988.95 134.834 988.95 Q138.839 988.95 141.177 986.843 Q143.515 984.737 143.515 981.126 Q143.515 977.514 141.177 975.408 Q138.839 973.302 134.834 973.302 Q132.959 973.302 131.084 973.718 Q129.232 974.135 127.288 975.014 L127.288 957.653 Z\" fill=\"#000000\" fill-rule=\"evenodd\" fill-opacity=\"1\" /><path clip-path=\"url(#clip940)\" d=\"M81.0614 699.303 L99.4178 699.303 L99.4178 703.238 L85.3438 703.238 L85.3438 711.71 Q86.3623 711.363 87.3808 711.201 Q88.3993 711.016 89.4178 711.016 Q95.2049 711.016 98.5845 714.187 Q101.964 717.358 101.964 722.775 Q101.964 728.354 98.4919 731.455 Q95.0197 734.534 88.7003 734.534 Q86.5243 734.534 84.2558 734.164 Q82.0105 733.793 79.6031 733.053 L79.6031 728.354 Q81.6864 729.488 83.9086 730.043 Q86.1308 730.599 88.6077 730.599 Q92.6123 730.599 94.9502 728.493 Q97.2882 726.386 97.2882 722.775 Q97.2882 719.164 94.9502 717.057 Q92.6123 714.951 88.6077 714.951 Q86.7327 714.951 84.8577 715.368 Q83.0058 715.784 81.0614 716.664 L81.0614 699.303 Z\" fill=\"#000000\" fill-rule=\"evenodd\" fill-opacity=\"1\" /><path clip-path=\"url(#clip940)\" d=\"M111.177 727.983 L116.061 727.983 L116.061 733.863 L111.177 733.863 L111.177 727.983 Z\" fill=\"#000000\" fill-rule=\"evenodd\" fill-opacity=\"1\" /><path clip-path=\"url(#clip940)\" d=\"M136.246 702.382 Q132.635 702.382 130.807 705.946 Q129.001 709.488 129.001 716.618 Q129.001 723.724 130.807 727.289 Q132.635 730.83 136.246 730.83 Q139.881 730.83 141.686 727.289 Q143.515 723.724 143.515 716.618 Q143.515 709.488 141.686 705.946 Q139.881 702.382 136.246 702.382 M136.246 698.678 Q142.056 698.678 145.112 703.284 Q148.191 707.868 148.191 716.618 Q148.191 725.344 145.112 729.951 Q142.056 734.534 136.246 734.534 Q130.436 734.534 127.357 729.951 Q124.302 725.344 124.302 716.618 Q124.302 707.868 127.357 703.284 Q130.436 698.678 136.246 698.678 Z\" fill=\"#000000\" fill-rule=\"evenodd\" fill-opacity=\"1\" /><path clip-path=\"url(#clip940)\" d=\"M80.8299 440.952 L103.052 440.952 L103.052 442.943 L90.5058 475.512 L85.6216 475.512 L97.4271 444.887 L80.8299 444.887 L80.8299 440.952 Z\" fill=\"#000000\" fill-rule=\"evenodd\" fill-opacity=\"1\" /><path clip-path=\"url(#clip940)\" d=\"M112.172 469.633 L117.057 469.633 L117.057 475.512 L112.172 475.512 L112.172 469.633 Z\" fill=\"#000000\" fill-rule=\"evenodd\" fill-opacity=\"1\" /><path clip-path=\"url(#clip940)\" d=\"M127.288 440.952 L145.644 440.952 L145.644 444.887 L131.57 444.887 L131.57 453.36 Q132.589 453.012 133.607 452.85 Q134.626 452.665 135.644 452.665 Q141.431 452.665 144.811 455.836 Q148.191 459.008 148.191 464.424 Q148.191 470.003 144.718 473.105 Q141.246 476.184 134.927 476.184 Q132.751 476.184 130.482 475.813 Q128.237 475.443 125.83 474.702 L125.83 470.003 Q127.913 471.137 130.135 471.693 Q132.357 472.248 134.834 472.248 Q138.839 472.248 141.177 470.142 Q143.515 468.035 143.515 464.424 Q143.515 460.813 141.177 458.707 Q138.839 456.6 134.834 456.6 Q132.959 456.6 131.084 457.017 Q129.232 457.434 127.288 458.313 L127.288 440.952 Z\" fill=\"#000000\" fill-rule=\"evenodd\" fill-opacity=\"1\" /><path clip-path=\"url(#clip940)\" d=\"M51.6634 213.226 L59.3023 213.226 L59.3023 186.861 L50.9921 188.527 L50.9921 184.268 L59.256 182.602 L63.9319 182.602 L63.9319 213.226 L71.5707 213.226 L71.5707 217.162 L51.6634 217.162 L51.6634 213.226 Z\" fill=\"#000000\" fill-rule=\"evenodd\" fill-opacity=\"1\" /><path clip-path=\"url(#clip940)\" d=\"M91.0151 185.68 Q87.404 185.68 85.5753 189.245 Q83.7697 192.787 83.7697 199.916 Q83.7697 207.023 85.5753 210.588 Q87.404 214.129 91.0151 214.129 Q94.6493 214.129 96.4548 210.588 Q98.2835 207.023 98.2835 199.916 Q98.2835 192.787 96.4548 189.245 Q94.6493 185.68 91.0151 185.68 M91.0151 181.977 Q96.8252 181.977 99.8808 186.583 Q102.959 191.166 102.959 199.916 Q102.959 208.643 99.8808 213.25 Q96.8252 217.833 91.0151 217.833 Q85.2049 217.833 82.1262 213.25 Q79.0707 208.643 79.0707 199.916 Q79.0707 191.166 82.1262 186.583 Q85.2049 181.977 91.0151 181.977 Z\" fill=\"#000000\" fill-rule=\"evenodd\" fill-opacity=\"1\" /><path clip-path=\"url(#clip940)\" d=\"M111.177 211.282 L116.061 211.282 L116.061 217.162 L111.177 217.162 L111.177 211.282 Z\" fill=\"#000000\" fill-rule=\"evenodd\" fill-opacity=\"1\" /><path clip-path=\"url(#clip940)\" d=\"M136.246 185.68 Q132.635 185.68 130.807 189.245 Q129.001 192.787 129.001 199.916 Q129.001 207.023 130.807 210.588 Q132.635 214.129 136.246 214.129 Q139.881 214.129 141.686 210.588 Q143.515 207.023 143.515 199.916 Q143.515 192.787 141.686 189.245 Q139.881 185.68 136.246 185.68 M136.246 181.977 Q142.056 181.977 145.112 186.583 Q148.191 191.166 148.191 199.916 Q148.191 208.643 145.112 213.25 Q142.056 217.833 136.246 217.833 Q130.436 217.833 127.357 213.25 Q124.302 208.643 124.302 199.916 Q124.302 191.166 127.357 186.583 Q130.436 181.977 136.246 181.977 Z\" fill=\"#000000\" fill-rule=\"evenodd\" fill-opacity=\"1\" /><polyline clip-path=\"url(#clip942)\" style=\"stroke:#0000ff; stroke-linecap:butt; stroke-linejoin:round; stroke-width:8; stroke-opacity:0.8; fill:none\" points=\"\n",
       "  245.565,1445.72 274.691,1442.56 304.136,1337.5 333.581,1065.33 362.387,1029.18 391.512,1030.71 420.957,983.823 450.403,1015.87 479.208,1022.68 508.333,977.656 \n",
       "  537.779,849.747 567.224,767.057 596.03,707.471 625.155,619.578 654.6,595.17 684.046,497.926 713.171,307.114 742.297,201.162 771.742,87.9763 801.187,227.38 \n",
       "  829.993,368.819 859.118,435.821 888.563,577.409 918.009,597.67 946.814,649.323 975.939,763.556 1005.38,872.27 1034.83,879.003 1063.64,838.479 1092.76,754.676 \n",
       "  1122.21,676.129 1151.65,606.102 1180.78,605.827 1209.9,645.169 1239.35,704.631 1268.79,651.086 1297.6,641.744 1326.72,645.923 1356.17,590.414 1385.61,673.524 \n",
       "  1414.42,618.668 1443.55,564.686 1472.99,586.893 1502.44,645.102 1531.24,805.2 1560.37,762.307 1589.81,745.062 1619.26,730.882 1648.38,560.996 1677.51,587.642 \n",
       "  1706.95,611.689 1736.4,551.474 1765.2,580.419 1794.33,685.669 1823.78,737.698 1853.22,745.797 1882.03,812.595 1911.15,770.266 1940.6,717.082 1970.04,724.837 \n",
       "  1998.85,799.711 2027.97,774.065 2057.42,805.079 2086.86,846.23 2115.99,776.497 2145.11,984.234 2174.56,913.487 2204.01,905.701 2232.81,915.683 2261.94,734.897 \n",
       "  2291.38,734.013 \n",
       "  \"/>\n",
       "<polyline clip-path=\"url(#clip942)\" style=\"stroke:#000000; stroke-linecap:butt; stroke-linejoin:round; stroke-width:6; stroke-opacity:0.5; fill:none\" stroke-dasharray=\"24, 15\" points=\"\n",
       "  -1984.37,1233.28 4521.32,1233.28 \n",
       "  \"/>\n",
       "</svg>\n"
      ]
     },
     "execution_count": 43,
     "metadata": {},
     "output_type": "execute_result"
    }
   ],
   "source": [
    "inflation = sa_data[!, :inflation]\n",
    "plot(date_sa, inflation, legend = false, lw = 2, color = :blue, alpha = 0.8)\n",
    "plot!([0], legend = false, lw = 1.5, seriestype = :hline, color = :black, ls = :dash, alpha = 0.5)"
   ]
  },
  {
   "cell_type": "markdown",
   "metadata": {
    "slideshow": {
     "slide_type": "slide"
    }
   },
   "source": [
    "## Plotting the data (inflation vs repo)"
   ]
  },
  {
   "cell_type": "code",
   "execution_count": 52,
   "metadata": {
    "slideshow": {
     "slide_type": "fragment"
    }
   },
   "outputs": [
    {
     "data": {
      "image/svg+xml": [
       "<?xml version=\"1.0\" encoding=\"utf-8\"?>\n",
       "<svg xmlns=\"http://www.w3.org/2000/svg\" xmlns:xlink=\"http://www.w3.org/1999/xlink\" width=\"600\" height=\"400\" viewBox=\"0 0 2400 1600\">\n",
       "<defs>\n",
       "  <clipPath id=\"clip260\">\n",
       "    <rect x=\"0\" y=\"0\" width=\"2400\" height=\"1600\"/>\n",
       "  </clipPath>\n",
       "</defs>\n",
       "<path clip-path=\"url(#clip260)\" d=\"\n",
       "M0 1600 L2400 1600 L2400 0 L0 0  Z\n",
       "  \" fill=\"#ffffff\" fill-rule=\"evenodd\" fill-opacity=\"1\"/>\n",
       "<defs>\n",
       "  <clipPath id=\"clip261\">\n",
       "    <rect x=\"480\" y=\"0\" width=\"1681\" height=\"1600\"/>\n",
       "  </clipPath>\n",
       "</defs>\n",
       "<path clip-path=\"url(#clip260)\" d=\"\n",
       "M184.191 1486.45 L2352.76 1486.45 L2352.76 47.2441 L184.191 47.2441  Z\n",
       "  \" fill=\"#ffffff\" fill-rule=\"evenodd\" fill-opacity=\"1\"/>\n",
       "<defs>\n",
       "  <clipPath id=\"clip262\">\n",
       "    <rect x=\"184\" y=\"47\" width=\"2170\" height=\"1440\"/>\n",
       "  </clipPath>\n",
       "</defs>\n",
       "<polyline clip-path=\"url(#clip262)\" style=\"stroke:#000000; stroke-linecap:butt; stroke-linejoin:round; stroke-width:2; stroke-opacity:0.1; fill:none\" points=\"\n",
       "  216.76,1486.45 216.76,47.2441 \n",
       "  \"/>\n",
       "<polyline clip-path=\"url(#clip262)\" style=\"stroke:#000000; stroke-linecap:butt; stroke-linejoin:round; stroke-width:2; stroke-opacity:0.1; fill:none\" points=\"\n",
       "  801.507,1486.45 801.507,47.2441 \n",
       "  \"/>\n",
       "<polyline clip-path=\"url(#clip262)\" style=\"stroke:#000000; stroke-linecap:butt; stroke-linejoin:round; stroke-width:2; stroke-opacity:0.1; fill:none\" points=\"\n",
       "  1385.93,1486.45 1385.93,47.2441 \n",
       "  \"/>\n",
       "<polyline clip-path=\"url(#clip262)\" style=\"stroke:#000000; stroke-linecap:butt; stroke-linejoin:round; stroke-width:2; stroke-opacity:0.1; fill:none\" points=\"\n",
       "  1970.36,1486.45 1970.36,47.2441 \n",
       "  \"/>\n",
       "<polyline clip-path=\"url(#clip260)\" style=\"stroke:#000000; stroke-linecap:butt; stroke-linejoin:round; stroke-width:4; stroke-opacity:1; fill:none\" points=\"\n",
       "  184.191,1486.45 2352.76,1486.45 \n",
       "  \"/>\n",
       "<polyline clip-path=\"url(#clip260)\" style=\"stroke:#000000; stroke-linecap:butt; stroke-linejoin:round; stroke-width:4; stroke-opacity:1; fill:none\" points=\"\n",
       "  216.76,1486.45 216.76,1467.55 \n",
       "  \"/>\n",
       "<polyline clip-path=\"url(#clip260)\" style=\"stroke:#000000; stroke-linecap:butt; stroke-linejoin:round; stroke-width:4; stroke-opacity:1; fill:none\" points=\"\n",
       "  801.507,1486.45 801.507,1467.55 \n",
       "  \"/>\n",
       "<polyline clip-path=\"url(#clip260)\" style=\"stroke:#000000; stroke-linecap:butt; stroke-linejoin:round; stroke-width:4; stroke-opacity:1; fill:none\" points=\"\n",
       "  1385.93,1486.45 1385.93,1467.55 \n",
       "  \"/>\n",
       "<polyline clip-path=\"url(#clip260)\" style=\"stroke:#000000; stroke-linecap:butt; stroke-linejoin:round; stroke-width:4; stroke-opacity:1; fill:none\" points=\"\n",
       "  1970.36,1486.45 1970.36,1467.55 \n",
       "  \"/>\n",
       "<path clip-path=\"url(#clip260)\" d=\"M88.5545 1544.91 L104.874 1544.91 L104.874 1548.85 L82.9296 1548.85 L82.9296 1544.91 Q85.5916 1542.16 90.1749 1537.53 Q94.7814 1532.88 95.9619 1531.53 Q98.2073 1529.01 99.0869 1527.27 Q99.9897 1525.51 99.9897 1523.82 Q99.9897 1521.07 98.0452 1519.33 Q96.1239 1517.6 93.0221 1517.6 Q90.823 1517.6 88.3694 1518.36 Q85.9388 1519.13 83.161 1520.68 L83.161 1515.95 Q85.9851 1514.82 88.4388 1514.24 Q90.8925 1513.66 92.9295 1513.66 Q98.2999 1513.66 101.494 1516.35 Q104.689 1519.03 104.689 1523.52 Q104.689 1525.65 103.879 1527.57 Q103.091 1529.47 100.985 1532.07 Q100.406 1532.74 97.3045 1535.95 Q94.2027 1539.15 88.5545 1544.91 Z\" fill=\"#000000\" fill-rule=\"evenodd\" fill-opacity=\"1\" /><path clip-path=\"url(#clip260)\" d=\"M124.689 1517.37 Q121.078 1517.37 119.249 1520.93 Q117.443 1524.47 117.443 1531.6 Q117.443 1538.71 119.249 1542.27 Q121.078 1545.82 124.689 1545.82 Q128.323 1545.82 130.128 1542.27 Q131.957 1538.71 131.957 1531.6 Q131.957 1524.47 130.128 1520.93 Q128.323 1517.37 124.689 1517.37 M124.689 1513.66 Q130.499 1513.66 133.554 1518.27 Q136.633 1522.85 136.633 1531.6 Q136.633 1540.33 133.554 1544.94 Q130.499 1549.52 124.689 1549.52 Q118.878 1549.52 115.8 1544.94 Q112.744 1540.33 112.744 1531.6 Q112.744 1522.85 115.8 1518.27 Q118.878 1513.66 124.689 1513.66 Z\" fill=\"#000000\" fill-rule=\"evenodd\" fill-opacity=\"1\" /><path clip-path=\"url(#clip260)\" d=\"M154.85 1517.37 Q151.239 1517.37 149.411 1520.93 Q147.605 1524.47 147.605 1531.6 Q147.605 1538.71 149.411 1542.27 Q151.239 1545.82 154.85 1545.82 Q158.485 1545.82 160.29 1542.27 Q162.119 1538.71 162.119 1531.6 Q162.119 1524.47 160.29 1520.93 Q158.485 1517.37 154.85 1517.37 M154.85 1513.66 Q160.661 1513.66 163.716 1518.27 Q166.795 1522.85 166.795 1531.6 Q166.795 1540.33 163.716 1544.94 Q160.661 1549.52 154.85 1549.52 Q149.04 1549.52 145.962 1544.94 Q142.906 1540.33 142.906 1531.6 Q142.906 1522.85 145.962 1518.27 Q149.04 1513.66 154.85 1513.66 Z\" fill=\"#000000\" fill-rule=\"evenodd\" fill-opacity=\"1\" /><path clip-path=\"url(#clip260)\" d=\"M187.86 1518.36 L176.054 1536.81 L187.86 1536.81 L187.86 1518.36 M186.633 1514.29 L192.512 1514.29 L192.512 1536.81 L197.443 1536.81 L197.443 1540.7 L192.512 1540.7 L192.512 1548.85 L187.86 1548.85 L187.86 1540.7 L172.258 1540.7 L172.258 1536.19 L186.633 1514.29 Z\" fill=\"#000000\" fill-rule=\"evenodd\" fill-opacity=\"1\" /><path clip-path=\"url(#clip260)\" d=\"M202.42 1533.96 L214.896 1533.96 L214.896 1537.76 L202.42 1537.76 L202.42 1533.96 Z\" fill=\"#000000\" fill-rule=\"evenodd\" fill-opacity=\"1\" /><path clip-path=\"url(#clip260)\" d=\"M232.281 1517.37 Q228.67 1517.37 226.841 1520.93 Q225.035 1524.47 225.035 1531.6 Q225.035 1538.71 226.841 1542.27 Q228.67 1545.82 232.281 1545.82 Q235.915 1545.82 237.72 1542.27 Q239.549 1538.71 239.549 1531.6 Q239.549 1524.47 237.72 1520.93 Q235.915 1517.37 232.281 1517.37 M232.281 1513.66 Q238.091 1513.66 241.146 1518.27 Q244.225 1522.85 244.225 1531.6 Q244.225 1540.33 241.146 1544.94 Q238.091 1549.52 232.281 1549.52 Q226.47 1549.52 223.392 1544.94 Q220.336 1540.33 220.336 1531.6 Q220.336 1522.85 223.392 1518.27 Q226.47 1513.66 232.281 1513.66 Z\" fill=\"#000000\" fill-rule=\"evenodd\" fill-opacity=\"1\" /><path clip-path=\"url(#clip260)\" d=\"M253.253 1544.91 L260.892 1544.91 L260.892 1518.55 L252.581 1520.21 L252.581 1515.95 L260.845 1514.29 L265.521 1514.29 L265.521 1544.91 L273.16 1544.91 L273.16 1548.85 L253.253 1548.85 L253.253 1544.91 Z\" fill=\"#000000\" fill-rule=\"evenodd\" fill-opacity=\"1\" /><path clip-path=\"url(#clip260)\" d=\"M279.85 1533.96 L292.327 1533.96 L292.327 1537.76 L279.85 1537.76 L279.85 1533.96 Z\" fill=\"#000000\" fill-rule=\"evenodd\" fill-opacity=\"1\" /><path clip-path=\"url(#clip260)\" d=\"M309.711 1517.37 Q306.1 1517.37 304.271 1520.93 Q302.465 1524.47 302.465 1531.6 Q302.465 1538.71 304.271 1542.27 Q306.1 1545.82 309.711 1545.82 Q313.345 1545.82 315.151 1542.27 Q316.979 1538.71 316.979 1531.6 Q316.979 1524.47 315.151 1520.93 Q313.345 1517.37 309.711 1517.37 M309.711 1513.66 Q315.521 1513.66 318.576 1518.27 Q321.655 1522.85 321.655 1531.6 Q321.655 1540.33 318.576 1544.94 Q315.521 1549.52 309.711 1549.52 Q303.901 1549.52 300.822 1544.94 Q297.766 1540.33 297.766 1531.6 Q297.766 1522.85 300.822 1518.27 Q303.901 1513.66 309.711 1513.66 Z\" fill=\"#000000\" fill-rule=\"evenodd\" fill-opacity=\"1\" /><path clip-path=\"url(#clip260)\" d=\"M330.683 1544.91 L338.322 1544.91 L338.322 1518.55 L330.012 1520.21 L330.012 1515.95 L338.275 1514.29 L342.951 1514.29 L342.951 1544.91 L350.59 1544.91 L350.59 1548.85 L330.683 1548.85 L330.683 1544.91 Z\" fill=\"#000000\" fill-rule=\"evenodd\" fill-opacity=\"1\" /><path clip-path=\"url(#clip260)\" d=\"M673.302 1544.91 L689.621 1544.91 L689.621 1548.85 L667.677 1548.85 L667.677 1544.91 Q670.339 1542.16 674.922 1537.53 Q679.529 1532.88 680.709 1531.53 Q682.955 1529.01 683.834 1527.27 Q684.737 1525.51 684.737 1523.82 Q684.737 1521.07 682.793 1519.33 Q680.871 1517.6 677.77 1517.6 Q675.571 1517.6 673.117 1518.36 Q670.686 1519.13 667.909 1520.68 L667.909 1515.95 Q670.733 1514.82 673.186 1514.24 Q675.64 1513.66 677.677 1513.66 Q683.047 1513.66 686.242 1516.35 Q689.436 1519.03 689.436 1523.52 Q689.436 1525.65 688.626 1527.57 Q687.839 1529.47 685.733 1532.07 Q685.154 1532.74 682.052 1535.95 Q678.95 1539.15 673.302 1544.91 Z\" fill=\"#000000\" fill-rule=\"evenodd\" fill-opacity=\"1\" /><path clip-path=\"url(#clip260)\" d=\"M709.436 1517.37 Q705.825 1517.37 703.996 1520.93 Q702.191 1524.47 702.191 1531.6 Q702.191 1538.71 703.996 1542.27 Q705.825 1545.82 709.436 1545.82 Q713.07 1545.82 714.876 1542.27 Q716.705 1538.71 716.705 1531.6 Q716.705 1524.47 714.876 1520.93 Q713.07 1517.37 709.436 1517.37 M709.436 1513.66 Q715.246 1513.66 718.302 1518.27 Q721.381 1522.85 721.381 1531.6 Q721.381 1540.33 718.302 1544.94 Q715.246 1549.52 709.436 1549.52 Q703.626 1549.52 700.547 1544.94 Q697.492 1540.33 697.492 1531.6 Q697.492 1522.85 700.547 1518.27 Q703.626 1513.66 709.436 1513.66 Z\" fill=\"#000000\" fill-rule=\"evenodd\" fill-opacity=\"1\" /><path clip-path=\"url(#clip260)\" d=\"M739.598 1517.37 Q735.987 1517.37 734.158 1520.93 Q732.353 1524.47 732.353 1531.6 Q732.353 1538.71 734.158 1542.27 Q735.987 1545.82 739.598 1545.82 Q743.232 1545.82 745.038 1542.27 Q746.867 1538.71 746.867 1531.6 Q746.867 1524.47 745.038 1520.93 Q743.232 1517.37 739.598 1517.37 M739.598 1513.66 Q745.408 1513.66 748.464 1518.27 Q751.542 1522.85 751.542 1531.6 Q751.542 1540.33 748.464 1544.94 Q745.408 1549.52 739.598 1549.52 Q733.788 1549.52 730.709 1544.94 Q727.654 1540.33 727.654 1531.6 Q727.654 1522.85 730.709 1518.27 Q733.788 1513.66 739.598 1513.66 Z\" fill=\"#000000\" fill-rule=\"evenodd\" fill-opacity=\"1\" /><path clip-path=\"url(#clip260)\" d=\"M759.899 1548.13 L759.899 1543.87 Q761.658 1544.7 763.464 1545.14 Q765.269 1545.58 767.005 1545.58 Q771.635 1545.58 774.065 1542.48 Q776.519 1539.36 776.866 1533.01 Q775.524 1535.01 773.464 1536.07 Q771.403 1537.13 768.903 1537.13 Q763.718 1537.13 760.686 1534.01 Q757.677 1530.86 757.677 1525.42 Q757.677 1520.1 760.825 1516.88 Q763.973 1513.66 769.204 1513.66 Q775.2 1513.66 778.348 1518.27 Q781.519 1522.85 781.519 1531.6 Q781.519 1539.77 777.63 1544.66 Q773.765 1549.52 767.214 1549.52 Q765.454 1549.52 763.649 1549.17 Q761.843 1548.82 759.899 1548.13 M769.204 1533.48 Q772.352 1533.48 774.181 1531.32 Q776.033 1529.17 776.033 1525.42 Q776.033 1521.7 774.181 1519.54 Q772.352 1517.37 769.204 1517.37 Q766.056 1517.37 764.204 1519.54 Q762.376 1521.7 762.376 1525.42 Q762.376 1529.17 764.204 1531.32 Q766.056 1533.48 769.204 1533.48 Z\" fill=\"#000000\" fill-rule=\"evenodd\" fill-opacity=\"1\" /><path clip-path=\"url(#clip260)\" d=\"M787.167 1533.96 L799.644 1533.96 L799.644 1537.76 L787.167 1537.76 L787.167 1533.96 Z\" fill=\"#000000\" fill-rule=\"evenodd\" fill-opacity=\"1\" /><path clip-path=\"url(#clip260)\" d=\"M817.028 1517.37 Q813.417 1517.37 811.588 1520.93 Q809.783 1524.47 809.783 1531.6 Q809.783 1538.71 811.588 1542.27 Q813.417 1545.82 817.028 1545.82 Q820.662 1545.82 822.468 1542.27 Q824.297 1538.71 824.297 1531.6 Q824.297 1524.47 822.468 1520.93 Q820.662 1517.37 817.028 1517.37 M817.028 1513.66 Q822.838 1513.66 825.894 1518.27 Q828.973 1522.85 828.973 1531.6 Q828.973 1540.33 825.894 1544.94 Q822.838 1549.52 817.028 1549.52 Q811.218 1549.52 808.139 1544.94 Q805.084 1540.33 805.084 1531.6 Q805.084 1522.85 808.139 1518.27 Q811.218 1513.66 817.028 1513.66 Z\" fill=\"#000000\" fill-rule=\"evenodd\" fill-opacity=\"1\" /><path clip-path=\"url(#clip260)\" d=\"M838 1544.91 L845.639 1544.91 L845.639 1518.55 L837.329 1520.21 L837.329 1515.95 L845.593 1514.29 L850.269 1514.29 L850.269 1544.91 L857.908 1544.91 L857.908 1548.85 L838 1548.85 L838 1544.91 Z\" fill=\"#000000\" fill-rule=\"evenodd\" fill-opacity=\"1\" /><path clip-path=\"url(#clip260)\" d=\"M864.597 1533.96 L877.074 1533.96 L877.074 1537.76 L864.597 1537.76 L864.597 1533.96 Z\" fill=\"#000000\" fill-rule=\"evenodd\" fill-opacity=\"1\" /><path clip-path=\"url(#clip260)\" d=\"M894.458 1517.37 Q890.847 1517.37 889.019 1520.93 Q887.213 1524.47 887.213 1531.6 Q887.213 1538.71 889.019 1542.27 Q890.847 1545.82 894.458 1545.82 Q898.093 1545.82 899.898 1542.27 Q901.727 1538.71 901.727 1531.6 Q901.727 1524.47 899.898 1520.93 Q898.093 1517.37 894.458 1517.37 M894.458 1513.66 Q900.268 1513.66 903.324 1518.27 Q906.403 1522.85 906.403 1531.6 Q906.403 1540.33 903.324 1544.94 Q900.268 1549.52 894.458 1549.52 Q888.648 1549.52 885.569 1544.94 Q882.514 1540.33 882.514 1531.6 Q882.514 1522.85 885.569 1518.27 Q888.648 1513.66 894.458 1513.66 Z\" fill=\"#000000\" fill-rule=\"evenodd\" fill-opacity=\"1\" /><path clip-path=\"url(#clip260)\" d=\"M915.43 1544.91 L923.069 1544.91 L923.069 1518.55 L914.759 1520.21 L914.759 1515.95 L923.023 1514.29 L927.699 1514.29 L927.699 1544.91 L935.338 1544.91 L935.338 1548.85 L915.43 1548.85 L915.43 1544.91 Z\" fill=\"#000000\" fill-rule=\"evenodd\" fill-opacity=\"1\" /><path clip-path=\"url(#clip260)\" d=\"M1257.73 1544.91 L1274.05 1544.91 L1274.05 1548.85 L1252.1 1548.85 L1252.1 1544.91 Q1254.77 1542.16 1259.35 1537.53 Q1263.96 1532.88 1265.14 1531.53 Q1267.38 1529.01 1268.26 1527.27 Q1269.16 1525.51 1269.16 1523.82 Q1269.16 1521.07 1267.22 1519.33 Q1265.3 1517.6 1262.2 1517.6 Q1260 1517.6 1257.54 1518.36 Q1255.11 1519.13 1252.34 1520.68 L1252.34 1515.95 Q1255.16 1514.82 1257.61 1514.24 Q1260.07 1513.66 1262.1 1513.66 Q1267.47 1513.66 1270.67 1516.35 Q1273.86 1519.03 1273.86 1523.52 Q1273.86 1525.65 1273.05 1527.57 Q1272.27 1529.47 1270.16 1532.07 Q1269.58 1532.74 1266.48 1535.95 Q1263.38 1539.15 1257.73 1544.91 Z\" fill=\"#000000\" fill-rule=\"evenodd\" fill-opacity=\"1\" /><path clip-path=\"url(#clip260)\" d=\"M1293.86 1517.37 Q1290.25 1517.37 1288.42 1520.93 Q1286.62 1524.47 1286.62 1531.6 Q1286.62 1538.71 1288.42 1542.27 Q1290.25 1545.82 1293.86 1545.82 Q1297.5 1545.82 1299.3 1542.27 Q1301.13 1538.71 1301.13 1531.6 Q1301.13 1524.47 1299.3 1520.93 Q1297.5 1517.37 1293.86 1517.37 M1293.86 1513.66 Q1299.67 1513.66 1302.73 1518.27 Q1305.81 1522.85 1305.81 1531.6 Q1305.81 1540.33 1302.73 1544.94 Q1299.67 1549.52 1293.86 1549.52 Q1288.05 1549.52 1284.97 1544.94 Q1281.92 1540.33 1281.92 1531.6 Q1281.92 1522.85 1284.97 1518.27 Q1288.05 1513.66 1293.86 1513.66 Z\" fill=\"#000000\" fill-rule=\"evenodd\" fill-opacity=\"1\" /><path clip-path=\"url(#clip260)\" d=\"M1314.84 1544.91 L1322.47 1544.91 L1322.47 1518.55 L1314.16 1520.21 L1314.16 1515.95 L1322.43 1514.29 L1327.1 1514.29 L1327.1 1544.91 L1334.74 1544.91 L1334.74 1548.85 L1314.84 1548.85 L1314.84 1544.91 Z\" fill=\"#000000\" fill-rule=\"evenodd\" fill-opacity=\"1\" /><path clip-path=\"url(#clip260)\" d=\"M1357.03 1518.36 L1345.23 1536.81 L1357.03 1536.81 L1357.03 1518.36 M1355.81 1514.29 L1361.69 1514.29 L1361.69 1536.81 L1366.62 1536.81 L1366.62 1540.7 L1361.69 1540.7 L1361.69 1548.85 L1357.03 1548.85 L1357.03 1540.7 L1341.43 1540.7 L1341.43 1536.19 L1355.81 1514.29 Z\" fill=\"#000000\" fill-rule=\"evenodd\" fill-opacity=\"1\" /><path clip-path=\"url(#clip260)\" d=\"M1371.59 1533.96 L1384.07 1533.96 L1384.07 1537.76 L1371.59 1537.76 L1371.59 1533.96 Z\" fill=\"#000000\" fill-rule=\"evenodd\" fill-opacity=\"1\" /><path clip-path=\"url(#clip260)\" d=\"M1401.46 1517.37 Q1397.84 1517.37 1396.02 1520.93 Q1394.21 1524.47 1394.21 1531.6 Q1394.21 1538.71 1396.02 1542.27 Q1397.84 1545.82 1401.46 1545.82 Q1405.09 1545.82 1406.9 1542.27 Q1408.72 1538.71 1408.72 1531.6 Q1408.72 1524.47 1406.9 1520.93 Q1405.09 1517.37 1401.46 1517.37 M1401.46 1513.66 Q1407.27 1513.66 1410.32 1518.27 Q1413.4 1522.85 1413.4 1531.6 Q1413.4 1540.33 1410.32 1544.94 Q1407.27 1549.52 1401.46 1549.52 Q1395.65 1549.52 1392.57 1544.94 Q1389.51 1540.33 1389.51 1531.6 Q1389.51 1522.85 1392.57 1518.27 Q1395.65 1513.66 1401.46 1513.66 Z\" fill=\"#000000\" fill-rule=\"evenodd\" fill-opacity=\"1\" /><path clip-path=\"url(#clip260)\" d=\"M1422.43 1544.91 L1430.07 1544.91 L1430.07 1518.55 L1421.76 1520.21 L1421.76 1515.95 L1430.02 1514.29 L1434.7 1514.29 L1434.7 1544.91 L1442.34 1544.91 L1442.34 1548.85 L1422.43 1548.85 L1422.43 1544.91 Z\" fill=\"#000000\" fill-rule=\"evenodd\" fill-opacity=\"1\" /><path clip-path=\"url(#clip260)\" d=\"M1449.02 1533.96 L1461.5 1533.96 L1461.5 1537.76 L1449.02 1537.76 L1449.02 1533.96 Z\" fill=\"#000000\" fill-rule=\"evenodd\" fill-opacity=\"1\" /><path clip-path=\"url(#clip260)\" d=\"M1478.89 1517.37 Q1475.27 1517.37 1473.45 1520.93 Q1471.64 1524.47 1471.64 1531.6 Q1471.64 1538.71 1473.45 1542.27 Q1475.27 1545.82 1478.89 1545.82 Q1482.52 1545.82 1484.33 1542.27 Q1486.15 1538.71 1486.15 1531.6 Q1486.15 1524.47 1484.33 1520.93 Q1482.52 1517.37 1478.89 1517.37 M1478.89 1513.66 Q1484.7 1513.66 1487.75 1518.27 Q1490.83 1522.85 1490.83 1531.6 Q1490.83 1540.33 1487.75 1544.94 Q1484.7 1549.52 1478.89 1549.52 Q1473.08 1549.52 1470 1544.94 Q1466.94 1540.33 1466.94 1531.6 Q1466.94 1522.85 1470 1518.27 Q1473.08 1513.66 1478.89 1513.66 Z\" fill=\"#000000\" fill-rule=\"evenodd\" fill-opacity=\"1\" /><path clip-path=\"url(#clip260)\" d=\"M1499.86 1544.91 L1507.5 1544.91 L1507.5 1518.55 L1499.19 1520.21 L1499.19 1515.95 L1507.45 1514.29 L1512.13 1514.29 L1512.13 1544.91 L1519.77 1544.91 L1519.77 1548.85 L1499.86 1548.85 L1499.86 1544.91 Z\" fill=\"#000000\" fill-rule=\"evenodd\" fill-opacity=\"1\" /><path clip-path=\"url(#clip260)\" d=\"M1842.16 1544.91 L1858.48 1544.91 L1858.48 1548.85 L1836.53 1548.85 L1836.53 1544.91 Q1839.19 1542.16 1843.78 1537.53 Q1848.38 1532.88 1849.56 1531.53 Q1851.81 1529.01 1852.69 1527.27 Q1853.59 1525.51 1853.59 1523.82 Q1853.59 1521.07 1851.65 1519.33 Q1849.73 1517.6 1846.62 1517.6 Q1844.43 1517.6 1841.97 1518.36 Q1839.54 1519.13 1836.76 1520.68 L1836.76 1515.95 Q1839.59 1514.82 1842.04 1514.24 Q1844.49 1513.66 1846.53 1513.66 Q1851.9 1513.66 1855.1 1516.35 Q1858.29 1519.03 1858.29 1523.52 Q1858.29 1525.65 1857.48 1527.57 Q1856.69 1529.47 1854.59 1532.07 Q1854.01 1532.74 1850.91 1535.95 Q1847.81 1539.15 1842.16 1544.91 Z\" fill=\"#000000\" fill-rule=\"evenodd\" fill-opacity=\"1\" /><path clip-path=\"url(#clip260)\" d=\"M1878.29 1517.37 Q1874.68 1517.37 1872.85 1520.93 Q1871.05 1524.47 1871.05 1531.6 Q1871.05 1538.71 1872.85 1542.27 Q1874.68 1545.82 1878.29 1545.82 Q1881.93 1545.82 1883.73 1542.27 Q1885.56 1538.71 1885.56 1531.6 Q1885.56 1524.47 1883.73 1520.93 Q1881.93 1517.37 1878.29 1517.37 M1878.29 1513.66 Q1884.1 1513.66 1887.16 1518.27 Q1890.24 1522.85 1890.24 1531.6 Q1890.24 1540.33 1887.16 1544.94 Q1884.1 1549.52 1878.29 1549.52 Q1872.48 1549.52 1869.4 1544.94 Q1866.35 1540.33 1866.35 1531.6 Q1866.35 1522.85 1869.4 1518.27 Q1872.48 1513.66 1878.29 1513.66 Z\" fill=\"#000000\" fill-rule=\"evenodd\" fill-opacity=\"1\" /><path clip-path=\"url(#clip260)\" d=\"M1899.26 1544.91 L1906.9 1544.91 L1906.9 1518.55 L1898.59 1520.21 L1898.59 1515.95 L1906.86 1514.29 L1911.53 1514.29 L1911.53 1544.91 L1919.17 1544.91 L1919.17 1548.85 L1899.26 1548.85 L1899.26 1544.91 Z\" fill=\"#000000\" fill-rule=\"evenodd\" fill-opacity=\"1\" /><path clip-path=\"url(#clip260)\" d=\"M1928.75 1548.13 L1928.75 1543.87 Q1930.51 1544.7 1932.32 1545.14 Q1934.12 1545.58 1935.86 1545.58 Q1940.49 1545.58 1942.92 1542.48 Q1945.37 1539.36 1945.72 1533.01 Q1944.38 1535.01 1942.32 1536.07 Q1940.26 1537.13 1937.76 1537.13 Q1932.57 1537.13 1929.54 1534.01 Q1926.53 1530.86 1926.53 1525.42 Q1926.53 1520.1 1929.68 1516.88 Q1932.83 1513.66 1938.06 1513.66 Q1944.05 1513.66 1947.2 1518.27 Q1950.37 1522.85 1950.37 1531.6 Q1950.37 1539.77 1946.49 1544.66 Q1942.62 1549.52 1936.07 1549.52 Q1934.31 1549.52 1932.5 1549.17 Q1930.7 1548.82 1928.75 1548.13 M1938.06 1533.48 Q1941.21 1533.48 1943.04 1531.32 Q1944.89 1529.17 1944.89 1525.42 Q1944.89 1521.7 1943.04 1519.54 Q1941.21 1517.37 1938.06 1517.37 Q1934.91 1517.37 1933.06 1519.54 Q1931.23 1521.7 1931.23 1525.42 Q1931.23 1529.17 1933.06 1531.32 Q1934.91 1533.48 1938.06 1533.48 Z\" fill=\"#000000\" fill-rule=\"evenodd\" fill-opacity=\"1\" /><path clip-path=\"url(#clip260)\" d=\"M1956.02 1533.96 L1968.5 1533.96 L1968.5 1537.76 L1956.02 1537.76 L1956.02 1533.96 Z\" fill=\"#000000\" fill-rule=\"evenodd\" fill-opacity=\"1\" /><path clip-path=\"url(#clip260)\" d=\"M1985.88 1517.37 Q1982.27 1517.37 1980.44 1520.93 Q1978.64 1524.47 1978.64 1531.6 Q1978.64 1538.71 1980.44 1542.27 Q1982.27 1545.82 1985.88 1545.82 Q1989.52 1545.82 1991.32 1542.27 Q1993.15 1538.71 1993.15 1531.6 Q1993.15 1524.47 1991.32 1520.93 Q1989.52 1517.37 1985.88 1517.37 M1985.88 1513.66 Q1991.69 1513.66 1994.75 1518.27 Q1997.83 1522.85 1997.83 1531.6 Q1997.83 1540.33 1994.75 1544.94 Q1991.69 1549.52 1985.88 1549.52 Q1980.07 1549.52 1976.99 1544.94 Q1973.94 1540.33 1973.94 1531.6 Q1973.94 1522.85 1976.99 1518.27 Q1980.07 1513.66 1985.88 1513.66 Z\" fill=\"#000000\" fill-rule=\"evenodd\" fill-opacity=\"1\" /><path clip-path=\"url(#clip260)\" d=\"M2006.86 1544.91 L2014.49 1544.91 L2014.49 1518.55 L2006.18 1520.21 L2006.18 1515.95 L2014.45 1514.29 L2019.12 1514.29 L2019.12 1544.91 L2026.76 1544.91 L2026.76 1548.85 L2006.86 1548.85 L2006.86 1544.91 Z\" fill=\"#000000\" fill-rule=\"evenodd\" fill-opacity=\"1\" /><path clip-path=\"url(#clip260)\" d=\"M2033.45 1533.96 L2045.93 1533.96 L2045.93 1537.76 L2033.45 1537.76 L2033.45 1533.96 Z\" fill=\"#000000\" fill-rule=\"evenodd\" fill-opacity=\"1\" /><path clip-path=\"url(#clip260)\" d=\"M2063.31 1517.37 Q2059.7 1517.37 2057.87 1520.93 Q2056.07 1524.47 2056.07 1531.6 Q2056.07 1538.71 2057.87 1542.27 Q2059.7 1545.82 2063.31 1545.82 Q2066.95 1545.82 2068.75 1542.27 Q2070.58 1538.71 2070.58 1531.6 Q2070.58 1524.47 2068.75 1520.93 Q2066.95 1517.37 2063.31 1517.37 M2063.31 1513.66 Q2069.12 1513.66 2072.18 1518.27 Q2075.26 1522.85 2075.26 1531.6 Q2075.26 1540.33 2072.18 1544.94 Q2069.12 1549.52 2063.31 1549.52 Q2057.5 1549.52 2054.42 1544.94 Q2051.37 1540.33 2051.37 1531.6 Q2051.37 1522.85 2054.42 1518.27 Q2057.5 1513.66 2063.31 1513.66 Z\" fill=\"#000000\" fill-rule=\"evenodd\" fill-opacity=\"1\" /><path clip-path=\"url(#clip260)\" d=\"M2084.29 1544.91 L2091.92 1544.91 L2091.92 1518.55 L2083.61 1520.21 L2083.61 1515.95 L2091.88 1514.29 L2096.55 1514.29 L2096.55 1544.91 L2104.19 1544.91 L2104.19 1548.85 L2084.29 1548.85 L2084.29 1544.91 Z\" fill=\"#000000\" fill-rule=\"evenodd\" fill-opacity=\"1\" /><polyline clip-path=\"url(#clip262)\" style=\"stroke:#000000; stroke-linecap:butt; stroke-linejoin:round; stroke-width:2; stroke-opacity:0.1; fill:none\" points=\"\n",
       "  184.191,1247.15 2352.76,1247.15 \n",
       "  \"/>\n",
       "<polyline clip-path=\"url(#clip262)\" style=\"stroke:#000000; stroke-linecap:butt; stroke-linejoin:round; stroke-width:2; stroke-opacity:0.1; fill:none\" points=\"\n",
       "  184.191,1005.65 2352.76,1005.65 \n",
       "  \"/>\n",
       "<polyline clip-path=\"url(#clip262)\" style=\"stroke:#000000; stroke-linecap:butt; stroke-linejoin:round; stroke-width:2; stroke-opacity:0.1; fill:none\" points=\"\n",
       "  184.191,764.158 2352.76,764.158 \n",
       "  \"/>\n",
       "<polyline clip-path=\"url(#clip262)\" style=\"stroke:#000000; stroke-linecap:butt; stroke-linejoin:round; stroke-width:2; stroke-opacity:0.1; fill:none\" points=\"\n",
       "  184.191,522.665 2352.76,522.665 \n",
       "  \"/>\n",
       "<polyline clip-path=\"url(#clip262)\" style=\"stroke:#000000; stroke-linecap:butt; stroke-linejoin:round; stroke-width:2; stroke-opacity:0.1; fill:none\" points=\"\n",
       "  184.191,281.171 2352.76,281.171 \n",
       "  \"/>\n",
       "<polyline clip-path=\"url(#clip260)\" style=\"stroke:#000000; stroke-linecap:butt; stroke-linejoin:round; stroke-width:4; stroke-opacity:1; fill:none\" points=\"\n",
       "  184.191,1486.45 184.191,47.2441 \n",
       "  \"/>\n",
       "<polyline clip-path=\"url(#clip260)\" style=\"stroke:#000000; stroke-linecap:butt; stroke-linejoin:round; stroke-width:4; stroke-opacity:1; fill:none\" points=\"\n",
       "  184.191,1247.15 203.088,1247.15 \n",
       "  \"/>\n",
       "<polyline clip-path=\"url(#clip260)\" style=\"stroke:#000000; stroke-linecap:butt; stroke-linejoin:round; stroke-width:4; stroke-opacity:1; fill:none\" points=\"\n",
       "  184.191,1005.65 203.088,1005.65 \n",
       "  \"/>\n",
       "<polyline clip-path=\"url(#clip260)\" style=\"stroke:#000000; stroke-linecap:butt; stroke-linejoin:round; stroke-width:4; stroke-opacity:1; fill:none\" points=\"\n",
       "  184.191,764.158 203.088,764.158 \n",
       "  \"/>\n",
       "<polyline clip-path=\"url(#clip260)\" style=\"stroke:#000000; stroke-linecap:butt; stroke-linejoin:round; stroke-width:4; stroke-opacity:1; fill:none\" points=\"\n",
       "  184.191,522.665 203.088,522.665 \n",
       "  \"/>\n",
       "<polyline clip-path=\"url(#clip260)\" style=\"stroke:#000000; stroke-linecap:butt; stroke-linejoin:round; stroke-width:4; stroke-opacity:1; fill:none\" points=\"\n",
       "  184.191,281.171 203.088,281.171 \n",
       "  \"/>\n",
       "<path clip-path=\"url(#clip260)\" d=\"M91.0151 1232.94 Q87.404 1232.94 85.5753 1236.51 Q83.7697 1240.05 83.7697 1247.18 Q83.7697 1254.29 85.5753 1257.85 Q87.404 1261.39 91.0151 1261.39 Q94.6493 1261.39 96.4548 1257.85 Q98.2835 1254.29 98.2835 1247.18 Q98.2835 1240.05 96.4548 1236.51 Q94.6493 1232.94 91.0151 1232.94 M91.0151 1229.24 Q96.8252 1229.24 99.8808 1233.85 Q102.959 1238.43 102.959 1247.18 Q102.959 1255.91 99.8808 1260.51 Q96.8252 1265.1 91.0151 1265.1 Q85.2049 1265.1 82.1262 1260.51 Q79.0707 1255.91 79.0707 1247.18 Q79.0707 1238.43 82.1262 1233.85 Q85.2049 1229.24 91.0151 1229.24 Z\" fill=\"#000000\" fill-rule=\"evenodd\" fill-opacity=\"1\" /><path clip-path=\"url(#clip260)\" d=\"M111.177 1258.55 L116.061 1258.55 L116.061 1264.43 L111.177 1264.43 L111.177 1258.55 Z\" fill=\"#000000\" fill-rule=\"evenodd\" fill-opacity=\"1\" /><path clip-path=\"url(#clip260)\" d=\"M136.246 1232.94 Q132.635 1232.94 130.807 1236.51 Q129.001 1240.05 129.001 1247.18 Q129.001 1254.29 130.807 1257.85 Q132.635 1261.39 136.246 1261.39 Q139.881 1261.39 141.686 1257.85 Q143.515 1254.29 143.515 1247.18 Q143.515 1240.05 141.686 1236.51 Q139.881 1232.94 136.246 1232.94 M136.246 1229.24 Q142.056 1229.24 145.112 1233.85 Q148.191 1238.43 148.191 1247.18 Q148.191 1255.91 145.112 1260.51 Q142.056 1265.1 136.246 1265.1 Q130.436 1265.1 127.357 1260.51 Q124.302 1255.91 124.302 1247.18 Q124.302 1238.43 127.357 1233.85 Q130.436 1229.24 136.246 1229.24 Z\" fill=\"#000000\" fill-rule=\"evenodd\" fill-opacity=\"1\" /><path clip-path=\"url(#clip260)\" d=\"M86.0382 1019 L102.358 1019 L102.358 1022.93 L80.4133 1022.93 L80.4133 1019 Q83.0753 1016.24 87.6586 1011.61 Q92.2651 1006.96 93.4456 1005.62 Q95.691 1003.09 96.5706 1001.36 Q97.4734 999.598 97.4734 997.909 Q97.4734 995.154 95.5289 993.418 Q93.6076 991.682 90.5058 991.682 Q88.3067 991.682 85.8531 992.446 Q83.4225 993.209 80.6447 994.76 L80.6447 990.038 Q83.4688 988.904 85.9225 988.325 Q88.3762 987.747 90.4132 987.747 Q95.7836 987.747 98.978 990.432 Q102.172 993.117 102.172 997.608 Q102.172 999.737 101.362 1001.66 Q100.575 1003.56 98.4687 1006.15 Q97.89 1006.82 94.7882 1010.04 Q91.6864 1013.23 86.0382 1019 Z\" fill=\"#000000\" fill-rule=\"evenodd\" fill-opacity=\"1\" /><path clip-path=\"url(#clip260)\" d=\"M112.172 1017.05 L117.057 1017.05 L117.057 1022.93 L112.172 1022.93 L112.172 1017.05 Z\" fill=\"#000000\" fill-rule=\"evenodd\" fill-opacity=\"1\" /><path clip-path=\"url(#clip260)\" d=\"M127.288 988.372 L145.644 988.372 L145.644 992.307 L131.57 992.307 L131.57 1000.78 Q132.589 1000.43 133.607 1000.27 Q134.626 1000.08 135.644 1000.08 Q141.431 1000.08 144.811 1003.26 Q148.191 1006.43 148.191 1011.84 Q148.191 1017.42 144.718 1020.52 Q141.246 1023.6 134.927 1023.6 Q132.751 1023.6 130.482 1023.23 Q128.237 1022.86 125.83 1022.12 L125.83 1017.42 Q127.913 1018.56 130.135 1019.11 Q132.357 1019.67 134.834 1019.67 Q138.839 1019.67 141.177 1017.56 Q143.515 1015.45 143.515 1011.84 Q143.515 1008.23 141.177 1006.13 Q138.839 1004.02 134.834 1004.02 Q132.959 1004.02 131.084 1004.44 Q129.232 1004.85 127.288 1005.73 L127.288 988.372 Z\" fill=\"#000000\" fill-rule=\"evenodd\" fill-opacity=\"1\" /><path clip-path=\"url(#clip260)\" d=\"M81.0614 746.878 L99.4178 746.878 L99.4178 750.813 L85.3438 750.813 L85.3438 759.285 Q86.3623 758.938 87.3808 758.776 Q88.3993 758.591 89.4178 758.591 Q95.2049 758.591 98.5845 761.762 Q101.964 764.934 101.964 770.35 Q101.964 775.929 98.4919 779.031 Q95.0197 782.109 88.7003 782.109 Q86.5243 782.109 84.2558 781.739 Q82.0105 781.369 79.6031 780.628 L79.6031 775.929 Q81.6864 777.063 83.9086 777.619 Q86.1308 778.174 88.6077 778.174 Q92.6123 778.174 94.9502 776.068 Q97.2882 773.961 97.2882 770.35 Q97.2882 766.739 94.9502 764.633 Q92.6123 762.526 88.6077 762.526 Q86.7327 762.526 84.8577 762.943 Q83.0058 763.359 81.0614 764.239 L81.0614 746.878 Z\" fill=\"#000000\" fill-rule=\"evenodd\" fill-opacity=\"1\" /><path clip-path=\"url(#clip260)\" d=\"M111.177 775.558 L116.061 775.558 L116.061 781.438 L111.177 781.438 L111.177 775.558 Z\" fill=\"#000000\" fill-rule=\"evenodd\" fill-opacity=\"1\" /><path clip-path=\"url(#clip260)\" d=\"M136.246 749.957 Q132.635 749.957 130.807 753.522 Q129.001 757.063 129.001 764.193 Q129.001 771.299 130.807 774.864 Q132.635 778.406 136.246 778.406 Q139.881 778.406 141.686 774.864 Q143.515 771.299 143.515 764.193 Q143.515 757.063 141.686 753.522 Q139.881 749.957 136.246 749.957 M136.246 746.253 Q142.056 746.253 145.112 750.86 Q148.191 755.443 148.191 764.193 Q148.191 772.92 145.112 777.526 Q142.056 782.109 136.246 782.109 Q130.436 782.109 127.357 777.526 Q124.302 772.92 124.302 764.193 Q124.302 755.443 127.357 750.86 Q130.436 746.253 136.246 746.253 Z\" fill=\"#000000\" fill-rule=\"evenodd\" fill-opacity=\"1\" /><path clip-path=\"url(#clip260)\" d=\"M80.8299 505.385 L103.052 505.385 L103.052 507.375 L90.5058 539.945 L85.6216 539.945 L97.4271 509.32 L80.8299 509.32 L80.8299 505.385 Z\" fill=\"#000000\" fill-rule=\"evenodd\" fill-opacity=\"1\" /><path clip-path=\"url(#clip260)\" d=\"M112.172 534.065 L117.057 534.065 L117.057 539.945 L112.172 539.945 L112.172 534.065 Z\" fill=\"#000000\" fill-rule=\"evenodd\" fill-opacity=\"1\" /><path clip-path=\"url(#clip260)\" d=\"M127.288 505.385 L145.644 505.385 L145.644 509.32 L131.57 509.32 L131.57 517.792 Q132.589 517.445 133.607 517.283 Q134.626 517.097 135.644 517.097 Q141.431 517.097 144.811 520.269 Q148.191 523.44 148.191 528.857 Q148.191 534.435 144.718 537.537 Q141.246 540.616 134.927 540.616 Q132.751 540.616 130.482 540.245 Q128.237 539.875 125.83 539.134 L125.83 534.435 Q127.913 535.57 130.135 536.125 Q132.357 536.681 134.834 536.681 Q138.839 536.681 141.177 534.574 Q143.515 532.468 143.515 528.857 Q143.515 525.246 141.177 523.139 Q138.839 521.033 134.834 521.033 Q132.959 521.033 131.084 521.449 Q129.232 521.866 127.288 522.746 L127.288 505.385 Z\" fill=\"#000000\" fill-rule=\"evenodd\" fill-opacity=\"1\" /><path clip-path=\"url(#clip260)\" d=\"M51.6634 294.516 L59.3023 294.516 L59.3023 268.15 L50.9921 269.817 L50.9921 265.558 L59.256 263.891 L63.9319 263.891 L63.9319 294.516 L71.5707 294.516 L71.5707 298.451 L51.6634 298.451 L51.6634 294.516 Z\" fill=\"#000000\" fill-rule=\"evenodd\" fill-opacity=\"1\" /><path clip-path=\"url(#clip260)\" d=\"M91.0151 266.97 Q87.404 266.97 85.5753 270.535 Q83.7697 274.076 83.7697 281.206 Q83.7697 288.312 85.5753 291.877 Q87.404 295.419 91.0151 295.419 Q94.6493 295.419 96.4548 291.877 Q98.2835 288.312 98.2835 281.206 Q98.2835 274.076 96.4548 270.535 Q94.6493 266.97 91.0151 266.97 M91.0151 263.266 Q96.8252 263.266 99.8808 267.873 Q102.959 272.456 102.959 281.206 Q102.959 289.933 99.8808 294.539 Q96.8252 299.122 91.0151 299.122 Q85.2049 299.122 82.1262 294.539 Q79.0707 289.933 79.0707 281.206 Q79.0707 272.456 82.1262 267.873 Q85.2049 263.266 91.0151 263.266 Z\" fill=\"#000000\" fill-rule=\"evenodd\" fill-opacity=\"1\" /><path clip-path=\"url(#clip260)\" d=\"M111.177 292.571 L116.061 292.571 L116.061 298.451 L111.177 298.451 L111.177 292.571 Z\" fill=\"#000000\" fill-rule=\"evenodd\" fill-opacity=\"1\" /><path clip-path=\"url(#clip260)\" d=\"M136.246 266.97 Q132.635 266.97 130.807 270.535 Q129.001 274.076 129.001 281.206 Q129.001 288.312 130.807 291.877 Q132.635 295.419 136.246 295.419 Q139.881 295.419 141.686 291.877 Q143.515 288.312 143.515 281.206 Q143.515 274.076 141.686 270.535 Q139.881 266.97 136.246 266.97 M136.246 263.266 Q142.056 263.266 145.112 267.873 Q148.191 272.456 148.191 281.206 Q148.191 289.933 145.112 294.539 Q142.056 299.122 136.246 299.122 Q130.436 299.122 127.357 294.539 Q124.302 289.933 124.302 281.206 Q124.302 272.456 127.357 267.873 Q130.436 263.266 136.246 263.266 Z\" fill=\"#000000\" fill-rule=\"evenodd\" fill-opacity=\"1\" /><polyline clip-path=\"url(#clip262)\" style=\"stroke:#0000ff; stroke-linecap:butt; stroke-linejoin:round; stroke-width:8; stroke-opacity:0.6; fill:none\" points=\"\n",
       "  245.565,1445.72 274.691,1442.76 304.136,1344.56 333.581,1090.15 362.387,1056.36 391.512,1057.78 420.957,1013.96 450.403,1043.92 479.208,1050.29 508.333,1008.2 \n",
       "  537.779,888.634 567.224,811.338 596.03,755.641 625.155,673.483 654.6,650.667 684.046,559.769 713.171,381.407 742.297,282.368 771.742,176.567 801.187,306.875 \n",
       "  829.993,439.086 859.118,501.715 888.563,634.066 918.009,653.004 946.814,701.287 975.939,808.066 1005.38,909.687 1034.83,915.981 1063.64,878.101 1092.76,799.766 \n",
       "  1122.21,726.343 1151.65,660.886 1180.78,660.629 1209.9,697.404 1239.35,752.986 1268.79,702.934 1297.6,694.202 1326.72,698.109 1356.17,646.222 1385.61,723.909 \n",
       "  1414.42,672.632 1443.55,622.172 1472.99,642.93 1502.44,697.342 1531.24,846.993 1560.37,806.899 1589.81,790.779 1619.26,777.524 1648.38,618.723 1677.51,643.631 \n",
       "  1706.95,666.108 1736.4,609.823 1765.2,636.879 1794.33,735.261 1823.78,783.895 1853.22,791.466 1882.03,853.905 1911.15,814.339 1940.6,764.625 1970.04,771.874 \n",
       "  1998.85,841.863 2027.97,817.89 2057.42,846.88 2086.86,885.346 2115.99,820.163 2145.11,1014.35 2174.56,948.214 2204.01,940.937 2232.81,950.267 2261.94,781.277 \n",
       "  2291.38,780.451 \n",
       "  \"/>\n",
       "<polyline clip-path=\"url(#clip262)\" style=\"stroke:#ff0000; stroke-linecap:butt; stroke-linejoin:round; stroke-width:8; stroke-opacity:0.8; fill:none\" stroke-dasharray=\"32, 16, 4, 16\" points=\"\n",
       "  245.565,474.366 274.691,474.366 304.136,506.565 333.581,522.665 362.387,522.665 391.512,570.963 420.957,570.963 450.403,570.963 479.208,570.963 508.333,554.864 \n",
       "  537.779,490.465 567.224,409.968 596.03,377.768 625.155,361.669 654.6,297.271 684.046,216.773 713.171,184.574 742.297,120.175 771.742,87.9763 801.187,104.076 \n",
       "  829.993,232.872 859.118,458.266 888.563,554.864 918.009,570.963 946.814,587.063 975.939,619.262 1005.38,635.362 1034.83,699.76 1063.64,715.859 1092.76,715.859 \n",
       "  1122.21,715.859 1151.65,715.859 1180.78,715.859 1209.9,715.859 1239.35,764.158 1268.79,764.158 1297.6,764.158 1326.72,764.158 1356.17,764.158 1385.61,764.158 \n",
       "  1414.42,715.859 1443.55,715.859 1472.99,691.71 1502.44,691.71 1531.24,691.71 1560.37,691.71 1589.81,667.561 1619.26,651.461 1648.38,587.063 1677.51,570.963 \n",
       "  1706.95,570.963 1736.4,570.963 1765.2,570.963 1794.33,570.963 1823.78,595.113 1853.22,595.113 1882.03,603.162 1911.15,619.262 1940.6,619.262 1970.04,603.162 \n",
       "  1998.85,595.113 2027.97,595.113 2057.42,619.262 2086.86,619.262 2115.99,675.61 2145.11,868.805 2174.56,909.054 2204.01,909.054 2232.81,909.054 2261.94,909.054 \n",
       "  2291.38,909.054 \n",
       "  \"/>\n",
       "<polyline clip-path=\"url(#clip262)\" style=\"stroke:#000000; stroke-linecap:butt; stroke-linejoin:round; stroke-width:6; stroke-opacity:0.5; fill:none\" stroke-dasharray=\"24, 15\" points=\"\n",
       "  -1984.37,1247.15 4521.32,1247.15 \n",
       "  \"/>\n",
       "</svg>\n"
      ]
     },
     "execution_count": 52,
     "metadata": {},
     "output_type": "execute_result"
    }
   ],
   "source": [
    "repo = sa_data[!, :repo]\n",
    "plot(date_sa, inflation, legend = false, lw = 2, color = :blue, alpha = 0.6)\n",
    "plot!(date_sa, repo, legend = false, lw = 2, color = :red, alpha = 0.8, ls = :dashdot)\n",
    "plot!([0], legend = false, lw = 1.5, seriestype = :hline, color = :black, ls = :dash, alpha = 0.5)"
   ]
  },
  {
   "cell_type": "markdown",
   "metadata": {
    "slideshow": {
     "slide_type": "slide"
    }
   },
   "source": [
    "# Descriptive statistics"
   ]
  },
  {
   "cell_type": "code",
   "execution_count": 28,
   "metadata": {
    "slideshow": {
     "slide_type": "fragment"
    }
   },
   "outputs": [
    {
     "data": {
      "text/plain": [
       "3.7277526338028167e6"
      ]
     },
     "execution_count": 28,
     "metadata": {},
     "output_type": "execute_result"
    }
   ],
   "source": [
    "mean(gdp) # The average"
   ]
  },
  {
   "cell_type": "code",
   "execution_count": 37,
   "metadata": {
    "slideshow": {
     "slide_type": "fragment"
    }
   },
   "outputs": [
    {
     "data": {
      "text/plain": [
       "1.3124105578634653e6"
      ]
     },
     "execution_count": 37,
     "metadata": {},
     "output_type": "execute_result"
    }
   ],
   "source": [
    "std(gdp) # The standard deviation"
   ]
  },
  {
   "cell_type": "code",
   "execution_count": 36,
   "metadata": {
    "slideshow": {
     "slide_type": "fragment"
    }
   },
   "outputs": [
    {
     "data": {
      "text/html": [
       "<div class=\"data-frame\"><p>5 rows × 7 columns</p><table class=\"data-frame\"><thead><tr><th></th><th>variable</th><th>mean</th><th>min</th><th>median</th><th>max</th><th>nmissing</th><th>eltype</th></tr><tr><th></th><th title=\"Symbol\">Symbol</th><th title=\"Union{Nothing, Float64}\">Union…</th><th title=\"Any\">Any</th><th title=\"Any\">Any</th><th title=\"Any\">Any</th><th title=\"Int64\">Int64</th><th title=\"DataType\">DataType</th></tr></thead><tbody><tr><th>1</th><td>date</td><td></td><td>2004-03-31</td><td>2012-12-31</td><td>2021-09-30</td><td>0</td><td>Date</td></tr><tr><th>2</th><td>gdp</td><td>3.72775e6</td><td>1571580</td><td>3.71359e6</td><td>5819983</td><td>0</td><td>Int64</td></tr><tr><th>3</th><td>repo</td><td>6.73709</td><td>3.5</td><td>6.66667</td><td>12.0</td><td>0</td><td>Float64</td></tr><tr><th>4</th><td>cpi</td><td>82.2662</td><td>51.1689</td><td>80.0</td><td>122.233</td><td>0</td><td>Float64</td></tr><tr><th>5</th><td>inflation</td><td>4.83013</td><td>-2.05565</td><td>4.86163</td><td>11.0829</td><td>0</td><td>Float64</td></tr></tbody></table></div>"
      ],
      "text/latex": [
       "\\begin{tabular}{r|ccccccc}\n",
       "\t& variable & mean & min & median & max & nmissing & eltype\\\\\n",
       "\t\\hline\n",
       "\t& Symbol & Union… & Any & Any & Any & Int64 & DataType\\\\\n",
       "\t\\hline\n",
       "\t1 & date &  & 2004-03-31 & 2012-12-31 & 2021-09-30 & 0 & Date \\\\\n",
       "\t2 & gdp & 3.72775e6 & 1571580 & 3.71359e6 & 5819983 & 0 & Int64 \\\\\n",
       "\t3 & repo & 6.73709 & 3.5 & 6.66667 & 12.0 & 0 & Float64 \\\\\n",
       "\t4 & cpi & 82.2662 & 51.1689 & 80.0 & 122.233 & 0 & Float64 \\\\\n",
       "\t5 & inflation & 4.83013 & -2.05565 & 4.86163 & 11.0829 & 0 & Float64 \\\\\n",
       "\\end{tabular}\n"
      ],
      "text/plain": [
       "\u001b[1m5×7 DataFrame\u001b[0m\n",
       "\u001b[1m Row \u001b[0m│\u001b[1m variable  \u001b[0m\u001b[1m mean      \u001b[0m\u001b[1m min        \u001b[0m\u001b[1m median     \u001b[0m\u001b[1m max        \u001b[0m\u001b[1m nmissing \u001b[0m\u001b[1m eltype   \u001b[0m\n",
       "\u001b[1m     \u001b[0m│\u001b[90m Symbol    \u001b[0m\u001b[90m Union…    \u001b[0m\u001b[90m Any        \u001b[0m\u001b[90m Any        \u001b[0m\u001b[90m Any        \u001b[0m\u001b[90m Int64    \u001b[0m\u001b[90m DataType \u001b[0m\n",
       "─────┼──────────────────────────────────────────────────────────────────────────────\n",
       "   1 │ date      \u001b[90m           \u001b[0m 2004-03-31  2012-12-31  2021-09-30         0  Date\n",
       "  ⋮  │     ⋮          ⋮          ⋮           ⋮           ⋮          ⋮         ⋮\n",
       "\u001b[36m                                                                      4 rows omitted\u001b[0m"
      ]
     },
     "execution_count": 36,
     "metadata": {},
     "output_type": "execute_result"
    }
   ],
   "source": [
    "describe(sa_data)"
   ]
  },
  {
   "cell_type": "markdown",
   "metadata": {
    "slideshow": {
     "slide_type": "slide"
    }
   },
   "source": [
    "# Histogram\n",
    "\n",
    "Histogram gives general idea of what the distribution for **inflation** looks like,"
   ]
  },
  {
   "cell_type": "code",
   "execution_count": 41,
   "metadata": {
    "slideshow": {
     "slide_type": "fragment"
    }
   },
   "outputs": [
    {
     "data": {
      "image/svg+xml": [
       "<?xml version=\"1.0\" encoding=\"utf-8\"?>\n",
       "<svg xmlns=\"http://www.w3.org/2000/svg\" xmlns:xlink=\"http://www.w3.org/1999/xlink\" width=\"600\" height=\"400\" viewBox=\"0 0 2400 1600\">\n",
       "<defs>\n",
       "  <clipPath id=\"clip900\">\n",
       "    <rect x=\"0\" y=\"0\" width=\"2400\" height=\"1600\"/>\n",
       "  </clipPath>\n",
       "</defs>\n",
       "<path clip-path=\"url(#clip900)\" d=\"\n",
       "M0 1600 L2400 1600 L2400 0 L0 0  Z\n",
       "  \" fill=\"#ffffff\" fill-rule=\"evenodd\" fill-opacity=\"1\"/>\n",
       "<defs>\n",
       "  <clipPath id=\"clip901\">\n",
       "    <rect x=\"480\" y=\"0\" width=\"1681\" height=\"1600\"/>\n",
       "  </clipPath>\n",
       "</defs>\n",
       "<path clip-path=\"url(#clip900)\" d=\"\n",
       "M138.959 1486.45 L2352.76 1486.45 L2352.76 47.2441 L138.959 47.2441  Z\n",
       "  \" fill=\"#ffffff\" fill-rule=\"evenodd\" fill-opacity=\"1\"/>\n",
       "<defs>\n",
       "  <clipPath id=\"clip902\">\n",
       "    <rect x=\"138\" y=\"47\" width=\"2215\" height=\"1440\"/>\n",
       "  </clipPath>\n",
       "</defs>\n",
       "<polyline clip-path=\"url(#clip902)\" style=\"stroke:#000000; stroke-linecap:butt; stroke-linejoin:round; stroke-width:2; stroke-opacity:0.1; fill:none\" points=\"\n",
       "  392.074,1486.45 392.074,47.2441 \n",
       "  \"/>\n",
       "<polyline clip-path=\"url(#clip902)\" style=\"stroke:#000000; stroke-linecap:butt; stroke-linejoin:round; stroke-width:2; stroke-opacity:0.1; fill:none\" points=\"\n",
       "  654.776,1486.45 654.776,47.2441 \n",
       "  \"/>\n",
       "<polyline clip-path=\"url(#clip902)\" style=\"stroke:#000000; stroke-linecap:butt; stroke-linejoin:round; stroke-width:2; stroke-opacity:0.1; fill:none\" points=\"\n",
       "  917.479,1486.45 917.479,47.2441 \n",
       "  \"/>\n",
       "<polyline clip-path=\"url(#clip902)\" style=\"stroke:#000000; stroke-linecap:butt; stroke-linejoin:round; stroke-width:2; stroke-opacity:0.1; fill:none\" points=\"\n",
       "  1180.18,1486.45 1180.18,47.2441 \n",
       "  \"/>\n",
       "<polyline clip-path=\"url(#clip902)\" style=\"stroke:#000000; stroke-linecap:butt; stroke-linejoin:round; stroke-width:2; stroke-opacity:0.1; fill:none\" points=\"\n",
       "  1442.88,1486.45 1442.88,47.2441 \n",
       "  \"/>\n",
       "<polyline clip-path=\"url(#clip902)\" style=\"stroke:#000000; stroke-linecap:butt; stroke-linejoin:round; stroke-width:2; stroke-opacity:0.1; fill:none\" points=\"\n",
       "  1705.59,1486.45 1705.59,47.2441 \n",
       "  \"/>\n",
       "<polyline clip-path=\"url(#clip902)\" style=\"stroke:#000000; stroke-linecap:butt; stroke-linejoin:round; stroke-width:2; stroke-opacity:0.1; fill:none\" points=\"\n",
       "  1968.29,1486.45 1968.29,47.2441 \n",
       "  \"/>\n",
       "<polyline clip-path=\"url(#clip902)\" style=\"stroke:#000000; stroke-linecap:butt; stroke-linejoin:round; stroke-width:2; stroke-opacity:0.1; fill:none\" points=\"\n",
       "  2230.99,1486.45 2230.99,47.2441 \n",
       "  \"/>\n",
       "<polyline clip-path=\"url(#clip900)\" style=\"stroke:#000000; stroke-linecap:butt; stroke-linejoin:round; stroke-width:4; stroke-opacity:1; fill:none\" points=\"\n",
       "  138.959,1486.45 2352.76,1486.45 \n",
       "  \"/>\n",
       "<polyline clip-path=\"url(#clip900)\" style=\"stroke:#000000; stroke-linecap:butt; stroke-linejoin:round; stroke-width:4; stroke-opacity:1; fill:none\" points=\"\n",
       "  392.074,1486.45 392.074,1467.55 \n",
       "  \"/>\n",
       "<polyline clip-path=\"url(#clip900)\" style=\"stroke:#000000; stroke-linecap:butt; stroke-linejoin:round; stroke-width:4; stroke-opacity:1; fill:none\" points=\"\n",
       "  654.776,1486.45 654.776,1467.55 \n",
       "  \"/>\n",
       "<polyline clip-path=\"url(#clip900)\" style=\"stroke:#000000; stroke-linecap:butt; stroke-linejoin:round; stroke-width:4; stroke-opacity:1; fill:none\" points=\"\n",
       "  917.479,1486.45 917.479,1467.55 \n",
       "  \"/>\n",
       "<polyline clip-path=\"url(#clip900)\" style=\"stroke:#000000; stroke-linecap:butt; stroke-linejoin:round; stroke-width:4; stroke-opacity:1; fill:none\" points=\"\n",
       "  1180.18,1486.45 1180.18,1467.55 \n",
       "  \"/>\n",
       "<polyline clip-path=\"url(#clip900)\" style=\"stroke:#000000; stroke-linecap:butt; stroke-linejoin:round; stroke-width:4; stroke-opacity:1; fill:none\" points=\"\n",
       "  1442.88,1486.45 1442.88,1467.55 \n",
       "  \"/>\n",
       "<polyline clip-path=\"url(#clip900)\" style=\"stroke:#000000; stroke-linecap:butt; stroke-linejoin:round; stroke-width:4; stroke-opacity:1; fill:none\" points=\"\n",
       "  1705.59,1486.45 1705.59,1467.55 \n",
       "  \"/>\n",
       "<polyline clip-path=\"url(#clip900)\" style=\"stroke:#000000; stroke-linecap:butt; stroke-linejoin:round; stroke-width:4; stroke-opacity:1; fill:none\" points=\"\n",
       "  1968.29,1486.45 1968.29,1467.55 \n",
       "  \"/>\n",
       "<polyline clip-path=\"url(#clip900)\" style=\"stroke:#000000; stroke-linecap:butt; stroke-linejoin:round; stroke-width:4; stroke-opacity:1; fill:none\" points=\"\n",
       "  2230.99,1486.45 2230.99,1467.55 \n",
       "  \"/>\n",
       "<path clip-path=\"url(#clip900)\" d=\"M362.016 1532.02 L391.692 1532.02 L391.692 1535.95 L362.016 1535.95 L362.016 1532.02 Z\" fill=\"#000000\" fill-rule=\"evenodd\" fill-opacity=\"1\" /><path clip-path=\"url(#clip900)\" d=\"M405.812 1544.91 L422.131 1544.91 L422.131 1548.85 L400.187 1548.85 L400.187 1544.91 Q402.849 1542.16 407.432 1537.53 Q412.039 1532.88 413.219 1531.53 Q415.465 1529.01 416.344 1527.27 Q417.247 1525.51 417.247 1523.82 Q417.247 1521.07 415.303 1519.33 Q413.381 1517.6 410.28 1517.6 Q408.08 1517.6 405.627 1518.36 Q403.196 1519.13 400.418 1520.68 L400.418 1515.95 Q403.243 1514.82 405.696 1514.24 Q408.15 1513.66 410.187 1513.66 Q415.557 1513.66 418.752 1516.35 Q421.946 1519.03 421.946 1523.52 Q421.946 1525.65 421.136 1527.57 Q420.349 1529.47 418.242 1532.07 Q417.664 1532.74 414.562 1535.95 Q411.46 1539.15 405.812 1544.91 Z\" fill=\"#000000\" fill-rule=\"evenodd\" fill-opacity=\"1\" /><path clip-path=\"url(#clip900)\" d=\"M654.776 1517.37 Q651.165 1517.37 649.337 1520.93 Q647.531 1524.47 647.531 1531.6 Q647.531 1538.71 649.337 1542.27 Q651.165 1545.82 654.776 1545.82 Q658.411 1545.82 660.216 1542.27 Q662.045 1538.71 662.045 1531.6 Q662.045 1524.47 660.216 1520.93 Q658.411 1517.37 654.776 1517.37 M654.776 1513.66 Q660.587 1513.66 663.642 1518.27 Q666.721 1522.85 666.721 1531.6 Q666.721 1540.33 663.642 1544.94 Q660.587 1549.52 654.776 1549.52 Q648.966 1549.52 645.888 1544.94 Q642.832 1540.33 642.832 1531.6 Q642.832 1522.85 645.888 1518.27 Q648.966 1513.66 654.776 1513.66 Z\" fill=\"#000000\" fill-rule=\"evenodd\" fill-opacity=\"1\" /><path clip-path=\"url(#clip900)\" d=\"M912.132 1544.91 L928.451 1544.91 L928.451 1548.85 L906.507 1548.85 L906.507 1544.91 Q909.169 1542.16 913.752 1537.53 Q918.359 1532.88 919.539 1531.53 Q921.785 1529.01 922.664 1527.27 Q923.567 1525.51 923.567 1523.82 Q923.567 1521.07 921.623 1519.33 Q919.701 1517.6 916.6 1517.6 Q914.4 1517.6 911.947 1518.36 Q909.516 1519.13 906.738 1520.68 L906.738 1515.95 Q909.563 1514.82 912.016 1514.24 Q914.47 1513.66 916.507 1513.66 Q921.877 1513.66 925.072 1516.35 Q928.266 1519.03 928.266 1523.52 Q928.266 1525.65 927.456 1527.57 Q926.669 1529.47 924.562 1532.07 Q923.984 1532.74 920.882 1535.95 Q917.78 1539.15 912.132 1544.91 Z\" fill=\"#000000\" fill-rule=\"evenodd\" fill-opacity=\"1\" /><path clip-path=\"url(#clip900)\" d=\"M1183.19 1518.36 L1171.39 1536.81 L1183.19 1536.81 L1183.19 1518.36 M1181.96 1514.29 L1187.84 1514.29 L1187.84 1536.81 L1192.77 1536.81 L1192.77 1540.7 L1187.84 1540.7 L1187.84 1548.85 L1183.19 1548.85 L1183.19 1540.7 L1167.59 1540.7 L1167.59 1536.19 L1181.96 1514.29 Z\" fill=\"#000000\" fill-rule=\"evenodd\" fill-opacity=\"1\" /><path clip-path=\"url(#clip900)\" d=\"M1443.29 1529.7 Q1440.14 1529.7 1438.29 1531.86 Q1436.46 1534.01 1436.46 1537.76 Q1436.46 1541.49 1438.29 1543.66 Q1440.14 1545.82 1443.29 1545.82 Q1446.44 1545.82 1448.27 1543.66 Q1450.12 1541.49 1450.12 1537.76 Q1450.12 1534.01 1448.27 1531.86 Q1446.44 1529.7 1443.29 1529.7 M1452.57 1515.05 L1452.57 1519.31 Q1450.81 1518.48 1449.01 1518.04 Q1447.23 1517.6 1445.47 1517.6 Q1440.84 1517.6 1438.38 1520.72 Q1435.95 1523.85 1435.6 1530.17 Q1436.97 1528.15 1439.03 1527.09 Q1441.09 1526 1443.57 1526 Q1448.78 1526 1451.79 1529.17 Q1454.82 1532.32 1454.82 1537.76 Q1454.82 1543.08 1451.67 1546.3 Q1448.52 1549.52 1443.29 1549.52 Q1437.29 1549.52 1434.12 1544.94 Q1430.95 1540.33 1430.95 1531.6 Q1430.95 1523.41 1434.84 1518.55 Q1438.73 1513.66 1445.28 1513.66 Q1447.04 1513.66 1448.82 1514.01 Q1450.63 1514.36 1452.57 1515.05 Z\" fill=\"#000000\" fill-rule=\"evenodd\" fill-opacity=\"1\" /><path clip-path=\"url(#clip900)\" d=\"M1705.59 1532.44 Q1702.25 1532.44 1700.33 1534.22 Q1698.43 1536 1698.43 1539.13 Q1698.43 1542.25 1700.33 1544.03 Q1702.25 1545.82 1705.59 1545.82 Q1708.92 1545.82 1710.84 1544.03 Q1712.76 1542.23 1712.76 1539.13 Q1712.76 1536 1710.84 1534.22 Q1708.94 1532.44 1705.59 1532.44 M1700.91 1530.45 Q1697.9 1529.7 1696.21 1527.64 Q1694.55 1525.58 1694.55 1522.62 Q1694.55 1518.48 1697.49 1516.07 Q1700.45 1513.66 1705.59 1513.66 Q1710.75 1513.66 1713.69 1516.07 Q1716.63 1518.48 1716.63 1522.62 Q1716.63 1525.58 1714.94 1527.64 Q1713.27 1529.7 1710.29 1530.45 Q1713.67 1531.23 1715.54 1533.52 Q1717.44 1535.82 1717.44 1539.13 Q1717.44 1544.15 1714.36 1546.83 Q1711.31 1549.52 1705.59 1549.52 Q1699.87 1549.52 1696.79 1546.83 Q1693.74 1544.15 1693.74 1539.13 Q1693.74 1535.82 1695.63 1533.52 Q1697.53 1531.23 1700.91 1530.45 M1699.2 1523.06 Q1699.2 1525.75 1700.87 1527.25 Q1702.56 1528.76 1705.59 1528.76 Q1708.6 1528.76 1710.29 1527.25 Q1712 1525.75 1712 1523.06 Q1712 1520.38 1710.29 1518.87 Q1708.6 1517.37 1705.59 1517.37 Q1702.56 1517.37 1700.87 1518.87 Q1699.2 1520.38 1699.2 1523.06 Z\" fill=\"#000000\" fill-rule=\"evenodd\" fill-opacity=\"1\" /><path clip-path=\"url(#clip900)\" d=\"M1942.98 1544.91 L1950.62 1544.91 L1950.62 1518.55 L1942.31 1520.21 L1942.31 1515.95 L1950.57 1514.29 L1955.25 1514.29 L1955.25 1544.91 L1962.89 1544.91 L1962.89 1548.85 L1942.98 1548.85 L1942.98 1544.91 Z\" fill=\"#000000\" fill-rule=\"evenodd\" fill-opacity=\"1\" /><path clip-path=\"url(#clip900)\" d=\"M1982.33 1517.37 Q1978.72 1517.37 1976.89 1520.93 Q1975.08 1524.47 1975.08 1531.6 Q1975.08 1538.71 1976.89 1542.27 Q1978.72 1545.82 1982.33 1545.82 Q1985.96 1545.82 1987.77 1542.27 Q1989.6 1538.71 1989.6 1531.6 Q1989.6 1524.47 1987.77 1520.93 Q1985.96 1517.37 1982.33 1517.37 M1982.33 1513.66 Q1988.14 1513.66 1991.2 1518.27 Q1994.27 1522.85 1994.27 1531.6 Q1994.27 1540.33 1991.2 1544.94 Q1988.14 1549.52 1982.33 1549.52 Q1976.52 1549.52 1973.44 1544.94 Q1970.39 1540.33 1970.39 1531.6 Q1970.39 1522.85 1973.44 1518.27 Q1976.52 1513.66 1982.33 1513.66 Z\" fill=\"#000000\" fill-rule=\"evenodd\" fill-opacity=\"1\" /><path clip-path=\"url(#clip900)\" d=\"M2206.48 1544.91 L2214.12 1544.91 L2214.12 1518.55 L2205.81 1520.21 L2205.81 1515.95 L2214.07 1514.29 L2218.75 1514.29 L2218.75 1544.91 L2226.39 1544.91 L2226.39 1548.85 L2206.48 1548.85 L2206.48 1544.91 Z\" fill=\"#000000\" fill-rule=\"evenodd\" fill-opacity=\"1\" /><path clip-path=\"url(#clip900)\" d=\"M2239.86 1544.91 L2256.18 1544.91 L2256.18 1548.85 L2234.23 1548.85 L2234.23 1544.91 Q2236.9 1542.16 2241.48 1537.53 Q2246.09 1532.88 2247.27 1531.53 Q2249.51 1529.01 2250.39 1527.27 Q2251.29 1525.51 2251.29 1523.82 Q2251.29 1521.07 2249.35 1519.33 Q2247.43 1517.6 2244.33 1517.6 Q2242.13 1517.6 2239.67 1518.36 Q2237.24 1519.13 2234.47 1520.68 L2234.47 1515.95 Q2237.29 1514.82 2239.74 1514.24 Q2242.2 1513.66 2244.23 1513.66 Q2249.6 1513.66 2252.8 1516.35 Q2255.99 1519.03 2255.99 1523.52 Q2255.99 1525.65 2255.18 1527.57 Q2254.4 1529.47 2252.29 1532.07 Q2251.71 1532.74 2248.61 1535.95 Q2245.51 1539.15 2239.86 1544.91 Z\" fill=\"#000000\" fill-rule=\"evenodd\" fill-opacity=\"1\" /><polyline clip-path=\"url(#clip902)\" style=\"stroke:#000000; stroke-linecap:butt; stroke-linejoin:round; stroke-width:2; stroke-opacity:0.1; fill:none\" points=\"\n",
       "  138.959,1445.72 2352.76,1445.72 \n",
       "  \"/>\n",
       "<polyline clip-path=\"url(#clip902)\" style=\"stroke:#000000; stroke-linecap:butt; stroke-linejoin:round; stroke-width:2; stroke-opacity:0.1; fill:none\" points=\"\n",
       "  138.959,1088.42 2352.76,1088.42 \n",
       "  \"/>\n",
       "<polyline clip-path=\"url(#clip902)\" style=\"stroke:#000000; stroke-linecap:butt; stroke-linejoin:round; stroke-width:2; stroke-opacity:0.1; fill:none\" points=\"\n",
       "  138.959,731.116 2352.76,731.116 \n",
       "  \"/>\n",
       "<polyline clip-path=\"url(#clip902)\" style=\"stroke:#000000; stroke-linecap:butt; stroke-linejoin:round; stroke-width:2; stroke-opacity:0.1; fill:none\" points=\"\n",
       "  138.959,373.816 2352.76,373.816 \n",
       "  \"/>\n",
       "<polyline clip-path=\"url(#clip900)\" style=\"stroke:#000000; stroke-linecap:butt; stroke-linejoin:round; stroke-width:4; stroke-opacity:1; fill:none\" points=\"\n",
       "  138.959,1486.45 138.959,47.2441 \n",
       "  \"/>\n",
       "<polyline clip-path=\"url(#clip900)\" style=\"stroke:#000000; stroke-linecap:butt; stroke-linejoin:round; stroke-width:4; stroke-opacity:1; fill:none\" points=\"\n",
       "  138.959,1445.72 157.857,1445.72 \n",
       "  \"/>\n",
       "<polyline clip-path=\"url(#clip900)\" style=\"stroke:#000000; stroke-linecap:butt; stroke-linejoin:round; stroke-width:4; stroke-opacity:1; fill:none\" points=\"\n",
       "  138.959,1088.42 157.857,1088.42 \n",
       "  \"/>\n",
       "<polyline clip-path=\"url(#clip900)\" style=\"stroke:#000000; stroke-linecap:butt; stroke-linejoin:round; stroke-width:4; stroke-opacity:1; fill:none\" points=\"\n",
       "  138.959,731.116 157.857,731.116 \n",
       "  \"/>\n",
       "<polyline clip-path=\"url(#clip900)\" style=\"stroke:#000000; stroke-linecap:butt; stroke-linejoin:round; stroke-width:4; stroke-opacity:1; fill:none\" points=\"\n",
       "  138.959,373.816 157.857,373.816 \n",
       "  \"/>\n",
       "<path clip-path=\"url(#clip900)\" d=\"M91.0151 1431.51 Q87.404 1431.51 85.5753 1435.08 Q83.7697 1438.62 83.7697 1445.75 Q83.7697 1452.86 85.5753 1456.42 Q87.404 1459.96 91.0151 1459.96 Q94.6493 1459.96 96.4548 1456.42 Q98.2835 1452.86 98.2835 1445.75 Q98.2835 1438.62 96.4548 1435.08 Q94.6493 1431.51 91.0151 1431.51 M91.0151 1427.81 Q96.8252 1427.81 99.8808 1432.42 Q102.959 1437 102.959 1445.75 Q102.959 1454.48 99.8808 1459.08 Q96.8252 1463.67 91.0151 1463.67 Q85.2049 1463.67 82.1262 1459.08 Q79.0707 1454.48 79.0707 1445.75 Q79.0707 1437 82.1262 1432.42 Q85.2049 1427.81 91.0151 1427.81 Z\" fill=\"#000000\" fill-rule=\"evenodd\" fill-opacity=\"1\" /><path clip-path=\"url(#clip900)\" d=\"M82.0568 1071.14 L100.413 1071.14 L100.413 1075.07 L86.3392 1075.07 L86.3392 1083.54 Q87.3577 1083.2 88.3762 1083.03 Q89.3947 1082.85 90.4132 1082.85 Q96.2002 1082.85 99.5798 1086.02 Q102.959 1089.19 102.959 1094.61 Q102.959 1100.19 99.4872 1103.29 Q96.015 1106.37 89.6956 1106.37 Q87.5197 1106.37 85.2512 1106 Q83.0058 1105.63 80.5984 1104.89 L80.5984 1100.19 Q82.6818 1101.32 84.904 1101.88 Q87.1262 1102.43 89.603 1102.43 Q93.6076 1102.43 95.9456 1100.33 Q98.2835 1098.22 98.2835 1094.61 Q98.2835 1091 95.9456 1088.89 Q93.6076 1086.78 89.603 1086.78 Q87.728 1086.78 85.8531 1087.2 Q84.0012 1087.62 82.0568 1088.5 L82.0568 1071.14 Z\" fill=\"#000000\" fill-rule=\"evenodd\" fill-opacity=\"1\" /><path clip-path=\"url(#clip900)\" d=\"M51.6634 744.461 L59.3023 744.461 L59.3023 718.095 L50.9921 719.762 L50.9921 715.503 L59.256 713.836 L63.9319 713.836 L63.9319 744.461 L71.5707 744.461 L71.5707 748.396 L51.6634 748.396 L51.6634 744.461 Z\" fill=\"#000000\" fill-rule=\"evenodd\" fill-opacity=\"1\" /><path clip-path=\"url(#clip900)\" d=\"M91.0151 716.915 Q87.404 716.915 85.5753 720.479 Q83.7697 724.021 83.7697 731.151 Q83.7697 738.257 85.5753 741.822 Q87.404 745.364 91.0151 745.364 Q94.6493 745.364 96.4548 741.822 Q98.2835 738.257 98.2835 731.151 Q98.2835 724.021 96.4548 720.479 Q94.6493 716.915 91.0151 716.915 M91.0151 713.211 Q96.8252 713.211 99.8808 717.817 Q102.959 722.401 102.959 731.151 Q102.959 739.878 99.8808 744.484 Q96.8252 749.067 91.0151 749.067 Q85.2049 749.067 82.1262 744.484 Q79.0707 739.878 79.0707 731.151 Q79.0707 722.401 82.1262 717.817 Q85.2049 713.211 91.0151 713.211 Z\" fill=\"#000000\" fill-rule=\"evenodd\" fill-opacity=\"1\" /><path clip-path=\"url(#clip900)\" d=\"M52.6588 387.161 L60.2976 387.161 L60.2976 360.795 L51.9875 362.462 L51.9875 358.203 L60.2513 356.536 L64.9272 356.536 L64.9272 387.161 L72.5661 387.161 L72.5661 391.096 L52.6588 391.096 L52.6588 387.161 Z\" fill=\"#000000\" fill-rule=\"evenodd\" fill-opacity=\"1\" /><path clip-path=\"url(#clip900)\" d=\"M82.0568 356.536 L100.413 356.536 L100.413 360.471 L86.3392 360.471 L86.3392 368.943 Q87.3577 368.596 88.3762 368.434 Q89.3947 368.249 90.4132 368.249 Q96.2002 368.249 99.5798 371.42 Q102.959 374.592 102.959 380.008 Q102.959 385.587 99.4872 388.689 Q96.015 391.767 89.6956 391.767 Q87.5197 391.767 85.2512 391.397 Q83.0058 391.027 80.5984 390.286 L80.5984 385.587 Q82.6818 386.721 84.904 387.277 Q87.1262 387.832 89.603 387.832 Q93.6076 387.832 95.9456 385.726 Q98.2835 383.619 98.2835 380.008 Q98.2835 376.397 95.9456 374.291 Q93.6076 372.184 89.603 372.184 Q87.728 372.184 85.8531 372.601 Q84.0012 373.018 82.0568 373.897 L82.0568 356.536 Z\" fill=\"#000000\" fill-rule=\"evenodd\" fill-opacity=\"1\" /><path clip-path=\"url(#clip902)\" d=\"\n",
       "M260.722 1302.8 L260.722 1445.72 L392.074 1445.72 L392.074 1302.8 L260.722 1302.8 L260.722 1302.8  Z\n",
       "  \" fill=\"#009af9\" fill-rule=\"evenodd\" fill-opacity=\"0.5\"/>\n",
       "<polyline clip-path=\"url(#clip902)\" style=\"stroke:#000000; stroke-linecap:butt; stroke-linejoin:round; stroke-width:4; stroke-opacity:0.5; fill:none\" points=\"\n",
       "  260.722,1302.8 260.722,1445.72 392.074,1445.72 392.074,1302.8 260.722,1302.8 \n",
       "  \"/>\n",
       "<path clip-path=\"url(#clip902)\" d=\"\n",
       "M392.074 1374.26 L392.074 1445.72 L523.425 1445.72 L523.425 1374.26 L392.074 1374.26 L392.074 1374.26  Z\n",
       "  \" fill=\"#009af9\" fill-rule=\"evenodd\" fill-opacity=\"0.5\"/>\n",
       "<polyline clip-path=\"url(#clip902)\" style=\"stroke:#000000; stroke-linecap:butt; stroke-linejoin:round; stroke-width:4; stroke-opacity:0.5; fill:none\" points=\"\n",
       "  392.074,1374.26 392.074,1445.72 523.425,1445.72 523.425,1374.26 392.074,1374.26 \n",
       "  \"/>\n",
       "<path clip-path=\"url(#clip902)\" d=\"\n",
       "M523.425 1445.72 L523.425 1445.72 L654.776 1445.72 L654.776 1445.72 L523.425 1445.72 L523.425 1445.72  Z\n",
       "  \" fill=\"#009af9\" fill-rule=\"evenodd\" fill-opacity=\"0.5\"/>\n",
       "<polyline clip-path=\"url(#clip902)\" style=\"stroke:#000000; stroke-linecap:butt; stroke-linejoin:round; stroke-width:4; stroke-opacity:0.5; fill:none\" points=\"\n",
       "  523.425,1445.72 523.425,1445.72 654.776,1445.72 523.425,1445.72 \n",
       "  \"/>\n",
       "<path clip-path=\"url(#clip902)\" d=\"\n",
       "M654.776 1445.72 L654.776 1445.72 L786.128 1445.72 L786.128 1445.72 L654.776 1445.72 L654.776 1445.72  Z\n",
       "  \" fill=\"#009af9\" fill-rule=\"evenodd\" fill-opacity=\"0.5\"/>\n",
       "<polyline clip-path=\"url(#clip902)\" style=\"stroke:#000000; stroke-linecap:butt; stroke-linejoin:round; stroke-width:4; stroke-opacity:0.5; fill:none\" points=\"\n",
       "  654.776,1445.72 654.776,1445.72 786.128,1445.72 654.776,1445.72 \n",
       "  \"/>\n",
       "<path clip-path=\"url(#clip902)\" d=\"\n",
       "M786.128 1231.34 L786.128 1445.72 L917.479 1445.72 L917.479 1231.34 L786.128 1231.34 L786.128 1231.34  Z\n",
       "  \" fill=\"#009af9\" fill-rule=\"evenodd\" fill-opacity=\"0.5\"/>\n",
       "<polyline clip-path=\"url(#clip902)\" style=\"stroke:#000000; stroke-linecap:butt; stroke-linejoin:round; stroke-width:4; stroke-opacity:0.5; fill:none\" points=\"\n",
       "  786.128,1231.34 786.128,1445.72 917.479,1445.72 917.479,1231.34 786.128,1231.34 \n",
       "  \"/>\n",
       "<path clip-path=\"url(#clip902)\" d=\"\n",
       "M917.479 1088.42 L917.479 1445.72 L1048.83 1445.72 L1048.83 1088.42 L917.479 1088.42 L917.479 1088.42  Z\n",
       "  \" fill=\"#009af9\" fill-rule=\"evenodd\" fill-opacity=\"0.5\"/>\n",
       "<polyline clip-path=\"url(#clip902)\" style=\"stroke:#000000; stroke-linecap:butt; stroke-linejoin:round; stroke-width:4; stroke-opacity:0.5; fill:none\" points=\"\n",
       "  917.479,1088.42 917.479,1445.72 1048.83,1445.72 1048.83,1088.42 917.479,1088.42 \n",
       "  \"/>\n",
       "<path clip-path=\"url(#clip902)\" d=\"\n",
       "M1048.83 874.036 L1048.83 1445.72 L1180.18 1445.72 L1180.18 874.036 L1048.83 874.036 L1048.83 874.036  Z\n",
       "  \" fill=\"#009af9\" fill-rule=\"evenodd\" fill-opacity=\"0.5\"/>\n",
       "<polyline clip-path=\"url(#clip902)\" style=\"stroke:#000000; stroke-linecap:butt; stroke-linejoin:round; stroke-width:4; stroke-opacity:0.5; fill:none\" points=\"\n",
       "  1048.83,874.036 1048.83,1445.72 1180.18,1445.72 1180.18,874.036 1048.83,874.036 \n",
       "  \"/>\n",
       "<path clip-path=\"url(#clip902)\" d=\"\n",
       "M1180.18 87.9763 L1180.18 1445.72 L1311.53 1445.72 L1311.53 87.9763 L1180.18 87.9763 L1180.18 87.9763  Z\n",
       "  \" fill=\"#009af9\" fill-rule=\"evenodd\" fill-opacity=\"0.5\"/>\n",
       "<polyline clip-path=\"url(#clip902)\" style=\"stroke:#000000; stroke-linecap:butt; stroke-linejoin:round; stroke-width:4; stroke-opacity:0.5; fill:none\" points=\"\n",
       "  1180.18,87.9763 1180.18,1445.72 1311.53,1445.72 1311.53,87.9763 1180.18,87.9763 \n",
       "  \"/>\n",
       "<path clip-path=\"url(#clip902)\" d=\"\n",
       "M1311.53 516.736 L1311.53 1445.72 L1442.88 1445.72 L1442.88 516.736 L1311.53 516.736 L1311.53 516.736  Z\n",
       "  \" fill=\"#009af9\" fill-rule=\"evenodd\" fill-opacity=\"0.5\"/>\n",
       "<polyline clip-path=\"url(#clip902)\" style=\"stroke:#000000; stroke-linecap:butt; stroke-linejoin:round; stroke-width:4; stroke-opacity:0.5; fill:none\" points=\"\n",
       "  1311.53,516.736 1311.53,1445.72 1442.88,1445.72 1442.88,516.736 1311.53,516.736 \n",
       "  \"/>\n",
       "<path clip-path=\"url(#clip902)\" d=\"\n",
       "M1442.88 516.736 L1442.88 1445.72 L1574.24 1445.72 L1574.24 516.736 L1442.88 516.736 L1442.88 516.736  Z\n",
       "  \" fill=\"#009af9\" fill-rule=\"evenodd\" fill-opacity=\"0.5\"/>\n",
       "<polyline clip-path=\"url(#clip902)\" style=\"stroke:#000000; stroke-linecap:butt; stroke-linejoin:round; stroke-width:4; stroke-opacity:0.5; fill:none\" points=\"\n",
       "  1442.88,516.736 1442.88,1445.72 1574.24,1445.72 1574.24,516.736 1442.88,516.736 \n",
       "  \"/>\n",
       "<path clip-path=\"url(#clip902)\" d=\"\n",
       "M1574.24 1302.8 L1574.24 1445.72 L1705.59 1445.72 L1705.59 1302.8 L1574.24 1302.8 L1574.24 1302.8  Z\n",
       "  \" fill=\"#009af9\" fill-rule=\"evenodd\" fill-opacity=\"0.5\"/>\n",
       "<polyline clip-path=\"url(#clip902)\" style=\"stroke:#000000; stroke-linecap:butt; stroke-linejoin:round; stroke-width:4; stroke-opacity:0.5; fill:none\" points=\"\n",
       "  1574.24,1302.8 1574.24,1445.72 1705.59,1445.72 1705.59,1302.8 1574.24,1302.8 \n",
       "  \"/>\n",
       "<path clip-path=\"url(#clip902)\" d=\"\n",
       "M1705.59 1302.8 L1705.59 1445.72 L1836.94 1445.72 L1836.94 1302.8 L1705.59 1302.8 L1705.59 1302.8  Z\n",
       "  \" fill=\"#009af9\" fill-rule=\"evenodd\" fill-opacity=\"0.5\"/>\n",
       "<polyline clip-path=\"url(#clip902)\" style=\"stroke:#000000; stroke-linecap:butt; stroke-linejoin:round; stroke-width:4; stroke-opacity:0.5; fill:none\" points=\"\n",
       "  1705.59,1302.8 1705.59,1445.72 1836.94,1445.72 1836.94,1302.8 1705.59,1302.8 \n",
       "  \"/>\n",
       "<path clip-path=\"url(#clip902)\" d=\"\n",
       "M1836.94 1302.8 L1836.94 1445.72 L1968.29 1445.72 L1968.29 1302.8 L1836.94 1302.8 L1836.94 1302.8  Z\n",
       "  \" fill=\"#009af9\" fill-rule=\"evenodd\" fill-opacity=\"0.5\"/>\n",
       "<polyline clip-path=\"url(#clip902)\" style=\"stroke:#000000; stroke-linecap:butt; stroke-linejoin:round; stroke-width:4; stroke-opacity:0.5; fill:none\" points=\"\n",
       "  1836.94,1302.8 1836.94,1445.72 1968.29,1445.72 1968.29,1302.8 1836.94,1302.8 \n",
       "  \"/>\n",
       "<path clip-path=\"url(#clip902)\" d=\"\n",
       "M1968.29 1445.72 L1968.29 1445.72 L2099.64 1445.72 L2099.64 1445.72 L1968.29 1445.72 L1968.29 1445.72  Z\n",
       "  \" fill=\"#009af9\" fill-rule=\"evenodd\" fill-opacity=\"0.5\"/>\n",
       "<polyline clip-path=\"url(#clip902)\" style=\"stroke:#000000; stroke-linecap:butt; stroke-linejoin:round; stroke-width:4; stroke-opacity:0.5; fill:none\" points=\"\n",
       "  1968.29,1445.72 1968.29,1445.72 2099.64,1445.72 1968.29,1445.72 \n",
       "  \"/>\n",
       "<path clip-path=\"url(#clip902)\" d=\"\n",
       "M2099.64 1374.26 L2099.64 1445.72 L2230.99 1445.72 L2230.99 1374.26 L2099.64 1374.26 L2099.64 1374.26  Z\n",
       "  \" fill=\"#009af9\" fill-rule=\"evenodd\" fill-opacity=\"0.5\"/>\n",
       "<polyline clip-path=\"url(#clip902)\" style=\"stroke:#000000; stroke-linecap:butt; stroke-linejoin:round; stroke-width:4; stroke-opacity:0.5; fill:none\" points=\"\n",
       "  2099.64,1374.26 2099.64,1445.72 2230.99,1445.72 2230.99,1374.26 2099.64,1374.26 \n",
       "  \"/>\n",
       "<circle clip-path=\"url(#clip902)\" style=\"fill:#009af9; stroke:none; fill-opacity:0\" cx=\"326.398\" cy=\"1302.8\" r=\"2\"/>\n",
       "<circle clip-path=\"url(#clip902)\" style=\"fill:#009af9; stroke:none; fill-opacity:0\" cx=\"457.749\" cy=\"1374.26\" r=\"2\"/>\n",
       "<circle clip-path=\"url(#clip902)\" style=\"fill:#009af9; stroke:none; fill-opacity:0\" cx=\"589.101\" cy=\"1445.72\" r=\"2\"/>\n",
       "<circle clip-path=\"url(#clip902)\" style=\"fill:#009af9; stroke:none; fill-opacity:0\" cx=\"720.452\" cy=\"1445.72\" r=\"2\"/>\n",
       "<circle clip-path=\"url(#clip902)\" style=\"fill:#009af9; stroke:none; fill-opacity:0\" cx=\"851.803\" cy=\"1231.34\" r=\"2\"/>\n",
       "<circle clip-path=\"url(#clip902)\" style=\"fill:#009af9; stroke:none; fill-opacity:0\" cx=\"983.155\" cy=\"1088.42\" r=\"2\"/>\n",
       "<circle clip-path=\"url(#clip902)\" style=\"fill:#009af9; stroke:none; fill-opacity:0\" cx=\"1114.51\" cy=\"874.036\" r=\"2\"/>\n",
       "<circle clip-path=\"url(#clip902)\" style=\"fill:#009af9; stroke:none; fill-opacity:0\" cx=\"1245.86\" cy=\"87.9763\" r=\"2\"/>\n",
       "<circle clip-path=\"url(#clip902)\" style=\"fill:#009af9; stroke:none; fill-opacity:0\" cx=\"1377.21\" cy=\"516.736\" r=\"2\"/>\n",
       "<circle clip-path=\"url(#clip902)\" style=\"fill:#009af9; stroke:none; fill-opacity:0\" cx=\"1508.56\" cy=\"516.736\" r=\"2\"/>\n",
       "<circle clip-path=\"url(#clip902)\" style=\"fill:#009af9; stroke:none; fill-opacity:0\" cx=\"1639.91\" cy=\"1302.8\" r=\"2\"/>\n",
       "<circle clip-path=\"url(#clip902)\" style=\"fill:#009af9; stroke:none; fill-opacity:0\" cx=\"1771.26\" cy=\"1302.8\" r=\"2\"/>\n",
       "<circle clip-path=\"url(#clip902)\" style=\"fill:#009af9; stroke:none; fill-opacity:0\" cx=\"1902.61\" cy=\"1302.8\" r=\"2\"/>\n",
       "<circle clip-path=\"url(#clip902)\" style=\"fill:#009af9; stroke:none; fill-opacity:0\" cx=\"2033.97\" cy=\"1445.72\" r=\"2\"/>\n",
       "<circle clip-path=\"url(#clip902)\" style=\"fill:#009af9; stroke:none; fill-opacity:0\" cx=\"2165.32\" cy=\"1374.26\" r=\"2\"/>\n",
       "<polyline clip-path=\"url(#clip902)\" style=\"stroke:#000000; stroke-linecap:butt; stroke-linejoin:round; stroke-width:12; stroke-opacity:1; fill:none\" stroke-dasharray=\"48, 30\" points=\"\n",
       "  1289.22,2925.65 1289.22,-1391.96 \n",
       "  \"/>\n",
       "</svg>\n"
      ]
     },
     "execution_count": 41,
     "metadata": {},
     "output_type": "execute_result"
    }
   ],
   "source": [
    "histogram(inflation, legend = false, alpha = 0.5, bins = 20)\n",
    "plot!([mean(inflation)],  seriestype = :vline, lw = 3, colour = :black, ls = :dash) # plots the mean value"
   ]
  },
  {
   "cell_type": "markdown",
   "metadata": {
    "slideshow": {
     "slide_type": "slide"
    }
   },
   "source": [
    "## Growth rates\n",
    "\n",
    "Computing growth rates is quite important in macroeconomics. \n",
    "\n",
    "This is something that you will frequently encounter. \n",
    "\n",
    "The growth rate between subsequent two dates can be calculated as follows, \n",
    "\n",
    "$$\n",
    "\\left(\\frac{Y_{t} - Y_{t-1}}{Y_{t-1}}\\right) \\times 100 = \\left(\\frac{Y_{t}}{Y_{t-1}} - 1\\right) \\times 100 \n",
    "$$\n"
   ]
  },
  {
   "cell_type": "markdown",
   "metadata": {
    "slideshow": {
     "slide_type": "slide"
    }
   },
   "source": [
    "## Growth rates\n",
    "\n",
    "The growth rate from one quarter to the same quarter next year is, \n",
    "\n",
    "$$\n",
    "\\left(\\frac{Y_{t}}{Y_{t-4}} - 1\\right) \\times 100 \n",
    "$$\n",
    "\n",
    "For monthly or quarterly growth rates at an annual rate, \n",
    "\n",
    "$$\n",
    "\\left(\\left[\\frac{Y_{t}}{Y_{t-1}}\\right]^{n} - 1\\right) \\times 100 \n",
    "$$\n",
    "\n",
    "where $n = 4$ represents quarterly growth and $n = 12$ gives monthly growth. "
   ]
  },
  {
   "cell_type": "markdown",
   "metadata": {
    "slideshow": {
     "slide_type": "slide"
    }
   },
   "source": [
    "## Growth rates\n",
    "\n",
    "Let us try calculating some growth rates with the data at hand.\n",
    "\n",
    "We will focus on GDP growth rates for this example, "
   ]
  },
  {
   "cell_type": "code",
   "execution_count": 53,
   "metadata": {
    "slideshow": {
     "slide_type": "fragment"
    }
   },
   "outputs": [
    {
     "data": {
      "text/plain": [
       "4.414220084246427"
      ]
     },
     "execution_count": 53,
     "metadata": {},
     "output_type": "execute_result"
    }
   ],
   "source": [
    "gdp_first = sa_data[1, :gdp]; # first value of the GDP series\n",
    "gdp_second = sa_data[2, :gdp]; # second value of the GDP series\n",
    "\n",
    "gdp_growth_1 = ((gdp_second - gdp_first)/gdp_first) * 100 # using the formula for growth between two periods. "
   ]
  },
  {
   "cell_type": "markdown",
   "metadata": {
    "slideshow": {
     "slide_type": "slide"
    }
   },
   "source": [
    "## Growth rates\n",
    "\n",
    "There is an alternative way to calculate an approximation to the growth rate.\n",
    "\n",
    "We can simply take the natural logarithm of the two values and subtract them from each other. \n",
    "\n",
    "In other words we have that, \n",
    "\n",
    "$$\n",
    "\\left(\\frac{Y_{t}}{Y_{t-1}} - 1\\right) \\times 100 \\approx \\log(Y_{t}) - \\log(Y_{t-1}) \\times 100\n",
    "$$"
   ]
  },
  {
   "cell_type": "code",
   "execution_count": 54,
   "metadata": {
    "slideshow": {
     "slide_type": "fragment"
    }
   },
   "outputs": [
    {
     "data": {
      "text/plain": [
       "4.319568788852912"
      ]
     },
     "execution_count": 54,
     "metadata": {},
     "output_type": "execute_result"
    }
   ],
   "source": [
    "(log(gdp_second) - log(gdp_first)) * 100"
   ]
  },
  {
   "cell_type": "markdown",
   "metadata": {
    "slideshow": {
     "slide_type": "slide"
    }
   },
   "source": [
    "## Functions\n",
    "\n",
    "A function is a **rule** that assigns to every element of $x \\in X$ a **single element** of the set $Y$. \n",
    "\n",
    "This is written as, \n",
    "\n",
    "$$\n",
    "f:X \\rightarrow Y\n",
    "$$\n",
    "\n",
    "When we write $y = f(x)$ we are mapping from the argument $x$ in the domain $X$ to a value in the co-domain $Y$. \n",
    "\n",
    "It is important to note that for a function we are assigning a single element from the set $X$ to the set $Y$."
   ]
  },
  {
   "cell_type": "markdown",
   "metadata": {
    "slideshow": {
     "slide_type": "slide"
    }
   },
   "source": [
    "## Functions and non-functions"
   ]
  },
  {
   "cell_type": "code",
   "execution_count": 55,
   "metadata": {
    "slideshow": {
     "slide_type": "fragment"
    }
   },
   "outputs": [
    {
     "data": {
      "image/svg+xml": [
       "<?xml version=\"1.0\" encoding=\"utf-8\"?>\n",
       "<svg xmlns=\"http://www.w3.org/2000/svg\" xmlns:xlink=\"http://www.w3.org/1999/xlink\" width=\"600\" height=\"400\" viewBox=\"0 0 2400 1600\">\n",
       "<defs>\n",
       "  <clipPath id=\"clip300\">\n",
       "    <rect x=\"0\" y=\"0\" width=\"2400\" height=\"1600\"/>\n",
       "  </clipPath>\n",
       "</defs>\n",
       "<path clip-path=\"url(#clip300)\" d=\"\n",
       "M0 1600 L2400 1600 L2400 0 L0 0  Z\n",
       "  \" fill=\"#ffffff\" fill-rule=\"evenodd\" fill-opacity=\"1\"/>\n",
       "<defs>\n",
       "  <clipPath id=\"clip301\">\n",
       "    <rect x=\"480\" y=\"0\" width=\"1681\" height=\"1600\"/>\n",
       "  </clipPath>\n",
       "</defs>\n",
       "<path clip-path=\"url(#clip300)\" d=\"\n",
       "M193.936 1486.45 L2352.76 1486.45 L2352.76 123.472 L193.936 123.472  Z\n",
       "  \" fill=\"#ffffff\" fill-rule=\"evenodd\" fill-opacity=\"1\"/>\n",
       "<defs>\n",
       "  <clipPath id=\"clip302\">\n",
       "    <rect x=\"193\" y=\"123\" width=\"2160\" height=\"1364\"/>\n",
       "  </clipPath>\n",
       "</defs>\n",
       "<polyline clip-path=\"url(#clip302)\" style=\"stroke:#000000; stroke-linecap:butt; stroke-linejoin:round; stroke-width:2; stroke-opacity:0.1; fill:none\" points=\"\n",
       "  255.035,1486.45 255.035,123.472 \n",
       "  \"/>\n",
       "<polyline clip-path=\"url(#clip302)\" style=\"stroke:#000000; stroke-linecap:butt; stroke-linejoin:round; stroke-width:2; stroke-opacity:0.1; fill:none\" points=\"\n",
       "  580.802,1486.45 580.802,123.472 \n",
       "  \"/>\n",
       "<polyline clip-path=\"url(#clip302)\" style=\"stroke:#000000; stroke-linecap:butt; stroke-linejoin:round; stroke-width:2; stroke-opacity:0.1; fill:none\" points=\"\n",
       "  906.569,1486.45 906.569,123.472 \n",
       "  \"/>\n",
       "<polyline clip-path=\"url(#clip302)\" style=\"stroke:#000000; stroke-linecap:butt; stroke-linejoin:round; stroke-width:2; stroke-opacity:0.1; fill:none\" points=\"\n",
       "  1232.34,1486.45 1232.34,123.472 \n",
       "  \"/>\n",
       "<polyline clip-path=\"url(#clip302)\" style=\"stroke:#000000; stroke-linecap:butt; stroke-linejoin:round; stroke-width:2; stroke-opacity:0.1; fill:none\" points=\"\n",
       "  1558.1,1486.45 1558.1,123.472 \n",
       "  \"/>\n",
       "<polyline clip-path=\"url(#clip302)\" style=\"stroke:#000000; stroke-linecap:butt; stroke-linejoin:round; stroke-width:2; stroke-opacity:0.1; fill:none\" points=\"\n",
       "  1883.87,1486.45 1883.87,123.472 \n",
       "  \"/>\n",
       "<polyline clip-path=\"url(#clip302)\" style=\"stroke:#000000; stroke-linecap:butt; stroke-linejoin:round; stroke-width:2; stroke-opacity:0.1; fill:none\" points=\"\n",
       "  2209.64,1486.45 2209.64,123.472 \n",
       "  \"/>\n",
       "<polyline clip-path=\"url(#clip300)\" style=\"stroke:#000000; stroke-linecap:butt; stroke-linejoin:round; stroke-width:4; stroke-opacity:1; fill:none\" points=\"\n",
       "  193.936,1486.45 2352.76,1486.45 \n",
       "  \"/>\n",
       "<polyline clip-path=\"url(#clip300)\" style=\"stroke:#000000; stroke-linecap:butt; stroke-linejoin:round; stroke-width:4; stroke-opacity:1; fill:none\" points=\"\n",
       "  255.035,1486.45 255.035,1467.55 \n",
       "  \"/>\n",
       "<polyline clip-path=\"url(#clip300)\" style=\"stroke:#000000; stroke-linecap:butt; stroke-linejoin:round; stroke-width:4; stroke-opacity:1; fill:none\" points=\"\n",
       "  580.802,1486.45 580.802,1467.55 \n",
       "  \"/>\n",
       "<polyline clip-path=\"url(#clip300)\" style=\"stroke:#000000; stroke-linecap:butt; stroke-linejoin:round; stroke-width:4; stroke-opacity:1; fill:none\" points=\"\n",
       "  906.569,1486.45 906.569,1467.55 \n",
       "  \"/>\n",
       "<polyline clip-path=\"url(#clip300)\" style=\"stroke:#000000; stroke-linecap:butt; stroke-linejoin:round; stroke-width:4; stroke-opacity:1; fill:none\" points=\"\n",
       "  1232.34,1486.45 1232.34,1467.55 \n",
       "  \"/>\n",
       "<polyline clip-path=\"url(#clip300)\" style=\"stroke:#000000; stroke-linecap:butt; stroke-linejoin:round; stroke-width:4; stroke-opacity:1; fill:none\" points=\"\n",
       "  1558.1,1486.45 1558.1,1467.55 \n",
       "  \"/>\n",
       "<polyline clip-path=\"url(#clip300)\" style=\"stroke:#000000; stroke-linecap:butt; stroke-linejoin:round; stroke-width:4; stroke-opacity:1; fill:none\" points=\"\n",
       "  1883.87,1486.45 1883.87,1467.55 \n",
       "  \"/>\n",
       "<polyline clip-path=\"url(#clip300)\" style=\"stroke:#000000; stroke-linecap:butt; stroke-linejoin:round; stroke-width:4; stroke-opacity:1; fill:none\" points=\"\n",
       "  2209.64,1486.45 2209.64,1467.55 \n",
       "  \"/>\n",
       "<path clip-path=\"url(#clip300)\" d=\"M255.035 1517.37 Q251.424 1517.37 249.595 1520.93 Q247.789 1524.47 247.789 1531.6 Q247.789 1538.71 249.595 1542.27 Q251.424 1545.82 255.035 1545.82 Q258.669 1545.82 260.474 1542.27 Q262.303 1538.71 262.303 1531.6 Q262.303 1524.47 260.474 1520.93 Q258.669 1517.37 255.035 1517.37 M255.035 1513.66 Q260.845 1513.66 263.9 1518.27 Q266.979 1522.85 266.979 1531.6 Q266.979 1540.33 263.9 1544.94 Q260.845 1549.52 255.035 1549.52 Q249.225 1549.52 246.146 1544.94 Q243.09 1540.33 243.09 1531.6 Q243.09 1522.85 246.146 1518.27 Q249.225 1513.66 255.035 1513.66 Z\" fill=\"#000000\" fill-rule=\"evenodd\" fill-opacity=\"1\" /><path clip-path=\"url(#clip300)\" d=\"M571.184 1544.91 L578.823 1544.91 L578.823 1518.55 L570.513 1520.21 L570.513 1515.95 L578.777 1514.29 L583.453 1514.29 L583.453 1544.91 L591.091 1544.91 L591.091 1548.85 L571.184 1548.85 L571.184 1544.91 Z\" fill=\"#000000\" fill-rule=\"evenodd\" fill-opacity=\"1\" /><path clip-path=\"url(#clip300)\" d=\"M901.222 1544.91 L917.542 1544.91 L917.542 1548.85 L895.597 1548.85 L895.597 1544.91 Q898.259 1542.16 902.843 1537.53 Q907.449 1532.88 908.63 1531.53 Q910.875 1529.01 911.755 1527.27 Q912.657 1525.51 912.657 1523.82 Q912.657 1521.07 910.713 1519.33 Q908.792 1517.6 905.69 1517.6 Q903.491 1517.6 901.037 1518.36 Q898.607 1519.13 895.829 1520.68 L895.829 1515.95 Q898.653 1514.82 901.107 1514.24 Q903.56 1513.66 905.597 1513.66 Q910.968 1513.66 914.162 1516.35 Q917.356 1519.03 917.356 1523.52 Q917.356 1525.65 916.546 1527.57 Q915.759 1529.47 913.653 1532.07 Q913.074 1532.74 909.972 1535.95 Q906.87 1539.15 901.222 1544.91 Z\" fill=\"#000000\" fill-rule=\"evenodd\" fill-opacity=\"1\" /><path clip-path=\"url(#clip300)\" d=\"M1236.58 1530.21 Q1239.94 1530.93 1241.82 1533.2 Q1243.71 1535.47 1243.71 1538.8 Q1243.71 1543.92 1240.2 1546.72 Q1236.68 1549.52 1230.2 1549.52 Q1228.02 1549.52 1225.7 1549.08 Q1223.41 1548.66 1220.96 1547.81 L1220.96 1543.29 Q1222.9 1544.43 1225.22 1545.01 Q1227.53 1545.58 1230.06 1545.58 Q1234.45 1545.58 1236.75 1543.85 Q1239.06 1542.11 1239.06 1538.8 Q1239.06 1535.75 1236.91 1534.03 Q1234.78 1532.3 1230.96 1532.3 L1226.93 1532.3 L1226.93 1528.45 L1231.14 1528.45 Q1234.59 1528.45 1236.42 1527.09 Q1238.25 1525.7 1238.25 1523.11 Q1238.25 1520.45 1236.35 1519.03 Q1234.48 1517.6 1230.96 1517.6 Q1229.04 1517.6 1226.84 1518.01 Q1224.64 1518.43 1222 1519.31 L1222 1515.14 Q1224.66 1514.4 1226.98 1514.03 Q1229.32 1513.66 1231.38 1513.66 Q1236.7 1513.66 1239.8 1516.09 Q1242.9 1518.5 1242.9 1522.62 Q1242.9 1525.49 1241.26 1527.48 Q1239.62 1529.45 1236.58 1530.21 Z\" fill=\"#000000\" fill-rule=\"evenodd\" fill-opacity=\"1\" /><path clip-path=\"url(#clip300)\" d=\"M1561.11 1518.36 L1549.31 1536.81 L1561.11 1536.81 L1561.11 1518.36 M1559.89 1514.29 L1565.77 1514.29 L1565.77 1536.81 L1570.7 1536.81 L1570.7 1540.7 L1565.77 1540.7 L1565.77 1548.85 L1561.11 1548.85 L1561.11 1540.7 L1545.51 1540.7 L1545.51 1536.19 L1559.89 1514.29 Z\" fill=\"#000000\" fill-rule=\"evenodd\" fill-opacity=\"1\" /><path clip-path=\"url(#clip300)\" d=\"M1874.15 1514.29 L1892.51 1514.29 L1892.51 1518.22 L1878.43 1518.22 L1878.43 1526.7 Q1879.45 1526.35 1880.47 1526.19 Q1881.49 1526 1882.51 1526 Q1888.29 1526 1891.67 1529.17 Q1895.05 1532.34 1895.05 1537.76 Q1895.05 1543.34 1891.58 1546.44 Q1888.11 1549.52 1881.79 1549.52 Q1879.61 1549.52 1877.34 1549.15 Q1875.1 1548.78 1872.69 1548.04 L1872.69 1543.34 Q1874.77 1544.47 1877 1545.03 Q1879.22 1545.58 1881.7 1545.58 Q1885.7 1545.58 1888.04 1543.48 Q1890.38 1541.37 1890.38 1537.76 Q1890.38 1534.15 1888.04 1532.04 Q1885.7 1529.94 1881.7 1529.94 Q1879.82 1529.94 1877.95 1530.35 Q1876.09 1530.77 1874.15 1531.65 L1874.15 1514.29 Z\" fill=\"#000000\" fill-rule=\"evenodd\" fill-opacity=\"1\" /><path clip-path=\"url(#clip300)\" d=\"M2210.04 1529.7 Q2206.9 1529.7 2205.04 1531.86 Q2203.22 1534.01 2203.22 1537.76 Q2203.22 1541.49 2205.04 1543.66 Q2206.9 1545.82 2210.04 1545.82 Q2213.19 1545.82 2215.02 1543.66 Q2216.87 1541.49 2216.87 1537.76 Q2216.87 1534.01 2215.02 1531.86 Q2213.19 1529.7 2210.04 1529.7 M2219.33 1515.05 L2219.33 1519.31 Q2217.57 1518.48 2215.76 1518.04 Q2213.98 1517.6 2212.22 1517.6 Q2207.59 1517.6 2205.14 1520.72 Q2202.71 1523.85 2202.36 1530.17 Q2203.72 1528.15 2205.78 1527.09 Q2207.85 1526 2210.32 1526 Q2215.53 1526 2218.54 1529.17 Q2221.57 1532.32 2221.57 1537.76 Q2221.57 1543.08 2218.42 1546.3 Q2215.28 1549.52 2210.04 1549.52 Q2204.05 1549.52 2200.88 1544.94 Q2197.71 1540.33 2197.71 1531.6 Q2197.71 1523.41 2201.6 1518.55 Q2205.48 1513.66 2212.03 1513.66 Q2213.79 1513.66 2215.58 1514.01 Q2217.38 1514.36 2219.33 1515.05 Z\" fill=\"#000000\" fill-rule=\"evenodd\" fill-opacity=\"1\" /><polyline clip-path=\"url(#clip302)\" style=\"stroke:#000000; stroke-linecap:butt; stroke-linejoin:round; stroke-width:2; stroke-opacity:0.1; fill:none\" points=\"\n",
       "  193.936,1447.87 2352.76,1447.87 \n",
       "  \"/>\n",
       "<polyline clip-path=\"url(#clip302)\" style=\"stroke:#000000; stroke-linecap:butt; stroke-linejoin:round; stroke-width:2; stroke-opacity:0.1; fill:none\" points=\"\n",
       "  193.936,1126.42 2352.76,1126.42 \n",
       "  \"/>\n",
       "<polyline clip-path=\"url(#clip302)\" style=\"stroke:#000000; stroke-linecap:butt; stroke-linejoin:round; stroke-width:2; stroke-opacity:0.1; fill:none\" points=\"\n",
       "  193.936,804.96 2352.76,804.96 \n",
       "  \"/>\n",
       "<polyline clip-path=\"url(#clip302)\" style=\"stroke:#000000; stroke-linecap:butt; stroke-linejoin:round; stroke-width:2; stroke-opacity:0.1; fill:none\" points=\"\n",
       "  193.936,483.503 2352.76,483.503 \n",
       "  \"/>\n",
       "<polyline clip-path=\"url(#clip302)\" style=\"stroke:#000000; stroke-linecap:butt; stroke-linejoin:round; stroke-width:2; stroke-opacity:0.1; fill:none\" points=\"\n",
       "  193.936,162.047 2352.76,162.047 \n",
       "  \"/>\n",
       "<polyline clip-path=\"url(#clip300)\" style=\"stroke:#000000; stroke-linecap:butt; stroke-linejoin:round; stroke-width:4; stroke-opacity:1; fill:none\" points=\"\n",
       "  193.936,1486.45 193.936,123.472 \n",
       "  \"/>\n",
       "<polyline clip-path=\"url(#clip300)\" style=\"stroke:#000000; stroke-linecap:butt; stroke-linejoin:round; stroke-width:4; stroke-opacity:1; fill:none\" points=\"\n",
       "  193.936,1447.87 212.834,1447.87 \n",
       "  \"/>\n",
       "<polyline clip-path=\"url(#clip300)\" style=\"stroke:#000000; stroke-linecap:butt; stroke-linejoin:round; stroke-width:4; stroke-opacity:1; fill:none\" points=\"\n",
       "  193.936,1126.42 212.834,1126.42 \n",
       "  \"/>\n",
       "<polyline clip-path=\"url(#clip300)\" style=\"stroke:#000000; stroke-linecap:butt; stroke-linejoin:round; stroke-width:4; stroke-opacity:1; fill:none\" points=\"\n",
       "  193.936,804.96 212.834,804.96 \n",
       "  \"/>\n",
       "<polyline clip-path=\"url(#clip300)\" style=\"stroke:#000000; stroke-linecap:butt; stroke-linejoin:round; stroke-width:4; stroke-opacity:1; fill:none\" points=\"\n",
       "  193.936,483.503 212.834,483.503 \n",
       "  \"/>\n",
       "<polyline clip-path=\"url(#clip300)\" style=\"stroke:#000000; stroke-linecap:butt; stroke-linejoin:round; stroke-width:4; stroke-opacity:1; fill:none\" points=\"\n",
       "  193.936,162.047 212.834,162.047 \n",
       "  \"/>\n",
       "<path clip-path=\"url(#clip300)\" d=\"M50.9921 1448.32 L80.6679 1448.32 L80.6679 1452.26 L50.9921 1452.26 L50.9921 1448.32 Z\" fill=\"#000000\" fill-rule=\"evenodd\" fill-opacity=\"1\" /><path clip-path=\"url(#clip300)\" d=\"M91.5706 1461.22 L99.2095 1461.22 L99.2095 1434.85 L90.8993 1436.52 L90.8993 1432.26 L99.1632 1430.59 L103.839 1430.59 L103.839 1461.22 L111.478 1461.22 L111.478 1465.15 L91.5706 1465.15 L91.5706 1461.22 Z\" fill=\"#000000\" fill-rule=\"evenodd\" fill-opacity=\"1\" /><path clip-path=\"url(#clip300)\" d=\"M120.922 1459.27 L125.807 1459.27 L125.807 1465.15 L120.922 1465.15 L120.922 1459.27 Z\" fill=\"#000000\" fill-rule=\"evenodd\" fill-opacity=\"1\" /><path clip-path=\"url(#clip300)\" d=\"M145.992 1433.67 Q142.381 1433.67 140.552 1437.24 Q138.746 1440.78 138.746 1447.91 Q138.746 1455.01 140.552 1458.58 Q142.381 1462.12 145.992 1462.12 Q149.626 1462.12 151.431 1458.58 Q153.26 1455.01 153.26 1447.91 Q153.26 1440.78 151.431 1437.24 Q149.626 1433.67 145.992 1433.67 M145.992 1429.97 Q151.802 1429.97 154.857 1434.57 Q157.936 1439.16 157.936 1447.91 Q157.936 1456.63 154.857 1461.24 Q151.802 1465.82 145.992 1465.82 Q140.181 1465.82 137.103 1461.24 Q134.047 1456.63 134.047 1447.91 Q134.047 1439.16 137.103 1434.57 Q140.181 1429.97 145.992 1429.97 Z\" fill=\"#000000\" fill-rule=\"evenodd\" fill-opacity=\"1\" /><path clip-path=\"url(#clip300)\" d=\"M51.9875 1126.87 L81.6633 1126.87 L81.6633 1130.8 L51.9875 1130.8 L51.9875 1126.87 Z\" fill=\"#000000\" fill-rule=\"evenodd\" fill-opacity=\"1\" /><path clip-path=\"url(#clip300)\" d=\"M101.756 1112.22 Q98.1447 1112.22 96.316 1115.78 Q94.5104 1119.32 94.5104 1126.45 Q94.5104 1133.56 96.316 1137.12 Q98.1447 1140.66 101.756 1140.66 Q105.39 1140.66 107.196 1137.12 Q109.024 1133.56 109.024 1126.45 Q109.024 1119.32 107.196 1115.78 Q105.39 1112.22 101.756 1112.22 M101.756 1108.51 Q107.566 1108.51 110.621 1113.12 Q113.7 1117.7 113.7 1126.45 Q113.7 1135.18 110.621 1139.78 Q107.566 1144.37 101.756 1144.37 Q95.9456 1144.37 92.8669 1139.78 Q89.8114 1135.18 89.8114 1126.45 Q89.8114 1117.7 92.8669 1113.12 Q95.9456 1108.51 101.756 1108.51 Z\" fill=\"#000000\" fill-rule=\"evenodd\" fill-opacity=\"1\" /><path clip-path=\"url(#clip300)\" d=\"M121.918 1137.82 L126.802 1137.82 L126.802 1143.7 L121.918 1143.7 L121.918 1137.82 Z\" fill=\"#000000\" fill-rule=\"evenodd\" fill-opacity=\"1\" /><path clip-path=\"url(#clip300)\" d=\"M137.033 1109.14 L155.39 1109.14 L155.39 1113.07 L141.316 1113.07 L141.316 1121.54 Q142.334 1121.2 143.353 1121.03 Q144.371 1120.85 145.39 1120.85 Q151.177 1120.85 154.556 1124.02 Q157.936 1127.19 157.936 1132.61 Q157.936 1138.19 154.464 1141.29 Q150.992 1144.37 144.672 1144.37 Q142.496 1144.37 140.228 1144 Q137.982 1143.63 135.575 1142.89 L135.575 1138.19 Q137.658 1139.32 139.881 1139.88 Q142.103 1140.43 144.58 1140.43 Q148.584 1140.43 150.922 1138.33 Q153.26 1136.22 153.26 1132.61 Q153.26 1129 150.922 1126.89 Q148.584 1124.78 144.58 1124.78 Q142.705 1124.78 140.83 1125.2 Q138.978 1125.62 137.033 1126.5 L137.033 1109.14 Z\" fill=\"#000000\" fill-rule=\"evenodd\" fill-opacity=\"1\" /><path clip-path=\"url(#clip300)\" d=\"M100.76 790.759 Q97.1493 790.759 95.3206 794.323 Q93.515 797.865 93.515 804.995 Q93.515 812.101 95.3206 815.666 Q97.1493 819.208 100.76 819.208 Q104.395 819.208 106.2 815.666 Q108.029 812.101 108.029 804.995 Q108.029 797.865 106.2 794.323 Q104.395 790.759 100.76 790.759 M100.76 787.055 Q106.571 787.055 109.626 791.661 Q112.705 796.245 112.705 804.995 Q112.705 813.722 109.626 818.328 Q106.571 822.911 100.76 822.911 Q94.9502 822.911 91.8715 818.328 Q88.816 813.722 88.816 804.995 Q88.816 796.245 91.8715 791.661 Q94.9502 787.055 100.76 787.055 Z\" fill=\"#000000\" fill-rule=\"evenodd\" fill-opacity=\"1\" /><path clip-path=\"url(#clip300)\" d=\"M120.922 816.36 L125.807 816.36 L125.807 822.24 L120.922 822.24 L120.922 816.36 Z\" fill=\"#000000\" fill-rule=\"evenodd\" fill-opacity=\"1\" /><path clip-path=\"url(#clip300)\" d=\"M145.992 790.759 Q142.381 790.759 140.552 794.323 Q138.746 797.865 138.746 804.995 Q138.746 812.101 140.552 815.666 Q142.381 819.208 145.992 819.208 Q149.626 819.208 151.431 815.666 Q153.26 812.101 153.26 804.995 Q153.26 797.865 151.431 794.323 Q149.626 790.759 145.992 790.759 M145.992 787.055 Q151.802 787.055 154.857 791.661 Q157.936 796.245 157.936 804.995 Q157.936 813.722 154.857 818.328 Q151.802 822.911 145.992 822.911 Q140.181 822.911 137.103 818.328 Q134.047 813.722 134.047 804.995 Q134.047 796.245 137.103 791.661 Q140.181 787.055 145.992 787.055 Z\" fill=\"#000000\" fill-rule=\"evenodd\" fill-opacity=\"1\" /><path clip-path=\"url(#clip300)\" d=\"M101.756 469.302 Q98.1447 469.302 96.316 472.867 Q94.5104 476.409 94.5104 483.538 Q94.5104 490.645 96.316 494.209 Q98.1447 497.751 101.756 497.751 Q105.39 497.751 107.196 494.209 Q109.024 490.645 109.024 483.538 Q109.024 476.409 107.196 472.867 Q105.39 469.302 101.756 469.302 M101.756 465.598 Q107.566 465.598 110.621 470.205 Q113.7 474.788 113.7 483.538 Q113.7 492.265 110.621 496.871 Q107.566 501.455 101.756 501.455 Q95.9456 501.455 92.8669 496.871 Q89.8114 492.265 89.8114 483.538 Q89.8114 474.788 92.8669 470.205 Q95.9456 465.598 101.756 465.598 Z\" fill=\"#000000\" fill-rule=\"evenodd\" fill-opacity=\"1\" /><path clip-path=\"url(#clip300)\" d=\"M121.918 494.904 L126.802 494.904 L126.802 500.783 L121.918 500.783 L121.918 494.904 Z\" fill=\"#000000\" fill-rule=\"evenodd\" fill-opacity=\"1\" /><path clip-path=\"url(#clip300)\" d=\"M137.033 466.223 L155.39 466.223 L155.39 470.159 L141.316 470.159 L141.316 478.631 Q142.334 478.284 143.353 478.122 Q144.371 477.936 145.39 477.936 Q151.177 477.936 154.556 481.108 Q157.936 484.279 157.936 489.696 Q157.936 495.274 154.464 498.376 Q150.992 501.455 144.672 501.455 Q142.496 501.455 140.228 501.084 Q137.982 500.714 135.575 499.973 L135.575 495.274 Q137.658 496.408 139.881 496.964 Q142.103 497.52 144.58 497.52 Q148.584 497.52 150.922 495.413 Q153.26 493.307 153.26 489.696 Q153.26 486.084 150.922 483.978 Q148.584 481.872 144.58 481.872 Q142.705 481.872 140.83 482.288 Q138.978 482.705 137.033 483.584 L137.033 466.223 Z\" fill=\"#000000\" fill-rule=\"evenodd\" fill-opacity=\"1\" /><path clip-path=\"url(#clip300)\" d=\"M91.5706 175.392 L99.2095 175.392 L99.2095 149.026 L90.8993 150.693 L90.8993 146.434 L99.1632 144.767 L103.839 144.767 L103.839 175.392 L111.478 175.392 L111.478 179.327 L91.5706 179.327 L91.5706 175.392 Z\" fill=\"#000000\" fill-rule=\"evenodd\" fill-opacity=\"1\" /><path clip-path=\"url(#clip300)\" d=\"M120.922 173.447 L125.807 173.447 L125.807 179.327 L120.922 179.327 L120.922 173.447 Z\" fill=\"#000000\" fill-rule=\"evenodd\" fill-opacity=\"1\" /><path clip-path=\"url(#clip300)\" d=\"M145.992 147.846 Q142.381 147.846 140.552 151.41 Q138.746 154.952 138.746 162.082 Q138.746 169.188 140.552 172.753 Q142.381 176.295 145.992 176.295 Q149.626 176.295 151.431 172.753 Q153.26 169.188 153.26 162.082 Q153.26 154.952 151.431 151.41 Q149.626 147.846 145.992 147.846 M145.992 144.142 Q151.802 144.142 154.857 148.748 Q157.936 153.332 157.936 162.082 Q157.936 170.808 154.857 175.415 Q151.802 179.998 145.992 179.998 Q140.181 179.998 137.103 175.415 Q134.047 170.808 134.047 162.082 Q134.047 153.332 137.103 148.748 Q140.181 144.142 145.992 144.142 Z\" fill=\"#000000\" fill-rule=\"evenodd\" fill-opacity=\"1\" /><path clip-path=\"url(#clip300)\" d=\"M924.421 12.096 L975.584 12.096 L975.584 18.9825 L954.114 18.9825 L954.114 72.576 L945.891 72.576 L945.891 18.9825 L924.421 18.9825 L924.421 12.096 Z\" fill=\"#000000\" fill-rule=\"evenodd\" fill-opacity=\"1\" /><path clip-path=\"url(#clip300)\" d=\"M1020.87 45.1919 L1020.87 72.576 L1013.42 72.576 L1013.42 45.4349 Q1013.42 38.994 1010.91 35.7938 Q1008.4 32.5936 1003.37 32.5936 Q997.338 32.5936 993.854 36.4419 Q990.37 40.2903 990.37 46.9338 L990.37 72.576 L982.876 72.576 L982.876 9.54393 L990.37 9.54393 L990.37 34.2544 Q993.044 30.163 996.649 28.1376 Q1000.29 26.1121 1005.03 26.1121 Q1012.85 26.1121 1016.86 30.9732 Q1020.87 35.7938 1020.87 45.1919 Z\" fill=\"#000000\" fill-rule=\"evenodd\" fill-opacity=\"1\" /><path clip-path=\"url(#clip300)\" d=\"M1035.74 27.2059 L1043.19 27.2059 L1043.19 72.576 L1035.74 72.576 L1035.74 27.2059 M1035.74 9.54393 L1043.19 9.54393 L1043.19 18.9825 L1035.74 18.9825 L1035.74 9.54393 Z\" fill=\"#000000\" fill-rule=\"evenodd\" fill-opacity=\"1\" /><path clip-path=\"url(#clip300)\" d=\"M1087.71 28.5427 L1087.71 35.5912 Q1084.55 33.9709 1081.15 33.1607 Q1077.75 32.3505 1074.1 32.3505 Q1068.55 32.3505 1065.76 34.0519 Q1063 35.7533 1063 39.156 Q1063 41.7486 1064.99 43.2475 Q1066.97 44.7058 1072.97 46.0426 L1075.52 46.6097 Q1083.46 48.3111 1086.78 51.4303 Q1090.14 54.509 1090.14 60.0587 Q1090.14 66.3781 1085.12 70.0644 Q1080.14 73.7508 1071.39 73.7508 Q1067.74 73.7508 1063.77 73.0216 Q1059.84 72.3329 1055.47 70.9151 L1055.47 63.2184 Q1059.6 65.3654 1063.61 66.4591 Q1067.62 67.5124 1071.55 67.5124 Q1076.82 67.5124 1079.65 65.73 Q1082.49 63.9071 1082.49 60.6258 Q1082.49 57.5877 1080.42 55.9673 Q1078.4 54.3469 1071.47 52.8481 L1068.88 52.2405 Q1061.95 50.7821 1058.87 47.7845 Q1055.79 44.7463 1055.79 39.4801 Q1055.79 33.0797 1060.33 29.5959 Q1064.87 26.1121 1073.21 26.1121 Q1077.34 26.1121 1080.99 26.7198 Q1084.63 27.3274 1087.71 28.5427 Z\" fill=\"#000000\" fill-rule=\"evenodd\" fill-opacity=\"1\" /><path clip-path=\"url(#clip300)\" d=\"M1128.38 27.2059 L1135.84 27.2059 L1135.84 72.576 L1128.38 72.576 L1128.38 27.2059 M1128.38 9.54393 L1135.84 9.54393 L1135.84 18.9825 L1128.38 18.9825 L1128.38 9.54393 Z\" fill=\"#000000\" fill-rule=\"evenodd\" fill-opacity=\"1\" /><path clip-path=\"url(#clip300)\" d=\"M1180.36 28.5427 L1180.36 35.5912 Q1177.2 33.9709 1173.79 33.1607 Q1170.39 32.3505 1166.75 32.3505 Q1161.2 32.3505 1158.4 34.0519 Q1155.65 35.7533 1155.65 39.156 Q1155.65 41.7486 1157.63 43.2475 Q1159.62 44.7058 1165.61 46.0426 L1168.16 46.6097 Q1176.1 48.3111 1179.43 51.4303 Q1182.79 54.509 1182.79 60.0587 Q1182.79 66.3781 1177.76 70.0644 Q1172.78 73.7508 1164.03 73.7508 Q1160.39 73.7508 1156.42 73.0216 Q1152.49 72.3329 1148.11 70.9151 L1148.11 63.2184 Q1152.24 65.3654 1156.25 66.4591 Q1160.26 67.5124 1164.19 67.5124 Q1169.46 67.5124 1172.3 65.73 Q1175.13 63.9071 1175.13 60.6258 Q1175.13 57.5877 1173.07 55.9673 Q1171.04 54.3469 1164.11 52.8481 L1161.52 52.2405 Q1154.59 50.7821 1151.52 47.7845 Q1148.44 44.7463 1148.44 39.4801 Q1148.44 33.0797 1152.97 29.5959 Q1157.51 26.1121 1165.86 26.1121 Q1169.99 26.1121 1173.63 26.7198 Q1177.28 27.3274 1180.36 28.5427 Z\" fill=\"#000000\" fill-rule=\"evenodd\" fill-opacity=\"1\" /><path clip-path=\"url(#clip300)\" d=\"M1241.65 49.7694 Q1232.61 49.7694 1229.13 51.8354 Q1225.65 53.9013 1225.65 58.8839 Q1225.65 62.8538 1228.24 65.2034 Q1230.87 67.5124 1235.37 67.5124 Q1241.57 67.5124 1245.29 63.1374 Q1249.06 58.7219 1249.06 51.4303 L1249.06 49.7694 L1241.65 49.7694 M1256.51 46.6907 L1256.51 72.576 L1249.06 72.576 L1249.06 65.6895 Q1246.51 69.8214 1242.7 71.8063 Q1238.89 73.7508 1233.38 73.7508 Q1226.42 73.7508 1222.28 69.8619 Q1218.19 65.9325 1218.19 59.3701 Q1218.19 51.7138 1223.3 47.825 Q1228.44 43.9361 1238.61 43.9361 L1249.06 43.9361 L1249.06 43.2069 Q1249.06 38.0623 1245.66 35.2672 Q1242.3 32.4315 1236.18 32.4315 Q1232.29 32.4315 1228.6 33.3632 Q1224.92 34.295 1221.51 36.1584 L1221.51 29.2718 Q1225.61 27.692 1229.45 26.9223 Q1233.3 26.1121 1236.95 26.1121 Q1246.79 26.1121 1251.65 31.2163 Q1256.51 36.3204 1256.51 46.6907 Z\" fill=\"#000000\" fill-rule=\"evenodd\" fill-opacity=\"1\" /><path clip-path=\"url(#clip300)\" d=\"M1321.21 9.54393 L1321.21 15.7418 L1314.08 15.7418 Q1310.07 15.7418 1308.49 17.3622 Q1306.95 18.9825 1306.95 23.1955 L1306.95 27.2059 L1319.22 27.2059 L1319.22 32.9987 L1306.95 32.9987 L1306.95 72.576 L1299.45 72.576 L1299.45 32.9987 L1292.32 32.9987 L1292.32 27.2059 L1299.45 27.2059 L1299.45 24.0462 Q1299.45 16.471 1302.98 13.0277 Q1306.5 9.54393 1314.16 9.54393 L1321.21 9.54393 Z\" fill=\"#000000\" fill-rule=\"evenodd\" fill-opacity=\"1\" /><path clip-path=\"url(#clip300)\" d=\"M1326.68 54.671 L1326.68 27.2059 L1334.13 27.2059 L1334.13 54.3874 Q1334.13 60.8284 1336.64 64.0691 Q1339.15 67.2693 1344.18 67.2693 Q1350.21 67.2693 1353.7 63.421 Q1357.22 59.5726 1357.22 52.9291 L1357.22 27.2059 L1364.67 27.2059 L1364.67 72.576 L1357.22 72.576 L1357.22 65.6084 Q1354.51 69.7404 1350.9 71.7658 Q1347.34 73.7508 1342.6 73.7508 Q1334.78 73.7508 1330.73 68.8897 Q1326.68 64.0286 1326.68 54.671 M1345.43 26.1121 L1345.43 26.1121 Z\" fill=\"#000000\" fill-rule=\"evenodd\" fill-opacity=\"1\" /><path clip-path=\"url(#clip300)\" d=\"M1417.74 45.1919 L1417.74 72.576 L1410.29 72.576 L1410.29 45.4349 Q1410.29 38.994 1407.78 35.7938 Q1405.26 32.5936 1400.24 32.5936 Q1394.2 32.5936 1390.72 36.4419 Q1387.24 40.2903 1387.24 46.9338 L1387.24 72.576 L1379.74 72.576 L1379.74 27.2059 L1387.24 27.2059 L1387.24 34.2544 Q1389.91 30.163 1393.52 28.1376 Q1397.16 26.1121 1401.9 26.1121 Q1409.72 26.1121 1413.73 30.9732 Q1417.74 35.7938 1417.74 45.1919 Z\" fill=\"#000000\" fill-rule=\"evenodd\" fill-opacity=\"1\" /><path clip-path=\"url(#clip300)\" d=\"M1465.26 28.9478 L1465.26 35.9153 Q1462.1 34.1734 1458.9 33.3227 Q1455.74 32.4315 1452.5 32.4315 Q1445.25 32.4315 1441.24 37.0496 Q1437.23 41.6271 1437.23 49.9314 Q1437.23 58.2358 1441.24 62.8538 Q1445.25 67.4314 1452.5 67.4314 Q1455.74 67.4314 1458.9 66.5807 Q1462.1 65.6895 1465.26 63.9476 L1465.26 70.8341 Q1462.14 72.2924 1458.78 73.0216 Q1455.45 73.7508 1451.69 73.7508 Q1441.44 73.7508 1435.4 67.3098 Q1429.37 60.8689 1429.37 49.9314 Q1429.37 38.832 1435.44 32.472 Q1441.56 26.1121 1452.17 26.1121 Q1455.62 26.1121 1458.9 26.8413 Q1462.18 27.5299 1465.26 28.9478 Z\" fill=\"#000000\" fill-rule=\"evenodd\" fill-opacity=\"1\" /><path clip-path=\"url(#clip300)\" d=\"M1485.59 14.324 L1485.59 27.2059 L1500.95 27.2059 L1500.95 32.9987 L1485.59 32.9987 L1485.59 57.6282 Q1485.59 63.1779 1487.09 64.7578 Q1488.63 66.3376 1493.29 66.3376 L1500.95 66.3376 L1500.95 72.576 L1493.29 72.576 Q1484.66 72.576 1481.38 69.3758 Q1478.1 66.1351 1478.1 57.6282 L1478.1 32.9987 L1472.63 32.9987 L1472.63 27.2059 L1478.1 27.2059 L1478.1 14.324 L1485.59 14.324 Z\" fill=\"#000000\" fill-rule=\"evenodd\" fill-opacity=\"1\" /><path clip-path=\"url(#clip300)\" d=\"M1510.75 27.2059 L1518.2 27.2059 L1518.2 72.576 L1510.75 72.576 L1510.75 27.2059 M1510.75 9.54393 L1518.2 9.54393 L1518.2 18.9825 L1510.75 18.9825 L1510.75 9.54393 Z\" fill=\"#000000\" fill-rule=\"evenodd\" fill-opacity=\"1\" /><path clip-path=\"url(#clip300)\" d=\"M1551.38 32.4315 Q1545.38 32.4315 1541.9 37.1306 Q1538.42 41.7891 1538.42 49.9314 Q1538.42 58.0738 1541.86 62.7728 Q1545.34 67.4314 1551.38 67.4314 Q1557.33 67.4314 1560.82 62.7323 Q1564.3 58.0333 1564.3 49.9314 Q1564.3 41.8701 1560.82 37.1711 Q1557.33 32.4315 1551.38 32.4315 M1551.38 26.1121 Q1561.1 26.1121 1566.65 32.4315 Q1572.2 38.7509 1572.2 49.9314 Q1572.2 61.0714 1566.65 67.4314 Q1561.1 73.7508 1551.38 73.7508 Q1541.62 73.7508 1536.07 67.4314 Q1530.56 61.0714 1530.56 49.9314 Q1530.56 38.7509 1536.07 32.4315 Q1541.62 26.1121 1551.38 26.1121 Z\" fill=\"#000000\" fill-rule=\"evenodd\" fill-opacity=\"1\" /><path clip-path=\"url(#clip300)\" d=\"M1622.27 45.1919 L1622.27 72.576 L1614.82 72.576 L1614.82 45.4349 Q1614.82 38.994 1612.31 35.7938 Q1609.79 32.5936 1604.77 32.5936 Q1598.73 32.5936 1595.25 36.4419 Q1591.77 40.2903 1591.77 46.9338 L1591.77 72.576 L1584.27 72.576 L1584.27 27.2059 L1591.77 27.2059 L1591.77 34.2544 Q1594.44 30.163 1598.05 28.1376 Q1601.69 26.1121 1606.43 26.1121 Q1614.25 26.1121 1618.26 30.9732 Q1622.27 35.7938 1622.27 45.1919 Z\" fill=\"#000000\" fill-rule=\"evenodd\" fill-opacity=\"1\" /><polyline clip-path=\"url(#clip302)\" style=\"stroke:#009af9; stroke-linecap:butt; stroke-linejoin:round; stroke-width:8; stroke-opacity:1; fill:none\" points=\"\n",
       "  255.035,804.96 265.269,784.766 275.503,764.591 285.738,744.457 295.972,724.382 306.206,704.386 316.44,684.49 326.675,664.713 336.909,645.074 347.143,625.593 \n",
       "  357.378,606.289 367.612,587.181 377.846,568.288 388.08,549.628 398.315,531.221 408.549,513.084 418.783,495.234 429.018,477.691 439.252,460.47 449.486,443.589 \n",
       "  459.72,427.065 469.955,410.914 480.189,395.152 490.423,379.794 500.657,364.856 510.892,350.352 521.126,336.297 531.36,322.704 541.595,309.587 551.829,296.959 \n",
       "  562.063,284.832 572.297,273.219 582.532,262.131 592.766,251.578 603,241.571 613.235,232.12 623.469,223.235 633.703,214.924 643.937,207.195 654.172,200.055 \n",
       "  664.406,193.513 674.64,187.575 684.875,182.245 695.109,177.53 705.343,173.435 715.577,169.962 725.812,167.116 736.046,164.9 746.28,163.316 756.515,162.364 \n",
       "  766.749,162.047 776.983,162.364 787.217,163.316 797.452,164.9 807.686,167.116 817.92,169.962 828.155,173.435 838.389,177.53 848.623,182.245 858.857,187.575 \n",
       "  869.092,193.513 879.326,200.055 889.56,207.195 899.795,214.924 910.029,223.235 920.263,232.12 930.497,241.571 940.732,251.578 950.966,262.131 961.2,273.219 \n",
       "  971.435,284.832 981.669,296.959 991.903,309.587 1002.14,322.704 1012.37,336.297 1022.61,350.352 1032.84,364.856 1043.07,379.794 1053.31,395.152 1063.54,410.914 \n",
       "  1073.78,427.065 1084.01,443.589 1094.25,460.47 1104.48,477.691 1114.71,495.234 1124.95,513.084 1135.18,531.221 1145.42,549.628 1155.65,568.288 1165.89,587.181 \n",
       "  1176.12,606.289 1186.35,625.593 1196.59,645.074 1206.82,664.713 1217.06,684.49 1227.29,704.386 1237.53,724.382 1247.76,744.457 1257.99,764.591 1268.23,784.766 \n",
       "  1278.46,804.96 1288.7,825.154 1298.93,845.329 1309.17,865.463 1319.4,885.538 1329.63,905.534 1339.87,925.43 1350.1,945.207 1360.34,964.846 1370.57,984.327 \n",
       "  1380.81,1003.63 1391.04,1022.74 1401.27,1041.63 1411.51,1060.29 1421.74,1078.7 1431.98,1096.84 1442.21,1114.69 1452.45,1132.23 1462.68,1149.45 1472.91,1166.33 \n",
       "  1483.15,1182.85 1493.38,1199.01 1503.62,1214.77 1513.85,1230.13 1524.09,1245.06 1534.32,1259.57 1544.55,1273.62 1554.79,1287.22 1565.02,1300.33 1575.26,1312.96 \n",
       "  1585.49,1325.09 1595.73,1336.7 1605.96,1347.79 1616.19,1358.34 1626.43,1368.35 1636.66,1377.8 1646.9,1386.69 1657.13,1395 1667.37,1402.73 1677.6,1409.86 \n",
       "  1687.83,1416.41 1698.07,1422.35 1708.3,1427.67 1718.54,1432.39 1728.77,1436.49 1739.01,1439.96 1749.24,1442.8 1759.47,1445.02 1769.71,1446.6 1779.94,1447.56 \n",
       "  1790.18,1447.87 1800.41,1447.56 1810.65,1446.6 1820.88,1445.02 1831.11,1442.8 1841.35,1439.96 1851.58,1436.49 1861.82,1432.39 1872.05,1427.67 1882.29,1422.35 \n",
       "  1892.52,1416.41 1902.75,1409.86 1912.99,1402.73 1923.22,1395 1933.46,1386.69 1943.69,1377.8 1953.93,1368.35 1964.16,1358.34 1974.39,1347.79 1984.63,1336.7 \n",
       "  1994.86,1325.09 2005.1,1312.96 2015.33,1300.33 2025.57,1287.22 2035.8,1273.62 2046.03,1259.57 2056.27,1245.06 2066.5,1230.13 2076.74,1214.77 2086.97,1199.01 \n",
       "  2097.21,1182.85 2107.44,1166.33 2117.67,1149.45 2127.91,1132.23 2138.14,1114.69 2148.38,1096.84 2158.61,1078.7 2168.85,1060.29 2179.08,1041.63 2189.31,1022.74 \n",
       "  2199.55,1003.63 2209.78,984.327 2220.02,964.846 2230.25,945.207 2240.49,925.43 2250.72,905.534 2260.95,885.538 2271.19,865.463 2281.42,845.329 2291.66,825.154 \n",
       "  \n",
       "  \"/>\n",
       "</svg>\n"
      ]
     },
     "execution_count": 55,
     "metadata": {},
     "output_type": "execute_result"
    }
   ],
   "source": [
    "x = 0:π/100:2π\n",
    "y = sin.(x)\n",
    "\n",
    "plot(x, y, title = \"This is a function\", legend = false, lw = 2)"
   ]
  },
  {
   "cell_type": "markdown",
   "metadata": {
    "slideshow": {
     "slide_type": "slide"
    }
   },
   "source": [
    "## Functions and non-functions"
   ]
  },
  {
   "cell_type": "code",
   "execution_count": 57,
   "metadata": {
    "slideshow": {
     "slide_type": "fragment"
    }
   },
   "outputs": [
    {
     "data": {
      "image/svg+xml": [
       "<?xml version=\"1.0\" encoding=\"utf-8\"?>\n",
       "<svg xmlns=\"http://www.w3.org/2000/svg\" xmlns:xlink=\"http://www.w3.org/1999/xlink\" width=\"600\" height=\"400\" viewBox=\"0 0 2400 1600\">\n",
       "<defs>\n",
       "  <clipPath id=\"clip380\">\n",
       "    <rect x=\"0\" y=\"0\" width=\"2400\" height=\"1600\"/>\n",
       "  </clipPath>\n",
       "</defs>\n",
       "<path clip-path=\"url(#clip380)\" d=\"\n",
       "M0 1600 L2400 1600 L2400 0 L0 0  Z\n",
       "  \" fill=\"#ffffff\" fill-rule=\"evenodd\" fill-opacity=\"1\"/>\n",
       "<defs>\n",
       "  <clipPath id=\"clip381\">\n",
       "    <rect x=\"480\" y=\"0\" width=\"1681\" height=\"1600\"/>\n",
       "  </clipPath>\n",
       "</defs>\n",
       "<path clip-path=\"url(#clip380)\" d=\"\n",
       "M156.112 1486.45 L2352.76 1486.45 L2352.76 123.472 L156.112 123.472  Z\n",
       "  \" fill=\"#ffffff\" fill-rule=\"evenodd\" fill-opacity=\"1\"/>\n",
       "<defs>\n",
       "  <clipPath id=\"clip382\">\n",
       "    <rect x=\"156\" y=\"123\" width=\"2198\" height=\"1364\"/>\n",
       "  </clipPath>\n",
       "</defs>\n",
       "<polyline clip-path=\"url(#clip382)\" style=\"stroke:#000000; stroke-linecap:butt; stroke-linejoin:round; stroke-width:2; stroke-opacity:0.1; fill:none\" points=\"\n",
       "  218.281,1486.45 218.281,123.472 \n",
       "  \"/>\n",
       "<polyline clip-path=\"url(#clip382)\" style=\"stroke:#000000; stroke-linecap:butt; stroke-linejoin:round; stroke-width:2; stroke-opacity:0.1; fill:none\" points=\"\n",
       "  736.358,1486.45 736.358,123.472 \n",
       "  \"/>\n",
       "<polyline clip-path=\"url(#clip382)\" style=\"stroke:#000000; stroke-linecap:butt; stroke-linejoin:round; stroke-width:2; stroke-opacity:0.1; fill:none\" points=\"\n",
       "  1254.43,1486.45 1254.43,123.472 \n",
       "  \"/>\n",
       "<polyline clip-path=\"url(#clip382)\" style=\"stroke:#000000; stroke-linecap:butt; stroke-linejoin:round; stroke-width:2; stroke-opacity:0.1; fill:none\" points=\"\n",
       "  1772.51,1486.45 1772.51,123.472 \n",
       "  \"/>\n",
       "<polyline clip-path=\"url(#clip382)\" style=\"stroke:#000000; stroke-linecap:butt; stroke-linejoin:round; stroke-width:2; stroke-opacity:0.1; fill:none\" points=\"\n",
       "  2290.59,1486.45 2290.59,123.472 \n",
       "  \"/>\n",
       "<polyline clip-path=\"url(#clip380)\" style=\"stroke:#000000; stroke-linecap:butt; stroke-linejoin:round; stroke-width:4; stroke-opacity:1; fill:none\" points=\"\n",
       "  156.112,1486.45 2352.76,1486.45 \n",
       "  \"/>\n",
       "<polyline clip-path=\"url(#clip380)\" style=\"stroke:#000000; stroke-linecap:butt; stroke-linejoin:round; stroke-width:4; stroke-opacity:1; fill:none\" points=\"\n",
       "  218.281,1486.45 218.281,1467.55 \n",
       "  \"/>\n",
       "<polyline clip-path=\"url(#clip380)\" style=\"stroke:#000000; stroke-linecap:butt; stroke-linejoin:round; stroke-width:4; stroke-opacity:1; fill:none\" points=\"\n",
       "  736.358,1486.45 736.358,1467.55 \n",
       "  \"/>\n",
       "<polyline clip-path=\"url(#clip380)\" style=\"stroke:#000000; stroke-linecap:butt; stroke-linejoin:round; stroke-width:4; stroke-opacity:1; fill:none\" points=\"\n",
       "  1254.43,1486.45 1254.43,1467.55 \n",
       "  \"/>\n",
       "<polyline clip-path=\"url(#clip380)\" style=\"stroke:#000000; stroke-linecap:butt; stroke-linejoin:round; stroke-width:4; stroke-opacity:1; fill:none\" points=\"\n",
       "  1772.51,1486.45 1772.51,1467.55 \n",
       "  \"/>\n",
       "<polyline clip-path=\"url(#clip380)\" style=\"stroke:#000000; stroke-linecap:butt; stroke-linejoin:round; stroke-width:4; stroke-opacity:1; fill:none\" points=\"\n",
       "  2290.59,1486.45 2290.59,1467.55 \n",
       "  \"/>\n",
       "<path clip-path=\"url(#clip380)\" d=\"M195.666 1517.37 Q192.055 1517.37 190.226 1520.93 Q188.42 1524.47 188.42 1531.6 Q188.42 1538.71 190.226 1542.27 Q192.055 1545.82 195.666 1545.82 Q199.3 1545.82 201.105 1542.27 Q202.934 1538.71 202.934 1531.6 Q202.934 1524.47 201.105 1520.93 Q199.3 1517.37 195.666 1517.37 M195.666 1513.66 Q201.476 1513.66 204.531 1518.27 Q207.61 1522.85 207.61 1531.6 Q207.61 1540.33 204.531 1544.94 Q201.476 1549.52 195.666 1549.52 Q189.856 1549.52 186.777 1544.94 Q183.721 1540.33 183.721 1531.6 Q183.721 1522.85 186.777 1518.27 Q189.856 1513.66 195.666 1513.66 Z\" fill=\"#000000\" fill-rule=\"evenodd\" fill-opacity=\"1\" /><path clip-path=\"url(#clip380)\" d=\"M215.828 1542.97 L220.712 1542.97 L220.712 1548.85 L215.828 1548.85 L215.828 1542.97 Z\" fill=\"#000000\" fill-rule=\"evenodd\" fill-opacity=\"1\" /><path clip-path=\"url(#clip380)\" d=\"M240.897 1517.37 Q237.286 1517.37 235.457 1520.93 Q233.652 1524.47 233.652 1531.6 Q233.652 1538.71 235.457 1542.27 Q237.286 1545.82 240.897 1545.82 Q244.531 1545.82 246.337 1542.27 Q248.165 1538.71 248.165 1531.6 Q248.165 1524.47 246.337 1520.93 Q244.531 1517.37 240.897 1517.37 M240.897 1513.66 Q246.707 1513.66 249.763 1518.27 Q252.841 1522.85 252.841 1531.6 Q252.841 1540.33 249.763 1544.94 Q246.707 1549.52 240.897 1549.52 Q235.087 1549.52 232.008 1544.94 Q228.953 1540.33 228.953 1531.6 Q228.953 1522.85 232.008 1518.27 Q235.087 1513.66 240.897 1513.66 Z\" fill=\"#000000\" fill-rule=\"evenodd\" fill-opacity=\"1\" /><path clip-path=\"url(#clip380)\" d=\"M714.24 1517.37 Q710.629 1517.37 708.8 1520.93 Q706.994 1524.47 706.994 1531.6 Q706.994 1538.71 708.8 1542.27 Q710.629 1545.82 714.24 1545.82 Q717.874 1545.82 719.68 1542.27 Q721.508 1538.71 721.508 1531.6 Q721.508 1524.47 719.68 1520.93 Q717.874 1517.37 714.24 1517.37 M714.24 1513.66 Q720.05 1513.66 723.105 1518.27 Q726.184 1522.85 726.184 1531.6 Q726.184 1540.33 723.105 1544.94 Q720.05 1549.52 714.24 1549.52 Q708.43 1549.52 705.351 1544.94 Q702.295 1540.33 702.295 1531.6 Q702.295 1522.85 705.351 1518.27 Q708.43 1513.66 714.24 1513.66 Z\" fill=\"#000000\" fill-rule=\"evenodd\" fill-opacity=\"1\" /><path clip-path=\"url(#clip380)\" d=\"M734.402 1542.97 L739.286 1542.97 L739.286 1548.85 L734.402 1548.85 L734.402 1542.97 Z\" fill=\"#000000\" fill-rule=\"evenodd\" fill-opacity=\"1\" /><path clip-path=\"url(#clip380)\" d=\"M749.517 1514.29 L767.874 1514.29 L767.874 1518.22 L753.8 1518.22 L753.8 1526.7 Q754.818 1526.35 755.837 1526.19 Q756.855 1526 757.874 1526 Q763.661 1526 767.04 1529.17 Q770.42 1532.34 770.42 1537.76 Q770.42 1543.34 766.948 1546.44 Q763.476 1549.52 757.156 1549.52 Q754.98 1549.52 752.712 1549.15 Q750.466 1548.78 748.059 1548.04 L748.059 1543.34 Q750.142 1544.47 752.365 1545.03 Q754.587 1545.58 757.064 1545.58 Q761.068 1545.58 763.406 1543.48 Q765.744 1541.37 765.744 1537.76 Q765.744 1534.15 763.406 1532.04 Q761.068 1529.94 757.064 1529.94 Q755.189 1529.94 753.314 1530.35 Q751.462 1530.77 749.517 1531.65 L749.517 1514.29 Z\" fill=\"#000000\" fill-rule=\"evenodd\" fill-opacity=\"1\" /><path clip-path=\"url(#clip380)\" d=\"M1221.59 1544.91 L1229.23 1544.91 L1229.23 1518.55 L1220.92 1520.21 L1220.92 1515.95 L1229.18 1514.29 L1233.86 1514.29 L1233.86 1544.91 L1241.49 1544.91 L1241.49 1548.85 L1221.59 1548.85 L1221.59 1544.91 Z\" fill=\"#000000\" fill-rule=\"evenodd\" fill-opacity=\"1\" /><path clip-path=\"url(#clip380)\" d=\"M1250.94 1542.97 L1255.82 1542.97 L1255.82 1548.85 L1250.94 1548.85 L1250.94 1542.97 Z\" fill=\"#000000\" fill-rule=\"evenodd\" fill-opacity=\"1\" /><path clip-path=\"url(#clip380)\" d=\"M1276.01 1517.37 Q1272.4 1517.37 1270.57 1520.93 Q1268.76 1524.47 1268.76 1531.6 Q1268.76 1538.71 1270.57 1542.27 Q1272.4 1545.82 1276.01 1545.82 Q1279.64 1545.82 1281.45 1542.27 Q1283.28 1538.71 1283.28 1531.6 Q1283.28 1524.47 1281.45 1520.93 Q1279.64 1517.37 1276.01 1517.37 M1276.01 1513.66 Q1281.82 1513.66 1284.87 1518.27 Q1287.95 1522.85 1287.95 1531.6 Q1287.95 1540.33 1284.87 1544.94 Q1281.82 1549.52 1276.01 1549.52 Q1270.2 1549.52 1267.12 1544.94 Q1264.06 1540.33 1264.06 1531.6 Q1264.06 1522.85 1267.12 1518.27 Q1270.2 1513.66 1276.01 1513.66 Z\" fill=\"#000000\" fill-rule=\"evenodd\" fill-opacity=\"1\" /><path clip-path=\"url(#clip380)\" d=\"M1740.16 1544.91 L1747.8 1544.91 L1747.8 1518.55 L1739.49 1520.21 L1739.49 1515.95 L1747.75 1514.29 L1752.43 1514.29 L1752.43 1544.91 L1760.07 1544.91 L1760.07 1548.85 L1740.16 1548.85 L1740.16 1544.91 Z\" fill=\"#000000\" fill-rule=\"evenodd\" fill-opacity=\"1\" /><path clip-path=\"url(#clip380)\" d=\"M1769.51 1542.97 L1774.4 1542.97 L1774.4 1548.85 L1769.51 1548.85 L1769.51 1542.97 Z\" fill=\"#000000\" fill-rule=\"evenodd\" fill-opacity=\"1\" /><path clip-path=\"url(#clip380)\" d=\"M1784.63 1514.29 L1802.98 1514.29 L1802.98 1518.22 L1788.91 1518.22 L1788.91 1526.7 Q1789.93 1526.35 1790.95 1526.19 Q1791.97 1526 1792.98 1526 Q1798.77 1526 1802.15 1529.17 Q1805.53 1532.34 1805.53 1537.76 Q1805.53 1543.34 1802.06 1546.44 Q1798.59 1549.52 1792.27 1549.52 Q1790.09 1549.52 1787.82 1549.15 Q1785.58 1548.78 1783.17 1548.04 L1783.17 1543.34 Q1785.25 1544.47 1787.48 1545.03 Q1789.7 1545.58 1792.17 1545.58 Q1796.18 1545.58 1798.52 1543.48 Q1800.86 1541.37 1800.86 1537.76 Q1800.86 1534.15 1798.52 1532.04 Q1796.18 1529.94 1792.17 1529.94 Q1790.3 1529.94 1788.42 1530.35 Q1786.57 1530.77 1784.63 1531.65 L1784.63 1514.29 Z\" fill=\"#000000\" fill-rule=\"evenodd\" fill-opacity=\"1\" /><path clip-path=\"url(#clip380)\" d=\"M2261.83 1544.91 L2278.14 1544.91 L2278.14 1548.85 L2256.2 1548.85 L2256.2 1544.91 Q2258.86 1542.16 2263.45 1537.53 Q2268.05 1532.88 2269.23 1531.53 Q2271.48 1529.01 2272.36 1527.27 Q2273.26 1525.51 2273.26 1523.82 Q2273.26 1521.07 2271.32 1519.33 Q2269.39 1517.6 2266.29 1517.6 Q2264.09 1517.6 2261.64 1518.36 Q2259.21 1519.13 2256.43 1520.68 L2256.43 1515.95 Q2259.26 1514.82 2261.71 1514.24 Q2264.16 1513.66 2266.2 1513.66 Q2271.57 1513.66 2274.77 1516.35 Q2277.96 1519.03 2277.96 1523.52 Q2277.96 1525.65 2277.15 1527.57 Q2276.36 1529.47 2274.26 1532.07 Q2273.68 1532.74 2270.58 1535.95 Q2267.47 1539.15 2261.83 1544.91 Z\" fill=\"#000000\" fill-rule=\"evenodd\" fill-opacity=\"1\" /><path clip-path=\"url(#clip380)\" d=\"M2287.96 1542.97 L2292.84 1542.97 L2292.84 1548.85 L2287.96 1548.85 L2287.96 1542.97 Z\" fill=\"#000000\" fill-rule=\"evenodd\" fill-opacity=\"1\" /><path clip-path=\"url(#clip380)\" d=\"M2313.03 1517.37 Q2309.42 1517.37 2307.59 1520.93 Q2305.78 1524.47 2305.78 1531.6 Q2305.78 1538.71 2307.59 1542.27 Q2309.42 1545.82 2313.03 1545.82 Q2316.66 1545.82 2318.47 1542.27 Q2320.3 1538.71 2320.3 1531.6 Q2320.3 1524.47 2318.47 1520.93 Q2316.66 1517.37 2313.03 1517.37 M2313.03 1513.66 Q2318.84 1513.66 2321.89 1518.27 Q2324.97 1522.85 2324.97 1531.6 Q2324.97 1540.33 2321.89 1544.94 Q2318.84 1549.52 2313.03 1549.52 Q2307.22 1549.52 2304.14 1544.94 Q2301.08 1540.33 2301.08 1531.6 Q2301.08 1522.85 2304.14 1518.27 Q2307.22 1513.66 2313.03 1513.66 Z\" fill=\"#000000\" fill-rule=\"evenodd\" fill-opacity=\"1\" /><polyline clip-path=\"url(#clip382)\" style=\"stroke:#000000; stroke-linecap:butt; stroke-linejoin:round; stroke-width:2; stroke-opacity:0.1; fill:none\" points=\"\n",
       "  156.112,1447.87 2352.76,1447.87 \n",
       "  \"/>\n",
       "<polyline clip-path=\"url(#clip382)\" style=\"stroke:#000000; stroke-linecap:butt; stroke-linejoin:round; stroke-width:2; stroke-opacity:0.1; fill:none\" points=\"\n",
       "  156.112,1126.42 2352.76,1126.42 \n",
       "  \"/>\n",
       "<polyline clip-path=\"url(#clip382)\" style=\"stroke:#000000; stroke-linecap:butt; stroke-linejoin:round; stroke-width:2; stroke-opacity:0.1; fill:none\" points=\"\n",
       "  156.112,804.96 2352.76,804.96 \n",
       "  \"/>\n",
       "<polyline clip-path=\"url(#clip382)\" style=\"stroke:#000000; stroke-linecap:butt; stroke-linejoin:round; stroke-width:2; stroke-opacity:0.1; fill:none\" points=\"\n",
       "  156.112,483.503 2352.76,483.503 \n",
       "  \"/>\n",
       "<polyline clip-path=\"url(#clip382)\" style=\"stroke:#000000; stroke-linecap:butt; stroke-linejoin:round; stroke-width:2; stroke-opacity:0.1; fill:none\" points=\"\n",
       "  156.112,162.047 2352.76,162.047 \n",
       "  \"/>\n",
       "<polyline clip-path=\"url(#clip380)\" style=\"stroke:#000000; stroke-linecap:butt; stroke-linejoin:round; stroke-width:4; stroke-opacity:1; fill:none\" points=\"\n",
       "  156.112,1486.45 156.112,123.472 \n",
       "  \"/>\n",
       "<polyline clip-path=\"url(#clip380)\" style=\"stroke:#000000; stroke-linecap:butt; stroke-linejoin:round; stroke-width:4; stroke-opacity:1; fill:none\" points=\"\n",
       "  156.112,1447.87 175.01,1447.87 \n",
       "  \"/>\n",
       "<polyline clip-path=\"url(#clip380)\" style=\"stroke:#000000; stroke-linecap:butt; stroke-linejoin:round; stroke-width:4; stroke-opacity:1; fill:none\" points=\"\n",
       "  156.112,1126.42 175.01,1126.42 \n",
       "  \"/>\n",
       "<polyline clip-path=\"url(#clip380)\" style=\"stroke:#000000; stroke-linecap:butt; stroke-linejoin:round; stroke-width:4; stroke-opacity:1; fill:none\" points=\"\n",
       "  156.112,804.96 175.01,804.96 \n",
       "  \"/>\n",
       "<polyline clip-path=\"url(#clip380)\" style=\"stroke:#000000; stroke-linecap:butt; stroke-linejoin:round; stroke-width:4; stroke-opacity:1; fill:none\" points=\"\n",
       "  156.112,483.503 175.01,483.503 \n",
       "  \"/>\n",
       "<polyline clip-path=\"url(#clip380)\" style=\"stroke:#000000; stroke-linecap:butt; stroke-linejoin:round; stroke-width:4; stroke-opacity:1; fill:none\" points=\"\n",
       "  156.112,162.047 175.01,162.047 \n",
       "  \"/>\n",
       "<path clip-path=\"url(#clip380)\" d=\"M62.9365 1433.67 Q59.3254 1433.67 57.4967 1437.24 Q55.6912 1440.78 55.6912 1447.91 Q55.6912 1455.01 57.4967 1458.58 Q59.3254 1462.12 62.9365 1462.12 Q66.5707 1462.12 68.3763 1458.58 Q70.205 1455.01 70.205 1447.91 Q70.205 1440.78 68.3763 1437.24 Q66.5707 1433.67 62.9365 1433.67 M62.9365 1429.97 Q68.7467 1429.97 71.8022 1434.57 Q74.8809 1439.16 74.8809 1447.91 Q74.8809 1456.63 71.8022 1461.24 Q68.7467 1465.82 62.9365 1465.82 Q57.1264 1465.82 54.0477 1461.24 Q50.9921 1456.63 50.9921 1447.91 Q50.9921 1439.16 54.0477 1434.57 Q57.1264 1429.97 62.9365 1429.97 Z\" fill=\"#000000\" fill-rule=\"evenodd\" fill-opacity=\"1\" /><path clip-path=\"url(#clip380)\" d=\"M83.0984 1459.27 L87.9827 1459.27 L87.9827 1465.15 L83.0984 1465.15 L83.0984 1459.27 Z\" fill=\"#000000\" fill-rule=\"evenodd\" fill-opacity=\"1\" /><path clip-path=\"url(#clip380)\" d=\"M108.168 1433.67 Q104.557 1433.67 102.728 1437.24 Q100.922 1440.78 100.922 1447.91 Q100.922 1455.01 102.728 1458.58 Q104.557 1462.12 108.168 1462.12 Q111.802 1462.12 113.608 1458.58 Q115.436 1455.01 115.436 1447.91 Q115.436 1440.78 113.608 1437.24 Q111.802 1433.67 108.168 1433.67 M108.168 1429.97 Q113.978 1429.97 117.033 1434.57 Q120.112 1439.16 120.112 1447.91 Q120.112 1456.63 117.033 1461.24 Q113.978 1465.82 108.168 1465.82 Q102.358 1465.82 99.2789 1461.24 Q96.2234 1456.63 96.2234 1447.91 Q96.2234 1439.16 99.2789 1434.57 Q102.358 1429.97 108.168 1429.97 Z\" fill=\"#000000\" fill-rule=\"evenodd\" fill-opacity=\"1\" /><path clip-path=\"url(#clip380)\" d=\"M63.9319 1112.22 Q60.3208 1112.22 58.4921 1115.78 Q56.6865 1119.32 56.6865 1126.45 Q56.6865 1133.56 58.4921 1137.12 Q60.3208 1140.66 63.9319 1140.66 Q67.5661 1140.66 69.3717 1137.12 Q71.2004 1133.56 71.2004 1126.45 Q71.2004 1119.32 69.3717 1115.78 Q67.5661 1112.22 63.9319 1112.22 M63.9319 1108.51 Q69.742 1108.51 72.7976 1113.12 Q75.8763 1117.7 75.8763 1126.45 Q75.8763 1135.18 72.7976 1139.78 Q69.742 1144.37 63.9319 1144.37 Q58.1217 1144.37 55.043 1139.78 Q51.9875 1135.18 51.9875 1126.45 Q51.9875 1117.7 55.043 1113.12 Q58.1217 1108.51 63.9319 1108.51 Z\" fill=\"#000000\" fill-rule=\"evenodd\" fill-opacity=\"1\" /><path clip-path=\"url(#clip380)\" d=\"M84.0938 1137.82 L88.978 1137.82 L88.978 1143.7 L84.0938 1143.7 L84.0938 1137.82 Z\" fill=\"#000000\" fill-rule=\"evenodd\" fill-opacity=\"1\" /><path clip-path=\"url(#clip380)\" d=\"M99.2095 1109.14 L117.566 1109.14 L117.566 1113.07 L103.492 1113.07 L103.492 1121.54 Q104.51 1121.2 105.529 1121.03 Q106.547 1120.85 107.566 1120.85 Q113.353 1120.85 116.733 1124.02 Q120.112 1127.19 120.112 1132.61 Q120.112 1138.19 116.64 1141.29 Q113.168 1144.37 106.848 1144.37 Q104.672 1144.37 102.404 1144 Q100.159 1143.63 97.7511 1142.89 L97.7511 1138.19 Q99.8345 1139.32 102.057 1139.88 Q104.279 1140.43 106.756 1140.43 Q110.76 1140.43 113.098 1138.33 Q115.436 1136.22 115.436 1132.61 Q115.436 1129 113.098 1126.89 Q110.76 1124.78 106.756 1124.78 Q104.881 1124.78 103.006 1125.2 Q101.154 1125.62 99.2095 1126.5 L99.2095 1109.14 Z\" fill=\"#000000\" fill-rule=\"evenodd\" fill-opacity=\"1\" /><path clip-path=\"url(#clip380)\" d=\"M53.7467 818.305 L61.3856 818.305 L61.3856 791.939 L53.0754 793.606 L53.0754 789.347 L61.3393 787.68 L66.0152 787.68 L66.0152 818.305 L73.654 818.305 L73.654 822.24 L53.7467 822.24 L53.7467 818.305 Z\" fill=\"#000000\" fill-rule=\"evenodd\" fill-opacity=\"1\" /><path clip-path=\"url(#clip380)\" d=\"M83.0984 816.36 L87.9827 816.36 L87.9827 822.24 L83.0984 822.24 L83.0984 816.36 Z\" fill=\"#000000\" fill-rule=\"evenodd\" fill-opacity=\"1\" /><path clip-path=\"url(#clip380)\" d=\"M108.168 790.759 Q104.557 790.759 102.728 794.323 Q100.922 797.865 100.922 804.995 Q100.922 812.101 102.728 815.666 Q104.557 819.208 108.168 819.208 Q111.802 819.208 113.608 815.666 Q115.436 812.101 115.436 804.995 Q115.436 797.865 113.608 794.323 Q111.802 790.759 108.168 790.759 M108.168 787.055 Q113.978 787.055 117.033 791.661 Q120.112 796.245 120.112 804.995 Q120.112 813.722 117.033 818.328 Q113.978 822.911 108.168 822.911 Q102.358 822.911 99.2789 818.328 Q96.2234 813.722 96.2234 804.995 Q96.2234 796.245 99.2789 791.661 Q102.358 787.055 108.168 787.055 Z\" fill=\"#000000\" fill-rule=\"evenodd\" fill-opacity=\"1\" /><path clip-path=\"url(#clip380)\" d=\"M54.7421 496.848 L62.381 496.848 L62.381 470.483 L54.0708 472.149 L54.0708 467.89 L62.3347 466.223 L67.0106 466.223 L67.0106 496.848 L74.6494 496.848 L74.6494 500.783 L54.7421 500.783 L54.7421 496.848 Z\" fill=\"#000000\" fill-rule=\"evenodd\" fill-opacity=\"1\" /><path clip-path=\"url(#clip380)\" d=\"M84.0938 494.904 L88.978 494.904 L88.978 500.783 L84.0938 500.783 L84.0938 494.904 Z\" fill=\"#000000\" fill-rule=\"evenodd\" fill-opacity=\"1\" /><path clip-path=\"url(#clip380)\" d=\"M99.2095 466.223 L117.566 466.223 L117.566 470.159 L103.492 470.159 L103.492 478.631 Q104.51 478.284 105.529 478.122 Q106.547 477.936 107.566 477.936 Q113.353 477.936 116.733 481.108 Q120.112 484.279 120.112 489.696 Q120.112 495.274 116.64 498.376 Q113.168 501.455 106.848 501.455 Q104.672 501.455 102.404 501.084 Q100.159 500.714 97.7511 499.973 L97.7511 495.274 Q99.8345 496.408 102.057 496.964 Q104.279 497.52 106.756 497.52 Q110.76 497.52 113.098 495.413 Q115.436 493.307 115.436 489.696 Q115.436 486.084 113.098 483.978 Q110.76 481.872 106.756 481.872 Q104.881 481.872 103.006 482.288 Q101.154 482.705 99.2095 483.584 L99.2095 466.223 Z\" fill=\"#000000\" fill-rule=\"evenodd\" fill-opacity=\"1\" /><path clip-path=\"url(#clip380)\" d=\"M56.9643 175.392 L73.2837 175.392 L73.2837 179.327 L51.3393 179.327 L51.3393 175.392 Q54.0014 172.637 58.5847 168.008 Q63.1911 163.355 64.3717 162.012 Q66.617 159.489 67.4967 157.753 Q68.3994 155.994 68.3994 154.304 Q68.3994 151.549 66.455 149.813 Q64.5337 148.077 61.4319 148.077 Q59.2328 148.077 56.7791 148.841 Q54.3486 149.605 51.5708 151.156 L51.5708 146.434 Q54.3949 145.299 56.8486 144.721 Q59.3023 144.142 61.3393 144.142 Q66.7096 144.142 69.9041 146.827 Q73.0985 149.512 73.0985 154.003 Q73.0985 156.133 72.2883 158.054 Q71.5013 159.952 69.3948 162.545 Q68.8161 163.216 65.7143 166.433 Q62.6124 169.628 56.9643 175.392 Z\" fill=\"#000000\" fill-rule=\"evenodd\" fill-opacity=\"1\" /><path clip-path=\"url(#clip380)\" d=\"M83.0984 173.447 L87.9827 173.447 L87.9827 179.327 L83.0984 179.327 L83.0984 173.447 Z\" fill=\"#000000\" fill-rule=\"evenodd\" fill-opacity=\"1\" /><path clip-path=\"url(#clip380)\" d=\"M108.168 147.846 Q104.557 147.846 102.728 151.41 Q100.922 154.952 100.922 162.082 Q100.922 169.188 102.728 172.753 Q104.557 176.295 108.168 176.295 Q111.802 176.295 113.608 172.753 Q115.436 169.188 115.436 162.082 Q115.436 154.952 113.608 151.41 Q111.802 147.846 108.168 147.846 M108.168 144.142 Q113.978 144.142 117.033 148.748 Q120.112 153.332 120.112 162.082 Q120.112 170.808 117.033 175.415 Q113.978 179.998 108.168 179.998 Q102.358 179.998 99.2789 175.415 Q96.2234 170.808 96.2234 162.082 Q96.2234 153.332 99.2789 148.748 Q102.358 144.142 108.168 144.142 Z\" fill=\"#000000\" fill-rule=\"evenodd\" fill-opacity=\"1\" /><path clip-path=\"url(#clip380)\" d=\"M803.305 12.096 L854.468 12.096 L854.468 18.9825 L832.998 18.9825 L832.998 72.576 L824.775 72.576 L824.775 18.9825 L803.305 18.9825 L803.305 12.096 Z\" fill=\"#000000\" fill-rule=\"evenodd\" fill-opacity=\"1\" /><path clip-path=\"url(#clip380)\" d=\"M899.757 45.1919 L899.757 72.576 L892.303 72.576 L892.303 45.4349 Q892.303 38.994 889.792 35.7938 Q887.28 32.5936 882.257 32.5936 Q876.221 32.5936 872.738 36.4419 Q869.254 40.2903 869.254 46.9338 L869.254 72.576 L861.76 72.576 L861.76 9.54393 L869.254 9.54393 L869.254 34.2544 Q871.927 30.163 875.533 28.1376 Q879.179 26.1121 883.918 26.1121 Q891.736 26.1121 895.747 30.9732 Q899.757 35.7938 899.757 45.1919 Z\" fill=\"#000000\" fill-rule=\"evenodd\" fill-opacity=\"1\" /><path clip-path=\"url(#clip380)\" d=\"M914.624 27.2059 L922.078 27.2059 L922.078 72.576 L914.624 72.576 L914.624 27.2059 M914.624 9.54393 L922.078 9.54393 L922.078 18.9825 L914.624 18.9825 L914.624 9.54393 Z\" fill=\"#000000\" fill-rule=\"evenodd\" fill-opacity=\"1\" /><path clip-path=\"url(#clip380)\" d=\"M966.597 28.5427 L966.597 35.5912 Q963.437 33.9709 960.035 33.1607 Q956.632 32.3505 952.986 32.3505 Q947.436 32.3505 944.641 34.0519 Q941.887 35.7533 941.887 39.156 Q941.887 41.7486 943.871 43.2475 Q945.856 44.7058 951.852 46.0426 L954.404 46.6097 Q962.344 48.3111 965.665 51.4303 Q969.028 54.509 969.028 60.0587 Q969.028 66.3781 964.004 70.0644 Q959.022 73.7508 950.272 73.7508 Q946.626 73.7508 942.656 73.0216 Q938.727 72.3329 934.352 70.9151 L934.352 63.2184 Q938.484 65.3654 942.494 66.4591 Q946.505 67.5124 950.434 67.5124 Q955.7 67.5124 958.536 65.73 Q961.371 63.9071 961.371 60.6258 Q961.371 57.5877 959.305 55.9673 Q957.28 54.3469 950.353 52.8481 L947.76 52.2405 Q940.833 50.7821 937.755 47.7845 Q934.676 44.7463 934.676 39.4801 Q934.676 33.0797 939.213 29.5959 Q943.75 26.1121 952.095 26.1121 Q956.227 26.1121 959.873 26.7198 Q963.518 27.3274 966.597 28.5427 Z\" fill=\"#000000\" fill-rule=\"evenodd\" fill-opacity=\"1\" /><path clip-path=\"url(#clip380)\" d=\"M1007.27 27.2059 L1014.72 27.2059 L1014.72 72.576 L1007.27 72.576 L1007.27 27.2059 M1007.27 9.54393 L1014.72 9.54393 L1014.72 18.9825 L1007.27 18.9825 L1007.27 9.54393 Z\" fill=\"#000000\" fill-rule=\"evenodd\" fill-opacity=\"1\" /><path clip-path=\"url(#clip380)\" d=\"M1059.24 28.5427 L1059.24 35.5912 Q1056.08 33.9709 1052.68 33.1607 Q1049.28 32.3505 1045.63 32.3505 Q1040.08 32.3505 1037.29 34.0519 Q1034.53 35.7533 1034.53 39.156 Q1034.53 41.7486 1036.52 43.2475 Q1038.5 44.7058 1044.5 46.0426 L1047.05 46.6097 Q1054.99 48.3111 1058.31 51.4303 Q1061.67 54.509 1061.67 60.0587 Q1061.67 66.3781 1056.65 70.0644 Q1051.67 73.7508 1042.92 73.7508 Q1039.27 73.7508 1035.3 73.0216 Q1031.37 72.3329 1027 70.9151 L1027 63.2184 Q1031.13 65.3654 1035.14 66.4591 Q1039.15 67.5124 1043.08 67.5124 Q1048.34 67.5124 1051.18 65.73 Q1054.02 63.9071 1054.02 60.6258 Q1054.02 57.5877 1051.95 55.9673 Q1049.92 54.3469 1043 52.8481 L1040.4 52.2405 Q1033.48 50.7821 1030.4 47.7845 Q1027.32 44.7463 1027.32 39.4801 Q1027.32 33.0797 1031.86 29.5959 Q1036.39 26.1121 1044.74 26.1121 Q1048.87 26.1121 1052.52 26.7198 Q1056.16 27.3274 1059.24 28.5427 Z\" fill=\"#000000\" fill-rule=\"evenodd\" fill-opacity=\"1\" /><path clip-path=\"url(#clip380)\" d=\"M1100.24 12.096 L1111.25 12.096 L1138.07 62.6918 L1138.07 12.096 L1146.01 12.096 L1146.01 72.576 L1134.99 72.576 L1108.18 21.9802 L1108.18 72.576 L1100.24 72.576 L1100.24 12.096 Z\" fill=\"#000000\" fill-rule=\"evenodd\" fill-opacity=\"1\" /><path clip-path=\"url(#clip380)\" d=\"M1186.84 17.6457 Q1177.93 17.6457 1172.67 24.2892 Q1167.44 30.9327 1167.44 42.3968 Q1167.44 53.8203 1172.67 60.4638 Q1177.93 67.1073 1186.84 67.1073 Q1195.76 67.1073 1200.94 60.4638 Q1206.17 53.8203 1206.17 42.3968 Q1206.17 30.9327 1200.94 24.2892 Q1195.76 17.6457 1186.84 17.6457 M1186.84 11.0023 Q1199.56 11.0023 1207.18 19.5497 Q1214.8 28.0566 1214.8 42.3968 Q1214.8 56.6965 1207.18 65.2439 Q1199.56 73.7508 1186.84 73.7508 Q1174.08 73.7508 1166.43 65.2439 Q1158.81 56.737 1158.81 42.3968 Q1158.81 28.0566 1166.43 19.5497 Q1174.08 11.0023 1186.84 11.0023 Z\" fill=\"#000000\" fill-rule=\"evenodd\" fill-opacity=\"1\" /><path clip-path=\"url(#clip380)\" d=\"M1219.21 12.096 L1270.37 12.096 L1270.37 18.9825 L1248.9 18.9825 L1248.9 72.576 L1240.68 72.576 L1240.68 18.9825 L1219.21 18.9825 L1219.21 12.096 Z\" fill=\"#000000\" fill-rule=\"evenodd\" fill-opacity=\"1\" /><path clip-path=\"url(#clip380)\" d=\"M1324.94 49.7694 Q1315.91 49.7694 1312.42 51.8354 Q1308.94 53.9013 1308.94 58.8839 Q1308.94 62.8538 1311.53 65.2034 Q1314.16 67.5124 1318.66 67.5124 Q1324.86 67.5124 1328.59 63.1374 Q1332.35 58.7219 1332.35 51.4303 L1332.35 49.7694 L1324.94 49.7694 M1339.81 46.6907 L1339.81 72.576 L1332.35 72.576 L1332.35 65.6895 Q1329.8 69.8214 1325.99 71.8063 Q1322.19 73.7508 1316.68 73.7508 Q1309.71 73.7508 1305.58 69.8619 Q1301.49 65.9325 1301.49 59.3701 Q1301.49 51.7138 1306.59 47.825 Q1311.73 43.9361 1321.9 43.9361 L1332.35 43.9361 L1332.35 43.2069 Q1332.35 38.0623 1328.95 35.2672 Q1325.59 32.4315 1319.47 32.4315 Q1315.58 32.4315 1311.9 33.3632 Q1308.21 34.295 1304.81 36.1584 L1304.81 29.2718 Q1308.9 27.692 1312.75 26.9223 Q1316.6 26.1121 1320.24 26.1121 Q1330.08 26.1121 1334.95 31.2163 Q1339.81 36.3204 1339.81 46.6907 Z\" fill=\"#000000\" fill-rule=\"evenodd\" fill-opacity=\"1\" /><path clip-path=\"url(#clip380)\" d=\"M1404.5 9.54393 L1404.5 15.7418 L1397.37 15.7418 Q1393.36 15.7418 1391.78 17.3622 Q1390.24 18.9825 1390.24 23.1955 L1390.24 27.2059 L1402.51 27.2059 L1402.51 32.9987 L1390.24 32.9987 L1390.24 72.576 L1382.75 72.576 L1382.75 32.9987 L1375.62 32.9987 L1375.62 27.2059 L1382.75 27.2059 L1382.75 24.0462 Q1382.75 16.471 1386.27 13.0277 Q1389.79 9.54393 1397.45 9.54393 L1404.5 9.54393 Z\" fill=\"#000000\" fill-rule=\"evenodd\" fill-opacity=\"1\" /><path clip-path=\"url(#clip380)\" d=\"M1409.97 54.671 L1409.97 27.2059 L1417.42 27.2059 L1417.42 54.3874 Q1417.42 60.8284 1419.93 64.0691 Q1422.45 67.2693 1427.47 67.2693 Q1433.5 67.2693 1436.99 63.421 Q1440.51 59.5726 1440.51 52.9291 L1440.51 27.2059 L1447.97 27.2059 L1447.97 72.576 L1440.51 72.576 L1440.51 65.6084 Q1437.8 69.7404 1434.19 71.7658 Q1430.63 73.7508 1425.89 73.7508 Q1418.07 73.7508 1414.02 68.8897 Q1409.97 64.0286 1409.97 54.671 M1428.72 26.1121 L1428.72 26.1121 Z\" fill=\"#000000\" fill-rule=\"evenodd\" fill-opacity=\"1\" /><path clip-path=\"url(#clip380)\" d=\"M1501.03 45.1919 L1501.03 72.576 L1493.58 72.576 L1493.58 45.4349 Q1493.58 38.994 1491.07 35.7938 Q1488.56 32.5936 1483.53 32.5936 Q1477.5 32.5936 1474.01 36.4419 Q1470.53 40.2903 1470.53 46.9338 L1470.53 72.576 L1463.04 72.576 L1463.04 27.2059 L1470.53 27.2059 L1470.53 34.2544 Q1473.2 30.163 1476.81 28.1376 Q1480.45 26.1121 1485.19 26.1121 Q1493.01 26.1121 1497.02 30.9732 Q1501.03 35.7938 1501.03 45.1919 Z\" fill=\"#000000\" fill-rule=\"evenodd\" fill-opacity=\"1\" /><path clip-path=\"url(#clip380)\" d=\"M1548.55 28.9478 L1548.55 35.9153 Q1545.39 34.1734 1542.19 33.3227 Q1539.03 32.4315 1535.79 32.4315 Q1528.54 32.4315 1524.53 37.0496 Q1520.52 41.6271 1520.52 49.9314 Q1520.52 58.2358 1524.53 62.8538 Q1528.54 67.4314 1535.79 67.4314 Q1539.03 67.4314 1542.19 66.5807 Q1545.39 65.6895 1548.55 63.9476 L1548.55 70.8341 Q1545.43 72.2924 1542.07 73.0216 Q1538.75 73.7508 1534.98 73.7508 Q1524.73 73.7508 1518.69 67.3098 Q1512.66 60.8689 1512.66 49.9314 Q1512.66 38.832 1518.74 32.472 Q1524.85 26.1121 1535.47 26.1121 Q1538.91 26.1121 1542.19 26.8413 Q1545.47 27.5299 1548.55 28.9478 Z\" fill=\"#000000\" fill-rule=\"evenodd\" fill-opacity=\"1\" /><path clip-path=\"url(#clip380)\" d=\"M1568.89 14.324 L1568.89 27.2059 L1584.24 27.2059 L1584.24 32.9987 L1568.89 32.9987 L1568.89 57.6282 Q1568.89 63.1779 1570.38 64.7578 Q1571.92 66.3376 1576.58 66.3376 L1584.24 66.3376 L1584.24 72.576 L1576.58 72.576 Q1567.95 72.576 1564.67 69.3758 Q1561.39 66.1351 1561.39 57.6282 L1561.39 32.9987 L1555.92 32.9987 L1555.92 27.2059 L1561.39 27.2059 L1561.39 14.324 L1568.89 14.324 Z\" fill=\"#000000\" fill-rule=\"evenodd\" fill-opacity=\"1\" /><path clip-path=\"url(#clip380)\" d=\"M1594.04 27.2059 L1601.5 27.2059 L1601.5 72.576 L1594.04 72.576 L1594.04 27.2059 M1594.04 9.54393 L1601.5 9.54393 L1601.5 18.9825 L1594.04 18.9825 L1594.04 9.54393 Z\" fill=\"#000000\" fill-rule=\"evenodd\" fill-opacity=\"1\" /><path clip-path=\"url(#clip380)\" d=\"M1634.67 32.4315 Q1628.68 32.4315 1625.19 37.1306 Q1621.71 41.7891 1621.71 49.9314 Q1621.71 58.0738 1625.15 62.7728 Q1628.64 67.4314 1634.67 67.4314 Q1640.63 67.4314 1644.11 62.7323 Q1647.59 58.0333 1647.59 49.9314 Q1647.59 41.8701 1644.11 37.1711 Q1640.63 32.4315 1634.67 32.4315 M1634.67 26.1121 Q1644.39 26.1121 1649.94 32.4315 Q1655.49 38.7509 1655.49 49.9314 Q1655.49 61.0714 1649.94 67.4314 Q1644.39 73.7508 1634.67 73.7508 Q1624.91 73.7508 1619.36 67.4314 Q1613.85 61.0714 1613.85 49.9314 Q1613.85 38.7509 1619.36 32.4315 Q1624.91 26.1121 1634.67 26.1121 Z\" fill=\"#000000\" fill-rule=\"evenodd\" fill-opacity=\"1\" /><path clip-path=\"url(#clip380)\" d=\"M1705.56 45.1919 L1705.56 72.576 L1698.11 72.576 L1698.11 45.4349 Q1698.11 38.994 1695.6 35.7938 Q1693.09 32.5936 1688.06 32.5936 Q1682.03 32.5936 1678.54 36.4419 Q1675.06 40.2903 1675.06 46.9338 L1675.06 72.576 L1667.57 72.576 L1667.57 27.2059 L1675.06 27.2059 L1675.06 34.2544 Q1677.73 30.163 1681.34 28.1376 Q1684.98 26.1121 1689.72 26.1121 Q1697.54 26.1121 1701.55 30.9732 Q1705.56 35.7938 1705.56 45.1919 Z\" fill=\"#000000\" fill-rule=\"evenodd\" fill-opacity=\"1\" /><polyline clip-path=\"url(#clip382)\" style=\"stroke:#009af9; stroke-linecap:butt; stroke-linejoin:round; stroke-width:8; stroke-opacity:1; fill:none\" points=\"\n",
       "  2290.59,804.96 2288.54,764.591 2282.42,724.382 2272.23,684.49 2258.03,645.074 2239.87,606.289 2217.82,568.288 2191.97,531.221 2162.42,495.234 2129.29,460.47 \n",
       "  2092.7,427.065 2052.8,395.152 2009.76,364.856 1963.73,336.297 1914.9,309.587 1863.47,284.832 1809.63,262.131 1753.6,241.571 1695.61,223.235 1635.87,207.195 \n",
       "  1574.62,193.513 1512.11,182.245 1448.59,173.435 1384.3,167.116 1319.49,163.316 1254.43,162.047 1189.37,163.316 1124.57,167.116 1060.28,173.435 996.753,182.245 \n",
       "  934.245,193.513 873.001,207.195 813.262,223.235 755.264,241.571 699.236,262.131 645.399,284.832 593.965,309.587 545.139,336.297 499.111,364.856 456.065,395.152 \n",
       "  416.169,427.065 379.581,460.47 346.446,495.234 316.895,531.221 291.044,568.288 268.994,606.289 250.834,645.074 236.634,684.49 226.452,724.382 220.326,764.591 \n",
       "  218.281,804.96 220.326,845.329 226.452,885.538 236.634,925.43 250.834,964.846 268.994,1003.63 291.044,1041.63 316.895,1078.7 346.446,1114.69 379.581,1149.45 \n",
       "  416.169,1182.85 456.065,1214.77 499.111,1245.06 545.139,1273.62 593.965,1300.33 645.399,1325.09 699.236,1347.79 755.264,1368.35 813.262,1386.69 873.001,1402.73 \n",
       "  934.245,1416.41 996.753,1427.67 1060.28,1436.49 1124.57,1442.8 1189.37,1446.6 1254.43,1447.87 1319.49,1446.6 1384.3,1442.8 1448.59,1436.49 1512.11,1427.67 \n",
       "  1574.62,1416.41 1635.87,1402.73 1695.61,1386.69 1753.6,1368.35 1809.63,1347.79 1863.47,1325.09 1914.9,1300.33 1963.73,1273.62 2009.76,1245.06 2052.8,1214.77 \n",
       "  2092.7,1182.85 2129.29,1149.45 2162.42,1114.69 2191.97,1078.7 2217.82,1041.63 2239.87,1003.63 2258.03,964.846 2272.23,925.43 2282.42,885.538 2288.54,845.329 \n",
       "  \n",
       "  \"/>\n",
       "</svg>\n"
      ]
     },
     "execution_count": 57,
     "metadata": {},
     "output_type": "execute_result"
    }
   ],
   "source": [
    "x = 1; y = 1; r = 1\n",
    "θ = 0:π/50:2π\n",
    "x_unit = r .* cos.(θ) .+ x\n",
    "y_unit = r .* sin.(θ) .+ y\n",
    "plot(x_unit, y_unit, title = \"This is NOT a function\", legend = false, lw = 2)"
   ]
  },
  {
   "cell_type": "markdown",
   "metadata": {
    "slideshow": {
     "slide_type": "slide"
    }
   },
   "source": [
    "## Linear function"
   ]
  },
  {
   "cell_type": "code",
   "execution_count": 66,
   "metadata": {
    "slideshow": {
     "slide_type": "fragment"
    }
   },
   "outputs": [
    {
     "data": {
      "image/svg+xml": [
       "<?xml version=\"1.0\" encoding=\"utf-8\"?>\n",
       "<svg xmlns=\"http://www.w3.org/2000/svg\" xmlns:xlink=\"http://www.w3.org/1999/xlink\" width=\"600\" height=\"400\" viewBox=\"0 0 2400 1600\">\n",
       "<defs>\n",
       "  <clipPath id=\"clip740\">\n",
       "    <rect x=\"0\" y=\"0\" width=\"2400\" height=\"1600\"/>\n",
       "  </clipPath>\n",
       "</defs>\n",
       "<path clip-path=\"url(#clip740)\" d=\"\n",
       "M0 1600 L2400 1600 L2400 0 L0 0  Z\n",
       "  \" fill=\"#ffffff\" fill-rule=\"evenodd\" fill-opacity=\"1\"/>\n",
       "<defs>\n",
       "  <clipPath id=\"clip741\">\n",
       "    <rect x=\"480\" y=\"0\" width=\"1681\" height=\"1600\"/>\n",
       "  </clipPath>\n",
       "</defs>\n",
       "<path clip-path=\"url(#clip740)\" d=\"\n",
       "M110.881 1486.45 L2352.76 1486.45 L2352.76 123.472 L110.881 123.472  Z\n",
       "  \" fill=\"#ffffff\" fill-rule=\"evenodd\" fill-opacity=\"1\"/>\n",
       "<defs>\n",
       "  <clipPath id=\"clip742\">\n",
       "    <rect x=\"110\" y=\"123\" width=\"2243\" height=\"1364\"/>\n",
       "  </clipPath>\n",
       "</defs>\n",
       "<polyline clip-path=\"url(#clip742)\" style=\"stroke:#000000; stroke-linecap:butt; stroke-linejoin:round; stroke-width:2; stroke-opacity:0.1; fill:none\" points=\"\n",
       "  879.322,1486.45 879.322,123.472 \n",
       "  \"/>\n",
       "<polyline clip-path=\"url(#clip742)\" style=\"stroke:#000000; stroke-linecap:butt; stroke-linejoin:round; stroke-width:2; stroke-opacity:0.1; fill:none\" points=\"\n",
       "  597.325,1486.45 597.325,123.472 \n",
       "  \"/>\n",
       "<polyline clip-path=\"url(#clip740)\" style=\"stroke:#000000; stroke-linecap:butt; stroke-linejoin:round; stroke-width:4; stroke-opacity:1; fill:none\" points=\"\n",
       "  110.881,1486.45 2352.76,1486.45 \n",
       "  \"/>\n",
       "<polyline clip-path=\"url(#clip740)\" style=\"stroke:#000000; stroke-linecap:butt; stroke-linejoin:round; stroke-width:4; stroke-opacity:1; fill:none\" points=\"\n",
       "  879.322,1486.45 879.322,1467.55 \n",
       "  \"/>\n",
       "<polyline clip-path=\"url(#clip740)\" style=\"stroke:#000000; stroke-linecap:butt; stroke-linejoin:round; stroke-width:4; stroke-opacity:1; fill:none\" points=\"\n",
       "  597.325,1486.45 597.325,1467.55 \n",
       "  \"/>\n",
       "<path clip-path=\"url(#clip740)\" d=\"M879.322 1517.37 Q875.711 1517.37 873.883 1520.93 Q872.077 1524.47 872.077 1531.6 Q872.077 1538.71 873.883 1542.27 Q875.711 1545.82 879.322 1545.82 Q882.957 1545.82 884.762 1542.27 Q886.591 1538.71 886.591 1531.6 Q886.591 1524.47 884.762 1520.93 Q882.957 1517.37 879.322 1517.37 M879.322 1513.66 Q885.132 1513.66 888.188 1518.27 Q891.267 1522.85 891.267 1531.6 Q891.267 1540.33 888.188 1544.94 Q885.132 1549.52 879.322 1549.52 Q873.512 1549.52 870.433 1544.94 Q867.378 1540.33 867.378 1531.6 Q867.378 1522.85 870.433 1518.27 Q873.512 1513.66 879.322 1513.66 Z\" fill=\"#000000\" fill-rule=\"evenodd\" fill-opacity=\"1\" /><path clip-path=\"url(#clip740)\" d=\"M567.268 1532.02 L596.944 1532.02 L596.944 1535.95 L567.268 1535.95 L567.268 1532.02 Z\" fill=\"#000000\" fill-rule=\"evenodd\" fill-opacity=\"1\" /><path clip-path=\"url(#clip740)\" d=\"M611.064 1544.91 L627.383 1544.91 L627.383 1548.85 L605.439 1548.85 L605.439 1544.91 Q608.101 1542.16 612.684 1537.53 Q617.291 1532.88 618.471 1531.53 Q620.717 1529.01 621.596 1527.27 Q622.499 1525.51 622.499 1523.82 Q622.499 1521.07 620.555 1519.33 Q618.633 1517.6 615.531 1517.6 Q613.332 1517.6 610.879 1518.36 Q608.448 1519.13 605.67 1520.68 L605.67 1515.95 Q608.494 1514.82 610.948 1514.24 Q613.402 1513.66 615.439 1513.66 Q620.809 1513.66 624.004 1516.35 Q627.198 1519.03 627.198 1523.52 Q627.198 1525.65 626.388 1527.57 Q625.601 1529.47 623.494 1532.07 Q622.916 1532.74 619.814 1535.95 Q616.712 1539.15 611.064 1544.91 Z\" fill=\"#000000\" fill-rule=\"evenodd\" fill-opacity=\"1\" /><polyline clip-path=\"url(#clip742)\" style=\"stroke:#000000; stroke-linecap:butt; stroke-linejoin:round; stroke-width:2; stroke-opacity:0.1; fill:none\" points=\"\n",
       "  110.881,1190.71 2352.76,1190.71 \n",
       "  \"/>\n",
       "<polyline clip-path=\"url(#clip742)\" style=\"stroke:#000000; stroke-linecap:butt; stroke-linejoin:round; stroke-width:2; stroke-opacity:0.1; fill:none\" points=\"\n",
       "  110.881,1019.26 2352.76,1019.26 \n",
       "  \"/>\n",
       "<polyline clip-path=\"url(#clip740)\" style=\"stroke:#000000; stroke-linecap:butt; stroke-linejoin:round; stroke-width:4; stroke-opacity:1; fill:none\" points=\"\n",
       "  110.881,1486.45 110.881,123.472 \n",
       "  \"/>\n",
       "<polyline clip-path=\"url(#clip740)\" style=\"stroke:#000000; stroke-linecap:butt; stroke-linejoin:round; stroke-width:4; stroke-opacity:1; fill:none\" points=\"\n",
       "  110.881,1190.71 129.779,1190.71 \n",
       "  \"/>\n",
       "<polyline clip-path=\"url(#clip740)\" style=\"stroke:#000000; stroke-linecap:butt; stroke-linejoin:round; stroke-width:4; stroke-opacity:1; fill:none\" points=\"\n",
       "  110.881,1019.26 129.779,1019.26 \n",
       "  \"/>\n",
       "<path clip-path=\"url(#clip740)\" d=\"M62.9365 1176.51 Q59.3254 1176.51 57.4967 1180.07 Q55.6912 1183.61 55.6912 1190.74 Q55.6912 1197.85 57.4967 1201.41 Q59.3254 1204.96 62.9365 1204.96 Q66.5707 1204.96 68.3763 1201.41 Q70.205 1197.85 70.205 1190.74 Q70.205 1183.61 68.3763 1180.07 Q66.5707 1176.51 62.9365 1176.51 M62.9365 1172.8 Q68.7467 1172.8 71.8022 1177.41 Q74.8809 1181.99 74.8809 1190.74 Q74.8809 1199.47 71.8022 1204.08 Q68.7467 1208.66 62.9365 1208.66 Q57.1264 1208.66 54.0477 1204.08 Q50.9921 1199.47 50.9921 1190.74 Q50.9921 1181.99 54.0477 1177.41 Q57.1264 1172.8 62.9365 1172.8 Z\" fill=\"#000000\" fill-rule=\"evenodd\" fill-opacity=\"1\" /><path clip-path=\"url(#clip740)\" d=\"M54.9736 1032.61 L62.6124 1032.61 L62.6124 1006.24 L54.3023 1007.91 L54.3023 1003.65 L62.5661 1001.98 L67.242 1001.98 L67.242 1032.61 L74.8809 1032.61 L74.8809 1036.54 L54.9736 1036.54 L54.9736 1032.61 Z\" fill=\"#000000\" fill-rule=\"evenodd\" fill-opacity=\"1\" /><path clip-path=\"url(#clip740)\" d=\"M293.609 12.096 L301.792 12.096 L301.792 65.6895 L331.242 65.6895 L331.242 72.576 L293.609 72.576 L293.609 12.096 Z\" fill=\"#000000\" fill-rule=\"evenodd\" fill-opacity=\"1\" /><path clip-path=\"url(#clip740)\" d=\"M339.505 27.2059 L346.959 27.2059 L346.959 72.576 L339.505 72.576 L339.505 27.2059 M339.505 9.54393 L346.959 9.54393 L346.959 18.9825 L339.505 18.9825 L339.505 9.54393 Z\" fill=\"#000000\" fill-rule=\"evenodd\" fill-opacity=\"1\" /><path clip-path=\"url(#clip740)\" d=\"M400.269 45.1919 L400.269 72.576 L392.815 72.576 L392.815 45.4349 Q392.815 38.994 390.304 35.7938 Q387.792 32.5936 382.769 32.5936 Q376.733 32.5936 373.25 36.4419 Q369.766 40.2903 369.766 46.9338 L369.766 72.576 L362.272 72.576 L362.272 27.2059 L369.766 27.2059 L369.766 34.2544 Q372.439 30.163 376.045 28.1376 Q379.69 26.1121 384.43 26.1121 Q392.248 26.1121 396.259 30.9732 Q400.269 35.7938 400.269 45.1919 Z\" fill=\"#000000\" fill-rule=\"evenodd\" fill-opacity=\"1\" /><path clip-path=\"url(#clip740)\" d=\"M453.944 48.0275 L453.944 51.6733 L419.673 51.6733 Q420.159 59.3701 424.291 63.421 Q428.463 67.4314 435.876 67.4314 Q440.17 67.4314 444.181 66.3781 Q448.232 65.3249 452.202 63.2184 L452.202 70.267 Q448.191 71.9684 443.978 72.8596 Q439.765 73.7508 435.431 73.7508 Q424.574 73.7508 418.215 67.4314 Q411.895 61.1119 411.895 50.3365 Q411.895 39.1965 417.89 32.6746 Q423.926 26.1121 434.135 26.1121 Q443.29 26.1121 448.596 32.0264 Q453.944 37.9003 453.944 48.0275 M446.49 45.84 Q446.409 39.7232 443.047 36.0774 Q439.725 32.4315 434.216 32.4315 Q427.977 32.4315 424.21 35.9558 Q420.483 39.4801 419.916 45.8805 L446.49 45.84 Z\" fill=\"#000000\" fill-rule=\"evenodd\" fill-opacity=\"1\" /><path clip-path=\"url(#clip740)\" d=\"M486.796 49.7694 Q477.763 49.7694 474.279 51.8354 Q470.795 53.9013 470.795 58.8839 Q470.795 62.8538 473.388 65.2034 Q476.021 67.5124 480.517 67.5124 Q486.715 67.5124 490.442 63.1374 Q494.21 58.7219 494.21 51.4303 L494.21 49.7694 L486.796 49.7694 M501.663 46.6907 L501.663 72.576 L494.21 72.576 L494.21 65.6895 Q491.657 69.8214 487.85 71.8063 Q484.042 73.7508 478.533 73.7508 Q471.565 73.7508 467.433 69.8619 Q463.342 65.9325 463.342 59.3701 Q463.342 51.7138 468.446 47.825 Q473.59 43.9361 483.758 43.9361 L494.21 43.9361 L494.21 43.2069 Q494.21 38.0623 490.807 35.2672 Q487.444 32.4315 481.328 32.4315 Q477.439 32.4315 473.752 33.3632 Q470.066 34.295 466.663 36.1584 L466.663 29.2718 Q470.755 27.692 474.603 26.9223 Q478.451 26.1121 482.097 26.1121 Q491.941 26.1121 496.802 31.2163 Q501.663 36.3204 501.663 46.6907 Z\" fill=\"#000000\" fill-rule=\"evenodd\" fill-opacity=\"1\" /><path clip-path=\"url(#clip740)\" d=\"M543.306 34.1734 Q542.051 33.4443 540.552 33.1202 Q539.094 32.7556 537.311 32.7556 Q530.992 32.7556 527.589 36.8875 Q524.227 40.9789 524.227 48.6757 L524.227 72.576 L516.733 72.576 L516.733 27.2059 L524.227 27.2059 L524.227 34.2544 Q526.576 30.1225 530.344 28.1376 Q534.111 26.1121 539.499 26.1121 Q540.268 26.1121 541.2 26.2337 Q542.132 26.3147 543.266 26.5172 L543.306 34.1734 Z\" fill=\"#000000\" fill-rule=\"evenodd\" fill-opacity=\"1\" /><path clip-path=\"url(#clip740)\" d=\"M600.465 9.54393 L600.465 15.7418 L593.335 15.7418 Q589.325 15.7418 587.745 17.3622 Q586.206 18.9825 586.206 23.1955 L586.206 27.2059 L598.48 27.2059 L598.48 32.9987 L586.206 32.9987 L586.206 72.576 L578.711 72.576 L578.711 32.9987 L571.582 32.9987 L571.582 27.2059 L578.711 27.2059 L578.711 24.0462 Q578.711 16.471 582.236 13.0277 Q585.76 9.54393 593.416 9.54393 L600.465 9.54393 Z\" fill=\"#000000\" fill-rule=\"evenodd\" fill-opacity=\"1\" /><path clip-path=\"url(#clip740)\" d=\"M605.933 54.671 L605.933 27.2059 L613.387 27.2059 L613.387 54.3874 Q613.387 60.8284 615.899 64.0691 Q618.41 67.2693 623.433 67.2693 Q629.469 67.2693 632.953 63.421 Q636.477 59.5726 636.477 52.9291 L636.477 27.2059 L643.931 27.2059 L643.931 72.576 L636.477 72.576 L636.477 65.6084 Q633.763 69.7404 630.158 71.7658 Q626.593 73.7508 621.853 73.7508 Q614.035 73.7508 609.984 68.8897 Q605.933 64.0286 605.933 54.671 M624.689 26.1121 L624.689 26.1121 Z\" fill=\"#000000\" fill-rule=\"evenodd\" fill-opacity=\"1\" /><path clip-path=\"url(#clip740)\" d=\"M696.998 45.1919 L696.998 72.576 L689.544 72.576 L689.544 45.4349 Q689.544 38.994 687.033 35.7938 Q684.521 32.5936 679.498 32.5936 Q673.462 32.5936 669.978 36.4419 Q666.494 40.2903 666.494 46.9338 L666.494 72.576 L659 72.576 L659 27.2059 L666.494 27.2059 L666.494 34.2544 Q669.168 30.163 672.773 28.1376 Q676.419 26.1121 681.159 26.1121 Q688.977 26.1121 692.987 30.9732 Q696.998 35.7938 696.998 45.1919 Z\" fill=\"#000000\" fill-rule=\"evenodd\" fill-opacity=\"1\" /><path clip-path=\"url(#clip740)\" d=\"M744.515 28.9478 L744.515 35.9153 Q741.355 34.1734 738.155 33.3227 Q734.995 32.4315 731.755 32.4315 Q724.503 32.4315 720.493 37.0496 Q716.483 41.6271 716.483 49.9314 Q716.483 58.2358 720.493 62.8538 Q724.503 67.4314 731.755 67.4314 Q734.995 67.4314 738.155 66.5807 Q741.355 65.6895 744.515 63.9476 L744.515 70.8341 Q741.396 72.2924 738.033 73.0216 Q734.712 73.7508 730.944 73.7508 Q720.696 73.7508 714.66 67.3098 Q708.624 60.8689 708.624 49.9314 Q708.624 38.832 714.7 32.472 Q720.817 26.1121 731.43 26.1121 Q734.874 26.1121 738.155 26.8413 Q741.436 27.5299 744.515 28.9478 Z\" fill=\"#000000\" fill-rule=\"evenodd\" fill-opacity=\"1\" /><path clip-path=\"url(#clip740)\" d=\"M764.85 14.324 L764.85 27.2059 L780.203 27.2059 L780.203 32.9987 L764.85 32.9987 L764.85 57.6282 Q764.85 63.1779 766.349 64.7578 Q767.889 66.3376 772.547 66.3376 L780.203 66.3376 L780.203 72.576 L772.547 72.576 Q763.919 72.576 760.637 69.3758 Q757.356 66.1351 757.356 57.6282 L757.356 32.9987 L751.888 32.9987 L751.888 27.2059 L757.356 27.2059 L757.356 14.324 L764.85 14.324 Z\" fill=\"#000000\" fill-rule=\"evenodd\" fill-opacity=\"1\" /><path clip-path=\"url(#clip740)\" d=\"M790.007 27.2059 L797.46 27.2059 L797.46 72.576 L790.007 72.576 L790.007 27.2059 M790.007 9.54393 L797.46 9.54393 L797.46 18.9825 L790.007 18.9825 L790.007 9.54393 Z\" fill=\"#000000\" fill-rule=\"evenodd\" fill-opacity=\"1\" /><path clip-path=\"url(#clip740)\" d=\"M830.637 32.4315 Q824.642 32.4315 821.158 37.1306 Q817.674 41.7891 817.674 49.9314 Q817.674 58.0738 821.117 62.7728 Q824.601 67.4314 830.637 67.4314 Q836.592 67.4314 840.076 62.7323 Q843.559 58.0333 843.559 49.9314 Q843.559 41.8701 840.076 37.1711 Q836.592 32.4315 830.637 32.4315 M830.637 26.1121 Q840.359 26.1121 845.909 32.4315 Q851.459 38.7509 851.459 49.9314 Q851.459 61.0714 845.909 67.4314 Q840.359 73.7508 830.637 73.7508 Q820.874 73.7508 815.325 67.4314 Q809.815 61.0714 809.815 49.9314 Q809.815 38.7509 815.325 32.4315 Q820.874 26.1121 830.637 26.1121 Z\" fill=\"#000000\" fill-rule=\"evenodd\" fill-opacity=\"1\" /><path clip-path=\"url(#clip740)\" d=\"M901.528 45.1919 L901.528 72.576 L894.074 72.576 L894.074 45.4349 Q894.074 38.994 891.563 35.7938 Q889.051 32.5936 884.028 32.5936 Q877.992 32.5936 874.508 36.4419 Q871.025 40.2903 871.025 46.9338 L871.025 72.576 L863.53 72.576 L863.53 27.2059 L871.025 27.2059 L871.025 34.2544 Q873.698 30.163 877.304 28.1376 Q880.949 26.1121 885.689 26.1121 Q893.507 26.1121 897.518 30.9732 Q901.528 35.7938 901.528 45.1919 Z\" fill=\"#000000\" fill-rule=\"evenodd\" fill-opacity=\"1\" /><path clip-path=\"url(#clip740)\" d=\"M938.432 27.2059 L945.885 27.2059 L955.202 62.6108 L964.479 27.2059 L973.269 27.2059 L982.587 62.6108 L991.863 27.2059 L999.317 27.2059 L987.448 72.576 L978.657 72.576 L968.894 35.3887 L959.091 72.576 L950.301 72.576 L938.432 27.2059 Z\" fill=\"#000000\" fill-rule=\"evenodd\" fill-opacity=\"1\" /><path clip-path=\"url(#clip740)\" d=\"M1010.62 27.2059 L1018.07 27.2059 L1018.07 72.576 L1010.62 72.576 L1010.62 27.2059 M1010.62 9.54393 L1018.07 9.54393 L1018.07 18.9825 L1010.62 18.9825 L1010.62 9.54393 Z\" fill=\"#000000\" fill-rule=\"evenodd\" fill-opacity=\"1\" /><path clip-path=\"url(#clip740)\" d=\"M1041.04 14.324 L1041.04 27.2059 L1056.39 27.2059 L1056.39 32.9987 L1041.04 32.9987 L1041.04 57.6282 Q1041.04 63.1779 1042.54 64.7578 Q1044.08 66.3376 1048.74 66.3376 L1056.39 66.3376 L1056.39 72.576 L1048.74 72.576 Q1040.11 72.576 1036.83 69.3758 Q1033.55 66.1351 1033.55 57.6282 L1033.55 32.9987 L1028.08 32.9987 L1028.08 27.2059 L1033.55 27.2059 L1033.55 14.324 L1041.04 14.324 Z\" fill=\"#000000\" fill-rule=\"evenodd\" fill-opacity=\"1\" /><path clip-path=\"url(#clip740)\" d=\"M1103.91 45.1919 L1103.91 72.576 L1096.46 72.576 L1096.46 45.4349 Q1096.46 38.994 1093.95 35.7938 Q1091.43 32.5936 1086.41 32.5936 Q1080.38 32.5936 1076.89 36.4419 Q1073.41 40.2903 1073.41 46.9338 L1073.41 72.576 L1065.91 72.576 L1065.91 9.54393 L1073.41 9.54393 L1073.41 34.2544 Q1076.08 30.163 1079.69 28.1376 Q1083.33 26.1121 1088.07 26.1121 Q1095.89 26.1121 1099.9 30.9732 Q1103.91 35.7938 1103.91 45.1919 Z\" fill=\"#000000\" fill-rule=\"evenodd\" fill-opacity=\"1\" /><path clip-path=\"url(#clip740)\" d=\"M1174.07 28.5427 L1174.07 35.5912 Q1170.91 33.9709 1167.51 33.1607 Q1164.11 32.3505 1160.46 32.3505 Q1154.91 32.3505 1152.12 34.0519 Q1149.36 35.7533 1149.36 39.156 Q1149.36 41.7486 1151.35 43.2475 Q1153.33 44.7058 1159.33 46.0426 L1161.88 46.6097 Q1169.82 48.3111 1173.14 51.4303 Q1176.5 54.509 1176.5 60.0587 Q1176.5 66.3781 1171.48 70.0644 Q1166.5 73.7508 1157.75 73.7508 Q1154.1 73.7508 1150.13 73.0216 Q1146.2 72.3329 1141.83 70.9151 L1141.83 63.2184 Q1145.96 65.3654 1149.97 66.4591 Q1153.98 67.5124 1157.91 67.5124 Q1163.18 67.5124 1166.01 65.73 Q1168.85 63.9071 1168.85 60.6258 Q1168.85 57.5877 1166.78 55.9673 Q1164.76 54.3469 1157.83 52.8481 L1155.24 52.2405 Q1148.31 50.7821 1145.23 47.7845 Q1142.15 44.7463 1142.15 39.4801 Q1142.15 33.0797 1146.69 29.5959 Q1151.23 26.1121 1159.57 26.1121 Q1163.7 26.1121 1167.35 26.7198 Q1170.99 27.3274 1174.07 28.5427 Z\" fill=\"#000000\" fill-rule=\"evenodd\" fill-opacity=\"1\" /><path clip-path=\"url(#clip740)\" d=\"M1188.37 9.54393 L1195.83 9.54393 L1195.83 72.576 L1188.37 72.576 L1188.37 9.54393 Z\" fill=\"#000000\" fill-rule=\"evenodd\" fill-opacity=\"1\" /><path clip-path=\"url(#clip740)\" d=\"M1229 32.4315 Q1223.01 32.4315 1219.52 37.1306 Q1216.04 41.7891 1216.04 49.9314 Q1216.04 58.0738 1219.48 62.7728 Q1222.97 67.4314 1229 67.4314 Q1234.96 67.4314 1238.44 62.7323 Q1241.93 58.0333 1241.93 49.9314 Q1241.93 41.8701 1238.44 37.1711 Q1234.96 32.4315 1229 32.4315 M1229 26.1121 Q1238.73 26.1121 1244.27 32.4315 Q1249.82 38.7509 1249.82 49.9314 Q1249.82 61.0714 1244.27 67.4314 Q1238.73 73.7508 1229 73.7508 Q1219.24 73.7508 1213.69 67.4314 Q1208.18 61.0714 1208.18 49.9314 Q1208.18 38.7509 1213.69 32.4315 Q1219.24 26.1121 1229 26.1121 Z\" fill=\"#000000\" fill-rule=\"evenodd\" fill-opacity=\"1\" /><path clip-path=\"url(#clip740)\" d=\"M1269.39 65.7705 L1269.39 89.8329 L1261.9 89.8329 L1261.9 27.2059 L1269.39 27.2059 L1269.39 34.0924 Q1271.74 30.0415 1275.3 28.0971 Q1278.91 26.1121 1283.89 26.1121 Q1292.16 26.1121 1297.3 32.6746 Q1302.49 39.2371 1302.49 49.9314 Q1302.49 60.6258 1297.3 67.1883 Q1292.16 73.7508 1283.89 73.7508 Q1278.91 73.7508 1275.3 71.8063 Q1271.74 69.8214 1269.39 65.7705 M1294.75 49.9314 Q1294.75 41.7081 1291.35 37.0496 Q1287.98 32.3505 1282.07 32.3505 Q1276.16 32.3505 1272.75 37.0496 Q1269.39 41.7081 1269.39 49.9314 Q1269.39 58.1548 1272.75 62.8538 Q1276.16 67.5124 1282.07 67.5124 Q1287.98 67.5124 1291.35 62.8538 Q1294.75 58.1548 1294.75 49.9314 Z\" fill=\"#000000\" fill-rule=\"evenodd\" fill-opacity=\"1\" /><path clip-path=\"url(#clip740)\" d=\"M1353.65 48.0275 L1353.65 51.6733 L1319.38 51.6733 Q1319.86 59.3701 1324 63.421 Q1328.17 67.4314 1335.58 67.4314 Q1339.88 67.4314 1343.89 66.3781 Q1347.94 65.3249 1351.91 63.2184 L1351.91 70.267 Q1347.9 71.9684 1343.68 72.8596 Q1339.47 73.7508 1335.14 73.7508 Q1324.28 73.7508 1317.92 67.4314 Q1311.6 61.1119 1311.6 50.3365 Q1311.6 39.1965 1317.6 32.6746 Q1323.63 26.1121 1333.84 26.1121 Q1343 26.1121 1348.3 32.0264 Q1353.65 37.9003 1353.65 48.0275 M1346.2 45.84 Q1346.11 39.7232 1342.75 36.0774 Q1339.43 32.4315 1333.92 32.4315 Q1327.68 32.4315 1323.92 35.9558 Q1320.19 39.4801 1319.62 45.8805 L1346.2 45.84 Z\" fill=\"#000000\" fill-rule=\"evenodd\" fill-opacity=\"1\" /><path clip-path=\"url(#clip740)\" d=\"M1410.81 17.4837 Q1404.49 17.4837 1401.29 23.7221 Q1398.13 29.92 1398.13 42.3968 Q1398.13 54.833 1401.29 61.0714 Q1404.49 67.2693 1410.81 67.2693 Q1417.17 67.2693 1420.33 61.0714 Q1423.53 54.833 1423.53 42.3968 Q1423.53 29.92 1420.33 23.7221 Q1417.17 17.4837 1410.81 17.4837 M1410.81 11.0023 Q1420.98 11.0023 1426.32 19.0636 Q1431.71 27.0843 1431.71 42.3968 Q1431.71 57.6687 1426.32 65.73 Q1420.98 73.7508 1410.81 73.7508 Q1400.64 73.7508 1395.25 65.73 Q1389.9 57.6687 1389.9 42.3968 Q1389.9 27.0843 1395.25 19.0636 Q1400.64 11.0023 1410.81 11.0023 Z\" fill=\"#000000\" fill-rule=\"evenodd\" fill-opacity=\"1\" /><path clip-path=\"url(#clip740)\" d=\"M1446.09 62.2867 L1454.64 62.2867 L1454.64 72.576 L1446.09 72.576 L1446.09 62.2867 Z\" fill=\"#000000\" fill-rule=\"evenodd\" fill-opacity=\"1\" /><path clip-path=\"url(#clip740)\" d=\"M1472.54 12.096 L1504.67 12.096 L1504.67 18.9825 L1480.04 18.9825 L1480.04 33.8088 Q1481.82 33.2012 1483.6 32.9176 Q1485.38 32.5936 1487.17 32.5936 Q1497.29 32.5936 1503.21 38.1433 Q1509.12 43.6931 1509.12 53.1722 Q1509.12 62.9348 1503.05 68.3631 Q1496.97 73.7508 1485.91 73.7508 Q1482.1 73.7508 1478.13 73.1026 Q1474.2 72.4545 1469.99 71.1582 L1469.99 62.9348 Q1473.64 64.9198 1477.53 65.892 Q1481.41 66.8642 1485.75 66.8642 Q1492.76 66.8642 1496.85 63.1779 Q1500.94 59.4916 1500.94 53.1722 Q1500.94 46.8528 1496.85 43.1664 Q1492.76 39.4801 1485.75 39.4801 Q1482.47 39.4801 1479.19 40.2093 Q1475.95 40.9384 1472.54 42.4778 L1472.54 12.096 Z\" fill=\"#000000\" fill-rule=\"evenodd\" fill-opacity=\"1\" /><path clip-path=\"url(#clip740)\" d=\"M1571.18 49.7694 Q1562.15 49.7694 1558.67 51.8354 Q1555.18 53.9013 1555.18 58.8839 Q1555.18 62.8538 1557.77 65.2034 Q1560.41 67.5124 1564.9 67.5124 Q1571.1 67.5124 1574.83 63.1374 Q1578.6 58.7219 1578.6 51.4303 L1578.6 49.7694 L1571.18 49.7694 M1586.05 46.6907 L1586.05 72.576 L1578.6 72.576 L1578.6 65.6895 Q1576.04 69.8214 1572.24 71.8063 Q1568.43 73.7508 1562.92 73.7508 Q1555.95 73.7508 1551.82 69.8619 Q1547.73 65.9325 1547.73 59.3701 Q1547.73 51.7138 1552.83 47.825 Q1557.98 43.9361 1568.14 43.9361 L1578.6 43.9361 L1578.6 43.2069 Q1578.6 38.0623 1575.19 35.2672 Q1571.83 32.4315 1565.71 32.4315 Q1561.83 32.4315 1558.14 33.3632 Q1554.45 34.295 1551.05 36.1584 L1551.05 29.2718 Q1555.14 27.692 1558.99 26.9223 Q1562.84 26.1121 1566.48 26.1121 Q1576.33 26.1121 1581.19 31.2163 Q1586.05 36.3204 1586.05 46.6907 Z\" fill=\"#000000\" fill-rule=\"evenodd\" fill-opacity=\"1\" /><path clip-path=\"url(#clip740)\" d=\"M1639.12 45.1919 L1639.12 72.576 L1631.66 72.576 L1631.66 45.4349 Q1631.66 38.994 1629.15 35.7938 Q1626.64 32.5936 1621.62 32.5936 Q1615.58 32.5936 1612.1 36.4419 Q1608.61 40.2903 1608.61 46.9338 L1608.61 72.576 L1601.12 72.576 L1601.12 27.2059 L1608.61 27.2059 L1608.61 34.2544 Q1611.29 30.163 1614.89 28.1376 Q1618.54 26.1121 1623.28 26.1121 Q1631.1 26.1121 1635.11 30.9732 Q1639.12 35.7938 1639.12 45.1919 Z\" fill=\"#000000\" fill-rule=\"evenodd\" fill-opacity=\"1\" /><path clip-path=\"url(#clip740)\" d=\"M1683.84 34.0924 L1683.84 9.54393 L1691.29 9.54393 L1691.29 72.576 L1683.84 72.576 L1683.84 65.7705 Q1681.49 69.8214 1677.88 71.8063 Q1674.32 73.7508 1669.3 73.7508 Q1661.07 73.7508 1655.89 67.1883 Q1650.74 60.6258 1650.74 49.9314 Q1650.74 39.2371 1655.89 32.6746 Q1661.07 26.1121 1669.3 26.1121 Q1674.32 26.1121 1677.88 28.0971 Q1681.49 30.0415 1683.84 34.0924 M1658.44 49.9314 Q1658.44 58.1548 1661.8 62.8538 Q1665.2 67.5124 1671.12 67.5124 Q1677.03 67.5124 1680.44 62.8538 Q1683.84 58.1548 1683.84 49.9314 Q1683.84 41.7081 1680.44 37.0496 Q1677.03 32.3505 1671.12 32.3505 Q1665.2 32.3505 1661.8 37.0496 Q1658.44 41.7081 1658.44 49.9314 Z\" fill=\"#000000\" fill-rule=\"evenodd\" fill-opacity=\"1\" /><path clip-path=\"url(#clip740)\" d=\"M1733.02 27.2059 L1740.47 27.2059 L1740.47 72.576 L1733.02 72.576 L1733.02 27.2059 M1733.02 9.54393 L1740.47 9.54393 L1740.47 18.9825 L1733.02 18.9825 L1733.02 9.54393 Z\" fill=\"#000000\" fill-rule=\"evenodd\" fill-opacity=\"1\" /><path clip-path=\"url(#clip740)\" d=\"M1793.78 45.1919 L1793.78 72.576 L1786.33 72.576 L1786.33 45.4349 Q1786.33 38.994 1783.81 35.7938 Q1781.3 32.5936 1776.28 32.5936 Q1770.24 32.5936 1766.76 36.4419 Q1763.28 40.2903 1763.28 46.9338 L1763.28 72.576 L1755.78 72.576 L1755.78 27.2059 L1763.28 27.2059 L1763.28 34.2544 Q1765.95 30.163 1769.56 28.1376 Q1773.2 26.1121 1777.94 26.1121 Q1785.76 26.1121 1789.77 30.9732 Q1793.78 35.7938 1793.78 45.1919 Z\" fill=\"#000000\" fill-rule=\"evenodd\" fill-opacity=\"1\" /><path clip-path=\"url(#clip740)\" d=\"M1816.02 14.324 L1816.02 27.2059 L1831.37 27.2059 L1831.37 32.9987 L1816.02 32.9987 L1816.02 57.6282 Q1816.02 63.1779 1817.52 64.7578 Q1819.06 66.3376 1823.72 66.3376 L1831.37 66.3376 L1831.37 72.576 L1823.72 72.576 Q1815.09 72.576 1811.81 69.3758 Q1808.53 66.1351 1808.53 57.6282 L1808.53 32.9987 L1803.06 32.9987 L1803.06 27.2059 L1808.53 27.2059 L1808.53 14.324 L1816.02 14.324 Z\" fill=\"#000000\" fill-rule=\"evenodd\" fill-opacity=\"1\" /><path clip-path=\"url(#clip740)\" d=\"M1879.98 48.0275 L1879.98 51.6733 L1845.71 51.6733 Q1846.2 59.3701 1850.33 63.421 Q1854.5 67.4314 1861.92 67.4314 Q1866.21 67.4314 1870.22 66.3781 Q1874.27 65.3249 1878.24 63.2184 L1878.24 70.267 Q1874.23 71.9684 1870.02 72.8596 Q1865.81 73.7508 1861.47 73.7508 Q1850.61 73.7508 1844.25 67.4314 Q1837.93 61.1119 1837.93 50.3365 Q1837.93 39.1965 1843.93 32.6746 Q1849.97 26.1121 1860.17 26.1121 Q1869.33 26.1121 1874.64 32.0264 Q1879.98 37.9003 1879.98 48.0275 M1872.53 45.84 Q1872.45 39.7232 1869.09 36.0774 Q1865.76 32.4315 1860.26 32.4315 Q1854.02 32.4315 1850.25 35.9558 Q1846.52 39.4801 1845.96 45.8805 L1872.53 45.84 Z\" fill=\"#000000\" fill-rule=\"evenodd\" fill-opacity=\"1\" /><path clip-path=\"url(#clip740)\" d=\"M1918.51 34.1734 Q1917.25 33.4443 1915.75 33.1202 Q1914.29 32.7556 1912.51 32.7556 Q1906.19 32.7556 1902.79 36.8875 Q1899.43 40.9789 1899.43 48.6757 L1899.43 72.576 L1891.93 72.576 L1891.93 27.2059 L1899.43 27.2059 L1899.43 34.2544 Q1901.78 30.1225 1905.54 28.1376 Q1909.31 26.1121 1914.7 26.1121 Q1915.47 26.1121 1916.4 26.2337 Q1917.33 26.3147 1918.47 26.5172 L1918.51 34.1734 Z\" fill=\"#000000\" fill-rule=\"evenodd\" fill-opacity=\"1\" /><path clip-path=\"url(#clip740)\" d=\"M1957.15 28.9478 L1957.15 35.9153 Q1953.99 34.1734 1950.79 33.3227 Q1947.63 32.4315 1944.39 32.4315 Q1937.14 32.4315 1933.13 37.0496 Q1929.12 41.6271 1929.12 49.9314 Q1929.12 58.2358 1933.13 62.8538 Q1937.14 67.4314 1944.39 67.4314 Q1947.63 67.4314 1950.79 66.5807 Q1953.99 65.6895 1957.15 63.9476 L1957.15 70.8341 Q1954.03 72.2924 1950.67 73.0216 Q1947.35 73.7508 1943.58 73.7508 Q1933.33 73.7508 1927.3 67.3098 Q1921.26 60.8689 1921.26 49.9314 Q1921.26 38.832 1927.34 32.472 Q1933.46 26.1121 1944.07 26.1121 Q1947.51 26.1121 1950.79 26.8413 Q1954.07 27.5299 1957.15 28.9478 Z\" fill=\"#000000\" fill-rule=\"evenodd\" fill-opacity=\"1\" /><path clip-path=\"url(#clip740)\" d=\"M2008.92 48.0275 L2008.92 51.6733 L1974.65 51.6733 Q1975.14 59.3701 1979.27 63.421 Q1983.44 67.4314 1990.86 67.4314 Q1995.15 67.4314 1999.16 66.3781 Q2003.21 65.3249 2007.18 63.2184 L2007.18 70.267 Q2003.17 71.9684 1998.96 72.8596 Q1994.75 73.7508 1990.41 73.7508 Q1979.55 73.7508 1973.19 67.4314 Q1966.88 61.1119 1966.88 50.3365 Q1966.88 39.1965 1972.87 32.6746 Q1978.91 26.1121 1989.11 26.1121 Q1998.27 26.1121 2003.58 32.0264 Q2008.92 37.9003 2008.92 48.0275 M2001.47 45.84 Q2001.39 39.7232 1998.03 36.0774 Q1994.7 32.4315 1989.2 32.4315 Q1982.96 32.4315 1979.19 35.9558 Q1975.46 39.4801 1974.9 45.8805 L2001.47 45.84 Z\" fill=\"#000000\" fill-rule=\"evenodd\" fill-opacity=\"1\" /><path clip-path=\"url(#clip740)\" d=\"M2028.37 65.7705 L2028.37 89.8329 L2020.87 89.8329 L2020.87 27.2059 L2028.37 27.2059 L2028.37 34.0924 Q2030.72 30.0415 2034.28 28.0971 Q2037.89 26.1121 2042.87 26.1121 Q2051.13 26.1121 2056.28 32.6746 Q2061.46 39.2371 2061.46 49.9314 Q2061.46 60.6258 2056.28 67.1883 Q2051.13 73.7508 2042.87 73.7508 Q2037.89 73.7508 2034.28 71.8063 Q2030.72 69.8214 2028.37 65.7705 M2053.73 49.9314 Q2053.73 41.7081 2050.32 37.0496 Q2046.96 32.3505 2041.05 32.3505 Q2035.13 32.3505 2031.73 37.0496 Q2028.37 41.7081 2028.37 49.9314 Q2028.37 58.1548 2031.73 62.8538 Q2035.13 67.5124 2041.05 67.5124 Q2046.96 67.5124 2050.32 62.8538 Q2053.73 58.1548 2053.73 49.9314 Z\" fill=\"#000000\" fill-rule=\"evenodd\" fill-opacity=\"1\" /><path clip-path=\"url(#clip740)\" d=\"M2081.19 14.324 L2081.19 27.2059 L2096.54 27.2059 L2096.54 32.9987 L2081.19 32.9987 L2081.19 57.6282 Q2081.19 63.1779 2082.69 64.7578 Q2084.23 66.3376 2088.89 66.3376 L2096.54 66.3376 L2096.54 72.576 L2088.89 72.576 Q2080.26 72.576 2076.98 69.3758 Q2073.7 66.1351 2073.7 57.6282 L2073.7 32.9987 L2068.23 32.9987 L2068.23 27.2059 L2073.7 27.2059 L2073.7 14.324 L2081.19 14.324 Z\" fill=\"#000000\" fill-rule=\"evenodd\" fill-opacity=\"1\" /><path clip-path=\"url(#clip740)\" d=\"M2135.19 65.6895 L2148.56 65.6895 L2148.56 19.5497 L2134.02 22.4663 L2134.02 15.0127 L2148.48 12.096 L2156.66 12.096 L2156.66 65.6895 L2170.03 65.6895 L2170.03 72.576 L2135.19 72.576 L2135.19 65.6895 Z\" fill=\"#000000\" fill-rule=\"evenodd\" fill-opacity=\"1\" /><polyline clip-path=\"url(#clip742)\" style=\"stroke:#009af9; stroke-linecap:butt; stroke-linejoin:round; stroke-width:8; stroke-opacity:1; fill:none\" points=\"\n",
       "  174.33,1447.87 195.694,1434.88 217.057,1421.9 238.42,1408.91 259.784,1395.92 281.147,1382.93 302.511,1369.94 323.874,1356.96 345.237,1343.97 366.601,1330.98 \n",
       "  387.964,1317.99 409.328,1305 430.691,1292.02 452.054,1279.03 473.418,1266.04 494.781,1253.05 516.145,1240.06 537.508,1227.07 558.871,1214.09 580.235,1201.1 \n",
       "  601.598,1188.11 622.962,1175.12 644.325,1162.13 665.688,1149.15 687.052,1136.16 708.415,1123.17 729.779,1110.18 751.142,1097.19 772.505,1084.21 793.869,1071.22 \n",
       "  815.232,1058.23 836.596,1045.24 857.959,1032.25 879.322,1019.26 900.686,1006.28 922.049,993.288 943.413,980.3 964.776,967.312 986.139,954.324 1007.5,941.336 \n",
       "  1028.87,928.347 1050.23,915.359 1071.59,902.371 1092.96,889.383 1114.32,876.395 1135.68,863.407 1157.05,850.419 1178.41,837.43 1199.77,824.442 1221.14,811.454 \n",
       "  1242.5,798.466 1263.86,785.478 1285.23,772.49 1306.59,759.501 1327.95,746.513 1349.32,733.525 1370.68,720.537 1392.04,707.549 1413.41,694.561 1434.77,681.573 \n",
       "  1456.13,668.584 1477.5,655.596 1498.86,642.608 1520.22,629.62 1541.59,616.632 1562.95,603.644 1584.31,590.656 1605.68,577.667 1627.04,564.679 1648.4,551.691 \n",
       "  1669.77,538.703 1691.13,525.715 1712.49,512.727 1733.86,499.739 1755.22,486.75 1776.59,473.762 1797.95,460.774 1819.31,447.786 1840.68,434.798 1862.04,421.81 \n",
       "  1883.4,408.822 1904.77,395.833 1926.13,382.845 1947.49,369.857 1968.86,356.869 1990.22,343.881 2011.58,330.893 2032.95,317.905 2054.31,304.916 2075.67,291.928 \n",
       "  2097.04,278.94 2118.4,265.952 2139.76,252.964 2161.13,239.976 2182.49,226.988 2203.85,213.999 2225.22,201.011 2246.58,188.023 2267.94,175.035 2289.31,162.047 \n",
       "  \n",
       "  \"/>\n",
       "<polyline clip-path=\"url(#clip742)\" style=\"stroke:#000000; stroke-linecap:butt; stroke-linejoin:round; stroke-width:4; stroke-opacity:0.5; fill:none\" stroke-dasharray=\"16, 10\" points=\"\n",
       "  879.322,2849.42 879.322,-1239.5 \n",
       "  \"/>\n",
       "<polyline clip-path=\"url(#clip742)\" style=\"stroke:#000000; stroke-linecap:butt; stroke-linejoin:round; stroke-width:4; stroke-opacity:0.5; fill:none\" stroke-dasharray=\"16, 10\" points=\"\n",
       "  597.325,2849.42 597.325,-1239.5 \n",
       "  \"/>\n",
       "<polyline clip-path=\"url(#clip742)\" style=\"stroke:#ff0000; stroke-linecap:butt; stroke-linejoin:round; stroke-width:4; stroke-opacity:0.5; fill:none\" stroke-dasharray=\"16, 10\" points=\"\n",
       "  -2130.99,1190.71 4594.63,1190.71 \n",
       "  \"/>\n",
       "<polyline clip-path=\"url(#clip742)\" style=\"stroke:#ff0000; stroke-linecap:butt; stroke-linejoin:round; stroke-width:4; stroke-opacity:0.5; fill:none\" stroke-dasharray=\"16, 10\" points=\"\n",
       "  -2130.99,1019.26 4594.63,1019.26 \n",
       "  \"/>\n",
       "</svg>\n"
      ]
     },
     "execution_count": 66,
     "metadata": {},
     "output_type": "execute_result"
    }
   ],
   "source": [
    "m = 0.5; b = 1;\n",
    "ar_x = LinRange(-5, 10, 100); ar_y = ar_x .* m .+ b;\n",
    "plot(ar_x, ar_y, legend = false, title = \"Linear function with slope $m and intercept $b\", lw = 2)\n",
    "vline!([0, -2], ls = :dash, color = :black, alpha = 0.5, xticks = ([0, -2]))\n",
    "hline!([0, 1], ls = :dash, color = :red, alpha = 0.5, yticks = ([0, 1]))"
   ]
  }
 ],
 "metadata": {
  "celltoolbar": "Slideshow",
  "kernelspec": {
   "display_name": "Julia 1.7.2",
   "language": "julia",
   "name": "julia-1.7"
  },
  "language_info": {
   "file_extension": ".jl",
   "mimetype": "application/julia",
   "name": "julia",
   "version": "1.7.2"
  }
 },
 "nbformat": 4,
 "nbformat_minor": 4
}
