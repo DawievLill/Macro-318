{
 "cells": [
  {
   "cell_type": "markdown",
   "metadata": {
    "slideshow": {
     "slide_type": "slide"
    },
    "tags": []
   },
   "source": [
    "# <span style=\"color:#2c061f\"> Macro 318: Lecture # 1-2 / Tutorial #1 </span>  \n",
    "\n",
    "<br>\n",
    "\n",
    "## <span style=\"color:#374045\"> Introduction to Programming with Julia </span>\n",
    "\n",
    "\n",
    "#### <span style=\"color:#374045\"> Lecturer: </span> <span style=\"color:#d89216\"> <br> Dawie van Lill (dvanlill@sun.ac.za) </span>"
   ]
  },
  {
   "cell_type": "markdown",
   "metadata": {
    "slideshow": {
     "slide_type": "slide"
    }
   },
   "source": [
    "# Introduction\n",
    "\n",
    "Your interest in computational work will determine how much of this guide you read. \n",
    "\n",
    "- **Very interested** -- Read the entire notebook (even if you don't understand)\n",
    "- *Somewhat interested* -- Read through the notebook and scan through the `optional` sections\n",
    "- No interest -- Only read the slides (compulsory\n",
    ") so that you can complete the tutorials\n",
    "\n",
    "Try not to let the amount of information overwhelm you.\n",
    "\n",
    "The notebook is meant to be used as a **reference**\n",
    "\n",
    "The slides presented here are the **compulsory** part of the tutorial. "
   ]
  },
  {
   "cell_type": "markdown",
   "metadata": {
    "slideshow": {
     "slide_type": "slide"
    }
   },
   "source": [
    "# Tutorial topics\n",
    "\n",
    "Here are some of the focus areas\n",
    "\n",
    "1. **Fundamentals of programming with Julia**\n",
    "2. Data, math and stats\n",
    "3. Optimisation and the consumer problem\n",
    "4. Solow model "
   ]
  },
  {
   "cell_type": "markdown",
   "metadata": {
    "slideshow": {
     "slide_type": "slide"
    }
   },
   "source": [
    "# Running the notebooks\n",
    "\n",
    "It is preferred that you install the programs on your computer.\n",
    "\n",
    "This requires that you install Anaconda and Julia. \n",
    "\n",
    "[Here](https://julia.quantecon.org/getting_started_julia/getting_started.html) is a link that explains the installation process.\n",
    "\n",
    "However, if you are finding it difficult to get things working you may try the other options. \n",
    "\n",
    "I will make a brief video on how to install Anaconda and link it to Julia.\n"
   ]
  },
  {
   "cell_type": "markdown",
   "metadata": {
    "slideshow": {
     "slide_type": "slide"
    }
   },
   "source": [
    "# Tutorial outline\n",
    "\n",
    "1. Variables\n",
    "2. Data structures\n",
    "3. Control flow\n",
    "4. Functions\n",
    "5. Visualisation\n",
    "6. Type system and generic programming (`optional`)"
   ]
  },
  {
   "cell_type": "markdown",
   "metadata": {
    "slideshow": {
     "slide_type": "slide"
    }
   },
   "source": [
    "# Your first code!\n",
    "\n",
    "Before we start our discussion, let us try and run our first Julia program. \n",
    "\n",
    "For those that have done programming before, this normally entails writing a piece of code that gives us the output ``Hello World!``. \n",
    "\n",
    "In Julia this is super easy to do. \n"
   ]
  },
  {
   "cell_type": "code",
   "execution_count": 1,
   "metadata": {
    "slideshow": {
     "slide_type": "fragment"
    }
   },
   "outputs": [
    {
     "name": "stdout",
     "output_type": "stream",
     "text": [
      "Hello World!\n"
     ]
    }
   ],
   "source": [
    "println(\"Hello World!\")"
   ]
  },
  {
   "cell_type": "markdown",
   "metadata": {
    "slideshow": {
     "slide_type": "slide"
    }
   },
   "source": [
    "# Introduction to packages\n",
    "\n",
    "Julia has many useful packages. If we want to include a specific package then we can do the following,\n",
    "\n",
    "`import Pkg`\n",
    "\n",
    "`Pkg.add(\"PackageName\")`\n",
    "\n",
    "`using PackageName`"
   ]
  },
  {
   "cell_type": "code",
   "execution_count": 34,
   "metadata": {
    "slideshow": {
     "slide_type": "skip"
    }
   },
   "outputs": [
    {
     "name": "stderr",
     "output_type": "stream",
     "text": [
      "\u001b[32m\u001b[1m    Updating\u001b[22m\u001b[39m registry at `C:\\Users\\Dawie\\.julia\\registries\\General`\n",
      "\u001b[32m\u001b[1m    Updating\u001b[22m\u001b[39m git-repo `https://github.com/JuliaRegistries/General.git`\n",
      "\u001b[32m\u001b[1m   Resolving\u001b[22m\u001b[39m package versions...\n",
      "\u001b[32m\u001b[1m   Installed\u001b[22m\u001b[39m GR_jll ────────────────── v0.64.0+0\n",
      "\u001b[32m\u001b[1m   Installed\u001b[22m\u001b[39m InlineStrings ─────────── v1.1.2\n",
      "\u001b[32m\u001b[1m   Installed\u001b[22m\u001b[39m JpegTurbo_jll ─────────── v2.1.2+0\n",
      "\u001b[32m\u001b[1m   Installed\u001b[22m\u001b[39m Referenceables ────────── v0.1.2\n",
      "\u001b[32m\u001b[1m   Installed\u001b[22m\u001b[39m StatsFuns ─────────────── v0.9.15\n",
      "\u001b[32m\u001b[1m   Installed\u001b[22m\u001b[39m MutableArithmetics ────── v0.3.3\n",
      "\u001b[32m\u001b[1m   Installed\u001b[22m\u001b[39m LabelledArrays ────────── v1.7.1\n",
      "\u001b[32m\u001b[1m   Installed\u001b[22m\u001b[39m TimerOutputs ──────────── v0.5.15\n",
      "\u001b[32m\u001b[1m   Installed\u001b[22m\u001b[39m PlotUtils ─────────────── v1.1.3\n",
      "\u001b[32m\u001b[1m   Installed\u001b[22m\u001b[39m RecipesPipeline ───────── v0.5.0\n",
      "\u001b[32m\u001b[1m   Installed\u001b[22m\u001b[39m Roots ─────────────────── v1.3.14\n",
      "\u001b[32m\u001b[1m   Installed\u001b[22m\u001b[39m DataFramesMeta ────────── v0.10.0\n",
      "\u001b[32m\u001b[1m   Installed\u001b[22m\u001b[39m RecursiveArrayTools ───── v2.24.2\n",
      "\u001b[32m\u001b[1m   Installed\u001b[22m\u001b[39m StaticArrays ──────────── v1.3.5\n",
      "\u001b[32m\u001b[1m   Installed\u001b[22m\u001b[39m InitialValues ─────────── v0.3.1\n",
      "\u001b[32m\u001b[1m   Installed\u001b[22m\u001b[39m EllipsisNotation ──────── v1.3.0\n",
      "\u001b[32m\u001b[1m   Installed\u001b[22m\u001b[39m ThreadsX ──────────────── v0.1.9\n",
      "\u001b[32m\u001b[1m   Installed\u001b[22m\u001b[39m Static ────────────────── v0.5.5\n",
      "\u001b[32m\u001b[1m   Installed\u001b[22m\u001b[39m GLM ───────────────────── v1.6.1\n",
      "\u001b[32m\u001b[1m   Installed\u001b[22m\u001b[39m RealDot ───────────────── v0.1.0\n",
      "\u001b[32m\u001b[1m   Installed\u001b[22m\u001b[39m AutoHashEquals ────────── v0.2.0\n",
      "\u001b[32m\u001b[1m   Installed\u001b[22m\u001b[39m IRTools ───────────────── v0.4.5\n",
      "\u001b[32m\u001b[1m   Installed\u001b[22m\u001b[39m FileIO ────────────────── v1.13.0\n",
      "\u001b[32m\u001b[1m   Installed\u001b[22m\u001b[39m JSON ──────────────────── v0.21.3\n",
      "\u001b[32m\u001b[1m   Installed\u001b[22m\u001b[39m SpecialFunctions ──────── v2.1.2\n",
      "\u001b[32m\u001b[1m   Installed\u001b[22m\u001b[39m SciMLBase ─────────────── v1.26.3\n",
      "\u001b[32m\u001b[1m   Installed\u001b[22m\u001b[39m Symbolics ─────────────── v4.3.0\n",
      "\u001b[32m\u001b[1m   Installed\u001b[22m\u001b[39m DataFrames ────────────── v1.3.2\n",
      "\u001b[32m\u001b[1m   Installed\u001b[22m\u001b[39m MultivariatePolynomials ─ v0.4.2\n",
      "\u001b[32m\u001b[1m   Installed\u001b[22m\u001b[39m SentinelArrays ────────── v1.3.12\n",
      "\u001b[32m\u001b[1m   Installed\u001b[22m\u001b[39m NaNMath ───────────────── v0.3.7\n",
      "\u001b[32m\u001b[1m   Installed\u001b[22m\u001b[39m DefineSingletons ──────── v0.1.2\n",
      "\u001b[32m\u001b[1m   Installed\u001b[22m\u001b[39m GLFW_jll ──────────────── v3.3.6+0\n",
      "\u001b[32m\u001b[1m   Installed\u001b[22m\u001b[39m MicroCollections ──────── v0.1.2\n",
      "\u001b[32m\u001b[1m   Installed\u001b[22m\u001b[39m GR ────────────────────── v0.64.0\n",
      "\u001b[32m\u001b[1m   Installed\u001b[22m\u001b[39m Zygote ────────────────── v0.6.35\n",
      "\u001b[32m\u001b[1m   Installed\u001b[22m\u001b[39m ExprTools ─────────────── v0.1.8\n",
      "\u001b[32m\u001b[1m   Installed\u001b[22m\u001b[39m DynamicPolynomials ────── v0.4.3\n",
      "\u001b[32m\u001b[1m   Installed\u001b[22m\u001b[39m ChainRules ────────────── v1.27.0\n",
      "\u001b[32m\u001b[1m   Installed\u001b[22m\u001b[39m BangBang ──────────────── v0.3.35\n",
      "\u001b[32m\u001b[1m   Installed\u001b[22m\u001b[39m StatsBase ─────────────── v0.33.15\n",
      "\u001b[32m\u001b[1m   Installed\u001b[22m\u001b[39m DiffRules ─────────────── v1.10.0\n",
      "\u001b[32m\u001b[1m   Installed\u001b[22m\u001b[39m ArgCheck ──────────────── v2.3.0\n",
      "\u001b[32m\u001b[1m   Installed\u001b[22m\u001b[39m Zstd_jll ──────────────── v1.5.2+0\n",
      "\u001b[32m\u001b[1m   Installed\u001b[22m\u001b[39m Expat_jll ─────────────── v2.4.4+0\n",
      "\u001b[32m\u001b[1m   Installed\u001b[22m\u001b[39m Setfield ──────────────── v0.8.2\n",
      "\u001b[32m\u001b[1m   Installed\u001b[22m\u001b[39m Parsers ───────────────── v2.2.2\n",
      "\u001b[32m\u001b[1m   Installed\u001b[22m\u001b[39m AbstractFFTs ──────────── v1.1.0\n",
      "\u001b[32m\u001b[1m   Installed\u001b[22m\u001b[39m Plots ─────────────────── v1.25.10\n",
      "\u001b[32m\u001b[1m   Installed\u001b[22m\u001b[39m JLLWrappers ───────────── v1.4.1\n",
      "\u001b[32m\u001b[1m   Installed\u001b[22m\u001b[39m InverseFunctions ──────── v0.1.2\n",
      "\u001b[32m\u001b[1m   Installed\u001b[22m\u001b[39m LogExpFunctions ───────── v0.3.6\n",
      "\u001b[32m\u001b[1m   Installed\u001b[22m\u001b[39m ArrayInterface ────────── v4.0.3\n",
      "\u001b[32m\u001b[1m   Installed\u001b[22m\u001b[39m ChainRulesCore ────────── v1.12.0\n",
      "\u001b[32m\u001b[1m   Installed\u001b[22m\u001b[39m TypeTree ──────────────── v0.3.0\n",
      "\u001b[32m\u001b[1m   Installed\u001b[22m\u001b[39m OpenSSL_jll ───────────── v1.1.13+0\n",
      "\u001b[32m\u001b[1m   Installed\u001b[22m\u001b[39m TermInterface ─────────── v0.2.3\n",
      "\u001b[32m\u001b[1m   Installed\u001b[22m\u001b[39m Crayons ───────────────── v4.1.1\n",
      "\u001b[32m\u001b[1m   Installed\u001b[22m\u001b[39m Transducers ───────────── v0.4.72\n",
      "\u001b[32m\u001b[1m   Installed\u001b[22m\u001b[39m FillArrays ────────────── v0.12.8\n",
      "\u001b[32m\u001b[1m   Installed\u001b[22m\u001b[39m StructArrays ──────────── v0.6.4\n",
      "\u001b[32m\u001b[1m   Installed\u001b[22m\u001b[39m ForwardDiff ───────────── v0.10.25\n",
      "\u001b[32m\u001b[1m   Installed\u001b[22m\u001b[39m Requires ──────────────── v1.3.0\n",
      "\u001b[32m\u001b[1m   Installed\u001b[22m\u001b[39m Chain ─────────────────── v0.4.10\n",
      "\u001b[32m\u001b[1m   Installed\u001b[22m\u001b[39m SymbolicUtils ─────────── v0.19.7\n",
      "\u001b[32m\u001b[1m   Installed\u001b[22m\u001b[39m ChangesOfVariables ────── v0.1.2\n",
      "\u001b[32m\u001b[1m   Installed\u001b[22m\u001b[39m DensityInterface ──────── v0.4.0\n",
      "\u001b[32m\u001b[1m   Installed\u001b[22m\u001b[39m Metatheory ────────────── v1.3.3\n",
      "\u001b[32m\u001b[1m   Installed\u001b[22m\u001b[39m Distributions ─────────── v0.25.48\n",
      "\u001b[32m\u001b[1m   Installed\u001b[22m\u001b[39m CSV ───────────────────── v0.10.2\n",
      "\u001b[32m\u001b[1m   Installed\u001b[22m\u001b[39m ColorSchemes ──────────── v3.17.1\n",
      "\u001b[32m\u001b[1m   Installed\u001b[22m\u001b[39m RDatasets ─────────────── v0.7.7\n",
      "┌ Warning: The active manifest file at `C:\\Users\\Dawie\\Dropbox\\2022\\318-macro\\git\\Macro-318\\Manifest.toml` has an old format that is being maintained.\n",
      "│ To update to the new format run `Pkg.upgrade_manifest()` which will upgrade the format without re-resolving.\n",
      "└ @ Pkg.Types C:\\buildbot\\worker\\package_win64\\build\\usr\\share\\julia\\stdlib\\v1.7\\Pkg\\src\\manifest.jl:287\n",
      "\u001b[32m\u001b[1m  No Changes\u001b[22m\u001b[39m to `C:\\Users\\Dawie\\Dropbox\\2022\\318-macro\\git\\Macro-318\\Project.toml`\n",
      "\u001b[32m\u001b[1m    Updating\u001b[22m\u001b[39m `C:\\Users\\Dawie\\Dropbox\\2022\\318-macro\\git\\Macro-318\\Manifest.toml`\n",
      " \u001b[90m [88015f11] \u001b[39m\u001b[92m+ LERC_jll v3.0.0+1\u001b[39m\n",
      " \u001b[90m [89763e89] \u001b[39m\u001b[93m↑ Libtiff_jll v4.3.0+0 ⇒ v4.3.0+1\u001b[39m\n",
      "\u001b[32m\u001b[1m    Building\u001b[22m\u001b[39m GR → `C:\\Users\\Dawie\\.julia\\scratchspaces\\44cfe95a-1eb2-52ea-b672-e2afdf69b78f\\9f836fb62492f4b0f0d3b06f55983f2704ed0883\\build.log`\n",
      "┌ Warning: The active manifest file is an older format with no julia version entry. Dependencies may have been resolved with a different julia version.\n",
      "└ @ nothing C:\\Users\\Dawie\\Dropbox\\2022\\318-macro\\git\\Macro-318\\Manifest.toml:0\n",
      "\u001b[32m\u001b[1mPrecompiling\u001b[22m\u001b[39m project...\n",
      "\u001b[32m  ✓ \u001b[39m\u001b[90mChain\u001b[39m\n",
      "\u001b[32m  ✓ \u001b[39mTypeTree\n",
      "\u001b[32m  ✓ \u001b[39m\u001b[90mExprTools\u001b[39m\n",
      "\u001b[32m  ✓ \u001b[39m\u001b[90mInverseFunctions\u001b[39m\n",
      "\u001b[32m  ✓ \u001b[39m\u001b[90mInitialValues\u001b[39m\n",
      "\u001b[32m  ✓ \u001b[39m\u001b[90mArgCheck\u001b[39m\n",
      "\u001b[32m  ✓ \u001b[39m\u001b[90mAutoHashEquals\u001b[39m\n",
      "\u001b[32m  ✓ \u001b[39m\u001b[90mCompositeTypes\u001b[39m\n",
      "\u001b[32m  ✓ \u001b[39m\u001b[90mFillArrays\u001b[39m\n",
      "\u001b[32m  ✓ \u001b[39m\u001b[90mRealDot\u001b[39m\n",
      "\u001b[32m  ✓ \u001b[39m\u001b[90mCompositionsBase\u001b[39m\n",
      "\u001b[32m  ✓ \u001b[39m\u001b[90mDefineSingletons\u001b[39m\n",
      "\u001b[32m  ✓ \u001b[39m\u001b[90mNaNMath\u001b[39m\n",
      "\u001b[32m  ✓ \u001b[39m\u001b[90mRequires\u001b[39m\n",
      "\u001b[32m  ✓ \u001b[39m\u001b[90mSentinelArrays\u001b[39m\n",
      "\u001b[32m  ✓ \u001b[39m\u001b[90mTermInterface\u001b[39m\n",
      "\u001b[32m  ✓ \u001b[39m\u001b[90mBijections\u001b[39m\n",
      "\u001b[32m  ✓ \u001b[39m\u001b[90mChainRulesCore\u001b[39m\n",
      "\u001b[33m  ✓ \u001b[39m\u001b[90mJLLWrappers\u001b[39m\n",
      "\u001b[32m  ✓ \u001b[39m\u001b[90mBaselet\u001b[39m\n",
      "\u001b[32m  ✓ \u001b[39m\u001b[90mCrayons\u001b[39m\n",
      "\u001b[32m  ✓ \u001b[39m\u001b[90mStatic\u001b[39m\n",
      "\u001b[32m  ✓ \u001b[39m\u001b[90mReferenceables\u001b[39m\n",
      "\u001b[32m  ✓ \u001b[39m\u001b[90mRuntimeGeneratedFunctions\u001b[39m\n",
      "\u001b[32m  ✓ \u001b[39m\u001b[90mIRTools\u001b[39m\n",
      "\u001b[32m  ✓ \u001b[39m\u001b[90mDensityInterface\u001b[39m\n",
      "\u001b[32m  ✓ \u001b[39m\u001b[90mMocking\u001b[39m\n",
      "\u001b[32m  ✓ \u001b[39m\u001b[90mMutableArithmetics\u001b[39m\n",
      "\u001b[32m  ✓ \u001b[39m\u001b[90mTimerOutputs\u001b[39m\n",
      "\u001b[32m  ✓ \u001b[39m\u001b[90mSetfield\u001b[39m\n",
      "\u001b[32m  ✓ \u001b[39m\u001b[90mChangesOfVariables\u001b[39m\n",
      "\u001b[32m  ✓ \u001b[39m\u001b[90mAbstractFFTs\u001b[39m\n",
      "\u001b[32m  ✓ \u001b[39m\u001b[90mLatexify\u001b[39m\n",
      "\u001b[32m  ✓ \u001b[39mCategoricalArrays\n",
      "\u001b[32m  ✓ \u001b[39m\u001b[90mFileIO\u001b[39m\n",
      "\u001b[32m  ✓ \u001b[39m\u001b[90mOpenSSL_jll\u001b[39m\n",
      "\u001b[32m  ✓ \u001b[39m\u001b[90mGraphite2_jll\u001b[39m\n",
      "\u001b[32m  ✓ \u001b[39m\u001b[90mLibmount_jll\u001b[39m\n",
      "\u001b[32m  ✓ \u001b[39m\u001b[90mBzip2_jll\u001b[39m\n",
      "\u001b[32m  ✓ \u001b[39m\u001b[90mStaticArrays\u001b[39m\n",
      "\u001b[32m  ✓ \u001b[39m\u001b[90mXorg_libXau_jll\u001b[39m\n",
      "\u001b[32m  ✓ \u001b[39m\u001b[90mlibpng_jll\u001b[39m\n",
      "\u001b[32m  ✓ \u001b[39m\u001b[90mRmath_jll\u001b[39m\n",
      "\u001b[32m  ✓ \u001b[39m\u001b[90mlibfdk_aac_jll\u001b[39m\n",
      "\u001b[32m  ✓ \u001b[39m\u001b[90mLAME_jll\u001b[39m\n",
      "\u001b[32m  ✓ \u001b[39m\u001b[90mOgg_jll\u001b[39m\n",
      "\u001b[32m  ✓ \u001b[39m\u001b[90mPixman_jll\u001b[39m\n",
      "\u001b[32m  ✓ \u001b[39m\u001b[90mEarCut_jll\u001b[39m\n",
      "\u001b[32m  ✓ \u001b[39m\u001b[90mJpegTurbo_jll\u001b[39m\n",
      "\u001b[32m  ✓ \u001b[39m\u001b[90mLERC_jll\u001b[39m\n",
      "\u001b[32m  ✓ \u001b[39m\u001b[90mXorg_libXdmcp_jll\u001b[39m\n",
      "\u001b[32m  ✓ \u001b[39m\u001b[90mColorSchemes\u001b[39m\n",
      "\u001b[32m  ✓ \u001b[39m\u001b[90mx265_jll\u001b[39m\n",
      "\u001b[32m  ✓ \u001b[39m\u001b[90mZstd_jll\u001b[39m\n",
      "\u001b[32m  ✓ \u001b[39m\u001b[90mx264_jll\u001b[39m\n",
      "\u001b[32m  ✓ \u001b[39m\u001b[90mExpat_jll\u001b[39m\n",
      "\u001b[32m  ✓ \u001b[39m\u001b[90mLZO_jll\u001b[39m\n",
      "\u001b[32m  ✓ \u001b[39m\u001b[90mOpus_jll\u001b[39m\n",
      "\u001b[32m  ✓ \u001b[39m\u001b[90mXorg_xtrans_jll\u001b[39m\n"
     ]
    },
    {
     "name": "stderr",
     "output_type": "stream",
     "text": [
      "\u001b[32m  ✓ \u001b[39m\u001b[90mWayland_protocols_jll\u001b[39m\n",
      "\u001b[32m  ✓ \u001b[39m\u001b[90mLibiconv_jll\u001b[39m\n",
      "\u001b[32m  ✓ \u001b[39m\u001b[90mLibffi_jll\u001b[39m\n",
      "\u001b[32m  ✓ \u001b[39m\u001b[90mLibgpg_error_jll\u001b[39m\n",
      "\u001b[32m  ✓ \u001b[39m\u001b[90mPCRE_jll\u001b[39m\n",
      "\u001b[32m  ✓ \u001b[39m\u001b[90mOpenSpecFun_jll\u001b[39m\n",
      "\u001b[32m  ✓ \u001b[39m\u001b[90mChainRules\u001b[39m\n",
      "\u001b[32m  ✓ \u001b[39m\u001b[90mXorg_libpthread_stubs_jll\u001b[39m\n",
      "\u001b[32m  ✓ \u001b[39m\u001b[90mLibuuid_jll\u001b[39m\n",
      "\u001b[32m  ✓ \u001b[39m\u001b[90mFriBidi_jll\u001b[39m\n",
      "\u001b[32m  ✓ \u001b[39m\u001b[90mArrayInterface\u001b[39m\n",
      "\u001b[32m  ✓ \u001b[39m\u001b[90mFreeType2_jll\u001b[39m\n",
      "\u001b[32m  ✓ \u001b[39m\u001b[90mSplittablesBase\u001b[39m\n",
      "\u001b[32m  ✓ \u001b[39m\u001b[90mMultivariatePolynomials\u001b[39m\n",
      "\u001b[32m  ✓ \u001b[39m\u001b[90mLogExpFunctions\u001b[39m\n",
      "\u001b[32m  ✓ \u001b[39m\u001b[90mBangBang\u001b[39m\n",
      "\u001b[32m  ✓ \u001b[39m\u001b[90mRmath\u001b[39m\n",
      "\u001b[32m  ✓ \u001b[39m\u001b[90mContour\u001b[39m\n",
      "\u001b[32m  ✓ \u001b[39m\u001b[90mDiffResults\u001b[39m\n",
      "\u001b[32m  ✓ \u001b[39mRoots\n",
      "\u001b[32m  ✓ \u001b[39m\u001b[90mlibvorbis_jll\u001b[39m\n",
      "\u001b[32m  ✓ \u001b[39m\u001b[90mStructArrays\u001b[39m\n",
      "\u001b[32m  ✓ \u001b[39m\u001b[90mLibtiff_jll\u001b[39m\n",
      "\u001b[32m  ✓ \u001b[39m\u001b[90mPrettyTables\u001b[39m\n",
      "\u001b[32m  ✓ \u001b[39m\u001b[90mEllipsisNotation\u001b[39m\n",
      "\u001b[32m  ✓ \u001b[39m\u001b[90mLibgcrypt_jll\u001b[39m\n",
      "\u001b[32m  ✓ \u001b[39m\u001b[90mXML2_jll\u001b[39m\n",
      "\u001b[32m  ✓ \u001b[39m\u001b[90mFontconfig_jll\u001b[39m\n",
      "\u001b[32m  ✓ \u001b[39m\u001b[90mMicroCollections\u001b[39m\n",
      "\u001b[32m  ✓ \u001b[39m\u001b[90mLabelledArrays\u001b[39m\n",
      "\u001b[32m  ✓ \u001b[39m\u001b[90mDynamicPolynomials\u001b[39m\n",
      "\u001b[32m  ✓ \u001b[39m\u001b[90mIntervalSets\u001b[39m\n",
      "\u001b[32m  ✓ \u001b[39m\u001b[90mStatsBase\u001b[39m\n",
      "\u001b[32m  ✓ \u001b[39m\u001b[90mXSLT_jll\u001b[39m\n",
      "\u001b[32m  ✓ \u001b[39m\u001b[90mRecursiveArrayTools\u001b[39m\n",
      "\u001b[32m  ✓ \u001b[39m\u001b[90mWayland_jll\u001b[39m\n",
      "\u001b[32m  ✓ \u001b[39m\u001b[90mGettext_jll\u001b[39m\n",
      "\u001b[32m  ✓ \u001b[39m\u001b[90mXorg_libxcb_jll\u001b[39m\n",
      "\u001b[32m  ✓ \u001b[39m\u001b[90mSpecialFunctions\u001b[39m\n",
      "\u001b[32m  ✓ \u001b[39m\u001b[90mXorg_xcb_util_jll\u001b[39m\n",
      "\u001b[32m  ✓ \u001b[39m\u001b[90mGlib_jll\u001b[39m\n",
      "\u001b[32m  ✓ \u001b[39m\u001b[90mPlotUtils\u001b[39m\n",
      "\u001b[32m  ✓ \u001b[39m\u001b[90mTransducers\u001b[39m\n",
      "\u001b[32m  ✓ \u001b[39m\u001b[90mDiffRules\u001b[39m\n",
      "\u001b[32m  ✓ \u001b[39m\u001b[90mXorg_libX11_jll\u001b[39m\n",
      "\u001b[32m  ✓ \u001b[39m\u001b[90mXorg_xcb_util_image_jll\u001b[39m\n",
      "\u001b[32m  ✓ \u001b[39m\u001b[90mXorg_xcb_util_renderutil_jll\u001b[39m\n",
      "\u001b[32m  ✓ \u001b[39m\u001b[90mXorg_xcb_util_keysyms_jll\u001b[39m\n",
      "\u001b[32m  ✓ \u001b[39m\u001b[90mDomainSets\u001b[39m\n",
      "\u001b[32m  ✓ \u001b[39m\u001b[90mGeometryBasics\u001b[39m\n",
      "\u001b[32m  ✓ \u001b[39m\u001b[90mXorg_xcb_util_wm_jll\u001b[39m\n",
      "\u001b[32m  ✓ \u001b[39m\u001b[90mStatsFuns\u001b[39m\n",
      "\u001b[32m  ✓ \u001b[39m\u001b[90mXorg_libXrender_jll\u001b[39m\n",
      "\u001b[32m  ✓ \u001b[39m\u001b[90mXorg_libXext_jll\u001b[39m\n",
      "\u001b[32m  ✓ \u001b[39m\u001b[90mThreadsX\u001b[39m\n",
      "\u001b[32m  ✓ \u001b[39m\u001b[90mSciMLBase\u001b[39m\n",
      "\u001b[32m  ✓ \u001b[39m\u001b[90mXorg_libXfixes_jll\u001b[39m\n",
      "\u001b[32m  ✓ \u001b[39m\u001b[90mXorg_libxkbfile_jll\u001b[39m\n",
      "\u001b[32m  ✓ \u001b[39m\u001b[90mRecipesPipeline\u001b[39m\n",
      "\u001b[32m  ✓ \u001b[39m\u001b[90mLibglvnd_jll\u001b[39m\n",
      "\u001b[32m  ✓ \u001b[39m\u001b[90mXorg_libXinerama_jll\u001b[39m\n",
      "\u001b[32m  ✓ \u001b[39m\u001b[90mStatsModels\u001b[39m\n",
      "\u001b[32m  ✓ \u001b[39m\u001b[90mXorg_libXrandr_jll\u001b[39m\n",
      "\u001b[32m  ✓ \u001b[39m\u001b[90mCairo_jll\u001b[39m\n",
      "\u001b[32m  ✓ \u001b[39mForwardDiff\n",
      "\u001b[32m  ✓ \u001b[39m\u001b[90mXorg_libXcursor_jll\u001b[39m\n",
      "\u001b[32m  ✓ \u001b[39m\u001b[90mXorg_libXi_jll\u001b[39m\n",
      "\u001b[32m  ✓ \u001b[39m\u001b[90mXorg_xkbcomp_jll\u001b[39m\n",
      "\u001b[32m  ✓ \u001b[39m\u001b[90mPlotThemes\u001b[39m\n",
      "\u001b[32m  ✓ \u001b[39m\u001b[90mHarfBuzz_jll\u001b[39m\n",
      "\u001b[32m  ✓ \u001b[39m\u001b[90mGLFW_jll\u001b[39m\n",
      "\u001b[32m  ✓ \u001b[39m\u001b[90mXorg_xkeyboard_config_jll\u001b[39m\n",
      "\u001b[32m  ✓ \u001b[39m\u001b[90mlibass_jll\u001b[39m\n",
      "\u001b[32m  ✓ \u001b[39m\u001b[90mxkbcommon_jll\u001b[39m\n",
      "\u001b[32m  ✓ \u001b[39m\u001b[90mMetatheory\u001b[39m\n",
      "\u001b[32m  ✓ \u001b[39m\u001b[90mDistributions\u001b[39m\n",
      "\u001b[32m  ✓ \u001b[39m\u001b[90mQt5Base_jll\u001b[39m\n",
      "\u001b[32m  ✓ \u001b[39m\u001b[90mFFMPEG_jll\u001b[39m\n",
      "\u001b[32m  ✓ \u001b[39m\u001b[90mFFMPEG\u001b[39m\n",
      "\u001b[32m  ✓ \u001b[39m\u001b[90mGR_jll\u001b[39m\n",
      "\u001b[32m  ✓ \u001b[39mGLM\n",
      "\u001b[32m  ✓ \u001b[39mZygote\n",
      "\u001b[33m  ✓ \u001b[39m\u001b[90mParsers\u001b[39m\n",
      "\u001b[32m  ✓ \u001b[39m\u001b[90mInlineStrings\u001b[39m\n",
      "\u001b[33m  ✓ \u001b[39m\u001b[90mJSON\u001b[39m\n",
      "\u001b[32m  ✓ \u001b[39mDataFrames\n",
      "\u001b[32m  ✓ \u001b[39m\u001b[90mWeakRefStrings\u001b[39m\n",
      "\u001b[32m  ✓ \u001b[39m\u001b[90mSymbolicUtils\u001b[39m\n",
      "\u001b[32m  ✓ \u001b[39mDataFramesMeta\n",
      "\u001b[32m  ✓ \u001b[39m\u001b[90mGR\u001b[39m\n",
      "\u001b[32m  ✓ \u001b[39m\u001b[90mTimeZones\u001b[39m\n",
      "\u001b[32m  ✓ \u001b[39mCSV\n",
      "\u001b[32m  ✓ \u001b[39m\u001b[90mRData\u001b[39m\n",
      "\u001b[32m  ✓ \u001b[39mRDatasets\n",
      "\u001b[32m  ✓ \u001b[39mSymbolics\n",
      "\u001b[32m  ✓ \u001b[39mPlots\n",
      "  155 dependencies successfully precompiled in 90 seconds (60 already precompiled)\n",
      "  \u001b[33m3\u001b[39m dependencies precompiled but different versions are currently loaded. Restart julia to access the new versions\n",
      "\u001b[32m\u001b[1m   Resolving\u001b[22m\u001b[39m package versions...\n",
      "\u001b[32m\u001b[1m  No Changes\u001b[22m\u001b[39m to `C:\\Users\\Dawie\\Dropbox\\2022\\318-macro\\git\\Macro-318\\Project.toml`\n",
      "\u001b[32m\u001b[1m  No Changes\u001b[22m\u001b[39m to `C:\\Users\\Dawie\\Dropbox\\2022\\318-macro\\git\\Macro-318\\Manifest.toml`\n",
      "\u001b[32m\u001b[1m   Resolving\u001b[22m\u001b[39m package versions...\n",
      "\u001b[32m\u001b[1m  No Changes\u001b[22m\u001b[39m to `C:\\Users\\Dawie\\Dropbox\\2022\\318-macro\\git\\Macro-318\\Project.toml`\n",
      "\u001b[32m\u001b[1m  No Changes\u001b[22m\u001b[39m to `C:\\Users\\Dawie\\Dropbox\\2022\\318-macro\\git\\Macro-318\\Manifest.toml`\n",
      "\u001b[32m\u001b[1m   Resolving\u001b[22m\u001b[39m package versions...\n",
      "\u001b[32m\u001b[1m  No Changes\u001b[22m\u001b[39m to `C:\\Users\\Dawie\\Dropbox\\2022\\318-macro\\git\\Macro-318\\Project.toml`\n",
      "\u001b[32m\u001b[1m  No Changes\u001b[22m\u001b[39m to `C:\\Users\\Dawie\\Dropbox\\2022\\318-macro\\git\\Macro-318\\Manifest.toml`\n",
      "\u001b[32m\u001b[1m   Resolving\u001b[22m\u001b[39m package versions...\n",
      "\u001b[32m\u001b[1m  No Changes\u001b[22m\u001b[39m to `C:\\Users\\Dawie\\Dropbox\\2022\\318-macro\\git\\Macro-318\\Project.toml`\n",
      "\u001b[32m\u001b[1m  No Changes\u001b[22m\u001b[39m to `C:\\Users\\Dawie\\Dropbox\\2022\\318-macro\\git\\Macro-318\\Manifest.toml`\n",
      "┌ Info: Precompiling GLM [38e38edf-8417-5370-95a0-9cbb8c7f171a]\n",
      "└ @ Base loading.jl:1423\n",
      "WARNING: could not import StatsBase.adjr² into GLM\n",
      "┌ Info: Precompiling Plots [91a5bcdd-55d7-5caf-9e0b-520d859cae80]\n",
      "└ @ Base loading.jl:1423\n"
     ]
    }
   ],
   "source": [
    "import Pkg\n",
    "\n",
    "Pkg.add(\"DataFrames\") # Package for working with data\n",
    "Pkg.add(\"GLM\") # Package for linear regression\n",
    "Pkg.add(\"LinearAlgebra\") # Package for linear algebra applications\n",
    "Pkg.add(\"Plots\") # Package for plotting\n",
    "Pkg.add(\"TypeTree\") # Package that shows type hierarchy in tree form\n",
    "\n",
    "using Base: show_supertypes\n",
    "using DataFrames\n",
    "using GLM\n",
    "using LinearAlgebra\n",
    "using Plots\n",
    "using TypeTree"
   ]
  },
  {
   "cell_type": "code",
   "execution_count": null,
   "metadata": {
    "slideshow": {
     "slide_type": "fragment"
    }
   },
   "outputs": [],
   "source": [
    "import Pkg\n",
    "\n",
    "Pkg.add(\"DataFrames\") # Package for working with data\n",
    "Pkg.add(\"GLM\") # Package for linear regression\n",
    "Pkg.add(\"LinearAlgebra\") # Package for linear algebra applications\n",
    "Pkg.add(\"Plots\") # Package for plotting\n",
    "Pkg.add(\"TypeTree\") # Package that shows type hierarchy in tree form\n",
    "\n",
    "using Base: show_supertypes\n",
    "using DataFrames\n",
    "using GLM\n",
    "using LinearAlgebra\n",
    "using Plots\n",
    "using TypeTree"
   ]
  },
  {
   "cell_type": "markdown",
   "metadata": {
    "slideshow": {
     "slide_type": "slide"
    }
   },
   "source": [
    "# Variables and types\n",
    "\n",
    "After having successfully written your `Hello World!` code in Julia, a natural place to continue your journey is with variables. \n",
    "\n",
    "A variable in a programming language is going to be some sort of symbol that we assign some value. "
   ]
  },
  {
   "cell_type": "code",
   "execution_count": 3,
   "metadata": {
    "slideshow": {
     "slide_type": "fragment"
    }
   },
   "outputs": [
    {
     "data": {
      "text/plain": [
       "2"
      ]
     },
     "execution_count": 3,
     "metadata": {},
     "output_type": "execute_result"
    }
   ],
   "source": [
    "x = 2 # We assign the value of 2 to the variable x"
   ]
  },
  {
   "cell_type": "code",
   "execution_count": 4,
   "metadata": {
    "slideshow": {
     "slide_type": "fragment"
    }
   },
   "outputs": [
    {
     "data": {
      "text/plain": [
       "Int64"
      ]
     },
     "execution_count": 4,
     "metadata": {},
     "output_type": "execute_result"
    }
   ],
   "source": [
    "typeof(x) # Command to find the type of the x variable"
   ]
  },
  {
   "cell_type": "markdown",
   "metadata": {
    "slideshow": {
     "slide_type": "fragment"
    }
   },
   "source": [
    "We see that the type of the variable is `Int64`. \n",
    "\n",
    "What is an `Int64`? "
   ]
  },
  {
   "cell_type": "markdown",
   "metadata": {
    "slideshow": {
     "slide_type": "slide"
    }
   },
   "source": [
    "# Variables and types\n",
    "\n",
    "We can now work with `x` as if it represents the value of `2`. \n",
    "\n",
    "Since an integer is a number, we can perform basic mathematical operations. "
   ]
  },
  {
   "cell_type": "code",
   "execution_count": 5,
   "metadata": {
    "slideshow": {
     "slide_type": "fragment"
    }
   },
   "outputs": [
    {
     "data": {
      "text/plain": [
       "4"
      ]
     },
     "execution_count": 5,
     "metadata": {},
     "output_type": "execute_result"
    }
   ],
   "source": [
    "y = x + 2"
   ]
  },
  {
   "cell_type": "code",
   "execution_count": 6,
   "metadata": {
    "slideshow": {
     "slide_type": "fragment"
    }
   },
   "outputs": [
    {
     "data": {
      "text/plain": [
       "Int64"
      ]
     },
     "execution_count": 6,
     "metadata": {},
     "output_type": "execute_result"
    }
   ],
   "source": [
    "typeof(y)"
   ]
  },
  {
   "cell_type": "markdown",
   "metadata": {
    "slideshow": {
     "slide_type": "slide"
    }
   },
   "source": [
    "# Variables and types\n",
    "\n",
    "We can reassign the variable `x` to another value, even with another type. "
   ]
  },
  {
   "cell_type": "code",
   "execution_count": 7,
   "metadata": {
    "slideshow": {
     "slide_type": "fragment"
    }
   },
   "outputs": [
    {
     "data": {
      "text/plain": [
       "3.1345"
      ]
     },
     "execution_count": 7,
     "metadata": {},
     "output_type": "execute_result"
    }
   ],
   "source": [
    "x = 3.1345"
   ]
  },
  {
   "cell_type": "code",
   "execution_count": 8,
   "metadata": {
    "slideshow": {
     "slide_type": "fragment"
    }
   },
   "outputs": [
    {
     "data": {
      "text/plain": [
       "Float64"
      ]
     },
     "execution_count": 8,
     "metadata": {},
     "output_type": "execute_result"
    }
   ],
   "source": [
    "typeof(x)"
   ]
  },
  {
   "cell_type": "markdown",
   "metadata": {
    "slideshow": {
     "slide_type": "fragment"
    }
   },
   "source": [
    "Now `x` is a floating point number. \n",
    "\n",
    "What is a floating point number? \n",
    "\n",
    "This is an *approximation* to a decimal (or real) number. "
   ]
  },
  {
   "cell_type": "markdown",
   "metadata": {
    "slideshow": {
     "slide_type": "slide"
    }
   },
   "source": [
    "# Primitive data types\n",
    "\n",
    "There are several important data types that are at the core of computing. Some of these include, \n",
    "\n",
    "- **Booleans**: true and false\n",
    "- **Integers**: -3, -2, -1, 0, 1, 2, 3, etc.\n",
    "- **Floating point numbers**: 3.14, 2.95, 1.0, etc.\n",
    "- **Strings**: \"abc\", \"cat\", \"hello there\"\n",
    "- **Characters**: 'f', 'c', 'u'"
   ]
  },
  {
   "cell_type": "markdown",
   "metadata": {
    "slideshow": {
     "slide_type": "slide"
    }
   },
   "source": [
    "# Arithmetic operators\n",
    "\n",
    "We can perform basic arithmetic operations. \n",
    "\n",
    "Operators perform operations. \n",
    "\n",
    "These common operators are called the **arithmetic operators**. "
   ]
  },
  {
   "cell_type": "markdown",
   "metadata": {
    "slideshow": {
     "slide_type": "fragment"
    }
   },
   "source": [
    "| Expression | Name           | Description                              |\n",
    "| :--        | :--            | :--                                      |\n",
    "| `x + y`    | binary plus    | performs addition                        |\n",
    "| `x - y`    | binary minus   | performs subtraction                     |\n",
    "| `x * y`    | times          | performs multiplication                  |\n",
    "| `x / y`    | divide         | performs division                        |\n",
    "| `x ÷ y`    | integer divide | `x / y`, truncated to an integer         |\n",
    "| `x \\ y`    | inverse divide | equivalent to `y / x`                    |\n",
    "| `x ^ y`    | power          | raises `x` to the `y`th power            |\n",
    "| `x % y`    | remainder      | equivalent to `rem(x,y)`                 |"
   ]
  },
  {
   "cell_type": "markdown",
   "metadata": {
    "slideshow": {
     "slide_type": "slide"
    }
   },
   "source": [
    "# Arithmetic operators\n",
    "\n",
    "Here are some simple examples that utilise these arithmetic operators. "
   ]
  },
  {
   "cell_type": "code",
   "execution_count": 9,
   "metadata": {
    "slideshow": {
     "slide_type": "fragment"
    }
   },
   "outputs": [],
   "source": [
    "x = 2; y = 10;"
   ]
  },
  {
   "cell_type": "code",
   "execution_count": 10,
   "metadata": {
    "slideshow": {
     "slide_type": "fragment"
    }
   },
   "outputs": [
    {
     "data": {
      "text/plain": [
       "20"
      ]
     },
     "execution_count": 10,
     "metadata": {},
     "output_type": "execute_result"
    }
   ],
   "source": [
    "x * y"
   ]
  },
  {
   "cell_type": "code",
   "execution_count": 11,
   "metadata": {
    "slideshow": {
     "slide_type": "fragment"
    }
   },
   "outputs": [
    {
     "data": {
      "text/plain": [
       "1024"
      ]
     },
     "execution_count": 11,
     "metadata": {},
     "output_type": "execute_result"
    }
   ],
   "source": [
    "x ^ y"
   ]
  },
  {
   "cell_type": "code",
   "execution_count": 12,
   "metadata": {
    "slideshow": {
     "slide_type": "fragment"
    }
   },
   "outputs": [
    {
     "data": {
      "text/plain": [
       "5.0"
      ]
     },
     "execution_count": 12,
     "metadata": {},
     "output_type": "execute_result"
    }
   ],
   "source": [
    "y / x # Note that division converts integers to floats"
   ]
  },
  {
   "cell_type": "code",
   "execution_count": 13,
   "metadata": {
    "slideshow": {
     "slide_type": "fragment"
    }
   },
   "outputs": [
    {
     "data": {
      "text/plain": [
       "-26"
      ]
     },
     "execution_count": 13,
     "metadata": {},
     "output_type": "execute_result"
    }
   ],
   "source": [
    "2x - 3y"
   ]
  },
  {
   "cell_type": "code",
   "execution_count": 14,
   "metadata": {
    "slideshow": {
     "slide_type": "fragment"
    }
   },
   "outputs": [
    {
     "data": {
      "text/plain": [
       "1//5"
      ]
     },
     "execution_count": 14,
     "metadata": {},
     "output_type": "execute_result"
    }
   ],
   "source": [
    "x // y"
   ]
  },
  {
   "cell_type": "markdown",
   "metadata": {
    "slideshow": {
     "slide_type": "slide"
    }
   },
   "source": [
    "# Augmentation operators\n",
    "\n",
    "Augmentation operators will be especially important in the section on control flow."
   ]
  },
  {
   "cell_type": "code",
   "execution_count": 15,
   "metadata": {
    "slideshow": {
     "slide_type": "fragment"
    }
   },
   "outputs": [
    {
     "data": {
      "text/plain": [
       "3"
      ]
     },
     "execution_count": 15,
     "metadata": {},
     "output_type": "execute_result"
    }
   ],
   "source": [
    "x += 1 # same as x = x + 1 "
   ]
  },
  {
   "cell_type": "code",
   "execution_count": 16,
   "metadata": {
    "slideshow": {
     "slide_type": "fragment"
    }
   },
   "outputs": [
    {
     "data": {
      "text/plain": [
       "6"
      ]
     },
     "execution_count": 16,
     "metadata": {},
     "output_type": "execute_result"
    }
   ],
   "source": [
    "x *= 2 # same as x = x * 2"
   ]
  },
  {
   "cell_type": "code",
   "execution_count": 17,
   "metadata": {
    "slideshow": {
     "slide_type": "fragment"
    }
   },
   "outputs": [
    {
     "data": {
      "text/plain": [
       "3.0"
      ]
     },
     "execution_count": 17,
     "metadata": {},
     "output_type": "execute_result"
    }
   ],
   "source": [
    "x /= 2 # same as x = x / 2 "
   ]
  },
  {
   "cell_type": "markdown",
   "metadata": {
    "slideshow": {
     "slide_type": "slide"
    }
   },
   "source": [
    "# Comparison operators\n",
    "\n",
    "These operators help to generate true and false values for our conditional statements\n",
    "\n",
    "| Operator  | Name                     |\n",
    "| :--       | :--                      |\n",
    "| `==`      | equality                 |\n",
    "| `!=`, `≠` | inequality               |\n",
    "| `<`       | less than                |\n",
    "| `<=`, `≤` | less than or equal to    |\n",
    "| `>`       | greater than             |\n",
    "| `>=`, `≥` | greater than or equal to |\n"
   ]
  },
  {
   "cell_type": "code",
   "execution_count": 18,
   "metadata": {
    "slideshow": {
     "slide_type": "fragment"
    }
   },
   "outputs": [],
   "source": [
    "x = 3; y = 2;"
   ]
  },
  {
   "cell_type": "code",
   "execution_count": 19,
   "metadata": {
    "slideshow": {
     "slide_type": "fragment"
    }
   },
   "outputs": [
    {
     "data": {
      "text/plain": [
       "false"
      ]
     },
     "execution_count": 19,
     "metadata": {},
     "output_type": "execute_result"
    }
   ],
   "source": [
    "x < y # If x is less than y this will return true, otherwise false"
   ]
  },
  {
   "cell_type": "code",
   "execution_count": 20,
   "metadata": {
    "slideshow": {
     "slide_type": "fragment"
    }
   },
   "outputs": [
    {
     "data": {
      "text/plain": [
       "true"
      ]
     },
     "execution_count": 20,
     "metadata": {},
     "output_type": "execute_result"
    }
   ],
   "source": [
    "x != y # If x is not equal to y then this will return true, otherwise false"
   ]
  },
  {
   "cell_type": "code",
   "execution_count": 21,
   "metadata": {
    "slideshow": {
     "slide_type": "fragment"
    }
   },
   "outputs": [
    {
     "data": {
      "text/plain": [
       "false"
      ]
     },
     "execution_count": 21,
     "metadata": {},
     "output_type": "execute_result"
    }
   ],
   "source": [
    "x == y # If x is equal to y this will return true, otherwise false"
   ]
  },
  {
   "cell_type": "markdown",
   "metadata": {
    "slideshow": {
     "slide_type": "slide"
    }
   },
   "source": [
    "# Data Structures\n",
    "\n",
    "There are several types of containers, such as arrays and tuples, in Julia. \n",
    "\n",
    "These containers contain data of different types. \n",
    "\n",
    "We explore some of the most commonly used containers here. \n",
    "\n",
    "Note that we have both **mutable** and **immutable** containers in Julia."
   ]
  },
  {
   "cell_type": "markdown",
   "metadata": {
    "slideshow": {
     "slide_type": "slide"
    }
   },
   "source": [
    "# Tuples\n",
    "\n",
    "Let us start with one of the basic types of containers, which are referred to as tuples. \n",
    "\n",
    "These containers are immutable, ordered and of a fixed length. "
   ]
  },
  {
   "cell_type": "code",
   "execution_count": 22,
   "metadata": {
    "slideshow": {
     "slide_type": "fragment"
    }
   },
   "outputs": [
    {
     "data": {
      "text/plain": [
       "(10, 20, 30)"
      ]
     },
     "execution_count": 22,
     "metadata": {},
     "output_type": "execute_result"
    }
   ],
   "source": [
    "x = (10, 20, 30)"
   ]
  },
  {
   "cell_type": "code",
   "execution_count": 23,
   "metadata": {
    "slideshow": {
     "slide_type": "fragment"
    }
   },
   "outputs": [
    {
     "data": {
      "text/plain": [
       "10"
      ]
     },
     "execution_count": 23,
     "metadata": {},
     "output_type": "execute_result"
    }
   ],
   "source": [
    "x[1] # First element of the tuple"
   ]
  },
  {
   "cell_type": "code",
   "execution_count": 24,
   "metadata": {
    "slideshow": {
     "slide_type": "fragment"
    }
   },
   "outputs": [
    {
     "data": {
      "text/plain": [
       "(10, 20, 30)"
      ]
     },
     "execution_count": 24,
     "metadata": {},
     "output_type": "execute_result"
    }
   ],
   "source": [
    "a, b, c = x # With this method of unpacking we have that a = 10, b = 20, c = 30"
   ]
  },
  {
   "cell_type": "code",
   "execution_count": 25,
   "metadata": {
    "slideshow": {
     "slide_type": "fragment"
    }
   },
   "outputs": [
    {
     "data": {
      "text/plain": [
       "10"
      ]
     },
     "execution_count": 25,
     "metadata": {},
     "output_type": "execute_result"
    }
   ],
   "source": [
    "a "
   ]
  },
  {
   "cell_type": "markdown",
   "metadata": {
    "slideshow": {
     "slide_type": "slide"
    }
   },
   "source": [
    "## Arrays\n",
    "\n",
    "One of the most important containers in Julia are arrays. \n",
    "\n",
    "You will use tuples and arrays quite frequently in your code.  \n",
    "\n",
    "An array is a multi-dimensional grid of values. \n",
    "\n",
    "Vectors and matrices, such as those from mathematics, are types of arrays in Julia. "
   ]
  },
  {
   "cell_type": "markdown",
   "metadata": {
    "slideshow": {
     "slide_type": "slide"
    }
   },
   "source": [
    "# One dimensional arrays (`vectors`)\n",
    "\n",
    "A vector is a one-dimensional array. \n",
    "\n",
    "A column (row) vector is similar to a column (row) of values that you would have in Excel.\n",
    "\n",
    "**Column** vector is a list of values separated with commas.\n",
    "\n",
    "**Row** vector is a list of values separated with spaces."
   ]
  },
  {
   "cell_type": "code",
   "execution_count": 33,
   "metadata": {
    "slideshow": {
     "slide_type": "fragment"
    }
   },
   "outputs": [
    {
     "data": {
      "text/plain": [
       "2-element Vector{Any}:\n",
       " 1\n",
       "  \"abc\""
      ]
     },
     "execution_count": 33,
     "metadata": {},
     "output_type": "execute_result"
    }
   ],
   "source": [
    "col_vector = [1, \"abc\"] # example of a column vector (one dimensional array)"
   ]
  },
  {
   "cell_type": "code",
   "execution_count": 34,
   "metadata": {
    "slideshow": {
     "slide_type": "fragment"
    }
   },
   "outputs": [
    {
     "data": {
      "text/plain": [
       "(1, \"abc\")"
      ]
     },
     "execution_count": 34,
     "metadata": {},
     "output_type": "execute_result"
    }
   ],
   "source": [
    "not_col_vector = 1, \"abc\" # this creates a tuple! Remember the closing brackets for a vector. "
   ]
  },
  {
   "cell_type": "code",
   "execution_count": 35,
   "metadata": {
    "slideshow": {
     "slide_type": "fragment"
    }
   },
   "outputs": [
    {
     "data": {
      "text/plain": [
       "1×2 Matrix{Any}:\n",
       " 1  \"abc\""
      ]
     },
     "execution_count": 35,
     "metadata": {},
     "output_type": "execute_result"
    }
   ],
   "source": [
    "row_vector = [1 \"abc\"] # example of a row vector (one dimensional array)"
   ]
  },
  {
   "cell_type": "markdown",
   "metadata": {
    "slideshow": {
     "slide_type": "slide"
    }
   },
   "source": [
    "# One dimensional arrays (`vectors`)\n",
    "\n",
    "The big difference between a tuple and array is that we can change the values of the array. \n",
    "\n",
    "Below is an example where we change the first component of the array. \n",
    "\n",
    "This means that arrays are **mutable**. "
   ]
  },
  {
   "cell_type": "code",
   "execution_count": 36,
   "metadata": {
    "slideshow": {
     "slide_type": "fragment"
    }
   },
   "outputs": [
    {
     "data": {
      "text/plain": [
       "\"def\""
      ]
     },
     "execution_count": 36,
     "metadata": {},
     "output_type": "execute_result"
    }
   ],
   "source": [
    "col_vector[1] = \"def\""
   ]
  },
  {
   "cell_type": "code",
   "execution_count": 37,
   "metadata": {
    "slideshow": {
     "slide_type": "fragment"
    }
   },
   "outputs": [
    {
     "data": {
      "text/plain": [
       "2-element Vector{Any}:\n",
       " \"def\"\n",
       " \"abc\""
      ]
     },
     "execution_count": 37,
     "metadata": {},
     "output_type": "execute_result"
    }
   ],
   "source": [
    "col_vector"
   ]
  },
  {
   "cell_type": "markdown",
   "metadata": {
    "slideshow": {
     "slide_type": "fragment"
    }
   },
   "source": [
    "You can now see that the first element of the vector has changed from `1` to `def`. "
   ]
  },
  {
   "cell_type": "markdown",
   "metadata": {
    "slideshow": {
     "slide_type": "slide"
    }
   },
   "source": [
    "# Mutating with `push!()`\n",
    "\n",
    "We can use the `push!()` function to add values to this vector. \n",
    "\n",
    "This grows the size of the vector. \n",
    "\n",
    "You might notice the `!` operator after `push`. \n",
    "\n",
    "This exclamation mark doesn't do anything particularly special in Julia. \n",
    "\n",
    "It is a coding convention to let the user know that the input is going to be altered / changed. \n",
    "\n",
    "In our case it lets us know that the vector is going to be mutated.\n",
    "\n",
    "Let us illustrate with an example. "
   ]
  },
  {
   "cell_type": "markdown",
   "metadata": {
    "slideshow": {
     "slide_type": "slide"
    }
   },
   "source": [
    "# Mutating with `push!()`\n",
    "\n",
    "Let us illustrate how the `push!()` functions works with an example. "
   ]
  },
  {
   "cell_type": "code",
   "execution_count": 38,
   "metadata": {
    "slideshow": {
     "slide_type": "fragment"
    }
   },
   "outputs": [
    {
     "data": {
      "text/plain": [
       "3-element Vector{Any}:\n",
       " \"def\"\n",
       " \"abc\"\n",
       " \"hij\""
      ]
     },
     "execution_count": 38,
     "metadata": {},
     "output_type": "execute_result"
    }
   ],
   "source": [
    "push!(col_vector, \"hij\") # col_vector is mutated here. It changes from 2 element vector to 3 element vector. "
   ]
  },
  {
   "cell_type": "code",
   "execution_count": 39,
   "metadata": {
    "slideshow": {
     "slide_type": "fragment"
    }
   },
   "outputs": [
    {
     "data": {
      "text/plain": [
       "4-element Vector{Any}:\n",
       " \"def\"\n",
       " \"abc\"\n",
       " \"hij\"\n",
       " \"klm\""
      ]
     },
     "execution_count": 39,
     "metadata": {},
     "output_type": "execute_result"
    }
   ],
   "source": [
    "push!(col_vector, \"klm\") # We can repeat and it will keep adding to the vector.  "
   ]
  },
  {
   "cell_type": "markdown",
   "metadata": {
    "slideshow": {
     "slide_type": "slide"
    }
   },
   "source": [
    "# Creating arrays\n",
    "\n",
    "One easy way to generate an array is using a **sequence**. \n",
    "\n",
    "We show multiple ways below to do this. \n",
    "\n",
    "**Note**: If you want to store the values in an array, you need to use the `collect()` function. "
   ]
  },
  {
   "cell_type": "code",
   "execution_count": 1,
   "metadata": {
    "slideshow": {
     "slide_type": "fragment"
    }
   },
   "outputs": [
    {
     "data": {
      "text/plain": [
       "1:10:21"
      ]
     },
     "metadata": {},
     "output_type": "display_data"
    }
   ],
   "source": [
    "seq_x = 1:10:21 # This is a sequence that starts at one and ends at 21 with an increment of 10. "
   ]
  },
  {
   "cell_type": "code",
   "execution_count": 3,
   "metadata": {},
   "outputs": [
    {
     "data": {
      "text/plain": [
       "StepRange{Int64, Int64}"
      ]
     },
     "metadata": {},
     "output_type": "display_data"
    }
   ],
   "source": [
    "typeof(seq_x)"
   ]
  },
  {
   "cell_type": "code",
   "execution_count": 7,
   "metadata": {},
   "outputs": [
    {
     "data": {
      "text/plain": [
       "3-element Vector{Float64}:\n",
       "  0.8414709848078965\n",
       " -0.9999902065507035\n",
       "  0.8366556385360561"
      ]
     },
     "metadata": {},
     "output_type": "display_data"
    }
   ],
   "source": [
    "sin.(seq_x)"
   ]
  },
  {
   "cell_type": "code",
   "execution_count": 8,
   "metadata": {
    "slideshow": {
     "slide_type": "fragment"
    }
   },
   "outputs": [
    {
     "data": {
      "text/plain": [
       "3-element Vector{Int64}:\n",
       "  1\n",
       " 11\n",
       " 21"
      ]
     },
     "metadata": {},
     "output_type": "display_data"
    }
   ],
   "source": [
    "collect(seq_x) # Collects the values for the sequence into a vector"
   ]
  },
  {
   "cell_type": "code",
   "execution_count": 48,
   "metadata": {
    "slideshow": {
     "slide_type": "fragment"
    }
   },
   "outputs": [
    {
     "data": {
      "text/plain": [
       "1.0:10.0:21.0"
      ]
     },
     "execution_count": 48,
     "metadata": {},
     "output_type": "execute_result"
    }
   ],
   "source": [
    "seq_y = range(1, stop = 21, length = 3) # Another way to do the same as above"
   ]
  },
  {
   "cell_type": "code",
   "execution_count": 50,
   "metadata": {
    "slideshow": {
     "slide_type": "fragment"
    }
   },
   "outputs": [
    {
     "data": {
      "text/plain": [
       "3-element LinRange{Float64, Int64}:\n",
       " 1.0,11.0,21.0"
      ]
     },
     "execution_count": 50,
     "metadata": {},
     "output_type": "execute_result"
    }
   ],
   "source": [
    "seq_z = LinRange(1, 21, 3) # Still another way to do the same as above"
   ]
  },
  {
   "cell_type": "markdown",
   "metadata": {
    "slideshow": {
     "slide_type": "slide"
    }
   },
   "source": [
    "# Creating arrays \n",
    "\n",
    "For creation of arrays we frequently use functions like `zeros()`, `ones()`, `fill()` and `rand()`."
   ]
  },
  {
   "cell_type": "code",
   "execution_count": 53,
   "metadata": {
    "slideshow": {
     "slide_type": "fragment"
    }
   },
   "outputs": [
    {
     "data": {
      "text/plain": [
       "3-element Vector{Float64}:\n",
       " 0.0\n",
       " 0.0\n",
       " 0.0"
      ]
     },
     "execution_count": 53,
     "metadata": {},
     "output_type": "execute_result"
    }
   ],
   "source": [
    "zeros(3) # Creates a column vector of zeros with length 3."
   ]
  },
  {
   "cell_type": "code",
   "execution_count": 54,
   "metadata": {
    "slideshow": {
     "slide_type": "fragment"
    }
   },
   "outputs": [
    {
     "data": {
      "text/plain": [
       "3-element Vector{Int64}:\n",
       " 0\n",
       " 0\n",
       " 0"
      ]
     },
     "execution_count": 54,
     "metadata": {},
     "output_type": "execute_result"
    }
   ],
   "source": [
    "zeros(Int, 3) # We can specify that the zeros need to be of type `Int64`. "
   ]
  },
  {
   "cell_type": "code",
   "execution_count": 55,
   "metadata": {
    "slideshow": {
     "slide_type": "fragment"
    }
   },
   "outputs": [
    {
     "data": {
      "text/plain": [
       "3-element Vector{Float64}:\n",
       " 1.0\n",
       " 1.0\n",
       " 1.0"
      ]
     },
     "execution_count": 55,
     "metadata": {},
     "output_type": "execute_result"
    }
   ],
   "source": [
    "ones(3) # Same thing as `zeros()`, but fills with ones"
   ]
  },
  {
   "cell_type": "markdown",
   "metadata": {
    "slideshow": {
     "slide_type": "slide"
    }
   },
   "source": [
    "# Creating arrays \n",
    "\n",
    "For creation of arrays we frequently use functions like `zeros()`, `ones()`, `fill()` and `rand()`."
   ]
  },
  {
   "cell_type": "code",
   "execution_count": 57,
   "metadata": {
    "slideshow": {
     "slide_type": "fragment"
    }
   },
   "outputs": [
    {
     "data": {
      "text/plain": [
       "3-element Vector{Int64}:\n",
       " 2\n",
       " 2\n",
       " 2"
      ]
     },
     "execution_count": 57,
     "metadata": {},
     "output_type": "execute_result"
    }
   ],
   "source": [
    "fill(2, 3) # Fill a three element column with the value of `2`"
   ]
  },
  {
   "cell_type": "code",
   "execution_count": 58,
   "metadata": {
    "slideshow": {
     "slide_type": "fragment"
    }
   },
   "outputs": [
    {
     "data": {
      "text/plain": [
       "3-element Vector{Float64}:\n",
       " 0.9947097400925093\n",
       " 0.6764130504332154\n",
       " 0.01750999368374695"
      ]
     },
     "execution_count": 58,
     "metadata": {},
     "output_type": "execute_result"
    }
   ],
   "source": [
    "rand(3) # Values chosen will lie between zero and one. chosen with equal probability. "
   ]
  },
  {
   "cell_type": "code",
   "execution_count": 59,
   "metadata": {
    "slideshow": {
     "slide_type": "fragment"
    }
   },
   "outputs": [
    {
     "data": {
      "text/plain": [
       "3-element Vector{Float64}:\n",
       " -0.4202301726863895\n",
       "  1.0213219464621448\n",
       "  1.0034105723680253"
      ]
     },
     "execution_count": 59,
     "metadata": {},
     "output_type": "execute_result"
    }
   ],
   "source": [
    "randn(3) # Values chosen randomly from Normal distribution "
   ]
  },
  {
   "cell_type": "markdown",
   "metadata": {
    "slideshow": {
     "slide_type": "slide"
    }
   },
   "source": [
    "# Two dimensional arrays (`matrices`)\n",
    "\n",
    "We can also create matrices (two dimensional arrays) in Julia.\n",
    "\n",
    "A matrix has both rows and columns. \n",
    "\n",
    "This would be like a table in Excel with rows and columns. \n",
    "\n",
    "To create a matrix we separate rows by spaces and columns by semicolons."
   ]
  },
  {
   "cell_type": "code",
   "execution_count": 40,
   "metadata": {
    "slideshow": {
     "slide_type": "fragment"
    }
   },
   "outputs": [
    {
     "data": {
      "text/plain": [
       "3×3 Matrix{Int64}:\n",
       " 1  2  3\n",
       " 4  5  6\n",
       " 7  8  9"
      ]
     },
     "execution_count": 40,
     "metadata": {},
     "output_type": "execute_result"
    }
   ],
   "source": [
    "matrix_x = [1 2 3; 4 5 6; 7 8 9] # Rows separated by spaces, columns separated by semicolons."
   ]
  },
  {
   "cell_type": "code",
   "execution_count": 41,
   "metadata": {
    "slideshow": {
     "slide_type": "fragment"
    }
   },
   "outputs": [
    {
     "data": {
      "text/plain": [
       "3×3 Matrix{Int64}:\n",
       " 1  2  3\n",
       " 4  5  6\n",
       " 7  8  9"
      ]
     },
     "execution_count": 41,
     "metadata": {},
     "output_type": "execute_result"
    }
   ],
   "source": [
    "matrix_y = [1 2 3;\n",
    "            4 5 6;\n",
    "            7 8 9] # Another way to write the matrix above"
   ]
  },
  {
   "cell_type": "markdown",
   "metadata": {
    "slideshow": {
     "slide_type": "slide"
    }
   },
   "source": [
    "# Two dimensional arrays (`matrices`)\n",
    "\n",
    "Those of you who have done statistics or mathematics know how important matrices are. \n",
    "\n",
    "Matrices are a fundamental part of linear algebra. \n",
    "\n",
    "Linear algebra is a super important area in mathematics (one of my favourites). \n",
    "\n",
    "There is an `optional` section on linear algebra in the full tutorial notes. \n",
    "\n",
    "If you want to do **Honours in Economics**, then I suggest getting comfortable with linear algebra!"
   ]
  },
  {
   "cell_type": "markdown",
   "metadata": {
    "slideshow": {
     "slide_type": "slide"
    }
   },
   "source": [
    "# Creating two dimensional arrays\n",
    "\n",
    "We can also create two dimensional arrays with `zeros()`, `ones()`, `fill()` and `rand()`. \n"
   ]
  },
  {
   "cell_type": "code",
   "execution_count": 60,
   "metadata": {
    "slideshow": {
     "slide_type": "fragment"
    }
   },
   "outputs": [
    {
     "data": {
      "text/plain": [
       "3×3 Matrix{Float64}:\n",
       " 0.0  0.0  0.0\n",
       " 0.0  0.0  0.0\n",
       " 0.0  0.0  0.0"
      ]
     },
     "execution_count": 60,
     "metadata": {},
     "output_type": "execute_result"
    }
   ],
   "source": [
    "zeros(3, 3)"
   ]
  },
  {
   "cell_type": "code",
   "execution_count": 61,
   "metadata": {
    "slideshow": {
     "slide_type": "fragment"
    }
   },
   "outputs": [
    {
     "data": {
      "text/plain": [
       "3×3 Matrix{Float64}:\n",
       " 1.0  1.0  1.0\n",
       " 1.0  1.0  1.0\n",
       " 1.0  1.0  1.0"
      ]
     },
     "execution_count": 61,
     "metadata": {},
     "output_type": "execute_result"
    }
   ],
   "source": [
    "ones(3, 3)"
   ]
  },
  {
   "cell_type": "code",
   "execution_count": 62,
   "metadata": {
    "slideshow": {
     "slide_type": "fragment"
    }
   },
   "outputs": [
    {
     "data": {
      "text/plain": [
       "3×3 Matrix{Float64}:\n",
       "  1.36284   -0.2179     0.1295\n",
       " -0.311843  -0.851954   0.482934\n",
       "  0.703036  -1.14539   -0.210293"
      ]
     },
     "execution_count": 62,
     "metadata": {},
     "output_type": "execute_result"
    }
   ],
   "source": [
    "randn(3, 3)"
   ]
  },
  {
   "cell_type": "markdown",
   "metadata": {
    "slideshow": {
     "slide_type": "slide"
    }
   },
   "source": [
    "# Indexing\n",
    "\n",
    "Remember from before that we can extract value from containers.\n",
    "\n",
    "We will need this concept for the data section in the next tutorial. "
   ]
  },
  {
   "cell_type": "code",
   "execution_count": 64,
   "metadata": {
    "slideshow": {
     "slide_type": "fragment"
    }
   },
   "outputs": [
    {
     "data": {
      "text/plain": [
       "\"def\""
      ]
     },
     "execution_count": 64,
     "metadata": {},
     "output_type": "execute_result"
    }
   ],
   "source": [
    "col_vector[1] # Extract the first value"
   ]
  },
  {
   "cell_type": "code",
   "execution_count": 65,
   "metadata": {
    "slideshow": {
     "slide_type": "fragment"
    }
   },
   "outputs": [
    {
     "data": {
      "text/plain": [
       "5"
      ]
     },
     "execution_count": 65,
     "metadata": {},
     "output_type": "execute_result"
    }
   ],
   "source": [
    "matrix_x[2, 2] # Retrieve the value in the second row and second column of the matrix"
   ]
  },
  {
   "cell_type": "code",
   "execution_count": 67,
   "metadata": {
    "slideshow": {
     "slide_type": "fragment"
    }
   },
   "outputs": [
    {
     "data": {
      "text/plain": [
       "3-element Vector{Any}:\n",
       " \"abc\"\n",
       " \"hij\"\n",
       " \"klm\""
      ]
     },
     "execution_count": 67,
     "metadata": {},
     "output_type": "execute_result"
    }
   ],
   "source": [
    "col_vector[2:end] # Extracts all the values from the second to the end of the vector"
   ]
  },
  {
   "cell_type": "code",
   "execution_count": 68,
   "metadata": {
    "slideshow": {
     "slide_type": "fragment"
    }
   },
   "outputs": [
    {
     "data": {
      "text/plain": [
       "4-element Vector{Any}:\n",
       " \"def\"\n",
       " \"abc\"\n",
       " \"hij\"\n",
       " \"klm\""
      ]
     },
     "execution_count": 68,
     "metadata": {},
     "output_type": "execute_result"
    }
   ],
   "source": [
    "col_vector[:, 1] # Provides all the values of the first column"
   ]
  },
  {
   "cell_type": "markdown",
   "metadata": {
    "slideshow": {
     "slide_type": "slide"
    }
   },
   "source": [
    "# Broadcasting\n",
    "\n",
    "One important topic that we need to think about is `broadcasting`.\n",
    "\n",
    "Suppose you have a particular vector, such as `[1, 2, 3]`.\n",
    "\n",
    "You might want to apply a certain operation to each of the elements in that vector (elementwise). \n",
    "\n",
    "Perhaps you want to find out what the `sin` of each of those values are independently? "
   ]
  },
  {
   "cell_type": "markdown",
   "metadata": {
    "slideshow": {
     "slide_type": "slide"
    }
   },
   "source": [
    "# Broadcasting\n",
    "\n",
    "How would you do this? Well you could write you own loop that does this.\n",
    "\n",
    "We will cover loops in a bit, so don't be concerned if you don't understand."
   ]
  },
  {
   "cell_type": "code",
   "execution_count": 70,
   "metadata": {
    "slideshow": {
     "slide_type": "fragment"
    }
   },
   "outputs": [
    {
     "data": {
      "text/plain": [
       "3-element Vector{Float64}:\n",
       " 0.8414709848078965\n",
       " 0.9092974268256817\n",
       " 0.1411200080598672"
      ]
     },
     "execution_count": 70,
     "metadata": {},
     "output_type": "execute_result"
    }
   ],
   "source": [
    "x_vec = [1.0, 2.0, 3.0];\n",
    "\n",
    "# Loop for elementwise sin operation on `x` vector.\n",
    "y_vec = similar(x_vec)\n",
    "for (i, x) in enumerate(x_vec)\n",
    "    y_vec[i] = sin(x)\n",
    "end\n",
    "\n",
    "y_vec # This now gives you sin of the `x` vector"
   ]
  },
  {
   "cell_type": "markdown",
   "metadata": {
    "slideshow": {
     "slide_type": "fragment"
    }
   },
   "source": [
    "Writing a loop like this for a simple operation seems wasteful. "
   ]
  },
  {
   "cell_type": "markdown",
   "metadata": {
    "slideshow": {
     "slide_type": "slide"
    }
   },
   "source": [
    "# Broadcasting\n",
    "\n",
    "Instead of writing the loop, we can use the `dot operator`. \n",
    "\n",
    "The `dot operator` broadcasts the function across the elements of the array.\n",
    "\n",
    "Let us see some examples. "
   ]
  },
  {
   "cell_type": "code",
   "execution_count": 72,
   "metadata": {
    "slideshow": {
     "slide_type": "fragment"
    }
   },
   "outputs": [
    {
     "data": {
      "text/plain": [
       "3-element Vector{Float64}:\n",
       " 0.8414709848078965\n",
       " 0.9092974268256817\n",
       " 0.1411200080598672"
      ]
     },
     "execution_count": 72,
     "metadata": {},
     "output_type": "execute_result"
    }
   ],
   "source": [
    "sin.(x_vec) # Notice the dot operator. What happens without the dot operator?"
   ]
  },
  {
   "cell_type": "code",
   "execution_count": 76,
   "metadata": {
    "slideshow": {
     "slide_type": "fragment"
    }
   },
   "outputs": [
    {
     "data": {
      "text/plain": [
       "3-element Vector{Float64}:\n",
       " 1.0\n",
       " 4.0\n",
       " 9.0"
      ]
     },
     "execution_count": 76,
     "metadata": {},
     "output_type": "execute_result"
    }
   ],
   "source": [
    "(x_vec).^2"
   ]
  },
  {
   "cell_type": "code",
   "execution_count": 78,
   "metadata": {
    "slideshow": {
     "slide_type": "fragment"
    }
   },
   "outputs": [
    {
     "data": {
      "text/plain": [
       "3-element Vector{Float64}:\n",
       " 1.0\n",
       " 4.0\n",
       " 9.0"
      ]
     },
     "execution_count": 78,
     "metadata": {},
     "output_type": "execute_result"
    }
   ],
   "source": [
    "(x_vec) .* (x_vec)"
   ]
  },
  {
   "cell_type": "markdown",
   "metadata": {
    "slideshow": {
     "slide_type": "slide"
    }
   },
   "source": [
    "# Control flow\n",
    "\n",
    "In this section we will be looking at conditional statements and loops. \n",
    "\n",
    "Conditional statements provide branches to a program depending on a certain condition. \n",
    "\n",
    "The most recognisable conditional statement is the `if-else` statement. "
   ]
  },
  {
   "cell_type": "code",
   "execution_count": 1,
   "metadata": {
    "slideshow": {
     "slide_type": "fragment"
    }
   },
   "outputs": [
    {
     "name": "stdout",
     "output_type": "stream",
     "text": [
      "first"
     ]
    }
   ],
   "source": [
    "x = 1\n",
    "\n",
    "if x < 2\n",
    "    print(\"first\")\n",
    "elseif x > 4\n",
    "    print(\"second\")\n",
    "elseif x < 0\n",
    "    print(\"third\")\n",
    "else\n",
    "    print(\"fourth\")\n",
    "end "
   ]
  },
  {
   "cell_type": "markdown",
   "metadata": {
    "slideshow": {
     "slide_type": "slide"
    }
   },
   "source": [
    "# Loops\n",
    "\n",
    "Avoid repeating code at ALL COSTS. Do not repeat yourself. This is the DRY principle in coding. \n",
    "\n",
    "We illustrate this with an example. "
   ]
  },
  {
   "cell_type": "code",
   "execution_count": null,
   "metadata": {
    "slideshow": {
     "slide_type": "fragment"
    }
   },
   "outputs": [],
   "source": [
    "x = [0,1,2,3,4]\n",
    "y_1 = [] # empty array (list in python)\n",
    "\n",
    "append!(y_1, x[1] ^ 2)\n",
    "append!(y_1, x[2] ^ 2)\n",
    "append!(y_1, x[3] ^ 2)\n",
    "append!(y_1, x[4] ^ 2)\n",
    "append!(y_1, x[5] ^ 2)"
   ]
  },
  {
   "cell_type": "markdown",
   "metadata": {
    "slideshow": {
     "slide_type": "fragment"
    }
   },
   "source": [
    "In order to fill out the `y_1` array we had to write the same command five times. \n",
    "\n",
    "Notice that the only thing that changes is the value of the index from the `x` array "
   ]
  },
  {
   "cell_type": "markdown",
   "metadata": {
    "slideshow": {
     "slide_type": "slide"
    }
   },
   "source": [
    "# Loops\n",
    "\n",
    "There must be easier way to fill this `y_1` array. \n",
    "\n",
    "We will try to use a `for` loop to fill this array."
   ]
  },
  {
   "cell_type": "code",
   "execution_count": 3,
   "metadata": {
    "slideshow": {
     "slide_type": "fragment"
    }
   },
   "outputs": [
    {
     "name": "stdout",
     "output_type": "stream",
     "text": [
      "Any[0]\n",
      "Any[0, 1]\n",
      "Any[0, 1, 4]\n",
      "Any[0, 1, 4, 9]\n",
      "Any[0, 1, 4, 9, 16]\n"
     ]
    }
   ],
   "source": [
    "x = [0,1,2,3,4]\n",
    "y_1 = [] # Let's empty this array again and try another method\n",
    "\n",
    "for i in x\n",
    "    append!(y_1, i ^ 2)\n",
    "    println(y_1)\n",
    "end"
   ]
  },
  {
   "cell_type": "markdown",
   "metadata": {
    "slideshow": {
     "slide_type": "slide"
    }
   },
   "source": [
    "# Comprehensions\n",
    "\n",
    "There is a more compact way to fill our array using the for loop from above. \n",
    "\n",
    "This is known as an array comprehension. \n",
    "\n",
    "The code for the comprehension is as follows. "
   ]
  },
  {
   "cell_type": "code",
   "execution_count": 12,
   "metadata": {
    "slideshow": {
     "slide_type": "fragment"
    }
   },
   "outputs": [
    {
     "data": {
      "text/plain": [
       "5-element Vector{Int64}:\n",
       "  0\n",
       "  1\n",
       "  4\n",
       "  9\n",
       " 16"
      ]
     },
     "execution_count": 12,
     "metadata": {},
     "output_type": "execute_result"
    }
   ],
   "source": [
    "y_1 = [i^2 for i in x]"
   ]
  },
  {
   "cell_type": "markdown",
   "metadata": {
    "slideshow": {
     "slide_type": "slide"
    }
   },
   "source": [
    "# Functions and methods\n",
    "\n",
    "Functions are important to writing complex code.\n",
    "\n",
    "You should always write in terms of functions if possible. \n",
    "\n",
    "From mathematics we know that a function is an abstraction that takes in some input and returns an output.\n",
    "\n",
    "In the world of computing the idea is similar.\n",
    "\n",
    "Let us take a look at some functions below."
   ]
  },
  {
   "cell_type": "markdown",
   "metadata": {
    "slideshow": {
     "slide_type": "slide"
    }
   },
   "source": [
    "# Functions and methods\n",
    "\n",
    "The most common to way to write a function is as follows, "
   ]
  },
  {
   "cell_type": "code",
   "execution_count": 14,
   "metadata": {
    "slideshow": {
     "slide_type": "fragment"
    }
   },
   "outputs": [
    {
     "data": {
      "text/plain": [
       "f (generic function with 1 method)"
      ]
     },
     "execution_count": 14,
     "metadata": {},
     "output_type": "execute_result"
    }
   ],
   "source": [
    "function f(x) # function header\n",
    "    return x ^ 2 # body of the function\n",
    "end"
   ]
  },
  {
   "cell_type": "markdown",
   "metadata": {
    "slideshow": {
     "slide_type": "fragment"
    }
   },
   "source": [
    "This function accepts one input and returns one output. \n",
    "\n",
    "Namely, it takes the value of `x` and then squares it. "
   ]
  },
  {
   "cell_type": "code",
   "execution_count": 15,
   "metadata": {
    "slideshow": {
     "slide_type": "fragment"
    }
   },
   "outputs": [
    {
     "data": {
      "text/plain": [
       "4"
      ]
     },
     "execution_count": 15,
     "metadata": {},
     "output_type": "execute_result"
    }
   ],
   "source": [
    "f(2)"
   ]
  },
  {
   "cell_type": "markdown",
   "metadata": {
    "slideshow": {
     "slide_type": "slide"
    }
   },
   "source": [
    "# Functions and methods\n",
    "\n",
    "With the following function we have two inputs, `x` and `y`, that return one output. "
   ]
  },
  {
   "cell_type": "code",
   "execution_count": 20,
   "metadata": {
    "slideshow": {
     "slide_type": "fragment"
    }
   },
   "outputs": [
    {
     "data": {
      "text/plain": [
       "k (generic function with 1 method)"
      ]
     },
     "execution_count": 20,
     "metadata": {},
     "output_type": "execute_result"
    }
   ],
   "source": [
    "function k(x, y)\n",
    "    return x ^ 2 + y ^ 2\n",
    "end"
   ]
  },
  {
   "cell_type": "code",
   "execution_count": 21,
   "metadata": {
    "slideshow": {
     "slide_type": "fragment"
    }
   },
   "outputs": [
    {
     "data": {
      "text/plain": [
       "8"
      ]
     },
     "execution_count": 21,
     "metadata": {},
     "output_type": "execute_result"
    }
   ],
   "source": [
    "k(2, 2)"
   ]
  },
  {
   "cell_type": "markdown",
   "metadata": {
    "slideshow": {
     "slide_type": "slide"
    }
   },
   "source": [
    "# What is `return`?\n",
    "\n",
    "`return` basically instructs the program to exit the function and return the specified value. \n",
    "\n",
    "Let us look at an example of where the `return` part will prevent execution of other parts of the function."
   ]
  },
  {
   "cell_type": "code",
   "execution_count": 22,
   "metadata": {
    "slideshow": {
     "slide_type": "fragment"
    }
   },
   "outputs": [
    {
     "data": {
      "text/plain": [
       "return_example_1 (generic function with 1 method)"
      ]
     },
     "execution_count": 22,
     "metadata": {},
     "output_type": "execute_result"
    }
   ],
   "source": [
    "function return_example_1(x)\n",
    "\n",
    "    if x > 5\n",
    "        return x + 5 # this will exit the function immediately\n",
    "\n",
    "        println(x - 9) # this will never execute, it is after the return\n",
    "    end\n",
    "\n",
    "    return x / 5 # if x <= then this will be returned\n",
    "end"
   ]
  },
  {
   "cell_type": "code",
   "execution_count": 23,
   "metadata": {
    "slideshow": {
     "slide_type": "fragment"
    }
   },
   "outputs": [
    {
     "data": {
      "text/plain": [
       "0.2"
      ]
     },
     "execution_count": 23,
     "metadata": {},
     "output_type": "execute_result"
    }
   ],
   "source": [
    "return_example_1(1)"
   ]
  },
  {
   "cell_type": "code",
   "execution_count": 24,
   "metadata": {
    "slideshow": {
     "slide_type": "fragment"
    }
   },
   "outputs": [
    {
     "data": {
      "text/plain": [
       "15"
      ]
     },
     "execution_count": 24,
     "metadata": {},
     "output_type": "execute_result"
    }
   ],
   "source": [
    "return_example_1(10) # notice that the `println(x - 9)` doesn't execute"
   ]
  },
  {
   "cell_type": "markdown",
   "metadata": {
    "slideshow": {
     "slide_type": "slide"
    }
   },
   "source": [
    "# Scope\n",
    "\n",
    "Global variables are generally considered to be a bad idea.\n",
    "\n",
    "If you want to be a good programmer, you need to understand the basics of local scoping. \n",
    "\n",
    "Most of the code in the notebook has been contained in the global scope.\n",
    "\n",
    "If you are writing scripts and source code you must wrap code in functions to avoid variables entering the global scope. "
   ]
  },
  {
   "cell_type": "markdown",
   "metadata": {
    "slideshow": {
     "slide_type": "slide"
    }
   },
   "source": [
    "# Scope\n",
    "\n",
    "When you copy variables inside functions, they become local and the function is said to become a **closure**. \n",
    "\n",
    "We will show what we mean through some examples. "
   ]
  },
  {
   "cell_type": "code",
   "execution_count": 27,
   "metadata": {
    "slideshow": {
     "slide_type": "fragment"
    }
   },
   "outputs": [],
   "source": [
    "a = 2 # global variable\n",
    "\n",
    "function f(x)\n",
    "    return x ^ a\n",
    "end;\n",
    "\n",
    "function g(x; a = 2)\n",
    "    return x ^ a\n",
    "end;\n",
    "\n",
    "function h(x)\n",
    "    a = 2 # a is local \n",
    "    return x ^ a\n",
    "end;"
   ]
  },
  {
   "cell_type": "code",
   "execution_count": 28,
   "metadata": {
    "slideshow": {
     "slide_type": "fragment"
    }
   },
   "outputs": [
    {
     "data": {
      "text/plain": [
       "(4, 4, 4)"
      ]
     },
     "execution_count": 28,
     "metadata": {},
     "output_type": "execute_result"
    }
   ],
   "source": [
    "f(2), g(2), h(2)"
   ]
  },
  {
   "cell_type": "markdown",
   "metadata": {
    "slideshow": {
     "slide_type": "slide"
    }
   },
   "source": [
    "# Scope\n",
    "\n",
    "What happens in our previous example if we change the value for `a`?\n",
    "\n",
    "Which of the outputs for the functions will be changed?\n",
    "\n",
    "Can you see why this might be problematic? "
   ]
  },
  {
   "cell_type": "code",
   "execution_count": 31,
   "metadata": {
    "slideshow": {
     "slide_type": "fragment"
    }
   },
   "outputs": [
    {
     "data": {
      "text/plain": [
       "3"
      ]
     },
     "execution_count": 31,
     "metadata": {},
     "output_type": "execute_result"
    }
   ],
   "source": [
    "a = 3"
   ]
  },
  {
   "cell_type": "code",
   "execution_count": 32,
   "metadata": {
    "slideshow": {
     "slide_type": "fragment"
    }
   },
   "outputs": [
    {
     "data": {
      "text/plain": [
       "(8, 4, 4)"
      ]
     },
     "execution_count": 32,
     "metadata": {},
     "output_type": "execute_result"
    }
   ],
   "source": [
    "f(2), g(2), h(2)"
   ]
  },
  {
   "cell_type": "markdown",
   "metadata": {
    "slideshow": {
     "slide_type": "slide"
    }
   },
   "source": [
    "# Visualisation\n",
    "\n",
    "Let us show the basic principles of plotting in Julia."
   ]
  },
  {
   "cell_type": "code",
   "execution_count": 35,
   "metadata": {
    "slideshow": {
     "slide_type": "fragment"
    }
   },
   "outputs": [
    {
     "data": {
      "image/svg+xml": [
       "<?xml version=\"1.0\" encoding=\"utf-8\"?>\n",
       "<svg xmlns=\"http://www.w3.org/2000/svg\" xmlns:xlink=\"http://www.w3.org/1999/xlink\" width=\"600\" height=\"400\" viewBox=\"0 0 2400 1600\">\n",
       "<defs>\n",
       "  <clipPath id=\"clip770\">\n",
       "    <rect x=\"0\" y=\"0\" width=\"2400\" height=\"1600\"/>\n",
       "  </clipPath>\n",
       "</defs>\n",
       "<path clip-path=\"url(#clip770)\" d=\"\n",
       "M0 1600 L2400 1600 L2400 0 L0 0  Z\n",
       "  \" fill=\"#ffffff\" fill-rule=\"evenodd\" fill-opacity=\"1\"/>\n",
       "<defs>\n",
       "  <clipPath id=\"clip771\">\n",
       "    <rect x=\"480\" y=\"0\" width=\"1681\" height=\"1600\"/>\n",
       "  </clipPath>\n",
       "</defs>\n",
       "<path clip-path=\"url(#clip770)\" d=\"\n",
       "M193.936 1486.45 L2352.76 1486.45 L2352.76 47.2441 L193.936 47.2441  Z\n",
       "  \" fill=\"#ffffff\" fill-rule=\"evenodd\" fill-opacity=\"1\"/>\n",
       "<defs>\n",
       "  <clipPath id=\"clip772\">\n",
       "    <rect x=\"193\" y=\"47\" width=\"2160\" height=\"1440\"/>\n",
       "  </clipPath>\n",
       "</defs>\n",
       "<polyline clip-path=\"url(#clip772)\" style=\"stroke:#000000; stroke-linecap:butt; stroke-linejoin:round; stroke-width:2; stroke-opacity:0.1; fill:none\" points=\"\n",
       "  255.035,1486.45 255.035,47.2441 \n",
       "  \"/>\n",
       "<polyline clip-path=\"url(#clip772)\" style=\"stroke:#000000; stroke-linecap:butt; stroke-linejoin:round; stroke-width:2; stroke-opacity:0.1; fill:none\" points=\"\n",
       "  764.19,1486.45 764.19,47.2441 \n",
       "  \"/>\n",
       "<polyline clip-path=\"url(#clip772)\" style=\"stroke:#000000; stroke-linecap:butt; stroke-linejoin:round; stroke-width:2; stroke-opacity:0.1; fill:none\" points=\"\n",
       "  1273.35,1486.45 1273.35,47.2441 \n",
       "  \"/>\n",
       "<polyline clip-path=\"url(#clip772)\" style=\"stroke:#000000; stroke-linecap:butt; stroke-linejoin:round; stroke-width:2; stroke-opacity:0.1; fill:none\" points=\"\n",
       "  1782.5,1486.45 1782.5,47.2441 \n",
       "  \"/>\n",
       "<polyline clip-path=\"url(#clip772)\" style=\"stroke:#000000; stroke-linecap:butt; stroke-linejoin:round; stroke-width:2; stroke-opacity:0.1; fill:none\" points=\"\n",
       "  2291.66,1486.45 2291.66,47.2441 \n",
       "  \"/>\n",
       "<polyline clip-path=\"url(#clip770)\" style=\"stroke:#000000; stroke-linecap:butt; stroke-linejoin:round; stroke-width:4; stroke-opacity:1; fill:none\" points=\"\n",
       "  193.936,1486.45 2352.76,1486.45 \n",
       "  \"/>\n",
       "<polyline clip-path=\"url(#clip770)\" style=\"stroke:#000000; stroke-linecap:butt; stroke-linejoin:round; stroke-width:4; stroke-opacity:1; fill:none\" points=\"\n",
       "  255.035,1486.45 255.035,1467.55 \n",
       "  \"/>\n",
       "<polyline clip-path=\"url(#clip770)\" style=\"stroke:#000000; stroke-linecap:butt; stroke-linejoin:round; stroke-width:4; stroke-opacity:1; fill:none\" points=\"\n",
       "  764.19,1486.45 764.19,1467.55 \n",
       "  \"/>\n",
       "<polyline clip-path=\"url(#clip770)\" style=\"stroke:#000000; stroke-linecap:butt; stroke-linejoin:round; stroke-width:4; stroke-opacity:1; fill:none\" points=\"\n",
       "  1273.35,1486.45 1273.35,1467.55 \n",
       "  \"/>\n",
       "<polyline clip-path=\"url(#clip770)\" style=\"stroke:#000000; stroke-linecap:butt; stroke-linejoin:round; stroke-width:4; stroke-opacity:1; fill:none\" points=\"\n",
       "  1782.5,1486.45 1782.5,1467.55 \n",
       "  \"/>\n",
       "<polyline clip-path=\"url(#clip770)\" style=\"stroke:#000000; stroke-linecap:butt; stroke-linejoin:round; stroke-width:4; stroke-opacity:1; fill:none\" points=\"\n",
       "  2291.66,1486.45 2291.66,1467.55 \n",
       "  \"/>\n",
       "<path clip-path=\"url(#clip770)\" d=\"M255.035 1517.37 Q251.424 1517.37 249.595 1520.93 Q247.789 1524.47 247.789 1531.6 Q247.789 1538.71 249.595 1542.27 Q251.424 1545.82 255.035 1545.82 Q258.669 1545.82 260.474 1542.27 Q262.303 1538.71 262.303 1531.6 Q262.303 1524.47 260.474 1520.93 Q258.669 1517.37 255.035 1517.37 M255.035 1513.66 Q260.845 1513.66 263.9 1518.27 Q266.979 1522.85 266.979 1531.6 Q266.979 1540.33 263.9 1544.94 Q260.845 1549.52 255.035 1549.52 Q249.225 1549.52 246.146 1544.94 Q243.09 1540.33 243.09 1531.6 Q243.09 1522.85 246.146 1518.27 Q249.225 1513.66 255.035 1513.66 Z\" fill=\"#000000\" fill-rule=\"evenodd\" fill-opacity=\"1\" /><path clip-path=\"url(#clip770)\" d=\"M754.468 1514.29 L772.825 1514.29 L772.825 1518.22 L758.751 1518.22 L758.751 1526.7 Q759.769 1526.35 760.788 1526.19 Q761.806 1526 762.825 1526 Q768.612 1526 771.991 1529.17 Q775.371 1532.34 775.371 1537.76 Q775.371 1543.34 771.899 1546.44 Q768.426 1549.52 762.107 1549.52 Q759.931 1549.52 757.663 1549.15 Q755.417 1548.78 753.01 1548.04 L753.01 1543.34 Q755.093 1544.47 757.315 1545.03 Q759.538 1545.58 762.014 1545.58 Q766.019 1545.58 768.357 1543.48 Q770.695 1541.37 770.695 1537.76 Q770.695 1534.15 768.357 1532.04 Q766.019 1529.94 762.014 1529.94 Q760.139 1529.94 758.264 1530.35 Q756.413 1530.77 754.468 1531.65 L754.468 1514.29 Z\" fill=\"#000000\" fill-rule=\"evenodd\" fill-opacity=\"1\" /><path clip-path=\"url(#clip770)\" d=\"M1248.03 1544.91 L1255.67 1544.91 L1255.67 1518.55 L1247.36 1520.21 L1247.36 1515.95 L1255.63 1514.29 L1260.3 1514.29 L1260.3 1544.91 L1267.94 1544.91 L1267.94 1548.85 L1248.03 1548.85 L1248.03 1544.91 Z\" fill=\"#000000\" fill-rule=\"evenodd\" fill-opacity=\"1\" /><path clip-path=\"url(#clip770)\" d=\"M1287.39 1517.37 Q1283.77 1517.37 1281.95 1520.93 Q1280.14 1524.47 1280.14 1531.6 Q1280.14 1538.71 1281.95 1542.27 Q1283.77 1545.82 1287.39 1545.82 Q1291.02 1545.82 1292.83 1542.27 Q1294.65 1538.71 1294.65 1531.6 Q1294.65 1524.47 1292.83 1520.93 Q1291.02 1517.37 1287.39 1517.37 M1287.39 1513.66 Q1293.2 1513.66 1296.25 1518.27 Q1299.33 1522.85 1299.33 1531.6 Q1299.33 1540.33 1296.25 1544.94 Q1293.2 1549.52 1287.39 1549.52 Q1281.58 1549.52 1278.5 1544.94 Q1275.44 1540.33 1275.44 1531.6 Q1275.44 1522.85 1278.5 1518.27 Q1281.58 1513.66 1287.39 1513.66 Z\" fill=\"#000000\" fill-rule=\"evenodd\" fill-opacity=\"1\" /><path clip-path=\"url(#clip770)\" d=\"M1757.69 1544.91 L1765.33 1544.91 L1765.33 1518.55 L1757.02 1520.21 L1757.02 1515.95 L1765.28 1514.29 L1769.96 1514.29 L1769.96 1544.91 L1777.59 1544.91 L1777.59 1548.85 L1757.69 1548.85 L1757.69 1544.91 Z\" fill=\"#000000\" fill-rule=\"evenodd\" fill-opacity=\"1\" /><path clip-path=\"url(#clip770)\" d=\"M1787.08 1514.29 L1805.44 1514.29 L1805.44 1518.22 L1791.37 1518.22 L1791.37 1526.7 Q1792.39 1526.35 1793.4 1526.19 Q1794.42 1526 1795.44 1526 Q1801.23 1526 1804.61 1529.17 Q1807.99 1532.34 1807.99 1537.76 Q1807.99 1543.34 1804.52 1546.44 Q1801.04 1549.52 1794.72 1549.52 Q1792.55 1549.52 1790.28 1549.15 Q1788.03 1548.78 1785.63 1548.04 L1785.63 1543.34 Q1787.71 1544.47 1789.93 1545.03 Q1792.15 1545.58 1794.63 1545.58 Q1798.64 1545.58 1800.97 1543.48 Q1803.31 1541.37 1803.31 1537.76 Q1803.31 1534.15 1800.97 1532.04 Q1798.64 1529.94 1794.63 1529.94 Q1792.76 1529.94 1790.88 1530.35 Q1789.03 1530.77 1787.08 1531.65 L1787.08 1514.29 Z\" fill=\"#000000\" fill-rule=\"evenodd\" fill-opacity=\"1\" /><path clip-path=\"url(#clip770)\" d=\"M2270.43 1544.91 L2286.75 1544.91 L2286.75 1548.85 L2264.81 1548.85 L2264.81 1544.91 Q2267.47 1542.16 2272.05 1537.53 Q2276.66 1532.88 2277.84 1531.53 Q2280.08 1529.01 2280.96 1527.27 Q2281.87 1525.51 2281.87 1523.82 Q2281.87 1521.07 2279.92 1519.33 Q2278 1517.6 2274.9 1517.6 Q2272.7 1517.6 2270.25 1518.36 Q2267.81 1519.13 2265.04 1520.68 L2265.04 1515.95 Q2267.86 1514.82 2270.31 1514.24 Q2272.77 1513.66 2274.81 1513.66 Q2280.18 1513.66 2283.37 1516.35 Q2286.56 1519.03 2286.56 1523.52 Q2286.56 1525.65 2285.75 1527.57 Q2284.97 1529.47 2282.86 1532.07 Q2282.28 1532.74 2279.18 1535.95 Q2276.08 1539.15 2270.43 1544.91 Z\" fill=\"#000000\" fill-rule=\"evenodd\" fill-opacity=\"1\" /><path clip-path=\"url(#clip770)\" d=\"M2306.56 1517.37 Q2302.95 1517.37 2301.12 1520.93 Q2299.32 1524.47 2299.32 1531.6 Q2299.32 1538.71 2301.12 1542.27 Q2302.95 1545.82 2306.56 1545.82 Q2310.2 1545.82 2312 1542.27 Q2313.83 1538.71 2313.83 1531.6 Q2313.83 1524.47 2312 1520.93 Q2310.2 1517.37 2306.56 1517.37 M2306.56 1513.66 Q2312.37 1513.66 2315.43 1518.27 Q2318.51 1522.85 2318.51 1531.6 Q2318.51 1540.33 2315.43 1544.94 Q2312.37 1549.52 2306.56 1549.52 Q2300.75 1549.52 2297.68 1544.94 Q2294.62 1540.33 2294.62 1531.6 Q2294.62 1522.85 2297.68 1518.27 Q2300.75 1513.66 2306.56 1513.66 Z\" fill=\"#000000\" fill-rule=\"evenodd\" fill-opacity=\"1\" /><polyline clip-path=\"url(#clip772)\" style=\"stroke:#000000; stroke-linecap:butt; stroke-linejoin:round; stroke-width:2; stroke-opacity:0.1; fill:none\" points=\"\n",
       "  193.936,1445.72 2352.76,1445.72 \n",
       "  \"/>\n",
       "<polyline clip-path=\"url(#clip772)\" style=\"stroke:#000000; stroke-linecap:butt; stroke-linejoin:round; stroke-width:2; stroke-opacity:0.1; fill:none\" points=\"\n",
       "  193.936,1106.21 2352.76,1106.21 \n",
       "  \"/>\n",
       "<polyline clip-path=\"url(#clip772)\" style=\"stroke:#000000; stroke-linecap:butt; stroke-linejoin:round; stroke-width:2; stroke-opacity:0.1; fill:none\" points=\"\n",
       "  193.936,766.705 2352.76,766.705 \n",
       "  \"/>\n",
       "<polyline clip-path=\"url(#clip772)\" style=\"stroke:#000000; stroke-linecap:butt; stroke-linejoin:round; stroke-width:2; stroke-opacity:0.1; fill:none\" points=\"\n",
       "  193.936,427.196 2352.76,427.196 \n",
       "  \"/>\n",
       "<polyline clip-path=\"url(#clip772)\" style=\"stroke:#000000; stroke-linecap:butt; stroke-linejoin:round; stroke-width:2; stroke-opacity:0.1; fill:none\" points=\"\n",
       "  193.936,87.6867 2352.76,87.6867 \n",
       "  \"/>\n",
       "<polyline clip-path=\"url(#clip770)\" style=\"stroke:#000000; stroke-linecap:butt; stroke-linejoin:round; stroke-width:4; stroke-opacity:1; fill:none\" points=\"\n",
       "  193.936,1486.45 193.936,47.2441 \n",
       "  \"/>\n",
       "<polyline clip-path=\"url(#clip770)\" style=\"stroke:#000000; stroke-linecap:butt; stroke-linejoin:round; stroke-width:4; stroke-opacity:1; fill:none\" points=\"\n",
       "  193.936,1445.72 212.834,1445.72 \n",
       "  \"/>\n",
       "<polyline clip-path=\"url(#clip770)\" style=\"stroke:#000000; stroke-linecap:butt; stroke-linejoin:round; stroke-width:4; stroke-opacity:1; fill:none\" points=\"\n",
       "  193.936,1106.21 212.834,1106.21 \n",
       "  \"/>\n",
       "<polyline clip-path=\"url(#clip770)\" style=\"stroke:#000000; stroke-linecap:butt; stroke-linejoin:round; stroke-width:4; stroke-opacity:1; fill:none\" points=\"\n",
       "  193.936,766.705 212.834,766.705 \n",
       "  \"/>\n",
       "<polyline clip-path=\"url(#clip770)\" style=\"stroke:#000000; stroke-linecap:butt; stroke-linejoin:round; stroke-width:4; stroke-opacity:1; fill:none\" points=\"\n",
       "  193.936,427.196 212.834,427.196 \n",
       "  \"/>\n",
       "<polyline clip-path=\"url(#clip770)\" style=\"stroke:#000000; stroke-linecap:butt; stroke-linejoin:round; stroke-width:4; stroke-opacity:1; fill:none\" points=\"\n",
       "  193.936,87.6867 212.834,87.6867 \n",
       "  \"/>\n",
       "<path clip-path=\"url(#clip770)\" d=\"M50.9921 1446.17 L80.6679 1446.17 L80.6679 1450.11 L50.9921 1450.11 L50.9921 1446.17 Z\" fill=\"#000000\" fill-rule=\"evenodd\" fill-opacity=\"1\" /><path clip-path=\"url(#clip770)\" d=\"M91.5706 1459.07 L99.2095 1459.07 L99.2095 1432.7 L90.8993 1434.37 L90.8993 1430.11 L99.1632 1428.44 L103.839 1428.44 L103.839 1459.07 L111.478 1459.07 L111.478 1463 L91.5706 1463 L91.5706 1459.07 Z\" fill=\"#000000\" fill-rule=\"evenodd\" fill-opacity=\"1\" /><path clip-path=\"url(#clip770)\" d=\"M120.922 1457.12 L125.807 1457.12 L125.807 1463 L120.922 1463 L120.922 1457.12 Z\" fill=\"#000000\" fill-rule=\"evenodd\" fill-opacity=\"1\" /><path clip-path=\"url(#clip770)\" d=\"M145.992 1431.52 Q142.381 1431.52 140.552 1435.09 Q138.746 1438.63 138.746 1445.76 Q138.746 1452.86 140.552 1456.43 Q142.381 1459.97 145.992 1459.97 Q149.626 1459.97 151.431 1456.43 Q153.26 1452.86 153.26 1445.76 Q153.26 1438.63 151.431 1435.09 Q149.626 1431.52 145.992 1431.52 M145.992 1427.82 Q151.802 1427.82 154.857 1432.42 Q157.936 1437.01 157.936 1445.76 Q157.936 1454.48 154.857 1459.09 Q151.802 1463.67 145.992 1463.67 Q140.181 1463.67 137.103 1459.09 Q134.047 1454.48 134.047 1445.76 Q134.047 1437.01 137.103 1432.42 Q140.181 1427.82 145.992 1427.82 Z\" fill=\"#000000\" fill-rule=\"evenodd\" fill-opacity=\"1\" /><path clip-path=\"url(#clip770)\" d=\"M51.9875 1106.66 L81.6633 1106.66 L81.6633 1110.6 L51.9875 1110.6 L51.9875 1106.66 Z\" fill=\"#000000\" fill-rule=\"evenodd\" fill-opacity=\"1\" /><path clip-path=\"url(#clip770)\" d=\"M101.756 1092.01 Q98.1447 1092.01 96.316 1095.58 Q94.5104 1099.12 94.5104 1106.25 Q94.5104 1113.35 96.316 1116.92 Q98.1447 1120.46 101.756 1120.46 Q105.39 1120.46 107.196 1116.92 Q109.024 1113.35 109.024 1106.25 Q109.024 1099.12 107.196 1095.58 Q105.39 1092.01 101.756 1092.01 M101.756 1088.31 Q107.566 1088.31 110.621 1092.91 Q113.7 1097.5 113.7 1106.25 Q113.7 1114.97 110.621 1119.58 Q107.566 1124.16 101.756 1124.16 Q95.9456 1124.16 92.8669 1119.58 Q89.8114 1114.97 89.8114 1106.25 Q89.8114 1097.5 92.8669 1092.91 Q95.9456 1088.31 101.756 1088.31 Z\" fill=\"#000000\" fill-rule=\"evenodd\" fill-opacity=\"1\" /><path clip-path=\"url(#clip770)\" d=\"M121.918 1117.61 L126.802 1117.61 L126.802 1123.49 L121.918 1123.49 L121.918 1117.61 Z\" fill=\"#000000\" fill-rule=\"evenodd\" fill-opacity=\"1\" /><path clip-path=\"url(#clip770)\" d=\"M137.033 1088.93 L155.39 1088.93 L155.39 1092.87 L141.316 1092.87 L141.316 1101.34 Q142.334 1100.99 143.353 1100.83 Q144.371 1100.65 145.39 1100.65 Q151.177 1100.65 154.556 1103.82 Q157.936 1106.99 157.936 1112.41 Q157.936 1117.98 154.464 1121.09 Q150.992 1124.16 144.672 1124.16 Q142.496 1124.16 140.228 1123.79 Q137.982 1123.42 135.575 1122.68 L135.575 1117.98 Q137.658 1119.12 139.881 1119.67 Q142.103 1120.23 144.58 1120.23 Q148.584 1120.23 150.922 1118.12 Q153.26 1116.02 153.26 1112.41 Q153.26 1108.79 150.922 1106.69 Q148.584 1104.58 144.58 1104.58 Q142.705 1104.58 140.83 1105 Q138.978 1105.41 137.033 1106.29 L137.033 1088.93 Z\" fill=\"#000000\" fill-rule=\"evenodd\" fill-opacity=\"1\" /><path clip-path=\"url(#clip770)\" d=\"M100.76 752.503 Q97.1493 752.503 95.3206 756.068 Q93.515 759.61 93.515 766.739 Q93.515 773.846 95.3206 777.411 Q97.1493 780.952 100.76 780.952 Q104.395 780.952 106.2 777.411 Q108.029 773.846 108.029 766.739 Q108.029 759.61 106.2 756.068 Q104.395 752.503 100.76 752.503 M100.76 748.8 Q106.571 748.8 109.626 753.406 Q112.705 757.989 112.705 766.739 Q112.705 775.466 109.626 780.073 Q106.571 784.656 100.76 784.656 Q94.9502 784.656 91.8715 780.073 Q88.816 775.466 88.816 766.739 Q88.816 757.989 91.8715 753.406 Q94.9502 748.8 100.76 748.8 Z\" fill=\"#000000\" fill-rule=\"evenodd\" fill-opacity=\"1\" /><path clip-path=\"url(#clip770)\" d=\"M120.922 778.105 L125.807 778.105 L125.807 783.985 L120.922 783.985 L120.922 778.105 Z\" fill=\"#000000\" fill-rule=\"evenodd\" fill-opacity=\"1\" /><path clip-path=\"url(#clip770)\" d=\"M145.992 752.503 Q142.381 752.503 140.552 756.068 Q138.746 759.61 138.746 766.739 Q138.746 773.846 140.552 777.411 Q142.381 780.952 145.992 780.952 Q149.626 780.952 151.431 777.411 Q153.26 773.846 153.26 766.739 Q153.26 759.61 151.431 756.068 Q149.626 752.503 145.992 752.503 M145.992 748.8 Q151.802 748.8 154.857 753.406 Q157.936 757.989 157.936 766.739 Q157.936 775.466 154.857 780.073 Q151.802 784.656 145.992 784.656 Q140.181 784.656 137.103 780.073 Q134.047 775.466 134.047 766.739 Q134.047 757.989 137.103 753.406 Q140.181 748.8 145.992 748.8 Z\" fill=\"#000000\" fill-rule=\"evenodd\" fill-opacity=\"1\" /><path clip-path=\"url(#clip770)\" d=\"M101.756 412.994 Q98.1447 412.994 96.316 416.559 Q94.5104 420.101 94.5104 427.23 Q94.5104 434.337 96.316 437.902 Q98.1447 441.443 101.756 441.443 Q105.39 441.443 107.196 437.902 Q109.024 434.337 109.024 427.23 Q109.024 420.101 107.196 416.559 Q105.39 412.994 101.756 412.994 M101.756 409.291 Q107.566 409.291 110.621 413.897 Q113.7 418.48 113.7 427.23 Q113.7 435.957 110.621 440.564 Q107.566 445.147 101.756 445.147 Q95.9456 445.147 92.8669 440.564 Q89.8114 435.957 89.8114 427.23 Q89.8114 418.48 92.8669 413.897 Q95.9456 409.291 101.756 409.291 Z\" fill=\"#000000\" fill-rule=\"evenodd\" fill-opacity=\"1\" /><path clip-path=\"url(#clip770)\" d=\"M121.918 438.596 L126.802 438.596 L126.802 444.476 L121.918 444.476 L121.918 438.596 Z\" fill=\"#000000\" fill-rule=\"evenodd\" fill-opacity=\"1\" /><path clip-path=\"url(#clip770)\" d=\"M137.033 409.916 L155.39 409.916 L155.39 413.851 L141.316 413.851 L141.316 422.323 Q142.334 421.976 143.353 421.814 Q144.371 421.629 145.39 421.629 Q151.177 421.629 154.556 424.8 Q157.936 427.971 157.936 433.388 Q157.936 438.966 154.464 442.068 Q150.992 445.147 144.672 445.147 Q142.496 445.147 140.228 444.777 Q137.982 444.406 135.575 443.665 L135.575 438.966 Q137.658 440.101 139.881 440.656 Q142.103 441.212 144.58 441.212 Q148.584 441.212 150.922 439.105 Q153.26 436.999 153.26 433.388 Q153.26 429.777 150.922 427.67 Q148.584 425.564 144.58 425.564 Q142.705 425.564 140.83 425.98 Q138.978 426.397 137.033 427.277 L137.033 409.916 Z\" fill=\"#000000\" fill-rule=\"evenodd\" fill-opacity=\"1\" /><path clip-path=\"url(#clip770)\" d=\"M91.5706 101.032 L99.2095 101.032 L99.2095 74.666 L90.8993 76.3326 L90.8993 72.0734 L99.1632 70.4067 L103.839 70.4067 L103.839 101.032 L111.478 101.032 L111.478 104.967 L91.5706 104.967 L91.5706 101.032 Z\" fill=\"#000000\" fill-rule=\"evenodd\" fill-opacity=\"1\" /><path clip-path=\"url(#clip770)\" d=\"M120.922 99.0871 L125.807 99.0871 L125.807 104.967 L120.922 104.967 L120.922 99.0871 Z\" fill=\"#000000\" fill-rule=\"evenodd\" fill-opacity=\"1\" /><path clip-path=\"url(#clip770)\" d=\"M145.992 73.4854 Q142.381 73.4854 140.552 77.0502 Q138.746 80.5919 138.746 87.7215 Q138.746 94.8279 140.552 98.3927 Q142.381 101.934 145.992 101.934 Q149.626 101.934 151.431 98.3927 Q153.26 94.8279 153.26 87.7215 Q153.26 80.5919 151.431 77.0502 Q149.626 73.4854 145.992 73.4854 M145.992 69.7817 Q151.802 69.7817 154.857 74.3882 Q157.936 78.9715 157.936 87.7215 Q157.936 96.4483 154.857 101.055 Q151.802 105.638 145.992 105.638 Q140.181 105.638 137.103 101.055 Q134.047 96.4483 134.047 87.7215 Q134.047 78.9715 137.103 74.3882 Q140.181 69.7817 145.992 69.7817 Z\" fill=\"#000000\" fill-rule=\"evenodd\" fill-opacity=\"1\" /><polyline clip-path=\"url(#clip772)\" style=\"stroke:#009af9; stroke-linecap:butt; stroke-linejoin:round; stroke-width:4; stroke-opacity:1; fill:none\" points=\"\n",
       "  255.035,766.705 265.218,698.916 275.401,631.805 285.584,566.041 295.767,502.283 305.95,441.166 316.133,383.302 326.316,329.269 336.5,279.607 346.683,234.812 \n",
       "  356.866,195.331 367.049,161.559 377.232,133.833 387.415,112.431 397.598,97.5666 407.781,89.3877 417.964,87.9763 428.148,93.3465 438.331,105.445 448.514,124.15 \n",
       "  458.697,149.275 468.88,180.57 479.063,217.721 489.246,260.357 499.429,308.053 509.612,360.331 519.796,416.67 529.979,476.506 540.162,539.242 550.345,604.25 \n",
       "  560.528,670.882 570.711,738.471 580.894,806.342 591.077,873.817 601.261,940.222 611.444,1004.89 621.627,1067.18 631.81,1126.47 641.993,1182.17 652.176,1233.71 \n",
       "  662.359,1280.59 672.542,1322.33 682.725,1358.52 692.909,1388.8 703.092,1412.86 713.275,1430.46 723.458,1441.44 733.641,1445.67 743.824,1443.12 754.007,1433.81 \n",
       "  764.19,1417.83 774.373,1395.35 784.557,1366.59 794.74,1331.83 804.923,1291.43 815.106,1245.78 825.289,1195.35 835.472,1140.63 845.655,1082.18 855.838,1020.57 \n",
       "  866.021,956.433 876.205,890.396 886.388,823.124 896.571,755.288 906.754,687.566 916.937,620.634 927.12,555.162 937.303,491.804 947.486,431.193 957.669,373.934 \n",
       "  967.853,320.599 978.036,271.722 988.219,227.79 998.402,189.243 1008.59,156.466 1018.77,129.786 1028.95,109.47 1039.13,95.7207 1049.32,88.6758 1059.5,88.4056 \n",
       "  1069.68,94.9127 1079.87,108.132 1090.05,127.932 1100.23,154.114 1110.42,186.417 1120.6,224.518 1130.78,268.036 1140.97,316.537 1151.15,369.535 1161.33,426.502 \n",
       "  1171.51,486.869 1181.7,550.031 1191.88,615.358 1202.06,682.198 1212.25,749.882 1222.43,817.733 1232.61,885.076 1242.8,951.235 1252.98,1015.55 1263.16,1077.38 \n",
       "  1273.35,1136.1 1283.53,1191.14 1293.71,1241.93 1303.9,1287.98 1314.08,1328.81 1324.26,1364.03 1334.44,1393.29 1344.63,1416.28 1354.81,1432.78 1364.99,1442.62 \n",
       "  1375.18,1445.72 1385.36,1442.02 1395.54,1431.58 1405.73,1414.5 1415.91,1390.94 1426.09,1361.15 1436.28,1325.42 1446.46,1284.1 1456.64,1237.62 1466.83,1186.43 \n",
       "  1477.01,1131.05 1487.19,1072.02 1497.37,1009.95 1507.56,945.444 1517.74,879.153 1527.92,811.738 1538.11,743.874 1548.29,676.238 1558.47,609.505 1568.66,544.344 \n",
       "  1578.84,481.404 1589.02,421.314 1599.21,364.676 1609.39,312.055 1619.57,263.976 1629.75,220.921 1639.94,183.318 1650.12,151.545 1660.3,125.918 1670.49,106.694 \n",
       "  1680.67,94.0645 1690.85,88.1557 1701.04,89.0267 1711.22,96.6688 1721.4,111.006 1731.59,131.894 1741.77,159.125 1751.95,192.427 1762.14,231.467 1772.32,275.855 \n",
       "  1782.5,325.148 1792.68,378.852 1802.87,436.431 1813.05,497.311 1823.23,560.882 1833.42,626.509 1843.6,693.538 1853.78,761.297 1863.97,829.111 1874.15,896.301 \n",
       "  1884.33,962.196 1894.52,1026.14 1904.7,1087.49 1914.88,1145.63 1925.07,1199.99 1935.25,1250.02 1945.43,1295.22 1955.61,1335.14 1965.8,1369.38 1975.98,1397.6 \n",
       "  1986.16,1419.51 1996.35,1434.9 2006.53,1443.62 2016.71,1445.57 2026.9,1440.74 2037.08,1429.17 2047.26,1410.99 2057.45,1386.36 2067.63,1355.55 2077.81,1318.85 \n",
       "  2087.99,1276.64 2098.18,1229.33 2108.36,1177.4 2118.54,1121.36 2128.73,1061.78 2138.91,999.255 2149.09,934.404 2159.28,867.878 2169.46,800.34 2179.64,732.467 \n",
       "  2189.83,664.935 2200.01,598.421 2210.19,533.588 2220.38,471.084 2230.56,411.534 2240.74,355.532 2250.92,303.639 2261.11,256.373 2271.29,214.206 2281.47,177.559 \n",
       "  2291.66,146.798 \n",
       "  \"/>\n",
       "<path clip-path=\"url(#clip770)\" d=\"\n",
       "M1988.36 198.898 L2280.8 198.898 L2280.8 95.2176 L1988.36 95.2176  Z\n",
       "  \" fill=\"#ffffff\" fill-rule=\"evenodd\" fill-opacity=\"1\"/>\n",
       "<polyline clip-path=\"url(#clip770)\" style=\"stroke:#000000; stroke-linecap:butt; stroke-linejoin:round; stroke-width:4; stroke-opacity:1; fill:none\" points=\"\n",
       "  1988.36,198.898 2280.8,198.898 2280.8,95.2176 1988.36,95.2176 1988.36,198.898 \n",
       "  \"/>\n",
       "<polyline clip-path=\"url(#clip770)\" style=\"stroke:#009af9; stroke-linecap:butt; stroke-linejoin:round; stroke-width:4; stroke-opacity:1; fill:none\" points=\"\n",
       "  2012.36,147.058 2156.36,147.058 \n",
       "  \"/>\n",
       "<path clip-path=\"url(#clip770)\" d=\"M2194.21 166.745 Q2192.4 171.375 2190.69 172.787 Q2188.98 174.199 2186.11 174.199 L2182.7 174.199 L2182.7 170.634 L2185.2 170.634 Q2186.96 170.634 2187.93 169.8 Q2188.91 168.967 2190.09 165.865 L2190.85 163.921 L2180.36 138.412 L2184.88 138.412 L2192.98 158.689 L2201.08 138.412 L2205.6 138.412 L2194.21 166.745 Z\" fill=\"#000000\" fill-rule=\"evenodd\" fill-opacity=\"1\" /><path clip-path=\"url(#clip770)\" d=\"M2212.89 160.402 L2220.53 160.402 L2220.53 134.037 L2212.22 135.703 L2212.22 131.444 L2220.48 129.778 L2225.16 129.778 L2225.16 160.402 L2232.8 160.402 L2232.8 164.338 L2212.89 164.338 L2212.89 160.402 Z\" fill=\"#000000\" fill-rule=\"evenodd\" fill-opacity=\"1\" /></svg>\n"
      ]
     },
     "execution_count": 35,
     "metadata": {},
     "output_type": "execute_result"
    },
    {
     "name": "stderr",
     "output_type": "stream",
     "text": [
      "┌ Info: Precompiling GR_jll [d2c73de3-f751-5644-a686-071e5b155ba9]\n",
      "└ @ Base loading.jl:1423\n"
     ]
    }
   ],
   "source": [
    "xs = 0:0.1:20;\n",
    "ys = sin.(xs); # we are using dot syntax - indicates broadcasting over the entire sequence\n",
    "\n",
    "plot(xs, ys)"
   ]
  },
  {
   "cell_type": "markdown",
   "metadata": {
    "slideshow": {
     "slide_type": "slide"
    }
   },
   "source": [
    "# Visualisation\n",
    "\n",
    "We can add titles, legends, colors and other components with keywords. \n",
    "\n",
    "You can check the [Plots.jl](https://juliaplots.org/) package documentation for the different keywords for plots"
   ]
  },
  {
   "cell_type": "code",
   "execution_count": 36,
   "metadata": {
    "slideshow": {
     "slide_type": "fragment"
    }
   },
   "outputs": [
    {
     "data": {
      "image/svg+xml": [
       "<?xml version=\"1.0\" encoding=\"utf-8\"?>\n",
       "<svg xmlns=\"http://www.w3.org/2000/svg\" xmlns:xlink=\"http://www.w3.org/1999/xlink\" width=\"600\" height=\"400\" viewBox=\"0 0 2400 1600\">\n",
       "<defs>\n",
       "  <clipPath id=\"clip810\">\n",
       "    <rect x=\"0\" y=\"0\" width=\"2400\" height=\"1600\"/>\n",
       "  </clipPath>\n",
       "</defs>\n",
       "<path clip-path=\"url(#clip810)\" d=\"\n",
       "M0 1600 L2400 1600 L2400 0 L0 0  Z\n",
       "  \" fill=\"#ffffff\" fill-rule=\"evenodd\" fill-opacity=\"1\"/>\n",
       "<defs>\n",
       "  <clipPath id=\"clip811\">\n",
       "    <rect x=\"480\" y=\"0\" width=\"1681\" height=\"1600\"/>\n",
       "  </clipPath>\n",
       "</defs>\n",
       "<path clip-path=\"url(#clip810)\" d=\"\n",
       "M193.936 1486.45 L2352.76 1486.45 L2352.76 123.472 L193.936 123.472  Z\n",
       "  \" fill=\"#ffffff\" fill-rule=\"evenodd\" fill-opacity=\"1\"/>\n",
       "<defs>\n",
       "  <clipPath id=\"clip812\">\n",
       "    <rect x=\"193\" y=\"123\" width=\"2160\" height=\"1364\"/>\n",
       "  </clipPath>\n",
       "</defs>\n",
       "<polyline clip-path=\"url(#clip812)\" style=\"stroke:#000000; stroke-linecap:butt; stroke-linejoin:round; stroke-width:2; stroke-opacity:0.1; fill:none\" points=\"\n",
       "  255.035,1486.45 255.035,123.472 \n",
       "  \"/>\n",
       "<polyline clip-path=\"url(#clip812)\" style=\"stroke:#000000; stroke-linecap:butt; stroke-linejoin:round; stroke-width:2; stroke-opacity:0.1; fill:none\" points=\"\n",
       "  764.19,1486.45 764.19,123.472 \n",
       "  \"/>\n",
       "<polyline clip-path=\"url(#clip812)\" style=\"stroke:#000000; stroke-linecap:butt; stroke-linejoin:round; stroke-width:2; stroke-opacity:0.1; fill:none\" points=\"\n",
       "  1273.35,1486.45 1273.35,123.472 \n",
       "  \"/>\n",
       "<polyline clip-path=\"url(#clip812)\" style=\"stroke:#000000; stroke-linecap:butt; stroke-linejoin:round; stroke-width:2; stroke-opacity:0.1; fill:none\" points=\"\n",
       "  1782.5,1486.45 1782.5,123.472 \n",
       "  \"/>\n",
       "<polyline clip-path=\"url(#clip812)\" style=\"stroke:#000000; stroke-linecap:butt; stroke-linejoin:round; stroke-width:2; stroke-opacity:0.1; fill:none\" points=\"\n",
       "  2291.66,1486.45 2291.66,123.472 \n",
       "  \"/>\n",
       "<polyline clip-path=\"url(#clip810)\" style=\"stroke:#000000; stroke-linecap:butt; stroke-linejoin:round; stroke-width:4; stroke-opacity:1; fill:none\" points=\"\n",
       "  193.936,1486.45 2352.76,1486.45 \n",
       "  \"/>\n",
       "<polyline clip-path=\"url(#clip810)\" style=\"stroke:#000000; stroke-linecap:butt; stroke-linejoin:round; stroke-width:4; stroke-opacity:1; fill:none\" points=\"\n",
       "  255.035,1486.45 255.035,1467.55 \n",
       "  \"/>\n",
       "<polyline clip-path=\"url(#clip810)\" style=\"stroke:#000000; stroke-linecap:butt; stroke-linejoin:round; stroke-width:4; stroke-opacity:1; fill:none\" points=\"\n",
       "  764.19,1486.45 764.19,1467.55 \n",
       "  \"/>\n",
       "<polyline clip-path=\"url(#clip810)\" style=\"stroke:#000000; stroke-linecap:butt; stroke-linejoin:round; stroke-width:4; stroke-opacity:1; fill:none\" points=\"\n",
       "  1273.35,1486.45 1273.35,1467.55 \n",
       "  \"/>\n",
       "<polyline clip-path=\"url(#clip810)\" style=\"stroke:#000000; stroke-linecap:butt; stroke-linejoin:round; stroke-width:4; stroke-opacity:1; fill:none\" points=\"\n",
       "  1782.5,1486.45 1782.5,1467.55 \n",
       "  \"/>\n",
       "<polyline clip-path=\"url(#clip810)\" style=\"stroke:#000000; stroke-linecap:butt; stroke-linejoin:round; stroke-width:4; stroke-opacity:1; fill:none\" points=\"\n",
       "  2291.66,1486.45 2291.66,1467.55 \n",
       "  \"/>\n",
       "<path clip-path=\"url(#clip810)\" d=\"M255.035 1517.37 Q251.424 1517.37 249.595 1520.93 Q247.789 1524.47 247.789 1531.6 Q247.789 1538.71 249.595 1542.27 Q251.424 1545.82 255.035 1545.82 Q258.669 1545.82 260.474 1542.27 Q262.303 1538.71 262.303 1531.6 Q262.303 1524.47 260.474 1520.93 Q258.669 1517.37 255.035 1517.37 M255.035 1513.66 Q260.845 1513.66 263.9 1518.27 Q266.979 1522.85 266.979 1531.6 Q266.979 1540.33 263.9 1544.94 Q260.845 1549.52 255.035 1549.52 Q249.225 1549.52 246.146 1544.94 Q243.09 1540.33 243.09 1531.6 Q243.09 1522.85 246.146 1518.27 Q249.225 1513.66 255.035 1513.66 Z\" fill=\"#000000\" fill-rule=\"evenodd\" fill-opacity=\"1\" /><path clip-path=\"url(#clip810)\" d=\"M754.468 1514.29 L772.825 1514.29 L772.825 1518.22 L758.751 1518.22 L758.751 1526.7 Q759.769 1526.35 760.788 1526.19 Q761.806 1526 762.825 1526 Q768.612 1526 771.991 1529.17 Q775.371 1532.34 775.371 1537.76 Q775.371 1543.34 771.899 1546.44 Q768.426 1549.52 762.107 1549.52 Q759.931 1549.52 757.663 1549.15 Q755.417 1548.78 753.01 1548.04 L753.01 1543.34 Q755.093 1544.47 757.315 1545.03 Q759.538 1545.58 762.014 1545.58 Q766.019 1545.58 768.357 1543.48 Q770.695 1541.37 770.695 1537.76 Q770.695 1534.15 768.357 1532.04 Q766.019 1529.94 762.014 1529.94 Q760.139 1529.94 758.264 1530.35 Q756.413 1530.77 754.468 1531.65 L754.468 1514.29 Z\" fill=\"#000000\" fill-rule=\"evenodd\" fill-opacity=\"1\" /><path clip-path=\"url(#clip810)\" d=\"M1248.03 1544.91 L1255.67 1544.91 L1255.67 1518.55 L1247.36 1520.21 L1247.36 1515.95 L1255.63 1514.29 L1260.3 1514.29 L1260.3 1544.91 L1267.94 1544.91 L1267.94 1548.85 L1248.03 1548.85 L1248.03 1544.91 Z\" fill=\"#000000\" fill-rule=\"evenodd\" fill-opacity=\"1\" /><path clip-path=\"url(#clip810)\" d=\"M1287.39 1517.37 Q1283.77 1517.37 1281.95 1520.93 Q1280.14 1524.47 1280.14 1531.6 Q1280.14 1538.71 1281.95 1542.27 Q1283.77 1545.82 1287.39 1545.82 Q1291.02 1545.82 1292.83 1542.27 Q1294.65 1538.71 1294.65 1531.6 Q1294.65 1524.47 1292.83 1520.93 Q1291.02 1517.37 1287.39 1517.37 M1287.39 1513.66 Q1293.2 1513.66 1296.25 1518.27 Q1299.33 1522.85 1299.33 1531.6 Q1299.33 1540.33 1296.25 1544.94 Q1293.2 1549.52 1287.39 1549.52 Q1281.58 1549.52 1278.5 1544.94 Q1275.44 1540.33 1275.44 1531.6 Q1275.44 1522.85 1278.5 1518.27 Q1281.58 1513.66 1287.39 1513.66 Z\" fill=\"#000000\" fill-rule=\"evenodd\" fill-opacity=\"1\" /><path clip-path=\"url(#clip810)\" d=\"M1757.69 1544.91 L1765.33 1544.91 L1765.33 1518.55 L1757.02 1520.21 L1757.02 1515.95 L1765.28 1514.29 L1769.96 1514.29 L1769.96 1544.91 L1777.59 1544.91 L1777.59 1548.85 L1757.69 1548.85 L1757.69 1544.91 Z\" fill=\"#000000\" fill-rule=\"evenodd\" fill-opacity=\"1\" /><path clip-path=\"url(#clip810)\" d=\"M1787.08 1514.29 L1805.44 1514.29 L1805.44 1518.22 L1791.37 1518.22 L1791.37 1526.7 Q1792.39 1526.35 1793.4 1526.19 Q1794.42 1526 1795.44 1526 Q1801.23 1526 1804.61 1529.17 Q1807.99 1532.34 1807.99 1537.76 Q1807.99 1543.34 1804.52 1546.44 Q1801.04 1549.52 1794.72 1549.52 Q1792.55 1549.52 1790.28 1549.15 Q1788.03 1548.78 1785.63 1548.04 L1785.63 1543.34 Q1787.71 1544.47 1789.93 1545.03 Q1792.15 1545.58 1794.63 1545.58 Q1798.64 1545.58 1800.97 1543.48 Q1803.31 1541.37 1803.31 1537.76 Q1803.31 1534.15 1800.97 1532.04 Q1798.64 1529.94 1794.63 1529.94 Q1792.76 1529.94 1790.88 1530.35 Q1789.03 1530.77 1787.08 1531.65 L1787.08 1514.29 Z\" fill=\"#000000\" fill-rule=\"evenodd\" fill-opacity=\"1\" /><path clip-path=\"url(#clip810)\" d=\"M2270.43 1544.91 L2286.75 1544.91 L2286.75 1548.85 L2264.81 1548.85 L2264.81 1544.91 Q2267.47 1542.16 2272.05 1537.53 Q2276.66 1532.88 2277.84 1531.53 Q2280.08 1529.01 2280.96 1527.27 Q2281.87 1525.51 2281.87 1523.82 Q2281.87 1521.07 2279.92 1519.33 Q2278 1517.6 2274.9 1517.6 Q2272.7 1517.6 2270.25 1518.36 Q2267.81 1519.13 2265.04 1520.68 L2265.04 1515.95 Q2267.86 1514.82 2270.31 1514.24 Q2272.77 1513.66 2274.81 1513.66 Q2280.18 1513.66 2283.37 1516.35 Q2286.56 1519.03 2286.56 1523.52 Q2286.56 1525.65 2285.75 1527.57 Q2284.97 1529.47 2282.86 1532.07 Q2282.28 1532.74 2279.18 1535.95 Q2276.08 1539.15 2270.43 1544.91 Z\" fill=\"#000000\" fill-rule=\"evenodd\" fill-opacity=\"1\" /><path clip-path=\"url(#clip810)\" d=\"M2306.56 1517.37 Q2302.95 1517.37 2301.12 1520.93 Q2299.32 1524.47 2299.32 1531.6 Q2299.32 1538.71 2301.12 1542.27 Q2302.95 1545.82 2306.56 1545.82 Q2310.2 1545.82 2312 1542.27 Q2313.83 1538.71 2313.83 1531.6 Q2313.83 1524.47 2312 1520.93 Q2310.2 1517.37 2306.56 1517.37 M2306.56 1513.66 Q2312.37 1513.66 2315.43 1518.27 Q2318.51 1522.85 2318.51 1531.6 Q2318.51 1540.33 2315.43 1544.94 Q2312.37 1549.52 2306.56 1549.52 Q2300.75 1549.52 2297.68 1544.94 Q2294.62 1540.33 2294.62 1531.6 Q2294.62 1522.85 2297.68 1518.27 Q2300.75 1513.66 2306.56 1513.66 Z\" fill=\"#000000\" fill-rule=\"evenodd\" fill-opacity=\"1\" /><polyline clip-path=\"url(#clip812)\" style=\"stroke:#000000; stroke-linecap:butt; stroke-linejoin:round; stroke-width:2; stroke-opacity:0.1; fill:none\" points=\"\n",
       "  193.936,1447.88 2352.76,1447.88 \n",
       "  \"/>\n",
       "<polyline clip-path=\"url(#clip812)\" style=\"stroke:#000000; stroke-linecap:butt; stroke-linejoin:round; stroke-width:2; stroke-opacity:0.1; fill:none\" points=\"\n",
       "  193.936,1126.35 2352.76,1126.35 \n",
       "  \"/>\n",
       "<polyline clip-path=\"url(#clip812)\" style=\"stroke:#000000; stroke-linecap:butt; stroke-linejoin:round; stroke-width:2; stroke-opacity:0.1; fill:none\" points=\"\n",
       "  193.936,804.826 2352.76,804.826 \n",
       "  \"/>\n",
       "<polyline clip-path=\"url(#clip812)\" style=\"stroke:#000000; stroke-linecap:butt; stroke-linejoin:round; stroke-width:2; stroke-opacity:0.1; fill:none\" points=\"\n",
       "  193.936,483.299 2352.76,483.299 \n",
       "  \"/>\n",
       "<polyline clip-path=\"url(#clip812)\" style=\"stroke:#000000; stroke-linecap:butt; stroke-linejoin:round; stroke-width:2; stroke-opacity:0.1; fill:none\" points=\"\n",
       "  193.936,161.773 2352.76,161.773 \n",
       "  \"/>\n",
       "<polyline clip-path=\"url(#clip810)\" style=\"stroke:#000000; stroke-linecap:butt; stroke-linejoin:round; stroke-width:4; stroke-opacity:1; fill:none\" points=\"\n",
       "  193.936,1486.45 193.936,123.472 \n",
       "  \"/>\n",
       "<polyline clip-path=\"url(#clip810)\" style=\"stroke:#000000; stroke-linecap:butt; stroke-linejoin:round; stroke-width:4; stroke-opacity:1; fill:none\" points=\"\n",
       "  193.936,1447.88 212.834,1447.88 \n",
       "  \"/>\n",
       "<polyline clip-path=\"url(#clip810)\" style=\"stroke:#000000; stroke-linecap:butt; stroke-linejoin:round; stroke-width:4; stroke-opacity:1; fill:none\" points=\"\n",
       "  193.936,1126.35 212.834,1126.35 \n",
       "  \"/>\n",
       "<polyline clip-path=\"url(#clip810)\" style=\"stroke:#000000; stroke-linecap:butt; stroke-linejoin:round; stroke-width:4; stroke-opacity:1; fill:none\" points=\"\n",
       "  193.936,804.826 212.834,804.826 \n",
       "  \"/>\n",
       "<polyline clip-path=\"url(#clip810)\" style=\"stroke:#000000; stroke-linecap:butt; stroke-linejoin:round; stroke-width:4; stroke-opacity:1; fill:none\" points=\"\n",
       "  193.936,483.299 212.834,483.299 \n",
       "  \"/>\n",
       "<polyline clip-path=\"url(#clip810)\" style=\"stroke:#000000; stroke-linecap:butt; stroke-linejoin:round; stroke-width:4; stroke-opacity:1; fill:none\" points=\"\n",
       "  193.936,161.773 212.834,161.773 \n",
       "  \"/>\n",
       "<path clip-path=\"url(#clip810)\" d=\"M50.9921 1448.33 L80.6679 1448.33 L80.6679 1452.27 L50.9921 1452.27 L50.9921 1448.33 Z\" fill=\"#000000\" fill-rule=\"evenodd\" fill-opacity=\"1\" /><path clip-path=\"url(#clip810)\" d=\"M91.5706 1461.22 L99.2095 1461.22 L99.2095 1434.86 L90.8993 1436.53 L90.8993 1432.27 L99.1632 1430.6 L103.839 1430.6 L103.839 1461.22 L111.478 1461.22 L111.478 1465.16 L91.5706 1465.16 L91.5706 1461.22 Z\" fill=\"#000000\" fill-rule=\"evenodd\" fill-opacity=\"1\" /><path clip-path=\"url(#clip810)\" d=\"M120.922 1459.28 L125.807 1459.28 L125.807 1465.16 L120.922 1465.16 L120.922 1459.28 Z\" fill=\"#000000\" fill-rule=\"evenodd\" fill-opacity=\"1\" /><path clip-path=\"url(#clip810)\" d=\"M145.992 1433.68 Q142.381 1433.68 140.552 1437.24 Q138.746 1440.78 138.746 1447.91 Q138.746 1455.02 140.552 1458.59 Q142.381 1462.13 145.992 1462.13 Q149.626 1462.13 151.431 1458.59 Q153.26 1455.02 153.26 1447.91 Q153.26 1440.78 151.431 1437.24 Q149.626 1433.68 145.992 1433.68 M145.992 1429.97 Q151.802 1429.97 154.857 1434.58 Q157.936 1439.16 157.936 1447.91 Q157.936 1456.64 154.857 1461.25 Q151.802 1465.83 145.992 1465.83 Q140.181 1465.83 137.103 1461.25 Q134.047 1456.64 134.047 1447.91 Q134.047 1439.16 137.103 1434.58 Q140.181 1429.97 145.992 1429.97 Z\" fill=\"#000000\" fill-rule=\"evenodd\" fill-opacity=\"1\" /><path clip-path=\"url(#clip810)\" d=\"M51.9875 1126.8 L81.6633 1126.8 L81.6633 1130.74 L51.9875 1130.74 L51.9875 1126.8 Z\" fill=\"#000000\" fill-rule=\"evenodd\" fill-opacity=\"1\" /><path clip-path=\"url(#clip810)\" d=\"M101.756 1112.15 Q98.1447 1112.15 96.316 1115.72 Q94.5104 1119.26 94.5104 1126.39 Q94.5104 1133.49 96.316 1137.06 Q98.1447 1140.6 101.756 1140.6 Q105.39 1140.6 107.196 1137.06 Q109.024 1133.49 109.024 1126.39 Q109.024 1119.26 107.196 1115.72 Q105.39 1112.15 101.756 1112.15 M101.756 1108.45 Q107.566 1108.45 110.621 1113.05 Q113.7 1117.64 113.7 1126.39 Q113.7 1135.11 110.621 1139.72 Q107.566 1144.3 101.756 1144.3 Q95.9456 1144.3 92.8669 1139.72 Q89.8114 1135.11 89.8114 1126.39 Q89.8114 1117.64 92.8669 1113.05 Q95.9456 1108.45 101.756 1108.45 Z\" fill=\"#000000\" fill-rule=\"evenodd\" fill-opacity=\"1\" /><path clip-path=\"url(#clip810)\" d=\"M121.918 1137.75 L126.802 1137.75 L126.802 1143.63 L121.918 1143.63 L121.918 1137.75 Z\" fill=\"#000000\" fill-rule=\"evenodd\" fill-opacity=\"1\" /><path clip-path=\"url(#clip810)\" d=\"M137.033 1109.07 L155.39 1109.07 L155.39 1113.01 L141.316 1113.01 L141.316 1121.48 Q142.334 1121.13 143.353 1120.97 Q144.371 1120.79 145.39 1120.79 Q151.177 1120.79 154.556 1123.96 Q157.936 1127.13 157.936 1132.54 Q157.936 1138.12 154.464 1141.23 Q150.992 1144.3 144.672 1144.3 Q142.496 1144.3 140.228 1143.93 Q137.982 1143.56 135.575 1142.82 L135.575 1138.12 Q137.658 1139.26 139.881 1139.81 Q142.103 1140.37 144.58 1140.37 Q148.584 1140.37 150.922 1138.26 Q153.26 1136.16 153.26 1132.54 Q153.26 1128.93 150.922 1126.83 Q148.584 1124.72 144.58 1124.72 Q142.705 1124.72 140.83 1125.14 Q138.978 1125.55 137.033 1126.43 L137.033 1109.07 Z\" fill=\"#000000\" fill-rule=\"evenodd\" fill-opacity=\"1\" /><path clip-path=\"url(#clip810)\" d=\"M100.76 790.625 Q97.1493 790.625 95.3206 794.19 Q93.515 797.731 93.515 804.861 Q93.515 811.967 95.3206 815.532 Q97.1493 819.074 100.76 819.074 Q104.395 819.074 106.2 815.532 Q108.029 811.967 108.029 804.861 Q108.029 797.731 106.2 794.19 Q104.395 790.625 100.76 790.625 M100.76 786.921 Q106.571 786.921 109.626 791.528 Q112.705 796.111 112.705 804.861 Q112.705 813.588 109.626 818.194 Q106.571 822.777 100.76 822.777 Q94.9502 822.777 91.8715 818.194 Q88.816 813.588 88.816 804.861 Q88.816 796.111 91.8715 791.528 Q94.9502 786.921 100.76 786.921 Z\" fill=\"#000000\" fill-rule=\"evenodd\" fill-opacity=\"1\" /><path clip-path=\"url(#clip810)\" d=\"M120.922 816.226 L125.807 816.226 L125.807 822.106 L120.922 822.106 L120.922 816.226 Z\" fill=\"#000000\" fill-rule=\"evenodd\" fill-opacity=\"1\" /><path clip-path=\"url(#clip810)\" d=\"M145.992 790.625 Q142.381 790.625 140.552 794.19 Q138.746 797.731 138.746 804.861 Q138.746 811.967 140.552 815.532 Q142.381 819.074 145.992 819.074 Q149.626 819.074 151.431 815.532 Q153.26 811.967 153.26 804.861 Q153.26 797.731 151.431 794.19 Q149.626 790.625 145.992 790.625 M145.992 786.921 Q151.802 786.921 154.857 791.528 Q157.936 796.111 157.936 804.861 Q157.936 813.588 154.857 818.194 Q151.802 822.777 145.992 822.777 Q140.181 822.777 137.103 818.194 Q134.047 813.588 134.047 804.861 Q134.047 796.111 137.103 791.528 Q140.181 786.921 145.992 786.921 Z\" fill=\"#000000\" fill-rule=\"evenodd\" fill-opacity=\"1\" /><path clip-path=\"url(#clip810)\" d=\"M101.756 469.098 Q98.1447 469.098 96.316 472.663 Q94.5104 476.205 94.5104 483.334 Q94.5104 490.441 96.316 494.005 Q98.1447 497.547 101.756 497.547 Q105.39 497.547 107.196 494.005 Q109.024 490.441 109.024 483.334 Q109.024 476.205 107.196 472.663 Q105.39 469.098 101.756 469.098 M101.756 465.394 Q107.566 465.394 110.621 470.001 Q113.7 474.584 113.7 483.334 Q113.7 492.061 110.621 496.667 Q107.566 501.251 101.756 501.251 Q95.9456 501.251 92.8669 496.667 Q89.8114 492.061 89.8114 483.334 Q89.8114 474.584 92.8669 470.001 Q95.9456 465.394 101.756 465.394 Z\" fill=\"#000000\" fill-rule=\"evenodd\" fill-opacity=\"1\" /><path clip-path=\"url(#clip810)\" d=\"M121.918 494.7 L126.802 494.7 L126.802 500.579 L121.918 500.579 L121.918 494.7 Z\" fill=\"#000000\" fill-rule=\"evenodd\" fill-opacity=\"1\" /><path clip-path=\"url(#clip810)\" d=\"M137.033 466.019 L155.39 466.019 L155.39 469.955 L141.316 469.955 L141.316 478.427 Q142.334 478.08 143.353 477.917 Q144.371 477.732 145.39 477.732 Q151.177 477.732 154.556 480.904 Q157.936 484.075 157.936 489.491 Q157.936 495.07 154.464 498.172 Q150.992 501.251 144.672 501.251 Q142.496 501.251 140.228 500.88 Q137.982 500.51 135.575 499.769 L135.575 495.07 Q137.658 496.204 139.881 496.76 Q142.103 497.316 144.58 497.316 Q148.584 497.316 150.922 495.209 Q153.26 493.103 153.26 489.491 Q153.26 485.88 150.922 483.774 Q148.584 481.667 144.58 481.667 Q142.705 481.667 140.83 482.084 Q138.978 482.501 137.033 483.38 L137.033 466.019 Z\" fill=\"#000000\" fill-rule=\"evenodd\" fill-opacity=\"1\" /><path clip-path=\"url(#clip810)\" d=\"M91.5706 175.118 L99.2095 175.118 L99.2095 148.752 L90.8993 150.419 L90.8993 146.159 L99.1632 144.493 L103.839 144.493 L103.839 175.118 L111.478 175.118 L111.478 179.053 L91.5706 179.053 L91.5706 175.118 Z\" fill=\"#000000\" fill-rule=\"evenodd\" fill-opacity=\"1\" /><path clip-path=\"url(#clip810)\" d=\"M120.922 173.173 L125.807 173.173 L125.807 179.053 L120.922 179.053 L120.922 173.173 Z\" fill=\"#000000\" fill-rule=\"evenodd\" fill-opacity=\"1\" /><path clip-path=\"url(#clip810)\" d=\"M145.992 147.571 Q142.381 147.571 140.552 151.136 Q138.746 154.678 138.746 161.807 Q138.746 168.914 140.552 172.479 Q142.381 176.02 145.992 176.02 Q149.626 176.02 151.431 172.479 Q153.26 168.914 153.26 161.807 Q153.26 154.678 151.431 151.136 Q149.626 147.571 145.992 147.571 M145.992 143.868 Q151.802 143.868 154.857 148.474 Q157.936 153.057 157.936 161.807 Q157.936 170.534 154.857 175.141 Q151.802 179.724 145.992 179.724 Q140.181 179.724 137.103 175.141 Q134.047 170.534 134.047 161.807 Q134.047 153.057 137.103 148.474 Q140.181 143.868 145.992 143.868 Z\" fill=\"#000000\" fill-rule=\"evenodd\" fill-opacity=\"1\" /><path clip-path=\"url(#clip810)\" d=\"M1041.78 17.6457 Q1032.86 17.6457 1027.6 24.2892 Q1022.37 30.9327 1022.37 42.3968 Q1022.37 53.8203 1027.6 60.4638 Q1032.86 67.1073 1041.78 67.1073 Q1050.69 67.1073 1055.87 60.4638 Q1061.1 53.8203 1061.1 42.3968 Q1061.1 30.9327 1055.87 24.2892 Q1050.69 17.6457 1041.78 17.6457 M1041.78 11.0023 Q1054.5 11.0023 1062.11 19.5497 Q1069.73 28.0566 1069.73 42.3968 Q1069.73 56.6965 1062.11 65.2439 Q1054.5 73.7508 1041.78 73.7508 Q1029.02 73.7508 1021.36 65.2439 Q1013.74 56.737 1013.74 42.3968 Q1013.74 28.0566 1021.36 19.5497 Q1029.02 11.0023 1041.78 11.0023 Z\" fill=\"#000000\" fill-rule=\"evenodd\" fill-opacity=\"1\" /><path clip-path=\"url(#clip810)\" d=\"M1081.43 54.671 L1081.43 27.2059 L1088.89 27.2059 L1088.89 54.3874 Q1088.89 60.8284 1091.4 64.0691 Q1093.91 67.2693 1098.93 67.2693 Q1104.97 67.2693 1108.45 63.421 Q1111.98 59.5726 1111.98 52.9291 L1111.98 27.2059 L1119.43 27.2059 L1119.43 72.576 L1111.98 72.576 L1111.98 65.6084 Q1109.26 69.7404 1105.66 71.7658 Q1102.09 73.7508 1097.35 73.7508 Q1089.54 73.7508 1085.49 68.8897 Q1081.43 64.0286 1081.43 54.671 M1100.19 26.1121 L1100.19 26.1121 Z\" fill=\"#000000\" fill-rule=\"evenodd\" fill-opacity=\"1\" /><path clip-path=\"url(#clip810)\" d=\"M1161.08 34.1734 Q1159.82 33.4443 1158.32 33.1202 Q1156.86 32.7556 1155.08 32.7556 Q1148.76 32.7556 1145.36 36.8875 Q1142 40.9789 1142 48.6757 L1142 72.576 L1134.5 72.576 L1134.5 27.2059 L1142 27.2059 L1142 34.2544 Q1144.34 30.1225 1148.11 28.1376 Q1151.88 26.1121 1157.27 26.1121 Q1158.04 26.1121 1158.97 26.2337 Q1159.9 26.3147 1161.03 26.5172 L1161.08 34.1734 Z\" fill=\"#000000\" fill-rule=\"evenodd\" fill-opacity=\"1\" /><path clip-path=\"url(#clip810)\" d=\"M1218.23 9.54393 L1218.23 15.7418 L1211.1 15.7418 Q1207.09 15.7418 1205.51 17.3622 Q1203.97 18.9825 1203.97 23.1955 L1203.97 27.2059 L1216.25 27.2059 L1216.25 32.9987 L1203.97 32.9987 L1203.97 72.576 L1196.48 72.576 L1196.48 32.9987 L1189.35 32.9987 L1189.35 27.2059 L1196.48 27.2059 L1196.48 24.0462 Q1196.48 16.471 1200 13.0277 Q1203.53 9.54393 1211.18 9.54393 L1218.23 9.54393 Z\" fill=\"#000000\" fill-rule=\"evenodd\" fill-opacity=\"1\" /><path clip-path=\"url(#clip810)\" d=\"M1224.47 27.2059 L1231.93 27.2059 L1231.93 72.576 L1224.47 72.576 L1224.47 27.2059 M1224.47 9.54393 L1231.93 9.54393 L1231.93 18.9825 L1224.47 18.9825 L1224.47 9.54393 Z\" fill=\"#000000\" fill-rule=\"evenodd\" fill-opacity=\"1\" /><path clip-path=\"url(#clip810)\" d=\"M1273.81 34.1734 Q1272.56 33.4443 1271.06 33.1202 Q1269.6 32.7556 1267.82 32.7556 Q1261.5 32.7556 1258.09 36.8875 Q1254.73 40.9789 1254.73 48.6757 L1254.73 72.576 L1247.24 72.576 L1247.24 27.2059 L1254.73 27.2059 L1254.73 34.2544 Q1257.08 30.1225 1260.85 28.1376 Q1264.62 26.1121 1270 26.1121 Q1270.77 26.1121 1271.71 26.2337 Q1272.64 26.3147 1273.77 26.5172 L1273.81 34.1734 Z\" fill=\"#000000\" fill-rule=\"evenodd\" fill-opacity=\"1\" /><path clip-path=\"url(#clip810)\" d=\"M1310.55 28.5427 L1310.55 35.5912 Q1307.39 33.9709 1303.99 33.1607 Q1300.59 32.3505 1296.94 32.3505 Q1291.39 32.3505 1288.6 34.0519 Q1285.84 35.7533 1285.84 39.156 Q1285.84 41.7486 1287.83 43.2475 Q1289.81 44.7058 1295.81 46.0426 L1298.36 46.6097 Q1306.3 48.3111 1309.62 51.4303 Q1312.98 54.509 1312.98 60.0587 Q1312.98 66.3781 1307.96 70.0644 Q1302.98 73.7508 1294.23 73.7508 Q1290.58 73.7508 1286.61 73.0216 Q1282.68 72.3329 1278.31 70.9151 L1278.31 63.2184 Q1282.44 65.3654 1286.45 66.4591 Q1290.46 67.5124 1294.39 67.5124 Q1299.66 67.5124 1302.49 65.73 Q1305.33 63.9071 1305.33 60.6258 Q1305.33 57.5877 1303.26 55.9673 Q1301.24 54.3469 1294.31 52.8481 L1291.72 52.2405 Q1284.79 50.7821 1281.71 47.7845 Q1278.63 44.7463 1278.63 39.4801 Q1278.63 33.0797 1283.17 29.5959 Q1287.71 26.1121 1296.05 26.1121 Q1300.18 26.1121 1303.83 26.7198 Q1307.47 27.3274 1310.55 28.5427 Z\" fill=\"#000000\" fill-rule=\"evenodd\" fill-opacity=\"1\" /><path clip-path=\"url(#clip810)\" d=\"M1332.23 14.324 L1332.23 27.2059 L1347.58 27.2059 L1347.58 32.9987 L1332.23 32.9987 L1332.23 57.6282 Q1332.23 63.1779 1333.72 64.7578 Q1335.26 66.3376 1339.92 66.3376 L1347.58 66.3376 L1347.58 72.576 L1339.92 72.576 Q1331.29 72.576 1328.01 69.3758 Q1324.73 66.1351 1324.73 57.6282 L1324.73 32.9987 L1319.26 32.9987 L1319.26 27.2059 L1324.73 27.2059 L1324.73 14.324 L1332.23 14.324 Z\" fill=\"#000000\" fill-rule=\"evenodd\" fill-opacity=\"1\" /><path clip-path=\"url(#clip810)\" d=\"M1390.96 65.7705 L1390.96 89.8329 L1383.47 89.8329 L1383.47 27.2059 L1390.96 27.2059 L1390.96 34.0924 Q1393.31 30.0415 1396.88 28.0971 Q1400.48 26.1121 1405.47 26.1121 Q1413.73 26.1121 1418.87 32.6746 Q1424.06 39.2371 1424.06 49.9314 Q1424.06 60.6258 1418.87 67.1883 Q1413.73 73.7508 1405.47 73.7508 Q1400.48 73.7508 1396.88 71.8063 Q1393.31 69.8214 1390.96 65.7705 M1416.32 49.9314 Q1416.32 41.7081 1412.92 37.0496 Q1409.56 32.3505 1403.64 32.3505 Q1397.73 32.3505 1394.33 37.0496 Q1390.96 41.7081 1390.96 49.9314 Q1390.96 58.1548 1394.33 62.8538 Q1397.73 67.5124 1403.64 67.5124 Q1409.56 67.5124 1412.92 62.8538 Q1416.32 58.1548 1416.32 49.9314 Z\" fill=\"#000000\" fill-rule=\"evenodd\" fill-opacity=\"1\" /><path clip-path=\"url(#clip810)\" d=\"M1436.42 9.54393 L1443.87 9.54393 L1443.87 72.576 L1436.42 72.576 L1436.42 9.54393 Z\" fill=\"#000000\" fill-rule=\"evenodd\" fill-opacity=\"1\" /><path clip-path=\"url(#clip810)\" d=\"M1477.05 32.4315 Q1471.05 32.4315 1467.57 37.1306 Q1464.08 41.7891 1464.08 49.9314 Q1464.08 58.0738 1467.53 62.7728 Q1471.01 67.4314 1477.05 67.4314 Q1483 67.4314 1486.48 62.7323 Q1489.97 58.0333 1489.97 49.9314 Q1489.97 41.8701 1486.48 37.1711 Q1483 32.4315 1477.05 32.4315 M1477.05 26.1121 Q1486.77 26.1121 1492.32 32.4315 Q1497.87 38.7509 1497.87 49.9314 Q1497.87 61.0714 1492.32 67.4314 Q1486.77 73.7508 1477.05 73.7508 Q1467.28 73.7508 1461.73 67.4314 Q1456.22 61.0714 1456.22 49.9314 Q1456.22 38.7509 1461.73 32.4315 Q1467.28 26.1121 1477.05 26.1121 Z\" fill=\"#000000\" fill-rule=\"evenodd\" fill-opacity=\"1\" /><path clip-path=\"url(#clip810)\" d=\"M1517.6 14.324 L1517.6 27.2059 L1532.95 27.2059 L1532.95 32.9987 L1517.6 32.9987 L1517.6 57.6282 Q1517.6 63.1779 1519.09 64.7578 Q1520.63 66.3376 1525.29 66.3376 L1532.95 66.3376 L1532.95 72.576 L1525.29 72.576 Q1516.66 72.576 1513.38 69.3758 Q1510.1 66.1351 1510.1 57.6282 L1510.1 32.9987 L1504.63 32.9987 L1504.63 27.2059 L1510.1 27.2059 L1510.1 14.324 L1517.6 14.324 Z\" fill=\"#000000\" fill-rule=\"evenodd\" fill-opacity=\"1\" /><polyline clip-path=\"url(#clip812)\" style=\"stroke:#4682b4; stroke-linecap:butt; stroke-linejoin:round; stroke-width:6; stroke-opacity:1; fill:none\" points=\"\n",
       "  255.035,804.826 265.218,740.628 275.401,677.071 285.584,614.791 295.767,554.409 305.95,496.53 316.133,441.731 326.316,390.56 336.5,343.528 346.683,301.105 \n",
       "  356.866,263.715 367.049,231.732 377.232,205.475 387.415,185.207 397.598,171.129 407.781,163.384 417.964,162.047 428.148,167.133 438.331,178.59 448.514,196.305 \n",
       "  458.697,220.099 468.88,249.736 479.063,284.92 489.246,325.298 499.429,370.467 509.612,419.977 519.796,473.331 529.979,529.998 540.162,589.411 550.345,650.976 \n",
       "  560.528,714.078 570.711,778.087 580.894,842.364 591.077,906.265 601.261,969.153 611.444,1030.4 621.627,1089.39 631.81,1145.54 641.993,1198.28 652.176,1247.1 \n",
       "  662.359,1291.49 672.542,1331.02 682.725,1365.3 692.909,1393.97 703.092,1416.76 713.275,1433.43 723.458,1443.82 733.641,1447.83 743.824,1445.41 754.007,1436.6 \n",
       "  764.19,1421.47 774.373,1400.17 784.557,1372.93 794.74,1340.02 804.923,1301.75 815.106,1258.53 825.289,1210.76 835.472,1158.95 845.655,1103.59 855.838,1045.25 \n",
       "  866.021,984.505 876.205,921.966 886.388,858.257 896.571,794.014 906.754,729.879 916.937,666.492 927.12,604.488 937.303,544.486 947.486,487.085 957.669,432.858 \n",
       "  967.853,382.349 978.036,336.06 988.219,294.455 998.402,257.95 1008.59,226.909 1018.77,201.642 1028.95,182.402 1039.13,169.381 1049.32,162.709 1059.5,162.453 \n",
       "  1069.68,168.616 1079.87,181.135 1090.05,199.886 1100.23,224.681 1110.42,255.273 1120.6,291.356 1130.78,332.57 1140.97,378.501 1151.15,428.693 1161.33,482.643 \n",
       "  1171.51,539.812 1181.7,599.629 1191.88,661.496 1202.06,724.795 1212.25,788.894 1222.43,853.152 1232.61,916.927 1242.8,979.583 1252.98,1040.49 1263.16,1099.05 \n",
       "  1273.35,1154.66 1283.53,1206.78 1293.71,1254.88 1303.9,1298.49 1314.08,1337.16 1324.26,1370.52 1334.44,1398.22 1344.63,1419.99 1354.81,1435.62 1364.99,1444.94 \n",
       "  1375.18,1447.87 1385.36,1444.38 1395.54,1434.49 1405.73,1418.31 1415.91,1396 1426.09,1367.79 1436.28,1333.95 1446.46,1294.82 1456.64,1250.8 1466.83,1202.32 \n",
       "  1477.01,1149.87 1487.19,1093.97 1497.37,1035.19 1507.56,974.098 1517.74,911.318 1527.92,847.475 1538.11,783.205 1548.29,719.151 1558.47,655.953 1568.66,594.243 \n",
       "  1578.84,534.636 1589.02,477.73 1599.21,424.091 1609.39,374.257 1619.57,328.725 1629.75,287.95 1639.94,252.339 1650.12,222.249 1660.3,197.979 1670.49,179.773 \n",
       "  1680.67,167.813 1690.85,162.217 1701.04,163.042 1711.22,170.279 1721.4,183.857 1731.59,203.639 1741.77,229.428 1751.95,260.966 1762.14,297.938 1772.32,339.975 \n",
       "  1782.5,386.656 1792.68,437.516 1802.87,492.046 1813.05,549.701 1823.23,609.905 1833.42,672.056 1843.6,735.535 1853.78,799.705 1863.97,863.927 1874.15,927.558 \n",
       "  1884.33,989.963 1894.52,1050.52 1904.7,1108.62 1914.88,1163.68 1925.07,1215.16 1935.25,1262.54 1945.43,1305.35 1955.61,1343.15 1965.8,1375.58 1975.98,1402.3 \n",
       "  1986.16,1423.06 1996.35,1437.63 2006.53,1445.89 2016.71,1447.73 2026.9,1443.16 2037.08,1432.21 2047.26,1414.98 2057.45,1391.67 2067.63,1362.48 2077.81,1327.73 \n",
       "  2087.99,1287.75 2098.18,1242.95 2108.36,1193.77 2118.54,1140.7 2128.73,1084.27 2138.91,1025.06 2149.09,963.643 2159.28,900.64 2169.46,836.68 2179.64,772.402 \n",
       "  2189.83,708.447 2200.01,645.455 2210.19,584.056 2220.38,524.863 2230.56,468.467 2240.74,415.432 2250.92,366.287 2261.11,321.524 2271.29,281.59 2281.47,246.885 \n",
       "  2291.66,217.754 \n",
       "  \"/>\n",
       "</svg>\n"
      ]
     },
     "execution_count": 36,
     "metadata": {},
     "output_type": "execute_result"
    }
   ],
   "source": [
    "plot(xs, ys, color = :steelblue, title = \"Our first plot\", legend = false, lw = 1.5) # lw stands for line width"
   ]
  },
  {
   "cell_type": "markdown",
   "metadata": {
    "slideshow": {
     "slide_type": "slide"
    }
   },
   "source": [
    "# Visualisation\n",
    "\n",
    "Another nice feature of plotting is the ability to overlay plots on top of each other. \n",
    "\n",
    "Let us define two different plots and then overlay. "
   ]
  },
  {
   "cell_type": "code",
   "execution_count": 37,
   "metadata": {
    "slideshow": {
     "slide_type": "fragment"
    }
   },
   "outputs": [
    {
     "data": {
      "image/svg+xml": [
       "<?xml version=\"1.0\" encoding=\"utf-8\"?>\n",
       "<svg xmlns=\"http://www.w3.org/2000/svg\" xmlns:xlink=\"http://www.w3.org/1999/xlink\" width=\"600\" height=\"400\" viewBox=\"0 0 2400 1600\">\n",
       "<defs>\n",
       "  <clipPath id=\"clip850\">\n",
       "    <rect x=\"0\" y=\"0\" width=\"2400\" height=\"1600\"/>\n",
       "  </clipPath>\n",
       "</defs>\n",
       "<path clip-path=\"url(#clip850)\" d=\"\n",
       "M0 1600 L2400 1600 L2400 0 L0 0  Z\n",
       "  \" fill=\"#ffffff\" fill-rule=\"evenodd\" fill-opacity=\"1\"/>\n",
       "<defs>\n",
       "  <clipPath id=\"clip851\">\n",
       "    <rect x=\"480\" y=\"0\" width=\"1681\" height=\"1600\"/>\n",
       "  </clipPath>\n",
       "</defs>\n",
       "<path clip-path=\"url(#clip850)\" d=\"\n",
       "M193.936 1486.45 L2352.76 1486.45 L2352.76 47.2441 L193.936 47.2441  Z\n",
       "  \" fill=\"#ffffff\" fill-rule=\"evenodd\" fill-opacity=\"1\"/>\n",
       "<defs>\n",
       "  <clipPath id=\"clip852\">\n",
       "    <rect x=\"193\" y=\"47\" width=\"2160\" height=\"1440\"/>\n",
       "  </clipPath>\n",
       "</defs>\n",
       "<polyline clip-path=\"url(#clip852)\" style=\"stroke:#000000; stroke-linecap:butt; stroke-linejoin:round; stroke-width:2; stroke-opacity:0.1; fill:none\" points=\"\n",
       "  255.035,1486.45 255.035,47.2441 \n",
       "  \"/>\n",
       "<polyline clip-path=\"url(#clip852)\" style=\"stroke:#000000; stroke-linecap:butt; stroke-linejoin:round; stroke-width:2; stroke-opacity:0.1; fill:none\" points=\"\n",
       "  764.19,1486.45 764.19,47.2441 \n",
       "  \"/>\n",
       "<polyline clip-path=\"url(#clip852)\" style=\"stroke:#000000; stroke-linecap:butt; stroke-linejoin:round; stroke-width:2; stroke-opacity:0.1; fill:none\" points=\"\n",
       "  1273.35,1486.45 1273.35,47.2441 \n",
       "  \"/>\n",
       "<polyline clip-path=\"url(#clip852)\" style=\"stroke:#000000; stroke-linecap:butt; stroke-linejoin:round; stroke-width:2; stroke-opacity:0.1; fill:none\" points=\"\n",
       "  1782.5,1486.45 1782.5,47.2441 \n",
       "  \"/>\n",
       "<polyline clip-path=\"url(#clip852)\" style=\"stroke:#000000; stroke-linecap:butt; stroke-linejoin:round; stroke-width:2; stroke-opacity:0.1; fill:none\" points=\"\n",
       "  2291.66,1486.45 2291.66,47.2441 \n",
       "  \"/>\n",
       "<polyline clip-path=\"url(#clip850)\" style=\"stroke:#000000; stroke-linecap:butt; stroke-linejoin:round; stroke-width:4; stroke-opacity:1; fill:none\" points=\"\n",
       "  193.936,1486.45 2352.76,1486.45 \n",
       "  \"/>\n",
       "<polyline clip-path=\"url(#clip850)\" style=\"stroke:#000000; stroke-linecap:butt; stroke-linejoin:round; stroke-width:4; stroke-opacity:1; fill:none\" points=\"\n",
       "  255.035,1486.45 255.035,1467.55 \n",
       "  \"/>\n",
       "<polyline clip-path=\"url(#clip850)\" style=\"stroke:#000000; stroke-linecap:butt; stroke-linejoin:round; stroke-width:4; stroke-opacity:1; fill:none\" points=\"\n",
       "  764.19,1486.45 764.19,1467.55 \n",
       "  \"/>\n",
       "<polyline clip-path=\"url(#clip850)\" style=\"stroke:#000000; stroke-linecap:butt; stroke-linejoin:round; stroke-width:4; stroke-opacity:1; fill:none\" points=\"\n",
       "  1273.35,1486.45 1273.35,1467.55 \n",
       "  \"/>\n",
       "<polyline clip-path=\"url(#clip850)\" style=\"stroke:#000000; stroke-linecap:butt; stroke-linejoin:round; stroke-width:4; stroke-opacity:1; fill:none\" points=\"\n",
       "  1782.5,1486.45 1782.5,1467.55 \n",
       "  \"/>\n",
       "<polyline clip-path=\"url(#clip850)\" style=\"stroke:#000000; stroke-linecap:butt; stroke-linejoin:round; stroke-width:4; stroke-opacity:1; fill:none\" points=\"\n",
       "  2291.66,1486.45 2291.66,1467.55 \n",
       "  \"/>\n",
       "<path clip-path=\"url(#clip850)\" d=\"M255.035 1517.37 Q251.424 1517.37 249.595 1520.93 Q247.789 1524.47 247.789 1531.6 Q247.789 1538.71 249.595 1542.27 Q251.424 1545.82 255.035 1545.82 Q258.669 1545.82 260.474 1542.27 Q262.303 1538.71 262.303 1531.6 Q262.303 1524.47 260.474 1520.93 Q258.669 1517.37 255.035 1517.37 M255.035 1513.66 Q260.845 1513.66 263.9 1518.27 Q266.979 1522.85 266.979 1531.6 Q266.979 1540.33 263.9 1544.94 Q260.845 1549.52 255.035 1549.52 Q249.225 1549.52 246.146 1544.94 Q243.09 1540.33 243.09 1531.6 Q243.09 1522.85 246.146 1518.27 Q249.225 1513.66 255.035 1513.66 Z\" fill=\"#000000\" fill-rule=\"evenodd\" fill-opacity=\"1\" /><path clip-path=\"url(#clip850)\" d=\"M754.468 1514.29 L772.825 1514.29 L772.825 1518.22 L758.751 1518.22 L758.751 1526.7 Q759.769 1526.35 760.788 1526.19 Q761.806 1526 762.825 1526 Q768.612 1526 771.991 1529.17 Q775.371 1532.34 775.371 1537.76 Q775.371 1543.34 771.899 1546.44 Q768.426 1549.52 762.107 1549.52 Q759.931 1549.52 757.663 1549.15 Q755.417 1548.78 753.01 1548.04 L753.01 1543.34 Q755.093 1544.47 757.315 1545.03 Q759.538 1545.58 762.014 1545.58 Q766.019 1545.58 768.357 1543.48 Q770.695 1541.37 770.695 1537.76 Q770.695 1534.15 768.357 1532.04 Q766.019 1529.94 762.014 1529.94 Q760.139 1529.94 758.264 1530.35 Q756.413 1530.77 754.468 1531.65 L754.468 1514.29 Z\" fill=\"#000000\" fill-rule=\"evenodd\" fill-opacity=\"1\" /><path clip-path=\"url(#clip850)\" d=\"M1248.03 1544.91 L1255.67 1544.91 L1255.67 1518.55 L1247.36 1520.21 L1247.36 1515.95 L1255.63 1514.29 L1260.3 1514.29 L1260.3 1544.91 L1267.94 1544.91 L1267.94 1548.85 L1248.03 1548.85 L1248.03 1544.91 Z\" fill=\"#000000\" fill-rule=\"evenodd\" fill-opacity=\"1\" /><path clip-path=\"url(#clip850)\" d=\"M1287.39 1517.37 Q1283.77 1517.37 1281.95 1520.93 Q1280.14 1524.47 1280.14 1531.6 Q1280.14 1538.71 1281.95 1542.27 Q1283.77 1545.82 1287.39 1545.82 Q1291.02 1545.82 1292.83 1542.27 Q1294.65 1538.71 1294.65 1531.6 Q1294.65 1524.47 1292.83 1520.93 Q1291.02 1517.37 1287.39 1517.37 M1287.39 1513.66 Q1293.2 1513.66 1296.25 1518.27 Q1299.33 1522.85 1299.33 1531.6 Q1299.33 1540.33 1296.25 1544.94 Q1293.2 1549.52 1287.39 1549.52 Q1281.58 1549.52 1278.5 1544.94 Q1275.44 1540.33 1275.44 1531.6 Q1275.44 1522.85 1278.5 1518.27 Q1281.58 1513.66 1287.39 1513.66 Z\" fill=\"#000000\" fill-rule=\"evenodd\" fill-opacity=\"1\" /><path clip-path=\"url(#clip850)\" d=\"M1757.69 1544.91 L1765.33 1544.91 L1765.33 1518.55 L1757.02 1520.21 L1757.02 1515.95 L1765.28 1514.29 L1769.96 1514.29 L1769.96 1544.91 L1777.59 1544.91 L1777.59 1548.85 L1757.69 1548.85 L1757.69 1544.91 Z\" fill=\"#000000\" fill-rule=\"evenodd\" fill-opacity=\"1\" /><path clip-path=\"url(#clip850)\" d=\"M1787.08 1514.29 L1805.44 1514.29 L1805.44 1518.22 L1791.37 1518.22 L1791.37 1526.7 Q1792.39 1526.35 1793.4 1526.19 Q1794.42 1526 1795.44 1526 Q1801.23 1526 1804.61 1529.17 Q1807.99 1532.34 1807.99 1537.76 Q1807.99 1543.34 1804.52 1546.44 Q1801.04 1549.52 1794.72 1549.52 Q1792.55 1549.52 1790.28 1549.15 Q1788.03 1548.78 1785.63 1548.04 L1785.63 1543.34 Q1787.71 1544.47 1789.93 1545.03 Q1792.15 1545.58 1794.63 1545.58 Q1798.64 1545.58 1800.97 1543.48 Q1803.31 1541.37 1803.31 1537.76 Q1803.31 1534.15 1800.97 1532.04 Q1798.64 1529.94 1794.63 1529.94 Q1792.76 1529.94 1790.88 1530.35 Q1789.03 1530.77 1787.08 1531.65 L1787.08 1514.29 Z\" fill=\"#000000\" fill-rule=\"evenodd\" fill-opacity=\"1\" /><path clip-path=\"url(#clip850)\" d=\"M2270.43 1544.91 L2286.75 1544.91 L2286.75 1548.85 L2264.81 1548.85 L2264.81 1544.91 Q2267.47 1542.16 2272.05 1537.53 Q2276.66 1532.88 2277.84 1531.53 Q2280.08 1529.01 2280.96 1527.27 Q2281.87 1525.51 2281.87 1523.82 Q2281.87 1521.07 2279.92 1519.33 Q2278 1517.6 2274.9 1517.6 Q2272.7 1517.6 2270.25 1518.36 Q2267.81 1519.13 2265.04 1520.68 L2265.04 1515.95 Q2267.86 1514.82 2270.31 1514.24 Q2272.77 1513.66 2274.81 1513.66 Q2280.18 1513.66 2283.37 1516.35 Q2286.56 1519.03 2286.56 1523.52 Q2286.56 1525.65 2285.75 1527.57 Q2284.97 1529.47 2282.86 1532.07 Q2282.28 1532.74 2279.18 1535.95 Q2276.08 1539.15 2270.43 1544.91 Z\" fill=\"#000000\" fill-rule=\"evenodd\" fill-opacity=\"1\" /><path clip-path=\"url(#clip850)\" d=\"M2306.56 1517.37 Q2302.95 1517.37 2301.12 1520.93 Q2299.32 1524.47 2299.32 1531.6 Q2299.32 1538.71 2301.12 1542.27 Q2302.95 1545.82 2306.56 1545.82 Q2310.2 1545.82 2312 1542.27 Q2313.83 1538.71 2313.83 1531.6 Q2313.83 1524.47 2312 1520.93 Q2310.2 1517.37 2306.56 1517.37 M2306.56 1513.66 Q2312.37 1513.66 2315.43 1518.27 Q2318.51 1522.85 2318.51 1531.6 Q2318.51 1540.33 2315.43 1544.94 Q2312.37 1549.52 2306.56 1549.52 Q2300.75 1549.52 2297.68 1544.94 Q2294.62 1540.33 2294.62 1531.6 Q2294.62 1522.85 2297.68 1518.27 Q2300.75 1513.66 2306.56 1513.66 Z\" fill=\"#000000\" fill-rule=\"evenodd\" fill-opacity=\"1\" /><polyline clip-path=\"url(#clip852)\" style=\"stroke:#000000; stroke-linecap:butt; stroke-linejoin:round; stroke-width:2; stroke-opacity:0.1; fill:none\" points=\"\n",
       "  193.936,1445.72 2352.76,1445.72 \n",
       "  \"/>\n",
       "<polyline clip-path=\"url(#clip852)\" style=\"stroke:#000000; stroke-linecap:butt; stroke-linejoin:round; stroke-width:2; stroke-opacity:0.1; fill:none\" points=\"\n",
       "  193.936,1106.29 2352.76,1106.29 \n",
       "  \"/>\n",
       "<polyline clip-path=\"url(#clip852)\" style=\"stroke:#000000; stroke-linecap:butt; stroke-linejoin:round; stroke-width:2; stroke-opacity:0.1; fill:none\" points=\"\n",
       "  193.936,766.849 2352.76,766.849 \n",
       "  \"/>\n",
       "<polyline clip-path=\"url(#clip852)\" style=\"stroke:#000000; stroke-linecap:butt; stroke-linejoin:round; stroke-width:2; stroke-opacity:0.1; fill:none\" points=\"\n",
       "  193.936,427.413 2352.76,427.413 \n",
       "  \"/>\n",
       "<polyline clip-path=\"url(#clip852)\" style=\"stroke:#000000; stroke-linecap:butt; stroke-linejoin:round; stroke-width:2; stroke-opacity:0.1; fill:none\" points=\"\n",
       "  193.936,87.9763 2352.76,87.9763 \n",
       "  \"/>\n",
       "<polyline clip-path=\"url(#clip850)\" style=\"stroke:#000000; stroke-linecap:butt; stroke-linejoin:round; stroke-width:4; stroke-opacity:1; fill:none\" points=\"\n",
       "  193.936,1486.45 193.936,47.2441 \n",
       "  \"/>\n",
       "<polyline clip-path=\"url(#clip850)\" style=\"stroke:#000000; stroke-linecap:butt; stroke-linejoin:round; stroke-width:4; stroke-opacity:1; fill:none\" points=\"\n",
       "  193.936,1445.72 212.834,1445.72 \n",
       "  \"/>\n",
       "<polyline clip-path=\"url(#clip850)\" style=\"stroke:#000000; stroke-linecap:butt; stroke-linejoin:round; stroke-width:4; stroke-opacity:1; fill:none\" points=\"\n",
       "  193.936,1106.29 212.834,1106.29 \n",
       "  \"/>\n",
       "<polyline clip-path=\"url(#clip850)\" style=\"stroke:#000000; stroke-linecap:butt; stroke-linejoin:round; stroke-width:4; stroke-opacity:1; fill:none\" points=\"\n",
       "  193.936,766.849 212.834,766.849 \n",
       "  \"/>\n",
       "<polyline clip-path=\"url(#clip850)\" style=\"stroke:#000000; stroke-linecap:butt; stroke-linejoin:round; stroke-width:4; stroke-opacity:1; fill:none\" points=\"\n",
       "  193.936,427.413 212.834,427.413 \n",
       "  \"/>\n",
       "<polyline clip-path=\"url(#clip850)\" style=\"stroke:#000000; stroke-linecap:butt; stroke-linejoin:round; stroke-width:4; stroke-opacity:1; fill:none\" points=\"\n",
       "  193.936,87.9763 212.834,87.9763 \n",
       "  \"/>\n",
       "<path clip-path=\"url(#clip850)\" d=\"M50.9921 1446.17 L80.6679 1446.17 L80.6679 1450.11 L50.9921 1450.11 L50.9921 1446.17 Z\" fill=\"#000000\" fill-rule=\"evenodd\" fill-opacity=\"1\" /><path clip-path=\"url(#clip850)\" d=\"M91.5706 1459.07 L99.2095 1459.07 L99.2095 1432.7 L90.8993 1434.37 L90.8993 1430.11 L99.1632 1428.44 L103.839 1428.44 L103.839 1459.07 L111.478 1459.07 L111.478 1463 L91.5706 1463 L91.5706 1459.07 Z\" fill=\"#000000\" fill-rule=\"evenodd\" fill-opacity=\"1\" /><path clip-path=\"url(#clip850)\" d=\"M120.922 1457.12 L125.807 1457.12 L125.807 1463 L120.922 1463 L120.922 1457.12 Z\" fill=\"#000000\" fill-rule=\"evenodd\" fill-opacity=\"1\" /><path clip-path=\"url(#clip850)\" d=\"M145.992 1431.52 Q142.381 1431.52 140.552 1435.09 Q138.746 1438.63 138.746 1445.76 Q138.746 1452.86 140.552 1456.43 Q142.381 1459.97 145.992 1459.97 Q149.626 1459.97 151.431 1456.43 Q153.26 1452.86 153.26 1445.76 Q153.26 1438.63 151.431 1435.09 Q149.626 1431.52 145.992 1431.52 M145.992 1427.82 Q151.802 1427.82 154.857 1432.42 Q157.936 1437.01 157.936 1445.76 Q157.936 1454.48 154.857 1459.09 Q151.802 1463.67 145.992 1463.67 Q140.181 1463.67 137.103 1459.09 Q134.047 1454.48 134.047 1445.76 Q134.047 1437.01 137.103 1432.42 Q140.181 1427.82 145.992 1427.82 Z\" fill=\"#000000\" fill-rule=\"evenodd\" fill-opacity=\"1\" /><path clip-path=\"url(#clip850)\" d=\"M51.9875 1106.74 L81.6633 1106.74 L81.6633 1110.67 L51.9875 1110.67 L51.9875 1106.74 Z\" fill=\"#000000\" fill-rule=\"evenodd\" fill-opacity=\"1\" /><path clip-path=\"url(#clip850)\" d=\"M101.756 1092.08 Q98.1447 1092.08 96.316 1095.65 Q94.5104 1099.19 94.5104 1106.32 Q94.5104 1113.43 96.316 1116.99 Q98.1447 1120.53 101.756 1120.53 Q105.39 1120.53 107.196 1116.99 Q109.024 1113.43 109.024 1106.32 Q109.024 1099.19 107.196 1095.65 Q105.39 1092.08 101.756 1092.08 M101.756 1088.38 Q107.566 1088.38 110.621 1092.99 Q113.7 1097.57 113.7 1106.32 Q113.7 1115.05 110.621 1119.65 Q107.566 1124.24 101.756 1124.24 Q95.9456 1124.24 92.8669 1119.65 Q89.8114 1115.05 89.8114 1106.32 Q89.8114 1097.57 92.8669 1092.99 Q95.9456 1088.38 101.756 1088.38 Z\" fill=\"#000000\" fill-rule=\"evenodd\" fill-opacity=\"1\" /><path clip-path=\"url(#clip850)\" d=\"M121.918 1117.69 L126.802 1117.69 L126.802 1123.57 L121.918 1123.57 L121.918 1117.69 Z\" fill=\"#000000\" fill-rule=\"evenodd\" fill-opacity=\"1\" /><path clip-path=\"url(#clip850)\" d=\"M137.033 1089.01 L155.39 1089.01 L155.39 1092.94 L141.316 1092.94 L141.316 1101.41 Q142.334 1101.07 143.353 1100.9 Q144.371 1100.72 145.39 1100.72 Q151.177 1100.72 154.556 1103.89 Q157.936 1107.06 157.936 1112.48 Q157.936 1118.06 154.464 1121.16 Q150.992 1124.24 144.672 1124.24 Q142.496 1124.24 140.228 1123.87 Q137.982 1123.5 135.575 1122.76 L135.575 1118.06 Q137.658 1119.19 139.881 1119.75 Q142.103 1120.3 144.58 1120.3 Q148.584 1120.3 150.922 1118.2 Q153.26 1116.09 153.26 1112.48 Q153.26 1108.87 150.922 1106.76 Q148.584 1104.65 144.58 1104.65 Q142.705 1104.65 140.83 1105.07 Q138.978 1105.49 137.033 1106.37 L137.033 1089.01 Z\" fill=\"#000000\" fill-rule=\"evenodd\" fill-opacity=\"1\" /><path clip-path=\"url(#clip850)\" d=\"M100.76 752.648 Q97.1493 752.648 95.3206 756.213 Q93.515 759.754 93.515 766.884 Q93.515 773.99 95.3206 777.555 Q97.1493 781.097 100.76 781.097 Q104.395 781.097 106.2 777.555 Q108.029 773.99 108.029 766.884 Q108.029 759.754 106.2 756.213 Q104.395 752.648 100.76 752.648 M100.76 748.944 Q106.571 748.944 109.626 753.551 Q112.705 758.134 112.705 766.884 Q112.705 775.611 109.626 780.217 Q106.571 784.801 100.76 784.801 Q94.9502 784.801 91.8715 780.217 Q88.816 775.611 88.816 766.884 Q88.816 758.134 91.8715 753.551 Q94.9502 748.944 100.76 748.944 Z\" fill=\"#000000\" fill-rule=\"evenodd\" fill-opacity=\"1\" /><path clip-path=\"url(#clip850)\" d=\"M120.922 778.25 L125.807 778.25 L125.807 784.129 L120.922 784.129 L120.922 778.25 Z\" fill=\"#000000\" fill-rule=\"evenodd\" fill-opacity=\"1\" /><path clip-path=\"url(#clip850)\" d=\"M145.992 752.648 Q142.381 752.648 140.552 756.213 Q138.746 759.754 138.746 766.884 Q138.746 773.99 140.552 777.555 Q142.381 781.097 145.992 781.097 Q149.626 781.097 151.431 777.555 Q153.26 773.99 153.26 766.884 Q153.26 759.754 151.431 756.213 Q149.626 752.648 145.992 752.648 M145.992 748.944 Q151.802 748.944 154.857 753.551 Q157.936 758.134 157.936 766.884 Q157.936 775.611 154.857 780.217 Q151.802 784.801 145.992 784.801 Q140.181 784.801 137.103 780.217 Q134.047 775.611 134.047 766.884 Q134.047 758.134 137.103 753.551 Q140.181 748.944 145.992 748.944 Z\" fill=\"#000000\" fill-rule=\"evenodd\" fill-opacity=\"1\" /><path clip-path=\"url(#clip850)\" d=\"M101.756 413.211 Q98.1447 413.211 96.316 416.776 Q94.5104 420.318 94.5104 427.448 Q94.5104 434.554 96.316 438.119 Q98.1447 441.66 101.756 441.66 Q105.39 441.66 107.196 438.119 Q109.024 434.554 109.024 427.448 Q109.024 420.318 107.196 416.776 Q105.39 413.211 101.756 413.211 M101.756 409.508 Q107.566 409.508 110.621 414.114 Q113.7 418.698 113.7 427.448 Q113.7 436.174 110.621 440.781 Q107.566 445.364 101.756 445.364 Q95.9456 445.364 92.8669 440.781 Q89.8114 436.174 89.8114 427.448 Q89.8114 418.698 92.8669 414.114 Q95.9456 409.508 101.756 409.508 Z\" fill=\"#000000\" fill-rule=\"evenodd\" fill-opacity=\"1\" /><path clip-path=\"url(#clip850)\" d=\"M121.918 438.813 L126.802 438.813 L126.802 444.693 L121.918 444.693 L121.918 438.813 Z\" fill=\"#000000\" fill-rule=\"evenodd\" fill-opacity=\"1\" /><path clip-path=\"url(#clip850)\" d=\"M137.033 410.133 L155.39 410.133 L155.39 414.068 L141.316 414.068 L141.316 422.54 Q142.334 422.193 143.353 422.031 Q144.371 421.846 145.39 421.846 Q151.177 421.846 154.556 425.017 Q157.936 428.188 157.936 433.605 Q157.936 439.184 154.464 442.285 Q150.992 445.364 144.672 445.364 Q142.496 445.364 140.228 444.994 Q137.982 444.623 135.575 443.883 L135.575 439.184 Q137.658 440.318 139.881 440.873 Q142.103 441.429 144.58 441.429 Q148.584 441.429 150.922 439.322 Q153.26 437.216 153.26 433.605 Q153.26 429.994 150.922 427.887 Q148.584 425.781 144.58 425.781 Q142.705 425.781 140.83 426.198 Q138.978 426.614 137.033 427.494 L137.033 410.133 Z\" fill=\"#000000\" fill-rule=\"evenodd\" fill-opacity=\"1\" /><path clip-path=\"url(#clip850)\" d=\"M91.5706 101.321 L99.2095 101.321 L99.2095 74.9555 L90.8993 76.6222 L90.8993 72.3629 L99.1632 70.6963 L103.839 70.6963 L103.839 101.321 L111.478 101.321 L111.478 105.256 L91.5706 105.256 L91.5706 101.321 Z\" fill=\"#000000\" fill-rule=\"evenodd\" fill-opacity=\"1\" /><path clip-path=\"url(#clip850)\" d=\"M120.922 99.3767 L125.807 99.3767 L125.807 105.256 L120.922 105.256 L120.922 99.3767 Z\" fill=\"#000000\" fill-rule=\"evenodd\" fill-opacity=\"1\" /><path clip-path=\"url(#clip850)\" d=\"M145.992 73.775 Q142.381 73.775 140.552 77.3398 Q138.746 80.8814 138.746 88.011 Q138.746 95.1174 140.552 98.6822 Q142.381 102.224 145.992 102.224 Q149.626 102.224 151.431 98.6822 Q153.26 95.1174 153.26 88.011 Q153.26 80.8814 151.431 77.3398 Q149.626 73.775 145.992 73.775 M145.992 70.0713 Q151.802 70.0713 154.857 74.6777 Q157.936 79.261 157.936 88.011 Q157.936 96.7378 154.857 101.344 Q151.802 105.928 145.992 105.928 Q140.181 105.928 137.103 101.344 Q134.047 96.7378 134.047 88.011 Q134.047 79.261 137.103 74.6777 Q140.181 70.0713 145.992 70.0713 Z\" fill=\"#000000\" fill-rule=\"evenodd\" fill-opacity=\"1\" /><polyline clip-path=\"url(#clip852)\" style=\"stroke:#009af9; stroke-linecap:butt; stroke-linejoin:round; stroke-width:6; stroke-opacity:1; fill:none\" points=\"\n",
       "  255.035,766.849 265.218,699.075 275.401,631.978 285.584,566.229 295.767,502.484 305.95,441.38 316.133,383.529 326.316,329.507 336.5,279.856 346.683,235.07 \n",
       "  356.866,195.597 367.049,161.833 377.232,134.113 387.415,112.716 397.598,97.8541 407.781,89.6769 417.964,88.2657 428.148,93.6348 438.331,105.73 448.514,124.432 \n",
       "  458.697,149.552 468.88,180.84 479.063,217.983 489.246,260.61 499.429,308.296 509.612,360.563 519.796,416.889 529.979,476.713 540.162,539.435 550.345,604.429 \n",
       "  560.528,671.047 570.711,738.621 580.894,806.478 591.077,873.939 601.261,940.329 611.444,1004.99 621.627,1067.26 631.81,1126.54 641.993,1182.22 652.176,1233.76 \n",
       "  662.359,1280.62 672.542,1322.36 682.725,1358.54 692.909,1388.81 703.092,1412.87 713.275,1430.47 723.458,1441.44 733.641,1445.67 743.824,1443.12 754.007,1433.81 \n",
       "  764.19,1417.84 774.373,1395.36 784.557,1366.6 794.74,1331.85 804.923,1291.46 815.106,1245.82 825.289,1195.4 835.472,1140.69 845.655,1082.26 855.838,1020.66 \n",
       "  866.021,956.537 876.205,890.515 886.388,823.256 896.571,755.435 906.754,687.727 916.937,620.81 927.12,555.352 937.303,492.008 947.486,431.409 957.669,374.162 \n",
       "  967.853,320.839 978.036,271.972 988.219,228.05 998.402,189.511 1008.59,156.741 1018.77,130.066 1028.95,109.755 1039.13,96.0085 1049.32,88.9652 1059.5,88.695 \n",
       "  1069.68,95.2007 1079.87,108.417 1090.05,128.213 1100.23,154.389 1110.42,186.685 1120.6,224.778 1130.78,268.287 1140.97,316.777 1151.15,369.765 1161.33,426.72 \n",
       "  1171.51,487.073 1181.7,550.222 1191.88,615.535 1202.06,682.361 1212.25,750.03 1222.43,817.867 1232.61,885.195 1242.8,951.34 1252.98,1015.64 1263.16,1077.46 \n",
       "  1273.35,1136.17 1283.53,1191.19 1293.71,1241.98 1303.9,1288.01 1314.08,1328.84 1324.26,1364.05 1334.44,1393.3 1344.63,1416.28 1354.81,1432.78 1364.99,1442.62 \n",
       "  1375.18,1445.72 1385.36,1442.02 1395.54,1431.59 1405.73,1414.51 1415.91,1390.96 1426.09,1361.17 1436.28,1325.45 1446.46,1284.14 1456.64,1237.66 1466.83,1186.49 \n",
       "  1477.01,1131.11 1487.19,1072.1 1497.37,1010.04 1507.56,945.55 1517.74,879.274 1527.92,811.873 1538.11,744.024 1548.29,676.402 1558.47,609.684 1568.66,544.536 \n",
       "  1578.84,481.609 1589.02,421.533 1599.21,364.907 1609.39,312.296 1619.57,264.228 1629.75,221.182 1639.94,183.588 1650.12,151.821 1660.3,126.2 1670.49,106.98 \n",
       "  1680.67,94.3527 1690.85,88.4451 1701.04,89.3159 1711.22,96.9564 1721.4,111.29 1731.59,132.174 1741.77,159.4 1751.95,192.695 1762.14,231.726 1772.32,276.105 \n",
       "  1782.5,325.386 1792.68,379.079 1802.87,436.646 1813.05,497.513 1823.23,561.07 1833.42,626.684 1843.6,693.698 1853.78,761.443 1863.97,829.242 1874.15,896.418 \n",
       "  1884.33,962.299 1894.52,1026.23 1904.7,1087.56 1914.88,1145.7 1925.07,1200.04 1935.25,1250.06 1945.43,1295.25 1955.61,1335.16 1965.8,1369.39 1975.98,1397.61 \n",
       "  1986.16,1419.52 1996.35,1434.9 2006.53,1443.62 2016.71,1445.57 2026.9,1440.74 2037.08,1429.18 2047.26,1410.99 2057.45,1386.38 2067.63,1355.57 2077.81,1318.88 \n",
       "  2087.99,1276.67 2098.18,1229.37 2108.36,1177.45 2118.54,1121.43 2128.73,1061.86 2138.91,999.35 2149.09,934.513 2159.28,868.001 2169.46,800.478 2179.64,732.619 \n",
       "  2189.83,665.102 2200.01,598.601 2210.19,533.782 2220.38,471.292 2230.56,411.754 2240.74,355.765 2250.92,303.883 2261.11,256.626 2271.29,214.468 2281.47,177.829 \n",
       "  2291.66,147.075 \n",
       "  \"/>\n",
       "<polyline clip-path=\"url(#clip852)\" style=\"stroke:#e26f46; stroke-linecap:butt; stroke-linejoin:round; stroke-width:6; stroke-opacity:1; fill:none\" stroke-dasharray=\"24, 15\" points=\"\n",
       "  255.035,87.9763 265.218,91.3678 275.401,101.509 285.584,118.297 295.767,141.566 305.95,171.082 316.133,206.551 326.316,247.619 336.5,293.874 346.683,344.855 \n",
       "  356.866,400.053 367.049,458.915 377.232,520.854 387.415,585.252 397.598,651.463 407.781,718.828 417.964,786.672 428.148,854.318 438.331,921.091 448.514,986.322 \n",
       "  458.697,1049.36 468.88,1109.58 479.063,1166.37 489.246,1219.17 499.429,1267.45 509.612,1310.72 519.796,1348.57 529.979,1380.6 540.162,1406.5 550.345,1426.01 \n",
       "  560.528,1438.93 570.711,1445.14 580.894,1444.56 591.077,1437.22 601.261,1423.18 611.444,1402.58 621.627,1375.63 631.81,1342.6 641.993,1303.82 652.176,1259.67 \n",
       "  662.359,1210.59 672.542,1157.08 682.725,1099.67 692.909,1038.94 703.092,975.489 713.275,909.953 723.458,842.987 733.641,775.26 743.824,707.449 754.007,640.231 \n",
       "  764.19,574.279 774.373,510.25 784.557,448.786 794.74,390.5 804.923,335.973 815.106,285.753 825.289,240.339 835.472,200.185 845.655,165.694 855.838,137.209 \n",
       "  866.021,115.016 876.205,99.3349 886.388,90.3238 896.571,88.0722 906.754,92.6029 916.937,103.87 927.12,121.762 937.303,146.099 947.486,176.639 957.669,213.076 \n",
       "  967.853,255.045 978.036,302.129 988.219,353.856 998.402,409.709 1008.59,469.131 1018.77,531.528 1028.95,596.276 1039.13,662.728 1049.32,730.22 1059.5,798.079 \n",
       "  1069.68,865.625 1079.87,932.185 1090.05,997.092 1100.23,1059.7 1110.42,1119.38 1120.6,1175.54 1130.78,1227.61 1140.97,1275.09 1151.15,1317.48 1161.33,1354.37 \n",
       "  1171.51,1385.39 1181.7,1410.23 1191.88,1428.64 1202.06,1440.44 1212.25,1445.51 1222.43,1443.8 1232.61,1435.33 1242.8,1420.17 1252.98,1398.49 1263.16,1370.5 \n",
       "  1273.35,1336.47 1283.53,1296.76 1293.71,1251.74 1303.9,1201.89 1314.08,1147.69 1324.26,1089.68 1334.44,1028.45 1344.63,964.598 1354.81,898.775 1364.99,831.633 \n",
       "  1375.18,763.845 1385.36,696.086 1395.54,629.035 1405.73,563.36 1415.91,499.719 1426.09,438.747 1436.28,381.053 1446.46,327.214 1456.64,277.767 1466.83,233.207 \n",
       "  1477.01,193.98 1487.19,160.476 1497.37,133.031 1507.56,111.918 1517.74,97.35 1527.92,89.471 1538.11,88.3601 1548.29,94.0285 1558.47,106.42 1568.66,125.409 \n",
       "  1578.84,150.808 1589.02,182.362 1599.21,219.756 1609.39,262.617 1619.57,310.516 1629.75,362.974 1639.94,419.467 1650.12,479.432 1660.3,542.268 1670.49,607.348 \n",
       "  1680.67,674.022 1690.85,741.623 1701.04,809.477 1711.22,876.904 1721.4,943.232 1731.59,1007.8 1741.77,1069.96 1751.95,1129.09 1762.14,1184.6 1772.32,1235.93 \n",
       "  1782.5,1282.58 1792.68,1324.08 1802.87,1360.01 1813.05,1390.01 1823.23,1413.78 1833.42,1431.09 1843.6,1441.77 1853.78,1445.7 1863.97,1442.85 1874.15,1433.24 \n",
       "  1884.33,1416.98 1894.52,1394.22 1904.7,1365.19 1914.88,1330.18 1925.07,1289.55 1935.25,1243.69 1945.43,1193.06 1955.61,1138.18 1965.8,1079.59 1975.98,1017.88 \n",
       "  1986.16,953.65 1996.35,887.559 2006.53,820.262 2016.71,752.431 2026.9,684.744 2037.08,617.877 2047.26,552.499 2057.45,489.263 2067.63,428.8 2077.81,371.715 \n",
       "  2087.99,318.578 2098.18,269.92 2108.36,226.227 2118.54,187.936 2128.73,155.429 2138.91,129.031 2149.09,109.006 2159.28,95.5543 2169.46,88.8097 2179.64,88.8398 \n",
       "  2189.83,95.6444 2200.01,109.155 2210.19,129.238 2220.38,155.691 2230.56,188.251 2240.74,226.592 2250.92,270.331 2261.11,319.031 2271.29,372.206 2281.47,429.323 \n",
       "  2291.66,489.813 \n",
       "  \"/>\n",
       "<path clip-path=\"url(#clip850)\" d=\"\n",
       "M1988.36 250.738 L2280.8 250.738 L2280.8 95.2176 L1988.36 95.2176  Z\n",
       "  \" fill=\"#ffffff\" fill-rule=\"evenodd\" fill-opacity=\"1\"/>\n",
       "<polyline clip-path=\"url(#clip850)\" style=\"stroke:#000000; stroke-linecap:butt; stroke-linejoin:round; stroke-width:4; stroke-opacity:1; fill:none\" points=\"\n",
       "  1988.36,250.738 2280.8,250.738 2280.8,95.2176 1988.36,95.2176 1988.36,250.738 \n",
       "  \"/>\n",
       "<polyline clip-path=\"url(#clip850)\" style=\"stroke:#009af9; stroke-linecap:butt; stroke-linejoin:round; stroke-width:4; stroke-opacity:1; fill:none\" points=\"\n",
       "  2012.36,147.058 2156.36,147.058 \n",
       "  \"/>\n",
       "<path clip-path=\"url(#clip850)\" d=\"M2194.21 166.745 Q2192.4 171.375 2190.69 172.787 Q2188.98 174.199 2186.11 174.199 L2182.7 174.199 L2182.7 170.634 L2185.2 170.634 Q2186.96 170.634 2187.93 169.8 Q2188.91 168.967 2190.09 165.865 L2190.85 163.921 L2180.36 138.412 L2184.88 138.412 L2192.98 158.689 L2201.08 138.412 L2205.6 138.412 L2194.21 166.745 Z\" fill=\"#000000\" fill-rule=\"evenodd\" fill-opacity=\"1\" /><path clip-path=\"url(#clip850)\" d=\"M2212.89 160.402 L2220.53 160.402 L2220.53 134.037 L2212.22 135.703 L2212.22 131.444 L2220.48 129.778 L2225.16 129.778 L2225.16 160.402 L2232.8 160.402 L2232.8 164.338 L2212.89 164.338 L2212.89 160.402 Z\" fill=\"#000000\" fill-rule=\"evenodd\" fill-opacity=\"1\" /><polyline clip-path=\"url(#clip850)\" style=\"stroke:#e26f46; stroke-linecap:butt; stroke-linejoin:round; stroke-width:4; stroke-opacity:1; fill:none\" stroke-dasharray=\"16, 10\" points=\"\n",
       "  2012.36,198.898 2156.36,198.898 \n",
       "  \"/>\n",
       "<path clip-path=\"url(#clip850)\" d=\"M2194.21 218.585 Q2192.4 223.215 2190.69 224.627 Q2188.98 226.039 2186.11 226.039 L2182.7 226.039 L2182.7 222.474 L2185.2 222.474 Q2186.96 222.474 2187.93 221.64 Q2188.91 220.807 2190.09 217.705 L2190.85 215.761 L2180.36 190.252 L2184.88 190.252 L2192.98 210.529 L2201.08 190.252 L2205.6 190.252 L2194.21 218.585 Z\" fill=\"#000000\" fill-rule=\"evenodd\" fill-opacity=\"1\" /><path clip-path=\"url(#clip850)\" d=\"M2216.11 212.242 L2232.42 212.242 L2232.42 216.178 L2210.48 216.178 L2210.48 212.242 Q2213.14 209.488 2217.73 204.858 Q2222.33 200.205 2223.51 198.863 Q2225.76 196.34 2226.64 194.604 Q2227.54 192.844 2227.54 191.155 Q2227.54 188.4 2225.6 186.664 Q2223.67 184.928 2220.57 184.928 Q2218.37 184.928 2215.92 185.692 Q2213.49 186.455 2210.71 188.006 L2210.71 183.284 Q2213.54 182.15 2215.99 181.571 Q2218.44 180.993 2220.48 180.993 Q2225.85 180.993 2229.05 183.678 Q2232.24 186.363 2232.24 190.854 Q2232.24 192.983 2231.43 194.905 Q2230.64 196.803 2228.54 199.395 Q2227.96 200.067 2224.86 203.284 Q2221.75 206.479 2216.11 212.242 Z\" fill=\"#000000\" fill-rule=\"evenodd\" fill-opacity=\"1\" /></svg>\n"
      ]
     },
     "execution_count": 37,
     "metadata": {},
     "output_type": "execute_result"
    }
   ],
   "source": [
    "ys_1 = sin.(xs);\n",
    "ys_2 = cos.(xs);\n",
    "\n",
    "plot(xs, ys_1, lw = 1.5, ls = :solid)\n",
    "plot!(xs, ys_2, lw = 1.5, ls = :dash)"
   ]
  }
 ],
 "metadata": {
  "celltoolbar": "Slideshow",
  "kernelspec": {
   "display_name": "Julia 1.7.2",
   "language": "julia",
   "name": "julia-1.7"
  },
  "language_info": {
   "file_extension": ".jl",
   "mimetype": "application/julia",
   "name": "julia",
   "version": "1.7.2"
  }
 },
 "nbformat": 4,
 "nbformat_minor": 4
}
