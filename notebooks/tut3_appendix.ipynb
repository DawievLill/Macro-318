{
 "cells": [
  {
   "cell_type": "markdown",
   "metadata": {},
   "source": [
    "In order to plot a three dimensional version of the utility function we are going to be using loops and conditional statements to fill in the values of a grid. This is a nice exercise to get you used to thinking in terms of conditionals, loops and functions. \n",
    "\n",
    "The first thing we will do is to create a 2-dimensional grid with $N$ elements in each dimension. We are going to be plotting our utility function with respect to two inputs, so we need a 2-dimensional grid. "
   ]
  },
  {
   "cell_type": "code",
   "execution_count": null,
   "metadata": {},
   "outputs": [],
   "source": [
    "function construct_grid(N = 1000, x_max = 10)\n",
    "\n",
    "    # Initialise the arrays with zeros\n",
    "    x1_values = zeros(N)\n",
    "    x2_values = zeros(N)\n",
    "    u_values = zeros(N, N);\n",
    "\n",
    "    # fill the arrays with the appropriate values\n",
    "    for i in 1:N\n",
    "        for j in 1:N\n",
    "            x1_values[i] = (i / N) * x_max \n",
    "            x2_values[j] = (j / N) * x_max\n",
    "            u_values[i, j] = u_func(x1_values[i], x2_values[j])\n",
    "        end\n",
    "    end\n",
    "\n",
    "    return x1_values, x2_values, u_values\n",
    "end;"
   ]
  },
  {
   "cell_type": "markdown",
   "metadata": {},
   "source": [
    "### Making sense of the loops\n",
    "\n",
    "**Note** In order to understand this loop you need to take things slowly the first time. Try and understand what is happening in each step. I have provided a detailed description below, but you still need to sit and think through it. \n",
    "\n",
    "Let us analyse the loop above and see what is happening at each step. First, this is a nested loop. As we stated in our previous session, this means that we will be running through the $i$ component first and then the corresponding $j$ component. \n",
    "\n",
    "To use an example, we start with $i = 1$, and then run the loop over all the $j$ values starting at $j = 1$ and ending at $j = N = 100$. \n",
    "\n",
    "This means that for $i = 1$, we start with $j = 1$. This gives a value for `x1_values[1] = (1 / N) * x_max`. \n",
    "\n",
    "This means that the first value in the `x1_values` vector will then be $(1 / 100) * 10 = 0.1$. The same is true for `x2_values`, the first entry in that vector will be $0.1$, by the same logic as applied before. \n",
    "\n",
    "Now we can enter these $x_1$ and $x_2$ values into the utility function. The shape of the utility function as initialised is a $N \\times N$ matrix of zeros. We are currently busy with $i = 1$ and $j = 1$. This means that in our code we are looking at `u_values[1, 1]` which is the value in the first column and first row of the matrix. \n",
    "\n",
    "To be clear, `u_values[1, 1]` takes on the value from the output of `u_func(0.1, 0.1)`. \n",
    "\n",
    "Next we keep the $i$ component fixed at $1$ and iterate over the next value in the $j$ sequence, which is $j = 2$. We repeat the steps as for the above description and end up with an entry for `u_values[1, 2]`. \n",
    "\n",
    "Keeping $i$ fixed, we iterate over all the values for $j$. That means for $j = 3$ to $j = 100$. After having completed this loop, we move on to a new value for $i$. \n",
    "\n",
    "Move on to $i = 2$ and repeat the entire process that we described above again. Looping over all the $j$ values, etc. After having done that move on to $i = 3$ and then continue the process we have described till you reach $i = 100$.\n",
    "\n",
    "At the end of all of this you will see that we have know completely filled the `u_values` matrix with all possible combinations of $x_1$ and $x_2$ values (smaller than $x_{max} = 10$) that can enter the utility function. "
   ]
  },
  {
   "cell_type": "markdown",
   "metadata": {},
   "source": [
    "### Plotting the 3D function"
   ]
  },
  {
   "cell_type": "markdown",
   "metadata": {},
   "source": [
    "Below is the code to plot our function in three dimensions. I will provide a brief explanation on what the code is actually doing, but it should be somewhat easy to understand by just reading it. "
   ]
  },
  {
   "cell_type": "code",
   "execution_count": null,
   "metadata": {},
   "outputs": [],
   "source": [
    "x1_values, x2_values, u_values = construct_grid();"
   ]
  },
  {
   "cell_type": "code",
   "execution_count": null,
   "metadata": {},
   "outputs": [],
   "source": [
    "plot_1 = plot(x1_values, x2_values, u_values, st = :surface, xlabel = \"x1\", ylabel = \"x2\", zlabel = \"utility\", camera = (30, 60), colour = :ice, alpha = 0.9, legend = false, x_flip = true)"
   ]
  },
  {
   "cell_type": "markdown",
   "metadata": {},
   "source": [
    "# Optimisation with Julia"
   ]
  },
  {
   "cell_type": "markdown",
   "metadata": {},
   "source": [
    "For our first algorithm, we are basically going to loop through a grid of all the $N_{1} \\times N_{2}$ solutions and then pick the best option. This has the advantage of being easy to understand. However, it requires evaluations many points and could be computationally very costly if the number of points that we need to evaluate are high. This type of method is referred to as a **grid search** method. It solves the problem with brute force. "
   ]
  },
  {
   "cell_type": "markdown",
   "metadata": {},
   "source": [
    "The general idea is that we will be solving the following problem. \n",
    "\n",
    "$$\n",
    "\\begin{aligned}\n",
    "V(p_{1},p_{2},I) & = \\max_{x_{1}\\in X_1,x_{2} \\in X_2} x_1^{\\alpha}x_2^{1-\\alpha}\\\\\n",
    " & \\text{s.t.}\\\\\n",
    " x_1 & = \\left\\{0,\\frac{1}{N_1-1}\\frac{I}{p_1},\\frac{2}{N_1-1}\\frac{I}{p_1},\\dots,\\frac{I}{p_1}\\right\\} \\\\\n",
    " x_2 & = \\left\\{0,\\frac{1}{N_2-1}\\frac{I}{p_2},\\frac{2}{N_2-1}\\frac{ I}{p_2},\\dots,\\frac{ I}{p_2}\\right\\} \\\\\n",
    "p_{1}x_{1}+p_{2}x_{2} & \\leq I\\\\\n",
    "\\end{aligned}\n",
    "$$"
   ]
  },
  {
   "cell_type": "markdown",
   "metadata": {},
   "source": [
    "We are creating input grids, where the values of $x_1$ and $x_2$ are discretised. \n",
    "\n",
    "We discuss an example using $x_1$, but the same can be repeated for $x_2$. \n",
    "\n",
    "If we look at the definition of the set of values that $x_1$ can take here you will see that is always non-negative ($\\geq 0$). In fact, our set starts at zero, so we take that potential value into account. \n",
    "\n",
    "On the other extreme with respect to the grid, we have $x_1 = I/p_1$. If you think about this carefully, $x_1$ can only take on the value of $I/p_1$ if $x_2 = 0$. This can be seen from the budget constraint $p_{1}x_{1}+p_{2}x_{2} \\leq I$.\n",
    "\n",
    "Our endpoints for the grid have now been defined as $0$ and $I/p_1$. The grid in our case is equally spaced, which means that the second point in the grid is equally far away from the first and third point. The fact that any point is equally far from adjacent points, is true for any singular point on the grid (except for the two endpoints). There is a symmetry in the spacing between points. \n",
    "\n",
    "The next question is, how can we create this grid mathematically so that we have this equal spacing. If there are $N_1 = 5$ grid points, then we know that the endpoints make up two of the points. So these are accounted for. Now we need to think about the other $3$ points. I call these points $x_1^2,x_1^3,x_1^4$ for now (where the superscript indicates position). \n",
    "\n",
    "$$\n",
    "x_1 = \\left\\{0,x_1^2,x_1^3,x_1^4, \\frac{I}{p_1}\\right\\}\n",
    "$$\n",
    "\n",
    "One way to think about the construction of the grid is to make a further simplification. Let us assume that we know what the end value $I/p_1$ will be. In this case we assume it is $1$ in order to make calculations a bit easier. Then we are left with the following grid, \n",
    "\n",
    "$$\n",
    "x_1 = \\left\\{0,x_1^2,x_1^3,x_1^4, 1 \\right\\}\n",
    "$$\n",
    "\n",
    "Given that the endpoint is $1$, we know that the distances between the different values of the grid need to sum to the difference between the endpoints ($1 - 0 = 1$). For equal distances between $5$ points, where the distances must sum to one, we need the distance between each point to be $1/N_1 - 1 = 1 / 4$. If you look carefully, you will see that there are four positions in between grid points, and so we need each of these to be of length $1/4$, so that these $4$ intervals can sum to $1$.\n",
    "\n",
    "This means that we can write the values of the grid points explicitly as, \n",
    "\n",
    "$$\n",
    "x_1 = \\left\\{0,\\frac{1}{4},\\frac{2}{4},\\frac{3}{4}, 1 \\right\\}\n",
    "$$\n",
    "\n",
    "Now if we have an endpoint that is equal to $I/p_1$ then we need to multiply each of the grid points with this scaling factor, so that everything sums up to that endpoint value. In other words, we will then have, \n",
    "\n",
    "$$\n",
    "x_1 = \\left\\{0,\\frac{1}{4}\\frac{I}{p_1},\\frac{2}{4}\\frac{I}{p_1},\\frac{3}{4}\\frac{I}{p_1}, \\frac{I}{p_1} \\right\\}\n",
    "$$\n",
    "\n",
    "As a numerical example, assume that $p_1 = 25$ and $I = 10$, then we would evaluate $x_1$ at the following values in the grid, \n",
    "\n",
    "\n",
    "$$\n",
    "x_1 = \\left\\{0,\\frac{1}{4}\\frac{10}{25},\\frac{2}{4}\\frac{10}{25},\\frac{3}{4}\\frac{10}{25}, \\frac{10}{25} \\right\\}\n",
    "$$\n",
    "\n",
    "If we simplify this a bit further we get, \n",
    "\n",
    "$$\n",
    "x_1 = \\left\\{0,\\frac{1}{10},\\frac{2}{10},\\frac{3}{10}, \\frac{4}{10} \\right\\}\n",
    "$$\n",
    "\n",
    "For this specific example, we can then evaluate the $x_1$ along the values in this set. If we wanted we could increase the number of $N_1$ so as to evaluate along more points. This would probably give us a more accurate answer, but it comes at a computational cost. Each of these input values need to be inserted into the utility function and evaluated. The more values you have the longer it is going to take to evaluate. \n",
    "\n",
    "This is one of the big tradeoffs in computing. **Speed vs accuracy**. "
   ]
  },
  {
   "cell_type": "markdown",
   "metadata": {},
   "source": [
    "Now let us start coding the up! You should be excited, we are going to be solving our first economic model using programming instead of tedious calculations by hand!"
   ]
  },
  {
   "cell_type": "code",
   "execution_count": null,
   "metadata": {},
   "outputs": [],
   "source": [
    "function find_best_choice(; α, I, p1, p2, N1, N2)\n",
    "\n",
    "    # Initialise the arrays\n",
    "    x1_values = zeros(N1)\n",
    "    x2_values = zeros(N2)\n",
    "    u_values = zeros(N1, N2)\n",
    "\n",
    "    # Choose a value to start with, x1 = x2 = 0\n",
    "    x1_best = 0\n",
    "    x2_best = 0 \n",
    "    u_best = u_func(0, 0, α) # remember that u_func is a function that has already been defined. \n",
    "\n",
    "    # Loop through all the possibilities (all grid points)\n",
    "    for i in 1:N1\n",
    "        for j in 1:N2\n",
    "\n",
    "            # Assign values for x1 and x2\n",
    "            x1_values[i] = x1 = (i / (N1 - 1)) * I/p1 # Refer to the explanation above as to how this grid is constructed\n",
    "            x2_values[j] = x2 = (j / (N2 - 1)) * I/p2\n",
    "\n",
    "            # Assign values for the utility corresponding to input values\n",
    "            if p1 * x1 + p2 * x2 ≤ I # If expenditure ≤ income then u(x1, x2)\n",
    "                u_values[i, j] = u_func(x1, x2, α)\n",
    "            else # if expenditure > income then u(0, 0)\n",
    "                u_values[i, j] = u_func(0, 0, α)\n",
    "            end\n",
    "\n",
    "            # Check the best solution so far (NB part)\n",
    "            if u_values[i, j] > u_best\n",
    "                x1_best = x1_values[i]\n",
    "                x2_best = x2_values[j]\n",
    "                u_best = u_values[i, j]\n",
    "            end\n",
    "        end\n",
    "    end\n",
    "\n",
    "    return x1_best, x2_best, u_best, x1_values, x2_values, u_values\n",
    "\n",
    "end"
   ]
  },
  {
   "cell_type": "code",
   "execution_count": null,
   "metadata": {},
   "outputs": [],
   "source": [
    "sol = find_best_choice(α = 0.25, I = 10, p1 = 1,  p2 = 2, N1 = 500, N2 = 500);"
   ]
  },
  {
   "cell_type": "code",
   "execution_count": null,
   "metadata": {},
   "outputs": [],
   "source": [
    "x1_best, x2_best, u_best, x1_values, x2_values, u_values = sol;"
   ]
  },
  {
   "cell_type": "code",
   "execution_count": null,
   "metadata": {},
   "outputs": [],
   "source": [
    "println(\"Optimal x1 is $x1_best, x2 is $x2_best and u is $u_best \")"
   ]
  }
 ],
 "metadata": {
  "kernelspec": {
   "display_name": "Julia 1.7.0-rc2",
   "language": "julia",
   "name": "julia-1.7"
  },
  "language_info": {
   "name": "julia"
  },
  "orig_nbformat": 4
 },
 "nbformat": 4,
 "nbformat_minor": 2
}
