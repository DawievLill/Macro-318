{
 "cells": [
  {
   "cell_type": "markdown",
   "metadata": {},
   "source": [
    "# <span style=\"color:#2c061f\"> Macro 318: Problem Set #1 </span>  \n",
    "\n",
    "<br>\n",
    "\n",
    "## <span style=\"color:#374045\"> Introduction to Programming with Julia </span>\n",
    "\n",
    "\n",
    "#### <span style=\"color:#374045\"> Lecturer: </span> <span style=\"color:#d89216\"> <br> Dawie van Lill (dvanlill@sun.ac.za) </span>"
   ]
  },
  {
   "cell_type": "markdown",
   "metadata": {},
   "source": [
    "---\n",
    "\n",
    "# Instructions\n",
    "\n",
    "The questions for the problem set range from easy to hard. The first question is easiest and then it gets progressively harder. \n",
    "\n",
    "You should complete these questions before the lecture so that you can ask questions. \n",
    "\n",
    "The third question is `optional`.\n",
    "\n",
    "In the tutorial there will be one `unseen` question that you will have to finish in the lecture. "
   ]
  },
  {
   "cell_type": "markdown",
   "metadata": {},
   "source": [
    "---"
   ]
  },
  {
   "cell_type": "markdown",
   "metadata": {},
   "source": [
    "\n",
    "\n",
    "### Exercise #1 (`easy`)\n",
    "\n",
    "Take a few seconds to try and code up an answer to the following question. This will help you come to grips with the way in which arithmetic operations are defined in Julia. \n",
    "\n",
    "Determine the **value** and **type** of `y` given by the following expression\n",
    "\n",
    "$$\n",
    "y = \\frac{(x + 2)^2 - 4}{(x - 2)^{p - 2}},\n",
    "$$\n",
    "\n",
    "where `x = 4` and `p = 5`."
   ]
  },
  {
   "cell_type": "markdown",
   "metadata": {},
   "source": [
    "---"
   ]
  },
  {
   "cell_type": "markdown",
   "metadata": {},
   "source": [
    "### Exercise #2 (`harder`)\n",
    "\n",
    "Consider a two dimensional array, which we can call `x_2d`. \n",
    "\n",
    "1. Fill this $4 \\times 4$ array with values\n",
    "2. Extract all the column values of this array\n",
    "3. Extract the value along the second row and third column\n",
    "4. Determine if the matrix is **singular** (optional) -- if you don't know what this means don't worry. You can always look it up on the internet. "
   ]
  },
  {
   "cell_type": "markdown",
   "metadata": {},
   "source": [
    "---"
   ]
  },
  {
   "cell_type": "markdown",
   "metadata": {},
   "source": [
    "### Exercise #3 (`hard` + `optional`)"
   ]
  }
 ],
 "metadata": {
  "kernelspec": {
   "display_name": "Julia 1.7.2",
   "language": "julia",
   "name": "julia-1.7"
  },
  "language_info": {
   "file_extension": ".jl",
   "mimetype": "application/julia",
   "name": "julia",
   "version": "1.7.2"
  },
  "orig_nbformat": 4
 },
 "nbformat": 4,
 "nbformat_minor": 2
}
