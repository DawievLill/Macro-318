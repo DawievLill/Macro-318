{
 "cells": [
  {
   "cell_type": "markdown",
   "metadata": {},
   "source": [
    "# <span style=\"color:#2c061f\"> Macro 318: Problem Set #1 </span>  \n",
    "\n",
    "<br>\n",
    "\n",
    "## <span style=\"color:#374045\"> Introduction to Programming with Julia </span>\n",
    "\n",
    "\n",
    "#### <span style=\"color:#374045\"> Lecturer: </span> <span style=\"color:#d89216\"> <br> Dawie van Lill (dvanlill@sun.ac.za) </span>"
   ]
  },
  {
   "cell_type": "markdown",
   "metadata": {},
   "source": [
    "---\n",
    "\n",
    "# Instructions\n",
    "\n",
    "During this tutorial we will quickly show how to install and use Julia. \n",
    "\n",
    "However, there are several videos uploaded to SUNLearn on how to do this. \n",
    "\n",
    "The questions for the problem set range from easy to hard. \n",
    "\n",
    "The first question is easiest and then it gets progressively harder. \n",
    "\n",
    "You should try and complete these questions before the lecture so that you can ask questions. \n",
    "\n",
    "The fourth question is `optional`.\n",
    "\n",
    "In the tutorial there will be one `unseen` question that you will have chance to finish in the lecture. \n",
    "\n",
    "Before we start with the tutorial, make sure to add the `LinearAlgebra` and `Random` packages as follows, "
   ]
  },
  {
   "cell_type": "code",
   "execution_count": 2,
   "metadata": {},
   "outputs": [
    {
     "name": "stderr",
     "output_type": "stream",
     "text": [
      "\u001b[32m\u001b[1m   Resolving\u001b[22m\u001b[39m package versions...\n",
      "\u001b[32m\u001b[1m  No Changes\u001b[22m\u001b[39m to `C:\\Users\\Dawie\\Dropbox\\2022\\318-macro\\git\\Macro-318\\Project.toml`\n",
      "\u001b[32m\u001b[1m  No Changes\u001b[22m\u001b[39m to `C:\\Users\\Dawie\\Dropbox\\2022\\318-macro\\git\\Macro-318\\Manifest.toml`\n",
      "\u001b[32m\u001b[1m   Resolving\u001b[22m\u001b[39m package versions...\n",
      "\u001b[32m\u001b[1m  No Changes\u001b[22m\u001b[39m to `C:\\Users\\Dawie\\Dropbox\\2022\\318-macro\\git\\Macro-318\\Project.toml`\n",
      "\u001b[32m\u001b[1m  No Changes\u001b[22m\u001b[39m to `C:\\Users\\Dawie\\Dropbox\\2022\\318-macro\\git\\Macro-318\\Manifest.toml`\n"
     ]
    }
   ],
   "source": [
    "import Pkg\n",
    "\n",
    "Pkg.add(\"LinearAlgebra\")\n",
    "Pkg.add(\"Random\")\n",
    "\n",
    "using LinearAlgebra\n",
    "using Random"
   ]
  },
  {
   "cell_type": "markdown",
   "metadata": {},
   "source": [
    "---"
   ]
  },
  {
   "cell_type": "markdown",
   "metadata": {},
   "source": [
    "### Exercise #1: Operators and types\n",
    "\n",
    "\n",
    "\n",
    "Take a few seconds to try and code up an answer to the following question. \n",
    "\n",
    "This will help you come to grips with the way in which arithmetic operations are defined in Julia. \n",
    "\n",
    "Determine the **value** and **type** of `y` given by the following expression\n",
    "\n",
    "$$\n",
    "y = \\frac{(x + 2)^2 - 4}{(x - 2)^{p - 2}},\n",
    "$$\n",
    "\n",
    "where `x = 4` and `p = 5`."
   ]
  },
  {
   "cell_type": "markdown",
   "metadata": {},
   "source": [
    "---"
   ]
  },
  {
   "cell_type": "markdown",
   "metadata": {},
   "source": [
    "### Exercise #2: Arrays and indexing\n",
    "\n",
    "Consider a two dimensional array, which we can call `x_2d`. \n",
    "\n",
    "1. Fill this $4 \\times 4$ array with values\n",
    "2. Extract the values for the last column of this array\n",
    "3. Extract the value along the second row and third column"
   ]
  },
  {
   "cell_type": "markdown",
   "metadata": {},
   "source": [
    "---"
   ]
  },
  {
   "cell_type": "markdown",
   "metadata": {},
   "source": [
    "### Exercise #3: Control flow"
   ]
  },
  {
   "cell_type": "markdown",
   "metadata": {},
   "source": [
    "1. Create an array called `int_array` and fill it with five integers between 1 and 15 (this includes both 1 and 15). \n",
    "\n",
    "2. Create a for loop that iterates over the elements of `int_array`. Inside the for loop use if/else statments to print the following.\n",
    "\n",
    "    - If an element of the array is smaller that 8, print `\"Small\"` \n",
    "    - If an element of the array is greater than 8, print `\"Large\"`\n",
    "    - If an element of the array is equal to 8, print `\"Eight\"` "
   ]
  },
  {
   "cell_type": "markdown",
   "metadata": {},
   "source": [
    "---"
   ]
  },
  {
   "cell_type": "markdown",
   "metadata": {},
   "source": [
    "### Exercise 4: Control flow (`optional`)"
   ]
  },
  {
   "cell_type": "markdown",
   "metadata": {},
   "source": [
    "The following question is `optional`. \n",
    "\n",
    "Edit your if/else statement from Question 3 so that if the any of the elements of `int_array` is a multiple of 3 ONLY print `\"Multiple of 3\"`"
   ]
  }
 ],
 "metadata": {
  "kernelspec": {
   "display_name": "Julia 1.7.2",
   "language": "julia",
   "name": "julia-1.7"
  },
  "language_info": {
   "file_extension": ".jl",
   "mimetype": "application/julia",
   "name": "julia",
   "version": "1.7.2"
  },
  "orig_nbformat": 4
 },
 "nbformat": 4,
 "nbformat_minor": 2
}
