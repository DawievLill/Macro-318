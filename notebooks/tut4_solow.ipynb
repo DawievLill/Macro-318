{
 "cells": [
  {
   "cell_type": "markdown",
   "metadata": {},
   "source": [
    "# <span style=\"color:#2c061f\"> Macro 318: Tutorial #4 </span>  \n",
    "\n",
    "<br>\n",
    "\n",
    "## <span style=\"color:#374045\"> Solow-Swan model </span>\n",
    "\n",
    "\n",
    "#### <span style=\"color:#374045\"> Lecturer: </span> <span style=\"color:#d89216\"> <br> Dawie van Lill (dvanlill@sun.ac.za) </span>"
   ]
  },
  {
   "cell_type": "markdown",
   "metadata": {},
   "source": [
    "These are basic notes for the Solow model in Julia. We will closely follow notes from Nicolas Cachanosky. In lecture we will be going over the basics of difference equations and how they relate the Solow model. "
   ]
  },
  {
   "cell_type": "code",
   "execution_count": 2,
   "metadata": {},
   "outputs": [],
   "source": [
    "import Pkg"
   ]
  },
  {
   "cell_type": "code",
   "execution_count": 3,
   "metadata": {},
   "outputs": [
    {
     "name": "stderr",
     "output_type": "stream",
     "text": [
      "\u001b[32m\u001b[1m    Updating\u001b[22m\u001b[39m registry at `~/.julia/registries/General.toml`\n",
      "\u001b[32m\u001b[1m   Resolving\u001b[22m\u001b[39m package versions...\n",
      "\u001b[32m\u001b[1m  No Changes\u001b[22m\u001b[39m to `~/.julia/environments/v1.7/Project.toml`\n",
      "\u001b[32m\u001b[1m  No Changes\u001b[22m\u001b[39m to `~/.julia/environments/v1.7/Manifest.toml`\n",
      "\u001b[32m\u001b[1m   Resolving\u001b[22m\u001b[39m package versions...\n",
      "\u001b[32m\u001b[1m  No Changes\u001b[22m\u001b[39m to `~/.julia/environments/v1.7/Project.toml`\n",
      "\u001b[32m\u001b[1m  No Changes\u001b[22m\u001b[39m to `~/.julia/environments/v1.7/Manifest.toml`\n"
     ]
    }
   ],
   "source": [
    "Pkg.add(\"Plots\")\n",
    "Pkg.add(\"Symbolics\")"
   ]
  },
  {
   "cell_type": "code",
   "execution_count": 4,
   "metadata": {},
   "outputs": [],
   "source": [
    "using Plots\n",
    "using Symbolics"
   ]
  },
  {
   "cell_type": "markdown",
   "metadata": {},
   "source": [
    "# Learning outcomes"
   ]
  },
  {
   "cell_type": "markdown",
   "metadata": {},
   "source": [
    "# Table of contents\n",
    "\n",
    "1. Production function\n",
    "2. Steady state\n",
    "3. Shocks\n",
    "4. Dynamics"
   ]
  },
  {
   "cell_type": "markdown",
   "metadata": {},
   "source": [
    "## Production function"
   ]
  },
  {
   "cell_type": "markdown",
   "metadata": {},
   "source": [
    "One of the most important considerations in the Solow model is the production function. "
   ]
  },
  {
   "cell_type": "markdown",
   "metadata": {},
   "source": [
    "Assume a Cobb-Douglas production function in discrete time $(t)$ with Hicks-neutral techonology $(A)$, and with constant returns to scale where $\\alpha \\in (0, 1)$ is the output elasticity of capital.\n",
    "\n",
    "$$\n",
    "\\begin{equation*}\n",
    "    Y_{t}\\left(K_{t}, N_{t}\\right) = A_{t} \\cdot F\\left(K_{t}, N_{t}\\right) =  A_{t} \\cdot \\left(K_{t} ^{\\alpha} N_{t}^{1-\\alpha}\\right)\n",
    "\\end{equation*}\n",
    "$$\n",
    "\n",
    "The first and second derivatives with respect to capital and labor are:\n",
    "$$\n",
    "\\begin{align*}\n",
    "    \\frac{\\partial   Y_{t}}{\\partial K}   = \\alpha \\cdot A\\left(\\frac{N_{t}}{K_{t}}\\right)^{1-\\alpha} \n",
    "  = \\alpha \\cdot \\frac{Y_{t}}{K_{t}} > 0 \\; \\text{and} \\;\n",
    "    \\frac{\\partial^2 Y_{t}}{\\partial K^2} = -\\alpha (1-\\alpha) \\cdot A\\left(\\frac{N_{t}}{K_{t}}\\right)^{1-\\alpha} < 0 \\\\\n",
    "    \\frac{\\partial   Y_{t}}{\\partial N}   = (1-\\alpha) \\cdot A\\left(\\frac{K_{t}}{N_{t}}\\right)^{\\alpha} \n",
    "  = (1-\\alpha) \\cdot \\frac{Y_{t}}{N_{t}} > 0 \\; \\text{and} \\;\n",
    "    \\frac{\\partial^2 Y_{t}}{\\partial N^2} = -\\alpha (1-\\alpha) \\cdot A\\left(\\frac{K_{t}}{N_{t}}\\right)^{1-\\alpha} < 0\n",
    "\\end{align*}\n",
    "$$"
   ]
  },
  {
   "cell_type": "markdown",
   "metadata": {},
   "source": [
    "We know from our experience with Julia so far that we can calculate these partial derivatives using the `Symbolics` package. "
   ]
  },
  {
   "cell_type": "code",
   "execution_count": 6,
   "metadata": {},
   "outputs": [
    {
     "data": {
      "text/plain": [
       "Differential(N) ∘ Differential(N)"
      ]
     },
     "execution_count": 6,
     "metadata": {},
     "output_type": "execute_result"
    }
   ],
   "source": [
    "@variables K N A α\n",
    "\n",
    "Y = A * (K ^ α) * (N ^ (1 - α)) \n",
    "\n",
    "∂Y_∂K = Differential(K)\n",
    "∂Y_∂N = Differential(N)\n",
    "∂2Y_∂K2 = Differential(K) ∘ Differential(K)\n",
    "∂2Y_∂N2 = Differential(N) ∘ Differential(N);"
   ]
  },
  {
   "cell_type": "code",
   "execution_count": 7,
   "metadata": {},
   "outputs": [
    {
     "data": {
      "text/latex": [
       "\\begin{equation}\n",
       "N^{1 - \\alpha} K^{-1 + \\alpha} A \\alpha\n",
       "\\end{equation}\n"
      ],
      "text/plain": [
       "A*α*(K^(α - 1))*(N^(1 - α))"
      ]
     },
     "execution_count": 7,
     "metadata": {},
     "output_type": "execute_result"
    }
   ],
   "source": [
    "expand_derivatives(∂Y_∂K(Y))"
   ]
  },
  {
   "cell_type": "code",
   "execution_count": 8,
   "metadata": {},
   "outputs": [
    {
     "data": {
      "text/latex": [
       "\\begin{equation}\n",
       "N^{ - \\alpha} K^{\\alpha} A \\left( 1 - \\alpha \\right)\n",
       "\\end{equation}\n"
      ],
      "text/plain": [
       "A*(K^α)*(N^(-α))*(1 - α)"
      ]
     },
     "execution_count": 8,
     "metadata": {},
     "output_type": "execute_result"
    }
   ],
   "source": [
    "expand_derivatives(∂Y_∂N(Y))"
   ]
  },
  {
   "cell_type": "code",
   "execution_count": 9,
   "metadata": {},
   "outputs": [
    {
     "data": {
      "text/latex": [
       "\\begin{equation}\n",
       "N^{1 - \\alpha} K^{-2 + \\alpha} A \\alpha \\left( -1 + \\alpha \\right)\n",
       "\\end{equation}\n"
      ],
      "text/plain": [
       "A*α*(K^(α - 2))*(N^(1 - α))*(α - 1)"
      ]
     },
     "execution_count": 9,
     "metadata": {},
     "output_type": "execute_result"
    }
   ],
   "source": [
    "expand_derivatives(∂2Y_∂K2(Y))"
   ]
  },
  {
   "cell_type": "code",
   "execution_count": 10,
   "metadata": {},
   "outputs": [
    {
     "data": {
      "text/latex": [
       "\\begin{equation}\n",
       " - N^{-1 - \\alpha} K^{\\alpha} A \\alpha \\left( 1 - \\alpha \\right)\n",
       "\\end{equation}\n"
      ],
      "text/plain": [
       "-A*α*(K^α)*(N^(-1 - α))*(1 - α)"
      ]
     },
     "execution_count": 10,
     "metadata": {},
     "output_type": "execute_result"
    }
   ],
   "source": [
    "expand_derivatives(∂2Y_∂N2(Y))"
   ]
  },
  {
   "cell_type": "code",
   "execution_count": null,
   "metadata": {},
   "outputs": [],
   "source": []
  }
 ],
 "metadata": {
  "kernelspec": {
   "display_name": "Julia 1.7.0-rc2",
   "language": "julia",
   "name": "julia-1.7"
  },
  "language_info": {
   "file_extension": ".jl",
   "mimetype": "application/julia",
   "name": "julia",
   "version": "1.7.0"
  },
  "orig_nbformat": 4
 },
 "nbformat": 4,
 "nbformat_minor": 2
}
