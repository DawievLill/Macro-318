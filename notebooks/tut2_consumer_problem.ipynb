{
 "cells": [
  {
   "cell_type": "markdown",
   "metadata": {},
   "source": [
    "# <span style=\"color:#2c061f\"> Macro 318: Tutorial #2 </span>  \n",
    "\n",
    "<br>\n",
    "\n",
    "## <span style=\"color:#374045\"> Optimisation and the consumer problem </span>\n",
    "\n",
    "\n",
    "#### <span style=\"color:#374045\"> Lecturer: </span> <span style=\"color:#d89216\"> <br> Dawie van Lill (dvanlill@sun.ac.za) </span>"
   ]
  },
  {
   "cell_type": "markdown",
   "metadata": {},
   "source": [
    "# Introduction"
   ]
  },
  {
   "cell_type": "markdown",
   "metadata": {},
   "source": [
    "Before getting started with this tutorial I want to acknowledge the excellent work being done by Jeppe Druedahl and his team at Copenhagen. The following tutorial is basically a port of the Python lecture for his course on numerical methods. Much of the material is directly copied, but there are also some smaller amendments to fit the 318 course. The original lecture can be found [here](https://numeconcopenhagen.netlify.app/lectures/Optimize_print_and_plot)."
   ]
  },
  {
   "cell_type": "markdown",
   "metadata": {},
   "source": [
    "In this second tutorial we will be going over some basic data work and the solution of a basic optimisation problem in macroeconomics. We will report our results via text and figures, so this will entail some visualisation. \n",
    "\n",
    "The following packages are going to be needed for this tutorial. "
   ]
  },
  {
   "cell_type": "code",
   "execution_count": 1,
   "metadata": {},
   "outputs": [],
   "source": [
    "import Pkg"
   ]
  },
  {
   "cell_type": "code",
   "execution_count": 2,
   "metadata": {},
   "outputs": [
    {
     "name": "stderr",
     "output_type": "stream",
     "text": [
      "\u001b[32m\u001b[1m    Updating\u001b[22m\u001b[39m registry at `~/.julia/registries/General.toml`\n",
      "\u001b[32m\u001b[1m   Resolving\u001b[22m\u001b[39m package versions...\n",
      "\u001b[32m\u001b[1m   Installed\u001b[22m\u001b[39m libvorbis_jll ─ v1.3.7+1\n",
      "\u001b[32m\u001b[1m  No Changes\u001b[22m\u001b[39m to `~/Dropbox/2022/318-macro/git/Macro-318/Project.toml`\n",
      "\u001b[32m\u001b[1m    Updating\u001b[22m\u001b[39m `~/Dropbox/2022/318-macro/git/Macro-318/Manifest.toml`\n",
      " \u001b[90m [f27f6e37] \u001b[39m\u001b[93m↑ libvorbis_jll v1.3.7+0 ⇒ v1.3.7+1\u001b[39m\n",
      "\u001b[32m\u001b[1mPrecompiling\u001b[22m\u001b[39m project...\n",
      "\u001b[32m  ✓ \u001b[39m\u001b[90mlibvorbis_jll\u001b[39m\n",
      "\u001b[32m  ✓ \u001b[39m\u001b[90mFFMPEG_jll\u001b[39m\n",
      "\u001b[32m  ✓ \u001b[39m\u001b[90mFFMPEG\u001b[39m\n",
      "\u001b[32m  ✓ \u001b[39m\u001b[90mGR_jll\u001b[39m\n",
      "\u001b[32m  ✓ \u001b[39m\u001b[90mGR\u001b[39m\n",
      "\u001b[32m  ✓ \u001b[39mPlots\n",
      "  6 dependencies successfully precompiled in 42 seconds (155 already precompiled)\n",
      "\u001b[32m\u001b[1m   Resolving\u001b[22m\u001b[39m package versions...\n",
      "\u001b[32m\u001b[1m  No Changes\u001b[22m\u001b[39m to `~/Dropbox/2022/318-macro/git/Macro-318/Project.toml`\n",
      "\u001b[32m\u001b[1m  No Changes\u001b[22m\u001b[39m to `~/Dropbox/2022/318-macro/git/Macro-318/Manifest.toml`\n",
      "\u001b[32m\u001b[1m   Resolving\u001b[22m\u001b[39m package versions...\n",
      "\u001b[32m\u001b[1m  No Changes\u001b[22m\u001b[39m to `~/Dropbox/2022/318-macro/git/Macro-318/Project.toml`\n",
      "\u001b[32m\u001b[1m  No Changes\u001b[22m\u001b[39m to `~/Dropbox/2022/318-macro/git/Macro-318/Manifest.toml`\n"
     ]
    }
   ],
   "source": [
    "Pkg.add(\"DataFrames\");\n",
    "Pkg.add(\"Optim\"); # Optimisation package\n",
    "Pkg.add(\"Plots\");"
   ]
  },
  {
   "cell_type": "code",
   "execution_count": 3,
   "metadata": {},
   "outputs": [],
   "source": [
    "using DataFrames\n",
    "using Optim\n",
    "using Plots"
   ]
  },
  {
   "cell_type": "markdown",
   "metadata": {},
   "source": [
    "## Consumer problem"
   ]
  },
  {
   "cell_type": "markdown",
   "metadata": {},
   "source": [
    "Consider the following consumer problem. You should be quite familiar with this, since it is very similar to the one that we covered in chapter 4 of Williamson last year. "
   ]
  },
  {
   "cell_type": "markdown",
   "metadata": {},
   "source": [
    "We have an economy with two goods and the following components, \n",
    "\n",
    "* utility function $u(x_1,x_2):\\mathbb{R}^2_{+}\\rightarrow\\mathbb{R}$,\n",
    "* exogenous income $I$, and \n",
    "* price-vector $(p_1,p_2)$,"
   ]
  },
  {
   "cell_type": "markdown",
   "metadata": {},
   "source": [
    "We can write this problem as follows, "
   ]
  },
  {
   "cell_type": "markdown",
   "metadata": {},
   "source": [
    "\n",
    "$$\n",
    "\\begin{aligned}\n",
    "V(p_{1},p_{2},I) & = \\max_{x_{1},x_{2}}u(x_{1},x_{2})\\\\\n",
    " \\text{s.t.}\\\\\n",
    "p_{1}x_{1}+p_{2}x_{2} & \\leq I,\\,\\,\\,p_{1},p_{2},I>0\\\\\n",
    "x_{1},x_{2} & \\geq 0\n",
    "\\end{aligned}\n",
    "$$"
   ]
  },
  {
   "cell_type": "markdown",
   "metadata": {},
   "source": [
    "Normally these types of problems can be solved by hand. We will solve this particular problem by hand in the tutorial. If we had, for example, a Cobb-Douglas utility function, such as, \n",
    "\n",
    "$$\n",
    "u(x_1,x_2) = x_1^{\\alpha}x_2^{1-\\alpha}\n",
    "$$\n",
    "\n",
    "then the solution is given by, \n",
    "\n",
    "$$\n",
    "\\begin{aligned}\n",
    "x_1^{\\ast} &= \\alpha \\frac{I}{p_1} \\\\\n",
    "x_2^{\\ast} &= (1-\\alpha) \\frac{I}{p_2}\n",
    "\\end{aligned}\n",
    "$$\n",
    "\n",
    "which implies that $\\alpha$ is the budget share of the first good and $1-\\alpha$ is the budget share of the second good. \n",
    "\n",
    "While this is not a difficult problem to solve by hand, it would be way more convenient to be able to do this on a computer. One of the main reasons is that if the utility function changes we don't need to do the whole process again, we simply need to alter the utility function in our code and we can calculate the new solution. "
   ]
  },
  {
   "cell_type": "markdown",
   "metadata": {},
   "source": [
    "## Utility function"
   ]
  },
  {
   "cell_type": "markdown",
   "metadata": {},
   "source": [
    "Let us write down the utility function in terms of code. Remember how to construct functions from the first lecture? If not, please consult the section on functions. "
   ]
  },
  {
   "cell_type": "code",
   "execution_count": 4,
   "metadata": {},
   "outputs": [],
   "source": [
    "function u_func(x1, x2, α = 0.5)\n",
    "    return x1 ^ α * x2 ^ (1 - α)\n",
    "end;"
   ]
  },
  {
   "cell_type": "markdown",
   "metadata": {},
   "source": [
    "We can evaluate this utility function for different values of the inputs $x_1$ and $x_2$."
   ]
  },
  {
   "cell_type": "code",
   "execution_count": 5,
   "metadata": {},
   "outputs": [
    {
     "name": "stdout",
     "output_type": "stream",
     "text": [
      "x1 = 1, x2 = 3 -> u = 1.7320508075688772\n"
     ]
    }
   ],
   "source": [
    "x1 = 1\n",
    "x2 = 3\n",
    "\n",
    "u = u_func(x1, x2)\n",
    "\n",
    "println(\"x1 = $x1, x2 = $x2 -> u = $u\")"
   ]
  },
  {
   "cell_type": "markdown",
   "metadata": {},
   "source": [
    "We can also loop through multiple values for $x_1$ to see how the values for the utility function changes. This reflects the elasticity of utility with respect to $x_1$"
   ]
  },
  {
   "cell_type": "code",
   "execution_count": 6,
   "metadata": {},
   "outputs": [
    {
     "name": "stdout",
     "output_type": "stream",
     "text": [
      "x1 = 2, x2 = 3 -> u = 2.4494897427831783\n",
      "x1 = 4, x2 = 3 -> u = 3.4641016151377544\n",
      "x1 = 6, x2 = 3 -> u = 4.242640687119285\n",
      "x1 = 8, x2 = 3 -> u = 4.898979485566357\n",
      "x1 = 10, x2 = 3 -> u = 5.477225575051661\n",
      "x1 = 12, x2 = 3 -> u = 5.999999999999999\n",
      "x1 = 14, x2 = 3 -> u = 6.4807406984078595\n",
      "x1 = 16, x2 = 3 -> u = 6.928203230275509\n"
     ]
    }
   ],
   "source": [
    "x1_values = [2, 4, 6, 8, 10, 12, 14, 16]\n",
    "x2 = 3\n",
    "\n",
    "for x1 in x1_values\n",
    "    u = u_func(x1, x2)\n",
    "\n",
    "    println(\"x1 = $x1, x2 = $x2 -> u = $u\")\n",
    "end"
   ]
  },
  {
   "cell_type": "markdown",
   "metadata": {},
   "source": [
    "For a little nicer output we can use the `enumerate` command, "
   ]
  },
  {
   "cell_type": "code",
   "execution_count": 7,
   "metadata": {},
   "outputs": [
    {
     "name": "stdout",
     "output_type": "stream",
     "text": [
      "1: x1 = 2, x2 = 3 -> u = 2.4494897427831783\n",
      "2: x1 = 4, x2 = 3 -> u = 3.4641016151377544\n",
      "3: x1 = 6, x2 = 3 -> u = 4.242640687119285\n",
      "4: x1 = 8, x2 = 3 -> u = 4.898979485566357\n",
      "5: x1 = 10, x2 = 3 -> u = 5.477225575051661\n",
      "6: x1 = 12, x2 = 3 -> u = 5.999999999999999\n",
      "7: x1 = 14, x2 = 3 -> u = 6.4807406984078595\n",
      "8: x1 = 16, x2 = 3 -> u = 6.928203230275509\n"
     ]
    }
   ],
   "source": [
    "for (i, x1) in enumerate(x1_values)\n",
    "    u = u_func(x1, x2)\n",
    "\n",
    "    println(\"$i: x1 = $x1, x2 = $x2 -> u = $u\")\n",
    "end\n"
   ]
  },
  {
   "cell_type": "markdown",
   "metadata": {},
   "source": [
    "We can now see how utility changes with different values for $x_1$. In this case it seems that there is an increase in utility associated with an increase in $x_1$. \n",
    "\n",
    "In mathematical terms, it seems that the utility function is monotonically increasing with respect to changes in $x_1$. The way that we would determine the change in the utility function with respect to $x_1$ over the entire function is by using the tools of calculus. "
   ]
  },
  {
   "cell_type": "markdown",
   "metadata": {},
   "source": [
    "## Plotting the utility function"
   ]
  },
  {
   "cell_type": "markdown",
   "metadata": {},
   "source": [
    "The next thing we might want to do in our analysis is to plot the utility function. We want some idea of what the function looks like graphically. We could draw it by hand, but it is much easier to utilise the computer. "
   ]
  },
  {
   "cell_type": "markdown",
   "metadata": {},
   "source": [
    "The first thing we will do is to create a 2-dimensional grid with $N$ elements in each dimension. We are going to be plotting our utility function with respect to two inputs, so we need a 2-dimensional grid. "
   ]
  },
  {
   "cell_type": "code",
   "execution_count": 8,
   "metadata": {},
   "outputs": [],
   "source": [
    "N = 100 # number of elements\n",
    "x_max = 10 # maximum value\n",
    "\n",
    "# Initialise the arrays with zeros\n",
    "x1_values = zeros(N)\n",
    "x2_values = zeros(N)\n",
    "u_values = zeros(N, N);\n",
    "\n",
    "# fill the arrays with the appropriate values\n",
    "for i in 1:N\n",
    "    for j in 1:N\n",
    "        x1_values[i] = (i / N) * x_max \n",
    "        x2_values[j] = (j / N) * x_max\n",
    "        u_values[i, j] = u_func(x1_values[i], x2_values[j])\n",
    "    end\n",
    "end"
   ]
  },
  {
   "cell_type": "markdown",
   "metadata": {},
   "source": [
    "### Making sense of the loops\n",
    "\n",
    "**Note** In order to understand this loop you need to take things slowly the first time. Try and understand what is happening in each step. I have provided a detailed description below, but you still need to sit and think through it. \n",
    "\n",
    "Let us analyse the loop above and see what is happening at each step. First, this is a nested loop. As we stated in our previous session, this means that we will be running through the $i$ component first and then the corresponding $j$ component. \n",
    "\n",
    "To use an example, we start with $i = 1$, and then run the loop over all the $j$ values starting at $j = 1$ and ending at $j = N = 100$. \n",
    "\n",
    "This means that for $i = 1$, we start with $j = 1$. This gives a value for `x1_values[1] = (1 / N) * x_max`. \n",
    "\n",
    "This means that the first value in the `x1_values` vector will then be $(1 / 100) * 10 = 0.1$. The same is true for `x2_values`, the first entry in that vector will be $0.1$, by the same logic as applied before. \n",
    "\n",
    "Now we can enter these $x_1$ and $x_2$ values into the utility function. The shape of the utility function as initialised is a $N \\times N$ matrix of zeros. We are currently busy with $i = 1$ and $j = 1$. This means that in our code we are looking at `u_values[1, 1]` which is the value in the first column and first row of the matrix. \n",
    "\n",
    "To be clear, `u_values[1, 1]` takes on the value from the output of `u_func(0.1, 0.1)`. \n",
    "\n",
    "Next we keep the $i$ component fixed at $1$ and iterate over the next value in the $j$ sequence, which is $j = 2$. We repeat the steps as for the above description and end up with an entry for `u_values[1, 2]`. \n",
    "\n",
    "Keeping $i$ fixed, we iterate over all the values for $j$. That means for $j = 3$ to $j = 100$. After having completed this loop, we move on to a new value for $i$. \n",
    "\n",
    "Move on to $i = 2$ and repeat the entire process that we described above again. Looping over all the $j$ values, etc. After having done that move on to $i = 3$ and then continue the process we have described till you reach $i = 100$.\n",
    "\n",
    "At the end of all of this you will see that we have know completely filled the `u_values` matrix with all possible combinations of $x_1$ and $x_2$ values (smaller than $x_{max} = 10$) that can enter the utility function. "
   ]
  },
  {
   "cell_type": "markdown",
   "metadata": {},
   "source": [
    "### Plotting the function"
   ]
  },
  {
   "cell_type": "markdown",
   "metadata": {},
   "source": [
    "Below is the code to plot our function in three dimensions. I will provide a brief explanation on what the code is actually doing, but it should be somewhat easy to understand by just reading it. "
   ]
  },
  {
   "cell_type": "code",
   "execution_count": 9,
   "metadata": {},
   "outputs": [],
   "source": [
    "plot(x1_values, x2_values, u_values, linetype = :wireframe, color = :blues, width=0.4, legend = false);\n",
    "\n",
    "plot!(x1_values, x2_values, u_values, st = :surface, xlabel = \"x1\", ylabel = \"x2\", zlabel = \"utility\", camera = (30, 60), colour = :ice, backgroundinside = :ghostwhite, alpha = 0.9, legend = false);"
   ]
  },
  {
   "cell_type": "markdown",
   "metadata": {},
   "source": [
    "We have the graph for the utility function, now we need to think about finding a solution to our **constrained optimisation** problem. We want to achieve the highest level of utility, given the constraint that we are provided. "
   ]
  },
  {
   "cell_type": "markdown",
   "metadata": {},
   "source": [
    "# Optimisation (finding a solution)"
   ]
  },
  {
   "cell_type": "markdown",
   "metadata": {},
   "source": [
    "In this next section we talk about three ways (algorithms) for finding a solution to our original optimisation problem. Once again, remember that the problem that we want to solve is the following, \n",
    "\n",
    "$$\n",
    "\\begin{aligned}\n",
    "V(p_{1},p_{2},I) & = \\max_{x_{1},x_{2}}u(x_{1},x_{2})\\\\\n",
    " & \\text{s.t.}\\\\\n",
    "p_{1}x_{1}+p_{2}x_{2} & \\leq I,\\,\\,\\,p_{1},p_{2},I>0\\\\\n",
    "x_{1},x_{2} & \\geq 0\n",
    "\\end{aligned}\n",
    "$$"
   ]
  },
  {
   "cell_type": "markdown",
   "metadata": {},
   "source": [
    "For our first algorithm, we are basically going to loop through a grid of all the $N_{1} \\times N_{2}$ solutions and then pick the best option. This has the advantage of being easy to understand. However, it requires evaluations many points and could be computationally very costly if the number of points that we need to evaluate are high. This type of method is referred to as a **grid search** method. It solves the problem with brute force. "
   ]
  },
  {
   "cell_type": "markdown",
   "metadata": {},
   "source": [
    "## Algorithm 1: Grid search"
   ]
  },
  {
   "cell_type": "markdown",
   "metadata": {},
   "source": [
    "The general idea is that we will be solving the following problem. \n",
    "\n",
    "$$\n",
    "\\begin{aligned}\n",
    "V(p_{1},p_{2},I) & = \\max_{x_{1}\\in X_1,x_{2} \\in X_2} x_1^{\\alpha}x_2^{1-\\alpha}\\\\\n",
    " & \\text{s.t.}\\\\\n",
    " x_1 & = \\left\\{0,\\frac{1}{N_1-1}\\frac{I}{p_1},\\frac{2}{N_1-1}\\frac{I}{p_1},\\dots,\\frac{I}{p_1}\\right\\} \\\\\n",
    " x_2 & = \\left\\{0,\\frac{1}{N_2-1}\\frac{I}{p_2},\\frac{2}{N_2-1}\\frac{ I}{p_2},\\dots,\\frac{ I}{p_2}\\right\\} \\\\\n",
    "p_{1}x_{1}+p_{2}x_{2} & \\leq I\\\\\n",
    "\\end{aligned}\n",
    "$$"
   ]
  },
  {
   "cell_type": "markdown",
   "metadata": {},
   "source": [
    "We are creating input grids, where the values of $x_1$ and $x_2$ are discretised. \n",
    "\n",
    "If we look at the definition of the set of values that $x_1$ can take here you will see that is always non-negative ($\\geq 0$). In fact, our set starts at zero, so we take that potential value into account. \n",
    "\n",
    "On the other extreme with respect to the grid, we have $x_1 = I/p_1$. If you think about this carefully, $x_1$ can only take on the value of $I/p_1$ if $x_2 = 0$. This can be seen from the budget constraint $p_{1}x_{1}+p_{2}x_{2} \\leq I$.\n",
    "\n",
    "Our endpoints for the grid have now been defined as $0$ and $I/p_1$. The grid in our case is equally spaced, which means that the second point in the grid is equally far away from the first and third point. The fact that any point is equally far from adjacent points, is true for any singular point on the grid (except for the two endpoints). There is a symmetry in the spacing between points. \n",
    "\n",
    "The next question is, how can we create this grid mathematically so that we have this equal spacing. If there are $N_1 = 5$ grid points, then we know that the endpoints make up two of the points. So these are accounted for. Now we need to think about the other $3$ points. I call these points $x_1^2,x_1^3,x_1^4$ for now (where the superscript indicates position). \n",
    "\n",
    "$$\n",
    "x_1 = \\left\\{0,x_1^2,x_1^3,x_1^4, \\frac{I}{p_1}\\right\\}\n",
    "$$\n",
    "\n",
    "One way to think about the construction of the grid is to make a further simplification. Let us assume that we know what the end value $I/p_1$ will be. In this case we assume it is $1$ in order to make calculations a bit easier. Then we are left with the following grid, \n",
    "\n",
    "$$\n",
    "x_1 = \\left\\{0,x_1^2,x_1^3,x_1^4, 1 \\right\\}\n",
    "$$\n",
    "\n",
    "Given that the endpoint is $1$, we know that the distances between the different values of the grid need to sum to the difference between the endpoints ($1 - 0 = 1$). For equal distances between $5$ points, where the distances must sum to one, we need the distance between each point to be $1/N_1 - 1 = 1 / 4$. If you look carefully, you will see that there are four positions in between grid points, and so we need each of these to be of length $1/4$, so that these $4$ intervals can sum to $1$.\n",
    "\n",
    "This means that we can write the values of the grid points explicitly as, \n",
    "\n",
    "$$\n",
    "x_1 = \\left\\{0,\\frac{1}{4},\\frac{2}{4},\\frac{3}{4}, 1 \\right\\}\n",
    "$$\n",
    "\n",
    "Now if we have an endpoint that is equal to $I/p_1$ then we need to multiply each of the grid points with this scaling factor, so that everything sums up to that endpoint value. In other words, we will then have, \n",
    "\n",
    "$$\n",
    "x_1 = \\left\\{0,\\frac{1}{4}\\frac{I}{p_1},\\frac{2}{4}\\frac{I}{p_1},\\frac{3}{4}\\frac{I}{p_1}, \\frac{I}{p_1} \\right\\}\n",
    "$$\n",
    "\n",
    "As a numerical example, assume that $p_1 = 25$ and $I = 10$, then we would evaluate $x_1$ at the following values in the grid, \n",
    "\n",
    "\n",
    "$$\n",
    "x_1 = \\left\\{0,\\frac{1}{4}\\frac{10}{25},\\frac{2}{4}\\frac{10}{25},\\frac{3}{4}\\frac{10}{25}, \\frac{10}{25} \\right\\}\n",
    "$$\n",
    "\n",
    "If we simplify this a bit further we get, \n",
    "\n",
    "$$\n",
    "x_1 = \\left\\{0,\\frac{1}{10},\\frac{2}{10},\\frac{3}{10}, \\frac{4}{10} \\right\\}\n",
    "$$\n",
    "\n",
    "For this specific example, we can then evaluate the $x_1$ along the values in this set. If we wanted we could increase the number of $N_1$ so as to evaluate along more points. This would probably give us a more accurate answer, but it comes at a computational cost. Each of these input values need to be inserted into the utility function and evaluated. The more values you have the longer it is going to take to evaluate. \n",
    "\n",
    "This is one of the big tradeoffs in computing. **Speed vs accuracy**. "
   ]
  },
  {
   "cell_type": "markdown",
   "metadata": {},
   "source": []
  },
  {
   "cell_type": "markdown",
   "metadata": {},
   "source": []
  },
  {
   "cell_type": "markdown",
   "metadata": {},
   "source": []
  },
  {
   "cell_type": "code",
   "execution_count": null,
   "metadata": {},
   "outputs": [],
   "source": []
  }
 ],
 "metadata": {
  "kernelspec": {
   "display_name": "Julia 1.7.0-rc2",
   "language": "julia",
   "name": "julia-1.7"
  },
  "language_info": {
   "file_extension": ".jl",
   "mimetype": "application/julia",
   "name": "julia",
   "version": "1.7.0"
  },
  "orig_nbformat": 4
 },
 "nbformat": 4,
 "nbformat_minor": 2
}
