{
 "cells": [
  {
   "cell_type": "markdown",
   "metadata": {},
   "source": [
    "# <span style=\"color:#2c061f\"> Macro 318: Tutorial #2 </span>  \n",
    "\n",
    "<br>\n",
    "\n",
    "## <span style=\"color:#374045\"> Optimisation and the consumer problem </span>\n",
    "\n",
    "\n",
    "#### <span style=\"color:#374045\"> Lecturer: </span> <span style=\"color:#d89216\"> <br> Dawie van Lill (dvanlill@sun.ac.za) </span>"
   ]
  },
  {
   "cell_type": "markdown",
   "metadata": {},
   "source": [
    "# Introduction"
   ]
  },
  {
   "cell_type": "markdown",
   "metadata": {},
   "source": [
    "Before getting started with this tutorial I want to acknowledge the excellent work being done by Jeppe Druedahl and his team at Copenhagen. The following tutorial is basically a port of the Python lecture for his course on numerical methods. Much of the material is directly copied, but there are also some smaller amendments to fit the 318 course. The original lecture can be found [here](https://numeconcopenhagen.netlify.app/lectures/Optimize_print_and_plot)."
   ]
  },
  {
   "cell_type": "markdown",
   "metadata": {},
   "source": [
    "In this second tutorial we will be going over some basic data work and the solution of a basic optimisation problem in macroeconomics. We will report our results via text and figures, so this will entail some visualisation. \n",
    "\n",
    "The following packages are going to be needed for this tutorial. "
   ]
  },
  {
   "cell_type": "code",
   "execution_count": 2,
   "metadata": {},
   "outputs": [],
   "source": [
    "import Pkg"
   ]
  },
  {
   "cell_type": "code",
   "execution_count": 3,
   "metadata": {},
   "outputs": [
    {
     "name": "stderr",
     "output_type": "stream",
     "text": [
      "\u001b[32m\u001b[1m    Updating\u001b[22m\u001b[39m registry at `~/.julia/registries/General.toml`\n",
      "\u001b[32m\u001b[1m   Resolving\u001b[22m\u001b[39m package versions...\n",
      "\u001b[32m\u001b[1m  No Changes\u001b[22m\u001b[39m to `~/.julia/environments/v1.7/Project.toml`\n",
      "\u001b[32m\u001b[1m  No Changes\u001b[22m\u001b[39m to `~/.julia/environments/v1.7/Manifest.toml`\n",
      "\u001b[32m\u001b[1m   Resolving\u001b[22m\u001b[39m package versions...\n",
      "\u001b[32m\u001b[1m    Updating\u001b[22m\u001b[39m `~/.julia/environments/v1.7/Project.toml`\n",
      " \u001b[90m [b6b21f68] \u001b[39m\u001b[92m+ Ipopt v0.9.1\u001b[39m\n",
      "\u001b[32m\u001b[1m    Updating\u001b[22m\u001b[39m `~/.julia/environments/v1.7/Manifest.toml`\n",
      " \u001b[90m [6e4b80f9] \u001b[39m\u001b[92m+ BenchmarkTools v1.2.2\u001b[39m\n",
      " \u001b[90m [b99e7846] \u001b[39m\u001b[92m+ BinaryProvider v0.5.10\u001b[39m\n",
      " \u001b[90m [523fee87] \u001b[39m\u001b[92m+ CodecBzip2 v0.7.2\u001b[39m\n",
      " \u001b[90m [b6b21f68] \u001b[39m\u001b[92m+ Ipopt v0.9.1\u001b[39m\n",
      " \u001b[90m [b8f27783] \u001b[39m\u001b[92m+ MathOptInterface v0.10.7\u001b[39m\n",
      " \u001b[90m [ae81ac8f] \u001b[39m\u001b[92m+ ASL_jll v0.1.3+0\u001b[39m\n",
      " \u001b[90m [9cc047cb] \u001b[39m\u001b[92m+ Ipopt_jll v300.1400.400+0\u001b[39m\n",
      " \u001b[90m [d00139f3] \u001b[39m\u001b[92m+ METIS_jll v5.1.1+0\u001b[39m\n",
      " \u001b[90m [d7ed1dd3] \u001b[39m\u001b[92m+ MUMPS_seq_jll v5.4.1+0\u001b[39m\n",
      " \u001b[90m [656ef2d0] \u001b[39m\u001b[92m+ OpenBLAS32_jll v0.3.17+0\u001b[39m\n",
      " \u001b[90m [9abbd945] \u001b[39m\u001b[92m+ Profile\u001b[39m\n",
      "\u001b[32m\u001b[1mPrecompiling\u001b[22m\u001b[39m project...\n",
      "\u001b[32m  ✓ \u001b[39m\u001b[90mCodecBzip2\u001b[39m\n",
      "\u001b[32m  ✓ \u001b[39m\u001b[90mMETIS_jll\u001b[39m\n",
      "\u001b[32m  ✓ \u001b[39m\u001b[90mASL_jll\u001b[39m\n",
      "\u001b[32m  ✓ \u001b[39m\u001b[90mOpenBLAS32_jll\u001b[39m\n",
      "\u001b[32m  ✓ \u001b[39m\u001b[90mMUMPS_seq_jll\u001b[39m\n",
      "\u001b[32m  ✓ \u001b[39m\u001b[90mIpopt_jll\u001b[39m\n",
      "\u001b[32m  ✓ \u001b[39m\u001b[90mMathOptInterface\u001b[39m\n",
      "\u001b[32m  ✓ \u001b[39mIpopt\n",
      "  8 dependencies successfully precompiled in 49 seconds (335 already precompiled)\n",
      "\u001b[32m\u001b[1m   Resolving\u001b[22m\u001b[39m package versions...\n",
      "\u001b[32m\u001b[1m    Updating\u001b[22m\u001b[39m `~/.julia/environments/v1.7/Project.toml`\n",
      " \u001b[90m [4076af6c] \u001b[39m\u001b[92m+ JuMP v0.22.2\u001b[39m\n",
      "\u001b[32m\u001b[1m    Updating\u001b[22m\u001b[39m `~/.julia/environments/v1.7/Manifest.toml`\n",
      " \u001b[90m [49dc2e85] \u001b[39m\u001b[92m+ Calculus v0.5.1\u001b[39m\n",
      " \u001b[90m [4076af6c] \u001b[39m\u001b[92m+ JuMP v0.22.2\u001b[39m\n",
      "\u001b[32m\u001b[1mPrecompiling\u001b[22m\u001b[39m project...\n",
      "\u001b[32m  ✓ \u001b[39mJuMP\n",
      "  1 dependency successfully precompiled in 11 seconds (344 already precompiled)\n",
      "\u001b[32m\u001b[1m   Resolving\u001b[22m\u001b[39m package versions...\n",
      "\u001b[32m\u001b[1m    Updating\u001b[22m\u001b[39m `~/.julia/environments/v1.7/Project.toml`\n",
      " \u001b[90m [429524aa] \u001b[39m\u001b[92m+ Optim v1.6.0\u001b[39m\n",
      "\u001b[32m\u001b[1m  No Changes\u001b[22m\u001b[39m to `~/.julia/environments/v1.7/Manifest.toml`\n",
      "\u001b[32m\u001b[1m   Resolving\u001b[22m\u001b[39m package versions...\n",
      "\u001b[32m\u001b[1m  No Changes\u001b[22m\u001b[39m to `~/.julia/environments/v1.7/Project.toml`\n",
      "\u001b[32m\u001b[1m  No Changes\u001b[22m\u001b[39m to `~/.julia/environments/v1.7/Manifest.toml`\n"
     ]
    }
   ],
   "source": [
    "Pkg.add(\"DataFrames\");\n",
    "Pkg.add(\"Ipopt\");\n",
    "Pkg.add(\"JuMP\"); # Optimisation package\n",
    "Pkg.add(\"Optim\")\n",
    "Pkg.add(\"Plots\");"
   ]
  },
  {
   "cell_type": "code",
   "execution_count": 4,
   "metadata": {},
   "outputs": [
    {
     "name": "stderr",
     "output_type": "stream",
     "text": [
      "┌ Info: Precompiling Plots [91a5bcdd-55d7-5caf-9e0b-520d859cae80]\n",
      "└ @ Base loading.jl:1423\n"
     ]
    }
   ],
   "source": [
    "using DataFrames\n",
    "using Ipopt\n",
    "using JuMP\n",
    "using Optim\n",
    "using Plots"
   ]
  },
  {
   "cell_type": "markdown",
   "metadata": {},
   "source": [
    "## Consumer problem"
   ]
  },
  {
   "cell_type": "markdown",
   "metadata": {},
   "source": [
    "Consider the following consumer problem. You should be quite familiar with this, since it is very similar to the one that we covered in chapter 4 of Williamson last year. "
   ]
  },
  {
   "cell_type": "markdown",
   "metadata": {},
   "source": [
    "We have an economy with two goods and the following components, \n",
    "\n",
    "* utility function $u(x_1,x_2):\\mathbb{R}^2_{+}\\rightarrow\\mathbb{R}$,\n",
    "* exogenous income $I$, and \n",
    "* price-vector $(p_1,p_2)$,"
   ]
  },
  {
   "cell_type": "markdown",
   "metadata": {},
   "source": [
    "We can write this problem as follows, "
   ]
  },
  {
   "cell_type": "markdown",
   "metadata": {},
   "source": [
    "\n",
    "$$\n",
    "\\begin{aligned}\n",
    "V(p_{1},p_{2},I) & = \\max_{x_{1},x_{2}}u(x_{1},x_{2})\\\\\n",
    " \\text{s.t.}\\\\\n",
    "p_{1}x_{1}+p_{2}x_{2} & \\leq I,\\,\\,\\,p_{1},p_{2},I>0\\\\\n",
    "x_{1},x_{2} & \\geq 0\n",
    "\\end{aligned}\n",
    "$$"
   ]
  },
  {
   "cell_type": "markdown",
   "metadata": {},
   "source": [
    "Normally these types of problems can be solved by hand. We will solve this particular problem by hand in the tutorial. If we had, for example, a Cobb-Douglas utility function, such as, \n",
    "\n",
    "$$\n",
    "u(x_1,x_2) = x_1^{\\alpha}x_2^{1-\\alpha}\n",
    "$$\n",
    "\n",
    "then the solution is given by, \n",
    "\n",
    "$$\n",
    "\\begin{aligned}\n",
    "x_1^{\\ast} &= \\alpha \\frac{I}{p_1} \\\\\n",
    "x_2^{\\ast} &= (1-\\alpha) \\frac{I}{p_2}\n",
    "\\end{aligned}\n",
    "$$\n",
    "\n",
    "which implies that $\\alpha$ is the budget share of the first good and $1-\\alpha$ is the budget share of the second good. \n",
    "\n",
    "While this is not a difficult problem to solve by hand, it would be way more convenient to be able to do this on a computer. One of the main reasons is that if the utility function changes we don't need to do the whole process again, we simply need to alter the utility function in our code and we can calculate the new solution. "
   ]
  },
  {
   "cell_type": "markdown",
   "metadata": {},
   "source": [
    "## Utility function"
   ]
  },
  {
   "cell_type": "markdown",
   "metadata": {},
   "source": [
    "Let us write down the utility function in terms of code. Remember how to construct functions from the first lecture? If not, please consult the section on functions. "
   ]
  },
  {
   "cell_type": "code",
   "execution_count": null,
   "metadata": {},
   "outputs": [],
   "source": [
    "function u_func(x1, x2, α = 0.5)\n",
    "    return x1 .^ α .* x2 .^ (1 .- α)\n",
    "end;"
   ]
  },
  {
   "cell_type": "markdown",
   "metadata": {},
   "source": [
    "We can evaluate this utility function for different values of the inputs $x_1$ and $x_2$."
   ]
  },
  {
   "cell_type": "code",
   "execution_count": null,
   "metadata": {},
   "outputs": [],
   "source": [
    "x1 = 1\n",
    "x2 = 3\n",
    "\n",
    "u = u_func(x1, x2)\n",
    "\n",
    "println(\"x1 = $x1, x2 = $x2 -> u = $u\")"
   ]
  },
  {
   "cell_type": "markdown",
   "metadata": {},
   "source": [
    "We can also loop through multiple values for $x_1$ to see how the values for the utility function changes. This reflects the elasticity of utility with respect to $x_1$"
   ]
  },
  {
   "cell_type": "code",
   "execution_count": null,
   "metadata": {},
   "outputs": [],
   "source": [
    "x1_values = [2, 4, 6, 8, 10, 12, 14, 16]\n",
    "x2 = 3\n",
    "\n",
    "for x1 in x1_values\n",
    "    u = u_func(x1, x2)\n",
    "\n",
    "    println(\"x1 = $x1, x2 = $x2 -> u = $u\")\n",
    "end"
   ]
  },
  {
   "cell_type": "markdown",
   "metadata": {},
   "source": [
    "For a little nicer output we can use the `enumerate` command, "
   ]
  },
  {
   "cell_type": "code",
   "execution_count": null,
   "metadata": {},
   "outputs": [],
   "source": [
    "for (i, x1) in enumerate(x1_values)\n",
    "    u = u_func(x1, x2)\n",
    "\n",
    "    println(\"$i: x1 = $x1, x2 = $x2 -> u = $u\")\n",
    "end\n"
   ]
  },
  {
   "cell_type": "markdown",
   "metadata": {},
   "source": [
    "We can now see how utility changes with different values for $x_1$. In this case it seems that there is an increase in utility associated with an increase in $x_1$. \n",
    "\n",
    "In mathematical terms, it seems that the utility function is monotonically increasing with respect to changes in $x_1$. The way that we would determine the change in the utility function with respect to $x_1$ over the entire function is by using the tools of calculus. "
   ]
  },
  {
   "cell_type": "markdown",
   "metadata": {},
   "source": [
    "## Plotting the utility function"
   ]
  },
  {
   "cell_type": "markdown",
   "metadata": {},
   "source": [
    "The next thing we might want to do in our analysis is to plot the utility function. We want some idea of what the function looks like graphically. We could draw it by hand, but it is much easier to utilise the computer. "
   ]
  },
  {
   "cell_type": "markdown",
   "metadata": {},
   "source": [
    "The first thing we will do is to create a 2-dimensional grid with $N$ elements in each dimension. We are going to be plotting our utility function with respect to two inputs, so we need a 2-dimensional grid. "
   ]
  },
  {
   "cell_type": "code",
   "execution_count": null,
   "metadata": {},
   "outputs": [],
   "source": [
    "N = 1000 # number of elements\n",
    "x_max = 10 # maximum value\n",
    "\n",
    "# Initialise the arrays with zeros\n",
    "x1_values = zeros(N)\n",
    "x2_values = zeros(N)\n",
    "u_values = zeros(N, N);\n",
    "\n",
    "# fill the arrays with the appropriate values\n",
    "for i in 1:N\n",
    "    for j in 1:N\n",
    "        x1_values[i] = (i / N) * x_max \n",
    "        x2_values[j] = (j / N) * x_max\n",
    "        u_values[i, j] = u_func(x1_values[i], x2_values[j])\n",
    "    end\n",
    "end"
   ]
  },
  {
   "cell_type": "markdown",
   "metadata": {},
   "source": [
    "### Making sense of the loops\n",
    "\n",
    "**Note** In order to understand this loop you need to take things slowly the first time. Try and understand what is happening in each step. I have provided a detailed description below, but you still need to sit and think through it. \n",
    "\n",
    "Let us analyse the loop above and see what is happening at each step. First, this is a nested loop. As we stated in our previous session, this means that we will be running through the $i$ component first and then the corresponding $j$ component. \n",
    "\n",
    "To use an example, we start with $i = 1$, and then run the loop over all the $j$ values starting at $j = 1$ and ending at $j = N = 100$. \n",
    "\n",
    "This means that for $i = 1$, we start with $j = 1$. This gives a value for `x1_values[1] = (1 / N) * x_max`. \n",
    "\n",
    "This means that the first value in the `x1_values` vector will then be $(1 / 100) * 10 = 0.1$. The same is true for `x2_values`, the first entry in that vector will be $0.1$, by the same logic as applied before. \n",
    "\n",
    "Now we can enter these $x_1$ and $x_2$ values into the utility function. The shape of the utility function as initialised is a $N \\times N$ matrix of zeros. We are currently busy with $i = 1$ and $j = 1$. This means that in our code we are looking at `u_values[1, 1]` which is the value in the first column and first row of the matrix. \n",
    "\n",
    "To be clear, `u_values[1, 1]` takes on the value from the output of `u_func(0.1, 0.1)`. \n",
    "\n",
    "Next we keep the $i$ component fixed at $1$ and iterate over the next value in the $j$ sequence, which is $j = 2$. We repeat the steps as for the above description and end up with an entry for `u_values[1, 2]`. \n",
    "\n",
    "Keeping $i$ fixed, we iterate over all the values for $j$. That means for $j = 3$ to $j = 100$. After having completed this loop, we move on to a new value for $i$. \n",
    "\n",
    "Move on to $i = 2$ and repeat the entire process that we described above again. Looping over all the $j$ values, etc. After having done that move on to $i = 3$ and then continue the process we have described till you reach $i = 100$.\n",
    "\n",
    "At the end of all of this you will see that we have know completely filled the `u_values` matrix with all possible combinations of $x_1$ and $x_2$ values (smaller than $x_{max} = 10$) that can enter the utility function. "
   ]
  },
  {
   "cell_type": "markdown",
   "metadata": {},
   "source": [
    "### Plotting the function"
   ]
  },
  {
   "cell_type": "markdown",
   "metadata": {},
   "source": [
    "Below is the code to plot our function in three dimensions. I will provide a brief explanation on what the code is actually doing, but it should be somewhat easy to understand by just reading it. "
   ]
  },
  {
   "cell_type": "code",
   "execution_count": null,
   "metadata": {},
   "outputs": [],
   "source": [
    "plot_1 = plot(x1_values, x2_values, u_values, st = :surface, xlabel = \"x1\", ylabel = \"x2\", zlabel = \"utility\", camera = (30, 60), colour = :ice, alpha = 0.9, legend = false, x_flip = true);"
   ]
  },
  {
   "cell_type": "markdown",
   "metadata": {},
   "source": [
    "We have the graph for the utility function, now we need to think about finding a solution to our **constrained optimisation** problem. We want to achieve the highest level of utility, given the constraint that we are provided. "
   ]
  },
  {
   "cell_type": "markdown",
   "metadata": {},
   "source": [
    "### Doing things the easy way"
   ]
  },
  {
   "cell_type": "markdown",
   "metadata": {},
   "source": [
    "A much simpler way to construct our grids is to simply use the internal functions that Julia has for constructing grids. The reason for the previous exercise was to get you more comfortable thinking through loops and conditional statements \n",
    "\n",
    "We can create equally spaced grids for $x_1$ and $x_2$ in several ways. The easiest is the following, "
   ]
  },
  {
   "cell_type": "code",
   "execution_count": null,
   "metadata": {},
   "outputs": [],
   "source": [
    "x1_values_easy = collect(0:0.01:10); # 1001 element vector\n",
    "x2_values_easy = collect(0:0.01:10);"
   ]
  },
  {
   "cell_type": "markdown",
   "metadata": {},
   "source": [
    "An alternative would be to use the `LinRange` function in Julia. "
   ]
  },
  {
   "cell_type": "code",
   "execution_count": null,
   "metadata": {},
   "outputs": [],
   "source": [
    "x1_values_lr = LinRange(0, 10, 1000); # 1000 element vector"
   ]
  },
  {
   "cell_type": "markdown",
   "metadata": {},
   "source": [
    "Using these values we can plot the utility function as before, but this time we will use a different approach, which doesn't require us to write out a whole loop for the utility function as before, "
   ]
  },
  {
   "cell_type": "code",
   "execution_count": 1,
   "metadata": {},
   "outputs": [
    {
     "ename": "LoadError",
     "evalue": "UndefVarError: plot not defined",
     "output_type": "error",
     "traceback": [
      "UndefVarError: plot not defined",
      "",
      "Stacktrace:",
      " [1] top-level scope",
      "   @ In[1]:1",
      " [2] eval",
      "   @ ./boot.jl:373 [inlined]",
      " [3] include_string(mapexpr::typeof(REPL.softscope), mod::Module, code::String, filename::String)",
      "   @ Base ./loading.jl:1196"
     ]
    }
   ],
   "source": [
    "plot_2 = plot(x1_values_easy, x2_values_easy, (x1_values_easy, x2_values_easy) -> u_func(x1_values_easy, x2_values_easy), st = :surface, xlabel = \"x1\", ylabel = \"x2\", zlabel = \"utility\", camera = (30, 60), colour = :ice, legend = false)"
   ]
  },
  {
   "cell_type": "markdown",
   "metadata": {},
   "source": [
    "# Optimisation (finding a solution)"
   ]
  },
  {
   "cell_type": "markdown",
   "metadata": {},
   "source": [
    "In this next section we talk about three ways (algorithms) for finding a solution to our original optimisation problem. Once again, remember that the problem that we want to solve is the following, \n",
    "\n",
    "$$\n",
    "\\begin{aligned}\n",
    "V(p_{1},p_{2},I) & = \\max_{x_{1},x_{2}}u(x_{1},x_{2})\\\\\n",
    " & \\text{s.t.}\\\\\n",
    "p_{1}x_{1}+p_{2}x_{2} & \\leq I,\\,\\,\\,p_{1},p_{2},I>0\\\\\n",
    "x_{1},x_{2} & \\geq 0\n",
    "\\end{aligned}\n",
    "$$"
   ]
  },
  {
   "cell_type": "markdown",
   "metadata": {},
   "source": [
    "For our first algorithm, we are basically going to loop through a grid of all the $N_{1} \\times N_{2}$ solutions and then pick the best option. This has the advantage of being easy to understand. However, it requires evaluations many points and could be computationally very costly if the number of points that we need to evaluate are high. This type of method is referred to as a **grid search** method. It solves the problem with brute force. "
   ]
  },
  {
   "cell_type": "markdown",
   "metadata": {},
   "source": [
    "## Algorithm 1: Grid search"
   ]
  },
  {
   "cell_type": "markdown",
   "metadata": {},
   "source": [
    "The general idea is that we will be solving the following problem. \n",
    "\n",
    "$$\n",
    "\\begin{aligned}\n",
    "V(p_{1},p_{2},I) & = \\max_{x_{1}\\in X_1,x_{2} \\in X_2} x_1^{\\alpha}x_2^{1-\\alpha}\\\\\n",
    " & \\text{s.t.}\\\\\n",
    " x_1 & = \\left\\{0,\\frac{1}{N_1-1}\\frac{I}{p_1},\\frac{2}{N_1-1}\\frac{I}{p_1},\\dots,\\frac{I}{p_1}\\right\\} \\\\\n",
    " x_2 & = \\left\\{0,\\frac{1}{N_2-1}\\frac{I}{p_2},\\frac{2}{N_2-1}\\frac{ I}{p_2},\\dots,\\frac{ I}{p_2}\\right\\} \\\\\n",
    "p_{1}x_{1}+p_{2}x_{2} & \\leq I\\\\\n",
    "\\end{aligned}\n",
    "$$"
   ]
  },
  {
   "cell_type": "markdown",
   "metadata": {},
   "source": [
    "We are creating input grids, where the values of $x_1$ and $x_2$ are discretised. \n",
    "\n",
    "We discuss an example using $x_1$, but the same can be repeated for $x_2$. \n",
    "\n",
    "If we look at the definition of the set of values that $x_1$ can take here you will see that is always non-negative ($\\geq 0$). In fact, our set starts at zero, so we take that potential value into account. \n",
    "\n",
    "On the other extreme with respect to the grid, we have $x_1 = I/p_1$. If you think about this carefully, $x_1$ can only take on the value of $I/p_1$ if $x_2 = 0$. This can be seen from the budget constraint $p_{1}x_{1}+p_{2}x_{2} \\leq I$.\n",
    "\n",
    "Our endpoints for the grid have now been defined as $0$ and $I/p_1$. The grid in our case is equally spaced, which means that the second point in the grid is equally far away from the first and third point. The fact that any point is equally far from adjacent points, is true for any singular point on the grid (except for the two endpoints). There is a symmetry in the spacing between points. \n",
    "\n",
    "The next question is, how can we create this grid mathematically so that we have this equal spacing. If there are $N_1 = 5$ grid points, then we know that the endpoints make up two of the points. So these are accounted for. Now we need to think about the other $3$ points. I call these points $x_1^2,x_1^3,x_1^4$ for now (where the superscript indicates position). \n",
    "\n",
    "$$\n",
    "x_1 = \\left\\{0,x_1^2,x_1^3,x_1^4, \\frac{I}{p_1}\\right\\}\n",
    "$$\n",
    "\n",
    "One way to think about the construction of the grid is to make a further simplification. Let us assume that we know what the end value $I/p_1$ will be. In this case we assume it is $1$ in order to make calculations a bit easier. Then we are left with the following grid, \n",
    "\n",
    "$$\n",
    "x_1 = \\left\\{0,x_1^2,x_1^3,x_1^4, 1 \\right\\}\n",
    "$$\n",
    "\n",
    "Given that the endpoint is $1$, we know that the distances between the different values of the grid need to sum to the difference between the endpoints ($1 - 0 = 1$). For equal distances between $5$ points, where the distances must sum to one, we need the distance between each point to be $1/N_1 - 1 = 1 / 4$. If you look carefully, you will see that there are four positions in between grid points, and so we need each of these to be of length $1/4$, so that these $4$ intervals can sum to $1$.\n",
    "\n",
    "This means that we can write the values of the grid points explicitly as, \n",
    "\n",
    "$$\n",
    "x_1 = \\left\\{0,\\frac{1}{4},\\frac{2}{4},\\frac{3}{4}, 1 \\right\\}\n",
    "$$\n",
    "\n",
    "Now if we have an endpoint that is equal to $I/p_1$ then we need to multiply each of the grid points with this scaling factor, so that everything sums up to that endpoint value. In other words, we will then have, \n",
    "\n",
    "$$\n",
    "x_1 = \\left\\{0,\\frac{1}{4}\\frac{I}{p_1},\\frac{2}{4}\\frac{I}{p_1},\\frac{3}{4}\\frac{I}{p_1}, \\frac{I}{p_1} \\right\\}\n",
    "$$\n",
    "\n",
    "As a numerical example, assume that $p_1 = 25$ and $I = 10$, then we would evaluate $x_1$ at the following values in the grid, \n",
    "\n",
    "\n",
    "$$\n",
    "x_1 = \\left\\{0,\\frac{1}{4}\\frac{10}{25},\\frac{2}{4}\\frac{10}{25},\\frac{3}{4}\\frac{10}{25}, \\frac{10}{25} \\right\\}\n",
    "$$\n",
    "\n",
    "If we simplify this a bit further we get, \n",
    "\n",
    "$$\n",
    "x_1 = \\left\\{0,\\frac{1}{10},\\frac{2}{10},\\frac{3}{10}, \\frac{4}{10} \\right\\}\n",
    "$$\n",
    "\n",
    "For this specific example, we can then evaluate the $x_1$ along the values in this set. If we wanted we could increase the number of $N_1$ so as to evaluate along more points. This would probably give us a more accurate answer, but it comes at a computational cost. Each of these input values need to be inserted into the utility function and evaluated. The more values you have the longer it is going to take to evaluate. \n",
    "\n",
    "This is one of the big tradeoffs in computing. **Speed vs accuracy**. "
   ]
  },
  {
   "cell_type": "markdown",
   "metadata": {},
   "source": [
    "Now let us start coding the up! You should be excited, we are going to be solving our first economic model using programming instead of tedious calculations by hand!"
   ]
  },
  {
   "cell_type": "markdown",
   "metadata": {},
   "source": [
    "### Grid search code"
   ]
  },
  {
   "cell_type": "markdown",
   "metadata": {},
   "source": [
    "We will be wrapping our code block in a function. This is generally good practice. We want to operate by writing functions whenever possible. "
   ]
  },
  {
   "cell_type": "code",
   "execution_count": null,
   "metadata": {},
   "outputs": [],
   "source": [
    "function find_best_choice(; α, I, p1, p2, N1, N2)\n",
    "\n",
    "    # Initialise the arrays\n",
    "    x1_values = zeros(N1)\n",
    "    x2_values = zeros(N2)\n",
    "    u_values = zeros(N1, N2)\n",
    "\n",
    "    # Choose a value to start with, x1 = x2 = 0\n",
    "    x1_best = 0\n",
    "    x2_best = 0 \n",
    "    u_best = u_func(0, 0, α) # remember that u_func is a function that has already been defined. \n",
    "\n",
    "    # Loop through all the possibilities (all grid points)\n",
    "    for i in 1:N1\n",
    "        for j in 1:N2\n",
    "\n",
    "            # Assign values for x1 and x2\n",
    "            x1_values[i] = x1 = (i / (N1 - 1)) * I/p1 # Refer to the explanation above as to how this grid is constructed\n",
    "            x2_values[j] = x2 = (j / (N2 - 1)) * I/p2\n",
    "\n",
    "            # Assign values for the utility corresponding to input values\n",
    "            if p1 * x1 + p2 * x2 ≤ I # If expenditure ≤ income then u(x1, x2)\n",
    "                u_values[i, j] = u_func(x1, x2, α)\n",
    "            else # if expenditure > income then u(0, 0)\n",
    "                u_values[i, j] = u_func(0, 0, α)\n",
    "            end\n",
    "\n",
    "            # Check the best solution so far (NB part)\n",
    "            if u_values[i, j] > u_best\n",
    "                x1_best = x1_values[i]\n",
    "                x2_best = x2_values[j]\n",
    "                u_best = u_values[i, j]\n",
    "            end\n",
    "        end\n",
    "    end\n",
    "\n",
    "    return x1_best, x2_best, u_best, x1_values, x2_values, u_values\n",
    "\n",
    "end"
   ]
  },
  {
   "cell_type": "code",
   "execution_count": null,
   "metadata": {},
   "outputs": [],
   "source": [
    "sol = find_best_choice(α = 0.25, I = 10, p1 = 1,  p2 = 2, N1 = 500, N2 = 500);"
   ]
  },
  {
   "cell_type": "code",
   "execution_count": null,
   "metadata": {},
   "outputs": [],
   "source": [
    "x1_best, x2_best, u_best, x1_values, x2_values, u_values = sol;"
   ]
  },
  {
   "cell_type": "code",
   "execution_count": null,
   "metadata": {},
   "outputs": [],
   "source": [
    "println(\"Optimal x1 is $x1_best, x2 is $x2_best and u is $u_best \")"
   ]
  },
  {
   "cell_type": "markdown",
   "metadata": {},
   "source": [
    "### Budget and preferences"
   ]
  },
  {
   "cell_type": "markdown",
   "metadata": {},
   "source": [
    "We now have a solution to our constrained optimisation problem. We have already plotted the utility function, so let us now plot the utility function with our budget constraint and the optimal point. Remember, the budget constraint is given by, \n",
    "\n",
    "$$\n",
    "p_{1}x_{1}+p_{2}x_{2} \\leq I,\\,\\,\\,p_{1},p_{2},I>0,\\,\\, x_{1},x_{2}  \\geq 0\n",
    "$$"
   ]
  },
  {
   "cell_type": "markdown",
   "metadata": {},
   "source": [
    "We can combine the budget and utility together in a contour plot. For this problem we are going to assume that $p1 = 1$, $p2 = 2$ and that $I = 10$."
   ]
  },
  {
   "cell_type": "code",
   "execution_count": 4,
   "metadata": {},
   "outputs": [],
   "source": [
    "p1 = 1;\n",
    "p2 = 2;\n",
    "I = 10;"
   ]
  },
  {
   "cell_type": "code",
   "execution_count": 5,
   "metadata": {},
   "outputs": [
    {
     "ename": "LoadError",
     "evalue": "UndefVarError: plot not defined",
     "output_type": "error",
     "traceback": [
      "UndefVarError: plot not defined",
      "",
      "Stacktrace:",
      " [1] top-level scope",
      "   @ In[5]:6",
      " [2] eval",
      "   @ ./boot.jl:373 [inlined]",
      " [3] include_string(mapexpr::typeof(REPL.softscope), mod::Module, code::String, filename::String)",
      "   @ Base ./loading.jl:1196"
     ]
    }
   ],
   "source": [
    "x = 0:0.01:10\n",
    "\n",
    "b = collect(0:0.5:10);\n",
    "c(z) = 10 - 2 .* z;\n",
    "\n",
    "plot_3 = plot(x, x, (x, y) -> u_func(x, y), st = :contour, colour = :ice, levels = b, legend = false);\n",
    "\n",
    "plot!(plot_3, c, 0.01, 10, ylims = (0,10), lw = 1.5, color = :black, fill=(0,0.5,:blue))\n",
    "scatter!(plot_3, [3.75], [2.5], markersize = 5, markercolor = :red) # This includes the solution, but we haven't calculated this answer yet. \n"
   ]
  },
  {
   "cell_type": "markdown",
   "metadata": {},
   "source": [
    "## Algorithm 2: Using a Solver (Optim)"
   ]
  },
  {
   "cell_type": "markdown",
   "metadata": {},
   "source": [
    "The best option is to try and use code that someone else has written. \n",
    "\n",
    "Sometimes it is useful to write your own routines if no other option is available. However, if you can make use of a package from a professional software developer that is the first prize. \n",
    "\n",
    "Do not try and reinvent the wheel. Some of you might end of being software engineers, and then you can spend countless hours trying to write performant code. However, most of you are going to use code for a specific goal.\n",
    "\n",
    "My ideal world is one where everyone knows something about software engineering and we students are aware of best programming practices. However, I am aware not everyone is interested in these topics. \n",
    "\n",
    "In this section we will be making use of `Optim.jl`. This package does not allow constrained optimisation, so we are going to have to be a bit creative with respect to the construction of constraints for the problem. \n",
    "\n",
    "We will be working with a package that deals directly with constrained optimisation for problems with nonlinear objective functions in the next section, but it is worthwhile seeing what `Optim.jl` can do in the meantime. \n",
    "\n"
   ]
  },
  {
   "cell_type": "markdown",
   "metadata": {},
   "source": [
    "### Optimisation with one choice variable"
   ]
  },
  {
   "cell_type": "markdown",
   "metadata": {},
   "source": [
    "To use this package, let us first start with an easy unconstrained optimisation problem with one choice variable. "
   ]
  },
  {
   "cell_type": "code",
   "execution_count": 31,
   "metadata": {},
   "outputs": [
    {
     "data": {
      "text/plain": [
       "fn_opt (generic function with 1 method)"
      ]
     },
     "execution_count": 31,
     "metadata": {},
     "output_type": "execute_result"
    }
   ],
   "source": [
    "fn_opt(x) = 2 * (x - 5)^2 - 20"
   ]
  },
  {
   "cell_type": "code",
   "execution_count": 18,
   "metadata": {},
   "outputs": [
    {
     "data": {
      "image/svg+xml": "<?xml version=\"1.0\" encoding=\"utf-8\"?>\n<svg xmlns=\"http://www.w3.org/2000/svg\" xmlns:xlink=\"http://www.w3.org/1999/xlink\" width=\"600\" height=\"400\" viewBox=\"0 0 2400 1600\">\n<defs>\n  <clipPath id=\"clip520\">\n    <rect x=\"0\" y=\"0\" width=\"2400\" height=\"1600\"/>\n  </clipPath>\n</defs>\n<path clip-path=\"url(#clip520)\" d=\"\nM0 1600 L2400 1600 L2400 0 L0 0  Z\n  \" fill=\"#ffffff\" fill-rule=\"evenodd\" fill-opacity=\"1\"/>\n<defs>\n  <clipPath id=\"clip521\">\n    <rect x=\"480\" y=\"0\" width=\"1681\" height=\"1600\"/>\n  </clipPath>\n</defs>\n<path clip-path=\"url(#clip520)\" d=\"\nM178.867 1486.45 L2352.76 1486.45 L2352.76 47.2441 L178.867 47.2441  Z\n  \" fill=\"#ffffff\" fill-rule=\"evenodd\" fill-opacity=\"1\"/>\n<defs>\n  <clipPath id=\"clip522\">\n    <rect x=\"178\" y=\"47\" width=\"2175\" height=\"1440\"/>\n  </clipPath>\n</defs>\n<polyline clip-path=\"url(#clip522)\" style=\"stroke:#000000; stroke-linecap:butt; stroke-linejoin:round; stroke-width:2; stroke-opacity:0.1; fill:none\" points=\"\n  426.832,1486.45 426.832,47.2441 \n  \"/>\n<polyline clip-path=\"url(#clip522)\" style=\"stroke:#000000; stroke-linecap:butt; stroke-linejoin:round; stroke-width:2; stroke-opacity:0.1; fill:none\" points=\"\n  892.931,1486.45 892.931,47.2441 \n  \"/>\n<polyline clip-path=\"url(#clip522)\" style=\"stroke:#000000; stroke-linecap:butt; stroke-linejoin:round; stroke-width:2; stroke-opacity:0.1; fill:none\" points=\"\n  1359.03,1486.45 1359.03,47.2441 \n  \"/>\n<polyline clip-path=\"url(#clip522)\" style=\"stroke:#000000; stroke-linecap:butt; stroke-linejoin:round; stroke-width:2; stroke-opacity:0.1; fill:none\" points=\"\n  1825.13,1486.45 1825.13,47.2441 \n  \"/>\n<polyline clip-path=\"url(#clip522)\" style=\"stroke:#000000; stroke-linecap:butt; stroke-linejoin:round; stroke-width:2; stroke-opacity:0.1; fill:none\" points=\"\n  2291.23,1486.45 2291.23,47.2441 \n  \"/>\n<polyline clip-path=\"url(#clip520)\" style=\"stroke:#000000; stroke-linecap:butt; stroke-linejoin:round; stroke-width:4; stroke-opacity:1; fill:none\" points=\"\n  178.867,1486.45 2352.76,1486.45 \n  \"/>\n<polyline clip-path=\"url(#clip520)\" style=\"stroke:#000000; stroke-linecap:butt; stroke-linejoin:round; stroke-width:4; stroke-opacity:1; fill:none\" points=\"\n  426.832,1486.45 426.832,1467.55 \n  \"/>\n<polyline clip-path=\"url(#clip520)\" style=\"stroke:#000000; stroke-linecap:butt; stroke-linejoin:round; stroke-width:4; stroke-opacity:1; fill:none\" points=\"\n  892.931,1486.45 892.931,1467.55 \n  \"/>\n<polyline clip-path=\"url(#clip520)\" style=\"stroke:#000000; stroke-linecap:butt; stroke-linejoin:round; stroke-width:4; stroke-opacity:1; fill:none\" points=\"\n  1359.03,1486.45 1359.03,1467.55 \n  \"/>\n<polyline clip-path=\"url(#clip520)\" style=\"stroke:#000000; stroke-linecap:butt; stroke-linejoin:round; stroke-width:4; stroke-opacity:1; fill:none\" points=\"\n  1825.13,1486.45 1825.13,1467.55 \n  \"/>\n<polyline clip-path=\"url(#clip520)\" style=\"stroke:#000000; stroke-linecap:butt; stroke-linejoin:round; stroke-width:4; stroke-opacity:1; fill:none\" points=\"\n  2291.23,1486.45 2291.23,1467.55 \n  \"/>\n<path clip-path=\"url(#clip520)\" d=\"M404.216 1517.37 Q400.605 1517.37 398.776 1520.93 Q396.971 1524.47 396.971 1531.6 Q396.971 1538.71 398.776 1542.27 Q400.605 1545.82 404.216 1545.82 Q407.85 1545.82 409.656 1542.27 Q411.485 1538.71 411.485 1531.6 Q411.485 1524.47 409.656 1520.93 Q407.85 1517.37 404.216 1517.37 M404.216 1513.66 Q410.026 1513.66 413.082 1518.27 Q416.16 1522.85 416.16 1531.6 Q416.16 1540.33 413.082 1544.94 Q410.026 1549.52 404.216 1549.52 Q398.406 1549.52 395.327 1544.94 Q392.272 1540.33 392.272 1531.6 Q392.272 1522.85 395.327 1518.27 Q398.406 1513.66 404.216 1513.66 Z\" fill=\"#000000\" fill-rule=\"evenodd\" fill-opacity=\"1\" /><path clip-path=\"url(#clip520)\" d=\"M424.378 1542.97 L429.262 1542.97 L429.262 1548.85 L424.378 1548.85 L424.378 1542.97 Z\" fill=\"#000000\" fill-rule=\"evenodd\" fill-opacity=\"1\" /><path clip-path=\"url(#clip520)\" d=\"M449.447 1517.37 Q445.836 1517.37 444.008 1520.93 Q442.202 1524.47 442.202 1531.6 Q442.202 1538.71 444.008 1542.27 Q445.836 1545.82 449.447 1545.82 Q453.082 1545.82 454.887 1542.27 Q456.716 1538.71 456.716 1531.6 Q456.716 1524.47 454.887 1520.93 Q453.082 1517.37 449.447 1517.37 M449.447 1513.66 Q455.257 1513.66 458.313 1518.27 Q461.392 1522.85 461.392 1531.6 Q461.392 1540.33 458.313 1544.94 Q455.257 1549.52 449.447 1549.52 Q443.637 1549.52 440.558 1544.94 Q437.503 1540.33 437.503 1531.6 Q437.503 1522.85 440.558 1518.27 Q443.637 1513.66 449.447 1513.66 Z\" fill=\"#000000\" fill-rule=\"evenodd\" fill-opacity=\"1\" /><path clip-path=\"url(#clip520)\" d=\"M864.668 1544.91 L880.987 1544.91 L880.987 1548.85 L859.043 1548.85 L859.043 1544.91 Q861.705 1542.16 866.288 1537.53 Q870.895 1532.88 872.075 1531.53 Q874.32 1529.01 875.2 1527.27 Q876.103 1525.51 876.103 1523.82 Q876.103 1521.07 874.158 1519.33 Q872.237 1517.6 869.135 1517.6 Q866.936 1517.6 864.483 1518.36 Q862.052 1519.13 859.274 1520.68 L859.274 1515.95 Q862.098 1514.82 864.552 1514.24 Q867.006 1513.66 869.043 1513.66 Q874.413 1513.66 877.607 1516.35 Q880.802 1519.03 880.802 1523.52 Q880.802 1525.65 879.992 1527.57 Q879.205 1529.47 877.098 1532.07 Q876.52 1532.74 873.418 1535.95 Q870.316 1539.15 864.668 1544.91 Z\" fill=\"#000000\" fill-rule=\"evenodd\" fill-opacity=\"1\" /><path clip-path=\"url(#clip520)\" d=\"M890.802 1542.97 L895.686 1542.97 L895.686 1548.85 L890.802 1548.85 L890.802 1542.97 Z\" fill=\"#000000\" fill-rule=\"evenodd\" fill-opacity=\"1\" /><path clip-path=\"url(#clip520)\" d=\"M905.918 1514.29 L924.274 1514.29 L924.274 1518.22 L910.2 1518.22 L910.2 1526.7 Q911.218 1526.35 912.237 1526.19 Q913.255 1526 914.274 1526 Q920.061 1526 923.441 1529.17 Q926.82 1532.34 926.82 1537.76 Q926.82 1543.34 923.348 1546.44 Q919.876 1549.52 913.556 1549.52 Q911.38 1549.52 909.112 1549.15 Q906.867 1548.78 904.459 1548.04 L904.459 1543.34 Q906.543 1544.47 908.765 1545.03 Q910.987 1545.58 913.464 1545.58 Q917.468 1545.58 919.806 1543.48 Q922.144 1541.37 922.144 1537.76 Q922.144 1534.15 919.806 1532.04 Q917.468 1529.94 913.464 1529.94 Q911.589 1529.94 909.714 1530.35 Q907.862 1530.77 905.918 1531.65 L905.918 1514.29 Z\" fill=\"#000000\" fill-rule=\"evenodd\" fill-opacity=\"1\" /><path clip-path=\"url(#clip520)\" d=\"M1326.2 1514.29 L1344.55 1514.29 L1344.55 1518.22 L1330.48 1518.22 L1330.48 1526.7 Q1331.5 1526.35 1332.52 1526.19 Q1333.53 1526 1334.55 1526 Q1340.34 1526 1343.72 1529.17 Q1347.1 1532.34 1347.1 1537.76 Q1347.1 1543.34 1343.63 1546.44 Q1340.15 1549.52 1333.83 1549.52 Q1331.66 1549.52 1329.39 1549.15 Q1327.14 1548.78 1324.74 1548.04 L1324.74 1543.34 Q1326.82 1544.47 1329.04 1545.03 Q1331.27 1545.58 1333.74 1545.58 Q1337.75 1545.58 1340.08 1543.48 Q1342.42 1541.37 1342.42 1537.76 Q1342.42 1534.15 1340.08 1532.04 Q1337.75 1529.94 1333.74 1529.94 Q1331.87 1529.94 1329.99 1530.35 Q1328.14 1530.77 1326.2 1531.65 L1326.2 1514.29 Z\" fill=\"#000000\" fill-rule=\"evenodd\" fill-opacity=\"1\" /><path clip-path=\"url(#clip520)\" d=\"M1356.31 1542.97 L1361.2 1542.97 L1361.2 1548.85 L1356.31 1548.85 L1356.31 1542.97 Z\" fill=\"#000000\" fill-rule=\"evenodd\" fill-opacity=\"1\" /><path clip-path=\"url(#clip520)\" d=\"M1381.38 1517.37 Q1377.77 1517.37 1375.94 1520.93 Q1374.14 1524.47 1374.14 1531.6 Q1374.14 1538.71 1375.94 1542.27 Q1377.77 1545.82 1381.38 1545.82 Q1385.01 1545.82 1386.82 1542.27 Q1388.65 1538.71 1388.65 1531.6 Q1388.65 1524.47 1386.82 1520.93 Q1385.01 1517.37 1381.38 1517.37 M1381.38 1513.66 Q1387.19 1513.66 1390.25 1518.27 Q1393.33 1522.85 1393.33 1531.6 Q1393.33 1540.33 1390.25 1544.94 Q1387.19 1549.52 1381.38 1549.52 Q1375.57 1549.52 1372.49 1544.94 Q1369.44 1540.33 1369.44 1531.6 Q1369.44 1522.85 1372.49 1518.27 Q1375.57 1513.66 1381.38 1513.66 Z\" fill=\"#000000\" fill-rule=\"evenodd\" fill-opacity=\"1\" /><path clip-path=\"url(#clip520)\" d=\"M1791.45 1514.29 L1813.67 1514.29 L1813.67 1516.28 L1801.13 1548.85 L1796.24 1548.85 L1808.05 1518.22 L1791.45 1518.22 L1791.45 1514.29 Z\" fill=\"#000000\" fill-rule=\"evenodd\" fill-opacity=\"1\" /><path clip-path=\"url(#clip520)\" d=\"M1822.79 1542.97 L1827.68 1542.97 L1827.68 1548.85 L1822.79 1548.85 L1822.79 1542.97 Z\" fill=\"#000000\" fill-rule=\"evenodd\" fill-opacity=\"1\" /><path clip-path=\"url(#clip520)\" d=\"M1837.91 1514.29 L1856.27 1514.29 L1856.27 1518.22 L1842.19 1518.22 L1842.19 1526.7 Q1843.21 1526.35 1844.23 1526.19 Q1845.25 1526 1846.27 1526 Q1852.05 1526 1855.43 1529.17 Q1858.81 1532.34 1858.81 1537.76 Q1858.81 1543.34 1855.34 1546.44 Q1851.87 1549.52 1845.55 1549.52 Q1843.37 1549.52 1841.1 1549.15 Q1838.86 1548.78 1836.45 1548.04 L1836.45 1543.34 Q1838.53 1544.47 1840.76 1545.03 Q1842.98 1545.58 1845.45 1545.58 Q1849.46 1545.58 1851.8 1543.48 Q1854.14 1541.37 1854.14 1537.76 Q1854.14 1534.15 1851.8 1532.04 Q1849.46 1529.94 1845.45 1529.94 Q1843.58 1529.94 1841.7 1530.35 Q1839.85 1530.77 1837.91 1531.65 L1837.91 1514.29 Z\" fill=\"#000000\" fill-rule=\"evenodd\" fill-opacity=\"1\" /><path clip-path=\"url(#clip520)\" d=\"M2243.3 1544.91 L2250.94 1544.91 L2250.94 1518.55 L2242.63 1520.21 L2242.63 1515.95 L2250.9 1514.29 L2255.57 1514.29 L2255.57 1544.91 L2263.21 1544.91 L2263.21 1548.85 L2243.3 1548.85 L2243.3 1544.91 Z\" fill=\"#000000\" fill-rule=\"evenodd\" fill-opacity=\"1\" /><path clip-path=\"url(#clip520)\" d=\"M2282.65 1517.37 Q2279.04 1517.37 2277.21 1520.93 Q2275.41 1524.47 2275.41 1531.6 Q2275.41 1538.71 2277.21 1542.27 Q2279.04 1545.82 2282.65 1545.82 Q2286.29 1545.82 2288.09 1542.27 Q2289.92 1538.71 2289.92 1531.6 Q2289.92 1524.47 2288.09 1520.93 Q2286.29 1517.37 2282.65 1517.37 M2282.65 1513.66 Q2288.46 1513.66 2291.52 1518.27 Q2294.6 1522.85 2294.6 1531.6 Q2294.6 1540.33 2291.52 1544.94 Q2288.46 1549.52 2282.65 1549.52 Q2276.84 1549.52 2273.77 1544.94 Q2270.71 1540.33 2270.71 1531.6 Q2270.71 1522.85 2273.77 1518.27 Q2276.84 1513.66 2282.65 1513.66 Z\" fill=\"#000000\" fill-rule=\"evenodd\" fill-opacity=\"1\" /><path clip-path=\"url(#clip520)\" d=\"M2302.82 1542.97 L2307.7 1542.97 L2307.7 1548.85 L2302.82 1548.85 L2302.82 1542.97 Z\" fill=\"#000000\" fill-rule=\"evenodd\" fill-opacity=\"1\" /><path clip-path=\"url(#clip520)\" d=\"M2327.89 1517.37 Q2324.27 1517.37 2322.45 1520.93 Q2320.64 1524.47 2320.64 1531.6 Q2320.64 1538.71 2322.45 1542.27 Q2324.27 1545.82 2327.89 1545.82 Q2331.52 1545.82 2333.33 1542.27 Q2335.15 1538.71 2335.15 1531.6 Q2335.15 1524.47 2333.33 1520.93 Q2331.52 1517.37 2327.89 1517.37 M2327.89 1513.66 Q2333.7 1513.66 2336.75 1518.27 Q2339.83 1522.85 2339.83 1531.6 Q2339.83 1540.33 2336.75 1544.94 Q2333.7 1549.52 2327.89 1549.52 Q2322.08 1549.52 2319 1544.94 Q2315.94 1540.33 2315.94 1531.6 Q2315.94 1522.85 2319 1518.27 Q2322.08 1513.66 2327.89 1513.66 Z\" fill=\"#000000\" fill-rule=\"evenodd\" fill-opacity=\"1\" /><polyline clip-path=\"url(#clip522)\" style=\"stroke:#000000; stroke-linecap:butt; stroke-linejoin:round; stroke-width:2; stroke-opacity:0.1; fill:none\" points=\"\n  178.867,1445.72 2352.76,1445.72 \n  \"/>\n<polyline clip-path=\"url(#clip522)\" style=\"stroke:#000000; stroke-linecap:butt; stroke-linejoin:round; stroke-width:2; stroke-opacity:0.1; fill:none\" points=\"\n  178.867,1068.57 2352.76,1068.57 \n  \"/>\n<polyline clip-path=\"url(#clip522)\" style=\"stroke:#000000; stroke-linecap:butt; stroke-linejoin:round; stroke-width:2; stroke-opacity:0.1; fill:none\" points=\"\n  178.867,691.416 2352.76,691.416 \n  \"/>\n<polyline clip-path=\"url(#clip522)\" style=\"stroke:#000000; stroke-linecap:butt; stroke-linejoin:round; stroke-width:2; stroke-opacity:0.1; fill:none\" points=\"\n  178.867,314.266 2352.76,314.266 \n  \"/>\n<polyline clip-path=\"url(#clip520)\" style=\"stroke:#000000; stroke-linecap:butt; stroke-linejoin:round; stroke-width:4; stroke-opacity:1; fill:none\" points=\"\n  178.867,1486.45 178.867,47.2441 \n  \"/>\n<polyline clip-path=\"url(#clip520)\" style=\"stroke:#000000; stroke-linecap:butt; stroke-linejoin:round; stroke-width:4; stroke-opacity:1; fill:none\" points=\"\n  178.867,1445.72 197.764,1445.72 \n  \"/>\n<polyline clip-path=\"url(#clip520)\" style=\"stroke:#000000; stroke-linecap:butt; stroke-linejoin:round; stroke-width:4; stroke-opacity:1; fill:none\" points=\"\n  178.867,1068.57 197.764,1068.57 \n  \"/>\n<polyline clip-path=\"url(#clip520)\" style=\"stroke:#000000; stroke-linecap:butt; stroke-linejoin:round; stroke-width:4; stroke-opacity:1; fill:none\" points=\"\n  178.867,691.416 197.764,691.416 \n  \"/>\n<polyline clip-path=\"url(#clip520)\" style=\"stroke:#000000; stroke-linecap:butt; stroke-linejoin:round; stroke-width:4; stroke-opacity:1; fill:none\" points=\"\n  178.867,314.266 197.764,314.266 \n  \"/>\n<path clip-path=\"url(#clip520)\" d=\"M50.9921 1446.17 L80.6679 1446.17 L80.6679 1450.1 L50.9921 1450.1 L50.9921 1446.17 Z\" fill=\"#000000\" fill-rule=\"evenodd\" fill-opacity=\"1\" /><path clip-path=\"url(#clip520)\" d=\"M94.7882 1459.06 L111.108 1459.06 L111.108 1463 L89.1632 1463 L89.1632 1459.06 Q91.8252 1456.31 96.4085 1451.68 Q101.015 1447.02 102.196 1445.68 Q104.441 1443.16 105.321 1441.42 Q106.223 1439.66 106.223 1437.97 Q106.223 1435.22 104.279 1433.48 Q102.358 1431.75 99.2558 1431.75 Q97.0567 1431.75 94.603 1432.51 Q92.1725 1433.27 89.3947 1434.82 L89.3947 1430.1 Q92.2188 1428.97 94.6724 1428.39 Q97.1261 1427.81 99.1632 1427.81 Q104.534 1427.81 107.728 1430.5 Q110.922 1433.18 110.922 1437.67 Q110.922 1439.8 110.112 1441.72 Q109.325 1443.62 107.219 1446.21 Q106.64 1446.88 103.538 1450.1 Q100.436 1453.3 94.7882 1459.06 Z\" fill=\"#000000\" fill-rule=\"evenodd\" fill-opacity=\"1\" /><path clip-path=\"url(#clip520)\" d=\"M130.922 1431.51 Q127.311 1431.51 125.482 1435.08 Q123.677 1438.62 123.677 1445.75 Q123.677 1452.86 125.482 1456.42 Q127.311 1459.96 130.922 1459.96 Q134.556 1459.96 136.362 1456.42 Q138.191 1452.86 138.191 1445.75 Q138.191 1438.62 136.362 1435.08 Q134.556 1431.51 130.922 1431.51 M130.922 1427.81 Q136.732 1427.81 139.788 1432.42 Q142.867 1437 142.867 1445.75 Q142.867 1454.48 139.788 1459.08 Q136.732 1463.67 130.922 1463.67 Q125.112 1463.67 122.033 1459.08 Q118.978 1454.48 118.978 1445.75 Q118.978 1437 122.033 1432.42 Q125.112 1427.81 130.922 1427.81 Z\" fill=\"#000000\" fill-rule=\"evenodd\" fill-opacity=\"1\" /><path clip-path=\"url(#clip520)\" d=\"M130.922 1054.36 Q127.311 1054.36 125.482 1057.93 Q123.677 1061.47 123.677 1068.6 Q123.677 1075.71 125.482 1079.27 Q127.311 1082.81 130.922 1082.81 Q134.556 1082.81 136.362 1079.27 Q138.191 1075.71 138.191 1068.6 Q138.191 1061.47 136.362 1057.93 Q134.556 1054.36 130.922 1054.36 M130.922 1050.66 Q136.732 1050.66 139.788 1055.27 Q142.867 1059.85 142.867 1068.6 Q142.867 1077.33 139.788 1081.93 Q136.732 1086.52 130.922 1086.52 Q125.112 1086.52 122.033 1081.93 Q118.978 1077.33 118.978 1068.6 Q118.978 1059.85 122.033 1055.27 Q125.112 1050.66 130.922 1050.66 Z\" fill=\"#000000\" fill-rule=\"evenodd\" fill-opacity=\"1\" /><path clip-path=\"url(#clip520)\" d=\"M94.7882 704.761 L111.108 704.761 L111.108 708.696 L89.1632 708.696 L89.1632 704.761 Q91.8252 702.006 96.4085 697.377 Q101.015 692.724 102.196 691.381 Q104.441 688.858 105.321 687.122 Q106.223 685.363 106.223 683.673 Q106.223 680.918 104.279 679.182 Q102.358 677.446 99.2558 677.446 Q97.0567 677.446 94.603 678.21 Q92.1725 678.974 89.3947 680.525 L89.3947 675.803 Q92.2188 674.668 94.6724 674.09 Q97.1261 673.511 99.1632 673.511 Q104.534 673.511 107.728 676.196 Q110.922 678.881 110.922 683.372 Q110.922 685.502 110.112 687.423 Q109.325 689.321 107.219 691.914 Q106.64 692.585 103.538 695.803 Q100.436 698.997 94.7882 704.761 Z\" fill=\"#000000\" fill-rule=\"evenodd\" fill-opacity=\"1\" /><path clip-path=\"url(#clip520)\" d=\"M130.922 677.215 Q127.311 677.215 125.482 680.779 Q123.677 684.321 123.677 691.451 Q123.677 698.557 125.482 702.122 Q127.311 705.664 130.922 705.664 Q134.556 705.664 136.362 702.122 Q138.191 698.557 138.191 691.451 Q138.191 684.321 136.362 680.779 Q134.556 677.215 130.922 677.215 M130.922 673.511 Q136.732 673.511 139.788 678.117 Q142.867 682.701 142.867 691.451 Q142.867 700.178 139.788 704.784 Q136.732 709.367 130.922 709.367 Q125.112 709.367 122.033 704.784 Q118.978 700.178 118.978 691.451 Q118.978 682.701 122.033 678.117 Q125.112 673.511 130.922 673.511 Z\" fill=\"#000000\" fill-rule=\"evenodd\" fill-opacity=\"1\" /><path clip-path=\"url(#clip520)\" d=\"M103.608 301.06 L91.8021 319.509 L103.608 319.509 L103.608 301.06 M102.381 296.986 L108.26 296.986 L108.26 319.509 L113.191 319.509 L113.191 323.398 L108.26 323.398 L108.26 331.546 L103.608 331.546 L103.608 323.398 L88.0058 323.398 L88.0058 318.884 L102.381 296.986 Z\" fill=\"#000000\" fill-rule=\"evenodd\" fill-opacity=\"1\" /><path clip-path=\"url(#clip520)\" d=\"M130.922 300.065 Q127.311 300.065 125.482 303.63 Q123.677 307.171 123.677 314.301 Q123.677 321.407 125.482 324.972 Q127.311 328.514 130.922 328.514 Q134.556 328.514 136.362 324.972 Q138.191 321.407 138.191 314.301 Q138.191 307.171 136.362 303.63 Q134.556 300.065 130.922 300.065 M130.922 296.361 Q136.732 296.361 139.788 300.968 Q142.867 305.551 142.867 314.301 Q142.867 323.028 139.788 327.634 Q136.732 332.217 130.922 332.217 Q125.112 332.217 122.033 327.634 Q118.978 323.028 118.978 314.301 Q118.978 305.551 122.033 300.968 Q125.112 296.361 130.922 296.361 Z\" fill=\"#000000\" fill-rule=\"evenodd\" fill-opacity=\"1\" /><polyline clip-path=\"url(#clip522)\" style=\"stroke:#009af9; stroke-linecap:butt; stroke-linejoin:round; stroke-width:4; stroke-opacity:1; fill:none\" points=\"\n  240.392,87.9763 259.036,132.857 277.68,176.984 296.324,220.356 314.968,262.974 333.612,304.837 352.256,345.947 370.9,386.302 389.544,425.903 408.188,464.749 \n  426.832,502.841 445.476,540.179 464.12,576.762 482.764,612.592 501.408,647.667 520.052,681.987 538.696,715.554 557.34,748.366 575.984,780.423 594.628,811.727 \n  613.272,842.276 631.916,872.071 650.56,901.111 669.204,929.398 687.848,956.93 706.492,983.707 725.136,1009.73 743.78,1035 762.424,1059.51 781.068,1083.27 \n  799.712,1106.28 818.356,1128.53 836.999,1150.03 855.643,1170.77 874.287,1190.76 892.931,1210 911.575,1228.48 930.219,1246.2 948.863,1263.18 967.507,1279.39 \n  986.151,1294.86 1004.8,1309.56 1023.44,1323.52 1042.08,1336.72 1060.73,1349.17 1079.37,1360.86 1098.02,1371.79 1116.66,1381.98 1135.3,1391.41 1153.95,1400.08 \n  1172.59,1408 1191.24,1415.17 1209.88,1421.58 1228.52,1427.24 1247.17,1432.14 1265.81,1436.29 1284.46,1439.68 1303.1,1442.32 1321.74,1444.21 1340.39,1445.34 \n  1359.03,1445.72 1377.68,1445.34 1396.32,1444.21 1414.96,1442.32 1433.61,1439.68 1452.25,1436.29 1470.9,1432.14 1489.54,1427.24 1508.18,1421.58 1526.83,1415.17 \n  1545.47,1408 1564.12,1400.08 1582.76,1391.41 1601.4,1381.98 1620.05,1371.79 1638.69,1360.86 1657.34,1349.17 1675.98,1336.72 1694.62,1323.52 1713.27,1309.56 \n  1731.91,1294.86 1750.56,1279.39 1769.2,1263.18 1787.84,1246.2 1806.49,1228.48 1825.13,1210 1843.77,1190.76 1862.42,1170.77 1881.06,1150.03 1899.71,1128.53 \n  1918.35,1106.28 1936.99,1083.27 1955.64,1059.51 1974.28,1035 1992.93,1009.73 2011.57,983.707 2030.21,956.93 2048.86,929.398 2067.5,901.111 2086.15,872.071 \n  2104.79,842.276 2123.43,811.727 2142.08,780.423 2160.72,748.366 2179.37,715.554 2198.01,681.987 2216.65,647.667 2235.3,612.592 2253.94,576.762 2272.59,540.179 \n  2291.23,502.841 \n  \"/>\n<path clip-path=\"url(#clip520)\" d=\"\nM1986.32 198.898 L2280.29 198.898 L2280.29 95.2176 L1986.32 95.2176  Z\n  \" fill=\"#ffffff\" fill-rule=\"evenodd\" fill-opacity=\"1\"/>\n<polyline clip-path=\"url(#clip520)\" style=\"stroke:#000000; stroke-linecap:butt; stroke-linejoin:round; stroke-width:4; stroke-opacity:1; fill:none\" points=\"\n  1986.32,198.898 2280.29,198.898 2280.29,95.2176 1986.32,95.2176 1986.32,198.898 \n  \"/>\n<polyline clip-path=\"url(#clip520)\" style=\"stroke:#009af9; stroke-linecap:butt; stroke-linejoin:round; stroke-width:4; stroke-opacity:1; fill:none\" points=\"\n  2010.47,147.058 2155.4,147.058 \n  \"/>\n<path clip-path=\"url(#clip520)\" d=\"M2193.4 166.745 Q2191.59 171.375 2189.88 172.787 Q2188.17 174.199 2185.29 174.199 L2181.89 174.199 L2181.89 170.634 L2184.39 170.634 Q2186.15 170.634 2187.12 169.8 Q2188.1 168.967 2189.28 165.865 L2190.04 163.921 L2179.55 138.412 L2184.07 138.412 L2192.17 158.689 L2200.27 138.412 L2204.79 138.412 L2193.4 166.745 Z\" fill=\"#000000\" fill-rule=\"evenodd\" fill-opacity=\"1\" /><path clip-path=\"url(#clip520)\" d=\"M2212.08 160.402 L2219.72 160.402 L2219.72 134.037 L2211.41 135.703 L2211.41 131.444 L2219.67 129.778 L2224.35 129.778 L2224.35 160.402 L2231.98 160.402 L2231.98 164.338 L2212.08 164.338 L2212.08 160.402 Z\" fill=\"#000000\" fill-rule=\"evenodd\" fill-opacity=\"1\" /></svg>\n"
     },
     "execution_count": 18,
     "metadata": {},
     "output_type": "execute_result"
    }
   ],
   "source": [
    "x = -1:0.1:10\n",
    "\n",
    "plot(x, fn_opt_1.(x))"
   ]
  },
  {
   "cell_type": "code",
   "execution_count": 32,
   "metadata": {},
   "outputs": [
    {
     "data": {
      "text/plain": [
       "Results of Optimization Algorithm\n",
       " * Algorithm: Brent's Method\n",
       " * Search Interval: [-1.000000, 10.000000]\n",
       " * Minimizer: 5.000000e+00\n",
       " * Minimum: -2.000000e+01\n",
       " * Iterations: 5\n",
       " * Convergence: max(|x - x_upper|, |x - x_lower|) <= 2*(1.5e-08*|x|+2.2e-16): true\n",
       " * Objective Function Calls: 6"
      ]
     },
     "execution_count": 32,
     "metadata": {},
     "output_type": "execute_result"
    }
   ],
   "source": [
    "res = optimize(fn_opt, -1.0, 10.0) # looks in the interval between -1 and 10 using Brent's method"
   ]
  },
  {
   "cell_type": "markdown",
   "metadata": {},
   "source": [
    "### Optimisation with several choice variables"
   ]
  },
  {
   "cell_type": "code",
   "execution_count": 33,
   "metadata": {},
   "outputs": [
    {
     "data": {
      "text/plain": [
       "value_of_choice (generic function with 1 method)"
      ]
     },
     "execution_count": 33,
     "metadata": {},
     "output_type": "execute_result"
    }
   ],
   "source": [
    "function value_of_choice(x)\n",
    "\n",
    "    α = 0.25\n",
    "    I = 10\n",
    "    p1 = 1\n",
    "    p2 = 2\n",
    "\n",
    "    x1 = x[1]\n",
    "    x2 = x[2]\n",
    "\n",
    "    penalty = 0\n",
    "\n",
    "    exp = p1 * x1 + p2 * x2 # total expenses\n",
    "\n",
    "    if exp > I # expenses > income is not allowed\n",
    "        fac = I/exp\n",
    "        penalty = penalty + 1000 * (exp - I) # calculate the penalty\n",
    "        x1 = x1 * fac\n",
    "        x2 = x2 * fac\n",
    "    end\n",
    "\n",
    "    return -u_func(x1, x2, α) + penalty\n",
    "end"
   ]
  },
  {
   "cell_type": "code",
   "execution_count": 34,
   "metadata": {},
   "outputs": [
    {
     "ename": "LoadError",
     "evalue": "UndefVarError: u_func not defined",
     "output_type": "error",
     "traceback": [
      "UndefVarError: u_func not defined",
      "",
      "Stacktrace:",
      " [1] value_of_choice(x::Vector{Float64})",
      "   @ Main ./In[33]:22",
      " [2] value!!(obj::NonDifferentiable{Float64, Vector{Float64}}, x::Vector{Float64})",
      "   @ NLSolversBase ~/.julia/packages/NLSolversBase/cfJrN/src/interface.jl:9",
      " [3] initial_state(method::NelderMead{Optim.AffineSimplexer, Optim.AdaptiveParameters}, options::Optim.Options{Float64, Nothing}, d::NonDifferentiable{Float64, Vector{Float64}}, initial_x::Vector{Float64})",
      "   @ Optim ~/.julia/packages/Optim/DmCp2/src/multivariate/solvers/zeroth_order/nelder_mead.jl:171",
      " [4] optimize(d::NonDifferentiable{Float64, Vector{Float64}}, initial_x::Vector{Float64}, method::NelderMead{Optim.AffineSimplexer, Optim.AdaptiveParameters}, options::Optim.Options{Float64, Nothing})",
      "   @ Optim ~/.julia/packages/Optim/DmCp2/src/multivariate/optimize/optimize.jl:36",
      " [5] optimize(f::Function, initial_x::Vector{Float64}; inplace::Bool, autodiff::Symbol, kwargs::Base.Pairs{Symbol, Union{}, Tuple{}, NamedTuple{(), Tuple{}}})",
      "   @ Optim ~/.julia/packages/Optim/DmCp2/src/multivariate/optimize/interface.jl:90",
      " [6] optimize(f::Function, initial_x::Vector{Float64})",
      "   @ Optim ~/.julia/packages/Optim/DmCp2/src/multivariate/optimize/interface.jl:84",
      " [7] top-level scope",
      "   @ In[34]:7",
      " [8] eval",
      "   @ ./boot.jl:373 [inlined]",
      " [9] include_string(mapexpr::typeof(REPL.softscope), mod::Module, code::String, filename::String)",
      "   @ Base ./loading.jl:1196"
     ]
    }
   ],
   "source": [
    "I = 10\n",
    "p1 = 1\n",
    "p2 = 2\n",
    "\n",
    "initial_x = [I/p1/2, I/p2/2]\n",
    "\n",
    "res = optimize(value_of_choice, initial_x)"
   ]
  },
  {
   "cell_type": "code",
   "execution_count": null,
   "metadata": {},
   "outputs": [],
   "source": [
    "Optim.minimizer(res) "
   ]
  },
  {
   "cell_type": "markdown",
   "metadata": {},
   "source": [
    "## Algorithm 3: Using a Solver (JuMP)"
   ]
  },
  {
   "cell_type": "markdown",
   "metadata": {},
   "source": [
    "In the next section we will use a really cool package called `JuMP.jl` to solve the model."
   ]
  },
  {
   "cell_type": "code",
   "execution_count": null,
   "metadata": {},
   "outputs": [],
   "source": [
    "model = Model(Ipopt.Optimizer)\n",
    "@variable(model, x1 >= 0)\n",
    "@variable(model, x2 >= 0)\n",
    "@NLobjective(model, Max, x1 ^ 0.25 * x2 ^ 0.75)\n",
    "@NLconstraint(model, x1 + 2x2 <= 10)\n",
    "print(model)"
   ]
  },
  {
   "cell_type": "code",
   "execution_count": null,
   "metadata": {},
   "outputs": [],
   "source": [
    "optimize!(model)"
   ]
  },
  {
   "cell_type": "code",
   "execution_count": null,
   "metadata": {},
   "outputs": [],
   "source": [
    "@show value(x1)"
   ]
  },
  {
   "cell_type": "code",
   "execution_count": null,
   "metadata": {},
   "outputs": [],
   "source": [
    "@show value(x2)"
   ]
  },
  {
   "cell_type": "markdown",
   "metadata": {},
   "source": [
    "If we compare these values to our solution from before we will see that they are quite similar. "
   ]
  }
 ],
 "metadata": {
  "kernelspec": {
   "display_name": "Julia 1.7.0-rc2",
   "language": "julia",
   "name": "julia-1.7"
  },
  "language_info": {
   "file_extension": ".jl",
   "mimetype": "application/julia",
   "name": "julia",
   "version": "1.7.0"
  },
  "orig_nbformat": 4
 },
 "nbformat": 4,
 "nbformat_minor": 2
}
