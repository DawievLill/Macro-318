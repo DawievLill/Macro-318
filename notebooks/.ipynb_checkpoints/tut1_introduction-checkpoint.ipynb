{
 "cells": [
  {
   "cell_type": "markdown",
   "metadata": {},
   "source": [
    "# Tutorial 1: Introduction to Julia"
   ]
  },
  {
   "cell_type": "markdown",
   "metadata": {},
   "source": [
    "This is the first of 4 tutorials that are focused on very basic computational methods in macroeconomics. This is a short tutorial that is supposed to show you the basics of the Julia programming language. At the end of the tutorial you will see links to many more resources. "
   ]
  },
  {
   "cell_type": "markdown",
   "metadata": {},
   "source": [
    "## Planned teaching outcomes"
   ]
  },
  {
   "cell_type": "markdown",
   "metadata": {},
   "source": [
    "In this course we hope to look at four different themes in computational macroeconomics, which culminates in the solution of a Solow model and then also a consumption and savings problem. "
   ]
  },
  {
   "cell_type": "markdown",
   "metadata": {},
   "source": [
    "Here are the focus areas\n",
    "\n",
    "- Introduction to Julia\n",
    "- Basics of computation\n",
    "- Optimisation and the consumer problem\n",
    "- Simulation (optional)\n",
    "- Solow model (optional)"
   ]
  },
  {
   "cell_type": "code",
   "execution_count": null,
   "metadata": {},
   "outputs": [],
   "source": []
  }
 ],
 "metadata": {
  "kernelspec": {
   "display_name": "Julia 1.7.0-rc2",
   "language": "julia",
   "name": "julia-1.7"
  },
  "language_info": {
   "file_extension": ".jl",
   "mimetype": "application/julia",
   "name": "julia",
   "version": "1.7.0"
  }
 },
 "nbformat": 4,
 "nbformat_minor": 4
}
