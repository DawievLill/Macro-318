{
 "cells": [
  {
   "cell_type": "markdown",
   "metadata": {},
   "source": [
    "# <span style=\"color:#2c061f\"> Macro 318: Tutorial #1 </span>  \n",
    "\n",
    "<br>\n",
    "\n",
    "## <span style=\"color:#374045\"> Introduction to Programming with Julia </span>\n",
    "\n",
    "\n",
    "#### <span style=\"color:#374045\"> Lecturer: </span> <span style=\"color:#d89216\"> <br> Dawie van Lill (dvanlill@sun.ac.za) </span>"
   ]
  },
  {
   "cell_type": "markdown",
   "metadata": {},
   "source": [
    "## Introduction"
   ]
  },
  {
   "cell_type": "markdown",
   "metadata": {
    "tags": []
   },
   "source": [
    "This is the first of four tutorials that are focused on basic computational methods in macroeconomics. These tutorials will provide some basic programming knowledge with application in macroeconomics. The tutorials are quite long and will take some time to work through. However, they are in notebook format, which means that they are interactive. \n",
    "\n",
    "My advice is to work on the notebook for 30 minutes at a time. Try not to let the amount of information overwhelm you. This is a long tutorial that contains a lots of bit and pieces on programming and the Julia language. \n",
    "\n",
    "As I mentioned, the first tutorial is supposed to show you the basics of the Julia programming language. We chose the Julia programming language because it is easy to learn and also very fast! There are other excellent languages, such as Python, R and Matlab, which are useful for economists. However, Julia will work for our purposes. Many of the lessons you learn here can be applied to other languages as well.\n",
    "\n",
    "This notebook is meant to be used as a **reference**. In other words, I am not expecting you to remember everything in the notebook. The notebook introduces you to several concepts that you might need in the future. While this is a reference, it only covers the very basic components of the language. Some other useful references that I used in constructing these notes are \n",
    "\n",
    "1. QuantEcon [notes](https://julia.quantecon.org/getting_started_julia/julia_by_example.html)\n",
    "2. Paul Soderlind [notes](https://github.com/PaulSoderlind/JuliaTutorial)\n",
    "3. Cameron Pfiffer [notes](https://github.com/cpfiffer/julia-bootcamp-2022/blob/main/session-1/intro.ipynb)\n",
    "\n",
    "You can ask me for more resources if you need it. \n",
    "\n",
    "A good textbook that teaches both Julia and programming is Think Julia, which can be found [here](https://benlauwens.github.io/ThinkJulia.jl/latest/book.html)\n"
   ]
  },
  {
   "cell_type": "markdown",
   "metadata": {},
   "source": [
    "## Planned teaching outcomes"
   ]
  },
  {
   "cell_type": "markdown",
   "metadata": {},
   "source": [
    "In this course we hope to look at different themes in computational macroeconomics. Most of modern macroeconomic research involves utilising computational methods, so it is wortwhile to get comfortable with some basic programming skills. The return on this investment is quite high. If you are interested in this type of work, feel free to contact me to talk about computational economics in Honours and Masters. \n",
    "\n",
    "**Note:** We currently don't offer modules at postgraduate level that explicitly teach computational methods. However, I am offering weekly sessions that cover the basics of programming and computation. I will create a class list where people can sign up for the sessions. These sessions are aimed at Honours and Masters students, but you are welcome to attend to see what all the hype is about!"
   ]
  },
  {
   "cell_type": "markdown",
   "metadata": {},
   "source": [
    "Here are some of the focus areas\n",
    "\n",
    "1. Fundamentals of programming\n",
    "2. Optimisation and the consumer problem\n",
    "3. Solow model \n",
    "4. Simulation + data work"
   ]
  },
  {
   "cell_type": "markdown",
   "metadata": {},
   "source": [
    "## Tutorial workflow"
   ]
  },
  {
   "cell_type": "markdown",
   "metadata": {},
   "source": [
    "The tutorials will be pre-recorded so that you can go through the material on your own time before the live tutorial session. During the live tutorial session I will be answering questions and also going through some exercises. These will be both normal pen and pencil exercises and computer based exercises."
   ]
  },
  {
   "cell_type": "markdown",
   "metadata": {},
   "source": [
    "## Running the notebooks\n",
    "\n",
    "The current notes are put together in a Jupyter notebook.\n",
    "\n",
    "For the purpose of this course you will run the notebooks online (this doesn't require you to install Python, Julia or Jupyter on your system). You can also run these files locally on your computer without the need for the internet, but that requires an installation procedure that will be too difficult to explain to 250+ students.\n",
    "\n",
    "I will make a brief video on how to install Julia, Python, Jupyter and VS Code for those that are interested. However, this is completely optional. \n",
    "\n"
   ]
  },
  {
   "cell_type": "markdown",
   "metadata": {},
   "source": [
    "## Topics for the tutorial\n",
    "\n",
    "Below are the topics for the tutorial\n",
    "\n",
    "1. Data types\n",
    "2. Control flow\n",
    "3. Functions\n",
    "4. Floating point arithmetic\n",
    "\n",
    "Most of these topics are covered in introductory undergraduate computer science courses, so if you are a CS student then you can quickly skim for the Julia syntax. If you are comfortable with a modern programming language like Python then everything here will feel somewhat familiar.\n"
   ]
  },
  {
   "cell_type": "markdown",
   "metadata": {},
   "source": [
    "# Fundamentals"
   ]
  },
  {
   "cell_type": "markdown",
   "metadata": {},
   "source": [
    "There are many great guides to that provide an introduction to Julia and programming. The QuantEcon website is an exceptional resource that can be used to teach yourself about computational economics. We will be borrowing some the material from their website in this section. The main difference with these notes is that they are not nearly as comprehensive and are only meant as a starting point for your journey. \n",
    "\n",
    "Before we start our discussion, let us try and run our first Julia program. For those that have done programming before, this normally entails writing a piece of code that gives us the output ``Hello World!``. In Julia this is super easy to do. "
   ]
  },
  {
   "cell_type": "code",
   "execution_count": null,
   "metadata": {},
   "outputs": [],
   "source": [
    "println(\"Hello World!\")"
   ]
  },
  {
   "cell_type": "markdown",
   "metadata": {},
   "source": [
    "## Adding packages"
   ]
  },
  {
   "cell_type": "markdown",
   "metadata": {},
   "source": [
    "As an aside, Julia has many package. If we want to include a specific package then we can do the following,\n",
    "\n",
    "`import Pkg`\n",
    "\n",
    "`Pkg.add(\"PackageName\")`\n",
    "\n",
    "`using PackageName`"
   ]
  },
  {
   "cell_type": "code",
   "execution_count": 3,
   "metadata": {},
   "outputs": [],
   "source": [
    "import Pkg"
   ]
  },
  {
   "cell_type": "code",
   "execution_count": 46,
   "metadata": {},
   "outputs": [
    {
     "name": "stderr",
     "output_type": "stream",
     "text": [
      "\u001b[32m\u001b[1m   Resolving\u001b[22m\u001b[39m package versions...\n",
      "\u001b[32m\u001b[1m  No Changes\u001b[22m\u001b[39m to `~/.julia/environments/v1.7/Project.toml`\n",
      "\u001b[32m\u001b[1m  No Changes\u001b[22m\u001b[39m to `~/.julia/environments/v1.7/Manifest.toml`\n",
      "\u001b[32m\u001b[1m   Resolving\u001b[22m\u001b[39m package versions...\n",
      "\u001b[32m\u001b[1m  No Changes\u001b[22m\u001b[39m to `~/.julia/environments/v1.7/Project.toml`\n",
      "\u001b[32m\u001b[1m  No Changes\u001b[22m\u001b[39m to `~/.julia/environments/v1.7/Manifest.toml`\n"
     ]
    }
   ],
   "source": [
    "Pkg.add(\"LinearAlgebra\") # This will allow for prettier printing. \n",
    "Pkg.add(\"Plots\") # This is required for plotting"
   ]
  },
  {
   "cell_type": "code",
   "execution_count": 47,
   "metadata": {},
   "outputs": [],
   "source": [
    "using LinearAlgebra\n",
    "using Plots"
   ]
  },
  {
   "cell_type": "markdown",
   "metadata": {},
   "source": [
    "## Variables\n",
    "\n",
    "A good place to start our journey is with variables. A variable in a programming language is going to be some sort of symbol that we assign some value. Let us use a concrete example to illustrate. "
   ]
  },
  {
   "cell_type": "code",
   "execution_count": null,
   "metadata": {},
   "outputs": [],
   "source": [
    "x = 2 # assign the value of 2 to the variable x"
   ]
  },
  {
   "cell_type": "markdown",
   "metadata": {},
   "source": [
    "The value `2` is now bound to `x` in the computer's memory. We can now work with `x` as if it represents the value of `2`. "
   ]
  },
  {
   "cell_type": "code",
   "execution_count": null,
   "metadata": {},
   "outputs": [],
   "source": [
    "x + 2"
   ]
  },
  {
   "cell_type": "markdown",
   "metadata": {},
   "source": [
    "Generally when we name variables they will start with letters and in Julia the preference is to use snake case. This means using underscores between words. As an example `new_variable` instead of `newVariable`. The latter is an example of camel case. \n",
    "\n",
    "**Note**: `const x = 2` will define a constant variable. We will get back to this point later in the session. "
   ]
  },
  {
   "cell_type": "markdown",
   "metadata": {},
   "source": [
    "## Data types"
   ]
  },
  {
   "cell_type": "markdown",
   "metadata": {},
   "source": [
    "One of the best places to start with a discussion on a programming language is with data types. This might sound incredibly dull, but it is actually quite important to understand the different data types that can be used in a programming language and the functions that can be implemented on them. "
   ]
  },
  {
   "cell_type": "markdown",
   "metadata": {},
   "source": [
    "### Primitive data types\n",
    "\n",
    "There are several important data types that are at the core of computing. Some of these include, \n",
    "\n",
    "- **Booleans**: true and false\n",
    "- **Integers**: -3, -2, -1, 0, 1, 2, 3, etc.\n",
    "- **Floating point numbers**: 3.14, 2.95, 1.0, etc.\n",
    "- **Strings**: \"abc\", \"cat\", \"hello there\"\n",
    "- **Characters**: 'f', 'c', 'u'\n",
    "\n",
    "We start our discussion with Booleans, these are `true` / `false` values."
   ]
  },
  {
   "cell_type": "code",
   "execution_count": null,
   "metadata": {},
   "outputs": [],
   "source": [
    "a = true"
   ]
  },
  {
   "cell_type": "code",
   "execution_count": null,
   "metadata": {},
   "outputs": [],
   "source": [
    "typeof(a)"
   ]
  },
  {
   "cell_type": "markdown",
   "metadata": {},
   "source": [
    "The `typeof()` operator tells us what the data type a variable takes. In the case above we have a `Boolean` value. Now let's look at some other well known data types. "
   ]
  },
  {
   "cell_type": "code",
   "execution_count": null,
   "metadata": {},
   "outputs": [],
   "source": [
    "typeof(122)"
   ]
  },
  {
   "cell_type": "code",
   "execution_count": null,
   "metadata": {},
   "outputs": [],
   "source": [
    "typeof(122.0)"
   ]
  },
  {
   "cell_type": "markdown",
   "metadata": {},
   "source": [
    "Numbers are represented as floats and integers. Floating point numbers (floats) represent the way in which computers manifest real numbers.\n",
    "\n",
    "With numbers in mind, we can treat the computer like a calculator. We can perform basic arithmetic operations. Operators perform operations. These common operators are called the **arithmetic operators**. "
   ]
  },
  {
   "cell_type": "code",
   "execution_count": null,
   "metadata": {},
   "outputs": [],
   "source": [
    "x = 2; y = 10"
   ]
  },
  {
   "cell_type": "code",
   "execution_count": null,
   "metadata": {},
   "outputs": [],
   "source": [
    "x * y"
   ]
  },
  {
   "cell_type": "code",
   "execution_count": null,
   "metadata": {},
   "outputs": [],
   "source": [
    "x ^ y"
   ]
  },
  {
   "cell_type": "code",
   "execution_count": null,
   "metadata": {},
   "outputs": [],
   "source": [
    "y / x # note: division converts integers to floats"
   ]
  },
  {
   "cell_type": "code",
   "execution_count": null,
   "metadata": {},
   "outputs": [],
   "source": [
    "2x - 3y"
   ]
  },
  {
   "cell_type": "code",
   "execution_count": null,
   "metadata": {},
   "outputs": [],
   "source": [
    "x // y"
   ]
  },
  {
   "cell_type": "markdown",
   "metadata": {},
   "source": [
    "Another important data type is the String (and Character)"
   ]
  },
  {
   "cell_type": "code",
   "execution_count": null,
   "metadata": {},
   "outputs": [],
   "source": [
    "typeof(\"Hello Class!\")"
   ]
  },
  {
   "cell_type": "code",
   "execution_count": null,
   "metadata": {},
   "outputs": [],
   "source": [
    "typeof('h')"
   ]
  },
  {
   "cell_type": "markdown",
   "metadata": {},
   "source": [
    "Some of the operators used on floats and integers above can also be used on strings and characters. "
   ]
  },
  {
   "cell_type": "code",
   "execution_count": null,
   "metadata": {},
   "outputs": [],
   "source": [
    "x = \"abc\"; y = \"def\""
   ]
  },
  {
   "cell_type": "code",
   "execution_count": null,
   "metadata": {},
   "outputs": [],
   "source": [
    "x * y # concatenation"
   ]
  },
  {
   "cell_type": "code",
   "execution_count": null,
   "metadata": {},
   "outputs": [],
   "source": [
    "x ^ 2 # multiples"
   ]
  },
  {
   "cell_type": "markdown",
   "metadata": {},
   "source": [
    "Another important class of operators that we will often encounter are the **augmentation operators**. This will be especially important in the section on control flow. "
   ]
  },
  {
   "cell_type": "code",
   "execution_count": null,
   "metadata": {},
   "outputs": [],
   "source": [
    "x = 3"
   ]
  },
  {
   "cell_type": "code",
   "execution_count": null,
   "metadata": {},
   "outputs": [],
   "source": [
    "x += 1 # same as x = x + 1"
   ]
  },
  {
   "cell_type": "code",
   "execution_count": null,
   "metadata": {},
   "outputs": [],
   "source": [
    "x *= 2 # same as x = x * 2"
   ]
  },
  {
   "cell_type": "code",
   "execution_count": null,
   "metadata": {},
   "outputs": [],
   "source": [
    "x /= 2 # same as x = x / 2 "
   ]
  },
  {
   "cell_type": "markdown",
   "metadata": {},
   "source": [
    "Now that we have talked about the basic data types, it is important to talk about the different operators that are supported in Julia. We have already used some of the mathematical operators, such as multiplication and division when it came to floating point numbers. However, Julia has another set of common operators that work on Booleans. "
   ]
  },
  {
   "cell_type": "code",
   "execution_count": null,
   "metadata": {},
   "outputs": [],
   "source": [
    "!true # negation operation"
   ]
  },
  {
   "cell_type": "code",
   "execution_count": null,
   "metadata": {},
   "outputs": [],
   "source": [
    "x = true; y = true"
   ]
  },
  {
   "cell_type": "code",
   "execution_count": null,
   "metadata": {},
   "outputs": [],
   "source": [
    "x && y # and operator. Returns true if x and y are both true, otherwise false"
   ]
  },
  {
   "cell_type": "code",
   "execution_count": null,
   "metadata": {},
   "outputs": [],
   "source": [
    "x || y # or operator. Returns true if x aor y is true, otherwise false"
   ]
  },
  {
   "cell_type": "markdown",
   "metadata": {},
   "source": [
    "Another important class of operators are the comparison operators. These help to generate true and false values for our conditional statements that we see later in the tutorial. "
   ]
  },
  {
   "cell_type": "code",
   "execution_count": null,
   "metadata": {},
   "outputs": [],
   "source": [
    "x = 3; y = 2; "
   ]
  },
  {
   "cell_type": "code",
   "execution_count": null,
   "metadata": {},
   "outputs": [],
   "source": [
    "x < y"
   ]
  },
  {
   "cell_type": "code",
   "execution_count": null,
   "metadata": {},
   "outputs": [],
   "source": [
    "x <= y"
   ]
  },
  {
   "cell_type": "code",
   "execution_count": null,
   "metadata": {},
   "outputs": [],
   "source": [
    "x != y"
   ]
  },
  {
   "cell_type": "code",
   "execution_count": null,
   "metadata": {},
   "outputs": [],
   "source": [
    "x == y"
   ]
  },
  {
   "cell_type": "code",
   "execution_count": null,
   "metadata": {},
   "outputs": [],
   "source": [
    "z = x < y"
   ]
  },
  {
   "cell_type": "markdown",
   "metadata": {},
   "source": [
    "### Type conversion\n",
    "\n",
    "It is possible to convert the type of one variable to another type. One could, as an example convert a float to string, or float to integer. "
   ]
  },
  {
   "cell_type": "code",
   "execution_count": null,
   "metadata": {},
   "outputs": [],
   "source": [
    "x = 1"
   ]
  },
  {
   "cell_type": "code",
   "execution_count": null,
   "metadata": {},
   "outputs": [],
   "source": [
    "y = string(x)"
   ]
  },
  {
   "cell_type": "code",
   "execution_count": null,
   "metadata": {},
   "outputs": [],
   "source": [
    "z = float(x)"
   ]
  },
  {
   "cell_type": "code",
   "execution_count": null,
   "metadata": {},
   "outputs": [],
   "source": [
    "y = string(z)"
   ]
  },
  {
   "cell_type": "markdown",
   "metadata": {},
   "source": [
    "It is not possible to convert a string to an integer. So this means there are some limitations to conversion. The following bit of code uses exception handling, don't worry too much about it for now. We will talk about this some more in the section on control flow. [Here](https://docs.julialang.org/en/v1/manual/control-flow/#Exception-Handling) is a link that goes into some more detail on the topic. "
   ]
  },
  {
   "cell_type": "code",
   "execution_count": null,
   "metadata": {},
   "outputs": [],
   "source": [
    "try\n",
    "    x = Int(\"22\")\n",
    "    println(\"This conversion is possible\")\n",
    "    println(\"The resulting value is $x\")\n",
    "catch\n",
    "    println(\"This conversion is not possible\")\n",
    "end"
   ]
  },
  {
   "cell_type": "markdown",
   "metadata": {},
   "source": [
    "This raises the question as to whether a boolean variables can be converted to an integer? Write a bit of code, given what is provided above to try and check this. Here is some code to get started. "
   ]
  },
  {
   "cell_type": "code",
   "execution_count": null,
   "metadata": {},
   "outputs": [],
   "source": [
    "try \n",
    "    x = Int() # fill in the missing conversion here\n",
    "    println(\"This conversion is possible\")\n",
    "    println(\"The resulting value is $x\")\n",
    "catch\n",
    "    println(\"This conversion is not possible\")\n",
    "end"
   ]
  },
  {
   "cell_type": "markdown",
   "metadata": {},
   "source": [
    "### Containers\n",
    "\n",
    "There are several types of containers, such as arrays and tuples, in Julia. We explore some of the most commonly used containers here. \n",
    "\n",
    "Note that we have both mutable and immutable types of containers in Julia. Mutable means that the value within that container can be changed, whereas immutable refers to the fact that values cannot be altered. "
   ]
  },
  {
   "cell_type": "markdown",
   "metadata": {},
   "source": [
    "### Tuples\n",
    "\n",
    "Let us start with one of the basic types of containers, which are referred to as tuples. These containers are immutable (can't change the values in the container), ordered and of a fixed length. Consider the following example of a tuple,"
   ]
  },
  {
   "cell_type": "code",
   "execution_count": null,
   "metadata": {},
   "outputs": [],
   "source": [
    "x = (10, 20, 30)"
   ]
  },
  {
   "cell_type": "markdown",
   "metadata": {},
   "source": [
    "We can access the first component of a tuple in the following way, "
   ]
  },
  {
   "cell_type": "code",
   "execution_count": null,
   "metadata": {},
   "outputs": [],
   "source": [
    "x[1]"
   ]
  },
  {
   "cell_type": "markdown",
   "metadata": {},
   "source": [
    "We can generally unpack a tuple in the following fashion, "
   ]
  },
  {
   "cell_type": "code",
   "execution_count": null,
   "metadata": {},
   "outputs": [],
   "source": [
    "a, b, c = x"
   ]
  },
  {
   "cell_type": "code",
   "execution_count": null,
   "metadata": {},
   "outputs": [],
   "source": [
    "a"
   ]
  },
  {
   "cell_type": "markdown",
   "metadata": {},
   "source": [
    "#### Named tuples (optional)"
   ]
  },
  {
   "cell_type": "markdown",
   "metadata": {},
   "source": [
    "It is also possible to provide names to each position of a named tuple. Here is an example of a named tuple. "
   ]
  },
  {
   "cell_type": "code",
   "execution_count": null,
   "metadata": {},
   "outputs": [],
   "source": [
    "x = (first = 'a', second = 100, third = (1, 2, 3))"
   ]
  },
  {
   "cell_type": "code",
   "execution_count": null,
   "metadata": {},
   "outputs": [],
   "source": [
    "x.third # provides access to the third element in the tuple (which in this case is another tuple)"
   ]
  },
  {
   "cell_type": "code",
   "execution_count": null,
   "metadata": {},
   "outputs": [],
   "source": [
    "x[:third] # equivalent to x.third"
   ]
  },
  {
   "cell_type": "markdown",
   "metadata": {},
   "source": [
    "You can merge named tuples to add new elements to the tuple. Let us say that you want to add the sentence \"Programming is awesome!\" to the named tuple, you can do it is as follows, "
   ]
  },
  {
   "cell_type": "code",
   "execution_count": null,
   "metadata": {},
   "outputs": [],
   "source": [
    "y = (fourth = \"Programming is awesome!\", ) # note the comma at the end, if you don't have it, then this won't work. "
   ]
  },
  {
   "cell_type": "code",
   "execution_count": null,
   "metadata": {},
   "outputs": [],
   "source": [
    "merge(x, y)"
   ]
  },
  {
   "cell_type": "markdown",
   "metadata": {},
   "source": [
    "### Arrays\n",
    "\n",
    "One of the most important containers in Julia are arrays. You will use tuples and arrays quite frequently in your code. Vectors and matrices, such as those from mathematics, are types of arrays in Julia. Let us start with the idea of a vector. \n",
    "\n",
    "In Julia, we can create a vector by surrounding a value by brackets and separating the values with commas."
   ]
  },
  {
   "cell_type": "code",
   "execution_count": 18,
   "metadata": {},
   "outputs": [
    {
     "data": {
      "text/plain": [
       "2-element Vector{Any}:\n",
       " 1\n",
       "  \"abc\""
      ]
     },
     "metadata": {},
     "output_type": "display_data"
    }
   ],
   "source": [
    "vector_x = [1, \"abc\"] # example of a vector (one dimensional array)"
   ]
  },
  {
   "cell_type": "code",
   "execution_count": null,
   "metadata": {},
   "outputs": [],
   "source": [
    "typeof(vector_x)"
   ]
  },
  {
   "cell_type": "markdown",
   "metadata": {},
   "source": [
    "As with tuples, we can access the elements of the vector in the following way, "
   ]
  },
  {
   "cell_type": "code",
   "execution_count": null,
   "metadata": {},
   "outputs": [],
   "source": [
    "vector_x[1]"
   ]
  },
  {
   "cell_type": "markdown",
   "metadata": {},
   "source": [
    "The big difference between a tuple and array is that we can change the values of the array. Below is an example where we change the first component of the array. This means that arrays are mutable. "
   ]
  },
  {
   "cell_type": "code",
   "execution_count": null,
   "metadata": {},
   "outputs": [],
   "source": [
    "vector_x[1] = \"def\""
   ]
  },
  {
   "cell_type": "code",
   "execution_count": null,
   "metadata": {},
   "outputs": [],
   "source": [
    "vector_x"
   ]
  },
  {
   "cell_type": "markdown",
   "metadata": {},
   "source": [
    "We can use the `push!()` function to add values to this vector. This grows the size of the vector. You might notice the `!` operator after `push`. This exclamation mark doesn't do anything particularly special in Julia. It is a coding convention to let the user know that the input is going to be altered / changed. In our case it lets us know that the vector is going to be mutated. Let us illustrate.  "
   ]
  },
  {
   "cell_type": "code",
   "execution_count": null,
   "metadata": {},
   "outputs": [],
   "source": [
    "push!(vector_x, \"hij\") # vector_x is mutated here. It changes from 2 element vector to 3 element vector. "
   ]
  },
  {
   "cell_type": "markdown",
   "metadata": {},
   "source": [
    "We can also create matrices (which are rectangular arrays) in the following way,"
   ]
  },
  {
   "cell_type": "code",
   "execution_count": 1,
   "metadata": {},
   "outputs": [
    {
     "data": {
      "text/plain": [
       "3×3 Matrix{Int64}:\n",
       " 1  2  3\n",
       " 4  5  6\n",
       " 7  8  9"
      ]
     },
     "metadata": {},
     "output_type": "display_data"
    }
   ],
   "source": [
    "matrix_x = [1 2 3; 4 5 6; 7 8 9] # rows separated by spaces, columns separated by semicolons."
   ]
  },
  {
   "cell_type": "code",
   "execution_count": 2,
   "metadata": {},
   "outputs": [
    {
     "data": {
      "text/plain": [
       "3×3 Matrix{Int64}:\n",
       " 1  2  3\n",
       " 4  5  6\n",
       " 7  8  9"
      ]
     },
     "metadata": {},
     "output_type": "display_data"
    }
   ],
   "source": [
    "matrix_y = [1 2 3;\n",
    "            4 5 6;\n",
    "            7 8 9] # another way to write the matrix above"
   ]
  },
  {
   "cell_type": "markdown",
   "metadata": {},
   "source": [
    "Another important object in Julia is a sequence. We can create a sequence as follows, "
   ]
  },
  {
   "cell_type": "code",
   "execution_count": 28,
   "metadata": {},
   "outputs": [
    {
     "data": {
      "text/plain": [
       "1:10:21"
      ]
     },
     "metadata": {},
     "output_type": "display_data"
    }
   ],
   "source": [
    "seq_x = 1:10:21 # this is a sequence that starts at one and ends at 21 with an increment of 10. "
   ]
  },
  {
   "cell_type": "markdown",
   "metadata": {},
   "source": [
    "In order to collect the values of the sequence into a vector, we can use the `collect` function. "
   ]
  },
  {
   "cell_type": "code",
   "execution_count": 29,
   "metadata": {},
   "outputs": [
    {
     "data": {
      "text/plain": [
       "3-element Vector{Int64}:\n",
       "  1\n",
       " 11\n",
       " 21"
      ]
     },
     "metadata": {},
     "output_type": "display_data"
    }
   ],
   "source": [
    "collect(seq_x)"
   ]
  },
  {
   "cell_type": "markdown",
   "metadata": {},
   "source": [
    "### Convenience functions"
   ]
  },
  {
   "cell_type": "markdown",
   "metadata": {},
   "source": [
    "There are several convenience functions that can be applied to arrays. We can look at the length of an array by using the `length` function. "
   ]
  },
  {
   "cell_type": "code",
   "execution_count": null,
   "metadata": {},
   "outputs": [],
   "source": [
    "length(vector_x) # provides information on how long the vector is"
   ]
  },
  {
   "cell_type": "code",
   "execution_count": null,
   "metadata": {},
   "outputs": [],
   "source": [
    "length(matrix_x)"
   ]
  },
  {
   "cell_type": "code",
   "execution_count": null,
   "metadata": {},
   "outputs": [],
   "source": [
    "size(vector_x) # provides information in the format of a tuple. This is more useful for multidimensional arrays"
   ]
  },
  {
   "cell_type": "code",
   "execution_count": null,
   "metadata": {},
   "outputs": [],
   "source": [
    "size(matrix_x) # we can now see the size of the matrix as 3 x 3"
   ]
  },
  {
   "cell_type": "code",
   "execution_count": null,
   "metadata": {},
   "outputs": [],
   "source": [
    "zeros(3) # provides a vector of zeros with length 3."
   ]
  },
  {
   "cell_type": "markdown",
   "metadata": {},
   "source": [
    "Note that the default type for the zeros in the vector above is `Float64`. If we wanted we could specify these values to be integers as follows, "
   ]
  },
  {
   "cell_type": "code",
   "execution_count": null,
   "metadata": {},
   "outputs": [],
   "source": [
    "zeros(Int, 3)"
   ]
  },
  {
   "cell_type": "code",
   "execution_count": null,
   "metadata": {},
   "outputs": [],
   "source": [
    "ones(3) # same thing as above, but fills with ones"
   ]
  },
  {
   "cell_type": "markdown",
   "metadata": {},
   "source": [
    "Sometimes we want to create vectors that are filled with random values. The simplest function is `rand()`, which selects random values from the uniform distribution on the interval between zero and one. This means that the each value is picked with equal probability in the interval between zero and one. "
   ]
  },
  {
   "cell_type": "code",
   "execution_count": null,
   "metadata": {},
   "outputs": [],
   "source": [
    "rand(3) # values chosen will lie between zero and one. chosen with equal probability. "
   ]
  },
  {
   "cell_type": "markdown",
   "metadata": {},
   "source": [
    "An alternative is to pick values according to the standard [Normal distribution](https://en.wikipedia.org/wiki/Normal_distribution), instead of the uniform distribution as above. The Normal distribution is a distribution which is symmetric around zero, with majority of values lying within three standard deviations of the mean (which is zero). This means that this random value selection tool will select values to the right and left of zero on the real line. In other words, it will select both positive and negative values with about 99% of values falling within three standard deviations from the mean. "
   ]
  },
  {
   "cell_type": "code",
   "execution_count": null,
   "metadata": {},
   "outputs": [],
   "source": [
    "randn(3)"
   ]
  },
  {
   "cell_type": "markdown",
   "metadata": {},
   "source": [
    "### Slicing\n"
   ]
  },
  {
   "cell_type": "markdown",
   "metadata": {},
   "source": [
    "Remember from before that we can extract value from containers. "
   ]
  },
  {
   "cell_type": "code",
   "execution_count": null,
   "metadata": {},
   "outputs": [],
   "source": [
    "vector_x[1] # extract the first value"
   ]
  },
  {
   "cell_type": "code",
   "execution_count": null,
   "metadata": {},
   "outputs": [],
   "source": [
    "matrix_x[2, 2] # retrieve the value in the second row and second column of the matrix"
   ]
  },
  {
   "cell_type": "code",
   "execution_count": 19,
   "metadata": {},
   "outputs": [
    {
     "data": {
      "text/plain": [
       "2-element Vector{Any}:\n",
       " 1\n",
       "  \"abc\""
      ]
     },
     "metadata": {},
     "output_type": "display_data"
    }
   ],
   "source": [
    "vector_x[1:2] # gets the first two values of the vector"
   ]
  },
  {
   "cell_type": "code",
   "execution_count": null,
   "metadata": {},
   "outputs": [],
   "source": [
    "vector_x[2:end] # extracts all the values from the second to the end of the vector"
   ]
  },
  {
   "cell_type": "code",
   "execution_count": null,
   "metadata": {},
   "outputs": [],
   "source": [
    "vector_x[:, 1] # provides all the values of the first column"
   ]
  },
  {
   "cell_type": "code",
   "execution_count": null,
   "metadata": {},
   "outputs": [],
   "source": [
    "vector_x[1, :] # provides all the values from the first row"
   ]
  },
  {
   "cell_type": "markdown",
   "metadata": {},
   "source": [
    "Next let's move on to a brief discussion on linear algebra. "
   ]
  },
  {
   "cell_type": "markdown",
   "metadata": {},
   "source": [
    "### Basic linear algebra operations"
   ]
  },
  {
   "cell_type": "markdown",
   "metadata": {},
   "source": [
    "Linear algebra is an incredibly useful branch of mathematics that I would highly recommend students invest time in. If you are interested in the more computational or statistical side of economics then you need to learn some linear algebra. For a more detailed look at linear algebra, the best place to go is the [QuantEcon website](https://julia.quantecon.org/tools_and_techniques/linear_algebra.html). The material there is a bit more advanced than we are covering for this course, but it is worthwhile working through if you are interested in doing postgraduate work in economics.  \n",
    "\n",
    "Linear algebra entails operations with matrices and vectors at its core, so let us show some basic commands. "
   ]
  },
  {
   "cell_type": "code",
   "execution_count": 14,
   "metadata": {},
   "outputs": [
    {
     "data": {
      "text/plain": [
       "3×3 Matrix{Int64}:\n",
       " 1  2  3\n",
       " 4  5  6\n",
       " 7  8  9"
      ]
     },
     "metadata": {},
     "output_type": "display_data"
    }
   ],
   "source": [
    "Q = matrix_x"
   ]
  },
  {
   "cell_type": "markdown",
   "metadata": {},
   "source": [
    "We start with multiplication and addition operations on arrays. \n",
    "\n",
    "One can multiply a matrix with a scalar and also add a scalar to each component of a matrix.\n",
    "\n",
    "One can also multiply matrices together when they have the same dimension. \n",
    "\n",
    "It is also possible to multiply the transpose of a matrix with itself (or another matrix). \n",
    "\n",
    "All of these operations will have specific applicability in certain situations. I am not speaking at this stage as to why we are doing this, but simply stating the conditions under which we can perform these operations. "
   ]
  },
  {
   "cell_type": "code",
   "execution_count": 24,
   "metadata": {},
   "outputs": [
    {
     "data": {
      "text/plain": [
       "3×3 Matrix{Int64}:\n",
       "  2   4   6\n",
       "  8  10  12\n",
       " 14  16  18"
      ]
     },
     "metadata": {},
     "output_type": "display_data"
    }
   ],
   "source": [
    "2 * Q # multiply matrix with scalar. All elements of matrix are multiplied by 2. "
   ]
  },
  {
   "cell_type": "code",
   "execution_count": 25,
   "metadata": {},
   "outputs": [
    {
     "ename": "MethodError",
     "evalue": "MethodError: no method matching +(::Int64, ::Matrix{Int64})\nFor element-wise addition, use broadcasting with dot syntax: scalar .+ array\nClosest candidates are:\n  +(::Any, ::Any, !Matched::Any, !Matched::Any...) at /usr/share/julia/base/operators.jl:655\n  +(::T, !Matched::T) where T<:Union{Int128, Int16, Int32, Int64, Int8, UInt128, UInt16, UInt32, UInt64, UInt8} at /usr/share/julia/base/int.jl:87\n  +(::Union{Int16, Int32, Int64, Int8}, !Matched::BigInt) at /usr/share/julia/base/gmp.jl:535\n  ...",
     "output_type": "error",
     "traceback": [
      "MethodError: no method matching +(::Int64, ::Matrix{Int64})\n",
      "For element-wise addition, use broadcasting with dot syntax: scalar .+ array\n",
      "Closest candidates are:\n",
      "  +(::Any, ::Any, !Matched::Any, !Matched::Any...) at /usr/share/julia/base/operators.jl:655\n",
      "  +(::T, !Matched::T) where T<:Union{Int128, Int16, Int32, Int64, Int8, UInt128, UInt16, UInt32, UInt64, UInt8} at /usr/share/julia/base/int.jl:87\n",
      "  +(::Union{Int16, Int32, Int64, Int8}, !Matched::BigInt) at /usr/share/julia/base/gmp.jl:535\n",
      "  ...\n",
      "\n",
      "Stacktrace:\n",
      "  [1] top-level scope\n",
      "    @ ~/Dropbox/2022/318-macro/git/Macro-318/notebooks/tut1_introduction.ipynb:1\n",
      "  [2] eval\n",
      "    @ ./boot.jl:373 [inlined]\n",
      "  [3] include_string(mapexpr::typeof(REPL.softscope), mod::Module, code::String, filename::String)\n",
      "    @ Base ./loading.jl:1196\n",
      "  [4] #invokelatest#2\n",
      "    @ ./essentials.jl:716 [inlined]\n",
      "  [5] invokelatest\n",
      "    @ ./essentials.jl:714 [inlined]\n",
      "  [6] (::VSCodeServer.var\"#150#151\"{VSCodeServer.NotebookRunCellArguments, String})()\n",
      "    @ VSCodeServer ~/.vscode/extensions/julialang.language-julia-1.5.10/scripts/packages/VSCodeServer/src/serve_notebook.jl:18\n",
      "  [7] withpath(f::VSCodeServer.var\"#150#151\"{VSCodeServer.NotebookRunCellArguments, String}, path::String)\n",
      "    @ VSCodeServer ~/.vscode/extensions/julialang.language-julia-1.5.10/scripts/packages/VSCodeServer/src/repl.jl:185\n",
      "  [8] notebook_runcell_request(conn::VSCodeServer.JSONRPC.JSONRPCEndpoint{Base.PipeEndpoint, Base.PipeEndpoint}, params::VSCodeServer.NotebookRunCellArguments)\n",
      "    @ VSCodeServer ~/.vscode/extensions/julialang.language-julia-1.5.10/scripts/packages/VSCodeServer/src/serve_notebook.jl:14\n",
      "  [9] dispatch_msg(x::VSCodeServer.JSONRPC.JSONRPCEndpoint{Base.PipeEndpoint, Base.PipeEndpoint}, dispatcher::VSCodeServer.JSONRPC.MsgDispatcher, msg::Dict{String, Any})\n",
      "    @ VSCodeServer.JSONRPC ~/.vscode/extensions/julialang.language-julia-1.5.10/scripts/packages/JSONRPC/src/typed.jl:67\n",
      " [10] serve_notebook(pipename::String; crashreporting_pipename::String)\n",
      "    @ VSCodeServer ~/.vscode/extensions/julialang.language-julia-1.5.10/scripts/packages/VSCodeServer/src/serve_notebook.jl:94\n",
      " [11] top-level scope\n",
      "    @ ~/.vscode/extensions/julialang.language-julia-1.5.10/scripts/notebook/notebook.jl:12\n",
      " [12] include(mod::Module, _path::String)\n",
      "    @ Base ./Base.jl:420\n",
      " [13] exec_options(opts::Base.JLOptions)\n",
      "    @ Base ./client.jl:292\n",
      " [14] _start()\n",
      "    @ Base ./client.jl:495"
     ]
    }
   ],
   "source": [
    "2 + Q  # Look at the first two line of the error message below "
   ]
  },
  {
   "cell_type": "markdown",
   "metadata": {},
   "source": [
    "The error message above (`no method matching +(::Int64, ::Matrix{Int64})`) is telling us in the first line that there is no way to add an integer to a matrix. It is basically saying that the plus operator does not know what to do when the types of the inputs are an integer and matrix. This is why types play such an important role in Julia. The plus operator looks at the types to decide what action to perform. If there is no action corresponding to the input types provided then we get a `MethodError`. \n",
    "\n",
    "In order to add the value of `2` to every component of the matrix, we need to `broadcast` the value of `2` across all the matrix components. We can think about this as adding the value of `2` elementwise. \n",
    "\n",
    "The error message here even tells us that this is the way to solve the problem, \n",
    "\n",
    "On the second line of the error message we have: For element-wise addition, use broadcasting with dot syntax: scalar .+ array\n",
    "\n",
    "Broadcasting can be done in Julia using the `.` operator. "
   ]
  },
  {
   "cell_type": "code",
   "execution_count": 27,
   "metadata": {},
   "outputs": [
    {
     "data": {
      "text/plain": [
       "3×3 Matrix{Int64}:\n",
       " 3   4   5\n",
       " 6   7   8\n",
       " 9  10  11"
      ]
     },
     "metadata": {},
     "output_type": "display_data"
    }
   ],
   "source": [
    "2 .+ Q # notice the `.` in front of the plus sign. "
   ]
  },
  {
   "cell_type": "code",
   "execution_count": 22,
   "metadata": {},
   "outputs": [
    {
     "data": {
      "text/plain": [
       "3×3 Matrix{Int64}:\n",
       "  30   36   42\n",
       "  66   81   96\n",
       " 102  126  150"
      ]
     },
     "metadata": {},
     "output_type": "display_data"
    }
   ],
   "source": [
    "Q*Q # matrix multiplication"
   ]
  },
  {
   "cell_type": "markdown",
   "metadata": {},
   "source": [
    "We can take the transpose of a matrix in two ways with Julia"
   ]
  },
  {
   "cell_type": "code",
   "execution_count": 20,
   "metadata": {},
   "outputs": [
    {
     "data": {
      "text/plain": [
       "3×3 adjoint(::Matrix{Int64}) with eltype Int64:\n",
       " 1  4  7\n",
       " 2  5  8\n",
       " 3  6  9"
      ]
     },
     "metadata": {},
     "output_type": "display_data"
    }
   ],
   "source": [
    "Q' # technically the adjoint"
   ]
  },
  {
   "cell_type": "code",
   "execution_count": 21,
   "metadata": {},
   "outputs": [
    {
     "data": {
      "text/plain": [
       "3×3 transpose(::Matrix{Int64}) with eltype Int64:\n",
       " 1  4  7\n",
       " 2  5  8\n",
       " 3  6  9"
      ]
     },
     "metadata": {},
     "output_type": "display_data"
    }
   ],
   "source": [
    "transpose(Q)"
   ]
  },
  {
   "cell_type": "code",
   "execution_count": 16,
   "metadata": {},
   "outputs": [
    {
     "data": {
      "text/plain": [
       "3×3 Matrix{Int64}:\n",
       " 66   78   90\n",
       " 78   93  108\n",
       " 90  108  126"
      ]
     },
     "metadata": {},
     "output_type": "display_data"
    }
   ],
   "source": [
    "Q'Q # multiplication of the transpose with the original matrix"
   ]
  },
  {
   "cell_type": "markdown",
   "metadata": {},
   "source": [
    "We will get back to linear algebra in some of the other tutorials, so keep it in the back of your mind. Linear algebra is easily one of my favourite math topics, so we will see it throughout the tutorials and lectures. \n",
    "\n",
    "If you want to know more about linear algebra in general, I recommend the Essence of Linear Algebra series by [3Blue1Brown](https://www.youtube.com/c/3blue1brown/featured) on Youtube. It is aimed at anyone with a passing interest in linear algebra and does not suppose any type of math background to enjoy.  "
   ]
  },
  {
   "cell_type": "markdown",
   "metadata": {},
   "source": [
    "## Linear algebra application: OLS"
   ]
  },
  {
   "cell_type": "markdown",
   "metadata": {},
   "source": [
    "One of the things that you covered in the econometrics section of the course was ordinary least squares. You were told that you can easily run a regression between a dependent variable $Y$ and and independent variable (or multiple variables) $X$. In Stata the command is pretty easy to do, it should be something like\n",
    "\n",
    "`regress y x`\n",
    "\n",
    "The mathematical specification for this regression is, \n",
    "\n",
    "$$Y = X\\beta + \\epsilon$$\n",
    "\n",
    "where $\\beta$ represents the OLS coefficient and $\\epsilon$ is the error term. We cannot obtain the true value for $\\beta$ from our data since we don't have access to the full population dataset. However, we can get an estimate of $\\beta$. \n",
    "\n",
    "One of the possible estimators is the least squares estimator. This is where the idea of Ordinary Least Squares enters. I am going to skip the math (you will do this in Honours), but after doing the appropriate derivation you will see that the least squares estimate of $\\beta$ turns out to be\n",
    "\n",
    "$$\\hat{\\beta} = (X'X)^{-1}X'Y$$\n",
    "\n",
    "The prime (`'`) means transpose and $(X'X)^{-1}$ indicates the inverse of $(X'X)$. You do not need to worry about how to take the inverse of a matrix, or even transposing, for now. You simply need to acknowledge that we are looking for a combination of matrix operations on the right hand side of the equation above.\n",
    "\n",
    "Let us try to code our own version of an OLS estimator using the equation above. \n",
    "\n",
    "The first thing to do is to generate some data for $X$. We start with a `100x3` matrix, which means that there are three explanatory variables in our model. \n"
   ]
  },
  {
   "cell_type": "code",
   "execution_count": 80,
   "metadata": {},
   "outputs": [
    {
     "data": {
      "text/plain": [
       "100×3 Matrix{Float64}:\n",
       "  0.862606  -0.206898     0.20497\n",
       "  1.62375    0.665794     0.648042\n",
       "  0.623238   1.8751      -0.0687461\n",
       "  1.81929    0.429393    -1.06214\n",
       " -0.305664  -0.903105     0.510143\n",
       "  0.799702  -0.112572    -0.966471\n",
       " -0.779581  -0.713021     0.622161\n",
       "  0.644635   0.132258    -0.0148067\n",
       "  0.274233  -0.0770982   -1.42329\n",
       " -1.27333    0.710964    -0.312542\n",
       "  ⋮                      \n",
       " -0.698411   0.83366      0.0182744\n",
       " -1.07655   -0.556744     0.241622\n",
       " -0.118494   0.00854454  -1.64243\n",
       "  0.178911  -0.471319    -0.0696868\n",
       "  1.77707    0.414951     0.798861\n",
       " -0.514972   1.06446     -0.710531\n",
       "  1.15859   -0.457106    -0.301277\n",
       " -1.15692   -0.125883    -0.0500615\n",
       "  0.643338   1.31523     -1.17606"
      ]
     },
     "metadata": {},
     "output_type": "display_data"
    }
   ],
   "source": [
    "X = randn(100, 3) # 100x3 matrix of independent variables"
   ]
  },
  {
   "cell_type": "markdown",
   "metadata": {},
   "source": [
    "Next we will change the first column to a constant column containing only ones. This is done so that there is a constant term in the regression. You have spoken about the need for a constant term in the regression with Marisa. "
   ]
  },
  {
   "cell_type": "code",
   "execution_count": 81,
   "metadata": {},
   "outputs": [
    {
     "data": {
      "text/plain": [
       "100-element Vector{Float64}:\n",
       " 1.0\n",
       " 1.0\n",
       " 1.0\n",
       " 1.0\n",
       " 1.0\n",
       " 1.0\n",
       " 1.0\n",
       " 1.0\n",
       " 1.0\n",
       " 1.0\n",
       " ⋮\n",
       " 1.0\n",
       " 1.0\n",
       " 1.0\n",
       " 1.0\n",
       " 1.0\n",
       " 1.0\n",
       " 1.0\n",
       " 1.0\n",
       " 1.0"
      ]
     },
     "metadata": {},
     "output_type": "display_data"
    }
   ],
   "source": [
    "X[:, 1] = ones(size(X, 1))"
   ]
  },
  {
   "cell_type": "code",
   "execution_count": 82,
   "metadata": {},
   "outputs": [
    {
     "data": {
      "text/plain": [
       "100×3 Matrix{Float64}:\n",
       " 1.0  -0.206898     0.20497\n",
       " 1.0   0.665794     0.648042\n",
       " 1.0   1.8751      -0.0687461\n",
       " 1.0   0.429393    -1.06214\n",
       " 1.0  -0.903105     0.510143\n",
       " 1.0  -0.112572    -0.966471\n",
       " 1.0  -0.713021     0.622161\n",
       " 1.0   0.132258    -0.0148067\n",
       " 1.0  -0.0770982   -1.42329\n",
       " 1.0   0.710964    -0.312542\n",
       " ⋮                 \n",
       " 1.0   0.83366      0.0182744\n",
       " 1.0  -0.556744     0.241622\n",
       " 1.0   0.00854454  -1.64243\n",
       " 1.0  -0.471319    -0.0696868\n",
       " 1.0   0.414951     0.798861\n",
       " 1.0   1.06446     -0.710531\n",
       " 1.0  -0.457106    -0.301277\n",
       " 1.0  -0.125883    -0.0500615\n",
       " 1.0   1.31523     -1.17606"
      ]
     },
     "metadata": {},
     "output_type": "display_data"
    }
   ],
   "source": [
    "X # let us see what X looks like now"
   ]
  },
  {
   "cell_type": "markdown",
   "metadata": {},
   "source": [
    "Next we want to define the true coefficient values and combine them in a vector. "
   ]
  },
  {
   "cell_type": "code",
   "execution_count": 83,
   "metadata": {},
   "outputs": [
    {
     "data": {
      "text/plain": [
       "3-element Vector{Float64}:\n",
       "  6.0\n",
       "  3.0\n",
       " -1.0"
      ]
     },
     "metadata": {},
     "output_type": "display_data"
    }
   ],
   "source": [
    "β = [6.0, 3.0, -1.0]"
   ]
  },
  {
   "cell_type": "markdown",
   "metadata": {},
   "source": [
    "This then enables us to generate our $Y$ variable using the first equation from this section. "
   ]
  },
  {
   "cell_type": "code",
   "execution_count": 86,
   "metadata": {},
   "outputs": [],
   "source": [
    "Y = X*β + randn(size(X, 1));"
   ]
  },
  {
   "cell_type": "markdown",
   "metadata": {},
   "source": [
    "Now we need to try and get an estimate for $\\beta$ using the OLS equations provided above. "
   ]
  },
  {
   "cell_type": "code",
   "execution_count": 87,
   "metadata": {},
   "outputs": [
    {
     "data": {
      "text/plain": [
       "3-element Vector{Float64}:\n",
       "  5.948570103233764\n",
       "  2.9742310560435254\n",
       " -0.9699157672966404"
      ]
     },
     "metadata": {},
     "output_type": "display_data"
    }
   ],
   "source": [
    "β_hat = inv(X'X) * X'Y "
   ]
  },
  {
   "cell_type": "markdown",
   "metadata": {},
   "source": [
    "We see that the estimate for $\\beta$ is relatively close to the true value. Let us now determine how close the $\\hat{Y}$ is to the data generating process $Y$. We can do this by calculating the error and then squaring the errors, which gives us the sum of squared errors. "
   ]
  },
  {
   "cell_type": "code",
   "execution_count": 90,
   "metadata": {},
   "outputs": [
    {
     "data": {
      "text/plain": [
       "73.89324419200699"
      ]
     },
     "metadata": {},
     "output_type": "display_data"
    }
   ],
   "source": [
    "Y_hat = X * β_hat # predictions of Y using β_hat\n",
    "e = Y_hat - Y # difference between predicted and actual values\n",
    "sse = e'e # sum of squared errors"
   ]
  },
  {
   "cell_type": "markdown",
   "metadata": {},
   "source": [
    "## Broadcasting"
   ]
  },
  {
   "cell_type": "markdown",
   "metadata": {},
   "source": [
    "Before we continue to the next section, let us just take a second to think about the idea of `broadcasting`.\n",
    "\n",
    "If you have a particular vector, such as `[1, 2, 3]`, then you might want to apply a certain operation to each of the elements in that vector. Perhaps you want to find out what the `sin` of each of those values are independently? In Julia we can simply use our dot syntax to enable this.  "
   ]
  },
  {
   "cell_type": "code",
   "execution_count": 55,
   "metadata": {},
   "outputs": [
    {
     "data": {
      "text/plain": [
       "3-element Vector{Int64}:\n",
       " 1\n",
       " 2\n",
       " 3"
      ]
     },
     "metadata": {},
     "output_type": "display_data"
    }
   ],
   "source": [
    "x = [1, 2, 3]"
   ]
  },
  {
   "cell_type": "code",
   "execution_count": 57,
   "metadata": {},
   "outputs": [
    {
     "data": {
      "text/plain": [
       "3-element Vector{Float64}:\n",
       " 0.8414709848078965\n",
       " 0.9092974268256817\n",
       " 0.1411200080598672"
      ]
     },
     "metadata": {},
     "output_type": "display_data"
    }
   ],
   "source": [
    "sin.(x) # what happens if we don't include the dot operator?"
   ]
  },
  {
   "cell_type": "markdown",
   "metadata": {},
   "source": [
    "You can see with this example that the `sin()` function has been applied to elementwise to the components of the vector. "
   ]
  },
  {
   "cell_type": "markdown",
   "metadata": {},
   "source": [
    "## Control flow"
   ]
  },
  {
   "cell_type": "markdown",
   "metadata": {},
   "source": [
    "In this section we will be looking at conditional statements and loops. \n",
    "\n",
    "Conditional statements provide branches to a program depending on a certain condition. The most recognisable conditional statement is the if-else statement. Consider the example below. "
   ]
  },
  {
   "cell_type": "code",
   "execution_count": null,
   "metadata": {},
   "outputs": [],
   "source": [
    "x = 1\n",
    "\n",
    "if x < 2\n",
    "    print(\"first\")\n",
    "elseif x > 4\n",
    "    print(\"second\")\n",
    "elseif x < 0\n",
    "    print(\"third\")\n",
    "else\n",
    "    print(\"fourth\")\n",
    "end "
   ]
  },
  {
   "cell_type": "markdown",
   "metadata": {},
   "source": [
    "One can also represent conditional statements via a ternary operator, this is often more compact. "
   ]
  },
  {
   "cell_type": "code",
   "execution_count": null,
   "metadata": {},
   "outputs": [],
   "source": [
    "x, y, z = 1, 3, true"
   ]
  },
  {
   "cell_type": "markdown",
   "metadata": {},
   "source": [
    "Can you make sense of what the expression below is saying? If you don't know then that is completely understandable. "
   ]
  },
  {
   "cell_type": "code",
   "execution_count": null,
   "metadata": {},
   "outputs": [],
   "source": [
    "z ? x : y "
   ]
  },
  {
   "cell_type": "markdown",
   "metadata": {},
   "source": [
    "The above can also be written as follows, in a more lengthy if-else fashion"
   ]
  },
  {
   "cell_type": "code",
   "execution_count": null,
   "metadata": {},
   "outputs": [],
   "source": [
    "if z \n",
    "    x\n",
    "else \n",
    "    y\n",
    "end"
   ]
  },
  {
   "cell_type": "markdown",
   "metadata": {},
   "source": [
    "A shorter, and perhaps more understandable way would be the following. "
   ]
  },
  {
   "cell_type": "code",
   "execution_count": null,
   "metadata": {},
   "outputs": [],
   "source": [
    "ifelse(z, x, y) # This means, return x if z is true, otherwise return y. "
   ]
  },
  {
   "cell_type": "markdown",
   "metadata": {},
   "source": [
    "### Loops"
   ]
  },
  {
   "cell_type": "markdown",
   "metadata": {},
   "source": [
    "Avoid repeating code at ALL COSTS. Do not repeat yourself. This is the DRY principle in coding. "
   ]
  },
  {
   "cell_type": "code",
   "execution_count": null,
   "metadata": {},
   "outputs": [],
   "source": [
    "x = [0,1,2,3,4]"
   ]
  },
  {
   "cell_type": "code",
   "execution_count": null,
   "metadata": {},
   "outputs": [],
   "source": [
    "y_1 = [] # empty array (list in python)"
   ]
  },
  {
   "cell_type": "code",
   "execution_count": null,
   "metadata": {},
   "outputs": [],
   "source": [
    "append!(y_1, x[1] ^ 2)\n",
    "append!(y_1, x[2] ^ 2)\n",
    "append!(y_1, x[3] ^ 2)\n",
    "append!(y_1, x[4] ^ 2)\n",
    "append!(y_1, x[5] ^ 2)"
   ]
  },
  {
   "cell_type": "markdown",
   "metadata": {},
   "source": [
    "Generally we will encounter two types of loops. We get `for` loops and `while` loops. We will mostly focus on `for` loops here. They are best in cases when you know exactly how many times you want to loop. On the other hand, `while` loops are used when you want to keep looping till something in particular happens (some condition is met). \n",
    "\n",
    "Let us try and fill our array using a `for` loop. "
   ]
  },
  {
   "cell_type": "code",
   "execution_count": null,
   "metadata": {},
   "outputs": [],
   "source": [
    "y_2 = []"
   ]
  },
  {
   "cell_type": "markdown",
   "metadata": {},
   "source": [
    "In the following loop we will have 5 iterations. The array `y_2` will be altered. We refer to `y_2` as a **global** variable. We will talk about variable scope, local and global variables, later when we get to functions. "
   ]
  },
  {
   "cell_type": "code",
   "execution_count": null,
   "metadata": {},
   "outputs": [],
   "source": [
    "for i in x\n",
    "    append!(y_2, i ^ 2)\n",
    "    println(y_2)\n",
    "end"
   ]
  },
  {
   "cell_type": "code",
   "execution_count": null,
   "metadata": {},
   "outputs": [],
   "source": [
    "y_3 = []"
   ]
  },
  {
   "cell_type": "code",
   "execution_count": null,
   "metadata": {},
   "outputs": [],
   "source": [
    "for i in 0:4\n",
    "    append!(y_3, i ^ 2)\n",
    "    println(y_3)\n",
    "end"
   ]
  },
  {
   "cell_type": "code",
   "execution_count": null,
   "metadata": {},
   "outputs": [],
   "source": [
    "y_4 = [i ^ 2 for i in x] # array comprehension -- we will mention this again later on"
   ]
  },
  {
   "cell_type": "markdown",
   "metadata": {},
   "source": [
    "We could also use double for loops! This means that we nest a loop within another loop. This is used a lot in practice. Let us look at the following code to fill the entries of a matrix. "
   ]
  },
  {
   "cell_type": "code",
   "execution_count": 30,
   "metadata": {},
   "outputs": [
    {
     "data": {
      "text/plain": [
       "(4, 3)"
      ]
     },
     "metadata": {},
     "output_type": "display_data"
    }
   ],
   "source": [
    "(a, b) = (4, 3)"
   ]
  },
  {
   "cell_type": "code",
   "execution_count": 58,
   "metadata": {},
   "outputs": [
    {
     "data": {
      "text/plain": [
       "4×3 Matrix{Int64}:\n",
       " 0  0  0\n",
       " 0  0  0\n",
       " 0  0  0\n",
       " 0  0  0"
      ]
     },
     "metadata": {},
     "output_type": "display_data"
    }
   ],
   "source": [
    "matrix_x = zeros(Int, (a, b))"
   ]
  },
  {
   "cell_type": "markdown",
   "metadata": {},
   "source": [
    "You should be able to evaluate this piece of code if you go through it slowly. You have been provided all the tools to do this. "
   ]
  },
  {
   "cell_type": "code",
   "execution_count": 63,
   "metadata": {},
   "outputs": [
    {
     "data": {
      "text/plain": [
       "4×3 Matrix{Int64}:\n",
       " 11  12  13\n",
       " 21  22  23\n",
       " 31  32  33\n",
       " 41  42  43"
      ]
     },
     "metadata": {},
     "output_type": "display_data"
    }
   ],
   "source": [
    "for i in 1:a \n",
    "    for j in 1:b\n",
    "    matrix_x[i, j] = 10 * i + j\n",
    "    end\n",
    "    return matrix_x\n",
    "end"
   ]
  },
  {
   "cell_type": "markdown",
   "metadata": {},
   "source": [
    "### Iterables"
   ]
  },
  {
   "cell_type": "code",
   "execution_count": null,
   "metadata": {},
   "outputs": [],
   "source": [
    "actions = [\"watch Netflix\", \"like 318 homework\"]"
   ]
  },
  {
   "cell_type": "code",
   "execution_count": null,
   "metadata": {},
   "outputs": [],
   "source": [
    "for action in actions\n",
    "    println(\"Peter doesn't $action\")\n",
    "end"
   ]
  },
  {
   "cell_type": "code",
   "execution_count": null,
   "metadata": {},
   "outputs": [],
   "source": [
    "for i in 1:3\n",
    "    println(i)\n",
    "end"
   ]
  },
  {
   "cell_type": "code",
   "execution_count": null,
   "metadata": {},
   "outputs": [],
   "source": [
    "x_values = 1:5"
   ]
  },
  {
   "cell_type": "code",
   "execution_count": null,
   "metadata": {},
   "outputs": [],
   "source": [
    "for x in x_values\n",
    "    println(x * x)\n",
    "end"
   ]
  },
  {
   "cell_type": "code",
   "execution_count": null,
   "metadata": {},
   "outputs": [],
   "source": [
    "for i in eachindex(x_values)\n",
    "    println(x_values[i] * x_values[i])\n",
    "end"
   ]
  },
  {
   "cell_type": "code",
   "execution_count": null,
   "metadata": {},
   "outputs": [],
   "source": [
    "countries = (\"Japan\", \"Korea\", \"China\")"
   ]
  },
  {
   "cell_type": "code",
   "execution_count": null,
   "metadata": {},
   "outputs": [],
   "source": [
    "cities = (\"Tokyo\", \"Seoul\", \"Beijing\")"
   ]
  },
  {
   "cell_type": "code",
   "execution_count": null,
   "metadata": {},
   "outputs": [],
   "source": [
    "for (country, city) in zip(countries, cities)\n",
    "    println(\"The capital of $country is $city\")\n",
    "end"
   ]
  },
  {
   "cell_type": "code",
   "execution_count": null,
   "metadata": {},
   "outputs": [],
   "source": [
    "for (i, country) in enumerate(countries)    \n",
    "    println(i, \" \", country)\n",
    "\n",
    "    #city = cities[i]\n",
    "    #println(\"The capital of $country is $city\")\n",
    "\n",
    "end"
   ]
  },
  {
   "cell_type": "markdown",
   "metadata": {},
   "source": [
    "### Comprehensions"
   ]
  },
  {
   "cell_type": "code",
   "execution_count": null,
   "metadata": {},
   "outputs": [],
   "source": [
    "doubles = [ 2i for i in 1:4 ]"
   ]
  },
  {
   "cell_type": "code",
   "execution_count": null,
   "metadata": {},
   "outputs": [],
   "source": [
    "[ i + j for i in 1:3, j in 4:6 ]"
   ]
  },
  {
   "cell_type": "markdown",
   "metadata": {},
   "source": [
    "### Break and continue (optional)"
   ]
  },
  {
   "cell_type": "markdown",
   "metadata": {},
   "source": [
    "I don't think that `break` and `continue` statements are easy to read and don't often use them. I think there are easier ways to write loops. However, here is an example that uses these control flow commands.  "
   ]
  },
  {
   "cell_type": "code",
   "execution_count": 78,
   "metadata": {},
   "outputs": [
    {
     "data": {
      "text/plain": [
       "10-element Vector{Int64}:\n",
       " 0\n",
       " 1\n",
       " 2\n",
       " 3\n",
       " 4\n",
       " 5\n",
       " 6\n",
       " 7\n",
       " 8\n",
       " 9"
      ]
     },
     "metadata": {},
     "output_type": "display_data"
    }
   ],
   "source": [
    "y_array = []\n",
    "x_array = collect(0:9)"
   ]
  },
  {
   "cell_type": "markdown",
   "metadata": {},
   "source": [
    "You don't have to spend too much time with this code. It is simply here to illustrate a basic point. Sometimes we will include `break` and `continue` statements within a loop that allow skipping and termination of loops at particular points. \n",
    "\n",
    "In the example below the `continue` statement states that if `i == 1` we continue the loop and then go to the next iteration. If we reach the point where `i == 4` then the  `break` command tells the computer to exit the `for` loop. "
   ]
  },
  {
   "cell_type": "code",
   "execution_count": 79,
   "metadata": {},
   "outputs": [
    {
     "name": "stdout",
     "output_type": "stream",
     "text": [
      "Any[1, 4]\n"
     ]
    }
   ],
   "source": [
    "for (i, x) in enumerate(x_array)\n",
    "    \n",
    "    if i == 1\n",
    "        continue\n",
    "    elseif i == 4\n",
    "        break\n",
    "    end\n",
    "    \n",
    "    append!(y_array, x^2)\n",
    "end\n",
    "\n",
    "println(y_array)"
   ]
  },
  {
   "cell_type": "markdown",
   "metadata": {},
   "source": [
    "## Functions\n",
    "\n",
    "Functions are key to writing more complex code. You should always write in terms of functions if possible. From mathematics we know that a function is an abstraction that takes in some input and returns an output. In the world of computing the idea is similar. Let us take a look at some functions below.\n",
    "\n",
    "The most common way to write a function is the following."
   ]
  },
  {
   "cell_type": "code",
   "execution_count": null,
   "metadata": {},
   "outputs": [],
   "source": [
    "function f(x) # function header\n",
    "    return x ^ 2 # body of the function\n",
    "end"
   ]
  },
  {
   "cell_type": "markdown",
   "metadata": {},
   "source": [
    "This function accepts one input and returns one output. Namely, it takes the value of `x` and then squares it. "
   ]
  },
  {
   "cell_type": "code",
   "execution_count": null,
   "metadata": {},
   "outputs": [],
   "source": [
    "f(2)"
   ]
  },
  {
   "cell_type": "markdown",
   "metadata": {},
   "source": [
    "A shorter way to write the same function is, "
   ]
  },
  {
   "cell_type": "code",
   "execution_count": null,
   "metadata": {},
   "outputs": [],
   "source": [
    "g(x) = x ^ 2"
   ]
  },
  {
   "cell_type": "code",
   "execution_count": null,
   "metadata": {},
   "outputs": [],
   "source": [
    "g(2)"
   ]
  },
  {
   "cell_type": "markdown",
   "metadata": {},
   "source": [
    "We could also use an anonymous function, as follows. "
   ]
  },
  {
   "cell_type": "code",
   "execution_count": null,
   "metadata": {},
   "outputs": [],
   "source": [
    "h = (x) -> x ^ 2 # Lambda or anonymous function"
   ]
  },
  {
   "cell_type": "code",
   "execution_count": null,
   "metadata": {},
   "outputs": [],
   "source": [
    "h(2)"
   ]
  },
  {
   "cell_type": "markdown",
   "metadata": {},
   "source": [
    "With the following function we have two inputs, `x` and `y`, that return one output. "
   ]
  },
  {
   "cell_type": "code",
   "execution_count": null,
   "metadata": {},
   "outputs": [],
   "source": [
    "function k(x, y)\n",
    "    \"\"\" This is a function that squares things \n",
    "    \n",
    "    k(x, y; a) \n",
    "\n",
    "    a is this keyword argument\n",
    "    \"\"\"\n",
    "    return x ^ 2 + y ^ 2\n",
    "end"
   ]
  },
  {
   "cell_type": "code",
   "execution_count": null,
   "metadata": {},
   "outputs": [],
   "source": [
    "k(2, 2)"
   ]
  },
  {
   "cell_type": "code",
   "execution_count": null,
   "metadata": {},
   "outputs": [],
   "source": [
    "function m(x, y)\n",
    "    z = x ^ 2\n",
    "    q = y ^ 2\n",
    "    \n",
    "    return z, q\n",
    "end"
   ]
  },
  {
   "cell_type": "code",
   "execution_count": null,
   "metadata": {},
   "outputs": [],
   "source": [
    "z, q = m(2, 2)"
   ]
  },
  {
   "cell_type": "code",
   "execution_count": null,
   "metadata": {},
   "outputs": [],
   "source": [
    "z"
   ]
  },
  {
   "cell_type": "code",
   "execution_count": null,
   "metadata": {},
   "outputs": [],
   "source": [
    "q"
   ]
  },
  {
   "cell_type": "markdown",
   "metadata": {},
   "source": [
    "### Type annotations for functions (optional)\n",
    "\n",
    "I just want to squeeze in a quick word about types here before we continue. This is an optional section and has more to do with the Julia type system. It is a bit more technical, so you can skip on the first reading. \n",
    "\n",
    "Within the Julia type system, we can restrict our function to only accept a certain type of input. We covered the different primitive types such as integers and floats. In order to do this all that you need to do is add `::TypeName` after the input argument for the function. Let us showcase this with an example. "
   ]
  },
  {
   "cell_type": "code",
   "execution_count": null,
   "metadata": {},
   "outputs": [],
   "source": [
    "fun_1(x::Int64) = x + 2\n",
    "fun_1(x::Float64) = x * 2 "
   ]
  },
  {
   "cell_type": "markdown",
   "metadata": {},
   "source": [
    "What you see above is that this function, `fun_1`, is a generic function with two **methods**. In the case above, the output that you receive depends on the **type** of input that you provide. This is an example of *multiple dispatch*. This is one of the unique selling points of Julia, that not many other languages have. \n",
    "\n",
    "Let us show how the return value differs based on different inputs. "
   ]
  },
  {
   "cell_type": "code",
   "execution_count": null,
   "metadata": {},
   "outputs": [],
   "source": [
    "fun_1(1)"
   ]
  },
  {
   "cell_type": "code",
   "execution_count": null,
   "metadata": {},
   "outputs": [],
   "source": [
    "fun_1(1.0)"
   ]
  },
  {
   "cell_type": "markdown",
   "metadata": {},
   "source": [
    "### What is `return`? (optional)\n",
    "\n",
    "We mentioned the return value in the previous section so let us talk about the `return` part of the function body. What does it actually represent? \n",
    "\n",
    "`return` basically instructs the program to exit the function and return the specified value. \n",
    "\n",
    "Let us look at an example of where the `return` part will prevent execution of other parts of the function. "
   ]
  },
  {
   "cell_type": "code",
   "execution_count": null,
   "metadata": {},
   "outputs": [],
   "source": [
    "function return_example_1(x)\n",
    "\n",
    "    if x > 5\n",
    "        return x + 5 # this will exit the function immediately\n",
    "\n",
    "        println(x - 9) # this will never execute, it is after the return\n",
    "    end\n",
    "\n",
    "    return x / 5 # if x <= then this will be returned\n",
    "end\n"
   ]
  },
  {
   "cell_type": "code",
   "execution_count": null,
   "metadata": {},
   "outputs": [],
   "source": [
    "return_example_1(1)"
   ]
  },
  {
   "cell_type": "code",
   "execution_count": null,
   "metadata": {},
   "outputs": [],
   "source": [
    "return_example_1(10) # notice that the `println(x - 9)` doesn't execute"
   ]
  },
  {
   "cell_type": "markdown",
   "metadata": {},
   "source": [
    "You don't have to write `return` in the body of the function. In Julia the function will return the last line of the function. However, it is good coding practice to write `return` so that you can see within the function what is being returned. "
   ]
  },
  {
   "cell_type": "code",
   "execution_count": null,
   "metadata": {},
   "outputs": [],
   "source": [
    "function return_example_2a(x)\n",
    "    y = x / 2 # this is the part that will be returned\n",
    "end"
   ]
  },
  {
   "cell_type": "code",
   "execution_count": null,
   "metadata": {},
   "outputs": [],
   "source": [
    "return_example_2a(4)"
   ]
  },
  {
   "cell_type": "code",
   "execution_count": null,
   "metadata": {},
   "outputs": [],
   "source": [
    "function return_example_2b(x)\n",
    "    y = x % 2 \n",
    "    x # this is now the part that will be returned\n",
    "end"
   ]
  },
  {
   "cell_type": "code",
   "execution_count": null,
   "metadata": {},
   "outputs": [],
   "source": [
    "return_example_2b(4)"
   ]
  },
  {
   "cell_type": "markdown",
   "metadata": {},
   "source": [
    "You can also get multiple values returned, "
   ]
  },
  {
   "cell_type": "code",
   "execution_count": null,
   "metadata": {},
   "outputs": [],
   "source": [
    "function return_example_2c(x)\n",
    "    y = x % 2 \n",
    "    y + x, y - x, y * x, y / x # this will generate multiple return values\n",
    "end"
   ]
  },
  {
   "cell_type": "code",
   "execution_count": null,
   "metadata": {},
   "outputs": [],
   "source": [
    "return_example_2c(4)"
   ]
  },
  {
   "cell_type": "markdown",
   "metadata": {},
   "source": [
    "You will notice that the return above has parentheses around it, which means that the values are contained in a tuple. Remember our discussion on tuples (an immutable type) from earlier.  "
   ]
  },
  {
   "cell_type": "markdown",
   "metadata": {},
   "source": [
    "### Scope"
   ]
  },
  {
   "cell_type": "code",
   "execution_count": null,
   "metadata": {},
   "outputs": [],
   "source": [
    "a = 2 # global variable"
   ]
  },
  {
   "cell_type": "code",
   "execution_count": null,
   "metadata": {},
   "outputs": [],
   "source": [
    "function f(x)\n",
    "    return x ^ a\n",
    "end"
   ]
  },
  {
   "cell_type": "code",
   "execution_count": null,
   "metadata": {},
   "outputs": [],
   "source": [
    "function g(x; a = 2)\n",
    "    return x ^ a\n",
    "end"
   ]
  },
  {
   "cell_type": "code",
   "execution_count": null,
   "metadata": {},
   "outputs": [],
   "source": [
    "function h(x)\n",
    "    a = 2 # a is local \n",
    "    return x ^ a\n",
    "end"
   ]
  },
  {
   "cell_type": "code",
   "execution_count": null,
   "metadata": {},
   "outputs": [],
   "source": [
    "f(2), g(2), h(2)"
   ]
  },
  {
   "cell_type": "code",
   "execution_count": null,
   "metadata": {},
   "outputs": [],
   "source": [
    "a += 1"
   ]
  },
  {
   "cell_type": "code",
   "execution_count": null,
   "metadata": {},
   "outputs": [],
   "source": [
    "f(2), g(2), h(2)"
   ]
  },
  {
   "cell_type": "markdown",
   "metadata": {},
   "source": [
    "Never rely on global variables! "
   ]
  },
  {
   "cell_type": "markdown",
   "metadata": {},
   "source": [
    "### Keyword arguments"
   ]
  },
  {
   "cell_type": "code",
   "execution_count": null,
   "metadata": {},
   "outputs": [],
   "source": [
    "function p(x, y; a = 2, b = 2)\n",
    "    return x ^ a + y ^ b\n",
    "end"
   ]
  },
  {
   "cell_type": "code",
   "execution_count": null,
   "metadata": {},
   "outputs": [],
   "source": [
    "p(2, 4)"
   ]
  },
  {
   "cell_type": "code",
   "execution_count": null,
   "metadata": {},
   "outputs": [],
   "source": [
    "p(2, 4, b = 4)"
   ]
  },
  {
   "cell_type": "code",
   "execution_count": null,
   "metadata": {},
   "outputs": [],
   "source": [
    "p(2, 4, a = 4)"
   ]
  },
  {
   "cell_type": "markdown",
   "metadata": {},
   "source": [
    "## Floating point numbers"
   ]
  },
  {
   "cell_type": "markdown",
   "metadata": {},
   "source": [
    "Quick introduction to the idea of floating point numbers"
   ]
  },
  {
   "cell_type": "code",
   "execution_count": null,
   "metadata": {},
   "outputs": [],
   "source": [
    "x = 0.1"
   ]
  },
  {
   "cell_type": "code",
   "execution_count": null,
   "metadata": {},
   "outputs": [],
   "source": [
    "10 * x"
   ]
  },
  {
   "cell_type": "markdown",
   "metadata": {},
   "source": [
    "Simple sums don't always give the answers that you would expect."
   ]
  },
  {
   "cell_type": "code",
   "execution_count": null,
   "metadata": {},
   "outputs": [],
   "source": [
    "x + x + x + x + x + x + x + x + x + x"
   ]
  },
  {
   "cell_type": "markdown",
   "metadata": {},
   "source": [
    "Another surprising result"
   ]
  },
  {
   "cell_type": "code",
   "execution_count": null,
   "metadata": {},
   "outputs": [],
   "source": [
    "0.1 == 0.10000000000000001"
   ]
  },
  {
   "cell_type": "markdown",
   "metadata": {},
   "source": [
    "Comparison of floating point numbers is therefore problematic"
   ]
  },
  {
   "cell_type": "code",
   "execution_count": null,
   "metadata": {},
   "outputs": [],
   "source": [
    "a = 0.001\n",
    "b = 11.11\n",
    "c = 1000\n",
    "test = (a*c)/(b*c) == a/b"
   ]
  },
  {
   "cell_type": "markdown",
   "metadata": {},
   "source": [
    "## Basic plotting "
   ]
  },
  {
   "cell_type": "markdown",
   "metadata": {},
   "source": [
    "Let us show the basic principles of plotting Julia. There is a lot to learn about visualisation in Julia, we only showcase a small portion here. "
   ]
  },
  {
   "cell_type": "code",
   "execution_count": 52,
   "metadata": {},
   "outputs": [
    {
     "data": {
      "text/plain": [
       "-3.0:0.06060606060606061:5.96969696969697"
      ]
     },
     "metadata": {},
     "output_type": "display_data"
    }
   ],
   "source": [
    "x = -3:6/99:6"
   ]
  },
  {
   "cell_type": "code",
   "execution_count": 53,
   "metadata": {},
   "outputs": [
    {
     "data": {
      "text/plain": [
       "fn1 (generic function with 1 method)"
      ]
     },
     "metadata": {},
     "output_type": "display_data"
    }
   ],
   "source": [
    "function fn1(x) #define a new function to plot \n",
    "    y = (x-1.1)^2 - 0.5\n",
    "    return y\n",
    "  end  "
   ]
  },
  {
   "cell_type": "code",
   "execution_count": 54,
   "metadata": {},
   "outputs": [
    {
     "data": {
      "image/png": "[encoded data removed]",
      "image/svg+xml": "<?xml version=\"1.0\" encoding=\"utf-8\"?>\n<svg xmlns=\"http://www.w3.org/2000/svg\" xmlns:xlink=\"http://www.w3.org/1999/xlink\" width=\"600\" height=\"400\" viewBox=\"0 0 2400 1600\">\n<defs>\n  <clipPath id=\"clip760\">\n    <rect x=\"0\" y=\"0\" width=\"2400\" height=\"1600\"/>\n  </clipPath>\n</defs>\n<path clip-path=\"url(#clip760)\" d=\"\nM0 1600 L2400 1600 L2400 0 L0 0  Z\n  \" fill=\"#ffffff\" fill-rule=\"evenodd\" fill-opacity=\"1\"/>\n<defs>\n  <clipPath id=\"clip761\">\n    <rect x=\"480\" y=\"0\" width=\"1681\" height=\"1600\"/>\n  </clipPath>\n</defs>\n<path clip-path=\"url(#clip760)\" d=\"\nM203.964 1423.18 L2352.76 1423.18 L2352.76 123.472 L203.964 123.472  Z\n  \" fill=\"#ffffff\" fill-rule=\"evenodd\" fill-opacity=\"1\"/>\n<defs>\n  <clipPath id=\"clip762\">\n    <rect x=\"203\" y=\"123\" width=\"2150\" height=\"1301\"/>\n  </clipPath>\n</defs>\n<polyline clip-path=\"url(#clip762)\" style=\"stroke:#000000; stroke-linecap:butt; stroke-linejoin:round; stroke-width:2; stroke-opacity:0.1; fill:none\" points=\"\n  490.78,1423.18 490.78,123.472 \n  \"/>\n<polyline clip-path=\"url(#clip762)\" style=\"stroke:#000000; stroke-linecap:butt; stroke-linejoin:round; stroke-width:2; stroke-opacity:0.1; fill:none\" points=\"\n  942.782,1423.18 942.782,123.472 \n  \"/>\n<polyline clip-path=\"url(#clip762)\" style=\"stroke:#000000; stroke-linecap:butt; stroke-linejoin:round; stroke-width:2; stroke-opacity:0.1; fill:none\" points=\"\n  1394.78,1423.18 1394.78,123.472 \n  \"/>\n<polyline clip-path=\"url(#clip762)\" style=\"stroke:#000000; stroke-linecap:butt; stroke-linejoin:round; stroke-width:2; stroke-opacity:0.1; fill:none\" points=\"\n  1846.79,1423.18 1846.79,123.472 \n  \"/>\n<polyline clip-path=\"url(#clip762)\" style=\"stroke:#000000; stroke-linecap:butt; stroke-linejoin:round; stroke-width:2; stroke-opacity:0.1; fill:none\" points=\"\n  2298.79,1423.18 2298.79,123.472 \n  \"/>\n<polyline clip-path=\"url(#clip760)\" style=\"stroke:#000000; stroke-linecap:butt; stroke-linejoin:round; stroke-width:4; stroke-opacity:1; fill:none\" points=\"\n  203.964,1423.18 2352.76,1423.18 \n  \"/>\n<polyline clip-path=\"url(#clip760)\" style=\"stroke:#000000; stroke-linecap:butt; stroke-linejoin:round; stroke-width:4; stroke-opacity:1; fill:none\" points=\"\n  490.78,1423.18 490.78,1404.28 \n  \"/>\n<polyline clip-path=\"url(#clip760)\" style=\"stroke:#000000; stroke-linecap:butt; stroke-linejoin:round; stroke-width:4; stroke-opacity:1; fill:none\" points=\"\n  942.782,1423.18 942.782,1404.28 \n  \"/>\n<polyline clip-path=\"url(#clip760)\" style=\"stroke:#000000; stroke-linecap:butt; stroke-linejoin:round; stroke-width:4; stroke-opacity:1; fill:none\" points=\"\n  1394.78,1423.18 1394.78,1404.28 \n  \"/>\n<polyline clip-path=\"url(#clip760)\" style=\"stroke:#000000; stroke-linecap:butt; stroke-linejoin:round; stroke-width:4; stroke-opacity:1; fill:none\" points=\"\n  1846.79,1423.18 1846.79,1404.28 \n  \"/>\n<polyline clip-path=\"url(#clip760)\" style=\"stroke:#000000; stroke-linecap:butt; stroke-linejoin:round; stroke-width:4; stroke-opacity:1; fill:none\" points=\"\n  2298.79,1423.18 2298.79,1404.28 \n  \"/>\n<path clip-path=\"url(#clip760)\" d=\"M460.722 1468.75 L490.398 1468.75 L490.398 1472.69 L460.722 1472.69 L460.722 1468.75 Z\" fill=\"#000000\" fill-rule=\"evenodd\" fill-opacity=\"1\" /><path clip-path=\"url(#clip760)\" d=\"M504.518 1481.64 L520.837 1481.64 L520.837 1485.58 L498.893 1485.58 L498.893 1481.64 Q501.555 1478.89 506.138 1474.26 Q510.745 1469.61 511.925 1468.27 Q514.171 1465.74 515.05 1464.01 Q515.953 1462.25 515.953 1460.56 Q515.953 1457.8 514.009 1456.07 Q512.087 1454.33 508.986 1454.33 Q506.787 1454.33 504.333 1455.09 Q501.902 1455.86 499.125 1457.41 L499.125 1452.69 Q501.949 1451.55 504.402 1450.97 Q506.856 1450.39 508.893 1450.39 Q514.263 1450.39 517.458 1453.08 Q520.652 1455.77 520.652 1460.26 Q520.652 1462.39 519.842 1464.31 Q519.055 1466.2 516.949 1468.8 Q516.37 1469.47 513.268 1472.69 Q510.166 1475.88 504.518 1481.64 Z\" fill=\"#000000\" fill-rule=\"evenodd\" fill-opacity=\"1\" /><path clip-path=\"url(#clip760)\" d=\"M942.782 1454.1 Q939.171 1454.1 937.342 1457.66 Q935.537 1461.2 935.537 1468.33 Q935.537 1475.44 937.342 1479.01 Q939.171 1482.55 942.782 1482.55 Q946.416 1482.55 948.222 1479.01 Q950.051 1475.44 950.051 1468.33 Q950.051 1461.2 948.222 1457.66 Q946.416 1454.1 942.782 1454.1 M942.782 1450.39 Q948.592 1450.39 951.648 1455 Q954.727 1459.58 954.727 1468.33 Q954.727 1477.06 951.648 1481.67 Q948.592 1486.25 942.782 1486.25 Q936.972 1486.25 933.893 1481.67 Q930.838 1477.06 930.838 1468.33 Q930.838 1459.58 933.893 1455 Q936.972 1450.39 942.782 1450.39 Z\" fill=\"#000000\" fill-rule=\"evenodd\" fill-opacity=\"1\" /><path clip-path=\"url(#clip760)\" d=\"M1389.44 1481.64 L1405.76 1481.64 L1405.76 1485.58 L1383.81 1485.58 L1383.81 1481.64 Q1386.47 1478.89 1391.06 1474.26 Q1395.66 1469.61 1396.84 1468.27 Q1399.09 1465.74 1399.97 1464.01 Q1400.87 1462.25 1400.87 1460.56 Q1400.87 1457.8 1398.93 1456.07 Q1397.01 1454.33 1393.9 1454.33 Q1391.71 1454.33 1389.25 1455.09 Q1386.82 1455.86 1384.04 1457.41 L1384.04 1452.69 Q1386.87 1451.55 1389.32 1450.97 Q1391.78 1450.39 1393.81 1450.39 Q1399.18 1450.39 1402.38 1453.08 Q1405.57 1455.77 1405.57 1460.26 Q1405.57 1462.39 1404.76 1464.31 Q1403.97 1466.2 1401.87 1468.8 Q1401.29 1469.47 1398.19 1472.69 Q1395.09 1475.88 1389.44 1481.64 Z\" fill=\"#000000\" fill-rule=\"evenodd\" fill-opacity=\"1\" /><path clip-path=\"url(#clip760)\" d=\"M1849.8 1455.09 L1837.99 1473.54 L1849.8 1473.54 L1849.8 1455.09 M1848.57 1451.02 L1854.45 1451.02 L1854.45 1473.54 L1859.38 1473.54 L1859.38 1477.43 L1854.45 1477.43 L1854.45 1485.58 L1849.8 1485.58 L1849.8 1477.43 L1834.19 1477.43 L1834.19 1472.92 L1848.57 1451.02 Z\" fill=\"#000000\" fill-rule=\"evenodd\" fill-opacity=\"1\" /><path clip-path=\"url(#clip760)\" d=\"M2299.19 1466.44 Q2296.05 1466.44 2294.19 1468.59 Q2292.37 1470.74 2292.37 1474.49 Q2292.37 1478.22 2294.19 1480.39 Q2296.05 1482.55 2299.19 1482.55 Q2302.34 1482.55 2304.17 1480.39 Q2306.02 1478.22 2306.02 1474.49 Q2306.02 1470.74 2304.17 1468.59 Q2302.34 1466.44 2299.19 1466.44 M2308.48 1451.78 L2308.48 1456.04 Q2306.72 1455.21 2304.91 1454.77 Q2303.13 1454.33 2301.37 1454.33 Q2296.74 1454.33 2294.29 1457.45 Q2291.86 1460.58 2291.51 1466.9 Q2292.88 1464.89 2294.94 1463.82 Q2297 1462.73 2299.47 1462.73 Q2304.68 1462.73 2307.69 1465.9 Q2310.72 1469.05 2310.72 1474.49 Q2310.72 1479.82 2307.57 1483.03 Q2304.43 1486.25 2299.19 1486.25 Q2293.2 1486.25 2290.03 1481.67 Q2286.86 1477.06 2286.86 1468.33 Q2286.86 1460.14 2290.75 1455.28 Q2294.63 1450.39 2301.19 1450.39 Q2302.94 1450.39 2304.73 1450.74 Q2306.53 1451.09 2308.48 1451.78 Z\" fill=\"#000000\" fill-rule=\"evenodd\" fill-opacity=\"1\" /><path clip-path=\"url(#clip760)\" d=\"M1294.97 1532.4 L1282.08 1549.74 L1295.64 1568.04 L1288.74 1568.04 L1278.36 1554.04 L1267.98 1568.04 L1261.08 1568.04 L1274.92 1549.39 L1262.25 1532.4 L1269.16 1532.4 L1278.61 1545.1 L1288.07 1532.4 L1294.97 1532.4 Z\" fill=\"#000000\" fill-rule=\"evenodd\" fill-opacity=\"1\" /><polyline clip-path=\"url(#clip762)\" style=\"stroke:#000000; stroke-linecap:butt; stroke-linejoin:round; stroke-width:2; stroke-opacity:0.1; fill:none\" points=\"\n  203.964,1335.77 2352.76,1335.77 \n  \"/>\n<polyline clip-path=\"url(#clip762)\" style=\"stroke:#000000; stroke-linecap:butt; stroke-linejoin:round; stroke-width:2; stroke-opacity:0.1; fill:none\" points=\"\n  203.964,1082.58 2352.76,1082.58 \n  \"/>\n<polyline clip-path=\"url(#clip762)\" style=\"stroke:#000000; stroke-linecap:butt; stroke-linejoin:round; stroke-width:2; stroke-opacity:0.1; fill:none\" points=\"\n  203.964,829.386 2352.76,829.386 \n  \"/>\n<polyline clip-path=\"url(#clip762)\" style=\"stroke:#000000; stroke-linecap:butt; stroke-linejoin:round; stroke-width:2; stroke-opacity:0.1; fill:none\" points=\"\n  203.964,576.196 2352.76,576.196 \n  \"/>\n<polyline clip-path=\"url(#clip762)\" style=\"stroke:#000000; stroke-linecap:butt; stroke-linejoin:round; stroke-width:2; stroke-opacity:0.1; fill:none\" points=\"\n  203.964,323.005 2352.76,323.005 \n  \"/>\n<polyline clip-path=\"url(#clip760)\" style=\"stroke:#000000; stroke-linecap:butt; stroke-linejoin:round; stroke-width:4; stroke-opacity:1; fill:none\" points=\"\n  203.964,1423.18 203.964,123.472 \n  \"/>\n<polyline clip-path=\"url(#clip760)\" style=\"stroke:#000000; stroke-linecap:butt; stroke-linejoin:round; stroke-width:4; stroke-opacity:1; fill:none\" points=\"\n  203.964,1335.77 222.861,1335.77 \n  \"/>\n<polyline clip-path=\"url(#clip760)\" style=\"stroke:#000000; stroke-linecap:butt; stroke-linejoin:round; stroke-width:4; stroke-opacity:1; fill:none\" points=\"\n  203.964,1082.58 222.861,1082.58 \n  \"/>\n<polyline clip-path=\"url(#clip760)\" style=\"stroke:#000000; stroke-linecap:butt; stroke-linejoin:round; stroke-width:4; stroke-opacity:1; fill:none\" points=\"\n  203.964,829.386 222.861,829.386 \n  \"/>\n<polyline clip-path=\"url(#clip760)\" style=\"stroke:#000000; stroke-linecap:butt; stroke-linejoin:round; stroke-width:4; stroke-opacity:1; fill:none\" points=\"\n  203.964,576.196 222.861,576.196 \n  \"/>\n<polyline clip-path=\"url(#clip760)\" style=\"stroke:#000000; stroke-linecap:butt; stroke-linejoin:round; stroke-width:4; stroke-opacity:1; fill:none\" points=\"\n  203.964,323.005 222.861,323.005 \n  \"/>\n<path clip-path=\"url(#clip760)\" d=\"M156.019 1321.57 Q152.408 1321.57 150.579 1325.13 Q148.774 1328.67 148.774 1335.8 Q148.774 1342.91 150.579 1346.47 Q152.408 1350.02 156.019 1350.02 Q159.653 1350.02 161.459 1346.47 Q163.288 1342.91 163.288 1335.8 Q163.288 1328.67 161.459 1325.13 Q159.653 1321.57 156.019 1321.57 M156.019 1317.86 Q161.829 1317.86 164.885 1322.47 Q167.964 1327.05 167.964 1335.8 Q167.964 1344.53 164.885 1349.14 Q161.829 1353.72 156.019 1353.72 Q150.209 1353.72 147.13 1349.14 Q144.075 1344.53 144.075 1335.8 Q144.075 1327.05 147.13 1322.47 Q150.209 1317.86 156.019 1317.86 Z\" fill=\"#000000\" fill-rule=\"evenodd\" fill-opacity=\"1\" /><path clip-path=\"url(#clip760)\" d=\"M147.061 1065.3 L165.417 1065.3 L165.417 1069.23 L151.343 1069.23 L151.343 1077.7 Q152.362 1077.36 153.38 1077.2 Q154.399 1077.01 155.417 1077.01 Q161.204 1077.01 164.584 1080.18 Q167.964 1083.35 167.964 1088.77 Q167.964 1094.35 164.491 1097.45 Q161.019 1100.53 154.7 1100.53 Q152.524 1100.53 150.255 1100.16 Q148.01 1099.79 145.603 1099.05 L145.603 1094.35 Q147.686 1095.48 149.908 1096.04 Q152.13 1096.59 154.607 1096.59 Q158.612 1096.59 160.95 1094.49 Q163.288 1092.38 163.288 1088.77 Q163.288 1085.16 160.95 1083.05 Q158.612 1080.95 154.607 1080.95 Q152.732 1080.95 150.857 1081.36 Q149.005 1081.78 147.061 1082.66 L147.061 1065.3 Z\" fill=\"#000000\" fill-rule=\"evenodd\" fill-opacity=\"1\" /><path clip-path=\"url(#clip760)\" d=\"M116.668 842.731 L124.306 842.731 L124.306 816.366 L115.996 818.032 L115.996 813.773 L124.26 812.106 L128.936 812.106 L128.936 842.731 L136.575 842.731 L136.575 846.666 L116.668 846.666 L116.668 842.731 Z\" fill=\"#000000\" fill-rule=\"evenodd\" fill-opacity=\"1\" /><path clip-path=\"url(#clip760)\" d=\"M156.019 815.185 Q152.408 815.185 150.579 818.75 Q148.774 822.292 148.774 829.421 Q148.774 836.528 150.579 840.092 Q152.408 843.634 156.019 843.634 Q159.653 843.634 161.459 840.092 Q163.288 836.528 163.288 829.421 Q163.288 822.292 161.459 818.75 Q159.653 815.185 156.019 815.185 M156.019 811.481 Q161.829 811.481 164.885 816.088 Q167.964 820.671 167.964 829.421 Q167.964 838.148 164.885 842.754 Q161.829 847.338 156.019 847.338 Q150.209 847.338 147.13 842.754 Q144.075 838.148 144.075 829.421 Q144.075 820.671 147.13 816.088 Q150.209 811.481 156.019 811.481 Z\" fill=\"#000000\" fill-rule=\"evenodd\" fill-opacity=\"1\" /><path clip-path=\"url(#clip760)\" d=\"M117.663 589.54 L125.302 589.54 L125.302 563.175 L116.992 564.841 L116.992 560.582 L125.255 558.916 L129.931 558.916 L129.931 589.54 L137.57 589.54 L137.57 593.476 L117.663 593.476 L117.663 589.54 Z\" fill=\"#000000\" fill-rule=\"evenodd\" fill-opacity=\"1\" /><path clip-path=\"url(#clip760)\" d=\"M147.061 558.916 L165.417 558.916 L165.417 562.851 L151.343 562.851 L151.343 571.323 Q152.362 570.976 153.38 570.814 Q154.399 570.628 155.417 570.628 Q161.204 570.628 164.584 573.8 Q167.964 576.971 167.964 582.388 Q167.964 587.966 164.491 591.068 Q161.019 594.147 154.7 594.147 Q152.524 594.147 150.255 593.776 Q148.01 593.406 145.603 592.665 L145.603 587.966 Q147.686 589.101 149.908 589.656 Q152.13 590.212 154.607 590.212 Q158.612 590.212 160.95 588.105 Q163.288 585.999 163.288 582.388 Q163.288 578.777 160.95 576.67 Q158.612 574.564 154.607 574.564 Q152.732 574.564 150.857 574.98 Q149.005 575.397 147.061 576.277 L147.061 558.916 Z\" fill=\"#000000\" fill-rule=\"evenodd\" fill-opacity=\"1\" /><path clip-path=\"url(#clip760)\" d=\"M119.885 336.35 L136.204 336.35 L136.204 340.285 L114.26 340.285 L114.26 336.35 Q116.922 333.595 121.505 328.965 Q126.112 324.313 127.292 322.97 Q129.538 320.447 130.417 318.711 Q131.32 316.952 131.32 315.262 Q131.32 312.507 129.376 310.771 Q127.455 309.035 124.353 309.035 Q122.154 309.035 119.7 309.799 Q117.269 310.563 114.492 312.114 L114.492 307.391 Q117.316 306.257 119.769 305.678 Q122.223 305.1 124.26 305.1 Q129.63 305.1 132.825 307.785 Q136.019 310.47 136.019 314.961 Q136.019 317.09 135.209 319.012 Q134.422 320.91 132.316 323.502 Q131.737 324.174 128.635 327.391 Q125.533 330.586 119.885 336.35 Z\" fill=\"#000000\" fill-rule=\"evenodd\" fill-opacity=\"1\" /><path clip-path=\"url(#clip760)\" d=\"M156.019 308.803 Q152.408 308.803 150.579 312.368 Q148.774 315.91 148.774 323.039 Q148.774 330.146 150.579 333.711 Q152.408 337.252 156.019 337.252 Q159.653 337.252 161.459 333.711 Q163.288 330.146 163.288 323.039 Q163.288 315.91 161.459 312.368 Q159.653 308.803 156.019 308.803 M156.019 305.1 Q161.829 305.1 164.885 309.706 Q167.964 314.29 167.964 323.039 Q167.964 331.766 164.885 336.373 Q161.829 340.956 156.019 340.956 Q150.209 340.956 147.13 336.373 Q144.075 331.766 144.075 323.039 Q144.075 314.29 147.13 309.706 Q150.209 305.1 156.019 305.1 Z\" fill=\"#000000\" fill-rule=\"evenodd\" fill-opacity=\"1\" /><path clip-path=\"url(#clip760)\" d=\"M35.1993 1008.94 Q31.2526 1006.74 29.3747 1003.68 Q27.4968 1000.63 27.4968 996.492 Q27.4968 990.922 31.4117 987.898 Q35.2948 984.874 42.4881 984.874 L64.0042 984.874 L64.0042 990.763 L42.679 990.763 Q37.5546 990.763 35.072 992.577 Q32.5894 994.391 32.5894 998.115 Q32.5894 1002.67 35.6131 1005.31 Q38.6368 1007.95 43.8567 1007.95 L64.0042 1007.95 L64.0042 1013.84 L42.679 1013.84 Q37.5228 1013.84 35.072 1015.65 Q32.5894 1017.47 32.5894 1021.25 Q32.5894 1025.74 35.6449 1028.38 Q38.6686 1031.03 43.8567 1031.03 L64.0042 1031.03 L64.0042 1036.91 L28.3562 1036.91 L28.3562 1031.03 L33.8944 1031.03 Q30.616 1029.02 29.0564 1026.22 Q27.4968 1023.42 27.4968 1019.57 Q27.4968 1015.68 29.4702 1012.98 Q31.4436 1010.24 35.1993 1008.94 Z\" fill=\"#000000\" fill-rule=\"evenodd\" fill-opacity=\"1\" /><path clip-path=\"url(#clip760)\" d=\"M67.3143 958.361 Q73.68 960.844 75.6216 963.199 Q77.5631 965.554 77.5631 969.501 L77.5631 974.18 L72.6615 974.18 L72.6615 970.742 Q72.6615 968.323 71.5157 966.987 Q70.3699 965.65 66.1048 964.027 L63.4312 962.976 L28.3562 977.395 L28.3562 971.188 L56.238 960.048 L28.3562 948.908 L28.3562 942.702 L67.3143 958.361 Z\" fill=\"#000000\" fill-rule=\"evenodd\" fill-opacity=\"1\" /><path clip-path=\"url(#clip760)\" d=\"M32.4621 900.083 Q32.4621 904.794 36.1542 907.531 Q39.8145 910.268 46.212 910.268 Q52.6095 910.268 56.3017 907.563 Q59.9619 904.826 59.9619 900.083 Q59.9619 895.404 56.2698 892.667 Q52.5777 889.93 46.212 889.93 Q39.8781 889.93 36.186 892.667 Q32.4621 895.404 32.4621 900.083 M27.4968 900.083 Q27.4968 892.444 32.4621 888.084 Q37.4273 883.723 46.212 883.723 Q54.9649 883.723 59.9619 888.084 Q64.9272 892.444 64.9272 900.083 Q64.9272 907.754 59.9619 912.114 Q54.9649 916.443 46.212 916.443 Q37.4273 916.443 32.4621 912.114 Q27.4968 907.754 27.4968 900.083 Z\" fill=\"#000000\" fill-rule=\"evenodd\" fill-opacity=\"1\" /><path clip-path=\"url(#clip760)\" d=\"M49.9359 874.62 L28.3562 874.62 L28.3562 868.764 L49.7131 868.764 Q54.7739 868.764 57.3202 866.79 Q59.8346 864.817 59.8346 860.87 Q59.8346 856.128 56.8109 853.391 Q53.7872 850.622 48.5673 850.622 L28.3562 850.622 L28.3562 844.765 L64.0042 844.765 L64.0042 850.622 L58.5296 850.622 Q61.7762 852.754 63.3676 855.587 Q64.9272 858.388 64.9272 862.112 Q64.9272 868.255 61.1078 871.437 Q57.2883 874.62 49.9359 874.62 M27.4968 859.884 L27.4968 859.884 Z\" fill=\"#000000\" fill-rule=\"evenodd\" fill-opacity=\"1\" /><path clip-path=\"url(#clip760)\" d=\"M18.2347 826.909 L28.3562 826.909 L28.3562 814.846 L32.9077 814.846 L32.9077 826.909 L52.2594 826.909 Q56.6199 826.909 57.8613 825.732 Q59.1026 824.522 59.1026 820.862 L59.1026 814.846 L64.0042 814.846 L64.0042 820.862 Q64.0042 827.641 61.4897 830.219 Q58.9434 832.798 52.2594 832.798 L32.9077 832.798 L32.9077 837.094 L28.3562 837.094 L28.3562 832.798 L18.2347 832.798 L18.2347 826.909 Z\" fill=\"#000000\" fill-rule=\"evenodd\" fill-opacity=\"1\" /><path clip-path=\"url(#clip760)\" d=\"M58.657 801.478 L77.5631 801.478 L77.5631 807.367 L28.3562 807.367 L28.3562 801.478 L33.7671 801.478 Q30.5842 799.632 29.0564 796.831 Q27.4968 793.999 27.4968 790.084 Q27.4968 783.591 32.6531 779.548 Q37.8093 775.474 46.212 775.474 Q54.6147 775.474 59.771 779.548 Q64.9272 783.591 64.9272 790.084 Q64.9272 793.999 63.3994 796.831 Q61.8398 799.632 58.657 801.478 M46.212 781.554 Q39.7508 781.554 36.0905 784.227 Q32.3984 786.869 32.3984 791.516 Q32.3984 796.163 36.0905 798.837 Q39.7508 801.478 46.212 801.478 Q52.6732 801.478 56.3653 798.837 Q60.0256 796.163 60.0256 791.516 Q60.0256 786.869 56.3653 784.227 Q52.6732 781.554 46.212 781.554 Z\" fill=\"#000000\" fill-rule=\"evenodd\" fill-opacity=\"1\" /><path clip-path=\"url(#clip760)\" d=\"M49.9359 766.371 L28.3562 766.371 L28.3562 760.515 L49.7131 760.515 Q54.7739 760.515 57.3202 758.542 Q59.8346 756.568 59.8346 752.622 Q59.8346 747.879 56.8109 745.142 Q53.7872 742.373 48.5673 742.373 L28.3562 742.373 L28.3562 736.516 L64.0042 736.516 L64.0042 742.373 L58.5296 742.373 Q61.7762 744.505 63.3676 747.338 Q64.9272 750.139 64.9272 753.863 Q64.9272 760.006 61.1078 763.189 Q57.2883 766.371 49.9359 766.371 M27.4968 751.635 L27.4968 751.635 Z\" fill=\"#000000\" fill-rule=\"evenodd\" fill-opacity=\"1\" /><path clip-path=\"url(#clip760)\" d=\"M18.2347 718.66 L28.3562 718.66 L28.3562 706.597 L32.9077 706.597 L32.9077 718.66 L52.2594 718.66 Q56.6199 718.66 57.8613 717.483 Q59.1026 716.273 59.1026 712.613 L59.1026 706.597 L64.0042 706.597 L64.0042 712.613 Q64.0042 719.393 61.4897 721.971 Q58.9434 724.549 52.2594 724.549 L32.9077 724.549 L32.9077 728.846 L28.3562 728.846 L28.3562 724.549 L18.2347 724.549 L18.2347 718.66 Z\" fill=\"#000000\" fill-rule=\"evenodd\" fill-opacity=\"1\" /><path clip-path=\"url(#clip760)\" d=\"M28.3562 682.376 L28.3562 676.169 L58.275 665.029 L28.3562 653.889 L28.3562 647.683 L64.0042 661.051 L64.0042 669.008 L28.3562 682.376 Z\" fill=\"#000000\" fill-rule=\"evenodd\" fill-opacity=\"1\" /><path clip-path=\"url(#clip760)\" d=\"M46.0847 623.398 Q46.0847 630.495 47.7079 633.233 Q49.3312 635.97 53.2461 635.97 Q56.3653 635.97 58.2114 633.933 Q60.0256 631.864 60.0256 628.331 Q60.0256 623.461 56.5881 620.533 Q53.1188 617.573 47.3897 617.573 L46.0847 617.573 L46.0847 623.398 M43.6657 611.717 L64.0042 611.717 L64.0042 617.573 L58.5933 617.573 Q61.8398 619.578 63.3994 622.57 Q64.9272 625.562 64.9272 629.891 Q64.9272 635.365 61.8716 638.612 Q58.7843 641.826 53.6281 641.826 Q47.6125 641.826 44.5569 637.816 Q41.5014 633.774 41.5014 625.785 L41.5014 617.573 L40.9285 617.573 Q36.8862 617.573 34.6901 620.247 Q32.4621 622.888 32.4621 627.695 Q32.4621 630.75 33.1941 633.646 Q33.9262 636.543 35.3903 639.216 L29.9795 639.216 Q28.7381 636.002 28.1334 632.978 Q27.4968 629.954 27.4968 627.09 Q27.4968 619.355 31.5072 615.536 Q35.5176 611.717 43.6657 611.717 Z\" fill=\"#000000\" fill-rule=\"evenodd\" fill-opacity=\"1\" /><path clip-path=\"url(#clip760)\" d=\"M14.479 599.654 L14.479 593.797 L64.0042 593.797 L64.0042 599.654 L14.479 599.654 Z\" fill=\"#000000\" fill-rule=\"evenodd\" fill-opacity=\"1\" /><path clip-path=\"url(#clip760)\" d=\"M49.9359 582.148 L28.3562 582.148 L28.3562 576.291 L49.7131 576.291 Q54.7739 576.291 57.3202 574.318 Q59.8346 572.345 59.8346 568.398 Q59.8346 563.656 56.8109 560.918 Q53.7872 558.149 48.5673 558.149 L28.3562 558.149 L28.3562 552.293 L64.0042 552.293 L64.0042 558.149 L58.5296 558.149 Q61.7762 560.282 63.3676 563.114 Q64.9272 565.915 64.9272 569.639 Q64.9272 575.782 61.1078 578.965 Q57.2883 582.148 49.9359 582.148 M27.4968 567.411 L27.4968 567.411 Z\" fill=\"#000000\" fill-rule=\"evenodd\" fill-opacity=\"1\" /><path clip-path=\"url(#clip760)\" d=\"M44.7161 509.738 L47.5806 509.738 L47.5806 536.665 Q53.6281 536.283 56.8109 533.036 Q59.9619 529.758 59.9619 523.934 Q59.9619 520.56 59.1344 517.409 Q58.3069 514.226 56.6518 511.107 L62.1899 511.107 Q63.5267 514.258 64.227 517.568 Q64.9272 520.878 64.9272 524.284 Q64.9272 532.814 59.9619 537.811 Q54.9967 542.776 46.5303 542.776 Q37.7774 542.776 32.6531 538.065 Q27.4968 533.323 27.4968 525.302 Q27.4968 518.109 32.1438 513.939 Q36.7589 509.738 44.7161 509.738 M42.9973 515.594 Q38.1912 515.658 35.3266 518.3 Q32.4621 520.91 32.4621 525.238 Q32.4621 530.14 35.2312 533.1 Q38.0002 536.028 43.0292 536.474 L42.9973 515.594 Z\" fill=\"#000000\" fill-rule=\"evenodd\" fill-opacity=\"1\" /><path clip-path=\"url(#clip760)\" d=\"M1061.15 12.096 L1073.34 12.096 L1088.78 53.2532 L1104.29 12.096 L1116.49 12.096 L1116.49 72.576 L1108.51 72.576 L1108.51 19.4686 L1092.91 60.9499 L1084.69 60.9499 L1069.09 19.4686 L1069.09 72.576 L1061.15 72.576 L1061.15 12.096 Z\" fill=\"#000000\" fill-rule=\"evenodd\" fill-opacity=\"1\" /><path clip-path=\"url(#clip760)\" d=\"M1151.28 76.7889 Q1148.12 84.8907 1145.13 87.3618 Q1142.13 89.8329 1137.1 89.8329 L1131.15 89.8329 L1131.15 83.5945 L1135.52 83.5945 Q1138.6 83.5945 1140.3 82.1361 Q1142.01 80.6778 1144.07 75.2496 L1145.41 71.8468 L1127.06 27.2059 L1134.96 27.2059 L1149.14 62.6918 L1163.31 27.2059 L1171.21 27.2059 L1151.28 76.7889 Z\" fill=\"#000000\" fill-rule=\"evenodd\" fill-opacity=\"1\" /><path clip-path=\"url(#clip760)\" d=\"M1236.88 44.2197 Q1239.51 45.1109 1241.98 48.0275 Q1244.49 50.9442 1247.01 56.0483 L1255.31 72.576 L1246.52 72.576 L1238.78 57.061 Q1235.78 50.9847 1232.95 48.9997 Q1230.15 47.0148 1225.29 47.0148 L1216.38 47.0148 L1216.38 72.576 L1208.2 72.576 L1208.2 12.096 L1226.67 12.096 Q1237.04 12.096 1242.14 16.4305 Q1247.25 20.7649 1247.25 29.5149 Q1247.25 35.2267 1244.58 38.994 Q1241.94 42.7613 1236.88 44.2197 M1216.38 18.8205 L1216.38 40.2903 L1226.67 40.2903 Q1232.58 40.2903 1235.58 37.5762 Q1238.62 34.8216 1238.62 29.5149 Q1238.62 24.2082 1235.58 21.5346 Q1232.58 18.8205 1226.67 18.8205 L1216.38 18.8205 Z\" fill=\"#000000\" fill-rule=\"evenodd\" fill-opacity=\"1\" /><path clip-path=\"url(#clip760)\" d=\"M1300.6 48.0275 L1300.6 51.6733 L1266.33 51.6733 Q1266.81 59.3701 1270.95 63.421 Q1275.12 67.4314 1282.53 67.4314 Q1286.83 67.4314 1290.84 66.3781 Q1294.89 65.3249 1298.86 63.2184 L1298.86 70.267 Q1294.85 71.9684 1290.63 72.8596 Q1286.42 73.7508 1282.09 73.7508 Q1271.23 73.7508 1264.87 67.4314 Q1258.55 61.1119 1258.55 50.3365 Q1258.55 39.1965 1264.55 32.6746 Q1270.58 26.1121 1280.79 26.1121 Q1289.95 26.1121 1295.25 32.0264 Q1300.6 37.9003 1300.6 48.0275 M1293.15 45.84 Q1293.06 39.7232 1289.7 36.0774 Q1286.38 32.4315 1280.87 32.4315 Q1274.63 32.4315 1270.87 35.9558 Q1267.14 39.4801 1266.57 45.8805 L1293.15 45.84 Z\" fill=\"#000000\" fill-rule=\"evenodd\" fill-opacity=\"1\" /><path clip-path=\"url(#clip760)\" d=\"M1341.76 28.5427 L1341.76 35.5912 Q1338.6 33.9709 1335.19 33.1607 Q1331.79 32.3505 1328.15 32.3505 Q1322.6 32.3505 1319.8 34.0519 Q1317.05 35.7533 1317.05 39.156 Q1317.05 41.7486 1319.03 43.2475 Q1321.02 44.7058 1327.01 46.0426 L1329.56 46.6097 Q1337.5 48.3111 1340.82 51.4303 Q1344.19 54.509 1344.19 60.0587 Q1344.19 66.3781 1339.16 70.0644 Q1334.18 73.7508 1325.43 73.7508 Q1321.79 73.7508 1317.82 73.0216 Q1313.89 72.3329 1309.51 70.9151 L1309.51 63.2184 Q1313.64 65.3654 1317.65 66.4591 Q1321.66 67.5124 1325.59 67.5124 Q1330.86 67.5124 1333.7 65.73 Q1336.53 63.9071 1336.53 60.6258 Q1336.53 57.5877 1334.46 55.9673 Q1332.44 54.3469 1325.51 52.8481 L1322.92 52.2405 Q1315.99 50.7821 1312.91 47.7845 Q1309.84 44.7463 1309.84 39.4801 Q1309.84 33.0797 1314.37 29.5959 Q1318.91 26.1121 1327.25 26.1121 Q1331.39 26.1121 1335.03 26.7198 Q1338.68 27.3274 1341.76 28.5427 Z\" fill=\"#000000\" fill-rule=\"evenodd\" fill-opacity=\"1\" /><path clip-path=\"url(#clip760)\" d=\"M1355.29 54.671 L1355.29 27.2059 L1362.74 27.2059 L1362.74 54.3874 Q1362.74 60.8284 1365.25 64.0691 Q1367.76 67.2693 1372.79 67.2693 Q1378.82 67.2693 1382.31 63.421 Q1385.83 59.5726 1385.83 52.9291 L1385.83 27.2059 L1393.28 27.2059 L1393.28 72.576 L1385.83 72.576 L1385.83 65.6084 Q1383.12 69.7404 1379.51 71.7658 Q1375.95 73.7508 1371.21 73.7508 Q1363.39 73.7508 1359.34 68.8897 Q1355.29 64.0286 1355.29 54.671 M1374.04 26.1121 L1374.04 26.1121 Z\" fill=\"#000000\" fill-rule=\"evenodd\" fill-opacity=\"1\" /><path clip-path=\"url(#clip760)\" d=\"M1408.64 9.54393 L1416.09 9.54393 L1416.09 72.576 L1408.64 72.576 L1408.64 9.54393 Z\" fill=\"#000000\" fill-rule=\"evenodd\" fill-opacity=\"1\" /><path clip-path=\"url(#clip760)\" d=\"M1439.06 14.324 L1439.06 27.2059 L1454.41 27.2059 L1454.41 32.9987 L1439.06 32.9987 L1439.06 57.6282 Q1439.06 63.1779 1440.56 64.7578 Q1442.1 66.3376 1446.76 66.3376 L1454.41 66.3376 L1454.41 72.576 L1446.76 72.576 Q1438.13 72.576 1434.85 69.3758 Q1431.56 66.1351 1431.56 57.6282 L1431.56 32.9987 L1426.1 32.9987 L1426.1 27.2059 L1431.56 27.2059 L1431.56 14.324 L1439.06 14.324 Z\" fill=\"#000000\" fill-rule=\"evenodd\" fill-opacity=\"1\" /><path clip-path=\"url(#clip760)\" d=\"M1493.14 28.5427 L1493.14 35.5912 Q1489.98 33.9709 1486.58 33.1607 Q1483.17 32.3505 1479.53 32.3505 Q1473.98 32.3505 1471.18 34.0519 Q1468.43 35.7533 1468.43 39.156 Q1468.43 41.7486 1470.41 43.2475 Q1472.4 44.7058 1478.39 46.0426 L1480.95 46.6097 Q1488.89 48.3111 1492.21 51.4303 Q1495.57 54.509 1495.57 60.0587 Q1495.57 66.3781 1490.55 70.0644 Q1485.56 73.7508 1476.81 73.7508 Q1473.17 73.7508 1469.2 73.0216 Q1465.27 72.3329 1460.89 70.9151 L1460.89 63.2184 Q1465.03 65.3654 1469.04 66.4591 Q1473.05 67.5124 1476.98 67.5124 Q1482.24 67.5124 1485.08 65.73 Q1487.91 63.9071 1487.91 60.6258 Q1487.91 57.5877 1485.85 55.9673 Q1483.82 54.3469 1476.89 52.8481 L1474.3 52.2405 Q1467.37 50.7821 1464.3 47.7845 Q1461.22 44.7463 1461.22 39.4801 Q1461.22 33.0797 1465.75 29.5959 Q1470.29 26.1121 1478.64 26.1121 Q1482.77 26.1121 1486.41 26.7198 Q1490.06 27.3274 1493.14 28.5427 Z\" fill=\"#000000\" fill-rule=\"evenodd\" fill-opacity=\"1\" /><polyline clip-path=\"url(#clip762)\" style=\"stroke:#ff0000; stroke-linecap:butt; stroke-linejoin:round; stroke-width:8; stroke-opacity:1; fill:none\" points=\"\n  264.778,509.86 278.475,534.839 292.173,559.447 305.87,583.682 319.567,607.546 333.264,631.038 346.961,654.157 360.658,676.905 374.355,699.281 388.052,721.284 \n  401.749,742.916 415.446,764.176 429.143,785.063 442.84,805.579 456.537,825.723 470.234,845.494 483.931,864.894 497.628,883.922 511.325,902.577 525.022,920.861 \n  538.719,938.773 552.416,956.312 566.113,973.48 579.81,990.276 593.508,1006.7 607.205,1022.75 620.902,1038.43 634.599,1053.74 648.296,1068.67 661.993,1083.24 \n  675.69,1097.43 689.387,1111.25 703.084,1124.7 716.781,1137.77 730.478,1150.48 744.175,1162.81 757.872,1174.77 771.569,1186.36 785.266,1197.57 798.963,1208.42 \n  812.66,1218.89 826.357,1228.99 840.054,1238.71 853.751,1248.07 867.448,1257.05 881.145,1265.67 894.842,1273.91 908.54,1281.77 922.237,1289.27 935.934,1296.39 \n  949.631,1303.14 963.328,1309.52 977.025,1315.53 990.722,1321.17 1004.42,1326.43 1018.12,1331.32 1031.81,1335.84 1045.51,1339.99 1059.21,1343.77 1072.9,1347.17 \n  1086.6,1350.2 1100.3,1352.86 1114,1355.15 1127.69,1357.07 1141.39,1358.61 1155.09,1359.78 1168.78,1360.58 1182.48,1361.01 1196.18,1361.06 1209.87,1360.75 \n  1223.57,1360.06 1237.27,1359 1250.97,1357.57 1264.66,1355.76 1278.36,1353.59 1292.06,1351.04 1305.75,1348.12 1319.45,1344.83 1333.15,1341.16 1346.84,1337.13 \n  1360.54,1332.72 1374.24,1327.94 1387.94,1322.79 1401.63,1317.26 1415.33,1311.37 1429.03,1305.1 1442.72,1298.46 1456.42,1291.44 1470.12,1284.06 1483.82,1276.3 \n  1497.51,1268.18 1511.21,1259.68 1524.91,1250.8 1538.6,1241.56 1552.3,1231.94 1566,1221.96 1579.69,1211.6 1593.39,1200.86 1607.09,1189.76 1620.79,1178.28 \n  1634.48,1166.44 1648.18,1154.22 1661.88,1141.62 1675.57,1128.66 1689.27,1115.32 1702.97,1101.61 1716.67,1087.53 1730.36,1073.08 1744.06,1058.26 1757.76,1043.06 \n  1771.45,1027.49 1785.15,1011.55 1798.85,995.242 1812.54,978.558 1826.24,961.502 1839.94,944.074 1853.64,926.274 1867.33,908.102 1881.03,889.557 1894.73,870.641 \n  1908.42,851.353 1922.12,831.693 1935.82,811.661 1949.51,791.257 1963.21,770.481 1976.91,749.333 1990.61,727.813 2004.3,705.921 2018,683.657 2031.7,661.021 \n  2045.39,638.013 2059.09,614.633 2072.79,590.881 2086.49,566.757 2100.18,542.261 2113.88,517.393 2127.58,492.152 2141.27,466.54 2154.97,440.556 2168.67,414.2 \n  2182.36,387.472 2196.06,360.372 2209.76,332.9 2223.46,305.056 2237.15,276.84 2250.85,248.252 2264.55,219.292 2278.24,189.96 2291.94,160.256 \n  \"/>\n<polyline clip-path=\"url(#clip762)\" style=\"stroke:#0000ff; stroke-linecap:butt; stroke-linejoin:round; stroke-width:4; stroke-opacity:1; fill:none\" stroke-dasharray=\"16, 10\" points=\"\n  264.778,1385.9 278.475,1385.37 292.173,1384.67 305.87,1383.78 319.567,1382.72 333.264,1381.48 346.961,1380.08 360.658,1378.51 374.355,1376.79 388.052,1374.92 \n  401.749,1372.9 415.446,1370.75 429.143,1368.46 442.84,1366.06 456.537,1363.55 470.234,1360.93 483.931,1358.23 497.628,1355.44 511.325,1352.57 525.022,1349.65 \n  538.719,1346.67 552.416,1343.66 566.113,1340.62 579.81,1337.55 593.508,1334.48 607.205,1331.42 620.902,1328.37 634.599,1325.35 648.296,1322.37 661.993,1319.44 \n  675.69,1316.56 689.387,1313.76 703.084,1311.04 716.781,1308.41 730.478,1305.88 744.175,1303.46 757.872,1301.15 771.569,1298.98 785.266,1296.94 798.963,1295.04 \n  812.66,1293.29 826.357,1291.7 840.054,1290.27 853.751,1289.01 867.448,1287.92 881.145,1287 894.842,1286.26 908.54,1285.71 922.237,1285.34 935.934,1285.15 \n  949.631,1285.15 963.328,1285.34 977.025,1285.71 990.722,1286.26 1004.42,1287 1018.12,1287.92 1031.81,1289.01 1045.51,1290.27 1059.21,1291.7 1072.9,1293.29 \n  1086.6,1295.04 1100.3,1296.94 1114,1298.98 1127.69,1301.15 1141.39,1303.46 1155.09,1305.88 1168.78,1308.41 1182.48,1311.04 1196.18,1313.76 1209.87,1316.56 \n  1223.57,1319.44 1237.27,1322.37 1250.97,1325.35 1264.66,1328.37 1278.36,1331.42 1292.06,1334.48 1305.75,1337.55 1319.45,1340.62 1333.15,1343.66 1346.84,1346.67 \n  1360.54,1349.65 1374.24,1352.57 1387.94,1355.44 1401.63,1358.23 1415.33,1360.93 1429.03,1363.55 1442.72,1366.06 1456.42,1368.46 1470.12,1370.75 1483.82,1372.9 \n  1497.51,1374.92 1511.21,1376.79 1524.91,1378.51 1538.6,1380.08 1552.3,1381.48 1566,1382.72 1579.69,1383.78 1593.39,1384.67 1607.09,1385.37 1620.79,1385.9 \n  1634.48,1386.24 1648.18,1386.4 1661.88,1386.37 1675.57,1386.15 1689.27,1385.75 1702.97,1385.16 1716.67,1384.4 1730.36,1383.45 1744.06,1382.33 1757.76,1381.04 \n  1771.45,1379.58 1785.15,1377.97 1798.85,1376.19 1812.54,1374.27 1826.24,1372.21 1839.94,1370.01 1853.64,1367.69 1867.33,1365.25 1881.03,1362.7 1894.73,1360.06 \n  1908.42,1357.32 1922.12,1354.51 1935.82,1351.62 1949.51,1348.68 1963.21,1345.69 1976.91,1342.67 1990.61,1339.61 2004.3,1336.55 2018,1333.48 2031.7,1330.42 \n  2045.39,1327.38 2059.09,1324.37 2072.79,1321.4 2086.49,1318.49 2100.18,1315.64 2113.88,1312.86 2127.58,1310.17 2141.27,1307.57 2154.97,1305.07 2168.67,1302.69 \n  2182.36,1300.43 2196.06,1298.3 2209.76,1296.3 2223.46,1294.45 2237.15,1292.75 2250.85,1291.22 2264.55,1289.84 2278.24,1288.63 2291.94,1287.6 \n  \"/>\n<path clip-path=\"url(#clip760)\" d=\"\nM1933.65 322.316 L2281.13 322.316 L2281.13 166.796 L1933.65 166.796  Z\n  \" fill=\"#ffffff\" fill-rule=\"evenodd\" fill-opacity=\"1\"/>\n<polyline clip-path=\"url(#clip760)\" style=\"stroke:#000000; stroke-linecap:butt; stroke-linejoin:round; stroke-width:4; stroke-opacity:1; fill:none\" points=\"\n  1933.65,322.316 2281.13,322.316 2281.13,166.796 1933.65,166.796 1933.65,322.316 \n  \"/>\n<polyline clip-path=\"url(#clip760)\" style=\"stroke:#ff0000; stroke-linecap:butt; stroke-linejoin:round; stroke-width:4; stroke-opacity:1; fill:none\" points=\"\n  1957.52,218.636 2100.78,218.636 \n  \"/>\n<path clip-path=\"url(#clip760)\" d=\"M2141.16 199.897 L2141.16 203.439 L2137.08 203.439 Q2134.79 203.439 2133.89 204.365 Q2133.01 205.291 2133.01 207.698 L2133.01 209.99 L2140.02 209.99 L2140.02 213.3 L2133.01 213.3 L2133.01 235.916 L2128.73 235.916 L2128.73 213.3 L2124.65 213.3 L2124.65 209.99 L2128.73 209.99 L2128.73 208.184 Q2128.73 203.856 2130.74 201.888 Q2132.75 199.897 2137.13 199.897 L2141.16 199.897 Z\" fill=\"#000000\" fill-rule=\"evenodd\" fill-opacity=\"1\" /><path clip-path=\"url(#clip760)\" d=\"M2166.27 220.268 L2166.27 235.916 L2162.01 235.916 L2162.01 220.407 Q2162.01 216.726 2160.58 214.897 Q2159.14 213.069 2156.27 213.069 Q2152.82 213.069 2150.83 215.268 Q2148.84 217.467 2148.84 221.263 L2148.84 235.916 L2144.56 235.916 L2144.56 209.99 L2148.84 209.99 L2148.84 214.018 Q2150.37 211.68 2152.43 210.522 Q2154.51 209.365 2157.22 209.365 Q2161.69 209.365 2163.98 212.143 Q2166.27 214.897 2166.27 220.268 Z\" fill=\"#000000\" fill-rule=\"evenodd\" fill-opacity=\"1\" /><path clip-path=\"url(#clip760)\" d=\"M2176.18 231.981 L2183.82 231.981 L2183.82 205.615 L2175.51 207.282 L2175.51 203.022 L2183.77 201.356 L2188.45 201.356 L2188.45 231.981 L2196.09 231.981 L2196.09 235.916 L2176.18 235.916 L2176.18 231.981 Z\" fill=\"#000000\" fill-rule=\"evenodd\" fill-opacity=\"1\" /><path clip-path=\"url(#clip760)\" d=\"M2215.16 199.944 Q2212.06 205.268 2210.55 210.476 Q2209.05 215.684 2209.05 221.032 Q2209.05 226.379 2210.55 231.633 Q2212.08 236.865 2215.16 242.166 L2211.46 242.166 Q2207.99 236.726 2206.25 231.471 Q2204.54 226.217 2204.54 221.032 Q2204.54 215.87 2206.25 210.638 Q2207.96 205.407 2211.46 199.944 L2215.16 199.944 Z\" fill=\"#000000\" fill-rule=\"evenodd\" fill-opacity=\"1\" /><path clip-path=\"url(#clip760)\" d=\"M2222.75 199.944 L2226.46 199.944 Q2229.93 205.407 2231.64 210.638 Q2233.38 215.87 2233.38 221.032 Q2233.38 226.217 2231.64 231.471 Q2229.93 236.726 2226.46 242.166 L2222.75 242.166 Q2225.83 236.865 2227.34 231.633 Q2228.86 226.379 2228.86 221.032 Q2228.86 215.684 2227.34 210.476 Q2225.83 205.268 2222.75 199.944 Z\" fill=\"#000000\" fill-rule=\"evenodd\" fill-opacity=\"1\" /><polyline clip-path=\"url(#clip760)\" style=\"stroke:#0000ff; stroke-linecap:butt; stroke-linejoin:round; stroke-width:4; stroke-opacity:1; fill:none\" stroke-dasharray=\"16, 10\" points=\"\n  1957.52,270.476 2100.78,270.476 \n  \"/>\n<path clip-path=\"url(#clip760)\" d=\"M2145.16 262.825 L2145.16 266.807 Q2143.36 265.811 2141.53 265.325 Q2139.72 264.816 2137.87 264.816 Q2133.73 264.816 2131.43 267.455 Q2129.14 270.071 2129.14 274.816 Q2129.14 279.561 2131.43 282.2 Q2133.73 284.816 2137.87 284.816 Q2139.72 284.816 2141.53 284.33 Q2143.36 283.821 2145.16 282.825 L2145.16 286.76 Q2143.38 287.594 2141.46 288.01 Q2139.56 288.427 2137.41 288.427 Q2131.55 288.427 2128.1 284.746 Q2124.65 281.066 2124.65 274.816 Q2124.65 268.473 2128.12 264.839 Q2131.62 261.205 2137.68 261.205 Q2139.65 261.205 2141.53 261.622 Q2143.4 262.015 2145.16 262.825 Z\" fill=\"#000000\" fill-rule=\"evenodd\" fill-opacity=\"1\" /><path clip-path=\"url(#clip760)\" d=\"M2162.62 264.816 Q2159.19 264.816 2157.2 267.501 Q2155.21 270.163 2155.21 274.816 Q2155.21 279.469 2157.18 282.154 Q2159.17 284.816 2162.62 284.816 Q2166.02 284.816 2168.01 282.131 Q2170 279.446 2170 274.816 Q2170 270.21 2168.01 267.524 Q2166.02 264.816 2162.62 264.816 M2162.62 261.205 Q2168.17 261.205 2171.34 264.816 Q2174.51 268.427 2174.51 274.816 Q2174.51 281.182 2171.34 284.816 Q2168.17 288.427 2162.62 288.427 Q2157.04 288.427 2153.87 284.816 Q2150.72 281.182 2150.72 274.816 Q2150.72 268.427 2153.87 264.816 Q2157.04 261.205 2162.62 261.205 Z\" fill=\"#000000\" fill-rule=\"evenodd\" fill-opacity=\"1\" /><path clip-path=\"url(#clip760)\" d=\"M2198.1 262.594 L2198.1 266.622 Q2196.3 265.696 2194.35 265.233 Q2192.41 264.77 2190.32 264.77 Q2187.15 264.77 2185.55 265.742 Q2183.98 266.714 2183.98 268.659 Q2183.98 270.14 2185.11 270.997 Q2186.25 271.83 2189.68 272.594 L2191.13 272.918 Q2195.67 273.89 2197.57 275.672 Q2199.49 277.432 2199.49 280.603 Q2199.49 284.214 2196.62 286.321 Q2193.77 288.427 2188.77 288.427 Q2186.69 288.427 2184.42 288.01 Q2182.18 287.617 2179.68 286.807 L2179.68 282.409 Q2182.04 283.635 2184.33 284.26 Q2186.62 284.862 2188.86 284.862 Q2191.87 284.862 2193.49 283.844 Q2195.11 282.802 2195.11 280.927 Q2195.11 279.191 2193.93 278.265 Q2192.78 277.339 2188.82 276.483 L2187.34 276.135 Q2183.38 275.302 2181.62 273.589 Q2179.86 271.853 2179.86 268.844 Q2179.86 265.186 2182.45 263.196 Q2185.05 261.205 2189.81 261.205 Q2192.18 261.205 2194.26 261.552 Q2196.34 261.899 2198.1 262.594 Z\" fill=\"#000000\" fill-rule=\"evenodd\" fill-opacity=\"1\" /></svg>\n",
      "text/html": [
       "<?xml version=\"1.0\" encoding=\"utf-8\"?>\n",
       "<svg xmlns=\"http://www.w3.org/2000/svg\" xmlns:xlink=\"http://www.w3.org/1999/xlink\" width=\"600\" height=\"400\" viewBox=\"0 0 2400 1600\">\n",
       "<defs>\n",
       "  <clipPath id=\"clip810\">\n",
       "    <rect x=\"0\" y=\"0\" width=\"2400\" height=\"1600\"/>\n",
       "  </clipPath>\n",
       "</defs>\n",
       "<path clip-path=\"url(#clip810)\" d=\"\n",
       "M0 1600 L2400 1600 L2400 0 L0 0  Z\n",
       "  \" fill=\"#ffffff\" fill-rule=\"evenodd\" fill-opacity=\"1\"/>\n",
       "<defs>\n",
       "  <clipPath id=\"clip811\">\n",
       "    <rect x=\"480\" y=\"0\" width=\"1681\" height=\"1600\"/>\n",
       "  </clipPath>\n",
       "</defs>\n",
       "<path clip-path=\"url(#clip810)\" d=\"\n",
       "M203.964 1423.18 L2352.76 1423.18 L2352.76 123.472 L203.964 123.472  Z\n",
       "  \" fill=\"#ffffff\" fill-rule=\"evenodd\" fill-opacity=\"1\"/>\n",
       "<defs>\n",
       "  <clipPath id=\"clip812\">\n",
       "    <rect x=\"203\" y=\"123\" width=\"2150\" height=\"1301\"/>\n",
       "  </clipPath>\n",
       "</defs>\n",
       "<polyline clip-path=\"url(#clip812)\" style=\"stroke:#000000; stroke-linecap:butt; stroke-linejoin:round; stroke-width:2; stroke-opacity:0.1; fill:none\" points=\"\n",
       "  490.78,1423.18 490.78,123.472 \n",
       "  \"/>\n",
       "<polyline clip-path=\"url(#clip812)\" style=\"stroke:#000000; stroke-linecap:butt; stroke-linejoin:round; stroke-width:2; stroke-opacity:0.1; fill:none\" points=\"\n",
       "  942.782,1423.18 942.782,123.472 \n",
       "  \"/>\n",
       "<polyline clip-path=\"url(#clip812)\" style=\"stroke:#000000; stroke-linecap:butt; stroke-linejoin:round; stroke-width:2; stroke-opacity:0.1; fill:none\" points=\"\n",
       "  1394.78,1423.18 1394.78,123.472 \n",
       "  \"/>\n",
       "<polyline clip-path=\"url(#clip812)\" style=\"stroke:#000000; stroke-linecap:butt; stroke-linejoin:round; stroke-width:2; stroke-opacity:0.1; fill:none\" points=\"\n",
       "  1846.79,1423.18 1846.79,123.472 \n",
       "  \"/>\n",
       "<polyline clip-path=\"url(#clip812)\" style=\"stroke:#000000; stroke-linecap:butt; stroke-linejoin:round; stroke-width:2; stroke-opacity:0.1; fill:none\" points=\"\n",
       "  2298.79,1423.18 2298.79,123.472 \n",
       "  \"/>\n",
       "<polyline clip-path=\"url(#clip810)\" style=\"stroke:#000000; stroke-linecap:butt; stroke-linejoin:round; stroke-width:4; stroke-opacity:1; fill:none\" points=\"\n",
       "  203.964,1423.18 2352.76,1423.18 \n",
       "  \"/>\n",
       "<polyline clip-path=\"url(#clip810)\" style=\"stroke:#000000; stroke-linecap:butt; stroke-linejoin:round; stroke-width:4; stroke-opacity:1; fill:none\" points=\"\n",
       "  490.78,1423.18 490.78,1404.28 \n",
       "  \"/>\n",
       "<polyline clip-path=\"url(#clip810)\" style=\"stroke:#000000; stroke-linecap:butt; stroke-linejoin:round; stroke-width:4; stroke-opacity:1; fill:none\" points=\"\n",
       "  942.782,1423.18 942.782,1404.28 \n",
       "  \"/>\n",
       "<polyline clip-path=\"url(#clip810)\" style=\"stroke:#000000; stroke-linecap:butt; stroke-linejoin:round; stroke-width:4; stroke-opacity:1; fill:none\" points=\"\n",
       "  1394.78,1423.18 1394.78,1404.28 \n",
       "  \"/>\n",
       "<polyline clip-path=\"url(#clip810)\" style=\"stroke:#000000; stroke-linecap:butt; stroke-linejoin:round; stroke-width:4; stroke-opacity:1; fill:none\" points=\"\n",
       "  1846.79,1423.18 1846.79,1404.28 \n",
       "  \"/>\n",
       "<polyline clip-path=\"url(#clip810)\" style=\"stroke:#000000; stroke-linecap:butt; stroke-linejoin:round; stroke-width:4; stroke-opacity:1; fill:none\" points=\"\n",
       "  2298.79,1423.18 2298.79,1404.28 \n",
       "  \"/>\n",
       "<path clip-path=\"url(#clip810)\" d=\"M460.722 1468.75 L490.398 1468.75 L490.398 1472.69 L460.722 1472.69 L460.722 1468.75 Z\" fill=\"#000000\" fill-rule=\"evenodd\" fill-opacity=\"1\" /><path clip-path=\"url(#clip810)\" d=\"M504.518 1481.64 L520.837 1481.64 L520.837 1485.58 L498.893 1485.58 L498.893 1481.64 Q501.555 1478.89 506.138 1474.26 Q510.745 1469.61 511.925 1468.27 Q514.171 1465.74 515.05 1464.01 Q515.953 1462.25 515.953 1460.56 Q515.953 1457.8 514.009 1456.07 Q512.087 1454.33 508.986 1454.33 Q506.787 1454.33 504.333 1455.09 Q501.902 1455.86 499.125 1457.41 L499.125 1452.69 Q501.949 1451.55 504.402 1450.97 Q506.856 1450.39 508.893 1450.39 Q514.263 1450.39 517.458 1453.08 Q520.652 1455.77 520.652 1460.26 Q520.652 1462.39 519.842 1464.31 Q519.055 1466.2 516.949 1468.8 Q516.37 1469.47 513.268 1472.69 Q510.166 1475.88 504.518 1481.64 Z\" fill=\"#000000\" fill-rule=\"evenodd\" fill-opacity=\"1\" /><path clip-path=\"url(#clip810)\" d=\"M942.782 1454.1 Q939.171 1454.1 937.342 1457.66 Q935.537 1461.2 935.537 1468.33 Q935.537 1475.44 937.342 1479.01 Q939.171 1482.55 942.782 1482.55 Q946.416 1482.55 948.222 1479.01 Q950.051 1475.44 950.051 1468.33 Q950.051 1461.2 948.222 1457.66 Q946.416 1454.1 942.782 1454.1 M942.782 1450.39 Q948.592 1450.39 951.648 1455 Q954.727 1459.58 954.727 1468.33 Q954.727 1477.06 951.648 1481.67 Q948.592 1486.25 942.782 1486.25 Q936.972 1486.25 933.893 1481.67 Q930.838 1477.06 930.838 1468.33 Q930.838 1459.58 933.893 1455 Q936.972 1450.39 942.782 1450.39 Z\" fill=\"#000000\" fill-rule=\"evenodd\" fill-opacity=\"1\" /><path clip-path=\"url(#clip810)\" d=\"M1389.44 1481.64 L1405.76 1481.64 L1405.76 1485.58 L1383.81 1485.58 L1383.81 1481.64 Q1386.47 1478.89 1391.06 1474.26 Q1395.66 1469.61 1396.84 1468.27 Q1399.09 1465.74 1399.97 1464.01 Q1400.87 1462.25 1400.87 1460.56 Q1400.87 1457.8 1398.93 1456.07 Q1397.01 1454.33 1393.9 1454.33 Q1391.71 1454.33 1389.25 1455.09 Q1386.82 1455.86 1384.04 1457.41 L1384.04 1452.69 Q1386.87 1451.55 1389.32 1450.97 Q1391.78 1450.39 1393.81 1450.39 Q1399.18 1450.39 1402.38 1453.08 Q1405.57 1455.77 1405.57 1460.26 Q1405.57 1462.39 1404.76 1464.31 Q1403.97 1466.2 1401.87 1468.8 Q1401.29 1469.47 1398.19 1472.69 Q1395.09 1475.88 1389.44 1481.64 Z\" fill=\"#000000\" fill-rule=\"evenodd\" fill-opacity=\"1\" /><path clip-path=\"url(#clip810)\" d=\"M1849.8 1455.09 L1837.99 1473.54 L1849.8 1473.54 L1849.8 1455.09 M1848.57 1451.02 L1854.45 1451.02 L1854.45 1473.54 L1859.38 1473.54 L1859.38 1477.43 L1854.45 1477.43 L1854.45 1485.58 L1849.8 1485.58 L1849.8 1477.43 L1834.19 1477.43 L1834.19 1472.92 L1848.57 1451.02 Z\" fill=\"#000000\" fill-rule=\"evenodd\" fill-opacity=\"1\" /><path clip-path=\"url(#clip810)\" d=\"M2299.19 1466.44 Q2296.05 1466.44 2294.19 1468.59 Q2292.37 1470.74 2292.37 1474.49 Q2292.37 1478.22 2294.19 1480.39 Q2296.05 1482.55 2299.19 1482.55 Q2302.34 1482.55 2304.17 1480.39 Q2306.02 1478.22 2306.02 1474.49 Q2306.02 1470.74 2304.17 1468.59 Q2302.34 1466.44 2299.19 1466.44 M2308.48 1451.78 L2308.48 1456.04 Q2306.72 1455.21 2304.91 1454.77 Q2303.13 1454.33 2301.37 1454.33 Q2296.74 1454.33 2294.29 1457.45 Q2291.86 1460.58 2291.51 1466.9 Q2292.88 1464.89 2294.94 1463.82 Q2297 1462.73 2299.47 1462.73 Q2304.68 1462.73 2307.69 1465.9 Q2310.72 1469.05 2310.72 1474.49 Q2310.72 1479.82 2307.57 1483.03 Q2304.43 1486.25 2299.19 1486.25 Q2293.2 1486.25 2290.03 1481.67 Q2286.86 1477.06 2286.86 1468.33 Q2286.86 1460.14 2290.75 1455.28 Q2294.63 1450.39 2301.19 1450.39 Q2302.94 1450.39 2304.73 1450.74 Q2306.53 1451.09 2308.48 1451.78 Z\" fill=\"#000000\" fill-rule=\"evenodd\" fill-opacity=\"1\" /><path clip-path=\"url(#clip810)\" d=\"M1294.97 1532.4 L1282.08 1549.74 L1295.64 1568.04 L1288.74 1568.04 L1278.36 1554.04 L1267.98 1568.04 L1261.08 1568.04 L1274.92 1549.39 L1262.25 1532.4 L1269.16 1532.4 L1278.61 1545.1 L1288.07 1532.4 L1294.97 1532.4 Z\" fill=\"#000000\" fill-rule=\"evenodd\" fill-opacity=\"1\" /><polyline clip-path=\"url(#clip812)\" style=\"stroke:#000000; stroke-linecap:butt; stroke-linejoin:round; stroke-width:2; stroke-opacity:0.1; fill:none\" points=\"\n",
       "  203.964,1335.77 2352.76,1335.77 \n",
       "  \"/>\n",
       "<polyline clip-path=\"url(#clip812)\" style=\"stroke:#000000; stroke-linecap:butt; stroke-linejoin:round; stroke-width:2; stroke-opacity:0.1; fill:none\" points=\"\n",
       "  203.964,1082.58 2352.76,1082.58 \n",
       "  \"/>\n",
       "<polyline clip-path=\"url(#clip812)\" style=\"stroke:#000000; stroke-linecap:butt; stroke-linejoin:round; stroke-width:2; stroke-opacity:0.1; fill:none\" points=\"\n",
       "  203.964,829.386 2352.76,829.386 \n",
       "  \"/>\n",
       "<polyline clip-path=\"url(#clip812)\" style=\"stroke:#000000; stroke-linecap:butt; stroke-linejoin:round; stroke-width:2; stroke-opacity:0.1; fill:none\" points=\"\n",
       "  203.964,576.196 2352.76,576.196 \n",
       "  \"/>\n",
       "<polyline clip-path=\"url(#clip812)\" style=\"stroke:#000000; stroke-linecap:butt; stroke-linejoin:round; stroke-width:2; stroke-opacity:0.1; fill:none\" points=\"\n",
       "  203.964,323.005 2352.76,323.005 \n",
       "  \"/>\n",
       "<polyline clip-path=\"url(#clip810)\" style=\"stroke:#000000; stroke-linecap:butt; stroke-linejoin:round; stroke-width:4; stroke-opacity:1; fill:none\" points=\"\n",
       "  203.964,1423.18 203.964,123.472 \n",
       "  \"/>\n",
       "<polyline clip-path=\"url(#clip810)\" style=\"stroke:#000000; stroke-linecap:butt; stroke-linejoin:round; stroke-width:4; stroke-opacity:1; fill:none\" points=\"\n",
       "  203.964,1335.77 222.861,1335.77 \n",
       "  \"/>\n",
       "<polyline clip-path=\"url(#clip810)\" style=\"stroke:#000000; stroke-linecap:butt; stroke-linejoin:round; stroke-width:4; stroke-opacity:1; fill:none\" points=\"\n",
       "  203.964,1082.58 222.861,1082.58 \n",
       "  \"/>\n",
       "<polyline clip-path=\"url(#clip810)\" style=\"stroke:#000000; stroke-linecap:butt; stroke-linejoin:round; stroke-width:4; stroke-opacity:1; fill:none\" points=\"\n",
       "  203.964,829.386 222.861,829.386 \n",
       "  \"/>\n",
       "<polyline clip-path=\"url(#clip810)\" style=\"stroke:#000000; stroke-linecap:butt; stroke-linejoin:round; stroke-width:4; stroke-opacity:1; fill:none\" points=\"\n",
       "  203.964,576.196 222.861,576.196 \n",
       "  \"/>\n",
       "<polyline clip-path=\"url(#clip810)\" style=\"stroke:#000000; stroke-linecap:butt; stroke-linejoin:round; stroke-width:4; stroke-opacity:1; fill:none\" points=\"\n",
       "  203.964,323.005 222.861,323.005 \n",
       "  \"/>\n",
       "<path clip-path=\"url(#clip810)\" d=\"M156.019 1321.57 Q152.408 1321.57 150.579 1325.13 Q148.774 1328.67 148.774 1335.8 Q148.774 1342.91 150.579 1346.47 Q152.408 1350.02 156.019 1350.02 Q159.653 1350.02 161.459 1346.47 Q163.288 1342.91 163.288 1335.8 Q163.288 1328.67 161.459 1325.13 Q159.653 1321.57 156.019 1321.57 M156.019 1317.86 Q161.829 1317.86 164.885 1322.47 Q167.964 1327.05 167.964 1335.8 Q167.964 1344.53 164.885 1349.14 Q161.829 1353.72 156.019 1353.72 Q150.209 1353.72 147.13 1349.14 Q144.075 1344.53 144.075 1335.8 Q144.075 1327.05 147.13 1322.47 Q150.209 1317.86 156.019 1317.86 Z\" fill=\"#000000\" fill-rule=\"evenodd\" fill-opacity=\"1\" /><path clip-path=\"url(#clip810)\" d=\"M147.061 1065.3 L165.417 1065.3 L165.417 1069.23 L151.343 1069.23 L151.343 1077.7 Q152.362 1077.36 153.38 1077.2 Q154.399 1077.01 155.417 1077.01 Q161.204 1077.01 164.584 1080.18 Q167.964 1083.35 167.964 1088.77 Q167.964 1094.35 164.491 1097.45 Q161.019 1100.53 154.7 1100.53 Q152.524 1100.53 150.255 1100.16 Q148.01 1099.79 145.603 1099.05 L145.603 1094.35 Q147.686 1095.48 149.908 1096.04 Q152.13 1096.59 154.607 1096.59 Q158.612 1096.59 160.95 1094.49 Q163.288 1092.38 163.288 1088.77 Q163.288 1085.16 160.95 1083.05 Q158.612 1080.95 154.607 1080.95 Q152.732 1080.95 150.857 1081.36 Q149.005 1081.78 147.061 1082.66 L147.061 1065.3 Z\" fill=\"#000000\" fill-rule=\"evenodd\" fill-opacity=\"1\" /><path clip-path=\"url(#clip810)\" d=\"M116.668 842.731 L124.306 842.731 L124.306 816.366 L115.996 818.032 L115.996 813.773 L124.26 812.106 L128.936 812.106 L128.936 842.731 L136.575 842.731 L136.575 846.666 L116.668 846.666 L116.668 842.731 Z\" fill=\"#000000\" fill-rule=\"evenodd\" fill-opacity=\"1\" /><path clip-path=\"url(#clip810)\" d=\"M156.019 815.185 Q152.408 815.185 150.579 818.75 Q148.774 822.292 148.774 829.421 Q148.774 836.528 150.579 840.092 Q152.408 843.634 156.019 843.634 Q159.653 843.634 161.459 840.092 Q163.288 836.528 163.288 829.421 Q163.288 822.292 161.459 818.75 Q159.653 815.185 156.019 815.185 M156.019 811.481 Q161.829 811.481 164.885 816.088 Q167.964 820.671 167.964 829.421 Q167.964 838.148 164.885 842.754 Q161.829 847.338 156.019 847.338 Q150.209 847.338 147.13 842.754 Q144.075 838.148 144.075 829.421 Q144.075 820.671 147.13 816.088 Q150.209 811.481 156.019 811.481 Z\" fill=\"#000000\" fill-rule=\"evenodd\" fill-opacity=\"1\" /><path clip-path=\"url(#clip810)\" d=\"M117.663 589.54 L125.302 589.54 L125.302 563.175 L116.992 564.841 L116.992 560.582 L125.255 558.916 L129.931 558.916 L129.931 589.54 L137.57 589.54 L137.57 593.476 L117.663 593.476 L117.663 589.54 Z\" fill=\"#000000\" fill-rule=\"evenodd\" fill-opacity=\"1\" /><path clip-path=\"url(#clip810)\" d=\"M147.061 558.916 L165.417 558.916 L165.417 562.851 L151.343 562.851 L151.343 571.323 Q152.362 570.976 153.38 570.814 Q154.399 570.628 155.417 570.628 Q161.204 570.628 164.584 573.8 Q167.964 576.971 167.964 582.388 Q167.964 587.966 164.491 591.068 Q161.019 594.147 154.7 594.147 Q152.524 594.147 150.255 593.776 Q148.01 593.406 145.603 592.665 L145.603 587.966 Q147.686 589.101 149.908 589.656 Q152.13 590.212 154.607 590.212 Q158.612 590.212 160.95 588.105 Q163.288 585.999 163.288 582.388 Q163.288 578.777 160.95 576.67 Q158.612 574.564 154.607 574.564 Q152.732 574.564 150.857 574.98 Q149.005 575.397 147.061 576.277 L147.061 558.916 Z\" fill=\"#000000\" fill-rule=\"evenodd\" fill-opacity=\"1\" /><path clip-path=\"url(#clip810)\" d=\"M119.885 336.35 L136.204 336.35 L136.204 340.285 L114.26 340.285 L114.26 336.35 Q116.922 333.595 121.505 328.965 Q126.112 324.313 127.292 322.97 Q129.538 320.447 130.417 318.711 Q131.32 316.952 131.32 315.262 Q131.32 312.507 129.376 310.771 Q127.455 309.035 124.353 309.035 Q122.154 309.035 119.7 309.799 Q117.269 310.563 114.492 312.114 L114.492 307.391 Q117.316 306.257 119.769 305.678 Q122.223 305.1 124.26 305.1 Q129.63 305.1 132.825 307.785 Q136.019 310.47 136.019 314.961 Q136.019 317.09 135.209 319.012 Q134.422 320.91 132.316 323.502 Q131.737 324.174 128.635 327.391 Q125.533 330.586 119.885 336.35 Z\" fill=\"#000000\" fill-rule=\"evenodd\" fill-opacity=\"1\" /><path clip-path=\"url(#clip810)\" d=\"M156.019 308.803 Q152.408 308.803 150.579 312.368 Q148.774 315.91 148.774 323.039 Q148.774 330.146 150.579 333.711 Q152.408 337.252 156.019 337.252 Q159.653 337.252 161.459 333.711 Q163.288 330.146 163.288 323.039 Q163.288 315.91 161.459 312.368 Q159.653 308.803 156.019 308.803 M156.019 305.1 Q161.829 305.1 164.885 309.706 Q167.964 314.29 167.964 323.039 Q167.964 331.766 164.885 336.373 Q161.829 340.956 156.019 340.956 Q150.209 340.956 147.13 336.373 Q144.075 331.766 144.075 323.039 Q144.075 314.29 147.13 309.706 Q150.209 305.1 156.019 305.1 Z\" fill=\"#000000\" fill-rule=\"evenodd\" fill-opacity=\"1\" /><path clip-path=\"url(#clip810)\" d=\"M35.1993 1008.94 Q31.2526 1006.74 29.3747 1003.68 Q27.4968 1000.63 27.4968 996.492 Q27.4968 990.922 31.4117 987.898 Q35.2948 984.874 42.4881 984.874 L64.0042 984.874 L64.0042 990.763 L42.679 990.763 Q37.5546 990.763 35.072 992.577 Q32.5894 994.391 32.5894 998.115 Q32.5894 1002.67 35.6131 1005.31 Q38.6368 1007.95 43.8567 1007.95 L64.0042 1007.95 L64.0042 1013.84 L42.679 1013.84 Q37.5228 1013.84 35.072 1015.65 Q32.5894 1017.47 32.5894 1021.25 Q32.5894 1025.74 35.6449 1028.38 Q38.6686 1031.03 43.8567 1031.03 L64.0042 1031.03 L64.0042 1036.91 L28.3562 1036.91 L28.3562 1031.03 L33.8944 1031.03 Q30.616 1029.02 29.0564 1026.22 Q27.4968 1023.42 27.4968 1019.57 Q27.4968 1015.68 29.4702 1012.98 Q31.4436 1010.24 35.1993 1008.94 Z\" fill=\"#000000\" fill-rule=\"evenodd\" fill-opacity=\"1\" /><path clip-path=\"url(#clip810)\" d=\"M67.3143 958.361 Q73.68 960.844 75.6216 963.199 Q77.5631 965.554 77.5631 969.501 L77.5631 974.18 L72.6615 974.18 L72.6615 970.742 Q72.6615 968.323 71.5157 966.987 Q70.3699 965.65 66.1048 964.027 L63.4312 962.976 L28.3562 977.395 L28.3562 971.188 L56.238 960.048 L28.3562 948.908 L28.3562 942.702 L67.3143 958.361 Z\" fill=\"#000000\" fill-rule=\"evenodd\" fill-opacity=\"1\" /><path clip-path=\"url(#clip810)\" d=\"M32.4621 900.083 Q32.4621 904.794 36.1542 907.531 Q39.8145 910.268 46.212 910.268 Q52.6095 910.268 56.3017 907.563 Q59.9619 904.826 59.9619 900.083 Q59.9619 895.404 56.2698 892.667 Q52.5777 889.93 46.212 889.93 Q39.8781 889.93 36.186 892.667 Q32.4621 895.404 32.4621 900.083 M27.4968 900.083 Q27.4968 892.444 32.4621 888.084 Q37.4273 883.723 46.212 883.723 Q54.9649 883.723 59.9619 888.084 Q64.9272 892.444 64.9272 900.083 Q64.9272 907.754 59.9619 912.114 Q54.9649 916.443 46.212 916.443 Q37.4273 916.443 32.4621 912.114 Q27.4968 907.754 27.4968 900.083 Z\" fill=\"#000000\" fill-rule=\"evenodd\" fill-opacity=\"1\" /><path clip-path=\"url(#clip810)\" d=\"M49.9359 874.62 L28.3562 874.62 L28.3562 868.764 L49.7131 868.764 Q54.7739 868.764 57.3202 866.79 Q59.8346 864.817 59.8346 860.87 Q59.8346 856.128 56.8109 853.391 Q53.7872 850.622 48.5673 850.622 L28.3562 850.622 L28.3562 844.765 L64.0042 844.765 L64.0042 850.622 L58.5296 850.622 Q61.7762 852.754 63.3676 855.587 Q64.9272 858.388 64.9272 862.112 Q64.9272 868.255 61.1078 871.437 Q57.2883 874.62 49.9359 874.62 M27.4968 859.884 L27.4968 859.884 Z\" fill=\"#000000\" fill-rule=\"evenodd\" fill-opacity=\"1\" /><path clip-path=\"url(#clip810)\" d=\"M18.2347 826.909 L28.3562 826.909 L28.3562 814.846 L32.9077 814.846 L32.9077 826.909 L52.2594 826.909 Q56.6199 826.909 57.8613 825.732 Q59.1026 824.522 59.1026 820.862 L59.1026 814.846 L64.0042 814.846 L64.0042 820.862 Q64.0042 827.641 61.4897 830.219 Q58.9434 832.798 52.2594 832.798 L32.9077 832.798 L32.9077 837.094 L28.3562 837.094 L28.3562 832.798 L18.2347 832.798 L18.2347 826.909 Z\" fill=\"#000000\" fill-rule=\"evenodd\" fill-opacity=\"1\" /><path clip-path=\"url(#clip810)\" d=\"M58.657 801.478 L77.5631 801.478 L77.5631 807.367 L28.3562 807.367 L28.3562 801.478 L33.7671 801.478 Q30.5842 799.632 29.0564 796.831 Q27.4968 793.999 27.4968 790.084 Q27.4968 783.591 32.6531 779.548 Q37.8093 775.474 46.212 775.474 Q54.6147 775.474 59.771 779.548 Q64.9272 783.591 64.9272 790.084 Q64.9272 793.999 63.3994 796.831 Q61.8398 799.632 58.657 801.478 M46.212 781.554 Q39.7508 781.554 36.0905 784.227 Q32.3984 786.869 32.3984 791.516 Q32.3984 796.163 36.0905 798.837 Q39.7508 801.478 46.212 801.478 Q52.6732 801.478 56.3653 798.837 Q60.0256 796.163 60.0256 791.516 Q60.0256 786.869 56.3653 784.227 Q52.6732 781.554 46.212 781.554 Z\" fill=\"#000000\" fill-rule=\"evenodd\" fill-opacity=\"1\" /><path clip-path=\"url(#clip810)\" d=\"M49.9359 766.371 L28.3562 766.371 L28.3562 760.515 L49.7131 760.515 Q54.7739 760.515 57.3202 758.542 Q59.8346 756.568 59.8346 752.622 Q59.8346 747.879 56.8109 745.142 Q53.7872 742.373 48.5673 742.373 L28.3562 742.373 L28.3562 736.516 L64.0042 736.516 L64.0042 742.373 L58.5296 742.373 Q61.7762 744.505 63.3676 747.338 Q64.9272 750.139 64.9272 753.863 Q64.9272 760.006 61.1078 763.189 Q57.2883 766.371 49.9359 766.371 M27.4968 751.635 L27.4968 751.635 Z\" fill=\"#000000\" fill-rule=\"evenodd\" fill-opacity=\"1\" /><path clip-path=\"url(#clip810)\" d=\"M18.2347 718.66 L28.3562 718.66 L28.3562 706.597 L32.9077 706.597 L32.9077 718.66 L52.2594 718.66 Q56.6199 718.66 57.8613 717.483 Q59.1026 716.273 59.1026 712.613 L59.1026 706.597 L64.0042 706.597 L64.0042 712.613 Q64.0042 719.393 61.4897 721.971 Q58.9434 724.549 52.2594 724.549 L32.9077 724.549 L32.9077 728.846 L28.3562 728.846 L28.3562 724.549 L18.2347 724.549 L18.2347 718.66 Z\" fill=\"#000000\" fill-rule=\"evenodd\" fill-opacity=\"1\" /><path clip-path=\"url(#clip810)\" d=\"M28.3562 682.376 L28.3562 676.169 L58.275 665.029 L28.3562 653.889 L28.3562 647.683 L64.0042 661.051 L64.0042 669.008 L28.3562 682.376 Z\" fill=\"#000000\" fill-rule=\"evenodd\" fill-opacity=\"1\" /><path clip-path=\"url(#clip810)\" d=\"M46.0847 623.398 Q46.0847 630.495 47.7079 633.233 Q49.3312 635.97 53.2461 635.97 Q56.3653 635.97 58.2114 633.933 Q60.0256 631.864 60.0256 628.331 Q60.0256 623.461 56.5881 620.533 Q53.1188 617.573 47.3897 617.573 L46.0847 617.573 L46.0847 623.398 M43.6657 611.717 L64.0042 611.717 L64.0042 617.573 L58.5933 617.573 Q61.8398 619.578 63.3994 622.57 Q64.9272 625.562 64.9272 629.891 Q64.9272 635.365 61.8716 638.612 Q58.7843 641.826 53.6281 641.826 Q47.6125 641.826 44.5569 637.816 Q41.5014 633.774 41.5014 625.785 L41.5014 617.573 L40.9285 617.573 Q36.8862 617.573 34.6901 620.247 Q32.4621 622.888 32.4621 627.695 Q32.4621 630.75 33.1941 633.646 Q33.9262 636.543 35.3903 639.216 L29.9795 639.216 Q28.7381 636.002 28.1334 632.978 Q27.4968 629.954 27.4968 627.09 Q27.4968 619.355 31.5072 615.536 Q35.5176 611.717 43.6657 611.717 Z\" fill=\"#000000\" fill-rule=\"evenodd\" fill-opacity=\"1\" /><path clip-path=\"url(#clip810)\" d=\"M14.479 599.654 L14.479 593.797 L64.0042 593.797 L64.0042 599.654 L14.479 599.654 Z\" fill=\"#000000\" fill-rule=\"evenodd\" fill-opacity=\"1\" /><path clip-path=\"url(#clip810)\" d=\"M49.9359 582.148 L28.3562 582.148 L28.3562 576.291 L49.7131 576.291 Q54.7739 576.291 57.3202 574.318 Q59.8346 572.345 59.8346 568.398 Q59.8346 563.656 56.8109 560.918 Q53.7872 558.149 48.5673 558.149 L28.3562 558.149 L28.3562 552.293 L64.0042 552.293 L64.0042 558.149 L58.5296 558.149 Q61.7762 560.282 63.3676 563.114 Q64.9272 565.915 64.9272 569.639 Q64.9272 575.782 61.1078 578.965 Q57.2883 582.148 49.9359 582.148 M27.4968 567.411 L27.4968 567.411 Z\" fill=\"#000000\" fill-rule=\"evenodd\" fill-opacity=\"1\" /><path clip-path=\"url(#clip810)\" d=\"M44.7161 509.738 L47.5806 509.738 L47.5806 536.665 Q53.6281 536.283 56.8109 533.036 Q59.9619 529.758 59.9619 523.934 Q59.9619 520.56 59.1344 517.409 Q58.3069 514.226 56.6518 511.107 L62.1899 511.107 Q63.5267 514.258 64.227 517.568 Q64.9272 520.878 64.9272 524.284 Q64.9272 532.814 59.9619 537.811 Q54.9967 542.776 46.5303 542.776 Q37.7774 542.776 32.6531 538.065 Q27.4968 533.323 27.4968 525.302 Q27.4968 518.109 32.1438 513.939 Q36.7589 509.738 44.7161 509.738 M42.9973 515.594 Q38.1912 515.658 35.3266 518.3 Q32.4621 520.91 32.4621 525.238 Q32.4621 530.14 35.2312 533.1 Q38.0002 536.028 43.0292 536.474 L42.9973 515.594 Z\" fill=\"#000000\" fill-rule=\"evenodd\" fill-opacity=\"1\" /><path clip-path=\"url(#clip810)\" d=\"M1061.15 12.096 L1073.34 12.096 L1088.78 53.2532 L1104.29 12.096 L1116.49 12.096 L1116.49 72.576 L1108.51 72.576 L1108.51 19.4686 L1092.91 60.9499 L1084.69 60.9499 L1069.09 19.4686 L1069.09 72.576 L1061.15 72.576 L1061.15 12.096 Z\" fill=\"#000000\" fill-rule=\"evenodd\" fill-opacity=\"1\" /><path clip-path=\"url(#clip810)\" d=\"M1151.28 76.7889 Q1148.12 84.8907 1145.13 87.3618 Q1142.13 89.8329 1137.1 89.8329 L1131.15 89.8329 L1131.15 83.5945 L1135.52 83.5945 Q1138.6 83.5945 1140.3 82.1361 Q1142.01 80.6778 1144.07 75.2496 L1145.41 71.8468 L1127.06 27.2059 L1134.96 27.2059 L1149.14 62.6918 L1163.31 27.2059 L1171.21 27.2059 L1151.28 76.7889 Z\" fill=\"#000000\" fill-rule=\"evenodd\" fill-opacity=\"1\" /><path clip-path=\"url(#clip810)\" d=\"M1236.88 44.2197 Q1239.51 45.1109 1241.98 48.0275 Q1244.49 50.9442 1247.01 56.0483 L1255.31 72.576 L1246.52 72.576 L1238.78 57.061 Q1235.78 50.9847 1232.95 48.9997 Q1230.15 47.0148 1225.29 47.0148 L1216.38 47.0148 L1216.38 72.576 L1208.2 72.576 L1208.2 12.096 L1226.67 12.096 Q1237.04 12.096 1242.14 16.4305 Q1247.25 20.7649 1247.25 29.5149 Q1247.25 35.2267 1244.58 38.994 Q1241.94 42.7613 1236.88 44.2197 M1216.38 18.8205 L1216.38 40.2903 L1226.67 40.2903 Q1232.58 40.2903 1235.58 37.5762 Q1238.62 34.8216 1238.62 29.5149 Q1238.62 24.2082 1235.58 21.5346 Q1232.58 18.8205 1226.67 18.8205 L1216.38 18.8205 Z\" fill=\"#000000\" fill-rule=\"evenodd\" fill-opacity=\"1\" /><path clip-path=\"url(#clip810)\" d=\"M1300.6 48.0275 L1300.6 51.6733 L1266.33 51.6733 Q1266.81 59.3701 1270.95 63.421 Q1275.12 67.4314 1282.53 67.4314 Q1286.83 67.4314 1290.84 66.3781 Q1294.89 65.3249 1298.86 63.2184 L1298.86 70.267 Q1294.85 71.9684 1290.63 72.8596 Q1286.42 73.7508 1282.09 73.7508 Q1271.23 73.7508 1264.87 67.4314 Q1258.55 61.1119 1258.55 50.3365 Q1258.55 39.1965 1264.55 32.6746 Q1270.58 26.1121 1280.79 26.1121 Q1289.95 26.1121 1295.25 32.0264 Q1300.6 37.9003 1300.6 48.0275 M1293.15 45.84 Q1293.06 39.7232 1289.7 36.0774 Q1286.38 32.4315 1280.87 32.4315 Q1274.63 32.4315 1270.87 35.9558 Q1267.14 39.4801 1266.57 45.8805 L1293.15 45.84 Z\" fill=\"#000000\" fill-rule=\"evenodd\" fill-opacity=\"1\" /><path clip-path=\"url(#clip810)\" d=\"M1341.76 28.5427 L1341.76 35.5912 Q1338.6 33.9709 1335.19 33.1607 Q1331.79 32.3505 1328.15 32.3505 Q1322.6 32.3505 1319.8 34.0519 Q1317.05 35.7533 1317.05 39.156 Q1317.05 41.7486 1319.03 43.2475 Q1321.02 44.7058 1327.01 46.0426 L1329.56 46.6097 Q1337.5 48.3111 1340.82 51.4303 Q1344.19 54.509 1344.19 60.0587 Q1344.19 66.3781 1339.16 70.0644 Q1334.18 73.7508 1325.43 73.7508 Q1321.79 73.7508 1317.82 73.0216 Q1313.89 72.3329 1309.51 70.9151 L1309.51 63.2184 Q1313.64 65.3654 1317.65 66.4591 Q1321.66 67.5124 1325.59 67.5124 Q1330.86 67.5124 1333.7 65.73 Q1336.53 63.9071 1336.53 60.6258 Q1336.53 57.5877 1334.46 55.9673 Q1332.44 54.3469 1325.51 52.8481 L1322.92 52.2405 Q1315.99 50.7821 1312.91 47.7845 Q1309.84 44.7463 1309.84 39.4801 Q1309.84 33.0797 1314.37 29.5959 Q1318.91 26.1121 1327.25 26.1121 Q1331.39 26.1121 1335.03 26.7198 Q1338.68 27.3274 1341.76 28.5427 Z\" fill=\"#000000\" fill-rule=\"evenodd\" fill-opacity=\"1\" /><path clip-path=\"url(#clip810)\" d=\"M1355.29 54.671 L1355.29 27.2059 L1362.74 27.2059 L1362.74 54.3874 Q1362.74 60.8284 1365.25 64.0691 Q1367.76 67.2693 1372.79 67.2693 Q1378.82 67.2693 1382.31 63.421 Q1385.83 59.5726 1385.83 52.9291 L1385.83 27.2059 L1393.28 27.2059 L1393.28 72.576 L1385.83 72.576 L1385.83 65.6084 Q1383.12 69.7404 1379.51 71.7658 Q1375.95 73.7508 1371.21 73.7508 Q1363.39 73.7508 1359.34 68.8897 Q1355.29 64.0286 1355.29 54.671 M1374.04 26.1121 L1374.04 26.1121 Z\" fill=\"#000000\" fill-rule=\"evenodd\" fill-opacity=\"1\" /><path clip-path=\"url(#clip810)\" d=\"M1408.64 9.54393 L1416.09 9.54393 L1416.09 72.576 L1408.64 72.576 L1408.64 9.54393 Z\" fill=\"#000000\" fill-rule=\"evenodd\" fill-opacity=\"1\" /><path clip-path=\"url(#clip810)\" d=\"M1439.06 14.324 L1439.06 27.2059 L1454.41 27.2059 L1454.41 32.9987 L1439.06 32.9987 L1439.06 57.6282 Q1439.06 63.1779 1440.56 64.7578 Q1442.1 66.3376 1446.76 66.3376 L1454.41 66.3376 L1454.41 72.576 L1446.76 72.576 Q1438.13 72.576 1434.85 69.3758 Q1431.56 66.1351 1431.56 57.6282 L1431.56 32.9987 L1426.1 32.9987 L1426.1 27.2059 L1431.56 27.2059 L1431.56 14.324 L1439.06 14.324 Z\" fill=\"#000000\" fill-rule=\"evenodd\" fill-opacity=\"1\" /><path clip-path=\"url(#clip810)\" d=\"M1493.14 28.5427 L1493.14 35.5912 Q1489.98 33.9709 1486.58 33.1607 Q1483.17 32.3505 1479.53 32.3505 Q1473.98 32.3505 1471.18 34.0519 Q1468.43 35.7533 1468.43 39.156 Q1468.43 41.7486 1470.41 43.2475 Q1472.4 44.7058 1478.39 46.0426 L1480.95 46.6097 Q1488.89 48.3111 1492.21 51.4303 Q1495.57 54.509 1495.57 60.0587 Q1495.57 66.3781 1490.55 70.0644 Q1485.56 73.7508 1476.81 73.7508 Q1473.17 73.7508 1469.2 73.0216 Q1465.27 72.3329 1460.89 70.9151 L1460.89 63.2184 Q1465.03 65.3654 1469.04 66.4591 Q1473.05 67.5124 1476.98 67.5124 Q1482.24 67.5124 1485.08 65.73 Q1487.91 63.9071 1487.91 60.6258 Q1487.91 57.5877 1485.85 55.9673 Q1483.82 54.3469 1476.89 52.8481 L1474.3 52.2405 Q1467.37 50.7821 1464.3 47.7845 Q1461.22 44.7463 1461.22 39.4801 Q1461.22 33.0797 1465.75 29.5959 Q1470.29 26.1121 1478.64 26.1121 Q1482.77 26.1121 1486.41 26.7198 Q1490.06 27.3274 1493.14 28.5427 Z\" fill=\"#000000\" fill-rule=\"evenodd\" fill-opacity=\"1\" /><polyline clip-path=\"url(#clip812)\" style=\"stroke:#ff0000; stroke-linecap:butt; stroke-linejoin:round; stroke-width:8; stroke-opacity:1; fill:none\" points=\"\n",
       "  264.778,509.86 278.475,534.839 292.173,559.447 305.87,583.682 319.567,607.546 333.264,631.038 346.961,654.157 360.658,676.905 374.355,699.281 388.052,721.284 \n",
       "  401.749,742.916 415.446,764.176 429.143,785.063 442.84,805.579 456.537,825.723 470.234,845.494 483.931,864.894 497.628,883.922 511.325,902.577 525.022,920.861 \n",
       "  538.719,938.773 552.416,956.312 566.113,973.48 579.81,990.276 593.508,1006.7 607.205,1022.75 620.902,1038.43 634.599,1053.74 648.296,1068.67 661.993,1083.24 \n",
       "  675.69,1097.43 689.387,1111.25 703.084,1124.7 716.781,1137.77 730.478,1150.48 744.175,1162.81 757.872,1174.77 771.569,1186.36 785.266,1197.57 798.963,1208.42 \n",
       "  812.66,1218.89 826.357,1228.99 840.054,1238.71 853.751,1248.07 867.448,1257.05 881.145,1265.67 894.842,1273.91 908.54,1281.77 922.237,1289.27 935.934,1296.39 \n",
       "  949.631,1303.14 963.328,1309.52 977.025,1315.53 990.722,1321.17 1004.42,1326.43 1018.12,1331.32 1031.81,1335.84 1045.51,1339.99 1059.21,1343.77 1072.9,1347.17 \n",
       "  1086.6,1350.2 1100.3,1352.86 1114,1355.15 1127.69,1357.07 1141.39,1358.61 1155.09,1359.78 1168.78,1360.58 1182.48,1361.01 1196.18,1361.06 1209.87,1360.75 \n",
       "  1223.57,1360.06 1237.27,1359 1250.97,1357.57 1264.66,1355.76 1278.36,1353.59 1292.06,1351.04 1305.75,1348.12 1319.45,1344.83 1333.15,1341.16 1346.84,1337.13 \n",
       "  1360.54,1332.72 1374.24,1327.94 1387.94,1322.79 1401.63,1317.26 1415.33,1311.37 1429.03,1305.1 1442.72,1298.46 1456.42,1291.44 1470.12,1284.06 1483.82,1276.3 \n",
       "  1497.51,1268.18 1511.21,1259.68 1524.91,1250.8 1538.6,1241.56 1552.3,1231.94 1566,1221.96 1579.69,1211.6 1593.39,1200.86 1607.09,1189.76 1620.79,1178.28 \n",
       "  1634.48,1166.44 1648.18,1154.22 1661.88,1141.62 1675.57,1128.66 1689.27,1115.32 1702.97,1101.61 1716.67,1087.53 1730.36,1073.08 1744.06,1058.26 1757.76,1043.06 \n",
       "  1771.45,1027.49 1785.15,1011.55 1798.85,995.242 1812.54,978.558 1826.24,961.502 1839.94,944.074 1853.64,926.274 1867.33,908.102 1881.03,889.557 1894.73,870.641 \n",
       "  1908.42,851.353 1922.12,831.693 1935.82,811.661 1949.51,791.257 1963.21,770.481 1976.91,749.333 1990.61,727.813 2004.3,705.921 2018,683.657 2031.7,661.021 \n",
       "  2045.39,638.013 2059.09,614.633 2072.79,590.881 2086.49,566.757 2100.18,542.261 2113.88,517.393 2127.58,492.152 2141.27,466.54 2154.97,440.556 2168.67,414.2 \n",
       "  2182.36,387.472 2196.06,360.372 2209.76,332.9 2223.46,305.056 2237.15,276.84 2250.85,248.252 2264.55,219.292 2278.24,189.96 2291.94,160.256 \n",
       "  \"/>\n",
       "<polyline clip-path=\"url(#clip812)\" style=\"stroke:#0000ff; stroke-linecap:butt; stroke-linejoin:round; stroke-width:4; stroke-opacity:1; fill:none\" stroke-dasharray=\"16, 10\" points=\"\n",
       "  264.778,1385.9 278.475,1385.37 292.173,1384.67 305.87,1383.78 319.567,1382.72 333.264,1381.48 346.961,1380.08 360.658,1378.51 374.355,1376.79 388.052,1374.92 \n",
       "  401.749,1372.9 415.446,1370.75 429.143,1368.46 442.84,1366.06 456.537,1363.55 470.234,1360.93 483.931,1358.23 497.628,1355.44 511.325,1352.57 525.022,1349.65 \n",
       "  538.719,1346.67 552.416,1343.66 566.113,1340.62 579.81,1337.55 593.508,1334.48 607.205,1331.42 620.902,1328.37 634.599,1325.35 648.296,1322.37 661.993,1319.44 \n",
       "  675.69,1316.56 689.387,1313.76 703.084,1311.04 716.781,1308.41 730.478,1305.88 744.175,1303.46 757.872,1301.15 771.569,1298.98 785.266,1296.94 798.963,1295.04 \n",
       "  812.66,1293.29 826.357,1291.7 840.054,1290.27 853.751,1289.01 867.448,1287.92 881.145,1287 894.842,1286.26 908.54,1285.71 922.237,1285.34 935.934,1285.15 \n",
       "  949.631,1285.15 963.328,1285.34 977.025,1285.71 990.722,1286.26 1004.42,1287 1018.12,1287.92 1031.81,1289.01 1045.51,1290.27 1059.21,1291.7 1072.9,1293.29 \n",
       "  1086.6,1295.04 1100.3,1296.94 1114,1298.98 1127.69,1301.15 1141.39,1303.46 1155.09,1305.88 1168.78,1308.41 1182.48,1311.04 1196.18,1313.76 1209.87,1316.56 \n",
       "  1223.57,1319.44 1237.27,1322.37 1250.97,1325.35 1264.66,1328.37 1278.36,1331.42 1292.06,1334.48 1305.75,1337.55 1319.45,1340.62 1333.15,1343.66 1346.84,1346.67 \n",
       "  1360.54,1349.65 1374.24,1352.57 1387.94,1355.44 1401.63,1358.23 1415.33,1360.93 1429.03,1363.55 1442.72,1366.06 1456.42,1368.46 1470.12,1370.75 1483.82,1372.9 \n",
       "  1497.51,1374.92 1511.21,1376.79 1524.91,1378.51 1538.6,1380.08 1552.3,1381.48 1566,1382.72 1579.69,1383.78 1593.39,1384.67 1607.09,1385.37 1620.79,1385.9 \n",
       "  1634.48,1386.24 1648.18,1386.4 1661.88,1386.37 1675.57,1386.15 1689.27,1385.75 1702.97,1385.16 1716.67,1384.4 1730.36,1383.45 1744.06,1382.33 1757.76,1381.04 \n",
       "  1771.45,1379.58 1785.15,1377.97 1798.85,1376.19 1812.54,1374.27 1826.24,1372.21 1839.94,1370.01 1853.64,1367.69 1867.33,1365.25 1881.03,1362.7 1894.73,1360.06 \n",
       "  1908.42,1357.32 1922.12,1354.51 1935.82,1351.62 1949.51,1348.68 1963.21,1345.69 1976.91,1342.67 1990.61,1339.61 2004.3,1336.55 2018,1333.48 2031.7,1330.42 \n",
       "  2045.39,1327.38 2059.09,1324.37 2072.79,1321.4 2086.49,1318.49 2100.18,1315.64 2113.88,1312.86 2127.58,1310.17 2141.27,1307.57 2154.97,1305.07 2168.67,1302.69 \n",
       "  2182.36,1300.43 2196.06,1298.3 2209.76,1296.3 2223.46,1294.45 2237.15,1292.75 2250.85,1291.22 2264.55,1289.84 2278.24,1288.63 2291.94,1287.6 \n",
       "  \"/>\n",
       "<path clip-path=\"url(#clip810)\" d=\"\n",
       "M1933.65 322.316 L2281.13 322.316 L2281.13 166.796 L1933.65 166.796  Z\n",
       "  \" fill=\"#ffffff\" fill-rule=\"evenodd\" fill-opacity=\"1\"/>\n",
       "<polyline clip-path=\"url(#clip810)\" style=\"stroke:#000000; stroke-linecap:butt; stroke-linejoin:round; stroke-width:4; stroke-opacity:1; fill:none\" points=\"\n",
       "  1933.65,322.316 2281.13,322.316 2281.13,166.796 1933.65,166.796 1933.65,322.316 \n",
       "  \"/>\n",
       "<polyline clip-path=\"url(#clip810)\" style=\"stroke:#ff0000; stroke-linecap:butt; stroke-linejoin:round; stroke-width:4; stroke-opacity:1; fill:none\" points=\"\n",
       "  1957.52,218.636 2100.78,218.636 \n",
       "  \"/>\n",
       "<path clip-path=\"url(#clip810)\" d=\"M2141.16 199.897 L2141.16 203.439 L2137.08 203.439 Q2134.79 203.439 2133.89 204.365 Q2133.01 205.291 2133.01 207.698 L2133.01 209.99 L2140.02 209.99 L2140.02 213.3 L2133.01 213.3 L2133.01 235.916 L2128.73 235.916 L2128.73 213.3 L2124.65 213.3 L2124.65 209.99 L2128.73 209.99 L2128.73 208.184 Q2128.73 203.856 2130.74 201.888 Q2132.75 199.897 2137.13 199.897 L2141.16 199.897 Z\" fill=\"#000000\" fill-rule=\"evenodd\" fill-opacity=\"1\" /><path clip-path=\"url(#clip810)\" d=\"M2166.27 220.268 L2166.27 235.916 L2162.01 235.916 L2162.01 220.407 Q2162.01 216.726 2160.58 214.897 Q2159.14 213.069 2156.27 213.069 Q2152.82 213.069 2150.83 215.268 Q2148.84 217.467 2148.84 221.263 L2148.84 235.916 L2144.56 235.916 L2144.56 209.99 L2148.84 209.99 L2148.84 214.018 Q2150.37 211.68 2152.43 210.522 Q2154.51 209.365 2157.22 209.365 Q2161.69 209.365 2163.98 212.143 Q2166.27 214.897 2166.27 220.268 Z\" fill=\"#000000\" fill-rule=\"evenodd\" fill-opacity=\"1\" /><path clip-path=\"url(#clip810)\" d=\"M2176.18 231.981 L2183.82 231.981 L2183.82 205.615 L2175.51 207.282 L2175.51 203.022 L2183.77 201.356 L2188.45 201.356 L2188.45 231.981 L2196.09 231.981 L2196.09 235.916 L2176.18 235.916 L2176.18 231.981 Z\" fill=\"#000000\" fill-rule=\"evenodd\" fill-opacity=\"1\" /><path clip-path=\"url(#clip810)\" d=\"M2215.16 199.944 Q2212.06 205.268 2210.55 210.476 Q2209.05 215.684 2209.05 221.032 Q2209.05 226.379 2210.55 231.633 Q2212.08 236.865 2215.16 242.166 L2211.46 242.166 Q2207.99 236.726 2206.25 231.471 Q2204.54 226.217 2204.54 221.032 Q2204.54 215.87 2206.25 210.638 Q2207.96 205.407 2211.46 199.944 L2215.16 199.944 Z\" fill=\"#000000\" fill-rule=\"evenodd\" fill-opacity=\"1\" /><path clip-path=\"url(#clip810)\" d=\"M2222.75 199.944 L2226.46 199.944 Q2229.93 205.407 2231.64 210.638 Q2233.38 215.87 2233.38 221.032 Q2233.38 226.217 2231.64 231.471 Q2229.93 236.726 2226.46 242.166 L2222.75 242.166 Q2225.83 236.865 2227.34 231.633 Q2228.86 226.379 2228.86 221.032 Q2228.86 215.684 2227.34 210.476 Q2225.83 205.268 2222.75 199.944 Z\" fill=\"#000000\" fill-rule=\"evenodd\" fill-opacity=\"1\" /><polyline clip-path=\"url(#clip810)\" style=\"stroke:#0000ff; stroke-linecap:butt; stroke-linejoin:round; stroke-width:4; stroke-opacity:1; fill:none\" stroke-dasharray=\"16, 10\" points=\"\n",
       "  1957.52,270.476 2100.78,270.476 \n",
       "  \"/>\n",
       "<path clip-path=\"url(#clip810)\" d=\"M2145.16 262.825 L2145.16 266.807 Q2143.36 265.811 2141.53 265.325 Q2139.72 264.816 2137.87 264.816 Q2133.73 264.816 2131.43 267.455 Q2129.14 270.071 2129.14 274.816 Q2129.14 279.561 2131.43 282.2 Q2133.73 284.816 2137.87 284.816 Q2139.72 284.816 2141.53 284.33 Q2143.36 283.821 2145.16 282.825 L2145.16 286.76 Q2143.38 287.594 2141.46 288.01 Q2139.56 288.427 2137.41 288.427 Q2131.55 288.427 2128.1 284.746 Q2124.65 281.066 2124.65 274.816 Q2124.65 268.473 2128.12 264.839 Q2131.62 261.205 2137.68 261.205 Q2139.65 261.205 2141.53 261.622 Q2143.4 262.015 2145.16 262.825 Z\" fill=\"#000000\" fill-rule=\"evenodd\" fill-opacity=\"1\" /><path clip-path=\"url(#clip810)\" d=\"M2162.62 264.816 Q2159.19 264.816 2157.2 267.501 Q2155.21 270.163 2155.21 274.816 Q2155.21 279.469 2157.18 282.154 Q2159.17 284.816 2162.62 284.816 Q2166.02 284.816 2168.01 282.131 Q2170 279.446 2170 274.816 Q2170 270.21 2168.01 267.524 Q2166.02 264.816 2162.62 264.816 M2162.62 261.205 Q2168.17 261.205 2171.34 264.816 Q2174.51 268.427 2174.51 274.816 Q2174.51 281.182 2171.34 284.816 Q2168.17 288.427 2162.62 288.427 Q2157.04 288.427 2153.87 284.816 Q2150.72 281.182 2150.72 274.816 Q2150.72 268.427 2153.87 264.816 Q2157.04 261.205 2162.62 261.205 Z\" fill=\"#000000\" fill-rule=\"evenodd\" fill-opacity=\"1\" /><path clip-path=\"url(#clip810)\" d=\"M2198.1 262.594 L2198.1 266.622 Q2196.3 265.696 2194.35 265.233 Q2192.41 264.77 2190.32 264.77 Q2187.15 264.77 2185.55 265.742 Q2183.98 266.714 2183.98 268.659 Q2183.98 270.14 2185.11 270.997 Q2186.25 271.83 2189.68 272.594 L2191.13 272.918 Q2195.67 273.89 2197.57 275.672 Q2199.49 277.432 2199.49 280.603 Q2199.49 284.214 2196.62 286.321 Q2193.77 288.427 2188.77 288.427 Q2186.69 288.427 2184.42 288.01 Q2182.18 287.617 2179.68 286.807 L2179.68 282.409 Q2182.04 283.635 2184.33 284.26 Q2186.62 284.862 2188.86 284.862 Q2191.87 284.862 2193.49 283.844 Q2195.11 282.802 2195.11 280.927 Q2195.11 279.191 2193.93 278.265 Q2192.78 277.339 2188.82 276.483 L2187.34 276.135 Q2183.38 275.302 2181.62 273.589 Q2179.86 271.853 2179.86 268.844 Q2179.86 265.186 2182.45 263.196 Q2185.05 261.205 2189.81 261.205 Q2192.18 261.205 2194.26 261.552 Q2196.34 261.899 2198.1 262.594 Z\" fill=\"#000000\" fill-rule=\"evenodd\" fill-opacity=\"1\" /></svg>\n"
      ]
     },
     "metadata": {},
     "output_type": "display_data"
    }
   ],
   "source": [
    "plot( [x x],[fn1.(x) cos.(x)],\n",
    "           linecolor = [:red :blue],\n",
    "           linestyle = [:solid :dash],\n",
    "           linewidth = [2 1],\n",
    "           label = [\"fn1()\" \"cos\"],\n",
    "           title = \"My Results\",\n",
    "           xlabel = \"x\",\n",
    "           ylabel = \"my output value\" )"
   ]
  },
  {
   "cell_type": "markdown",
   "metadata": {},
   "source": [
    "## Types (optional, but recommended)"
   ]
  },
  {
   "cell_type": "markdown",
   "metadata": {},
   "source": [
    "This final section is optional, but I would recommend simply reading through it. There are some really valuable things about the way that Julia works as a language. However, if you have no interest in this type of thing you can safely skip the section. "
   ]
  },
  {
   "cell_type": "markdown",
   "metadata": {},
   "source": []
  }
 ],
 "metadata": {
  "kernelspec": {
   "display_name": "Julia 1.7.0-rc2",
   "language": "julia",
   "name": "julia-1.7"
  },
  "language_info": {
   "file_extension": ".jl",
   "mimetype": "application/julia",
   "name": "julia",
   "version": "1.7.0-rc2"
  },
  "nteract": {
   "version": "0.25.1"
  }
 },
 "nbformat": 4,
 "nbformat_minor": 4
}
