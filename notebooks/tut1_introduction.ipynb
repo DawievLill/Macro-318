{
 "cells": [
  {
   "cell_type": "markdown",
   "metadata": {},
   "source": [
    "# Tutorial 1: Introduction to Julia"
   ]
  },
  {
   "cell_type": "markdown",
   "metadata": {},
   "source": [
    "This is the first of 4 tutorials that are focused on very basic computational methods in macroeconomics. This is a short tutorial that is supposed to show you the basics of the Julia programming language. At the end of the tutorial you will see links to many more resources. "
   ]
  },
  {
   "cell_type": "markdown",
   "metadata": {},
   "source": [
    "## Planned teaching outcomes"
   ]
  },
  {
   "cell_type": "markdown",
   "metadata": {},
   "source": [
    "In this course we hope to look at different themes in computational macroeconomics. Most of modern macroeconomic research involves utilising computational methods, so it is wortwhile to get comfortable with some basic programming skills. The return on this investment is quite high. If you are interested in this type of work, feel free to contact me to talk about computational economics in Honours and Masters. "
   ]
  },
  {
   "cell_type": "markdown",
   "metadata": {},
   "source": [
    "Here are some of the focus areas\n",
    "\n",
    "- Introduction to Julia\n",
    "- Basics of computation\n",
    "- Optimisation and the consumer problem\n",
    "- Simulation (optional)\n",
    "- Solow model (optional)"
   ]
  },
  {
   "cell_type": "markdown",
   "metadata": {},
   "source": [
    "Ideally, I would also like to teach you about version control through Git, but I realise that this might too much to handle in such a short time. I will provide some links to getting started with Git at the bottom of the page. "
   ]
  },
  {
   "cell_type": "markdown",
   "metadata": {},
   "source": [
    "# Tutorial workflow"
   ]
  },
  {
   "cell_type": "markdown",
   "metadata": {},
   "source": [
    "The tutorials will be pre-recorded so that you can go through the material on your own time. During the tutorial session I will be answering questions and also going through some exercises. "
   ]
  }
 ],
 "metadata": {
  "kernelspec": {
   "display_name": "Julia 1.7.0-rc2",
   "language": "julia",
   "name": "julia-1.7"
  },
  "language_info": {
   "file_extension": ".jl",
   "mimetype": "application/julia",
   "name": "julia",
   "version": "1.7.0"
  }
 },
 "nbformat": 4,
 "nbformat_minor": 4
}
