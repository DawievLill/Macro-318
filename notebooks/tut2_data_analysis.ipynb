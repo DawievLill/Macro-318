{
 "cells": [
  {
   "cell_type": "markdown",
   "metadata": {},
   "source": [
    "# <span style=\"color:#2c061f\"> Macro 318: Tutorial #2 </span>  \n",
    "\n",
    "<br>\n",
    "\n",
    "## <span style=\"color:#374045\"> Data, Stats and Math with Julia </span>\n",
    "\n",
    "\n",
    "#### <span style=\"color:#374045\"> Lecturer: </span> <span style=\"color:#d89216\"> <br> Dawie van Lill (dvanlill@sun.ac.za) </span>"
   ]
  },
  {
   "cell_type": "markdown",
   "metadata": {},
   "source": [
    "# Introduction"
   ]
  },
  {
   "cell_type": "markdown",
   "metadata": {},
   "source": [
    "In this tutorial we will start our discussion with how to work with data in Julia. We will then cover some basic statistics and in the last section move on to some fundamental ideas in mathematics (mostly related to calculus).  \n",
    "\n",
    "Please note that working with data in Julia is going to be different than working with data in Stata. I am just showing basic principles here so that you are aware of them. You do not need to memorise everything in this notebook. It is simply here as a good reference to have if you want to do some useful data work for macroeconomics. \n",
    "\n",
    "If you are more comfortable with Stata for working with data then you can continue on that path. I am simply offering an alternative. \n",
    "\n",
    "In the job market there are a few languages that are used for data analysis. The most popular ones are Stata, R, Python and Julia. At this stage Julia is not the most popular for data work, but it shares similarities with Python. So if you know Julia well, it will be easy to pick up Python. Julia is more popular for work related to numerical / scientific computation, which we will cover in some of the future tutorials. \n",
    "\n",
    "As an aside, you might be wondering why we chose Julia for this course. There are several reasons, but primarily it is because the language is easy to learn and is similar in syntax to Python. It is also blazingly fast!\n",
    "\n",
    "Why not learn Python then? Well, we considered this, but Julia is a just a bit easier to get started with and easier to install for most people. And also, it is super fast! I also believe that it is a language that will be used a lot in economics in the future, with a lot of macroeconomists starting to use it for their modelling purposes. \n",
    "\n",
    "If you are interested in Python as an alternative to Julia you can always contact me and I can refer you to some resources. However, for most students it is more important to get the programming principles right without worrying too much about the language that they are using. "
   ]
  },
  {
   "cell_type": "code",
   "execution_count": 1,
   "metadata": {},
   "outputs": [],
   "source": [
    "import Pkg"
   ]
  },
  {
   "cell_type": "code",
   "execution_count": 67,
   "metadata": {},
   "outputs": [
    {
     "name": "stderr",
     "output_type": "stream",
     "text": [
      "\u001b[32m\u001b[1m   Resolving\u001b[22m\u001b[39m package versions...\n",
      "\u001b[32m\u001b[1m  No Changes\u001b[22m\u001b[39m to `~/.julia/environments/v1.7/Project.toml`\n",
      "\u001b[32m\u001b[1m  No Changes\u001b[22m\u001b[39m to `~/.julia/environments/v1.7/Manifest.toml`\n",
      "\u001b[32m\u001b[1m   Resolving\u001b[22m\u001b[39m package versions...\n",
      "\u001b[32m\u001b[1m  No Changes\u001b[22m\u001b[39m to `~/.julia/environments/v1.7/Project.toml`\n",
      "\u001b[32m\u001b[1m  No Changes\u001b[22m\u001b[39m to `~/.julia/environments/v1.7/Manifest.toml`\n",
      "\u001b[32m\u001b[1m   Resolving\u001b[22m\u001b[39m package versions...\n",
      "\u001b[32m\u001b[1m  No Changes\u001b[22m\u001b[39m to `~/.julia/environments/v1.7/Project.toml`\n",
      "\u001b[32m\u001b[1m  No Changes\u001b[22m\u001b[39m to `~/.julia/environments/v1.7/Manifest.toml`\n",
      "\u001b[32m\u001b[1m   Resolving\u001b[22m\u001b[39m package versions...\n",
      "\u001b[32m\u001b[1m  No Changes\u001b[22m\u001b[39m to `~/.julia/environments/v1.7/Project.toml`\n",
      "\u001b[32m\u001b[1m  No Changes\u001b[22m\u001b[39m to `~/.julia/environments/v1.7/Manifest.toml`\n",
      "\u001b[32m\u001b[1m   Resolving\u001b[22m\u001b[39m package versions...\n",
      "\u001b[32m\u001b[1m  No Changes\u001b[22m\u001b[39m to `~/.julia/environments/v1.7/Project.toml`\n",
      "\u001b[32m\u001b[1m  No Changes\u001b[22m\u001b[39m to `~/.julia/environments/v1.7/Manifest.toml`\n",
      "\u001b[32m\u001b[1m   Resolving\u001b[22m\u001b[39m package versions...\n",
      "\u001b[32m\u001b[1m  No Changes\u001b[22m\u001b[39m to `~/.julia/environments/v1.7/Project.toml`\n",
      "\u001b[32m\u001b[1m  No Changes\u001b[22m\u001b[39m to `~/.julia/environments/v1.7/Manifest.toml`\n",
      "\u001b[32m\u001b[1m   Resolving\u001b[22m\u001b[39m package versions...\n",
      "\u001b[32m\u001b[1m  No Changes\u001b[22m\u001b[39m to `~/.julia/environments/v1.7/Project.toml`\n",
      "\u001b[32m\u001b[1m  No Changes\u001b[22m\u001b[39m to `~/.julia/environments/v1.7/Manifest.toml`\n",
      "\u001b[32m\u001b[1m   Resolving\u001b[22m\u001b[39m package versions...\n",
      "\u001b[32m\u001b[1m  No Changes\u001b[22m\u001b[39m to `~/.julia/environments/v1.7/Project.toml`\n",
      "\u001b[32m\u001b[1m  No Changes\u001b[22m\u001b[39m to `~/.julia/environments/v1.7/Manifest.toml`\n",
      "\u001b[32m\u001b[1m   Resolving\u001b[22m\u001b[39m package versions...\n",
      "\u001b[32m\u001b[1m  No Changes\u001b[22m\u001b[39m to `~/.julia/environments/v1.7/Project.toml`\n",
      "\u001b[32m\u001b[1m  No Changes\u001b[22m\u001b[39m to `~/.julia/environments/v1.7/Manifest.toml`\n",
      "\u001b[32m\u001b[1m   Resolving\u001b[22m\u001b[39m package versions...\n",
      "\u001b[32m\u001b[1m    Updating\u001b[22m\u001b[39m `~/.julia/environments/v1.7/Project.toml`\n",
      " \u001b[90m [1277b4bf] \u001b[39m\u001b[92m+ ShiftedArrays v1.0.0\u001b[39m\n",
      "\u001b[32m\u001b[1m  No Changes\u001b[22m\u001b[39m to `~/.julia/environments/v1.7/Manifest.toml`\n",
      "\u001b[32m\u001b[1m   Resolving\u001b[22m\u001b[39m package versions...\n",
      "\u001b[32m\u001b[1m  No Changes\u001b[22m\u001b[39m to `~/.julia/environments/v1.7/Project.toml`\n",
      "\u001b[32m\u001b[1m  No Changes\u001b[22m\u001b[39m to `~/.julia/environments/v1.7/Manifest.toml`\n"
     ]
    }
   ],
   "source": [
    "Pkg.add(\"CategoricalArrays\")\n",
    "Pkg.add(\"CSV\")\n",
    "Pkg.add(\"DataFrames\")\n",
    "Pkg.add(\"DataFramesMeta\")\n",
    "Pkg.add(\"Downloads\")\n",
    "Pkg.add(\"GLM\")\n",
    "Pkg.add(\"Plots\")\n",
    "Pkg.add(\"Random\")\n",
    "Pkg.add(\"RDatasets\")\n",
    "Pkg.add(\"ShiftedArrays\")\n",
    "Pkg.add(\"Statistics\")"
   ]
  },
  {
   "cell_type": "code",
   "execution_count": 68,
   "metadata": {},
   "outputs": [],
   "source": [
    "using CategoricalArrays\n",
    "using CSV\n",
    "using DataFrames\n",
    "using DataFramesMeta\n",
    "using Downloads\n",
    "using GLM\n",
    "using Plots\n",
    "using Random\n",
    "using RDatasets\n",
    "using ShiftedArrays\n",
    "using Statistics"
   ]
  },
  {
   "cell_type": "markdown",
   "metadata": {},
   "source": [
    "# Working with data"
   ]
  },
  {
   "cell_type": "markdown",
   "metadata": {},
   "source": [
    "The primary package for working with data in Julia is `DataFrames.jl`. For a comprehensive tutorial series on this package I would recommend Bogumił Kamiński's [Introduction to DataFrames](https://github.com/bkamins/Julia-DataFrames-Tutorial)."
   ]
  },
  {
   "cell_type": "markdown",
   "metadata": {},
   "source": [
    "# DataFrames basics"
   ]
  },
  {
   "cell_type": "markdown",
   "metadata": {},
   "source": [
    "In this section we discuss basic principles from the DataFrames package. For the first topic we look at how to construct and access DataFrames. The fundamental object that we care about is the `DataFrame`. This is similar to a `dataframe` that you would find in R or in Pandas (Python).\n",
    "\n",
    "DataFrames are essentially matrices, with the rows being observations and the columns indicating the variables. "
   ]
  },
  {
   "cell_type": "markdown",
   "metadata": {},
   "source": [
    "## Constructors"
   ]
  },
  {
   "cell_type": "markdown",
   "metadata": {},
   "source": [
    "The easiest thing to construct is an empty DataFrame. "
   ]
  },
  {
   "cell_type": "code",
   "execution_count": 5,
   "metadata": {},
   "outputs": [
    {
     "data": {
      "text/html": [
       "<div class=\"data-frame\"><p>0 rows × 0 columns</p><table class=\"data-frame\"><thead><tr><th></th></tr><tr><th></th></tr></thead><tbody></tbody></table></div>"
      ],
      "text/latex": [
       "\\begin{tabular}{r|}\n",
       "\t& \\\\\n",
       "\t\\hline\n",
       "\t& \\\\\n",
       "\t\\hline\n",
       "\\end{tabular}\n"
      ],
      "text/plain": [
       "\u001b[1m0×0 DataFrame\u001b[0m"
      ]
     },
     "execution_count": 5,
     "metadata": {},
     "output_type": "execute_result"
    }
   ],
   "source": [
    "DataFrame() # empty DataFrame"
   ]
  },
  {
   "cell_type": "markdown",
   "metadata": {},
   "source": [
    "You could also construct a DataFrame with different keyword arguments. Notice the different types of the different columns. "
   ]
  },
  {
   "cell_type": "code",
   "execution_count": 6,
   "metadata": {},
   "outputs": [
    {
     "data": {
      "text/html": [
       "<div class=\"data-frame\"><p>4 rows × 3 columns</p><table class=\"data-frame\"><thead><tr><th></th><th>A</th><th>B</th><th>C</th></tr><tr><th></th><th title=\"Int64\">Int64</th><th title=\"Float64\">Float64</th><th title=\"String\">String</th></tr></thead><tbody><tr><th>1</th><td>2</td><td>-2.12885</td><td>Hello</td></tr><tr><th>2</th><td>3</td><td>0.169217</td><td>Hello</td></tr><tr><th>3</th><td>4</td><td>0.161368</td><td>Hello</td></tr><tr><th>4</th><td>5</td><td>-2.54336</td><td>Hello</td></tr></tbody></table></div>"
      ],
      "text/latex": [
       "\\begin{tabular}{r|ccc}\n",
       "\t& A & B & C\\\\\n",
       "\t\\hline\n",
       "\t& Int64 & Float64 & String\\\\\n",
       "\t\\hline\n",
       "\t1 & 2 & -2.12885 & Hello \\\\\n",
       "\t2 & 3 & 0.169217 & Hello \\\\\n",
       "\t3 & 4 & 0.161368 & Hello \\\\\n",
       "\t4 & 5 & -2.54336 & Hello \\\\\n",
       "\\end{tabular}\n"
      ],
      "text/plain": [
       "\u001b[1m4×3 DataFrame\u001b[0m\n",
       "\u001b[1m Row \u001b[0m│\u001b[1m A     \u001b[0m\u001b[1m B         \u001b[0m\u001b[1m C      \u001b[0m\n",
       "\u001b[1m     \u001b[0m│\u001b[90m Int64 \u001b[0m\u001b[90m Float64   \u001b[0m\u001b[90m String \u001b[0m\n",
       "─────┼──────────────────────────\n",
       "   1 │     2  -2.12885   Hello\n",
       "   2 │     3   0.169217  Hello\n",
       "   3 │     4   0.161368  Hello\n",
       "   4 │     5  -2.54336   Hello"
      ]
     },
     "execution_count": 6,
     "metadata": {},
     "output_type": "execute_result"
    }
   ],
   "source": [
    "DataFrame(A = 2:5, B = randn(4), C = \"Hello\")"
   ]
  },
  {
   "cell_type": "markdown",
   "metadata": {},
   "source": [
    "One of the most common ways to use constructors is through arrays. "
   ]
  },
  {
   "cell_type": "code",
   "execution_count": 7,
   "metadata": {},
   "outputs": [
    {
     "data": {
      "text/html": [
       "<div class=\"data-frame\"><p>4 rows × 2 columns</p><table class=\"data-frame\"><thead><tr><th></th><th>commod</th><th>price</th></tr><tr><th></th><th title=\"String\">String</th><th title=\"Union{Missing, Float64}\">Float64?</th></tr></thead><tbody><tr><th>1</th><td>crude</td><td>4.2</td></tr><tr><th>2</th><td>gas</td><td>11.3</td></tr><tr><th>3</th><td>gold</td><td>12.1</td></tr><tr><th>4</th><td>silver</td><td><em>missing</em></td></tr></tbody></table></div>"
      ],
      "text/latex": [
       "\\begin{tabular}{r|cc}\n",
       "\t& commod & price\\\\\n",
       "\t\\hline\n",
       "\t& String & Float64?\\\\\n",
       "\t\\hline\n",
       "\t1 & crude & 4.2 \\\\\n",
       "\t2 & gas & 11.3 \\\\\n",
       "\t3 & gold & 12.1 \\\\\n",
       "\t4 & silver & \\emph{missing} \\\\\n",
       "\\end{tabular}\n"
      ],
      "text/plain": [
       "\u001b[1m4×2 DataFrame\u001b[0m\n",
       "\u001b[1m Row \u001b[0m│\u001b[1m commod \u001b[0m\u001b[1m price     \u001b[0m\n",
       "\u001b[1m     \u001b[0m│\u001b[90m String \u001b[0m\u001b[90m Float64?  \u001b[0m\n",
       "─────┼───────────────────\n",
       "   1 │ crude         4.2\n",
       "   2 │ gas          11.3\n",
       "   3 │ gold         12.1\n",
       "   4 │ silver \u001b[90m missing   \u001b[0m"
      ]
     },
     "execution_count": 7,
     "metadata": {},
     "output_type": "execute_result"
    }
   ],
   "source": [
    "commodities = [\"crude\", \"gas\", \"gold\", \"silver\"]\n",
    "last_price = [4.2, 11.3, 12.1, missing] # notice that the last value is missing\n",
    "\n",
    "df = DataFrame(commod = commodities, price = last_price) # give names to columns"
   ]
  },
  {
   "cell_type": "markdown",
   "metadata": {},
   "source": [
    "One can also easily add a new row to an existing `DataFrame` using the `push!` function. This is equivalent to adding new observations to the variables. "
   ]
  },
  {
   "cell_type": "code",
   "execution_count": 8,
   "metadata": {},
   "outputs": [
    {
     "data": {
      "text/html": [
       "<div class=\"data-frame\"><p>5 rows × 2 columns</p><table class=\"data-frame\"><thead><tr><th></th><th>commod</th><th>price</th></tr><tr><th></th><th title=\"String\">String</th><th title=\"Union{Missing, Float64}\">Float64?</th></tr></thead><tbody><tr><th>1</th><td>crude</td><td>4.2</td></tr><tr><th>2</th><td>gas</td><td>11.3</td></tr><tr><th>3</th><td>gold</td><td>12.1</td></tr><tr><th>4</th><td>silver</td><td><em>missing</em></td></tr><tr><th>5</th><td>nickel</td><td>5.1</td></tr></tbody></table></div>"
      ],
      "text/latex": [
       "\\begin{tabular}{r|cc}\n",
       "\t& commod & price\\\\\n",
       "\t\\hline\n",
       "\t& String & Float64?\\\\\n",
       "\t\\hline\n",
       "\t1 & crude & 4.2 \\\\\n",
       "\t2 & gas & 11.3 \\\\\n",
       "\t3 & gold & 12.1 \\\\\n",
       "\t4 & silver & \\emph{missing} \\\\\n",
       "\t5 & nickel & 5.1 \\\\\n",
       "\\end{tabular}\n"
      ],
      "text/plain": [
       "\u001b[1m5×2 DataFrame\u001b[0m\n",
       "\u001b[1m Row \u001b[0m│\u001b[1m commod \u001b[0m\u001b[1m price     \u001b[0m\n",
       "\u001b[1m     \u001b[0m│\u001b[90m String \u001b[0m\u001b[90m Float64?  \u001b[0m\n",
       "─────┼───────────────────\n",
       "   1 │ crude         4.2\n",
       "   2 │ gas          11.3\n",
       "   3 │ gold         12.1\n",
       "   4 │ silver \u001b[90m missing   \u001b[0m\n",
       "   5 │ nickel        5.1"
      ]
     },
     "execution_count": 8,
     "metadata": {},
     "output_type": "execute_result"
    }
   ],
   "source": [
    "new_row = (commod = \"nickel\", price = 5.1)\n",
    "push!(df, new_row)"
   ]
  },
  {
   "cell_type": "markdown",
   "metadata": {},
   "source": [
    "One could also use array comprehensions to generate values for the DataFrame,  "
   ]
  },
  {
   "cell_type": "code",
   "execution_count": 9,
   "metadata": {},
   "outputs": [
    {
     "data": {
      "text/html": [
       "<div class=\"data-frame\"><p>3 rows × 3 columns</p><table class=\"data-frame\"><thead><tr><th></th><th>x1</th><th>x2</th><th>x3</th></tr><tr><th></th><th title=\"Float64\">Float64</th><th title=\"Float64\">Float64</th><th title=\"Float64\">Float64</th></tr></thead><tbody><tr><th>1</th><td>0.811626</td><td>0.979328</td><td>0.00553571</td></tr><tr><th>2</th><td>0.564643</td><td>0.92339</td><td>0.796015</td></tr><tr><th>3</th><td>0.559084</td><td>0.689359</td><td>0.0429826</td></tr></tbody></table></div>"
      ],
      "text/latex": [
       "\\begin{tabular}{r|ccc}\n",
       "\t& x1 & x2 & x3\\\\\n",
       "\t\\hline\n",
       "\t& Float64 & Float64 & Float64\\\\\n",
       "\t\\hline\n",
       "\t1 & 0.811626 & 0.979328 & 0.00553571 \\\\\n",
       "\t2 & 0.564643 & 0.92339 & 0.796015 \\\\\n",
       "\t3 & 0.559084 & 0.689359 & 0.0429826 \\\\\n",
       "\\end{tabular}\n"
      ],
      "text/plain": [
       "\u001b[1m3×3 DataFrame\u001b[0m\n",
       "\u001b[1m Row \u001b[0m│\u001b[1m x1       \u001b[0m\u001b[1m x2       \u001b[0m\u001b[1m x3         \u001b[0m\n",
       "\u001b[1m     \u001b[0m│\u001b[90m Float64  \u001b[0m\u001b[90m Float64  \u001b[0m\u001b[90m Float64    \u001b[0m\n",
       "─────┼────────────────────────────────\n",
       "   1 │ 0.811626  0.979328  0.00553571\n",
       "   2 │ 0.564643  0.92339   0.796015\n",
       "   3 │ 0.559084  0.689359  0.0429826"
      ]
     },
     "execution_count": 9,
     "metadata": {},
     "output_type": "execute_result"
    }
   ],
   "source": [
    "DataFrame([rand(3) for i in 1:3], [:x1, :x2, :x3]) # see how we named the columns"
   ]
  },
  {
   "cell_type": "markdown",
   "metadata": {},
   "source": [
    "You can also create a DataFrame from a matrix, "
   ]
  },
  {
   "cell_type": "code",
   "execution_count": 10,
   "metadata": {},
   "outputs": [
    {
     "data": {
      "text/html": [
       "<div class=\"data-frame\"><p>3 rows × 3 columns</p><table class=\"data-frame\"><thead><tr><th></th><th>x1</th><th>x2</th><th>x3</th></tr><tr><th></th><th title=\"Float64\">Float64</th><th title=\"Float64\">Float64</th><th title=\"Float64\">Float64</th></tr></thead><tbody><tr><th>1</th><td>0.55046</td><td>0.389732</td><td>0.205044</td></tr><tr><th>2</th><td>0.512069</td><td>0.0436562</td><td>0.895377</td></tr><tr><th>3</th><td>0.743549</td><td>0.574314</td><td>0.229453</td></tr></tbody></table></div>"
      ],
      "text/latex": [
       "\\begin{tabular}{r|ccc}\n",
       "\t& x1 & x2 & x3\\\\\n",
       "\t\\hline\n",
       "\t& Float64 & Float64 & Float64\\\\\n",
       "\t\\hline\n",
       "\t1 & 0.55046 & 0.389732 & 0.205044 \\\\\n",
       "\t2 & 0.512069 & 0.0436562 & 0.895377 \\\\\n",
       "\t3 & 0.743549 & 0.574314 & 0.229453 \\\\\n",
       "\\end{tabular}\n"
      ],
      "text/plain": [
       "\u001b[1m3×3 DataFrame\u001b[0m\n",
       "\u001b[1m Row \u001b[0m│\u001b[1m x1       \u001b[0m\u001b[1m x2        \u001b[0m\u001b[1m x3       \u001b[0m\n",
       "\u001b[1m     \u001b[0m│\u001b[90m Float64  \u001b[0m\u001b[90m Float64   \u001b[0m\u001b[90m Float64  \u001b[0m\n",
       "─────┼───────────────────────────────\n",
       "   1 │ 0.55046   0.389732   0.205044\n",
       "   2 │ 0.512069  0.0436562  0.895377\n",
       "   3 │ 0.743549  0.574314   0.229453"
      ]
     },
     "execution_count": 10,
     "metadata": {},
     "output_type": "execute_result"
    }
   ],
   "source": [
    "x = DataFrame(rand(3, 3), :auto) # automatically assign column names"
   ]
  },
  {
   "cell_type": "markdown",
   "metadata": {},
   "source": [
    "Incidentally, you can convert the DataFrame into a matrix or array if you so wished, "
   ]
  },
  {
   "cell_type": "code",
   "execution_count": 11,
   "metadata": {},
   "outputs": [
    {
     "data": {
      "text/plain": [
       "3×3 Matrix{Float64}:\n",
       " 0.55046   0.389732   0.205044\n",
       " 0.512069  0.0436562  0.895377\n",
       " 0.743549  0.574314   0.229453"
      ]
     },
     "execution_count": 11,
     "metadata": {},
     "output_type": "execute_result"
    }
   ],
   "source": [
    "Matrix(x)"
   ]
  },
  {
   "cell_type": "markdown",
   "metadata": {},
   "source": [
    "In the next section we talk about accessing the element of a DataFrame as well as looking at some basic information about the DataFrame that we have on hand.  "
   ]
  },
  {
   "cell_type": "markdown",
   "metadata": {},
   "source": [
    "## Accessing data"
   ]
  },
  {
   "cell_type": "markdown",
   "metadata": {},
   "source": [
    "Once we have our data set up in a DataFrame, we are often going to want to know some basic things about the contents. Let us construct a relatively large DataFrame. Most of the time we will be working with large datasets in economics, with thousands of rows and columns. You might be used to working with data in Excel, so things might feel foreign right now. However, I promise that once you start working with data in a programming language such as R, Julia or Python, your productivity will greatly increase. You only need to get over that initial apprehension on learning something new. "
   ]
  },
  {
   "cell_type": "code",
   "execution_count": 19,
   "metadata": {},
   "outputs": [],
   "source": [
    "y = DataFrame(rand(1:10, 1000, 10), :auto);"
   ]
  },
  {
   "cell_type": "markdown",
   "metadata": {},
   "source": [
    "We can get some basic summary statistics on the data in the DataFrame using the `describe` function. "
   ]
  },
  {
   "cell_type": "code",
   "execution_count": 20,
   "metadata": {},
   "outputs": [
    {
     "data": {
      "text/html": [
       "<div class=\"data-frame\"><p>10 rows × 7 columns</p><table class=\"data-frame\"><thead><tr><th></th><th>variable</th><th>mean</th><th>min</th><th>median</th><th>max</th><th>nmissing</th><th>eltype</th></tr><tr><th></th><th title=\"Symbol\">Symbol</th><th title=\"Float64\">Float64</th><th title=\"Int64\">Int64</th><th title=\"Float64\">Float64</th><th title=\"Int64\">Int64</th><th title=\"Int64\">Int64</th><th title=\"DataType\">DataType</th></tr></thead><tbody><tr><th>1</th><td>x1</td><td>5.499</td><td>1</td><td>5.5</td><td>10</td><td>0</td><td>Int64</td></tr><tr><th>2</th><td>x2</td><td>5.539</td><td>1</td><td>5.5</td><td>10</td><td>0</td><td>Int64</td></tr><tr><th>3</th><td>x3</td><td>5.481</td><td>1</td><td>5.0</td><td>10</td><td>0</td><td>Int64</td></tr><tr><th>4</th><td>x4</td><td>5.537</td><td>1</td><td>6.0</td><td>10</td><td>0</td><td>Int64</td></tr><tr><th>5</th><td>x5</td><td>5.576</td><td>1</td><td>6.0</td><td>10</td><td>0</td><td>Int64</td></tr><tr><th>6</th><td>x6</td><td>5.448</td><td>1</td><td>5.0</td><td>10</td><td>0</td><td>Int64</td></tr><tr><th>7</th><td>x7</td><td>5.569</td><td>1</td><td>6.0</td><td>10</td><td>0</td><td>Int64</td></tr><tr><th>8</th><td>x8</td><td>5.493</td><td>1</td><td>6.0</td><td>10</td><td>0</td><td>Int64</td></tr><tr><th>9</th><td>x9</td><td>5.432</td><td>1</td><td>5.0</td><td>10</td><td>0</td><td>Int64</td></tr><tr><th>10</th><td>x10</td><td>5.527</td><td>1</td><td>5.0</td><td>10</td><td>0</td><td>Int64</td></tr></tbody></table></div>"
      ],
      "text/latex": [
       "\\begin{tabular}{r|ccccccc}\n",
       "\t& variable & mean & min & median & max & nmissing & eltype\\\\\n",
       "\t\\hline\n",
       "\t& Symbol & Float64 & Int64 & Float64 & Int64 & Int64 & DataType\\\\\n",
       "\t\\hline\n",
       "\t1 & x1 & 5.499 & 1 & 5.5 & 10 & 0 & Int64 \\\\\n",
       "\t2 & x2 & 5.539 & 1 & 5.5 & 10 & 0 & Int64 \\\\\n",
       "\t3 & x3 & 5.481 & 1 & 5.0 & 10 & 0 & Int64 \\\\\n",
       "\t4 & x4 & 5.537 & 1 & 6.0 & 10 & 0 & Int64 \\\\\n",
       "\t5 & x5 & 5.576 & 1 & 6.0 & 10 & 0 & Int64 \\\\\n",
       "\t6 & x6 & 5.448 & 1 & 5.0 & 10 & 0 & Int64 \\\\\n",
       "\t7 & x7 & 5.569 & 1 & 6.0 & 10 & 0 & Int64 \\\\\n",
       "\t8 & x8 & 5.493 & 1 & 6.0 & 10 & 0 & Int64 \\\\\n",
       "\t9 & x9 & 5.432 & 1 & 5.0 & 10 & 0 & Int64 \\\\\n",
       "\t10 & x10 & 5.527 & 1 & 5.0 & 10 & 0 & Int64 \\\\\n",
       "\\end{tabular}\n"
      ],
      "text/plain": [
       "\u001b[1m10×7 DataFrame\u001b[0m\n",
       "\u001b[1m Row \u001b[0m│\u001b[1m variable \u001b[0m\u001b[1m mean    \u001b[0m\u001b[1m min   \u001b[0m\u001b[1m median  \u001b[0m\u001b[1m max   \u001b[0m\u001b[1m nmissing \u001b[0m\u001b[1m eltype   \u001b[0m\n",
       "\u001b[1m     \u001b[0m│\u001b[90m Symbol   \u001b[0m\u001b[90m Float64 \u001b[0m\u001b[90m Int64 \u001b[0m\u001b[90m Float64 \u001b[0m\u001b[90m Int64 \u001b[0m\u001b[90m Int64    \u001b[0m\u001b[90m DataType \u001b[0m\n",
       "─────┼──────────────────────────────────────────────────────────────\n",
       "   1 │ x1          5.499      1      5.5     10         0  Int64\n",
       "   2 │ x2          5.539      1      5.5     10         0  Int64\n",
       "   3 │ x3          5.481      1      5.0     10         0  Int64\n",
       "   4 │ x4          5.537      1      6.0     10         0  Int64\n",
       "   5 │ x5          5.576      1      6.0     10         0  Int64\n",
       "   6 │ x6          5.448      1      5.0     10         0  Int64\n",
       "   7 │ x7          5.569      1      6.0     10         0  Int64\n",
       "   8 │ x8          5.493      1      6.0     10         0  Int64\n",
       "   9 │ x9          5.432      1      5.0     10         0  Int64\n",
       "  10 │ x10         5.527      1      5.0     10         0  Int64"
      ]
     },
     "execution_count": 20,
     "metadata": {},
     "output_type": "execute_result"
    }
   ],
   "source": [
    "describe(y)"
   ]
  },
  {
   "cell_type": "markdown",
   "metadata": {},
   "source": [
    "If we want to take a peak at the first few rows of the data we can use the `first` function. "
   ]
  },
  {
   "cell_type": "code",
   "execution_count": 14,
   "metadata": {},
   "outputs": [
    {
     "data": {
      "text/html": [
       "<div class=\"data-frame\"><p>5 rows × 10 columns</p><table class=\"data-frame\"><thead><tr><th></th><th>x1</th><th>x2</th><th>x3</th><th>x4</th><th>x5</th><th>x6</th><th>x7</th><th>x8</th><th>x9</th><th>x10</th></tr><tr><th></th><th title=\"Int64\">Int64</th><th title=\"Int64\">Int64</th><th title=\"Int64\">Int64</th><th title=\"Int64\">Int64</th><th title=\"Int64\">Int64</th><th title=\"Int64\">Int64</th><th title=\"Int64\">Int64</th><th title=\"Int64\">Int64</th><th title=\"Int64\">Int64</th><th title=\"Int64\">Int64</th></tr></thead><tbody><tr><th>1</th><td>6</td><td>5</td><td>6</td><td>2</td><td>8</td><td>8</td><td>10</td><td>6</td><td>6</td><td>3</td></tr><tr><th>2</th><td>3</td><td>8</td><td>5</td><td>9</td><td>10</td><td>3</td><td>10</td><td>7</td><td>2</td><td>10</td></tr><tr><th>3</th><td>8</td><td>10</td><td>2</td><td>6</td><td>7</td><td>7</td><td>2</td><td>8</td><td>3</td><td>10</td></tr><tr><th>4</th><td>5</td><td>6</td><td>3</td><td>7</td><td>9</td><td>2</td><td>6</td><td>2</td><td>9</td><td>6</td></tr><tr><th>5</th><td>5</td><td>7</td><td>2</td><td>3</td><td>8</td><td>8</td><td>2</td><td>9</td><td>2</td><td>4</td></tr></tbody></table></div>"
      ],
      "text/latex": [
       "\\begin{tabular}{r|cccccccccc}\n",
       "\t& x1 & x2 & x3 & x4 & x5 & x6 & x7 & x8 & x9 & x10\\\\\n",
       "\t\\hline\n",
       "\t& Int64 & Int64 & Int64 & Int64 & Int64 & Int64 & Int64 & Int64 & Int64 & Int64\\\\\n",
       "\t\\hline\n",
       "\t1 & 6 & 5 & 6 & 2 & 8 & 8 & 10 & 6 & 6 & 3 \\\\\n",
       "\t2 & 3 & 8 & 5 & 9 & 10 & 3 & 10 & 7 & 2 & 10 \\\\\n",
       "\t3 & 8 & 10 & 2 & 6 & 7 & 7 & 2 & 8 & 3 & 10 \\\\\n",
       "\t4 & 5 & 6 & 3 & 7 & 9 & 2 & 6 & 2 & 9 & 6 \\\\\n",
       "\t5 & 5 & 7 & 2 & 3 & 8 & 8 & 2 & 9 & 2 & 4 \\\\\n",
       "\\end{tabular}\n"
      ],
      "text/plain": [
       "\u001b[1m5×10 DataFrame\u001b[0m\n",
       "\u001b[1m Row \u001b[0m│\u001b[1m x1    \u001b[0m\u001b[1m x2    \u001b[0m\u001b[1m x3    \u001b[0m\u001b[1m x4    \u001b[0m\u001b[1m x5    \u001b[0m\u001b[1m x6    \u001b[0m\u001b[1m x7    \u001b[0m\u001b[1m x8    \u001b[0m\u001b[1m x9    \u001b[0m\u001b[1m x10   \u001b[0m\n",
       "\u001b[1m     \u001b[0m│\u001b[90m Int64 \u001b[0m\u001b[90m Int64 \u001b[0m\u001b[90m Int64 \u001b[0m\u001b[90m Int64 \u001b[0m\u001b[90m Int64 \u001b[0m\u001b[90m Int64 \u001b[0m\u001b[90m Int64 \u001b[0m\u001b[90m Int64 \u001b[0m\u001b[90m Int64 \u001b[0m\u001b[90m Int64 \u001b[0m\n",
       "─────┼──────────────────────────────────────────────────────────────────────\n",
       "   1 │     6      5      6      2      8      8     10      6      6      3\n",
       "   2 │     3      8      5      9     10      3     10      7      2     10\n",
       "   3 │     8     10      2      6      7      7      2      8      3     10\n",
       "   4 │     5      6      3      7      9      2      6      2      9      6\n",
       "   5 │     5      7      2      3      8      8      2      9      2      4"
      ]
     },
     "execution_count": 14,
     "metadata": {},
     "output_type": "execute_result"
    }
   ],
   "source": [
    "first(y, 5) # first 5 rows"
   ]
  },
  {
   "cell_type": "markdown",
   "metadata": {},
   "source": [
    "There are multiple ways to access particular columns of the DataFrame that we have created. The most obvious way is to to use `y.col` where `col` stands for the column name. This provides us the column in vector format. "
   ]
  },
  {
   "cell_type": "code",
   "execution_count": 21,
   "metadata": {},
   "outputs": [],
   "source": [
    "y.x2; # get a single column"
   ]
  },
  {
   "cell_type": "markdown",
   "metadata": {},
   "source": [
    "Another interesting way to access the column is the following, "
   ]
  },
  {
   "cell_type": "code",
   "execution_count": 36,
   "metadata": {},
   "outputs": [],
   "source": [
    "y[!, :x2]; # or y[!, 2] or y[:, :x2]"
   ]
  },
  {
   "cell_type": "markdown",
   "metadata": {},
   "source": [
    "You can access several columns (the first two in this case) with the following command, "
   ]
  },
  {
   "cell_type": "code",
   "execution_count": 38,
   "metadata": {},
   "outputs": [],
   "source": [
    "y[:, [:x1, :x2]];"
   ]
  },
  {
   "cell_type": "markdown",
   "metadata": {},
   "source": [
    "Getting rows is also quite easy (and similar to the way in which we access rows in arrays), "
   ]
  },
  {
   "cell_type": "code",
   "execution_count": 39,
   "metadata": {},
   "outputs": [
    {
     "data": {
      "text/html": [
       "<p>DataFrameRow (10 columns)</p><div class=\"data-frame\"><table class=\"data-frame\"><thead><tr><th></th><th>x1</th><th>x2</th><th>x3</th><th>x4</th><th>x5</th><th>x6</th><th>x7</th><th>x8</th><th>x9</th><th>x10</th></tr><tr><th></th><th title=\"Int64\">Int64</th><th title=\"Int64\">Int64</th><th title=\"Int64\">Int64</th><th title=\"Int64\">Int64</th><th title=\"Int64\">Int64</th><th title=\"Int64\">Int64</th><th title=\"Int64\">Int64</th><th title=\"Int64\">Int64</th><th title=\"Int64\">Int64</th><th title=\"Int64\">Int64</th></tr></thead><tbody><tr><th>1</th><td>8</td><td>2</td><td>1</td><td>3</td><td>8</td><td>9</td><td>5</td><td>2</td><td>5</td><td>1</td></tr></tbody></table></div>"
      ],
      "text/latex": [
       "\\begin{tabular}{r|cccccccccc}\n",
       "\t& x1 & x2 & x3 & x4 & x5 & x6 & x7 & x8 & x9 & x10\\\\\n",
       "\t\\hline\n",
       "\t& Int64 & Int64 & Int64 & Int64 & Int64 & Int64 & Int64 & Int64 & Int64 & Int64\\\\\n",
       "\t\\hline\n",
       "\t1 & 8 & 2 & 1 & 3 & 8 & 9 & 5 & 2 & 5 & 1 \\\\\n",
       "\\end{tabular}\n"
      ],
      "text/plain": [
       "\u001b[1mDataFrameRow\u001b[0m\n",
       "\u001b[1m Row \u001b[0m│\u001b[1m x1    \u001b[0m\u001b[1m x2    \u001b[0m\u001b[1m x3    \u001b[0m\u001b[1m x4    \u001b[0m\u001b[1m x5    \u001b[0m\u001b[1m x6    \u001b[0m\u001b[1m x7    \u001b[0m\u001b[1m x8    \u001b[0m\u001b[1m x9    \u001b[0m\u001b[1m x10   \u001b[0m\n",
       "\u001b[1m     \u001b[0m│\u001b[90m Int64 \u001b[0m\u001b[90m Int64 \u001b[0m\u001b[90m Int64 \u001b[0m\u001b[90m Int64 \u001b[0m\u001b[90m Int64 \u001b[0m\u001b[90m Int64 \u001b[0m\u001b[90m Int64 \u001b[0m\u001b[90m Int64 \u001b[0m\u001b[90m Int64 \u001b[0m\u001b[90m Int64 \u001b[0m\n",
       "─────┼──────────────────────────────────────────────────────────────────────\n",
       "   1 │     8      2      1      3      8      9      5      2      5      1"
      ]
     },
     "execution_count": 39,
     "metadata": {},
     "output_type": "execute_result"
    }
   ],
   "source": [
    "y[1, :]"
   ]
  },
  {
   "cell_type": "markdown",
   "metadata": {},
   "source": [
    "With the code above you can also easily change the values in the DataFrame. We could, for example, multiply each of the values in the second column by $2$ if we wanted. "
   ]
  },
  {
   "cell_type": "code",
   "execution_count": 23,
   "metadata": {},
   "outputs": [
    {
     "data": {
      "text/plain": [
       "2-element Vector{Int64}:\n",
       " 2\n",
       " 8"
      ]
     },
     "execution_count": 23,
     "metadata": {},
     "output_type": "execute_result"
    }
   ],
   "source": [
    "first(y.x2, 2) # observe first two values in the column"
   ]
  },
  {
   "cell_type": "code",
   "execution_count": 24,
   "metadata": {},
   "outputs": [
    {
     "data": {
      "text/plain": [
       "2-element Vector{Int64}:\n",
       "  4\n",
       " 16"
      ]
     },
     "execution_count": 24,
     "metadata": {},
     "output_type": "execute_result"
    }
   ],
   "source": [
    "z = y[!, :x2]; \n",
    "z *= 2; # multiply column by two\n",
    "\n",
    "first(z, 2) # observe newly mutated column"
   ]
  },
  {
   "cell_type": "code",
   "execution_count": 25,
   "metadata": {},
   "outputs": [
    {
     "data": {
      "text/plain": [
       "2-element Vector{Int64}:\n",
       " 2\n",
       " 8"
      ]
     },
     "execution_count": 25,
     "metadata": {},
     "output_type": "execute_result"
    }
   ],
   "source": [
    "first(y.x2, 2) # important to note that this is unchanged"
   ]
  },
  {
   "cell_type": "markdown",
   "metadata": {},
   "source": [
    "# Importing data"
   ]
  },
  {
   "cell_type": "markdown",
   "metadata": {},
   "source": [
    "Now let us import some data and play around with it a bit. This is generally referred to as data wrangling. If you want to become a data scientist, then significant portion of your work is going to involve gathering and cleaning data. The analysis part only makes up a small percentage. "
   ]
  },
  {
   "cell_type": "markdown",
   "metadata": {},
   "source": [
    "I have created a dataset that is hosted on github at the following location -- https://github.com/DawievLill/Macro-318/blob/main/data/tut2_data.csv\n",
    "\n",
    "Now let us download this data with Julia. This is one possible way to do it. "
   ]
  },
  {
   "cell_type": "code",
   "execution_count": 4,
   "metadata": {},
   "outputs": [
    {
     "data": {
      "text/plain": [
       "\"tut2_data.csv\""
      ]
     },
     "execution_count": 4,
     "metadata": {},
     "output_type": "execute_result"
    }
   ],
   "source": [
    "Downloads.download(\n",
    "    \"https://raw.githubusercontent.com/DawievLill/Macro-318/main/data/tut2_data.csv\", \n",
    "    \"tut2_data.csv\"\n",
    ")"
   ]
  },
  {
   "cell_type": "markdown",
   "metadata": {},
   "source": [
    "Now get the data into Julia!"
   ]
  },
  {
   "cell_type": "code",
   "execution_count": 5,
   "metadata": {},
   "outputs": [
    {
     "data": {
      "text/html": [
       "<div class=\"data-frame\"><p>71 rows × 5 columns</p><table class=\"data-frame\"><thead><tr><th></th><th>date</th><th>gdp</th><th>repo</th><th>cpi</th><th>inflation</th></tr><tr><th></th><th title=\"Dates.Date\">Date</th><th title=\"Int64\">Int64</th><th title=\"Float64\">Float64</th><th title=\"Float64\">Float64</th><th title=\"Float64\">Float64</th></tr></thead><tbody><tr><th>1</th><td>2004-03-31</td><td>1571580</td><td>8.0</td><td>51.1689</td><td>-2.05565</td></tr><tr><th>2</th><td>2004-06-30</td><td>1640953</td><td>8.0</td><td>51.4474</td><td>-2.02507</td></tr><tr><th>3</th><td>2004-09-30</td><td>1674699</td><td>7.66667</td><td>51.5677</td><td>-1.00851</td></tr><tr><th>4</th><td>2004-12-31</td><td>1731000</td><td>7.5</td><td>51.8483</td><td>1.62524</td></tr><tr><th>5</th><td>2005-03-31</td><td>1768828</td><td>7.5</td><td>52.1796</td><td>1.97509</td></tr><tr><th>6</th><td>2005-06-30</td><td>1803783</td><td>7.0</td><td>52.456</td><td>1.9603</td></tr><tr><th>7</th><td>2005-09-30</td><td>1873743</td><td>7.0</td><td>52.8125</td><td>2.41398</td></tr><tr><th>8</th><td>2005-12-31</td><td>1918423</td><td>7.0</td><td>52.9391</td><td>2.10385</td></tr><tr><th>9</th><td>2006-03-31</td><td>1960150</td><td>7.0</td><td>53.243</td><td>2.03793</td></tr><tr><th>10</th><td>2006-06-30</td><td>2048534</td><td>7.16667</td><td>53.7536</td><td>2.47365</td></tr><tr><th>11</th><td>2006-09-30</td><td>2120013</td><td>7.83333</td><td>54.7726</td><td>3.7114</td></tr><tr><th>12</th><td>2006-12-31</td><td>2231030</td><td>8.66667</td><td>55.3275</td><td>4.51158</td></tr><tr><th>13</th><td>2007-03-31</td><td>2270667</td><td>9.0</td><td>55.9521</td><td>5.08817</td></tr><tr><th>14</th><td>2007-06-30</td><td>2350848</td><td>9.16667</td><td>56.9458</td><td>5.93869</td></tr><tr><th>15</th><td>2007-09-30</td><td>2415988</td><td>9.83333</td><td>58.1548</td><td>6.17488</td></tr><tr><th>16</th><td>2007-12-31</td><td>2462412</td><td>10.6667</td><td>59.2646</td><td>7.11589</td></tr><tr><th>17</th><td>2008-03-31</td><td>2569803</td><td>11.0</td><td>60.9667</td><td>8.96234</td></tr><tr><th>18</th><td>2008-06-30</td><td>2633146</td><td>11.6667</td><td>62.6333</td><td>9.98761</td></tr><tr><th>19</th><td>2008-09-30</td><td>2723120</td><td>12.0</td><td>64.6</td><td>11.0829</td></tr><tr><th>20</th><td>2008-12-31</td><td>2673514</td><td>11.8333</td><td>65.0333</td><td>9.73391</td></tr><tr><th>21</th><td>2009-03-31</td><td>2742517</td><td>10.5</td><td>66.0667</td><td>8.36523</td></tr><tr><th>22</th><td>2009-06-30</td><td>2732647</td><td>8.16667</td><td>67.4667</td><td>7.71687</td></tr><tr><th>23</th><td>2009-09-30</td><td>2805594</td><td>7.16667</td><td>68.7</td><td>6.34675</td></tr><tr><th>24</th><td>2009-12-31</td><td>2853911</td><td>7.0</td><td>69.0333</td><td>6.15069</td></tr><tr><th>25</th><td>2010-03-31</td><td>2936248</td><td>6.83333</td><td>69.8</td><td>5.65086</td></tr><tr><th>26</th><td>2010-06-30</td><td>3010051</td><td>6.5</td><td>70.5333</td><td>4.54545</td></tr><tr><th>27</th><td>2010-09-30</td><td>3053147</td><td>6.33333</td><td>71.1</td><td>3.49345</td></tr><tr><th>28</th><td>2010-12-31</td><td>3081135</td><td>5.66667</td><td>71.4</td><td>3.4283</td></tr><tr><th>29</th><td>2011-03-31</td><td>3183146</td><td>5.5</td><td>72.4667</td><td>3.82044</td></tr><tr><th>30</th><td>2011-06-30</td><td>3251316</td><td>5.5</td><td>73.8</td><td>4.63138</td></tr><tr><th>&vellip;</th><td>&vellip;</td><td>&vellip;</td><td>&vellip;</td><td>&vellip;</td><td>&vellip;</td></tr></tbody></table></div>"
      ],
      "text/latex": [
       "\\begin{tabular}{r|ccccc}\n",
       "\t& date & gdp & repo & cpi & inflation\\\\\n",
       "\t\\hline\n",
       "\t& Date & Int64 & Float64 & Float64 & Float64\\\\\n",
       "\t\\hline\n",
       "\t1 & 2004-03-31 & 1571580 & 8.0 & 51.1689 & -2.05565 \\\\\n",
       "\t2 & 2004-06-30 & 1640953 & 8.0 & 51.4474 & -2.02507 \\\\\n",
       "\t3 & 2004-09-30 & 1674699 & 7.66667 & 51.5677 & -1.00851 \\\\\n",
       "\t4 & 2004-12-31 & 1731000 & 7.5 & 51.8483 & 1.62524 \\\\\n",
       "\t5 & 2005-03-31 & 1768828 & 7.5 & 52.1796 & 1.97509 \\\\\n",
       "\t6 & 2005-06-30 & 1803783 & 7.0 & 52.456 & 1.9603 \\\\\n",
       "\t7 & 2005-09-30 & 1873743 & 7.0 & 52.8125 & 2.41398 \\\\\n",
       "\t8 & 2005-12-31 & 1918423 & 7.0 & 52.9391 & 2.10385 \\\\\n",
       "\t9 & 2006-03-31 & 1960150 & 7.0 & 53.243 & 2.03793 \\\\\n",
       "\t10 & 2006-06-30 & 2048534 & 7.16667 & 53.7536 & 2.47365 \\\\\n",
       "\t11 & 2006-09-30 & 2120013 & 7.83333 & 54.7726 & 3.7114 \\\\\n",
       "\t12 & 2006-12-31 & 2231030 & 8.66667 & 55.3275 & 4.51158 \\\\\n",
       "\t13 & 2007-03-31 & 2270667 & 9.0 & 55.9521 & 5.08817 \\\\\n",
       "\t14 & 2007-06-30 & 2350848 & 9.16667 & 56.9458 & 5.93869 \\\\\n",
       "\t15 & 2007-09-30 & 2415988 & 9.83333 & 58.1548 & 6.17488 \\\\\n",
       "\t16 & 2007-12-31 & 2462412 & 10.6667 & 59.2646 & 7.11589 \\\\\n",
       "\t17 & 2008-03-31 & 2569803 & 11.0 & 60.9667 & 8.96234 \\\\\n",
       "\t18 & 2008-06-30 & 2633146 & 11.6667 & 62.6333 & 9.98761 \\\\\n",
       "\t19 & 2008-09-30 & 2723120 & 12.0 & 64.6 & 11.0829 \\\\\n",
       "\t20 & 2008-12-31 & 2673514 & 11.8333 & 65.0333 & 9.73391 \\\\\n",
       "\t21 & 2009-03-31 & 2742517 & 10.5 & 66.0667 & 8.36523 \\\\\n",
       "\t22 & 2009-06-30 & 2732647 & 8.16667 & 67.4667 & 7.71687 \\\\\n",
       "\t23 & 2009-09-30 & 2805594 & 7.16667 & 68.7 & 6.34675 \\\\\n",
       "\t24 & 2009-12-31 & 2853911 & 7.0 & 69.0333 & 6.15069 \\\\\n",
       "\t25 & 2010-03-31 & 2936248 & 6.83333 & 69.8 & 5.65086 \\\\\n",
       "\t26 & 2010-06-30 & 3010051 & 6.5 & 70.5333 & 4.54545 \\\\\n",
       "\t27 & 2010-09-30 & 3053147 & 6.33333 & 71.1 & 3.49345 \\\\\n",
       "\t28 & 2010-12-31 & 3081135 & 5.66667 & 71.4 & 3.4283 \\\\\n",
       "\t29 & 2011-03-31 & 3183146 & 5.5 & 72.4667 & 3.82044 \\\\\n",
       "\t30 & 2011-06-30 & 3251316 & 5.5 & 73.8 & 4.63138 \\\\\n",
       "\t$\\dots$ & $\\dots$ & $\\dots$ & $\\dots$ & $\\dots$ & $\\dots$ \\\\\n",
       "\\end{tabular}\n"
      ],
      "text/plain": [
       "\u001b[1m71×5 DataFrame\u001b[0m\n",
       "\u001b[1m Row \u001b[0m│\u001b[1m date       \u001b[0m\u001b[1m gdp     \u001b[0m\u001b[1m repo    \u001b[0m\u001b[1m cpi      \u001b[0m\u001b[1m inflation \u001b[0m\n",
       "\u001b[1m     \u001b[0m│\u001b[90m Date       \u001b[0m\u001b[90m Int64   \u001b[0m\u001b[90m Float64 \u001b[0m\u001b[90m Float64  \u001b[0m\u001b[90m Float64   \u001b[0m\n",
       "─────┼───────────────────────────────────────────────────\n",
       "   1 │ 2004-03-31  1571580  8.0       51.1689   -2.05565\n",
       "   2 │ 2004-06-30  1640953  8.0       51.4474   -2.02507\n",
       "   3 │ 2004-09-30  1674699  7.66667   51.5677   -1.00851\n",
       "   4 │ 2004-12-31  1731000  7.5       51.8483    1.62524\n",
       "   5 │ 2005-03-31  1768828  7.5       52.1796    1.97509\n",
       "   6 │ 2005-06-30  1803783  7.0       52.456     1.9603\n",
       "   7 │ 2005-09-30  1873743  7.0       52.8125    2.41398\n",
       "   8 │ 2005-12-31  1918423  7.0       52.9391    2.10385\n",
       "   9 │ 2006-03-31  1960150  7.0       53.243     2.03793\n",
       "  10 │ 2006-06-30  2048534  7.16667   53.7536    2.47365\n",
       "  11 │ 2006-09-30  2120013  7.83333   54.7726    3.7114\n",
       "  ⋮  │     ⋮          ⋮        ⋮        ⋮          ⋮\n",
       "  62 │ 2019-06-30  5603717  6.75     112.033     4.44375\n",
       "  63 │ 2019-09-30  5641263  6.5      113.1       4.14365\n",
       "  64 │ 2019-12-31  5639799  6.5      113.567     3.74543\n",
       "  65 │ 2020-03-31  5571896  5.91667  114.967     4.42022\n",
       "  66 │ 2020-06-30  4766334  3.91667  114.733     2.41\n",
       "  67 │ 2020-09-30  5204962  3.5      116.6       3.09461\n",
       "  68 │ 2020-12-31  5562956  3.5      117.167     3.16994\n",
       "  69 │ 2021-03-31  5634112  3.5      118.5       3.07335\n",
       "  70 │ 2021-06-30  5632802  3.5      120.267     4.82278\n",
       "  71 │ 2021-09-30  5819983  3.5      122.233     4.83133\n",
       "\u001b[36m                                          50 rows omitted\u001b[0m"
      ]
     },
     "execution_count": 5,
     "metadata": {},
     "output_type": "execute_result"
    }
   ],
   "source": [
    "sa_data = DataFrame(CSV.File(\"tut2_data.csv\", dateformat = \"yyyy/mm/dd\")) # specify the date format"
   ]
  },
  {
   "cell_type": "markdown",
   "metadata": {},
   "source": [
    "Alternatively, we could have done the following, since we know the data is located in the `data` folder, "
   ]
  },
  {
   "cell_type": "code",
   "execution_count": 49,
   "metadata": {},
   "outputs": [],
   "source": [
    "sa_data_1 = DataFrame(CSV.File(\"../data/tut2_data.csv\")); # if you don't understand this piece of code, you can simply move on. "
   ]
  },
  {
   "cell_type": "markdown",
   "metadata": {},
   "source": [
    "So we have succesfully imported data into Julia. What can we do with this data? We see that the data contains information on GDP, the repo rate, CPI and inflation. The first thing that we might want to do is visualise the data. This is always a good first step. After that we might want to look at some basic descriptive statistics, to get an idea of the properties of the data. "
   ]
  },
  {
   "cell_type": "markdown",
   "metadata": {},
   "source": [
    "## Plotting the data"
   ]
  },
  {
   "cell_type": "markdown",
   "metadata": {},
   "source": [
    "For us to plot the data let us look at one the variables in the dataset. \n",
    "\n",
    "Let us consider GDP, which is the second column in the dataset. We can access GDP by calling the variable name, but we can also use the fact that it is located in the second column of the table. "
   ]
  },
  {
   "cell_type": "code",
   "execution_count": 10,
   "metadata": {},
   "outputs": [],
   "source": [
    "gdp_1 = sa_data.gdp;\n",
    "gdp_2 = sa_data[!, 2];\n",
    "gdp_3 = sa_data[!, :gdp];"
   ]
  },
  {
   "cell_type": "markdown",
   "metadata": {},
   "source": [
    "We can check whether these variables give the same result as follows, "
   ]
  },
  {
   "cell_type": "code",
   "execution_count": 11,
   "metadata": {},
   "outputs": [
    {
     "data": {
      "text/plain": [
       "true"
      ]
     },
     "execution_count": 11,
     "metadata": {},
     "output_type": "execute_result"
    }
   ],
   "source": [
    "gdp_1 == gdp_2 == gdp_3 # check that these give exactly the same result"
   ]
  },
  {
   "cell_type": "markdown",
   "metadata": {},
   "source": [
    "Now let us draw a basic plot of GDP and see if it aligns with your expectation of what GDP would look like in level terms. You can also compare this with US GDP in Chapter 2 of the Williamson textbook. I have used **nominal GDP** in this dataset. \n",
    "\n",
    "We will compare nominal with real GDP soon, with a simple calculation involving the inflation rate (although technically we should be using the GDP deflator to move from nominal to real terms).  "
   ]
  },
  {
   "cell_type": "code",
   "execution_count": 21,
   "metadata": {},
   "outputs": [
    {
     "data": {
      "image/svg+xml": "<?xml version=\"1.0\" encoding=\"utf-8\"?>\n<svg xmlns=\"http://www.w3.org/2000/svg\" xmlns:xlink=\"http://www.w3.org/1999/xlink\" width=\"600\" height=\"400\" viewBox=\"0 0 2400 1600\">\n<defs>\n  <clipPath id=\"clip910\">\n    <rect x=\"0\" y=\"0\" width=\"2400\" height=\"1600\"/>\n  </clipPath>\n</defs>\n<path clip-path=\"url(#clip910)\" d=\"\nM0 1600 L2400 1600 L2400 0 L0 0  Z\n  \" fill=\"#ffffff\" fill-rule=\"evenodd\" fill-opacity=\"1\"/>\n<defs>\n  <clipPath id=\"clip911\">\n    <rect x=\"480\" y=\"0\" width=\"1681\" height=\"1600\"/>\n  </clipPath>\n</defs>\n<path clip-path=\"url(#clip910)\" d=\"\nM276.359 1486.45 L2352.76 1486.45 L2352.76 47.2441 L276.359 47.2441  Z\n  \" fill=\"#ffffff\" fill-rule=\"evenodd\" fill-opacity=\"1\"/>\n<defs>\n  <clipPath id=\"clip912\">\n    <rect x=\"276\" y=\"47\" width=\"2077\" height=\"1440\"/>\n  </clipPath>\n</defs>\n<polyline clip-path=\"url(#clip912)\" style=\"stroke:#000000; stroke-linecap:butt; stroke-linejoin:round; stroke-width:2; stroke-opacity:0.1; fill:none\" points=\"\n  307.544,1486.45 307.544,47.2441 \n  \"/>\n<polyline clip-path=\"url(#clip912)\" style=\"stroke:#000000; stroke-linecap:butt; stroke-linejoin:round; stroke-width:2; stroke-opacity:0.1; fill:none\" points=\"\n  867.438,1486.45 867.438,47.2441 \n  \"/>\n<polyline clip-path=\"url(#clip912)\" style=\"stroke:#000000; stroke-linecap:butt; stroke-linejoin:round; stroke-width:2; stroke-opacity:0.1; fill:none\" points=\"\n  1427.03,1486.45 1427.03,47.2441 \n  \"/>\n<polyline clip-path=\"url(#clip912)\" style=\"stroke:#000000; stroke-linecap:butt; stroke-linejoin:round; stroke-width:2; stroke-opacity:0.1; fill:none\" points=\"\n  1986.61,1486.45 1986.61,47.2441 \n  \"/>\n<polyline clip-path=\"url(#clip910)\" style=\"stroke:#000000; stroke-linecap:butt; stroke-linejoin:round; stroke-width:4; stroke-opacity:1; fill:none\" points=\"\n  276.359,1486.45 2352.76,1486.45 \n  \"/>\n<polyline clip-path=\"url(#clip910)\" style=\"stroke:#000000; stroke-linecap:butt; stroke-linejoin:round; stroke-width:4; stroke-opacity:1; fill:none\" points=\"\n  307.544,1486.45 307.544,1467.55 \n  \"/>\n<polyline clip-path=\"url(#clip910)\" style=\"stroke:#000000; stroke-linecap:butt; stroke-linejoin:round; stroke-width:4; stroke-opacity:1; fill:none\" points=\"\n  867.438,1486.45 867.438,1467.55 \n  \"/>\n<polyline clip-path=\"url(#clip910)\" style=\"stroke:#000000; stroke-linecap:butt; stroke-linejoin:round; stroke-width:4; stroke-opacity:1; fill:none\" points=\"\n  1427.03,1486.45 1427.03,1467.55 \n  \"/>\n<polyline clip-path=\"url(#clip910)\" style=\"stroke:#000000; stroke-linecap:butt; stroke-linejoin:round; stroke-width:4; stroke-opacity:1; fill:none\" points=\"\n  1986.61,1486.45 1986.61,1467.55 \n  \"/>\n<path clip-path=\"url(#clip910)\" d=\"M179.338 1544.91 L195.658 1544.91 L195.658 1548.85 L173.714 1548.85 L173.714 1544.91 Q176.376 1542.16 180.959 1537.53 Q185.565 1532.88 186.746 1531.53 Q188.991 1529.01 189.871 1527.27 Q190.774 1525.51 190.774 1523.82 Q190.774 1521.07 188.829 1519.33 Q186.908 1517.6 183.806 1517.6 Q181.607 1517.6 179.153 1518.36 Q176.723 1519.13 173.945 1520.68 L173.945 1515.95 Q176.769 1514.82 179.223 1514.24 Q181.676 1513.66 183.713 1513.66 Q189.084 1513.66 192.278 1516.35 Q195.473 1519.03 195.473 1523.52 Q195.473 1525.65 194.662 1527.57 Q193.875 1529.47 191.769 1532.07 Q191.19 1532.74 188.088 1535.95 Q184.987 1539.15 179.338 1544.91 Z\" fill=\"#000000\" fill-rule=\"evenodd\" fill-opacity=\"1\" /><path clip-path=\"url(#clip910)\" d=\"M215.473 1517.37 Q211.861 1517.37 210.033 1520.93 Q208.227 1524.47 208.227 1531.6 Q208.227 1538.71 210.033 1542.27 Q211.861 1545.82 215.473 1545.82 Q219.107 1545.82 220.912 1542.27 Q222.741 1538.71 222.741 1531.6 Q222.741 1524.47 220.912 1520.93 Q219.107 1517.37 215.473 1517.37 M215.473 1513.66 Q221.283 1513.66 224.338 1518.27 Q227.417 1522.85 227.417 1531.6 Q227.417 1540.33 224.338 1544.94 Q221.283 1549.52 215.473 1549.52 Q209.662 1549.52 206.584 1544.94 Q203.528 1540.33 203.528 1531.6 Q203.528 1522.85 206.584 1518.27 Q209.662 1513.66 215.473 1513.66 Z\" fill=\"#000000\" fill-rule=\"evenodd\" fill-opacity=\"1\" /><path clip-path=\"url(#clip910)\" d=\"M245.634 1517.37 Q242.023 1517.37 240.195 1520.93 Q238.389 1524.47 238.389 1531.6 Q238.389 1538.71 240.195 1542.27 Q242.023 1545.82 245.634 1545.82 Q249.269 1545.82 251.074 1542.27 Q252.903 1538.71 252.903 1531.6 Q252.903 1524.47 251.074 1520.93 Q249.269 1517.37 245.634 1517.37 M245.634 1513.66 Q251.445 1513.66 254.5 1518.27 Q257.579 1522.85 257.579 1531.6 Q257.579 1540.33 254.5 1544.94 Q251.445 1549.52 245.634 1549.52 Q239.824 1549.52 236.746 1544.94 Q233.69 1540.33 233.69 1531.6 Q233.69 1522.85 236.746 1518.27 Q239.824 1513.66 245.634 1513.66 Z\" fill=\"#000000\" fill-rule=\"evenodd\" fill-opacity=\"1\" /><path clip-path=\"url(#clip910)\" d=\"M278.644 1518.36 L266.838 1536.81 L278.644 1536.81 L278.644 1518.36 M277.417 1514.29 L283.296 1514.29 L283.296 1536.81 L288.227 1536.81 L288.227 1540.7 L283.296 1540.7 L283.296 1548.85 L278.644 1548.85 L278.644 1540.7 L263.042 1540.7 L263.042 1536.19 L277.417 1514.29 Z\" fill=\"#000000\" fill-rule=\"evenodd\" fill-opacity=\"1\" /><path clip-path=\"url(#clip910)\" d=\"M293.204 1533.96 L305.68 1533.96 L305.68 1537.76 L293.204 1537.76 L293.204 1533.96 Z\" fill=\"#000000\" fill-rule=\"evenodd\" fill-opacity=\"1\" /><path clip-path=\"url(#clip910)\" d=\"M323.065 1517.37 Q319.453 1517.37 317.625 1520.93 Q315.819 1524.47 315.819 1531.6 Q315.819 1538.71 317.625 1542.27 Q319.453 1545.82 323.065 1545.82 Q326.699 1545.82 328.504 1542.27 Q330.333 1538.71 330.333 1531.6 Q330.333 1524.47 328.504 1520.93 Q326.699 1517.37 323.065 1517.37 M323.065 1513.66 Q328.875 1513.66 331.93 1518.27 Q335.009 1522.85 335.009 1531.6 Q335.009 1540.33 331.93 1544.94 Q328.875 1549.52 323.065 1549.52 Q317.254 1549.52 314.176 1544.94 Q311.12 1540.33 311.12 1531.6 Q311.12 1522.85 314.176 1518.27 Q317.254 1513.66 323.065 1513.66 Z\" fill=\"#000000\" fill-rule=\"evenodd\" fill-opacity=\"1\" /><path clip-path=\"url(#clip910)\" d=\"M344.037 1544.91 L351.676 1544.91 L351.676 1518.55 L343.365 1520.21 L343.365 1515.95 L351.629 1514.29 L356.305 1514.29 L356.305 1544.91 L363.944 1544.91 L363.944 1548.85 L344.037 1548.85 L344.037 1544.91 Z\" fill=\"#000000\" fill-rule=\"evenodd\" fill-opacity=\"1\" /><path clip-path=\"url(#clip910)\" d=\"M370.634 1533.96 L383.111 1533.96 L383.111 1537.76 L370.634 1537.76 L370.634 1533.96 Z\" fill=\"#000000\" fill-rule=\"evenodd\" fill-opacity=\"1\" /><path clip-path=\"url(#clip910)\" d=\"M400.495 1517.37 Q396.884 1517.37 395.055 1520.93 Q393.249 1524.47 393.249 1531.6 Q393.249 1538.71 395.055 1542.27 Q396.884 1545.82 400.495 1545.82 Q404.129 1545.82 405.934 1542.27 Q407.763 1538.71 407.763 1531.6 Q407.763 1524.47 405.934 1520.93 Q404.129 1517.37 400.495 1517.37 M400.495 1513.66 Q406.305 1513.66 409.36 1518.27 Q412.439 1522.85 412.439 1531.6 Q412.439 1540.33 409.36 1544.94 Q406.305 1549.52 400.495 1549.52 Q394.685 1549.52 391.606 1544.94 Q388.55 1540.33 388.55 1531.6 Q388.55 1522.85 391.606 1518.27 Q394.685 1513.66 400.495 1513.66 Z\" fill=\"#000000\" fill-rule=\"evenodd\" fill-opacity=\"1\" /><path clip-path=\"url(#clip910)\" d=\"M421.467 1544.91 L429.106 1544.91 L429.106 1518.55 L420.796 1520.21 L420.796 1515.95 L429.059 1514.29 L433.735 1514.29 L433.735 1544.91 L441.374 1544.91 L441.374 1548.85 L421.467 1548.85 L421.467 1544.91 Z\" fill=\"#000000\" fill-rule=\"evenodd\" fill-opacity=\"1\" /><path clip-path=\"url(#clip910)\" d=\"M739.233 1544.91 L755.552 1544.91 L755.552 1548.85 L733.608 1548.85 L733.608 1544.91 Q736.27 1542.16 740.853 1537.53 Q745.46 1532.88 746.64 1531.53 Q748.886 1529.01 749.765 1527.27 Q750.668 1525.51 750.668 1523.82 Q750.668 1521.07 748.724 1519.33 Q746.803 1517.6 743.701 1517.6 Q741.502 1517.6 739.048 1518.36 Q736.617 1519.13 733.84 1520.68 L733.84 1515.95 Q736.664 1514.82 739.117 1514.24 Q741.571 1513.66 743.608 1513.66 Q748.978 1513.66 752.173 1516.35 Q755.367 1519.03 755.367 1523.52 Q755.367 1525.65 754.557 1527.57 Q753.77 1529.47 751.664 1532.07 Q751.085 1532.74 747.983 1535.95 Q744.881 1539.15 739.233 1544.91 Z\" fill=\"#000000\" fill-rule=\"evenodd\" fill-opacity=\"1\" /><path clip-path=\"url(#clip910)\" d=\"M775.367 1517.37 Q771.756 1517.37 769.927 1520.93 Q768.122 1524.47 768.122 1531.6 Q768.122 1538.71 769.927 1542.27 Q771.756 1545.82 775.367 1545.82 Q779.001 1545.82 780.807 1542.27 Q782.636 1538.71 782.636 1531.6 Q782.636 1524.47 780.807 1520.93 Q779.001 1517.37 775.367 1517.37 M775.367 1513.66 Q781.177 1513.66 784.233 1518.27 Q787.312 1522.85 787.312 1531.6 Q787.312 1540.33 784.233 1544.94 Q781.177 1549.52 775.367 1549.52 Q769.557 1549.52 766.478 1544.94 Q763.423 1540.33 763.423 1531.6 Q763.423 1522.85 766.478 1518.27 Q769.557 1513.66 775.367 1513.66 Z\" fill=\"#000000\" fill-rule=\"evenodd\" fill-opacity=\"1\" /><path clip-path=\"url(#clip910)\" d=\"M805.529 1517.37 Q801.918 1517.37 800.089 1520.93 Q798.284 1524.47 798.284 1531.6 Q798.284 1538.71 800.089 1542.27 Q801.918 1545.82 805.529 1545.82 Q809.163 1545.82 810.969 1542.27 Q812.798 1538.71 812.798 1531.6 Q812.798 1524.47 810.969 1520.93 Q809.163 1517.37 805.529 1517.37 M805.529 1513.66 Q811.339 1513.66 814.395 1518.27 Q817.473 1522.85 817.473 1531.6 Q817.473 1540.33 814.395 1544.94 Q811.339 1549.52 805.529 1549.52 Q799.719 1549.52 796.64 1544.94 Q793.585 1540.33 793.585 1531.6 Q793.585 1522.85 796.64 1518.27 Q799.719 1513.66 805.529 1513.66 Z\" fill=\"#000000\" fill-rule=\"evenodd\" fill-opacity=\"1\" /><path clip-path=\"url(#clip910)\" d=\"M825.83 1548.13 L825.83 1543.87 Q827.589 1544.7 829.395 1545.14 Q831.2 1545.58 832.936 1545.58 Q837.566 1545.58 839.996 1542.48 Q842.45 1539.36 842.797 1533.01 Q841.455 1535.01 839.395 1536.07 Q837.334 1537.13 834.834 1537.13 Q829.649 1537.13 826.617 1534.01 Q823.608 1530.86 823.608 1525.42 Q823.608 1520.1 826.756 1516.88 Q829.904 1513.66 835.135 1513.66 Q841.131 1513.66 844.279 1518.27 Q847.45 1522.85 847.45 1531.6 Q847.45 1539.77 843.561 1544.66 Q839.696 1549.52 833.145 1549.52 Q831.385 1549.52 829.58 1549.17 Q827.774 1548.82 825.83 1548.13 M835.135 1533.48 Q838.284 1533.48 840.112 1531.32 Q841.964 1529.17 841.964 1525.42 Q841.964 1521.7 840.112 1519.54 Q838.284 1517.37 835.135 1517.37 Q831.987 1517.37 830.135 1519.54 Q828.307 1521.7 828.307 1525.42 Q828.307 1529.17 830.135 1531.32 Q831.987 1533.48 835.135 1533.48 Z\" fill=\"#000000\" fill-rule=\"evenodd\" fill-opacity=\"1\" /><path clip-path=\"url(#clip910)\" d=\"M853.098 1533.96 L865.575 1533.96 L865.575 1537.76 L853.098 1537.76 L853.098 1533.96 Z\" fill=\"#000000\" fill-rule=\"evenodd\" fill-opacity=\"1\" /><path clip-path=\"url(#clip910)\" d=\"M882.959 1517.37 Q879.348 1517.37 877.519 1520.93 Q875.714 1524.47 875.714 1531.6 Q875.714 1538.71 877.519 1542.27 Q879.348 1545.82 882.959 1545.82 Q886.593 1545.82 888.399 1542.27 Q890.228 1538.71 890.228 1531.6 Q890.228 1524.47 888.399 1520.93 Q886.593 1517.37 882.959 1517.37 M882.959 1513.66 Q888.769 1513.66 891.825 1518.27 Q894.904 1522.85 894.904 1531.6 Q894.904 1540.33 891.825 1544.94 Q888.769 1549.52 882.959 1549.52 Q877.149 1549.52 874.07 1544.94 Q871.015 1540.33 871.015 1531.6 Q871.015 1522.85 874.07 1518.27 Q877.149 1513.66 882.959 1513.66 Z\" fill=\"#000000\" fill-rule=\"evenodd\" fill-opacity=\"1\" /><path clip-path=\"url(#clip910)\" d=\"M903.931 1544.91 L911.57 1544.91 L911.57 1518.55 L903.26 1520.21 L903.26 1515.95 L911.524 1514.29 L916.2 1514.29 L916.2 1544.91 L923.839 1544.91 L923.839 1548.85 L903.931 1548.85 L903.931 1544.91 Z\" fill=\"#000000\" fill-rule=\"evenodd\" fill-opacity=\"1\" /><path clip-path=\"url(#clip910)\" d=\"M930.528 1533.96 L943.005 1533.96 L943.005 1537.76 L930.528 1537.76 L930.528 1533.96 Z\" fill=\"#000000\" fill-rule=\"evenodd\" fill-opacity=\"1\" /><path clip-path=\"url(#clip910)\" d=\"M960.389 1517.37 Q956.778 1517.37 954.95 1520.93 Q953.144 1524.47 953.144 1531.6 Q953.144 1538.71 954.95 1542.27 Q956.778 1545.82 960.389 1545.82 Q964.024 1545.82 965.829 1542.27 Q967.658 1538.71 967.658 1531.6 Q967.658 1524.47 965.829 1520.93 Q964.024 1517.37 960.389 1517.37 M960.389 1513.66 Q966.2 1513.66 969.255 1518.27 Q972.334 1522.85 972.334 1531.6 Q972.334 1540.33 969.255 1544.94 Q966.2 1549.52 960.389 1549.52 Q954.579 1549.52 951.501 1544.94 Q948.445 1540.33 948.445 1531.6 Q948.445 1522.85 951.501 1518.27 Q954.579 1513.66 960.389 1513.66 Z\" fill=\"#000000\" fill-rule=\"evenodd\" fill-opacity=\"1\" /><path clip-path=\"url(#clip910)\" d=\"M981.361 1544.91 L989 1544.91 L989 1518.55 L980.69 1520.21 L980.69 1515.95 L988.954 1514.29 L993.63 1514.29 L993.63 1544.91 L1001.27 1544.91 L1001.27 1548.85 L981.361 1548.85 L981.361 1544.91 Z\" fill=\"#000000\" fill-rule=\"evenodd\" fill-opacity=\"1\" /><path clip-path=\"url(#clip910)\" d=\"M1298.82 1544.91 L1315.14 1544.91 L1315.14 1548.85 L1293.2 1548.85 L1293.2 1544.91 Q1295.86 1542.16 1300.44 1537.53 Q1305.05 1532.88 1306.23 1531.53 Q1308.47 1529.01 1309.35 1527.27 Q1310.26 1525.51 1310.26 1523.82 Q1310.26 1521.07 1308.31 1519.33 Q1306.39 1517.6 1303.29 1517.6 Q1301.09 1517.6 1298.64 1518.36 Q1296.21 1519.13 1293.43 1520.68 L1293.43 1515.95 Q1296.25 1514.82 1298.71 1514.24 Q1301.16 1513.66 1303.2 1513.66 Q1308.57 1513.66 1311.76 1516.35 Q1314.96 1519.03 1314.96 1523.52 Q1314.96 1525.65 1314.15 1527.57 Q1313.36 1529.47 1311.25 1532.07 Q1310.67 1532.74 1307.57 1535.95 Q1304.47 1539.15 1298.82 1544.91 Z\" fill=\"#000000\" fill-rule=\"evenodd\" fill-opacity=\"1\" /><path clip-path=\"url(#clip910)\" d=\"M1334.96 1517.37 Q1331.34 1517.37 1329.52 1520.93 Q1327.71 1524.47 1327.71 1531.6 Q1327.71 1538.71 1329.52 1542.27 Q1331.34 1545.82 1334.96 1545.82 Q1338.59 1545.82 1340.4 1542.27 Q1342.22 1538.71 1342.22 1531.6 Q1342.22 1524.47 1340.4 1520.93 Q1338.59 1517.37 1334.96 1517.37 M1334.96 1513.66 Q1340.77 1513.66 1343.82 1518.27 Q1346.9 1522.85 1346.9 1531.6 Q1346.9 1540.33 1343.82 1544.94 Q1340.77 1549.52 1334.96 1549.52 Q1329.15 1549.52 1326.07 1544.94 Q1323.01 1540.33 1323.01 1531.6 Q1323.01 1522.85 1326.07 1518.27 Q1329.15 1513.66 1334.96 1513.66 Z\" fill=\"#000000\" fill-rule=\"evenodd\" fill-opacity=\"1\" /><path clip-path=\"url(#clip910)\" d=\"M1355.93 1544.91 L1363.57 1544.91 L1363.57 1518.55 L1355.26 1520.21 L1355.26 1515.95 L1363.52 1514.29 L1368.2 1514.29 L1368.2 1544.91 L1375.83 1544.91 L1375.83 1548.85 L1355.93 1548.85 L1355.93 1544.91 Z\" fill=\"#000000\" fill-rule=\"evenodd\" fill-opacity=\"1\" /><path clip-path=\"url(#clip910)\" d=\"M1398.13 1518.36 L1386.32 1536.81 L1398.13 1536.81 L1398.13 1518.36 M1396.9 1514.29 L1402.78 1514.29 L1402.78 1536.81 L1407.71 1536.81 L1407.71 1540.7 L1402.78 1540.7 L1402.78 1548.85 L1398.13 1548.85 L1398.13 1540.7 L1382.52 1540.7 L1382.52 1536.19 L1396.9 1514.29 Z\" fill=\"#000000\" fill-rule=\"evenodd\" fill-opacity=\"1\" /><path clip-path=\"url(#clip910)\" d=\"M1412.69 1533.96 L1425.16 1533.96 L1425.16 1537.76 L1412.69 1537.76 L1412.69 1533.96 Z\" fill=\"#000000\" fill-rule=\"evenodd\" fill-opacity=\"1\" /><path clip-path=\"url(#clip910)\" d=\"M1442.55 1517.37 Q1438.94 1517.37 1437.11 1520.93 Q1435.3 1524.47 1435.3 1531.6 Q1435.3 1538.71 1437.11 1542.27 Q1438.94 1545.82 1442.55 1545.82 Q1446.18 1545.82 1447.99 1542.27 Q1449.82 1538.71 1449.82 1531.6 Q1449.82 1524.47 1447.99 1520.93 Q1446.18 1517.37 1442.55 1517.37 M1442.55 1513.66 Q1448.36 1513.66 1451.41 1518.27 Q1454.49 1522.85 1454.49 1531.6 Q1454.49 1540.33 1451.41 1544.94 Q1448.36 1549.52 1442.55 1549.52 Q1436.74 1549.52 1433.66 1544.94 Q1430.6 1540.33 1430.6 1531.6 Q1430.6 1522.85 1433.66 1518.27 Q1436.74 1513.66 1442.55 1513.66 Z\" fill=\"#000000\" fill-rule=\"evenodd\" fill-opacity=\"1\" /><path clip-path=\"url(#clip910)\" d=\"M1463.52 1544.91 L1471.16 1544.91 L1471.16 1518.55 L1462.85 1520.21 L1462.85 1515.95 L1471.11 1514.29 L1475.79 1514.29 L1475.79 1544.91 L1483.43 1544.91 L1483.43 1548.85 L1463.52 1548.85 L1463.52 1544.91 Z\" fill=\"#000000\" fill-rule=\"evenodd\" fill-opacity=\"1\" /><path clip-path=\"url(#clip910)\" d=\"M1490.12 1533.96 L1502.59 1533.96 L1502.59 1537.76 L1490.12 1537.76 L1490.12 1533.96 Z\" fill=\"#000000\" fill-rule=\"evenodd\" fill-opacity=\"1\" /><path clip-path=\"url(#clip910)\" d=\"M1519.98 1517.37 Q1516.37 1517.37 1514.54 1520.93 Q1512.73 1524.47 1512.73 1531.6 Q1512.73 1538.71 1514.54 1542.27 Q1516.37 1545.82 1519.98 1545.82 Q1523.61 1545.82 1525.42 1542.27 Q1527.25 1538.71 1527.25 1531.6 Q1527.25 1524.47 1525.42 1520.93 Q1523.61 1517.37 1519.98 1517.37 M1519.98 1513.66 Q1525.79 1513.66 1528.84 1518.27 Q1531.92 1522.85 1531.92 1531.6 Q1531.92 1540.33 1528.84 1544.94 Q1525.79 1549.52 1519.98 1549.52 Q1514.17 1549.52 1511.09 1544.94 Q1508.03 1540.33 1508.03 1531.6 Q1508.03 1522.85 1511.09 1518.27 Q1514.17 1513.66 1519.98 1513.66 Z\" fill=\"#000000\" fill-rule=\"evenodd\" fill-opacity=\"1\" /><path clip-path=\"url(#clip910)\" d=\"M1540.95 1544.91 L1548.59 1544.91 L1548.59 1518.55 L1540.28 1520.21 L1540.28 1515.95 L1548.54 1514.29 L1553.22 1514.29 L1553.22 1544.91 L1560.86 1544.91 L1560.86 1548.85 L1540.95 1548.85 L1540.95 1544.91 Z\" fill=\"#000000\" fill-rule=\"evenodd\" fill-opacity=\"1\" /><path clip-path=\"url(#clip910)\" d=\"M1858.41 1544.91 L1874.73 1544.91 L1874.73 1548.85 L1852.78 1548.85 L1852.78 1544.91 Q1855.45 1542.16 1860.03 1537.53 Q1864.64 1532.88 1865.82 1531.53 Q1868.06 1529.01 1868.94 1527.27 Q1869.84 1525.51 1869.84 1523.82 Q1869.84 1521.07 1867.9 1519.33 Q1865.98 1517.6 1862.88 1517.6 Q1860.68 1517.6 1858.22 1518.36 Q1855.79 1519.13 1853.02 1520.68 L1853.02 1515.95 Q1855.84 1514.82 1858.29 1514.24 Q1860.75 1513.66 1862.78 1513.66 Q1868.15 1513.66 1871.35 1516.35 Q1874.54 1519.03 1874.54 1523.52 Q1874.54 1525.65 1873.73 1527.57 Q1872.95 1529.47 1870.84 1532.07 Q1870.26 1532.74 1867.16 1535.95 Q1864.06 1539.15 1858.41 1544.91 Z\" fill=\"#000000\" fill-rule=\"evenodd\" fill-opacity=\"1\" /><path clip-path=\"url(#clip910)\" d=\"M1894.54 1517.37 Q1890.93 1517.37 1889.1 1520.93 Q1887.3 1524.47 1887.3 1531.6 Q1887.3 1538.71 1889.1 1542.27 Q1890.93 1545.82 1894.54 1545.82 Q1898.18 1545.82 1899.98 1542.27 Q1901.81 1538.71 1901.81 1531.6 Q1901.81 1524.47 1899.98 1520.93 Q1898.18 1517.37 1894.54 1517.37 M1894.54 1513.66 Q1900.35 1513.66 1903.41 1518.27 Q1906.49 1522.85 1906.49 1531.6 Q1906.49 1540.33 1903.41 1544.94 Q1900.35 1549.52 1894.54 1549.52 Q1888.73 1549.52 1885.65 1544.94 Q1882.6 1540.33 1882.6 1531.6 Q1882.6 1522.85 1885.65 1518.27 Q1888.73 1513.66 1894.54 1513.66 Z\" fill=\"#000000\" fill-rule=\"evenodd\" fill-opacity=\"1\" /><path clip-path=\"url(#clip910)\" d=\"M1915.52 1544.91 L1923.15 1544.91 L1923.15 1518.55 L1914.84 1520.21 L1914.84 1515.95 L1923.11 1514.29 L1927.78 1514.29 L1927.78 1544.91 L1935.42 1544.91 L1935.42 1548.85 L1915.52 1548.85 L1915.52 1544.91 Z\" fill=\"#000000\" fill-rule=\"evenodd\" fill-opacity=\"1\" /><path clip-path=\"url(#clip910)\" d=\"M1945.01 1548.13 L1945.01 1543.87 Q1946.77 1544.7 1948.57 1545.14 Q1950.38 1545.58 1952.11 1545.58 Q1956.74 1545.58 1959.17 1542.48 Q1961.63 1539.36 1961.97 1533.01 Q1960.63 1535.01 1958.57 1536.07 Q1956.51 1537.13 1954.01 1537.13 Q1948.83 1537.13 1945.79 1534.01 Q1942.78 1530.86 1942.78 1525.42 Q1942.78 1520.1 1945.93 1516.88 Q1949.08 1513.66 1954.31 1513.66 Q1960.31 1513.66 1963.46 1518.27 Q1966.63 1522.85 1966.63 1531.6 Q1966.63 1539.77 1962.74 1544.66 Q1958.87 1549.52 1952.32 1549.52 Q1950.56 1549.52 1948.76 1549.17 Q1946.95 1548.82 1945.01 1548.13 M1954.31 1533.48 Q1957.46 1533.48 1959.29 1531.32 Q1961.14 1529.17 1961.14 1525.42 Q1961.14 1521.7 1959.29 1519.54 Q1957.46 1517.37 1954.31 1517.37 Q1951.16 1517.37 1949.31 1519.54 Q1947.48 1521.7 1947.48 1525.42 Q1947.48 1529.17 1949.31 1531.32 Q1951.16 1533.48 1954.31 1533.48 Z\" fill=\"#000000\" fill-rule=\"evenodd\" fill-opacity=\"1\" /><path clip-path=\"url(#clip910)\" d=\"M1972.27 1533.96 L1984.75 1533.96 L1984.75 1537.76 L1972.27 1537.76 L1972.27 1533.96 Z\" fill=\"#000000\" fill-rule=\"evenodd\" fill-opacity=\"1\" /><path clip-path=\"url(#clip910)\" d=\"M2002.14 1517.37 Q1998.52 1517.37 1996.7 1520.93 Q1994.89 1524.47 1994.89 1531.6 Q1994.89 1538.71 1996.7 1542.27 Q1998.52 1545.82 2002.14 1545.82 Q2005.77 1545.82 2007.58 1542.27 Q2009.4 1538.71 2009.4 1531.6 Q2009.4 1524.47 2007.58 1520.93 Q2005.77 1517.37 2002.14 1517.37 M2002.14 1513.66 Q2007.95 1513.66 2011 1518.27 Q2014.08 1522.85 2014.08 1531.6 Q2014.08 1540.33 2011 1544.94 Q2007.95 1549.52 2002.14 1549.52 Q1996.33 1549.52 1993.25 1544.94 Q1990.19 1540.33 1990.19 1531.6 Q1990.19 1522.85 1993.25 1518.27 Q1996.33 1513.66 2002.14 1513.66 Z\" fill=\"#000000\" fill-rule=\"evenodd\" fill-opacity=\"1\" /><path clip-path=\"url(#clip910)\" d=\"M2023.11 1544.91 L2030.75 1544.91 L2030.75 1518.55 L2022.44 1520.21 L2022.44 1515.95 L2030.7 1514.29 L2035.38 1514.29 L2035.38 1544.91 L2043.02 1544.91 L2043.02 1548.85 L2023.11 1548.85 L2023.11 1544.91 Z\" fill=\"#000000\" fill-rule=\"evenodd\" fill-opacity=\"1\" /><path clip-path=\"url(#clip910)\" d=\"M2049.7 1533.96 L2062.18 1533.96 L2062.18 1537.76 L2049.7 1537.76 L2049.7 1533.96 Z\" fill=\"#000000\" fill-rule=\"evenodd\" fill-opacity=\"1\" /><path clip-path=\"url(#clip910)\" d=\"M2079.57 1517.37 Q2075.95 1517.37 2074.13 1520.93 Q2072.32 1524.47 2072.32 1531.6 Q2072.32 1538.71 2074.13 1542.27 Q2075.95 1545.82 2079.57 1545.82 Q2083.2 1545.82 2085.01 1542.27 Q2086.83 1538.71 2086.83 1531.6 Q2086.83 1524.47 2085.01 1520.93 Q2083.2 1517.37 2079.57 1517.37 M2079.57 1513.66 Q2085.38 1513.66 2088.43 1518.27 Q2091.51 1522.85 2091.51 1531.6 Q2091.51 1540.33 2088.43 1544.94 Q2085.38 1549.52 2079.57 1549.52 Q2073.76 1549.52 2070.68 1544.94 Q2067.62 1540.33 2067.62 1531.6 Q2067.62 1522.85 2070.68 1518.27 Q2073.76 1513.66 2079.57 1513.66 Z\" fill=\"#000000\" fill-rule=\"evenodd\" fill-opacity=\"1\" /><path clip-path=\"url(#clip910)\" d=\"M2100.54 1544.91 L2108.18 1544.91 L2108.18 1518.55 L2099.87 1520.21 L2099.87 1515.95 L2108.13 1514.29 L2112.81 1514.29 L2112.81 1544.91 L2120.45 1544.91 L2120.45 1548.85 L2100.54 1548.85 L2100.54 1544.91 Z\" fill=\"#000000\" fill-rule=\"evenodd\" fill-opacity=\"1\" /><polyline clip-path=\"url(#clip912)\" style=\"stroke:#000000; stroke-linecap:butt; stroke-linejoin:round; stroke-width:2; stroke-opacity:0.1; fill:none\" points=\"\n  276.359,1308.8 2352.76,1308.8 \n  \"/>\n<polyline clip-path=\"url(#clip912)\" style=\"stroke:#000000; stroke-linecap:butt; stroke-linejoin:round; stroke-width:2; stroke-opacity:0.1; fill:none\" points=\"\n  276.359,989.21 2352.76,989.21 \n  \"/>\n<polyline clip-path=\"url(#clip912)\" style=\"stroke:#000000; stroke-linecap:butt; stroke-linejoin:round; stroke-width:2; stroke-opacity:0.1; fill:none\" points=\"\n  276.359,669.621 2352.76,669.621 \n  \"/>\n<polyline clip-path=\"url(#clip912)\" style=\"stroke:#000000; stroke-linecap:butt; stroke-linejoin:round; stroke-width:2; stroke-opacity:0.1; fill:none\" points=\"\n  276.359,350.033 2352.76,350.033 \n  \"/>\n<polyline clip-path=\"url(#clip910)\" style=\"stroke:#000000; stroke-linecap:butt; stroke-linejoin:round; stroke-width:4; stroke-opacity:1; fill:none\" points=\"\n  276.359,1486.45 276.359,47.2441 \n  \"/>\n<polyline clip-path=\"url(#clip910)\" style=\"stroke:#000000; stroke-linecap:butt; stroke-linejoin:round; stroke-width:4; stroke-opacity:1; fill:none\" points=\"\n  276.359,1308.8 295.257,1308.8 \n  \"/>\n<polyline clip-path=\"url(#clip910)\" style=\"stroke:#000000; stroke-linecap:butt; stroke-linejoin:round; stroke-width:4; stroke-opacity:1; fill:none\" points=\"\n  276.359,989.21 295.257,989.21 \n  \"/>\n<polyline clip-path=\"url(#clip910)\" style=\"stroke:#000000; stroke-linecap:butt; stroke-linejoin:round; stroke-width:4; stroke-opacity:1; fill:none\" points=\"\n  276.359,669.621 295.257,669.621 \n  \"/>\n<polyline clip-path=\"url(#clip910)\" style=\"stroke:#000000; stroke-linecap:butt; stroke-linejoin:round; stroke-width:4; stroke-opacity:1; fill:none\" points=\"\n  276.359,350.033 295.257,350.033 \n  \"/>\n<path clip-path=\"url(#clip910)\" d=\"M57.7745 1328.59 L74.0939 1328.59 L74.0939 1332.53 L52.1495 1332.53 L52.1495 1328.59 Q54.8115 1325.84 59.3949 1321.21 Q64.0013 1316.55 65.1819 1315.21 Q67.4272 1312.69 68.3068 1310.95 Q69.2096 1309.19 69.2096 1307.5 Q69.2096 1304.75 67.2652 1303.01 Q65.3439 1301.28 62.2421 1301.28 Q60.043 1301.28 57.5893 1302.04 Q55.1588 1302.8 52.381 1304.35 L52.381 1299.63 Q55.2051 1298.5 57.6588 1297.92 Q60.1124 1297.34 62.1495 1297.34 Q67.5198 1297.34 70.7142 1300.03 Q73.9087 1302.71 73.9087 1307.2 Q73.9087 1309.33 73.0985 1311.25 Q72.3115 1313.15 70.205 1315.74 Q69.6263 1316.41 66.5245 1319.63 Q63.4226 1322.83 57.7745 1328.59 Z\" fill=\"#000000\" fill-rule=\"evenodd\" fill-opacity=\"1\" /><path clip-path=\"url(#clip910)\" d=\"M83.9086 1326.65 L88.7928 1326.65 L88.7928 1332.53 L83.9086 1332.53 L83.9086 1326.65 Z\" fill=\"#000000\" fill-rule=\"evenodd\" fill-opacity=\"1\" /><path clip-path=\"url(#clip910)\" d=\"M108.978 1301.04 Q105.367 1301.04 103.538 1304.61 Q101.733 1308.15 101.733 1315.28 Q101.733 1322.39 103.538 1325.95 Q105.367 1329.49 108.978 1329.49 Q112.612 1329.49 114.418 1325.95 Q116.246 1322.39 116.246 1315.28 Q116.246 1308.15 114.418 1304.61 Q112.612 1301.04 108.978 1301.04 M108.978 1297.34 Q114.788 1297.34 117.844 1301.95 Q120.922 1306.53 120.922 1315.28 Q120.922 1324.01 117.844 1328.61 Q114.788 1333.2 108.978 1333.2 Q103.168 1333.2 100.089 1328.61 Q97.0335 1324.01 97.0335 1315.28 Q97.0335 1306.53 100.089 1301.95 Q103.168 1297.34 108.978 1297.34 Z\" fill=\"#000000\" fill-rule=\"evenodd\" fill-opacity=\"1\" /><path clip-path=\"url(#clip910)\" d=\"M157.311 1307.06 L146.732 1317.69 L157.311 1328.27 L154.556 1331.07 L143.931 1320.44 L133.306 1331.07 L130.575 1328.27 L141.131 1317.69 L130.575 1307.06 L133.306 1304.26 L143.931 1314.89 L154.556 1304.26 L157.311 1307.06 Z\" fill=\"#000000\" fill-rule=\"evenodd\" fill-opacity=\"1\" /><path clip-path=\"url(#clip910)\" d=\"M169.672 1328.59 L177.311 1328.59 L177.311 1302.22 L169.001 1303.89 L169.001 1299.63 L177.265 1297.97 L181.94 1297.97 L181.94 1328.59 L189.579 1328.59 L189.579 1332.53 L169.672 1332.53 L169.672 1328.59 Z\" fill=\"#000000\" fill-rule=\"evenodd\" fill-opacity=\"1\" /><path clip-path=\"url(#clip910)\" d=\"M209.024 1301.04 Q205.413 1301.04 203.584 1304.61 Q201.778 1308.15 201.778 1315.28 Q201.778 1322.39 203.584 1325.95 Q205.413 1329.49 209.024 1329.49 Q212.658 1329.49 214.463 1325.95 Q216.292 1322.39 216.292 1315.28 Q216.292 1308.15 214.463 1304.61 Q212.658 1301.04 209.024 1301.04 M209.024 1297.34 Q214.834 1297.34 217.889 1301.95 Q220.968 1306.53 220.968 1315.28 Q220.968 1324.01 217.889 1328.61 Q214.834 1333.2 209.024 1333.2 Q203.214 1333.2 200.135 1328.61 Q197.079 1324.01 197.079 1315.28 Q197.079 1306.53 200.135 1301.95 Q203.214 1297.34 209.024 1297.34 Z\" fill=\"#000000\" fill-rule=\"evenodd\" fill-opacity=\"1\" /><path clip-path=\"url(#clip910)\" d=\"M230.993 1289.56 Q228.435 1289.56 226.93 1291.31 Q225.444 1293.06 225.444 1296.11 Q225.444 1299.13 226.93 1300.9 Q228.435 1302.65 230.993 1302.65 Q233.55 1302.65 235.036 1300.9 Q236.541 1299.13 236.541 1296.11 Q236.541 1293.06 235.036 1291.31 Q233.55 1289.56 230.993 1289.56 M238.535 1277.66 L238.535 1281.12 Q237.105 1280.44 235.638 1280.08 Q234.19 1279.72 232.761 1279.72 Q228.999 1279.72 227.005 1282.26 Q225.031 1284.8 224.748 1289.94 Q225.858 1288.3 227.532 1287.44 Q229.206 1286.55 231.218 1286.55 Q235.45 1286.55 237.895 1289.13 Q240.359 1291.69 240.359 1296.11 Q240.359 1300.43 237.801 1303.05 Q235.243 1305.66 230.993 1305.66 Q226.121 1305.66 223.545 1301.94 Q220.968 1298.19 220.968 1291.1 Q220.968 1284.45 224.128 1280.5 Q227.287 1276.53 232.61 1276.53 Q234.039 1276.53 235.488 1276.81 Q236.955 1277.09 238.535 1277.66 Z\" fill=\"#000000\" fill-rule=\"evenodd\" fill-opacity=\"1\" /><path clip-path=\"url(#clip910)\" d=\"M67.9133 994.303 Q71.2698 995.021 73.1448 997.289 Q75.0429 999.558 75.0429 1002.89 Q75.0429 1008.01 71.5244 1010.81 Q68.0059 1013.61 61.5245 1013.61 Q59.3486 1013.61 57.0338 1013.17 Q54.7421 1012.75 52.2884 1011.9 L52.2884 1007.38 Q54.2328 1008.52 56.5477 1009.09 Q58.8625 1009.67 61.3856 1009.67 Q65.7837 1009.67 68.0754 1007.94 Q70.3902 1006.2 70.3902 1002.89 Q70.3902 999.835 68.2374 998.122 Q66.1078 996.386 62.2884 996.386 L58.2606 996.386 L58.2606 992.544 L62.4735 992.544 Q65.9226 992.544 67.7513 991.178 Q69.58 989.789 69.58 987.197 Q69.58 984.535 67.6819 983.122 Q65.8069 981.687 62.2884 981.687 Q60.3671 981.687 58.168 982.104 Q55.969 982.521 53.3301 983.4 L53.3301 979.234 Q55.9921 978.493 58.3069 978.123 Q60.6449 977.752 62.705 977.752 Q68.0291 977.752 71.1309 980.183 Q74.2327 982.59 74.2327 986.71 Q74.2327 989.581 72.5892 991.572 Q70.9457 993.539 67.9133 994.303 Z\" fill=\"#000000\" fill-rule=\"evenodd\" fill-opacity=\"1\" /><path clip-path=\"url(#clip910)\" d=\"M83.9086 1007.06 L88.7928 1007.06 L88.7928 1012.94 L83.9086 1012.94 L83.9086 1007.06 Z\" fill=\"#000000\" fill-rule=\"evenodd\" fill-opacity=\"1\" /><path clip-path=\"url(#clip910)\" d=\"M108.978 981.456 Q105.367 981.456 103.538 985.021 Q101.733 988.562 101.733 995.692 Q101.733 1002.8 103.538 1006.36 Q105.367 1009.9 108.978 1009.9 Q112.612 1009.9 114.418 1006.36 Q116.246 1002.8 116.246 995.692 Q116.246 988.562 114.418 985.021 Q112.612 981.456 108.978 981.456 M108.978 977.752 Q114.788 977.752 117.844 982.359 Q120.922 986.942 120.922 995.692 Q120.922 1004.42 117.844 1009.03 Q114.788 1013.61 108.978 1013.61 Q103.168 1013.61 100.089 1009.03 Q97.0335 1004.42 97.0335 995.692 Q97.0335 986.942 100.089 982.359 Q103.168 977.752 108.978 977.752 Z\" fill=\"#000000\" fill-rule=\"evenodd\" fill-opacity=\"1\" /><path clip-path=\"url(#clip910)\" d=\"M157.311 987.474 L146.732 998.099 L157.311 1008.68 L154.556 1011.48 L143.931 1000.85 L133.306 1011.48 L130.575 1008.68 L141.131 998.099 L130.575 987.474 L133.306 984.673 L143.931 995.298 L154.556 984.673 L157.311 987.474 Z\" fill=\"#000000\" fill-rule=\"evenodd\" fill-opacity=\"1\" /><path clip-path=\"url(#clip910)\" d=\"M169.672 1009 L177.311 1009 L177.311 982.636 L169.001 984.303 L169.001 980.044 L177.265 978.377 L181.94 978.377 L181.94 1009 L189.579 1009 L189.579 1012.94 L169.672 1012.94 L169.672 1009 Z\" fill=\"#000000\" fill-rule=\"evenodd\" fill-opacity=\"1\" /><path clip-path=\"url(#clip910)\" d=\"M209.024 981.456 Q205.413 981.456 203.584 985.021 Q201.778 988.562 201.778 995.692 Q201.778 1002.8 203.584 1006.36 Q205.413 1009.9 209.024 1009.9 Q212.658 1009.9 214.463 1006.36 Q216.292 1002.8 216.292 995.692 Q216.292 988.562 214.463 985.021 Q212.658 981.456 209.024 981.456 M209.024 977.752 Q214.834 977.752 217.889 982.359 Q220.968 986.942 220.968 995.692 Q220.968 1004.42 217.889 1009.03 Q214.834 1013.61 209.024 1013.61 Q203.214 1013.61 200.135 1009.03 Q197.079 1004.42 197.079 995.692 Q197.079 986.942 200.135 982.359 Q203.214 977.752 209.024 977.752 Z\" fill=\"#000000\" fill-rule=\"evenodd\" fill-opacity=\"1\" /><path clip-path=\"url(#clip910)\" d=\"M230.993 969.973 Q228.435 969.973 226.93 971.722 Q225.444 973.471 225.444 976.518 Q225.444 979.546 226.93 981.314 Q228.435 983.063 230.993 983.063 Q233.55 983.063 235.036 981.314 Q236.541 979.546 236.541 976.518 Q236.541 973.471 235.036 971.722 Q233.55 969.973 230.993 969.973 M238.535 958.067 L238.535 961.528 Q237.105 960.851 235.638 960.494 Q234.19 960.136 232.761 960.136 Q228.999 960.136 227.005 962.675 Q225.031 965.214 224.748 970.349 Q225.858 968.713 227.532 967.847 Q229.206 966.963 231.218 966.963 Q235.45 966.963 237.895 969.54 Q240.359 972.098 240.359 976.518 Q240.359 980.844 237.801 983.458 Q235.243 986.072 230.993 986.072 Q226.121 986.072 223.545 982.348 Q220.968 978.605 220.968 971.515 Q220.968 964.857 224.128 960.907 Q227.287 956.939 232.61 956.939 Q234.039 956.939 235.488 957.221 Q236.955 957.503 238.535 958.067 Z\" fill=\"#000000\" fill-rule=\"evenodd\" fill-opacity=\"1\" /><path clip-path=\"url(#clip910)\" d=\"M66.5939 662.863 L54.7884 681.312 L66.5939 681.312 L66.5939 662.863 M65.367 658.789 L71.2466 658.789 L71.2466 681.312 L76.1772 681.312 L76.1772 685.201 L71.2466 685.201 L71.2466 693.349 L66.5939 693.349 L66.5939 685.201 L50.9921 685.201 L50.9921 680.687 L65.367 658.789 Z\" fill=\"#000000\" fill-rule=\"evenodd\" fill-opacity=\"1\" /><path clip-path=\"url(#clip910)\" d=\"M83.9086 687.469 L88.7928 687.469 L88.7928 693.349 L83.9086 693.349 L83.9086 687.469 Z\" fill=\"#000000\" fill-rule=\"evenodd\" fill-opacity=\"1\" /><path clip-path=\"url(#clip910)\" d=\"M108.978 661.868 Q105.367 661.868 103.538 665.432 Q101.733 668.974 101.733 676.104 Q101.733 683.21 103.538 686.775 Q105.367 690.317 108.978 690.317 Q112.612 690.317 114.418 686.775 Q116.246 683.21 116.246 676.104 Q116.246 668.974 114.418 665.432 Q112.612 661.868 108.978 661.868 M108.978 658.164 Q114.788 658.164 117.844 662.77 Q120.922 667.354 120.922 676.104 Q120.922 684.83 117.844 689.437 Q114.788 694.02 108.978 694.02 Q103.168 694.02 100.089 689.437 Q97.0335 684.83 97.0335 676.104 Q97.0335 667.354 100.089 662.77 Q103.168 658.164 108.978 658.164 Z\" fill=\"#000000\" fill-rule=\"evenodd\" fill-opacity=\"1\" /><path clip-path=\"url(#clip910)\" d=\"M157.311 667.886 L146.732 678.511 L157.311 689.09 L154.556 691.891 L143.931 681.266 L133.306 691.891 L130.575 689.09 L141.131 678.511 L130.575 667.886 L133.306 665.085 L143.931 675.71 L154.556 665.085 L157.311 667.886 Z\" fill=\"#000000\" fill-rule=\"evenodd\" fill-opacity=\"1\" /><path clip-path=\"url(#clip910)\" d=\"M169.672 689.414 L177.311 689.414 L177.311 663.048 L169.001 664.715 L169.001 660.456 L177.265 658.789 L181.94 658.789 L181.94 689.414 L189.579 689.414 L189.579 693.349 L169.672 693.349 L169.672 689.414 Z\" fill=\"#000000\" fill-rule=\"evenodd\" fill-opacity=\"1\" /><path clip-path=\"url(#clip910)\" d=\"M209.024 661.868 Q205.413 661.868 203.584 665.432 Q201.778 668.974 201.778 676.104 Q201.778 683.21 203.584 686.775 Q205.413 690.317 209.024 690.317 Q212.658 690.317 214.463 686.775 Q216.292 683.21 216.292 676.104 Q216.292 668.974 214.463 665.432 Q212.658 661.868 209.024 661.868 M209.024 658.164 Q214.834 658.164 217.889 662.77 Q220.968 667.354 220.968 676.104 Q220.968 684.83 217.889 689.437 Q214.834 694.02 209.024 694.02 Q203.214 694.02 200.135 689.437 Q197.079 684.83 197.079 676.104 Q197.079 667.354 200.135 662.77 Q203.214 658.164 209.024 658.164 Z\" fill=\"#000000\" fill-rule=\"evenodd\" fill-opacity=\"1\" /><path clip-path=\"url(#clip910)\" d=\"M230.993 650.385 Q228.435 650.385 226.93 652.134 Q225.444 653.883 225.444 656.93 Q225.444 659.958 226.93 661.726 Q228.435 663.475 230.993 663.475 Q233.55 663.475 235.036 661.726 Q236.541 659.958 236.541 656.93 Q236.541 653.883 235.036 652.134 Q233.55 650.385 230.993 650.385 M238.535 638.479 L238.535 641.94 Q237.105 641.263 235.638 640.905 Q234.19 640.548 232.761 640.548 Q228.999 640.548 227.005 643.087 Q225.031 645.626 224.748 650.761 Q225.858 649.124 227.532 648.259 Q229.206 647.375 231.218 647.375 Q235.45 647.375 237.895 649.952 Q240.359 652.51 240.359 656.93 Q240.359 661.255 237.801 663.87 Q235.243 666.484 230.993 666.484 Q226.121 666.484 223.545 662.76 Q220.968 659.017 220.968 651.927 Q220.968 645.269 224.128 641.319 Q227.287 637.351 232.61 637.351 Q234.039 637.351 235.488 637.633 Q236.955 637.915 238.535 638.479 Z\" fill=\"#000000\" fill-rule=\"evenodd\" fill-opacity=\"1\" /><path clip-path=\"url(#clip910)\" d=\"M53.793 339.201 L72.1494 339.201 L72.1494 343.136 L58.0754 343.136 L58.0754 351.608 Q59.0939 351.261 60.1124 351.099 Q61.131 350.914 62.1495 350.914 Q67.9365 350.914 71.3161 354.085 Q74.6957 357.256 74.6957 362.673 Q74.6957 368.252 71.2235 371.353 Q67.7513 374.432 61.4319 374.432 Q59.256 374.432 56.9875 374.062 Q54.7421 373.691 52.3347 372.951 L52.3347 368.252 Q54.418 369.386 56.6402 369.941 Q58.8625 370.497 61.3393 370.497 Q65.3439 370.497 67.6819 368.39 Q70.0198 366.284 70.0198 362.673 Q70.0198 359.062 67.6819 356.955 Q65.3439 354.849 61.3393 354.849 Q59.4643 354.849 57.5893 355.265 Q55.7375 355.682 53.793 356.562 L53.793 339.201 Z\" fill=\"#000000\" fill-rule=\"evenodd\" fill-opacity=\"1\" /><path clip-path=\"url(#clip910)\" d=\"M83.9086 367.881 L88.7928 367.881 L88.7928 373.761 L83.9086 373.761 L83.9086 367.881 Z\" fill=\"#000000\" fill-rule=\"evenodd\" fill-opacity=\"1\" /><path clip-path=\"url(#clip910)\" d=\"M108.978 342.279 Q105.367 342.279 103.538 345.844 Q101.733 349.386 101.733 356.515 Q101.733 363.622 103.538 367.187 Q105.367 370.728 108.978 370.728 Q112.612 370.728 114.418 367.187 Q116.246 363.622 116.246 356.515 Q116.246 349.386 114.418 345.844 Q112.612 342.279 108.978 342.279 M108.978 338.576 Q114.788 338.576 117.844 343.182 Q120.922 347.766 120.922 356.515 Q120.922 365.242 117.844 369.849 Q114.788 374.432 108.978 374.432 Q103.168 374.432 100.089 369.849 Q97.0335 365.242 97.0335 356.515 Q97.0335 347.766 100.089 343.182 Q103.168 338.576 108.978 338.576 Z\" fill=\"#000000\" fill-rule=\"evenodd\" fill-opacity=\"1\" /><path clip-path=\"url(#clip910)\" d=\"M157.311 348.298 L146.732 358.923 L157.311 369.502 L154.556 372.302 L143.931 361.677 L133.306 372.302 L130.575 369.502 L141.131 358.923 L130.575 348.298 L133.306 345.497 L143.931 356.122 L154.556 345.497 L157.311 348.298 Z\" fill=\"#000000\" fill-rule=\"evenodd\" fill-opacity=\"1\" /><path clip-path=\"url(#clip910)\" d=\"M169.672 369.826 L177.311 369.826 L177.311 343.46 L169.001 345.127 L169.001 340.867 L177.265 339.201 L181.94 339.201 L181.94 369.826 L189.579 369.826 L189.579 373.761 L169.672 373.761 L169.672 369.826 Z\" fill=\"#000000\" fill-rule=\"evenodd\" fill-opacity=\"1\" /><path clip-path=\"url(#clip910)\" d=\"M209.024 342.279 Q205.413 342.279 203.584 345.844 Q201.778 349.386 201.778 356.515 Q201.778 363.622 203.584 367.187 Q205.413 370.728 209.024 370.728 Q212.658 370.728 214.463 367.187 Q216.292 363.622 216.292 356.515 Q216.292 349.386 214.463 345.844 Q212.658 342.279 209.024 342.279 M209.024 338.576 Q214.834 338.576 217.889 343.182 Q220.968 347.766 220.968 356.515 Q220.968 365.242 217.889 369.849 Q214.834 374.432 209.024 374.432 Q203.214 374.432 200.135 369.849 Q197.079 365.242 197.079 356.515 Q197.079 347.766 200.135 343.182 Q203.214 338.576 209.024 338.576 Z\" fill=\"#000000\" fill-rule=\"evenodd\" fill-opacity=\"1\" /><path clip-path=\"url(#clip910)\" d=\"M230.993 330.796 Q228.435 330.796 226.93 332.545 Q225.444 334.295 225.444 337.341 Q225.444 340.369 226.93 342.137 Q228.435 343.887 230.993 343.887 Q233.55 343.887 235.036 342.137 Q236.541 340.369 236.541 337.341 Q236.541 334.295 235.036 332.545 Q233.55 330.796 230.993 330.796 M238.535 318.891 L238.535 322.352 Q237.105 321.675 235.638 321.317 Q234.19 320.96 232.761 320.96 Q228.999 320.96 227.005 323.499 Q225.031 326.038 224.748 331.172 Q225.858 329.536 227.532 328.671 Q229.206 327.787 231.218 327.787 Q235.45 327.787 237.895 330.364 Q240.359 332.922 240.359 337.341 Q240.359 341.667 237.801 344.282 Q235.243 346.896 230.993 346.896 Q226.121 346.896 223.545 343.172 Q220.968 339.429 220.968 332.339 Q220.968 325.681 224.128 321.731 Q227.287 317.763 232.61 317.763 Q234.039 317.763 235.488 318.045 Q236.955 318.327 238.535 318.891 Z\" fill=\"#000000\" fill-rule=\"evenodd\" fill-opacity=\"1\" /><polyline clip-path=\"url(#clip912)\" style=\"stroke:#009af9; stroke-linecap:butt; stroke-linejoin:round; stroke-width:6; stroke-opacity:1; fill:none\" points=\"\n  335.125,1445.72 363.012,1423.54 391.206,1412.76 419.4,1394.77 446.981,1382.68 474.869,1371.51 503.063,1349.15 531.257,1334.87 558.838,1321.53 586.725,1293.29 \n  614.919,1270.44 643.113,1234.96 670.694,1222.3 698.581,1196.67 726.775,1175.85 754.969,1161.02 782.857,1126.7 810.744,1106.45 838.938,1077.7 867.132,1093.55 \n  894.713,1071.5 922.6,1074.65 950.794,1051.34 978.988,1035.9 1006.57,1009.58 1034.46,985.997 1062.65,972.224 1090.84,963.28 1118.43,930.678 1146.31,908.892 \n  1174.51,882.842 1202.7,848.666 1230.59,830.557 1258.48,801.706 1286.67,779.915 1314.86,761.155 1342.44,728.253 1370.33,690.835 1398.53,663.494 1426.72,659.17 \n  1454.3,627.509 1482.19,612.58 1510.38,598.193 1538.58,589.886 1566.16,548.415 1594.05,539.634 1622.24,507.541 1650.43,471.54 1678.32,455.53 1706.21,446.96 \n  1734.4,419.451 1762.6,413.002 1790.18,380.653 1818.06,355.578 1846.26,335.296 1874.45,302.931 1902.03,288.168 1929.92,266.635 1958.11,214.9 1986.31,205.401 \n  2013.89,217.21 2041.78,157.092 2069.97,145.093 2098.16,145.561 2126.05,167.262 2153.94,424.71 2182.13,284.53 2210.33,170.119 2237.91,147.378 2265.8,147.797 \n  2293.99,87.9763 \n  \"/>\n</svg>\n"
     },
     "execution_count": 21,
     "metadata": {},
     "output_type": "execute_result"
    }
   ],
   "source": [
    "date_sa = sa_data[!, :date]\n",
    "plot(date_sa, gdp_1, legend = false, lw = 1.5)"
   ]
  },
  {
   "cell_type": "markdown",
   "metadata": {},
   "source": [
    "One of the most popular transformations of GDP data is to take a natural logarithm. The reason for this is that differences between adjacent values in the GDP series represent growth rates once the series is \"logged\". We will get back to this point at a later stage. If we take a natural log of the series then the plot of GDP looks as follows, "
   ]
  },
  {
   "cell_type": "code",
   "execution_count": 121,
   "metadata": {},
   "outputs": [],
   "source": [
    "log_gdp = log.(gdp_1); # remember the dot syntax, since we are broadcasting the log over all the values of GDP"
   ]
  },
  {
   "cell_type": "code",
   "execution_count": 122,
   "metadata": {},
   "outputs": [
    {
     "data": {
      "image/svg+xml": "<?xml version=\"1.0\" encoding=\"utf-8\"?>\n<svg xmlns=\"http://www.w3.org/2000/svg\" xmlns:xlink=\"http://www.w3.org/1999/xlink\" width=\"600\" height=\"400\" viewBox=\"0 0 2400 1600\">\n<defs>\n  <clipPath id=\"clip590\">\n    <rect x=\"0\" y=\"0\" width=\"2400\" height=\"1600\"/>\n  </clipPath>\n</defs>\n<path clip-path=\"url(#clip590)\" d=\"\nM0 1600 L2400 1600 L2400 0 L0 0  Z\n  \" fill=\"#ffffff\" fill-rule=\"evenodd\" fill-opacity=\"1\"/>\n<defs>\n  <clipPath id=\"clip591\">\n    <rect x=\"480\" y=\"0\" width=\"1681\" height=\"1600\"/>\n  </clipPath>\n</defs>\n<path clip-path=\"url(#clip590)\" d=\"\nM184.677 1486.45 L2352.76 1486.45 L2352.76 47.2441 L184.677 47.2441  Z\n  \" fill=\"#ffffff\" fill-rule=\"evenodd\" fill-opacity=\"1\"/>\n<defs>\n  <clipPath id=\"clip592\">\n    <rect x=\"184\" y=\"47\" width=\"2169\" height=\"1440\"/>\n  </clipPath>\n</defs>\n<polyline clip-path=\"url(#clip592)\" style=\"stroke:#000000; stroke-linecap:butt; stroke-linejoin:round; stroke-width:2; stroke-opacity:0.1; fill:none\" points=\"\n  217.239,1486.45 217.239,47.2441 \n  \"/>\n<polyline clip-path=\"url(#clip592)\" style=\"stroke:#000000; stroke-linecap:butt; stroke-linejoin:round; stroke-width:2; stroke-opacity:0.1; fill:none\" points=\"\n  801.855,1486.45 801.855,47.2441 \n  \"/>\n<polyline clip-path=\"url(#clip592)\" style=\"stroke:#000000; stroke-linecap:butt; stroke-linejoin:round; stroke-width:2; stroke-opacity:0.1; fill:none\" points=\"\n  1386.15,1486.45 1386.15,47.2441 \n  \"/>\n<polyline clip-path=\"url(#clip592)\" style=\"stroke:#000000; stroke-linecap:butt; stroke-linejoin:round; stroke-width:2; stroke-opacity:0.1; fill:none\" points=\"\n  1970.45,1486.45 1970.45,47.2441 \n  \"/>\n<polyline clip-path=\"url(#clip590)\" style=\"stroke:#000000; stroke-linecap:butt; stroke-linejoin:round; stroke-width:4; stroke-opacity:1; fill:none\" points=\"\n  184.677,1486.45 2352.76,1486.45 \n  \"/>\n<polyline clip-path=\"url(#clip590)\" style=\"stroke:#000000; stroke-linecap:butt; stroke-linejoin:round; stroke-width:4; stroke-opacity:1; fill:none\" points=\"\n  217.239,1486.45 217.239,1467.55 \n  \"/>\n<polyline clip-path=\"url(#clip590)\" style=\"stroke:#000000; stroke-linecap:butt; stroke-linejoin:round; stroke-width:4; stroke-opacity:1; fill:none\" points=\"\n  801.855,1486.45 801.855,1467.55 \n  \"/>\n<polyline clip-path=\"url(#clip590)\" style=\"stroke:#000000; stroke-linecap:butt; stroke-linejoin:round; stroke-width:4; stroke-opacity:1; fill:none\" points=\"\n  1386.15,1486.45 1386.15,1467.55 \n  \"/>\n<polyline clip-path=\"url(#clip590)\" style=\"stroke:#000000; stroke-linecap:butt; stroke-linejoin:round; stroke-width:4; stroke-opacity:1; fill:none\" points=\"\n  1970.45,1486.45 1970.45,1467.55 \n  \"/>\n<path clip-path=\"url(#clip590)\" d=\"M89.0333 1544.91 L105.353 1544.91 L105.353 1548.85 L83.4084 1548.85 L83.4084 1544.91 Q86.0704 1542.16 90.6537 1537.53 Q95.2602 1532.88 96.4407 1531.53 Q98.6861 1529.01 99.5657 1527.27 Q100.468 1525.51 100.468 1523.82 Q100.468 1521.07 98.524 1519.33 Q96.6027 1517.6 93.5009 1517.6 Q91.3019 1517.6 88.8482 1518.36 Q86.4176 1519.13 83.6399 1520.68 L83.6399 1515.95 Q86.4639 1514.82 88.9176 1514.24 Q91.3713 1513.66 93.4083 1513.66 Q98.7787 1513.66 101.973 1516.35 Q105.168 1519.03 105.168 1523.52 Q105.168 1525.65 104.357 1527.57 Q103.57 1529.47 101.464 1532.07 Q100.885 1532.74 97.7833 1535.95 Q94.6815 1539.15 89.0333 1544.91 Z\" fill=\"#000000\" fill-rule=\"evenodd\" fill-opacity=\"1\" /><path clip-path=\"url(#clip590)\" d=\"M125.167 1517.37 Q121.556 1517.37 119.728 1520.93 Q117.922 1524.47 117.922 1531.6 Q117.922 1538.71 119.728 1542.27 Q121.556 1545.82 125.167 1545.82 Q128.802 1545.82 130.607 1542.27 Q132.436 1538.71 132.436 1531.6 Q132.436 1524.47 130.607 1520.93 Q128.802 1517.37 125.167 1517.37 M125.167 1513.66 Q130.978 1513.66 134.033 1518.27 Q137.112 1522.85 137.112 1531.6 Q137.112 1540.33 134.033 1544.94 Q130.978 1549.52 125.167 1549.52 Q119.357 1549.52 116.279 1544.94 Q113.223 1540.33 113.223 1531.6 Q113.223 1522.85 116.279 1518.27 Q119.357 1513.66 125.167 1513.66 Z\" fill=\"#000000\" fill-rule=\"evenodd\" fill-opacity=\"1\" /><path clip-path=\"url(#clip590)\" d=\"M155.329 1517.37 Q151.718 1517.37 149.89 1520.93 Q148.084 1524.47 148.084 1531.6 Q148.084 1538.71 149.89 1542.27 Q151.718 1545.82 155.329 1545.82 Q158.964 1545.82 160.769 1542.27 Q162.598 1538.71 162.598 1531.6 Q162.598 1524.47 160.769 1520.93 Q158.964 1517.37 155.329 1517.37 M155.329 1513.66 Q161.139 1513.66 164.195 1518.27 Q167.274 1522.85 167.274 1531.6 Q167.274 1540.33 164.195 1544.94 Q161.139 1549.52 155.329 1549.52 Q149.519 1549.52 146.44 1544.94 Q143.385 1540.33 143.385 1531.6 Q143.385 1522.85 146.44 1518.27 Q149.519 1513.66 155.329 1513.66 Z\" fill=\"#000000\" fill-rule=\"evenodd\" fill-opacity=\"1\" /><path clip-path=\"url(#clip590)\" d=\"M188.338 1518.36 L176.533 1536.81 L188.338 1536.81 L188.338 1518.36 M187.112 1514.29 L192.991 1514.29 L192.991 1536.81 L197.922 1536.81 L197.922 1540.7 L192.991 1540.7 L192.991 1548.85 L188.338 1548.85 L188.338 1540.7 L172.737 1540.7 L172.737 1536.19 L187.112 1514.29 Z\" fill=\"#000000\" fill-rule=\"evenodd\" fill-opacity=\"1\" /><path clip-path=\"url(#clip590)\" d=\"M202.898 1533.96 L215.375 1533.96 L215.375 1537.76 L202.898 1537.76 L202.898 1533.96 Z\" fill=\"#000000\" fill-rule=\"evenodd\" fill-opacity=\"1\" /><path clip-path=\"url(#clip590)\" d=\"M232.759 1517.37 Q229.148 1517.37 227.32 1520.93 Q225.514 1524.47 225.514 1531.6 Q225.514 1538.71 227.32 1542.27 Q229.148 1545.82 232.759 1545.82 Q236.394 1545.82 238.199 1542.27 Q240.028 1538.71 240.028 1531.6 Q240.028 1524.47 238.199 1520.93 Q236.394 1517.37 232.759 1517.37 M232.759 1513.66 Q238.57 1513.66 241.625 1518.27 Q244.704 1522.85 244.704 1531.6 Q244.704 1540.33 241.625 1544.94 Q238.57 1549.52 232.759 1549.52 Q226.949 1549.52 223.871 1544.94 Q220.815 1540.33 220.815 1531.6 Q220.815 1522.85 223.871 1518.27 Q226.949 1513.66 232.759 1513.66 Z\" fill=\"#000000\" fill-rule=\"evenodd\" fill-opacity=\"1\" /><path clip-path=\"url(#clip590)\" d=\"M253.732 1544.91 L261.37 1544.91 L261.37 1518.55 L253.06 1520.21 L253.06 1515.95 L261.324 1514.29 L266 1514.29 L266 1544.91 L273.639 1544.91 L273.639 1548.85 L253.732 1548.85 L253.732 1544.91 Z\" fill=\"#000000\" fill-rule=\"evenodd\" fill-opacity=\"1\" /><path clip-path=\"url(#clip590)\" d=\"M280.329 1533.96 L292.805 1533.96 L292.805 1537.76 L280.329 1537.76 L280.329 1533.96 Z\" fill=\"#000000\" fill-rule=\"evenodd\" fill-opacity=\"1\" /><path clip-path=\"url(#clip590)\" d=\"M310.19 1517.37 Q306.578 1517.37 304.75 1520.93 Q302.944 1524.47 302.944 1531.6 Q302.944 1538.71 304.75 1542.27 Q306.578 1545.82 310.19 1545.82 Q313.824 1545.82 315.629 1542.27 Q317.458 1538.71 317.458 1531.6 Q317.458 1524.47 315.629 1520.93 Q313.824 1517.37 310.19 1517.37 M310.19 1513.66 Q316 1513.66 319.055 1518.27 Q322.134 1522.85 322.134 1531.6 Q322.134 1540.33 319.055 1544.94 Q316 1549.52 310.19 1549.52 Q304.379 1549.52 301.301 1544.94 Q298.245 1540.33 298.245 1531.6 Q298.245 1522.85 301.301 1518.27 Q304.379 1513.66 310.19 1513.66 Z\" fill=\"#000000\" fill-rule=\"evenodd\" fill-opacity=\"1\" /><path clip-path=\"url(#clip590)\" d=\"M331.162 1544.91 L338.801 1544.91 L338.801 1518.55 L330.49 1520.21 L330.49 1515.95 L338.754 1514.29 L343.43 1514.29 L343.43 1544.91 L351.069 1544.91 L351.069 1548.85 L331.162 1548.85 L331.162 1544.91 Z\" fill=\"#000000\" fill-rule=\"evenodd\" fill-opacity=\"1\" /><path clip-path=\"url(#clip590)\" d=\"M673.65 1544.91 L689.969 1544.91 L689.969 1548.85 L668.025 1548.85 L668.025 1544.91 Q670.687 1542.16 675.27 1537.53 Q679.877 1532.88 681.057 1531.53 Q683.303 1529.01 684.182 1527.27 Q685.085 1525.51 685.085 1523.82 Q685.085 1521.07 683.14 1519.33 Q681.219 1517.6 678.117 1517.6 Q675.918 1517.6 673.465 1518.36 Q671.034 1519.13 668.256 1520.68 L668.256 1515.95 Q671.08 1514.82 673.534 1514.24 Q675.988 1513.66 678.025 1513.66 Q683.395 1513.66 686.59 1516.35 Q689.784 1519.03 689.784 1523.52 Q689.784 1525.65 688.974 1527.57 Q688.187 1529.47 686.08 1532.07 Q685.502 1532.74 682.4 1535.95 Q679.298 1539.15 673.65 1544.91 Z\" fill=\"#000000\" fill-rule=\"evenodd\" fill-opacity=\"1\" /><path clip-path=\"url(#clip590)\" d=\"M709.784 1517.37 Q706.173 1517.37 704.344 1520.93 Q702.539 1524.47 702.539 1531.6 Q702.539 1538.71 704.344 1542.27 Q706.173 1545.82 709.784 1545.82 Q713.418 1545.82 715.224 1542.27 Q717.052 1538.71 717.052 1531.6 Q717.052 1524.47 715.224 1520.93 Q713.418 1517.37 709.784 1517.37 M709.784 1513.66 Q715.594 1513.66 718.65 1518.27 Q721.728 1522.85 721.728 1531.6 Q721.728 1540.33 718.65 1544.94 Q715.594 1549.52 709.784 1549.52 Q703.974 1549.52 700.895 1544.94 Q697.839 1540.33 697.839 1531.6 Q697.839 1522.85 700.895 1518.27 Q703.974 1513.66 709.784 1513.66 Z\" fill=\"#000000\" fill-rule=\"evenodd\" fill-opacity=\"1\" /><path clip-path=\"url(#clip590)\" d=\"M739.946 1517.37 Q736.335 1517.37 734.506 1520.93 Q732.7 1524.47 732.7 1531.6 Q732.7 1538.71 734.506 1542.27 Q736.335 1545.82 739.946 1545.82 Q743.58 1545.82 745.386 1542.27 Q747.214 1538.71 747.214 1531.6 Q747.214 1524.47 745.386 1520.93 Q743.58 1517.37 739.946 1517.37 M739.946 1513.66 Q745.756 1513.66 748.811 1518.27 Q751.89 1522.85 751.89 1531.6 Q751.89 1540.33 748.811 1544.94 Q745.756 1549.52 739.946 1549.52 Q734.136 1549.52 731.057 1544.94 Q728.001 1540.33 728.001 1531.6 Q728.001 1522.85 731.057 1518.27 Q734.136 1513.66 739.946 1513.66 Z\" fill=\"#000000\" fill-rule=\"evenodd\" fill-opacity=\"1\" /><path clip-path=\"url(#clip590)\" d=\"M760.247 1548.13 L760.247 1543.87 Q762.006 1544.7 763.811 1545.14 Q765.617 1545.58 767.353 1545.58 Q771.983 1545.58 774.413 1542.48 Q776.867 1539.36 777.214 1533.01 Q775.871 1535.01 773.811 1536.07 Q771.751 1537.13 769.251 1537.13 Q764.066 1537.13 761.034 1534.01 Q758.024 1530.86 758.024 1525.42 Q758.024 1520.1 761.172 1516.88 Q764.321 1513.66 769.552 1513.66 Q775.547 1513.66 778.696 1518.27 Q781.867 1522.85 781.867 1531.6 Q781.867 1539.77 777.978 1544.66 Q774.112 1549.52 767.561 1549.52 Q765.802 1549.52 763.997 1549.17 Q762.191 1548.82 760.247 1548.13 M769.552 1533.48 Q772.7 1533.48 774.529 1531.32 Q776.381 1529.17 776.381 1525.42 Q776.381 1521.7 774.529 1519.54 Q772.7 1517.37 769.552 1517.37 Q766.404 1517.37 764.552 1519.54 Q762.723 1521.7 762.723 1525.42 Q762.723 1529.17 764.552 1531.32 Q766.404 1533.48 769.552 1533.48 Z\" fill=\"#000000\" fill-rule=\"evenodd\" fill-opacity=\"1\" /><path clip-path=\"url(#clip590)\" d=\"M787.515 1533.96 L799.992 1533.96 L799.992 1537.76 L787.515 1537.76 L787.515 1533.96 Z\" fill=\"#000000\" fill-rule=\"evenodd\" fill-opacity=\"1\" /><path clip-path=\"url(#clip590)\" d=\"M817.376 1517.37 Q813.765 1517.37 811.936 1520.93 Q810.131 1524.47 810.131 1531.6 Q810.131 1538.71 811.936 1542.27 Q813.765 1545.82 817.376 1545.82 Q821.01 1545.82 822.816 1542.27 Q824.644 1538.71 824.644 1531.6 Q824.644 1524.47 822.816 1520.93 Q821.01 1517.37 817.376 1517.37 M817.376 1513.66 Q823.186 1513.66 826.242 1518.27 Q829.32 1522.85 829.32 1531.6 Q829.32 1540.33 826.242 1544.94 Q823.186 1549.52 817.376 1549.52 Q811.566 1549.52 808.487 1544.94 Q805.432 1540.33 805.432 1531.6 Q805.432 1522.85 808.487 1518.27 Q811.566 1513.66 817.376 1513.66 Z\" fill=\"#000000\" fill-rule=\"evenodd\" fill-opacity=\"1\" /><path clip-path=\"url(#clip590)\" d=\"M838.348 1544.91 L845.987 1544.91 L845.987 1518.55 L837.677 1520.21 L837.677 1515.95 L845.941 1514.29 L850.616 1514.29 L850.616 1544.91 L858.255 1544.91 L858.255 1548.85 L838.348 1548.85 L838.348 1544.91 Z\" fill=\"#000000\" fill-rule=\"evenodd\" fill-opacity=\"1\" /><path clip-path=\"url(#clip590)\" d=\"M864.945 1533.96 L877.422 1533.96 L877.422 1537.76 L864.945 1537.76 L864.945 1533.96 Z\" fill=\"#000000\" fill-rule=\"evenodd\" fill-opacity=\"1\" /><path clip-path=\"url(#clip590)\" d=\"M894.806 1517.37 Q891.195 1517.37 889.366 1520.93 Q887.561 1524.47 887.561 1531.6 Q887.561 1538.71 889.366 1542.27 Q891.195 1545.82 894.806 1545.82 Q898.44 1545.82 900.246 1542.27 Q902.075 1538.71 902.075 1531.6 Q902.075 1524.47 900.246 1520.93 Q898.44 1517.37 894.806 1517.37 M894.806 1513.66 Q900.616 1513.66 903.672 1518.27 Q906.75 1522.85 906.75 1531.6 Q906.75 1540.33 903.672 1544.94 Q900.616 1549.52 894.806 1549.52 Q888.996 1549.52 885.917 1544.94 Q882.862 1540.33 882.862 1531.6 Q882.862 1522.85 885.917 1518.27 Q888.996 1513.66 894.806 1513.66 Z\" fill=\"#000000\" fill-rule=\"evenodd\" fill-opacity=\"1\" /><path clip-path=\"url(#clip590)\" d=\"M915.778 1544.91 L923.417 1544.91 L923.417 1518.55 L915.107 1520.21 L915.107 1515.95 L923.371 1514.29 L928.047 1514.29 L928.047 1544.91 L935.685 1544.91 L935.685 1548.85 L915.778 1548.85 L915.778 1544.91 Z\" fill=\"#000000\" fill-rule=\"evenodd\" fill-opacity=\"1\" /><path clip-path=\"url(#clip590)\" d=\"M1257.95 1544.91 L1274.27 1544.91 L1274.27 1548.85 L1252.32 1548.85 L1252.32 1544.91 Q1254.98 1542.16 1259.57 1537.53 Q1264.17 1532.88 1265.35 1531.53 Q1267.6 1529.01 1268.48 1527.27 Q1269.38 1525.51 1269.38 1523.82 Q1269.38 1521.07 1267.44 1519.33 Q1265.52 1517.6 1262.41 1517.6 Q1260.21 1517.6 1257.76 1518.36 Q1255.33 1519.13 1252.55 1520.68 L1252.55 1515.95 Q1255.38 1514.82 1257.83 1514.24 Q1260.28 1513.66 1262.32 1513.66 Q1267.69 1513.66 1270.89 1516.35 Q1274.08 1519.03 1274.08 1523.52 Q1274.08 1525.65 1273.27 1527.57 Q1272.48 1529.47 1270.38 1532.07 Q1269.8 1532.74 1266.7 1535.95 Q1263.59 1539.15 1257.95 1544.91 Z\" fill=\"#000000\" fill-rule=\"evenodd\" fill-opacity=\"1\" /><path clip-path=\"url(#clip590)\" d=\"M1294.08 1517.37 Q1290.47 1517.37 1288.64 1520.93 Q1286.84 1524.47 1286.84 1531.6 Q1286.84 1538.71 1288.64 1542.27 Q1290.47 1545.82 1294.08 1545.82 Q1297.71 1545.82 1299.52 1542.27 Q1301.35 1538.71 1301.35 1531.6 Q1301.35 1524.47 1299.52 1520.93 Q1297.71 1517.37 1294.08 1517.37 M1294.08 1513.66 Q1299.89 1513.66 1302.95 1518.27 Q1306.02 1522.85 1306.02 1531.6 Q1306.02 1540.33 1302.95 1544.94 Q1299.89 1549.52 1294.08 1549.52 Q1288.27 1549.52 1285.19 1544.94 Q1282.14 1540.33 1282.14 1531.6 Q1282.14 1522.85 1285.19 1518.27 Q1288.27 1513.66 1294.08 1513.66 Z\" fill=\"#000000\" fill-rule=\"evenodd\" fill-opacity=\"1\" /><path clip-path=\"url(#clip590)\" d=\"M1315.05 1544.91 L1322.69 1544.91 L1322.69 1518.55 L1314.38 1520.21 L1314.38 1515.95 L1322.65 1514.29 L1327.32 1514.29 L1327.32 1544.91 L1334.96 1544.91 L1334.96 1548.85 L1315.05 1548.85 L1315.05 1544.91 Z\" fill=\"#000000\" fill-rule=\"evenodd\" fill-opacity=\"1\" /><path clip-path=\"url(#clip590)\" d=\"M1357.25 1518.36 L1345.45 1536.81 L1357.25 1536.81 L1357.25 1518.36 M1356.02 1514.29 L1361.9 1514.29 L1361.9 1536.81 L1366.83 1536.81 L1366.83 1540.7 L1361.9 1540.7 L1361.9 1548.85 L1357.25 1548.85 L1357.25 1540.7 L1341.65 1540.7 L1341.65 1536.19 L1356.02 1514.29 Z\" fill=\"#000000\" fill-rule=\"evenodd\" fill-opacity=\"1\" /><path clip-path=\"url(#clip590)\" d=\"M1371.81 1533.96 L1384.29 1533.96 L1384.29 1537.76 L1371.81 1537.76 L1371.81 1533.96 Z\" fill=\"#000000\" fill-rule=\"evenodd\" fill-opacity=\"1\" /><path clip-path=\"url(#clip590)\" d=\"M1401.67 1517.37 Q1398.06 1517.37 1396.23 1520.93 Q1394.43 1524.47 1394.43 1531.6 Q1394.43 1538.71 1396.23 1542.27 Q1398.06 1545.82 1401.67 1545.82 Q1405.31 1545.82 1407.11 1542.27 Q1408.94 1538.71 1408.94 1531.6 Q1408.94 1524.47 1407.11 1520.93 Q1405.31 1517.37 1401.67 1517.37 M1401.67 1513.66 Q1407.48 1513.66 1410.54 1518.27 Q1413.62 1522.85 1413.62 1531.6 Q1413.62 1540.33 1410.54 1544.94 Q1407.48 1549.52 1401.67 1549.52 Q1395.86 1549.52 1392.78 1544.94 Q1389.73 1540.33 1389.73 1531.6 Q1389.73 1522.85 1392.78 1518.27 Q1395.86 1513.66 1401.67 1513.66 Z\" fill=\"#000000\" fill-rule=\"evenodd\" fill-opacity=\"1\" /><path clip-path=\"url(#clip590)\" d=\"M1422.64 1544.91 L1430.28 1544.91 L1430.28 1518.55 L1421.97 1520.21 L1421.97 1515.95 L1430.24 1514.29 L1434.91 1514.29 L1434.91 1544.91 L1442.55 1544.91 L1442.55 1548.85 L1422.64 1548.85 L1422.64 1544.91 Z\" fill=\"#000000\" fill-rule=\"evenodd\" fill-opacity=\"1\" /><path clip-path=\"url(#clip590)\" d=\"M1449.24 1533.96 L1461.72 1533.96 L1461.72 1537.76 L1449.24 1537.76 L1449.24 1533.96 Z\" fill=\"#000000\" fill-rule=\"evenodd\" fill-opacity=\"1\" /><path clip-path=\"url(#clip590)\" d=\"M1479.1 1517.37 Q1475.49 1517.37 1473.66 1520.93 Q1471.86 1524.47 1471.86 1531.6 Q1471.86 1538.71 1473.66 1542.27 Q1475.49 1545.82 1479.1 1545.82 Q1482.74 1545.82 1484.54 1542.27 Q1486.37 1538.71 1486.37 1531.6 Q1486.37 1524.47 1484.54 1520.93 Q1482.74 1517.37 1479.1 1517.37 M1479.1 1513.66 Q1484.91 1513.66 1487.97 1518.27 Q1491.05 1522.85 1491.05 1531.6 Q1491.05 1540.33 1487.97 1544.94 Q1484.91 1549.52 1479.1 1549.52 Q1473.29 1549.52 1470.21 1544.94 Q1467.16 1540.33 1467.16 1531.6 Q1467.16 1522.85 1470.21 1518.27 Q1473.29 1513.66 1479.1 1513.66 Z\" fill=\"#000000\" fill-rule=\"evenodd\" fill-opacity=\"1\" /><path clip-path=\"url(#clip590)\" d=\"M1500.07 1544.91 L1507.71 1544.91 L1507.71 1518.55 L1499.4 1520.21 L1499.4 1515.95 L1507.67 1514.29 L1512.34 1514.29 L1512.34 1544.91 L1519.98 1544.91 L1519.98 1548.85 L1500.07 1548.85 L1500.07 1544.91 Z\" fill=\"#000000\" fill-rule=\"evenodd\" fill-opacity=\"1\" /><path clip-path=\"url(#clip590)\" d=\"M1842.24 1544.91 L1858.56 1544.91 L1858.56 1548.85 L1836.62 1548.85 L1836.62 1544.91 Q1839.28 1542.16 1843.86 1537.53 Q1848.47 1532.88 1849.65 1531.53 Q1851.9 1529.01 1852.78 1527.27 Q1853.68 1525.51 1853.68 1523.82 Q1853.68 1521.07 1851.73 1519.33 Q1849.81 1517.6 1846.71 1517.6 Q1844.51 1517.6 1842.06 1518.36 Q1839.63 1519.13 1836.85 1520.68 L1836.85 1515.95 Q1839.67 1514.82 1842.13 1514.24 Q1844.58 1513.66 1846.62 1513.66 Q1851.99 1513.66 1855.18 1516.35 Q1858.38 1519.03 1858.38 1523.52 Q1858.38 1525.65 1857.57 1527.57 Q1856.78 1529.47 1854.67 1532.07 Q1854.09 1532.74 1850.99 1535.95 Q1847.89 1539.15 1842.24 1544.91 Z\" fill=\"#000000\" fill-rule=\"evenodd\" fill-opacity=\"1\" /><path clip-path=\"url(#clip590)\" d=\"M1878.38 1517.37 Q1874.77 1517.37 1872.94 1520.93 Q1871.13 1524.47 1871.13 1531.6 Q1871.13 1538.71 1872.94 1542.27 Q1874.77 1545.82 1878.38 1545.82 Q1882.01 1545.82 1883.82 1542.27 Q1885.65 1538.71 1885.65 1531.6 Q1885.65 1524.47 1883.82 1520.93 Q1882.01 1517.37 1878.38 1517.37 M1878.38 1513.66 Q1884.19 1513.66 1887.24 1518.27 Q1890.32 1522.85 1890.32 1531.6 Q1890.32 1540.33 1887.24 1544.94 Q1884.19 1549.52 1878.38 1549.52 Q1872.57 1549.52 1869.49 1544.94 Q1866.43 1540.33 1866.43 1531.6 Q1866.43 1522.85 1869.49 1518.27 Q1872.57 1513.66 1878.38 1513.66 Z\" fill=\"#000000\" fill-rule=\"evenodd\" fill-opacity=\"1\" /><path clip-path=\"url(#clip590)\" d=\"M1899.35 1544.91 L1906.99 1544.91 L1906.99 1518.55 L1898.68 1520.21 L1898.68 1515.95 L1906.94 1514.29 L1911.62 1514.29 L1911.62 1544.91 L1919.26 1544.91 L1919.26 1548.85 L1899.35 1548.85 L1899.35 1544.91 Z\" fill=\"#000000\" fill-rule=\"evenodd\" fill-opacity=\"1\" /><path clip-path=\"url(#clip590)\" d=\"M1928.84 1548.13 L1928.84 1543.87 Q1930.6 1544.7 1932.4 1545.14 Q1934.21 1545.58 1935.95 1545.58 Q1940.58 1545.58 1943.01 1542.48 Q1945.46 1539.36 1945.81 1533.01 Q1944.46 1535.01 1942.4 1536.07 Q1940.34 1537.13 1937.84 1537.13 Q1932.66 1537.13 1929.63 1534.01 Q1926.62 1530.86 1926.62 1525.42 Q1926.62 1520.1 1929.77 1516.88 Q1932.91 1513.66 1938.15 1513.66 Q1944.14 1513.66 1947.29 1518.27 Q1950.46 1522.85 1950.46 1531.6 Q1950.46 1539.77 1946.57 1544.66 Q1942.71 1549.52 1936.15 1549.52 Q1934.4 1549.52 1932.59 1549.17 Q1930.78 1548.82 1928.84 1548.13 M1938.15 1533.48 Q1941.29 1533.48 1943.12 1531.32 Q1944.97 1529.17 1944.97 1525.42 Q1944.97 1521.7 1943.12 1519.54 Q1941.29 1517.37 1938.15 1517.37 Q1935 1517.37 1933.15 1519.54 Q1931.32 1521.7 1931.32 1525.42 Q1931.32 1529.17 1933.15 1531.32 Q1935 1533.48 1938.15 1533.48 Z\" fill=\"#000000\" fill-rule=\"evenodd\" fill-opacity=\"1\" /><path clip-path=\"url(#clip590)\" d=\"M1956.11 1533.96 L1968.58 1533.96 L1968.58 1537.76 L1956.11 1537.76 L1956.11 1533.96 Z\" fill=\"#000000\" fill-rule=\"evenodd\" fill-opacity=\"1\" /><path clip-path=\"url(#clip590)\" d=\"M1985.97 1517.37 Q1982.36 1517.37 1980.53 1520.93 Q1978.72 1524.47 1978.72 1531.6 Q1978.72 1538.71 1980.53 1542.27 Q1982.36 1545.82 1985.97 1545.82 Q1989.6 1545.82 1991.41 1542.27 Q1993.24 1538.71 1993.24 1531.6 Q1993.24 1524.47 1991.41 1520.93 Q1989.6 1517.37 1985.97 1517.37 M1985.97 1513.66 Q1991.78 1513.66 1994.83 1518.27 Q1997.91 1522.85 1997.91 1531.6 Q1997.91 1540.33 1994.83 1544.94 Q1991.78 1549.52 1985.97 1549.52 Q1980.16 1549.52 1977.08 1544.94 Q1974.02 1540.33 1974.02 1531.6 Q1974.02 1522.85 1977.08 1518.27 Q1980.16 1513.66 1985.97 1513.66 Z\" fill=\"#000000\" fill-rule=\"evenodd\" fill-opacity=\"1\" /><path clip-path=\"url(#clip590)\" d=\"M2006.94 1544.91 L2014.58 1544.91 L2014.58 1518.55 L2006.27 1520.21 L2006.27 1515.95 L2014.53 1514.29 L2019.21 1514.29 L2019.21 1544.91 L2026.85 1544.91 L2026.85 1548.85 L2006.94 1548.85 L2006.94 1544.91 Z\" fill=\"#000000\" fill-rule=\"evenodd\" fill-opacity=\"1\" /><path clip-path=\"url(#clip590)\" d=\"M2033.54 1533.96 L2046.01 1533.96 L2046.01 1537.76 L2033.54 1537.76 L2033.54 1533.96 Z\" fill=\"#000000\" fill-rule=\"evenodd\" fill-opacity=\"1\" /><path clip-path=\"url(#clip590)\" d=\"M2063.4 1517.37 Q2059.79 1517.37 2057.96 1520.93 Q2056.15 1524.47 2056.15 1531.6 Q2056.15 1538.71 2057.96 1542.27 Q2059.79 1545.82 2063.4 1545.82 Q2067.03 1545.82 2068.84 1542.27 Q2070.67 1538.71 2070.67 1531.6 Q2070.67 1524.47 2068.84 1520.93 Q2067.03 1517.37 2063.4 1517.37 M2063.4 1513.66 Q2069.21 1513.66 2072.26 1518.27 Q2075.34 1522.85 2075.34 1531.6 Q2075.34 1540.33 2072.26 1544.94 Q2069.21 1549.52 2063.4 1549.52 Q2057.59 1549.52 2054.51 1544.94 Q2051.45 1540.33 2051.45 1531.6 Q2051.45 1522.85 2054.51 1518.27 Q2057.59 1513.66 2063.4 1513.66 Z\" fill=\"#000000\" fill-rule=\"evenodd\" fill-opacity=\"1\" /><path clip-path=\"url(#clip590)\" d=\"M2084.37 1544.91 L2092.01 1544.91 L2092.01 1518.55 L2083.7 1520.21 L2083.7 1515.95 L2091.96 1514.29 L2096.64 1514.29 L2096.64 1544.91 L2104.28 1544.91 L2104.28 1548.85 L2084.37 1548.85 L2084.37 1544.91 Z\" fill=\"#000000\" fill-rule=\"evenodd\" fill-opacity=\"1\" /><polyline clip-path=\"url(#clip592)\" style=\"stroke:#000000; stroke-linecap:butt; stroke-linejoin:round; stroke-width:2; stroke-opacity:0.1; fill:none\" points=\"\n  184.677,1308.4 2352.76,1308.4 \n  \"/>\n<polyline clip-path=\"url(#clip592)\" style=\"stroke:#000000; stroke-linecap:butt; stroke-linejoin:round; stroke-width:2; stroke-opacity:0.1; fill:none\" points=\"\n  184.677,1100.99 2352.76,1100.99 \n  \"/>\n<polyline clip-path=\"url(#clip592)\" style=\"stroke:#000000; stroke-linecap:butt; stroke-linejoin:round; stroke-width:2; stroke-opacity:0.1; fill:none\" points=\"\n  184.677,893.575 2352.76,893.575 \n  \"/>\n<polyline clip-path=\"url(#clip592)\" style=\"stroke:#000000; stroke-linecap:butt; stroke-linejoin:round; stroke-width:2; stroke-opacity:0.1; fill:none\" points=\"\n  184.677,686.162 2352.76,686.162 \n  \"/>\n<polyline clip-path=\"url(#clip592)\" style=\"stroke:#000000; stroke-linecap:butt; stroke-linejoin:round; stroke-width:2; stroke-opacity:0.1; fill:none\" points=\"\n  184.677,478.75 2352.76,478.75 \n  \"/>\n<polyline clip-path=\"url(#clip592)\" style=\"stroke:#000000; stroke-linecap:butt; stroke-linejoin:round; stroke-width:2; stroke-opacity:0.1; fill:none\" points=\"\n  184.677,271.337 2352.76,271.337 \n  \"/>\n<polyline clip-path=\"url(#clip592)\" style=\"stroke:#000000; stroke-linecap:butt; stroke-linejoin:round; stroke-width:2; stroke-opacity:0.1; fill:none\" points=\"\n  184.677,63.9246 2352.76,63.9246 \n  \"/>\n<polyline clip-path=\"url(#clip590)\" style=\"stroke:#000000; stroke-linecap:butt; stroke-linejoin:round; stroke-width:4; stroke-opacity:1; fill:none\" points=\"\n  184.677,1486.45 184.677,47.2441 \n  \"/>\n<polyline clip-path=\"url(#clip590)\" style=\"stroke:#000000; stroke-linecap:butt; stroke-linejoin:round; stroke-width:4; stroke-opacity:1; fill:none\" points=\"\n  184.677,1308.4 203.574,1308.4 \n  \"/>\n<polyline clip-path=\"url(#clip590)\" style=\"stroke:#000000; stroke-linecap:butt; stroke-linejoin:round; stroke-width:4; stroke-opacity:1; fill:none\" points=\"\n  184.677,1100.99 203.574,1100.99 \n  \"/>\n<polyline clip-path=\"url(#clip590)\" style=\"stroke:#000000; stroke-linecap:butt; stroke-linejoin:round; stroke-width:4; stroke-opacity:1; fill:none\" points=\"\n  184.677,893.575 203.574,893.575 \n  \"/>\n<polyline clip-path=\"url(#clip590)\" style=\"stroke:#000000; stroke-linecap:butt; stroke-linejoin:round; stroke-width:4; stroke-opacity:1; fill:none\" points=\"\n  184.677,686.162 203.574,686.162 \n  \"/>\n<polyline clip-path=\"url(#clip590)\" style=\"stroke:#000000; stroke-linecap:butt; stroke-linejoin:round; stroke-width:4; stroke-opacity:1; fill:none\" points=\"\n  184.677,478.75 203.574,478.75 \n  \"/>\n<polyline clip-path=\"url(#clip590)\" style=\"stroke:#000000; stroke-linecap:butt; stroke-linejoin:round; stroke-width:4; stroke-opacity:1; fill:none\" points=\"\n  184.677,271.337 203.574,271.337 \n  \"/>\n<polyline clip-path=\"url(#clip590)\" style=\"stroke:#000000; stroke-linecap:butt; stroke-linejoin:round; stroke-width:4; stroke-opacity:1; fill:none\" points=\"\n  184.677,63.9246 203.574,63.9246 \n  \"/>\n<path clip-path=\"url(#clip590)\" d=\"M51.6634 1321.75 L59.3023 1321.75 L59.3023 1295.38 L50.9921 1297.05 L50.9921 1292.79 L59.256 1291.12 L63.9319 1291.12 L63.9319 1321.75 L71.5707 1321.75 L71.5707 1325.68 L51.6634 1325.68 L51.6634 1321.75 Z\" fill=\"#000000\" fill-rule=\"evenodd\" fill-opacity=\"1\" /><path clip-path=\"url(#clip590)\" d=\"M93.8623 1295.19 L82.0568 1313.64 L93.8623 1313.64 L93.8623 1295.19 M92.6354 1291.12 L98.515 1291.12 L98.515 1313.64 L103.446 1313.64 L103.446 1317.53 L98.515 1317.53 L98.515 1325.68 L93.8623 1325.68 L93.8623 1317.53 L78.2605 1317.53 L78.2605 1313.02 L92.6354 1291.12 Z\" fill=\"#000000\" fill-rule=\"evenodd\" fill-opacity=\"1\" /><path clip-path=\"url(#clip590)\" d=\"M111.177 1319.8 L116.061 1319.8 L116.061 1325.68 L111.177 1325.68 L111.177 1319.8 Z\" fill=\"#000000\" fill-rule=\"evenodd\" fill-opacity=\"1\" /><path clip-path=\"url(#clip590)\" d=\"M139.094 1295.19 L127.288 1313.64 L139.094 1313.64 L139.094 1295.19 M137.867 1291.12 L143.746 1291.12 L143.746 1313.64 L148.677 1313.64 L148.677 1317.53 L143.746 1317.53 L143.746 1325.68 L139.094 1325.68 L139.094 1317.53 L123.492 1317.53 L123.492 1313.02 L137.867 1291.12 Z\" fill=\"#000000\" fill-rule=\"evenodd\" fill-opacity=\"1\" /><path clip-path=\"url(#clip590)\" d=\"M51.9875 1114.33 L59.6263 1114.33 L59.6263 1087.97 L51.3162 1089.63 L51.3162 1085.37 L59.58 1083.71 L64.2559 1083.71 L64.2559 1114.33 L71.8948 1114.33 L71.8948 1118.27 L51.9875 1118.27 L51.9875 1114.33 Z\" fill=\"#000000\" fill-rule=\"evenodd\" fill-opacity=\"1\" /><path clip-path=\"url(#clip590)\" d=\"M94.1863 1087.78 L82.3808 1106.23 L94.1863 1106.23 L94.1863 1087.78 M92.9595 1083.71 L98.8391 1083.71 L98.8391 1106.23 L103.77 1106.23 L103.77 1110.12 L98.8391 1110.12 L98.8391 1118.27 L94.1863 1118.27 L94.1863 1110.12 L78.5846 1110.12 L78.5846 1105.61 L92.9595 1083.71 Z\" fill=\"#000000\" fill-rule=\"evenodd\" fill-opacity=\"1\" /><path clip-path=\"url(#clip590)\" d=\"M111.501 1112.39 L116.385 1112.39 L116.385 1118.27 L111.501 1118.27 L111.501 1112.39 Z\" fill=\"#000000\" fill-rule=\"evenodd\" fill-opacity=\"1\" /><path clip-path=\"url(#clip590)\" d=\"M137.149 1099.12 Q134.001 1099.12 132.149 1101.28 Q130.32 1103.43 130.32 1107.18 Q130.32 1110.91 132.149 1113.08 Q134.001 1115.24 137.149 1115.24 Q140.297 1115.24 142.126 1113.08 Q143.978 1110.91 143.978 1107.18 Q143.978 1103.43 142.126 1101.28 Q140.297 1099.12 137.149 1099.12 M146.431 1084.47 L146.431 1088.73 Q144.672 1087.9 142.867 1087.46 Q141.084 1087.02 139.325 1087.02 Q134.695 1087.02 132.242 1090.14 Q129.811 1093.27 129.464 1099.59 Q130.83 1097.57 132.89 1096.51 Q134.95 1095.42 137.427 1095.42 Q142.635 1095.42 145.644 1098.59 Q148.677 1101.74 148.677 1107.18 Q148.677 1112.5 145.529 1115.72 Q142.381 1118.94 137.149 1118.94 Q131.154 1118.94 127.982 1114.36 Q124.811 1109.75 124.811 1101.02 Q124.811 1092.83 128.7 1087.97 Q132.589 1083.08 139.14 1083.08 Q140.899 1083.08 142.681 1083.43 Q144.487 1083.78 146.431 1084.47 Z\" fill=\"#000000\" fill-rule=\"evenodd\" fill-opacity=\"1\" /><path clip-path=\"url(#clip590)\" d=\"M52.2421 906.92 L59.881 906.92 L59.881 880.554 L51.5708 882.221 L51.5708 877.962 L59.8347 876.295 L64.5106 876.295 L64.5106 906.92 L72.1494 906.92 L72.1494 910.855 L52.2421 910.855 L52.2421 906.92 Z\" fill=\"#000000\" fill-rule=\"evenodd\" fill-opacity=\"1\" /><path clip-path=\"url(#clip590)\" d=\"M94.441 880.369 L82.6355 898.818 L94.441 898.818 L94.441 880.369 M93.2141 876.295 L99.0937 876.295 L99.0937 898.818 L104.024 898.818 L104.024 902.707 L99.0937 902.707 L99.0937 910.855 L94.441 910.855 L94.441 902.707 L78.8392 902.707 L78.8392 898.193 L93.2141 876.295 Z\" fill=\"#000000\" fill-rule=\"evenodd\" fill-opacity=\"1\" /><path clip-path=\"url(#clip590)\" d=\"M111.756 904.975 L116.64 904.975 L116.64 910.855 L111.756 910.855 L111.756 904.975 Z\" fill=\"#000000\" fill-rule=\"evenodd\" fill-opacity=\"1\" /><path clip-path=\"url(#clip590)\" d=\"M136.825 894.443 Q133.492 894.443 131.57 896.226 Q129.672 898.008 129.672 901.133 Q129.672 904.258 131.57 906.04 Q133.492 907.823 136.825 907.823 Q140.158 907.823 142.08 906.04 Q144.001 904.235 144.001 901.133 Q144.001 898.008 142.08 896.226 Q140.181 894.443 136.825 894.443 M132.149 892.452 Q129.14 891.712 127.45 889.651 Q125.783 887.591 125.783 884.628 Q125.783 880.485 128.723 878.077 Q131.686 875.67 136.825 875.67 Q141.987 875.67 144.927 878.077 Q147.867 880.485 147.867 884.628 Q147.867 887.591 146.177 889.651 Q144.51 891.712 141.524 892.452 Q144.904 893.239 146.779 895.531 Q148.677 897.823 148.677 901.133 Q148.677 906.156 145.598 908.841 Q142.543 911.526 136.825 911.526 Q131.107 911.526 128.029 908.841 Q124.973 906.156 124.973 901.133 Q124.973 897.823 126.871 895.531 Q128.769 893.239 132.149 892.452 M130.436 885.068 Q130.436 887.753 132.103 889.258 Q133.793 890.763 136.825 890.763 Q139.834 890.763 141.524 889.258 Q143.237 887.753 143.237 885.068 Q143.237 882.383 141.524 880.878 Q139.834 879.374 136.825 879.374 Q133.793 879.374 132.103 880.878 Q130.436 882.383 130.436 885.068 Z\" fill=\"#000000\" fill-rule=\"evenodd\" fill-opacity=\"1\" /><path clip-path=\"url(#clip590)\" d=\"M52.1495 699.507 L59.7884 699.507 L59.7884 673.142 L51.4782 674.808 L51.4782 670.549 L59.7421 668.882 L64.418 668.882 L64.418 699.507 L72.0568 699.507 L72.0568 703.442 L52.1495 703.442 L52.1495 699.507 Z\" fill=\"#000000\" fill-rule=\"evenodd\" fill-opacity=\"1\" /><path clip-path=\"url(#clip590)\" d=\"M81.5475 668.882 L99.9039 668.882 L99.9039 672.818 L85.8299 672.818 L85.8299 681.29 Q86.8484 680.943 87.8669 680.781 Q88.8854 680.595 89.904 680.595 Q95.691 680.595 99.0706 683.767 Q102.45 686.938 102.45 692.355 Q102.45 697.933 98.978 701.035 Q95.5058 704.114 89.1864 704.114 Q87.0105 704.114 84.7419 703.743 Q82.4966 703.373 80.0892 702.632 L80.0892 697.933 Q82.1725 699.067 84.3947 699.623 Q86.6169 700.179 89.0938 700.179 Q93.0984 700.179 95.4363 698.072 Q97.7743 695.966 97.7743 692.355 Q97.7743 688.743 95.4363 686.637 Q93.0984 684.531 89.0938 684.531 Q87.2188 684.531 85.3438 684.947 Q83.492 685.364 81.5475 686.243 L81.5475 668.882 Z\" fill=\"#000000\" fill-rule=\"evenodd\" fill-opacity=\"1\" /><path clip-path=\"url(#clip590)\" d=\"M111.663 697.563 L116.547 697.563 L116.547 703.442 L111.663 703.442 L111.663 697.563 Z\" fill=\"#000000\" fill-rule=\"evenodd\" fill-opacity=\"1\" /><path clip-path=\"url(#clip590)\" d=\"M136.732 671.961 Q133.121 671.961 131.293 675.526 Q129.487 679.068 129.487 686.197 Q129.487 693.304 131.293 696.868 Q133.121 700.41 136.732 700.41 Q140.367 700.41 142.172 696.868 Q144.001 693.304 144.001 686.197 Q144.001 679.068 142.172 675.526 Q140.367 671.961 136.732 671.961 M136.732 668.257 Q142.543 668.257 145.598 672.864 Q148.677 677.447 148.677 686.197 Q148.677 694.924 145.598 699.53 Q142.543 704.114 136.732 704.114 Q130.922 704.114 127.844 699.53 Q124.788 694.924 124.788 686.197 Q124.788 677.447 127.844 672.864 Q130.922 668.257 136.732 668.257 Z\" fill=\"#000000\" fill-rule=\"evenodd\" fill-opacity=\"1\" /><path clip-path=\"url(#clip590)\" d=\"M53.7467 492.095 L61.3856 492.095 L61.3856 465.729 L53.0754 467.396 L53.0754 463.136 L61.3393 461.47 L66.0152 461.47 L66.0152 492.095 L73.654 492.095 L73.654 496.03 L53.7467 496.03 L53.7467 492.095 Z\" fill=\"#000000\" fill-rule=\"evenodd\" fill-opacity=\"1\" /><path clip-path=\"url(#clip590)\" d=\"M83.1447 461.47 L101.501 461.47 L101.501 465.405 L87.4271 465.405 L87.4271 473.877 Q88.4456 473.53 89.4641 473.368 Q90.4827 473.183 91.5012 473.183 Q97.2882 473.183 100.668 476.354 Q104.047 479.525 104.047 484.942 Q104.047 490.521 100.575 493.622 Q97.103 496.701 90.7836 496.701 Q88.6077 496.701 86.3392 496.331 Q84.0938 495.96 81.6864 495.22 L81.6864 490.521 Q83.7697 491.655 85.9919 492.21 Q88.2141 492.766 90.691 492.766 Q94.6956 492.766 97.0335 490.659 Q99.3715 488.553 99.3715 484.942 Q99.3715 481.331 97.0335 479.224 Q94.6956 477.118 90.691 477.118 Q88.816 477.118 86.941 477.535 Q85.0892 477.951 83.1447 478.831 L83.1447 461.47 Z\" fill=\"#000000\" fill-rule=\"evenodd\" fill-opacity=\"1\" /><path clip-path=\"url(#clip590)\" d=\"M113.26 490.15 L118.145 490.15 L118.145 496.03 L113.26 496.03 L113.26 490.15 Z\" fill=\"#000000\" fill-rule=\"evenodd\" fill-opacity=\"1\" /><path clip-path=\"url(#clip590)\" d=\"M132.357 492.095 L148.677 492.095 L148.677 496.03 L126.732 496.03 L126.732 492.095 Q129.394 489.34 133.978 484.71 Q138.584 480.058 139.765 478.715 Q142.01 476.192 142.89 474.456 Q143.793 472.697 143.793 471.007 Q143.793 468.252 141.848 466.516 Q139.927 464.78 136.825 464.78 Q134.626 464.78 132.172 465.544 Q129.742 466.308 126.964 467.859 L126.964 463.136 Q129.788 462.002 132.242 461.424 Q134.695 460.845 136.732 460.845 Q142.103 460.845 145.297 463.53 Q148.492 466.215 148.492 470.706 Q148.492 472.836 147.681 474.757 Q146.894 476.655 144.788 479.248 Q144.209 479.919 141.107 483.136 Q138.006 486.331 132.357 492.095 Z\" fill=\"#000000\" fill-rule=\"evenodd\" fill-opacity=\"1\" /><path clip-path=\"url(#clip590)\" d=\"M51.6634 284.682 L59.3023 284.682 L59.3023 258.316 L50.9921 259.983 L50.9921 255.724 L59.256 254.057 L63.9319 254.057 L63.9319 284.682 L71.5707 284.682 L71.5707 288.617 L51.6634 288.617 L51.6634 284.682 Z\" fill=\"#000000\" fill-rule=\"evenodd\" fill-opacity=\"1\" /><path clip-path=\"url(#clip590)\" d=\"M81.0614 254.057 L99.4178 254.057 L99.4178 257.992 L85.3438 257.992 L85.3438 266.465 Q86.3623 266.117 87.3808 265.955 Q88.3993 265.77 89.4178 265.77 Q95.2049 265.77 98.5845 268.941 Q101.964 272.113 101.964 277.529 Q101.964 283.108 98.4919 286.21 Q95.0197 289.289 88.7003 289.289 Q86.5243 289.289 84.2558 288.918 Q82.0105 288.548 79.6031 287.807 L79.6031 283.108 Q81.6864 284.242 83.9086 284.798 Q86.1308 285.353 88.6077 285.353 Q92.6123 285.353 94.9502 283.247 Q97.2882 281.14 97.2882 277.529 Q97.2882 273.918 94.9502 271.812 Q92.6123 269.705 88.6077 269.705 Q86.7327 269.705 84.8577 270.122 Q83.0058 270.539 81.0614 271.418 L81.0614 254.057 Z\" fill=\"#000000\" fill-rule=\"evenodd\" fill-opacity=\"1\" /><path clip-path=\"url(#clip590)\" d=\"M111.177 282.738 L116.061 282.738 L116.061 288.617 L111.177 288.617 L111.177 282.738 Z\" fill=\"#000000\" fill-rule=\"evenodd\" fill-opacity=\"1\" /><path clip-path=\"url(#clip590)\" d=\"M139.094 258.131 L127.288 276.58 L139.094 276.58 L139.094 258.131 M137.867 254.057 L143.746 254.057 L143.746 276.58 L148.677 276.58 L148.677 280.469 L143.746 280.469 L143.746 288.617 L139.094 288.617 L139.094 280.469 L123.492 280.469 L123.492 275.955 L137.867 254.057 Z\" fill=\"#000000\" fill-rule=\"evenodd\" fill-opacity=\"1\" /><path clip-path=\"url(#clip590)\" d=\"M51.9875 77.2694 L59.6263 77.2694 L59.6263 50.9038 L51.3162 52.5705 L51.3162 48.3113 L59.58 46.6446 L64.2559 46.6446 L64.2559 77.2694 L71.8948 77.2694 L71.8948 81.2046 L51.9875 81.2046 L51.9875 77.2694 Z\" fill=\"#000000\" fill-rule=\"evenodd\" fill-opacity=\"1\" /><path clip-path=\"url(#clip590)\" d=\"M81.3855 46.6446 L99.7419 46.6446 L99.7419 50.5798 L85.6679 50.5798 L85.6679 59.0519 Q86.6864 58.7047 87.7049 58.5427 Q88.7234 58.3575 89.7419 58.3575 Q95.5289 58.3575 98.9085 61.5288 Q102.288 64.7001 102.288 70.1167 Q102.288 75.6954 98.8159 78.7972 Q95.3437 81.8759 89.0243 81.8759 Q86.8484 81.8759 84.5799 81.5055 Q82.3346 81.1352 79.9272 80.3944 L79.9272 75.6954 Q82.0105 76.8296 84.2327 77.3852 Q86.4549 77.9407 88.9317 77.9407 Q92.9363 77.9407 95.2743 75.8343 Q97.6122 73.7278 97.6122 70.1167 Q97.6122 66.5056 95.2743 64.3991 Q92.9363 62.2927 88.9317 62.2927 Q87.0567 62.2927 85.1818 62.7093 Q83.3299 63.126 81.3855 64.0056 L81.3855 46.6446 Z\" fill=\"#000000\" fill-rule=\"evenodd\" fill-opacity=\"1\" /><path clip-path=\"url(#clip590)\" d=\"M111.501 75.325 L116.385 75.325 L116.385 81.2046 L111.501 81.2046 L111.501 75.325 Z\" fill=\"#000000\" fill-rule=\"evenodd\" fill-opacity=\"1\" /><path clip-path=\"url(#clip590)\" d=\"M137.149 62.0612 Q134.001 62.0612 132.149 64.214 Q130.32 66.3667 130.32 70.1167 Q130.32 73.8435 132.149 76.0194 Q134.001 78.1722 137.149 78.1722 Q140.297 78.1722 142.126 76.0194 Q143.978 73.8435 143.978 70.1167 Q143.978 66.3667 142.126 64.214 Q140.297 62.0612 137.149 62.0612 M146.431 47.4085 L146.431 51.6677 Q144.672 50.8344 142.867 50.3946 Q141.084 49.9548 139.325 49.9548 Q134.695 49.9548 132.242 53.0798 Q129.811 56.2047 129.464 62.5241 Q130.83 60.5103 132.89 59.4455 Q134.95 58.3575 137.427 58.3575 Q142.635 58.3575 145.644 61.5288 Q148.677 64.6769 148.677 70.1167 Q148.677 75.4407 145.529 78.6583 Q142.381 81.8759 137.149 81.8759 Q131.154 81.8759 127.982 77.2926 Q124.811 72.6861 124.811 63.9593 Q124.811 55.7649 128.7 50.9038 Q132.589 46.0196 139.14 46.0196 Q140.899 46.0196 142.681 46.3668 Q144.487 46.714 146.431 47.4085 Z\" fill=\"#000000\" fill-rule=\"evenodd\" fill-opacity=\"1\" /><polyline clip-path=\"url(#clip592)\" style=\"stroke:#009af9; stroke-linecap:butt; stroke-linejoin:round; stroke-width:6; stroke-opacity:1; fill:none\" points=\"\n  246.038,1445.72 275.156,1400.92 304.595,1379.81 334.034,1345.52 362.833,1323.1 391.952,1302.8 421.39,1263.34 450.829,1238.9 479.628,1216.59 508.747,1170.85 \n  538.186,1135.28 567.625,1082.35 596.423,1064.08 625.542,1028.1 654.981,999.751 684.42,980.012 713.539,935.742 742.658,910.49 772.096,875.645 801.535,894.711 \n  830.334,868.285 859.453,872.024 888.892,844.703 918.33,826.995 947.129,797.498 976.248,771.754 1005.69,757.011 1035.13,747.548 1063.92,713.768 1093.04,691.793 \n  1122.48,666.115 1151.92,633.362 1181.04,616.417 1210.16,589.981 1239.6,570.451 1269.04,553.927 1297.84,525.569 1326.95,494.232 1356.39,471.919 1385.83,468.434 \n  1414.63,443.265 1443.75,431.606 1473.19,420.493 1502.63,414.13 1531.43,382.936 1560.54,376.449 1589.98,353.082 1619.42,327.482 1648.54,316.296 1677.66,310.358 \n  1707.1,291.524 1736.54,287.158 1765.34,265.529 1794.46,249.069 1823.89,235.944 1853.33,215.336 1882.13,206.071 1911.25,192.704 1940.69,161.274 1970.13,155.606 \n  1998.93,162.658 2028.05,127.247 2057.48,120.322 2086.92,120.591 2116.04,133.153 2145.16,295.098 2174.6,203.801 2204.04,134.818 2232.84,121.637 2261.96,121.878 \n  2291.4,87.9763 \n  \"/>\n</svg>\n"
     },
     "execution_count": 122,
     "metadata": {},
     "output_type": "execute_result"
    }
   ],
   "source": [
    "plot(date_sa, log_gdp, legend = false, lw = 1.5)"
   ]
  },
  {
   "cell_type": "markdown",
   "metadata": {},
   "source": [
    "You will see that the scale on the y-axis has changed after this transformation. The slope of this graph indicates the growth rate. A point that we will touch on soon. "
   ]
  },
  {
   "cell_type": "markdown",
   "metadata": {},
   "source": [
    "We can also plot some of the other variables in our dataset, such as the inflation rate. "
   ]
  },
  {
   "cell_type": "code",
   "execution_count": 130,
   "metadata": {},
   "outputs": [
    {
     "data": {
      "image/svg+xml": "<?xml version=\"1.0\" encoding=\"utf-8\"?>\n<svg xmlns=\"http://www.w3.org/2000/svg\" xmlns:xlink=\"http://www.w3.org/1999/xlink\" width=\"600\" height=\"400\" viewBox=\"0 0 2400 1600\">\n<defs>\n  <clipPath id=\"clip870\">\n    <rect x=\"0\" y=\"0\" width=\"2400\" height=\"1600\"/>\n  </clipPath>\n</defs>\n<path clip-path=\"url(#clip870)\" d=\"\nM0 1600 L2400 1600 L2400 0 L0 0  Z\n  \" fill=\"#ffffff\" fill-rule=\"evenodd\" fill-opacity=\"1\"/>\n<defs>\n  <clipPath id=\"clip871\">\n    <rect x=\"480\" y=\"0\" width=\"1681\" height=\"1600\"/>\n  </clipPath>\n</defs>\n<path clip-path=\"url(#clip870)\" d=\"\nM184.191 1486.45 L2352.76 1486.45 L2352.76 47.2441 L184.191 47.2441  Z\n  \" fill=\"#ffffff\" fill-rule=\"evenodd\" fill-opacity=\"1\"/>\n<defs>\n  <clipPath id=\"clip872\">\n    <rect x=\"184\" y=\"47\" width=\"2170\" height=\"1440\"/>\n  </clipPath>\n</defs>\n<polyline clip-path=\"url(#clip872)\" style=\"stroke:#000000; stroke-linecap:butt; stroke-linejoin:round; stroke-width:2; stroke-opacity:0.1; fill:none\" points=\"\n  216.76,1486.45 216.76,47.2441 \n  \"/>\n<polyline clip-path=\"url(#clip872)\" style=\"stroke:#000000; stroke-linecap:butt; stroke-linejoin:round; stroke-width:2; stroke-opacity:0.1; fill:none\" points=\"\n  801.507,1486.45 801.507,47.2441 \n  \"/>\n<polyline clip-path=\"url(#clip872)\" style=\"stroke:#000000; stroke-linecap:butt; stroke-linejoin:round; stroke-width:2; stroke-opacity:0.1; fill:none\" points=\"\n  1385.93,1486.45 1385.93,47.2441 \n  \"/>\n<polyline clip-path=\"url(#clip872)\" style=\"stroke:#000000; stroke-linecap:butt; stroke-linejoin:round; stroke-width:2; stroke-opacity:0.1; fill:none\" points=\"\n  1970.36,1486.45 1970.36,47.2441 \n  \"/>\n<polyline clip-path=\"url(#clip870)\" style=\"stroke:#000000; stroke-linecap:butt; stroke-linejoin:round; stroke-width:4; stroke-opacity:1; fill:none\" points=\"\n  184.191,1486.45 2352.76,1486.45 \n  \"/>\n<polyline clip-path=\"url(#clip870)\" style=\"stroke:#000000; stroke-linecap:butt; stroke-linejoin:round; stroke-width:4; stroke-opacity:1; fill:none\" points=\"\n  216.76,1486.45 216.76,1467.55 \n  \"/>\n<polyline clip-path=\"url(#clip870)\" style=\"stroke:#000000; stroke-linecap:butt; stroke-linejoin:round; stroke-width:4; stroke-opacity:1; fill:none\" points=\"\n  801.507,1486.45 801.507,1467.55 \n  \"/>\n<polyline clip-path=\"url(#clip870)\" style=\"stroke:#000000; stroke-linecap:butt; stroke-linejoin:round; stroke-width:4; stroke-opacity:1; fill:none\" points=\"\n  1385.93,1486.45 1385.93,1467.55 \n  \"/>\n<polyline clip-path=\"url(#clip870)\" style=\"stroke:#000000; stroke-linecap:butt; stroke-linejoin:round; stroke-width:4; stroke-opacity:1; fill:none\" points=\"\n  1970.36,1486.45 1970.36,1467.55 \n  \"/>\n<path clip-path=\"url(#clip870)\" d=\"M88.5545 1544.91 L104.874 1544.91 L104.874 1548.85 L82.9296 1548.85 L82.9296 1544.91 Q85.5916 1542.16 90.1749 1537.53 Q94.7814 1532.88 95.9619 1531.53 Q98.2073 1529.01 99.0869 1527.27 Q99.9897 1525.51 99.9897 1523.82 Q99.9897 1521.07 98.0452 1519.33 Q96.1239 1517.6 93.0221 1517.6 Q90.823 1517.6 88.3694 1518.36 Q85.9388 1519.13 83.161 1520.68 L83.161 1515.95 Q85.9851 1514.82 88.4388 1514.24 Q90.8925 1513.66 92.9295 1513.66 Q98.2999 1513.66 101.494 1516.35 Q104.689 1519.03 104.689 1523.52 Q104.689 1525.65 103.879 1527.57 Q103.091 1529.47 100.985 1532.07 Q100.406 1532.74 97.3045 1535.95 Q94.2027 1539.15 88.5545 1544.91 Z\" fill=\"#000000\" fill-rule=\"evenodd\" fill-opacity=\"1\" /><path clip-path=\"url(#clip870)\" d=\"M124.689 1517.37 Q121.078 1517.37 119.249 1520.93 Q117.443 1524.47 117.443 1531.6 Q117.443 1538.71 119.249 1542.27 Q121.078 1545.82 124.689 1545.82 Q128.323 1545.82 130.128 1542.27 Q131.957 1538.71 131.957 1531.6 Q131.957 1524.47 130.128 1520.93 Q128.323 1517.37 124.689 1517.37 M124.689 1513.66 Q130.499 1513.66 133.554 1518.27 Q136.633 1522.85 136.633 1531.6 Q136.633 1540.33 133.554 1544.94 Q130.499 1549.52 124.689 1549.52 Q118.878 1549.52 115.8 1544.94 Q112.744 1540.33 112.744 1531.6 Q112.744 1522.85 115.8 1518.27 Q118.878 1513.66 124.689 1513.66 Z\" fill=\"#000000\" fill-rule=\"evenodd\" fill-opacity=\"1\" /><path clip-path=\"url(#clip870)\" d=\"M154.85 1517.37 Q151.239 1517.37 149.411 1520.93 Q147.605 1524.47 147.605 1531.6 Q147.605 1538.71 149.411 1542.27 Q151.239 1545.82 154.85 1545.82 Q158.485 1545.82 160.29 1542.27 Q162.119 1538.71 162.119 1531.6 Q162.119 1524.47 160.29 1520.93 Q158.485 1517.37 154.85 1517.37 M154.85 1513.66 Q160.661 1513.66 163.716 1518.27 Q166.795 1522.85 166.795 1531.6 Q166.795 1540.33 163.716 1544.94 Q160.661 1549.52 154.85 1549.52 Q149.04 1549.52 145.962 1544.94 Q142.906 1540.33 142.906 1531.6 Q142.906 1522.85 145.962 1518.27 Q149.04 1513.66 154.85 1513.66 Z\" fill=\"#000000\" fill-rule=\"evenodd\" fill-opacity=\"1\" /><path clip-path=\"url(#clip870)\" d=\"M187.86 1518.36 L176.054 1536.81 L187.86 1536.81 L187.86 1518.36 M186.633 1514.29 L192.512 1514.29 L192.512 1536.81 L197.443 1536.81 L197.443 1540.7 L192.512 1540.7 L192.512 1548.85 L187.86 1548.85 L187.86 1540.7 L172.258 1540.7 L172.258 1536.19 L186.633 1514.29 Z\" fill=\"#000000\" fill-rule=\"evenodd\" fill-opacity=\"1\" /><path clip-path=\"url(#clip870)\" d=\"M202.42 1533.96 L214.896 1533.96 L214.896 1537.76 L202.42 1537.76 L202.42 1533.96 Z\" fill=\"#000000\" fill-rule=\"evenodd\" fill-opacity=\"1\" /><path clip-path=\"url(#clip870)\" d=\"M232.281 1517.37 Q228.67 1517.37 226.841 1520.93 Q225.035 1524.47 225.035 1531.6 Q225.035 1538.71 226.841 1542.27 Q228.67 1545.82 232.281 1545.82 Q235.915 1545.82 237.72 1542.27 Q239.549 1538.71 239.549 1531.6 Q239.549 1524.47 237.72 1520.93 Q235.915 1517.37 232.281 1517.37 M232.281 1513.66 Q238.091 1513.66 241.146 1518.27 Q244.225 1522.85 244.225 1531.6 Q244.225 1540.33 241.146 1544.94 Q238.091 1549.52 232.281 1549.52 Q226.47 1549.52 223.392 1544.94 Q220.336 1540.33 220.336 1531.6 Q220.336 1522.85 223.392 1518.27 Q226.47 1513.66 232.281 1513.66 Z\" fill=\"#000000\" fill-rule=\"evenodd\" fill-opacity=\"1\" /><path clip-path=\"url(#clip870)\" d=\"M253.253 1544.91 L260.892 1544.91 L260.892 1518.55 L252.581 1520.21 L252.581 1515.95 L260.845 1514.29 L265.521 1514.29 L265.521 1544.91 L273.16 1544.91 L273.16 1548.85 L253.253 1548.85 L253.253 1544.91 Z\" fill=\"#000000\" fill-rule=\"evenodd\" fill-opacity=\"1\" /><path clip-path=\"url(#clip870)\" d=\"M279.85 1533.96 L292.327 1533.96 L292.327 1537.76 L279.85 1537.76 L279.85 1533.96 Z\" fill=\"#000000\" fill-rule=\"evenodd\" fill-opacity=\"1\" /><path clip-path=\"url(#clip870)\" d=\"M309.711 1517.37 Q306.1 1517.37 304.271 1520.93 Q302.465 1524.47 302.465 1531.6 Q302.465 1538.71 304.271 1542.27 Q306.1 1545.82 309.711 1545.82 Q313.345 1545.82 315.151 1542.27 Q316.979 1538.71 316.979 1531.6 Q316.979 1524.47 315.151 1520.93 Q313.345 1517.37 309.711 1517.37 M309.711 1513.66 Q315.521 1513.66 318.576 1518.27 Q321.655 1522.85 321.655 1531.6 Q321.655 1540.33 318.576 1544.94 Q315.521 1549.52 309.711 1549.52 Q303.901 1549.52 300.822 1544.94 Q297.766 1540.33 297.766 1531.6 Q297.766 1522.85 300.822 1518.27 Q303.901 1513.66 309.711 1513.66 Z\" fill=\"#000000\" fill-rule=\"evenodd\" fill-opacity=\"1\" /><path clip-path=\"url(#clip870)\" d=\"M330.683 1544.91 L338.322 1544.91 L338.322 1518.55 L330.012 1520.21 L330.012 1515.95 L338.275 1514.29 L342.951 1514.29 L342.951 1544.91 L350.59 1544.91 L350.59 1548.85 L330.683 1548.85 L330.683 1544.91 Z\" fill=\"#000000\" fill-rule=\"evenodd\" fill-opacity=\"1\" /><path clip-path=\"url(#clip870)\" d=\"M673.302 1544.91 L689.621 1544.91 L689.621 1548.85 L667.677 1548.85 L667.677 1544.91 Q670.339 1542.16 674.922 1537.53 Q679.529 1532.88 680.709 1531.53 Q682.955 1529.01 683.834 1527.27 Q684.737 1525.51 684.737 1523.82 Q684.737 1521.07 682.793 1519.33 Q680.871 1517.6 677.77 1517.6 Q675.571 1517.6 673.117 1518.36 Q670.686 1519.13 667.909 1520.68 L667.909 1515.95 Q670.733 1514.82 673.186 1514.24 Q675.64 1513.66 677.677 1513.66 Q683.047 1513.66 686.242 1516.35 Q689.436 1519.03 689.436 1523.52 Q689.436 1525.65 688.626 1527.57 Q687.839 1529.47 685.733 1532.07 Q685.154 1532.74 682.052 1535.95 Q678.95 1539.15 673.302 1544.91 Z\" fill=\"#000000\" fill-rule=\"evenodd\" fill-opacity=\"1\" /><path clip-path=\"url(#clip870)\" d=\"M709.436 1517.37 Q705.825 1517.37 703.996 1520.93 Q702.191 1524.47 702.191 1531.6 Q702.191 1538.71 703.996 1542.27 Q705.825 1545.82 709.436 1545.82 Q713.07 1545.82 714.876 1542.27 Q716.705 1538.71 716.705 1531.6 Q716.705 1524.47 714.876 1520.93 Q713.07 1517.37 709.436 1517.37 M709.436 1513.66 Q715.246 1513.66 718.302 1518.27 Q721.381 1522.85 721.381 1531.6 Q721.381 1540.33 718.302 1544.94 Q715.246 1549.52 709.436 1549.52 Q703.626 1549.52 700.547 1544.94 Q697.492 1540.33 697.492 1531.6 Q697.492 1522.85 700.547 1518.27 Q703.626 1513.66 709.436 1513.66 Z\" fill=\"#000000\" fill-rule=\"evenodd\" fill-opacity=\"1\" /><path clip-path=\"url(#clip870)\" d=\"M739.598 1517.37 Q735.987 1517.37 734.158 1520.93 Q732.353 1524.47 732.353 1531.6 Q732.353 1538.71 734.158 1542.27 Q735.987 1545.82 739.598 1545.82 Q743.232 1545.82 745.038 1542.27 Q746.867 1538.71 746.867 1531.6 Q746.867 1524.47 745.038 1520.93 Q743.232 1517.37 739.598 1517.37 M739.598 1513.66 Q745.408 1513.66 748.464 1518.27 Q751.542 1522.85 751.542 1531.6 Q751.542 1540.33 748.464 1544.94 Q745.408 1549.52 739.598 1549.52 Q733.788 1549.52 730.709 1544.94 Q727.654 1540.33 727.654 1531.6 Q727.654 1522.85 730.709 1518.27 Q733.788 1513.66 739.598 1513.66 Z\" fill=\"#000000\" fill-rule=\"evenodd\" fill-opacity=\"1\" /><path clip-path=\"url(#clip870)\" d=\"M759.899 1548.13 L759.899 1543.87 Q761.658 1544.7 763.464 1545.14 Q765.269 1545.58 767.005 1545.58 Q771.635 1545.58 774.065 1542.48 Q776.519 1539.36 776.866 1533.01 Q775.524 1535.01 773.464 1536.07 Q771.403 1537.13 768.903 1537.13 Q763.718 1537.13 760.686 1534.01 Q757.677 1530.86 757.677 1525.42 Q757.677 1520.1 760.825 1516.88 Q763.973 1513.66 769.204 1513.66 Q775.2 1513.66 778.348 1518.27 Q781.519 1522.85 781.519 1531.6 Q781.519 1539.77 777.63 1544.66 Q773.765 1549.52 767.214 1549.52 Q765.454 1549.52 763.649 1549.17 Q761.843 1548.82 759.899 1548.13 M769.204 1533.48 Q772.352 1533.48 774.181 1531.32 Q776.033 1529.17 776.033 1525.42 Q776.033 1521.7 774.181 1519.54 Q772.352 1517.37 769.204 1517.37 Q766.056 1517.37 764.204 1519.54 Q762.376 1521.7 762.376 1525.42 Q762.376 1529.17 764.204 1531.32 Q766.056 1533.48 769.204 1533.48 Z\" fill=\"#000000\" fill-rule=\"evenodd\" fill-opacity=\"1\" /><path clip-path=\"url(#clip870)\" d=\"M787.167 1533.96 L799.644 1533.96 L799.644 1537.76 L787.167 1537.76 L787.167 1533.96 Z\" fill=\"#000000\" fill-rule=\"evenodd\" fill-opacity=\"1\" /><path clip-path=\"url(#clip870)\" d=\"M817.028 1517.37 Q813.417 1517.37 811.588 1520.93 Q809.783 1524.47 809.783 1531.6 Q809.783 1538.71 811.588 1542.27 Q813.417 1545.82 817.028 1545.82 Q820.662 1545.82 822.468 1542.27 Q824.297 1538.71 824.297 1531.6 Q824.297 1524.47 822.468 1520.93 Q820.662 1517.37 817.028 1517.37 M817.028 1513.66 Q822.838 1513.66 825.894 1518.27 Q828.973 1522.85 828.973 1531.6 Q828.973 1540.33 825.894 1544.94 Q822.838 1549.52 817.028 1549.52 Q811.218 1549.52 808.139 1544.94 Q805.084 1540.33 805.084 1531.6 Q805.084 1522.85 808.139 1518.27 Q811.218 1513.66 817.028 1513.66 Z\" fill=\"#000000\" fill-rule=\"evenodd\" fill-opacity=\"1\" /><path clip-path=\"url(#clip870)\" d=\"M838 1544.91 L845.639 1544.91 L845.639 1518.55 L837.329 1520.21 L837.329 1515.95 L845.593 1514.29 L850.269 1514.29 L850.269 1544.91 L857.908 1544.91 L857.908 1548.85 L838 1548.85 L838 1544.91 Z\" fill=\"#000000\" fill-rule=\"evenodd\" fill-opacity=\"1\" /><path clip-path=\"url(#clip870)\" d=\"M864.597 1533.96 L877.074 1533.96 L877.074 1537.76 L864.597 1537.76 L864.597 1533.96 Z\" fill=\"#000000\" fill-rule=\"evenodd\" fill-opacity=\"1\" /><path clip-path=\"url(#clip870)\" d=\"M894.458 1517.37 Q890.847 1517.37 889.019 1520.93 Q887.213 1524.47 887.213 1531.6 Q887.213 1538.71 889.019 1542.27 Q890.847 1545.82 894.458 1545.82 Q898.093 1545.82 899.898 1542.27 Q901.727 1538.71 901.727 1531.6 Q901.727 1524.47 899.898 1520.93 Q898.093 1517.37 894.458 1517.37 M894.458 1513.66 Q900.268 1513.66 903.324 1518.27 Q906.403 1522.85 906.403 1531.6 Q906.403 1540.33 903.324 1544.94 Q900.268 1549.52 894.458 1549.52 Q888.648 1549.52 885.569 1544.94 Q882.514 1540.33 882.514 1531.6 Q882.514 1522.85 885.569 1518.27 Q888.648 1513.66 894.458 1513.66 Z\" fill=\"#000000\" fill-rule=\"evenodd\" fill-opacity=\"1\" /><path clip-path=\"url(#clip870)\" d=\"M915.43 1544.91 L923.069 1544.91 L923.069 1518.55 L914.759 1520.21 L914.759 1515.95 L923.023 1514.29 L927.699 1514.29 L927.699 1544.91 L935.338 1544.91 L935.338 1548.85 L915.43 1548.85 L915.43 1544.91 Z\" fill=\"#000000\" fill-rule=\"evenodd\" fill-opacity=\"1\" /><path clip-path=\"url(#clip870)\" d=\"M1257.73 1544.91 L1274.05 1544.91 L1274.05 1548.85 L1252.1 1548.85 L1252.1 1544.91 Q1254.77 1542.16 1259.35 1537.53 Q1263.96 1532.88 1265.14 1531.53 Q1267.38 1529.01 1268.26 1527.27 Q1269.16 1525.51 1269.16 1523.82 Q1269.16 1521.07 1267.22 1519.33 Q1265.3 1517.6 1262.2 1517.6 Q1260 1517.6 1257.54 1518.36 Q1255.11 1519.13 1252.34 1520.68 L1252.34 1515.95 Q1255.16 1514.82 1257.61 1514.24 Q1260.07 1513.66 1262.1 1513.66 Q1267.47 1513.66 1270.67 1516.35 Q1273.86 1519.03 1273.86 1523.52 Q1273.86 1525.65 1273.05 1527.57 Q1272.27 1529.47 1270.16 1532.07 Q1269.58 1532.74 1266.48 1535.95 Q1263.38 1539.15 1257.73 1544.91 Z\" fill=\"#000000\" fill-rule=\"evenodd\" fill-opacity=\"1\" /><path clip-path=\"url(#clip870)\" d=\"M1293.86 1517.37 Q1290.25 1517.37 1288.42 1520.93 Q1286.62 1524.47 1286.62 1531.6 Q1286.62 1538.71 1288.42 1542.27 Q1290.25 1545.82 1293.86 1545.82 Q1297.5 1545.82 1299.3 1542.27 Q1301.13 1538.71 1301.13 1531.6 Q1301.13 1524.47 1299.3 1520.93 Q1297.5 1517.37 1293.86 1517.37 M1293.86 1513.66 Q1299.67 1513.66 1302.73 1518.27 Q1305.81 1522.85 1305.81 1531.6 Q1305.81 1540.33 1302.73 1544.94 Q1299.67 1549.52 1293.86 1549.52 Q1288.05 1549.52 1284.97 1544.94 Q1281.92 1540.33 1281.92 1531.6 Q1281.92 1522.85 1284.97 1518.27 Q1288.05 1513.66 1293.86 1513.66 Z\" fill=\"#000000\" fill-rule=\"evenodd\" fill-opacity=\"1\" /><path clip-path=\"url(#clip870)\" d=\"M1314.84 1544.91 L1322.47 1544.91 L1322.47 1518.55 L1314.16 1520.21 L1314.16 1515.95 L1322.43 1514.29 L1327.1 1514.29 L1327.1 1544.91 L1334.74 1544.91 L1334.74 1548.85 L1314.84 1548.85 L1314.84 1544.91 Z\" fill=\"#000000\" fill-rule=\"evenodd\" fill-opacity=\"1\" /><path clip-path=\"url(#clip870)\" d=\"M1357.03 1518.36 L1345.23 1536.81 L1357.03 1536.81 L1357.03 1518.36 M1355.81 1514.29 L1361.69 1514.29 L1361.69 1536.81 L1366.62 1536.81 L1366.62 1540.7 L1361.69 1540.7 L1361.69 1548.85 L1357.03 1548.85 L1357.03 1540.7 L1341.43 1540.7 L1341.43 1536.19 L1355.81 1514.29 Z\" fill=\"#000000\" fill-rule=\"evenodd\" fill-opacity=\"1\" /><path clip-path=\"url(#clip870)\" d=\"M1371.59 1533.96 L1384.07 1533.96 L1384.07 1537.76 L1371.59 1537.76 L1371.59 1533.96 Z\" fill=\"#000000\" fill-rule=\"evenodd\" fill-opacity=\"1\" /><path clip-path=\"url(#clip870)\" d=\"M1401.46 1517.37 Q1397.84 1517.37 1396.02 1520.93 Q1394.21 1524.47 1394.21 1531.6 Q1394.21 1538.71 1396.02 1542.27 Q1397.84 1545.82 1401.46 1545.82 Q1405.09 1545.82 1406.9 1542.27 Q1408.72 1538.71 1408.72 1531.6 Q1408.72 1524.47 1406.9 1520.93 Q1405.09 1517.37 1401.46 1517.37 M1401.46 1513.66 Q1407.27 1513.66 1410.32 1518.27 Q1413.4 1522.85 1413.4 1531.6 Q1413.4 1540.33 1410.32 1544.94 Q1407.27 1549.52 1401.46 1549.52 Q1395.65 1549.52 1392.57 1544.94 Q1389.51 1540.33 1389.51 1531.6 Q1389.51 1522.85 1392.57 1518.27 Q1395.65 1513.66 1401.46 1513.66 Z\" fill=\"#000000\" fill-rule=\"evenodd\" fill-opacity=\"1\" /><path clip-path=\"url(#clip870)\" d=\"M1422.43 1544.91 L1430.07 1544.91 L1430.07 1518.55 L1421.76 1520.21 L1421.76 1515.95 L1430.02 1514.29 L1434.7 1514.29 L1434.7 1544.91 L1442.34 1544.91 L1442.34 1548.85 L1422.43 1548.85 L1422.43 1544.91 Z\" fill=\"#000000\" fill-rule=\"evenodd\" fill-opacity=\"1\" /><path clip-path=\"url(#clip870)\" d=\"M1449.02 1533.96 L1461.5 1533.96 L1461.5 1537.76 L1449.02 1537.76 L1449.02 1533.96 Z\" fill=\"#000000\" fill-rule=\"evenodd\" fill-opacity=\"1\" /><path clip-path=\"url(#clip870)\" d=\"M1478.89 1517.37 Q1475.27 1517.37 1473.45 1520.93 Q1471.64 1524.47 1471.64 1531.6 Q1471.64 1538.71 1473.45 1542.27 Q1475.27 1545.82 1478.89 1545.82 Q1482.52 1545.82 1484.33 1542.27 Q1486.15 1538.71 1486.15 1531.6 Q1486.15 1524.47 1484.33 1520.93 Q1482.52 1517.37 1478.89 1517.37 M1478.89 1513.66 Q1484.7 1513.66 1487.75 1518.27 Q1490.83 1522.85 1490.83 1531.6 Q1490.83 1540.33 1487.75 1544.94 Q1484.7 1549.52 1478.89 1549.52 Q1473.08 1549.52 1470 1544.94 Q1466.94 1540.33 1466.94 1531.6 Q1466.94 1522.85 1470 1518.27 Q1473.08 1513.66 1478.89 1513.66 Z\" fill=\"#000000\" fill-rule=\"evenodd\" fill-opacity=\"1\" /><path clip-path=\"url(#clip870)\" d=\"M1499.86 1544.91 L1507.5 1544.91 L1507.5 1518.55 L1499.19 1520.21 L1499.19 1515.95 L1507.45 1514.29 L1512.13 1514.29 L1512.13 1544.91 L1519.77 1544.91 L1519.77 1548.85 L1499.86 1548.85 L1499.86 1544.91 Z\" fill=\"#000000\" fill-rule=\"evenodd\" fill-opacity=\"1\" /><path clip-path=\"url(#clip870)\" d=\"M1842.16 1544.91 L1858.48 1544.91 L1858.48 1548.85 L1836.53 1548.85 L1836.53 1544.91 Q1839.19 1542.16 1843.78 1537.53 Q1848.38 1532.88 1849.56 1531.53 Q1851.81 1529.01 1852.69 1527.27 Q1853.59 1525.51 1853.59 1523.82 Q1853.59 1521.07 1851.65 1519.33 Q1849.73 1517.6 1846.62 1517.6 Q1844.43 1517.6 1841.97 1518.36 Q1839.54 1519.13 1836.76 1520.68 L1836.76 1515.95 Q1839.59 1514.82 1842.04 1514.24 Q1844.49 1513.66 1846.53 1513.66 Q1851.9 1513.66 1855.1 1516.35 Q1858.29 1519.03 1858.29 1523.52 Q1858.29 1525.65 1857.48 1527.57 Q1856.69 1529.47 1854.59 1532.07 Q1854.01 1532.74 1850.91 1535.95 Q1847.81 1539.15 1842.16 1544.91 Z\" fill=\"#000000\" fill-rule=\"evenodd\" fill-opacity=\"1\" /><path clip-path=\"url(#clip870)\" d=\"M1878.29 1517.37 Q1874.68 1517.37 1872.85 1520.93 Q1871.05 1524.47 1871.05 1531.6 Q1871.05 1538.71 1872.85 1542.27 Q1874.68 1545.82 1878.29 1545.82 Q1881.93 1545.82 1883.73 1542.27 Q1885.56 1538.71 1885.56 1531.6 Q1885.56 1524.47 1883.73 1520.93 Q1881.93 1517.37 1878.29 1517.37 M1878.29 1513.66 Q1884.1 1513.66 1887.16 1518.27 Q1890.24 1522.85 1890.24 1531.6 Q1890.24 1540.33 1887.16 1544.94 Q1884.1 1549.52 1878.29 1549.52 Q1872.48 1549.52 1869.4 1544.94 Q1866.35 1540.33 1866.35 1531.6 Q1866.35 1522.85 1869.4 1518.27 Q1872.48 1513.66 1878.29 1513.66 Z\" fill=\"#000000\" fill-rule=\"evenodd\" fill-opacity=\"1\" /><path clip-path=\"url(#clip870)\" d=\"M1899.26 1544.91 L1906.9 1544.91 L1906.9 1518.55 L1898.59 1520.21 L1898.59 1515.95 L1906.86 1514.29 L1911.53 1514.29 L1911.53 1544.91 L1919.17 1544.91 L1919.17 1548.85 L1899.26 1548.85 L1899.26 1544.91 Z\" fill=\"#000000\" fill-rule=\"evenodd\" fill-opacity=\"1\" /><path clip-path=\"url(#clip870)\" d=\"M1928.75 1548.13 L1928.75 1543.87 Q1930.51 1544.7 1932.32 1545.14 Q1934.12 1545.58 1935.86 1545.58 Q1940.49 1545.58 1942.92 1542.48 Q1945.37 1539.36 1945.72 1533.01 Q1944.38 1535.01 1942.32 1536.07 Q1940.26 1537.13 1937.76 1537.13 Q1932.57 1537.13 1929.54 1534.01 Q1926.53 1530.86 1926.53 1525.42 Q1926.53 1520.1 1929.68 1516.88 Q1932.83 1513.66 1938.06 1513.66 Q1944.05 1513.66 1947.2 1518.27 Q1950.37 1522.85 1950.37 1531.6 Q1950.37 1539.77 1946.49 1544.66 Q1942.62 1549.52 1936.07 1549.52 Q1934.31 1549.52 1932.5 1549.17 Q1930.7 1548.82 1928.75 1548.13 M1938.06 1533.48 Q1941.21 1533.48 1943.04 1531.32 Q1944.89 1529.17 1944.89 1525.42 Q1944.89 1521.7 1943.04 1519.54 Q1941.21 1517.37 1938.06 1517.37 Q1934.91 1517.37 1933.06 1519.54 Q1931.23 1521.7 1931.23 1525.42 Q1931.23 1529.17 1933.06 1531.32 Q1934.91 1533.48 1938.06 1533.48 Z\" fill=\"#000000\" fill-rule=\"evenodd\" fill-opacity=\"1\" /><path clip-path=\"url(#clip870)\" d=\"M1956.02 1533.96 L1968.5 1533.96 L1968.5 1537.76 L1956.02 1537.76 L1956.02 1533.96 Z\" fill=\"#000000\" fill-rule=\"evenodd\" fill-opacity=\"1\" /><path clip-path=\"url(#clip870)\" d=\"M1985.88 1517.37 Q1982.27 1517.37 1980.44 1520.93 Q1978.64 1524.47 1978.64 1531.6 Q1978.64 1538.71 1980.44 1542.27 Q1982.27 1545.82 1985.88 1545.82 Q1989.52 1545.82 1991.32 1542.27 Q1993.15 1538.71 1993.15 1531.6 Q1993.15 1524.47 1991.32 1520.93 Q1989.52 1517.37 1985.88 1517.37 M1985.88 1513.66 Q1991.69 1513.66 1994.75 1518.27 Q1997.83 1522.85 1997.83 1531.6 Q1997.83 1540.33 1994.75 1544.94 Q1991.69 1549.52 1985.88 1549.52 Q1980.07 1549.52 1976.99 1544.94 Q1973.94 1540.33 1973.94 1531.6 Q1973.94 1522.85 1976.99 1518.27 Q1980.07 1513.66 1985.88 1513.66 Z\" fill=\"#000000\" fill-rule=\"evenodd\" fill-opacity=\"1\" /><path clip-path=\"url(#clip870)\" d=\"M2006.86 1544.91 L2014.49 1544.91 L2014.49 1518.55 L2006.18 1520.21 L2006.18 1515.95 L2014.45 1514.29 L2019.12 1514.29 L2019.12 1544.91 L2026.76 1544.91 L2026.76 1548.85 L2006.86 1548.85 L2006.86 1544.91 Z\" fill=\"#000000\" fill-rule=\"evenodd\" fill-opacity=\"1\" /><path clip-path=\"url(#clip870)\" d=\"M2033.45 1533.96 L2045.93 1533.96 L2045.93 1537.76 L2033.45 1537.76 L2033.45 1533.96 Z\" fill=\"#000000\" fill-rule=\"evenodd\" fill-opacity=\"1\" /><path clip-path=\"url(#clip870)\" d=\"M2063.31 1517.37 Q2059.7 1517.37 2057.87 1520.93 Q2056.07 1524.47 2056.07 1531.6 Q2056.07 1538.71 2057.87 1542.27 Q2059.7 1545.82 2063.31 1545.82 Q2066.95 1545.82 2068.75 1542.27 Q2070.58 1538.71 2070.58 1531.6 Q2070.58 1524.47 2068.75 1520.93 Q2066.95 1517.37 2063.31 1517.37 M2063.31 1513.66 Q2069.12 1513.66 2072.18 1518.27 Q2075.26 1522.85 2075.26 1531.6 Q2075.26 1540.33 2072.18 1544.94 Q2069.12 1549.52 2063.31 1549.52 Q2057.5 1549.52 2054.42 1544.94 Q2051.37 1540.33 2051.37 1531.6 Q2051.37 1522.85 2054.42 1518.27 Q2057.5 1513.66 2063.31 1513.66 Z\" fill=\"#000000\" fill-rule=\"evenodd\" fill-opacity=\"1\" /><path clip-path=\"url(#clip870)\" d=\"M2084.29 1544.91 L2091.92 1544.91 L2091.92 1518.55 L2083.61 1520.21 L2083.61 1515.95 L2091.88 1514.29 L2096.55 1514.29 L2096.55 1544.91 L2104.19 1544.91 L2104.19 1548.85 L2084.29 1548.85 L2084.29 1544.91 Z\" fill=\"#000000\" fill-rule=\"evenodd\" fill-opacity=\"1\" /><polyline clip-path=\"url(#clip872)\" style=\"stroke:#000000; stroke-linecap:butt; stroke-linejoin:round; stroke-width:2; stroke-opacity:0.1; fill:none\" points=\"\n  184.191,1233.28 2352.76,1233.28 \n  \"/>\n<polyline clip-path=\"url(#clip872)\" style=\"stroke:#000000; stroke-linecap:butt; stroke-linejoin:round; stroke-width:2; stroke-opacity:0.1; fill:none\" points=\"\n  184.191,974.933 2352.76,974.933 \n  \"/>\n<polyline clip-path=\"url(#clip872)\" style=\"stroke:#000000; stroke-linecap:butt; stroke-linejoin:round; stroke-width:2; stroke-opacity:0.1; fill:none\" points=\"\n  184.191,716.583 2352.76,716.583 \n  \"/>\n<polyline clip-path=\"url(#clip872)\" style=\"stroke:#000000; stroke-linecap:butt; stroke-linejoin:round; stroke-width:2; stroke-opacity:0.1; fill:none\" points=\"\n  184.191,458.232 2352.76,458.232 \n  \"/>\n<polyline clip-path=\"url(#clip872)\" style=\"stroke:#000000; stroke-linecap:butt; stroke-linejoin:round; stroke-width:2; stroke-opacity:0.1; fill:none\" points=\"\n  184.191,199.882 2352.76,199.882 \n  \"/>\n<polyline clip-path=\"url(#clip870)\" style=\"stroke:#000000; stroke-linecap:butt; stroke-linejoin:round; stroke-width:4; stroke-opacity:1; fill:none\" points=\"\n  184.191,1486.45 184.191,47.2441 \n  \"/>\n<polyline clip-path=\"url(#clip870)\" style=\"stroke:#000000; stroke-linecap:butt; stroke-linejoin:round; stroke-width:4; stroke-opacity:1; fill:none\" points=\"\n  184.191,1233.28 203.088,1233.28 \n  \"/>\n<polyline clip-path=\"url(#clip870)\" style=\"stroke:#000000; stroke-linecap:butt; stroke-linejoin:round; stroke-width:4; stroke-opacity:1; fill:none\" points=\"\n  184.191,974.933 203.088,974.933 \n  \"/>\n<polyline clip-path=\"url(#clip870)\" style=\"stroke:#000000; stroke-linecap:butt; stroke-linejoin:round; stroke-width:4; stroke-opacity:1; fill:none\" points=\"\n  184.191,716.583 203.088,716.583 \n  \"/>\n<polyline clip-path=\"url(#clip870)\" style=\"stroke:#000000; stroke-linecap:butt; stroke-linejoin:round; stroke-width:4; stroke-opacity:1; fill:none\" points=\"\n  184.191,458.232 203.088,458.232 \n  \"/>\n<polyline clip-path=\"url(#clip870)\" style=\"stroke:#000000; stroke-linecap:butt; stroke-linejoin:round; stroke-width:4; stroke-opacity:1; fill:none\" points=\"\n  184.191,199.882 203.088,199.882 \n  \"/>\n<path clip-path=\"url(#clip870)\" d=\"M91.0151 1219.08 Q87.404 1219.08 85.5753 1222.65 Q83.7697 1226.19 83.7697 1233.32 Q83.7697 1240.43 85.5753 1243.99 Q87.404 1247.53 91.0151 1247.53 Q94.6493 1247.53 96.4548 1243.99 Q98.2835 1240.43 98.2835 1233.32 Q98.2835 1226.19 96.4548 1222.65 Q94.6493 1219.08 91.0151 1219.08 M91.0151 1215.38 Q96.8252 1215.38 99.8808 1219.99 Q102.959 1224.57 102.959 1233.32 Q102.959 1242.05 99.8808 1246.65 Q96.8252 1251.24 91.0151 1251.24 Q85.2049 1251.24 82.1262 1246.65 Q79.0707 1242.05 79.0707 1233.32 Q79.0707 1224.57 82.1262 1219.99 Q85.2049 1215.38 91.0151 1215.38 Z\" fill=\"#000000\" fill-rule=\"evenodd\" fill-opacity=\"1\" /><path clip-path=\"url(#clip870)\" d=\"M111.177 1244.68 L116.061 1244.68 L116.061 1250.56 L111.177 1250.56 L111.177 1244.68 Z\" fill=\"#000000\" fill-rule=\"evenodd\" fill-opacity=\"1\" /><path clip-path=\"url(#clip870)\" d=\"M136.246 1219.08 Q132.635 1219.08 130.807 1222.65 Q129.001 1226.19 129.001 1233.32 Q129.001 1240.43 130.807 1243.99 Q132.635 1247.53 136.246 1247.53 Q139.881 1247.53 141.686 1243.99 Q143.515 1240.43 143.515 1233.32 Q143.515 1226.19 141.686 1222.65 Q139.881 1219.08 136.246 1219.08 M136.246 1215.38 Q142.056 1215.38 145.112 1219.99 Q148.191 1224.57 148.191 1233.32 Q148.191 1242.05 145.112 1246.65 Q142.056 1251.24 136.246 1251.24 Q130.436 1251.24 127.357 1246.65 Q124.302 1242.05 124.302 1233.32 Q124.302 1224.57 127.357 1219.99 Q130.436 1215.38 136.246 1215.38 Z\" fill=\"#000000\" fill-rule=\"evenodd\" fill-opacity=\"1\" /><path clip-path=\"url(#clip870)\" d=\"M86.0382 988.278 L102.358 988.278 L102.358 992.213 L80.4133 992.213 L80.4133 988.278 Q83.0753 985.524 87.6586 980.894 Q92.2651 976.241 93.4456 974.899 Q95.691 972.376 96.5706 970.64 Q97.4734 968.88 97.4734 967.19 Q97.4734 964.436 95.5289 962.7 Q93.6076 960.964 90.5058 960.964 Q88.3067 960.964 85.8531 961.728 Q83.4225 962.491 80.6447 964.042 L80.6447 959.32 Q83.4688 958.186 85.9225 957.607 Q88.3762 957.028 90.4132 957.028 Q95.7836 957.028 98.978 959.714 Q102.172 962.399 102.172 966.89 Q102.172 969.019 101.362 970.94 Q100.575 972.839 98.4687 975.431 Q97.89 976.102 94.7882 979.32 Q91.6864 982.514 86.0382 988.278 Z\" fill=\"#000000\" fill-rule=\"evenodd\" fill-opacity=\"1\" /><path clip-path=\"url(#clip870)\" d=\"M112.172 986.334 L117.057 986.334 L117.057 992.213 L112.172 992.213 L112.172 986.334 Z\" fill=\"#000000\" fill-rule=\"evenodd\" fill-opacity=\"1\" /><path clip-path=\"url(#clip870)\" d=\"M127.288 957.653 L145.644 957.653 L145.644 961.589 L131.57 961.589 L131.57 970.061 Q132.589 969.714 133.607 969.552 Q134.626 969.366 135.644 969.366 Q141.431 969.366 144.811 972.538 Q148.191 975.709 148.191 981.126 Q148.191 986.704 144.718 989.806 Q141.246 992.885 134.927 992.885 Q132.751 992.885 130.482 992.514 Q128.237 992.144 125.83 991.403 L125.83 986.704 Q127.913 987.838 130.135 988.394 Q132.357 988.95 134.834 988.95 Q138.839 988.95 141.177 986.843 Q143.515 984.737 143.515 981.126 Q143.515 977.514 141.177 975.408 Q138.839 973.302 134.834 973.302 Q132.959 973.302 131.084 973.718 Q129.232 974.135 127.288 975.014 L127.288 957.653 Z\" fill=\"#000000\" fill-rule=\"evenodd\" fill-opacity=\"1\" /><path clip-path=\"url(#clip870)\" d=\"M81.0614 699.303 L99.4178 699.303 L99.4178 703.238 L85.3438 703.238 L85.3438 711.71 Q86.3623 711.363 87.3808 711.201 Q88.3993 711.016 89.4178 711.016 Q95.2049 711.016 98.5845 714.187 Q101.964 717.358 101.964 722.775 Q101.964 728.354 98.4919 731.455 Q95.0197 734.534 88.7003 734.534 Q86.5243 734.534 84.2558 734.164 Q82.0105 733.793 79.6031 733.053 L79.6031 728.354 Q81.6864 729.488 83.9086 730.043 Q86.1308 730.599 88.6077 730.599 Q92.6123 730.599 94.9502 728.493 Q97.2882 726.386 97.2882 722.775 Q97.2882 719.164 94.9502 717.057 Q92.6123 714.951 88.6077 714.951 Q86.7327 714.951 84.8577 715.368 Q83.0058 715.784 81.0614 716.664 L81.0614 699.303 Z\" fill=\"#000000\" fill-rule=\"evenodd\" fill-opacity=\"1\" /><path clip-path=\"url(#clip870)\" d=\"M111.177 727.983 L116.061 727.983 L116.061 733.863 L111.177 733.863 L111.177 727.983 Z\" fill=\"#000000\" fill-rule=\"evenodd\" fill-opacity=\"1\" /><path clip-path=\"url(#clip870)\" d=\"M136.246 702.382 Q132.635 702.382 130.807 705.946 Q129.001 709.488 129.001 716.618 Q129.001 723.724 130.807 727.289 Q132.635 730.83 136.246 730.83 Q139.881 730.83 141.686 727.289 Q143.515 723.724 143.515 716.618 Q143.515 709.488 141.686 705.946 Q139.881 702.382 136.246 702.382 M136.246 698.678 Q142.056 698.678 145.112 703.284 Q148.191 707.868 148.191 716.618 Q148.191 725.344 145.112 729.951 Q142.056 734.534 136.246 734.534 Q130.436 734.534 127.357 729.951 Q124.302 725.344 124.302 716.618 Q124.302 707.868 127.357 703.284 Q130.436 698.678 136.246 698.678 Z\" fill=\"#000000\" fill-rule=\"evenodd\" fill-opacity=\"1\" /><path clip-path=\"url(#clip870)\" d=\"M80.8299 440.952 L103.052 440.952 L103.052 442.943 L90.5058 475.512 L85.6216 475.512 L97.4271 444.887 L80.8299 444.887 L80.8299 440.952 Z\" fill=\"#000000\" fill-rule=\"evenodd\" fill-opacity=\"1\" /><path clip-path=\"url(#clip870)\" d=\"M112.172 469.633 L117.057 469.633 L117.057 475.512 L112.172 475.512 L112.172 469.633 Z\" fill=\"#000000\" fill-rule=\"evenodd\" fill-opacity=\"1\" /><path clip-path=\"url(#clip870)\" d=\"M127.288 440.952 L145.644 440.952 L145.644 444.887 L131.57 444.887 L131.57 453.36 Q132.589 453.012 133.607 452.85 Q134.626 452.665 135.644 452.665 Q141.431 452.665 144.811 455.836 Q148.191 459.008 148.191 464.424 Q148.191 470.003 144.718 473.105 Q141.246 476.184 134.927 476.184 Q132.751 476.184 130.482 475.813 Q128.237 475.443 125.83 474.702 L125.83 470.003 Q127.913 471.137 130.135 471.693 Q132.357 472.248 134.834 472.248 Q138.839 472.248 141.177 470.142 Q143.515 468.035 143.515 464.424 Q143.515 460.813 141.177 458.707 Q138.839 456.6 134.834 456.6 Q132.959 456.6 131.084 457.017 Q129.232 457.434 127.288 458.313 L127.288 440.952 Z\" fill=\"#000000\" fill-rule=\"evenodd\" fill-opacity=\"1\" /><path clip-path=\"url(#clip870)\" d=\"M51.6634 213.226 L59.3023 213.226 L59.3023 186.861 L50.9921 188.527 L50.9921 184.268 L59.256 182.602 L63.9319 182.602 L63.9319 213.226 L71.5707 213.226 L71.5707 217.162 L51.6634 217.162 L51.6634 213.226 Z\" fill=\"#000000\" fill-rule=\"evenodd\" fill-opacity=\"1\" /><path clip-path=\"url(#clip870)\" d=\"M91.0151 185.68 Q87.404 185.68 85.5753 189.245 Q83.7697 192.787 83.7697 199.916 Q83.7697 207.023 85.5753 210.588 Q87.404 214.129 91.0151 214.129 Q94.6493 214.129 96.4548 210.588 Q98.2835 207.023 98.2835 199.916 Q98.2835 192.787 96.4548 189.245 Q94.6493 185.68 91.0151 185.68 M91.0151 181.977 Q96.8252 181.977 99.8808 186.583 Q102.959 191.166 102.959 199.916 Q102.959 208.643 99.8808 213.25 Q96.8252 217.833 91.0151 217.833 Q85.2049 217.833 82.1262 213.25 Q79.0707 208.643 79.0707 199.916 Q79.0707 191.166 82.1262 186.583 Q85.2049 181.977 91.0151 181.977 Z\" fill=\"#000000\" fill-rule=\"evenodd\" fill-opacity=\"1\" /><path clip-path=\"url(#clip870)\" d=\"M111.177 211.282 L116.061 211.282 L116.061 217.162 L111.177 217.162 L111.177 211.282 Z\" fill=\"#000000\" fill-rule=\"evenodd\" fill-opacity=\"1\" /><path clip-path=\"url(#clip870)\" d=\"M136.246 185.68 Q132.635 185.68 130.807 189.245 Q129.001 192.787 129.001 199.916 Q129.001 207.023 130.807 210.588 Q132.635 214.129 136.246 214.129 Q139.881 214.129 141.686 210.588 Q143.515 207.023 143.515 199.916 Q143.515 192.787 141.686 189.245 Q139.881 185.68 136.246 185.68 M136.246 181.977 Q142.056 181.977 145.112 186.583 Q148.191 191.166 148.191 199.916 Q148.191 208.643 145.112 213.25 Q142.056 217.833 136.246 217.833 Q130.436 217.833 127.357 213.25 Q124.302 208.643 124.302 199.916 Q124.302 191.166 127.357 186.583 Q130.436 181.977 136.246 181.977 Z\" fill=\"#000000\" fill-rule=\"evenodd\" fill-opacity=\"1\" /><polyline clip-path=\"url(#clip872)\" style=\"stroke:#009af9; stroke-linecap:butt; stroke-linejoin:round; stroke-width:6; stroke-opacity:1; fill:none\" points=\"\n  245.565,1445.72 274.691,1442.56 304.136,1337.5 333.581,1065.33 362.387,1029.18 391.512,1030.71 420.957,983.823 450.403,1015.87 479.208,1022.68 508.333,977.656 \n  537.779,849.747 567.224,767.057 596.03,707.471 625.155,619.578 654.6,595.17 684.046,497.926 713.171,307.114 742.297,201.162 771.742,87.9763 801.187,227.38 \n  829.993,368.819 859.118,435.821 888.563,577.409 918.009,597.67 946.814,649.323 975.939,763.556 1005.38,872.27 1034.83,879.003 1063.64,838.479 1092.76,754.676 \n  1122.21,676.129 1151.65,606.102 1180.78,605.827 1209.9,645.169 1239.35,704.631 1268.79,651.086 1297.6,641.744 1326.72,645.923 1356.17,590.414 1385.61,673.524 \n  1414.42,618.668 1443.55,564.686 1472.99,586.893 1502.44,645.102 1531.24,805.2 1560.37,762.307 1589.81,745.062 1619.26,730.882 1648.38,560.996 1677.51,587.642 \n  1706.95,611.689 1736.4,551.474 1765.2,580.419 1794.33,685.669 1823.78,737.698 1853.22,745.797 1882.03,812.595 1911.15,770.266 1940.6,717.082 1970.04,724.837 \n  1998.85,799.711 2027.97,774.065 2057.42,805.079 2086.86,846.23 2115.99,776.497 2145.11,984.234 2174.56,913.487 2204.01,905.701 2232.81,915.683 2261.94,734.897 \n  2291.38,734.013 \n  \"/>\n<polyline clip-path=\"url(#clip872)\" style=\"stroke:#000000; stroke-linecap:butt; stroke-linejoin:round; stroke-width:6; stroke-opacity:0.5; fill:none\" stroke-dasharray=\"24, 15\" points=\"\n  -1984.37,1233.28 4521.32,1233.28 \n  \"/>\n</svg>\n"
     },
     "execution_count": 130,
     "metadata": {},
     "output_type": "execute_result"
    }
   ],
   "source": [
    "inflation_rate = sa_data.inflation\n",
    "plot(date_sa, inflation_rate, legend = false, lw = 1.5)\n",
    "plot!([0], legend = false, lw = 1.5, seriestype = :hline, color = :black, ls = :dash, alpha = 0.5)"
   ]
  },
  {
   "cell_type": "markdown",
   "metadata": {},
   "source": [
    "# Descriptive statistics"
   ]
  },
  {
   "cell_type": "markdown",
   "metadata": {},
   "source": [
    "Some of the most widely used statistics are the mean (average) and standard deviation. They can be easily computed with the computer as follows,  "
   ]
  },
  {
   "cell_type": "code",
   "execution_count": 24,
   "metadata": {},
   "outputs": [
    {
     "data": {
      "text/plain": [
       "4.830130044713535"
      ]
     },
     "execution_count": 24,
     "metadata": {},
     "output_type": "execute_result"
    }
   ],
   "source": [
    "inflation_1 = sa_data[!, :inflation] # select the inflation column\n",
    "mean(inflation_1) # mean value of inflation"
   ]
  },
  {
   "cell_type": "code",
   "execution_count": 25,
   "metadata": {},
   "outputs": [
    {
     "data": {
      "text/plain": [
       "2.3122543025163282"
      ]
     },
     "execution_count": 25,
     "metadata": {},
     "output_type": "execute_result"
    }
   ],
   "source": [
    "std(inflation_1) # standard deviation of inflation"
   ]
  },
  {
   "cell_type": "markdown",
   "metadata": {},
   "source": [
    "Let us plot a histogram for the data and also indicate where the mean is in this plot. "
   ]
  },
  {
   "cell_type": "code",
   "execution_count": 60,
   "metadata": {},
   "outputs": [
    {
     "data": {
      "image/svg+xml": "<?xml version=\"1.0\" encoding=\"utf-8\"?>\n<svg xmlns=\"http://www.w3.org/2000/svg\" xmlns:xlink=\"http://www.w3.org/1999/xlink\" width=\"600\" height=\"400\" viewBox=\"0 0 2400 1600\">\n<defs>\n  <clipPath id=\"clip070\">\n    <rect x=\"0\" y=\"0\" width=\"2400\" height=\"1600\"/>\n  </clipPath>\n</defs>\n<path clip-path=\"url(#clip070)\" d=\"\nM0 1600 L2400 1600 L2400 0 L0 0  Z\n  \" fill=\"#ffffff\" fill-rule=\"evenodd\" fill-opacity=\"1\"/>\n<defs>\n  <clipPath id=\"clip071\">\n    <rect x=\"480\" y=\"0\" width=\"1681\" height=\"1600\"/>\n  </clipPath>\n</defs>\n<path clip-path=\"url(#clip070)\" d=\"\nM138.959 1486.45 L2352.76 1486.45 L2352.76 47.2441 L138.959 47.2441  Z\n  \" fill=\"#ffffff\" fill-rule=\"evenodd\" fill-opacity=\"1\"/>\n<defs>\n  <clipPath id=\"clip072\">\n    <rect x=\"138\" y=\"47\" width=\"2215\" height=\"1440\"/>\n  </clipPath>\n</defs>\n<polyline clip-path=\"url(#clip072)\" style=\"stroke:#000000; stroke-linecap:butt; stroke-linejoin:round; stroke-width:2; stroke-opacity:0.1; fill:none\" points=\"\n  392.074,1486.45 392.074,47.2441 \n  \"/>\n<polyline clip-path=\"url(#clip072)\" style=\"stroke:#000000; stroke-linecap:butt; stroke-linejoin:round; stroke-width:2; stroke-opacity:0.1; fill:none\" points=\"\n  654.776,1486.45 654.776,47.2441 \n  \"/>\n<polyline clip-path=\"url(#clip072)\" style=\"stroke:#000000; stroke-linecap:butt; stroke-linejoin:round; stroke-width:2; stroke-opacity:0.1; fill:none\" points=\"\n  917.479,1486.45 917.479,47.2441 \n  \"/>\n<polyline clip-path=\"url(#clip072)\" style=\"stroke:#000000; stroke-linecap:butt; stroke-linejoin:round; stroke-width:2; stroke-opacity:0.1; fill:none\" points=\"\n  1180.18,1486.45 1180.18,47.2441 \n  \"/>\n<polyline clip-path=\"url(#clip072)\" style=\"stroke:#000000; stroke-linecap:butt; stroke-linejoin:round; stroke-width:2; stroke-opacity:0.1; fill:none\" points=\"\n  1442.88,1486.45 1442.88,47.2441 \n  \"/>\n<polyline clip-path=\"url(#clip072)\" style=\"stroke:#000000; stroke-linecap:butt; stroke-linejoin:round; stroke-width:2; stroke-opacity:0.1; fill:none\" points=\"\n  1705.59,1486.45 1705.59,47.2441 \n  \"/>\n<polyline clip-path=\"url(#clip072)\" style=\"stroke:#000000; stroke-linecap:butt; stroke-linejoin:round; stroke-width:2; stroke-opacity:0.1; fill:none\" points=\"\n  1968.29,1486.45 1968.29,47.2441 \n  \"/>\n<polyline clip-path=\"url(#clip072)\" style=\"stroke:#000000; stroke-linecap:butt; stroke-linejoin:round; stroke-width:2; stroke-opacity:0.1; fill:none\" points=\"\n  2230.99,1486.45 2230.99,47.2441 \n  \"/>\n<polyline clip-path=\"url(#clip070)\" style=\"stroke:#000000; stroke-linecap:butt; stroke-linejoin:round; stroke-width:4; stroke-opacity:1; fill:none\" points=\"\n  138.959,1486.45 2352.76,1486.45 \n  \"/>\n<polyline clip-path=\"url(#clip070)\" style=\"stroke:#000000; stroke-linecap:butt; stroke-linejoin:round; stroke-width:4; stroke-opacity:1; fill:none\" points=\"\n  392.074,1486.45 392.074,1467.55 \n  \"/>\n<polyline clip-path=\"url(#clip070)\" style=\"stroke:#000000; stroke-linecap:butt; stroke-linejoin:round; stroke-width:4; stroke-opacity:1; fill:none\" points=\"\n  654.776,1486.45 654.776,1467.55 \n  \"/>\n<polyline clip-path=\"url(#clip070)\" style=\"stroke:#000000; stroke-linecap:butt; stroke-linejoin:round; stroke-width:4; stroke-opacity:1; fill:none\" points=\"\n  917.479,1486.45 917.479,1467.55 \n  \"/>\n<polyline clip-path=\"url(#clip070)\" style=\"stroke:#000000; stroke-linecap:butt; stroke-linejoin:round; stroke-width:4; stroke-opacity:1; fill:none\" points=\"\n  1180.18,1486.45 1180.18,1467.55 \n  \"/>\n<polyline clip-path=\"url(#clip070)\" style=\"stroke:#000000; stroke-linecap:butt; stroke-linejoin:round; stroke-width:4; stroke-opacity:1; fill:none\" points=\"\n  1442.88,1486.45 1442.88,1467.55 \n  \"/>\n<polyline clip-path=\"url(#clip070)\" style=\"stroke:#000000; stroke-linecap:butt; stroke-linejoin:round; stroke-width:4; stroke-opacity:1; fill:none\" points=\"\n  1705.59,1486.45 1705.59,1467.55 \n  \"/>\n<polyline clip-path=\"url(#clip070)\" style=\"stroke:#000000; stroke-linecap:butt; stroke-linejoin:round; stroke-width:4; stroke-opacity:1; fill:none\" points=\"\n  1968.29,1486.45 1968.29,1467.55 \n  \"/>\n<polyline clip-path=\"url(#clip070)\" style=\"stroke:#000000; stroke-linecap:butt; stroke-linejoin:round; stroke-width:4; stroke-opacity:1; fill:none\" points=\"\n  2230.99,1486.45 2230.99,1467.55 \n  \"/>\n<path clip-path=\"url(#clip070)\" d=\"M362.016 1532.02 L391.692 1532.02 L391.692 1535.95 L362.016 1535.95 L362.016 1532.02 Z\" fill=\"#000000\" fill-rule=\"evenodd\" fill-opacity=\"1\" /><path clip-path=\"url(#clip070)\" d=\"M405.812 1544.91 L422.131 1544.91 L422.131 1548.85 L400.187 1548.85 L400.187 1544.91 Q402.849 1542.16 407.432 1537.53 Q412.039 1532.88 413.219 1531.53 Q415.465 1529.01 416.344 1527.27 Q417.247 1525.51 417.247 1523.82 Q417.247 1521.07 415.303 1519.33 Q413.381 1517.6 410.28 1517.6 Q408.08 1517.6 405.627 1518.36 Q403.196 1519.13 400.418 1520.68 L400.418 1515.95 Q403.243 1514.82 405.696 1514.24 Q408.15 1513.66 410.187 1513.66 Q415.557 1513.66 418.752 1516.35 Q421.946 1519.03 421.946 1523.52 Q421.946 1525.65 421.136 1527.57 Q420.349 1529.47 418.242 1532.07 Q417.664 1532.74 414.562 1535.95 Q411.46 1539.15 405.812 1544.91 Z\" fill=\"#000000\" fill-rule=\"evenodd\" fill-opacity=\"1\" /><path clip-path=\"url(#clip070)\" d=\"M654.776 1517.37 Q651.165 1517.37 649.337 1520.93 Q647.531 1524.47 647.531 1531.6 Q647.531 1538.71 649.337 1542.27 Q651.165 1545.82 654.776 1545.82 Q658.411 1545.82 660.216 1542.27 Q662.045 1538.71 662.045 1531.6 Q662.045 1524.47 660.216 1520.93 Q658.411 1517.37 654.776 1517.37 M654.776 1513.66 Q660.587 1513.66 663.642 1518.27 Q666.721 1522.85 666.721 1531.6 Q666.721 1540.33 663.642 1544.94 Q660.587 1549.52 654.776 1549.52 Q648.966 1549.52 645.888 1544.94 Q642.832 1540.33 642.832 1531.6 Q642.832 1522.85 645.888 1518.27 Q648.966 1513.66 654.776 1513.66 Z\" fill=\"#000000\" fill-rule=\"evenodd\" fill-opacity=\"1\" /><path clip-path=\"url(#clip070)\" d=\"M912.132 1544.91 L928.451 1544.91 L928.451 1548.85 L906.507 1548.85 L906.507 1544.91 Q909.169 1542.16 913.752 1537.53 Q918.359 1532.88 919.539 1531.53 Q921.785 1529.01 922.664 1527.27 Q923.567 1525.51 923.567 1523.82 Q923.567 1521.07 921.623 1519.33 Q919.701 1517.6 916.6 1517.6 Q914.4 1517.6 911.947 1518.36 Q909.516 1519.13 906.738 1520.68 L906.738 1515.95 Q909.563 1514.82 912.016 1514.24 Q914.47 1513.66 916.507 1513.66 Q921.877 1513.66 925.072 1516.35 Q928.266 1519.03 928.266 1523.52 Q928.266 1525.65 927.456 1527.57 Q926.669 1529.47 924.562 1532.07 Q923.984 1532.74 920.882 1535.95 Q917.78 1539.15 912.132 1544.91 Z\" fill=\"#000000\" fill-rule=\"evenodd\" fill-opacity=\"1\" /><path clip-path=\"url(#clip070)\" d=\"M1183.19 1518.36 L1171.39 1536.81 L1183.19 1536.81 L1183.19 1518.36 M1181.96 1514.29 L1187.84 1514.29 L1187.84 1536.81 L1192.77 1536.81 L1192.77 1540.7 L1187.84 1540.7 L1187.84 1548.85 L1183.19 1548.85 L1183.19 1540.7 L1167.59 1540.7 L1167.59 1536.19 L1181.96 1514.29 Z\" fill=\"#000000\" fill-rule=\"evenodd\" fill-opacity=\"1\" /><path clip-path=\"url(#clip070)\" d=\"M1443.29 1529.7 Q1440.14 1529.7 1438.29 1531.86 Q1436.46 1534.01 1436.46 1537.76 Q1436.46 1541.49 1438.29 1543.66 Q1440.14 1545.82 1443.29 1545.82 Q1446.44 1545.82 1448.27 1543.66 Q1450.12 1541.49 1450.12 1537.76 Q1450.12 1534.01 1448.27 1531.86 Q1446.44 1529.7 1443.29 1529.7 M1452.57 1515.05 L1452.57 1519.31 Q1450.81 1518.48 1449.01 1518.04 Q1447.23 1517.6 1445.47 1517.6 Q1440.84 1517.6 1438.38 1520.72 Q1435.95 1523.85 1435.6 1530.17 Q1436.97 1528.15 1439.03 1527.09 Q1441.09 1526 1443.57 1526 Q1448.78 1526 1451.79 1529.17 Q1454.82 1532.32 1454.82 1537.76 Q1454.82 1543.08 1451.67 1546.3 Q1448.52 1549.52 1443.29 1549.52 Q1437.29 1549.52 1434.12 1544.94 Q1430.95 1540.33 1430.95 1531.6 Q1430.95 1523.41 1434.84 1518.55 Q1438.73 1513.66 1445.28 1513.66 Q1447.04 1513.66 1448.82 1514.01 Q1450.63 1514.36 1452.57 1515.05 Z\" fill=\"#000000\" fill-rule=\"evenodd\" fill-opacity=\"1\" /><path clip-path=\"url(#clip070)\" d=\"M1705.59 1532.44 Q1702.25 1532.44 1700.33 1534.22 Q1698.43 1536 1698.43 1539.13 Q1698.43 1542.25 1700.33 1544.03 Q1702.25 1545.82 1705.59 1545.82 Q1708.92 1545.82 1710.84 1544.03 Q1712.76 1542.23 1712.76 1539.13 Q1712.76 1536 1710.84 1534.22 Q1708.94 1532.44 1705.59 1532.44 M1700.91 1530.45 Q1697.9 1529.7 1696.21 1527.64 Q1694.55 1525.58 1694.55 1522.62 Q1694.55 1518.48 1697.49 1516.07 Q1700.45 1513.66 1705.59 1513.66 Q1710.75 1513.66 1713.69 1516.07 Q1716.63 1518.48 1716.63 1522.62 Q1716.63 1525.58 1714.94 1527.64 Q1713.27 1529.7 1710.29 1530.45 Q1713.67 1531.23 1715.54 1533.52 Q1717.44 1535.82 1717.44 1539.13 Q1717.44 1544.15 1714.36 1546.83 Q1711.31 1549.52 1705.59 1549.52 Q1699.87 1549.52 1696.79 1546.83 Q1693.74 1544.15 1693.74 1539.13 Q1693.74 1535.82 1695.63 1533.52 Q1697.53 1531.23 1700.91 1530.45 M1699.2 1523.06 Q1699.2 1525.75 1700.87 1527.25 Q1702.56 1528.76 1705.59 1528.76 Q1708.6 1528.76 1710.29 1527.25 Q1712 1525.75 1712 1523.06 Q1712 1520.38 1710.29 1518.87 Q1708.6 1517.37 1705.59 1517.37 Q1702.56 1517.37 1700.87 1518.87 Q1699.2 1520.38 1699.2 1523.06 Z\" fill=\"#000000\" fill-rule=\"evenodd\" fill-opacity=\"1\" /><path clip-path=\"url(#clip070)\" d=\"M1942.98 1544.91 L1950.62 1544.91 L1950.62 1518.55 L1942.31 1520.21 L1942.31 1515.95 L1950.57 1514.29 L1955.25 1514.29 L1955.25 1544.91 L1962.89 1544.91 L1962.89 1548.85 L1942.98 1548.85 L1942.98 1544.91 Z\" fill=\"#000000\" fill-rule=\"evenodd\" fill-opacity=\"1\" /><path clip-path=\"url(#clip070)\" d=\"M1982.33 1517.37 Q1978.72 1517.37 1976.89 1520.93 Q1975.08 1524.47 1975.08 1531.6 Q1975.08 1538.71 1976.89 1542.27 Q1978.72 1545.82 1982.33 1545.82 Q1985.96 1545.82 1987.77 1542.27 Q1989.6 1538.71 1989.6 1531.6 Q1989.6 1524.47 1987.77 1520.93 Q1985.96 1517.37 1982.33 1517.37 M1982.33 1513.66 Q1988.14 1513.66 1991.2 1518.27 Q1994.27 1522.85 1994.27 1531.6 Q1994.27 1540.33 1991.2 1544.94 Q1988.14 1549.52 1982.33 1549.52 Q1976.52 1549.52 1973.44 1544.94 Q1970.39 1540.33 1970.39 1531.6 Q1970.39 1522.85 1973.44 1518.27 Q1976.52 1513.66 1982.33 1513.66 Z\" fill=\"#000000\" fill-rule=\"evenodd\" fill-opacity=\"1\" /><path clip-path=\"url(#clip070)\" d=\"M2206.48 1544.91 L2214.12 1544.91 L2214.12 1518.55 L2205.81 1520.21 L2205.81 1515.95 L2214.07 1514.29 L2218.75 1514.29 L2218.75 1544.91 L2226.39 1544.91 L2226.39 1548.85 L2206.48 1548.85 L2206.48 1544.91 Z\" fill=\"#000000\" fill-rule=\"evenodd\" fill-opacity=\"1\" /><path clip-path=\"url(#clip070)\" d=\"M2239.86 1544.91 L2256.18 1544.91 L2256.18 1548.85 L2234.23 1548.85 L2234.23 1544.91 Q2236.9 1542.16 2241.48 1537.53 Q2246.09 1532.88 2247.27 1531.53 Q2249.51 1529.01 2250.39 1527.27 Q2251.29 1525.51 2251.29 1523.82 Q2251.29 1521.07 2249.35 1519.33 Q2247.43 1517.6 2244.33 1517.6 Q2242.13 1517.6 2239.67 1518.36 Q2237.24 1519.13 2234.47 1520.68 L2234.47 1515.95 Q2237.29 1514.82 2239.74 1514.24 Q2242.2 1513.66 2244.23 1513.66 Q2249.6 1513.66 2252.8 1516.35 Q2255.99 1519.03 2255.99 1523.52 Q2255.99 1525.65 2255.18 1527.57 Q2254.4 1529.47 2252.29 1532.07 Q2251.71 1532.74 2248.61 1535.95 Q2245.51 1539.15 2239.86 1544.91 Z\" fill=\"#000000\" fill-rule=\"evenodd\" fill-opacity=\"1\" /><polyline clip-path=\"url(#clip072)\" style=\"stroke:#000000; stroke-linecap:butt; stroke-linejoin:round; stroke-width:2; stroke-opacity:0.1; fill:none\" points=\"\n  138.959,1445.72 2352.76,1445.72 \n  \"/>\n<polyline clip-path=\"url(#clip072)\" style=\"stroke:#000000; stroke-linecap:butt; stroke-linejoin:round; stroke-width:2; stroke-opacity:0.1; fill:none\" points=\"\n  138.959,1088.42 2352.76,1088.42 \n  \"/>\n<polyline clip-path=\"url(#clip072)\" style=\"stroke:#000000; stroke-linecap:butt; stroke-linejoin:round; stroke-width:2; stroke-opacity:0.1; fill:none\" points=\"\n  138.959,731.116 2352.76,731.116 \n  \"/>\n<polyline clip-path=\"url(#clip072)\" style=\"stroke:#000000; stroke-linecap:butt; stroke-linejoin:round; stroke-width:2; stroke-opacity:0.1; fill:none\" points=\"\n  138.959,373.816 2352.76,373.816 \n  \"/>\n<polyline clip-path=\"url(#clip070)\" style=\"stroke:#000000; stroke-linecap:butt; stroke-linejoin:round; stroke-width:4; stroke-opacity:1; fill:none\" points=\"\n  138.959,1486.45 138.959,47.2441 \n  \"/>\n<polyline clip-path=\"url(#clip070)\" style=\"stroke:#000000; stroke-linecap:butt; stroke-linejoin:round; stroke-width:4; stroke-opacity:1; fill:none\" points=\"\n  138.959,1445.72 157.857,1445.72 \n  \"/>\n<polyline clip-path=\"url(#clip070)\" style=\"stroke:#000000; stroke-linecap:butt; stroke-linejoin:round; stroke-width:4; stroke-opacity:1; fill:none\" points=\"\n  138.959,1088.42 157.857,1088.42 \n  \"/>\n<polyline clip-path=\"url(#clip070)\" style=\"stroke:#000000; stroke-linecap:butt; stroke-linejoin:round; stroke-width:4; stroke-opacity:1; fill:none\" points=\"\n  138.959,731.116 157.857,731.116 \n  \"/>\n<polyline clip-path=\"url(#clip070)\" style=\"stroke:#000000; stroke-linecap:butt; stroke-linejoin:round; stroke-width:4; stroke-opacity:1; fill:none\" points=\"\n  138.959,373.816 157.857,373.816 \n  \"/>\n<path clip-path=\"url(#clip070)\" d=\"M91.0151 1431.51 Q87.404 1431.51 85.5753 1435.08 Q83.7697 1438.62 83.7697 1445.75 Q83.7697 1452.86 85.5753 1456.42 Q87.404 1459.96 91.0151 1459.96 Q94.6493 1459.96 96.4548 1456.42 Q98.2835 1452.86 98.2835 1445.75 Q98.2835 1438.62 96.4548 1435.08 Q94.6493 1431.51 91.0151 1431.51 M91.0151 1427.81 Q96.8252 1427.81 99.8808 1432.42 Q102.959 1437 102.959 1445.75 Q102.959 1454.48 99.8808 1459.08 Q96.8252 1463.67 91.0151 1463.67 Q85.2049 1463.67 82.1262 1459.08 Q79.0707 1454.48 79.0707 1445.75 Q79.0707 1437 82.1262 1432.42 Q85.2049 1427.81 91.0151 1427.81 Z\" fill=\"#000000\" fill-rule=\"evenodd\" fill-opacity=\"1\" /><path clip-path=\"url(#clip070)\" d=\"M82.0568 1071.14 L100.413 1071.14 L100.413 1075.07 L86.3392 1075.07 L86.3392 1083.54 Q87.3577 1083.2 88.3762 1083.03 Q89.3947 1082.85 90.4132 1082.85 Q96.2002 1082.85 99.5798 1086.02 Q102.959 1089.19 102.959 1094.61 Q102.959 1100.19 99.4872 1103.29 Q96.015 1106.37 89.6956 1106.37 Q87.5197 1106.37 85.2512 1106 Q83.0058 1105.63 80.5984 1104.89 L80.5984 1100.19 Q82.6818 1101.32 84.904 1101.88 Q87.1262 1102.43 89.603 1102.43 Q93.6076 1102.43 95.9456 1100.33 Q98.2835 1098.22 98.2835 1094.61 Q98.2835 1091 95.9456 1088.89 Q93.6076 1086.78 89.603 1086.78 Q87.728 1086.78 85.8531 1087.2 Q84.0012 1087.62 82.0568 1088.5 L82.0568 1071.14 Z\" fill=\"#000000\" fill-rule=\"evenodd\" fill-opacity=\"1\" /><path clip-path=\"url(#clip070)\" d=\"M51.6634 744.461 L59.3023 744.461 L59.3023 718.095 L50.9921 719.762 L50.9921 715.503 L59.256 713.836 L63.9319 713.836 L63.9319 744.461 L71.5707 744.461 L71.5707 748.396 L51.6634 748.396 L51.6634 744.461 Z\" fill=\"#000000\" fill-rule=\"evenodd\" fill-opacity=\"1\" /><path clip-path=\"url(#clip070)\" d=\"M91.0151 716.915 Q87.404 716.915 85.5753 720.479 Q83.7697 724.021 83.7697 731.151 Q83.7697 738.257 85.5753 741.822 Q87.404 745.364 91.0151 745.364 Q94.6493 745.364 96.4548 741.822 Q98.2835 738.257 98.2835 731.151 Q98.2835 724.021 96.4548 720.479 Q94.6493 716.915 91.0151 716.915 M91.0151 713.211 Q96.8252 713.211 99.8808 717.817 Q102.959 722.401 102.959 731.151 Q102.959 739.878 99.8808 744.484 Q96.8252 749.067 91.0151 749.067 Q85.2049 749.067 82.1262 744.484 Q79.0707 739.878 79.0707 731.151 Q79.0707 722.401 82.1262 717.817 Q85.2049 713.211 91.0151 713.211 Z\" fill=\"#000000\" fill-rule=\"evenodd\" fill-opacity=\"1\" /><path clip-path=\"url(#clip070)\" d=\"M52.6588 387.161 L60.2976 387.161 L60.2976 360.795 L51.9875 362.462 L51.9875 358.203 L60.2513 356.536 L64.9272 356.536 L64.9272 387.161 L72.5661 387.161 L72.5661 391.096 L52.6588 391.096 L52.6588 387.161 Z\" fill=\"#000000\" fill-rule=\"evenodd\" fill-opacity=\"1\" /><path clip-path=\"url(#clip070)\" d=\"M82.0568 356.536 L100.413 356.536 L100.413 360.471 L86.3392 360.471 L86.3392 368.943 Q87.3577 368.596 88.3762 368.434 Q89.3947 368.249 90.4132 368.249 Q96.2002 368.249 99.5798 371.42 Q102.959 374.592 102.959 380.008 Q102.959 385.587 99.4872 388.689 Q96.015 391.767 89.6956 391.767 Q87.5197 391.767 85.2512 391.397 Q83.0058 391.027 80.5984 390.286 L80.5984 385.587 Q82.6818 386.721 84.904 387.277 Q87.1262 387.832 89.603 387.832 Q93.6076 387.832 95.9456 385.726 Q98.2835 383.619 98.2835 380.008 Q98.2835 376.397 95.9456 374.291 Q93.6076 372.184 89.603 372.184 Q87.728 372.184 85.8531 372.601 Q84.0012 373.018 82.0568 373.897 L82.0568 356.536 Z\" fill=\"#000000\" fill-rule=\"evenodd\" fill-opacity=\"1\" /><path clip-path=\"url(#clip072)\" d=\"\nM260.722 1302.8 L260.722 1445.72 L392.074 1445.72 L392.074 1302.8 L260.722 1302.8 L260.722 1302.8  Z\n  \" fill=\"#009af9\" fill-rule=\"evenodd\" fill-opacity=\"0.5\"/>\n<polyline clip-path=\"url(#clip072)\" style=\"stroke:#000000; stroke-linecap:butt; stroke-linejoin:round; stroke-width:4; stroke-opacity:0.5; fill:none\" points=\"\n  260.722,1302.8 260.722,1445.72 392.074,1445.72 392.074,1302.8 260.722,1302.8 \n  \"/>\n<path clip-path=\"url(#clip072)\" d=\"\nM392.074 1374.26 L392.074 1445.72 L523.425 1445.72 L523.425 1374.26 L392.074 1374.26 L392.074 1374.26  Z\n  \" fill=\"#009af9\" fill-rule=\"evenodd\" fill-opacity=\"0.5\"/>\n<polyline clip-path=\"url(#clip072)\" style=\"stroke:#000000; stroke-linecap:butt; stroke-linejoin:round; stroke-width:4; stroke-opacity:0.5; fill:none\" points=\"\n  392.074,1374.26 392.074,1445.72 523.425,1445.72 523.425,1374.26 392.074,1374.26 \n  \"/>\n<path clip-path=\"url(#clip072)\" d=\"\nM523.425 1445.72 L523.425 1445.72 L654.776 1445.72 L654.776 1445.72 L523.425 1445.72 L523.425 1445.72  Z\n  \" fill=\"#009af9\" fill-rule=\"evenodd\" fill-opacity=\"0.5\"/>\n<polyline clip-path=\"url(#clip072)\" style=\"stroke:#000000; stroke-linecap:butt; stroke-linejoin:round; stroke-width:4; stroke-opacity:0.5; fill:none\" points=\"\n  523.425,1445.72 523.425,1445.72 654.776,1445.72 523.425,1445.72 \n  \"/>\n<path clip-path=\"url(#clip072)\" d=\"\nM654.776 1445.72 L654.776 1445.72 L786.128 1445.72 L786.128 1445.72 L654.776 1445.72 L654.776 1445.72  Z\n  \" fill=\"#009af9\" fill-rule=\"evenodd\" fill-opacity=\"0.5\"/>\n<polyline clip-path=\"url(#clip072)\" style=\"stroke:#000000; stroke-linecap:butt; stroke-linejoin:round; stroke-width:4; stroke-opacity:0.5; fill:none\" points=\"\n  654.776,1445.72 654.776,1445.72 786.128,1445.72 654.776,1445.72 \n  \"/>\n<path clip-path=\"url(#clip072)\" d=\"\nM786.128 1231.34 L786.128 1445.72 L917.479 1445.72 L917.479 1231.34 L786.128 1231.34 L786.128 1231.34  Z\n  \" fill=\"#009af9\" fill-rule=\"evenodd\" fill-opacity=\"0.5\"/>\n<polyline clip-path=\"url(#clip072)\" style=\"stroke:#000000; stroke-linecap:butt; stroke-linejoin:round; stroke-width:4; stroke-opacity:0.5; fill:none\" points=\"\n  786.128,1231.34 786.128,1445.72 917.479,1445.72 917.479,1231.34 786.128,1231.34 \n  \"/>\n<path clip-path=\"url(#clip072)\" d=\"\nM917.479 1088.42 L917.479 1445.72 L1048.83 1445.72 L1048.83 1088.42 L917.479 1088.42 L917.479 1088.42  Z\n  \" fill=\"#009af9\" fill-rule=\"evenodd\" fill-opacity=\"0.5\"/>\n<polyline clip-path=\"url(#clip072)\" style=\"stroke:#000000; stroke-linecap:butt; stroke-linejoin:round; stroke-width:4; stroke-opacity:0.5; fill:none\" points=\"\n  917.479,1088.42 917.479,1445.72 1048.83,1445.72 1048.83,1088.42 917.479,1088.42 \n  \"/>\n<path clip-path=\"url(#clip072)\" d=\"\nM1048.83 874.036 L1048.83 1445.72 L1180.18 1445.72 L1180.18 874.036 L1048.83 874.036 L1048.83 874.036  Z\n  \" fill=\"#009af9\" fill-rule=\"evenodd\" fill-opacity=\"0.5\"/>\n<polyline clip-path=\"url(#clip072)\" style=\"stroke:#000000; stroke-linecap:butt; stroke-linejoin:round; stroke-width:4; stroke-opacity:0.5; fill:none\" points=\"\n  1048.83,874.036 1048.83,1445.72 1180.18,1445.72 1180.18,874.036 1048.83,874.036 \n  \"/>\n<path clip-path=\"url(#clip072)\" d=\"\nM1180.18 87.9763 L1180.18 1445.72 L1311.53 1445.72 L1311.53 87.9763 L1180.18 87.9763 L1180.18 87.9763  Z\n  \" fill=\"#009af9\" fill-rule=\"evenodd\" fill-opacity=\"0.5\"/>\n<polyline clip-path=\"url(#clip072)\" style=\"stroke:#000000; stroke-linecap:butt; stroke-linejoin:round; stroke-width:4; stroke-opacity:0.5; fill:none\" points=\"\n  1180.18,87.9763 1180.18,1445.72 1311.53,1445.72 1311.53,87.9763 1180.18,87.9763 \n  \"/>\n<path clip-path=\"url(#clip072)\" d=\"\nM1311.53 516.736 L1311.53 1445.72 L1442.88 1445.72 L1442.88 516.736 L1311.53 516.736 L1311.53 516.736  Z\n  \" fill=\"#009af9\" fill-rule=\"evenodd\" fill-opacity=\"0.5\"/>\n<polyline clip-path=\"url(#clip072)\" style=\"stroke:#000000; stroke-linecap:butt; stroke-linejoin:round; stroke-width:4; stroke-opacity:0.5; fill:none\" points=\"\n  1311.53,516.736 1311.53,1445.72 1442.88,1445.72 1442.88,516.736 1311.53,516.736 \n  \"/>\n<path clip-path=\"url(#clip072)\" d=\"\nM1442.88 516.736 L1442.88 1445.72 L1574.24 1445.72 L1574.24 516.736 L1442.88 516.736 L1442.88 516.736  Z\n  \" fill=\"#009af9\" fill-rule=\"evenodd\" fill-opacity=\"0.5\"/>\n<polyline clip-path=\"url(#clip072)\" style=\"stroke:#000000; stroke-linecap:butt; stroke-linejoin:round; stroke-width:4; stroke-opacity:0.5; fill:none\" points=\"\n  1442.88,516.736 1442.88,1445.72 1574.24,1445.72 1574.24,516.736 1442.88,516.736 \n  \"/>\n<path clip-path=\"url(#clip072)\" d=\"\nM1574.24 1302.8 L1574.24 1445.72 L1705.59 1445.72 L1705.59 1302.8 L1574.24 1302.8 L1574.24 1302.8  Z\n  \" fill=\"#009af9\" fill-rule=\"evenodd\" fill-opacity=\"0.5\"/>\n<polyline clip-path=\"url(#clip072)\" style=\"stroke:#000000; stroke-linecap:butt; stroke-linejoin:round; stroke-width:4; stroke-opacity:0.5; fill:none\" points=\"\n  1574.24,1302.8 1574.24,1445.72 1705.59,1445.72 1705.59,1302.8 1574.24,1302.8 \n  \"/>\n<path clip-path=\"url(#clip072)\" d=\"\nM1705.59 1302.8 L1705.59 1445.72 L1836.94 1445.72 L1836.94 1302.8 L1705.59 1302.8 L1705.59 1302.8  Z\n  \" fill=\"#009af9\" fill-rule=\"evenodd\" fill-opacity=\"0.5\"/>\n<polyline clip-path=\"url(#clip072)\" style=\"stroke:#000000; stroke-linecap:butt; stroke-linejoin:round; stroke-width:4; stroke-opacity:0.5; fill:none\" points=\"\n  1705.59,1302.8 1705.59,1445.72 1836.94,1445.72 1836.94,1302.8 1705.59,1302.8 \n  \"/>\n<path clip-path=\"url(#clip072)\" d=\"\nM1836.94 1302.8 L1836.94 1445.72 L1968.29 1445.72 L1968.29 1302.8 L1836.94 1302.8 L1836.94 1302.8  Z\n  \" fill=\"#009af9\" fill-rule=\"evenodd\" fill-opacity=\"0.5\"/>\n<polyline clip-path=\"url(#clip072)\" style=\"stroke:#000000; stroke-linecap:butt; stroke-linejoin:round; stroke-width:4; stroke-opacity:0.5; fill:none\" points=\"\n  1836.94,1302.8 1836.94,1445.72 1968.29,1445.72 1968.29,1302.8 1836.94,1302.8 \n  \"/>\n<path clip-path=\"url(#clip072)\" d=\"\nM1968.29 1445.72 L1968.29 1445.72 L2099.64 1445.72 L2099.64 1445.72 L1968.29 1445.72 L1968.29 1445.72  Z\n  \" fill=\"#009af9\" fill-rule=\"evenodd\" fill-opacity=\"0.5\"/>\n<polyline clip-path=\"url(#clip072)\" style=\"stroke:#000000; stroke-linecap:butt; stroke-linejoin:round; stroke-width:4; stroke-opacity:0.5; fill:none\" points=\"\n  1968.29,1445.72 1968.29,1445.72 2099.64,1445.72 1968.29,1445.72 \n  \"/>\n<path clip-path=\"url(#clip072)\" d=\"\nM2099.64 1374.26 L2099.64 1445.72 L2230.99 1445.72 L2230.99 1374.26 L2099.64 1374.26 L2099.64 1374.26  Z\n  \" fill=\"#009af9\" fill-rule=\"evenodd\" fill-opacity=\"0.5\"/>\n<polyline clip-path=\"url(#clip072)\" style=\"stroke:#000000; stroke-linecap:butt; stroke-linejoin:round; stroke-width:4; stroke-opacity:0.5; fill:none\" points=\"\n  2099.64,1374.26 2099.64,1445.72 2230.99,1445.72 2230.99,1374.26 2099.64,1374.26 \n  \"/>\n<circle clip-path=\"url(#clip072)\" style=\"fill:#009af9; stroke:none; fill-opacity:0\" cx=\"326.398\" cy=\"1302.8\" r=\"2\"/>\n<circle clip-path=\"url(#clip072)\" style=\"fill:#009af9; stroke:none; fill-opacity:0\" cx=\"457.749\" cy=\"1374.26\" r=\"2\"/>\n<circle clip-path=\"url(#clip072)\" style=\"fill:#009af9; stroke:none; fill-opacity:0\" cx=\"589.101\" cy=\"1445.72\" r=\"2\"/>\n<circle clip-path=\"url(#clip072)\" style=\"fill:#009af9; stroke:none; fill-opacity:0\" cx=\"720.452\" cy=\"1445.72\" r=\"2\"/>\n<circle clip-path=\"url(#clip072)\" style=\"fill:#009af9; stroke:none; fill-opacity:0\" cx=\"851.803\" cy=\"1231.34\" r=\"2\"/>\n<circle clip-path=\"url(#clip072)\" style=\"fill:#009af9; stroke:none; fill-opacity:0\" cx=\"983.155\" cy=\"1088.42\" r=\"2\"/>\n<circle clip-path=\"url(#clip072)\" style=\"fill:#009af9; stroke:none; fill-opacity:0\" cx=\"1114.51\" cy=\"874.036\" r=\"2\"/>\n<circle clip-path=\"url(#clip072)\" style=\"fill:#009af9; stroke:none; fill-opacity:0\" cx=\"1245.86\" cy=\"87.9763\" r=\"2\"/>\n<circle clip-path=\"url(#clip072)\" style=\"fill:#009af9; stroke:none; fill-opacity:0\" cx=\"1377.21\" cy=\"516.736\" r=\"2\"/>\n<circle clip-path=\"url(#clip072)\" style=\"fill:#009af9; stroke:none; fill-opacity:0\" cx=\"1508.56\" cy=\"516.736\" r=\"2\"/>\n<circle clip-path=\"url(#clip072)\" style=\"fill:#009af9; stroke:none; fill-opacity:0\" cx=\"1639.91\" cy=\"1302.8\" r=\"2\"/>\n<circle clip-path=\"url(#clip072)\" style=\"fill:#009af9; stroke:none; fill-opacity:0\" cx=\"1771.26\" cy=\"1302.8\" r=\"2\"/>\n<circle clip-path=\"url(#clip072)\" style=\"fill:#009af9; stroke:none; fill-opacity:0\" cx=\"1902.61\" cy=\"1302.8\" r=\"2\"/>\n<circle clip-path=\"url(#clip072)\" style=\"fill:#009af9; stroke:none; fill-opacity:0\" cx=\"2033.97\" cy=\"1445.72\" r=\"2\"/>\n<circle clip-path=\"url(#clip072)\" style=\"fill:#009af9; stroke:none; fill-opacity:0\" cx=\"2165.32\" cy=\"1374.26\" r=\"2\"/>\n<polyline clip-path=\"url(#clip072)\" style=\"stroke:#000000; stroke-linecap:butt; stroke-linejoin:round; stroke-width:12; stroke-opacity:1; fill:none\" stroke-dasharray=\"48, 30\" points=\"\n  1289.22,2925.65 1289.22,-1391.96 \n  \"/>\n</svg>\n"
     },
     "execution_count": 60,
     "metadata": {},
     "output_type": "execute_result"
    }
   ],
   "source": [
    "histogram(inflation_1, legend = false, alpha = 0.5, bins = 20) # a histogram gives a general idea of what the distribution of values for inflation looks like.\n",
    "plot!([mean(inflation_1)],  seriestype = :vline, lw = 3, colour = :black, ls = :dash) # plots the mean value"
   ]
  },
  {
   "cell_type": "markdown",
   "metadata": {},
   "source": [
    "# Math fundamentals"
   ]
  },
  {
   "cell_type": "markdown",
   "metadata": {},
   "source": [
    "Mathematics is so much easier when we get to use a computer. In this section I will introduce some of the basic mathematical theory that you need as a macroeconomist and then we will show you how that relates to programming."
   ]
  },
  {
   "cell_type": "markdown",
   "metadata": {},
   "source": [
    "## Growth rates"
   ]
  },
  {
   "cell_type": "markdown",
   "metadata": {},
   "source": [
    "Computing growth rates is quite important in macroeconomics. This is something that you will frequently encounter and it is important to know how to do this. The growth rate between subsequent two dates can be calculated as follows, \n",
    "\n",
    "$$\n",
    "\\left(\\frac{Y_{t} - Y_{t-1}}{Y_{t-1}}\\right) \\times 100 = \\left(\\frac{Y_{t}}{Y_{t-1}} - 1\\right) \\times 100 \n",
    "$$\n"
   ]
  },
  {
   "cell_type": "markdown",
   "metadata": {},
   "source": [
    "If you are working with quarterly data and want to calculate the growth rate from one quarter to the same quarter next year then you should use, \n",
    "\n",
    "$$\n",
    "\\left(\\frac{Y_{t}}{Y_{t-4}} - 1\\right) \\times 100 \n",
    "$$\n",
    "\n",
    "In addition, we can calculate the monthly or quarterly growth rate at an annual rate, \n",
    "\n",
    "$$\n",
    "\\left(\\left[\\frac{Y_{t}}{Y_{t-1}}\\right]^{n} - 1\\right) \\times 100 \n",
    "$$\n",
    "where $n = 4$ represents quarterly growth and $n = 12$ gives monthly growth. "
   ]
  },
  {
   "cell_type": "markdown",
   "metadata": {},
   "source": [
    "Finally, we can calculate the average growth rate over $n$ years with the following formula, \n",
    "\n",
    "$$\n",
    "\\left(\\left[\\frac{Y_{t}}{Y_{t-n}}\\right]^{1/n} - 1\\right) \\times 100 \n",
    "$$"
   ]
  },
  {
   "cell_type": "markdown",
   "metadata": {},
   "source": [
    "### Examples of growth rate calculations"
   ]
  },
  {
   "cell_type": "markdown",
   "metadata": {},
   "source": [
    "Let us try calculating some growth rates with the data at hand. We will focus on GDP growth rates for this example, "
   ]
  },
  {
   "cell_type": "code",
   "execution_count": 64,
   "metadata": {},
   "outputs": [
    {
     "data": {
      "text/plain": [
       "4.414220084246427"
      ]
     },
     "execution_count": 64,
     "metadata": {},
     "output_type": "execute_result"
    }
   ],
   "source": [
    "gdp_first = sa_data[1, :gdp]; # first value of the GDP series\n",
    "gdp_second = sa_data[2, :gdp]; # second value of the GDP series\n",
    "\n",
    "gdp_growth_1 = ((gdp_second - gdp_first)/gdp_first) * 100 # using the formula for growth between two periods. "
   ]
  },
  {
   "cell_type": "markdown",
   "metadata": {},
   "source": [
    "There is an alternative way to calculate an approximation to the growth rate from above. We can simply take the natural logarithm of the two values and subtract them from each other. In other words we have that, \n",
    "\n",
    "$$\n",
    "\\left(\\frac{Y_{t}}{Y_{t-1}} - 1\\right) \\times 100 \\approx \\log(Y_{t}) - \\log(Y_{t-1}) \\times 100\n",
    "$$\n"
   ]
  },
  {
   "cell_type": "code",
   "execution_count": 66,
   "metadata": {},
   "outputs": [
    {
     "data": {
      "text/plain": [
       "4.319568788852912"
      ]
     },
     "execution_count": 66,
     "metadata": {},
     "output_type": "execute_result"
    }
   ],
   "source": [
    "(log(gdp_second) - log(gdp_first)) * 100"
   ]
  },
  {
   "cell_type": "markdown",
   "metadata": {},
   "source": [
    "The values are not exactly the same. This is simply an approximation which is often used in practice. "
   ]
  },
  {
   "cell_type": "markdown",
   "metadata": {},
   "source": [
    "As another example, let us calculate the quarterly growth rate of GDP and then plot the resulting values. This calculation is a bit more tricky since we are now going to apply it to the entire dataset. Let me explain the logic of what we are going to do here. \n",
    "\n",
    "First, we are going to create a new column that contains a lagged version of the original column for GDP. Why do we want to do this? The reason is that we want to be able to divide $Y_t$ by $Y_{t-4}$ from our formula above. However, we only have values for $Y_t$ in the $t$-th column and not $Y_{t-4}$. So for every row we need to create a corresponding lagged version of the original column. Before we do anything, let us take a look at the first few values of the dataset to see what we need to change. We only care about the first two columns, so we will only select those. "
   ]
  },
  {
   "cell_type": "code",
   "execution_count": 73,
   "metadata": {},
   "outputs": [
    {
     "data": {
      "text/html": [
       "<div class=\"data-frame\"><p>8 rows × 2 columns</p><table class=\"data-frame\"><thead><tr><th></th><th>date</th><th>gdp</th></tr><tr><th></th><th title=\"Dates.Date\">Date</th><th title=\"Int64\">Int64</th></tr></thead><tbody><tr><th>1</th><td>2004-03-31</td><td>1571580</td></tr><tr><th>2</th><td>2004-06-30</td><td>1640953</td></tr><tr><th>3</th><td>2004-09-30</td><td>1674699</td></tr><tr><th>4</th><td>2004-12-31</td><td>1731000</td></tr><tr><th>5</th><td>2005-03-31</td><td>1768828</td></tr><tr><th>6</th><td>2005-06-30</td><td>1803783</td></tr><tr><th>7</th><td>2005-09-30</td><td>1873743</td></tr><tr><th>8</th><td>2005-12-31</td><td>1918423</td></tr></tbody></table></div>"
      ],
      "text/latex": [
       "\\begin{tabular}{r|cc}\n",
       "\t& date & gdp\\\\\n",
       "\t\\hline\n",
       "\t& Date & Int64\\\\\n",
       "\t\\hline\n",
       "\t1 & 2004-03-31 & 1571580 \\\\\n",
       "\t2 & 2004-06-30 & 1640953 \\\\\n",
       "\t3 & 2004-09-30 & 1674699 \\\\\n",
       "\t4 & 2004-12-31 & 1731000 \\\\\n",
       "\t5 & 2005-03-31 & 1768828 \\\\\n",
       "\t6 & 2005-06-30 & 1803783 \\\\\n",
       "\t7 & 2005-09-30 & 1873743 \\\\\n",
       "\t8 & 2005-12-31 & 1918423 \\\\\n",
       "\\end{tabular}\n"
      ],
      "text/plain": [
       "\u001b[1m8×2 DataFrame\u001b[0m\n",
       "\u001b[1m Row \u001b[0m│\u001b[1m date       \u001b[0m\u001b[1m gdp     \u001b[0m\n",
       "\u001b[1m     \u001b[0m│\u001b[90m Date       \u001b[0m\u001b[90m Int64   \u001b[0m\n",
       "─────┼─────────────────────\n",
       "   1 │ 2004-03-31  1571580\n",
       "   2 │ 2004-06-30  1640953\n",
       "   3 │ 2004-09-30  1674699\n",
       "   4 │ 2004-12-31  1731000\n",
       "   5 │ 2005-03-31  1768828\n",
       "   6 │ 2005-06-30  1803783\n",
       "   7 │ 2005-09-30  1873743\n",
       "   8 │ 2005-12-31  1918423"
      ]
     },
     "execution_count": 73,
     "metadata": {},
     "output_type": "execute_result"
    }
   ],
   "source": [
    "first(sa_data[!, 1:2], 8)"
   ]
  },
  {
   "cell_type": "code",
   "execution_count": 93,
   "metadata": {},
   "outputs": [],
   "source": [
    "sa_data.lagged_gdp = lag(sa_data[!, 2], 4);"
   ]
  },
  {
   "cell_type": "markdown",
   "metadata": {},
   "source": [
    "We can see that the lagged GDP column has successfully been created and added to the DataFrame. "
   ]
  },
  {
   "cell_type": "code",
   "execution_count": 94,
   "metadata": {},
   "outputs": [
    {
     "data": {
      "text/html": [
       "<div class=\"data-frame\"><p>8 rows × 6 columns</p><table class=\"data-frame\"><thead><tr><th></th><th>date</th><th>gdp</th><th>repo</th><th>cpi</th><th>inflation</th><th>lagged_gdp</th></tr><tr><th></th><th title=\"Dates.Date\">Date</th><th title=\"Int64\">Int64</th><th title=\"Float64\">Float64</th><th title=\"Float64\">Float64</th><th title=\"Float64\">Float64</th><th title=\"Union{Missing, Int64}\">Int64?</th></tr></thead><tbody><tr><th>1</th><td>2004-03-31</td><td>1571580</td><td>8.0</td><td>51.1689</td><td>-2.05565</td><td><em>missing</em></td></tr><tr><th>2</th><td>2004-06-30</td><td>1640953</td><td>8.0</td><td>51.4474</td><td>-2.02507</td><td><em>missing</em></td></tr><tr><th>3</th><td>2004-09-30</td><td>1674699</td><td>7.66667</td><td>51.5677</td><td>-1.00851</td><td><em>missing</em></td></tr><tr><th>4</th><td>2004-12-31</td><td>1731000</td><td>7.5</td><td>51.8483</td><td>1.62524</td><td><em>missing</em></td></tr><tr><th>5</th><td>2005-03-31</td><td>1768828</td><td>7.5</td><td>52.1796</td><td>1.97509</td><td>1571580</td></tr><tr><th>6</th><td>2005-06-30</td><td>1803783</td><td>7.0</td><td>52.456</td><td>1.9603</td><td>1640953</td></tr><tr><th>7</th><td>2005-09-30</td><td>1873743</td><td>7.0</td><td>52.8125</td><td>2.41398</td><td>1674699</td></tr><tr><th>8</th><td>2005-12-31</td><td>1918423</td><td>7.0</td><td>52.9391</td><td>2.10385</td><td>1731000</td></tr></tbody></table></div>"
      ],
      "text/latex": [
       "\\begin{tabular}{r|cccccc}\n",
       "\t& date & gdp & repo & cpi & inflation & lagged\\_gdp\\\\\n",
       "\t\\hline\n",
       "\t& Date & Int64 & Float64 & Float64 & Float64 & Int64?\\\\\n",
       "\t\\hline\n",
       "\t1 & 2004-03-31 & 1571580 & 8.0 & 51.1689 & -2.05565 & \\emph{missing} \\\\\n",
       "\t2 & 2004-06-30 & 1640953 & 8.0 & 51.4474 & -2.02507 & \\emph{missing} \\\\\n",
       "\t3 & 2004-09-30 & 1674699 & 7.66667 & 51.5677 & -1.00851 & \\emph{missing} \\\\\n",
       "\t4 & 2004-12-31 & 1731000 & 7.5 & 51.8483 & 1.62524 & \\emph{missing} \\\\\n",
       "\t5 & 2005-03-31 & 1768828 & 7.5 & 52.1796 & 1.97509 & 1571580 \\\\\n",
       "\t6 & 2005-06-30 & 1803783 & 7.0 & 52.456 & 1.9603 & 1640953 \\\\\n",
       "\t7 & 2005-09-30 & 1873743 & 7.0 & 52.8125 & 2.41398 & 1674699 \\\\\n",
       "\t8 & 2005-12-31 & 1918423 & 7.0 & 52.9391 & 2.10385 & 1731000 \\\\\n",
       "\\end{tabular}\n"
      ],
      "text/plain": [
       "\u001b[1m8×6 DataFrame\u001b[0m\n",
       "\u001b[1m Row \u001b[0m│\u001b[1m date       \u001b[0m\u001b[1m gdp     \u001b[0m\u001b[1m repo    \u001b[0m\u001b[1m cpi     \u001b[0m\u001b[1m inflation \u001b[0m\u001b[1m lagged_gdp \u001b[0m\n",
       "\u001b[1m     \u001b[0m│\u001b[90m Date       \u001b[0m\u001b[90m Int64   \u001b[0m\u001b[90m Float64 \u001b[0m\u001b[90m Float64 \u001b[0m\u001b[90m Float64   \u001b[0m\u001b[90m Int64?     \u001b[0m\n",
       "─────┼──────────────────────────────────────────────────────────────\n",
       "   1 │ 2004-03-31  1571580  8.0      51.1689   -2.05565 \u001b[90m    missing \u001b[0m\n",
       "   2 │ 2004-06-30  1640953  8.0      51.4474   -2.02507 \u001b[90m    missing \u001b[0m\n",
       "   3 │ 2004-09-30  1674699  7.66667  51.5677   -1.00851 \u001b[90m    missing \u001b[0m\n",
       "   4 │ 2004-12-31  1731000  7.5      51.8483    1.62524 \u001b[90m    missing \u001b[0m\n",
       "   5 │ 2005-03-31  1768828  7.5      52.1796    1.97509     1571580\n",
       "   6 │ 2005-06-30  1803783  7.0      52.456     1.9603      1640953\n",
       "   7 │ 2005-09-30  1873743  7.0      52.8125    2.41398     1674699\n",
       "   8 │ 2005-12-31  1918423  7.0      52.9391    2.10385     1731000"
      ]
     },
     "execution_count": 94,
     "metadata": {},
     "output_type": "execute_result"
    }
   ],
   "source": [
    "first(sa_data[!, :], 8) "
   ]
  },
  {
   "cell_type": "markdown",
   "metadata": {},
   "source": [
    "Now we can calculate the growth rate, "
   ]
  },
  {
   "cell_type": "code",
   "execution_count": 116,
   "metadata": {},
   "outputs": [],
   "source": [
    "gdp_growth_quarterly = (log.(sa_data.gdp) .- log.(sa_data.lagged_gdp)) .* 100; # log method\n",
    "gdp_growth_quarterly_1 = ((sa_data.gdp ./ sa_data.lagged_gdp) .- 1) .* 100; # formula method"
   ]
  },
  {
   "cell_type": "code",
   "execution_count": 117,
   "metadata": {},
   "outputs": [
    {
     "data": {
      "image/svg+xml": "<?xml version=\"1.0\" encoding=\"utf-8\"?>\n<svg xmlns=\"http://www.w3.org/2000/svg\" xmlns:xlink=\"http://www.w3.org/1999/xlink\" width=\"600\" height=\"400\" viewBox=\"0 0 2400 1600\">\n<defs>\n  <clipPath id=\"clip550\">\n    <rect x=\"0\" y=\"0\" width=\"2400\" height=\"1600\"/>\n  </clipPath>\n</defs>\n<path clip-path=\"url(#clip550)\" d=\"\nM0 1600 L2400 1600 L2400 0 L0 0  Z\n  \" fill=\"#ffffff\" fill-rule=\"evenodd\" fill-opacity=\"1\"/>\n<defs>\n  <clipPath id=\"clip551\">\n    <rect x=\"480\" y=\"0\" width=\"1681\" height=\"1600\"/>\n  </clipPath>\n</defs>\n<path clip-path=\"url(#clip550)\" d=\"\nM178.867 1486.45 L2352.76 1486.45 L2352.76 47.2441 L178.867 47.2441  Z\n  \" fill=\"#ffffff\" fill-rule=\"evenodd\" fill-opacity=\"1\"/>\n<defs>\n  <clipPath id=\"clip552\">\n    <rect x=\"178\" y=\"47\" width=\"2175\" height=\"1440\"/>\n  </clipPath>\n</defs>\n<polyline clip-path=\"url(#clip552)\" style=\"stroke:#000000; stroke-linecap:butt; stroke-linejoin:round; stroke-width:2; stroke-opacity:0.1; fill:none\" points=\"\n  211.516,1486.45 211.516,47.2441 \n  \"/>\n<polyline clip-path=\"url(#clip552)\" style=\"stroke:#000000; stroke-linecap:butt; stroke-linejoin:round; stroke-width:2; stroke-opacity:0.1; fill:none\" points=\"\n  797.699,1486.45 797.699,47.2441 \n  \"/>\n<polyline clip-path=\"url(#clip552)\" style=\"stroke:#000000; stroke-linecap:butt; stroke-linejoin:round; stroke-width:2; stroke-opacity:0.1; fill:none\" points=\"\n  1383.56,1486.45 1383.56,47.2441 \n  \"/>\n<polyline clip-path=\"url(#clip552)\" style=\"stroke:#000000; stroke-linecap:butt; stroke-linejoin:round; stroke-width:2; stroke-opacity:0.1; fill:none\" points=\"\n  1969.42,1486.45 1969.42,47.2441 \n  \"/>\n<polyline clip-path=\"url(#clip550)\" style=\"stroke:#000000; stroke-linecap:butt; stroke-linejoin:round; stroke-width:4; stroke-opacity:1; fill:none\" points=\"\n  178.867,1486.45 2352.76,1486.45 \n  \"/>\n<polyline clip-path=\"url(#clip550)\" style=\"stroke:#000000; stroke-linecap:butt; stroke-linejoin:round; stroke-width:4; stroke-opacity:1; fill:none\" points=\"\n  211.516,1486.45 211.516,1467.55 \n  \"/>\n<polyline clip-path=\"url(#clip550)\" style=\"stroke:#000000; stroke-linecap:butt; stroke-linejoin:round; stroke-width:4; stroke-opacity:1; fill:none\" points=\"\n  797.699,1486.45 797.699,1467.55 \n  \"/>\n<polyline clip-path=\"url(#clip550)\" style=\"stroke:#000000; stroke-linecap:butt; stroke-linejoin:round; stroke-width:4; stroke-opacity:1; fill:none\" points=\"\n  1383.56,1486.45 1383.56,1467.55 \n  \"/>\n<polyline clip-path=\"url(#clip550)\" style=\"stroke:#000000; stroke-linecap:butt; stroke-linejoin:round; stroke-width:4; stroke-opacity:1; fill:none\" points=\"\n  1969.42,1486.45 1969.42,1467.55 \n  \"/>\n<path clip-path=\"url(#clip550)\" d=\"M83.3105 1544.91 L99.6298 1544.91 L99.6298 1548.85 L77.6855 1548.85 L77.6855 1544.91 Q80.3475 1542.16 84.9308 1537.53 Q89.5373 1532.88 90.7178 1531.53 Q92.9632 1529.01 93.8428 1527.27 Q94.7456 1525.51 94.7456 1523.82 Q94.7456 1521.07 92.8011 1519.33 Q90.8799 1517.6 87.778 1517.6 Q85.579 1517.6 83.1253 1518.36 Q80.6947 1519.13 77.917 1520.68 L77.917 1515.95 Q80.741 1514.82 83.1947 1514.24 Q85.6484 1513.66 87.6854 1513.66 Q93.0558 1513.66 96.2502 1516.35 Q99.4446 1519.03 99.4446 1523.52 Q99.4446 1525.65 98.6344 1527.57 Q97.8474 1529.47 95.7409 1532.07 Q95.1622 1532.74 92.0604 1535.95 Q88.9586 1539.15 83.3105 1544.91 Z\" fill=\"#000000\" fill-rule=\"evenodd\" fill-opacity=\"1\" /><path clip-path=\"url(#clip550)\" d=\"M119.445 1517.37 Q115.833 1517.37 114.005 1520.93 Q112.199 1524.47 112.199 1531.6 Q112.199 1538.71 114.005 1542.27 Q115.833 1545.82 119.445 1545.82 Q123.079 1545.82 124.884 1542.27 Q126.713 1538.71 126.713 1531.6 Q126.713 1524.47 124.884 1520.93 Q123.079 1517.37 119.445 1517.37 M119.445 1513.66 Q125.255 1513.66 128.31 1518.27 Q131.389 1522.85 131.389 1531.6 Q131.389 1540.33 128.31 1544.94 Q125.255 1549.52 119.445 1549.52 Q113.634 1549.52 110.556 1544.94 Q107.5 1540.33 107.5 1531.6 Q107.5 1522.85 110.556 1518.27 Q113.634 1513.66 119.445 1513.66 Z\" fill=\"#000000\" fill-rule=\"evenodd\" fill-opacity=\"1\" /><path clip-path=\"url(#clip550)\" d=\"M149.606 1517.37 Q145.995 1517.37 144.167 1520.93 Q142.361 1524.47 142.361 1531.6 Q142.361 1538.71 144.167 1542.27 Q145.995 1545.82 149.606 1545.82 Q153.241 1545.82 155.046 1542.27 Q156.875 1538.71 156.875 1531.6 Q156.875 1524.47 155.046 1520.93 Q153.241 1517.37 149.606 1517.37 M149.606 1513.66 Q155.417 1513.66 158.472 1518.27 Q161.551 1522.85 161.551 1531.6 Q161.551 1540.33 158.472 1544.94 Q155.417 1549.52 149.606 1549.52 Q143.796 1549.52 140.718 1544.94 Q137.662 1540.33 137.662 1531.6 Q137.662 1522.85 140.718 1518.27 Q143.796 1513.66 149.606 1513.66 Z\" fill=\"#000000\" fill-rule=\"evenodd\" fill-opacity=\"1\" /><path clip-path=\"url(#clip550)\" d=\"M182.615 1518.36 L170.81 1536.81 L182.615 1536.81 L182.615 1518.36 M181.389 1514.29 L187.268 1514.29 L187.268 1536.81 L192.199 1536.81 L192.199 1540.7 L187.268 1540.7 L187.268 1548.85 L182.615 1548.85 L182.615 1540.7 L167.014 1540.7 L167.014 1536.19 L181.389 1514.29 Z\" fill=\"#000000\" fill-rule=\"evenodd\" fill-opacity=\"1\" /><path clip-path=\"url(#clip550)\" d=\"M197.176 1533.96 L209.652 1533.96 L209.652 1537.76 L197.176 1537.76 L197.176 1533.96 Z\" fill=\"#000000\" fill-rule=\"evenodd\" fill-opacity=\"1\" /><path clip-path=\"url(#clip550)\" d=\"M227.037 1517.37 Q223.425 1517.37 221.597 1520.93 Q219.791 1524.47 219.791 1531.6 Q219.791 1538.71 221.597 1542.27 Q223.425 1545.82 227.037 1545.82 Q230.671 1545.82 232.476 1542.27 Q234.305 1538.71 234.305 1531.6 Q234.305 1524.47 232.476 1520.93 Q230.671 1517.37 227.037 1517.37 M227.037 1513.66 Q232.847 1513.66 235.902 1518.27 Q238.981 1522.85 238.981 1531.6 Q238.981 1540.33 235.902 1544.94 Q232.847 1549.52 227.037 1549.52 Q221.226 1549.52 218.148 1544.94 Q215.092 1540.33 215.092 1531.6 Q215.092 1522.85 218.148 1518.27 Q221.226 1513.66 227.037 1513.66 Z\" fill=\"#000000\" fill-rule=\"evenodd\" fill-opacity=\"1\" /><path clip-path=\"url(#clip550)\" d=\"M248.009 1544.91 L255.647 1544.91 L255.647 1518.55 L247.337 1520.21 L247.337 1515.95 L255.601 1514.29 L260.277 1514.29 L260.277 1544.91 L267.916 1544.91 L267.916 1548.85 L248.009 1548.85 L248.009 1544.91 Z\" fill=\"#000000\" fill-rule=\"evenodd\" fill-opacity=\"1\" /><path clip-path=\"url(#clip550)\" d=\"M274.606 1533.96 L287.083 1533.96 L287.083 1537.76 L274.606 1537.76 L274.606 1533.96 Z\" fill=\"#000000\" fill-rule=\"evenodd\" fill-opacity=\"1\" /><path clip-path=\"url(#clip550)\" d=\"M304.467 1517.37 Q300.856 1517.37 299.027 1520.93 Q297.221 1524.47 297.221 1531.6 Q297.221 1538.71 299.027 1542.27 Q300.856 1545.82 304.467 1545.82 Q308.101 1545.82 309.906 1542.27 Q311.735 1538.71 311.735 1531.6 Q311.735 1524.47 309.906 1520.93 Q308.101 1517.37 304.467 1517.37 M304.467 1513.66 Q310.277 1513.66 313.332 1518.27 Q316.411 1522.85 316.411 1531.6 Q316.411 1540.33 313.332 1544.94 Q310.277 1549.52 304.467 1549.52 Q298.657 1549.52 295.578 1544.94 Q292.522 1540.33 292.522 1531.6 Q292.522 1522.85 295.578 1518.27 Q298.657 1513.66 304.467 1513.66 Z\" fill=\"#000000\" fill-rule=\"evenodd\" fill-opacity=\"1\" /><path clip-path=\"url(#clip550)\" d=\"M325.439 1544.91 L333.078 1544.91 L333.078 1518.55 L324.767 1520.21 L324.767 1515.95 L333.031 1514.29 L337.707 1514.29 L337.707 1544.91 L345.346 1544.91 L345.346 1548.85 L325.439 1548.85 L325.439 1544.91 Z\" fill=\"#000000\" fill-rule=\"evenodd\" fill-opacity=\"1\" /><path clip-path=\"url(#clip550)\" d=\"M669.494 1544.91 L685.813 1544.91 L685.813 1548.85 L663.869 1548.85 L663.869 1544.91 Q666.531 1542.16 671.114 1537.53 Q675.72 1532.88 676.901 1531.53 Q679.146 1529.01 680.026 1527.27 Q680.929 1525.51 680.929 1523.82 Q680.929 1521.07 678.984 1519.33 Q677.063 1517.6 673.961 1517.6 Q671.762 1517.6 669.308 1518.36 Q666.878 1519.13 664.1 1520.68 L664.1 1515.95 Q666.924 1514.82 669.378 1514.24 Q671.832 1513.66 673.869 1513.66 Q679.239 1513.66 682.433 1516.35 Q685.628 1519.03 685.628 1523.52 Q685.628 1525.65 684.818 1527.57 Q684.031 1529.47 681.924 1532.07 Q681.345 1532.74 678.244 1535.95 Q675.142 1539.15 669.494 1544.91 Z\" fill=\"#000000\" fill-rule=\"evenodd\" fill-opacity=\"1\" /><path clip-path=\"url(#clip550)\" d=\"M705.628 1517.37 Q702.017 1517.37 700.188 1520.93 Q698.382 1524.47 698.382 1531.6 Q698.382 1538.71 700.188 1542.27 Q702.017 1545.82 705.628 1545.82 Q709.262 1545.82 711.067 1542.27 Q712.896 1538.71 712.896 1531.6 Q712.896 1524.47 711.067 1520.93 Q709.262 1517.37 705.628 1517.37 M705.628 1513.66 Q711.438 1513.66 714.493 1518.27 Q717.572 1522.85 717.572 1531.6 Q717.572 1540.33 714.493 1544.94 Q711.438 1549.52 705.628 1549.52 Q699.818 1549.52 696.739 1544.94 Q693.683 1540.33 693.683 1531.6 Q693.683 1522.85 696.739 1518.27 Q699.818 1513.66 705.628 1513.66 Z\" fill=\"#000000\" fill-rule=\"evenodd\" fill-opacity=\"1\" /><path clip-path=\"url(#clip550)\" d=\"M735.79 1517.37 Q732.178 1517.37 730.35 1520.93 Q728.544 1524.47 728.544 1531.6 Q728.544 1538.71 730.35 1542.27 Q732.178 1545.82 735.79 1545.82 Q739.424 1545.82 741.229 1542.27 Q743.058 1538.71 743.058 1531.6 Q743.058 1524.47 741.229 1520.93 Q739.424 1517.37 735.79 1517.37 M735.79 1513.66 Q741.6 1513.66 744.655 1518.27 Q747.734 1522.85 747.734 1531.6 Q747.734 1540.33 744.655 1544.94 Q741.6 1549.52 735.79 1549.52 Q729.979 1549.52 726.901 1544.94 Q723.845 1540.33 723.845 1531.6 Q723.845 1522.85 726.901 1518.27 Q729.979 1513.66 735.79 1513.66 Z\" fill=\"#000000\" fill-rule=\"evenodd\" fill-opacity=\"1\" /><path clip-path=\"url(#clip550)\" d=\"M756.09 1548.13 L756.09 1543.87 Q757.85 1544.7 759.655 1545.14 Q761.461 1545.58 763.197 1545.58 Q767.826 1545.58 770.257 1542.48 Q772.711 1539.36 773.058 1533.01 Q771.715 1535.01 769.655 1536.07 Q767.595 1537.13 765.095 1537.13 Q759.91 1537.13 756.877 1534.01 Q753.868 1530.86 753.868 1525.42 Q753.868 1520.1 757.016 1516.88 Q760.164 1513.66 765.396 1513.66 Q771.391 1513.66 774.539 1518.27 Q777.711 1522.85 777.711 1531.6 Q777.711 1539.77 773.822 1544.66 Q769.956 1549.52 763.405 1549.52 Q761.646 1549.52 759.84 1549.17 Q758.035 1548.82 756.09 1548.13 M765.396 1533.48 Q768.544 1533.48 770.373 1531.32 Q772.225 1529.17 772.225 1525.42 Q772.225 1521.7 770.373 1519.54 Q768.544 1517.37 765.396 1517.37 Q762.248 1517.37 760.396 1519.54 Q758.567 1521.7 758.567 1525.42 Q758.567 1529.17 760.396 1531.32 Q762.248 1533.48 765.396 1533.48 Z\" fill=\"#000000\" fill-rule=\"evenodd\" fill-opacity=\"1\" /><path clip-path=\"url(#clip550)\" d=\"M783.359 1533.96 L795.836 1533.96 L795.836 1537.76 L783.359 1537.76 L783.359 1533.96 Z\" fill=\"#000000\" fill-rule=\"evenodd\" fill-opacity=\"1\" /><path clip-path=\"url(#clip550)\" d=\"M813.22 1517.37 Q809.609 1517.37 807.78 1520.93 Q805.974 1524.47 805.974 1531.6 Q805.974 1538.71 807.78 1542.27 Q809.609 1545.82 813.22 1545.82 Q816.854 1545.82 818.659 1542.27 Q820.488 1538.71 820.488 1531.6 Q820.488 1524.47 818.659 1520.93 Q816.854 1517.37 813.22 1517.37 M813.22 1513.66 Q819.03 1513.66 822.085 1518.27 Q825.164 1522.85 825.164 1531.6 Q825.164 1540.33 822.085 1544.94 Q819.03 1549.52 813.22 1549.52 Q807.41 1549.52 804.331 1544.94 Q801.275 1540.33 801.275 1531.6 Q801.275 1522.85 804.331 1518.27 Q807.41 1513.66 813.22 1513.66 Z\" fill=\"#000000\" fill-rule=\"evenodd\" fill-opacity=\"1\" /><path clip-path=\"url(#clip550)\" d=\"M834.192 1544.91 L841.831 1544.91 L841.831 1518.55 L833.521 1520.21 L833.521 1515.95 L841.784 1514.29 L846.46 1514.29 L846.46 1544.91 L854.099 1544.91 L854.099 1548.85 L834.192 1548.85 L834.192 1544.91 Z\" fill=\"#000000\" fill-rule=\"evenodd\" fill-opacity=\"1\" /><path clip-path=\"url(#clip550)\" d=\"M860.789 1533.96 L873.266 1533.96 L873.266 1537.76 L860.789 1537.76 L860.789 1533.96 Z\" fill=\"#000000\" fill-rule=\"evenodd\" fill-opacity=\"1\" /><path clip-path=\"url(#clip550)\" d=\"M890.65 1517.37 Q887.039 1517.37 885.21 1520.93 Q883.404 1524.47 883.404 1531.6 Q883.404 1538.71 885.21 1542.27 Q887.039 1545.82 890.65 1545.82 Q894.284 1545.82 896.09 1542.27 Q897.918 1538.71 897.918 1531.6 Q897.918 1524.47 896.09 1520.93 Q894.284 1517.37 890.65 1517.37 M890.65 1513.66 Q896.46 1513.66 899.516 1518.27 Q902.594 1522.85 902.594 1531.6 Q902.594 1540.33 899.516 1544.94 Q896.46 1549.52 890.65 1549.52 Q884.84 1549.52 881.761 1544.94 Q878.705 1540.33 878.705 1531.6 Q878.705 1522.85 881.761 1518.27 Q884.84 1513.66 890.65 1513.66 Z\" fill=\"#000000\" fill-rule=\"evenodd\" fill-opacity=\"1\" /><path clip-path=\"url(#clip550)\" d=\"M911.622 1544.91 L919.261 1544.91 L919.261 1518.55 L910.951 1520.21 L910.951 1515.95 L919.214 1514.29 L923.89 1514.29 L923.89 1544.91 L931.529 1544.91 L931.529 1548.85 L911.622 1548.85 L911.622 1544.91 Z\" fill=\"#000000\" fill-rule=\"evenodd\" fill-opacity=\"1\" /><path clip-path=\"url(#clip550)\" d=\"M1255.36 1544.91 L1271.68 1544.91 L1271.68 1548.85 L1249.73 1548.85 L1249.73 1544.91 Q1252.39 1542.16 1256.98 1537.53 Q1261.58 1532.88 1262.76 1531.53 Q1265.01 1529.01 1265.89 1527.27 Q1266.79 1525.51 1266.79 1523.82 Q1266.79 1521.07 1264.85 1519.33 Q1262.93 1517.6 1259.82 1517.6 Q1257.62 1517.6 1255.17 1518.36 Q1252.74 1519.13 1249.96 1520.68 L1249.96 1515.95 Q1252.79 1514.82 1255.24 1514.24 Q1257.69 1513.66 1259.73 1513.66 Q1265.1 1513.66 1268.3 1516.35 Q1271.49 1519.03 1271.49 1523.52 Q1271.49 1525.65 1270.68 1527.57 Q1269.89 1529.47 1267.79 1532.07 Q1267.21 1532.74 1264.11 1535.95 Q1261 1539.15 1255.36 1544.91 Z\" fill=\"#000000\" fill-rule=\"evenodd\" fill-opacity=\"1\" /><path clip-path=\"url(#clip550)\" d=\"M1291.49 1517.37 Q1287.88 1517.37 1286.05 1520.93 Q1284.24 1524.47 1284.24 1531.6 Q1284.24 1538.71 1286.05 1542.27 Q1287.88 1545.82 1291.49 1545.82 Q1295.12 1545.82 1296.93 1542.27 Q1298.76 1538.71 1298.76 1531.6 Q1298.76 1524.47 1296.93 1520.93 Q1295.12 1517.37 1291.49 1517.37 M1291.49 1513.66 Q1297.3 1513.66 1300.36 1518.27 Q1303.43 1522.85 1303.43 1531.6 Q1303.43 1540.33 1300.36 1544.94 Q1297.3 1549.52 1291.49 1549.52 Q1285.68 1549.52 1282.6 1544.94 Q1279.55 1540.33 1279.55 1531.6 Q1279.55 1522.85 1282.6 1518.27 Q1285.68 1513.66 1291.49 1513.66 Z\" fill=\"#000000\" fill-rule=\"evenodd\" fill-opacity=\"1\" /><path clip-path=\"url(#clip550)\" d=\"M1312.46 1544.91 L1320.1 1544.91 L1320.1 1518.55 L1311.79 1520.21 L1311.79 1515.95 L1320.05 1514.29 L1324.73 1514.29 L1324.73 1544.91 L1332.37 1544.91 L1332.37 1548.85 L1312.46 1548.85 L1312.46 1544.91 Z\" fill=\"#000000\" fill-rule=\"evenodd\" fill-opacity=\"1\" /><path clip-path=\"url(#clip550)\" d=\"M1354.66 1518.36 L1342.86 1536.81 L1354.66 1536.81 L1354.66 1518.36 M1353.43 1514.29 L1359.31 1514.29 L1359.31 1536.81 L1364.24 1536.81 L1364.24 1540.7 L1359.31 1540.7 L1359.31 1548.85 L1354.66 1548.85 L1354.66 1540.7 L1339.06 1540.7 L1339.06 1536.19 L1353.43 1514.29 Z\" fill=\"#000000\" fill-rule=\"evenodd\" fill-opacity=\"1\" /><path clip-path=\"url(#clip550)\" d=\"M1369.22 1533.96 L1381.7 1533.96 L1381.7 1537.76 L1369.22 1537.76 L1369.22 1533.96 Z\" fill=\"#000000\" fill-rule=\"evenodd\" fill-opacity=\"1\" /><path clip-path=\"url(#clip550)\" d=\"M1399.08 1517.37 Q1395.47 1517.37 1393.64 1520.93 Q1391.84 1524.47 1391.84 1531.6 Q1391.84 1538.71 1393.64 1542.27 Q1395.47 1545.82 1399.08 1545.82 Q1402.72 1545.82 1404.52 1542.27 Q1406.35 1538.71 1406.35 1531.6 Q1406.35 1524.47 1404.52 1520.93 Q1402.72 1517.37 1399.08 1517.37 M1399.08 1513.66 Q1404.89 1513.66 1407.95 1518.27 Q1411.03 1522.85 1411.03 1531.6 Q1411.03 1540.33 1407.95 1544.94 Q1404.89 1549.52 1399.08 1549.52 Q1393.27 1549.52 1390.19 1544.94 Q1387.14 1540.33 1387.14 1531.6 Q1387.14 1522.85 1390.19 1518.27 Q1393.27 1513.66 1399.08 1513.66 Z\" fill=\"#000000\" fill-rule=\"evenodd\" fill-opacity=\"1\" /><path clip-path=\"url(#clip550)\" d=\"M1420.05 1544.91 L1427.69 1544.91 L1427.69 1518.55 L1419.38 1520.21 L1419.38 1515.95 L1427.65 1514.29 L1432.32 1514.29 L1432.32 1544.91 L1439.96 1544.91 L1439.96 1548.85 L1420.05 1548.85 L1420.05 1544.91 Z\" fill=\"#000000\" fill-rule=\"evenodd\" fill-opacity=\"1\" /><path clip-path=\"url(#clip550)\" d=\"M1446.65 1533.96 L1459.13 1533.96 L1459.13 1537.76 L1446.65 1537.76 L1446.65 1533.96 Z\" fill=\"#000000\" fill-rule=\"evenodd\" fill-opacity=\"1\" /><path clip-path=\"url(#clip550)\" d=\"M1476.51 1517.37 Q1472.9 1517.37 1471.07 1520.93 Q1469.27 1524.47 1469.27 1531.6 Q1469.27 1538.71 1471.07 1542.27 Q1472.9 1545.82 1476.51 1545.82 Q1480.15 1545.82 1481.95 1542.27 Q1483.78 1538.71 1483.78 1531.6 Q1483.78 1524.47 1481.95 1520.93 Q1480.15 1517.37 1476.51 1517.37 M1476.51 1513.66 Q1482.32 1513.66 1485.38 1518.27 Q1488.46 1522.85 1488.46 1531.6 Q1488.46 1540.33 1485.38 1544.94 Q1482.32 1549.52 1476.51 1549.52 Q1470.7 1549.52 1467.62 1544.94 Q1464.57 1540.33 1464.57 1531.6 Q1464.57 1522.85 1467.62 1518.27 Q1470.7 1513.66 1476.51 1513.66 Z\" fill=\"#000000\" fill-rule=\"evenodd\" fill-opacity=\"1\" /><path clip-path=\"url(#clip550)\" d=\"M1497.48 1544.91 L1505.12 1544.91 L1505.12 1518.55 L1496.81 1520.21 L1496.81 1515.95 L1505.08 1514.29 L1509.75 1514.29 L1509.75 1544.91 L1517.39 1544.91 L1517.39 1548.85 L1497.48 1548.85 L1497.48 1544.91 Z\" fill=\"#000000\" fill-rule=\"evenodd\" fill-opacity=\"1\" /><path clip-path=\"url(#clip550)\" d=\"M1841.22 1544.91 L1857.54 1544.91 L1857.54 1548.85 L1835.59 1548.85 L1835.59 1544.91 Q1838.26 1542.16 1842.84 1537.53 Q1847.45 1532.88 1848.63 1531.53 Q1850.87 1529.01 1851.75 1527.27 Q1852.65 1525.51 1852.65 1523.82 Q1852.65 1521.07 1850.71 1519.33 Q1848.79 1517.6 1845.69 1517.6 Q1843.49 1517.6 1841.03 1518.36 Q1838.6 1519.13 1835.82 1520.68 L1835.82 1515.95 Q1838.65 1514.82 1841.1 1514.24 Q1843.56 1513.66 1845.59 1513.66 Q1850.96 1513.66 1854.16 1516.35 Q1857.35 1519.03 1857.35 1523.52 Q1857.35 1525.65 1856.54 1527.57 Q1855.76 1529.47 1853.65 1532.07 Q1853.07 1532.74 1849.97 1535.95 Q1846.87 1539.15 1841.22 1544.91 Z\" fill=\"#000000\" fill-rule=\"evenodd\" fill-opacity=\"1\" /><path clip-path=\"url(#clip550)\" d=\"M1877.35 1517.37 Q1873.74 1517.37 1871.91 1520.93 Q1870.11 1524.47 1870.11 1531.6 Q1870.11 1538.71 1871.91 1542.27 Q1873.74 1545.82 1877.35 1545.82 Q1880.99 1545.82 1882.79 1542.27 Q1884.62 1538.71 1884.62 1531.6 Q1884.62 1524.47 1882.79 1520.93 Q1880.99 1517.37 1877.35 1517.37 M1877.35 1513.66 Q1883.16 1513.66 1886.22 1518.27 Q1889.3 1522.85 1889.3 1531.6 Q1889.3 1540.33 1886.22 1544.94 Q1883.16 1549.52 1877.35 1549.52 Q1871.54 1549.52 1868.46 1544.94 Q1865.41 1540.33 1865.41 1531.6 Q1865.41 1522.85 1868.46 1518.27 Q1871.54 1513.66 1877.35 1513.66 Z\" fill=\"#000000\" fill-rule=\"evenodd\" fill-opacity=\"1\" /><path clip-path=\"url(#clip550)\" d=\"M1898.32 1544.91 L1905.96 1544.91 L1905.96 1518.55 L1897.65 1520.21 L1897.65 1515.95 L1905.92 1514.29 L1910.59 1514.29 L1910.59 1544.91 L1918.23 1544.91 L1918.23 1548.85 L1898.32 1548.85 L1898.32 1544.91 Z\" fill=\"#000000\" fill-rule=\"evenodd\" fill-opacity=\"1\" /><path clip-path=\"url(#clip550)\" d=\"M1927.81 1548.13 L1927.81 1543.87 Q1929.57 1544.7 1931.38 1545.14 Q1933.19 1545.58 1934.92 1545.58 Q1939.55 1545.58 1941.98 1542.48 Q1944.44 1539.36 1944.78 1533.01 Q1943.44 1535.01 1941.38 1536.07 Q1939.32 1537.13 1936.82 1537.13 Q1931.63 1537.13 1928.6 1534.01 Q1925.59 1530.86 1925.59 1525.42 Q1925.59 1520.1 1928.74 1516.88 Q1931.89 1513.66 1937.12 1513.66 Q1943.12 1513.66 1946.26 1518.27 Q1949.44 1522.85 1949.44 1531.6 Q1949.44 1539.77 1945.55 1544.66 Q1941.68 1549.52 1935.13 1549.52 Q1933.37 1549.52 1931.56 1549.17 Q1929.76 1548.82 1927.81 1548.13 M1937.12 1533.48 Q1940.27 1533.48 1942.1 1531.32 Q1943.95 1529.17 1943.95 1525.42 Q1943.95 1521.7 1942.1 1519.54 Q1940.27 1517.37 1937.12 1517.37 Q1933.97 1517.37 1932.12 1519.54 Q1930.29 1521.7 1930.29 1525.42 Q1930.29 1529.17 1932.12 1531.32 Q1933.97 1533.48 1937.12 1533.48 Z\" fill=\"#000000\" fill-rule=\"evenodd\" fill-opacity=\"1\" /><path clip-path=\"url(#clip550)\" d=\"M1955.08 1533.96 L1967.56 1533.96 L1967.56 1537.76 L1955.08 1537.76 L1955.08 1533.96 Z\" fill=\"#000000\" fill-rule=\"evenodd\" fill-opacity=\"1\" /><path clip-path=\"url(#clip550)\" d=\"M1984.94 1517.37 Q1981.33 1517.37 1979.5 1520.93 Q1977.7 1524.47 1977.7 1531.6 Q1977.7 1538.71 1979.5 1542.27 Q1981.33 1545.82 1984.94 1545.82 Q1988.58 1545.82 1990.38 1542.27 Q1992.21 1538.71 1992.21 1531.6 Q1992.21 1524.47 1990.38 1520.93 Q1988.58 1517.37 1984.94 1517.37 M1984.94 1513.66 Q1990.75 1513.66 1993.81 1518.27 Q1996.89 1522.85 1996.89 1531.6 Q1996.89 1540.33 1993.81 1544.94 Q1990.75 1549.52 1984.94 1549.52 Q1979.13 1549.52 1976.06 1544.94 Q1973 1540.33 1973 1531.6 Q1973 1522.85 1976.06 1518.27 Q1979.13 1513.66 1984.94 1513.66 Z\" fill=\"#000000\" fill-rule=\"evenodd\" fill-opacity=\"1\" /><path clip-path=\"url(#clip550)\" d=\"M2005.92 1544.91 L2013.56 1544.91 L2013.56 1518.55 L2005.25 1520.21 L2005.25 1515.95 L2013.51 1514.29 L2018.18 1514.29 L2018.18 1544.91 L2025.82 1544.91 L2025.82 1548.85 L2005.92 1548.85 L2005.92 1544.91 Z\" fill=\"#000000\" fill-rule=\"evenodd\" fill-opacity=\"1\" /><path clip-path=\"url(#clip550)\" d=\"M2032.51 1533.96 L2044.99 1533.96 L2044.99 1537.76 L2032.51 1537.76 L2032.51 1533.96 Z\" fill=\"#000000\" fill-rule=\"evenodd\" fill-opacity=\"1\" /><path clip-path=\"url(#clip550)\" d=\"M2062.37 1517.37 Q2058.76 1517.37 2056.93 1520.93 Q2055.13 1524.47 2055.13 1531.6 Q2055.13 1538.71 2056.93 1542.27 Q2058.76 1545.82 2062.37 1545.82 Q2066.01 1545.82 2067.81 1542.27 Q2069.64 1538.71 2069.64 1531.6 Q2069.64 1524.47 2067.81 1520.93 Q2066.01 1517.37 2062.37 1517.37 M2062.37 1513.66 Q2068.18 1513.66 2071.24 1518.27 Q2074.32 1522.85 2074.32 1531.6 Q2074.32 1540.33 2071.24 1544.94 Q2068.18 1549.52 2062.37 1549.52 Q2056.56 1549.52 2053.49 1544.94 Q2050.43 1540.33 2050.43 1531.6 Q2050.43 1522.85 2053.49 1518.27 Q2056.56 1513.66 2062.37 1513.66 Z\" fill=\"#000000\" fill-rule=\"evenodd\" fill-opacity=\"1\" /><path clip-path=\"url(#clip550)\" d=\"M2083.35 1544.91 L2090.99 1544.91 L2090.99 1518.55 L2082.68 1520.21 L2082.68 1515.95 L2090.94 1514.29 L2095.62 1514.29 L2095.62 1544.91 L2103.25 1544.91 L2103.25 1548.85 L2083.35 1548.85 L2083.35 1544.91 Z\" fill=\"#000000\" fill-rule=\"evenodd\" fill-opacity=\"1\" /><polyline clip-path=\"url(#clip552)\" style=\"stroke:#000000; stroke-linecap:butt; stroke-linejoin:round; stroke-width:2; stroke-opacity:0.1; fill:none\" points=\"\n  178.867,1398.89 2352.76,1398.89 \n  \"/>\n<polyline clip-path=\"url(#clip552)\" style=\"stroke:#000000; stroke-linecap:butt; stroke-linejoin:round; stroke-width:2; stroke-opacity:0.1; fill:none\" points=\"\n  178.867,1201.33 2352.76,1201.33 \n  \"/>\n<polyline clip-path=\"url(#clip552)\" style=\"stroke:#000000; stroke-linecap:butt; stroke-linejoin:round; stroke-width:2; stroke-opacity:0.1; fill:none\" points=\"\n  178.867,1003.78 2352.76,1003.78 \n  \"/>\n<polyline clip-path=\"url(#clip552)\" style=\"stroke:#000000; stroke-linecap:butt; stroke-linejoin:round; stroke-width:2; stroke-opacity:0.1; fill:none\" points=\"\n  178.867,806.231 2352.76,806.231 \n  \"/>\n<polyline clip-path=\"url(#clip552)\" style=\"stroke:#000000; stroke-linecap:butt; stroke-linejoin:round; stroke-width:2; stroke-opacity:0.1; fill:none\" points=\"\n  178.867,608.679 2352.76,608.679 \n  \"/>\n<polyline clip-path=\"url(#clip552)\" style=\"stroke:#000000; stroke-linecap:butt; stroke-linejoin:round; stroke-width:2; stroke-opacity:0.1; fill:none\" points=\"\n  178.867,411.128 2352.76,411.128 \n  \"/>\n<polyline clip-path=\"url(#clip552)\" style=\"stroke:#000000; stroke-linecap:butt; stroke-linejoin:round; stroke-width:2; stroke-opacity:0.1; fill:none\" points=\"\n  178.867,213.576 2352.76,213.576 \n  \"/>\n<polyline clip-path=\"url(#clip550)\" style=\"stroke:#000000; stroke-linecap:butt; stroke-linejoin:round; stroke-width:4; stroke-opacity:1; fill:none\" points=\"\n  178.867,1486.45 178.867,47.2441 \n  \"/>\n<polyline clip-path=\"url(#clip550)\" style=\"stroke:#000000; stroke-linecap:butt; stroke-linejoin:round; stroke-width:4; stroke-opacity:1; fill:none\" points=\"\n  178.867,1398.89 197.764,1398.89 \n  \"/>\n<polyline clip-path=\"url(#clip550)\" style=\"stroke:#000000; stroke-linecap:butt; stroke-linejoin:round; stroke-width:4; stroke-opacity:1; fill:none\" points=\"\n  178.867,1201.33 197.764,1201.33 \n  \"/>\n<polyline clip-path=\"url(#clip550)\" style=\"stroke:#000000; stroke-linecap:butt; stroke-linejoin:round; stroke-width:4; stroke-opacity:1; fill:none\" points=\"\n  178.867,1003.78 197.764,1003.78 \n  \"/>\n<polyline clip-path=\"url(#clip550)\" style=\"stroke:#000000; stroke-linecap:butt; stroke-linejoin:round; stroke-width:4; stroke-opacity:1; fill:none\" points=\"\n  178.867,806.231 197.764,806.231 \n  \"/>\n<polyline clip-path=\"url(#clip550)\" style=\"stroke:#000000; stroke-linecap:butt; stroke-linejoin:round; stroke-width:4; stroke-opacity:1; fill:none\" points=\"\n  178.867,608.679 197.764,608.679 \n  \"/>\n<polyline clip-path=\"url(#clip550)\" style=\"stroke:#000000; stroke-linecap:butt; stroke-linejoin:round; stroke-width:4; stroke-opacity:1; fill:none\" points=\"\n  178.867,411.128 197.764,411.128 \n  \"/>\n<polyline clip-path=\"url(#clip550)\" style=\"stroke:#000000; stroke-linecap:butt; stroke-linejoin:round; stroke-width:4; stroke-opacity:1; fill:none\" points=\"\n  178.867,213.576 197.764,213.576 \n  \"/>\n<path clip-path=\"url(#clip550)\" d=\"M51.9875 1399.34 L81.6633 1399.34 L81.6633 1403.27 L51.9875 1403.27 L51.9875 1399.34 Z\" fill=\"#000000\" fill-rule=\"evenodd\" fill-opacity=\"1\" /><path clip-path=\"url(#clip550)\" d=\"M92.566 1412.23 L100.205 1412.23 L100.205 1385.86 L91.8947 1387.53 L91.8947 1383.27 L100.159 1381.61 L104.834 1381.61 L104.834 1412.23 L112.473 1412.23 L112.473 1416.17 L92.566 1416.17 L92.566 1412.23 Z\" fill=\"#000000\" fill-rule=\"evenodd\" fill-opacity=\"1\" /><path clip-path=\"url(#clip550)\" d=\"M121.964 1381.61 L140.32 1381.61 L140.32 1385.54 L126.246 1385.54 L126.246 1394.01 Q127.265 1393.67 128.283 1393.5 Q129.302 1393.32 130.32 1393.32 Q136.107 1393.32 139.487 1396.49 Q142.867 1399.66 142.867 1405.08 Q142.867 1410.66 139.394 1413.76 Q135.922 1416.84 129.603 1416.84 Q127.427 1416.84 125.158 1416.47 Q122.913 1416.1 120.506 1415.36 L120.506 1410.66 Q122.589 1411.79 124.811 1412.35 Q127.033 1412.9 129.51 1412.9 Q133.515 1412.9 135.853 1410.8 Q138.191 1408.69 138.191 1405.08 Q138.191 1401.47 135.853 1399.36 Q133.515 1397.25 129.51 1397.25 Q127.635 1397.25 125.76 1397.67 Q123.908 1398.09 121.964 1398.97 L121.964 1381.61 Z\" fill=\"#000000\" fill-rule=\"evenodd\" fill-opacity=\"1\" /><path clip-path=\"url(#clip550)\" d=\"M50.9921 1201.79 L80.6679 1201.79 L80.6679 1205.72 L50.9921 1205.72 L50.9921 1201.79 Z\" fill=\"#000000\" fill-rule=\"evenodd\" fill-opacity=\"1\" /><path clip-path=\"url(#clip550)\" d=\"M91.5706 1214.68 L99.2095 1214.68 L99.2095 1188.31 L90.8993 1189.98 L90.8993 1185.72 L99.1632 1184.05 L103.839 1184.05 L103.839 1214.68 L111.478 1214.68 L111.478 1218.61 L91.5706 1218.61 L91.5706 1214.68 Z\" fill=\"#000000\" fill-rule=\"evenodd\" fill-opacity=\"1\" /><path clip-path=\"url(#clip550)\" d=\"M130.922 1187.13 Q127.311 1187.13 125.482 1190.7 Q123.677 1194.24 123.677 1201.37 Q123.677 1208.48 125.482 1212.04 Q127.311 1215.58 130.922 1215.58 Q134.556 1215.58 136.362 1212.04 Q138.191 1208.48 138.191 1201.37 Q138.191 1194.24 136.362 1190.7 Q134.556 1187.13 130.922 1187.13 M130.922 1183.43 Q136.732 1183.43 139.788 1188.04 Q142.867 1192.62 142.867 1201.37 Q142.867 1210.1 139.788 1214.7 Q136.732 1219.29 130.922 1219.29 Q125.112 1219.29 122.033 1214.7 Q118.978 1210.1 118.978 1201.37 Q118.978 1192.62 122.033 1188.04 Q125.112 1183.43 130.922 1183.43 Z\" fill=\"#000000\" fill-rule=\"evenodd\" fill-opacity=\"1\" /><path clip-path=\"url(#clip550)\" d=\"M82.1494 1004.23 L111.825 1004.23 L111.825 1008.17 L82.1494 1008.17 L82.1494 1004.23 Z\" fill=\"#000000\" fill-rule=\"evenodd\" fill-opacity=\"1\" /><path clip-path=\"url(#clip550)\" d=\"M121.964 986.502 L140.32 986.502 L140.32 990.438 L126.246 990.438 L126.246 998.91 Q127.265 998.563 128.283 998.4 Q129.302 998.215 130.32 998.215 Q136.107 998.215 139.487 1001.39 Q142.867 1004.56 142.867 1009.97 Q142.867 1015.55 139.394 1018.66 Q135.922 1021.73 129.603 1021.73 Q127.427 1021.73 125.158 1021.36 Q122.913 1020.99 120.506 1020.25 L120.506 1015.55 Q122.589 1016.69 124.811 1017.24 Q127.033 1017.8 129.51 1017.8 Q133.515 1017.8 135.853 1015.69 Q138.191 1013.59 138.191 1009.97 Q138.191 1006.36 135.853 1004.26 Q133.515 1002.15 129.51 1002.15 Q127.635 1002.15 125.76 1002.57 Q123.908 1002.98 121.964 1003.86 L121.964 986.502 Z\" fill=\"#000000\" fill-rule=\"evenodd\" fill-opacity=\"1\" /><path clip-path=\"url(#clip550)\" d=\"M130.922 792.03 Q127.311 792.03 125.482 795.594 Q123.677 799.136 123.677 806.266 Q123.677 813.372 125.482 816.937 Q127.311 820.478 130.922 820.478 Q134.556 820.478 136.362 816.937 Q138.191 813.372 138.191 806.266 Q138.191 799.136 136.362 795.594 Q134.556 792.03 130.922 792.03 M130.922 788.326 Q136.732 788.326 139.788 792.932 Q142.867 797.516 142.867 806.266 Q142.867 814.992 139.788 819.599 Q136.732 824.182 130.922 824.182 Q125.112 824.182 122.033 819.599 Q118.978 814.992 118.978 806.266 Q118.978 797.516 122.033 792.932 Q125.112 788.326 130.922 788.326 Z\" fill=\"#000000\" fill-rule=\"evenodd\" fill-opacity=\"1\" /><path clip-path=\"url(#clip550)\" d=\"M121.964 591.399 L140.32 591.399 L140.32 595.335 L126.246 595.335 L126.246 603.807 Q127.265 603.459 128.283 603.297 Q129.302 603.112 130.32 603.112 Q136.107 603.112 139.487 606.284 Q142.867 609.455 142.867 614.871 Q142.867 620.45 139.394 623.552 Q135.922 626.631 129.603 626.631 Q127.427 626.631 125.158 626.26 Q122.913 625.89 120.506 625.149 L120.506 620.45 Q122.589 621.584 124.811 622.14 Q127.033 622.695 129.51 622.695 Q133.515 622.695 135.853 620.589 Q138.191 618.483 138.191 614.871 Q138.191 611.26 135.853 609.154 Q133.515 607.047 129.51 607.047 Q127.635 607.047 125.76 607.464 Q123.908 607.881 121.964 608.76 L121.964 591.399 Z\" fill=\"#000000\" fill-rule=\"evenodd\" fill-opacity=\"1\" /><path clip-path=\"url(#clip550)\" d=\"M91.5706 424.473 L99.2095 424.473 L99.2095 398.107 L90.8993 399.774 L90.8993 395.515 L99.1632 393.848 L103.839 393.848 L103.839 424.473 L111.478 424.473 L111.478 428.408 L91.5706 428.408 L91.5706 424.473 Z\" fill=\"#000000\" fill-rule=\"evenodd\" fill-opacity=\"1\" /><path clip-path=\"url(#clip550)\" d=\"M130.922 396.927 Q127.311 396.927 125.482 400.491 Q123.677 404.033 123.677 411.163 Q123.677 418.269 125.482 421.834 Q127.311 425.375 130.922 425.375 Q134.556 425.375 136.362 421.834 Q138.191 418.269 138.191 411.163 Q138.191 404.033 136.362 400.491 Q134.556 396.927 130.922 396.927 M130.922 393.223 Q136.732 393.223 139.788 397.829 Q142.867 402.413 142.867 411.163 Q142.867 419.889 139.788 424.496 Q136.732 429.079 130.922 429.079 Q125.112 429.079 122.033 424.496 Q118.978 419.889 118.978 411.163 Q118.978 402.413 122.033 397.829 Q125.112 393.223 130.922 393.223 Z\" fill=\"#000000\" fill-rule=\"evenodd\" fill-opacity=\"1\" /><path clip-path=\"url(#clip550)\" d=\"M92.566 226.921 L100.205 226.921 L100.205 200.556 L91.8947 202.222 L91.8947 197.963 L100.159 196.296 L104.834 196.296 L104.834 226.921 L112.473 226.921 L112.473 230.856 L92.566 230.856 L92.566 226.921 Z\" fill=\"#000000\" fill-rule=\"evenodd\" fill-opacity=\"1\" /><path clip-path=\"url(#clip550)\" d=\"M121.964 196.296 L140.32 196.296 L140.32 200.231 L126.246 200.231 L126.246 208.704 Q127.265 208.356 128.283 208.194 Q129.302 208.009 130.32 208.009 Q136.107 208.009 139.487 211.181 Q142.867 214.352 142.867 219.768 Q142.867 225.347 139.394 228.449 Q135.922 231.528 129.603 231.528 Q127.427 231.528 125.158 231.157 Q122.913 230.787 120.506 230.046 L120.506 225.347 Q122.589 226.481 124.811 227.037 Q127.033 227.592 129.51 227.592 Q133.515 227.592 135.853 225.486 Q138.191 223.38 138.191 219.768 Q138.191 216.157 135.853 214.051 Q133.515 211.944 129.51 211.944 Q127.635 211.944 125.76 212.361 Q123.908 212.778 121.964 213.657 L121.964 196.296 Z\" fill=\"#000000\" fill-rule=\"evenodd\" fill-opacity=\"1\" /><polyline clip-path=\"url(#clip552)\" style=\"stroke:#009af9; stroke-linecap:butt; stroke-linejoin:round; stroke-width:8; stroke-opacity:0.7; fill:none\" points=\"\n  357.5,339.078 386.697,432.428 416.215,362.512 445.732,400.048 474.608,400.445 503.805,303.509 533.323,318.341 562.841,209.784 591.717,225.222 620.914,262.365 \n  650.431,289.886 679.949,416.351 709.146,317.269 738.343,358.171 767.86,333.411 797.378,481.249 826.254,549.229 855.451,659.682 884.969,688.344 914.486,548.242 \n  943.362,536.548 972.559,424.22 1002.08,472.141 1031.59,503.552 1060.47,487.235 1089.67,501.595 1119.19,459.932 1148.7,371.202 1177.9,435.339 1207.1,418.344 \n  1236.61,441.77 1266.13,503.598 1295.01,460.113 1324.2,441.444 1353.72,430.84 1383.24,480.519 1412.12,492.67 1441.31,567.636 1470.83,610.305 1500.35,599.342 \n  1529.22,576.387 1558.42,596.093 1587.94,549.41 1617.46,476.115 1646.65,552.345 1675.85,554.435 1705.37,571.704 1734.89,652.604 1763.76,612.818 1792.96,572.73 \n  1822.48,594.479 1851.99,532.604 1880.87,579.707 1910.07,591.49 1939.59,521.753 1969.1,578.668 1997.98,640.832 2027.18,556.851 2056.69,650.208 2086.21,672.829 \n  2115.41,693.822 2144.6,1445.72 2174.12,1124.27 2203.64,860.434 2232.52,762.358 2261.71,146.292 2291.23,364.96 \n  \"/>\n<polyline clip-path=\"url(#clip552)\" style=\"stroke:#000000; stroke-linecap:butt; stroke-linejoin:round; stroke-width:8; stroke-opacity:1; fill:none\" stroke-dasharray=\"32, 20\" points=\"\n  357.5,310.34 386.697,414.174 416.215,336.637 445.732,378.435 474.608,378.875 503.805,270.125 533.323,286.939 562.841,162.411 591.717,180.329 620.914,223.155 \n  650.431,254.628 679.949,396.466 709.146,285.725 738.343,331.777 767.86,303.957 797.378,467.51 826.254,540.686 855.451,656.93 884.969,686.568 914.486,539.633 \n  943.362,527.131 972.559,405.143 1002.08,457.61 1031.59,491.656 1060.47,474.004 1089.67,489.543 1119.19,444.303 1148.7,346.349 1177.9,417.373 1207.1,398.665 \n  1236.61,424.431 1266.13,491.706 1295.01,444.501 1324.2,424.074 1353.72,412.428 1383.24,466.716 1412.12,479.891 1441.31,560.284 1470.83,605.366 1500.35,593.829 \n  1529.22,569.57 1558.42,590.405 1587.94,540.879 1617.46,461.931 1646.65,544.01 1675.85,546.239 1705.37,564.604 1734.89,649.579 1763.76,608.006 1792.96,565.692 \n  1822.48,588.702 1851.99,522.907 1880.87,573.087 1910.07,585.548 1939.59,511.262 1969.1,571.987 1997.98,637.321 2027.18,548.812 2056.69,647.087 2086.21,670.552 \n  2115.41,692.208 2144.6,1396.65 2174.12,1111.81 2203.64,860.064 2232.52,762.114 2261.71,87.9763 2291.23,339.375 \n  \"/>\n</svg>\n"
     },
     "execution_count": 117,
     "metadata": {},
     "output_type": "execute_result"
    }
   ],
   "source": [
    "plot(date_sa, gdp_growth_quarterly, legend = false, lw = 2, alpha = 0.7) # log method\n",
    "plot!(date_sa, gdp_growth_quarterly_1, legend = false, lw = 2, ls = :dash, color = :black) # formula method"
   ]
  },
  {
   "cell_type": "markdown",
   "metadata": {},
   "source": [
    "For the other formulas you can perform similar calculations. As an exercise you can attempt to use the other formulas to calculate annualised growth rates. "
   ]
  },
  {
   "cell_type": "markdown",
   "metadata": {},
   "source": []
  },
  {
   "cell_type": "markdown",
   "metadata": {},
   "source": []
  }
 ],
 "metadata": {
  "kernelspec": {
   "display_name": "Julia 1.7.0-rc2",
   "language": "julia",
   "name": "julia-1.7"
  },
  "language_info": {
   "file_extension": ".jl",
   "mimetype": "application/julia",
   "name": "julia",
   "version": "1.7.0"
  },
  "orig_nbformat": 4
 },
 "nbformat": 4,
 "nbformat_minor": 2
}
