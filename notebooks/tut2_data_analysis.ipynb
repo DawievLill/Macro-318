{
 "cells": [
  {
   "cell_type": "markdown",
   "metadata": {},
   "source": [
    "# <span style=\"color:#2c061f\"> Macro 318: Tutorial #2 </span>  \n",
    "\n",
    "<br>\n",
    "\n",
    "## <span style=\"color:#374045\"> Data, Stats and Math with Julia </span>\n",
    "\n",
    "\n",
    "#### <span style=\"color:#374045\"> Lecturer: </span> <span style=\"color:#d89216\"> <br> Dawie van Lill (dvanlill@sun.ac.za) </span>"
   ]
  },
  {
   "cell_type": "markdown",
   "metadata": {},
   "source": [
    "# Introduction"
   ]
  },
  {
   "cell_type": "markdown",
   "metadata": {},
   "source": [
    "In this tutorial we will start our discussion with how to work with data in Julia. We will then cover some basic statistics and in the last section move on to some fundamental ideas in mathematics (mostly related to calculus).  \n",
    "\n",
    "Please note that working with data in Julia is going to be different than working with data in Stata. I am just showing basic principles here so that you are aware of them. You do not need to memorise everything in this notebook. It is simply here as a good reference to have if you want to do some useful data work for macroeconomics. \n",
    "\n",
    "If you are more comfortable with Stata for working with data then you can continue on that path. I am simply offering an alternative. \n",
    "\n",
    "In the job market there are a few languages that are used for data analysis. The most popular ones are Stata, R, Python and Julia. At this stage Julia is not the most popular for data work, but it shares similarities with Python. So if you know Julia well, it will be easy to pick up Python. Julia is more popular for work related to numerical / scientific computation, which we will cover in some of the future tutorials. \n",
    "\n",
    "As an aside, you might be wondering why we chose Julia for this course. There are several reasons, but primarily it is because the language is easy to learn and is similar in syntax to Python. It is also blazingly fast!\n",
    "\n",
    "Why not learn Python then? Well, we considered this, but Julia is a just a bit easier to get started with and easier to install for most people. And also, it is super fast! I also believe that it is a language that will be used a lot in economics in the future, with a lot of macroeconomists starting to use it for their modelling purposes. \n",
    "\n",
    "If you are interested in Python as an alternative to Julia you can always contact me and I can refer you to some resources. However, for most students it is more important to get the programming principles right without worrying too much about the language that they are using. "
   ]
  },
  {
   "cell_type": "code",
   "execution_count": 1,
   "metadata": {},
   "outputs": [],
   "source": [
    "import Pkg"
   ]
  },
  {
   "cell_type": "code",
   "execution_count": 26,
   "metadata": {},
   "outputs": [
    {
     "name": "stderr",
     "output_type": "stream",
     "text": [
      "\u001b[32m\u001b[1m   Resolving\u001b[22m\u001b[39m package versions...\n",
      "\u001b[32m\u001b[1m  No Changes\u001b[22m\u001b[39m to `~/.julia/environments/v1.7/Project.toml`\n",
      "\u001b[32m\u001b[1m  No Changes\u001b[22m\u001b[39m to `~/.julia/environments/v1.7/Manifest.toml`\n",
      "\u001b[32m\u001b[1m   Resolving\u001b[22m\u001b[39m package versions...\n",
      "\u001b[32m\u001b[1m  No Changes\u001b[22m\u001b[39m to `~/.julia/environments/v1.7/Project.toml`\n",
      "\u001b[32m\u001b[1m  No Changes\u001b[22m\u001b[39m to `~/.julia/environments/v1.7/Manifest.toml`\n",
      "\u001b[32m\u001b[1m   Resolving\u001b[22m\u001b[39m package versions...\n",
      "\u001b[32m\u001b[1m  No Changes\u001b[22m\u001b[39m to `~/.julia/environments/v1.7/Project.toml`\n",
      "\u001b[32m\u001b[1m  No Changes\u001b[22m\u001b[39m to `~/.julia/environments/v1.7/Manifest.toml`\n",
      "\u001b[32m\u001b[1m   Resolving\u001b[22m\u001b[39m package versions...\n",
      "\u001b[32m\u001b[1m  No Changes\u001b[22m\u001b[39m to `~/.julia/environments/v1.7/Project.toml`\n",
      "\u001b[32m\u001b[1m  No Changes\u001b[22m\u001b[39m to `~/.julia/environments/v1.7/Manifest.toml`\n",
      "\u001b[32m\u001b[1m   Resolving\u001b[22m\u001b[39m package versions...\n",
      "\u001b[32m\u001b[1m  No Changes\u001b[22m\u001b[39m to `~/.julia/environments/v1.7/Project.toml`\n",
      "\u001b[32m\u001b[1m  No Changes\u001b[22m\u001b[39m to `~/.julia/environments/v1.7/Manifest.toml`\n",
      "\u001b[32m\u001b[1m   Resolving\u001b[22m\u001b[39m package versions...\n",
      "\u001b[32m\u001b[1m  No Changes\u001b[22m\u001b[39m to `~/.julia/environments/v1.7/Project.toml`\n",
      "\u001b[32m\u001b[1m  No Changes\u001b[22m\u001b[39m to `~/.julia/environments/v1.7/Manifest.toml`\n",
      "\u001b[32m\u001b[1m   Resolving\u001b[22m\u001b[39m package versions...\n",
      "\u001b[32m\u001b[1m  No Changes\u001b[22m\u001b[39m to `~/.julia/environments/v1.7/Project.toml`\n",
      "\u001b[32m\u001b[1m  No Changes\u001b[22m\u001b[39m to `~/.julia/environments/v1.7/Manifest.toml`\n",
      "\u001b[32m\u001b[1m   Resolving\u001b[22m\u001b[39m package versions...\n",
      "\u001b[32m\u001b[1m  No Changes\u001b[22m\u001b[39m to `~/.julia/environments/v1.7/Project.toml`\n",
      "\u001b[32m\u001b[1m  No Changes\u001b[22m\u001b[39m to `~/.julia/environments/v1.7/Manifest.toml`\n",
      "\u001b[32m\u001b[1m   Resolving\u001b[22m\u001b[39m package versions...\n",
      "\u001b[32m\u001b[1m  No Changes\u001b[22m\u001b[39m to `~/.julia/environments/v1.7/Project.toml`\n",
      "\u001b[32m\u001b[1m  No Changes\u001b[22m\u001b[39m to `~/.julia/environments/v1.7/Manifest.toml`\n",
      "\u001b[32m\u001b[1m   Resolving\u001b[22m\u001b[39m package versions...\n",
      "\u001b[32m\u001b[1m  No Changes\u001b[22m\u001b[39m to `~/.julia/environments/v1.7/Project.toml`\n",
      "\u001b[32m\u001b[1m  No Changes\u001b[22m\u001b[39m to `~/.julia/environments/v1.7/Manifest.toml`\n",
      "\u001b[32m\u001b[1m   Resolving\u001b[22m\u001b[39m package versions...\n",
      "\u001b[32m\u001b[1m  No Changes\u001b[22m\u001b[39m to `~/.julia/environments/v1.7/Project.toml`\n",
      "\u001b[32m\u001b[1m  No Changes\u001b[22m\u001b[39m to `~/.julia/environments/v1.7/Manifest.toml`\n",
      "\u001b[32m\u001b[1m   Resolving\u001b[22m\u001b[39m package versions...\n",
      "\u001b[32m\u001b[1m  No Changes\u001b[22m\u001b[39m to `~/.julia/environments/v1.7/Project.toml`\n",
      "\u001b[32m\u001b[1m  No Changes\u001b[22m\u001b[39m to `~/.julia/environments/v1.7/Manifest.toml`\n",
      "\u001b[32m\u001b[1m   Resolving\u001b[22m\u001b[39m package versions...\n",
      "\u001b[32m\u001b[1m  No Changes\u001b[22m\u001b[39m to `~/.julia/environments/v1.7/Project.toml`\n",
      "\u001b[32m\u001b[1m  No Changes\u001b[22m\u001b[39m to `~/.julia/environments/v1.7/Manifest.toml`\n",
      "\u001b[32m\u001b[1m   Resolving\u001b[22m\u001b[39m package versions...\n",
      "\u001b[32m\u001b[1m  No Changes\u001b[22m\u001b[39m to `~/.julia/environments/v1.7/Project.toml`\n",
      "\u001b[32m\u001b[1m  No Changes\u001b[22m\u001b[39m to `~/.julia/environments/v1.7/Manifest.toml`\n",
      "\u001b[32m\u001b[1m   Resolving\u001b[22m\u001b[39m package versions...\n",
      "\u001b[32m\u001b[1m  No Changes\u001b[22m\u001b[39m to `~/.julia/environments/v1.7/Project.toml`\n",
      "\u001b[32m\u001b[1m  No Changes\u001b[22m\u001b[39m to `~/.julia/environments/v1.7/Manifest.toml`\n",
      "\u001b[32m\u001b[1m   Resolving\u001b[22m\u001b[39m package versions...\n",
      "\u001b[32m\u001b[1m  No Changes\u001b[22m\u001b[39m to `~/.julia/environments/v1.7/Project.toml`\n",
      "\u001b[32m\u001b[1m  No Changes\u001b[22m\u001b[39m to `~/.julia/environments/v1.7/Manifest.toml`\n"
     ]
    }
   ],
   "source": [
    "Pkg.add(\"CategoricalArrays\")\n",
    "Pkg.add(\"CSV\")\n",
    "Pkg.add(\"DataFrames\")\n",
    "Pkg.add(\"DataFramesMeta\")\n",
    "Pkg.add(\"Downloads\")\n",
    "Pkg.add(\"ForwardDiff\")\n",
    "Pkg.add(\"GLM\")\n",
    "Pkg.add(\"LinearAlgebra\")\n",
    "Pkg.add(\"Plots\")\n",
    "Pkg.add(\"Random\")\n",
    "Pkg.add(\"RDatasets\")\n",
    "Pkg.add(\"Roots\")\n",
    "Pkg.add(\"ShiftedArrays\")\n",
    "Pkg.add(\"Statistics\")\n",
    "Pkg.add(\"Symbolics\")\n",
    "Pkg.add(\"Zygote\")"
   ]
  },
  {
   "cell_type": "code",
   "execution_count": 27,
   "metadata": {},
   "outputs": [],
   "source": [
    "using CategoricalArrays\n",
    "using CSV\n",
    "using DataFrames\n",
    "using DataFramesMeta\n",
    "using Downloads\n",
    "using ForwardDiff\n",
    "using GLM\n",
    "using LinearAlgebra\n",
    "using Plots\n",
    "using Random\n",
    "using RDatasets\n",
    "using Roots\n",
    "using ShiftedArrays\n",
    "using Statistics\n",
    "using Symbolics\n",
    "using Zygote"
   ]
  },
  {
   "cell_type": "markdown",
   "metadata": {},
   "source": [
    "# Working with data"
   ]
  },
  {
   "cell_type": "markdown",
   "metadata": {},
   "source": [
    "The primary package for working with data in Julia is `DataFrames.jl`. For a comprehensive tutorial series on this package I would recommend Bogumił Kamiński's [Introduction to DataFrames](https://github.com/bkamins/Julia-DataFrames-Tutorial)."
   ]
  },
  {
   "cell_type": "markdown",
   "metadata": {},
   "source": [
    "# DataFrames basics"
   ]
  },
  {
   "cell_type": "markdown",
   "metadata": {},
   "source": [
    "In this section we discuss basic principles from the DataFrames package. For the first topic we look at how to construct and access DataFrames. The fundamental object that we care about is the `DataFrame`. This is similar to a `dataframe` that you would find in R or in Pandas (Python).\n",
    "\n",
    "DataFrames are essentially matrices, with the rows being observations and the columns indicating the variables. "
   ]
  },
  {
   "cell_type": "markdown",
   "metadata": {},
   "source": [
    "## Constructors"
   ]
  },
  {
   "cell_type": "markdown",
   "metadata": {},
   "source": [
    "The easiest thing to construct is an empty DataFrame. "
   ]
  },
  {
   "cell_type": "code",
   "execution_count": null,
   "metadata": {},
   "outputs": [],
   "source": [
    "DataFrame() # empty DataFrame"
   ]
  },
  {
   "cell_type": "markdown",
   "metadata": {},
   "source": [
    "You could also construct a DataFrame with different keyword arguments. Notice the different types of the different columns. "
   ]
  },
  {
   "cell_type": "code",
   "execution_count": null,
   "metadata": {},
   "outputs": [],
   "source": [
    "DataFrame(A = 2:5, B = randn(4), C = \"Hello\")"
   ]
  },
  {
   "cell_type": "markdown",
   "metadata": {},
   "source": [
    "One of the most common ways to use constructors is through arrays. "
   ]
  },
  {
   "cell_type": "code",
   "execution_count": null,
   "metadata": {},
   "outputs": [],
   "source": [
    "commodities = [\"crude\", \"gas\", \"gold\", \"silver\"]\n",
    "last_price = [4.2, 11.3, 12.1, missing] # notice that the last value is missing\n",
    "\n",
    "df = DataFrame(commod = commodities, price = last_price) # give names to columns"
   ]
  },
  {
   "cell_type": "markdown",
   "metadata": {},
   "source": [
    "One can also easily add a new row to an existing `DataFrame` using the `push!` function. This is equivalent to adding new observations to the variables. "
   ]
  },
  {
   "cell_type": "code",
   "execution_count": null,
   "metadata": {},
   "outputs": [],
   "source": [
    "new_row = (commod = \"nickel\", price = 5.1)\n",
    "push!(df, new_row)"
   ]
  },
  {
   "cell_type": "markdown",
   "metadata": {},
   "source": [
    "One could also use array comprehensions to generate values for the DataFrame,  "
   ]
  },
  {
   "cell_type": "code",
   "execution_count": null,
   "metadata": {},
   "outputs": [],
   "source": [
    "DataFrame([rand(3) for i in 1:3], [:x1, :x2, :x3]) # see how we named the columns"
   ]
  },
  {
   "cell_type": "markdown",
   "metadata": {},
   "source": [
    "You can also create a DataFrame from a matrix, "
   ]
  },
  {
   "cell_type": "code",
   "execution_count": null,
   "metadata": {},
   "outputs": [],
   "source": [
    "x = DataFrame(rand(3, 3), :auto) # automatically assign column names"
   ]
  },
  {
   "cell_type": "markdown",
   "metadata": {},
   "source": [
    "Incidentally, you can convert the DataFrame into a matrix or array if you so wished, "
   ]
  },
  {
   "cell_type": "code",
   "execution_count": null,
   "metadata": {},
   "outputs": [],
   "source": [
    "Matrix(x)"
   ]
  },
  {
   "cell_type": "markdown",
   "metadata": {},
   "source": [
    "In the next section we talk about accessing the element of a DataFrame as well as looking at some basic information about the DataFrame that we have on hand.  "
   ]
  },
  {
   "cell_type": "markdown",
   "metadata": {},
   "source": [
    "## Accessing data"
   ]
  },
  {
   "cell_type": "markdown",
   "metadata": {},
   "source": [
    "Once we have our data set up in a DataFrame, we are often going to want to know some basic things about the contents. Let us construct a relatively large DataFrame. Most of the time we will be working with large datasets in economics, with thousands of rows and columns. You might be used to working with data in Excel, so things might feel foreign right now. However, I promise that once you start working with data in a programming language such as R, Julia or Python, your productivity will greatly increase. You only need to get over that initial apprehension on learning something new. "
   ]
  },
  {
   "cell_type": "code",
   "execution_count": null,
   "metadata": {},
   "outputs": [],
   "source": [
    "y = DataFrame(rand(1:10, 1000, 10), :auto);"
   ]
  },
  {
   "cell_type": "markdown",
   "metadata": {},
   "source": [
    "We can get some basic summary statistics on the data in the DataFrame using the `describe` function. "
   ]
  },
  {
   "cell_type": "code",
   "execution_count": null,
   "metadata": {},
   "outputs": [],
   "source": [
    "describe(y)"
   ]
  },
  {
   "cell_type": "markdown",
   "metadata": {},
   "source": [
    "If we want to take a peak at the first few rows of the data we can use the `first` function. "
   ]
  },
  {
   "cell_type": "code",
   "execution_count": null,
   "metadata": {},
   "outputs": [],
   "source": [
    "first(y, 5) # first 5 rows"
   ]
  },
  {
   "cell_type": "markdown",
   "metadata": {},
   "source": [
    "There are multiple ways to access particular columns of the DataFrame that we have created. The most obvious way is to to use `y.col` where `col` stands for the column name. This provides us the column in vector format. "
   ]
  },
  {
   "cell_type": "code",
   "execution_count": null,
   "metadata": {},
   "outputs": [],
   "source": [
    "y.x2; # get a single column"
   ]
  },
  {
   "cell_type": "markdown",
   "metadata": {},
   "source": [
    "Another interesting way to access the column is the following, "
   ]
  },
  {
   "cell_type": "code",
   "execution_count": null,
   "metadata": {},
   "outputs": [],
   "source": [
    "y[!, :x2]; # or y[!, 2] or y[:, :x2]"
   ]
  },
  {
   "cell_type": "markdown",
   "metadata": {},
   "source": [
    "You can access several columns (the first two in this case) with the following command, "
   ]
  },
  {
   "cell_type": "code",
   "execution_count": null,
   "metadata": {},
   "outputs": [],
   "source": [
    "y[:, [:x1, :x2]];"
   ]
  },
  {
   "cell_type": "markdown",
   "metadata": {},
   "source": [
    "Getting rows is also quite easy (and similar to the way in which we access rows in arrays), "
   ]
  },
  {
   "cell_type": "code",
   "execution_count": null,
   "metadata": {},
   "outputs": [],
   "source": [
    "y[1, :]"
   ]
  },
  {
   "cell_type": "markdown",
   "metadata": {},
   "source": [
    "With the code above you can also easily change the values in the DataFrame. We could, for example, multiply each of the values in the second column by $2$ if we wanted. "
   ]
  },
  {
   "cell_type": "code",
   "execution_count": null,
   "metadata": {},
   "outputs": [],
   "source": [
    "first(y.x2, 2) # observe first two values in the column"
   ]
  },
  {
   "cell_type": "code",
   "execution_count": null,
   "metadata": {},
   "outputs": [],
   "source": [
    "z = y[!, :x2]; \n",
    "z *= 2; # multiply column by two\n",
    "\n",
    "first(z, 2) # observe newly mutated column"
   ]
  },
  {
   "cell_type": "code",
   "execution_count": null,
   "metadata": {},
   "outputs": [],
   "source": [
    "first(y.x2, 2) # important to note that this is unchanged"
   ]
  },
  {
   "cell_type": "markdown",
   "metadata": {},
   "source": [
    "# Importing data"
   ]
  },
  {
   "cell_type": "markdown",
   "metadata": {},
   "source": [
    "Now let us import some data and play around with it a bit. This is generally referred to as data wrangling. If you want to become a data scientist, then significant portion of your work is going to involve gathering and cleaning data. The analysis part only makes up a small percentage. "
   ]
  },
  {
   "cell_type": "markdown",
   "metadata": {},
   "source": [
    "I have created a dataset that is hosted on github at the following location -- https://github.com/DawievLill/Macro-318/blob/main/data/tut2_data.csv\n",
    "\n",
    "Now let us download this data with Julia. This is one possible way to do it. "
   ]
  },
  {
   "cell_type": "code",
   "execution_count": null,
   "metadata": {},
   "outputs": [],
   "source": [
    "Downloads.download(\n",
    "    \"https://raw.githubusercontent.com/DawievLill/Macro-318/main/data/tut2_data.csv\", \n",
    "    \"tut2_data.csv\"\n",
    ")"
   ]
  },
  {
   "cell_type": "markdown",
   "metadata": {},
   "source": [
    "Now get the data into Julia!"
   ]
  },
  {
   "cell_type": "code",
   "execution_count": null,
   "metadata": {},
   "outputs": [],
   "source": [
    "sa_data = DataFrame(CSV.File(\"tut2_data.csv\", dateformat = \"yyyy/mm/dd\")) # specify the date format"
   ]
  },
  {
   "cell_type": "markdown",
   "metadata": {},
   "source": [
    "Alternatively, we could have done the following, since we know the data is located in the `data` folder, "
   ]
  },
  {
   "cell_type": "code",
   "execution_count": null,
   "metadata": {},
   "outputs": [],
   "source": [
    "sa_data_1 = DataFrame(CSV.File(\"../data/tut2_data.csv\")); # if you don't understand this piece of code, you can simply move on. "
   ]
  },
  {
   "cell_type": "markdown",
   "metadata": {},
   "source": [
    "So we have succesfully imported data into Julia. What can we do with this data? We see that the data contains information on GDP, the repo rate, CPI and inflation. The first thing that we might want to do is visualise the data. This is always a good first step. After that we might want to look at some basic descriptive statistics, to get an idea of the properties of the data. "
   ]
  },
  {
   "cell_type": "markdown",
   "metadata": {},
   "source": [
    "## Plotting the data"
   ]
  },
  {
   "cell_type": "markdown",
   "metadata": {},
   "source": [
    "For us to plot the data let us look at one the variables in the dataset. \n",
    "\n",
    "Let us consider GDP, which is the second column in the dataset. We can access GDP by calling the variable name, but we can also use the fact that it is located in the second column of the table. "
   ]
  },
  {
   "cell_type": "code",
   "execution_count": null,
   "metadata": {},
   "outputs": [],
   "source": [
    "gdp_1 = sa_data.gdp;\n",
    "gdp_2 = sa_data[!, 2];\n",
    "gdp_3 = sa_data[!, :gdp];"
   ]
  },
  {
   "cell_type": "markdown",
   "metadata": {},
   "source": [
    "We can check whether these variables give the same result as follows, "
   ]
  },
  {
   "cell_type": "code",
   "execution_count": null,
   "metadata": {},
   "outputs": [],
   "source": [
    "gdp_1 == gdp_2 == gdp_3 # check that these give exactly the same result"
   ]
  },
  {
   "cell_type": "markdown",
   "metadata": {},
   "source": [
    "Now let us draw a basic plot of GDP and see if it aligns with your expectation of what GDP would look like in level terms. You can also compare this with US GDP in Chapter 2 of the Williamson textbook. I have used **nominal GDP** in this dataset. \n",
    "\n",
    "We will compare nominal with real GDP soon, with a simple calculation involving the inflation rate (although technically we should be using the GDP deflator to move from nominal to real terms).  "
   ]
  },
  {
   "cell_type": "code",
   "execution_count": null,
   "metadata": {},
   "outputs": [],
   "source": [
    "date_sa = sa_data[!, :date]\n",
    "plot(date_sa, gdp_1, legend = false, lw = 1.5)"
   ]
  },
  {
   "cell_type": "markdown",
   "metadata": {},
   "source": [
    "One of the most popular transformations of GDP data is to take a natural logarithm. The reason for this is that differences between adjacent values in the GDP series represent growth rates once the series is \"logged\". We will get back to this point at a later stage. If we take a natural log of the series then the plot of GDP looks as follows, "
   ]
  },
  {
   "cell_type": "code",
   "execution_count": null,
   "metadata": {},
   "outputs": [],
   "source": [
    "log_gdp = log.(gdp_1); # remember the dot syntax, since we are broadcasting the log over all the values of GDP"
   ]
  },
  {
   "cell_type": "code",
   "execution_count": null,
   "metadata": {},
   "outputs": [],
   "source": [
    "plot(date_sa, log_gdp, legend = false, lw = 1.5)"
   ]
  },
  {
   "cell_type": "markdown",
   "metadata": {},
   "source": [
    "You will see that the scale on the y-axis has changed after this transformation. The slope of this graph indicates the growth rate. A point that we will touch on soon. "
   ]
  },
  {
   "cell_type": "markdown",
   "metadata": {},
   "source": [
    "We can also plot some of the other variables in our dataset, such as the inflation rate. "
   ]
  },
  {
   "cell_type": "code",
   "execution_count": null,
   "metadata": {},
   "outputs": [],
   "source": [
    "inflation_rate = sa_data.inflation\n",
    "plot(date_sa, inflation_rate, legend = false, lw = 1.5)\n",
    "plot!([0], legend = false, lw = 1.5, seriestype = :hline, color = :black, ls = :dash, alpha = 0.5)"
   ]
  },
  {
   "cell_type": "markdown",
   "metadata": {},
   "source": [
    "# Descriptive statistics"
   ]
  },
  {
   "cell_type": "markdown",
   "metadata": {},
   "source": [
    "Some of the most widely used statistics are the mean (average) and standard deviation. They can be easily computed with the computer as follows,  "
   ]
  },
  {
   "cell_type": "code",
   "execution_count": null,
   "metadata": {},
   "outputs": [],
   "source": [
    "inflation_1 = sa_data[!, :inflation] # select the inflation column\n",
    "mean(inflation_1) # mean value of inflation"
   ]
  },
  {
   "cell_type": "code",
   "execution_count": null,
   "metadata": {},
   "outputs": [],
   "source": [
    "std(inflation_1) # standard deviation of inflation"
   ]
  },
  {
   "cell_type": "markdown",
   "metadata": {},
   "source": [
    "Let us plot a histogram for the data and also indicate where the mean is in this plot. "
   ]
  },
  {
   "cell_type": "code",
   "execution_count": null,
   "metadata": {},
   "outputs": [],
   "source": [
    "histogram(inflation_1, legend = false, alpha = 0.5, bins = 20) # a histogram gives a general idea of what the distribution of values for inflation looks like.\n",
    "plot!([mean(inflation_1)],  seriestype = :vline, lw = 3, colour = :black, ls = :dash) # plots the mean value"
   ]
  },
  {
   "cell_type": "markdown",
   "metadata": {},
   "source": [
    "# Growth rates"
   ]
  },
  {
   "cell_type": "markdown",
   "metadata": {},
   "source": [
    "Mathematics is so much easier when we get to use a computer. In this section I will introduce some of the basic mathematical theory that you need as a macroeconomist and then we will show you how that relates to programming."
   ]
  },
  {
   "cell_type": "markdown",
   "metadata": {},
   "source": [
    "Computing growth rates is quite important in macroeconomics. This is something that you will frequently encounter and it is important to know how to do this. The growth rate between subsequent two dates can be calculated as follows, \n",
    "\n",
    "$$\n",
    "\\left(\\frac{Y_{t} - Y_{t-1}}{Y_{t-1}}\\right) \\times 100 = \\left(\\frac{Y_{t}}{Y_{t-1}} - 1\\right) \\times 100 \n",
    "$$\n"
   ]
  },
  {
   "cell_type": "markdown",
   "metadata": {},
   "source": [
    "If you are working with quarterly data and want to calculate the growth rate from one quarter to the same quarter next year then you should use, \n",
    "\n",
    "$$\n",
    "\\left(\\frac{Y_{t}}{Y_{t-4}} - 1\\right) \\times 100 \n",
    "$$\n",
    "\n",
    "In addition, we can calculate the monthly or quarterly growth rate at an annual rate, \n",
    "\n",
    "$$\n",
    "\\left(\\left[\\frac{Y_{t}}{Y_{t-1}}\\right]^{n} - 1\\right) \\times 100 \n",
    "$$\n",
    "where $n = 4$ represents quarterly growth and $n = 12$ gives monthly growth. "
   ]
  },
  {
   "cell_type": "markdown",
   "metadata": {},
   "source": [
    "Finally, we can calculate the average growth rate over $n$ years with the following formula, \n",
    "\n",
    "$$\n",
    "\\left(\\left[\\frac{Y_{t}}{Y_{t-n}}\\right]^{1/n} - 1\\right) \\times 100 \n",
    "$$"
   ]
  },
  {
   "cell_type": "markdown",
   "metadata": {},
   "source": [
    "### Examples of growth rate calculations"
   ]
  },
  {
   "cell_type": "markdown",
   "metadata": {},
   "source": [
    "Let us try calculating some growth rates with the data at hand. We will focus on GDP growth rates for this example, "
   ]
  },
  {
   "cell_type": "code",
   "execution_count": null,
   "metadata": {},
   "outputs": [],
   "source": [
    "gdp_first = sa_data[1, :gdp]; # first value of the GDP series\n",
    "gdp_second = sa_data[2, :gdp]; # second value of the GDP series\n",
    "\n",
    "gdp_growth_1 = ((gdp_second - gdp_first)/gdp_first) * 100 # using the formula for growth between two periods. "
   ]
  },
  {
   "cell_type": "markdown",
   "metadata": {},
   "source": [
    "There is an alternative way to calculate an approximation to the growth rate from above. We can simply take the natural logarithm of the two values and subtract them from each other. In other words we have that, \n",
    "\n",
    "$$\n",
    "\\left(\\frac{Y_{t}}{Y_{t-1}} - 1\\right) \\times 100 \\approx \\log(Y_{t}) - \\log(Y_{t-1}) \\times 100\n",
    "$$\n"
   ]
  },
  {
   "cell_type": "code",
   "execution_count": null,
   "metadata": {},
   "outputs": [],
   "source": [
    "(log(gdp_second) - log(gdp_first)) * 100"
   ]
  },
  {
   "cell_type": "markdown",
   "metadata": {},
   "source": [
    "The values are not exactly the same. This is simply an approximation which is often used in practice. "
   ]
  },
  {
   "cell_type": "markdown",
   "metadata": {},
   "source": [
    "As another example, let us calculate the quarterly growth rate of GDP and then plot the resulting values. This calculation is a bit more tricky since we are now going to apply it to the entire dataset. Let me explain the logic of what we are going to do here. \n",
    "\n",
    "First, we are going to create a new column that contains a lagged version of the original column for GDP. Why do we want to do this? The reason is that we want to be able to divide $Y_t$ by $Y_{t-4}$ from our formula above. However, we only have values for $Y_t$ in the $t$-th column and not $Y_{t-4}$. So for every row we need to create a corresponding lagged version of the original column. Before we do anything, let us take a look at the first few values of the dataset to see what we need to change. We only care about the first two columns, so we will only select those. "
   ]
  },
  {
   "cell_type": "code",
   "execution_count": null,
   "metadata": {},
   "outputs": [],
   "source": [
    "first(sa_data[!, 1:2], 8)"
   ]
  },
  {
   "cell_type": "code",
   "execution_count": null,
   "metadata": {},
   "outputs": [],
   "source": [
    "sa_data.lagged_gdp = lag(sa_data[!, 2], 4);"
   ]
  },
  {
   "cell_type": "markdown",
   "metadata": {},
   "source": [
    "We can see that the lagged GDP column has successfully been created and added to the DataFrame. "
   ]
  },
  {
   "cell_type": "code",
   "execution_count": null,
   "metadata": {},
   "outputs": [],
   "source": [
    "first(sa_data[!, :], 8) "
   ]
  },
  {
   "cell_type": "markdown",
   "metadata": {},
   "source": [
    "Now we can calculate the growth rate, "
   ]
  },
  {
   "cell_type": "code",
   "execution_count": null,
   "metadata": {},
   "outputs": [],
   "source": [
    "gdp_growth_quarterly = (log.(sa_data.gdp) .- log.(sa_data.lagged_gdp)) .* 100; # log method\n",
    "gdp_growth_quarterly_1 = ((sa_data.gdp ./ sa_data.lagged_gdp) .- 1) .* 100; # formula method"
   ]
  },
  {
   "cell_type": "code",
   "execution_count": null,
   "metadata": {},
   "outputs": [],
   "source": [
    "plot(date_sa, gdp_growth_quarterly, legend = false, lw = 2, alpha = 0.7) # log method\n",
    "plot!(date_sa, gdp_growth_quarterly_1, legend = false, lw = 2, ls = :dash, color = :black) # formula method"
   ]
  },
  {
   "cell_type": "markdown",
   "metadata": {},
   "source": [
    "For the other formulas you can perform similar calculations. As an exercise you can attempt to use the other formulas to calculate annualised growth rates. "
   ]
  },
  {
   "cell_type": "markdown",
   "metadata": {},
   "source": []
  },
  {
   "cell_type": "markdown",
   "metadata": {},
   "source": [
    "# Basic math for macroeconomics"
   ]
  },
  {
   "cell_type": "markdown",
   "metadata": {},
   "source": [
    "In this section we will be discussing very basic mathematical concepts that relate to mathematical modeling. For this section we will be making heavy use of the notes on mathematics for economists by [Fan Wang](https://fanwangecon.github.io/Math4Econ/). Please go look at his website for more cool notes and give his repository a star. His code is mostly in Matlab, but he also has some Python and R code. You can easily translate Matlab to Julia, since the syntax of the languages are quite similar.  \n",
    "\n"
   ]
  },
  {
   "cell_type": "markdown",
   "metadata": {},
   "source": [
    "## Functions"
   ]
  },
  {
   "cell_type": "markdown",
   "metadata": {},
   "source": [
    "A function is a **rule** that assigns to every element of $x \\in X$ a **single element** of the set $Y$. This is written as, \n",
    "\n",
    "$$\n",
    "f:X \\rightarrow Y\n",
    "$$\n",
    "\n",
    "The arrow indicates the mapping from the one set to another. When we write $y = f(x)$ we are mapping from the argument $x$ in the domain $X$ to a value in the co-domain $Y$. \n",
    "\n",
    "It is important to note that for a function we are assigning a single element from the set $X$ to the set $Y$.\n",
    "\n",
    "Let us illustrate this with some examples of functions and non-functions in Julia. "
   ]
  },
  {
   "cell_type": "code",
   "execution_count": null,
   "metadata": {},
   "outputs": [],
   "source": [
    "x = 0:π/100:2π\n",
    "y = sin.(x)\n",
    "\n",
    "plot(x, y, title = \"This is a function\", legend = false, lw = 2)"
   ]
  },
  {
   "cell_type": "markdown",
   "metadata": {},
   "source": [
    "The function above is a portion of the $\\sin$ function over the interval from $0$ to $2\\pi$. However, the following graph that depicts a circle is not a function. It is a relation, but NOT a function. Can you see why this is the case? What is the defining feature of a function?"
   ]
  },
  {
   "cell_type": "code",
   "execution_count": null,
   "metadata": {},
   "outputs": [],
   "source": [
    "x = 1; y = 1; r = 1\n",
    "θ = 0:π/50:2π\n",
    "\n",
    "x_unit = r .* cos.(θ) .+ x\n",
    "y_unit = r .* sin.(θ) .+ y\n",
    "\n",
    "plot(x_unit, y_unit, title = \"This is NOT a function\", legend = false, lw = 2)"
   ]
  },
  {
   "cell_type": "markdown",
   "metadata": {},
   "source": [
    "A linear function, which is also known as polynomial of degree 1 has slope $m$ and intercept $b$. Linear functions have constant slope. We will encounter the idea of slope again later when we talk about derivatives. "
   ]
  },
  {
   "cell_type": "code",
   "execution_count": null,
   "metadata": {},
   "outputs": [],
   "source": [
    "m = 0.5 # slope\n",
    "b = 1 # intercept\n",
    "\n",
    "ar_x = LinRange(-5, 10, 100)\n",
    "ar_y = ar_x .* m .+ b\n",
    "\n",
    "plot(ar_x, ar_y, legend = false, title = \"Linear function with slope $m and intercept $b\", lw = 2)\n",
    "\n",
    "vline!([0], ls = :dash, color = :black, alpha = 0.5, xticks = ([-2]))\n",
    "hline!([0], ls = :dash, color = :red, alpha = 0.5, yticks = ([1]))"
   ]
  },
  {
   "cell_type": "markdown",
   "metadata": {},
   "source": [
    "In high school you probably determined the slope of this function using a the method of rise over run. In other words, the change in $y$ over the change in $x$. More \"formally\", you calculated $m = \\frac{\\Delta{y}}{\\Delta{x}}$. In this example, $\\Delta{y} = 1 - 0$ and $\\Delta{x} = 0 - (-2)$, so we have that $m = 1 / 2 = 0.5$. We will talk about this method of using a difference quotient again when we want to calculate the slope of a tangent line to a function in the section on derivatives. "
   ]
  },
  {
   "cell_type": "markdown",
   "metadata": {},
   "source": [
    "## Monomials and polynomials\n"
   ]
  },
  {
   "cell_type": "markdown",
   "metadata": {},
   "source": [
    "Functions that take the form $a \\cdot x^{k}$ are considered **monomials**. In this case $a$ is any real number and $k$ is a positive integer. The value of $k$ represent the degree of the monomial. Monomials can be added together to form **polynomials**. A general formulation for a polynomial of degree four would be, \n",
    "\n",
    "$$\n",
    "a + b\\cdot{x} + c \\cdot x^2 + d \\cdot x^3 + e \\cdot x^4\n",
    "$$\n",
    "\n",
    "where the coefficients $a, b, c, d, e$ could be positive or negative. In order to determine the degree of the polynomial, consider the monomials that constitute the polynomial. The monomial with the highest degree determines the degree of the whole polynomial. An explicit representation of a polynomial that you should all know quite well is something along the following lines, \n",
    "\n",
    "$$\n",
    "y = 2 + 5x^2\n",
    "$$\n",
    "\n",
    "Can you identify what the degree of this polynomial is? Let us plot some polynomials to get an idea of what they look like. \n"
   ]
  },
  {
   "cell_type": "code",
   "execution_count": null,
   "metadata": {},
   "outputs": [],
   "source": [
    "x = -1:0.01:1\n",
    "y = 2 .+ 5 .* x .^ 2\n",
    "\n",
    "plot(x, y, legend = false, title = \"Polynomial of degree two\", lw = 2)"
   ]
  },
  {
   "cell_type": "markdown",
   "metadata": {},
   "source": [
    "Let us plot a polynomial of a degree three to see how this might differ. "
   ]
  },
  {
   "cell_type": "code",
   "execution_count": null,
   "metadata": {},
   "outputs": [],
   "source": [
    "x = -3:0.01:3\n",
    "y = 2 .- 1 .* x .^ 2 .- 10 .* x .^ 3\n",
    "\n",
    "plot(x, y, legend = false, title = \"Polynomial of degree three\", lw = 2)"
   ]
  },
  {
   "cell_type": "markdown",
   "metadata": {},
   "source": [
    "## Local and global maximum"
   ]
  },
  {
   "cell_type": "markdown",
   "metadata": {},
   "source": [
    "A function $f$ has a global maximum at $x^{*} \\in X$ if for all $x \\in X$, $f(x) \\leq f(x^{*})$. A function $f$ has a local maximum at $x^{*} \\in X$ if there exists and open interval $(a, b)$ such that $x^{*} \\in (a, b)$, and for all $x \\in (a, b), f(x) \\leq f(x^{x})$. Not all functions have a maximum. \n",
    "\n",
    "We are going to be dealing with functions such as utility functions, production functions and budget constraints in many of our economics models. \n",
    "\n",
    "As an example, in the case of a utility function the household is choosing the bundle of goods that provides the highest level of utility. \n",
    "\n",
    "Most production and utility functions will NOT have a local or global maximum. \n",
    "\n",
    "In the case of a log-utility function, higher consumption will give higher levels of utility, so no maximum exists here either. \n",
    "\n",
    "If we have a Cobb-Douglas production function, then output will increase with labour and capital. This means that the function is even increasing in its inputs and has not maximum. \n",
    "\n",
    "**NB**: It is only when we combine our preferences with a budget that we will be able to think about the optimal bindle choice given a fixed budget. The maximisation problem in this case will reveal some maximum. We will cover this example at length in the next tutorial. "
   ]
  },
  {
   "cell_type": "markdown",
   "metadata": {},
   "source": [
    "### Quadratic utility"
   ]
  },
  {
   "cell_type": "markdown",
   "metadata": {},
   "source": [
    "There is one nice utility function that has a maximum, the quadratic utility function. \n",
    "\n",
    "$$\n",
    "U(x) = x - \\alpha \\cdot x^2\n",
    "$$"
   ]
  },
  {
   "cell_type": "markdown",
   "metadata": {},
   "source": [
    "We can quickly draw a plot of this utility function and by inspection determine where the maximum is going to be. The most efficient way to determine the maximum would be using a derivative and setting it equal to zero. However, we haven't introduced derivatives yet, so let us use this inefficient way to determine the maximum for now. "
   ]
  },
  {
   "cell_type": "code",
   "execution_count": 108,
   "metadata": {},
   "outputs": [
    {
     "data": {
      "image/svg+xml": "<?xml version=\"1.0\" encoding=\"utf-8\"?>\n<svg xmlns=\"http://www.w3.org/2000/svg\" xmlns:xlink=\"http://www.w3.org/1999/xlink\" width=\"600\" height=\"400\" viewBox=\"0 0 2400 1600\">\n<defs>\n  <clipPath id=\"clip590\">\n    <rect x=\"0\" y=\"0\" width=\"2400\" height=\"1600\"/>\n  </clipPath>\n</defs>\n<path clip-path=\"url(#clip590)\" d=\"\nM0 1600 L2400 1600 L2400 0 L0 0  Z\n  \" fill=\"#ffffff\" fill-rule=\"evenodd\" fill-opacity=\"1\"/>\n<defs>\n  <clipPath id=\"clip591\">\n    <rect x=\"480\" y=\"0\" width=\"1681\" height=\"1600\"/>\n  </clipPath>\n</defs>\n<path clip-path=\"url(#clip590)\" d=\"\nM178.867 1486.45 L2352.76 1486.45 L2352.76 123.472 L178.867 123.472  Z\n  \" fill=\"#ffffff\" fill-rule=\"evenodd\" fill-opacity=\"1\"/>\n<defs>\n  <clipPath id=\"clip592\">\n    <rect x=\"178\" y=\"123\" width=\"2175\" height=\"1364\"/>\n  </clipPath>\n</defs>\n<polyline clip-path=\"url(#clip592)\" style=\"stroke:#000000; stroke-linecap:butt; stroke-linejoin:round; stroke-width:2; stroke-opacity:0.1; fill:none\" points=\"\n  240.392,1486.45 240.392,123.472 \n  \"/>\n<polyline clip-path=\"url(#clip592)\" style=\"stroke:#000000; stroke-linecap:butt; stroke-linejoin:round; stroke-width:2; stroke-opacity:0.1; fill:none\" points=\"\n  753.102,1486.45 753.102,123.472 \n  \"/>\n<polyline clip-path=\"url(#clip592)\" style=\"stroke:#000000; stroke-linecap:butt; stroke-linejoin:round; stroke-width:2; stroke-opacity:0.1; fill:none\" points=\"\n  1265.81,1486.45 1265.81,123.472 \n  \"/>\n<polyline clip-path=\"url(#clip592)\" style=\"stroke:#000000; stroke-linecap:butt; stroke-linejoin:round; stroke-width:2; stroke-opacity:0.1; fill:none\" points=\"\n  1778.52,1486.45 1778.52,123.472 \n  \"/>\n<polyline clip-path=\"url(#clip592)\" style=\"stroke:#000000; stroke-linecap:butt; stroke-linejoin:round; stroke-width:2; stroke-opacity:0.1; fill:none\" points=\"\n  2291.23,1486.45 2291.23,123.472 \n  \"/>\n<polyline clip-path=\"url(#clip590)\" style=\"stroke:#000000; stroke-linecap:butt; stroke-linejoin:round; stroke-width:4; stroke-opacity:1; fill:none\" points=\"\n  178.867,1486.45 2352.76,1486.45 \n  \"/>\n<polyline clip-path=\"url(#clip590)\" style=\"stroke:#000000; stroke-linecap:butt; stroke-linejoin:round; stroke-width:4; stroke-opacity:1; fill:none\" points=\"\n  240.392,1486.45 240.392,1467.55 \n  \"/>\n<polyline clip-path=\"url(#clip590)\" style=\"stroke:#000000; stroke-linecap:butt; stroke-linejoin:round; stroke-width:4; stroke-opacity:1; fill:none\" points=\"\n  753.102,1486.45 753.102,1467.55 \n  \"/>\n<polyline clip-path=\"url(#clip590)\" style=\"stroke:#000000; stroke-linecap:butt; stroke-linejoin:round; stroke-width:4; stroke-opacity:1; fill:none\" points=\"\n  1265.81,1486.45 1265.81,1467.55 \n  \"/>\n<polyline clip-path=\"url(#clip590)\" style=\"stroke:#000000; stroke-linecap:butt; stroke-linejoin:round; stroke-width:4; stroke-opacity:1; fill:none\" points=\"\n  1778.52,1486.45 1778.52,1467.55 \n  \"/>\n<polyline clip-path=\"url(#clip590)\" style=\"stroke:#000000; stroke-linecap:butt; stroke-linejoin:round; stroke-width:4; stroke-opacity:1; fill:none\" points=\"\n  2291.23,1486.45 2291.23,1467.55 \n  \"/>\n<path clip-path=\"url(#clip590)\" d=\"M194.455 1532.02 L224.13 1532.02 L224.13 1535.95 L194.455 1535.95 L194.455 1532.02 Z\" fill=\"#000000\" fill-rule=\"evenodd\" fill-opacity=\"1\" /><path clip-path=\"url(#clip590)\" d=\"M235.033 1544.91 L242.672 1544.91 L242.672 1518.55 L234.362 1520.21 L234.362 1515.95 L242.626 1514.29 L247.301 1514.29 L247.301 1544.91 L254.94 1544.91 L254.94 1548.85 L235.033 1548.85 L235.033 1544.91 Z\" fill=\"#000000\" fill-rule=\"evenodd\" fill-opacity=\"1\" /><path clip-path=\"url(#clip590)\" d=\"M274.385 1517.37 Q270.774 1517.37 268.945 1520.93 Q267.139 1524.47 267.139 1531.6 Q267.139 1538.71 268.945 1542.27 Q270.774 1545.82 274.385 1545.82 Q278.019 1545.82 279.824 1542.27 Q281.653 1538.71 281.653 1531.6 Q281.653 1524.47 279.824 1520.93 Q278.019 1517.37 274.385 1517.37 M274.385 1513.66 Q280.195 1513.66 283.25 1518.27 Q286.329 1522.85 286.329 1531.6 Q286.329 1540.33 283.25 1544.94 Q280.195 1549.52 274.385 1549.52 Q268.575 1549.52 265.496 1544.94 Q262.44 1540.33 262.44 1531.6 Q262.44 1522.85 265.496 1518.27 Q268.575 1513.66 274.385 1513.66 Z\" fill=\"#000000\" fill-rule=\"evenodd\" fill-opacity=\"1\" /><path clip-path=\"url(#clip590)\" d=\"M722.743 1532.02 L752.419 1532.02 L752.419 1535.95 L722.743 1535.95 L722.743 1532.02 Z\" fill=\"#000000\" fill-rule=\"evenodd\" fill-opacity=\"1\" /><path clip-path=\"url(#clip590)\" d=\"M762.558 1514.29 L780.914 1514.29 L780.914 1518.22 L766.84 1518.22 L766.84 1526.7 Q767.858 1526.35 768.877 1526.19 Q769.895 1526 770.914 1526 Q776.701 1526 780.081 1529.17 Q783.46 1532.34 783.46 1537.76 Q783.46 1543.34 779.988 1546.44 Q776.516 1549.52 770.196 1549.52 Q768.02 1549.52 765.752 1549.15 Q763.507 1548.78 761.099 1548.04 L761.099 1543.34 Q763.183 1544.47 765.405 1545.03 Q767.627 1545.58 770.104 1545.58 Q774.108 1545.58 776.446 1543.48 Q778.784 1541.37 778.784 1537.76 Q778.784 1534.15 776.446 1532.04 Q774.108 1529.94 770.104 1529.94 Q768.229 1529.94 766.354 1530.35 Q764.502 1530.77 762.558 1531.65 L762.558 1514.29 Z\" fill=\"#000000\" fill-rule=\"evenodd\" fill-opacity=\"1\" /><path clip-path=\"url(#clip590)\" d=\"M1265.81 1517.37 Q1262.2 1517.37 1260.37 1520.93 Q1258.57 1524.47 1258.57 1531.6 Q1258.57 1538.71 1260.37 1542.27 Q1262.2 1545.82 1265.81 1545.82 Q1269.45 1545.82 1271.25 1542.27 Q1273.08 1538.71 1273.08 1531.6 Q1273.08 1524.47 1271.25 1520.93 Q1269.45 1517.37 1265.81 1517.37 M1265.81 1513.66 Q1271.62 1513.66 1274.68 1518.27 Q1277.76 1522.85 1277.76 1531.6 Q1277.76 1540.33 1274.68 1544.94 Q1271.62 1549.52 1265.81 1549.52 Q1260 1549.52 1256.92 1544.94 Q1253.87 1540.33 1253.87 1531.6 Q1253.87 1522.85 1256.92 1518.27 Q1260 1513.66 1265.81 1513.66 Z\" fill=\"#000000\" fill-rule=\"evenodd\" fill-opacity=\"1\" /><path clip-path=\"url(#clip590)\" d=\"M1768.8 1514.29 L1787.16 1514.29 L1787.16 1518.22 L1773.08 1518.22 L1773.08 1526.7 Q1774.1 1526.35 1775.12 1526.19 Q1776.14 1526 1777.16 1526 Q1782.94 1526 1786.32 1529.17 Q1789.7 1532.34 1789.7 1537.76 Q1789.7 1543.34 1786.23 1546.44 Q1782.76 1549.52 1776.44 1549.52 Q1774.26 1549.52 1771.99 1549.15 Q1769.75 1548.78 1767.34 1548.04 L1767.34 1543.34 Q1769.42 1544.47 1771.65 1545.03 Q1773.87 1545.58 1776.35 1545.58 Q1780.35 1545.58 1782.69 1543.48 Q1785.03 1541.37 1785.03 1537.76 Q1785.03 1534.15 1782.69 1532.04 Q1780.35 1529.94 1776.35 1529.94 Q1774.47 1529.94 1772.6 1530.35 Q1770.74 1530.77 1768.8 1531.65 L1768.8 1514.29 Z\" fill=\"#000000\" fill-rule=\"evenodd\" fill-opacity=\"1\" /><path clip-path=\"url(#clip590)\" d=\"M2265.92 1544.91 L2273.56 1544.91 L2273.56 1518.55 L2265.25 1520.21 L2265.25 1515.95 L2273.51 1514.29 L2278.19 1514.29 L2278.19 1544.91 L2285.83 1544.91 L2285.83 1548.85 L2265.92 1548.85 L2265.92 1544.91 Z\" fill=\"#000000\" fill-rule=\"evenodd\" fill-opacity=\"1\" /><path clip-path=\"url(#clip590)\" d=\"M2305.27 1517.37 Q2301.66 1517.37 2299.83 1520.93 Q2298.02 1524.47 2298.02 1531.6 Q2298.02 1538.71 2299.83 1542.27 Q2301.66 1545.82 2305.27 1545.82 Q2308.9 1545.82 2310.71 1542.27 Q2312.54 1538.71 2312.54 1531.6 Q2312.54 1524.47 2310.71 1520.93 Q2308.9 1517.37 2305.27 1517.37 M2305.27 1513.66 Q2311.08 1513.66 2314.14 1518.27 Q2317.21 1522.85 2317.21 1531.6 Q2317.21 1540.33 2314.14 1544.94 Q2311.08 1549.52 2305.27 1549.52 Q2299.46 1549.52 2296.38 1544.94 Q2293.33 1540.33 2293.33 1531.6 Q2293.33 1522.85 2296.38 1518.27 Q2299.46 1513.66 2305.27 1513.66 Z\" fill=\"#000000\" fill-rule=\"evenodd\" fill-opacity=\"1\" /><polyline clip-path=\"url(#clip592)\" style=\"stroke:#000000; stroke-linecap:butt; stroke-linejoin:round; stroke-width:2; stroke-opacity:0.1; fill:none\" points=\"\n  178.867,1447.87 2352.76,1447.87 \n  \"/>\n<polyline clip-path=\"url(#clip592)\" style=\"stroke:#000000; stroke-linecap:butt; stroke-linejoin:round; stroke-width:2; stroke-opacity:0.1; fill:none\" points=\"\n  178.867,1036.41 2352.76,1036.41 \n  \"/>\n<polyline clip-path=\"url(#clip592)\" style=\"stroke:#000000; stroke-linecap:butt; stroke-linejoin:round; stroke-width:2; stroke-opacity:0.1; fill:none\" points=\"\n  178.867,624.941 2352.76,624.941 \n  \"/>\n<polyline clip-path=\"url(#clip592)\" style=\"stroke:#000000; stroke-linecap:butt; stroke-linejoin:round; stroke-width:2; stroke-opacity:0.1; fill:none\" points=\"\n  178.867,213.475 2352.76,213.475 \n  \"/>\n<polyline clip-path=\"url(#clip590)\" style=\"stroke:#000000; stroke-linecap:butt; stroke-linejoin:round; stroke-width:4; stroke-opacity:1; fill:none\" points=\"\n  178.867,1486.45 178.867,123.472 \n  \"/>\n<polyline clip-path=\"url(#clip590)\" style=\"stroke:#000000; stroke-linecap:butt; stroke-linejoin:round; stroke-width:4; stroke-opacity:1; fill:none\" points=\"\n  178.867,1447.87 197.764,1447.87 \n  \"/>\n<polyline clip-path=\"url(#clip590)\" style=\"stroke:#000000; stroke-linecap:butt; stroke-linejoin:round; stroke-width:4; stroke-opacity:1; fill:none\" points=\"\n  178.867,1036.41 197.764,1036.41 \n  \"/>\n<polyline clip-path=\"url(#clip590)\" style=\"stroke:#000000; stroke-linecap:butt; stroke-linejoin:round; stroke-width:4; stroke-opacity:1; fill:none\" points=\"\n  178.867,624.941 197.764,624.941 \n  \"/>\n<polyline clip-path=\"url(#clip590)\" style=\"stroke:#000000; stroke-linecap:butt; stroke-linejoin:round; stroke-width:4; stroke-opacity:1; fill:none\" points=\"\n  178.867,213.475 197.764,213.475 \n  \"/>\n<path clip-path=\"url(#clip590)\" d=\"M50.9921 1448.32 L80.6679 1448.32 L80.6679 1452.26 L50.9921 1452.26 L50.9921 1448.32 Z\" fill=\"#000000\" fill-rule=\"evenodd\" fill-opacity=\"1\" /><path clip-path=\"url(#clip590)\" d=\"M104.927 1446.52 Q108.283 1447.24 110.158 1449.51 Q112.057 1451.77 112.057 1455.11 Q112.057 1460.22 108.538 1463.02 Q105.02 1465.82 98.5382 1465.82 Q96.3623 1465.82 94.0475 1465.38 Q91.7558 1464.97 89.3021 1464.11 L89.3021 1459.6 Q91.2465 1460.73 93.5613 1461.31 Q95.8761 1461.89 98.3993 1461.89 Q102.797 1461.89 105.089 1460.15 Q107.404 1458.42 107.404 1455.11 Q107.404 1452.05 105.251 1450.34 Q103.121 1448.6 99.3021 1448.6 L95.2743 1448.6 L95.2743 1444.76 L99.4872 1444.76 Q102.936 1444.76 104.765 1443.39 Q106.594 1442.01 106.594 1439.41 Q106.594 1436.75 104.696 1435.34 Q102.821 1433.9 99.3021 1433.9 Q97.3808 1433.9 95.1817 1434.32 Q92.9826 1434.74 90.3438 1435.62 L90.3438 1431.45 Q93.0058 1430.71 95.3206 1430.34 Q97.6585 1429.97 99.7187 1429.97 Q105.043 1429.97 108.145 1432.4 Q111.246 1434.81 111.246 1438.93 Q111.246 1441.8 109.603 1443.79 Q107.959 1445.76 104.927 1446.52 Z\" fill=\"#000000\" fill-rule=\"evenodd\" fill-opacity=\"1\" /><path clip-path=\"url(#clip590)\" d=\"M130.922 1433.67 Q127.311 1433.67 125.482 1437.24 Q123.677 1440.78 123.677 1447.91 Q123.677 1455.01 125.482 1458.58 Q127.311 1462.12 130.922 1462.12 Q134.556 1462.12 136.362 1458.58 Q138.191 1455.01 138.191 1447.91 Q138.191 1440.78 136.362 1437.24 Q134.556 1433.67 130.922 1433.67 M130.922 1429.97 Q136.732 1429.97 139.788 1434.57 Q142.867 1439.16 142.867 1447.91 Q142.867 1456.63 139.788 1461.24 Q136.732 1465.82 130.922 1465.82 Q125.112 1465.82 122.033 1461.24 Q118.978 1456.63 118.978 1447.91 Q118.978 1439.16 122.033 1434.57 Q125.112 1429.97 130.922 1429.97 Z\" fill=\"#000000\" fill-rule=\"evenodd\" fill-opacity=\"1\" /><path clip-path=\"url(#clip590)\" d=\"M50.9921 1036.86 L80.6679 1036.86 L80.6679 1040.79 L50.9921 1040.79 L50.9921 1036.86 Z\" fill=\"#000000\" fill-rule=\"evenodd\" fill-opacity=\"1\" /><path clip-path=\"url(#clip590)\" d=\"M94.7882 1049.75 L111.108 1049.75 L111.108 1053.69 L89.1632 1053.69 L89.1632 1049.75 Q91.8252 1047 96.4085 1042.37 Q101.015 1037.71 102.196 1036.37 Q104.441 1033.85 105.321 1032.11 Q106.223 1030.35 106.223 1028.66 Q106.223 1025.91 104.279 1024.17 Q102.358 1022.44 99.2558 1022.44 Q97.0567 1022.44 94.603 1023.2 Q92.1725 1023.96 89.3947 1025.52 L89.3947 1020.79 Q92.2188 1019.66 94.6724 1019.08 Q97.1261 1018.5 99.1632 1018.5 Q104.534 1018.5 107.728 1021.19 Q110.922 1023.87 110.922 1028.36 Q110.922 1030.49 110.112 1032.41 Q109.325 1034.31 107.219 1036.9 Q106.64 1037.58 103.538 1040.79 Q100.436 1043.99 94.7882 1049.75 Z\" fill=\"#000000\" fill-rule=\"evenodd\" fill-opacity=\"1\" /><path clip-path=\"url(#clip590)\" d=\"M130.922 1022.21 Q127.311 1022.21 125.482 1025.77 Q123.677 1029.31 123.677 1036.44 Q123.677 1043.55 125.482 1047.11 Q127.311 1050.65 130.922 1050.65 Q134.556 1050.65 136.362 1047.11 Q138.191 1043.55 138.191 1036.44 Q138.191 1029.31 136.362 1025.77 Q134.556 1022.21 130.922 1022.21 M130.922 1018.5 Q136.732 1018.5 139.788 1023.11 Q142.867 1027.69 142.867 1036.44 Q142.867 1045.17 139.788 1049.78 Q136.732 1054.36 130.922 1054.36 Q125.112 1054.36 122.033 1049.78 Q118.978 1045.17 118.978 1036.44 Q118.978 1027.69 122.033 1023.11 Q125.112 1018.5 130.922 1018.5 Z\" fill=\"#000000\" fill-rule=\"evenodd\" fill-opacity=\"1\" /><path clip-path=\"url(#clip590)\" d=\"M50.9921 625.392 L80.6679 625.392 L80.6679 629.328 L50.9921 629.328 L50.9921 625.392 Z\" fill=\"#000000\" fill-rule=\"evenodd\" fill-opacity=\"1\" /><path clip-path=\"url(#clip590)\" d=\"M91.5706 638.286 L99.2095 638.286 L99.2095 611.92 L90.8993 613.587 L90.8993 609.328 L99.1632 607.661 L103.839 607.661 L103.839 638.286 L111.478 638.286 L111.478 642.221 L91.5706 642.221 L91.5706 638.286 Z\" fill=\"#000000\" fill-rule=\"evenodd\" fill-opacity=\"1\" /><path clip-path=\"url(#clip590)\" d=\"M130.922 610.74 Q127.311 610.74 125.482 614.304 Q123.677 617.846 123.677 624.976 Q123.677 632.082 125.482 635.647 Q127.311 639.189 130.922 639.189 Q134.556 639.189 136.362 635.647 Q138.191 632.082 138.191 624.976 Q138.191 617.846 136.362 614.304 Q134.556 610.74 130.922 610.74 M130.922 607.036 Q136.732 607.036 139.788 611.642 Q142.867 616.226 142.867 624.976 Q142.867 633.703 139.788 638.309 Q136.732 642.892 130.922 642.892 Q125.112 642.892 122.033 638.309 Q118.978 633.703 118.978 624.976 Q118.978 616.226 122.033 611.642 Q125.112 607.036 130.922 607.036 Z\" fill=\"#000000\" fill-rule=\"evenodd\" fill-opacity=\"1\" /><path clip-path=\"url(#clip590)\" d=\"M130.922 199.274 Q127.311 199.274 125.482 202.838 Q123.677 206.38 123.677 213.51 Q123.677 220.616 125.482 224.181 Q127.311 227.723 130.922 227.723 Q134.556 227.723 136.362 224.181 Q138.191 220.616 138.191 213.51 Q138.191 206.38 136.362 202.838 Q134.556 199.274 130.922 199.274 M130.922 195.57 Q136.732 195.57 139.788 200.176 Q142.867 204.76 142.867 213.51 Q142.867 222.236 139.788 226.843 Q136.732 231.426 130.922 231.426 Q125.112 231.426 122.033 226.843 Q118.978 222.236 118.978 213.51 Q118.978 204.76 122.033 200.176 Q125.112 195.57 130.922 195.57 Z\" fill=\"#000000\" fill-rule=\"evenodd\" fill-opacity=\"1\" /><path clip-path=\"url(#clip590)\" d=\"M837.691 16.7545 L837.691 25.383 Q833.56 21.5346 828.86 19.6307 Q824.202 17.7268 818.936 17.7268 Q808.565 17.7268 803.056 24.0867 Q797.547 30.4061 797.547 42.3968 Q797.547 54.3469 803.056 60.7069 Q808.565 67.0263 818.936 67.0263 Q824.202 67.0263 828.86 65.1223 Q833.56 63.2184 837.691 59.3701 L837.691 67.9175 Q833.397 70.8341 828.577 72.2924 Q823.797 73.7508 818.45 73.7508 Q804.717 73.7508 796.818 65.3654 Q788.919 56.9395 788.919 42.3968 Q788.919 27.8135 796.818 19.4281 Q804.717 11.0023 818.45 11.0023 Q823.878 11.0023 828.658 12.4606 Q833.479 13.8784 837.691 16.7545 Z\" fill=\"#000000\" fill-rule=\"evenodd\" fill-opacity=\"1\" /><path clip-path=\"url(#clip590)\" d=\"M870.625 49.7694 Q861.592 49.7694 858.108 51.8354 Q854.624 53.9013 854.624 58.8839 Q854.624 62.8538 857.217 65.2034 Q859.85 67.5124 864.346 67.5124 Q870.544 67.5124 874.271 63.1374 Q878.038 58.7219 878.038 51.4303 L878.038 49.7694 L870.625 49.7694 M885.492 46.6907 L885.492 72.576 L878.038 72.576 L878.038 65.6895 Q875.486 69.8214 871.679 71.8063 Q867.871 73.7508 862.361 73.7508 Q855.394 73.7508 851.262 69.8619 Q847.171 65.9325 847.171 59.3701 Q847.171 51.7138 852.275 47.825 Q857.419 43.9361 867.587 43.9361 L878.038 43.9361 L878.038 43.2069 Q878.038 38.0623 874.636 35.2672 Q871.273 32.4315 865.157 32.4315 Q861.268 32.4315 857.581 33.3632 Q853.895 34.295 850.492 36.1584 L850.492 29.2718 Q854.584 27.692 858.432 26.9223 Q862.28 26.1121 865.926 26.1121 Q875.77 26.1121 880.631 31.2163 Q885.492 36.3204 885.492 46.6907 Z\" fill=\"#000000\" fill-rule=\"evenodd\" fill-opacity=\"1\" /><path clip-path=\"url(#clip590)\" d=\"M938.559 45.1919 L938.559 72.576 L931.105 72.576 L931.105 45.4349 Q931.105 38.994 928.594 35.7938 Q926.082 32.5936 921.059 32.5936 Q915.023 32.5936 911.539 36.4419 Q908.056 40.2903 908.056 46.9338 L908.056 72.576 L900.561 72.576 L900.561 27.2059 L908.056 27.2059 L908.056 34.2544 Q910.729 30.163 914.335 28.1376 Q917.98 26.1121 922.72 26.1121 Q930.538 26.1121 934.549 30.9732 Q938.559 35.7938 938.559 45.1919 Z\" fill=\"#000000\" fill-rule=\"evenodd\" fill-opacity=\"1\" /><path clip-path=\"url(#clip590)\" d=\"M998.674 76.7889 Q995.515 84.8907 992.517 87.3618 Q989.519 89.8329 984.496 89.8329 L978.541 89.8329 L978.541 83.5945 L982.916 83.5945 Q985.995 83.5945 987.696 82.1361 Q989.398 80.6778 991.464 75.2496 L992.801 71.8468 L974.45 27.2059 L982.349 27.2059 L996.527 62.6918 L1010.71 27.2059 L1018.6 27.2059 L998.674 76.7889 Z\" fill=\"#000000\" fill-rule=\"evenodd\" fill-opacity=\"1\" /><path clip-path=\"url(#clip590)\" d=\"M1046.48 32.4315 Q1040.48 32.4315 1037 37.1306 Q1033.51 41.7891 1033.51 49.9314 Q1033.51 58.0738 1036.96 62.7728 Q1040.44 67.4314 1046.48 67.4314 Q1052.43 67.4314 1055.91 62.7323 Q1059.4 58.0333 1059.4 49.9314 Q1059.4 41.8701 1055.91 37.1711 Q1052.43 32.4315 1046.48 32.4315 M1046.48 26.1121 Q1056.2 26.1121 1061.75 32.4315 Q1067.3 38.7509 1067.3 49.9314 Q1067.3 61.0714 1061.75 67.4314 Q1056.2 73.7508 1046.48 73.7508 Q1036.71 73.7508 1031.16 67.4314 Q1025.65 61.0714 1025.65 49.9314 Q1025.65 38.7509 1031.16 32.4315 Q1036.71 26.1121 1046.48 26.1121 Z\" fill=\"#000000\" fill-rule=\"evenodd\" fill-opacity=\"1\" /><path clip-path=\"url(#clip590)\" d=\"M1078.88 54.671 L1078.88 27.2059 L1086.34 27.2059 L1086.34 54.3874 Q1086.34 60.8284 1088.85 64.0691 Q1091.36 67.2693 1096.38 67.2693 Q1102.42 67.2693 1105.9 63.421 Q1109.43 59.5726 1109.43 52.9291 L1109.43 27.2059 L1116.88 27.2059 L1116.88 72.576 L1109.43 72.576 L1109.43 65.6084 Q1106.71 69.7404 1103.11 71.7658 Q1099.54 73.7508 1094.8 73.7508 Q1086.98 73.7508 1082.93 68.8897 Q1078.88 64.0286 1078.88 54.671 M1097.64 26.1121 L1097.64 26.1121 Z\" fill=\"#000000\" fill-rule=\"evenodd\" fill-opacity=\"1\" /><path clip-path=\"url(#clip590)\" d=\"M1181.57 9.54393 L1181.57 15.7418 L1174.44 15.7418 Q1170.43 15.7418 1168.85 17.3622 Q1167.31 18.9825 1167.31 23.1955 L1167.31 27.2059 L1179.59 27.2059 L1179.59 32.9987 L1167.31 32.9987 L1167.31 72.576 L1159.82 72.576 L1159.82 32.9987 L1152.69 32.9987 L1152.69 27.2059 L1159.82 27.2059 L1159.82 24.0462 Q1159.82 16.471 1163.34 13.0277 Q1166.87 9.54393 1174.52 9.54393 L1181.57 9.54393 Z\" fill=\"#000000\" fill-rule=\"evenodd\" fill-opacity=\"1\" /><path clip-path=\"url(#clip590)\" d=\"M1187.81 27.2059 L1195.26 27.2059 L1195.26 72.576 L1187.81 72.576 L1187.81 27.2059 M1187.81 9.54393 L1195.26 9.54393 L1195.26 18.9825 L1187.81 18.9825 L1187.81 9.54393 Z\" fill=\"#000000\" fill-rule=\"evenodd\" fill-opacity=\"1\" /><path clip-path=\"url(#clip590)\" d=\"M1248.57 45.1919 L1248.57 72.576 L1241.12 72.576 L1241.12 45.4349 Q1241.12 38.994 1238.61 35.7938 Q1236.1 32.5936 1231.07 32.5936 Q1225.04 32.5936 1221.56 36.4419 Q1218.07 40.2903 1218.07 46.9338 L1218.07 72.576 L1210.58 72.576 L1210.58 27.2059 L1218.07 27.2059 L1218.07 34.2544 Q1220.74 30.163 1224.35 28.1376 Q1228 26.1121 1232.74 26.1121 Q1240.55 26.1121 1244.56 30.9732 Q1248.57 35.7938 1248.57 45.1919 Z\" fill=\"#000000\" fill-rule=\"evenodd\" fill-opacity=\"1\" /><path clip-path=\"url(#clip590)\" d=\"M1293.3 34.0924 L1293.3 9.54393 L1300.75 9.54393 L1300.75 72.576 L1293.3 72.576 L1293.3 65.7705 Q1290.95 69.8214 1287.34 71.8063 Q1283.78 73.7508 1278.75 73.7508 Q1270.53 73.7508 1265.35 67.1883 Q1260.2 60.6258 1260.2 49.9314 Q1260.2 39.2371 1265.35 32.6746 Q1270.53 26.1121 1278.75 26.1121 Q1283.78 26.1121 1287.34 28.0971 Q1290.95 30.0415 1293.3 34.0924 M1267.9 49.9314 Q1267.9 58.1548 1271.26 62.8538 Q1274.66 67.5124 1280.58 67.5124 Q1286.49 67.5124 1289.89 62.8538 Q1293.3 58.1548 1293.3 49.9314 Q1293.3 41.7081 1289.89 37.0496 Q1286.49 32.3505 1280.58 32.3505 Q1274.66 32.3505 1271.26 37.0496 Q1267.9 41.7081 1267.9 49.9314 Z\" fill=\"#000000\" fill-rule=\"evenodd\" fill-opacity=\"1\" /><path clip-path=\"url(#clip590)\" d=\"M1349.85 14.324 L1349.85 27.2059 L1365.2 27.2059 L1365.2 32.9987 L1349.85 32.9987 L1349.85 57.6282 Q1349.85 63.1779 1351.35 64.7578 Q1352.89 66.3376 1357.54 66.3376 L1365.2 66.3376 L1365.2 72.576 L1357.54 72.576 Q1348.92 72.576 1345.63 69.3758 Q1342.35 66.1351 1342.35 57.6282 L1342.35 32.9987 L1336.88 32.9987 L1336.88 27.2059 L1342.35 27.2059 L1342.35 14.324 L1349.85 14.324 Z\" fill=\"#000000\" fill-rule=\"evenodd\" fill-opacity=\"1\" /><path clip-path=\"url(#clip590)\" d=\"M1412.72 45.1919 L1412.72 72.576 L1405.26 72.576 L1405.26 45.4349 Q1405.26 38.994 1402.75 35.7938 Q1400.24 32.5936 1395.22 32.5936 Q1389.18 32.5936 1385.7 36.4419 Q1382.21 40.2903 1382.21 46.9338 L1382.21 72.576 L1374.72 72.576 L1374.72 9.54393 L1382.21 9.54393 L1382.21 34.2544 Q1384.89 30.163 1388.49 28.1376 Q1392.14 26.1121 1396.88 26.1121 Q1404.7 26.1121 1408.71 30.9732 Q1412.72 35.7938 1412.72 45.1919 Z\" fill=\"#000000\" fill-rule=\"evenodd\" fill-opacity=\"1\" /><path clip-path=\"url(#clip590)\" d=\"M1466.39 48.0275 L1466.39 51.6733 L1432.12 51.6733 Q1432.61 59.3701 1436.74 63.421 Q1440.91 67.4314 1448.32 67.4314 Q1452.62 67.4314 1456.63 66.3781 Q1460.68 65.3249 1464.65 63.2184 L1464.65 70.267 Q1460.64 71.9684 1456.43 72.8596 Q1452.21 73.7508 1447.88 73.7508 Q1437.02 73.7508 1430.66 67.4314 Q1424.34 61.1119 1424.34 50.3365 Q1424.34 39.1965 1430.34 32.6746 Q1436.37 26.1121 1446.58 26.1121 Q1455.74 26.1121 1461.04 32.0264 Q1466.39 37.9003 1466.39 48.0275 M1458.94 45.84 Q1458.86 39.7232 1455.49 36.0774 Q1452.17 32.4315 1446.66 32.4315 Q1440.43 32.4315 1436.66 35.9558 Q1432.93 39.4801 1432.36 45.8805 L1458.94 45.84 Z\" fill=\"#000000\" fill-rule=\"evenodd\" fill-opacity=\"1\" /><path clip-path=\"url(#clip590)\" d=\"M1540.32 35.9153 Q1543.12 30.8922 1547 28.5022 Q1550.89 26.1121 1556.16 26.1121 Q1563.25 26.1121 1567.1 31.0947 Q1570.95 36.0368 1570.95 45.1919 L1570.95 72.576 L1563.45 72.576 L1563.45 45.4349 Q1563.45 38.913 1561.14 35.7533 Q1558.83 32.5936 1554.09 32.5936 Q1548.3 32.5936 1544.94 36.4419 Q1541.58 40.2903 1541.58 46.9338 L1541.58 72.576 L1534.08 72.576 L1534.08 45.4349 Q1534.08 38.8725 1531.77 35.7533 Q1529.46 32.5936 1524.64 32.5936 Q1518.93 32.5936 1515.57 36.4824 Q1512.21 40.3308 1512.21 46.9338 L1512.21 72.576 L1504.71 72.576 L1504.71 27.2059 L1512.21 27.2059 L1512.21 34.2544 Q1514.76 30.082 1518.32 28.0971 Q1521.89 26.1121 1526.79 26.1121 Q1531.73 26.1121 1535.18 28.6237 Q1538.66 31.1352 1540.32 35.9153 Z\" fill=\"#000000\" fill-rule=\"evenodd\" fill-opacity=\"1\" /><path clip-path=\"url(#clip590)\" d=\"M1606.43 49.7694 Q1597.4 49.7694 1593.91 51.8354 Q1590.43 53.9013 1590.43 58.8839 Q1590.43 62.8538 1593.02 65.2034 Q1595.66 67.5124 1600.15 67.5124 Q1606.35 67.5124 1610.08 63.1374 Q1613.84 58.7219 1613.84 51.4303 L1613.84 49.7694 L1606.43 49.7694 M1621.3 46.6907 L1621.3 72.576 L1613.84 72.576 L1613.84 65.6895 Q1611.29 69.8214 1607.48 71.8063 Q1603.68 73.7508 1598.17 73.7508 Q1591.2 73.7508 1587.07 69.8619 Q1582.98 65.9325 1582.98 59.3701 Q1582.98 51.7138 1588.08 47.825 Q1593.23 43.9361 1603.39 43.9361 L1613.84 43.9361 L1613.84 43.2069 Q1613.84 38.0623 1610.44 35.2672 Q1607.08 32.4315 1600.96 32.4315 Q1597.07 32.4315 1593.39 33.3632 Q1589.7 34.295 1586.3 36.1584 L1586.3 29.2718 Q1590.39 27.692 1594.24 26.9223 Q1598.09 26.1121 1601.73 26.1121 Q1611.58 26.1121 1616.44 31.2163 Q1621.3 36.3204 1621.3 46.6907 Z\" fill=\"#000000\" fill-rule=\"evenodd\" fill-opacity=\"1\" /><path clip-path=\"url(#clip590)\" d=\"M1674.37 27.2059 L1657.96 49.2833 L1675.22 72.576 L1666.43 72.576 L1653.22 54.752 L1640.01 72.576 L1631.22 72.576 L1648.84 48.8377 L1632.72 27.2059 L1641.51 27.2059 L1653.54 43.369 L1665.57 27.2059 L1674.37 27.2059 Z\" fill=\"#000000\" fill-rule=\"evenodd\" fill-opacity=\"1\" /><path clip-path=\"url(#clip590)\" d=\"M1693.77 62.2867 L1701.99 62.2867 L1701.99 72.576 L1693.77 72.576 L1693.77 62.2867 M1701.75 56.3319 L1694.01 56.3319 L1694.01 50.0935 Q1694.01 46.0021 1695.15 43.369 Q1696.28 40.7359 1699.93 37.2521 L1703.57 33.6468 Q1705.88 31.4998 1706.89 29.5959 Q1707.95 27.692 1707.95 25.707 Q1707.95 22.1017 1705.27 19.8737 Q1702.64 17.6457 1698.27 17.6457 Q1695.07 17.6457 1691.42 19.0636 Q1687.81 20.4814 1683.88 23.1955 L1683.88 15.5798 Q1687.69 13.2708 1691.58 12.1365 Q1695.51 11.0023 1699.68 11.0023 Q1707.14 11.0023 1711.63 14.9316 Q1716.17 18.861 1716.17 25.3019 Q1716.17 28.3806 1714.71 31.1758 Q1713.25 33.9304 1709.61 37.4142 L1706.04 40.8979 Q1704.14 42.8019 1703.33 43.8956 Q1702.56 44.9488 1702.24 45.9616 Q1701.99 46.8122 1701.87 48.0275 Q1701.75 49.2428 1701.75 51.3493 L1701.75 56.3319 Z\" fill=\"#000000\" fill-rule=\"evenodd\" fill-opacity=\"1\" /><path clip-path=\"url(#clip590)\" d=\"M1734.48 62.2867 L1742.7 62.2867 L1742.7 72.576 L1734.48 72.576 L1734.48 62.2867 M1734.48 12.096 L1742.7 12.096 L1742.7 38.6294 L1741.89 53.0912 L1735.33 53.0912 L1734.48 38.6294 L1734.48 12.096 Z\" fill=\"#000000\" fill-rule=\"evenodd\" fill-opacity=\"1\" /><polyline clip-path=\"url(#clip592)\" style=\"stroke:#009af9; stroke-linecap:butt; stroke-linejoin:round; stroke-width:8; stroke-opacity:1; fill:none\" points=\"\n  240.392,1447.87 261.107,1406.65 281.823,1366.09 302.538,1326.21 323.254,1287 343.97,1248.46 364.685,1210.59 385.401,1173.39 406.116,1136.87 426.832,1101.02 \n  447.547,1065.84 468.263,1031.33 488.978,997.49 509.694,964.324 530.409,931.83 551.125,900.007 571.841,868.857 592.556,838.378 613.272,808.57 633.987,779.435 \n  654.703,750.971 675.418,723.179 696.134,696.059 716.849,669.61 737.565,643.833 758.28,618.728 778.996,594.294 799.712,570.532 820.427,547.442 841.143,525.024 \n  861.858,503.277 882.574,482.202 903.289,461.799 924.005,442.067 944.72,423.007 965.436,404.619 986.151,386.903 1006.87,369.858 1027.58,353.485 1048.3,337.784 \n  1069.01,322.754 1089.73,308.396 1110.44,294.71 1131.16,281.696 1151.88,269.353 1172.59,257.682 1193.31,246.683 1214.02,236.355 1234.74,226.699 1255.45,217.715 \n  1276.17,209.403 1296.88,201.762 1317.6,194.793 1338.32,188.496 1359.03,182.87 1379.75,177.916 1400.46,173.634 1421.18,170.024 1441.89,167.085 1462.61,164.818 \n  1483.32,163.222 1504.04,162.299 1524.76,162.047 1545.47,162.467 1566.19,163.558 1586.9,165.322 1607.62,167.756 1628.33,170.863 1649.05,174.642 1669.76,179.092 \n  1690.48,184.213 1711.2,190.007 1731.91,196.472 1752.63,203.609 1773.34,211.418 1794.06,219.898 1814.77,229.05 1835.49,238.874 1856.2,249.37 1876.92,260.537 \n  1897.64,272.376 1918.35,284.886 1939.07,298.069 1959.78,311.923 1980.5,326.449 2001.21,341.646 2021.93,357.515 2042.64,374.056 2063.36,391.269 2084.08,409.153 \n  2104.79,427.709 2125.51,446.937 2146.22,466.837 2166.94,487.408 2187.65,508.651 2208.37,530.565 2229.08,553.152 2249.8,576.41 2270.52,600.339 2291.23,624.941 \n  \n  \"/>\n</svg>\n"
     },
     "execution_count": 108,
     "metadata": {},
     "output_type": "execute_result"
    }
   ],
   "source": [
    "npoints = 100\n",
    "a, b = (-10, 10)\n",
    "x = range(a, b, length = npoints)\n",
    "α = 0.2 \n",
    "\n",
    "U(x) = x .- α .* x .^ 2\n",
    "\n",
    "plot(x, U.(x), legend = false, lw = 2, title = \"Can you find the max?!\")"
   ]
  },
  {
   "cell_type": "markdown",
   "metadata": {},
   "source": [
    "As you can see, we can approximately guess from the graph where the highest value for this graph is going to be. It be somewhere in the interval between 10 and 15. However, this is not precise enough. We need some method to give us the exact answer, this is where derivatives will enter. Another approach is just to consider each of the utility values and then pick the maximum from the list. Luckily Julia has a function called `findmax()` that can do this for us. \n",
    "\n",
    "Don't worry too much about the code for now, this won't make too much sense at first. I will try and explain the basic idea, but if you don't get it don't worry. Try and come back to this code at a later stage once you are more familiar with programming in Julia. Then try and evaluate every line and see if you can make sense of what is happening here. "
   ]
  },
  {
   "cell_type": "code",
   "execution_count": 116,
   "metadata": {},
   "outputs": [
    {
     "data": {
      "text/plain": [
       "(1.249872461993674, 63)"
      ]
     },
     "execution_count": 116,
     "metadata": {},
     "output_type": "execute_result"
    }
   ],
   "source": [
    "fmax, ix = findmax(U.(x))\t"
   ]
  },
  {
   "cell_type": "markdown",
   "metadata": {},
   "source": [
    "We can see from above that if we evaluate our utility function with the `findmax()` function a tuple is returned. The first value in the tuple is the function output at the maximum. In other words it is the value of utility where this function is maximised. It is the value on the y-axis. The second value in the tuple is the position in the list of $x$ values that we evaluated. If we go back in our code you will see that we created a range of $x$ values in the interval $-10$ to $10$. We created a grid of 100 points within the interval (generated 100 potential values for $x$) and inserted those $x$ values into the utility function at each of the given points. \n",
    "\n",
    "According to the `findmax()` function, the 63rd value in in that grid of $x$ values was the one that maximised the function. This is also referred to as the $\\argmax$ in mathematics. We can then find the $x$ value by looking at `x[ix]`, which is basically the same as `x[63]` in this case. Remember how to access elements in an array from the previous tutorial. "
   ]
  },
  {
   "cell_type": "code",
   "execution_count": 118,
   "metadata": {},
   "outputs": [
    {
     "data": {
      "text/plain": [
       "true"
      ]
     },
     "execution_count": 118,
     "metadata": {},
     "output_type": "execute_result"
    }
   ],
   "source": [
    "x[ix] == x[63]"
   ]
  },
  {
   "cell_type": "markdown",
   "metadata": {},
   "source": [
    "The maximum here is $2.52525252 \\ldots$. If we chose a finer grid for $x$ we would be able to get a better approximation for the true value that maximises this function."
   ]
  },
  {
   "cell_type": "code",
   "execution_count": 120,
   "metadata": {},
   "outputs": [
    {
     "data": {
      "text/plain": [
       "2.525252525252525"
      ]
     },
     "execution_count": 120,
     "metadata": {},
     "output_type": "execute_result"
    }
   ],
   "source": [
    "x[ix] "
   ]
  },
  {
   "cell_type": "markdown",
   "metadata": {},
   "source": [
    "In the graph below we simply draw a scatter plot with the $x$ value being represented by the 63rd point in the $x$ vector."
   ]
  },
  {
   "cell_type": "code",
   "execution_count": 121,
   "metadata": {},
   "outputs": [
    {
     "data": {
      "image/svg+xml": "<?xml version=\"1.0\" encoding=\"utf-8\"?>\n<svg xmlns=\"http://www.w3.org/2000/svg\" xmlns:xlink=\"http://www.w3.org/1999/xlink\" width=\"600\" height=\"400\" viewBox=\"0 0 2400 1600\">\n<defs>\n  <clipPath id=\"clip790\">\n    <rect x=\"0\" y=\"0\" width=\"2400\" height=\"1600\"/>\n  </clipPath>\n</defs>\n<path clip-path=\"url(#clip790)\" d=\"\nM0 1600 L2400 1600 L2400 0 L0 0  Z\n  \" fill=\"#ffffff\" fill-rule=\"evenodd\" fill-opacity=\"1\"/>\n<defs>\n  <clipPath id=\"clip791\">\n    <rect x=\"480\" y=\"0\" width=\"1681\" height=\"1600\"/>\n  </clipPath>\n</defs>\n<path clip-path=\"url(#clip790)\" d=\"\nM178.867 1486.45 L2352.76 1486.45 L2352.76 123.472 L178.867 123.472  Z\n  \" fill=\"#ffffff\" fill-rule=\"evenodd\" fill-opacity=\"1\"/>\n<defs>\n  <clipPath id=\"clip792\">\n    <rect x=\"178\" y=\"123\" width=\"2175\" height=\"1364\"/>\n  </clipPath>\n</defs>\n<polyline clip-path=\"url(#clip792)\" style=\"stroke:#000000; stroke-linecap:butt; stroke-linejoin:round; stroke-width:2; stroke-opacity:0.1; fill:none\" points=\"\n  1524.76,1486.45 1524.76,123.472 \n  \"/>\n<polyline clip-path=\"url(#clip790)\" style=\"stroke:#000000; stroke-linecap:butt; stroke-linejoin:round; stroke-width:4; stroke-opacity:1; fill:none\" points=\"\n  178.867,1486.45 2352.76,1486.45 \n  \"/>\n<polyline clip-path=\"url(#clip790)\" style=\"stroke:#000000; stroke-linecap:butt; stroke-linejoin:round; stroke-width:4; stroke-opacity:1; fill:none\" points=\"\n  1524.76,1486.45 1524.76,1467.55 \n  \"/>\n<path clip-path=\"url(#clip790)\" d=\"M1406.01 1544.91 L1422.33 1544.91 L1422.33 1548.85 L1400.38 1548.85 L1400.38 1544.91 Q1403.04 1542.16 1407.63 1537.53 Q1412.23 1532.88 1413.41 1531.53 Q1415.66 1529.01 1416.54 1527.27 Q1417.44 1525.51 1417.44 1523.82 Q1417.44 1521.07 1415.5 1519.33 Q1413.58 1517.6 1410.47 1517.6 Q1408.27 1517.6 1405.82 1518.36 Q1403.39 1519.13 1400.61 1520.68 L1400.61 1515.95 Q1403.44 1514.82 1405.89 1514.24 Q1408.34 1513.66 1410.38 1513.66 Q1415.75 1513.66 1418.95 1516.35 Q1422.14 1519.03 1422.14 1523.52 Q1422.14 1525.65 1421.33 1527.57 Q1420.54 1529.47 1418.44 1532.07 Q1417.86 1532.74 1414.76 1535.95 Q1411.65 1539.15 1406.01 1544.91 Z\" fill=\"#000000\" fill-rule=\"evenodd\" fill-opacity=\"1\" /><path clip-path=\"url(#clip790)\" d=\"M1432.14 1542.97 L1437.02 1542.97 L1437.02 1548.85 L1432.14 1548.85 L1432.14 1542.97 Z\" fill=\"#000000\" fill-rule=\"evenodd\" fill-opacity=\"1\" /><path clip-path=\"url(#clip790)\" d=\"M1447.26 1514.29 L1465.61 1514.29 L1465.61 1518.22 L1451.54 1518.22 L1451.54 1526.7 Q1452.56 1526.35 1453.58 1526.19 Q1454.59 1526 1455.61 1526 Q1461.4 1526 1464.78 1529.17 Q1468.16 1532.34 1468.16 1537.76 Q1468.16 1543.34 1464.69 1546.44 Q1461.21 1549.52 1454.89 1549.52 Q1452.72 1549.52 1450.45 1549.15 Q1448.21 1548.78 1445.8 1548.04 L1445.8 1543.34 Q1447.88 1544.47 1450.1 1545.03 Q1452.33 1545.58 1454.8 1545.58 Q1458.81 1545.58 1461.14 1543.48 Q1463.48 1541.37 1463.48 1537.76 Q1463.48 1534.15 1461.14 1532.04 Q1458.81 1529.94 1454.8 1529.94 Q1452.93 1529.94 1451.05 1530.35 Q1449.2 1530.77 1447.26 1531.65 L1447.26 1514.29 Z\" fill=\"#000000\" fill-rule=\"evenodd\" fill-opacity=\"1\" /><path clip-path=\"url(#clip790)\" d=\"M1481.4 1544.91 L1497.72 1544.91 L1497.72 1548.85 L1475.77 1548.85 L1475.77 1544.91 Q1478.44 1542.16 1483.02 1537.53 Q1487.63 1532.88 1488.81 1531.53 Q1491.05 1529.01 1491.93 1527.27 Q1492.83 1525.51 1492.83 1523.82 Q1492.83 1521.07 1490.89 1519.33 Q1488.97 1517.6 1485.87 1517.6 Q1483.67 1517.6 1481.21 1518.36 Q1478.78 1519.13 1476.01 1520.68 L1476.01 1515.95 Q1478.83 1514.82 1481.28 1514.24 Q1483.74 1513.66 1485.77 1513.66 Q1491.14 1513.66 1494.34 1516.35 Q1497.53 1519.03 1497.53 1523.52 Q1497.53 1525.65 1496.72 1527.57 Q1495.94 1529.47 1493.83 1532.07 Q1493.25 1532.74 1490.15 1535.95 Q1487.05 1539.15 1481.4 1544.91 Z\" fill=\"#000000\" fill-rule=\"evenodd\" fill-opacity=\"1\" /><path clip-path=\"url(#clip790)\" d=\"M1507.58 1514.29 L1525.94 1514.29 L1525.94 1518.22 L1511.86 1518.22 L1511.86 1526.7 Q1512.88 1526.35 1513.9 1526.19 Q1514.92 1526 1515.94 1526 Q1521.72 1526 1525.1 1529.17 Q1528.48 1532.34 1528.48 1537.76 Q1528.48 1543.34 1525.01 1546.44 Q1521.54 1549.52 1515.22 1549.52 Q1513.04 1549.52 1510.77 1549.15 Q1508.53 1548.78 1506.12 1548.04 L1506.12 1543.34 Q1508.2 1544.47 1510.43 1545.03 Q1512.65 1545.58 1515.13 1545.58 Q1519.13 1545.58 1521.47 1543.48 Q1523.81 1541.37 1523.81 1537.76 Q1523.81 1534.15 1521.47 1532.04 Q1519.13 1529.94 1515.13 1529.94 Q1513.25 1529.94 1511.38 1530.35 Q1509.52 1530.77 1507.58 1531.65 L1507.58 1514.29 Z\" fill=\"#000000\" fill-rule=\"evenodd\" fill-opacity=\"1\" /><path clip-path=\"url(#clip790)\" d=\"M1541.72 1544.91 L1558.04 1544.91 L1558.04 1548.85 L1536.1 1548.85 L1536.1 1544.91 Q1538.76 1542.16 1543.34 1537.53 Q1547.95 1532.88 1549.13 1531.53 Q1551.38 1529.01 1552.26 1527.27 Q1553.16 1525.51 1553.16 1523.82 Q1553.16 1521.07 1551.21 1519.33 Q1549.29 1517.6 1546.19 1517.6 Q1543.99 1517.6 1541.54 1518.36 Q1539.11 1519.13 1536.33 1520.68 L1536.33 1515.95 Q1539.15 1514.82 1541.61 1514.24 Q1544.06 1513.66 1546.1 1513.66 Q1551.47 1513.66 1554.66 1516.35 Q1557.86 1519.03 1557.86 1523.52 Q1557.86 1525.65 1557.05 1527.57 Q1556.26 1529.47 1554.15 1532.07 Q1553.57 1532.74 1550.47 1535.95 Q1547.37 1539.15 1541.72 1544.91 Z\" fill=\"#000000\" fill-rule=\"evenodd\" fill-opacity=\"1\" /><path clip-path=\"url(#clip790)\" d=\"M1567.9 1514.29 L1586.26 1514.29 L1586.26 1518.22 L1572.19 1518.22 L1572.19 1526.7 Q1573.2 1526.35 1574.22 1526.19 Q1575.24 1526 1576.26 1526 Q1582.05 1526 1585.43 1529.17 Q1588.81 1532.34 1588.81 1537.76 Q1588.81 1543.34 1585.33 1546.44 Q1581.86 1549.52 1575.54 1549.52 Q1573.37 1549.52 1571.1 1549.15 Q1568.85 1548.78 1566.45 1548.04 L1566.45 1543.34 Q1568.53 1544.47 1570.75 1545.03 Q1572.97 1545.58 1575.45 1545.58 Q1579.45 1545.58 1581.79 1543.48 Q1584.13 1541.37 1584.13 1537.76 Q1584.13 1534.15 1581.79 1532.04 Q1579.45 1529.94 1575.45 1529.94 Q1573.57 1529.94 1571.7 1530.35 Q1569.85 1530.77 1567.9 1531.65 L1567.9 1514.29 Z\" fill=\"#000000\" fill-rule=\"evenodd\" fill-opacity=\"1\" /><path clip-path=\"url(#clip790)\" d=\"M1602.05 1544.91 L1618.37 1544.91 L1618.37 1548.85 L1596.42 1548.85 L1596.42 1544.91 Q1599.08 1542.16 1603.67 1537.53 Q1608.27 1532.88 1609.45 1531.53 Q1611.7 1529.01 1612.58 1527.27 Q1613.48 1525.51 1613.48 1523.82 Q1613.48 1521.07 1611.54 1519.33 Q1609.62 1517.6 1606.51 1517.6 Q1604.32 1517.6 1601.86 1518.36 Q1599.43 1519.13 1596.65 1520.68 L1596.65 1515.95 Q1599.48 1514.82 1601.93 1514.24 Q1604.38 1513.66 1606.42 1513.66 Q1611.79 1513.66 1614.99 1516.35 Q1618.18 1519.03 1618.18 1523.52 Q1618.18 1525.65 1617.37 1527.57 Q1616.58 1529.47 1614.48 1532.07 Q1613.9 1532.74 1610.8 1535.95 Q1607.69 1539.15 1602.05 1544.91 Z\" fill=\"#000000\" fill-rule=\"evenodd\" fill-opacity=\"1\" /><path clip-path=\"url(#clip790)\" d=\"M1628.23 1514.29 L1646.58 1514.29 L1646.58 1518.22 L1632.51 1518.22 L1632.51 1526.7 Q1633.53 1526.35 1634.55 1526.19 Q1635.57 1526 1636.58 1526 Q1642.37 1526 1645.75 1529.17 Q1649.13 1532.34 1649.13 1537.76 Q1649.13 1543.34 1645.66 1546.44 Q1642.19 1549.52 1635.87 1549.52 Q1633.69 1549.52 1631.42 1549.15 Q1629.18 1548.78 1626.77 1548.04 L1626.77 1543.34 Q1628.85 1544.47 1631.07 1545.03 Q1633.3 1545.58 1635.77 1545.58 Q1639.78 1545.58 1642.12 1543.48 Q1644.45 1541.37 1644.45 1537.76 Q1644.45 1534.15 1642.12 1532.04 Q1639.78 1529.94 1635.77 1529.94 Q1633.9 1529.94 1632.02 1530.35 Q1630.17 1530.77 1628.23 1531.65 L1628.23 1514.29 Z\" fill=\"#000000\" fill-rule=\"evenodd\" fill-opacity=\"1\" /><polyline clip-path=\"url(#clip792)\" style=\"stroke:#000000; stroke-linecap:butt; stroke-linejoin:round; stroke-width:2; stroke-opacity:0.1; fill:none\" points=\"\n  178.867,1447.87 2352.76,1447.87 \n  \"/>\n<polyline clip-path=\"url(#clip792)\" style=\"stroke:#000000; stroke-linecap:butt; stroke-linejoin:round; stroke-width:2; stroke-opacity:0.1; fill:none\" points=\"\n  178.867,1036.41 2352.76,1036.41 \n  \"/>\n<polyline clip-path=\"url(#clip792)\" style=\"stroke:#000000; stroke-linecap:butt; stroke-linejoin:round; stroke-width:2; stroke-opacity:0.1; fill:none\" points=\"\n  178.867,624.941 2352.76,624.941 \n  \"/>\n<polyline clip-path=\"url(#clip792)\" style=\"stroke:#000000; stroke-linecap:butt; stroke-linejoin:round; stroke-width:2; stroke-opacity:0.1; fill:none\" points=\"\n  178.867,213.475 2352.76,213.475 \n  \"/>\n<polyline clip-path=\"url(#clip790)\" style=\"stroke:#000000; stroke-linecap:butt; stroke-linejoin:round; stroke-width:4; stroke-opacity:1; fill:none\" points=\"\n  178.867,1486.45 178.867,123.472 \n  \"/>\n<polyline clip-path=\"url(#clip790)\" style=\"stroke:#000000; stroke-linecap:butt; stroke-linejoin:round; stroke-width:4; stroke-opacity:1; fill:none\" points=\"\n  178.867,1447.87 197.764,1447.87 \n  \"/>\n<polyline clip-path=\"url(#clip790)\" style=\"stroke:#000000; stroke-linecap:butt; stroke-linejoin:round; stroke-width:4; stroke-opacity:1; fill:none\" points=\"\n  178.867,1036.41 197.764,1036.41 \n  \"/>\n<polyline clip-path=\"url(#clip790)\" style=\"stroke:#000000; stroke-linecap:butt; stroke-linejoin:round; stroke-width:4; stroke-opacity:1; fill:none\" points=\"\n  178.867,624.941 197.764,624.941 \n  \"/>\n<polyline clip-path=\"url(#clip790)\" style=\"stroke:#000000; stroke-linecap:butt; stroke-linejoin:round; stroke-width:4; stroke-opacity:1; fill:none\" points=\"\n  178.867,213.475 197.764,213.475 \n  \"/>\n<path clip-path=\"url(#clip790)\" d=\"M50.9921 1448.32 L80.6679 1448.32 L80.6679 1452.26 L50.9921 1452.26 L50.9921 1448.32 Z\" fill=\"#000000\" fill-rule=\"evenodd\" fill-opacity=\"1\" /><path clip-path=\"url(#clip790)\" d=\"M104.927 1446.52 Q108.283 1447.24 110.158 1449.51 Q112.057 1451.77 112.057 1455.11 Q112.057 1460.22 108.538 1463.02 Q105.02 1465.82 98.5382 1465.82 Q96.3623 1465.82 94.0475 1465.38 Q91.7558 1464.97 89.3021 1464.11 L89.3021 1459.6 Q91.2465 1460.73 93.5613 1461.31 Q95.8761 1461.89 98.3993 1461.89 Q102.797 1461.89 105.089 1460.15 Q107.404 1458.42 107.404 1455.11 Q107.404 1452.05 105.251 1450.34 Q103.121 1448.6 99.3021 1448.6 L95.2743 1448.6 L95.2743 1444.76 L99.4872 1444.76 Q102.936 1444.76 104.765 1443.39 Q106.594 1442.01 106.594 1439.41 Q106.594 1436.75 104.696 1435.34 Q102.821 1433.9 99.3021 1433.9 Q97.3808 1433.9 95.1817 1434.32 Q92.9826 1434.74 90.3438 1435.62 L90.3438 1431.45 Q93.0058 1430.71 95.3206 1430.34 Q97.6585 1429.97 99.7187 1429.97 Q105.043 1429.97 108.145 1432.4 Q111.246 1434.81 111.246 1438.93 Q111.246 1441.8 109.603 1443.79 Q107.959 1445.76 104.927 1446.52 Z\" fill=\"#000000\" fill-rule=\"evenodd\" fill-opacity=\"1\" /><path clip-path=\"url(#clip790)\" d=\"M130.922 1433.67 Q127.311 1433.67 125.482 1437.24 Q123.677 1440.78 123.677 1447.91 Q123.677 1455.01 125.482 1458.58 Q127.311 1462.12 130.922 1462.12 Q134.556 1462.12 136.362 1458.58 Q138.191 1455.01 138.191 1447.91 Q138.191 1440.78 136.362 1437.24 Q134.556 1433.67 130.922 1433.67 M130.922 1429.97 Q136.732 1429.97 139.788 1434.57 Q142.867 1439.16 142.867 1447.91 Q142.867 1456.63 139.788 1461.24 Q136.732 1465.82 130.922 1465.82 Q125.112 1465.82 122.033 1461.24 Q118.978 1456.63 118.978 1447.91 Q118.978 1439.16 122.033 1434.57 Q125.112 1429.97 130.922 1429.97 Z\" fill=\"#000000\" fill-rule=\"evenodd\" fill-opacity=\"1\" /><path clip-path=\"url(#clip790)\" d=\"M50.9921 1036.86 L80.6679 1036.86 L80.6679 1040.79 L50.9921 1040.79 L50.9921 1036.86 Z\" fill=\"#000000\" fill-rule=\"evenodd\" fill-opacity=\"1\" /><path clip-path=\"url(#clip790)\" d=\"M94.7882 1049.75 L111.108 1049.75 L111.108 1053.69 L89.1632 1053.69 L89.1632 1049.75 Q91.8252 1047 96.4085 1042.37 Q101.015 1037.71 102.196 1036.37 Q104.441 1033.85 105.321 1032.11 Q106.223 1030.35 106.223 1028.66 Q106.223 1025.91 104.279 1024.17 Q102.358 1022.44 99.2558 1022.44 Q97.0567 1022.44 94.603 1023.2 Q92.1725 1023.96 89.3947 1025.52 L89.3947 1020.79 Q92.2188 1019.66 94.6724 1019.08 Q97.1261 1018.5 99.1632 1018.5 Q104.534 1018.5 107.728 1021.19 Q110.922 1023.87 110.922 1028.36 Q110.922 1030.49 110.112 1032.41 Q109.325 1034.31 107.219 1036.9 Q106.64 1037.58 103.538 1040.79 Q100.436 1043.99 94.7882 1049.75 Z\" fill=\"#000000\" fill-rule=\"evenodd\" fill-opacity=\"1\" /><path clip-path=\"url(#clip790)\" d=\"M130.922 1022.21 Q127.311 1022.21 125.482 1025.77 Q123.677 1029.31 123.677 1036.44 Q123.677 1043.55 125.482 1047.11 Q127.311 1050.65 130.922 1050.65 Q134.556 1050.65 136.362 1047.11 Q138.191 1043.55 138.191 1036.44 Q138.191 1029.31 136.362 1025.77 Q134.556 1022.21 130.922 1022.21 M130.922 1018.5 Q136.732 1018.5 139.788 1023.11 Q142.867 1027.69 142.867 1036.44 Q142.867 1045.17 139.788 1049.78 Q136.732 1054.36 130.922 1054.36 Q125.112 1054.36 122.033 1049.78 Q118.978 1045.17 118.978 1036.44 Q118.978 1027.69 122.033 1023.11 Q125.112 1018.5 130.922 1018.5 Z\" fill=\"#000000\" fill-rule=\"evenodd\" fill-opacity=\"1\" /><path clip-path=\"url(#clip790)\" d=\"M50.9921 625.392 L80.6679 625.392 L80.6679 629.328 L50.9921 629.328 L50.9921 625.392 Z\" fill=\"#000000\" fill-rule=\"evenodd\" fill-opacity=\"1\" /><path clip-path=\"url(#clip790)\" d=\"M91.5706 638.286 L99.2095 638.286 L99.2095 611.92 L90.8993 613.587 L90.8993 609.328 L99.1632 607.661 L103.839 607.661 L103.839 638.286 L111.478 638.286 L111.478 642.221 L91.5706 642.221 L91.5706 638.286 Z\" fill=\"#000000\" fill-rule=\"evenodd\" fill-opacity=\"1\" /><path clip-path=\"url(#clip790)\" d=\"M130.922 610.74 Q127.311 610.74 125.482 614.304 Q123.677 617.846 123.677 624.976 Q123.677 632.082 125.482 635.647 Q127.311 639.189 130.922 639.189 Q134.556 639.189 136.362 635.647 Q138.191 632.082 138.191 624.976 Q138.191 617.846 136.362 614.304 Q134.556 610.74 130.922 610.74 M130.922 607.036 Q136.732 607.036 139.788 611.642 Q142.867 616.226 142.867 624.976 Q142.867 633.703 139.788 638.309 Q136.732 642.892 130.922 642.892 Q125.112 642.892 122.033 638.309 Q118.978 633.703 118.978 624.976 Q118.978 616.226 122.033 611.642 Q125.112 607.036 130.922 607.036 Z\" fill=\"#000000\" fill-rule=\"evenodd\" fill-opacity=\"1\" /><path clip-path=\"url(#clip790)\" d=\"M130.922 199.274 Q127.311 199.274 125.482 202.838 Q123.677 206.38 123.677 213.51 Q123.677 220.616 125.482 224.181 Q127.311 227.723 130.922 227.723 Q134.556 227.723 136.362 224.181 Q138.191 220.616 138.191 213.51 Q138.191 206.38 136.362 202.838 Q134.556 199.274 130.922 199.274 M130.922 195.57 Q136.732 195.57 139.788 200.176 Q142.867 204.76 142.867 213.51 Q142.867 222.236 139.788 226.843 Q136.732 231.426 130.922 231.426 Q125.112 231.426 122.033 226.843 Q118.978 222.236 118.978 213.51 Q118.978 204.76 122.033 200.176 Q125.112 195.57 130.922 195.57 Z\" fill=\"#000000\" fill-rule=\"evenodd\" fill-opacity=\"1\" /><path clip-path=\"url(#clip790)\" d=\"M837.691 16.7545 L837.691 25.383 Q833.56 21.5346 828.86 19.6307 Q824.202 17.7268 818.936 17.7268 Q808.565 17.7268 803.056 24.0867 Q797.547 30.4061 797.547 42.3968 Q797.547 54.3469 803.056 60.7069 Q808.565 67.0263 818.936 67.0263 Q824.202 67.0263 828.86 65.1223 Q833.56 63.2184 837.691 59.3701 L837.691 67.9175 Q833.397 70.8341 828.577 72.2924 Q823.797 73.7508 818.45 73.7508 Q804.717 73.7508 796.818 65.3654 Q788.919 56.9395 788.919 42.3968 Q788.919 27.8135 796.818 19.4281 Q804.717 11.0023 818.45 11.0023 Q823.878 11.0023 828.658 12.4606 Q833.479 13.8784 837.691 16.7545 Z\" fill=\"#000000\" fill-rule=\"evenodd\" fill-opacity=\"1\" /><path clip-path=\"url(#clip790)\" d=\"M870.625 49.7694 Q861.592 49.7694 858.108 51.8354 Q854.624 53.9013 854.624 58.8839 Q854.624 62.8538 857.217 65.2034 Q859.85 67.5124 864.346 67.5124 Q870.544 67.5124 874.271 63.1374 Q878.038 58.7219 878.038 51.4303 L878.038 49.7694 L870.625 49.7694 M885.492 46.6907 L885.492 72.576 L878.038 72.576 L878.038 65.6895 Q875.486 69.8214 871.679 71.8063 Q867.871 73.7508 862.361 73.7508 Q855.394 73.7508 851.262 69.8619 Q847.171 65.9325 847.171 59.3701 Q847.171 51.7138 852.275 47.825 Q857.419 43.9361 867.587 43.9361 L878.038 43.9361 L878.038 43.2069 Q878.038 38.0623 874.636 35.2672 Q871.273 32.4315 865.157 32.4315 Q861.268 32.4315 857.581 33.3632 Q853.895 34.295 850.492 36.1584 L850.492 29.2718 Q854.584 27.692 858.432 26.9223 Q862.28 26.1121 865.926 26.1121 Q875.77 26.1121 880.631 31.2163 Q885.492 36.3204 885.492 46.6907 Z\" fill=\"#000000\" fill-rule=\"evenodd\" fill-opacity=\"1\" /><path clip-path=\"url(#clip790)\" d=\"M938.559 45.1919 L938.559 72.576 L931.105 72.576 L931.105 45.4349 Q931.105 38.994 928.594 35.7938 Q926.082 32.5936 921.059 32.5936 Q915.023 32.5936 911.539 36.4419 Q908.056 40.2903 908.056 46.9338 L908.056 72.576 L900.561 72.576 L900.561 27.2059 L908.056 27.2059 L908.056 34.2544 Q910.729 30.163 914.335 28.1376 Q917.98 26.1121 922.72 26.1121 Q930.538 26.1121 934.549 30.9732 Q938.559 35.7938 938.559 45.1919 Z\" fill=\"#000000\" fill-rule=\"evenodd\" fill-opacity=\"1\" /><path clip-path=\"url(#clip790)\" d=\"M998.674 76.7889 Q995.515 84.8907 992.517 87.3618 Q989.519 89.8329 984.496 89.8329 L978.541 89.8329 L978.541 83.5945 L982.916 83.5945 Q985.995 83.5945 987.696 82.1361 Q989.398 80.6778 991.464 75.2496 L992.801 71.8468 L974.45 27.2059 L982.349 27.2059 L996.527 62.6918 L1010.71 27.2059 L1018.6 27.2059 L998.674 76.7889 Z\" fill=\"#000000\" fill-rule=\"evenodd\" fill-opacity=\"1\" /><path clip-path=\"url(#clip790)\" d=\"M1046.48 32.4315 Q1040.48 32.4315 1037 37.1306 Q1033.51 41.7891 1033.51 49.9314 Q1033.51 58.0738 1036.96 62.7728 Q1040.44 67.4314 1046.48 67.4314 Q1052.43 67.4314 1055.91 62.7323 Q1059.4 58.0333 1059.4 49.9314 Q1059.4 41.8701 1055.91 37.1711 Q1052.43 32.4315 1046.48 32.4315 M1046.48 26.1121 Q1056.2 26.1121 1061.75 32.4315 Q1067.3 38.7509 1067.3 49.9314 Q1067.3 61.0714 1061.75 67.4314 Q1056.2 73.7508 1046.48 73.7508 Q1036.71 73.7508 1031.16 67.4314 Q1025.65 61.0714 1025.65 49.9314 Q1025.65 38.7509 1031.16 32.4315 Q1036.71 26.1121 1046.48 26.1121 Z\" fill=\"#000000\" fill-rule=\"evenodd\" fill-opacity=\"1\" /><path clip-path=\"url(#clip790)\" d=\"M1078.88 54.671 L1078.88 27.2059 L1086.34 27.2059 L1086.34 54.3874 Q1086.34 60.8284 1088.85 64.0691 Q1091.36 67.2693 1096.38 67.2693 Q1102.42 67.2693 1105.9 63.421 Q1109.43 59.5726 1109.43 52.9291 L1109.43 27.2059 L1116.88 27.2059 L1116.88 72.576 L1109.43 72.576 L1109.43 65.6084 Q1106.71 69.7404 1103.11 71.7658 Q1099.54 73.7508 1094.8 73.7508 Q1086.98 73.7508 1082.93 68.8897 Q1078.88 64.0286 1078.88 54.671 M1097.64 26.1121 L1097.64 26.1121 Z\" fill=\"#000000\" fill-rule=\"evenodd\" fill-opacity=\"1\" /><path clip-path=\"url(#clip790)\" d=\"M1181.57 9.54393 L1181.57 15.7418 L1174.44 15.7418 Q1170.43 15.7418 1168.85 17.3622 Q1167.31 18.9825 1167.31 23.1955 L1167.31 27.2059 L1179.59 27.2059 L1179.59 32.9987 L1167.31 32.9987 L1167.31 72.576 L1159.82 72.576 L1159.82 32.9987 L1152.69 32.9987 L1152.69 27.2059 L1159.82 27.2059 L1159.82 24.0462 Q1159.82 16.471 1163.34 13.0277 Q1166.87 9.54393 1174.52 9.54393 L1181.57 9.54393 Z\" fill=\"#000000\" fill-rule=\"evenodd\" fill-opacity=\"1\" /><path clip-path=\"url(#clip790)\" d=\"M1187.81 27.2059 L1195.26 27.2059 L1195.26 72.576 L1187.81 72.576 L1187.81 27.2059 M1187.81 9.54393 L1195.26 9.54393 L1195.26 18.9825 L1187.81 18.9825 L1187.81 9.54393 Z\" fill=\"#000000\" fill-rule=\"evenodd\" fill-opacity=\"1\" /><path clip-path=\"url(#clip790)\" d=\"M1248.57 45.1919 L1248.57 72.576 L1241.12 72.576 L1241.12 45.4349 Q1241.12 38.994 1238.61 35.7938 Q1236.1 32.5936 1231.07 32.5936 Q1225.04 32.5936 1221.56 36.4419 Q1218.07 40.2903 1218.07 46.9338 L1218.07 72.576 L1210.58 72.576 L1210.58 27.2059 L1218.07 27.2059 L1218.07 34.2544 Q1220.74 30.163 1224.35 28.1376 Q1228 26.1121 1232.74 26.1121 Q1240.55 26.1121 1244.56 30.9732 Q1248.57 35.7938 1248.57 45.1919 Z\" fill=\"#000000\" fill-rule=\"evenodd\" fill-opacity=\"1\" /><path clip-path=\"url(#clip790)\" d=\"M1293.3 34.0924 L1293.3 9.54393 L1300.75 9.54393 L1300.75 72.576 L1293.3 72.576 L1293.3 65.7705 Q1290.95 69.8214 1287.34 71.8063 Q1283.78 73.7508 1278.75 73.7508 Q1270.53 73.7508 1265.35 67.1883 Q1260.2 60.6258 1260.2 49.9314 Q1260.2 39.2371 1265.35 32.6746 Q1270.53 26.1121 1278.75 26.1121 Q1283.78 26.1121 1287.34 28.0971 Q1290.95 30.0415 1293.3 34.0924 M1267.9 49.9314 Q1267.9 58.1548 1271.26 62.8538 Q1274.66 67.5124 1280.58 67.5124 Q1286.49 67.5124 1289.89 62.8538 Q1293.3 58.1548 1293.3 49.9314 Q1293.3 41.7081 1289.89 37.0496 Q1286.49 32.3505 1280.58 32.3505 Q1274.66 32.3505 1271.26 37.0496 Q1267.9 41.7081 1267.9 49.9314 Z\" fill=\"#000000\" fill-rule=\"evenodd\" fill-opacity=\"1\" /><path clip-path=\"url(#clip790)\" d=\"M1349.85 14.324 L1349.85 27.2059 L1365.2 27.2059 L1365.2 32.9987 L1349.85 32.9987 L1349.85 57.6282 Q1349.85 63.1779 1351.35 64.7578 Q1352.89 66.3376 1357.54 66.3376 L1365.2 66.3376 L1365.2 72.576 L1357.54 72.576 Q1348.92 72.576 1345.63 69.3758 Q1342.35 66.1351 1342.35 57.6282 L1342.35 32.9987 L1336.88 32.9987 L1336.88 27.2059 L1342.35 27.2059 L1342.35 14.324 L1349.85 14.324 Z\" fill=\"#000000\" fill-rule=\"evenodd\" fill-opacity=\"1\" /><path clip-path=\"url(#clip790)\" d=\"M1412.72 45.1919 L1412.72 72.576 L1405.26 72.576 L1405.26 45.4349 Q1405.26 38.994 1402.75 35.7938 Q1400.24 32.5936 1395.22 32.5936 Q1389.18 32.5936 1385.7 36.4419 Q1382.21 40.2903 1382.21 46.9338 L1382.21 72.576 L1374.72 72.576 L1374.72 9.54393 L1382.21 9.54393 L1382.21 34.2544 Q1384.89 30.163 1388.49 28.1376 Q1392.14 26.1121 1396.88 26.1121 Q1404.7 26.1121 1408.71 30.9732 Q1412.72 35.7938 1412.72 45.1919 Z\" fill=\"#000000\" fill-rule=\"evenodd\" fill-opacity=\"1\" /><path clip-path=\"url(#clip790)\" d=\"M1466.39 48.0275 L1466.39 51.6733 L1432.12 51.6733 Q1432.61 59.3701 1436.74 63.421 Q1440.91 67.4314 1448.32 67.4314 Q1452.62 67.4314 1456.63 66.3781 Q1460.68 65.3249 1464.65 63.2184 L1464.65 70.267 Q1460.64 71.9684 1456.43 72.8596 Q1452.21 73.7508 1447.88 73.7508 Q1437.02 73.7508 1430.66 67.4314 Q1424.34 61.1119 1424.34 50.3365 Q1424.34 39.1965 1430.34 32.6746 Q1436.37 26.1121 1446.58 26.1121 Q1455.74 26.1121 1461.04 32.0264 Q1466.39 37.9003 1466.39 48.0275 M1458.94 45.84 Q1458.86 39.7232 1455.49 36.0774 Q1452.17 32.4315 1446.66 32.4315 Q1440.43 32.4315 1436.66 35.9558 Q1432.93 39.4801 1432.36 45.8805 L1458.94 45.84 Z\" fill=\"#000000\" fill-rule=\"evenodd\" fill-opacity=\"1\" /><path clip-path=\"url(#clip790)\" d=\"M1540.32 35.9153 Q1543.12 30.8922 1547 28.5022 Q1550.89 26.1121 1556.16 26.1121 Q1563.25 26.1121 1567.1 31.0947 Q1570.95 36.0368 1570.95 45.1919 L1570.95 72.576 L1563.45 72.576 L1563.45 45.4349 Q1563.45 38.913 1561.14 35.7533 Q1558.83 32.5936 1554.09 32.5936 Q1548.3 32.5936 1544.94 36.4419 Q1541.58 40.2903 1541.58 46.9338 L1541.58 72.576 L1534.08 72.576 L1534.08 45.4349 Q1534.08 38.8725 1531.77 35.7533 Q1529.46 32.5936 1524.64 32.5936 Q1518.93 32.5936 1515.57 36.4824 Q1512.21 40.3308 1512.21 46.9338 L1512.21 72.576 L1504.71 72.576 L1504.71 27.2059 L1512.21 27.2059 L1512.21 34.2544 Q1514.76 30.082 1518.32 28.0971 Q1521.89 26.1121 1526.79 26.1121 Q1531.73 26.1121 1535.18 28.6237 Q1538.66 31.1352 1540.32 35.9153 Z\" fill=\"#000000\" fill-rule=\"evenodd\" fill-opacity=\"1\" /><path clip-path=\"url(#clip790)\" d=\"M1606.43 49.7694 Q1597.4 49.7694 1593.91 51.8354 Q1590.43 53.9013 1590.43 58.8839 Q1590.43 62.8538 1593.02 65.2034 Q1595.66 67.5124 1600.15 67.5124 Q1606.35 67.5124 1610.08 63.1374 Q1613.84 58.7219 1613.84 51.4303 L1613.84 49.7694 L1606.43 49.7694 M1621.3 46.6907 L1621.3 72.576 L1613.84 72.576 L1613.84 65.6895 Q1611.29 69.8214 1607.48 71.8063 Q1603.68 73.7508 1598.17 73.7508 Q1591.2 73.7508 1587.07 69.8619 Q1582.98 65.9325 1582.98 59.3701 Q1582.98 51.7138 1588.08 47.825 Q1593.23 43.9361 1603.39 43.9361 L1613.84 43.9361 L1613.84 43.2069 Q1613.84 38.0623 1610.44 35.2672 Q1607.08 32.4315 1600.96 32.4315 Q1597.07 32.4315 1593.39 33.3632 Q1589.7 34.295 1586.3 36.1584 L1586.3 29.2718 Q1590.39 27.692 1594.24 26.9223 Q1598.09 26.1121 1601.73 26.1121 Q1611.58 26.1121 1616.44 31.2163 Q1621.3 36.3204 1621.3 46.6907 Z\" fill=\"#000000\" fill-rule=\"evenodd\" fill-opacity=\"1\" /><path clip-path=\"url(#clip790)\" d=\"M1674.37 27.2059 L1657.96 49.2833 L1675.22 72.576 L1666.43 72.576 L1653.22 54.752 L1640.01 72.576 L1631.22 72.576 L1648.84 48.8377 L1632.72 27.2059 L1641.51 27.2059 L1653.54 43.369 L1665.57 27.2059 L1674.37 27.2059 Z\" fill=\"#000000\" fill-rule=\"evenodd\" fill-opacity=\"1\" /><path clip-path=\"url(#clip790)\" d=\"M1693.77 62.2867 L1701.99 62.2867 L1701.99 72.576 L1693.77 72.576 L1693.77 62.2867 M1701.75 56.3319 L1694.01 56.3319 L1694.01 50.0935 Q1694.01 46.0021 1695.15 43.369 Q1696.28 40.7359 1699.93 37.2521 L1703.57 33.6468 Q1705.88 31.4998 1706.89 29.5959 Q1707.95 27.692 1707.95 25.707 Q1707.95 22.1017 1705.27 19.8737 Q1702.64 17.6457 1698.27 17.6457 Q1695.07 17.6457 1691.42 19.0636 Q1687.81 20.4814 1683.88 23.1955 L1683.88 15.5798 Q1687.69 13.2708 1691.58 12.1365 Q1695.51 11.0023 1699.68 11.0023 Q1707.14 11.0023 1711.63 14.9316 Q1716.17 18.861 1716.17 25.3019 Q1716.17 28.3806 1714.71 31.1758 Q1713.25 33.9304 1709.61 37.4142 L1706.04 40.8979 Q1704.14 42.8019 1703.33 43.8956 Q1702.56 44.9488 1702.24 45.9616 Q1701.99 46.8122 1701.87 48.0275 Q1701.75 49.2428 1701.75 51.3493 L1701.75 56.3319 Z\" fill=\"#000000\" fill-rule=\"evenodd\" fill-opacity=\"1\" /><path clip-path=\"url(#clip790)\" d=\"M1734.48 62.2867 L1742.7 62.2867 L1742.7 72.576 L1734.48 72.576 L1734.48 62.2867 M1734.48 12.096 L1742.7 12.096 L1742.7 38.6294 L1741.89 53.0912 L1735.33 53.0912 L1734.48 38.6294 L1734.48 12.096 Z\" fill=\"#000000\" fill-rule=\"evenodd\" fill-opacity=\"1\" /><polyline clip-path=\"url(#clip792)\" style=\"stroke:#009af9; stroke-linecap:butt; stroke-linejoin:round; stroke-width:8; stroke-opacity:1; fill:none\" points=\"\n  240.392,1447.87 261.107,1406.65 281.823,1366.09 302.538,1326.21 323.254,1287 343.97,1248.46 364.685,1210.59 385.401,1173.39 406.116,1136.87 426.832,1101.02 \n  447.547,1065.84 468.263,1031.33 488.978,997.49 509.694,964.324 530.409,931.83 551.125,900.007 571.841,868.857 592.556,838.378 613.272,808.57 633.987,779.435 \n  654.703,750.971 675.418,723.179 696.134,696.059 716.849,669.61 737.565,643.833 758.28,618.728 778.996,594.294 799.712,570.532 820.427,547.442 841.143,525.024 \n  861.858,503.277 882.574,482.202 903.289,461.799 924.005,442.067 944.72,423.007 965.436,404.619 986.151,386.903 1006.87,369.858 1027.58,353.485 1048.3,337.784 \n  1069.01,322.754 1089.73,308.396 1110.44,294.71 1131.16,281.696 1151.88,269.353 1172.59,257.682 1193.31,246.683 1214.02,236.355 1234.74,226.699 1255.45,217.715 \n  1276.17,209.403 1296.88,201.762 1317.6,194.793 1338.32,188.496 1359.03,182.87 1379.75,177.916 1400.46,173.634 1421.18,170.024 1441.89,167.085 1462.61,164.818 \n  1483.32,163.222 1504.04,162.299 1524.76,162.047 1545.47,162.467 1566.19,163.558 1586.9,165.322 1607.62,167.756 1628.33,170.863 1649.05,174.642 1669.76,179.092 \n  1690.48,184.213 1711.2,190.007 1731.91,196.472 1752.63,203.609 1773.34,211.418 1794.06,219.898 1814.77,229.05 1835.49,238.874 1856.2,249.37 1876.92,260.537 \n  1897.64,272.376 1918.35,284.886 1939.07,298.069 1959.78,311.923 1980.5,326.449 2001.21,341.646 2021.93,357.515 2042.64,374.056 2063.36,391.269 2084.08,409.153 \n  2104.79,427.709 2125.51,446.937 2146.22,466.837 2166.94,487.408 2187.65,508.651 2208.37,530.565 2229.08,553.152 2249.8,576.41 2270.52,600.339 2291.23,624.941 \n  \n  \"/>\n<circle clip-path=\"url(#clip792)\" cx=\"1524.76\" cy=\"162.047\" r=\"18\" fill=\"#ff0000\" fill-rule=\"evenodd\" fill-opacity=\"1\" stroke=\"#000000\" stroke-opacity=\"1\" stroke-width=\"3.2\"/>\n<polyline clip-path=\"url(#clip792)\" style=\"stroke:#000000; stroke-linecap:butt; stroke-linejoin:round; stroke-width:12; stroke-opacity:0.5; fill:none\" stroke-dasharray=\"48, 30\" points=\"\n  1522.17,2849.42 1522.17,-1239.5 \n  \"/>\n<circle clip-path=\"url(#clip792)\" cx=\"1524.76\" cy=\"162.047\" r=\"18\" fill=\"#ff0000\" fill-rule=\"evenodd\" fill-opacity=\"1\" stroke=\"#000000\" stroke-opacity=\"1\" stroke-width=\"3.2\"/>\n<polyline clip-path=\"url(#clip792)\" style=\"stroke:#000000; stroke-linecap:butt; stroke-linejoin:round; stroke-width:6; stroke-opacity:0.5; fill:none\" stroke-dasharray=\"24, 15\" points=\"\n  1522.17,2849.42 1522.17,-1239.5 \n  \"/>\n<circle clip-path=\"url(#clip792)\" cx=\"1524.76\" cy=\"162.047\" r=\"18\" fill=\"#ff0000\" fill-rule=\"evenodd\" fill-opacity=\"1\" stroke=\"#000000\" stroke-opacity=\"1\" stroke-width=\"3.2\"/>\n<polyline clip-path=\"url(#clip792)\" style=\"stroke:#000000; stroke-linecap:butt; stroke-linejoin:round; stroke-width:6; stroke-opacity:0.5; fill:none\" stroke-dasharray=\"24, 15\" points=\"\n  1522.17,2849.42 1522.17,-1239.5 \n  \"/>\n<circle clip-path=\"url(#clip792)\" cx=\"1524.76\" cy=\"162.047\" r=\"18\" fill=\"#ff0000\" fill-rule=\"evenodd\" fill-opacity=\"1\" stroke=\"#000000\" stroke-opacity=\"1\" stroke-width=\"3.2\"/>\n<polyline clip-path=\"url(#clip792)\" style=\"stroke:#000000; stroke-linecap:butt; stroke-linejoin:round; stroke-width:6; stroke-opacity:0.5; fill:none\" stroke-dasharray=\"24, 15\" points=\"\n  1522.17,2849.42 1522.17,-1239.5 \n  \"/>\n<circle clip-path=\"url(#clip792)\" cx=\"1524.76\" cy=\"162.047\" r=\"18\" fill=\"#ff0000\" fill-rule=\"evenodd\" fill-opacity=\"1\" stroke=\"#000000\" stroke-opacity=\"1\" stroke-width=\"3.2\"/>\n<polyline clip-path=\"url(#clip792)\" style=\"stroke:#000000; stroke-linecap:butt; stroke-linejoin:round; stroke-width:6; stroke-opacity:0.5; fill:none\" stroke-dasharray=\"24, 15\" points=\"\n  1524.76,2849.42 1524.76,-1239.5 \n  \"/>\n</svg>\n"
     },
     "execution_count": 121,
     "metadata": {},
     "output_type": "execute_result"
    }
   ],
   "source": [
    "scatter!([x[ix]], [fmax], color = :red, ms = 5)\n",
    "vline!([x[ix]], lw = 1.5, color = :black, ls = :dash, alpha = 0.5, xticks = ([x[ix]]))"
   ]
  },
  {
   "cell_type": "markdown",
   "metadata": {},
   "source": [
    "## Derivatives"
   ]
  },
  {
   "cell_type": "markdown",
   "metadata": {},
   "source": [
    "Linear functions have a constant slope, as we have seen in one of the earlier examples. However, what about non-linear functions? What is the rate of change for a non-linear function as we move along its domain?\n",
    "\n",
    "Let $(x_0, f(x_0))$ be a point on the graph of $y = f(x)$. The derivative of $f$ at the point $x_0$ is the slope of the tangent line to the graph of $f$ at $(x_0, f(x_0))$. We can denote this derivative of a function $f$ at $x_0$ as\n",
    "\n",
    "$$\n",
    "f'(x_0) = \\frac{df(x_0)}{dx} = f_{x}(x_0)\n",
    "$$\n",
    "\n",
    "The notation above is interchangeable. The derivative is defined formally as, \n",
    "\n",
    "$$\n",
    "f'(x_0) = \\lim_{h \\rightarrow 0} \\frac{f(x_{0} + h) - f(x_0)}{h}\n",
    "$$\n",
    "\n",
    "In taking derivatives we normally revert to the derivative rules. The derivative rules are the following, \n",
    "\n",
    "1. Constant rule\n",
    "2. Power rule\n",
    "3. Chain rule\n",
    "4. Sum (difference) rule\n",
    "5. Product rule\n",
    "6. Quotient rule (we won't cover this, since you can use the product rule if needed)\n",
    "\n",
    "Then we can also speak of the exponential and log rule for derivatives. These are ones that will be frequently used. Let us have a brief discussion and examples of each of the rules. We will also accompany the solutions that are written out by hand with a solution generated by the computer to check that we are correct in our calculation. \n",
    "\n",
    "It is important to note that there are several ways in which you can take derivatives on the computer. The primary methods are, \n",
    "\n",
    "1. Symbolic differentiation\n",
    "2. Automatic differentiation\n",
    "3. Numerical differentiation\n",
    "\n",
    "We will not be going into detail on how these methods work. We will just use them in practice. We will show the symbolic and automatic differentiation approaches in this tutorial. For a good introduction to the approximation of derivatives using a computer you can look at these notes [here](https://mth229.github.io/derivatives.html)."
   ]
  },
  {
   "cell_type": "markdown",
   "metadata": {},
   "source": [
    "#### Constant rule\n",
    "\n",
    "If $f(x) = k$ where $k$ is some constant then $f'(k) = 0$. As an application of the constant rule, let us determine the derivative of $f(x) = 8$. \n",
    "\n",
    "$$\n",
    "f'(8) = 0\n",
    "$$\n",
    "\n",
    "This is the easiest rule and can be computed in one line. Let us see what the computer does with this example. First we use the `Symbolics` package. "
   ]
  },
  {
   "cell_type": "code",
   "execution_count": 127,
   "metadata": {},
   "outputs": [
    {
     "data": {
      "text/latex": [
       "\\begin{equation}\n",
       "\\mathrm{\\frac{d}{d x}}\\left( 8 \\right)\n",
       "\\end{equation}\n"
      ],
      "text/plain": [
       "Differential(x)(8)"
      ]
     },
     "execution_count": 127,
     "metadata": {},
     "output_type": "execute_result"
    }
   ],
   "source": [
    "@variables x\n",
    "D = Differential(x)\n",
    "\n",
    "y = 8\n",
    "D(y) # we can see that this now gives us the correct formulation"
   ]
  },
  {
   "cell_type": "code",
   "execution_count": 130,
   "metadata": {},
   "outputs": [
    {
     "data": {
      "text/plain": [
       "0"
      ]
     },
     "execution_count": 130,
     "metadata": {},
     "output_type": "execute_result"
    }
   ],
   "source": [
    "expand_derivatives(D(y)) # solution to the problem -- we see that this is the same as our answer. "
   ]
  },
  {
   "cell_type": "markdown",
   "metadata": {},
   "source": [
    "Now we try the `Zygote` package. This uses automatic differentiation. Once again, we will not explain what this method entails. If you want to read more on the topic you are more than welcome. For those that are interested in machine learning and deep learning it will be compulsory to learn more about the concept of automatic differentiation at some point. "
   ]
  },
  {
   "cell_type": "code",
   "execution_count": 153,
   "metadata": {},
   "outputs": [],
   "source": [
    "f(x) = 8\n",
    "\n",
    "f'(x)"
   ]
  },
  {
   "cell_type": "markdown",
   "metadata": {},
   "source": [
    "We see that there is no answer here. This seems strange. Let us another approach with this rule. We can calculate the gradient at a certain point in another way.  "
   ]
  },
  {
   "cell_type": "code",
   "execution_count": 147,
   "metadata": {},
   "outputs": [
    {
     "data": {
      "text/plain": [
       "(nothing,)"
      ]
     },
     "execution_count": 147,
     "metadata": {},
     "output_type": "execute_result"
    }
   ],
   "source": [
    "Zygote.gradient(y -> 8, 8)"
   ]
  },
  {
   "cell_type": "markdown",
   "metadata": {},
   "source": [
    "We see that the output is `nothing` here. This shows why we had no output in the previous code. When `nothing` is returned then there will be nothing to display. Another option for automatic differentiation is the `ForwardDiff` package. Let us quickly look at an example with this package. "
   ]
  },
  {
   "cell_type": "code",
   "execution_count": 149,
   "metadata": {},
   "outputs": [
    {
     "data": {
      "text/plain": [
       "0"
      ]
     },
     "execution_count": 149,
     "metadata": {},
     "output_type": "execute_result"
    }
   ],
   "source": [
    "ForwardDiff.derivative.(f, 8)"
   ]
  },
  {
   "cell_type": "markdown",
   "metadata": {},
   "source": [
    "In this case we get an answer of zero. Which is more in line with what one would expect. "
   ]
  },
  {
   "cell_type": "markdown",
   "metadata": {},
   "source": [
    "#### Power rule"
   ]
  },
  {
   "cell_type": "markdown",
   "metadata": {},
   "source": [
    "For any positive integer $k$ the derivative of $f(x) = x^{k}$ at $x_0$ is, \n",
    "\n",
    "$$\n",
    "f'(x_0) = k \\cdot x_{0}^{k - 1}\n",
    "$$\n",
    "\n",
    "An example of this would be the following. Find the answer to \n",
    "\n",
    "$$\n",
    "f'(x) = x ^ 3\n",
    "$$"
   ]
  },
  {
   "cell_type": "markdown",
   "metadata": {},
   "source": [
    "What do you think the answer should be? Let us check with the computer to see what we get. First we try symbolic differentiation."
   ]
  },
  {
   "cell_type": "code",
   "execution_count": 150,
   "metadata": {},
   "outputs": [
    {
     "data": {
      "text/latex": [
       "\\begin{equation}\n",
       "\\mathrm{\\frac{d}{d x}}\\left( x^{3} \\right)\n",
       "\\end{equation}\n"
      ],
      "text/plain": [
       "Differential(x)(x^3)"
      ]
     },
     "execution_count": 150,
     "metadata": {},
     "output_type": "execute_result"
    }
   ],
   "source": [
    "y = x ^ 3\n",
    "D(y)"
   ]
  },
  {
   "cell_type": "code",
   "execution_count": 151,
   "metadata": {},
   "outputs": [
    {
     "data": {
      "text/latex": [
       "\\begin{equation}\n",
       "3 x^{2}\n",
       "\\end{equation}\n"
      ],
      "text/plain": [
       "3(x^2)"
      ]
     },
     "execution_count": 151,
     "metadata": {},
     "output_type": "execute_result"
    }
   ],
   "source": [
    "expand_derivatives(D(y))"
   ]
  },
  {
   "cell_type": "markdown",
   "metadata": {},
   "source": [
    "Does this answer match with what you calculated by hand? Next we try automatic differentiation. "
   ]
  },
  {
   "cell_type": "code",
   "execution_count": 156,
   "metadata": {},
   "outputs": [
    {
     "data": {
      "text/latex": [
       "\\begin{equation}\n",
       "3 x^{2}\n",
       "\\end{equation}\n"
      ],
      "text/plain": [
       "3(x^2)"
      ]
     },
     "execution_count": 156,
     "metadata": {},
     "output_type": "execute_result"
    }
   ],
   "source": [
    "f(x) = x ^ 3\n",
    "\n",
    "f'(x) "
   ]
  },
  {
   "cell_type": "markdown",
   "metadata": {},
   "source": [
    "It seems that `Zygote` gives the same answer. Let us evaluate this function at a particular point with `ForwardDiff`."
   ]
  },
  {
   "cell_type": "code",
   "execution_count": 158,
   "metadata": {},
   "outputs": [
    {
     "data": {
      "text/plain": [
       "true"
      ]
     },
     "execution_count": 158,
     "metadata": {},
     "output_type": "execute_result"
    }
   ],
   "source": [
    "f'(5) == ForwardDiff.derivative.(f, 5) # evaluated at the point x = 5"
   ]
  },
  {
   "cell_type": "code",
   "execution_count": 159,
   "metadata": {},
   "outputs": [
    {
     "data": {
      "text/plain": [
       "75"
      ]
     },
     "execution_count": 159,
     "metadata": {},
     "output_type": "execute_result"
    }
   ],
   "source": [
    "f'(5)"
   ]
  },
  {
   "cell_type": "markdown",
   "metadata": {},
   "source": [
    "#### Chain rule"
   ]
  },
  {
   "cell_type": "markdown",
   "metadata": {},
   "source": [
    "The chain rule is a bit more complicated then some of the other rules, but it is used frequently in economics. If we have a function $f(x) = p(q(x)) = (p \\circ q)(x)$ which is a composite of two differentiable functions $p(x)$ and $q(x)$ then the derivative at $x_0$ according to the chain rule is, \n",
    "\n",
    "$$\n",
    "f^{\\prime } (x_0 )=p^{\\prime } (q(x_0 ))\\cdot q^{\\prime } (x_0 )\n",
    "$$\n",
    "\n",
    "A good example of where this is applicable is the function \n",
    "\n",
    "$$\n",
    "f(x) = \\sqrt{(5x - 8)}\n",
    "$$\n",
    "\n",
    "In this case we have a composition of two functions, $p(x) = \\sqrt{x}$ and $q(x) = 5x - 8$. Here we need to take the derivatives separately and combine with our rule. We start with $p'(x)$. We haven't really talked about taking the derivative of a square root. So how do we proceed? Well, our square root can actually be written as $p(x)^{1/2}$. Now we can use our power rule from before to get $p'(x) = \\frac{x^{-1/2}}{2}$. Next we need to take the derivative of $q(x)$, which gives is $q'(x) = 5$ using the power rule (since $5 = 5 \\cdot x^{(1 - 1)}$). Now we combine all the components as per the chain rule, \n",
    "\n",
    "$$\n",
    "\\begin{align*}\n",
    "f'\\left( x \\right) & = p'\\left( {q\\left( x \\right)} \\right)\\,\\,q'\\left( x \\right)\\\\ \n",
    "&  = p'\\left( {5x - 8} \\right)\\,\\,q'\\left( x \\right)\\\\ \n",
    "&  = \\frac{1}{2}{\\left( {5x - 8} \\right)^{ - \\frac{1}{2}}}\\,\\left( 5 \\right)\\\\ \n",
    "&  = \\frac{1}{{2\\sqrt {5x - 8} }}\\,\\,\\left( 5 \\right)\\\\ \n",
    "&  = \\frac{5}{{2\\sqrt {5x - 8} }}\\end{align*}\n",
    "$$"
   ]
  },
  {
   "cell_type": "markdown",
   "metadata": {},
   "source": [
    "Let us check whether the computer gives the same answers, "
   ]
  },
  {
   "cell_type": "code",
   "execution_count": 160,
   "metadata": {},
   "outputs": [
    {
     "data": {
      "text/latex": [
       "\\begin{equation}\n",
       "\\frac{dsqrt(-8 + 5x)}{dx}\n",
       "\\end{equation}\n"
      ],
      "text/plain": [
       "Differential(x)(sqrt(5x - 8))"
      ]
     },
     "execution_count": 160,
     "metadata": {},
     "output_type": "execute_result"
    }
   ],
   "source": [
    "y = sqrt(5x - 8)\n",
    "D(y)"
   ]
  },
  {
   "cell_type": "code",
   "execution_count": 161,
   "metadata": {},
   "outputs": [
    {
     "data": {
      "text/latex": [
       "\\begin{equation}\n",
       "\\frac{\\frac{5}{2}}{\\sqrt{-8 + 5 x}}\n",
       "\\end{equation}\n"
      ],
      "text/plain": [
       "(5//2)*(sqrt(5x - 8)^-1)"
      ]
     },
     "execution_count": 161,
     "metadata": {},
     "output_type": "execute_result"
    }
   ],
   "source": [
    "expand_derivatives(D(y))"
   ]
  },
  {
   "cell_type": "code",
   "execution_count": 162,
   "metadata": {},
   "outputs": [
    {
     "data": {
      "text/latex": [
       "\\begin{equation}\n",
       "\\frac{5}{2 \\sqrt{-8 + 5 x}}\n",
       "\\end{equation}\n"
      ],
      "text/plain": [
       "5 / (2sqrt(5x - 8))"
      ]
     },
     "execution_count": 162,
     "metadata": {},
     "output_type": "execute_result"
    }
   ],
   "source": [
    "f(x) = sqrt(5x - 8)\n",
    "\n",
    "f'(x) "
   ]
  },
  {
   "cell_type": "markdown",
   "metadata": {},
   "source": [
    "#### Sum (difference) rule"
   ]
  },
  {
   "cell_type": "markdown",
   "metadata": {},
   "source": [
    "Given functions $p$ and $q$ that are differentiable at $x$ and with $f(x) = p(x) + q(x)$ we have that the derivative according to the sum rule is given by, \n",
    "\n",
    "$$\n",
    "f^{\\prime } (x)=p^{\\prime } (x)+q^{\\prime } (x)\n",
    "$$\n",
    "\n",
    "Let us consider an example with the application of this rule. Find the derivative of $f(x) = 2x^5 + 7$. In this case, $p(x) = 2x^5$ and $q(x) = 7$. \n",
    "\n",
    "$$\n",
    "\\begin{align*} \n",
    "f'(x)&=\\dfrac{d}{dx}\\left(2x^5+7\\right)\\\\\n",
    "&=\\dfrac{d}{dx}(2x^5)+\\dfrac{d}{dx}(7) & & \\text{Apply the sum rule.}\\\\\n",
    "&=2\\dfrac{d}{dx}(x^5)+\\dfrac{d}{dx}(7) & & \\text{Apply the constant multiple rule.}\\\\ \n",
    "&=2(5x^4)+0 & & \\text{Apply the power rule and the constant rule.}\\\\\n",
    "&=10x^4 & & Simplify. \n",
    "\\end{align*}\n",
    "$$"
   ]
  },
  {
   "cell_type": "markdown",
   "metadata": {},
   "source": [
    "As usual, we check the answer on the computer. "
   ]
  },
  {
   "cell_type": "code",
   "execution_count": 163,
   "metadata": {},
   "outputs": [
    {
     "data": {
      "text/latex": [
       "\\begin{equation}\n",
       "\\mathrm{\\frac{d}{d x}}\\left( 7 + 2 x^{5} \\right)\n",
       "\\end{equation}\n"
      ],
      "text/plain": [
       "Differential(x)(7 + 2(x^5))"
      ]
     },
     "execution_count": 163,
     "metadata": {},
     "output_type": "execute_result"
    }
   ],
   "source": [
    "y = 2x^5 + 7\n",
    "D(y)"
   ]
  },
  {
   "cell_type": "code",
   "execution_count": 164,
   "metadata": {},
   "outputs": [
    {
     "data": {
      "text/latex": [
       "\\begin{equation}\n",
       "10 x^{4}\n",
       "\\end{equation}\n"
      ],
      "text/plain": [
       "10(x^4)"
      ]
     },
     "execution_count": 164,
     "metadata": {},
     "output_type": "execute_result"
    }
   ],
   "source": [
    "expand_derivatives(D(y))"
   ]
  },
  {
   "cell_type": "code",
   "execution_count": 165,
   "metadata": {},
   "outputs": [
    {
     "data": {
      "text/latex": [
       "\\begin{equation}\n",
       "10 x^{4}\n",
       "\\end{equation}\n"
      ],
      "text/plain": [
       "10(x^4)"
      ]
     },
     "execution_count": 165,
     "metadata": {},
     "output_type": "execute_result"
    }
   ],
   "source": [
    "f(x) = 2x^5 + 7\n",
    "\n",
    "f'(x) "
   ]
  },
  {
   "cell_type": "markdown",
   "metadata": {},
   "source": [
    "These are the most important rules that we will use the most. The following rules are also used, but less frequently. "
   ]
  },
  {
   "cell_type": "markdown",
   "metadata": {},
   "source": [
    "#### Product rule"
   ]
  },
  {
   "cell_type": "markdown",
   "metadata": {},
   "source": [
    "Given functions $p$ and $q$ that are differentiable at $x$ and with $f(x)=p(x)\\cdot q(x)$ we have that the derivative is, \n",
    "\n",
    "$$\n",
    "f^{\\prime } (x)=p^{\\prime } (x)\\cdot q(x)+p(x)\\cdot q^{\\prime } (x)\n",
    "$$"
   ]
  },
  {
   "cell_type": "markdown",
   "metadata": {},
   "source": [
    "Consider the following example, find $f'(x) = (x^2+2)(3x^3−5x)$ by applying the product rule. \n",
    "\n",
    "If we set $p(x)=x2+2$ and $q(x)=3x3−5x$, then $p'(x)=2x$ and $q'(x)=9x2−5$ and therefore, \n",
    "\n",
    "$$\n",
    "f'(x)=p'(x)q(x)+q'(x)p(x)=(2x)(3x^3−5x)+(9x^2−5)(x^2+2)\n",
    "$$\n",
    "\n",
    "If we simplify this we have $f'(x) = 15x4+3x2−10$"
   ]
  },
  {
   "cell_type": "markdown",
   "metadata": {},
   "source": [
    "Check against the answer from computer, "
   ]
  },
  {
   "cell_type": "code",
   "execution_count": 167,
   "metadata": {},
   "outputs": [
    {
     "data": {
      "text/latex": [
       "\\begin{equation}\n",
       "\\mathrm{\\frac{d}{d x}}\\left( \\left( 2 + x^{2} \\right) \\left( 3 x^{3} - 5 x \\right) \\right)\n",
       "\\end{equation}\n"
      ],
      "text/plain": [
       "Differential(x)((2 + x^2)*(3(x^3) - 5x))"
      ]
     },
     "execution_count": 167,
     "metadata": {},
     "output_type": "execute_result"
    }
   ],
   "source": [
    "y = (x^2 + 2)*(3x^3 − 5x)\n",
    "D(y)"
   ]
  },
  {
   "cell_type": "code",
   "execution_count": 171,
   "metadata": {},
   "outputs": [
    {
     "data": {
      "text/latex": [
       "\\begin{equation}\n",
       "\\left( 2 + x^{2} \\right) \\left( -5 + 9 x^{2} \\right) + 2 x \\left( 3 x^{3} - 5 x \\right)\n",
       "\\end{equation}\n"
      ],
      "text/plain": [
       "(2 + x^2)*(9(x^2) - 5) + 2x*(3(x^3) - 5x)"
      ]
     },
     "execution_count": 171,
     "metadata": {},
     "output_type": "execute_result"
    }
   ],
   "source": [
    "expand_derivatives(D(y))"
   ]
  },
  {
   "cell_type": "markdown",
   "metadata": {},
   "source": [
    "Check against the automatic differentiation answer, "
   ]
  },
  {
   "cell_type": "code",
   "execution_count": 172,
   "metadata": {},
   "outputs": [
    {
     "data": {
      "text/latex": [
       "\\begin{equation}\n",
       "-10 - 5 x^{2} + 2 x \\left( 3 x^{3} - 5 x \\right) + 3 x^{2} \\left( 6 + 3 x^{2} \\right)\n",
       "\\end{equation}\n"
      ],
      "text/plain": [
       "2x*(3(x^3) - 5x) + 3(x^2)*(6 + 3(x^2)) - 10 - 5(x^2)"
      ]
     },
     "execution_count": 172,
     "metadata": {},
     "output_type": "execute_result"
    }
   ],
   "source": [
    "f(x) = (x^2 + 2)*(3x^3 − 5x)\n",
    "\n",
    "f'(x) "
   ]
  },
  {
   "cell_type": "markdown",
   "metadata": {},
   "source": [
    "#### Exponential"
   ]
  },
  {
   "cell_type": "markdown",
   "metadata": {},
   "source": [
    "The exponential function is used a lot in economics. We will often have functions such as $f(x) = \\exp(a \\cdot x)$. The derivative in this case is given by, \n",
    "\n",
    "$$\n",
    "f'(x) = a \\cdot \\exp(a \\cdot x)\n",
    "$$\n",
    "\n",
    "In economics you will find the exponential function in the compounding of interest. The accumulated value of interest that is compounded continuously is given by \n",
    "\n",
    "$$\n",
    "A(t) = Pe^{rt}\n",
    "$$\n",
    "\n",
    "If you wanted to take a derivative of this function with respect to the variable $t$ then you would get the following answer, \n",
    "\n",
    "$$\n",
    "A'(t) = r \\cdot Pe^{rt}\n",
    "$$"
   ]
  },
  {
   "cell_type": "code",
   "execution_count": 182,
   "metadata": {},
   "outputs": [
    {
     "data": {
      "text/latex": [
       "\\begin{equation}\n",
       "0.5 e^{0.05 x}\n",
       "\\end{equation}\n"
      ],
      "text/plain": [
       "0.5exp(0.05x)"
      ]
     },
     "execution_count": 182,
     "metadata": {},
     "output_type": "execute_result"
    }
   ],
   "source": [
    "P = 10; r = 0.05 # choose arbitrary values for P and r\n",
    "\n",
    "f(x) = P * exp(r*x)\n",
    "\n",
    "f'(x) "
   ]
  },
  {
   "cell_type": "markdown",
   "metadata": {},
   "source": [
    "#### Logarithm"
   ]
  },
  {
   "cell_type": "markdown",
   "metadata": {},
   "source": [
    "Finally, we have the derivative of a log function, which is used almost everywhere in economics. If we have the function $f(x) = \\log(x)$ then the derivative is given by, \n",
    "\n",
    "$$\n",
    "f'(x) = 1 / x\n",
    "$$"
   ]
  },
  {
   "cell_type": "code",
   "execution_count": 183,
   "metadata": {},
   "outputs": [
    {
     "data": {
      "text/latex": [
       "\\begin{equation}\n",
       "\\frac{1}{x}\n",
       "\\end{equation}\n"
      ],
      "text/plain": [
       "1 / x"
      ]
     },
     "execution_count": 183,
     "metadata": {},
     "output_type": "execute_result"
    }
   ],
   "source": [
    "f(x) = log(x)\n",
    "\n",
    "f'(x)"
   ]
  },
  {
   "cell_type": "markdown",
   "metadata": {},
   "source": [
    "## Higher order derivatives"
   ]
  },
  {
   "cell_type": "markdown",
   "metadata": {},
   "source": [
    "With these rules you should be able to tackle most problems that involve derivatives. These derivatives that we calculated were first order derivatives. We can actually take the derivative again with respect to the variable of interest and then we would have **second order derivatives**. The second order derivative is then a derivative of the first order derivative. \n",
    "\n",
    "While the first order derivative provides a rate of change (often a slope of a tangent line), the second order derivative gives us information on the rate of change of the rate of change. "
   ]
  },
  {
   "cell_type": "markdown",
   "metadata": {},
   "source": [
    "### Example: Cobb-Douglas"
   ]
  },
  {
   "cell_type": "markdown",
   "metadata": {},
   "source": [
    "We can illustrate the usage of derivatives in economics with a basic example. Consider the Cobb-Douglas production function (which we will see again in the notebook on the Solow model). This is a simple explicit form for a production function that we often encounter in economics. The form of the function is as follows, \n",
    "\n",
    "$$\n",
    "F(K,L)=K^{\\alpha } \\cdot L^{\\beta}\n",
    "$$\n",
    "\n",
    "where $F$ is the production function and it is a function of the capital ($K$) and labour ($L$) inputs. In order to make this a univariate example, we fix the value of $K$, so that it isn't variable. The derivative with respect to labour gives us the marginal product of labour. The derivative is then given as, \n",
    "\n",
    "$$\n",
    "\\frac{{\\textrm{d}} Y(K,L)}{dL } = MPL(K,L)=(\\beta)\\cdot K^{\\alpha } \\cdot L^{\\beta - 1}\n",
    "$$\n",
    "\n",
    "The derivative that we have obtained above is simply another function and we can take additional derivatives. The second order derivative is given by, \n",
    "\n",
    "$$\n",
    "\\frac{{\\textrm{d}}^2 Y(K,L)}{dL^2 }=(\\beta )\\cdot (\\beta -1)\\cdot K^{\\alpha } \\cdot L^{\\beta -2}\n",
    "$$\n"
   ]
  },
  {
   "cell_type": "markdown",
   "metadata": {},
   "source": [
    "We can calculate the derivatives with `Symbolics` as well, "
   ]
  },
  {
   "cell_type": "code",
   "execution_count": 212,
   "metadata": {},
   "outputs": [
    {
     "data": {
      "text/latex": [
       "\\begin{equation}\n",
       "\\mathrm{\\frac{d}{d L}}\\left( L^{\\beta} K^{\\alpha} \\right)\n",
       "\\end{equation}\n"
      ],
      "text/plain": [
       "Differential(L)((K^α)*(L^β))"
      ]
     },
     "execution_count": 212,
     "metadata": {},
     "output_type": "execute_result"
    }
   ],
   "source": [
    "@variables K L α β\n",
    "\n",
    "D = Differential(L)\n",
    "\n",
    "Y = K ^ (α) * L ^ (β)\n",
    "D(Y)"
   ]
  },
  {
   "cell_type": "code",
   "execution_count": 215,
   "metadata": {},
   "outputs": [
    {
     "data": {
      "text/latex": [
       "\\begin{equation}\n",
       "L^{-1 + \\beta} K^{\\alpha} \\beta\n",
       "\\end{equation}\n"
      ],
      "text/plain": [
       "β*(K^α)*(L^(β - 1))"
      ]
     },
     "execution_count": 215,
     "metadata": {},
     "output_type": "execute_result"
    }
   ],
   "source": [
    "expand_derivatives(D(Y))"
   ]
  },
  {
   "cell_type": "code",
   "execution_count": 219,
   "metadata": {},
   "outputs": [
    {
     "data": {
      "text/plain": [
       "Differential(L) ∘ Differential(L)"
      ]
     },
     "execution_count": 219,
     "metadata": {},
     "output_type": "execute_result"
    }
   ],
   "source": [
    "D2 = Differential(L) * Differential(L)"
   ]
  },
  {
   "cell_type": "code",
   "execution_count": 220,
   "metadata": {},
   "outputs": [
    {
     "data": {
      "text/latex": [
       "\\begin{equation}\n",
       "\\frac{d(d / (d * L))(L ^ \\beta * K ^ \\alpha)}{dL}\n",
       "\\end{equation}\n"
      ],
      "text/plain": [
       "Differential(L)(Differential(L)((K^α)*(L^β)))"
      ]
     },
     "execution_count": 220,
     "metadata": {},
     "output_type": "execute_result"
    }
   ],
   "source": [
    "D2(Y)"
   ]
  },
  {
   "cell_type": "code",
   "execution_count": 221,
   "metadata": {},
   "outputs": [
    {
     "data": {
      "text/latex": [
       "\\begin{equation}\n",
       "L^{-2 + \\beta} K^{\\alpha} \\beta \\left( -1 + \\beta \\right)\n",
       "\\end{equation}\n"
      ],
      "text/plain": [
       "β*(K^α)*(L^(β - 2))*(β - 1)"
      ]
     },
     "execution_count": 221,
     "metadata": {},
     "output_type": "execute_result"
    }
   ],
   "source": [
    "expand_derivatives(D2(Y)) # second order derivative"
   ]
  },
  {
   "cell_type": "markdown",
   "metadata": {},
   "source": [
    "We seem to get the same answer as above if we do a quick check."
   ]
  },
  {
   "cell_type": "markdown",
   "metadata": {},
   "source": [
    "### Curvature and second derivative"
   ]
  },
  {
   "cell_type": "markdown",
   "metadata": {},
   "source": [
    "For our Cobb-Douglas example, we will graph the second derivative when $\\beta = 0.5$. The production function is concave. For any function that is twice continuously differentiable, the function is concave if and only if its second derivative is non-positive. "
   ]
  },
  {
   "cell_type": "code",
   "execution_count": 233,
   "metadata": {},
   "outputs": [],
   "source": [
    "α = 0.5; β = 0.5\n",
    "\n",
    "K = 1\n",
    "\n",
    "@variables L\n",
    "\n",
    "D = Differential(L)\n",
    "\n",
    "Y = K ^ (α) * L ^ (β)\n",
    "D(Y)\n",
    "\n",
    "diff_1 = expand_derivatives(D(Y));\n",
    "diff_2 = expand_derivatives(D2(Y));"
   ]
  },
  {
   "cell_type": "code",
   "execution_count": 255,
   "metadata": {},
   "outputs": [
    {
     "data": {
      "image/svg+xml": "<?xml version=\"1.0\" encoding=\"utf-8\"?>\n<svg xmlns=\"http://www.w3.org/2000/svg\" xmlns:xlink=\"http://www.w3.org/1999/xlink\" width=\"600\" height=\"400\" viewBox=\"0 0 2400 1600\">\n<defs>\n  <clipPath id=\"clip630\">\n    <rect x=\"0\" y=\"0\" width=\"2400\" height=\"1600\"/>\n  </clipPath>\n</defs>\n<path clip-path=\"url(#clip630)\" d=\"\nM0 1600 L2400 1600 L2400 0 L0 0  Z\n  \" fill=\"#ffffff\" fill-rule=\"evenodd\" fill-opacity=\"1\"/>\n<defs>\n  <clipPath id=\"clip631\">\n    <rect x=\"480\" y=\"0\" width=\"1681\" height=\"1600\"/>\n  </clipPath>\n</defs>\n<path clip-path=\"url(#clip630)\" d=\"\nM147.478 1486.45 L2352.76 1486.45 L2352.76 47.2441 L147.478 47.2441  Z\n  \" fill=\"#ffffff\" fill-rule=\"evenodd\" fill-opacity=\"1\"/>\n<defs>\n  <clipPath id=\"clip632\">\n    <rect x=\"147\" y=\"47\" width=\"2206\" height=\"1440\"/>\n  </clipPath>\n</defs>\n<polyline clip-path=\"url(#clip632)\" style=\"stroke:#000000; stroke-linecap:butt; stroke-linejoin:round; stroke-width:2; stroke-opacity:0.1; fill:none\" points=\"\n  432.797,1486.45 432.797,47.2441 \n  \"/>\n<polyline clip-path=\"url(#clip632)\" style=\"stroke:#000000; stroke-linecap:butt; stroke-linejoin:round; stroke-width:2; stroke-opacity:0.1; fill:none\" points=\"\n  804.306,1486.45 804.306,47.2441 \n  \"/>\n<polyline clip-path=\"url(#clip632)\" style=\"stroke:#000000; stroke-linecap:butt; stroke-linejoin:round; stroke-width:2; stroke-opacity:0.1; fill:none\" points=\"\n  1175.82,1486.45 1175.82,47.2441 \n  \"/>\n<polyline clip-path=\"url(#clip632)\" style=\"stroke:#000000; stroke-linecap:butt; stroke-linejoin:round; stroke-width:2; stroke-opacity:0.1; fill:none\" points=\"\n  1547.32,1486.45 1547.32,47.2441 \n  \"/>\n<polyline clip-path=\"url(#clip632)\" style=\"stroke:#000000; stroke-linecap:butt; stroke-linejoin:round; stroke-width:2; stroke-opacity:0.1; fill:none\" points=\"\n  1918.83,1486.45 1918.83,47.2441 \n  \"/>\n<polyline clip-path=\"url(#clip632)\" style=\"stroke:#000000; stroke-linecap:butt; stroke-linejoin:round; stroke-width:2; stroke-opacity:0.1; fill:none\" points=\"\n  2290.34,1486.45 2290.34,47.2441 \n  \"/>\n<polyline clip-path=\"url(#clip630)\" style=\"stroke:#000000; stroke-linecap:butt; stroke-linejoin:round; stroke-width:4; stroke-opacity:1; fill:none\" points=\"\n  147.478,1486.45 2352.76,1486.45 \n  \"/>\n<polyline clip-path=\"url(#clip630)\" style=\"stroke:#000000; stroke-linecap:butt; stroke-linejoin:round; stroke-width:4; stroke-opacity:1; fill:none\" points=\"\n  432.797,1486.45 432.797,1467.55 \n  \"/>\n<polyline clip-path=\"url(#clip630)\" style=\"stroke:#000000; stroke-linecap:butt; stroke-linejoin:round; stroke-width:4; stroke-opacity:1; fill:none\" points=\"\n  804.306,1486.45 804.306,1467.55 \n  \"/>\n<polyline clip-path=\"url(#clip630)\" style=\"stroke:#000000; stroke-linecap:butt; stroke-linejoin:round; stroke-width:4; stroke-opacity:1; fill:none\" points=\"\n  1175.82,1486.45 1175.82,1467.55 \n  \"/>\n<polyline clip-path=\"url(#clip630)\" style=\"stroke:#000000; stroke-linecap:butt; stroke-linejoin:round; stroke-width:4; stroke-opacity:1; fill:none\" points=\"\n  1547.32,1486.45 1547.32,1467.55 \n  \"/>\n<polyline clip-path=\"url(#clip630)\" style=\"stroke:#000000; stroke-linecap:butt; stroke-linejoin:round; stroke-width:4; stroke-opacity:1; fill:none\" points=\"\n  1918.83,1486.45 1918.83,1467.55 \n  \"/>\n<polyline clip-path=\"url(#clip630)\" style=\"stroke:#000000; stroke-linecap:butt; stroke-linejoin:round; stroke-width:4; stroke-opacity:1; fill:none\" points=\"\n  2290.34,1486.45 2290.34,1467.55 \n  \"/>\n<path clip-path=\"url(#clip630)\" d=\"M410.679 1517.37 Q407.068 1517.37 405.239 1520.93 Q403.434 1524.47 403.434 1531.6 Q403.434 1538.71 405.239 1542.27 Q407.068 1545.82 410.679 1545.82 Q414.313 1545.82 416.119 1542.27 Q417.947 1538.71 417.947 1531.6 Q417.947 1524.47 416.119 1520.93 Q414.313 1517.37 410.679 1517.37 M410.679 1513.66 Q416.489 1513.66 419.545 1518.27 Q422.623 1522.85 422.623 1531.6 Q422.623 1540.33 419.545 1544.94 Q416.489 1549.52 410.679 1549.52 Q404.869 1549.52 401.79 1544.94 Q398.735 1540.33 398.735 1531.6 Q398.735 1522.85 401.79 1518.27 Q404.869 1513.66 410.679 1513.66 Z\" fill=\"#000000\" fill-rule=\"evenodd\" fill-opacity=\"1\" /><path clip-path=\"url(#clip630)\" d=\"M430.841 1542.97 L435.725 1542.97 L435.725 1548.85 L430.841 1548.85 L430.841 1542.97 Z\" fill=\"#000000\" fill-rule=\"evenodd\" fill-opacity=\"1\" /><path clip-path=\"url(#clip630)\" d=\"M445.957 1514.29 L464.313 1514.29 L464.313 1518.22 L450.239 1518.22 L450.239 1526.7 Q451.257 1526.35 452.276 1526.19 Q453.294 1526 454.313 1526 Q460.1 1526 463.48 1529.17 Q466.859 1532.34 466.859 1537.76 Q466.859 1543.34 463.387 1546.44 Q459.915 1549.52 453.595 1549.52 Q451.419 1549.52 449.151 1549.15 Q446.906 1548.78 444.498 1548.04 L444.498 1543.34 Q446.582 1544.47 448.804 1545.03 Q451.026 1545.58 453.503 1545.58 Q457.507 1545.58 459.845 1543.48 Q462.183 1541.37 462.183 1537.76 Q462.183 1534.15 459.845 1532.04 Q457.507 1529.94 453.503 1529.94 Q451.628 1529.94 449.753 1530.35 Q447.901 1530.77 445.957 1531.65 L445.957 1514.29 Z\" fill=\"#000000\" fill-rule=\"evenodd\" fill-opacity=\"1\" /><path clip-path=\"url(#clip630)\" d=\"M771.459 1544.91 L779.098 1544.91 L779.098 1518.55 L770.788 1520.21 L770.788 1515.95 L779.052 1514.29 L783.727 1514.29 L783.727 1544.91 L791.366 1544.91 L791.366 1548.85 L771.459 1548.85 L771.459 1544.91 Z\" fill=\"#000000\" fill-rule=\"evenodd\" fill-opacity=\"1\" /><path clip-path=\"url(#clip630)\" d=\"M800.811 1542.97 L805.695 1542.97 L805.695 1548.85 L800.811 1548.85 L800.811 1542.97 Z\" fill=\"#000000\" fill-rule=\"evenodd\" fill-opacity=\"1\" /><path clip-path=\"url(#clip630)\" d=\"M825.88 1517.37 Q822.269 1517.37 820.44 1520.93 Q818.635 1524.47 818.635 1531.6 Q818.635 1538.71 820.44 1542.27 Q822.269 1545.82 825.88 1545.82 Q829.514 1545.82 831.32 1542.27 Q833.148 1538.71 833.148 1531.6 Q833.148 1524.47 831.32 1520.93 Q829.514 1517.37 825.88 1517.37 M825.88 1513.66 Q831.69 1513.66 834.746 1518.27 Q837.824 1522.85 837.824 1531.6 Q837.824 1540.33 834.746 1544.94 Q831.69 1549.52 825.88 1549.52 Q820.07 1549.52 816.991 1544.94 Q813.936 1540.33 813.936 1531.6 Q813.936 1522.85 816.991 1518.27 Q820.07 1513.66 825.88 1513.66 Z\" fill=\"#000000\" fill-rule=\"evenodd\" fill-opacity=\"1\" /><path clip-path=\"url(#clip630)\" d=\"M1143.47 1544.91 L1151.1 1544.91 L1151.1 1518.55 L1142.79 1520.21 L1142.79 1515.95 L1151.06 1514.29 L1155.73 1514.29 L1155.73 1544.91 L1163.37 1544.91 L1163.37 1548.85 L1143.47 1548.85 L1143.47 1544.91 Z\" fill=\"#000000\" fill-rule=\"evenodd\" fill-opacity=\"1\" /><path clip-path=\"url(#clip630)\" d=\"M1172.82 1542.97 L1177.7 1542.97 L1177.7 1548.85 L1172.82 1548.85 L1172.82 1542.97 Z\" fill=\"#000000\" fill-rule=\"evenodd\" fill-opacity=\"1\" /><path clip-path=\"url(#clip630)\" d=\"M1187.93 1514.29 L1206.29 1514.29 L1206.29 1518.22 L1192.22 1518.22 L1192.22 1526.7 Q1193.23 1526.35 1194.25 1526.19 Q1195.27 1526 1196.29 1526 Q1202.08 1526 1205.46 1529.17 Q1208.84 1532.34 1208.84 1537.76 Q1208.84 1543.34 1205.36 1546.44 Q1201.89 1549.52 1195.57 1549.52 Q1193.4 1549.52 1191.13 1549.15 Q1188.88 1548.78 1186.47 1548.04 L1186.47 1543.34 Q1188.56 1544.47 1190.78 1545.03 Q1193 1545.58 1195.48 1545.58 Q1199.48 1545.58 1201.82 1543.48 Q1204.16 1541.37 1204.16 1537.76 Q1204.16 1534.15 1201.82 1532.04 Q1199.48 1529.94 1195.48 1529.94 Q1193.6 1529.94 1191.73 1530.35 Q1189.88 1530.77 1187.93 1531.65 L1187.93 1514.29 Z\" fill=\"#000000\" fill-rule=\"evenodd\" fill-opacity=\"1\" /><path clip-path=\"url(#clip630)\" d=\"M1518.56 1544.91 L1534.88 1544.91 L1534.88 1548.85 L1512.94 1548.85 L1512.94 1544.91 Q1515.6 1542.16 1520.18 1537.53 Q1524.79 1532.88 1525.97 1531.53 Q1528.22 1529.01 1529.1 1527.27 Q1530 1525.51 1530 1523.82 Q1530 1521.07 1528.05 1519.33 Q1526.13 1517.6 1523.03 1517.6 Q1520.83 1517.6 1518.38 1518.36 Q1515.95 1519.13 1513.17 1520.68 L1513.17 1515.95 Q1515.99 1514.82 1518.45 1514.24 Q1520.9 1513.66 1522.94 1513.66 Q1528.31 1513.66 1531.5 1516.35 Q1534.7 1519.03 1534.7 1523.52 Q1534.7 1525.65 1533.89 1527.57 Q1533.1 1529.47 1530.99 1532.07 Q1530.41 1532.74 1527.31 1535.95 Q1524.21 1539.15 1518.56 1544.91 Z\" fill=\"#000000\" fill-rule=\"evenodd\" fill-opacity=\"1\" /><path clip-path=\"url(#clip630)\" d=\"M1544.7 1542.97 L1549.58 1542.97 L1549.58 1548.85 L1544.7 1548.85 L1544.7 1542.97 Z\" fill=\"#000000\" fill-rule=\"evenodd\" fill-opacity=\"1\" /><path clip-path=\"url(#clip630)\" d=\"M1569.77 1517.37 Q1566.16 1517.37 1564.33 1520.93 Q1562.52 1524.47 1562.52 1531.6 Q1562.52 1538.71 1564.33 1542.27 Q1566.16 1545.82 1569.77 1545.82 Q1573.4 1545.82 1575.21 1542.27 Q1577.03 1538.71 1577.03 1531.6 Q1577.03 1524.47 1575.21 1520.93 Q1573.4 1517.37 1569.77 1517.37 M1569.77 1513.66 Q1575.58 1513.66 1578.63 1518.27 Q1581.71 1522.85 1581.71 1531.6 Q1581.71 1540.33 1578.63 1544.94 Q1575.58 1549.52 1569.77 1549.52 Q1563.96 1549.52 1560.88 1544.94 Q1557.82 1540.33 1557.82 1531.6 Q1557.82 1522.85 1560.88 1518.27 Q1563.96 1513.66 1569.77 1513.66 Z\" fill=\"#000000\" fill-rule=\"evenodd\" fill-opacity=\"1\" /><path clip-path=\"url(#clip630)\" d=\"M1890.57 1544.91 L1906.89 1544.91 L1906.89 1548.85 L1884.94 1548.85 L1884.94 1544.91 Q1887.61 1542.16 1892.19 1537.53 Q1896.8 1532.88 1897.98 1531.53 Q1900.22 1529.01 1901.1 1527.27 Q1902 1525.51 1902 1523.82 Q1902 1521.07 1900.06 1519.33 Q1898.14 1517.6 1895.04 1517.6 Q1892.84 1517.6 1890.38 1518.36 Q1887.95 1519.13 1885.18 1520.68 L1885.18 1515.95 Q1888 1514.82 1890.45 1514.24 Q1892.91 1513.66 1894.94 1513.66 Q1900.31 1513.66 1903.51 1516.35 Q1906.7 1519.03 1906.7 1523.52 Q1906.7 1525.65 1905.89 1527.57 Q1905.11 1529.47 1903 1532.07 Q1902.42 1532.74 1899.32 1535.95 Q1896.22 1539.15 1890.57 1544.91 Z\" fill=\"#000000\" fill-rule=\"evenodd\" fill-opacity=\"1\" /><path clip-path=\"url(#clip630)\" d=\"M1916.7 1542.97 L1921.59 1542.97 L1921.59 1548.85 L1916.7 1548.85 L1916.7 1542.97 Z\" fill=\"#000000\" fill-rule=\"evenodd\" fill-opacity=\"1\" /><path clip-path=\"url(#clip630)\" d=\"M1931.82 1514.29 L1950.18 1514.29 L1950.18 1518.22 L1936.1 1518.22 L1936.1 1526.7 Q1937.12 1526.35 1938.14 1526.19 Q1939.16 1526 1940.18 1526 Q1945.96 1526 1949.34 1529.17 Q1952.72 1532.34 1952.72 1537.76 Q1952.72 1543.34 1949.25 1546.44 Q1945.78 1549.52 1939.46 1549.52 Q1937.28 1549.52 1935.01 1549.15 Q1932.77 1548.78 1930.36 1548.04 L1930.36 1543.34 Q1932.44 1544.47 1934.67 1545.03 Q1936.89 1545.58 1939.37 1545.58 Q1943.37 1545.58 1945.71 1543.48 Q1948.05 1541.37 1948.05 1537.76 Q1948.05 1534.15 1945.71 1532.04 Q1943.37 1529.94 1939.37 1529.94 Q1937.49 1529.94 1935.62 1530.35 Q1933.76 1530.77 1931.82 1531.65 L1931.82 1514.29 Z\" fill=\"#000000\" fill-rule=\"evenodd\" fill-opacity=\"1\" /><path clip-path=\"url(#clip630)\" d=\"M2271.65 1530.21 Q2275.01 1530.93 2276.88 1533.2 Q2278.78 1535.47 2278.78 1538.8 Q2278.78 1543.92 2275.26 1546.72 Q2271.74 1549.52 2265.26 1549.52 Q2263.09 1549.52 2260.77 1549.08 Q2258.48 1548.66 2256.03 1547.81 L2256.03 1543.29 Q2257.97 1544.43 2260.28 1545.01 Q2262.6 1545.58 2265.12 1545.58 Q2269.52 1545.58 2271.81 1543.85 Q2274.13 1542.11 2274.13 1538.8 Q2274.13 1535.75 2271.97 1534.03 Q2269.84 1532.3 2266.03 1532.3 L2262 1532.3 L2262 1528.45 L2266.21 1528.45 Q2269.66 1528.45 2271.49 1527.09 Q2273.32 1525.7 2273.32 1523.11 Q2273.32 1520.45 2271.42 1519.03 Q2269.54 1517.6 2266.03 1517.6 Q2264.1 1517.6 2261.91 1518.01 Q2259.71 1518.43 2257.07 1519.31 L2257.07 1515.14 Q2259.73 1514.4 2262.04 1514.03 Q2264.38 1513.66 2266.44 1513.66 Q2271.77 1513.66 2274.87 1516.09 Q2277.97 1518.5 2277.97 1522.62 Q2277.97 1525.49 2276.33 1527.48 Q2274.68 1529.45 2271.65 1530.21 Z\" fill=\"#000000\" fill-rule=\"evenodd\" fill-opacity=\"1\" /><path clip-path=\"url(#clip630)\" d=\"M2287.65 1542.97 L2292.53 1542.97 L2292.53 1548.85 L2287.65 1548.85 L2287.65 1542.97 Z\" fill=\"#000000\" fill-rule=\"evenodd\" fill-opacity=\"1\" /><path clip-path=\"url(#clip630)\" d=\"M2312.71 1517.37 Q2309.1 1517.37 2307.28 1520.93 Q2305.47 1524.47 2305.47 1531.6 Q2305.47 1538.71 2307.28 1542.27 Q2309.1 1545.82 2312.71 1545.82 Q2316.35 1545.82 2318.15 1542.27 Q2319.98 1538.71 2319.98 1531.6 Q2319.98 1524.47 2318.15 1520.93 Q2316.35 1517.37 2312.71 1517.37 M2312.71 1513.66 Q2318.53 1513.66 2321.58 1518.27 Q2324.66 1522.85 2324.66 1531.6 Q2324.66 1540.33 2321.58 1544.94 Q2318.53 1549.52 2312.71 1549.52 Q2306.9 1549.52 2303.83 1544.94 Q2300.77 1540.33 2300.77 1531.6 Q2300.77 1522.85 2303.83 1518.27 Q2306.9 1513.66 2312.71 1513.66 Z\" fill=\"#000000\" fill-rule=\"evenodd\" fill-opacity=\"1\" /><polyline clip-path=\"url(#clip632)\" style=\"stroke:#000000; stroke-linecap:butt; stroke-linejoin:round; stroke-width:2; stroke-opacity:0.1; fill:none\" points=\"\n  147.478,1207.26 2352.76,1207.26 \n  \"/>\n<polyline clip-path=\"url(#clip632)\" style=\"stroke:#000000; stroke-linecap:butt; stroke-linejoin:round; stroke-width:2; stroke-opacity:0.1; fill:none\" points=\"\n  147.478,907.349 2352.76,907.349 \n  \"/>\n<polyline clip-path=\"url(#clip632)\" style=\"stroke:#000000; stroke-linecap:butt; stroke-linejoin:round; stroke-width:2; stroke-opacity:0.1; fill:none\" points=\"\n  147.478,607.438 2352.76,607.438 \n  \"/>\n<polyline clip-path=\"url(#clip632)\" style=\"stroke:#000000; stroke-linecap:butt; stroke-linejoin:round; stroke-width:2; stroke-opacity:0.1; fill:none\" points=\"\n  147.478,307.527 2352.76,307.527 \n  \"/>\n<polyline clip-path=\"url(#clip630)\" style=\"stroke:#000000; stroke-linecap:butt; stroke-linejoin:round; stroke-width:4; stroke-opacity:1; fill:none\" points=\"\n  147.478,1486.45 147.478,47.2441 \n  \"/>\n<polyline clip-path=\"url(#clip630)\" style=\"stroke:#000000; stroke-linecap:butt; stroke-linejoin:round; stroke-width:4; stroke-opacity:1; fill:none\" points=\"\n  147.478,1207.26 166.376,1207.26 \n  \"/>\n<polyline clip-path=\"url(#clip630)\" style=\"stroke:#000000; stroke-linecap:butt; stroke-linejoin:round; stroke-width:4; stroke-opacity:1; fill:none\" points=\"\n  147.478,907.349 166.376,907.349 \n  \"/>\n<polyline clip-path=\"url(#clip630)\" style=\"stroke:#000000; stroke-linecap:butt; stroke-linejoin:round; stroke-width:4; stroke-opacity:1; fill:none\" points=\"\n  147.478,607.438 166.376,607.438 \n  \"/>\n<polyline clip-path=\"url(#clip630)\" style=\"stroke:#000000; stroke-linecap:butt; stroke-linejoin:round; stroke-width:4; stroke-opacity:1; fill:none\" points=\"\n  147.478,307.527 166.376,307.527 \n  \"/>\n<path clip-path=\"url(#clip630)\" d=\"M51.3625 1207.71 L81.0383 1207.71 L81.0383 1211.65 L51.3625 1211.65 L51.3625 1207.71 Z\" fill=\"#000000\" fill-rule=\"evenodd\" fill-opacity=\"1\" /><path clip-path=\"url(#clip630)\" d=\"M95.1586 1220.61 L111.478 1220.61 L111.478 1224.54 L89.5336 1224.54 L89.5336 1220.61 Q92.1956 1217.85 96.7789 1213.22 Q101.385 1208.57 102.566 1207.23 Q104.811 1204.7 105.691 1202.97 Q106.594 1201.21 106.594 1199.52 Q106.594 1196.76 104.649 1195.03 Q102.728 1193.29 99.6261 1193.29 Q97.4271 1193.29 94.9734 1194.05 Q92.5428 1194.82 89.7651 1196.37 L89.7651 1191.65 Q92.5891 1190.51 95.0428 1189.93 Q97.4965 1189.36 99.5335 1189.36 Q104.904 1189.36 108.098 1192.04 Q111.293 1194.73 111.293 1199.22 Q111.293 1201.35 110.483 1203.27 Q109.696 1205.17 107.589 1207.76 Q107.01 1208.43 103.909 1211.65 Q100.807 1214.84 95.1586 1220.61 Z\" fill=\"#000000\" fill-rule=\"evenodd\" fill-opacity=\"1\" /><path clip-path=\"url(#clip630)\" d=\"M50.9921 907.801 L80.6679 907.801 L80.6679 911.736 L50.9921 911.736 L50.9921 907.801 Z\" fill=\"#000000\" fill-rule=\"evenodd\" fill-opacity=\"1\" /><path clip-path=\"url(#clip630)\" d=\"M91.5706 920.694 L99.2095 920.694 L99.2095 894.329 L90.8993 895.995 L90.8993 891.736 L99.1632 890.069 L103.839 890.069 L103.839 920.694 L111.478 920.694 L111.478 924.629 L91.5706 924.629 L91.5706 920.694 Z\" fill=\"#000000\" fill-rule=\"evenodd\" fill-opacity=\"1\" /><path clip-path=\"url(#clip630)\" d=\"M99.5335 593.237 Q95.9224 593.237 94.0937 596.801 Q92.2882 600.343 92.2882 607.473 Q92.2882 614.579 94.0937 618.144 Q95.9224 621.686 99.5335 621.686 Q103.168 621.686 104.973 618.144 Q106.802 614.579 106.802 607.473 Q106.802 600.343 104.973 596.801 Q103.168 593.237 99.5335 593.237 M99.5335 589.533 Q105.344 589.533 108.399 594.139 Q111.478 598.723 111.478 607.473 Q111.478 616.2 108.399 620.806 Q105.344 625.389 99.5335 625.389 Q93.7234 625.389 90.6447 620.806 Q87.5892 616.2 87.5892 607.473 Q87.5892 598.723 90.6447 594.139 Q93.7234 589.533 99.5335 589.533 Z\" fill=\"#000000\" fill-rule=\"evenodd\" fill-opacity=\"1\" /><path clip-path=\"url(#clip630)\" d=\"M91.5706 320.871 L99.2095 320.871 L99.2095 294.506 L90.8993 296.173 L90.8993 291.913 L99.1632 290.247 L103.839 290.247 L103.839 320.871 L111.478 320.871 L111.478 324.807 L91.5706 324.807 L91.5706 320.871 Z\" fill=\"#000000\" fill-rule=\"evenodd\" fill-opacity=\"1\" /><polyline clip-path=\"url(#clip632)\" style=\"stroke:#009af9; stroke-linecap:butt; stroke-linejoin:round; stroke-width:8; stroke-opacity:0.7; fill:none\" points=\"\n  209.891,473.314 230.209,464.438 418.072,399.614 530.969,368.989 626.423,345.879 730.112,322.894 825.705,303.239 928.19,283.488 1046.93,262.014 1152.45,243.994 \n  1244.98,228.897 1345.87,213.095 1447.35,197.814 1559.56,181.557 1666.32,166.645 1777.32,151.657 1870.77,139.412 1984.85,124.884 2092.09,111.614 2263.9,91.0664 \n  2290.34,87.9763 \n  \"/>\n<polyline clip-path=\"url(#clip632)\" style=\"stroke:#e26f46; stroke-linecap:butt; stroke-linejoin:round; stroke-width:8; stroke-opacity:0.7; fill:none\" stroke-dasharray=\"32, 16, 4, 16\" points=\"\n  209.891,272.127 214.971,277.715 220.05,283.032 225.129,288.1 230.209,292.938 253.692,312.754 277.174,329.243 300.657,343.241 324.14,355.318 347.623,365.878 \n  371.106,375.213 394.589,383.543 418.072,391.037 446.296,399.12 474.52,406.36 502.745,412.894 530.969,418.83 578.696,427.739 626.423,435.494 730.112,449.384 \n  825.705,459.596 928.19,468.61 1046.93,477.24 1152.45,483.696 1244.98,488.631 1345.87,493.391 1447.35,497.646 1559.56,501.837 1666.32,505.41 1777.32,508.765 \n  1870.77,511.346 1984.85,514.239 2092.09,516.734 2263.9,520.343 2290.34,520.861 \n  \"/>\n<polyline clip-path=\"url(#clip632)\" style=\"stroke:#3da44d; stroke-linecap:butt; stroke-linejoin:round; stroke-width:8; stroke-opacity:0.7; fill:none\" stroke-dasharray=\"32, 20\" points=\"\n  209.891,1445.72 212.431,1424.68 214.971,1404.5 217.51,1385.15 220.05,1366.56 222.59,1348.7 225.129,1331.53 227.669,1315.02 230.209,1299.12 241.95,1232.8 \n  253.692,1176.44 265.433,1128.06 277.174,1086.17 288.916,1049.61 300.657,1017.48 312.399,989.06 324.14,963.778 347.623,920.853 371.106,885.904 394.589,856.999 \n  418.072,832.771 446.296,808.452 474.52,788.214 502.745,771.157 530.969,756.624 578.696,736.465 626.423,720.471 730.112,695.232 825.705,679.29 928.19,666.933 \n  1046.93,656.512 1152.45,649.569 1244.98,644.726 1345.87,640.421 1447.35,636.866 1559.56,633.623 1666.32,631.054 1777.32,628.8 1870.77,627.167 1984.85,625.438 \n  2092.09,624.031 2263.9,622.128 2290.34,621.867 \n  \"/>\n<path clip-path=\"url(#clip630)\" d=\"\nM1617.35 1438.47 L2279.25 1438.47 L2279.25 1231.11 L1617.35 1231.11  Z\n  \" fill=\"#ffffff\" fill-rule=\"evenodd\" fill-opacity=\"1\"/>\n<polyline clip-path=\"url(#clip630)\" style=\"stroke:#000000; stroke-linecap:butt; stroke-linejoin:round; stroke-width:4; stroke-opacity:1; fill:none\" points=\"\n  1617.35,1438.47 2279.25,1438.47 2279.25,1231.11 1617.35,1231.11 1617.35,1438.47 \n  \"/>\n<polyline clip-path=\"url(#clip630)\" style=\"stroke:#009af9; stroke-linecap:butt; stroke-linejoin:round; stroke-width:4; stroke-opacity:0.7; fill:none\" points=\"\n  1641.35,1282.95 1785.35,1282.95 \n  \"/>\n<path clip-path=\"url(#clip630)\" d=\"M1825.86 1264.22 L1825.86 1267.76 L1821.78 1267.76 Q1819.49 1267.76 1818.59 1268.68 Q1817.71 1269.61 1817.71 1272.02 L1817.71 1274.31 L1824.72 1274.31 L1824.72 1277.62 L1817.71 1277.62 L1817.71 1300.23 L1813.42 1300.23 L1813.42 1277.62 L1809.35 1277.62 L1809.35 1274.31 L1813.42 1274.31 L1813.42 1272.5 Q1813.42 1268.17 1815.44 1266.21 Q1817.45 1264.22 1821.83 1264.22 L1825.86 1264.22 Z\" fill=\"#000000\" fill-rule=\"evenodd\" fill-opacity=\"1\" /><path clip-path=\"url(#clip630)\" d=\"M1839.65 1264.26 Q1836.55 1269.59 1835.05 1274.79 Q1833.54 1280 1833.54 1285.35 Q1833.54 1290.7 1835.05 1295.95 Q1836.57 1301.18 1839.65 1306.48 L1835.95 1306.48 Q1832.48 1301.04 1830.74 1295.79 Q1829.03 1290.54 1829.03 1285.35 Q1829.03 1280.19 1830.74 1274.96 Q1832.45 1269.73 1835.95 1264.26 L1839.65 1264.26 Z\" fill=\"#000000\" fill-rule=\"evenodd\" fill-opacity=\"1\" /><path clip-path=\"url(#clip630)\" d=\"M1869.47 1274.31 L1860.09 1286.92 L1869.95 1300.23 L1864.93 1300.23 L1857.38 1290.05 L1849.84 1300.23 L1844.81 1300.23 L1854.88 1286.67 L1845.67 1274.31 L1850.69 1274.31 L1857.57 1283.54 L1864.44 1274.31 L1869.47 1274.31 Z\" fill=\"#000000\" fill-rule=\"evenodd\" fill-opacity=\"1\" /><path clip-path=\"url(#clip630)\" d=\"M1875.3 1264.26 L1879 1264.26 Q1882.48 1269.73 1884.19 1274.96 Q1885.92 1280.19 1885.92 1285.35 Q1885.92 1290.54 1884.19 1295.79 Q1882.48 1301.04 1879 1306.48 L1875.3 1306.48 Q1878.38 1301.18 1879.88 1295.95 Q1881.41 1290.7 1881.41 1285.35 Q1881.41 1280 1879.88 1274.79 Q1878.38 1269.59 1875.3 1264.26 Z\" fill=\"#000000\" fill-rule=\"evenodd\" fill-opacity=\"1\" /><polyline clip-path=\"url(#clip630)\" style=\"stroke:#e26f46; stroke-linecap:butt; stroke-linejoin:round; stroke-width:4; stroke-opacity:0.7; fill:none\" stroke-dasharray=\"16, 8, 2, 8\" points=\"\n  1641.35,1334.79 1785.35,1334.79 \n  \"/>\n<path clip-path=\"url(#clip630)\" d=\"M1809.35 1317.51 L1829.21 1317.51 L1829.21 1321.45 L1814.03 1321.45 L1814.03 1331.63 L1827.73 1331.63 L1827.73 1335.57 L1814.03 1335.57 L1814.03 1352.07 L1809.35 1352.07 L1809.35 1317.51 Z\" fill=\"#000000\" fill-rule=\"evenodd\" fill-opacity=\"1\" /><path clip-path=\"url(#clip630)\" d=\"M1832.98 1326.15 L1837.24 1326.15 L1837.24 1352.07 L1832.98 1352.07 L1832.98 1326.15 M1832.98 1316.06 L1837.24 1316.06 L1837.24 1321.45 L1832.98 1321.45 L1832.98 1316.06 Z\" fill=\"#000000\" fill-rule=\"evenodd\" fill-opacity=\"1\" /><path clip-path=\"url(#clip630)\" d=\"M1861.18 1330.13 Q1860.46 1329.71 1859.61 1329.53 Q1858.77 1329.32 1857.75 1329.32 Q1854.14 1329.32 1852.2 1331.68 Q1850.28 1334.02 1850.28 1338.42 L1850.28 1352.07 L1845.99 1352.07 L1845.99 1326.15 L1850.28 1326.15 L1850.28 1330.18 Q1851.62 1327.82 1853.77 1326.68 Q1855.92 1325.52 1859 1325.52 Q1859.44 1325.52 1859.98 1325.59 Q1860.51 1325.64 1861.16 1325.76 L1861.18 1330.13 Z\" fill=\"#000000\" fill-rule=\"evenodd\" fill-opacity=\"1\" /><path clip-path=\"url(#clip630)\" d=\"M1882.17 1326.91 L1882.17 1330.94 Q1880.37 1330.01 1878.42 1329.55 Q1876.48 1329.09 1874.4 1329.09 Q1871.23 1329.09 1869.63 1330.06 Q1868.05 1331.03 1868.05 1332.98 Q1868.05 1334.46 1869.19 1335.32 Q1870.32 1336.15 1873.75 1336.91 L1875.21 1337.24 Q1879.74 1338.21 1881.64 1339.99 Q1883.56 1341.75 1883.56 1344.92 Q1883.56 1348.53 1880.69 1350.64 Q1877.85 1352.75 1872.85 1352.75 Q1870.76 1352.75 1868.49 1352.33 Q1866.25 1351.94 1863.75 1351.13 L1863.75 1346.73 Q1866.11 1347.95 1868.4 1348.58 Q1870.69 1349.18 1872.94 1349.18 Q1875.95 1349.18 1877.57 1348.16 Q1879.19 1347.12 1879.19 1345.25 Q1879.19 1343.51 1878.01 1342.58 Q1876.85 1341.66 1872.89 1340.8 L1871.41 1340.45 Q1867.45 1339.62 1865.69 1337.91 Q1863.93 1336.17 1863.93 1333.16 Q1863.93 1329.51 1866.53 1327.51 Q1869.12 1325.52 1873.89 1325.52 Q1876.25 1325.52 1878.33 1325.87 Q1880.42 1326.22 1882.17 1326.91 Z\" fill=\"#000000\" fill-rule=\"evenodd\" fill-opacity=\"1\" /><path clip-path=\"url(#clip630)\" d=\"M1894.56 1318.79 L1894.56 1326.15 L1903.33 1326.15 L1903.33 1329.46 L1894.56 1329.46 L1894.56 1343.53 Q1894.56 1346.7 1895.42 1347.61 Q1896.29 1348.51 1898.96 1348.51 L1903.33 1348.51 L1903.33 1352.07 L1898.96 1352.07 Q1894.03 1352.07 1892.15 1350.25 Q1890.28 1348.39 1890.28 1343.53 L1890.28 1329.46 L1887.15 1329.46 L1887.15 1326.15 L1890.28 1326.15 L1890.28 1318.79 L1894.56 1318.79 Z\" fill=\"#000000\" fill-rule=\"evenodd\" fill-opacity=\"1\" /><path clip-path=\"url(#clip630)\" d=\"M1941.06 1330.08 L1941.06 1316.06 L1945.32 1316.06 L1945.32 1352.07 L1941.06 1352.07 L1941.06 1348.19 Q1939.72 1350.5 1937.66 1351.63 Q1935.62 1352.75 1932.75 1352.75 Q1928.05 1352.75 1925.09 1349 Q1922.15 1345.25 1922.15 1339.13 Q1922.15 1333.02 1925.09 1329.27 Q1928.05 1325.52 1932.75 1325.52 Q1935.62 1325.52 1937.66 1326.66 Q1939.72 1327.77 1941.06 1330.08 M1926.55 1339.13 Q1926.55 1343.83 1928.47 1346.52 Q1930.41 1349.18 1933.79 1349.18 Q1937.17 1349.18 1939.12 1346.52 Q1941.06 1343.83 1941.06 1339.13 Q1941.06 1334.44 1939.12 1331.77 Q1937.17 1329.09 1933.79 1329.09 Q1930.41 1329.09 1928.47 1331.77 Q1926.55 1334.44 1926.55 1339.13 Z\" fill=\"#000000\" fill-rule=\"evenodd\" fill-opacity=\"1\" /><path clip-path=\"url(#clip630)\" d=\"M1976.27 1338.05 L1976.27 1340.13 L1956.69 1340.13 Q1956.97 1344.53 1959.33 1346.84 Q1961.71 1349.13 1965.95 1349.13 Q1968.4 1349.13 1970.69 1348.53 Q1973.01 1347.93 1975.28 1346.73 L1975.28 1350.75 Q1972.98 1351.73 1970.58 1352.24 Q1968.17 1352.75 1965.69 1352.75 Q1959.49 1352.75 1955.85 1349.13 Q1952.24 1345.52 1952.24 1339.37 Q1952.24 1333 1955.67 1329.27 Q1959.12 1325.52 1964.95 1325.52 Q1970.18 1325.52 1973.22 1328.9 Q1976.27 1332.26 1976.27 1338.05 M1972.01 1336.8 Q1971.97 1333.3 1970.04 1331.22 Q1968.15 1329.13 1965 1329.13 Q1961.43 1329.13 1959.28 1331.15 Q1957.15 1333.16 1956.83 1336.82 L1972.01 1336.8 Z\" fill=\"#000000\" fill-rule=\"evenodd\" fill-opacity=\"1\" /><path clip-path=\"url(#clip630)\" d=\"M1998.28 1330.13 Q1997.57 1329.71 1996.71 1329.53 Q1995.88 1329.32 1994.86 1329.32 Q1991.25 1329.32 1989.3 1331.68 Q1987.38 1334.02 1987.38 1338.42 L1987.38 1352.07 L1983.1 1352.07 L1983.1 1326.15 L1987.38 1326.15 L1987.38 1330.18 Q1988.72 1327.82 1990.88 1326.68 Q1993.03 1325.52 1996.11 1325.52 Q1996.55 1325.52 1997.08 1325.59 Q1997.61 1325.64 1998.26 1325.76 L1998.28 1330.13 Z\" fill=\"#000000\" fill-rule=\"evenodd\" fill-opacity=\"1\" /><path clip-path=\"url(#clip630)\" d=\"M2002.75 1326.15 L2007.01 1326.15 L2007.01 1352.07 L2002.75 1352.07 L2002.75 1326.15 M2002.75 1316.06 L2007.01 1316.06 L2007.01 1321.45 L2002.75 1321.45 L2002.75 1316.06 Z\" fill=\"#000000\" fill-rule=\"evenodd\" fill-opacity=\"1\" /><path clip-path=\"url(#clip630)\" d=\"M2012.87 1326.15 L2017.38 1326.15 L2025.48 1347.91 L2033.59 1326.15 L2038.1 1326.15 L2028.38 1352.07 L2022.59 1352.07 L2012.87 1326.15 Z\" fill=\"#000000\" fill-rule=\"evenodd\" fill-opacity=\"1\" /><path clip-path=\"url(#clip630)\" d=\"M2055.76 1339.04 Q2050.6 1339.04 2048.61 1340.22 Q2046.62 1341.4 2046.62 1344.25 Q2046.62 1346.52 2048.1 1347.86 Q2049.6 1349.18 2052.17 1349.18 Q2055.72 1349.18 2057.84 1346.68 Q2060 1344.16 2060 1339.99 L2060 1339.04 L2055.76 1339.04 M2064.26 1337.28 L2064.26 1352.07 L2060 1352.07 L2060 1348.14 Q2058.54 1350.5 2056.36 1351.63 Q2054.19 1352.75 2051.04 1352.75 Q2047.06 1352.75 2044.7 1350.52 Q2042.36 1348.28 2042.36 1344.53 Q2042.36 1340.15 2045.28 1337.93 Q2048.22 1335.71 2054.03 1335.71 L2060 1335.71 L2060 1335.29 Q2060 1332.35 2058.05 1330.76 Q2056.13 1329.13 2052.64 1329.13 Q2050.41 1329.13 2048.31 1329.67 Q2046.2 1330.2 2044.26 1331.26 L2044.26 1327.33 Q2046.59 1326.43 2048.79 1325.99 Q2050.99 1325.52 2053.08 1325.52 Q2058.7 1325.52 2061.48 1328.44 Q2064.26 1331.36 2064.26 1337.28 Z\" fill=\"#000000\" fill-rule=\"evenodd\" fill-opacity=\"1\" /><path clip-path=\"url(#clip630)\" d=\"M2077.24 1318.79 L2077.24 1326.15 L2086.02 1326.15 L2086.02 1329.46 L2077.24 1329.46 L2077.24 1343.53 Q2077.24 1346.7 2078.1 1347.61 Q2078.98 1348.51 2081.64 1348.51 L2086.02 1348.51 L2086.02 1352.07 L2081.64 1352.07 Q2076.71 1352.07 2074.84 1350.25 Q2072.96 1348.39 2072.96 1343.53 L2072.96 1329.46 L2069.84 1329.46 L2069.84 1326.15 L2072.96 1326.15 L2072.96 1318.79 L2077.24 1318.79 Z\" fill=\"#000000\" fill-rule=\"evenodd\" fill-opacity=\"1\" /><path clip-path=\"url(#clip630)\" d=\"M2091.62 1326.15 L2095.88 1326.15 L2095.88 1352.07 L2091.62 1352.07 L2091.62 1326.15 M2091.62 1316.06 L2095.88 1316.06 L2095.88 1321.45 L2091.62 1321.45 L2091.62 1316.06 Z\" fill=\"#000000\" fill-rule=\"evenodd\" fill-opacity=\"1\" /><path clip-path=\"url(#clip630)\" d=\"M2101.73 1326.15 L2106.25 1326.15 L2114.35 1347.91 L2122.45 1326.15 L2126.96 1326.15 L2117.24 1352.07 L2111.46 1352.07 L2101.73 1326.15 Z\" fill=\"#000000\" fill-rule=\"evenodd\" fill-opacity=\"1\" /><path clip-path=\"url(#clip630)\" d=\"M2155.02 1338.05 L2155.02 1340.13 L2135.44 1340.13 Q2135.71 1344.53 2138.08 1346.84 Q2140.46 1349.13 2144.7 1349.13 Q2147.15 1349.13 2149.44 1348.53 Q2151.76 1347.93 2154.02 1346.73 L2154.02 1350.75 Q2151.73 1351.73 2149.33 1352.24 Q2146.92 1352.75 2144.44 1352.75 Q2138.24 1352.75 2134.6 1349.13 Q2130.99 1345.52 2130.99 1339.37 Q2130.99 1333 2134.42 1329.27 Q2137.87 1325.52 2143.7 1325.52 Q2148.93 1325.52 2151.96 1328.9 Q2155.02 1332.26 2155.02 1338.05 M2150.76 1336.8 Q2150.71 1333.3 2148.79 1331.22 Q2146.9 1329.13 2143.75 1329.13 Q2140.18 1329.13 2138.03 1331.15 Q2135.9 1333.16 2135.58 1336.82 L2150.76 1336.8 Z\" fill=\"#000000\" fill-rule=\"evenodd\" fill-opacity=\"1\" /><polyline clip-path=\"url(#clip630)\" style=\"stroke:#3da44d; stroke-linecap:butt; stroke-linejoin:round; stroke-width:4; stroke-opacity:0.7; fill:none\" stroke-dasharray=\"16, 10\" points=\"\n  1641.35,1386.63 1785.35,1386.63 \n  \"/>\n<path clip-path=\"url(#clip630)\" d=\"M1831.6 1370.49 L1831.6 1375.05 Q1828.93 1373.78 1826.57 1373.15 Q1824.21 1372.53 1822.01 1372.53 Q1818.19 1372.53 1816.11 1374.01 Q1814.05 1375.49 1814.05 1378.22 Q1814.05 1380.51 1815.42 1381.69 Q1816.8 1382.85 1820.65 1383.57 L1823.47 1384.15 Q1828.7 1385.14 1831.18 1387.66 Q1833.68 1390.16 1833.68 1394.38 Q1833.68 1399.4 1830.3 1401.99 Q1826.94 1404.59 1820.44 1404.59 Q1817.98 1404.59 1815.21 1404.03 Q1812.45 1403.47 1809.49 1402.39 L1809.49 1397.57 Q1812.34 1399.17 1815.07 1399.98 Q1817.8 1400.79 1820.44 1400.79 Q1824.44 1400.79 1826.62 1399.22 Q1828.8 1397.64 1828.8 1394.72 Q1828.8 1392.18 1827.22 1390.74 Q1825.67 1389.31 1822.11 1388.59 L1819.26 1388.03 Q1814.03 1386.99 1811.69 1384.77 Q1809.35 1382.55 1809.35 1378.59 Q1809.35 1374.01 1812.57 1371.37 Q1815.81 1368.73 1821.48 1368.73 Q1823.91 1368.73 1826.43 1369.17 Q1828.96 1369.61 1831.6 1370.49 Z\" fill=\"#000000\" fill-rule=\"evenodd\" fill-opacity=\"1\" /><path clip-path=\"url(#clip630)\" d=\"M1862.96 1389.89 L1862.96 1391.97 L1843.38 1391.97 Q1843.66 1396.37 1846.02 1398.68 Q1848.4 1400.97 1852.64 1400.97 Q1855.09 1400.97 1857.38 1400.37 Q1859.7 1399.77 1861.97 1398.57 L1861.97 1402.59 Q1859.67 1403.57 1857.27 1404.08 Q1854.86 1404.59 1852.38 1404.59 Q1846.18 1404.59 1842.55 1400.97 Q1838.93 1397.36 1838.93 1391.21 Q1838.93 1384.84 1842.36 1381.11 Q1845.81 1377.36 1851.64 1377.36 Q1856.87 1377.36 1859.91 1380.74 Q1862.96 1384.1 1862.96 1389.89 M1858.7 1388.64 Q1858.66 1385.14 1856.73 1383.06 Q1854.84 1380.97 1851.69 1380.97 Q1848.12 1380.97 1845.97 1382.99 Q1843.84 1385 1843.52 1388.66 L1858.7 1388.64 Z\" fill=\"#000000\" fill-rule=\"evenodd\" fill-opacity=\"1\" /><path clip-path=\"url(#clip630)\" d=\"M1888.61 1378.98 L1888.61 1382.97 Q1886.8 1381.97 1884.98 1381.48 Q1883.17 1380.97 1881.32 1380.97 Q1877.17 1380.97 1874.88 1383.61 Q1872.59 1386.23 1872.59 1390.97 Q1872.59 1395.72 1874.88 1398.36 Q1877.17 1400.97 1881.32 1400.97 Q1883.17 1400.97 1884.98 1400.49 Q1886.8 1399.98 1888.61 1398.98 L1888.61 1402.92 Q1886.83 1403.75 1884.91 1404.17 Q1883.01 1404.59 1880.85 1404.59 Q1875 1404.59 1871.55 1400.91 Q1868.1 1397.22 1868.1 1390.97 Q1868.1 1384.63 1871.57 1381 Q1875.07 1377.36 1881.13 1377.36 Q1883.1 1377.36 1884.98 1377.78 Q1886.85 1378.17 1888.61 1378.98 Z\" fill=\"#000000\" fill-rule=\"evenodd\" fill-opacity=\"1\" /><path clip-path=\"url(#clip630)\" d=\"M1906.06 1380.97 Q1902.64 1380.97 1900.65 1383.66 Q1898.66 1386.32 1898.66 1390.97 Q1898.66 1395.63 1900.62 1398.31 Q1902.61 1400.97 1906.06 1400.97 Q1909.47 1400.97 1911.46 1398.29 Q1913.45 1395.6 1913.45 1390.97 Q1913.45 1386.37 1911.46 1383.68 Q1909.47 1380.97 1906.06 1380.97 M1906.06 1377.36 Q1911.62 1377.36 1914.79 1380.97 Q1917.96 1384.59 1917.96 1390.97 Q1917.96 1397.34 1914.79 1400.97 Q1911.62 1404.59 1906.06 1404.59 Q1900.48 1404.59 1897.31 1400.97 Q1894.17 1397.34 1894.17 1390.97 Q1894.17 1384.59 1897.31 1380.97 Q1900.48 1377.36 1906.06 1377.36 Z\" fill=\"#000000\" fill-rule=\"evenodd\" fill-opacity=\"1\" /><path clip-path=\"url(#clip630)\" d=\"M1946.57 1388.27 L1946.57 1403.91 L1942.31 1403.91 L1942.31 1388.41 Q1942.31 1384.72 1940.88 1382.9 Q1939.44 1381.07 1936.57 1381.07 Q1933.12 1381.07 1931.13 1383.27 Q1929.14 1385.47 1929.14 1389.26 L1929.14 1403.91 L1924.86 1403.91 L1924.86 1377.99 L1929.14 1377.99 L1929.14 1382.02 Q1930.67 1379.68 1932.73 1378.52 Q1934.81 1377.36 1937.52 1377.36 Q1941.99 1377.36 1944.28 1380.14 Q1946.57 1382.9 1946.57 1388.27 Z\" fill=\"#000000\" fill-rule=\"evenodd\" fill-opacity=\"1\" /><path clip-path=\"url(#clip630)\" d=\"M1972.13 1381.92 L1972.13 1367.9 L1976.39 1367.9 L1976.39 1403.91 L1972.13 1403.91 L1972.13 1400.03 Q1970.79 1402.34 1968.72 1403.47 Q1966.69 1404.59 1963.82 1404.59 Q1959.12 1404.59 1956.16 1400.84 Q1953.22 1397.09 1953.22 1390.97 Q1953.22 1384.86 1956.16 1381.11 Q1959.12 1377.36 1963.82 1377.36 Q1966.69 1377.36 1968.72 1378.5 Q1970.79 1379.61 1972.13 1381.92 M1957.61 1390.97 Q1957.61 1395.67 1959.54 1398.36 Q1961.48 1401.02 1964.86 1401.02 Q1968.24 1401.02 1970.18 1398.36 Q1972.13 1395.67 1972.13 1390.97 Q1972.13 1386.28 1970.18 1383.61 Q1968.24 1380.93 1964.86 1380.93 Q1961.48 1380.93 1959.54 1383.61 Q1957.61 1386.28 1957.61 1390.97 Z\" fill=\"#000000\" fill-rule=\"evenodd\" fill-opacity=\"1\" /><path clip-path=\"url(#clip630)\" d=\"M2017.29 1381.92 L2017.29 1367.9 L2021.55 1367.9 L2021.55 1403.91 L2017.29 1403.91 L2017.29 1400.03 Q2015.95 1402.34 2013.89 1403.47 Q2011.85 1404.59 2008.98 1404.59 Q2004.28 1404.59 2001.32 1400.84 Q1998.38 1397.09 1998.38 1390.97 Q1998.38 1384.86 2001.32 1381.11 Q2004.28 1377.36 2008.98 1377.36 Q2011.85 1377.36 2013.89 1378.5 Q2015.95 1379.61 2017.29 1381.92 M2002.78 1390.97 Q2002.78 1395.67 2004.7 1398.36 Q2006.64 1401.02 2010.02 1401.02 Q2013.4 1401.02 2015.35 1398.36 Q2017.29 1395.67 2017.29 1390.97 Q2017.29 1386.28 2015.35 1383.61 Q2013.4 1380.93 2010.02 1380.93 Q2006.64 1380.93 2004.7 1383.61 Q2002.78 1386.28 2002.78 1390.97 Z\" fill=\"#000000\" fill-rule=\"evenodd\" fill-opacity=\"1\" /><path clip-path=\"url(#clip630)\" d=\"M2052.5 1389.89 L2052.5 1391.97 L2032.91 1391.97 Q2033.19 1396.37 2035.55 1398.68 Q2037.94 1400.97 2042.17 1400.97 Q2044.63 1400.97 2046.92 1400.37 Q2049.23 1399.77 2051.5 1398.57 L2051.5 1402.59 Q2049.21 1403.57 2046.8 1404.08 Q2044.4 1404.59 2041.92 1404.59 Q2035.72 1404.59 2032.08 1400.97 Q2028.47 1397.36 2028.47 1391.21 Q2028.47 1384.84 2031.9 1381.11 Q2035.34 1377.36 2041.18 1377.36 Q2046.41 1377.36 2049.44 1380.74 Q2052.5 1384.1 2052.5 1389.89 M2048.24 1388.64 Q2048.19 1385.14 2046.27 1383.06 Q2044.37 1380.97 2041.22 1380.97 Q2037.66 1380.97 2035.51 1382.99 Q2033.38 1385 2033.05 1388.66 L2048.24 1388.64 Z\" fill=\"#000000\" fill-rule=\"evenodd\" fill-opacity=\"1\" /><path clip-path=\"url(#clip630)\" d=\"M2074.51 1381.97 Q2073.79 1381.55 2072.94 1381.37 Q2072.1 1381.16 2071.09 1381.16 Q2067.47 1381.16 2065.53 1383.52 Q2063.61 1385.86 2063.61 1390.26 L2063.61 1403.91 L2059.33 1403.91 L2059.33 1377.99 L2063.61 1377.99 L2063.61 1382.02 Q2064.95 1379.66 2067.1 1378.52 Q2069.26 1377.36 2072.34 1377.36 Q2072.78 1377.36 2073.31 1377.43 Q2073.84 1377.48 2074.49 1377.6 L2074.51 1381.97 Z\" fill=\"#000000\" fill-rule=\"evenodd\" fill-opacity=\"1\" /><path clip-path=\"url(#clip630)\" d=\"M2078.98 1377.99 L2083.24 1377.99 L2083.24 1403.91 L2078.98 1403.91 L2078.98 1377.99 M2078.98 1367.9 L2083.24 1367.9 L2083.24 1373.29 L2078.98 1373.29 L2078.98 1367.9 Z\" fill=\"#000000\" fill-rule=\"evenodd\" fill-opacity=\"1\" /><path clip-path=\"url(#clip630)\" d=\"M2089.09 1377.99 L2093.61 1377.99 L2101.71 1399.75 L2109.81 1377.99 L2114.33 1377.99 L2104.6 1403.91 L2098.82 1403.91 L2089.09 1377.99 Z\" fill=\"#000000\" fill-rule=\"evenodd\" fill-opacity=\"1\" /><path clip-path=\"url(#clip630)\" d=\"M2131.99 1390.88 Q2126.83 1390.88 2124.84 1392.06 Q2122.84 1393.24 2122.84 1396.09 Q2122.84 1398.36 2124.33 1399.7 Q2125.83 1401.02 2128.4 1401.02 Q2131.94 1401.02 2134.07 1398.52 Q2136.22 1396 2136.22 1391.83 L2136.22 1390.88 L2131.99 1390.88 M2140.48 1389.12 L2140.48 1403.91 L2136.22 1403.91 L2136.22 1399.98 Q2134.77 1402.34 2132.59 1403.47 Q2130.41 1404.59 2127.27 1404.59 Q2123.28 1404.59 2120.92 1402.36 Q2118.59 1400.12 2118.59 1396.37 Q2118.59 1391.99 2121.5 1389.77 Q2124.44 1387.55 2130.25 1387.55 L2136.22 1387.55 L2136.22 1387.13 Q2136.22 1384.19 2134.28 1382.6 Q2132.36 1380.97 2128.86 1380.97 Q2126.64 1380.97 2124.53 1381.51 Q2122.43 1382.04 2120.48 1383.1 L2120.48 1379.17 Q2122.82 1378.27 2125.02 1377.83 Q2127.22 1377.36 2129.3 1377.36 Q2134.93 1377.36 2137.71 1380.28 Q2140.48 1383.2 2140.48 1389.12 Z\" fill=\"#000000\" fill-rule=\"evenodd\" fill-opacity=\"1\" /><path clip-path=\"url(#clip630)\" d=\"M2153.47 1370.63 L2153.47 1377.99 L2162.24 1377.99 L2162.24 1381.3 L2153.47 1381.3 L2153.47 1395.37 Q2153.47 1398.54 2154.33 1399.45 Q2155.21 1400.35 2157.87 1400.35 L2162.24 1400.35 L2162.24 1403.91 L2157.87 1403.91 Q2152.94 1403.91 2151.06 1402.09 Q2149.19 1400.23 2149.19 1395.37 L2149.19 1381.3 L2146.06 1381.3 L2146.06 1377.99 L2149.19 1377.99 L2149.19 1370.63 L2153.47 1370.63 Z\" fill=\"#000000\" fill-rule=\"evenodd\" fill-opacity=\"1\" /><path clip-path=\"url(#clip630)\" d=\"M2167.84 1377.99 L2172.1 1377.99 L2172.1 1403.91 L2167.84 1403.91 L2167.84 1377.99 M2167.84 1367.9 L2172.1 1367.9 L2172.1 1373.29 L2167.84 1373.29 L2167.84 1367.9 Z\" fill=\"#000000\" fill-rule=\"evenodd\" fill-opacity=\"1\" /><path clip-path=\"url(#clip630)\" d=\"M2177.96 1377.99 L2182.47 1377.99 L2190.58 1399.75 L2198.68 1377.99 L2203.19 1377.99 L2193.47 1403.91 L2187.68 1403.91 L2177.96 1377.99 Z\" fill=\"#000000\" fill-rule=\"evenodd\" fill-opacity=\"1\" /><path clip-path=\"url(#clip630)\" d=\"M2231.25 1389.89 L2231.25 1391.97 L2211.66 1391.97 Q2211.94 1396.37 2214.3 1398.68 Q2216.69 1400.97 2220.92 1400.97 Q2223.38 1400.97 2225.67 1400.37 Q2227.98 1399.77 2230.25 1398.57 L2230.25 1402.59 Q2227.96 1403.57 2225.55 1404.08 Q2223.14 1404.59 2220.67 1404.59 Q2214.46 1404.59 2210.83 1400.97 Q2207.22 1397.36 2207.22 1391.21 Q2207.22 1384.84 2210.64 1381.11 Q2214.09 1377.36 2219.93 1377.36 Q2225.16 1377.36 2228.19 1380.74 Q2231.25 1384.1 2231.25 1389.89 M2226.99 1388.64 Q2226.94 1385.14 2225.02 1383.06 Q2223.12 1380.97 2219.97 1380.97 Q2216.41 1380.97 2214.26 1382.99 Q2212.13 1385 2211.8 1388.66 L2226.99 1388.64 Z\" fill=\"#000000\" fill-rule=\"evenodd\" fill-opacity=\"1\" /></svg>\n"
     },
     "execution_count": 255,
     "metadata": {},
     "output_type": "execute_result"
    }
   ],
   "source": [
    "plot(Y, 0.2, 3, label = \"f(x)\", lw = 2, alpha = 0.7)\n",
    "plot!(diff_1, 0.2, 3, label = \"First derivative\", lw = 2, ls = :dashdot, alpha = 0.7)\n",
    "plot!(diff_2, 0.2, 3, label = \"Second derivative\", legend = :bottomright, lw = 2, ls = :dash, alpha = 0.7)"
   ]
  },
  {
   "cell_type": "markdown",
   "metadata": {},
   "source": [
    "We see that the first derivative is positive, which indicates that the slope of the function is always positive. In terms of the curvature though, the second derivative is always negative, which indicates that the slope of the function is positive but decreasing with an increase in labour. This means that the marginal return to labour is positive but decreasing with an increase in labour. "
   ]
  },
  {
   "cell_type": "markdown",
   "metadata": {},
   "source": [
    "## Conditions for local maxima"
   ]
  },
  {
   "cell_type": "markdown",
   "metadata": {},
   "source": [
    "Previously we looked at the definitions for global and local maxima. In this section we describe the necessary conditions for optimality with respect to derivatives. In the univariate case (with only one variable), which we have mostly looked at thus far, the first and second order necessary condition for a local maxima is the following,  \n",
    "\n",
    "1. **FONC:** $f'(x^*) =0$\n",
    "2. **SONC** $f''(x^*) \\leq 0$ (and $f''(x^*) \\geq 0$ for local minima)\n",
    "2. (**SOSC** $f''(x^*) < 0$ (and $f''(x^*) > 0$ for local minima))"
   ]
  },
  {
   "cell_type": "markdown",
   "metadata": {},
   "source": [
    "In the multivariate case these conditions are similar, but a bit different. We move to the multivariate setting next. "
   ]
  },
  {
   "cell_type": "markdown",
   "metadata": {},
   "source": [
    "## Functions of multiple variables"
   ]
  },
  {
   "cell_type": "markdown",
   "metadata": {},
   "source": [
    "Here we talk about how to deal with functions $f: \\mathbb{R}^{n} \\rightarrow \\mathbb{R}$. This means functions that take values in $\\mathbb{R}^n$ and return a value along the real line. An example of this would be, \n",
    "\n",
    "$$\n",
    "f(x, y) = x^{2} + y^{2}\n",
    "$$\n",
    "\n",
    "This is a function that takes in two inputs and returns one output. We will mostly be working with functions that have two inputs. In other words, those functions for which $n = 2$, so that we are operating initially in $\\mathbb{R}^2$. Before we continue, I am going to be using two helper functions, that will allow us to easily some 3D plots. Do not worry too much about the code in the `minmax()` and `mmplotter()` functions, they are a bit more difficult to understand fully on the first reading. You are, however, equipped with all the tools to understand what is happening. This will simply require a careful reading of the first tutorial to figure out. "
   ]
  },
  {
   "cell_type": "markdown",
   "metadata": {},
   "source": [
    "### Plotting in 3D"
   ]
  },
  {
   "cell_type": "code",
   "execution_count": 42,
   "metadata": {},
   "outputs": [],
   "source": [
    "function minmax()\n",
    "\t\n",
    "\tv = collect(range(-2, stop = 2, length = 30))  # values\n",
    "\tmini = [x^2 + y^2 for x in v, y in v]\n",
    "\tmaxi = -mini   # max is just negative min\n",
    "\tsaddle = [x^2 + y^3 for x in v, y in v]\n",
    "\t\n",
    "\treturn Dict(:x => v,:min => mini, :max => maxi, :saddle => saddle)\n",
    "end;"
   ]
  },
  {
   "cell_type": "code",
   "execution_count": 43,
   "metadata": {},
   "outputs": [],
   "source": [
    "function mmplotter(s::Symbol)\n",
    "\t\n",
    "    d = minmax()\n",
    "\n",
    "    surface(d[:x], d[:x], d[s], fillalpha = 0.7, legend = false, fillcolor =:viridis)\n",
    "end;"
   ]
  },
  {
   "cell_type": "code",
   "execution_count": 44,
   "metadata": {},
   "outputs": [],
   "source": [
    "function mmcontour(s::Symbol)\n",
    "\t\n",
    "    d = minmax()\n",
    "\n",
    "    contour(d[:x], d[:x], d[s], fillalpha = 0.5, legend = false, fill = true, fillcolor = :viridis, color = :black)\n",
    "end;"
   ]
  },
  {
   "cell_type": "markdown",
   "metadata": {},
   "source": [
    "We can plot a set of points $(x, y, f(x, y))$ using a surface plot. The following provides the plot for the function $f(x, y) = x^{2} + y^{2}$ that we mentioned earlier."
   ]
  },
  {
   "cell_type": "code",
   "execution_count": 45,
   "metadata": {},
   "outputs": [
    {
     "data": {
      "image/svg+xml": "<?xml version=\"1.0\" encoding=\"utf-8\"?>\n<svg xmlns=\"http://www.w3.org/2000/svg\" xmlns:xlink=\"http://www.w3.org/1999/xlink\" width=\"600\" height=\"400\" viewBox=\"0 0 2400 1600\">\n<defs>\n  <clipPath id=\"clip170\">\n    <rect x=\"0\" y=\"0\" width=\"2400\" height=\"1600\"/>\n  </clipPath>\n</defs>\n<path clip-path=\"url(#clip170)\" d=\"\nM0 1600 L2400 1600 L2400 0 L0 0  Z\n  \" fill=\"#ffffff\" fill-rule=\"evenodd\" fill-opacity=\"1\"/>\n<defs>\n  <clipPath id=\"clip171\">\n    <rect x=\"480\" y=\"0\" width=\"1681\" height=\"1600\"/>\n  </clipPath>\n</defs>\n<defs>\n  <clipPath id=\"clip172\">\n    <rect x=\"149\" y=\"47\" width=\"2205\" height=\"1440\"/>\n  </clipPath>\n</defs>\n<path clip-path=\"url(#clip172)\" d=\"\nM149.191 1401.43 L149.191 302.298 L955.752 47.2441 L2352.76 132.262 L2352.76 1231.39 L1546.2 1486.45 L149.191 1401.43  Z\n  \" fill=\"#ffffff\" fill-rule=\"evenodd\" fill-opacity=\"1\"/>\n<polyline clip-path=\"url(#clip172)\" style=\"stroke:#000000; stroke-linecap:butt; stroke-linejoin:round; stroke-width:2; stroke-opacity:0.1; fill:none\" points=\"\n  149.191,1401.43 955.752,1146.38 \n  \"/>\n<polyline clip-path=\"url(#clip172)\" style=\"stroke:#000000; stroke-linecap:butt; stroke-linejoin:round; stroke-width:2; stroke-opacity:0.1; fill:none\" points=\"\n  955.752,1146.38 955.752,47.2441 \n  \"/>\n<polyline clip-path=\"url(#clip172)\" style=\"stroke:#000000; stroke-linecap:butt; stroke-linejoin:round; stroke-width:2; stroke-opacity:0.1; fill:none\" points=\"\n  498.442,1422.68 1305,1167.63 \n  \"/>\n<polyline clip-path=\"url(#clip172)\" style=\"stroke:#000000; stroke-linecap:butt; stroke-linejoin:round; stroke-width:2; stroke-opacity:0.1; fill:none\" points=\"\n  1305,1167.63 1305,68.4986 \n  \"/>\n<polyline clip-path=\"url(#clip172)\" style=\"stroke:#000000; stroke-linecap:butt; stroke-linejoin:round; stroke-width:2; stroke-opacity:0.1; fill:none\" points=\"\n  847.693,1443.94 1654.25,1188.88 \n  \"/>\n<polyline clip-path=\"url(#clip172)\" style=\"stroke:#000000; stroke-linecap:butt; stroke-linejoin:round; stroke-width:2; stroke-opacity:0.1; fill:none\" points=\"\n  1654.25,1188.88 1654.25,89.7531 \n  \"/>\n<polyline clip-path=\"url(#clip172)\" style=\"stroke:#000000; stroke-linecap:butt; stroke-linejoin:round; stroke-width:2; stroke-opacity:0.1; fill:none\" points=\"\n  1196.94,1465.19 2003.5,1210.14 \n  \"/>\n<polyline clip-path=\"url(#clip172)\" style=\"stroke:#000000; stroke-linecap:butt; stroke-linejoin:round; stroke-width:2; stroke-opacity:0.1; fill:none\" points=\"\n  2003.5,1210.14 2003.5,111.008 \n  \"/>\n<polyline clip-path=\"url(#clip172)\" style=\"stroke:#000000; stroke-linecap:butt; stroke-linejoin:round; stroke-width:2; stroke-opacity:0.1; fill:none\" points=\"\n  1546.2,1486.45 2352.76,1231.39 \n  \"/>\n<polyline clip-path=\"url(#clip172)\" style=\"stroke:#000000; stroke-linecap:butt; stroke-linejoin:round; stroke-width:2; stroke-opacity:0.1; fill:none\" points=\"\n  2352.76,1231.39 2352.76,132.262 \n  \"/>\n<polyline clip-path=\"url(#clip170)\" style=\"stroke:#000000; stroke-linecap:butt; stroke-linejoin:round; stroke-width:4; stroke-opacity:1; fill:none\" points=\"\n  149.191,1401.43 1546.2,1486.45 \n  \"/>\n<polyline clip-path=\"url(#clip170)\" style=\"stroke:#000000; stroke-linecap:butt; stroke-linejoin:round; stroke-width:4; stroke-opacity:1; fill:none\" points=\"\n  149.191,1401.43 158.87,1398.37 \n  \"/>\n<polyline clip-path=\"url(#clip170)\" style=\"stroke:#000000; stroke-linecap:butt; stroke-linejoin:round; stroke-width:4; stroke-opacity:1; fill:none\" points=\"\n  498.442,1422.68 508.121,1419.62 \n  \"/>\n<polyline clip-path=\"url(#clip170)\" style=\"stroke:#000000; stroke-linecap:butt; stroke-linejoin:round; stroke-width:4; stroke-opacity:1; fill:none\" points=\"\n  847.693,1443.94 857.372,1440.88 \n  \"/>\n<polyline clip-path=\"url(#clip170)\" style=\"stroke:#000000; stroke-linecap:butt; stroke-linejoin:round; stroke-width:4; stroke-opacity:1; fill:none\" points=\"\n  1196.94,1465.19 1206.62,1462.13 \n  \"/>\n<polyline clip-path=\"url(#clip170)\" style=\"stroke:#000000; stroke-linecap:butt; stroke-linejoin:round; stroke-width:4; stroke-opacity:1; fill:none\" points=\"\n  1546.2,1486.45 1555.87,1483.39 \n  \"/>\n<path clip-path=\"url(#clip170)\" d=\"M87.326 1430.63 L117.002 1430.63 L117.002 1434.56 L87.326 1434.56 L87.326 1430.63 Z\" fill=\"#000000\" fill-rule=\"evenodd\" fill-opacity=\"1\" /><path clip-path=\"url(#clip170)\" d=\"M131.122 1443.52 L147.441 1443.52 L147.441 1447.46 L125.497 1447.46 L125.497 1443.52 Q128.159 1440.77 132.742 1436.14 Q137.349 1431.48 138.529 1430.14 Q140.775 1427.62 141.654 1425.88 Q142.557 1424.12 142.557 1422.43 Q142.557 1419.68 140.613 1417.94 Q138.691 1416.21 135.59 1416.21 Q133.391 1416.21 130.937 1416.97 Q128.506 1417.73 125.729 1419.29 L125.729 1414.56 Q128.553 1413.43 131.006 1412.85 Q133.46 1412.27 135.497 1412.27 Q140.867 1412.27 144.062 1414.96 Q147.256 1417.64 147.256 1422.13 Q147.256 1424.26 146.446 1426.18 Q145.659 1428.08 143.553 1430.67 Q142.974 1431.35 139.872 1434.56 Q136.77 1437.76 131.122 1443.52 Z\" fill=\"#000000\" fill-rule=\"evenodd\" fill-opacity=\"1\" /><path clip-path=\"url(#clip170)\" d=\"M436.207 1451.88 L465.882 1451.88 L465.882 1455.82 L436.207 1455.82 L436.207 1451.88 Z\" fill=\"#000000\" fill-rule=\"evenodd\" fill-opacity=\"1\" /><path clip-path=\"url(#clip170)\" d=\"M476.785 1464.78 L484.424 1464.78 L484.424 1438.41 L476.114 1440.08 L476.114 1435.82 L484.378 1434.15 L489.054 1434.15 L489.054 1464.78 L496.692 1464.78 L496.692 1468.71 L476.785 1468.71 L476.785 1464.78 Z\" fill=\"#000000\" fill-rule=\"evenodd\" fill-opacity=\"1\" /><path clip-path=\"url(#clip170)\" d=\"M833.999 1458.48 Q830.388 1458.48 828.559 1462.05 Q826.754 1465.59 826.754 1472.72 Q826.754 1479.83 828.559 1483.39 Q830.388 1486.93 833.999 1486.93 Q837.633 1486.93 839.439 1483.39 Q841.268 1479.83 841.268 1472.72 Q841.268 1465.59 839.439 1462.05 Q837.633 1458.48 833.999 1458.48 M833.999 1454.78 Q839.809 1454.78 842.865 1459.39 Q845.944 1463.97 845.944 1472.72 Q845.944 1481.45 842.865 1486.05 Q839.809 1490.64 833.999 1490.64 Q828.189 1490.64 825.11 1486.05 Q822.055 1481.45 822.055 1472.72 Q822.055 1463.97 825.11 1459.39 Q828.189 1454.78 833.999 1454.78 Z\" fill=\"#000000\" fill-rule=\"evenodd\" fill-opacity=\"1\" /><path clip-path=\"url(#clip170)\" d=\"M1175.29 1507.28 L1182.93 1507.28 L1182.93 1480.92 L1174.62 1482.59 L1174.62 1478.33 L1182.88 1476.66 L1187.56 1476.66 L1187.56 1507.28 L1195.19 1507.28 L1195.19 1511.22 L1175.29 1511.22 L1175.29 1507.28 Z\" fill=\"#000000\" fill-rule=\"evenodd\" fill-opacity=\"1\" /><path clip-path=\"url(#clip170)\" d=\"M1528.13 1528.54 L1544.45 1528.54 L1544.45 1532.47 L1522.5 1532.47 L1522.5 1528.54 Q1525.16 1525.78 1529.75 1521.16 Q1534.35 1516.5 1535.53 1515.16 Q1537.78 1512.64 1538.66 1510.9 Q1539.56 1509.14 1539.56 1507.45 Q1539.56 1504.7 1537.62 1502.96 Q1535.7 1501.22 1532.59 1501.22 Q1530.39 1501.22 1527.94 1501.99 Q1525.51 1502.75 1522.73 1504.3 L1522.73 1499.58 Q1525.56 1498.45 1528.01 1497.87 Q1530.46 1497.29 1532.5 1497.29 Q1537.87 1497.29 1541.07 1499.97 Q1544.26 1502.66 1544.26 1507.15 Q1544.26 1509.28 1543.45 1511.2 Q1542.66 1513.1 1540.56 1515.69 Q1539.98 1516.36 1536.88 1519.58 Q1533.77 1522.78 1528.13 1528.54 Z\" fill=\"#000000\" fill-rule=\"evenodd\" fill-opacity=\"1\" /><polyline clip-path=\"url(#clip172)\" style=\"stroke:#000000; stroke-linecap:butt; stroke-linejoin:round; stroke-width:2; stroke-opacity:0.1; fill:none\" points=\"\n  1546.2,1486.45 149.191,1401.43 \n  \"/>\n<polyline clip-path=\"url(#clip172)\" style=\"stroke:#000000; stroke-linecap:butt; stroke-linejoin:round; stroke-width:2; stroke-opacity:0.1; fill:none\" points=\"\n  149.191,1401.43 149.191,302.298 \n  \"/>\n<polyline clip-path=\"url(#clip172)\" style=\"stroke:#000000; stroke-linecap:butt; stroke-linejoin:round; stroke-width:2; stroke-opacity:0.1; fill:none\" points=\"\n  1747.84,1422.68 350.831,1337.67 \n  \"/>\n<polyline clip-path=\"url(#clip172)\" style=\"stroke:#000000; stroke-linecap:butt; stroke-linejoin:round; stroke-width:2; stroke-opacity:0.1; fill:none\" points=\"\n  350.831,1337.67 350.831,238.535 \n  \"/>\n<polyline clip-path=\"url(#clip172)\" style=\"stroke:#000000; stroke-linecap:butt; stroke-linejoin:round; stroke-width:2; stroke-opacity:0.1; fill:none\" points=\"\n  1949.48,1358.92 552.471,1273.9 \n  \"/>\n<polyline clip-path=\"url(#clip172)\" style=\"stroke:#000000; stroke-linecap:butt; stroke-linejoin:round; stroke-width:2; stroke-opacity:0.1; fill:none\" points=\"\n  552.471,1273.9 552.471,174.771 \n  \"/>\n<polyline clip-path=\"url(#clip172)\" style=\"stroke:#000000; stroke-linecap:butt; stroke-linejoin:round; stroke-width:2; stroke-opacity:0.1; fill:none\" points=\"\n  2151.12,1295.16 754.111,1210.14 \n  \"/>\n<polyline clip-path=\"url(#clip172)\" style=\"stroke:#000000; stroke-linecap:butt; stroke-linejoin:round; stroke-width:2; stroke-opacity:0.1; fill:none\" points=\"\n  754.111,1210.14 754.111,111.008 \n  \"/>\n<polyline clip-path=\"url(#clip172)\" style=\"stroke:#000000; stroke-linecap:butt; stroke-linejoin:round; stroke-width:2; stroke-opacity:0.1; fill:none\" points=\"\n  2352.76,1231.39 955.752,1146.38 \n  \"/>\n<polyline clip-path=\"url(#clip172)\" style=\"stroke:#000000; stroke-linecap:butt; stroke-linejoin:round; stroke-width:2; stroke-opacity:0.1; fill:none\" points=\"\n  955.752,1146.38 955.752,47.2441 \n  \"/>\n<polyline clip-path=\"url(#clip170)\" style=\"stroke:#000000; stroke-linecap:butt; stroke-linejoin:round; stroke-width:4; stroke-opacity:1; fill:none\" points=\"\n  1546.2,1486.45 2352.76,1231.39 \n  \"/>\n<polyline clip-path=\"url(#clip170)\" style=\"stroke:#000000; stroke-linecap:butt; stroke-linejoin:round; stroke-width:4; stroke-opacity:1; fill:none\" points=\"\n  1546.2,1486.45 1529.43,1485.43 \n  \"/>\n<polyline clip-path=\"url(#clip170)\" style=\"stroke:#000000; stroke-linecap:butt; stroke-linejoin:round; stroke-width:4; stroke-opacity:1; fill:none\" points=\"\n  1747.84,1422.68 1731.07,1421.66 \n  \"/>\n<polyline clip-path=\"url(#clip170)\" style=\"stroke:#000000; stroke-linecap:butt; stroke-linejoin:round; stroke-width:4; stroke-opacity:1; fill:none\" points=\"\n  1949.48,1358.92 1932.71,1357.9 \n  \"/>\n<polyline clip-path=\"url(#clip170)\" style=\"stroke:#000000; stroke-linecap:butt; stroke-linejoin:round; stroke-width:4; stroke-opacity:1; fill:none\" points=\"\n  2151.12,1295.16 2134.35,1294.14 \n  \"/>\n<polyline clip-path=\"url(#clip170)\" style=\"stroke:#000000; stroke-linecap:butt; stroke-linejoin:round; stroke-width:4; stroke-opacity:1; fill:none\" points=\"\n  2352.76,1231.39 2335.99,1230.37 \n  \"/>\n<path clip-path=\"url(#clip170)\" d=\"M1554.88 1514.36 L1584.55 1514.36 L1584.55 1518.29 L1554.88 1518.29 L1554.88 1514.36 Z\" fill=\"#000000\" fill-rule=\"evenodd\" fill-opacity=\"1\" /><path clip-path=\"url(#clip170)\" d=\"M1598.67 1527.25 L1614.99 1527.25 L1614.99 1531.19 L1593.05 1531.19 L1593.05 1527.25 Q1595.71 1524.5 1600.29 1519.87 Q1604.9 1515.22 1606.08 1513.87 Q1608.33 1511.35 1609.21 1509.61 Q1610.11 1507.85 1610.11 1506.16 Q1610.11 1503.41 1608.17 1501.67 Q1606.24 1499.94 1603.14 1499.94 Q1600.94 1499.94 1598.49 1500.7 Q1596.06 1501.47 1593.28 1503.02 L1593.28 1498.29 Q1596.11 1497.16 1598.56 1496.58 Q1601.01 1496 1603.05 1496 Q1608.42 1496 1611.61 1498.69 Q1614.81 1501.37 1614.81 1505.86 Q1614.81 1507.99 1614 1509.91 Q1613.21 1511.81 1611.11 1514.41 Q1610.53 1515.08 1607.42 1518.29 Q1604.32 1521.49 1598.67 1527.25 Z\" fill=\"#000000\" fill-rule=\"evenodd\" fill-opacity=\"1\" /><path clip-path=\"url(#clip170)\" d=\"M1756.52 1450.6 L1786.19 1450.6 L1786.19 1454.53 L1756.52 1454.53 L1756.52 1450.6 Z\" fill=\"#000000\" fill-rule=\"evenodd\" fill-opacity=\"1\" /><path clip-path=\"url(#clip170)\" d=\"M1797.1 1463.49 L1804.74 1463.49 L1804.74 1437.12 L1796.43 1438.79 L1796.43 1434.53 L1804.69 1432.86 L1809.37 1432.86 L1809.37 1463.49 L1817 1463.49 L1817 1467.42 L1797.1 1467.42 L1797.1 1463.49 Z\" fill=\"#000000\" fill-rule=\"evenodd\" fill-opacity=\"1\" /><path clip-path=\"url(#clip170)\" d=\"M1970.1 1372.18 Q1966.49 1372.18 1964.66 1375.74 Q1962.86 1379.29 1962.86 1386.42 Q1962.86 1393.52 1964.66 1397.09 Q1966.49 1400.63 1970.1 1400.63 Q1973.74 1400.63 1975.54 1397.09 Q1977.37 1393.52 1977.37 1386.42 Q1977.37 1379.29 1975.54 1375.74 Q1973.74 1372.18 1970.1 1372.18 M1970.1 1368.48 Q1975.91 1368.48 1978.97 1373.08 Q1982.05 1377.67 1982.05 1386.42 Q1982.05 1395.14 1978.97 1399.75 Q1975.91 1404.33 1970.1 1404.33 Q1964.29 1404.33 1961.21 1399.75 Q1958.16 1395.14 1958.16 1386.42 Q1958.16 1377.67 1961.21 1373.08 Q1964.29 1368.48 1970.1 1368.48 Z\" fill=\"#000000\" fill-rule=\"evenodd\" fill-opacity=\"1\" /><path clip-path=\"url(#clip170)\" d=\"M2160.47 1335.96 L2168.11 1335.96 L2168.11 1309.6 L2159.8 1311.26 L2159.8 1307 L2168.06 1305.34 L2172.74 1305.34 L2172.74 1335.96 L2180.38 1335.96 L2180.38 1339.9 L2160.47 1339.9 L2160.47 1335.96 Z\" fill=\"#000000\" fill-rule=\"evenodd\" fill-opacity=\"1\" /><path clip-path=\"url(#clip170)\" d=\"M2367.06 1272.2 L2383.38 1272.2 L2383.38 1276.13 L2361.44 1276.13 L2361.44 1272.2 Q2364.1 1269.44 2368.68 1264.81 Q2373.29 1260.16 2374.47 1258.82 Q2376.72 1256.3 2377.6 1254.56 Q2378.5 1252.8 2378.5 1251.11 Q2378.5 1248.36 2376.56 1246.62 Q2374.63 1244.88 2371.53 1244.88 Q2369.33 1244.88 2366.88 1245.65 Q2364.45 1246.41 2361.67 1247.96 L2361.67 1243.24 Q2364.49 1242.11 2366.95 1241.53 Q2369.4 1240.95 2371.44 1240.95 Q2376.81 1240.95 2380 1243.63 Q2383.2 1246.32 2383.2 1250.81 Q2383.2 1252.94 2382.39 1254.86 Q2381.6 1256.76 2379.49 1259.35 Q2378.92 1260.02 2375.81 1263.24 Q2372.71 1266.43 2367.06 1272.2 Z\" fill=\"#000000\" fill-rule=\"evenodd\" fill-opacity=\"1\" /><polyline clip-path=\"url(#clip172)\" style=\"stroke:#000000; stroke-linecap:butt; stroke-linejoin:round; stroke-width:2; stroke-opacity:0.1; fill:none\" points=\"\n  149.191,1401.43 955.752,1146.38 \n  \"/>\n<polyline clip-path=\"url(#clip172)\" style=\"stroke:#000000; stroke-linecap:butt; stroke-linejoin:round; stroke-width:2; stroke-opacity:0.1; fill:none\" points=\"\n  955.752,1146.38 2352.76,1231.39 \n  \"/>\n<polyline clip-path=\"url(#clip172)\" style=\"stroke:#000000; stroke-linecap:butt; stroke-linejoin:round; stroke-width:2; stroke-opacity:0.1; fill:none\" points=\"\n  149.191,1126.32 955.752,871.265 \n  \"/>\n<polyline clip-path=\"url(#clip172)\" style=\"stroke:#000000; stroke-linecap:butt; stroke-linejoin:round; stroke-width:2; stroke-opacity:0.1; fill:none\" points=\"\n  955.752,871.265 2352.76,956.284 \n  \"/>\n<polyline clip-path=\"url(#clip172)\" style=\"stroke:#000000; stroke-linecap:butt; stroke-linejoin:round; stroke-width:2; stroke-opacity:0.1; fill:none\" points=\"\n  149.191,851.21 955.752,596.156 \n  \"/>\n<polyline clip-path=\"url(#clip172)\" style=\"stroke:#000000; stroke-linecap:butt; stroke-linejoin:round; stroke-width:2; stroke-opacity:0.1; fill:none\" points=\"\n  955.752,596.156 2352.76,681.174 \n  \"/>\n<polyline clip-path=\"url(#clip172)\" style=\"stroke:#000000; stroke-linecap:butt; stroke-linejoin:round; stroke-width:2; stroke-opacity:0.1; fill:none\" points=\"\n  149.191,576.1 955.752,321.046 \n  \"/>\n<polyline clip-path=\"url(#clip172)\" style=\"stroke:#000000; stroke-linecap:butt; stroke-linejoin:round; stroke-width:2; stroke-opacity:0.1; fill:none\" points=\"\n  955.752,321.046 2352.76,406.064 \n  \"/>\n<polyline clip-path=\"url(#clip170)\" style=\"stroke:#000000; stroke-linecap:butt; stroke-linejoin:round; stroke-width:4; stroke-opacity:1; fill:none\" points=\"\n  149.191,1401.43 149.191,302.298 \n  \"/>\n<polyline clip-path=\"url(#clip170)\" style=\"stroke:#000000; stroke-linecap:butt; stroke-linejoin:round; stroke-width:4; stroke-opacity:1; fill:none\" points=\"\n  149.191,1401.43 158.87,1398.37 \n  \"/>\n<polyline clip-path=\"url(#clip170)\" style=\"stroke:#000000; stroke-linecap:butt; stroke-linejoin:round; stroke-width:4; stroke-opacity:1; fill:none\" points=\"\n  149.191,1126.32 158.87,1123.26 \n  \"/>\n<polyline clip-path=\"url(#clip170)\" style=\"stroke:#000000; stroke-linecap:butt; stroke-linejoin:round; stroke-width:4; stroke-opacity:1; fill:none\" points=\"\n  149.191,851.21 158.87,848.149 \n  \"/>\n<polyline clip-path=\"url(#clip170)\" style=\"stroke:#000000; stroke-linecap:butt; stroke-linejoin:round; stroke-width:4; stroke-opacity:1; fill:none\" points=\"\n  149.191,576.1 158.87,573.039 \n  \"/>\n<path clip-path=\"url(#clip170)\" d=\"M58.7708 1401.88 L88.4466 1401.88 L88.4466 1405.82 L58.7708 1405.82 L58.7708 1401.88 Z\" fill=\"#000000\" fill-rule=\"evenodd\" fill-opacity=\"1\" /><path clip-path=\"url(#clip170)\" d=\"M108.539 1402.3 Q105.206 1402.3 103.284 1404.08 Q101.386 1405.86 101.386 1408.99 Q101.386 1412.11 103.284 1413.89 Q105.206 1415.68 108.539 1415.68 Q111.872 1415.68 113.794 1413.89 Q115.715 1412.09 115.715 1408.99 Q115.715 1405.86 113.794 1404.08 Q111.896 1402.3 108.539 1402.3 M103.863 1400.31 Q100.854 1399.57 99.1641 1397.51 Q97.4975 1395.45 97.4975 1392.48 Q97.4975 1388.34 100.437 1385.93 Q103.4 1383.52 108.539 1383.52 Q113.701 1383.52 116.641 1385.93 Q119.581 1388.34 119.581 1392.48 Q119.581 1395.45 117.891 1397.51 Q116.224 1399.57 113.238 1400.31 Q116.618 1401.09 118.493 1403.39 Q120.391 1405.68 120.391 1408.99 Q120.391 1414.01 117.312 1416.7 Q114.257 1419.38 108.539 1419.38 Q102.822 1419.38 99.7428 1416.7 Q96.6873 1414.01 96.6873 1408.99 Q96.6873 1405.68 98.5854 1403.39 Q100.484 1401.09 103.863 1400.31 M102.15 1392.92 Q102.15 1395.61 103.817 1397.11 Q105.507 1398.62 108.539 1398.62 Q111.548 1398.62 113.238 1397.11 Q114.951 1395.61 114.951 1392.92 Q114.951 1390.24 113.238 1388.73 Q111.548 1387.23 108.539 1387.23 Q105.507 1387.23 103.817 1388.73 Q102.15 1390.24 102.15 1392.92 Z\" fill=\"#000000\" fill-rule=\"evenodd\" fill-opacity=\"1\" /><path clip-path=\"url(#clip170)\" d=\"M58.5162 1126.77 L88.192 1126.77 L88.192 1130.71 L58.5162 1130.71 L58.5162 1126.77 Z\" fill=\"#000000\" fill-rule=\"evenodd\" fill-opacity=\"1\" /><path clip-path=\"url(#clip170)\" d=\"M108.863 1124.46 Q105.715 1124.46 103.863 1126.61 Q102.034 1128.76 102.034 1132.51 Q102.034 1136.24 103.863 1138.41 Q105.715 1140.57 108.863 1140.57 Q112.011 1140.57 113.84 1138.41 Q115.692 1136.24 115.692 1132.51 Q115.692 1128.76 113.84 1126.61 Q112.011 1124.46 108.863 1124.46 M118.146 1109.8 L118.146 1114.06 Q116.386 1113.23 114.581 1112.79 Q112.798 1112.35 111.039 1112.35 Q106.409 1112.35 103.956 1115.47 Q101.525 1118.6 101.178 1124.92 Q102.544 1122.91 104.604 1121.84 Q106.664 1120.75 109.141 1120.75 Q114.349 1120.75 117.358 1123.92 Q120.391 1127.07 120.391 1132.51 Q120.391 1137.84 117.243 1141.05 Q114.095 1144.27 108.863 1144.27 Q102.868 1144.27 99.6965 1139.69 Q96.5253 1135.08 96.5253 1126.35 Q96.5253 1118.16 100.414 1113.3 Q104.303 1108.41 110.854 1108.41 Q112.613 1108.41 114.396 1108.76 Q116.201 1109.11 118.146 1109.8 Z\" fill=\"#000000\" fill-rule=\"evenodd\" fill-opacity=\"1\" /><path clip-path=\"url(#clip170)\" d=\"M58.1921 851.661 L87.8679 851.661 L87.8679 855.596 L58.1921 855.596 L58.1921 851.661 Z\" fill=\"#000000\" fill-rule=\"evenodd\" fill-opacity=\"1\" /><path clip-path=\"url(#clip170)\" d=\"M110.808 838.004 L99.0021 856.453 L110.808 856.453 L110.808 838.004 M109.581 833.93 L115.46 833.93 L115.46 856.453 L120.391 856.453 L120.391 860.342 L115.46 860.342 L115.46 868.49 L110.808 868.49 L110.808 860.342 L95.2058 860.342 L95.2058 855.828 L109.581 833.93 Z\" fill=\"#000000\" fill-rule=\"evenodd\" fill-opacity=\"1\" /><path clip-path=\"url(#clip170)\" d=\"M60.2754 576.551 L89.9512 576.551 L89.9512 580.486 L60.2754 580.486 L60.2754 576.551 Z\" fill=\"#000000\" fill-rule=\"evenodd\" fill-opacity=\"1\" /><path clip-path=\"url(#clip170)\" d=\"M104.072 589.445 L120.391 589.445 L120.391 593.38 L98.4465 593.38 L98.4465 589.445 Q101.109 586.69 105.692 582.061 Q110.298 577.408 111.479 576.065 Q113.724 573.542 114.604 571.806 Q115.507 570.047 115.507 568.357 Q115.507 565.602 113.562 563.866 Q111.641 562.13 108.539 562.13 Q106.34 562.13 103.886 562.894 Q101.456 563.658 98.678 565.209 L98.678 560.487 Q101.502 559.352 103.956 558.774 Q106.409 558.195 108.446 558.195 Q113.817 558.195 117.011 560.88 Q120.206 563.565 120.206 568.056 Q120.206 570.186 119.396 572.107 Q118.608 574.005 116.502 576.598 Q115.923 577.269 112.821 580.486 Q109.72 583.681 104.072 589.445 Z\" fill=\"#000000\" fill-rule=\"evenodd\" fill-opacity=\"1\" /><path clip-path=\"url(#clip172)\" d=\"\nM955.752 1146.38 L927.939 1081.9 L976.112 1011.55 L1003.92 1076.03  Z\n  \" fill=\"#48196b\" fill-rule=\"evenodd\" fill-opacity=\"0.7\"/>\n<path clip-path=\"url(#clip172)\" d=\"\nM1003.92 1076.03 L976.112 1011.55 L1024.28 946.441 L1052.1 1010.92  Z\n  \" fill=\"#462d7c\" fill-rule=\"evenodd\" fill-opacity=\"0.7\"/>\n<path clip-path=\"url(#clip172)\" d=\"\nM1052.1 1010.92 L1024.28 946.441 L1072.46 886.566 L1100.27 951.046  Z\n  \" fill=\"#414186\" fill-rule=\"evenodd\" fill-opacity=\"0.7\"/>\n<path clip-path=\"url(#clip172)\" d=\"\nM1100.27 951.046 L1072.46 886.566 L1120.63 831.924 L1148.44 896.404  Z\n  \" fill=\"#3b518a\" fill-rule=\"evenodd\" fill-opacity=\"0.7\"/>\n<path clip-path=\"url(#clip172)\" d=\"\nM1148.44 896.404 L1120.63 831.924 L1168.8 782.516 L1196.61 846.996  Z\n  \" fill=\"#355d8c\" fill-rule=\"evenodd\" fill-opacity=\"0.7\"/>\n<path clip-path=\"url(#clip172)\" d=\"\nM1196.61 846.996 L1168.8 782.516 L1216.97 738.342 L1244.79 802.822  Z\n  \" fill=\"#2f698d\" fill-rule=\"evenodd\" fill-opacity=\"0.7\"/>\n<path clip-path=\"url(#clip172)\" d=\"\nM1244.79 802.822 L1216.97 738.342 L1265.15 699.402 L1292.96 763.882  Z\n  \" fill=\"#2b738e\" fill-rule=\"evenodd\" fill-opacity=\"0.7\"/>\n<path clip-path=\"url(#clip172)\" d=\"\nM1292.96 763.882 L1265.15 699.402 L1313.32 665.696 L1341.13 730.176  Z\n  \" fill=\"#287b8e\" fill-rule=\"evenodd\" fill-opacity=\"0.7\"/>\n<path clip-path=\"url(#clip172)\" d=\"\nM1341.13 730.176 L1313.32 665.696 L1361.49 637.224 L1389.3 701.704  Z\n  \" fill=\"#25838d\" fill-rule=\"evenodd\" fill-opacity=\"0.7\"/>\n<path clip-path=\"url(#clip172)\" d=\"\nM1389.3 701.704 L1361.49 637.224 L1409.66 613.986 L1437.48 678.466  Z\n  \" fill=\"#22898d\" fill-rule=\"evenodd\" fill-opacity=\"0.7\"/>\n<path clip-path=\"url(#clip172)\" d=\"\nM1437.48 678.466 L1409.66 613.986 L1457.84 595.981 L1485.65 660.462  Z\n  \" fill=\"#218e8c\" fill-rule=\"evenodd\" fill-opacity=\"0.7\"/>\n<path clip-path=\"url(#clip172)\" d=\"\nM1485.65 660.462 L1457.84 595.981 L1506.01 583.211 L1533.82 647.692  Z\n  \" fill=\"#1f938b\" fill-rule=\"evenodd\" fill-opacity=\"0.7\"/>\n<path clip-path=\"url(#clip172)\" d=\"\nM1533.82 647.692 L1506.01 583.211 L1554.18 575.675 L1581.99 640.155  Z\n  \" fill=\"#1f968b\" fill-rule=\"evenodd\" fill-opacity=\"0.7\"/>\n<path clip-path=\"url(#clip172)\" d=\"\nM1581.99 640.155 L1554.18 575.675 L1602.36 573.373 L1630.17 637.853  Z\n  \" fill=\"#1e978a\" fill-rule=\"evenodd\" fill-opacity=\"0.7\"/>\n<path clip-path=\"url(#clip172)\" d=\"\nM1630.17 637.853 L1602.36 573.373 L1650.53 576.304 L1678.34 640.785  Z\n  \" fill=\"#1e988a\" fill-rule=\"evenodd\" fill-opacity=\"0.7\"/>\n<path clip-path=\"url(#clip172)\" d=\"\nM1678.34 640.785 L1650.53 576.304 L1698.7 584.47 L1726.51 648.95  Z\n  \" fill=\"#1e978a\" fill-rule=\"evenodd\" fill-opacity=\"0.7\"/>\n<path clip-path=\"url(#clip172)\" d=\"\nM1726.51 648.95 L1698.7 584.47 L1746.87 597.869 L1774.69 662.35  Z\n  \" fill=\"#1f968b\" fill-rule=\"evenodd\" fill-opacity=\"0.7\"/>\n<path clip-path=\"url(#clip172)\" d=\"\nM1774.69 662.35 L1746.87 597.869 L1795.05 616.503 L1822.86 680.983  Z\n  \" fill=\"#1f938b\" fill-rule=\"evenodd\" fill-opacity=\"0.7\"/>\n<path clip-path=\"url(#clip172)\" d=\"\nM1822.86 680.983 L1795.05 616.503 L1843.22 640.37 L1871.03 704.851  Z\n  \" fill=\"#218e8c\" fill-rule=\"evenodd\" fill-opacity=\"0.7\"/>\n<path clip-path=\"url(#clip172)\" d=\"\nM1871.03 704.851 L1843.22 640.37 L1891.39 669.472 L1919.2 733.952  Z\n  \" fill=\"#22898d\" fill-rule=\"evenodd\" fill-opacity=\"0.7\"/>\n<path clip-path=\"url(#clip172)\" d=\"\nM1919.2 733.952 L1891.39 669.472 L1939.56 703.807 L1967.38 768.288  Z\n  \" fill=\"#25838d\" fill-rule=\"evenodd\" fill-opacity=\"0.7\"/>\n<path clip-path=\"url(#clip172)\" d=\"\nM1967.38 768.288 L1939.56 703.807 L1987.74 743.377 L2015.55 807.857  Z\n  \" fill=\"#287b8e\" fill-rule=\"evenodd\" fill-opacity=\"0.7\"/>\n<path clip-path=\"url(#clip172)\" d=\"\nM2015.55 807.857 L1987.74 743.377 L2035.91 788.18 L2063.72 852.66  Z\n  \" fill=\"#2b738e\" fill-rule=\"evenodd\" fill-opacity=\"0.7\"/>\n<path clip-path=\"url(#clip172)\" d=\"\nM2063.72 852.66 L2035.91 788.18 L2084.08 838.217 L2111.89 902.698  Z\n  \" fill=\"#2f698d\" fill-rule=\"evenodd\" fill-opacity=\"0.7\"/>\n<path clip-path=\"url(#clip172)\" d=\"\nM2111.89 902.698 L2084.08 838.217 L2132.25 893.489 L2160.07 957.969  Z\n  \" fill=\"#355d8c\" fill-rule=\"evenodd\" fill-opacity=\"0.7\"/>\n<path clip-path=\"url(#clip172)\" d=\"\nM2160.07 957.969 L2132.25 893.489 L2180.43 953.994 L2208.24 1018.47  Z\n  \" fill=\"#3b518a\" fill-rule=\"evenodd\" fill-opacity=\"0.7\"/>\n<path clip-path=\"url(#clip172)\" d=\"\nM2208.24 1018.47 L2180.43 953.994 L2228.6 1019.73 L2256.41 1084.21  Z\n  \" fill=\"#414186\" fill-rule=\"evenodd\" fill-opacity=\"0.7\"/>\n<path clip-path=\"url(#clip172)\" d=\"\nM2256.41 1084.21 L2228.6 1019.73 L2276.77 1090.71 L2304.58 1155.19  Z\n  \" fill=\"#462d7c\" fill-rule=\"evenodd\" fill-opacity=\"0.7\"/>\n<path clip-path=\"url(#clip172)\" d=\"\nM2304.58 1155.19 L2276.77 1090.71 L2324.94 1166.91 L2352.76 1231.39  Z\n  \" fill=\"#48196b\" fill-rule=\"evenodd\" fill-opacity=\"0.7\"/>\n<path clip-path=\"url(#clip172)\" d=\"\nM927.939 1081.9 L900.127 1022.65 L948.299 952.305 L976.112 1011.55  Z\n  \" fill=\"#462d7c\" fill-rule=\"evenodd\" fill-opacity=\"0.7\"/>\n<path clip-path=\"url(#clip172)\" d=\"\nM976.112 1011.55 L948.299 952.305 L996.472 887.195 L1024.28 946.441  Z\n  \" fill=\"#414286\" fill-rule=\"evenodd\" fill-opacity=\"0.7\"/>\n<path clip-path=\"url(#clip172)\" d=\"\nM1024.28 946.441 L996.472 887.195 L1044.64 827.319 L1072.46 886.566  Z\n  \" fill=\"#3a538b\" fill-rule=\"evenodd\" fill-opacity=\"0.7\"/>\n<path clip-path=\"url(#clip172)\" d=\"\nM1072.46 886.566 L1044.64 827.319 L1092.82 772.677 L1120.63 831.924  Z\n  \" fill=\"#33618d\" fill-rule=\"evenodd\" fill-opacity=\"0.7\"/>\n<path clip-path=\"url(#clip172)\" d=\"\nM1120.63 831.924 L1092.82 772.677 L1140.99 723.269 L1168.8 782.516  Z\n  \" fill=\"#2d6e8e\" fill-rule=\"evenodd\" fill-opacity=\"0.7\"/>\n<path clip-path=\"url(#clip172)\" d=\"\nM1168.8 782.516 L1140.99 723.269 L1189.16 679.095 L1216.97 738.342  Z\n  \" fill=\"#29798e\" fill-rule=\"evenodd\" fill-opacity=\"0.7\"/>\n<path clip-path=\"url(#clip172)\" d=\"\nM1216.97 738.342 L1189.16 679.095 L1237.33 640.155 L1265.15 699.402  Z\n  \" fill=\"#25838d\" fill-rule=\"evenodd\" fill-opacity=\"0.7\"/>\n<path clip-path=\"url(#clip172)\" d=\"\nM1265.15 699.402 L1237.33 640.155 L1285.51 606.449 L1313.32 665.696  Z\n  \" fill=\"#228b8d\" fill-rule=\"evenodd\" fill-opacity=\"0.7\"/>\n<path clip-path=\"url(#clip172)\" d=\"\nM1313.32 665.696 L1285.51 606.449 L1333.68 577.977 L1361.49 637.224  Z\n  \" fill=\"#1f938b\" fill-rule=\"evenodd\" fill-opacity=\"0.7\"/>\n<path clip-path=\"url(#clip172)\" d=\"\nM1361.49 637.224 L1333.68 577.977 L1381.85 554.739 L1409.66 613.986  Z\n  \" fill=\"#1e998a\" fill-rule=\"evenodd\" fill-opacity=\"0.7\"/>\n<path clip-path=\"url(#clip172)\" d=\"\nM1409.66 613.986 L1381.85 554.739 L1430.02 536.735 L1457.84 595.981  Z\n  \" fill=\"#1e9e88\" fill-rule=\"evenodd\" fill-opacity=\"0.7\"/>\n<path clip-path=\"url(#clip172)\" d=\"\nM1457.84 595.981 L1430.02 536.735 L1478.2 523.965 L1506.01 583.211  Z\n  \" fill=\"#1fa286\" fill-rule=\"evenodd\" fill-opacity=\"0.7\"/>\n<path clip-path=\"url(#clip172)\" d=\"\nM1506.01 583.211 L1478.2 523.965 L1526.37 516.428 L1554.18 575.675  Z\n  \" fill=\"#20a585\" fill-rule=\"evenodd\" fill-opacity=\"0.7\"/>\n<path clip-path=\"url(#clip172)\" d=\"\nM1554.18 575.675 L1526.37 516.428 L1574.54 514.126 L1602.36 573.373  Z\n  \" fill=\"#21a784\" fill-rule=\"evenodd\" fill-opacity=\"0.7\"/>\n<path clip-path=\"url(#clip172)\" d=\"\nM1602.36 573.373 L1574.54 514.126 L1622.72 517.058 L1650.53 576.304  Z\n  \" fill=\"#21a784\" fill-rule=\"evenodd\" fill-opacity=\"0.7\"/>\n<path clip-path=\"url(#clip172)\" d=\"\nM1650.53 576.304 L1622.72 517.058 L1670.89 525.223 L1698.7 584.47  Z\n  \" fill=\"#21a784\" fill-rule=\"evenodd\" fill-opacity=\"0.7\"/>\n<path clip-path=\"url(#clip172)\" d=\"\nM1698.7 584.47 L1670.89 525.223 L1719.06 538.623 L1746.87 597.869  Z\n  \" fill=\"#20a585\" fill-rule=\"evenodd\" fill-opacity=\"0.7\"/>\n<path clip-path=\"url(#clip172)\" d=\"\nM1746.87 597.869 L1719.06 538.623 L1767.23 557.256 L1795.05 616.503  Z\n  \" fill=\"#1fa286\" fill-rule=\"evenodd\" fill-opacity=\"0.7\"/>\n<path clip-path=\"url(#clip172)\" d=\"\nM1795.05 616.503 L1767.23 557.256 L1815.41 581.124 L1843.22 640.37  Z\n  \" fill=\"#1e9e88\" fill-rule=\"evenodd\" fill-opacity=\"0.7\"/>\n<path clip-path=\"url(#clip172)\" d=\"\nM1843.22 640.37 L1815.41 581.124 L1863.58 610.225 L1891.39 669.472  Z\n  \" fill=\"#1e998a\" fill-rule=\"evenodd\" fill-opacity=\"0.7\"/>\n<path clip-path=\"url(#clip172)\" d=\"\nM1891.39 669.472 L1863.58 610.225 L1911.75 644.561 L1939.56 703.807  Z\n  \" fill=\"#1f938b\" fill-rule=\"evenodd\" fill-opacity=\"0.7\"/>\n<path clip-path=\"url(#clip172)\" d=\"\nM1939.56 703.807 L1911.75 644.561 L1959.92 684.13 L1987.74 743.377  Z\n  \" fill=\"#228b8d\" fill-rule=\"evenodd\" fill-opacity=\"0.7\"/>\n<path clip-path=\"url(#clip172)\" d=\"\nM1987.74 743.377 L1959.92 684.13 L2008.1 728.934 L2035.91 788.18  Z\n  \" fill=\"#25838d\" fill-rule=\"evenodd\" fill-opacity=\"0.7\"/>\n<path clip-path=\"url(#clip172)\" d=\"\nM2035.91 788.18 L2008.1 728.934 L2056.27 778.971 L2084.08 838.217  Z\n  \" fill=\"#29798e\" fill-rule=\"evenodd\" fill-opacity=\"0.7\"/>\n<path clip-path=\"url(#clip172)\" d=\"\nM2084.08 838.217 L2056.27 778.971 L2104.44 834.242 L2132.25 893.489  Z\n  \" fill=\"#2d6e8e\" fill-rule=\"evenodd\" fill-opacity=\"0.7\"/>\n<path clip-path=\"url(#clip172)\" d=\"\nM2132.25 893.489 L2104.44 834.242 L2152.61 894.747 L2180.43 953.994  Z\n  \" fill=\"#33618d\" fill-rule=\"evenodd\" fill-opacity=\"0.7\"/>\n<path clip-path=\"url(#clip172)\" d=\"\nM2180.43 953.994 L2152.61 894.747 L2200.79 960.486 L2228.6 1019.73  Z\n  \" fill=\"#3a538b\" fill-rule=\"evenodd\" fill-opacity=\"0.7\"/>\n<path clip-path=\"url(#clip172)\" d=\"\nM2228.6 1019.73 L2200.79 960.486 L2248.96 1031.46 L2276.77 1090.71  Z\n  \" fill=\"#414286\" fill-rule=\"evenodd\" fill-opacity=\"0.7\"/>\n<path clip-path=\"url(#clip172)\" d=\"\nM2276.77 1090.71 L2248.96 1031.46 L2297.13 1107.67 L2324.94 1166.91  Z\n  \" fill=\"#462d7c\" fill-rule=\"evenodd\" fill-opacity=\"0.7\"/>\n<path clip-path=\"url(#clip172)\" d=\"\nM900.127 1022.65 L872.314 968.636 L920.487 898.292 L948.299 952.305  Z\n  \" fill=\"#414186\" fill-rule=\"evenodd\" fill-opacity=\"0.7\"/>\n<path clip-path=\"url(#clip172)\" d=\"\nM948.299 952.305 L920.487 898.292 L968.659 833.182 L996.472 887.195  Z\n  \" fill=\"#3a538b\" fill-rule=\"evenodd\" fill-opacity=\"0.7\"/>\n<path clip-path=\"url(#clip172)\" d=\"\nM996.472 887.195 L968.659 833.182 L1016.83 773.307 L1044.64 827.319  Z\n  \" fill=\"#32628d\" fill-rule=\"evenodd\" fill-opacity=\"0.7\"/>\n<path clip-path=\"url(#clip172)\" d=\"\nM1044.64 827.319 L1016.83 773.307 L1065 718.665 L1092.82 772.677  Z\n  \" fill=\"#2c708e\" fill-rule=\"evenodd\" fill-opacity=\"0.7\"/>\n<path clip-path=\"url(#clip172)\" d=\"\nM1092.82 772.677 L1065 718.665 L1113.18 669.257 L1140.99 723.269  Z\n  \" fill=\"#277c8e\" fill-rule=\"evenodd\" fill-opacity=\"0.7\"/>\n<path clip-path=\"url(#clip172)\" d=\"\nM1140.99 723.269 L1113.18 669.257 L1161.35 625.083 L1189.16 679.095  Z\n  \" fill=\"#23878d\" fill-rule=\"evenodd\" fill-opacity=\"0.7\"/>\n<path clip-path=\"url(#clip172)\" d=\"\nM1189.16 679.095 L1161.35 625.083 L1209.52 586.143 L1237.33 640.155  Z\n  \" fill=\"#20918c\" fill-rule=\"evenodd\" fill-opacity=\"0.7\"/>\n<path clip-path=\"url(#clip172)\" d=\"\nM1237.33 640.155 L1209.52 586.143 L1257.69 552.437 L1285.51 606.449  Z\n  \" fill=\"#1e998a\" fill-rule=\"evenodd\" fill-opacity=\"0.7\"/>\n<path clip-path=\"url(#clip172)\" d=\"\nM1285.51 606.449 L1257.69 552.437 L1305.87 523.965 L1333.68 577.977  Z\n  \" fill=\"#1fa187\" fill-rule=\"evenodd\" fill-opacity=\"0.7\"/>\n<path clip-path=\"url(#clip172)\" d=\"\nM1333.68 577.977 L1305.87 523.965 L1354.04 500.726 L1381.85 554.739  Z\n  \" fill=\"#21a784\" fill-rule=\"evenodd\" fill-opacity=\"0.7\"/>\n<path clip-path=\"url(#clip172)\" d=\"\nM1381.85 554.739 L1354.04 500.726 L1402.21 482.722 L1430.02 536.735  Z\n  \" fill=\"#26ac81\" fill-rule=\"evenodd\" fill-opacity=\"0.7\"/>\n<path clip-path=\"url(#clip172)\" d=\"\nM1430.02 536.735 L1402.21 482.722 L1450.39 469.952 L1478.2 523.965  Z\n  \" fill=\"#2ab07e\" fill-rule=\"evenodd\" fill-opacity=\"0.7\"/>\n<path clip-path=\"url(#clip172)\" d=\"\nM1478.2 523.965 L1450.39 469.952 L1498.56 462.416 L1526.37 516.428  Z\n  \" fill=\"#2eb27c\" fill-rule=\"evenodd\" fill-opacity=\"0.7\"/>\n<path clip-path=\"url(#clip172)\" d=\"\nM1526.37 516.428 L1498.56 462.416 L1546.73 460.114 L1574.54 514.126  Z\n  \" fill=\"#30b47a\" fill-rule=\"evenodd\" fill-opacity=\"0.7\"/>\n<path clip-path=\"url(#clip172)\" d=\"\nM1574.54 514.126 L1546.73 460.114 L1594.9 463.045 L1622.72 517.058  Z\n  \" fill=\"#32b57a\" fill-rule=\"evenodd\" fill-opacity=\"0.7\"/>\n<path clip-path=\"url(#clip172)\" d=\"\nM1622.72 517.058 L1594.9 463.045 L1643.08 471.211 L1670.89 525.223  Z\n  \" fill=\"#30b47a\" fill-rule=\"evenodd\" fill-opacity=\"0.7\"/>\n<path clip-path=\"url(#clip172)\" d=\"\nM1670.89 525.223 L1643.08 471.211 L1691.25 484.61 L1719.06 538.623  Z\n  \" fill=\"#2eb27c\" fill-rule=\"evenodd\" fill-opacity=\"0.7\"/>\n<path clip-path=\"url(#clip172)\" d=\"\nM1719.06 538.623 L1691.25 484.61 L1739.42 503.244 L1767.23 557.256  Z\n  \" fill=\"#2ab07e\" fill-rule=\"evenodd\" fill-opacity=\"0.7\"/>\n<path clip-path=\"url(#clip172)\" d=\"\nM1767.23 557.256 L1739.42 503.244 L1787.59 527.111 L1815.41 581.124  Z\n  \" fill=\"#26ac81\" fill-rule=\"evenodd\" fill-opacity=\"0.7\"/>\n<path clip-path=\"url(#clip172)\" d=\"\nM1815.41 581.124 L1787.59 527.111 L1835.77 556.213 L1863.58 610.225  Z\n  \" fill=\"#21a784\" fill-rule=\"evenodd\" fill-opacity=\"0.7\"/>\n<path clip-path=\"url(#clip172)\" d=\"\nM1863.58 610.225 L1835.77 556.213 L1883.94 590.548 L1911.75 644.561  Z\n  \" fill=\"#1fa187\" fill-rule=\"evenodd\" fill-opacity=\"0.7\"/>\n<path clip-path=\"url(#clip172)\" d=\"\nM1911.75 644.561 L1883.94 590.548 L1932.11 630.118 L1959.92 684.13  Z\n  \" fill=\"#1e998a\" fill-rule=\"evenodd\" fill-opacity=\"0.7\"/>\n<path clip-path=\"url(#clip172)\" d=\"\nM1959.92 684.13 L1932.11 630.118 L1980.28 674.921 L2008.1 728.934  Z\n  \" fill=\"#20918c\" fill-rule=\"evenodd\" fill-opacity=\"0.7\"/>\n<path clip-path=\"url(#clip172)\" d=\"\nM2008.1 728.934 L1980.28 674.921 L2028.46 724.958 L2056.27 778.971  Z\n  \" fill=\"#23878d\" fill-rule=\"evenodd\" fill-opacity=\"0.7\"/>\n<path clip-path=\"url(#clip172)\" d=\"\nM2056.27 778.971 L2028.46 724.958 L2076.63 780.23 L2104.44 834.242  Z\n  \" fill=\"#277c8e\" fill-rule=\"evenodd\" fill-opacity=\"0.7\"/>\n<path clip-path=\"url(#clip172)\" d=\"\nM2104.44 834.242 L2076.63 780.23 L2124.8 840.735 L2152.61 894.747  Z\n  \" fill=\"#2c708e\" fill-rule=\"evenodd\" fill-opacity=\"0.7\"/>\n<path clip-path=\"url(#clip172)\" d=\"\nM2152.61 894.747 L2124.8 840.735 L2172.97 906.474 L2200.79 960.486  Z\n  \" fill=\"#32628d\" fill-rule=\"evenodd\" fill-opacity=\"0.7\"/>\n<path clip-path=\"url(#clip172)\" d=\"\nM2200.79 960.486 L2172.97 906.474 L2221.15 977.447 L2248.96 1031.46  Z\n  \" fill=\"#3a538b\" fill-rule=\"evenodd\" fill-opacity=\"0.7\"/>\n<path clip-path=\"url(#clip172)\" d=\"\nM2248.96 1031.46 L2221.15 977.447 L2269.32 1053.65 L2297.13 1107.67  Z\n  \" fill=\"#414186\" fill-rule=\"evenodd\" fill-opacity=\"0.7\"/>\n<path clip-path=\"url(#clip172)\" d=\"\nM872.314 968.636 L844.502 919.857 L892.674 849.514 L920.487 898.292  Z\n  \" fill=\"#3b518a\" fill-rule=\"evenodd\" fill-opacity=\"0.7\"/>\n<path clip-path=\"url(#clip172)\" d=\"\nM920.487 898.292 L892.674 849.514 L940.847 784.404 L968.659 833.182  Z\n  \" fill=\"#33618d\" fill-rule=\"evenodd\" fill-opacity=\"0.7\"/>\n<path clip-path=\"url(#clip172)\" d=\"\nM968.659 833.182 L940.847 784.404 L989.02 724.528 L1016.83 773.307  Z\n  \" fill=\"#2c708e\" fill-rule=\"evenodd\" fill-opacity=\"0.7\"/>\n<path clip-path=\"url(#clip172)\" d=\"\nM1016.83 773.307 L989.02 724.528 L1037.19 669.886 L1065 718.665  Z\n  \" fill=\"#277d8e\" fill-rule=\"evenodd\" fill-opacity=\"0.7\"/>\n<path clip-path=\"url(#clip172)\" d=\"\nM1065 718.665 L1037.19 669.886 L1085.36 620.478 L1113.18 669.257  Z\n  \" fill=\"#22898d\" fill-rule=\"evenodd\" fill-opacity=\"0.7\"/>\n<path clip-path=\"url(#clip172)\" d=\"\nM1113.18 669.257 L1085.36 620.478 L1133.54 576.304 L1161.35 625.083  Z\n  \" fill=\"#1f948b\" fill-rule=\"evenodd\" fill-opacity=\"0.7\"/>\n<path clip-path=\"url(#clip172)\" d=\"\nM1161.35 625.083 L1133.54 576.304 L1181.71 537.364 L1209.52 586.143  Z\n  \" fill=\"#1e9e88\" fill-rule=\"evenodd\" fill-opacity=\"0.7\"/>\n<path clip-path=\"url(#clip172)\" d=\"\nM1209.52 586.143 L1181.71 537.364 L1229.88 503.658 L1257.69 552.437  Z\n  \" fill=\"#21a784\" fill-rule=\"evenodd\" fill-opacity=\"0.7\"/>\n<path clip-path=\"url(#clip172)\" d=\"\nM1257.69 552.437 L1229.88 503.658 L1278.05 475.186 L1305.87 523.965  Z\n  \" fill=\"#28ae7f\" fill-rule=\"evenodd\" fill-opacity=\"0.7\"/>\n<path clip-path=\"url(#clip172)\" d=\"\nM1305.87 523.965 L1278.05 475.186 L1326.23 451.948 L1354.04 500.726  Z\n  \" fill=\"#2fb37b\" fill-rule=\"evenodd\" fill-opacity=\"0.7\"/>\n<path clip-path=\"url(#clip172)\" d=\"\nM1354.04 500.726 L1326.23 451.948 L1374.4 433.944 L1402.21 482.722  Z\n  \" fill=\"#38b976\" fill-rule=\"evenodd\" fill-opacity=\"0.7\"/>\n<path clip-path=\"url(#clip172)\" d=\"\nM1402.21 482.722 L1374.4 433.944 L1422.57 421.174 L1450.39 469.952  Z\n  \" fill=\"#3ebc73\" fill-rule=\"evenodd\" fill-opacity=\"0.7\"/>\n<path clip-path=\"url(#clip172)\" d=\"\nM1450.39 469.952 L1422.57 421.174 L1470.75 413.637 L1498.56 462.416  Z\n  \" fill=\"#44be70\" fill-rule=\"evenodd\" fill-opacity=\"0.7\"/>\n<path clip-path=\"url(#clip172)\" d=\"\nM1498.56 462.416 L1470.75 413.637 L1518.92 411.335 L1546.73 460.114  Z\n  \" fill=\"#47c06e\" fill-rule=\"evenodd\" fill-opacity=\"0.7\"/>\n<path clip-path=\"url(#clip172)\" d=\"\nM1546.73 460.114 L1518.92 411.335 L1567.09 414.267 L1594.9 463.045  Z\n  \" fill=\"#49c16d\" fill-rule=\"evenodd\" fill-opacity=\"0.7\"/>\n<path clip-path=\"url(#clip172)\" d=\"\nM1594.9 463.045 L1567.09 414.267 L1615.26 422.432 L1643.08 471.211  Z\n  \" fill=\"#47c06e\" fill-rule=\"evenodd\" fill-opacity=\"0.7\"/>\n<path clip-path=\"url(#clip172)\" d=\"\nM1643.08 471.211 L1615.26 422.432 L1663.44 435.832 L1691.25 484.61  Z\n  \" fill=\"#44be70\" fill-rule=\"evenodd\" fill-opacity=\"0.7\"/>\n<path clip-path=\"url(#clip172)\" d=\"\nM1691.25 484.61 L1663.44 435.832 L1711.61 454.465 L1739.42 503.244  Z\n  \" fill=\"#3ebc73\" fill-rule=\"evenodd\" fill-opacity=\"0.7\"/>\n<path clip-path=\"url(#clip172)\" d=\"\nM1739.42 503.244 L1711.61 454.465 L1759.78 478.333 L1787.59 527.111  Z\n  \" fill=\"#38b976\" fill-rule=\"evenodd\" fill-opacity=\"0.7\"/>\n<path clip-path=\"url(#clip172)\" d=\"\nM1787.59 527.111 L1759.78 478.333 L1807.95 507.434 L1835.77 556.213  Z\n  \" fill=\"#2fb37b\" fill-rule=\"evenodd\" fill-opacity=\"0.7\"/>\n<path clip-path=\"url(#clip172)\" d=\"\nM1835.77 556.213 L1807.95 507.434 L1856.13 541.77 L1883.94 590.548  Z\n  \" fill=\"#28ae7f\" fill-rule=\"evenodd\" fill-opacity=\"0.7\"/>\n<path clip-path=\"url(#clip172)\" d=\"\nM1883.94 590.548 L1856.13 541.77 L1904.3 581.339 L1932.11 630.118  Z\n  \" fill=\"#21a784\" fill-rule=\"evenodd\" fill-opacity=\"0.7\"/>\n<path clip-path=\"url(#clip172)\" d=\"\nM1932.11 630.118 L1904.3 581.339 L1952.47 626.142 L1980.28 674.921  Z\n  \" fill=\"#1e9e88\" fill-rule=\"evenodd\" fill-opacity=\"0.7\"/>\n<path clip-path=\"url(#clip172)\" d=\"\nM1980.28 674.921 L1952.47 626.142 L2000.64 676.18 L2028.46 724.958  Z\n  \" fill=\"#1f948b\" fill-rule=\"evenodd\" fill-opacity=\"0.7\"/>\n<path clip-path=\"url(#clip172)\" d=\"\nM2028.46 724.958 L2000.64 676.18 L2048.82 731.451 L2076.63 780.23  Z\n  \" fill=\"#22898d\" fill-rule=\"evenodd\" fill-opacity=\"0.7\"/>\n<path clip-path=\"url(#clip172)\" d=\"\nM2076.63 780.23 L2048.82 731.451 L2096.99 791.956 L2124.8 840.735  Z\n  \" fill=\"#277d8e\" fill-rule=\"evenodd\" fill-opacity=\"0.7\"/>\n<path clip-path=\"url(#clip172)\" d=\"\nM2124.8 840.735 L2096.99 791.956 L2145.16 857.695 L2172.97 906.474  Z\n  \" fill=\"#2c708e\" fill-rule=\"evenodd\" fill-opacity=\"0.7\"/>\n<path clip-path=\"url(#clip172)\" d=\"\nM2172.97 906.474 L2145.16 857.695 L2193.33 928.668 L2221.15 977.447  Z\n  \" fill=\"#33618d\" fill-rule=\"evenodd\" fill-opacity=\"0.7\"/>\n<path clip-path=\"url(#clip172)\" d=\"\nM2221.15 977.447 L2193.33 928.668 L2241.51 1004.88 L2269.32 1053.65  Z\n  \" fill=\"#3b518a\" fill-rule=\"evenodd\" fill-opacity=\"0.7\"/>\n<path clip-path=\"url(#clip172)\" d=\"\nM844.502 919.857 L816.689 876.313 L864.862 805.969 L892.674 849.514  Z\n  \" fill=\"#355d8c\" fill-rule=\"evenodd\" fill-opacity=\"0.7\"/>\n<path clip-path=\"url(#clip172)\" d=\"\nM892.674 849.514 L864.862 805.969 L913.035 740.859 L940.847 784.404  Z\n  \" fill=\"#2d6e8e\" fill-rule=\"evenodd\" fill-opacity=\"0.7\"/>\n<path clip-path=\"url(#clip172)\" d=\"\nM940.847 784.404 L913.035 740.859 L961.207 680.983 L989.02 724.528  Z\n  \" fill=\"#277c8e\" fill-rule=\"evenodd\" fill-opacity=\"0.7\"/>\n<path clip-path=\"url(#clip172)\" d=\"\nM989.02 724.528 L961.207 680.983 L1009.38 626.341 L1037.19 669.886  Z\n  \" fill=\"#22898d\" fill-rule=\"evenodd\" fill-opacity=\"0.7\"/>\n<path clip-path=\"url(#clip172)\" d=\"\nM1037.19 669.886 L1009.38 626.341 L1057.55 576.934 L1085.36 620.478  Z\n  \" fill=\"#1f968b\" fill-rule=\"evenodd\" fill-opacity=\"0.7\"/>\n<path clip-path=\"url(#clip172)\" d=\"\nM1085.36 620.478 L1057.55 576.934 L1105.72 532.76 L1133.54 576.304  Z\n  \" fill=\"#1ea087\" fill-rule=\"evenodd\" fill-opacity=\"0.7\"/>\n<path clip-path=\"url(#clip172)\" d=\"\nM1133.54 576.304 L1105.72 532.76 L1153.9 493.82 L1181.71 537.364  Z\n  \" fill=\"#23a982\" fill-rule=\"evenodd\" fill-opacity=\"0.7\"/>\n<path clip-path=\"url(#clip172)\" d=\"\nM1181.71 537.364 L1153.9 493.82 L1202.07 460.114 L1229.88 503.658  Z\n  \" fill=\"#2eb27c\" fill-rule=\"evenodd\" fill-opacity=\"0.7\"/>\n<path clip-path=\"url(#clip172)\" d=\"\nM1229.88 503.658 L1202.07 460.114 L1250.24 431.641 L1278.05 475.186  Z\n  \" fill=\"#38b976\" fill-rule=\"evenodd\" fill-opacity=\"0.7\"/>\n<path clip-path=\"url(#clip172)\" d=\"\nM1278.05 475.186 L1250.24 431.641 L1298.42 408.403 L1326.23 451.948  Z\n  \" fill=\"#44be70\" fill-rule=\"evenodd\" fill-opacity=\"0.7\"/>\n<path clip-path=\"url(#clip172)\" d=\"\nM1326.23 451.948 L1298.42 408.403 L1346.59 390.399 L1374.4 433.944  Z\n  \" fill=\"#4fc369\" fill-rule=\"evenodd\" fill-opacity=\"0.7\"/>\n<path clip-path=\"url(#clip172)\" d=\"\nM1374.4 433.944 L1346.59 390.399 L1394.76 377.629 L1422.57 421.174  Z\n  \" fill=\"#57c665\" fill-rule=\"evenodd\" fill-opacity=\"0.7\"/>\n<path clip-path=\"url(#clip172)\" d=\"\nM1422.57 421.174 L1394.76 377.629 L1442.93 370.093 L1470.75 413.637  Z\n  \" fill=\"#5ec961\" fill-rule=\"evenodd\" fill-opacity=\"0.7\"/>\n<path clip-path=\"url(#clip172)\" d=\"\nM1470.75 413.637 L1442.93 370.093 L1491.11 367.79 L1518.92 411.335  Z\n  \" fill=\"#62ca5f\" fill-rule=\"evenodd\" fill-opacity=\"0.7\"/>\n<path clip-path=\"url(#clip172)\" d=\"\nM1518.92 411.335 L1491.11 367.79 L1539.28 370.722 L1567.09 414.267  Z\n  \" fill=\"#62ca5f\" fill-rule=\"evenodd\" fill-opacity=\"0.7\"/>\n<path clip-path=\"url(#clip172)\" d=\"\nM1567.09 414.267 L1539.28 370.722 L1587.45 378.888 L1615.26 422.432  Z\n  \" fill=\"#62ca5f\" fill-rule=\"evenodd\" fill-opacity=\"0.7\"/>\n<path clip-path=\"url(#clip172)\" d=\"\nM1615.26 422.432 L1587.45 378.888 L1635.62 392.287 L1663.44 435.832  Z\n  \" fill=\"#5ec961\" fill-rule=\"evenodd\" fill-opacity=\"0.7\"/>\n<path clip-path=\"url(#clip172)\" d=\"\nM1663.44 435.832 L1635.62 392.287 L1683.8 410.921 L1711.61 454.465  Z\n  \" fill=\"#57c665\" fill-rule=\"evenodd\" fill-opacity=\"0.7\"/>\n<path clip-path=\"url(#clip172)\" d=\"\nM1711.61 454.465 L1683.8 410.921 L1731.97 434.788 L1759.78 478.333  Z\n  \" fill=\"#4fc369\" fill-rule=\"evenodd\" fill-opacity=\"0.7\"/>\n<path clip-path=\"url(#clip172)\" d=\"\nM1759.78 478.333 L1731.97 434.788 L1780.14 463.89 L1807.95 507.434  Z\n  \" fill=\"#44be70\" fill-rule=\"evenodd\" fill-opacity=\"0.7\"/>\n<path clip-path=\"url(#clip172)\" d=\"\nM1807.95 507.434 L1780.14 463.89 L1828.31 498.225 L1856.13 541.77  Z\n  \" fill=\"#38b976\" fill-rule=\"evenodd\" fill-opacity=\"0.7\"/>\n<path clip-path=\"url(#clip172)\" d=\"\nM1856.13 541.77 L1828.31 498.225 L1876.49 537.794 L1904.3 581.339  Z\n  \" fill=\"#2eb27c\" fill-rule=\"evenodd\" fill-opacity=\"0.7\"/>\n<path clip-path=\"url(#clip172)\" d=\"\nM1904.3 581.339 L1876.49 537.794 L1924.66 582.598 L1952.47 626.142  Z\n  \" fill=\"#23a982\" fill-rule=\"evenodd\" fill-opacity=\"0.7\"/>\n<path clip-path=\"url(#clip172)\" d=\"\nM1952.47 626.142 L1924.66 582.598 L1972.83 632.635 L2000.64 676.18  Z\n  \" fill=\"#1ea087\" fill-rule=\"evenodd\" fill-opacity=\"0.7\"/>\n<path clip-path=\"url(#clip172)\" d=\"\nM2000.64 676.18 L1972.83 632.635 L2021 687.906 L2048.82 731.451  Z\n  \" fill=\"#1f968b\" fill-rule=\"evenodd\" fill-opacity=\"0.7\"/>\n<path clip-path=\"url(#clip172)\" d=\"\nM2048.82 731.451 L2021 687.906 L2069.18 748.412 L2096.99 791.956  Z\n  \" fill=\"#22898d\" fill-rule=\"evenodd\" fill-opacity=\"0.7\"/>\n<path clip-path=\"url(#clip172)\" d=\"\nM2096.99 791.956 L2069.18 748.412 L2117.35 814.151 L2145.16 857.695  Z\n  \" fill=\"#277c8e\" fill-rule=\"evenodd\" fill-opacity=\"0.7\"/>\n<path clip-path=\"url(#clip172)\" d=\"\nM2145.16 857.695 L2117.35 814.151 L2165.52 885.124 L2193.33 928.668  Z\n  \" fill=\"#2d6e8e\" fill-rule=\"evenodd\" fill-opacity=\"0.7\"/>\n<path clip-path=\"url(#clip172)\" d=\"\nM2193.33 928.668 L2165.52 885.124 L2213.69 961.331 L2241.51 1004.88  Z\n  \" fill=\"#355d8c\" fill-rule=\"evenodd\" fill-opacity=\"0.7\"/>\n<path clip-path=\"url(#clip172)\" d=\"\nM816.689 876.313 L788.877 838.002 L837.05 767.658 L864.862 805.969  Z\n  \" fill=\"#2f698d\" fill-rule=\"evenodd\" fill-opacity=\"0.7\"/>\n<path clip-path=\"url(#clip172)\" d=\"\nM864.862 805.969 L837.05 767.658 L885.222 702.549 L913.035 740.859  Z\n  \" fill=\"#29798e\" fill-rule=\"evenodd\" fill-opacity=\"0.7\"/>\n<path clip-path=\"url(#clip172)\" d=\"\nM913.035 740.859 L885.222 702.549 L933.395 642.673 L961.207 680.983  Z\n  \" fill=\"#23878d\" fill-rule=\"evenodd\" fill-opacity=\"0.7\"/>\n<path clip-path=\"url(#clip172)\" d=\"\nM961.207 680.983 L933.395 642.673 L981.567 588.031 L1009.38 626.341  Z\n  \" fill=\"#1f948b\" fill-rule=\"evenodd\" fill-opacity=\"0.7\"/>\n<path clip-path=\"url(#clip172)\" d=\"\nM1009.38 626.341 L981.567 588.031 L1029.74 538.623 L1057.55 576.934  Z\n  \" fill=\"#1ea087\" fill-rule=\"evenodd\" fill-opacity=\"0.7\"/>\n<path clip-path=\"url(#clip172)\" d=\"\nM1057.55 576.934 L1029.74 538.623 L1077.91 494.449 L1105.72 532.76  Z\n  \" fill=\"#25ab81\" fill-rule=\"evenodd\" fill-opacity=\"0.7\"/>\n<path clip-path=\"url(#clip172)\" d=\"\nM1105.72 532.76 L1077.91 494.449 L1126.08 455.509 L1153.9 493.82  Z\n  \" fill=\"#30b47a\" fill-rule=\"evenodd\" fill-opacity=\"0.7\"/>\n<path clip-path=\"url(#clip172)\" d=\"\nM1153.9 493.82 L1126.08 455.509 L1174.26 421.803 L1202.07 460.114  Z\n  \" fill=\"#3ebc73\" fill-rule=\"evenodd\" fill-opacity=\"0.7\"/>\n<path clip-path=\"url(#clip172)\" d=\"\nM1202.07 460.114 L1174.26 421.803 L1222.43 393.331 L1250.24 431.641  Z\n  \" fill=\"#4dc26b\" fill-rule=\"evenodd\" fill-opacity=\"0.7\"/>\n<path clip-path=\"url(#clip172)\" d=\"\nM1250.24 431.641 L1222.43 393.331 L1270.6 370.093 L1298.42 408.403  Z\n  \" fill=\"#5bc862\" fill-rule=\"evenodd\" fill-opacity=\"0.7\"/>\n<path clip-path=\"url(#clip172)\" d=\"\nM1298.42 408.403 L1270.6 370.093 L1318.78 352.088 L1346.59 390.399  Z\n  \" fill=\"#67cc5c\" fill-rule=\"evenodd\" fill-opacity=\"0.7\"/>\n<path clip-path=\"url(#clip172)\" d=\"\nM1346.59 390.399 L1318.78 352.088 L1366.95 339.318 L1394.76 377.629  Z\n  \" fill=\"#70ce56\" fill-rule=\"evenodd\" fill-opacity=\"0.7\"/>\n<path clip-path=\"url(#clip172)\" d=\"\nM1394.76 377.629 L1366.95 339.318 L1415.12 331.782 L1442.93 370.093  Z\n  \" fill=\"#77d052\" fill-rule=\"evenodd\" fill-opacity=\"0.7\"/>\n<path clip-path=\"url(#clip172)\" d=\"\nM1442.93 370.093 L1415.12 331.782 L1463.29 329.48 L1491.11 367.79  Z\n  \" fill=\"#7cd24f\" fill-rule=\"evenodd\" fill-opacity=\"0.7\"/>\n<path clip-path=\"url(#clip172)\" d=\"\nM1491.11 367.79 L1463.29 329.48 L1511.47 332.411 L1539.28 370.722  Z\n  \" fill=\"#7ed24e\" fill-rule=\"evenodd\" fill-opacity=\"0.7\"/>\n<path clip-path=\"url(#clip172)\" d=\"\nM1539.28 370.722 L1511.47 332.411 L1559.64 340.577 L1587.45 378.888  Z\n  \" fill=\"#7cd24f\" fill-rule=\"evenodd\" fill-opacity=\"0.7\"/>\n<path clip-path=\"url(#clip172)\" d=\"\nM1587.45 378.888 L1559.64 340.577 L1607.81 353.977 L1635.62 392.287  Z\n  \" fill=\"#77d052\" fill-rule=\"evenodd\" fill-opacity=\"0.7\"/>\n<path clip-path=\"url(#clip172)\" d=\"\nM1635.62 392.287 L1607.81 353.977 L1655.98 372.61 L1683.8 410.921  Z\n  \" fill=\"#70ce56\" fill-rule=\"evenodd\" fill-opacity=\"0.7\"/>\n<path clip-path=\"url(#clip172)\" d=\"\nM1683.8 410.921 L1655.98 372.61 L1704.16 396.478 L1731.97 434.788  Z\n  \" fill=\"#67cc5c\" fill-rule=\"evenodd\" fill-opacity=\"0.7\"/>\n<path clip-path=\"url(#clip172)\" d=\"\nM1731.97 434.788 L1704.16 396.478 L1752.33 425.579 L1780.14 463.89  Z\n  \" fill=\"#5bc862\" fill-rule=\"evenodd\" fill-opacity=\"0.7\"/>\n<path clip-path=\"url(#clip172)\" d=\"\nM1780.14 463.89 L1752.33 425.579 L1800.5 459.914 L1828.31 498.225  Z\n  \" fill=\"#4dc26b\" fill-rule=\"evenodd\" fill-opacity=\"0.7\"/>\n<path clip-path=\"url(#clip172)\" d=\"\nM1828.31 498.225 L1800.5 459.914 L1848.67 499.484 L1876.49 537.794  Z\n  \" fill=\"#3ebc73\" fill-rule=\"evenodd\" fill-opacity=\"0.7\"/>\n<path clip-path=\"url(#clip172)\" d=\"\nM1876.49 537.794 L1848.67 499.484 L1896.85 544.287 L1924.66 582.598  Z\n  \" fill=\"#30b47a\" fill-rule=\"evenodd\" fill-opacity=\"0.7\"/>\n<path clip-path=\"url(#clip172)\" d=\"\nM1924.66 582.598 L1896.85 544.287 L1945.02 594.324 L1972.83 632.635  Z\n  \" fill=\"#25ab81\" fill-rule=\"evenodd\" fill-opacity=\"0.7\"/>\n<path clip-path=\"url(#clip172)\" d=\"\nM1972.83 632.635 L1945.02 594.324 L1993.19 649.596 L2021 687.906  Z\n  \" fill=\"#1ea087\" fill-rule=\"evenodd\" fill-opacity=\"0.7\"/>\n<path clip-path=\"url(#clip172)\" d=\"\nM2021 687.906 L1993.19 649.596 L2041.36 710.101 L2069.18 748.412  Z\n  \" fill=\"#1f948b\" fill-rule=\"evenodd\" fill-opacity=\"0.7\"/>\n<path clip-path=\"url(#clip172)\" d=\"\nM2069.18 748.412 L2041.36 710.101 L2089.54 775.84 L2117.35 814.151  Z\n  \" fill=\"#23878d\" fill-rule=\"evenodd\" fill-opacity=\"0.7\"/>\n<path clip-path=\"url(#clip172)\" d=\"\nM2117.35 814.151 L2089.54 775.84 L2137.71 846.813 L2165.52 885.124  Z\n  \" fill=\"#29798e\" fill-rule=\"evenodd\" fill-opacity=\"0.7\"/>\n<path clip-path=\"url(#clip172)\" d=\"\nM2165.52 885.124 L2137.71 846.813 L2185.88 923.02 L2213.69 961.331  Z\n  \" fill=\"#2f698d\" fill-rule=\"evenodd\" fill-opacity=\"0.7\"/>\n<path clip-path=\"url(#clip172)\" d=\"\nM788.877 838.002 L761.065 804.925 L809.237 734.582 L837.05 767.658  Z\n  \" fill=\"#2b738e\" fill-rule=\"evenodd\" fill-opacity=\"0.7\"/>\n<path clip-path=\"url(#clip172)\" d=\"\nM837.05 767.658 L809.237 734.582 L857.41 669.472 L885.222 702.549  Z\n  \" fill=\"#25838d\" fill-rule=\"evenodd\" fill-opacity=\"0.7\"/>\n<path clip-path=\"url(#clip172)\" d=\"\nM885.222 702.549 L857.41 669.472 L905.582 609.596 L933.395 642.673  Z\n  \" fill=\"#20918c\" fill-rule=\"evenodd\" fill-opacity=\"0.7\"/>\n<path clip-path=\"url(#clip172)\" d=\"\nM933.395 642.673 L905.582 609.596 L953.755 554.954 L981.567 588.031  Z\n  \" fill=\"#1e9e88\" fill-rule=\"evenodd\" fill-opacity=\"0.7\"/>\n<path clip-path=\"url(#clip172)\" d=\"\nM981.567 588.031 L953.755 554.954 L1001.93 505.546 L1029.74 538.623  Z\n  \" fill=\"#23a982\" fill-rule=\"evenodd\" fill-opacity=\"0.7\"/>\n<path clip-path=\"url(#clip172)\" d=\"\nM1029.74 538.623 L1001.93 505.546 L1050.1 461.372 L1077.91 494.449  Z\n  \" fill=\"#30b47a\" fill-rule=\"evenodd\" fill-opacity=\"0.7\"/>\n<path clip-path=\"url(#clip172)\" d=\"\nM1077.91 494.449 L1050.1 461.372 L1098.27 422.432 L1126.08 455.509  Z\n  \" fill=\"#40bd72\" fill-rule=\"evenodd\" fill-opacity=\"0.7\"/>\n<path clip-path=\"url(#clip172)\" d=\"\nM1126.08 455.509 L1098.27 422.432 L1146.45 388.726 L1174.26 421.803  Z\n  \" fill=\"#51c468\" fill-rule=\"evenodd\" fill-opacity=\"0.7\"/>\n<path clip-path=\"url(#clip172)\" d=\"\nM1174.26 421.803 L1146.45 388.726 L1194.62 360.254 L1222.43 393.331  Z\n  \" fill=\"#62ca5f\" fill-rule=\"evenodd\" fill-opacity=\"0.7\"/>\n<path clip-path=\"url(#clip172)\" d=\"\nM1222.43 393.331 L1194.62 360.254 L1242.79 337.016 L1270.6 370.093  Z\n  \" fill=\"#72cf55\" fill-rule=\"evenodd\" fill-opacity=\"0.7\"/>\n<path clip-path=\"url(#clip172)\" d=\"\nM1270.6 370.093 L1242.79 337.016 L1290.96 319.012 L1318.78 352.088  Z\n  \" fill=\"#7ed24e\" fill-rule=\"evenodd\" fill-opacity=\"0.7\"/>\n<path clip-path=\"url(#clip172)\" d=\"\nM1318.78 352.088 L1290.96 319.012 L1339.14 306.242 L1366.95 339.318  Z\n  \" fill=\"#8bd546\" fill-rule=\"evenodd\" fill-opacity=\"0.7\"/>\n<path clip-path=\"url(#clip172)\" d=\"\nM1366.95 339.318 L1339.14 306.242 L1387.31 298.705 L1415.12 331.782  Z\n  \" fill=\"#92d741\" fill-rule=\"evenodd\" fill-opacity=\"0.7\"/>\n<path clip-path=\"url(#clip172)\" d=\"\nM1415.12 331.782 L1387.31 298.705 L1435.48 296.403 L1463.29 329.48  Z\n  \" fill=\"#97d83e\" fill-rule=\"evenodd\" fill-opacity=\"0.7\"/>\n<path clip-path=\"url(#clip172)\" d=\"\nM1463.29 329.48 L1435.48 296.403 L1483.65 299.335 L1511.47 332.411  Z\n  \" fill=\"#97d83e\" fill-rule=\"evenodd\" fill-opacity=\"0.7\"/>\n<path clip-path=\"url(#clip172)\" d=\"\nM1511.47 332.411 L1483.65 299.335 L1531.83 307.5 L1559.64 340.577  Z\n  \" fill=\"#97d83e\" fill-rule=\"evenodd\" fill-opacity=\"0.7\"/>\n<path clip-path=\"url(#clip172)\" d=\"\nM1559.64 340.577 L1531.83 307.5 L1580 320.9 L1607.81 353.977  Z\n  \" fill=\"#92d741\" fill-rule=\"evenodd\" fill-opacity=\"0.7\"/>\n<path clip-path=\"url(#clip172)\" d=\"\nM1607.81 353.977 L1580 320.9 L1628.17 339.533 L1655.98 372.61  Z\n  \" fill=\"#8bd546\" fill-rule=\"evenodd\" fill-opacity=\"0.7\"/>\n<path clip-path=\"url(#clip172)\" d=\"\nM1655.98 372.61 L1628.17 339.533 L1676.34 363.401 L1704.16 396.478  Z\n  \" fill=\"#7ed24e\" fill-rule=\"evenodd\" fill-opacity=\"0.7\"/>\n<path clip-path=\"url(#clip172)\" d=\"\nM1704.16 396.478 L1676.34 363.401 L1724.52 392.502 L1752.33 425.579  Z\n  \" fill=\"#72cf55\" fill-rule=\"evenodd\" fill-opacity=\"0.7\"/>\n<path clip-path=\"url(#clip172)\" d=\"\nM1752.33 425.579 L1724.52 392.502 L1772.69 426.838 L1800.5 459.914  Z\n  \" fill=\"#62ca5f\" fill-rule=\"evenodd\" fill-opacity=\"0.7\"/>\n<path clip-path=\"url(#clip172)\" d=\"\nM1800.5 459.914 L1772.69 426.838 L1820.86 466.407 L1848.67 499.484  Z\n  \" fill=\"#51c468\" fill-rule=\"evenodd\" fill-opacity=\"0.7\"/>\n<path clip-path=\"url(#clip172)\" d=\"\nM1848.67 499.484 L1820.86 466.407 L1869.03 511.21 L1896.85 544.287  Z\n  \" fill=\"#40bd72\" fill-rule=\"evenodd\" fill-opacity=\"0.7\"/>\n<path clip-path=\"url(#clip172)\" d=\"\nM1896.85 544.287 L1869.03 511.21 L1917.21 561.248 L1945.02 594.324  Z\n  \" fill=\"#30b47a\" fill-rule=\"evenodd\" fill-opacity=\"0.7\"/>\n<path clip-path=\"url(#clip172)\" d=\"\nM1945.02 594.324 L1917.21 561.248 L1965.38 616.519 L1993.19 649.596  Z\n  \" fill=\"#23a982\" fill-rule=\"evenodd\" fill-opacity=\"0.7\"/>\n<path clip-path=\"url(#clip172)\" d=\"\nM1993.19 649.596 L1965.38 616.519 L2013.55 677.024 L2041.36 710.101  Z\n  \" fill=\"#1e9e88\" fill-rule=\"evenodd\" fill-opacity=\"0.7\"/>\n<path clip-path=\"url(#clip172)\" d=\"\nM2041.36 710.101 L2013.55 677.024 L2061.72 742.763 L2089.54 775.84  Z\n  \" fill=\"#20918c\" fill-rule=\"evenodd\" fill-opacity=\"0.7\"/>\n<path clip-path=\"url(#clip172)\" d=\"\nM2089.54 775.84 L2061.72 742.763 L2109.9 813.736 L2137.71 846.813  Z\n  \" fill=\"#25838d\" fill-rule=\"evenodd\" fill-opacity=\"0.7\"/>\n<path clip-path=\"url(#clip172)\" d=\"\nM2137.71 846.813 L2109.9 813.736 L2158.07 889.944 L2185.88 923.02  Z\n  \" fill=\"#2b738e\" fill-rule=\"evenodd\" fill-opacity=\"0.7\"/>\n<path clip-path=\"url(#clip172)\" d=\"\nM761.065 804.925 L733.252 777.083 L781.425 706.739 L809.237 734.582  Z\n  \" fill=\"#287b8e\" fill-rule=\"evenodd\" fill-opacity=\"0.7\"/>\n<path clip-path=\"url(#clip172)\" d=\"\nM809.237 734.582 L781.425 706.739 L829.597 641.629 L857.41 669.472  Z\n  \" fill=\"#228b8d\" fill-rule=\"evenodd\" fill-opacity=\"0.7\"/>\n<path clip-path=\"url(#clip172)\" d=\"\nM857.41 669.472 L829.597 641.629 L877.77 581.753 L905.582 609.596  Z\n  \" fill=\"#1e998a\" fill-rule=\"evenodd\" fill-opacity=\"0.7\"/>\n<path clip-path=\"url(#clip172)\" d=\"\nM905.582 609.596 L877.77 581.753 L925.942 527.111 L953.755 554.954  Z\n  \" fill=\"#21a784\" fill-rule=\"evenodd\" fill-opacity=\"0.7\"/>\n<path clip-path=\"url(#clip172)\" d=\"\nM953.755 554.954 L925.942 527.111 L974.115 477.703 L1001.93 505.546  Z\n  \" fill=\"#2eb27c\" fill-rule=\"evenodd\" fill-opacity=\"0.7\"/>\n<path clip-path=\"url(#clip172)\" d=\"\nM1001.93 505.546 L974.115 477.703 L1022.29 433.53 L1050.1 461.372  Z\n  \" fill=\"#3ebc73\" fill-rule=\"evenodd\" fill-opacity=\"0.7\"/>\n<path clip-path=\"url(#clip172)\" d=\"\nM1050.1 461.372 L1022.29 433.53 L1070.46 394.59 L1098.27 422.432  Z\n  \" fill=\"#51c468\" fill-rule=\"evenodd\" fill-opacity=\"0.7\"/>\n<path clip-path=\"url(#clip172)\" d=\"\nM1098.27 422.432 L1070.46 394.59 L1118.63 360.883 L1146.45 388.726  Z\n  \" fill=\"#67cc5c\" fill-rule=\"evenodd\" fill-opacity=\"0.7\"/>\n<path clip-path=\"url(#clip172)\" d=\"\nM1146.45 388.726 L1118.63 360.883 L1166.81 332.411 L1194.62 360.254  Z\n  \" fill=\"#77d052\" fill-rule=\"evenodd\" fill-opacity=\"0.7\"/>\n<path clip-path=\"url(#clip172)\" d=\"\nM1194.62 360.254 L1166.81 332.411 L1214.98 309.173 L1242.79 337.016  Z\n  \" fill=\"#88d547\" fill-rule=\"evenodd\" fill-opacity=\"0.7\"/>\n<path clip-path=\"url(#clip172)\" d=\"\nM1242.79 337.016 L1214.98 309.173 L1263.15 291.169 L1290.96 319.012  Z\n  \" fill=\"#97d83e\" fill-rule=\"evenodd\" fill-opacity=\"0.7\"/>\n<path clip-path=\"url(#clip172)\" d=\"\nM1290.96 319.012 L1263.15 291.169 L1311.32 278.399 L1339.14 306.242  Z\n  \" fill=\"#a2da37\" fill-rule=\"evenodd\" fill-opacity=\"0.7\"/>\n<path clip-path=\"url(#clip172)\" d=\"\nM1339.14 306.242 L1311.32 278.399 L1359.5 270.863 L1387.31 298.705  Z\n  \" fill=\"#aadb32\" fill-rule=\"evenodd\" fill-opacity=\"0.7\"/>\n<path clip-path=\"url(#clip172)\" d=\"\nM1387.31 298.705 L1359.5 270.863 L1407.67 268.56 L1435.48 296.403  Z\n  \" fill=\"#afdc2e\" fill-rule=\"evenodd\" fill-opacity=\"0.7\"/>\n<path clip-path=\"url(#clip172)\" d=\"\nM1435.48 296.403 L1407.67 268.56 L1455.84 271.492 L1483.65 299.335  Z\n  \" fill=\"#afdc2e\" fill-rule=\"evenodd\" fill-opacity=\"0.7\"/>\n<path clip-path=\"url(#clip172)\" d=\"\nM1483.65 299.335 L1455.84 271.492 L1504.01 279.658 L1531.83 307.5  Z\n  \" fill=\"#afdc2e\" fill-rule=\"evenodd\" fill-opacity=\"0.7\"/>\n<path clip-path=\"url(#clip172)\" d=\"\nM1531.83 307.5 L1504.01 279.658 L1552.19 293.057 L1580 320.9  Z\n  \" fill=\"#aadb32\" fill-rule=\"evenodd\" fill-opacity=\"0.7\"/>\n<path clip-path=\"url(#clip172)\" d=\"\nM1580 320.9 L1552.19 293.057 L1600.36 311.691 L1628.17 339.533  Z\n  \" fill=\"#a2da37\" fill-rule=\"evenodd\" fill-opacity=\"0.7\"/>\n<path clip-path=\"url(#clip172)\" d=\"\nM1628.17 339.533 L1600.36 311.691 L1648.53 335.558 L1676.34 363.401  Z\n  \" fill=\"#97d83e\" fill-rule=\"evenodd\" fill-opacity=\"0.7\"/>\n<path clip-path=\"url(#clip172)\" d=\"\nM1676.34 363.401 L1648.53 335.558 L1696.7 364.66 L1724.52 392.502  Z\n  \" fill=\"#88d547\" fill-rule=\"evenodd\" fill-opacity=\"0.7\"/>\n<path clip-path=\"url(#clip172)\" d=\"\nM1724.52 392.502 L1696.7 364.66 L1744.88 398.995 L1772.69 426.838  Z\n  \" fill=\"#77d052\" fill-rule=\"evenodd\" fill-opacity=\"0.7\"/>\n<path clip-path=\"url(#clip172)\" d=\"\nM1772.69 426.838 L1744.88 398.995 L1793.05 438.564 L1820.86 466.407  Z\n  \" fill=\"#67cc5c\" fill-rule=\"evenodd\" fill-opacity=\"0.7\"/>\n<path clip-path=\"url(#clip172)\" d=\"\nM1820.86 466.407 L1793.05 438.564 L1841.22 483.368 L1869.03 511.21  Z\n  \" fill=\"#51c468\" fill-rule=\"evenodd\" fill-opacity=\"0.7\"/>\n<path clip-path=\"url(#clip172)\" d=\"\nM1869.03 511.21 L1841.22 483.368 L1889.39 533.405 L1917.21 561.248  Z\n  \" fill=\"#3ebc73\" fill-rule=\"evenodd\" fill-opacity=\"0.7\"/>\n<path clip-path=\"url(#clip172)\" d=\"\nM1917.21 561.248 L1889.39 533.405 L1937.57 588.676 L1965.38 616.519  Z\n  \" fill=\"#2eb27c\" fill-rule=\"evenodd\" fill-opacity=\"0.7\"/>\n<path clip-path=\"url(#clip172)\" d=\"\nM1965.38 616.519 L1937.57 588.676 L1985.74 649.181 L2013.55 677.024  Z\n  \" fill=\"#21a784\" fill-rule=\"evenodd\" fill-opacity=\"0.7\"/>\n<path clip-path=\"url(#clip172)\" d=\"\nM2013.55 677.024 L1985.74 649.181 L2033.91 714.921 L2061.72 742.763  Z\n  \" fill=\"#1e998a\" fill-rule=\"evenodd\" fill-opacity=\"0.7\"/>\n<path clip-path=\"url(#clip172)\" d=\"\nM2061.72 742.763 L2033.91 714.921 L2082.08 785.894 L2109.9 813.736  Z\n  \" fill=\"#228b8d\" fill-rule=\"evenodd\" fill-opacity=\"0.7\"/>\n<path clip-path=\"url(#clip172)\" d=\"\nM2109.9 813.736 L2082.08 785.894 L2130.26 862.101 L2158.07 889.944  Z\n  \" fill=\"#287b8e\" fill-rule=\"evenodd\" fill-opacity=\"0.7\"/>\n<path clip-path=\"url(#clip172)\" d=\"\nM733.252 777.083 L705.44 754.474 L753.612 684.13 L781.425 706.739  Z\n  \" fill=\"#25838d\" fill-rule=\"evenodd\" fill-opacity=\"0.7\"/>\n<path clip-path=\"url(#clip172)\" d=\"\nM781.425 706.739 L753.612 684.13 L801.785 619.02 L829.597 641.629  Z\n  \" fill=\"#1f938b\" fill-rule=\"evenodd\" fill-opacity=\"0.7\"/>\n<path clip-path=\"url(#clip172)\" d=\"\nM829.597 641.629 L801.785 619.02 L849.957 559.145 L877.77 581.753  Z\n  \" fill=\"#1fa187\" fill-rule=\"evenodd\" fill-opacity=\"0.7\"/>\n<path clip-path=\"url(#clip172)\" d=\"\nM877.77 581.753 L849.957 559.145 L898.13 504.503 L925.942 527.111  Z\n  \" fill=\"#28ae7f\" fill-rule=\"evenodd\" fill-opacity=\"0.7\"/>\n<path clip-path=\"url(#clip172)\" d=\"\nM925.942 527.111 L898.13 504.503 L946.302 455.095 L974.115 477.703  Z\n  \" fill=\"#38b976\" fill-rule=\"evenodd\" fill-opacity=\"0.7\"/>\n<path clip-path=\"url(#clip172)\" d=\"\nM974.115 477.703 L946.302 455.095 L994.475 410.921 L1022.29 433.53  Z\n  \" fill=\"#4dc26b\" fill-rule=\"evenodd\" fill-opacity=\"0.7\"/>\n<path clip-path=\"url(#clip172)\" d=\"\nM1022.29 433.53 L994.475 410.921 L1042.65 371.981 L1070.46 394.59  Z\n  \" fill=\"#62ca5f\" fill-rule=\"evenodd\" fill-opacity=\"0.7\"/>\n<path clip-path=\"url(#clip172)\" d=\"\nM1070.46 394.59 L1042.65 371.981 L1090.82 338.275 L1118.63 360.883  Z\n  \" fill=\"#77d052\" fill-rule=\"evenodd\" fill-opacity=\"0.7\"/>\n<path clip-path=\"url(#clip172)\" d=\"\nM1118.63 360.883 L1090.82 338.275 L1138.99 309.803 L1166.81 332.411  Z\n  \" fill=\"#8bd546\" fill-rule=\"evenodd\" fill-opacity=\"0.7\"/>\n<path clip-path=\"url(#clip172)\" d=\"\nM1166.81 332.411 L1138.99 309.803 L1187.17 286.564 L1214.98 309.173  Z\n  \" fill=\"#9dd93a\" fill-rule=\"evenodd\" fill-opacity=\"0.7\"/>\n<path clip-path=\"url(#clip172)\" d=\"\nM1214.98 309.173 L1187.17 286.564 L1235.34 268.56 L1263.15 291.169  Z\n  \" fill=\"#aadb32\" fill-rule=\"evenodd\" fill-opacity=\"0.7\"/>\n<path clip-path=\"url(#clip172)\" d=\"\nM1263.15 291.169 L1235.34 268.56 L1283.51 255.79 L1311.32 278.399  Z\n  \" fill=\"#b7dd29\" fill-rule=\"evenodd\" fill-opacity=\"0.7\"/>\n<path clip-path=\"url(#clip172)\" d=\"\nM1311.32 278.399 L1283.51 255.79 L1331.68 248.254 L1359.5 270.863  Z\n  \" fill=\"#bfdf24\" fill-rule=\"evenodd\" fill-opacity=\"0.7\"/>\n<path clip-path=\"url(#clip172)\" d=\"\nM1359.5 270.863 L1331.68 248.254 L1379.86 245.951 L1407.67 268.56  Z\n  \" fill=\"#c5df21\" fill-rule=\"evenodd\" fill-opacity=\"0.7\"/>\n<path clip-path=\"url(#clip172)\" d=\"\nM1407.67 268.56 L1379.86 245.951 L1428.03 248.883 L1455.84 271.492  Z\n  \" fill=\"#c5df21\" fill-rule=\"evenodd\" fill-opacity=\"0.7\"/>\n<path clip-path=\"url(#clip172)\" d=\"\nM1455.84 271.492 L1428.03 248.883 L1476.2 257.049 L1504.01 279.658  Z\n  \" fill=\"#c5df21\" fill-rule=\"evenodd\" fill-opacity=\"0.7\"/>\n<path clip-path=\"url(#clip172)\" d=\"\nM1504.01 279.658 L1476.2 257.049 L1524.37 270.448 L1552.19 293.057  Z\n  \" fill=\"#bfdf24\" fill-rule=\"evenodd\" fill-opacity=\"0.7\"/>\n<path clip-path=\"url(#clip172)\" d=\"\nM1552.19 293.057 L1524.37 270.448 L1572.55 289.082 L1600.36 311.691  Z\n  \" fill=\"#b7dd29\" fill-rule=\"evenodd\" fill-opacity=\"0.7\"/>\n<path clip-path=\"url(#clip172)\" d=\"\nM1600.36 311.691 L1572.55 289.082 L1620.72 312.949 L1648.53 335.558  Z\n  \" fill=\"#aadb32\" fill-rule=\"evenodd\" fill-opacity=\"0.7\"/>\n<path clip-path=\"url(#clip172)\" d=\"\nM1648.53 335.558 L1620.72 312.949 L1668.89 342.051 L1696.7 364.66  Z\n  \" fill=\"#9dd93a\" fill-rule=\"evenodd\" fill-opacity=\"0.7\"/>\n<path clip-path=\"url(#clip172)\" d=\"\nM1696.7 364.66 L1668.89 342.051 L1717.06 376.386 L1744.88 398.995  Z\n  \" fill=\"#8bd546\" fill-rule=\"evenodd\" fill-opacity=\"0.7\"/>\n<path clip-path=\"url(#clip172)\" d=\"\nM1744.88 398.995 L1717.06 376.386 L1765.24 415.956 L1793.05 438.564  Z\n  \" fill=\"#77d052\" fill-rule=\"evenodd\" fill-opacity=\"0.7\"/>\n<path clip-path=\"url(#clip172)\" d=\"\nM1793.05 438.564 L1765.24 415.956 L1813.41 460.759 L1841.22 483.368  Z\n  \" fill=\"#62ca5f\" fill-rule=\"evenodd\" fill-opacity=\"0.7\"/>\n<path clip-path=\"url(#clip172)\" d=\"\nM1841.22 483.368 L1813.41 460.759 L1861.58 510.796 L1889.39 533.405  Z\n  \" fill=\"#4dc26b\" fill-rule=\"evenodd\" fill-opacity=\"0.7\"/>\n<path clip-path=\"url(#clip172)\" d=\"\nM1889.39 533.405 L1861.58 510.796 L1909.75 566.067 L1937.57 588.676  Z\n  \" fill=\"#38b976\" fill-rule=\"evenodd\" fill-opacity=\"0.7\"/>\n<path clip-path=\"url(#clip172)\" d=\"\nM1937.57 588.676 L1909.75 566.067 L1957.93 626.573 L1985.74 649.181  Z\n  \" fill=\"#28ae7f\" fill-rule=\"evenodd\" fill-opacity=\"0.7\"/>\n<path clip-path=\"url(#clip172)\" d=\"\nM1985.74 649.181 L1957.93 626.573 L2006.1 692.312 L2033.91 714.921  Z\n  \" fill=\"#1fa187\" fill-rule=\"evenodd\" fill-opacity=\"0.7\"/>\n<path clip-path=\"url(#clip172)\" d=\"\nM2033.91 714.921 L2006.1 692.312 L2054.27 763.285 L2082.08 785.894  Z\n  \" fill=\"#1f938b\" fill-rule=\"evenodd\" fill-opacity=\"0.7\"/>\n<path clip-path=\"url(#clip172)\" d=\"\nM2082.08 785.894 L2054.27 763.285 L2102.44 839.492 L2130.26 862.101  Z\n  \" fill=\"#25838d\" fill-rule=\"evenodd\" fill-opacity=\"0.7\"/>\n<path clip-path=\"url(#clip172)\" d=\"\nM705.44 754.474 L677.627 737.099 L725.8 666.755 L753.612 684.13  Z\n  \" fill=\"#22898d\" fill-rule=\"evenodd\" fill-opacity=\"0.7\"/>\n<path clip-path=\"url(#clip172)\" d=\"\nM753.612 684.13 L725.8 666.755 L773.972 601.646 L801.785 619.02  Z\n  \" fill=\"#1e998a\" fill-rule=\"evenodd\" fill-opacity=\"0.7\"/>\n<path clip-path=\"url(#clip172)\" d=\"\nM801.785 619.02 L773.972 601.646 L822.145 541.77 L849.957 559.145  Z\n  \" fill=\"#21a784\" fill-rule=\"evenodd\" fill-opacity=\"0.7\"/>\n<path clip-path=\"url(#clip172)\" d=\"\nM849.957 559.145 L822.145 541.77 L870.317 487.128 L898.13 504.503  Z\n  \" fill=\"#2fb37b\" fill-rule=\"evenodd\" fill-opacity=\"0.7\"/>\n<path clip-path=\"url(#clip172)\" d=\"\nM898.13 504.503 L870.317 487.128 L918.49 437.72 L946.302 455.095  Z\n  \" fill=\"#44be70\" fill-rule=\"evenodd\" fill-opacity=\"0.7\"/>\n<path clip-path=\"url(#clip172)\" d=\"\nM946.302 455.095 L918.49 437.72 L966.663 393.546 L994.475 410.921  Z\n  \" fill=\"#5bc862\" fill-rule=\"evenodd\" fill-opacity=\"0.7\"/>\n<path clip-path=\"url(#clip172)\" d=\"\nM994.475 410.921 L966.663 393.546 L1014.84 354.606 L1042.65 371.981  Z\n  \" fill=\"#72cf55\" fill-rule=\"evenodd\" fill-opacity=\"0.7\"/>\n<path clip-path=\"url(#clip172)\" d=\"\nM1042.65 371.981 L1014.84 354.606 L1063.01 320.9 L1090.82 338.275  Z\n  \" fill=\"#88d547\" fill-rule=\"evenodd\" fill-opacity=\"0.7\"/>\n<path clip-path=\"url(#clip172)\" d=\"\nM1090.82 338.275 L1063.01 320.9 L1111.18 292.428 L1138.99 309.803  Z\n  \" fill=\"#9dd93a\" fill-rule=\"evenodd\" fill-opacity=\"0.7\"/>\n<path clip-path=\"url(#clip172)\" d=\"\nM1138.99 309.803 L1111.18 292.428 L1159.35 269.19 L1187.17 286.564  Z\n  \" fill=\"#afdc2e\" fill-rule=\"evenodd\" fill-opacity=\"0.7\"/>\n<path clip-path=\"url(#clip172)\" d=\"\nM1187.17 286.564 L1159.35 269.19 L1207.53 251.185 L1235.34 268.56  Z\n  \" fill=\"#bdde26\" fill-rule=\"evenodd\" fill-opacity=\"0.7\"/>\n<path clip-path=\"url(#clip172)\" d=\"\nM1235.34 268.56 L1207.53 251.185 L1255.7 238.415 L1283.51 255.79  Z\n  \" fill=\"#c7e01f\" fill-rule=\"evenodd\" fill-opacity=\"0.7\"/>\n<path clip-path=\"url(#clip172)\" d=\"\nM1283.51 255.79 L1255.7 238.415 L1303.87 230.879 L1331.68 248.254  Z\n  \" fill=\"#cfe11c\" fill-rule=\"evenodd\" fill-opacity=\"0.7\"/>\n<path clip-path=\"url(#clip172)\" d=\"\nM1331.68 248.254 L1303.87 230.879 L1352.04 228.577 L1379.86 245.951  Z\n  \" fill=\"#d4e11a\" fill-rule=\"evenodd\" fill-opacity=\"0.7\"/>\n<path clip-path=\"url(#clip172)\" d=\"\nM1379.86 245.951 L1352.04 228.577 L1400.22 231.508 L1428.03 248.883  Z\n  \" fill=\"#d7e219\" fill-rule=\"evenodd\" fill-opacity=\"0.7\"/>\n<path clip-path=\"url(#clip172)\" d=\"\nM1428.03 248.883 L1400.22 231.508 L1448.39 239.674 L1476.2 257.049  Z\n  \" fill=\"#d4e11a\" fill-rule=\"evenodd\" fill-opacity=\"0.7\"/>\n<path clip-path=\"url(#clip172)\" d=\"\nM1476.2 257.049 L1448.39 239.674 L1496.56 253.074 L1524.37 270.448  Z\n  \" fill=\"#cfe11c\" fill-rule=\"evenodd\" fill-opacity=\"0.7\"/>\n<path clip-path=\"url(#clip172)\" d=\"\nM1524.37 270.448 L1496.56 253.074 L1544.73 271.707 L1572.55 289.082  Z\n  \" fill=\"#c7e01f\" fill-rule=\"evenodd\" fill-opacity=\"0.7\"/>\n<path clip-path=\"url(#clip172)\" d=\"\nM1572.55 289.082 L1544.73 271.707 L1592.91 295.575 L1620.72 312.949  Z\n  \" fill=\"#bdde26\" fill-rule=\"evenodd\" fill-opacity=\"0.7\"/>\n<path clip-path=\"url(#clip172)\" d=\"\nM1620.72 312.949 L1592.91 295.575 L1641.08 324.676 L1668.89 342.051  Z\n  \" fill=\"#afdc2e\" fill-rule=\"evenodd\" fill-opacity=\"0.7\"/>\n<path clip-path=\"url(#clip172)\" d=\"\nM1668.89 342.051 L1641.08 324.676 L1689.25 359.011 L1717.06 376.386  Z\n  \" fill=\"#9dd93a\" fill-rule=\"evenodd\" fill-opacity=\"0.7\"/>\n<path clip-path=\"url(#clip172)\" d=\"\nM1717.06 376.386 L1689.25 359.011 L1737.42 398.581 L1765.24 415.956  Z\n  \" fill=\"#88d547\" fill-rule=\"evenodd\" fill-opacity=\"0.7\"/>\n<path clip-path=\"url(#clip172)\" d=\"\nM1765.24 415.956 L1737.42 398.581 L1785.6 443.384 L1813.41 460.759  Z\n  \" fill=\"#72cf55\" fill-rule=\"evenodd\" fill-opacity=\"0.7\"/>\n<path clip-path=\"url(#clip172)\" d=\"\nM1813.41 460.759 L1785.6 443.384 L1833.77 493.421 L1861.58 510.796  Z\n  \" fill=\"#5bc862\" fill-rule=\"evenodd\" fill-opacity=\"0.7\"/>\n<path clip-path=\"url(#clip172)\" d=\"\nM1861.58 510.796 L1833.77 493.421 L1881.94 548.693 L1909.75 566.067  Z\n  \" fill=\"#44be70\" fill-rule=\"evenodd\" fill-opacity=\"0.7\"/>\n<path clip-path=\"url(#clip172)\" d=\"\nM1909.75 566.067 L1881.94 548.693 L1930.11 609.198 L1957.93 626.573  Z\n  \" fill=\"#2fb37b\" fill-rule=\"evenodd\" fill-opacity=\"0.7\"/>\n<path clip-path=\"url(#clip172)\" d=\"\nM1957.93 626.573 L1930.11 609.198 L1978.29 674.937 L2006.1 692.312  Z\n  \" fill=\"#21a784\" fill-rule=\"evenodd\" fill-opacity=\"0.7\"/>\n<path clip-path=\"url(#clip172)\" d=\"\nM2006.1 692.312 L1978.29 674.937 L2026.46 745.91 L2054.27 763.285  Z\n  \" fill=\"#1e998a\" fill-rule=\"evenodd\" fill-opacity=\"0.7\"/>\n<path clip-path=\"url(#clip172)\" d=\"\nM2054.27 763.285 L2026.46 745.91 L2074.63 822.117 L2102.44 839.492  Z\n  \" fill=\"#22898d\" fill-rule=\"evenodd\" fill-opacity=\"0.7\"/>\n<path clip-path=\"url(#clip172)\" d=\"\nM677.627 737.099 L649.815 724.958 L697.987 654.615 L725.8 666.755  Z\n  \" fill=\"#218e8c\" fill-rule=\"evenodd\" fill-opacity=\"0.7\"/>\n<path clip-path=\"url(#clip172)\" d=\"\nM725.8 666.755 L697.987 654.615 L746.16 589.505 L773.972 601.646  Z\n  \" fill=\"#1e9e88\" fill-rule=\"evenodd\" fill-opacity=\"0.7\"/>\n<path clip-path=\"url(#clip172)\" d=\"\nM773.972 601.646 L746.16 589.505 L794.332 529.629 L822.145 541.77  Z\n  \" fill=\"#26ac81\" fill-rule=\"evenodd\" fill-opacity=\"0.7\"/>\n<path clip-path=\"url(#clip172)\" d=\"\nM822.145 541.77 L794.332 529.629 L842.505 474.987 L870.317 487.128  Z\n  \" fill=\"#38b976\" fill-rule=\"evenodd\" fill-opacity=\"0.7\"/>\n<path clip-path=\"url(#clip172)\" d=\"\nM870.317 487.128 L842.505 474.987 L890.678 425.579 L918.49 437.72  Z\n  \" fill=\"#4fc369\" fill-rule=\"evenodd\" fill-opacity=\"0.7\"/>\n<path clip-path=\"url(#clip172)\" d=\"\nM918.49 437.72 L890.678 425.579 L938.85 381.405 L966.663 393.546  Z\n  \" fill=\"#67cc5c\" fill-rule=\"evenodd\" fill-opacity=\"0.7\"/>\n<path clip-path=\"url(#clip172)\" d=\"\nM966.663 393.546 L938.85 381.405 L987.023 342.465 L1014.84 354.606  Z\n  \" fill=\"#7ed24e\" fill-rule=\"evenodd\" fill-opacity=\"0.7\"/>\n<path clip-path=\"url(#clip172)\" d=\"\nM1014.84 354.606 L987.023 342.465 L1035.2 308.759 L1063.01 320.9  Z\n  \" fill=\"#97d83e\" fill-rule=\"evenodd\" fill-opacity=\"0.7\"/>\n<path clip-path=\"url(#clip172)\" d=\"\nM1063.01 320.9 L1035.2 308.759 L1083.37 280.287 L1111.18 292.428  Z\n  \" fill=\"#aadb32\" fill-rule=\"evenodd\" fill-opacity=\"0.7\"/>\n<path clip-path=\"url(#clip172)\" d=\"\nM1111.18 292.428 L1083.37 280.287 L1131.54 257.049 L1159.35 269.19  Z\n  \" fill=\"#bdde26\" fill-rule=\"evenodd\" fill-opacity=\"0.7\"/>\n<path clip-path=\"url(#clip172)\" d=\"\nM1159.35 269.19 L1131.54 257.049 L1179.71 239.045 L1207.53 251.185  Z\n  \" fill=\"#cde01d\" fill-rule=\"evenodd\" fill-opacity=\"0.7\"/>\n<path clip-path=\"url(#clip172)\" d=\"\nM1207.53 251.185 L1179.71 239.045 L1227.89 226.274 L1255.7 238.415  Z\n  \" fill=\"#d7e219\" fill-rule=\"evenodd\" fill-opacity=\"0.7\"/>\n<path clip-path=\"url(#clip172)\" d=\"\nM1255.7 238.415 L1227.89 226.274 L1276.06 218.738 L1303.87 230.879  Z\n  \" fill=\"#dfe318\" fill-rule=\"evenodd\" fill-opacity=\"0.7\"/>\n<path clip-path=\"url(#clip172)\" d=\"\nM1303.87 230.879 L1276.06 218.738 L1324.23 216.436 L1352.04 228.577  Z\n  \" fill=\"#e4e318\" fill-rule=\"evenodd\" fill-opacity=\"0.7\"/>\n<path clip-path=\"url(#clip172)\" d=\"\nM1352.04 228.577 L1324.23 216.436 L1372.4 219.367 L1400.22 231.508  Z\n  \" fill=\"#e4e318\" fill-rule=\"evenodd\" fill-opacity=\"0.7\"/>\n<path clip-path=\"url(#clip172)\" d=\"\nM1400.22 231.508 L1372.4 219.367 L1420.58 227.533 L1448.39 239.674  Z\n  \" fill=\"#e4e318\" fill-rule=\"evenodd\" fill-opacity=\"0.7\"/>\n<path clip-path=\"url(#clip172)\" d=\"\nM1448.39 239.674 L1420.58 227.533 L1468.75 240.933 L1496.56 253.074  Z\n  \" fill=\"#dfe318\" fill-rule=\"evenodd\" fill-opacity=\"0.7\"/>\n<path clip-path=\"url(#clip172)\" d=\"\nM1496.56 253.074 L1468.75 240.933 L1516.92 259.566 L1544.73 271.707  Z\n  \" fill=\"#d7e219\" fill-rule=\"evenodd\" fill-opacity=\"0.7\"/>\n<path clip-path=\"url(#clip172)\" d=\"\nM1544.73 271.707 L1516.92 259.566 L1565.09 283.434 L1592.91 295.575  Z\n  \" fill=\"#cde01d\" fill-rule=\"evenodd\" fill-opacity=\"0.7\"/>\n<path clip-path=\"url(#clip172)\" d=\"\nM1592.91 295.575 L1565.09 283.434 L1613.27 312.535 L1641.08 324.676  Z\n  \" fill=\"#bdde26\" fill-rule=\"evenodd\" fill-opacity=\"0.7\"/>\n<path clip-path=\"url(#clip172)\" d=\"\nM1641.08 324.676 L1613.27 312.535 L1661.44 346.871 L1689.25 359.011  Z\n  \" fill=\"#aadb32\" fill-rule=\"evenodd\" fill-opacity=\"0.7\"/>\n<path clip-path=\"url(#clip172)\" d=\"\nM1689.25 359.011 L1661.44 346.871 L1709.61 386.44 L1737.42 398.581  Z\n  \" fill=\"#97d83e\" fill-rule=\"evenodd\" fill-opacity=\"0.7\"/>\n<path clip-path=\"url(#clip172)\" d=\"\nM1737.42 398.581 L1709.61 386.44 L1757.78 431.243 L1785.6 443.384  Z\n  \" fill=\"#7ed24e\" fill-rule=\"evenodd\" fill-opacity=\"0.7\"/>\n<path clip-path=\"url(#clip172)\" d=\"\nM1785.6 443.384 L1757.78 431.243 L1805.96 481.281 L1833.77 493.421  Z\n  \" fill=\"#67cc5c\" fill-rule=\"evenodd\" fill-opacity=\"0.7\"/>\n<path clip-path=\"url(#clip172)\" d=\"\nM1833.77 493.421 L1805.96 481.281 L1854.13 536.552 L1881.94 548.693  Z\n  \" fill=\"#4fc369\" fill-rule=\"evenodd\" fill-opacity=\"0.7\"/>\n<path clip-path=\"url(#clip172)\" d=\"\nM1881.94 548.693 L1854.13 536.552 L1902.3 597.057 L1930.11 609.198  Z\n  \" fill=\"#38b976\" fill-rule=\"evenodd\" fill-opacity=\"0.7\"/>\n<path clip-path=\"url(#clip172)\" d=\"\nM1930.11 609.198 L1902.3 597.057 L1950.47 662.796 L1978.29 674.937  Z\n  \" fill=\"#26ac81\" fill-rule=\"evenodd\" fill-opacity=\"0.7\"/>\n<path clip-path=\"url(#clip172)\" d=\"\nM1978.29 674.937 L1950.47 662.796 L1998.65 733.769 L2026.46 745.91  Z\n  \" fill=\"#1e9e88\" fill-rule=\"evenodd\" fill-opacity=\"0.7\"/>\n<path clip-path=\"url(#clip172)\" d=\"\nM2026.46 745.91 L1998.65 733.769 L2046.82 809.976 L2074.63 822.117  Z\n  \" fill=\"#218e8c\" fill-rule=\"evenodd\" fill-opacity=\"0.7\"/>\n<path clip-path=\"url(#clip172)\" d=\"\nM649.815 724.958 L622.002 718.051 L670.175 647.708 L697.987 654.615  Z\n  \" fill=\"#1f938b\" fill-rule=\"evenodd\" fill-opacity=\"0.7\"/>\n<path clip-path=\"url(#clip172)\" d=\"\nM697.987 654.615 L670.175 647.708 L718.347 582.598 L746.16 589.505  Z\n  \" fill=\"#1fa286\" fill-rule=\"evenodd\" fill-opacity=\"0.7\"/>\n<path clip-path=\"url(#clip172)\" d=\"\nM746.16 589.505 L718.347 582.598 L766.52 522.722 L794.332 529.629  Z\n  \" fill=\"#2ab07e\" fill-rule=\"evenodd\" fill-opacity=\"0.7\"/>\n<path clip-path=\"url(#clip172)\" d=\"\nM794.332 529.629 L766.52 522.722 L814.693 468.08 L842.505 474.987  Z\n  \" fill=\"#3ebc73\" fill-rule=\"evenodd\" fill-opacity=\"0.7\"/>\n<path clip-path=\"url(#clip172)\" d=\"\nM842.505 474.987 L814.693 468.08 L862.865 418.672 L890.678 425.579  Z\n  \" fill=\"#57c665\" fill-rule=\"evenodd\" fill-opacity=\"0.7\"/>\n<path clip-path=\"url(#clip172)\" d=\"\nM890.678 425.579 L862.865 418.672 L911.038 374.498 L938.85 381.405  Z\n  \" fill=\"#70ce56\" fill-rule=\"evenodd\" fill-opacity=\"0.7\"/>\n<path clip-path=\"url(#clip172)\" d=\"\nM938.85 381.405 L911.038 374.498 L959.21 335.558 L987.023 342.465  Z\n  \" fill=\"#8bd546\" fill-rule=\"evenodd\" fill-opacity=\"0.7\"/>\n<path clip-path=\"url(#clip172)\" d=\"\nM987.023 342.465 L959.21 335.558 L1007.38 301.852 L1035.2 308.759  Z\n  \" fill=\"#a2da37\" fill-rule=\"evenodd\" fill-opacity=\"0.7\"/>\n<path clip-path=\"url(#clip172)\" d=\"\nM1035.2 308.759 L1007.38 301.852 L1055.56 273.38 L1083.37 280.287  Z\n  \" fill=\"#b7dd29\" fill-rule=\"evenodd\" fill-opacity=\"0.7\"/>\n<path clip-path=\"url(#clip172)\" d=\"\nM1083.37 280.287 L1055.56 273.38 L1103.73 250.142 L1131.54 257.049  Z\n  \" fill=\"#c7e01f\" fill-rule=\"evenodd\" fill-opacity=\"0.7\"/>\n<path clip-path=\"url(#clip172)\" d=\"\nM1131.54 257.049 L1103.73 250.142 L1151.9 232.138 L1179.71 239.045  Z\n  \" fill=\"#d7e219\" fill-rule=\"evenodd\" fill-opacity=\"0.7\"/>\n<path clip-path=\"url(#clip172)\" d=\"\nM1179.71 239.045 L1151.9 232.138 L1200.07 219.367 L1227.89 226.274  Z\n  \" fill=\"#e1e318\" fill-rule=\"evenodd\" fill-opacity=\"0.7\"/>\n<path clip-path=\"url(#clip172)\" d=\"\nM1227.89 226.274 L1200.07 219.367 L1248.25 211.831 L1276.06 218.738  Z\n  \" fill=\"#e9e419\" fill-rule=\"evenodd\" fill-opacity=\"0.7\"/>\n<path clip-path=\"url(#clip172)\" d=\"\nM1276.06 218.738 L1248.25 211.831 L1296.42 209.529 L1324.23 216.436  Z\n  \" fill=\"#eee51b\" fill-rule=\"evenodd\" fill-opacity=\"0.7\"/>\n<path clip-path=\"url(#clip172)\" d=\"\nM1324.23 216.436 L1296.42 209.529 L1344.59 212.461 L1372.4 219.367  Z\n  \" fill=\"#f1e51c\" fill-rule=\"evenodd\" fill-opacity=\"0.7\"/>\n<path clip-path=\"url(#clip172)\" d=\"\nM1372.4 219.367 L1344.59 212.461 L1392.76 220.626 L1420.58 227.533  Z\n  \" fill=\"#eee51b\" fill-rule=\"evenodd\" fill-opacity=\"0.7\"/>\n<path clip-path=\"url(#clip172)\" d=\"\nM1420.58 227.533 L1392.76 220.626 L1440.94 234.026 L1468.75 240.933  Z\n  \" fill=\"#e9e419\" fill-rule=\"evenodd\" fill-opacity=\"0.7\"/>\n<path clip-path=\"url(#clip172)\" d=\"\nM1468.75 240.933 L1440.94 234.026 L1489.11 252.659 L1516.92 259.566  Z\n  \" fill=\"#e1e318\" fill-rule=\"evenodd\" fill-opacity=\"0.7\"/>\n<path clip-path=\"url(#clip172)\" d=\"\nM1516.92 259.566 L1489.11 252.659 L1537.28 276.527 L1565.09 283.434  Z\n  \" fill=\"#d7e219\" fill-rule=\"evenodd\" fill-opacity=\"0.7\"/>\n<path clip-path=\"url(#clip172)\" d=\"\nM1565.09 283.434 L1537.28 276.527 L1585.45 305.628 L1613.27 312.535  Z\n  \" fill=\"#c7e01f\" fill-rule=\"evenodd\" fill-opacity=\"0.7\"/>\n<path clip-path=\"url(#clip172)\" d=\"\nM1613.27 312.535 L1585.45 305.628 L1633.63 339.964 L1661.44 346.871  Z\n  \" fill=\"#b7dd29\" fill-rule=\"evenodd\" fill-opacity=\"0.7\"/>\n<path clip-path=\"url(#clip172)\" d=\"\nM1661.44 346.871 L1633.63 339.964 L1681.8 379.533 L1709.61 386.44  Z\n  \" fill=\"#a2da37\" fill-rule=\"evenodd\" fill-opacity=\"0.7\"/>\n<path clip-path=\"url(#clip172)\" d=\"\nM1709.61 386.44 L1681.8 379.533 L1729.97 424.336 L1757.78 431.243  Z\n  \" fill=\"#8bd546\" fill-rule=\"evenodd\" fill-opacity=\"0.7\"/>\n<path clip-path=\"url(#clip172)\" d=\"\nM1757.78 431.243 L1729.97 424.336 L1778.14 474.374 L1805.96 481.281  Z\n  \" fill=\"#70ce56\" fill-rule=\"evenodd\" fill-opacity=\"0.7\"/>\n<path clip-path=\"url(#clip172)\" d=\"\nM1805.96 481.281 L1778.14 474.374 L1826.32 529.645 L1854.13 536.552  Z\n  \" fill=\"#57c665\" fill-rule=\"evenodd\" fill-opacity=\"0.7\"/>\n<path clip-path=\"url(#clip172)\" d=\"\nM1854.13 536.552 L1826.32 529.645 L1874.49 590.15 L1902.3 597.057  Z\n  \" fill=\"#3ebc73\" fill-rule=\"evenodd\" fill-opacity=\"0.7\"/>\n<path clip-path=\"url(#clip172)\" d=\"\nM1902.3 597.057 L1874.49 590.15 L1922.66 655.889 L1950.47 662.796  Z\n  \" fill=\"#2ab07e\" fill-rule=\"evenodd\" fill-opacity=\"0.7\"/>\n<path clip-path=\"url(#clip172)\" d=\"\nM1950.47 662.796 L1922.66 655.889 L1970.83 726.862 L1998.65 733.769  Z\n  \" fill=\"#1fa286\" fill-rule=\"evenodd\" fill-opacity=\"0.7\"/>\n<path clip-path=\"url(#clip172)\" d=\"\nM1998.65 733.769 L1970.83 726.862 L2019.01 803.069 L2046.82 809.976  Z\n  \" fill=\"#1f938b\" fill-rule=\"evenodd\" fill-opacity=\"0.7\"/>\n<path clip-path=\"url(#clip172)\" d=\"\nM622.002 718.051 L594.19 716.378 L642.362 646.035 L670.175 647.708  Z\n  \" fill=\"#1f968b\" fill-rule=\"evenodd\" fill-opacity=\"0.7\"/>\n<path clip-path=\"url(#clip172)\" d=\"\nM670.175 647.708 L642.362 646.035 L690.535 580.925 L718.347 582.598  Z\n  \" fill=\"#20a585\" fill-rule=\"evenodd\" fill-opacity=\"0.7\"/>\n<path clip-path=\"url(#clip172)\" d=\"\nM718.347 582.598 L690.535 580.925 L738.708 521.049 L766.52 522.722  Z\n  \" fill=\"#2eb27c\" fill-rule=\"evenodd\" fill-opacity=\"0.7\"/>\n<path clip-path=\"url(#clip172)\" d=\"\nM766.52 522.722 L738.708 521.049 L786.88 466.407 L814.693 468.08  Z\n  \" fill=\"#44be70\" fill-rule=\"evenodd\" fill-opacity=\"0.7\"/>\n<path clip-path=\"url(#clip172)\" d=\"\nM814.693 468.08 L786.88 466.407 L835.053 416.999 L862.865 418.672  Z\n  \" fill=\"#5ec961\" fill-rule=\"evenodd\" fill-opacity=\"0.7\"/>\n<path clip-path=\"url(#clip172)\" d=\"\nM862.865 418.672 L835.053 416.999 L883.225 372.825 L911.038 374.498  Z\n  \" fill=\"#77d052\" fill-rule=\"evenodd\" fill-opacity=\"0.7\"/>\n<path clip-path=\"url(#clip172)\" d=\"\nM911.038 374.498 L883.225 372.825 L931.398 333.885 L959.21 335.558  Z\n  \" fill=\"#92d741\" fill-rule=\"evenodd\" fill-opacity=\"0.7\"/>\n<path clip-path=\"url(#clip172)\" d=\"\nM959.21 335.558 L931.398 333.885 L979.57 300.179 L1007.38 301.852  Z\n  \" fill=\"#aadb32\" fill-rule=\"evenodd\" fill-opacity=\"0.7\"/>\n<path clip-path=\"url(#clip172)\" d=\"\nM1007.38 301.852 L979.57 300.179 L1027.74 271.707 L1055.56 273.38  Z\n  \" fill=\"#bfdf24\" fill-rule=\"evenodd\" fill-opacity=\"0.7\"/>\n<path clip-path=\"url(#clip172)\" d=\"\nM1055.56 273.38 L1027.74 271.707 L1075.92 248.469 L1103.73 250.142  Z\n  \" fill=\"#cfe11c\" fill-rule=\"evenodd\" fill-opacity=\"0.7\"/>\n<path clip-path=\"url(#clip172)\" d=\"\nM1103.73 250.142 L1075.92 248.469 L1124.09 230.465 L1151.9 232.138  Z\n  \" fill=\"#dfe318\" fill-rule=\"evenodd\" fill-opacity=\"0.7\"/>\n<path clip-path=\"url(#clip172)\" d=\"\nM1151.9 232.138 L1124.09 230.465 L1172.26 217.695 L1200.07 219.367  Z\n  \" fill=\"#e9e419\" fill-rule=\"evenodd\" fill-opacity=\"0.7\"/>\n<path clip-path=\"url(#clip172)\" d=\"\nM1200.07 219.367 L1172.26 217.695 L1220.43 210.158 L1248.25 211.831  Z\n  \" fill=\"#f1e51c\" fill-rule=\"evenodd\" fill-opacity=\"0.7\"/>\n<path clip-path=\"url(#clip172)\" d=\"\nM1248.25 211.831 L1220.43 210.158 L1268.61 207.856 L1296.42 209.529  Z\n  \" fill=\"#f6e61f\" fill-rule=\"evenodd\" fill-opacity=\"0.7\"/>\n<path clip-path=\"url(#clip172)\" d=\"\nM1296.42 209.529 L1268.61 207.856 L1316.78 210.788 L1344.59 212.461  Z\n  \" fill=\"#f8e621\" fill-rule=\"evenodd\" fill-opacity=\"0.7\"/>\n<path clip-path=\"url(#clip172)\" d=\"\nM1344.59 212.461 L1316.78 210.788 L1364.95 218.953 L1392.76 220.626  Z\n  \" fill=\"#f6e61f\" fill-rule=\"evenodd\" fill-opacity=\"0.7\"/>\n<path clip-path=\"url(#clip172)\" d=\"\nM1392.76 220.626 L1364.95 218.953 L1413.12 232.353 L1440.94 234.026  Z\n  \" fill=\"#f1e51c\" fill-rule=\"evenodd\" fill-opacity=\"0.7\"/>\n<path clip-path=\"url(#clip172)\" d=\"\nM1440.94 234.026 L1413.12 232.353 L1461.3 250.986 L1489.11 252.659  Z\n  \" fill=\"#e9e419\" fill-rule=\"evenodd\" fill-opacity=\"0.7\"/>\n<path clip-path=\"url(#clip172)\" d=\"\nM1489.11 252.659 L1461.3 250.986 L1509.47 274.854 L1537.28 276.527  Z\n  \" fill=\"#dfe318\" fill-rule=\"evenodd\" fill-opacity=\"0.7\"/>\n<path clip-path=\"url(#clip172)\" d=\"\nM1537.28 276.527 L1509.47 274.854 L1557.64 303.955 L1585.45 305.628  Z\n  \" fill=\"#cfe11c\" fill-rule=\"evenodd\" fill-opacity=\"0.7\"/>\n<path clip-path=\"url(#clip172)\" d=\"\nM1585.45 305.628 L1557.64 303.955 L1605.81 338.291 L1633.63 339.964  Z\n  \" fill=\"#bfdf24\" fill-rule=\"evenodd\" fill-opacity=\"0.7\"/>\n<path clip-path=\"url(#clip172)\" d=\"\nM1633.63 339.964 L1605.81 338.291 L1653.99 377.86 L1681.8 379.533  Z\n  \" fill=\"#aadb32\" fill-rule=\"evenodd\" fill-opacity=\"0.7\"/>\n<path clip-path=\"url(#clip172)\" d=\"\nM1681.8 379.533 L1653.99 377.86 L1702.16 422.663 L1729.97 424.336  Z\n  \" fill=\"#92d741\" fill-rule=\"evenodd\" fill-opacity=\"0.7\"/>\n<path clip-path=\"url(#clip172)\" d=\"\nM1729.97 424.336 L1702.16 422.663 L1750.33 472.701 L1778.14 474.374  Z\n  \" fill=\"#77d052\" fill-rule=\"evenodd\" fill-opacity=\"0.7\"/>\n<path clip-path=\"url(#clip172)\" d=\"\nM1778.14 474.374 L1750.33 472.701 L1798.5 527.972 L1826.32 529.645  Z\n  \" fill=\"#5ec961\" fill-rule=\"evenodd\" fill-opacity=\"0.7\"/>\n<path clip-path=\"url(#clip172)\" d=\"\nM1826.32 529.645 L1798.5 527.972 L1846.68 588.477 L1874.49 590.15  Z\n  \" fill=\"#44be70\" fill-rule=\"evenodd\" fill-opacity=\"0.7\"/>\n<path clip-path=\"url(#clip172)\" d=\"\nM1874.49 590.15 L1846.68 588.477 L1894.85 654.216 L1922.66 655.889  Z\n  \" fill=\"#2eb27c\" fill-rule=\"evenodd\" fill-opacity=\"0.7\"/>\n<path clip-path=\"url(#clip172)\" d=\"\nM1922.66 655.889 L1894.85 654.216 L1943.02 725.189 L1970.83 726.862  Z\n  \" fill=\"#20a585\" fill-rule=\"evenodd\" fill-opacity=\"0.7\"/>\n<path clip-path=\"url(#clip172)\" d=\"\nM1970.83 726.862 L1943.02 725.189 L1991.19 801.397 L2019.01 803.069  Z\n  \" fill=\"#1f968b\" fill-rule=\"evenodd\" fill-opacity=\"0.7\"/>\n<path clip-path=\"url(#clip172)\" d=\"\nM594.19 716.378 L566.377 719.939 L614.55 649.596 L642.362 646.035  Z\n  \" fill=\"#1e978a\" fill-rule=\"evenodd\" fill-opacity=\"0.7\"/>\n<path clip-path=\"url(#clip172)\" d=\"\nM642.362 646.035 L614.55 649.596 L662.723 584.486 L690.535 580.925  Z\n  \" fill=\"#21a784\" fill-rule=\"evenodd\" fill-opacity=\"0.7\"/>\n<path clip-path=\"url(#clip172)\" d=\"\nM690.535 580.925 L662.723 584.486 L710.895 524.61 L738.708 521.049  Z\n  \" fill=\"#30b47a\" fill-rule=\"evenodd\" fill-opacity=\"0.7\"/>\n<path clip-path=\"url(#clip172)\" d=\"\nM738.708 521.049 L710.895 524.61 L759.068 469.968 L786.88 466.407  Z\n  \" fill=\"#47c06e\" fill-rule=\"evenodd\" fill-opacity=\"0.7\"/>\n<path clip-path=\"url(#clip172)\" d=\"\nM786.88 466.407 L759.068 469.968 L807.24 420.56 L835.053 416.999  Z\n  \" fill=\"#62ca5f\" fill-rule=\"evenodd\" fill-opacity=\"0.7\"/>\n<path clip-path=\"url(#clip172)\" d=\"\nM835.053 416.999 L807.24 420.56 L855.413 376.386 L883.225 372.825  Z\n  \" fill=\"#7cd24f\" fill-rule=\"evenodd\" fill-opacity=\"0.7\"/>\n<path clip-path=\"url(#clip172)\" d=\"\nM883.225 372.825 L855.413 376.386 L903.585 337.446 L931.398 333.885  Z\n  \" fill=\"#97d83e\" fill-rule=\"evenodd\" fill-opacity=\"0.7\"/>\n<path clip-path=\"url(#clip172)\" d=\"\nM931.398 333.885 L903.585 337.446 L951.758 303.74 L979.57 300.179  Z\n  \" fill=\"#afdc2e\" fill-rule=\"evenodd\" fill-opacity=\"0.7\"/>\n<path clip-path=\"url(#clip172)\" d=\"\nM979.57 300.179 L951.758 303.74 L999.931 275.268 L1027.74 271.707  Z\n  \" fill=\"#c5df21\" fill-rule=\"evenodd\" fill-opacity=\"0.7\"/>\n<path clip-path=\"url(#clip172)\" d=\"\nM1027.74 271.707 L999.931 275.268 L1048.1 252.03 L1075.92 248.469  Z\n  \" fill=\"#d4e11a\" fill-rule=\"evenodd\" fill-opacity=\"0.7\"/>\n<path clip-path=\"url(#clip172)\" d=\"\nM1075.92 248.469 L1048.1 252.03 L1096.28 234.026 L1124.09 230.465  Z\n  \" fill=\"#e4e318\" fill-rule=\"evenodd\" fill-opacity=\"0.7\"/>\n<path clip-path=\"url(#clip172)\" d=\"\nM1124.09 230.465 L1096.28 234.026 L1144.45 221.256 L1172.26 217.695  Z\n  \" fill=\"#eee51b\" fill-rule=\"evenodd\" fill-opacity=\"0.7\"/>\n<path clip-path=\"url(#clip172)\" d=\"\nM1172.26 217.695 L1144.45 221.256 L1192.62 213.719 L1220.43 210.158  Z\n  \" fill=\"#f6e61f\" fill-rule=\"evenodd\" fill-opacity=\"0.7\"/>\n<path clip-path=\"url(#clip172)\" d=\"\nM1220.43 210.158 L1192.62 213.719 L1240.79 211.417 L1268.61 207.856  Z\n  \" fill=\"#fae622\" fill-rule=\"evenodd\" fill-opacity=\"0.7\"/>\n<path clip-path=\"url(#clip172)\" d=\"\nM1268.61 207.856 L1240.79 211.417 L1288.97 214.349 L1316.78 210.788  Z\n  \" fill=\"#fae622\" fill-rule=\"evenodd\" fill-opacity=\"0.7\"/>\n<path clip-path=\"url(#clip172)\" d=\"\nM1316.78 210.788 L1288.97 214.349 L1337.14 222.514 L1364.95 218.953  Z\n  \" fill=\"#fae622\" fill-rule=\"evenodd\" fill-opacity=\"0.7\"/>\n<path clip-path=\"url(#clip172)\" d=\"\nM1364.95 218.953 L1337.14 222.514 L1385.31 235.914 L1413.12 232.353  Z\n  \" fill=\"#f6e61f\" fill-rule=\"evenodd\" fill-opacity=\"0.7\"/>\n<path clip-path=\"url(#clip172)\" d=\"\nM1413.12 232.353 L1385.31 235.914 L1433.48 254.547 L1461.3 250.986  Z\n  \" fill=\"#eee51b\" fill-rule=\"evenodd\" fill-opacity=\"0.7\"/>\n<path clip-path=\"url(#clip172)\" d=\"\nM1461.3 250.986 L1433.48 254.547 L1481.66 278.415 L1509.47 274.854  Z\n  \" fill=\"#e4e318\" fill-rule=\"evenodd\" fill-opacity=\"0.7\"/>\n<path clip-path=\"url(#clip172)\" d=\"\nM1509.47 274.854 L1481.66 278.415 L1529.83 307.516 L1557.64 303.955  Z\n  \" fill=\"#d4e11a\" fill-rule=\"evenodd\" fill-opacity=\"0.7\"/>\n<path clip-path=\"url(#clip172)\" d=\"\nM1557.64 303.955 L1529.83 307.516 L1578 341.852 L1605.81 338.291  Z\n  \" fill=\"#c5df21\" fill-rule=\"evenodd\" fill-opacity=\"0.7\"/>\n<path clip-path=\"url(#clip172)\" d=\"\nM1605.81 338.291 L1578 341.852 L1626.17 381.421 L1653.99 377.86  Z\n  \" fill=\"#afdc2e\" fill-rule=\"evenodd\" fill-opacity=\"0.7\"/>\n<path clip-path=\"url(#clip172)\" d=\"\nM1653.99 377.86 L1626.17 381.421 L1674.35 426.224 L1702.16 422.663  Z\n  \" fill=\"#97d83e\" fill-rule=\"evenodd\" fill-opacity=\"0.7\"/>\n<path clip-path=\"url(#clip172)\" d=\"\nM1702.16 422.663 L1674.35 426.224 L1722.52 476.262 L1750.33 472.701  Z\n  \" fill=\"#7cd24f\" fill-rule=\"evenodd\" fill-opacity=\"0.7\"/>\n<path clip-path=\"url(#clip172)\" d=\"\nM1750.33 472.701 L1722.52 476.262 L1770.69 531.533 L1798.5 527.972  Z\n  \" fill=\"#62ca5f\" fill-rule=\"evenodd\" fill-opacity=\"0.7\"/>\n<path clip-path=\"url(#clip172)\" d=\"\nM1798.5 527.972 L1770.69 531.533 L1818.86 592.038 L1846.68 588.477  Z\n  \" fill=\"#47c06e\" fill-rule=\"evenodd\" fill-opacity=\"0.7\"/>\n<path clip-path=\"url(#clip172)\" d=\"\nM1846.68 588.477 L1818.86 592.038 L1867.04 657.777 L1894.85 654.216  Z\n  \" fill=\"#30b47a\" fill-rule=\"evenodd\" fill-opacity=\"0.7\"/>\n<path clip-path=\"url(#clip172)\" d=\"\nM1894.85 654.216 L1867.04 657.777 L1915.21 728.75 L1943.02 725.189  Z\n  \" fill=\"#21a784\" fill-rule=\"evenodd\" fill-opacity=\"0.7\"/>\n<path clip-path=\"url(#clip172)\" d=\"\nM1943.02 725.189 L1915.21 728.75 L1963.38 804.958 L1991.19 801.397  Z\n  \" fill=\"#1e978a\" fill-rule=\"evenodd\" fill-opacity=\"0.7\"/>\n<path clip-path=\"url(#clip172)\" d=\"\nM566.377 719.939 L538.565 728.734 L586.738 658.391 L614.55 649.596  Z\n  \" fill=\"#1e988a\" fill-rule=\"evenodd\" fill-opacity=\"0.7\"/>\n<path clip-path=\"url(#clip172)\" d=\"\nM614.55 649.596 L586.738 658.391 L634.91 593.281 L662.723 584.486  Z\n  \" fill=\"#21a784\" fill-rule=\"evenodd\" fill-opacity=\"0.7\"/>\n<path clip-path=\"url(#clip172)\" d=\"\nM662.723 584.486 L634.91 593.281 L683.083 533.405 L710.895 524.61  Z\n  \" fill=\"#32b57a\" fill-rule=\"evenodd\" fill-opacity=\"0.7\"/>\n<path clip-path=\"url(#clip172)\" d=\"\nM710.895 524.61 L683.083 533.405 L731.255 478.763 L759.068 469.968  Z\n  \" fill=\"#49c16d\" fill-rule=\"evenodd\" fill-opacity=\"0.7\"/>\n<path clip-path=\"url(#clip172)\" d=\"\nM759.068 469.968 L731.255 478.763 L779.428 429.355 L807.24 420.56  Z\n  \" fill=\"#62ca5f\" fill-rule=\"evenodd\" fill-opacity=\"0.7\"/>\n<path clip-path=\"url(#clip172)\" d=\"\nM807.24 420.56 L779.428 429.355 L827.6 385.181 L855.413 376.386  Z\n  \" fill=\"#7ed24e\" fill-rule=\"evenodd\" fill-opacity=\"0.7\"/>\n<path clip-path=\"url(#clip172)\" d=\"\nM855.413 376.386 L827.6 385.181 L875.773 346.241 L903.585 337.446  Z\n  \" fill=\"#97d83e\" fill-rule=\"evenodd\" fill-opacity=\"0.7\"/>\n<path clip-path=\"url(#clip172)\" d=\"\nM903.585 337.446 L875.773 346.241 L923.946 312.535 L951.758 303.74  Z\n  \" fill=\"#afdc2e\" fill-rule=\"evenodd\" fill-opacity=\"0.7\"/>\n<path clip-path=\"url(#clip172)\" d=\"\nM951.758 303.74 L923.946 312.535 L972.118 284.063 L999.931 275.268  Z\n  \" fill=\"#c5df21\" fill-rule=\"evenodd\" fill-opacity=\"0.7\"/>\n<path clip-path=\"url(#clip172)\" d=\"\nM999.931 275.268 L972.118 284.063 L1020.29 260.825 L1048.1 252.03  Z\n  \" fill=\"#d7e219\" fill-rule=\"evenodd\" fill-opacity=\"0.7\"/>\n<path clip-path=\"url(#clip172)\" d=\"\nM1048.1 252.03 L1020.29 260.825 L1068.46 242.821 L1096.28 234.026  Z\n  \" fill=\"#e4e318\" fill-rule=\"evenodd\" fill-opacity=\"0.7\"/>\n<path clip-path=\"url(#clip172)\" d=\"\nM1096.28 234.026 L1068.46 242.821 L1116.64 230.051 L1144.45 221.256  Z\n  \" fill=\"#f1e51c\" fill-rule=\"evenodd\" fill-opacity=\"0.7\"/>\n<path clip-path=\"url(#clip172)\" d=\"\nM1144.45 221.256 L1116.64 230.051 L1164.81 222.514 L1192.62 213.719  Z\n  \" fill=\"#f8e621\" fill-rule=\"evenodd\" fill-opacity=\"0.7\"/>\n<path clip-path=\"url(#clip172)\" d=\"\nM1192.62 213.719 L1164.81 222.514 L1212.98 220.212 L1240.79 211.417  Z\n  \" fill=\"#fae622\" fill-rule=\"evenodd\" fill-opacity=\"0.7\"/>\n<path clip-path=\"url(#clip172)\" d=\"\nM1240.79 211.417 L1212.98 220.212 L1261.15 223.144 L1288.97 214.349  Z\n  \" fill=\"#fde724\" fill-rule=\"evenodd\" fill-opacity=\"0.7\"/>\n<path clip-path=\"url(#clip172)\" d=\"\nM1288.97 214.349 L1261.15 223.144 L1309.33 231.309 L1337.14 222.514  Z\n  \" fill=\"#fae622\" fill-rule=\"evenodd\" fill-opacity=\"0.7\"/>\n<path clip-path=\"url(#clip172)\" d=\"\nM1337.14 222.514 L1309.33 231.309 L1357.5 244.709 L1385.31 235.914  Z\n  \" fill=\"#f8e621\" fill-rule=\"evenodd\" fill-opacity=\"0.7\"/>\n<path clip-path=\"url(#clip172)\" d=\"\nM1385.31 235.914 L1357.5 244.709 L1405.67 263.342 L1433.48 254.547  Z\n  \" fill=\"#f1e51c\" fill-rule=\"evenodd\" fill-opacity=\"0.7\"/>\n<path clip-path=\"url(#clip172)\" d=\"\nM1433.48 254.547 L1405.67 263.342 L1453.84 287.21 L1481.66 278.415  Z\n  \" fill=\"#e4e318\" fill-rule=\"evenodd\" fill-opacity=\"0.7\"/>\n<path clip-path=\"url(#clip172)\" d=\"\nM1481.66 278.415 L1453.84 287.21 L1502.02 316.311 L1529.83 307.516  Z\n  \" fill=\"#d7e219\" fill-rule=\"evenodd\" fill-opacity=\"0.7\"/>\n<path clip-path=\"url(#clip172)\" d=\"\nM1529.83 307.516 L1502.02 316.311 L1550.19 350.647 L1578 341.852  Z\n  \" fill=\"#c5df21\" fill-rule=\"evenodd\" fill-opacity=\"0.7\"/>\n<path clip-path=\"url(#clip172)\" d=\"\nM1578 341.852 L1550.19 350.647 L1598.36 390.216 L1626.17 381.421  Z\n  \" fill=\"#afdc2e\" fill-rule=\"evenodd\" fill-opacity=\"0.7\"/>\n<path clip-path=\"url(#clip172)\" d=\"\nM1626.17 381.421 L1598.36 390.216 L1646.53 435.019 L1674.35 426.224  Z\n  \" fill=\"#97d83e\" fill-rule=\"evenodd\" fill-opacity=\"0.7\"/>\n<path clip-path=\"url(#clip172)\" d=\"\nM1674.35 426.224 L1646.53 435.019 L1694.71 485.057 L1722.52 476.262  Z\n  \" fill=\"#7ed24e\" fill-rule=\"evenodd\" fill-opacity=\"0.7\"/>\n<path clip-path=\"url(#clip172)\" d=\"\nM1722.52 476.262 L1694.71 485.057 L1742.88 540.328 L1770.69 531.533  Z\n  \" fill=\"#62ca5f\" fill-rule=\"evenodd\" fill-opacity=\"0.7\"/>\n<path clip-path=\"url(#clip172)\" d=\"\nM1770.69 531.533 L1742.88 540.328 L1791.05 600.833 L1818.86 592.038  Z\n  \" fill=\"#49c16d\" fill-rule=\"evenodd\" fill-opacity=\"0.7\"/>\n<path clip-path=\"url(#clip172)\" d=\"\nM1818.86 592.038 L1791.05 600.833 L1839.22 666.572 L1867.04 657.777  Z\n  \" fill=\"#32b57a\" fill-rule=\"evenodd\" fill-opacity=\"0.7\"/>\n<path clip-path=\"url(#clip172)\" d=\"\nM1867.04 657.777 L1839.22 666.572 L1887.4 737.545 L1915.21 728.75  Z\n  \" fill=\"#21a784\" fill-rule=\"evenodd\" fill-opacity=\"0.7\"/>\n<path clip-path=\"url(#clip172)\" d=\"\nM1915.21 728.75 L1887.4 737.545 L1935.57 813.753 L1963.38 804.958  Z\n  \" fill=\"#1e988a\" fill-rule=\"evenodd\" fill-opacity=\"0.7\"/>\n<path clip-path=\"url(#clip172)\" d=\"\nM538.565 728.734 L510.753 742.763 L558.925 672.42 L586.738 658.391  Z\n  \" fill=\"#1e978a\" fill-rule=\"evenodd\" fill-opacity=\"0.7\"/>\n<path clip-path=\"url(#clip172)\" d=\"\nM586.738 658.391 L558.925 672.42 L607.098 607.31 L634.91 593.281  Z\n  \" fill=\"#21a784\" fill-rule=\"evenodd\" fill-opacity=\"0.7\"/>\n<path clip-path=\"url(#clip172)\" d=\"\nM634.91 593.281 L607.098 607.31 L655.27 547.434 L683.083 533.405  Z\n  \" fill=\"#30b47a\" fill-rule=\"evenodd\" fill-opacity=\"0.7\"/>\n<path clip-path=\"url(#clip172)\" d=\"\nM683.083 533.405 L655.27 547.434 L703.443 492.792 L731.255 478.763  Z\n  \" fill=\"#47c06e\" fill-rule=\"evenodd\" fill-opacity=\"0.7\"/>\n<path clip-path=\"url(#clip172)\" d=\"\nM731.255 478.763 L703.443 492.792 L751.615 443.384 L779.428 429.355  Z\n  \" fill=\"#62ca5f\" fill-rule=\"evenodd\" fill-opacity=\"0.7\"/>\n<path clip-path=\"url(#clip172)\" d=\"\nM779.428 429.355 L751.615 443.384 L799.788 399.21 L827.6 385.181  Z\n  \" fill=\"#7cd24f\" fill-rule=\"evenodd\" fill-opacity=\"0.7\"/>\n<path clip-path=\"url(#clip172)\" d=\"\nM827.6 385.181 L799.788 399.21 L847.961 360.27 L875.773 346.241  Z\n  \" fill=\"#97d83e\" fill-rule=\"evenodd\" fill-opacity=\"0.7\"/>\n<path clip-path=\"url(#clip172)\" d=\"\nM875.773 346.241 L847.961 360.27 L896.133 326.564 L923.946 312.535  Z\n  \" fill=\"#afdc2e\" fill-rule=\"evenodd\" fill-opacity=\"0.7\"/>\n<path clip-path=\"url(#clip172)\" d=\"\nM923.946 312.535 L896.133 326.564 L944.306 298.092 L972.118 284.063  Z\n  \" fill=\"#c5df21\" fill-rule=\"evenodd\" fill-opacity=\"0.7\"/>\n<path clip-path=\"url(#clip172)\" d=\"\nM972.118 284.063 L944.306 298.092 L992.478 274.854 L1020.29 260.825  Z\n  \" fill=\"#d4e11a\" fill-rule=\"evenodd\" fill-opacity=\"0.7\"/>\n<path clip-path=\"url(#clip172)\" d=\"\nM1020.29 260.825 L992.478 274.854 L1040.65 256.85 L1068.46 242.821  Z\n  \" fill=\"#e4e318\" fill-rule=\"evenodd\" fill-opacity=\"0.7\"/>\n<path clip-path=\"url(#clip172)\" d=\"\nM1068.46 242.821 L1040.65 256.85 L1088.82 244.079 L1116.64 230.051  Z\n  \" fill=\"#eee51b\" fill-rule=\"evenodd\" fill-opacity=\"0.7\"/>\n<path clip-path=\"url(#clip172)\" d=\"\nM1116.64 230.051 L1088.82 244.079 L1137 236.543 L1164.81 222.514  Z\n  \" fill=\"#f6e61f\" fill-rule=\"evenodd\" fill-opacity=\"0.7\"/>\n<path clip-path=\"url(#clip172)\" d=\"\nM1164.81 222.514 L1137 236.543 L1185.17 234.241 L1212.98 220.212  Z\n  \" fill=\"#fae622\" fill-rule=\"evenodd\" fill-opacity=\"0.7\"/>\n<path clip-path=\"url(#clip172)\" d=\"\nM1212.98 220.212 L1185.17 234.241 L1233.34 237.173 L1261.15 223.144  Z\n  \" fill=\"#fae622\" fill-rule=\"evenodd\" fill-opacity=\"0.7\"/>\n<path clip-path=\"url(#clip172)\" d=\"\nM1261.15 223.144 L1233.34 237.173 L1281.51 245.338 L1309.33 231.309  Z\n  \" fill=\"#fae622\" fill-rule=\"evenodd\" fill-opacity=\"0.7\"/>\n<path clip-path=\"url(#clip172)\" d=\"\nM1309.33 231.309 L1281.51 245.338 L1329.69 258.738 L1357.5 244.709  Z\n  \" fill=\"#f6e61f\" fill-rule=\"evenodd\" fill-opacity=\"0.7\"/>\n<path clip-path=\"url(#clip172)\" d=\"\nM1357.5 244.709 L1329.69 258.738 L1377.86 277.371 L1405.67 263.342  Z\n  \" fill=\"#eee51b\" fill-rule=\"evenodd\" fill-opacity=\"0.7\"/>\n<path clip-path=\"url(#clip172)\" d=\"\nM1405.67 263.342 L1377.86 277.371 L1426.03 301.239 L1453.84 287.21  Z\n  \" fill=\"#e4e318\" fill-rule=\"evenodd\" fill-opacity=\"0.7\"/>\n<path clip-path=\"url(#clip172)\" d=\"\nM1453.84 287.21 L1426.03 301.239 L1474.2 330.34 L1502.02 316.311  Z\n  \" fill=\"#d4e11a\" fill-rule=\"evenodd\" fill-opacity=\"0.7\"/>\n<path clip-path=\"url(#clip172)\" d=\"\nM1502.02 316.311 L1474.2 330.34 L1522.38 364.676 L1550.19 350.647  Z\n  \" fill=\"#c5df21\" fill-rule=\"evenodd\" fill-opacity=\"0.7\"/>\n<path clip-path=\"url(#clip172)\" d=\"\nM1550.19 350.647 L1522.38 364.676 L1570.55 404.245 L1598.36 390.216  Z\n  \" fill=\"#afdc2e\" fill-rule=\"evenodd\" fill-opacity=\"0.7\"/>\n<path clip-path=\"url(#clip172)\" d=\"\nM1598.36 390.216 L1570.55 404.245 L1618.72 449.048 L1646.53 435.019  Z\n  \" fill=\"#97d83e\" fill-rule=\"evenodd\" fill-opacity=\"0.7\"/>\n<path clip-path=\"url(#clip172)\" d=\"\nM1646.53 435.019 L1618.72 449.048 L1666.89 499.086 L1694.71 485.057  Z\n  \" fill=\"#7cd24f\" fill-rule=\"evenodd\" fill-opacity=\"0.7\"/>\n<path clip-path=\"url(#clip172)\" d=\"\nM1694.71 485.057 L1666.89 499.086 L1715.07 554.357 L1742.88 540.328  Z\n  \" fill=\"#62ca5f\" fill-rule=\"evenodd\" fill-opacity=\"0.7\"/>\n<path clip-path=\"url(#clip172)\" d=\"\nM1742.88 540.328 L1715.07 554.357 L1763.24 614.862 L1791.05 600.833  Z\n  \" fill=\"#47c06e\" fill-rule=\"evenodd\" fill-opacity=\"0.7\"/>\n<path clip-path=\"url(#clip172)\" d=\"\nM1791.05 600.833 L1763.24 614.862 L1811.41 680.601 L1839.22 666.572  Z\n  \" fill=\"#30b47a\" fill-rule=\"evenodd\" fill-opacity=\"0.7\"/>\n<path clip-path=\"url(#clip172)\" d=\"\nM1839.22 666.572 L1811.41 680.601 L1859.58 751.574 L1887.4 737.545  Z\n  \" fill=\"#21a784\" fill-rule=\"evenodd\" fill-opacity=\"0.7\"/>\n<path clip-path=\"url(#clip172)\" d=\"\nM1887.4 737.545 L1859.58 751.574 L1907.76 827.781 L1935.57 813.753  Z\n  \" fill=\"#1e978a\" fill-rule=\"evenodd\" fill-opacity=\"0.7\"/>\n<path clip-path=\"url(#clip172)\" d=\"\nM510.753 742.763 L482.94 762.026 L531.113 691.682 L558.925 672.42  Z\n  \" fill=\"#1f968b\" fill-rule=\"evenodd\" fill-opacity=\"0.7\"/>\n<path clip-path=\"url(#clip172)\" d=\"\nM558.925 672.42 L531.113 691.682 L579.285 626.573 L607.098 607.31  Z\n  \" fill=\"#20a585\" fill-rule=\"evenodd\" fill-opacity=\"0.7\"/>\n<path clip-path=\"url(#clip172)\" d=\"\nM607.098 607.31 L579.285 626.573 L627.458 566.697 L655.27 547.434  Z\n  \" fill=\"#2eb27c\" fill-rule=\"evenodd\" fill-opacity=\"0.7\"/>\n<path clip-path=\"url(#clip172)\" d=\"\nM655.27 547.434 L627.458 566.697 L675.63 512.055 L703.443 492.792  Z\n  \" fill=\"#44be70\" fill-rule=\"evenodd\" fill-opacity=\"0.7\"/>\n<path clip-path=\"url(#clip172)\" d=\"\nM703.443 492.792 L675.63 512.055 L723.803 462.647 L751.615 443.384  Z\n  \" fill=\"#5ec961\" fill-rule=\"evenodd\" fill-opacity=\"0.7\"/>\n<path clip-path=\"url(#clip172)\" d=\"\nM751.615 443.384 L723.803 462.647 L771.976 418.473 L799.788 399.21  Z\n  \" fill=\"#77d052\" fill-rule=\"evenodd\" fill-opacity=\"0.7\"/>\n<path clip-path=\"url(#clip172)\" d=\"\nM799.788 399.21 L771.976 418.473 L820.148 379.533 L847.961 360.27  Z\n  \" fill=\"#92d741\" fill-rule=\"evenodd\" fill-opacity=\"0.7\"/>\n<path clip-path=\"url(#clip172)\" d=\"\nM847.961 360.27 L820.148 379.533 L868.321 345.827 L896.133 326.564  Z\n  \" fill=\"#aadb32\" fill-rule=\"evenodd\" fill-opacity=\"0.7\"/>\n<path clip-path=\"url(#clip172)\" d=\"\nM896.133 326.564 L868.321 345.827 L916.493 317.355 L944.306 298.092  Z\n  \" fill=\"#bfdf24\" fill-rule=\"evenodd\" fill-opacity=\"0.7\"/>\n<path clip-path=\"url(#clip172)\" d=\"\nM944.306 298.092 L916.493 317.355 L964.666 294.117 L992.478 274.854  Z\n  \" fill=\"#cfe11c\" fill-rule=\"evenodd\" fill-opacity=\"0.7\"/>\n<path clip-path=\"url(#clip172)\" d=\"\nM992.478 274.854 L964.666 294.117 L1012.84 276.113 L1040.65 256.85  Z\n  \" fill=\"#dfe318\" fill-rule=\"evenodd\" fill-opacity=\"0.7\"/>\n<path clip-path=\"url(#clip172)\" d=\"\nM1040.65 256.85 L1012.84 276.113 L1061.01 263.342 L1088.82 244.079  Z\n  \" fill=\"#e9e419\" fill-rule=\"evenodd\" fill-opacity=\"0.7\"/>\n<path clip-path=\"url(#clip172)\" d=\"\nM1088.82 244.079 L1061.01 263.342 L1109.18 255.806 L1137 236.543  Z\n  \" fill=\"#f1e51c\" fill-rule=\"evenodd\" fill-opacity=\"0.7\"/>\n<path clip-path=\"url(#clip172)\" d=\"\nM1137 236.543 L1109.18 255.806 L1157.36 253.504 L1185.17 234.241  Z\n  \" fill=\"#f6e61f\" fill-rule=\"evenodd\" fill-opacity=\"0.7\"/>\n<path clip-path=\"url(#clip172)\" d=\"\nM1185.17 234.241 L1157.36 253.504 L1205.53 256.435 L1233.34 237.173  Z\n  \" fill=\"#f8e621\" fill-rule=\"evenodd\" fill-opacity=\"0.7\"/>\n<path clip-path=\"url(#clip172)\" d=\"\nM1233.34 237.173 L1205.53 256.435 L1253.7 264.601 L1281.51 245.338  Z\n  \" fill=\"#f6e61f\" fill-rule=\"evenodd\" fill-opacity=\"0.7\"/>\n<path clip-path=\"url(#clip172)\" d=\"\nM1281.51 245.338 L1253.7 264.601 L1301.87 278.001 L1329.69 258.738  Z\n  \" fill=\"#f1e51c\" fill-rule=\"evenodd\" fill-opacity=\"0.7\"/>\n<path clip-path=\"url(#clip172)\" d=\"\nM1329.69 258.738 L1301.87 278.001 L1350.05 296.634 L1377.86 277.371  Z\n  \" fill=\"#e9e419\" fill-rule=\"evenodd\" fill-opacity=\"0.7\"/>\n<path clip-path=\"url(#clip172)\" d=\"\nM1377.86 277.371 L1350.05 296.634 L1398.22 320.502 L1426.03 301.239  Z\n  \" fill=\"#dfe318\" fill-rule=\"evenodd\" fill-opacity=\"0.7\"/>\n<path clip-path=\"url(#clip172)\" d=\"\nM1426.03 301.239 L1398.22 320.502 L1446.39 349.603 L1474.2 330.34  Z\n  \" fill=\"#cfe11c\" fill-rule=\"evenodd\" fill-opacity=\"0.7\"/>\n<path clip-path=\"url(#clip172)\" d=\"\nM1474.2 330.34 L1446.39 349.603 L1494.56 383.939 L1522.38 364.676  Z\n  \" fill=\"#bfdf24\" fill-rule=\"evenodd\" fill-opacity=\"0.7\"/>\n<path clip-path=\"url(#clip172)\" d=\"\nM1522.38 364.676 L1494.56 383.939 L1542.74 423.508 L1570.55 404.245  Z\n  \" fill=\"#aadb32\" fill-rule=\"evenodd\" fill-opacity=\"0.7\"/>\n<path clip-path=\"url(#clip172)\" d=\"\nM1570.55 404.245 L1542.74 423.508 L1590.91 468.311 L1618.72 449.048  Z\n  \" fill=\"#92d741\" fill-rule=\"evenodd\" fill-opacity=\"0.7\"/>\n<path clip-path=\"url(#clip172)\" d=\"\nM1618.72 449.048 L1590.91 468.311 L1639.08 518.349 L1666.89 499.086  Z\n  \" fill=\"#77d052\" fill-rule=\"evenodd\" fill-opacity=\"0.7\"/>\n<path clip-path=\"url(#clip172)\" d=\"\nM1666.89 499.086 L1639.08 518.349 L1687.25 573.62 L1715.07 554.357  Z\n  \" fill=\"#5ec961\" fill-rule=\"evenodd\" fill-opacity=\"0.7\"/>\n<path clip-path=\"url(#clip172)\" d=\"\nM1715.07 554.357 L1687.25 573.62 L1735.43 634.125 L1763.24 614.862  Z\n  \" fill=\"#44be70\" fill-rule=\"evenodd\" fill-opacity=\"0.7\"/>\n<path clip-path=\"url(#clip172)\" d=\"\nM1763.24 614.862 L1735.43 634.125 L1783.6 699.864 L1811.41 680.601  Z\n  \" fill=\"#2eb27c\" fill-rule=\"evenodd\" fill-opacity=\"0.7\"/>\n<path clip-path=\"url(#clip172)\" d=\"\nM1811.41 680.601 L1783.6 699.864 L1831.77 770.837 L1859.58 751.574  Z\n  \" fill=\"#20a585\" fill-rule=\"evenodd\" fill-opacity=\"0.7\"/>\n<path clip-path=\"url(#clip172)\" d=\"\nM1859.58 751.574 L1831.77 770.837 L1879.94 847.044 L1907.76 827.781  Z\n  \" fill=\"#1f968b\" fill-rule=\"evenodd\" fill-opacity=\"0.7\"/>\n<path clip-path=\"url(#clip172)\" d=\"\nM482.94 762.026 L455.128 786.523 L503.3 716.179 L531.113 691.682  Z\n  \" fill=\"#1f938b\" fill-rule=\"evenodd\" fill-opacity=\"0.7\"/>\n<path clip-path=\"url(#clip172)\" d=\"\nM531.113 691.682 L503.3 716.179 L551.473 651.07 L579.285 626.573  Z\n  \" fill=\"#1fa286\" fill-rule=\"evenodd\" fill-opacity=\"0.7\"/>\n<path clip-path=\"url(#clip172)\" d=\"\nM579.285 626.573 L551.473 651.07 L599.645 591.194 L627.458 566.697  Z\n  \" fill=\"#2ab07e\" fill-rule=\"evenodd\" fill-opacity=\"0.7\"/>\n<path clip-path=\"url(#clip172)\" d=\"\nM627.458 566.697 L599.645 591.194 L647.818 536.552 L675.63 512.055  Z\n  \" fill=\"#3ebc73\" fill-rule=\"evenodd\" fill-opacity=\"0.7\"/>\n<path clip-path=\"url(#clip172)\" d=\"\nM675.63 512.055 L647.818 536.552 L695.991 487.144 L723.803 462.647  Z\n  \" fill=\"#57c665\" fill-rule=\"evenodd\" fill-opacity=\"0.7\"/>\n<path clip-path=\"url(#clip172)\" d=\"\nM723.803 462.647 L695.991 487.144 L744.163 442.97 L771.976 418.473  Z\n  \" fill=\"#70ce56\" fill-rule=\"evenodd\" fill-opacity=\"0.7\"/>\n<path clip-path=\"url(#clip172)\" d=\"\nM771.976 418.473 L744.163 442.97 L792.336 404.03 L820.148 379.533  Z\n  \" fill=\"#8bd546\" fill-rule=\"evenodd\" fill-opacity=\"0.7\"/>\n<path clip-path=\"url(#clip172)\" d=\"\nM820.148 379.533 L792.336 404.03 L840.508 370.324 L868.321 345.827  Z\n  \" fill=\"#a2da37\" fill-rule=\"evenodd\" fill-opacity=\"0.7\"/>\n<path clip-path=\"url(#clip172)\" d=\"\nM868.321 345.827 L840.508 370.324 L888.681 341.852 L916.493 317.355  Z\n  \" fill=\"#b7dd29\" fill-rule=\"evenodd\" fill-opacity=\"0.7\"/>\n<path clip-path=\"url(#clip172)\" d=\"\nM916.493 317.355 L888.681 341.852 L936.853 318.614 L964.666 294.117  Z\n  \" fill=\"#c7e01f\" fill-rule=\"evenodd\" fill-opacity=\"0.7\"/>\n<path clip-path=\"url(#clip172)\" d=\"\nM964.666 294.117 L936.853 318.614 L985.026 300.609 L1012.84 276.113  Z\n  \" fill=\"#d7e219\" fill-rule=\"evenodd\" fill-opacity=\"0.7\"/>\n<path clip-path=\"url(#clip172)\" d=\"\nM1012.84 276.113 L985.026 300.609 L1033.2 287.839 L1061.01 263.342  Z\n  \" fill=\"#e1e318\" fill-rule=\"evenodd\" fill-opacity=\"0.7\"/>\n<path clip-path=\"url(#clip172)\" d=\"\nM1061.01 263.342 L1033.2 287.839 L1081.37 280.303 L1109.18 255.806  Z\n  \" fill=\"#e9e419\" fill-rule=\"evenodd\" fill-opacity=\"0.7\"/>\n<path clip-path=\"url(#clip172)\" d=\"\nM1109.18 255.806 L1081.37 280.303 L1129.54 278.001 L1157.36 253.504  Z\n  \" fill=\"#eee51b\" fill-rule=\"evenodd\" fill-opacity=\"0.7\"/>\n<path clip-path=\"url(#clip172)\" d=\"\nM1157.36 253.504 L1129.54 278.001 L1177.72 280.932 L1205.53 256.435  Z\n  \" fill=\"#f1e51c\" fill-rule=\"evenodd\" fill-opacity=\"0.7\"/>\n<path clip-path=\"url(#clip172)\" d=\"\nM1205.53 256.435 L1177.72 280.932 L1225.89 289.098 L1253.7 264.601  Z\n  \" fill=\"#eee51b\" fill-rule=\"evenodd\" fill-opacity=\"0.7\"/>\n<path clip-path=\"url(#clip172)\" d=\"\nM1253.7 264.601 L1225.89 289.098 L1274.06 302.498 L1301.87 278.001  Z\n  \" fill=\"#e9e419\" fill-rule=\"evenodd\" fill-opacity=\"0.7\"/>\n<path clip-path=\"url(#clip172)\" d=\"\nM1301.87 278.001 L1274.06 302.498 L1322.23 321.131 L1350.05 296.634  Z\n  \" fill=\"#e1e318\" fill-rule=\"evenodd\" fill-opacity=\"0.7\"/>\n<path clip-path=\"url(#clip172)\" d=\"\nM1350.05 296.634 L1322.23 321.131 L1370.41 344.999 L1398.22 320.502  Z\n  \" fill=\"#d7e219\" fill-rule=\"evenodd\" fill-opacity=\"0.7\"/>\n<path clip-path=\"url(#clip172)\" d=\"\nM1398.22 320.502 L1370.41 344.999 L1418.58 374.1 L1446.39 349.603  Z\n  \" fill=\"#c7e01f\" fill-rule=\"evenodd\" fill-opacity=\"0.7\"/>\n<path clip-path=\"url(#clip172)\" d=\"\nM1446.39 349.603 L1418.58 374.1 L1466.75 408.435 L1494.56 383.939  Z\n  \" fill=\"#b7dd29\" fill-rule=\"evenodd\" fill-opacity=\"0.7\"/>\n<path clip-path=\"url(#clip172)\" d=\"\nM1494.56 383.939 L1466.75 408.435 L1514.92 448.005 L1542.74 423.508  Z\n  \" fill=\"#a2da37\" fill-rule=\"evenodd\" fill-opacity=\"0.7\"/>\n<path clip-path=\"url(#clip172)\" d=\"\nM1542.74 423.508 L1514.92 448.005 L1563.1 492.808 L1590.91 468.311  Z\n  \" fill=\"#8bd546\" fill-rule=\"evenodd\" fill-opacity=\"0.7\"/>\n<path clip-path=\"url(#clip172)\" d=\"\nM1590.91 468.311 L1563.1 492.808 L1611.27 542.845 L1639.08 518.349  Z\n  \" fill=\"#70ce56\" fill-rule=\"evenodd\" fill-opacity=\"0.7\"/>\n<path clip-path=\"url(#clip172)\" d=\"\nM1639.08 518.349 L1611.27 542.845 L1659.44 598.117 L1687.25 573.62  Z\n  \" fill=\"#57c665\" fill-rule=\"evenodd\" fill-opacity=\"0.7\"/>\n<path clip-path=\"url(#clip172)\" d=\"\nM1687.25 573.62 L1659.44 598.117 L1707.61 658.622 L1735.43 634.125  Z\n  \" fill=\"#3ebc73\" fill-rule=\"evenodd\" fill-opacity=\"0.7\"/>\n<path clip-path=\"url(#clip172)\" d=\"\nM1735.43 634.125 L1707.61 658.622 L1755.79 724.361 L1783.6 699.864  Z\n  \" fill=\"#2ab07e\" fill-rule=\"evenodd\" fill-opacity=\"0.7\"/>\n<path clip-path=\"url(#clip172)\" d=\"\nM1783.6 699.864 L1755.79 724.361 L1803.96 795.334 L1831.77 770.837  Z\n  \" fill=\"#1fa286\" fill-rule=\"evenodd\" fill-opacity=\"0.7\"/>\n<path clip-path=\"url(#clip172)\" d=\"\nM1831.77 770.837 L1803.96 795.334 L1852.13 871.541 L1879.94 847.044  Z\n  \" fill=\"#1f938b\" fill-rule=\"evenodd\" fill-opacity=\"0.7\"/>\n<path clip-path=\"url(#clip172)\" d=\"\nM455.128 786.523 L427.315 816.254 L475.488 745.91 L503.3 716.179  Z\n  \" fill=\"#218e8c\" fill-rule=\"evenodd\" fill-opacity=\"0.7\"/>\n<path clip-path=\"url(#clip172)\" d=\"\nM503.3 716.179 L475.488 745.91 L523.66 680.8 L551.473 651.07  Z\n  \" fill=\"#1e9e88\" fill-rule=\"evenodd\" fill-opacity=\"0.7\"/>\n<path clip-path=\"url(#clip172)\" d=\"\nM551.473 651.07 L523.66 680.8 L571.833 620.924 L599.645 591.194  Z\n  \" fill=\"#26ac81\" fill-rule=\"evenodd\" fill-opacity=\"0.7\"/>\n<path clip-path=\"url(#clip172)\" d=\"\nM599.645 591.194 L571.833 620.924 L620.006 566.283 L647.818 536.552  Z\n  \" fill=\"#38b976\" fill-rule=\"evenodd\" fill-opacity=\"0.7\"/>\n<path clip-path=\"url(#clip172)\" d=\"\nM647.818 536.552 L620.006 566.283 L668.178 516.875 L695.991 487.144  Z\n  \" fill=\"#4fc369\" fill-rule=\"evenodd\" fill-opacity=\"0.7\"/>\n<path clip-path=\"url(#clip172)\" d=\"\nM695.991 487.144 L668.178 516.875 L716.351 472.701 L744.163 442.97  Z\n  \" fill=\"#67cc5c\" fill-rule=\"evenodd\" fill-opacity=\"0.7\"/>\n<path clip-path=\"url(#clip172)\" d=\"\nM744.163 442.97 L716.351 472.701 L764.523 433.761 L792.336 404.03  Z\n  \" fill=\"#7ed24e\" fill-rule=\"evenodd\" fill-opacity=\"0.7\"/>\n<path clip-path=\"url(#clip172)\" d=\"\nM792.336 404.03 L764.523 433.761 L812.696 400.055 L840.508 370.324  Z\n  \" fill=\"#97d83e\" fill-rule=\"evenodd\" fill-opacity=\"0.7\"/>\n<path clip-path=\"url(#clip172)\" d=\"\nM840.508 370.324 L812.696 400.055 L860.868 371.583 L888.681 341.852  Z\n  \" fill=\"#aadb32\" fill-rule=\"evenodd\" fill-opacity=\"0.7\"/>\n<path clip-path=\"url(#clip172)\" d=\"\nM888.681 341.852 L860.868 371.583 L909.041 348.344 L936.853 318.614  Z\n  \" fill=\"#bdde26\" fill-rule=\"evenodd\" fill-opacity=\"0.7\"/>\n<path clip-path=\"url(#clip172)\" d=\"\nM936.853 318.614 L909.041 348.344 L957.213 330.34 L985.026 300.609  Z\n  \" fill=\"#cde01d\" fill-rule=\"evenodd\" fill-opacity=\"0.7\"/>\n<path clip-path=\"url(#clip172)\" d=\"\nM985.026 300.609 L957.213 330.34 L1005.39 317.57 L1033.2 287.839  Z\n  \" fill=\"#d7e219\" fill-rule=\"evenodd\" fill-opacity=\"0.7\"/>\n<path clip-path=\"url(#clip172)\" d=\"\nM1033.2 287.839 L1005.39 317.57 L1053.56 310.034 L1081.37 280.303  Z\n  \" fill=\"#dfe318\" fill-rule=\"evenodd\" fill-opacity=\"0.7\"/>\n<path clip-path=\"url(#clip172)\" d=\"\nM1081.37 280.303 L1053.56 310.034 L1101.73 307.731 L1129.54 278.001  Z\n  \" fill=\"#e4e318\" fill-rule=\"evenodd\" fill-opacity=\"0.7\"/>\n<path clip-path=\"url(#clip172)\" d=\"\nM1129.54 278.001 L1101.73 307.731 L1149.9 310.663 L1177.72 280.932  Z\n  \" fill=\"#e4e318\" fill-rule=\"evenodd\" fill-opacity=\"0.7\"/>\n<path clip-path=\"url(#clip172)\" d=\"\nM1177.72 280.932 L1149.9 310.663 L1198.08 318.829 L1225.89 289.098  Z\n  \" fill=\"#e4e318\" fill-rule=\"evenodd\" fill-opacity=\"0.7\"/>\n<path clip-path=\"url(#clip172)\" d=\"\nM1225.89 289.098 L1198.08 318.829 L1246.25 332.228 L1274.06 302.498  Z\n  \" fill=\"#dfe318\" fill-rule=\"evenodd\" fill-opacity=\"0.7\"/>\n<path clip-path=\"url(#clip172)\" d=\"\nM1274.06 302.498 L1246.25 332.228 L1294.42 350.862 L1322.23 321.131  Z\n  \" fill=\"#d7e219\" fill-rule=\"evenodd\" fill-opacity=\"0.7\"/>\n<path clip-path=\"url(#clip172)\" d=\"\nM1322.23 321.131 L1294.42 350.862 L1342.59 374.729 L1370.41 344.999  Z\n  \" fill=\"#cde01d\" fill-rule=\"evenodd\" fill-opacity=\"0.7\"/>\n<path clip-path=\"url(#clip172)\" d=\"\nM1370.41 344.999 L1342.59 374.729 L1390.77 403.831 L1418.58 374.1  Z\n  \" fill=\"#bdde26\" fill-rule=\"evenodd\" fill-opacity=\"0.7\"/>\n<path clip-path=\"url(#clip172)\" d=\"\nM1418.58 374.1 L1390.77 403.831 L1438.94 438.166 L1466.75 408.435  Z\n  \" fill=\"#aadb32\" fill-rule=\"evenodd\" fill-opacity=\"0.7\"/>\n<path clip-path=\"url(#clip172)\" d=\"\nM1466.75 408.435 L1438.94 438.166 L1487.11 477.736 L1514.92 448.005  Z\n  \" fill=\"#97d83e\" fill-rule=\"evenodd\" fill-opacity=\"0.7\"/>\n<path clip-path=\"url(#clip172)\" d=\"\nM1514.92 448.005 L1487.11 477.736 L1535.28 522.539 L1563.1 492.808  Z\n  \" fill=\"#7ed24e\" fill-rule=\"evenodd\" fill-opacity=\"0.7\"/>\n<path clip-path=\"url(#clip172)\" d=\"\nM1563.1 492.808 L1535.28 522.539 L1583.46 572.576 L1611.27 542.845  Z\n  \" fill=\"#67cc5c\" fill-rule=\"evenodd\" fill-opacity=\"0.7\"/>\n<path clip-path=\"url(#clip172)\" d=\"\nM1611.27 542.845 L1583.46 572.576 L1631.63 627.847 L1659.44 598.117  Z\n  \" fill=\"#4fc369\" fill-rule=\"evenodd\" fill-opacity=\"0.7\"/>\n<path clip-path=\"url(#clip172)\" d=\"\nM1659.44 598.117 L1631.63 627.847 L1679.8 688.353 L1707.61 658.622  Z\n  \" fill=\"#38b976\" fill-rule=\"evenodd\" fill-opacity=\"0.7\"/>\n<path clip-path=\"url(#clip172)\" d=\"\nM1707.61 658.622 L1679.8 688.353 L1727.97 754.092 L1755.79 724.361  Z\n  \" fill=\"#26ac81\" fill-rule=\"evenodd\" fill-opacity=\"0.7\"/>\n<path clip-path=\"url(#clip172)\" d=\"\nM1755.79 724.361 L1727.97 754.092 L1776.15 825.065 L1803.96 795.334  Z\n  \" fill=\"#1e9e88\" fill-rule=\"evenodd\" fill-opacity=\"0.7\"/>\n<path clip-path=\"url(#clip172)\" d=\"\nM1803.96 795.334 L1776.15 825.065 L1824.32 901.272 L1852.13 871.541  Z\n  \" fill=\"#218e8c\" fill-rule=\"evenodd\" fill-opacity=\"0.7\"/>\n<path clip-path=\"url(#clip172)\" d=\"\nM427.315 816.254 L399.503 851.219 L447.675 780.875 L475.488 745.91  Z\n  \" fill=\"#22898d\" fill-rule=\"evenodd\" fill-opacity=\"0.7\"/>\n<path clip-path=\"url(#clip172)\" d=\"\nM475.488 745.91 L447.675 780.875 L495.848 715.765 L523.66 680.8  Z\n  \" fill=\"#1e998a\" fill-rule=\"evenodd\" fill-opacity=\"0.7\"/>\n<path clip-path=\"url(#clip172)\" d=\"\nM523.66 680.8 L495.848 715.765 L544.021 655.889 L571.833 620.924  Z\n  \" fill=\"#21a784\" fill-rule=\"evenodd\" fill-opacity=\"0.7\"/>\n<path clip-path=\"url(#clip172)\" d=\"\nM571.833 620.924 L544.021 655.889 L592.193 601.247 L620.006 566.283  Z\n  \" fill=\"#2fb37b\" fill-rule=\"evenodd\" fill-opacity=\"0.7\"/>\n<path clip-path=\"url(#clip172)\" d=\"\nM620.006 566.283 L592.193 601.247 L640.366 551.839 L668.178 516.875  Z\n  \" fill=\"#44be70\" fill-rule=\"evenodd\" fill-opacity=\"0.7\"/>\n<path clip-path=\"url(#clip172)\" d=\"\nM668.178 516.875 L640.366 551.839 L688.538 507.665 L716.351 472.701  Z\n  \" fill=\"#5bc862\" fill-rule=\"evenodd\" fill-opacity=\"0.7\"/>\n<path clip-path=\"url(#clip172)\" d=\"\nM716.351 472.701 L688.538 507.665 L736.711 468.725 L764.523 433.761  Z\n  \" fill=\"#72cf55\" fill-rule=\"evenodd\" fill-opacity=\"0.7\"/>\n<path clip-path=\"url(#clip172)\" d=\"\nM764.523 433.761 L736.711 468.725 L784.883 435.019 L812.696 400.055  Z\n  \" fill=\"#88d547\" fill-rule=\"evenodd\" fill-opacity=\"0.7\"/>\n<path clip-path=\"url(#clip172)\" d=\"\nM812.696 400.055 L784.883 435.019 L833.056 406.547 L860.868 371.583  Z\n  \" fill=\"#9dd93a\" fill-rule=\"evenodd\" fill-opacity=\"0.7\"/>\n<path clip-path=\"url(#clip172)\" d=\"\nM860.868 371.583 L833.056 406.547 L881.228 383.309 L909.041 348.344  Z\n  \" fill=\"#afdc2e\" fill-rule=\"evenodd\" fill-opacity=\"0.7\"/>\n<path clip-path=\"url(#clip172)\" d=\"\nM909.041 348.344 L881.228 383.309 L929.401 365.305 L957.213 330.34  Z\n  \" fill=\"#bdde26\" fill-rule=\"evenodd\" fill-opacity=\"0.7\"/>\n<path clip-path=\"url(#clip172)\" d=\"\nM957.213 330.34 L929.401 365.305 L977.574 352.535 L1005.39 317.57  Z\n  \" fill=\"#c7e01f\" fill-rule=\"evenodd\" fill-opacity=\"0.7\"/>\n<path clip-path=\"url(#clip172)\" d=\"\nM1005.39 317.57 L977.574 352.535 L1025.75 344.999 L1053.56 310.034  Z\n  \" fill=\"#cfe11c\" fill-rule=\"evenodd\" fill-opacity=\"0.7\"/>\n<path clip-path=\"url(#clip172)\" d=\"\nM1053.56 310.034 L1025.75 344.999 L1073.92 342.696 L1101.73 307.731  Z\n  \" fill=\"#d4e11a\" fill-rule=\"evenodd\" fill-opacity=\"0.7\"/>\n<path clip-path=\"url(#clip172)\" d=\"\nM1101.73 307.731 L1073.92 342.696 L1122.09 345.628 L1149.9 310.663  Z\n  \" fill=\"#d7e219\" fill-rule=\"evenodd\" fill-opacity=\"0.7\"/>\n<path clip-path=\"url(#clip172)\" d=\"\nM1149.9 310.663 L1122.09 345.628 L1170.26 353.794 L1198.08 318.829  Z\n  \" fill=\"#d4e11a\" fill-rule=\"evenodd\" fill-opacity=\"0.7\"/>\n<path clip-path=\"url(#clip172)\" d=\"\nM1198.08 318.829 L1170.26 353.794 L1218.44 367.193 L1246.25 332.228  Z\n  \" fill=\"#cfe11c\" fill-rule=\"evenodd\" fill-opacity=\"0.7\"/>\n<path clip-path=\"url(#clip172)\" d=\"\nM1246.25 332.228 L1218.44 367.193 L1266.61 385.827 L1294.42 350.862  Z\n  \" fill=\"#c7e01f\" fill-rule=\"evenodd\" fill-opacity=\"0.7\"/>\n<path clip-path=\"url(#clip172)\" d=\"\nM1294.42 350.862 L1266.61 385.827 L1314.78 409.694 L1342.59 374.729  Z\n  \" fill=\"#bdde26\" fill-rule=\"evenodd\" fill-opacity=\"0.7\"/>\n<path clip-path=\"url(#clip172)\" d=\"\nM1342.59 374.729 L1314.78 409.694 L1362.95 438.796 L1390.77 403.831  Z\n  \" fill=\"#afdc2e\" fill-rule=\"evenodd\" fill-opacity=\"0.7\"/>\n<path clip-path=\"url(#clip172)\" d=\"\nM1390.77 403.831 L1362.95 438.796 L1411.13 473.131 L1438.94 438.166  Z\n  \" fill=\"#9dd93a\" fill-rule=\"evenodd\" fill-opacity=\"0.7\"/>\n<path clip-path=\"url(#clip172)\" d=\"\nM1438.94 438.166 L1411.13 473.131 L1459.3 512.7 L1487.11 477.736  Z\n  \" fill=\"#88d547\" fill-rule=\"evenodd\" fill-opacity=\"0.7\"/>\n<path clip-path=\"url(#clip172)\" d=\"\nM1487.11 477.736 L1459.3 512.7 L1507.47 557.504 L1535.28 522.539  Z\n  \" fill=\"#72cf55\" fill-rule=\"evenodd\" fill-opacity=\"0.7\"/>\n<path clip-path=\"url(#clip172)\" d=\"\nM1535.28 522.539 L1507.47 557.504 L1555.64 607.541 L1583.46 572.576  Z\n  \" fill=\"#5bc862\" fill-rule=\"evenodd\" fill-opacity=\"0.7\"/>\n<path clip-path=\"url(#clip172)\" d=\"\nM1583.46 572.576 L1555.64 607.541 L1603.82 662.812 L1631.63 627.847  Z\n  \" fill=\"#44be70\" fill-rule=\"evenodd\" fill-opacity=\"0.7\"/>\n<path clip-path=\"url(#clip172)\" d=\"\nM1631.63 627.847 L1603.82 662.812 L1651.99 723.317 L1679.8 688.353  Z\n  \" fill=\"#2fb37b\" fill-rule=\"evenodd\" fill-opacity=\"0.7\"/>\n<path clip-path=\"url(#clip172)\" d=\"\nM1679.8 688.353 L1651.99 723.317 L1700.16 789.057 L1727.97 754.092  Z\n  \" fill=\"#21a784\" fill-rule=\"evenodd\" fill-opacity=\"0.7\"/>\n<path clip-path=\"url(#clip172)\" d=\"\nM1727.97 754.092 L1700.16 789.057 L1748.33 860.03 L1776.15 825.065  Z\n  \" fill=\"#1e998a\" fill-rule=\"evenodd\" fill-opacity=\"0.7\"/>\n<path clip-path=\"url(#clip172)\" d=\"\nM1776.15 825.065 L1748.33 860.03 L1796.51 936.237 L1824.32 901.272  Z\n  \" fill=\"#22898d\" fill-rule=\"evenodd\" fill-opacity=\"0.7\"/>\n<path clip-path=\"url(#clip172)\" d=\"\nM399.503 851.219 L371.69 891.417 L419.863 821.074 L447.675 780.875  Z\n  \" fill=\"#25838d\" fill-rule=\"evenodd\" fill-opacity=\"0.7\"/>\n<path clip-path=\"url(#clip172)\" d=\"\nM447.675 780.875 L419.863 821.074 L468.036 755.964 L495.848 715.765  Z\n  \" fill=\"#1f938b\" fill-rule=\"evenodd\" fill-opacity=\"0.7\"/>\n<path clip-path=\"url(#clip172)\" d=\"\nM495.848 715.765 L468.036 755.964 L516.208 696.088 L544.021 655.889  Z\n  \" fill=\"#1fa187\" fill-rule=\"evenodd\" fill-opacity=\"0.7\"/>\n<path clip-path=\"url(#clip172)\" d=\"\nM544.021 655.889 L516.208 696.088 L564.381 641.446 L592.193 601.247  Z\n  \" fill=\"#28ae7f\" fill-rule=\"evenodd\" fill-opacity=\"0.7\"/>\n<path clip-path=\"url(#clip172)\" d=\"\nM592.193 601.247 L564.381 641.446 L612.553 592.038 L640.366 551.839  Z\n  \" fill=\"#38b976\" fill-rule=\"evenodd\" fill-opacity=\"0.7\"/>\n<path clip-path=\"url(#clip172)\" d=\"\nM640.366 551.839 L612.553 592.038 L660.726 547.864 L688.538 507.665  Z\n  \" fill=\"#4dc26b\" fill-rule=\"evenodd\" fill-opacity=\"0.7\"/>\n<path clip-path=\"url(#clip172)\" d=\"\nM688.538 507.665 L660.726 547.864 L708.898 508.924 L736.711 468.725  Z\n  \" fill=\"#62ca5f\" fill-rule=\"evenodd\" fill-opacity=\"0.7\"/>\n<path clip-path=\"url(#clip172)\" d=\"\nM736.711 468.725 L708.898 508.924 L757.071 475.218 L784.883 435.019  Z\n  \" fill=\"#77d052\" fill-rule=\"evenodd\" fill-opacity=\"0.7\"/>\n<path clip-path=\"url(#clip172)\" d=\"\nM784.883 435.019 L757.071 475.218 L805.243 446.746 L833.056 406.547  Z\n  \" fill=\"#8bd546\" fill-rule=\"evenodd\" fill-opacity=\"0.7\"/>\n<path clip-path=\"url(#clip172)\" d=\"\nM833.056 406.547 L805.243 446.746 L853.416 423.508 L881.228 383.309  Z\n  \" fill=\"#9dd93a\" fill-rule=\"evenodd\" fill-opacity=\"0.7\"/>\n<path clip-path=\"url(#clip172)\" d=\"\nM881.228 383.309 L853.416 423.508 L901.589 405.504 L929.401 365.305  Z\n  \" fill=\"#aadb32\" fill-rule=\"evenodd\" fill-opacity=\"0.7\"/>\n<path clip-path=\"url(#clip172)\" d=\"\nM929.401 365.305 L901.589 405.504 L949.761 392.734 L977.574 352.535  Z\n  \" fill=\"#b7dd29\" fill-rule=\"evenodd\" fill-opacity=\"0.7\"/>\n<path clip-path=\"url(#clip172)\" d=\"\nM977.574 352.535 L949.761 392.734 L997.934 385.197 L1025.75 344.999  Z\n  \" fill=\"#bfdf24\" fill-rule=\"evenodd\" fill-opacity=\"0.7\"/>\n<path clip-path=\"url(#clip172)\" d=\"\nM1025.75 344.999 L997.934 385.197 L1046.11 382.895 L1073.92 342.696  Z\n  \" fill=\"#c5df21\" fill-rule=\"evenodd\" fill-opacity=\"0.7\"/>\n<path clip-path=\"url(#clip172)\" d=\"\nM1073.92 342.696 L1046.11 382.895 L1094.28 385.827 L1122.09 345.628  Z\n  \" fill=\"#c5df21\" fill-rule=\"evenodd\" fill-opacity=\"0.7\"/>\n<path clip-path=\"url(#clip172)\" d=\"\nM1122.09 345.628 L1094.28 385.827 L1142.45 393.992 L1170.26 353.794  Z\n  \" fill=\"#c5df21\" fill-rule=\"evenodd\" fill-opacity=\"0.7\"/>\n<path clip-path=\"url(#clip172)\" d=\"\nM1170.26 353.794 L1142.45 393.992 L1190.62 407.392 L1218.44 367.193  Z\n  \" fill=\"#bfdf24\" fill-rule=\"evenodd\" fill-opacity=\"0.7\"/>\n<path clip-path=\"url(#clip172)\" d=\"\nM1218.44 367.193 L1190.62 407.392 L1238.8 426.025 L1266.61 385.827  Z\n  \" fill=\"#b7dd29\" fill-rule=\"evenodd\" fill-opacity=\"0.7\"/>\n<path clip-path=\"url(#clip172)\" d=\"\nM1266.61 385.827 L1238.8 426.025 L1286.97 449.893 L1314.78 409.694  Z\n  \" fill=\"#aadb32\" fill-rule=\"evenodd\" fill-opacity=\"0.7\"/>\n<path clip-path=\"url(#clip172)\" d=\"\nM1314.78 409.694 L1286.97 449.893 L1335.14 478.994 L1362.95 438.796  Z\n  \" fill=\"#9dd93a\" fill-rule=\"evenodd\" fill-opacity=\"0.7\"/>\n<path clip-path=\"url(#clip172)\" d=\"\nM1362.95 438.796 L1335.14 478.994 L1383.31 513.33 L1411.13 473.131  Z\n  \" fill=\"#8bd546\" fill-rule=\"evenodd\" fill-opacity=\"0.7\"/>\n<path clip-path=\"url(#clip172)\" d=\"\nM1411.13 473.131 L1383.31 513.33 L1431.49 552.899 L1459.3 512.7  Z\n  \" fill=\"#77d052\" fill-rule=\"evenodd\" fill-opacity=\"0.7\"/>\n<path clip-path=\"url(#clip172)\" d=\"\nM1459.3 512.7 L1431.49 552.899 L1479.66 597.702 L1507.47 557.504  Z\n  \" fill=\"#62ca5f\" fill-rule=\"evenodd\" fill-opacity=\"0.7\"/>\n<path clip-path=\"url(#clip172)\" d=\"\nM1507.47 557.504 L1479.66 597.702 L1527.83 647.74 L1555.64 607.541  Z\n  \" fill=\"#4dc26b\" fill-rule=\"evenodd\" fill-opacity=\"0.7\"/>\n<path clip-path=\"url(#clip172)\" d=\"\nM1555.64 607.541 L1527.83 647.74 L1576 703.011 L1603.82 662.812  Z\n  \" fill=\"#38b976\" fill-rule=\"evenodd\" fill-opacity=\"0.7\"/>\n<path clip-path=\"url(#clip172)\" d=\"\nM1603.82 662.812 L1576 703.011 L1624.18 763.516 L1651.99 723.317  Z\n  \" fill=\"#28ae7f\" fill-rule=\"evenodd\" fill-opacity=\"0.7\"/>\n<path clip-path=\"url(#clip172)\" d=\"\nM1651.99 723.317 L1624.18 763.516 L1672.35 829.255 L1700.16 789.057  Z\n  \" fill=\"#1fa187\" fill-rule=\"evenodd\" fill-opacity=\"0.7\"/>\n<path clip-path=\"url(#clip172)\" d=\"\nM1700.16 789.057 L1672.35 829.255 L1720.52 900.228 L1748.33 860.03  Z\n  \" fill=\"#1f938b\" fill-rule=\"evenodd\" fill-opacity=\"0.7\"/>\n<path clip-path=\"url(#clip172)\" d=\"\nM1748.33 860.03 L1720.52 900.228 L1768.69 976.436 L1796.51 936.237  Z\n  \" fill=\"#25838d\" fill-rule=\"evenodd\" fill-opacity=\"0.7\"/>\n<path clip-path=\"url(#clip172)\" d=\"\nM371.69 891.417 L343.878 936.85 L392.051 866.506 L419.863 821.074  Z\n  \" fill=\"#287b8e\" fill-rule=\"evenodd\" fill-opacity=\"0.7\"/>\n<path clip-path=\"url(#clip172)\" d=\"\nM419.863 821.074 L392.051 866.506 L440.223 801.397 L468.036 755.964  Z\n  \" fill=\"#228b8d\" fill-rule=\"evenodd\" fill-opacity=\"0.7\"/>\n<path clip-path=\"url(#clip172)\" d=\"\nM468.036 755.964 L440.223 801.397 L488.396 741.521 L516.208 696.088  Z\n  \" fill=\"#1e998a\" fill-rule=\"evenodd\" fill-opacity=\"0.7\"/>\n<path clip-path=\"url(#clip172)\" d=\"\nM516.208 696.088 L488.396 741.521 L536.568 686.879 L564.381 641.446  Z\n  \" fill=\"#21a784\" fill-rule=\"evenodd\" fill-opacity=\"0.7\"/>\n<path clip-path=\"url(#clip172)\" d=\"\nM564.381 641.446 L536.568 686.879 L584.741 637.471 L612.553 592.038  Z\n  \" fill=\"#2eb27c\" fill-rule=\"evenodd\" fill-opacity=\"0.7\"/>\n<path clip-path=\"url(#clip172)\" d=\"\nM612.553 592.038 L584.741 637.471 L632.913 593.297 L660.726 547.864  Z\n  \" fill=\"#3ebc73\" fill-rule=\"evenodd\" fill-opacity=\"0.7\"/>\n<path clip-path=\"url(#clip172)\" d=\"\nM660.726 547.864 L632.913 593.297 L681.086 554.357 L708.898 508.924  Z\n  \" fill=\"#51c468\" fill-rule=\"evenodd\" fill-opacity=\"0.7\"/>\n<path clip-path=\"url(#clip172)\" d=\"\nM708.898 508.924 L681.086 554.357 L729.258 520.651 L757.071 475.218  Z\n  \" fill=\"#67cc5c\" fill-rule=\"evenodd\" fill-opacity=\"0.7\"/>\n<path clip-path=\"url(#clip172)\" d=\"\nM757.071 475.218 L729.258 520.651 L777.431 492.179 L805.243 446.746  Z\n  \" fill=\"#77d052\" fill-rule=\"evenodd\" fill-opacity=\"0.7\"/>\n<path clip-path=\"url(#clip172)\" d=\"\nM805.243 446.746 L777.431 492.179 L825.604 468.941 L853.416 423.508  Z\n  \" fill=\"#88d547\" fill-rule=\"evenodd\" fill-opacity=\"0.7\"/>\n<path clip-path=\"url(#clip172)\" d=\"\nM853.416 423.508 L825.604 468.941 L873.776 450.936 L901.589 405.504  Z\n  \" fill=\"#97d83e\" fill-rule=\"evenodd\" fill-opacity=\"0.7\"/>\n<path clip-path=\"url(#clip172)\" d=\"\nM901.589 405.504 L873.776 450.936 L921.949 438.166 L949.761 392.734  Z\n  \" fill=\"#a2da37\" fill-rule=\"evenodd\" fill-opacity=\"0.7\"/>\n<path clip-path=\"url(#clip172)\" d=\"\nM949.761 392.734 L921.949 438.166 L970.121 430.63 L997.934 385.197  Z\n  \" fill=\"#aadb32\" fill-rule=\"evenodd\" fill-opacity=\"0.7\"/>\n<path clip-path=\"url(#clip172)\" d=\"\nM997.934 385.197 L970.121 430.63 L1018.29 428.328 L1046.11 382.895  Z\n  \" fill=\"#afdc2e\" fill-rule=\"evenodd\" fill-opacity=\"0.7\"/>\n<path clip-path=\"url(#clip172)\" d=\"\nM1046.11 382.895 L1018.29 428.328 L1066.47 431.259 L1094.28 385.827  Z\n  \" fill=\"#afdc2e\" fill-rule=\"evenodd\" fill-opacity=\"0.7\"/>\n<path clip-path=\"url(#clip172)\" d=\"\nM1094.28 385.827 L1066.47 431.259 L1114.64 439.425 L1142.45 393.992  Z\n  \" fill=\"#afdc2e\" fill-rule=\"evenodd\" fill-opacity=\"0.7\"/>\n<path clip-path=\"url(#clip172)\" d=\"\nM1142.45 393.992 L1114.64 439.425 L1162.81 452.825 L1190.62 407.392  Z\n  \" fill=\"#aadb32\" fill-rule=\"evenodd\" fill-opacity=\"0.7\"/>\n<path clip-path=\"url(#clip172)\" d=\"\nM1190.62 407.392 L1162.81 452.825 L1210.98 471.458 L1238.8 426.025  Z\n  \" fill=\"#a2da37\" fill-rule=\"evenodd\" fill-opacity=\"0.7\"/>\n<path clip-path=\"url(#clip172)\" d=\"\nM1238.8 426.025 L1210.98 471.458 L1259.16 495.326 L1286.97 449.893  Z\n  \" fill=\"#97d83e\" fill-rule=\"evenodd\" fill-opacity=\"0.7\"/>\n<path clip-path=\"url(#clip172)\" d=\"\nM1286.97 449.893 L1259.16 495.326 L1307.33 524.427 L1335.14 478.994  Z\n  \" fill=\"#88d547\" fill-rule=\"evenodd\" fill-opacity=\"0.7\"/>\n<path clip-path=\"url(#clip172)\" d=\"\nM1335.14 478.994 L1307.33 524.427 L1355.5 558.762 L1383.31 513.33  Z\n  \" fill=\"#77d052\" fill-rule=\"evenodd\" fill-opacity=\"0.7\"/>\n<path clip-path=\"url(#clip172)\" d=\"\nM1383.31 513.33 L1355.5 558.762 L1403.67 598.332 L1431.49 552.899  Z\n  \" fill=\"#67cc5c\" fill-rule=\"evenodd\" fill-opacity=\"0.7\"/>\n<path clip-path=\"url(#clip172)\" d=\"\nM1431.49 552.899 L1403.67 598.332 L1451.85 643.135 L1479.66 597.702  Z\n  \" fill=\"#51c468\" fill-rule=\"evenodd\" fill-opacity=\"0.7\"/>\n<path clip-path=\"url(#clip172)\" d=\"\nM1479.66 597.702 L1451.85 643.135 L1500.02 693.172 L1527.83 647.74  Z\n  \" fill=\"#3ebc73\" fill-rule=\"evenodd\" fill-opacity=\"0.7\"/>\n<path clip-path=\"url(#clip172)\" d=\"\nM1527.83 647.74 L1500.02 693.172 L1548.19 748.444 L1576 703.011  Z\n  \" fill=\"#2eb27c\" fill-rule=\"evenodd\" fill-opacity=\"0.7\"/>\n<path clip-path=\"url(#clip172)\" d=\"\nM1576 703.011 L1548.19 748.444 L1596.36 808.949 L1624.18 763.516  Z\n  \" fill=\"#21a784\" fill-rule=\"evenodd\" fill-opacity=\"0.7\"/>\n<path clip-path=\"url(#clip172)\" d=\"\nM1624.18 763.516 L1596.36 808.949 L1644.54 874.688 L1672.35 829.255  Z\n  \" fill=\"#1e998a\" fill-rule=\"evenodd\" fill-opacity=\"0.7\"/>\n<path clip-path=\"url(#clip172)\" d=\"\nM1672.35 829.255 L1644.54 874.688 L1692.71 945.661 L1720.52 900.228  Z\n  \" fill=\"#228b8d\" fill-rule=\"evenodd\" fill-opacity=\"0.7\"/>\n<path clip-path=\"url(#clip172)\" d=\"\nM1720.52 900.228 L1692.71 945.661 L1740.88 1021.87 L1768.69 976.436  Z\n  \" fill=\"#287b8e\" fill-rule=\"evenodd\" fill-opacity=\"0.7\"/>\n<path clip-path=\"url(#clip172)\" d=\"\nM343.878 936.85 L316.066 987.517 L364.238 917.173 L392.051 866.506  Z\n  \" fill=\"#2b738e\" fill-rule=\"evenodd\" fill-opacity=\"0.7\"/>\n<path clip-path=\"url(#clip172)\" d=\"\nM392.051 866.506 L364.238 917.173 L412.411 852.063 L440.223 801.397  Z\n  \" fill=\"#25838d\" fill-rule=\"evenodd\" fill-opacity=\"0.7\"/>\n<path clip-path=\"url(#clip172)\" d=\"\nM440.223 801.397 L412.411 852.063 L460.583 792.187 L488.396 741.521  Z\n  \" fill=\"#20918c\" fill-rule=\"evenodd\" fill-opacity=\"0.7\"/>\n<path clip-path=\"url(#clip172)\" d=\"\nM488.396 741.521 L460.583 792.187 L508.756 737.545 L536.568 686.879  Z\n  \" fill=\"#1e9e88\" fill-rule=\"evenodd\" fill-opacity=\"0.7\"/>\n<path clip-path=\"url(#clip172)\" d=\"\nM536.568 686.879 L508.756 737.545 L556.928 688.138 L584.741 637.471  Z\n  \" fill=\"#23a982\" fill-rule=\"evenodd\" fill-opacity=\"0.7\"/>\n<path clip-path=\"url(#clip172)\" d=\"\nM584.741 637.471 L556.928 688.138 L605.101 643.964 L632.913 593.297  Z\n  \" fill=\"#30b47a\" fill-rule=\"evenodd\" fill-opacity=\"0.7\"/>\n<path clip-path=\"url(#clip172)\" d=\"\nM632.913 593.297 L605.101 643.964 L653.273 605.024 L681.086 554.357  Z\n  \" fill=\"#40bd72\" fill-rule=\"evenodd\" fill-opacity=\"0.7\"/>\n<path clip-path=\"url(#clip172)\" d=\"\nM681.086 554.357 L653.273 605.024 L701.446 571.317 L729.258 520.651  Z\n  \" fill=\"#51c468\" fill-rule=\"evenodd\" fill-opacity=\"0.7\"/>\n<path clip-path=\"url(#clip172)\" d=\"\nM729.258 520.651 L701.446 571.317 L749.619 542.845 L777.431 492.179  Z\n  \" fill=\"#62ca5f\" fill-rule=\"evenodd\" fill-opacity=\"0.7\"/>\n<path clip-path=\"url(#clip172)\" d=\"\nM777.431 492.179 L749.619 542.845 L797.791 519.607 L825.604 468.941  Z\n  \" fill=\"#72cf55\" fill-rule=\"evenodd\" fill-opacity=\"0.7\"/>\n<path clip-path=\"url(#clip172)\" d=\"\nM825.604 468.941 L797.791 519.607 L845.964 501.603 L873.776 450.936  Z\n  \" fill=\"#7ed24e\" fill-rule=\"evenodd\" fill-opacity=\"0.7\"/>\n<path clip-path=\"url(#clip172)\" d=\"\nM873.776 450.936 L845.964 501.603 L894.136 488.833 L921.949 438.166  Z\n  \" fill=\"#8bd546\" fill-rule=\"evenodd\" fill-opacity=\"0.7\"/>\n<path clip-path=\"url(#clip172)\" d=\"\nM921.949 438.166 L894.136 488.833 L942.309 481.297 L970.121 430.63  Z\n  \" fill=\"#92d741\" fill-rule=\"evenodd\" fill-opacity=\"0.7\"/>\n<path clip-path=\"url(#clip172)\" d=\"\nM970.121 430.63 L942.309 481.297 L990.481 478.994 L1018.29 428.328  Z\n  \" fill=\"#97d83e\" fill-rule=\"evenodd\" fill-opacity=\"0.7\"/>\n<path clip-path=\"url(#clip172)\" d=\"\nM1018.29 428.328 L990.481 478.994 L1038.65 481.926 L1066.47 431.259  Z\n  \" fill=\"#97d83e\" fill-rule=\"evenodd\" fill-opacity=\"0.7\"/>\n<path clip-path=\"url(#clip172)\" d=\"\nM1066.47 431.259 L1038.65 481.926 L1086.83 490.092 L1114.64 439.425  Z\n  \" fill=\"#97d83e\" fill-rule=\"evenodd\" fill-opacity=\"0.7\"/>\n<path clip-path=\"url(#clip172)\" d=\"\nM1114.64 439.425 L1086.83 490.092 L1135 503.491 L1162.81 452.825  Z\n  \" fill=\"#92d741\" fill-rule=\"evenodd\" fill-opacity=\"0.7\"/>\n<path clip-path=\"url(#clip172)\" d=\"\nM1162.81 452.825 L1135 503.491 L1183.17 522.125 L1210.98 471.458  Z\n  \" fill=\"#8bd546\" fill-rule=\"evenodd\" fill-opacity=\"0.7\"/>\n<path clip-path=\"url(#clip172)\" d=\"\nM1210.98 471.458 L1183.17 522.125 L1231.34 545.992 L1259.16 495.326  Z\n  \" fill=\"#7ed24e\" fill-rule=\"evenodd\" fill-opacity=\"0.7\"/>\n<path clip-path=\"url(#clip172)\" d=\"\nM1259.16 495.326 L1231.34 545.992 L1279.52 575.094 L1307.33 524.427  Z\n  \" fill=\"#72cf55\" fill-rule=\"evenodd\" fill-opacity=\"0.7\"/>\n<path clip-path=\"url(#clip172)\" d=\"\nM1307.33 524.427 L1279.52 575.094 L1327.69 609.429 L1355.5 558.762  Z\n  \" fill=\"#62ca5f\" fill-rule=\"evenodd\" fill-opacity=\"0.7\"/>\n<path clip-path=\"url(#clip172)\" d=\"\nM1355.5 558.762 L1327.69 609.429 L1375.86 648.998 L1403.67 598.332  Z\n  \" fill=\"#51c468\" fill-rule=\"evenodd\" fill-opacity=\"0.7\"/>\n<path clip-path=\"url(#clip172)\" d=\"\nM1403.67 598.332 L1375.86 648.998 L1424.03 693.802 L1451.85 643.135  Z\n  \" fill=\"#40bd72\" fill-rule=\"evenodd\" fill-opacity=\"0.7\"/>\n<path clip-path=\"url(#clip172)\" d=\"\nM1451.85 643.135 L1424.03 693.802 L1472.21 743.839 L1500.02 693.172  Z\n  \" fill=\"#30b47a\" fill-rule=\"evenodd\" fill-opacity=\"0.7\"/>\n<path clip-path=\"url(#clip172)\" d=\"\nM1500.02 693.172 L1472.21 743.839 L1520.38 799.11 L1548.19 748.444  Z\n  \" fill=\"#23a982\" fill-rule=\"evenodd\" fill-opacity=\"0.7\"/>\n<path clip-path=\"url(#clip172)\" d=\"\nM1548.19 748.444 L1520.38 799.11 L1568.55 859.615 L1596.36 808.949  Z\n  \" fill=\"#1e9e88\" fill-rule=\"evenodd\" fill-opacity=\"0.7\"/>\n<path clip-path=\"url(#clip172)\" d=\"\nM1596.36 808.949 L1568.55 859.615 L1616.72 925.355 L1644.54 874.688  Z\n  \" fill=\"#20918c\" fill-rule=\"evenodd\" fill-opacity=\"0.7\"/>\n<path clip-path=\"url(#clip172)\" d=\"\nM1644.54 874.688 L1616.72 925.355 L1664.9 996.328 L1692.71 945.661  Z\n  \" fill=\"#25838d\" fill-rule=\"evenodd\" fill-opacity=\"0.7\"/>\n<path clip-path=\"url(#clip172)\" d=\"\nM1692.71 945.661 L1664.9 996.328 L1713.07 1072.53 L1740.88 1021.87  Z\n  \" fill=\"#2b738e\" fill-rule=\"evenodd\" fill-opacity=\"0.7\"/>\n<path clip-path=\"url(#clip172)\" d=\"\nM316.066 987.517 L288.253 1043.42 L336.426 973.074 L364.238 917.173  Z\n  \" fill=\"#2f698d\" fill-rule=\"evenodd\" fill-opacity=\"0.7\"/>\n<path clip-path=\"url(#clip172)\" d=\"\nM364.238 917.173 L336.426 973.074 L384.598 907.964 L412.411 852.063  Z\n  \" fill=\"#29798e\" fill-rule=\"evenodd\" fill-opacity=\"0.7\"/>\n<path clip-path=\"url(#clip172)\" d=\"\nM412.411 852.063 L384.598 907.964 L432.771 848.088 L460.583 792.187  Z\n  \" fill=\"#23878d\" fill-rule=\"evenodd\" fill-opacity=\"0.7\"/>\n<path clip-path=\"url(#clip172)\" d=\"\nM460.583 792.187 L432.771 848.088 L480.943 793.446 L508.756 737.545  Z\n  \" fill=\"#1f948b\" fill-rule=\"evenodd\" fill-opacity=\"0.7\"/>\n<path clip-path=\"url(#clip172)\" d=\"\nM508.756 737.545 L480.943 793.446 L529.116 744.038 L556.928 688.138  Z\n  \" fill=\"#1ea087\" fill-rule=\"evenodd\" fill-opacity=\"0.7\"/>\n<path clip-path=\"url(#clip172)\" d=\"\nM556.928 688.138 L529.116 744.038 L577.288 699.864 L605.101 643.964  Z\n  \" fill=\"#25ab81\" fill-rule=\"evenodd\" fill-opacity=\"0.7\"/>\n<path clip-path=\"url(#clip172)\" d=\"\nM605.101 643.964 L577.288 699.864 L625.461 660.924 L653.273 605.024  Z\n  \" fill=\"#30b47a\" fill-rule=\"evenodd\" fill-opacity=\"0.7\"/>\n<path clip-path=\"url(#clip172)\" d=\"\nM653.273 605.024 L625.461 660.924 L673.634 627.218 L701.446 571.317  Z\n  \" fill=\"#3ebc73\" fill-rule=\"evenodd\" fill-opacity=\"0.7\"/>\n<path clip-path=\"url(#clip172)\" d=\"\nM701.446 571.317 L673.634 627.218 L721.806 598.746 L749.619 542.845  Z\n  \" fill=\"#4dc26b\" fill-rule=\"evenodd\" fill-opacity=\"0.7\"/>\n<path clip-path=\"url(#clip172)\" d=\"\nM749.619 542.845 L721.806 598.746 L769.979 575.508 L797.791 519.607  Z\n  \" fill=\"#5bc862\" fill-rule=\"evenodd\" fill-opacity=\"0.7\"/>\n<path clip-path=\"url(#clip172)\" d=\"\nM797.791 519.607 L769.979 575.508 L818.151 557.504 L845.964 501.603  Z\n  \" fill=\"#67cc5c\" fill-rule=\"evenodd\" fill-opacity=\"0.7\"/>\n<path clip-path=\"url(#clip172)\" d=\"\nM845.964 501.603 L818.151 557.504 L866.324 544.733 L894.136 488.833  Z\n  \" fill=\"#70ce56\" fill-rule=\"evenodd\" fill-opacity=\"0.7\"/>\n<path clip-path=\"url(#clip172)\" d=\"\nM894.136 488.833 L866.324 544.733 L914.496 537.197 L942.309 481.297  Z\n  \" fill=\"#77d052\" fill-rule=\"evenodd\" fill-opacity=\"0.7\"/>\n<path clip-path=\"url(#clip172)\" d=\"\nM942.309 481.297 L914.496 537.197 L962.669 534.895 L990.481 478.994  Z\n  \" fill=\"#7cd24f\" fill-rule=\"evenodd\" fill-opacity=\"0.7\"/>\n<path clip-path=\"url(#clip172)\" d=\"\nM990.481 478.994 L962.669 534.895 L1010.84 537.827 L1038.65 481.926  Z\n  \" fill=\"#7ed24e\" fill-rule=\"evenodd\" fill-opacity=\"0.7\"/>\n<path clip-path=\"url(#clip172)\" d=\"\nM1038.65 481.926 L1010.84 537.827 L1059.01 545.992 L1086.83 490.092  Z\n  \" fill=\"#7cd24f\" fill-rule=\"evenodd\" fill-opacity=\"0.7\"/>\n<path clip-path=\"url(#clip172)\" d=\"\nM1086.83 490.092 L1059.01 545.992 L1107.19 559.392 L1135 503.491  Z\n  \" fill=\"#77d052\" fill-rule=\"evenodd\" fill-opacity=\"0.7\"/>\n<path clip-path=\"url(#clip172)\" d=\"\nM1135 503.491 L1107.19 559.392 L1155.36 578.025 L1183.17 522.125  Z\n  \" fill=\"#70ce56\" fill-rule=\"evenodd\" fill-opacity=\"0.7\"/>\n<path clip-path=\"url(#clip172)\" d=\"\nM1183.17 522.125 L1155.36 578.025 L1203.53 601.893 L1231.34 545.992  Z\n  \" fill=\"#67cc5c\" fill-rule=\"evenodd\" fill-opacity=\"0.7\"/>\n<path clip-path=\"url(#clip172)\" d=\"\nM1231.34 545.992 L1203.53 601.893 L1251.7 630.994 L1279.52 575.094  Z\n  \" fill=\"#5bc862\" fill-rule=\"evenodd\" fill-opacity=\"0.7\"/>\n<path clip-path=\"url(#clip172)\" d=\"\nM1279.52 575.094 L1251.7 630.994 L1299.88 665.33 L1327.69 609.429  Z\n  \" fill=\"#4dc26b\" fill-rule=\"evenodd\" fill-opacity=\"0.7\"/>\n<path clip-path=\"url(#clip172)\" d=\"\nM1327.69 609.429 L1299.88 665.33 L1348.05 704.899 L1375.86 648.998  Z\n  \" fill=\"#3ebc73\" fill-rule=\"evenodd\" fill-opacity=\"0.7\"/>\n<path clip-path=\"url(#clip172)\" d=\"\nM1375.86 648.998 L1348.05 704.899 L1396.22 749.702 L1424.03 693.802  Z\n  \" fill=\"#30b47a\" fill-rule=\"evenodd\" fill-opacity=\"0.7\"/>\n<path clip-path=\"url(#clip172)\" d=\"\nM1424.03 693.802 L1396.22 749.702 L1444.39 799.74 L1472.21 743.839  Z\n  \" fill=\"#25ab81\" fill-rule=\"evenodd\" fill-opacity=\"0.7\"/>\n<path clip-path=\"url(#clip172)\" d=\"\nM1472.21 743.839 L1444.39 799.74 L1492.57 855.011 L1520.38 799.11  Z\n  \" fill=\"#1ea087\" fill-rule=\"evenodd\" fill-opacity=\"0.7\"/>\n<path clip-path=\"url(#clip172)\" d=\"\nM1520.38 799.11 L1492.57 855.011 L1540.74 915.516 L1568.55 859.615  Z\n  \" fill=\"#1f948b\" fill-rule=\"evenodd\" fill-opacity=\"0.7\"/>\n<path clip-path=\"url(#clip172)\" d=\"\nM1568.55 859.615 L1540.74 915.516 L1588.91 981.255 L1616.72 925.355  Z\n  \" fill=\"#23878d\" fill-rule=\"evenodd\" fill-opacity=\"0.7\"/>\n<path clip-path=\"url(#clip172)\" d=\"\nM1616.72 925.355 L1588.91 981.255 L1637.08 1052.23 L1664.9 996.328  Z\n  \" fill=\"#29798e\" fill-rule=\"evenodd\" fill-opacity=\"0.7\"/>\n<path clip-path=\"url(#clip172)\" d=\"\nM1664.9 996.328 L1637.08 1052.23 L1685.26 1128.44 L1713.07 1072.53  Z\n  \" fill=\"#2f698d\" fill-rule=\"evenodd\" fill-opacity=\"0.7\"/>\n<path clip-path=\"url(#clip172)\" d=\"\nM288.253 1043.42 L260.441 1104.55 L308.613 1034.21 L336.426 973.074  Z\n  \" fill=\"#355d8c\" fill-rule=\"evenodd\" fill-opacity=\"0.7\"/>\n<path clip-path=\"url(#clip172)\" d=\"\nM336.426 973.074 L308.613 1034.21 L356.786 969.098 L384.598 907.964  Z\n  \" fill=\"#2d6e8e\" fill-rule=\"evenodd\" fill-opacity=\"0.7\"/>\n<path clip-path=\"url(#clip172)\" d=\"\nM384.598 907.964 L356.786 969.098 L404.958 909.223 L432.771 848.088  Z\n  \" fill=\"#277c8e\" fill-rule=\"evenodd\" fill-opacity=\"0.7\"/>\n<path clip-path=\"url(#clip172)\" d=\"\nM432.771 848.088 L404.958 909.223 L453.131 854.581 L480.943 793.446  Z\n  \" fill=\"#22898d\" fill-rule=\"evenodd\" fill-opacity=\"0.7\"/>\n<path clip-path=\"url(#clip172)\" d=\"\nM480.943 793.446 L453.131 854.581 L501.303 805.173 L529.116 744.038  Z\n  \" fill=\"#1f968b\" fill-rule=\"evenodd\" fill-opacity=\"0.7\"/>\n<path clip-path=\"url(#clip172)\" d=\"\nM529.116 744.038 L501.303 805.173 L549.476 760.999 L577.288 699.864  Z\n  \" fill=\"#1ea087\" fill-rule=\"evenodd\" fill-opacity=\"0.7\"/>\n<path clip-path=\"url(#clip172)\" d=\"\nM577.288 699.864 L549.476 760.999 L597.649 722.059 L625.461 660.924  Z\n  \" fill=\"#23a982\" fill-rule=\"evenodd\" fill-opacity=\"0.7\"/>\n<path clip-path=\"url(#clip172)\" d=\"\nM625.461 660.924 L597.649 722.059 L645.821 688.353 L673.634 627.218  Z\n  \" fill=\"#2eb27c\" fill-rule=\"evenodd\" fill-opacity=\"0.7\"/>\n<path clip-path=\"url(#clip172)\" d=\"\nM673.634 627.218 L645.821 688.353 L693.994 659.881 L721.806 598.746  Z\n  \" fill=\"#38b976\" fill-rule=\"evenodd\" fill-opacity=\"0.7\"/>\n<path clip-path=\"url(#clip172)\" d=\"\nM721.806 598.746 L693.994 659.881 L742.166 636.642 L769.979 575.508  Z\n  \" fill=\"#44be70\" fill-rule=\"evenodd\" fill-opacity=\"0.7\"/>\n<path clip-path=\"url(#clip172)\" d=\"\nM769.979 575.508 L742.166 636.642 L790.339 618.638 L818.151 557.504  Z\n  \" fill=\"#4fc369\" fill-rule=\"evenodd\" fill-opacity=\"0.7\"/>\n<path clip-path=\"url(#clip172)\" d=\"\nM818.151 557.504 L790.339 618.638 L838.511 605.868 L866.324 544.733  Z\n  \" fill=\"#57c665\" fill-rule=\"evenodd\" fill-opacity=\"0.7\"/>\n<path clip-path=\"url(#clip172)\" d=\"\nM866.324 544.733 L838.511 605.868 L886.684 598.332 L914.496 537.197  Z\n  \" fill=\"#5ec961\" fill-rule=\"evenodd\" fill-opacity=\"0.7\"/>\n<path clip-path=\"url(#clip172)\" d=\"\nM914.496 537.197 L886.684 598.332 L934.856 596.029 L962.669 534.895  Z\n  \" fill=\"#62ca5f\" fill-rule=\"evenodd\" fill-opacity=\"0.7\"/>\n<path clip-path=\"url(#clip172)\" d=\"\nM962.669 534.895 L934.856 596.029 L983.029 598.961 L1010.84 537.827  Z\n  \" fill=\"#62ca5f\" fill-rule=\"evenodd\" fill-opacity=\"0.7\"/>\n<path clip-path=\"url(#clip172)\" d=\"\nM1010.84 537.827 L983.029 598.961 L1031.2 607.127 L1059.01 545.992  Z\n  \" fill=\"#62ca5f\" fill-rule=\"evenodd\" fill-opacity=\"0.7\"/>\n<path clip-path=\"url(#clip172)\" d=\"\nM1059.01 545.992 L1031.2 607.127 L1079.37 620.526 L1107.19 559.392  Z\n  \" fill=\"#5ec961\" fill-rule=\"evenodd\" fill-opacity=\"0.7\"/>\n<path clip-path=\"url(#clip172)\" d=\"\nM1107.19 559.392 L1079.37 620.526 L1127.55 639.16 L1155.36 578.025  Z\n  \" fill=\"#57c665\" fill-rule=\"evenodd\" fill-opacity=\"0.7\"/>\n<path clip-path=\"url(#clip172)\" d=\"\nM1155.36 578.025 L1127.55 639.16 L1175.72 663.027 L1203.53 601.893  Z\n  \" fill=\"#4fc369\" fill-rule=\"evenodd\" fill-opacity=\"0.7\"/>\n<path clip-path=\"url(#clip172)\" d=\"\nM1203.53 601.893 L1175.72 663.027 L1223.89 692.129 L1251.7 630.994  Z\n  \" fill=\"#44be70\" fill-rule=\"evenodd\" fill-opacity=\"0.7\"/>\n<path clip-path=\"url(#clip172)\" d=\"\nM1251.7 630.994 L1223.89 692.129 L1272.06 726.464 L1299.88 665.33  Z\n  \" fill=\"#38b976\" fill-rule=\"evenodd\" fill-opacity=\"0.7\"/>\n<path clip-path=\"url(#clip172)\" d=\"\nM1299.88 665.33 L1272.06 726.464 L1320.24 766.034 L1348.05 704.899  Z\n  \" fill=\"#2eb27c\" fill-rule=\"evenodd\" fill-opacity=\"0.7\"/>\n<path clip-path=\"url(#clip172)\" d=\"\nM1348.05 704.899 L1320.24 766.034 L1368.41 810.837 L1396.22 749.702  Z\n  \" fill=\"#23a982\" fill-rule=\"evenodd\" fill-opacity=\"0.7\"/>\n<path clip-path=\"url(#clip172)\" d=\"\nM1396.22 749.702 L1368.41 810.837 L1416.58 860.874 L1444.39 799.74  Z\n  \" fill=\"#1ea087\" fill-rule=\"evenodd\" fill-opacity=\"0.7\"/>\n<path clip-path=\"url(#clip172)\" d=\"\nM1444.39 799.74 L1416.58 860.874 L1464.75 916.145 L1492.57 855.011  Z\n  \" fill=\"#1f968b\" fill-rule=\"evenodd\" fill-opacity=\"0.7\"/>\n<path clip-path=\"url(#clip172)\" d=\"\nM1492.57 855.011 L1464.75 916.145 L1512.93 976.651 L1540.74 915.516  Z\n  \" fill=\"#22898d\" fill-rule=\"evenodd\" fill-opacity=\"0.7\"/>\n<path clip-path=\"url(#clip172)\" d=\"\nM1540.74 915.516 L1512.93 976.651 L1561.1 1042.39 L1588.91 981.255  Z\n  \" fill=\"#277c8e\" fill-rule=\"evenodd\" fill-opacity=\"0.7\"/>\n<path clip-path=\"url(#clip172)\" d=\"\nM1588.91 981.255 L1561.1 1042.39 L1609.27 1113.36 L1637.08 1052.23  Z\n  \" fill=\"#2d6e8e\" fill-rule=\"evenodd\" fill-opacity=\"0.7\"/>\n<path clip-path=\"url(#clip172)\" d=\"\nM1637.08 1052.23 L1609.27 1113.36 L1657.44 1189.57 L1685.26 1128.44  Z\n  \" fill=\"#355d8c\" fill-rule=\"evenodd\" fill-opacity=\"0.7\"/>\n<path clip-path=\"url(#clip172)\" d=\"\nM260.441 1104.55 L232.628 1170.92 L280.801 1100.58 L308.613 1034.21  Z\n  \" fill=\"#3b518a\" fill-rule=\"evenodd\" fill-opacity=\"0.7\"/>\n<path clip-path=\"url(#clip172)\" d=\"\nM308.613 1034.21 L280.801 1100.58 L328.973 1035.47 L356.786 969.098  Z\n  \" fill=\"#33618d\" fill-rule=\"evenodd\" fill-opacity=\"0.7\"/>\n<path clip-path=\"url(#clip172)\" d=\"\nM356.786 969.098 L328.973 1035.47 L377.146 975.591 L404.958 909.223  Z\n  \" fill=\"#2c708e\" fill-rule=\"evenodd\" fill-opacity=\"0.7\"/>\n<path clip-path=\"url(#clip172)\" d=\"\nM404.958 909.223 L377.146 975.591 L425.318 920.949 L453.131 854.581  Z\n  \" fill=\"#277d8e\" fill-rule=\"evenodd\" fill-opacity=\"0.7\"/>\n<path clip-path=\"url(#clip172)\" d=\"\nM453.131 854.581 L425.318 920.949 L473.491 871.541 L501.303 805.173  Z\n  \" fill=\"#22898d\" fill-rule=\"evenodd\" fill-opacity=\"0.7\"/>\n<path clip-path=\"url(#clip172)\" d=\"\nM501.303 805.173 L473.491 871.541 L521.664 827.367 L549.476 760.999  Z\n  \" fill=\"#1f948b\" fill-rule=\"evenodd\" fill-opacity=\"0.7\"/>\n<path clip-path=\"url(#clip172)\" d=\"\nM549.476 760.999 L521.664 827.367 L569.836 788.427 L597.649 722.059  Z\n  \" fill=\"#1e9e88\" fill-rule=\"evenodd\" fill-opacity=\"0.7\"/>\n<path clip-path=\"url(#clip172)\" d=\"\nM597.649 722.059 L569.836 788.427 L618.009 754.721 L645.821 688.353  Z\n  \" fill=\"#21a784\" fill-rule=\"evenodd\" fill-opacity=\"0.7\"/>\n<path clip-path=\"url(#clip172)\" d=\"\nM645.821 688.353 L618.009 754.721 L666.181 726.249 L693.994 659.881  Z\n  \" fill=\"#28ae7f\" fill-rule=\"evenodd\" fill-opacity=\"0.7\"/>\n<path clip-path=\"url(#clip172)\" d=\"\nM693.994 659.881 L666.181 726.249 L714.354 703.011 L742.166 636.642  Z\n  \" fill=\"#2fb37b\" fill-rule=\"evenodd\" fill-opacity=\"0.7\"/>\n<path clip-path=\"url(#clip172)\" d=\"\nM742.166 636.642 L714.354 703.011 L762.526 685.007 L790.339 618.638  Z\n  \" fill=\"#38b976\" fill-rule=\"evenodd\" fill-opacity=\"0.7\"/>\n<path clip-path=\"url(#clip172)\" d=\"\nM790.339 618.638 L762.526 685.007 L810.699 672.237 L838.511 605.868  Z\n  \" fill=\"#3ebc73\" fill-rule=\"evenodd\" fill-opacity=\"0.7\"/>\n<path clip-path=\"url(#clip172)\" d=\"\nM838.511 605.868 L810.699 672.237 L858.871 664.7 L886.684 598.332  Z\n  \" fill=\"#44be70\" fill-rule=\"evenodd\" fill-opacity=\"0.7\"/>\n<path clip-path=\"url(#clip172)\" d=\"\nM886.684 598.332 L858.871 664.7 L907.044 662.398 L934.856 596.029  Z\n  \" fill=\"#47c06e\" fill-rule=\"evenodd\" fill-opacity=\"0.7\"/>\n<path clip-path=\"url(#clip172)\" d=\"\nM934.856 596.029 L907.044 662.398 L955.217 665.33 L983.029 598.961  Z\n  \" fill=\"#49c16d\" fill-rule=\"evenodd\" fill-opacity=\"0.7\"/>\n<path clip-path=\"url(#clip172)\" d=\"\nM983.029 598.961 L955.217 665.33 L1003.39 673.495 L1031.2 607.127  Z\n  \" fill=\"#47c06e\" fill-rule=\"evenodd\" fill-opacity=\"0.7\"/>\n<path clip-path=\"url(#clip172)\" d=\"\nM1031.2 607.127 L1003.39 673.495 L1051.56 686.895 L1079.37 620.526  Z\n  \" fill=\"#44be70\" fill-rule=\"evenodd\" fill-opacity=\"0.7\"/>\n<path clip-path=\"url(#clip172)\" d=\"\nM1079.37 620.526 L1051.56 686.895 L1099.73 705.528 L1127.55 639.16  Z\n  \" fill=\"#3ebc73\" fill-rule=\"evenodd\" fill-opacity=\"0.7\"/>\n<path clip-path=\"url(#clip172)\" d=\"\nM1127.55 639.16 L1099.73 705.528 L1147.91 729.396 L1175.72 663.027  Z\n  \" fill=\"#38b976\" fill-rule=\"evenodd\" fill-opacity=\"0.7\"/>\n<path clip-path=\"url(#clip172)\" d=\"\nM1175.72 663.027 L1147.91 729.396 L1196.08 758.497 L1223.89 692.129  Z\n  \" fill=\"#2fb37b\" fill-rule=\"evenodd\" fill-opacity=\"0.7\"/>\n<path clip-path=\"url(#clip172)\" d=\"\nM1223.89 692.129 L1196.08 758.497 L1244.25 792.833 L1272.06 726.464  Z\n  \" fill=\"#28ae7f\" fill-rule=\"evenodd\" fill-opacity=\"0.7\"/>\n<path clip-path=\"url(#clip172)\" d=\"\nM1272.06 726.464 L1244.25 792.833 L1292.42 832.402 L1320.24 766.034  Z\n  \" fill=\"#21a784\" fill-rule=\"evenodd\" fill-opacity=\"0.7\"/>\n<path clip-path=\"url(#clip172)\" d=\"\nM1320.24 766.034 L1292.42 832.402 L1340.6 877.205 L1368.41 810.837  Z\n  \" fill=\"#1e9e88\" fill-rule=\"evenodd\" fill-opacity=\"0.7\"/>\n<path clip-path=\"url(#clip172)\" d=\"\nM1368.41 810.837 L1340.6 877.205 L1388.77 927.243 L1416.58 860.874  Z\n  \" fill=\"#1f948b\" fill-rule=\"evenodd\" fill-opacity=\"0.7\"/>\n<path clip-path=\"url(#clip172)\" d=\"\nM1416.58 860.874 L1388.77 927.243 L1436.94 982.514 L1464.75 916.145  Z\n  \" fill=\"#22898d\" fill-rule=\"evenodd\" fill-opacity=\"0.7\"/>\n<path clip-path=\"url(#clip172)\" d=\"\nM1464.75 916.145 L1436.94 982.514 L1485.11 1043.02 L1512.93 976.651  Z\n  \" fill=\"#277d8e\" fill-rule=\"evenodd\" fill-opacity=\"0.7\"/>\n<path clip-path=\"url(#clip172)\" d=\"\nM1512.93 976.651 L1485.11 1043.02 L1533.29 1108.76 L1561.1 1042.39  Z\n  \" fill=\"#2c708e\" fill-rule=\"evenodd\" fill-opacity=\"0.7\"/>\n<path clip-path=\"url(#clip172)\" d=\"\nM1561.1 1042.39 L1533.29 1108.76 L1581.46 1179.73 L1609.27 1113.36  Z\n  \" fill=\"#33618d\" fill-rule=\"evenodd\" fill-opacity=\"0.7\"/>\n<path clip-path=\"url(#clip172)\" d=\"\nM1609.27 1113.36 L1581.46 1179.73 L1629.63 1255.94 L1657.44 1189.57  Z\n  \" fill=\"#3b518a\" fill-rule=\"evenodd\" fill-opacity=\"0.7\"/>\n<path clip-path=\"url(#clip172)\" d=\"\nM232.628 1170.92 L204.816 1242.52 L252.988 1172.18 L280.801 1100.58  Z\n  \" fill=\"#414186\" fill-rule=\"evenodd\" fill-opacity=\"0.7\"/>\n<path clip-path=\"url(#clip172)\" d=\"\nM280.801 1100.58 L252.988 1172.18 L301.161 1107.07 L328.973 1035.47  Z\n  \" fill=\"#3a538b\" fill-rule=\"evenodd\" fill-opacity=\"0.7\"/>\n<path clip-path=\"url(#clip172)\" d=\"\nM328.973 1035.47 L301.161 1107.07 L349.333 1047.19 L377.146 975.591  Z\n  \" fill=\"#32628d\" fill-rule=\"evenodd\" fill-opacity=\"0.7\"/>\n<path clip-path=\"url(#clip172)\" d=\"\nM377.146 975.591 L349.333 1047.19 L397.506 992.552 L425.318 920.949  Z\n  \" fill=\"#2c708e\" fill-rule=\"evenodd\" fill-opacity=\"0.7\"/>\n<path clip-path=\"url(#clip172)\" d=\"\nM425.318 920.949 L397.506 992.552 L445.679 943.144 L473.491 871.541  Z\n  \" fill=\"#277c8e\" fill-rule=\"evenodd\" fill-opacity=\"0.7\"/>\n<path clip-path=\"url(#clip172)\" d=\"\nM473.491 871.541 L445.679 943.144 L493.851 898.97 L521.664 827.367  Z\n  \" fill=\"#23878d\" fill-rule=\"evenodd\" fill-opacity=\"0.7\"/>\n<path clip-path=\"url(#clip172)\" d=\"\nM521.664 827.367 L493.851 898.97 L542.024 860.03 L569.836 788.427  Z\n  \" fill=\"#20918c\" fill-rule=\"evenodd\" fill-opacity=\"0.7\"/>\n<path clip-path=\"url(#clip172)\" d=\"\nM569.836 788.427 L542.024 860.03 L590.196 826.324 L618.009 754.721  Z\n  \" fill=\"#1e998a\" fill-rule=\"evenodd\" fill-opacity=\"0.7\"/>\n<path clip-path=\"url(#clip172)\" d=\"\nM618.009 754.721 L590.196 826.324 L638.369 797.852 L666.181 726.249  Z\n  \" fill=\"#1fa187\" fill-rule=\"evenodd\" fill-opacity=\"0.7\"/>\n<path clip-path=\"url(#clip172)\" d=\"\nM666.181 726.249 L638.369 797.852 L686.541 774.613 L714.354 703.011  Z\n  \" fill=\"#21a784\" fill-rule=\"evenodd\" fill-opacity=\"0.7\"/>\n<path clip-path=\"url(#clip172)\" d=\"\nM714.354 703.011 L686.541 774.613 L734.714 756.609 L762.526 685.007  Z\n  \" fill=\"#26ac81\" fill-rule=\"evenodd\" fill-opacity=\"0.7\"/>\n<path clip-path=\"url(#clip172)\" d=\"\nM762.526 685.007 L734.714 756.609 L782.886 743.839 L810.699 672.237  Z\n  \" fill=\"#2ab07e\" fill-rule=\"evenodd\" fill-opacity=\"0.7\"/>\n<path clip-path=\"url(#clip172)\" d=\"\nM810.699 672.237 L782.886 743.839 L831.059 736.303 L858.871 664.7  Z\n  \" fill=\"#2eb27c\" fill-rule=\"evenodd\" fill-opacity=\"0.7\"/>\n<path clip-path=\"url(#clip172)\" d=\"\nM858.871 664.7 L831.059 736.303 L879.232 734 L907.044 662.398  Z\n  \" fill=\"#30b47a\" fill-rule=\"evenodd\" fill-opacity=\"0.7\"/>\n<path clip-path=\"url(#clip172)\" d=\"\nM907.044 662.398 L879.232 734 L927.404 736.932 L955.217 665.33  Z\n  \" fill=\"#32b57a\" fill-rule=\"evenodd\" fill-opacity=\"0.7\"/>\n<path clip-path=\"url(#clip172)\" d=\"\nM955.217 665.33 L927.404 736.932 L975.577 745.098 L1003.39 673.495  Z\n  \" fill=\"#30b47a\" fill-rule=\"evenodd\" fill-opacity=\"0.7\"/>\n<path clip-path=\"url(#clip172)\" d=\"\nM1003.39 673.495 L975.577 745.098 L1023.75 758.497 L1051.56 686.895  Z\n  \" fill=\"#2eb27c\" fill-rule=\"evenodd\" fill-opacity=\"0.7\"/>\n<path clip-path=\"url(#clip172)\" d=\"\nM1051.56 686.895 L1023.75 758.497 L1071.92 777.131 L1099.73 705.528  Z\n  \" fill=\"#2ab07e\" fill-rule=\"evenodd\" fill-opacity=\"0.7\"/>\n<path clip-path=\"url(#clip172)\" d=\"\nM1099.73 705.528 L1071.92 777.131 L1120.09 800.998 L1147.91 729.396  Z\n  \" fill=\"#26ac81\" fill-rule=\"evenodd\" fill-opacity=\"0.7\"/>\n<path clip-path=\"url(#clip172)\" d=\"\nM1147.91 729.396 L1120.09 800.998 L1168.27 830.1 L1196.08 758.497  Z\n  \" fill=\"#21a784\" fill-rule=\"evenodd\" fill-opacity=\"0.7\"/>\n<path clip-path=\"url(#clip172)\" d=\"\nM1196.08 758.497 L1168.27 830.1 L1216.44 864.435 L1244.25 792.833  Z\n  \" fill=\"#1fa187\" fill-rule=\"evenodd\" fill-opacity=\"0.7\"/>\n<path clip-path=\"url(#clip172)\" d=\"\nM1244.25 792.833 L1216.44 864.435 L1264.61 904.005 L1292.42 832.402  Z\n  \" fill=\"#1e998a\" fill-rule=\"evenodd\" fill-opacity=\"0.7\"/>\n<path clip-path=\"url(#clip172)\" d=\"\nM1292.42 832.402 L1264.61 904.005 L1312.78 948.808 L1340.6 877.205  Z\n  \" fill=\"#20918c\" fill-rule=\"evenodd\" fill-opacity=\"0.7\"/>\n<path clip-path=\"url(#clip172)\" d=\"\nM1340.6 877.205 L1312.78 948.808 L1360.96 998.845 L1388.77 927.243  Z\n  \" fill=\"#23878d\" fill-rule=\"evenodd\" fill-opacity=\"0.7\"/>\n<path clip-path=\"url(#clip172)\" d=\"\nM1388.77 927.243 L1360.96 998.845 L1409.13 1054.12 L1436.94 982.514  Z\n  \" fill=\"#277c8e\" fill-rule=\"evenodd\" fill-opacity=\"0.7\"/>\n<path clip-path=\"url(#clip172)\" d=\"\nM1436.94 982.514 L1409.13 1054.12 L1457.3 1114.62 L1485.11 1043.02  Z\n  \" fill=\"#2c708e\" fill-rule=\"evenodd\" fill-opacity=\"0.7\"/>\n<path clip-path=\"url(#clip172)\" d=\"\nM1485.11 1043.02 L1457.3 1114.62 L1505.47 1180.36 L1533.29 1108.76  Z\n  \" fill=\"#32628d\" fill-rule=\"evenodd\" fill-opacity=\"0.7\"/>\n<path clip-path=\"url(#clip172)\" d=\"\nM1533.29 1108.76 L1505.47 1180.36 L1553.65 1251.33 L1581.46 1179.73  Z\n  \" fill=\"#3a538b\" fill-rule=\"evenodd\" fill-opacity=\"0.7\"/>\n<path clip-path=\"url(#clip172)\" d=\"\nM1581.46 1179.73 L1553.65 1251.33 L1601.82 1327.54 L1629.63 1255.94  Z\n  \" fill=\"#414186\" fill-rule=\"evenodd\" fill-opacity=\"0.7\"/>\n<path clip-path=\"url(#clip172)\" d=\"\nM204.816 1242.52 L177.003 1319.36 L225.176 1249.02 L252.988 1172.18  Z\n  \" fill=\"#462d7c\" fill-rule=\"evenodd\" fill-opacity=\"0.7\"/>\n<path clip-path=\"url(#clip172)\" d=\"\nM252.988 1172.18 L225.176 1249.02 L273.348 1183.91 L301.161 1107.07  Z\n  \" fill=\"#414286\" fill-rule=\"evenodd\" fill-opacity=\"0.7\"/>\n<path clip-path=\"url(#clip172)\" d=\"\nM301.161 1107.07 L273.348 1183.91 L321.521 1124.03 L349.333 1047.19  Z\n  \" fill=\"#3a538b\" fill-rule=\"evenodd\" fill-opacity=\"0.7\"/>\n<path clip-path=\"url(#clip172)\" d=\"\nM349.333 1047.19 L321.521 1124.03 L369.694 1069.39 L397.506 992.552  Z\n  \" fill=\"#33618d\" fill-rule=\"evenodd\" fill-opacity=\"0.7\"/>\n<path clip-path=\"url(#clip172)\" d=\"\nM397.506 992.552 L369.694 1069.39 L417.866 1019.98 L445.679 943.144  Z\n  \" fill=\"#2d6e8e\" fill-rule=\"evenodd\" fill-opacity=\"0.7\"/>\n<path clip-path=\"url(#clip172)\" d=\"\nM445.679 943.144 L417.866 1019.98 L466.039 975.806 L493.851 898.97  Z\n  \" fill=\"#29798e\" fill-rule=\"evenodd\" fill-opacity=\"0.7\"/>\n<path clip-path=\"url(#clip172)\" d=\"\nM493.851 898.97 L466.039 975.806 L514.211 936.866 L542.024 860.03  Z\n  \" fill=\"#25838d\" fill-rule=\"evenodd\" fill-opacity=\"0.7\"/>\n<path clip-path=\"url(#clip172)\" d=\"\nM542.024 860.03 L514.211 936.866 L562.384 903.16 L590.196 826.324  Z\n  \" fill=\"#228b8d\" fill-rule=\"evenodd\" fill-opacity=\"0.7\"/>\n<path clip-path=\"url(#clip172)\" d=\"\nM590.196 826.324 L562.384 903.16 L610.556 874.688 L638.369 797.852  Z\n  \" fill=\"#1f938b\" fill-rule=\"evenodd\" fill-opacity=\"0.7\"/>\n<path clip-path=\"url(#clip172)\" d=\"\nM638.369 797.852 L610.556 874.688 L658.729 851.45 L686.541 774.613  Z\n  \" fill=\"#1e998a\" fill-rule=\"evenodd\" fill-opacity=\"0.7\"/>\n<path clip-path=\"url(#clip172)\" d=\"\nM686.541 774.613 L658.729 851.45 L706.901 833.446 L734.714 756.609  Z\n  \" fill=\"#1e9e88\" fill-rule=\"evenodd\" fill-opacity=\"0.7\"/>\n<path clip-path=\"url(#clip172)\" d=\"\nM734.714 756.609 L706.901 833.446 L755.074 820.675 L782.886 743.839  Z\n  \" fill=\"#1fa286\" fill-rule=\"evenodd\" fill-opacity=\"0.7\"/>\n<path clip-path=\"url(#clip172)\" d=\"\nM782.886 743.839 L755.074 820.675 L803.247 813.139 L831.059 736.303  Z\n  \" fill=\"#20a585\" fill-rule=\"evenodd\" fill-opacity=\"0.7\"/>\n<path clip-path=\"url(#clip172)\" d=\"\nM831.059 736.303 L803.247 813.139 L851.419 810.837 L879.232 734  Z\n  \" fill=\"#21a784\" fill-rule=\"evenodd\" fill-opacity=\"0.7\"/>\n<path clip-path=\"url(#clip172)\" d=\"\nM879.232 734 L851.419 810.837 L899.592 813.769 L927.404 736.932  Z\n  \" fill=\"#21a784\" fill-rule=\"evenodd\" fill-opacity=\"0.7\"/>\n<path clip-path=\"url(#clip172)\" d=\"\nM927.404 736.932 L899.592 813.769 L947.764 821.934 L975.577 745.098  Z\n  \" fill=\"#21a784\" fill-rule=\"evenodd\" fill-opacity=\"0.7\"/>\n<path clip-path=\"url(#clip172)\" d=\"\nM975.577 745.098 L947.764 821.934 L995.937 835.334 L1023.75 758.497  Z\n  \" fill=\"#20a585\" fill-rule=\"evenodd\" fill-opacity=\"0.7\"/>\n<path clip-path=\"url(#clip172)\" d=\"\nM1023.75 758.497 L995.937 835.334 L1044.11 853.967 L1071.92 777.131  Z\n  \" fill=\"#1fa286\" fill-rule=\"evenodd\" fill-opacity=\"0.7\"/>\n<path clip-path=\"url(#clip172)\" d=\"\nM1071.92 777.131 L1044.11 853.967 L1092.28 877.835 L1120.09 800.998  Z\n  \" fill=\"#1e9e88\" fill-rule=\"evenodd\" fill-opacity=\"0.7\"/>\n<path clip-path=\"url(#clip172)\" d=\"\nM1120.09 800.998 L1092.28 877.835 L1140.45 906.936 L1168.27 830.1  Z\n  \" fill=\"#1e998a\" fill-rule=\"evenodd\" fill-opacity=\"0.7\"/>\n<path clip-path=\"url(#clip172)\" d=\"\nM1168.27 830.1 L1140.45 906.936 L1188.63 941.272 L1216.44 864.435  Z\n  \" fill=\"#1f938b\" fill-rule=\"evenodd\" fill-opacity=\"0.7\"/>\n<path clip-path=\"url(#clip172)\" d=\"\nM1216.44 864.435 L1188.63 941.272 L1236.8 980.841 L1264.61 904.005  Z\n  \" fill=\"#228b8d\" fill-rule=\"evenodd\" fill-opacity=\"0.7\"/>\n<path clip-path=\"url(#clip172)\" d=\"\nM1264.61 904.005 L1236.8 980.841 L1284.97 1025.64 L1312.78 948.808  Z\n  \" fill=\"#25838d\" fill-rule=\"evenodd\" fill-opacity=\"0.7\"/>\n<path clip-path=\"url(#clip172)\" d=\"\nM1312.78 948.808 L1284.97 1025.64 L1333.14 1075.68 L1360.96 998.845  Z\n  \" fill=\"#29798e\" fill-rule=\"evenodd\" fill-opacity=\"0.7\"/>\n<path clip-path=\"url(#clip172)\" d=\"\nM1360.96 998.845 L1333.14 1075.68 L1381.32 1130.95 L1409.13 1054.12  Z\n  \" fill=\"#2d6e8e\" fill-rule=\"evenodd\" fill-opacity=\"0.7\"/>\n<path clip-path=\"url(#clip172)\" d=\"\nM1409.13 1054.12 L1381.32 1130.95 L1429.49 1191.46 L1457.3 1114.62  Z\n  \" fill=\"#33618d\" fill-rule=\"evenodd\" fill-opacity=\"0.7\"/>\n<path clip-path=\"url(#clip172)\" d=\"\nM1457.3 1114.62 L1429.49 1191.46 L1477.66 1257.2 L1505.47 1180.36  Z\n  \" fill=\"#3a538b\" fill-rule=\"evenodd\" fill-opacity=\"0.7\"/>\n<path clip-path=\"url(#clip172)\" d=\"\nM1505.47 1180.36 L1477.66 1257.2 L1525.84 1328.17 L1553.65 1251.33  Z\n  \" fill=\"#414286\" fill-rule=\"evenodd\" fill-opacity=\"0.7\"/>\n<path clip-path=\"url(#clip172)\" d=\"\nM1553.65 1251.33 L1525.84 1328.17 L1574.01 1404.38 L1601.82 1327.54  Z\n  \" fill=\"#462d7c\" fill-rule=\"evenodd\" fill-opacity=\"0.7\"/>\n<path clip-path=\"url(#clip172)\" d=\"\nM177.003 1319.36 L149.191 1401.43 L197.363 1331.09 L225.176 1249.02  Z\n  \" fill=\"#48196b\" fill-rule=\"evenodd\" fill-opacity=\"0.7\"/>\n<path clip-path=\"url(#clip172)\" d=\"\nM225.176 1249.02 L197.363 1331.09 L245.536 1265.98 L273.348 1183.91  Z\n  \" fill=\"#462d7c\" fill-rule=\"evenodd\" fill-opacity=\"0.7\"/>\n<path clip-path=\"url(#clip172)\" d=\"\nM273.348 1183.91 L245.536 1265.98 L293.709 1206.1 L321.521 1124.03  Z\n  \" fill=\"#414186\" fill-rule=\"evenodd\" fill-opacity=\"0.7\"/>\n<path clip-path=\"url(#clip172)\" d=\"\nM321.521 1124.03 L293.709 1206.1 L341.881 1151.46 L369.694 1069.39  Z\n  \" fill=\"#3b518a\" fill-rule=\"evenodd\" fill-opacity=\"0.7\"/>\n<path clip-path=\"url(#clip172)\" d=\"\nM369.694 1069.39 L341.881 1151.46 L390.054 1102.05 L417.866 1019.98  Z\n  \" fill=\"#355d8c\" fill-rule=\"evenodd\" fill-opacity=\"0.7\"/>\n<path clip-path=\"url(#clip172)\" d=\"\nM417.866 1019.98 L390.054 1102.05 L438.226 1057.88 L466.039 975.806  Z\n  \" fill=\"#2f698d\" fill-rule=\"evenodd\" fill-opacity=\"0.7\"/>\n<path clip-path=\"url(#clip172)\" d=\"\nM466.039 975.806 L438.226 1057.88 L486.399 1018.94 L514.211 936.866  Z\n  \" fill=\"#2b738e\" fill-rule=\"evenodd\" fill-opacity=\"0.7\"/>\n<path clip-path=\"url(#clip172)\" d=\"\nM514.211 936.866 L486.399 1018.94 L534.571 985.23 L562.384 903.16  Z\n  \" fill=\"#287b8e\" fill-rule=\"evenodd\" fill-opacity=\"0.7\"/>\n<path clip-path=\"url(#clip172)\" d=\"\nM562.384 903.16 L534.571 985.23 L582.744 956.758 L610.556 874.688  Z\n  \" fill=\"#25838d\" fill-rule=\"evenodd\" fill-opacity=\"0.7\"/>\n<path clip-path=\"url(#clip172)\" d=\"\nM610.556 874.688 L582.744 956.758 L630.916 933.52 L658.729 851.45  Z\n  \" fill=\"#22898d\" fill-rule=\"evenodd\" fill-opacity=\"0.7\"/>\n<path clip-path=\"url(#clip172)\" d=\"\nM658.729 851.45 L630.916 933.52 L679.089 915.516 L706.901 833.446  Z\n  \" fill=\"#218e8c\" fill-rule=\"evenodd\" fill-opacity=\"0.7\"/>\n<path clip-path=\"url(#clip172)\" d=\"\nM706.901 833.446 L679.089 915.516 L727.262 902.746 L755.074 820.675  Z\n  \" fill=\"#1f938b\" fill-rule=\"evenodd\" fill-opacity=\"0.7\"/>\n<path clip-path=\"url(#clip172)\" d=\"\nM755.074 820.675 L727.262 902.746 L775.434 895.21 L803.247 813.139  Z\n  \" fill=\"#1f968b\" fill-rule=\"evenodd\" fill-opacity=\"0.7\"/>\n<path clip-path=\"url(#clip172)\" d=\"\nM803.247 813.139 L775.434 895.21 L823.607 892.907 L851.419 810.837  Z\n  \" fill=\"#1e978a\" fill-rule=\"evenodd\" fill-opacity=\"0.7\"/>\n<path clip-path=\"url(#clip172)\" d=\"\nM851.419 810.837 L823.607 892.907 L871.779 895.839 L899.592 813.769  Z\n  \" fill=\"#1e988a\" fill-rule=\"evenodd\" fill-opacity=\"0.7\"/>\n<path clip-path=\"url(#clip172)\" d=\"\nM899.592 813.769 L871.779 895.839 L919.952 904.005 L947.764 821.934  Z\n  \" fill=\"#1e978a\" fill-rule=\"evenodd\" fill-opacity=\"0.7\"/>\n<path clip-path=\"url(#clip172)\" d=\"\nM947.764 821.934 L919.952 904.005 L968.124 917.404 L995.937 835.334  Z\n  \" fill=\"#1f968b\" fill-rule=\"evenodd\" fill-opacity=\"0.7\"/>\n<path clip-path=\"url(#clip172)\" d=\"\nM995.937 835.334 L968.124 917.404 L1016.3 936.038 L1044.11 853.967  Z\n  \" fill=\"#1f938b\" fill-rule=\"evenodd\" fill-opacity=\"0.7\"/>\n<path clip-path=\"url(#clip172)\" d=\"\nM1044.11 853.967 L1016.3 936.038 L1064.47 959.905 L1092.28 877.835  Z\n  \" fill=\"#218e8c\" fill-rule=\"evenodd\" fill-opacity=\"0.7\"/>\n<path clip-path=\"url(#clip172)\" d=\"\nM1092.28 877.835 L1064.47 959.905 L1112.64 989.007 L1140.45 906.936  Z\n  \" fill=\"#22898d\" fill-rule=\"evenodd\" fill-opacity=\"0.7\"/>\n<path clip-path=\"url(#clip172)\" d=\"\nM1140.45 906.936 L1112.64 989.007 L1160.81 1023.34 L1188.63 941.272  Z\n  \" fill=\"#25838d\" fill-rule=\"evenodd\" fill-opacity=\"0.7\"/>\n<path clip-path=\"url(#clip172)\" d=\"\nM1188.63 941.272 L1160.81 1023.34 L1208.99 1062.91 L1236.8 980.841  Z\n  \" fill=\"#287b8e\" fill-rule=\"evenodd\" fill-opacity=\"0.7\"/>\n<path clip-path=\"url(#clip172)\" d=\"\nM1236.8 980.841 L1208.99 1062.91 L1257.16 1107.71 L1284.97 1025.64  Z\n  \" fill=\"#2b738e\" fill-rule=\"evenodd\" fill-opacity=\"0.7\"/>\n<path clip-path=\"url(#clip172)\" d=\"\nM1284.97 1025.64 L1257.16 1107.71 L1305.33 1157.75 L1333.14 1075.68  Z\n  \" fill=\"#2f698d\" fill-rule=\"evenodd\" fill-opacity=\"0.7\"/>\n<path clip-path=\"url(#clip172)\" d=\"\nM1333.14 1075.68 L1305.33 1157.75 L1353.5 1213.02 L1381.32 1130.95  Z\n  \" fill=\"#355d8c\" fill-rule=\"evenodd\" fill-opacity=\"0.7\"/>\n<path clip-path=\"url(#clip172)\" d=\"\nM1381.32 1130.95 L1353.5 1213.02 L1401.68 1273.53 L1429.49 1191.46  Z\n  \" fill=\"#3b518a\" fill-rule=\"evenodd\" fill-opacity=\"0.7\"/>\n<path clip-path=\"url(#clip172)\" d=\"\nM1429.49 1191.46 L1401.68 1273.53 L1449.85 1339.27 L1477.66 1257.2  Z\n  \" fill=\"#414186\" fill-rule=\"evenodd\" fill-opacity=\"0.7\"/>\n<path clip-path=\"url(#clip172)\" d=\"\nM1477.66 1257.2 L1449.85 1339.27 L1498.02 1410.24 L1525.84 1328.17  Z\n  \" fill=\"#462d7c\" fill-rule=\"evenodd\" fill-opacity=\"0.7\"/>\n<path clip-path=\"url(#clip172)\" d=\"\nM1525.84 1328.17 L1498.02 1410.24 L1546.2 1486.45 L1574.01 1404.38  Z\n  \" fill=\"#48196b\" fill-rule=\"evenodd\" fill-opacity=\"0.7\"/>\n</svg>\n"
     },
     "execution_count": 45,
     "metadata": {},
     "output_type": "execute_result"
    }
   ],
   "source": [
    "mmplotter(:max)"
   ]
  },
  {
   "cell_type": "markdown",
   "metadata": {},
   "source": [
    "In addition to the surface plot, we can have a contour plot, which shows a top down view of the surface plot above. "
   ]
  },
  {
   "cell_type": "code",
   "execution_count": 46,
   "metadata": {},
   "outputs": [
    {
     "data": {
      "image/svg+xml": "<?xml version=\"1.0\" encoding=\"utf-8\"?>\n<svg xmlns=\"http://www.w3.org/2000/svg\" xmlns:xlink=\"http://www.w3.org/1999/xlink\" width=\"600\" height=\"400\" viewBox=\"0 0 2400 1600\">\n<defs>\n  <clipPath id=\"clip210\">\n    <rect x=\"0\" y=\"0\" width=\"2400\" height=\"1600\"/>\n  </clipPath>\n</defs>\n<path clip-path=\"url(#clip210)\" d=\"\nM0 1600 L2400 1600 L2400 0 L0 0  Z\n  \" fill=\"#ffffff\" fill-rule=\"evenodd\" fill-opacity=\"1\"/>\n<defs>\n  <clipPath id=\"clip211\">\n    <rect x=\"480\" y=\"0\" width=\"1681\" height=\"1600\"/>\n  </clipPath>\n</defs>\n<path clip-path=\"url(#clip210)\" d=\"\nM147.478 1486.45 L2352.76 1486.45 L2352.76 47.2441 L147.478 47.2441  Z\n  \" fill=\"#ffffff\" fill-rule=\"evenodd\" fill-opacity=\"1\"/>\n<defs>\n  <clipPath id=\"clip212\">\n    <rect x=\"147\" y=\"47\" width=\"2206\" height=\"1440\"/>\n  </clipPath>\n</defs>\n<polyline clip-path=\"url(#clip212)\" style=\"stroke:#000000; stroke-linecap:butt; stroke-linejoin:round; stroke-width:2; stroke-opacity:0.1; fill:none\" points=\"\n  147.478,1486.45 147.478,47.2441 \n  \"/>\n<polyline clip-path=\"url(#clip212)\" style=\"stroke:#000000; stroke-linecap:butt; stroke-linejoin:round; stroke-width:2; stroke-opacity:0.1; fill:none\" points=\"\n  698.797,1486.45 698.797,47.2441 \n  \"/>\n<polyline clip-path=\"url(#clip212)\" style=\"stroke:#000000; stroke-linecap:butt; stroke-linejoin:round; stroke-width:2; stroke-opacity:0.1; fill:none\" points=\"\n  1250.12,1486.45 1250.12,47.2441 \n  \"/>\n<polyline clip-path=\"url(#clip212)\" style=\"stroke:#000000; stroke-linecap:butt; stroke-linejoin:round; stroke-width:2; stroke-opacity:0.1; fill:none\" points=\"\n  1801.44,1486.45 1801.44,47.2441 \n  \"/>\n<polyline clip-path=\"url(#clip212)\" style=\"stroke:#000000; stroke-linecap:butt; stroke-linejoin:round; stroke-width:2; stroke-opacity:0.1; fill:none\" points=\"\n  2352.76,1486.45 2352.76,47.2441 \n  \"/>\n<polyline clip-path=\"url(#clip210)\" style=\"stroke:#000000; stroke-linecap:butt; stroke-linejoin:round; stroke-width:4; stroke-opacity:1; fill:none\" points=\"\n  147.478,1486.45 2352.76,1486.45 \n  \"/>\n<polyline clip-path=\"url(#clip210)\" style=\"stroke:#000000; stroke-linecap:butt; stroke-linejoin:round; stroke-width:4; stroke-opacity:1; fill:none\" points=\"\n  147.478,1486.45 147.478,1467.55 \n  \"/>\n<polyline clip-path=\"url(#clip210)\" style=\"stroke:#000000; stroke-linecap:butt; stroke-linejoin:round; stroke-width:4; stroke-opacity:1; fill:none\" points=\"\n  698.797,1486.45 698.797,1467.55 \n  \"/>\n<polyline clip-path=\"url(#clip210)\" style=\"stroke:#000000; stroke-linecap:butt; stroke-linejoin:round; stroke-width:4; stroke-opacity:1; fill:none\" points=\"\n  1250.12,1486.45 1250.12,1467.55 \n  \"/>\n<polyline clip-path=\"url(#clip210)\" style=\"stroke:#000000; stroke-linecap:butt; stroke-linejoin:round; stroke-width:4; stroke-opacity:1; fill:none\" points=\"\n  1801.44,1486.45 1801.44,1467.55 \n  \"/>\n<polyline clip-path=\"url(#clip210)\" style=\"stroke:#000000; stroke-linecap:butt; stroke-linejoin:round; stroke-width:4; stroke-opacity:1; fill:none\" points=\"\n  2352.76,1486.45 2352.76,1467.55 \n  \"/>\n<path clip-path=\"url(#clip210)\" d=\"M117.42 1532.02 L147.096 1532.02 L147.096 1535.95 L117.42 1535.95 L117.42 1532.02 Z\" fill=\"#000000\" fill-rule=\"evenodd\" fill-opacity=\"1\" /><path clip-path=\"url(#clip210)\" d=\"M161.216 1544.91 L177.536 1544.91 L177.536 1548.85 L155.591 1548.85 L155.591 1544.91 Q158.253 1542.16 162.837 1537.53 Q167.443 1532.88 168.624 1531.53 Q170.869 1529.01 171.749 1527.27 Q172.651 1525.51 172.651 1523.82 Q172.651 1521.07 170.707 1519.33 Q168.786 1517.6 165.684 1517.6 Q163.485 1517.6 161.031 1518.36 Q158.601 1519.13 155.823 1520.68 L155.823 1515.95 Q158.647 1514.82 161.101 1514.24 Q163.554 1513.66 165.591 1513.66 Q170.962 1513.66 174.156 1516.35 Q177.35 1519.03 177.35 1523.52 Q177.35 1525.65 176.54 1527.57 Q175.753 1529.47 173.647 1532.07 Q173.068 1532.74 169.966 1535.95 Q166.864 1539.15 161.216 1544.91 Z\" fill=\"#000000\" fill-rule=\"evenodd\" fill-opacity=\"1\" /><path clip-path=\"url(#clip210)\" d=\"M668.555 1532.02 L698.23 1532.02 L698.23 1535.95 L668.555 1535.95 L668.555 1532.02 Z\" fill=\"#000000\" fill-rule=\"evenodd\" fill-opacity=\"1\" /><path clip-path=\"url(#clip210)\" d=\"M709.133 1544.91 L716.772 1544.91 L716.772 1518.55 L708.462 1520.21 L708.462 1515.95 L716.726 1514.29 L721.401 1514.29 L721.401 1544.91 L729.04 1544.91 L729.04 1548.85 L709.133 1548.85 L709.133 1544.91 Z\" fill=\"#000000\" fill-rule=\"evenodd\" fill-opacity=\"1\" /><path clip-path=\"url(#clip210)\" d=\"M1250.12 1517.37 Q1246.51 1517.37 1244.68 1520.93 Q1242.87 1524.47 1242.87 1531.6 Q1242.87 1538.71 1244.68 1542.27 Q1246.51 1545.82 1250.12 1545.82 Q1253.75 1545.82 1255.56 1542.27 Q1257.39 1538.71 1257.39 1531.6 Q1257.39 1524.47 1255.56 1520.93 Q1253.75 1517.37 1250.12 1517.37 M1250.12 1513.66 Q1255.93 1513.66 1258.98 1518.27 Q1262.06 1522.85 1262.06 1531.6 Q1262.06 1540.33 1258.98 1544.94 Q1255.93 1549.52 1250.12 1549.52 Q1244.31 1549.52 1241.23 1544.94 Q1238.17 1540.33 1238.17 1531.6 Q1238.17 1522.85 1241.23 1518.27 Q1244.31 1513.66 1250.12 1513.66 Z\" fill=\"#000000\" fill-rule=\"evenodd\" fill-opacity=\"1\" /><path clip-path=\"url(#clip210)\" d=\"M1791.82 1544.91 L1799.46 1544.91 L1799.46 1518.55 L1791.15 1520.21 L1791.15 1515.95 L1799.41 1514.29 L1804.09 1514.29 L1804.09 1544.91 L1811.73 1544.91 L1811.73 1548.85 L1791.82 1548.85 L1791.82 1544.91 Z\" fill=\"#000000\" fill-rule=\"evenodd\" fill-opacity=\"1\" /><path clip-path=\"url(#clip210)\" d=\"M2347.41 1544.91 L2363.73 1544.91 L2363.73 1548.85 L2341.78 1548.85 L2341.78 1544.91 Q2344.45 1542.16 2349.03 1537.53 Q2353.64 1532.88 2354.82 1531.53 Q2357.06 1529.01 2357.94 1527.27 Q2358.84 1525.51 2358.84 1523.82 Q2358.84 1521.07 2356.9 1519.33 Q2354.98 1517.6 2351.88 1517.6 Q2349.68 1517.6 2347.22 1518.36 Q2344.79 1519.13 2342.02 1520.68 L2342.02 1515.95 Q2344.84 1514.82 2347.29 1514.24 Q2349.75 1513.66 2351.78 1513.66 Q2357.15 1513.66 2360.35 1516.35 Q2363.54 1519.03 2363.54 1523.52 Q2363.54 1525.65 2362.73 1527.57 Q2361.95 1529.47 2359.84 1532.07 Q2359.26 1532.74 2356.16 1535.95 Q2353.06 1539.15 2347.41 1544.91 Z\" fill=\"#000000\" fill-rule=\"evenodd\" fill-opacity=\"1\" /><polyline clip-path=\"url(#clip212)\" style=\"stroke:#000000; stroke-linecap:butt; stroke-linejoin:round; stroke-width:2; stroke-opacity:0.1; fill:none\" points=\"\n  147.478,1486.45 2352.76,1486.45 \n  \"/>\n<polyline clip-path=\"url(#clip212)\" style=\"stroke:#000000; stroke-linecap:butt; stroke-linejoin:round; stroke-width:2; stroke-opacity:0.1; fill:none\" points=\"\n  147.478,1126.65 2352.76,1126.65 \n  \"/>\n<polyline clip-path=\"url(#clip212)\" style=\"stroke:#000000; stroke-linecap:butt; stroke-linejoin:round; stroke-width:2; stroke-opacity:0.1; fill:none\" points=\"\n  147.478,766.846 2352.76,766.846 \n  \"/>\n<polyline clip-path=\"url(#clip212)\" style=\"stroke:#000000; stroke-linecap:butt; stroke-linejoin:round; stroke-width:2; stroke-opacity:0.1; fill:none\" points=\"\n  147.478,407.045 2352.76,407.045 \n  \"/>\n<polyline clip-path=\"url(#clip212)\" style=\"stroke:#000000; stroke-linecap:butt; stroke-linejoin:round; stroke-width:2; stroke-opacity:0.1; fill:none\" points=\"\n  147.478,47.2441 2352.76,47.2441 \n  \"/>\n<polyline clip-path=\"url(#clip210)\" style=\"stroke:#000000; stroke-linecap:butt; stroke-linejoin:round; stroke-width:4; stroke-opacity:1; fill:none\" points=\"\n  147.478,1486.45 147.478,47.2441 \n  \"/>\n<polyline clip-path=\"url(#clip210)\" style=\"stroke:#000000; stroke-linecap:butt; stroke-linejoin:round; stroke-width:4; stroke-opacity:1; fill:none\" points=\"\n  147.478,1486.45 166.376,1486.45 \n  \"/>\n<polyline clip-path=\"url(#clip210)\" style=\"stroke:#000000; stroke-linecap:butt; stroke-linejoin:round; stroke-width:4; stroke-opacity:1; fill:none\" points=\"\n  147.478,1126.65 166.376,1126.65 \n  \"/>\n<polyline clip-path=\"url(#clip210)\" style=\"stroke:#000000; stroke-linecap:butt; stroke-linejoin:round; stroke-width:4; stroke-opacity:1; fill:none\" points=\"\n  147.478,766.846 166.376,766.846 \n  \"/>\n<polyline clip-path=\"url(#clip210)\" style=\"stroke:#000000; stroke-linecap:butt; stroke-linejoin:round; stroke-width:4; stroke-opacity:1; fill:none\" points=\"\n  147.478,407.045 166.376,407.045 \n  \"/>\n<polyline clip-path=\"url(#clip210)\" style=\"stroke:#000000; stroke-linecap:butt; stroke-linejoin:round; stroke-width:4; stroke-opacity:1; fill:none\" points=\"\n  147.478,47.2441 166.376,47.2441 \n  \"/>\n<path clip-path=\"url(#clip210)\" d=\"M51.3625 1486.9 L81.0383 1486.9 L81.0383 1490.83 L51.3625 1490.83 L51.3625 1486.9 Z\" fill=\"#000000\" fill-rule=\"evenodd\" fill-opacity=\"1\" /><path clip-path=\"url(#clip210)\" d=\"M95.1586 1499.79 L111.478 1499.79 L111.478 1503.73 L89.5336 1503.73 L89.5336 1499.79 Q92.1956 1497.04 96.7789 1492.41 Q101.385 1487.76 102.566 1486.41 Q104.811 1483.89 105.691 1482.15 Q106.594 1480.39 106.594 1478.7 Q106.594 1475.95 104.649 1474.21 Q102.728 1472.48 99.6261 1472.48 Q97.4271 1472.48 94.9734 1473.24 Q92.5428 1474.01 89.7651 1475.56 L89.7651 1470.83 Q92.5891 1469.7 95.0428 1469.12 Q97.4965 1468.54 99.5335 1468.54 Q104.904 1468.54 108.098 1471.23 Q111.293 1473.91 111.293 1478.4 Q111.293 1480.53 110.483 1482.45 Q109.696 1484.35 107.589 1486.95 Q107.01 1487.62 103.909 1490.83 Q100.807 1494.03 95.1586 1499.79 Z\" fill=\"#000000\" fill-rule=\"evenodd\" fill-opacity=\"1\" /><path clip-path=\"url(#clip210)\" d=\"M50.9921 1127.1 L80.6679 1127.1 L80.6679 1131.03 L50.9921 1131.03 L50.9921 1127.1 Z\" fill=\"#000000\" fill-rule=\"evenodd\" fill-opacity=\"1\" /><path clip-path=\"url(#clip210)\" d=\"M91.5706 1139.99 L99.2095 1139.99 L99.2095 1113.63 L90.8993 1115.29 L90.8993 1111.03 L99.1632 1109.37 L103.839 1109.37 L103.839 1139.99 L111.478 1139.99 L111.478 1143.93 L91.5706 1143.93 L91.5706 1139.99 Z\" fill=\"#000000\" fill-rule=\"evenodd\" fill-opacity=\"1\" /><path clip-path=\"url(#clip210)\" d=\"M99.5335 752.645 Q95.9224 752.645 94.0937 756.209 Q92.2882 759.751 92.2882 766.881 Q92.2882 773.987 94.0937 777.552 Q95.9224 781.094 99.5335 781.094 Q103.168 781.094 104.973 777.552 Q106.802 773.987 106.802 766.881 Q106.802 759.751 104.973 756.209 Q103.168 752.645 99.5335 752.645 M99.5335 748.941 Q105.344 748.941 108.399 753.547 Q111.478 758.131 111.478 766.881 Q111.478 775.608 108.399 780.214 Q105.344 784.797 99.5335 784.797 Q93.7234 784.797 90.6447 780.214 Q87.5892 775.608 87.5892 766.881 Q87.5892 758.131 90.6447 753.547 Q93.7234 748.941 99.5335 748.941 Z\" fill=\"#000000\" fill-rule=\"evenodd\" fill-opacity=\"1\" /><path clip-path=\"url(#clip210)\" d=\"M91.5706 420.39 L99.2095 420.39 L99.2095 394.024 L90.8993 395.691 L90.8993 391.432 L99.1632 389.765 L103.839 389.765 L103.839 420.39 L111.478 420.39 L111.478 424.325 L91.5706 424.325 L91.5706 420.39 Z\" fill=\"#000000\" fill-rule=\"evenodd\" fill-opacity=\"1\" /><path clip-path=\"url(#clip210)\" d=\"M95.1586 60.5889 L111.478 60.5889 L111.478 64.5241 L89.5336 64.5241 L89.5336 60.5889 Q92.1956 57.8343 96.7789 53.2047 Q101.385 48.552 102.566 47.2094 Q104.811 44.6862 105.691 42.9501 Q106.594 41.1909 106.594 39.5011 Q106.594 36.7465 104.649 35.0104 Q102.728 33.2743 99.6261 33.2743 Q97.4271 33.2743 94.9734 34.0381 Q92.5428 34.802 89.7651 36.3529 L89.7651 31.6308 Q92.5891 30.4965 95.0428 29.9178 Q97.4965 29.3391 99.5335 29.3391 Q104.904 29.3391 108.098 32.0243 Q111.293 34.7094 111.293 39.2002 Q111.293 41.3298 110.483 43.2511 Q109.696 45.1492 107.589 47.7418 Q107.01 48.4131 103.909 51.6306 Q100.807 54.8251 95.1586 60.5889 Z\" fill=\"#000000\" fill-rule=\"evenodd\" fill-opacity=\"1\" /><path clip-path=\"url(#clip212)\" d=\"\nM147.478 1486.45 L147.478 1486.45 L223.522 1486.45 L299.566 1486.45 L375.61 1486.45 L451.654 1486.45 L527.698 1486.45 L603.742 1486.45 L679.786 1486.45 L755.83 1486.45 \n  L831.875 1486.45 L907.919 1486.45 L983.963 1486.45 L1060.01 1486.45 L1136.05 1486.45 L1212.09 1486.45 L1288.14 1486.45 L1364.18 1486.45 L1440.23 1486.45 L1516.27 1486.45 \n  L1592.32 1486.45 L1668.36 1486.45 L1744.4 1486.45 L1820.45 1486.45 L1896.49 1486.45 L1972.54 1486.45 L2048.58 1486.45 L2124.62 1486.45 L2200.67 1486.45 L2276.71 1486.45 \n  L2352.76 1486.45 L2352.76 1486.45 L2352.76 1486.45 L2352.76 1486.45 L2352.76 1436.82 L2352.76 1387.19 L2352.76 1337.56 L2352.76 1287.94 L2352.76 1238.31 L2352.76 1188.68 \n  L2352.76 1139.05 L2352.76 1089.43 L2352.76 1039.8 L2352.76 990.171 L2352.76 940.543 L2352.76 890.915 L2352.76 841.288 L2352.76 791.66 L2352.76 742.032 L2352.76 692.404 \n  L2352.76 642.777 L2352.76 593.149 L2352.76 543.521 L2352.76 493.894 L2352.76 444.266 L2352.76 394.638 L2352.76 345.01 L2352.76 295.383 L2352.76 245.755 L2352.76 196.127 \n  L2352.76 146.5 L2352.76 96.8718 L2352.76 47.2441 L2352.76 47.2441 L2352.76 47.2441 L2352.76 47.2441 L2276.71 47.2441 L2200.67 47.2441 L2124.62 47.2441 L2048.58 47.2441 \n  L1972.54 47.2441 L1896.49 47.2441 L1820.45 47.2441 L1744.4 47.2441 L1668.36 47.2441 L1592.32 47.2441 L1516.27 47.2441 L1440.23 47.2441 L1364.18 47.2441 L1288.14 47.2441 \n  L1212.09 47.2441 L1136.05 47.2441 L1060.01 47.2441 L983.963 47.2441 L907.919 47.2441 L831.875 47.2441 L755.83 47.2441 L679.786 47.2441 L603.742 47.2441 L527.698 47.2441 \n  L451.654 47.2441 L375.61 47.2441 L299.566 47.2441 L223.522 47.2441 L147.478 47.2441 L147.478 47.2441 L147.478 47.2441 L147.478 47.2441 L147.478 96.8718 L147.478 146.5 \n  L147.478 196.127 L147.478 245.755 L147.478 295.383 L147.478 345.01 L147.478 394.638 L147.478 444.266 L147.478 493.894 L147.478 543.521 L147.478 593.149 L147.478 642.777 \n  L147.478 692.404 L147.478 742.032 L147.478 791.66 L147.478 841.288 L147.478 890.915 L147.478 940.543 L147.478 990.171 L147.478 1039.8 L147.478 1089.43 L147.478 1139.05 \n  L147.478 1188.68 L147.478 1238.31 L147.478 1287.94 L147.478 1337.56 L147.478 1387.19 L147.478 1436.82 L147.478 1486.45 L147.478 1486.45 L147.478 1486.45  Z\n  \" fill=\"#440154\" fill-rule=\"evenodd\" fill-opacity=\"0.5\"/>\n<path clip-path=\"url(#clip212)\" d=\"\nM223.522 1486.45 L299.566 1486.45 L375.61 1486.45 L451.654 1486.45 L527.698 1486.45 L603.742 1486.45 L679.786 1486.45 L755.83 1486.45 L831.875 1486.45 L907.919 1486.45 \n  L983.963 1486.45 L1060.01 1486.45 L1136.05 1486.45 L1212.09 1486.45 L1288.14 1486.45 L1364.18 1486.45 L1440.23 1486.45 L1516.27 1486.45 L1592.32 1486.45 L1668.36 1486.45 \n  L1744.4 1486.45 L1820.45 1486.45 L1896.49 1486.45 L1972.54 1486.45 L2048.58 1486.45 L2124.62 1486.45 L2200.67 1486.45 L2276.71 1486.45 L2276.71 1486.45 L2281.46 1486.45 \n  L2352.76 1439.92 L2352.76 1486.45 L2352.76 1436.82 L2352.76 1387.19 L2352.76 1337.56 L2352.76 1287.94 L2352.76 1238.31 L2352.76 1188.68 L2352.76 1139.05 L2352.76 1089.43 \n  L2352.76 1039.8 L2352.76 990.171 L2352.76 940.543 L2352.76 890.915 L2352.76 841.288 L2352.76 791.66 L2352.76 742.032 L2352.76 692.404 L2352.76 642.777 L2352.76 593.149 \n  L2352.76 543.521 L2352.76 493.894 L2352.76 444.266 L2352.76 394.638 L2352.76 345.01 L2352.76 295.383 L2352.76 245.755 L2352.76 196.127 L2352.76 146.5 L2352.76 96.8718 \n  L2352.76 96.8718 L2352.76 93.7701 L2281.46 47.2441 L2276.71 47.2441 L2276.71 47.2441 L2200.67 47.2441 L2124.62 47.2441 L2048.58 47.2441 L1972.54 47.2441 L1896.49 47.2441 \n  L1820.45 47.2441 L1744.4 47.2441 L1668.36 47.2441 L1592.32 47.2441 L1516.27 47.2441 L1440.23 47.2441 L1364.18 47.2441 L1288.14 47.2441 L1212.09 47.2441 L1136.05 47.2441 \n  L1060.01 47.2441 L983.963 47.2441 L907.919 47.2441 L831.875 47.2441 L755.83 47.2441 L679.786 47.2441 L603.742 47.2441 L527.698 47.2441 L451.654 47.2441 L375.61 47.2441 \n  L299.566 47.2441 L223.522 47.2441 L147.478 47.2441 L218.769 47.2441 L147.478 93.7701 L147.478 96.8718 L147.478 96.8718 L147.478 146.5 L147.478 196.127 L147.478 245.755 \n  L147.478 295.383 L147.478 345.01 L147.478 394.638 L147.478 444.266 L147.478 493.894 L147.478 543.521 L147.478 593.149 L147.478 642.777 L147.478 692.404 L147.478 742.032 \n  L147.478 791.66 L147.478 841.288 L147.478 890.915 L147.478 940.543 L147.478 990.171 L147.478 1039.8 L147.478 1089.43 L147.478 1139.05 L147.478 1188.68 L147.478 1238.31 \n  L147.478 1287.94 L147.478 1337.56 L147.478 1387.19 L147.478 1436.82 L147.478 1486.45 L147.478 1439.92 L218.769 1486.45 L147.478 1486.45 L223.522 1486.45  Z\n  \" fill=\"#48196b\" fill-rule=\"evenodd\" fill-opacity=\"0.5\"/>\n<path clip-path=\"url(#clip212)\" d=\"\nM299.566 1486.45 L375.61 1486.45 L451.654 1486.45 L527.698 1486.45 L603.742 1486.45 L679.786 1486.45 L755.83 1486.45 L831.875 1486.45 L907.919 1486.45 L983.963 1486.45 \n  L1060.01 1486.45 L1136.05 1486.45 L1212.09 1486.45 L1288.14 1486.45 L1364.18 1486.45 L1440.23 1486.45 L1516.27 1486.45 L1592.32 1486.45 L1668.36 1486.45 L1744.4 1486.45 \n  L1820.45 1486.45 L1896.49 1486.45 L1972.54 1486.45 L2048.58 1486.45 L2124.62 1486.45 L2200.67 1486.45 L2200.67 1486.45 L2205.05 1486.45 L2276.71 1443.02 L2286.22 1436.82 \n  L2352.76 1390.06 L2352.76 1436.82 L2352.76 1387.19 L2352.76 1337.56 L2352.76 1287.94 L2352.76 1238.31 L2352.76 1188.68 L2352.76 1139.05 L2352.76 1089.43 L2352.76 1039.8 \n  L2352.76 990.171 L2352.76 940.543 L2352.76 890.915 L2352.76 841.288 L2352.76 791.66 L2352.76 742.032 L2352.76 692.404 L2352.76 642.777 L2352.76 593.149 L2352.76 543.521 \n  L2352.76 493.894 L2352.76 444.266 L2352.76 394.638 L2352.76 345.01 L2352.76 295.383 L2352.76 245.755 L2352.76 196.127 L2352.76 146.5 L2352.76 146.5 L2352.76 143.636 \n  L2286.22 96.8718 L2276.71 90.6683 L2205.05 47.2441 L2200.67 47.2441 L2200.67 47.2441 L2124.62 47.2441 L2048.58 47.2441 L1972.54 47.2441 L1896.49 47.2441 L1820.45 47.2441 \n  L1744.4 47.2441 L1668.36 47.2441 L1592.32 47.2441 L1516.27 47.2441 L1440.23 47.2441 L1364.18 47.2441 L1288.14 47.2441 L1212.09 47.2441 L1136.05 47.2441 L1060.01 47.2441 \n  L983.963 47.2441 L907.919 47.2441 L831.875 47.2441 L755.83 47.2441 L679.786 47.2441 L603.742 47.2441 L527.698 47.2441 L451.654 47.2441 L375.61 47.2441 L299.566 47.2441 \n  L223.522 47.2441 L295.179 47.2441 L223.522 90.6683 L214.016 96.8718 L147.478 143.636 L147.478 146.5 L147.478 146.5 L147.478 196.127 L147.478 245.755 L147.478 295.383 \n  L147.478 345.01 L147.478 394.638 L147.478 444.266 L147.478 493.894 L147.478 543.521 L147.478 593.149 L147.478 642.777 L147.478 692.404 L147.478 742.032 L147.478 791.66 \n  L147.478 841.288 L147.478 890.915 L147.478 940.543 L147.478 990.171 L147.478 1039.8 L147.478 1089.43 L147.478 1139.05 L147.478 1188.68 L147.478 1238.31 L147.478 1287.94 \n  L147.478 1337.56 L147.478 1387.19 L147.478 1436.82 L147.478 1390.06 L214.016 1436.82 L223.522 1443.02 L295.179 1486.45 L223.522 1486.45 L299.566 1486.45  Z\n  \" fill=\"#462f7c\" fill-rule=\"evenodd\" fill-opacity=\"0.5\"/>\n<path clip-path=\"url(#clip212)\" d=\"\nM451.654 1486.45 L527.698 1486.45 L603.742 1486.45 L679.786 1486.45 L755.83 1486.45 L831.875 1486.45 L907.919 1486.45 L983.963 1486.45 L1060.01 1486.45 L1136.05 1486.45 \n  L1212.09 1486.45 L1288.14 1486.45 L1364.18 1486.45 L1440.23 1486.45 L1516.27 1486.45 L1592.32 1486.45 L1668.36 1486.45 L1744.4 1486.45 L1820.45 1486.45 L1896.49 1486.45 \n  L1972.54 1486.45 L2048.58 1486.45 L2048.58 1486.45 L2122.03 1486.45 L2124.62 1485.12 L2200.67 1442.58 L2210.17 1436.82 L2276.71 1393.4 L2285.54 1387.19 L2350.72 1337.56 \n  L2352.76 1335.87 L2352.76 1337.56 L2352.76 1287.94 L2352.76 1238.31 L2352.76 1188.68 L2352.76 1139.05 L2352.76 1089.43 L2352.76 1039.8 L2352.76 990.171 L2352.76 940.543 \n  L2352.76 890.915 L2352.76 841.288 L2352.76 791.66 L2352.76 742.032 L2352.76 692.404 L2352.76 642.777 L2352.76 593.149 L2352.76 543.521 L2352.76 493.894 L2352.76 444.266 \n  L2352.76 394.638 L2352.76 345.01 L2352.76 295.383 L2352.76 245.755 L2352.76 245.755 L2352.76 197.819 L2350.72 196.127 L2285.54 146.5 L2276.71 140.296 L2210.17 96.8718 \n  L2200.67 91.1115 L2124.62 48.5734 L2122.03 47.2441 L2048.58 47.2441 L2048.58 47.2441 L1972.54 47.2441 L1896.49 47.2441 L1820.45 47.2441 L1744.4 47.2441 L1668.36 47.2441 \n  L1592.32 47.2441 L1516.27 47.2441 L1440.23 47.2441 L1364.18 47.2441 L1288.14 47.2441 L1212.09 47.2441 L1136.05 47.2441 L1060.01 47.2441 L983.963 47.2441 L907.919 47.2441 \n  L831.875 47.2441 L755.83 47.2441 L679.786 47.2441 L603.742 47.2441 L527.698 47.2441 L451.654 47.2441 L375.61 47.2441 L378.203 47.2441 L375.61 48.5734 L299.566 91.1115 \n  L290.061 96.8718 L223.522 140.296 L214.695 146.5 L149.515 196.127 L147.478 197.819 L147.478 245.755 L147.478 245.755 L147.478 295.383 L147.478 345.01 L147.478 394.638 \n  L147.478 444.266 L147.478 493.894 L147.478 543.521 L147.478 593.149 L147.478 642.777 L147.478 692.404 L147.478 742.032 L147.478 791.66 L147.478 841.288 L147.478 890.915 \n  L147.478 940.543 L147.478 990.171 L147.478 1039.8 L147.478 1089.43 L147.478 1139.05 L147.478 1188.68 L147.478 1238.31 L147.478 1287.94 L147.478 1337.56 L147.478 1335.87 \n  L149.515 1337.56 L214.695 1387.19 L223.522 1393.4 L290.061 1436.82 L299.566 1442.58 L375.61 1485.12 L378.203 1486.45 L375.61 1486.45 L451.654 1486.45  Z\n  \" fill=\"#404387\" fill-rule=\"evenodd\" fill-opacity=\"0.5\"/>\n<path clip-path=\"url(#clip212)\" d=\"\nM527.698 1486.45 L603.742 1486.45 L679.786 1486.45 L755.83 1486.45 L831.875 1486.45 L907.919 1486.45 L983.963 1486.45 L1060.01 1486.45 L1136.05 1486.45 L1212.09 1486.45 \n  L1288.14 1486.45 L1364.18 1486.45 L1440.23 1486.45 L1516.27 1486.45 L1592.32 1486.45 L1668.36 1486.45 L1744.4 1486.45 L1820.45 1486.45 L1896.49 1486.45 L1972.54 1486.45 \n  L1972.54 1486.45 L2029.57 1486.45 L2048.58 1477.59 L2124.62 1438.59 L2127.79 1436.82 L2200.67 1392.92 L2209.44 1387.19 L2276.71 1339.63 L2279.43 1337.56 L2339.18 1287.94 \n  L2352.76 1275.53 L2352.76 1287.94 L2352.76 1238.31 L2352.76 1188.68 L2352.76 1139.05 L2352.76 1089.43 L2352.76 1039.8 L2352.76 990.171 L2352.76 940.543 L2352.76 890.915 \n  L2352.76 841.288 L2352.76 791.66 L2352.76 742.032 L2352.76 692.404 L2352.76 642.777 L2352.76 593.149 L2352.76 543.521 L2352.76 493.894 L2352.76 444.266 L2352.76 394.638 \n  L2352.76 345.01 L2352.76 295.383 L2352.76 295.383 L2352.76 258.162 L2339.18 245.755 L2279.43 196.127 L2276.71 194.059 L2209.44 146.5 L2200.67 140.773 L2127.79 96.8718 \n  L2124.62 95.0994 L2048.58 56.1062 L2029.57 47.2441 L1972.54 47.2441 L1972.54 47.2441 L1896.49 47.2441 L1820.45 47.2441 L1744.4 47.2441 L1668.36 47.2441 L1592.32 47.2441 \n  L1516.27 47.2441 L1440.23 47.2441 L1364.18 47.2441 L1288.14 47.2441 L1212.09 47.2441 L1136.05 47.2441 L1060.01 47.2441 L983.963 47.2441 L907.919 47.2441 L831.875 47.2441 \n  L755.83 47.2441 L679.786 47.2441 L603.742 47.2441 L527.698 47.2441 L451.654 47.2441 L470.665 47.2441 L451.654 56.1062 L375.61 95.0994 L372.442 96.8718 L299.566 140.773 \n  L290.792 146.5 L223.522 194.059 L220.806 196.127 L161.057 245.755 L147.478 258.162 L147.478 295.383 L147.478 295.383 L147.478 345.01 L147.478 394.638 L147.478 444.266 \n  L147.478 493.894 L147.478 543.521 L147.478 593.149 L147.478 642.777 L147.478 692.404 L147.478 742.032 L147.478 791.66 L147.478 841.288 L147.478 890.915 L147.478 940.543 \n  L147.478 990.171 L147.478 1039.8 L147.478 1089.43 L147.478 1139.05 L147.478 1188.68 L147.478 1238.31 L147.478 1287.94 L147.478 1275.53 L161.057 1287.94 L220.806 1337.56 \n  L223.522 1339.63 L290.792 1387.19 L299.566 1392.92 L372.442 1436.82 L375.61 1438.59 L451.654 1477.59 L470.665 1486.45 L451.654 1486.45 L527.698 1486.45  Z\n  \" fill=\"#38568b\" fill-rule=\"evenodd\" fill-opacity=\"0.5\"/>\n<path clip-path=\"url(#clip212)\" d=\"\nM603.742 1486.45 L679.786 1486.45 L755.83 1486.45 L831.875 1486.45 L907.919 1486.45 L983.963 1486.45 L1060.01 1486.45 L1136.05 1486.45 L1212.09 1486.45 L1288.14 1486.45 \n  L1364.18 1486.45 L1440.23 1486.45 L1516.27 1486.45 L1592.32 1486.45 L1668.36 1486.45 L1744.4 1486.45 L1820.45 1486.45 L1896.49 1486.45 L1896.49 1486.45 L1925.01 1486.45 \n  L1972.54 1466.51 L2036.22 1436.82 L2048.58 1430.62 L2124.62 1388.62 L2127 1387.19 L2200.67 1339.12 L2202.86 1337.56 L2267.21 1287.94 L2276.71 1279.87 L2322.2 1238.31 \n  L2352.76 1207.29 L2352.76 1238.31 L2352.76 1188.68 L2352.76 1139.05 L2352.76 1089.43 L2352.76 1039.8 L2352.76 990.171 L2352.76 940.543 L2352.76 890.915 L2352.76 841.288 \n  L2352.76 791.66 L2352.76 742.032 L2352.76 692.404 L2352.76 642.777 L2352.76 593.149 L2352.76 543.521 L2352.76 493.894 L2352.76 444.266 L2352.76 394.638 L2352.76 345.01 \n  L2352.76 345.01 L2352.76 326.4 L2322.2 295.383 L2276.71 253.819 L2267.21 245.755 L2202.86 196.127 L2200.67 194.576 L2127 146.5 L2124.62 145.068 L2048.58 103.075 \n  L2036.22 96.8718 L1972.54 67.1838 L1925.01 47.2441 L1896.49 47.2441 L1896.49 47.2441 L1820.45 47.2441 L1744.4 47.2441 L1668.36 47.2441 L1592.32 47.2441 L1516.27 47.2441 \n  L1440.23 47.2441 L1364.18 47.2441 L1288.14 47.2441 L1212.09 47.2441 L1136.05 47.2441 L1060.01 47.2441 L983.963 47.2441 L907.919 47.2441 L831.875 47.2441 L755.83 47.2441 \n  L679.786 47.2441 L603.742 47.2441 L527.698 47.2441 L575.226 47.2441 L527.698 67.1838 L464.011 96.8718 L451.654 103.075 L375.61 145.068 L373.234 146.5 L299.566 194.576 \n  L297.372 196.127 L233.027 245.755 L223.522 253.819 L178.031 295.383 L147.478 326.4 L147.478 345.01 L147.478 345.01 L147.478 394.638 L147.478 444.266 L147.478 493.894 \n  L147.478 543.521 L147.478 593.149 L147.478 642.777 L147.478 692.404 L147.478 742.032 L147.478 791.66 L147.478 841.288 L147.478 890.915 L147.478 940.543 L147.478 990.171 \n  L147.478 1039.8 L147.478 1089.43 L147.478 1139.05 L147.478 1188.68 L147.478 1238.31 L147.478 1207.29 L178.031 1238.31 L223.522 1279.87 L233.027 1287.94 L297.372 1337.56 \n  L299.566 1339.12 L373.234 1387.19 L375.61 1388.62 L451.654 1430.62 L464.011 1436.82 L527.698 1466.51 L575.226 1486.45 L527.698 1486.45 L603.742 1486.45  Z\n  \" fill=\"#30678d\" fill-rule=\"evenodd\" fill-opacity=\"0.5\"/>\n<path clip-path=\"url(#clip212)\" d=\"\nM755.83 1486.45 L831.875 1486.45 L907.919 1486.45 L983.963 1486.45 L1060.01 1486.45 L1136.05 1486.45 L1212.09 1486.45 L1288.14 1486.45 L1364.18 1486.45 L1440.23 1486.45 \n  L1516.27 1486.45 L1592.32 1486.45 L1668.36 1486.45 L1744.4 1486.45 L1744.4 1486.45 L1801.44 1486.45 L1820.45 1480.24 L1896.49 1451.89 L1932.4 1436.82 L1972.54 1418.69 \n  L2035.27 1387.19 L2048.58 1379.96 L2119.44 1337.56 L2124.62 1334.18 L2189.58 1287.94 L2200.67 1279.25 L2248.93 1238.31 L2276.71 1212.12 L2299.8 1188.68 L2343.25 1139.05 \n  L2352.76 1126.65 L2352.76 1139.05 L2352.76 1089.43 L2352.76 1039.8 L2352.76 990.171 L2352.76 940.543 L2352.76 890.915 L2352.76 841.288 L2352.76 791.66 L2352.76 742.032 \n  L2352.76 692.404 L2352.76 642.777 L2352.76 593.149 L2352.76 543.521 L2352.76 493.894 L2352.76 444.266 L2352.76 444.266 L2352.76 407.045 L2343.25 394.638 L2299.8 345.01 \n  L2276.71 321.575 L2248.93 295.383 L2200.67 254.44 L2189.58 245.755 L2124.62 199.511 L2119.44 196.127 L2048.58 153.737 L2035.27 146.5 L1972.54 115.005 L1932.4 96.8718 \n  L1896.49 81.8063 L1820.45 53.4476 L1801.44 47.2441 L1744.4 47.2441 L1744.4 47.2441 L1668.36 47.2441 L1592.32 47.2441 L1516.27 47.2441 L1440.23 47.2441 L1364.18 47.2441 \n  L1288.14 47.2441 L1212.09 47.2441 L1136.05 47.2441 L1060.01 47.2441 L983.963 47.2441 L907.919 47.2441 L831.875 47.2441 L755.83 47.2441 L679.786 47.2441 L698.797 47.2441 \n  L679.786 53.4476 L603.742 81.8063 L567.833 96.8718 L527.698 115.005 L464.962 146.5 L451.654 153.737 L380.795 196.127 L375.61 199.511 L310.656 245.755 L299.566 254.44 \n  L251.307 295.383 L223.522 321.575 L200.437 345.01 L156.983 394.638 L147.478 407.045 L147.478 444.266 L147.478 444.266 L147.478 493.894 L147.478 543.521 L147.478 593.149 \n  L147.478 642.777 L147.478 692.404 L147.478 742.032 L147.478 791.66 L147.478 841.288 L147.478 890.915 L147.478 940.543 L147.478 990.171 L147.478 1039.8 L147.478 1089.43 \n  L147.478 1139.05 L147.478 1126.65 L156.983 1139.05 L200.437 1188.68 L223.522 1212.12 L251.307 1238.31 L299.566 1279.25 L310.656 1287.94 L375.61 1334.18 L380.795 1337.56 \n  L451.654 1379.96 L464.962 1387.19 L527.698 1418.69 L567.833 1436.82 L603.742 1451.89 L679.786 1480.24 L698.797 1486.45 L679.786 1486.45 L755.83 1486.45  Z\n  \" fill=\"#29788e\" fill-rule=\"evenodd\" fill-opacity=\"0.5\"/>\n<path clip-path=\"url(#clip212)\" d=\"\nM907.919 1486.45 L983.963 1486.45 L1060.01 1486.45 L1136.05 1486.45 L1212.09 1486.45 L1288.14 1486.45 L1364.18 1486.45 L1440.23 1486.45 L1516.27 1486.45 L1592.32 1486.45 \n  L1592.32 1486.45 L1639.84 1486.45 L1668.36 1479.8 L1744.4 1458.53 L1810.94 1436.82 L1820.45 1433.48 L1896.49 1402.94 L1931.35 1387.19 L1972.54 1367.03 L2026.72 1337.56 \n  L2048.58 1324.59 L2104.75 1287.94 L2124.62 1273.67 L2169.77 1238.31 L2200.67 1211.43 L2224.8 1188.68 L2271.59 1139.05 L2276.71 1132.85 L2309.98 1089.43 L2342.57 1039.8 \n  L2352.76 1021.19 L2352.76 1039.8 L2352.76 990.171 L2352.76 940.543 L2352.76 890.915 L2352.76 841.288 L2352.76 791.66 L2352.76 742.032 L2352.76 692.404 L2352.76 642.777 \n  L2352.76 593.149 L2352.76 543.521 L2352.76 543.521 L2352.76 512.504 L2342.57 493.894 L2309.98 444.266 L2276.71 400.842 L2271.59 394.638 L2224.8 345.01 L2200.67 322.264 \n  L2169.77 295.383 L2124.62 260.023 L2104.75 245.755 L2048.58 209.098 L2026.72 196.127 L1972.54 166.661 L1931.35 146.5 L1896.49 130.752 L1820.45 100.212 L1810.94 96.8718 \n  L1744.4 75.1597 L1668.36 53.8907 L1639.84 47.2441 L1592.32 47.2441 L1592.32 47.2441 L1516.27 47.2441 L1440.23 47.2441 L1364.18 47.2441 L1288.14 47.2441 L1212.09 47.2441 \n  L1136.05 47.2441 L1060.01 47.2441 L983.963 47.2441 L907.919 47.2441 L831.875 47.2441 L860.391 47.2441 L831.875 53.8907 L755.83 75.1597 L689.292 96.8718 L679.786 100.212 \n  L603.742 130.752 L568.889 146.5 L527.698 166.661 L473.517 196.127 L451.654 209.098 L395.485 245.755 L375.61 260.023 L330.459 295.383 L299.566 322.264 L275.437 345.01 \n  L228.64 394.638 L223.522 400.842 L190.253 444.266 L157.662 493.894 L147.478 512.504 L147.478 543.521 L147.478 543.521 L147.478 593.149 L147.478 642.777 L147.478 692.404 \n  L147.478 742.032 L147.478 791.66 L147.478 841.288 L147.478 890.915 L147.478 940.543 L147.478 990.171 L147.478 1039.8 L147.478 1021.19 L157.662 1039.8 L190.253 1089.43 \n  L223.522 1132.85 L228.64 1139.05 L275.437 1188.68 L299.566 1211.43 L330.459 1238.31 L375.61 1273.67 L395.485 1287.94 L451.654 1324.59 L473.517 1337.56 L527.698 1367.03 \n  L568.889 1387.19 L603.742 1402.94 L679.786 1433.48 L689.292 1436.82 L755.83 1458.53 L831.875 1479.8 L860.391 1486.45 L831.875 1486.45 L907.919 1486.45  Z\n  \" fill=\"#23888d\" fill-rule=\"evenodd\" fill-opacity=\"0.5\"/>\n<path clip-path=\"url(#clip212)\" d=\"\nM1212.09 1486.45 L1288.14 1486.45 L1288.14 1486.45 L1288.14 1486.45 L1364.18 1482.9 L1440.23 1475.81 L1516.27 1465.18 L1592.32 1451 L1653.15 1436.82 L1668.36 1433 \n  L1744.4 1410.1 L1809.58 1387.19 L1820.45 1383.06 L1896.49 1349.97 L1921.84 1337.56 L1972.54 1310.5 L2010.56 1287.94 L2048.58 1263.12 L2083.15 1238.31 L2124.62 1205.22 \n  L2143.63 1188.68 L2194.33 1139.05 L2200.67 1131.96 L2235.77 1089.43 L2270.86 1039.8 L2276.71 1029.87 L2298.44 990.171 L2320.17 940.543 L2336.46 890.915 L2347.32 841.288 \n  L2352.76 791.66 L2352.76 841.288 L2352.76 791.66 L2352.76 742.032 L2352.76 742.032 L2352.76 742.032 L2347.32 692.404 L2336.46 642.777 L2320.17 593.149 L2298.44 543.521 \n  L2276.71 503.819 L2270.86 493.894 L2235.77 444.266 L2200.67 401.728 L2194.33 394.638 L2143.63 345.01 L2124.62 328.468 L2083.15 295.383 L2048.58 270.569 L2010.56 245.755 \n  L1972.54 223.197 L1921.84 196.127 L1896.49 183.72 L1820.45 150.635 L1809.58 146.5 L1744.4 123.594 L1668.36 100.689 L1653.15 96.8718 L1592.32 82.6925 L1516.27 68.5131 \n  L1440.23 57.8786 L1364.18 50.7889 L1288.14 47.2441 L1288.14 47.2441 L1288.14 47.2441 L1212.09 47.2441 L1136.05 47.2441 L1212.09 47.2441 L1136.05 50.7889 L1060.01 57.8786 \n  L983.963 68.5131 L907.919 82.6925 L847.083 96.8718 L831.875 100.689 L755.83 123.594 L690.65 146.5 L679.786 150.635 L603.742 183.72 L578.394 196.127 L527.698 223.197 \n  L489.676 245.755 L451.654 270.569 L417.089 295.383 L375.61 328.468 L356.599 345.01 L305.903 394.638 L299.566 401.728 L264.469 444.266 L229.372 493.894 L223.522 503.819 \n  L201.795 543.521 L180.068 593.149 L163.773 642.777 L152.91 692.404 L147.478 742.032 L147.478 742.032 L147.478 742.032 L147.478 791.66 L147.478 841.288 L147.478 791.66 \n  L152.91 841.288 L163.773 890.915 L180.068 940.543 L201.795 990.171 L223.522 1029.87 L229.372 1039.8 L264.469 1089.43 L299.566 1131.96 L305.903 1139.05 L356.599 1188.68 \n  L375.61 1205.22 L417.089 1238.31 L451.654 1263.12 L489.676 1287.94 L527.698 1310.5 L578.394 1337.56 L603.742 1349.97 L679.786 1383.06 L690.65 1387.19 L755.83 1410.1 \n  L831.875 1433 L847.083 1436.82 L907.919 1451 L983.963 1465.18 L1060.01 1475.81 L1136.05 1482.9 L1212.09 1486.45 L1136.05 1486.45 L1212.09 1486.45  Z\n  \" fill=\"#1e988a\" fill-rule=\"evenodd\" fill-opacity=\"0.5\"/>\n<path clip-path=\"url(#clip212)\" d=\"\nM1212.09 1439.92 L1288.14 1439.92 L1354.68 1436.82 L1364.18 1436.34 L1440.23 1428.71 L1516.27 1417.26 L1592.32 1401.99 L1651.25 1387.19 L1668.36 1382.54 L1744.4 1357.73 \n  L1797.36 1337.56 L1820.45 1327.98 L1896.49 1291.88 L1903.88 1287.94 L1972.54 1247.61 L1986.79 1238.31 L2048.58 1193.51 L2054.63 1188.68 L2109.93 1139.05 L2124.62 1123.99 \n  L2155.52 1089.43 L2193.54 1039.8 L2200.67 1028.63 L2223.33 990.171 L2246.73 940.543 L2264.28 890.915 L2275.98 841.288 L2276.71 835.084 L2281.46 791.66 L2281.46 742.032 \n  L2276.71 698.608 L2275.98 692.404 L2264.28 642.777 L2246.73 593.149 L2223.33 543.521 L2200.67 505.06 L2193.54 493.894 L2155.52 444.266 L2124.62 409.704 L2109.93 394.638 \n  L2054.63 345.01 L2048.58 340.185 L1986.79 295.383 L1972.54 286.077 L1903.88 245.755 L1896.49 241.807 L1820.45 205.714 L1797.36 196.127 L1744.4 175.966 L1668.36 151.152 \n  L1651.25 146.5 L1592.32 131.707 L1516.27 116.437 L1440.23 104.984 L1364.18 97.349 L1354.68 96.8718 L1288.14 93.7701 L1212.09 93.7701 L1145.56 96.8718 L1136.05 97.349 \n  L1060.01 104.984 L983.963 116.437 L907.919 131.707 L848.984 146.5 L831.875 151.152 L755.83 175.966 L702.871 196.127 L679.786 205.714 L603.742 241.807 L596.349 245.755 \n  L527.698 286.077 L513.44 295.383 L451.654 340.185 L445.605 345.01 L390.3 394.638 L375.61 409.704 L344.717 444.266 L306.695 493.894 L299.566 505.06 L276.899 543.521 \n  L253.501 593.149 L235.952 642.777 L224.253 692.404 L223.522 698.608 L218.769 742.032 L218.769 791.66 L223.522 835.084 L224.253 841.288 L235.952 890.915 L253.501 940.543 \n  L276.899 990.171 L299.566 1028.63 L306.695 1039.8 L344.717 1089.43 L375.61 1123.99 L390.3 1139.05 L445.605 1188.68 L451.654 1193.51 L513.44 1238.31 L527.698 1247.61 \n  L596.349 1287.94 L603.742 1291.88 L679.786 1327.98 L702.871 1337.56 L755.83 1357.73 L831.875 1382.54 L848.984 1387.19 L907.919 1401.99 L983.963 1417.26 L1060.01 1428.71 \n  L1136.05 1436.34 L1145.56 1436.82 L1212.09 1439.92  Z\n  \" fill=\"#22a784\" fill-rule=\"evenodd\" fill-opacity=\"0.5\"/>\n<path clip-path=\"url(#clip212)\" d=\"\nM1212.09 1390.06 L1288.14 1390.06 L1345.17 1387.19 L1364.18 1386.16 L1440.23 1377.89 L1516.27 1365.48 L1592.32 1348.94 L1634.14 1337.56 L1668.36 1327.41 L1744.4 1300.34 \n  L1774.28 1287.94 L1820.45 1266.85 L1875.1 1238.31 L1896.49 1225.9 L1953.52 1188.68 L1972.54 1174.72 L2016.26 1139.05 L2048.58 1108.92 L2067.59 1089.43 L2109.07 1039.8 \n  L2124.62 1017.47 L2142.05 990.171 L2167.4 940.543 L2186.41 890.915 L2199.08 841.288 L2200.67 828.881 L2205.05 791.66 L2205.05 742.032 L2200.67 704.811 L2199.08 692.404 \n  L2186.41 642.777 L2167.4 593.149 L2142.05 543.521 L2124.62 516.226 L2109.07 493.894 L2067.59 444.266 L2048.58 424.769 L2016.26 394.638 L1972.54 358.968 L1953.52 345.01 \n  L1896.49 307.79 L1875.1 295.383 L1820.45 266.847 L1774.28 245.755 L1744.4 233.348 L1668.36 206.278 L1634.14 196.127 L1592.32 184.754 L1516.27 168.212 L1440.23 155.805 \n  L1364.18 147.533 L1345.17 146.5 L1288.14 143.636 L1212.09 143.636 L1155.06 146.5 L1136.05 147.533 L1060.01 155.805 L983.963 168.212 L907.919 184.754 L866.094 196.127 \n  L831.875 206.278 L755.83 233.348 L725.956 245.755 L679.786 266.847 L625.13 295.383 L603.742 307.79 L546.709 345.01 L527.698 358.968 L483.973 394.638 L451.654 424.769 \n  L432.643 444.266 L391.165 493.894 L375.61 516.226 L358.183 543.521 L332.835 593.149 L313.824 642.777 L301.15 692.404 L299.566 704.811 L295.179 742.032 L295.179 791.66 \n  L299.566 828.881 L301.15 841.288 L313.824 890.915 L332.835 940.543 L358.183 990.171 L375.61 1017.47 L391.165 1039.8 L432.643 1089.43 L451.654 1108.92 L483.973 1139.05 \n  L527.698 1174.72 L546.709 1188.68 L603.742 1225.9 L625.13 1238.31 L679.786 1266.85 L725.956 1287.94 L755.83 1300.34 L831.875 1327.41 L866.094 1337.56 L907.919 1348.94 \n  L983.963 1365.48 L1060.01 1377.89 L1136.05 1386.16 L1155.06 1387.19 L1212.09 1390.06  Z\n  \" fill=\"#35b778\" fill-rule=\"evenodd\" fill-opacity=\"0.5\"/>\n<path clip-path=\"url(#clip212)\" d=\"\nM907.919 1290.76 L983.963 1308.8 L1060.01 1322.34 L1136.05 1331.36 L1212.09 1335.87 L1288.14 1335.87 L1364.18 1331.36 L1440.23 1322.34 L1516.27 1308.8 L1592.32 1290.76 \n  L1601.82 1287.94 L1668.36 1266.22 L1739.65 1238.31 L1744.4 1236.24 L1820.45 1197.64 L1835.89 1188.68 L1896.49 1149.13 L1910.22 1139.05 L1969.37 1089.43 L1972.54 1086.32 \n  L2015.31 1039.8 L2048.58 996.374 L2052.9 990.171 L2080.55 940.543 L2101.29 890.915 L2115.12 841.288 L2122.03 791.66 L2122.03 742.032 L2115.12 692.404 L2101.29 642.777 \n  L2080.55 593.149 L2052.9 543.521 L2048.58 537.318 L2015.31 493.894 L1972.54 447.368 L1969.37 444.266 L1910.22 394.638 L1896.49 384.557 L1835.89 345.01 L1820.45 336.05 \n  L1744.4 297.45 L1739.65 295.383 L1668.36 267.467 L1601.82 245.755 L1592.32 242.935 L1516.27 224.889 L1440.23 211.354 L1364.18 202.331 L1288.14 197.819 L1212.09 197.819 \n  L1136.05 202.331 L1060.01 211.354 L983.963 224.889 L907.919 242.935 L898.413 245.755 L831.875 267.467 L760.583 295.383 L755.83 297.45 L679.786 336.05 L664.34 345.01 \n  L603.742 384.557 L590.012 394.638 L530.867 444.266 L527.698 447.368 L484.923 493.894 L451.654 537.318 L447.334 543.521 L419.681 593.149 L398.942 642.777 L385.116 692.404 \n  L378.203 742.032 L378.203 791.66 L385.116 841.288 L398.942 890.915 L419.681 940.543 L447.334 990.171 L451.654 996.374 L484.923 1039.8 L527.698 1086.32 L530.867 1089.43 \n  L590.012 1139.05 L603.742 1149.13 L664.34 1188.68 L679.786 1197.64 L755.83 1236.24 L760.583 1238.31 L831.875 1266.22 L898.413 1287.94 L907.919 1290.76  Z\n  \" fill=\"#53c567\" fill-rule=\"evenodd\" fill-opacity=\"0.5\"/>\n<path clip-path=\"url(#clip212)\" d=\"\nM983.963 1245.75 L1060.01 1260.64 L1136.05 1270.57 L1212.09 1275.53 L1288.14 1275.53 L1364.18 1270.57 L1440.23 1260.64 L1516.27 1245.75 L1544.79 1238.31 L1592.32 1224.52 \n  L1668.36 1196.95 L1687.37 1188.68 L1744.4 1160.77 L1782.43 1139.05 L1820.45 1114.24 L1853.72 1089.43 L1896.49 1052.21 L1909.17 1039.8 L1951.41 990.171 L1972.54 959.153 \n  L1983.94 940.543 L2006.76 890.915 L2021.96 841.288 L2029.57 791.66 L2029.57 742.032 L2021.96 692.404 L2006.76 642.777 L1983.94 593.149 L1972.54 574.539 L1951.41 543.521 \n  L1909.17 493.894 L1896.49 481.487 L1853.72 444.266 L1820.45 419.452 L1782.43 394.638 L1744.4 372.926 L1687.37 345.01 L1668.36 336.739 L1592.32 309.168 L1544.79 295.383 \n  L1516.27 287.939 L1440.23 273.05 L1364.18 263.125 L1288.14 258.162 L1212.09 258.162 L1136.05 263.125 L1060.01 273.05 L983.963 287.939 L955.446 295.383 L907.919 309.168 \n  L831.875 336.739 L812.864 345.01 L755.83 372.926 L717.808 394.638 L679.786 419.452 L646.517 444.266 L603.742 481.487 L591.068 493.894 L548.822 543.521 L527.698 574.539 \n  L516.292 593.149 L493.478 642.777 L478.27 692.404 L470.665 742.032 L470.665 791.66 L478.27 841.288 L493.478 890.915 L516.292 940.543 L527.698 959.153 L548.822 990.171 \n  L591.068 1039.8 L603.742 1052.21 L646.517 1089.43 L679.786 1114.24 L717.808 1139.05 L755.83 1160.77 L812.864 1188.68 L831.875 1196.95 L907.919 1224.52 L955.446 1238.31 \n  L983.963 1245.75  Z\n  \" fill=\"#79d151\" fill-rule=\"evenodd\" fill-opacity=\"0.5\"/>\n<path clip-path=\"url(#clip212)\" d=\"\nM1060.01 1190.75 L1136.05 1201.78 L1212.09 1207.29 L1288.14 1207.29 L1364.18 1201.78 L1440.23 1190.75 L1449.73 1188.68 L1516.27 1172.4 L1592.32 1147.58 L1613.23 1139.05 \n  L1668.36 1113.35 L1711.13 1089.43 L1744.4 1067.71 L1781.07 1039.8 L1820.45 1003.82 L1833.52 990.171 L1871.54 940.543 L1896.49 897.119 L1899.66 890.915 L1916.56 841.288 \n  L1925.01 791.66 L1925.01 742.032 L1916.56 692.404 L1899.66 642.777 L1896.49 636.573 L1871.54 593.149 L1833.52 543.521 L1820.45 529.874 L1781.07 493.894 L1744.4 465.978 \n  L1711.13 444.266 L1668.36 420.338 L1613.23 394.638 L1592.32 386.108 L1516.27 361.294 L1449.73 345.01 L1440.23 342.943 L1364.18 331.914 L1288.14 326.4 L1212.09 326.4 \n  L1136.05 331.914 L1060.01 342.943 L1050.5 345.01 L983.963 361.294 L907.919 386.108 L887.006 394.638 L831.875 420.338 L789.1 444.266 L755.83 465.978 L719.166 493.894 \n  L679.786 529.874 L666.716 543.521 L628.694 593.149 L603.742 636.573 L600.574 642.777 L583.675 692.404 L575.226 742.032 L575.226 791.66 L583.675 841.288 L600.574 890.915 \n  L603.742 897.119 L628.694 940.543 L666.716 990.171 L679.786 1003.82 L719.166 1039.8 L755.83 1067.71 L789.1 1089.43 L831.875 1113.35 L887.006 1139.05 L907.919 1147.58 \n  L983.963 1172.4 L1050.5 1188.68 L1060.01 1190.75  Z\n  \" fill=\"#a5da35\" fill-rule=\"evenodd\" fill-opacity=\"0.5\"/>\n<path clip-path=\"url(#clip212)\" d=\"\nM1060.01 1105.38 L1136.05 1119.56 L1212.09 1126.65 L1288.14 1126.65 L1364.18 1119.56 L1440.23 1105.38 L1497.26 1089.43 L1516.27 1083.22 L1592.32 1050.14 L1611.33 1039.8 \n  L1668.36 1002.58 L1684.2 990.171 L1734.9 940.543 L1744.4 928.136 L1768.85 890.915 L1790.57 841.288 L1801.44 791.66 L1801.44 742.032 L1790.57 692.404 L1768.85 642.777 \n  L1744.4 605.556 L1734.9 593.149 L1684.2 543.521 L1668.36 531.114 L1611.33 493.894 L1592.32 483.554 L1516.27 450.469 L1497.26 444.266 L1440.23 428.314 L1364.18 414.135 \n  L1288.14 407.045 L1212.09 407.045 L1136.05 414.135 L1060.01 428.314 L1002.97 444.266 L983.963 450.469 L907.919 483.554 L888.908 493.894 L831.875 531.114 L816.032 543.521 \n  L765.336 593.149 L755.83 605.556 L731.388 642.777 L709.661 692.404 L698.797 742.032 L698.797 791.66 L709.661 841.288 L731.388 890.915 L755.83 928.136 L765.336 940.543 \n  L816.032 990.171 L831.875 1002.58 L888.908 1039.8 L907.919 1050.14 L983.963 1083.22 L1002.97 1089.43 L1060.01 1105.38  Z\n  \" fill=\"#d2e11b\" fill-rule=\"evenodd\" fill-opacity=\"0.5\"/>\n<path clip-path=\"url(#clip212)\" d=\"\nM1060.01 991.411 L1136.05 1011.26 L1212.09 1021.19 L1288.14 1021.19 L1364.18 1011.26 L1440.23 991.411 L1443.4 990.171 L1516.27 954.501 L1537.66 940.543 L1592.32 892.983 \n  L1594.22 890.915 L1624.63 841.288 L1639.84 791.66 L1639.84 742.032 L1624.63 692.404 L1594.22 642.777 L1592.32 640.709 L1537.66 593.149 L1516.27 579.191 L1443.4 543.521 \n  L1440.23 542.281 L1364.18 522.429 L1288.14 512.504 L1212.09 512.504 L1136.05 522.429 L1060.01 542.281 L1056.84 543.521 L983.963 579.191 L962.575 593.149 L907.919 640.709 \n  L906.017 642.777 L875.6 692.404 L860.391 742.032 L860.391 791.66 L875.6 841.288 L906.017 890.915 L907.919 892.983 L962.575 940.543 L983.963 954.501 L1056.84 990.171 \n  L1060.01 991.411  Z\n  \" fill=\"#fde724\" fill-rule=\"evenodd\" fill-opacity=\"0.5\"/>\n<polyline clip-path=\"url(#clip212)\" style=\"stroke:#000000; stroke-linecap:butt; stroke-linejoin:round; stroke-width:4; stroke-opacity:0.5; fill:none\" points=\"\n  147.478,1486.45 147.478,1486.45 223.522,1486.45 299.566,1486.45 375.61,1486.45 451.654,1486.45 527.698,1486.45 603.742,1486.45 679.786,1486.45 755.83,1486.45 \n  831.875,1486.45 907.919,1486.45 983.963,1486.45 1060.01,1486.45 1136.05,1486.45 1212.09,1486.45 1288.14,1486.45 1364.18,1486.45 1440.23,1486.45 1516.27,1486.45 \n  1592.32,1486.45 1668.36,1486.45 1744.4,1486.45 1820.45,1486.45 1896.49,1486.45 1972.54,1486.45 2048.58,1486.45 2124.62,1486.45 2200.67,1486.45 2276.71,1486.45 \n  2352.76,1486.45 2352.76,1436.82 2352.76,1387.19 2352.76,1337.56 2352.76,1287.94 2352.76,1238.31 2352.76,1188.68 \n  2352.76,1139.05 2352.76,1089.43 2352.76,1039.8 2352.76,990.171 2352.76,940.543 2352.76,890.915 2352.76,841.288 2352.76,791.66 2352.76,742.032 2352.76,692.404 \n  2352.76,642.777 2352.76,593.149 2352.76,543.521 2352.76,493.894 2352.76,444.266 2352.76,394.638 2352.76,345.01 2352.76,295.383 2352.76,245.755 2352.76,196.127 \n  2352.76,146.5 2352.76,96.8718 2352.76,47.2441 2276.71,47.2441 2200.67,47.2441 2124.62,47.2441 2048.58,47.2441 \n  1972.54,47.2441 1896.49,47.2441 1820.45,47.2441 1744.4,47.2441 1668.36,47.2441 1592.32,47.2441 1516.27,47.2441 1440.23,47.2441 1364.18,47.2441 1288.14,47.2441 \n  1212.09,47.2441 1136.05,47.2441 1060.01,47.2441 983.963,47.2441 907.919,47.2441 831.875,47.2441 755.83,47.2441 679.786,47.2441 603.742,47.2441 527.698,47.2441 \n  451.654,47.2441 375.61,47.2441 299.566,47.2441 223.522,47.2441 147.478,47.2441 147.478,96.8718 147.478,146.5 \n  147.478,196.127 147.478,245.755 147.478,295.383 147.478,345.01 147.478,394.638 147.478,444.266 147.478,493.894 147.478,543.521 147.478,593.149 147.478,642.777 \n  147.478,692.404 147.478,742.032 147.478,791.66 147.478,841.288 147.478,890.915 147.478,940.543 147.478,990.171 147.478,1039.8 147.478,1089.43 147.478,1139.05 \n  147.478,1188.68 147.478,1238.31 147.478,1287.94 147.478,1337.56 147.478,1387.19 147.478,1436.82 147.478,1486.45 \n  \"/>\n<polyline clip-path=\"url(#clip212)\" style=\"stroke:#000000; stroke-linecap:butt; stroke-linejoin:round; stroke-width:4; stroke-opacity:0.5; fill:none\" points=\"\n  223.522,1486.45 299.566,1486.45 375.61,1486.45 451.654,1486.45 527.698,1486.45 603.742,1486.45 679.786,1486.45 755.83,1486.45 831.875,1486.45 907.919,1486.45 \n  983.963,1486.45 1060.01,1486.45 1136.05,1486.45 1212.09,1486.45 1288.14,1486.45 1364.18,1486.45 1440.23,1486.45 1516.27,1486.45 1592.32,1486.45 1668.36,1486.45 \n  1744.4,1486.45 1820.45,1486.45 1896.49,1486.45 1972.54,1486.45 2048.58,1486.45 2124.62,1486.45 2200.67,1486.45 2276.71,1486.45 2281.46,1486.45 \n  2352.76,1439.92 2352.76,1486.45 2352.76,1436.82 2352.76,1387.19 2352.76,1337.56 2352.76,1287.94 2352.76,1238.31 2352.76,1188.68 2352.76,1139.05 2352.76,1089.43 \n  2352.76,1039.8 2352.76,990.171 2352.76,940.543 2352.76,890.915 2352.76,841.288 2352.76,791.66 2352.76,742.032 2352.76,692.404 2352.76,642.777 2352.76,593.149 \n  2352.76,543.521 2352.76,493.894 2352.76,444.266 2352.76,394.638 2352.76,345.01 2352.76,295.383 2352.76,245.755 2352.76,196.127 2352.76,146.5 2352.76,96.8718 \n  2352.76,93.7701 2281.46,47.2441 2276.71,47.2441 2200.67,47.2441 2124.62,47.2441 2048.58,47.2441 1972.54,47.2441 1896.49,47.2441 \n  1820.45,47.2441 1744.4,47.2441 1668.36,47.2441 1592.32,47.2441 1516.27,47.2441 1440.23,47.2441 1364.18,47.2441 1288.14,47.2441 1212.09,47.2441 1136.05,47.2441 \n  1060.01,47.2441 983.963,47.2441 907.919,47.2441 831.875,47.2441 755.83,47.2441 679.786,47.2441 603.742,47.2441 527.698,47.2441 451.654,47.2441 375.61,47.2441 \n  299.566,47.2441 223.522,47.2441 147.478,47.2441 218.769,47.2441 147.478,93.7701 147.478,96.8718 147.478,146.5 147.478,196.127 147.478,245.755 \n  147.478,295.383 147.478,345.01 147.478,394.638 147.478,444.266 147.478,493.894 147.478,543.521 147.478,593.149 147.478,642.777 147.478,692.404 147.478,742.032 \n  147.478,791.66 147.478,841.288 147.478,890.915 147.478,940.543 147.478,990.171 147.478,1039.8 147.478,1089.43 147.478,1139.05 147.478,1188.68 147.478,1238.31 \n  147.478,1287.94 147.478,1337.56 147.478,1387.19 147.478,1436.82 147.478,1486.45 147.478,1439.92 218.769,1486.45 147.478,1486.45 223.522,1486.45 \n  \"/>\n<polyline clip-path=\"url(#clip212)\" style=\"stroke:#000000; stroke-linecap:butt; stroke-linejoin:round; stroke-width:4; stroke-opacity:0.5; fill:none\" points=\"\n  299.566,1486.45 375.61,1486.45 451.654,1486.45 527.698,1486.45 603.742,1486.45 679.786,1486.45 755.83,1486.45 831.875,1486.45 907.919,1486.45 983.963,1486.45 \n  1060.01,1486.45 1136.05,1486.45 1212.09,1486.45 1288.14,1486.45 1364.18,1486.45 1440.23,1486.45 1516.27,1486.45 1592.32,1486.45 1668.36,1486.45 1744.4,1486.45 \n  1820.45,1486.45 1896.49,1486.45 1972.54,1486.45 2048.58,1486.45 2124.62,1486.45 2200.67,1486.45 2205.05,1486.45 2276.71,1443.02 2286.22,1436.82 \n  2352.76,1390.06 2352.76,1436.82 2352.76,1387.19 2352.76,1337.56 2352.76,1287.94 2352.76,1238.31 2352.76,1188.68 2352.76,1139.05 2352.76,1089.43 2352.76,1039.8 \n  2352.76,990.171 2352.76,940.543 2352.76,890.915 2352.76,841.288 2352.76,791.66 2352.76,742.032 2352.76,692.404 2352.76,642.777 2352.76,593.149 2352.76,543.521 \n  2352.76,493.894 2352.76,444.266 2352.76,394.638 2352.76,345.01 2352.76,295.383 2352.76,245.755 2352.76,196.127 2352.76,146.5 2352.76,143.636 \n  2286.22,96.8718 2276.71,90.6683 2205.05,47.2441 2200.67,47.2441 2124.62,47.2441 2048.58,47.2441 1972.54,47.2441 1896.49,47.2441 1820.45,47.2441 \n  1744.4,47.2441 1668.36,47.2441 1592.32,47.2441 1516.27,47.2441 1440.23,47.2441 1364.18,47.2441 1288.14,47.2441 1212.09,47.2441 1136.05,47.2441 1060.01,47.2441 \n  983.963,47.2441 907.919,47.2441 831.875,47.2441 755.83,47.2441 679.786,47.2441 603.742,47.2441 527.698,47.2441 451.654,47.2441 375.61,47.2441 299.566,47.2441 \n  223.522,47.2441 295.179,47.2441 223.522,90.6683 214.016,96.8718 147.478,143.636 147.478,146.5 147.478,196.127 147.478,245.755 147.478,295.383 \n  147.478,345.01 147.478,394.638 147.478,444.266 147.478,493.894 147.478,543.521 147.478,593.149 147.478,642.777 147.478,692.404 147.478,742.032 147.478,791.66 \n  147.478,841.288 147.478,890.915 147.478,940.543 147.478,990.171 147.478,1039.8 147.478,1089.43 147.478,1139.05 147.478,1188.68 147.478,1238.31 147.478,1287.94 \n  147.478,1337.56 147.478,1387.19 147.478,1436.82 147.478,1390.06 214.016,1436.82 223.522,1443.02 295.179,1486.45 223.522,1486.45 299.566,1486.45 \n  \"/>\n<polyline clip-path=\"url(#clip212)\" style=\"stroke:#000000; stroke-linecap:butt; stroke-linejoin:round; stroke-width:4; stroke-opacity:0.5; fill:none\" points=\"\n  451.654,1486.45 527.698,1486.45 603.742,1486.45 679.786,1486.45 755.83,1486.45 831.875,1486.45 907.919,1486.45 983.963,1486.45 1060.01,1486.45 1136.05,1486.45 \n  1212.09,1486.45 1288.14,1486.45 1364.18,1486.45 1440.23,1486.45 1516.27,1486.45 1592.32,1486.45 1668.36,1486.45 1744.4,1486.45 1820.45,1486.45 1896.49,1486.45 \n  1972.54,1486.45 2048.58,1486.45 2122.03,1486.45 2124.62,1485.12 2200.67,1442.58 2210.17,1436.82 2276.71,1393.4 2285.54,1387.19 2350.72,1337.56 \n  2352.76,1335.87 2352.76,1337.56 2352.76,1287.94 2352.76,1238.31 2352.76,1188.68 2352.76,1139.05 2352.76,1089.43 2352.76,1039.8 2352.76,990.171 2352.76,940.543 \n  2352.76,890.915 2352.76,841.288 2352.76,791.66 2352.76,742.032 2352.76,692.404 2352.76,642.777 2352.76,593.149 2352.76,543.521 2352.76,493.894 2352.76,444.266 \n  2352.76,394.638 2352.76,345.01 2352.76,295.383 2352.76,245.755 2352.76,197.819 2350.72,196.127 2285.54,146.5 2276.71,140.296 2210.17,96.8718 \n  2200.67,91.1115 2124.62,48.5734 2122.03,47.2441 2048.58,47.2441 1972.54,47.2441 1896.49,47.2441 1820.45,47.2441 1744.4,47.2441 1668.36,47.2441 \n  1592.32,47.2441 1516.27,47.2441 1440.23,47.2441 1364.18,47.2441 1288.14,47.2441 1212.09,47.2441 1136.05,47.2441 1060.01,47.2441 983.963,47.2441 907.919,47.2441 \n  831.875,47.2441 755.83,47.2441 679.786,47.2441 603.742,47.2441 527.698,47.2441 451.654,47.2441 375.61,47.2441 378.203,47.2441 375.61,48.5734 299.566,91.1115 \n  290.061,96.8718 223.522,140.296 214.695,146.5 149.515,196.127 147.478,197.819 147.478,245.755 147.478,295.383 147.478,345.01 147.478,394.638 \n  147.478,444.266 147.478,493.894 147.478,543.521 147.478,593.149 147.478,642.777 147.478,692.404 147.478,742.032 147.478,791.66 147.478,841.288 147.478,890.915 \n  147.478,940.543 147.478,990.171 147.478,1039.8 147.478,1089.43 147.478,1139.05 147.478,1188.68 147.478,1238.31 147.478,1287.94 147.478,1337.56 147.478,1335.87 \n  149.515,1337.56 214.695,1387.19 223.522,1393.4 290.061,1436.82 299.566,1442.58 375.61,1485.12 378.203,1486.45 375.61,1486.45 451.654,1486.45 \n  \"/>\n<polyline clip-path=\"url(#clip212)\" style=\"stroke:#000000; stroke-linecap:butt; stroke-linejoin:round; stroke-width:4; stroke-opacity:0.5; fill:none\" points=\"\n  527.698,1486.45 603.742,1486.45 679.786,1486.45 755.83,1486.45 831.875,1486.45 907.919,1486.45 983.963,1486.45 1060.01,1486.45 1136.05,1486.45 1212.09,1486.45 \n  1288.14,1486.45 1364.18,1486.45 1440.23,1486.45 1516.27,1486.45 1592.32,1486.45 1668.36,1486.45 1744.4,1486.45 1820.45,1486.45 1896.49,1486.45 1972.54,1486.45 \n  2029.57,1486.45 2048.58,1477.59 2124.62,1438.59 2127.79,1436.82 2200.67,1392.92 2209.44,1387.19 2276.71,1339.63 2279.43,1337.56 2339.18,1287.94 \n  2352.76,1275.53 2352.76,1287.94 2352.76,1238.31 2352.76,1188.68 2352.76,1139.05 2352.76,1089.43 2352.76,1039.8 2352.76,990.171 2352.76,940.543 2352.76,890.915 \n  2352.76,841.288 2352.76,791.66 2352.76,742.032 2352.76,692.404 2352.76,642.777 2352.76,593.149 2352.76,543.521 2352.76,493.894 2352.76,444.266 2352.76,394.638 \n  2352.76,345.01 2352.76,295.383 2352.76,258.162 2339.18,245.755 2279.43,196.127 2276.71,194.059 2209.44,146.5 2200.67,140.773 2127.79,96.8718 \n  2124.62,95.0994 2048.58,56.1062 2029.57,47.2441 1972.54,47.2441 1896.49,47.2441 1820.45,47.2441 1744.4,47.2441 1668.36,47.2441 1592.32,47.2441 \n  1516.27,47.2441 1440.23,47.2441 1364.18,47.2441 1288.14,47.2441 1212.09,47.2441 1136.05,47.2441 1060.01,47.2441 983.963,47.2441 907.919,47.2441 831.875,47.2441 \n  755.83,47.2441 679.786,47.2441 603.742,47.2441 527.698,47.2441 451.654,47.2441 470.665,47.2441 451.654,56.1062 375.61,95.0994 372.442,96.8718 299.566,140.773 \n  290.792,146.5 223.522,194.059 220.806,196.127 161.057,245.755 147.478,258.162 147.478,295.383 147.478,345.01 147.478,394.638 147.478,444.266 \n  147.478,493.894 147.478,543.521 147.478,593.149 147.478,642.777 147.478,692.404 147.478,742.032 147.478,791.66 147.478,841.288 147.478,890.915 147.478,940.543 \n  147.478,990.171 147.478,1039.8 147.478,1089.43 147.478,1139.05 147.478,1188.68 147.478,1238.31 147.478,1287.94 147.478,1275.53 161.057,1287.94 220.806,1337.56 \n  223.522,1339.63 290.792,1387.19 299.566,1392.92 372.442,1436.82 375.61,1438.59 451.654,1477.59 470.665,1486.45 451.654,1486.45 527.698,1486.45 \n  \"/>\n<polyline clip-path=\"url(#clip212)\" style=\"stroke:#000000; stroke-linecap:butt; stroke-linejoin:round; stroke-width:4; stroke-opacity:0.5; fill:none\" points=\"\n  603.742,1486.45 679.786,1486.45 755.83,1486.45 831.875,1486.45 907.919,1486.45 983.963,1486.45 1060.01,1486.45 1136.05,1486.45 1212.09,1486.45 1288.14,1486.45 \n  1364.18,1486.45 1440.23,1486.45 1516.27,1486.45 1592.32,1486.45 1668.36,1486.45 1744.4,1486.45 1820.45,1486.45 1896.49,1486.45 1925.01,1486.45 \n  1972.54,1466.51 2036.22,1436.82 2048.58,1430.62 2124.62,1388.62 2127,1387.19 2200.67,1339.12 2202.86,1337.56 2267.21,1287.94 2276.71,1279.87 2322.2,1238.31 \n  2352.76,1207.29 2352.76,1238.31 2352.76,1188.68 2352.76,1139.05 2352.76,1089.43 2352.76,1039.8 2352.76,990.171 2352.76,940.543 2352.76,890.915 2352.76,841.288 \n  2352.76,791.66 2352.76,742.032 2352.76,692.404 2352.76,642.777 2352.76,593.149 2352.76,543.521 2352.76,493.894 2352.76,444.266 2352.76,394.638 2352.76,345.01 \n  2352.76,326.4 2322.2,295.383 2276.71,253.819 2267.21,245.755 2202.86,196.127 2200.67,194.576 2127,146.5 2124.62,145.068 2048.58,103.075 \n  2036.22,96.8718 1972.54,67.1838 1925.01,47.2441 1896.49,47.2441 1820.45,47.2441 1744.4,47.2441 1668.36,47.2441 1592.32,47.2441 1516.27,47.2441 \n  1440.23,47.2441 1364.18,47.2441 1288.14,47.2441 1212.09,47.2441 1136.05,47.2441 1060.01,47.2441 983.963,47.2441 907.919,47.2441 831.875,47.2441 755.83,47.2441 \n  679.786,47.2441 603.742,47.2441 527.698,47.2441 575.226,47.2441 527.698,67.1838 464.011,96.8718 451.654,103.075 375.61,145.068 373.234,146.5 299.566,194.576 \n  297.372,196.127 233.027,245.755 223.522,253.819 178.031,295.383 147.478,326.4 147.478,345.01 147.478,394.638 147.478,444.266 147.478,493.894 \n  147.478,543.521 147.478,593.149 147.478,642.777 147.478,692.404 147.478,742.032 147.478,791.66 147.478,841.288 147.478,890.915 147.478,940.543 147.478,990.171 \n  147.478,1039.8 147.478,1089.43 147.478,1139.05 147.478,1188.68 147.478,1238.31 147.478,1207.29 178.031,1238.31 223.522,1279.87 233.027,1287.94 297.372,1337.56 \n  299.566,1339.12 373.234,1387.19 375.61,1388.62 451.654,1430.62 464.011,1436.82 527.698,1466.51 575.226,1486.45 527.698,1486.45 603.742,1486.45 \n  \"/>\n<polyline clip-path=\"url(#clip212)\" style=\"stroke:#000000; stroke-linecap:butt; stroke-linejoin:round; stroke-width:4; stroke-opacity:0.5; fill:none\" points=\"\n  755.83,1486.45 831.875,1486.45 907.919,1486.45 983.963,1486.45 1060.01,1486.45 1136.05,1486.45 1212.09,1486.45 1288.14,1486.45 1364.18,1486.45 1440.23,1486.45 \n  1516.27,1486.45 1592.32,1486.45 1668.36,1486.45 1744.4,1486.45 1801.44,1486.45 1820.45,1480.24 1896.49,1451.89 1932.4,1436.82 1972.54,1418.69 \n  2035.27,1387.19 2048.58,1379.96 2119.44,1337.56 2124.62,1334.18 2189.58,1287.94 2200.67,1279.25 2248.93,1238.31 2276.71,1212.12 2299.8,1188.68 2343.25,1139.05 \n  2352.76,1126.65 2352.76,1139.05 2352.76,1089.43 2352.76,1039.8 2352.76,990.171 2352.76,940.543 2352.76,890.915 2352.76,841.288 2352.76,791.66 2352.76,742.032 \n  2352.76,692.404 2352.76,642.777 2352.76,593.149 2352.76,543.521 2352.76,493.894 2352.76,444.266 2352.76,407.045 2343.25,394.638 2299.8,345.01 \n  2276.71,321.575 2248.93,295.383 2200.67,254.44 2189.58,245.755 2124.62,199.511 2119.44,196.127 2048.58,153.737 2035.27,146.5 1972.54,115.005 1932.4,96.8718 \n  1896.49,81.8063 1820.45,53.4476 1801.44,47.2441 1744.4,47.2441 1668.36,47.2441 1592.32,47.2441 1516.27,47.2441 1440.23,47.2441 1364.18,47.2441 \n  1288.14,47.2441 1212.09,47.2441 1136.05,47.2441 1060.01,47.2441 983.963,47.2441 907.919,47.2441 831.875,47.2441 755.83,47.2441 679.786,47.2441 698.797,47.2441 \n  679.786,53.4476 603.742,81.8063 567.833,96.8718 527.698,115.005 464.962,146.5 451.654,153.737 380.795,196.127 375.61,199.511 310.656,245.755 299.566,254.44 \n  251.307,295.383 223.522,321.575 200.437,345.01 156.983,394.638 147.478,407.045 147.478,444.266 147.478,493.894 147.478,543.521 147.478,593.149 \n  147.478,642.777 147.478,692.404 147.478,742.032 147.478,791.66 147.478,841.288 147.478,890.915 147.478,940.543 147.478,990.171 147.478,1039.8 147.478,1089.43 \n  147.478,1139.05 147.478,1126.65 156.983,1139.05 200.437,1188.68 223.522,1212.12 251.307,1238.31 299.566,1279.25 310.656,1287.94 375.61,1334.18 380.795,1337.56 \n  451.654,1379.96 464.962,1387.19 527.698,1418.69 567.833,1436.82 603.742,1451.89 679.786,1480.24 698.797,1486.45 679.786,1486.45 755.83,1486.45 \n  \"/>\n<polyline clip-path=\"url(#clip212)\" style=\"stroke:#000000; stroke-linecap:butt; stroke-linejoin:round; stroke-width:4; stroke-opacity:0.5; fill:none\" points=\"\n  907.919,1486.45 983.963,1486.45 1060.01,1486.45 1136.05,1486.45 1212.09,1486.45 1288.14,1486.45 1364.18,1486.45 1440.23,1486.45 1516.27,1486.45 1592.32,1486.45 \n  1639.84,1486.45 1668.36,1479.8 1744.4,1458.53 1810.94,1436.82 1820.45,1433.48 1896.49,1402.94 1931.35,1387.19 1972.54,1367.03 2026.72,1337.56 \n  2048.58,1324.59 2104.75,1287.94 2124.62,1273.67 2169.77,1238.31 2200.67,1211.43 2224.8,1188.68 2271.59,1139.05 2276.71,1132.85 2309.98,1089.43 2342.57,1039.8 \n  2352.76,1021.19 2352.76,1039.8 2352.76,990.171 2352.76,940.543 2352.76,890.915 2352.76,841.288 2352.76,791.66 2352.76,742.032 2352.76,692.404 2352.76,642.777 \n  2352.76,593.149 2352.76,543.521 2352.76,512.504 2342.57,493.894 2309.98,444.266 2276.71,400.842 2271.59,394.638 2224.8,345.01 2200.67,322.264 \n  2169.77,295.383 2124.62,260.023 2104.75,245.755 2048.58,209.098 2026.72,196.127 1972.54,166.661 1931.35,146.5 1896.49,130.752 1820.45,100.212 1810.94,96.8718 \n  1744.4,75.1597 1668.36,53.8907 1639.84,47.2441 1592.32,47.2441 1516.27,47.2441 1440.23,47.2441 1364.18,47.2441 1288.14,47.2441 1212.09,47.2441 \n  1136.05,47.2441 1060.01,47.2441 983.963,47.2441 907.919,47.2441 831.875,47.2441 860.391,47.2441 831.875,53.8907 755.83,75.1597 689.292,96.8718 679.786,100.212 \n  603.742,130.752 568.889,146.5 527.698,166.661 473.517,196.127 451.654,209.098 395.485,245.755 375.61,260.023 330.459,295.383 299.566,322.264 275.437,345.01 \n  228.64,394.638 223.522,400.842 190.253,444.266 157.662,493.894 147.478,512.504 147.478,543.521 147.478,593.149 147.478,642.777 147.478,692.404 \n  147.478,742.032 147.478,791.66 147.478,841.288 147.478,890.915 147.478,940.543 147.478,990.171 147.478,1039.8 147.478,1021.19 157.662,1039.8 190.253,1089.43 \n  223.522,1132.85 228.64,1139.05 275.437,1188.68 299.566,1211.43 330.459,1238.31 375.61,1273.67 395.485,1287.94 451.654,1324.59 473.517,1337.56 527.698,1367.03 \n  568.889,1387.19 603.742,1402.94 679.786,1433.48 689.292,1436.82 755.83,1458.53 831.875,1479.8 860.391,1486.45 831.875,1486.45 907.919,1486.45 \n  \"/>\n<polyline clip-path=\"url(#clip212)\" style=\"stroke:#000000; stroke-linecap:butt; stroke-linejoin:round; stroke-width:4; stroke-opacity:0.5; fill:none\" points=\"\n  1212.09,1486.45 1288.14,1486.45 1364.18,1482.9 1440.23,1475.81 1516.27,1465.18 1592.32,1451 1653.15,1436.82 1668.36,1433 \n  1744.4,1410.1 1809.58,1387.19 1820.45,1383.06 1896.49,1349.97 1921.84,1337.56 1972.54,1310.5 2010.56,1287.94 2048.58,1263.12 2083.15,1238.31 2124.62,1205.22 \n  2143.63,1188.68 2194.33,1139.05 2200.67,1131.96 2235.77,1089.43 2270.86,1039.8 2276.71,1029.87 2298.44,990.171 2320.17,940.543 2336.46,890.915 2347.32,841.288 \n  2352.76,791.66 2352.76,841.288 2352.76,791.66 2352.76,742.032 2347.32,692.404 2336.46,642.777 2320.17,593.149 2298.44,543.521 \n  2276.71,503.819 2270.86,493.894 2235.77,444.266 2200.67,401.728 2194.33,394.638 2143.63,345.01 2124.62,328.468 2083.15,295.383 2048.58,270.569 2010.56,245.755 \n  1972.54,223.197 1921.84,196.127 1896.49,183.72 1820.45,150.635 1809.58,146.5 1744.4,123.594 1668.36,100.689 1653.15,96.8718 1592.32,82.6925 1516.27,68.5131 \n  1440.23,57.8786 1364.18,50.7889 1288.14,47.2441 1212.09,47.2441 1136.05,47.2441 1212.09,47.2441 1136.05,50.7889 1060.01,57.8786 \n  983.963,68.5131 907.919,82.6925 847.083,96.8718 831.875,100.689 755.83,123.594 690.65,146.5 679.786,150.635 603.742,183.72 578.394,196.127 527.698,223.197 \n  489.676,245.755 451.654,270.569 417.089,295.383 375.61,328.468 356.599,345.01 305.903,394.638 299.566,401.728 264.469,444.266 229.372,493.894 223.522,503.819 \n  201.795,543.521 180.068,593.149 163.773,642.777 152.91,692.404 147.478,742.032 147.478,791.66 147.478,841.288 147.478,791.66 \n  152.91,841.288 163.773,890.915 180.068,940.543 201.795,990.171 223.522,1029.87 229.372,1039.8 264.469,1089.43 299.566,1131.96 305.903,1139.05 356.599,1188.68 \n  375.61,1205.22 417.089,1238.31 451.654,1263.12 489.676,1287.94 527.698,1310.5 578.394,1337.56 603.742,1349.97 679.786,1383.06 690.65,1387.19 755.83,1410.1 \n  831.875,1433 847.083,1436.82 907.919,1451 983.963,1465.18 1060.01,1475.81 1136.05,1482.9 1212.09,1486.45 1136.05,1486.45 1212.09,1486.45 \n  \"/>\n<polyline clip-path=\"url(#clip212)\" style=\"stroke:#000000; stroke-linecap:butt; stroke-linejoin:round; stroke-width:4; stroke-opacity:0.5; fill:none\" points=\"\n  1212.09,1439.92 1288.14,1439.92 1354.68,1436.82 1364.18,1436.34 1440.23,1428.71 1516.27,1417.26 1592.32,1401.99 1651.25,1387.19 1668.36,1382.54 1744.4,1357.73 \n  1797.36,1337.56 1820.45,1327.98 1896.49,1291.88 1903.88,1287.94 1972.54,1247.61 1986.79,1238.31 2048.58,1193.51 2054.63,1188.68 2109.93,1139.05 2124.62,1123.99 \n  2155.52,1089.43 2193.54,1039.8 2200.67,1028.63 2223.33,990.171 2246.73,940.543 2264.28,890.915 2275.98,841.288 2276.71,835.084 2281.46,791.66 2281.46,742.032 \n  2276.71,698.608 2275.98,692.404 2264.28,642.777 2246.73,593.149 2223.33,543.521 2200.67,505.06 2193.54,493.894 2155.52,444.266 2124.62,409.704 2109.93,394.638 \n  2054.63,345.01 2048.58,340.185 1986.79,295.383 1972.54,286.077 1903.88,245.755 1896.49,241.807 1820.45,205.714 1797.36,196.127 1744.4,175.966 1668.36,151.152 \n  1651.25,146.5 1592.32,131.707 1516.27,116.437 1440.23,104.984 1364.18,97.349 1354.68,96.8718 1288.14,93.7701 1212.09,93.7701 1145.56,96.8718 1136.05,97.349 \n  1060.01,104.984 983.963,116.437 907.919,131.707 848.984,146.5 831.875,151.152 755.83,175.966 702.871,196.127 679.786,205.714 603.742,241.807 596.349,245.755 \n  527.698,286.077 513.44,295.383 451.654,340.185 445.605,345.01 390.3,394.638 375.61,409.704 344.717,444.266 306.695,493.894 299.566,505.06 276.899,543.521 \n  253.501,593.149 235.952,642.777 224.253,692.404 223.522,698.608 218.769,742.032 218.769,791.66 223.522,835.084 224.253,841.288 235.952,890.915 253.501,940.543 \n  276.899,990.171 299.566,1028.63 306.695,1039.8 344.717,1089.43 375.61,1123.99 390.3,1139.05 445.605,1188.68 451.654,1193.51 513.44,1238.31 527.698,1247.61 \n  596.349,1287.94 603.742,1291.88 679.786,1327.98 702.871,1337.56 755.83,1357.73 831.875,1382.54 848.984,1387.19 907.919,1401.99 983.963,1417.26 1060.01,1428.71 \n  1136.05,1436.34 1145.56,1436.82 1212.09,1439.92 \n  \"/>\n<polyline clip-path=\"url(#clip212)\" style=\"stroke:#000000; stroke-linecap:butt; stroke-linejoin:round; stroke-width:4; stroke-opacity:0.5; fill:none\" points=\"\n  1212.09,1390.06 1288.14,1390.06 1345.17,1387.19 1364.18,1386.16 1440.23,1377.89 1516.27,1365.48 1592.32,1348.94 1634.14,1337.56 1668.36,1327.41 1744.4,1300.34 \n  1774.28,1287.94 1820.45,1266.85 1875.1,1238.31 1896.49,1225.9 1953.52,1188.68 1972.54,1174.72 2016.26,1139.05 2048.58,1108.92 2067.59,1089.43 2109.07,1039.8 \n  2124.62,1017.47 2142.05,990.171 2167.4,940.543 2186.41,890.915 2199.08,841.288 2200.67,828.881 2205.05,791.66 2205.05,742.032 2200.67,704.811 2199.08,692.404 \n  2186.41,642.777 2167.4,593.149 2142.05,543.521 2124.62,516.226 2109.07,493.894 2067.59,444.266 2048.58,424.769 2016.26,394.638 1972.54,358.968 1953.52,345.01 \n  1896.49,307.79 1875.1,295.383 1820.45,266.847 1774.28,245.755 1744.4,233.348 1668.36,206.278 1634.14,196.127 1592.32,184.754 1516.27,168.212 1440.23,155.805 \n  1364.18,147.533 1345.17,146.5 1288.14,143.636 1212.09,143.636 1155.06,146.5 1136.05,147.533 1060.01,155.805 983.963,168.212 907.919,184.754 866.094,196.127 \n  831.875,206.278 755.83,233.348 725.956,245.755 679.786,266.847 625.13,295.383 603.742,307.79 546.709,345.01 527.698,358.968 483.973,394.638 451.654,424.769 \n  432.643,444.266 391.165,493.894 375.61,516.226 358.183,543.521 332.835,593.149 313.824,642.777 301.15,692.404 299.566,704.811 295.179,742.032 295.179,791.66 \n  299.566,828.881 301.15,841.288 313.824,890.915 332.835,940.543 358.183,990.171 375.61,1017.47 391.165,1039.8 432.643,1089.43 451.654,1108.92 483.973,1139.05 \n  527.698,1174.72 546.709,1188.68 603.742,1225.9 625.13,1238.31 679.786,1266.85 725.956,1287.94 755.83,1300.34 831.875,1327.41 866.094,1337.56 907.919,1348.94 \n  983.963,1365.48 1060.01,1377.89 1136.05,1386.16 1155.06,1387.19 1212.09,1390.06 \n  \"/>\n<polyline clip-path=\"url(#clip212)\" style=\"stroke:#000000; stroke-linecap:butt; stroke-linejoin:round; stroke-width:4; stroke-opacity:0.5; fill:none\" points=\"\n  907.919,1290.76 983.963,1308.8 1060.01,1322.34 1136.05,1331.36 1212.09,1335.87 1288.14,1335.87 1364.18,1331.36 1440.23,1322.34 1516.27,1308.8 1592.32,1290.76 \n  1601.82,1287.94 1668.36,1266.22 1739.65,1238.31 1744.4,1236.24 1820.45,1197.64 1835.89,1188.68 1896.49,1149.13 1910.22,1139.05 1969.37,1089.43 1972.54,1086.32 \n  2015.31,1039.8 2048.58,996.374 2052.9,990.171 2080.55,940.543 2101.29,890.915 2115.12,841.288 2122.03,791.66 2122.03,742.032 2115.12,692.404 2101.29,642.777 \n  2080.55,593.149 2052.9,543.521 2048.58,537.318 2015.31,493.894 1972.54,447.368 1969.37,444.266 1910.22,394.638 1896.49,384.557 1835.89,345.01 1820.45,336.05 \n  1744.4,297.45 1739.65,295.383 1668.36,267.467 1601.82,245.755 1592.32,242.935 1516.27,224.889 1440.23,211.354 1364.18,202.331 1288.14,197.819 1212.09,197.819 \n  1136.05,202.331 1060.01,211.354 983.963,224.889 907.919,242.935 898.413,245.755 831.875,267.467 760.583,295.383 755.83,297.45 679.786,336.05 664.34,345.01 \n  603.742,384.557 590.012,394.638 530.867,444.266 527.698,447.368 484.923,493.894 451.654,537.318 447.334,543.521 419.681,593.149 398.942,642.777 385.116,692.404 \n  378.203,742.032 378.203,791.66 385.116,841.288 398.942,890.915 419.681,940.543 447.334,990.171 451.654,996.374 484.923,1039.8 527.698,1086.32 530.867,1089.43 \n  590.012,1139.05 603.742,1149.13 664.34,1188.68 679.786,1197.64 755.83,1236.24 760.583,1238.31 831.875,1266.22 898.413,1287.94 907.919,1290.76 \n  \"/>\n<polyline clip-path=\"url(#clip212)\" style=\"stroke:#000000; stroke-linecap:butt; stroke-linejoin:round; stroke-width:4; stroke-opacity:0.5; fill:none\" points=\"\n  983.963,1245.75 1060.01,1260.64 1136.05,1270.57 1212.09,1275.53 1288.14,1275.53 1364.18,1270.57 1440.23,1260.64 1516.27,1245.75 1544.79,1238.31 1592.32,1224.52 \n  1668.36,1196.95 1687.37,1188.68 1744.4,1160.77 1782.43,1139.05 1820.45,1114.24 1853.72,1089.43 1896.49,1052.21 1909.17,1039.8 1951.41,990.171 1972.54,959.153 \n  1983.94,940.543 2006.76,890.915 2021.96,841.288 2029.57,791.66 2029.57,742.032 2021.96,692.404 2006.76,642.777 1983.94,593.149 1972.54,574.539 1951.41,543.521 \n  1909.17,493.894 1896.49,481.487 1853.72,444.266 1820.45,419.452 1782.43,394.638 1744.4,372.926 1687.37,345.01 1668.36,336.739 1592.32,309.168 1544.79,295.383 \n  1516.27,287.939 1440.23,273.05 1364.18,263.125 1288.14,258.162 1212.09,258.162 1136.05,263.125 1060.01,273.05 983.963,287.939 955.446,295.383 907.919,309.168 \n  831.875,336.739 812.864,345.01 755.83,372.926 717.808,394.638 679.786,419.452 646.517,444.266 603.742,481.487 591.068,493.894 548.822,543.521 527.698,574.539 \n  516.292,593.149 493.478,642.777 478.27,692.404 470.665,742.032 470.665,791.66 478.27,841.288 493.478,890.915 516.292,940.543 527.698,959.153 548.822,990.171 \n  591.068,1039.8 603.742,1052.21 646.517,1089.43 679.786,1114.24 717.808,1139.05 755.83,1160.77 812.864,1188.68 831.875,1196.95 907.919,1224.52 955.446,1238.31 \n  983.963,1245.75 \n  \"/>\n<polyline clip-path=\"url(#clip212)\" style=\"stroke:#000000; stroke-linecap:butt; stroke-linejoin:round; stroke-width:4; stroke-opacity:0.5; fill:none\" points=\"\n  1060.01,1190.75 1136.05,1201.78 1212.09,1207.29 1288.14,1207.29 1364.18,1201.78 1440.23,1190.75 1449.73,1188.68 1516.27,1172.4 1592.32,1147.58 1613.23,1139.05 \n  1668.36,1113.35 1711.13,1089.43 1744.4,1067.71 1781.07,1039.8 1820.45,1003.82 1833.52,990.171 1871.54,940.543 1896.49,897.119 1899.66,890.915 1916.56,841.288 \n  1925.01,791.66 1925.01,742.032 1916.56,692.404 1899.66,642.777 1896.49,636.573 1871.54,593.149 1833.52,543.521 1820.45,529.874 1781.07,493.894 1744.4,465.978 \n  1711.13,444.266 1668.36,420.338 1613.23,394.638 1592.32,386.108 1516.27,361.294 1449.73,345.01 1440.23,342.943 1364.18,331.914 1288.14,326.4 1212.09,326.4 \n  1136.05,331.914 1060.01,342.943 1050.5,345.01 983.963,361.294 907.919,386.108 887.006,394.638 831.875,420.338 789.1,444.266 755.83,465.978 719.166,493.894 \n  679.786,529.874 666.716,543.521 628.694,593.149 603.742,636.573 600.574,642.777 583.675,692.404 575.226,742.032 575.226,791.66 583.675,841.288 600.574,890.915 \n  603.742,897.119 628.694,940.543 666.716,990.171 679.786,1003.82 719.166,1039.8 755.83,1067.71 789.1,1089.43 831.875,1113.35 887.006,1139.05 907.919,1147.58 \n  983.963,1172.4 1050.5,1188.68 1060.01,1190.75 \n  \"/>\n<polyline clip-path=\"url(#clip212)\" style=\"stroke:#000000; stroke-linecap:butt; stroke-linejoin:round; stroke-width:4; stroke-opacity:0.5; fill:none\" points=\"\n  1060.01,1105.38 1136.05,1119.56 1212.09,1126.65 1288.14,1126.65 1364.18,1119.56 1440.23,1105.38 1497.26,1089.43 1516.27,1083.22 1592.32,1050.14 1611.33,1039.8 \n  1668.36,1002.58 1684.2,990.171 1734.9,940.543 1744.4,928.136 1768.85,890.915 1790.57,841.288 1801.44,791.66 1801.44,742.032 1790.57,692.404 1768.85,642.777 \n  1744.4,605.556 1734.9,593.149 1684.2,543.521 1668.36,531.114 1611.33,493.894 1592.32,483.554 1516.27,450.469 1497.26,444.266 1440.23,428.314 1364.18,414.135 \n  1288.14,407.045 1212.09,407.045 1136.05,414.135 1060.01,428.314 1002.97,444.266 983.963,450.469 907.919,483.554 888.908,493.894 831.875,531.114 816.032,543.521 \n  765.336,593.149 755.83,605.556 731.388,642.777 709.661,692.404 698.797,742.032 698.797,791.66 709.661,841.288 731.388,890.915 755.83,928.136 765.336,940.543 \n  816.032,990.171 831.875,1002.58 888.908,1039.8 907.919,1050.14 983.963,1083.22 1002.97,1089.43 1060.01,1105.38 \n  \"/>\n<polyline clip-path=\"url(#clip212)\" style=\"stroke:#000000; stroke-linecap:butt; stroke-linejoin:round; stroke-width:4; stroke-opacity:0.5; fill:none\" points=\"\n  1060.01,991.411 1136.05,1011.26 1212.09,1021.19 1288.14,1021.19 1364.18,1011.26 1440.23,991.411 1443.4,990.171 1516.27,954.501 1537.66,940.543 1592.32,892.983 \n  1594.22,890.915 1624.63,841.288 1639.84,791.66 1639.84,742.032 1624.63,692.404 1594.22,642.777 1592.32,640.709 1537.66,593.149 1516.27,579.191 1443.4,543.521 \n  1440.23,542.281 1364.18,522.429 1288.14,512.504 1212.09,512.504 1136.05,522.429 1060.01,542.281 1056.84,543.521 983.963,579.191 962.575,593.149 907.919,640.709 \n  906.017,642.777 875.6,692.404 860.391,742.032 860.391,791.66 875.6,841.288 906.017,890.915 907.919,892.983 962.575,940.543 983.963,954.501 1056.84,990.171 \n  1060.01,991.411 \n  \"/>\n</svg>\n"
     },
     "execution_count": 46,
     "metadata": {},
     "output_type": "execute_result"
    }
   ],
   "source": [
    "mmcontour(:max)"
   ]
  },
  {
   "cell_type": "markdown",
   "metadata": {},
   "source": [
    "### Partial derivatives\n",
    "\n",
    "For a function $f: \\mathbb{R}^{n} \\rightarrow \\mathbb{R}$ the concept of a derivative is extended to partial derivatives for $n$ variables. The partial of $x$ is defined by holding $y$ constant while a derivative in $x$ is taken. We saw an example of this with our calculation of marginal product of labour in a previous example.  \n",
    "\n",
    "Say that we have a function where there are two inputs. In other words, let $f(x, y)$ be a function of two variables. Then the partial derivative of a function $f$ with respect to the variable $x$, can be written as $\\frac{\\partial{f}}{\\partial{x}}$, which is defined as,\n",
    "\n",
    "$$\n",
    "\\dfrac{∂f}{∂x}=f_x(x,y)=\\lim_{h→0}\\dfrac{f(x+h,y)−f(x,y)}{h}\n",
    "$$\n",
    "\n",
    "In this definition we see a new symbol, $\\partial$, which indicates a partial derivative. In this case we can also write the derivative with respect to $y$ so there are two partial derivatives for this function, since it is a function of two variables. \n",
    "\n",
    "If we wanted to calculate the partial derivative for our some function we would have to do the following. Consider the following function, \n",
    "\n",
    "$$\n",
    "f(x,y)=x^2−3xy+2y^2−4x+5y−12\n",
    "$$\n",
    "\n",
    "The partial derivative of $f$ with respect to $x$ can be calculated using our definition above. First calculate $f(x + h, y)$,\n",
    "\n",
    "$$\n",
    "\\begin{align*} f(x+h,y) &=(x+h)^2−3(x+h)y+2y^2−4(x+h)+5y−12 \\\\ &=x^2+2xh+h^2−3xy−3hy+2y^2−4x−4h+5y−12. \\end{align*} \n",
    "$$\n",
    "\n",
    "Now we need to substitute this into our initial equation above and then simplify, \n",
    "\n",
    "$$\n",
    "\\begin{align*} \\dfrac{∂f}{∂x} &=\\lim_{h→0}\\dfrac{f(x+h,y)−f(x,y)}{h} \\\\ \n",
    "&=\\lim_{h→0}\\dfrac{(x^2+2xh+h^2−3xy−3hy+2y^2−4x−4h+5y−12)−(x^2−3xy+2y^2−4x+5y−12)}{h} \\\\ &=\\lim_{h→0}\\dfrac{x^2+2xh+h^2−3xy−3hy+2y^2−4x−4h+5y−12−x^2+3xy−2y^2+4x−5y+12}{h} \\\\ \n",
    "&=\\lim_{h→0}\\dfrac{2xh+h^2−3hy−4h}{h}\\\\ \n",
    "&=\\lim_{h→0}\\dfrac{h(2x+h−3y−4)}{h} \\\\ \n",
    "&=\\lim_{h→0}(2x+h−3y−4) \\\\ \n",
    "&=2x−3y−4. \\end{align*}\n",
    "$$\n"
   ]
  },
  {
   "cell_type": "markdown",
   "metadata": {},
   "source": [
    "The same thing can be done for the partial derivative for $f$ with respect to $y$. As an exercise, you might want to try and do this for $y$. The answer should be $-3x + 4y + 5$. \n",
    "\n",
    "Now, we won't always use this method to find the partial derivative. There are easier ways than using this definition above. For the partial derivative, we can think about it as taking a derivative of the one variable while holding the other constant. Exactly like we did for our example with the Cobb-Douglas production function.  \n",
    "\n",
    "So the easier way to take a partial derivative of $f$ with respect to $x$ would be to treat the variable $y$ like it was a constant and apply the usual single variable calculus rules. \n",
    "\n",
    "Let us consider the individual components of the function. \n",
    "\n",
    "In the case of $x^{2}$, we would have that the derivative is $2x$. \n",
    "\n",
    "For $-3xy$ we treat the $y$ like a constant, so the derivative is $-3y$.\n",
    "\n",
    "The next term, $2y^2$ falls away completely since it is constant. The same is true for $5y$ and $12$.\n",
    "\n",
    "Finally, we are left with $-4x$, with a derivative given by $-4$. \n",
    "\n",
    "If we then add these components together, we get our answer $2x - 3y - 4$"
   ]
  },
  {
   "cell_type": "code",
   "execution_count": 287,
   "metadata": {},
   "outputs": [],
   "source": [
    "@variables x y\n",
    "\n",
    "l = x^2 − 3x*y + 2y^2 − 4x + 5y − 12\n",
    "\n",
    "H = Differential(x);\n",
    "I = Differential(y);"
   ]
  },
  {
   "cell_type": "code",
   "execution_count": 285,
   "metadata": {},
   "outputs": [
    {
     "data": {
      "text/latex": [
       "\\begin{equation}\n",
       "-4 + 2 x - 3 y\n",
       "\\end{equation}\n"
      ],
      "text/plain": [
       "2x - 4 - 3y"
      ]
     },
     "execution_count": 285,
     "metadata": {},
     "output_type": "execute_result"
    }
   ],
   "source": [
    "expand_derivatives(H(l))"
   ]
  },
  {
   "cell_type": "code",
   "execution_count": null,
   "metadata": {},
   "outputs": [],
   "source": []
  },
  {
   "cell_type": "markdown",
   "metadata": {},
   "source": [
    "## Matrix algebra"
   ]
  },
  {
   "cell_type": "markdown",
   "metadata": {},
   "source": [
    "We end the session with some basic matrix algebra and then start with optimisation in the next tutorial. Optimisation is going to be applied to one specific example, the consumer problem. "
   ]
  },
  {
   "cell_type": "markdown",
   "metadata": {},
   "source": []
  }
 ],
 "metadata": {
  "kernelspec": {
   "display_name": "Julia 1.7.0-rc2",
   "language": "julia",
   "name": "julia-1.7"
  },
  "language_info": {
   "file_extension": ".jl",
   "mimetype": "application/julia",
   "name": "julia",
   "version": "1.7.0"
  },
  "orig_nbformat": 4
 },
 "nbformat": 4,
 "nbformat_minor": 2
}
