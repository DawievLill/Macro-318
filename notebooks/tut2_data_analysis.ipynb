{
 "cells": [
  {
   "cell_type": "markdown",
   "metadata": {},
   "source": [
    "# <span style=\"color:#2c061f\"> Macro 318: Tutorial #2 </span>  \n",
    "\n",
    "<br>\n",
    "\n",
    "## <span style=\"color:#374045\"> Data, Stats and Math with Julia </span>\n",
    "\n",
    "\n",
    "#### <span style=\"color:#374045\"> Lecturer: </span> <span style=\"color:#d89216\"> <br> Dawie van Lill (dvanlill@sun.ac.za) </span>"
   ]
  },
  {
   "cell_type": "markdown",
   "metadata": {},
   "source": [
    "# Introduction"
   ]
  },
  {
   "cell_type": "markdown",
   "metadata": {},
   "source": [
    "In this tutorial we will start our discussion with how to work with data in Julia. We will then cover some basic statistics and in the last section move on to some fundamental ideas in mathematics (mostly related to calculus).  \n",
    "\n",
    "Please note that working with data in Julia is going to be different than working with data in Stata. I am just showing basic principles here so that you are aware of them. You do not need to memorise everything in this notebook. It is simply here as a good reference to have if you want to do some useful data work for macroeconomics. \n",
    "\n",
    "If you are more comfortable with Stata for working with data then you can continue on that path. I am simply offering an alternative. \n",
    "\n",
    "In the job market there are a few languages that are used for data analysis. The most popular ones are Stata, R, Python and Julia. At this stage Julia is not the most popular for data work, but it shares similarities with Python. So if you know Julia well, it will be easy to pick up Python. Julia is more popular for work related to numerical / scientific computation, which we will cover in some of the future tutorials. \n",
    "\n",
    "As an aside, you might be wondering why we chose Julia for this course. There are several reasons, but primarily it is because the language is easy to learn and is similar in syntax to Python. It is also blazingly fast!\n",
    "\n",
    "Why not learn Python then? Well, we considered this, but Julia is a just a bit easier to get started with and easier to install for most people. And also, it is super fast! I also believe that it is a language that will be used a lot in economics in the future, with a lot of macroeconomists starting to use it for their modelling purposes. \n",
    "\n",
    "If you are interested in Python as an alternative to Julia you can always contact me and I can refer you to some resources. However, for most students it is more important to get the programming principles right without worrying too much about the language that they are using. "
   ]
  },
  {
   "cell_type": "code",
   "execution_count": 105,
   "metadata": {},
   "outputs": [],
   "source": [
    "import Pkg"
   ]
  },
  {
   "cell_type": "code",
   "execution_count": 145,
   "metadata": {},
   "outputs": [
    {
     "name": "stderr",
     "output_type": "stream",
     "text": [
      "\u001b[32m\u001b[1m   Resolving\u001b[22m\u001b[39m package versions...\n",
      "\u001b[32m\u001b[1m  No Changes\u001b[22m\u001b[39m to `~/.julia/environments/v1.7/Project.toml`\n",
      "\u001b[32m\u001b[1m  No Changes\u001b[22m\u001b[39m to `~/.julia/environments/v1.7/Manifest.toml`\n",
      "\u001b[32m\u001b[1m   Resolving\u001b[22m\u001b[39m package versions...\n",
      "\u001b[32m\u001b[1m  No Changes\u001b[22m\u001b[39m to `~/.julia/environments/v1.7/Project.toml`\n",
      "\u001b[32m\u001b[1m  No Changes\u001b[22m\u001b[39m to `~/.julia/environments/v1.7/Manifest.toml`\n",
      "\u001b[32m\u001b[1m   Resolving\u001b[22m\u001b[39m package versions...\n",
      "\u001b[32m\u001b[1m  No Changes\u001b[22m\u001b[39m to `~/.julia/environments/v1.7/Project.toml`\n",
      "\u001b[32m\u001b[1m  No Changes\u001b[22m\u001b[39m to `~/.julia/environments/v1.7/Manifest.toml`\n",
      "\u001b[32m\u001b[1m   Resolving\u001b[22m\u001b[39m package versions...\n",
      "\u001b[32m\u001b[1m  No Changes\u001b[22m\u001b[39m to `~/.julia/environments/v1.7/Project.toml`\n",
      "\u001b[32m\u001b[1m  No Changes\u001b[22m\u001b[39m to `~/.julia/environments/v1.7/Manifest.toml`\n",
      "\u001b[32m\u001b[1m   Resolving\u001b[22m\u001b[39m package versions...\n",
      "\u001b[32m\u001b[1m  No Changes\u001b[22m\u001b[39m to `~/.julia/environments/v1.7/Project.toml`\n",
      "\u001b[32m\u001b[1m  No Changes\u001b[22m\u001b[39m to `~/.julia/environments/v1.7/Manifest.toml`\n",
      "\u001b[32m\u001b[1m   Resolving\u001b[22m\u001b[39m package versions...\n",
      "\u001b[32m\u001b[1m  No Changes\u001b[22m\u001b[39m to `~/.julia/environments/v1.7/Project.toml`\n",
      "\u001b[32m\u001b[1m  No Changes\u001b[22m\u001b[39m to `~/.julia/environments/v1.7/Manifest.toml`\n",
      "\u001b[32m\u001b[1m   Resolving\u001b[22m\u001b[39m package versions...\n",
      "\u001b[32m\u001b[1m  No Changes\u001b[22m\u001b[39m to `~/.julia/environments/v1.7/Project.toml`\n",
      "\u001b[32m\u001b[1m  No Changes\u001b[22m\u001b[39m to `~/.julia/environments/v1.7/Manifest.toml`\n",
      "\u001b[32m\u001b[1m   Resolving\u001b[22m\u001b[39m package versions...\n",
      "\u001b[32m\u001b[1m  No Changes\u001b[22m\u001b[39m to `~/.julia/environments/v1.7/Project.toml`\n",
      "\u001b[32m\u001b[1m  No Changes\u001b[22m\u001b[39m to `~/.julia/environments/v1.7/Manifest.toml`\n",
      "\u001b[32m\u001b[1m   Resolving\u001b[22m\u001b[39m package versions...\n",
      "\u001b[32m\u001b[1m  No Changes\u001b[22m\u001b[39m to `~/.julia/environments/v1.7/Project.toml`\n",
      "\u001b[32m\u001b[1m  No Changes\u001b[22m\u001b[39m to `~/.julia/environments/v1.7/Manifest.toml`\n",
      "\u001b[32m\u001b[1m   Resolving\u001b[22m\u001b[39m package versions...\n",
      "\u001b[32m\u001b[1m  No Changes\u001b[22m\u001b[39m to `~/.julia/environments/v1.7/Project.toml`\n",
      "\u001b[32m\u001b[1m  No Changes\u001b[22m\u001b[39m to `~/.julia/environments/v1.7/Manifest.toml`\n",
      "\u001b[32m\u001b[1m   Resolving\u001b[22m\u001b[39m package versions...\n",
      "\u001b[32m\u001b[1m  No Changes\u001b[22m\u001b[39m to `~/.julia/environments/v1.7/Project.toml`\n",
      "\u001b[32m\u001b[1m  No Changes\u001b[22m\u001b[39m to `~/.julia/environments/v1.7/Manifest.toml`\n",
      "\u001b[32m\u001b[1m   Resolving\u001b[22m\u001b[39m package versions...\n",
      "\u001b[32m\u001b[1m  No Changes\u001b[22m\u001b[39m to `~/.julia/environments/v1.7/Project.toml`\n",
      "\u001b[32m\u001b[1m  No Changes\u001b[22m\u001b[39m to `~/.julia/environments/v1.7/Manifest.toml`\n",
      "\u001b[32m\u001b[1m   Resolving\u001b[22m\u001b[39m package versions...\n",
      "\u001b[32m\u001b[1m  No Changes\u001b[22m\u001b[39m to `~/.julia/environments/v1.7/Project.toml`\n",
      "\u001b[32m\u001b[1m  No Changes\u001b[22m\u001b[39m to `~/.julia/environments/v1.7/Manifest.toml`\n",
      "\u001b[32m\u001b[1m   Resolving\u001b[22m\u001b[39m package versions...\n",
      "\u001b[32m\u001b[1m  No Changes\u001b[22m\u001b[39m to `~/.julia/environments/v1.7/Project.toml`\n",
      "\u001b[32m\u001b[1m  No Changes\u001b[22m\u001b[39m to `~/.julia/environments/v1.7/Manifest.toml`\n",
      "\u001b[32m\u001b[1m   Resolving\u001b[22m\u001b[39m package versions...\n",
      "\u001b[32m\u001b[1m  No Changes\u001b[22m\u001b[39m to `~/.julia/environments/v1.7/Project.toml`\n",
      "\u001b[32m\u001b[1m  No Changes\u001b[22m\u001b[39m to `~/.julia/environments/v1.7/Manifest.toml`\n"
     ]
    }
   ],
   "source": [
    "Pkg.add(\"CategoricalArrays\")\n",
    "Pkg.add(\"CSV\")\n",
    "Pkg.add(\"DataFrames\")\n",
    "Pkg.add(\"DataFramesMeta\")\n",
    "Pkg.add(\"Downloads\")\n",
    "Pkg.add(\"ForwardDiff\")\n",
    "Pkg.add(\"GLM\")\n",
    "Pkg.add(\"Plots\")\n",
    "Pkg.add(\"Random\")\n",
    "Pkg.add(\"RDatasets\")\n",
    "Pkg.add(\"Roots\")\n",
    "Pkg.add(\"ShiftedArrays\")\n",
    "Pkg.add(\"Statistics\")\n",
    "Pkg.add(\"Symbolics\")\n",
    "Pkg.add(\"Zygote\")"
   ]
  },
  {
   "cell_type": "code",
   "execution_count": 146,
   "metadata": {},
   "outputs": [],
   "source": [
    "using CategoricalArrays\n",
    "using CSV\n",
    "using DataFrames\n",
    "using DataFramesMeta\n",
    "using Downloads\n",
    "using ForwardDiff\n",
    "using GLM\n",
    "using Plots\n",
    "using Random\n",
    "using RDatasets\n",
    "using Roots\n",
    "using ShiftedArrays\n",
    "using Statistics\n",
    "using Symbolics\n",
    "using Zygote"
   ]
  },
  {
   "cell_type": "markdown",
   "metadata": {},
   "source": [
    "# Working with data"
   ]
  },
  {
   "cell_type": "markdown",
   "metadata": {},
   "source": [
    "The primary package for working with data in Julia is `DataFrames.jl`. For a comprehensive tutorial series on this package I would recommend Bogumił Kamiński's [Introduction to DataFrames](https://github.com/bkamins/Julia-DataFrames-Tutorial)."
   ]
  },
  {
   "cell_type": "markdown",
   "metadata": {},
   "source": [
    "# DataFrames basics"
   ]
  },
  {
   "cell_type": "markdown",
   "metadata": {},
   "source": [
    "In this section we discuss basic principles from the DataFrames package. For the first topic we look at how to construct and access DataFrames. The fundamental object that we care about is the `DataFrame`. This is similar to a `dataframe` that you would find in R or in Pandas (Python).\n",
    "\n",
    "DataFrames are essentially matrices, with the rows being observations and the columns indicating the variables. "
   ]
  },
  {
   "cell_type": "markdown",
   "metadata": {},
   "source": [
    "## Constructors"
   ]
  },
  {
   "cell_type": "markdown",
   "metadata": {},
   "source": [
    "The easiest thing to construct is an empty DataFrame. "
   ]
  },
  {
   "cell_type": "code",
   "execution_count": null,
   "metadata": {},
   "outputs": [],
   "source": [
    "DataFrame() # empty DataFrame"
   ]
  },
  {
   "cell_type": "markdown",
   "metadata": {},
   "source": [
    "You could also construct a DataFrame with different keyword arguments. Notice the different types of the different columns. "
   ]
  },
  {
   "cell_type": "code",
   "execution_count": null,
   "metadata": {},
   "outputs": [],
   "source": [
    "DataFrame(A = 2:5, B = randn(4), C = \"Hello\")"
   ]
  },
  {
   "cell_type": "markdown",
   "metadata": {},
   "source": [
    "One of the most common ways to use constructors is through arrays. "
   ]
  },
  {
   "cell_type": "code",
   "execution_count": null,
   "metadata": {},
   "outputs": [],
   "source": [
    "commodities = [\"crude\", \"gas\", \"gold\", \"silver\"]\n",
    "last_price = [4.2, 11.3, 12.1, missing] # notice that the last value is missing\n",
    "\n",
    "df = DataFrame(commod = commodities, price = last_price) # give names to columns"
   ]
  },
  {
   "cell_type": "markdown",
   "metadata": {},
   "source": [
    "One can also easily add a new row to an existing `DataFrame` using the `push!` function. This is equivalent to adding new observations to the variables. "
   ]
  },
  {
   "cell_type": "code",
   "execution_count": null,
   "metadata": {},
   "outputs": [],
   "source": [
    "new_row = (commod = \"nickel\", price = 5.1)\n",
    "push!(df, new_row)"
   ]
  },
  {
   "cell_type": "markdown",
   "metadata": {},
   "source": [
    "One could also use array comprehensions to generate values for the DataFrame,  "
   ]
  },
  {
   "cell_type": "code",
   "execution_count": null,
   "metadata": {},
   "outputs": [],
   "source": [
    "DataFrame([rand(3) for i in 1:3], [:x1, :x2, :x3]) # see how we named the columns"
   ]
  },
  {
   "cell_type": "markdown",
   "metadata": {},
   "source": [
    "You can also create a DataFrame from a matrix, "
   ]
  },
  {
   "cell_type": "code",
   "execution_count": null,
   "metadata": {},
   "outputs": [],
   "source": [
    "x = DataFrame(rand(3, 3), :auto) # automatically assign column names"
   ]
  },
  {
   "cell_type": "markdown",
   "metadata": {},
   "source": [
    "Incidentally, you can convert the DataFrame into a matrix or array if you so wished, "
   ]
  },
  {
   "cell_type": "code",
   "execution_count": null,
   "metadata": {},
   "outputs": [],
   "source": [
    "Matrix(x)"
   ]
  },
  {
   "cell_type": "markdown",
   "metadata": {},
   "source": [
    "In the next section we talk about accessing the element of a DataFrame as well as looking at some basic information about the DataFrame that we have on hand.  "
   ]
  },
  {
   "cell_type": "markdown",
   "metadata": {},
   "source": [
    "## Accessing data"
   ]
  },
  {
   "cell_type": "markdown",
   "metadata": {},
   "source": [
    "Once we have our data set up in a DataFrame, we are often going to want to know some basic things about the contents. Let us construct a relatively large DataFrame. Most of the time we will be working with large datasets in economics, with thousands of rows and columns. You might be used to working with data in Excel, so things might feel foreign right now. However, I promise that once you start working with data in a programming language such as R, Julia or Python, your productivity will greatly increase. You only need to get over that initial apprehension on learning something new. "
   ]
  },
  {
   "cell_type": "code",
   "execution_count": null,
   "metadata": {},
   "outputs": [],
   "source": [
    "y = DataFrame(rand(1:10, 1000, 10), :auto);"
   ]
  },
  {
   "cell_type": "markdown",
   "metadata": {},
   "source": [
    "We can get some basic summary statistics on the data in the DataFrame using the `describe` function. "
   ]
  },
  {
   "cell_type": "code",
   "execution_count": null,
   "metadata": {},
   "outputs": [],
   "source": [
    "describe(y)"
   ]
  },
  {
   "cell_type": "markdown",
   "metadata": {},
   "source": [
    "If we want to take a peak at the first few rows of the data we can use the `first` function. "
   ]
  },
  {
   "cell_type": "code",
   "execution_count": null,
   "metadata": {},
   "outputs": [],
   "source": [
    "first(y, 5) # first 5 rows"
   ]
  },
  {
   "cell_type": "markdown",
   "metadata": {},
   "source": [
    "There are multiple ways to access particular columns of the DataFrame that we have created. The most obvious way is to to use `y.col` where `col` stands for the column name. This provides us the column in vector format. "
   ]
  },
  {
   "cell_type": "code",
   "execution_count": null,
   "metadata": {},
   "outputs": [],
   "source": [
    "y.x2; # get a single column"
   ]
  },
  {
   "cell_type": "markdown",
   "metadata": {},
   "source": [
    "Another interesting way to access the column is the following, "
   ]
  },
  {
   "cell_type": "code",
   "execution_count": null,
   "metadata": {},
   "outputs": [],
   "source": [
    "y[!, :x2]; # or y[!, 2] or y[:, :x2]"
   ]
  },
  {
   "cell_type": "markdown",
   "metadata": {},
   "source": [
    "You can access several columns (the first two in this case) with the following command, "
   ]
  },
  {
   "cell_type": "code",
   "execution_count": null,
   "metadata": {},
   "outputs": [],
   "source": [
    "y[:, [:x1, :x2]];"
   ]
  },
  {
   "cell_type": "markdown",
   "metadata": {},
   "source": [
    "Getting rows is also quite easy (and similar to the way in which we access rows in arrays), "
   ]
  },
  {
   "cell_type": "code",
   "execution_count": null,
   "metadata": {},
   "outputs": [],
   "source": [
    "y[1, :]"
   ]
  },
  {
   "cell_type": "markdown",
   "metadata": {},
   "source": [
    "With the code above you can also easily change the values in the DataFrame. We could, for example, multiply each of the values in the second column by $2$ if we wanted. "
   ]
  },
  {
   "cell_type": "code",
   "execution_count": null,
   "metadata": {},
   "outputs": [],
   "source": [
    "first(y.x2, 2) # observe first two values in the column"
   ]
  },
  {
   "cell_type": "code",
   "execution_count": null,
   "metadata": {},
   "outputs": [],
   "source": [
    "z = y[!, :x2]; \n",
    "z *= 2; # multiply column by two\n",
    "\n",
    "first(z, 2) # observe newly mutated column"
   ]
  },
  {
   "cell_type": "code",
   "execution_count": null,
   "metadata": {},
   "outputs": [],
   "source": [
    "first(y.x2, 2) # important to note that this is unchanged"
   ]
  },
  {
   "cell_type": "markdown",
   "metadata": {},
   "source": [
    "# Importing data"
   ]
  },
  {
   "cell_type": "markdown",
   "metadata": {},
   "source": [
    "Now let us import some data and play around with it a bit. This is generally referred to as data wrangling. If you want to become a data scientist, then significant portion of your work is going to involve gathering and cleaning data. The analysis part only makes up a small percentage. "
   ]
  },
  {
   "cell_type": "markdown",
   "metadata": {},
   "source": [
    "I have created a dataset that is hosted on github at the following location -- https://github.com/DawievLill/Macro-318/blob/main/data/tut2_data.csv\n",
    "\n",
    "Now let us download this data with Julia. This is one possible way to do it. "
   ]
  },
  {
   "cell_type": "code",
   "execution_count": null,
   "metadata": {},
   "outputs": [],
   "source": [
    "Downloads.download(\n",
    "    \"https://raw.githubusercontent.com/DawievLill/Macro-318/main/data/tut2_data.csv\", \n",
    "    \"tut2_data.csv\"\n",
    ")"
   ]
  },
  {
   "cell_type": "markdown",
   "metadata": {},
   "source": [
    "Now get the data into Julia!"
   ]
  },
  {
   "cell_type": "code",
   "execution_count": null,
   "metadata": {},
   "outputs": [],
   "source": [
    "sa_data = DataFrame(CSV.File(\"tut2_data.csv\", dateformat = \"yyyy/mm/dd\")) # specify the date format"
   ]
  },
  {
   "cell_type": "markdown",
   "metadata": {},
   "source": [
    "Alternatively, we could have done the following, since we know the data is located in the `data` folder, "
   ]
  },
  {
   "cell_type": "code",
   "execution_count": null,
   "metadata": {},
   "outputs": [],
   "source": [
    "sa_data_1 = DataFrame(CSV.File(\"../data/tut2_data.csv\")); # if you don't understand this piece of code, you can simply move on. "
   ]
  },
  {
   "cell_type": "markdown",
   "metadata": {},
   "source": [
    "So we have succesfully imported data into Julia. What can we do with this data? We see that the data contains information on GDP, the repo rate, CPI and inflation. The first thing that we might want to do is visualise the data. This is always a good first step. After that we might want to look at some basic descriptive statistics, to get an idea of the properties of the data. "
   ]
  },
  {
   "cell_type": "markdown",
   "metadata": {},
   "source": [
    "## Plotting the data"
   ]
  },
  {
   "cell_type": "markdown",
   "metadata": {},
   "source": [
    "For us to plot the data let us look at one the variables in the dataset. \n",
    "\n",
    "Let us consider GDP, which is the second column in the dataset. We can access GDP by calling the variable name, but we can also use the fact that it is located in the second column of the table. "
   ]
  },
  {
   "cell_type": "code",
   "execution_count": null,
   "metadata": {},
   "outputs": [],
   "source": [
    "gdp_1 = sa_data.gdp;\n",
    "gdp_2 = sa_data[!, 2];\n",
    "gdp_3 = sa_data[!, :gdp];"
   ]
  },
  {
   "cell_type": "markdown",
   "metadata": {},
   "source": [
    "We can check whether these variables give the same result as follows, "
   ]
  },
  {
   "cell_type": "code",
   "execution_count": null,
   "metadata": {},
   "outputs": [],
   "source": [
    "gdp_1 == gdp_2 == gdp_3 # check that these give exactly the same result"
   ]
  },
  {
   "cell_type": "markdown",
   "metadata": {},
   "source": [
    "Now let us draw a basic plot of GDP and see if it aligns with your expectation of what GDP would look like in level terms. You can also compare this with US GDP in Chapter 2 of the Williamson textbook. I have used **nominal GDP** in this dataset. \n",
    "\n",
    "We will compare nominal with real GDP soon, with a simple calculation involving the inflation rate (although technically we should be using the GDP deflator to move from nominal to real terms).  "
   ]
  },
  {
   "cell_type": "code",
   "execution_count": null,
   "metadata": {},
   "outputs": [],
   "source": [
    "date_sa = sa_data[!, :date]\n",
    "plot(date_sa, gdp_1, legend = false, lw = 1.5)"
   ]
  },
  {
   "cell_type": "markdown",
   "metadata": {},
   "source": [
    "One of the most popular transformations of GDP data is to take a natural logarithm. The reason for this is that differences between adjacent values in the GDP series represent growth rates once the series is \"logged\". We will get back to this point at a later stage. If we take a natural log of the series then the plot of GDP looks as follows, "
   ]
  },
  {
   "cell_type": "code",
   "execution_count": null,
   "metadata": {},
   "outputs": [],
   "source": [
    "log_gdp = log.(gdp_1); # remember the dot syntax, since we are broadcasting the log over all the values of GDP"
   ]
  },
  {
   "cell_type": "code",
   "execution_count": null,
   "metadata": {},
   "outputs": [],
   "source": [
    "plot(date_sa, log_gdp, legend = false, lw = 1.5)"
   ]
  },
  {
   "cell_type": "markdown",
   "metadata": {},
   "source": [
    "You will see that the scale on the y-axis has changed after this transformation. The slope of this graph indicates the growth rate. A point that we will touch on soon. "
   ]
  },
  {
   "cell_type": "markdown",
   "metadata": {},
   "source": [
    "We can also plot some of the other variables in our dataset, such as the inflation rate. "
   ]
  },
  {
   "cell_type": "code",
   "execution_count": null,
   "metadata": {},
   "outputs": [],
   "source": [
    "inflation_rate = sa_data.inflation\n",
    "plot(date_sa, inflation_rate, legend = false, lw = 1.5)\n",
    "plot!([0], legend = false, lw = 1.5, seriestype = :hline, color = :black, ls = :dash, alpha = 0.5)"
   ]
  },
  {
   "cell_type": "markdown",
   "metadata": {},
   "source": [
    "# Descriptive statistics"
   ]
  },
  {
   "cell_type": "markdown",
   "metadata": {},
   "source": [
    "Some of the most widely used statistics are the mean (average) and standard deviation. They can be easily computed with the computer as follows,  "
   ]
  },
  {
   "cell_type": "code",
   "execution_count": null,
   "metadata": {},
   "outputs": [],
   "source": [
    "inflation_1 = sa_data[!, :inflation] # select the inflation column\n",
    "mean(inflation_1) # mean value of inflation"
   ]
  },
  {
   "cell_type": "code",
   "execution_count": null,
   "metadata": {},
   "outputs": [],
   "source": [
    "std(inflation_1) # standard deviation of inflation"
   ]
  },
  {
   "cell_type": "markdown",
   "metadata": {},
   "source": [
    "Let us plot a histogram for the data and also indicate where the mean is in this plot. "
   ]
  },
  {
   "cell_type": "code",
   "execution_count": null,
   "metadata": {},
   "outputs": [],
   "source": [
    "histogram(inflation_1, legend = false, alpha = 0.5, bins = 20) # a histogram gives a general idea of what the distribution of values for inflation looks like.\n",
    "plot!([mean(inflation_1)],  seriestype = :vline, lw = 3, colour = :black, ls = :dash) # plots the mean value"
   ]
  },
  {
   "cell_type": "markdown",
   "metadata": {},
   "source": [
    "# Growth rates"
   ]
  },
  {
   "cell_type": "markdown",
   "metadata": {},
   "source": [
    "Mathematics is so much easier when we get to use a computer. In this section I will introduce some of the basic mathematical theory that you need as a macroeconomist and then we will show you how that relates to programming."
   ]
  },
  {
   "cell_type": "markdown",
   "metadata": {},
   "source": [
    "Computing growth rates is quite important in macroeconomics. This is something that you will frequently encounter and it is important to know how to do this. The growth rate between subsequent two dates can be calculated as follows, \n",
    "\n",
    "$$\n",
    "\\left(\\frac{Y_{t} - Y_{t-1}}{Y_{t-1}}\\right) \\times 100 = \\left(\\frac{Y_{t}}{Y_{t-1}} - 1\\right) \\times 100 \n",
    "$$\n"
   ]
  },
  {
   "cell_type": "markdown",
   "metadata": {},
   "source": [
    "If you are working with quarterly data and want to calculate the growth rate from one quarter to the same quarter next year then you should use, \n",
    "\n",
    "$$\n",
    "\\left(\\frac{Y_{t}}{Y_{t-4}} - 1\\right) \\times 100 \n",
    "$$\n",
    "\n",
    "In addition, we can calculate the monthly or quarterly growth rate at an annual rate, \n",
    "\n",
    "$$\n",
    "\\left(\\left[\\frac{Y_{t}}{Y_{t-1}}\\right]^{n} - 1\\right) \\times 100 \n",
    "$$\n",
    "where $n = 4$ represents quarterly growth and $n = 12$ gives monthly growth. "
   ]
  },
  {
   "cell_type": "markdown",
   "metadata": {},
   "source": [
    "Finally, we can calculate the average growth rate over $n$ years with the following formula, \n",
    "\n",
    "$$\n",
    "\\left(\\left[\\frac{Y_{t}}{Y_{t-n}}\\right]^{1/n} - 1\\right) \\times 100 \n",
    "$$"
   ]
  },
  {
   "cell_type": "markdown",
   "metadata": {},
   "source": [
    "### Examples of growth rate calculations"
   ]
  },
  {
   "cell_type": "markdown",
   "metadata": {},
   "source": [
    "Let us try calculating some growth rates with the data at hand. We will focus on GDP growth rates for this example, "
   ]
  },
  {
   "cell_type": "code",
   "execution_count": null,
   "metadata": {},
   "outputs": [],
   "source": [
    "gdp_first = sa_data[1, :gdp]; # first value of the GDP series\n",
    "gdp_second = sa_data[2, :gdp]; # second value of the GDP series\n",
    "\n",
    "gdp_growth_1 = ((gdp_second - gdp_first)/gdp_first) * 100 # using the formula for growth between two periods. "
   ]
  },
  {
   "cell_type": "markdown",
   "metadata": {},
   "source": [
    "There is an alternative way to calculate an approximation to the growth rate from above. We can simply take the natural logarithm of the two values and subtract them from each other. In other words we have that, \n",
    "\n",
    "$$\n",
    "\\left(\\frac{Y_{t}}{Y_{t-1}} - 1\\right) \\times 100 \\approx \\log(Y_{t}) - \\log(Y_{t-1}) \\times 100\n",
    "$$\n"
   ]
  },
  {
   "cell_type": "code",
   "execution_count": null,
   "metadata": {},
   "outputs": [],
   "source": [
    "(log(gdp_second) - log(gdp_first)) * 100"
   ]
  },
  {
   "cell_type": "markdown",
   "metadata": {},
   "source": [
    "The values are not exactly the same. This is simply an approximation which is often used in practice. "
   ]
  },
  {
   "cell_type": "markdown",
   "metadata": {},
   "source": [
    "As another example, let us calculate the quarterly growth rate of GDP and then plot the resulting values. This calculation is a bit more tricky since we are now going to apply it to the entire dataset. Let me explain the logic of what we are going to do here. \n",
    "\n",
    "First, we are going to create a new column that contains a lagged version of the original column for GDP. Why do we want to do this? The reason is that we want to be able to divide $Y_t$ by $Y_{t-4}$ from our formula above. However, we only have values for $Y_t$ in the $t$-th column and not $Y_{t-4}$. So for every row we need to create a corresponding lagged version of the original column. Before we do anything, let us take a look at the first few values of the dataset to see what we need to change. We only care about the first two columns, so we will only select those. "
   ]
  },
  {
   "cell_type": "code",
   "execution_count": null,
   "metadata": {},
   "outputs": [],
   "source": [
    "first(sa_data[!, 1:2], 8)"
   ]
  },
  {
   "cell_type": "code",
   "execution_count": null,
   "metadata": {},
   "outputs": [],
   "source": [
    "sa_data.lagged_gdp = lag(sa_data[!, 2], 4);"
   ]
  },
  {
   "cell_type": "markdown",
   "metadata": {},
   "source": [
    "We can see that the lagged GDP column has successfully been created and added to the DataFrame. "
   ]
  },
  {
   "cell_type": "code",
   "execution_count": null,
   "metadata": {},
   "outputs": [],
   "source": [
    "first(sa_data[!, :], 8) "
   ]
  },
  {
   "cell_type": "markdown",
   "metadata": {},
   "source": [
    "Now we can calculate the growth rate, "
   ]
  },
  {
   "cell_type": "code",
   "execution_count": null,
   "metadata": {},
   "outputs": [],
   "source": [
    "gdp_growth_quarterly = (log.(sa_data.gdp) .- log.(sa_data.lagged_gdp)) .* 100; # log method\n",
    "gdp_growth_quarterly_1 = ((sa_data.gdp ./ sa_data.lagged_gdp) .- 1) .* 100; # formula method"
   ]
  },
  {
   "cell_type": "code",
   "execution_count": null,
   "metadata": {},
   "outputs": [],
   "source": [
    "plot(date_sa, gdp_growth_quarterly, legend = false, lw = 2, alpha = 0.7) # log method\n",
    "plot!(date_sa, gdp_growth_quarterly_1, legend = false, lw = 2, ls = :dash, color = :black) # formula method"
   ]
  },
  {
   "cell_type": "markdown",
   "metadata": {},
   "source": [
    "For the other formulas you can perform similar calculations. As an exercise you can attempt to use the other formulas to calculate annualised growth rates. "
   ]
  },
  {
   "cell_type": "markdown",
   "metadata": {},
   "source": []
  },
  {
   "cell_type": "markdown",
   "metadata": {},
   "source": [
    "# Basic math for macroeconomics"
   ]
  },
  {
   "cell_type": "markdown",
   "metadata": {},
   "source": [
    "In this section we will be discussing very basic mathematical concepts that relate to mathematical modeling. For this section we will be making heavy use of the notes on mathematics for economists by [Fan Wang](https://fanwangecon.github.io/Math4Econ/). Please go look at his website for more cool notes and give his repository a star. His code is mostly in Matlab, but he also has some Python and R code. You can easily translate Matlab to Julia, since the syntax of the languages are quite similar.  \n",
    "\n"
   ]
  },
  {
   "cell_type": "markdown",
   "metadata": {},
   "source": [
    "## Functions"
   ]
  },
  {
   "cell_type": "markdown",
   "metadata": {},
   "source": [
    "A function is a **rule** that assigns to every element of $x \\in X$ a **single element** of the set $Y$. This is written as, \n",
    "\n",
    "$$\n",
    "f:X \\rightarrow Y\n",
    "$$\n",
    "\n",
    "The arrow indicates the mapping from the one set to another. When we write $y = f(x)$ we are mapping from the argument $x$ in the domain $X$ to a value in the co-domain $Y$. \n",
    "\n",
    "It is important to note that for a function we are assigning a single element from the set $X$ to the set $Y$.\n",
    "\n",
    "Let us illustrate this with some examples of functions and non-functions in Julia. "
   ]
  },
  {
   "cell_type": "code",
   "execution_count": null,
   "metadata": {},
   "outputs": [],
   "source": [
    "x = 0:π/100:2π\n",
    "y = sin.(x)\n",
    "\n",
    "plot(x, y, title = \"This is a function\", legend = false, lw = 2)"
   ]
  },
  {
   "cell_type": "markdown",
   "metadata": {},
   "source": [
    "The function above is a portion of the $\\sin$ function over the interval from $0$ to $2\\pi$. However, the following graph that depicts a circle is not a function. It is a relation, but NOT a function. Can you see why this is the case? What is the defining feature of a function?"
   ]
  },
  {
   "cell_type": "code",
   "execution_count": null,
   "metadata": {},
   "outputs": [],
   "source": [
    "x = 1; y = 1; r = 1\n",
    "θ = 0:π/50:2π\n",
    "\n",
    "x_unit = r .* cos.(θ) .+ x\n",
    "y_unit = r .* sin.(θ) .+ y\n",
    "\n",
    "plot(x_unit, y_unit, title = \"This is NOT a function\", legend = false, lw = 2)"
   ]
  },
  {
   "cell_type": "markdown",
   "metadata": {},
   "source": [
    "A linear function, which is also known as polynomial of degree 1 has slope $m$ and intercept $b$. Linear functions have constant slope. We will encounter the idea of slope again later when we talk about derivatives. "
   ]
  },
  {
   "cell_type": "code",
   "execution_count": null,
   "metadata": {},
   "outputs": [],
   "source": [
    "m = 0.5 # slope\n",
    "b = 1 # intercept\n",
    "\n",
    "ar_x = LinRange(-5, 10, 100)\n",
    "ar_y = ar_x .* m .+ b\n",
    "\n",
    "plot(ar_x, ar_y, legend = false, title = \"Linear function with slope $m and intercept $b\", lw = 2)\n",
    "\n",
    "vline!([0], ls = :dash, color = :black, alpha = 0.5, xticks = ([-2]))\n",
    "hline!([0], ls = :dash, color = :red, alpha = 0.5, yticks = ([1]))"
   ]
  },
  {
   "cell_type": "markdown",
   "metadata": {},
   "source": [
    "In high school you probably determined the slope of this function using a the method of rise over run. In other words, the change in $y$ over the change in $x$. More \"formally\", you calculated $m = \\frac{\\Delta{y}}{\\Delta{x}}$. In this example, $\\Delta{y} = 1 - 0$ and $\\Delta{x} = 0 - (-2)$, so we have that $m = 1 / 2 = 0.5$. We will talk about this method of using a difference quotient again when we want to calculate the slope of a tangent line to a function in the section on derivatives. "
   ]
  },
  {
   "cell_type": "markdown",
   "metadata": {},
   "source": [
    "## Monomials and polynomials\n"
   ]
  },
  {
   "cell_type": "markdown",
   "metadata": {},
   "source": [
    "Functions that take the form $a \\cdot x^{k}$ are considered **monomials**. In this case $a$ is any real number and $k$ is a positive integer. The value of $k$ represent the degree of the monomial. Monomials can be added together to form **polynomials**. A general formulation for a polynomial of degree four would be, \n",
    "\n",
    "$$\n",
    "a + b\\cdot{x} + c \\cdot x^2 + d \\cdot x^3 + e \\cdot x^4\n",
    "$$\n",
    "\n",
    "where the coefficients $a, b, c, d, e$ could be positive or negative. In order to determine the degree of the polynomial, consider the monomials that constitute the polynomial. The monomial with the highest degree determines the degree of the whole polynomial. An explicit representation of a polynomial that you should all know quite well is something along the following lines, \n",
    "\n",
    "$$\n",
    "y = 2 + 5x^2\n",
    "$$\n",
    "\n",
    "Can you identify what the degree of this polynomial is? Let us plot some polynomials to get an idea of what they look like. \n"
   ]
  },
  {
   "cell_type": "code",
   "execution_count": null,
   "metadata": {},
   "outputs": [],
   "source": [
    "x = -1:0.01:1\n",
    "y = 2 .+ 5 .* x .^ 2\n",
    "\n",
    "plot(x, y, legend = false, title = \"Polynomial of degree two\", lw = 2)"
   ]
  },
  {
   "cell_type": "markdown",
   "metadata": {},
   "source": [
    "Let us plot a polynomial of a degree three to see how this might differ. "
   ]
  },
  {
   "cell_type": "code",
   "execution_count": null,
   "metadata": {},
   "outputs": [],
   "source": [
    "x = -3:0.01:3\n",
    "y = 2 .- 1 .* x .^ 2 .- 10 .* x .^ 3\n",
    "\n",
    "plot(x, y, legend = false, title = \"Polynomial of degree three\", lw = 2)"
   ]
  },
  {
   "cell_type": "markdown",
   "metadata": {},
   "source": [
    "## Local and global maximum"
   ]
  },
  {
   "cell_type": "markdown",
   "metadata": {},
   "source": [
    "A function $f$ has a global maximum at $x^{*} \\in X$ if for all $x \\in X$, $f(x) \\leq f(x^{*})$. A function $f$ has a local maximum at $x^{*} \\in X$ if there exists and open interval $(a, b)$ such that $x^{*} \\in (a, b)$, and for all $x \\in (a, b), f(x) \\leq f(x^{x})$. Not all functions have a maximum. \n",
    "\n",
    "We are going to be dealing with functions such as utility functions, production functions and budget constraints in many of our economics models. \n",
    "\n",
    "As an example, in the case of a utility function the household is choosing the bundle of goods that provides the highest level of utility. \n",
    "\n",
    "Most production and utility functions will NOT have a local or global maximum. \n",
    "\n",
    "In the case of a log-utility function, higher consumption will give higher levels of utility, so no maximum exists here either. \n",
    "\n",
    "If we have a Cobb-Douglas production function, then output will increase with labour and capital. This means that the function is even increasing in its inputs and has not maximum. \n",
    "\n",
    "**NB**: It is only when we combine our preferences with a budget that we will be able to think about the optimal bindle choice given a fixed budget. The maximisation problem in this case will reveal some maximum. We will cover this example at length in the next tutorial. "
   ]
  },
  {
   "cell_type": "markdown",
   "metadata": {},
   "source": [
    "### Quadratic utility"
   ]
  },
  {
   "cell_type": "markdown",
   "metadata": {},
   "source": [
    "There is one nice utility function that has a maximum, the quadratic utility function. \n",
    "\n",
    "$$\n",
    "U(x) = x - \\alpha \\cdot x^2\n",
    "$$"
   ]
  },
  {
   "cell_type": "markdown",
   "metadata": {},
   "source": [
    "We can quickly draw a plot of this utility function and by inspection determine where the maximum is going to be. The most efficient way to determine the maximum would be using a derivative and setting it equal to zero. However, we haven't introduced derivatives yet, so let us use this inefficient way to determine the maximum for now. "
   ]
  },
  {
   "cell_type": "code",
   "execution_count": 108,
   "metadata": {},
   "outputs": [
    {
     "data": {
      "image/svg+xml": "<?xml version=\"1.0\" encoding=\"utf-8\"?>\n<svg xmlns=\"http://www.w3.org/2000/svg\" xmlns:xlink=\"http://www.w3.org/1999/xlink\" width=\"600\" height=\"400\" viewBox=\"0 0 2400 1600\">\n<defs>\n  <clipPath id=\"clip590\">\n    <rect x=\"0\" y=\"0\" width=\"2400\" height=\"1600\"/>\n  </clipPath>\n</defs>\n<path clip-path=\"url(#clip590)\" d=\"\nM0 1600 L2400 1600 L2400 0 L0 0  Z\n  \" fill=\"#ffffff\" fill-rule=\"evenodd\" fill-opacity=\"1\"/>\n<defs>\n  <clipPath id=\"clip591\">\n    <rect x=\"480\" y=\"0\" width=\"1681\" height=\"1600\"/>\n  </clipPath>\n</defs>\n<path clip-path=\"url(#clip590)\" d=\"\nM178.867 1486.45 L2352.76 1486.45 L2352.76 123.472 L178.867 123.472  Z\n  \" fill=\"#ffffff\" fill-rule=\"evenodd\" fill-opacity=\"1\"/>\n<defs>\n  <clipPath id=\"clip592\">\n    <rect x=\"178\" y=\"123\" width=\"2175\" height=\"1364\"/>\n  </clipPath>\n</defs>\n<polyline clip-path=\"url(#clip592)\" style=\"stroke:#000000; stroke-linecap:butt; stroke-linejoin:round; stroke-width:2; stroke-opacity:0.1; fill:none\" points=\"\n  240.392,1486.45 240.392,123.472 \n  \"/>\n<polyline clip-path=\"url(#clip592)\" style=\"stroke:#000000; stroke-linecap:butt; stroke-linejoin:round; stroke-width:2; stroke-opacity:0.1; fill:none\" points=\"\n  753.102,1486.45 753.102,123.472 \n  \"/>\n<polyline clip-path=\"url(#clip592)\" style=\"stroke:#000000; stroke-linecap:butt; stroke-linejoin:round; stroke-width:2; stroke-opacity:0.1; fill:none\" points=\"\n  1265.81,1486.45 1265.81,123.472 \n  \"/>\n<polyline clip-path=\"url(#clip592)\" style=\"stroke:#000000; stroke-linecap:butt; stroke-linejoin:round; stroke-width:2; stroke-opacity:0.1; fill:none\" points=\"\n  1778.52,1486.45 1778.52,123.472 \n  \"/>\n<polyline clip-path=\"url(#clip592)\" style=\"stroke:#000000; stroke-linecap:butt; stroke-linejoin:round; stroke-width:2; stroke-opacity:0.1; fill:none\" points=\"\n  2291.23,1486.45 2291.23,123.472 \n  \"/>\n<polyline clip-path=\"url(#clip590)\" style=\"stroke:#000000; stroke-linecap:butt; stroke-linejoin:round; stroke-width:4; stroke-opacity:1; fill:none\" points=\"\n  178.867,1486.45 2352.76,1486.45 \n  \"/>\n<polyline clip-path=\"url(#clip590)\" style=\"stroke:#000000; stroke-linecap:butt; stroke-linejoin:round; stroke-width:4; stroke-opacity:1; fill:none\" points=\"\n  240.392,1486.45 240.392,1467.55 \n  \"/>\n<polyline clip-path=\"url(#clip590)\" style=\"stroke:#000000; stroke-linecap:butt; stroke-linejoin:round; stroke-width:4; stroke-opacity:1; fill:none\" points=\"\n  753.102,1486.45 753.102,1467.55 \n  \"/>\n<polyline clip-path=\"url(#clip590)\" style=\"stroke:#000000; stroke-linecap:butt; stroke-linejoin:round; stroke-width:4; stroke-opacity:1; fill:none\" points=\"\n  1265.81,1486.45 1265.81,1467.55 \n  \"/>\n<polyline clip-path=\"url(#clip590)\" style=\"stroke:#000000; stroke-linecap:butt; stroke-linejoin:round; stroke-width:4; stroke-opacity:1; fill:none\" points=\"\n  1778.52,1486.45 1778.52,1467.55 \n  \"/>\n<polyline clip-path=\"url(#clip590)\" style=\"stroke:#000000; stroke-linecap:butt; stroke-linejoin:round; stroke-width:4; stroke-opacity:1; fill:none\" points=\"\n  2291.23,1486.45 2291.23,1467.55 \n  \"/>\n<path clip-path=\"url(#clip590)\" d=\"M194.455 1532.02 L224.13 1532.02 L224.13 1535.95 L194.455 1535.95 L194.455 1532.02 Z\" fill=\"#000000\" fill-rule=\"evenodd\" fill-opacity=\"1\" /><path clip-path=\"url(#clip590)\" d=\"M235.033 1544.91 L242.672 1544.91 L242.672 1518.55 L234.362 1520.21 L234.362 1515.95 L242.626 1514.29 L247.301 1514.29 L247.301 1544.91 L254.94 1544.91 L254.94 1548.85 L235.033 1548.85 L235.033 1544.91 Z\" fill=\"#000000\" fill-rule=\"evenodd\" fill-opacity=\"1\" /><path clip-path=\"url(#clip590)\" d=\"M274.385 1517.37 Q270.774 1517.37 268.945 1520.93 Q267.139 1524.47 267.139 1531.6 Q267.139 1538.71 268.945 1542.27 Q270.774 1545.82 274.385 1545.82 Q278.019 1545.82 279.824 1542.27 Q281.653 1538.71 281.653 1531.6 Q281.653 1524.47 279.824 1520.93 Q278.019 1517.37 274.385 1517.37 M274.385 1513.66 Q280.195 1513.66 283.25 1518.27 Q286.329 1522.85 286.329 1531.6 Q286.329 1540.33 283.25 1544.94 Q280.195 1549.52 274.385 1549.52 Q268.575 1549.52 265.496 1544.94 Q262.44 1540.33 262.44 1531.6 Q262.44 1522.85 265.496 1518.27 Q268.575 1513.66 274.385 1513.66 Z\" fill=\"#000000\" fill-rule=\"evenodd\" fill-opacity=\"1\" /><path clip-path=\"url(#clip590)\" d=\"M722.743 1532.02 L752.419 1532.02 L752.419 1535.95 L722.743 1535.95 L722.743 1532.02 Z\" fill=\"#000000\" fill-rule=\"evenodd\" fill-opacity=\"1\" /><path clip-path=\"url(#clip590)\" d=\"M762.558 1514.29 L780.914 1514.29 L780.914 1518.22 L766.84 1518.22 L766.84 1526.7 Q767.858 1526.35 768.877 1526.19 Q769.895 1526 770.914 1526 Q776.701 1526 780.081 1529.17 Q783.46 1532.34 783.46 1537.76 Q783.46 1543.34 779.988 1546.44 Q776.516 1549.52 770.196 1549.52 Q768.02 1549.52 765.752 1549.15 Q763.507 1548.78 761.099 1548.04 L761.099 1543.34 Q763.183 1544.47 765.405 1545.03 Q767.627 1545.58 770.104 1545.58 Q774.108 1545.58 776.446 1543.48 Q778.784 1541.37 778.784 1537.76 Q778.784 1534.15 776.446 1532.04 Q774.108 1529.94 770.104 1529.94 Q768.229 1529.94 766.354 1530.35 Q764.502 1530.77 762.558 1531.65 L762.558 1514.29 Z\" fill=\"#000000\" fill-rule=\"evenodd\" fill-opacity=\"1\" /><path clip-path=\"url(#clip590)\" d=\"M1265.81 1517.37 Q1262.2 1517.37 1260.37 1520.93 Q1258.57 1524.47 1258.57 1531.6 Q1258.57 1538.71 1260.37 1542.27 Q1262.2 1545.82 1265.81 1545.82 Q1269.45 1545.82 1271.25 1542.27 Q1273.08 1538.71 1273.08 1531.6 Q1273.08 1524.47 1271.25 1520.93 Q1269.45 1517.37 1265.81 1517.37 M1265.81 1513.66 Q1271.62 1513.66 1274.68 1518.27 Q1277.76 1522.85 1277.76 1531.6 Q1277.76 1540.33 1274.68 1544.94 Q1271.62 1549.52 1265.81 1549.52 Q1260 1549.52 1256.92 1544.94 Q1253.87 1540.33 1253.87 1531.6 Q1253.87 1522.85 1256.92 1518.27 Q1260 1513.66 1265.81 1513.66 Z\" fill=\"#000000\" fill-rule=\"evenodd\" fill-opacity=\"1\" /><path clip-path=\"url(#clip590)\" d=\"M1768.8 1514.29 L1787.16 1514.29 L1787.16 1518.22 L1773.08 1518.22 L1773.08 1526.7 Q1774.1 1526.35 1775.12 1526.19 Q1776.14 1526 1777.16 1526 Q1782.94 1526 1786.32 1529.17 Q1789.7 1532.34 1789.7 1537.76 Q1789.7 1543.34 1786.23 1546.44 Q1782.76 1549.52 1776.44 1549.52 Q1774.26 1549.52 1771.99 1549.15 Q1769.75 1548.78 1767.34 1548.04 L1767.34 1543.34 Q1769.42 1544.47 1771.65 1545.03 Q1773.87 1545.58 1776.35 1545.58 Q1780.35 1545.58 1782.69 1543.48 Q1785.03 1541.37 1785.03 1537.76 Q1785.03 1534.15 1782.69 1532.04 Q1780.35 1529.94 1776.35 1529.94 Q1774.47 1529.94 1772.6 1530.35 Q1770.74 1530.77 1768.8 1531.65 L1768.8 1514.29 Z\" fill=\"#000000\" fill-rule=\"evenodd\" fill-opacity=\"1\" /><path clip-path=\"url(#clip590)\" d=\"M2265.92 1544.91 L2273.56 1544.91 L2273.56 1518.55 L2265.25 1520.21 L2265.25 1515.95 L2273.51 1514.29 L2278.19 1514.29 L2278.19 1544.91 L2285.83 1544.91 L2285.83 1548.85 L2265.92 1548.85 L2265.92 1544.91 Z\" fill=\"#000000\" fill-rule=\"evenodd\" fill-opacity=\"1\" /><path clip-path=\"url(#clip590)\" d=\"M2305.27 1517.37 Q2301.66 1517.37 2299.83 1520.93 Q2298.02 1524.47 2298.02 1531.6 Q2298.02 1538.71 2299.83 1542.27 Q2301.66 1545.82 2305.27 1545.82 Q2308.9 1545.82 2310.71 1542.27 Q2312.54 1538.71 2312.54 1531.6 Q2312.54 1524.47 2310.71 1520.93 Q2308.9 1517.37 2305.27 1517.37 M2305.27 1513.66 Q2311.08 1513.66 2314.14 1518.27 Q2317.21 1522.85 2317.21 1531.6 Q2317.21 1540.33 2314.14 1544.94 Q2311.08 1549.52 2305.27 1549.52 Q2299.46 1549.52 2296.38 1544.94 Q2293.33 1540.33 2293.33 1531.6 Q2293.33 1522.85 2296.38 1518.27 Q2299.46 1513.66 2305.27 1513.66 Z\" fill=\"#000000\" fill-rule=\"evenodd\" fill-opacity=\"1\" /><polyline clip-path=\"url(#clip592)\" style=\"stroke:#000000; stroke-linecap:butt; stroke-linejoin:round; stroke-width:2; stroke-opacity:0.1; fill:none\" points=\"\n  178.867,1447.87 2352.76,1447.87 \n  \"/>\n<polyline clip-path=\"url(#clip592)\" style=\"stroke:#000000; stroke-linecap:butt; stroke-linejoin:round; stroke-width:2; stroke-opacity:0.1; fill:none\" points=\"\n  178.867,1036.41 2352.76,1036.41 \n  \"/>\n<polyline clip-path=\"url(#clip592)\" style=\"stroke:#000000; stroke-linecap:butt; stroke-linejoin:round; stroke-width:2; stroke-opacity:0.1; fill:none\" points=\"\n  178.867,624.941 2352.76,624.941 \n  \"/>\n<polyline clip-path=\"url(#clip592)\" style=\"stroke:#000000; stroke-linecap:butt; stroke-linejoin:round; stroke-width:2; stroke-opacity:0.1; fill:none\" points=\"\n  178.867,213.475 2352.76,213.475 \n  \"/>\n<polyline clip-path=\"url(#clip590)\" style=\"stroke:#000000; stroke-linecap:butt; stroke-linejoin:round; stroke-width:4; stroke-opacity:1; fill:none\" points=\"\n  178.867,1486.45 178.867,123.472 \n  \"/>\n<polyline clip-path=\"url(#clip590)\" style=\"stroke:#000000; stroke-linecap:butt; stroke-linejoin:round; stroke-width:4; stroke-opacity:1; fill:none\" points=\"\n  178.867,1447.87 197.764,1447.87 \n  \"/>\n<polyline clip-path=\"url(#clip590)\" style=\"stroke:#000000; stroke-linecap:butt; stroke-linejoin:round; stroke-width:4; stroke-opacity:1; fill:none\" points=\"\n  178.867,1036.41 197.764,1036.41 \n  \"/>\n<polyline clip-path=\"url(#clip590)\" style=\"stroke:#000000; stroke-linecap:butt; stroke-linejoin:round; stroke-width:4; stroke-opacity:1; fill:none\" points=\"\n  178.867,624.941 197.764,624.941 \n  \"/>\n<polyline clip-path=\"url(#clip590)\" style=\"stroke:#000000; stroke-linecap:butt; stroke-linejoin:round; stroke-width:4; stroke-opacity:1; fill:none\" points=\"\n  178.867,213.475 197.764,213.475 \n  \"/>\n<path clip-path=\"url(#clip590)\" d=\"M50.9921 1448.32 L80.6679 1448.32 L80.6679 1452.26 L50.9921 1452.26 L50.9921 1448.32 Z\" fill=\"#000000\" fill-rule=\"evenodd\" fill-opacity=\"1\" /><path clip-path=\"url(#clip590)\" d=\"M104.927 1446.52 Q108.283 1447.24 110.158 1449.51 Q112.057 1451.77 112.057 1455.11 Q112.057 1460.22 108.538 1463.02 Q105.02 1465.82 98.5382 1465.82 Q96.3623 1465.82 94.0475 1465.38 Q91.7558 1464.97 89.3021 1464.11 L89.3021 1459.6 Q91.2465 1460.73 93.5613 1461.31 Q95.8761 1461.89 98.3993 1461.89 Q102.797 1461.89 105.089 1460.15 Q107.404 1458.42 107.404 1455.11 Q107.404 1452.05 105.251 1450.34 Q103.121 1448.6 99.3021 1448.6 L95.2743 1448.6 L95.2743 1444.76 L99.4872 1444.76 Q102.936 1444.76 104.765 1443.39 Q106.594 1442.01 106.594 1439.41 Q106.594 1436.75 104.696 1435.34 Q102.821 1433.9 99.3021 1433.9 Q97.3808 1433.9 95.1817 1434.32 Q92.9826 1434.74 90.3438 1435.62 L90.3438 1431.45 Q93.0058 1430.71 95.3206 1430.34 Q97.6585 1429.97 99.7187 1429.97 Q105.043 1429.97 108.145 1432.4 Q111.246 1434.81 111.246 1438.93 Q111.246 1441.8 109.603 1443.79 Q107.959 1445.76 104.927 1446.52 Z\" fill=\"#000000\" fill-rule=\"evenodd\" fill-opacity=\"1\" /><path clip-path=\"url(#clip590)\" d=\"M130.922 1433.67 Q127.311 1433.67 125.482 1437.24 Q123.677 1440.78 123.677 1447.91 Q123.677 1455.01 125.482 1458.58 Q127.311 1462.12 130.922 1462.12 Q134.556 1462.12 136.362 1458.58 Q138.191 1455.01 138.191 1447.91 Q138.191 1440.78 136.362 1437.24 Q134.556 1433.67 130.922 1433.67 M130.922 1429.97 Q136.732 1429.97 139.788 1434.57 Q142.867 1439.16 142.867 1447.91 Q142.867 1456.63 139.788 1461.24 Q136.732 1465.82 130.922 1465.82 Q125.112 1465.82 122.033 1461.24 Q118.978 1456.63 118.978 1447.91 Q118.978 1439.16 122.033 1434.57 Q125.112 1429.97 130.922 1429.97 Z\" fill=\"#000000\" fill-rule=\"evenodd\" fill-opacity=\"1\" /><path clip-path=\"url(#clip590)\" d=\"M50.9921 1036.86 L80.6679 1036.86 L80.6679 1040.79 L50.9921 1040.79 L50.9921 1036.86 Z\" fill=\"#000000\" fill-rule=\"evenodd\" fill-opacity=\"1\" /><path clip-path=\"url(#clip590)\" d=\"M94.7882 1049.75 L111.108 1049.75 L111.108 1053.69 L89.1632 1053.69 L89.1632 1049.75 Q91.8252 1047 96.4085 1042.37 Q101.015 1037.71 102.196 1036.37 Q104.441 1033.85 105.321 1032.11 Q106.223 1030.35 106.223 1028.66 Q106.223 1025.91 104.279 1024.17 Q102.358 1022.44 99.2558 1022.44 Q97.0567 1022.44 94.603 1023.2 Q92.1725 1023.96 89.3947 1025.52 L89.3947 1020.79 Q92.2188 1019.66 94.6724 1019.08 Q97.1261 1018.5 99.1632 1018.5 Q104.534 1018.5 107.728 1021.19 Q110.922 1023.87 110.922 1028.36 Q110.922 1030.49 110.112 1032.41 Q109.325 1034.31 107.219 1036.9 Q106.64 1037.58 103.538 1040.79 Q100.436 1043.99 94.7882 1049.75 Z\" fill=\"#000000\" fill-rule=\"evenodd\" fill-opacity=\"1\" /><path clip-path=\"url(#clip590)\" d=\"M130.922 1022.21 Q127.311 1022.21 125.482 1025.77 Q123.677 1029.31 123.677 1036.44 Q123.677 1043.55 125.482 1047.11 Q127.311 1050.65 130.922 1050.65 Q134.556 1050.65 136.362 1047.11 Q138.191 1043.55 138.191 1036.44 Q138.191 1029.31 136.362 1025.77 Q134.556 1022.21 130.922 1022.21 M130.922 1018.5 Q136.732 1018.5 139.788 1023.11 Q142.867 1027.69 142.867 1036.44 Q142.867 1045.17 139.788 1049.78 Q136.732 1054.36 130.922 1054.36 Q125.112 1054.36 122.033 1049.78 Q118.978 1045.17 118.978 1036.44 Q118.978 1027.69 122.033 1023.11 Q125.112 1018.5 130.922 1018.5 Z\" fill=\"#000000\" fill-rule=\"evenodd\" fill-opacity=\"1\" /><path clip-path=\"url(#clip590)\" d=\"M50.9921 625.392 L80.6679 625.392 L80.6679 629.328 L50.9921 629.328 L50.9921 625.392 Z\" fill=\"#000000\" fill-rule=\"evenodd\" fill-opacity=\"1\" /><path clip-path=\"url(#clip590)\" d=\"M91.5706 638.286 L99.2095 638.286 L99.2095 611.92 L90.8993 613.587 L90.8993 609.328 L99.1632 607.661 L103.839 607.661 L103.839 638.286 L111.478 638.286 L111.478 642.221 L91.5706 642.221 L91.5706 638.286 Z\" fill=\"#000000\" fill-rule=\"evenodd\" fill-opacity=\"1\" /><path clip-path=\"url(#clip590)\" d=\"M130.922 610.74 Q127.311 610.74 125.482 614.304 Q123.677 617.846 123.677 624.976 Q123.677 632.082 125.482 635.647 Q127.311 639.189 130.922 639.189 Q134.556 639.189 136.362 635.647 Q138.191 632.082 138.191 624.976 Q138.191 617.846 136.362 614.304 Q134.556 610.74 130.922 610.74 M130.922 607.036 Q136.732 607.036 139.788 611.642 Q142.867 616.226 142.867 624.976 Q142.867 633.703 139.788 638.309 Q136.732 642.892 130.922 642.892 Q125.112 642.892 122.033 638.309 Q118.978 633.703 118.978 624.976 Q118.978 616.226 122.033 611.642 Q125.112 607.036 130.922 607.036 Z\" fill=\"#000000\" fill-rule=\"evenodd\" fill-opacity=\"1\" /><path clip-path=\"url(#clip590)\" d=\"M130.922 199.274 Q127.311 199.274 125.482 202.838 Q123.677 206.38 123.677 213.51 Q123.677 220.616 125.482 224.181 Q127.311 227.723 130.922 227.723 Q134.556 227.723 136.362 224.181 Q138.191 220.616 138.191 213.51 Q138.191 206.38 136.362 202.838 Q134.556 199.274 130.922 199.274 M130.922 195.57 Q136.732 195.57 139.788 200.176 Q142.867 204.76 142.867 213.51 Q142.867 222.236 139.788 226.843 Q136.732 231.426 130.922 231.426 Q125.112 231.426 122.033 226.843 Q118.978 222.236 118.978 213.51 Q118.978 204.76 122.033 200.176 Q125.112 195.57 130.922 195.57 Z\" fill=\"#000000\" fill-rule=\"evenodd\" fill-opacity=\"1\" /><path clip-path=\"url(#clip590)\" d=\"M837.691 16.7545 L837.691 25.383 Q833.56 21.5346 828.86 19.6307 Q824.202 17.7268 818.936 17.7268 Q808.565 17.7268 803.056 24.0867 Q797.547 30.4061 797.547 42.3968 Q797.547 54.3469 803.056 60.7069 Q808.565 67.0263 818.936 67.0263 Q824.202 67.0263 828.86 65.1223 Q833.56 63.2184 837.691 59.3701 L837.691 67.9175 Q833.397 70.8341 828.577 72.2924 Q823.797 73.7508 818.45 73.7508 Q804.717 73.7508 796.818 65.3654 Q788.919 56.9395 788.919 42.3968 Q788.919 27.8135 796.818 19.4281 Q804.717 11.0023 818.45 11.0023 Q823.878 11.0023 828.658 12.4606 Q833.479 13.8784 837.691 16.7545 Z\" fill=\"#000000\" fill-rule=\"evenodd\" fill-opacity=\"1\" /><path clip-path=\"url(#clip590)\" d=\"M870.625 49.7694 Q861.592 49.7694 858.108 51.8354 Q854.624 53.9013 854.624 58.8839 Q854.624 62.8538 857.217 65.2034 Q859.85 67.5124 864.346 67.5124 Q870.544 67.5124 874.271 63.1374 Q878.038 58.7219 878.038 51.4303 L878.038 49.7694 L870.625 49.7694 M885.492 46.6907 L885.492 72.576 L878.038 72.576 L878.038 65.6895 Q875.486 69.8214 871.679 71.8063 Q867.871 73.7508 862.361 73.7508 Q855.394 73.7508 851.262 69.8619 Q847.171 65.9325 847.171 59.3701 Q847.171 51.7138 852.275 47.825 Q857.419 43.9361 867.587 43.9361 L878.038 43.9361 L878.038 43.2069 Q878.038 38.0623 874.636 35.2672 Q871.273 32.4315 865.157 32.4315 Q861.268 32.4315 857.581 33.3632 Q853.895 34.295 850.492 36.1584 L850.492 29.2718 Q854.584 27.692 858.432 26.9223 Q862.28 26.1121 865.926 26.1121 Q875.77 26.1121 880.631 31.2163 Q885.492 36.3204 885.492 46.6907 Z\" fill=\"#000000\" fill-rule=\"evenodd\" fill-opacity=\"1\" /><path clip-path=\"url(#clip590)\" d=\"M938.559 45.1919 L938.559 72.576 L931.105 72.576 L931.105 45.4349 Q931.105 38.994 928.594 35.7938 Q926.082 32.5936 921.059 32.5936 Q915.023 32.5936 911.539 36.4419 Q908.056 40.2903 908.056 46.9338 L908.056 72.576 L900.561 72.576 L900.561 27.2059 L908.056 27.2059 L908.056 34.2544 Q910.729 30.163 914.335 28.1376 Q917.98 26.1121 922.72 26.1121 Q930.538 26.1121 934.549 30.9732 Q938.559 35.7938 938.559 45.1919 Z\" fill=\"#000000\" fill-rule=\"evenodd\" fill-opacity=\"1\" /><path clip-path=\"url(#clip590)\" d=\"M998.674 76.7889 Q995.515 84.8907 992.517 87.3618 Q989.519 89.8329 984.496 89.8329 L978.541 89.8329 L978.541 83.5945 L982.916 83.5945 Q985.995 83.5945 987.696 82.1361 Q989.398 80.6778 991.464 75.2496 L992.801 71.8468 L974.45 27.2059 L982.349 27.2059 L996.527 62.6918 L1010.71 27.2059 L1018.6 27.2059 L998.674 76.7889 Z\" fill=\"#000000\" fill-rule=\"evenodd\" fill-opacity=\"1\" /><path clip-path=\"url(#clip590)\" d=\"M1046.48 32.4315 Q1040.48 32.4315 1037 37.1306 Q1033.51 41.7891 1033.51 49.9314 Q1033.51 58.0738 1036.96 62.7728 Q1040.44 67.4314 1046.48 67.4314 Q1052.43 67.4314 1055.91 62.7323 Q1059.4 58.0333 1059.4 49.9314 Q1059.4 41.8701 1055.91 37.1711 Q1052.43 32.4315 1046.48 32.4315 M1046.48 26.1121 Q1056.2 26.1121 1061.75 32.4315 Q1067.3 38.7509 1067.3 49.9314 Q1067.3 61.0714 1061.75 67.4314 Q1056.2 73.7508 1046.48 73.7508 Q1036.71 73.7508 1031.16 67.4314 Q1025.65 61.0714 1025.65 49.9314 Q1025.65 38.7509 1031.16 32.4315 Q1036.71 26.1121 1046.48 26.1121 Z\" fill=\"#000000\" fill-rule=\"evenodd\" fill-opacity=\"1\" /><path clip-path=\"url(#clip590)\" d=\"M1078.88 54.671 L1078.88 27.2059 L1086.34 27.2059 L1086.34 54.3874 Q1086.34 60.8284 1088.85 64.0691 Q1091.36 67.2693 1096.38 67.2693 Q1102.42 67.2693 1105.9 63.421 Q1109.43 59.5726 1109.43 52.9291 L1109.43 27.2059 L1116.88 27.2059 L1116.88 72.576 L1109.43 72.576 L1109.43 65.6084 Q1106.71 69.7404 1103.11 71.7658 Q1099.54 73.7508 1094.8 73.7508 Q1086.98 73.7508 1082.93 68.8897 Q1078.88 64.0286 1078.88 54.671 M1097.64 26.1121 L1097.64 26.1121 Z\" fill=\"#000000\" fill-rule=\"evenodd\" fill-opacity=\"1\" /><path clip-path=\"url(#clip590)\" d=\"M1181.57 9.54393 L1181.57 15.7418 L1174.44 15.7418 Q1170.43 15.7418 1168.85 17.3622 Q1167.31 18.9825 1167.31 23.1955 L1167.31 27.2059 L1179.59 27.2059 L1179.59 32.9987 L1167.31 32.9987 L1167.31 72.576 L1159.82 72.576 L1159.82 32.9987 L1152.69 32.9987 L1152.69 27.2059 L1159.82 27.2059 L1159.82 24.0462 Q1159.82 16.471 1163.34 13.0277 Q1166.87 9.54393 1174.52 9.54393 L1181.57 9.54393 Z\" fill=\"#000000\" fill-rule=\"evenodd\" fill-opacity=\"1\" /><path clip-path=\"url(#clip590)\" d=\"M1187.81 27.2059 L1195.26 27.2059 L1195.26 72.576 L1187.81 72.576 L1187.81 27.2059 M1187.81 9.54393 L1195.26 9.54393 L1195.26 18.9825 L1187.81 18.9825 L1187.81 9.54393 Z\" fill=\"#000000\" fill-rule=\"evenodd\" fill-opacity=\"1\" /><path clip-path=\"url(#clip590)\" d=\"M1248.57 45.1919 L1248.57 72.576 L1241.12 72.576 L1241.12 45.4349 Q1241.12 38.994 1238.61 35.7938 Q1236.1 32.5936 1231.07 32.5936 Q1225.04 32.5936 1221.56 36.4419 Q1218.07 40.2903 1218.07 46.9338 L1218.07 72.576 L1210.58 72.576 L1210.58 27.2059 L1218.07 27.2059 L1218.07 34.2544 Q1220.74 30.163 1224.35 28.1376 Q1228 26.1121 1232.74 26.1121 Q1240.55 26.1121 1244.56 30.9732 Q1248.57 35.7938 1248.57 45.1919 Z\" fill=\"#000000\" fill-rule=\"evenodd\" fill-opacity=\"1\" /><path clip-path=\"url(#clip590)\" d=\"M1293.3 34.0924 L1293.3 9.54393 L1300.75 9.54393 L1300.75 72.576 L1293.3 72.576 L1293.3 65.7705 Q1290.95 69.8214 1287.34 71.8063 Q1283.78 73.7508 1278.75 73.7508 Q1270.53 73.7508 1265.35 67.1883 Q1260.2 60.6258 1260.2 49.9314 Q1260.2 39.2371 1265.35 32.6746 Q1270.53 26.1121 1278.75 26.1121 Q1283.78 26.1121 1287.34 28.0971 Q1290.95 30.0415 1293.3 34.0924 M1267.9 49.9314 Q1267.9 58.1548 1271.26 62.8538 Q1274.66 67.5124 1280.58 67.5124 Q1286.49 67.5124 1289.89 62.8538 Q1293.3 58.1548 1293.3 49.9314 Q1293.3 41.7081 1289.89 37.0496 Q1286.49 32.3505 1280.58 32.3505 Q1274.66 32.3505 1271.26 37.0496 Q1267.9 41.7081 1267.9 49.9314 Z\" fill=\"#000000\" fill-rule=\"evenodd\" fill-opacity=\"1\" /><path clip-path=\"url(#clip590)\" d=\"M1349.85 14.324 L1349.85 27.2059 L1365.2 27.2059 L1365.2 32.9987 L1349.85 32.9987 L1349.85 57.6282 Q1349.85 63.1779 1351.35 64.7578 Q1352.89 66.3376 1357.54 66.3376 L1365.2 66.3376 L1365.2 72.576 L1357.54 72.576 Q1348.92 72.576 1345.63 69.3758 Q1342.35 66.1351 1342.35 57.6282 L1342.35 32.9987 L1336.88 32.9987 L1336.88 27.2059 L1342.35 27.2059 L1342.35 14.324 L1349.85 14.324 Z\" fill=\"#000000\" fill-rule=\"evenodd\" fill-opacity=\"1\" /><path clip-path=\"url(#clip590)\" d=\"M1412.72 45.1919 L1412.72 72.576 L1405.26 72.576 L1405.26 45.4349 Q1405.26 38.994 1402.75 35.7938 Q1400.24 32.5936 1395.22 32.5936 Q1389.18 32.5936 1385.7 36.4419 Q1382.21 40.2903 1382.21 46.9338 L1382.21 72.576 L1374.72 72.576 L1374.72 9.54393 L1382.21 9.54393 L1382.21 34.2544 Q1384.89 30.163 1388.49 28.1376 Q1392.14 26.1121 1396.88 26.1121 Q1404.7 26.1121 1408.71 30.9732 Q1412.72 35.7938 1412.72 45.1919 Z\" fill=\"#000000\" fill-rule=\"evenodd\" fill-opacity=\"1\" /><path clip-path=\"url(#clip590)\" d=\"M1466.39 48.0275 L1466.39 51.6733 L1432.12 51.6733 Q1432.61 59.3701 1436.74 63.421 Q1440.91 67.4314 1448.32 67.4314 Q1452.62 67.4314 1456.63 66.3781 Q1460.68 65.3249 1464.65 63.2184 L1464.65 70.267 Q1460.64 71.9684 1456.43 72.8596 Q1452.21 73.7508 1447.88 73.7508 Q1437.02 73.7508 1430.66 67.4314 Q1424.34 61.1119 1424.34 50.3365 Q1424.34 39.1965 1430.34 32.6746 Q1436.37 26.1121 1446.58 26.1121 Q1455.74 26.1121 1461.04 32.0264 Q1466.39 37.9003 1466.39 48.0275 M1458.94 45.84 Q1458.86 39.7232 1455.49 36.0774 Q1452.17 32.4315 1446.66 32.4315 Q1440.43 32.4315 1436.66 35.9558 Q1432.93 39.4801 1432.36 45.8805 L1458.94 45.84 Z\" fill=\"#000000\" fill-rule=\"evenodd\" fill-opacity=\"1\" /><path clip-path=\"url(#clip590)\" d=\"M1540.32 35.9153 Q1543.12 30.8922 1547 28.5022 Q1550.89 26.1121 1556.16 26.1121 Q1563.25 26.1121 1567.1 31.0947 Q1570.95 36.0368 1570.95 45.1919 L1570.95 72.576 L1563.45 72.576 L1563.45 45.4349 Q1563.45 38.913 1561.14 35.7533 Q1558.83 32.5936 1554.09 32.5936 Q1548.3 32.5936 1544.94 36.4419 Q1541.58 40.2903 1541.58 46.9338 L1541.58 72.576 L1534.08 72.576 L1534.08 45.4349 Q1534.08 38.8725 1531.77 35.7533 Q1529.46 32.5936 1524.64 32.5936 Q1518.93 32.5936 1515.57 36.4824 Q1512.21 40.3308 1512.21 46.9338 L1512.21 72.576 L1504.71 72.576 L1504.71 27.2059 L1512.21 27.2059 L1512.21 34.2544 Q1514.76 30.082 1518.32 28.0971 Q1521.89 26.1121 1526.79 26.1121 Q1531.73 26.1121 1535.18 28.6237 Q1538.66 31.1352 1540.32 35.9153 Z\" fill=\"#000000\" fill-rule=\"evenodd\" fill-opacity=\"1\" /><path clip-path=\"url(#clip590)\" d=\"M1606.43 49.7694 Q1597.4 49.7694 1593.91 51.8354 Q1590.43 53.9013 1590.43 58.8839 Q1590.43 62.8538 1593.02 65.2034 Q1595.66 67.5124 1600.15 67.5124 Q1606.35 67.5124 1610.08 63.1374 Q1613.84 58.7219 1613.84 51.4303 L1613.84 49.7694 L1606.43 49.7694 M1621.3 46.6907 L1621.3 72.576 L1613.84 72.576 L1613.84 65.6895 Q1611.29 69.8214 1607.48 71.8063 Q1603.68 73.7508 1598.17 73.7508 Q1591.2 73.7508 1587.07 69.8619 Q1582.98 65.9325 1582.98 59.3701 Q1582.98 51.7138 1588.08 47.825 Q1593.23 43.9361 1603.39 43.9361 L1613.84 43.9361 L1613.84 43.2069 Q1613.84 38.0623 1610.44 35.2672 Q1607.08 32.4315 1600.96 32.4315 Q1597.07 32.4315 1593.39 33.3632 Q1589.7 34.295 1586.3 36.1584 L1586.3 29.2718 Q1590.39 27.692 1594.24 26.9223 Q1598.09 26.1121 1601.73 26.1121 Q1611.58 26.1121 1616.44 31.2163 Q1621.3 36.3204 1621.3 46.6907 Z\" fill=\"#000000\" fill-rule=\"evenodd\" fill-opacity=\"1\" /><path clip-path=\"url(#clip590)\" d=\"M1674.37 27.2059 L1657.96 49.2833 L1675.22 72.576 L1666.43 72.576 L1653.22 54.752 L1640.01 72.576 L1631.22 72.576 L1648.84 48.8377 L1632.72 27.2059 L1641.51 27.2059 L1653.54 43.369 L1665.57 27.2059 L1674.37 27.2059 Z\" fill=\"#000000\" fill-rule=\"evenodd\" fill-opacity=\"1\" /><path clip-path=\"url(#clip590)\" d=\"M1693.77 62.2867 L1701.99 62.2867 L1701.99 72.576 L1693.77 72.576 L1693.77 62.2867 M1701.75 56.3319 L1694.01 56.3319 L1694.01 50.0935 Q1694.01 46.0021 1695.15 43.369 Q1696.28 40.7359 1699.93 37.2521 L1703.57 33.6468 Q1705.88 31.4998 1706.89 29.5959 Q1707.95 27.692 1707.95 25.707 Q1707.95 22.1017 1705.27 19.8737 Q1702.64 17.6457 1698.27 17.6457 Q1695.07 17.6457 1691.42 19.0636 Q1687.81 20.4814 1683.88 23.1955 L1683.88 15.5798 Q1687.69 13.2708 1691.58 12.1365 Q1695.51 11.0023 1699.68 11.0023 Q1707.14 11.0023 1711.63 14.9316 Q1716.17 18.861 1716.17 25.3019 Q1716.17 28.3806 1714.71 31.1758 Q1713.25 33.9304 1709.61 37.4142 L1706.04 40.8979 Q1704.14 42.8019 1703.33 43.8956 Q1702.56 44.9488 1702.24 45.9616 Q1701.99 46.8122 1701.87 48.0275 Q1701.75 49.2428 1701.75 51.3493 L1701.75 56.3319 Z\" fill=\"#000000\" fill-rule=\"evenodd\" fill-opacity=\"1\" /><path clip-path=\"url(#clip590)\" d=\"M1734.48 62.2867 L1742.7 62.2867 L1742.7 72.576 L1734.48 72.576 L1734.48 62.2867 M1734.48 12.096 L1742.7 12.096 L1742.7 38.6294 L1741.89 53.0912 L1735.33 53.0912 L1734.48 38.6294 L1734.48 12.096 Z\" fill=\"#000000\" fill-rule=\"evenodd\" fill-opacity=\"1\" /><polyline clip-path=\"url(#clip592)\" style=\"stroke:#009af9; stroke-linecap:butt; stroke-linejoin:round; stroke-width:8; stroke-opacity:1; fill:none\" points=\"\n  240.392,1447.87 261.107,1406.65 281.823,1366.09 302.538,1326.21 323.254,1287 343.97,1248.46 364.685,1210.59 385.401,1173.39 406.116,1136.87 426.832,1101.02 \n  447.547,1065.84 468.263,1031.33 488.978,997.49 509.694,964.324 530.409,931.83 551.125,900.007 571.841,868.857 592.556,838.378 613.272,808.57 633.987,779.435 \n  654.703,750.971 675.418,723.179 696.134,696.059 716.849,669.61 737.565,643.833 758.28,618.728 778.996,594.294 799.712,570.532 820.427,547.442 841.143,525.024 \n  861.858,503.277 882.574,482.202 903.289,461.799 924.005,442.067 944.72,423.007 965.436,404.619 986.151,386.903 1006.87,369.858 1027.58,353.485 1048.3,337.784 \n  1069.01,322.754 1089.73,308.396 1110.44,294.71 1131.16,281.696 1151.88,269.353 1172.59,257.682 1193.31,246.683 1214.02,236.355 1234.74,226.699 1255.45,217.715 \n  1276.17,209.403 1296.88,201.762 1317.6,194.793 1338.32,188.496 1359.03,182.87 1379.75,177.916 1400.46,173.634 1421.18,170.024 1441.89,167.085 1462.61,164.818 \n  1483.32,163.222 1504.04,162.299 1524.76,162.047 1545.47,162.467 1566.19,163.558 1586.9,165.322 1607.62,167.756 1628.33,170.863 1649.05,174.642 1669.76,179.092 \n  1690.48,184.213 1711.2,190.007 1731.91,196.472 1752.63,203.609 1773.34,211.418 1794.06,219.898 1814.77,229.05 1835.49,238.874 1856.2,249.37 1876.92,260.537 \n  1897.64,272.376 1918.35,284.886 1939.07,298.069 1959.78,311.923 1980.5,326.449 2001.21,341.646 2021.93,357.515 2042.64,374.056 2063.36,391.269 2084.08,409.153 \n  2104.79,427.709 2125.51,446.937 2146.22,466.837 2166.94,487.408 2187.65,508.651 2208.37,530.565 2229.08,553.152 2249.8,576.41 2270.52,600.339 2291.23,624.941 \n  \n  \"/>\n</svg>\n"
     },
     "execution_count": 108,
     "metadata": {},
     "output_type": "execute_result"
    }
   ],
   "source": [
    "npoints = 100\n",
    "a, b = (-10, 10)\n",
    "x = range(a, b, length = npoints)\n",
    "α = 0.2 \n",
    "\n",
    "U(x) = x .- α .* x .^ 2\n",
    "\n",
    "plot(x, U.(x), legend = false, lw = 2, title = \"Can you find the max?!\")"
   ]
  },
  {
   "cell_type": "markdown",
   "metadata": {},
   "source": [
    "As you can see, we can approximately guess from the graph where the highest value for this graph is going to be. It be somewhere in the interval between 10 and 15. However, this is not precise enough. We need some method to give us the exact answer, this is where derivatives will enter. Another approach is just to consider each of the utility values and then pick the maximum from the list. Luckily Julia has a function called `findmax()` that can do this for us. \n",
    "\n",
    "Don't worry too much about the code for now, this won't make too much sense at first. I will try and explain the basic idea, but if you don't get it don't worry. Try and come back to this code at a later stage once you are more familiar with programming in Julia. Then try and evaluate every line and see if you can make sense of what is happening here. "
   ]
  },
  {
   "cell_type": "code",
   "execution_count": 116,
   "metadata": {},
   "outputs": [
    {
     "data": {
      "text/plain": [
       "(1.249872461993674, 63)"
      ]
     },
     "execution_count": 116,
     "metadata": {},
     "output_type": "execute_result"
    }
   ],
   "source": [
    "fmax, ix = findmax(U.(x))\t"
   ]
  },
  {
   "cell_type": "markdown",
   "metadata": {},
   "source": [
    "We can see from above that if we evaluate our utility function with the `findmax()` function a tuple is returned. The first value in the tuple is the function output at the maximum. In other words it is the value of utility where this function is maximised. It is the value on the y-axis. The second value in the tuple is the position in the list of $x$ values that we evaluated. If we go back in our code you will see that we created a range of $x$ values in the interval $-10$ to $10$. We created a grid of 100 points within the interval (generated 100 potential values for $x$) and inserted those $x$ values into the utility function at each of the given points. \n",
    "\n",
    "According to the `findmax()` function, the 63rd value in in that grid of $x$ values was the one that maximised the function. This is also referred to as the $\\argmax$ in mathematics. We can then find the $x$ value by looking at `x[ix]`, which is basically the same as `x[63]` in this case. Remember how to access elements in an array from the previous tutorial. "
   ]
  },
  {
   "cell_type": "code",
   "execution_count": 118,
   "metadata": {},
   "outputs": [
    {
     "data": {
      "text/plain": [
       "true"
      ]
     },
     "execution_count": 118,
     "metadata": {},
     "output_type": "execute_result"
    }
   ],
   "source": [
    "x[ix] == x[63]"
   ]
  },
  {
   "cell_type": "markdown",
   "metadata": {},
   "source": [
    "The maximum here is $2.52525252 \\ldots$. If we chose a finer grid for $x$ we would be able to get a better approximation for the true value that maximises this function."
   ]
  },
  {
   "cell_type": "code",
   "execution_count": 120,
   "metadata": {},
   "outputs": [
    {
     "data": {
      "text/plain": [
       "2.525252525252525"
      ]
     },
     "execution_count": 120,
     "metadata": {},
     "output_type": "execute_result"
    }
   ],
   "source": [
    "x[ix] "
   ]
  },
  {
   "cell_type": "markdown",
   "metadata": {},
   "source": [
    "In the graph below we simply draw a scatter plot with the $x$ value being represented by the 63rd point in the $x$ vector."
   ]
  },
  {
   "cell_type": "code",
   "execution_count": 121,
   "metadata": {},
   "outputs": [
    {
     "data": {
      "image/svg+xml": "<?xml version=\"1.0\" encoding=\"utf-8\"?>\n<svg xmlns=\"http://www.w3.org/2000/svg\" xmlns:xlink=\"http://www.w3.org/1999/xlink\" width=\"600\" height=\"400\" viewBox=\"0 0 2400 1600\">\n<defs>\n  <clipPath id=\"clip790\">\n    <rect x=\"0\" y=\"0\" width=\"2400\" height=\"1600\"/>\n  </clipPath>\n</defs>\n<path clip-path=\"url(#clip790)\" d=\"\nM0 1600 L2400 1600 L2400 0 L0 0  Z\n  \" fill=\"#ffffff\" fill-rule=\"evenodd\" fill-opacity=\"1\"/>\n<defs>\n  <clipPath id=\"clip791\">\n    <rect x=\"480\" y=\"0\" width=\"1681\" height=\"1600\"/>\n  </clipPath>\n</defs>\n<path clip-path=\"url(#clip790)\" d=\"\nM178.867 1486.45 L2352.76 1486.45 L2352.76 123.472 L178.867 123.472  Z\n  \" fill=\"#ffffff\" fill-rule=\"evenodd\" fill-opacity=\"1\"/>\n<defs>\n  <clipPath id=\"clip792\">\n    <rect x=\"178\" y=\"123\" width=\"2175\" height=\"1364\"/>\n  </clipPath>\n</defs>\n<polyline clip-path=\"url(#clip792)\" style=\"stroke:#000000; stroke-linecap:butt; stroke-linejoin:round; stroke-width:2; stroke-opacity:0.1; fill:none\" points=\"\n  1524.76,1486.45 1524.76,123.472 \n  \"/>\n<polyline clip-path=\"url(#clip790)\" style=\"stroke:#000000; stroke-linecap:butt; stroke-linejoin:round; stroke-width:4; stroke-opacity:1; fill:none\" points=\"\n  178.867,1486.45 2352.76,1486.45 \n  \"/>\n<polyline clip-path=\"url(#clip790)\" style=\"stroke:#000000; stroke-linecap:butt; stroke-linejoin:round; stroke-width:4; stroke-opacity:1; fill:none\" points=\"\n  1524.76,1486.45 1524.76,1467.55 \n  \"/>\n<path clip-path=\"url(#clip790)\" d=\"M1406.01 1544.91 L1422.33 1544.91 L1422.33 1548.85 L1400.38 1548.85 L1400.38 1544.91 Q1403.04 1542.16 1407.63 1537.53 Q1412.23 1532.88 1413.41 1531.53 Q1415.66 1529.01 1416.54 1527.27 Q1417.44 1525.51 1417.44 1523.82 Q1417.44 1521.07 1415.5 1519.33 Q1413.58 1517.6 1410.47 1517.6 Q1408.27 1517.6 1405.82 1518.36 Q1403.39 1519.13 1400.61 1520.68 L1400.61 1515.95 Q1403.44 1514.82 1405.89 1514.24 Q1408.34 1513.66 1410.38 1513.66 Q1415.75 1513.66 1418.95 1516.35 Q1422.14 1519.03 1422.14 1523.52 Q1422.14 1525.65 1421.33 1527.57 Q1420.54 1529.47 1418.44 1532.07 Q1417.86 1532.74 1414.76 1535.95 Q1411.65 1539.15 1406.01 1544.91 Z\" fill=\"#000000\" fill-rule=\"evenodd\" fill-opacity=\"1\" /><path clip-path=\"url(#clip790)\" d=\"M1432.14 1542.97 L1437.02 1542.97 L1437.02 1548.85 L1432.14 1548.85 L1432.14 1542.97 Z\" fill=\"#000000\" fill-rule=\"evenodd\" fill-opacity=\"1\" /><path clip-path=\"url(#clip790)\" d=\"M1447.26 1514.29 L1465.61 1514.29 L1465.61 1518.22 L1451.54 1518.22 L1451.54 1526.7 Q1452.56 1526.35 1453.58 1526.19 Q1454.59 1526 1455.61 1526 Q1461.4 1526 1464.78 1529.17 Q1468.16 1532.34 1468.16 1537.76 Q1468.16 1543.34 1464.69 1546.44 Q1461.21 1549.52 1454.89 1549.52 Q1452.72 1549.52 1450.45 1549.15 Q1448.21 1548.78 1445.8 1548.04 L1445.8 1543.34 Q1447.88 1544.47 1450.1 1545.03 Q1452.33 1545.58 1454.8 1545.58 Q1458.81 1545.58 1461.14 1543.48 Q1463.48 1541.37 1463.48 1537.76 Q1463.48 1534.15 1461.14 1532.04 Q1458.81 1529.94 1454.8 1529.94 Q1452.93 1529.94 1451.05 1530.35 Q1449.2 1530.77 1447.26 1531.65 L1447.26 1514.29 Z\" fill=\"#000000\" fill-rule=\"evenodd\" fill-opacity=\"1\" /><path clip-path=\"url(#clip790)\" d=\"M1481.4 1544.91 L1497.72 1544.91 L1497.72 1548.85 L1475.77 1548.85 L1475.77 1544.91 Q1478.44 1542.16 1483.02 1537.53 Q1487.63 1532.88 1488.81 1531.53 Q1491.05 1529.01 1491.93 1527.27 Q1492.83 1525.51 1492.83 1523.82 Q1492.83 1521.07 1490.89 1519.33 Q1488.97 1517.6 1485.87 1517.6 Q1483.67 1517.6 1481.21 1518.36 Q1478.78 1519.13 1476.01 1520.68 L1476.01 1515.95 Q1478.83 1514.82 1481.28 1514.24 Q1483.74 1513.66 1485.77 1513.66 Q1491.14 1513.66 1494.34 1516.35 Q1497.53 1519.03 1497.53 1523.52 Q1497.53 1525.65 1496.72 1527.57 Q1495.94 1529.47 1493.83 1532.07 Q1493.25 1532.74 1490.15 1535.95 Q1487.05 1539.15 1481.4 1544.91 Z\" fill=\"#000000\" fill-rule=\"evenodd\" fill-opacity=\"1\" /><path clip-path=\"url(#clip790)\" d=\"M1507.58 1514.29 L1525.94 1514.29 L1525.94 1518.22 L1511.86 1518.22 L1511.86 1526.7 Q1512.88 1526.35 1513.9 1526.19 Q1514.92 1526 1515.94 1526 Q1521.72 1526 1525.1 1529.17 Q1528.48 1532.34 1528.48 1537.76 Q1528.48 1543.34 1525.01 1546.44 Q1521.54 1549.52 1515.22 1549.52 Q1513.04 1549.52 1510.77 1549.15 Q1508.53 1548.78 1506.12 1548.04 L1506.12 1543.34 Q1508.2 1544.47 1510.43 1545.03 Q1512.65 1545.58 1515.13 1545.58 Q1519.13 1545.58 1521.47 1543.48 Q1523.81 1541.37 1523.81 1537.76 Q1523.81 1534.15 1521.47 1532.04 Q1519.13 1529.94 1515.13 1529.94 Q1513.25 1529.94 1511.38 1530.35 Q1509.52 1530.77 1507.58 1531.65 L1507.58 1514.29 Z\" fill=\"#000000\" fill-rule=\"evenodd\" fill-opacity=\"1\" /><path clip-path=\"url(#clip790)\" d=\"M1541.72 1544.91 L1558.04 1544.91 L1558.04 1548.85 L1536.1 1548.85 L1536.1 1544.91 Q1538.76 1542.16 1543.34 1537.53 Q1547.95 1532.88 1549.13 1531.53 Q1551.38 1529.01 1552.26 1527.27 Q1553.16 1525.51 1553.16 1523.82 Q1553.16 1521.07 1551.21 1519.33 Q1549.29 1517.6 1546.19 1517.6 Q1543.99 1517.6 1541.54 1518.36 Q1539.11 1519.13 1536.33 1520.68 L1536.33 1515.95 Q1539.15 1514.82 1541.61 1514.24 Q1544.06 1513.66 1546.1 1513.66 Q1551.47 1513.66 1554.66 1516.35 Q1557.86 1519.03 1557.86 1523.52 Q1557.86 1525.65 1557.05 1527.57 Q1556.26 1529.47 1554.15 1532.07 Q1553.57 1532.74 1550.47 1535.95 Q1547.37 1539.15 1541.72 1544.91 Z\" fill=\"#000000\" fill-rule=\"evenodd\" fill-opacity=\"1\" /><path clip-path=\"url(#clip790)\" d=\"M1567.9 1514.29 L1586.26 1514.29 L1586.26 1518.22 L1572.19 1518.22 L1572.19 1526.7 Q1573.2 1526.35 1574.22 1526.19 Q1575.24 1526 1576.26 1526 Q1582.05 1526 1585.43 1529.17 Q1588.81 1532.34 1588.81 1537.76 Q1588.81 1543.34 1585.33 1546.44 Q1581.86 1549.52 1575.54 1549.52 Q1573.37 1549.52 1571.1 1549.15 Q1568.85 1548.78 1566.45 1548.04 L1566.45 1543.34 Q1568.53 1544.47 1570.75 1545.03 Q1572.97 1545.58 1575.45 1545.58 Q1579.45 1545.58 1581.79 1543.48 Q1584.13 1541.37 1584.13 1537.76 Q1584.13 1534.15 1581.79 1532.04 Q1579.45 1529.94 1575.45 1529.94 Q1573.57 1529.94 1571.7 1530.35 Q1569.85 1530.77 1567.9 1531.65 L1567.9 1514.29 Z\" fill=\"#000000\" fill-rule=\"evenodd\" fill-opacity=\"1\" /><path clip-path=\"url(#clip790)\" d=\"M1602.05 1544.91 L1618.37 1544.91 L1618.37 1548.85 L1596.42 1548.85 L1596.42 1544.91 Q1599.08 1542.16 1603.67 1537.53 Q1608.27 1532.88 1609.45 1531.53 Q1611.7 1529.01 1612.58 1527.27 Q1613.48 1525.51 1613.48 1523.82 Q1613.48 1521.07 1611.54 1519.33 Q1609.62 1517.6 1606.51 1517.6 Q1604.32 1517.6 1601.86 1518.36 Q1599.43 1519.13 1596.65 1520.68 L1596.65 1515.95 Q1599.48 1514.82 1601.93 1514.24 Q1604.38 1513.66 1606.42 1513.66 Q1611.79 1513.66 1614.99 1516.35 Q1618.18 1519.03 1618.18 1523.52 Q1618.18 1525.65 1617.37 1527.57 Q1616.58 1529.47 1614.48 1532.07 Q1613.9 1532.74 1610.8 1535.95 Q1607.69 1539.15 1602.05 1544.91 Z\" fill=\"#000000\" fill-rule=\"evenodd\" fill-opacity=\"1\" /><path clip-path=\"url(#clip790)\" d=\"M1628.23 1514.29 L1646.58 1514.29 L1646.58 1518.22 L1632.51 1518.22 L1632.51 1526.7 Q1633.53 1526.35 1634.55 1526.19 Q1635.57 1526 1636.58 1526 Q1642.37 1526 1645.75 1529.17 Q1649.13 1532.34 1649.13 1537.76 Q1649.13 1543.34 1645.66 1546.44 Q1642.19 1549.52 1635.87 1549.52 Q1633.69 1549.52 1631.42 1549.15 Q1629.18 1548.78 1626.77 1548.04 L1626.77 1543.34 Q1628.85 1544.47 1631.07 1545.03 Q1633.3 1545.58 1635.77 1545.58 Q1639.78 1545.58 1642.12 1543.48 Q1644.45 1541.37 1644.45 1537.76 Q1644.45 1534.15 1642.12 1532.04 Q1639.78 1529.94 1635.77 1529.94 Q1633.9 1529.94 1632.02 1530.35 Q1630.17 1530.77 1628.23 1531.65 L1628.23 1514.29 Z\" fill=\"#000000\" fill-rule=\"evenodd\" fill-opacity=\"1\" /><polyline clip-path=\"url(#clip792)\" style=\"stroke:#000000; stroke-linecap:butt; stroke-linejoin:round; stroke-width:2; stroke-opacity:0.1; fill:none\" points=\"\n  178.867,1447.87 2352.76,1447.87 \n  \"/>\n<polyline clip-path=\"url(#clip792)\" style=\"stroke:#000000; stroke-linecap:butt; stroke-linejoin:round; stroke-width:2; stroke-opacity:0.1; fill:none\" points=\"\n  178.867,1036.41 2352.76,1036.41 \n  \"/>\n<polyline clip-path=\"url(#clip792)\" style=\"stroke:#000000; stroke-linecap:butt; stroke-linejoin:round; stroke-width:2; stroke-opacity:0.1; fill:none\" points=\"\n  178.867,624.941 2352.76,624.941 \n  \"/>\n<polyline clip-path=\"url(#clip792)\" style=\"stroke:#000000; stroke-linecap:butt; stroke-linejoin:round; stroke-width:2; stroke-opacity:0.1; fill:none\" points=\"\n  178.867,213.475 2352.76,213.475 \n  \"/>\n<polyline clip-path=\"url(#clip790)\" style=\"stroke:#000000; stroke-linecap:butt; stroke-linejoin:round; stroke-width:4; stroke-opacity:1; fill:none\" points=\"\n  178.867,1486.45 178.867,123.472 \n  \"/>\n<polyline clip-path=\"url(#clip790)\" style=\"stroke:#000000; stroke-linecap:butt; stroke-linejoin:round; stroke-width:4; stroke-opacity:1; fill:none\" points=\"\n  178.867,1447.87 197.764,1447.87 \n  \"/>\n<polyline clip-path=\"url(#clip790)\" style=\"stroke:#000000; stroke-linecap:butt; stroke-linejoin:round; stroke-width:4; stroke-opacity:1; fill:none\" points=\"\n  178.867,1036.41 197.764,1036.41 \n  \"/>\n<polyline clip-path=\"url(#clip790)\" style=\"stroke:#000000; stroke-linecap:butt; stroke-linejoin:round; stroke-width:4; stroke-opacity:1; fill:none\" points=\"\n  178.867,624.941 197.764,624.941 \n  \"/>\n<polyline clip-path=\"url(#clip790)\" style=\"stroke:#000000; stroke-linecap:butt; stroke-linejoin:round; stroke-width:4; stroke-opacity:1; fill:none\" points=\"\n  178.867,213.475 197.764,213.475 \n  \"/>\n<path clip-path=\"url(#clip790)\" d=\"M50.9921 1448.32 L80.6679 1448.32 L80.6679 1452.26 L50.9921 1452.26 L50.9921 1448.32 Z\" fill=\"#000000\" fill-rule=\"evenodd\" fill-opacity=\"1\" /><path clip-path=\"url(#clip790)\" d=\"M104.927 1446.52 Q108.283 1447.24 110.158 1449.51 Q112.057 1451.77 112.057 1455.11 Q112.057 1460.22 108.538 1463.02 Q105.02 1465.82 98.5382 1465.82 Q96.3623 1465.82 94.0475 1465.38 Q91.7558 1464.97 89.3021 1464.11 L89.3021 1459.6 Q91.2465 1460.73 93.5613 1461.31 Q95.8761 1461.89 98.3993 1461.89 Q102.797 1461.89 105.089 1460.15 Q107.404 1458.42 107.404 1455.11 Q107.404 1452.05 105.251 1450.34 Q103.121 1448.6 99.3021 1448.6 L95.2743 1448.6 L95.2743 1444.76 L99.4872 1444.76 Q102.936 1444.76 104.765 1443.39 Q106.594 1442.01 106.594 1439.41 Q106.594 1436.75 104.696 1435.34 Q102.821 1433.9 99.3021 1433.9 Q97.3808 1433.9 95.1817 1434.32 Q92.9826 1434.74 90.3438 1435.62 L90.3438 1431.45 Q93.0058 1430.71 95.3206 1430.34 Q97.6585 1429.97 99.7187 1429.97 Q105.043 1429.97 108.145 1432.4 Q111.246 1434.81 111.246 1438.93 Q111.246 1441.8 109.603 1443.79 Q107.959 1445.76 104.927 1446.52 Z\" fill=\"#000000\" fill-rule=\"evenodd\" fill-opacity=\"1\" /><path clip-path=\"url(#clip790)\" d=\"M130.922 1433.67 Q127.311 1433.67 125.482 1437.24 Q123.677 1440.78 123.677 1447.91 Q123.677 1455.01 125.482 1458.58 Q127.311 1462.12 130.922 1462.12 Q134.556 1462.12 136.362 1458.58 Q138.191 1455.01 138.191 1447.91 Q138.191 1440.78 136.362 1437.24 Q134.556 1433.67 130.922 1433.67 M130.922 1429.97 Q136.732 1429.97 139.788 1434.57 Q142.867 1439.16 142.867 1447.91 Q142.867 1456.63 139.788 1461.24 Q136.732 1465.82 130.922 1465.82 Q125.112 1465.82 122.033 1461.24 Q118.978 1456.63 118.978 1447.91 Q118.978 1439.16 122.033 1434.57 Q125.112 1429.97 130.922 1429.97 Z\" fill=\"#000000\" fill-rule=\"evenodd\" fill-opacity=\"1\" /><path clip-path=\"url(#clip790)\" d=\"M50.9921 1036.86 L80.6679 1036.86 L80.6679 1040.79 L50.9921 1040.79 L50.9921 1036.86 Z\" fill=\"#000000\" fill-rule=\"evenodd\" fill-opacity=\"1\" /><path clip-path=\"url(#clip790)\" d=\"M94.7882 1049.75 L111.108 1049.75 L111.108 1053.69 L89.1632 1053.69 L89.1632 1049.75 Q91.8252 1047 96.4085 1042.37 Q101.015 1037.71 102.196 1036.37 Q104.441 1033.85 105.321 1032.11 Q106.223 1030.35 106.223 1028.66 Q106.223 1025.91 104.279 1024.17 Q102.358 1022.44 99.2558 1022.44 Q97.0567 1022.44 94.603 1023.2 Q92.1725 1023.96 89.3947 1025.52 L89.3947 1020.79 Q92.2188 1019.66 94.6724 1019.08 Q97.1261 1018.5 99.1632 1018.5 Q104.534 1018.5 107.728 1021.19 Q110.922 1023.87 110.922 1028.36 Q110.922 1030.49 110.112 1032.41 Q109.325 1034.31 107.219 1036.9 Q106.64 1037.58 103.538 1040.79 Q100.436 1043.99 94.7882 1049.75 Z\" fill=\"#000000\" fill-rule=\"evenodd\" fill-opacity=\"1\" /><path clip-path=\"url(#clip790)\" d=\"M130.922 1022.21 Q127.311 1022.21 125.482 1025.77 Q123.677 1029.31 123.677 1036.44 Q123.677 1043.55 125.482 1047.11 Q127.311 1050.65 130.922 1050.65 Q134.556 1050.65 136.362 1047.11 Q138.191 1043.55 138.191 1036.44 Q138.191 1029.31 136.362 1025.77 Q134.556 1022.21 130.922 1022.21 M130.922 1018.5 Q136.732 1018.5 139.788 1023.11 Q142.867 1027.69 142.867 1036.44 Q142.867 1045.17 139.788 1049.78 Q136.732 1054.36 130.922 1054.36 Q125.112 1054.36 122.033 1049.78 Q118.978 1045.17 118.978 1036.44 Q118.978 1027.69 122.033 1023.11 Q125.112 1018.5 130.922 1018.5 Z\" fill=\"#000000\" fill-rule=\"evenodd\" fill-opacity=\"1\" /><path clip-path=\"url(#clip790)\" d=\"M50.9921 625.392 L80.6679 625.392 L80.6679 629.328 L50.9921 629.328 L50.9921 625.392 Z\" fill=\"#000000\" fill-rule=\"evenodd\" fill-opacity=\"1\" /><path clip-path=\"url(#clip790)\" d=\"M91.5706 638.286 L99.2095 638.286 L99.2095 611.92 L90.8993 613.587 L90.8993 609.328 L99.1632 607.661 L103.839 607.661 L103.839 638.286 L111.478 638.286 L111.478 642.221 L91.5706 642.221 L91.5706 638.286 Z\" fill=\"#000000\" fill-rule=\"evenodd\" fill-opacity=\"1\" /><path clip-path=\"url(#clip790)\" d=\"M130.922 610.74 Q127.311 610.74 125.482 614.304 Q123.677 617.846 123.677 624.976 Q123.677 632.082 125.482 635.647 Q127.311 639.189 130.922 639.189 Q134.556 639.189 136.362 635.647 Q138.191 632.082 138.191 624.976 Q138.191 617.846 136.362 614.304 Q134.556 610.74 130.922 610.74 M130.922 607.036 Q136.732 607.036 139.788 611.642 Q142.867 616.226 142.867 624.976 Q142.867 633.703 139.788 638.309 Q136.732 642.892 130.922 642.892 Q125.112 642.892 122.033 638.309 Q118.978 633.703 118.978 624.976 Q118.978 616.226 122.033 611.642 Q125.112 607.036 130.922 607.036 Z\" fill=\"#000000\" fill-rule=\"evenodd\" fill-opacity=\"1\" /><path clip-path=\"url(#clip790)\" d=\"M130.922 199.274 Q127.311 199.274 125.482 202.838 Q123.677 206.38 123.677 213.51 Q123.677 220.616 125.482 224.181 Q127.311 227.723 130.922 227.723 Q134.556 227.723 136.362 224.181 Q138.191 220.616 138.191 213.51 Q138.191 206.38 136.362 202.838 Q134.556 199.274 130.922 199.274 M130.922 195.57 Q136.732 195.57 139.788 200.176 Q142.867 204.76 142.867 213.51 Q142.867 222.236 139.788 226.843 Q136.732 231.426 130.922 231.426 Q125.112 231.426 122.033 226.843 Q118.978 222.236 118.978 213.51 Q118.978 204.76 122.033 200.176 Q125.112 195.57 130.922 195.57 Z\" fill=\"#000000\" fill-rule=\"evenodd\" fill-opacity=\"1\" /><path clip-path=\"url(#clip790)\" d=\"M837.691 16.7545 L837.691 25.383 Q833.56 21.5346 828.86 19.6307 Q824.202 17.7268 818.936 17.7268 Q808.565 17.7268 803.056 24.0867 Q797.547 30.4061 797.547 42.3968 Q797.547 54.3469 803.056 60.7069 Q808.565 67.0263 818.936 67.0263 Q824.202 67.0263 828.86 65.1223 Q833.56 63.2184 837.691 59.3701 L837.691 67.9175 Q833.397 70.8341 828.577 72.2924 Q823.797 73.7508 818.45 73.7508 Q804.717 73.7508 796.818 65.3654 Q788.919 56.9395 788.919 42.3968 Q788.919 27.8135 796.818 19.4281 Q804.717 11.0023 818.45 11.0023 Q823.878 11.0023 828.658 12.4606 Q833.479 13.8784 837.691 16.7545 Z\" fill=\"#000000\" fill-rule=\"evenodd\" fill-opacity=\"1\" /><path clip-path=\"url(#clip790)\" d=\"M870.625 49.7694 Q861.592 49.7694 858.108 51.8354 Q854.624 53.9013 854.624 58.8839 Q854.624 62.8538 857.217 65.2034 Q859.85 67.5124 864.346 67.5124 Q870.544 67.5124 874.271 63.1374 Q878.038 58.7219 878.038 51.4303 L878.038 49.7694 L870.625 49.7694 M885.492 46.6907 L885.492 72.576 L878.038 72.576 L878.038 65.6895 Q875.486 69.8214 871.679 71.8063 Q867.871 73.7508 862.361 73.7508 Q855.394 73.7508 851.262 69.8619 Q847.171 65.9325 847.171 59.3701 Q847.171 51.7138 852.275 47.825 Q857.419 43.9361 867.587 43.9361 L878.038 43.9361 L878.038 43.2069 Q878.038 38.0623 874.636 35.2672 Q871.273 32.4315 865.157 32.4315 Q861.268 32.4315 857.581 33.3632 Q853.895 34.295 850.492 36.1584 L850.492 29.2718 Q854.584 27.692 858.432 26.9223 Q862.28 26.1121 865.926 26.1121 Q875.77 26.1121 880.631 31.2163 Q885.492 36.3204 885.492 46.6907 Z\" fill=\"#000000\" fill-rule=\"evenodd\" fill-opacity=\"1\" /><path clip-path=\"url(#clip790)\" d=\"M938.559 45.1919 L938.559 72.576 L931.105 72.576 L931.105 45.4349 Q931.105 38.994 928.594 35.7938 Q926.082 32.5936 921.059 32.5936 Q915.023 32.5936 911.539 36.4419 Q908.056 40.2903 908.056 46.9338 L908.056 72.576 L900.561 72.576 L900.561 27.2059 L908.056 27.2059 L908.056 34.2544 Q910.729 30.163 914.335 28.1376 Q917.98 26.1121 922.72 26.1121 Q930.538 26.1121 934.549 30.9732 Q938.559 35.7938 938.559 45.1919 Z\" fill=\"#000000\" fill-rule=\"evenodd\" fill-opacity=\"1\" /><path clip-path=\"url(#clip790)\" d=\"M998.674 76.7889 Q995.515 84.8907 992.517 87.3618 Q989.519 89.8329 984.496 89.8329 L978.541 89.8329 L978.541 83.5945 L982.916 83.5945 Q985.995 83.5945 987.696 82.1361 Q989.398 80.6778 991.464 75.2496 L992.801 71.8468 L974.45 27.2059 L982.349 27.2059 L996.527 62.6918 L1010.71 27.2059 L1018.6 27.2059 L998.674 76.7889 Z\" fill=\"#000000\" fill-rule=\"evenodd\" fill-opacity=\"1\" /><path clip-path=\"url(#clip790)\" d=\"M1046.48 32.4315 Q1040.48 32.4315 1037 37.1306 Q1033.51 41.7891 1033.51 49.9314 Q1033.51 58.0738 1036.96 62.7728 Q1040.44 67.4314 1046.48 67.4314 Q1052.43 67.4314 1055.91 62.7323 Q1059.4 58.0333 1059.4 49.9314 Q1059.4 41.8701 1055.91 37.1711 Q1052.43 32.4315 1046.48 32.4315 M1046.48 26.1121 Q1056.2 26.1121 1061.75 32.4315 Q1067.3 38.7509 1067.3 49.9314 Q1067.3 61.0714 1061.75 67.4314 Q1056.2 73.7508 1046.48 73.7508 Q1036.71 73.7508 1031.16 67.4314 Q1025.65 61.0714 1025.65 49.9314 Q1025.65 38.7509 1031.16 32.4315 Q1036.71 26.1121 1046.48 26.1121 Z\" fill=\"#000000\" fill-rule=\"evenodd\" fill-opacity=\"1\" /><path clip-path=\"url(#clip790)\" d=\"M1078.88 54.671 L1078.88 27.2059 L1086.34 27.2059 L1086.34 54.3874 Q1086.34 60.8284 1088.85 64.0691 Q1091.36 67.2693 1096.38 67.2693 Q1102.42 67.2693 1105.9 63.421 Q1109.43 59.5726 1109.43 52.9291 L1109.43 27.2059 L1116.88 27.2059 L1116.88 72.576 L1109.43 72.576 L1109.43 65.6084 Q1106.71 69.7404 1103.11 71.7658 Q1099.54 73.7508 1094.8 73.7508 Q1086.98 73.7508 1082.93 68.8897 Q1078.88 64.0286 1078.88 54.671 M1097.64 26.1121 L1097.64 26.1121 Z\" fill=\"#000000\" fill-rule=\"evenodd\" fill-opacity=\"1\" /><path clip-path=\"url(#clip790)\" d=\"M1181.57 9.54393 L1181.57 15.7418 L1174.44 15.7418 Q1170.43 15.7418 1168.85 17.3622 Q1167.31 18.9825 1167.31 23.1955 L1167.31 27.2059 L1179.59 27.2059 L1179.59 32.9987 L1167.31 32.9987 L1167.31 72.576 L1159.82 72.576 L1159.82 32.9987 L1152.69 32.9987 L1152.69 27.2059 L1159.82 27.2059 L1159.82 24.0462 Q1159.82 16.471 1163.34 13.0277 Q1166.87 9.54393 1174.52 9.54393 L1181.57 9.54393 Z\" fill=\"#000000\" fill-rule=\"evenodd\" fill-opacity=\"1\" /><path clip-path=\"url(#clip790)\" d=\"M1187.81 27.2059 L1195.26 27.2059 L1195.26 72.576 L1187.81 72.576 L1187.81 27.2059 M1187.81 9.54393 L1195.26 9.54393 L1195.26 18.9825 L1187.81 18.9825 L1187.81 9.54393 Z\" fill=\"#000000\" fill-rule=\"evenodd\" fill-opacity=\"1\" /><path clip-path=\"url(#clip790)\" d=\"M1248.57 45.1919 L1248.57 72.576 L1241.12 72.576 L1241.12 45.4349 Q1241.12 38.994 1238.61 35.7938 Q1236.1 32.5936 1231.07 32.5936 Q1225.04 32.5936 1221.56 36.4419 Q1218.07 40.2903 1218.07 46.9338 L1218.07 72.576 L1210.58 72.576 L1210.58 27.2059 L1218.07 27.2059 L1218.07 34.2544 Q1220.74 30.163 1224.35 28.1376 Q1228 26.1121 1232.74 26.1121 Q1240.55 26.1121 1244.56 30.9732 Q1248.57 35.7938 1248.57 45.1919 Z\" fill=\"#000000\" fill-rule=\"evenodd\" fill-opacity=\"1\" /><path clip-path=\"url(#clip790)\" d=\"M1293.3 34.0924 L1293.3 9.54393 L1300.75 9.54393 L1300.75 72.576 L1293.3 72.576 L1293.3 65.7705 Q1290.95 69.8214 1287.34 71.8063 Q1283.78 73.7508 1278.75 73.7508 Q1270.53 73.7508 1265.35 67.1883 Q1260.2 60.6258 1260.2 49.9314 Q1260.2 39.2371 1265.35 32.6746 Q1270.53 26.1121 1278.75 26.1121 Q1283.78 26.1121 1287.34 28.0971 Q1290.95 30.0415 1293.3 34.0924 M1267.9 49.9314 Q1267.9 58.1548 1271.26 62.8538 Q1274.66 67.5124 1280.58 67.5124 Q1286.49 67.5124 1289.89 62.8538 Q1293.3 58.1548 1293.3 49.9314 Q1293.3 41.7081 1289.89 37.0496 Q1286.49 32.3505 1280.58 32.3505 Q1274.66 32.3505 1271.26 37.0496 Q1267.9 41.7081 1267.9 49.9314 Z\" fill=\"#000000\" fill-rule=\"evenodd\" fill-opacity=\"1\" /><path clip-path=\"url(#clip790)\" d=\"M1349.85 14.324 L1349.85 27.2059 L1365.2 27.2059 L1365.2 32.9987 L1349.85 32.9987 L1349.85 57.6282 Q1349.85 63.1779 1351.35 64.7578 Q1352.89 66.3376 1357.54 66.3376 L1365.2 66.3376 L1365.2 72.576 L1357.54 72.576 Q1348.92 72.576 1345.63 69.3758 Q1342.35 66.1351 1342.35 57.6282 L1342.35 32.9987 L1336.88 32.9987 L1336.88 27.2059 L1342.35 27.2059 L1342.35 14.324 L1349.85 14.324 Z\" fill=\"#000000\" fill-rule=\"evenodd\" fill-opacity=\"1\" /><path clip-path=\"url(#clip790)\" d=\"M1412.72 45.1919 L1412.72 72.576 L1405.26 72.576 L1405.26 45.4349 Q1405.26 38.994 1402.75 35.7938 Q1400.24 32.5936 1395.22 32.5936 Q1389.18 32.5936 1385.7 36.4419 Q1382.21 40.2903 1382.21 46.9338 L1382.21 72.576 L1374.72 72.576 L1374.72 9.54393 L1382.21 9.54393 L1382.21 34.2544 Q1384.89 30.163 1388.49 28.1376 Q1392.14 26.1121 1396.88 26.1121 Q1404.7 26.1121 1408.71 30.9732 Q1412.72 35.7938 1412.72 45.1919 Z\" fill=\"#000000\" fill-rule=\"evenodd\" fill-opacity=\"1\" /><path clip-path=\"url(#clip790)\" d=\"M1466.39 48.0275 L1466.39 51.6733 L1432.12 51.6733 Q1432.61 59.3701 1436.74 63.421 Q1440.91 67.4314 1448.32 67.4314 Q1452.62 67.4314 1456.63 66.3781 Q1460.68 65.3249 1464.65 63.2184 L1464.65 70.267 Q1460.64 71.9684 1456.43 72.8596 Q1452.21 73.7508 1447.88 73.7508 Q1437.02 73.7508 1430.66 67.4314 Q1424.34 61.1119 1424.34 50.3365 Q1424.34 39.1965 1430.34 32.6746 Q1436.37 26.1121 1446.58 26.1121 Q1455.74 26.1121 1461.04 32.0264 Q1466.39 37.9003 1466.39 48.0275 M1458.94 45.84 Q1458.86 39.7232 1455.49 36.0774 Q1452.17 32.4315 1446.66 32.4315 Q1440.43 32.4315 1436.66 35.9558 Q1432.93 39.4801 1432.36 45.8805 L1458.94 45.84 Z\" fill=\"#000000\" fill-rule=\"evenodd\" fill-opacity=\"1\" /><path clip-path=\"url(#clip790)\" d=\"M1540.32 35.9153 Q1543.12 30.8922 1547 28.5022 Q1550.89 26.1121 1556.16 26.1121 Q1563.25 26.1121 1567.1 31.0947 Q1570.95 36.0368 1570.95 45.1919 L1570.95 72.576 L1563.45 72.576 L1563.45 45.4349 Q1563.45 38.913 1561.14 35.7533 Q1558.83 32.5936 1554.09 32.5936 Q1548.3 32.5936 1544.94 36.4419 Q1541.58 40.2903 1541.58 46.9338 L1541.58 72.576 L1534.08 72.576 L1534.08 45.4349 Q1534.08 38.8725 1531.77 35.7533 Q1529.46 32.5936 1524.64 32.5936 Q1518.93 32.5936 1515.57 36.4824 Q1512.21 40.3308 1512.21 46.9338 L1512.21 72.576 L1504.71 72.576 L1504.71 27.2059 L1512.21 27.2059 L1512.21 34.2544 Q1514.76 30.082 1518.32 28.0971 Q1521.89 26.1121 1526.79 26.1121 Q1531.73 26.1121 1535.18 28.6237 Q1538.66 31.1352 1540.32 35.9153 Z\" fill=\"#000000\" fill-rule=\"evenodd\" fill-opacity=\"1\" /><path clip-path=\"url(#clip790)\" d=\"M1606.43 49.7694 Q1597.4 49.7694 1593.91 51.8354 Q1590.43 53.9013 1590.43 58.8839 Q1590.43 62.8538 1593.02 65.2034 Q1595.66 67.5124 1600.15 67.5124 Q1606.35 67.5124 1610.08 63.1374 Q1613.84 58.7219 1613.84 51.4303 L1613.84 49.7694 L1606.43 49.7694 M1621.3 46.6907 L1621.3 72.576 L1613.84 72.576 L1613.84 65.6895 Q1611.29 69.8214 1607.48 71.8063 Q1603.68 73.7508 1598.17 73.7508 Q1591.2 73.7508 1587.07 69.8619 Q1582.98 65.9325 1582.98 59.3701 Q1582.98 51.7138 1588.08 47.825 Q1593.23 43.9361 1603.39 43.9361 L1613.84 43.9361 L1613.84 43.2069 Q1613.84 38.0623 1610.44 35.2672 Q1607.08 32.4315 1600.96 32.4315 Q1597.07 32.4315 1593.39 33.3632 Q1589.7 34.295 1586.3 36.1584 L1586.3 29.2718 Q1590.39 27.692 1594.24 26.9223 Q1598.09 26.1121 1601.73 26.1121 Q1611.58 26.1121 1616.44 31.2163 Q1621.3 36.3204 1621.3 46.6907 Z\" fill=\"#000000\" fill-rule=\"evenodd\" fill-opacity=\"1\" /><path clip-path=\"url(#clip790)\" d=\"M1674.37 27.2059 L1657.96 49.2833 L1675.22 72.576 L1666.43 72.576 L1653.22 54.752 L1640.01 72.576 L1631.22 72.576 L1648.84 48.8377 L1632.72 27.2059 L1641.51 27.2059 L1653.54 43.369 L1665.57 27.2059 L1674.37 27.2059 Z\" fill=\"#000000\" fill-rule=\"evenodd\" fill-opacity=\"1\" /><path clip-path=\"url(#clip790)\" d=\"M1693.77 62.2867 L1701.99 62.2867 L1701.99 72.576 L1693.77 72.576 L1693.77 62.2867 M1701.75 56.3319 L1694.01 56.3319 L1694.01 50.0935 Q1694.01 46.0021 1695.15 43.369 Q1696.28 40.7359 1699.93 37.2521 L1703.57 33.6468 Q1705.88 31.4998 1706.89 29.5959 Q1707.95 27.692 1707.95 25.707 Q1707.95 22.1017 1705.27 19.8737 Q1702.64 17.6457 1698.27 17.6457 Q1695.07 17.6457 1691.42 19.0636 Q1687.81 20.4814 1683.88 23.1955 L1683.88 15.5798 Q1687.69 13.2708 1691.58 12.1365 Q1695.51 11.0023 1699.68 11.0023 Q1707.14 11.0023 1711.63 14.9316 Q1716.17 18.861 1716.17 25.3019 Q1716.17 28.3806 1714.71 31.1758 Q1713.25 33.9304 1709.61 37.4142 L1706.04 40.8979 Q1704.14 42.8019 1703.33 43.8956 Q1702.56 44.9488 1702.24 45.9616 Q1701.99 46.8122 1701.87 48.0275 Q1701.75 49.2428 1701.75 51.3493 L1701.75 56.3319 Z\" fill=\"#000000\" fill-rule=\"evenodd\" fill-opacity=\"1\" /><path clip-path=\"url(#clip790)\" d=\"M1734.48 62.2867 L1742.7 62.2867 L1742.7 72.576 L1734.48 72.576 L1734.48 62.2867 M1734.48 12.096 L1742.7 12.096 L1742.7 38.6294 L1741.89 53.0912 L1735.33 53.0912 L1734.48 38.6294 L1734.48 12.096 Z\" fill=\"#000000\" fill-rule=\"evenodd\" fill-opacity=\"1\" /><polyline clip-path=\"url(#clip792)\" style=\"stroke:#009af9; stroke-linecap:butt; stroke-linejoin:round; stroke-width:8; stroke-opacity:1; fill:none\" points=\"\n  240.392,1447.87 261.107,1406.65 281.823,1366.09 302.538,1326.21 323.254,1287 343.97,1248.46 364.685,1210.59 385.401,1173.39 406.116,1136.87 426.832,1101.02 \n  447.547,1065.84 468.263,1031.33 488.978,997.49 509.694,964.324 530.409,931.83 551.125,900.007 571.841,868.857 592.556,838.378 613.272,808.57 633.987,779.435 \n  654.703,750.971 675.418,723.179 696.134,696.059 716.849,669.61 737.565,643.833 758.28,618.728 778.996,594.294 799.712,570.532 820.427,547.442 841.143,525.024 \n  861.858,503.277 882.574,482.202 903.289,461.799 924.005,442.067 944.72,423.007 965.436,404.619 986.151,386.903 1006.87,369.858 1027.58,353.485 1048.3,337.784 \n  1069.01,322.754 1089.73,308.396 1110.44,294.71 1131.16,281.696 1151.88,269.353 1172.59,257.682 1193.31,246.683 1214.02,236.355 1234.74,226.699 1255.45,217.715 \n  1276.17,209.403 1296.88,201.762 1317.6,194.793 1338.32,188.496 1359.03,182.87 1379.75,177.916 1400.46,173.634 1421.18,170.024 1441.89,167.085 1462.61,164.818 \n  1483.32,163.222 1504.04,162.299 1524.76,162.047 1545.47,162.467 1566.19,163.558 1586.9,165.322 1607.62,167.756 1628.33,170.863 1649.05,174.642 1669.76,179.092 \n  1690.48,184.213 1711.2,190.007 1731.91,196.472 1752.63,203.609 1773.34,211.418 1794.06,219.898 1814.77,229.05 1835.49,238.874 1856.2,249.37 1876.92,260.537 \n  1897.64,272.376 1918.35,284.886 1939.07,298.069 1959.78,311.923 1980.5,326.449 2001.21,341.646 2021.93,357.515 2042.64,374.056 2063.36,391.269 2084.08,409.153 \n  2104.79,427.709 2125.51,446.937 2146.22,466.837 2166.94,487.408 2187.65,508.651 2208.37,530.565 2229.08,553.152 2249.8,576.41 2270.52,600.339 2291.23,624.941 \n  \n  \"/>\n<circle clip-path=\"url(#clip792)\" cx=\"1524.76\" cy=\"162.047\" r=\"18\" fill=\"#ff0000\" fill-rule=\"evenodd\" fill-opacity=\"1\" stroke=\"#000000\" stroke-opacity=\"1\" stroke-width=\"3.2\"/>\n<polyline clip-path=\"url(#clip792)\" style=\"stroke:#000000; stroke-linecap:butt; stroke-linejoin:round; stroke-width:12; stroke-opacity:0.5; fill:none\" stroke-dasharray=\"48, 30\" points=\"\n  1522.17,2849.42 1522.17,-1239.5 \n  \"/>\n<circle clip-path=\"url(#clip792)\" cx=\"1524.76\" cy=\"162.047\" r=\"18\" fill=\"#ff0000\" fill-rule=\"evenodd\" fill-opacity=\"1\" stroke=\"#000000\" stroke-opacity=\"1\" stroke-width=\"3.2\"/>\n<polyline clip-path=\"url(#clip792)\" style=\"stroke:#000000; stroke-linecap:butt; stroke-linejoin:round; stroke-width:6; stroke-opacity:0.5; fill:none\" stroke-dasharray=\"24, 15\" points=\"\n  1522.17,2849.42 1522.17,-1239.5 \n  \"/>\n<circle clip-path=\"url(#clip792)\" cx=\"1524.76\" cy=\"162.047\" r=\"18\" fill=\"#ff0000\" fill-rule=\"evenodd\" fill-opacity=\"1\" stroke=\"#000000\" stroke-opacity=\"1\" stroke-width=\"3.2\"/>\n<polyline clip-path=\"url(#clip792)\" style=\"stroke:#000000; stroke-linecap:butt; stroke-linejoin:round; stroke-width:6; stroke-opacity:0.5; fill:none\" stroke-dasharray=\"24, 15\" points=\"\n  1522.17,2849.42 1522.17,-1239.5 \n  \"/>\n<circle clip-path=\"url(#clip792)\" cx=\"1524.76\" cy=\"162.047\" r=\"18\" fill=\"#ff0000\" fill-rule=\"evenodd\" fill-opacity=\"1\" stroke=\"#000000\" stroke-opacity=\"1\" stroke-width=\"3.2\"/>\n<polyline clip-path=\"url(#clip792)\" style=\"stroke:#000000; stroke-linecap:butt; stroke-linejoin:round; stroke-width:6; stroke-opacity:0.5; fill:none\" stroke-dasharray=\"24, 15\" points=\"\n  1522.17,2849.42 1522.17,-1239.5 \n  \"/>\n<circle clip-path=\"url(#clip792)\" cx=\"1524.76\" cy=\"162.047\" r=\"18\" fill=\"#ff0000\" fill-rule=\"evenodd\" fill-opacity=\"1\" stroke=\"#000000\" stroke-opacity=\"1\" stroke-width=\"3.2\"/>\n<polyline clip-path=\"url(#clip792)\" style=\"stroke:#000000; stroke-linecap:butt; stroke-linejoin:round; stroke-width:6; stroke-opacity:0.5; fill:none\" stroke-dasharray=\"24, 15\" points=\"\n  1524.76,2849.42 1524.76,-1239.5 \n  \"/>\n</svg>\n"
     },
     "execution_count": 121,
     "metadata": {},
     "output_type": "execute_result"
    }
   ],
   "source": [
    "scatter!([x[ix]], [fmax], color = :red, ms = 5)\n",
    "vline!([x[ix]], lw = 1.5, color = :black, ls = :dash, alpha = 0.5, xticks = ([x[ix]]))"
   ]
  },
  {
   "cell_type": "markdown",
   "metadata": {},
   "source": [
    "## Derivatives"
   ]
  },
  {
   "cell_type": "markdown",
   "metadata": {},
   "source": [
    "Linear functions have a constant slope, as we have seen in one of the earlier examples. However, what about non-linear functions? What is the rate of change for a non-linear function as we move along its domain?\n",
    "\n",
    "Let $(x_0, f(x_0))$ be a point on the graph of $y = f(x)$. The derivative of $f$ at the point $x_0$ is the slope of the tangent line to the graph of $f$ at $(x_0, f(x_0))$. We can denote this derivative of a function $f$ at $x_0$ as\n",
    "\n",
    "$$\n",
    "f'(x_0) = \\frac{df(x_0)}{dx} = f_{x}(x_0)\n",
    "$$\n",
    "\n",
    "The notation above is interchangeable. The derivative is defined formally as, \n",
    "\n",
    "$$\n",
    "f'(x_0) = \\lim_{h \\rightarrow 0} \\frac{f(x_{0} + h) - f(x_0)}{h}\n",
    "$$\n",
    "\n",
    "In taking derivatives we normally revert to the derivative rules. The derivative rules are the following, \n",
    "\n",
    "1. Constant rule\n",
    "2. Power rule\n",
    "3. Chain rule\n",
    "4. Sum (difference) rule\n",
    "5. Product rule\n",
    "6. Quotient rule (we won't cover this, since you can use the product rule if needed)\n",
    "\n",
    "Then we can also speak of the exponential and log rule for derivatives. These are ones that will be frequently used. Let us have a brief discussion and examples of each of the rules. We will also accompany the solutions that are written out by hand with a solution generated by the computer to check that we are correct in our calculation. \n",
    "\n",
    "It is important to note that there are several ways in which you can take derivatives on the computer. The primary methods are, \n",
    "\n",
    "1. Symbolic differentiation\n",
    "2. Automatic differentiation\n",
    "3. Numerical differentiation\n",
    "\n",
    "We will not be going into detail on how these methods work. We will just use them in practice. We will show the symbolic and automatic differentiation approaches in this tutorial. "
   ]
  },
  {
   "cell_type": "markdown",
   "metadata": {},
   "source": [
    "#### Constant rule\n",
    "\n",
    "If $f(x) = k$ where $k$ is some constant then $f'(k) = 0$. As an application of the constant rule, let us determine the derivative of $f(x) = 8$. \n",
    "\n",
    "$$\n",
    "f'(8) = 0\n",
    "$$\n",
    "\n",
    "This is the easiest rule and can be computed in one line. Let us see what the computer does with this example. First we use the `Symbolics` package. "
   ]
  },
  {
   "cell_type": "code",
   "execution_count": 127,
   "metadata": {},
   "outputs": [
    {
     "data": {
      "text/latex": [
       "\\begin{equation}\n",
       "\\mathrm{\\frac{d}{d x}}\\left( 8 \\right)\n",
       "\\end{equation}\n"
      ],
      "text/plain": [
       "Differential(x)(8)"
      ]
     },
     "execution_count": 127,
     "metadata": {},
     "output_type": "execute_result"
    }
   ],
   "source": [
    "@variables x\n",
    "D = Differential(x)\n",
    "\n",
    "y = 8\n",
    "D(y) # we can see that this now gives us the correct formulation"
   ]
  },
  {
   "cell_type": "code",
   "execution_count": 130,
   "metadata": {},
   "outputs": [
    {
     "data": {
      "text/plain": [
       "0"
      ]
     },
     "execution_count": 130,
     "metadata": {},
     "output_type": "execute_result"
    }
   ],
   "source": [
    "expand_derivatives(D(y)) # solution to the problem -- we see that this is the same as our answer. "
   ]
  },
  {
   "cell_type": "markdown",
   "metadata": {},
   "source": [
    "Now we try the `Zygote` package. This uses automoatic differentiation. Once again, we will not explain what this method entails. If you want to read more on the topic you are more than welcome, [here](https://github.com/mitmath/18337/blob/master/lecture1/AutoDiff.ipynb) is an interesting notebook. For those that are interested in machine learning and deep learning it will be compulsory to learn more about the concept of automatic differentiation at some point. "
   ]
  },
  {
   "cell_type": "code",
   "execution_count": 153,
   "metadata": {},
   "outputs": [],
   "source": [
    "f(x) = 8\n",
    "\n",
    "f'(x)"
   ]
  },
  {
   "cell_type": "markdown",
   "metadata": {},
   "source": [
    "We see that there is no answer here. This seems strange. Let us another approach with this rule. We can calculate the gradient at a certain point in another way.  "
   ]
  },
  {
   "cell_type": "code",
   "execution_count": 147,
   "metadata": {},
   "outputs": [
    {
     "data": {
      "text/plain": [
       "(nothing,)"
      ]
     },
     "execution_count": 147,
     "metadata": {},
     "output_type": "execute_result"
    }
   ],
   "source": [
    "Zygote.gradient(y -> 8, 8)"
   ]
  },
  {
   "cell_type": "markdown",
   "metadata": {},
   "source": [
    "We see that the output is `nothing` here. This shows why we had no output in the previous code. When `nothing` is returned then there will be nothing to display. Another option for automatic differentiation is the `ForwardDiff` package. Let us quickly look at an example with this package. "
   ]
  },
  {
   "cell_type": "code",
   "execution_count": 149,
   "metadata": {},
   "outputs": [
    {
     "data": {
      "text/plain": [
       "0"
      ]
     },
     "execution_count": 149,
     "metadata": {},
     "output_type": "execute_result"
    }
   ],
   "source": [
    "ForwardDiff.derivative.(f, 8)"
   ]
  },
  {
   "cell_type": "markdown",
   "metadata": {},
   "source": [
    "In this case we get an answer of zero. Which is more in line with what one would expect. "
   ]
  },
  {
   "cell_type": "markdown",
   "metadata": {},
   "source": [
    "#### Power rule"
   ]
  },
  {
   "cell_type": "markdown",
   "metadata": {},
   "source": [
    "For any positive integer $k$ the derivative of $f(x) = x^{k}$ at $x_0$ is, \n",
    "\n",
    "$$\n",
    "f'(x_0) = k \\cdot x_{0}^{k - 1}\n",
    "$$\n",
    "\n",
    "An example of this would be the following. Find the answer to \n",
    "\n",
    "$$\n",
    "f'(x) = x ^ 3\n",
    "$$"
   ]
  },
  {
   "cell_type": "markdown",
   "metadata": {},
   "source": [
    "What do you think the answer should be? Let us check with the computer to see what we get. First we try symbolic differentiation."
   ]
  },
  {
   "cell_type": "code",
   "execution_count": 150,
   "metadata": {},
   "outputs": [
    {
     "data": {
      "text/latex": [
       "\\begin{equation}\n",
       "\\mathrm{\\frac{d}{d x}}\\left( x^{3} \\right)\n",
       "\\end{equation}\n"
      ],
      "text/plain": [
       "Differential(x)(x^3)"
      ]
     },
     "execution_count": 150,
     "metadata": {},
     "output_type": "execute_result"
    }
   ],
   "source": [
    "y = x ^ 3\n",
    "D(y)"
   ]
  },
  {
   "cell_type": "code",
   "execution_count": 151,
   "metadata": {},
   "outputs": [
    {
     "data": {
      "text/latex": [
       "\\begin{equation}\n",
       "3 x^{2}\n",
       "\\end{equation}\n"
      ],
      "text/plain": [
       "3(x^2)"
      ]
     },
     "execution_count": 151,
     "metadata": {},
     "output_type": "execute_result"
    }
   ],
   "source": [
    "expand_derivatives(D(y))"
   ]
  },
  {
   "cell_type": "markdown",
   "metadata": {},
   "source": [
    "Does this answer match with what you calculated by hand? Next we try automatic differentiation. "
   ]
  },
  {
   "cell_type": "code",
   "execution_count": 156,
   "metadata": {},
   "outputs": [
    {
     "data": {
      "text/latex": [
       "\\begin{equation}\n",
       "3 x^{2}\n",
       "\\end{equation}\n"
      ],
      "text/plain": [
       "3(x^2)"
      ]
     },
     "execution_count": 156,
     "metadata": {},
     "output_type": "execute_result"
    }
   ],
   "source": [
    "f(x) = x ^ 3\n",
    "\n",
    "f'(x) "
   ]
  },
  {
   "cell_type": "markdown",
   "metadata": {},
   "source": [
    "It seems that `Zygote` gives the same answer. Let us evaluate this function at a particular point with `ForwardDiff`."
   ]
  },
  {
   "cell_type": "code",
   "execution_count": 158,
   "metadata": {},
   "outputs": [
    {
     "data": {
      "text/plain": [
       "true"
      ]
     },
     "execution_count": 158,
     "metadata": {},
     "output_type": "execute_result"
    }
   ],
   "source": [
    "f'(5) == ForwardDiff.derivative.(f, 5) # evaluated at the point x = 5"
   ]
  },
  {
   "cell_type": "code",
   "execution_count": 159,
   "metadata": {},
   "outputs": [
    {
     "data": {
      "text/plain": [
       "75"
      ]
     },
     "execution_count": 159,
     "metadata": {},
     "output_type": "execute_result"
    }
   ],
   "source": [
    "f'(5)"
   ]
  },
  {
   "cell_type": "markdown",
   "metadata": {},
   "source": [
    "#### Chain rule"
   ]
  },
  {
   "cell_type": "markdown",
   "metadata": {},
   "source": [
    "The chain rule is a bit more complicated then some of the other rules, but it is used frequently in economics. If we have a function $f(x) = p(q(x)) = (p \\circ q)(x)$ which is a composite of two differentiable functions $p(x)$ and $q(x)$ then the derivative at $x_0$ according to the chain rule is, \n",
    "\n",
    "$$\n",
    "f^{\\prime } (x_0 )=p^{\\prime } (q(x_0 ))\\cdot q^{\\prime } (x_0 )\n",
    "$$\n",
    "\n",
    "A good example of where this is applicable is the function \n",
    "\n",
    "$$\n",
    "f(x) = \\sqrt{(5x - 8)}\n",
    "$$\n",
    "\n",
    "In this case we have a composition of two functions, $p(x) = \\sqrt{x}$ and $q(x) = 5x - 8$. Here we need to take the derivatives separately and combine with our rule. We start with $p'(x)$. We haven't really talked about taking the derivative of a square root. So how do we proceed? Well, our square root can actually be written as $p(x)^{1/2}$. Now we can use our power rule from before to get $p'(x) = \\frac{x^{-1/2}}{2}$. Next we need to take the derivative of $q(x)$, which gives is $q'(x) = 5$ using the power rule (since $5 = 5 \\cdot x^{(1 - 1)}$). Now we combine all the components as per the chain rule, \n",
    "\n",
    "$$\n",
    "\\begin{align*}\n",
    "f'\\left( x \\right) & = p'\\left( {q\\left( x \\right)} \\right)\\,\\,q'\\left( x \\right)\\\\ \n",
    "&  = p'\\left( {5x - 8} \\right)\\,\\,q'\\left( x \\right)\\\\ \n",
    "&  = \\frac{1}{2}{\\left( {5x - 8} \\right)^{ - \\frac{1}{2}}}\\,\\left( 5 \\right)\\\\ \n",
    "&  = \\frac{1}{{2\\sqrt {5x - 8} }}\\,\\,\\left( 5 \\right)\\\\ \n",
    "&  = \\frac{5}{{2\\sqrt {5x - 8} }}\\end{align*}\n",
    "$$"
   ]
  },
  {
   "cell_type": "markdown",
   "metadata": {},
   "source": [
    "Let us check whether the computer gives the same answers, "
   ]
  },
  {
   "cell_type": "code",
   "execution_count": 160,
   "metadata": {},
   "outputs": [
    {
     "data": {
      "text/latex": [
       "\\begin{equation}\n",
       "\\frac{dsqrt(-8 + 5x)}{dx}\n",
       "\\end{equation}\n"
      ],
      "text/plain": [
       "Differential(x)(sqrt(5x - 8))"
      ]
     },
     "execution_count": 160,
     "metadata": {},
     "output_type": "execute_result"
    }
   ],
   "source": [
    "y = sqrt(5x - 8)\n",
    "D(y)"
   ]
  },
  {
   "cell_type": "code",
   "execution_count": 161,
   "metadata": {},
   "outputs": [
    {
     "data": {
      "text/latex": [
       "\\begin{equation}\n",
       "\\frac{\\frac{5}{2}}{\\sqrt{-8 + 5 x}}\n",
       "\\end{equation}\n"
      ],
      "text/plain": [
       "(5//2)*(sqrt(5x - 8)^-1)"
      ]
     },
     "execution_count": 161,
     "metadata": {},
     "output_type": "execute_result"
    }
   ],
   "source": [
    "expand_derivatives(D(y))"
   ]
  },
  {
   "cell_type": "code",
   "execution_count": 162,
   "metadata": {},
   "outputs": [
    {
     "data": {
      "text/latex": [
       "\\begin{equation}\n",
       "\\frac{5}{2 \\sqrt{-8 + 5 x}}\n",
       "\\end{equation}\n"
      ],
      "text/plain": [
       "5 / (2sqrt(5x - 8))"
      ]
     },
     "execution_count": 162,
     "metadata": {},
     "output_type": "execute_result"
    }
   ],
   "source": [
    "f(x) = sqrt(5x - 8)\n",
    "\n",
    "f'(x) "
   ]
  },
  {
   "cell_type": "markdown",
   "metadata": {},
   "source": [
    "#### Sum (difference) rule"
   ]
  },
  {
   "cell_type": "markdown",
   "metadata": {},
   "source": [
    "Given functions $p$ and $q$ that are differentiable at $x$ and with $f(x) = p(x) + q(x)$ we have that the derivative according to the sum rule is given by, \n",
    "\n",
    "$$\n",
    "f^{\\prime } (x)=p^{\\prime } (x)+q^{\\prime } (x)\n",
    "$$\n",
    "\n",
    "Let us consider an example with the application of this rule. Find the derivative of $f(x) = 2x^5 + 7$. In this case, $p(x) = 2x^5$ and $q(x) = 7$. \n",
    "\n",
    "$$\n",
    "\\begin{align*} \n",
    "f'(x)&=\\dfrac{d}{dx}\\left(2x^5+7\\right)\\\\\n",
    "&=\\dfrac{d}{dx}(2x^5)+\\dfrac{d}{dx}(7) & & \\text{Apply the sum rule.}\\\\\n",
    "&=2\\dfrac{d}{dx}(x^5)+\\dfrac{d}{dx}(7) & & \\text{Apply the constant multiple rule.}\\\\ \n",
    "&=2(5x^4)+0 & & \\text{Apply the power rule and the constant rule.}\\\\\n",
    "&=10x^4 & & Simplify. \n",
    "\\end{align*}\n",
    "$$"
   ]
  },
  {
   "cell_type": "markdown",
   "metadata": {},
   "source": [
    "As usual, we check the answer on the computer. "
   ]
  },
  {
   "cell_type": "code",
   "execution_count": 163,
   "metadata": {},
   "outputs": [
    {
     "data": {
      "text/latex": [
       "\\begin{equation}\n",
       "\\mathrm{\\frac{d}{d x}}\\left( 7 + 2 x^{5} \\right)\n",
       "\\end{equation}\n"
      ],
      "text/plain": [
       "Differential(x)(7 + 2(x^5))"
      ]
     },
     "execution_count": 163,
     "metadata": {},
     "output_type": "execute_result"
    }
   ],
   "source": [
    "y = 2x^5 + 7\n",
    "D(y)"
   ]
  },
  {
   "cell_type": "code",
   "execution_count": 164,
   "metadata": {},
   "outputs": [
    {
     "data": {
      "text/latex": [
       "\\begin{equation}\n",
       "10 x^{4}\n",
       "\\end{equation}\n"
      ],
      "text/plain": [
       "10(x^4)"
      ]
     },
     "execution_count": 164,
     "metadata": {},
     "output_type": "execute_result"
    }
   ],
   "source": [
    "expand_derivatives(D(y))"
   ]
  },
  {
   "cell_type": "code",
   "execution_count": 165,
   "metadata": {},
   "outputs": [
    {
     "data": {
      "text/latex": [
       "\\begin{equation}\n",
       "10 x^{4}\n",
       "\\end{equation}\n"
      ],
      "text/plain": [
       "10(x^4)"
      ]
     },
     "execution_count": 165,
     "metadata": {},
     "output_type": "execute_result"
    }
   ],
   "source": [
    "f(x) = 2x^5 + 7\n",
    "\n",
    "f'(x) "
   ]
  },
  {
   "cell_type": "markdown",
   "metadata": {},
   "source": [
    "These are the most important rules that we will use the most. The following rules are also used, but less frequently. "
   ]
  },
  {
   "cell_type": "markdown",
   "metadata": {},
   "source": [
    "#### Product rule"
   ]
  },
  {
   "cell_type": "markdown",
   "metadata": {},
   "source": [
    "Given functions $p$ and $q$ that are differentiable at $x$ and with $f(x)=p(x)\\cdot q(x)$ we have that the derivative is, \n",
    "\n",
    "$$\n",
    "f^{\\prime } (x)=p^{\\prime } (x)\\cdot q(x)+p(x)\\cdot q^{\\prime } (x)\n",
    "$$"
   ]
  },
  {
   "cell_type": "markdown",
   "metadata": {},
   "source": [
    "Consider the following example, find $f'(x) = (x^2+2)(3x^3−5x)$ by applying the product rule. \n",
    "\n",
    "If we set $p(x)=x2+2$ and $q(x)=3x3−5x$, then $p'(x)=2x$ and $q'(x)=9x2−5$ and therefore, \n",
    "\n",
    "$$\n",
    "f'(x)=p'(x)q(x)+q'(x)p(x)=(2x)(3x^3−5x)+(9x^2−5)(x^2+2)\n",
    "$$\n",
    "\n",
    "If we simplify this we have $f'(x) = 15x4+3x2−10$"
   ]
  },
  {
   "cell_type": "markdown",
   "metadata": {},
   "source": [
    "Check against the answer from computer, "
   ]
  },
  {
   "cell_type": "code",
   "execution_count": 167,
   "metadata": {},
   "outputs": [
    {
     "data": {
      "text/latex": [
       "\\begin{equation}\n",
       "\\mathrm{\\frac{d}{d x}}\\left( \\left( 2 + x^{2} \\right) \\left( 3 x^{3} - 5 x \\right) \\right)\n",
       "\\end{equation}\n"
      ],
      "text/plain": [
       "Differential(x)((2 + x^2)*(3(x^3) - 5x))"
      ]
     },
     "execution_count": 167,
     "metadata": {},
     "output_type": "execute_result"
    }
   ],
   "source": [
    "y = (x^2 + 2)*(3x^3 − 5x)\n",
    "D(y)"
   ]
  },
  {
   "cell_type": "code",
   "execution_count": 171,
   "metadata": {},
   "outputs": [
    {
     "data": {
      "text/latex": [
       "\\begin{equation}\n",
       "\\left( 2 + x^{2} \\right) \\left( -5 + 9 x^{2} \\right) + 2 x \\left( 3 x^{3} - 5 x \\right)\n",
       "\\end{equation}\n"
      ],
      "text/plain": [
       "(2 + x^2)*(9(x^2) - 5) + 2x*(3(x^3) - 5x)"
      ]
     },
     "execution_count": 171,
     "metadata": {},
     "output_type": "execute_result"
    }
   ],
   "source": [
    "expand_derivatives(D(y))"
   ]
  },
  {
   "cell_type": "markdown",
   "metadata": {},
   "source": [
    "Check against the automatic differentiation answer, "
   ]
  },
  {
   "cell_type": "code",
   "execution_count": 172,
   "metadata": {},
   "outputs": [
    {
     "data": {
      "text/latex": [
       "\\begin{equation}\n",
       "-10 - 5 x^{2} + 2 x \\left( 3 x^{3} - 5 x \\right) + 3 x^{2} \\left( 6 + 3 x^{2} \\right)\n",
       "\\end{equation}\n"
      ],
      "text/plain": [
       "2x*(3(x^3) - 5x) + 3(x^2)*(6 + 3(x^2)) - 10 - 5(x^2)"
      ]
     },
     "execution_count": 172,
     "metadata": {},
     "output_type": "execute_result"
    }
   ],
   "source": [
    "f(x) = (x^2 + 2)*(3x^3 − 5x)\n",
    "\n",
    "f'(x) "
   ]
  },
  {
   "cell_type": "markdown",
   "metadata": {},
   "source": [
    "#### Exponential"
   ]
  },
  {
   "cell_type": "markdown",
   "metadata": {},
   "source": [
    "The exponential function is used a lot in economics. We will often have functions such as $f(x) = \\exp(a \\cdot x)$. The derivative in this case is given by, \n",
    "\n",
    "$$\n",
    "f'(x) = a \\cdot \\exp(a \\cdot x)\n",
    "$$\n",
    "\n",
    "In economics you will find the exponential function in the compounding of interest. The accumulated value of interest that is compounded continuously is given by \n",
    "\n",
    "$$\n",
    "A(t) = Pe^{rt}\n",
    "$$\n",
    "\n",
    "If you wanted to take a derivative of this function with respect to the variable $t$ then you would get the following answer, \n",
    "\n",
    "$$\n",
    "A'(t) = r \\cdot Pe^{rt}\n",
    "$$"
   ]
  },
  {
   "cell_type": "code",
   "execution_count": 182,
   "metadata": {},
   "outputs": [
    {
     "data": {
      "text/latex": [
       "\\begin{equation}\n",
       "0.5 e^{0.05 x}\n",
       "\\end{equation}\n"
      ],
      "text/plain": [
       "0.5exp(0.05x)"
      ]
     },
     "execution_count": 182,
     "metadata": {},
     "output_type": "execute_result"
    }
   ],
   "source": [
    "P = 10; r = 0.05 # choose arbitrary values for P and r\n",
    "\n",
    "f(x) = P * exp(r*x)\n",
    "\n",
    "f'(x) "
   ]
  },
  {
   "cell_type": "markdown",
   "metadata": {},
   "source": [
    "#### Logarithm"
   ]
  },
  {
   "cell_type": "markdown",
   "metadata": {},
   "source": [
    "Finally, we have the derivative of a log function, which is used almost everywhere in economics. If we have the function $f(x) = \\log(x)$ then the derivative is given by, \n",
    "\n",
    "$$\n",
    "f'(x) = 1 / x\n",
    "$$"
   ]
  },
  {
   "cell_type": "code",
   "execution_count": 183,
   "metadata": {},
   "outputs": [
    {
     "data": {
      "text/latex": [
       "\\begin{equation}\n",
       "\\frac{1}{x}\n",
       "\\end{equation}\n"
      ],
      "text/plain": [
       "1 / x"
      ]
     },
     "execution_count": 183,
     "metadata": {},
     "output_type": "execute_result"
    }
   ],
   "source": [
    "f(x) = log(x)\n",
    "\n",
    "f'(x)"
   ]
  },
  {
   "cell_type": "markdown",
   "metadata": {},
   "source": [
    "## Higher order derivatives"
   ]
  },
  {
   "cell_type": "markdown",
   "metadata": {},
   "source": [
    "With these rules you should be able to tackle most problems that involve derivatives. These derivatives that we calculated were first order derivatives. We can actually take the derivative again with respect to the variable of interest and then we would have **second order derivatives**. The second order derivative is then a derivative of the first order derivative. \n",
    "\n",
    "While the first order derivative provides a rate of change (often a slope of a tangent line), the second order derivative gives us information on the rate of change of the rate of change. "
   ]
  },
  {
   "cell_type": "markdown",
   "metadata": {},
   "source": [
    "### Example: Cobb-Douglas"
   ]
  },
  {
   "cell_type": "markdown",
   "metadata": {},
   "source": [
    "We can illustrate the usage of derivatives in economics with a basic example. Consider the Cobb-Douglas production function (which we will see again in the notebook on the Solow model). This is a simple explicit form for a production function that we often encounter in economics. The form of the function is as follows, \n",
    "\n",
    "$$\n",
    "F(K,L)=K^{\\alpha } \\cdot L^{\\beta}\n",
    "$$\n",
    "\n",
    "where $F$ is the production function and it is a function of the capital ($K$) and labour ($L$) inputs. In order to make this a univariate example, we fix the value of $K$, so that it isn't variable. The derivative with respect to labour gives us the marginal product of labour. The derivative is then given as, \n",
    "\n",
    "$$\n",
    "\\frac{{\\textrm{d}} Y(K,L)}{dL } = MPL(K,L)=(\\beta)\\cdot K^{\\alpha } \\cdot L^{\\beta - 1}\n",
    "$$\n",
    "\n",
    "The derivative that we have obtained above is simply another function and we can take additional derivatives. The second order derivative is given by, \n",
    "\n",
    "$$\n",
    "\\frac{{\\textrm{d}}^2 Y(K,L)}{dL^2 }=(\\beta )\\cdot (\\beta -1)\\cdot K^{\\alpha } \\cdot L^{\\beta -2}\n",
    "$$\n"
   ]
  },
  {
   "cell_type": "markdown",
   "metadata": {},
   "source": [
    "We can calculate the derivatives with `Symbolics` as well, "
   ]
  },
  {
   "cell_type": "code",
   "execution_count": 212,
   "metadata": {},
   "outputs": [
    {
     "data": {
      "text/latex": [
       "\\begin{equation}\n",
       "\\mathrm{\\frac{d}{d L}}\\left( L^{\\beta} K^{\\alpha} \\right)\n",
       "\\end{equation}\n"
      ],
      "text/plain": [
       "Differential(L)((K^α)*(L^β))"
      ]
     },
     "execution_count": 212,
     "metadata": {},
     "output_type": "execute_result"
    }
   ],
   "source": [
    "@variables K L α β\n",
    "\n",
    "D = Differential(L)\n",
    "\n",
    "Y = K ^ (α) * L ^ (β)\n",
    "D(Y)"
   ]
  },
  {
   "cell_type": "code",
   "execution_count": 215,
   "metadata": {},
   "outputs": [
    {
     "data": {
      "text/latex": [
       "\\begin{equation}\n",
       "L^{-1 + \\beta} K^{\\alpha} \\beta\n",
       "\\end{equation}\n"
      ],
      "text/plain": [
       "β*(K^α)*(L^(β - 1))"
      ]
     },
     "execution_count": 215,
     "metadata": {},
     "output_type": "execute_result"
    }
   ],
   "source": [
    "expand_derivatives(D(Y))"
   ]
  },
  {
   "cell_type": "code",
   "execution_count": 219,
   "metadata": {},
   "outputs": [
    {
     "data": {
      "text/plain": [
       "Differential(L) ∘ Differential(L)"
      ]
     },
     "execution_count": 219,
     "metadata": {},
     "output_type": "execute_result"
    }
   ],
   "source": [
    "D2 = Differential(L) * Differential(L)"
   ]
  },
  {
   "cell_type": "code",
   "execution_count": 220,
   "metadata": {},
   "outputs": [
    {
     "data": {
      "text/latex": [
       "\\begin{equation}\n",
       "\\frac{d(d / (d * L))(L ^ \\beta * K ^ \\alpha)}{dL}\n",
       "\\end{equation}\n"
      ],
      "text/plain": [
       "Differential(L)(Differential(L)((K^α)*(L^β)))"
      ]
     },
     "execution_count": 220,
     "metadata": {},
     "output_type": "execute_result"
    }
   ],
   "source": [
    "D2(Y)"
   ]
  },
  {
   "cell_type": "code",
   "execution_count": 221,
   "metadata": {},
   "outputs": [
    {
     "data": {
      "text/latex": [
       "\\begin{equation}\n",
       "L^{-2 + \\beta} K^{\\alpha} \\beta \\left( -1 + \\beta \\right)\n",
       "\\end{equation}\n"
      ],
      "text/plain": [
       "β*(K^α)*(L^(β - 2))*(β - 1)"
      ]
     },
     "execution_count": 221,
     "metadata": {},
     "output_type": "execute_result"
    }
   ],
   "source": [
    "expand_derivatives(D2(Y)) # second order derivative"
   ]
  },
  {
   "cell_type": "markdown",
   "metadata": {},
   "source": [
    "We seem to get the same answer as above if we do a quick check."
   ]
  },
  {
   "cell_type": "markdown",
   "metadata": {},
   "source": [
    "### Curvature and second derivative"
   ]
  },
  {
   "cell_type": "markdown",
   "metadata": {},
   "source": [
    "For our Cobb-Douglas example, we will graph the second derivative when $\\beta = 0.5$. The production function is concave. For any function that is twice continuously differentiable, the function is concave if and only if its second derivative is non-positive. "
   ]
  },
  {
   "cell_type": "code",
   "execution_count": 233,
   "metadata": {},
   "outputs": [],
   "source": [
    "α = 0.5; β = 0.5\n",
    "\n",
    "K = 1\n",
    "\n",
    "@variables L\n",
    "\n",
    "D = Differential(L)\n",
    "\n",
    "Y = K ^ (α) * L ^ (β)\n",
    "D(Y)\n",
    "\n",
    "diff_1 = expand_derivatives(D(Y));\n",
    "diff_2 = expand_derivatives(D2(Y));"
   ]
  },
  {
   "cell_type": "code",
   "execution_count": 255,
   "metadata": {},
   "outputs": [
    {
     "data": {
      "image/svg+xml": "<?xml version=\"1.0\" encoding=\"utf-8\"?>\n<svg xmlns=\"http://www.w3.org/2000/svg\" xmlns:xlink=\"http://www.w3.org/1999/xlink\" width=\"600\" height=\"400\" viewBox=\"0 0 2400 1600\">\n<defs>\n  <clipPath id=\"clip630\">\n    <rect x=\"0\" y=\"0\" width=\"2400\" height=\"1600\"/>\n  </clipPath>\n</defs>\n<path clip-path=\"url(#clip630)\" d=\"\nM0 1600 L2400 1600 L2400 0 L0 0  Z\n  \" fill=\"#ffffff\" fill-rule=\"evenodd\" fill-opacity=\"1\"/>\n<defs>\n  <clipPath id=\"clip631\">\n    <rect x=\"480\" y=\"0\" width=\"1681\" height=\"1600\"/>\n  </clipPath>\n</defs>\n<path clip-path=\"url(#clip630)\" d=\"\nM147.478 1486.45 L2352.76 1486.45 L2352.76 47.2441 L147.478 47.2441  Z\n  \" fill=\"#ffffff\" fill-rule=\"evenodd\" fill-opacity=\"1\"/>\n<defs>\n  <clipPath id=\"clip632\">\n    <rect x=\"147\" y=\"47\" width=\"2206\" height=\"1440\"/>\n  </clipPath>\n</defs>\n<polyline clip-path=\"url(#clip632)\" style=\"stroke:#000000; stroke-linecap:butt; stroke-linejoin:round; stroke-width:2; stroke-opacity:0.1; fill:none\" points=\"\n  432.797,1486.45 432.797,47.2441 \n  \"/>\n<polyline clip-path=\"url(#clip632)\" style=\"stroke:#000000; stroke-linecap:butt; stroke-linejoin:round; stroke-width:2; stroke-opacity:0.1; fill:none\" points=\"\n  804.306,1486.45 804.306,47.2441 \n  \"/>\n<polyline clip-path=\"url(#clip632)\" style=\"stroke:#000000; stroke-linecap:butt; stroke-linejoin:round; stroke-width:2; stroke-opacity:0.1; fill:none\" points=\"\n  1175.82,1486.45 1175.82,47.2441 \n  \"/>\n<polyline clip-path=\"url(#clip632)\" style=\"stroke:#000000; stroke-linecap:butt; stroke-linejoin:round; stroke-width:2; stroke-opacity:0.1; fill:none\" points=\"\n  1547.32,1486.45 1547.32,47.2441 \n  \"/>\n<polyline clip-path=\"url(#clip632)\" style=\"stroke:#000000; stroke-linecap:butt; stroke-linejoin:round; stroke-width:2; stroke-opacity:0.1; fill:none\" points=\"\n  1918.83,1486.45 1918.83,47.2441 \n  \"/>\n<polyline clip-path=\"url(#clip632)\" style=\"stroke:#000000; stroke-linecap:butt; stroke-linejoin:round; stroke-width:2; stroke-opacity:0.1; fill:none\" points=\"\n  2290.34,1486.45 2290.34,47.2441 \n  \"/>\n<polyline clip-path=\"url(#clip630)\" style=\"stroke:#000000; stroke-linecap:butt; stroke-linejoin:round; stroke-width:4; stroke-opacity:1; fill:none\" points=\"\n  147.478,1486.45 2352.76,1486.45 \n  \"/>\n<polyline clip-path=\"url(#clip630)\" style=\"stroke:#000000; stroke-linecap:butt; stroke-linejoin:round; stroke-width:4; stroke-opacity:1; fill:none\" points=\"\n  432.797,1486.45 432.797,1467.55 \n  \"/>\n<polyline clip-path=\"url(#clip630)\" style=\"stroke:#000000; stroke-linecap:butt; stroke-linejoin:round; stroke-width:4; stroke-opacity:1; fill:none\" points=\"\n  804.306,1486.45 804.306,1467.55 \n  \"/>\n<polyline clip-path=\"url(#clip630)\" style=\"stroke:#000000; stroke-linecap:butt; stroke-linejoin:round; stroke-width:4; stroke-opacity:1; fill:none\" points=\"\n  1175.82,1486.45 1175.82,1467.55 \n  \"/>\n<polyline clip-path=\"url(#clip630)\" style=\"stroke:#000000; stroke-linecap:butt; stroke-linejoin:round; stroke-width:4; stroke-opacity:1; fill:none\" points=\"\n  1547.32,1486.45 1547.32,1467.55 \n  \"/>\n<polyline clip-path=\"url(#clip630)\" style=\"stroke:#000000; stroke-linecap:butt; stroke-linejoin:round; stroke-width:4; stroke-opacity:1; fill:none\" points=\"\n  1918.83,1486.45 1918.83,1467.55 \n  \"/>\n<polyline clip-path=\"url(#clip630)\" style=\"stroke:#000000; stroke-linecap:butt; stroke-linejoin:round; stroke-width:4; stroke-opacity:1; fill:none\" points=\"\n  2290.34,1486.45 2290.34,1467.55 \n  \"/>\n<path clip-path=\"url(#clip630)\" d=\"M410.679 1517.37 Q407.068 1517.37 405.239 1520.93 Q403.434 1524.47 403.434 1531.6 Q403.434 1538.71 405.239 1542.27 Q407.068 1545.82 410.679 1545.82 Q414.313 1545.82 416.119 1542.27 Q417.947 1538.71 417.947 1531.6 Q417.947 1524.47 416.119 1520.93 Q414.313 1517.37 410.679 1517.37 M410.679 1513.66 Q416.489 1513.66 419.545 1518.27 Q422.623 1522.85 422.623 1531.6 Q422.623 1540.33 419.545 1544.94 Q416.489 1549.52 410.679 1549.52 Q404.869 1549.52 401.79 1544.94 Q398.735 1540.33 398.735 1531.6 Q398.735 1522.85 401.79 1518.27 Q404.869 1513.66 410.679 1513.66 Z\" fill=\"#000000\" fill-rule=\"evenodd\" fill-opacity=\"1\" /><path clip-path=\"url(#clip630)\" d=\"M430.841 1542.97 L435.725 1542.97 L435.725 1548.85 L430.841 1548.85 L430.841 1542.97 Z\" fill=\"#000000\" fill-rule=\"evenodd\" fill-opacity=\"1\" /><path clip-path=\"url(#clip630)\" d=\"M445.957 1514.29 L464.313 1514.29 L464.313 1518.22 L450.239 1518.22 L450.239 1526.7 Q451.257 1526.35 452.276 1526.19 Q453.294 1526 454.313 1526 Q460.1 1526 463.48 1529.17 Q466.859 1532.34 466.859 1537.76 Q466.859 1543.34 463.387 1546.44 Q459.915 1549.52 453.595 1549.52 Q451.419 1549.52 449.151 1549.15 Q446.906 1548.78 444.498 1548.04 L444.498 1543.34 Q446.582 1544.47 448.804 1545.03 Q451.026 1545.58 453.503 1545.58 Q457.507 1545.58 459.845 1543.48 Q462.183 1541.37 462.183 1537.76 Q462.183 1534.15 459.845 1532.04 Q457.507 1529.94 453.503 1529.94 Q451.628 1529.94 449.753 1530.35 Q447.901 1530.77 445.957 1531.65 L445.957 1514.29 Z\" fill=\"#000000\" fill-rule=\"evenodd\" fill-opacity=\"1\" /><path clip-path=\"url(#clip630)\" d=\"M771.459 1544.91 L779.098 1544.91 L779.098 1518.55 L770.788 1520.21 L770.788 1515.95 L779.052 1514.29 L783.727 1514.29 L783.727 1544.91 L791.366 1544.91 L791.366 1548.85 L771.459 1548.85 L771.459 1544.91 Z\" fill=\"#000000\" fill-rule=\"evenodd\" fill-opacity=\"1\" /><path clip-path=\"url(#clip630)\" d=\"M800.811 1542.97 L805.695 1542.97 L805.695 1548.85 L800.811 1548.85 L800.811 1542.97 Z\" fill=\"#000000\" fill-rule=\"evenodd\" fill-opacity=\"1\" /><path clip-path=\"url(#clip630)\" d=\"M825.88 1517.37 Q822.269 1517.37 820.44 1520.93 Q818.635 1524.47 818.635 1531.6 Q818.635 1538.71 820.44 1542.27 Q822.269 1545.82 825.88 1545.82 Q829.514 1545.82 831.32 1542.27 Q833.148 1538.71 833.148 1531.6 Q833.148 1524.47 831.32 1520.93 Q829.514 1517.37 825.88 1517.37 M825.88 1513.66 Q831.69 1513.66 834.746 1518.27 Q837.824 1522.85 837.824 1531.6 Q837.824 1540.33 834.746 1544.94 Q831.69 1549.52 825.88 1549.52 Q820.07 1549.52 816.991 1544.94 Q813.936 1540.33 813.936 1531.6 Q813.936 1522.85 816.991 1518.27 Q820.07 1513.66 825.88 1513.66 Z\" fill=\"#000000\" fill-rule=\"evenodd\" fill-opacity=\"1\" /><path clip-path=\"url(#clip630)\" d=\"M1143.47 1544.91 L1151.1 1544.91 L1151.1 1518.55 L1142.79 1520.21 L1142.79 1515.95 L1151.06 1514.29 L1155.73 1514.29 L1155.73 1544.91 L1163.37 1544.91 L1163.37 1548.85 L1143.47 1548.85 L1143.47 1544.91 Z\" fill=\"#000000\" fill-rule=\"evenodd\" fill-opacity=\"1\" /><path clip-path=\"url(#clip630)\" d=\"M1172.82 1542.97 L1177.7 1542.97 L1177.7 1548.85 L1172.82 1548.85 L1172.82 1542.97 Z\" fill=\"#000000\" fill-rule=\"evenodd\" fill-opacity=\"1\" /><path clip-path=\"url(#clip630)\" d=\"M1187.93 1514.29 L1206.29 1514.29 L1206.29 1518.22 L1192.22 1518.22 L1192.22 1526.7 Q1193.23 1526.35 1194.25 1526.19 Q1195.27 1526 1196.29 1526 Q1202.08 1526 1205.46 1529.17 Q1208.84 1532.34 1208.84 1537.76 Q1208.84 1543.34 1205.36 1546.44 Q1201.89 1549.52 1195.57 1549.52 Q1193.4 1549.52 1191.13 1549.15 Q1188.88 1548.78 1186.47 1548.04 L1186.47 1543.34 Q1188.56 1544.47 1190.78 1545.03 Q1193 1545.58 1195.48 1545.58 Q1199.48 1545.58 1201.82 1543.48 Q1204.16 1541.37 1204.16 1537.76 Q1204.16 1534.15 1201.82 1532.04 Q1199.48 1529.94 1195.48 1529.94 Q1193.6 1529.94 1191.73 1530.35 Q1189.88 1530.77 1187.93 1531.65 L1187.93 1514.29 Z\" fill=\"#000000\" fill-rule=\"evenodd\" fill-opacity=\"1\" /><path clip-path=\"url(#clip630)\" d=\"M1518.56 1544.91 L1534.88 1544.91 L1534.88 1548.85 L1512.94 1548.85 L1512.94 1544.91 Q1515.6 1542.16 1520.18 1537.53 Q1524.79 1532.88 1525.97 1531.53 Q1528.22 1529.01 1529.1 1527.27 Q1530 1525.51 1530 1523.82 Q1530 1521.07 1528.05 1519.33 Q1526.13 1517.6 1523.03 1517.6 Q1520.83 1517.6 1518.38 1518.36 Q1515.95 1519.13 1513.17 1520.68 L1513.17 1515.95 Q1515.99 1514.82 1518.45 1514.24 Q1520.9 1513.66 1522.94 1513.66 Q1528.31 1513.66 1531.5 1516.35 Q1534.7 1519.03 1534.7 1523.52 Q1534.7 1525.65 1533.89 1527.57 Q1533.1 1529.47 1530.99 1532.07 Q1530.41 1532.74 1527.31 1535.95 Q1524.21 1539.15 1518.56 1544.91 Z\" fill=\"#000000\" fill-rule=\"evenodd\" fill-opacity=\"1\" /><path clip-path=\"url(#clip630)\" d=\"M1544.7 1542.97 L1549.58 1542.97 L1549.58 1548.85 L1544.7 1548.85 L1544.7 1542.97 Z\" fill=\"#000000\" fill-rule=\"evenodd\" fill-opacity=\"1\" /><path clip-path=\"url(#clip630)\" d=\"M1569.77 1517.37 Q1566.16 1517.37 1564.33 1520.93 Q1562.52 1524.47 1562.52 1531.6 Q1562.52 1538.71 1564.33 1542.27 Q1566.16 1545.82 1569.77 1545.82 Q1573.4 1545.82 1575.21 1542.27 Q1577.03 1538.71 1577.03 1531.6 Q1577.03 1524.47 1575.21 1520.93 Q1573.4 1517.37 1569.77 1517.37 M1569.77 1513.66 Q1575.58 1513.66 1578.63 1518.27 Q1581.71 1522.85 1581.71 1531.6 Q1581.71 1540.33 1578.63 1544.94 Q1575.58 1549.52 1569.77 1549.52 Q1563.96 1549.52 1560.88 1544.94 Q1557.82 1540.33 1557.82 1531.6 Q1557.82 1522.85 1560.88 1518.27 Q1563.96 1513.66 1569.77 1513.66 Z\" fill=\"#000000\" fill-rule=\"evenodd\" fill-opacity=\"1\" /><path clip-path=\"url(#clip630)\" d=\"M1890.57 1544.91 L1906.89 1544.91 L1906.89 1548.85 L1884.94 1548.85 L1884.94 1544.91 Q1887.61 1542.16 1892.19 1537.53 Q1896.8 1532.88 1897.98 1531.53 Q1900.22 1529.01 1901.1 1527.27 Q1902 1525.51 1902 1523.82 Q1902 1521.07 1900.06 1519.33 Q1898.14 1517.6 1895.04 1517.6 Q1892.84 1517.6 1890.38 1518.36 Q1887.95 1519.13 1885.18 1520.68 L1885.18 1515.95 Q1888 1514.82 1890.45 1514.24 Q1892.91 1513.66 1894.94 1513.66 Q1900.31 1513.66 1903.51 1516.35 Q1906.7 1519.03 1906.7 1523.52 Q1906.7 1525.65 1905.89 1527.57 Q1905.11 1529.47 1903 1532.07 Q1902.42 1532.74 1899.32 1535.95 Q1896.22 1539.15 1890.57 1544.91 Z\" fill=\"#000000\" fill-rule=\"evenodd\" fill-opacity=\"1\" /><path clip-path=\"url(#clip630)\" d=\"M1916.7 1542.97 L1921.59 1542.97 L1921.59 1548.85 L1916.7 1548.85 L1916.7 1542.97 Z\" fill=\"#000000\" fill-rule=\"evenodd\" fill-opacity=\"1\" /><path clip-path=\"url(#clip630)\" d=\"M1931.82 1514.29 L1950.18 1514.29 L1950.18 1518.22 L1936.1 1518.22 L1936.1 1526.7 Q1937.12 1526.35 1938.14 1526.19 Q1939.16 1526 1940.18 1526 Q1945.96 1526 1949.34 1529.17 Q1952.72 1532.34 1952.72 1537.76 Q1952.72 1543.34 1949.25 1546.44 Q1945.78 1549.52 1939.46 1549.52 Q1937.28 1549.52 1935.01 1549.15 Q1932.77 1548.78 1930.36 1548.04 L1930.36 1543.34 Q1932.44 1544.47 1934.67 1545.03 Q1936.89 1545.58 1939.37 1545.58 Q1943.37 1545.58 1945.71 1543.48 Q1948.05 1541.37 1948.05 1537.76 Q1948.05 1534.15 1945.71 1532.04 Q1943.37 1529.94 1939.37 1529.94 Q1937.49 1529.94 1935.62 1530.35 Q1933.76 1530.77 1931.82 1531.65 L1931.82 1514.29 Z\" fill=\"#000000\" fill-rule=\"evenodd\" fill-opacity=\"1\" /><path clip-path=\"url(#clip630)\" d=\"M2271.65 1530.21 Q2275.01 1530.93 2276.88 1533.2 Q2278.78 1535.47 2278.78 1538.8 Q2278.78 1543.92 2275.26 1546.72 Q2271.74 1549.52 2265.26 1549.52 Q2263.09 1549.52 2260.77 1549.08 Q2258.48 1548.66 2256.03 1547.81 L2256.03 1543.29 Q2257.97 1544.43 2260.28 1545.01 Q2262.6 1545.58 2265.12 1545.58 Q2269.52 1545.58 2271.81 1543.85 Q2274.13 1542.11 2274.13 1538.8 Q2274.13 1535.75 2271.97 1534.03 Q2269.84 1532.3 2266.03 1532.3 L2262 1532.3 L2262 1528.45 L2266.21 1528.45 Q2269.66 1528.45 2271.49 1527.09 Q2273.32 1525.7 2273.32 1523.11 Q2273.32 1520.45 2271.42 1519.03 Q2269.54 1517.6 2266.03 1517.6 Q2264.1 1517.6 2261.91 1518.01 Q2259.71 1518.43 2257.07 1519.31 L2257.07 1515.14 Q2259.73 1514.4 2262.04 1514.03 Q2264.38 1513.66 2266.44 1513.66 Q2271.77 1513.66 2274.87 1516.09 Q2277.97 1518.5 2277.97 1522.62 Q2277.97 1525.49 2276.33 1527.48 Q2274.68 1529.45 2271.65 1530.21 Z\" fill=\"#000000\" fill-rule=\"evenodd\" fill-opacity=\"1\" /><path clip-path=\"url(#clip630)\" d=\"M2287.65 1542.97 L2292.53 1542.97 L2292.53 1548.85 L2287.65 1548.85 L2287.65 1542.97 Z\" fill=\"#000000\" fill-rule=\"evenodd\" fill-opacity=\"1\" /><path clip-path=\"url(#clip630)\" d=\"M2312.71 1517.37 Q2309.1 1517.37 2307.28 1520.93 Q2305.47 1524.47 2305.47 1531.6 Q2305.47 1538.71 2307.28 1542.27 Q2309.1 1545.82 2312.71 1545.82 Q2316.35 1545.82 2318.15 1542.27 Q2319.98 1538.71 2319.98 1531.6 Q2319.98 1524.47 2318.15 1520.93 Q2316.35 1517.37 2312.71 1517.37 M2312.71 1513.66 Q2318.53 1513.66 2321.58 1518.27 Q2324.66 1522.85 2324.66 1531.6 Q2324.66 1540.33 2321.58 1544.94 Q2318.53 1549.52 2312.71 1549.52 Q2306.9 1549.52 2303.83 1544.94 Q2300.77 1540.33 2300.77 1531.6 Q2300.77 1522.85 2303.83 1518.27 Q2306.9 1513.66 2312.71 1513.66 Z\" fill=\"#000000\" fill-rule=\"evenodd\" fill-opacity=\"1\" /><polyline clip-path=\"url(#clip632)\" style=\"stroke:#000000; stroke-linecap:butt; stroke-linejoin:round; stroke-width:2; stroke-opacity:0.1; fill:none\" points=\"\n  147.478,1207.26 2352.76,1207.26 \n  \"/>\n<polyline clip-path=\"url(#clip632)\" style=\"stroke:#000000; stroke-linecap:butt; stroke-linejoin:round; stroke-width:2; stroke-opacity:0.1; fill:none\" points=\"\n  147.478,907.349 2352.76,907.349 \n  \"/>\n<polyline clip-path=\"url(#clip632)\" style=\"stroke:#000000; stroke-linecap:butt; stroke-linejoin:round; stroke-width:2; stroke-opacity:0.1; fill:none\" points=\"\n  147.478,607.438 2352.76,607.438 \n  \"/>\n<polyline clip-path=\"url(#clip632)\" style=\"stroke:#000000; stroke-linecap:butt; stroke-linejoin:round; stroke-width:2; stroke-opacity:0.1; fill:none\" points=\"\n  147.478,307.527 2352.76,307.527 \n  \"/>\n<polyline clip-path=\"url(#clip630)\" style=\"stroke:#000000; stroke-linecap:butt; stroke-linejoin:round; stroke-width:4; stroke-opacity:1; fill:none\" points=\"\n  147.478,1486.45 147.478,47.2441 \n  \"/>\n<polyline clip-path=\"url(#clip630)\" style=\"stroke:#000000; stroke-linecap:butt; stroke-linejoin:round; stroke-width:4; stroke-opacity:1; fill:none\" points=\"\n  147.478,1207.26 166.376,1207.26 \n  \"/>\n<polyline clip-path=\"url(#clip630)\" style=\"stroke:#000000; stroke-linecap:butt; stroke-linejoin:round; stroke-width:4; stroke-opacity:1; fill:none\" points=\"\n  147.478,907.349 166.376,907.349 \n  \"/>\n<polyline clip-path=\"url(#clip630)\" style=\"stroke:#000000; stroke-linecap:butt; stroke-linejoin:round; stroke-width:4; stroke-opacity:1; fill:none\" points=\"\n  147.478,607.438 166.376,607.438 \n  \"/>\n<polyline clip-path=\"url(#clip630)\" style=\"stroke:#000000; stroke-linecap:butt; stroke-linejoin:round; stroke-width:4; stroke-opacity:1; fill:none\" points=\"\n  147.478,307.527 166.376,307.527 \n  \"/>\n<path clip-path=\"url(#clip630)\" d=\"M51.3625 1207.71 L81.0383 1207.71 L81.0383 1211.65 L51.3625 1211.65 L51.3625 1207.71 Z\" fill=\"#000000\" fill-rule=\"evenodd\" fill-opacity=\"1\" /><path clip-path=\"url(#clip630)\" d=\"M95.1586 1220.61 L111.478 1220.61 L111.478 1224.54 L89.5336 1224.54 L89.5336 1220.61 Q92.1956 1217.85 96.7789 1213.22 Q101.385 1208.57 102.566 1207.23 Q104.811 1204.7 105.691 1202.97 Q106.594 1201.21 106.594 1199.52 Q106.594 1196.76 104.649 1195.03 Q102.728 1193.29 99.6261 1193.29 Q97.4271 1193.29 94.9734 1194.05 Q92.5428 1194.82 89.7651 1196.37 L89.7651 1191.65 Q92.5891 1190.51 95.0428 1189.93 Q97.4965 1189.36 99.5335 1189.36 Q104.904 1189.36 108.098 1192.04 Q111.293 1194.73 111.293 1199.22 Q111.293 1201.35 110.483 1203.27 Q109.696 1205.17 107.589 1207.76 Q107.01 1208.43 103.909 1211.65 Q100.807 1214.84 95.1586 1220.61 Z\" fill=\"#000000\" fill-rule=\"evenodd\" fill-opacity=\"1\" /><path clip-path=\"url(#clip630)\" d=\"M50.9921 907.801 L80.6679 907.801 L80.6679 911.736 L50.9921 911.736 L50.9921 907.801 Z\" fill=\"#000000\" fill-rule=\"evenodd\" fill-opacity=\"1\" /><path clip-path=\"url(#clip630)\" d=\"M91.5706 920.694 L99.2095 920.694 L99.2095 894.329 L90.8993 895.995 L90.8993 891.736 L99.1632 890.069 L103.839 890.069 L103.839 920.694 L111.478 920.694 L111.478 924.629 L91.5706 924.629 L91.5706 920.694 Z\" fill=\"#000000\" fill-rule=\"evenodd\" fill-opacity=\"1\" /><path clip-path=\"url(#clip630)\" d=\"M99.5335 593.237 Q95.9224 593.237 94.0937 596.801 Q92.2882 600.343 92.2882 607.473 Q92.2882 614.579 94.0937 618.144 Q95.9224 621.686 99.5335 621.686 Q103.168 621.686 104.973 618.144 Q106.802 614.579 106.802 607.473 Q106.802 600.343 104.973 596.801 Q103.168 593.237 99.5335 593.237 M99.5335 589.533 Q105.344 589.533 108.399 594.139 Q111.478 598.723 111.478 607.473 Q111.478 616.2 108.399 620.806 Q105.344 625.389 99.5335 625.389 Q93.7234 625.389 90.6447 620.806 Q87.5892 616.2 87.5892 607.473 Q87.5892 598.723 90.6447 594.139 Q93.7234 589.533 99.5335 589.533 Z\" fill=\"#000000\" fill-rule=\"evenodd\" fill-opacity=\"1\" /><path clip-path=\"url(#clip630)\" d=\"M91.5706 320.871 L99.2095 320.871 L99.2095 294.506 L90.8993 296.173 L90.8993 291.913 L99.1632 290.247 L103.839 290.247 L103.839 320.871 L111.478 320.871 L111.478 324.807 L91.5706 324.807 L91.5706 320.871 Z\" fill=\"#000000\" fill-rule=\"evenodd\" fill-opacity=\"1\" /><polyline clip-path=\"url(#clip632)\" style=\"stroke:#009af9; stroke-linecap:butt; stroke-linejoin:round; stroke-width:8; stroke-opacity:0.7; fill:none\" points=\"\n  209.891,473.314 230.209,464.438 418.072,399.614 530.969,368.989 626.423,345.879 730.112,322.894 825.705,303.239 928.19,283.488 1046.93,262.014 1152.45,243.994 \n  1244.98,228.897 1345.87,213.095 1447.35,197.814 1559.56,181.557 1666.32,166.645 1777.32,151.657 1870.77,139.412 1984.85,124.884 2092.09,111.614 2263.9,91.0664 \n  2290.34,87.9763 \n  \"/>\n<polyline clip-path=\"url(#clip632)\" style=\"stroke:#e26f46; stroke-linecap:butt; stroke-linejoin:round; stroke-width:8; stroke-opacity:0.7; fill:none\" stroke-dasharray=\"32, 16, 4, 16\" points=\"\n  209.891,272.127 214.971,277.715 220.05,283.032 225.129,288.1 230.209,292.938 253.692,312.754 277.174,329.243 300.657,343.241 324.14,355.318 347.623,365.878 \n  371.106,375.213 394.589,383.543 418.072,391.037 446.296,399.12 474.52,406.36 502.745,412.894 530.969,418.83 578.696,427.739 626.423,435.494 730.112,449.384 \n  825.705,459.596 928.19,468.61 1046.93,477.24 1152.45,483.696 1244.98,488.631 1345.87,493.391 1447.35,497.646 1559.56,501.837 1666.32,505.41 1777.32,508.765 \n  1870.77,511.346 1984.85,514.239 2092.09,516.734 2263.9,520.343 2290.34,520.861 \n  \"/>\n<polyline clip-path=\"url(#clip632)\" style=\"stroke:#3da44d; stroke-linecap:butt; stroke-linejoin:round; stroke-width:8; stroke-opacity:0.7; fill:none\" stroke-dasharray=\"32, 20\" points=\"\n  209.891,1445.72 212.431,1424.68 214.971,1404.5 217.51,1385.15 220.05,1366.56 222.59,1348.7 225.129,1331.53 227.669,1315.02 230.209,1299.12 241.95,1232.8 \n  253.692,1176.44 265.433,1128.06 277.174,1086.17 288.916,1049.61 300.657,1017.48 312.399,989.06 324.14,963.778 347.623,920.853 371.106,885.904 394.589,856.999 \n  418.072,832.771 446.296,808.452 474.52,788.214 502.745,771.157 530.969,756.624 578.696,736.465 626.423,720.471 730.112,695.232 825.705,679.29 928.19,666.933 \n  1046.93,656.512 1152.45,649.569 1244.98,644.726 1345.87,640.421 1447.35,636.866 1559.56,633.623 1666.32,631.054 1777.32,628.8 1870.77,627.167 1984.85,625.438 \n  2092.09,624.031 2263.9,622.128 2290.34,621.867 \n  \"/>\n<path clip-path=\"url(#clip630)\" d=\"\nM1617.35 1438.47 L2279.25 1438.47 L2279.25 1231.11 L1617.35 1231.11  Z\n  \" fill=\"#ffffff\" fill-rule=\"evenodd\" fill-opacity=\"1\"/>\n<polyline clip-path=\"url(#clip630)\" style=\"stroke:#000000; stroke-linecap:butt; stroke-linejoin:round; stroke-width:4; stroke-opacity:1; fill:none\" points=\"\n  1617.35,1438.47 2279.25,1438.47 2279.25,1231.11 1617.35,1231.11 1617.35,1438.47 \n  \"/>\n<polyline clip-path=\"url(#clip630)\" style=\"stroke:#009af9; stroke-linecap:butt; stroke-linejoin:round; stroke-width:4; stroke-opacity:0.7; fill:none\" points=\"\n  1641.35,1282.95 1785.35,1282.95 \n  \"/>\n<path clip-path=\"url(#clip630)\" d=\"M1825.86 1264.22 L1825.86 1267.76 L1821.78 1267.76 Q1819.49 1267.76 1818.59 1268.68 Q1817.71 1269.61 1817.71 1272.02 L1817.71 1274.31 L1824.72 1274.31 L1824.72 1277.62 L1817.71 1277.62 L1817.71 1300.23 L1813.42 1300.23 L1813.42 1277.62 L1809.35 1277.62 L1809.35 1274.31 L1813.42 1274.31 L1813.42 1272.5 Q1813.42 1268.17 1815.44 1266.21 Q1817.45 1264.22 1821.83 1264.22 L1825.86 1264.22 Z\" fill=\"#000000\" fill-rule=\"evenodd\" fill-opacity=\"1\" /><path clip-path=\"url(#clip630)\" d=\"M1839.65 1264.26 Q1836.55 1269.59 1835.05 1274.79 Q1833.54 1280 1833.54 1285.35 Q1833.54 1290.7 1835.05 1295.95 Q1836.57 1301.18 1839.65 1306.48 L1835.95 1306.48 Q1832.48 1301.04 1830.74 1295.79 Q1829.03 1290.54 1829.03 1285.35 Q1829.03 1280.19 1830.74 1274.96 Q1832.45 1269.73 1835.95 1264.26 L1839.65 1264.26 Z\" fill=\"#000000\" fill-rule=\"evenodd\" fill-opacity=\"1\" /><path clip-path=\"url(#clip630)\" d=\"M1869.47 1274.31 L1860.09 1286.92 L1869.95 1300.23 L1864.93 1300.23 L1857.38 1290.05 L1849.84 1300.23 L1844.81 1300.23 L1854.88 1286.67 L1845.67 1274.31 L1850.69 1274.31 L1857.57 1283.54 L1864.44 1274.31 L1869.47 1274.31 Z\" fill=\"#000000\" fill-rule=\"evenodd\" fill-opacity=\"1\" /><path clip-path=\"url(#clip630)\" d=\"M1875.3 1264.26 L1879 1264.26 Q1882.48 1269.73 1884.19 1274.96 Q1885.92 1280.19 1885.92 1285.35 Q1885.92 1290.54 1884.19 1295.79 Q1882.48 1301.04 1879 1306.48 L1875.3 1306.48 Q1878.38 1301.18 1879.88 1295.95 Q1881.41 1290.7 1881.41 1285.35 Q1881.41 1280 1879.88 1274.79 Q1878.38 1269.59 1875.3 1264.26 Z\" fill=\"#000000\" fill-rule=\"evenodd\" fill-opacity=\"1\" /><polyline clip-path=\"url(#clip630)\" style=\"stroke:#e26f46; stroke-linecap:butt; stroke-linejoin:round; stroke-width:4; stroke-opacity:0.7; fill:none\" stroke-dasharray=\"16, 8, 2, 8\" points=\"\n  1641.35,1334.79 1785.35,1334.79 \n  \"/>\n<path clip-path=\"url(#clip630)\" d=\"M1809.35 1317.51 L1829.21 1317.51 L1829.21 1321.45 L1814.03 1321.45 L1814.03 1331.63 L1827.73 1331.63 L1827.73 1335.57 L1814.03 1335.57 L1814.03 1352.07 L1809.35 1352.07 L1809.35 1317.51 Z\" fill=\"#000000\" fill-rule=\"evenodd\" fill-opacity=\"1\" /><path clip-path=\"url(#clip630)\" d=\"M1832.98 1326.15 L1837.24 1326.15 L1837.24 1352.07 L1832.98 1352.07 L1832.98 1326.15 M1832.98 1316.06 L1837.24 1316.06 L1837.24 1321.45 L1832.98 1321.45 L1832.98 1316.06 Z\" fill=\"#000000\" fill-rule=\"evenodd\" fill-opacity=\"1\" /><path clip-path=\"url(#clip630)\" d=\"M1861.18 1330.13 Q1860.46 1329.71 1859.61 1329.53 Q1858.77 1329.32 1857.75 1329.32 Q1854.14 1329.32 1852.2 1331.68 Q1850.28 1334.02 1850.28 1338.42 L1850.28 1352.07 L1845.99 1352.07 L1845.99 1326.15 L1850.28 1326.15 L1850.28 1330.18 Q1851.62 1327.82 1853.77 1326.68 Q1855.92 1325.52 1859 1325.52 Q1859.44 1325.52 1859.98 1325.59 Q1860.51 1325.64 1861.16 1325.76 L1861.18 1330.13 Z\" fill=\"#000000\" fill-rule=\"evenodd\" fill-opacity=\"1\" /><path clip-path=\"url(#clip630)\" d=\"M1882.17 1326.91 L1882.17 1330.94 Q1880.37 1330.01 1878.42 1329.55 Q1876.48 1329.09 1874.4 1329.09 Q1871.23 1329.09 1869.63 1330.06 Q1868.05 1331.03 1868.05 1332.98 Q1868.05 1334.46 1869.19 1335.32 Q1870.32 1336.15 1873.75 1336.91 L1875.21 1337.24 Q1879.74 1338.21 1881.64 1339.99 Q1883.56 1341.75 1883.56 1344.92 Q1883.56 1348.53 1880.69 1350.64 Q1877.85 1352.75 1872.85 1352.75 Q1870.76 1352.75 1868.49 1352.33 Q1866.25 1351.94 1863.75 1351.13 L1863.75 1346.73 Q1866.11 1347.95 1868.4 1348.58 Q1870.69 1349.18 1872.94 1349.18 Q1875.95 1349.18 1877.57 1348.16 Q1879.19 1347.12 1879.19 1345.25 Q1879.19 1343.51 1878.01 1342.58 Q1876.85 1341.66 1872.89 1340.8 L1871.41 1340.45 Q1867.45 1339.62 1865.69 1337.91 Q1863.93 1336.17 1863.93 1333.16 Q1863.93 1329.51 1866.53 1327.51 Q1869.12 1325.52 1873.89 1325.52 Q1876.25 1325.52 1878.33 1325.87 Q1880.42 1326.22 1882.17 1326.91 Z\" fill=\"#000000\" fill-rule=\"evenodd\" fill-opacity=\"1\" /><path clip-path=\"url(#clip630)\" d=\"M1894.56 1318.79 L1894.56 1326.15 L1903.33 1326.15 L1903.33 1329.46 L1894.56 1329.46 L1894.56 1343.53 Q1894.56 1346.7 1895.42 1347.61 Q1896.29 1348.51 1898.96 1348.51 L1903.33 1348.51 L1903.33 1352.07 L1898.96 1352.07 Q1894.03 1352.07 1892.15 1350.25 Q1890.28 1348.39 1890.28 1343.53 L1890.28 1329.46 L1887.15 1329.46 L1887.15 1326.15 L1890.28 1326.15 L1890.28 1318.79 L1894.56 1318.79 Z\" fill=\"#000000\" fill-rule=\"evenodd\" fill-opacity=\"1\" /><path clip-path=\"url(#clip630)\" d=\"M1941.06 1330.08 L1941.06 1316.06 L1945.32 1316.06 L1945.32 1352.07 L1941.06 1352.07 L1941.06 1348.19 Q1939.72 1350.5 1937.66 1351.63 Q1935.62 1352.75 1932.75 1352.75 Q1928.05 1352.75 1925.09 1349 Q1922.15 1345.25 1922.15 1339.13 Q1922.15 1333.02 1925.09 1329.27 Q1928.05 1325.52 1932.75 1325.52 Q1935.62 1325.52 1937.66 1326.66 Q1939.72 1327.77 1941.06 1330.08 M1926.55 1339.13 Q1926.55 1343.83 1928.47 1346.52 Q1930.41 1349.18 1933.79 1349.18 Q1937.17 1349.18 1939.12 1346.52 Q1941.06 1343.83 1941.06 1339.13 Q1941.06 1334.44 1939.12 1331.77 Q1937.17 1329.09 1933.79 1329.09 Q1930.41 1329.09 1928.47 1331.77 Q1926.55 1334.44 1926.55 1339.13 Z\" fill=\"#000000\" fill-rule=\"evenodd\" fill-opacity=\"1\" /><path clip-path=\"url(#clip630)\" d=\"M1976.27 1338.05 L1976.27 1340.13 L1956.69 1340.13 Q1956.97 1344.53 1959.33 1346.84 Q1961.71 1349.13 1965.95 1349.13 Q1968.4 1349.13 1970.69 1348.53 Q1973.01 1347.93 1975.28 1346.73 L1975.28 1350.75 Q1972.98 1351.73 1970.58 1352.24 Q1968.17 1352.75 1965.69 1352.75 Q1959.49 1352.75 1955.85 1349.13 Q1952.24 1345.52 1952.24 1339.37 Q1952.24 1333 1955.67 1329.27 Q1959.12 1325.52 1964.95 1325.52 Q1970.18 1325.52 1973.22 1328.9 Q1976.27 1332.26 1976.27 1338.05 M1972.01 1336.8 Q1971.97 1333.3 1970.04 1331.22 Q1968.15 1329.13 1965 1329.13 Q1961.43 1329.13 1959.28 1331.15 Q1957.15 1333.16 1956.83 1336.82 L1972.01 1336.8 Z\" fill=\"#000000\" fill-rule=\"evenodd\" fill-opacity=\"1\" /><path clip-path=\"url(#clip630)\" d=\"M1998.28 1330.13 Q1997.57 1329.71 1996.71 1329.53 Q1995.88 1329.32 1994.86 1329.32 Q1991.25 1329.32 1989.3 1331.68 Q1987.38 1334.02 1987.38 1338.42 L1987.38 1352.07 L1983.1 1352.07 L1983.1 1326.15 L1987.38 1326.15 L1987.38 1330.18 Q1988.72 1327.82 1990.88 1326.68 Q1993.03 1325.52 1996.11 1325.52 Q1996.55 1325.52 1997.08 1325.59 Q1997.61 1325.64 1998.26 1325.76 L1998.28 1330.13 Z\" fill=\"#000000\" fill-rule=\"evenodd\" fill-opacity=\"1\" /><path clip-path=\"url(#clip630)\" d=\"M2002.75 1326.15 L2007.01 1326.15 L2007.01 1352.07 L2002.75 1352.07 L2002.75 1326.15 M2002.75 1316.06 L2007.01 1316.06 L2007.01 1321.45 L2002.75 1321.45 L2002.75 1316.06 Z\" fill=\"#000000\" fill-rule=\"evenodd\" fill-opacity=\"1\" /><path clip-path=\"url(#clip630)\" d=\"M2012.87 1326.15 L2017.38 1326.15 L2025.48 1347.91 L2033.59 1326.15 L2038.1 1326.15 L2028.38 1352.07 L2022.59 1352.07 L2012.87 1326.15 Z\" fill=\"#000000\" fill-rule=\"evenodd\" fill-opacity=\"1\" /><path clip-path=\"url(#clip630)\" d=\"M2055.76 1339.04 Q2050.6 1339.04 2048.61 1340.22 Q2046.62 1341.4 2046.62 1344.25 Q2046.62 1346.52 2048.1 1347.86 Q2049.6 1349.18 2052.17 1349.18 Q2055.72 1349.18 2057.84 1346.68 Q2060 1344.16 2060 1339.99 L2060 1339.04 L2055.76 1339.04 M2064.26 1337.28 L2064.26 1352.07 L2060 1352.07 L2060 1348.14 Q2058.54 1350.5 2056.36 1351.63 Q2054.19 1352.75 2051.04 1352.75 Q2047.06 1352.75 2044.7 1350.52 Q2042.36 1348.28 2042.36 1344.53 Q2042.36 1340.15 2045.28 1337.93 Q2048.22 1335.71 2054.03 1335.71 L2060 1335.71 L2060 1335.29 Q2060 1332.35 2058.05 1330.76 Q2056.13 1329.13 2052.64 1329.13 Q2050.41 1329.13 2048.31 1329.67 Q2046.2 1330.2 2044.26 1331.26 L2044.26 1327.33 Q2046.59 1326.43 2048.79 1325.99 Q2050.99 1325.52 2053.08 1325.52 Q2058.7 1325.52 2061.48 1328.44 Q2064.26 1331.36 2064.26 1337.28 Z\" fill=\"#000000\" fill-rule=\"evenodd\" fill-opacity=\"1\" /><path clip-path=\"url(#clip630)\" d=\"M2077.24 1318.79 L2077.24 1326.15 L2086.02 1326.15 L2086.02 1329.46 L2077.24 1329.46 L2077.24 1343.53 Q2077.24 1346.7 2078.1 1347.61 Q2078.98 1348.51 2081.64 1348.51 L2086.02 1348.51 L2086.02 1352.07 L2081.64 1352.07 Q2076.71 1352.07 2074.84 1350.25 Q2072.96 1348.39 2072.96 1343.53 L2072.96 1329.46 L2069.84 1329.46 L2069.84 1326.15 L2072.96 1326.15 L2072.96 1318.79 L2077.24 1318.79 Z\" fill=\"#000000\" fill-rule=\"evenodd\" fill-opacity=\"1\" /><path clip-path=\"url(#clip630)\" d=\"M2091.62 1326.15 L2095.88 1326.15 L2095.88 1352.07 L2091.62 1352.07 L2091.62 1326.15 M2091.62 1316.06 L2095.88 1316.06 L2095.88 1321.45 L2091.62 1321.45 L2091.62 1316.06 Z\" fill=\"#000000\" fill-rule=\"evenodd\" fill-opacity=\"1\" /><path clip-path=\"url(#clip630)\" d=\"M2101.73 1326.15 L2106.25 1326.15 L2114.35 1347.91 L2122.45 1326.15 L2126.96 1326.15 L2117.24 1352.07 L2111.46 1352.07 L2101.73 1326.15 Z\" fill=\"#000000\" fill-rule=\"evenodd\" fill-opacity=\"1\" /><path clip-path=\"url(#clip630)\" d=\"M2155.02 1338.05 L2155.02 1340.13 L2135.44 1340.13 Q2135.71 1344.53 2138.08 1346.84 Q2140.46 1349.13 2144.7 1349.13 Q2147.15 1349.13 2149.44 1348.53 Q2151.76 1347.93 2154.02 1346.73 L2154.02 1350.75 Q2151.73 1351.73 2149.33 1352.24 Q2146.92 1352.75 2144.44 1352.75 Q2138.24 1352.75 2134.6 1349.13 Q2130.99 1345.52 2130.99 1339.37 Q2130.99 1333 2134.42 1329.27 Q2137.87 1325.52 2143.7 1325.52 Q2148.93 1325.52 2151.96 1328.9 Q2155.02 1332.26 2155.02 1338.05 M2150.76 1336.8 Q2150.71 1333.3 2148.79 1331.22 Q2146.9 1329.13 2143.75 1329.13 Q2140.18 1329.13 2138.03 1331.15 Q2135.9 1333.16 2135.58 1336.82 L2150.76 1336.8 Z\" fill=\"#000000\" fill-rule=\"evenodd\" fill-opacity=\"1\" /><polyline clip-path=\"url(#clip630)\" style=\"stroke:#3da44d; stroke-linecap:butt; stroke-linejoin:round; stroke-width:4; stroke-opacity:0.7; fill:none\" stroke-dasharray=\"16, 10\" points=\"\n  1641.35,1386.63 1785.35,1386.63 \n  \"/>\n<path clip-path=\"url(#clip630)\" d=\"M1831.6 1370.49 L1831.6 1375.05 Q1828.93 1373.78 1826.57 1373.15 Q1824.21 1372.53 1822.01 1372.53 Q1818.19 1372.53 1816.11 1374.01 Q1814.05 1375.49 1814.05 1378.22 Q1814.05 1380.51 1815.42 1381.69 Q1816.8 1382.85 1820.65 1383.57 L1823.47 1384.15 Q1828.7 1385.14 1831.18 1387.66 Q1833.68 1390.16 1833.68 1394.38 Q1833.68 1399.4 1830.3 1401.99 Q1826.94 1404.59 1820.44 1404.59 Q1817.98 1404.59 1815.21 1404.03 Q1812.45 1403.47 1809.49 1402.39 L1809.49 1397.57 Q1812.34 1399.17 1815.07 1399.98 Q1817.8 1400.79 1820.44 1400.79 Q1824.44 1400.79 1826.62 1399.22 Q1828.8 1397.64 1828.8 1394.72 Q1828.8 1392.18 1827.22 1390.74 Q1825.67 1389.31 1822.11 1388.59 L1819.26 1388.03 Q1814.03 1386.99 1811.69 1384.77 Q1809.35 1382.55 1809.35 1378.59 Q1809.35 1374.01 1812.57 1371.37 Q1815.81 1368.73 1821.48 1368.73 Q1823.91 1368.73 1826.43 1369.17 Q1828.96 1369.61 1831.6 1370.49 Z\" fill=\"#000000\" fill-rule=\"evenodd\" fill-opacity=\"1\" /><path clip-path=\"url(#clip630)\" d=\"M1862.96 1389.89 L1862.96 1391.97 L1843.38 1391.97 Q1843.66 1396.37 1846.02 1398.68 Q1848.4 1400.97 1852.64 1400.97 Q1855.09 1400.97 1857.38 1400.37 Q1859.7 1399.77 1861.97 1398.57 L1861.97 1402.59 Q1859.67 1403.57 1857.27 1404.08 Q1854.86 1404.59 1852.38 1404.59 Q1846.18 1404.59 1842.55 1400.97 Q1838.93 1397.36 1838.93 1391.21 Q1838.93 1384.84 1842.36 1381.11 Q1845.81 1377.36 1851.64 1377.36 Q1856.87 1377.36 1859.91 1380.74 Q1862.96 1384.1 1862.96 1389.89 M1858.7 1388.64 Q1858.66 1385.14 1856.73 1383.06 Q1854.84 1380.97 1851.69 1380.97 Q1848.12 1380.97 1845.97 1382.99 Q1843.84 1385 1843.52 1388.66 L1858.7 1388.64 Z\" fill=\"#000000\" fill-rule=\"evenodd\" fill-opacity=\"1\" /><path clip-path=\"url(#clip630)\" d=\"M1888.61 1378.98 L1888.61 1382.97 Q1886.8 1381.97 1884.98 1381.48 Q1883.17 1380.97 1881.32 1380.97 Q1877.17 1380.97 1874.88 1383.61 Q1872.59 1386.23 1872.59 1390.97 Q1872.59 1395.72 1874.88 1398.36 Q1877.17 1400.97 1881.32 1400.97 Q1883.17 1400.97 1884.98 1400.49 Q1886.8 1399.98 1888.61 1398.98 L1888.61 1402.92 Q1886.83 1403.75 1884.91 1404.17 Q1883.01 1404.59 1880.85 1404.59 Q1875 1404.59 1871.55 1400.91 Q1868.1 1397.22 1868.1 1390.97 Q1868.1 1384.63 1871.57 1381 Q1875.07 1377.36 1881.13 1377.36 Q1883.1 1377.36 1884.98 1377.78 Q1886.85 1378.17 1888.61 1378.98 Z\" fill=\"#000000\" fill-rule=\"evenodd\" fill-opacity=\"1\" /><path clip-path=\"url(#clip630)\" d=\"M1906.06 1380.97 Q1902.64 1380.97 1900.65 1383.66 Q1898.66 1386.32 1898.66 1390.97 Q1898.66 1395.63 1900.62 1398.31 Q1902.61 1400.97 1906.06 1400.97 Q1909.47 1400.97 1911.46 1398.29 Q1913.45 1395.6 1913.45 1390.97 Q1913.45 1386.37 1911.46 1383.68 Q1909.47 1380.97 1906.06 1380.97 M1906.06 1377.36 Q1911.62 1377.36 1914.79 1380.97 Q1917.96 1384.59 1917.96 1390.97 Q1917.96 1397.34 1914.79 1400.97 Q1911.62 1404.59 1906.06 1404.59 Q1900.48 1404.59 1897.31 1400.97 Q1894.17 1397.34 1894.17 1390.97 Q1894.17 1384.59 1897.31 1380.97 Q1900.48 1377.36 1906.06 1377.36 Z\" fill=\"#000000\" fill-rule=\"evenodd\" fill-opacity=\"1\" /><path clip-path=\"url(#clip630)\" d=\"M1946.57 1388.27 L1946.57 1403.91 L1942.31 1403.91 L1942.31 1388.41 Q1942.31 1384.72 1940.88 1382.9 Q1939.44 1381.07 1936.57 1381.07 Q1933.12 1381.07 1931.13 1383.27 Q1929.14 1385.47 1929.14 1389.26 L1929.14 1403.91 L1924.86 1403.91 L1924.86 1377.99 L1929.14 1377.99 L1929.14 1382.02 Q1930.67 1379.68 1932.73 1378.52 Q1934.81 1377.36 1937.52 1377.36 Q1941.99 1377.36 1944.28 1380.14 Q1946.57 1382.9 1946.57 1388.27 Z\" fill=\"#000000\" fill-rule=\"evenodd\" fill-opacity=\"1\" /><path clip-path=\"url(#clip630)\" d=\"M1972.13 1381.92 L1972.13 1367.9 L1976.39 1367.9 L1976.39 1403.91 L1972.13 1403.91 L1972.13 1400.03 Q1970.79 1402.34 1968.72 1403.47 Q1966.69 1404.59 1963.82 1404.59 Q1959.12 1404.59 1956.16 1400.84 Q1953.22 1397.09 1953.22 1390.97 Q1953.22 1384.86 1956.16 1381.11 Q1959.12 1377.36 1963.82 1377.36 Q1966.69 1377.36 1968.72 1378.5 Q1970.79 1379.61 1972.13 1381.92 M1957.61 1390.97 Q1957.61 1395.67 1959.54 1398.36 Q1961.48 1401.02 1964.86 1401.02 Q1968.24 1401.02 1970.18 1398.36 Q1972.13 1395.67 1972.13 1390.97 Q1972.13 1386.28 1970.18 1383.61 Q1968.24 1380.93 1964.86 1380.93 Q1961.48 1380.93 1959.54 1383.61 Q1957.61 1386.28 1957.61 1390.97 Z\" fill=\"#000000\" fill-rule=\"evenodd\" fill-opacity=\"1\" /><path clip-path=\"url(#clip630)\" d=\"M2017.29 1381.92 L2017.29 1367.9 L2021.55 1367.9 L2021.55 1403.91 L2017.29 1403.91 L2017.29 1400.03 Q2015.95 1402.34 2013.89 1403.47 Q2011.85 1404.59 2008.98 1404.59 Q2004.28 1404.59 2001.32 1400.84 Q1998.38 1397.09 1998.38 1390.97 Q1998.38 1384.86 2001.32 1381.11 Q2004.28 1377.36 2008.98 1377.36 Q2011.85 1377.36 2013.89 1378.5 Q2015.95 1379.61 2017.29 1381.92 M2002.78 1390.97 Q2002.78 1395.67 2004.7 1398.36 Q2006.64 1401.02 2010.02 1401.02 Q2013.4 1401.02 2015.35 1398.36 Q2017.29 1395.67 2017.29 1390.97 Q2017.29 1386.28 2015.35 1383.61 Q2013.4 1380.93 2010.02 1380.93 Q2006.64 1380.93 2004.7 1383.61 Q2002.78 1386.28 2002.78 1390.97 Z\" fill=\"#000000\" fill-rule=\"evenodd\" fill-opacity=\"1\" /><path clip-path=\"url(#clip630)\" d=\"M2052.5 1389.89 L2052.5 1391.97 L2032.91 1391.97 Q2033.19 1396.37 2035.55 1398.68 Q2037.94 1400.97 2042.17 1400.97 Q2044.63 1400.97 2046.92 1400.37 Q2049.23 1399.77 2051.5 1398.57 L2051.5 1402.59 Q2049.21 1403.57 2046.8 1404.08 Q2044.4 1404.59 2041.92 1404.59 Q2035.72 1404.59 2032.08 1400.97 Q2028.47 1397.36 2028.47 1391.21 Q2028.47 1384.84 2031.9 1381.11 Q2035.34 1377.36 2041.18 1377.36 Q2046.41 1377.36 2049.44 1380.74 Q2052.5 1384.1 2052.5 1389.89 M2048.24 1388.64 Q2048.19 1385.14 2046.27 1383.06 Q2044.37 1380.97 2041.22 1380.97 Q2037.66 1380.97 2035.51 1382.99 Q2033.38 1385 2033.05 1388.66 L2048.24 1388.64 Z\" fill=\"#000000\" fill-rule=\"evenodd\" fill-opacity=\"1\" /><path clip-path=\"url(#clip630)\" d=\"M2074.51 1381.97 Q2073.79 1381.55 2072.94 1381.37 Q2072.1 1381.16 2071.09 1381.16 Q2067.47 1381.16 2065.53 1383.52 Q2063.61 1385.86 2063.61 1390.26 L2063.61 1403.91 L2059.33 1403.91 L2059.33 1377.99 L2063.61 1377.99 L2063.61 1382.02 Q2064.95 1379.66 2067.1 1378.52 Q2069.26 1377.36 2072.34 1377.36 Q2072.78 1377.36 2073.31 1377.43 Q2073.84 1377.48 2074.49 1377.6 L2074.51 1381.97 Z\" fill=\"#000000\" fill-rule=\"evenodd\" fill-opacity=\"1\" /><path clip-path=\"url(#clip630)\" d=\"M2078.98 1377.99 L2083.24 1377.99 L2083.24 1403.91 L2078.98 1403.91 L2078.98 1377.99 M2078.98 1367.9 L2083.24 1367.9 L2083.24 1373.29 L2078.98 1373.29 L2078.98 1367.9 Z\" fill=\"#000000\" fill-rule=\"evenodd\" fill-opacity=\"1\" /><path clip-path=\"url(#clip630)\" d=\"M2089.09 1377.99 L2093.61 1377.99 L2101.71 1399.75 L2109.81 1377.99 L2114.33 1377.99 L2104.6 1403.91 L2098.82 1403.91 L2089.09 1377.99 Z\" fill=\"#000000\" fill-rule=\"evenodd\" fill-opacity=\"1\" /><path clip-path=\"url(#clip630)\" d=\"M2131.99 1390.88 Q2126.83 1390.88 2124.84 1392.06 Q2122.84 1393.24 2122.84 1396.09 Q2122.84 1398.36 2124.33 1399.7 Q2125.83 1401.02 2128.4 1401.02 Q2131.94 1401.02 2134.07 1398.52 Q2136.22 1396 2136.22 1391.83 L2136.22 1390.88 L2131.99 1390.88 M2140.48 1389.12 L2140.48 1403.91 L2136.22 1403.91 L2136.22 1399.98 Q2134.77 1402.34 2132.59 1403.47 Q2130.41 1404.59 2127.27 1404.59 Q2123.28 1404.59 2120.92 1402.36 Q2118.59 1400.12 2118.59 1396.37 Q2118.59 1391.99 2121.5 1389.77 Q2124.44 1387.55 2130.25 1387.55 L2136.22 1387.55 L2136.22 1387.13 Q2136.22 1384.19 2134.28 1382.6 Q2132.36 1380.97 2128.86 1380.97 Q2126.64 1380.97 2124.53 1381.51 Q2122.43 1382.04 2120.48 1383.1 L2120.48 1379.17 Q2122.82 1378.27 2125.02 1377.83 Q2127.22 1377.36 2129.3 1377.36 Q2134.93 1377.36 2137.71 1380.28 Q2140.48 1383.2 2140.48 1389.12 Z\" fill=\"#000000\" fill-rule=\"evenodd\" fill-opacity=\"1\" /><path clip-path=\"url(#clip630)\" d=\"M2153.47 1370.63 L2153.47 1377.99 L2162.24 1377.99 L2162.24 1381.3 L2153.47 1381.3 L2153.47 1395.37 Q2153.47 1398.54 2154.33 1399.45 Q2155.21 1400.35 2157.87 1400.35 L2162.24 1400.35 L2162.24 1403.91 L2157.87 1403.91 Q2152.94 1403.91 2151.06 1402.09 Q2149.19 1400.23 2149.19 1395.37 L2149.19 1381.3 L2146.06 1381.3 L2146.06 1377.99 L2149.19 1377.99 L2149.19 1370.63 L2153.47 1370.63 Z\" fill=\"#000000\" fill-rule=\"evenodd\" fill-opacity=\"1\" /><path clip-path=\"url(#clip630)\" d=\"M2167.84 1377.99 L2172.1 1377.99 L2172.1 1403.91 L2167.84 1403.91 L2167.84 1377.99 M2167.84 1367.9 L2172.1 1367.9 L2172.1 1373.29 L2167.84 1373.29 L2167.84 1367.9 Z\" fill=\"#000000\" fill-rule=\"evenodd\" fill-opacity=\"1\" /><path clip-path=\"url(#clip630)\" d=\"M2177.96 1377.99 L2182.47 1377.99 L2190.58 1399.75 L2198.68 1377.99 L2203.19 1377.99 L2193.47 1403.91 L2187.68 1403.91 L2177.96 1377.99 Z\" fill=\"#000000\" fill-rule=\"evenodd\" fill-opacity=\"1\" /><path clip-path=\"url(#clip630)\" d=\"M2231.25 1389.89 L2231.25 1391.97 L2211.66 1391.97 Q2211.94 1396.37 2214.3 1398.68 Q2216.69 1400.97 2220.92 1400.97 Q2223.38 1400.97 2225.67 1400.37 Q2227.98 1399.77 2230.25 1398.57 L2230.25 1402.59 Q2227.96 1403.57 2225.55 1404.08 Q2223.14 1404.59 2220.67 1404.59 Q2214.46 1404.59 2210.83 1400.97 Q2207.22 1397.36 2207.22 1391.21 Q2207.22 1384.84 2210.64 1381.11 Q2214.09 1377.36 2219.93 1377.36 Q2225.16 1377.36 2228.19 1380.74 Q2231.25 1384.1 2231.25 1389.89 M2226.99 1388.64 Q2226.94 1385.14 2225.02 1383.06 Q2223.12 1380.97 2219.97 1380.97 Q2216.41 1380.97 2214.26 1382.99 Q2212.13 1385 2211.8 1388.66 L2226.99 1388.64 Z\" fill=\"#000000\" fill-rule=\"evenodd\" fill-opacity=\"1\" /></svg>\n"
     },
     "execution_count": 255,
     "metadata": {},
     "output_type": "execute_result"
    }
   ],
   "source": [
    "plot(Y, 0.2, 3, label = \"f(x)\", lw = 2, alpha = 0.7)\n",
    "plot!(diff_1, 0.2, 3, label = \"First derivative\", lw = 2, ls = :dashdot, alpha = 0.7)\n",
    "plot!(diff_2, 0.2, 3, label = \"Second derivative\", legend = :bottomright, lw = 2, ls = :dash, alpha = 0.7)"
   ]
  },
  {
   "cell_type": "markdown",
   "metadata": {},
   "source": [
    "We see that the first derivative is positive, which indicates that the slope of the function is always positive. In terms of the curvature though, the second derivative is always negative, which indicates that the slope of the function is positive but decreasing with an increase in labour. This means that the marginal return to labour is positive but decreasing with an increase in labour. "
   ]
  },
  {
   "cell_type": "markdown",
   "metadata": {},
   "source": [
    "## Multivariate calculus"
   ]
  },
  {
   "cell_type": "markdown",
   "metadata": {},
   "source": [
    "### Partial derivatives\n",
    "\n",
    "Say that we have a function where there are two inputs. In other words, let $f(x, y)$ be a function of two variables. Then the partial derivative of a function $f$ with respect to the variable $x$, can be written as $\\frac{\\partial{f}}{\\partial{x}}$, which is defined as,\n",
    "\n",
    "$$\n",
    "\\dfrac{∂f}{∂x}=f_x(x,y)=\\lim_{h→0}\\dfrac{f(x+h,y)−f(x,y)}{h}\n",
    "$$\n",
    "\n",
    "In this definition we see a new symbol, $\\partial$, which indicates a partial derivative. In this case we can also write the derivative with respect to $y$ so there are two partial derivatives for this function, since it is a function of two variables. \n",
    "\n",
    "If we wanted to calculate the partial derivative for our some function we would have to do the following. Consider the following function, \n",
    "\n",
    "$$\n",
    "f(x,y)=x^2−3xy+2y^2−4x+5y−12\n",
    "$$\n",
    "\n",
    "The partial derivative of $f$ with respect to $x$ can be calculated using our definition above. First calculate $f(x + h, y)$,\n",
    "\n",
    "$$\n",
    "\\begin{align*} f(x+h,y) &=(x+h)^2−3(x+h)y+2y^2−4(x+h)+5y−12 \\\\ &=x^2+2xh+h^2−3xy−3hy+2y^2−4x−4h+5y−12. \\end{align*} \n",
    "$$\n",
    "\n",
    "Now we need to substitute this into our initial equation above and then simplify, \n",
    "\n",
    "$$\n",
    "\\begin{align*} \\dfrac{∂f}{∂x} &=\\lim_{h→0}\\dfrac{f(x+h,y)−f(x,y)}{h} \\\\ \n",
    "&=\\lim_{h→0}\\dfrac{(x^2+2xh+h^2−3xy−3hy+2y^2−4x−4h+5y−12)−(x^2−3xy+2y^2−4x+5y−12)}{h} \\\\ &=\\lim_{h→0}\\dfrac{x^2+2xh+h^2−3xy−3hy+2y^2−4x−4h+5y−12−x^2+3xy−2y^2+4x−5y+12}{h} \\\\ \n",
    "&=\\lim_{h→0}\\dfrac{2xh+h^2−3hy−4h}{h}\\\\ \n",
    "&=\\lim_{h→0}\\dfrac{h(2x+h−3y−4)}{h} \\\\ \n",
    "&=\\lim_{h→0}(2x+h−3y−4) \\\\ \n",
    "&=2x−3y−4. \\end{align*}\n",
    "$$\n"
   ]
  },
  {
   "cell_type": "markdown",
   "metadata": {},
   "source": [
    "The same thing can be done for the partial derivative for $f$ with respect to $y$. As an exercise, you might want to try and do this for $y$. The answer should be $-3x + 4y + 5$. \n",
    "\n",
    "Now, we won't always use this method to find the partial derivative. There are easier ways than using this definition above. For the partial derivative, we can think about it as taking a derivative of the one variable while holding the other constant. Exactly like we did for our example with the Cobb-Douglas production function.  \n",
    "\n",
    "So the easier way to take a partial derivative of $f$ with respect to $x$ would be to treat the variable $y$ like it was a constant and apply the usual single variable calculus rules. \n",
    "\n",
    "Let us consider the individual components of the function. \n",
    "\n",
    "In the case of $x^{2}$, we would have that the derivative is $2x$. \n",
    "\n",
    "For $-3xy$ we treat the $y$ like a constant, so the derivative is $-3y$.\n",
    "\n",
    "The next term, $2y^2$ falls away completely since it is constant. The same is true for $5y$ and $12$.\n",
    "\n",
    "Finally, we are left with $-4x$, with a derivative given by $-4$. \n",
    "\n",
    "If we then add these components together, we get our answer $2x - 3y - 4$"
   ]
  },
  {
   "cell_type": "code",
   "execution_count": 287,
   "metadata": {},
   "outputs": [],
   "source": [
    "@variables x y\n",
    "\n",
    "l = x^2 − 3x*y + 2y^2 − 4x + 5y − 12\n",
    "\n",
    "H = Differential(x);\n",
    "I = Differential(y);"
   ]
  },
  {
   "cell_type": "code",
   "execution_count": 285,
   "metadata": {},
   "outputs": [
    {
     "data": {
      "text/latex": [
       "\\begin{equation}\n",
       "-4 + 2 x - 3 y\n",
       "\\end{equation}\n"
      ],
      "text/plain": [
       "2x - 4 - 3y"
      ]
     },
     "execution_count": 285,
     "metadata": {},
     "output_type": "execute_result"
    }
   ],
   "source": [
    "expand_derivatives(H(l))"
   ]
  },
  {
   "cell_type": "code",
   "execution_count": null,
   "metadata": {},
   "outputs": [],
   "source": []
  },
  {
   "cell_type": "markdown",
   "metadata": {},
   "source": [
    "## Matrix algebra"
   ]
  },
  {
   "cell_type": "markdown",
   "metadata": {},
   "source": [
    "We end the session with some basic matrix algebra and then start with optimisation in the next tutorial. Optimisation is going to be applied to one specific example, the consumer problem. "
   ]
  },
  {
   "cell_type": "markdown",
   "metadata": {},
   "source": []
  }
 ],
 "metadata": {
  "kernelspec": {
   "display_name": "Julia 1.7.0-rc2",
   "language": "julia",
   "name": "julia-1.7"
  },
  "language_info": {
   "file_extension": ".jl",
   "mimetype": "application/julia",
   "name": "julia",
   "version": "1.7.0"
  },
  "orig_nbformat": 4
 },
 "nbformat": 4,
 "nbformat_minor": 2
}
