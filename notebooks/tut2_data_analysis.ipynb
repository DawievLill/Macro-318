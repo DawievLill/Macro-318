{
 "cells": [
  {
   "cell_type": "markdown",
   "metadata": {},
   "source": [
    "# <span style=\"color:#2c061f\"> Macro 318: Tutorial #2 </span>  \n",
    "\n",
    "<br>\n",
    "\n",
    "## <span style=\"color:#374045\"> Data, Stats and Math with Julia </span>\n",
    "\n",
    "\n",
    "#### <span style=\"color:#374045\"> Lecturer: </span> <span style=\"color:#d89216\"> <br> Dawie van Lill (dvanlill@sun.ac.za) </span>"
   ]
  },
  {
   "cell_type": "markdown",
   "metadata": {},
   "source": [
    "# Introduction"
   ]
  },
  {
   "cell_type": "markdown",
   "metadata": {},
   "source": [
    "In this tutorial we will start our discussion with how to work with data in Julia. We will then cover some basic statistics and in the last section move on to some fundamental ideas in mathematics (mostly related to calculus).  \n",
    "\n",
    "Please note that working with data in Julia is going to be different than working with data in Stata. I am just showing basic principles here so that you are aware of them. You do not need to memorise everything in this notebook. It is simply here as a good reference to have if you want to do some useful data work for macroeconomics. \n",
    "\n",
    "If you are more comfortable with Stata for working with data then you can continue on that path. I am simply offering an alternative. \n",
    "\n",
    "In the job market there are a few languages that are used for data analysis. The most popular ones are Stata, R, Python and Julia. At this stage Julia is not the most popular for data work, but it shares similarities with Python. So if you know Julia well, it will be easy to pick up Python. Julia is more popular for work related to numerical / scientific computation, which we will cover in some of the future tutorials. \n",
    "\n",
    "As an aside, you might be wondering why we chose Julia for this course. There are several reasons, but primarily it is because the language is easy to learn and is similar in syntax to Python. It is also blazingly fast!\n",
    "\n",
    "Why not learn Python then? Well, we considered this, but Julia is a just a bit easier to get started with and easier to install for most people. And also, it is super fast! I also believe that it is a language that will be used a lot in economics in the future, with a lot of macroeconomists starting to use it for their modelling purposes. \n",
    "\n",
    "If you are interested in Python as an alternative to Julia you can always contact me and I can refer you to some resources. However, for most students it is more important to get the programming principles right without worrying too much about the language that they are using. "
   ]
  },
  {
   "cell_type": "code",
   "execution_count": 105,
   "metadata": {},
   "outputs": [],
   "source": [
    "import Pkg"
   ]
  },
  {
   "cell_type": "code",
   "execution_count": 106,
   "metadata": {},
   "outputs": [
    {
     "name": "stderr",
     "output_type": "stream",
     "text": [
      "\u001b[32m\u001b[1m   Resolving\u001b[22m\u001b[39m package versions...\n",
      "\u001b[32m\u001b[1m  No Changes\u001b[22m\u001b[39m to `~/.julia/environments/v1.7/Project.toml`\n",
      "\u001b[32m\u001b[1m  No Changes\u001b[22m\u001b[39m to `~/.julia/environments/v1.7/Manifest.toml`\n",
      "\u001b[32m\u001b[1m   Resolving\u001b[22m\u001b[39m package versions...\n",
      "\u001b[32m\u001b[1m  No Changes\u001b[22m\u001b[39m to `~/.julia/environments/v1.7/Project.toml`\n",
      "\u001b[32m\u001b[1m  No Changes\u001b[22m\u001b[39m to `~/.julia/environments/v1.7/Manifest.toml`\n",
      "\u001b[32m\u001b[1m   Resolving\u001b[22m\u001b[39m package versions...\n",
      "\u001b[32m\u001b[1m  No Changes\u001b[22m\u001b[39m to `~/.julia/environments/v1.7/Project.toml`\n",
      "\u001b[32m\u001b[1m  No Changes\u001b[22m\u001b[39m to `~/.julia/environments/v1.7/Manifest.toml`\n",
      "\u001b[32m\u001b[1m   Resolving\u001b[22m\u001b[39m package versions...\n",
      "\u001b[32m\u001b[1m  No Changes\u001b[22m\u001b[39m to `~/.julia/environments/v1.7/Project.toml`\n",
      "\u001b[32m\u001b[1m  No Changes\u001b[22m\u001b[39m to `~/.julia/environments/v1.7/Manifest.toml`\n",
      "\u001b[32m\u001b[1m   Resolving\u001b[22m\u001b[39m package versions...\n",
      "\u001b[32m\u001b[1m  No Changes\u001b[22m\u001b[39m to `~/.julia/environments/v1.7/Project.toml`\n",
      "\u001b[32m\u001b[1m  No Changes\u001b[22m\u001b[39m to `~/.julia/environments/v1.7/Manifest.toml`\n",
      "\u001b[32m\u001b[1m   Resolving\u001b[22m\u001b[39m package versions...\n",
      "\u001b[32m\u001b[1m  No Changes\u001b[22m\u001b[39m to `~/.julia/environments/v1.7/Project.toml`\n",
      "\u001b[32m\u001b[1m  No Changes\u001b[22m\u001b[39m to `~/.julia/environments/v1.7/Manifest.toml`\n",
      "\u001b[32m\u001b[1m   Resolving\u001b[22m\u001b[39m package versions...\n",
      "\u001b[32m\u001b[1m  No Changes\u001b[22m\u001b[39m to `~/.julia/environments/v1.7/Project.toml`\n",
      "\u001b[32m\u001b[1m  No Changes\u001b[22m\u001b[39m to `~/.julia/environments/v1.7/Manifest.toml`\n",
      "\u001b[32m\u001b[1m   Resolving\u001b[22m\u001b[39m package versions...\n",
      "\u001b[32m\u001b[1m  No Changes\u001b[22m\u001b[39m to `~/.julia/environments/v1.7/Project.toml`\n",
      "\u001b[32m\u001b[1m  No Changes\u001b[22m\u001b[39m to `~/.julia/environments/v1.7/Manifest.toml`\n",
      "\u001b[32m\u001b[1m   Resolving\u001b[22m\u001b[39m package versions...\n",
      "\u001b[32m\u001b[1m  No Changes\u001b[22m\u001b[39m to `~/.julia/environments/v1.7/Project.toml`\n",
      "\u001b[32m\u001b[1m  No Changes\u001b[22m\u001b[39m to `~/.julia/environments/v1.7/Manifest.toml`\n",
      "\u001b[32m\u001b[1m   Resolving\u001b[22m\u001b[39m package versions...\n",
      "\u001b[32m\u001b[1m  No Changes\u001b[22m\u001b[39m to `~/.julia/environments/v1.7/Project.toml`\n",
      "\u001b[32m\u001b[1m  No Changes\u001b[22m\u001b[39m to `~/.julia/environments/v1.7/Manifest.toml`\n",
      "\u001b[32m\u001b[1m   Resolving\u001b[22m\u001b[39m package versions...\n",
      "\u001b[32m\u001b[1m  No Changes\u001b[22m\u001b[39m to `~/.julia/environments/v1.7/Project.toml`\n",
      "\u001b[32m\u001b[1m  No Changes\u001b[22m\u001b[39m to `~/.julia/environments/v1.7/Manifest.toml`\n",
      "\u001b[32m\u001b[1m   Resolving\u001b[22m\u001b[39m package versions...\n",
      "\u001b[32m\u001b[1m  No Changes\u001b[22m\u001b[39m to `~/.julia/environments/v1.7/Project.toml`\n",
      "\u001b[32m\u001b[1m  No Changes\u001b[22m\u001b[39m to `~/.julia/environments/v1.7/Manifest.toml`\n"
     ]
    }
   ],
   "source": [
    "Pkg.add(\"CategoricalArrays\")\n",
    "Pkg.add(\"CSV\")\n",
    "Pkg.add(\"DataFrames\")\n",
    "Pkg.add(\"DataFramesMeta\")\n",
    "Pkg.add(\"Downloads\")\n",
    "Pkg.add(\"GLM\")\n",
    "Pkg.add(\"Plots\")\n",
    "Pkg.add(\"Random\")\n",
    "Pkg.add(\"RDatasets\")\n",
    "Pkg.add(\"Roots\")\n",
    "Pkg.add(\"ShiftedArrays\")\n",
    "Pkg.add(\"Statistics\")"
   ]
  },
  {
   "cell_type": "code",
   "execution_count": 107,
   "metadata": {},
   "outputs": [],
   "source": [
    "using CategoricalArrays\n",
    "using CSV\n",
    "using DataFrames\n",
    "using DataFramesMeta\n",
    "using Downloads\n",
    "using GLM\n",
    "using Plots\n",
    "using Random\n",
    "using RDatasets\n",
    "using Roots\n",
    "using ShiftedArrays\n",
    "using Statistics"
   ]
  },
  {
   "cell_type": "markdown",
   "metadata": {},
   "source": [
    "# Working with data"
   ]
  },
  {
   "cell_type": "markdown",
   "metadata": {},
   "source": [
    "The primary package for working with data in Julia is `DataFrames.jl`. For a comprehensive tutorial series on this package I would recommend Bogumił Kamiński's [Introduction to DataFrames](https://github.com/bkamins/Julia-DataFrames-Tutorial)."
   ]
  },
  {
   "cell_type": "markdown",
   "metadata": {},
   "source": [
    "# DataFrames basics"
   ]
  },
  {
   "cell_type": "markdown",
   "metadata": {},
   "source": [
    "In this section we discuss basic principles from the DataFrames package. For the first topic we look at how to construct and access DataFrames. The fundamental object that we care about is the `DataFrame`. This is similar to a `dataframe` that you would find in R or in Pandas (Python).\n",
    "\n",
    "DataFrames are essentially matrices, with the rows being observations and the columns indicating the variables. "
   ]
  },
  {
   "cell_type": "markdown",
   "metadata": {},
   "source": [
    "## Constructors"
   ]
  },
  {
   "cell_type": "markdown",
   "metadata": {},
   "source": [
    "The easiest thing to construct is an empty DataFrame. "
   ]
  },
  {
   "cell_type": "code",
   "execution_count": null,
   "metadata": {},
   "outputs": [],
   "source": [
    "DataFrame() # empty DataFrame"
   ]
  },
  {
   "cell_type": "markdown",
   "metadata": {},
   "source": [
    "You could also construct a DataFrame with different keyword arguments. Notice the different types of the different columns. "
   ]
  },
  {
   "cell_type": "code",
   "execution_count": null,
   "metadata": {},
   "outputs": [],
   "source": [
    "DataFrame(A = 2:5, B = randn(4), C = \"Hello\")"
   ]
  },
  {
   "cell_type": "markdown",
   "metadata": {},
   "source": [
    "One of the most common ways to use constructors is through arrays. "
   ]
  },
  {
   "cell_type": "code",
   "execution_count": null,
   "metadata": {},
   "outputs": [],
   "source": [
    "commodities = [\"crude\", \"gas\", \"gold\", \"silver\"]\n",
    "last_price = [4.2, 11.3, 12.1, missing] # notice that the last value is missing\n",
    "\n",
    "df = DataFrame(commod = commodities, price = last_price) # give names to columns"
   ]
  },
  {
   "cell_type": "markdown",
   "metadata": {},
   "source": [
    "One can also easily add a new row to an existing `DataFrame` using the `push!` function. This is equivalent to adding new observations to the variables. "
   ]
  },
  {
   "cell_type": "code",
   "execution_count": null,
   "metadata": {},
   "outputs": [],
   "source": [
    "new_row = (commod = \"nickel\", price = 5.1)\n",
    "push!(df, new_row)"
   ]
  },
  {
   "cell_type": "markdown",
   "metadata": {},
   "source": [
    "One could also use array comprehensions to generate values for the DataFrame,  "
   ]
  },
  {
   "cell_type": "code",
   "execution_count": null,
   "metadata": {},
   "outputs": [],
   "source": [
    "DataFrame([rand(3) for i in 1:3], [:x1, :x2, :x3]) # see how we named the columns"
   ]
  },
  {
   "cell_type": "markdown",
   "metadata": {},
   "source": [
    "You can also create a DataFrame from a matrix, "
   ]
  },
  {
   "cell_type": "code",
   "execution_count": null,
   "metadata": {},
   "outputs": [],
   "source": [
    "x = DataFrame(rand(3, 3), :auto) # automatically assign column names"
   ]
  },
  {
   "cell_type": "markdown",
   "metadata": {},
   "source": [
    "Incidentally, you can convert the DataFrame into a matrix or array if you so wished, "
   ]
  },
  {
   "cell_type": "code",
   "execution_count": null,
   "metadata": {},
   "outputs": [],
   "source": [
    "Matrix(x)"
   ]
  },
  {
   "cell_type": "markdown",
   "metadata": {},
   "source": [
    "In the next section we talk about accessing the element of a DataFrame as well as looking at some basic information about the DataFrame that we have on hand.  "
   ]
  },
  {
   "cell_type": "markdown",
   "metadata": {},
   "source": [
    "## Accessing data"
   ]
  },
  {
   "cell_type": "markdown",
   "metadata": {},
   "source": [
    "Once we have our data set up in a DataFrame, we are often going to want to know some basic things about the contents. Let us construct a relatively large DataFrame. Most of the time we will be working with large datasets in economics, with thousands of rows and columns. You might be used to working with data in Excel, so things might feel foreign right now. However, I promise that once you start working with data in a programming language such as R, Julia or Python, your productivity will greatly increase. You only need to get over that initial apprehension on learning something new. "
   ]
  },
  {
   "cell_type": "code",
   "execution_count": null,
   "metadata": {},
   "outputs": [],
   "source": [
    "y = DataFrame(rand(1:10, 1000, 10), :auto);"
   ]
  },
  {
   "cell_type": "markdown",
   "metadata": {},
   "source": [
    "We can get some basic summary statistics on the data in the DataFrame using the `describe` function. "
   ]
  },
  {
   "cell_type": "code",
   "execution_count": null,
   "metadata": {},
   "outputs": [],
   "source": [
    "describe(y)"
   ]
  },
  {
   "cell_type": "markdown",
   "metadata": {},
   "source": [
    "If we want to take a peak at the first few rows of the data we can use the `first` function. "
   ]
  },
  {
   "cell_type": "code",
   "execution_count": null,
   "metadata": {},
   "outputs": [],
   "source": [
    "first(y, 5) # first 5 rows"
   ]
  },
  {
   "cell_type": "markdown",
   "metadata": {},
   "source": [
    "There are multiple ways to access particular columns of the DataFrame that we have created. The most obvious way is to to use `y.col` where `col` stands for the column name. This provides us the column in vector format. "
   ]
  },
  {
   "cell_type": "code",
   "execution_count": null,
   "metadata": {},
   "outputs": [],
   "source": [
    "y.x2; # get a single column"
   ]
  },
  {
   "cell_type": "markdown",
   "metadata": {},
   "source": [
    "Another interesting way to access the column is the following, "
   ]
  },
  {
   "cell_type": "code",
   "execution_count": null,
   "metadata": {},
   "outputs": [],
   "source": [
    "y[!, :x2]; # or y[!, 2] or y[:, :x2]"
   ]
  },
  {
   "cell_type": "markdown",
   "metadata": {},
   "source": [
    "You can access several columns (the first two in this case) with the following command, "
   ]
  },
  {
   "cell_type": "code",
   "execution_count": null,
   "metadata": {},
   "outputs": [],
   "source": [
    "y[:, [:x1, :x2]];"
   ]
  },
  {
   "cell_type": "markdown",
   "metadata": {},
   "source": [
    "Getting rows is also quite easy (and similar to the way in which we access rows in arrays), "
   ]
  },
  {
   "cell_type": "code",
   "execution_count": null,
   "metadata": {},
   "outputs": [],
   "source": [
    "y[1, :]"
   ]
  },
  {
   "cell_type": "markdown",
   "metadata": {},
   "source": [
    "With the code above you can also easily change the values in the DataFrame. We could, for example, multiply each of the values in the second column by $2$ if we wanted. "
   ]
  },
  {
   "cell_type": "code",
   "execution_count": null,
   "metadata": {},
   "outputs": [],
   "source": [
    "first(y.x2, 2) # observe first two values in the column"
   ]
  },
  {
   "cell_type": "code",
   "execution_count": null,
   "metadata": {},
   "outputs": [],
   "source": [
    "z = y[!, :x2]; \n",
    "z *= 2; # multiply column by two\n",
    "\n",
    "first(z, 2) # observe newly mutated column"
   ]
  },
  {
   "cell_type": "code",
   "execution_count": null,
   "metadata": {},
   "outputs": [],
   "source": [
    "first(y.x2, 2) # important to note that this is unchanged"
   ]
  },
  {
   "cell_type": "markdown",
   "metadata": {},
   "source": [
    "# Importing data"
   ]
  },
  {
   "cell_type": "markdown",
   "metadata": {},
   "source": [
    "Now let us import some data and play around with it a bit. This is generally referred to as data wrangling. If you want to become a data scientist, then significant portion of your work is going to involve gathering and cleaning data. The analysis part only makes up a small percentage. "
   ]
  },
  {
   "cell_type": "markdown",
   "metadata": {},
   "source": [
    "I have created a dataset that is hosted on github at the following location -- https://github.com/DawievLill/Macro-318/blob/main/data/tut2_data.csv\n",
    "\n",
    "Now let us download this data with Julia. This is one possible way to do it. "
   ]
  },
  {
   "cell_type": "code",
   "execution_count": null,
   "metadata": {},
   "outputs": [],
   "source": [
    "Downloads.download(\n",
    "    \"https://raw.githubusercontent.com/DawievLill/Macro-318/main/data/tut2_data.csv\", \n",
    "    \"tut2_data.csv\"\n",
    ")"
   ]
  },
  {
   "cell_type": "markdown",
   "metadata": {},
   "source": [
    "Now get the data into Julia!"
   ]
  },
  {
   "cell_type": "code",
   "execution_count": null,
   "metadata": {},
   "outputs": [],
   "source": [
    "sa_data = DataFrame(CSV.File(\"tut2_data.csv\", dateformat = \"yyyy/mm/dd\")) # specify the date format"
   ]
  },
  {
   "cell_type": "markdown",
   "metadata": {},
   "source": [
    "Alternatively, we could have done the following, since we know the data is located in the `data` folder, "
   ]
  },
  {
   "cell_type": "code",
   "execution_count": null,
   "metadata": {},
   "outputs": [],
   "source": [
    "sa_data_1 = DataFrame(CSV.File(\"../data/tut2_data.csv\")); # if you don't understand this piece of code, you can simply move on. "
   ]
  },
  {
   "cell_type": "markdown",
   "metadata": {},
   "source": [
    "So we have succesfully imported data into Julia. What can we do with this data? We see that the data contains information on GDP, the repo rate, CPI and inflation. The first thing that we might want to do is visualise the data. This is always a good first step. After that we might want to look at some basic descriptive statistics, to get an idea of the properties of the data. "
   ]
  },
  {
   "cell_type": "markdown",
   "metadata": {},
   "source": [
    "## Plotting the data"
   ]
  },
  {
   "cell_type": "markdown",
   "metadata": {},
   "source": [
    "For us to plot the data let us look at one the variables in the dataset. \n",
    "\n",
    "Let us consider GDP, which is the second column in the dataset. We can access GDP by calling the variable name, but we can also use the fact that it is located in the second column of the table. "
   ]
  },
  {
   "cell_type": "code",
   "execution_count": null,
   "metadata": {},
   "outputs": [],
   "source": [
    "gdp_1 = sa_data.gdp;\n",
    "gdp_2 = sa_data[!, 2];\n",
    "gdp_3 = sa_data[!, :gdp];"
   ]
  },
  {
   "cell_type": "markdown",
   "metadata": {},
   "source": [
    "We can check whether these variables give the same result as follows, "
   ]
  },
  {
   "cell_type": "code",
   "execution_count": null,
   "metadata": {},
   "outputs": [],
   "source": [
    "gdp_1 == gdp_2 == gdp_3 # check that these give exactly the same result"
   ]
  },
  {
   "cell_type": "markdown",
   "metadata": {},
   "source": [
    "Now let us draw a basic plot of GDP and see if it aligns with your expectation of what GDP would look like in level terms. You can also compare this with US GDP in Chapter 2 of the Williamson textbook. I have used **nominal GDP** in this dataset. \n",
    "\n",
    "We will compare nominal with real GDP soon, with a simple calculation involving the inflation rate (although technically we should be using the GDP deflator to move from nominal to real terms).  "
   ]
  },
  {
   "cell_type": "code",
   "execution_count": null,
   "metadata": {},
   "outputs": [],
   "source": [
    "date_sa = sa_data[!, :date]\n",
    "plot(date_sa, gdp_1, legend = false, lw = 1.5)"
   ]
  },
  {
   "cell_type": "markdown",
   "metadata": {},
   "source": [
    "One of the most popular transformations of GDP data is to take a natural logarithm. The reason for this is that differences between adjacent values in the GDP series represent growth rates once the series is \"logged\". We will get back to this point at a later stage. If we take a natural log of the series then the plot of GDP looks as follows, "
   ]
  },
  {
   "cell_type": "code",
   "execution_count": null,
   "metadata": {},
   "outputs": [],
   "source": [
    "log_gdp = log.(gdp_1); # remember the dot syntax, since we are broadcasting the log over all the values of GDP"
   ]
  },
  {
   "cell_type": "code",
   "execution_count": null,
   "metadata": {},
   "outputs": [],
   "source": [
    "plot(date_sa, log_gdp, legend = false, lw = 1.5)"
   ]
  },
  {
   "cell_type": "markdown",
   "metadata": {},
   "source": [
    "You will see that the scale on the y-axis has changed after this transformation. The slope of this graph indicates the growth rate. A point that we will touch on soon. "
   ]
  },
  {
   "cell_type": "markdown",
   "metadata": {},
   "source": [
    "We can also plot some of the other variables in our dataset, such as the inflation rate. "
   ]
  },
  {
   "cell_type": "code",
   "execution_count": null,
   "metadata": {},
   "outputs": [],
   "source": [
    "inflation_rate = sa_data.inflation\n",
    "plot(date_sa, inflation_rate, legend = false, lw = 1.5)\n",
    "plot!([0], legend = false, lw = 1.5, seriestype = :hline, color = :black, ls = :dash, alpha = 0.5)"
   ]
  },
  {
   "cell_type": "markdown",
   "metadata": {},
   "source": [
    "# Descriptive statistics"
   ]
  },
  {
   "cell_type": "markdown",
   "metadata": {},
   "source": [
    "Some of the most widely used statistics are the mean (average) and standard deviation. They can be easily computed with the computer as follows,  "
   ]
  },
  {
   "cell_type": "code",
   "execution_count": null,
   "metadata": {},
   "outputs": [],
   "source": [
    "inflation_1 = sa_data[!, :inflation] # select the inflation column\n",
    "mean(inflation_1) # mean value of inflation"
   ]
  },
  {
   "cell_type": "code",
   "execution_count": null,
   "metadata": {},
   "outputs": [],
   "source": [
    "std(inflation_1) # standard deviation of inflation"
   ]
  },
  {
   "cell_type": "markdown",
   "metadata": {},
   "source": [
    "Let us plot a histogram for the data and also indicate where the mean is in this plot. "
   ]
  },
  {
   "cell_type": "code",
   "execution_count": null,
   "metadata": {},
   "outputs": [],
   "source": [
    "histogram(inflation_1, legend = false, alpha = 0.5, bins = 20) # a histogram gives a general idea of what the distribution of values for inflation looks like.\n",
    "plot!([mean(inflation_1)],  seriestype = :vline, lw = 3, colour = :black, ls = :dash) # plots the mean value"
   ]
  },
  {
   "cell_type": "markdown",
   "metadata": {},
   "source": [
    "# Growth rates"
   ]
  },
  {
   "cell_type": "markdown",
   "metadata": {},
   "source": [
    "Mathematics is so much easier when we get to use a computer. In this section I will introduce some of the basic mathematical theory that you need as a macroeconomist and then we will show you how that relates to programming."
   ]
  },
  {
   "cell_type": "markdown",
   "metadata": {},
   "source": [
    "Computing growth rates is quite important in macroeconomics. This is something that you will frequently encounter and it is important to know how to do this. The growth rate between subsequent two dates can be calculated as follows, \n",
    "\n",
    "$$\n",
    "\\left(\\frac{Y_{t} - Y_{t-1}}{Y_{t-1}}\\right) \\times 100 = \\left(\\frac{Y_{t}}{Y_{t-1}} - 1\\right) \\times 100 \n",
    "$$\n"
   ]
  },
  {
   "cell_type": "markdown",
   "metadata": {},
   "source": [
    "If you are working with quarterly data and want to calculate the growth rate from one quarter to the same quarter next year then you should use, \n",
    "\n",
    "$$\n",
    "\\left(\\frac{Y_{t}}{Y_{t-4}} - 1\\right) \\times 100 \n",
    "$$\n",
    "\n",
    "In addition, we can calculate the monthly or quarterly growth rate at an annual rate, \n",
    "\n",
    "$$\n",
    "\\left(\\left[\\frac{Y_{t}}{Y_{t-1}}\\right]^{n} - 1\\right) \\times 100 \n",
    "$$\n",
    "where $n = 4$ represents quarterly growth and $n = 12$ gives monthly growth. "
   ]
  },
  {
   "cell_type": "markdown",
   "metadata": {},
   "source": [
    "Finally, we can calculate the average growth rate over $n$ years with the following formula, \n",
    "\n",
    "$$\n",
    "\\left(\\left[\\frac{Y_{t}}{Y_{t-n}}\\right]^{1/n} - 1\\right) \\times 100 \n",
    "$$"
   ]
  },
  {
   "cell_type": "markdown",
   "metadata": {},
   "source": [
    "### Examples of growth rate calculations"
   ]
  },
  {
   "cell_type": "markdown",
   "metadata": {},
   "source": [
    "Let us try calculating some growth rates with the data at hand. We will focus on GDP growth rates for this example, "
   ]
  },
  {
   "cell_type": "code",
   "execution_count": null,
   "metadata": {},
   "outputs": [],
   "source": [
    "gdp_first = sa_data[1, :gdp]; # first value of the GDP series\n",
    "gdp_second = sa_data[2, :gdp]; # second value of the GDP series\n",
    "\n",
    "gdp_growth_1 = ((gdp_second - gdp_first)/gdp_first) * 100 # using the formula for growth between two periods. "
   ]
  },
  {
   "cell_type": "markdown",
   "metadata": {},
   "source": [
    "There is an alternative way to calculate an approximation to the growth rate from above. We can simply take the natural logarithm of the two values and subtract them from each other. In other words we have that, \n",
    "\n",
    "$$\n",
    "\\left(\\frac{Y_{t}}{Y_{t-1}} - 1\\right) \\times 100 \\approx \\log(Y_{t}) - \\log(Y_{t-1}) \\times 100\n",
    "$$\n"
   ]
  },
  {
   "cell_type": "code",
   "execution_count": null,
   "metadata": {},
   "outputs": [],
   "source": [
    "(log(gdp_second) - log(gdp_first)) * 100"
   ]
  },
  {
   "cell_type": "markdown",
   "metadata": {},
   "source": [
    "The values are not exactly the same. This is simply an approximation which is often used in practice. "
   ]
  },
  {
   "cell_type": "markdown",
   "metadata": {},
   "source": [
    "As another example, let us calculate the quarterly growth rate of GDP and then plot the resulting values. This calculation is a bit more tricky since we are now going to apply it to the entire dataset. Let me explain the logic of what we are going to do here. \n",
    "\n",
    "First, we are going to create a new column that contains a lagged version of the original column for GDP. Why do we want to do this? The reason is that we want to be able to divide $Y_t$ by $Y_{t-4}$ from our formula above. However, we only have values for $Y_t$ in the $t$-th column and not $Y_{t-4}$. So for every row we need to create a corresponding lagged version of the original column. Before we do anything, let us take a look at the first few values of the dataset to see what we need to change. We only care about the first two columns, so we will only select those. "
   ]
  },
  {
   "cell_type": "code",
   "execution_count": null,
   "metadata": {},
   "outputs": [],
   "source": [
    "first(sa_data[!, 1:2], 8)"
   ]
  },
  {
   "cell_type": "code",
   "execution_count": null,
   "metadata": {},
   "outputs": [],
   "source": [
    "sa_data.lagged_gdp = lag(sa_data[!, 2], 4);"
   ]
  },
  {
   "cell_type": "markdown",
   "metadata": {},
   "source": [
    "We can see that the lagged GDP column has successfully been created and added to the DataFrame. "
   ]
  },
  {
   "cell_type": "code",
   "execution_count": null,
   "metadata": {},
   "outputs": [],
   "source": [
    "first(sa_data[!, :], 8) "
   ]
  },
  {
   "cell_type": "markdown",
   "metadata": {},
   "source": [
    "Now we can calculate the growth rate, "
   ]
  },
  {
   "cell_type": "code",
   "execution_count": null,
   "metadata": {},
   "outputs": [],
   "source": [
    "gdp_growth_quarterly = (log.(sa_data.gdp) .- log.(sa_data.lagged_gdp)) .* 100; # log method\n",
    "gdp_growth_quarterly_1 = ((sa_data.gdp ./ sa_data.lagged_gdp) .- 1) .* 100; # formula method"
   ]
  },
  {
   "cell_type": "code",
   "execution_count": null,
   "metadata": {},
   "outputs": [],
   "source": [
    "plot(date_sa, gdp_growth_quarterly, legend = false, lw = 2, alpha = 0.7) # log method\n",
    "plot!(date_sa, gdp_growth_quarterly_1, legend = false, lw = 2, ls = :dash, color = :black) # formula method"
   ]
  },
  {
   "cell_type": "markdown",
   "metadata": {},
   "source": [
    "For the other formulas you can perform similar calculations. As an exercise you can attempt to use the other formulas to calculate annualised growth rates. "
   ]
  },
  {
   "cell_type": "markdown",
   "metadata": {},
   "source": []
  },
  {
   "cell_type": "markdown",
   "metadata": {},
   "source": [
    "# Basic math for macroeconomics"
   ]
  },
  {
   "cell_type": "markdown",
   "metadata": {},
   "source": [
    "In this section we will be discussing very basic mathematical concepts that relate to mathematical modeling. For this section we will be making heavy use of the notes on mathematics for economists by [Fan Wang](https://fanwangecon.github.io/Math4Econ/). Please go look at his website for more cool notes and give his repository a star. His code is mostly in Matlab, but he also has some Python and R code. You can easily translate Matlab to Julia, since the syntax of the languages are quite similar.  \n",
    "\n"
   ]
  },
  {
   "cell_type": "markdown",
   "metadata": {},
   "source": [
    "## Functions"
   ]
  },
  {
   "cell_type": "markdown",
   "metadata": {},
   "source": [
    "A function is a **rule** that assigns to every element of $x \\in X$ a **single element** of the set $Y$. This is written as, \n",
    "\n",
    "$$\n",
    "f:X \\rightarrow Y\n",
    "$$\n",
    "\n",
    "The arrow indicates the mapping from the one set to another. When we write $y = f(x)$ we are mapping from the argument $x$ in the domain $X$ to a value in the co-domain $Y$. \n",
    "\n",
    "It is important to note that for a function we are assigning a single element from the set $X$ to the set $Y$.\n",
    "\n",
    "Let us illustrate this with some examples of functions and non-functions in Julia. "
   ]
  },
  {
   "cell_type": "code",
   "execution_count": null,
   "metadata": {},
   "outputs": [],
   "source": [
    "x = 0:π/100:2π\n",
    "y = sin.(x)\n",
    "\n",
    "plot(x, y, title = \"This is a function\", legend = false, lw = 2)"
   ]
  },
  {
   "cell_type": "markdown",
   "metadata": {},
   "source": [
    "The function above is a portion of the $\\sin$ function over the interval from $0$ to $2\\pi$. However, the following graph that depicts a circle is not a function. It is a relation, but NOT a function. Can you see why this is the case? What is the defining feature of a function?"
   ]
  },
  {
   "cell_type": "code",
   "execution_count": null,
   "metadata": {},
   "outputs": [],
   "source": [
    "x = 1; y = 1; r = 1\n",
    "θ = 0:π/50:2π\n",
    "\n",
    "x_unit = r .* cos.(θ) .+ x\n",
    "y_unit = r .* sin.(θ) .+ y\n",
    "\n",
    "plot(x_unit, y_unit, title = \"This is NOT a function\", legend = false, lw = 2)"
   ]
  },
  {
   "cell_type": "markdown",
   "metadata": {},
   "source": [
    "A linear function, which is also known as polynomial of degree 1 has slope $m$ and intercept $b$. Linear functions have constant slope. We will encounter the idea of slope again later when we talk about derivatives. "
   ]
  },
  {
   "cell_type": "code",
   "execution_count": null,
   "metadata": {},
   "outputs": [],
   "source": [
    "m = 0.5 # slope\n",
    "b = 1 # intercept\n",
    "\n",
    "ar_x = LinRange(-5, 10, 100)\n",
    "ar_y = ar_x .* m .+ b\n",
    "\n",
    "plot(ar_x, ar_y, legend = false, title = \"Linear function with slope $m and intercept $b\", lw = 2)\n",
    "\n",
    "vline!([0], ls = :dash, color = :black, alpha = 0.5, xticks = ([-2]))\n",
    "hline!([0], ls = :dash, color = :red, alpha = 0.5, yticks = ([1]))"
   ]
  },
  {
   "cell_type": "markdown",
   "metadata": {},
   "source": [
    "In high school you probably determined the slope of this function using a the method of rise over run. In other words, the change in $y$ over the change in $x$. More \"formally\", you calculated $m = \\frac{\\Delta{y}}{\\Delta{x}}$. In this example, $\\Delta{y} = 1 - 0$ and $\\Delta{x} = 0 - (-2)$, so we have that $m = 1 / 2 = 0.5$. We will talk about this method of using a difference quotient again when we want to calculate the slope of a tangent line to a function in the section on derivatives. "
   ]
  },
  {
   "cell_type": "markdown",
   "metadata": {},
   "source": [
    "## Monomials and polynomials\n"
   ]
  },
  {
   "cell_type": "markdown",
   "metadata": {},
   "source": [
    "Functions that take the form $a \\cdot x^{k}$ are considered **monomials**. In this case $a$ is any real number and $k$ is a positive integer. The value of $k$ represent the degree of the monomial. Monomials can be added together to form **polynomials**. A general formulation for a polynomial of degree four would be, \n",
    "\n",
    "$$\n",
    "a + b\\cdot{x} + c \\cdot x^2 + d \\cdot x^3 + e \\cdot x^4\n",
    "$$\n",
    "\n",
    "where the coefficients $a, b, c, d, e$ could be positive or negative. In order to determine the degree of the polynomial, consider the monomials that constitute the polynomial. The monomial with the highest degree determines the degree of the whole polynomial. An explicit representation of a polynomial that you should all know quite well is something along the following lines, \n",
    "\n",
    "$$\n",
    "y = 2 + 5x^2\n",
    "$$\n",
    "\n",
    "Can you identify what the degree of this polynomial is? Let us plot some polynomials to get an idea of what they look like. \n"
   ]
  },
  {
   "cell_type": "code",
   "execution_count": null,
   "metadata": {},
   "outputs": [],
   "source": [
    "x = -1:0.01:1\n",
    "y = 2 .+ 5 .* x .^ 2\n",
    "\n",
    "plot(x, y, legend = false, title = \"Polynomial of degree two\", lw = 2)"
   ]
  },
  {
   "cell_type": "markdown",
   "metadata": {},
   "source": [
    "Let us plot a polynomial of a degree three to see how this might differ. "
   ]
  },
  {
   "cell_type": "code",
   "execution_count": null,
   "metadata": {},
   "outputs": [],
   "source": [
    "x = -3:0.01:3\n",
    "y = 2 .- 1 .* x .^ 2 .- 10 .* x .^ 3\n",
    "\n",
    "plot(x, y, legend = false, title = \"Polynomial of degree three\", lw = 2)"
   ]
  },
  {
   "cell_type": "markdown",
   "metadata": {},
   "source": [
    "## Local and global maximum"
   ]
  },
  {
   "cell_type": "markdown",
   "metadata": {},
   "source": [
    "A function $f$ has a global maximum at $x^{*} \\in X$ if for all $x \\in X$, $f(x) \\leq f(x^{*})$. A function $f$ has a local maximum at $x^{*} \\in X$ if there exists and open interval $(a, b)$ such that $x^{*} \\in (a, b)$, and for all $x \\in (a, b), f(x) \\leq f(x^{x})$. Not all functions have a maximum. \n",
    "\n",
    "We are going to be dealing with functions such as utility functions, production functions and budget constraints in many of our economics models. \n",
    "\n",
    "As an example, in the case of a utility function the household is choosing the bundle of goods that provides the highest level of utility. \n",
    "\n",
    "Most production and utility functions will NOT have a local or global maximum. \n",
    "\n",
    "In the case of a log-utility function, higher consumption will give higher levels of utility, so no maximum exists here either. \n",
    "\n",
    "If we have a Cobb-Douglas production function, then output will increase with labour and capital. This means that the function is even increasing in its inputs and has not maximum. \n",
    "\n",
    "**NB**: It is only when we combine our preferences with a budget that we will be able to think about the optimal bindle choice given a fixed budget. The maximisation problem in this case will reveal some maximum. We will cover this example at length in the next tutorial. "
   ]
  },
  {
   "cell_type": "markdown",
   "metadata": {},
   "source": [
    "### Quadratic utility"
   ]
  },
  {
   "cell_type": "markdown",
   "metadata": {},
   "source": [
    "There is one nice utility function that has a maximum, the quadratic utility function. \n",
    "\n",
    "$$\n",
    "U(x) = x - \\alpha \\cdot x^2\n",
    "$$"
   ]
  },
  {
   "cell_type": "markdown",
   "metadata": {},
   "source": [
    "We can quickly draw a plot of this utility function and by inspection determine where the maximum is going to be. The most efficient way to determine the maximum would be using a derivative and setting it equal to zero. However, we haven't introduced derivatives yet, so let us use this inefficient way to determine the maximum for now. "
   ]
  },
  {
   "cell_type": "code",
   "execution_count": 108,
   "metadata": {},
   "outputs": [
    {
     "data": {
      "image/svg+xml": "<?xml version=\"1.0\" encoding=\"utf-8\"?>\n<svg xmlns=\"http://www.w3.org/2000/svg\" xmlns:xlink=\"http://www.w3.org/1999/xlink\" width=\"600\" height=\"400\" viewBox=\"0 0 2400 1600\">\n<defs>\n  <clipPath id=\"clip590\">\n    <rect x=\"0\" y=\"0\" width=\"2400\" height=\"1600\"/>\n  </clipPath>\n</defs>\n<path clip-path=\"url(#clip590)\" d=\"\nM0 1600 L2400 1600 L2400 0 L0 0  Z\n  \" fill=\"#ffffff\" fill-rule=\"evenodd\" fill-opacity=\"1\"/>\n<defs>\n  <clipPath id=\"clip591\">\n    <rect x=\"480\" y=\"0\" width=\"1681\" height=\"1600\"/>\n  </clipPath>\n</defs>\n<path clip-path=\"url(#clip590)\" d=\"\nM178.867 1486.45 L2352.76 1486.45 L2352.76 123.472 L178.867 123.472  Z\n  \" fill=\"#ffffff\" fill-rule=\"evenodd\" fill-opacity=\"1\"/>\n<defs>\n  <clipPath id=\"clip592\">\n    <rect x=\"178\" y=\"123\" width=\"2175\" height=\"1364\"/>\n  </clipPath>\n</defs>\n<polyline clip-path=\"url(#clip592)\" style=\"stroke:#000000; stroke-linecap:butt; stroke-linejoin:round; stroke-width:2; stroke-opacity:0.1; fill:none\" points=\"\n  240.392,1486.45 240.392,123.472 \n  \"/>\n<polyline clip-path=\"url(#clip592)\" style=\"stroke:#000000; stroke-linecap:butt; stroke-linejoin:round; stroke-width:2; stroke-opacity:0.1; fill:none\" points=\"\n  753.102,1486.45 753.102,123.472 \n  \"/>\n<polyline clip-path=\"url(#clip592)\" style=\"stroke:#000000; stroke-linecap:butt; stroke-linejoin:round; stroke-width:2; stroke-opacity:0.1; fill:none\" points=\"\n  1265.81,1486.45 1265.81,123.472 \n  \"/>\n<polyline clip-path=\"url(#clip592)\" style=\"stroke:#000000; stroke-linecap:butt; stroke-linejoin:round; stroke-width:2; stroke-opacity:0.1; fill:none\" points=\"\n  1778.52,1486.45 1778.52,123.472 \n  \"/>\n<polyline clip-path=\"url(#clip592)\" style=\"stroke:#000000; stroke-linecap:butt; stroke-linejoin:round; stroke-width:2; stroke-opacity:0.1; fill:none\" points=\"\n  2291.23,1486.45 2291.23,123.472 \n  \"/>\n<polyline clip-path=\"url(#clip590)\" style=\"stroke:#000000; stroke-linecap:butt; stroke-linejoin:round; stroke-width:4; stroke-opacity:1; fill:none\" points=\"\n  178.867,1486.45 2352.76,1486.45 \n  \"/>\n<polyline clip-path=\"url(#clip590)\" style=\"stroke:#000000; stroke-linecap:butt; stroke-linejoin:round; stroke-width:4; stroke-opacity:1; fill:none\" points=\"\n  240.392,1486.45 240.392,1467.55 \n  \"/>\n<polyline clip-path=\"url(#clip590)\" style=\"stroke:#000000; stroke-linecap:butt; stroke-linejoin:round; stroke-width:4; stroke-opacity:1; fill:none\" points=\"\n  753.102,1486.45 753.102,1467.55 \n  \"/>\n<polyline clip-path=\"url(#clip590)\" style=\"stroke:#000000; stroke-linecap:butt; stroke-linejoin:round; stroke-width:4; stroke-opacity:1; fill:none\" points=\"\n  1265.81,1486.45 1265.81,1467.55 \n  \"/>\n<polyline clip-path=\"url(#clip590)\" style=\"stroke:#000000; stroke-linecap:butt; stroke-linejoin:round; stroke-width:4; stroke-opacity:1; fill:none\" points=\"\n  1778.52,1486.45 1778.52,1467.55 \n  \"/>\n<polyline clip-path=\"url(#clip590)\" style=\"stroke:#000000; stroke-linecap:butt; stroke-linejoin:round; stroke-width:4; stroke-opacity:1; fill:none\" points=\"\n  2291.23,1486.45 2291.23,1467.55 \n  \"/>\n<path clip-path=\"url(#clip590)\" d=\"M194.455 1532.02 L224.13 1532.02 L224.13 1535.95 L194.455 1535.95 L194.455 1532.02 Z\" fill=\"#000000\" fill-rule=\"evenodd\" fill-opacity=\"1\" /><path clip-path=\"url(#clip590)\" d=\"M235.033 1544.91 L242.672 1544.91 L242.672 1518.55 L234.362 1520.21 L234.362 1515.95 L242.626 1514.29 L247.301 1514.29 L247.301 1544.91 L254.94 1544.91 L254.94 1548.85 L235.033 1548.85 L235.033 1544.91 Z\" fill=\"#000000\" fill-rule=\"evenodd\" fill-opacity=\"1\" /><path clip-path=\"url(#clip590)\" d=\"M274.385 1517.37 Q270.774 1517.37 268.945 1520.93 Q267.139 1524.47 267.139 1531.6 Q267.139 1538.71 268.945 1542.27 Q270.774 1545.82 274.385 1545.82 Q278.019 1545.82 279.824 1542.27 Q281.653 1538.71 281.653 1531.6 Q281.653 1524.47 279.824 1520.93 Q278.019 1517.37 274.385 1517.37 M274.385 1513.66 Q280.195 1513.66 283.25 1518.27 Q286.329 1522.85 286.329 1531.6 Q286.329 1540.33 283.25 1544.94 Q280.195 1549.52 274.385 1549.52 Q268.575 1549.52 265.496 1544.94 Q262.44 1540.33 262.44 1531.6 Q262.44 1522.85 265.496 1518.27 Q268.575 1513.66 274.385 1513.66 Z\" fill=\"#000000\" fill-rule=\"evenodd\" fill-opacity=\"1\" /><path clip-path=\"url(#clip590)\" d=\"M722.743 1532.02 L752.419 1532.02 L752.419 1535.95 L722.743 1535.95 L722.743 1532.02 Z\" fill=\"#000000\" fill-rule=\"evenodd\" fill-opacity=\"1\" /><path clip-path=\"url(#clip590)\" d=\"M762.558 1514.29 L780.914 1514.29 L780.914 1518.22 L766.84 1518.22 L766.84 1526.7 Q767.858 1526.35 768.877 1526.19 Q769.895 1526 770.914 1526 Q776.701 1526 780.081 1529.17 Q783.46 1532.34 783.46 1537.76 Q783.46 1543.34 779.988 1546.44 Q776.516 1549.52 770.196 1549.52 Q768.02 1549.52 765.752 1549.15 Q763.507 1548.78 761.099 1548.04 L761.099 1543.34 Q763.183 1544.47 765.405 1545.03 Q767.627 1545.58 770.104 1545.58 Q774.108 1545.58 776.446 1543.48 Q778.784 1541.37 778.784 1537.76 Q778.784 1534.15 776.446 1532.04 Q774.108 1529.94 770.104 1529.94 Q768.229 1529.94 766.354 1530.35 Q764.502 1530.77 762.558 1531.65 L762.558 1514.29 Z\" fill=\"#000000\" fill-rule=\"evenodd\" fill-opacity=\"1\" /><path clip-path=\"url(#clip590)\" d=\"M1265.81 1517.37 Q1262.2 1517.37 1260.37 1520.93 Q1258.57 1524.47 1258.57 1531.6 Q1258.57 1538.71 1260.37 1542.27 Q1262.2 1545.82 1265.81 1545.82 Q1269.45 1545.82 1271.25 1542.27 Q1273.08 1538.71 1273.08 1531.6 Q1273.08 1524.47 1271.25 1520.93 Q1269.45 1517.37 1265.81 1517.37 M1265.81 1513.66 Q1271.62 1513.66 1274.68 1518.27 Q1277.76 1522.85 1277.76 1531.6 Q1277.76 1540.33 1274.68 1544.94 Q1271.62 1549.52 1265.81 1549.52 Q1260 1549.52 1256.92 1544.94 Q1253.87 1540.33 1253.87 1531.6 Q1253.87 1522.85 1256.92 1518.27 Q1260 1513.66 1265.81 1513.66 Z\" fill=\"#000000\" fill-rule=\"evenodd\" fill-opacity=\"1\" /><path clip-path=\"url(#clip590)\" d=\"M1768.8 1514.29 L1787.16 1514.29 L1787.16 1518.22 L1773.08 1518.22 L1773.08 1526.7 Q1774.1 1526.35 1775.12 1526.19 Q1776.14 1526 1777.16 1526 Q1782.94 1526 1786.32 1529.17 Q1789.7 1532.34 1789.7 1537.76 Q1789.7 1543.34 1786.23 1546.44 Q1782.76 1549.52 1776.44 1549.52 Q1774.26 1549.52 1771.99 1549.15 Q1769.75 1548.78 1767.34 1548.04 L1767.34 1543.34 Q1769.42 1544.47 1771.65 1545.03 Q1773.87 1545.58 1776.35 1545.58 Q1780.35 1545.58 1782.69 1543.48 Q1785.03 1541.37 1785.03 1537.76 Q1785.03 1534.15 1782.69 1532.04 Q1780.35 1529.94 1776.35 1529.94 Q1774.47 1529.94 1772.6 1530.35 Q1770.74 1530.77 1768.8 1531.65 L1768.8 1514.29 Z\" fill=\"#000000\" fill-rule=\"evenodd\" fill-opacity=\"1\" /><path clip-path=\"url(#clip590)\" d=\"M2265.92 1544.91 L2273.56 1544.91 L2273.56 1518.55 L2265.25 1520.21 L2265.25 1515.95 L2273.51 1514.29 L2278.19 1514.29 L2278.19 1544.91 L2285.83 1544.91 L2285.83 1548.85 L2265.92 1548.85 L2265.92 1544.91 Z\" fill=\"#000000\" fill-rule=\"evenodd\" fill-opacity=\"1\" /><path clip-path=\"url(#clip590)\" d=\"M2305.27 1517.37 Q2301.66 1517.37 2299.83 1520.93 Q2298.02 1524.47 2298.02 1531.6 Q2298.02 1538.71 2299.83 1542.27 Q2301.66 1545.82 2305.27 1545.82 Q2308.9 1545.82 2310.71 1542.27 Q2312.54 1538.71 2312.54 1531.6 Q2312.54 1524.47 2310.71 1520.93 Q2308.9 1517.37 2305.27 1517.37 M2305.27 1513.66 Q2311.08 1513.66 2314.14 1518.27 Q2317.21 1522.85 2317.21 1531.6 Q2317.21 1540.33 2314.14 1544.94 Q2311.08 1549.52 2305.27 1549.52 Q2299.46 1549.52 2296.38 1544.94 Q2293.33 1540.33 2293.33 1531.6 Q2293.33 1522.85 2296.38 1518.27 Q2299.46 1513.66 2305.27 1513.66 Z\" fill=\"#000000\" fill-rule=\"evenodd\" fill-opacity=\"1\" /><polyline clip-path=\"url(#clip592)\" style=\"stroke:#000000; stroke-linecap:butt; stroke-linejoin:round; stroke-width:2; stroke-opacity:0.1; fill:none\" points=\"\n  178.867,1447.87 2352.76,1447.87 \n  \"/>\n<polyline clip-path=\"url(#clip592)\" style=\"stroke:#000000; stroke-linecap:butt; stroke-linejoin:round; stroke-width:2; stroke-opacity:0.1; fill:none\" points=\"\n  178.867,1036.41 2352.76,1036.41 \n  \"/>\n<polyline clip-path=\"url(#clip592)\" style=\"stroke:#000000; stroke-linecap:butt; stroke-linejoin:round; stroke-width:2; stroke-opacity:0.1; fill:none\" points=\"\n  178.867,624.941 2352.76,624.941 \n  \"/>\n<polyline clip-path=\"url(#clip592)\" style=\"stroke:#000000; stroke-linecap:butt; stroke-linejoin:round; stroke-width:2; stroke-opacity:0.1; fill:none\" points=\"\n  178.867,213.475 2352.76,213.475 \n  \"/>\n<polyline clip-path=\"url(#clip590)\" style=\"stroke:#000000; stroke-linecap:butt; stroke-linejoin:round; stroke-width:4; stroke-opacity:1; fill:none\" points=\"\n  178.867,1486.45 178.867,123.472 \n  \"/>\n<polyline clip-path=\"url(#clip590)\" style=\"stroke:#000000; stroke-linecap:butt; stroke-linejoin:round; stroke-width:4; stroke-opacity:1; fill:none\" points=\"\n  178.867,1447.87 197.764,1447.87 \n  \"/>\n<polyline clip-path=\"url(#clip590)\" style=\"stroke:#000000; stroke-linecap:butt; stroke-linejoin:round; stroke-width:4; stroke-opacity:1; fill:none\" points=\"\n  178.867,1036.41 197.764,1036.41 \n  \"/>\n<polyline clip-path=\"url(#clip590)\" style=\"stroke:#000000; stroke-linecap:butt; stroke-linejoin:round; stroke-width:4; stroke-opacity:1; fill:none\" points=\"\n  178.867,624.941 197.764,624.941 \n  \"/>\n<polyline clip-path=\"url(#clip590)\" style=\"stroke:#000000; stroke-linecap:butt; stroke-linejoin:round; stroke-width:4; stroke-opacity:1; fill:none\" points=\"\n  178.867,213.475 197.764,213.475 \n  \"/>\n<path clip-path=\"url(#clip590)\" d=\"M50.9921 1448.32 L80.6679 1448.32 L80.6679 1452.26 L50.9921 1452.26 L50.9921 1448.32 Z\" fill=\"#000000\" fill-rule=\"evenodd\" fill-opacity=\"1\" /><path clip-path=\"url(#clip590)\" d=\"M104.927 1446.52 Q108.283 1447.24 110.158 1449.51 Q112.057 1451.77 112.057 1455.11 Q112.057 1460.22 108.538 1463.02 Q105.02 1465.82 98.5382 1465.82 Q96.3623 1465.82 94.0475 1465.38 Q91.7558 1464.97 89.3021 1464.11 L89.3021 1459.6 Q91.2465 1460.73 93.5613 1461.31 Q95.8761 1461.89 98.3993 1461.89 Q102.797 1461.89 105.089 1460.15 Q107.404 1458.42 107.404 1455.11 Q107.404 1452.05 105.251 1450.34 Q103.121 1448.6 99.3021 1448.6 L95.2743 1448.6 L95.2743 1444.76 L99.4872 1444.76 Q102.936 1444.76 104.765 1443.39 Q106.594 1442.01 106.594 1439.41 Q106.594 1436.75 104.696 1435.34 Q102.821 1433.9 99.3021 1433.9 Q97.3808 1433.9 95.1817 1434.32 Q92.9826 1434.74 90.3438 1435.62 L90.3438 1431.45 Q93.0058 1430.71 95.3206 1430.34 Q97.6585 1429.97 99.7187 1429.97 Q105.043 1429.97 108.145 1432.4 Q111.246 1434.81 111.246 1438.93 Q111.246 1441.8 109.603 1443.79 Q107.959 1445.76 104.927 1446.52 Z\" fill=\"#000000\" fill-rule=\"evenodd\" fill-opacity=\"1\" /><path clip-path=\"url(#clip590)\" d=\"M130.922 1433.67 Q127.311 1433.67 125.482 1437.24 Q123.677 1440.78 123.677 1447.91 Q123.677 1455.01 125.482 1458.58 Q127.311 1462.12 130.922 1462.12 Q134.556 1462.12 136.362 1458.58 Q138.191 1455.01 138.191 1447.91 Q138.191 1440.78 136.362 1437.24 Q134.556 1433.67 130.922 1433.67 M130.922 1429.97 Q136.732 1429.97 139.788 1434.57 Q142.867 1439.16 142.867 1447.91 Q142.867 1456.63 139.788 1461.24 Q136.732 1465.82 130.922 1465.82 Q125.112 1465.82 122.033 1461.24 Q118.978 1456.63 118.978 1447.91 Q118.978 1439.16 122.033 1434.57 Q125.112 1429.97 130.922 1429.97 Z\" fill=\"#000000\" fill-rule=\"evenodd\" fill-opacity=\"1\" /><path clip-path=\"url(#clip590)\" d=\"M50.9921 1036.86 L80.6679 1036.86 L80.6679 1040.79 L50.9921 1040.79 L50.9921 1036.86 Z\" fill=\"#000000\" fill-rule=\"evenodd\" fill-opacity=\"1\" /><path clip-path=\"url(#clip590)\" d=\"M94.7882 1049.75 L111.108 1049.75 L111.108 1053.69 L89.1632 1053.69 L89.1632 1049.75 Q91.8252 1047 96.4085 1042.37 Q101.015 1037.71 102.196 1036.37 Q104.441 1033.85 105.321 1032.11 Q106.223 1030.35 106.223 1028.66 Q106.223 1025.91 104.279 1024.17 Q102.358 1022.44 99.2558 1022.44 Q97.0567 1022.44 94.603 1023.2 Q92.1725 1023.96 89.3947 1025.52 L89.3947 1020.79 Q92.2188 1019.66 94.6724 1019.08 Q97.1261 1018.5 99.1632 1018.5 Q104.534 1018.5 107.728 1021.19 Q110.922 1023.87 110.922 1028.36 Q110.922 1030.49 110.112 1032.41 Q109.325 1034.31 107.219 1036.9 Q106.64 1037.58 103.538 1040.79 Q100.436 1043.99 94.7882 1049.75 Z\" fill=\"#000000\" fill-rule=\"evenodd\" fill-opacity=\"1\" /><path clip-path=\"url(#clip590)\" d=\"M130.922 1022.21 Q127.311 1022.21 125.482 1025.77 Q123.677 1029.31 123.677 1036.44 Q123.677 1043.55 125.482 1047.11 Q127.311 1050.65 130.922 1050.65 Q134.556 1050.65 136.362 1047.11 Q138.191 1043.55 138.191 1036.44 Q138.191 1029.31 136.362 1025.77 Q134.556 1022.21 130.922 1022.21 M130.922 1018.5 Q136.732 1018.5 139.788 1023.11 Q142.867 1027.69 142.867 1036.44 Q142.867 1045.17 139.788 1049.78 Q136.732 1054.36 130.922 1054.36 Q125.112 1054.36 122.033 1049.78 Q118.978 1045.17 118.978 1036.44 Q118.978 1027.69 122.033 1023.11 Q125.112 1018.5 130.922 1018.5 Z\" fill=\"#000000\" fill-rule=\"evenodd\" fill-opacity=\"1\" /><path clip-path=\"url(#clip590)\" d=\"M50.9921 625.392 L80.6679 625.392 L80.6679 629.328 L50.9921 629.328 L50.9921 625.392 Z\" fill=\"#000000\" fill-rule=\"evenodd\" fill-opacity=\"1\" /><path clip-path=\"url(#clip590)\" d=\"M91.5706 638.286 L99.2095 638.286 L99.2095 611.92 L90.8993 613.587 L90.8993 609.328 L99.1632 607.661 L103.839 607.661 L103.839 638.286 L111.478 638.286 L111.478 642.221 L91.5706 642.221 L91.5706 638.286 Z\" fill=\"#000000\" fill-rule=\"evenodd\" fill-opacity=\"1\" /><path clip-path=\"url(#clip590)\" d=\"M130.922 610.74 Q127.311 610.74 125.482 614.304 Q123.677 617.846 123.677 624.976 Q123.677 632.082 125.482 635.647 Q127.311 639.189 130.922 639.189 Q134.556 639.189 136.362 635.647 Q138.191 632.082 138.191 624.976 Q138.191 617.846 136.362 614.304 Q134.556 610.74 130.922 610.74 M130.922 607.036 Q136.732 607.036 139.788 611.642 Q142.867 616.226 142.867 624.976 Q142.867 633.703 139.788 638.309 Q136.732 642.892 130.922 642.892 Q125.112 642.892 122.033 638.309 Q118.978 633.703 118.978 624.976 Q118.978 616.226 122.033 611.642 Q125.112 607.036 130.922 607.036 Z\" fill=\"#000000\" fill-rule=\"evenodd\" fill-opacity=\"1\" /><path clip-path=\"url(#clip590)\" d=\"M130.922 199.274 Q127.311 199.274 125.482 202.838 Q123.677 206.38 123.677 213.51 Q123.677 220.616 125.482 224.181 Q127.311 227.723 130.922 227.723 Q134.556 227.723 136.362 224.181 Q138.191 220.616 138.191 213.51 Q138.191 206.38 136.362 202.838 Q134.556 199.274 130.922 199.274 M130.922 195.57 Q136.732 195.57 139.788 200.176 Q142.867 204.76 142.867 213.51 Q142.867 222.236 139.788 226.843 Q136.732 231.426 130.922 231.426 Q125.112 231.426 122.033 226.843 Q118.978 222.236 118.978 213.51 Q118.978 204.76 122.033 200.176 Q125.112 195.57 130.922 195.57 Z\" fill=\"#000000\" fill-rule=\"evenodd\" fill-opacity=\"1\" /><path clip-path=\"url(#clip590)\" d=\"M837.691 16.7545 L837.691 25.383 Q833.56 21.5346 828.86 19.6307 Q824.202 17.7268 818.936 17.7268 Q808.565 17.7268 803.056 24.0867 Q797.547 30.4061 797.547 42.3968 Q797.547 54.3469 803.056 60.7069 Q808.565 67.0263 818.936 67.0263 Q824.202 67.0263 828.86 65.1223 Q833.56 63.2184 837.691 59.3701 L837.691 67.9175 Q833.397 70.8341 828.577 72.2924 Q823.797 73.7508 818.45 73.7508 Q804.717 73.7508 796.818 65.3654 Q788.919 56.9395 788.919 42.3968 Q788.919 27.8135 796.818 19.4281 Q804.717 11.0023 818.45 11.0023 Q823.878 11.0023 828.658 12.4606 Q833.479 13.8784 837.691 16.7545 Z\" fill=\"#000000\" fill-rule=\"evenodd\" fill-opacity=\"1\" /><path clip-path=\"url(#clip590)\" d=\"M870.625 49.7694 Q861.592 49.7694 858.108 51.8354 Q854.624 53.9013 854.624 58.8839 Q854.624 62.8538 857.217 65.2034 Q859.85 67.5124 864.346 67.5124 Q870.544 67.5124 874.271 63.1374 Q878.038 58.7219 878.038 51.4303 L878.038 49.7694 L870.625 49.7694 M885.492 46.6907 L885.492 72.576 L878.038 72.576 L878.038 65.6895 Q875.486 69.8214 871.679 71.8063 Q867.871 73.7508 862.361 73.7508 Q855.394 73.7508 851.262 69.8619 Q847.171 65.9325 847.171 59.3701 Q847.171 51.7138 852.275 47.825 Q857.419 43.9361 867.587 43.9361 L878.038 43.9361 L878.038 43.2069 Q878.038 38.0623 874.636 35.2672 Q871.273 32.4315 865.157 32.4315 Q861.268 32.4315 857.581 33.3632 Q853.895 34.295 850.492 36.1584 L850.492 29.2718 Q854.584 27.692 858.432 26.9223 Q862.28 26.1121 865.926 26.1121 Q875.77 26.1121 880.631 31.2163 Q885.492 36.3204 885.492 46.6907 Z\" fill=\"#000000\" fill-rule=\"evenodd\" fill-opacity=\"1\" /><path clip-path=\"url(#clip590)\" d=\"M938.559 45.1919 L938.559 72.576 L931.105 72.576 L931.105 45.4349 Q931.105 38.994 928.594 35.7938 Q926.082 32.5936 921.059 32.5936 Q915.023 32.5936 911.539 36.4419 Q908.056 40.2903 908.056 46.9338 L908.056 72.576 L900.561 72.576 L900.561 27.2059 L908.056 27.2059 L908.056 34.2544 Q910.729 30.163 914.335 28.1376 Q917.98 26.1121 922.72 26.1121 Q930.538 26.1121 934.549 30.9732 Q938.559 35.7938 938.559 45.1919 Z\" fill=\"#000000\" fill-rule=\"evenodd\" fill-opacity=\"1\" /><path clip-path=\"url(#clip590)\" d=\"M998.674 76.7889 Q995.515 84.8907 992.517 87.3618 Q989.519 89.8329 984.496 89.8329 L978.541 89.8329 L978.541 83.5945 L982.916 83.5945 Q985.995 83.5945 987.696 82.1361 Q989.398 80.6778 991.464 75.2496 L992.801 71.8468 L974.45 27.2059 L982.349 27.2059 L996.527 62.6918 L1010.71 27.2059 L1018.6 27.2059 L998.674 76.7889 Z\" fill=\"#000000\" fill-rule=\"evenodd\" fill-opacity=\"1\" /><path clip-path=\"url(#clip590)\" d=\"M1046.48 32.4315 Q1040.48 32.4315 1037 37.1306 Q1033.51 41.7891 1033.51 49.9314 Q1033.51 58.0738 1036.96 62.7728 Q1040.44 67.4314 1046.48 67.4314 Q1052.43 67.4314 1055.91 62.7323 Q1059.4 58.0333 1059.4 49.9314 Q1059.4 41.8701 1055.91 37.1711 Q1052.43 32.4315 1046.48 32.4315 M1046.48 26.1121 Q1056.2 26.1121 1061.75 32.4315 Q1067.3 38.7509 1067.3 49.9314 Q1067.3 61.0714 1061.75 67.4314 Q1056.2 73.7508 1046.48 73.7508 Q1036.71 73.7508 1031.16 67.4314 Q1025.65 61.0714 1025.65 49.9314 Q1025.65 38.7509 1031.16 32.4315 Q1036.71 26.1121 1046.48 26.1121 Z\" fill=\"#000000\" fill-rule=\"evenodd\" fill-opacity=\"1\" /><path clip-path=\"url(#clip590)\" d=\"M1078.88 54.671 L1078.88 27.2059 L1086.34 27.2059 L1086.34 54.3874 Q1086.34 60.8284 1088.85 64.0691 Q1091.36 67.2693 1096.38 67.2693 Q1102.42 67.2693 1105.9 63.421 Q1109.43 59.5726 1109.43 52.9291 L1109.43 27.2059 L1116.88 27.2059 L1116.88 72.576 L1109.43 72.576 L1109.43 65.6084 Q1106.71 69.7404 1103.11 71.7658 Q1099.54 73.7508 1094.8 73.7508 Q1086.98 73.7508 1082.93 68.8897 Q1078.88 64.0286 1078.88 54.671 M1097.64 26.1121 L1097.64 26.1121 Z\" fill=\"#000000\" fill-rule=\"evenodd\" fill-opacity=\"1\" /><path clip-path=\"url(#clip590)\" d=\"M1181.57 9.54393 L1181.57 15.7418 L1174.44 15.7418 Q1170.43 15.7418 1168.85 17.3622 Q1167.31 18.9825 1167.31 23.1955 L1167.31 27.2059 L1179.59 27.2059 L1179.59 32.9987 L1167.31 32.9987 L1167.31 72.576 L1159.82 72.576 L1159.82 32.9987 L1152.69 32.9987 L1152.69 27.2059 L1159.82 27.2059 L1159.82 24.0462 Q1159.82 16.471 1163.34 13.0277 Q1166.87 9.54393 1174.52 9.54393 L1181.57 9.54393 Z\" fill=\"#000000\" fill-rule=\"evenodd\" fill-opacity=\"1\" /><path clip-path=\"url(#clip590)\" d=\"M1187.81 27.2059 L1195.26 27.2059 L1195.26 72.576 L1187.81 72.576 L1187.81 27.2059 M1187.81 9.54393 L1195.26 9.54393 L1195.26 18.9825 L1187.81 18.9825 L1187.81 9.54393 Z\" fill=\"#000000\" fill-rule=\"evenodd\" fill-opacity=\"1\" /><path clip-path=\"url(#clip590)\" d=\"M1248.57 45.1919 L1248.57 72.576 L1241.12 72.576 L1241.12 45.4349 Q1241.12 38.994 1238.61 35.7938 Q1236.1 32.5936 1231.07 32.5936 Q1225.04 32.5936 1221.56 36.4419 Q1218.07 40.2903 1218.07 46.9338 L1218.07 72.576 L1210.58 72.576 L1210.58 27.2059 L1218.07 27.2059 L1218.07 34.2544 Q1220.74 30.163 1224.35 28.1376 Q1228 26.1121 1232.74 26.1121 Q1240.55 26.1121 1244.56 30.9732 Q1248.57 35.7938 1248.57 45.1919 Z\" fill=\"#000000\" fill-rule=\"evenodd\" fill-opacity=\"1\" /><path clip-path=\"url(#clip590)\" d=\"M1293.3 34.0924 L1293.3 9.54393 L1300.75 9.54393 L1300.75 72.576 L1293.3 72.576 L1293.3 65.7705 Q1290.95 69.8214 1287.34 71.8063 Q1283.78 73.7508 1278.75 73.7508 Q1270.53 73.7508 1265.35 67.1883 Q1260.2 60.6258 1260.2 49.9314 Q1260.2 39.2371 1265.35 32.6746 Q1270.53 26.1121 1278.75 26.1121 Q1283.78 26.1121 1287.34 28.0971 Q1290.95 30.0415 1293.3 34.0924 M1267.9 49.9314 Q1267.9 58.1548 1271.26 62.8538 Q1274.66 67.5124 1280.58 67.5124 Q1286.49 67.5124 1289.89 62.8538 Q1293.3 58.1548 1293.3 49.9314 Q1293.3 41.7081 1289.89 37.0496 Q1286.49 32.3505 1280.58 32.3505 Q1274.66 32.3505 1271.26 37.0496 Q1267.9 41.7081 1267.9 49.9314 Z\" fill=\"#000000\" fill-rule=\"evenodd\" fill-opacity=\"1\" /><path clip-path=\"url(#clip590)\" d=\"M1349.85 14.324 L1349.85 27.2059 L1365.2 27.2059 L1365.2 32.9987 L1349.85 32.9987 L1349.85 57.6282 Q1349.85 63.1779 1351.35 64.7578 Q1352.89 66.3376 1357.54 66.3376 L1365.2 66.3376 L1365.2 72.576 L1357.54 72.576 Q1348.92 72.576 1345.63 69.3758 Q1342.35 66.1351 1342.35 57.6282 L1342.35 32.9987 L1336.88 32.9987 L1336.88 27.2059 L1342.35 27.2059 L1342.35 14.324 L1349.85 14.324 Z\" fill=\"#000000\" fill-rule=\"evenodd\" fill-opacity=\"1\" /><path clip-path=\"url(#clip590)\" d=\"M1412.72 45.1919 L1412.72 72.576 L1405.26 72.576 L1405.26 45.4349 Q1405.26 38.994 1402.75 35.7938 Q1400.24 32.5936 1395.22 32.5936 Q1389.18 32.5936 1385.7 36.4419 Q1382.21 40.2903 1382.21 46.9338 L1382.21 72.576 L1374.72 72.576 L1374.72 9.54393 L1382.21 9.54393 L1382.21 34.2544 Q1384.89 30.163 1388.49 28.1376 Q1392.14 26.1121 1396.88 26.1121 Q1404.7 26.1121 1408.71 30.9732 Q1412.72 35.7938 1412.72 45.1919 Z\" fill=\"#000000\" fill-rule=\"evenodd\" fill-opacity=\"1\" /><path clip-path=\"url(#clip590)\" d=\"M1466.39 48.0275 L1466.39 51.6733 L1432.12 51.6733 Q1432.61 59.3701 1436.74 63.421 Q1440.91 67.4314 1448.32 67.4314 Q1452.62 67.4314 1456.63 66.3781 Q1460.68 65.3249 1464.65 63.2184 L1464.65 70.267 Q1460.64 71.9684 1456.43 72.8596 Q1452.21 73.7508 1447.88 73.7508 Q1437.02 73.7508 1430.66 67.4314 Q1424.34 61.1119 1424.34 50.3365 Q1424.34 39.1965 1430.34 32.6746 Q1436.37 26.1121 1446.58 26.1121 Q1455.74 26.1121 1461.04 32.0264 Q1466.39 37.9003 1466.39 48.0275 M1458.94 45.84 Q1458.86 39.7232 1455.49 36.0774 Q1452.17 32.4315 1446.66 32.4315 Q1440.43 32.4315 1436.66 35.9558 Q1432.93 39.4801 1432.36 45.8805 L1458.94 45.84 Z\" fill=\"#000000\" fill-rule=\"evenodd\" fill-opacity=\"1\" /><path clip-path=\"url(#clip590)\" d=\"M1540.32 35.9153 Q1543.12 30.8922 1547 28.5022 Q1550.89 26.1121 1556.16 26.1121 Q1563.25 26.1121 1567.1 31.0947 Q1570.95 36.0368 1570.95 45.1919 L1570.95 72.576 L1563.45 72.576 L1563.45 45.4349 Q1563.45 38.913 1561.14 35.7533 Q1558.83 32.5936 1554.09 32.5936 Q1548.3 32.5936 1544.94 36.4419 Q1541.58 40.2903 1541.58 46.9338 L1541.58 72.576 L1534.08 72.576 L1534.08 45.4349 Q1534.08 38.8725 1531.77 35.7533 Q1529.46 32.5936 1524.64 32.5936 Q1518.93 32.5936 1515.57 36.4824 Q1512.21 40.3308 1512.21 46.9338 L1512.21 72.576 L1504.71 72.576 L1504.71 27.2059 L1512.21 27.2059 L1512.21 34.2544 Q1514.76 30.082 1518.32 28.0971 Q1521.89 26.1121 1526.79 26.1121 Q1531.73 26.1121 1535.18 28.6237 Q1538.66 31.1352 1540.32 35.9153 Z\" fill=\"#000000\" fill-rule=\"evenodd\" fill-opacity=\"1\" /><path clip-path=\"url(#clip590)\" d=\"M1606.43 49.7694 Q1597.4 49.7694 1593.91 51.8354 Q1590.43 53.9013 1590.43 58.8839 Q1590.43 62.8538 1593.02 65.2034 Q1595.66 67.5124 1600.15 67.5124 Q1606.35 67.5124 1610.08 63.1374 Q1613.84 58.7219 1613.84 51.4303 L1613.84 49.7694 L1606.43 49.7694 M1621.3 46.6907 L1621.3 72.576 L1613.84 72.576 L1613.84 65.6895 Q1611.29 69.8214 1607.48 71.8063 Q1603.68 73.7508 1598.17 73.7508 Q1591.2 73.7508 1587.07 69.8619 Q1582.98 65.9325 1582.98 59.3701 Q1582.98 51.7138 1588.08 47.825 Q1593.23 43.9361 1603.39 43.9361 L1613.84 43.9361 L1613.84 43.2069 Q1613.84 38.0623 1610.44 35.2672 Q1607.08 32.4315 1600.96 32.4315 Q1597.07 32.4315 1593.39 33.3632 Q1589.7 34.295 1586.3 36.1584 L1586.3 29.2718 Q1590.39 27.692 1594.24 26.9223 Q1598.09 26.1121 1601.73 26.1121 Q1611.58 26.1121 1616.44 31.2163 Q1621.3 36.3204 1621.3 46.6907 Z\" fill=\"#000000\" fill-rule=\"evenodd\" fill-opacity=\"1\" /><path clip-path=\"url(#clip590)\" d=\"M1674.37 27.2059 L1657.96 49.2833 L1675.22 72.576 L1666.43 72.576 L1653.22 54.752 L1640.01 72.576 L1631.22 72.576 L1648.84 48.8377 L1632.72 27.2059 L1641.51 27.2059 L1653.54 43.369 L1665.57 27.2059 L1674.37 27.2059 Z\" fill=\"#000000\" fill-rule=\"evenodd\" fill-opacity=\"1\" /><path clip-path=\"url(#clip590)\" d=\"M1693.77 62.2867 L1701.99 62.2867 L1701.99 72.576 L1693.77 72.576 L1693.77 62.2867 M1701.75 56.3319 L1694.01 56.3319 L1694.01 50.0935 Q1694.01 46.0021 1695.15 43.369 Q1696.28 40.7359 1699.93 37.2521 L1703.57 33.6468 Q1705.88 31.4998 1706.89 29.5959 Q1707.95 27.692 1707.95 25.707 Q1707.95 22.1017 1705.27 19.8737 Q1702.64 17.6457 1698.27 17.6457 Q1695.07 17.6457 1691.42 19.0636 Q1687.81 20.4814 1683.88 23.1955 L1683.88 15.5798 Q1687.69 13.2708 1691.58 12.1365 Q1695.51 11.0023 1699.68 11.0023 Q1707.14 11.0023 1711.63 14.9316 Q1716.17 18.861 1716.17 25.3019 Q1716.17 28.3806 1714.71 31.1758 Q1713.25 33.9304 1709.61 37.4142 L1706.04 40.8979 Q1704.14 42.8019 1703.33 43.8956 Q1702.56 44.9488 1702.24 45.9616 Q1701.99 46.8122 1701.87 48.0275 Q1701.75 49.2428 1701.75 51.3493 L1701.75 56.3319 Z\" fill=\"#000000\" fill-rule=\"evenodd\" fill-opacity=\"1\" /><path clip-path=\"url(#clip590)\" d=\"M1734.48 62.2867 L1742.7 62.2867 L1742.7 72.576 L1734.48 72.576 L1734.48 62.2867 M1734.48 12.096 L1742.7 12.096 L1742.7 38.6294 L1741.89 53.0912 L1735.33 53.0912 L1734.48 38.6294 L1734.48 12.096 Z\" fill=\"#000000\" fill-rule=\"evenodd\" fill-opacity=\"1\" /><polyline clip-path=\"url(#clip592)\" style=\"stroke:#009af9; stroke-linecap:butt; stroke-linejoin:round; stroke-width:8; stroke-opacity:1; fill:none\" points=\"\n  240.392,1447.87 261.107,1406.65 281.823,1366.09 302.538,1326.21 323.254,1287 343.97,1248.46 364.685,1210.59 385.401,1173.39 406.116,1136.87 426.832,1101.02 \n  447.547,1065.84 468.263,1031.33 488.978,997.49 509.694,964.324 530.409,931.83 551.125,900.007 571.841,868.857 592.556,838.378 613.272,808.57 633.987,779.435 \n  654.703,750.971 675.418,723.179 696.134,696.059 716.849,669.61 737.565,643.833 758.28,618.728 778.996,594.294 799.712,570.532 820.427,547.442 841.143,525.024 \n  861.858,503.277 882.574,482.202 903.289,461.799 924.005,442.067 944.72,423.007 965.436,404.619 986.151,386.903 1006.87,369.858 1027.58,353.485 1048.3,337.784 \n  1069.01,322.754 1089.73,308.396 1110.44,294.71 1131.16,281.696 1151.88,269.353 1172.59,257.682 1193.31,246.683 1214.02,236.355 1234.74,226.699 1255.45,217.715 \n  1276.17,209.403 1296.88,201.762 1317.6,194.793 1338.32,188.496 1359.03,182.87 1379.75,177.916 1400.46,173.634 1421.18,170.024 1441.89,167.085 1462.61,164.818 \n  1483.32,163.222 1504.04,162.299 1524.76,162.047 1545.47,162.467 1566.19,163.558 1586.9,165.322 1607.62,167.756 1628.33,170.863 1649.05,174.642 1669.76,179.092 \n  1690.48,184.213 1711.2,190.007 1731.91,196.472 1752.63,203.609 1773.34,211.418 1794.06,219.898 1814.77,229.05 1835.49,238.874 1856.2,249.37 1876.92,260.537 \n  1897.64,272.376 1918.35,284.886 1939.07,298.069 1959.78,311.923 1980.5,326.449 2001.21,341.646 2021.93,357.515 2042.64,374.056 2063.36,391.269 2084.08,409.153 \n  2104.79,427.709 2125.51,446.937 2146.22,466.837 2166.94,487.408 2187.65,508.651 2208.37,530.565 2229.08,553.152 2249.8,576.41 2270.52,600.339 2291.23,624.941 \n  \n  \"/>\n</svg>\n"
     },
     "execution_count": 108,
     "metadata": {},
     "output_type": "execute_result"
    }
   ],
   "source": [
    "npoints = 100\n",
    "a, b = (-10, 10)\n",
    "x = range(a, b, length = npoints)\n",
    "α = 0.2 \n",
    "\n",
    "U(x) = x .- α .* x .^ 2\n",
    "\n",
    "plot(x, U.(x), legend = false, lw = 2, title = \"Can you find the max?!\")"
   ]
  },
  {
   "cell_type": "markdown",
   "metadata": {},
   "source": [
    "As you can see, we can approximately guess from the graph where the highest value for this graph is going to be. It be somewhere in the interval between 10 and 15. However, this is not precise enough. We need some method to give us the exact answer, this is where derivatives will enter. Another approach is just to consider each of the utility values and then pick the maximum from the list. Luckily Julia has a function called `findmax()` that can do this for us. \n",
    "\n",
    "Don't worry too much about the code for now, this won't make too much sense at first. I will try and explain the basic idea, but if you don't get it don't worry. Try and come back to this code at a later stage once you are more familiar with programming in Julia. Then try and evaluate every line and see if you can make sense of what is happening here. "
   ]
  },
  {
   "cell_type": "code",
   "execution_count": 116,
   "metadata": {},
   "outputs": [
    {
     "data": {
      "text/plain": [
       "(1.249872461993674, 63)"
      ]
     },
     "execution_count": 116,
     "metadata": {},
     "output_type": "execute_result"
    }
   ],
   "source": [
    "fmax, ix = findmax(U.(x))\t"
   ]
  },
  {
   "cell_type": "markdown",
   "metadata": {},
   "source": [
    "We can see from above that if we evaluate our utility function with the `findmax()` function a tuple is returned. The first value in the tuple is the function output at the maximum. In other words it is the value of utility where this function is maximised. It is the value on the y-axis. The second value in the tuple is the position in the list of $x$ values that we evaluated. If we go back in our code you will see that we created a range of $x$ values in the interval $-10$ to $10$. We created a grid of 100 points within the interval (generated 100 potential values for $x$) and inserted those $x$ values into the utility function at each of the given points. \n",
    "\n",
    "According to the `findmax()` function, the 63rd value in in that grid of $x$ values was the one that maximised the function. This is also referred to as the $\\argmax$ in mathematics. We can then find the $x$ value by looking at `x[ix]`, which is basically the same as `x[63]` in this case. Remember how to access elements in an array from the previous tutorial. "
   ]
  },
  {
   "cell_type": "code",
   "execution_count": 118,
   "metadata": {},
   "outputs": [
    {
     "data": {
      "text/plain": [
       "true"
      ]
     },
     "execution_count": 118,
     "metadata": {},
     "output_type": "execute_result"
    }
   ],
   "source": [
    "x[ix] == x[63]"
   ]
  },
  {
   "cell_type": "markdown",
   "metadata": {},
   "source": [
    "The maximum here is $2.52525252 \\ldots$. If we chose a finer grid for $x$ we would be able to get a better approximation for the true value that maximises this function."
   ]
  },
  {
   "cell_type": "code",
   "execution_count": 120,
   "metadata": {},
   "outputs": [
    {
     "data": {
      "text/plain": [
       "2.525252525252525"
      ]
     },
     "execution_count": 120,
     "metadata": {},
     "output_type": "execute_result"
    }
   ],
   "source": [
    "x[ix] "
   ]
  },
  {
   "cell_type": "markdown",
   "metadata": {},
   "source": [
    "In the graph below we simply draw a scatter plot with the $x$ value being represented by the 63rd point in the $x$ vector."
   ]
  },
  {
   "cell_type": "code",
   "execution_count": 121,
   "metadata": {},
   "outputs": [
    {
     "data": {
      "image/svg+xml": "<?xml version=\"1.0\" encoding=\"utf-8\"?>\n<svg xmlns=\"http://www.w3.org/2000/svg\" xmlns:xlink=\"http://www.w3.org/1999/xlink\" width=\"600\" height=\"400\" viewBox=\"0 0 2400 1600\">\n<defs>\n  <clipPath id=\"clip790\">\n    <rect x=\"0\" y=\"0\" width=\"2400\" height=\"1600\"/>\n  </clipPath>\n</defs>\n<path clip-path=\"url(#clip790)\" d=\"\nM0 1600 L2400 1600 L2400 0 L0 0  Z\n  \" fill=\"#ffffff\" fill-rule=\"evenodd\" fill-opacity=\"1\"/>\n<defs>\n  <clipPath id=\"clip791\">\n    <rect x=\"480\" y=\"0\" width=\"1681\" height=\"1600\"/>\n  </clipPath>\n</defs>\n<path clip-path=\"url(#clip790)\" d=\"\nM178.867 1486.45 L2352.76 1486.45 L2352.76 123.472 L178.867 123.472  Z\n  \" fill=\"#ffffff\" fill-rule=\"evenodd\" fill-opacity=\"1\"/>\n<defs>\n  <clipPath id=\"clip792\">\n    <rect x=\"178\" y=\"123\" width=\"2175\" height=\"1364\"/>\n  </clipPath>\n</defs>\n<polyline clip-path=\"url(#clip792)\" style=\"stroke:#000000; stroke-linecap:butt; stroke-linejoin:round; stroke-width:2; stroke-opacity:0.1; fill:none\" points=\"\n  1524.76,1486.45 1524.76,123.472 \n  \"/>\n<polyline clip-path=\"url(#clip790)\" style=\"stroke:#000000; stroke-linecap:butt; stroke-linejoin:round; stroke-width:4; stroke-opacity:1; fill:none\" points=\"\n  178.867,1486.45 2352.76,1486.45 \n  \"/>\n<polyline clip-path=\"url(#clip790)\" style=\"stroke:#000000; stroke-linecap:butt; stroke-linejoin:round; stroke-width:4; stroke-opacity:1; fill:none\" points=\"\n  1524.76,1486.45 1524.76,1467.55 \n  \"/>\n<path clip-path=\"url(#clip790)\" d=\"M1406.01 1544.91 L1422.33 1544.91 L1422.33 1548.85 L1400.38 1548.85 L1400.38 1544.91 Q1403.04 1542.16 1407.63 1537.53 Q1412.23 1532.88 1413.41 1531.53 Q1415.66 1529.01 1416.54 1527.27 Q1417.44 1525.51 1417.44 1523.82 Q1417.44 1521.07 1415.5 1519.33 Q1413.58 1517.6 1410.47 1517.6 Q1408.27 1517.6 1405.82 1518.36 Q1403.39 1519.13 1400.61 1520.68 L1400.61 1515.95 Q1403.44 1514.82 1405.89 1514.24 Q1408.34 1513.66 1410.38 1513.66 Q1415.75 1513.66 1418.95 1516.35 Q1422.14 1519.03 1422.14 1523.52 Q1422.14 1525.65 1421.33 1527.57 Q1420.54 1529.47 1418.44 1532.07 Q1417.86 1532.74 1414.76 1535.95 Q1411.65 1539.15 1406.01 1544.91 Z\" fill=\"#000000\" fill-rule=\"evenodd\" fill-opacity=\"1\" /><path clip-path=\"url(#clip790)\" d=\"M1432.14 1542.97 L1437.02 1542.97 L1437.02 1548.85 L1432.14 1548.85 L1432.14 1542.97 Z\" fill=\"#000000\" fill-rule=\"evenodd\" fill-opacity=\"1\" /><path clip-path=\"url(#clip790)\" d=\"M1447.26 1514.29 L1465.61 1514.29 L1465.61 1518.22 L1451.54 1518.22 L1451.54 1526.7 Q1452.56 1526.35 1453.58 1526.19 Q1454.59 1526 1455.61 1526 Q1461.4 1526 1464.78 1529.17 Q1468.16 1532.34 1468.16 1537.76 Q1468.16 1543.34 1464.69 1546.44 Q1461.21 1549.52 1454.89 1549.52 Q1452.72 1549.52 1450.45 1549.15 Q1448.21 1548.78 1445.8 1548.04 L1445.8 1543.34 Q1447.88 1544.47 1450.1 1545.03 Q1452.33 1545.58 1454.8 1545.58 Q1458.81 1545.58 1461.14 1543.48 Q1463.48 1541.37 1463.48 1537.76 Q1463.48 1534.15 1461.14 1532.04 Q1458.81 1529.94 1454.8 1529.94 Q1452.93 1529.94 1451.05 1530.35 Q1449.2 1530.77 1447.26 1531.65 L1447.26 1514.29 Z\" fill=\"#000000\" fill-rule=\"evenodd\" fill-opacity=\"1\" /><path clip-path=\"url(#clip790)\" d=\"M1481.4 1544.91 L1497.72 1544.91 L1497.72 1548.85 L1475.77 1548.85 L1475.77 1544.91 Q1478.44 1542.16 1483.02 1537.53 Q1487.63 1532.88 1488.81 1531.53 Q1491.05 1529.01 1491.93 1527.27 Q1492.83 1525.51 1492.83 1523.82 Q1492.83 1521.07 1490.89 1519.33 Q1488.97 1517.6 1485.87 1517.6 Q1483.67 1517.6 1481.21 1518.36 Q1478.78 1519.13 1476.01 1520.68 L1476.01 1515.95 Q1478.83 1514.82 1481.28 1514.24 Q1483.74 1513.66 1485.77 1513.66 Q1491.14 1513.66 1494.34 1516.35 Q1497.53 1519.03 1497.53 1523.52 Q1497.53 1525.65 1496.72 1527.57 Q1495.94 1529.47 1493.83 1532.07 Q1493.25 1532.74 1490.15 1535.95 Q1487.05 1539.15 1481.4 1544.91 Z\" fill=\"#000000\" fill-rule=\"evenodd\" fill-opacity=\"1\" /><path clip-path=\"url(#clip790)\" d=\"M1507.58 1514.29 L1525.94 1514.29 L1525.94 1518.22 L1511.86 1518.22 L1511.86 1526.7 Q1512.88 1526.35 1513.9 1526.19 Q1514.92 1526 1515.94 1526 Q1521.72 1526 1525.1 1529.17 Q1528.48 1532.34 1528.48 1537.76 Q1528.48 1543.34 1525.01 1546.44 Q1521.54 1549.52 1515.22 1549.52 Q1513.04 1549.52 1510.77 1549.15 Q1508.53 1548.78 1506.12 1548.04 L1506.12 1543.34 Q1508.2 1544.47 1510.43 1545.03 Q1512.65 1545.58 1515.13 1545.58 Q1519.13 1545.58 1521.47 1543.48 Q1523.81 1541.37 1523.81 1537.76 Q1523.81 1534.15 1521.47 1532.04 Q1519.13 1529.94 1515.13 1529.94 Q1513.25 1529.94 1511.38 1530.35 Q1509.52 1530.77 1507.58 1531.65 L1507.58 1514.29 Z\" fill=\"#000000\" fill-rule=\"evenodd\" fill-opacity=\"1\" /><path clip-path=\"url(#clip790)\" d=\"M1541.72 1544.91 L1558.04 1544.91 L1558.04 1548.85 L1536.1 1548.85 L1536.1 1544.91 Q1538.76 1542.16 1543.34 1537.53 Q1547.95 1532.88 1549.13 1531.53 Q1551.38 1529.01 1552.26 1527.27 Q1553.16 1525.51 1553.16 1523.82 Q1553.16 1521.07 1551.21 1519.33 Q1549.29 1517.6 1546.19 1517.6 Q1543.99 1517.6 1541.54 1518.36 Q1539.11 1519.13 1536.33 1520.68 L1536.33 1515.95 Q1539.15 1514.82 1541.61 1514.24 Q1544.06 1513.66 1546.1 1513.66 Q1551.47 1513.66 1554.66 1516.35 Q1557.86 1519.03 1557.86 1523.52 Q1557.86 1525.65 1557.05 1527.57 Q1556.26 1529.47 1554.15 1532.07 Q1553.57 1532.74 1550.47 1535.95 Q1547.37 1539.15 1541.72 1544.91 Z\" fill=\"#000000\" fill-rule=\"evenodd\" fill-opacity=\"1\" /><path clip-path=\"url(#clip790)\" d=\"M1567.9 1514.29 L1586.26 1514.29 L1586.26 1518.22 L1572.19 1518.22 L1572.19 1526.7 Q1573.2 1526.35 1574.22 1526.19 Q1575.24 1526 1576.26 1526 Q1582.05 1526 1585.43 1529.17 Q1588.81 1532.34 1588.81 1537.76 Q1588.81 1543.34 1585.33 1546.44 Q1581.86 1549.52 1575.54 1549.52 Q1573.37 1549.52 1571.1 1549.15 Q1568.85 1548.78 1566.45 1548.04 L1566.45 1543.34 Q1568.53 1544.47 1570.75 1545.03 Q1572.97 1545.58 1575.45 1545.58 Q1579.45 1545.58 1581.79 1543.48 Q1584.13 1541.37 1584.13 1537.76 Q1584.13 1534.15 1581.79 1532.04 Q1579.45 1529.94 1575.45 1529.94 Q1573.57 1529.94 1571.7 1530.35 Q1569.85 1530.77 1567.9 1531.65 L1567.9 1514.29 Z\" fill=\"#000000\" fill-rule=\"evenodd\" fill-opacity=\"1\" /><path clip-path=\"url(#clip790)\" d=\"M1602.05 1544.91 L1618.37 1544.91 L1618.37 1548.85 L1596.42 1548.85 L1596.42 1544.91 Q1599.08 1542.16 1603.67 1537.53 Q1608.27 1532.88 1609.45 1531.53 Q1611.7 1529.01 1612.58 1527.27 Q1613.48 1525.51 1613.48 1523.82 Q1613.48 1521.07 1611.54 1519.33 Q1609.62 1517.6 1606.51 1517.6 Q1604.32 1517.6 1601.86 1518.36 Q1599.43 1519.13 1596.65 1520.68 L1596.65 1515.95 Q1599.48 1514.82 1601.93 1514.24 Q1604.38 1513.66 1606.42 1513.66 Q1611.79 1513.66 1614.99 1516.35 Q1618.18 1519.03 1618.18 1523.52 Q1618.18 1525.65 1617.37 1527.57 Q1616.58 1529.47 1614.48 1532.07 Q1613.9 1532.74 1610.8 1535.95 Q1607.69 1539.15 1602.05 1544.91 Z\" fill=\"#000000\" fill-rule=\"evenodd\" fill-opacity=\"1\" /><path clip-path=\"url(#clip790)\" d=\"M1628.23 1514.29 L1646.58 1514.29 L1646.58 1518.22 L1632.51 1518.22 L1632.51 1526.7 Q1633.53 1526.35 1634.55 1526.19 Q1635.57 1526 1636.58 1526 Q1642.37 1526 1645.75 1529.17 Q1649.13 1532.34 1649.13 1537.76 Q1649.13 1543.34 1645.66 1546.44 Q1642.19 1549.52 1635.87 1549.52 Q1633.69 1549.52 1631.42 1549.15 Q1629.18 1548.78 1626.77 1548.04 L1626.77 1543.34 Q1628.85 1544.47 1631.07 1545.03 Q1633.3 1545.58 1635.77 1545.58 Q1639.78 1545.58 1642.12 1543.48 Q1644.45 1541.37 1644.45 1537.76 Q1644.45 1534.15 1642.12 1532.04 Q1639.78 1529.94 1635.77 1529.94 Q1633.9 1529.94 1632.02 1530.35 Q1630.17 1530.77 1628.23 1531.65 L1628.23 1514.29 Z\" fill=\"#000000\" fill-rule=\"evenodd\" fill-opacity=\"1\" /><polyline clip-path=\"url(#clip792)\" style=\"stroke:#000000; stroke-linecap:butt; stroke-linejoin:round; stroke-width:2; stroke-opacity:0.1; fill:none\" points=\"\n  178.867,1447.87 2352.76,1447.87 \n  \"/>\n<polyline clip-path=\"url(#clip792)\" style=\"stroke:#000000; stroke-linecap:butt; stroke-linejoin:round; stroke-width:2; stroke-opacity:0.1; fill:none\" points=\"\n  178.867,1036.41 2352.76,1036.41 \n  \"/>\n<polyline clip-path=\"url(#clip792)\" style=\"stroke:#000000; stroke-linecap:butt; stroke-linejoin:round; stroke-width:2; stroke-opacity:0.1; fill:none\" points=\"\n  178.867,624.941 2352.76,624.941 \n  \"/>\n<polyline clip-path=\"url(#clip792)\" style=\"stroke:#000000; stroke-linecap:butt; stroke-linejoin:round; stroke-width:2; stroke-opacity:0.1; fill:none\" points=\"\n  178.867,213.475 2352.76,213.475 \n  \"/>\n<polyline clip-path=\"url(#clip790)\" style=\"stroke:#000000; stroke-linecap:butt; stroke-linejoin:round; stroke-width:4; stroke-opacity:1; fill:none\" points=\"\n  178.867,1486.45 178.867,123.472 \n  \"/>\n<polyline clip-path=\"url(#clip790)\" style=\"stroke:#000000; stroke-linecap:butt; stroke-linejoin:round; stroke-width:4; stroke-opacity:1; fill:none\" points=\"\n  178.867,1447.87 197.764,1447.87 \n  \"/>\n<polyline clip-path=\"url(#clip790)\" style=\"stroke:#000000; stroke-linecap:butt; stroke-linejoin:round; stroke-width:4; stroke-opacity:1; fill:none\" points=\"\n  178.867,1036.41 197.764,1036.41 \n  \"/>\n<polyline clip-path=\"url(#clip790)\" style=\"stroke:#000000; stroke-linecap:butt; stroke-linejoin:round; stroke-width:4; stroke-opacity:1; fill:none\" points=\"\n  178.867,624.941 197.764,624.941 \n  \"/>\n<polyline clip-path=\"url(#clip790)\" style=\"stroke:#000000; stroke-linecap:butt; stroke-linejoin:round; stroke-width:4; stroke-opacity:1; fill:none\" points=\"\n  178.867,213.475 197.764,213.475 \n  \"/>\n<path clip-path=\"url(#clip790)\" d=\"M50.9921 1448.32 L80.6679 1448.32 L80.6679 1452.26 L50.9921 1452.26 L50.9921 1448.32 Z\" fill=\"#000000\" fill-rule=\"evenodd\" fill-opacity=\"1\" /><path clip-path=\"url(#clip790)\" d=\"M104.927 1446.52 Q108.283 1447.24 110.158 1449.51 Q112.057 1451.77 112.057 1455.11 Q112.057 1460.22 108.538 1463.02 Q105.02 1465.82 98.5382 1465.82 Q96.3623 1465.82 94.0475 1465.38 Q91.7558 1464.97 89.3021 1464.11 L89.3021 1459.6 Q91.2465 1460.73 93.5613 1461.31 Q95.8761 1461.89 98.3993 1461.89 Q102.797 1461.89 105.089 1460.15 Q107.404 1458.42 107.404 1455.11 Q107.404 1452.05 105.251 1450.34 Q103.121 1448.6 99.3021 1448.6 L95.2743 1448.6 L95.2743 1444.76 L99.4872 1444.76 Q102.936 1444.76 104.765 1443.39 Q106.594 1442.01 106.594 1439.41 Q106.594 1436.75 104.696 1435.34 Q102.821 1433.9 99.3021 1433.9 Q97.3808 1433.9 95.1817 1434.32 Q92.9826 1434.74 90.3438 1435.62 L90.3438 1431.45 Q93.0058 1430.71 95.3206 1430.34 Q97.6585 1429.97 99.7187 1429.97 Q105.043 1429.97 108.145 1432.4 Q111.246 1434.81 111.246 1438.93 Q111.246 1441.8 109.603 1443.79 Q107.959 1445.76 104.927 1446.52 Z\" fill=\"#000000\" fill-rule=\"evenodd\" fill-opacity=\"1\" /><path clip-path=\"url(#clip790)\" d=\"M130.922 1433.67 Q127.311 1433.67 125.482 1437.24 Q123.677 1440.78 123.677 1447.91 Q123.677 1455.01 125.482 1458.58 Q127.311 1462.12 130.922 1462.12 Q134.556 1462.12 136.362 1458.58 Q138.191 1455.01 138.191 1447.91 Q138.191 1440.78 136.362 1437.24 Q134.556 1433.67 130.922 1433.67 M130.922 1429.97 Q136.732 1429.97 139.788 1434.57 Q142.867 1439.16 142.867 1447.91 Q142.867 1456.63 139.788 1461.24 Q136.732 1465.82 130.922 1465.82 Q125.112 1465.82 122.033 1461.24 Q118.978 1456.63 118.978 1447.91 Q118.978 1439.16 122.033 1434.57 Q125.112 1429.97 130.922 1429.97 Z\" fill=\"#000000\" fill-rule=\"evenodd\" fill-opacity=\"1\" /><path clip-path=\"url(#clip790)\" d=\"M50.9921 1036.86 L80.6679 1036.86 L80.6679 1040.79 L50.9921 1040.79 L50.9921 1036.86 Z\" fill=\"#000000\" fill-rule=\"evenodd\" fill-opacity=\"1\" /><path clip-path=\"url(#clip790)\" d=\"M94.7882 1049.75 L111.108 1049.75 L111.108 1053.69 L89.1632 1053.69 L89.1632 1049.75 Q91.8252 1047 96.4085 1042.37 Q101.015 1037.71 102.196 1036.37 Q104.441 1033.85 105.321 1032.11 Q106.223 1030.35 106.223 1028.66 Q106.223 1025.91 104.279 1024.17 Q102.358 1022.44 99.2558 1022.44 Q97.0567 1022.44 94.603 1023.2 Q92.1725 1023.96 89.3947 1025.52 L89.3947 1020.79 Q92.2188 1019.66 94.6724 1019.08 Q97.1261 1018.5 99.1632 1018.5 Q104.534 1018.5 107.728 1021.19 Q110.922 1023.87 110.922 1028.36 Q110.922 1030.49 110.112 1032.41 Q109.325 1034.31 107.219 1036.9 Q106.64 1037.58 103.538 1040.79 Q100.436 1043.99 94.7882 1049.75 Z\" fill=\"#000000\" fill-rule=\"evenodd\" fill-opacity=\"1\" /><path clip-path=\"url(#clip790)\" d=\"M130.922 1022.21 Q127.311 1022.21 125.482 1025.77 Q123.677 1029.31 123.677 1036.44 Q123.677 1043.55 125.482 1047.11 Q127.311 1050.65 130.922 1050.65 Q134.556 1050.65 136.362 1047.11 Q138.191 1043.55 138.191 1036.44 Q138.191 1029.31 136.362 1025.77 Q134.556 1022.21 130.922 1022.21 M130.922 1018.5 Q136.732 1018.5 139.788 1023.11 Q142.867 1027.69 142.867 1036.44 Q142.867 1045.17 139.788 1049.78 Q136.732 1054.36 130.922 1054.36 Q125.112 1054.36 122.033 1049.78 Q118.978 1045.17 118.978 1036.44 Q118.978 1027.69 122.033 1023.11 Q125.112 1018.5 130.922 1018.5 Z\" fill=\"#000000\" fill-rule=\"evenodd\" fill-opacity=\"1\" /><path clip-path=\"url(#clip790)\" d=\"M50.9921 625.392 L80.6679 625.392 L80.6679 629.328 L50.9921 629.328 L50.9921 625.392 Z\" fill=\"#000000\" fill-rule=\"evenodd\" fill-opacity=\"1\" /><path clip-path=\"url(#clip790)\" d=\"M91.5706 638.286 L99.2095 638.286 L99.2095 611.92 L90.8993 613.587 L90.8993 609.328 L99.1632 607.661 L103.839 607.661 L103.839 638.286 L111.478 638.286 L111.478 642.221 L91.5706 642.221 L91.5706 638.286 Z\" fill=\"#000000\" fill-rule=\"evenodd\" fill-opacity=\"1\" /><path clip-path=\"url(#clip790)\" d=\"M130.922 610.74 Q127.311 610.74 125.482 614.304 Q123.677 617.846 123.677 624.976 Q123.677 632.082 125.482 635.647 Q127.311 639.189 130.922 639.189 Q134.556 639.189 136.362 635.647 Q138.191 632.082 138.191 624.976 Q138.191 617.846 136.362 614.304 Q134.556 610.74 130.922 610.74 M130.922 607.036 Q136.732 607.036 139.788 611.642 Q142.867 616.226 142.867 624.976 Q142.867 633.703 139.788 638.309 Q136.732 642.892 130.922 642.892 Q125.112 642.892 122.033 638.309 Q118.978 633.703 118.978 624.976 Q118.978 616.226 122.033 611.642 Q125.112 607.036 130.922 607.036 Z\" fill=\"#000000\" fill-rule=\"evenodd\" fill-opacity=\"1\" /><path clip-path=\"url(#clip790)\" d=\"M130.922 199.274 Q127.311 199.274 125.482 202.838 Q123.677 206.38 123.677 213.51 Q123.677 220.616 125.482 224.181 Q127.311 227.723 130.922 227.723 Q134.556 227.723 136.362 224.181 Q138.191 220.616 138.191 213.51 Q138.191 206.38 136.362 202.838 Q134.556 199.274 130.922 199.274 M130.922 195.57 Q136.732 195.57 139.788 200.176 Q142.867 204.76 142.867 213.51 Q142.867 222.236 139.788 226.843 Q136.732 231.426 130.922 231.426 Q125.112 231.426 122.033 226.843 Q118.978 222.236 118.978 213.51 Q118.978 204.76 122.033 200.176 Q125.112 195.57 130.922 195.57 Z\" fill=\"#000000\" fill-rule=\"evenodd\" fill-opacity=\"1\" /><path clip-path=\"url(#clip790)\" d=\"M837.691 16.7545 L837.691 25.383 Q833.56 21.5346 828.86 19.6307 Q824.202 17.7268 818.936 17.7268 Q808.565 17.7268 803.056 24.0867 Q797.547 30.4061 797.547 42.3968 Q797.547 54.3469 803.056 60.7069 Q808.565 67.0263 818.936 67.0263 Q824.202 67.0263 828.86 65.1223 Q833.56 63.2184 837.691 59.3701 L837.691 67.9175 Q833.397 70.8341 828.577 72.2924 Q823.797 73.7508 818.45 73.7508 Q804.717 73.7508 796.818 65.3654 Q788.919 56.9395 788.919 42.3968 Q788.919 27.8135 796.818 19.4281 Q804.717 11.0023 818.45 11.0023 Q823.878 11.0023 828.658 12.4606 Q833.479 13.8784 837.691 16.7545 Z\" fill=\"#000000\" fill-rule=\"evenodd\" fill-opacity=\"1\" /><path clip-path=\"url(#clip790)\" d=\"M870.625 49.7694 Q861.592 49.7694 858.108 51.8354 Q854.624 53.9013 854.624 58.8839 Q854.624 62.8538 857.217 65.2034 Q859.85 67.5124 864.346 67.5124 Q870.544 67.5124 874.271 63.1374 Q878.038 58.7219 878.038 51.4303 L878.038 49.7694 L870.625 49.7694 M885.492 46.6907 L885.492 72.576 L878.038 72.576 L878.038 65.6895 Q875.486 69.8214 871.679 71.8063 Q867.871 73.7508 862.361 73.7508 Q855.394 73.7508 851.262 69.8619 Q847.171 65.9325 847.171 59.3701 Q847.171 51.7138 852.275 47.825 Q857.419 43.9361 867.587 43.9361 L878.038 43.9361 L878.038 43.2069 Q878.038 38.0623 874.636 35.2672 Q871.273 32.4315 865.157 32.4315 Q861.268 32.4315 857.581 33.3632 Q853.895 34.295 850.492 36.1584 L850.492 29.2718 Q854.584 27.692 858.432 26.9223 Q862.28 26.1121 865.926 26.1121 Q875.77 26.1121 880.631 31.2163 Q885.492 36.3204 885.492 46.6907 Z\" fill=\"#000000\" fill-rule=\"evenodd\" fill-opacity=\"1\" /><path clip-path=\"url(#clip790)\" d=\"M938.559 45.1919 L938.559 72.576 L931.105 72.576 L931.105 45.4349 Q931.105 38.994 928.594 35.7938 Q926.082 32.5936 921.059 32.5936 Q915.023 32.5936 911.539 36.4419 Q908.056 40.2903 908.056 46.9338 L908.056 72.576 L900.561 72.576 L900.561 27.2059 L908.056 27.2059 L908.056 34.2544 Q910.729 30.163 914.335 28.1376 Q917.98 26.1121 922.72 26.1121 Q930.538 26.1121 934.549 30.9732 Q938.559 35.7938 938.559 45.1919 Z\" fill=\"#000000\" fill-rule=\"evenodd\" fill-opacity=\"1\" /><path clip-path=\"url(#clip790)\" d=\"M998.674 76.7889 Q995.515 84.8907 992.517 87.3618 Q989.519 89.8329 984.496 89.8329 L978.541 89.8329 L978.541 83.5945 L982.916 83.5945 Q985.995 83.5945 987.696 82.1361 Q989.398 80.6778 991.464 75.2496 L992.801 71.8468 L974.45 27.2059 L982.349 27.2059 L996.527 62.6918 L1010.71 27.2059 L1018.6 27.2059 L998.674 76.7889 Z\" fill=\"#000000\" fill-rule=\"evenodd\" fill-opacity=\"1\" /><path clip-path=\"url(#clip790)\" d=\"M1046.48 32.4315 Q1040.48 32.4315 1037 37.1306 Q1033.51 41.7891 1033.51 49.9314 Q1033.51 58.0738 1036.96 62.7728 Q1040.44 67.4314 1046.48 67.4314 Q1052.43 67.4314 1055.91 62.7323 Q1059.4 58.0333 1059.4 49.9314 Q1059.4 41.8701 1055.91 37.1711 Q1052.43 32.4315 1046.48 32.4315 M1046.48 26.1121 Q1056.2 26.1121 1061.75 32.4315 Q1067.3 38.7509 1067.3 49.9314 Q1067.3 61.0714 1061.75 67.4314 Q1056.2 73.7508 1046.48 73.7508 Q1036.71 73.7508 1031.16 67.4314 Q1025.65 61.0714 1025.65 49.9314 Q1025.65 38.7509 1031.16 32.4315 Q1036.71 26.1121 1046.48 26.1121 Z\" fill=\"#000000\" fill-rule=\"evenodd\" fill-opacity=\"1\" /><path clip-path=\"url(#clip790)\" d=\"M1078.88 54.671 L1078.88 27.2059 L1086.34 27.2059 L1086.34 54.3874 Q1086.34 60.8284 1088.85 64.0691 Q1091.36 67.2693 1096.38 67.2693 Q1102.42 67.2693 1105.9 63.421 Q1109.43 59.5726 1109.43 52.9291 L1109.43 27.2059 L1116.88 27.2059 L1116.88 72.576 L1109.43 72.576 L1109.43 65.6084 Q1106.71 69.7404 1103.11 71.7658 Q1099.54 73.7508 1094.8 73.7508 Q1086.98 73.7508 1082.93 68.8897 Q1078.88 64.0286 1078.88 54.671 M1097.64 26.1121 L1097.64 26.1121 Z\" fill=\"#000000\" fill-rule=\"evenodd\" fill-opacity=\"1\" /><path clip-path=\"url(#clip790)\" d=\"M1181.57 9.54393 L1181.57 15.7418 L1174.44 15.7418 Q1170.43 15.7418 1168.85 17.3622 Q1167.31 18.9825 1167.31 23.1955 L1167.31 27.2059 L1179.59 27.2059 L1179.59 32.9987 L1167.31 32.9987 L1167.31 72.576 L1159.82 72.576 L1159.82 32.9987 L1152.69 32.9987 L1152.69 27.2059 L1159.82 27.2059 L1159.82 24.0462 Q1159.82 16.471 1163.34 13.0277 Q1166.87 9.54393 1174.52 9.54393 L1181.57 9.54393 Z\" fill=\"#000000\" fill-rule=\"evenodd\" fill-opacity=\"1\" /><path clip-path=\"url(#clip790)\" d=\"M1187.81 27.2059 L1195.26 27.2059 L1195.26 72.576 L1187.81 72.576 L1187.81 27.2059 M1187.81 9.54393 L1195.26 9.54393 L1195.26 18.9825 L1187.81 18.9825 L1187.81 9.54393 Z\" fill=\"#000000\" fill-rule=\"evenodd\" fill-opacity=\"1\" /><path clip-path=\"url(#clip790)\" d=\"M1248.57 45.1919 L1248.57 72.576 L1241.12 72.576 L1241.12 45.4349 Q1241.12 38.994 1238.61 35.7938 Q1236.1 32.5936 1231.07 32.5936 Q1225.04 32.5936 1221.56 36.4419 Q1218.07 40.2903 1218.07 46.9338 L1218.07 72.576 L1210.58 72.576 L1210.58 27.2059 L1218.07 27.2059 L1218.07 34.2544 Q1220.74 30.163 1224.35 28.1376 Q1228 26.1121 1232.74 26.1121 Q1240.55 26.1121 1244.56 30.9732 Q1248.57 35.7938 1248.57 45.1919 Z\" fill=\"#000000\" fill-rule=\"evenodd\" fill-opacity=\"1\" /><path clip-path=\"url(#clip790)\" d=\"M1293.3 34.0924 L1293.3 9.54393 L1300.75 9.54393 L1300.75 72.576 L1293.3 72.576 L1293.3 65.7705 Q1290.95 69.8214 1287.34 71.8063 Q1283.78 73.7508 1278.75 73.7508 Q1270.53 73.7508 1265.35 67.1883 Q1260.2 60.6258 1260.2 49.9314 Q1260.2 39.2371 1265.35 32.6746 Q1270.53 26.1121 1278.75 26.1121 Q1283.78 26.1121 1287.34 28.0971 Q1290.95 30.0415 1293.3 34.0924 M1267.9 49.9314 Q1267.9 58.1548 1271.26 62.8538 Q1274.66 67.5124 1280.58 67.5124 Q1286.49 67.5124 1289.89 62.8538 Q1293.3 58.1548 1293.3 49.9314 Q1293.3 41.7081 1289.89 37.0496 Q1286.49 32.3505 1280.58 32.3505 Q1274.66 32.3505 1271.26 37.0496 Q1267.9 41.7081 1267.9 49.9314 Z\" fill=\"#000000\" fill-rule=\"evenodd\" fill-opacity=\"1\" /><path clip-path=\"url(#clip790)\" d=\"M1349.85 14.324 L1349.85 27.2059 L1365.2 27.2059 L1365.2 32.9987 L1349.85 32.9987 L1349.85 57.6282 Q1349.85 63.1779 1351.35 64.7578 Q1352.89 66.3376 1357.54 66.3376 L1365.2 66.3376 L1365.2 72.576 L1357.54 72.576 Q1348.92 72.576 1345.63 69.3758 Q1342.35 66.1351 1342.35 57.6282 L1342.35 32.9987 L1336.88 32.9987 L1336.88 27.2059 L1342.35 27.2059 L1342.35 14.324 L1349.85 14.324 Z\" fill=\"#000000\" fill-rule=\"evenodd\" fill-opacity=\"1\" /><path clip-path=\"url(#clip790)\" d=\"M1412.72 45.1919 L1412.72 72.576 L1405.26 72.576 L1405.26 45.4349 Q1405.26 38.994 1402.75 35.7938 Q1400.24 32.5936 1395.22 32.5936 Q1389.18 32.5936 1385.7 36.4419 Q1382.21 40.2903 1382.21 46.9338 L1382.21 72.576 L1374.72 72.576 L1374.72 9.54393 L1382.21 9.54393 L1382.21 34.2544 Q1384.89 30.163 1388.49 28.1376 Q1392.14 26.1121 1396.88 26.1121 Q1404.7 26.1121 1408.71 30.9732 Q1412.72 35.7938 1412.72 45.1919 Z\" fill=\"#000000\" fill-rule=\"evenodd\" fill-opacity=\"1\" /><path clip-path=\"url(#clip790)\" d=\"M1466.39 48.0275 L1466.39 51.6733 L1432.12 51.6733 Q1432.61 59.3701 1436.74 63.421 Q1440.91 67.4314 1448.32 67.4314 Q1452.62 67.4314 1456.63 66.3781 Q1460.68 65.3249 1464.65 63.2184 L1464.65 70.267 Q1460.64 71.9684 1456.43 72.8596 Q1452.21 73.7508 1447.88 73.7508 Q1437.02 73.7508 1430.66 67.4314 Q1424.34 61.1119 1424.34 50.3365 Q1424.34 39.1965 1430.34 32.6746 Q1436.37 26.1121 1446.58 26.1121 Q1455.74 26.1121 1461.04 32.0264 Q1466.39 37.9003 1466.39 48.0275 M1458.94 45.84 Q1458.86 39.7232 1455.49 36.0774 Q1452.17 32.4315 1446.66 32.4315 Q1440.43 32.4315 1436.66 35.9558 Q1432.93 39.4801 1432.36 45.8805 L1458.94 45.84 Z\" fill=\"#000000\" fill-rule=\"evenodd\" fill-opacity=\"1\" /><path clip-path=\"url(#clip790)\" d=\"M1540.32 35.9153 Q1543.12 30.8922 1547 28.5022 Q1550.89 26.1121 1556.16 26.1121 Q1563.25 26.1121 1567.1 31.0947 Q1570.95 36.0368 1570.95 45.1919 L1570.95 72.576 L1563.45 72.576 L1563.45 45.4349 Q1563.45 38.913 1561.14 35.7533 Q1558.83 32.5936 1554.09 32.5936 Q1548.3 32.5936 1544.94 36.4419 Q1541.58 40.2903 1541.58 46.9338 L1541.58 72.576 L1534.08 72.576 L1534.08 45.4349 Q1534.08 38.8725 1531.77 35.7533 Q1529.46 32.5936 1524.64 32.5936 Q1518.93 32.5936 1515.57 36.4824 Q1512.21 40.3308 1512.21 46.9338 L1512.21 72.576 L1504.71 72.576 L1504.71 27.2059 L1512.21 27.2059 L1512.21 34.2544 Q1514.76 30.082 1518.32 28.0971 Q1521.89 26.1121 1526.79 26.1121 Q1531.73 26.1121 1535.18 28.6237 Q1538.66 31.1352 1540.32 35.9153 Z\" fill=\"#000000\" fill-rule=\"evenodd\" fill-opacity=\"1\" /><path clip-path=\"url(#clip790)\" d=\"M1606.43 49.7694 Q1597.4 49.7694 1593.91 51.8354 Q1590.43 53.9013 1590.43 58.8839 Q1590.43 62.8538 1593.02 65.2034 Q1595.66 67.5124 1600.15 67.5124 Q1606.35 67.5124 1610.08 63.1374 Q1613.84 58.7219 1613.84 51.4303 L1613.84 49.7694 L1606.43 49.7694 M1621.3 46.6907 L1621.3 72.576 L1613.84 72.576 L1613.84 65.6895 Q1611.29 69.8214 1607.48 71.8063 Q1603.68 73.7508 1598.17 73.7508 Q1591.2 73.7508 1587.07 69.8619 Q1582.98 65.9325 1582.98 59.3701 Q1582.98 51.7138 1588.08 47.825 Q1593.23 43.9361 1603.39 43.9361 L1613.84 43.9361 L1613.84 43.2069 Q1613.84 38.0623 1610.44 35.2672 Q1607.08 32.4315 1600.96 32.4315 Q1597.07 32.4315 1593.39 33.3632 Q1589.7 34.295 1586.3 36.1584 L1586.3 29.2718 Q1590.39 27.692 1594.24 26.9223 Q1598.09 26.1121 1601.73 26.1121 Q1611.58 26.1121 1616.44 31.2163 Q1621.3 36.3204 1621.3 46.6907 Z\" fill=\"#000000\" fill-rule=\"evenodd\" fill-opacity=\"1\" /><path clip-path=\"url(#clip790)\" d=\"M1674.37 27.2059 L1657.96 49.2833 L1675.22 72.576 L1666.43 72.576 L1653.22 54.752 L1640.01 72.576 L1631.22 72.576 L1648.84 48.8377 L1632.72 27.2059 L1641.51 27.2059 L1653.54 43.369 L1665.57 27.2059 L1674.37 27.2059 Z\" fill=\"#000000\" fill-rule=\"evenodd\" fill-opacity=\"1\" /><path clip-path=\"url(#clip790)\" d=\"M1693.77 62.2867 L1701.99 62.2867 L1701.99 72.576 L1693.77 72.576 L1693.77 62.2867 M1701.75 56.3319 L1694.01 56.3319 L1694.01 50.0935 Q1694.01 46.0021 1695.15 43.369 Q1696.28 40.7359 1699.93 37.2521 L1703.57 33.6468 Q1705.88 31.4998 1706.89 29.5959 Q1707.95 27.692 1707.95 25.707 Q1707.95 22.1017 1705.27 19.8737 Q1702.64 17.6457 1698.27 17.6457 Q1695.07 17.6457 1691.42 19.0636 Q1687.81 20.4814 1683.88 23.1955 L1683.88 15.5798 Q1687.69 13.2708 1691.58 12.1365 Q1695.51 11.0023 1699.68 11.0023 Q1707.14 11.0023 1711.63 14.9316 Q1716.17 18.861 1716.17 25.3019 Q1716.17 28.3806 1714.71 31.1758 Q1713.25 33.9304 1709.61 37.4142 L1706.04 40.8979 Q1704.14 42.8019 1703.33 43.8956 Q1702.56 44.9488 1702.24 45.9616 Q1701.99 46.8122 1701.87 48.0275 Q1701.75 49.2428 1701.75 51.3493 L1701.75 56.3319 Z\" fill=\"#000000\" fill-rule=\"evenodd\" fill-opacity=\"1\" /><path clip-path=\"url(#clip790)\" d=\"M1734.48 62.2867 L1742.7 62.2867 L1742.7 72.576 L1734.48 72.576 L1734.48 62.2867 M1734.48 12.096 L1742.7 12.096 L1742.7 38.6294 L1741.89 53.0912 L1735.33 53.0912 L1734.48 38.6294 L1734.48 12.096 Z\" fill=\"#000000\" fill-rule=\"evenodd\" fill-opacity=\"1\" /><polyline clip-path=\"url(#clip792)\" style=\"stroke:#009af9; stroke-linecap:butt; stroke-linejoin:round; stroke-width:8; stroke-opacity:1; fill:none\" points=\"\n  240.392,1447.87 261.107,1406.65 281.823,1366.09 302.538,1326.21 323.254,1287 343.97,1248.46 364.685,1210.59 385.401,1173.39 406.116,1136.87 426.832,1101.02 \n  447.547,1065.84 468.263,1031.33 488.978,997.49 509.694,964.324 530.409,931.83 551.125,900.007 571.841,868.857 592.556,838.378 613.272,808.57 633.987,779.435 \n  654.703,750.971 675.418,723.179 696.134,696.059 716.849,669.61 737.565,643.833 758.28,618.728 778.996,594.294 799.712,570.532 820.427,547.442 841.143,525.024 \n  861.858,503.277 882.574,482.202 903.289,461.799 924.005,442.067 944.72,423.007 965.436,404.619 986.151,386.903 1006.87,369.858 1027.58,353.485 1048.3,337.784 \n  1069.01,322.754 1089.73,308.396 1110.44,294.71 1131.16,281.696 1151.88,269.353 1172.59,257.682 1193.31,246.683 1214.02,236.355 1234.74,226.699 1255.45,217.715 \n  1276.17,209.403 1296.88,201.762 1317.6,194.793 1338.32,188.496 1359.03,182.87 1379.75,177.916 1400.46,173.634 1421.18,170.024 1441.89,167.085 1462.61,164.818 \n  1483.32,163.222 1504.04,162.299 1524.76,162.047 1545.47,162.467 1566.19,163.558 1586.9,165.322 1607.62,167.756 1628.33,170.863 1649.05,174.642 1669.76,179.092 \n  1690.48,184.213 1711.2,190.007 1731.91,196.472 1752.63,203.609 1773.34,211.418 1794.06,219.898 1814.77,229.05 1835.49,238.874 1856.2,249.37 1876.92,260.537 \n  1897.64,272.376 1918.35,284.886 1939.07,298.069 1959.78,311.923 1980.5,326.449 2001.21,341.646 2021.93,357.515 2042.64,374.056 2063.36,391.269 2084.08,409.153 \n  2104.79,427.709 2125.51,446.937 2146.22,466.837 2166.94,487.408 2187.65,508.651 2208.37,530.565 2229.08,553.152 2249.8,576.41 2270.52,600.339 2291.23,624.941 \n  \n  \"/>\n<circle clip-path=\"url(#clip792)\" cx=\"1524.76\" cy=\"162.047\" r=\"18\" fill=\"#ff0000\" fill-rule=\"evenodd\" fill-opacity=\"1\" stroke=\"#000000\" stroke-opacity=\"1\" stroke-width=\"3.2\"/>\n<polyline clip-path=\"url(#clip792)\" style=\"stroke:#000000; stroke-linecap:butt; stroke-linejoin:round; stroke-width:12; stroke-opacity:0.5; fill:none\" stroke-dasharray=\"48, 30\" points=\"\n  1522.17,2849.42 1522.17,-1239.5 \n  \"/>\n<circle clip-path=\"url(#clip792)\" cx=\"1524.76\" cy=\"162.047\" r=\"18\" fill=\"#ff0000\" fill-rule=\"evenodd\" fill-opacity=\"1\" stroke=\"#000000\" stroke-opacity=\"1\" stroke-width=\"3.2\"/>\n<polyline clip-path=\"url(#clip792)\" style=\"stroke:#000000; stroke-linecap:butt; stroke-linejoin:round; stroke-width:6; stroke-opacity:0.5; fill:none\" stroke-dasharray=\"24, 15\" points=\"\n  1522.17,2849.42 1522.17,-1239.5 \n  \"/>\n<circle clip-path=\"url(#clip792)\" cx=\"1524.76\" cy=\"162.047\" r=\"18\" fill=\"#ff0000\" fill-rule=\"evenodd\" fill-opacity=\"1\" stroke=\"#000000\" stroke-opacity=\"1\" stroke-width=\"3.2\"/>\n<polyline clip-path=\"url(#clip792)\" style=\"stroke:#000000; stroke-linecap:butt; stroke-linejoin:round; stroke-width:6; stroke-opacity:0.5; fill:none\" stroke-dasharray=\"24, 15\" points=\"\n  1522.17,2849.42 1522.17,-1239.5 \n  \"/>\n<circle clip-path=\"url(#clip792)\" cx=\"1524.76\" cy=\"162.047\" r=\"18\" fill=\"#ff0000\" fill-rule=\"evenodd\" fill-opacity=\"1\" stroke=\"#000000\" stroke-opacity=\"1\" stroke-width=\"3.2\"/>\n<polyline clip-path=\"url(#clip792)\" style=\"stroke:#000000; stroke-linecap:butt; stroke-linejoin:round; stroke-width:6; stroke-opacity:0.5; fill:none\" stroke-dasharray=\"24, 15\" points=\"\n  1522.17,2849.42 1522.17,-1239.5 \n  \"/>\n<circle clip-path=\"url(#clip792)\" cx=\"1524.76\" cy=\"162.047\" r=\"18\" fill=\"#ff0000\" fill-rule=\"evenodd\" fill-opacity=\"1\" stroke=\"#000000\" stroke-opacity=\"1\" stroke-width=\"3.2\"/>\n<polyline clip-path=\"url(#clip792)\" style=\"stroke:#000000; stroke-linecap:butt; stroke-linejoin:round; stroke-width:6; stroke-opacity:0.5; fill:none\" stroke-dasharray=\"24, 15\" points=\"\n  1524.76,2849.42 1524.76,-1239.5 \n  \"/>\n</svg>\n"
     },
     "execution_count": 121,
     "metadata": {},
     "output_type": "execute_result"
    }
   ],
   "source": [
    "scatter!([x[ix]], [fmax], color = :red, ms = 5)\n",
    "vline!([x[ix]], lw = 1.5, color = :black, ls = :dash, alpha = 0.5, xticks = ([x[ix]]))"
   ]
  },
  {
   "cell_type": "markdown",
   "metadata": {},
   "source": [
    "## Derivatives"
   ]
  },
  {
   "cell_type": "markdown",
   "metadata": {},
   "source": [
    "Linear functions have a constant slope, as we have seen in one of the earlier examples. However, what about non-linear functions? What is the rate of change for a non-linear function as we move along its domain?\n",
    "\n",
    "Let $(x_0, f(x_0))$ be a point on the graph of $y = f(x)$. The derivative of $f$ at the point $x_0$ is the slope of the tangent line to the graph of $f$ at $(x_0, f(x_0))$. We can denote this derivative of a function $f$ at $x_0$ as\n",
    "\n",
    "$$\n",
    "f'(x_0) = \\frac{df(x_0)}{dx} = f_{x}(x_0)\n",
    "$$\n",
    "\n",
    "The notation above is interchangeable. The derivative is defined formally as, \n",
    "\n",
    "$$\n",
    "f'(x_0) = \\lim_{h \\rightarrow 0} \\frac{f(x_{0} + h) - f(x_0)}{h}\n",
    "$$\n",
    "\n",
    "In taking derivatives we normally revert to the derivative rules. The derivative rules are the following, \n",
    "\n",
    "1. Constant rule\n",
    "2. Power rule\n",
    "3. Chain rule\n",
    "4. Sum (difference) rule\n",
    "5. Product rule\n",
    "6. Quotient rule\n",
    "\n",
    "Then we can also speak of the exponential and log rule for derivatives. These are ones that will be frequently used. Let us have a brief discussion and examples of each of the rules. We will also accompany the solutions that are written out by hand with a solution generated by the computer to check that we are correct in our calculation. \n",
    "\n",
    "It is important to note that there are several ways in which you can take derivatives on the computer. The primary methods are, \n",
    "\n",
    "1. Symbolic differentiation\n",
    "2. Automatic differentiation\n",
    "3. Numerical differentiation\n",
    "\n",
    "We will not be going into detail on how these methods work. We will just use them in practice. We will show the symbolic and automatic differentiation approaches in this tutorial. "
   ]
  },
  {
   "cell_type": "markdown",
   "metadata": {},
   "source": []
  }
 ],
 "metadata": {
  "kernelspec": {
   "display_name": "Julia 1.7.0-rc2",
   "language": "julia",
   "name": "julia-1.7"
  },
  "language_info": {
   "file_extension": ".jl",
   "mimetype": "application/julia",
   "name": "julia",
   "version": "1.7.0"
  },
  "orig_nbformat": 4
 },
 "nbformat": 4,
 "nbformat_minor": 2
}
