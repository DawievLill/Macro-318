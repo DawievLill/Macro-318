{
 "cells": [
  {
   "cell_type": "markdown",
   "metadata": {},
   "source": [
    "# <span style=\"color:#2c061f\"> Macro 318: Tutorial #2 </span>  \n",
    "\n",
    "<br>\n",
    "\n",
    "## <span style=\"color:#374045\"> Data, Stats and Math with Julia </span>\n",
    "\n",
    "\n",
    "#### <span style=\"color:#374045\"> Lecturer: </span> <span style=\"color:#d89216\"> <br> Dawie van Lill (dvanlill@sun.ac.za) </span>"
   ]
  },
  {
   "cell_type": "markdown",
   "metadata": {},
   "source": [
    "# Introduction"
   ]
  },
  {
   "cell_type": "markdown",
   "metadata": {},
   "source": [
    "In this tutorial we will start our discussion with how to work with data in Julia. We will then cover some basic statistics and in the last section move on to some fundamental ideas in mathematics (mostly related to calculus).  \n",
    "\n",
    "Please note that working with data in Julia is going to be different than working with data in Stata. I am just showing basic principles here so that you are aware of them. You do not need to memorise everything in this notebook. It is simply here as a good reference to have if you want to do some useful data work for macroeconomics. \n",
    "\n",
    "If you are more comfortable with Stata for working with data then you can continue on that path. I am simply offering an alternative. \n",
    "\n",
    "In the job market there are a few languages that are used for data analysis. The most popular ones are Stata, R, Python and Julia. At this stage Julia is not the most popular for data work, but it shares similarities with Python. So if you know Julia well, it will be easy to pick up Python. Julia is more popular for work related to numerical / scientific computation, which we will cover in some of the future tutorials. \n",
    "\n",
    "As an aside, you might be wondering why we chose Julia for this course. There are several reasons, but primarily it is because the language is easy to learn and is similar in syntax to Python. It is also blazingly fast!\n",
    "\n",
    "Why not learn Python then? Well, we considered this, but Julia is a just a bit easier to get started with and easier to install for most people. And also, it is super fast! I also believe that it is a language that will be used a lot in economics in the future, with a lot of macroeconomists starting to use it for their modelling purposes. \n",
    "\n",
    "If you are interested in Python as an alternative to Julia you can always contact me and I can refer you to some resources. However, for most students it is more important to get the programming principles right without worrying too much about the language that they are using. "
   ]
  },
  {
   "cell_type": "code",
   "execution_count": 2,
   "metadata": {},
   "outputs": [],
   "source": [
    "import Pkg"
   ]
  },
  {
   "cell_type": "code",
   "execution_count": 83,
   "metadata": {},
   "outputs": [
    {
     "name": "stderr",
     "output_type": "stream",
     "text": [
      "\u001b[32m\u001b[1m   Resolving\u001b[22m\u001b[39m package versions...\n",
      "\u001b[32m\u001b[1m  No Changes\u001b[22m\u001b[39m to `~/.julia/environments/v1.7/Project.toml`\n",
      "\u001b[32m\u001b[1m  No Changes\u001b[22m\u001b[39m to `~/.julia/environments/v1.7/Manifest.toml`\n",
      "\u001b[32m\u001b[1m   Resolving\u001b[22m\u001b[39m package versions...\n",
      "\u001b[32m\u001b[1m  No Changes\u001b[22m\u001b[39m to `~/.julia/environments/v1.7/Project.toml`\n",
      "\u001b[32m\u001b[1m  No Changes\u001b[22m\u001b[39m to `~/.julia/environments/v1.7/Manifest.toml`\n",
      "\u001b[32m\u001b[1m   Resolving\u001b[22m\u001b[39m package versions...\n",
      "\u001b[32m\u001b[1m  No Changes\u001b[22m\u001b[39m to `~/.julia/environments/v1.7/Project.toml`\n",
      "\u001b[32m\u001b[1m  No Changes\u001b[22m\u001b[39m to `~/.julia/environments/v1.7/Manifest.toml`\n",
      "\u001b[32m\u001b[1m   Resolving\u001b[22m\u001b[39m package versions...\n",
      "\u001b[32m\u001b[1m  No Changes\u001b[22m\u001b[39m to `~/.julia/environments/v1.7/Project.toml`\n",
      "\u001b[32m\u001b[1m  No Changes\u001b[22m\u001b[39m to `~/.julia/environments/v1.7/Manifest.toml`\n",
      "\u001b[32m\u001b[1m   Resolving\u001b[22m\u001b[39m package versions...\n",
      "\u001b[32m\u001b[1m  No Changes\u001b[22m\u001b[39m to `~/.julia/environments/v1.7/Project.toml`\n",
      "\u001b[32m\u001b[1m  No Changes\u001b[22m\u001b[39m to `~/.julia/environments/v1.7/Manifest.toml`\n",
      "\u001b[32m\u001b[1m   Resolving\u001b[22m\u001b[39m package versions...\n",
      "\u001b[32m\u001b[1m  No Changes\u001b[22m\u001b[39m to `~/.julia/environments/v1.7/Project.toml`\n",
      "\u001b[32m\u001b[1m  No Changes\u001b[22m\u001b[39m to `~/.julia/environments/v1.7/Manifest.toml`\n",
      "\u001b[32m\u001b[1m   Resolving\u001b[22m\u001b[39m package versions...\n",
      "\u001b[32m\u001b[1m  No Changes\u001b[22m\u001b[39m to `~/.julia/environments/v1.7/Project.toml`\n",
      "\u001b[32m\u001b[1m  No Changes\u001b[22m\u001b[39m to `~/.julia/environments/v1.7/Manifest.toml`\n",
      "\u001b[32m\u001b[1m   Resolving\u001b[22m\u001b[39m package versions...\n",
      "\u001b[32m\u001b[1m  No Changes\u001b[22m\u001b[39m to `~/.julia/environments/v1.7/Project.toml`\n",
      "\u001b[32m\u001b[1m  No Changes\u001b[22m\u001b[39m to `~/.julia/environments/v1.7/Manifest.toml`\n",
      "\u001b[32m\u001b[1m   Resolving\u001b[22m\u001b[39m package versions...\n",
      "\u001b[32m\u001b[1m  No Changes\u001b[22m\u001b[39m to `~/.julia/environments/v1.7/Project.toml`\n",
      "\u001b[32m\u001b[1m  No Changes\u001b[22m\u001b[39m to `~/.julia/environments/v1.7/Manifest.toml`\n"
     ]
    }
   ],
   "source": [
    "Pkg.add(\"CategoricalArrays\")\n",
    "Pkg.add(\"CSV\")\n",
    "Pkg.add(\"DataFrames\")\n",
    "Pkg.add(\"DataFramesMeta\")\n",
    "Pkg.add(\"Downloads\")\n",
    "Pkg.add(\"GLM\")\n",
    "Pkg.add(\"Random\")\n",
    "Pkg.add(\"RDatasets\")\n",
    "Pkg.add(\"Statistics\")"
   ]
  },
  {
   "cell_type": "code",
   "execution_count": 70,
   "metadata": {},
   "outputs": [],
   "source": [
    "using CategoricalArrays\n",
    "using CSV\n",
    "using DataFrames\n",
    "using DataFramesMeta\n",
    "using Downloads\n",
    "using GLM\n",
    "using Random\n",
    "using RDatasets\n",
    "using Statistics"
   ]
  },
  {
   "cell_type": "markdown",
   "metadata": {},
   "source": [
    "# Working with data"
   ]
  },
  {
   "cell_type": "markdown",
   "metadata": {},
   "source": [
    "The primary package for working with data in Julia is `DataFrames.jl`. For a comprehensive tutorial series on this package I would recommend Bogumił Kamiński's [Introduction to DataFrames](https://github.com/bkamins/Julia-DataFrames-Tutorial)."
   ]
  },
  {
   "cell_type": "markdown",
   "metadata": {},
   "source": [
    "# DataFrames basics"
   ]
  },
  {
   "cell_type": "markdown",
   "metadata": {},
   "source": [
    "In this section we discuss basic principles from the DataFrames package. For the first topic we look at how to construct and access DataFrames. The fundamental object that we care about is the `DataFrame`. This is similar to a `dataframe` that you would find in R or in Pandas (Python).\n",
    "\n",
    "DataFrames are essentially matrices, with the rows being observations and the columns indicating the variables. "
   ]
  },
  {
   "cell_type": "markdown",
   "metadata": {},
   "source": [
    "## Constructors"
   ]
  },
  {
   "cell_type": "markdown",
   "metadata": {},
   "source": [
    "The easiest thing to construct is an empty DataFrame. "
   ]
  },
  {
   "cell_type": "code",
   "execution_count": 5,
   "metadata": {},
   "outputs": [
    {
     "data": {
      "text/html": [
       "<div class=\"data-frame\"><p>0 rows × 0 columns</p><table class=\"data-frame\"><thead><tr><th></th></tr><tr><th></th></tr></thead><tbody></tbody></table></div>"
      ],
      "text/latex": [
       "\\begin{tabular}{r|}\n",
       "\t& \\\\\n",
       "\t\\hline\n",
       "\t& \\\\\n",
       "\t\\hline\n",
       "\\end{tabular}\n"
      ],
      "text/plain": [
       "\u001b[1m0×0 DataFrame\u001b[0m"
      ]
     },
     "execution_count": 5,
     "metadata": {},
     "output_type": "execute_result"
    }
   ],
   "source": [
    "DataFrame() # empty DataFrame"
   ]
  },
  {
   "cell_type": "markdown",
   "metadata": {},
   "source": [
    "You could also construct a DataFrame with different keyword arguments. Notice the different types of the different columns. "
   ]
  },
  {
   "cell_type": "code",
   "execution_count": 6,
   "metadata": {},
   "outputs": [
    {
     "data": {
      "text/html": [
       "<div class=\"data-frame\"><p>4 rows × 3 columns</p><table class=\"data-frame\"><thead><tr><th></th><th>A</th><th>B</th><th>C</th></tr><tr><th></th><th title=\"Int64\">Int64</th><th title=\"Float64\">Float64</th><th title=\"String\">String</th></tr></thead><tbody><tr><th>1</th><td>2</td><td>-2.12885</td><td>Hello</td></tr><tr><th>2</th><td>3</td><td>0.169217</td><td>Hello</td></tr><tr><th>3</th><td>4</td><td>0.161368</td><td>Hello</td></tr><tr><th>4</th><td>5</td><td>-2.54336</td><td>Hello</td></tr></tbody></table></div>"
      ],
      "text/latex": [
       "\\begin{tabular}{r|ccc}\n",
       "\t& A & B & C\\\\\n",
       "\t\\hline\n",
       "\t& Int64 & Float64 & String\\\\\n",
       "\t\\hline\n",
       "\t1 & 2 & -2.12885 & Hello \\\\\n",
       "\t2 & 3 & 0.169217 & Hello \\\\\n",
       "\t3 & 4 & 0.161368 & Hello \\\\\n",
       "\t4 & 5 & -2.54336 & Hello \\\\\n",
       "\\end{tabular}\n"
      ],
      "text/plain": [
       "\u001b[1m4×3 DataFrame\u001b[0m\n",
       "\u001b[1m Row \u001b[0m│\u001b[1m A     \u001b[0m\u001b[1m B         \u001b[0m\u001b[1m C      \u001b[0m\n",
       "\u001b[1m     \u001b[0m│\u001b[90m Int64 \u001b[0m\u001b[90m Float64   \u001b[0m\u001b[90m String \u001b[0m\n",
       "─────┼──────────────────────────\n",
       "   1 │     2  -2.12885   Hello\n",
       "   2 │     3   0.169217  Hello\n",
       "   3 │     4   0.161368  Hello\n",
       "   4 │     5  -2.54336   Hello"
      ]
     },
     "execution_count": 6,
     "metadata": {},
     "output_type": "execute_result"
    }
   ],
   "source": [
    "DataFrame(A = 2:5, B = randn(4), C = \"Hello\")"
   ]
  },
  {
   "cell_type": "markdown",
   "metadata": {},
   "source": [
    "One of the most common ways to use constructors is through arrays. "
   ]
  },
  {
   "cell_type": "code",
   "execution_count": 7,
   "metadata": {},
   "outputs": [
    {
     "data": {
      "text/html": [
       "<div class=\"data-frame\"><p>4 rows × 2 columns</p><table class=\"data-frame\"><thead><tr><th></th><th>commod</th><th>price</th></tr><tr><th></th><th title=\"String\">String</th><th title=\"Union{Missing, Float64}\">Float64?</th></tr></thead><tbody><tr><th>1</th><td>crude</td><td>4.2</td></tr><tr><th>2</th><td>gas</td><td>11.3</td></tr><tr><th>3</th><td>gold</td><td>12.1</td></tr><tr><th>4</th><td>silver</td><td><em>missing</em></td></tr></tbody></table></div>"
      ],
      "text/latex": [
       "\\begin{tabular}{r|cc}\n",
       "\t& commod & price\\\\\n",
       "\t\\hline\n",
       "\t& String & Float64?\\\\\n",
       "\t\\hline\n",
       "\t1 & crude & 4.2 \\\\\n",
       "\t2 & gas & 11.3 \\\\\n",
       "\t3 & gold & 12.1 \\\\\n",
       "\t4 & silver & \\emph{missing} \\\\\n",
       "\\end{tabular}\n"
      ],
      "text/plain": [
       "\u001b[1m4×2 DataFrame\u001b[0m\n",
       "\u001b[1m Row \u001b[0m│\u001b[1m commod \u001b[0m\u001b[1m price     \u001b[0m\n",
       "\u001b[1m     \u001b[0m│\u001b[90m String \u001b[0m\u001b[90m Float64?  \u001b[0m\n",
       "─────┼───────────────────\n",
       "   1 │ crude         4.2\n",
       "   2 │ gas          11.3\n",
       "   3 │ gold         12.1\n",
       "   4 │ silver \u001b[90m missing   \u001b[0m"
      ]
     },
     "execution_count": 7,
     "metadata": {},
     "output_type": "execute_result"
    }
   ],
   "source": [
    "commodities = [\"crude\", \"gas\", \"gold\", \"silver\"]\n",
    "last_price = [4.2, 11.3, 12.1, missing] # notice that the last value is missing\n",
    "\n",
    "df = DataFrame(commod = commodities, price = last_price) # give names to columns"
   ]
  },
  {
   "cell_type": "markdown",
   "metadata": {},
   "source": [
    "One can also easily add a new row to an existing `DataFrame` using the `push!` function. This is equivalent to adding new observations to the variables. "
   ]
  },
  {
   "cell_type": "code",
   "execution_count": 8,
   "metadata": {},
   "outputs": [
    {
     "data": {
      "text/html": [
       "<div class=\"data-frame\"><p>5 rows × 2 columns</p><table class=\"data-frame\"><thead><tr><th></th><th>commod</th><th>price</th></tr><tr><th></th><th title=\"String\">String</th><th title=\"Union{Missing, Float64}\">Float64?</th></tr></thead><tbody><tr><th>1</th><td>crude</td><td>4.2</td></tr><tr><th>2</th><td>gas</td><td>11.3</td></tr><tr><th>3</th><td>gold</td><td>12.1</td></tr><tr><th>4</th><td>silver</td><td><em>missing</em></td></tr><tr><th>5</th><td>nickel</td><td>5.1</td></tr></tbody></table></div>"
      ],
      "text/latex": [
       "\\begin{tabular}{r|cc}\n",
       "\t& commod & price\\\\\n",
       "\t\\hline\n",
       "\t& String & Float64?\\\\\n",
       "\t\\hline\n",
       "\t1 & crude & 4.2 \\\\\n",
       "\t2 & gas & 11.3 \\\\\n",
       "\t3 & gold & 12.1 \\\\\n",
       "\t4 & silver & \\emph{missing} \\\\\n",
       "\t5 & nickel & 5.1 \\\\\n",
       "\\end{tabular}\n"
      ],
      "text/plain": [
       "\u001b[1m5×2 DataFrame\u001b[0m\n",
       "\u001b[1m Row \u001b[0m│\u001b[1m commod \u001b[0m\u001b[1m price     \u001b[0m\n",
       "\u001b[1m     \u001b[0m│\u001b[90m String \u001b[0m\u001b[90m Float64?  \u001b[0m\n",
       "─────┼───────────────────\n",
       "   1 │ crude         4.2\n",
       "   2 │ gas          11.3\n",
       "   3 │ gold         12.1\n",
       "   4 │ silver \u001b[90m missing   \u001b[0m\n",
       "   5 │ nickel        5.1"
      ]
     },
     "execution_count": 8,
     "metadata": {},
     "output_type": "execute_result"
    }
   ],
   "source": [
    "new_row = (commod = \"nickel\", price = 5.1)\n",
    "push!(df, new_row)"
   ]
  },
  {
   "cell_type": "markdown",
   "metadata": {},
   "source": [
    "One could also use array comprehensions to generate values for the DataFrame,  "
   ]
  },
  {
   "cell_type": "code",
   "execution_count": 9,
   "metadata": {},
   "outputs": [
    {
     "data": {
      "text/html": [
       "<div class=\"data-frame\"><p>3 rows × 3 columns</p><table class=\"data-frame\"><thead><tr><th></th><th>x1</th><th>x2</th><th>x3</th></tr><tr><th></th><th title=\"Float64\">Float64</th><th title=\"Float64\">Float64</th><th title=\"Float64\">Float64</th></tr></thead><tbody><tr><th>1</th><td>0.811626</td><td>0.979328</td><td>0.00553571</td></tr><tr><th>2</th><td>0.564643</td><td>0.92339</td><td>0.796015</td></tr><tr><th>3</th><td>0.559084</td><td>0.689359</td><td>0.0429826</td></tr></tbody></table></div>"
      ],
      "text/latex": [
       "\\begin{tabular}{r|ccc}\n",
       "\t& x1 & x2 & x3\\\\\n",
       "\t\\hline\n",
       "\t& Float64 & Float64 & Float64\\\\\n",
       "\t\\hline\n",
       "\t1 & 0.811626 & 0.979328 & 0.00553571 \\\\\n",
       "\t2 & 0.564643 & 0.92339 & 0.796015 \\\\\n",
       "\t3 & 0.559084 & 0.689359 & 0.0429826 \\\\\n",
       "\\end{tabular}\n"
      ],
      "text/plain": [
       "\u001b[1m3×3 DataFrame\u001b[0m\n",
       "\u001b[1m Row \u001b[0m│\u001b[1m x1       \u001b[0m\u001b[1m x2       \u001b[0m\u001b[1m x3         \u001b[0m\n",
       "\u001b[1m     \u001b[0m│\u001b[90m Float64  \u001b[0m\u001b[90m Float64  \u001b[0m\u001b[90m Float64    \u001b[0m\n",
       "─────┼────────────────────────────────\n",
       "   1 │ 0.811626  0.979328  0.00553571\n",
       "   2 │ 0.564643  0.92339   0.796015\n",
       "   3 │ 0.559084  0.689359  0.0429826"
      ]
     },
     "execution_count": 9,
     "metadata": {},
     "output_type": "execute_result"
    }
   ],
   "source": [
    "DataFrame([rand(3) for i in 1:3], [:x1, :x2, :x3]) # see how we named the columns"
   ]
  },
  {
   "cell_type": "markdown",
   "metadata": {},
   "source": [
    "You can also create a DataFrame from a matrix, "
   ]
  },
  {
   "cell_type": "code",
   "execution_count": 10,
   "metadata": {},
   "outputs": [
    {
     "data": {
      "text/html": [
       "<div class=\"data-frame\"><p>3 rows × 3 columns</p><table class=\"data-frame\"><thead><tr><th></th><th>x1</th><th>x2</th><th>x3</th></tr><tr><th></th><th title=\"Float64\">Float64</th><th title=\"Float64\">Float64</th><th title=\"Float64\">Float64</th></tr></thead><tbody><tr><th>1</th><td>0.55046</td><td>0.389732</td><td>0.205044</td></tr><tr><th>2</th><td>0.512069</td><td>0.0436562</td><td>0.895377</td></tr><tr><th>3</th><td>0.743549</td><td>0.574314</td><td>0.229453</td></tr></tbody></table></div>"
      ],
      "text/latex": [
       "\\begin{tabular}{r|ccc}\n",
       "\t& x1 & x2 & x3\\\\\n",
       "\t\\hline\n",
       "\t& Float64 & Float64 & Float64\\\\\n",
       "\t\\hline\n",
       "\t1 & 0.55046 & 0.389732 & 0.205044 \\\\\n",
       "\t2 & 0.512069 & 0.0436562 & 0.895377 \\\\\n",
       "\t3 & 0.743549 & 0.574314 & 0.229453 \\\\\n",
       "\\end{tabular}\n"
      ],
      "text/plain": [
       "\u001b[1m3×3 DataFrame\u001b[0m\n",
       "\u001b[1m Row \u001b[0m│\u001b[1m x1       \u001b[0m\u001b[1m x2        \u001b[0m\u001b[1m x3       \u001b[0m\n",
       "\u001b[1m     \u001b[0m│\u001b[90m Float64  \u001b[0m\u001b[90m Float64   \u001b[0m\u001b[90m Float64  \u001b[0m\n",
       "─────┼───────────────────────────────\n",
       "   1 │ 0.55046   0.389732   0.205044\n",
       "   2 │ 0.512069  0.0436562  0.895377\n",
       "   3 │ 0.743549  0.574314   0.229453"
      ]
     },
     "execution_count": 10,
     "metadata": {},
     "output_type": "execute_result"
    }
   ],
   "source": [
    "x = DataFrame(rand(3, 3), :auto) # automatically assign column names"
   ]
  },
  {
   "cell_type": "markdown",
   "metadata": {},
   "source": [
    "Incidentally, you can convert the DataFrame into a matrix or array if you so wished, "
   ]
  },
  {
   "cell_type": "code",
   "execution_count": 11,
   "metadata": {},
   "outputs": [
    {
     "data": {
      "text/plain": [
       "3×3 Matrix{Float64}:\n",
       " 0.55046   0.389732   0.205044\n",
       " 0.512069  0.0436562  0.895377\n",
       " 0.743549  0.574314   0.229453"
      ]
     },
     "execution_count": 11,
     "metadata": {},
     "output_type": "execute_result"
    }
   ],
   "source": [
    "Matrix(x)"
   ]
  },
  {
   "cell_type": "markdown",
   "metadata": {},
   "source": [
    "In the next section we talk about accessing the element of a DataFrame as well as looking at some basic information about the DataFrame that we have on hand.  "
   ]
  },
  {
   "cell_type": "markdown",
   "metadata": {},
   "source": [
    "## Accessing data"
   ]
  },
  {
   "cell_type": "markdown",
   "metadata": {},
   "source": [
    "Once we have our data set up in a DataFrame, we are often going to want to know some basic things about the contents. Let us construct a relatively large DataFrame. Most of the time we will be working with large datasets in economics, with thousands of rows and columns. You might be used to working with data in Excel, so things might feel foreign right now. However, I promise that once you start working with data in a programming language such as R, Julia or Python, your productivity will greatly increase. You only need to get over that initial apprehension on learning something new. "
   ]
  },
  {
   "cell_type": "code",
   "execution_count": 19,
   "metadata": {},
   "outputs": [],
   "source": [
    "y = DataFrame(rand(1:10, 1000, 10), :auto);"
   ]
  },
  {
   "cell_type": "markdown",
   "metadata": {},
   "source": [
    "We can get some basic summary statistics on the data in the DataFrame using the `describe` function. "
   ]
  },
  {
   "cell_type": "code",
   "execution_count": 20,
   "metadata": {},
   "outputs": [
    {
     "data": {
      "text/html": [
       "<div class=\"data-frame\"><p>10 rows × 7 columns</p><table class=\"data-frame\"><thead><tr><th></th><th>variable</th><th>mean</th><th>min</th><th>median</th><th>max</th><th>nmissing</th><th>eltype</th></tr><tr><th></th><th title=\"Symbol\">Symbol</th><th title=\"Float64\">Float64</th><th title=\"Int64\">Int64</th><th title=\"Float64\">Float64</th><th title=\"Int64\">Int64</th><th title=\"Int64\">Int64</th><th title=\"DataType\">DataType</th></tr></thead><tbody><tr><th>1</th><td>x1</td><td>5.499</td><td>1</td><td>5.5</td><td>10</td><td>0</td><td>Int64</td></tr><tr><th>2</th><td>x2</td><td>5.539</td><td>1</td><td>5.5</td><td>10</td><td>0</td><td>Int64</td></tr><tr><th>3</th><td>x3</td><td>5.481</td><td>1</td><td>5.0</td><td>10</td><td>0</td><td>Int64</td></tr><tr><th>4</th><td>x4</td><td>5.537</td><td>1</td><td>6.0</td><td>10</td><td>0</td><td>Int64</td></tr><tr><th>5</th><td>x5</td><td>5.576</td><td>1</td><td>6.0</td><td>10</td><td>0</td><td>Int64</td></tr><tr><th>6</th><td>x6</td><td>5.448</td><td>1</td><td>5.0</td><td>10</td><td>0</td><td>Int64</td></tr><tr><th>7</th><td>x7</td><td>5.569</td><td>1</td><td>6.0</td><td>10</td><td>0</td><td>Int64</td></tr><tr><th>8</th><td>x8</td><td>5.493</td><td>1</td><td>6.0</td><td>10</td><td>0</td><td>Int64</td></tr><tr><th>9</th><td>x9</td><td>5.432</td><td>1</td><td>5.0</td><td>10</td><td>0</td><td>Int64</td></tr><tr><th>10</th><td>x10</td><td>5.527</td><td>1</td><td>5.0</td><td>10</td><td>0</td><td>Int64</td></tr></tbody></table></div>"
      ],
      "text/latex": [
       "\\begin{tabular}{r|ccccccc}\n",
       "\t& variable & mean & min & median & max & nmissing & eltype\\\\\n",
       "\t\\hline\n",
       "\t& Symbol & Float64 & Int64 & Float64 & Int64 & Int64 & DataType\\\\\n",
       "\t\\hline\n",
       "\t1 & x1 & 5.499 & 1 & 5.5 & 10 & 0 & Int64 \\\\\n",
       "\t2 & x2 & 5.539 & 1 & 5.5 & 10 & 0 & Int64 \\\\\n",
       "\t3 & x3 & 5.481 & 1 & 5.0 & 10 & 0 & Int64 \\\\\n",
       "\t4 & x4 & 5.537 & 1 & 6.0 & 10 & 0 & Int64 \\\\\n",
       "\t5 & x5 & 5.576 & 1 & 6.0 & 10 & 0 & Int64 \\\\\n",
       "\t6 & x6 & 5.448 & 1 & 5.0 & 10 & 0 & Int64 \\\\\n",
       "\t7 & x7 & 5.569 & 1 & 6.0 & 10 & 0 & Int64 \\\\\n",
       "\t8 & x8 & 5.493 & 1 & 6.0 & 10 & 0 & Int64 \\\\\n",
       "\t9 & x9 & 5.432 & 1 & 5.0 & 10 & 0 & Int64 \\\\\n",
       "\t10 & x10 & 5.527 & 1 & 5.0 & 10 & 0 & Int64 \\\\\n",
       "\\end{tabular}\n"
      ],
      "text/plain": [
       "\u001b[1m10×7 DataFrame\u001b[0m\n",
       "\u001b[1m Row \u001b[0m│\u001b[1m variable \u001b[0m\u001b[1m mean    \u001b[0m\u001b[1m min   \u001b[0m\u001b[1m median  \u001b[0m\u001b[1m max   \u001b[0m\u001b[1m nmissing \u001b[0m\u001b[1m eltype   \u001b[0m\n",
       "\u001b[1m     \u001b[0m│\u001b[90m Symbol   \u001b[0m\u001b[90m Float64 \u001b[0m\u001b[90m Int64 \u001b[0m\u001b[90m Float64 \u001b[0m\u001b[90m Int64 \u001b[0m\u001b[90m Int64    \u001b[0m\u001b[90m DataType \u001b[0m\n",
       "─────┼──────────────────────────────────────────────────────────────\n",
       "   1 │ x1          5.499      1      5.5     10         0  Int64\n",
       "   2 │ x2          5.539      1      5.5     10         0  Int64\n",
       "   3 │ x3          5.481      1      5.0     10         0  Int64\n",
       "   4 │ x4          5.537      1      6.0     10         0  Int64\n",
       "   5 │ x5          5.576      1      6.0     10         0  Int64\n",
       "   6 │ x6          5.448      1      5.0     10         0  Int64\n",
       "   7 │ x7          5.569      1      6.0     10         0  Int64\n",
       "   8 │ x8          5.493      1      6.0     10         0  Int64\n",
       "   9 │ x9          5.432      1      5.0     10         0  Int64\n",
       "  10 │ x10         5.527      1      5.0     10         0  Int64"
      ]
     },
     "execution_count": 20,
     "metadata": {},
     "output_type": "execute_result"
    }
   ],
   "source": [
    "describe(y)"
   ]
  },
  {
   "cell_type": "markdown",
   "metadata": {},
   "source": [
    "If we want to take a peak at the first few rows of the data we can use the `first` function. "
   ]
  },
  {
   "cell_type": "code",
   "execution_count": 14,
   "metadata": {},
   "outputs": [
    {
     "data": {
      "text/html": [
       "<div class=\"data-frame\"><p>5 rows × 10 columns</p><table class=\"data-frame\"><thead><tr><th></th><th>x1</th><th>x2</th><th>x3</th><th>x4</th><th>x5</th><th>x6</th><th>x7</th><th>x8</th><th>x9</th><th>x10</th></tr><tr><th></th><th title=\"Int64\">Int64</th><th title=\"Int64\">Int64</th><th title=\"Int64\">Int64</th><th title=\"Int64\">Int64</th><th title=\"Int64\">Int64</th><th title=\"Int64\">Int64</th><th title=\"Int64\">Int64</th><th title=\"Int64\">Int64</th><th title=\"Int64\">Int64</th><th title=\"Int64\">Int64</th></tr></thead><tbody><tr><th>1</th><td>6</td><td>5</td><td>6</td><td>2</td><td>8</td><td>8</td><td>10</td><td>6</td><td>6</td><td>3</td></tr><tr><th>2</th><td>3</td><td>8</td><td>5</td><td>9</td><td>10</td><td>3</td><td>10</td><td>7</td><td>2</td><td>10</td></tr><tr><th>3</th><td>8</td><td>10</td><td>2</td><td>6</td><td>7</td><td>7</td><td>2</td><td>8</td><td>3</td><td>10</td></tr><tr><th>4</th><td>5</td><td>6</td><td>3</td><td>7</td><td>9</td><td>2</td><td>6</td><td>2</td><td>9</td><td>6</td></tr><tr><th>5</th><td>5</td><td>7</td><td>2</td><td>3</td><td>8</td><td>8</td><td>2</td><td>9</td><td>2</td><td>4</td></tr></tbody></table></div>"
      ],
      "text/latex": [
       "\\begin{tabular}{r|cccccccccc}\n",
       "\t& x1 & x2 & x3 & x4 & x5 & x6 & x7 & x8 & x9 & x10\\\\\n",
       "\t\\hline\n",
       "\t& Int64 & Int64 & Int64 & Int64 & Int64 & Int64 & Int64 & Int64 & Int64 & Int64\\\\\n",
       "\t\\hline\n",
       "\t1 & 6 & 5 & 6 & 2 & 8 & 8 & 10 & 6 & 6 & 3 \\\\\n",
       "\t2 & 3 & 8 & 5 & 9 & 10 & 3 & 10 & 7 & 2 & 10 \\\\\n",
       "\t3 & 8 & 10 & 2 & 6 & 7 & 7 & 2 & 8 & 3 & 10 \\\\\n",
       "\t4 & 5 & 6 & 3 & 7 & 9 & 2 & 6 & 2 & 9 & 6 \\\\\n",
       "\t5 & 5 & 7 & 2 & 3 & 8 & 8 & 2 & 9 & 2 & 4 \\\\\n",
       "\\end{tabular}\n"
      ],
      "text/plain": [
       "\u001b[1m5×10 DataFrame\u001b[0m\n",
       "\u001b[1m Row \u001b[0m│\u001b[1m x1    \u001b[0m\u001b[1m x2    \u001b[0m\u001b[1m x3    \u001b[0m\u001b[1m x4    \u001b[0m\u001b[1m x5    \u001b[0m\u001b[1m x6    \u001b[0m\u001b[1m x7    \u001b[0m\u001b[1m x8    \u001b[0m\u001b[1m x9    \u001b[0m\u001b[1m x10   \u001b[0m\n",
       "\u001b[1m     \u001b[0m│\u001b[90m Int64 \u001b[0m\u001b[90m Int64 \u001b[0m\u001b[90m Int64 \u001b[0m\u001b[90m Int64 \u001b[0m\u001b[90m Int64 \u001b[0m\u001b[90m Int64 \u001b[0m\u001b[90m Int64 \u001b[0m\u001b[90m Int64 \u001b[0m\u001b[90m Int64 \u001b[0m\u001b[90m Int64 \u001b[0m\n",
       "─────┼──────────────────────────────────────────────────────────────────────\n",
       "   1 │     6      5      6      2      8      8     10      6      6      3\n",
       "   2 │     3      8      5      9     10      3     10      7      2     10\n",
       "   3 │     8     10      2      6      7      7      2      8      3     10\n",
       "   4 │     5      6      3      7      9      2      6      2      9      6\n",
       "   5 │     5      7      2      3      8      8      2      9      2      4"
      ]
     },
     "execution_count": 14,
     "metadata": {},
     "output_type": "execute_result"
    }
   ],
   "source": [
    "first(y, 5) # first 5 rows"
   ]
  },
  {
   "cell_type": "markdown",
   "metadata": {},
   "source": [
    "There are multiple ways to access particular columns of the DataFrame that we have created. The most obvious way is to to use `y.col` where `col` stands for the column name. This provides us the column in vector format. "
   ]
  },
  {
   "cell_type": "code",
   "execution_count": 21,
   "metadata": {},
   "outputs": [],
   "source": [
    "y.x2; # get a single column"
   ]
  },
  {
   "cell_type": "markdown",
   "metadata": {},
   "source": [
    "Another interesting way to access the column is the following, "
   ]
  },
  {
   "cell_type": "code",
   "execution_count": 36,
   "metadata": {},
   "outputs": [],
   "source": [
    "y[!, :x2]; # or y[!, 2] or y[:, :x2]"
   ]
  },
  {
   "cell_type": "markdown",
   "metadata": {},
   "source": [
    "You can access several columns (the first two in this case) with the following command, "
   ]
  },
  {
   "cell_type": "code",
   "execution_count": 38,
   "metadata": {},
   "outputs": [],
   "source": [
    "y[:, [:x1, :x2]];"
   ]
  },
  {
   "cell_type": "markdown",
   "metadata": {},
   "source": [
    "Getting rows is also quite easy (and similar to the way in which we access rows in arrays), "
   ]
  },
  {
   "cell_type": "code",
   "execution_count": 39,
   "metadata": {},
   "outputs": [
    {
     "data": {
      "text/html": [
       "<p>DataFrameRow (10 columns)</p><div class=\"data-frame\"><table class=\"data-frame\"><thead><tr><th></th><th>x1</th><th>x2</th><th>x3</th><th>x4</th><th>x5</th><th>x6</th><th>x7</th><th>x8</th><th>x9</th><th>x10</th></tr><tr><th></th><th title=\"Int64\">Int64</th><th title=\"Int64\">Int64</th><th title=\"Int64\">Int64</th><th title=\"Int64\">Int64</th><th title=\"Int64\">Int64</th><th title=\"Int64\">Int64</th><th title=\"Int64\">Int64</th><th title=\"Int64\">Int64</th><th title=\"Int64\">Int64</th><th title=\"Int64\">Int64</th></tr></thead><tbody><tr><th>1</th><td>8</td><td>2</td><td>1</td><td>3</td><td>8</td><td>9</td><td>5</td><td>2</td><td>5</td><td>1</td></tr></tbody></table></div>"
      ],
      "text/latex": [
       "\\begin{tabular}{r|cccccccccc}\n",
       "\t& x1 & x2 & x3 & x4 & x5 & x6 & x7 & x8 & x9 & x10\\\\\n",
       "\t\\hline\n",
       "\t& Int64 & Int64 & Int64 & Int64 & Int64 & Int64 & Int64 & Int64 & Int64 & Int64\\\\\n",
       "\t\\hline\n",
       "\t1 & 8 & 2 & 1 & 3 & 8 & 9 & 5 & 2 & 5 & 1 \\\\\n",
       "\\end{tabular}\n"
      ],
      "text/plain": [
       "\u001b[1mDataFrameRow\u001b[0m\n",
       "\u001b[1m Row \u001b[0m│\u001b[1m x1    \u001b[0m\u001b[1m x2    \u001b[0m\u001b[1m x3    \u001b[0m\u001b[1m x4    \u001b[0m\u001b[1m x5    \u001b[0m\u001b[1m x6    \u001b[0m\u001b[1m x7    \u001b[0m\u001b[1m x8    \u001b[0m\u001b[1m x9    \u001b[0m\u001b[1m x10   \u001b[0m\n",
       "\u001b[1m     \u001b[0m│\u001b[90m Int64 \u001b[0m\u001b[90m Int64 \u001b[0m\u001b[90m Int64 \u001b[0m\u001b[90m Int64 \u001b[0m\u001b[90m Int64 \u001b[0m\u001b[90m Int64 \u001b[0m\u001b[90m Int64 \u001b[0m\u001b[90m Int64 \u001b[0m\u001b[90m Int64 \u001b[0m\u001b[90m Int64 \u001b[0m\n",
       "─────┼──────────────────────────────────────────────────────────────────────\n",
       "   1 │     8      2      1      3      8      9      5      2      5      1"
      ]
     },
     "execution_count": 39,
     "metadata": {},
     "output_type": "execute_result"
    }
   ],
   "source": [
    "y[1, :]"
   ]
  },
  {
   "cell_type": "markdown",
   "metadata": {},
   "source": [
    "With the code above you can also easily change the values in the DataFrame. We could, for example, multiply each of the values in the second column by $2$ if we wanted. "
   ]
  },
  {
   "cell_type": "code",
   "execution_count": 23,
   "metadata": {},
   "outputs": [
    {
     "data": {
      "text/plain": [
       "2-element Vector{Int64}:\n",
       " 2\n",
       " 8"
      ]
     },
     "execution_count": 23,
     "metadata": {},
     "output_type": "execute_result"
    }
   ],
   "source": [
    "first(y.x2, 2) # observe first two values in the column"
   ]
  },
  {
   "cell_type": "code",
   "execution_count": 24,
   "metadata": {},
   "outputs": [
    {
     "data": {
      "text/plain": [
       "2-element Vector{Int64}:\n",
       "  4\n",
       " 16"
      ]
     },
     "execution_count": 24,
     "metadata": {},
     "output_type": "execute_result"
    }
   ],
   "source": [
    "z = y[!, :x2]; \n",
    "z *= 2; # multiply column by two\n",
    "\n",
    "first(z, 2) # observe newly mutated column"
   ]
  },
  {
   "cell_type": "code",
   "execution_count": 25,
   "metadata": {},
   "outputs": [
    {
     "data": {
      "text/plain": [
       "2-element Vector{Int64}:\n",
       " 2\n",
       " 8"
      ]
     },
     "execution_count": 25,
     "metadata": {},
     "output_type": "execute_result"
    }
   ],
   "source": [
    "first(y.x2, 2) # important to note that this is unchanged"
   ]
  },
  {
   "cell_type": "markdown",
   "metadata": {},
   "source": [
    "# Importing data"
   ]
  },
  {
   "cell_type": "markdown",
   "metadata": {},
   "source": [
    "Now let us import some data and play around with it a bit. This is generally referred to as data wrangling. If you want to become a data scientist, then significant portion of your work is going to involve gathering and cleaning data. The analysis part only makes up a small percentage. "
   ]
  },
  {
   "cell_type": "markdown",
   "metadata": {},
   "source": [
    "I have created a dataset that is hosted on github at the following location -- https://github.com/DawievLill/Macro-318/blob/main/data/tut2_data.csv\n",
    "\n",
    "Now let us download this data with Julia. This is one possible way to do it. "
   ]
  },
  {
   "cell_type": "code",
   "execution_count": 81,
   "metadata": {},
   "outputs": [
    {
     "data": {
      "text/plain": [
       "\"tut2_data.csv\""
      ]
     },
     "execution_count": 81,
     "metadata": {},
     "output_type": "execute_result"
    }
   ],
   "source": [
    "Downloads.download(\n",
    "    \"https://raw.githubusercontent.com/DawievLill/Macro-318/main/data/tut2_data.csv\", \n",
    "    \"tut2_data.csv\"\n",
    ")"
   ]
  },
  {
   "cell_type": "markdown",
   "metadata": {},
   "source": [
    "Now get the data into Julia!"
   ]
  },
  {
   "cell_type": "code",
   "execution_count": 82,
   "metadata": {},
   "outputs": [
    {
     "data": {
      "text/html": [
       "<div class=\"data-frame\"><p>71 rows × 5 columns</p><table class=\"data-frame\"><thead><tr><th></th><th>date</th><th>gdp</th><th>repo</th><th>cpi</th><th>inflation</th></tr><tr><th></th><th title=\"Dates.Date\">Date</th><th title=\"Int64\">Int64</th><th title=\"Float64\">Float64</th><th title=\"Float64\">Float64</th><th title=\"Float64\">Float64</th></tr></thead><tbody><tr><th>1</th><td>2004-03-31</td><td>1571580</td><td>8.0</td><td>51.1689</td><td>-2.05565</td></tr><tr><th>2</th><td>2004-06-30</td><td>1640953</td><td>8.0</td><td>51.4474</td><td>-2.02507</td></tr><tr><th>3</th><td>2004-09-30</td><td>1674699</td><td>7.66667</td><td>51.5677</td><td>-1.00851</td></tr><tr><th>4</th><td>2004-12-31</td><td>1731000</td><td>7.5</td><td>51.8483</td><td>1.62524</td></tr><tr><th>5</th><td>2005-03-31</td><td>1768828</td><td>7.5</td><td>52.1796</td><td>1.97509</td></tr><tr><th>6</th><td>2005-06-30</td><td>1803783</td><td>7.0</td><td>52.456</td><td>1.9603</td></tr><tr><th>7</th><td>2005-09-30</td><td>1873743</td><td>7.0</td><td>52.8125</td><td>2.41398</td></tr><tr><th>8</th><td>2005-12-31</td><td>1918423</td><td>7.0</td><td>52.9391</td><td>2.10385</td></tr><tr><th>9</th><td>2006-03-31</td><td>1960150</td><td>7.0</td><td>53.243</td><td>2.03793</td></tr><tr><th>10</th><td>2006-06-30</td><td>2048534</td><td>7.16667</td><td>53.7536</td><td>2.47365</td></tr><tr><th>11</th><td>2006-09-30</td><td>2120013</td><td>7.83333</td><td>54.7726</td><td>3.7114</td></tr><tr><th>12</th><td>2006-12-31</td><td>2231030</td><td>8.66667</td><td>55.3275</td><td>4.51158</td></tr><tr><th>13</th><td>2007-03-31</td><td>2270667</td><td>9.0</td><td>55.9521</td><td>5.08817</td></tr><tr><th>14</th><td>2007-06-30</td><td>2350848</td><td>9.16667</td><td>56.9458</td><td>5.93869</td></tr><tr><th>15</th><td>2007-09-30</td><td>2415988</td><td>9.83333</td><td>58.1548</td><td>6.17488</td></tr><tr><th>16</th><td>2007-12-31</td><td>2462412</td><td>10.6667</td><td>59.2646</td><td>7.11589</td></tr><tr><th>17</th><td>2008-03-31</td><td>2569803</td><td>11.0</td><td>60.9667</td><td>8.96234</td></tr><tr><th>18</th><td>2008-06-30</td><td>2633146</td><td>11.6667</td><td>62.6333</td><td>9.98761</td></tr><tr><th>19</th><td>2008-09-30</td><td>2723120</td><td>12.0</td><td>64.6</td><td>11.0829</td></tr><tr><th>20</th><td>2008-12-31</td><td>2673514</td><td>11.8333</td><td>65.0333</td><td>9.73391</td></tr><tr><th>21</th><td>2009-03-31</td><td>2742517</td><td>10.5</td><td>66.0667</td><td>8.36523</td></tr><tr><th>22</th><td>2009-06-30</td><td>2732647</td><td>8.16667</td><td>67.4667</td><td>7.71687</td></tr><tr><th>23</th><td>2009-09-30</td><td>2805594</td><td>7.16667</td><td>68.7</td><td>6.34675</td></tr><tr><th>24</th><td>2009-12-31</td><td>2853911</td><td>7.0</td><td>69.0333</td><td>6.15069</td></tr><tr><th>25</th><td>2010-03-31</td><td>2936248</td><td>6.83333</td><td>69.8</td><td>5.65086</td></tr><tr><th>26</th><td>2010-06-30</td><td>3010051</td><td>6.5</td><td>70.5333</td><td>4.54545</td></tr><tr><th>27</th><td>2010-09-30</td><td>3053147</td><td>6.33333</td><td>71.1</td><td>3.49345</td></tr><tr><th>28</th><td>2010-12-31</td><td>3081135</td><td>5.66667</td><td>71.4</td><td>3.4283</td></tr><tr><th>29</th><td>2011-03-31</td><td>3183146</td><td>5.5</td><td>72.4667</td><td>3.82044</td></tr><tr><th>30</th><td>2011-06-30</td><td>3251316</td><td>5.5</td><td>73.8</td><td>4.63138</td></tr><tr><th>&vellip;</th><td>&vellip;</td><td>&vellip;</td><td>&vellip;</td><td>&vellip;</td><td>&vellip;</td></tr></tbody></table></div>"
      ],
      "text/latex": [
       "\\begin{tabular}{r|ccccc}\n",
       "\t& date & gdp & repo & cpi & inflation\\\\\n",
       "\t\\hline\n",
       "\t& Date & Int64 & Float64 & Float64 & Float64\\\\\n",
       "\t\\hline\n",
       "\t1 & 2004-03-31 & 1571580 & 8.0 & 51.1689 & -2.05565 \\\\\n",
       "\t2 & 2004-06-30 & 1640953 & 8.0 & 51.4474 & -2.02507 \\\\\n",
       "\t3 & 2004-09-30 & 1674699 & 7.66667 & 51.5677 & -1.00851 \\\\\n",
       "\t4 & 2004-12-31 & 1731000 & 7.5 & 51.8483 & 1.62524 \\\\\n",
       "\t5 & 2005-03-31 & 1768828 & 7.5 & 52.1796 & 1.97509 \\\\\n",
       "\t6 & 2005-06-30 & 1803783 & 7.0 & 52.456 & 1.9603 \\\\\n",
       "\t7 & 2005-09-30 & 1873743 & 7.0 & 52.8125 & 2.41398 \\\\\n",
       "\t8 & 2005-12-31 & 1918423 & 7.0 & 52.9391 & 2.10385 \\\\\n",
       "\t9 & 2006-03-31 & 1960150 & 7.0 & 53.243 & 2.03793 \\\\\n",
       "\t10 & 2006-06-30 & 2048534 & 7.16667 & 53.7536 & 2.47365 \\\\\n",
       "\t11 & 2006-09-30 & 2120013 & 7.83333 & 54.7726 & 3.7114 \\\\\n",
       "\t12 & 2006-12-31 & 2231030 & 8.66667 & 55.3275 & 4.51158 \\\\\n",
       "\t13 & 2007-03-31 & 2270667 & 9.0 & 55.9521 & 5.08817 \\\\\n",
       "\t14 & 2007-06-30 & 2350848 & 9.16667 & 56.9458 & 5.93869 \\\\\n",
       "\t15 & 2007-09-30 & 2415988 & 9.83333 & 58.1548 & 6.17488 \\\\\n",
       "\t16 & 2007-12-31 & 2462412 & 10.6667 & 59.2646 & 7.11589 \\\\\n",
       "\t17 & 2008-03-31 & 2569803 & 11.0 & 60.9667 & 8.96234 \\\\\n",
       "\t18 & 2008-06-30 & 2633146 & 11.6667 & 62.6333 & 9.98761 \\\\\n",
       "\t19 & 2008-09-30 & 2723120 & 12.0 & 64.6 & 11.0829 \\\\\n",
       "\t20 & 2008-12-31 & 2673514 & 11.8333 & 65.0333 & 9.73391 \\\\\n",
       "\t21 & 2009-03-31 & 2742517 & 10.5 & 66.0667 & 8.36523 \\\\\n",
       "\t22 & 2009-06-30 & 2732647 & 8.16667 & 67.4667 & 7.71687 \\\\\n",
       "\t23 & 2009-09-30 & 2805594 & 7.16667 & 68.7 & 6.34675 \\\\\n",
       "\t24 & 2009-12-31 & 2853911 & 7.0 & 69.0333 & 6.15069 \\\\\n",
       "\t25 & 2010-03-31 & 2936248 & 6.83333 & 69.8 & 5.65086 \\\\\n",
       "\t26 & 2010-06-30 & 3010051 & 6.5 & 70.5333 & 4.54545 \\\\\n",
       "\t27 & 2010-09-30 & 3053147 & 6.33333 & 71.1 & 3.49345 \\\\\n",
       "\t28 & 2010-12-31 & 3081135 & 5.66667 & 71.4 & 3.4283 \\\\\n",
       "\t29 & 2011-03-31 & 3183146 & 5.5 & 72.4667 & 3.82044 \\\\\n",
       "\t30 & 2011-06-30 & 3251316 & 5.5 & 73.8 & 4.63138 \\\\\n",
       "\t$\\dots$ & $\\dots$ & $\\dots$ & $\\dots$ & $\\dots$ & $\\dots$ \\\\\n",
       "\\end{tabular}\n"
      ],
      "text/plain": [
       "\u001b[1m71×5 DataFrame\u001b[0m\n",
       "\u001b[1m Row \u001b[0m│\u001b[1m date       \u001b[0m\u001b[1m gdp     \u001b[0m\u001b[1m repo    \u001b[0m\u001b[1m cpi      \u001b[0m\u001b[1m inflation \u001b[0m\n",
       "\u001b[1m     \u001b[0m│\u001b[90m Date       \u001b[0m\u001b[90m Int64   \u001b[0m\u001b[90m Float64 \u001b[0m\u001b[90m Float64  \u001b[0m\u001b[90m Float64   \u001b[0m\n",
       "─────┼───────────────────────────────────────────────────\n",
       "   1 │ 2004-03-31  1571580  8.0       51.1689   -2.05565\n",
       "   2 │ 2004-06-30  1640953  8.0       51.4474   -2.02507\n",
       "   3 │ 2004-09-30  1674699  7.66667   51.5677   -1.00851\n",
       "   4 │ 2004-12-31  1731000  7.5       51.8483    1.62524\n",
       "   5 │ 2005-03-31  1768828  7.5       52.1796    1.97509\n",
       "   6 │ 2005-06-30  1803783  7.0       52.456     1.9603\n",
       "   7 │ 2005-09-30  1873743  7.0       52.8125    2.41398\n",
       "   8 │ 2005-12-31  1918423  7.0       52.9391    2.10385\n",
       "   9 │ 2006-03-31  1960150  7.0       53.243     2.03793\n",
       "  10 │ 2006-06-30  2048534  7.16667   53.7536    2.47365\n",
       "  11 │ 2006-09-30  2120013  7.83333   54.7726    3.7114\n",
       "  ⋮  │     ⋮          ⋮        ⋮        ⋮          ⋮\n",
       "  62 │ 2019-06-30  5603717  6.75     112.033     4.44375\n",
       "  63 │ 2019-09-30  5641263  6.5      113.1       4.14365\n",
       "  64 │ 2019-12-31  5639799  6.5      113.567     3.74543\n",
       "  65 │ 2020-03-31  5571896  5.91667  114.967     4.42022\n",
       "  66 │ 2020-06-30  4766334  3.91667  114.733     2.41\n",
       "  67 │ 2020-09-30  5204962  3.5      116.6       3.09461\n",
       "  68 │ 2020-12-31  5562956  3.5      117.167     3.16994\n",
       "  69 │ 2021-03-31  5634112  3.5      118.5       3.07335\n",
       "  70 │ 2021-06-30  5632802  3.5      120.267     4.82278\n",
       "  71 │ 2021-09-30  5819983  3.5      122.233     4.83133\n",
       "\u001b[36m                                          50 rows omitted\u001b[0m"
      ]
     },
     "execution_count": 82,
     "metadata": {},
     "output_type": "execute_result"
    }
   ],
   "source": [
    "sa_data = DataFrame(CSV.File(\"tut2_data.csv\", dateformat = \"yyyy/mm/dd\")) # specify the date format"
   ]
  },
  {
   "cell_type": "markdown",
   "metadata": {},
   "source": [
    "Alternatively, we could have done the following, since we know the data is located in the `data` folder, "
   ]
  },
  {
   "cell_type": "code",
   "execution_count": 49,
   "metadata": {},
   "outputs": [],
   "source": [
    "sa_data_1 = DataFrame(CSV.File(\"../data/tut2_data.csv\"));"
   ]
  },
  {
   "cell_type": "markdown",
   "metadata": {},
   "source": [
    "So we have succesfully imported data into Julia. What can we do with this data? We see that the data contains information on GDP, the repo rate, CPI and inflation. The first thing that we might want to do is visualise the data. This is always a good first step. After that we might want to look at some basic descriptive statistics, to get an idea of the properties of the data. "
   ]
  },
  {
   "cell_type": "markdown",
   "metadata": {},
   "source": [
    "## Plotting the data"
   ]
  },
  {
   "cell_type": "markdown",
   "metadata": {},
   "source": [
    "However, let us stick to the download option for now. I will talk about this more in the tutorial. "
   ]
  },
  {
   "cell_type": "markdown",
   "metadata": {},
   "source": [
    "We can also work with data from the `RDatasets` package. We will do this a bit later. "
   ]
  },
  {
   "cell_type": "markdown",
   "metadata": {},
   "source": [
    "# Statistics"
   ]
  },
  {
   "cell_type": "markdown",
   "metadata": {},
   "source": [
    "Statistics and data are inextricably linked. If you are working with data you MUST have some type of background in statistics. In this section we will cover some of the relevant topics for macroeconomists. You would have already covered basic ideas in econometrics and statistics with Marisa, so this is the natural evolution from that section. "
   ]
  },
  {
   "cell_type": "markdown",
   "metadata": {},
   "source": [
    "## Data analysis"
   ]
  },
  {
   "cell_type": "markdown",
   "metadata": {},
   "source": [
    "# Math fundamentals"
   ]
  },
  {
   "cell_type": "markdown",
   "metadata": {},
   "source": [
    "Mathematics is so much easier when we get to use a computer. In this section I will introduce some of the basic mathematical theory that you need as a macroeconomist and then we will show you how that relates to programming. "
   ]
  },
  {
   "cell_type": "markdown",
   "metadata": {},
   "source": []
  }
 ],
 "metadata": {
  "kernelspec": {
   "display_name": "Julia 1.7.0-rc2",
   "language": "julia",
   "name": "julia-1.7"
  },
  "language_info": {
   "file_extension": ".jl",
   "mimetype": "application/julia",
   "name": "julia",
   "version": "1.7.0"
  },
  "orig_nbformat": 4
 },
 "nbformat": 4,
 "nbformat_minor": 2
}
