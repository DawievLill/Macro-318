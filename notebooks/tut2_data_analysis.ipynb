{
 "cells": [
  {
   "cell_type": "markdown",
   "metadata": {},
   "source": [
    "# <span style=\"color:#2c061f\"> Macro 318: Tutorial #2 </span>  \n",
    "\n",
    "<br>\n",
    "\n",
    "## <span style=\"color:#374045\"> Data, Stats and Math with Julia </span>\n",
    "\n",
    "\n",
    "#### <span style=\"color:#374045\"> Lecturer: </span> <span style=\"color:#d89216\"> <br> Dawie van Lill (dvanlill@sun.ac.za) </span>"
   ]
  },
  {
   "cell_type": "markdown",
   "metadata": {},
   "source": [
    "# Introduction"
   ]
  },
  {
   "cell_type": "markdown",
   "metadata": {},
   "source": [
    "In this tutorial we will start our discussion with how to work with data in Julia. We will then cover some basic statistics and in the last section move on to some fundamental ideas in mathematics (mostly related to calculus).  \n",
    "\n",
    "Please note that working with data in Julia is going to be different than working with data in Stata. I am just showing basic principles here so that you are aware of them. You do not need to memorise everything in this notebook. It is simply here as a good reference to have if you want to do some useful data work for macroeconomics. \n",
    "\n",
    "If you are more comfortable with Stata for working with data then you can continue on that path. I am simply offering an alternative. \n",
    "\n",
    "In the job market there are a few languages that are used for data analysis. The most popular ones are Stata, R, Python and Julia. At this stage Julia is not the most popular for data work, but it shares similarities with Python. So if you know Julia well, it will be easy to pick up Python. Julia is more popular for work related to numerical / scientific computation, which we will cover in some of the future tutorials. \n",
    "\n",
    "As an aside, you might be wondering why we chose Julia for this course. There are several reasons, but primarily it is because the language is easy to learn and is similar in syntax to Python. It is also blazingly fast!\n",
    "\n",
    "Why not learn Python then? Well, we considered this, but Julia is a just a bit easier to get started with and easier to install for most people. And also, it is super fast! I also believe that it is a language that will be used a lot in economics in the future, with a lot of macroeconomists starting to use it for their modelling purposes. \n",
    "\n",
    "If you are interested in Python as an alternative to Julia you can always contact me and I can refer you to some resources. However, for most students it is more important to get the programming principles right without worrying too much about the language that they are using. "
   ]
  },
  {
   "cell_type": "code",
   "execution_count": 12,
   "metadata": {},
   "outputs": [],
   "source": [
    "import Pkg"
   ]
  },
  {
   "cell_type": "code",
   "execution_count": 21,
   "metadata": {},
   "outputs": [
    {
     "name": "stderr",
     "output_type": "stream",
     "text": [
      "\u001b[32m\u001b[1m   Resolving\u001b[22m\u001b[39m package versions...\n",
      "\u001b[32m\u001b[1m  No Changes\u001b[22m\u001b[39m to `~/.julia/environments/v1.7/Project.toml`\n",
      "\u001b[32m\u001b[1m  No Changes\u001b[22m\u001b[39m to `~/.julia/environments/v1.7/Manifest.toml`\n",
      "\u001b[32m\u001b[1m   Resolving\u001b[22m\u001b[39m package versions...\n",
      "\u001b[32m\u001b[1m    Updating\u001b[22m\u001b[39m `~/.julia/environments/v1.7/Project.toml`\n",
      " \u001b[90m [336ed68f] \u001b[39m\u001b[92m+ CSV v0.9.11\u001b[39m\n",
      "\u001b[32m\u001b[1m  No Changes\u001b[22m\u001b[39m to `~/.julia/environments/v1.7/Manifest.toml`\n",
      "\u001b[32m\u001b[1m   Resolving\u001b[22m\u001b[39m package versions...\n",
      "\u001b[32m\u001b[1m  No Changes\u001b[22m\u001b[39m to `~/.julia/environments/v1.7/Project.toml`\n",
      "\u001b[32m\u001b[1m  No Changes\u001b[22m\u001b[39m to `~/.julia/environments/v1.7/Manifest.toml`\n",
      "\u001b[32m\u001b[1m   Resolving\u001b[22m\u001b[39m package versions...\n",
      "\u001b[32m\u001b[1m  No Changes\u001b[22m\u001b[39m to `~/.julia/environments/v1.7/Project.toml`\n",
      "\u001b[32m\u001b[1m  No Changes\u001b[22m\u001b[39m to `~/.julia/environments/v1.7/Manifest.toml`\n",
      "\u001b[32m\u001b[1m   Resolving\u001b[22m\u001b[39m package versions...\n",
      "\u001b[32m\u001b[1m  No Changes\u001b[22m\u001b[39m to `~/.julia/environments/v1.7/Project.toml`\n",
      "\u001b[32m\u001b[1m  No Changes\u001b[22m\u001b[39m to `~/.julia/environments/v1.7/Manifest.toml`\n",
      "\u001b[32m\u001b[1m   Resolving\u001b[22m\u001b[39m package versions...\n",
      "\u001b[32m\u001b[1m  No Changes\u001b[22m\u001b[39m to `~/.julia/environments/v1.7/Project.toml`\n",
      "\u001b[32m\u001b[1m  No Changes\u001b[22m\u001b[39m to `~/.julia/environments/v1.7/Manifest.toml`\n",
      "\u001b[32m\u001b[1m   Resolving\u001b[22m\u001b[39m package versions...\n",
      "\u001b[32m\u001b[1m  No Changes\u001b[22m\u001b[39m to `~/.julia/environments/v1.7/Project.toml`\n",
      "\u001b[32m\u001b[1m  No Changes\u001b[22m\u001b[39m to `~/.julia/environments/v1.7/Manifest.toml`\n",
      "\u001b[32m\u001b[1m   Resolving\u001b[22m\u001b[39m package versions...\n",
      "\u001b[32m\u001b[1m  No Changes\u001b[22m\u001b[39m to `~/.julia/environments/v1.7/Project.toml`\n",
      "\u001b[32m\u001b[1m  No Changes\u001b[22m\u001b[39m to `~/.julia/environments/v1.7/Manifest.toml`\n"
     ]
    }
   ],
   "source": [
    "Pkg.add(\"CategoricalArrays\")\n",
    "Pkg.add(\"CSV\")\n",
    "Pkg.add(\"DataFrames\")\n",
    "Pkg.add(\"DataFramesMeta\")\n",
    "Pkg.add(\"GLM\")\n",
    "Pkg.add(\"Random\")\n",
    "Pkg.add(\"RDatasets\")\n",
    "Pkg.add(\"Statistics\")"
   ]
  },
  {
   "cell_type": "code",
   "execution_count": 14,
   "metadata": {},
   "outputs": [],
   "source": [
    "using CategoricalArrays\n",
    "using CSV\n",
    "using DataFrames\n",
    "using DataFramesMeta\n",
    "using GLM\n",
    "using Random\n",
    "using RDatasets\n",
    "using Statistics"
   ]
  },
  {
   "cell_type": "markdown",
   "metadata": {},
   "source": [
    "# Working with data"
   ]
  },
  {
   "cell_type": "markdown",
   "metadata": {},
   "source": [
    "The primary package for working with data in Julia is `DataFrames.jl`. For a comprehensive tutorial series on this package I would recommend Bogumił Kamiński's [Introduction to DataFrames](https://github.com/bkamins/Julia-DataFrames-Tutorial)."
   ]
  },
  {
   "cell_type": "markdown",
   "metadata": {},
   "source": [
    "# DataFrames basics"
   ]
  },
  {
   "cell_type": "markdown",
   "metadata": {},
   "source": [
    "In this section we discuss basic principles from the DataFrames package. For the first topic we look at how to construct and access DataFrames. The fundamental object that we care about is the `DataFrame`. This is similar to a `dataframe` that you would find in R or in Pandas (Python).\n",
    "\n",
    "DataFrames are essentially matrices, with the rows being observations and the columns indicating the variables. "
   ]
  },
  {
   "cell_type": "markdown",
   "metadata": {},
   "source": [
    "## Constructors"
   ]
  },
  {
   "cell_type": "markdown",
   "metadata": {},
   "source": [
    "The easiest thing to construct is an empty DataFrame. "
   ]
  },
  {
   "cell_type": "code",
   "execution_count": 16,
   "metadata": {},
   "outputs": [
    {
     "data": {
      "text/html": [
       "<div class=\"data-frame\"><p>0 rows × 0 columns</p><table class=\"data-frame\"><thead><tr><th></th></tr><tr><th></th></tr></thead><tbody></tbody></table></div>"
      ],
      "text/latex": [
       "\\begin{tabular}{r|}\n",
       "\t& \\\\\n",
       "\t\\hline\n",
       "\t& \\\\\n",
       "\t\\hline\n",
       "\\end{tabular}\n"
      ],
      "text/plain": [
       "\u001b[1m0×0 DataFrame\u001b[0m"
      ]
     },
     "execution_count": 16,
     "metadata": {},
     "output_type": "execute_result"
    }
   ],
   "source": [
    "DataFrame() # empty DataFrame"
   ]
  },
  {
   "cell_type": "markdown",
   "metadata": {},
   "source": [
    "You could also construct a DataFrame with different keyword arguments. Notice the different types of the different columns. "
   ]
  },
  {
   "cell_type": "code",
   "execution_count": 20,
   "metadata": {},
   "outputs": [
    {
     "data": {
      "text/html": [
       "<div class=\"data-frame\"><p>4 rows × 3 columns</p><table class=\"data-frame\"><thead><tr><th></th><th>A</th><th>B</th><th>C</th></tr><tr><th></th><th title=\"Int64\">Int64</th><th title=\"Float64\">Float64</th><th title=\"String\">String</th></tr></thead><tbody><tr><th>1</th><td>2</td><td>-0.653416</td><td>Hello</td></tr><tr><th>2</th><td>3</td><td>-0.519066</td><td>Hello</td></tr><tr><th>3</th><td>4</td><td>-2.09998</td><td>Hello</td></tr><tr><th>4</th><td>5</td><td>0.909537</td><td>Hello</td></tr></tbody></table></div>"
      ],
      "text/latex": [
       "\\begin{tabular}{r|ccc}\n",
       "\t& A & B & C\\\\\n",
       "\t\\hline\n",
       "\t& Int64 & Float64 & String\\\\\n",
       "\t\\hline\n",
       "\t1 & 2 & -0.653416 & Hello \\\\\n",
       "\t2 & 3 & -0.519066 & Hello \\\\\n",
       "\t3 & 4 & -2.09998 & Hello \\\\\n",
       "\t4 & 5 & 0.909537 & Hello \\\\\n",
       "\\end{tabular}\n"
      ],
      "text/plain": [
       "\u001b[1m4×3 DataFrame\u001b[0m\n",
       "\u001b[1m Row \u001b[0m│\u001b[1m A     \u001b[0m\u001b[1m B         \u001b[0m\u001b[1m C      \u001b[0m\n",
       "\u001b[1m     \u001b[0m│\u001b[90m Int64 \u001b[0m\u001b[90m Float64   \u001b[0m\u001b[90m String \u001b[0m\n",
       "─────┼──────────────────────────\n",
       "   1 │     2  -0.653416  Hello\n",
       "   2 │     3  -0.519066  Hello\n",
       "   3 │     4  -2.09998   Hello\n",
       "   4 │     5   0.909537  Hello"
      ]
     },
     "execution_count": 20,
     "metadata": {},
     "output_type": "execute_result"
    }
   ],
   "source": [
    "DataFrame(A = 2:5, B = randn(4), C = \"Hello\")"
   ]
  },
  {
   "cell_type": "markdown",
   "metadata": {},
   "source": [
    "One of the most common ways to use constructors is through arrays. "
   ]
  },
  {
   "cell_type": "code",
   "execution_count": 41,
   "metadata": {},
   "outputs": [
    {
     "data": {
      "text/html": [
       "<div class=\"data-frame\"><p>4 rows × 2 columns</p><table class=\"data-frame\"><thead><tr><th></th><th>commod</th><th>price</th></tr><tr><th></th><th title=\"String\">String</th><th title=\"Union{Missing, Float64}\">Float64?</th></tr></thead><tbody><tr><th>1</th><td>crude</td><td>4.2</td></tr><tr><th>2</th><td>gas</td><td>11.3</td></tr><tr><th>3</th><td>gold</td><td>12.1</td></tr><tr><th>4</th><td>silver</td><td><em>missing</em></td></tr></tbody></table></div>"
      ],
      "text/latex": [
       "\\begin{tabular}{r|cc}\n",
       "\t& commod & price\\\\\n",
       "\t\\hline\n",
       "\t& String & Float64?\\\\\n",
       "\t\\hline\n",
       "\t1 & crude & 4.2 \\\\\n",
       "\t2 & gas & 11.3 \\\\\n",
       "\t3 & gold & 12.1 \\\\\n",
       "\t4 & silver & \\emph{missing} \\\\\n",
       "\\end{tabular}\n"
      ],
      "text/plain": [
       "\u001b[1m4×2 DataFrame\u001b[0m\n",
       "\u001b[1m Row \u001b[0m│\u001b[1m commod \u001b[0m\u001b[1m price     \u001b[0m\n",
       "\u001b[1m     \u001b[0m│\u001b[90m String \u001b[0m\u001b[90m Float64?  \u001b[0m\n",
       "─────┼───────────────────\n",
       "   1 │ crude         4.2\n",
       "   2 │ gas          11.3\n",
       "   3 │ gold         12.1\n",
       "   4 │ silver \u001b[90m missing   \u001b[0m"
      ]
     },
     "execution_count": 41,
     "metadata": {},
     "output_type": "execute_result"
    }
   ],
   "source": [
    "commodities = [\"crude\", \"gas\", \"gold\", \"silver\"]\n",
    "last_price = [4.2, 11.3, 12.1, missing] # notice that the last value is missing\n",
    "\n",
    "df = DataFrame(commod = commodities, price = last_price) # give names to columns"
   ]
  },
  {
   "cell_type": "markdown",
   "metadata": {},
   "source": [
    "One can also easily add a new row to an existing `DataFrame` using the `push!` function. This is equivalent to adding new observations to the variables. "
   ]
  },
  {
   "cell_type": "code",
   "execution_count": 43,
   "metadata": {},
   "outputs": [
    {
     "data": {
      "text/html": [
       "<div class=\"data-frame\"><p>6 rows × 2 columns</p><table class=\"data-frame\"><thead><tr><th></th><th>commod</th><th>price</th></tr><tr><th></th><th title=\"String\">String</th><th title=\"Union{Missing, Float64}\">Float64?</th></tr></thead><tbody><tr><th>1</th><td>crude</td><td>4.2</td></tr><tr><th>2</th><td>gas</td><td>11.3</td></tr><tr><th>3</th><td>gold</td><td>12.1</td></tr><tr><th>4</th><td>silver</td><td><em>missing</em></td></tr><tr><th>5</th><td>nickel</td><td>5.1</td></tr><tr><th>6</th><td>nickel</td><td>5.1</td></tr></tbody></table></div>"
      ],
      "text/latex": [
       "\\begin{tabular}{r|cc}\n",
       "\t& commod & price\\\\\n",
       "\t\\hline\n",
       "\t& String & Float64?\\\\\n",
       "\t\\hline\n",
       "\t1 & crude & 4.2 \\\\\n",
       "\t2 & gas & 11.3 \\\\\n",
       "\t3 & gold & 12.1 \\\\\n",
       "\t4 & silver & \\emph{missing} \\\\\n",
       "\t5 & nickel & 5.1 \\\\\n",
       "\t6 & nickel & 5.1 \\\\\n",
       "\\end{tabular}\n"
      ],
      "text/plain": [
       "\u001b[1m6×2 DataFrame\u001b[0m\n",
       "\u001b[1m Row \u001b[0m│\u001b[1m commod \u001b[0m\u001b[1m price     \u001b[0m\n",
       "\u001b[1m     \u001b[0m│\u001b[90m String \u001b[0m\u001b[90m Float64?  \u001b[0m\n",
       "─────┼───────────────────\n",
       "   1 │ crude         4.2\n",
       "   2 │ gas          11.3\n",
       "   3 │ gold         12.1\n",
       "   4 │ silver \u001b[90m missing   \u001b[0m\n",
       "   5 │ nickel        5.1\n",
       "   6 │ nickel        5.1"
      ]
     },
     "execution_count": 43,
     "metadata": {},
     "output_type": "execute_result"
    }
   ],
   "source": [
    "new_row = (commod = \"nickel\", price = 5.1)\n",
    "push!(df, new_row)"
   ]
  },
  {
   "cell_type": "markdown",
   "metadata": {},
   "source": [
    "One could also use array comprehensions to generate values for the DataFrame,  "
   ]
  },
  {
   "cell_type": "code",
   "execution_count": 24,
   "metadata": {},
   "outputs": [
    {
     "data": {
      "text/html": [
       "<div class=\"data-frame\"><p>3 rows × 3 columns</p><table class=\"data-frame\"><thead><tr><th></th><th>x1</th><th>x2</th><th>x3</th></tr><tr><th></th><th title=\"Float64\">Float64</th><th title=\"Float64\">Float64</th><th title=\"Float64\">Float64</th></tr></thead><tbody><tr><th>1</th><td>0.905493</td><td>0.453158</td><td>0.743097</td></tr><tr><th>2</th><td>0.683788</td><td>0.19378</td><td>0.511231</td></tr><tr><th>3</th><td>0.53654</td><td>0.230837</td><td>0.00504412</td></tr></tbody></table></div>"
      ],
      "text/latex": [
       "\\begin{tabular}{r|ccc}\n",
       "\t& x1 & x2 & x3\\\\\n",
       "\t\\hline\n",
       "\t& Float64 & Float64 & Float64\\\\\n",
       "\t\\hline\n",
       "\t1 & 0.905493 & 0.453158 & 0.743097 \\\\\n",
       "\t2 & 0.683788 & 0.19378 & 0.511231 \\\\\n",
       "\t3 & 0.53654 & 0.230837 & 0.00504412 \\\\\n",
       "\\end{tabular}\n"
      ],
      "text/plain": [
       "\u001b[1m3×3 DataFrame\u001b[0m\n",
       "\u001b[1m Row \u001b[0m│\u001b[1m x1       \u001b[0m\u001b[1m x2       \u001b[0m\u001b[1m x3         \u001b[0m\n",
       "\u001b[1m     \u001b[0m│\u001b[90m Float64  \u001b[0m\u001b[90m Float64  \u001b[0m\u001b[90m Float64    \u001b[0m\n",
       "─────┼────────────────────────────────\n",
       "   1 │ 0.905493  0.453158  0.743097\n",
       "   2 │ 0.683788  0.19378   0.511231\n",
       "   3 │ 0.53654   0.230837  0.00504412"
      ]
     },
     "execution_count": 24,
     "metadata": {},
     "output_type": "execute_result"
    }
   ],
   "source": [
    "DataFrame([rand(3) for i in 1:3], [:x1, :x2, :x3]) # see how we named the columns"
   ]
  },
  {
   "cell_type": "markdown",
   "metadata": {},
   "source": [
    "You can also create a DataFrame from a matrix, "
   ]
  },
  {
   "cell_type": "code",
   "execution_count": 27,
   "metadata": {},
   "outputs": [
    {
     "data": {
      "text/html": [
       "<div class=\"data-frame\"><p>3 rows × 3 columns</p><table class=\"data-frame\"><thead><tr><th></th><th>x1</th><th>x2</th><th>x3</th></tr><tr><th></th><th title=\"Float64\">Float64</th><th title=\"Float64\">Float64</th><th title=\"Float64\">Float64</th></tr></thead><tbody><tr><th>1</th><td>0.72952</td><td>0.353773</td><td>0.669856</td></tr><tr><th>2</th><td>0.703105</td><td>0.151893</td><td>0.567652</td></tr><tr><th>3</th><td>0.955099</td><td>0.695527</td><td>0.109053</td></tr></tbody></table></div>"
      ],
      "text/latex": [
       "\\begin{tabular}{r|ccc}\n",
       "\t& x1 & x2 & x3\\\\\n",
       "\t\\hline\n",
       "\t& Float64 & Float64 & Float64\\\\\n",
       "\t\\hline\n",
       "\t1 & 0.72952 & 0.353773 & 0.669856 \\\\\n",
       "\t2 & 0.703105 & 0.151893 & 0.567652 \\\\\n",
       "\t3 & 0.955099 & 0.695527 & 0.109053 \\\\\n",
       "\\end{tabular}\n"
      ],
      "text/plain": [
       "\u001b[1m3×3 DataFrame\u001b[0m\n",
       "\u001b[1m Row \u001b[0m│\u001b[1m x1       \u001b[0m\u001b[1m x2       \u001b[0m\u001b[1m x3       \u001b[0m\n",
       "\u001b[1m     \u001b[0m│\u001b[90m Float64  \u001b[0m\u001b[90m Float64  \u001b[0m\u001b[90m Float64  \u001b[0m\n",
       "─────┼──────────────────────────────\n",
       "   1 │ 0.72952   0.353773  0.669856\n",
       "   2 │ 0.703105  0.151893  0.567652\n",
       "   3 │ 0.955099  0.695527  0.109053"
      ]
     },
     "execution_count": 27,
     "metadata": {},
     "output_type": "execute_result"
    }
   ],
   "source": [
    "x = DataFrame(rand(3, 3), :auto) # automatically assign column names"
   ]
  },
  {
   "cell_type": "markdown",
   "metadata": {},
   "source": [
    "Incidentally, you can convert the DataFrame into a matrix or array if you so wished, "
   ]
  },
  {
   "cell_type": "code",
   "execution_count": 28,
   "metadata": {},
   "outputs": [
    {
     "data": {
      "text/plain": [
       "3×3 Matrix{Float64}:\n",
       " 0.72952   0.353773  0.669856\n",
       " 0.703105  0.151893  0.567652\n",
       " 0.955099  0.695527  0.109053"
      ]
     },
     "execution_count": 28,
     "metadata": {},
     "output_type": "execute_result"
    }
   ],
   "source": [
    "Matrix(x)"
   ]
  },
  {
   "cell_type": "markdown",
   "metadata": {},
   "source": [
    "In the next section we talk about accessing the element of a DataFrame as well as looking at some basic information about the DataFrame that we have on hand.  "
   ]
  },
  {
   "cell_type": "markdown",
   "metadata": {},
   "source": [
    "## Accessing data"
   ]
  },
  {
   "cell_type": "markdown",
   "metadata": {},
   "source": [
    "Once we have our data set up in a DataFrame, we are often going to want to know some basic things about the contents. Let us construct a relatively large DataFrame. Most of the time we will be working with large datasets in economics, with thousands of rows and columns. You might be used to working with data in Excel, so things might feel foreign right now. However, I promise that once you start working with data in a programming language such as R, Julia or Python, your productivity will greatly increase. You only need to get over that initial apprehension on learning something new. "
   ]
  },
  {
   "cell_type": "code",
   "execution_count": 38,
   "metadata": {},
   "outputs": [],
   "source": [
    "y = DataFrame(rand(1:10, 1000, 10), :auto);"
   ]
  },
  {
   "cell_type": "markdown",
   "metadata": {},
   "source": [
    "We can get some basic summary statistics on the data in the DataFrame using the `describe` function. "
   ]
  },
  {
   "cell_type": "code",
   "execution_count": 34,
   "metadata": {},
   "outputs": [
    {
     "data": {
      "text/html": [
       "<div class=\"data-frame\"><p>10 rows × 7 columns</p><table class=\"data-frame\"><thead><tr><th></th><th>variable</th><th>mean</th><th>min</th><th>median</th><th>max</th><th>nmissing</th><th>eltype</th></tr><tr><th></th><th title=\"Symbol\">Symbol</th><th title=\"Float64\">Float64</th><th title=\"Int64\">Int64</th><th title=\"Float64\">Float64</th><th title=\"Int64\">Int64</th><th title=\"Int64\">Int64</th><th title=\"DataType\">DataType</th></tr></thead><tbody><tr><th>1</th><td>x1</td><td>5.354</td><td>1</td><td>5.0</td><td>10</td><td>0</td><td>Int64</td></tr><tr><th>2</th><td>x2</td><td>5.45</td><td>1</td><td>5.0</td><td>10</td><td>0</td><td>Int64</td></tr><tr><th>3</th><td>x3</td><td>5.451</td><td>1</td><td>5.0</td><td>10</td><td>0</td><td>Int64</td></tr><tr><th>4</th><td>x4</td><td>5.653</td><td>1</td><td>6.0</td><td>10</td><td>0</td><td>Int64</td></tr><tr><th>5</th><td>x5</td><td>5.457</td><td>1</td><td>5.0</td><td>10</td><td>0</td><td>Int64</td></tr><tr><th>6</th><td>x6</td><td>5.629</td><td>1</td><td>6.0</td><td>10</td><td>0</td><td>Int64</td></tr><tr><th>7</th><td>x7</td><td>5.538</td><td>1</td><td>5.0</td><td>10</td><td>0</td><td>Int64</td></tr><tr><th>8</th><td>x8</td><td>5.547</td><td>1</td><td>6.0</td><td>10</td><td>0</td><td>Int64</td></tr><tr><th>9</th><td>x9</td><td>5.419</td><td>1</td><td>5.0</td><td>10</td><td>0</td><td>Int64</td></tr><tr><th>10</th><td>x10</td><td>5.455</td><td>1</td><td>6.0</td><td>10</td><td>0</td><td>Int64</td></tr></tbody></table></div>"
      ],
      "text/latex": [
       "\\begin{tabular}{r|ccccccc}\n",
       "\t& variable & mean & min & median & max & nmissing & eltype\\\\\n",
       "\t\\hline\n",
       "\t& Symbol & Float64 & Int64 & Float64 & Int64 & Int64 & DataType\\\\\n",
       "\t\\hline\n",
       "\t1 & x1 & 5.354 & 1 & 5.0 & 10 & 0 & Int64 \\\\\n",
       "\t2 & x2 & 5.45 & 1 & 5.0 & 10 & 0 & Int64 \\\\\n",
       "\t3 & x3 & 5.451 & 1 & 5.0 & 10 & 0 & Int64 \\\\\n",
       "\t4 & x4 & 5.653 & 1 & 6.0 & 10 & 0 & Int64 \\\\\n",
       "\t5 & x5 & 5.457 & 1 & 5.0 & 10 & 0 & Int64 \\\\\n",
       "\t6 & x6 & 5.629 & 1 & 6.0 & 10 & 0 & Int64 \\\\\n",
       "\t7 & x7 & 5.538 & 1 & 5.0 & 10 & 0 & Int64 \\\\\n",
       "\t8 & x8 & 5.547 & 1 & 6.0 & 10 & 0 & Int64 \\\\\n",
       "\t9 & x9 & 5.419 & 1 & 5.0 & 10 & 0 & Int64 \\\\\n",
       "\t10 & x10 & 5.455 & 1 & 6.0 & 10 & 0 & Int64 \\\\\n",
       "\\end{tabular}\n"
      ],
      "text/plain": [
       "\u001b[1m10×7 DataFrame\u001b[0m\n",
       "\u001b[1m Row \u001b[0m│\u001b[1m variable \u001b[0m\u001b[1m mean    \u001b[0m\u001b[1m min   \u001b[0m\u001b[1m median  \u001b[0m\u001b[1m max   \u001b[0m\u001b[1m nmissing \u001b[0m\u001b[1m eltype   \u001b[0m\n",
       "\u001b[1m     \u001b[0m│\u001b[90m Symbol   \u001b[0m\u001b[90m Float64 \u001b[0m\u001b[90m Int64 \u001b[0m\u001b[90m Float64 \u001b[0m\u001b[90m Int64 \u001b[0m\u001b[90m Int64    \u001b[0m\u001b[90m DataType \u001b[0m\n",
       "─────┼──────────────────────────────────────────────────────────────\n",
       "   1 │ x1          5.354      1      5.0     10         0  Int64\n",
       "   2 │ x2          5.45       1      5.0     10         0  Int64\n",
       "   3 │ x3          5.451      1      5.0     10         0  Int64\n",
       "   4 │ x4          5.653      1      6.0     10         0  Int64\n",
       "   5 │ x5          5.457      1      5.0     10         0  Int64\n",
       "   6 │ x6          5.629      1      6.0     10         0  Int64\n",
       "   7 │ x7          5.538      1      5.0     10         0  Int64\n",
       "   8 │ x8          5.547      1      6.0     10         0  Int64\n",
       "   9 │ x9          5.419      1      5.0     10         0  Int64\n",
       "  10 │ x10         5.455      1      6.0     10         0  Int64"
      ]
     },
     "execution_count": 34,
     "metadata": {},
     "output_type": "execute_result"
    }
   ],
   "source": [
    "describe(y)"
   ]
  },
  {
   "cell_type": "markdown",
   "metadata": {},
   "source": [
    "If we want to take a peak at the first few rows of the data we can use the `first` function. "
   ]
  },
  {
   "cell_type": "code",
   "execution_count": 37,
   "metadata": {},
   "outputs": [
    {
     "data": {
      "text/html": [
       "<div class=\"data-frame\"><p>5 rows × 10 columns</p><table class=\"data-frame\"><thead><tr><th></th><th>x1</th><th>x2</th><th>x3</th><th>x4</th><th>x5</th><th>x6</th><th>x7</th><th>x8</th><th>x9</th><th>x10</th></tr><tr><th></th><th title=\"Int64\">Int64</th><th title=\"Int64\">Int64</th><th title=\"Int64\">Int64</th><th title=\"Int64\">Int64</th><th title=\"Int64\">Int64</th><th title=\"Int64\">Int64</th><th title=\"Int64\">Int64</th><th title=\"Int64\">Int64</th><th title=\"Int64\">Int64</th><th title=\"Int64\">Int64</th></tr></thead><tbody><tr><th>1</th><td>8</td><td>2</td><td>3</td><td>4</td><td>1</td><td>8</td><td>8</td><td>9</td><td>4</td><td>1</td></tr><tr><th>2</th><td>5</td><td>9</td><td>7</td><td>1</td><td>3</td><td>10</td><td>7</td><td>9</td><td>6</td><td>2</td></tr><tr><th>3</th><td>8</td><td>2</td><td>5</td><td>5</td><td>10</td><td>6</td><td>8</td><td>4</td><td>6</td><td>7</td></tr><tr><th>4</th><td>3</td><td>6</td><td>9</td><td>4</td><td>8</td><td>7</td><td>1</td><td>1</td><td>6</td><td>10</td></tr><tr><th>5</th><td>6</td><td>5</td><td>2</td><td>8</td><td>4</td><td>2</td><td>2</td><td>7</td><td>6</td><td>9</td></tr></tbody></table></div>"
      ],
      "text/latex": [
       "\\begin{tabular}{r|cccccccccc}\n",
       "\t& x1 & x2 & x3 & x4 & x5 & x6 & x7 & x8 & x9 & x10\\\\\n",
       "\t\\hline\n",
       "\t& Int64 & Int64 & Int64 & Int64 & Int64 & Int64 & Int64 & Int64 & Int64 & Int64\\\\\n",
       "\t\\hline\n",
       "\t1 & 8 & 2 & 3 & 4 & 1 & 8 & 8 & 9 & 4 & 1 \\\\\n",
       "\t2 & 5 & 9 & 7 & 1 & 3 & 10 & 7 & 9 & 6 & 2 \\\\\n",
       "\t3 & 8 & 2 & 5 & 5 & 10 & 6 & 8 & 4 & 6 & 7 \\\\\n",
       "\t4 & 3 & 6 & 9 & 4 & 8 & 7 & 1 & 1 & 6 & 10 \\\\\n",
       "\t5 & 6 & 5 & 2 & 8 & 4 & 2 & 2 & 7 & 6 & 9 \\\\\n",
       "\\end{tabular}\n"
      ],
      "text/plain": [
       "\u001b[1m5×10 DataFrame\u001b[0m\n",
       "\u001b[1m Row \u001b[0m│\u001b[1m x1    \u001b[0m\u001b[1m x2    \u001b[0m\u001b[1m x3    \u001b[0m\u001b[1m x4    \u001b[0m\u001b[1m x5    \u001b[0m\u001b[1m x6    \u001b[0m\u001b[1m x7    \u001b[0m\u001b[1m x8    \u001b[0m\u001b[1m x9    \u001b[0m\u001b[1m x10   \u001b[0m\n",
       "\u001b[1m     \u001b[0m│\u001b[90m Int64 \u001b[0m\u001b[90m Int64 \u001b[0m\u001b[90m Int64 \u001b[0m\u001b[90m Int64 \u001b[0m\u001b[90m Int64 \u001b[0m\u001b[90m Int64 \u001b[0m\u001b[90m Int64 \u001b[0m\u001b[90m Int64 \u001b[0m\u001b[90m Int64 \u001b[0m\u001b[90m Int64 \u001b[0m\n",
       "─────┼──────────────────────────────────────────────────────────────────────\n",
       "   1 │     8      2      3      4      1      8      8      9      4      1\n",
       "   2 │     5      9      7      1      3     10      7      9      6      2\n",
       "   3 │     8      2      5      5     10      6      8      4      6      7\n",
       "   4 │     3      6      9      4      8      7      1      1      6     10\n",
       "   5 │     6      5      2      8      4      2      2      7      6      9"
      ]
     },
     "execution_count": 37,
     "metadata": {},
     "output_type": "execute_result"
    }
   ],
   "source": [
    "first(y, 5) # first 5 rows"
   ]
  },
  {
   "cell_type": "markdown",
   "metadata": {},
   "source": [
    "There are multiple ways to access particular columns of the DataFrame that we have created. The most obvious way is to to use `y.col` where `col` stands for the column name. This provides us the column in vector format. "
   ]
  },
  {
   "cell_type": "code",
   "execution_count": 40,
   "metadata": {},
   "outputs": [],
   "source": [
    "y.x2;"
   ]
  },
  {
   "cell_type": "markdown",
   "metadata": {},
   "source": [
    "Another interesting way to access the column is the following, "
   ]
  },
  {
   "cell_type": "code",
   "execution_count": 46,
   "metadata": {},
   "outputs": [],
   "source": [
    "y[!, :x2]; # or y[!, 2]"
   ]
  },
  {
   "cell_type": "code",
   "execution_count": null,
   "metadata": {},
   "outputs": [],
   "source": []
  },
  {
   "cell_type": "markdown",
   "metadata": {},
   "source": [
    "# Importing data"
   ]
  },
  {
   "cell_type": "markdown",
   "metadata": {},
   "source": [
    "# Structuring data"
   ]
  },
  {
   "cell_type": "markdown",
   "metadata": {},
   "source": [
    "# Data analysis"
   ]
  },
  {
   "cell_type": "markdown",
   "metadata": {},
   "source": [
    "# Statistics"
   ]
  },
  {
   "cell_type": "markdown",
   "metadata": {},
   "source": [
    "Statistics and data are inextricably linked. If you are working with data you MUST have some type of background in statistics. In this section we will cover some of the relevant topics for macroeconomists. You would have already covered basic ideas in econometrics and statistics with Marisa, so this is the natural evolution from that section. "
   ]
  },
  {
   "cell_type": "markdown",
   "metadata": {},
   "source": [
    "# Math fundamentals"
   ]
  },
  {
   "cell_type": "markdown",
   "metadata": {},
   "source": [
    "Mathematics is so much easier when we get to use a computer. In this section I will introduce some of the basic mathematical theory that you need as a macroeconomist and then we will show you how that relates to programming. "
   ]
  },
  {
   "cell_type": "markdown",
   "metadata": {},
   "source": []
  }
 ],
 "metadata": {
  "kernelspec": {
   "display_name": "Julia 1.7.0-rc2",
   "language": "julia",
   "name": "julia-1.7"
  },
  "language_info": {
   "file_extension": ".jl",
   "mimetype": "application/julia",
   "name": "julia",
   "version": "1.7.0"
  },
  "orig_nbformat": 4
 },
 "nbformat": 4,
 "nbformat_minor": 2
}
