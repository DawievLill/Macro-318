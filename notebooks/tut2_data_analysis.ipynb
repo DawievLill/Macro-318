{
 "cells": [
  {
   "cell_type": "markdown",
   "metadata": {},
   "source": [
    "# <span style=\"color:#2c061f\"> Macro 318: Tutorial #2 </span>  \n",
    "\n",
    "<br>\n",
    "\n",
    "## <span style=\"color:#374045\"> Data, Stats and Math with Julia </span>\n",
    "\n",
    "\n",
    "#### <span style=\"color:#374045\"> Lecturer: </span> <span style=\"color:#d89216\"> <br> Dawie van Lill (dvanlill@sun.ac.za) </span>"
   ]
  },
  {
   "cell_type": "markdown",
   "metadata": {},
   "source": [
    "# Introduction"
   ]
  },
  {
   "cell_type": "markdown",
   "metadata": {},
   "source": [
    "In this tutorial we will start our discussion with how to work with data in Julia. We will then cover some basic statistics and in the last section move on to some fundamental ideas in mathematics (mostly related to calculus).  \n",
    "\n",
    "Please note that working with data in Julia is going to be different than working with data in Stata. I am just showing basic principles here so that you are aware of them. You do not need to memorise everything in this notebook. It is simply here as a good reference to have if you want to do some useful data work for macroeconomics. \n",
    "\n",
    "If you are more comfortable with Stata for working with data then you can continue on that path. I am simply offering an alternative. \n",
    "\n",
    "In the job market there are a few languages that are used for data analysis. The most popular ones are Stata, R, Python and Julia. At this stage Julia is not the most popular for data work, but it shares similarities with Python. So if you know Julia well, it will be easy to pick up Python. Julia is more popular for work related to numerical / scientific computation, which we will cover in some of the future tutorials. \n",
    "\n",
    "As an aside, you might be wondering why we chose Julia for this course. There are several reasons, but primarily it is because the language is easy to learn and is similar in syntax to Python. It is also blazingly fast!\n",
    "\n",
    "Why not learn Python then? Well, we considered this, but Julia is a just a bit easier to get started with and easier to install for most people. And also, it is super fast! I also believe that it is a language that will be used a lot in economics in the future, with a lot of macroeconomists starting to use it for their modelling purposes. \n",
    "\n",
    "If you are interested in Python as an alternative to Julia you can always contact me and I can refer you to some resources. However, for most students it is more important to get the programming principles right without worrying too much about the language that they are using. "
   ]
  },
  {
   "cell_type": "code",
   "execution_count": 1,
   "metadata": {},
   "outputs": [],
   "source": [
    "import Pkg"
   ]
  },
  {
   "cell_type": "code",
   "execution_count": 13,
   "metadata": {},
   "outputs": [
    {
     "name": "stderr",
     "output_type": "stream",
     "text": [
      "\u001b[32m\u001b[1m   Resolving\u001b[22m\u001b[39m package versions...\n",
      "\u001b[32m\u001b[1m  No Changes\u001b[22m\u001b[39m to `~/.julia/environments/v1.7/Project.toml`\n",
      "\u001b[32m\u001b[1m  No Changes\u001b[22m\u001b[39m to `~/.julia/environments/v1.7/Manifest.toml`\n",
      "\u001b[32m\u001b[1m   Resolving\u001b[22m\u001b[39m package versions...\n",
      "\u001b[32m\u001b[1m  No Changes\u001b[22m\u001b[39m to `~/.julia/environments/v1.7/Project.toml`\n",
      "\u001b[32m\u001b[1m  No Changes\u001b[22m\u001b[39m to `~/.julia/environments/v1.7/Manifest.toml`\n",
      "\u001b[32m\u001b[1m   Resolving\u001b[22m\u001b[39m package versions...\n",
      "\u001b[32m\u001b[1m  No Changes\u001b[22m\u001b[39m to `~/.julia/environments/v1.7/Project.toml`\n",
      "\u001b[32m\u001b[1m  No Changes\u001b[22m\u001b[39m to `~/.julia/environments/v1.7/Manifest.toml`\n",
      "\u001b[32m\u001b[1m   Resolving\u001b[22m\u001b[39m package versions...\n",
      "\u001b[32m\u001b[1m  No Changes\u001b[22m\u001b[39m to `~/.julia/environments/v1.7/Project.toml`\n",
      "\u001b[32m\u001b[1m  No Changes\u001b[22m\u001b[39m to `~/.julia/environments/v1.7/Manifest.toml`\n",
      "\u001b[32m\u001b[1m   Resolving\u001b[22m\u001b[39m package versions...\n",
      "\u001b[32m\u001b[1m  No Changes\u001b[22m\u001b[39m to `~/.julia/environments/v1.7/Project.toml`\n",
      "\u001b[32m\u001b[1m  No Changes\u001b[22m\u001b[39m to `~/.julia/environments/v1.7/Manifest.toml`\n",
      "\u001b[32m\u001b[1m   Resolving\u001b[22m\u001b[39m package versions...\n",
      "\u001b[32m\u001b[1m  No Changes\u001b[22m\u001b[39m to `~/.julia/environments/v1.7/Project.toml`\n",
      "\u001b[32m\u001b[1m  No Changes\u001b[22m\u001b[39m to `~/.julia/environments/v1.7/Manifest.toml`\n",
      "\u001b[32m\u001b[1m   Resolving\u001b[22m\u001b[39m package versions...\n",
      "\u001b[32m\u001b[1m  No Changes\u001b[22m\u001b[39m to `~/.julia/environments/v1.7/Project.toml`\n",
      "\u001b[32m\u001b[1m  No Changes\u001b[22m\u001b[39m to `~/.julia/environments/v1.7/Manifest.toml`\n",
      "\u001b[32m\u001b[1m   Resolving\u001b[22m\u001b[39m package versions...\n",
      "\u001b[32m\u001b[1m  No Changes\u001b[22m\u001b[39m to `~/.julia/environments/v1.7/Project.toml`\n",
      "\u001b[32m\u001b[1m  No Changes\u001b[22m\u001b[39m to `~/.julia/environments/v1.7/Manifest.toml`\n",
      "\u001b[32m\u001b[1m   Resolving\u001b[22m\u001b[39m package versions...\n",
      "\u001b[32m\u001b[1m  No Changes\u001b[22m\u001b[39m to `~/.julia/environments/v1.7/Project.toml`\n",
      "\u001b[32m\u001b[1m  No Changes\u001b[22m\u001b[39m to `~/.julia/environments/v1.7/Manifest.toml`\n",
      "\u001b[32m\u001b[1m   Resolving\u001b[22m\u001b[39m package versions...\n",
      "\u001b[32m\u001b[1m  No Changes\u001b[22m\u001b[39m to `~/.julia/environments/v1.7/Project.toml`\n",
      "\u001b[32m\u001b[1m  No Changes\u001b[22m\u001b[39m to `~/.julia/environments/v1.7/Manifest.toml`\n"
     ]
    }
   ],
   "source": [
    "Pkg.add(\"CategoricalArrays\")\n",
    "Pkg.add(\"CSV\")\n",
    "Pkg.add(\"DataFrames\")\n",
    "Pkg.add(\"DataFramesMeta\")\n",
    "Pkg.add(\"Downloads\")\n",
    "Pkg.add(\"GLM\")\n",
    "Pkg.add(\"Plots\")\n",
    "Pkg.add(\"Random\")\n",
    "Pkg.add(\"RDatasets\")\n",
    "Pkg.add(\"Statistics\")"
   ]
  },
  {
   "cell_type": "code",
   "execution_count": 14,
   "metadata": {},
   "outputs": [],
   "source": [
    "using CategoricalArrays\n",
    "using CSV\n",
    "using DataFrames\n",
    "using DataFramesMeta\n",
    "using Downloads\n",
    "using GLM\n",
    "using Plots\n",
    "using Random\n",
    "using RDatasets\n",
    "using Statistics"
   ]
  },
  {
   "cell_type": "markdown",
   "metadata": {},
   "source": [
    "# Working with data"
   ]
  },
  {
   "cell_type": "markdown",
   "metadata": {},
   "source": [
    "The primary package for working with data in Julia is `DataFrames.jl`. For a comprehensive tutorial series on this package I would recommend Bogumił Kamiński's [Introduction to DataFrames](https://github.com/bkamins/Julia-DataFrames-Tutorial)."
   ]
  },
  {
   "cell_type": "markdown",
   "metadata": {},
   "source": [
    "# DataFrames basics"
   ]
  },
  {
   "cell_type": "markdown",
   "metadata": {},
   "source": [
    "In this section we discuss basic principles from the DataFrames package. For the first topic we look at how to construct and access DataFrames. The fundamental object that we care about is the `DataFrame`. This is similar to a `dataframe` that you would find in R or in Pandas (Python).\n",
    "\n",
    "DataFrames are essentially matrices, with the rows being observations and the columns indicating the variables. "
   ]
  },
  {
   "cell_type": "markdown",
   "metadata": {},
   "source": [
    "## Constructors"
   ]
  },
  {
   "cell_type": "markdown",
   "metadata": {},
   "source": [
    "The easiest thing to construct is an empty DataFrame. "
   ]
  },
  {
   "cell_type": "code",
   "execution_count": 5,
   "metadata": {},
   "outputs": [
    {
     "data": {
      "text/html": [
       "<div class=\"data-frame\"><p>0 rows × 0 columns</p><table class=\"data-frame\"><thead><tr><th></th></tr><tr><th></th></tr></thead><tbody></tbody></table></div>"
      ],
      "text/latex": [
       "\\begin{tabular}{r|}\n",
       "\t& \\\\\n",
       "\t\\hline\n",
       "\t& \\\\\n",
       "\t\\hline\n",
       "\\end{tabular}\n"
      ],
      "text/plain": [
       "\u001b[1m0×0 DataFrame\u001b[0m"
      ]
     },
     "execution_count": 5,
     "metadata": {},
     "output_type": "execute_result"
    }
   ],
   "source": [
    "DataFrame() # empty DataFrame"
   ]
  },
  {
   "cell_type": "markdown",
   "metadata": {},
   "source": [
    "You could also construct a DataFrame with different keyword arguments. Notice the different types of the different columns. "
   ]
  },
  {
   "cell_type": "code",
   "execution_count": 6,
   "metadata": {},
   "outputs": [
    {
     "data": {
      "text/html": [
       "<div class=\"data-frame\"><p>4 rows × 3 columns</p><table class=\"data-frame\"><thead><tr><th></th><th>A</th><th>B</th><th>C</th></tr><tr><th></th><th title=\"Int64\">Int64</th><th title=\"Float64\">Float64</th><th title=\"String\">String</th></tr></thead><tbody><tr><th>1</th><td>2</td><td>-2.12885</td><td>Hello</td></tr><tr><th>2</th><td>3</td><td>0.169217</td><td>Hello</td></tr><tr><th>3</th><td>4</td><td>0.161368</td><td>Hello</td></tr><tr><th>4</th><td>5</td><td>-2.54336</td><td>Hello</td></tr></tbody></table></div>"
      ],
      "text/latex": [
       "\\begin{tabular}{r|ccc}\n",
       "\t& A & B & C\\\\\n",
       "\t\\hline\n",
       "\t& Int64 & Float64 & String\\\\\n",
       "\t\\hline\n",
       "\t1 & 2 & -2.12885 & Hello \\\\\n",
       "\t2 & 3 & 0.169217 & Hello \\\\\n",
       "\t3 & 4 & 0.161368 & Hello \\\\\n",
       "\t4 & 5 & -2.54336 & Hello \\\\\n",
       "\\end{tabular}\n"
      ],
      "text/plain": [
       "\u001b[1m4×3 DataFrame\u001b[0m\n",
       "\u001b[1m Row \u001b[0m│\u001b[1m A     \u001b[0m\u001b[1m B         \u001b[0m\u001b[1m C      \u001b[0m\n",
       "\u001b[1m     \u001b[0m│\u001b[90m Int64 \u001b[0m\u001b[90m Float64   \u001b[0m\u001b[90m String \u001b[0m\n",
       "─────┼──────────────────────────\n",
       "   1 │     2  -2.12885   Hello\n",
       "   2 │     3   0.169217  Hello\n",
       "   3 │     4   0.161368  Hello\n",
       "   4 │     5  -2.54336   Hello"
      ]
     },
     "execution_count": 6,
     "metadata": {},
     "output_type": "execute_result"
    }
   ],
   "source": [
    "DataFrame(A = 2:5, B = randn(4), C = \"Hello\")"
   ]
  },
  {
   "cell_type": "markdown",
   "metadata": {},
   "source": [
    "One of the most common ways to use constructors is through arrays. "
   ]
  },
  {
   "cell_type": "code",
   "execution_count": 7,
   "metadata": {},
   "outputs": [
    {
     "data": {
      "text/html": [
       "<div class=\"data-frame\"><p>4 rows × 2 columns</p><table class=\"data-frame\"><thead><tr><th></th><th>commod</th><th>price</th></tr><tr><th></th><th title=\"String\">String</th><th title=\"Union{Missing, Float64}\">Float64?</th></tr></thead><tbody><tr><th>1</th><td>crude</td><td>4.2</td></tr><tr><th>2</th><td>gas</td><td>11.3</td></tr><tr><th>3</th><td>gold</td><td>12.1</td></tr><tr><th>4</th><td>silver</td><td><em>missing</em></td></tr></tbody></table></div>"
      ],
      "text/latex": [
       "\\begin{tabular}{r|cc}\n",
       "\t& commod & price\\\\\n",
       "\t\\hline\n",
       "\t& String & Float64?\\\\\n",
       "\t\\hline\n",
       "\t1 & crude & 4.2 \\\\\n",
       "\t2 & gas & 11.3 \\\\\n",
       "\t3 & gold & 12.1 \\\\\n",
       "\t4 & silver & \\emph{missing} \\\\\n",
       "\\end{tabular}\n"
      ],
      "text/plain": [
       "\u001b[1m4×2 DataFrame\u001b[0m\n",
       "\u001b[1m Row \u001b[0m│\u001b[1m commod \u001b[0m\u001b[1m price     \u001b[0m\n",
       "\u001b[1m     \u001b[0m│\u001b[90m String \u001b[0m\u001b[90m Float64?  \u001b[0m\n",
       "─────┼───────────────────\n",
       "   1 │ crude         4.2\n",
       "   2 │ gas          11.3\n",
       "   3 │ gold         12.1\n",
       "   4 │ silver \u001b[90m missing   \u001b[0m"
      ]
     },
     "execution_count": 7,
     "metadata": {},
     "output_type": "execute_result"
    }
   ],
   "source": [
    "commodities = [\"crude\", \"gas\", \"gold\", \"silver\"]\n",
    "last_price = [4.2, 11.3, 12.1, missing] # notice that the last value is missing\n",
    "\n",
    "df = DataFrame(commod = commodities, price = last_price) # give names to columns"
   ]
  },
  {
   "cell_type": "markdown",
   "metadata": {},
   "source": [
    "One can also easily add a new row to an existing `DataFrame` using the `push!` function. This is equivalent to adding new observations to the variables. "
   ]
  },
  {
   "cell_type": "code",
   "execution_count": 8,
   "metadata": {},
   "outputs": [
    {
     "data": {
      "text/html": [
       "<div class=\"data-frame\"><p>5 rows × 2 columns</p><table class=\"data-frame\"><thead><tr><th></th><th>commod</th><th>price</th></tr><tr><th></th><th title=\"String\">String</th><th title=\"Union{Missing, Float64}\">Float64?</th></tr></thead><tbody><tr><th>1</th><td>crude</td><td>4.2</td></tr><tr><th>2</th><td>gas</td><td>11.3</td></tr><tr><th>3</th><td>gold</td><td>12.1</td></tr><tr><th>4</th><td>silver</td><td><em>missing</em></td></tr><tr><th>5</th><td>nickel</td><td>5.1</td></tr></tbody></table></div>"
      ],
      "text/latex": [
       "\\begin{tabular}{r|cc}\n",
       "\t& commod & price\\\\\n",
       "\t\\hline\n",
       "\t& String & Float64?\\\\\n",
       "\t\\hline\n",
       "\t1 & crude & 4.2 \\\\\n",
       "\t2 & gas & 11.3 \\\\\n",
       "\t3 & gold & 12.1 \\\\\n",
       "\t4 & silver & \\emph{missing} \\\\\n",
       "\t5 & nickel & 5.1 \\\\\n",
       "\\end{tabular}\n"
      ],
      "text/plain": [
       "\u001b[1m5×2 DataFrame\u001b[0m\n",
       "\u001b[1m Row \u001b[0m│\u001b[1m commod \u001b[0m\u001b[1m price     \u001b[0m\n",
       "\u001b[1m     \u001b[0m│\u001b[90m String \u001b[0m\u001b[90m Float64?  \u001b[0m\n",
       "─────┼───────────────────\n",
       "   1 │ crude         4.2\n",
       "   2 │ gas          11.3\n",
       "   3 │ gold         12.1\n",
       "   4 │ silver \u001b[90m missing   \u001b[0m\n",
       "   5 │ nickel        5.1"
      ]
     },
     "execution_count": 8,
     "metadata": {},
     "output_type": "execute_result"
    }
   ],
   "source": [
    "new_row = (commod = \"nickel\", price = 5.1)\n",
    "push!(df, new_row)"
   ]
  },
  {
   "cell_type": "markdown",
   "metadata": {},
   "source": [
    "One could also use array comprehensions to generate values for the DataFrame,  "
   ]
  },
  {
   "cell_type": "code",
   "execution_count": 9,
   "metadata": {},
   "outputs": [
    {
     "data": {
      "text/html": [
       "<div class=\"data-frame\"><p>3 rows × 3 columns</p><table class=\"data-frame\"><thead><tr><th></th><th>x1</th><th>x2</th><th>x3</th></tr><tr><th></th><th title=\"Float64\">Float64</th><th title=\"Float64\">Float64</th><th title=\"Float64\">Float64</th></tr></thead><tbody><tr><th>1</th><td>0.811626</td><td>0.979328</td><td>0.00553571</td></tr><tr><th>2</th><td>0.564643</td><td>0.92339</td><td>0.796015</td></tr><tr><th>3</th><td>0.559084</td><td>0.689359</td><td>0.0429826</td></tr></tbody></table></div>"
      ],
      "text/latex": [
       "\\begin{tabular}{r|ccc}\n",
       "\t& x1 & x2 & x3\\\\\n",
       "\t\\hline\n",
       "\t& Float64 & Float64 & Float64\\\\\n",
       "\t\\hline\n",
       "\t1 & 0.811626 & 0.979328 & 0.00553571 \\\\\n",
       "\t2 & 0.564643 & 0.92339 & 0.796015 \\\\\n",
       "\t3 & 0.559084 & 0.689359 & 0.0429826 \\\\\n",
       "\\end{tabular}\n"
      ],
      "text/plain": [
       "\u001b[1m3×3 DataFrame\u001b[0m\n",
       "\u001b[1m Row \u001b[0m│\u001b[1m x1       \u001b[0m\u001b[1m x2       \u001b[0m\u001b[1m x3         \u001b[0m\n",
       "\u001b[1m     \u001b[0m│\u001b[90m Float64  \u001b[0m\u001b[90m Float64  \u001b[0m\u001b[90m Float64    \u001b[0m\n",
       "─────┼────────────────────────────────\n",
       "   1 │ 0.811626  0.979328  0.00553571\n",
       "   2 │ 0.564643  0.92339   0.796015\n",
       "   3 │ 0.559084  0.689359  0.0429826"
      ]
     },
     "execution_count": 9,
     "metadata": {},
     "output_type": "execute_result"
    }
   ],
   "source": [
    "DataFrame([rand(3) for i in 1:3], [:x1, :x2, :x3]) # see how we named the columns"
   ]
  },
  {
   "cell_type": "markdown",
   "metadata": {},
   "source": [
    "You can also create a DataFrame from a matrix, "
   ]
  },
  {
   "cell_type": "code",
   "execution_count": 10,
   "metadata": {},
   "outputs": [
    {
     "data": {
      "text/html": [
       "<div class=\"data-frame\"><p>3 rows × 3 columns</p><table class=\"data-frame\"><thead><tr><th></th><th>x1</th><th>x2</th><th>x3</th></tr><tr><th></th><th title=\"Float64\">Float64</th><th title=\"Float64\">Float64</th><th title=\"Float64\">Float64</th></tr></thead><tbody><tr><th>1</th><td>0.55046</td><td>0.389732</td><td>0.205044</td></tr><tr><th>2</th><td>0.512069</td><td>0.0436562</td><td>0.895377</td></tr><tr><th>3</th><td>0.743549</td><td>0.574314</td><td>0.229453</td></tr></tbody></table></div>"
      ],
      "text/latex": [
       "\\begin{tabular}{r|ccc}\n",
       "\t& x1 & x2 & x3\\\\\n",
       "\t\\hline\n",
       "\t& Float64 & Float64 & Float64\\\\\n",
       "\t\\hline\n",
       "\t1 & 0.55046 & 0.389732 & 0.205044 \\\\\n",
       "\t2 & 0.512069 & 0.0436562 & 0.895377 \\\\\n",
       "\t3 & 0.743549 & 0.574314 & 0.229453 \\\\\n",
       "\\end{tabular}\n"
      ],
      "text/plain": [
       "\u001b[1m3×3 DataFrame\u001b[0m\n",
       "\u001b[1m Row \u001b[0m│\u001b[1m x1       \u001b[0m\u001b[1m x2        \u001b[0m\u001b[1m x3       \u001b[0m\n",
       "\u001b[1m     \u001b[0m│\u001b[90m Float64  \u001b[0m\u001b[90m Float64   \u001b[0m\u001b[90m Float64  \u001b[0m\n",
       "─────┼───────────────────────────────\n",
       "   1 │ 0.55046   0.389732   0.205044\n",
       "   2 │ 0.512069  0.0436562  0.895377\n",
       "   3 │ 0.743549  0.574314   0.229453"
      ]
     },
     "execution_count": 10,
     "metadata": {},
     "output_type": "execute_result"
    }
   ],
   "source": [
    "x = DataFrame(rand(3, 3), :auto) # automatically assign column names"
   ]
  },
  {
   "cell_type": "markdown",
   "metadata": {},
   "source": [
    "Incidentally, you can convert the DataFrame into a matrix or array if you so wished, "
   ]
  },
  {
   "cell_type": "code",
   "execution_count": 11,
   "metadata": {},
   "outputs": [
    {
     "data": {
      "text/plain": [
       "3×3 Matrix{Float64}:\n",
       " 0.55046   0.389732   0.205044\n",
       " 0.512069  0.0436562  0.895377\n",
       " 0.743549  0.574314   0.229453"
      ]
     },
     "execution_count": 11,
     "metadata": {},
     "output_type": "execute_result"
    }
   ],
   "source": [
    "Matrix(x)"
   ]
  },
  {
   "cell_type": "markdown",
   "metadata": {},
   "source": [
    "In the next section we talk about accessing the element of a DataFrame as well as looking at some basic information about the DataFrame that we have on hand.  "
   ]
  },
  {
   "cell_type": "markdown",
   "metadata": {},
   "source": [
    "## Accessing data"
   ]
  },
  {
   "cell_type": "markdown",
   "metadata": {},
   "source": [
    "Once we have our data set up in a DataFrame, we are often going to want to know some basic things about the contents. Let us construct a relatively large DataFrame. Most of the time we will be working with large datasets in economics, with thousands of rows and columns. You might be used to working with data in Excel, so things might feel foreign right now. However, I promise that once you start working with data in a programming language such as R, Julia or Python, your productivity will greatly increase. You only need to get over that initial apprehension on learning something new. "
   ]
  },
  {
   "cell_type": "code",
   "execution_count": 19,
   "metadata": {},
   "outputs": [],
   "source": [
    "y = DataFrame(rand(1:10, 1000, 10), :auto);"
   ]
  },
  {
   "cell_type": "markdown",
   "metadata": {},
   "source": [
    "We can get some basic summary statistics on the data in the DataFrame using the `describe` function. "
   ]
  },
  {
   "cell_type": "code",
   "execution_count": 20,
   "metadata": {},
   "outputs": [
    {
     "data": {
      "text/html": [
       "<div class=\"data-frame\"><p>10 rows × 7 columns</p><table class=\"data-frame\"><thead><tr><th></th><th>variable</th><th>mean</th><th>min</th><th>median</th><th>max</th><th>nmissing</th><th>eltype</th></tr><tr><th></th><th title=\"Symbol\">Symbol</th><th title=\"Float64\">Float64</th><th title=\"Int64\">Int64</th><th title=\"Float64\">Float64</th><th title=\"Int64\">Int64</th><th title=\"Int64\">Int64</th><th title=\"DataType\">DataType</th></tr></thead><tbody><tr><th>1</th><td>x1</td><td>5.499</td><td>1</td><td>5.5</td><td>10</td><td>0</td><td>Int64</td></tr><tr><th>2</th><td>x2</td><td>5.539</td><td>1</td><td>5.5</td><td>10</td><td>0</td><td>Int64</td></tr><tr><th>3</th><td>x3</td><td>5.481</td><td>1</td><td>5.0</td><td>10</td><td>0</td><td>Int64</td></tr><tr><th>4</th><td>x4</td><td>5.537</td><td>1</td><td>6.0</td><td>10</td><td>0</td><td>Int64</td></tr><tr><th>5</th><td>x5</td><td>5.576</td><td>1</td><td>6.0</td><td>10</td><td>0</td><td>Int64</td></tr><tr><th>6</th><td>x6</td><td>5.448</td><td>1</td><td>5.0</td><td>10</td><td>0</td><td>Int64</td></tr><tr><th>7</th><td>x7</td><td>5.569</td><td>1</td><td>6.0</td><td>10</td><td>0</td><td>Int64</td></tr><tr><th>8</th><td>x8</td><td>5.493</td><td>1</td><td>6.0</td><td>10</td><td>0</td><td>Int64</td></tr><tr><th>9</th><td>x9</td><td>5.432</td><td>1</td><td>5.0</td><td>10</td><td>0</td><td>Int64</td></tr><tr><th>10</th><td>x10</td><td>5.527</td><td>1</td><td>5.0</td><td>10</td><td>0</td><td>Int64</td></tr></tbody></table></div>"
      ],
      "text/latex": [
       "\\begin{tabular}{r|ccccccc}\n",
       "\t& variable & mean & min & median & max & nmissing & eltype\\\\\n",
       "\t\\hline\n",
       "\t& Symbol & Float64 & Int64 & Float64 & Int64 & Int64 & DataType\\\\\n",
       "\t\\hline\n",
       "\t1 & x1 & 5.499 & 1 & 5.5 & 10 & 0 & Int64 \\\\\n",
       "\t2 & x2 & 5.539 & 1 & 5.5 & 10 & 0 & Int64 \\\\\n",
       "\t3 & x3 & 5.481 & 1 & 5.0 & 10 & 0 & Int64 \\\\\n",
       "\t4 & x4 & 5.537 & 1 & 6.0 & 10 & 0 & Int64 \\\\\n",
       "\t5 & x5 & 5.576 & 1 & 6.0 & 10 & 0 & Int64 \\\\\n",
       "\t6 & x6 & 5.448 & 1 & 5.0 & 10 & 0 & Int64 \\\\\n",
       "\t7 & x7 & 5.569 & 1 & 6.0 & 10 & 0 & Int64 \\\\\n",
       "\t8 & x8 & 5.493 & 1 & 6.0 & 10 & 0 & Int64 \\\\\n",
       "\t9 & x9 & 5.432 & 1 & 5.0 & 10 & 0 & Int64 \\\\\n",
       "\t10 & x10 & 5.527 & 1 & 5.0 & 10 & 0 & Int64 \\\\\n",
       "\\end{tabular}\n"
      ],
      "text/plain": [
       "\u001b[1m10×7 DataFrame\u001b[0m\n",
       "\u001b[1m Row \u001b[0m│\u001b[1m variable \u001b[0m\u001b[1m mean    \u001b[0m\u001b[1m min   \u001b[0m\u001b[1m median  \u001b[0m\u001b[1m max   \u001b[0m\u001b[1m nmissing \u001b[0m\u001b[1m eltype   \u001b[0m\n",
       "\u001b[1m     \u001b[0m│\u001b[90m Symbol   \u001b[0m\u001b[90m Float64 \u001b[0m\u001b[90m Int64 \u001b[0m\u001b[90m Float64 \u001b[0m\u001b[90m Int64 \u001b[0m\u001b[90m Int64    \u001b[0m\u001b[90m DataType \u001b[0m\n",
       "─────┼──────────────────────────────────────────────────────────────\n",
       "   1 │ x1          5.499      1      5.5     10         0  Int64\n",
       "   2 │ x2          5.539      1      5.5     10         0  Int64\n",
       "   3 │ x3          5.481      1      5.0     10         0  Int64\n",
       "   4 │ x4          5.537      1      6.0     10         0  Int64\n",
       "   5 │ x5          5.576      1      6.0     10         0  Int64\n",
       "   6 │ x6          5.448      1      5.0     10         0  Int64\n",
       "   7 │ x7          5.569      1      6.0     10         0  Int64\n",
       "   8 │ x8          5.493      1      6.0     10         0  Int64\n",
       "   9 │ x9          5.432      1      5.0     10         0  Int64\n",
       "  10 │ x10         5.527      1      5.0     10         0  Int64"
      ]
     },
     "execution_count": 20,
     "metadata": {},
     "output_type": "execute_result"
    }
   ],
   "source": [
    "describe(y)"
   ]
  },
  {
   "cell_type": "markdown",
   "metadata": {},
   "source": [
    "If we want to take a peak at the first few rows of the data we can use the `first` function. "
   ]
  },
  {
   "cell_type": "code",
   "execution_count": 14,
   "metadata": {},
   "outputs": [
    {
     "data": {
      "text/html": [
       "<div class=\"data-frame\"><p>5 rows × 10 columns</p><table class=\"data-frame\"><thead><tr><th></th><th>x1</th><th>x2</th><th>x3</th><th>x4</th><th>x5</th><th>x6</th><th>x7</th><th>x8</th><th>x9</th><th>x10</th></tr><tr><th></th><th title=\"Int64\">Int64</th><th title=\"Int64\">Int64</th><th title=\"Int64\">Int64</th><th title=\"Int64\">Int64</th><th title=\"Int64\">Int64</th><th title=\"Int64\">Int64</th><th title=\"Int64\">Int64</th><th title=\"Int64\">Int64</th><th title=\"Int64\">Int64</th><th title=\"Int64\">Int64</th></tr></thead><tbody><tr><th>1</th><td>6</td><td>5</td><td>6</td><td>2</td><td>8</td><td>8</td><td>10</td><td>6</td><td>6</td><td>3</td></tr><tr><th>2</th><td>3</td><td>8</td><td>5</td><td>9</td><td>10</td><td>3</td><td>10</td><td>7</td><td>2</td><td>10</td></tr><tr><th>3</th><td>8</td><td>10</td><td>2</td><td>6</td><td>7</td><td>7</td><td>2</td><td>8</td><td>3</td><td>10</td></tr><tr><th>4</th><td>5</td><td>6</td><td>3</td><td>7</td><td>9</td><td>2</td><td>6</td><td>2</td><td>9</td><td>6</td></tr><tr><th>5</th><td>5</td><td>7</td><td>2</td><td>3</td><td>8</td><td>8</td><td>2</td><td>9</td><td>2</td><td>4</td></tr></tbody></table></div>"
      ],
      "text/latex": [
       "\\begin{tabular}{r|cccccccccc}\n",
       "\t& x1 & x2 & x3 & x4 & x5 & x6 & x7 & x8 & x9 & x10\\\\\n",
       "\t\\hline\n",
       "\t& Int64 & Int64 & Int64 & Int64 & Int64 & Int64 & Int64 & Int64 & Int64 & Int64\\\\\n",
       "\t\\hline\n",
       "\t1 & 6 & 5 & 6 & 2 & 8 & 8 & 10 & 6 & 6 & 3 \\\\\n",
       "\t2 & 3 & 8 & 5 & 9 & 10 & 3 & 10 & 7 & 2 & 10 \\\\\n",
       "\t3 & 8 & 10 & 2 & 6 & 7 & 7 & 2 & 8 & 3 & 10 \\\\\n",
       "\t4 & 5 & 6 & 3 & 7 & 9 & 2 & 6 & 2 & 9 & 6 \\\\\n",
       "\t5 & 5 & 7 & 2 & 3 & 8 & 8 & 2 & 9 & 2 & 4 \\\\\n",
       "\\end{tabular}\n"
      ],
      "text/plain": [
       "\u001b[1m5×10 DataFrame\u001b[0m\n",
       "\u001b[1m Row \u001b[0m│\u001b[1m x1    \u001b[0m\u001b[1m x2    \u001b[0m\u001b[1m x3    \u001b[0m\u001b[1m x4    \u001b[0m\u001b[1m x5    \u001b[0m\u001b[1m x6    \u001b[0m\u001b[1m x7    \u001b[0m\u001b[1m x8    \u001b[0m\u001b[1m x9    \u001b[0m\u001b[1m x10   \u001b[0m\n",
       "\u001b[1m     \u001b[0m│\u001b[90m Int64 \u001b[0m\u001b[90m Int64 \u001b[0m\u001b[90m Int64 \u001b[0m\u001b[90m Int64 \u001b[0m\u001b[90m Int64 \u001b[0m\u001b[90m Int64 \u001b[0m\u001b[90m Int64 \u001b[0m\u001b[90m Int64 \u001b[0m\u001b[90m Int64 \u001b[0m\u001b[90m Int64 \u001b[0m\n",
       "─────┼──────────────────────────────────────────────────────────────────────\n",
       "   1 │     6      5      6      2      8      8     10      6      6      3\n",
       "   2 │     3      8      5      9     10      3     10      7      2     10\n",
       "   3 │     8     10      2      6      7      7      2      8      3     10\n",
       "   4 │     5      6      3      7      9      2      6      2      9      6\n",
       "   5 │     5      7      2      3      8      8      2      9      2      4"
      ]
     },
     "execution_count": 14,
     "metadata": {},
     "output_type": "execute_result"
    }
   ],
   "source": [
    "first(y, 5) # first 5 rows"
   ]
  },
  {
   "cell_type": "markdown",
   "metadata": {},
   "source": [
    "There are multiple ways to access particular columns of the DataFrame that we have created. The most obvious way is to to use `y.col` where `col` stands for the column name. This provides us the column in vector format. "
   ]
  },
  {
   "cell_type": "code",
   "execution_count": 21,
   "metadata": {},
   "outputs": [],
   "source": [
    "y.x2; # get a single column"
   ]
  },
  {
   "cell_type": "markdown",
   "metadata": {},
   "source": [
    "Another interesting way to access the column is the following, "
   ]
  },
  {
   "cell_type": "code",
   "execution_count": 36,
   "metadata": {},
   "outputs": [],
   "source": [
    "y[!, :x2]; # or y[!, 2] or y[:, :x2]"
   ]
  },
  {
   "cell_type": "markdown",
   "metadata": {},
   "source": [
    "You can access several columns (the first two in this case) with the following command, "
   ]
  },
  {
   "cell_type": "code",
   "execution_count": 38,
   "metadata": {},
   "outputs": [],
   "source": [
    "y[:, [:x1, :x2]];"
   ]
  },
  {
   "cell_type": "markdown",
   "metadata": {},
   "source": [
    "Getting rows is also quite easy (and similar to the way in which we access rows in arrays), "
   ]
  },
  {
   "cell_type": "code",
   "execution_count": 39,
   "metadata": {},
   "outputs": [
    {
     "data": {
      "text/html": [
       "<p>DataFrameRow (10 columns)</p><div class=\"data-frame\"><table class=\"data-frame\"><thead><tr><th></th><th>x1</th><th>x2</th><th>x3</th><th>x4</th><th>x5</th><th>x6</th><th>x7</th><th>x8</th><th>x9</th><th>x10</th></tr><tr><th></th><th title=\"Int64\">Int64</th><th title=\"Int64\">Int64</th><th title=\"Int64\">Int64</th><th title=\"Int64\">Int64</th><th title=\"Int64\">Int64</th><th title=\"Int64\">Int64</th><th title=\"Int64\">Int64</th><th title=\"Int64\">Int64</th><th title=\"Int64\">Int64</th><th title=\"Int64\">Int64</th></tr></thead><tbody><tr><th>1</th><td>8</td><td>2</td><td>1</td><td>3</td><td>8</td><td>9</td><td>5</td><td>2</td><td>5</td><td>1</td></tr></tbody></table></div>"
      ],
      "text/latex": [
       "\\begin{tabular}{r|cccccccccc}\n",
       "\t& x1 & x2 & x3 & x4 & x5 & x6 & x7 & x8 & x9 & x10\\\\\n",
       "\t\\hline\n",
       "\t& Int64 & Int64 & Int64 & Int64 & Int64 & Int64 & Int64 & Int64 & Int64 & Int64\\\\\n",
       "\t\\hline\n",
       "\t1 & 8 & 2 & 1 & 3 & 8 & 9 & 5 & 2 & 5 & 1 \\\\\n",
       "\\end{tabular}\n"
      ],
      "text/plain": [
       "\u001b[1mDataFrameRow\u001b[0m\n",
       "\u001b[1m Row \u001b[0m│\u001b[1m x1    \u001b[0m\u001b[1m x2    \u001b[0m\u001b[1m x3    \u001b[0m\u001b[1m x4    \u001b[0m\u001b[1m x5    \u001b[0m\u001b[1m x6    \u001b[0m\u001b[1m x7    \u001b[0m\u001b[1m x8    \u001b[0m\u001b[1m x9    \u001b[0m\u001b[1m x10   \u001b[0m\n",
       "\u001b[1m     \u001b[0m│\u001b[90m Int64 \u001b[0m\u001b[90m Int64 \u001b[0m\u001b[90m Int64 \u001b[0m\u001b[90m Int64 \u001b[0m\u001b[90m Int64 \u001b[0m\u001b[90m Int64 \u001b[0m\u001b[90m Int64 \u001b[0m\u001b[90m Int64 \u001b[0m\u001b[90m Int64 \u001b[0m\u001b[90m Int64 \u001b[0m\n",
       "─────┼──────────────────────────────────────────────────────────────────────\n",
       "   1 │     8      2      1      3      8      9      5      2      5      1"
      ]
     },
     "execution_count": 39,
     "metadata": {},
     "output_type": "execute_result"
    }
   ],
   "source": [
    "y[1, :]"
   ]
  },
  {
   "cell_type": "markdown",
   "metadata": {},
   "source": [
    "With the code above you can also easily change the values in the DataFrame. We could, for example, multiply each of the values in the second column by $2$ if we wanted. "
   ]
  },
  {
   "cell_type": "code",
   "execution_count": 23,
   "metadata": {},
   "outputs": [
    {
     "data": {
      "text/plain": [
       "2-element Vector{Int64}:\n",
       " 2\n",
       " 8"
      ]
     },
     "execution_count": 23,
     "metadata": {},
     "output_type": "execute_result"
    }
   ],
   "source": [
    "first(y.x2, 2) # observe first two values in the column"
   ]
  },
  {
   "cell_type": "code",
   "execution_count": 24,
   "metadata": {},
   "outputs": [
    {
     "data": {
      "text/plain": [
       "2-element Vector{Int64}:\n",
       "  4\n",
       " 16"
      ]
     },
     "execution_count": 24,
     "metadata": {},
     "output_type": "execute_result"
    }
   ],
   "source": [
    "z = y[!, :x2]; \n",
    "z *= 2; # multiply column by two\n",
    "\n",
    "first(z, 2) # observe newly mutated column"
   ]
  },
  {
   "cell_type": "code",
   "execution_count": 25,
   "metadata": {},
   "outputs": [
    {
     "data": {
      "text/plain": [
       "2-element Vector{Int64}:\n",
       " 2\n",
       " 8"
      ]
     },
     "execution_count": 25,
     "metadata": {},
     "output_type": "execute_result"
    }
   ],
   "source": [
    "first(y.x2, 2) # important to note that this is unchanged"
   ]
  },
  {
   "cell_type": "markdown",
   "metadata": {},
   "source": [
    "# Importing data"
   ]
  },
  {
   "cell_type": "markdown",
   "metadata": {},
   "source": [
    "Now let us import some data and play around with it a bit. This is generally referred to as data wrangling. If you want to become a data scientist, then significant portion of your work is going to involve gathering and cleaning data. The analysis part only makes up a small percentage. "
   ]
  },
  {
   "cell_type": "markdown",
   "metadata": {},
   "source": [
    "I have created a dataset that is hosted on github at the following location -- https://github.com/DawievLill/Macro-318/blob/main/data/tut2_data.csv\n",
    "\n",
    "Now let us download this data with Julia. This is one possible way to do it. "
   ]
  },
  {
   "cell_type": "code",
   "execution_count": 4,
   "metadata": {},
   "outputs": [
    {
     "data": {
      "text/plain": [
       "\"tut2_data.csv\""
      ]
     },
     "execution_count": 4,
     "metadata": {},
     "output_type": "execute_result"
    }
   ],
   "source": [
    "Downloads.download(\n",
    "    \"https://raw.githubusercontent.com/DawievLill/Macro-318/main/data/tut2_data.csv\", \n",
    "    \"tut2_data.csv\"\n",
    ")"
   ]
  },
  {
   "cell_type": "markdown",
   "metadata": {},
   "source": [
    "Now get the data into Julia!"
   ]
  },
  {
   "cell_type": "code",
   "execution_count": 5,
   "metadata": {},
   "outputs": [
    {
     "data": {
      "text/html": [
       "<div class=\"data-frame\"><p>71 rows × 5 columns</p><table class=\"data-frame\"><thead><tr><th></th><th>date</th><th>gdp</th><th>repo</th><th>cpi</th><th>inflation</th></tr><tr><th></th><th title=\"Dates.Date\">Date</th><th title=\"Int64\">Int64</th><th title=\"Float64\">Float64</th><th title=\"Float64\">Float64</th><th title=\"Float64\">Float64</th></tr></thead><tbody><tr><th>1</th><td>2004-03-31</td><td>1571580</td><td>8.0</td><td>51.1689</td><td>-2.05565</td></tr><tr><th>2</th><td>2004-06-30</td><td>1640953</td><td>8.0</td><td>51.4474</td><td>-2.02507</td></tr><tr><th>3</th><td>2004-09-30</td><td>1674699</td><td>7.66667</td><td>51.5677</td><td>-1.00851</td></tr><tr><th>4</th><td>2004-12-31</td><td>1731000</td><td>7.5</td><td>51.8483</td><td>1.62524</td></tr><tr><th>5</th><td>2005-03-31</td><td>1768828</td><td>7.5</td><td>52.1796</td><td>1.97509</td></tr><tr><th>6</th><td>2005-06-30</td><td>1803783</td><td>7.0</td><td>52.456</td><td>1.9603</td></tr><tr><th>7</th><td>2005-09-30</td><td>1873743</td><td>7.0</td><td>52.8125</td><td>2.41398</td></tr><tr><th>8</th><td>2005-12-31</td><td>1918423</td><td>7.0</td><td>52.9391</td><td>2.10385</td></tr><tr><th>9</th><td>2006-03-31</td><td>1960150</td><td>7.0</td><td>53.243</td><td>2.03793</td></tr><tr><th>10</th><td>2006-06-30</td><td>2048534</td><td>7.16667</td><td>53.7536</td><td>2.47365</td></tr><tr><th>11</th><td>2006-09-30</td><td>2120013</td><td>7.83333</td><td>54.7726</td><td>3.7114</td></tr><tr><th>12</th><td>2006-12-31</td><td>2231030</td><td>8.66667</td><td>55.3275</td><td>4.51158</td></tr><tr><th>13</th><td>2007-03-31</td><td>2270667</td><td>9.0</td><td>55.9521</td><td>5.08817</td></tr><tr><th>14</th><td>2007-06-30</td><td>2350848</td><td>9.16667</td><td>56.9458</td><td>5.93869</td></tr><tr><th>15</th><td>2007-09-30</td><td>2415988</td><td>9.83333</td><td>58.1548</td><td>6.17488</td></tr><tr><th>16</th><td>2007-12-31</td><td>2462412</td><td>10.6667</td><td>59.2646</td><td>7.11589</td></tr><tr><th>17</th><td>2008-03-31</td><td>2569803</td><td>11.0</td><td>60.9667</td><td>8.96234</td></tr><tr><th>18</th><td>2008-06-30</td><td>2633146</td><td>11.6667</td><td>62.6333</td><td>9.98761</td></tr><tr><th>19</th><td>2008-09-30</td><td>2723120</td><td>12.0</td><td>64.6</td><td>11.0829</td></tr><tr><th>20</th><td>2008-12-31</td><td>2673514</td><td>11.8333</td><td>65.0333</td><td>9.73391</td></tr><tr><th>21</th><td>2009-03-31</td><td>2742517</td><td>10.5</td><td>66.0667</td><td>8.36523</td></tr><tr><th>22</th><td>2009-06-30</td><td>2732647</td><td>8.16667</td><td>67.4667</td><td>7.71687</td></tr><tr><th>23</th><td>2009-09-30</td><td>2805594</td><td>7.16667</td><td>68.7</td><td>6.34675</td></tr><tr><th>24</th><td>2009-12-31</td><td>2853911</td><td>7.0</td><td>69.0333</td><td>6.15069</td></tr><tr><th>25</th><td>2010-03-31</td><td>2936248</td><td>6.83333</td><td>69.8</td><td>5.65086</td></tr><tr><th>26</th><td>2010-06-30</td><td>3010051</td><td>6.5</td><td>70.5333</td><td>4.54545</td></tr><tr><th>27</th><td>2010-09-30</td><td>3053147</td><td>6.33333</td><td>71.1</td><td>3.49345</td></tr><tr><th>28</th><td>2010-12-31</td><td>3081135</td><td>5.66667</td><td>71.4</td><td>3.4283</td></tr><tr><th>29</th><td>2011-03-31</td><td>3183146</td><td>5.5</td><td>72.4667</td><td>3.82044</td></tr><tr><th>30</th><td>2011-06-30</td><td>3251316</td><td>5.5</td><td>73.8</td><td>4.63138</td></tr><tr><th>&vellip;</th><td>&vellip;</td><td>&vellip;</td><td>&vellip;</td><td>&vellip;</td><td>&vellip;</td></tr></tbody></table></div>"
      ],
      "text/latex": [
       "\\begin{tabular}{r|ccccc}\n",
       "\t& date & gdp & repo & cpi & inflation\\\\\n",
       "\t\\hline\n",
       "\t& Date & Int64 & Float64 & Float64 & Float64\\\\\n",
       "\t\\hline\n",
       "\t1 & 2004-03-31 & 1571580 & 8.0 & 51.1689 & -2.05565 \\\\\n",
       "\t2 & 2004-06-30 & 1640953 & 8.0 & 51.4474 & -2.02507 \\\\\n",
       "\t3 & 2004-09-30 & 1674699 & 7.66667 & 51.5677 & -1.00851 \\\\\n",
       "\t4 & 2004-12-31 & 1731000 & 7.5 & 51.8483 & 1.62524 \\\\\n",
       "\t5 & 2005-03-31 & 1768828 & 7.5 & 52.1796 & 1.97509 \\\\\n",
       "\t6 & 2005-06-30 & 1803783 & 7.0 & 52.456 & 1.9603 \\\\\n",
       "\t7 & 2005-09-30 & 1873743 & 7.0 & 52.8125 & 2.41398 \\\\\n",
       "\t8 & 2005-12-31 & 1918423 & 7.0 & 52.9391 & 2.10385 \\\\\n",
       "\t9 & 2006-03-31 & 1960150 & 7.0 & 53.243 & 2.03793 \\\\\n",
       "\t10 & 2006-06-30 & 2048534 & 7.16667 & 53.7536 & 2.47365 \\\\\n",
       "\t11 & 2006-09-30 & 2120013 & 7.83333 & 54.7726 & 3.7114 \\\\\n",
       "\t12 & 2006-12-31 & 2231030 & 8.66667 & 55.3275 & 4.51158 \\\\\n",
       "\t13 & 2007-03-31 & 2270667 & 9.0 & 55.9521 & 5.08817 \\\\\n",
       "\t14 & 2007-06-30 & 2350848 & 9.16667 & 56.9458 & 5.93869 \\\\\n",
       "\t15 & 2007-09-30 & 2415988 & 9.83333 & 58.1548 & 6.17488 \\\\\n",
       "\t16 & 2007-12-31 & 2462412 & 10.6667 & 59.2646 & 7.11589 \\\\\n",
       "\t17 & 2008-03-31 & 2569803 & 11.0 & 60.9667 & 8.96234 \\\\\n",
       "\t18 & 2008-06-30 & 2633146 & 11.6667 & 62.6333 & 9.98761 \\\\\n",
       "\t19 & 2008-09-30 & 2723120 & 12.0 & 64.6 & 11.0829 \\\\\n",
       "\t20 & 2008-12-31 & 2673514 & 11.8333 & 65.0333 & 9.73391 \\\\\n",
       "\t21 & 2009-03-31 & 2742517 & 10.5 & 66.0667 & 8.36523 \\\\\n",
       "\t22 & 2009-06-30 & 2732647 & 8.16667 & 67.4667 & 7.71687 \\\\\n",
       "\t23 & 2009-09-30 & 2805594 & 7.16667 & 68.7 & 6.34675 \\\\\n",
       "\t24 & 2009-12-31 & 2853911 & 7.0 & 69.0333 & 6.15069 \\\\\n",
       "\t25 & 2010-03-31 & 2936248 & 6.83333 & 69.8 & 5.65086 \\\\\n",
       "\t26 & 2010-06-30 & 3010051 & 6.5 & 70.5333 & 4.54545 \\\\\n",
       "\t27 & 2010-09-30 & 3053147 & 6.33333 & 71.1 & 3.49345 \\\\\n",
       "\t28 & 2010-12-31 & 3081135 & 5.66667 & 71.4 & 3.4283 \\\\\n",
       "\t29 & 2011-03-31 & 3183146 & 5.5 & 72.4667 & 3.82044 \\\\\n",
       "\t30 & 2011-06-30 & 3251316 & 5.5 & 73.8 & 4.63138 \\\\\n",
       "\t$\\dots$ & $\\dots$ & $\\dots$ & $\\dots$ & $\\dots$ & $\\dots$ \\\\\n",
       "\\end{tabular}\n"
      ],
      "text/plain": [
       "\u001b[1m71×5 DataFrame\u001b[0m\n",
       "\u001b[1m Row \u001b[0m│\u001b[1m date       \u001b[0m\u001b[1m gdp     \u001b[0m\u001b[1m repo    \u001b[0m\u001b[1m cpi      \u001b[0m\u001b[1m inflation \u001b[0m\n",
       "\u001b[1m     \u001b[0m│\u001b[90m Date       \u001b[0m\u001b[90m Int64   \u001b[0m\u001b[90m Float64 \u001b[0m\u001b[90m Float64  \u001b[0m\u001b[90m Float64   \u001b[0m\n",
       "─────┼───────────────────────────────────────────────────\n",
       "   1 │ 2004-03-31  1571580  8.0       51.1689   -2.05565\n",
       "   2 │ 2004-06-30  1640953  8.0       51.4474   -2.02507\n",
       "   3 │ 2004-09-30  1674699  7.66667   51.5677   -1.00851\n",
       "   4 │ 2004-12-31  1731000  7.5       51.8483    1.62524\n",
       "   5 │ 2005-03-31  1768828  7.5       52.1796    1.97509\n",
       "   6 │ 2005-06-30  1803783  7.0       52.456     1.9603\n",
       "   7 │ 2005-09-30  1873743  7.0       52.8125    2.41398\n",
       "   8 │ 2005-12-31  1918423  7.0       52.9391    2.10385\n",
       "   9 │ 2006-03-31  1960150  7.0       53.243     2.03793\n",
       "  10 │ 2006-06-30  2048534  7.16667   53.7536    2.47365\n",
       "  11 │ 2006-09-30  2120013  7.83333   54.7726    3.7114\n",
       "  ⋮  │     ⋮          ⋮        ⋮        ⋮          ⋮\n",
       "  62 │ 2019-06-30  5603717  6.75     112.033     4.44375\n",
       "  63 │ 2019-09-30  5641263  6.5      113.1       4.14365\n",
       "  64 │ 2019-12-31  5639799  6.5      113.567     3.74543\n",
       "  65 │ 2020-03-31  5571896  5.91667  114.967     4.42022\n",
       "  66 │ 2020-06-30  4766334  3.91667  114.733     2.41\n",
       "  67 │ 2020-09-30  5204962  3.5      116.6       3.09461\n",
       "  68 │ 2020-12-31  5562956  3.5      117.167     3.16994\n",
       "  69 │ 2021-03-31  5634112  3.5      118.5       3.07335\n",
       "  70 │ 2021-06-30  5632802  3.5      120.267     4.82278\n",
       "  71 │ 2021-09-30  5819983  3.5      122.233     4.83133\n",
       "\u001b[36m                                          50 rows omitted\u001b[0m"
      ]
     },
     "execution_count": 5,
     "metadata": {},
     "output_type": "execute_result"
    }
   ],
   "source": [
    "sa_data = DataFrame(CSV.File(\"tut2_data.csv\", dateformat = \"yyyy/mm/dd\")) # specify the date format"
   ]
  },
  {
   "cell_type": "markdown",
   "metadata": {},
   "source": [
    "Alternatively, we could have done the following, since we know the data is located in the `data` folder, "
   ]
  },
  {
   "cell_type": "code",
   "execution_count": 49,
   "metadata": {},
   "outputs": [],
   "source": [
    "sa_data_1 = DataFrame(CSV.File(\"../data/tut2_data.csv\")); # if you don't understand this piece of code, you can simply move on. "
   ]
  },
  {
   "cell_type": "markdown",
   "metadata": {},
   "source": [
    "So we have succesfully imported data into Julia. What can we do with this data? We see that the data contains information on GDP, the repo rate, CPI and inflation. The first thing that we might want to do is visualise the data. This is always a good first step. After that we might want to look at some basic descriptive statistics, to get an idea of the properties of the data. "
   ]
  },
  {
   "cell_type": "markdown",
   "metadata": {},
   "source": [
    "## Plotting the data"
   ]
  },
  {
   "cell_type": "markdown",
   "metadata": {},
   "source": [
    "For us to plot the data let us look at one the variables in the dataset. Let us consider GDP, which is the second column in the dataset. We can access GDP by calling the variable name, but we can also use the fact that it is located in the second column of the table. "
   ]
  },
  {
   "cell_type": "code",
   "execution_count": 10,
   "metadata": {},
   "outputs": [],
   "source": [
    "gdp_1 = sa_data.gdp;\n",
    "gdp_2 = sa_data[!, 2];\n",
    "gdp_3 = sa_data[!, :gdp];"
   ]
  },
  {
   "cell_type": "markdown",
   "metadata": {},
   "source": [
    "We can check whether these variables give the same result as follows, "
   ]
  },
  {
   "cell_type": "code",
   "execution_count": 11,
   "metadata": {},
   "outputs": [
    {
     "data": {
      "text/plain": [
       "true"
      ]
     },
     "execution_count": 11,
     "metadata": {},
     "output_type": "execute_result"
    }
   ],
   "source": [
    "gdp_1 == gdp_2 == gdp_3 # check that these give exactly the same result"
   ]
  },
  {
   "cell_type": "markdown",
   "metadata": {},
   "source": [
    "Now let us draw a basic plot of GDP and see if it aligns with your expectation of what GDP would look like in level terms. You can also compare this with US GDP in Chapter 2 of the Williamson textbook. I have used **nominal GDP** in this dataset. We will compare nominal with real GDP soon, with a simple calculation involving the inflation rate (although technically we should be using the GDP deflator to move from nominal to real terms).  "
   ]
  },
  {
   "cell_type": "code",
   "execution_count": 21,
   "metadata": {},
   "outputs": [
    {
     "data": {
      "image/svg+xml": "<?xml version=\"1.0\" encoding=\"utf-8\"?>\n<svg xmlns=\"http://www.w3.org/2000/svg\" xmlns:xlink=\"http://www.w3.org/1999/xlink\" width=\"600\" height=\"400\" viewBox=\"0 0 2400 1600\">\n<defs>\n  <clipPath id=\"clip910\">\n    <rect x=\"0\" y=\"0\" width=\"2400\" height=\"1600\"/>\n  </clipPath>\n</defs>\n<path clip-path=\"url(#clip910)\" d=\"\nM0 1600 L2400 1600 L2400 0 L0 0  Z\n  \" fill=\"#ffffff\" fill-rule=\"evenodd\" fill-opacity=\"1\"/>\n<defs>\n  <clipPath id=\"clip911\">\n    <rect x=\"480\" y=\"0\" width=\"1681\" height=\"1600\"/>\n  </clipPath>\n</defs>\n<path clip-path=\"url(#clip910)\" d=\"\nM276.359 1486.45 L2352.76 1486.45 L2352.76 47.2441 L276.359 47.2441  Z\n  \" fill=\"#ffffff\" fill-rule=\"evenodd\" fill-opacity=\"1\"/>\n<defs>\n  <clipPath id=\"clip912\">\n    <rect x=\"276\" y=\"47\" width=\"2077\" height=\"1440\"/>\n  </clipPath>\n</defs>\n<polyline clip-path=\"url(#clip912)\" style=\"stroke:#000000; stroke-linecap:butt; stroke-linejoin:round; stroke-width:2; stroke-opacity:0.1; fill:none\" points=\"\n  307.544,1486.45 307.544,47.2441 \n  \"/>\n<polyline clip-path=\"url(#clip912)\" style=\"stroke:#000000; stroke-linecap:butt; stroke-linejoin:round; stroke-width:2; stroke-opacity:0.1; fill:none\" points=\"\n  867.438,1486.45 867.438,47.2441 \n  \"/>\n<polyline clip-path=\"url(#clip912)\" style=\"stroke:#000000; stroke-linecap:butt; stroke-linejoin:round; stroke-width:2; stroke-opacity:0.1; fill:none\" points=\"\n  1427.03,1486.45 1427.03,47.2441 \n  \"/>\n<polyline clip-path=\"url(#clip912)\" style=\"stroke:#000000; stroke-linecap:butt; stroke-linejoin:round; stroke-width:2; stroke-opacity:0.1; fill:none\" points=\"\n  1986.61,1486.45 1986.61,47.2441 \n  \"/>\n<polyline clip-path=\"url(#clip910)\" style=\"stroke:#000000; stroke-linecap:butt; stroke-linejoin:round; stroke-width:4; stroke-opacity:1; fill:none\" points=\"\n  276.359,1486.45 2352.76,1486.45 \n  \"/>\n<polyline clip-path=\"url(#clip910)\" style=\"stroke:#000000; stroke-linecap:butt; stroke-linejoin:round; stroke-width:4; stroke-opacity:1; fill:none\" points=\"\n  307.544,1486.45 307.544,1467.55 \n  \"/>\n<polyline clip-path=\"url(#clip910)\" style=\"stroke:#000000; stroke-linecap:butt; stroke-linejoin:round; stroke-width:4; stroke-opacity:1; fill:none\" points=\"\n  867.438,1486.45 867.438,1467.55 \n  \"/>\n<polyline clip-path=\"url(#clip910)\" style=\"stroke:#000000; stroke-linecap:butt; stroke-linejoin:round; stroke-width:4; stroke-opacity:1; fill:none\" points=\"\n  1427.03,1486.45 1427.03,1467.55 \n  \"/>\n<polyline clip-path=\"url(#clip910)\" style=\"stroke:#000000; stroke-linecap:butt; stroke-linejoin:round; stroke-width:4; stroke-opacity:1; fill:none\" points=\"\n  1986.61,1486.45 1986.61,1467.55 \n  \"/>\n<path clip-path=\"url(#clip910)\" d=\"M179.338 1544.91 L195.658 1544.91 L195.658 1548.85 L173.714 1548.85 L173.714 1544.91 Q176.376 1542.16 180.959 1537.53 Q185.565 1532.88 186.746 1531.53 Q188.991 1529.01 189.871 1527.27 Q190.774 1525.51 190.774 1523.82 Q190.774 1521.07 188.829 1519.33 Q186.908 1517.6 183.806 1517.6 Q181.607 1517.6 179.153 1518.36 Q176.723 1519.13 173.945 1520.68 L173.945 1515.95 Q176.769 1514.82 179.223 1514.24 Q181.676 1513.66 183.713 1513.66 Q189.084 1513.66 192.278 1516.35 Q195.473 1519.03 195.473 1523.52 Q195.473 1525.65 194.662 1527.57 Q193.875 1529.47 191.769 1532.07 Q191.19 1532.74 188.088 1535.95 Q184.987 1539.15 179.338 1544.91 Z\" fill=\"#000000\" fill-rule=\"evenodd\" fill-opacity=\"1\" /><path clip-path=\"url(#clip910)\" d=\"M215.473 1517.37 Q211.861 1517.37 210.033 1520.93 Q208.227 1524.47 208.227 1531.6 Q208.227 1538.71 210.033 1542.27 Q211.861 1545.82 215.473 1545.82 Q219.107 1545.82 220.912 1542.27 Q222.741 1538.71 222.741 1531.6 Q222.741 1524.47 220.912 1520.93 Q219.107 1517.37 215.473 1517.37 M215.473 1513.66 Q221.283 1513.66 224.338 1518.27 Q227.417 1522.85 227.417 1531.6 Q227.417 1540.33 224.338 1544.94 Q221.283 1549.52 215.473 1549.52 Q209.662 1549.52 206.584 1544.94 Q203.528 1540.33 203.528 1531.6 Q203.528 1522.85 206.584 1518.27 Q209.662 1513.66 215.473 1513.66 Z\" fill=\"#000000\" fill-rule=\"evenodd\" fill-opacity=\"1\" /><path clip-path=\"url(#clip910)\" d=\"M245.634 1517.37 Q242.023 1517.37 240.195 1520.93 Q238.389 1524.47 238.389 1531.6 Q238.389 1538.71 240.195 1542.27 Q242.023 1545.82 245.634 1545.82 Q249.269 1545.82 251.074 1542.27 Q252.903 1538.71 252.903 1531.6 Q252.903 1524.47 251.074 1520.93 Q249.269 1517.37 245.634 1517.37 M245.634 1513.66 Q251.445 1513.66 254.5 1518.27 Q257.579 1522.85 257.579 1531.6 Q257.579 1540.33 254.5 1544.94 Q251.445 1549.52 245.634 1549.52 Q239.824 1549.52 236.746 1544.94 Q233.69 1540.33 233.69 1531.6 Q233.69 1522.85 236.746 1518.27 Q239.824 1513.66 245.634 1513.66 Z\" fill=\"#000000\" fill-rule=\"evenodd\" fill-opacity=\"1\" /><path clip-path=\"url(#clip910)\" d=\"M278.644 1518.36 L266.838 1536.81 L278.644 1536.81 L278.644 1518.36 M277.417 1514.29 L283.296 1514.29 L283.296 1536.81 L288.227 1536.81 L288.227 1540.7 L283.296 1540.7 L283.296 1548.85 L278.644 1548.85 L278.644 1540.7 L263.042 1540.7 L263.042 1536.19 L277.417 1514.29 Z\" fill=\"#000000\" fill-rule=\"evenodd\" fill-opacity=\"1\" /><path clip-path=\"url(#clip910)\" d=\"M293.204 1533.96 L305.68 1533.96 L305.68 1537.76 L293.204 1537.76 L293.204 1533.96 Z\" fill=\"#000000\" fill-rule=\"evenodd\" fill-opacity=\"1\" /><path clip-path=\"url(#clip910)\" d=\"M323.065 1517.37 Q319.453 1517.37 317.625 1520.93 Q315.819 1524.47 315.819 1531.6 Q315.819 1538.71 317.625 1542.27 Q319.453 1545.82 323.065 1545.82 Q326.699 1545.82 328.504 1542.27 Q330.333 1538.71 330.333 1531.6 Q330.333 1524.47 328.504 1520.93 Q326.699 1517.37 323.065 1517.37 M323.065 1513.66 Q328.875 1513.66 331.93 1518.27 Q335.009 1522.85 335.009 1531.6 Q335.009 1540.33 331.93 1544.94 Q328.875 1549.52 323.065 1549.52 Q317.254 1549.52 314.176 1544.94 Q311.12 1540.33 311.12 1531.6 Q311.12 1522.85 314.176 1518.27 Q317.254 1513.66 323.065 1513.66 Z\" fill=\"#000000\" fill-rule=\"evenodd\" fill-opacity=\"1\" /><path clip-path=\"url(#clip910)\" d=\"M344.037 1544.91 L351.676 1544.91 L351.676 1518.55 L343.365 1520.21 L343.365 1515.95 L351.629 1514.29 L356.305 1514.29 L356.305 1544.91 L363.944 1544.91 L363.944 1548.85 L344.037 1548.85 L344.037 1544.91 Z\" fill=\"#000000\" fill-rule=\"evenodd\" fill-opacity=\"1\" /><path clip-path=\"url(#clip910)\" d=\"M370.634 1533.96 L383.111 1533.96 L383.111 1537.76 L370.634 1537.76 L370.634 1533.96 Z\" fill=\"#000000\" fill-rule=\"evenodd\" fill-opacity=\"1\" /><path clip-path=\"url(#clip910)\" d=\"M400.495 1517.37 Q396.884 1517.37 395.055 1520.93 Q393.249 1524.47 393.249 1531.6 Q393.249 1538.71 395.055 1542.27 Q396.884 1545.82 400.495 1545.82 Q404.129 1545.82 405.934 1542.27 Q407.763 1538.71 407.763 1531.6 Q407.763 1524.47 405.934 1520.93 Q404.129 1517.37 400.495 1517.37 M400.495 1513.66 Q406.305 1513.66 409.36 1518.27 Q412.439 1522.85 412.439 1531.6 Q412.439 1540.33 409.36 1544.94 Q406.305 1549.52 400.495 1549.52 Q394.685 1549.52 391.606 1544.94 Q388.55 1540.33 388.55 1531.6 Q388.55 1522.85 391.606 1518.27 Q394.685 1513.66 400.495 1513.66 Z\" fill=\"#000000\" fill-rule=\"evenodd\" fill-opacity=\"1\" /><path clip-path=\"url(#clip910)\" d=\"M421.467 1544.91 L429.106 1544.91 L429.106 1518.55 L420.796 1520.21 L420.796 1515.95 L429.059 1514.29 L433.735 1514.29 L433.735 1544.91 L441.374 1544.91 L441.374 1548.85 L421.467 1548.85 L421.467 1544.91 Z\" fill=\"#000000\" fill-rule=\"evenodd\" fill-opacity=\"1\" /><path clip-path=\"url(#clip910)\" d=\"M739.233 1544.91 L755.552 1544.91 L755.552 1548.85 L733.608 1548.85 L733.608 1544.91 Q736.27 1542.16 740.853 1537.53 Q745.46 1532.88 746.64 1531.53 Q748.886 1529.01 749.765 1527.27 Q750.668 1525.51 750.668 1523.82 Q750.668 1521.07 748.724 1519.33 Q746.803 1517.6 743.701 1517.6 Q741.502 1517.6 739.048 1518.36 Q736.617 1519.13 733.84 1520.68 L733.84 1515.95 Q736.664 1514.82 739.117 1514.24 Q741.571 1513.66 743.608 1513.66 Q748.978 1513.66 752.173 1516.35 Q755.367 1519.03 755.367 1523.52 Q755.367 1525.65 754.557 1527.57 Q753.77 1529.47 751.664 1532.07 Q751.085 1532.74 747.983 1535.95 Q744.881 1539.15 739.233 1544.91 Z\" fill=\"#000000\" fill-rule=\"evenodd\" fill-opacity=\"1\" /><path clip-path=\"url(#clip910)\" d=\"M775.367 1517.37 Q771.756 1517.37 769.927 1520.93 Q768.122 1524.47 768.122 1531.6 Q768.122 1538.71 769.927 1542.27 Q771.756 1545.82 775.367 1545.82 Q779.001 1545.82 780.807 1542.27 Q782.636 1538.71 782.636 1531.6 Q782.636 1524.47 780.807 1520.93 Q779.001 1517.37 775.367 1517.37 M775.367 1513.66 Q781.177 1513.66 784.233 1518.27 Q787.312 1522.85 787.312 1531.6 Q787.312 1540.33 784.233 1544.94 Q781.177 1549.52 775.367 1549.52 Q769.557 1549.52 766.478 1544.94 Q763.423 1540.33 763.423 1531.6 Q763.423 1522.85 766.478 1518.27 Q769.557 1513.66 775.367 1513.66 Z\" fill=\"#000000\" fill-rule=\"evenodd\" fill-opacity=\"1\" /><path clip-path=\"url(#clip910)\" d=\"M805.529 1517.37 Q801.918 1517.37 800.089 1520.93 Q798.284 1524.47 798.284 1531.6 Q798.284 1538.71 800.089 1542.27 Q801.918 1545.82 805.529 1545.82 Q809.163 1545.82 810.969 1542.27 Q812.798 1538.71 812.798 1531.6 Q812.798 1524.47 810.969 1520.93 Q809.163 1517.37 805.529 1517.37 M805.529 1513.66 Q811.339 1513.66 814.395 1518.27 Q817.473 1522.85 817.473 1531.6 Q817.473 1540.33 814.395 1544.94 Q811.339 1549.52 805.529 1549.52 Q799.719 1549.52 796.64 1544.94 Q793.585 1540.33 793.585 1531.6 Q793.585 1522.85 796.64 1518.27 Q799.719 1513.66 805.529 1513.66 Z\" fill=\"#000000\" fill-rule=\"evenodd\" fill-opacity=\"1\" /><path clip-path=\"url(#clip910)\" d=\"M825.83 1548.13 L825.83 1543.87 Q827.589 1544.7 829.395 1545.14 Q831.2 1545.58 832.936 1545.58 Q837.566 1545.58 839.996 1542.48 Q842.45 1539.36 842.797 1533.01 Q841.455 1535.01 839.395 1536.07 Q837.334 1537.13 834.834 1537.13 Q829.649 1537.13 826.617 1534.01 Q823.608 1530.86 823.608 1525.42 Q823.608 1520.1 826.756 1516.88 Q829.904 1513.66 835.135 1513.66 Q841.131 1513.66 844.279 1518.27 Q847.45 1522.85 847.45 1531.6 Q847.45 1539.77 843.561 1544.66 Q839.696 1549.52 833.145 1549.52 Q831.385 1549.52 829.58 1549.17 Q827.774 1548.82 825.83 1548.13 M835.135 1533.48 Q838.284 1533.48 840.112 1531.32 Q841.964 1529.17 841.964 1525.42 Q841.964 1521.7 840.112 1519.54 Q838.284 1517.37 835.135 1517.37 Q831.987 1517.37 830.135 1519.54 Q828.307 1521.7 828.307 1525.42 Q828.307 1529.17 830.135 1531.32 Q831.987 1533.48 835.135 1533.48 Z\" fill=\"#000000\" fill-rule=\"evenodd\" fill-opacity=\"1\" /><path clip-path=\"url(#clip910)\" d=\"M853.098 1533.96 L865.575 1533.96 L865.575 1537.76 L853.098 1537.76 L853.098 1533.96 Z\" fill=\"#000000\" fill-rule=\"evenodd\" fill-opacity=\"1\" /><path clip-path=\"url(#clip910)\" d=\"M882.959 1517.37 Q879.348 1517.37 877.519 1520.93 Q875.714 1524.47 875.714 1531.6 Q875.714 1538.71 877.519 1542.27 Q879.348 1545.82 882.959 1545.82 Q886.593 1545.82 888.399 1542.27 Q890.228 1538.71 890.228 1531.6 Q890.228 1524.47 888.399 1520.93 Q886.593 1517.37 882.959 1517.37 M882.959 1513.66 Q888.769 1513.66 891.825 1518.27 Q894.904 1522.85 894.904 1531.6 Q894.904 1540.33 891.825 1544.94 Q888.769 1549.52 882.959 1549.52 Q877.149 1549.52 874.07 1544.94 Q871.015 1540.33 871.015 1531.6 Q871.015 1522.85 874.07 1518.27 Q877.149 1513.66 882.959 1513.66 Z\" fill=\"#000000\" fill-rule=\"evenodd\" fill-opacity=\"1\" /><path clip-path=\"url(#clip910)\" d=\"M903.931 1544.91 L911.57 1544.91 L911.57 1518.55 L903.26 1520.21 L903.26 1515.95 L911.524 1514.29 L916.2 1514.29 L916.2 1544.91 L923.839 1544.91 L923.839 1548.85 L903.931 1548.85 L903.931 1544.91 Z\" fill=\"#000000\" fill-rule=\"evenodd\" fill-opacity=\"1\" /><path clip-path=\"url(#clip910)\" d=\"M930.528 1533.96 L943.005 1533.96 L943.005 1537.76 L930.528 1537.76 L930.528 1533.96 Z\" fill=\"#000000\" fill-rule=\"evenodd\" fill-opacity=\"1\" /><path clip-path=\"url(#clip910)\" d=\"M960.389 1517.37 Q956.778 1517.37 954.95 1520.93 Q953.144 1524.47 953.144 1531.6 Q953.144 1538.71 954.95 1542.27 Q956.778 1545.82 960.389 1545.82 Q964.024 1545.82 965.829 1542.27 Q967.658 1538.71 967.658 1531.6 Q967.658 1524.47 965.829 1520.93 Q964.024 1517.37 960.389 1517.37 M960.389 1513.66 Q966.2 1513.66 969.255 1518.27 Q972.334 1522.85 972.334 1531.6 Q972.334 1540.33 969.255 1544.94 Q966.2 1549.52 960.389 1549.52 Q954.579 1549.52 951.501 1544.94 Q948.445 1540.33 948.445 1531.6 Q948.445 1522.85 951.501 1518.27 Q954.579 1513.66 960.389 1513.66 Z\" fill=\"#000000\" fill-rule=\"evenodd\" fill-opacity=\"1\" /><path clip-path=\"url(#clip910)\" d=\"M981.361 1544.91 L989 1544.91 L989 1518.55 L980.69 1520.21 L980.69 1515.95 L988.954 1514.29 L993.63 1514.29 L993.63 1544.91 L1001.27 1544.91 L1001.27 1548.85 L981.361 1548.85 L981.361 1544.91 Z\" fill=\"#000000\" fill-rule=\"evenodd\" fill-opacity=\"1\" /><path clip-path=\"url(#clip910)\" d=\"M1298.82 1544.91 L1315.14 1544.91 L1315.14 1548.85 L1293.2 1548.85 L1293.2 1544.91 Q1295.86 1542.16 1300.44 1537.53 Q1305.05 1532.88 1306.23 1531.53 Q1308.47 1529.01 1309.35 1527.27 Q1310.26 1525.51 1310.26 1523.82 Q1310.26 1521.07 1308.31 1519.33 Q1306.39 1517.6 1303.29 1517.6 Q1301.09 1517.6 1298.64 1518.36 Q1296.21 1519.13 1293.43 1520.68 L1293.43 1515.95 Q1296.25 1514.82 1298.71 1514.24 Q1301.16 1513.66 1303.2 1513.66 Q1308.57 1513.66 1311.76 1516.35 Q1314.96 1519.03 1314.96 1523.52 Q1314.96 1525.65 1314.15 1527.57 Q1313.36 1529.47 1311.25 1532.07 Q1310.67 1532.74 1307.57 1535.95 Q1304.47 1539.15 1298.82 1544.91 Z\" fill=\"#000000\" fill-rule=\"evenodd\" fill-opacity=\"1\" /><path clip-path=\"url(#clip910)\" d=\"M1334.96 1517.37 Q1331.34 1517.37 1329.52 1520.93 Q1327.71 1524.47 1327.71 1531.6 Q1327.71 1538.71 1329.52 1542.27 Q1331.34 1545.82 1334.96 1545.82 Q1338.59 1545.82 1340.4 1542.27 Q1342.22 1538.71 1342.22 1531.6 Q1342.22 1524.47 1340.4 1520.93 Q1338.59 1517.37 1334.96 1517.37 M1334.96 1513.66 Q1340.77 1513.66 1343.82 1518.27 Q1346.9 1522.85 1346.9 1531.6 Q1346.9 1540.33 1343.82 1544.94 Q1340.77 1549.52 1334.96 1549.52 Q1329.15 1549.52 1326.07 1544.94 Q1323.01 1540.33 1323.01 1531.6 Q1323.01 1522.85 1326.07 1518.27 Q1329.15 1513.66 1334.96 1513.66 Z\" fill=\"#000000\" fill-rule=\"evenodd\" fill-opacity=\"1\" /><path clip-path=\"url(#clip910)\" d=\"M1355.93 1544.91 L1363.57 1544.91 L1363.57 1518.55 L1355.26 1520.21 L1355.26 1515.95 L1363.52 1514.29 L1368.2 1514.29 L1368.2 1544.91 L1375.83 1544.91 L1375.83 1548.85 L1355.93 1548.85 L1355.93 1544.91 Z\" fill=\"#000000\" fill-rule=\"evenodd\" fill-opacity=\"1\" /><path clip-path=\"url(#clip910)\" d=\"M1398.13 1518.36 L1386.32 1536.81 L1398.13 1536.81 L1398.13 1518.36 M1396.9 1514.29 L1402.78 1514.29 L1402.78 1536.81 L1407.71 1536.81 L1407.71 1540.7 L1402.78 1540.7 L1402.78 1548.85 L1398.13 1548.85 L1398.13 1540.7 L1382.52 1540.7 L1382.52 1536.19 L1396.9 1514.29 Z\" fill=\"#000000\" fill-rule=\"evenodd\" fill-opacity=\"1\" /><path clip-path=\"url(#clip910)\" d=\"M1412.69 1533.96 L1425.16 1533.96 L1425.16 1537.76 L1412.69 1537.76 L1412.69 1533.96 Z\" fill=\"#000000\" fill-rule=\"evenodd\" fill-opacity=\"1\" /><path clip-path=\"url(#clip910)\" d=\"M1442.55 1517.37 Q1438.94 1517.37 1437.11 1520.93 Q1435.3 1524.47 1435.3 1531.6 Q1435.3 1538.71 1437.11 1542.27 Q1438.94 1545.82 1442.55 1545.82 Q1446.18 1545.82 1447.99 1542.27 Q1449.82 1538.71 1449.82 1531.6 Q1449.82 1524.47 1447.99 1520.93 Q1446.18 1517.37 1442.55 1517.37 M1442.55 1513.66 Q1448.36 1513.66 1451.41 1518.27 Q1454.49 1522.85 1454.49 1531.6 Q1454.49 1540.33 1451.41 1544.94 Q1448.36 1549.52 1442.55 1549.52 Q1436.74 1549.52 1433.66 1544.94 Q1430.6 1540.33 1430.6 1531.6 Q1430.6 1522.85 1433.66 1518.27 Q1436.74 1513.66 1442.55 1513.66 Z\" fill=\"#000000\" fill-rule=\"evenodd\" fill-opacity=\"1\" /><path clip-path=\"url(#clip910)\" d=\"M1463.52 1544.91 L1471.16 1544.91 L1471.16 1518.55 L1462.85 1520.21 L1462.85 1515.95 L1471.11 1514.29 L1475.79 1514.29 L1475.79 1544.91 L1483.43 1544.91 L1483.43 1548.85 L1463.52 1548.85 L1463.52 1544.91 Z\" fill=\"#000000\" fill-rule=\"evenodd\" fill-opacity=\"1\" /><path clip-path=\"url(#clip910)\" d=\"M1490.12 1533.96 L1502.59 1533.96 L1502.59 1537.76 L1490.12 1537.76 L1490.12 1533.96 Z\" fill=\"#000000\" fill-rule=\"evenodd\" fill-opacity=\"1\" /><path clip-path=\"url(#clip910)\" d=\"M1519.98 1517.37 Q1516.37 1517.37 1514.54 1520.93 Q1512.73 1524.47 1512.73 1531.6 Q1512.73 1538.71 1514.54 1542.27 Q1516.37 1545.82 1519.98 1545.82 Q1523.61 1545.82 1525.42 1542.27 Q1527.25 1538.71 1527.25 1531.6 Q1527.25 1524.47 1525.42 1520.93 Q1523.61 1517.37 1519.98 1517.37 M1519.98 1513.66 Q1525.79 1513.66 1528.84 1518.27 Q1531.92 1522.85 1531.92 1531.6 Q1531.92 1540.33 1528.84 1544.94 Q1525.79 1549.52 1519.98 1549.52 Q1514.17 1549.52 1511.09 1544.94 Q1508.03 1540.33 1508.03 1531.6 Q1508.03 1522.85 1511.09 1518.27 Q1514.17 1513.66 1519.98 1513.66 Z\" fill=\"#000000\" fill-rule=\"evenodd\" fill-opacity=\"1\" /><path clip-path=\"url(#clip910)\" d=\"M1540.95 1544.91 L1548.59 1544.91 L1548.59 1518.55 L1540.28 1520.21 L1540.28 1515.95 L1548.54 1514.29 L1553.22 1514.29 L1553.22 1544.91 L1560.86 1544.91 L1560.86 1548.85 L1540.95 1548.85 L1540.95 1544.91 Z\" fill=\"#000000\" fill-rule=\"evenodd\" fill-opacity=\"1\" /><path clip-path=\"url(#clip910)\" d=\"M1858.41 1544.91 L1874.73 1544.91 L1874.73 1548.85 L1852.78 1548.85 L1852.78 1544.91 Q1855.45 1542.16 1860.03 1537.53 Q1864.64 1532.88 1865.82 1531.53 Q1868.06 1529.01 1868.94 1527.27 Q1869.84 1525.51 1869.84 1523.82 Q1869.84 1521.07 1867.9 1519.33 Q1865.98 1517.6 1862.88 1517.6 Q1860.68 1517.6 1858.22 1518.36 Q1855.79 1519.13 1853.02 1520.68 L1853.02 1515.95 Q1855.84 1514.82 1858.29 1514.24 Q1860.75 1513.66 1862.78 1513.66 Q1868.15 1513.66 1871.35 1516.35 Q1874.54 1519.03 1874.54 1523.52 Q1874.54 1525.65 1873.73 1527.57 Q1872.95 1529.47 1870.84 1532.07 Q1870.26 1532.74 1867.16 1535.95 Q1864.06 1539.15 1858.41 1544.91 Z\" fill=\"#000000\" fill-rule=\"evenodd\" fill-opacity=\"1\" /><path clip-path=\"url(#clip910)\" d=\"M1894.54 1517.37 Q1890.93 1517.37 1889.1 1520.93 Q1887.3 1524.47 1887.3 1531.6 Q1887.3 1538.71 1889.1 1542.27 Q1890.93 1545.82 1894.54 1545.82 Q1898.18 1545.82 1899.98 1542.27 Q1901.81 1538.71 1901.81 1531.6 Q1901.81 1524.47 1899.98 1520.93 Q1898.18 1517.37 1894.54 1517.37 M1894.54 1513.66 Q1900.35 1513.66 1903.41 1518.27 Q1906.49 1522.85 1906.49 1531.6 Q1906.49 1540.33 1903.41 1544.94 Q1900.35 1549.52 1894.54 1549.52 Q1888.73 1549.52 1885.65 1544.94 Q1882.6 1540.33 1882.6 1531.6 Q1882.6 1522.85 1885.65 1518.27 Q1888.73 1513.66 1894.54 1513.66 Z\" fill=\"#000000\" fill-rule=\"evenodd\" fill-opacity=\"1\" /><path clip-path=\"url(#clip910)\" d=\"M1915.52 1544.91 L1923.15 1544.91 L1923.15 1518.55 L1914.84 1520.21 L1914.84 1515.95 L1923.11 1514.29 L1927.78 1514.29 L1927.78 1544.91 L1935.42 1544.91 L1935.42 1548.85 L1915.52 1548.85 L1915.52 1544.91 Z\" fill=\"#000000\" fill-rule=\"evenodd\" fill-opacity=\"1\" /><path clip-path=\"url(#clip910)\" d=\"M1945.01 1548.13 L1945.01 1543.87 Q1946.77 1544.7 1948.57 1545.14 Q1950.38 1545.58 1952.11 1545.58 Q1956.74 1545.58 1959.17 1542.48 Q1961.63 1539.36 1961.97 1533.01 Q1960.63 1535.01 1958.57 1536.07 Q1956.51 1537.13 1954.01 1537.13 Q1948.83 1537.13 1945.79 1534.01 Q1942.78 1530.86 1942.78 1525.42 Q1942.78 1520.1 1945.93 1516.88 Q1949.08 1513.66 1954.31 1513.66 Q1960.31 1513.66 1963.46 1518.27 Q1966.63 1522.85 1966.63 1531.6 Q1966.63 1539.77 1962.74 1544.66 Q1958.87 1549.52 1952.32 1549.52 Q1950.56 1549.52 1948.76 1549.17 Q1946.95 1548.82 1945.01 1548.13 M1954.31 1533.48 Q1957.46 1533.48 1959.29 1531.32 Q1961.14 1529.17 1961.14 1525.42 Q1961.14 1521.7 1959.29 1519.54 Q1957.46 1517.37 1954.31 1517.37 Q1951.16 1517.37 1949.31 1519.54 Q1947.48 1521.7 1947.48 1525.42 Q1947.48 1529.17 1949.31 1531.32 Q1951.16 1533.48 1954.31 1533.48 Z\" fill=\"#000000\" fill-rule=\"evenodd\" fill-opacity=\"1\" /><path clip-path=\"url(#clip910)\" d=\"M1972.27 1533.96 L1984.75 1533.96 L1984.75 1537.76 L1972.27 1537.76 L1972.27 1533.96 Z\" fill=\"#000000\" fill-rule=\"evenodd\" fill-opacity=\"1\" /><path clip-path=\"url(#clip910)\" d=\"M2002.14 1517.37 Q1998.52 1517.37 1996.7 1520.93 Q1994.89 1524.47 1994.89 1531.6 Q1994.89 1538.71 1996.7 1542.27 Q1998.52 1545.82 2002.14 1545.82 Q2005.77 1545.82 2007.58 1542.27 Q2009.4 1538.71 2009.4 1531.6 Q2009.4 1524.47 2007.58 1520.93 Q2005.77 1517.37 2002.14 1517.37 M2002.14 1513.66 Q2007.95 1513.66 2011 1518.27 Q2014.08 1522.85 2014.08 1531.6 Q2014.08 1540.33 2011 1544.94 Q2007.95 1549.52 2002.14 1549.52 Q1996.33 1549.52 1993.25 1544.94 Q1990.19 1540.33 1990.19 1531.6 Q1990.19 1522.85 1993.25 1518.27 Q1996.33 1513.66 2002.14 1513.66 Z\" fill=\"#000000\" fill-rule=\"evenodd\" fill-opacity=\"1\" /><path clip-path=\"url(#clip910)\" d=\"M2023.11 1544.91 L2030.75 1544.91 L2030.75 1518.55 L2022.44 1520.21 L2022.44 1515.95 L2030.7 1514.29 L2035.38 1514.29 L2035.38 1544.91 L2043.02 1544.91 L2043.02 1548.85 L2023.11 1548.85 L2023.11 1544.91 Z\" fill=\"#000000\" fill-rule=\"evenodd\" fill-opacity=\"1\" /><path clip-path=\"url(#clip910)\" d=\"M2049.7 1533.96 L2062.18 1533.96 L2062.18 1537.76 L2049.7 1537.76 L2049.7 1533.96 Z\" fill=\"#000000\" fill-rule=\"evenodd\" fill-opacity=\"1\" /><path clip-path=\"url(#clip910)\" d=\"M2079.57 1517.37 Q2075.95 1517.37 2074.13 1520.93 Q2072.32 1524.47 2072.32 1531.6 Q2072.32 1538.71 2074.13 1542.27 Q2075.95 1545.82 2079.57 1545.82 Q2083.2 1545.82 2085.01 1542.27 Q2086.83 1538.71 2086.83 1531.6 Q2086.83 1524.47 2085.01 1520.93 Q2083.2 1517.37 2079.57 1517.37 M2079.57 1513.66 Q2085.38 1513.66 2088.43 1518.27 Q2091.51 1522.85 2091.51 1531.6 Q2091.51 1540.33 2088.43 1544.94 Q2085.38 1549.52 2079.57 1549.52 Q2073.76 1549.52 2070.68 1544.94 Q2067.62 1540.33 2067.62 1531.6 Q2067.62 1522.85 2070.68 1518.27 Q2073.76 1513.66 2079.57 1513.66 Z\" fill=\"#000000\" fill-rule=\"evenodd\" fill-opacity=\"1\" /><path clip-path=\"url(#clip910)\" d=\"M2100.54 1544.91 L2108.18 1544.91 L2108.18 1518.55 L2099.87 1520.21 L2099.87 1515.95 L2108.13 1514.29 L2112.81 1514.29 L2112.81 1544.91 L2120.45 1544.91 L2120.45 1548.85 L2100.54 1548.85 L2100.54 1544.91 Z\" fill=\"#000000\" fill-rule=\"evenodd\" fill-opacity=\"1\" /><polyline clip-path=\"url(#clip912)\" style=\"stroke:#000000; stroke-linecap:butt; stroke-linejoin:round; stroke-width:2; stroke-opacity:0.1; fill:none\" points=\"\n  276.359,1308.8 2352.76,1308.8 \n  \"/>\n<polyline clip-path=\"url(#clip912)\" style=\"stroke:#000000; stroke-linecap:butt; stroke-linejoin:round; stroke-width:2; stroke-opacity:0.1; fill:none\" points=\"\n  276.359,989.21 2352.76,989.21 \n  \"/>\n<polyline clip-path=\"url(#clip912)\" style=\"stroke:#000000; stroke-linecap:butt; stroke-linejoin:round; stroke-width:2; stroke-opacity:0.1; fill:none\" points=\"\n  276.359,669.621 2352.76,669.621 \n  \"/>\n<polyline clip-path=\"url(#clip912)\" style=\"stroke:#000000; stroke-linecap:butt; stroke-linejoin:round; stroke-width:2; stroke-opacity:0.1; fill:none\" points=\"\n  276.359,350.033 2352.76,350.033 \n  \"/>\n<polyline clip-path=\"url(#clip910)\" style=\"stroke:#000000; stroke-linecap:butt; stroke-linejoin:round; stroke-width:4; stroke-opacity:1; fill:none\" points=\"\n  276.359,1486.45 276.359,47.2441 \n  \"/>\n<polyline clip-path=\"url(#clip910)\" style=\"stroke:#000000; stroke-linecap:butt; stroke-linejoin:round; stroke-width:4; stroke-opacity:1; fill:none\" points=\"\n  276.359,1308.8 295.257,1308.8 \n  \"/>\n<polyline clip-path=\"url(#clip910)\" style=\"stroke:#000000; stroke-linecap:butt; stroke-linejoin:round; stroke-width:4; stroke-opacity:1; fill:none\" points=\"\n  276.359,989.21 295.257,989.21 \n  \"/>\n<polyline clip-path=\"url(#clip910)\" style=\"stroke:#000000; stroke-linecap:butt; stroke-linejoin:round; stroke-width:4; stroke-opacity:1; fill:none\" points=\"\n  276.359,669.621 295.257,669.621 \n  \"/>\n<polyline clip-path=\"url(#clip910)\" style=\"stroke:#000000; stroke-linecap:butt; stroke-linejoin:round; stroke-width:4; stroke-opacity:1; fill:none\" points=\"\n  276.359,350.033 295.257,350.033 \n  \"/>\n<path clip-path=\"url(#clip910)\" d=\"M57.7745 1328.59 L74.0939 1328.59 L74.0939 1332.53 L52.1495 1332.53 L52.1495 1328.59 Q54.8115 1325.84 59.3949 1321.21 Q64.0013 1316.55 65.1819 1315.21 Q67.4272 1312.69 68.3068 1310.95 Q69.2096 1309.19 69.2096 1307.5 Q69.2096 1304.75 67.2652 1303.01 Q65.3439 1301.28 62.2421 1301.28 Q60.043 1301.28 57.5893 1302.04 Q55.1588 1302.8 52.381 1304.35 L52.381 1299.63 Q55.2051 1298.5 57.6588 1297.92 Q60.1124 1297.34 62.1495 1297.34 Q67.5198 1297.34 70.7142 1300.03 Q73.9087 1302.71 73.9087 1307.2 Q73.9087 1309.33 73.0985 1311.25 Q72.3115 1313.15 70.205 1315.74 Q69.6263 1316.41 66.5245 1319.63 Q63.4226 1322.83 57.7745 1328.59 Z\" fill=\"#000000\" fill-rule=\"evenodd\" fill-opacity=\"1\" /><path clip-path=\"url(#clip910)\" d=\"M83.9086 1326.65 L88.7928 1326.65 L88.7928 1332.53 L83.9086 1332.53 L83.9086 1326.65 Z\" fill=\"#000000\" fill-rule=\"evenodd\" fill-opacity=\"1\" /><path clip-path=\"url(#clip910)\" d=\"M108.978 1301.04 Q105.367 1301.04 103.538 1304.61 Q101.733 1308.15 101.733 1315.28 Q101.733 1322.39 103.538 1325.95 Q105.367 1329.49 108.978 1329.49 Q112.612 1329.49 114.418 1325.95 Q116.246 1322.39 116.246 1315.28 Q116.246 1308.15 114.418 1304.61 Q112.612 1301.04 108.978 1301.04 M108.978 1297.34 Q114.788 1297.34 117.844 1301.95 Q120.922 1306.53 120.922 1315.28 Q120.922 1324.01 117.844 1328.61 Q114.788 1333.2 108.978 1333.2 Q103.168 1333.2 100.089 1328.61 Q97.0335 1324.01 97.0335 1315.28 Q97.0335 1306.53 100.089 1301.95 Q103.168 1297.34 108.978 1297.34 Z\" fill=\"#000000\" fill-rule=\"evenodd\" fill-opacity=\"1\" /><path clip-path=\"url(#clip910)\" d=\"M157.311 1307.06 L146.732 1317.69 L157.311 1328.27 L154.556 1331.07 L143.931 1320.44 L133.306 1331.07 L130.575 1328.27 L141.131 1317.69 L130.575 1307.06 L133.306 1304.26 L143.931 1314.89 L154.556 1304.26 L157.311 1307.06 Z\" fill=\"#000000\" fill-rule=\"evenodd\" fill-opacity=\"1\" /><path clip-path=\"url(#clip910)\" d=\"M169.672 1328.59 L177.311 1328.59 L177.311 1302.22 L169.001 1303.89 L169.001 1299.63 L177.265 1297.97 L181.94 1297.97 L181.94 1328.59 L189.579 1328.59 L189.579 1332.53 L169.672 1332.53 L169.672 1328.59 Z\" fill=\"#000000\" fill-rule=\"evenodd\" fill-opacity=\"1\" /><path clip-path=\"url(#clip910)\" d=\"M209.024 1301.04 Q205.413 1301.04 203.584 1304.61 Q201.778 1308.15 201.778 1315.28 Q201.778 1322.39 203.584 1325.95 Q205.413 1329.49 209.024 1329.49 Q212.658 1329.49 214.463 1325.95 Q216.292 1322.39 216.292 1315.28 Q216.292 1308.15 214.463 1304.61 Q212.658 1301.04 209.024 1301.04 M209.024 1297.34 Q214.834 1297.34 217.889 1301.95 Q220.968 1306.53 220.968 1315.28 Q220.968 1324.01 217.889 1328.61 Q214.834 1333.2 209.024 1333.2 Q203.214 1333.2 200.135 1328.61 Q197.079 1324.01 197.079 1315.28 Q197.079 1306.53 200.135 1301.95 Q203.214 1297.34 209.024 1297.34 Z\" fill=\"#000000\" fill-rule=\"evenodd\" fill-opacity=\"1\" /><path clip-path=\"url(#clip910)\" d=\"M230.993 1289.56 Q228.435 1289.56 226.93 1291.31 Q225.444 1293.06 225.444 1296.11 Q225.444 1299.13 226.93 1300.9 Q228.435 1302.65 230.993 1302.65 Q233.55 1302.65 235.036 1300.9 Q236.541 1299.13 236.541 1296.11 Q236.541 1293.06 235.036 1291.31 Q233.55 1289.56 230.993 1289.56 M238.535 1277.66 L238.535 1281.12 Q237.105 1280.44 235.638 1280.08 Q234.19 1279.72 232.761 1279.72 Q228.999 1279.72 227.005 1282.26 Q225.031 1284.8 224.748 1289.94 Q225.858 1288.3 227.532 1287.44 Q229.206 1286.55 231.218 1286.55 Q235.45 1286.55 237.895 1289.13 Q240.359 1291.69 240.359 1296.11 Q240.359 1300.43 237.801 1303.05 Q235.243 1305.66 230.993 1305.66 Q226.121 1305.66 223.545 1301.94 Q220.968 1298.19 220.968 1291.1 Q220.968 1284.45 224.128 1280.5 Q227.287 1276.53 232.61 1276.53 Q234.039 1276.53 235.488 1276.81 Q236.955 1277.09 238.535 1277.66 Z\" fill=\"#000000\" fill-rule=\"evenodd\" fill-opacity=\"1\" /><path clip-path=\"url(#clip910)\" d=\"M67.9133 994.303 Q71.2698 995.021 73.1448 997.289 Q75.0429 999.558 75.0429 1002.89 Q75.0429 1008.01 71.5244 1010.81 Q68.0059 1013.61 61.5245 1013.61 Q59.3486 1013.61 57.0338 1013.17 Q54.7421 1012.75 52.2884 1011.9 L52.2884 1007.38 Q54.2328 1008.52 56.5477 1009.09 Q58.8625 1009.67 61.3856 1009.67 Q65.7837 1009.67 68.0754 1007.94 Q70.3902 1006.2 70.3902 1002.89 Q70.3902 999.835 68.2374 998.122 Q66.1078 996.386 62.2884 996.386 L58.2606 996.386 L58.2606 992.544 L62.4735 992.544 Q65.9226 992.544 67.7513 991.178 Q69.58 989.789 69.58 987.197 Q69.58 984.535 67.6819 983.122 Q65.8069 981.687 62.2884 981.687 Q60.3671 981.687 58.168 982.104 Q55.969 982.521 53.3301 983.4 L53.3301 979.234 Q55.9921 978.493 58.3069 978.123 Q60.6449 977.752 62.705 977.752 Q68.0291 977.752 71.1309 980.183 Q74.2327 982.59 74.2327 986.71 Q74.2327 989.581 72.5892 991.572 Q70.9457 993.539 67.9133 994.303 Z\" fill=\"#000000\" fill-rule=\"evenodd\" fill-opacity=\"1\" /><path clip-path=\"url(#clip910)\" d=\"M83.9086 1007.06 L88.7928 1007.06 L88.7928 1012.94 L83.9086 1012.94 L83.9086 1007.06 Z\" fill=\"#000000\" fill-rule=\"evenodd\" fill-opacity=\"1\" /><path clip-path=\"url(#clip910)\" d=\"M108.978 981.456 Q105.367 981.456 103.538 985.021 Q101.733 988.562 101.733 995.692 Q101.733 1002.8 103.538 1006.36 Q105.367 1009.9 108.978 1009.9 Q112.612 1009.9 114.418 1006.36 Q116.246 1002.8 116.246 995.692 Q116.246 988.562 114.418 985.021 Q112.612 981.456 108.978 981.456 M108.978 977.752 Q114.788 977.752 117.844 982.359 Q120.922 986.942 120.922 995.692 Q120.922 1004.42 117.844 1009.03 Q114.788 1013.61 108.978 1013.61 Q103.168 1013.61 100.089 1009.03 Q97.0335 1004.42 97.0335 995.692 Q97.0335 986.942 100.089 982.359 Q103.168 977.752 108.978 977.752 Z\" fill=\"#000000\" fill-rule=\"evenodd\" fill-opacity=\"1\" /><path clip-path=\"url(#clip910)\" d=\"M157.311 987.474 L146.732 998.099 L157.311 1008.68 L154.556 1011.48 L143.931 1000.85 L133.306 1011.48 L130.575 1008.68 L141.131 998.099 L130.575 987.474 L133.306 984.673 L143.931 995.298 L154.556 984.673 L157.311 987.474 Z\" fill=\"#000000\" fill-rule=\"evenodd\" fill-opacity=\"1\" /><path clip-path=\"url(#clip910)\" d=\"M169.672 1009 L177.311 1009 L177.311 982.636 L169.001 984.303 L169.001 980.044 L177.265 978.377 L181.94 978.377 L181.94 1009 L189.579 1009 L189.579 1012.94 L169.672 1012.94 L169.672 1009 Z\" fill=\"#000000\" fill-rule=\"evenodd\" fill-opacity=\"1\" /><path clip-path=\"url(#clip910)\" d=\"M209.024 981.456 Q205.413 981.456 203.584 985.021 Q201.778 988.562 201.778 995.692 Q201.778 1002.8 203.584 1006.36 Q205.413 1009.9 209.024 1009.9 Q212.658 1009.9 214.463 1006.36 Q216.292 1002.8 216.292 995.692 Q216.292 988.562 214.463 985.021 Q212.658 981.456 209.024 981.456 M209.024 977.752 Q214.834 977.752 217.889 982.359 Q220.968 986.942 220.968 995.692 Q220.968 1004.42 217.889 1009.03 Q214.834 1013.61 209.024 1013.61 Q203.214 1013.61 200.135 1009.03 Q197.079 1004.42 197.079 995.692 Q197.079 986.942 200.135 982.359 Q203.214 977.752 209.024 977.752 Z\" fill=\"#000000\" fill-rule=\"evenodd\" fill-opacity=\"1\" /><path clip-path=\"url(#clip910)\" d=\"M230.993 969.973 Q228.435 969.973 226.93 971.722 Q225.444 973.471 225.444 976.518 Q225.444 979.546 226.93 981.314 Q228.435 983.063 230.993 983.063 Q233.55 983.063 235.036 981.314 Q236.541 979.546 236.541 976.518 Q236.541 973.471 235.036 971.722 Q233.55 969.973 230.993 969.973 M238.535 958.067 L238.535 961.528 Q237.105 960.851 235.638 960.494 Q234.19 960.136 232.761 960.136 Q228.999 960.136 227.005 962.675 Q225.031 965.214 224.748 970.349 Q225.858 968.713 227.532 967.847 Q229.206 966.963 231.218 966.963 Q235.45 966.963 237.895 969.54 Q240.359 972.098 240.359 976.518 Q240.359 980.844 237.801 983.458 Q235.243 986.072 230.993 986.072 Q226.121 986.072 223.545 982.348 Q220.968 978.605 220.968 971.515 Q220.968 964.857 224.128 960.907 Q227.287 956.939 232.61 956.939 Q234.039 956.939 235.488 957.221 Q236.955 957.503 238.535 958.067 Z\" fill=\"#000000\" fill-rule=\"evenodd\" fill-opacity=\"1\" /><path clip-path=\"url(#clip910)\" d=\"M66.5939 662.863 L54.7884 681.312 L66.5939 681.312 L66.5939 662.863 M65.367 658.789 L71.2466 658.789 L71.2466 681.312 L76.1772 681.312 L76.1772 685.201 L71.2466 685.201 L71.2466 693.349 L66.5939 693.349 L66.5939 685.201 L50.9921 685.201 L50.9921 680.687 L65.367 658.789 Z\" fill=\"#000000\" fill-rule=\"evenodd\" fill-opacity=\"1\" /><path clip-path=\"url(#clip910)\" d=\"M83.9086 687.469 L88.7928 687.469 L88.7928 693.349 L83.9086 693.349 L83.9086 687.469 Z\" fill=\"#000000\" fill-rule=\"evenodd\" fill-opacity=\"1\" /><path clip-path=\"url(#clip910)\" d=\"M108.978 661.868 Q105.367 661.868 103.538 665.432 Q101.733 668.974 101.733 676.104 Q101.733 683.21 103.538 686.775 Q105.367 690.317 108.978 690.317 Q112.612 690.317 114.418 686.775 Q116.246 683.21 116.246 676.104 Q116.246 668.974 114.418 665.432 Q112.612 661.868 108.978 661.868 M108.978 658.164 Q114.788 658.164 117.844 662.77 Q120.922 667.354 120.922 676.104 Q120.922 684.83 117.844 689.437 Q114.788 694.02 108.978 694.02 Q103.168 694.02 100.089 689.437 Q97.0335 684.83 97.0335 676.104 Q97.0335 667.354 100.089 662.77 Q103.168 658.164 108.978 658.164 Z\" fill=\"#000000\" fill-rule=\"evenodd\" fill-opacity=\"1\" /><path clip-path=\"url(#clip910)\" d=\"M157.311 667.886 L146.732 678.511 L157.311 689.09 L154.556 691.891 L143.931 681.266 L133.306 691.891 L130.575 689.09 L141.131 678.511 L130.575 667.886 L133.306 665.085 L143.931 675.71 L154.556 665.085 L157.311 667.886 Z\" fill=\"#000000\" fill-rule=\"evenodd\" fill-opacity=\"1\" /><path clip-path=\"url(#clip910)\" d=\"M169.672 689.414 L177.311 689.414 L177.311 663.048 L169.001 664.715 L169.001 660.456 L177.265 658.789 L181.94 658.789 L181.94 689.414 L189.579 689.414 L189.579 693.349 L169.672 693.349 L169.672 689.414 Z\" fill=\"#000000\" fill-rule=\"evenodd\" fill-opacity=\"1\" /><path clip-path=\"url(#clip910)\" d=\"M209.024 661.868 Q205.413 661.868 203.584 665.432 Q201.778 668.974 201.778 676.104 Q201.778 683.21 203.584 686.775 Q205.413 690.317 209.024 690.317 Q212.658 690.317 214.463 686.775 Q216.292 683.21 216.292 676.104 Q216.292 668.974 214.463 665.432 Q212.658 661.868 209.024 661.868 M209.024 658.164 Q214.834 658.164 217.889 662.77 Q220.968 667.354 220.968 676.104 Q220.968 684.83 217.889 689.437 Q214.834 694.02 209.024 694.02 Q203.214 694.02 200.135 689.437 Q197.079 684.83 197.079 676.104 Q197.079 667.354 200.135 662.77 Q203.214 658.164 209.024 658.164 Z\" fill=\"#000000\" fill-rule=\"evenodd\" fill-opacity=\"1\" /><path clip-path=\"url(#clip910)\" d=\"M230.993 650.385 Q228.435 650.385 226.93 652.134 Q225.444 653.883 225.444 656.93 Q225.444 659.958 226.93 661.726 Q228.435 663.475 230.993 663.475 Q233.55 663.475 235.036 661.726 Q236.541 659.958 236.541 656.93 Q236.541 653.883 235.036 652.134 Q233.55 650.385 230.993 650.385 M238.535 638.479 L238.535 641.94 Q237.105 641.263 235.638 640.905 Q234.19 640.548 232.761 640.548 Q228.999 640.548 227.005 643.087 Q225.031 645.626 224.748 650.761 Q225.858 649.124 227.532 648.259 Q229.206 647.375 231.218 647.375 Q235.45 647.375 237.895 649.952 Q240.359 652.51 240.359 656.93 Q240.359 661.255 237.801 663.87 Q235.243 666.484 230.993 666.484 Q226.121 666.484 223.545 662.76 Q220.968 659.017 220.968 651.927 Q220.968 645.269 224.128 641.319 Q227.287 637.351 232.61 637.351 Q234.039 637.351 235.488 637.633 Q236.955 637.915 238.535 638.479 Z\" fill=\"#000000\" fill-rule=\"evenodd\" fill-opacity=\"1\" /><path clip-path=\"url(#clip910)\" d=\"M53.793 339.201 L72.1494 339.201 L72.1494 343.136 L58.0754 343.136 L58.0754 351.608 Q59.0939 351.261 60.1124 351.099 Q61.131 350.914 62.1495 350.914 Q67.9365 350.914 71.3161 354.085 Q74.6957 357.256 74.6957 362.673 Q74.6957 368.252 71.2235 371.353 Q67.7513 374.432 61.4319 374.432 Q59.256 374.432 56.9875 374.062 Q54.7421 373.691 52.3347 372.951 L52.3347 368.252 Q54.418 369.386 56.6402 369.941 Q58.8625 370.497 61.3393 370.497 Q65.3439 370.497 67.6819 368.39 Q70.0198 366.284 70.0198 362.673 Q70.0198 359.062 67.6819 356.955 Q65.3439 354.849 61.3393 354.849 Q59.4643 354.849 57.5893 355.265 Q55.7375 355.682 53.793 356.562 L53.793 339.201 Z\" fill=\"#000000\" fill-rule=\"evenodd\" fill-opacity=\"1\" /><path clip-path=\"url(#clip910)\" d=\"M83.9086 367.881 L88.7928 367.881 L88.7928 373.761 L83.9086 373.761 L83.9086 367.881 Z\" fill=\"#000000\" fill-rule=\"evenodd\" fill-opacity=\"1\" /><path clip-path=\"url(#clip910)\" d=\"M108.978 342.279 Q105.367 342.279 103.538 345.844 Q101.733 349.386 101.733 356.515 Q101.733 363.622 103.538 367.187 Q105.367 370.728 108.978 370.728 Q112.612 370.728 114.418 367.187 Q116.246 363.622 116.246 356.515 Q116.246 349.386 114.418 345.844 Q112.612 342.279 108.978 342.279 M108.978 338.576 Q114.788 338.576 117.844 343.182 Q120.922 347.766 120.922 356.515 Q120.922 365.242 117.844 369.849 Q114.788 374.432 108.978 374.432 Q103.168 374.432 100.089 369.849 Q97.0335 365.242 97.0335 356.515 Q97.0335 347.766 100.089 343.182 Q103.168 338.576 108.978 338.576 Z\" fill=\"#000000\" fill-rule=\"evenodd\" fill-opacity=\"1\" /><path clip-path=\"url(#clip910)\" d=\"M157.311 348.298 L146.732 358.923 L157.311 369.502 L154.556 372.302 L143.931 361.677 L133.306 372.302 L130.575 369.502 L141.131 358.923 L130.575 348.298 L133.306 345.497 L143.931 356.122 L154.556 345.497 L157.311 348.298 Z\" fill=\"#000000\" fill-rule=\"evenodd\" fill-opacity=\"1\" /><path clip-path=\"url(#clip910)\" d=\"M169.672 369.826 L177.311 369.826 L177.311 343.46 L169.001 345.127 L169.001 340.867 L177.265 339.201 L181.94 339.201 L181.94 369.826 L189.579 369.826 L189.579 373.761 L169.672 373.761 L169.672 369.826 Z\" fill=\"#000000\" fill-rule=\"evenodd\" fill-opacity=\"1\" /><path clip-path=\"url(#clip910)\" d=\"M209.024 342.279 Q205.413 342.279 203.584 345.844 Q201.778 349.386 201.778 356.515 Q201.778 363.622 203.584 367.187 Q205.413 370.728 209.024 370.728 Q212.658 370.728 214.463 367.187 Q216.292 363.622 216.292 356.515 Q216.292 349.386 214.463 345.844 Q212.658 342.279 209.024 342.279 M209.024 338.576 Q214.834 338.576 217.889 343.182 Q220.968 347.766 220.968 356.515 Q220.968 365.242 217.889 369.849 Q214.834 374.432 209.024 374.432 Q203.214 374.432 200.135 369.849 Q197.079 365.242 197.079 356.515 Q197.079 347.766 200.135 343.182 Q203.214 338.576 209.024 338.576 Z\" fill=\"#000000\" fill-rule=\"evenodd\" fill-opacity=\"1\" /><path clip-path=\"url(#clip910)\" d=\"M230.993 330.796 Q228.435 330.796 226.93 332.545 Q225.444 334.295 225.444 337.341 Q225.444 340.369 226.93 342.137 Q228.435 343.887 230.993 343.887 Q233.55 343.887 235.036 342.137 Q236.541 340.369 236.541 337.341 Q236.541 334.295 235.036 332.545 Q233.55 330.796 230.993 330.796 M238.535 318.891 L238.535 322.352 Q237.105 321.675 235.638 321.317 Q234.19 320.96 232.761 320.96 Q228.999 320.96 227.005 323.499 Q225.031 326.038 224.748 331.172 Q225.858 329.536 227.532 328.671 Q229.206 327.787 231.218 327.787 Q235.45 327.787 237.895 330.364 Q240.359 332.922 240.359 337.341 Q240.359 341.667 237.801 344.282 Q235.243 346.896 230.993 346.896 Q226.121 346.896 223.545 343.172 Q220.968 339.429 220.968 332.339 Q220.968 325.681 224.128 321.731 Q227.287 317.763 232.61 317.763 Q234.039 317.763 235.488 318.045 Q236.955 318.327 238.535 318.891 Z\" fill=\"#000000\" fill-rule=\"evenodd\" fill-opacity=\"1\" /><polyline clip-path=\"url(#clip912)\" style=\"stroke:#009af9; stroke-linecap:butt; stroke-linejoin:round; stroke-width:6; stroke-opacity:1; fill:none\" points=\"\n  335.125,1445.72 363.012,1423.54 391.206,1412.76 419.4,1394.77 446.981,1382.68 474.869,1371.51 503.063,1349.15 531.257,1334.87 558.838,1321.53 586.725,1293.29 \n  614.919,1270.44 643.113,1234.96 670.694,1222.3 698.581,1196.67 726.775,1175.85 754.969,1161.02 782.857,1126.7 810.744,1106.45 838.938,1077.7 867.132,1093.55 \n  894.713,1071.5 922.6,1074.65 950.794,1051.34 978.988,1035.9 1006.57,1009.58 1034.46,985.997 1062.65,972.224 1090.84,963.28 1118.43,930.678 1146.31,908.892 \n  1174.51,882.842 1202.7,848.666 1230.59,830.557 1258.48,801.706 1286.67,779.915 1314.86,761.155 1342.44,728.253 1370.33,690.835 1398.53,663.494 1426.72,659.17 \n  1454.3,627.509 1482.19,612.58 1510.38,598.193 1538.58,589.886 1566.16,548.415 1594.05,539.634 1622.24,507.541 1650.43,471.54 1678.32,455.53 1706.21,446.96 \n  1734.4,419.451 1762.6,413.002 1790.18,380.653 1818.06,355.578 1846.26,335.296 1874.45,302.931 1902.03,288.168 1929.92,266.635 1958.11,214.9 1986.31,205.401 \n  2013.89,217.21 2041.78,157.092 2069.97,145.093 2098.16,145.561 2126.05,167.262 2153.94,424.71 2182.13,284.53 2210.33,170.119 2237.91,147.378 2265.8,147.797 \n  2293.99,87.9763 \n  \"/>\n</svg>\n"
     },
     "execution_count": 21,
     "metadata": {},
     "output_type": "execute_result"
    }
   ],
   "source": [
    "date_sa = sa_data[!, :date]\n",
    "plot(date_sa, gdp_1, legend = false, lw = 1.5)"
   ]
  },
  {
   "cell_type": "markdown",
   "metadata": {},
   "source": [
    "# Statistics"
   ]
  },
  {
   "cell_type": "markdown",
   "metadata": {},
   "source": [
    "Statistics and data are inextricably linked. If you are working with data you MUST have some type of background in statistics. In this section we will cover some of the relevant topics for macroeconomists. You would have already covered basic ideas in econometrics and statistics with Marisa, so this is the natural evolution from that section. "
   ]
  },
  {
   "cell_type": "markdown",
   "metadata": {},
   "source": [
    "## Descriptive statistics"
   ]
  },
  {
   "cell_type": "markdown",
   "metadata": {},
   "source": [
    "Some of the most widely used statistics are the mean (average) and standard deviation. They can be easily computed with the computer as follows,  "
   ]
  },
  {
   "cell_type": "code",
   "execution_count": 24,
   "metadata": {},
   "outputs": [
    {
     "data": {
      "text/plain": [
       "4.830130044713535"
      ]
     },
     "execution_count": 24,
     "metadata": {},
     "output_type": "execute_result"
    }
   ],
   "source": [
    "inflation_1 = sa_data[!, :inflation] # select the inflation column\n",
    "mean(inflation_1) # mean value of inflation"
   ]
  },
  {
   "cell_type": "code",
   "execution_count": 25,
   "metadata": {},
   "outputs": [
    {
     "data": {
      "text/plain": [
       "2.3122543025163282"
      ]
     },
     "execution_count": 25,
     "metadata": {},
     "output_type": "execute_result"
    }
   ],
   "source": [
    "std(inflation_1) # standard deviation of inflation"
   ]
  },
  {
   "cell_type": "markdown",
   "metadata": {},
   "source": [
    "Let us plot a histogram for the data and also indicate where the mean is in this plot. "
   ]
  },
  {
   "cell_type": "code",
   "execution_count": 60,
   "metadata": {},
   "outputs": [
    {
     "data": {
      "image/svg+xml": "<?xml version=\"1.0\" encoding=\"utf-8\"?>\n<svg xmlns=\"http://www.w3.org/2000/svg\" xmlns:xlink=\"http://www.w3.org/1999/xlink\" width=\"600\" height=\"400\" viewBox=\"0 0 2400 1600\">\n<defs>\n  <clipPath id=\"clip070\">\n    <rect x=\"0\" y=\"0\" width=\"2400\" height=\"1600\"/>\n  </clipPath>\n</defs>\n<path clip-path=\"url(#clip070)\" d=\"\nM0 1600 L2400 1600 L2400 0 L0 0  Z\n  \" fill=\"#ffffff\" fill-rule=\"evenodd\" fill-opacity=\"1\"/>\n<defs>\n  <clipPath id=\"clip071\">\n    <rect x=\"480\" y=\"0\" width=\"1681\" height=\"1600\"/>\n  </clipPath>\n</defs>\n<path clip-path=\"url(#clip070)\" d=\"\nM138.959 1486.45 L2352.76 1486.45 L2352.76 47.2441 L138.959 47.2441  Z\n  \" fill=\"#ffffff\" fill-rule=\"evenodd\" fill-opacity=\"1\"/>\n<defs>\n  <clipPath id=\"clip072\">\n    <rect x=\"138\" y=\"47\" width=\"2215\" height=\"1440\"/>\n  </clipPath>\n</defs>\n<polyline clip-path=\"url(#clip072)\" style=\"stroke:#000000; stroke-linecap:butt; stroke-linejoin:round; stroke-width:2; stroke-opacity:0.1; fill:none\" points=\"\n  392.074,1486.45 392.074,47.2441 \n  \"/>\n<polyline clip-path=\"url(#clip072)\" style=\"stroke:#000000; stroke-linecap:butt; stroke-linejoin:round; stroke-width:2; stroke-opacity:0.1; fill:none\" points=\"\n  654.776,1486.45 654.776,47.2441 \n  \"/>\n<polyline clip-path=\"url(#clip072)\" style=\"stroke:#000000; stroke-linecap:butt; stroke-linejoin:round; stroke-width:2; stroke-opacity:0.1; fill:none\" points=\"\n  917.479,1486.45 917.479,47.2441 \n  \"/>\n<polyline clip-path=\"url(#clip072)\" style=\"stroke:#000000; stroke-linecap:butt; stroke-linejoin:round; stroke-width:2; stroke-opacity:0.1; fill:none\" points=\"\n  1180.18,1486.45 1180.18,47.2441 \n  \"/>\n<polyline clip-path=\"url(#clip072)\" style=\"stroke:#000000; stroke-linecap:butt; stroke-linejoin:round; stroke-width:2; stroke-opacity:0.1; fill:none\" points=\"\n  1442.88,1486.45 1442.88,47.2441 \n  \"/>\n<polyline clip-path=\"url(#clip072)\" style=\"stroke:#000000; stroke-linecap:butt; stroke-linejoin:round; stroke-width:2; stroke-opacity:0.1; fill:none\" points=\"\n  1705.59,1486.45 1705.59,47.2441 \n  \"/>\n<polyline clip-path=\"url(#clip072)\" style=\"stroke:#000000; stroke-linecap:butt; stroke-linejoin:round; stroke-width:2; stroke-opacity:0.1; fill:none\" points=\"\n  1968.29,1486.45 1968.29,47.2441 \n  \"/>\n<polyline clip-path=\"url(#clip072)\" style=\"stroke:#000000; stroke-linecap:butt; stroke-linejoin:round; stroke-width:2; stroke-opacity:0.1; fill:none\" points=\"\n  2230.99,1486.45 2230.99,47.2441 \n  \"/>\n<polyline clip-path=\"url(#clip070)\" style=\"stroke:#000000; stroke-linecap:butt; stroke-linejoin:round; stroke-width:4; stroke-opacity:1; fill:none\" points=\"\n  138.959,1486.45 2352.76,1486.45 \n  \"/>\n<polyline clip-path=\"url(#clip070)\" style=\"stroke:#000000; stroke-linecap:butt; stroke-linejoin:round; stroke-width:4; stroke-opacity:1; fill:none\" points=\"\n  392.074,1486.45 392.074,1467.55 \n  \"/>\n<polyline clip-path=\"url(#clip070)\" style=\"stroke:#000000; stroke-linecap:butt; stroke-linejoin:round; stroke-width:4; stroke-opacity:1; fill:none\" points=\"\n  654.776,1486.45 654.776,1467.55 \n  \"/>\n<polyline clip-path=\"url(#clip070)\" style=\"stroke:#000000; stroke-linecap:butt; stroke-linejoin:round; stroke-width:4; stroke-opacity:1; fill:none\" points=\"\n  917.479,1486.45 917.479,1467.55 \n  \"/>\n<polyline clip-path=\"url(#clip070)\" style=\"stroke:#000000; stroke-linecap:butt; stroke-linejoin:round; stroke-width:4; stroke-opacity:1; fill:none\" points=\"\n  1180.18,1486.45 1180.18,1467.55 \n  \"/>\n<polyline clip-path=\"url(#clip070)\" style=\"stroke:#000000; stroke-linecap:butt; stroke-linejoin:round; stroke-width:4; stroke-opacity:1; fill:none\" points=\"\n  1442.88,1486.45 1442.88,1467.55 \n  \"/>\n<polyline clip-path=\"url(#clip070)\" style=\"stroke:#000000; stroke-linecap:butt; stroke-linejoin:round; stroke-width:4; stroke-opacity:1; fill:none\" points=\"\n  1705.59,1486.45 1705.59,1467.55 \n  \"/>\n<polyline clip-path=\"url(#clip070)\" style=\"stroke:#000000; stroke-linecap:butt; stroke-linejoin:round; stroke-width:4; stroke-opacity:1; fill:none\" points=\"\n  1968.29,1486.45 1968.29,1467.55 \n  \"/>\n<polyline clip-path=\"url(#clip070)\" style=\"stroke:#000000; stroke-linecap:butt; stroke-linejoin:round; stroke-width:4; stroke-opacity:1; fill:none\" points=\"\n  2230.99,1486.45 2230.99,1467.55 \n  \"/>\n<path clip-path=\"url(#clip070)\" d=\"M362.016 1532.02 L391.692 1532.02 L391.692 1535.95 L362.016 1535.95 L362.016 1532.02 Z\" fill=\"#000000\" fill-rule=\"evenodd\" fill-opacity=\"1\" /><path clip-path=\"url(#clip070)\" d=\"M405.812 1544.91 L422.131 1544.91 L422.131 1548.85 L400.187 1548.85 L400.187 1544.91 Q402.849 1542.16 407.432 1537.53 Q412.039 1532.88 413.219 1531.53 Q415.465 1529.01 416.344 1527.27 Q417.247 1525.51 417.247 1523.82 Q417.247 1521.07 415.303 1519.33 Q413.381 1517.6 410.28 1517.6 Q408.08 1517.6 405.627 1518.36 Q403.196 1519.13 400.418 1520.68 L400.418 1515.95 Q403.243 1514.82 405.696 1514.24 Q408.15 1513.66 410.187 1513.66 Q415.557 1513.66 418.752 1516.35 Q421.946 1519.03 421.946 1523.52 Q421.946 1525.65 421.136 1527.57 Q420.349 1529.47 418.242 1532.07 Q417.664 1532.74 414.562 1535.95 Q411.46 1539.15 405.812 1544.91 Z\" fill=\"#000000\" fill-rule=\"evenodd\" fill-opacity=\"1\" /><path clip-path=\"url(#clip070)\" d=\"M654.776 1517.37 Q651.165 1517.37 649.337 1520.93 Q647.531 1524.47 647.531 1531.6 Q647.531 1538.71 649.337 1542.27 Q651.165 1545.82 654.776 1545.82 Q658.411 1545.82 660.216 1542.27 Q662.045 1538.71 662.045 1531.6 Q662.045 1524.47 660.216 1520.93 Q658.411 1517.37 654.776 1517.37 M654.776 1513.66 Q660.587 1513.66 663.642 1518.27 Q666.721 1522.85 666.721 1531.6 Q666.721 1540.33 663.642 1544.94 Q660.587 1549.52 654.776 1549.52 Q648.966 1549.52 645.888 1544.94 Q642.832 1540.33 642.832 1531.6 Q642.832 1522.85 645.888 1518.27 Q648.966 1513.66 654.776 1513.66 Z\" fill=\"#000000\" fill-rule=\"evenodd\" fill-opacity=\"1\" /><path clip-path=\"url(#clip070)\" d=\"M912.132 1544.91 L928.451 1544.91 L928.451 1548.85 L906.507 1548.85 L906.507 1544.91 Q909.169 1542.16 913.752 1537.53 Q918.359 1532.88 919.539 1531.53 Q921.785 1529.01 922.664 1527.27 Q923.567 1525.51 923.567 1523.82 Q923.567 1521.07 921.623 1519.33 Q919.701 1517.6 916.6 1517.6 Q914.4 1517.6 911.947 1518.36 Q909.516 1519.13 906.738 1520.68 L906.738 1515.95 Q909.563 1514.82 912.016 1514.24 Q914.47 1513.66 916.507 1513.66 Q921.877 1513.66 925.072 1516.35 Q928.266 1519.03 928.266 1523.52 Q928.266 1525.65 927.456 1527.57 Q926.669 1529.47 924.562 1532.07 Q923.984 1532.74 920.882 1535.95 Q917.78 1539.15 912.132 1544.91 Z\" fill=\"#000000\" fill-rule=\"evenodd\" fill-opacity=\"1\" /><path clip-path=\"url(#clip070)\" d=\"M1183.19 1518.36 L1171.39 1536.81 L1183.19 1536.81 L1183.19 1518.36 M1181.96 1514.29 L1187.84 1514.29 L1187.84 1536.81 L1192.77 1536.81 L1192.77 1540.7 L1187.84 1540.7 L1187.84 1548.85 L1183.19 1548.85 L1183.19 1540.7 L1167.59 1540.7 L1167.59 1536.19 L1181.96 1514.29 Z\" fill=\"#000000\" fill-rule=\"evenodd\" fill-opacity=\"1\" /><path clip-path=\"url(#clip070)\" d=\"M1443.29 1529.7 Q1440.14 1529.7 1438.29 1531.86 Q1436.46 1534.01 1436.46 1537.76 Q1436.46 1541.49 1438.29 1543.66 Q1440.14 1545.82 1443.29 1545.82 Q1446.44 1545.82 1448.27 1543.66 Q1450.12 1541.49 1450.12 1537.76 Q1450.12 1534.01 1448.27 1531.86 Q1446.44 1529.7 1443.29 1529.7 M1452.57 1515.05 L1452.57 1519.31 Q1450.81 1518.48 1449.01 1518.04 Q1447.23 1517.6 1445.47 1517.6 Q1440.84 1517.6 1438.38 1520.72 Q1435.95 1523.85 1435.6 1530.17 Q1436.97 1528.15 1439.03 1527.09 Q1441.09 1526 1443.57 1526 Q1448.78 1526 1451.79 1529.17 Q1454.82 1532.32 1454.82 1537.76 Q1454.82 1543.08 1451.67 1546.3 Q1448.52 1549.52 1443.29 1549.52 Q1437.29 1549.52 1434.12 1544.94 Q1430.95 1540.33 1430.95 1531.6 Q1430.95 1523.41 1434.84 1518.55 Q1438.73 1513.66 1445.28 1513.66 Q1447.04 1513.66 1448.82 1514.01 Q1450.63 1514.36 1452.57 1515.05 Z\" fill=\"#000000\" fill-rule=\"evenodd\" fill-opacity=\"1\" /><path clip-path=\"url(#clip070)\" d=\"M1705.59 1532.44 Q1702.25 1532.44 1700.33 1534.22 Q1698.43 1536 1698.43 1539.13 Q1698.43 1542.25 1700.33 1544.03 Q1702.25 1545.82 1705.59 1545.82 Q1708.92 1545.82 1710.84 1544.03 Q1712.76 1542.23 1712.76 1539.13 Q1712.76 1536 1710.84 1534.22 Q1708.94 1532.44 1705.59 1532.44 M1700.91 1530.45 Q1697.9 1529.7 1696.21 1527.64 Q1694.55 1525.58 1694.55 1522.62 Q1694.55 1518.48 1697.49 1516.07 Q1700.45 1513.66 1705.59 1513.66 Q1710.75 1513.66 1713.69 1516.07 Q1716.63 1518.48 1716.63 1522.62 Q1716.63 1525.58 1714.94 1527.64 Q1713.27 1529.7 1710.29 1530.45 Q1713.67 1531.23 1715.54 1533.52 Q1717.44 1535.82 1717.44 1539.13 Q1717.44 1544.15 1714.36 1546.83 Q1711.31 1549.52 1705.59 1549.52 Q1699.87 1549.52 1696.79 1546.83 Q1693.74 1544.15 1693.74 1539.13 Q1693.74 1535.82 1695.63 1533.52 Q1697.53 1531.23 1700.91 1530.45 M1699.2 1523.06 Q1699.2 1525.75 1700.87 1527.25 Q1702.56 1528.76 1705.59 1528.76 Q1708.6 1528.76 1710.29 1527.25 Q1712 1525.75 1712 1523.06 Q1712 1520.38 1710.29 1518.87 Q1708.6 1517.37 1705.59 1517.37 Q1702.56 1517.37 1700.87 1518.87 Q1699.2 1520.38 1699.2 1523.06 Z\" fill=\"#000000\" fill-rule=\"evenodd\" fill-opacity=\"1\" /><path clip-path=\"url(#clip070)\" d=\"M1942.98 1544.91 L1950.62 1544.91 L1950.62 1518.55 L1942.31 1520.21 L1942.31 1515.95 L1950.57 1514.29 L1955.25 1514.29 L1955.25 1544.91 L1962.89 1544.91 L1962.89 1548.85 L1942.98 1548.85 L1942.98 1544.91 Z\" fill=\"#000000\" fill-rule=\"evenodd\" fill-opacity=\"1\" /><path clip-path=\"url(#clip070)\" d=\"M1982.33 1517.37 Q1978.72 1517.37 1976.89 1520.93 Q1975.08 1524.47 1975.08 1531.6 Q1975.08 1538.71 1976.89 1542.27 Q1978.72 1545.82 1982.33 1545.82 Q1985.96 1545.82 1987.77 1542.27 Q1989.6 1538.71 1989.6 1531.6 Q1989.6 1524.47 1987.77 1520.93 Q1985.96 1517.37 1982.33 1517.37 M1982.33 1513.66 Q1988.14 1513.66 1991.2 1518.27 Q1994.27 1522.85 1994.27 1531.6 Q1994.27 1540.33 1991.2 1544.94 Q1988.14 1549.52 1982.33 1549.52 Q1976.52 1549.52 1973.44 1544.94 Q1970.39 1540.33 1970.39 1531.6 Q1970.39 1522.85 1973.44 1518.27 Q1976.52 1513.66 1982.33 1513.66 Z\" fill=\"#000000\" fill-rule=\"evenodd\" fill-opacity=\"1\" /><path clip-path=\"url(#clip070)\" d=\"M2206.48 1544.91 L2214.12 1544.91 L2214.12 1518.55 L2205.81 1520.21 L2205.81 1515.95 L2214.07 1514.29 L2218.75 1514.29 L2218.75 1544.91 L2226.39 1544.91 L2226.39 1548.85 L2206.48 1548.85 L2206.48 1544.91 Z\" fill=\"#000000\" fill-rule=\"evenodd\" fill-opacity=\"1\" /><path clip-path=\"url(#clip070)\" d=\"M2239.86 1544.91 L2256.18 1544.91 L2256.18 1548.85 L2234.23 1548.85 L2234.23 1544.91 Q2236.9 1542.16 2241.48 1537.53 Q2246.09 1532.88 2247.27 1531.53 Q2249.51 1529.01 2250.39 1527.27 Q2251.29 1525.51 2251.29 1523.82 Q2251.29 1521.07 2249.35 1519.33 Q2247.43 1517.6 2244.33 1517.6 Q2242.13 1517.6 2239.67 1518.36 Q2237.24 1519.13 2234.47 1520.68 L2234.47 1515.95 Q2237.29 1514.82 2239.74 1514.24 Q2242.2 1513.66 2244.23 1513.66 Q2249.6 1513.66 2252.8 1516.35 Q2255.99 1519.03 2255.99 1523.52 Q2255.99 1525.65 2255.18 1527.57 Q2254.4 1529.47 2252.29 1532.07 Q2251.71 1532.74 2248.61 1535.95 Q2245.51 1539.15 2239.86 1544.91 Z\" fill=\"#000000\" fill-rule=\"evenodd\" fill-opacity=\"1\" /><polyline clip-path=\"url(#clip072)\" style=\"stroke:#000000; stroke-linecap:butt; stroke-linejoin:round; stroke-width:2; stroke-opacity:0.1; fill:none\" points=\"\n  138.959,1445.72 2352.76,1445.72 \n  \"/>\n<polyline clip-path=\"url(#clip072)\" style=\"stroke:#000000; stroke-linecap:butt; stroke-linejoin:round; stroke-width:2; stroke-opacity:0.1; fill:none\" points=\"\n  138.959,1088.42 2352.76,1088.42 \n  \"/>\n<polyline clip-path=\"url(#clip072)\" style=\"stroke:#000000; stroke-linecap:butt; stroke-linejoin:round; stroke-width:2; stroke-opacity:0.1; fill:none\" points=\"\n  138.959,731.116 2352.76,731.116 \n  \"/>\n<polyline clip-path=\"url(#clip072)\" style=\"stroke:#000000; stroke-linecap:butt; stroke-linejoin:round; stroke-width:2; stroke-opacity:0.1; fill:none\" points=\"\n  138.959,373.816 2352.76,373.816 \n  \"/>\n<polyline clip-path=\"url(#clip070)\" style=\"stroke:#000000; stroke-linecap:butt; stroke-linejoin:round; stroke-width:4; stroke-opacity:1; fill:none\" points=\"\n  138.959,1486.45 138.959,47.2441 \n  \"/>\n<polyline clip-path=\"url(#clip070)\" style=\"stroke:#000000; stroke-linecap:butt; stroke-linejoin:round; stroke-width:4; stroke-opacity:1; fill:none\" points=\"\n  138.959,1445.72 157.857,1445.72 \n  \"/>\n<polyline clip-path=\"url(#clip070)\" style=\"stroke:#000000; stroke-linecap:butt; stroke-linejoin:round; stroke-width:4; stroke-opacity:1; fill:none\" points=\"\n  138.959,1088.42 157.857,1088.42 \n  \"/>\n<polyline clip-path=\"url(#clip070)\" style=\"stroke:#000000; stroke-linecap:butt; stroke-linejoin:round; stroke-width:4; stroke-opacity:1; fill:none\" points=\"\n  138.959,731.116 157.857,731.116 \n  \"/>\n<polyline clip-path=\"url(#clip070)\" style=\"stroke:#000000; stroke-linecap:butt; stroke-linejoin:round; stroke-width:4; stroke-opacity:1; fill:none\" points=\"\n  138.959,373.816 157.857,373.816 \n  \"/>\n<path clip-path=\"url(#clip070)\" d=\"M91.0151 1431.51 Q87.404 1431.51 85.5753 1435.08 Q83.7697 1438.62 83.7697 1445.75 Q83.7697 1452.86 85.5753 1456.42 Q87.404 1459.96 91.0151 1459.96 Q94.6493 1459.96 96.4548 1456.42 Q98.2835 1452.86 98.2835 1445.75 Q98.2835 1438.62 96.4548 1435.08 Q94.6493 1431.51 91.0151 1431.51 M91.0151 1427.81 Q96.8252 1427.81 99.8808 1432.42 Q102.959 1437 102.959 1445.75 Q102.959 1454.48 99.8808 1459.08 Q96.8252 1463.67 91.0151 1463.67 Q85.2049 1463.67 82.1262 1459.08 Q79.0707 1454.48 79.0707 1445.75 Q79.0707 1437 82.1262 1432.42 Q85.2049 1427.81 91.0151 1427.81 Z\" fill=\"#000000\" fill-rule=\"evenodd\" fill-opacity=\"1\" /><path clip-path=\"url(#clip070)\" d=\"M82.0568 1071.14 L100.413 1071.14 L100.413 1075.07 L86.3392 1075.07 L86.3392 1083.54 Q87.3577 1083.2 88.3762 1083.03 Q89.3947 1082.85 90.4132 1082.85 Q96.2002 1082.85 99.5798 1086.02 Q102.959 1089.19 102.959 1094.61 Q102.959 1100.19 99.4872 1103.29 Q96.015 1106.37 89.6956 1106.37 Q87.5197 1106.37 85.2512 1106 Q83.0058 1105.63 80.5984 1104.89 L80.5984 1100.19 Q82.6818 1101.32 84.904 1101.88 Q87.1262 1102.43 89.603 1102.43 Q93.6076 1102.43 95.9456 1100.33 Q98.2835 1098.22 98.2835 1094.61 Q98.2835 1091 95.9456 1088.89 Q93.6076 1086.78 89.603 1086.78 Q87.728 1086.78 85.8531 1087.2 Q84.0012 1087.62 82.0568 1088.5 L82.0568 1071.14 Z\" fill=\"#000000\" fill-rule=\"evenodd\" fill-opacity=\"1\" /><path clip-path=\"url(#clip070)\" d=\"M51.6634 744.461 L59.3023 744.461 L59.3023 718.095 L50.9921 719.762 L50.9921 715.503 L59.256 713.836 L63.9319 713.836 L63.9319 744.461 L71.5707 744.461 L71.5707 748.396 L51.6634 748.396 L51.6634 744.461 Z\" fill=\"#000000\" fill-rule=\"evenodd\" fill-opacity=\"1\" /><path clip-path=\"url(#clip070)\" d=\"M91.0151 716.915 Q87.404 716.915 85.5753 720.479 Q83.7697 724.021 83.7697 731.151 Q83.7697 738.257 85.5753 741.822 Q87.404 745.364 91.0151 745.364 Q94.6493 745.364 96.4548 741.822 Q98.2835 738.257 98.2835 731.151 Q98.2835 724.021 96.4548 720.479 Q94.6493 716.915 91.0151 716.915 M91.0151 713.211 Q96.8252 713.211 99.8808 717.817 Q102.959 722.401 102.959 731.151 Q102.959 739.878 99.8808 744.484 Q96.8252 749.067 91.0151 749.067 Q85.2049 749.067 82.1262 744.484 Q79.0707 739.878 79.0707 731.151 Q79.0707 722.401 82.1262 717.817 Q85.2049 713.211 91.0151 713.211 Z\" fill=\"#000000\" fill-rule=\"evenodd\" fill-opacity=\"1\" /><path clip-path=\"url(#clip070)\" d=\"M52.6588 387.161 L60.2976 387.161 L60.2976 360.795 L51.9875 362.462 L51.9875 358.203 L60.2513 356.536 L64.9272 356.536 L64.9272 387.161 L72.5661 387.161 L72.5661 391.096 L52.6588 391.096 L52.6588 387.161 Z\" fill=\"#000000\" fill-rule=\"evenodd\" fill-opacity=\"1\" /><path clip-path=\"url(#clip070)\" d=\"M82.0568 356.536 L100.413 356.536 L100.413 360.471 L86.3392 360.471 L86.3392 368.943 Q87.3577 368.596 88.3762 368.434 Q89.3947 368.249 90.4132 368.249 Q96.2002 368.249 99.5798 371.42 Q102.959 374.592 102.959 380.008 Q102.959 385.587 99.4872 388.689 Q96.015 391.767 89.6956 391.767 Q87.5197 391.767 85.2512 391.397 Q83.0058 391.027 80.5984 390.286 L80.5984 385.587 Q82.6818 386.721 84.904 387.277 Q87.1262 387.832 89.603 387.832 Q93.6076 387.832 95.9456 385.726 Q98.2835 383.619 98.2835 380.008 Q98.2835 376.397 95.9456 374.291 Q93.6076 372.184 89.603 372.184 Q87.728 372.184 85.8531 372.601 Q84.0012 373.018 82.0568 373.897 L82.0568 356.536 Z\" fill=\"#000000\" fill-rule=\"evenodd\" fill-opacity=\"1\" /><path clip-path=\"url(#clip072)\" d=\"\nM260.722 1302.8 L260.722 1445.72 L392.074 1445.72 L392.074 1302.8 L260.722 1302.8 L260.722 1302.8  Z\n  \" fill=\"#009af9\" fill-rule=\"evenodd\" fill-opacity=\"0.5\"/>\n<polyline clip-path=\"url(#clip072)\" style=\"stroke:#000000; stroke-linecap:butt; stroke-linejoin:round; stroke-width:4; stroke-opacity:0.5; fill:none\" points=\"\n  260.722,1302.8 260.722,1445.72 392.074,1445.72 392.074,1302.8 260.722,1302.8 \n  \"/>\n<path clip-path=\"url(#clip072)\" d=\"\nM392.074 1374.26 L392.074 1445.72 L523.425 1445.72 L523.425 1374.26 L392.074 1374.26 L392.074 1374.26  Z\n  \" fill=\"#009af9\" fill-rule=\"evenodd\" fill-opacity=\"0.5\"/>\n<polyline clip-path=\"url(#clip072)\" style=\"stroke:#000000; stroke-linecap:butt; stroke-linejoin:round; stroke-width:4; stroke-opacity:0.5; fill:none\" points=\"\n  392.074,1374.26 392.074,1445.72 523.425,1445.72 523.425,1374.26 392.074,1374.26 \n  \"/>\n<path clip-path=\"url(#clip072)\" d=\"\nM523.425 1445.72 L523.425 1445.72 L654.776 1445.72 L654.776 1445.72 L523.425 1445.72 L523.425 1445.72  Z\n  \" fill=\"#009af9\" fill-rule=\"evenodd\" fill-opacity=\"0.5\"/>\n<polyline clip-path=\"url(#clip072)\" style=\"stroke:#000000; stroke-linecap:butt; stroke-linejoin:round; stroke-width:4; stroke-opacity:0.5; fill:none\" points=\"\n  523.425,1445.72 523.425,1445.72 654.776,1445.72 523.425,1445.72 \n  \"/>\n<path clip-path=\"url(#clip072)\" d=\"\nM654.776 1445.72 L654.776 1445.72 L786.128 1445.72 L786.128 1445.72 L654.776 1445.72 L654.776 1445.72  Z\n  \" fill=\"#009af9\" fill-rule=\"evenodd\" fill-opacity=\"0.5\"/>\n<polyline clip-path=\"url(#clip072)\" style=\"stroke:#000000; stroke-linecap:butt; stroke-linejoin:round; stroke-width:4; stroke-opacity:0.5; fill:none\" points=\"\n  654.776,1445.72 654.776,1445.72 786.128,1445.72 654.776,1445.72 \n  \"/>\n<path clip-path=\"url(#clip072)\" d=\"\nM786.128 1231.34 L786.128 1445.72 L917.479 1445.72 L917.479 1231.34 L786.128 1231.34 L786.128 1231.34  Z\n  \" fill=\"#009af9\" fill-rule=\"evenodd\" fill-opacity=\"0.5\"/>\n<polyline clip-path=\"url(#clip072)\" style=\"stroke:#000000; stroke-linecap:butt; stroke-linejoin:round; stroke-width:4; stroke-opacity:0.5; fill:none\" points=\"\n  786.128,1231.34 786.128,1445.72 917.479,1445.72 917.479,1231.34 786.128,1231.34 \n  \"/>\n<path clip-path=\"url(#clip072)\" d=\"\nM917.479 1088.42 L917.479 1445.72 L1048.83 1445.72 L1048.83 1088.42 L917.479 1088.42 L917.479 1088.42  Z\n  \" fill=\"#009af9\" fill-rule=\"evenodd\" fill-opacity=\"0.5\"/>\n<polyline clip-path=\"url(#clip072)\" style=\"stroke:#000000; stroke-linecap:butt; stroke-linejoin:round; stroke-width:4; stroke-opacity:0.5; fill:none\" points=\"\n  917.479,1088.42 917.479,1445.72 1048.83,1445.72 1048.83,1088.42 917.479,1088.42 \n  \"/>\n<path clip-path=\"url(#clip072)\" d=\"\nM1048.83 874.036 L1048.83 1445.72 L1180.18 1445.72 L1180.18 874.036 L1048.83 874.036 L1048.83 874.036  Z\n  \" fill=\"#009af9\" fill-rule=\"evenodd\" fill-opacity=\"0.5\"/>\n<polyline clip-path=\"url(#clip072)\" style=\"stroke:#000000; stroke-linecap:butt; stroke-linejoin:round; stroke-width:4; stroke-opacity:0.5; fill:none\" points=\"\n  1048.83,874.036 1048.83,1445.72 1180.18,1445.72 1180.18,874.036 1048.83,874.036 \n  \"/>\n<path clip-path=\"url(#clip072)\" d=\"\nM1180.18 87.9763 L1180.18 1445.72 L1311.53 1445.72 L1311.53 87.9763 L1180.18 87.9763 L1180.18 87.9763  Z\n  \" fill=\"#009af9\" fill-rule=\"evenodd\" fill-opacity=\"0.5\"/>\n<polyline clip-path=\"url(#clip072)\" style=\"stroke:#000000; stroke-linecap:butt; stroke-linejoin:round; stroke-width:4; stroke-opacity:0.5; fill:none\" points=\"\n  1180.18,87.9763 1180.18,1445.72 1311.53,1445.72 1311.53,87.9763 1180.18,87.9763 \n  \"/>\n<path clip-path=\"url(#clip072)\" d=\"\nM1311.53 516.736 L1311.53 1445.72 L1442.88 1445.72 L1442.88 516.736 L1311.53 516.736 L1311.53 516.736  Z\n  \" fill=\"#009af9\" fill-rule=\"evenodd\" fill-opacity=\"0.5\"/>\n<polyline clip-path=\"url(#clip072)\" style=\"stroke:#000000; stroke-linecap:butt; stroke-linejoin:round; stroke-width:4; stroke-opacity:0.5; fill:none\" points=\"\n  1311.53,516.736 1311.53,1445.72 1442.88,1445.72 1442.88,516.736 1311.53,516.736 \n  \"/>\n<path clip-path=\"url(#clip072)\" d=\"\nM1442.88 516.736 L1442.88 1445.72 L1574.24 1445.72 L1574.24 516.736 L1442.88 516.736 L1442.88 516.736  Z\n  \" fill=\"#009af9\" fill-rule=\"evenodd\" fill-opacity=\"0.5\"/>\n<polyline clip-path=\"url(#clip072)\" style=\"stroke:#000000; stroke-linecap:butt; stroke-linejoin:round; stroke-width:4; stroke-opacity:0.5; fill:none\" points=\"\n  1442.88,516.736 1442.88,1445.72 1574.24,1445.72 1574.24,516.736 1442.88,516.736 \n  \"/>\n<path clip-path=\"url(#clip072)\" d=\"\nM1574.24 1302.8 L1574.24 1445.72 L1705.59 1445.72 L1705.59 1302.8 L1574.24 1302.8 L1574.24 1302.8  Z\n  \" fill=\"#009af9\" fill-rule=\"evenodd\" fill-opacity=\"0.5\"/>\n<polyline clip-path=\"url(#clip072)\" style=\"stroke:#000000; stroke-linecap:butt; stroke-linejoin:round; stroke-width:4; stroke-opacity:0.5; fill:none\" points=\"\n  1574.24,1302.8 1574.24,1445.72 1705.59,1445.72 1705.59,1302.8 1574.24,1302.8 \n  \"/>\n<path clip-path=\"url(#clip072)\" d=\"\nM1705.59 1302.8 L1705.59 1445.72 L1836.94 1445.72 L1836.94 1302.8 L1705.59 1302.8 L1705.59 1302.8  Z\n  \" fill=\"#009af9\" fill-rule=\"evenodd\" fill-opacity=\"0.5\"/>\n<polyline clip-path=\"url(#clip072)\" style=\"stroke:#000000; stroke-linecap:butt; stroke-linejoin:round; stroke-width:4; stroke-opacity:0.5; fill:none\" points=\"\n  1705.59,1302.8 1705.59,1445.72 1836.94,1445.72 1836.94,1302.8 1705.59,1302.8 \n  \"/>\n<path clip-path=\"url(#clip072)\" d=\"\nM1836.94 1302.8 L1836.94 1445.72 L1968.29 1445.72 L1968.29 1302.8 L1836.94 1302.8 L1836.94 1302.8  Z\n  \" fill=\"#009af9\" fill-rule=\"evenodd\" fill-opacity=\"0.5\"/>\n<polyline clip-path=\"url(#clip072)\" style=\"stroke:#000000; stroke-linecap:butt; stroke-linejoin:round; stroke-width:4; stroke-opacity:0.5; fill:none\" points=\"\n  1836.94,1302.8 1836.94,1445.72 1968.29,1445.72 1968.29,1302.8 1836.94,1302.8 \n  \"/>\n<path clip-path=\"url(#clip072)\" d=\"\nM1968.29 1445.72 L1968.29 1445.72 L2099.64 1445.72 L2099.64 1445.72 L1968.29 1445.72 L1968.29 1445.72  Z\n  \" fill=\"#009af9\" fill-rule=\"evenodd\" fill-opacity=\"0.5\"/>\n<polyline clip-path=\"url(#clip072)\" style=\"stroke:#000000; stroke-linecap:butt; stroke-linejoin:round; stroke-width:4; stroke-opacity:0.5; fill:none\" points=\"\n  1968.29,1445.72 1968.29,1445.72 2099.64,1445.72 1968.29,1445.72 \n  \"/>\n<path clip-path=\"url(#clip072)\" d=\"\nM2099.64 1374.26 L2099.64 1445.72 L2230.99 1445.72 L2230.99 1374.26 L2099.64 1374.26 L2099.64 1374.26  Z\n  \" fill=\"#009af9\" fill-rule=\"evenodd\" fill-opacity=\"0.5\"/>\n<polyline clip-path=\"url(#clip072)\" style=\"stroke:#000000; stroke-linecap:butt; stroke-linejoin:round; stroke-width:4; stroke-opacity:0.5; fill:none\" points=\"\n  2099.64,1374.26 2099.64,1445.72 2230.99,1445.72 2230.99,1374.26 2099.64,1374.26 \n  \"/>\n<circle clip-path=\"url(#clip072)\" style=\"fill:#009af9; stroke:none; fill-opacity:0\" cx=\"326.398\" cy=\"1302.8\" r=\"2\"/>\n<circle clip-path=\"url(#clip072)\" style=\"fill:#009af9; stroke:none; fill-opacity:0\" cx=\"457.749\" cy=\"1374.26\" r=\"2\"/>\n<circle clip-path=\"url(#clip072)\" style=\"fill:#009af9; stroke:none; fill-opacity:0\" cx=\"589.101\" cy=\"1445.72\" r=\"2\"/>\n<circle clip-path=\"url(#clip072)\" style=\"fill:#009af9; stroke:none; fill-opacity:0\" cx=\"720.452\" cy=\"1445.72\" r=\"2\"/>\n<circle clip-path=\"url(#clip072)\" style=\"fill:#009af9; stroke:none; fill-opacity:0\" cx=\"851.803\" cy=\"1231.34\" r=\"2\"/>\n<circle clip-path=\"url(#clip072)\" style=\"fill:#009af9; stroke:none; fill-opacity:0\" cx=\"983.155\" cy=\"1088.42\" r=\"2\"/>\n<circle clip-path=\"url(#clip072)\" style=\"fill:#009af9; stroke:none; fill-opacity:0\" cx=\"1114.51\" cy=\"874.036\" r=\"2\"/>\n<circle clip-path=\"url(#clip072)\" style=\"fill:#009af9; stroke:none; fill-opacity:0\" cx=\"1245.86\" cy=\"87.9763\" r=\"2\"/>\n<circle clip-path=\"url(#clip072)\" style=\"fill:#009af9; stroke:none; fill-opacity:0\" cx=\"1377.21\" cy=\"516.736\" r=\"2\"/>\n<circle clip-path=\"url(#clip072)\" style=\"fill:#009af9; stroke:none; fill-opacity:0\" cx=\"1508.56\" cy=\"516.736\" r=\"2\"/>\n<circle clip-path=\"url(#clip072)\" style=\"fill:#009af9; stroke:none; fill-opacity:0\" cx=\"1639.91\" cy=\"1302.8\" r=\"2\"/>\n<circle clip-path=\"url(#clip072)\" style=\"fill:#009af9; stroke:none; fill-opacity:0\" cx=\"1771.26\" cy=\"1302.8\" r=\"2\"/>\n<circle clip-path=\"url(#clip072)\" style=\"fill:#009af9; stroke:none; fill-opacity:0\" cx=\"1902.61\" cy=\"1302.8\" r=\"2\"/>\n<circle clip-path=\"url(#clip072)\" style=\"fill:#009af9; stroke:none; fill-opacity:0\" cx=\"2033.97\" cy=\"1445.72\" r=\"2\"/>\n<circle clip-path=\"url(#clip072)\" style=\"fill:#009af9; stroke:none; fill-opacity:0\" cx=\"2165.32\" cy=\"1374.26\" r=\"2\"/>\n<polyline clip-path=\"url(#clip072)\" style=\"stroke:#000000; stroke-linecap:butt; stroke-linejoin:round; stroke-width:12; stroke-opacity:1; fill:none\" stroke-dasharray=\"48, 30\" points=\"\n  1289.22,2925.65 1289.22,-1391.96 \n  \"/>\n</svg>\n"
     },
     "execution_count": 60,
     "metadata": {},
     "output_type": "execute_result"
    }
   ],
   "source": [
    "histogram(inflation_1, legend = false, alpha = 0.5, bins = 20) # a histogram gives a general idea of what the distribution of values for inflation looks like.\n",
    "plot!([mean(inflation_1)],  seriestype = :vline, lw = 3, colour = :black, ls = :dash) # plots the mean value"
   ]
  },
  {
   "cell_type": "markdown",
   "metadata": {},
   "source": [
    "## Growth rates"
   ]
  },
  {
   "cell_type": "markdown",
   "metadata": {},
   "source": [
    "Computing growth rates is quite important in macroeconomics. This is something that you will frequently encounter and it is important to know how to do this. The growth rate between subsequent two dates can be calculated as follows, \n",
    "\n",
    "$$\n",
    "\\left(\\frac{Y_{t} - Y_{t-1}}{Y_{t-1}}\\right) \\times 100 = \\left(\\frac{Y_{t}}{Y_{t-1}} - 1\\right) \\times 100 \n",
    "$$\n"
   ]
  },
  {
   "cell_type": "markdown",
   "metadata": {},
   "source": [
    "If you want to calculate the growth rate from one quarter to the same quarter next year then you should use, \n",
    "\n",
    "$$\n",
    "\\left(\\frac{Y_{t}}{Y_{t-4}} - 1\\right) \\times 100 \n",
    "$$\n",
    "\n",
    "In addition, we can calculate the monthly or quarterly growth rate at an annual rate, \n",
    "\n",
    "$$\n",
    "\\left(\\left[\\frac{Y_{t}}{Y_{t-1}}\\right]^{n} - 1\\right) \\times 100 \n",
    "$$\n",
    "where $n = 4$ represents quarterly growth and $n = 12$ gives monthly growth. "
   ]
  },
  {
   "cell_type": "markdown",
   "metadata": {},
   "source": [
    "Finally, we can calculate the average growth rate over $n$ years with the following formula, \n",
    "\n",
    "$$\n",
    "\\left(\\left[\\frac{Y_{t}}{Y_{t-n}}\\right]^{1/n} - 1\\right) \\times 100 \n",
    "$$"
   ]
  },
  {
   "cell_type": "markdown",
   "metadata": {},
   "source": [
    "### Examples of growth rate calculations"
   ]
  },
  {
   "cell_type": "markdown",
   "metadata": {},
   "source": [
    "Let us try calculating some growth rates with the data at hand. We will focus on GDP growth rates for this example, "
   ]
  },
  {
   "cell_type": "code",
   "execution_count": 64,
   "metadata": {},
   "outputs": [
    {
     "data": {
      "text/plain": [
       "4.414220084246427"
      ]
     },
     "execution_count": 64,
     "metadata": {},
     "output_type": "execute_result"
    }
   ],
   "source": [
    "gdp_first = sa_data[1, :gdp]; # first value of the GDP series\n",
    "gdp_second = sa_data[2, :gdp]; # second value of the GDP series\n",
    "\n",
    "gdp_growth_1 = ((gdp_second - gdp_first)/gdp_first) * 100 # using the formula for growth between two periods. "
   ]
  },
  {
   "cell_type": "markdown",
   "metadata": {},
   "source": [
    "There is an alternative way to calculate an approximation to the growth rate from above. We can simply take the natural logarithm of the two values and subtract them from each other. In other words we have that, \n",
    "\n",
    "$$\n",
    "\\left(\\frac{Y_{t}}{Y_{t-1}} - 1\\right) \\times 100 \\approx \\log(Y_{t}) - \\log(Y_{t-1}) \\times 100\n",
    "$$\n"
   ]
  },
  {
   "cell_type": "code",
   "execution_count": 66,
   "metadata": {},
   "outputs": [
    {
     "data": {
      "text/plain": [
       "4.319568788852912"
      ]
     },
     "execution_count": 66,
     "metadata": {},
     "output_type": "execute_result"
    }
   ],
   "source": [
    "(log(gdp_second) - log(gdp_first)) * 100"
   ]
  },
  {
   "cell_type": "markdown",
   "metadata": {},
   "source": [
    "The values are not exactly the same. This is simply an approximation which is often used in practice. "
   ]
  },
  {
   "cell_type": "markdown",
   "metadata": {},
   "source": [
    "## Data analysis"
   ]
  },
  {
   "cell_type": "markdown",
   "metadata": {},
   "source": [
    "# Math fundamentals"
   ]
  },
  {
   "cell_type": "markdown",
   "metadata": {},
   "source": [
    "Mathematics is so much easier when we get to use a computer. In this section I will introduce some of the basic mathematical theory that you need as a macroeconomist and then we will show you how that relates to programming. "
   ]
  },
  {
   "cell_type": "markdown",
   "metadata": {},
   "source": []
  }
 ],
 "metadata": {
  "kernelspec": {
   "display_name": "Julia 1.7.0-rc2",
   "language": "julia",
   "name": "julia-1.7"
  },
  "language_info": {
   "file_extension": ".jl",
   "mimetype": "application/julia",
   "name": "julia",
   "version": "1.7.0"
  },
  "orig_nbformat": 4
 },
 "nbformat": 4,
 "nbformat_minor": 2
}
